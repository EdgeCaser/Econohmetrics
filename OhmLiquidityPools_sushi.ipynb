{
 "cells": [
  {
   "cell_type": "code",
   "execution_count": 3,
   "metadata": {
    "collapsed": true,
    "pycharm": {
     "name": "#%%\n"
    }
   },
   "outputs": [],
   "source": [
    "from datetime import datetime\n",
    "from datetime import date\n",
    "from subgrounds.subgraph import SyntheticField, FieldPath\n",
    "from subgrounds.subgrounds import Subgrounds\n",
    "import pandas as pd\n",
    "import duckdb as db\n",
    "import  os as os"
   ]
  },
  {
   "cell_type": "markdown",
   "source": [
    "SUshiswap: https://thegraph.com/explorer/subgraphs/7h1x51fyT5KigAhXd8sdE3kzzxQDJxxz1y66LTFiC3mS?view=Playground\n",
    "Curve: https://thegraph.com/explorer/subgraphs/GAGwGKc4ArNKKq9eFTcwgd1UGymvqhTier9Npqo1YvZB?view=Playground\n",
    "Balancer: https://thegraph.com/explorer/subgraphs/GAGwGKc4ArNKKq9eFTcwgd1UGymvqhTier9Npqo1YvZB?view=Overview\n",
    "Uniswap: https://thegraph.com/explorer/subgraphs/ELUcwgpm14LKPLrBRuVvPvNKHQ9HvwmtKgKSH6123cr7?view=Playground"
   ],
   "metadata": {
    "collapsed": false,
    "pycharm": {
     "name": "#%% md\n"
    }
   }
  },
  {
   "cell_type": "code",
   "execution_count": 16,
   "outputs": [],
   "source": [
    "global file\n",
    "file = input('Selet a folder to save output') ##enter your file path here - the file is in the repo \"summary_stats.csv\".\n",
    "raw_file = file"
   ],
   "metadata": {
    "collapsed": false,
    "pycharm": {
     "name": "#%%\n"
    }
   }
  },
  {
   "cell_type": "markdown",
   "source": [
    "Sushiswap Contracts:\n",
    "    '0xfffae4a0f4ac251f4705717cd24cadccc9f33e06'  for Sushiswap OHM/WETH LP\n",
    "    '0x055475920a8c93CfFb64d039A8205F7AcC7722d3' for SushiSwap OHM/DAI LP not found in the same subgraph as above. Why?\n"
   ],
   "metadata": {
    "collapsed": false,
    "pycharm": {
     "name": "#%% md\n"
    }
   }
  },
  {
   "cell_type": "code",
   "execution_count": 34,
   "outputs": [
    {
     "ename": "KeyError",
     "evalue": "'TypeMeta.ObjectMeta.field: no field named dailySupplySideRevenueUSD for interface LiquidityPoolHourlySnapshot'",
     "output_type": "error",
     "traceback": [
      "\u001B[1;31m---------------------------------------------------------------------------\u001B[0m",
      "\u001B[1;31mAttributeError\u001B[0m                            Traceback (most recent call last)",
      "File \u001B[1;32m~\\PycharmProjects\\OhmLiquidityPools\\venv\\lib\\site-packages\\subgrounds\\subgraph\\fieldpath.py:485\u001B[0m, in \u001B[0;36mFieldPath.__getattribute__\u001B[1;34m(self, _FieldPath__name)\u001B[0m\n\u001B[0;32m    484\u001B[0m \u001B[38;5;28;01mtry\u001B[39;00m:\n\u001B[1;32m--> 485\u001B[0m   \u001B[38;5;28;01mmatch\u001B[39;00m \u001B[38;5;28;43msuper\u001B[39;49m\u001B[43m(\u001B[49m\u001B[43m)\u001B[49m\u001B[38;5;241;43m.\u001B[39;49m\u001B[38;5;21;43m__getattribute__\u001B[39;49m\u001B[43m(\u001B[49m\u001B[43m__name\u001B[49m\u001B[43m)\u001B[49m:\n\u001B[0;32m    486\u001B[0m     \u001B[38;5;28;01mcase\u001B[39;00m FieldPath() \u001B[38;5;241m|\u001B[39m SyntheticField() \u001B[38;5;241m|\u001B[39m \u001B[38;5;28;01mNone\u001B[39;00m:\n",
      "\u001B[1;31mAttributeError\u001B[0m: 'FieldPath' object has no attribute 'dailySupplySideRevenueUSD'",
      "\nDuring handling of the above exception, another exception occurred:\n",
      "\u001B[1;31mStopIteration\u001B[0m                             Traceback (most recent call last)",
      "File \u001B[1;32m~\\PycharmProjects\\OhmLiquidityPools\\venv\\lib\\site-packages\\subgrounds\\schema.py:202\u001B[0m, in \u001B[0;36mTypeMeta.ObjectMeta.field\u001B[1;34m(self, fname)\u001B[0m\n\u001B[0;32m    201\u001B[0m \u001B[38;5;28;01mtry\u001B[39;00m:\n\u001B[1;32m--> 202\u001B[0m     \u001B[38;5;28;01mreturn\u001B[39;00m \u001B[38;5;28;43mnext\u001B[39;49m\u001B[43m(\u001B[49m\n\u001B[0;32m    203\u001B[0m \u001B[43m        \u001B[49m\u001B[38;5;28;43mself\u001B[39;49m\u001B[38;5;241;43m.\u001B[39;49m\u001B[43mfields\u001B[49m\n\u001B[0;32m    204\u001B[0m \u001B[43m        \u001B[49m\u001B[38;5;241;43m|\u001B[39;49m\u001B[43m \u001B[49m\u001B[43mwhere\u001B[49m\u001B[43m(\u001B[49m\u001B[38;5;28;43;01mlambda\u001B[39;49;00m\u001B[43m \u001B[49m\u001B[43mfmeta\u001B[49m\u001B[43m:\u001B[49m\u001B[43m \u001B[49m\u001B[43mfmeta\u001B[49m\u001B[38;5;241;43m.\u001B[39;49m\u001B[43mname\u001B[49m\u001B[43m \u001B[49m\u001B[38;5;241;43m==\u001B[39;49m\u001B[43m \u001B[49m\u001B[43mfname\u001B[49m\u001B[43m)\u001B[49m\n\u001B[0;32m    205\u001B[0m \u001B[43m    \u001B[49m\u001B[43m)\u001B[49m\n\u001B[0;32m    206\u001B[0m \u001B[38;5;28;01mexcept\u001B[39;00m \u001B[38;5;167;01mStopIteration\u001B[39;00m:\n",
      "\u001B[1;31mStopIteration\u001B[0m: ",
      "\nDuring handling of the above exception, another exception occurred:\n",
      "\u001B[1;31mKeyError\u001B[0m                                  Traceback (most recent call last)",
      "Cell \u001B[1;32mIn[34], line 19\u001B[0m\n\u001B[0;32m      4\u001B[0m pools6 \u001B[38;5;241m=\u001B[39m sushi6\u001B[38;5;241m.\u001B[39mQuery\u001B[38;5;241m.\u001B[39mliquidityPoolHourlySnapshots(\n\u001B[0;32m      5\u001B[0m   orderBy\u001B[38;5;241m=\u001B[39m\u001B[38;5;124m'\u001B[39m\u001B[38;5;124mid\u001B[39m\u001B[38;5;124m'\u001B[39m,\n\u001B[0;32m      6\u001B[0m   orderDirection\u001B[38;5;241m=\u001B[39m\u001B[38;5;124m'\u001B[39m\u001B[38;5;124mdesc\u001B[39m\u001B[38;5;124m'\u001B[39m,\n\u001B[1;32m   (...)\u001B[0m\n\u001B[0;32m      9\u001B[0m     where\u001B[38;5;241m=\u001B[39m{ \u001B[38;5;124m'\u001B[39m\u001B[38;5;124mpool_in\u001B[39m\u001B[38;5;124m'\u001B[39m: [\u001B[38;5;124m'\u001B[39m\u001B[38;5;124m0xfffae4a0f4ac251f4705717cd24cadccc9f33e06\u001B[39m\u001B[38;5;124m'\u001B[39m,\u001B[38;5;124m'\u001B[39m\u001B[38;5;124m0x055475920a8c93CfFb64d039A8205F7AcC7722d3\u001B[39m\u001B[38;5;124m'\u001B[39m] }  \u001B[38;5;66;03m#'0xfffae4a0f4ac251f4705717cd24cadccc9f33e06'  for Olympus/Wrapped Ether LP / 0x055475920a8c93CfFb64d039A8205F7AcC7722d3 for OHM/DAI\u001B[39;00m\n\u001B[0;32m     10\u001B[0m )\n\u001B[0;32m     11\u001B[0m \u001B[38;5;66;03m#0x04F2694C8fcee23e8Fd0dfEA1d4f5Bb8c352111F\u001B[39;00m\n\u001B[0;32m     13\u001B[0m pool_data6 \u001B[38;5;241m=\u001B[39m sg\u001B[38;5;241m.\u001B[39mquery_df([\n\u001B[0;32m     14\u001B[0m     pools6\u001B[38;5;241m.\u001B[39mid\n\u001B[0;32m     15\u001B[0m     ,pools6\u001B[38;5;241m.\u001B[39mtimestamp\n\u001B[0;32m     16\u001B[0m     ,pools6\u001B[38;5;241m.\u001B[39mblockNumber\n\u001B[0;32m     17\u001B[0m     ,pools6\u001B[38;5;241m.\u001B[39mtotalValueLockedUSD\n\u001B[0;32m     18\u001B[0m     ,pools6\u001B[38;5;241m.\u001B[39mcumulativeSupplySideRevenueUSD\n\u001B[1;32m---> 19\u001B[0m     ,\u001B[43mpools6\u001B[49m\u001B[38;5;241;43m.\u001B[39;49m\u001B[43mdailySupplySideRevenueUSD\u001B[49m\n\u001B[0;32m     20\u001B[0m     ,pools6\u001B[38;5;241m.\u001B[39mcumulativeProtocolSideRevenueUSD\n\u001B[0;32m     21\u001B[0m     ,pools6\u001B[38;5;241m.\u001B[39mdailyProtocolSideRevenueUSD\n\u001B[0;32m     22\u001B[0m     ,pools6\u001B[38;5;241m.\u001B[39mcumulativeTotalRevenueUSD\n\u001B[0;32m     23\u001B[0m     ,pools6\u001B[38;5;241m.\u001B[39mdailyTotalRevenueUSD\n\u001B[0;32m     24\u001B[0m     ,pools6\u001B[38;5;241m.\u001B[39mdailyVolumeUSD\n\u001B[0;32m     25\u001B[0m     \u001B[38;5;66;03m#,pools6.dailyVolumeByTokenAmount\u001B[39;00m\n\u001B[0;32m     26\u001B[0m     \u001B[38;5;66;03m#,pools6.dailyVolumeByTokenUSD\u001B[39;00m\n\u001B[0;32m     27\u001B[0m     ,pools6\u001B[38;5;241m.\u001B[39mcumulativeVolumeUSD\n\u001B[0;32m     28\u001B[0m     \u001B[38;5;66;03m#,pools6.inputTokenBalances\u001B[39;00m\n\u001B[0;32m     29\u001B[0m     \u001B[38;5;66;03m#,pools6.inputTokenWeights\u001B[39;00m\n\u001B[0;32m     30\u001B[0m     ,pools6\u001B[38;5;241m.\u001B[39moutputTokenSupply\n\u001B[0;32m     31\u001B[0m     ,pools6\u001B[38;5;241m.\u001B[39moutputTokenPriceUSD\n\u001B[0;32m     32\u001B[0m     ,pools6\u001B[38;5;241m.\u001B[39mstakedOutputTokenAmount\n\u001B[0;32m     33\u001B[0m     ,pools6\u001B[38;5;241m.\u001B[39mrewardTokenEmissionsAmount\n\u001B[0;32m     34\u001B[0m     \u001B[38;5;66;03m#,pools6.rewardTokenEmissionsUSD\u001B[39;00m\n\u001B[0;32m     35\u001B[0m     ,pools6\u001B[38;5;241m.\u001B[39mpool\u001B[38;5;241m.\u001B[39mname\n\u001B[0;32m     36\u001B[0m     ,pools6\u001B[38;5;241m.\u001B[39mpool\u001B[38;5;241m.\u001B[39msymbol\n\u001B[0;32m     37\u001B[0m     ,pools6\u001B[38;5;241m.\u001B[39mpool\u001B[38;5;241m.\u001B[39moutputToken\n\u001B[0;32m     38\u001B[0m ])\n\u001B[0;32m     40\u001B[0m pool_datadb6 \u001B[38;5;241m=\u001B[39m db\u001B[38;5;241m.\u001B[39mquery(\u001B[38;5;124m\"\u001B[39m\u001B[38;5;124mselect \u001B[39m\u001B[38;5;124m\"\u001B[39m\n\u001B[0;32m     41\u001B[0m                    \u001B[38;5;124m\"\u001B[39m\u001B[38;5;124m    * \u001B[39m\u001B[38;5;124m\"\u001B[39m\n\u001B[0;32m     42\u001B[0m                         \u001B[38;5;124m\"\u001B[39m\u001B[38;5;124m ,to_timestamp(liquidityPoolDailySnapshots_timestamp) \u001B[39m\u001B[38;5;124m\"\u001B[39m\n\u001B[1;32m   (...)\u001B[0m\n\u001B[0;32m     47\u001B[0m                    \u001B[38;5;66;03m#\" limit 100 \"\u001B[39;00m\n\u001B[0;32m     48\u001B[0m                    )\u001B[38;5;241m.\u001B[39mdf()\n\u001B[0;32m     50\u001B[0m pool_datadb6\u001B[38;5;241m.\u001B[39mhead(\u001B[38;5;241m1000\u001B[39m)\n",
      "File \u001B[1;32m~\\PycharmProjects\\OhmLiquidityPools\\venv\\lib\\site-packages\\subgrounds\\subgraph\\fieldpath.py:491\u001B[0m, in \u001B[0;36mFieldPath.__getattribute__\u001B[1;34m(self, _FieldPath__name)\u001B[0m\n\u001B[0;32m    489\u001B[0m       \u001B[38;5;28;01mreturn\u001B[39;00m value\n\u001B[0;32m    490\u001B[0m \u001B[38;5;28;01mexcept\u001B[39;00m \u001B[38;5;167;01mAttributeError\u001B[39;00m:\n\u001B[1;32m--> 491\u001B[0m   \u001B[38;5;28;01mreturn\u001B[39;00m \u001B[38;5;28;43mself\u001B[39;49m\u001B[38;5;241;43m.\u001B[39;49m\u001B[43m_select\u001B[49m\u001B[43m(\u001B[49m\u001B[43m__name\u001B[49m\u001B[43m)\u001B[49m\n",
      "File \u001B[1;32m~\\PycharmProjects\\OhmLiquidityPools\\venv\\lib\\site-packages\\subgrounds\\subgraph\\fieldpath.py:399\u001B[0m, in \u001B[0;36mFieldPath._select\u001B[1;34m(self, name)\u001B[0m\n\u001B[0;32m    396\u001B[0m   \u001B[38;5;28;01mraise\u001B[39;00m \u001B[38;5;167;01mTypeError\u001B[39;00m(\u001B[38;5;124mf\u001B[39m\u001B[38;5;124m\"\u001B[39m\u001B[38;5;124mFieldPath: path \u001B[39m\u001B[38;5;132;01m{\u001B[39;00m\u001B[38;5;28mself\u001B[39m\u001B[38;5;132;01m}\u001B[39;00m\u001B[38;5;124m ends with a scalar field! cannot select field \u001B[39m\u001B[38;5;132;01m{\u001B[39;00mname\u001B[38;5;132;01m}\u001B[39;00m\u001B[38;5;124m\"\u001B[39m)\n\u001B[0;32m    398\u001B[0m \u001B[38;5;28;01mcase\u001B[39;00m TypeMeta\u001B[38;5;241m.\u001B[39mObjectMeta() \u001B[38;5;241m|\u001B[39m TypeMeta\u001B[38;5;241m.\u001B[39mInterfaceMeta() \u001B[38;5;28;01mas\u001B[39;00m obj:\n\u001B[1;32m--> 399\u001B[0m   field \u001B[38;5;241m=\u001B[39m \u001B[43mobj\u001B[49m\u001B[38;5;241;43m.\u001B[39;49m\u001B[43mfield\u001B[49m\u001B[43m(\u001B[49m\u001B[43mname\u001B[49m\u001B[43m)\u001B[49m\n\u001B[0;32m    401\u001B[0m   \u001B[38;5;28;01mmatch\u001B[39;00m \u001B[38;5;28mself\u001B[39m\u001B[38;5;241m.\u001B[39m_schema\u001B[38;5;241m.\u001B[39mtype_of_typeref(field\u001B[38;5;241m.\u001B[39mtype_):\n\u001B[0;32m    402\u001B[0m     \u001B[38;5;28;01mcase\u001B[39;00m TypeMeta\u001B[38;5;241m.\u001B[39mObjectMeta() \u001B[38;5;241m|\u001B[39m TypeMeta\u001B[38;5;241m.\u001B[39mInterfaceMeta() \u001B[38;5;241m|\u001B[39m TypeMeta\u001B[38;5;241m.\u001B[39mEnumMeta() \u001B[38;5;241m|\u001B[39m TypeMeta\u001B[38;5;241m.\u001B[39mScalarMeta():\n\u001B[0;32m    403\u001B[0m       \u001B[38;5;66;03m# Copy current path and append newly selected field\u001B[39;00m\n",
      "File \u001B[1;32m~\\PycharmProjects\\OhmLiquidityPools\\venv\\lib\\site-packages\\subgrounds\\schema.py:207\u001B[0m, in \u001B[0;36mTypeMeta.ObjectMeta.field\u001B[1;34m(self, fname)\u001B[0m\n\u001B[0;32m    202\u001B[0m     \u001B[38;5;28;01mreturn\u001B[39;00m \u001B[38;5;28mnext\u001B[39m(\n\u001B[0;32m    203\u001B[0m         \u001B[38;5;28mself\u001B[39m\u001B[38;5;241m.\u001B[39mfields\n\u001B[0;32m    204\u001B[0m         \u001B[38;5;241m|\u001B[39m where(\u001B[38;5;28;01mlambda\u001B[39;00m fmeta: fmeta\u001B[38;5;241m.\u001B[39mname \u001B[38;5;241m==\u001B[39m fname)\n\u001B[0;32m    205\u001B[0m     )\n\u001B[0;32m    206\u001B[0m \u001B[38;5;28;01mexcept\u001B[39;00m \u001B[38;5;167;01mStopIteration\u001B[39;00m:\n\u001B[1;32m--> 207\u001B[0m     \u001B[38;5;28;01mraise\u001B[39;00m \u001B[38;5;167;01mKeyError\u001B[39;00m(\u001B[38;5;124mf\u001B[39m\u001B[38;5;124m'\u001B[39m\u001B[38;5;124mTypeMeta.ObjectMeta.field: no field named \u001B[39m\u001B[38;5;132;01m{\u001B[39;00mfname\u001B[38;5;132;01m}\u001B[39;00m\u001B[38;5;124m for interface \u001B[39m\u001B[38;5;132;01m{\u001B[39;00m\u001B[38;5;28mself\u001B[39m\u001B[38;5;241m.\u001B[39mname\u001B[38;5;132;01m}\u001B[39;00m\u001B[38;5;124m'\u001B[39m)\n",
      "\u001B[1;31mKeyError\u001B[0m: 'TypeMeta.ObjectMeta.field: no field named dailySupplySideRevenueUSD for interface LiquidityPoolHourlySnapshot'"
     ]
    }
   ],
   "source": [
    "sg = Subgrounds()\n",
    "sushi6 = sg.load_api('https://gateway.thegraph.com/api/b0299a6e1895566f98d87e0711fa24ca/subgraphs/id/7h1x51fyT5KigAhXd8sdE3kzzxQDJxxz1y66LTFiC3mS')\n",
    "\n",
    "pools6 = sushi6.Query.liquidityPoolDailySnapshots(\n",
    "  orderBy='id',\n",
    "  orderDirection='desc',\n",
    "    #skip =999,\n",
    "  first=1000,\n",
    "    where={ 'pool_in': ['0xfffae4a0f4ac251f4705717cd24cadccc9f33e06','0x055475920a8c93CfFb64d039A8205F7AcC7722d3'] }  #'0xfffae4a0f4ac251f4705717cd24cadccc9f33e06'  for Olympus/Wrapped Ether LP / 0x055475920a8c93CfFb64d039A8205F7AcC7722d3 for OHM/DAI\n",
    ")\n",
    "#0x04F2694C8fcee23e8Fd0dfEA1d4f5Bb8c352111F\n",
    "\n",
    "pool_data6 = sg.query_df([\n",
    "    pools6.id\n",
    "    ,pools6.timestamp\n",
    "    ,pools6.blockNumber\n",
    "    ,pools6.totalValueLockedUSD\n",
    "    ,pools6.cumulativeSupplySideRevenueUSD\n",
    "    ,pools6.dailySupplySideRevenueUSD\n",
    "    ,pools6.cumulativeProtocolSideRevenueUSD\n",
    "    ,pools6.dailyProtocolSideRevenueUSD\n",
    "    ,pools6.cumulativeTotalRevenueUSD\n",
    "    ,pools6.dailyTotalRevenueUSD\n",
    "    ,pools6.dailyVolumeUSD\n",
    "    #,pools6.dailyVolumeByTokenAmount\n",
    "    #,pools6.dailyVolumeByTokenUSD\n",
    "    ,pools6.cumulativeVolumeUSD\n",
    "    #,pools6.inputTokenBalances\n",
    "    #,pools6.inputTokenWeights\n",
    "    ,pools6.outputTokenSupply\n",
    "    ,pools6.outputTokenPriceUSD\n",
    "    ,pools6.stakedOutputTokenAmount\n",
    "    ,pools6.rewardTokenEmissionsAmount\n",
    "    #,pools6.rewardTokenEmissionsUSD\n",
    "    ,pools6.pool.name\n",
    "    ,pools6.pool.symbol\n",
    "    ,pools6.pool.outputToken\n",
    "])\n",
    "\n",
    "pool_datadb6 = db.query(\"select \"\n",
    "                   \"    * \"\n",
    "                        \" ,to_timestamp(liquidityPoolDailySnapshots_timestamp) \"\n",
    "                   \"From pool_data6 \"\n",
    "                       \"\"\n",
    "                   #\"where lower(liquidityPools_name) like lower('%olympus%') \"\n",
    "                    #    \"or lower(pairs_token1_symbol) like lower('%OHM%')  \"\n",
    "                   #\" limit 100 \"\n",
    "                   ).df()\n",
    "\n",
    "pool_datadb6.head(1000)"
   ],
   "metadata": {
    "collapsed": false,
    "pycharm": {
     "name": "#%%\n"
    }
   }
  },
  {
   "cell_type": "code",
   "execution_count": null,
   "outputs": [],
   "source": [],
   "metadata": {
    "collapsed": false,
    "pycharm": {
     "name": "#%%\n"
    }
   }
  },
  {
   "cell_type": "code",
   "execution_count": null,
   "outputs": [],
   "source": [
    "print(len(pool_datadb6))"
   ],
   "metadata": {
    "collapsed": false,
    "pycharm": {
     "name": "#%%\n"
    }
   }
  },
  {
   "cell_type": "code",
   "execution_count": null,
   "outputs": [],
   "source": [
    "sushi7 = sg.load_api('https://gateway.thegraph.com/api/b0299a6e1895566f98d87e0711fa24ca/subgraphs/id/7h1x51fyT5KigAhXd8sdE3kzzxQDJxxz1y66LTFiC3mS')\n",
    "listLength=1000\n",
    "ticker = 1\n",
    "trigger=0\n",
    "pool_list = pd.DataFrame()\n",
    "pool_list=pd.concat([pool_list, pool_datadb6])\n",
    "\n",
    "\n",
    "#0x04F2694C8fcee23e8Fd0dfEA1d4f5Bb8c352111F\n",
    "while trigger==0:\n",
    "    while ticker < 500:\n",
    "        listLength=0\n",
    "        skipValue = (ticker-1)*(1000)\n",
    "        pools7 = sushi7.Query.liquidityPoolDailySnapshots(\n",
    "            orderBy='id',\n",
    "            orderDirection='desc',\n",
    "            skip =(skipValue),\n",
    "            first=1000,\n",
    "            where=[\n",
    "              sushi7.Query.liquidityPoolDailySnapshots.timestamp > 1604302679\n",
    "          ]\n",
    "        )\n",
    "\n",
    "        pool_data7 = sg.query_df([\n",
    "            pools7.id\n",
    "            ,pools7.timestamp\n",
    "            ,pools7.blockNumber\n",
    "            ,pools7.totalValueLockedUSD\n",
    "            ,pools7.cumulativeSupplySideRevenueUSD\n",
    "            ,pools7.dailySupplySideRevenueUSD\n",
    "            ,pools7.cumulativeProtocolSideRevenueUSD\n",
    "            ,pools7.dailyProtocolSideRevenueUSD\n",
    "            ,pools7.cumulativeTotalRevenueUSD\n",
    "            ,pools7.dailyTotalRevenueUSD\n",
    "            ,pools7.dailyVolumeUSD\n",
    "            #,pools6.dailyVolumeByTokenAmount\n",
    "            #,pools6.dailyVolumeByTokenUSD\n",
    "            ,pools7.cumulativeVolumeUSD\n",
    "            #,pools6.inputTokenBalances\n",
    "            #,pools6.inputTokenWeights\n",
    "            ,pools7.outputTokenSupply\n",
    "            ,pools7.outputTokenPriceUSD\n",
    "            ,pools7.stakedOutputTokenAmount\n",
    "            ,pools7.rewardTokenEmissionsAmount\n",
    "            #,pools6.rewardTokenEmissionsUSD\n",
    "            ,pools7.pool.name\n",
    "            ,pools7.pool.symbol\n",
    "            ,pools7.pool.outputToken\n",
    "        ])\n",
    "\n",
    "        pool_datadb7 = db.query(\"select \"\n",
    "                       \"    * \"\n",
    "                            \" ,to_timestamp(liquidityPoolDailySnapshots_timestamp) dateTime \"\n",
    "                       \"From pool_data7 \"\n",
    "                       #\"where lower(liquidityPools_name) like lower('%olympus%') \"\n",
    "                        #    \"or lower(pairs_token1_symbol) like lower('%OHM%')  \"\n",
    "                       #\" limit 100 \"\n",
    "                       ).df()\n",
    "\n",
    "        pool_list=pd.concat([pool_list, pool_datadb7])\n",
    "        ticker = ticker+1\n",
    "        pool_list_length = len(pool_list)\n",
    "        listLength = len(pool_datadb7)\n",
    "        recordTimestamp = pool_list.iat[ticker,1]\n",
    "        value1 = pool_list.iat[ticker,24]\n",
    "        #pool_datadb7 = pd.DataFrame(None)\n",
    "\n",
    "        print(\"ticker: \", ticker,\" - records collected: \", listLength, \" - token: \",value1 , \" - pool list length: \", pool_list_length, \" - record from: \", recordTimestamp)\n",
    "        if listLength<1000:\n",
    "            trigger=1\n",
    "\n",
    "print('done')"
   ],
   "metadata": {
    "collapsed": false,
    "pycharm": {
     "name": "#%%\n"
    }
   }
  },
  {
   "cell_type": "code",
   "execution_count": null,
   "outputs": [],
   "source": [
    "path =file+'/sushi_pools '+str(date.today().strftime(\"%b-%d-%Y-%H-%m \"))+str(pool_list_length)+'records.csv'\n",
    "pool_datadb7.to_csv(path, index = False)"
   ],
   "metadata": {
    "collapsed": false,
    "pycharm": {
     "name": "#%%\n"
    }
   }
  },
  {
   "cell_type": "code",
   "execution_count": null,
   "outputs": [],
   "source": [
    "print(ticker)"
   ],
   "metadata": {
    "collapsed": false,
    "pycharm": {
     "name": "#%%\n"
    }
   }
  },
  {
   "cell_type": "code",
   "execution_count": null,
   "outputs": [],
   "source": [
    "pools7 = sushi7.Query.liquidityPoolDailySnapshots(\n",
    "  orderBy='id',\n",
    "  orderDirection='desc',\n",
    "    skip =(1000)*(3-1),\n",
    "  first=1000,\n",
    "  #where=[\n",
    "      sushi7.Query.liquidityPoolDailySnapshots.pool.id == \"0x055475920a8c93CfFb64d039A8205F7AcC7722d3\"\n",
    "   #sushi3.Query.tokenPairs.pair.token0.symbol.contains_nocase 'olympus'\n",
    "    #sushi3.Query.tokenPairs.id == '0xff20817765cb7f73d4bde2e66e067e58d11095c2:1'\n",
    "  ]\n",
    ")\n",
    "\n",
    "pool_data7 = sg.query_df([\n",
    "    pools7.id\n",
    "    ,pools7.timestamp\n",
    "    ,pools7.blockNumber\n",
    "    ,pools7.totalValueLockedUSD\n",
    "    ,pools7.cumulativeSupplySideRevenueUSD\n",
    "    ,pools7.dailySupplySideRevenueUSD\n",
    "    ,pools7.cumulativeProtocolSideRevenueUSD\n",
    "    ,pools7.dailyProtocolSideRevenueUSD\n",
    "    ,pools7.cumulativeTotalRevenueUSD\n",
    "    ,pools7.dailyTotalRevenueUSD\n",
    "    ,pools7.dailyVolumeUSD\n",
    "    ,pools7.cumulativeVolumeUSD\n",
    "    ,pools7.outputTokenSupply\n",
    "    ,pools7.outputTokenPriceUSD\n",
    "    ,pools7.stakedOutputTokenAmount\n",
    "    ,pools7.rewardTokenEmissionsAmount\n",
    "    ,pools7.pool.name\n",
    "    ,pools7.pool.symbol\n",
    "    ,pools7.pool.outputToken\n",
    "])"
   ],
   "metadata": {
    "collapsed": false,
    "pycharm": {
     "name": "#%%\n"
    }
   }
  },
  {
   "cell_type": "code",
   "execution_count": null,
   "outputs": [],
   "source": [
    "    pool_datadb7 = db.query(\"select \"\n",
    "                   \"    * \"\n",
    "                        \" ,to_timestamp(liquidityPoolDailySnapshots_timestamp) dateTime \"\n",
    "                   \"From pool_data7 \"\n",
    "                   #\"where lower(liquidityPools_name) like lower('%olympus%') \"\n",
    "                    #    \"or lower(pairs_token1_symbol) like lower('%OHM%')  \"\n",
    "                   #\" limit 100 \"\n",
    "                   ).df()"
   ],
   "metadata": {
    "collapsed": false,
    "pycharm": {
     "name": "#%%\n"
    }
   }
  },
  {
   "cell_type": "code",
   "execution_count": null,
   "outputs": [],
   "source": [
    "sushi8 = sg.load_api('https://gateway.thegraph.com/api/b0299a6e1895566f98d87e0711fa24ca/subgraphs/id/Ei5typKWPepPSgqkaKf3p5bPhgJesnu1RuRpyt69Pcrx')"
   ],
   "metadata": {
    "collapsed": false,
    "pycharm": {
     "name": "#%%\n"
    }
   }
  },
  {
   "cell_type": "code",
   "execution_count": 36,
   "outputs": [
    {
     "data": {
      "text/plain": "                       liquidityPoolDailySnapshots_id  \\\n0    0xc45d42f801105e861e86658648e3678ad7aa70f9-19374   \n1    0xc45d42f801105e861e86658648e3678ad7aa70f9-19373   \n2    0xc45d42f801105e861e86658648e3678ad7aa70f9-19372   \n3    0xc45d42f801105e861e86658648e3678ad7aa70f9-19371   \n4    0xc45d42f801105e861e86658648e3678ad7aa70f9-19370   \n..                                                ...   \n127  0xc45d42f801105e861e86658648e3678ad7aa70f9-19247   \n128  0xc45d42f801105e861e86658648e3678ad7aa70f9-19246   \n129  0xc45d42f801105e861e86658648e3678ad7aa70f9-19245   \n130  0xc45d42f801105e861e86658648e3678ad7aa70f9-19244   \n131  0xc45d42f801105e861e86658648e3678ad7aa70f9-19243   \n\n     liquidityPoolDailySnapshots_timestamp  \\\n0                               1673951459   \n1                               1673845631   \n2                               1673807099   \n3                               1673723495   \n4                               1673638727   \n..                                     ...   \n127                             1663027152   \n128                             1662940170   \n129                             1662853783   \n130                             1662767910   \n131                             1662680589   \n\n     liquidityPoolDailySnapshots_blockNumber  \\\n0                                   16425934   \n1                                   16417160   \n2                                   16413972   \n3                                   16407053   \n4                                   16400013   \n..                                       ...   \n127                                 15523800   \n128                                 15517711   \n129                                 15511648   \n130                                 15505644   \n131                                 15499508   \n\n     liquidityPoolDailySnapshots_totalValueLockedUSD  \\\n0                                       9.390384e+04   \n1                                       9.480465e+04   \n2                                       9.480587e+04   \n3                                       9.423038e+04   \n4                                       9.244658e+04   \n..                                               ...   \n127                                     5.533360e+07   \n128                                     5.563470e+07   \n129                                     5.526090e+07   \n130                                     5.439070e+07   \n131                                     4.419881e+07   \n\n     liquidityPoolDailySnapshots_cumulativeSupplySideRevenueUSD  \\\n0                                        458168.976264            \n1                                        458168.976264            \n2                                        458168.976264            \n3                                        458168.803083            \n4                                        458168.657361            \n..                                                 ...            \n127                                      156698.208775            \n128                                      154068.859001            \n129                                      152396.661179            \n130                                      150743.120530            \n131                                      148797.564966            \n\n     liquidityPoolDailySnapshots_dailySupplySideRevenueUSD  \\\n0                                             0.000000       \n1                                             0.000000       \n2                                             0.173181       \n3                                             0.145722       \n4                                             0.000000       \n..                                                 ...       \n127                                        2629.349774       \n128                                        1672.197822       \n129                                        1653.540649       \n130                                        1945.555564       \n131                                        4007.290148       \n\n     liquidityPoolDailySnapshots_cumulativeProtocolSideRevenueUSD  \\\n0                                        458168.970264              \n1                                        458168.970264              \n2                                        458168.970264              \n3                                        458168.797083              \n4                                        458168.651361              \n..                                                 ...              \n127                                      156698.202776              \n128                                      154068.853001              \n129                                      152396.655179              \n130                                      150743.114530              \n131                                      148797.558966              \n\n     liquidityPoolDailySnapshots_dailyProtocolSideRevenueUSD  \\\n0                                             0.000000         \n1                                             0.000000         \n2                                             0.173181         \n3                                             0.145722         \n4                                             0.000000         \n..                                                 ...         \n127                                        2629.349774         \n128                                        1672.197822         \n129                                        1653.540649         \n130                                        1945.555564         \n131                                        4007.290148         \n\n     liquidityPoolDailySnapshots_cumulativeTotalRevenueUSD  \\\n0                                        916337.946528       \n1                                        916337.946528       \n2                                        916337.946528       \n3                                        916337.600167       \n4                                        916337.308722       \n..                                                 ...       \n127                                      313396.411551       \n128                                      308137.712002       \n129                                      304793.316358       \n130                                      301486.235061       \n131                                      297595.123932       \n\n     liquidityPoolDailySnapshots_dailyTotalRevenueUSD  ...  \\\n0                                            0.000000  ...   \n1                                            0.000000  ...   \n2                                            0.346361  ...   \n3                                            0.291445  ...   \n4                                            0.000000  ...   \n..                                                ...  ...   \n127                                       5258.699549  ...   \n128                                       3344.395644  ...   \n129                                       3307.081298  ...   \n130                                       3891.111128  ...   \n131                                       8014.580295  ...   \n\n     liquidityPoolDailySnapshots_rewardTokenEmissionsAmount  \\\n0                                         7.133689e+15        \n1                                         7.133689e+15        \n2                                         7.133689e+15        \n3                                         7.133689e+15        \n4                                         7.133689e+15        \n..                                                 ...        \n127                                       3.502699e+19        \n128                                       3.502699e+19        \n129                                       3.502699e+19        \n130                                       3.502699e+19        \n131                                       3.502699e+19        \n\n     liquidityPoolDailySnapshots_pool_name  \\\n0                       50OHM-25DAI-25WETH   \n1                       50OHM-25DAI-25WETH   \n2                       50OHM-25DAI-25WETH   \n3                       50OHM-25DAI-25WETH   \n4                       50OHM-25DAI-25WETH   \n..                                     ...   \n127                     50OHM-25DAI-25WETH   \n128                     50OHM-25DAI-25WETH   \n129                     50OHM-25DAI-25WETH   \n130                     50OHM-25DAI-25WETH   \n131                     50OHM-25DAI-25WETH   \n\n     liquidityPoolDailySnapshots_pool_symbol  \\\n0                         50OHM-25DAI-25WETH   \n1                         50OHM-25DAI-25WETH   \n2                         50OHM-25DAI-25WETH   \n3                         50OHM-25DAI-25WETH   \n4                         50OHM-25DAI-25WETH   \n..                                       ...   \n127                       50OHM-25DAI-25WETH   \n128                       50OHM-25DAI-25WETH   \n129                       50OHM-25DAI-25WETH   \n130                       50OHM-25DAI-25WETH   \n131                       50OHM-25DAI-25WETH   \n\n     liquidityPoolDailySnapshots_pool_outputToken_id  \\\n0         0xc45d42f801105e861e86658648e3678ad7aa70f9   \n1         0xc45d42f801105e861e86658648e3678ad7aa70f9   \n2         0xc45d42f801105e861e86658648e3678ad7aa70f9   \n3         0xc45d42f801105e861e86658648e3678ad7aa70f9   \n4         0xc45d42f801105e861e86658648e3678ad7aa70f9   \n..                                               ...   \n127       0xc45d42f801105e861e86658648e3678ad7aa70f9   \n128       0xc45d42f801105e861e86658648e3678ad7aa70f9   \n129       0xc45d42f801105e861e86658648e3678ad7aa70f9   \n130       0xc45d42f801105e861e86658648e3678ad7aa70f9   \n131       0xc45d42f801105e861e86658648e3678ad7aa70f9   \n\n     liquidityPoolDailySnapshots_pool_outputToken_name  \\\n0                                   50OHM-25DAI-25WETH   \n1                                   50OHM-25DAI-25WETH   \n2                                   50OHM-25DAI-25WETH   \n3                                   50OHM-25DAI-25WETH   \n4                                   50OHM-25DAI-25WETH   \n..                                                 ...   \n127                                 50OHM-25DAI-25WETH   \n128                                 50OHM-25DAI-25WETH   \n129                                 50OHM-25DAI-25WETH   \n130                                 50OHM-25DAI-25WETH   \n131                                 50OHM-25DAI-25WETH   \n\n     liquidityPoolDailySnapshots_pool_outputToken_symbol  \\\n0                                   50OHM-25DAI-25WETH     \n1                                   50OHM-25DAI-25WETH     \n2                                   50OHM-25DAI-25WETH     \n3                                   50OHM-25DAI-25WETH     \n4                                   50OHM-25DAI-25WETH     \n..                                                 ...     \n127                                 50OHM-25DAI-25WETH     \n128                                 50OHM-25DAI-25WETH     \n129                                 50OHM-25DAI-25WETH     \n130                                 50OHM-25DAI-25WETH     \n131                                 50OHM-25DAI-25WETH     \n\n    liquidityPoolDailySnapshots_pool_outputToken_decimals  \\\n0                                                   18      \n1                                                   18      \n2                                                   18      \n3                                                   18      \n4                                                   18      \n..                                                 ...      \n127                                                 18      \n128                                                 18      \n129                                                 18      \n130                                                 18      \n131                                                 18      \n\n    liquidityPoolDailySnapshots_pool_outputToken_lastPriceUSD  \\\n0                                            18.934531          \n1                                            18.934531          \n2                                            18.934531          \n3                                            18.934531          \n4                                            18.934531          \n..                                                 ...          \n127                                          18.934531          \n128                                          18.934531          \n129                                          18.934531          \n130                                          18.934531          \n131                                          18.934531          \n\n    liquidityPoolDailySnapshots_pool_outputToken_lastPriceBlockNumber  \\\n0                                             16424842                  \n1                                             16424842                  \n2                                             16424842                  \n3                                             16424842                  \n4                                             16424842                  \n..                                                 ...                  \n127                                           16424842                  \n128                                           16424842                  \n129                                           16424842                  \n130                                           16424842                  \n131                                           16424842                  \n\n               dateTime  \n0   2023-01-17 10:30:59  \n1   2023-01-16 05:07:11  \n2   2023-01-15 18:24:59  \n3   2023-01-14 19:11:35  \n4   2023-01-13 19:38:47  \n..                  ...  \n127 2022-09-12 23:59:12  \n128 2022-09-11 23:49:30  \n129 2022-09-10 23:49:43  \n130 2022-09-09 23:58:30  \n131 2022-09-08 23:43:09  \n\n[132 rows x 25 columns]",
      "text/html": "<div>\n<style scoped>\n    .dataframe tbody tr th:only-of-type {\n        vertical-align: middle;\n    }\n\n    .dataframe tbody tr th {\n        vertical-align: top;\n    }\n\n    .dataframe thead th {\n        text-align: right;\n    }\n</style>\n<table border=\"1\" class=\"dataframe\">\n  <thead>\n    <tr style=\"text-align: right;\">\n      <th></th>\n      <th>liquidityPoolDailySnapshots_id</th>\n      <th>liquidityPoolDailySnapshots_timestamp</th>\n      <th>liquidityPoolDailySnapshots_blockNumber</th>\n      <th>liquidityPoolDailySnapshots_totalValueLockedUSD</th>\n      <th>liquidityPoolDailySnapshots_cumulativeSupplySideRevenueUSD</th>\n      <th>liquidityPoolDailySnapshots_dailySupplySideRevenueUSD</th>\n      <th>liquidityPoolDailySnapshots_cumulativeProtocolSideRevenueUSD</th>\n      <th>liquidityPoolDailySnapshots_dailyProtocolSideRevenueUSD</th>\n      <th>liquidityPoolDailySnapshots_cumulativeTotalRevenueUSD</th>\n      <th>liquidityPoolDailySnapshots_dailyTotalRevenueUSD</th>\n      <th>...</th>\n      <th>liquidityPoolDailySnapshots_rewardTokenEmissionsAmount</th>\n      <th>liquidityPoolDailySnapshots_pool_name</th>\n      <th>liquidityPoolDailySnapshots_pool_symbol</th>\n      <th>liquidityPoolDailySnapshots_pool_outputToken_id</th>\n      <th>liquidityPoolDailySnapshots_pool_outputToken_name</th>\n      <th>liquidityPoolDailySnapshots_pool_outputToken_symbol</th>\n      <th>liquidityPoolDailySnapshots_pool_outputToken_decimals</th>\n      <th>liquidityPoolDailySnapshots_pool_outputToken_lastPriceUSD</th>\n      <th>liquidityPoolDailySnapshots_pool_outputToken_lastPriceBlockNumber</th>\n      <th>dateTime</th>\n    </tr>\n  </thead>\n  <tbody>\n    <tr>\n      <th>0</th>\n      <td>0xc45d42f801105e861e86658648e3678ad7aa70f9-19374</td>\n      <td>1673951459</td>\n      <td>16425934</td>\n      <td>9.390384e+04</td>\n      <td>458168.976264</td>\n      <td>0.000000</td>\n      <td>458168.970264</td>\n      <td>0.000000</td>\n      <td>916337.946528</td>\n      <td>0.000000</td>\n      <td>...</td>\n      <td>7.133689e+15</td>\n      <td>50OHM-25DAI-25WETH</td>\n      <td>50OHM-25DAI-25WETH</td>\n      <td>0xc45d42f801105e861e86658648e3678ad7aa70f9</td>\n      <td>50OHM-25DAI-25WETH</td>\n      <td>50OHM-25DAI-25WETH</td>\n      <td>18</td>\n      <td>18.934531</td>\n      <td>16424842</td>\n      <td>2023-01-17 10:30:59</td>\n    </tr>\n    <tr>\n      <th>1</th>\n      <td>0xc45d42f801105e861e86658648e3678ad7aa70f9-19373</td>\n      <td>1673845631</td>\n      <td>16417160</td>\n      <td>9.480465e+04</td>\n      <td>458168.976264</td>\n      <td>0.000000</td>\n      <td>458168.970264</td>\n      <td>0.000000</td>\n      <td>916337.946528</td>\n      <td>0.000000</td>\n      <td>...</td>\n      <td>7.133689e+15</td>\n      <td>50OHM-25DAI-25WETH</td>\n      <td>50OHM-25DAI-25WETH</td>\n      <td>0xc45d42f801105e861e86658648e3678ad7aa70f9</td>\n      <td>50OHM-25DAI-25WETH</td>\n      <td>50OHM-25DAI-25WETH</td>\n      <td>18</td>\n      <td>18.934531</td>\n      <td>16424842</td>\n      <td>2023-01-16 05:07:11</td>\n    </tr>\n    <tr>\n      <th>2</th>\n      <td>0xc45d42f801105e861e86658648e3678ad7aa70f9-19372</td>\n      <td>1673807099</td>\n      <td>16413972</td>\n      <td>9.480587e+04</td>\n      <td>458168.976264</td>\n      <td>0.173181</td>\n      <td>458168.970264</td>\n      <td>0.173181</td>\n      <td>916337.946528</td>\n      <td>0.346361</td>\n      <td>...</td>\n      <td>7.133689e+15</td>\n      <td>50OHM-25DAI-25WETH</td>\n      <td>50OHM-25DAI-25WETH</td>\n      <td>0xc45d42f801105e861e86658648e3678ad7aa70f9</td>\n      <td>50OHM-25DAI-25WETH</td>\n      <td>50OHM-25DAI-25WETH</td>\n      <td>18</td>\n      <td>18.934531</td>\n      <td>16424842</td>\n      <td>2023-01-15 18:24:59</td>\n    </tr>\n    <tr>\n      <th>3</th>\n      <td>0xc45d42f801105e861e86658648e3678ad7aa70f9-19371</td>\n      <td>1673723495</td>\n      <td>16407053</td>\n      <td>9.423038e+04</td>\n      <td>458168.803083</td>\n      <td>0.145722</td>\n      <td>458168.797083</td>\n      <td>0.145722</td>\n      <td>916337.600167</td>\n      <td>0.291445</td>\n      <td>...</td>\n      <td>7.133689e+15</td>\n      <td>50OHM-25DAI-25WETH</td>\n      <td>50OHM-25DAI-25WETH</td>\n      <td>0xc45d42f801105e861e86658648e3678ad7aa70f9</td>\n      <td>50OHM-25DAI-25WETH</td>\n      <td>50OHM-25DAI-25WETH</td>\n      <td>18</td>\n      <td>18.934531</td>\n      <td>16424842</td>\n      <td>2023-01-14 19:11:35</td>\n    </tr>\n    <tr>\n      <th>4</th>\n      <td>0xc45d42f801105e861e86658648e3678ad7aa70f9-19370</td>\n      <td>1673638727</td>\n      <td>16400013</td>\n      <td>9.244658e+04</td>\n      <td>458168.657361</td>\n      <td>0.000000</td>\n      <td>458168.651361</td>\n      <td>0.000000</td>\n      <td>916337.308722</td>\n      <td>0.000000</td>\n      <td>...</td>\n      <td>7.133689e+15</td>\n      <td>50OHM-25DAI-25WETH</td>\n      <td>50OHM-25DAI-25WETH</td>\n      <td>0xc45d42f801105e861e86658648e3678ad7aa70f9</td>\n      <td>50OHM-25DAI-25WETH</td>\n      <td>50OHM-25DAI-25WETH</td>\n      <td>18</td>\n      <td>18.934531</td>\n      <td>16424842</td>\n      <td>2023-01-13 19:38:47</td>\n    </tr>\n    <tr>\n      <th>...</th>\n      <td>...</td>\n      <td>...</td>\n      <td>...</td>\n      <td>...</td>\n      <td>...</td>\n      <td>...</td>\n      <td>...</td>\n      <td>...</td>\n      <td>...</td>\n      <td>...</td>\n      <td>...</td>\n      <td>...</td>\n      <td>...</td>\n      <td>...</td>\n      <td>...</td>\n      <td>...</td>\n      <td>...</td>\n      <td>...</td>\n      <td>...</td>\n      <td>...</td>\n      <td>...</td>\n    </tr>\n    <tr>\n      <th>127</th>\n      <td>0xc45d42f801105e861e86658648e3678ad7aa70f9-19247</td>\n      <td>1663027152</td>\n      <td>15523800</td>\n      <td>5.533360e+07</td>\n      <td>156698.208775</td>\n      <td>2629.349774</td>\n      <td>156698.202776</td>\n      <td>2629.349774</td>\n      <td>313396.411551</td>\n      <td>5258.699549</td>\n      <td>...</td>\n      <td>3.502699e+19</td>\n      <td>50OHM-25DAI-25WETH</td>\n      <td>50OHM-25DAI-25WETH</td>\n      <td>0xc45d42f801105e861e86658648e3678ad7aa70f9</td>\n      <td>50OHM-25DAI-25WETH</td>\n      <td>50OHM-25DAI-25WETH</td>\n      <td>18</td>\n      <td>18.934531</td>\n      <td>16424842</td>\n      <td>2022-09-12 23:59:12</td>\n    </tr>\n    <tr>\n      <th>128</th>\n      <td>0xc45d42f801105e861e86658648e3678ad7aa70f9-19246</td>\n      <td>1662940170</td>\n      <td>15517711</td>\n      <td>5.563470e+07</td>\n      <td>154068.859001</td>\n      <td>1672.197822</td>\n      <td>154068.853001</td>\n      <td>1672.197822</td>\n      <td>308137.712002</td>\n      <td>3344.395644</td>\n      <td>...</td>\n      <td>3.502699e+19</td>\n      <td>50OHM-25DAI-25WETH</td>\n      <td>50OHM-25DAI-25WETH</td>\n      <td>0xc45d42f801105e861e86658648e3678ad7aa70f9</td>\n      <td>50OHM-25DAI-25WETH</td>\n      <td>50OHM-25DAI-25WETH</td>\n      <td>18</td>\n      <td>18.934531</td>\n      <td>16424842</td>\n      <td>2022-09-11 23:49:30</td>\n    </tr>\n    <tr>\n      <th>129</th>\n      <td>0xc45d42f801105e861e86658648e3678ad7aa70f9-19245</td>\n      <td>1662853783</td>\n      <td>15511648</td>\n      <td>5.526090e+07</td>\n      <td>152396.661179</td>\n      <td>1653.540649</td>\n      <td>152396.655179</td>\n      <td>1653.540649</td>\n      <td>304793.316358</td>\n      <td>3307.081298</td>\n      <td>...</td>\n      <td>3.502699e+19</td>\n      <td>50OHM-25DAI-25WETH</td>\n      <td>50OHM-25DAI-25WETH</td>\n      <td>0xc45d42f801105e861e86658648e3678ad7aa70f9</td>\n      <td>50OHM-25DAI-25WETH</td>\n      <td>50OHM-25DAI-25WETH</td>\n      <td>18</td>\n      <td>18.934531</td>\n      <td>16424842</td>\n      <td>2022-09-10 23:49:43</td>\n    </tr>\n    <tr>\n      <th>130</th>\n      <td>0xc45d42f801105e861e86658648e3678ad7aa70f9-19244</td>\n      <td>1662767910</td>\n      <td>15505644</td>\n      <td>5.439070e+07</td>\n      <td>150743.120530</td>\n      <td>1945.555564</td>\n      <td>150743.114530</td>\n      <td>1945.555564</td>\n      <td>301486.235061</td>\n      <td>3891.111128</td>\n      <td>...</td>\n      <td>3.502699e+19</td>\n      <td>50OHM-25DAI-25WETH</td>\n      <td>50OHM-25DAI-25WETH</td>\n      <td>0xc45d42f801105e861e86658648e3678ad7aa70f9</td>\n      <td>50OHM-25DAI-25WETH</td>\n      <td>50OHM-25DAI-25WETH</td>\n      <td>18</td>\n      <td>18.934531</td>\n      <td>16424842</td>\n      <td>2022-09-09 23:58:30</td>\n    </tr>\n    <tr>\n      <th>131</th>\n      <td>0xc45d42f801105e861e86658648e3678ad7aa70f9-19243</td>\n      <td>1662680589</td>\n      <td>15499508</td>\n      <td>4.419881e+07</td>\n      <td>148797.564966</td>\n      <td>4007.290148</td>\n      <td>148797.558966</td>\n      <td>4007.290148</td>\n      <td>297595.123932</td>\n      <td>8014.580295</td>\n      <td>...</td>\n      <td>3.502699e+19</td>\n      <td>50OHM-25DAI-25WETH</td>\n      <td>50OHM-25DAI-25WETH</td>\n      <td>0xc45d42f801105e861e86658648e3678ad7aa70f9</td>\n      <td>50OHM-25DAI-25WETH</td>\n      <td>50OHM-25DAI-25WETH</td>\n      <td>18</td>\n      <td>18.934531</td>\n      <td>16424842</td>\n      <td>2022-09-08 23:43:09</td>\n    </tr>\n  </tbody>\n</table>\n<p>132 rows × 25 columns</p>\n</div>"
     },
     "execution_count": 36,
     "metadata": {},
     "output_type": "execute_result"
    }
   ],
   "source": [
    "#BALANCER SUBGRAPH\n",
    "\n",
    "sushi8 = sg.load_api('https://gateway.thegraph.com/api/b0299a6e1895566f98d87e0711fa24ca/subgraphs/id/Ei5typKWPepPSgqkaKf3p5bPhgJesnu1RuRpyt69Pcrx')\n",
    "\n",
    "pools8 = sushi8.Query.liquidityPoolDailySnapshots(\n",
    "            orderBy='id',\n",
    "            orderDirection='desc',\n",
    "            #skip =(skipValue),\n",
    "            first=1000,\n",
    "            where={ 'pool_in': ['0xc45d42f801105e861e86658648e3678ad7aa70f9','0xd1ec5e215e8148d76f4460e4097fd3d5ae0a3558','0x76fcf0e8c7ff37a47a799fa2cd4c13cde0d981c9'] }\n",
    "            #where={ 'pool': '0xd1ec5e215e8148d76f4460e4097fd3d5ae0a3558' } #'0xfffae4a0f4ac251f4705717cd24cadccc9f33e06'  for Olympus/Wrapped Ether LP\n",
    "        )\n",
    "pool_data8 = sg.query_df([\n",
    "    pools8.id\n",
    "    ,pools8.timestamp\n",
    "    ,pools8.blockNumber\n",
    "    ,pools8.totalValueLockedUSD\n",
    "    ,pools8.cumulativeSupplySideRevenueUSD\n",
    "    ,pools8.dailySupplySideRevenueUSD\n",
    "    ,pools8.cumulativeProtocolSideRevenueUSD\n",
    "    ,pools8.dailyProtocolSideRevenueUSD\n",
    "    ,pools8.cumulativeTotalRevenueUSD\n",
    "    ,pools8.dailyTotalRevenueUSD\n",
    "    ,pools8.dailyVolumeUSD\n",
    "    ,pools8.cumulativeVolumeUSD\n",
    "    ,pools8.outputTokenSupply\n",
    "    ,pools8.outputTokenPriceUSD\n",
    "    ,pools8.stakedOutputTokenAmount\n",
    "    ,pools8.rewardTokenEmissionsAmount\n",
    "    ,pools8.pool.name\n",
    "    ,pools8.pool.symbol\n",
    "    ,pools8.pool.outputToken\n",
    "])\n",
    "\n",
    "pool_datadb8 = db.query(\"select \"\n",
    "               \"    * \"\n",
    "                    \" ,to_timestamp(liquidityPoolDailySnapshots_timestamp) dateTime \"\n",
    "               \"From pool_data8 \"\n",
    "               #\"where lower(liquidityPools_name) like lower('%olympus%') \"\n",
    "                #    \"or lower(pairs_token1_symbol) like lower('%OHM%')  \"\n",
    "               #\" limit 100 \"\n",
    "               ).df()\n",
    "\n",
    "pool_datadb8.head(1000)"
   ],
   "metadata": {
    "collapsed": false,
    "pycharm": {
     "name": "#%%\n"
    }
   }
  },
  {
   "cell_type": "code",
   "execution_count": null,
   "outputs": [],
   "source": [
    "#CURVE SUBGRAPH\n",
    "sushi9 = sg.load_api('https://gateway.thegraph.com/api/b0299a6e1895566f98d87e0711fa24ca/subgraphs/id/GAGwGKc4ArNKKq9eFTcwgd1UGymvqhTier9Npqo1YvZB')\n",
    "\n",
    "pools9 = sushi9.Query.liquidityPoolDailySnapshots(\n",
    "            orderBy='id',\n",
    "            orderDirection='desc',\n",
    "            #skip =(skipValue),\n",
    "            first=1000,\n",
    "            where=[\n",
    "              sushi7.Query.liquidityPoolDailySnapshots.timestamp > 1604302679\n",
    "          ]\n",
    "        )\n",
    "pool_data9 = sg.query_df([\n",
    "    pools9.id\n",
    "    ,pools9.timestamp\n",
    "    ,pools9.blockNumber\n",
    "    ,pools9.totalValueLockedUSD\n",
    "    ,pools9.cumulativeSupplySideRevenueUSD\n",
    "    ,pools9.dailySupplySideRevenueUSD\n",
    "    ,pools9.cumulativeProtocolSideRevenueUSD\n",
    "    ,pools9.dailyProtocolSideRevenueUSD\n",
    "    ,pools9.cumulativeTotalRevenueUSD\n",
    "    ,pools9.dailyTotalRevenueUSD\n",
    "    ,pools9.dailyVolumeUSD\n",
    "    ,pools9.cumulativeVolumeUSD\n",
    "    ,pools9.outputTokenSupply\n",
    "    ,pools9.outputTokenPriceUSD\n",
    "    ,pools9.stakedOutputTokenAmount\n",
    "    ,pools9.rewardTokenEmissionsAmount\n",
    "    ,pools9.pool.name\n",
    "    ,pools9.pool.symbol\n",
    "    ,pools9.pool.outputToken\n",
    "])\n",
    "\n",
    "pool_datadb9 = db.query(\"select \"\n",
    "               \"    * \"\n",
    "                    \" ,to_timestamp(liquidityPoolDailySnapshots_timestamp) dateTime \"\n",
    "               \"From pool_data9 \"\n",
    "               #\"where lower(liquidityPools_name) like lower('%olympus%') \"\n",
    "                #    \"or lower(pairs_token1_symbol) like lower('%OHM%')  \"\n",
    "               #\" limit 100 \"\n",
    "               ).df()\n",
    "\n",
    "pool_datadb9.head(10)"
   ],
   "metadata": {
    "collapsed": false,
    "pycharm": {
     "name": "#%%\n"
    }
   }
  },
  {
   "cell_type": "code",
   "execution_count": 25,
   "outputs": [
    {
     "data": {
      "text/plain": "                       liquidityPoolDailySnapshots_id  \\\n0    0xc987d503a9f78f6d1d782c1fff5af4cb34437e3f-19298   \n1    0xc987d503a9f78f6d1d782c1fff5af4cb34437e3f-19297   \n2    0xc987d503a9f78f6d1d782c1fff5af4cb34437e3f-19296   \n3    0xc987d503a9f78f6d1d782c1fff5af4cb34437e3f-19295   \n4    0xc987d503a9f78f6d1d782c1fff5af4cb34437e3f-19294   \n..                                                ...   \n399  0x08f68110f1e0ca67c80a24b4bd206675610f445d-19121   \n400  0x08f68110f1e0ca67c80a24b4bd206675610f445d-19120   \n401  0x08f68110f1e0ca67c80a24b4bd206675610f445d-19119   \n402  0x08f68110f1e0ca67c80a24b4bd206675610f445d-19118   \n403  0x08f68110f1e0ca67c80a24b4bd206675610f445d-19068   \n\n     liquidityPoolDailySnapshots_timestamp  \\\n0                               1667433407   \n1                               1667345555   \n2                               1667253515   \n3                               1667173487   \n4                               1667085059   \n..                                     ...   \n399                             1652140363   \n400                             1652054259   \n401                             1651967428   \n402                             1651872676   \n403                             1647496569   \n\n     liquidityPoolDailySnapshots_blockNumber  \\\n0                                   15885756   \n1                                   15878480   \n2                                   15870873   \n3                                   15864242   \n4                                   15856907   \n..                                       ...   \n399                                 14745326   \n400                                 14739145   \n401                                 14732776   \n402                                 14725911   \n403                                 14402259   \n\n     liquidityPoolDailySnapshots_totalValueLockedUSD  \\\n0                                       11511.795248   \n1                                        9732.850612   \n2                                       13278.648567   \n3                                       12550.909438   \n4                                       11091.583789   \n..                                               ...   \n399                                     13489.361195   \n400                                     25505.215908   \n401                                      6189.534631   \n402                                     20242.166028   \n403                                         0.000001   \n\n     liquidityPoolDailySnapshots_cumulativeSupplySideRevenueUSD  \\\n0                                         10563.951780            \n1                                         10154.288041            \n2                                         10012.305346            \n3                                          9855.745370            \n4                                          9699.313679            \n..                                                 ...            \n399                                        4140.376715            \n400                                        2155.713475            \n401                                         959.531197            \n402                                         329.862845            \n403                                           0.000000            \n\n     liquidityPoolDailySnapshots_dailySupplySideRevenueUSD  \\\n0                                           409.663739       \n1                                           141.982695       \n2                                           156.559976       \n3                                           156.431690       \n4                                            77.475378       \n..                                                 ...       \n399                                        1984.663240       \n400                                        1196.182278       \n401                                         629.668352       \n402                                         329.862845       \n403                                           0.000000       \n\n     liquidityPoolDailySnapshots_cumulativeProtocolSideRevenueUSD  \\\n0                                                  0.0              \n1                                                  0.0              \n2                                                  0.0              \n3                                                  0.0              \n4                                                  0.0              \n..                                                 ...              \n399                                                0.0              \n400                                                0.0              \n401                                                0.0              \n402                                                0.0              \n403                                                0.0              \n\n     liquidityPoolDailySnapshots_dailyProtocolSideRevenueUSD  \\\n0                                                  0.0         \n1                                                  0.0         \n2                                                  0.0         \n3                                                  0.0         \n4                                                  0.0         \n..                                                 ...         \n399                                                0.0         \n400                                                0.0         \n401                                                0.0         \n402                                                0.0         \n403                                                0.0         \n\n     liquidityPoolDailySnapshots_cumulativeTotalRevenueUSD  \\\n0                                         10563.951780       \n1                                         10154.288041       \n2                                         10012.305346       \n3                                          9855.745370       \n4                                          9699.313679       \n..                                                 ...       \n399                                        4140.376715       \n400                                        2155.713475       \n401                                         959.531197       \n402                                         329.862845       \n403                                           0.000000       \n\n     liquidityPoolDailySnapshots_dailyTotalRevenueUSD  ...  \\\n0                                          409.663739  ...   \n1                                          141.982695  ...   \n2                                          156.559976  ...   \n3                                          156.431690  ...   \n4                                           77.475378  ...   \n..                                                ...  ...   \n399                                       1984.663240  ...   \n400                                       1196.182278  ...   \n401                                        629.668352  ...   \n402                                        329.862845  ...   \n403                                          0.000000  ...   \n\n     liquidityPoolDailySnapshots_rewardTokenEmissionsAmount  \\\n0                                                  NaN        \n1                                                  NaN        \n2                                                  NaN        \n3                                                  NaN        \n4                                                  NaN        \n..                                                 ...        \n399                                                NaN        \n400                                                NaN        \n401                                                NaN        \n402                                                NaN        \n403                                                NaN        \n\n            liquidityPoolDailySnapshots_pool_name  \\\n0    Uniswap V3 Governance OHM/Wrapped Ether 0.3%   \n1    Uniswap V3 Governance OHM/Wrapped Ether 0.3%   \n2    Uniswap V3 Governance OHM/Wrapped Ether 0.3%   \n3    Uniswap V3 Governance OHM/Wrapped Ether 0.3%   \n4    Uniswap V3 Governance OHM/Wrapped Ether 0.3%   \n..                                            ...   \n399       Uniswap V3 Governance OHM/USD Coin 0.3%   \n400       Uniswap V3 Governance OHM/USD Coin 0.3%   \n401       Uniswap V3 Governance OHM/USD Coin 0.3%   \n402       Uniswap V3 Governance OHM/USD Coin 0.3%   \n403       Uniswap V3 Governance OHM/USD Coin 0.3%   \n\n     liquidityPoolDailySnapshots_pool_symbol  \\\n0               Governance OHM/Wrapped Ether   \n1               Governance OHM/Wrapped Ether   \n2               Governance OHM/Wrapped Ether   \n3               Governance OHM/Wrapped Ether   \n4               Governance OHM/Wrapped Ether   \n..                                       ...   \n399                  Governance OHM/USD Coin   \n400                  Governance OHM/USD Coin   \n401                  Governance OHM/USD Coin   \n402                  Governance OHM/USD Coin   \n403                  Governance OHM/USD Coin   \n\n     liquidityPoolDailySnapshots_pool_outputToken_id  \\\n0                                                NaN   \n1                                                NaN   \n2                                                NaN   \n3                                                NaN   \n4                                                NaN   \n..                                               ...   \n399                                              NaN   \n400                                              NaN   \n401                                              NaN   \n402                                              NaN   \n403                                              NaN   \n\n     liquidityPoolDailySnapshots_pool_outputToken_name  \\\n0                                                  NaN   \n1                                                  NaN   \n2                                                  NaN   \n3                                                  NaN   \n4                                                  NaN   \n..                                                 ...   \n399                                                NaN   \n400                                                NaN   \n401                                                NaN   \n402                                                NaN   \n403                                                NaN   \n\n     liquidityPoolDailySnapshots_pool_outputToken_symbol  \\\n0                                                  NaN     \n1                                                  NaN     \n2                                                  NaN     \n3                                                  NaN     \n4                                                  NaN     \n..                                                 ...     \n399                                                NaN     \n400                                                NaN     \n401                                                NaN     \n402                                                NaN     \n403                                                NaN     \n\n    liquidityPoolDailySnapshots_pool_outputToken_decimals  \\\n0                                                  NaN      \n1                                                  NaN      \n2                                                  NaN      \n3                                                  NaN      \n4                                                  NaN      \n..                                                 ...      \n399                                                NaN      \n400                                                NaN      \n401                                                NaN      \n402                                                NaN      \n403                                                NaN      \n\n    liquidityPoolDailySnapshots_pool_outputToken_lastPriceUSD  \\\n0                                                  NaN          \n1                                                  NaN          \n2                                                  NaN          \n3                                                  NaN          \n4                                                  NaN          \n..                                                 ...          \n399                                                NaN          \n400                                                NaN          \n401                                                NaN          \n402                                                NaN          \n403                                                NaN          \n\n     liquidityPoolDailySnapshots_pool_outputToken_lastPriceBlockNumber  \\\n0                                                  NaN                   \n1                                                  NaN                   \n2                                                  NaN                   \n3                                                  NaN                   \n4                                                  NaN                   \n..                                                 ...                   \n399                                                NaN                   \n400                                                NaN                   \n401                                                NaN                   \n402                                                NaN                   \n403                                                NaN                   \n\n               dateTime  \n0   2022-11-02 23:56:47  \n1   2022-11-01 23:32:35  \n2   2022-10-31 21:58:35  \n3   2022-10-30 23:44:47  \n4   2022-10-29 23:10:59  \n..                  ...  \n399 2022-05-09 23:52:43  \n400 2022-05-08 23:57:39  \n401 2022-05-07 23:50:28  \n402 2022-05-06 21:31:16  \n403 2022-03-17 05:56:09  \n\n[404 rows x 25 columns]",
      "text/html": "<div>\n<style scoped>\n    .dataframe tbody tr th:only-of-type {\n        vertical-align: middle;\n    }\n\n    .dataframe tbody tr th {\n        vertical-align: top;\n    }\n\n    .dataframe thead th {\n        text-align: right;\n    }\n</style>\n<table border=\"1\" class=\"dataframe\">\n  <thead>\n    <tr style=\"text-align: right;\">\n      <th></th>\n      <th>liquidityPoolDailySnapshots_id</th>\n      <th>liquidityPoolDailySnapshots_timestamp</th>\n      <th>liquidityPoolDailySnapshots_blockNumber</th>\n      <th>liquidityPoolDailySnapshots_totalValueLockedUSD</th>\n      <th>liquidityPoolDailySnapshots_cumulativeSupplySideRevenueUSD</th>\n      <th>liquidityPoolDailySnapshots_dailySupplySideRevenueUSD</th>\n      <th>liquidityPoolDailySnapshots_cumulativeProtocolSideRevenueUSD</th>\n      <th>liquidityPoolDailySnapshots_dailyProtocolSideRevenueUSD</th>\n      <th>liquidityPoolDailySnapshots_cumulativeTotalRevenueUSD</th>\n      <th>liquidityPoolDailySnapshots_dailyTotalRevenueUSD</th>\n      <th>...</th>\n      <th>liquidityPoolDailySnapshots_rewardTokenEmissionsAmount</th>\n      <th>liquidityPoolDailySnapshots_pool_name</th>\n      <th>liquidityPoolDailySnapshots_pool_symbol</th>\n      <th>liquidityPoolDailySnapshots_pool_outputToken_id</th>\n      <th>liquidityPoolDailySnapshots_pool_outputToken_name</th>\n      <th>liquidityPoolDailySnapshots_pool_outputToken_symbol</th>\n      <th>liquidityPoolDailySnapshots_pool_outputToken_decimals</th>\n      <th>liquidityPoolDailySnapshots_pool_outputToken_lastPriceUSD</th>\n      <th>liquidityPoolDailySnapshots_pool_outputToken_lastPriceBlockNumber</th>\n      <th>dateTime</th>\n    </tr>\n  </thead>\n  <tbody>\n    <tr>\n      <th>0</th>\n      <td>0xc987d503a9f78f6d1d782c1fff5af4cb34437e3f-19298</td>\n      <td>1667433407</td>\n      <td>15885756</td>\n      <td>11511.795248</td>\n      <td>10563.951780</td>\n      <td>409.663739</td>\n      <td>0.0</td>\n      <td>0.0</td>\n      <td>10563.951780</td>\n      <td>409.663739</td>\n      <td>...</td>\n      <td>NaN</td>\n      <td>Uniswap V3 Governance OHM/Wrapped Ether 0.3%</td>\n      <td>Governance OHM/Wrapped Ether</td>\n      <td>NaN</td>\n      <td>NaN</td>\n      <td>NaN</td>\n      <td>NaN</td>\n      <td>NaN</td>\n      <td>NaN</td>\n      <td>2022-11-02 23:56:47</td>\n    </tr>\n    <tr>\n      <th>1</th>\n      <td>0xc987d503a9f78f6d1d782c1fff5af4cb34437e3f-19297</td>\n      <td>1667345555</td>\n      <td>15878480</td>\n      <td>9732.850612</td>\n      <td>10154.288041</td>\n      <td>141.982695</td>\n      <td>0.0</td>\n      <td>0.0</td>\n      <td>10154.288041</td>\n      <td>141.982695</td>\n      <td>...</td>\n      <td>NaN</td>\n      <td>Uniswap V3 Governance OHM/Wrapped Ether 0.3%</td>\n      <td>Governance OHM/Wrapped Ether</td>\n      <td>NaN</td>\n      <td>NaN</td>\n      <td>NaN</td>\n      <td>NaN</td>\n      <td>NaN</td>\n      <td>NaN</td>\n      <td>2022-11-01 23:32:35</td>\n    </tr>\n    <tr>\n      <th>2</th>\n      <td>0xc987d503a9f78f6d1d782c1fff5af4cb34437e3f-19296</td>\n      <td>1667253515</td>\n      <td>15870873</td>\n      <td>13278.648567</td>\n      <td>10012.305346</td>\n      <td>156.559976</td>\n      <td>0.0</td>\n      <td>0.0</td>\n      <td>10012.305346</td>\n      <td>156.559976</td>\n      <td>...</td>\n      <td>NaN</td>\n      <td>Uniswap V3 Governance OHM/Wrapped Ether 0.3%</td>\n      <td>Governance OHM/Wrapped Ether</td>\n      <td>NaN</td>\n      <td>NaN</td>\n      <td>NaN</td>\n      <td>NaN</td>\n      <td>NaN</td>\n      <td>NaN</td>\n      <td>2022-10-31 21:58:35</td>\n    </tr>\n    <tr>\n      <th>3</th>\n      <td>0xc987d503a9f78f6d1d782c1fff5af4cb34437e3f-19295</td>\n      <td>1667173487</td>\n      <td>15864242</td>\n      <td>12550.909438</td>\n      <td>9855.745370</td>\n      <td>156.431690</td>\n      <td>0.0</td>\n      <td>0.0</td>\n      <td>9855.745370</td>\n      <td>156.431690</td>\n      <td>...</td>\n      <td>NaN</td>\n      <td>Uniswap V3 Governance OHM/Wrapped Ether 0.3%</td>\n      <td>Governance OHM/Wrapped Ether</td>\n      <td>NaN</td>\n      <td>NaN</td>\n      <td>NaN</td>\n      <td>NaN</td>\n      <td>NaN</td>\n      <td>NaN</td>\n      <td>2022-10-30 23:44:47</td>\n    </tr>\n    <tr>\n      <th>4</th>\n      <td>0xc987d503a9f78f6d1d782c1fff5af4cb34437e3f-19294</td>\n      <td>1667085059</td>\n      <td>15856907</td>\n      <td>11091.583789</td>\n      <td>9699.313679</td>\n      <td>77.475378</td>\n      <td>0.0</td>\n      <td>0.0</td>\n      <td>9699.313679</td>\n      <td>77.475378</td>\n      <td>...</td>\n      <td>NaN</td>\n      <td>Uniswap V3 Governance OHM/Wrapped Ether 0.3%</td>\n      <td>Governance OHM/Wrapped Ether</td>\n      <td>NaN</td>\n      <td>NaN</td>\n      <td>NaN</td>\n      <td>NaN</td>\n      <td>NaN</td>\n      <td>NaN</td>\n      <td>2022-10-29 23:10:59</td>\n    </tr>\n    <tr>\n      <th>...</th>\n      <td>...</td>\n      <td>...</td>\n      <td>...</td>\n      <td>...</td>\n      <td>...</td>\n      <td>...</td>\n      <td>...</td>\n      <td>...</td>\n      <td>...</td>\n      <td>...</td>\n      <td>...</td>\n      <td>...</td>\n      <td>...</td>\n      <td>...</td>\n      <td>...</td>\n      <td>...</td>\n      <td>...</td>\n      <td>...</td>\n      <td>...</td>\n      <td>...</td>\n      <td>...</td>\n    </tr>\n    <tr>\n      <th>399</th>\n      <td>0x08f68110f1e0ca67c80a24b4bd206675610f445d-19121</td>\n      <td>1652140363</td>\n      <td>14745326</td>\n      <td>13489.361195</td>\n      <td>4140.376715</td>\n      <td>1984.663240</td>\n      <td>0.0</td>\n      <td>0.0</td>\n      <td>4140.376715</td>\n      <td>1984.663240</td>\n      <td>...</td>\n      <td>NaN</td>\n      <td>Uniswap V3 Governance OHM/USD Coin 0.3%</td>\n      <td>Governance OHM/USD Coin</td>\n      <td>NaN</td>\n      <td>NaN</td>\n      <td>NaN</td>\n      <td>NaN</td>\n      <td>NaN</td>\n      <td>NaN</td>\n      <td>2022-05-09 23:52:43</td>\n    </tr>\n    <tr>\n      <th>400</th>\n      <td>0x08f68110f1e0ca67c80a24b4bd206675610f445d-19120</td>\n      <td>1652054259</td>\n      <td>14739145</td>\n      <td>25505.215908</td>\n      <td>2155.713475</td>\n      <td>1196.182278</td>\n      <td>0.0</td>\n      <td>0.0</td>\n      <td>2155.713475</td>\n      <td>1196.182278</td>\n      <td>...</td>\n      <td>NaN</td>\n      <td>Uniswap V3 Governance OHM/USD Coin 0.3%</td>\n      <td>Governance OHM/USD Coin</td>\n      <td>NaN</td>\n      <td>NaN</td>\n      <td>NaN</td>\n      <td>NaN</td>\n      <td>NaN</td>\n      <td>NaN</td>\n      <td>2022-05-08 23:57:39</td>\n    </tr>\n    <tr>\n      <th>401</th>\n      <td>0x08f68110f1e0ca67c80a24b4bd206675610f445d-19119</td>\n      <td>1651967428</td>\n      <td>14732776</td>\n      <td>6189.534631</td>\n      <td>959.531197</td>\n      <td>629.668352</td>\n      <td>0.0</td>\n      <td>0.0</td>\n      <td>959.531197</td>\n      <td>629.668352</td>\n      <td>...</td>\n      <td>NaN</td>\n      <td>Uniswap V3 Governance OHM/USD Coin 0.3%</td>\n      <td>Governance OHM/USD Coin</td>\n      <td>NaN</td>\n      <td>NaN</td>\n      <td>NaN</td>\n      <td>NaN</td>\n      <td>NaN</td>\n      <td>NaN</td>\n      <td>2022-05-07 23:50:28</td>\n    </tr>\n    <tr>\n      <th>402</th>\n      <td>0x08f68110f1e0ca67c80a24b4bd206675610f445d-19118</td>\n      <td>1651872676</td>\n      <td>14725911</td>\n      <td>20242.166028</td>\n      <td>329.862845</td>\n      <td>329.862845</td>\n      <td>0.0</td>\n      <td>0.0</td>\n      <td>329.862845</td>\n      <td>329.862845</td>\n      <td>...</td>\n      <td>NaN</td>\n      <td>Uniswap V3 Governance OHM/USD Coin 0.3%</td>\n      <td>Governance OHM/USD Coin</td>\n      <td>NaN</td>\n      <td>NaN</td>\n      <td>NaN</td>\n      <td>NaN</td>\n      <td>NaN</td>\n      <td>NaN</td>\n      <td>2022-05-06 21:31:16</td>\n    </tr>\n    <tr>\n      <th>403</th>\n      <td>0x08f68110f1e0ca67c80a24b4bd206675610f445d-19068</td>\n      <td>1647496569</td>\n      <td>14402259</td>\n      <td>0.000001</td>\n      <td>0.000000</td>\n      <td>0.000000</td>\n      <td>0.0</td>\n      <td>0.0</td>\n      <td>0.000000</td>\n      <td>0.000000</td>\n      <td>...</td>\n      <td>NaN</td>\n      <td>Uniswap V3 Governance OHM/USD Coin 0.3%</td>\n      <td>Governance OHM/USD Coin</td>\n      <td>NaN</td>\n      <td>NaN</td>\n      <td>NaN</td>\n      <td>NaN</td>\n      <td>NaN</td>\n      <td>NaN</td>\n      <td>2022-03-17 05:56:09</td>\n    </tr>\n  </tbody>\n</table>\n<p>404 rows × 25 columns</p>\n</div>"
     },
     "execution_count": 25,
     "metadata": {},
     "output_type": "execute_result"
    }
   ],
   "source": [
    "#UNISWAP SUBGRAPH - COMPLETE\n",
    "uniswap = sg.load_api('https://gateway.thegraph.com/api/b0299a6e1895566f98d87e0711fa24ca/subgraphs/id/ELUcwgpm14LKPLrBRuVvPvNKHQ9HvwmtKgKSH6123cr7')\n",
    "\n",
    "pools10 = uniswap.Query.liquidityPoolDailySnapshots(\n",
    "            orderBy='id',\n",
    "            orderDirection='desc',\n",
    "            skip =500,\n",
    "            first=1000,\n",
    "            where={ 'pool_in': ['0x88051b0eea095007d3bef21ab287be961f3d8598','0xc987d503a9f78f6d1d782c1fff5af4cb34437e3f','0x08f68110f1e0ca67c80a24b4bd206675610f445d','0xeac758487f4868952ac9bf5b5eb885bcf462aa67','0xcf7e21b96a7dae8e1663b5a266fd812cbe973e70','0x1ba81d6cec9eb0e2f9fff78b9379bedc04150461'] }\n",
    "        )\n",
    "\n",
    "pool_data10 = sg.query_df([\n",
    "    pools10.id\n",
    "    ,pools10.timestamp\n",
    "    ,pools10.blockNumber\n",
    "    ,pools10.totalValueLockedUSD\n",
    "    ,pools10.cumulativeSupplySideRevenueUSD\n",
    "    ,pools10.dailySupplySideRevenueUSD\n",
    "    ,pools10.cumulativeProtocolSideRevenueUSD\n",
    "    ,pools10.dailyProtocolSideRevenueUSD\n",
    "    ,pools10.cumulativeTotalRevenueUSD\n",
    "    ,pools10.dailyTotalRevenueUSD\n",
    "    ,pools10.dailyVolumeUSD\n",
    "    ,pools10.cumulativeVolumeUSD\n",
    "    ,pools10.outputTokenSupply\n",
    "    ,pools10.outputTokenPriceUSD\n",
    "    ,pools10.stakedOutputTokenAmount\n",
    "    ,pools10.rewardTokenEmissionsAmount\n",
    "    ,pools10.pool.name\n",
    "    ,pools10.pool.symbol\n",
    "    ,pools10.pool.outputToken\n",
    "])\n",
    "\n",
    "pool_datadb10 = db.query(\"select \"\n",
    "               \"    * \"\n",
    "                    \" ,to_timestamp(liquidityPoolDailySnapshots_timestamp) dateTime \"\n",
    "               \"From pool_data10 \"\n",
    "               #\"where lower(liquidityPools_name) like lower('%olympus%') \"\n",
    "                #    \"or lower(pairs_token1_symbol) like lower('%OHM%')  \"\n",
    "               #\" limit 100 \"\n",
    "               ).df()\n",
    "\n",
    "pool_datadb10.head(1000)"
   ],
   "metadata": {
    "collapsed": false,
    "pycharm": {
     "name": "#%%\n"
    }
   }
  },
  {
   "cell_type": "code",
   "execution_count": 13,
   "outputs": [
    {
     "name": "stdout",
     "output_type": "stream",
     "text": [
      "ticker:  2  - records collected:  903  - token:  2023-01-12 17:58:23  - pool list length:  903  - record from:  1673546303\n"
     ]
    },
    {
     "ename": "InvalidInputException",
     "evalue": "Invalid Input Error: Need a DataFrame with at least one column",
     "output_type": "error",
     "traceback": [
      "\u001B[1;31m---------------------------------------------------------------------------\u001B[0m",
      "\u001B[1;31mInvalidInputException\u001B[0m                     Traceback (most recent call last)",
      "Cell \u001B[1;32mIn[13], line 49\u001B[0m\n\u001B[0;32m     14\u001B[0m pools7 \u001B[38;5;241m=\u001B[39m balancer\u001B[38;5;241m.\u001B[39mQuery\u001B[38;5;241m.\u001B[39mliquidityPoolDailySnapshots(\n\u001B[0;32m     15\u001B[0m     orderBy\u001B[38;5;241m=\u001B[39m\u001B[38;5;124m'\u001B[39m\u001B[38;5;124mid\u001B[39m\u001B[38;5;124m'\u001B[39m,\n\u001B[0;32m     16\u001B[0m     orderDirection\u001B[38;5;241m=\u001B[39m\u001B[38;5;124m'\u001B[39m\u001B[38;5;124mdesc\u001B[39m\u001B[38;5;124m'\u001B[39m,\n\u001B[1;32m   (...)\u001B[0m\n\u001B[0;32m     19\u001B[0m     where\u001B[38;5;241m=\u001B[39m{ \u001B[38;5;124m'\u001B[39m\u001B[38;5;124mpool_in\u001B[39m\u001B[38;5;124m'\u001B[39m: [\u001B[38;5;124m'\u001B[39m\u001B[38;5;124m0x88051b0eea095007d3bef21ab287be961f3d8598\u001B[39m\u001B[38;5;124m'\u001B[39m,\u001B[38;5;124m'\u001B[39m\u001B[38;5;124m0xc987d503a9f78f6d1d782c1fff5af4cb34437e3f\u001B[39m\u001B[38;5;124m'\u001B[39m,\u001B[38;5;124m'\u001B[39m\u001B[38;5;124m0x08f68110f1e0ca67c80a24b4bd206675610f445d\u001B[39m\u001B[38;5;124m'\u001B[39m,\u001B[38;5;124m'\u001B[39m\u001B[38;5;124m0xeac758487f4868952ac9bf5b5eb885bcf462aa67\u001B[39m\u001B[38;5;124m'\u001B[39m,\u001B[38;5;124m'\u001B[39m\u001B[38;5;124m0xcf7e21b96a7dae8e1663b5a266fd812cbe973e70\u001B[39m\u001B[38;5;124m'\u001B[39m,\u001B[38;5;124m'\u001B[39m\u001B[38;5;124m0x1ba81d6cec9eb0e2f9fff78b9379bedc04150461\u001B[39m\u001B[38;5;124m'\u001B[39m] }\n\u001B[0;32m     20\u001B[0m )\n\u001B[0;32m     22\u001B[0m pool_data7 \u001B[38;5;241m=\u001B[39m sg\u001B[38;5;241m.\u001B[39mquery_df([\n\u001B[0;32m     23\u001B[0m     pools7\u001B[38;5;241m.\u001B[39mid\n\u001B[0;32m     24\u001B[0m     ,pools7\u001B[38;5;241m.\u001B[39mtimestamp\n\u001B[1;32m   (...)\u001B[0m\n\u001B[0;32m     46\u001B[0m     ,pools7\u001B[38;5;241m.\u001B[39mpool\u001B[38;5;241m.\u001B[39moutputToken\n\u001B[0;32m     47\u001B[0m ])\n\u001B[1;32m---> 49\u001B[0m pool_datadb7 \u001B[38;5;241m=\u001B[39m \u001B[43mdb\u001B[49m\u001B[38;5;241;43m.\u001B[39;49m\u001B[43mquery\u001B[49m\u001B[43m(\u001B[49m\u001B[38;5;124;43m\"\u001B[39;49m\u001B[38;5;124;43mselect \u001B[39;49m\u001B[38;5;124;43m\"\u001B[39;49m\n\u001B[0;32m     50\u001B[0m \u001B[43m               \u001B[49m\u001B[38;5;124;43m\"\u001B[39;49m\u001B[38;5;124;43m    * \u001B[39;49m\u001B[38;5;124;43m\"\u001B[39;49m\n\u001B[0;32m     51\u001B[0m \u001B[43m                    \u001B[49m\u001B[38;5;124;43m\"\u001B[39;49m\u001B[38;5;124;43m ,to_timestamp(liquidityPoolDailySnapshots_timestamp) dateTime \u001B[39;49m\u001B[38;5;124;43m\"\u001B[39;49m\n\u001B[0;32m     52\u001B[0m \u001B[43m               \u001B[49m\u001B[38;5;124;43m\"\u001B[39;49m\u001B[38;5;124;43mFrom pool_data7 \u001B[39;49m\u001B[38;5;124;43m\"\u001B[39;49m\n\u001B[0;32m     53\u001B[0m \u001B[43m               \u001B[49m\u001B[38;5;66;43;03m#\"where lower(liquidityPools_name) like lower('%olympus%') \"\u001B[39;49;00m\n\u001B[0;32m     54\u001B[0m \u001B[43m                \u001B[49m\u001B[38;5;66;43;03m#    \"or lower(pairs_token1_symbol) like lower('%OHM%')  \"\u001B[39;49;00m\n\u001B[0;32m     55\u001B[0m \u001B[43m               \u001B[49m\u001B[38;5;66;43;03m#\" limit 100 \"\u001B[39;49;00m\n\u001B[0;32m     56\u001B[0m \u001B[43m               \u001B[49m\u001B[43m)\u001B[49m\u001B[38;5;241m.\u001B[39mdf()\n\u001B[0;32m     58\u001B[0m pool_list\u001B[38;5;241m=\u001B[39mpd\u001B[38;5;241m.\u001B[39mconcat([pool_list, pool_datadb7])\n\u001B[0;32m     59\u001B[0m ticker \u001B[38;5;241m=\u001B[39m ticker\u001B[38;5;241m+\u001B[39m\u001B[38;5;241m1\u001B[39m\n",
      "\u001B[1;31mInvalidInputException\u001B[0m: Invalid Input Error: Need a DataFrame with at least one column"
     ]
    }
   ],
   "source": [
    "balancer = sg.load_api('https://gateway.thegraph.com/api/b0299a6e1895566f98d87e0711fa24ca/subgraphs/id/ELUcwgpm14LKPLrBRuVvPvNKHQ9HvwmtKgKSH6123cr7')\n",
    "listLength=1000\n",
    "ticker = 1\n",
    "trigger=0\n",
    "pool_list = pd.DataFrame()\n",
    "#pool_list=pd.concat([pool_list, pool_datadb6])\n",
    "\n",
    "\n",
    "#0x04F2694C8fcee23e8Fd0dfEA1d4f5Bb8c352111F\n",
    "\n",
    "while ticker < 99:\n",
    "    listLength=0\n",
    "    skipValue = (ticker-1)*(1000)\n",
    "    pools7 = balancer.Query.liquidityPoolDailySnapshots(\n",
    "        orderBy='id',\n",
    "        orderDirection='desc',\n",
    "        skip =(skipValue),\n",
    "        first=1000,\n",
    "        #where={ 'pool': '0xfffae4a0f4ac251f4705717cd24cadccc9f33e06' } #'0xfffae4a0f4ac251f4705717cd24cadccc9f33e06'  for Olympus/Wrapped Ether LP\n",
    "    )\n",
    "\n",
    "    pool_data7 = sg.query_df([\n",
    "        pools7.id\n",
    "        ,pools7.timestamp\n",
    "        ,pools7.blockNumber\n",
    "        ,pools7.totalValueLockedUSD\n",
    "        ,pools7.cumulativeSupplySideRevenueUSD\n",
    "        ,pools7.dailySupplySideRevenueUSD\n",
    "        ,pools7.cumulativeProtocolSideRevenueUSD\n",
    "        ,pools7.dailyProtocolSideRevenueUSD\n",
    "        ,pools7.cumulativeTotalRevenueUSD\n",
    "        ,pools7.dailyTotalRevenueUSD\n",
    "        ,pools7.dailyVolumeUSD\n",
    "        #,pools6.dailyVolumeByTokenAmount\n",
    "        #,pools6.dailyVolumeByTokenUSD\n",
    "        ,pools7.cumulativeVolumeUSD\n",
    "        #,pools6.inputTokenBalances\n",
    "        #,pools6.inputTokenWeights\n",
    "        ,pools7.outputTokenSupply\n",
    "        ,pools7.outputTokenPriceUSD\n",
    "        ,pools7.stakedOutputTokenAmount\n",
    "        ,pools7.rewardTokenEmissionsAmount\n",
    "        #,pools6.rewardTokenEmissionsUSD\n",
    "        ,pools7.pool.name\n",
    "        ,pools7.pool.symbol\n",
    "        ,pools7.pool.outputToken\n",
    "    ])\n",
    "\n",
    "    pool_datadb7 = db.query(\"select \"\n",
    "                   \"    * \"\n",
    "                        \" ,to_timestamp(liquidityPoolDailySnapshots_timestamp) dateTime \"\n",
    "                   \"From pool_data7 \"\n",
    "                   #\"where lower(liquidityPools_name) like lower('%olympus%') \"\n",
    "                    #    \"or lower(pairs_token1_symbol) like lower('%OHM%')  \"\n",
    "                   #\" limit 100 \"\n",
    "                   ).df()\n",
    "\n",
    "    pool_list=pd.concat([pool_list, pool_datadb7])\n",
    "    ticker = ticker+1\n",
    "    pool_list_length = len(pool_list)\n",
    "    listLength = len(pool_datadb7)\n",
    "    recordTimestamp = pool_list.iat[ticker,1]\n",
    "    value1 = pool_list.iat[ticker,24]\n",
    "    #pool_datadb7 = pd.DataFrame(None)\n",
    "\n",
    "    print(\"ticker: \", ticker,\" - records collected: \", listLength, \" - token: \",value1 , \" - pool list length: \", pool_list_length, \" - record from: \", recordTimestamp)\n",
    "\n",
    "print('done')"
   ],
   "metadata": {
    "collapsed": false,
    "pycharm": {
     "name": "#%%\n"
    }
   }
  },
  {
   "cell_type": "code",
   "execution_count": null,
   "outputs": [],
   "source": [
    "path =file+'/balancer_pools '+str(date.today().strftime(\"%b-%d-%Y-%H-%m \"))+str(pool_list_length)+'records.csv'\n",
    "pool_datadb7.to_csv(path, index = False)"
   ],
   "metadata": {
    "collapsed": false,
    "pycharm": {
     "name": "#%%\n"
    }
   }
  },
  {
   "cell_type": "code",
   "execution_count": 279,
   "outputs": [
    {
     "data": {
      "text/plain": "                     liquidityPoolDailySnapshots_id  \\\n0  0xffef4d319572cc667587f92aa9b61bec0f1a979c-19253   \n1  0xffef4d319572cc667587f92aa9b61bec0f1a979c-19230   \n2  0xffef4d319572cc667587f92aa9b61bec0f1a979c-19229   \n3  0xffe6008fcf63732ec8f666a91bf32e9be4eb7d56-19357   \n4  0xffe6008fcf63732ec8f666a91bf32e9be4eb7d56-19354   \n5  0xffe6008fcf63732ec8f666a91bf32e9be4eb7d56-19351   \n6  0xffe6008fcf63732ec8f666a91bf32e9be4eb7d56-19343   \n7  0xffe6008fcf63732ec8f666a91bf32e9be4eb7d56-19334   \n8  0xffe6008fcf63732ec8f666a91bf32e9be4eb7d56-19333   \n9  0xffe6008fcf63732ec8f666a91bf32e9be4eb7d56-19332   \n\n   liquidityPoolDailySnapshots_timestamp  \\\n0                             1663484123   \n1                             1661490018   \n2                             1661459936   \n3                             1672451243   \n4                             1672202651   \n5                             1671986651   \n6                             1671258731   \n7                             1670489015   \n8                             1670392619   \n9                             1670318339   \n\n   liquidityPoolDailySnapshots_blockNumber  \\\n0                                 15558783   \n1                                 15413408   \n2                                 15411212   \n3                                 16301560   \n4                                 16280941   \n5                                 16263032   \n6                                 16202644   \n7                                 16138875   \n8                                 16130920   \n9                                 16124809   \n\n   liquidityPoolDailySnapshots_totalValueLockedUSD  \\\n0                                         0.086901   \n1                                         1.731670   \n2                                        81.059476   \n3                                     29738.270227   \n4                                     29728.245823   \n5                                     30146.873192   \n6                                     29684.854892   \n7                                     31095.901110   \n8                                     31825.215721   \n9                                     31760.634450   \n\n   liquidityPoolDailySnapshots_cumulativeSupplySideRevenueUSD  \\\n0                                         156.197097            \n1                                         156.182984            \n2                                         155.982773            \n3                                        2343.008063            \n4                                        2343.008063            \n5                                        2343.008063            \n6                                        2343.008063            \n7                                        2343.008063            \n8                                        2343.008063            \n9                                        2343.008063            \n\n   liquidityPoolDailySnapshots_dailySupplySideRevenueUSD  \\\n0                                           0.014114       \n1                                           0.200210       \n2                                         155.982773       \n3                                           0.000000       \n4                                           0.000000       \n5                                           0.000000       \n6                                           0.000000       \n7                                           0.000000       \n8                                           0.000000       \n9                                           0.000000       \n\n   liquidityPoolDailySnapshots_cumulativeProtocolSideRevenueUSD  \\\n0                                                0.0              \n1                                                0.0              \n2                                                0.0              \n3                                                0.0              \n4                                                0.0              \n5                                                0.0              \n6                                                0.0              \n7                                                0.0              \n8                                                0.0              \n9                                                0.0              \n\n   liquidityPoolDailySnapshots_dailyProtocolSideRevenueUSD  \\\n0                                                0.0         \n1                                                0.0         \n2                                                0.0         \n3                                                0.0         \n4                                                0.0         \n5                                                0.0         \n6                                                0.0         \n7                                                0.0         \n8                                                0.0         \n9                                                0.0         \n\n   liquidityPoolDailySnapshots_cumulativeTotalRevenueUSD  \\\n0                                         156.197097       \n1                                         156.182984       \n2                                         155.982773       \n3                                        2343.008063       \n4                                        2343.008063       \n5                                        2343.008063       \n6                                        2343.008063       \n7                                        2343.008063       \n8                                        2343.008063       \n9                                        2343.008063       \n\n   liquidityPoolDailySnapshots_dailyTotalRevenueUSD  ...  \\\n0                                          0.014114  ...   \n1                                          0.200210  ...   \n2                                        155.982773  ...   \n3                                          0.000000  ...   \n4                                          0.000000  ...   \n5                                          0.000000  ...   \n6                                          0.000000  ...   \n7                                          0.000000  ...   \n8                                          0.000000  ...   \n9                                          0.000000  ...   \n\n   liquidityPoolDailySnapshots_rewardTokenEmissionsAmount  \\\n0                                                NaN        \n1                                                NaN        \n2                                                NaN        \n3                                                NaN        \n4                                                NaN        \n5                                                NaN        \n6                                                NaN        \n7                                                NaN        \n8                                                NaN        \n9                                                NaN        \n\n      liquidityPoolDailySnapshots_pool_name  \\\n0     Uniswap V3 This Life/Wrapped Ether 1%   \n1     Uniswap V3 This Life/Wrapped Ether 1%   \n2     Uniswap V3 This Life/Wrapped Ether 1%   \n3  Uniswap V3 Ethersocks/Wrapped Ether 0.3%   \n4  Uniswap V3 Ethersocks/Wrapped Ether 0.3%   \n5  Uniswap V3 Ethersocks/Wrapped Ether 0.3%   \n6  Uniswap V3 Ethersocks/Wrapped Ether 0.3%   \n7  Uniswap V3 Ethersocks/Wrapped Ether 0.3%   \n8  Uniswap V3 Ethersocks/Wrapped Ether 0.3%   \n9  Uniswap V3 Ethersocks/Wrapped Ether 0.3%   \n\n   liquidityPoolDailySnapshots_pool_symbol  \\\n0                  This Life/Wrapped Ether   \n1                  This Life/Wrapped Ether   \n2                  This Life/Wrapped Ether   \n3                 Ethersocks/Wrapped Ether   \n4                 Ethersocks/Wrapped Ether   \n5                 Ethersocks/Wrapped Ether   \n6                 Ethersocks/Wrapped Ether   \n7                 Ethersocks/Wrapped Ether   \n8                 Ethersocks/Wrapped Ether   \n9                 Ethersocks/Wrapped Ether   \n\n   liquidityPoolDailySnapshots_pool_outputToken_id  \\\n0                                              NaN   \n1                                              NaN   \n2                                              NaN   \n3                                              NaN   \n4                                              NaN   \n5                                              NaN   \n6                                              NaN   \n7                                              NaN   \n8                                              NaN   \n9                                              NaN   \n\n   liquidityPoolDailySnapshots_pool_outputToken_name  \\\n0                                                NaN   \n1                                                NaN   \n2                                                NaN   \n3                                                NaN   \n4                                                NaN   \n5                                                NaN   \n6                                                NaN   \n7                                                NaN   \n8                                                NaN   \n9                                                NaN   \n\n   liquidityPoolDailySnapshots_pool_outputToken_symbol  \\\n0                                                NaN     \n1                                                NaN     \n2                                                NaN     \n3                                                NaN     \n4                                                NaN     \n5                                                NaN     \n6                                                NaN     \n7                                                NaN     \n8                                                NaN     \n9                                                NaN     \n\n  liquidityPoolDailySnapshots_pool_outputToken_decimals  \\\n0                                                NaN      \n1                                                NaN      \n2                                                NaN      \n3                                                NaN      \n4                                                NaN      \n5                                                NaN      \n6                                                NaN      \n7                                                NaN      \n8                                                NaN      \n9                                                NaN      \n\n  liquidityPoolDailySnapshots_pool_outputToken_lastPriceUSD  \\\n0                                                NaN          \n1                                                NaN          \n2                                                NaN          \n3                                                NaN          \n4                                                NaN          \n5                                                NaN          \n6                                                NaN          \n7                                                NaN          \n8                                                NaN          \n9                                                NaN          \n\n   liquidityPoolDailySnapshots_pool_outputToken_lastPriceBlockNumber  \\\n0                                                NaN                   \n1                                                NaN                   \n2                                                NaN                   \n3                                                NaN                   \n4                                                NaN                   \n5                                                NaN                   \n6                                                NaN                   \n7                                                NaN                   \n8                                                NaN                   \n9                                                NaN                   \n\n             dateTime  \n0 2022-09-18 06:55:23  \n1 2022-08-26 05:00:18  \n2 2022-08-25 20:38:56  \n3 2022-12-31 01:47:23  \n4 2022-12-28 04:44:11  \n5 2022-12-25 16:44:11  \n6 2022-12-17 06:32:11  \n7 2022-12-08 08:43:35  \n8 2022-12-07 05:56:59  \n9 2022-12-06 09:18:59  \n\n[10 rows x 25 columns]",
      "text/html": "<div>\n<style scoped>\n    .dataframe tbody tr th:only-of-type {\n        vertical-align: middle;\n    }\n\n    .dataframe tbody tr th {\n        vertical-align: top;\n    }\n\n    .dataframe thead th {\n        text-align: right;\n    }\n</style>\n<table border=\"1\" class=\"dataframe\">\n  <thead>\n    <tr style=\"text-align: right;\">\n      <th></th>\n      <th>liquidityPoolDailySnapshots_id</th>\n      <th>liquidityPoolDailySnapshots_timestamp</th>\n      <th>liquidityPoolDailySnapshots_blockNumber</th>\n      <th>liquidityPoolDailySnapshots_totalValueLockedUSD</th>\n      <th>liquidityPoolDailySnapshots_cumulativeSupplySideRevenueUSD</th>\n      <th>liquidityPoolDailySnapshots_dailySupplySideRevenueUSD</th>\n      <th>liquidityPoolDailySnapshots_cumulativeProtocolSideRevenueUSD</th>\n      <th>liquidityPoolDailySnapshots_dailyProtocolSideRevenueUSD</th>\n      <th>liquidityPoolDailySnapshots_cumulativeTotalRevenueUSD</th>\n      <th>liquidityPoolDailySnapshots_dailyTotalRevenueUSD</th>\n      <th>...</th>\n      <th>liquidityPoolDailySnapshots_rewardTokenEmissionsAmount</th>\n      <th>liquidityPoolDailySnapshots_pool_name</th>\n      <th>liquidityPoolDailySnapshots_pool_symbol</th>\n      <th>liquidityPoolDailySnapshots_pool_outputToken_id</th>\n      <th>liquidityPoolDailySnapshots_pool_outputToken_name</th>\n      <th>liquidityPoolDailySnapshots_pool_outputToken_symbol</th>\n      <th>liquidityPoolDailySnapshots_pool_outputToken_decimals</th>\n      <th>liquidityPoolDailySnapshots_pool_outputToken_lastPriceUSD</th>\n      <th>liquidityPoolDailySnapshots_pool_outputToken_lastPriceBlockNumber</th>\n      <th>dateTime</th>\n    </tr>\n  </thead>\n  <tbody>\n    <tr>\n      <th>0</th>\n      <td>0xffef4d319572cc667587f92aa9b61bec0f1a979c-19253</td>\n      <td>1663484123</td>\n      <td>15558783</td>\n      <td>0.086901</td>\n      <td>156.197097</td>\n      <td>0.014114</td>\n      <td>0.0</td>\n      <td>0.0</td>\n      <td>156.197097</td>\n      <td>0.014114</td>\n      <td>...</td>\n      <td>NaN</td>\n      <td>Uniswap V3 This Life/Wrapped Ether 1%</td>\n      <td>This Life/Wrapped Ether</td>\n      <td>NaN</td>\n      <td>NaN</td>\n      <td>NaN</td>\n      <td>NaN</td>\n      <td>NaN</td>\n      <td>NaN</td>\n      <td>2022-09-18 06:55:23</td>\n    </tr>\n    <tr>\n      <th>1</th>\n      <td>0xffef4d319572cc667587f92aa9b61bec0f1a979c-19230</td>\n      <td>1661490018</td>\n      <td>15413408</td>\n      <td>1.731670</td>\n      <td>156.182984</td>\n      <td>0.200210</td>\n      <td>0.0</td>\n      <td>0.0</td>\n      <td>156.182984</td>\n      <td>0.200210</td>\n      <td>...</td>\n      <td>NaN</td>\n      <td>Uniswap V3 This Life/Wrapped Ether 1%</td>\n      <td>This Life/Wrapped Ether</td>\n      <td>NaN</td>\n      <td>NaN</td>\n      <td>NaN</td>\n      <td>NaN</td>\n      <td>NaN</td>\n      <td>NaN</td>\n      <td>2022-08-26 05:00:18</td>\n    </tr>\n    <tr>\n      <th>2</th>\n      <td>0xffef4d319572cc667587f92aa9b61bec0f1a979c-19229</td>\n      <td>1661459936</td>\n      <td>15411212</td>\n      <td>81.059476</td>\n      <td>155.982773</td>\n      <td>155.982773</td>\n      <td>0.0</td>\n      <td>0.0</td>\n      <td>155.982773</td>\n      <td>155.982773</td>\n      <td>...</td>\n      <td>NaN</td>\n      <td>Uniswap V3 This Life/Wrapped Ether 1%</td>\n      <td>This Life/Wrapped Ether</td>\n      <td>NaN</td>\n      <td>NaN</td>\n      <td>NaN</td>\n      <td>NaN</td>\n      <td>NaN</td>\n      <td>NaN</td>\n      <td>2022-08-25 20:38:56</td>\n    </tr>\n    <tr>\n      <th>3</th>\n      <td>0xffe6008fcf63732ec8f666a91bf32e9be4eb7d56-19357</td>\n      <td>1672451243</td>\n      <td>16301560</td>\n      <td>29738.270227</td>\n      <td>2343.008063</td>\n      <td>0.000000</td>\n      <td>0.0</td>\n      <td>0.0</td>\n      <td>2343.008063</td>\n      <td>0.000000</td>\n      <td>...</td>\n      <td>NaN</td>\n      <td>Uniswap V3 Ethersocks/Wrapped Ether 0.3%</td>\n      <td>Ethersocks/Wrapped Ether</td>\n      <td>NaN</td>\n      <td>NaN</td>\n      <td>NaN</td>\n      <td>NaN</td>\n      <td>NaN</td>\n      <td>NaN</td>\n      <td>2022-12-31 01:47:23</td>\n    </tr>\n    <tr>\n      <th>4</th>\n      <td>0xffe6008fcf63732ec8f666a91bf32e9be4eb7d56-19354</td>\n      <td>1672202651</td>\n      <td>16280941</td>\n      <td>29728.245823</td>\n      <td>2343.008063</td>\n      <td>0.000000</td>\n      <td>0.0</td>\n      <td>0.0</td>\n      <td>2343.008063</td>\n      <td>0.000000</td>\n      <td>...</td>\n      <td>NaN</td>\n      <td>Uniswap V3 Ethersocks/Wrapped Ether 0.3%</td>\n      <td>Ethersocks/Wrapped Ether</td>\n      <td>NaN</td>\n      <td>NaN</td>\n      <td>NaN</td>\n      <td>NaN</td>\n      <td>NaN</td>\n      <td>NaN</td>\n      <td>2022-12-28 04:44:11</td>\n    </tr>\n    <tr>\n      <th>5</th>\n      <td>0xffe6008fcf63732ec8f666a91bf32e9be4eb7d56-19351</td>\n      <td>1671986651</td>\n      <td>16263032</td>\n      <td>30146.873192</td>\n      <td>2343.008063</td>\n      <td>0.000000</td>\n      <td>0.0</td>\n      <td>0.0</td>\n      <td>2343.008063</td>\n      <td>0.000000</td>\n      <td>...</td>\n      <td>NaN</td>\n      <td>Uniswap V3 Ethersocks/Wrapped Ether 0.3%</td>\n      <td>Ethersocks/Wrapped Ether</td>\n      <td>NaN</td>\n      <td>NaN</td>\n      <td>NaN</td>\n      <td>NaN</td>\n      <td>NaN</td>\n      <td>NaN</td>\n      <td>2022-12-25 16:44:11</td>\n    </tr>\n    <tr>\n      <th>6</th>\n      <td>0xffe6008fcf63732ec8f666a91bf32e9be4eb7d56-19343</td>\n      <td>1671258731</td>\n      <td>16202644</td>\n      <td>29684.854892</td>\n      <td>2343.008063</td>\n      <td>0.000000</td>\n      <td>0.0</td>\n      <td>0.0</td>\n      <td>2343.008063</td>\n      <td>0.000000</td>\n      <td>...</td>\n      <td>NaN</td>\n      <td>Uniswap V3 Ethersocks/Wrapped Ether 0.3%</td>\n      <td>Ethersocks/Wrapped Ether</td>\n      <td>NaN</td>\n      <td>NaN</td>\n      <td>NaN</td>\n      <td>NaN</td>\n      <td>NaN</td>\n      <td>NaN</td>\n      <td>2022-12-17 06:32:11</td>\n    </tr>\n    <tr>\n      <th>7</th>\n      <td>0xffe6008fcf63732ec8f666a91bf32e9be4eb7d56-19334</td>\n      <td>1670489015</td>\n      <td>16138875</td>\n      <td>31095.901110</td>\n      <td>2343.008063</td>\n      <td>0.000000</td>\n      <td>0.0</td>\n      <td>0.0</td>\n      <td>2343.008063</td>\n      <td>0.000000</td>\n      <td>...</td>\n      <td>NaN</td>\n      <td>Uniswap V3 Ethersocks/Wrapped Ether 0.3%</td>\n      <td>Ethersocks/Wrapped Ether</td>\n      <td>NaN</td>\n      <td>NaN</td>\n      <td>NaN</td>\n      <td>NaN</td>\n      <td>NaN</td>\n      <td>NaN</td>\n      <td>2022-12-08 08:43:35</td>\n    </tr>\n    <tr>\n      <th>8</th>\n      <td>0xffe6008fcf63732ec8f666a91bf32e9be4eb7d56-19333</td>\n      <td>1670392619</td>\n      <td>16130920</td>\n      <td>31825.215721</td>\n      <td>2343.008063</td>\n      <td>0.000000</td>\n      <td>0.0</td>\n      <td>0.0</td>\n      <td>2343.008063</td>\n      <td>0.000000</td>\n      <td>...</td>\n      <td>NaN</td>\n      <td>Uniswap V3 Ethersocks/Wrapped Ether 0.3%</td>\n      <td>Ethersocks/Wrapped Ether</td>\n      <td>NaN</td>\n      <td>NaN</td>\n      <td>NaN</td>\n      <td>NaN</td>\n      <td>NaN</td>\n      <td>NaN</td>\n      <td>2022-12-07 05:56:59</td>\n    </tr>\n    <tr>\n      <th>9</th>\n      <td>0xffe6008fcf63732ec8f666a91bf32e9be4eb7d56-19332</td>\n      <td>1670318339</td>\n      <td>16124809</td>\n      <td>31760.634450</td>\n      <td>2343.008063</td>\n      <td>0.000000</td>\n      <td>0.0</td>\n      <td>0.0</td>\n      <td>2343.008063</td>\n      <td>0.000000</td>\n      <td>...</td>\n      <td>NaN</td>\n      <td>Uniswap V3 Ethersocks/Wrapped Ether 0.3%</td>\n      <td>Ethersocks/Wrapped Ether</td>\n      <td>NaN</td>\n      <td>NaN</td>\n      <td>NaN</td>\n      <td>NaN</td>\n      <td>NaN</td>\n      <td>NaN</td>\n      <td>2022-12-06 09:18:59</td>\n    </tr>\n  </tbody>\n</table>\n<p>10 rows × 25 columns</p>\n</div>"
     },
     "execution_count": 279,
     "metadata": {},
     "output_type": "execute_result"
    }
   ],
   "source": [
    "#UNISWAP SUBGRAPH\n",
    "sushi10 = sg.load_api('https://gateway.thegraph.com/api/b0299a6e1895566f98d87e0711fa24ca/subgraphs/id/ELUcwgpm14LKPLrBRuVvPvNKHQ9HvwmtKgKSH6123cr7')\n",
    "\n",
    "pools10 = sushi10.Query.liquidityPoolDailySnapshots(\n",
    "            orderBy='id',\n",
    "            orderDirection='desc',\n",
    "            #skip =(skipValue),\n",
    "            first=1000,\n",
    "            #where={ 'poolId': '0xc45d42f801105e861e86658648e3678ad7aa70f900010000000000000000011e' }\n",
    "        )\n",
    "\n",
    "pool_data10 = sg.query_df([\n",
    "    pools10.id\n",
    "    ,pools10.timestamp\n",
    "    ,pools10.blockNumber\n",
    "    ,pools10.totalValueLockedUSD\n",
    "    ,pools10.cumulativeSupplySideRevenueUSD\n",
    "    ,pools10.dailySupplySideRevenueUSD\n",
    "    ,pools10.cumulativeProtocolSideRevenueUSD\n",
    "    ,pools10.dailyProtocolSideRevenueUSD\n",
    "    ,pools10.cumulativeTotalRevenueUSD\n",
    "    ,pools10.dailyTotalRevenueUSD\n",
    "    ,pools10.dailyVolumeUSD\n",
    "    ,pools10.cumulativeVolumeUSD\n",
    "    ,pools10.outputTokenSupply\n",
    "    ,pools10.outputTokenPriceUSD\n",
    "    ,pools10.stakedOutputTokenAmount\n",
    "    ,pools10.rewardTokenEmissionsAmount\n",
    "    ,pools10.pool.name\n",
    "    ,pools10.pool.symbol\n",
    "    ,pools10.pool.outputToken\n",
    "])\n",
    "\n",
    "pool_datadb10 = db.query(\"select \"\n",
    "               \"    * \"\n",
    "                    \" ,to_timestamp(liquidityPoolDailySnapshots_timestamp) dateTime \"\n",
    "               \"From pool_data10 \"\n",
    "               #\"where lower(liquidityPools_name) like lower('%olympus%') \"\n",
    "                #    \"or lower(pairs_token1_symbol) like lower('%OHM%')  \"\n",
    "               #\" limit 100 \"\n",
    "               ).df()\n",
    "\n",
    "pool_datadb10.head(10)"
   ],
   "metadata": {
    "collapsed": false,
    "pycharm": {
     "name": "#%%\n"
    }
   }
  },
  {
   "cell_type": "code",
   "execution_count": 22,
   "outputs": [
    {
     "name": "stdout",
     "output_type": "stream",
     "text": [
      "done,  1001  records\n"
     ]
    }
   ],
   "source": [
    "#UNISWAP Pools - COMPLETE\n",
    "\n",
    "uniswap = sg.load_api('https://gateway.thegraph.com/api/b0299a6e1895566f98d87e0711fa24ca/subgraphs/id/ELUcwgpm14LKPLrBRuVvPvNKHQ9HvwmtKgKSH6123cr7')\n",
    "listLength=1001\n",
    "ticker = 1\n",
    "trigger=0\n",
    "pool_list = pd.DataFrame()\n",
    "#pool_list=pd.concat([pool_list, pool_datadb6])\n",
    "\n",
    "\n",
    "#0x04F2694C8fcee23e8Fd0dfEA1d4f5Bb8c352111F\n",
    "\n",
    "while listLength < 1000:\n",
    "    listLength=0\n",
    "    skipValue = (ticker-1)*(1000)\n",
    "    pools7 = uniswap.Query.liquidityPoolDailySnapshots(\n",
    "        orderBy='id',\n",
    "        orderDirection='desc',\n",
    "        skip =(skipValue),\n",
    "        first=1000,\n",
    "        where={ 'pool_in': ['0x88051b0eea095007d3bef21ab287be961f3d8598','0xc987d503a9f78f6d1d782c1fff5af4cb34437e3f','0x08f68110f1e0ca67c80a24b4bd206675610f445d','0xeac758487f4868952ac9bf5b5eb885bcf462aa67','0xcf7e21b96a7dae8e1663b5a266fd812cbe973e70','0x1ba81d6cec9eb0e2f9fff78b9379bedc04150461'] }\n",
    "    )\n",
    "\n",
    "    pool_data7 = sg.query_df([\n",
    "        pools7.id\n",
    "        ,pools7.timestamp\n",
    "        ,pools7.blockNumber\n",
    "        ,pools7.totalValueLockedUSD\n",
    "        ,pools7.cumulativeSupplySideRevenueUSD\n",
    "        ,pools7.dailySupplySideRevenueUSD\n",
    "        ,pools7.cumulativeProtocolSideRevenueUSD\n",
    "        ,pools7.dailyProtocolSideRevenueUSD\n",
    "        ,pools7.cumulativeTotalRevenueUSD\n",
    "        ,pools7.dailyTotalRevenueUSD\n",
    "        ,pools7.dailyVolumeUSD\n",
    "        #,pools6.dailyVolumeByTokenAmount\n",
    "        #,pools6.dailyVolumeByTokenUSD\n",
    "        ,pools7.cumulativeVolumeUSD\n",
    "        #,pools6.inputTokenBalances\n",
    "        #,pools6.inputTokenWeights\n",
    "        ,pools7.outputTokenSupply\n",
    "        ,pools7.outputTokenPriceUSD\n",
    "        ,pools7.stakedOutputTokenAmount\n",
    "        ,pools7.rewardTokenEmissionsAmount\n",
    "        #,pools6.rewardTokenEmissionsUSD\n",
    "        ,pools7.pool.name\n",
    "        ,pools7.pool.symbol\n",
    "        ,pools7.pool.outputToken\n",
    "    ])\n",
    "\n",
    "    pool_datadb7 = db.query(\"select \"\n",
    "                   \"    * \"\n",
    "                        \" ,to_timestamp(liquidityPoolDailySnapshots_timestamp) dateTime \"\n",
    "                   \"From pool_data7 \"\n",
    "                   #\"where lower(liquidityPools_name) like lower('%olympus%') \"\n",
    "                    #    \"or lower(pairs_token1_symbol) like lower('%OHM%')  \"\n",
    "                   #\" limit 100 \"\n",
    "                   ).df()\n",
    "\n",
    "    pool_list=pd.concat([pool_list, pool_datadb7])\n",
    "    ticker = ticker+1\n",
    "    pool_list_length = len(pool_list)\n",
    "    listLength = len(pool_datadb7)\n",
    "    recordTimestamp = pool_list.iat[ticker,1]\n",
    "    value1 = pool_list.iat[ticker,24]\n",
    "    #pool_datadb7 = pd.DataFrame(None)\n",
    "\n",
    "    print(\"ticker: \", ticker,\" - records collected: \", listLength, \" - token: \",value1 , \" - pool list length: \", pool_list_length, \" - record from: \", recordTimestamp)\n",
    "\n",
    "print('done, ', listLength, ' records')"
   ],
   "metadata": {
    "collapsed": false,
    "pycharm": {
     "name": "#%%\n"
    }
   }
  },
  {
   "cell_type": "code",
   "execution_count": 17,
   "outputs": [],
   "source": [
    "path =file+'/uniswap_pools '+str(date.today().strftime(\"%b-%d-%Y-%H-%m \"))+str(pool_list_length)+'records.csv'\n",
    "pool_datadb7.to_csv(path, index = False)"
   ],
   "metadata": {
    "collapsed": false,
    "pycharm": {
     "name": "#%%\n"
    }
   }
  },
  {
   "cell_type": "code",
   "execution_count": null,
   "outputs": [],
   "source": [],
   "metadata": {
    "collapsed": false,
    "pycharm": {
     "name": "#%%\n"
    }
   }
  },
  {
   "cell_type": "code",
   "execution_count": 12,
   "outputs": [
    {
     "name": "stdout",
     "output_type": "stream",
     "text": [
      "ticker:  2  - records collected:  1000  - token:  2022-08-25 20:38:56  - pool list length:  1000  - record from:  1661459936\n",
      "ticker:  3  - records collected:  1000  - token:  2022-12-31 01:47:23  - pool list length:  2000  - record from:  1672451243\n",
      "ticker:  4  - records collected:  1000  - token:  2022-12-28 04:44:11  - pool list length:  3000  - record from:  1672202651\n",
      "ticker:  5  - records collected:  1000  - token:  2022-12-25 16:44:11  - pool list length:  4000  - record from:  1671986651\n",
      "ticker:  6  - records collected:  1000  - token:  2022-12-17 06:32:11  - pool list length:  5000  - record from:  1671258731\n",
      "ticker:  7  - records collected:  1000  - token:  2022-12-08 08:43:35  - pool list length:  6000  - record from:  1670489015\n",
      "ticker:  8  - records collected:  1000  - token:  2022-12-07 05:56:59  - pool list length:  7000  - record from:  1670392619\n",
      "ticker:  9  - records collected:  1000  - token:  2022-12-06 09:18:59  - pool list length:  8000  - record from:  1670318339\n",
      "ticker:  10  - records collected:  1000  - token:  2022-11-18 20:42:59  - pool list length:  9000  - record from:  1668804179\n",
      "ticker:  11  - records collected:  1000  - token:  2022-11-03 03:38:47  - pool list length:  10000  - record from:  1667446727\n",
      "ticker:  12  - records collected:  1000  - token:  2022-10-21 14:25:35  - pool list length:  11000  - record from:  1666362335\n",
      "ticker:  13  - records collected:  1000  - token:  2022-10-19 05:24:11  - pool list length:  12000  - record from:  1666157051\n",
      "ticker:  14  - records collected:  1000  - token:  2022-10-18 18:34:23  - pool list length:  13000  - record from:  1666118063\n",
      "ticker:  15  - records collected:  1000  - token:  2022-10-10 16:58:35  - pool list length:  14000  - record from:  1665421115\n",
      "ticker:  16  - records collected:  1000  - token:  2022-10-06 03:38:59  - pool list length:  15000  - record from:  1665027539\n",
      "ticker:  17  - records collected:  1000  - token:  2022-10-02 15:41:11  - pool list length:  16000  - record from:  1664725271\n",
      "ticker:  18  - records collected:  1000  - token:  2022-09-25 03:37:23  - pool list length:  17000  - record from:  1664077043\n",
      "ticker:  19  - records collected:  1000  - token:  2022-09-12 20:45:36  - pool list length:  18000  - record from:  1663015536\n",
      "ticker:  20  - records collected:  1000  - token:  2022-09-11 16:18:36  - pool list length:  19000  - record from:  1662913116\n",
      "ticker:  21  - records collected:  1000  - token:  2022-09-10 08:01:12  - pool list length:  20000  - record from:  1662796872\n",
      "ticker:  22  - records collected:  1000  - token:  2022-08-17 19:30:02  - pool list length:  21000  - record from:  1660764602\n",
      "ticker:  23  - records collected:  1000  - token:  2022-08-11 21:45:41  - pool list length:  22000  - record from:  1660254341\n",
      "ticker:  24  - records collected:  1000  - token:  2022-08-08 08:58:41  - pool list length:  23000  - record from:  1659949121\n",
      "ticker:  25  - records collected:  1000  - token:  2022-08-07 10:53:58  - pool list length:  24000  - record from:  1659869638\n",
      "ticker:  26  - records collected:  1000  - token:  2022-08-05 11:30:39  - pool list length:  25000  - record from:  1659699039\n",
      "ticker:  27  - records collected:  1000  - token:  2022-08-04 19:22:43  - pool list length:  26000  - record from:  1659640963\n",
      "ticker:  28  - records collected:  1000  - token:  2022-07-29 15:50:32  - pool list length:  27000  - record from:  1659109832\n",
      "ticker:  29  - records collected:  1000  - token:  2022-07-28 22:42:23  - pool list length:  28000  - record from:  1659048143\n",
      "ticker:  30  - records collected:  1000  - token:  2022-07-27 19:04:05  - pool list length:  29000  - record from:  1658948645\n",
      "ticker:  31  - records collected:  1000  - token:  2022-07-26 21:10:32  - pool list length:  30000  - record from:  1658869832\n",
      "ticker:  32  - records collected:  1000  - token:  2022-07-11 01:54:54  - pool list length:  31000  - record from:  1657504494\n",
      "ticker:  33  - records collected:  1000  - token:  2022-07-08 07:08:55  - pool list length:  32000  - record from:  1657264135\n",
      "ticker:  34  - records collected:  1000  - token:  2022-07-03 08:58:47  - pool list length:  33000  - record from:  1656838727\n",
      "ticker:  35  - records collected:  1000  - token:  2022-07-02 05:51:11  - pool list length:  34000  - record from:  1656741071\n",
      "ticker:  36  - records collected:  1000  - token:  2022-07-01 18:50:05  - pool list length:  35000  - record from:  1656701405\n",
      "ticker:  37  - records collected:  1000  - token:  2022-06-30 13:37:07  - pool list length:  36000  - record from:  1656596227\n",
      "ticker:  38  - records collected:  1000  - token:  2022-06-29 07:30:20  - pool list length:  37000  - record from:  1656487820\n",
      "ticker:  39  - records collected:  1000  - token:  2022-06-28 23:04:24  - pool list length:  38000  - record from:  1656457464\n",
      "ticker:  40  - records collected:  1000  - token:  2022-06-20 04:33:08  - pool list length:  39000  - record from:  1655699588\n",
      "ticker:  41  - records collected:  1000  - token:  2022-06-19 12:19:36  - pool list length:  40000  - record from:  1655641176\n",
      "ticker:  42  - records collected:  1000  - token:  2022-06-10 09:13:09  - pool list length:  41000  - record from:  1654852389\n",
      "ticker:  43  - records collected:  1000  - token:  2022-06-08 13:22:07  - pool list length:  42000  - record from:  1654694527\n",
      "ticker:  44  - records collected:  1000  - token:  2022-05-31 07:22:44  - pool list length:  43000  - record from:  1653981764\n",
      "ticker:  45  - records collected:  1000  - token:  2022-05-25 14:20:02  - pool list length:  44000  - record from:  1653488402\n",
      "ticker:  46  - records collected:  1000  - token:  2022-05-18 05:01:25  - pool list length:  45000  - record from:  1652850085\n",
      "ticker:  47  - records collected:  1000  - token:  2022-05-16 17:41:16  - pool list length:  46000  - record from:  1652722876\n",
      "ticker:  48  - records collected:  1000  - token:  2022-05-13 15:00:50  - pool list length:  47000  - record from:  1652454050\n",
      "ticker:  49  - records collected:  1000  - token:  2022-05-06 18:23:30  - pool list length:  48000  - record from:  1651861410\n",
      "ticker:  50  - records collected:  1000  - token:  2022-05-02 22:31:53  - pool list length:  49000  - record from:  1651530713\n",
      "ticker:  51  - records collected:  1000  - token:  2022-04-16 21:07:29  - pool list length:  50000  - record from:  1650143249\n",
      "ticker:  52  - records collected:  1000  - token:  2022-04-06 03:59:28  - pool list length:  51000  - record from:  1649217568\n",
      "ticker:  53  - records collected:  1000  - token:  2022-04-05 06:57:08  - pool list length:  52000  - record from:  1649141828\n",
      "ticker:  54  - records collected:  1000  - token:  2022-03-31 05:27:26  - pool list length:  53000  - record from:  1648704446\n",
      "ticker:  55  - records collected:  1000  - token:  2022-03-29 21:57:29  - pool list length:  54000  - record from:  1648591049\n",
      "ticker:  56  - records collected:  1000  - token:  2022-03-24 08:05:08  - pool list length:  55000  - record from:  1648109108\n",
      "ticker:  57  - records collected:  1000  - token:  2022-03-20 02:40:02  - pool list length:  56000  - record from:  1647744002\n",
      "ticker:  58  - records collected:  1000  - token:  2022-03-16 22:47:30  - pool list length:  57000  - record from:  1647470850\n",
      "ticker:  59  - records collected:  1000  - token:  2022-03-14 02:18:38  - pool list length:  58000  - record from:  1647224318\n",
      "ticker:  60  - records collected:  1000  - token:  2022-03-13 14:29:27  - pool list length:  59000  - record from:  1647181767\n",
      "ticker:  61  - records collected:  1000  - token:  2022-03-09 12:03:09  - pool list length:  60000  - record from:  1646827389\n",
      "ticker:  62  - records collected:  1000  - token:  2022-03-07 06:59:40  - pool list length:  61000  - record from:  1646636380\n",
      "ticker:  63  - records collected:  1000  - token:  2022-03-06 11:36:03  - pool list length:  62000  - record from:  1646566563\n",
      "ticker:  64  - records collected:  1000  - token:  2022-03-04 13:00:05  - pool list length:  63000  - record from:  1646398805\n",
      "ticker:  65  - records collected:  1000  - token:  2022-03-03 00:05:32  - pool list length:  64000  - record from:  1646265932\n",
      "ticker:  66  - records collected:  1000  - token:  2022-02-23 11:15:34  - pool list length:  65000  - record from:  1645614934\n",
      "ticker:  67  - records collected:  1000  - token:  2022-02-17 05:45:01  - pool list length:  66000  - record from:  1645076701\n",
      "ticker:  68  - records collected:  1000  - token:  2022-02-03 13:59:27  - pool list length:  67000  - record from:  1643896767\n",
      "ticker:  69  - records collected:  1000  - token:  2022-01-28 21:53:16  - pool list length:  68000  - record from:  1643406796\n",
      "ticker:  70  - records collected:  1000  - token:  2022-01-26 12:52:35  - pool list length:  69000  - record from:  1643201555\n",
      "ticker:  71  - records collected:  1000  - token:  2022-01-24 10:04:05  - pool list length:  70000  - record from:  1643018645\n",
      "ticker:  72  - records collected:  1000  - token:  2022-01-21 13:29:28  - pool list length:  71000  - record from:  1642771768\n",
      "ticker:  73  - records collected:  1000  - token:  2022-01-13 14:16:32  - pool list length:  72000  - record from:  1642083392\n",
      "ticker:  74  - records collected:  1000  - token:  2022-01-02 17:03:44  - pool list length:  73000  - record from:  1641143024\n",
      "ticker:  75  - records collected:  1000  - token:  2022-01-01 13:50:39  - pool list length:  74000  - record from:  1641045039\n",
      "ticker:  76  - records collected:  1000  - token:  2021-12-31 15:37:49  - pool list length:  75000  - record from:  1640965069\n",
      "ticker:  77  - records collected:  1000  - token:  2021-12-29 01:45:18  - pool list length:  76000  - record from:  1640742318\n",
      "ticker:  78  - records collected:  1000  - token:  2021-12-28 18:47:00  - pool list length:  77000  - record from:  1640717220\n",
      "ticker:  79  - records collected:  1000  - token:  2021-12-24 17:52:06  - pool list length:  78000  - record from:  1640368326\n",
      "ticker:  80  - records collected:  1000  - token:  2021-12-17 18:21:55  - pool list length:  79000  - record from:  1639765315\n",
      "ticker:  81  - records collected:  1000  - token:  2021-12-15 16:45:17  - pool list length:  80000  - record from:  1639586717\n",
      "ticker:  82  - records collected:  1000  - token:  2021-12-13 12:08:13  - pool list length:  81000  - record from:  1639397293\n",
      "ticker:  83  - records collected:  1000  - token:  2021-12-12 23:37:19  - pool list length:  82000  - record from:  1639352239\n",
      "ticker:  84  - records collected:  1000  - token:  2021-12-11 17:30:18  - pool list length:  83000  - record from:  1639243818\n",
      "ticker:  85  - records collected:  1000  - token:  2021-12-10 10:12:29  - pool list length:  84000  - record from:  1639131149\n",
      "ticker:  86  - records collected:  1000  - token:  2021-12-09 20:05:21  - pool list length:  85000  - record from:  1639080321\n",
      "ticker:  87  - records collected:  1000  - token:  2021-12-08 08:19:14  - pool list length:  86000  - record from:  1638951554\n",
      "ticker:  88  - records collected:  1000  - token:  2021-12-07 19:12:53  - pool list length:  87000  - record from:  1638904373\n",
      "ticker:  89  - records collected:  1000  - token:  2021-12-06 03:19:20  - pool list length:  88000  - record from:  1638760760\n",
      "ticker:  90  - records collected:  1000  - token:  2021-12-05 05:10:45  - pool list length:  89000  - record from:  1638681045\n",
      "ticker:  91  - records collected:  1000  - token:  2021-12-04 11:11:24  - pool list length:  90000  - record from:  1638616284\n",
      "ticker:  92  - records collected:  1000  - token:  2021-12-03 15:42:26  - pool list length:  91000  - record from:  1638546146\n",
      "ticker:  93  - records collected:  1000  - token:  2021-12-02 18:20:05  - pool list length:  92000  - record from:  1638469205\n",
      "ticker:  94  - records collected:  1000  - token:  2021-11-27 13:07:55  - pool list length:  93000  - record from:  1638018475\n",
      "ticker:  95  - records collected:  1000  - token:  2021-11-26 19:06:20  - pool list length:  94000  - record from:  1637953580\n",
      "ticker:  96  - records collected:  1000  - token:  2021-11-25 23:42:17  - pool list length:  95000  - record from:  1637883737\n",
      "ticker:  97  - records collected:  1000  - token:  2021-11-24 08:20:28  - pool list length:  96000  - record from:  1637742028\n",
      "ticker:  98  - records collected:  1000  - token:  2021-11-23 23:51:23  - pool list length:  97000  - record from:  1637711483\n",
      "ticker:  99  - records collected:  1000  - token:  2021-11-22 14:56:21  - pool list length:  98000  - record from:  1637592981\n",
      "done\n"
     ]
    }
   ],
   "source": [
    "balancer = sg.load_api('https://gateway.thegraph.com/api/b0299a6e1895566f98d87e0711fa24ca/subgraphs/id/ELUcwgpm14LKPLrBRuVvPvNKHQ9HvwmtKgKSH6123cr7')\n",
    "listLength=1000\n",
    "ticker = 1\n",
    "trigger=0\n",
    "pool_list = pd.DataFrame()\n",
    "#pool_list=pd.concat([pool_list, pool_datadb6])\n",
    "\n",
    "\n",
    "#0x04F2694C8fcee23e8Fd0dfEA1d4f5Bb8c352111F\n",
    "\n",
    "while ticker < 99:\n",
    "    listLength=0\n",
    "    skipValue = (ticker-1)*(1000)\n",
    "    pools7 = balancer.Query.liquidityPoolDailySnapshots(\n",
    "        orderBy='id',\n",
    "        orderDirection='desc',\n",
    "        skip =(skipValue),\n",
    "        first=1000,\n",
    "        #where={ 'pool': '0xfffae4a0f4ac251f4705717cd24cadccc9f33e06' } #'0xfffae4a0f4ac251f4705717cd24cadccc9f33e06'  for Olympus/Wrapped Ether LP\n",
    "    )\n",
    "\n",
    "    pool_data7 = sg.query_df([\n",
    "        pools7.id\n",
    "        ,pools7.timestamp\n",
    "        ,pools7.blockNumber\n",
    "        ,pools7.totalValueLockedUSD\n",
    "        ,pools7.cumulativeSupplySideRevenueUSD\n",
    "        ,pools7.dailySupplySideRevenueUSD\n",
    "        ,pools7.cumulativeProtocolSideRevenueUSD\n",
    "        ,pools7.dailyProtocolSideRevenueUSD\n",
    "        ,pools7.cumulativeTotalRevenueUSD\n",
    "        ,pools7.dailyTotalRevenueUSD\n",
    "        ,pools7.dailyVolumeUSD\n",
    "        #,pools6.dailyVolumeByTokenAmount\n",
    "        #,pools6.dailyVolumeByTokenUSD\n",
    "        ,pools7.cumulativeVolumeUSD\n",
    "        #,pools6.inputTokenBalances\n",
    "        #,pools6.inputTokenWeights\n",
    "        ,pools7.outputTokenSupply\n",
    "        ,pools7.outputTokenPriceUSD\n",
    "        ,pools7.stakedOutputTokenAmount\n",
    "        ,pools7.rewardTokenEmissionsAmount\n",
    "        #,pools6.rewardTokenEmissionsUSD\n",
    "        ,pools7.pool.name\n",
    "        ,pools7.pool.symbol\n",
    "        ,pools7.pool.outputToken\n",
    "    ])\n",
    "\n",
    "    pool_datadb7 = db.query(\"select \"\n",
    "                   \"    * \"\n",
    "                        \" ,to_timestamp(liquidityPoolDailySnapshots_timestamp) dateTime \"\n",
    "                   \"From pool_data7 \"\n",
    "                   #\"where lower(liquidityPools_name) like lower('%olympus%') \"\n",
    "                    #    \"or lower(pairs_token1_symbol) like lower('%OHM%')  \"\n",
    "                   #\" limit 100 \"\n",
    "                   ).df()\n",
    "\n",
    "    pool_list=pd.concat([pool_list, pool_datadb7])\n",
    "    ticker = ticker+1\n",
    "    pool_list_length = len(pool_list)\n",
    "    listLength = len(pool_datadb7)\n",
    "    recordTimestamp = pool_list.iat[ticker,1]\n",
    "    value1 = pool_list.iat[ticker,24]\n",
    "    #pool_datadb7 = pd.DataFrame(None)\n",
    "\n",
    "    print(\"ticker: \", ticker,\" - records collected: \", listLength, \" - token: \",value1 , \" - pool list length: \", pool_list_length, \" - record from: \", recordTimestamp)\n",
    "\n",
    "print('done')"
   ],
   "metadata": {
    "collapsed": false,
    "pycharm": {
     "name": "#%%\n"
    }
   }
  },
  {
   "cell_type": "code",
   "execution_count": 13,
   "outputs": [],
   "source": [
    "path =file+'/balancer_pools '+str(date.today().strftime(\"%b-%d-%Y-%H-%m \"))+str(pool_list_length)+'records.csv'\n",
    "pool_datadb7.to_csv(path, index = False)"
   ],
   "metadata": {
    "collapsed": false,
    "pycharm": {
     "name": "#%%\n"
    }
   }
  },
  {
   "cell_type": "code",
   "execution_count": null,
   "outputs": [],
   "source": [],
   "metadata": {
    "collapsed": false,
    "pycharm": {
     "name": "#%%\n"
    }
   }
  }
 ],
 "metadata": {
  "kernelspec": {
   "display_name": "Python 3",
   "language": "python",
   "name": "python3"
  },
  "language_info": {
   "codemirror_mode": {
    "name": "ipython",
    "version": 2
   },
   "file_extension": ".py",
   "mimetype": "text/x-python",
   "name": "python",
   "nbconvert_exporter": "python",
   "pygments_lexer": "ipython2",
   "version": "2.7.6"
  }
 },
 "nbformat": 4,
 "nbformat_minor": 0
}