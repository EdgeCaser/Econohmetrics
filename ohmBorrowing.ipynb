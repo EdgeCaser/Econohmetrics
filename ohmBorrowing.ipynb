{
 "cells": [
  {
   "cell_type": "code",
   "execution_count": 5,
   "metadata": {
    "collapsed": true
   },
   "outputs": [],
   "source": [
    "from datetime import datetime\n",
    "import datetime as dt\n",
    "import time\n",
    "from subgrounds.subgraph import SyntheticField, FieldPath\n",
    "from subgrounds.subgrounds import Subgrounds\n",
    "import pandas as pd\n",
    "import duckdb as db\n",
    "import seaborn as sns\n",
    "import matplotlib.pyplot as plt\n",
    "import IPython as ip\n",
    "import  os as os\n"
   ]
  },
  {
   "cell_type": "markdown",
   "source": [
    "****************************************************************************************************************\n",
    "****************************************************************************************************************\n",
    "AS ALWAYS START WITH SILO\n",
    "https://app.silo.finance/silo/0xf5ffabab8f9a6f4f6de1f0dd6e0820f68657d7db?screen=deposit"
   ],
   "metadata": {
    "collapsed": false
   }
  },
  {
   "cell_type": "code",
   "execution_count": 6,
   "outputs": [],
   "source": [
    "sg = Subgrounds()\n",
    "apiKey = input('API Key, please')"
   ],
   "metadata": {
    "collapsed": false
   }
  },
  {
   "cell_type": "code",
   "execution_count": 79,
   "outputs": [],
   "source": [
    "#for when we save the files\n",
    "file = input('Selet a folder to save output') ##enter your file path here - the file is in the repo \"summary_stats.csv\".\n",
    "file = file+'/data'\n",
    "if not os.path.exists(file):\n",
    "    os.makedirs(file)"
   ],
   "metadata": {
    "collapsed": false
   }
  },
  {
   "cell_type": "code",
   "execution_count": 80,
   "outputs": [],
   "source": [
    "#SILO subgraph: https://gateway.thegraph.com/api/[api-key]/subgraphs/id/6rcT2GzBXGoi3ZMus92LHajM2b9qWGj7Z3dDhPxoUogB\n",
    "silo = sg.load_api('https://gateway.thegraph.com/api/'+apiKey+'/subgraphs/id/6rcT2GzBXGoi3ZMus92LHajM2b9qWGj7Z3dDhPxoUogB')"
   ],
   "metadata": {
    "collapsed": false
   }
  },
  {
   "cell_type": "code",
   "execution_count": 410,
   "outputs": [
    {
     "data": {
      "text/plain": "Empty DataFrame\nColumns: []\nIndex: []",
      "text/html": "<div>\n<style scoped>\n    .dataframe tbody tr th:only-of-type {\n        vertical-align: middle;\n    }\n\n    .dataframe tbody tr th {\n        vertical-align: top;\n    }\n\n    .dataframe thead th {\n        text-align: right;\n    }\n</style>\n<table border=\"1\" class=\"dataframe\">\n  <thead>\n    <tr style=\"text-align: right;\">\n      <th></th>\n    </tr>\n  </thead>\n  <tbody>\n  </tbody>\n</table>\n</div>"
     },
     "execution_count": 410,
     "metadata": {},
     "output_type": "execute_result"
    }
   ],
   "source": [
    "oldBorrowsDb = pd.DataFrame()\n",
    "siloFileName = file+'/siloFinanceOhmBorrows.csv'\n",
    "try:\n",
    "    oldBorrowsDb = pd.read_csv (siloFileName)\n",
    "except:\n",
    "    oldBorrowsDb = pd.DataFrame()\n",
    "oldBorrowsDb.head(100)"
   ],
   "metadata": {
    "collapsed": false
   }
  },
  {
   "cell_type": "code",
   "execution_count": 411,
   "outputs": [
    {
     "data": {
      "text/plain": "0"
     },
     "execution_count": 411,
     "metadata": {},
     "output_type": "execute_result"
    }
   ],
   "source": [
    "maxSiloBorrowTimestamp = 0\n",
    "try:\n",
    "    maxSiloBorrowTimestamp = (max(0,oldBorrowsDb['transaction_timestamp'].max()))-5\n",
    "except:\n",
    "        maxSiloBorrowTimestamp = 0\n",
    "maxSiloBorrowTimestamp = int(maxSiloBorrowTimestamp)\n",
    "maxSiloBorrowTimestamp"
   ],
   "metadata": {
    "collapsed": false
   }
  },
  {
   "cell_type": "code",
   "execution_count": 412,
   "outputs": [],
   "source": [
    "#0xf5ffabab8f9a6f4f6de1f0dd6e0820f68657d7db"
   ],
   "metadata": {
    "collapsed": false
   }
  },
  {
   "cell_type": "code",
   "execution_count": 413,
   "outputs": [
    {
     "name": "stdout",
     "output_type": "stream",
     "text": [
      "iterations:  0 Lines skipped:  0 records collected:  24  - latest recordID:  0x264ecb6cc9089ebf8fcb6f8ae5ce26358b15b0551e611a9264bcb3d4f9dd6ae8   0x264ecb6cc9089ebf8fcb6f8ae5ce26358b15b0551e611a9264bcb3d4f9dd6ae8-135  - borrows DB length:  24  - latest record from:  2023-02-17 04:21:59 2 days ago\n",
      "Done. Total Records collected:  24\n"
     ]
    }
   ],
   "source": [
    "##this captures the ENTIRE list of people who borrowed OHM\n",
    "borrowTicker = 0\n",
    "borrowslist = pd.DataFrame()\n",
    "siloBorrowsDb = pd.DataFrame()\n",
    "borrowListLength = 1000\n",
    "datediff = 0\n",
    "now=0\n",
    "daysAgo=0\n",
    "daysLimit = 45\n",
    "exit = False\n",
    "while exit==False:\n",
    "    skipValue = (borrowTicker)*(1000)\n",
    "    borrows = silo.Query.borrows(\n",
    "        orderBy='timestamp',\n",
    "        orderDirection='desc',\n",
    "        first=1000,\n",
    "        skip = skipValue,\n",
    "        where={ 'market': '0xf5ffabab8f9a6f4f6de1f0dd6e0820f68657d7db'\n",
    "                ,'timestamp_gte': maxSiloBorrowTimestamp\n",
    "                } #gOHM market\n",
    "    )\n",
    "\n",
    "    borrowslist = sg.query_df([\n",
    "        borrows.id\n",
    "        ,borrows.hash\n",
    "        ,borrows.blockNumber\n",
    "        ,borrows.timestamp\n",
    "        ,borrows.account.id\n",
    "        ,borrows.market.id\n",
    "        ,borrows.market.protocol.id\n",
    "        ,borrows.market.rates.rate\n",
    "        ,borrows.market.rates.duration\n",
    "        ,borrows.market.rates.side\n",
    "        ,borrows.market.rates.type\n",
    "        ,borrows.market.rates.token.id\n",
    "        ,borrows.asset.name\n",
    "        ,borrows.asset.symbol\n",
    "        ,borrows.asset.decimals\n",
    "        ,borrows.asset.lastPriceUSD\n",
    "        ,borrows.amount\n",
    "        ,borrows.amountUSD\n",
    "    ])\n",
    "\n",
    "    siloBorrowsDb=pd.concat([siloBorrowsDb, borrowslist])\n",
    "    recordTimestamp1 = siloBorrowsDb.iat[borrowTicker,3]\n",
    "    recordTimestamp = dt.datetime.fromtimestamp( recordTimestamp1 )\n",
    "    now = (int(dt.datetime.utcnow().timestamp()))\n",
    "    datediff=abs(int(now) - recordTimestamp1)\n",
    "    daysAgo = int(datediff/86400)\n",
    "    siloBorrowsDbLength = len(siloBorrowsDb)\n",
    "    borrowListLength = len(borrowslist)\n",
    "    recordID = siloBorrowsDb.iat[borrowTicker,0]\n",
    "    borrow = siloBorrowsDb.iat[borrowTicker,1]\n",
    "    print(\"iterations: \", borrowTicker, \"Lines skipped: \",skipValue, \"records collected: \", borrowListLength, \" - latest recordID: \",borrow, \" \", recordID , \" - borrows DB length: \", siloBorrowsDbLength, \" - latest record from: \", recordTimestamp, daysAgo,\"days ago\")\n",
    "    #print(\"iterations: \", borrowTicker, \"records collected: \", borrowListLength, \" - userdb length: \", borrowsDbLength)\n",
    "    borrowTicker = borrowTicker+1\n",
    "\n",
    "    if daysAgo>daysLimit: exit =True\n",
    "    if borrowListLength<1000: exit =True\n",
    "\n",
    "siloBorrowsDb.columns = siloBorrowsDb.columns.str.replace(\"borrows\", \"transaction\")\n",
    "siloBorrowsDb['event']='borrow'\n",
    "siloBorrowsDb.drop_duplicates\n",
    "print(\"Done. Total Records collected: \", siloBorrowsDbLength)"
   ],
   "metadata": {
    "collapsed": false
   }
  },
  {
   "cell_type": "code",
   "execution_count": 414,
   "outputs": [
    {
     "data": {
      "text/plain": "                                       transaction_id  \\\n0   0x264ecb6cc9089ebf8fcb6f8ae5ce26358b15b0551e61...   \n1   0x264ecb6cc9089ebf8fcb6f8ae5ce26358b15b0551e61...   \n2   0x264ecb6cc9089ebf8fcb6f8ae5ce26358b15b0551e61...   \n3   0x264ecb6cc9089ebf8fcb6f8ae5ce26358b15b0551e61...   \n4   0x264ecb6cc9089ebf8fcb6f8ae5ce26358b15b0551e61...   \n5   0x264ecb6cc9089ebf8fcb6f8ae5ce26358b15b0551e61...   \n6   0x6726ea9fa581ab0a5fa26b8a112c95e690500f446c39...   \n7   0x6726ea9fa581ab0a5fa26b8a112c95e690500f446c39...   \n8   0x6726ea9fa581ab0a5fa26b8a112c95e690500f446c39...   \n9   0x6726ea9fa581ab0a5fa26b8a112c95e690500f446c39...   \n10  0x6726ea9fa581ab0a5fa26b8a112c95e690500f446c39...   \n11  0x6726ea9fa581ab0a5fa26b8a112c95e690500f446c39...   \n12  0x5fca09aaf64619a5d644ed392a64f5bd08b9e6b4b46e...   \n13  0x5fca09aaf64619a5d644ed392a64f5bd08b9e6b4b46e...   \n14  0x5fca09aaf64619a5d644ed392a64f5bd08b9e6b4b46e...   \n15  0x5fca09aaf64619a5d644ed392a64f5bd08b9e6b4b46e...   \n16  0x5fca09aaf64619a5d644ed392a64f5bd08b9e6b4b46e...   \n17  0x5fca09aaf64619a5d644ed392a64f5bd08b9e6b4b46e...   \n18  0x84bd007387e25c8e55e116e740aa58c36c6925d04156...   \n19  0x84bd007387e25c8e55e116e740aa58c36c6925d04156...   \n20  0x84bd007387e25c8e55e116e740aa58c36c6925d04156...   \n21  0x84bd007387e25c8e55e116e740aa58c36c6925d04156...   \n22  0x84bd007387e25c8e55e116e740aa58c36c6925d04156...   \n23  0x84bd007387e25c8e55e116e740aa58c36c6925d04156...   \n\n                                     transaction_hash  \\\n0   0x264ecb6cc9089ebf8fcb6f8ae5ce26358b15b0551e61...   \n1   0x264ecb6cc9089ebf8fcb6f8ae5ce26358b15b0551e61...   \n2   0x264ecb6cc9089ebf8fcb6f8ae5ce26358b15b0551e61...   \n3   0x264ecb6cc9089ebf8fcb6f8ae5ce26358b15b0551e61...   \n4   0x264ecb6cc9089ebf8fcb6f8ae5ce26358b15b0551e61...   \n5   0x264ecb6cc9089ebf8fcb6f8ae5ce26358b15b0551e61...   \n6   0x6726ea9fa581ab0a5fa26b8a112c95e690500f446c39...   \n7   0x6726ea9fa581ab0a5fa26b8a112c95e690500f446c39...   \n8   0x6726ea9fa581ab0a5fa26b8a112c95e690500f446c39...   \n9   0x6726ea9fa581ab0a5fa26b8a112c95e690500f446c39...   \n10  0x6726ea9fa581ab0a5fa26b8a112c95e690500f446c39...   \n11  0x6726ea9fa581ab0a5fa26b8a112c95e690500f446c39...   \n12  0x5fca09aaf64619a5d644ed392a64f5bd08b9e6b4b46e...   \n13  0x5fca09aaf64619a5d644ed392a64f5bd08b9e6b4b46e...   \n14  0x5fca09aaf64619a5d644ed392a64f5bd08b9e6b4b46e...   \n15  0x5fca09aaf64619a5d644ed392a64f5bd08b9e6b4b46e...   \n16  0x5fca09aaf64619a5d644ed392a64f5bd08b9e6b4b46e...   \n17  0x5fca09aaf64619a5d644ed392a64f5bd08b9e6b4b46e...   \n18  0x84bd007387e25c8e55e116e740aa58c36c6925d04156...   \n19  0x84bd007387e25c8e55e116e740aa58c36c6925d04156...   \n20  0x84bd007387e25c8e55e116e740aa58c36c6925d04156...   \n21  0x84bd007387e25c8e55e116e740aa58c36c6925d04156...   \n22  0x84bd007387e25c8e55e116e740aa58c36c6925d04156...   \n23  0x84bd007387e25c8e55e116e740aa58c36c6925d04156...   \n\n    transaction_blockNumber  transaction_timestamp  \\\n0                  16648400             1676636519   \n1                  16648400             1676636519   \n2                  16648400             1676636519   \n3                  16648400             1676636519   \n4                  16648400             1676636519   \n5                  16648400             1676636519   \n6                  16628130             1676391467   \n7                  16628130             1676391467   \n8                  16628130             1676391467   \n9                  16628130             1676391467   \n10                 16628130             1676391467   \n11                 16628130             1676391467   \n12                 16627404             1676382743   \n13                 16627404             1676382743   \n14                 16627404             1676382743   \n15                 16627404             1676382743   \n16                 16627404             1676382743   \n17                 16627404             1676382743   \n18                 16625573             1676360579   \n19                 16625573             1676360579   \n20                 16625573             1676360579   \n21                 16625573             1676360579   \n22                 16625573             1676360579   \n23                 16625573             1676360579   \n\n                        transaction_account_id  \\\n0   0xcb6e1613029d790c00f89296808f278d6dc25b2f   \n1   0xcb6e1613029d790c00f89296808f278d6dc25b2f   \n2   0xcb6e1613029d790c00f89296808f278d6dc25b2f   \n3   0xcb6e1613029d790c00f89296808f278d6dc25b2f   \n4   0xcb6e1613029d790c00f89296808f278d6dc25b2f   \n5   0xcb6e1613029d790c00f89296808f278d6dc25b2f   \n6   0x9b8b04b6f82cd5e1dae58ca3614d445f93defc5c   \n7   0x9b8b04b6f82cd5e1dae58ca3614d445f93defc5c   \n8   0x9b8b04b6f82cd5e1dae58ca3614d445f93defc5c   \n9   0x9b8b04b6f82cd5e1dae58ca3614d445f93defc5c   \n10  0x9b8b04b6f82cd5e1dae58ca3614d445f93defc5c   \n11  0x9b8b04b6f82cd5e1dae58ca3614d445f93defc5c   \n12  0xc0b1f200aa9546ce074397bed7438bb2ec033877   \n13  0xc0b1f200aa9546ce074397bed7438bb2ec033877   \n14  0xc0b1f200aa9546ce074397bed7438bb2ec033877   \n15  0xc0b1f200aa9546ce074397bed7438bb2ec033877   \n16  0xc0b1f200aa9546ce074397bed7438bb2ec033877   \n17  0xc0b1f200aa9546ce074397bed7438bb2ec033877   \n18  0xc0b1f200aa9546ce074397bed7438bb2ec033877   \n19  0xc0b1f200aa9546ce074397bed7438bb2ec033877   \n20  0xc0b1f200aa9546ce074397bed7438bb2ec033877   \n21  0xc0b1f200aa9546ce074397bed7438bb2ec033877   \n22  0xc0b1f200aa9546ce074397bed7438bb2ec033877   \n23  0xc0b1f200aa9546ce074397bed7438bb2ec033877   \n\n                         transaction_market_id  \\\n0   0xf5ffabab8f9a6f4f6de1f0dd6e0820f68657d7db   \n1   0xf5ffabab8f9a6f4f6de1f0dd6e0820f68657d7db   \n2   0xf5ffabab8f9a6f4f6de1f0dd6e0820f68657d7db   \n3   0xf5ffabab8f9a6f4f6de1f0dd6e0820f68657d7db   \n4   0xf5ffabab8f9a6f4f6de1f0dd6e0820f68657d7db   \n5   0xf5ffabab8f9a6f4f6de1f0dd6e0820f68657d7db   \n6   0xf5ffabab8f9a6f4f6de1f0dd6e0820f68657d7db   \n7   0xf5ffabab8f9a6f4f6de1f0dd6e0820f68657d7db   \n8   0xf5ffabab8f9a6f4f6de1f0dd6e0820f68657d7db   \n9   0xf5ffabab8f9a6f4f6de1f0dd6e0820f68657d7db   \n10  0xf5ffabab8f9a6f4f6de1f0dd6e0820f68657d7db   \n11  0xf5ffabab8f9a6f4f6de1f0dd6e0820f68657d7db   \n12  0xf5ffabab8f9a6f4f6de1f0dd6e0820f68657d7db   \n13  0xf5ffabab8f9a6f4f6de1f0dd6e0820f68657d7db   \n14  0xf5ffabab8f9a6f4f6de1f0dd6e0820f68657d7db   \n15  0xf5ffabab8f9a6f4f6de1f0dd6e0820f68657d7db   \n16  0xf5ffabab8f9a6f4f6de1f0dd6e0820f68657d7db   \n17  0xf5ffabab8f9a6f4f6de1f0dd6e0820f68657d7db   \n18  0xf5ffabab8f9a6f4f6de1f0dd6e0820f68657d7db   \n19  0xf5ffabab8f9a6f4f6de1f0dd6e0820f68657d7db   \n20  0xf5ffabab8f9a6f4f6de1f0dd6e0820f68657d7db   \n21  0xf5ffabab8f9a6f4f6de1f0dd6e0820f68657d7db   \n22  0xf5ffabab8f9a6f4f6de1f0dd6e0820f68657d7db   \n23  0xf5ffabab8f9a6f4f6de1f0dd6e0820f68657d7db   \n\n                transaction_market_protocol_id  transaction_market_rates_rate  \\\n0   0xd998c35b7900b344bbbe6555cc11576942cf309d                       1.164533   \n1   0xd998c35b7900b344bbbe6555cc11576942cf309d                       0.000000   \n2   0xd998c35b7900b344bbbe6555cc11576942cf309d                       0.000000   \n3   0xd998c35b7900b344bbbe6555cc11576942cf309d                       0.096868   \n4   0xd998c35b7900b344bbbe6555cc11576942cf309d                       0.000000   \n5   0xd998c35b7900b344bbbe6555cc11576942cf309d                       0.000000   \n6   0xd998c35b7900b344bbbe6555cc11576942cf309d                       1.164533   \n7   0xd998c35b7900b344bbbe6555cc11576942cf309d                       0.000000   \n8   0xd998c35b7900b344bbbe6555cc11576942cf309d                       0.000000   \n9   0xd998c35b7900b344bbbe6555cc11576942cf309d                       0.096868   \n10  0xd998c35b7900b344bbbe6555cc11576942cf309d                       0.000000   \n11  0xd998c35b7900b344bbbe6555cc11576942cf309d                       0.000000   \n12  0xd998c35b7900b344bbbe6555cc11576942cf309d                       1.164533   \n13  0xd998c35b7900b344bbbe6555cc11576942cf309d                       0.000000   \n14  0xd998c35b7900b344bbbe6555cc11576942cf309d                       0.000000   \n15  0xd998c35b7900b344bbbe6555cc11576942cf309d                       0.096868   \n16  0xd998c35b7900b344bbbe6555cc11576942cf309d                       0.000000   \n17  0xd998c35b7900b344bbbe6555cc11576942cf309d                       0.000000   \n18  0xd998c35b7900b344bbbe6555cc11576942cf309d                       1.164533   \n19  0xd998c35b7900b344bbbe6555cc11576942cf309d                       0.000000   \n20  0xd998c35b7900b344bbbe6555cc11576942cf309d                       0.000000   \n21  0xd998c35b7900b344bbbe6555cc11576942cf309d                       0.096868   \n22  0xd998c35b7900b344bbbe6555cc11576942cf309d                       0.000000   \n23  0xd998c35b7900b344bbbe6555cc11576942cf309d                       0.000000   \n\n   transaction_market_rates_duration transaction_market_rates_side  \\\n0                               None                      BORROWER   \n1                               None                      BORROWER   \n2                               None                      BORROWER   \n3                               None                        LENDER   \n4                               None                        LENDER   \n5                               None                        LENDER   \n6                               None                      BORROWER   \n7                               None                      BORROWER   \n8                               None                      BORROWER   \n9                               None                        LENDER   \n10                              None                        LENDER   \n11                              None                        LENDER   \n12                              None                      BORROWER   \n13                              None                      BORROWER   \n14                              None                      BORROWER   \n15                              None                        LENDER   \n16                              None                        LENDER   \n17                              None                        LENDER   \n18                              None                      BORROWER   \n19                              None                      BORROWER   \n20                              None                      BORROWER   \n21                              None                        LENDER   \n22                              None                        LENDER   \n23                              None                        LENDER   \n\n   transaction_market_rates_type           transaction_market_rates_token_id  \\\n0                       VARIABLE  0x64aa3364f17a4d01c6f1751fd97c2bd3d7e7f1d5   \n1                       VARIABLE  0xc02aaa39b223fe8d0a0e5c4f27ead9083c756cc2   \n2                       VARIABLE  0xd7c9f0e536dc865ae858b0c0453fe76d13c3beac   \n3                       VARIABLE  0x64aa3364f17a4d01c6f1751fd97c2bd3d7e7f1d5   \n4                       VARIABLE  0xc02aaa39b223fe8d0a0e5c4f27ead9083c756cc2   \n5                       VARIABLE  0xd7c9f0e536dc865ae858b0c0453fe76d13c3beac   \n6                       VARIABLE  0x64aa3364f17a4d01c6f1751fd97c2bd3d7e7f1d5   \n7                       VARIABLE  0xc02aaa39b223fe8d0a0e5c4f27ead9083c756cc2   \n8                       VARIABLE  0xd7c9f0e536dc865ae858b0c0453fe76d13c3beac   \n9                       VARIABLE  0x64aa3364f17a4d01c6f1751fd97c2bd3d7e7f1d5   \n10                      VARIABLE  0xc02aaa39b223fe8d0a0e5c4f27ead9083c756cc2   \n11                      VARIABLE  0xd7c9f0e536dc865ae858b0c0453fe76d13c3beac   \n12                      VARIABLE  0x64aa3364f17a4d01c6f1751fd97c2bd3d7e7f1d5   \n13                      VARIABLE  0xc02aaa39b223fe8d0a0e5c4f27ead9083c756cc2   \n14                      VARIABLE  0xd7c9f0e536dc865ae858b0c0453fe76d13c3beac   \n15                      VARIABLE  0x64aa3364f17a4d01c6f1751fd97c2bd3d7e7f1d5   \n16                      VARIABLE  0xc02aaa39b223fe8d0a0e5c4f27ead9083c756cc2   \n17                      VARIABLE  0xd7c9f0e536dc865ae858b0c0453fe76d13c3beac   \n18                      VARIABLE  0x64aa3364f17a4d01c6f1751fd97c2bd3d7e7f1d5   \n19                      VARIABLE  0xc02aaa39b223fe8d0a0e5c4f27ead9083c756cc2   \n20                      VARIABLE  0xd7c9f0e536dc865ae858b0c0453fe76d13c3beac   \n21                      VARIABLE  0x64aa3364f17a4d01c6f1751fd97c2bd3d7e7f1d5   \n22                      VARIABLE  0xc02aaa39b223fe8d0a0e5c4f27ead9083c756cc2   \n23                      VARIABLE  0xd7c9f0e536dc865ae858b0c0453fe76d13c3beac   \n\n   transaction_asset_name transaction_asset_symbol  \\\n0                 Olympus                      OHM   \n1                 Olympus                      OHM   \n2                 Olympus                      OHM   \n3                 Olympus                      OHM   \n4                 Olympus                      OHM   \n5                 Olympus                      OHM   \n6                 Olympus                      OHM   \n7                 Olympus                      OHM   \n8                 Olympus                      OHM   \n9                 Olympus                      OHM   \n10                Olympus                      OHM   \n11                Olympus                      OHM   \n12                Olympus                      OHM   \n13                Olympus                      OHM   \n14                Olympus                      OHM   \n15                Olympus                      OHM   \n16                Olympus                      OHM   \n17                Olympus                      OHM   \n18         XAI Stablecoin                      XAI   \n19         XAI Stablecoin                      XAI   \n20         XAI Stablecoin                      XAI   \n21         XAI Stablecoin                      XAI   \n22         XAI Stablecoin                      XAI   \n23         XAI Stablecoin                      XAI   \n\n    transaction_asset_decimals  transaction_asset_lastPriceUSD  \\\n0                            9                       10.668690   \n1                            9                       10.668690   \n2                            9                       10.668690   \n3                            9                       10.668690   \n4                            9                       10.668690   \n5                            9                       10.668690   \n6                            9                       10.668690   \n7                            9                       10.668690   \n8                            9                       10.668690   \n9                            9                       10.668690   \n10                           9                       10.668690   \n11                           9                       10.668690   \n12                           9                       10.668690   \n13                           9                       10.668690   \n14                           9                       10.668690   \n15                           9                       10.668690   \n16                           9                       10.668690   \n17                           9                       10.668690   \n18                          18                        0.996047   \n19                          18                        0.996047   \n20                          18                        0.996047   \n21                          18                        0.996047   \n22                          18                        0.996047   \n23                          18                        0.996047   \n\n      transaction_amount  transaction_amountUSD   event  \n0            58000000000             615.628222  borrow  \n1            58000000000             615.628222  borrow  \n2            58000000000             615.628222  borrow  \n3            58000000000             615.628222  borrow  \n4            58000000000             615.628222  borrow  \n5            58000000000             615.628222  borrow  \n6          1480000000000           15782.938441  borrow  \n7          1480000000000           15782.938441  borrow  \n8          1480000000000           15782.938441  borrow  \n9          1480000000000           15782.938441  borrow  \n10         1480000000000           15782.938441  borrow  \n11         1480000000000           15782.938441  borrow  \n12          175320427647            1812.167469  borrow  \n13          175320427647            1812.167469  borrow  \n14          175320427647            1812.167469  borrow  \n15          175320427647            1812.167469  borrow  \n16          175320427647            1812.167469  borrow  \n17          175320427647            1812.167469  borrow  \n18  10100000000000000000              10.088297  borrow  \n19  10100000000000000000              10.088297  borrow  \n20  10100000000000000000              10.088297  borrow  \n21  10100000000000000000              10.088297  borrow  \n22  10100000000000000000              10.088297  borrow  \n23  10100000000000000000              10.088297  borrow  ",
      "text/html": "<div>\n<style scoped>\n    .dataframe tbody tr th:only-of-type {\n        vertical-align: middle;\n    }\n\n    .dataframe tbody tr th {\n        vertical-align: top;\n    }\n\n    .dataframe thead th {\n        text-align: right;\n    }\n</style>\n<table border=\"1\" class=\"dataframe\">\n  <thead>\n    <tr style=\"text-align: right;\">\n      <th></th>\n      <th>transaction_id</th>\n      <th>transaction_hash</th>\n      <th>transaction_blockNumber</th>\n      <th>transaction_timestamp</th>\n      <th>transaction_account_id</th>\n      <th>transaction_market_id</th>\n      <th>transaction_market_protocol_id</th>\n      <th>transaction_market_rates_rate</th>\n      <th>transaction_market_rates_duration</th>\n      <th>transaction_market_rates_side</th>\n      <th>transaction_market_rates_type</th>\n      <th>transaction_market_rates_token_id</th>\n      <th>transaction_asset_name</th>\n      <th>transaction_asset_symbol</th>\n      <th>transaction_asset_decimals</th>\n      <th>transaction_asset_lastPriceUSD</th>\n      <th>transaction_amount</th>\n      <th>transaction_amountUSD</th>\n      <th>event</th>\n    </tr>\n  </thead>\n  <tbody>\n    <tr>\n      <th>0</th>\n      <td>0x264ecb6cc9089ebf8fcb6f8ae5ce26358b15b0551e61...</td>\n      <td>0x264ecb6cc9089ebf8fcb6f8ae5ce26358b15b0551e61...</td>\n      <td>16648400</td>\n      <td>1676636519</td>\n      <td>0xcb6e1613029d790c00f89296808f278d6dc25b2f</td>\n      <td>0xf5ffabab8f9a6f4f6de1f0dd6e0820f68657d7db</td>\n      <td>0xd998c35b7900b344bbbe6555cc11576942cf309d</td>\n      <td>1.164533</td>\n      <td>None</td>\n      <td>BORROWER</td>\n      <td>VARIABLE</td>\n      <td>0x64aa3364f17a4d01c6f1751fd97c2bd3d7e7f1d5</td>\n      <td>Olympus</td>\n      <td>OHM</td>\n      <td>9</td>\n      <td>10.668690</td>\n      <td>58000000000</td>\n      <td>615.628222</td>\n      <td>borrow</td>\n    </tr>\n    <tr>\n      <th>1</th>\n      <td>0x264ecb6cc9089ebf8fcb6f8ae5ce26358b15b0551e61...</td>\n      <td>0x264ecb6cc9089ebf8fcb6f8ae5ce26358b15b0551e61...</td>\n      <td>16648400</td>\n      <td>1676636519</td>\n      <td>0xcb6e1613029d790c00f89296808f278d6dc25b2f</td>\n      <td>0xf5ffabab8f9a6f4f6de1f0dd6e0820f68657d7db</td>\n      <td>0xd998c35b7900b344bbbe6555cc11576942cf309d</td>\n      <td>0.000000</td>\n      <td>None</td>\n      <td>BORROWER</td>\n      <td>VARIABLE</td>\n      <td>0xc02aaa39b223fe8d0a0e5c4f27ead9083c756cc2</td>\n      <td>Olympus</td>\n      <td>OHM</td>\n      <td>9</td>\n      <td>10.668690</td>\n      <td>58000000000</td>\n      <td>615.628222</td>\n      <td>borrow</td>\n    </tr>\n    <tr>\n      <th>2</th>\n      <td>0x264ecb6cc9089ebf8fcb6f8ae5ce26358b15b0551e61...</td>\n      <td>0x264ecb6cc9089ebf8fcb6f8ae5ce26358b15b0551e61...</td>\n      <td>16648400</td>\n      <td>1676636519</td>\n      <td>0xcb6e1613029d790c00f89296808f278d6dc25b2f</td>\n      <td>0xf5ffabab8f9a6f4f6de1f0dd6e0820f68657d7db</td>\n      <td>0xd998c35b7900b344bbbe6555cc11576942cf309d</td>\n      <td>0.000000</td>\n      <td>None</td>\n      <td>BORROWER</td>\n      <td>VARIABLE</td>\n      <td>0xd7c9f0e536dc865ae858b0c0453fe76d13c3beac</td>\n      <td>Olympus</td>\n      <td>OHM</td>\n      <td>9</td>\n      <td>10.668690</td>\n      <td>58000000000</td>\n      <td>615.628222</td>\n      <td>borrow</td>\n    </tr>\n    <tr>\n      <th>3</th>\n      <td>0x264ecb6cc9089ebf8fcb6f8ae5ce26358b15b0551e61...</td>\n      <td>0x264ecb6cc9089ebf8fcb6f8ae5ce26358b15b0551e61...</td>\n      <td>16648400</td>\n      <td>1676636519</td>\n      <td>0xcb6e1613029d790c00f89296808f278d6dc25b2f</td>\n      <td>0xf5ffabab8f9a6f4f6de1f0dd6e0820f68657d7db</td>\n      <td>0xd998c35b7900b344bbbe6555cc11576942cf309d</td>\n      <td>0.096868</td>\n      <td>None</td>\n      <td>LENDER</td>\n      <td>VARIABLE</td>\n      <td>0x64aa3364f17a4d01c6f1751fd97c2bd3d7e7f1d5</td>\n      <td>Olympus</td>\n      <td>OHM</td>\n      <td>9</td>\n      <td>10.668690</td>\n      <td>58000000000</td>\n      <td>615.628222</td>\n      <td>borrow</td>\n    </tr>\n    <tr>\n      <th>4</th>\n      <td>0x264ecb6cc9089ebf8fcb6f8ae5ce26358b15b0551e61...</td>\n      <td>0x264ecb6cc9089ebf8fcb6f8ae5ce26358b15b0551e61...</td>\n      <td>16648400</td>\n      <td>1676636519</td>\n      <td>0xcb6e1613029d790c00f89296808f278d6dc25b2f</td>\n      <td>0xf5ffabab8f9a6f4f6de1f0dd6e0820f68657d7db</td>\n      <td>0xd998c35b7900b344bbbe6555cc11576942cf309d</td>\n      <td>0.000000</td>\n      <td>None</td>\n      <td>LENDER</td>\n      <td>VARIABLE</td>\n      <td>0xc02aaa39b223fe8d0a0e5c4f27ead9083c756cc2</td>\n      <td>Olympus</td>\n      <td>OHM</td>\n      <td>9</td>\n      <td>10.668690</td>\n      <td>58000000000</td>\n      <td>615.628222</td>\n      <td>borrow</td>\n    </tr>\n    <tr>\n      <th>5</th>\n      <td>0x264ecb6cc9089ebf8fcb6f8ae5ce26358b15b0551e61...</td>\n      <td>0x264ecb6cc9089ebf8fcb6f8ae5ce26358b15b0551e61...</td>\n      <td>16648400</td>\n      <td>1676636519</td>\n      <td>0xcb6e1613029d790c00f89296808f278d6dc25b2f</td>\n      <td>0xf5ffabab8f9a6f4f6de1f0dd6e0820f68657d7db</td>\n      <td>0xd998c35b7900b344bbbe6555cc11576942cf309d</td>\n      <td>0.000000</td>\n      <td>None</td>\n      <td>LENDER</td>\n      <td>VARIABLE</td>\n      <td>0xd7c9f0e536dc865ae858b0c0453fe76d13c3beac</td>\n      <td>Olympus</td>\n      <td>OHM</td>\n      <td>9</td>\n      <td>10.668690</td>\n      <td>58000000000</td>\n      <td>615.628222</td>\n      <td>borrow</td>\n    </tr>\n    <tr>\n      <th>6</th>\n      <td>0x6726ea9fa581ab0a5fa26b8a112c95e690500f446c39...</td>\n      <td>0x6726ea9fa581ab0a5fa26b8a112c95e690500f446c39...</td>\n      <td>16628130</td>\n      <td>1676391467</td>\n      <td>0x9b8b04b6f82cd5e1dae58ca3614d445f93defc5c</td>\n      <td>0xf5ffabab8f9a6f4f6de1f0dd6e0820f68657d7db</td>\n      <td>0xd998c35b7900b344bbbe6555cc11576942cf309d</td>\n      <td>1.164533</td>\n      <td>None</td>\n      <td>BORROWER</td>\n      <td>VARIABLE</td>\n      <td>0x64aa3364f17a4d01c6f1751fd97c2bd3d7e7f1d5</td>\n      <td>Olympus</td>\n      <td>OHM</td>\n      <td>9</td>\n      <td>10.668690</td>\n      <td>1480000000000</td>\n      <td>15782.938441</td>\n      <td>borrow</td>\n    </tr>\n    <tr>\n      <th>7</th>\n      <td>0x6726ea9fa581ab0a5fa26b8a112c95e690500f446c39...</td>\n      <td>0x6726ea9fa581ab0a5fa26b8a112c95e690500f446c39...</td>\n      <td>16628130</td>\n      <td>1676391467</td>\n      <td>0x9b8b04b6f82cd5e1dae58ca3614d445f93defc5c</td>\n      <td>0xf5ffabab8f9a6f4f6de1f0dd6e0820f68657d7db</td>\n      <td>0xd998c35b7900b344bbbe6555cc11576942cf309d</td>\n      <td>0.000000</td>\n      <td>None</td>\n      <td>BORROWER</td>\n      <td>VARIABLE</td>\n      <td>0xc02aaa39b223fe8d0a0e5c4f27ead9083c756cc2</td>\n      <td>Olympus</td>\n      <td>OHM</td>\n      <td>9</td>\n      <td>10.668690</td>\n      <td>1480000000000</td>\n      <td>15782.938441</td>\n      <td>borrow</td>\n    </tr>\n    <tr>\n      <th>8</th>\n      <td>0x6726ea9fa581ab0a5fa26b8a112c95e690500f446c39...</td>\n      <td>0x6726ea9fa581ab0a5fa26b8a112c95e690500f446c39...</td>\n      <td>16628130</td>\n      <td>1676391467</td>\n      <td>0x9b8b04b6f82cd5e1dae58ca3614d445f93defc5c</td>\n      <td>0xf5ffabab8f9a6f4f6de1f0dd6e0820f68657d7db</td>\n      <td>0xd998c35b7900b344bbbe6555cc11576942cf309d</td>\n      <td>0.000000</td>\n      <td>None</td>\n      <td>BORROWER</td>\n      <td>VARIABLE</td>\n      <td>0xd7c9f0e536dc865ae858b0c0453fe76d13c3beac</td>\n      <td>Olympus</td>\n      <td>OHM</td>\n      <td>9</td>\n      <td>10.668690</td>\n      <td>1480000000000</td>\n      <td>15782.938441</td>\n      <td>borrow</td>\n    </tr>\n    <tr>\n      <th>9</th>\n      <td>0x6726ea9fa581ab0a5fa26b8a112c95e690500f446c39...</td>\n      <td>0x6726ea9fa581ab0a5fa26b8a112c95e690500f446c39...</td>\n      <td>16628130</td>\n      <td>1676391467</td>\n      <td>0x9b8b04b6f82cd5e1dae58ca3614d445f93defc5c</td>\n      <td>0xf5ffabab8f9a6f4f6de1f0dd6e0820f68657d7db</td>\n      <td>0xd998c35b7900b344bbbe6555cc11576942cf309d</td>\n      <td>0.096868</td>\n      <td>None</td>\n      <td>LENDER</td>\n      <td>VARIABLE</td>\n      <td>0x64aa3364f17a4d01c6f1751fd97c2bd3d7e7f1d5</td>\n      <td>Olympus</td>\n      <td>OHM</td>\n      <td>9</td>\n      <td>10.668690</td>\n      <td>1480000000000</td>\n      <td>15782.938441</td>\n      <td>borrow</td>\n    </tr>\n    <tr>\n      <th>10</th>\n      <td>0x6726ea9fa581ab0a5fa26b8a112c95e690500f446c39...</td>\n      <td>0x6726ea9fa581ab0a5fa26b8a112c95e690500f446c39...</td>\n      <td>16628130</td>\n      <td>1676391467</td>\n      <td>0x9b8b04b6f82cd5e1dae58ca3614d445f93defc5c</td>\n      <td>0xf5ffabab8f9a6f4f6de1f0dd6e0820f68657d7db</td>\n      <td>0xd998c35b7900b344bbbe6555cc11576942cf309d</td>\n      <td>0.000000</td>\n      <td>None</td>\n      <td>LENDER</td>\n      <td>VARIABLE</td>\n      <td>0xc02aaa39b223fe8d0a0e5c4f27ead9083c756cc2</td>\n      <td>Olympus</td>\n      <td>OHM</td>\n      <td>9</td>\n      <td>10.668690</td>\n      <td>1480000000000</td>\n      <td>15782.938441</td>\n      <td>borrow</td>\n    </tr>\n    <tr>\n      <th>11</th>\n      <td>0x6726ea9fa581ab0a5fa26b8a112c95e690500f446c39...</td>\n      <td>0x6726ea9fa581ab0a5fa26b8a112c95e690500f446c39...</td>\n      <td>16628130</td>\n      <td>1676391467</td>\n      <td>0x9b8b04b6f82cd5e1dae58ca3614d445f93defc5c</td>\n      <td>0xf5ffabab8f9a6f4f6de1f0dd6e0820f68657d7db</td>\n      <td>0xd998c35b7900b344bbbe6555cc11576942cf309d</td>\n      <td>0.000000</td>\n      <td>None</td>\n      <td>LENDER</td>\n      <td>VARIABLE</td>\n      <td>0xd7c9f0e536dc865ae858b0c0453fe76d13c3beac</td>\n      <td>Olympus</td>\n      <td>OHM</td>\n      <td>9</td>\n      <td>10.668690</td>\n      <td>1480000000000</td>\n      <td>15782.938441</td>\n      <td>borrow</td>\n    </tr>\n    <tr>\n      <th>12</th>\n      <td>0x5fca09aaf64619a5d644ed392a64f5bd08b9e6b4b46e...</td>\n      <td>0x5fca09aaf64619a5d644ed392a64f5bd08b9e6b4b46e...</td>\n      <td>16627404</td>\n      <td>1676382743</td>\n      <td>0xc0b1f200aa9546ce074397bed7438bb2ec033877</td>\n      <td>0xf5ffabab8f9a6f4f6de1f0dd6e0820f68657d7db</td>\n      <td>0xd998c35b7900b344bbbe6555cc11576942cf309d</td>\n      <td>1.164533</td>\n      <td>None</td>\n      <td>BORROWER</td>\n      <td>VARIABLE</td>\n      <td>0x64aa3364f17a4d01c6f1751fd97c2bd3d7e7f1d5</td>\n      <td>Olympus</td>\n      <td>OHM</td>\n      <td>9</td>\n      <td>10.668690</td>\n      <td>175320427647</td>\n      <td>1812.167469</td>\n      <td>borrow</td>\n    </tr>\n    <tr>\n      <th>13</th>\n      <td>0x5fca09aaf64619a5d644ed392a64f5bd08b9e6b4b46e...</td>\n      <td>0x5fca09aaf64619a5d644ed392a64f5bd08b9e6b4b46e...</td>\n      <td>16627404</td>\n      <td>1676382743</td>\n      <td>0xc0b1f200aa9546ce074397bed7438bb2ec033877</td>\n      <td>0xf5ffabab8f9a6f4f6de1f0dd6e0820f68657d7db</td>\n      <td>0xd998c35b7900b344bbbe6555cc11576942cf309d</td>\n      <td>0.000000</td>\n      <td>None</td>\n      <td>BORROWER</td>\n      <td>VARIABLE</td>\n      <td>0xc02aaa39b223fe8d0a0e5c4f27ead9083c756cc2</td>\n      <td>Olympus</td>\n      <td>OHM</td>\n      <td>9</td>\n      <td>10.668690</td>\n      <td>175320427647</td>\n      <td>1812.167469</td>\n      <td>borrow</td>\n    </tr>\n    <tr>\n      <th>14</th>\n      <td>0x5fca09aaf64619a5d644ed392a64f5bd08b9e6b4b46e...</td>\n      <td>0x5fca09aaf64619a5d644ed392a64f5bd08b9e6b4b46e...</td>\n      <td>16627404</td>\n      <td>1676382743</td>\n      <td>0xc0b1f200aa9546ce074397bed7438bb2ec033877</td>\n      <td>0xf5ffabab8f9a6f4f6de1f0dd6e0820f68657d7db</td>\n      <td>0xd998c35b7900b344bbbe6555cc11576942cf309d</td>\n      <td>0.000000</td>\n      <td>None</td>\n      <td>BORROWER</td>\n      <td>VARIABLE</td>\n      <td>0xd7c9f0e536dc865ae858b0c0453fe76d13c3beac</td>\n      <td>Olympus</td>\n      <td>OHM</td>\n      <td>9</td>\n      <td>10.668690</td>\n      <td>175320427647</td>\n      <td>1812.167469</td>\n      <td>borrow</td>\n    </tr>\n    <tr>\n      <th>15</th>\n      <td>0x5fca09aaf64619a5d644ed392a64f5bd08b9e6b4b46e...</td>\n      <td>0x5fca09aaf64619a5d644ed392a64f5bd08b9e6b4b46e...</td>\n      <td>16627404</td>\n      <td>1676382743</td>\n      <td>0xc0b1f200aa9546ce074397bed7438bb2ec033877</td>\n      <td>0xf5ffabab8f9a6f4f6de1f0dd6e0820f68657d7db</td>\n      <td>0xd998c35b7900b344bbbe6555cc11576942cf309d</td>\n      <td>0.096868</td>\n      <td>None</td>\n      <td>LENDER</td>\n      <td>VARIABLE</td>\n      <td>0x64aa3364f17a4d01c6f1751fd97c2bd3d7e7f1d5</td>\n      <td>Olympus</td>\n      <td>OHM</td>\n      <td>9</td>\n      <td>10.668690</td>\n      <td>175320427647</td>\n      <td>1812.167469</td>\n      <td>borrow</td>\n    </tr>\n    <tr>\n      <th>16</th>\n      <td>0x5fca09aaf64619a5d644ed392a64f5bd08b9e6b4b46e...</td>\n      <td>0x5fca09aaf64619a5d644ed392a64f5bd08b9e6b4b46e...</td>\n      <td>16627404</td>\n      <td>1676382743</td>\n      <td>0xc0b1f200aa9546ce074397bed7438bb2ec033877</td>\n      <td>0xf5ffabab8f9a6f4f6de1f0dd6e0820f68657d7db</td>\n      <td>0xd998c35b7900b344bbbe6555cc11576942cf309d</td>\n      <td>0.000000</td>\n      <td>None</td>\n      <td>LENDER</td>\n      <td>VARIABLE</td>\n      <td>0xc02aaa39b223fe8d0a0e5c4f27ead9083c756cc2</td>\n      <td>Olympus</td>\n      <td>OHM</td>\n      <td>9</td>\n      <td>10.668690</td>\n      <td>175320427647</td>\n      <td>1812.167469</td>\n      <td>borrow</td>\n    </tr>\n    <tr>\n      <th>17</th>\n      <td>0x5fca09aaf64619a5d644ed392a64f5bd08b9e6b4b46e...</td>\n      <td>0x5fca09aaf64619a5d644ed392a64f5bd08b9e6b4b46e...</td>\n      <td>16627404</td>\n      <td>1676382743</td>\n      <td>0xc0b1f200aa9546ce074397bed7438bb2ec033877</td>\n      <td>0xf5ffabab8f9a6f4f6de1f0dd6e0820f68657d7db</td>\n      <td>0xd998c35b7900b344bbbe6555cc11576942cf309d</td>\n      <td>0.000000</td>\n      <td>None</td>\n      <td>LENDER</td>\n      <td>VARIABLE</td>\n      <td>0xd7c9f0e536dc865ae858b0c0453fe76d13c3beac</td>\n      <td>Olympus</td>\n      <td>OHM</td>\n      <td>9</td>\n      <td>10.668690</td>\n      <td>175320427647</td>\n      <td>1812.167469</td>\n      <td>borrow</td>\n    </tr>\n    <tr>\n      <th>18</th>\n      <td>0x84bd007387e25c8e55e116e740aa58c36c6925d04156...</td>\n      <td>0x84bd007387e25c8e55e116e740aa58c36c6925d04156...</td>\n      <td>16625573</td>\n      <td>1676360579</td>\n      <td>0xc0b1f200aa9546ce074397bed7438bb2ec033877</td>\n      <td>0xf5ffabab8f9a6f4f6de1f0dd6e0820f68657d7db</td>\n      <td>0xd998c35b7900b344bbbe6555cc11576942cf309d</td>\n      <td>1.164533</td>\n      <td>None</td>\n      <td>BORROWER</td>\n      <td>VARIABLE</td>\n      <td>0x64aa3364f17a4d01c6f1751fd97c2bd3d7e7f1d5</td>\n      <td>XAI Stablecoin</td>\n      <td>XAI</td>\n      <td>18</td>\n      <td>0.996047</td>\n      <td>10100000000000000000</td>\n      <td>10.088297</td>\n      <td>borrow</td>\n    </tr>\n    <tr>\n      <th>19</th>\n      <td>0x84bd007387e25c8e55e116e740aa58c36c6925d04156...</td>\n      <td>0x84bd007387e25c8e55e116e740aa58c36c6925d04156...</td>\n      <td>16625573</td>\n      <td>1676360579</td>\n      <td>0xc0b1f200aa9546ce074397bed7438bb2ec033877</td>\n      <td>0xf5ffabab8f9a6f4f6de1f0dd6e0820f68657d7db</td>\n      <td>0xd998c35b7900b344bbbe6555cc11576942cf309d</td>\n      <td>0.000000</td>\n      <td>None</td>\n      <td>BORROWER</td>\n      <td>VARIABLE</td>\n      <td>0xc02aaa39b223fe8d0a0e5c4f27ead9083c756cc2</td>\n      <td>XAI Stablecoin</td>\n      <td>XAI</td>\n      <td>18</td>\n      <td>0.996047</td>\n      <td>10100000000000000000</td>\n      <td>10.088297</td>\n      <td>borrow</td>\n    </tr>\n    <tr>\n      <th>20</th>\n      <td>0x84bd007387e25c8e55e116e740aa58c36c6925d04156...</td>\n      <td>0x84bd007387e25c8e55e116e740aa58c36c6925d04156...</td>\n      <td>16625573</td>\n      <td>1676360579</td>\n      <td>0xc0b1f200aa9546ce074397bed7438bb2ec033877</td>\n      <td>0xf5ffabab8f9a6f4f6de1f0dd6e0820f68657d7db</td>\n      <td>0xd998c35b7900b344bbbe6555cc11576942cf309d</td>\n      <td>0.000000</td>\n      <td>None</td>\n      <td>BORROWER</td>\n      <td>VARIABLE</td>\n      <td>0xd7c9f0e536dc865ae858b0c0453fe76d13c3beac</td>\n      <td>XAI Stablecoin</td>\n      <td>XAI</td>\n      <td>18</td>\n      <td>0.996047</td>\n      <td>10100000000000000000</td>\n      <td>10.088297</td>\n      <td>borrow</td>\n    </tr>\n    <tr>\n      <th>21</th>\n      <td>0x84bd007387e25c8e55e116e740aa58c36c6925d04156...</td>\n      <td>0x84bd007387e25c8e55e116e740aa58c36c6925d04156...</td>\n      <td>16625573</td>\n      <td>1676360579</td>\n      <td>0xc0b1f200aa9546ce074397bed7438bb2ec033877</td>\n      <td>0xf5ffabab8f9a6f4f6de1f0dd6e0820f68657d7db</td>\n      <td>0xd998c35b7900b344bbbe6555cc11576942cf309d</td>\n      <td>0.096868</td>\n      <td>None</td>\n      <td>LENDER</td>\n      <td>VARIABLE</td>\n      <td>0x64aa3364f17a4d01c6f1751fd97c2bd3d7e7f1d5</td>\n      <td>XAI Stablecoin</td>\n      <td>XAI</td>\n      <td>18</td>\n      <td>0.996047</td>\n      <td>10100000000000000000</td>\n      <td>10.088297</td>\n      <td>borrow</td>\n    </tr>\n    <tr>\n      <th>22</th>\n      <td>0x84bd007387e25c8e55e116e740aa58c36c6925d04156...</td>\n      <td>0x84bd007387e25c8e55e116e740aa58c36c6925d04156...</td>\n      <td>16625573</td>\n      <td>1676360579</td>\n      <td>0xc0b1f200aa9546ce074397bed7438bb2ec033877</td>\n      <td>0xf5ffabab8f9a6f4f6de1f0dd6e0820f68657d7db</td>\n      <td>0xd998c35b7900b344bbbe6555cc11576942cf309d</td>\n      <td>0.000000</td>\n      <td>None</td>\n      <td>LENDER</td>\n      <td>VARIABLE</td>\n      <td>0xc02aaa39b223fe8d0a0e5c4f27ead9083c756cc2</td>\n      <td>XAI Stablecoin</td>\n      <td>XAI</td>\n      <td>18</td>\n      <td>0.996047</td>\n      <td>10100000000000000000</td>\n      <td>10.088297</td>\n      <td>borrow</td>\n    </tr>\n    <tr>\n      <th>23</th>\n      <td>0x84bd007387e25c8e55e116e740aa58c36c6925d04156...</td>\n      <td>0x84bd007387e25c8e55e116e740aa58c36c6925d04156...</td>\n      <td>16625573</td>\n      <td>1676360579</td>\n      <td>0xc0b1f200aa9546ce074397bed7438bb2ec033877</td>\n      <td>0xf5ffabab8f9a6f4f6de1f0dd6e0820f68657d7db</td>\n      <td>0xd998c35b7900b344bbbe6555cc11576942cf309d</td>\n      <td>0.000000</td>\n      <td>None</td>\n      <td>LENDER</td>\n      <td>VARIABLE</td>\n      <td>0xd7c9f0e536dc865ae858b0c0453fe76d13c3beac</td>\n      <td>XAI Stablecoin</td>\n      <td>XAI</td>\n      <td>18</td>\n      <td>0.996047</td>\n      <td>10100000000000000000</td>\n      <td>10.088297</td>\n      <td>borrow</td>\n    </tr>\n  </tbody>\n</table>\n</div>"
     },
     "execution_count": 414,
     "metadata": {},
     "output_type": "execute_result"
    }
   ],
   "source": [
    "siloBorrowsDb.head(100)"
   ],
   "metadata": {
    "collapsed": false
   }
  },
  {
   "cell_type": "code",
   "execution_count": 415,
   "outputs": [
    {
     "data": {
      "text/plain": "     event                                   transaction_hash  \\\n0   borrow  0x264ecb6cc9089ebf8fcb6f8ae5ce26358b15b0551e61...   \n6   borrow  0x6726ea9fa581ab0a5fa26b8a112c95e690500f446c39...   \n12  borrow  0x5fca09aaf64619a5d644ed392a64f5bd08b9e6b4b46e...   \n\n    transaction_blockNumber  transaction_timestamp  \\\n0                  16648400             1676636519   \n6                  16628130             1676391467   \n12                 16627404             1676382743   \n\n                        transaction_account_id  \\\n0   0xcb6e1613029d790c00f89296808f278d6dc25b2f   \n6   0x9b8b04b6f82cd5e1dae58ca3614d445f93defc5c   \n12  0xc0b1f200aa9546ce074397bed7438bb2ec033877   \n\n                         transaction_market_id transaction_asset_name  \\\n0   0xf5ffabab8f9a6f4f6de1f0dd6e0820f68657d7db                Olympus   \n6   0xf5ffabab8f9a6f4f6de1f0dd6e0820f68657d7db                Olympus   \n12  0xf5ffabab8f9a6f4f6de1f0dd6e0820f68657d7db                Olympus   \n\n   transaction_asset_symbol  transactionReadableAmount  \\\n0                       OHM                  58.000000   \n6                       OHM                1480.000000   \n12                      OHM                 175.320428   \n\n    transaction_asset_lastPriceUSD  transaction_amountUSD            dateTime  \\\n0                         10.66869             615.628222 2023-02-17 12:21:59   \n6                         10.66869           15782.938441 2023-02-14 16:17:47   \n12                        10.66869            1812.167469 2023-02-14 13:52:23   \n\n      calDate  \n0  2023-02-17  \n6  2023-02-14  \n12 2023-02-14  ",
      "text/html": "<div>\n<style scoped>\n    .dataframe tbody tr th:only-of-type {\n        vertical-align: middle;\n    }\n\n    .dataframe tbody tr th {\n        vertical-align: top;\n    }\n\n    .dataframe thead th {\n        text-align: right;\n    }\n</style>\n<table border=\"1\" class=\"dataframe\">\n  <thead>\n    <tr style=\"text-align: right;\">\n      <th></th>\n      <th>event</th>\n      <th>transaction_hash</th>\n      <th>transaction_blockNumber</th>\n      <th>transaction_timestamp</th>\n      <th>transaction_account_id</th>\n      <th>transaction_market_id</th>\n      <th>transaction_asset_name</th>\n      <th>transaction_asset_symbol</th>\n      <th>transactionReadableAmount</th>\n      <th>transaction_asset_lastPriceUSD</th>\n      <th>transaction_amountUSD</th>\n      <th>dateTime</th>\n      <th>calDate</th>\n    </tr>\n  </thead>\n  <tbody>\n    <tr>\n      <th>0</th>\n      <td>borrow</td>\n      <td>0x264ecb6cc9089ebf8fcb6f8ae5ce26358b15b0551e61...</td>\n      <td>16648400</td>\n      <td>1676636519</td>\n      <td>0xcb6e1613029d790c00f89296808f278d6dc25b2f</td>\n      <td>0xf5ffabab8f9a6f4f6de1f0dd6e0820f68657d7db</td>\n      <td>Olympus</td>\n      <td>OHM</td>\n      <td>58.000000</td>\n      <td>10.66869</td>\n      <td>615.628222</td>\n      <td>2023-02-17 12:21:59</td>\n      <td>2023-02-17</td>\n    </tr>\n    <tr>\n      <th>6</th>\n      <td>borrow</td>\n      <td>0x6726ea9fa581ab0a5fa26b8a112c95e690500f446c39...</td>\n      <td>16628130</td>\n      <td>1676391467</td>\n      <td>0x9b8b04b6f82cd5e1dae58ca3614d445f93defc5c</td>\n      <td>0xf5ffabab8f9a6f4f6de1f0dd6e0820f68657d7db</td>\n      <td>Olympus</td>\n      <td>OHM</td>\n      <td>1480.000000</td>\n      <td>10.66869</td>\n      <td>15782.938441</td>\n      <td>2023-02-14 16:17:47</td>\n      <td>2023-02-14</td>\n    </tr>\n    <tr>\n      <th>12</th>\n      <td>borrow</td>\n      <td>0x5fca09aaf64619a5d644ed392a64f5bd08b9e6b4b46e...</td>\n      <td>16627404</td>\n      <td>1676382743</td>\n      <td>0xc0b1f200aa9546ce074397bed7438bb2ec033877</td>\n      <td>0xf5ffabab8f9a6f4f6de1f0dd6e0820f68657d7db</td>\n      <td>Olympus</td>\n      <td>OHM</td>\n      <td>175.320428</td>\n      <td>10.66869</td>\n      <td>1812.167469</td>\n      <td>2023-02-14 13:52:23</td>\n      <td>2023-02-14</td>\n    </tr>\n  </tbody>\n</table>\n</div>"
     },
     "execution_count": 415,
     "metadata": {},
     "output_type": "execute_result"
    }
   ],
   "source": [
    "siloBorrowsDb['transactionReadableAmount'] = siloBorrowsDb['transaction_amount']/(10**(siloBorrowsDb['transaction_asset_decimals']))\n",
    "siloBorrowsDb['transactionReadableAmount']=siloBorrowsDb['transactionReadableAmount'].astype('float')\n",
    "siloBorrowsDb['dateTime'] =(pd.to_datetime(siloBorrowsDb['transaction_timestamp'],unit='s'))\n",
    "\n",
    "\n",
    "\n",
    "#we only want borrowing in GOHM from those that borrowed, so drop anyone that is not on that side\n",
    "#we only want withdrawals in GOHM from those that borrowed, so drop anyone that is not on that side\n",
    "siloBorrowsDb.drop(siloWithdrawsDb.loc[(siloBorrowsDb['transaction_market_rates_side']!='BORROWER') &(siloBorrowsDb['transaction_asset_symbol']!='OHM') ].index, inplace=True)\n",
    "#siloBorrowsDb.drop(siloWithdrawsDb.loc[(siloBorrowsDb['transaction_asset_name']=='Olympus')].index, inplace=True)\n",
    "siloBorrowsDb = db.query(\"select distinct * from siloBorrowsDb where lower(transaction_asset_symbol) = 'ohm'\").df()\n",
    "\n",
    "siloBorrowEventsDbTimedClean = siloBorrowsDb[['event','transaction_hash','transaction_blockNumber','transaction_timestamp','transaction_account_id','transaction_market_id','transaction_asset_name','transaction_asset_symbol', 'transactionReadableAmount','transaction_asset_lastPriceUSD','transaction_amountUSD','dateTime']].copy()\n",
    "siloBorrowEventsDbTimedClean.sort_values(by=['event','transaction_hash','transaction_blockNumber','transaction_timestamp','transaction_account_id','transaction_market_id','transaction_asset_name','transaction_asset_symbol', 'transactionReadableAmount','transaction_asset_lastPriceUSD','transaction_amountUSD','dateTime'])\n",
    "siloBorrowEventsDbTimedClean.drop_duplicates(subset=['transaction_hash'],keep='first', inplace=True)\n",
    "siloBorrowEventsDbTimedClean['calDate'] = siloBorrowEventsDbTimedClean['dateTime'].dt.normalize()\n",
    "siloBorrowEventsDbTimedClean.head(100)"
   ],
   "metadata": {
    "collapsed": false
   }
  },
  {
   "cell_type": "code",
   "execution_count": 416,
   "outputs": [
    {
     "name": "stdout",
     "output_type": "stream",
     "text": [
      "D:\\Dropbox\\Documents\\Edgecaser LLC\\Projects\\Olympus\\Econohmetrics\\ohmBorrowing/data/siloFinanceGohmBorrows_piped.csv file saved, 3  records\n"
     ]
    }
   ],
   "source": [
    "path =file+'/siloFinanceGohmBorrows.csv'\n",
    "siloBorrowEventsDbTimedClean.to_csv(path, index = False)\n",
    "\n",
    "path =file+'/siloFinanceGohmBorrows_piped.csv'\n",
    "siloBorrowEventsDbTimedClean.to_csv(path, index = False, sep='|')\n",
    "print(path, 'file saved,', len(siloBorrowEventsDbTimedClean),' records')"
   ],
   "metadata": {
    "collapsed": false
   }
  },
  {
   "cell_type": "code",
   "execution_count": 417,
   "outputs": [
    {
     "name": "stdout",
     "output_type": "stream",
     "text": [
      "A total of  1713.320427647 OHM has been borrowed, or USD$ 18210.73 over time\n"
     ]
    }
   ],
   "source": [
    "totalBorrowedOHM = sum(siloBorrowEventsDbTimedClean['transactionReadableAmount'])\n",
    "totalBorrowedUSD = sum(siloBorrowEventsDbTimedClean['transaction_amountUSD'])\n",
    "print('A total of ',totalBorrowedOHM, 'OHM has been borrowed, or USD$',round(totalBorrowedUSD,2),  'over time')"
   ],
   "metadata": {
    "collapsed": false
   }
  },
  {
   "cell_type": "markdown",
   "source": [
    "************************************************************************************\n",
    "*************************************************************************************\n",
    "SILO DEPOSITS"
   ],
   "metadata": {
    "collapsed": false
   }
  },
  {
   "cell_type": "code",
   "execution_count": 418,
   "outputs": [
    {
     "data": {
      "text/plain": "     event                                   transaction_hash  \\\n0  deposit  0x1c37394aaabc2445a66b61a360cf08ae096b7582e2ed...   \n1  deposit  0xf9bbcc923182fb6406e97fce0f92c22c87a284d55812...   \n2  deposit  0x0aa351eb8ff1ca2bd6c4e65229f83c7e5b596d72c889...   \n\n   transaction_blockNumber  transaction_timestamp  \\\n0                 16646360             1676611691   \n1                 16627144             1676379599   \n2                 16625541             1676360171   \n\n                       transaction_account_id  \\\n0  0x9b53bed0d62028c0fc5d2006c076cb33e6e6cecd   \n1  0x245cc372c84b3645bf0ffe6538620b04a217988b   \n2  0xc0b1f200aa9546ce074397bed7438bb2ec033877   \n\n                        transaction_market_id transaction_asset_name  \\\n0  0xf5ffabab8f9a6f4f6de1f0dd6e0820f68657d7db                Olympus   \n1  0xf5ffabab8f9a6f4f6de1f0dd6e0820f68657d7db                Olympus   \n2  0xf5ffabab8f9a6f4f6de1f0dd6e0820f68657d7db                Olympus   \n\n  transaction_asset_symbol  transactionReadableAmount  \\\n0                      OHM                  10.000000   \n1                      OHM               20000.000000   \n2                      OHM                   2.514698   \n\n   transaction_asset_lastPriceUSD  transaction_amountUSD             dateTime  \\\n0                        10.66869             105.925340  2023-02-17 05:28:11   \n1                        10.66869          206726.334541  2023-02-14 12:59:59   \n2                        10.66869              26.317329  2023-02-14 07:36:11   \n\n      calDate  \n0  2023-02-17  \n1  2023-02-14  \n2  2023-02-14  ",
      "text/html": "<div>\n<style scoped>\n    .dataframe tbody tr th:only-of-type {\n        vertical-align: middle;\n    }\n\n    .dataframe tbody tr th {\n        vertical-align: top;\n    }\n\n    .dataframe thead th {\n        text-align: right;\n    }\n</style>\n<table border=\"1\" class=\"dataframe\">\n  <thead>\n    <tr style=\"text-align: right;\">\n      <th></th>\n      <th>event</th>\n      <th>transaction_hash</th>\n      <th>transaction_blockNumber</th>\n      <th>transaction_timestamp</th>\n      <th>transaction_account_id</th>\n      <th>transaction_market_id</th>\n      <th>transaction_asset_name</th>\n      <th>transaction_asset_symbol</th>\n      <th>transactionReadableAmount</th>\n      <th>transaction_asset_lastPriceUSD</th>\n      <th>transaction_amountUSD</th>\n      <th>dateTime</th>\n      <th>calDate</th>\n    </tr>\n  </thead>\n  <tbody>\n    <tr>\n      <th>0</th>\n      <td>deposit</td>\n      <td>0x1c37394aaabc2445a66b61a360cf08ae096b7582e2ed...</td>\n      <td>16646360</td>\n      <td>1676611691</td>\n      <td>0x9b53bed0d62028c0fc5d2006c076cb33e6e6cecd</td>\n      <td>0xf5ffabab8f9a6f4f6de1f0dd6e0820f68657d7db</td>\n      <td>Olympus</td>\n      <td>OHM</td>\n      <td>10.000000</td>\n      <td>10.66869</td>\n      <td>105.925340</td>\n      <td>2023-02-17 05:28:11</td>\n      <td>2023-02-17</td>\n    </tr>\n    <tr>\n      <th>1</th>\n      <td>deposit</td>\n      <td>0xf9bbcc923182fb6406e97fce0f92c22c87a284d55812...</td>\n      <td>16627144</td>\n      <td>1676379599</td>\n      <td>0x245cc372c84b3645bf0ffe6538620b04a217988b</td>\n      <td>0xf5ffabab8f9a6f4f6de1f0dd6e0820f68657d7db</td>\n      <td>Olympus</td>\n      <td>OHM</td>\n      <td>20000.000000</td>\n      <td>10.66869</td>\n      <td>206726.334541</td>\n      <td>2023-02-14 12:59:59</td>\n      <td>2023-02-14</td>\n    </tr>\n    <tr>\n      <th>2</th>\n      <td>deposit</td>\n      <td>0x0aa351eb8ff1ca2bd6c4e65229f83c7e5b596d72c889...</td>\n      <td>16625541</td>\n      <td>1676360171</td>\n      <td>0xc0b1f200aa9546ce074397bed7438bb2ec033877</td>\n      <td>0xf5ffabab8f9a6f4f6de1f0dd6e0820f68657d7db</td>\n      <td>Olympus</td>\n      <td>OHM</td>\n      <td>2.514698</td>\n      <td>10.66869</td>\n      <td>26.317329</td>\n      <td>2023-02-14 07:36:11</td>\n      <td>2023-02-14</td>\n    </tr>\n  </tbody>\n</table>\n</div>"
     },
     "execution_count": 418,
     "metadata": {},
     "output_type": "execute_result"
    }
   ],
   "source": [
    "oldSiloDepositsDb = pd.DataFrame()\n",
    "siloFileName = file+'/siloFinanceGohmDeposits.csv'\n",
    "try:\n",
    "    oldSiloDepositsDb = pd.read_csv (siloFileName)\n",
    "except:\n",
    "    oldSiloDepositsDb = pd.DataFrame()\n",
    "oldSiloDepositsDb.head(100)"
   ],
   "metadata": {
    "collapsed": false
   }
  },
  {
   "cell_type": "code",
   "execution_count": 419,
   "outputs": [
    {
     "data": {
      "text/plain": "0"
     },
     "execution_count": 419,
     "metadata": {},
     "output_type": "execute_result"
    }
   ],
   "source": [
    "maxSiloDepositsTimestamp = 0\n",
    "try:\n",
    "    maxSiloDepositsTimestamp = (max(0,oldSiloDepositssDb['transaction_timestamp'].max()))-5\n",
    "except:\n",
    "        maxSiloDepositsTimestamp = 0\n",
    "maxSiloDepositsTimestamp = int(maxSiloDepositsTimestamp)\n",
    "maxSiloDepositsTimestamp"
   ],
   "metadata": {
    "collapsed": false
   }
  },
  {
   "cell_type": "code",
   "execution_count": 420,
   "outputs": [
    {
     "name": "stdout",
     "output_type": "stream",
     "text": [
      "iterations:  0 Lines skipped:  0 records collected:  66  - latest recordID:  0xa3c1b116f0bdff039f4969bd23a7fb83b8ddb2f5efac06cb4880933961810e22   0xa3c1b116f0bdff039f4969bd23a7fb83b8ddb2f5efac06cb4880933961810e22-196  - deposits DB length:  66  - latest record from:  2023-02-17 04:20:47 2 days ago\n",
      "Done. Total Records collected:  66\n"
     ]
    }
   ],
   "source": [
    "##this captures the ENTIRE list of people who deposited OHM\n",
    "depositTicker = 0\n",
    "depositslist = pd.DataFrame()\n",
    "siloDepositsDb = pd.DataFrame()\n",
    "depositListLength = 1000\n",
    "datediff = 0\n",
    "now=0\n",
    "daysAgo=0\n",
    "daysLimit = 45\n",
    "exit = False\n",
    "while exit==False:\n",
    "    skipValue = (depositTicker)*(1000)\n",
    "    deposits = silo.Query.deposits(\n",
    "        orderBy='timestamp',\n",
    "        orderDirection='desc',\n",
    "        first=1000,\n",
    "        skip = skipValue,\n",
    "        where={ 'market': '0xf5ffabab8f9a6f4f6de1f0dd6e0820f68657d7db'\n",
    "                ,'timestamp_gte': maxSiloDepositsTimestamp\n",
    "                } #gOHM market\n",
    "    )\n",
    "\n",
    "    depositslist = sg.query_df([\n",
    "        deposits.id\n",
    "        ,deposits.hash\n",
    "        ,deposits.blockNumber\n",
    "        ,deposits.timestamp\n",
    "        ,deposits.account.id\n",
    "        ,deposits.market.id\n",
    "        ,deposits.market.protocol.id\n",
    "        ,deposits.market.rates.rate\n",
    "        ,deposits.market.rates.duration\n",
    "        ,deposits.market.rates.side\n",
    "        ,deposits.market.rates.type\n",
    "        ,deposits.market.rates.token.id\n",
    "        ,deposits.asset.name\n",
    "        ,deposits.asset.symbol\n",
    "        ,deposits.asset.decimals\n",
    "        ,deposits.asset.lastPriceUSD\n",
    "        ,deposits.amount\n",
    "        ,deposits.amountUSD\n",
    "    ])\n",
    "\n",
    "    siloDepositsDb=pd.concat([siloDepositsDb, depositslist])\n",
    "    recordTimestamp1 = siloDepositsDb.iat[depositTicker,3]\n",
    "    recordTimestamp = dt.datetime.fromtimestamp( recordTimestamp1 )\n",
    "    now = (int(dt.datetime.utcnow().timestamp()))\n",
    "    datediff=abs(int(now) - recordTimestamp1)\n",
    "    daysAgo = int(datediff/86400)\n",
    "    siloDepositsDbLength = len(siloDepositsDb)\n",
    "    siloDepositListLength = len(depositslist)\n",
    "    recordID = siloDepositsDb.iat[depositTicker,0]\n",
    "    deposit = siloDepositsDb.iat[depositTicker,1]\n",
    "    print(\"iterations: \", depositTicker, \"Lines skipped: \",skipValue, \"records collected: \", siloDepositListLength, \" - latest recordID: \",deposit, \" \", recordID , \" - deposits DB length: \", siloDepositsDbLength, \" - latest record from: \", recordTimestamp, daysAgo,\"days ago\")\n",
    "    #print(\"iterations: \", depositTicker, \"records collected: \", depositListLength, \" - userdb length: \", depositsDbLength)\n",
    "    depositTicker = depositTicker+1\n",
    "\n",
    "    if daysAgo>daysLimit: exit =True\n",
    "    if siloDepositListLength<1000: exit =True\n",
    "\n",
    "siloDepositsDb.columns = siloDepositsDb.columns.str.replace(\"deposits\", \"transaction\")\n",
    "siloDepositsDb['event']='deposit'\n",
    "siloDepositsDb.drop_duplicates\n",
    "print(\"Done. Total Records collected: \", siloDepositsDbLength)"
   ],
   "metadata": {
    "collapsed": false
   }
  },
  {
   "cell_type": "code",
   "execution_count": 421,
   "outputs": [
    {
     "data": {
      "text/plain": "                                      transaction_id  \\\n0  0xa3c1b116f0bdff039f4969bd23a7fb83b8ddb2f5efac...   \n1  0xa3c1b116f0bdff039f4969bd23a7fb83b8ddb2f5efac...   \n2  0xa3c1b116f0bdff039f4969bd23a7fb83b8ddb2f5efac...   \n3  0xa3c1b116f0bdff039f4969bd23a7fb83b8ddb2f5efac...   \n4  0xa3c1b116f0bdff039f4969bd23a7fb83b8ddb2f5efac...   \n5  0xa3c1b116f0bdff039f4969bd23a7fb83b8ddb2f5efac...   \n6  0x1c37394aaabc2445a66b61a360cf08ae096b7582e2ed...   \n7  0x1c37394aaabc2445a66b61a360cf08ae096b7582e2ed...   \n8  0x1c37394aaabc2445a66b61a360cf08ae096b7582e2ed...   \n9  0x1c37394aaabc2445a66b61a360cf08ae096b7582e2ed...   \n\n                                    transaction_hash  transaction_blockNumber  \\\n0  0xa3c1b116f0bdff039f4969bd23a7fb83b8ddb2f5efac...                 16648394   \n1  0xa3c1b116f0bdff039f4969bd23a7fb83b8ddb2f5efac...                 16648394   \n2  0xa3c1b116f0bdff039f4969bd23a7fb83b8ddb2f5efac...                 16648394   \n3  0xa3c1b116f0bdff039f4969bd23a7fb83b8ddb2f5efac...                 16648394   \n4  0xa3c1b116f0bdff039f4969bd23a7fb83b8ddb2f5efac...                 16648394   \n5  0xa3c1b116f0bdff039f4969bd23a7fb83b8ddb2f5efac...                 16648394   \n6  0x1c37394aaabc2445a66b61a360cf08ae096b7582e2ed...                 16646360   \n7  0x1c37394aaabc2445a66b61a360cf08ae096b7582e2ed...                 16646360   \n8  0x1c37394aaabc2445a66b61a360cf08ae096b7582e2ed...                 16646360   \n9  0x1c37394aaabc2445a66b61a360cf08ae096b7582e2ed...                 16646360   \n\n   transaction_timestamp                      transaction_account_id  \\\n0             1676636447  0xcb6e1613029d790c00f89296808f278d6dc25b2f   \n1             1676636447  0xcb6e1613029d790c00f89296808f278d6dc25b2f   \n2             1676636447  0xcb6e1613029d790c00f89296808f278d6dc25b2f   \n3             1676636447  0xcb6e1613029d790c00f89296808f278d6dc25b2f   \n4             1676636447  0xcb6e1613029d790c00f89296808f278d6dc25b2f   \n5             1676636447  0xcb6e1613029d790c00f89296808f278d6dc25b2f   \n6             1676611691  0x9b53bed0d62028c0fc5d2006c076cb33e6e6cecd   \n7             1676611691  0x9b53bed0d62028c0fc5d2006c076cb33e6e6cecd   \n8             1676611691  0x9b53bed0d62028c0fc5d2006c076cb33e6e6cecd   \n9             1676611691  0x9b53bed0d62028c0fc5d2006c076cb33e6e6cecd   \n\n                        transaction_market_id  \\\n0  0xf5ffabab8f9a6f4f6de1f0dd6e0820f68657d7db   \n1  0xf5ffabab8f9a6f4f6de1f0dd6e0820f68657d7db   \n2  0xf5ffabab8f9a6f4f6de1f0dd6e0820f68657d7db   \n3  0xf5ffabab8f9a6f4f6de1f0dd6e0820f68657d7db   \n4  0xf5ffabab8f9a6f4f6de1f0dd6e0820f68657d7db   \n5  0xf5ffabab8f9a6f4f6de1f0dd6e0820f68657d7db   \n6  0xf5ffabab8f9a6f4f6de1f0dd6e0820f68657d7db   \n7  0xf5ffabab8f9a6f4f6de1f0dd6e0820f68657d7db   \n8  0xf5ffabab8f9a6f4f6de1f0dd6e0820f68657d7db   \n9  0xf5ffabab8f9a6f4f6de1f0dd6e0820f68657d7db   \n\n               transaction_market_protocol_id  transaction_market_rates_rate  \\\n0  0xd998c35b7900b344bbbe6555cc11576942cf309d                       1.164533   \n1  0xd998c35b7900b344bbbe6555cc11576942cf309d                       0.000000   \n2  0xd998c35b7900b344bbbe6555cc11576942cf309d                       0.000000   \n3  0xd998c35b7900b344bbbe6555cc11576942cf309d                       0.096868   \n4  0xd998c35b7900b344bbbe6555cc11576942cf309d                       0.000000   \n5  0xd998c35b7900b344bbbe6555cc11576942cf309d                       0.000000   \n6  0xd998c35b7900b344bbbe6555cc11576942cf309d                       1.164533   \n7  0xd998c35b7900b344bbbe6555cc11576942cf309d                       0.000000   \n8  0xd998c35b7900b344bbbe6555cc11576942cf309d                       0.000000   \n9  0xd998c35b7900b344bbbe6555cc11576942cf309d                       0.096868   \n\n  transaction_market_rates_duration transaction_market_rates_side  \\\n0                              None                      BORROWER   \n1                              None                      BORROWER   \n2                              None                      BORROWER   \n3                              None                        LENDER   \n4                              None                        LENDER   \n5                              None                        LENDER   \n6                              None                      BORROWER   \n7                              None                      BORROWER   \n8                              None                      BORROWER   \n9                              None                        LENDER   \n\n  transaction_market_rates_type           transaction_market_rates_token_id  \\\n0                      VARIABLE  0x64aa3364f17a4d01c6f1751fd97c2bd3d7e7f1d5   \n1                      VARIABLE  0xc02aaa39b223fe8d0a0e5c4f27ead9083c756cc2   \n2                      VARIABLE  0xd7c9f0e536dc865ae858b0c0453fe76d13c3beac   \n3                      VARIABLE  0x64aa3364f17a4d01c6f1751fd97c2bd3d7e7f1d5   \n4                      VARIABLE  0xc02aaa39b223fe8d0a0e5c4f27ead9083c756cc2   \n5                      VARIABLE  0xd7c9f0e536dc865ae858b0c0453fe76d13c3beac   \n6                      VARIABLE  0x64aa3364f17a4d01c6f1751fd97c2bd3d7e7f1d5   \n7                      VARIABLE  0xc02aaa39b223fe8d0a0e5c4f27ead9083c756cc2   \n8                      VARIABLE  0xd7c9f0e536dc865ae858b0c0453fe76d13c3beac   \n9                      VARIABLE  0x64aa3364f17a4d01c6f1751fd97c2bd3d7e7f1d5   \n\n  transaction_asset_name transaction_asset_symbol  transaction_asset_decimals  \\\n0          Wrapped Ether                     WETH                          18   \n1          Wrapped Ether                     WETH                          18   \n2          Wrapped Ether                     WETH                          18   \n3          Wrapped Ether                     WETH                          18   \n4          Wrapped Ether                     WETH                          18   \n5          Wrapped Ether                     WETH                          18   \n6                Olympus                      OHM                           9   \n7                Olympus                      OHM                           9   \n8                Olympus                      OHM                           9   \n9                Olympus                      OHM                           9   \n\n   transaction_asset_lastPriceUSD  transaction_amount  transaction_amountUSD  \\\n0                     1674.366016  500000000000000000              829.05000   \n1                     1674.366016  500000000000000000              829.05000   \n2                     1674.366016  500000000000000000              829.05000   \n3                     1674.366016  500000000000000000              829.05000   \n4                     1674.366016  500000000000000000              829.05000   \n5                     1674.366016  500000000000000000              829.05000   \n6                       10.668690         10000000000              105.92534   \n7                       10.668690         10000000000              105.92534   \n8                       10.668690         10000000000              105.92534   \n9                       10.668690         10000000000              105.92534   \n\n     event  \n0  deposit  \n1  deposit  \n2  deposit  \n3  deposit  \n4  deposit  \n5  deposit  \n6  deposit  \n7  deposit  \n8  deposit  \n9  deposit  ",
      "text/html": "<div>\n<style scoped>\n    .dataframe tbody tr th:only-of-type {\n        vertical-align: middle;\n    }\n\n    .dataframe tbody tr th {\n        vertical-align: top;\n    }\n\n    .dataframe thead th {\n        text-align: right;\n    }\n</style>\n<table border=\"1\" class=\"dataframe\">\n  <thead>\n    <tr style=\"text-align: right;\">\n      <th></th>\n      <th>transaction_id</th>\n      <th>transaction_hash</th>\n      <th>transaction_blockNumber</th>\n      <th>transaction_timestamp</th>\n      <th>transaction_account_id</th>\n      <th>transaction_market_id</th>\n      <th>transaction_market_protocol_id</th>\n      <th>transaction_market_rates_rate</th>\n      <th>transaction_market_rates_duration</th>\n      <th>transaction_market_rates_side</th>\n      <th>transaction_market_rates_type</th>\n      <th>transaction_market_rates_token_id</th>\n      <th>transaction_asset_name</th>\n      <th>transaction_asset_symbol</th>\n      <th>transaction_asset_decimals</th>\n      <th>transaction_asset_lastPriceUSD</th>\n      <th>transaction_amount</th>\n      <th>transaction_amountUSD</th>\n      <th>event</th>\n    </tr>\n  </thead>\n  <tbody>\n    <tr>\n      <th>0</th>\n      <td>0xa3c1b116f0bdff039f4969bd23a7fb83b8ddb2f5efac...</td>\n      <td>0xa3c1b116f0bdff039f4969bd23a7fb83b8ddb2f5efac...</td>\n      <td>16648394</td>\n      <td>1676636447</td>\n      <td>0xcb6e1613029d790c00f89296808f278d6dc25b2f</td>\n      <td>0xf5ffabab8f9a6f4f6de1f0dd6e0820f68657d7db</td>\n      <td>0xd998c35b7900b344bbbe6555cc11576942cf309d</td>\n      <td>1.164533</td>\n      <td>None</td>\n      <td>BORROWER</td>\n      <td>VARIABLE</td>\n      <td>0x64aa3364f17a4d01c6f1751fd97c2bd3d7e7f1d5</td>\n      <td>Wrapped Ether</td>\n      <td>WETH</td>\n      <td>18</td>\n      <td>1674.366016</td>\n      <td>500000000000000000</td>\n      <td>829.05000</td>\n      <td>deposit</td>\n    </tr>\n    <tr>\n      <th>1</th>\n      <td>0xa3c1b116f0bdff039f4969bd23a7fb83b8ddb2f5efac...</td>\n      <td>0xa3c1b116f0bdff039f4969bd23a7fb83b8ddb2f5efac...</td>\n      <td>16648394</td>\n      <td>1676636447</td>\n      <td>0xcb6e1613029d790c00f89296808f278d6dc25b2f</td>\n      <td>0xf5ffabab8f9a6f4f6de1f0dd6e0820f68657d7db</td>\n      <td>0xd998c35b7900b344bbbe6555cc11576942cf309d</td>\n      <td>0.000000</td>\n      <td>None</td>\n      <td>BORROWER</td>\n      <td>VARIABLE</td>\n      <td>0xc02aaa39b223fe8d0a0e5c4f27ead9083c756cc2</td>\n      <td>Wrapped Ether</td>\n      <td>WETH</td>\n      <td>18</td>\n      <td>1674.366016</td>\n      <td>500000000000000000</td>\n      <td>829.05000</td>\n      <td>deposit</td>\n    </tr>\n    <tr>\n      <th>2</th>\n      <td>0xa3c1b116f0bdff039f4969bd23a7fb83b8ddb2f5efac...</td>\n      <td>0xa3c1b116f0bdff039f4969bd23a7fb83b8ddb2f5efac...</td>\n      <td>16648394</td>\n      <td>1676636447</td>\n      <td>0xcb6e1613029d790c00f89296808f278d6dc25b2f</td>\n      <td>0xf5ffabab8f9a6f4f6de1f0dd6e0820f68657d7db</td>\n      <td>0xd998c35b7900b344bbbe6555cc11576942cf309d</td>\n      <td>0.000000</td>\n      <td>None</td>\n      <td>BORROWER</td>\n      <td>VARIABLE</td>\n      <td>0xd7c9f0e536dc865ae858b0c0453fe76d13c3beac</td>\n      <td>Wrapped Ether</td>\n      <td>WETH</td>\n      <td>18</td>\n      <td>1674.366016</td>\n      <td>500000000000000000</td>\n      <td>829.05000</td>\n      <td>deposit</td>\n    </tr>\n    <tr>\n      <th>3</th>\n      <td>0xa3c1b116f0bdff039f4969bd23a7fb83b8ddb2f5efac...</td>\n      <td>0xa3c1b116f0bdff039f4969bd23a7fb83b8ddb2f5efac...</td>\n      <td>16648394</td>\n      <td>1676636447</td>\n      <td>0xcb6e1613029d790c00f89296808f278d6dc25b2f</td>\n      <td>0xf5ffabab8f9a6f4f6de1f0dd6e0820f68657d7db</td>\n      <td>0xd998c35b7900b344bbbe6555cc11576942cf309d</td>\n      <td>0.096868</td>\n      <td>None</td>\n      <td>LENDER</td>\n      <td>VARIABLE</td>\n      <td>0x64aa3364f17a4d01c6f1751fd97c2bd3d7e7f1d5</td>\n      <td>Wrapped Ether</td>\n      <td>WETH</td>\n      <td>18</td>\n      <td>1674.366016</td>\n      <td>500000000000000000</td>\n      <td>829.05000</td>\n      <td>deposit</td>\n    </tr>\n    <tr>\n      <th>4</th>\n      <td>0xa3c1b116f0bdff039f4969bd23a7fb83b8ddb2f5efac...</td>\n      <td>0xa3c1b116f0bdff039f4969bd23a7fb83b8ddb2f5efac...</td>\n      <td>16648394</td>\n      <td>1676636447</td>\n      <td>0xcb6e1613029d790c00f89296808f278d6dc25b2f</td>\n      <td>0xf5ffabab8f9a6f4f6de1f0dd6e0820f68657d7db</td>\n      <td>0xd998c35b7900b344bbbe6555cc11576942cf309d</td>\n      <td>0.000000</td>\n      <td>None</td>\n      <td>LENDER</td>\n      <td>VARIABLE</td>\n      <td>0xc02aaa39b223fe8d0a0e5c4f27ead9083c756cc2</td>\n      <td>Wrapped Ether</td>\n      <td>WETH</td>\n      <td>18</td>\n      <td>1674.366016</td>\n      <td>500000000000000000</td>\n      <td>829.05000</td>\n      <td>deposit</td>\n    </tr>\n    <tr>\n      <th>5</th>\n      <td>0xa3c1b116f0bdff039f4969bd23a7fb83b8ddb2f5efac...</td>\n      <td>0xa3c1b116f0bdff039f4969bd23a7fb83b8ddb2f5efac...</td>\n      <td>16648394</td>\n      <td>1676636447</td>\n      <td>0xcb6e1613029d790c00f89296808f278d6dc25b2f</td>\n      <td>0xf5ffabab8f9a6f4f6de1f0dd6e0820f68657d7db</td>\n      <td>0xd998c35b7900b344bbbe6555cc11576942cf309d</td>\n      <td>0.000000</td>\n      <td>None</td>\n      <td>LENDER</td>\n      <td>VARIABLE</td>\n      <td>0xd7c9f0e536dc865ae858b0c0453fe76d13c3beac</td>\n      <td>Wrapped Ether</td>\n      <td>WETH</td>\n      <td>18</td>\n      <td>1674.366016</td>\n      <td>500000000000000000</td>\n      <td>829.05000</td>\n      <td>deposit</td>\n    </tr>\n    <tr>\n      <th>6</th>\n      <td>0x1c37394aaabc2445a66b61a360cf08ae096b7582e2ed...</td>\n      <td>0x1c37394aaabc2445a66b61a360cf08ae096b7582e2ed...</td>\n      <td>16646360</td>\n      <td>1676611691</td>\n      <td>0x9b53bed0d62028c0fc5d2006c076cb33e6e6cecd</td>\n      <td>0xf5ffabab8f9a6f4f6de1f0dd6e0820f68657d7db</td>\n      <td>0xd998c35b7900b344bbbe6555cc11576942cf309d</td>\n      <td>1.164533</td>\n      <td>None</td>\n      <td>BORROWER</td>\n      <td>VARIABLE</td>\n      <td>0x64aa3364f17a4d01c6f1751fd97c2bd3d7e7f1d5</td>\n      <td>Olympus</td>\n      <td>OHM</td>\n      <td>9</td>\n      <td>10.668690</td>\n      <td>10000000000</td>\n      <td>105.92534</td>\n      <td>deposit</td>\n    </tr>\n    <tr>\n      <th>7</th>\n      <td>0x1c37394aaabc2445a66b61a360cf08ae096b7582e2ed...</td>\n      <td>0x1c37394aaabc2445a66b61a360cf08ae096b7582e2ed...</td>\n      <td>16646360</td>\n      <td>1676611691</td>\n      <td>0x9b53bed0d62028c0fc5d2006c076cb33e6e6cecd</td>\n      <td>0xf5ffabab8f9a6f4f6de1f0dd6e0820f68657d7db</td>\n      <td>0xd998c35b7900b344bbbe6555cc11576942cf309d</td>\n      <td>0.000000</td>\n      <td>None</td>\n      <td>BORROWER</td>\n      <td>VARIABLE</td>\n      <td>0xc02aaa39b223fe8d0a0e5c4f27ead9083c756cc2</td>\n      <td>Olympus</td>\n      <td>OHM</td>\n      <td>9</td>\n      <td>10.668690</td>\n      <td>10000000000</td>\n      <td>105.92534</td>\n      <td>deposit</td>\n    </tr>\n    <tr>\n      <th>8</th>\n      <td>0x1c37394aaabc2445a66b61a360cf08ae096b7582e2ed...</td>\n      <td>0x1c37394aaabc2445a66b61a360cf08ae096b7582e2ed...</td>\n      <td>16646360</td>\n      <td>1676611691</td>\n      <td>0x9b53bed0d62028c0fc5d2006c076cb33e6e6cecd</td>\n      <td>0xf5ffabab8f9a6f4f6de1f0dd6e0820f68657d7db</td>\n      <td>0xd998c35b7900b344bbbe6555cc11576942cf309d</td>\n      <td>0.000000</td>\n      <td>None</td>\n      <td>BORROWER</td>\n      <td>VARIABLE</td>\n      <td>0xd7c9f0e536dc865ae858b0c0453fe76d13c3beac</td>\n      <td>Olympus</td>\n      <td>OHM</td>\n      <td>9</td>\n      <td>10.668690</td>\n      <td>10000000000</td>\n      <td>105.92534</td>\n      <td>deposit</td>\n    </tr>\n    <tr>\n      <th>9</th>\n      <td>0x1c37394aaabc2445a66b61a360cf08ae096b7582e2ed...</td>\n      <td>0x1c37394aaabc2445a66b61a360cf08ae096b7582e2ed...</td>\n      <td>16646360</td>\n      <td>1676611691</td>\n      <td>0x9b53bed0d62028c0fc5d2006c076cb33e6e6cecd</td>\n      <td>0xf5ffabab8f9a6f4f6de1f0dd6e0820f68657d7db</td>\n      <td>0xd998c35b7900b344bbbe6555cc11576942cf309d</td>\n      <td>0.096868</td>\n      <td>None</td>\n      <td>LENDER</td>\n      <td>VARIABLE</td>\n      <td>0x64aa3364f17a4d01c6f1751fd97c2bd3d7e7f1d5</td>\n      <td>Olympus</td>\n      <td>OHM</td>\n      <td>9</td>\n      <td>10.668690</td>\n      <td>10000000000</td>\n      <td>105.92534</td>\n      <td>deposit</td>\n    </tr>\n  </tbody>\n</table>\n</div>"
     },
     "execution_count": 421,
     "metadata": {},
     "output_type": "execute_result"
    }
   ],
   "source": [
    "siloDepositsDb.head(10)"
   ],
   "metadata": {
    "collapsed": false
   }
  },
  {
   "cell_type": "code",
   "execution_count": 422,
   "outputs": [
    {
     "data": {
      "text/plain": "      event                                   transaction_hash  \\\n6   deposit  0x1c37394aaabc2445a66b61a360cf08ae096b7582e2ed...   \n36  deposit  0xf9bbcc923182fb6406e97fce0f92c22c87a284d55812...   \n42  deposit  0x0aa351eb8ff1ca2bd6c4e65229f83c7e5b596d72c889...   \n\n    transaction_blockNumber  transaction_timestamp  \\\n6                  16646360             1676611691   \n36                 16627144             1676379599   \n42                 16625541             1676360171   \n\n                        transaction_account_id  \\\n6   0x9b53bed0d62028c0fc5d2006c076cb33e6e6cecd   \n36  0x245cc372c84b3645bf0ffe6538620b04a217988b   \n42  0xc0b1f200aa9546ce074397bed7438bb2ec033877   \n\n                         transaction_market_id transaction_asset_name  \\\n6   0xf5ffabab8f9a6f4f6de1f0dd6e0820f68657d7db                Olympus   \n36  0xf5ffabab8f9a6f4f6de1f0dd6e0820f68657d7db                Olympus   \n42  0xf5ffabab8f9a6f4f6de1f0dd6e0820f68657d7db                Olympus   \n\n   transaction_asset_symbol  transactionReadableAmount  \\\n6                       OHM                  10.000000   \n36                      OHM               20000.000000   \n42                      OHM                   2.514698   \n\n    transaction_asset_lastPriceUSD  transaction_amountUSD            dateTime  \\\n6                         10.66869             105.925340 2023-02-17 05:28:11   \n36                        10.66869          206726.334541 2023-02-14 12:59:59   \n42                        10.66869              26.317329 2023-02-14 07:36:11   \n\n      calDate  \n6  2023-02-17  \n36 2023-02-14  \n42 2023-02-14  ",
      "text/html": "<div>\n<style scoped>\n    .dataframe tbody tr th:only-of-type {\n        vertical-align: middle;\n    }\n\n    .dataframe tbody tr th {\n        vertical-align: top;\n    }\n\n    .dataframe thead th {\n        text-align: right;\n    }\n</style>\n<table border=\"1\" class=\"dataframe\">\n  <thead>\n    <tr style=\"text-align: right;\">\n      <th></th>\n      <th>event</th>\n      <th>transaction_hash</th>\n      <th>transaction_blockNumber</th>\n      <th>transaction_timestamp</th>\n      <th>transaction_account_id</th>\n      <th>transaction_market_id</th>\n      <th>transaction_asset_name</th>\n      <th>transaction_asset_symbol</th>\n      <th>transactionReadableAmount</th>\n      <th>transaction_asset_lastPriceUSD</th>\n      <th>transaction_amountUSD</th>\n      <th>dateTime</th>\n      <th>calDate</th>\n    </tr>\n  </thead>\n  <tbody>\n    <tr>\n      <th>6</th>\n      <td>deposit</td>\n      <td>0x1c37394aaabc2445a66b61a360cf08ae096b7582e2ed...</td>\n      <td>16646360</td>\n      <td>1676611691</td>\n      <td>0x9b53bed0d62028c0fc5d2006c076cb33e6e6cecd</td>\n      <td>0xf5ffabab8f9a6f4f6de1f0dd6e0820f68657d7db</td>\n      <td>Olympus</td>\n      <td>OHM</td>\n      <td>10.000000</td>\n      <td>10.66869</td>\n      <td>105.925340</td>\n      <td>2023-02-17 05:28:11</td>\n      <td>2023-02-17</td>\n    </tr>\n    <tr>\n      <th>36</th>\n      <td>deposit</td>\n      <td>0xf9bbcc923182fb6406e97fce0f92c22c87a284d55812...</td>\n      <td>16627144</td>\n      <td>1676379599</td>\n      <td>0x245cc372c84b3645bf0ffe6538620b04a217988b</td>\n      <td>0xf5ffabab8f9a6f4f6de1f0dd6e0820f68657d7db</td>\n      <td>Olympus</td>\n      <td>OHM</td>\n      <td>20000.000000</td>\n      <td>10.66869</td>\n      <td>206726.334541</td>\n      <td>2023-02-14 12:59:59</td>\n      <td>2023-02-14</td>\n    </tr>\n    <tr>\n      <th>42</th>\n      <td>deposit</td>\n      <td>0x0aa351eb8ff1ca2bd6c4e65229f83c7e5b596d72c889...</td>\n      <td>16625541</td>\n      <td>1676360171</td>\n      <td>0xc0b1f200aa9546ce074397bed7438bb2ec033877</td>\n      <td>0xf5ffabab8f9a6f4f6de1f0dd6e0820f68657d7db</td>\n      <td>Olympus</td>\n      <td>OHM</td>\n      <td>2.514698</td>\n      <td>10.66869</td>\n      <td>26.317329</td>\n      <td>2023-02-14 07:36:11</td>\n      <td>2023-02-14</td>\n    </tr>\n  </tbody>\n</table>\n</div>"
     },
     "execution_count": 422,
     "metadata": {},
     "output_type": "execute_result"
    }
   ],
   "source": [
    "siloDepositsDb['transactionReadableAmount'] = siloDepositsDb['transaction_amount']/(10**(siloDepositsDb['transaction_asset_decimals']))\n",
    "siloDepositsDb['transactionReadableAmount']=siloDepositsDb['transactionReadableAmount'].astype('float')\n",
    "siloDepositsDb['dateTime'] =(pd.to_datetime(siloDepositsDb['transaction_timestamp'],unit='s'))\n",
    "siloDepositsDb.head(100)\n",
    "\n",
    "#we only want deposits in GOHM from those that borrowed, so drop anyone that is not on that side\n",
    "siloDepositsDb.drop(siloDepositsDb.loc[siloDepositsDb['transaction_market_rates_side']!='BORROWER'].index, inplace=True)\n",
    "siloDepositsDb.drop(siloDepositsDb.loc[siloDepositsDb['transaction_asset_symbol']!='OHM'].index, inplace=True)\n",
    "\n",
    "\n",
    "siloDepositEventsDbTimedClean = siloDepositsDb[['event','transaction_hash','transaction_blockNumber','transaction_timestamp','transaction_account_id','transaction_market_id','transaction_asset_name','transaction_asset_symbol', 'transactionReadableAmount','transaction_asset_lastPriceUSD','transaction_amountUSD','dateTime']].copy()\n",
    "siloDepositEventsDbTimedClean.sort_values(by=['event','transaction_hash','transaction_blockNumber','transaction_timestamp','transaction_account_id','transaction_market_id','transaction_asset_name','transaction_asset_symbol', 'transactionReadableAmount','transaction_asset_lastPriceUSD','transaction_amountUSD','dateTime'])\n",
    "siloDepositEventsDbTimedClean.drop_duplicates(subset=['transaction_hash'],keep='first', inplace=True)\n",
    "siloDepositEventsDbTimedClean['calDate'] = siloDepositEventsDbTimedClean['dateTime'].dt.normalize()\n",
    "siloDepositEventsDbTimedClean.head(100)"
   ],
   "metadata": {
    "collapsed": false
   }
  },
  {
   "cell_type": "code",
   "execution_count": 423,
   "outputs": [
    {
     "name": "stdout",
     "output_type": "stream",
     "text": [
      "D:\\Dropbox\\Documents\\Edgecaser LLC\\Projects\\Olympus\\Econohmetrics\\ohmBorrowing/data/siloFinanceGohmDeposits_piped.csv file saved, 3  records\n"
     ]
    }
   ],
   "source": [
    "path =file+'/siloFinanceGohmDeposits.csv'\n",
    "siloDepositEventsDbTimedClean.to_csv(path, index = False)\n",
    "\n",
    "path =file+'/siloFinanceGohmDeposits_piped.csv'\n",
    "siloDepositEventsDbTimedClean.to_csv(path, index = False, sep='|')\n",
    "print(path, 'file saved,', len(siloDepositEventsDbTimedClean),' records')"
   ],
   "metadata": {
    "collapsed": false
   }
  },
  {
   "cell_type": "code",
   "execution_count": 424,
   "outputs": [
    {
     "name": "stdout",
     "output_type": "stream",
     "text": [
      "There has been a total of 20012.51 OHM deposited cumulatively as collateral  to date\n"
     ]
    }
   ],
   "source": [
    "totalDeposited = sum(siloDepositEventsDbTimedClean['transactionReadableAmount'])\n",
    "print('There has been a total of',round(totalDeposited,2),  'OHM deposited cumulatively as collateral  to date')"
   ],
   "metadata": {
    "collapsed": false
   }
  },
  {
   "cell_type": "code",
   "execution_count": 425,
   "outputs": [
    {
     "name": "stdout",
     "output_type": "stream",
     "text": [
      "That is a value of USD$ 206858.58\n"
     ]
    }
   ],
   "source": [
    "totalDepositedUSD = sum(siloDepositEventsDbTimedClean['transaction_amountUSD'])\n",
    "print('That is a value of USD$',round(totalDepositedUSD,2))"
   ],
   "metadata": {
    "collapsed": false
   }
  },
  {
   "cell_type": "markdown",
   "source": [
    "********************************************************************\n",
    "********************************************************************\n",
    "Now we need withdrawals to counter the deposits and see current state"
   ],
   "metadata": {
    "collapsed": false
   }
  },
  {
   "cell_type": "code",
   "execution_count": 426,
   "outputs": [
    {
     "data": {
      "text/plain": "      event                                   transaction_hash  \\\n0  withdraw  0xa1821732de0a64b8c5f1b4371e115d1a116bf143c8c7...   \n\n   transaction_blockNumber  transaction_timestamp  \\\n0                 16627397             1676382659   \n\n                       transaction_account_id  \\\n0  0xc0b1f200aa9546ce074397bed7438bb2ec033877   \n\n                        transaction_market_id transaction_asset_name  \\\n0  0xf5ffabab8f9a6f4f6de1f0dd6e0820f68657d7db                Olympus   \n\n  transaction_asset_symbol  transactionReadableAmount  \\\n0                      OHM                   2.514698   \n\n   transaction_asset_lastPriceUSD  transaction_amountUSD             dateTime  \\\n0                        10.66869              25.992718  2023-02-14 13:50:59   \n\n      calDate  \n0  2023-02-14  ",
      "text/html": "<div>\n<style scoped>\n    .dataframe tbody tr th:only-of-type {\n        vertical-align: middle;\n    }\n\n    .dataframe tbody tr th {\n        vertical-align: top;\n    }\n\n    .dataframe thead th {\n        text-align: right;\n    }\n</style>\n<table border=\"1\" class=\"dataframe\">\n  <thead>\n    <tr style=\"text-align: right;\">\n      <th></th>\n      <th>event</th>\n      <th>transaction_hash</th>\n      <th>transaction_blockNumber</th>\n      <th>transaction_timestamp</th>\n      <th>transaction_account_id</th>\n      <th>transaction_market_id</th>\n      <th>transaction_asset_name</th>\n      <th>transaction_asset_symbol</th>\n      <th>transactionReadableAmount</th>\n      <th>transaction_asset_lastPriceUSD</th>\n      <th>transaction_amountUSD</th>\n      <th>dateTime</th>\n      <th>calDate</th>\n    </tr>\n  </thead>\n  <tbody>\n    <tr>\n      <th>0</th>\n      <td>withdraw</td>\n      <td>0xa1821732de0a64b8c5f1b4371e115d1a116bf143c8c7...</td>\n      <td>16627397</td>\n      <td>1676382659</td>\n      <td>0xc0b1f200aa9546ce074397bed7438bb2ec033877</td>\n      <td>0xf5ffabab8f9a6f4f6de1f0dd6e0820f68657d7db</td>\n      <td>Olympus</td>\n      <td>OHM</td>\n      <td>2.514698</td>\n      <td>10.66869</td>\n      <td>25.992718</td>\n      <td>2023-02-14 13:50:59</td>\n      <td>2023-02-14</td>\n    </tr>\n  </tbody>\n</table>\n</div>"
     },
     "execution_count": 426,
     "metadata": {},
     "output_type": "execute_result"
    }
   ],
   "source": [
    "oldSiloWithdrawsDb = pd.DataFrame()\n",
    "siloFileName = file+'/siloFinanceGohmWithdraws.csv'\n",
    "try:\n",
    "    oldSiloWithdrawsDb = pd.read_csv (siloFileName)\n",
    "except:\n",
    "    oldSiloWithdrawsDb = pd.DataFrame()\n",
    "oldSiloWithdrawsDb.head(100)"
   ],
   "metadata": {
    "collapsed": false
   }
  },
  {
   "cell_type": "code",
   "execution_count": 427,
   "outputs": [
    {
     "data": {
      "text/plain": "0"
     },
     "execution_count": 427,
     "metadata": {},
     "output_type": "execute_result"
    }
   ],
   "source": [
    "maxSiloWithdrawsTimestamp = 0\n",
    "try:\n",
    "    maxSiloWithdrawsTimestamp = (max(0,oldSiloWithdrawssDb['transaction_timestamp'].max()))-5\n",
    "except:\n",
    "        maxSiloWithdrawsTimestamp = 0\n",
    "maxSiloWithdrawsTimestamp = int(maxSiloWithdrawsTimestamp)\n",
    "maxSiloWithdrawsTimestamp"
   ],
   "metadata": {
    "collapsed": false
   }
  },
  {
   "cell_type": "code",
   "execution_count": 428,
   "outputs": [
    {
     "name": "stdout",
     "output_type": "stream",
     "text": [
      "iterations:  0 Lines skipped:  0 records collected:  6  - latest recordID:  0xa1821732de0a64b8c5f1b4371e115d1a116bf143c8c7f23b9e1bb32b1fac6ec0   0xa1821732de0a64b8c5f1b4371e115d1a116bf143c8c7f23b9e1bb32b1fac6ec0-259  - withdraws DB length:  6  - latest record from:  2023-02-14 05:50:59 5 days ago\n",
      "Done. Total Records collected:  6\n"
     ]
    }
   ],
   "source": [
    "##this captures the ENTIRE list of people who withdrawed OHM\n",
    "withdrawTicker = 0\n",
    "withdrawslist = pd.DataFrame()\n",
    "siloWithdrawsDb = pd.DataFrame()\n",
    "withdrawListLength = 1000\n",
    "datediff = 0\n",
    "now=0\n",
    "daysAgo=0\n",
    "daysLimit = 45\n",
    "exit = False\n",
    "while exit==False:\n",
    "    skipValue = (withdrawTicker)*(1000)\n",
    "    withdraws = silo.Query.withdraws(\n",
    "        orderBy='timestamp',\n",
    "        orderDirection='desc',\n",
    "        first=1000,\n",
    "        skip = skipValue,\n",
    "        where={ 'market': '0xf5ffabab8f9a6f4f6de1f0dd6e0820f68657d7db'\n",
    "                ,'timestamp_gte': maxSiloWithdrawsTimestamp\n",
    "                ,'asset':'0x64aa3364f17a4d01c6f1751fd97c2bd3d7e7f1d5'\n",
    "                ,'amount_gte': 0\n",
    "                } #gOHM market\n",
    "    )\n",
    "\n",
    "    withdrawslist = sg.query_df([\n",
    "        withdraws.id\n",
    "        ,withdraws.hash\n",
    "        ,withdraws.blockNumber\n",
    "        ,withdraws.timestamp\n",
    "        ,withdraws.account.id\n",
    "        ,withdraws.market.id\n",
    "        ,withdraws.market.protocol.id\n",
    "        ,withdraws.market.rates.rate\n",
    "        ,withdraws.market.rates.duration\n",
    "        ,withdraws.market.rates.side\n",
    "        ,withdraws.market.rates.type\n",
    "        ,withdraws.market.rates.token.id\n",
    "        ,withdraws.asset.name\n",
    "        ,withdraws.asset.symbol\n",
    "        ,withdraws.asset.decimals\n",
    "        ,withdraws.asset.lastPriceUSD\n",
    "        ,withdraws.amount\n",
    "        ,withdraws.amountUSD\n",
    "    ])\n",
    "\n",
    "    siloWithdrawsDb=pd.concat([siloWithdrawsDb, withdrawslist])\n",
    "    recordTimestamp1 = siloWithdrawsDb.iat[withdrawTicker,3]\n",
    "    recordTimestamp = dt.datetime.fromtimestamp( recordTimestamp1)\n",
    "    now = (int(dt.datetime.utcnow().timestamp()))\n",
    "    datediff=abs(int(now) - recordTimestamp1)\n",
    "    daysAgo = int(datediff/86400)\n",
    "    silowithdrawsDbLength = len(siloWithdrawsDb)\n",
    "    silowithdrawListLength = len(withdrawslist)\n",
    "    recordID = siloWithdrawsDb.iat[withdrawTicker,0]\n",
    "    withdraw = siloWithdrawsDb.iat[withdrawTicker,1]\n",
    "    print(\"iterations: \", withdrawTicker, \"Lines skipped: \",skipValue, \"records collected: \", silowithdrawListLength, \" - latest recordID: \",withdraw, \" \", recordID , \" - withdraws DB length: \", silowithdrawsDbLength, \" - latest record from: \", recordTimestamp, daysAgo,\"days ago\")\n",
    "    #print(\"iterations: \", withdrawTicker, \"records collected: \", withdrawListLength, \" - userdb length: \", withdrawsDbLength)\n",
    "    withdrawTicker = withdrawTicker+1\n",
    "\n",
    "    if daysAgo>daysLimit: exit =True\n",
    "    if silowithdrawListLength<1000: exit =True\n",
    "\n",
    "siloWithdrawsDb.columns = siloWithdrawsDb.columns.str.replace(\"withdraws\", \"transaction\")\n",
    "siloWithdrawsDb['event']='withdraw'\n",
    "siloWithdrawsDb.drop_duplicates\n",
    "print(\"Done. Total Records collected: \", silowithdrawsDbLength)"
   ],
   "metadata": {
    "collapsed": false
   }
  },
  {
   "cell_type": "code",
   "execution_count": 429,
   "outputs": [
    {
     "data": {
      "text/plain": "                                      transaction_id  \\\n0  0xa1821732de0a64b8c5f1b4371e115d1a116bf143c8c7...   \n1  0xa1821732de0a64b8c5f1b4371e115d1a116bf143c8c7...   \n2  0xa1821732de0a64b8c5f1b4371e115d1a116bf143c8c7...   \n\n                                    transaction_hash  transaction_blockNumber  \\\n0  0xa1821732de0a64b8c5f1b4371e115d1a116bf143c8c7...                 16627397   \n1  0xa1821732de0a64b8c5f1b4371e115d1a116bf143c8c7...                 16627397   \n2  0xa1821732de0a64b8c5f1b4371e115d1a116bf143c8c7...                 16627397   \n\n   transaction_timestamp                      transaction_account_id  \\\n0             1676382659  0xc0b1f200aa9546ce074397bed7438bb2ec033877   \n1             1676382659  0xc0b1f200aa9546ce074397bed7438bb2ec033877   \n2             1676382659  0xc0b1f200aa9546ce074397bed7438bb2ec033877   \n\n                        transaction_market_id  \\\n0  0xf5ffabab8f9a6f4f6de1f0dd6e0820f68657d7db   \n1  0xf5ffabab8f9a6f4f6de1f0dd6e0820f68657d7db   \n2  0xf5ffabab8f9a6f4f6de1f0dd6e0820f68657d7db   \n\n               transaction_market_protocol_id  transaction_market_rates_rate  \\\n0  0xd998c35b7900b344bbbe6555cc11576942cf309d                       1.164533   \n1  0xd998c35b7900b344bbbe6555cc11576942cf309d                       0.000000   \n2  0xd998c35b7900b344bbbe6555cc11576942cf309d                       0.000000   \n\n  transaction_market_rates_duration transaction_market_rates_side  ...  \\\n0                              None                      BORROWER  ...   \n1                              None                      BORROWER  ...   \n2                              None                      BORROWER  ...   \n\n            transaction_market_rates_token_id transaction_asset_name  \\\n0  0x64aa3364f17a4d01c6f1751fd97c2bd3d7e7f1d5                Olympus   \n1  0xc02aaa39b223fe8d0a0e5c4f27ead9083c756cc2                Olympus   \n2  0xd7c9f0e536dc865ae858b0c0453fe76d13c3beac                Olympus   \n\n  transaction_asset_symbol transaction_asset_decimals  \\\n0                      OHM                          9   \n1                      OHM                          9   \n2                      OHM                          9   \n\n   transaction_asset_lastPriceUSD  transaction_amount  transaction_amountUSD  \\\n0                        10.66869          2514698283              25.992718   \n1                        10.66869          2514698283              25.992718   \n2                        10.66869          2514698283              25.992718   \n\n      event transactionReadableAmount            dateTime  \n0  withdraw                  2.514698 2023-02-14 13:50:59  \n1  withdraw                  2.514698 2023-02-14 13:50:59  \n2  withdraw                  2.514698 2023-02-14 13:50:59  \n\n[3 rows x 21 columns]",
      "text/html": "<div>\n<style scoped>\n    .dataframe tbody tr th:only-of-type {\n        vertical-align: middle;\n    }\n\n    .dataframe tbody tr th {\n        vertical-align: top;\n    }\n\n    .dataframe thead th {\n        text-align: right;\n    }\n</style>\n<table border=\"1\" class=\"dataframe\">\n  <thead>\n    <tr style=\"text-align: right;\">\n      <th></th>\n      <th>transaction_id</th>\n      <th>transaction_hash</th>\n      <th>transaction_blockNumber</th>\n      <th>transaction_timestamp</th>\n      <th>transaction_account_id</th>\n      <th>transaction_market_id</th>\n      <th>transaction_market_protocol_id</th>\n      <th>transaction_market_rates_rate</th>\n      <th>transaction_market_rates_duration</th>\n      <th>transaction_market_rates_side</th>\n      <th>...</th>\n      <th>transaction_market_rates_token_id</th>\n      <th>transaction_asset_name</th>\n      <th>transaction_asset_symbol</th>\n      <th>transaction_asset_decimals</th>\n      <th>transaction_asset_lastPriceUSD</th>\n      <th>transaction_amount</th>\n      <th>transaction_amountUSD</th>\n      <th>event</th>\n      <th>transactionReadableAmount</th>\n      <th>dateTime</th>\n    </tr>\n  </thead>\n  <tbody>\n    <tr>\n      <th>0</th>\n      <td>0xa1821732de0a64b8c5f1b4371e115d1a116bf143c8c7...</td>\n      <td>0xa1821732de0a64b8c5f1b4371e115d1a116bf143c8c7...</td>\n      <td>16627397</td>\n      <td>1676382659</td>\n      <td>0xc0b1f200aa9546ce074397bed7438bb2ec033877</td>\n      <td>0xf5ffabab8f9a6f4f6de1f0dd6e0820f68657d7db</td>\n      <td>0xd998c35b7900b344bbbe6555cc11576942cf309d</td>\n      <td>1.164533</td>\n      <td>None</td>\n      <td>BORROWER</td>\n      <td>...</td>\n      <td>0x64aa3364f17a4d01c6f1751fd97c2bd3d7e7f1d5</td>\n      <td>Olympus</td>\n      <td>OHM</td>\n      <td>9</td>\n      <td>10.66869</td>\n      <td>2514698283</td>\n      <td>25.992718</td>\n      <td>withdraw</td>\n      <td>2.514698</td>\n      <td>2023-02-14 13:50:59</td>\n    </tr>\n    <tr>\n      <th>1</th>\n      <td>0xa1821732de0a64b8c5f1b4371e115d1a116bf143c8c7...</td>\n      <td>0xa1821732de0a64b8c5f1b4371e115d1a116bf143c8c7...</td>\n      <td>16627397</td>\n      <td>1676382659</td>\n      <td>0xc0b1f200aa9546ce074397bed7438bb2ec033877</td>\n      <td>0xf5ffabab8f9a6f4f6de1f0dd6e0820f68657d7db</td>\n      <td>0xd998c35b7900b344bbbe6555cc11576942cf309d</td>\n      <td>0.000000</td>\n      <td>None</td>\n      <td>BORROWER</td>\n      <td>...</td>\n      <td>0xc02aaa39b223fe8d0a0e5c4f27ead9083c756cc2</td>\n      <td>Olympus</td>\n      <td>OHM</td>\n      <td>9</td>\n      <td>10.66869</td>\n      <td>2514698283</td>\n      <td>25.992718</td>\n      <td>withdraw</td>\n      <td>2.514698</td>\n      <td>2023-02-14 13:50:59</td>\n    </tr>\n    <tr>\n      <th>2</th>\n      <td>0xa1821732de0a64b8c5f1b4371e115d1a116bf143c8c7...</td>\n      <td>0xa1821732de0a64b8c5f1b4371e115d1a116bf143c8c7...</td>\n      <td>16627397</td>\n      <td>1676382659</td>\n      <td>0xc0b1f200aa9546ce074397bed7438bb2ec033877</td>\n      <td>0xf5ffabab8f9a6f4f6de1f0dd6e0820f68657d7db</td>\n      <td>0xd998c35b7900b344bbbe6555cc11576942cf309d</td>\n      <td>0.000000</td>\n      <td>None</td>\n      <td>BORROWER</td>\n      <td>...</td>\n      <td>0xd7c9f0e536dc865ae858b0c0453fe76d13c3beac</td>\n      <td>Olympus</td>\n      <td>OHM</td>\n      <td>9</td>\n      <td>10.66869</td>\n      <td>2514698283</td>\n      <td>25.992718</td>\n      <td>withdraw</td>\n      <td>2.514698</td>\n      <td>2023-02-14 13:50:59</td>\n    </tr>\n  </tbody>\n</table>\n<p>3 rows × 21 columns</p>\n</div>"
     },
     "execution_count": 429,
     "metadata": {},
     "output_type": "execute_result"
    }
   ],
   "source": [
    "siloWithdrawEventsDbTimedClean = pd.DataFrame()\n",
    "siloWithdrawsDb['transactionReadableAmount'] = siloWithdrawsDb['transaction_amount']/(10**(siloWithdrawsDb['transaction_asset_decimals']))\n",
    "siloWithdrawsDb['transactionReadableAmount']=siloWithdrawsDb['transactionReadableAmount'].astype('float')\n",
    "siloWithdrawsDb['dateTime'] =(pd.to_datetime(siloWithdrawsDb['transaction_timestamp'],unit='s'))\n",
    "\n",
    "#we only want withdrawals in GOHM from those that borrowed, so drop anyone that is not on that side\n",
    "siloWithdrawsDb.drop(siloWithdrawsDb.loc[siloWithdrawsDb['transaction_market_rates_side']!='BORROWER'].index, inplace=True)\n",
    "siloWithdrawsDb.drop(siloWithdrawsDb.loc[siloWithdrawsDb['transaction_asset_symbol']!='OHM'].index, inplace=True)\n",
    "\n",
    "siloWithdrawEventsDbTimedClean = siloWithdrawsDb[['event','transaction_hash','transaction_blockNumber','transaction_timestamp','transaction_account_id','transaction_market_id','transaction_asset_name','transaction_asset_symbol', 'transactionReadableAmount','transaction_asset_lastPriceUSD','transaction_amountUSD','dateTime']].copy()\n",
    "siloWithdrawEventsDbTimedClean.sort_values(by=['event','transaction_hash','transaction_blockNumber','transaction_timestamp','transaction_account_id','transaction_market_id','transaction_asset_name','transaction_asset_symbol', 'transactionReadableAmount','transaction_asset_lastPriceUSD','transaction_amountUSD','dateTime'])\n",
    "siloWithdrawEventsDbTimedClean.drop_duplicates(subset=['transaction_hash'],keep='first', inplace=True)\n",
    "siloWithdrawEventsDbTimedClean['calDate'] = siloWithdrawEventsDbTimedClean['dateTime'].dt.normalize()\n",
    "siloWithdrawsDb.head(100)"
   ],
   "metadata": {
    "collapsed": false
   }
  },
  {
   "cell_type": "code",
   "execution_count": 430,
   "outputs": [
    {
     "name": "stdout",
     "output_type": "stream",
     "text": [
      "D:\\Dropbox\\Documents\\Edgecaser LLC\\Projects\\Olympus\\Econohmetrics\\ohmBorrowing/data/siloFinanceGohmWithdraws_piped.csv file saved, 1  records\n"
     ]
    }
   ],
   "source": [
    "path =file+'/siloFinanceGohmWithdraws.csv'\n",
    "siloWithdrawEventsDbTimedClean.to_csv(path, index = False)\n",
    "\n",
    "path =file+'/siloFinanceGohmWithdraws_piped.csv'\n",
    "siloWithdrawEventsDbTimedClean.to_csv(path, index = False, sep='|')\n",
    "print(path, 'file saved,', len(siloWithdrawEventsDbTimedClean),' records')"
   ],
   "metadata": {
    "collapsed": false
   }
  },
  {
   "cell_type": "code",
   "execution_count": 431,
   "outputs": [
    {
     "name": "stdout",
     "output_type": "stream",
     "text": [
      "There has been a total of 2.51 OHM withdrawn cumulatively as collateral  to date\n",
      "That is a value of USD$ 25.99\n"
     ]
    }
   ],
   "source": [
    "totalWithdrawed = sum(siloWithdrawEventsDbTimedClean['transactionReadableAmount'])\n",
    "print('There has been a total of',round(totalWithdrawed,2),  'OHM withdrawn cumulatively as collateral  to date')\n",
    "totalWithdrawedUSD =sum(siloWithdrawEventsDbTimedClean['transaction_amountUSD'])\n",
    "print('That is a value of USD$',round(totalWithdrawedUSD,2))"
   ],
   "metadata": {
    "collapsed": false
   }
  },
  {
   "cell_type": "code",
   "execution_count": 433,
   "outputs": [
    {
     "name": "stdout",
     "output_type": "stream",
     "text": [
      "20012.514698283  -  2.514698283 = 20010.0 currently deposited as collateral in Silo\n"
     ]
    }
   ],
   "source": [
    "collateralBalance = totalDeposited-totalWithdrawed\n",
    "print(totalDeposited, ' - ',totalWithdrawed,'=', collateralBalance, 'currently deposited as collateral in Silo' )"
   ],
   "metadata": {
    "collapsed": false
   }
  },
  {
   "cell_type": "markdown",
   "source": [
    "*************************************************************\n",
    "*************************************************************\n",
    "LET'S LOOK AT THE EULER MARKET\n",
    "https://app.euler.finance/market/0x64aa3364f17a4d01c6f1751fd97c2bd3d7e7f1d5\n",
    "https://gateway.thegraph.com/api/[api-key]/subgraphs/id/8cLf29KxAedWLVaEqjV8qKomdwwXQxjptBZFrqWNH5u2\n",
    "\n",
    "STARTING WITH BORROWS (hasn't launched yet as of 2/16/23)"
   ],
   "metadata": {
    "collapsed": false
   }
  },
  {
   "cell_type": "code",
   "execution_count": 434,
   "outputs": [],
   "source": [
    "euler = sg.load_api('https://gateway.thegraph.com/api/'+apiKey+'/subgraphs/id/8cLf29KxAedWLVaEqjV8qKomdwwXQxjptBZFrqWNH5u2')"
   ],
   "metadata": {
    "collapsed": false
   }
  },
  {
   "cell_type": "code",
   "execution_count": 435,
   "outputs": [
    {
     "data": {
      "text/plain": "Empty DataFrame\nColumns: []\nIndex: []",
      "text/html": "<div>\n<style scoped>\n    .dataframe tbody tr th:only-of-type {\n        vertical-align: middle;\n    }\n\n    .dataframe tbody tr th {\n        vertical-align: top;\n    }\n\n    .dataframe thead th {\n        text-align: right;\n    }\n</style>\n<table border=\"1\" class=\"dataframe\">\n  <thead>\n    <tr style=\"text-align: right;\">\n      <th></th>\n    </tr>\n  </thead>\n  <tbody>\n  </tbody>\n</table>\n</div>"
     },
     "execution_count": 435,
     "metadata": {},
     "output_type": "execute_result"
    }
   ],
   "source": [
    "oldEulerBorrowsDb = pd.DataFrame()\n",
    "EulerBorrowsFileName = file+'/eulerFinanceOhmBorrows.csv'\n",
    "try:\n",
    "    oldEulerBorrowsDb = pd.read_csv (EulerBorrowsFileName)\n",
    "except:\n",
    "    oldEulerBorrowsDb = pd.DataFrame()\n",
    "oldEulerBorrowsDb.head(100)"
   ],
   "metadata": {
    "collapsed": false
   }
  },
  {
   "cell_type": "code",
   "execution_count": 436,
   "outputs": [
    {
     "data": {
      "text/plain": "0"
     },
     "execution_count": 436,
     "metadata": {},
     "output_type": "execute_result"
    }
   ],
   "source": [
    "maxEulerBorrowTimestamp = 0\n",
    "try:\n",
    "    maxEulerBorrowTimestamp = (max(0,oldBorrowsDb['transaction_timestamp'].max()))-5\n",
    "except:\n",
    "        maxEulerBorrowTimestamp = 0\n",
    "maxEulerBorrowTimestamp = int(maxEulerBorrowTimestamp)\n",
    "maxEulerBorrowTimestamp"
   ],
   "metadata": {
    "collapsed": false
   }
  },
  {
   "cell_type": "markdown",
   "source": [
    "##SAMPLE QUERY\n",
    "eulerBorrowsDb = pd.DataFrame()\n",
    "deposits = euler.Query.deposits(\n",
    "        orderBy='timestamp',\n",
    "        orderDirection='desc',\n",
    "        first=1000,\n",
    "        skip = skipValue,\n",
    "        where={ #'timestamp_gte': maxEulerdepositTimestamp\n",
    "                #,'hash': '0x301069fd24dd70d15cdcbebd4f076efe486a82f347240703adcb1713a6582e98'\n",
    "                'market':'0x8a6622d293d5187a39f8dba7f6f1ae7fa527483b'\n",
    "                ,'asset':'0x64aa3364f17a4d01c6f1751fd97c2bd3d7e7f1d5'\n",
    "                }\n",
    "    )\n",
    "\n",
    "depositslist = sg.query_df([\n",
    "    deposits.id\n",
    "    ,deposits.hash\n",
    "    ,deposits.logIndex\n",
    "    ,deposits.timestamp\n",
    "    ,deposits.to\n",
    "    ,deposits.asset.id\n",
    "    ,deposits.asset.symbol\n",
    "    ,deposits.asset.decimals\n",
    "    ,deposits.asset.lastPriceUSD\n",
    "    ,deposits.asset.lastPriceBlockNumber\n",
    "    ,deposits.amount\n",
    "    ,deposits.amountUSD\n",
    "    ,deposits._select(\"from\")\n",
    "])\n",
    "\n",
    "depositslist.head(10)"
   ],
   "metadata": {
    "collapsed": false
   }
  },
  {
   "cell_type": "code",
   "execution_count": 437,
   "outputs": [
    {
     "ename": "SyntaxError",
     "evalue": "invalid syntax (1674637684.py, line 41)",
     "output_type": "error",
     "traceback": [
      "\u001B[1;36m  Input \u001B[1;32mIn [437]\u001B[1;36m\u001B[0m\n\u001B[1;33m    eulerBorrowsDb=pd.concat([eulerBorrowsDb, borrowslist]).\u001B[0m\n\u001B[1;37m                                                            ^\u001B[0m\n\u001B[1;31mSyntaxError\u001B[0m\u001B[1;31m:\u001B[0m invalid syntax\n"
     ]
    }
   ],
   "source": [
    "##this captures the ENTIRE list of people who borrowed OHM\n",
    "borrowTicker = 0\n",
    "borrowslist = pd.DataFrame()\n",
    "eulerBorrowsDb = pd.DataFrame()\n",
    "eulerBorrowsDbLength = 1000\n",
    "datediff = 0\n",
    "now=0\n",
    "daysAgo=0\n",
    "daysLimit = 45\n",
    "exit = False\n",
    "while exit==False:\n",
    "    skipValue = (borrowTicker)*(1000)\n",
    "    borrows = euler.Query.borrows(\n",
    "            orderBy='timestamp',\n",
    "            orderDirection='desc',\n",
    "            first=1000,\n",
    "            skip = skipValue,\n",
    "            where={ #'timestamp_gte': maxEulerBorrowTimestamp\n",
    "                    #,'hash': '0x301069fd24dd70d15cdcbebd4f076efe486a82f347240703adcb1713a6582e98'\n",
    "                    'market':'0x8a6622d293d5187a39f8dba7f6f1ae7fa527483b'\n",
    "                    ,'asset':'0x64aa3364f17a4d01c6f1751fd97c2bd3d7e7f1d5'\n",
    "                    }\n",
    "        )\n",
    "\n",
    "    borrowslist = sg.query_df([\n",
    "        borrows.id\n",
    "        ,borrows.hash\n",
    "        ,borrows.logIndex\n",
    "        ,borrows.timestamp\n",
    "        ,borrows.to\n",
    "        ,borrows.asset.id\n",
    "        ,borrows.asset.symbol\n",
    "        ,borrows.asset.decimals\n",
    "        ,borrows.asset.lastPriceUSD\n",
    "        ,borrows.asset.lastPriceBlockNumber\n",
    "        ,borrows.amount\n",
    "        ,borrows.amountUSD\n",
    "        ,borrows._select(\"from\")\n",
    "    ])\n",
    "\n",
    "    eulerBorrowsDb=pd.concat([eulerBorrowsDb, borrowslist]).\n",
    "\n",
    "    recordTimestamp1 = eulerBorrowsDb.iat[borrowTicker,3]\n",
    "    recordTimestamp = dt.datetime.fromtimestamp( recordTimestamp1 )\n",
    "    now = (int(dt.datetime.utcnow().timestamp()))\n",
    "    datediff=abs(int(now) - recordTimestamp1)\n",
    "    daysAgo = int(datediff/86400)\n",
    "    eulerBorrowsDbLength = len(eulerBorrowsDb)\n",
    "    eulerBorrowListLength = len(borrowslist)\n",
    "    recordID = eulerBorrowsDb.iat[borrowTicker,0]\n",
    "    borrow = eulerBorrowsDb.iat[borrowTicker,1]\n",
    "    print(\"iterations: \", borrowTicker, \"Lines skipped: \",skipValue, \"records collected: \", eulerBorrowListLength, \" - latest recordID: \",borrow, \" \", recordID , \" - borrows DB length: \", eulerBorrowsDbLength, \" - latest record from: \", recordTimestamp, daysAgo,\"days ago\")\n",
    "    #print(\"iterations: \", borrowTicker, \"records collected: \", borrowListLength, \" - userdb length: \", borrowsDbLength)\n",
    "    borrowTicker = borrowTicker+1\n",
    "\n",
    "    if daysAgo>daysLimit: exit =True\n",
    "    if eulerBorrowListLength<1000: exit =True\n",
    "\n",
    "eulerBorrowsDb.columns = eulerBorrowsDb.columns.str.replace(\"borrows\", \"transaction\")\n",
    "eulerBorrowsDb['event']='borrow'\n",
    "eulerBorrowsDb.drop_duplicates\n",
    "print(\"Done. Total Records collected: \", eulerBorrowsDbLength)"
   ],
   "metadata": {
    "collapsed": false
   }
  },
  {
   "cell_type": "code",
   "execution_count": null,
   "outputs": [],
   "source": [
    "eulerBorrowsDb.head(10)"
   ],
   "metadata": {
    "collapsed": false
   }
  },
  {
   "cell_type": "markdown",
   "source": [
    "****************************************************************************************************************\n",
    "****************************************************************************************************************\n",
    "LET'S LOOK AT THE EULER DEPOSIT EVENTS"
   ],
   "metadata": {
    "collapsed": false
   }
  },
  {
   "cell_type": "code",
   "execution_count": 505,
   "outputs": [
    {
     "data": {
      "text/plain": "                                          deposit_id  \\\n0  0x301069fd24dd70d15cdcbebd4f076efe486a82f34724...   \n1  0xa7495eba745bd67279969c1b8687f816e0d83a60bf0c...   \n\n                                        deposit_hash  deposit_logIndex  \\\n0  0x301069fd24dd70d15cdcbebd4f076efe486a82f34724...               199   \n1  0xa7495eba745bd67279969c1b8687f816e0d83a60bf0c...               123   \n\n   deposit_timestamp                                  deposit_to  \\\n0         1676615723  0x8a6622d293d5187a39f8dba7f6f1ae7fa527483b   \n1         1676379695  0x8a6622d293d5187a39f8dba7f6f1ae7fa527483b   \n\n                             deposit_asset_id deposit_asset_symbol  \\\n0  0x64aa3364f17a4d01c6f1751fd97c2bd3d7e7f1d5                  OHM   \n1  0x64aa3364f17a4d01c6f1751fd97c2bd3d7e7f1d5                  OHM   \n\n   deposit_asset_decimals  deposit_asset_lastPriceUSD  \\\n0                       9                    10.66869   \n1                       9                    10.66869   \n\n   deposit_asset_lastPriceBlockNumber  deposit_amount  deposit_amountUSD  \\\n0                            16665524      4973203839          52.678831   \n1                            16665524  30000000000000      310089.501811   \n\n                                 deposit_from    event  depositReadableAmount  \\\n0  0x9b53bed0d62028c0fc5d2006c076cb33e6e6cecd  deposit               4.973204   \n1  0x245cc372c84b3645bf0ffe6538620b04a217988b  deposit           30000.000000   \n\n              dateTime  \n0  2023-02-17 06:35:23  \n1  2023-02-14 13:01:35  ",
      "text/html": "<div>\n<style scoped>\n    .dataframe tbody tr th:only-of-type {\n        vertical-align: middle;\n    }\n\n    .dataframe tbody tr th {\n        vertical-align: top;\n    }\n\n    .dataframe thead th {\n        text-align: right;\n    }\n</style>\n<table border=\"1\" class=\"dataframe\">\n  <thead>\n    <tr style=\"text-align: right;\">\n      <th></th>\n      <th>deposit_id</th>\n      <th>deposit_hash</th>\n      <th>deposit_logIndex</th>\n      <th>deposit_timestamp</th>\n      <th>deposit_to</th>\n      <th>deposit_asset_id</th>\n      <th>deposit_asset_symbol</th>\n      <th>deposit_asset_decimals</th>\n      <th>deposit_asset_lastPriceUSD</th>\n      <th>deposit_asset_lastPriceBlockNumber</th>\n      <th>deposit_amount</th>\n      <th>deposit_amountUSD</th>\n      <th>deposit_from</th>\n      <th>event</th>\n      <th>depositReadableAmount</th>\n      <th>dateTime</th>\n    </tr>\n  </thead>\n  <tbody>\n    <tr>\n      <th>0</th>\n      <td>0x301069fd24dd70d15cdcbebd4f076efe486a82f34724...</td>\n      <td>0x301069fd24dd70d15cdcbebd4f076efe486a82f34724...</td>\n      <td>199</td>\n      <td>1676615723</td>\n      <td>0x8a6622d293d5187a39f8dba7f6f1ae7fa527483b</td>\n      <td>0x64aa3364f17a4d01c6f1751fd97c2bd3d7e7f1d5</td>\n      <td>OHM</td>\n      <td>9</td>\n      <td>10.66869</td>\n      <td>16665524</td>\n      <td>4973203839</td>\n      <td>52.678831</td>\n      <td>0x9b53bed0d62028c0fc5d2006c076cb33e6e6cecd</td>\n      <td>deposit</td>\n      <td>4.973204</td>\n      <td>2023-02-17 06:35:23</td>\n    </tr>\n    <tr>\n      <th>1</th>\n      <td>0xa7495eba745bd67279969c1b8687f816e0d83a60bf0c...</td>\n      <td>0xa7495eba745bd67279969c1b8687f816e0d83a60bf0c...</td>\n      <td>123</td>\n      <td>1676379695</td>\n      <td>0x8a6622d293d5187a39f8dba7f6f1ae7fa527483b</td>\n      <td>0x64aa3364f17a4d01c6f1751fd97c2bd3d7e7f1d5</td>\n      <td>OHM</td>\n      <td>9</td>\n      <td>10.66869</td>\n      <td>16665524</td>\n      <td>30000000000000</td>\n      <td>310089.501811</td>\n      <td>0x245cc372c84b3645bf0ffe6538620b04a217988b</td>\n      <td>deposit</td>\n      <td>30000.000000</td>\n      <td>2023-02-14 13:01:35</td>\n    </tr>\n  </tbody>\n</table>\n</div>"
     },
     "execution_count": 505,
     "metadata": {},
     "output_type": "execute_result"
    }
   ],
   "source": [
    "oldEulerDepositsDb = pd.DataFrame()\n",
    "EulerDepositsFileName = file+'/eulerFinanceOhmDeposits.csv'\n",
    "try:\n",
    "    oldEulerDepositsDb = pd.read_csv (EulerDepositsFileName)\n",
    "except:\n",
    "    oldEulerDepositsDb = pd.DataFrame()\n",
    "oldEulerDepositsDb.head(100)"
   ],
   "metadata": {
    "collapsed": false
   }
  },
  {
   "cell_type": "code",
   "execution_count": 508,
   "outputs": [
    {
     "data": {
      "text/plain": "1676615718"
     },
     "execution_count": 508,
     "metadata": {},
     "output_type": "execute_result"
    }
   ],
   "source": [
    "maxEulerDepositTimestamp = 0\n",
    "try:\n",
    "    maxEulerDepositTimestamp = (max(0,oldEulerDepositsDb['deposit_timestamp'].max()))-5\n",
    "except:\n",
    "        maxEulerDepositTimestamp = 0\n",
    "maxEulerDepositTimestamp = int(maxEulerDepositTimestamp)\n",
    "maxEulerDepositTimestamp"
   ],
   "metadata": {
    "collapsed": false
   }
  },
  {
   "cell_type": "code",
   "execution_count": 509,
   "outputs": [
    {
     "name": "stdout",
     "output_type": "stream",
     "text": [
      "iterations:  0 Lines skipped:  0 records collected:  2  - latest recordID:  0x301069fd24dd70d15cdcbebd4f076efe486a82f347240703adcb1713a6582e98   0x301069fd24dd70d15cdcbebd4f076efe486a82f347240703adcb1713a6582e98-199  - deposits DB length:  2  - latest record from:  2023-02-16 22:35:23 3 days ago\n",
      "Done. Total Records collected:  2\n"
     ]
    }
   ],
   "source": [
    "##this captures the ENTIRE list of people who Deposited OHM\n",
    "depositTicker = 0\n",
    "depositlist = pd.DataFrame()\n",
    "eulerDepositsDb = pd.DataFrame()\n",
    "eulerDepositsDbLength = 1000\n",
    "datediff = 0\n",
    "now=0\n",
    "daysAgo=0\n",
    "daysLimit = 45\n",
    "exit = False\n",
    "while exit==False:\n",
    "    skipValue = (depositTicker)*(1000)\n",
    "    deposits = euler.Query.deposits(\n",
    "            orderBy='timestamp',\n",
    "            orderDirection='desc',\n",
    "            first=1000,\n",
    "            skip = skipValue,\n",
    "            where={ #'timestamp_gte': maxEulerDepositTimestamp\n",
    "                    #,'hash': '0x301069fd24dd70d15cdcbebd4f076efe486a82f347240703adcb1713a6582e98'\n",
    "                    'market':'0x8a6622d293d5187a39f8dba7f6f1ae7fa527483b'\n",
    "                    ,'asset':'0x64aa3364f17a4d01c6f1751fd97c2bd3d7e7f1d5'\n",
    "                    }\n",
    "        )\n",
    "\n",
    "    depositslist = sg.query_df([\n",
    "        deposits.id\n",
    "        ,deposits.hash\n",
    "        ,deposits.logIndex\n",
    "        ,deposits.timestamp\n",
    "        ,deposits.to\n",
    "        ,deposits.asset.id\n",
    "        ,deposits.asset.symbol\n",
    "        ,deposits.asset.decimals\n",
    "        ,deposits.asset.lastPriceUSD\n",
    "        ,deposits.asset.lastPriceBlockNumber\n",
    "        ,deposits.amount\n",
    "        ,deposits.amountUSD\n",
    "        ,deposits._select(\"from\")\n",
    "    ])\n",
    "\n",
    "    eulerDepositsDb=pd.concat([eulerDepositsDb, depositslist])\n",
    "\n",
    "    recordTimestamp1 = eulerDepositsDb.iat[depositTicker,3]\n",
    "    recordTimestamp = dt.datetime.fromtimestamp( recordTimestamp1 )\n",
    "    now = (int(dt.datetime.utcnow().timestamp()))\n",
    "    datediff=abs(int(now) - recordTimestamp1)\n",
    "    daysAgo = int(datediff/86400)\n",
    "    eulerDepositsDbLength = len(eulerDepositsDb)\n",
    "    eulerDepositListLength = len(depositslist)\n",
    "    recordID = eulerDepositsDb.iat[depositTicker,0]\n",
    "    deposit = eulerDepositsDb.iat[depositTicker,1]\n",
    "    print(\"iterations: \", depositTicker, \"Lines skipped: \",skipValue, \"records collected: \", eulerDepositListLength, \" - latest recordID: \",deposit, \" \", recordID , \" - deposits DB length: \", eulerDepositsDbLength, \" - latest record from: \", recordTimestamp, daysAgo,\"days ago\")\n",
    "    #print(\"iterations: \", depositTicker, \"records collected: \", depositListLength, \" - userdb length: \", depositsDbLength)\n",
    "    depositTicker = depositTicker+1\n",
    "\n",
    "    if daysAgo>daysLimit: exit =True\n",
    "    if eulerDepositListLength<1000: exit =True\n",
    "\n",
    "eulerDepositsDb.columns = eulerDepositsDb.columns.str.replace(\"deposits\", \"transaction\")\n",
    "eulerDepositsDb['event']='deposit'\n",
    "eulerDepositsDb.drop_duplicates\n",
    "print(\"Done. Total Records collected: \", eulerDepositsDbLength)"
   ],
   "metadata": {
    "collapsed": false
   }
  },
  {
   "cell_type": "code",
   "execution_count": 510,
   "outputs": [
    {
     "data": {
      "text/plain": "                                      transaction_id  \\\n0  0x301069fd24dd70d15cdcbebd4f076efe486a82f34724...   \n1  0xa7495eba745bd67279969c1b8687f816e0d83a60bf0c...   \n\n                                    transaction_hash  transaction_logIndex  \\\n0  0x301069fd24dd70d15cdcbebd4f076efe486a82f34724...                   199   \n1  0xa7495eba745bd67279969c1b8687f816e0d83a60bf0c...                   123   \n\n   transaction_timestamp                              transaction_to  \\\n0             1676615723  0x8a6622d293d5187a39f8dba7f6f1ae7fa527483b   \n1             1676379695  0x8a6622d293d5187a39f8dba7f6f1ae7fa527483b   \n\n                         transaction_asset_id transaction_asset_symbol  \\\n0  0x64aa3364f17a4d01c6f1751fd97c2bd3d7e7f1d5                      OHM   \n1  0x64aa3364f17a4d01c6f1751fd97c2bd3d7e7f1d5                      OHM   \n\n   transaction_asset_decimals  transaction_asset_lastPriceUSD  \\\n0                           9                       10.667133   \n1                           9                       10.667133   \n\n   transaction_asset_lastPriceBlockNumber  transaction_amount  \\\n0                                16667356          4973203839   \n1                                16667356      30000000000000   \n\n   transaction_amountUSD                            transaction_from    event  \n0              52.678831  0x9b53bed0d62028c0fc5d2006c076cb33e6e6cecd  deposit  \n1          310089.501811  0x245cc372c84b3645bf0ffe6538620b04a217988b  deposit  ",
      "text/html": "<div>\n<style scoped>\n    .dataframe tbody tr th:only-of-type {\n        vertical-align: middle;\n    }\n\n    .dataframe tbody tr th {\n        vertical-align: top;\n    }\n\n    .dataframe thead th {\n        text-align: right;\n    }\n</style>\n<table border=\"1\" class=\"dataframe\">\n  <thead>\n    <tr style=\"text-align: right;\">\n      <th></th>\n      <th>transaction_id</th>\n      <th>transaction_hash</th>\n      <th>transaction_logIndex</th>\n      <th>transaction_timestamp</th>\n      <th>transaction_to</th>\n      <th>transaction_asset_id</th>\n      <th>transaction_asset_symbol</th>\n      <th>transaction_asset_decimals</th>\n      <th>transaction_asset_lastPriceUSD</th>\n      <th>transaction_asset_lastPriceBlockNumber</th>\n      <th>transaction_amount</th>\n      <th>transaction_amountUSD</th>\n      <th>transaction_from</th>\n      <th>event</th>\n    </tr>\n  </thead>\n  <tbody>\n    <tr>\n      <th>0</th>\n      <td>0x301069fd24dd70d15cdcbebd4f076efe486a82f34724...</td>\n      <td>0x301069fd24dd70d15cdcbebd4f076efe486a82f34724...</td>\n      <td>199</td>\n      <td>1676615723</td>\n      <td>0x8a6622d293d5187a39f8dba7f6f1ae7fa527483b</td>\n      <td>0x64aa3364f17a4d01c6f1751fd97c2bd3d7e7f1d5</td>\n      <td>OHM</td>\n      <td>9</td>\n      <td>10.667133</td>\n      <td>16667356</td>\n      <td>4973203839</td>\n      <td>52.678831</td>\n      <td>0x9b53bed0d62028c0fc5d2006c076cb33e6e6cecd</td>\n      <td>deposit</td>\n    </tr>\n    <tr>\n      <th>1</th>\n      <td>0xa7495eba745bd67279969c1b8687f816e0d83a60bf0c...</td>\n      <td>0xa7495eba745bd67279969c1b8687f816e0d83a60bf0c...</td>\n      <td>123</td>\n      <td>1676379695</td>\n      <td>0x8a6622d293d5187a39f8dba7f6f1ae7fa527483b</td>\n      <td>0x64aa3364f17a4d01c6f1751fd97c2bd3d7e7f1d5</td>\n      <td>OHM</td>\n      <td>9</td>\n      <td>10.667133</td>\n      <td>16667356</td>\n      <td>30000000000000</td>\n      <td>310089.501811</td>\n      <td>0x245cc372c84b3645bf0ffe6538620b04a217988b</td>\n      <td>deposit</td>\n    </tr>\n  </tbody>\n</table>\n</div>"
     },
     "execution_count": 510,
     "metadata": {},
     "output_type": "execute_result"
    }
   ],
   "source": [
    "eulerDepositsDb.head(10)"
   ],
   "metadata": {
    "collapsed": false
   }
  },
  {
   "cell_type": "code",
   "execution_count": 511,
   "outputs": [
    {
     "data": {
      "text/plain": "                                      transaction_id  \\\n0  0x301069fd24dd70d15cdcbebd4f076efe486a82f34724...   \n1  0xa7495eba745bd67279969c1b8687f816e0d83a60bf0c...   \n\n                                    transaction_hash  transaction_logIndex  \\\n0  0x301069fd24dd70d15cdcbebd4f076efe486a82f34724...                   199   \n1  0xa7495eba745bd67279969c1b8687f816e0d83a60bf0c...                   123   \n\n   transaction_timestamp                              transaction_to  \\\n0             1676615723  0x8a6622d293d5187a39f8dba7f6f1ae7fa527483b   \n1             1676379695  0x8a6622d293d5187a39f8dba7f6f1ae7fa527483b   \n\n                         transaction_asset_id transaction_asset_symbol  \\\n0  0x64aa3364f17a4d01c6f1751fd97c2bd3d7e7f1d5                      OHM   \n1  0x64aa3364f17a4d01c6f1751fd97c2bd3d7e7f1d5                      OHM   \n\n   transaction_asset_decimals  transaction_asset_lastPriceUSD  \\\n0                           9                       10.667133   \n1                           9                       10.667133   \n\n   transaction_asset_lastPriceBlockNumber  transaction_amount  \\\n0                                16667356          4973203839   \n1                                16667356      30000000000000   \n\n   transaction_amountUSD                            transaction_from    event  \\\n0              52.678831  0x9b53bed0d62028c0fc5d2006c076cb33e6e6cecd  deposit   \n1          310089.501811  0x245cc372c84b3645bf0ffe6538620b04a217988b  deposit   \n\n   transactionReadableAmount            dateTime  \n0                   4.973204 2023-02-17 06:35:23  \n1               30000.000000 2023-02-14 13:01:35  ",
      "text/html": "<div>\n<style scoped>\n    .dataframe tbody tr th:only-of-type {\n        vertical-align: middle;\n    }\n\n    .dataframe tbody tr th {\n        vertical-align: top;\n    }\n\n    .dataframe thead th {\n        text-align: right;\n    }\n</style>\n<table border=\"1\" class=\"dataframe\">\n  <thead>\n    <tr style=\"text-align: right;\">\n      <th></th>\n      <th>transaction_id</th>\n      <th>transaction_hash</th>\n      <th>transaction_logIndex</th>\n      <th>transaction_timestamp</th>\n      <th>transaction_to</th>\n      <th>transaction_asset_id</th>\n      <th>transaction_asset_symbol</th>\n      <th>transaction_asset_decimals</th>\n      <th>transaction_asset_lastPriceUSD</th>\n      <th>transaction_asset_lastPriceBlockNumber</th>\n      <th>transaction_amount</th>\n      <th>transaction_amountUSD</th>\n      <th>transaction_from</th>\n      <th>event</th>\n      <th>transactionReadableAmount</th>\n      <th>dateTime</th>\n    </tr>\n  </thead>\n  <tbody>\n    <tr>\n      <th>0</th>\n      <td>0x301069fd24dd70d15cdcbebd4f076efe486a82f34724...</td>\n      <td>0x301069fd24dd70d15cdcbebd4f076efe486a82f34724...</td>\n      <td>199</td>\n      <td>1676615723</td>\n      <td>0x8a6622d293d5187a39f8dba7f6f1ae7fa527483b</td>\n      <td>0x64aa3364f17a4d01c6f1751fd97c2bd3d7e7f1d5</td>\n      <td>OHM</td>\n      <td>9</td>\n      <td>10.667133</td>\n      <td>16667356</td>\n      <td>4973203839</td>\n      <td>52.678831</td>\n      <td>0x9b53bed0d62028c0fc5d2006c076cb33e6e6cecd</td>\n      <td>deposit</td>\n      <td>4.973204</td>\n      <td>2023-02-17 06:35:23</td>\n    </tr>\n    <tr>\n      <th>1</th>\n      <td>0xa7495eba745bd67279969c1b8687f816e0d83a60bf0c...</td>\n      <td>0xa7495eba745bd67279969c1b8687f816e0d83a60bf0c...</td>\n      <td>123</td>\n      <td>1676379695</td>\n      <td>0x8a6622d293d5187a39f8dba7f6f1ae7fa527483b</td>\n      <td>0x64aa3364f17a4d01c6f1751fd97c2bd3d7e7f1d5</td>\n      <td>OHM</td>\n      <td>9</td>\n      <td>10.667133</td>\n      <td>16667356</td>\n      <td>30000000000000</td>\n      <td>310089.501811</td>\n      <td>0x245cc372c84b3645bf0ffe6538620b04a217988b</td>\n      <td>deposit</td>\n      <td>30000.000000</td>\n      <td>2023-02-14 13:01:35</td>\n    </tr>\n  </tbody>\n</table>\n</div>"
     },
     "execution_count": 511,
     "metadata": {},
     "output_type": "execute_result"
    }
   ],
   "source": [
    "eulerdepositsDbTimedClean = pd.DataFrame()\n",
    "eulerDepositsDb['transactionReadableAmount'] = eulerDepositsDb['transaction_amount']/(10**(eulerDepositsDb['transaction_asset_decimals']))\n",
    "\n",
    "eulerDepositsDb['transactionReadableAmount']=eulerDepositsDb['transactionReadableAmount'].astype('float')\n",
    "eulerDepositsDb['dateTime'] =(pd.to_datetime(eulerDepositsDb['transaction_timestamp'],unit='s'))\n",
    "eulerDepositsDb.head(10)"
   ],
   "metadata": {
    "collapsed": false
   }
  },
  {
   "cell_type": "code",
   "execution_count": 512,
   "outputs": [
    {
     "data": {
      "text/plain": "                                      transaction_id  \\\n0  0x301069fd24dd70d15cdcbebd4f076efe486a82f34724...   \n1  0xa7495eba745bd67279969c1b8687f816e0d83a60bf0c...   \n\n                                    transaction_hash  transaction_logIndex  \\\n0  0x301069fd24dd70d15cdcbebd4f076efe486a82f34724...                   199   \n1  0xa7495eba745bd67279969c1b8687f816e0d83a60bf0c...                   123   \n\n   transaction_timestamp                              transaction_to  \\\n0             1676615723  0x8a6622d293d5187a39f8dba7f6f1ae7fa527483b   \n1             1676379695  0x8a6622d293d5187a39f8dba7f6f1ae7fa527483b   \n\n                         transaction_asset_id transaction_asset_symbol  \\\n0  0x64aa3364f17a4d01c6f1751fd97c2bd3d7e7f1d5                      OHM   \n1  0x64aa3364f17a4d01c6f1751fd97c2bd3d7e7f1d5                      OHM   \n\n   transaction_asset_decimals  transaction_asset_lastPriceUSD  \\\n0                           9                       10.667133   \n1                           9                       10.667133   \n\n   transaction_asset_lastPriceBlockNumber  transaction_amount  \\\n0                                16667356          4973203839   \n1                                16667356      30000000000000   \n\n   transaction_amountUSD                            transaction_from    event  \\\n0              52.678831  0x9b53bed0d62028c0fc5d2006c076cb33e6e6cecd  deposit   \n1          310089.501811  0x245cc372c84b3645bf0ffe6538620b04a217988b  deposit   \n\n   transactionReadableAmount            dateTime  \n0                   4.973204 2023-02-17 06:35:23  \n1               30000.000000 2023-02-14 13:01:35  ",
      "text/html": "<div>\n<style scoped>\n    .dataframe tbody tr th:only-of-type {\n        vertical-align: middle;\n    }\n\n    .dataframe tbody tr th {\n        vertical-align: top;\n    }\n\n    .dataframe thead th {\n        text-align: right;\n    }\n</style>\n<table border=\"1\" class=\"dataframe\">\n  <thead>\n    <tr style=\"text-align: right;\">\n      <th></th>\n      <th>transaction_id</th>\n      <th>transaction_hash</th>\n      <th>transaction_logIndex</th>\n      <th>transaction_timestamp</th>\n      <th>transaction_to</th>\n      <th>transaction_asset_id</th>\n      <th>transaction_asset_symbol</th>\n      <th>transaction_asset_decimals</th>\n      <th>transaction_asset_lastPriceUSD</th>\n      <th>transaction_asset_lastPriceBlockNumber</th>\n      <th>transaction_amount</th>\n      <th>transaction_amountUSD</th>\n      <th>transaction_from</th>\n      <th>event</th>\n      <th>transactionReadableAmount</th>\n      <th>dateTime</th>\n    </tr>\n  </thead>\n  <tbody>\n    <tr>\n      <th>0</th>\n      <td>0x301069fd24dd70d15cdcbebd4f076efe486a82f34724...</td>\n      <td>0x301069fd24dd70d15cdcbebd4f076efe486a82f34724...</td>\n      <td>199</td>\n      <td>1676615723</td>\n      <td>0x8a6622d293d5187a39f8dba7f6f1ae7fa527483b</td>\n      <td>0x64aa3364f17a4d01c6f1751fd97c2bd3d7e7f1d5</td>\n      <td>OHM</td>\n      <td>9</td>\n      <td>10.667133</td>\n      <td>16667356</td>\n      <td>4973203839</td>\n      <td>52.678831</td>\n      <td>0x9b53bed0d62028c0fc5d2006c076cb33e6e6cecd</td>\n      <td>deposit</td>\n      <td>4.973204</td>\n      <td>2023-02-17 06:35:23</td>\n    </tr>\n    <tr>\n      <th>1</th>\n      <td>0xa7495eba745bd67279969c1b8687f816e0d83a60bf0c...</td>\n      <td>0xa7495eba745bd67279969c1b8687f816e0d83a60bf0c...</td>\n      <td>123</td>\n      <td>1676379695</td>\n      <td>0x8a6622d293d5187a39f8dba7f6f1ae7fa527483b</td>\n      <td>0x64aa3364f17a4d01c6f1751fd97c2bd3d7e7f1d5</td>\n      <td>OHM</td>\n      <td>9</td>\n      <td>10.667133</td>\n      <td>16667356</td>\n      <td>30000000000000</td>\n      <td>310089.501811</td>\n      <td>0x245cc372c84b3645bf0ffe6538620b04a217988b</td>\n      <td>deposit</td>\n      <td>30000.000000</td>\n      <td>2023-02-14 13:01:35</td>\n    </tr>\n  </tbody>\n</table>\n</div>"
     },
     "execution_count": 512,
     "metadata": {},
     "output_type": "execute_result"
    }
   ],
   "source": [
    "eulerDepositsDb['transactionReadableAmount'] = eulerDepositsDb['transaction_amount']*1e-9\n",
    "eulerDepositsDb['dateTime'] =(pd.to_datetime(eulerDepositsDb['transaction_timestamp'],unit='s'))\n",
    "eulerDepositsDb.head(10)"
   ],
   "metadata": {
    "collapsed": false
   }
  },
  {
   "cell_type": "code",
   "execution_count": 439,
   "outputs": [
    {
     "name": "stdout",
     "output_type": "stream",
     "text": [
      "<class 'pandas.core.frame.DataFrame'>\n",
      "RangeIndex: 2 entries, 0 to 1\n",
      "Data columns (total 16 columns):\n",
      " #   Column                              Non-Null Count  Dtype         \n",
      "---  ------                              --------------  -----         \n",
      " 0   deposit_id                          2 non-null      object        \n",
      " 1   deposit_hash                        2 non-null      object        \n",
      " 2   deposit_logIndex                    2 non-null      int64         \n",
      " 3   deposit_timestamp                   2 non-null      int64         \n",
      " 4   deposit_to                          2 non-null      object        \n",
      " 5   deposit_asset_id                    2 non-null      object        \n",
      " 6   deposit_asset_symbol                2 non-null      object        \n",
      " 7   deposit_asset_decimals              2 non-null      int64         \n",
      " 8   deposit_asset_lastPriceUSD          2 non-null      float64       \n",
      " 9   deposit_asset_lastPriceBlockNumber  2 non-null      int64         \n",
      " 10  deposit_amount                      2 non-null      int64         \n",
      " 11  deposit_amountUSD                   2 non-null      float64       \n",
      " 12  deposit_from                        2 non-null      object        \n",
      " 13  event                               2 non-null      object        \n",
      " 14  depositReadableAmount               2 non-null      float64       \n",
      " 15  dateTime                            2 non-null      datetime64[ns]\n",
      "dtypes: datetime64[ns](1), float64(3), int64(5), object(7)\n",
      "memory usage: 384.0+ bytes\n"
     ]
    }
   ],
   "source": [
    "eulerDepositsDb.info()"
   ],
   "metadata": {
    "collapsed": false
   }
  },
  {
   "cell_type": "code",
   "execution_count": 513,
   "outputs": [
    {
     "name": "stdout",
     "output_type": "stream",
     "text": [
      "There has been a total of 30004.97 OHM deposited cumulatively to date\n"
     ]
    }
   ],
   "source": [
    "totalDepositedEuler = sum(eulerDepositsDb['transactionReadableAmount'])\n",
    "print('There has been a total of', round(totalDepositedEuler, 2), 'OHM deposited cumulatively to date')"
   ],
   "metadata": {
    "collapsed": false
   }
  },
  {
   "cell_type": "code",
   "execution_count": 514,
   "outputs": [
    {
     "name": "stdout",
     "output_type": "stream",
     "text": [
      "That's $ 310142.18 USD deposited at last price\n"
     ]
    }
   ],
   "source": [
    "totalDepositedUSDEuler = sum(eulerDepositsDb['transaction_amountUSD'])\n",
    "print('That\\'s $', round(totalDepositedUSDEuler, 2), 'USD deposited at last price')"
   ],
   "metadata": {
    "collapsed": false
   }
  },
  {
   "cell_type": "code",
   "execution_count": 515,
   "outputs": [
    {
     "name": "stdout",
     "output_type": "stream",
     "text": [
      "D:\\Dropbox\\Documents\\Edgecaser LLC\\Projects\\Olympus\\Econohmetrics\\ohmBorrowing/data/eulerFinanceOhmDeposits_piped.csv file saved, 1  records\n"
     ]
    }
   ],
   "source": [
    "path =file+'/eulerFinanceOhmDeposits.csv'\n",
    "eulerDepositsDb.to_csv(path, index = False)\n",
    "\n",
    "path =file+'/eulerFinanceOhmDeposits_piped.csv'\n",
    "depositsDb.to_csv(path, index = False, sep='|')\n",
    "print(path, 'file saved,', len(siloWithdrawEventsDbTimedClean),' records')"
   ],
   "metadata": {
    "collapsed": false
   }
  },
  {
   "cell_type": "markdown",
   "source": [],
   "metadata": {
    "collapsed": false
   }
  },
  {
   "cell_type": "markdown",
   "source": [
    "****************************************************************************************************************\n",
    "****************************************************************************************************************\n",
    "EULER WITHDRAWAL EVENTS (none as of 02/19)"
   ],
   "metadata": {
    "collapsed": false
   }
  },
  {
   "cell_type": "code",
   "execution_count": 516,
   "outputs": [
    {
     "data": {
      "text/plain": "Empty DataFrame\nColumns: []\nIndex: []",
      "text/html": "<div>\n<style scoped>\n    .dataframe tbody tr th:only-of-type {\n        vertical-align: middle;\n    }\n\n    .dataframe tbody tr th {\n        vertical-align: top;\n    }\n\n    .dataframe thead th {\n        text-align: right;\n    }\n</style>\n<table border=\"1\" class=\"dataframe\">\n  <thead>\n    <tr style=\"text-align: right;\">\n      <th></th>\n    </tr>\n  </thead>\n  <tbody>\n  </tbody>\n</table>\n</div>"
     },
     "execution_count": 516,
     "metadata": {},
     "output_type": "execute_result"
    }
   ],
   "source": [
    "oldEulerWithdrawsDb = pd.DataFrame()\n",
    "EulerFileName = file+'/EulerFinanceGohmWithdraws.csv'\n",
    "try:\n",
    "    oldEulerWithdrawsDb = pd.read_csv (EulerFileName)\n",
    "except:\n",
    "    oldEulerWithdrawsDb = pd.DataFrame()\n",
    "oldEulerWithdrawsDb.head(100)"
   ],
   "metadata": {
    "collapsed": false
   }
  },
  {
   "cell_type": "code",
   "execution_count": 517,
   "outputs": [
    {
     "data": {
      "text/plain": "0"
     },
     "execution_count": 517,
     "metadata": {},
     "output_type": "execute_result"
    }
   ],
   "source": [
    "maxEulerWithdrawsTimestamp = 0\n",
    "try:\n",
    "    maxEulerWithdrawsTimestamp = (max(0,oldEulerWithdrawssDb['transaction_timestamp'].max()))-5\n",
    "except:\n",
    "        maxEulerWithdrawsTimestamp = 0\n",
    "maxEulerWithdrawsTimestamp = int(maxEulerWithdrawsTimestamp)\n",
    "maxEulerWithdrawsTimestamp"
   ],
   "metadata": {
    "collapsed": false
   }
  },
  {
   "cell_type": "code",
   "execution_count": 518,
   "outputs": [
    {
     "data": {
      "text/plain": "Empty DataFrame\nColumns: [withdraws_id, withdraws_hash, withdraws_logIndex, withdraws_timestamp, withdraws_to, withdraws_asset_id, withdraws_asset_symbol, withdraws_asset_decimals, withdraws_asset_lastPriceUSD, withdraws_asset_lastPriceBlockNumber, withdraws_amount, withdraws_amountUSD, withdraws_from]\nIndex: []",
      "text/html": "<div>\n<style scoped>\n    .dataframe tbody tr th:only-of-type {\n        vertical-align: middle;\n    }\n\n    .dataframe tbody tr th {\n        vertical-align: top;\n    }\n\n    .dataframe thead th {\n        text-align: right;\n    }\n</style>\n<table border=\"1\" class=\"dataframe\">\n  <thead>\n    <tr style=\"text-align: right;\">\n      <th></th>\n      <th>withdraws_id</th>\n      <th>withdraws_hash</th>\n      <th>withdraws_logIndex</th>\n      <th>withdraws_timestamp</th>\n      <th>withdraws_to</th>\n      <th>withdraws_asset_id</th>\n      <th>withdraws_asset_symbol</th>\n      <th>withdraws_asset_decimals</th>\n      <th>withdraws_asset_lastPriceUSD</th>\n      <th>withdraws_asset_lastPriceBlockNumber</th>\n      <th>withdraws_amount</th>\n      <th>withdraws_amountUSD</th>\n      <th>withdraws_from</th>\n    </tr>\n  </thead>\n  <tbody>\n  </tbody>\n</table>\n</div>"
     },
     "execution_count": 518,
     "metadata": {},
     "output_type": "execute_result"
    }
   ],
   "source": [
    "##this captures the ENTIRE list of people who withdrawed OHM\n",
    "try:\n",
    "    withdrawTicker = 0\n",
    "    withdrawslist = pd.DataFrame()\n",
    "    eulerWithdrawsDb = pd.DataFrame()\n",
    "    withdrawListLength = 1000\n",
    "    datediff = 0\n",
    "    now=0\n",
    "    daysAgo=0\n",
    "    daysLimit = 45\n",
    "    exit = False\n",
    "    while exit==False:\n",
    "        skipValue = (withdrawTicker)*(1000)\n",
    "        withdraws = euler.Query.withdraws(\n",
    "            orderBy='timestamp',\n",
    "            orderDirection='desc',\n",
    "            first=1000,\n",
    "            skip = skipValue,\n",
    "            where={ #'timestamp_gte': maxEulerBorrowTimestamp\n",
    "                    #,'hash': '0x301069fd24dd70d15cdcbebd4f076efe486a82f347240703adcb1713a6582e98'\n",
    "                    'market':'0x8a6622d293d5187a39f8dba7f6f1ae7fa527483b'\n",
    "                    ,'asset':'0x64aa3364f17a4d01c6f1751fd97c2bd3d7e7f1d5'\n",
    "                    }\n",
    "            )\n",
    "\n",
    "        withdrawslist = sg.query_df([\n",
    "            withdraws.id\n",
    "            ,withdraws.hash\n",
    "            ,withdraws.logIndex\n",
    "            ,withdraws.timestamp\n",
    "            ,withdraws.to\n",
    "            ,withdraws.asset.id\n",
    "            ,withdraws.asset.symbol\n",
    "            ,withdraws.asset.decimals\n",
    "            ,withdraws.asset.lastPriceUSD\n",
    "            ,withdraws.asset.lastPriceBlockNumber\n",
    "            ,withdraws.amount\n",
    "            ,withdraws.amountUSD\n",
    "            ,withdraws._select(\"from\")\n",
    "        ])\n",
    "\n",
    "        eulerWithdrawsDb=pd.concat([eulerWithdrawsDb, withdrawslist])\n",
    "        recordTimestamp1 = eulerWithdrawsDb.iat[withdrawTicker,3]\n",
    "        recordTimestamp = dt.datetime.fromtimestamp( recordTimestamp1 )\n",
    "        now = (int(dt.datetime.utcnow().timestamp()))\n",
    "        datediff=abs(int(now) - recordTimestamp1)\n",
    "        daysAgo = int(datediff/86400)\n",
    "        eulerwithdrawsDbLength = len(eulerWithdrawsDb)\n",
    "        eulerwithdrawListLength = len(withdrawslist)\n",
    "        recordID = eulerWithdrawsDb.iat[withdrawTicker,0]\n",
    "        withdraw = eulerWithdrawsDb.iat[withdrawTicker,1]\n",
    "        print(\"iterations: \", withdrawTicker, \"Lines skipped: \",skipValue, \"records collected: \", eulerwithdrawListLength, \" - latest recordID: \",withdraw, \" \", recordID , \" - withdraws DB length: \", eulerwithdrawsDbLength, \" - latest record from: \", recordTimestamp, daysAgo,\"days ago\")\n",
    "        #print(\"iterations: \", withdrawTicker, \"records collected: \", withdrawListLength, \" - userdb length: \", withdrawsDbLength)\n",
    "        withdrawTicker = withdrawTicker+1\n",
    "\n",
    "        if daysAgo>daysLimit: exit =True\n",
    "        if withdrawListLength<1000: exit =True\n",
    "\n",
    "    eulerWithdrawsDb.columns = eulerWithdrawsDb.columns.str.replace(\"withdraws\", \"transaction\")\n",
    "    eulerWithdrawsDb['event']='withdraw'\n",
    "    eulerWithdrawsDb.drop_duplicates\n",
    "    print(\"Done. Total Records collected: \", eulerwithdrawsDbLength)\n",
    "except:\n",
    "    eulerWithdrawsDb =pd.DataFrame()\n",
    "    eulerWithdrawsDb['withdraws_id']=[]\n",
    "    eulerWithdrawsDb['withdraws_hash']=[]\n",
    "    eulerWithdrawsDb['withdraws_logIndex']=[]\n",
    "    eulerWithdrawsDb['withdraws_timestamp']=[]\n",
    "    eulerWithdrawsDb['withdraws_to']=[]\n",
    "    eulerWithdrawsDb['withdraws_asset_id']=[]\n",
    "    eulerWithdrawsDb['withdraws_asset_symbol']=[]\n",
    "    eulerWithdrawsDb['withdraws_asset_decimals']=[]\n",
    "    eulerWithdrawsDb['withdraws_asset_lastPriceUSD']=[]\n",
    "    eulerWithdrawsDb['withdraws_asset_lastPriceBlockNumber']=[]\n",
    "    eulerWithdrawsDb['withdraws_amount']=[]\n",
    "    eulerWithdrawsDb['withdraws_amountUSD']=[]\n",
    "    eulerWithdrawsDb['withdraws_from']=[]\n",
    "eulerWithdrawsDb.head(10)"
   ],
   "metadata": {
    "collapsed": false
   }
  },
  {
   "cell_type": "code",
   "execution_count": 519,
   "outputs": [
    {
     "ename": "KeyError",
     "evalue": "('withdraws_id', 'withdraws_hash', 'withdraws_logIndex', 'withdraws_to', 'withdraws_asset_id', 'withdraws_asset_symbol', 'withdraws_asset_decimals', 'withdraws_asset_lastPriceUSD', 'withdraws_asset_lastPriceBlockNumber', 'withdraws_amount', 'withdraws_from', 'dateTime')",
     "output_type": "error",
     "traceback": [
      "\u001B[1;31m---------------------------------------------------------------------------\u001B[0m",
      "\u001B[1;31mKeyError\u001B[0m                                  Traceback (most recent call last)",
      "File \u001B[1;32m~\\PycharmProjects\\pythonProject\\venv\\lib\\site-packages\\pandas\\core\\indexes\\base.py:3621\u001B[0m, in \u001B[0;36mIndex.get_loc\u001B[1;34m(self, key, method, tolerance)\u001B[0m\n\u001B[0;32m   3620\u001B[0m \u001B[38;5;28;01mtry\u001B[39;00m:\n\u001B[1;32m-> 3621\u001B[0m     \u001B[38;5;28;01mreturn\u001B[39;00m \u001B[38;5;28;43mself\u001B[39;49m\u001B[38;5;241;43m.\u001B[39;49m\u001B[43m_engine\u001B[49m\u001B[38;5;241;43m.\u001B[39;49m\u001B[43mget_loc\u001B[49m\u001B[43m(\u001B[49m\u001B[43mcasted_key\u001B[49m\u001B[43m)\u001B[49m\n\u001B[0;32m   3622\u001B[0m \u001B[38;5;28;01mexcept\u001B[39;00m \u001B[38;5;167;01mKeyError\u001B[39;00m \u001B[38;5;28;01mas\u001B[39;00m err:\n",
      "File \u001B[1;32m~\\PycharmProjects\\pythonProject\\venv\\lib\\site-packages\\pandas\\_libs\\index.pyx:136\u001B[0m, in \u001B[0;36mpandas._libs.index.IndexEngine.get_loc\u001B[1;34m()\u001B[0m\n",
      "File \u001B[1;32m~\\PycharmProjects\\pythonProject\\venv\\lib\\site-packages\\pandas\\_libs\\index.pyx:163\u001B[0m, in \u001B[0;36mpandas._libs.index.IndexEngine.get_loc\u001B[1;34m()\u001B[0m\n",
      "File \u001B[1;32mpandas\\_libs\\hashtable_class_helper.pxi:5198\u001B[0m, in \u001B[0;36mpandas._libs.hashtable.PyObjectHashTable.get_item\u001B[1;34m()\u001B[0m\n",
      "File \u001B[1;32mpandas\\_libs\\hashtable_class_helper.pxi:5206\u001B[0m, in \u001B[0;36mpandas._libs.hashtable.PyObjectHashTable.get_item\u001B[1;34m()\u001B[0m\n",
      "\u001B[1;31mKeyError\u001B[0m: ('withdraws_id', 'withdraws_hash', 'withdraws_logIndex', 'withdraws_to', 'withdraws_asset_id', 'withdraws_asset_symbol', 'withdraws_asset_decimals', 'withdraws_asset_lastPriceUSD', 'withdraws_asset_lastPriceBlockNumber', 'withdraws_amount', 'withdraws_from', 'dateTime')",
      "\nThe above exception was the direct cause of the following exception:\n",
      "\u001B[1;31mKeyError\u001B[0m                                  Traceback (most recent call last)",
      "Input \u001B[1;32mIn [519]\u001B[0m, in \u001B[0;36m<cell line: 8>\u001B[1;34m()\u001B[0m\n\u001B[0;32m      4\u001B[0m eulerWithdrawsDb[\u001B[38;5;124m'\u001B[39m\u001B[38;5;124mtransactionReadableAmount\u001B[39m\u001B[38;5;124m'\u001B[39m]\u001B[38;5;241m=\u001B[39meulerWithdrawsDb[\u001B[38;5;124m'\u001B[39m\u001B[38;5;124mtransactionReadableAmount\u001B[39m\u001B[38;5;124m'\u001B[39m]\u001B[38;5;241m.\u001B[39mastype(\u001B[38;5;124m'\u001B[39m\u001B[38;5;124mfloat\u001B[39m\u001B[38;5;124m'\u001B[39m)\n\u001B[0;32m      5\u001B[0m eulerWithdrawsDb[\u001B[38;5;124m'\u001B[39m\u001B[38;5;124mdateTime\u001B[39m\u001B[38;5;124m'\u001B[39m] \u001B[38;5;241m=\u001B[39m(pd\u001B[38;5;241m.\u001B[39mto_datetime(eulerWithdrawsDb[\u001B[38;5;124m'\u001B[39m\u001B[38;5;124mwithdraws_timestamp\u001B[39m\u001B[38;5;124m'\u001B[39m],unit\u001B[38;5;241m=\u001B[39m\u001B[38;5;124m'\u001B[39m\u001B[38;5;124ms\u001B[39m\u001B[38;5;124m'\u001B[39m))\n\u001B[1;32m----> 8\u001B[0m eulerWithdrawEventsDbTimedClean \u001B[38;5;241m=\u001B[39m \u001B[43meulerWithdrawsDb\u001B[49m\u001B[43m[\u001B[49m\u001B[38;5;124;43m'\u001B[39;49m\u001B[38;5;124;43mwithdraws_id\u001B[39;49m\u001B[38;5;124;43m'\u001B[39;49m\u001B[43m,\u001B[49m\u001B[38;5;124;43m'\u001B[39;49m\u001B[38;5;124;43mwithdraws_hash\u001B[39;49m\u001B[38;5;124;43m'\u001B[39;49m\u001B[43m,\u001B[49m\u001B[38;5;124;43m'\u001B[39;49m\u001B[38;5;124;43mwithdraws_logIndex\u001B[39;49m\u001B[38;5;124;43m'\u001B[39;49m\u001B[43m,\u001B[49m\u001B[38;5;124;43m'\u001B[39;49m\u001B[38;5;124;43mwithdraws_to\u001B[39;49m\u001B[38;5;124;43m'\u001B[39;49m\u001B[43m,\u001B[49m\u001B[38;5;124;43m'\u001B[39;49m\u001B[38;5;124;43mwithdraws_asset_id\u001B[39;49m\u001B[38;5;124;43m'\u001B[39;49m\u001B[43m,\u001B[49m\u001B[38;5;124;43m'\u001B[39;49m\u001B[38;5;124;43mwithdraws_asset_symbol\u001B[39;49m\u001B[38;5;124;43m'\u001B[39;49m\u001B[43m,\u001B[49m\u001B[38;5;124;43m'\u001B[39;49m\u001B[38;5;124;43mwithdraws_asset_decimals\u001B[39;49m\u001B[38;5;124;43m'\u001B[39;49m\u001B[43m,\u001B[49m\u001B[43m \u001B[49m\u001B[38;5;124;43m'\u001B[39;49m\u001B[38;5;124;43mwithdraws_asset_lastPriceUSD\u001B[39;49m\u001B[38;5;124;43m'\u001B[39;49m\u001B[43m,\u001B[49m\u001B[38;5;124;43m'\u001B[39;49m\u001B[38;5;124;43mwithdraws_asset_lastPriceBlockNumber\u001B[39;49m\u001B[38;5;124;43m'\u001B[39;49m\u001B[43m,\u001B[49m\u001B[38;5;124;43m'\u001B[39;49m\u001B[38;5;124;43mwithdraws_amount\u001B[39;49m\u001B[38;5;124;43m'\u001B[39;49m\u001B[43m,\u001B[49m\u001B[38;5;124;43m'\u001B[39;49m\u001B[38;5;124;43mwithdraws_from\u001B[39;49m\u001B[38;5;124;43m'\u001B[39;49m\u001B[43m,\u001B[49m\u001B[38;5;124;43m'\u001B[39;49m\u001B[38;5;124;43mdateTime\u001B[39;49m\u001B[38;5;124;43m'\u001B[39;49m\u001B[43m]\u001B[49m\u001B[38;5;241m.\u001B[39mcopy()\n\u001B[0;32m      9\u001B[0m eulerWithdrawEventsDbTimedClean\u001B[38;5;241m.\u001B[39msort_values(by\u001B[38;5;241m=\u001B[39m[\u001B[38;5;124m'\u001B[39m\u001B[38;5;124mwithdraws_id\u001B[39m\u001B[38;5;124m'\u001B[39m,\u001B[38;5;124m'\u001B[39m\u001B[38;5;124mwithdraws_hash\u001B[39m\u001B[38;5;124m'\u001B[39m,\u001B[38;5;124m'\u001B[39m\u001B[38;5;124mwithdraws_logIndex\u001B[39m\u001B[38;5;124m'\u001B[39m,\u001B[38;5;124m'\u001B[39m\u001B[38;5;124mwithdraws_to\u001B[39m\u001B[38;5;124m'\u001B[39m,\u001B[38;5;124m'\u001B[39m\u001B[38;5;124mwithdraws_asset_id\u001B[39m\u001B[38;5;124m'\u001B[39m,\u001B[38;5;124m'\u001B[39m\u001B[38;5;124mwithdraws_asset_symbol\u001B[39m\u001B[38;5;124m'\u001B[39m,\u001B[38;5;124m'\u001B[39m\u001B[38;5;124mwithdraws_asset_decimals\u001B[39m\u001B[38;5;124m'\u001B[39m, \u001B[38;5;124m'\u001B[39m\u001B[38;5;124mwithdraws_asset_lastPriceUSD\u001B[39m\u001B[38;5;124m'\u001B[39m,\u001B[38;5;124m'\u001B[39m\u001B[38;5;124mwithdraws_asset_lastPriceBlockNumber\u001B[39m\u001B[38;5;124m'\u001B[39m,\u001B[38;5;124m'\u001B[39m\u001B[38;5;124mwithdraws_amount\u001B[39m\u001B[38;5;124m'\u001B[39m,\u001B[38;5;124m'\u001B[39m\u001B[38;5;124mwithdraws_from\u001B[39m\u001B[38;5;124m'\u001B[39m,\u001B[38;5;124m'\u001B[39m\u001B[38;5;124mdateTime\u001B[39m\u001B[38;5;124m'\u001B[39m])\n\u001B[0;32m     10\u001B[0m eulerWithdrawEventsDbTimedClean\u001B[38;5;241m.\u001B[39mdrop_duplicates(subset\u001B[38;5;241m=\u001B[39m[\u001B[38;5;124m'\u001B[39m\u001B[38;5;124mwithdraws_hash\u001B[39m\u001B[38;5;124m'\u001B[39m],keep\u001B[38;5;241m=\u001B[39m\u001B[38;5;124m'\u001B[39m\u001B[38;5;124mfirst\u001B[39m\u001B[38;5;124m'\u001B[39m, inplace\u001B[38;5;241m=\u001B[39m\u001B[38;5;28;01mTrue\u001B[39;00m)\n",
      "File \u001B[1;32m~\\PycharmProjects\\pythonProject\\venv\\lib\\site-packages\\pandas\\core\\frame.py:3505\u001B[0m, in \u001B[0;36mDataFrame.__getitem__\u001B[1;34m(self, key)\u001B[0m\n\u001B[0;32m   3503\u001B[0m \u001B[38;5;28;01mif\u001B[39;00m \u001B[38;5;28mself\u001B[39m\u001B[38;5;241m.\u001B[39mcolumns\u001B[38;5;241m.\u001B[39mnlevels \u001B[38;5;241m>\u001B[39m \u001B[38;5;241m1\u001B[39m:\n\u001B[0;32m   3504\u001B[0m     \u001B[38;5;28;01mreturn\u001B[39;00m \u001B[38;5;28mself\u001B[39m\u001B[38;5;241m.\u001B[39m_getitem_multilevel(key)\n\u001B[1;32m-> 3505\u001B[0m indexer \u001B[38;5;241m=\u001B[39m \u001B[38;5;28;43mself\u001B[39;49m\u001B[38;5;241;43m.\u001B[39;49m\u001B[43mcolumns\u001B[49m\u001B[38;5;241;43m.\u001B[39;49m\u001B[43mget_loc\u001B[49m\u001B[43m(\u001B[49m\u001B[43mkey\u001B[49m\u001B[43m)\u001B[49m\n\u001B[0;32m   3506\u001B[0m \u001B[38;5;28;01mif\u001B[39;00m is_integer(indexer):\n\u001B[0;32m   3507\u001B[0m     indexer \u001B[38;5;241m=\u001B[39m [indexer]\n",
      "File \u001B[1;32m~\\PycharmProjects\\pythonProject\\venv\\lib\\site-packages\\pandas\\core\\indexes\\base.py:3623\u001B[0m, in \u001B[0;36mIndex.get_loc\u001B[1;34m(self, key, method, tolerance)\u001B[0m\n\u001B[0;32m   3621\u001B[0m     \u001B[38;5;28;01mreturn\u001B[39;00m \u001B[38;5;28mself\u001B[39m\u001B[38;5;241m.\u001B[39m_engine\u001B[38;5;241m.\u001B[39mget_loc(casted_key)\n\u001B[0;32m   3622\u001B[0m \u001B[38;5;28;01mexcept\u001B[39;00m \u001B[38;5;167;01mKeyError\u001B[39;00m \u001B[38;5;28;01mas\u001B[39;00m err:\n\u001B[1;32m-> 3623\u001B[0m     \u001B[38;5;28;01mraise\u001B[39;00m \u001B[38;5;167;01mKeyError\u001B[39;00m(key) \u001B[38;5;28;01mfrom\u001B[39;00m \u001B[38;5;21;01merr\u001B[39;00m\n\u001B[0;32m   3624\u001B[0m \u001B[38;5;28;01mexcept\u001B[39;00m \u001B[38;5;167;01mTypeError\u001B[39;00m:\n\u001B[0;32m   3625\u001B[0m     \u001B[38;5;66;03m# If we have a listlike key, _check_indexing_error will raise\u001B[39;00m\n\u001B[0;32m   3626\u001B[0m     \u001B[38;5;66;03m#  InvalidIndexError. Otherwise we fall through and re-raise\u001B[39;00m\n\u001B[0;32m   3627\u001B[0m     \u001B[38;5;66;03m#  the TypeError.\u001B[39;00m\n\u001B[0;32m   3628\u001B[0m     \u001B[38;5;28mself\u001B[39m\u001B[38;5;241m.\u001B[39m_check_indexing_error(key)\n",
      "\u001B[1;31mKeyError\u001B[0m: ('withdraws_id', 'withdraws_hash', 'withdraws_logIndex', 'withdraws_to', 'withdraws_asset_id', 'withdraws_asset_symbol', 'withdraws_asset_decimals', 'withdraws_asset_lastPriceUSD', 'withdraws_asset_lastPriceBlockNumber', 'withdraws_amount', 'withdraws_from', 'dateTime')"
     ]
    }
   ],
   "source": [
    "eulerWithdrawEventsDbTimedClean = pd.DataFrame()\n",
    "eulerWithdrawsDb['transactionReadableAmount'] = eulerWithdrawsDb['withdraws_amount']/(10**(eulerWithdrawsDb['withdraws_asset_decimals']))\n",
    "\n",
    "eulerWithdrawsDb['transactionReadableAmount']=eulerWithdrawsDb['transactionReadableAmount'].astype('float')\n",
    "eulerWithdrawsDb['dateTime'] =(pd.to_datetime(eulerWithdrawsDb['withdraws_timestamp'],unit='s'))\n",
    " \n",
    "\n",
    "eulerWithdrawEventsDbTimedClean = eulerWithdrawsDb['withdraws_id','withdraws_hash','withdraws_logIndex','withdraws_to','withdraws_asset_id','withdraws_asset_symbol','withdraws_asset_decimals', 'withdraws_asset_lastPriceUSD','withdraws_asset_lastPriceBlockNumber','withdraws_amount','withdraws_from','dateTime'].copy()\n",
    "eulerWithdrawEventsDbTimedClean.sort_values(by=['withdraws_id','withdraws_hash','withdraws_logIndex','withdraws_to','withdraws_asset_id','withdraws_asset_symbol','withdraws_asset_decimals', 'withdraws_asset_lastPriceUSD','withdraws_asset_lastPriceBlockNumber','withdraws_amount','withdraws_from','dateTime'])\n",
    "eulerWithdrawEventsDbTimedClean.drop_duplicates(subset=['withdraws_hash'],keep='first', inplace=True)\n",
    "eulerWithdrawEventsDbTimedClean['calDate'] = eulerWithdrawEventsDbTimedClean['dateTime'].dt.normalize()\n",
    "eulerWithdrawsDb.head(100)"
   ],
   "metadata": {
    "collapsed": false
   }
  },
  {
   "cell_type": "markdown",
   "source": [
    "****************************************************************************************************************\n",
    "****************************************************************************************************************\n",
    "COMBINE DEPOSIT EVENTS"
   ],
   "metadata": {
    "collapsed": false
   }
  },
  {
   "cell_type": "code",
   "execution_count": 530,
   "outputs": [
    {
     "data": {
      "text/plain": "                                          actions_id  actions_timestamp  \\\n0  0x301069fd24dd70d15cdcbebd4f076efe486a82f34724...         1676615723   \n1  0xa7495eba745bd67279969c1b8687f816e0d83a60bf0c...         1676379695   \n\n             dateTime                            transaction_from  \\\n0 2023-02-17 06:35:23  0x9b53bed0d62028c0fc5d2006c076cb33e6e6cecd   \n1 2023-02-14 13:01:35  0x245cc372c84b3645bf0ffe6538620b04a217988b   \n\n  asset_symbol  ReadableAmount  transaction_amountUSD protocol  \\\n0          OHM        4.973204              52.678831    Euler   \n1          OHM    30000.000000          310089.501811    Euler   \n\n              action  \n0  depositCollateral  \n1  depositCollateral  ",
      "text/html": "<div>\n<style scoped>\n    .dataframe tbody tr th:only-of-type {\n        vertical-align: middle;\n    }\n\n    .dataframe tbody tr th {\n        vertical-align: top;\n    }\n\n    .dataframe thead th {\n        text-align: right;\n    }\n</style>\n<table border=\"1\" class=\"dataframe\">\n  <thead>\n    <tr style=\"text-align: right;\">\n      <th></th>\n      <th>actions_id</th>\n      <th>actions_timestamp</th>\n      <th>dateTime</th>\n      <th>transaction_from</th>\n      <th>asset_symbol</th>\n      <th>ReadableAmount</th>\n      <th>transaction_amountUSD</th>\n      <th>protocol</th>\n      <th>action</th>\n    </tr>\n  </thead>\n  <tbody>\n    <tr>\n      <th>0</th>\n      <td>0x301069fd24dd70d15cdcbebd4f076efe486a82f34724...</td>\n      <td>1676615723</td>\n      <td>2023-02-17 06:35:23</td>\n      <td>0x9b53bed0d62028c0fc5d2006c076cb33e6e6cecd</td>\n      <td>OHM</td>\n      <td>4.973204</td>\n      <td>52.678831</td>\n      <td>Euler</td>\n      <td>depositCollateral</td>\n    </tr>\n    <tr>\n      <th>1</th>\n      <td>0xa7495eba745bd67279969c1b8687f816e0d83a60bf0c...</td>\n      <td>1676379695</td>\n      <td>2023-02-14 13:01:35</td>\n      <td>0x245cc372c84b3645bf0ffe6538620b04a217988b</td>\n      <td>OHM</td>\n      <td>30000.000000</td>\n      <td>310089.501811</td>\n      <td>Euler</td>\n      <td>depositCollateral</td>\n    </tr>\n  </tbody>\n</table>\n</div>"
     },
     "execution_count": 530,
     "metadata": {},
     "output_type": "execute_result"
    }
   ],
   "source": [
    "#COLLATERALDEPOSITS\n",
    "eulerDepositsDbPreMerge = db.query(\n",
    "    \"select distinct\"\n",
    "    \" transaction_hash actions_id \"\n",
    "    \", transaction_timestamp actions_timestamp \"\n",
    "    \", dateTime \"\n",
    "    \", transaction_from transaction_from \"\n",
    "    \", transaction_asset_symbol asset_symbol\"\n",
    "    \", transactionReadableAmount ReadableAmount \"\n",
    "    \", transaction_amountUSD transaction_amountUSD \"\n",
    "    \"from eulerDepositsDb \"\n",
    ").df()\n",
    "eulerDepositsDbPreMerge['protocol'] = 'Euler'\n",
    "eulerDepositsDbPreMerge['action'] = 'depositCollateral'\n",
    "eulerDepositsDbPreMerge.head(10)\n",
    "\n"
   ],
   "metadata": {
    "collapsed": false
   }
  },
  {
   "cell_type": "code",
   "execution_count": 531,
   "outputs": [
    {
     "data": {
      "text/plain": "     event                                      deposits_hash  \\\n6  deposit  0x1c37394aaabc2445a66b61a360cf08ae096b7582e2ed...   \n\n   deposits_blockNumber  deposits_timestamp  \\\n6              16646360          1676611691   \n\n                          deposits_account_id  \\\n6  0x9b53bed0d62028c0fc5d2006c076cb33e6e6cecd   \n\n                           deposits_market_id deposits_asset_name  \\\n6  0xf5ffabab8f9a6f4f6de1f0dd6e0820f68657d7db             Olympus   \n\n  deposits_asset_symbol  depositsReadableAmount  deposits_asset_lastPriceUSD  \\\n6                   OHM                    10.0                     10.66869   \n\n   deposits_amountUSD            dateTime    calDate  \n6           105.92534 2023-02-17 05:28:11 2023-02-17  ",
      "text/html": "<div>\n<style scoped>\n    .dataframe tbody tr th:only-of-type {\n        vertical-align: middle;\n    }\n\n    .dataframe tbody tr th {\n        vertical-align: top;\n    }\n\n    .dataframe thead th {\n        text-align: right;\n    }\n</style>\n<table border=\"1\" class=\"dataframe\">\n  <thead>\n    <tr style=\"text-align: right;\">\n      <th></th>\n      <th>event</th>\n      <th>deposits_hash</th>\n      <th>deposits_blockNumber</th>\n      <th>deposits_timestamp</th>\n      <th>deposits_account_id</th>\n      <th>deposits_market_id</th>\n      <th>deposits_asset_name</th>\n      <th>deposits_asset_symbol</th>\n      <th>depositsReadableAmount</th>\n      <th>deposits_asset_lastPriceUSD</th>\n      <th>deposits_amountUSD</th>\n      <th>dateTime</th>\n      <th>calDate</th>\n    </tr>\n  </thead>\n  <tbody>\n    <tr>\n      <th>6</th>\n      <td>deposit</td>\n      <td>0x1c37394aaabc2445a66b61a360cf08ae096b7582e2ed...</td>\n      <td>16646360</td>\n      <td>1676611691</td>\n      <td>0x9b53bed0d62028c0fc5d2006c076cb33e6e6cecd</td>\n      <td>0xf5ffabab8f9a6f4f6de1f0dd6e0820f68657d7db</td>\n      <td>Olympus</td>\n      <td>OHM</td>\n      <td>10.0</td>\n      <td>10.66869</td>\n      <td>105.92534</td>\n      <td>2023-02-17 05:28:11</td>\n      <td>2023-02-17</td>\n    </tr>\n  </tbody>\n</table>\n</div>"
     },
     "execution_count": 531,
     "metadata": {},
     "output_type": "execute_result"
    }
   ],
   "source": [
    "siloDepositEventsDbTimedClean.head(1)"
   ],
   "metadata": {
    "collapsed": false
   }
  },
  {
   "cell_type": "code",
   "execution_count": 602,
   "outputs": [
    {
     "data": {
      "text/plain": "                                          actions_id  actions_timestamp  \\\n0  0x1c37394aaabc2445a66b61a360cf08ae096b7582e2ed...         1676611691   \n1  0xf9bbcc923182fb6406e97fce0f92c22c87a284d55812...         1676379599   \n2  0x0aa351eb8ff1ca2bd6c4e65229f83c7e5b596d72c889...         1676360171   \n\n             dateTime                            transaction_from  \\\n0 2023-02-17 05:28:11  0x9b53bed0d62028c0fc5d2006c076cb33e6e6cecd   \n1 2023-02-14 12:59:59  0x245cc372c84b3645bf0ffe6538620b04a217988b   \n2 2023-02-14 07:36:11  0xc0b1f200aa9546ce074397bed7438bb2ec033877   \n\n  asset_symbol  ReadableAmount  transaction_amountUSD protocol  \\\n0          OHM       10.000000             105.925340     Silo   \n1          OHM    20000.000000          206726.334541     Silo   \n2          OHM        2.514698              26.317329     Silo   \n\n              action  \n0  depositCollateral  \n1  depositCollateral  \n2  depositCollateral  ",
      "text/html": "<div>\n<style scoped>\n    .dataframe tbody tr th:only-of-type {\n        vertical-align: middle;\n    }\n\n    .dataframe tbody tr th {\n        vertical-align: top;\n    }\n\n    .dataframe thead th {\n        text-align: right;\n    }\n</style>\n<table border=\"1\" class=\"dataframe\">\n  <thead>\n    <tr style=\"text-align: right;\">\n      <th></th>\n      <th>actions_id</th>\n      <th>actions_timestamp</th>\n      <th>dateTime</th>\n      <th>transaction_from</th>\n      <th>asset_symbol</th>\n      <th>ReadableAmount</th>\n      <th>transaction_amountUSD</th>\n      <th>protocol</th>\n      <th>action</th>\n    </tr>\n  </thead>\n  <tbody>\n    <tr>\n      <th>0</th>\n      <td>0x1c37394aaabc2445a66b61a360cf08ae096b7582e2ed...</td>\n      <td>1676611691</td>\n      <td>2023-02-17 05:28:11</td>\n      <td>0x9b53bed0d62028c0fc5d2006c076cb33e6e6cecd</td>\n      <td>OHM</td>\n      <td>10.000000</td>\n      <td>105.925340</td>\n      <td>Silo</td>\n      <td>depositCollateral</td>\n    </tr>\n    <tr>\n      <th>1</th>\n      <td>0xf9bbcc923182fb6406e97fce0f92c22c87a284d55812...</td>\n      <td>1676379599</td>\n      <td>2023-02-14 12:59:59</td>\n      <td>0x245cc372c84b3645bf0ffe6538620b04a217988b</td>\n      <td>OHM</td>\n      <td>20000.000000</td>\n      <td>206726.334541</td>\n      <td>Silo</td>\n      <td>depositCollateral</td>\n    </tr>\n    <tr>\n      <th>2</th>\n      <td>0x0aa351eb8ff1ca2bd6c4e65229f83c7e5b596d72c889...</td>\n      <td>1676360171</td>\n      <td>2023-02-14 07:36:11</td>\n      <td>0xc0b1f200aa9546ce074397bed7438bb2ec033877</td>\n      <td>OHM</td>\n      <td>2.514698</td>\n      <td>26.317329</td>\n      <td>Silo</td>\n      <td>depositCollateral</td>\n    </tr>\n  </tbody>\n</table>\n</div>"
     },
     "execution_count": 602,
     "metadata": {},
     "output_type": "execute_result"
    }
   ],
   "source": [
    "siloDepositsDbPreMerge = db.query(\n",
    "    \"select distinct\"\n",
    "    \" deposits_hash actions_id \"\n",
    "    \", deposits_timestamp actions_timestamp \"\n",
    "    \", dateTime \"\n",
    "    \", deposits_account_id transaction_from \"\n",
    "    \", deposits_asset_symbol asset_symbol \"\n",
    "    \", depositsReadableAmount ReadableAmount \"\n",
    "    \", deposits_amountUSD transaction_amountUSD \"\n",
    "    \"from siloDepositEventsDbTimedClean \"\n",
    ").df()\n",
    "siloDepositsDbPreMerge['protocol'] = 'Silo'\n",
    "siloDepositsDbPreMerge['action'] = 'depositCollateral'\n",
    "siloDepositsDbPreMerge.head(10)\n"
   ],
   "metadata": {
    "collapsed": false
   }
  },
  {
   "cell_type": "code",
   "execution_count": 603,
   "outputs": [
    {
     "data": {
      "text/plain": "                                          actions_id  actions_timestamp  \\\n0  0x301069fd24dd70d15cdcbebd4f076efe486a82f34724...         1676615723   \n1  0xa7495eba745bd67279969c1b8687f816e0d83a60bf0c...         1676379695   \n0  0x1c37394aaabc2445a66b61a360cf08ae096b7582e2ed...         1676611691   \n1  0xf9bbcc923182fb6406e97fce0f92c22c87a284d55812...         1676379599   \n2  0x0aa351eb8ff1ca2bd6c4e65229f83c7e5b596d72c889...         1676360171   \n\n             dateTime                            transaction_from  \\\n0 2023-02-17 06:35:23  0x9b53bed0d62028c0fc5d2006c076cb33e6e6cecd   \n1 2023-02-14 13:01:35  0x245cc372c84b3645bf0ffe6538620b04a217988b   \n0 2023-02-17 05:28:11  0x9b53bed0d62028c0fc5d2006c076cb33e6e6cecd   \n1 2023-02-14 12:59:59  0x245cc372c84b3645bf0ffe6538620b04a217988b   \n2 2023-02-14 07:36:11  0xc0b1f200aa9546ce074397bed7438bb2ec033877   \n\n  asset_symbol  ReadableAmount  transaction_amountUSD protocol  \\\n0          OHM        4.973204              52.678831    Euler   \n1          OHM    30000.000000          310089.501811    Euler   \n0          OHM       10.000000             105.925340     Silo   \n1          OHM    20000.000000          206726.334541     Silo   \n2          OHM        2.514698              26.317329     Silo   \n\n              action  \n0  depositCollateral  \n1  depositCollateral  \n0  depositCollateral  \n1  depositCollateral  \n2  depositCollateral  ",
      "text/html": "<div>\n<style scoped>\n    .dataframe tbody tr th:only-of-type {\n        vertical-align: middle;\n    }\n\n    .dataframe tbody tr th {\n        vertical-align: top;\n    }\n\n    .dataframe thead th {\n        text-align: right;\n    }\n</style>\n<table border=\"1\" class=\"dataframe\">\n  <thead>\n    <tr style=\"text-align: right;\">\n      <th></th>\n      <th>actions_id</th>\n      <th>actions_timestamp</th>\n      <th>dateTime</th>\n      <th>transaction_from</th>\n      <th>asset_symbol</th>\n      <th>ReadableAmount</th>\n      <th>transaction_amountUSD</th>\n      <th>protocol</th>\n      <th>action</th>\n    </tr>\n  </thead>\n  <tbody>\n    <tr>\n      <th>0</th>\n      <td>0x301069fd24dd70d15cdcbebd4f076efe486a82f34724...</td>\n      <td>1676615723</td>\n      <td>2023-02-17 06:35:23</td>\n      <td>0x9b53bed0d62028c0fc5d2006c076cb33e6e6cecd</td>\n      <td>OHM</td>\n      <td>4.973204</td>\n      <td>52.678831</td>\n      <td>Euler</td>\n      <td>depositCollateral</td>\n    </tr>\n    <tr>\n      <th>1</th>\n      <td>0xa7495eba745bd67279969c1b8687f816e0d83a60bf0c...</td>\n      <td>1676379695</td>\n      <td>2023-02-14 13:01:35</td>\n      <td>0x245cc372c84b3645bf0ffe6538620b04a217988b</td>\n      <td>OHM</td>\n      <td>30000.000000</td>\n      <td>310089.501811</td>\n      <td>Euler</td>\n      <td>depositCollateral</td>\n    </tr>\n    <tr>\n      <th>0</th>\n      <td>0x1c37394aaabc2445a66b61a360cf08ae096b7582e2ed...</td>\n      <td>1676611691</td>\n      <td>2023-02-17 05:28:11</td>\n      <td>0x9b53bed0d62028c0fc5d2006c076cb33e6e6cecd</td>\n      <td>OHM</td>\n      <td>10.000000</td>\n      <td>105.925340</td>\n      <td>Silo</td>\n      <td>depositCollateral</td>\n    </tr>\n    <tr>\n      <th>1</th>\n      <td>0xf9bbcc923182fb6406e97fce0f92c22c87a284d55812...</td>\n      <td>1676379599</td>\n      <td>2023-02-14 12:59:59</td>\n      <td>0x245cc372c84b3645bf0ffe6538620b04a217988b</td>\n      <td>OHM</td>\n      <td>20000.000000</td>\n      <td>206726.334541</td>\n      <td>Silo</td>\n      <td>depositCollateral</td>\n    </tr>\n    <tr>\n      <th>2</th>\n      <td>0x0aa351eb8ff1ca2bd6c4e65229f83c7e5b596d72c889...</td>\n      <td>1676360171</td>\n      <td>2023-02-14 07:36:11</td>\n      <td>0xc0b1f200aa9546ce074397bed7438bb2ec033877</td>\n      <td>OHM</td>\n      <td>2.514698</td>\n      <td>26.317329</td>\n      <td>Silo</td>\n      <td>depositCollateral</td>\n    </tr>\n  </tbody>\n</table>\n</div>"
     },
     "execution_count": 603,
     "metadata": {},
     "output_type": "execute_result"
    }
   ],
   "source": [
    "ohmDeposits = pd.concat([eulerDepositsDbPreMerge,siloDepositsDbPreMerge])\n",
    "ohmDeposits.head(100)"
   ],
   "metadata": {
    "collapsed": false
   }
  },
  {
   "cell_type": "code",
   "execution_count": 604,
   "outputs": [
    {
     "name": "stdout",
     "output_type": "stream",
     "text": [
      "D:\\Dropbox\\Documents\\Edgecaser LLC\\Projects\\Olympus\\Econohmetrics\\ohmBorrowing/data/allOhmDeposits_piped.csv file saved, 5  records\n"
     ]
    }
   ],
   "source": [
    "path =file+'/allOhmDeposits.csv'\n",
    "ohmDeposits.to_csv(path, index = False)\n",
    "\n",
    "path =file+'/allOhmDeposits_piped.csv'\n",
    "ohmDeposits.to_csv(path, index = False, sep='|')\n",
    "print(path, 'file saved,', len(ohmDeposits),' records')"
   ],
   "metadata": {
    "collapsed": false
   }
  },
  {
   "cell_type": "markdown",
   "source": [
    "****************************************************************************************************************\n",
    "****************************************************************************************************************\n",
    "COMBINE WITHDRAWAL EVENTS"
   ],
   "metadata": {
    "collapsed": false
   }
  },
  {
   "cell_type": "markdown",
   "source": [],
   "metadata": {
    "collapsed": false
   }
  },
  {
   "cell_type": "code",
   "execution_count": 605,
   "outputs": [
    {
     "data": {
      "text/plain": "                                      transaction_id  \\\n0  0xa1821732de0a64b8c5f1b4371e115d1a116bf143c8c7...   \n\n                                    transaction_hash  transaction_blockNumber  \\\n0  0xa1821732de0a64b8c5f1b4371e115d1a116bf143c8c7...                 16627397   \n\n   transaction_timestamp                      transaction_account_id  \\\n0             1676382659  0xc0b1f200aa9546ce074397bed7438bb2ec033877   \n\n                        transaction_market_id  \\\n0  0xf5ffabab8f9a6f4f6de1f0dd6e0820f68657d7db   \n\n               transaction_market_protocol_id  transaction_market_rates_rate  \\\n0  0xd998c35b7900b344bbbe6555cc11576942cf309d                       1.164533   \n\n  transaction_market_rates_duration transaction_market_rates_side  ...  \\\n0                              None                      BORROWER  ...   \n\n  transaction_asset_name transaction_asset_symbol transaction_asset_decimals  \\\n0                Olympus                      OHM                          9   \n\n  transaction_asset_lastPriceUSD  transaction_amount  transaction_amountUSD  \\\n0                       10.66869          2514698283              25.992718   \n\n      event  transactionReadableAmount            dateTime  protocol  \n0  withdraw                   2.514698 2023-02-14 13:50:59      Silo  \n\n[1 rows x 22 columns]",
      "text/html": "<div>\n<style scoped>\n    .dataframe tbody tr th:only-of-type {\n        vertical-align: middle;\n    }\n\n    .dataframe tbody tr th {\n        vertical-align: top;\n    }\n\n    .dataframe thead th {\n        text-align: right;\n    }\n</style>\n<table border=\"1\" class=\"dataframe\">\n  <thead>\n    <tr style=\"text-align: right;\">\n      <th></th>\n      <th>transaction_id</th>\n      <th>transaction_hash</th>\n      <th>transaction_blockNumber</th>\n      <th>transaction_timestamp</th>\n      <th>transaction_account_id</th>\n      <th>transaction_market_id</th>\n      <th>transaction_market_protocol_id</th>\n      <th>transaction_market_rates_rate</th>\n      <th>transaction_market_rates_duration</th>\n      <th>transaction_market_rates_side</th>\n      <th>...</th>\n      <th>transaction_asset_name</th>\n      <th>transaction_asset_symbol</th>\n      <th>transaction_asset_decimals</th>\n      <th>transaction_asset_lastPriceUSD</th>\n      <th>transaction_amount</th>\n      <th>transaction_amountUSD</th>\n      <th>event</th>\n      <th>transactionReadableAmount</th>\n      <th>dateTime</th>\n      <th>protocol</th>\n    </tr>\n  </thead>\n  <tbody>\n    <tr>\n      <th>0</th>\n      <td>0xa1821732de0a64b8c5f1b4371e115d1a116bf143c8c7...</td>\n      <td>0xa1821732de0a64b8c5f1b4371e115d1a116bf143c8c7...</td>\n      <td>16627397</td>\n      <td>1676382659</td>\n      <td>0xc0b1f200aa9546ce074397bed7438bb2ec033877</td>\n      <td>0xf5ffabab8f9a6f4f6de1f0dd6e0820f68657d7db</td>\n      <td>0xd998c35b7900b344bbbe6555cc11576942cf309d</td>\n      <td>1.164533</td>\n      <td>None</td>\n      <td>BORROWER</td>\n      <td>...</td>\n      <td>Olympus</td>\n      <td>OHM</td>\n      <td>9</td>\n      <td>10.66869</td>\n      <td>2514698283</td>\n      <td>25.992718</td>\n      <td>withdraw</td>\n      <td>2.514698</td>\n      <td>2023-02-14 13:50:59</td>\n      <td>Silo</td>\n    </tr>\n  </tbody>\n</table>\n<p>1 rows × 22 columns</p>\n</div>"
     },
     "execution_count": 605,
     "metadata": {},
     "output_type": "execute_result"
    }
   ],
   "source": [
    "siloWithdrawsDb['protocol'] = 'Silo'\n",
    "siloWithdrawsDb.head(1)"
   ],
   "metadata": {
    "collapsed": false
   }
  },
  {
   "cell_type": "code",
   "execution_count": 606,
   "outputs": [
    {
     "data": {
      "text/plain": "                                      transaction_id  \\\n0  0xa1821732de0a64b8c5f1b4371e115d1a116bf143c8c7...   \n1  0xa1821732de0a64b8c5f1b4371e115d1a116bf143c8c7...   \n2  0xa1821732de0a64b8c5f1b4371e115d1a116bf143c8c7...   \n\n                                    transaction_hash  transaction_blockNumber  \\\n0  0xa1821732de0a64b8c5f1b4371e115d1a116bf143c8c7...                 16627397   \n1  0xa1821732de0a64b8c5f1b4371e115d1a116bf143c8c7...                 16627397   \n2  0xa1821732de0a64b8c5f1b4371e115d1a116bf143c8c7...                 16627397   \n\n   transaction_timestamp                      transaction_account_id  \\\n0             1676382659  0xc0b1f200aa9546ce074397bed7438bb2ec033877   \n1             1676382659  0xc0b1f200aa9546ce074397bed7438bb2ec033877   \n2             1676382659  0xc0b1f200aa9546ce074397bed7438bb2ec033877   \n\n                        transaction_market_id  \\\n0  0xf5ffabab8f9a6f4f6de1f0dd6e0820f68657d7db   \n1  0xf5ffabab8f9a6f4f6de1f0dd6e0820f68657d7db   \n2  0xf5ffabab8f9a6f4f6de1f0dd6e0820f68657d7db   \n\n               transaction_market_protocol_id  transaction_market_rates_rate  \\\n0  0xd998c35b7900b344bbbe6555cc11576942cf309d                       1.164533   \n1  0xd998c35b7900b344bbbe6555cc11576942cf309d                       0.000000   \n2  0xd998c35b7900b344bbbe6555cc11576942cf309d                       0.000000   \n\n  transaction_market_rates_duration transaction_market_rates_side  ...  \\\n0                              None                      BORROWER  ...   \n1                              None                      BORROWER  ...   \n2                              None                      BORROWER  ...   \n\n  transaction_asset_name transaction_asset_symbol transaction_asset_decimals  \\\n0                Olympus                      OHM                          9   \n1                Olympus                      OHM                          9   \n2                Olympus                      OHM                          9   \n\n  transaction_asset_lastPriceUSD  transaction_amount  transaction_amountUSD  \\\n0                       10.66869          2514698283              25.992718   \n1                       10.66869          2514698283              25.992718   \n2                       10.66869          2514698283              25.992718   \n\n      event  transactionReadableAmount            dateTime  protocol  \n0  withdraw                   2.514698 2023-02-14 13:50:59      Silo  \n1  withdraw                   2.514698 2023-02-14 13:50:59      Silo  \n2  withdraw                   2.514698 2023-02-14 13:50:59      Silo  \n\n[3 rows x 22 columns]",
      "text/html": "<div>\n<style scoped>\n    .dataframe tbody tr th:only-of-type {\n        vertical-align: middle;\n    }\n\n    .dataframe tbody tr th {\n        vertical-align: top;\n    }\n\n    .dataframe thead th {\n        text-align: right;\n    }\n</style>\n<table border=\"1\" class=\"dataframe\">\n  <thead>\n    <tr style=\"text-align: right;\">\n      <th></th>\n      <th>transaction_id</th>\n      <th>transaction_hash</th>\n      <th>transaction_blockNumber</th>\n      <th>transaction_timestamp</th>\n      <th>transaction_account_id</th>\n      <th>transaction_market_id</th>\n      <th>transaction_market_protocol_id</th>\n      <th>transaction_market_rates_rate</th>\n      <th>transaction_market_rates_duration</th>\n      <th>transaction_market_rates_side</th>\n      <th>...</th>\n      <th>transaction_asset_name</th>\n      <th>transaction_asset_symbol</th>\n      <th>transaction_asset_decimals</th>\n      <th>transaction_asset_lastPriceUSD</th>\n      <th>transaction_amount</th>\n      <th>transaction_amountUSD</th>\n      <th>event</th>\n      <th>transactionReadableAmount</th>\n      <th>dateTime</th>\n      <th>protocol</th>\n    </tr>\n  </thead>\n  <tbody>\n    <tr>\n      <th>0</th>\n      <td>0xa1821732de0a64b8c5f1b4371e115d1a116bf143c8c7...</td>\n      <td>0xa1821732de0a64b8c5f1b4371e115d1a116bf143c8c7...</td>\n      <td>16627397</td>\n      <td>1676382659</td>\n      <td>0xc0b1f200aa9546ce074397bed7438bb2ec033877</td>\n      <td>0xf5ffabab8f9a6f4f6de1f0dd6e0820f68657d7db</td>\n      <td>0xd998c35b7900b344bbbe6555cc11576942cf309d</td>\n      <td>1.164533</td>\n      <td>None</td>\n      <td>BORROWER</td>\n      <td>...</td>\n      <td>Olympus</td>\n      <td>OHM</td>\n      <td>9</td>\n      <td>10.66869</td>\n      <td>2514698283</td>\n      <td>25.992718</td>\n      <td>withdraw</td>\n      <td>2.514698</td>\n      <td>2023-02-14 13:50:59</td>\n      <td>Silo</td>\n    </tr>\n    <tr>\n      <th>1</th>\n      <td>0xa1821732de0a64b8c5f1b4371e115d1a116bf143c8c7...</td>\n      <td>0xa1821732de0a64b8c5f1b4371e115d1a116bf143c8c7...</td>\n      <td>16627397</td>\n      <td>1676382659</td>\n      <td>0xc0b1f200aa9546ce074397bed7438bb2ec033877</td>\n      <td>0xf5ffabab8f9a6f4f6de1f0dd6e0820f68657d7db</td>\n      <td>0xd998c35b7900b344bbbe6555cc11576942cf309d</td>\n      <td>0.000000</td>\n      <td>None</td>\n      <td>BORROWER</td>\n      <td>...</td>\n      <td>Olympus</td>\n      <td>OHM</td>\n      <td>9</td>\n      <td>10.66869</td>\n      <td>2514698283</td>\n      <td>25.992718</td>\n      <td>withdraw</td>\n      <td>2.514698</td>\n      <td>2023-02-14 13:50:59</td>\n      <td>Silo</td>\n    </tr>\n    <tr>\n      <th>2</th>\n      <td>0xa1821732de0a64b8c5f1b4371e115d1a116bf143c8c7...</td>\n      <td>0xa1821732de0a64b8c5f1b4371e115d1a116bf143c8c7...</td>\n      <td>16627397</td>\n      <td>1676382659</td>\n      <td>0xc0b1f200aa9546ce074397bed7438bb2ec033877</td>\n      <td>0xf5ffabab8f9a6f4f6de1f0dd6e0820f68657d7db</td>\n      <td>0xd998c35b7900b344bbbe6555cc11576942cf309d</td>\n      <td>0.000000</td>\n      <td>None</td>\n      <td>BORROWER</td>\n      <td>...</td>\n      <td>Olympus</td>\n      <td>OHM</td>\n      <td>9</td>\n      <td>10.66869</td>\n      <td>2514698283</td>\n      <td>25.992718</td>\n      <td>withdraw</td>\n      <td>2.514698</td>\n      <td>2023-02-14 13:50:59</td>\n      <td>Silo</td>\n    </tr>\n  </tbody>\n</table>\n<p>3 rows × 22 columns</p>\n</div>"
     },
     "execution_count": 606,
     "metadata": {},
     "output_type": "execute_result"
    }
   ],
   "source": [
    "allCollateralWithdrawals = pd.concat([siloWithdrawsDb])\n",
    "allCollateralWithdrawals.head(10)"
   ],
   "metadata": {
    "collapsed": false
   }
  },
  {
   "cell_type": "markdown",
   "source": [
    "****************************************************************************************************************\n",
    "****************************************************************************************************************\n",
    "COMBINE WITHDRAWAL AND DEPOSIT EVENTS"
   ],
   "metadata": {
    "collapsed": false
   }
  },
  {
   "cell_type": "code",
   "execution_count": 607,
   "outputs": [
    {
     "data": {
      "text/plain": "                                    transaction_hash  transaction_timestamp  \\\n0  0x301069fd24dd70d15cdcbebd4f076efe486a82f34724...             1676615723   \n\n                             transaction_from transaction_asset_symbol  \\\n0  0x9b53bed0d62028c0fc5d2006c076cb33e6e6cecd                      OHM   \n\n   transactionReadableAmount  transaction_amountUSD             action  \\\n0                   4.973204              52.678831  depositCollateral   \n\n  protocol  \n0    Euler  ",
      "text/html": "<div>\n<style scoped>\n    .dataframe tbody tr th:only-of-type {\n        vertical-align: middle;\n    }\n\n    .dataframe tbody tr th {\n        vertical-align: top;\n    }\n\n    .dataframe thead th {\n        text-align: right;\n    }\n</style>\n<table border=\"1\" class=\"dataframe\">\n  <thead>\n    <tr style=\"text-align: right;\">\n      <th></th>\n      <th>transaction_hash</th>\n      <th>transaction_timestamp</th>\n      <th>transaction_from</th>\n      <th>transaction_asset_symbol</th>\n      <th>transactionReadableAmount</th>\n      <th>transaction_amountUSD</th>\n      <th>action</th>\n      <th>protocol</th>\n    </tr>\n  </thead>\n  <tbody>\n    <tr>\n      <th>0</th>\n      <td>0x301069fd24dd70d15cdcbebd4f076efe486a82f34724...</td>\n      <td>1676615723</td>\n      <td>0x9b53bed0d62028c0fc5d2006c076cb33e6e6cecd</td>\n      <td>OHM</td>\n      <td>4.973204</td>\n      <td>52.678831</td>\n      <td>depositCollateral</td>\n      <td>Euler</td>\n    </tr>\n  </tbody>\n</table>\n</div>"
     },
     "execution_count": 607,
     "metadata": {},
     "output_type": "execute_result"
    }
   ],
   "source": [
    "ohmDeposited.columns = ohmDeposited.columns.str.replace(\"deposit\", \"transaction\")\n",
    "ohmDeposited.head(1)"
   ],
   "metadata": {
    "collapsed": false
   }
  },
  {
   "cell_type": "code",
   "execution_count": 608,
   "outputs": [
    {
     "data": {
      "text/plain": "                                    transaction_hash  transaction_timestamp  \\\n0  0xa1821732de0a64b8c5f1b4371e115d1a116bf143c8c7...             1676382659   \n\n                             transaction_from transaction_asset_symbol  \\\n0  0xc0b1f200aa9546ce074397bed7438bb2ec033877                      OHM   \n\n   transactionReadableAmount  transaction_amountUSD              action  \\\n0                   2.514698              25.992718  withdrawCollateral   \n\n  protocol  \n0     Silo  ",
      "text/html": "<div>\n<style scoped>\n    .dataframe tbody tr th:only-of-type {\n        vertical-align: middle;\n    }\n\n    .dataframe tbody tr th {\n        vertical-align: top;\n    }\n\n    .dataframe thead th {\n        text-align: right;\n    }\n</style>\n<table border=\"1\" class=\"dataframe\">\n  <thead>\n    <tr style=\"text-align: right;\">\n      <th></th>\n      <th>transaction_hash</th>\n      <th>transaction_timestamp</th>\n      <th>transaction_from</th>\n      <th>transaction_asset_symbol</th>\n      <th>transactionReadableAmount</th>\n      <th>transaction_amountUSD</th>\n      <th>action</th>\n      <th>protocol</th>\n    </tr>\n  </thead>\n  <tbody>\n    <tr>\n      <th>0</th>\n      <td>0xa1821732de0a64b8c5f1b4371e115d1a116bf143c8c7...</td>\n      <td>1676382659</td>\n      <td>0xc0b1f200aa9546ce074397bed7438bb2ec033877</td>\n      <td>OHM</td>\n      <td>2.514698</td>\n      <td>25.992718</td>\n      <td>withdrawCollateral</td>\n      <td>Silo</td>\n    </tr>\n  </tbody>\n</table>\n</div>"
     },
     "execution_count": 608,
     "metadata": {},
     "output_type": "execute_result"
    }
   ],
   "source": [
    "allCollateralWithdrawals = db.query(\"select \"\n",
    "                                    \"transaction_hash \"\n",
    "                                    \",transaction_timestamp \"\n",
    "                                    \", transaction_account_id  transaction_from \"\n",
    "                                    \", transaction_asset_symbol \"\n",
    "                                    \", transactionReadableAmount \"\n",
    "                                    \", transaction_amountUSD \"\n",
    "                                    \", 'withdrawCollateral' as action \"\n",
    "                                    \", protocol \"\n",
    "                                    \"from allCollateralWithdrawals \"\n",
    "                                    \"\").df()\n",
    "allCollateralWithdrawals.head(1)"
   ],
   "metadata": {
    "collapsed": false
   }
  },
  {
   "cell_type": "code",
   "execution_count": 609,
   "outputs": [
    {
     "data": {
      "text/plain": "                                    transaction_hash  transaction_timestamp  \\\n0  0x301069fd24dd70d15cdcbebd4f076efe486a82f34724...             1676615723   \n1  0xa7495eba745bd67279969c1b8687f816e0d83a60bf0c...             1676379695   \n0  0x1c37394aaabc2445a66b61a360cf08ae096b7582e2ed...             1676611691   \n1  0xf9bbcc923182fb6406e97fce0f92c22c87a284d55812...             1676379599   \n2  0x0aa351eb8ff1ca2bd6c4e65229f83c7e5b596d72c889...             1676360171   \n0  0xa1821732de0a64b8c5f1b4371e115d1a116bf143c8c7...             1676382659   \n1  0xa1821732de0a64b8c5f1b4371e115d1a116bf143c8c7...             1676382659   \n2  0xa1821732de0a64b8c5f1b4371e115d1a116bf143c8c7...             1676382659   \n\n                             transaction_from transaction_asset_symbol  \\\n0  0x9b53bed0d62028c0fc5d2006c076cb33e6e6cecd                      OHM   \n1  0x245cc372c84b3645bf0ffe6538620b04a217988b                      OHM   \n0  0x9b53bed0d62028c0fc5d2006c076cb33e6e6cecd                      OHM   \n1  0x245cc372c84b3645bf0ffe6538620b04a217988b                      OHM   \n2  0xc0b1f200aa9546ce074397bed7438bb2ec033877                      OHM   \n0  0xc0b1f200aa9546ce074397bed7438bb2ec033877                      OHM   \n1  0xc0b1f200aa9546ce074397bed7438bb2ec033877                      OHM   \n2  0xc0b1f200aa9546ce074397bed7438bb2ec033877                      OHM   \n\n   transactionReadableAmount  transaction_amountUSD              action  \\\n0                   4.973204              52.678831   depositCollateral   \n1               30000.000000          310089.501811   depositCollateral   \n0                  10.000000             105.925340   depositCollateral   \n1               20000.000000          206726.334541   depositCollateral   \n2                   2.514698              26.317329   depositCollateral   \n0                   2.514698              25.992718  withdrawCollateral   \n1                   2.514698              25.992718  withdrawCollateral   \n2                   2.514698              25.992718  withdrawCollateral   \n\n  protocol            dateTime  \n0    Euler 2023-02-17 06:35:23  \n1    Euler 2023-02-14 13:01:35  \n0     Silo 2023-02-17 05:28:11  \n1     Silo 2023-02-14 12:59:59  \n2     Silo 2023-02-14 07:36:11  \n0     Silo 2023-02-14 13:50:59  \n1     Silo 2023-02-14 13:50:59  \n2     Silo 2023-02-14 13:50:59  ",
      "text/html": "<div>\n<style scoped>\n    .dataframe tbody tr th:only-of-type {\n        vertical-align: middle;\n    }\n\n    .dataframe tbody tr th {\n        vertical-align: top;\n    }\n\n    .dataframe thead th {\n        text-align: right;\n    }\n</style>\n<table border=\"1\" class=\"dataframe\">\n  <thead>\n    <tr style=\"text-align: right;\">\n      <th></th>\n      <th>transaction_hash</th>\n      <th>transaction_timestamp</th>\n      <th>transaction_from</th>\n      <th>transaction_asset_symbol</th>\n      <th>transactionReadableAmount</th>\n      <th>transaction_amountUSD</th>\n      <th>action</th>\n      <th>protocol</th>\n      <th>dateTime</th>\n    </tr>\n  </thead>\n  <tbody>\n    <tr>\n      <th>0</th>\n      <td>0x301069fd24dd70d15cdcbebd4f076efe486a82f34724...</td>\n      <td>1676615723</td>\n      <td>0x9b53bed0d62028c0fc5d2006c076cb33e6e6cecd</td>\n      <td>OHM</td>\n      <td>4.973204</td>\n      <td>52.678831</td>\n      <td>depositCollateral</td>\n      <td>Euler</td>\n      <td>2023-02-17 06:35:23</td>\n    </tr>\n    <tr>\n      <th>1</th>\n      <td>0xa7495eba745bd67279969c1b8687f816e0d83a60bf0c...</td>\n      <td>1676379695</td>\n      <td>0x245cc372c84b3645bf0ffe6538620b04a217988b</td>\n      <td>OHM</td>\n      <td>30000.000000</td>\n      <td>310089.501811</td>\n      <td>depositCollateral</td>\n      <td>Euler</td>\n      <td>2023-02-14 13:01:35</td>\n    </tr>\n    <tr>\n      <th>0</th>\n      <td>0x1c37394aaabc2445a66b61a360cf08ae096b7582e2ed...</td>\n      <td>1676611691</td>\n      <td>0x9b53bed0d62028c0fc5d2006c076cb33e6e6cecd</td>\n      <td>OHM</td>\n      <td>10.000000</td>\n      <td>105.925340</td>\n      <td>depositCollateral</td>\n      <td>Silo</td>\n      <td>2023-02-17 05:28:11</td>\n    </tr>\n    <tr>\n      <th>1</th>\n      <td>0xf9bbcc923182fb6406e97fce0f92c22c87a284d55812...</td>\n      <td>1676379599</td>\n      <td>0x245cc372c84b3645bf0ffe6538620b04a217988b</td>\n      <td>OHM</td>\n      <td>20000.000000</td>\n      <td>206726.334541</td>\n      <td>depositCollateral</td>\n      <td>Silo</td>\n      <td>2023-02-14 12:59:59</td>\n    </tr>\n    <tr>\n      <th>2</th>\n      <td>0x0aa351eb8ff1ca2bd6c4e65229f83c7e5b596d72c889...</td>\n      <td>1676360171</td>\n      <td>0xc0b1f200aa9546ce074397bed7438bb2ec033877</td>\n      <td>OHM</td>\n      <td>2.514698</td>\n      <td>26.317329</td>\n      <td>depositCollateral</td>\n      <td>Silo</td>\n      <td>2023-02-14 07:36:11</td>\n    </tr>\n    <tr>\n      <th>0</th>\n      <td>0xa1821732de0a64b8c5f1b4371e115d1a116bf143c8c7...</td>\n      <td>1676382659</td>\n      <td>0xc0b1f200aa9546ce074397bed7438bb2ec033877</td>\n      <td>OHM</td>\n      <td>2.514698</td>\n      <td>25.992718</td>\n      <td>withdrawCollateral</td>\n      <td>Silo</td>\n      <td>2023-02-14 13:50:59</td>\n    </tr>\n    <tr>\n      <th>1</th>\n      <td>0xa1821732de0a64b8c5f1b4371e115d1a116bf143c8c7...</td>\n      <td>1676382659</td>\n      <td>0xc0b1f200aa9546ce074397bed7438bb2ec033877</td>\n      <td>OHM</td>\n      <td>2.514698</td>\n      <td>25.992718</td>\n      <td>withdrawCollateral</td>\n      <td>Silo</td>\n      <td>2023-02-14 13:50:59</td>\n    </tr>\n    <tr>\n      <th>2</th>\n      <td>0xa1821732de0a64b8c5f1b4371e115d1a116bf143c8c7...</td>\n      <td>1676382659</td>\n      <td>0xc0b1f200aa9546ce074397bed7438bb2ec033877</td>\n      <td>OHM</td>\n      <td>2.514698</td>\n      <td>25.992718</td>\n      <td>withdrawCollateral</td>\n      <td>Silo</td>\n      <td>2023-02-14 13:50:59</td>\n    </tr>\n  </tbody>\n</table>\n</div>"
     },
     "execution_count": 609,
     "metadata": {},
     "output_type": "execute_result"
    }
   ],
   "source": [
    "allOhmBorrowMarketEvents = pd.concat([ohmDeposited,allCollateralWithdrawals])\n",
    "allOhmBorrowMarketEvents['dateTime'] =(pd.to_datetime(allOhmBorrowMarketEvents['transaction_timestamp'],unit='s'))\n",
    "allOhmBorrowMarketEvents.head(100)"
   ],
   "metadata": {
    "collapsed": false
   }
  },
  {
   "cell_type": "markdown",
   "source": [
    "****************************************************************************************************************\n",
    "****************************************************************************************************************\n",
    "COMBINE BORROW EVENTS"
   ],
   "metadata": {
    "collapsed": false
   }
  },
  {
   "cell_type": "code",
   "execution_count": 610,
   "outputs": [
    {
     "data": {
      "text/plain": "     event                                   transaction_hash  \\\n0   borrow  0x264ecb6cc9089ebf8fcb6f8ae5ce26358b15b0551e61...   \n6   borrow  0x6726ea9fa581ab0a5fa26b8a112c95e690500f446c39...   \n12  borrow  0x5fca09aaf64619a5d644ed392a64f5bd08b9e6b4b46e...   \n\n    transaction_blockNumber  transaction_timestamp  \\\n0                  16648400             1676636519   \n6                  16628130             1676391467   \n12                 16627404             1676382743   \n\n                        transaction_account_id  \\\n0   0xcb6e1613029d790c00f89296808f278d6dc25b2f   \n6   0x9b8b04b6f82cd5e1dae58ca3614d445f93defc5c   \n12  0xc0b1f200aa9546ce074397bed7438bb2ec033877   \n\n                         transaction_market_id transaction_asset_name  \\\n0   0xf5ffabab8f9a6f4f6de1f0dd6e0820f68657d7db                Olympus   \n6   0xf5ffabab8f9a6f4f6de1f0dd6e0820f68657d7db                Olympus   \n12  0xf5ffabab8f9a6f4f6de1f0dd6e0820f68657d7db                Olympus   \n\n   transaction_asset_symbol  transactionReadableAmount  \\\n0                       OHM                  58.000000   \n6                       OHM                1480.000000   \n12                      OHM                 175.320428   \n\n    transaction_asset_lastPriceUSD  transaction_amountUSD            dateTime  \\\n0                         10.66869             615.628222 2023-02-17 12:21:59   \n6                         10.66869           15782.938441 2023-02-14 16:17:47   \n12                        10.66869            1812.167469 2023-02-14 13:52:23   \n\n      calDate  \n0  2023-02-17  \n6  2023-02-14  \n12 2023-02-14  ",
      "text/html": "<div>\n<style scoped>\n    .dataframe tbody tr th:only-of-type {\n        vertical-align: middle;\n    }\n\n    .dataframe tbody tr th {\n        vertical-align: top;\n    }\n\n    .dataframe thead th {\n        text-align: right;\n    }\n</style>\n<table border=\"1\" class=\"dataframe\">\n  <thead>\n    <tr style=\"text-align: right;\">\n      <th></th>\n      <th>event</th>\n      <th>transaction_hash</th>\n      <th>transaction_blockNumber</th>\n      <th>transaction_timestamp</th>\n      <th>transaction_account_id</th>\n      <th>transaction_market_id</th>\n      <th>transaction_asset_name</th>\n      <th>transaction_asset_symbol</th>\n      <th>transactionReadableAmount</th>\n      <th>transaction_asset_lastPriceUSD</th>\n      <th>transaction_amountUSD</th>\n      <th>dateTime</th>\n      <th>calDate</th>\n    </tr>\n  </thead>\n  <tbody>\n    <tr>\n      <th>0</th>\n      <td>borrow</td>\n      <td>0x264ecb6cc9089ebf8fcb6f8ae5ce26358b15b0551e61...</td>\n      <td>16648400</td>\n      <td>1676636519</td>\n      <td>0xcb6e1613029d790c00f89296808f278d6dc25b2f</td>\n      <td>0xf5ffabab8f9a6f4f6de1f0dd6e0820f68657d7db</td>\n      <td>Olympus</td>\n      <td>OHM</td>\n      <td>58.000000</td>\n      <td>10.66869</td>\n      <td>615.628222</td>\n      <td>2023-02-17 12:21:59</td>\n      <td>2023-02-17</td>\n    </tr>\n    <tr>\n      <th>6</th>\n      <td>borrow</td>\n      <td>0x6726ea9fa581ab0a5fa26b8a112c95e690500f446c39...</td>\n      <td>16628130</td>\n      <td>1676391467</td>\n      <td>0x9b8b04b6f82cd5e1dae58ca3614d445f93defc5c</td>\n      <td>0xf5ffabab8f9a6f4f6de1f0dd6e0820f68657d7db</td>\n      <td>Olympus</td>\n      <td>OHM</td>\n      <td>1480.000000</td>\n      <td>10.66869</td>\n      <td>15782.938441</td>\n      <td>2023-02-14 16:17:47</td>\n      <td>2023-02-14</td>\n    </tr>\n    <tr>\n      <th>12</th>\n      <td>borrow</td>\n      <td>0x5fca09aaf64619a5d644ed392a64f5bd08b9e6b4b46e...</td>\n      <td>16627404</td>\n      <td>1676382743</td>\n      <td>0xc0b1f200aa9546ce074397bed7438bb2ec033877</td>\n      <td>0xf5ffabab8f9a6f4f6de1f0dd6e0820f68657d7db</td>\n      <td>Olympus</td>\n      <td>OHM</td>\n      <td>175.320428</td>\n      <td>10.66869</td>\n      <td>1812.167469</td>\n      <td>2023-02-14 13:52:23</td>\n      <td>2023-02-14</td>\n    </tr>\n  </tbody>\n</table>\n</div>"
     },
     "execution_count": 610,
     "metadata": {},
     "output_type": "execute_result"
    }
   ],
   "source": [
    "siloBorrowEventsDbTimedClean.head(200)"
   ],
   "metadata": {
    "collapsed": false
   }
  },
  {
   "cell_type": "code",
   "execution_count": 619,
   "outputs": [
    {
     "data": {
      "text/plain": "                                    transaction_hash  transaction_timestamp  \\\n0  0x264ecb6cc9089ebf8fcb6f8ae5ce26358b15b0551e61...             1676636519   \n1  0x6726ea9fa581ab0a5fa26b8a112c95e690500f446c39...             1676391467   \n2  0x5fca09aaf64619a5d644ed392a64f5bd08b9e6b4b46e...             1676382743   \n\n                             transaction_from transaction_asset_symbol  \\\n0  0xcb6e1613029d790c00f89296808f278d6dc25b2f                      OHM   \n1  0x9b8b04b6f82cd5e1dae58ca3614d445f93defc5c                      OHM   \n2  0xc0b1f200aa9546ce074397bed7438bb2ec033877                      OHM   \n\n   transactionReadableAmount  transaction_amountUSD       action protocol  \n0                  58.000000             615.628222  borrowAsset     Silo  \n1                1480.000000           15782.938441  borrowAsset     Silo  \n2                 175.320428            1812.167469  borrowAsset     Silo  ",
      "text/html": "<div>\n<style scoped>\n    .dataframe tbody tr th:only-of-type {\n        vertical-align: middle;\n    }\n\n    .dataframe tbody tr th {\n        vertical-align: top;\n    }\n\n    .dataframe thead th {\n        text-align: right;\n    }\n</style>\n<table border=\"1\" class=\"dataframe\">\n  <thead>\n    <tr style=\"text-align: right;\">\n      <th></th>\n      <th>transaction_hash</th>\n      <th>transaction_timestamp</th>\n      <th>transaction_from</th>\n      <th>transaction_asset_symbol</th>\n      <th>transactionReadableAmount</th>\n      <th>transaction_amountUSD</th>\n      <th>action</th>\n      <th>protocol</th>\n    </tr>\n  </thead>\n  <tbody>\n    <tr>\n      <th>0</th>\n      <td>0x264ecb6cc9089ebf8fcb6f8ae5ce26358b15b0551e61...</td>\n      <td>1676636519</td>\n      <td>0xcb6e1613029d790c00f89296808f278d6dc25b2f</td>\n      <td>OHM</td>\n      <td>58.000000</td>\n      <td>615.628222</td>\n      <td>borrowAsset</td>\n      <td>Silo</td>\n    </tr>\n    <tr>\n      <th>1</th>\n      <td>0x6726ea9fa581ab0a5fa26b8a112c95e690500f446c39...</td>\n      <td>1676391467</td>\n      <td>0x9b8b04b6f82cd5e1dae58ca3614d445f93defc5c</td>\n      <td>OHM</td>\n      <td>1480.000000</td>\n      <td>15782.938441</td>\n      <td>borrowAsset</td>\n      <td>Silo</td>\n    </tr>\n    <tr>\n      <th>2</th>\n      <td>0x5fca09aaf64619a5d644ed392a64f5bd08b9e6b4b46e...</td>\n      <td>1676382743</td>\n      <td>0xc0b1f200aa9546ce074397bed7438bb2ec033877</td>\n      <td>OHM</td>\n      <td>175.320428</td>\n      <td>1812.167469</td>\n      <td>borrowAsset</td>\n      <td>Silo</td>\n    </tr>\n  </tbody>\n</table>\n</div>"
     },
     "execution_count": 619,
     "metadata": {},
     "output_type": "execute_result"
    }
   ],
   "source": [
    "siloBorrowsDbPreMerge = db.query(\n",
    "    \"select distinct\"\n",
    "    \" transaction_hash  \"\n",
    "    \", transaction_timestamp transaction_timestamp \"\n",
    "    \", transaction_account_id transaction_from \"\n",
    "    \", transaction_asset_symbol  \"\n",
    "    \", transactionReadableAmount transactionReadableAmount \"\n",
    "    \", transaction_amountUSD transaction_amountUSD \"\n",
    "    \"from siloBorrowEventsDbTimedClean \"\n",
    ").df()\n",
    "siloBorrowsDbPreMerge['action'] = 'borrowAsset'\n",
    "siloBorrowsDbPreMerge['protocol'] = 'Silo'\n",
    "siloBorrowsDbPreMerge.head(10)\n"
   ],
   "metadata": {
    "collapsed": false
   }
  },
  {
   "cell_type": "markdown",
   "source": [
    "EVENTUALLY THERE WILL BE EULER BORROWS"
   ],
   "metadata": {
    "collapsed": false
   }
  },
  {
   "cell_type": "code",
   "execution_count": 620,
   "outputs": [
    {
     "data": {
      "text/plain": "                                    transaction_hash  transaction_timestamp  \\\n0  0x264ecb6cc9089ebf8fcb6f8ae5ce26358b15b0551e61...             1676636519   \n1  0x6726ea9fa581ab0a5fa26b8a112c95e690500f446c39...             1676391467   \n2  0x5fca09aaf64619a5d644ed392a64f5bd08b9e6b4b46e...             1676382743   \n\n                             transaction_from transaction_asset_symbol  \\\n0  0xcb6e1613029d790c00f89296808f278d6dc25b2f                      OHM   \n1  0x9b8b04b6f82cd5e1dae58ca3614d445f93defc5c                      OHM   \n2  0xc0b1f200aa9546ce074397bed7438bb2ec033877                      OHM   \n\n   transactionReadableAmount  transaction_amountUSD       action protocol  \n0                  58.000000             615.628222  borrowAsset     Silo  \n1                1480.000000           15782.938441  borrowAsset     Silo  \n2                 175.320428            1812.167469  borrowAsset     Silo  ",
      "text/html": "<div>\n<style scoped>\n    .dataframe tbody tr th:only-of-type {\n        vertical-align: middle;\n    }\n\n    .dataframe tbody tr th {\n        vertical-align: top;\n    }\n\n    .dataframe thead th {\n        text-align: right;\n    }\n</style>\n<table border=\"1\" class=\"dataframe\">\n  <thead>\n    <tr style=\"text-align: right;\">\n      <th></th>\n      <th>transaction_hash</th>\n      <th>transaction_timestamp</th>\n      <th>transaction_from</th>\n      <th>transaction_asset_symbol</th>\n      <th>transactionReadableAmount</th>\n      <th>transaction_amountUSD</th>\n      <th>action</th>\n      <th>protocol</th>\n    </tr>\n  </thead>\n  <tbody>\n    <tr>\n      <th>0</th>\n      <td>0x264ecb6cc9089ebf8fcb6f8ae5ce26358b15b0551e61...</td>\n      <td>1676636519</td>\n      <td>0xcb6e1613029d790c00f89296808f278d6dc25b2f</td>\n      <td>OHM</td>\n      <td>58.000000</td>\n      <td>615.628222</td>\n      <td>borrowAsset</td>\n      <td>Silo</td>\n    </tr>\n    <tr>\n      <th>1</th>\n      <td>0x6726ea9fa581ab0a5fa26b8a112c95e690500f446c39...</td>\n      <td>1676391467</td>\n      <td>0x9b8b04b6f82cd5e1dae58ca3614d445f93defc5c</td>\n      <td>OHM</td>\n      <td>1480.000000</td>\n      <td>15782.938441</td>\n      <td>borrowAsset</td>\n      <td>Silo</td>\n    </tr>\n    <tr>\n      <th>2</th>\n      <td>0x5fca09aaf64619a5d644ed392a64f5bd08b9e6b4b46e...</td>\n      <td>1676382743</td>\n      <td>0xc0b1f200aa9546ce074397bed7438bb2ec033877</td>\n      <td>OHM</td>\n      <td>175.320428</td>\n      <td>1812.167469</td>\n      <td>borrowAsset</td>\n      <td>Silo</td>\n    </tr>\n  </tbody>\n</table>\n</div>"
     },
     "execution_count": 620,
     "metadata": {},
     "output_type": "execute_result"
    }
   ],
   "source": [
    "allOhmBorrowEvents = pd.concat([siloBorrowsDbPreMerge])\n",
    "allOhmBorrowEvents.head(10)"
   ],
   "metadata": {
    "collapsed": false
   }
  },
  {
   "cell_type": "code",
   "execution_count": 621,
   "outputs": [
    {
     "data": {
      "text/plain": "                                    transaction_hash  transaction_timestamp  \\\n0  0xa1821732de0a64b8c5f1b4371e115d1a116bf143c8c7...             1676382659   \n1  0xa1821732de0a64b8c5f1b4371e115d1a116bf143c8c7...             1676382659   \n2  0xa1821732de0a64b8c5f1b4371e115d1a116bf143c8c7...             1676382659   \n\n                             transaction_from transaction_asset_symbol  \\\n0  0xc0b1f200aa9546ce074397bed7438bb2ec033877                      OHM   \n1  0xc0b1f200aa9546ce074397bed7438bb2ec033877                      OHM   \n2  0xc0b1f200aa9546ce074397bed7438bb2ec033877                      OHM   \n\n   transactionReadableAmount  transaction_amountUSD              action  \\\n0                   2.514698              25.992718  withdrawCollateral   \n1                   2.514698              25.992718  withdrawCollateral   \n2                   2.514698              25.992718  withdrawCollateral   \n\n  protocol  \n0     Silo  \n1     Silo  \n2     Silo  ",
      "text/html": "<div>\n<style scoped>\n    .dataframe tbody tr th:only-of-type {\n        vertical-align: middle;\n    }\n\n    .dataframe tbody tr th {\n        vertical-align: top;\n    }\n\n    .dataframe thead th {\n        text-align: right;\n    }\n</style>\n<table border=\"1\" class=\"dataframe\">\n  <thead>\n    <tr style=\"text-align: right;\">\n      <th></th>\n      <th>transaction_hash</th>\n      <th>transaction_timestamp</th>\n      <th>transaction_from</th>\n      <th>transaction_asset_symbol</th>\n      <th>transactionReadableAmount</th>\n      <th>transaction_amountUSD</th>\n      <th>action</th>\n      <th>protocol</th>\n    </tr>\n  </thead>\n  <tbody>\n    <tr>\n      <th>0</th>\n      <td>0xa1821732de0a64b8c5f1b4371e115d1a116bf143c8c7...</td>\n      <td>1676382659</td>\n      <td>0xc0b1f200aa9546ce074397bed7438bb2ec033877</td>\n      <td>OHM</td>\n      <td>2.514698</td>\n      <td>25.992718</td>\n      <td>withdrawCollateral</td>\n      <td>Silo</td>\n    </tr>\n    <tr>\n      <th>1</th>\n      <td>0xa1821732de0a64b8c5f1b4371e115d1a116bf143c8c7...</td>\n      <td>1676382659</td>\n      <td>0xc0b1f200aa9546ce074397bed7438bb2ec033877</td>\n      <td>OHM</td>\n      <td>2.514698</td>\n      <td>25.992718</td>\n      <td>withdrawCollateral</td>\n      <td>Silo</td>\n    </tr>\n    <tr>\n      <th>2</th>\n      <td>0xa1821732de0a64b8c5f1b4371e115d1a116bf143c8c7...</td>\n      <td>1676382659</td>\n      <td>0xc0b1f200aa9546ce074397bed7438bb2ec033877</td>\n      <td>OHM</td>\n      <td>2.514698</td>\n      <td>25.992718</td>\n      <td>withdrawCollateral</td>\n      <td>Silo</td>\n    </tr>\n  </tbody>\n</table>\n</div>"
     },
     "execution_count": 621,
     "metadata": {},
     "output_type": "execute_result"
    }
   ],
   "source": [
    "allCollateralWithdrawals.head(10)"
   ],
   "metadata": {
    "collapsed": false
   }
  },
  {
   "cell_type": "code",
   "execution_count": 622,
   "outputs": [
    {
     "data": {
      "text/plain": "                                    transaction_hash  transaction_timestamp  \\\n0  0x301069fd24dd70d15cdcbebd4f076efe486a82f34724...             1676615723   \n1  0xa7495eba745bd67279969c1b8687f816e0d83a60bf0c...             1676379695   \n0  0x1c37394aaabc2445a66b61a360cf08ae096b7582e2ed...             1676611691   \n1  0xf9bbcc923182fb6406e97fce0f92c22c87a284d55812...             1676379599   \n2  0x0aa351eb8ff1ca2bd6c4e65229f83c7e5b596d72c889...             1676360171   \n\n                             transaction_from transaction_asset_symbol  \\\n0  0x9b53bed0d62028c0fc5d2006c076cb33e6e6cecd                      OHM   \n1  0x245cc372c84b3645bf0ffe6538620b04a217988b                      OHM   \n0  0x9b53bed0d62028c0fc5d2006c076cb33e6e6cecd                      OHM   \n1  0x245cc372c84b3645bf0ffe6538620b04a217988b                      OHM   \n2  0xc0b1f200aa9546ce074397bed7438bb2ec033877                      OHM   \n\n   transactionReadableAmount  transaction_amountUSD             action  \\\n0                   4.973204              52.678831  depositCollateral   \n1               30000.000000          310089.501811  depositCollateral   \n0                  10.000000             105.925340  depositCollateral   \n1               20000.000000          206726.334541  depositCollateral   \n2                   2.514698              26.317329  depositCollateral   \n\n  protocol  \n0    Euler  \n1    Euler  \n0     Silo  \n1     Silo  \n2     Silo  ",
      "text/html": "<div>\n<style scoped>\n    .dataframe tbody tr th:only-of-type {\n        vertical-align: middle;\n    }\n\n    .dataframe tbody tr th {\n        vertical-align: top;\n    }\n\n    .dataframe thead th {\n        text-align: right;\n    }\n</style>\n<table border=\"1\" class=\"dataframe\">\n  <thead>\n    <tr style=\"text-align: right;\">\n      <th></th>\n      <th>transaction_hash</th>\n      <th>transaction_timestamp</th>\n      <th>transaction_from</th>\n      <th>transaction_asset_symbol</th>\n      <th>transactionReadableAmount</th>\n      <th>transaction_amountUSD</th>\n      <th>action</th>\n      <th>protocol</th>\n    </tr>\n  </thead>\n  <tbody>\n    <tr>\n      <th>0</th>\n      <td>0x301069fd24dd70d15cdcbebd4f076efe486a82f34724...</td>\n      <td>1676615723</td>\n      <td>0x9b53bed0d62028c0fc5d2006c076cb33e6e6cecd</td>\n      <td>OHM</td>\n      <td>4.973204</td>\n      <td>52.678831</td>\n      <td>depositCollateral</td>\n      <td>Euler</td>\n    </tr>\n    <tr>\n      <th>1</th>\n      <td>0xa7495eba745bd67279969c1b8687f816e0d83a60bf0c...</td>\n      <td>1676379695</td>\n      <td>0x245cc372c84b3645bf0ffe6538620b04a217988b</td>\n      <td>OHM</td>\n      <td>30000.000000</td>\n      <td>310089.501811</td>\n      <td>depositCollateral</td>\n      <td>Euler</td>\n    </tr>\n    <tr>\n      <th>0</th>\n      <td>0x1c37394aaabc2445a66b61a360cf08ae096b7582e2ed...</td>\n      <td>1676611691</td>\n      <td>0x9b53bed0d62028c0fc5d2006c076cb33e6e6cecd</td>\n      <td>OHM</td>\n      <td>10.000000</td>\n      <td>105.925340</td>\n      <td>depositCollateral</td>\n      <td>Silo</td>\n    </tr>\n    <tr>\n      <th>1</th>\n      <td>0xf9bbcc923182fb6406e97fce0f92c22c87a284d55812...</td>\n      <td>1676379599</td>\n      <td>0x245cc372c84b3645bf0ffe6538620b04a217988b</td>\n      <td>OHM</td>\n      <td>20000.000000</td>\n      <td>206726.334541</td>\n      <td>depositCollateral</td>\n      <td>Silo</td>\n    </tr>\n    <tr>\n      <th>2</th>\n      <td>0x0aa351eb8ff1ca2bd6c4e65229f83c7e5b596d72c889...</td>\n      <td>1676360171</td>\n      <td>0xc0b1f200aa9546ce074397bed7438bb2ec033877</td>\n      <td>OHM</td>\n      <td>2.514698</td>\n      <td>26.317329</td>\n      <td>depositCollateral</td>\n      <td>Silo</td>\n    </tr>\n  </tbody>\n</table>\n</div>"
     },
     "execution_count": 622,
     "metadata": {},
     "output_type": "execute_result"
    }
   ],
   "source": [
    "ohmDeposited.head(10)"
   ],
   "metadata": {
    "collapsed": false
   }
  },
  {
   "cell_type": "code",
   "execution_count": 623,
   "outputs": [
    {
     "data": {
      "text/plain": "                                    transaction_hash  transaction_timestamp  \\\n0  0x301069fd24dd70d15cdcbebd4f076efe486a82f34724...             1676615723   \n1  0xa7495eba745bd67279969c1b8687f816e0d83a60bf0c...             1676379695   \n0  0x1c37394aaabc2445a66b61a360cf08ae096b7582e2ed...             1676611691   \n1  0xf9bbcc923182fb6406e97fce0f92c22c87a284d55812...             1676379599   \n2  0x0aa351eb8ff1ca2bd6c4e65229f83c7e5b596d72c889...             1676360171   \n0  0xa1821732de0a64b8c5f1b4371e115d1a116bf143c8c7...             1676382659   \n1  0xa1821732de0a64b8c5f1b4371e115d1a116bf143c8c7...             1676382659   \n2  0xa1821732de0a64b8c5f1b4371e115d1a116bf143c8c7...             1676382659   \n0  0x264ecb6cc9089ebf8fcb6f8ae5ce26358b15b0551e61...             1676636519   \n1  0x6726ea9fa581ab0a5fa26b8a112c95e690500f446c39...             1676391467   \n2  0x5fca09aaf64619a5d644ed392a64f5bd08b9e6b4b46e...             1676382743   \n\n                             transaction_from transaction_asset_symbol  \\\n0  0x9b53bed0d62028c0fc5d2006c076cb33e6e6cecd                      OHM   \n1  0x245cc372c84b3645bf0ffe6538620b04a217988b                      OHM   \n0  0x9b53bed0d62028c0fc5d2006c076cb33e6e6cecd                      OHM   \n1  0x245cc372c84b3645bf0ffe6538620b04a217988b                      OHM   \n2  0xc0b1f200aa9546ce074397bed7438bb2ec033877                      OHM   \n0  0xc0b1f200aa9546ce074397bed7438bb2ec033877                      OHM   \n1  0xc0b1f200aa9546ce074397bed7438bb2ec033877                      OHM   \n2  0xc0b1f200aa9546ce074397bed7438bb2ec033877                      OHM   \n0  0xcb6e1613029d790c00f89296808f278d6dc25b2f                      OHM   \n1  0x9b8b04b6f82cd5e1dae58ca3614d445f93defc5c                      OHM   \n2  0xc0b1f200aa9546ce074397bed7438bb2ec033877                      OHM   \n\n   transactionReadableAmount  transaction_amountUSD              action  \\\n0                   4.973204              52.678831   depositCollateral   \n1               30000.000000          310089.501811   depositCollateral   \n0                  10.000000             105.925340   depositCollateral   \n1               20000.000000          206726.334541   depositCollateral   \n2                   2.514698              26.317329   depositCollateral   \n0                   2.514698              25.992718  withdrawCollateral   \n1                   2.514698              25.992718  withdrawCollateral   \n2                   2.514698              25.992718  withdrawCollateral   \n0                  58.000000             615.628222         borrowAsset   \n1                1480.000000           15782.938441         borrowAsset   \n2                 175.320428            1812.167469         borrowAsset   \n\n  protocol            dateTime  \n0    Euler 2023-02-17 06:35:23  \n1    Euler 2023-02-14 13:01:35  \n0     Silo 2023-02-17 05:28:11  \n1     Silo 2023-02-14 12:59:59  \n2     Silo 2023-02-14 07:36:11  \n0     Silo 2023-02-14 13:50:59  \n1     Silo 2023-02-14 13:50:59  \n2     Silo 2023-02-14 13:50:59  \n0     Silo 2023-02-17 12:21:59  \n1     Silo 2023-02-14 16:17:47  \n2     Silo 2023-02-14 13:52:23  ",
      "text/html": "<div>\n<style scoped>\n    .dataframe tbody tr th:only-of-type {\n        vertical-align: middle;\n    }\n\n    .dataframe tbody tr th {\n        vertical-align: top;\n    }\n\n    .dataframe thead th {\n        text-align: right;\n    }\n</style>\n<table border=\"1\" class=\"dataframe\">\n  <thead>\n    <tr style=\"text-align: right;\">\n      <th></th>\n      <th>transaction_hash</th>\n      <th>transaction_timestamp</th>\n      <th>transaction_from</th>\n      <th>transaction_asset_symbol</th>\n      <th>transactionReadableAmount</th>\n      <th>transaction_amountUSD</th>\n      <th>action</th>\n      <th>protocol</th>\n      <th>dateTime</th>\n    </tr>\n  </thead>\n  <tbody>\n    <tr>\n      <th>0</th>\n      <td>0x301069fd24dd70d15cdcbebd4f076efe486a82f34724...</td>\n      <td>1676615723</td>\n      <td>0x9b53bed0d62028c0fc5d2006c076cb33e6e6cecd</td>\n      <td>OHM</td>\n      <td>4.973204</td>\n      <td>52.678831</td>\n      <td>depositCollateral</td>\n      <td>Euler</td>\n      <td>2023-02-17 06:35:23</td>\n    </tr>\n    <tr>\n      <th>1</th>\n      <td>0xa7495eba745bd67279969c1b8687f816e0d83a60bf0c...</td>\n      <td>1676379695</td>\n      <td>0x245cc372c84b3645bf0ffe6538620b04a217988b</td>\n      <td>OHM</td>\n      <td>30000.000000</td>\n      <td>310089.501811</td>\n      <td>depositCollateral</td>\n      <td>Euler</td>\n      <td>2023-02-14 13:01:35</td>\n    </tr>\n    <tr>\n      <th>0</th>\n      <td>0x1c37394aaabc2445a66b61a360cf08ae096b7582e2ed...</td>\n      <td>1676611691</td>\n      <td>0x9b53bed0d62028c0fc5d2006c076cb33e6e6cecd</td>\n      <td>OHM</td>\n      <td>10.000000</td>\n      <td>105.925340</td>\n      <td>depositCollateral</td>\n      <td>Silo</td>\n      <td>2023-02-17 05:28:11</td>\n    </tr>\n    <tr>\n      <th>1</th>\n      <td>0xf9bbcc923182fb6406e97fce0f92c22c87a284d55812...</td>\n      <td>1676379599</td>\n      <td>0x245cc372c84b3645bf0ffe6538620b04a217988b</td>\n      <td>OHM</td>\n      <td>20000.000000</td>\n      <td>206726.334541</td>\n      <td>depositCollateral</td>\n      <td>Silo</td>\n      <td>2023-02-14 12:59:59</td>\n    </tr>\n    <tr>\n      <th>2</th>\n      <td>0x0aa351eb8ff1ca2bd6c4e65229f83c7e5b596d72c889...</td>\n      <td>1676360171</td>\n      <td>0xc0b1f200aa9546ce074397bed7438bb2ec033877</td>\n      <td>OHM</td>\n      <td>2.514698</td>\n      <td>26.317329</td>\n      <td>depositCollateral</td>\n      <td>Silo</td>\n      <td>2023-02-14 07:36:11</td>\n    </tr>\n    <tr>\n      <th>0</th>\n      <td>0xa1821732de0a64b8c5f1b4371e115d1a116bf143c8c7...</td>\n      <td>1676382659</td>\n      <td>0xc0b1f200aa9546ce074397bed7438bb2ec033877</td>\n      <td>OHM</td>\n      <td>2.514698</td>\n      <td>25.992718</td>\n      <td>withdrawCollateral</td>\n      <td>Silo</td>\n      <td>2023-02-14 13:50:59</td>\n    </tr>\n    <tr>\n      <th>1</th>\n      <td>0xa1821732de0a64b8c5f1b4371e115d1a116bf143c8c7...</td>\n      <td>1676382659</td>\n      <td>0xc0b1f200aa9546ce074397bed7438bb2ec033877</td>\n      <td>OHM</td>\n      <td>2.514698</td>\n      <td>25.992718</td>\n      <td>withdrawCollateral</td>\n      <td>Silo</td>\n      <td>2023-02-14 13:50:59</td>\n    </tr>\n    <tr>\n      <th>2</th>\n      <td>0xa1821732de0a64b8c5f1b4371e115d1a116bf143c8c7...</td>\n      <td>1676382659</td>\n      <td>0xc0b1f200aa9546ce074397bed7438bb2ec033877</td>\n      <td>OHM</td>\n      <td>2.514698</td>\n      <td>25.992718</td>\n      <td>withdrawCollateral</td>\n      <td>Silo</td>\n      <td>2023-02-14 13:50:59</td>\n    </tr>\n    <tr>\n      <th>0</th>\n      <td>0x264ecb6cc9089ebf8fcb6f8ae5ce26358b15b0551e61...</td>\n      <td>1676636519</td>\n      <td>0xcb6e1613029d790c00f89296808f278d6dc25b2f</td>\n      <td>OHM</td>\n      <td>58.000000</td>\n      <td>615.628222</td>\n      <td>borrowAsset</td>\n      <td>Silo</td>\n      <td>2023-02-17 12:21:59</td>\n    </tr>\n    <tr>\n      <th>1</th>\n      <td>0x6726ea9fa581ab0a5fa26b8a112c95e690500f446c39...</td>\n      <td>1676391467</td>\n      <td>0x9b8b04b6f82cd5e1dae58ca3614d445f93defc5c</td>\n      <td>OHM</td>\n      <td>1480.000000</td>\n      <td>15782.938441</td>\n      <td>borrowAsset</td>\n      <td>Silo</td>\n      <td>2023-02-14 16:17:47</td>\n    </tr>\n    <tr>\n      <th>2</th>\n      <td>0x5fca09aaf64619a5d644ed392a64f5bd08b9e6b4b46e...</td>\n      <td>1676382743</td>\n      <td>0xc0b1f200aa9546ce074397bed7438bb2ec033877</td>\n      <td>OHM</td>\n      <td>175.320428</td>\n      <td>1812.167469</td>\n      <td>borrowAsset</td>\n      <td>Silo</td>\n      <td>2023-02-14 13:52:23</td>\n    </tr>\n  </tbody>\n</table>\n</div>"
     },
     "execution_count": 623,
     "metadata": {},
     "output_type": "execute_result"
    }
   ],
   "source": [
    "allOhmBorrowMarketEvents = pd.DataFrame()\n",
    "allOhmBorrowMarketEvents = pd.concat([ohmDeposited,allCollateralWithdrawals,allOhmBorrowEvents])\n",
    "allOhmBorrowMarketEvents['dateTime'] =(pd.to_datetime(allOhmBorrowMarketEvents['transaction_timestamp'],unit='s'))\n",
    "allOhmBorrowMarketEvents.head(1000)"
   ],
   "metadata": {
    "collapsed": false
   }
  },
  {
   "cell_type": "code",
   "execution_count": 624,
   "outputs": [
    {
     "name": "stdout",
     "output_type": "stream",
     "text": [
      "D:\\Dropbox\\Documents\\Edgecaser LLC\\Projects\\Olympus\\Econohmetrics\\ohmBorrowing/data/allOhmBorrowMarketEvents_piped.csv file saved, 5  records\n"
     ]
    }
   ],
   "source": [
    "path =file+'/allOhmBorrowMarketEvents.csv'\n",
    "allOhmBorrowMarketEvents.to_csv(path, index = False)\n",
    "\n",
    "path =file+'/allOhmBorrowMarketEvents_piped.csv'\n",
    "allOhmBorrowMarketEvents.to_csv(path, index = False, sep='|')\n",
    "print(path, 'file saved,', len(ohmDeposits),' records')"
   ],
   "metadata": {
    "collapsed": false
   }
  },
  {
   "cell_type": "code",
   "execution_count": 625,
   "outputs": [
    {
     "data": {
      "text/plain": "  protocol  collateralBalance  totalBorrowedOhm\n0     Silo       20010.000000       1713.320428\n1    Euler       30004.973204          0.000000",
      "text/html": "<div>\n<style scoped>\n    .dataframe tbody tr th:only-of-type {\n        vertical-align: middle;\n    }\n\n    .dataframe tbody tr th {\n        vertical-align: top;\n    }\n\n    .dataframe thead th {\n        text-align: right;\n    }\n</style>\n<table border=\"1\" class=\"dataframe\">\n  <thead>\n    <tr style=\"text-align: right;\">\n      <th></th>\n      <th>protocol</th>\n      <th>collateralBalance</th>\n      <th>totalBorrowedOhm</th>\n    </tr>\n  </thead>\n  <tbody>\n    <tr>\n      <th>0</th>\n      <td>Silo</td>\n      <td>20010.000000</td>\n      <td>1713.320428</td>\n    </tr>\n    <tr>\n      <th>1</th>\n      <td>Euler</td>\n      <td>30004.973204</td>\n      <td>0.000000</td>\n    </tr>\n  </tbody>\n</table>\n</div>"
     },
     "execution_count": 625,
     "metadata": {},
     "output_type": "execute_result"
    }
   ],
   "source": [
    "ohmBorrowMarketLevels = pd.DataFrame({\n",
    "    'protocol':['Silo','Euler'],\n",
    "    'collateralBalance':[collateralBalance,totalDepositedEuler],\n",
    "    'totalBorrowedOhm':[totalBorrowedOHM,0]\n",
    "})\n",
    "ohmBorrowMarketLevels.head(10)"
   ],
   "metadata": {
    "collapsed": false
   }
  },
  {
   "cell_type": "code",
   "execution_count": 626,
   "outputs": [
    {
     "name": "stdout",
     "output_type": "stream",
     "text": [
      "D:\\Dropbox\\Documents\\Edgecaser LLC\\Projects\\Olympus\\Econohmetrics\\ohmBorrowing/data/ohmBorrowMarketLevels_piped.csv file saved, 2  records\n"
     ]
    }
   ],
   "source": [
    "path =file+'/ohmBorrowMarketLevels.csv'\n",
    "ohmBorrowMarketLevels.to_csv(path, index = False)\n",
    "\n",
    "path =file+'/ohmBorrowMarketLevels_piped.csv'\n",
    "ohmBorrowMarketLevels.to_csv(path, index = False, sep='|')\n",
    "print(path, 'file saved,', len(ohmBorrowMarketLevels),' records')"
   ],
   "metadata": {
    "collapsed": false
   }
  }
 ],
 "metadata": {
  "kernelspec": {
   "display_name": "Python 3",
   "language": "python",
   "name": "python3"
  },
  "language_info": {
   "codemirror_mode": {
    "name": "ipython",
    "version": 2
   },
   "file_extension": ".py",
   "mimetype": "text/x-python",
   "name": "python",
   "nbconvert_exporter": "python",
   "pygments_lexer": "ipython2",
   "version": "2.7.6"
  }
 },
 "nbformat": 4,
 "nbformat_minor": 0
}
