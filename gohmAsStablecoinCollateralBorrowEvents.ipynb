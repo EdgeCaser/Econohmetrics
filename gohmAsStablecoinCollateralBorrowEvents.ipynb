{
 "cells": [
  {
   "cell_type": "code",
   "execution_count": 1,
   "metadata": {
    "collapsed": true
   },
   "outputs": [],
   "source": [
    "from datetime import datetime\n",
    "import datetime as dt\n",
    "import time\n",
    "from subgrounds.subgraph import SyntheticField, FieldPath\n",
    "from subgrounds.subgrounds import Subgrounds\n",
    "import pandas as pd\n",
    "import duckdb as db\n",
    "import seaborn as sns\n",
    "import matplotlib.pyplot as plt\n",
    "import IPython as ip\n",
    "import  os as os"
   ]
  },
  {
   "cell_type": "code",
   "execution_count": 2,
   "outputs": [],
   "source": [
    "sg = Subgrounds()\n",
    "apiKey = input('API Key, please')"
   ],
   "metadata": {
    "collapsed": false
   }
  },
  {
   "cell_type": "code",
   "execution_count": 429,
   "outputs": [],
   "source": [
    "#for when we save the files\n",
    "file = input('Selet a folder to save output') ##enter your file path here - the file is in the repo \"summary_stats.csv\".\n",
    "file = file+'/data'\n",
    "if not os.path.exists(file):\n",
    "    os.makedirs(file)"
   ],
   "metadata": {
    "collapsed": false
   }
  },
  {
   "cell_type": "markdown",
   "source": [
    "*******************************************************************\n",
    "*******************************************************************\n",
    "LET'S LOOK AT SILO BORROWS FIRST"
   ],
   "metadata": {
    "collapsed": false
   }
  },
  {
   "cell_type": "code",
   "execution_count": 640,
   "outputs": [],
   "source": [
    "#SILO subgraph: https://gateway.thegraph.com/api/[api-key]/subgraphs/id/6rcT2GzBXGoi3ZMus92LHajM2b9qWGj7Z3dDhPxoUogB\n",
    "silo = sg.load_api('https://gateway.thegraph.com/api/'+apiKey+'/subgraphs/id/6rcT2GzBXGoi3ZMus92LHajM2b9qWGj7Z3dDhPxoUogB')"
   ],
   "metadata": {
    "collapsed": false
   }
  },
  {
   "cell_type": "markdown",
   "source": [
    "##this captures the list of people who borrowed XAI against gOHM\n",
    "borrows = silo.Query.borrows(\n",
    "    orderBy='timestamp',\n",
    "    orderDirection='desc',\n",
    "    first=1000,\n",
    "    #skip = skipValue,\n",
    "    where={ 'market': '0xc413dd03555f3eb29d834b482d386b2999dc2eb0' }\n",
    "\n",
    ")\n",
    "\n",
    "borrowsDb = sg.query_df([\n",
    "    borrows.id\n",
    "    ,borrows.hash\n",
    "    ,borrows.logIndex\n",
    "    ,borrows.blockNumber\n",
    "    ,borrows.timestamp\n",
    "    ,borrows.account\n",
    "    ,borrows.market\n",
    "    ,borrows.market.rates\n",
    "    ,borrows.asset\n",
    "    ,borrows.amount\n",
    "    ,borrows.amountUSD \n",
    "])\n",
    "borrowsDb.head(100)"
   ],
   "metadata": {
    "collapsed": false
   }
  },
  {
   "cell_type": "markdown",
   "source": [
    "#this, in turn, pulls repayment events\n",
    "repays = silo.Query.repays(\n",
    "    orderBy='timestamp',\n",
    "    orderDirection='desc',\n",
    "    first=1000,\n",
    "    #skip = skipValue,\n",
    "    where={ 'market': '0xc413dd03555f3eb29d834b482d386b2999dc2eb0' }\n",
    "\n",
    ")\n",
    "\n",
    "repaysDb = sg.query_df([\n",
    "    repays.id\n",
    "    ,repays.hash\n",
    "    ,repays.logIndex\n",
    "    ,repays.blockNumber\n",
    "    ,repays.timestamp\n",
    "    ,repays.account\n",
    "    ,repays.market\n",
    "    ,repays.market.rates\n",
    "    ,repays.asset\n",
    "    ,repays.amount\n",
    "    ,repays.amountUSD\n",
    "    ,repays.position\n",
    "])\n",
    "repaysDb.head(100)"
   ],
   "metadata": {
    "collapsed": false
   }
  },
  {
   "cell_type": "code",
   "execution_count": 719,
   "outputs": [
    {
     "data": {
      "text/plain": "     event                                   transaction_hash  \\\n0   borrow  0x66fe10ed6dcb8b83bdb5b0c46cd321060734b9063bd5...   \n1   borrow  0xd9329978828295f4f091eaa77a6d8c388c5616bbe92c...   \n2   borrow  0x3b0f26e10c63a71c916e8a68bd1889d9bab38aeb62d7...   \n3   borrow  0xfa292276fc71f90e29ca90a7b8a2be9a4094f459fb99...   \n4   borrow  0xd5dc7147192591c7d19856d12e9278928932a5921653...   \n5   borrow  0x39c11cb01e34d9f8ca55a8820482eaf8a217033cdb6f...   \n6   borrow  0xf1d5b9c7f23bd9935061e4d08734cbfba9b9a53bacd5...   \n7   borrow  0x97811f7e7b7d202797093d44047ed986054be3dd6120...   \n8   borrow  0x3dba2dd3c913b399164efd71db73121c9c94c0096139...   \n9   borrow  0xbcfc05398a874e98a80e823ffb016c119b06c7b07a7c...   \n10  borrow  0x16f2ff52f7a9e9057848569ea37c3e59eb558af0e044...   \n11  borrow  0x2c0d9ab92c0eef11fa3394b4a89a62c7ee27bd5b64a1...   \n12  borrow  0x9acb7bcb3e826a231f0cb2e55f4d2ea70d7ff8cbe18a...   \n13  borrow  0x045f19530c6f8c0b6eca525f3921e207938e841b3670...   \n14  borrow  0x072c04ee8776ea91e8c1003bad2d401e3ac90d0ab2fc...   \n15  borrow  0x38ce8e39e188c85ba03a340cdde95c2e1d56b54161e6...   \n16  borrow  0x4fa0cb2fdde04b90f07602351b260aa5202562c7b701...   \n17  borrow  0xb38cef69963653bc8f3e04720bd0d3f3df6e6e9ede13...   \n18  borrow  0x30c76353a03ffe6931799da8b7439b1fcb02c3952f54...   \n19  borrow  0xe034b0dedaea9ad1f849d5420228106937d816b89b3a...   \n20  borrow  0xc629960194d24bb2e3aaf7a91b2cf4f547703cd7ed68...   \n21  borrow  0xbfc6df3a770233f4e0fbd6fe0cf8f6fa02f1432c570f...   \n22  borrow  0x2485acd5a3853dc50921a27ea5bf8227871425cca3e4...   \n23  borrow  0x17fedebf20b120a55b895f96e2b466f2bbdcceb2b542...   \n24  borrow  0x1aac54ba339ee99c2b3c69cbde905f3ddc7832ffd946...   \n25  borrow  0x83addaa30259315b10869fa8653a468eb1cc82a43f57...   \n\n    transaction_blockNumber  transaction_timestamp  \\\n0                  16651434             1676673563   \n1                  16644592             1676590307   \n2                  16641746             1676556011   \n3                  16634870             1676472911   \n4                  16627480             1676383655   \n5                  16626801             1676375459   \n6                  16626396             1676370563   \n7                  16623063             1676330255   \n8                  16622907             1676328371   \n9                  16619977             1676292983   \n10                 16589389             1675923839   \n11                 16588637             1675914791   \n12                 16585909             1675881839   \n13                 16580114             1675811711   \n14                 16579820             1675808183   \n15                 16579819             1675808171   \n16                 16574830             1675747799   \n17                 16573202             1675728155   \n18                 16533360             1675247171   \n19                 16505284             1674908519   \n20                 16204982             1671286919   \n21                 16173505             1670906999   \n22                 16171818             1670886647   \n23                 16171351             1670881019   \n24                 16036018             1669246811   \n25                 16034628             1669229867   \n\n                        transaction_account_id  \\\n0   0xd33e76d21d32c21811593ae54e38f68df0cfe8ed   \n1   0x96035b45bc0d22f0ed11283a91145fb001c48370   \n2   0xee95e4cf086fc80df7ae0f39dfc9ea53a3eaadcb   \n3   0x16ff8ad104fa6195260a6d4a3f311c5f120df77d   \n4   0xc0b1f200aa9546ce074397bed7438bb2ec033877   \n5   0x16ff8ad104fa6195260a6d4a3f311c5f120df77d   \n6   0x339fd7c17ce670e7821f2f2ee94ddd49771483da   \n7   0xc0b1f200aa9546ce074397bed7438bb2ec033877   \n8   0x46535cbc3fa574c32ea392d4f89c518290597072   \n9   0xc0b1f200aa9546ce074397bed7438bb2ec033877   \n10  0xb0399dac8f4d4100b49b2a7b3873481114229d18   \n11  0x804157889ac56a4e50278610c67960c1605a3264   \n12  0xfe9d1bd54e344dc8c4bd93e7935e39af452e5d41   \n13  0xb86cd2efc1f461beee8deec2c3f053ccb2781ef9   \n14  0x0493bcca897a2248ae3cd4c66aea90dbfc7e13c6   \n15  0x96035b45bc0d22f0ed11283a91145fb001c48370   \n16  0x6487d336bdec94d4714a4d217b15aa5c7b9dfa99   \n17  0x36125234dd6c7d0a01dcadc67e79e061d405098e   \n18  0x339fd7c17ce670e7821f2f2ee94ddd49771483da   \n19  0x42daeb9ca091e3933c8ee93c029701b926b1f336   \n20  0x44504ba8d43b30e882503948654e247b928bcc7f   \n21  0x339fd7c17ce670e7821f2f2ee94ddd49771483da   \n22  0x1ba67f30e25fc43863b50047d7fd4bd63b9c59ec   \n23  0x3985caf03eef8f885edb1f8358143bdf08d8d48b   \n24  0xd3064611b24eba7a6dbcbc26c1b35dfee1170880   \n25  0x7776421dd146dfd6ea947cbf29b69c519807d259   \n\n                         transaction_market_id transaction_asset_name  \\\n0   0xc413dd03555f3eb29d834b482d386b2999dc2eb0         XAI Stablecoin   \n1   0xc413dd03555f3eb29d834b482d386b2999dc2eb0          Wrapped Ether   \n2   0xc413dd03555f3eb29d834b482d386b2999dc2eb0         XAI Stablecoin   \n3   0xc413dd03555f3eb29d834b482d386b2999dc2eb0         XAI Stablecoin   \n4   0xc413dd03555f3eb29d834b482d386b2999dc2eb0         XAI Stablecoin   \n5   0xc413dd03555f3eb29d834b482d386b2999dc2eb0          Wrapped Ether   \n6   0xc413dd03555f3eb29d834b482d386b2999dc2eb0         XAI Stablecoin   \n7   0xc413dd03555f3eb29d834b482d386b2999dc2eb0         XAI Stablecoin   \n8   0xc413dd03555f3eb29d834b482d386b2999dc2eb0         Governance OHM   \n9   0xc413dd03555f3eb29d834b482d386b2999dc2eb0         XAI Stablecoin   \n10  0xc413dd03555f3eb29d834b482d386b2999dc2eb0         XAI Stablecoin   \n11  0xc413dd03555f3eb29d834b482d386b2999dc2eb0         XAI Stablecoin   \n12  0xc413dd03555f3eb29d834b482d386b2999dc2eb0         XAI Stablecoin   \n13  0xc413dd03555f3eb29d834b482d386b2999dc2eb0         XAI Stablecoin   \n14  0xc413dd03555f3eb29d834b482d386b2999dc2eb0         XAI Stablecoin   \n15  0xc413dd03555f3eb29d834b482d386b2999dc2eb0         XAI Stablecoin   \n16  0xc413dd03555f3eb29d834b482d386b2999dc2eb0         XAI Stablecoin   \n17  0xc413dd03555f3eb29d834b482d386b2999dc2eb0         XAI Stablecoin   \n18  0xc413dd03555f3eb29d834b482d386b2999dc2eb0         XAI Stablecoin   \n19  0xc413dd03555f3eb29d834b482d386b2999dc2eb0         XAI Stablecoin   \n20  0xc413dd03555f3eb29d834b482d386b2999dc2eb0         XAI Stablecoin   \n21  0xc413dd03555f3eb29d834b482d386b2999dc2eb0         XAI Stablecoin   \n22  0xc413dd03555f3eb29d834b482d386b2999dc2eb0         XAI Stablecoin   \n23  0xc413dd03555f3eb29d834b482d386b2999dc2eb0         XAI Stablecoin   \n24  0xc413dd03555f3eb29d834b482d386b2999dc2eb0         XAI Stablecoin   \n25  0xc413dd03555f3eb29d834b482d386b2999dc2eb0         Governance OHM   \n\n   transaction_asset_symbol  transactionReadableAmount  \\\n0                       XAI               60500.000000   \n1                      WETH                   0.600000   \n2                       XAI              100000.000000   \n3                       XAI                3000.000000   \n4                       XAI                1000.000000   \n5                      WETH                   1.920000   \n6                       XAI                4000.000000   \n7                       XAI                2457.516074   \n8                      gOHM                  26.400000   \n9                       XAI                3090.000000   \n10                      XAI              186000.000000   \n11                      XAI                1000.000000   \n12                      XAI                 398.385626   \n13                      XAI                7000.000000   \n14                      XAI               30000.000000   \n15                      XAI               20000.000000   \n16                      XAI                6030.000000   \n17                      XAI               25000.000000   \n18                      XAI                5000.000000   \n19                      XAI               10000.000000   \n20                      XAI                 500.000000   \n21                      XAI                8000.000000   \n22                      XAI               11900.000000   \n23                      XAI                4000.000000   \n24                      XAI                 262.000000   \n25                     gOHM                   0.182000   \n\n    transaction_asset_lastPriceUSD  transaction_amountUSD  \\\n0                         0.996047           59947.550425   \n1                      1674.366016             995.052978   \n2                         0.996047          100012.487283   \n3                         0.996047            3023.153053   \n4                         0.996047             992.079025   \n5                      1674.366016            2885.217480   \n6                         0.996047            3963.627622   \n7                         0.996047            2446.717700   \n8                      2809.419269           71910.521424   \n9                         0.996047            3085.406589   \n10                        0.996047          185996.147731   \n11                        0.996047            1005.010529   \n12                        0.996047             397.352793   \n13                        0.996047            6976.053341   \n14                        0.996047           29884.417447   \n15                        0.996047           19922.944964   \n16                        0.996047            6015.596587   \n17                        0.996047           24937.155253   \n18                        0.996047            5001.341848   \n19                        0.996047           10040.961438   \n20                        0.996047             498.489611   \n21                        0.996047            8040.631376   \n22                        0.996047           11928.568949   \n23                        0.996047            4012.000608   \n24                        0.996047             262.176433   \n25                     2809.419269             399.040935   \n\n               dateTime     calDate  \n0   2023-02-17 22:39:23  2023-02-17  \n1   2023-02-16 23:31:47  2023-02-16  \n2   2023-02-16 14:00:11  2023-02-16  \n3   2023-02-15 14:55:11  2023-02-15  \n4   2023-02-14 14:07:35  2023-02-14  \n5   2023-02-14 11:50:59  2023-02-14  \n6   2023-02-14 10:29:23  2023-02-14  \n7   2023-02-13 23:17:35  2023-02-13  \n8   2023-02-13 22:46:11  2023-02-13  \n9   2023-02-13 12:56:23  2023-02-13  \n10  2023-02-09 06:23:59  2023-02-09  \n11  2023-02-09 03:53:11  2023-02-09  \n12  2023-02-08 18:43:59  2023-02-08  \n13  2023-02-07 23:15:11  2023-02-07  \n14  2023-02-07 22:16:23  2023-02-07  \n15  2023-02-07 22:16:11  2023-02-07  \n16  2023-02-07 05:29:59  2023-02-07  \n17  2023-02-07 00:02:35  2023-02-07  \n18  2023-02-01 10:26:11  2023-02-01  \n19  2023-01-28 12:21:59  2023-01-28  \n20  2022-12-17 14:21:59  2022-12-17  \n21  2022-12-13 04:49:59  2022-12-13  \n22  2022-12-12 23:10:47  2022-12-12  \n23  2022-12-12 21:36:59  2022-12-12  \n24  2022-11-23 23:40:11  2022-11-23  \n25  2022-11-23 18:57:47  2022-11-23  ",
      "text/html": "<div>\n<style scoped>\n    .dataframe tbody tr th:only-of-type {\n        vertical-align: middle;\n    }\n\n    .dataframe tbody tr th {\n        vertical-align: top;\n    }\n\n    .dataframe thead th {\n        text-align: right;\n    }\n</style>\n<table border=\"1\" class=\"dataframe\">\n  <thead>\n    <tr style=\"text-align: right;\">\n      <th></th>\n      <th>event</th>\n      <th>transaction_hash</th>\n      <th>transaction_blockNumber</th>\n      <th>transaction_timestamp</th>\n      <th>transaction_account_id</th>\n      <th>transaction_market_id</th>\n      <th>transaction_asset_name</th>\n      <th>transaction_asset_symbol</th>\n      <th>transactionReadableAmount</th>\n      <th>transaction_asset_lastPriceUSD</th>\n      <th>transaction_amountUSD</th>\n      <th>dateTime</th>\n      <th>calDate</th>\n    </tr>\n  </thead>\n  <tbody>\n    <tr>\n      <th>0</th>\n      <td>borrow</td>\n      <td>0x66fe10ed6dcb8b83bdb5b0c46cd321060734b9063bd5...</td>\n      <td>16651434</td>\n      <td>1676673563</td>\n      <td>0xd33e76d21d32c21811593ae54e38f68df0cfe8ed</td>\n      <td>0xc413dd03555f3eb29d834b482d386b2999dc2eb0</td>\n      <td>XAI Stablecoin</td>\n      <td>XAI</td>\n      <td>60500.000000</td>\n      <td>0.996047</td>\n      <td>59947.550425</td>\n      <td>2023-02-17 22:39:23</td>\n      <td>2023-02-17</td>\n    </tr>\n    <tr>\n      <th>1</th>\n      <td>borrow</td>\n      <td>0xd9329978828295f4f091eaa77a6d8c388c5616bbe92c...</td>\n      <td>16644592</td>\n      <td>1676590307</td>\n      <td>0x96035b45bc0d22f0ed11283a91145fb001c48370</td>\n      <td>0xc413dd03555f3eb29d834b482d386b2999dc2eb0</td>\n      <td>Wrapped Ether</td>\n      <td>WETH</td>\n      <td>0.600000</td>\n      <td>1674.366016</td>\n      <td>995.052978</td>\n      <td>2023-02-16 23:31:47</td>\n      <td>2023-02-16</td>\n    </tr>\n    <tr>\n      <th>2</th>\n      <td>borrow</td>\n      <td>0x3b0f26e10c63a71c916e8a68bd1889d9bab38aeb62d7...</td>\n      <td>16641746</td>\n      <td>1676556011</td>\n      <td>0xee95e4cf086fc80df7ae0f39dfc9ea53a3eaadcb</td>\n      <td>0xc413dd03555f3eb29d834b482d386b2999dc2eb0</td>\n      <td>XAI Stablecoin</td>\n      <td>XAI</td>\n      <td>100000.000000</td>\n      <td>0.996047</td>\n      <td>100012.487283</td>\n      <td>2023-02-16 14:00:11</td>\n      <td>2023-02-16</td>\n    </tr>\n    <tr>\n      <th>3</th>\n      <td>borrow</td>\n      <td>0xfa292276fc71f90e29ca90a7b8a2be9a4094f459fb99...</td>\n      <td>16634870</td>\n      <td>1676472911</td>\n      <td>0x16ff8ad104fa6195260a6d4a3f311c5f120df77d</td>\n      <td>0xc413dd03555f3eb29d834b482d386b2999dc2eb0</td>\n      <td>XAI Stablecoin</td>\n      <td>XAI</td>\n      <td>3000.000000</td>\n      <td>0.996047</td>\n      <td>3023.153053</td>\n      <td>2023-02-15 14:55:11</td>\n      <td>2023-02-15</td>\n    </tr>\n    <tr>\n      <th>4</th>\n      <td>borrow</td>\n      <td>0xd5dc7147192591c7d19856d12e9278928932a5921653...</td>\n      <td>16627480</td>\n      <td>1676383655</td>\n      <td>0xc0b1f200aa9546ce074397bed7438bb2ec033877</td>\n      <td>0xc413dd03555f3eb29d834b482d386b2999dc2eb0</td>\n      <td>XAI Stablecoin</td>\n      <td>XAI</td>\n      <td>1000.000000</td>\n      <td>0.996047</td>\n      <td>992.079025</td>\n      <td>2023-02-14 14:07:35</td>\n      <td>2023-02-14</td>\n    </tr>\n    <tr>\n      <th>5</th>\n      <td>borrow</td>\n      <td>0x39c11cb01e34d9f8ca55a8820482eaf8a217033cdb6f...</td>\n      <td>16626801</td>\n      <td>1676375459</td>\n      <td>0x16ff8ad104fa6195260a6d4a3f311c5f120df77d</td>\n      <td>0xc413dd03555f3eb29d834b482d386b2999dc2eb0</td>\n      <td>Wrapped Ether</td>\n      <td>WETH</td>\n      <td>1.920000</td>\n      <td>1674.366016</td>\n      <td>2885.217480</td>\n      <td>2023-02-14 11:50:59</td>\n      <td>2023-02-14</td>\n    </tr>\n    <tr>\n      <th>6</th>\n      <td>borrow</td>\n      <td>0xf1d5b9c7f23bd9935061e4d08734cbfba9b9a53bacd5...</td>\n      <td>16626396</td>\n      <td>1676370563</td>\n      <td>0x339fd7c17ce670e7821f2f2ee94ddd49771483da</td>\n      <td>0xc413dd03555f3eb29d834b482d386b2999dc2eb0</td>\n      <td>XAI Stablecoin</td>\n      <td>XAI</td>\n      <td>4000.000000</td>\n      <td>0.996047</td>\n      <td>3963.627622</td>\n      <td>2023-02-14 10:29:23</td>\n      <td>2023-02-14</td>\n    </tr>\n    <tr>\n      <th>7</th>\n      <td>borrow</td>\n      <td>0x97811f7e7b7d202797093d44047ed986054be3dd6120...</td>\n      <td>16623063</td>\n      <td>1676330255</td>\n      <td>0xc0b1f200aa9546ce074397bed7438bb2ec033877</td>\n      <td>0xc413dd03555f3eb29d834b482d386b2999dc2eb0</td>\n      <td>XAI Stablecoin</td>\n      <td>XAI</td>\n      <td>2457.516074</td>\n      <td>0.996047</td>\n      <td>2446.717700</td>\n      <td>2023-02-13 23:17:35</td>\n      <td>2023-02-13</td>\n    </tr>\n    <tr>\n      <th>8</th>\n      <td>borrow</td>\n      <td>0x3dba2dd3c913b399164efd71db73121c9c94c0096139...</td>\n      <td>16622907</td>\n      <td>1676328371</td>\n      <td>0x46535cbc3fa574c32ea392d4f89c518290597072</td>\n      <td>0xc413dd03555f3eb29d834b482d386b2999dc2eb0</td>\n      <td>Governance OHM</td>\n      <td>gOHM</td>\n      <td>26.400000</td>\n      <td>2809.419269</td>\n      <td>71910.521424</td>\n      <td>2023-02-13 22:46:11</td>\n      <td>2023-02-13</td>\n    </tr>\n    <tr>\n      <th>9</th>\n      <td>borrow</td>\n      <td>0xbcfc05398a874e98a80e823ffb016c119b06c7b07a7c...</td>\n      <td>16619977</td>\n      <td>1676292983</td>\n      <td>0xc0b1f200aa9546ce074397bed7438bb2ec033877</td>\n      <td>0xc413dd03555f3eb29d834b482d386b2999dc2eb0</td>\n      <td>XAI Stablecoin</td>\n      <td>XAI</td>\n      <td>3090.000000</td>\n      <td>0.996047</td>\n      <td>3085.406589</td>\n      <td>2023-02-13 12:56:23</td>\n      <td>2023-02-13</td>\n    </tr>\n    <tr>\n      <th>10</th>\n      <td>borrow</td>\n      <td>0x16f2ff52f7a9e9057848569ea37c3e59eb558af0e044...</td>\n      <td>16589389</td>\n      <td>1675923839</td>\n      <td>0xb0399dac8f4d4100b49b2a7b3873481114229d18</td>\n      <td>0xc413dd03555f3eb29d834b482d386b2999dc2eb0</td>\n      <td>XAI Stablecoin</td>\n      <td>XAI</td>\n      <td>186000.000000</td>\n      <td>0.996047</td>\n      <td>185996.147731</td>\n      <td>2023-02-09 06:23:59</td>\n      <td>2023-02-09</td>\n    </tr>\n    <tr>\n      <th>11</th>\n      <td>borrow</td>\n      <td>0x2c0d9ab92c0eef11fa3394b4a89a62c7ee27bd5b64a1...</td>\n      <td>16588637</td>\n      <td>1675914791</td>\n      <td>0x804157889ac56a4e50278610c67960c1605a3264</td>\n      <td>0xc413dd03555f3eb29d834b482d386b2999dc2eb0</td>\n      <td>XAI Stablecoin</td>\n      <td>XAI</td>\n      <td>1000.000000</td>\n      <td>0.996047</td>\n      <td>1005.010529</td>\n      <td>2023-02-09 03:53:11</td>\n      <td>2023-02-09</td>\n    </tr>\n    <tr>\n      <th>12</th>\n      <td>borrow</td>\n      <td>0x9acb7bcb3e826a231f0cb2e55f4d2ea70d7ff8cbe18a...</td>\n      <td>16585909</td>\n      <td>1675881839</td>\n      <td>0xfe9d1bd54e344dc8c4bd93e7935e39af452e5d41</td>\n      <td>0xc413dd03555f3eb29d834b482d386b2999dc2eb0</td>\n      <td>XAI Stablecoin</td>\n      <td>XAI</td>\n      <td>398.385626</td>\n      <td>0.996047</td>\n      <td>397.352793</td>\n      <td>2023-02-08 18:43:59</td>\n      <td>2023-02-08</td>\n    </tr>\n    <tr>\n      <th>13</th>\n      <td>borrow</td>\n      <td>0x045f19530c6f8c0b6eca525f3921e207938e841b3670...</td>\n      <td>16580114</td>\n      <td>1675811711</td>\n      <td>0xb86cd2efc1f461beee8deec2c3f053ccb2781ef9</td>\n      <td>0xc413dd03555f3eb29d834b482d386b2999dc2eb0</td>\n      <td>XAI Stablecoin</td>\n      <td>XAI</td>\n      <td>7000.000000</td>\n      <td>0.996047</td>\n      <td>6976.053341</td>\n      <td>2023-02-07 23:15:11</td>\n      <td>2023-02-07</td>\n    </tr>\n    <tr>\n      <th>14</th>\n      <td>borrow</td>\n      <td>0x072c04ee8776ea91e8c1003bad2d401e3ac90d0ab2fc...</td>\n      <td>16579820</td>\n      <td>1675808183</td>\n      <td>0x0493bcca897a2248ae3cd4c66aea90dbfc7e13c6</td>\n      <td>0xc413dd03555f3eb29d834b482d386b2999dc2eb0</td>\n      <td>XAI Stablecoin</td>\n      <td>XAI</td>\n      <td>30000.000000</td>\n      <td>0.996047</td>\n      <td>29884.417447</td>\n      <td>2023-02-07 22:16:23</td>\n      <td>2023-02-07</td>\n    </tr>\n    <tr>\n      <th>15</th>\n      <td>borrow</td>\n      <td>0x38ce8e39e188c85ba03a340cdde95c2e1d56b54161e6...</td>\n      <td>16579819</td>\n      <td>1675808171</td>\n      <td>0x96035b45bc0d22f0ed11283a91145fb001c48370</td>\n      <td>0xc413dd03555f3eb29d834b482d386b2999dc2eb0</td>\n      <td>XAI Stablecoin</td>\n      <td>XAI</td>\n      <td>20000.000000</td>\n      <td>0.996047</td>\n      <td>19922.944964</td>\n      <td>2023-02-07 22:16:11</td>\n      <td>2023-02-07</td>\n    </tr>\n    <tr>\n      <th>16</th>\n      <td>borrow</td>\n      <td>0x4fa0cb2fdde04b90f07602351b260aa5202562c7b701...</td>\n      <td>16574830</td>\n      <td>1675747799</td>\n      <td>0x6487d336bdec94d4714a4d217b15aa5c7b9dfa99</td>\n      <td>0xc413dd03555f3eb29d834b482d386b2999dc2eb0</td>\n      <td>XAI Stablecoin</td>\n      <td>XAI</td>\n      <td>6030.000000</td>\n      <td>0.996047</td>\n      <td>6015.596587</td>\n      <td>2023-02-07 05:29:59</td>\n      <td>2023-02-07</td>\n    </tr>\n    <tr>\n      <th>17</th>\n      <td>borrow</td>\n      <td>0xb38cef69963653bc8f3e04720bd0d3f3df6e6e9ede13...</td>\n      <td>16573202</td>\n      <td>1675728155</td>\n      <td>0x36125234dd6c7d0a01dcadc67e79e061d405098e</td>\n      <td>0xc413dd03555f3eb29d834b482d386b2999dc2eb0</td>\n      <td>XAI Stablecoin</td>\n      <td>XAI</td>\n      <td>25000.000000</td>\n      <td>0.996047</td>\n      <td>24937.155253</td>\n      <td>2023-02-07 00:02:35</td>\n      <td>2023-02-07</td>\n    </tr>\n    <tr>\n      <th>18</th>\n      <td>borrow</td>\n      <td>0x30c76353a03ffe6931799da8b7439b1fcb02c3952f54...</td>\n      <td>16533360</td>\n      <td>1675247171</td>\n      <td>0x339fd7c17ce670e7821f2f2ee94ddd49771483da</td>\n      <td>0xc413dd03555f3eb29d834b482d386b2999dc2eb0</td>\n      <td>XAI Stablecoin</td>\n      <td>XAI</td>\n      <td>5000.000000</td>\n      <td>0.996047</td>\n      <td>5001.341848</td>\n      <td>2023-02-01 10:26:11</td>\n      <td>2023-02-01</td>\n    </tr>\n    <tr>\n      <th>19</th>\n      <td>borrow</td>\n      <td>0xe034b0dedaea9ad1f849d5420228106937d816b89b3a...</td>\n      <td>16505284</td>\n      <td>1674908519</td>\n      <td>0x42daeb9ca091e3933c8ee93c029701b926b1f336</td>\n      <td>0xc413dd03555f3eb29d834b482d386b2999dc2eb0</td>\n      <td>XAI Stablecoin</td>\n      <td>XAI</td>\n      <td>10000.000000</td>\n      <td>0.996047</td>\n      <td>10040.961438</td>\n      <td>2023-01-28 12:21:59</td>\n      <td>2023-01-28</td>\n    </tr>\n    <tr>\n      <th>20</th>\n      <td>borrow</td>\n      <td>0xc629960194d24bb2e3aaf7a91b2cf4f547703cd7ed68...</td>\n      <td>16204982</td>\n      <td>1671286919</td>\n      <td>0x44504ba8d43b30e882503948654e247b928bcc7f</td>\n      <td>0xc413dd03555f3eb29d834b482d386b2999dc2eb0</td>\n      <td>XAI Stablecoin</td>\n      <td>XAI</td>\n      <td>500.000000</td>\n      <td>0.996047</td>\n      <td>498.489611</td>\n      <td>2022-12-17 14:21:59</td>\n      <td>2022-12-17</td>\n    </tr>\n    <tr>\n      <th>21</th>\n      <td>borrow</td>\n      <td>0xbfc6df3a770233f4e0fbd6fe0cf8f6fa02f1432c570f...</td>\n      <td>16173505</td>\n      <td>1670906999</td>\n      <td>0x339fd7c17ce670e7821f2f2ee94ddd49771483da</td>\n      <td>0xc413dd03555f3eb29d834b482d386b2999dc2eb0</td>\n      <td>XAI Stablecoin</td>\n      <td>XAI</td>\n      <td>8000.000000</td>\n      <td>0.996047</td>\n      <td>8040.631376</td>\n      <td>2022-12-13 04:49:59</td>\n      <td>2022-12-13</td>\n    </tr>\n    <tr>\n      <th>22</th>\n      <td>borrow</td>\n      <td>0x2485acd5a3853dc50921a27ea5bf8227871425cca3e4...</td>\n      <td>16171818</td>\n      <td>1670886647</td>\n      <td>0x1ba67f30e25fc43863b50047d7fd4bd63b9c59ec</td>\n      <td>0xc413dd03555f3eb29d834b482d386b2999dc2eb0</td>\n      <td>XAI Stablecoin</td>\n      <td>XAI</td>\n      <td>11900.000000</td>\n      <td>0.996047</td>\n      <td>11928.568949</td>\n      <td>2022-12-12 23:10:47</td>\n      <td>2022-12-12</td>\n    </tr>\n    <tr>\n      <th>23</th>\n      <td>borrow</td>\n      <td>0x17fedebf20b120a55b895f96e2b466f2bbdcceb2b542...</td>\n      <td>16171351</td>\n      <td>1670881019</td>\n      <td>0x3985caf03eef8f885edb1f8358143bdf08d8d48b</td>\n      <td>0xc413dd03555f3eb29d834b482d386b2999dc2eb0</td>\n      <td>XAI Stablecoin</td>\n      <td>XAI</td>\n      <td>4000.000000</td>\n      <td>0.996047</td>\n      <td>4012.000608</td>\n      <td>2022-12-12 21:36:59</td>\n      <td>2022-12-12</td>\n    </tr>\n    <tr>\n      <th>24</th>\n      <td>borrow</td>\n      <td>0x1aac54ba339ee99c2b3c69cbde905f3ddc7832ffd946...</td>\n      <td>16036018</td>\n      <td>1669246811</td>\n      <td>0xd3064611b24eba7a6dbcbc26c1b35dfee1170880</td>\n      <td>0xc413dd03555f3eb29d834b482d386b2999dc2eb0</td>\n      <td>XAI Stablecoin</td>\n      <td>XAI</td>\n      <td>262.000000</td>\n      <td>0.996047</td>\n      <td>262.176433</td>\n      <td>2022-11-23 23:40:11</td>\n      <td>2022-11-23</td>\n    </tr>\n    <tr>\n      <th>25</th>\n      <td>borrow</td>\n      <td>0x83addaa30259315b10869fa8653a468eb1cc82a43f57...</td>\n      <td>16034628</td>\n      <td>1669229867</td>\n      <td>0x7776421dd146dfd6ea947cbf29b69c519807d259</td>\n      <td>0xc413dd03555f3eb29d834b482d386b2999dc2eb0</td>\n      <td>Governance OHM</td>\n      <td>gOHM</td>\n      <td>0.182000</td>\n      <td>2809.419269</td>\n      <td>399.040935</td>\n      <td>2022-11-23 18:57:47</td>\n      <td>2022-11-23</td>\n    </tr>\n  </tbody>\n</table>\n</div>"
     },
     "execution_count": 719,
     "metadata": {},
     "output_type": "execute_result"
    }
   ],
   "source": [
    "oldSiloBorrowsDb = pd.DataFrame()\n",
    "siloFileName = file+'/siloFinanceGohmBorrows.csv'\n",
    "try:\n",
    "    oldSiloBorrowsDb = pd.read_csv (siloFileName)\n",
    "except:\n",
    "    oldSiloBorrowsDb = pd.DataFrame()\n",
    "oldSiloBorrowsDb.head(100)"
   ],
   "metadata": {
    "collapsed": false
   }
  },
  {
   "cell_type": "code",
   "execution_count": 720,
   "outputs": [
    {
     "data": {
      "text/plain": "1676673558"
     },
     "execution_count": 720,
     "metadata": {},
     "output_type": "execute_result"
    }
   ],
   "source": [
    "maxSiloBorrowTimestamp = 0\n",
    "try:\n",
    "    maxSiloBorrowTimestamp = (max(0,oldSiloBorrowsDb['transaction_timestamp'].max()))-5\n",
    "except:\n",
    "        maxSiloBorrowTimestamp = 0\n",
    "maxSiloBorrowTimestamp = int(maxSiloBorrowTimestamp)\n",
    "maxSiloBorrowTimestamp"
   ],
   "metadata": {
    "collapsed": false
   }
  },
  {
   "cell_type": "code",
   "execution_count": 721,
   "outputs": [],
   "source": [
    "# 0xc413dd03555f3eb29d834b482d386b2999dc2eb0"
   ],
   "metadata": {
    "collapsed": false
   }
  },
  {
   "cell_type": "code",
   "execution_count": 722,
   "outputs": [
    {
     "name": "stdout",
     "output_type": "stream",
     "text": [
      "iterations:  0 Lines skipped:  0 records collected:  6  - latest recordID:  0x66fe10ed6dcb8b83bdb5b0c46cd321060734b9063bd5ff4b67d962f8a7b60152   0x66fe10ed6dcb8b83bdb5b0c46cd321060734b9063bd5ff4b67d962f8a7b60152-239  - borrows DB length:  6  - latest record from:  2023-02-17 14:39:23 2 days ago\n",
      "Done. Total Records collected:  6\n"
     ]
    }
   ],
   "source": [
    "##this captures the ENTIRE list of people who borrowed OHM\n",
    "borrowTicker = 0\n",
    "borrowslist = pd.DataFrame()\n",
    "siloBorrowsDb = pd.DataFrame()\n",
    "borrowListLength = 1000\n",
    "datediff = 0\n",
    "now=0\n",
    "daysAgo=0\n",
    "daysLimit = 45\n",
    "exit = False\n",
    "while exit==False:\n",
    "    skipValue = (borrowTicker)*(1000)\n",
    "    borrows = silo.Query.borrows(\n",
    "        orderBy='timestamp',\n",
    "        orderDirection='desc',\n",
    "        first=1000,\n",
    "        skip = skipValue,\n",
    "        where={ 'market': '0xc413dd03555f3eb29d834b482d386b2999dc2eb0'\n",
    "                ,'timestamp_gte': maxSiloBorrowTimestamp\n",
    "                } #gOHM market\n",
    "    )\n",
    "\n",
    "    borrowslist = sg.query_df([\n",
    "        borrows.id\n",
    "        ,borrows.hash\n",
    "        ,borrows.blockNumber\n",
    "        ,borrows.timestamp\n",
    "        ,borrows.account.id\n",
    "        ,borrows.market.id\n",
    "        ,borrows.market.protocol.id\n",
    "        ,borrows.market.rates.rate\n",
    "        ,borrows.market.rates.duration\n",
    "        ,borrows.market.rates.side\n",
    "        ,borrows.market.rates.type\n",
    "        ,borrows.market.rates.token.id\n",
    "        ,borrows.asset.name\n",
    "        ,borrows.asset.symbol\n",
    "        ,borrows.asset.decimals\n",
    "        ,borrows.asset.lastPriceUSD\n",
    "        ,borrows.amount\n",
    "        ,borrows.amountUSD\n",
    "    ])\n",
    "\n",
    "    siloBorrowsDb=pd.concat([siloBorrowsDb, borrowslist])\n",
    "    recordTimestamp1 = siloBorrowsDb.iat[borrowTicker,3]\n",
    "    recordTimestamp = dt.datetime.fromtimestamp( recordTimestamp1 )\n",
    "    now = (int(dt.datetime.utcnow().timestamp()))\n",
    "    datediff=abs(int(now) - recordTimestamp1)\n",
    "    daysAgo = int(datediff/86400)\n",
    "    siloBorrowsDbLength = len(siloBorrowsDb)\n",
    "    borrowListLength = len(borrowslist)\n",
    "    recordID = siloBorrowsDb.iat[borrowTicker,0]\n",
    "    borrow = siloBorrowsDb.iat[borrowTicker,1]\n",
    "    print(\"iterations: \", borrowTicker, \"Lines skipped: \",skipValue, \"records collected: \", borrowListLength, \" - latest recordID: \",borrow, \" \", recordID , \" - borrows DB length: \", siloBorrowsDbLength, \" - latest record from: \", recordTimestamp, daysAgo,\"days ago\")\n",
    "    #print(\"iterations: \", borrowTicker, \"records collected: \", borrowListLength, \" - userdb length: \", borrowsDbLength)\n",
    "    borrowTicker = borrowTicker+1\n",
    "\n",
    "    if daysAgo>daysLimit: exit =True\n",
    "    if borrowListLength<1000: exit =True\n",
    "\n",
    "siloBorrowsDb.columns = siloBorrowsDb.columns.str.replace(\"borrows\", \"transaction\")\n",
    "siloBorrowsDb['event']='borrow'\n",
    "siloBorrowsDb.drop_duplicates\n",
    "print(\"Done. Total Records collected: \", siloBorrowsDbLength)"
   ],
   "metadata": {
    "collapsed": false
   }
  },
  {
   "cell_type": "code",
   "execution_count": 723,
   "outputs": [
    {
     "data": {
      "text/plain": "    event                                   transaction_hash  \\\n0  borrow  0x66fe10ed6dcb8b83bdb5b0c46cd321060734b9063bd5...   \n\n   transaction_blockNumber  transaction_timestamp  \\\n0                 16651434             1676673563   \n\n                       transaction_account_id  \\\n0  0xd33e76d21d32c21811593ae54e38f68df0cfe8ed   \n\n                        transaction_market_id transaction_asset_name  \\\n0  0xc413dd03555f3eb29d834b482d386b2999dc2eb0         XAI Stablecoin   \n\n  transaction_asset_symbol  transactionReadableAmount  \\\n0                      XAI                    60500.0   \n\n   transaction_asset_lastPriceUSD  transaction_amountUSD            dateTime  \\\n0                        1.001125           59947.550425 2023-02-17 22:39:23   \n\n     calDate  \n0 2023-02-17  ",
      "text/html": "<div>\n<style scoped>\n    .dataframe tbody tr th:only-of-type {\n        vertical-align: middle;\n    }\n\n    .dataframe tbody tr th {\n        vertical-align: top;\n    }\n\n    .dataframe thead th {\n        text-align: right;\n    }\n</style>\n<table border=\"1\" class=\"dataframe\">\n  <thead>\n    <tr style=\"text-align: right;\">\n      <th></th>\n      <th>event</th>\n      <th>transaction_hash</th>\n      <th>transaction_blockNumber</th>\n      <th>transaction_timestamp</th>\n      <th>transaction_account_id</th>\n      <th>transaction_market_id</th>\n      <th>transaction_asset_name</th>\n      <th>transaction_asset_symbol</th>\n      <th>transactionReadableAmount</th>\n      <th>transaction_asset_lastPriceUSD</th>\n      <th>transaction_amountUSD</th>\n      <th>dateTime</th>\n      <th>calDate</th>\n    </tr>\n  </thead>\n  <tbody>\n    <tr>\n      <th>0</th>\n      <td>borrow</td>\n      <td>0x66fe10ed6dcb8b83bdb5b0c46cd321060734b9063bd5...</td>\n      <td>16651434</td>\n      <td>1676673563</td>\n      <td>0xd33e76d21d32c21811593ae54e38f68df0cfe8ed</td>\n      <td>0xc413dd03555f3eb29d834b482d386b2999dc2eb0</td>\n      <td>XAI Stablecoin</td>\n      <td>XAI</td>\n      <td>60500.0</td>\n      <td>1.001125</td>\n      <td>59947.550425</td>\n      <td>2023-02-17 22:39:23</td>\n      <td>2023-02-17</td>\n    </tr>\n  </tbody>\n</table>\n</div>"
     },
     "execution_count": 723,
     "metadata": {},
     "output_type": "execute_result"
    }
   ],
   "source": [
    "siloBorrowsDb['transactionReadableAmount'] = siloBorrowsDb['transaction_amount']/(10**(siloBorrowsDb['transaction_asset_decimals']))\n",
    "siloBorrowsDb['transactionReadableAmount']=siloBorrowsDb['transactionReadableAmount'].astype('float')\n",
    "siloBorrowsDb['dateTime'] =(pd.to_datetime(siloBorrowsDb['transaction_timestamp'],unit='s'))\n",
    "\n",
    "siloBorrowEventsDbTimedClean = siloBorrowsDb[['event','transaction_hash','transaction_blockNumber','transaction_timestamp','transaction_account_id','transaction_market_id','transaction_asset_name','transaction_asset_symbol', 'transactionReadableAmount','transaction_asset_lastPriceUSD','transaction_amountUSD','dateTime']].copy()\n",
    "siloBorrowEventsDbTimedClean.sort_values(by=['event','transaction_hash','transaction_blockNumber','transaction_timestamp','transaction_account_id','transaction_market_id','transaction_asset_name','transaction_asset_symbol', 'transactionReadableAmount','transaction_asset_lastPriceUSD','transaction_amountUSD','dateTime'])\n",
    "\n",
    "siloBorrowEventsDbTimedClean.drop_duplicates(subset=['transaction_hash'],keep='first', inplace=True)\n",
    "siloBorrowEventsDbTimedClean['calDate'] = siloBorrowEventsDbTimedClean['dateTime'].dt.normalize()\n",
    "siloBorrowEventsDbTimedClean.head(100)"
   ],
   "metadata": {
    "collapsed": false
   }
  },
  {
   "cell_type": "code",
   "execution_count": 724,
   "outputs": [
    {
     "name": "stdout",
     "output_type": "stream",
     "text": [
      "D:\\Dropbox\\Documents\\Edgecaser LLC\\Projects\\Olympus\\Econohmetrics\\gohmAsStablecoinCollateral/data/siloFinanceGohmBorrows_piped.csv file saved, 1  records\n"
     ]
    }
   ],
   "source": [
    "path =file+'/siloFinanceGohmBorrows.csv'\n",
    "siloBorrowEventsDbTimedClean.to_csv(path, index = False)\n",
    "\n",
    "path =file+'/siloFinanceGohmBorrows_piped.csv'\n",
    "siloBorrowEventsDbTimedClean.to_csv(path, index = False, sep='|')\n",
    "print(path, 'file saved,', len(siloBorrowEventsDbTimedClean),' records')"
   ],
   "metadata": {
    "collapsed": false
   }
  },
  {
   "cell_type": "code",
   "execution_count": 725,
   "outputs": [
    {
     "name": "stdout",
     "output_type": "stream",
     "text": [
      "A total of $ 59947.55 has been borrowed in different stablecoins over time\n"
     ]
    }
   ],
   "source": [
    "totalBorrowedUSD = sum(siloBorrowEventsDbTimedClean['transaction_amountUSD'])\n",
    "print('A total of $',round(totalBorrowedUSD,2),  'has been borrowed in different stablecoins over time')"
   ],
   "metadata": {
    "collapsed": false
   }
  },
  {
   "cell_type": "code",
   "execution_count": 726,
   "outputs": [
    {
     "data": {
      "text/plain": "Empty DataFrame\nColumns: [transaction_hash, transaction_timestamp, dateTime, transaction_account_id, transaction_asset_symbol, transactionReadableAmount, transaction_amountUSD]\nIndex: []",
      "text/html": "<div>\n<style scoped>\n    .dataframe tbody tr th:only-of-type {\n        vertical-align: middle;\n    }\n\n    .dataframe tbody tr th {\n        vertical-align: top;\n    }\n\n    .dataframe thead th {\n        text-align: right;\n    }\n</style>\n<table border=\"1\" class=\"dataframe\">\n  <thead>\n    <tr style=\"text-align: right;\">\n      <th></th>\n      <th>transaction_hash</th>\n      <th>transaction_timestamp</th>\n      <th>dateTime</th>\n      <th>transaction_account_id</th>\n      <th>transaction_asset_symbol</th>\n      <th>transactionReadableAmount</th>\n      <th>transaction_amountUSD</th>\n    </tr>\n  </thead>\n  <tbody>\n  </tbody>\n</table>\n</div>"
     },
     "execution_count": 726,
     "metadata": {},
     "output_type": "execute_result"
    }
   ],
   "source": [
    "ohmBorrowedSilo = db.query(\"Select distinct \"\n",
    "                           \"transaction_hash \"\n",
    "                           \",transaction_timestamp \"\n",
    "                           \", dateTime \"\n",
    "                           \",transaction_account_id \"\n",
    "                           \", transaction_asset_symbol \"\n",
    "                           \", transactionReadableAmount \"\n",
    "                           \", transaction_amountUSD \"\n",
    "                           \"from siloBorrowsDb where lower(transaction_asset_symbol) = 'gohm'\").df()\n",
    "\n",
    "ohmBorrowedSilo.head(10)"
   ],
   "metadata": {
    "collapsed": false
   }
  },
  {
   "cell_type": "code",
   "execution_count": 727,
   "outputs": [
    {
     "name": "stdout",
     "output_type": "stream",
     "text": [
      "A total of  0 OHM has been borrowed in different stablecoins over time, roughly USD$ 0\n"
     ]
    }
   ],
   "source": [
    "totalSiloBorrowedOHM = sum(ohmBorrowedSilo['transactionReadableAmount'])\n",
    "totalSiloBorrowedOHMinUSD = sum(ohmBorrowedSilo['transaction_amountUSD'])\n",
    "print('A total of ',round(totalSiloBorrowedOHM,2),  'OHM has been borrowed in different stablecoins over time, roughly USD$',totalSiloBorrowedOHMinUSD)"
   ],
   "metadata": {
    "collapsed": false
   }
  },
  {
   "cell_type": "code",
   "execution_count": 728,
   "outputs": [
    {
     "name": "stdout",
     "output_type": "stream",
     "text": [
      "D:\\Dropbox\\Documents\\Edgecaser LLC\\Projects\\Olympus\\Econohmetrics\\gohmAsStablecoinCollateral/data/ohmBorrowedSilo_piped.csv file saved, 0  records\n"
     ]
    }
   ],
   "source": [
    "path =file+'/ohmBorrowedSilo.csv'\n",
    "ohmBorrowedSilo.to_csv(path, index = False)\n",
    "\n",
    "path =file+'/ohmBorrowedSilo_piped.csv'\n",
    "ohmBorrowedSilo.to_csv(path, index = False, sep='|')\n",
    "print(path, 'file saved,', len(ohmBorrowedSilo),' records')"
   ],
   "metadata": {
    "collapsed": false
   }
  },
  {
   "cell_type": "markdown",
   "source": [
    "********************************************************************\n",
    "********************************************************************\n",
    "SILO COLLATERAL DEPOSITS"
   ],
   "metadata": {
    "collapsed": false
   }
  },
  {
   "cell_type": "code",
   "execution_count": 729,
   "outputs": [
    {
     "data": {
      "text/plain": "      event                                   transaction_hash  \\\n0   deposit  0xecd6140bbb896413a25d34ca87f5503b56c444f1e582...   \n1   deposit  0x54cd3f5374780bceaffae0661e2688eeca47df22b8aa...   \n2   deposit  0xe5163797f0922e4bded89126a213296a8c3d270a39e2...   \n3   deposit  0xcc5e09e1e5c403b6925fa25f0410388de72ef1b45f30...   \n4   deposit  0xf5439a3f94551476ec68db02d6f577a2856d01f45691...   \n5   deposit  0x3069fa3e9834fd75b4eaae5d1ef1a7910b112ed68e5f...   \n6   deposit  0x17d879ec97730987652b5bcb00aaf6115b7dd232aaef...   \n7   deposit  0xff978d5e58c65cbc9d73fbf58f44166724c2db0f0706...   \n8   deposit  0x669ce641c8adcf855d5ea4fedda6b52fc63795fd0dd6...   \n9   deposit  0x204aee0831212791916d6ed3a2c24b5ac2a474743713...   \n10  deposit  0x6921d4de2e5fd797205f66357da959b3e4922760d131...   \n11  deposit  0x0efd7820596c58c44eb2a8cd9f825fa98fd0d7a3d1d3...   \n12  deposit  0x80f329fe4643c04ee8f7bc201533d5bd5387ac564fe8...   \n13  deposit  0x890da67cbb9ec7e781f0a8feb115ff7a590de57e00ce...   \n14  deposit  0xb1a1646acf062ec3c3d9884adf46bef38f00728ca2fa...   \n15  deposit  0x35d5e6734b990e7e7e6493344db464f86e9fe2318e7b...   \n16  deposit  0x1d2652b56d4d7ae72e952e68a3e0018bdbebdca8dd59...   \n17  deposit  0x4d72e2a5ca35d7b76faecafddc8dce2368081f6c6a52...   \n18  deposit  0x2051da675e864d363e7159d1e0084e45535e785b5ae6...   \n19  deposit  0x52365addba1ce6381c7ab6220b9a6eed6e26efa1b813...   \n20  deposit  0x976fb2b1e49590c04707140f0a1bce4465fda42dfe9c...   \n21  deposit  0x7811e7757339551966af37751af4b56c16a3e141d682...   \n22  deposit  0xc094064b1815d07ca696c614f45dffbb054d2e5d5954...   \n23  deposit  0xe32fe96626d39b1369922f9b678bdeff75eb6aeac561...   \n24  deposit  0x2f2117e1cc385bc67b93a53beb27c7b34865628bd35b...   \n25  deposit  0x7c831909c84d8b801b25a2a939ec2a6d08e7155fac91...   \n26  deposit  0x8966de52cc08fd866ff4e826c3ed12e04cb608e9dd94...   \n27  deposit  0x6336bd34049973ffbb71cafed76314b5175e35f2968b...   \n28  deposit  0x671eeedcc2230a697d59627ca9b009802111fd5c2c0b...   \n29  deposit  0x6c4f8bc5f49d55b317c6a9ed6d523a662df0c9b330a7...   \n30  deposit  0x53d9eed3930a371dbd133a9260a3ad8d5e7d3c4e446a...   \n31  deposit  0x816d41605087393280db2cf4083d1126a9b62542f79c...   \n32  deposit  0xd764e02abd36815b90d310332ff2a1e99842b8c4f6b5...   \n\n    transaction_blockNumber  transaction_timestamp  \\\n0                  16651409             1676673263   \n1                  16641740             1676555939   \n2                  16627499             1676383883   \n3                  16627469             1676383523   \n4                  16623070             1676330339   \n5                  16623049             1676330087   \n6                  16619969             1676292887   \n7                  16601490             1676069891   \n8                  16590634             1675938899   \n9                  16589368             1675923587   \n10                 16589333             1675923167   \n11                 16588623             1675914623   \n12                 16586156             1675884863   \n13                 16585903             1675881767   \n14                 16580081             1675811315   \n15                 16579812             1675808087   \n16                 16579684             1675806539   \n17                 16574706             1675746299   \n18                 16573196             1675728083   \n19                 16533352             1675247075   \n20                 16505276             1674908423   \n21                 16366137             1673229911   \n22                 16235576             1671655835   \n23                 16204963             1671286691   \n24                 16190043             1671106691   \n25                 16176119             1670938607   \n26                 16173486             1670906771   \n27                 16171813             1670886587   \n28                 16171336             1670880839   \n29                 16170980             1670876567   \n30                 16036013             1669246751   \n31                 16036005             1669246655   \n32                 16034616             1669229711   \n\n                        transaction_account_id  \\\n0   0xd33e76d21d32c21811593ae54e38f68df0cfe8ed   \n1   0xee95e4cf086fc80df7ae0f39dfc9ea53a3eaadcb   \n2   0xc0b1f200aa9546ce074397bed7438bb2ec033877   \n3   0xc0b1f200aa9546ce074397bed7438bb2ec033877   \n4   0xc0b1f200aa9546ce074397bed7438bb2ec033877   \n5   0xc0b1f200aa9546ce074397bed7438bb2ec033877   \n6   0xc0b1f200aa9546ce074397bed7438bb2ec033877   \n7   0xa7daeb7fc210f934508c8c7ce833a2cdd6630fb3   \n8   0x51bc3dd10a9ee4946f961038cf5d50057e49eb77   \n9   0xb0399dac8f4d4100b49b2a7b3873481114229d18   \n10  0xb0399dac8f4d4100b49b2a7b3873481114229d18   \n11  0x804157889ac56a4e50278610c67960c1605a3264   \n12  0x16ff8ad104fa6195260a6d4a3f311c5f120df77d   \n13  0xfe9d1bd54e344dc8c4bd93e7935e39af452e5d41   \n14  0xb86cd2efc1f461beee8deec2c3f053ccb2781ef9   \n15  0x0493bcca897a2248ae3cd4c66aea90dbfc7e13c6   \n16  0x96035b45bc0d22f0ed11283a91145fb001c48370   \n17  0x6487d336bdec94d4714a4d217b15aa5c7b9dfa99   \n18  0x36125234dd6c7d0a01dcadc67e79e061d405098e   \n19  0x339fd7c17ce670e7821f2f2ee94ddd49771483da   \n20  0x42daeb9ca091e3933c8ee93c029701b926b1f336   \n21  0x25fdda95197f804316f5ba8dbb66ac173ee19981   \n22  0xdedcf5806c4968c6397eee97e68047bda339d0c1   \n23  0x44504ba8d43b30e882503948654e247b928bcc7f   \n24  0x96035b45bc0d22f0ed11283a91145fb001c48370   \n25  0x791d1ec51d931186c1d4b80e753b7155dd98f741   \n26  0x339fd7c17ce670e7821f2f2ee94ddd49771483da   \n27  0x1ba67f30e25fc43863b50047d7fd4bd63b9c59ec   \n28  0x3985caf03eef8f885edb1f8358143bdf08d8d48b   \n29  0xee1520f94f304e8d551cbf310fe214212e3ca34a   \n30  0xd3064611b24eba7a6dbcbc26c1b35dfee1170880   \n31  0xd3064611b24eba7a6dbcbc26c1b35dfee1170880   \n32  0x62a4a8f9f5f3aae9ee9cee780285a0d501c12d09   \n\n                         transaction_market_id transaction_asset_name  \\\n0   0xc413dd03555f3eb29d834b482d386b2999dc2eb0         Governance OHM   \n1   0xc413dd03555f3eb29d834b482d386b2999dc2eb0         Governance OHM   \n2   0xc413dd03555f3eb29d834b482d386b2999dc2eb0         Governance OHM   \n3   0xc413dd03555f3eb29d834b482d386b2999dc2eb0         Governance OHM   \n4   0xc413dd03555f3eb29d834b482d386b2999dc2eb0         Governance OHM   \n5   0xc413dd03555f3eb29d834b482d386b2999dc2eb0         Governance OHM   \n6   0xc413dd03555f3eb29d834b482d386b2999dc2eb0         Governance OHM   \n7   0xc413dd03555f3eb29d834b482d386b2999dc2eb0         Governance OHM   \n8   0xc413dd03555f3eb29d834b482d386b2999dc2eb0         Governance OHM   \n9   0xc413dd03555f3eb29d834b482d386b2999dc2eb0         Governance OHM   \n10  0xc413dd03555f3eb29d834b482d386b2999dc2eb0         Governance OHM   \n11  0xc413dd03555f3eb29d834b482d386b2999dc2eb0         Governance OHM   \n12  0xc413dd03555f3eb29d834b482d386b2999dc2eb0         Governance OHM   \n13  0xc413dd03555f3eb29d834b482d386b2999dc2eb0         Governance OHM   \n14  0xc413dd03555f3eb29d834b482d386b2999dc2eb0         Governance OHM   \n15  0xc413dd03555f3eb29d834b482d386b2999dc2eb0         Governance OHM   \n16  0xc413dd03555f3eb29d834b482d386b2999dc2eb0         Governance OHM   \n17  0xc413dd03555f3eb29d834b482d386b2999dc2eb0         Governance OHM   \n18  0xc413dd03555f3eb29d834b482d386b2999dc2eb0         Governance OHM   \n19  0xc413dd03555f3eb29d834b482d386b2999dc2eb0         Governance OHM   \n20  0xc413dd03555f3eb29d834b482d386b2999dc2eb0         Governance OHM   \n21  0xc413dd03555f3eb29d834b482d386b2999dc2eb0         Governance OHM   \n22  0xc413dd03555f3eb29d834b482d386b2999dc2eb0         Governance OHM   \n23  0xc413dd03555f3eb29d834b482d386b2999dc2eb0         Governance OHM   \n24  0xc413dd03555f3eb29d834b482d386b2999dc2eb0         Governance OHM   \n25  0xc413dd03555f3eb29d834b482d386b2999dc2eb0         Governance OHM   \n26  0xc413dd03555f3eb29d834b482d386b2999dc2eb0         Governance OHM   \n27  0xc413dd03555f3eb29d834b482d386b2999dc2eb0         Governance OHM   \n28  0xc413dd03555f3eb29d834b482d386b2999dc2eb0         Governance OHM   \n29  0xc413dd03555f3eb29d834b482d386b2999dc2eb0         Governance OHM   \n30  0xc413dd03555f3eb29d834b482d386b2999dc2eb0         Governance OHM   \n31  0xc413dd03555f3eb29d834b482d386b2999dc2eb0         Governance OHM   \n32  0xc413dd03555f3eb29d834b482d386b2999dc2eb0         Governance OHM   \n\n   transaction_asset_symbol  transactionReadableAmount  \\\n0                      gOHM                  48.922199   \n1                      gOHM                  50.749992   \n2                      gOHM                   0.180346   \n3                      gOHM                   0.663108   \n4                      gOHM                   0.892669   \n5                      gOHM                   1.087799   \n6                      gOHM                   1.812154   \n7                      gOHM                   0.137814   \n8                      gOHM                   9.990000   \n9                      gOHM                 119.000000   \n10                     gOHM                   1.000000   \n11                     gOHM                   0.642960   \n12                     gOHM                   2.500000   \n13                     gOHM                   0.212373   \n14                     gOHM                   4.332179   \n15                     gOHM                  25.000000   \n16                     gOHM                  12.000668   \n17                     gOHM                   6.076244   \n18                     gOHM                  14.004861   \n19                     gOHM                   4.000000   \n20                     gOHM                   5.886017   \n21                     gOHM                   2.252766   \n22                     gOHM                   0.020000   \n23                     gOHM                   0.500000   \n24                     gOHM                  13.520668   \n25                     gOHM                   0.020000   \n26                     gOHM                   8.000000   \n27                     gOHM                   8.000000   \n28                     gOHM                   2.726128   \n29                     gOHM                  20.000000   \n30                     gOHM                   0.025140   \n31                     gOHM                   0.143100   \n32                     gOHM                   0.182000   \n\n    transaction_asset_lastPriceUSD  transaction_amountUSD  \\\n0                      2809.419269          138354.126796   \n1                      2809.419269          145833.530065   \n2                      2809.419269             490.375269   \n3                      2809.419269            1803.040025   \n4                      2809.419269            2431.527276   \n5                      2809.419269            2963.036715   \n6                      2809.419269            4846.273689   \n7                      2809.419269             363.447391   \n8                      2809.419269           26839.810526   \n9                      2809.419269          315110.337935   \n10                     2809.419269            2647.986033   \n11                     2809.419269            1702.439777   \n12                     2809.419269            6698.944104   \n13                     2809.419269             569.069520   \n14                     2809.419269           11511.647778   \n15                     2809.419269           66431.050909   \n16                     2809.419269           31888.680212   \n17                     2809.419269           16073.922152   \n18                     2809.419269           36670.028837   \n19                     2809.419269           10545.308750   \n20                     2809.419269           15207.964344   \n21                     2809.419269            5812.081890   \n22                     2809.419269              49.949341   \n23                     2809.419269            1242.431255   \n24                     2809.419269           33635.737994   \n25                     2809.419269              51.410624   \n26                     2809.419269           20081.385730   \n27                     2809.419269           20080.083584   \n28                     2809.419269            6842.610869   \n29                     2809.419269           49117.375038   \n30                     2809.419269              56.029673   \n31                     2809.419269             318.832191   \n32                     2809.419269             398.921247   \n\n               dateTime     calDate  \n0   2023-02-17 22:34:23  2023-02-17  \n1   2023-02-16 13:58:59  2023-02-16  \n2   2023-02-14 14:11:23  2023-02-14  \n3   2023-02-14 14:05:23  2023-02-14  \n4   2023-02-13 23:18:59  2023-02-13  \n5   2023-02-13 23:14:47  2023-02-13  \n6   2023-02-13 12:54:47  2023-02-13  \n7   2023-02-10 22:58:11  2023-02-10  \n8   2023-02-09 10:34:59  2023-02-09  \n9   2023-02-09 06:19:47  2023-02-09  \n10  2023-02-09 06:12:47  2023-02-09  \n11  2023-02-09 03:50:23  2023-02-09  \n12  2023-02-08 19:34:23  2023-02-08  \n13  2023-02-08 18:42:47  2023-02-08  \n14  2023-02-07 23:08:35  2023-02-07  \n15  2023-02-07 22:14:47  2023-02-07  \n16  2023-02-07 21:48:59  2023-02-07  \n17  2023-02-07 05:04:59  2023-02-07  \n18  2023-02-07 00:01:23  2023-02-07  \n19  2023-02-01 10:24:35  2023-02-01  \n20  2023-01-28 12:20:23  2023-01-28  \n21  2023-01-09 02:05:11  2023-01-09  \n22  2022-12-21 20:50:35  2022-12-21  \n23  2022-12-17 14:18:11  2022-12-17  \n24  2022-12-15 12:18:11  2022-12-15  \n25  2022-12-13 13:36:47  2022-12-13  \n26  2022-12-13 04:46:11  2022-12-13  \n27  2022-12-12 23:09:47  2022-12-12  \n28  2022-12-12 21:33:59  2022-12-12  \n29  2022-12-12 20:22:47  2022-12-12  \n30  2022-11-23 23:39:11  2022-11-23  \n31  2022-11-23 23:37:35  2022-11-23  \n32  2022-11-23 18:55:11  2022-11-23  ",
      "text/html": "<div>\n<style scoped>\n    .dataframe tbody tr th:only-of-type {\n        vertical-align: middle;\n    }\n\n    .dataframe tbody tr th {\n        vertical-align: top;\n    }\n\n    .dataframe thead th {\n        text-align: right;\n    }\n</style>\n<table border=\"1\" class=\"dataframe\">\n  <thead>\n    <tr style=\"text-align: right;\">\n      <th></th>\n      <th>event</th>\n      <th>transaction_hash</th>\n      <th>transaction_blockNumber</th>\n      <th>transaction_timestamp</th>\n      <th>transaction_account_id</th>\n      <th>transaction_market_id</th>\n      <th>transaction_asset_name</th>\n      <th>transaction_asset_symbol</th>\n      <th>transactionReadableAmount</th>\n      <th>transaction_asset_lastPriceUSD</th>\n      <th>transaction_amountUSD</th>\n      <th>dateTime</th>\n      <th>calDate</th>\n    </tr>\n  </thead>\n  <tbody>\n    <tr>\n      <th>0</th>\n      <td>deposit</td>\n      <td>0xecd6140bbb896413a25d34ca87f5503b56c444f1e582...</td>\n      <td>16651409</td>\n      <td>1676673263</td>\n      <td>0xd33e76d21d32c21811593ae54e38f68df0cfe8ed</td>\n      <td>0xc413dd03555f3eb29d834b482d386b2999dc2eb0</td>\n      <td>Governance OHM</td>\n      <td>gOHM</td>\n      <td>48.922199</td>\n      <td>2809.419269</td>\n      <td>138354.126796</td>\n      <td>2023-02-17 22:34:23</td>\n      <td>2023-02-17</td>\n    </tr>\n    <tr>\n      <th>1</th>\n      <td>deposit</td>\n      <td>0x54cd3f5374780bceaffae0661e2688eeca47df22b8aa...</td>\n      <td>16641740</td>\n      <td>1676555939</td>\n      <td>0xee95e4cf086fc80df7ae0f39dfc9ea53a3eaadcb</td>\n      <td>0xc413dd03555f3eb29d834b482d386b2999dc2eb0</td>\n      <td>Governance OHM</td>\n      <td>gOHM</td>\n      <td>50.749992</td>\n      <td>2809.419269</td>\n      <td>145833.530065</td>\n      <td>2023-02-16 13:58:59</td>\n      <td>2023-02-16</td>\n    </tr>\n    <tr>\n      <th>2</th>\n      <td>deposit</td>\n      <td>0xe5163797f0922e4bded89126a213296a8c3d270a39e2...</td>\n      <td>16627499</td>\n      <td>1676383883</td>\n      <td>0xc0b1f200aa9546ce074397bed7438bb2ec033877</td>\n      <td>0xc413dd03555f3eb29d834b482d386b2999dc2eb0</td>\n      <td>Governance OHM</td>\n      <td>gOHM</td>\n      <td>0.180346</td>\n      <td>2809.419269</td>\n      <td>490.375269</td>\n      <td>2023-02-14 14:11:23</td>\n      <td>2023-02-14</td>\n    </tr>\n    <tr>\n      <th>3</th>\n      <td>deposit</td>\n      <td>0xcc5e09e1e5c403b6925fa25f0410388de72ef1b45f30...</td>\n      <td>16627469</td>\n      <td>1676383523</td>\n      <td>0xc0b1f200aa9546ce074397bed7438bb2ec033877</td>\n      <td>0xc413dd03555f3eb29d834b482d386b2999dc2eb0</td>\n      <td>Governance OHM</td>\n      <td>gOHM</td>\n      <td>0.663108</td>\n      <td>2809.419269</td>\n      <td>1803.040025</td>\n      <td>2023-02-14 14:05:23</td>\n      <td>2023-02-14</td>\n    </tr>\n    <tr>\n      <th>4</th>\n      <td>deposit</td>\n      <td>0xf5439a3f94551476ec68db02d6f577a2856d01f45691...</td>\n      <td>16623070</td>\n      <td>1676330339</td>\n      <td>0xc0b1f200aa9546ce074397bed7438bb2ec033877</td>\n      <td>0xc413dd03555f3eb29d834b482d386b2999dc2eb0</td>\n      <td>Governance OHM</td>\n      <td>gOHM</td>\n      <td>0.892669</td>\n      <td>2809.419269</td>\n      <td>2431.527276</td>\n      <td>2023-02-13 23:18:59</td>\n      <td>2023-02-13</td>\n    </tr>\n    <tr>\n      <th>5</th>\n      <td>deposit</td>\n      <td>0x3069fa3e9834fd75b4eaae5d1ef1a7910b112ed68e5f...</td>\n      <td>16623049</td>\n      <td>1676330087</td>\n      <td>0xc0b1f200aa9546ce074397bed7438bb2ec033877</td>\n      <td>0xc413dd03555f3eb29d834b482d386b2999dc2eb0</td>\n      <td>Governance OHM</td>\n      <td>gOHM</td>\n      <td>1.087799</td>\n      <td>2809.419269</td>\n      <td>2963.036715</td>\n      <td>2023-02-13 23:14:47</td>\n      <td>2023-02-13</td>\n    </tr>\n    <tr>\n      <th>6</th>\n      <td>deposit</td>\n      <td>0x17d879ec97730987652b5bcb00aaf6115b7dd232aaef...</td>\n      <td>16619969</td>\n      <td>1676292887</td>\n      <td>0xc0b1f200aa9546ce074397bed7438bb2ec033877</td>\n      <td>0xc413dd03555f3eb29d834b482d386b2999dc2eb0</td>\n      <td>Governance OHM</td>\n      <td>gOHM</td>\n      <td>1.812154</td>\n      <td>2809.419269</td>\n      <td>4846.273689</td>\n      <td>2023-02-13 12:54:47</td>\n      <td>2023-02-13</td>\n    </tr>\n    <tr>\n      <th>7</th>\n      <td>deposit</td>\n      <td>0xff978d5e58c65cbc9d73fbf58f44166724c2db0f0706...</td>\n      <td>16601490</td>\n      <td>1676069891</td>\n      <td>0xa7daeb7fc210f934508c8c7ce833a2cdd6630fb3</td>\n      <td>0xc413dd03555f3eb29d834b482d386b2999dc2eb0</td>\n      <td>Governance OHM</td>\n      <td>gOHM</td>\n      <td>0.137814</td>\n      <td>2809.419269</td>\n      <td>363.447391</td>\n      <td>2023-02-10 22:58:11</td>\n      <td>2023-02-10</td>\n    </tr>\n    <tr>\n      <th>8</th>\n      <td>deposit</td>\n      <td>0x669ce641c8adcf855d5ea4fedda6b52fc63795fd0dd6...</td>\n      <td>16590634</td>\n      <td>1675938899</td>\n      <td>0x51bc3dd10a9ee4946f961038cf5d50057e49eb77</td>\n      <td>0xc413dd03555f3eb29d834b482d386b2999dc2eb0</td>\n      <td>Governance OHM</td>\n      <td>gOHM</td>\n      <td>9.990000</td>\n      <td>2809.419269</td>\n      <td>26839.810526</td>\n      <td>2023-02-09 10:34:59</td>\n      <td>2023-02-09</td>\n    </tr>\n    <tr>\n      <th>9</th>\n      <td>deposit</td>\n      <td>0x204aee0831212791916d6ed3a2c24b5ac2a474743713...</td>\n      <td>16589368</td>\n      <td>1675923587</td>\n      <td>0xb0399dac8f4d4100b49b2a7b3873481114229d18</td>\n      <td>0xc413dd03555f3eb29d834b482d386b2999dc2eb0</td>\n      <td>Governance OHM</td>\n      <td>gOHM</td>\n      <td>119.000000</td>\n      <td>2809.419269</td>\n      <td>315110.337935</td>\n      <td>2023-02-09 06:19:47</td>\n      <td>2023-02-09</td>\n    </tr>\n    <tr>\n      <th>10</th>\n      <td>deposit</td>\n      <td>0x6921d4de2e5fd797205f66357da959b3e4922760d131...</td>\n      <td>16589333</td>\n      <td>1675923167</td>\n      <td>0xb0399dac8f4d4100b49b2a7b3873481114229d18</td>\n      <td>0xc413dd03555f3eb29d834b482d386b2999dc2eb0</td>\n      <td>Governance OHM</td>\n      <td>gOHM</td>\n      <td>1.000000</td>\n      <td>2809.419269</td>\n      <td>2647.986033</td>\n      <td>2023-02-09 06:12:47</td>\n      <td>2023-02-09</td>\n    </tr>\n    <tr>\n      <th>11</th>\n      <td>deposit</td>\n      <td>0x0efd7820596c58c44eb2a8cd9f825fa98fd0d7a3d1d3...</td>\n      <td>16588623</td>\n      <td>1675914623</td>\n      <td>0x804157889ac56a4e50278610c67960c1605a3264</td>\n      <td>0xc413dd03555f3eb29d834b482d386b2999dc2eb0</td>\n      <td>Governance OHM</td>\n      <td>gOHM</td>\n      <td>0.642960</td>\n      <td>2809.419269</td>\n      <td>1702.439777</td>\n      <td>2023-02-09 03:50:23</td>\n      <td>2023-02-09</td>\n    </tr>\n    <tr>\n      <th>12</th>\n      <td>deposit</td>\n      <td>0x80f329fe4643c04ee8f7bc201533d5bd5387ac564fe8...</td>\n      <td>16586156</td>\n      <td>1675884863</td>\n      <td>0x16ff8ad104fa6195260a6d4a3f311c5f120df77d</td>\n      <td>0xc413dd03555f3eb29d834b482d386b2999dc2eb0</td>\n      <td>Governance OHM</td>\n      <td>gOHM</td>\n      <td>2.500000</td>\n      <td>2809.419269</td>\n      <td>6698.944104</td>\n      <td>2023-02-08 19:34:23</td>\n      <td>2023-02-08</td>\n    </tr>\n    <tr>\n      <th>13</th>\n      <td>deposit</td>\n      <td>0x890da67cbb9ec7e781f0a8feb115ff7a590de57e00ce...</td>\n      <td>16585903</td>\n      <td>1675881767</td>\n      <td>0xfe9d1bd54e344dc8c4bd93e7935e39af452e5d41</td>\n      <td>0xc413dd03555f3eb29d834b482d386b2999dc2eb0</td>\n      <td>Governance OHM</td>\n      <td>gOHM</td>\n      <td>0.212373</td>\n      <td>2809.419269</td>\n      <td>569.069520</td>\n      <td>2023-02-08 18:42:47</td>\n      <td>2023-02-08</td>\n    </tr>\n    <tr>\n      <th>14</th>\n      <td>deposit</td>\n      <td>0xb1a1646acf062ec3c3d9884adf46bef38f00728ca2fa...</td>\n      <td>16580081</td>\n      <td>1675811315</td>\n      <td>0xb86cd2efc1f461beee8deec2c3f053ccb2781ef9</td>\n      <td>0xc413dd03555f3eb29d834b482d386b2999dc2eb0</td>\n      <td>Governance OHM</td>\n      <td>gOHM</td>\n      <td>4.332179</td>\n      <td>2809.419269</td>\n      <td>11511.647778</td>\n      <td>2023-02-07 23:08:35</td>\n      <td>2023-02-07</td>\n    </tr>\n    <tr>\n      <th>15</th>\n      <td>deposit</td>\n      <td>0x35d5e6734b990e7e7e6493344db464f86e9fe2318e7b...</td>\n      <td>16579812</td>\n      <td>1675808087</td>\n      <td>0x0493bcca897a2248ae3cd4c66aea90dbfc7e13c6</td>\n      <td>0xc413dd03555f3eb29d834b482d386b2999dc2eb0</td>\n      <td>Governance OHM</td>\n      <td>gOHM</td>\n      <td>25.000000</td>\n      <td>2809.419269</td>\n      <td>66431.050909</td>\n      <td>2023-02-07 22:14:47</td>\n      <td>2023-02-07</td>\n    </tr>\n    <tr>\n      <th>16</th>\n      <td>deposit</td>\n      <td>0x1d2652b56d4d7ae72e952e68a3e0018bdbebdca8dd59...</td>\n      <td>16579684</td>\n      <td>1675806539</td>\n      <td>0x96035b45bc0d22f0ed11283a91145fb001c48370</td>\n      <td>0xc413dd03555f3eb29d834b482d386b2999dc2eb0</td>\n      <td>Governance OHM</td>\n      <td>gOHM</td>\n      <td>12.000668</td>\n      <td>2809.419269</td>\n      <td>31888.680212</td>\n      <td>2023-02-07 21:48:59</td>\n      <td>2023-02-07</td>\n    </tr>\n    <tr>\n      <th>17</th>\n      <td>deposit</td>\n      <td>0x4d72e2a5ca35d7b76faecafddc8dce2368081f6c6a52...</td>\n      <td>16574706</td>\n      <td>1675746299</td>\n      <td>0x6487d336bdec94d4714a4d217b15aa5c7b9dfa99</td>\n      <td>0xc413dd03555f3eb29d834b482d386b2999dc2eb0</td>\n      <td>Governance OHM</td>\n      <td>gOHM</td>\n      <td>6.076244</td>\n      <td>2809.419269</td>\n      <td>16073.922152</td>\n      <td>2023-02-07 05:04:59</td>\n      <td>2023-02-07</td>\n    </tr>\n    <tr>\n      <th>18</th>\n      <td>deposit</td>\n      <td>0x2051da675e864d363e7159d1e0084e45535e785b5ae6...</td>\n      <td>16573196</td>\n      <td>1675728083</td>\n      <td>0x36125234dd6c7d0a01dcadc67e79e061d405098e</td>\n      <td>0xc413dd03555f3eb29d834b482d386b2999dc2eb0</td>\n      <td>Governance OHM</td>\n      <td>gOHM</td>\n      <td>14.004861</td>\n      <td>2809.419269</td>\n      <td>36670.028837</td>\n      <td>2023-02-07 00:01:23</td>\n      <td>2023-02-07</td>\n    </tr>\n    <tr>\n      <th>19</th>\n      <td>deposit</td>\n      <td>0x52365addba1ce6381c7ab6220b9a6eed6e26efa1b813...</td>\n      <td>16533352</td>\n      <td>1675247075</td>\n      <td>0x339fd7c17ce670e7821f2f2ee94ddd49771483da</td>\n      <td>0xc413dd03555f3eb29d834b482d386b2999dc2eb0</td>\n      <td>Governance OHM</td>\n      <td>gOHM</td>\n      <td>4.000000</td>\n      <td>2809.419269</td>\n      <td>10545.308750</td>\n      <td>2023-02-01 10:24:35</td>\n      <td>2023-02-01</td>\n    </tr>\n    <tr>\n      <th>20</th>\n      <td>deposit</td>\n      <td>0x976fb2b1e49590c04707140f0a1bce4465fda42dfe9c...</td>\n      <td>16505276</td>\n      <td>1674908423</td>\n      <td>0x42daeb9ca091e3933c8ee93c029701b926b1f336</td>\n      <td>0xc413dd03555f3eb29d834b482d386b2999dc2eb0</td>\n      <td>Governance OHM</td>\n      <td>gOHM</td>\n      <td>5.886017</td>\n      <td>2809.419269</td>\n      <td>15207.964344</td>\n      <td>2023-01-28 12:20:23</td>\n      <td>2023-01-28</td>\n    </tr>\n    <tr>\n      <th>21</th>\n      <td>deposit</td>\n      <td>0x7811e7757339551966af37751af4b56c16a3e141d682...</td>\n      <td>16366137</td>\n      <td>1673229911</td>\n      <td>0x25fdda95197f804316f5ba8dbb66ac173ee19981</td>\n      <td>0xc413dd03555f3eb29d834b482d386b2999dc2eb0</td>\n      <td>Governance OHM</td>\n      <td>gOHM</td>\n      <td>2.252766</td>\n      <td>2809.419269</td>\n      <td>5812.081890</td>\n      <td>2023-01-09 02:05:11</td>\n      <td>2023-01-09</td>\n    </tr>\n    <tr>\n      <th>22</th>\n      <td>deposit</td>\n      <td>0xc094064b1815d07ca696c614f45dffbb054d2e5d5954...</td>\n      <td>16235576</td>\n      <td>1671655835</td>\n      <td>0xdedcf5806c4968c6397eee97e68047bda339d0c1</td>\n      <td>0xc413dd03555f3eb29d834b482d386b2999dc2eb0</td>\n      <td>Governance OHM</td>\n      <td>gOHM</td>\n      <td>0.020000</td>\n      <td>2809.419269</td>\n      <td>49.949341</td>\n      <td>2022-12-21 20:50:35</td>\n      <td>2022-12-21</td>\n    </tr>\n    <tr>\n      <th>23</th>\n      <td>deposit</td>\n      <td>0xe32fe96626d39b1369922f9b678bdeff75eb6aeac561...</td>\n      <td>16204963</td>\n      <td>1671286691</td>\n      <td>0x44504ba8d43b30e882503948654e247b928bcc7f</td>\n      <td>0xc413dd03555f3eb29d834b482d386b2999dc2eb0</td>\n      <td>Governance OHM</td>\n      <td>gOHM</td>\n      <td>0.500000</td>\n      <td>2809.419269</td>\n      <td>1242.431255</td>\n      <td>2022-12-17 14:18:11</td>\n      <td>2022-12-17</td>\n    </tr>\n    <tr>\n      <th>24</th>\n      <td>deposit</td>\n      <td>0x2f2117e1cc385bc67b93a53beb27c7b34865628bd35b...</td>\n      <td>16190043</td>\n      <td>1671106691</td>\n      <td>0x96035b45bc0d22f0ed11283a91145fb001c48370</td>\n      <td>0xc413dd03555f3eb29d834b482d386b2999dc2eb0</td>\n      <td>Governance OHM</td>\n      <td>gOHM</td>\n      <td>13.520668</td>\n      <td>2809.419269</td>\n      <td>33635.737994</td>\n      <td>2022-12-15 12:18:11</td>\n      <td>2022-12-15</td>\n    </tr>\n    <tr>\n      <th>25</th>\n      <td>deposit</td>\n      <td>0x7c831909c84d8b801b25a2a939ec2a6d08e7155fac91...</td>\n      <td>16176119</td>\n      <td>1670938607</td>\n      <td>0x791d1ec51d931186c1d4b80e753b7155dd98f741</td>\n      <td>0xc413dd03555f3eb29d834b482d386b2999dc2eb0</td>\n      <td>Governance OHM</td>\n      <td>gOHM</td>\n      <td>0.020000</td>\n      <td>2809.419269</td>\n      <td>51.410624</td>\n      <td>2022-12-13 13:36:47</td>\n      <td>2022-12-13</td>\n    </tr>\n    <tr>\n      <th>26</th>\n      <td>deposit</td>\n      <td>0x8966de52cc08fd866ff4e826c3ed12e04cb608e9dd94...</td>\n      <td>16173486</td>\n      <td>1670906771</td>\n      <td>0x339fd7c17ce670e7821f2f2ee94ddd49771483da</td>\n      <td>0xc413dd03555f3eb29d834b482d386b2999dc2eb0</td>\n      <td>Governance OHM</td>\n      <td>gOHM</td>\n      <td>8.000000</td>\n      <td>2809.419269</td>\n      <td>20081.385730</td>\n      <td>2022-12-13 04:46:11</td>\n      <td>2022-12-13</td>\n    </tr>\n    <tr>\n      <th>27</th>\n      <td>deposit</td>\n      <td>0x6336bd34049973ffbb71cafed76314b5175e35f2968b...</td>\n      <td>16171813</td>\n      <td>1670886587</td>\n      <td>0x1ba67f30e25fc43863b50047d7fd4bd63b9c59ec</td>\n      <td>0xc413dd03555f3eb29d834b482d386b2999dc2eb0</td>\n      <td>Governance OHM</td>\n      <td>gOHM</td>\n      <td>8.000000</td>\n      <td>2809.419269</td>\n      <td>20080.083584</td>\n      <td>2022-12-12 23:09:47</td>\n      <td>2022-12-12</td>\n    </tr>\n    <tr>\n      <th>28</th>\n      <td>deposit</td>\n      <td>0x671eeedcc2230a697d59627ca9b009802111fd5c2c0b...</td>\n      <td>16171336</td>\n      <td>1670880839</td>\n      <td>0x3985caf03eef8f885edb1f8358143bdf08d8d48b</td>\n      <td>0xc413dd03555f3eb29d834b482d386b2999dc2eb0</td>\n      <td>Governance OHM</td>\n      <td>gOHM</td>\n      <td>2.726128</td>\n      <td>2809.419269</td>\n      <td>6842.610869</td>\n      <td>2022-12-12 21:33:59</td>\n      <td>2022-12-12</td>\n    </tr>\n    <tr>\n      <th>29</th>\n      <td>deposit</td>\n      <td>0x6c4f8bc5f49d55b317c6a9ed6d523a662df0c9b330a7...</td>\n      <td>16170980</td>\n      <td>1670876567</td>\n      <td>0xee1520f94f304e8d551cbf310fe214212e3ca34a</td>\n      <td>0xc413dd03555f3eb29d834b482d386b2999dc2eb0</td>\n      <td>Governance OHM</td>\n      <td>gOHM</td>\n      <td>20.000000</td>\n      <td>2809.419269</td>\n      <td>49117.375038</td>\n      <td>2022-12-12 20:22:47</td>\n      <td>2022-12-12</td>\n    </tr>\n    <tr>\n      <th>30</th>\n      <td>deposit</td>\n      <td>0x53d9eed3930a371dbd133a9260a3ad8d5e7d3c4e446a...</td>\n      <td>16036013</td>\n      <td>1669246751</td>\n      <td>0xd3064611b24eba7a6dbcbc26c1b35dfee1170880</td>\n      <td>0xc413dd03555f3eb29d834b482d386b2999dc2eb0</td>\n      <td>Governance OHM</td>\n      <td>gOHM</td>\n      <td>0.025140</td>\n      <td>2809.419269</td>\n      <td>56.029673</td>\n      <td>2022-11-23 23:39:11</td>\n      <td>2022-11-23</td>\n    </tr>\n    <tr>\n      <th>31</th>\n      <td>deposit</td>\n      <td>0x816d41605087393280db2cf4083d1126a9b62542f79c...</td>\n      <td>16036005</td>\n      <td>1669246655</td>\n      <td>0xd3064611b24eba7a6dbcbc26c1b35dfee1170880</td>\n      <td>0xc413dd03555f3eb29d834b482d386b2999dc2eb0</td>\n      <td>Governance OHM</td>\n      <td>gOHM</td>\n      <td>0.143100</td>\n      <td>2809.419269</td>\n      <td>318.832191</td>\n      <td>2022-11-23 23:37:35</td>\n      <td>2022-11-23</td>\n    </tr>\n    <tr>\n      <th>32</th>\n      <td>deposit</td>\n      <td>0xd764e02abd36815b90d310332ff2a1e99842b8c4f6b5...</td>\n      <td>16034616</td>\n      <td>1669229711</td>\n      <td>0x62a4a8f9f5f3aae9ee9cee780285a0d501c12d09</td>\n      <td>0xc413dd03555f3eb29d834b482d386b2999dc2eb0</td>\n      <td>Governance OHM</td>\n      <td>gOHM</td>\n      <td>0.182000</td>\n      <td>2809.419269</td>\n      <td>398.921247</td>\n      <td>2022-11-23 18:55:11</td>\n      <td>2022-11-23</td>\n    </tr>\n  </tbody>\n</table>\n</div>"
     },
     "execution_count": 729,
     "metadata": {},
     "output_type": "execute_result"
    }
   ],
   "source": [
    "oldSiloDepositsDb = pd.DataFrame()\n",
    "siloFileName = file+'/siloFinanceGohmDeposits.csv'\n",
    "try:\n",
    "    oldSiloDepositsDb = pd.read_csv (siloFileName)\n",
    "except:\n",
    "    oldSiloDepositsDb = pd.DataFrame()\n",
    "oldSiloDepositsDb.head(100)"
   ],
   "metadata": {
    "collapsed": false
   }
  },
  {
   "cell_type": "code",
   "execution_count": 734,
   "outputs": [
    {
     "data": {
      "text/plain": "1676673263"
     },
     "execution_count": 734,
     "metadata": {},
     "output_type": "execute_result"
    }
   ],
   "source": [
    "oldSiloDepositsDb['transaction_timestamp'].max()"
   ],
   "metadata": {
    "collapsed": false
   }
  },
  {
   "cell_type": "code",
   "execution_count": 738,
   "outputs": [
    {
     "data": {
      "text/plain": "1676673257"
     },
     "execution_count": 738,
     "metadata": {},
     "output_type": "execute_result"
    }
   ],
   "source": [
    "maxSiloDepositsTimestamp = 0\n",
    "try:\n",
    "    maxSiloDepositsTimestamp = (max(0,oldSiloDepositsDb['transaction_timestamp'].max()))-5\n",
    "except:\n",
    "        maxSiloDepositsTimestamp = 0\n",
    "maxSiloDepositsTimestamp = int(maxSiloDepositsTimestamp)-1\n",
    "maxSiloDepositsTimestamp"
   ],
   "metadata": {
    "collapsed": false
   }
  },
  {
   "cell_type": "code",
   "execution_count": 757,
   "outputs": [
    {
     "name": "stdout",
     "output_type": "stream",
     "text": [
      "iterations:  0 Lines skipped:  0 records collected:  6  - latest recordID:  0xecd6140bbb896413a25d34ca87f5503b56c444f1e582ce06f89b5eb395fa6a39   0xecd6140bbb896413a25d34ca87f5503b56c444f1e582ce06f89b5eb395fa6a39-144  - deposits DB length:  6  - latest record from:  2023-02-17 14:34:23 2 days ago\n",
      "iterations:  1 Lines skipped:  1000 records collected:  0  - latest recordID:  0xecd6140bbb896413a25d34ca87f5503b56c444f1e582ce06f89b5eb395fa6a39   0xecd6140bbb896413a25d34ca87f5503b56c444f1e582ce06f89b5eb395fa6a39-144  - deposits DB length:  6  - latest record from:  2023-02-17 14:34:23 2 days ago\n",
      "iterations:  2 Lines skipped:  2000 records collected:  0  - latest recordID:  0xecd6140bbb896413a25d34ca87f5503b56c444f1e582ce06f89b5eb395fa6a39   0xecd6140bbb896413a25d34ca87f5503b56c444f1e582ce06f89b5eb395fa6a39-144  - deposits DB length:  6  - latest record from:  2023-02-17 14:34:23 2 days ago\n",
      "iterations:  3 Lines skipped:  3000 records collected:  0  - latest recordID:  0xecd6140bbb896413a25d34ca87f5503b56c444f1e582ce06f89b5eb395fa6a39   0xecd6140bbb896413a25d34ca87f5503b56c444f1e582ce06f89b5eb395fa6a39-144  - deposits DB length:  6  - latest record from:  2023-02-17 14:34:23 2 days ago\n",
      "iterations:  4 Lines skipped:  4000 records collected:  0  - latest recordID:  0xecd6140bbb896413a25d34ca87f5503b56c444f1e582ce06f89b5eb395fa6a39   0xecd6140bbb896413a25d34ca87f5503b56c444f1e582ce06f89b5eb395fa6a39-144  - deposits DB length:  6  - latest record from:  2023-02-17 14:34:23 2 days ago\n",
      "iterations:  5 Lines skipped:  5000 records collected:  0  - latest recordID:  0xecd6140bbb896413a25d34ca87f5503b56c444f1e582ce06f89b5eb395fa6a39   0xecd6140bbb896413a25d34ca87f5503b56c444f1e582ce06f89b5eb395fa6a39-144  - deposits DB length:  6  - latest record from:  2023-02-17 14:34:23 2 days ago\n"
     ]
    },
    {
     "ename": "IndexError",
     "evalue": "index 6 is out of bounds for axis 0 with size 6",
     "output_type": "error",
     "traceback": [
      "\u001B[1;31m---------------------------------------------------------------------------\u001B[0m",
      "\u001B[1;31mIndexError\u001B[0m                                Traceback (most recent call last)",
      "Input \u001B[1;32mIn [757]\u001B[0m, in \u001B[0;36m<cell line: 11>\u001B[1;34m()\u001B[0m\n\u001B[0;32m     23\u001B[0m depositslist \u001B[38;5;241m=\u001B[39m sg\u001B[38;5;241m.\u001B[39mquery_df([\n\u001B[0;32m     24\u001B[0m     deposits\u001B[38;5;241m.\u001B[39mid\n\u001B[0;32m     25\u001B[0m     ,deposits\u001B[38;5;241m.\u001B[39mhash\n\u001B[1;32m   (...)\u001B[0m\n\u001B[0;32m     41\u001B[0m     ,deposits\u001B[38;5;241m.\u001B[39mamountUSD\n\u001B[0;32m     42\u001B[0m ])\n\u001B[0;32m     44\u001B[0m siloDepositsDb\u001B[38;5;241m=\u001B[39mpd\u001B[38;5;241m.\u001B[39mconcat([siloDepositsDb, depositslist])\n\u001B[1;32m---> 45\u001B[0m recordTimestamp1 \u001B[38;5;241m=\u001B[39m \u001B[43msiloDepositsDb\u001B[49m\u001B[38;5;241;43m.\u001B[39;49m\u001B[43miat\u001B[49m\u001B[43m[\u001B[49m\u001B[43mdepositTicker\u001B[49m\u001B[43m,\u001B[49m\u001B[38;5;241;43m3\u001B[39;49m\u001B[43m]\u001B[49m\n\u001B[0;32m     46\u001B[0m recordTimestamp \u001B[38;5;241m=\u001B[39m dt\u001B[38;5;241m.\u001B[39mdatetime\u001B[38;5;241m.\u001B[39mfromtimestamp( recordTimestamp1 )\n\u001B[0;32m     47\u001B[0m now \u001B[38;5;241m=\u001B[39m (\u001B[38;5;28mint\u001B[39m(dt\u001B[38;5;241m.\u001B[39mdatetime\u001B[38;5;241m.\u001B[39mutcnow()\u001B[38;5;241m.\u001B[39mtimestamp()))\n",
      "File \u001B[1;32m~\\PycharmProjects\\pythonProject\\venv\\lib\\site-packages\\pandas\\core\\indexing.py:2221\u001B[0m, in \u001B[0;36m_ScalarAccessIndexer.__getitem__\u001B[1;34m(self, key)\u001B[0m\n\u001B[0;32m   2218\u001B[0m         \u001B[38;5;28;01mraise\u001B[39;00m \u001B[38;5;167;01mValueError\u001B[39;00m(\u001B[38;5;124m\"\u001B[39m\u001B[38;5;124mInvalid call for scalar access (getting)!\u001B[39m\u001B[38;5;124m\"\u001B[39m)\n\u001B[0;32m   2220\u001B[0m key \u001B[38;5;241m=\u001B[39m \u001B[38;5;28mself\u001B[39m\u001B[38;5;241m.\u001B[39m_convert_key(key)\n\u001B[1;32m-> 2221\u001B[0m \u001B[38;5;28;01mreturn\u001B[39;00m \u001B[38;5;28;43mself\u001B[39;49m\u001B[38;5;241;43m.\u001B[39;49m\u001B[43mobj\u001B[49m\u001B[38;5;241;43m.\u001B[39;49m\u001B[43m_get_value\u001B[49m\u001B[43m(\u001B[49m\u001B[38;5;241;43m*\u001B[39;49m\u001B[43mkey\u001B[49m\u001B[43m,\u001B[49m\u001B[43m \u001B[49m\u001B[43mtakeable\u001B[49m\u001B[38;5;241;43m=\u001B[39;49m\u001B[38;5;28;43mself\u001B[39;49m\u001B[38;5;241;43m.\u001B[39;49m\u001B[43m_takeable\u001B[49m\u001B[43m)\u001B[49m\n",
      "File \u001B[1;32m~\\PycharmProjects\\pythonProject\\venv\\lib\\site-packages\\pandas\\core\\frame.py:3613\u001B[0m, in \u001B[0;36mDataFrame._get_value\u001B[1;34m(self, index, col, takeable)\u001B[0m\n\u001B[0;32m   3611\u001B[0m \u001B[38;5;28;01mif\u001B[39;00m takeable:\n\u001B[0;32m   3612\u001B[0m     series \u001B[38;5;241m=\u001B[39m \u001B[38;5;28mself\u001B[39m\u001B[38;5;241m.\u001B[39m_ixs(col, axis\u001B[38;5;241m=\u001B[39m\u001B[38;5;241m1\u001B[39m)\n\u001B[1;32m-> 3613\u001B[0m     \u001B[38;5;28;01mreturn\u001B[39;00m \u001B[43mseries\u001B[49m\u001B[38;5;241;43m.\u001B[39;49m\u001B[43m_values\u001B[49m\u001B[43m[\u001B[49m\u001B[43mindex\u001B[49m\u001B[43m]\u001B[49m\n\u001B[0;32m   3615\u001B[0m series \u001B[38;5;241m=\u001B[39m \u001B[38;5;28mself\u001B[39m\u001B[38;5;241m.\u001B[39m_get_item_cache(col)\n\u001B[0;32m   3616\u001B[0m engine \u001B[38;5;241m=\u001B[39m \u001B[38;5;28mself\u001B[39m\u001B[38;5;241m.\u001B[39mindex\u001B[38;5;241m.\u001B[39m_engine\n",
      "\u001B[1;31mIndexError\u001B[0m: index 6 is out of bounds for axis 0 with size 6"
     ]
    }
   ],
   "source": [
    "##this captures the ENTIRE list of people who deposited OHM\n",
    "depositTicker = 0\n",
    "depositslist = pd.DataFrame()\n",
    "siloDepositsDb = pd.DataFrame()\n",
    "depositListLength = 1000\n",
    "datediff = 0\n",
    "now=0\n",
    "daysAgo=0\n",
    "daysLimit = 45\n",
    "exit = False\n",
    "while exit==False:\n",
    "    skipValue = (depositTicker)*(1000)\n",
    "    deposits = silo.Query.deposits(\n",
    "        orderBy='timestamp',\n",
    "        orderDirection='desc',\n",
    "        first=1000,\n",
    "        skip = skipValue,\n",
    "        where={ 'market': '0xc413dd03555f3eb29d834b482d386b2999dc2eb0'\n",
    "                ,'timestamp_gte': maxSiloDepositsTimestamp\n",
    "                } #gOHM market\n",
    "    )\n",
    "\n",
    "    depositslist = sg.query_df([\n",
    "        deposits.id\n",
    "        ,deposits.hash\n",
    "        ,deposits.blockNumber\n",
    "        ,deposits.timestamp\n",
    "        ,deposits.account.id\n",
    "        ,deposits.market.id\n",
    "        ,deposits.market.protocol.id\n",
    "        ,deposits.market.rates.rate\n",
    "        ,deposits.market.rates.duration\n",
    "        ,deposits.market.rates.side\n",
    "        ,deposits.market.rates.type\n",
    "        ,deposits.market.rates.token.id\n",
    "        ,deposits.asset.name\n",
    "        ,deposits.asset.symbol\n",
    "        ,deposits.asset.decimals\n",
    "        ,deposits.asset.lastPriceUSD\n",
    "        ,deposits.amount\n",
    "        ,deposits.amountUSD\n",
    "    ])\n",
    "\n",
    "    siloDepositsDb=pd.concat([siloDepositsDb, depositslist])\n",
    "    recordTimestamp1 = siloDepositsDb.iat[depositTicker,3]\n",
    "    recordTimestamp = dt.datetime.fromtimestamp( recordTimestamp1 )\n",
    "    now = (int(dt.datetime.utcnow().timestamp()))\n",
    "    datediff=abs(int(now) - recordTimestamp1)\n",
    "    daysAgo = int(datediff/86400)\n",
    "    siloDepositsDbLength = len(siloDepositsDb)\n",
    "    siloDepositListLength = len(depositslist)\n",
    "    recordID = siloDepositsDb.iat[depositTicker,0]\n",
    "    deposit = siloDepositsDb.iat[depositTicker,1]\n",
    "    print(\"iterations: \", depositTicker, \"Lines skipped: \",skipValue, \"records collected: \", siloDepositListLength, \" - latest recordID: \",deposit, \" \", recordID , \" - deposits DB length: \", siloDepositsDbLength, \" - latest record from: \", recordTimestamp, daysAgo,\"days ago\")\n",
    "    #print(\"iterations: \", depositTicker, \"records collected: \", depositListLength, \" - userdb length: \", depositsDbLength)\n",
    "    depositTicker = depositTicker+1\n",
    "\n",
    "    if daysAgo>daysLimit: exit =True\n",
    "    if depositListLength<1000: exit =True\n",
    "\n",
    "siloDepositsDb.columns = siloDepositsDb.columns.str.replace(\"deposits\", \"transaction\")\n",
    "siloDepositsDb['event']='deposit'\n",
    "siloDepositsDb.drop_duplicates\n",
    "print(\"Done. Total Records collected: \", siloDepositsDbLength)"
   ],
   "metadata": {
    "collapsed": false
   }
  },
  {
   "cell_type": "code",
   "execution_count": 758,
   "outputs": [
    {
     "data": {
      "text/plain": "                                         deposits_id  \\\n0  0xecd6140bbb896413a25d34ca87f5503b56c444f1e582...   \n1  0xecd6140bbb896413a25d34ca87f5503b56c444f1e582...   \n2  0xecd6140bbb896413a25d34ca87f5503b56c444f1e582...   \n3  0xecd6140bbb896413a25d34ca87f5503b56c444f1e582...   \n4  0xecd6140bbb896413a25d34ca87f5503b56c444f1e582...   \n5  0xecd6140bbb896413a25d34ca87f5503b56c444f1e582...   \n\n                                       deposits_hash  deposits_blockNumber  \\\n0  0xecd6140bbb896413a25d34ca87f5503b56c444f1e582...              16651409   \n1  0xecd6140bbb896413a25d34ca87f5503b56c444f1e582...              16651409   \n2  0xecd6140bbb896413a25d34ca87f5503b56c444f1e582...              16651409   \n3  0xecd6140bbb896413a25d34ca87f5503b56c444f1e582...              16651409   \n4  0xecd6140bbb896413a25d34ca87f5503b56c444f1e582...              16651409   \n5  0xecd6140bbb896413a25d34ca87f5503b56c444f1e582...              16651409   \n\n   deposits_timestamp                         deposits_account_id  \\\n0          1676673263  0xd33e76d21d32c21811593ae54e38f68df0cfe8ed   \n1          1676673263  0xd33e76d21d32c21811593ae54e38f68df0cfe8ed   \n2          1676673263  0xd33e76d21d32c21811593ae54e38f68df0cfe8ed   \n3          1676673263  0xd33e76d21d32c21811593ae54e38f68df0cfe8ed   \n4          1676673263  0xd33e76d21d32c21811593ae54e38f68df0cfe8ed   \n5          1676673263  0xd33e76d21d32c21811593ae54e38f68df0cfe8ed   \n\n                           deposits_market_id  \\\n0  0xc413dd03555f3eb29d834b482d386b2999dc2eb0   \n1  0xc413dd03555f3eb29d834b482d386b2999dc2eb0   \n2  0xc413dd03555f3eb29d834b482d386b2999dc2eb0   \n3  0xc413dd03555f3eb29d834b482d386b2999dc2eb0   \n4  0xc413dd03555f3eb29d834b482d386b2999dc2eb0   \n5  0xc413dd03555f3eb29d834b482d386b2999dc2eb0   \n\n                  deposits_market_protocol_id  deposits_market_rates_rate  \\\n0  0xd998c35b7900b344bbbe6555cc11576942cf309d                    0.000000   \n1  0xd998c35b7900b344bbbe6555cc11576942cf309d                    0.983536   \n2  0xd998c35b7900b344bbbe6555cc11576942cf309d                    2.840751   \n3  0xd998c35b7900b344bbbe6555cc11576942cf309d                    0.000000   \n4  0xd998c35b7900b344bbbe6555cc11576942cf309d                    0.117764   \n5  0xd998c35b7900b344bbbe6555cc11576942cf309d                    1.614000   \n\n  deposits_market_rates_duration deposits_market_rates_side  \\\n0                           None                   BORROWER   \n1                           None                   BORROWER   \n2                           None                   BORROWER   \n3                           None                     LENDER   \n4                           None                     LENDER   \n5                           None                     LENDER   \n\n  deposits_market_rates_type              deposits_market_rates_token_id  \\\n0                   VARIABLE  0x0ab87046fbb341d058f17cbc4c1133f25a20a52f   \n1                   VARIABLE  0xc02aaa39b223fe8d0a0e5c4f27ead9083c756cc2   \n2                   VARIABLE  0xd7c9f0e536dc865ae858b0c0453fe76d13c3beac   \n3                   VARIABLE  0x0ab87046fbb341d058f17cbc4c1133f25a20a52f   \n4                   VARIABLE  0xc02aaa39b223fe8d0a0e5c4f27ead9083c756cc2   \n5                   VARIABLE  0xd7c9f0e536dc865ae858b0c0453fe76d13c3beac   \n\n  deposits_asset_name deposits_asset_symbol  deposits_asset_decimals  \\\n0      Governance OHM                  gOHM                       18   \n1      Governance OHM                  gOHM                       18   \n2      Governance OHM                  gOHM                       18   \n3      Governance OHM                  gOHM                       18   \n4      Governance OHM                  gOHM                       18   \n5      Governance OHM                  gOHM                       18   \n\n   deposits_asset_lastPriceUSD       deposits_amount  deposits_amountUSD  \n0                  2809.009098  48922199130466954750       138354.126796  \n1                  2809.009098  48922199130466954750       138354.126796  \n2                  2809.009098  48922199130466954750       138354.126796  \n3                  2809.009098  48922199130466954750       138354.126796  \n4                  2809.009098  48922199130466954750       138354.126796  \n5                  2809.009098  48922199130466954750       138354.126796  ",
      "text/html": "<div>\n<style scoped>\n    .dataframe tbody tr th:only-of-type {\n        vertical-align: middle;\n    }\n\n    .dataframe tbody tr th {\n        vertical-align: top;\n    }\n\n    .dataframe thead th {\n        text-align: right;\n    }\n</style>\n<table border=\"1\" class=\"dataframe\">\n  <thead>\n    <tr style=\"text-align: right;\">\n      <th></th>\n      <th>deposits_id</th>\n      <th>deposits_hash</th>\n      <th>deposits_blockNumber</th>\n      <th>deposits_timestamp</th>\n      <th>deposits_account_id</th>\n      <th>deposits_market_id</th>\n      <th>deposits_market_protocol_id</th>\n      <th>deposits_market_rates_rate</th>\n      <th>deposits_market_rates_duration</th>\n      <th>deposits_market_rates_side</th>\n      <th>deposits_market_rates_type</th>\n      <th>deposits_market_rates_token_id</th>\n      <th>deposits_asset_name</th>\n      <th>deposits_asset_symbol</th>\n      <th>deposits_asset_decimals</th>\n      <th>deposits_asset_lastPriceUSD</th>\n      <th>deposits_amount</th>\n      <th>deposits_amountUSD</th>\n    </tr>\n  </thead>\n  <tbody>\n    <tr>\n      <th>0</th>\n      <td>0xecd6140bbb896413a25d34ca87f5503b56c444f1e582...</td>\n      <td>0xecd6140bbb896413a25d34ca87f5503b56c444f1e582...</td>\n      <td>16651409</td>\n      <td>1676673263</td>\n      <td>0xd33e76d21d32c21811593ae54e38f68df0cfe8ed</td>\n      <td>0xc413dd03555f3eb29d834b482d386b2999dc2eb0</td>\n      <td>0xd998c35b7900b344bbbe6555cc11576942cf309d</td>\n      <td>0.000000</td>\n      <td>None</td>\n      <td>BORROWER</td>\n      <td>VARIABLE</td>\n      <td>0x0ab87046fbb341d058f17cbc4c1133f25a20a52f</td>\n      <td>Governance OHM</td>\n      <td>gOHM</td>\n      <td>18</td>\n      <td>2809.009098</td>\n      <td>48922199130466954750</td>\n      <td>138354.126796</td>\n    </tr>\n    <tr>\n      <th>1</th>\n      <td>0xecd6140bbb896413a25d34ca87f5503b56c444f1e582...</td>\n      <td>0xecd6140bbb896413a25d34ca87f5503b56c444f1e582...</td>\n      <td>16651409</td>\n      <td>1676673263</td>\n      <td>0xd33e76d21d32c21811593ae54e38f68df0cfe8ed</td>\n      <td>0xc413dd03555f3eb29d834b482d386b2999dc2eb0</td>\n      <td>0xd998c35b7900b344bbbe6555cc11576942cf309d</td>\n      <td>0.983536</td>\n      <td>None</td>\n      <td>BORROWER</td>\n      <td>VARIABLE</td>\n      <td>0xc02aaa39b223fe8d0a0e5c4f27ead9083c756cc2</td>\n      <td>Governance OHM</td>\n      <td>gOHM</td>\n      <td>18</td>\n      <td>2809.009098</td>\n      <td>48922199130466954750</td>\n      <td>138354.126796</td>\n    </tr>\n    <tr>\n      <th>2</th>\n      <td>0xecd6140bbb896413a25d34ca87f5503b56c444f1e582...</td>\n      <td>0xecd6140bbb896413a25d34ca87f5503b56c444f1e582...</td>\n      <td>16651409</td>\n      <td>1676673263</td>\n      <td>0xd33e76d21d32c21811593ae54e38f68df0cfe8ed</td>\n      <td>0xc413dd03555f3eb29d834b482d386b2999dc2eb0</td>\n      <td>0xd998c35b7900b344bbbe6555cc11576942cf309d</td>\n      <td>2.840751</td>\n      <td>None</td>\n      <td>BORROWER</td>\n      <td>VARIABLE</td>\n      <td>0xd7c9f0e536dc865ae858b0c0453fe76d13c3beac</td>\n      <td>Governance OHM</td>\n      <td>gOHM</td>\n      <td>18</td>\n      <td>2809.009098</td>\n      <td>48922199130466954750</td>\n      <td>138354.126796</td>\n    </tr>\n    <tr>\n      <th>3</th>\n      <td>0xecd6140bbb896413a25d34ca87f5503b56c444f1e582...</td>\n      <td>0xecd6140bbb896413a25d34ca87f5503b56c444f1e582...</td>\n      <td>16651409</td>\n      <td>1676673263</td>\n      <td>0xd33e76d21d32c21811593ae54e38f68df0cfe8ed</td>\n      <td>0xc413dd03555f3eb29d834b482d386b2999dc2eb0</td>\n      <td>0xd998c35b7900b344bbbe6555cc11576942cf309d</td>\n      <td>0.000000</td>\n      <td>None</td>\n      <td>LENDER</td>\n      <td>VARIABLE</td>\n      <td>0x0ab87046fbb341d058f17cbc4c1133f25a20a52f</td>\n      <td>Governance OHM</td>\n      <td>gOHM</td>\n      <td>18</td>\n      <td>2809.009098</td>\n      <td>48922199130466954750</td>\n      <td>138354.126796</td>\n    </tr>\n    <tr>\n      <th>4</th>\n      <td>0xecd6140bbb896413a25d34ca87f5503b56c444f1e582...</td>\n      <td>0xecd6140bbb896413a25d34ca87f5503b56c444f1e582...</td>\n      <td>16651409</td>\n      <td>1676673263</td>\n      <td>0xd33e76d21d32c21811593ae54e38f68df0cfe8ed</td>\n      <td>0xc413dd03555f3eb29d834b482d386b2999dc2eb0</td>\n      <td>0xd998c35b7900b344bbbe6555cc11576942cf309d</td>\n      <td>0.117764</td>\n      <td>None</td>\n      <td>LENDER</td>\n      <td>VARIABLE</td>\n      <td>0xc02aaa39b223fe8d0a0e5c4f27ead9083c756cc2</td>\n      <td>Governance OHM</td>\n      <td>gOHM</td>\n      <td>18</td>\n      <td>2809.009098</td>\n      <td>48922199130466954750</td>\n      <td>138354.126796</td>\n    </tr>\n    <tr>\n      <th>5</th>\n      <td>0xecd6140bbb896413a25d34ca87f5503b56c444f1e582...</td>\n      <td>0xecd6140bbb896413a25d34ca87f5503b56c444f1e582...</td>\n      <td>16651409</td>\n      <td>1676673263</td>\n      <td>0xd33e76d21d32c21811593ae54e38f68df0cfe8ed</td>\n      <td>0xc413dd03555f3eb29d834b482d386b2999dc2eb0</td>\n      <td>0xd998c35b7900b344bbbe6555cc11576942cf309d</td>\n      <td>1.614000</td>\n      <td>None</td>\n      <td>LENDER</td>\n      <td>VARIABLE</td>\n      <td>0xd7c9f0e536dc865ae858b0c0453fe76d13c3beac</td>\n      <td>Governance OHM</td>\n      <td>gOHM</td>\n      <td>18</td>\n      <td>2809.009098</td>\n      <td>48922199130466954750</td>\n      <td>138354.126796</td>\n    </tr>\n  </tbody>\n</table>\n</div>"
     },
     "execution_count": 758,
     "metadata": {},
     "output_type": "execute_result"
    }
   ],
   "source": [
    "siloDepositsDb.head(10)"
   ],
   "metadata": {
    "collapsed": false
   }
  },
  {
   "cell_type": "markdown",
   "source": [],
   "metadata": {
    "collapsed": false
   }
  },
  {
   "cell_type": "code",
   "execution_count": 759,
   "outputs": [
    {
     "data": {
      "text/plain": "     event                                      deposits_hash  \\\n0  deposit  0xecd6140bbb896413a25d34ca87f5503b56c444f1e582...   \n\n   deposits_blockNumber  deposits_timestamp  \\\n0              16651409          1676673263   \n\n                          deposits_account_id  \\\n0  0xd33e76d21d32c21811593ae54e38f68df0cfe8ed   \n\n                           deposits_market_id deposits_asset_name  \\\n0  0xc413dd03555f3eb29d834b482d386b2999dc2eb0      Governance OHM   \n\n  deposits_asset_symbol  depositsReadableAmount  deposits_asset_lastPriceUSD  \\\n0                  gOHM               48.922199                  2809.009098   \n\n   deposits_amountUSD            dateTime    calDate  \n0       138354.126796 2023-02-17 22:34:23 2023-02-17  ",
      "text/html": "<div>\n<style scoped>\n    .dataframe tbody tr th:only-of-type {\n        vertical-align: middle;\n    }\n\n    .dataframe tbody tr th {\n        vertical-align: top;\n    }\n\n    .dataframe thead th {\n        text-align: right;\n    }\n</style>\n<table border=\"1\" class=\"dataframe\">\n  <thead>\n    <tr style=\"text-align: right;\">\n      <th></th>\n      <th>event</th>\n      <th>deposits_hash</th>\n      <th>deposits_blockNumber</th>\n      <th>deposits_timestamp</th>\n      <th>deposits_account_id</th>\n      <th>deposits_market_id</th>\n      <th>deposits_asset_name</th>\n      <th>deposits_asset_symbol</th>\n      <th>depositsReadableAmount</th>\n      <th>deposits_asset_lastPriceUSD</th>\n      <th>deposits_amountUSD</th>\n      <th>dateTime</th>\n      <th>calDate</th>\n    </tr>\n  </thead>\n  <tbody>\n    <tr>\n      <th>0</th>\n      <td>deposit</td>\n      <td>0xecd6140bbb896413a25d34ca87f5503b56c444f1e582...</td>\n      <td>16651409</td>\n      <td>1676673263</td>\n      <td>0xd33e76d21d32c21811593ae54e38f68df0cfe8ed</td>\n      <td>0xc413dd03555f3eb29d834b482d386b2999dc2eb0</td>\n      <td>Governance OHM</td>\n      <td>gOHM</td>\n      <td>48.922199</td>\n      <td>2809.009098</td>\n      <td>138354.126796</td>\n      <td>2023-02-17 22:34:23</td>\n      <td>2023-02-17</td>\n    </tr>\n  </tbody>\n</table>\n</div>"
     },
     "execution_count": 759,
     "metadata": {},
     "output_type": "execute_result"
    }
   ],
   "source": [
    "siloDepositsDb['event'] ='deposit'\n",
    "siloDepositsDb['depositsReadableAmount'] = siloDepositsDb['deposits_amount']/(10**(siloDepositsDb['deposits_asset_decimals']))\n",
    "siloDepositsDb['depositsReadableAmount']=siloDepositsDb['depositsReadableAmount'].astype('float')\n",
    "siloDepositsDb['dateTime'] =(pd.to_datetime(siloDepositsDb['deposits_timestamp'],unit='s'))\n",
    "\n",
    "\n",
    "#we only want deposits in GOHM from those that borrowed, so drop anyone that is not on that side\n",
    "siloDepositsDb.drop(siloDepositsDb.loc[siloDepositsDb['deposits_market_rates_side']!='BORROWER'].index, inplace=True)\n",
    "siloDepositsDb.drop(siloDepositsDb.loc[siloDepositsDb['deposits_asset_symbol']!='gOHM'].index, inplace=True)\n",
    "\n",
    "\n",
    "siloDepositEventsDbTimedClean = siloDepositsDb[['event','deposits_hash','deposits_blockNumber','deposits_timestamp','deposits_account_id','deposits_market_id','deposits_asset_name','deposits_asset_symbol', 'depositsReadableAmount','deposits_asset_lastPriceUSD','deposits_amountUSD','dateTime']].copy()\n",
    "siloDepositEventsDbTimedClean.sort_values(by=['event','deposits_hash','deposits_blockNumber','deposits_timestamp','deposits_account_id','deposits_market_id','deposits_asset_name','deposits_asset_symbol', 'depositsReadableAmount','deposits_asset_lastPriceUSD','deposits_amountUSD','dateTime'])\n",
    "siloDepositEventsDbTimedClean.drop_duplicates(subset=['deposits_hash'],keep='first', inplace=True)\n",
    "siloDepositEventsDbTimedClean['calDate'] = siloDepositEventsDbTimedClean['dateTime'].dt.normalize()\n",
    "siloDepositEventsDbTimedClean.head(1000)"
   ],
   "metadata": {
    "collapsed": false
   }
  },
  {
   "cell_type": "code",
   "execution_count": 760,
   "outputs": [
    {
     "name": "stdout",
     "output_type": "stream",
     "text": [
      "D:\\Dropbox\\Documents\\Edgecaser LLC\\Projects\\Olympus\\Econohmetrics\\gohmAsStablecoinCollateral/data/siloFinanceGohmDeposits_piped.csv file saved, 1  records\n"
     ]
    }
   ],
   "source": [
    "path =file+'/siloFinanceGohmDeposits.csv'\n",
    "siloDepositEventsDbTimedClean.to_csv(path, index = False)\n",
    "\n",
    "path =file+'/siloFinanceGohmDeposits_piped.csv'\n",
    "siloDepositEventsDbTimedClean.to_csv(path, index = False, sep='|')\n",
    "print(path, 'file saved,', len(siloDepositEventsDbTimedClean),' records')"
   ],
   "metadata": {
    "collapsed": false
   }
  },
  {
   "cell_type": "code",
   "execution_count": 764,
   "outputs": [
    {
     "name": "stdout",
     "output_type": "stream",
     "text": [
      "There has been a total of 48.92 gOHM deposited cumulatively as collateral  to date, about USD$ 138354.1267963194\n"
     ]
    }
   ],
   "source": [
    "totalDeposited = sum(siloDepositEventsDbTimedClean['depositsReadableAmount'])\n",
    "totalUSDDeposited = sum(siloDepositEventsDbTimedClean['deposits_amountUSD'])\n",
    "print('There has been a total of',round(totalDeposited,2),  'gOHM deposited cumulatively as collateral  to date, about USD$',totalUSDDeposited)"
   ],
   "metadata": {
    "collapsed": false
   }
  },
  {
   "cell_type": "markdown",
   "source": [
    "********************************************************************\n",
    "********************************************************************\n",
    "Now we need withdrawals to counter the deposits and see current state"
   ],
   "metadata": {
    "collapsed": false
   }
  },
  {
   "cell_type": "code",
   "execution_count": 768,
   "outputs": [
    {
     "data": {
      "text/plain": "       event                                   transaction_hash  \\\n0   withdraw  0xf4707edc29622f90030af624d1918ff5ae613cef90d8...   \n1   withdraw  0x85b689883076aa92af0a2356f8e4084610578bb48590...   \n2   withdraw  0xd931b79cfc34df088f325e8adde9122af7ad64a0ba30...   \n3   withdraw  0xd4f7aeb47e1e07903a3e9298762bc164764fffb2f973...   \n4   withdraw  0xc7193a2aa216c65fe82652e85b4adc20a60b274bd070...   \n5   withdraw  0xed87a5e09b9abe135be66d51493eca516d78aaf1d4d5...   \n6   withdraw  0xcfa1e8a102e407470f7cc479576cceab5f872c1a1377...   \n7   withdraw  0xb8682e4d0d5fe1297f21ff66347debdfc75c3956612d...   \n8   withdraw  0xcc9db9a7563b473c4b8e4ca0f4f7fb90ca709b022469...   \n9   withdraw  0x7c24d04318da39f08c7ba4f8d413a487133ce1b1f117...   \n10  withdraw  0x3cf3a5658c3ef1a247ec241370a3abfeb673251eafec...   \n11  withdraw  0xbb87996c54ed5859d905c96b7b43212cdbc74b1c99aa...   \n\n    transaction_blockNumber  transaction_timestamp  \\\n0                  16635032             1676474867   \n1                  16634844             1676472599   \n2                  16628161             1676391839   \n3                  16627341             1676381987   \n4                  16601676             1676072123   \n5                  16589407             1675924055   \n6                  16574012             1675737947   \n7                  16483146             1674641375   \n8                  16366146             1673230019   \n9                  16242703             1671741731   \n10                 16176122             1670938643   \n11                 16036062             1669247351   \n\n                        transaction_account_id  \\\n0   0x0493bcca897a2248ae3cd4c66aea90dbfc7e13c6   \n1   0xb0399dac8f4d4100b49b2a7b3873481114229d18   \n2   0xb0399dac8f4d4100b49b2a7b3873481114229d18   \n3   0xc0b1f200aa9546ce074397bed7438bb2ec033877   \n4   0xa7daeb7fc210f934508c8c7ce833a2cdd6630fb3   \n5   0xb0399dac8f4d4100b49b2a7b3873481114229d18   \n6   0xd3064611b24eba7a6dbcbc26c1b35dfee1170880   \n7   0xee1520f94f304e8d551cbf310fe214212e3ca34a   \n8   0x25fdda95197f804316f5ba8dbb66ac173ee19981   \n9   0x96035b45bc0d22f0ed11283a91145fb001c48370   \n10  0x791d1ec51d931186c1d4b80e753b7155dd98f741   \n11  0x62a4a8f9f5f3aae9ee9cee780285a0d501c12d09   \n\n                         transaction_market_id transaction_asset_name  \\\n0   0xc413dd03555f3eb29d834b482d386b2999dc2eb0         Governance OHM   \n1   0xc413dd03555f3eb29d834b482d386b2999dc2eb0         Governance OHM   \n2   0xc413dd03555f3eb29d834b482d386b2999dc2eb0         Governance OHM   \n3   0xc413dd03555f3eb29d834b482d386b2999dc2eb0         Governance OHM   \n4   0xc413dd03555f3eb29d834b482d386b2999dc2eb0         Governance OHM   \n5   0xc413dd03555f3eb29d834b482d386b2999dc2eb0         Governance OHM   \n6   0xc413dd03555f3eb29d834b482d386b2999dc2eb0         Governance OHM   \n7   0xc413dd03555f3eb29d834b482d386b2999dc2eb0         Governance OHM   \n8   0xc413dd03555f3eb29d834b482d386b2999dc2eb0         Governance OHM   \n9   0xc413dd03555f3eb29d834b482d386b2999dc2eb0         Governance OHM   \n10  0xc413dd03555f3eb29d834b482d386b2999dc2eb0         Governance OHM   \n11  0xc413dd03555f3eb29d834b482d386b2999dc2eb0         Governance OHM   \n\n   transaction_asset_symbol  transactionReadableAmount  \\\n0                      gOHM                  25.000039   \n1                      gOHM                  64.393035   \n2                      gOHM                  36.000000   \n3                      gOHM                   0.883213   \n4                      gOHM                   0.137814   \n5                      gOHM                  19.607121   \n6                      gOHM                   0.194798   \n7                      gOHM                  20.000000   \n8                      gOHM                   2.252766   \n9                      gOHM                  13.520668   \n10                     gOHM                   0.020000   \n11                     gOHM                   0.168240   \n\n    transaction_asset_lastPriceUSD  transaction_amountUSD  \\\n0                      2809.419269           71148.084004   \n1                      2809.419269          183257.358356   \n2                      2809.419269          100991.276713   \n3                      2809.419269            2401.521741   \n4                      2809.419269             363.447391   \n5                      2809.419269           51919.381911   \n6                      2809.419269             510.055435   \n7                      2809.419269           51345.559733   \n8                      2809.419269            5812.081890   \n9                      2809.419269           34629.263098   \n10                     2809.419269              51.410624   \n11                     2809.419269             375.708151   \n\n               dateTime     calDate  \n0   2023-02-15 15:27:47  2023-02-15  \n1   2023-02-15 14:49:59  2023-02-15  \n2   2023-02-14 16:23:59  2023-02-14  \n3   2023-02-14 13:39:47  2023-02-14  \n4   2023-02-10 23:35:23  2023-02-10  \n5   2023-02-09 06:27:35  2023-02-09  \n6   2023-02-07 02:45:47  2023-02-07  \n7   2023-01-25 10:09:35  2023-01-25  \n8   2023-01-09 02:06:59  2023-01-09  \n9   2022-12-22 20:42:11  2022-12-22  \n10  2022-12-13 13:37:23  2022-12-13  \n11  2022-11-23 23:49:11  2022-11-23  ",
      "text/html": "<div>\n<style scoped>\n    .dataframe tbody tr th:only-of-type {\n        vertical-align: middle;\n    }\n\n    .dataframe tbody tr th {\n        vertical-align: top;\n    }\n\n    .dataframe thead th {\n        text-align: right;\n    }\n</style>\n<table border=\"1\" class=\"dataframe\">\n  <thead>\n    <tr style=\"text-align: right;\">\n      <th></th>\n      <th>event</th>\n      <th>transaction_hash</th>\n      <th>transaction_blockNumber</th>\n      <th>transaction_timestamp</th>\n      <th>transaction_account_id</th>\n      <th>transaction_market_id</th>\n      <th>transaction_asset_name</th>\n      <th>transaction_asset_symbol</th>\n      <th>transactionReadableAmount</th>\n      <th>transaction_asset_lastPriceUSD</th>\n      <th>transaction_amountUSD</th>\n      <th>dateTime</th>\n      <th>calDate</th>\n    </tr>\n  </thead>\n  <tbody>\n    <tr>\n      <th>0</th>\n      <td>withdraw</td>\n      <td>0xf4707edc29622f90030af624d1918ff5ae613cef90d8...</td>\n      <td>16635032</td>\n      <td>1676474867</td>\n      <td>0x0493bcca897a2248ae3cd4c66aea90dbfc7e13c6</td>\n      <td>0xc413dd03555f3eb29d834b482d386b2999dc2eb0</td>\n      <td>Governance OHM</td>\n      <td>gOHM</td>\n      <td>25.000039</td>\n      <td>2809.419269</td>\n      <td>71148.084004</td>\n      <td>2023-02-15 15:27:47</td>\n      <td>2023-02-15</td>\n    </tr>\n    <tr>\n      <th>1</th>\n      <td>withdraw</td>\n      <td>0x85b689883076aa92af0a2356f8e4084610578bb48590...</td>\n      <td>16634844</td>\n      <td>1676472599</td>\n      <td>0xb0399dac8f4d4100b49b2a7b3873481114229d18</td>\n      <td>0xc413dd03555f3eb29d834b482d386b2999dc2eb0</td>\n      <td>Governance OHM</td>\n      <td>gOHM</td>\n      <td>64.393035</td>\n      <td>2809.419269</td>\n      <td>183257.358356</td>\n      <td>2023-02-15 14:49:59</td>\n      <td>2023-02-15</td>\n    </tr>\n    <tr>\n      <th>2</th>\n      <td>withdraw</td>\n      <td>0xd931b79cfc34df088f325e8adde9122af7ad64a0ba30...</td>\n      <td>16628161</td>\n      <td>1676391839</td>\n      <td>0xb0399dac8f4d4100b49b2a7b3873481114229d18</td>\n      <td>0xc413dd03555f3eb29d834b482d386b2999dc2eb0</td>\n      <td>Governance OHM</td>\n      <td>gOHM</td>\n      <td>36.000000</td>\n      <td>2809.419269</td>\n      <td>100991.276713</td>\n      <td>2023-02-14 16:23:59</td>\n      <td>2023-02-14</td>\n    </tr>\n    <tr>\n      <th>3</th>\n      <td>withdraw</td>\n      <td>0xd4f7aeb47e1e07903a3e9298762bc164764fffb2f973...</td>\n      <td>16627341</td>\n      <td>1676381987</td>\n      <td>0xc0b1f200aa9546ce074397bed7438bb2ec033877</td>\n      <td>0xc413dd03555f3eb29d834b482d386b2999dc2eb0</td>\n      <td>Governance OHM</td>\n      <td>gOHM</td>\n      <td>0.883213</td>\n      <td>2809.419269</td>\n      <td>2401.521741</td>\n      <td>2023-02-14 13:39:47</td>\n      <td>2023-02-14</td>\n    </tr>\n    <tr>\n      <th>4</th>\n      <td>withdraw</td>\n      <td>0xc7193a2aa216c65fe82652e85b4adc20a60b274bd070...</td>\n      <td>16601676</td>\n      <td>1676072123</td>\n      <td>0xa7daeb7fc210f934508c8c7ce833a2cdd6630fb3</td>\n      <td>0xc413dd03555f3eb29d834b482d386b2999dc2eb0</td>\n      <td>Governance OHM</td>\n      <td>gOHM</td>\n      <td>0.137814</td>\n      <td>2809.419269</td>\n      <td>363.447391</td>\n      <td>2023-02-10 23:35:23</td>\n      <td>2023-02-10</td>\n    </tr>\n    <tr>\n      <th>5</th>\n      <td>withdraw</td>\n      <td>0xed87a5e09b9abe135be66d51493eca516d78aaf1d4d5...</td>\n      <td>16589407</td>\n      <td>1675924055</td>\n      <td>0xb0399dac8f4d4100b49b2a7b3873481114229d18</td>\n      <td>0xc413dd03555f3eb29d834b482d386b2999dc2eb0</td>\n      <td>Governance OHM</td>\n      <td>gOHM</td>\n      <td>19.607121</td>\n      <td>2809.419269</td>\n      <td>51919.381911</td>\n      <td>2023-02-09 06:27:35</td>\n      <td>2023-02-09</td>\n    </tr>\n    <tr>\n      <th>6</th>\n      <td>withdraw</td>\n      <td>0xcfa1e8a102e407470f7cc479576cceab5f872c1a1377...</td>\n      <td>16574012</td>\n      <td>1675737947</td>\n      <td>0xd3064611b24eba7a6dbcbc26c1b35dfee1170880</td>\n      <td>0xc413dd03555f3eb29d834b482d386b2999dc2eb0</td>\n      <td>Governance OHM</td>\n      <td>gOHM</td>\n      <td>0.194798</td>\n      <td>2809.419269</td>\n      <td>510.055435</td>\n      <td>2023-02-07 02:45:47</td>\n      <td>2023-02-07</td>\n    </tr>\n    <tr>\n      <th>7</th>\n      <td>withdraw</td>\n      <td>0xb8682e4d0d5fe1297f21ff66347debdfc75c3956612d...</td>\n      <td>16483146</td>\n      <td>1674641375</td>\n      <td>0xee1520f94f304e8d551cbf310fe214212e3ca34a</td>\n      <td>0xc413dd03555f3eb29d834b482d386b2999dc2eb0</td>\n      <td>Governance OHM</td>\n      <td>gOHM</td>\n      <td>20.000000</td>\n      <td>2809.419269</td>\n      <td>51345.559733</td>\n      <td>2023-01-25 10:09:35</td>\n      <td>2023-01-25</td>\n    </tr>\n    <tr>\n      <th>8</th>\n      <td>withdraw</td>\n      <td>0xcc9db9a7563b473c4b8e4ca0f4f7fb90ca709b022469...</td>\n      <td>16366146</td>\n      <td>1673230019</td>\n      <td>0x25fdda95197f804316f5ba8dbb66ac173ee19981</td>\n      <td>0xc413dd03555f3eb29d834b482d386b2999dc2eb0</td>\n      <td>Governance OHM</td>\n      <td>gOHM</td>\n      <td>2.252766</td>\n      <td>2809.419269</td>\n      <td>5812.081890</td>\n      <td>2023-01-09 02:06:59</td>\n      <td>2023-01-09</td>\n    </tr>\n    <tr>\n      <th>9</th>\n      <td>withdraw</td>\n      <td>0x7c24d04318da39f08c7ba4f8d413a487133ce1b1f117...</td>\n      <td>16242703</td>\n      <td>1671741731</td>\n      <td>0x96035b45bc0d22f0ed11283a91145fb001c48370</td>\n      <td>0xc413dd03555f3eb29d834b482d386b2999dc2eb0</td>\n      <td>Governance OHM</td>\n      <td>gOHM</td>\n      <td>13.520668</td>\n      <td>2809.419269</td>\n      <td>34629.263098</td>\n      <td>2022-12-22 20:42:11</td>\n      <td>2022-12-22</td>\n    </tr>\n    <tr>\n      <th>10</th>\n      <td>withdraw</td>\n      <td>0x3cf3a5658c3ef1a247ec241370a3abfeb673251eafec...</td>\n      <td>16176122</td>\n      <td>1670938643</td>\n      <td>0x791d1ec51d931186c1d4b80e753b7155dd98f741</td>\n      <td>0xc413dd03555f3eb29d834b482d386b2999dc2eb0</td>\n      <td>Governance OHM</td>\n      <td>gOHM</td>\n      <td>0.020000</td>\n      <td>2809.419269</td>\n      <td>51.410624</td>\n      <td>2022-12-13 13:37:23</td>\n      <td>2022-12-13</td>\n    </tr>\n    <tr>\n      <th>11</th>\n      <td>withdraw</td>\n      <td>0xbb87996c54ed5859d905c96b7b43212cdbc74b1c99aa...</td>\n      <td>16036062</td>\n      <td>1669247351</td>\n      <td>0x62a4a8f9f5f3aae9ee9cee780285a0d501c12d09</td>\n      <td>0xc413dd03555f3eb29d834b482d386b2999dc2eb0</td>\n      <td>Governance OHM</td>\n      <td>gOHM</td>\n      <td>0.168240</td>\n      <td>2809.419269</td>\n      <td>375.708151</td>\n      <td>2022-11-23 23:49:11</td>\n      <td>2022-11-23</td>\n    </tr>\n  </tbody>\n</table>\n</div>"
     },
     "execution_count": 768,
     "metadata": {},
     "output_type": "execute_result"
    }
   ],
   "source": [
    "oldSiloWithdrawsDb = pd.DataFrame()\n",
    "siloFileName = file+'/siloFinanceGohmWithdraws.csv'\n",
    "try:\n",
    "    oldSiloWithdrawsDb = pd.read_csv (siloFileName)\n",
    "except:\n",
    "    oldSiloWithdrawsDb = pd.DataFrame()\n",
    "oldSiloWithdrawsDb.head(100)"
   ],
   "metadata": {
    "collapsed": false
   }
  },
  {
   "cell_type": "code",
   "execution_count": 773,
   "outputs": [
    {
     "data": {
      "text/plain": "1676474866"
     },
     "execution_count": 773,
     "metadata": {},
     "output_type": "execute_result"
    }
   ],
   "source": [
    "maxSiloWithdrawsTimestamp = 0\n",
    "try:\n",
    "    maxSiloWithdrawsTimestamp = (max(0,oldSiloWithdrawsDb['transaction_timestamp'].max()))-1\n",
    "except:\n",
    "        maxSiloWithdrawsTimestamp = 0\n",
    "maxSiloWithdrawsTimestamp = int(maxSiloWithdrawsTimestamp)\n",
    "maxSiloWithdrawsTimestamp"
   ],
   "metadata": {
    "collapsed": false
   }
  },
  {
   "cell_type": "code",
   "execution_count": 775,
   "outputs": [
    {
     "name": "stdout",
     "output_type": "stream",
     "text": [
      "iterations:  0 Lines skipped:  0 records collected:  12  - latest recordID:  0x6874260982e867567e9455254ce574aba7f95db4d6f82bc2485bd1b40a71a83e   0x6874260982e867567e9455254ce574aba7f95db4d6f82bc2485bd1b40a71a83e-347  - withdraws DB length:  12  - latest record from:  2023-02-15 14:58:59 4 days ago\n",
      "Done. Total Records collected:  12\n"
     ]
    }
   ],
   "source": [
    "##this captures the ENTIRE list of people who withdrawed OHM\n",
    "withdrawTicker = 0\n",
    "withdrawslist = pd.DataFrame()\n",
    "siloWithdrawsDb = pd.DataFrame()\n",
    "withdrawListLength = 1000\n",
    "datediff = 0\n",
    "now=0\n",
    "daysAgo=0\n",
    "daysLimit = 45\n",
    "exit = False\n",
    "while exit==False:\n",
    "    skipValue = (withdrawTicker)*(1000)\n",
    "    withdraws = silo.Query.withdraws(\n",
    "        orderBy='timestamp',\n",
    "        orderDirection='desc',\n",
    "        first=1000,\n",
    "        skip = skipValue,\n",
    "        where={ 'market': '0xc413dd03555f3eb29d834b482d386b2999dc2eb0'\n",
    "                ,'timestamp_gte': maxSiloWithdrawsTimestamp\n",
    "                } #gOHM market\n",
    "    )\n",
    "\n",
    "    withdrawslist = sg.query_df([\n",
    "        withdraws.id\n",
    "        ,withdraws.hash\n",
    "        ,withdraws.blockNumber\n",
    "        ,withdraws.timestamp\n",
    "        ,withdraws.account.id\n",
    "        ,withdraws.market.id\n",
    "        ,withdraws.market.protocol.id\n",
    "        ,withdraws.market.rates.rate\n",
    "        ,withdraws.market.rates.duration\n",
    "        ,withdraws.market.rates.side\n",
    "        ,withdraws.market.rates.type\n",
    "        ,withdraws.market.rates.token.id\n",
    "        ,withdraws.asset.name\n",
    "        ,withdraws.asset.symbol\n",
    "        ,withdraws.asset.decimals\n",
    "        ,withdraws.asset.lastPriceUSD\n",
    "        ,withdraws.amount\n",
    "        ,withdraws.amountUSD\n",
    "    ])\n",
    "\n",
    "    siloWithdrawsDb=pd.concat([siloWithdrawsDb, withdrawslist])\n",
    "    recordTimestamp1 = siloWithdrawsDb.iat[withdrawTicker,3]\n",
    "    recordTimestamp = dt.datetime.fromtimestamp( recordTimestamp1 )\n",
    "    now = (int(dt.datetime.utcnow().timestamp()))\n",
    "    datediff=abs(int(now) - recordTimestamp1)\n",
    "    daysAgo = int(datediff/86400)\n",
    "    silowithdrawsDbLength = len(siloWithdrawsDb)\n",
    "    silowithdrawListLength = len(withdrawslist)\n",
    "    recordID = siloWithdrawsDb.iat[withdrawTicker,0]\n",
    "    withdraw = siloWithdrawsDb.iat[withdrawTicker,1]\n",
    "    print(\"iterations: \", withdrawTicker, \"Lines skipped: \",skipValue, \"records collected: \", silowithdrawListLength, \" - latest recordID: \",withdraw, \" \", recordID , \" - withdraws DB length: \", silowithdrawsDbLength, \" - latest record from: \", recordTimestamp, daysAgo,\"days ago\")\n",
    "    #print(\"iterations: \", withdrawTicker, \"records collected: \", withdrawListLength, \" - userdb length: \", withdrawsDbLength)\n",
    "    withdrawTicker = withdrawTicker+1\n",
    "\n",
    "    if daysAgo>daysLimit: exit =True\n",
    "    if silowithdrawListLength<1000: exit =True\n",
    "\n",
    "siloWithdrawsDb.columns = siloWithdrawsDb.columns.str.replace(\"withdraws\", \"transaction\")\n",
    "siloWithdrawsDb['event']='withdraw'\n",
    "siloWithdrawsDb.drop_duplicates\n",
    "print(\"Done. Total Records collected: \", silowithdrawsDbLength)"
   ],
   "metadata": {
    "collapsed": false
   }
  },
  {
   "cell_type": "code",
   "execution_count": 776,
   "outputs": [
    {
     "data": {
      "text/plain": "                                      transaction_id  \\\n6  0xf4707edc29622f90030af624d1918ff5ae613cef90d8...   \n7  0xf4707edc29622f90030af624d1918ff5ae613cef90d8...   \n8  0xf4707edc29622f90030af624d1918ff5ae613cef90d8...   \n\n                                    transaction_hash  transaction_blockNumber  \\\n6  0xf4707edc29622f90030af624d1918ff5ae613cef90d8...                 16635032   \n7  0xf4707edc29622f90030af624d1918ff5ae613cef90d8...                 16635032   \n8  0xf4707edc29622f90030af624d1918ff5ae613cef90d8...                 16635032   \n\n   transaction_timestamp                      transaction_account_id  \\\n6             1676474867  0x0493bcca897a2248ae3cd4c66aea90dbfc7e13c6   \n7             1676474867  0x0493bcca897a2248ae3cd4c66aea90dbfc7e13c6   \n8             1676474867  0x0493bcca897a2248ae3cd4c66aea90dbfc7e13c6   \n\n                        transaction_market_id  \\\n6  0xc413dd03555f3eb29d834b482d386b2999dc2eb0   \n7  0xc413dd03555f3eb29d834b482d386b2999dc2eb0   \n8  0xc413dd03555f3eb29d834b482d386b2999dc2eb0   \n\n               transaction_market_protocol_id  transaction_market_rates_rate  \\\n6  0xd998c35b7900b344bbbe6555cc11576942cf309d                       0.000000   \n7  0xd998c35b7900b344bbbe6555cc11576942cf309d                       0.983536   \n8  0xd998c35b7900b344bbbe6555cc11576942cf309d                       2.840751   \n\n  transaction_market_rates_duration transaction_market_rates_side  ...  \\\n6                              None                      BORROWER  ...   \n7                              None                      BORROWER  ...   \n8                              None                      BORROWER  ...   \n\n            transaction_market_rates_token_id transaction_asset_name  \\\n6  0x0ab87046fbb341d058f17cbc4c1133f25a20a52f         Governance OHM   \n7  0xc02aaa39b223fe8d0a0e5c4f27ead9083c756cc2         Governance OHM   \n8  0xd7c9f0e536dc865ae858b0c0453fe76d13c3beac         Governance OHM   \n\n  transaction_asset_symbol transaction_asset_decimals  \\\n6                     gOHM                         18   \n7                     gOHM                         18   \n8                     gOHM                         18   \n\n   transaction_asset_lastPriceUSD    transaction_amount transaction_amountUSD  \\\n6                     2809.009098  25000038820033231117          71148.084004   \n7                     2809.009098  25000038820033231117          71148.084004   \n8                     2809.009098  25000038820033231117          71148.084004   \n\n      event transactionReadableAmount            dateTime  \n6  withdraw                 25.000039 2023-02-15 15:27:47  \n7  withdraw                 25.000039 2023-02-15 15:27:47  \n8  withdraw                 25.000039 2023-02-15 15:27:47  \n\n[3 rows x 21 columns]",
      "text/html": "<div>\n<style scoped>\n    .dataframe tbody tr th:only-of-type {\n        vertical-align: middle;\n    }\n\n    .dataframe tbody tr th {\n        vertical-align: top;\n    }\n\n    .dataframe thead th {\n        text-align: right;\n    }\n</style>\n<table border=\"1\" class=\"dataframe\">\n  <thead>\n    <tr style=\"text-align: right;\">\n      <th></th>\n      <th>transaction_id</th>\n      <th>transaction_hash</th>\n      <th>transaction_blockNumber</th>\n      <th>transaction_timestamp</th>\n      <th>transaction_account_id</th>\n      <th>transaction_market_id</th>\n      <th>transaction_market_protocol_id</th>\n      <th>transaction_market_rates_rate</th>\n      <th>transaction_market_rates_duration</th>\n      <th>transaction_market_rates_side</th>\n      <th>...</th>\n      <th>transaction_market_rates_token_id</th>\n      <th>transaction_asset_name</th>\n      <th>transaction_asset_symbol</th>\n      <th>transaction_asset_decimals</th>\n      <th>transaction_asset_lastPriceUSD</th>\n      <th>transaction_amount</th>\n      <th>transaction_amountUSD</th>\n      <th>event</th>\n      <th>transactionReadableAmount</th>\n      <th>dateTime</th>\n    </tr>\n  </thead>\n  <tbody>\n    <tr>\n      <th>6</th>\n      <td>0xf4707edc29622f90030af624d1918ff5ae613cef90d8...</td>\n      <td>0xf4707edc29622f90030af624d1918ff5ae613cef90d8...</td>\n      <td>16635032</td>\n      <td>1676474867</td>\n      <td>0x0493bcca897a2248ae3cd4c66aea90dbfc7e13c6</td>\n      <td>0xc413dd03555f3eb29d834b482d386b2999dc2eb0</td>\n      <td>0xd998c35b7900b344bbbe6555cc11576942cf309d</td>\n      <td>0.000000</td>\n      <td>None</td>\n      <td>BORROWER</td>\n      <td>...</td>\n      <td>0x0ab87046fbb341d058f17cbc4c1133f25a20a52f</td>\n      <td>Governance OHM</td>\n      <td>gOHM</td>\n      <td>18</td>\n      <td>2809.009098</td>\n      <td>25000038820033231117</td>\n      <td>71148.084004</td>\n      <td>withdraw</td>\n      <td>25.000039</td>\n      <td>2023-02-15 15:27:47</td>\n    </tr>\n    <tr>\n      <th>7</th>\n      <td>0xf4707edc29622f90030af624d1918ff5ae613cef90d8...</td>\n      <td>0xf4707edc29622f90030af624d1918ff5ae613cef90d8...</td>\n      <td>16635032</td>\n      <td>1676474867</td>\n      <td>0x0493bcca897a2248ae3cd4c66aea90dbfc7e13c6</td>\n      <td>0xc413dd03555f3eb29d834b482d386b2999dc2eb0</td>\n      <td>0xd998c35b7900b344bbbe6555cc11576942cf309d</td>\n      <td>0.983536</td>\n      <td>None</td>\n      <td>BORROWER</td>\n      <td>...</td>\n      <td>0xc02aaa39b223fe8d0a0e5c4f27ead9083c756cc2</td>\n      <td>Governance OHM</td>\n      <td>gOHM</td>\n      <td>18</td>\n      <td>2809.009098</td>\n      <td>25000038820033231117</td>\n      <td>71148.084004</td>\n      <td>withdraw</td>\n      <td>25.000039</td>\n      <td>2023-02-15 15:27:47</td>\n    </tr>\n    <tr>\n      <th>8</th>\n      <td>0xf4707edc29622f90030af624d1918ff5ae613cef90d8...</td>\n      <td>0xf4707edc29622f90030af624d1918ff5ae613cef90d8...</td>\n      <td>16635032</td>\n      <td>1676474867</td>\n      <td>0x0493bcca897a2248ae3cd4c66aea90dbfc7e13c6</td>\n      <td>0xc413dd03555f3eb29d834b482d386b2999dc2eb0</td>\n      <td>0xd998c35b7900b344bbbe6555cc11576942cf309d</td>\n      <td>2.840751</td>\n      <td>None</td>\n      <td>BORROWER</td>\n      <td>...</td>\n      <td>0xd7c9f0e536dc865ae858b0c0453fe76d13c3beac</td>\n      <td>Governance OHM</td>\n      <td>gOHM</td>\n      <td>18</td>\n      <td>2809.009098</td>\n      <td>25000038820033231117</td>\n      <td>71148.084004</td>\n      <td>withdraw</td>\n      <td>25.000039</td>\n      <td>2023-02-15 15:27:47</td>\n    </tr>\n  </tbody>\n</table>\n<p>3 rows × 21 columns</p>\n</div>"
     },
     "execution_count": 776,
     "metadata": {},
     "output_type": "execute_result"
    }
   ],
   "source": [
    "siloWithdrawEventsDbTimedClean = pd.DataFrame()\n",
    "siloWithdrawsDb['transactionReadableAmount'] = siloWithdrawsDb['transaction_amount']/(10**(siloWithdrawsDb['transaction_asset_decimals']))\n",
    "siloWithdrawsDb['transactionReadableAmount']=siloWithdrawsDb['transactionReadableAmount'].astype('float')\n",
    "siloWithdrawsDb['dateTime'] =(pd.to_datetime(siloWithdrawsDb['transaction_timestamp'],unit='s'))\n",
    "\n",
    "#we only want withdrawals in GOHM from those that borrowed, so drop anyone that is not on that side\n",
    "siloWithdrawsDb.drop(siloWithdrawsDb.loc[siloWithdrawsDb['transaction_market_rates_side']!='BORROWER'].index, inplace=True)\n",
    "siloWithdrawsDb.drop(siloWithdrawsDb.loc[siloWithdrawsDb['transaction_asset_symbol']!='gOHM'].index, inplace=True)\n",
    "\n",
    "siloWithdrawEventsDbTimedClean = siloWithdrawsDb[['event','transaction_hash','transaction_blockNumber','transaction_timestamp','transaction_account_id','transaction_market_id','transaction_asset_name','transaction_asset_symbol', 'transactionReadableAmount','transaction_asset_lastPriceUSD','transaction_amountUSD','dateTime']].copy()\n",
    "siloWithdrawEventsDbTimedClean.sort_values(by=['event','transaction_hash','transaction_blockNumber','transaction_timestamp','transaction_account_id','transaction_market_id','transaction_asset_name','transaction_asset_symbol', 'transactionReadableAmount','transaction_asset_lastPriceUSD','transaction_amountUSD','dateTime'])\n",
    "siloWithdrawEventsDbTimedClean.drop_duplicates(subset=['transaction_hash'],keep='first', inplace=True)\n",
    "siloWithdrawEventsDbTimedClean['calDate'] = siloWithdrawEventsDbTimedClean['dateTime'].dt.normalize()\n",
    "siloWithdrawsDb.head(100)"
   ],
   "metadata": {
    "collapsed": false
   }
  },
  {
   "cell_type": "code",
   "execution_count": 777,
   "outputs": [
    {
     "name": "stdout",
     "output_type": "stream",
     "text": [
      "D:\\Dropbox\\Documents\\Edgecaser LLC\\Projects\\Olympus\\Econohmetrics\\gohmAsStablecoinCollateral/data/siloFinanceGohmWithdraws_piped.csv file saved, 1  records\n"
     ]
    }
   ],
   "source": [
    "path =file+'/siloFinanceGohmWithdraws.csv'\n",
    "siloWithdrawEventsDbTimedClean.to_csv(path, index = False)\n",
    "\n",
    "path =file+'/siloFinanceGohmWithdraws_piped.csv'\n",
    "siloWithdrawEventsDbTimedClean.to_csv(path, index = False, sep='|')\n",
    "print(path, 'file saved,', len(siloWithdrawEventsDbTimedClean),' records')"
   ],
   "metadata": {
    "collapsed": false
   }
  },
  {
   "cell_type": "code",
   "execution_count": 778,
   "outputs": [
    {
     "name": "stdout",
     "output_type": "stream",
     "text": [
      "There has been a total of 25.0 OHM withdrawn cumulatively as collateral  to date\n",
      "That is a value of USD$ 71148.08\n"
     ]
    }
   ],
   "source": [
    "totalWithdrawed = sum(siloWithdrawEventsDbTimedClean['transactionReadableAmount'])\n",
    "print('There has been a total of',round(totalWithdrawed,2),  'OHM withdrawn cumulatively as collateral  to date')\n",
    "totalWithdrawedUSD =sum(siloWithdrawEventsDbTimedClean['transaction_amountUSD'])\n",
    "print('That is a value of USD$',round(totalWithdrawedUSD,2))"
   ],
   "metadata": {
    "collapsed": false
   }
  },
  {
   "cell_type": "code",
   "execution_count": 779,
   "outputs": [
    {
     "name": "stdout",
     "output_type": "stream",
     "text": [
      "48.92219913046696  -  25.000038820033232 = 23.922160310433725 currently deposited as collateral in Silo\n"
     ]
    }
   ],
   "source": [
    "collateralBalance = totalDeposited -(totalWithdrawed)\n",
    "print(totalDeposited, ' - ',totalWithdrawed,'=', collateralBalance, 'currently deposited as collateral in Silo' )"
   ],
   "metadata": {
    "collapsed": false
   }
  },
  {
   "cell_type": "code",
   "execution_count": 779,
   "outputs": [],
   "source": [],
   "metadata": {
    "collapsed": false
   }
  },
  {
   "cell_type": "markdown",
   "source": [
    "********************************************************************\n",
    "********************************************************************\n",
    "VESTA BORROWS - Their API is poo RN"
   ],
   "metadata": {
    "collapsed": false
   }
  },
  {
   "cell_type": "code",
   "execution_count": null,
   "outputs": [],
   "source": [
    "#https://api.thegraph.com/subgraphs/name/corerouter/vesta-finance\n",
    "vesta = sg.load_api('https://api.thegraph.com/subgraphs/name/shinitakunai/vestafinance-v1_2')"
   ],
   "metadata": {
    "collapsed": false
   }
  },
  {
   "cell_type": "code",
   "execution_count": null,
   "outputs": [],
   "source": [
    "oldVestaBorrowsDb = pd.DataFrame()\n",
    "siloFileName = file+'/vesta_borrow_events.csv'\n",
    "try:\n",
    "    oldVestaBorrowsDb = pd.read_csv (siloFileName)\n",
    "except:\n",
    "    oldVestaBorrowsDb = pd.DataFrame()\n",
    "oldVestaBorrowsDb.head(100)"
   ],
   "metadata": {
    "collapsed": false
   }
  },
  {
   "cell_type": "code",
   "execution_count": null,
   "outputs": [],
   "source": [
    "maxVestaBorrowTimestamp = 0\n",
    "try:\n",
    "    maxVestaTroveChangeId = (max(0,oldVestaBorrowsDb['troveChanges_id'].max()))\n",
    "    maxVestaTroveChangeId = int(maxVestaTroveChangeId)\n",
    "    vestaBorrows = vesta.Query.troveChanges(\n",
    "        orderBy='id',\n",
    "        orderDirection='desc',\n",
    "        first=1000,\n",
    "        skip = skipValue,\n",
    "        where= { 'asset': '0x8d9ba570d6cb60c7e3e0f31343efe75ab8e65fb1'  #gOHM market\n",
    "                ,'debtChange_lt':0\n",
    "                ,'id_gte': maxVestaTroveChangeId\n",
    "         }\n",
    "        )\n",
    "    vestaBorrowslist = sg.query_df([\n",
    "            vestaBorrows.id\n",
    "            ,vestaBorrows.transaction.id\n",
    "            ,vestaBorrows.transaction.blockNumber\n",
    "            ,vestaBorrows.debtChange\n",
    "            ,vestaBorrows.transaction.timestamp\n",
    "            ,vestaBorrows.trove.owner.id\n",
    "            ,vestaBorrows.trove.asset.id\n",
    "            ,vestaBorrows.trove.asset.name\n",
    "        ])\n",
    "except:\n",
    "    maxVestaTroveChangeId = 0\n",
    "    vestaBorrows = vesta.Query.troveChanges(\n",
    "        orderBy='id',\n",
    "        orderDirection='desc',\n",
    "        first=1000,\n",
    "        skip = skipValue,\n",
    "        where= { 'asset': '0x8d9ba570d6cb60c7e3e0f31343efe75ab8e65fb1'  #gOHM market\n",
    "                ,'debtChange_lt':0\n",
    "               #,'id_gte': maxVestaTroveChangeId\n",
    "         }\n",
    "    )\n",
    "    vestaBorrowslist = sg.query_df([\n",
    "            vestaBorrows.id\n",
    "            ,vestaBorrows.transaction.id\n",
    "            ,vestaBorrows.transaction.blockNumber\n",
    "            ,vestaBorrows.debtChange\n",
    "            ,vestaBorrows.transaction.timestamp\n",
    "            ,vestaBorrows.trove.owner.id\n",
    "            ,vestaBorrows.trove.asset.id\n",
    "            ,vestaBorrows.trove.asset.name\n",
    "        ])\n",
    "\n",
    "vestaBorrowslist.head(10)"
   ],
   "metadata": {
    "collapsed": false
   }
  },
  {
   "cell_type": "markdown",
   "source": [
    "vestaBorrows = vesta.Query.troveChanges(\n",
    "        orderBy='id',\n",
    "        orderDirection='desc',\n",
    "        first=1000,\n",
    "        skip = skipValue,\n",
    "        where= { 'asset': '0x8d9ba570d6cb60c7e3e0f31343efe75ab8e65fb1'  #gOHM market\n",
    "                ,'debtChange_lt':0\n",
    "                ,'id_gte': maxVestaTroveChangeId\n",
    "         }\n",
    "    )\n",
    "vestaBorrowslist = sg.query_df([\n",
    "        vestaBorrows.id\n",
    "        ,vestaBorrows.transaction.id\n",
    "        ,vestaBorrows.transaction.blockNumber\n",
    "        ,vestaBorrows.debtChange\n",
    "        ,vestaBorrows.transaction.timestamp\n",
    "        ,vestaBorrows.trove.owner.id\n",
    "        ,vestaBorrows.trove.asset.id\n",
    "        ,vestaBorrows.trove.asset.name\n",
    "    ])\n",
    "\n",
    "vestaBorrowslist.head(10)"
   ],
   "metadata": {
    "collapsed": false
   }
  },
  {
   "cell_type": "code",
   "execution_count": null,
   "outputs": [],
   "source": [
    "##this captures the list of people who vestaBorrowed XAI against gOHM\n",
    "vestaBorrowTicker = 0\n",
    "vestaBorrowslist = pd.DataFrame()\n",
    "vestaBorrowsDb = pd.DataFrame()\n",
    "vestaBorrowListLength = 1000\n",
    "datediff = 0\n",
    "now=0\n",
    "daysAgo=0\n",
    "daysLimit = 45\n",
    "exit = False\n",
    "while exit==False:\n",
    "    skipValue = (vestaBorrowTicker)*(1000)\n",
    "    try:\n",
    "        maxVestaTroveChangeId = (max(0,oldVestaBorrowsDb['troveChanges_id'].max()))\n",
    "        maxVestaTroveChangeId = int(maxVestaTroveChangeId)\n",
    "        vestaBorrows = vesta.Query.troveChanges(\n",
    "            orderBy='id',\n",
    "            orderDirection='desc',\n",
    "            first=1000,\n",
    "            skip = skipValue,\n",
    "            where= { 'asset': '0x8d9ba570d6cb60c7e3e0f31343efe75ab8e65fb1'  #gOHM market\n",
    "                    ,'debtChange_gt':0\n",
    "                    ,'id_gte': maxVestaTroveChangeId\n",
    "             }\n",
    "            )\n",
    "        vestaBorrowslist = sg.query_df([\n",
    "                vestaBorrows.id\n",
    "                ,vestaBorrows.transaction.id\n",
    "                ,vestaBorrows.transaction.blockNumber\n",
    "                ,vestaBorrows.debtChange\n",
    "                ,vestaBorrows.transaction.timestamp\n",
    "                ,vestaBorrows.trove.owner.id\n",
    "                ,vestaBorrows.trove.asset.id\n",
    "                ,vestaBorrows.trove.asset.name\n",
    "            ])\n",
    "    except:\n",
    "        maxVestaTroveChangeId = 0\n",
    "        vestaBorrows = vesta.Query.troveChanges(\n",
    "            orderBy='id',\n",
    "            orderDirection='desc',\n",
    "            first=1000,\n",
    "            skip = skipValue,\n",
    "            where= { 'asset': '0x8d9ba570d6cb60c7e3e0f31343efe75ab8e65fb1'  #gOHM market\n",
    "                    ,'debtChange_gt':0\n",
    "                   #,'id_gte': maxVestaTroveChangeId\n",
    "             }\n",
    "        )\n",
    "        vestaBorrowslist = sg.query_df([\n",
    "                vestaBorrows.id\n",
    "                ,vestaBorrows.transaction.id\n",
    "                ,vestaBorrows.transaction.blockNumber\n",
    "                ,vestaBorrows.debtChange\n",
    "                ,vestaBorrows.transaction.timestamp\n",
    "                ,vestaBorrows.trove.owner.id\n",
    "                ,vestaBorrows.trove.asset.id\n",
    "                ,vestaBorrows.trove.asset.name\n",
    "            ])\n",
    "\n",
    "    #vestaBorrowslist.sort_values(by=['vestaBorrows_timestamp'])\n",
    "\n",
    "    vestaBorrowsDb=pd.concat([vestaBorrowsDb, vestaBorrowslist])\n",
    "    recordTimestamp1 = vestaBorrowsDb.iat[vestaBorrowTicker,4]\n",
    "    recordTimestamp = dt.datetime.fromtimestamp( recordTimestamp1 )\n",
    "    now = (int(dt.datetime.utcnow().timestamp()))\n",
    "    datediff=abs(int(now) - recordTimestamp1)\n",
    "    daysAgo = int(datediff/86400)\n",
    "    vestaBorrowsDbLength = len(vestaBorrowsDb)\n",
    "    vestaBorrowListLength = len(vestaBorrowslist)\n",
    "    recordID = vestaBorrowsDb.iat[vestaBorrowTicker,0]\n",
    "    vestaBorrow = vestaBorrowsDb.iat[vestaBorrowTicker,1]\n",
    "    print(\"iterations: \", vestaBorrowTicker, \"Lines skipped: \",skipValue, \"records collected: \", vestaBorrowListLength, \" - latest recordID: \",vestaBorrow, \" \", recordID , \" - vestaBorrows DB length: \", vestaBorrowsDbLength, \" - latest record from: \", recordTimestamp, daysAgo,\"days ago\")\n",
    "    #print(\"iterations: \", vestaBorrowTicker, \"records collected: \", vestaBorrowListLength, \" - userdb length: \", vestaBorrowsDbLength)\n",
    "    vestaBorrowTicker = vestaBorrowTicker+1\n",
    "\n",
    "    if daysAgo>daysLimit: exit =True\n",
    "    if vestaBorrowListLength<1000: exit =True\n",
    "\n",
    "#vestaBorrowsDbTimed.columns = vestaBorrowsDbTimed.columns.str.replace(\"borrows\", \"transaction\")\n",
    "vestaBorrowsDb['event']='borrow'\n",
    "print(\"Done. Total Records collected: \", vestaBorrowsDbLength)"
   ],
   "metadata": {
    "collapsed": false
   }
  },
  {
   "cell_type": "code",
   "execution_count": null,
   "outputs": [],
   "source": [
    "vestaBorrowsDbTimed = db.query(\"select \"\n",
    "               \"    * \"\n",
    "                    \" ,to_timestamp(troveChanges_transaction_timestamp::int) dateTime \"\n",
    "               \"From vestaBorrowsDb \"\n",
    "                               \"order by troveChanges_transaction_timestamp desc\"\n",
    "               ).df()\n",
    "\n",
    "vestaBorrowsDbTimed.head(1000)"
   ],
   "metadata": {
    "collapsed": false
   }
  },
  {
   "cell_type": "code",
   "execution_count": null,
   "outputs": [],
   "source": [
    "vestaBorrowsDbTimed = pd.concat([oldVestaBorrowsDb,vestaBorrowsDbTimed]).drop_duplicates().reset_index(drop=True)\n",
    "vestaBorrowsDbTimed.drop_duplicates()\n",
    "vestaBorrowsDbTimed = db.query(\"select \"\n",
    "               \"    * \"\n",
    "               \"From vestaBorrowsDbTimed \"\n",
    "                         \"group by 1,2,3,4,5,6,7,8,9,10 \"\n",
    "                     # \"order by borrows_amountUSD desc \"\n",
    "               #\"where lower(liquidityPools_name) like lower('%olympus%') \"\n",
    "                #    \"or lower(pairs_token1_symbol) like lower('%OHM%')  \"\n",
    "               #\" limit 100 \"\n",
    "               ).df()\n",
    "\n",
    "vestaBorrowsDbTimed.head(100)"
   ],
   "metadata": {
    "collapsed": false
   }
  },
  {
   "cell_type": "code",
   "execution_count": null,
   "outputs": [],
   "source": [
    "path =file+'/vesta_borrow_events.csv'\n",
    "vestaBorrowsDbTimed.to_csv(path, index = False)\n",
    "\n",
    "path =file+'/vesta_borrow_events_piped.csv'\n",
    "vestaBorrowsDbTimed.to_csv(path, index = False, sep='|')\n",
    "print(path, 'file saved,', len(vestaBorrowsDbTimed),' records')"
   ],
   "metadata": {
    "collapsed": false
   }
  },
  {
   "cell_type": "markdown",
   "source": [
    "************************************************************\n",
    "FINE.... FRAX TOO\n",
    "\n",
    "This subgraph is completely different, so we're going to  have to crunch in order to merge all these tables into coherent reports"
   ],
   "metadata": {
    "collapsed": false
   }
  },
  {
   "cell_type": "code",
   "execution_count": 846,
   "outputs": [],
   "source": [
    "frax = sg.load_api('https://gateway.thegraph.com/api/'+apiKey+'/subgraphs/id/GELTrjPJYEzxyp6Y2CtEaYpGHcJNrJA6i5Ci4KfJSEsf')\n",
    "#frax = sg.load_api('https://api.thegraph.com/subgraphs/name/frax-finance-data/fraxlend-subgraph---mainnet')"
   ],
   "metadata": {
    "collapsed": false
   }
  },
  {
   "cell_type": "code",
   "execution_count": 856,
   "outputs": [
    {
     "data": {
      "text/plain": "Empty DataFrame\nColumns: []\nIndex: []",
      "text/html": "<div>\n<style scoped>\n    .dataframe tbody tr th:only-of-type {\n        vertical-align: middle;\n    }\n\n    .dataframe tbody tr th {\n        vertical-align: top;\n    }\n\n    .dataframe thead th {\n        text-align: right;\n    }\n</style>\n<table border=\"1\" class=\"dataframe\">\n  <thead>\n    <tr style=\"text-align: right;\">\n      <th></th>\n    </tr>\n  </thead>\n  <tbody>\n  </tbody>\n</table>\n</div>"
     },
     "execution_count": 856,
     "metadata": {},
     "output_type": "execute_result"
    }
   ],
   "source": [
    "oldFraxActions = pd.DataFrame()\n",
    "fraxFileName = file+'/frax_borrows.csv'\n",
    "try:\n",
    "    oldFraxActions = pd.read_csv (fraxFileName)\n",
    "except:\n",
    "    oldFraxActions = pd.DataFrame()\n",
    "oldFraxActions.head(1000)"
   ],
   "metadata": {
    "collapsed": false
   }
  },
  {
   "cell_type": "code",
   "execution_count": 848,
   "outputs": [
    {
     "data": {
      "text/plain": "0"
     },
     "execution_count": 848,
     "metadata": {},
     "output_type": "execute_result"
    }
   ],
   "source": [
    "maxBorrowFraxTimestamp = 0\n",
    "try:\n",
    "    maxBorrowFraxTimestamp = (max(1,oldFraxActions['actions_timestamp'].max()))-1\n",
    "except:\n",
    "        maxBorrowFraxTimestamp = 0\n",
    "maxBorrowFraxTimestamp = int(maxBorrowFraxTimestamp)\n",
    "maxBorrowFraxTimestamp"
   ],
   "metadata": {
    "collapsed": false
   }
  },
  {
   "cell_type": "code",
   "execution_count": 877,
   "outputs": [
    {
     "data": {
      "text/plain": "                                           actions_id   actions_type  \\\n0   0xa36fce829a2866df6030c9e52d02c538b7f1ca3ba28a...    borrowAsset   \n1   0xa36fce829a2866df6030c9e52d02c538b7f1ca3ba28a...  addCollateral   \n2   0x374e4347a5abad8ebf70cbb9fde86005a3bfbeaeee44...    borrowAsset   \n3   0x4c7cd0a0fe188a8049ac8c28269d52106804986dfb99...    borrowAsset   \n4   0x4c7cd0a0fe188a8049ac8c28269d52106804986dfb99...  addCollateral   \n..                                                ...            ...   \n95  0x2dc9bc4f7c7ac1708768d1f6f6e6a41b8fb4964fd894...    borrowAsset   \n96  0x2dc9bc4f7c7ac1708768d1f6f6e6a41b8fb4964fd894...  addCollateral   \n97  0x5dea5a1baef298676a0c47666ca76db0d00637a96750...    borrowAsset   \n98  0x2c4738e7f57d0ef25cef1541393689e07f7f01b8774a...    borrowAsset   \n99  0x2c4738e7f57d0ef25cef1541393689e07f7f01b8774a...  addCollateral   \n\n             actions_amount  actions_timestamp  actions_block  \\\n0                         0         1676866727       16667337   \n1       7006979439076347667         1676866727       16667337   \n2   10000000000000000000000         1676865431       16667229   \n3                         0         1676856395       16666484   \n4       6480000000000000000         1676856395       16666484   \n..                      ...                ...            ...   \n95                        0         1675973579       16593503   \n96      1849694947953999686         1675973579       16593503   \n97   5000000000000000000000         1675972547       16593417   \n98                        0         1675971107       16593299   \n99     10533450057609652328         1675971107       16593299   \n\n   actions_token_name                        actions_root_address  \\\n0                Frax  0xc0e0de939f26e71683452467942aff455ca153e3   \n1      Governance OHM  0xc0e0de939f26e71683452467942aff455ca153e3   \n2                Frax  0xc0e0de939f26e71683452467942aff455ca153e3   \n3                Frax  0xc0e0de939f26e71683452467942aff455ca153e3   \n4      Governance OHM  0xc0e0de939f26e71683452467942aff455ca153e3   \n..                ...                                         ...   \n95               Frax  0xc0e0de939f26e71683452467942aff455ca153e3   \n96     Governance OHM  0xc0e0de939f26e71683452467942aff455ca153e3   \n97               Frax  0xc0e0de939f26e71683452467942aff455ca153e3   \n98               Frax  0xc0e0de939f26e71683452467942aff455ca153e3   \n99     Governance OHM  0xc0e0de939f26e71683452467942aff455ca153e3   \n\n   actions_pair_asset_symbol  actions_pair_asset_decimals  \\\n0                       FRAX                           18   \n1                       FRAX                           18   \n2                       FRAX                           18   \n3                       FRAX                           18   \n4                       FRAX                           18   \n..                       ...                          ...   \n95                      FRAX                           18   \n96                      FRAX                           18   \n97                      FRAX                           18   \n98                      FRAX                           18   \n99                      FRAX                           18   \n\n   actions_pair_collateral_symbol  actions_pair_collateral_decimals  \\\n0                            gOHM                                18   \n1                            gOHM                                18   \n2                            gOHM                                18   \n3                            gOHM                                18   \n4                            gOHM                                18   \n..                            ...                               ...   \n95                           gOHM                                18   \n96                           gOHM                                18   \n97                           gOHM                                18   \n98                           gOHM                                18   \n99                           gOHM                                18   \n\n              dateTime  \n0  2023-02-20 04:18:47  \n1  2023-02-20 04:18:47  \n2  2023-02-20 03:57:11  \n3  2023-02-20 01:26:35  \n4  2023-02-20 01:26:35  \n..                 ...  \n95 2023-02-09 20:12:59  \n96 2023-02-09 20:12:59  \n97 2023-02-09 19:55:47  \n98 2023-02-09 19:31:47  \n99 2023-02-09 19:31:47  \n\n[100 rows x 12 columns]",
      "text/html": "<div>\n<style scoped>\n    .dataframe tbody tr th:only-of-type {\n        vertical-align: middle;\n    }\n\n    .dataframe tbody tr th {\n        vertical-align: top;\n    }\n\n    .dataframe thead th {\n        text-align: right;\n    }\n</style>\n<table border=\"1\" class=\"dataframe\">\n  <thead>\n    <tr style=\"text-align: right;\">\n      <th></th>\n      <th>actions_id</th>\n      <th>actions_type</th>\n      <th>actions_amount</th>\n      <th>actions_timestamp</th>\n      <th>actions_block</th>\n      <th>actions_token_name</th>\n      <th>actions_root_address</th>\n      <th>actions_pair_asset_symbol</th>\n      <th>actions_pair_asset_decimals</th>\n      <th>actions_pair_collateral_symbol</th>\n      <th>actions_pair_collateral_decimals</th>\n      <th>dateTime</th>\n    </tr>\n  </thead>\n  <tbody>\n    <tr>\n      <th>0</th>\n      <td>0xa36fce829a2866df6030c9e52d02c538b7f1ca3ba28a...</td>\n      <td>borrowAsset</td>\n      <td>0</td>\n      <td>1676866727</td>\n      <td>16667337</td>\n      <td>Frax</td>\n      <td>0xc0e0de939f26e71683452467942aff455ca153e3</td>\n      <td>FRAX</td>\n      <td>18</td>\n      <td>gOHM</td>\n      <td>18</td>\n      <td>2023-02-20 04:18:47</td>\n    </tr>\n    <tr>\n      <th>1</th>\n      <td>0xa36fce829a2866df6030c9e52d02c538b7f1ca3ba28a...</td>\n      <td>addCollateral</td>\n      <td>7006979439076347667</td>\n      <td>1676866727</td>\n      <td>16667337</td>\n      <td>Governance OHM</td>\n      <td>0xc0e0de939f26e71683452467942aff455ca153e3</td>\n      <td>FRAX</td>\n      <td>18</td>\n      <td>gOHM</td>\n      <td>18</td>\n      <td>2023-02-20 04:18:47</td>\n    </tr>\n    <tr>\n      <th>2</th>\n      <td>0x374e4347a5abad8ebf70cbb9fde86005a3bfbeaeee44...</td>\n      <td>borrowAsset</td>\n      <td>10000000000000000000000</td>\n      <td>1676865431</td>\n      <td>16667229</td>\n      <td>Frax</td>\n      <td>0xc0e0de939f26e71683452467942aff455ca153e3</td>\n      <td>FRAX</td>\n      <td>18</td>\n      <td>gOHM</td>\n      <td>18</td>\n      <td>2023-02-20 03:57:11</td>\n    </tr>\n    <tr>\n      <th>3</th>\n      <td>0x4c7cd0a0fe188a8049ac8c28269d52106804986dfb99...</td>\n      <td>borrowAsset</td>\n      <td>0</td>\n      <td>1676856395</td>\n      <td>16666484</td>\n      <td>Frax</td>\n      <td>0xc0e0de939f26e71683452467942aff455ca153e3</td>\n      <td>FRAX</td>\n      <td>18</td>\n      <td>gOHM</td>\n      <td>18</td>\n      <td>2023-02-20 01:26:35</td>\n    </tr>\n    <tr>\n      <th>4</th>\n      <td>0x4c7cd0a0fe188a8049ac8c28269d52106804986dfb99...</td>\n      <td>addCollateral</td>\n      <td>6480000000000000000</td>\n      <td>1676856395</td>\n      <td>16666484</td>\n      <td>Governance OHM</td>\n      <td>0xc0e0de939f26e71683452467942aff455ca153e3</td>\n      <td>FRAX</td>\n      <td>18</td>\n      <td>gOHM</td>\n      <td>18</td>\n      <td>2023-02-20 01:26:35</td>\n    </tr>\n    <tr>\n      <th>...</th>\n      <td>...</td>\n      <td>...</td>\n      <td>...</td>\n      <td>...</td>\n      <td>...</td>\n      <td>...</td>\n      <td>...</td>\n      <td>...</td>\n      <td>...</td>\n      <td>...</td>\n      <td>...</td>\n      <td>...</td>\n    </tr>\n    <tr>\n      <th>95</th>\n      <td>0x2dc9bc4f7c7ac1708768d1f6f6e6a41b8fb4964fd894...</td>\n      <td>borrowAsset</td>\n      <td>0</td>\n      <td>1675973579</td>\n      <td>16593503</td>\n      <td>Frax</td>\n      <td>0xc0e0de939f26e71683452467942aff455ca153e3</td>\n      <td>FRAX</td>\n      <td>18</td>\n      <td>gOHM</td>\n      <td>18</td>\n      <td>2023-02-09 20:12:59</td>\n    </tr>\n    <tr>\n      <th>96</th>\n      <td>0x2dc9bc4f7c7ac1708768d1f6f6e6a41b8fb4964fd894...</td>\n      <td>addCollateral</td>\n      <td>1849694947953999686</td>\n      <td>1675973579</td>\n      <td>16593503</td>\n      <td>Governance OHM</td>\n      <td>0xc0e0de939f26e71683452467942aff455ca153e3</td>\n      <td>FRAX</td>\n      <td>18</td>\n      <td>gOHM</td>\n      <td>18</td>\n      <td>2023-02-09 20:12:59</td>\n    </tr>\n    <tr>\n      <th>97</th>\n      <td>0x5dea5a1baef298676a0c47666ca76db0d00637a96750...</td>\n      <td>borrowAsset</td>\n      <td>5000000000000000000000</td>\n      <td>1675972547</td>\n      <td>16593417</td>\n      <td>Frax</td>\n      <td>0xc0e0de939f26e71683452467942aff455ca153e3</td>\n      <td>FRAX</td>\n      <td>18</td>\n      <td>gOHM</td>\n      <td>18</td>\n      <td>2023-02-09 19:55:47</td>\n    </tr>\n    <tr>\n      <th>98</th>\n      <td>0x2c4738e7f57d0ef25cef1541393689e07f7f01b8774a...</td>\n      <td>borrowAsset</td>\n      <td>0</td>\n      <td>1675971107</td>\n      <td>16593299</td>\n      <td>Frax</td>\n      <td>0xc0e0de939f26e71683452467942aff455ca153e3</td>\n      <td>FRAX</td>\n      <td>18</td>\n      <td>gOHM</td>\n      <td>18</td>\n      <td>2023-02-09 19:31:47</td>\n    </tr>\n    <tr>\n      <th>99</th>\n      <td>0x2c4738e7f57d0ef25cef1541393689e07f7f01b8774a...</td>\n      <td>addCollateral</td>\n      <td>10533450057609652328</td>\n      <td>1675971107</td>\n      <td>16593299</td>\n      <td>Governance OHM</td>\n      <td>0xc0e0de939f26e71683452467942aff455ca153e3</td>\n      <td>FRAX</td>\n      <td>18</td>\n      <td>gOHM</td>\n      <td>18</td>\n      <td>2023-02-09 19:31:47</td>\n    </tr>\n  </tbody>\n</table>\n<p>100 rows × 12 columns</p>\n</div>"
     },
     "execution_count": 877,
     "metadata": {},
     "output_type": "execute_result"
    }
   ],
   "source": [
    "actionsQuery = frax.Query.actions(\n",
    "     orderBy='timestamp'\n",
    "    ,orderDirection='desc'\n",
    "    ,first=1000\n",
    "    #,where = [frax.Query.actions.token.id == '0x66bf36dba79d4606039f04b32946a260bcd3ff52']\n",
    "    ,where={ 'pair': '0x66bf36dba79d4606039f04b32946a260bcd3ff52'\n",
    "             ,'timestamp_gte': maxBorrowFraxTimestamp\n",
    "             }\n",
    "    #,where = {'positions.pairid':'0x66bf36dba79d4606039f04b32946a260bcd3ff52'}\n",
    "#{'users_positions_pair_id':'0x66bf36dba79d4606039f04b32946a260bcd3ff52'}\n",
    "\n",
    ")\n",
    "actions= sg.query_df([\n",
    "    actionsQuery.id\n",
    "    ,actionsQuery.type\n",
    "    ,actionsQuery.amount\n",
    "    ,actionsQuery.timestamp\n",
    "    ,actionsQuery.block\n",
    "    ,actionsQuery.token.name\n",
    "    ,actionsQuery.root.address\n",
    "    ,actionsQuery.pair.asset.symbol\n",
    "    ,actionsQuery.pair.asset.decimals\n",
    "    ,actionsQuery.pair.collateral.symbol\n",
    "    ,actionsQuery.pair.collateral.decimals\n",
    "    ]\n",
    ")\n",
    "actions['dateTime'] =(pd.to_datetime(actions['actions_timestamp'],unit='s'))\n",
    "actions.head(100)"
   ],
   "metadata": {
    "collapsed": false
   }
  },
  {
   "cell_type": "code",
   "execution_count": 871,
   "outputs": [
    {
     "name": "stdout",
     "output_type": "stream",
     "text": [
      "iterations:  0 Lines skipped:  0 records collected:  1000  - latest recordID:  borrowAsset   0x374e4347a5abad8ebf70cbb9fde86005a3bfbeaeee444981120505b2e49f050d  - actions DB length:  1000  - latest record from:  2023-02-19 19:57:11 0 days ago\n",
      "iterations:  1 Lines skipped:  1000 records collected:  1000  - latest recordID:  borrowAsset   0x4c7cd0a0fe188a8049ac8c28269d52106804986dfb9956dd84e7206633b56fd4+1  - actions DB length:  2000  - latest record from:  2023-02-19 17:26:35 0 days ago\n",
      "iterations:  2 Lines skipped:  2000 records collected:  1000  - latest recordID:  addCollateral   0x4c7cd0a0fe188a8049ac8c28269d52106804986dfb9956dd84e7206633b56fd4  - actions DB length:  3000  - latest record from:  2023-02-19 17:26:35 0 days ago\n",
      "iterations:  3 Lines skipped:  3000 records collected:  1000  - latest recordID:  borrowAsset   0xbea1383c97aff27bcf1cbe8f19ba3938e16a0f04b45fed6f9ad8f4a70acc7def+1  - actions DB length:  4000  - latest record from:  2023-02-19 12:16:23 0 days ago\n",
      "iterations:  4 Lines skipped:  4000 records collected:  1000  - latest recordID:  addCollateral   0xbea1383c97aff27bcf1cbe8f19ba3938e16a0f04b45fed6f9ad8f4a70acc7def  - actions DB length:  5000  - latest record from:  2023-02-19 12:16:23 0 days ago\n",
      "iterations:  5 Lines skipped:  5000 records collected:  1000  - latest recordID:  borrowAsset   0x15f93b52199fd785e5e2423777b99e80b93b5ac0ea6f8bdd041d08ad1e925da4  - actions DB length:  6000  - latest record from:  2023-02-19 08:12:23 0 days ago\n",
      "iterations:  6 Lines skipped:  6000 records collected:  1000  - latest recordID:  borrowAsset   0x634c74994952e29a5c2a5cc59251aece8937130cdd40d9e26768e337541be328  - actions DB length:  7000  - latest record from:  2023-02-19 06:25:11 0 days ago\n",
      "iterations:  7 Lines skipped:  7000 records collected:  1000  - latest recordID:  borrowAsset   0x0ae9fafdbef4514be9b8310a7ee390fdd6151f6cba75505d102dce3f5b086ce8  - actions DB length:  8000  - latest record from:  2023-02-19 05:40:35 0 days ago\n",
      "iterations:  8 Lines skipped:  8000 records collected:  1000  - latest recordID:  borrowAsset   0x124321323deb9a40fb2b53dd0db56d0f6fee470a4d946bc67a500da94771e7b0  - actions DB length:  9000  - latest record from:  2023-02-18 20:40:47 1 days ago\n",
      "iterations:  9 Lines skipped:  9000 records collected:  1000  - latest recordID:  removeAsset   0x35cf7d8156372112e5c94859a3c164cecd5acb2e717dc961cf3245ffd62c9bcb  - actions DB length:  10000  - latest record from:  2023-02-18 16:41:47 1 days ago\n",
      "iterations:  10 Lines skipped:  10000 records collected:  1000  - latest recordID:  borrowAsset   0x949c6939bd5519c5d3a3ec190a66a8523940ea62125504bcb8543d431a603026+1  - actions DB length:  11000  - latest record from:  2023-02-18 14:49:59 1 days ago\n",
      "iterations:  11 Lines skipped:  11000 records collected:  1000  - latest recordID:  addCollateral   0x949c6939bd5519c5d3a3ec190a66a8523940ea62125504bcb8543d431a603026  - actions DB length:  12000  - latest record from:  2023-02-18 14:49:59 1 days ago\n",
      "iterations:  12 Lines skipped:  12000 records collected:  1000  - latest recordID:  addAsset   0x430294fc7c74f812cf91b43a162abcc456dfbb12fe8cd72d3261bc8dc74ced03  - actions DB length:  13000  - latest record from:  2023-02-18 11:20:35 1 days ago\n",
      "iterations:  13 Lines skipped:  13000 records collected:  1000  - latest recordID:  removeAsset   0x3c2e7c29d3beabb113328bc307bd8887b480eac465fbe886c18b4171e94e9bef  - actions DB length:  14000  - latest record from:  2023-02-18 07:23:35 1 days ago\n",
      "iterations:  14 Lines skipped:  14000 records collected:  1000  - latest recordID:  borrowAsset   0x2df96f85334a360e1323b3e2d4dcc3f907f2102309e112ea9d52132074eb4a38  - actions DB length:  15000  - latest record from:  2023-02-18 04:23:59 1 days ago\n",
      "iterations:  15 Lines skipped:  15000 records collected:  1000  - latest recordID:  borrowAsset   0xb0b826b645c33f328cbfe6f9ebbf055371a547e87217f1a4facdd0eceb7ac6ae  - actions DB length:  16000  - latest record from:  2023-02-18 01:04:23 2 days ago\n",
      "iterations:  16 Lines skipped:  16000 records collected:  1000  - latest recordID:  addCollateral   0xcc053235b8a6b731c51dbc5abb406021d9b96116e438ae76e8e828b2b7fbade5  - actions DB length:  17000  - latest record from:  2023-02-18 01:03:23 2 days ago\n",
      "iterations:  17 Lines skipped:  17000 records collected:  1000  - latest recordID:  borrowAsset   0x978b51e8acef9d0cc2f70b79794e800c23ed7b0915f268a5ae5d11f84fa71b11  - actions DB length:  18000  - latest record from:  2023-02-17 15:41:35 2 days ago\n",
      "iterations:  18 Lines skipped:  18000 records collected:  1000  - latest recordID:  borrowAsset   0xbd3dc2580148098c33de64ab5d8b9c53c2a62aedfadb389f6e4da0c8619033d3+1  - actions DB length:  19000  - latest record from:  2023-02-17 12:54:11 2 days ago\n",
      "iterations:  19 Lines skipped:  19000 records collected:  1000  - latest recordID:  addCollateral   0xbd3dc2580148098c33de64ab5d8b9c53c2a62aedfadb389f6e4da0c8619033d3  - actions DB length:  20000  - latest record from:  2023-02-17 12:54:11 2 days ago\n",
      "iterations:  20 Lines skipped:  20000 records collected:  1000  - latest recordID:  removeAsset   0xab2afc62785cd5e9e2dd310cd1b84ca742f33cc6a979cf43b1a5f3601e5b96c0  - actions DB length:  21000  - latest record from:  2023-02-17 04:10:59 3 days ago\n",
      "iterations:  21 Lines skipped:  21000 records collected:  1000  - latest recordID:  borrowAsset   0x8ee4b2c2631549768e73d5b47b7755715c06063dba9dfd8be35f5b2ab81cf4c6  - actions DB length:  22000  - latest record from:  2023-02-17 03:44:59 3 days ago\n",
      "iterations:  22 Lines skipped:  22000 records collected:  1000  - latest recordID:  borrowAsset   0x41c98727ed46b57cee2bdc6d552d733cbe9a43a02fef9f5252f1f0e95bac5dd0  - actions DB length:  23000  - latest record from:  2023-02-16 16:48:47 3 days ago\n",
      "iterations:  23 Lines skipped:  23000 records collected:  1000  - latest recordID:  repayAsset   0xc84158cfb0de12eb6da22f0e9f373de223e81cbb2901507cf3a5375e461699d5  - actions DB length:  24000  - latest record from:  2023-02-16 15:49:11 3 days ago\n",
      "iterations:  24 Lines skipped:  24000 records collected:  1000  - latest recordID:  borrowAsset   0x0dcc234aa537f7245de13296bd9f19b031cb0d60d942609ef7507d8a175ace9c+1  - actions DB length:  25000  - latest record from:  2023-02-16 15:28:23 3 days ago\n",
      "iterations:  25 Lines skipped:  25000 records collected:  1000  - latest recordID:  addCollateral   0x0dcc234aa537f7245de13296bd9f19b031cb0d60d942609ef7507d8a175ace9c  - actions DB length:  26000  - latest record from:  2023-02-16 15:28:23 3 days ago\n",
      "iterations:  26 Lines skipped:  26000 records collected:  1000  - latest recordID:  removeCollateral   0xa43b5cafe8fa36b170da2572f2d81f10005edec53721837caec383393861bf36  - actions DB length:  27000  - latest record from:  2023-02-16 15:16:11 3 days ago\n",
      "iterations:  27 Lines skipped:  27000 records collected:  1000  - latest recordID:  repayAsset   0xcfc1e4017009147238d042380cebf72824c49cf03523246e181a6bc5e940da23  - actions DB length:  28000  - latest record from:  2023-02-16 13:46:59 3 days ago\n",
      "iterations:  28 Lines skipped:  28000 records collected:  1000  - latest recordID:  removeCollateral   0x26cce8d6cb5173fd5d3feac628ecbba1c1de437b7bdb3ab48b82f8090c92aaee  - actions DB length:  29000  - latest record from:  2023-02-16 13:29:23 3 days ago\n",
      "iterations:  29 Lines skipped:  29000 records collected:  1000  - latest recordID:  borrowAsset   0x795f1995f3ae71df4538b386f0eafd55e3da0c016f1efe2830a0a57c526a79f0+1  - actions DB length:  30000  - latest record from:  2023-02-16 13:18:59 3 days ago\n",
      "iterations:  30 Lines skipped:  30000 records collected:  1000  - latest recordID:  addCollateral   0x795f1995f3ae71df4538b386f0eafd55e3da0c016f1efe2830a0a57c526a79f0  - actions DB length:  31000  - latest record from:  2023-02-16 13:18:59 3 days ago\n",
      "iterations:  31 Lines skipped:  31000 records collected:  1000  - latest recordID:  borrowAsset   0x6acb337f512c4350156321ddc7f55883445c3a9dcb68808b2af4446033d7bc0b  - actions DB length:  32000  - latest record from:  2023-02-16 08:00:47 3 days ago\n",
      "iterations:  32 Lines skipped:  32000 records collected:  1000  - latest recordID:  addAsset   0x2c4f7526cbbd8e9b77c2bbe0f8d8b4115d9d294693fb21d41c1bfc9eb8050db9  - actions DB length:  33000  - latest record from:  2023-02-16 02:39:35 4 days ago\n",
      "iterations:  33 Lines skipped:  33000 records collected:  1000  - latest recordID:  borrowAsset   0xc140539b65714620d05950bda8e5199da73b3c331a6449c7c87e85fead308410  - actions DB length:  34000  - latest record from:  2023-02-15 16:30:35 4 days ago\n",
      "iterations:  34 Lines skipped:  34000 records collected:  1000  - latest recordID:  repayAsset   0x74bf51475fa3f20f517da02d7fc395208fbec29169102fced0ef56e3485c33e0  - actions DB length:  35000  - latest record from:  2023-02-15 14:43:35 4 days ago\n",
      "iterations:  35 Lines skipped:  35000 records collected:  1000  - latest recordID:  borrowAsset   0xa267cba21533795e1badd0de59cf721cfc4fbc780a846839a57b2c32bd220bc8  - actions DB length:  36000  - latest record from:  2023-02-15 13:54:23 4 days ago\n",
      "iterations:  36 Lines skipped:  36000 records collected:  1000  - latest recordID:  borrowAsset   0xf0abbeb0520833ee6b88c3b993a6a16e65cab6fd44031f4c0b1f2de4b65834f4  - actions DB length:  37000  - latest record from:  2023-02-15 12:59:47 4 days ago\n",
      "iterations:  37 Lines skipped:  37000 records collected:  1000  - latest recordID:  addAsset   0xd66563d2e3a2603326bfc72b6ef556a7e33a949e0ad20a7da164da43f6f7cb2d  - actions DB length:  38000  - latest record from:  2023-02-15 12:33:59 4 days ago\n",
      "iterations:  38 Lines skipped:  38000 records collected:  1000  - latest recordID:  borrowAsset   0x7856d9802271871c9b28a0e7a4c10e034816b6531033dd5eae5379d9c16ee42a  - actions DB length:  39000  - latest record from:  2023-02-15 11:48:59 4 days ago\n",
      "iterations:  39 Lines skipped:  39000 records collected:  1000  - latest recordID:  removeCollateral   0x76c5baaf9c45b3ee5ee4f5518a0f13346aaee7215d18dca5517212f5119b5e60  - actions DB length:  40000  - latest record from:  2023-02-15 06:05:11 4 days ago\n",
      "iterations:  40 Lines skipped:  40000 records collected:  1000  - latest recordID:  repayAsset   0x1ec21c9c8169b41b515a76dd8d68cb60c2a93f20daeb5351f8c23bee85165719  - actions DB length:  41000  - latest record from:  2023-02-15 06:04:23 4 days ago\n",
      "iterations:  41 Lines skipped:  41000 records collected:  1000  - latest recordID:  removeCollateral   0x0938913aaf6f6dc685c537d2cc245c9e8437f73ac7d5caec6f701eb7936e22d1  - actions DB length:  42000  - latest record from:  2023-02-15 05:53:11 4 days ago\n",
      "iterations:  42 Lines skipped:  42000 records collected:  1000  - latest recordID:  borrowAsset   0xe2db031961c0c128773892a42844683dc17c7527a3b34451ad115460294a67a7  - actions DB length:  43000  - latest record from:  2023-02-15 04:08:59 5 days ago\n",
      "iterations:  43 Lines skipped:  43000 records collected:  1000  - latest recordID:  borrowAsset   0x2e322fd549b557f43eba958c0545112256bfda35d962f6d6abd4c600ac6dbe7b  - actions DB length:  44000  - latest record from:  2023-02-14 10:05:59 5 days ago\n",
      "iterations:  44 Lines skipped:  44000 records collected:  1000  - latest recordID:  addAsset   0x3da9de5c721a6eabf8576551f3d8d1adc4da3f801a68cca02cef546bbac64795  - actions DB length:  45000  - latest record from:  2023-02-14 07:02:11 5 days ago\n",
      "iterations:  45 Lines skipped:  45000 records collected:  1000  - latest recordID:  borrowAsset   0x1dfd3172c36e389c77cfd3e1d4e0ae425056986b69775010e3e42465a9921f6b+1  - actions DB length:  46000  - latest record from:  2023-02-14 06:02:47 5 days ago\n",
      "iterations:  46 Lines skipped:  46000 records collected:  1000  - latest recordID:  addCollateral   0x1dfd3172c36e389c77cfd3e1d4e0ae425056986b69775010e3e42465a9921f6b  - actions DB length:  47000  - latest record from:  2023-02-14 06:02:47 5 days ago\n",
      "iterations:  47 Lines skipped:  47000 records collected:  1000  - latest recordID:  borrowAsset   0xca8f2b28fbb36eb227d137fdfab17dfb2e104d372fda63faf11d4f3cab971331+1  - actions DB length:  48000  - latest record from:  2023-02-14 05:57:11 5 days ago\n",
      "iterations:  48 Lines skipped:  48000 records collected:  1000  - latest recordID:  addCollateral   0xca8f2b28fbb36eb227d137fdfab17dfb2e104d372fda63faf11d4f3cab971331  - actions DB length:  49000  - latest record from:  2023-02-14 05:57:11 5 days ago\n",
      "iterations:  49 Lines skipped:  49000 records collected:  1000  - latest recordID:  removeAsset   0xa0c66c33d6a7a399184bc00e1631cf37569b4e11f2d3629233e726eadd21dfa6  - actions DB length:  50000  - latest record from:  2023-02-14 05:35:11 5 days ago\n",
      "iterations:  50 Lines skipped:  50000 records collected:  1000  - latest recordID:  removeAsset   0xa839343605a44ebbc9acc53d7fc4fb382524aaad915fccf37d7acb47381fcddb  - actions DB length:  51000  - latest record from:  2023-02-14 04:35:11 5 days ago\n",
      "iterations:  51 Lines skipped:  51000 records collected:  1000  - latest recordID:  borrowAsset   0x023999891639c1c93db864ce955525a0804c6f5216d81d75d341c81be072987a  - actions DB length:  52000  - latest record from:  2023-02-13 13:52:23 6 days ago\n",
      "iterations:  52 Lines skipped:  52000 records collected:  1000  - latest recordID:  borrowAsset   0xd27c863004571db8166a41942a3e565e1cb4ed6392a1233723f6ba6cfb681d91  - actions DB length:  53000  - latest record from:  2023-02-13 10:52:11 6 days ago\n",
      "iterations:  53 Lines skipped:  53000 records collected:  1000  - latest recordID:  addCollateral   0x93bfdc153c70c47dc88df5b2c7a28fa129c178d3c2691612c7d08ac1e0c70467  - actions DB length:  54000  - latest record from:  2023-02-13 10:33:35 6 days ago\n",
      "iterations:  54 Lines skipped:  54000 records collected:  1000  - latest recordID:  borrowAsset   0xf6aae4916b2c041fc5f24c61ac3ee16ea860b2c7f9f271eafeb59f588eb0d0ab  - actions DB length:  55000  - latest record from:  2023-02-13 08:42:35 6 days ago\n",
      "iterations:  55 Lines skipped:  55000 records collected:  1000  - latest recordID:  borrowAsset   0x186f6c99d4fe58a91ba6b8c57bfdde7e40b3bc9137a19971b4ee875662b7ca8a  - actions DB length:  56000  - latest record from:  2023-02-13 06:27:35 6 days ago\n",
      "iterations:  56 Lines skipped:  56000 records collected:  1000  - latest recordID:  removeCollateral   0xcf9fdd868da296feca4c40710bd7601676265a61f3bdac3d7942888e0c56ffe3  - actions DB length:  57000  - latest record from:  2023-02-13 04:49:23 6 days ago\n",
      "iterations:  57 Lines skipped:  57000 records collected:  1000  - latest recordID:  repayAsset   0x1ec1f1d781c20ba212b8c86e9141634dfa5ab919c9b4a15bf53eeea45c669dfe  - actions DB length:  58000  - latest record from:  2023-02-13 04:48:11 6 days ago\n",
      "iterations:  58 Lines skipped:  58000 records collected:  1000  - latest recordID:  removeCollateral   0xa78cd3b8692a61e7e2b1781c7e7bc2e46878b4e81597d9789dc82f9bb4a64b4c  - actions DB length:  59000  - latest record from:  2023-02-13 04:41:59 6 days ago\n",
      "iterations:  59 Lines skipped:  59000 records collected:  1000  - latest recordID:  repayAsset   0x395e8e7df1cfc36cf1c5c5e745ac1fcb7d166a1b66b361f559344fbdbabf8f19  - actions DB length:  60000  - latest record from:  2023-02-13 04:41:35 6 days ago\n",
      "iterations:  60 Lines skipped:  60000 records collected:  1000  - latest recordID:  removeCollateral   0x03d12a970c30f0e7353660d5c58b307c6e5be4a87e4009a60aa455f3a4a0f18e  - actions DB length:  61000  - latest record from:  2023-02-13 04:26:59 6 days ago\n",
      "iterations:  61 Lines skipped:  61000 records collected:  1000  - latest recordID:  borrowAsset   0xa42ad3c60359e04fc73813bdabdfe157f94e370f26a21fb99077e6189e4bfd31+1  - actions DB length:  62000  - latest record from:  2023-02-12 13:56:35 7 days ago\n",
      "iterations:  62 Lines skipped:  62000 records collected:  1000  - latest recordID:  addCollateral   0xa42ad3c60359e04fc73813bdabdfe157f94e370f26a21fb99077e6189e4bfd31  - actions DB length:  63000  - latest record from:  2023-02-12 13:56:35 7 days ago\n",
      "iterations:  63 Lines skipped:  63000 records collected:  1000  - latest recordID:  borrowAsset   0x2f85c1a1f6bf251ca376cb2eab3fb95af43dde6c0380602d348ac6a0d1822183+1  - actions DB length:  64000  - latest record from:  2023-02-12 13:47:11 7 days ago\n",
      "iterations:  64 Lines skipped:  64000 records collected:  1000  - latest recordID:  addCollateral   0x2f85c1a1f6bf251ca376cb2eab3fb95af43dde6c0380602d348ac6a0d1822183  - actions DB length:  65000  - latest record from:  2023-02-12 13:47:11 7 days ago\n",
      "iterations:  65 Lines skipped:  65000 records collected:  1000  - latest recordID:  addAsset   0xcf2e9b35e0a5c582432b78db0ac293e539f10ba35c2b7c79951e2e80f8bf8bf2+1  - actions DB length:  66000  - latest record from:  2023-02-12 00:38:23 8 days ago\n",
      "iterations:  66 Lines skipped:  66000 records collected:  1000  - latest recordID:  borrowAsset   0xee34f32e20b41579ddf7e587f24830caee2f849ff3e7b802f877a9c48c1dee57  - actions DB length:  67000  - latest record from:  2023-02-11 22:02:35 8 days ago\n",
      "iterations:  67 Lines skipped:  67000 records collected:  1000  - latest recordID:  borrowAsset   0xdbbb4f259191ec17e46adf94b08b05144a9cb953ffd48d74a3550299466078f1+1  - actions DB length:  68000  - latest record from:  2023-02-11 21:43:47 8 days ago\n",
      "iterations:  68 Lines skipped:  68000 records collected:  1000  - latest recordID:  addCollateral   0xdbbb4f259191ec17e46adf94b08b05144a9cb953ffd48d74a3550299466078f1  - actions DB length:  69000  - latest record from:  2023-02-11 21:43:47 8 days ago\n",
      "iterations:  69 Lines skipped:  69000 records collected:  1000  - latest recordID:  borrowAsset   0x06a7261f4c8dcf2898b2041e79f8ee5f3f59a3fc7b4b3834b54cba6f458726f6  - actions DB length:  70000  - latest record from:  2023-02-11 05:14:23 8 days ago\n",
      "iterations:  70 Lines skipped:  70000 records collected:  1000  - latest recordID:  borrowAsset   0x40aae84af13261a43d09f402c7cfb666080135218ece4b4093af6f023b935348  - actions DB length:  71000  - latest record from:  2023-02-11 05:02:23 8 days ago\n",
      "iterations:  71 Lines skipped:  71000 records collected:  1000  - latest recordID:  borrowAsset   0x9b073aff89c20648bc17f6f3e923e28693612cd406924ba5bb342e81f8dea5e2  - actions DB length:  72000  - latest record from:  2023-02-11 05:01:23 8 days ago\n",
      "iterations:  72 Lines skipped:  72000 records collected:  1000  - latest recordID:  borrowAsset   0xe051c1a92ebd849d7ab28f651634a0e7bdc63ead0980d4d07b5bd807729688ed  - actions DB length:  73000  - latest record from:  2023-02-11 04:58:59 8 days ago\n",
      "iterations:  73 Lines skipped:  73000 records collected:  1000  - latest recordID:  addAsset   0xe7e07a65628df0ff4613cc1e0069326791509927a0501beafed7e01eb9e6415f  - actions DB length:  74000  - latest record from:  2023-02-11 02:03:23 9 days ago\n",
      "iterations:  74 Lines skipped:  74000 records collected:  1000  - latest recordID:  removeAsset   0xbaca6dc31a27148743df9e8d763c9b6ccafd49ba7bc625469a076e492366c074  - actions DB length:  75000  - latest record from:  2023-02-11 01:54:35 9 days ago\n",
      "iterations:  75 Lines skipped:  75000 records collected:  1000  - latest recordID:  borrowAsset   0xdc90c7de02b82c42e50713526a4e2c566b94e1af9b4bcb749e8404713b13fa8e  - actions DB length:  76000  - latest record from:  2023-02-10 23:49:23 9 days ago\n",
      "iterations:  76 Lines skipped:  76000 records collected:  1000  - latest recordID:  addCollateral   0xdca8987ad53c0a328708f6601d8755ac8b876831a0625661fbda7e52eb965947  - actions DB length:  77000  - latest record from:  2023-02-10 23:29:47 9 days ago\n",
      "iterations:  77 Lines skipped:  77000 records collected:  1000  - latest recordID:  borrowAsset   0x22a13c9d326c85833f65f6569bc7dfef93768d893270d9c4de775efdfebb2454  - actions DB length:  78000  - latest record from:  2023-02-10 22:28:11 9 days ago\n",
      "iterations:  78 Lines skipped:  78000 records collected:  1000  - latest recordID:  repayAsset   0x61b85113554f41e41beb5a81ae45336168b6eedaf7c597a8cbf838e53e656750  - actions DB length:  79000  - latest record from:  2023-02-10 17:43:47 9 days ago\n",
      "iterations:  79 Lines skipped:  79000 records collected:  1000  - latest recordID:  removeCollateral   0x12a8cb34e5cb26d0ee0b0cc211aabb0b03f636409dbd8e967dfed28e6eea90ba  - actions DB length:  80000  - latest record from:  2023-02-10 14:42:47 9 days ago\n",
      "iterations:  80 Lines skipped:  80000 records collected:  1000  - latest recordID:  repayAsset   0xc7c1739911ae71f7726d1d32214edb8161a341f7fcd7dc6d466681da295491ec  - actions DB length:  81000  - latest record from:  2023-02-10 14:41:35 9 days ago\n",
      "iterations:  81 Lines skipped:  81000 records collected:  1000  - latest recordID:  repayAsset   0x40e939c94b527bd4eb9f8f102cfe3c179b61f0da6bb7bb6a5ee815af6d2eaa11  - actions DB length:  82000  - latest record from:  2023-02-10 09:15:35 9 days ago\n",
      "iterations:  82 Lines skipped:  82000 records collected:  1000  - latest recordID:  borrowAsset   0x6dc275d27f2cbca7232c6fa9019ea1c84a3983636a7c102b0759efc8f5662b44  - actions DB length:  83000  - latest record from:  2023-02-10 09:14:11 9 days ago\n",
      "iterations:  83 Lines skipped:  83000 records collected:  1000  - latest recordID:  repayAsset   0x83e2ea08ec4f8a38735c7ad01954ce62ae9f79b84e7d8aadec3c4296ae5cc3bf  - actions DB length:  84000  - latest record from:  2023-02-10 08:51:11 9 days ago\n",
      "iterations:  84 Lines skipped:  84000 records collected:  1000  - latest recordID:  removeCollateral   0x004795cddb57f7037626cc0ca26e84c7507dde798b5a88696faec6b2f4ba4cf4  - actions DB length:  85000  - latest record from:  2023-02-10 08:47:23 9 days ago\n",
      "iterations:  85 Lines skipped:  85000 records collected:  1000  - latest recordID:  removeCollateral   0x17df17ec4b65d028374f6407d7998a40e2a4fdca7cbeb09bd9e8d4844efa6107  - actions DB length:  86000  - latest record from:  2023-02-10 05:46:59 9 days ago\n",
      "iterations:  86 Lines skipped:  86000 records collected:  1000  - latest recordID:  borrowAsset   0xd76a5cb0e7219544a326f05a05bc08f8e79de4947c20d926adf59efa1c0d396b  - actions DB length:  87000  - latest record from:  2023-02-10 05:28:11 9 days ago\n",
      "iterations:  87 Lines skipped:  87000 records collected:  1000  - latest recordID:  repayAsset   0x5dee647c2e8ebfad8bac45dd1ca3eab67b4841ef169283d0e759391177ad006b  - actions DB length:  88000  - latest record from:  2023-02-10 04:42:35 9 days ago\n",
      "iterations:  88 Lines skipped:  88000 records collected:  1000  - latest recordID:  borrowAsset   0xd35638a578d8f0b2134f2e09f085f4d4d2dbb1494604fc0dbd819234e3390aaf+1  - actions DB length:  89000  - latest record from:  2023-02-09 14:44:11 10 days ago\n",
      "iterations:  89 Lines skipped:  89000 records collected:  1000  - latest recordID:  addCollateral   0xd35638a578d8f0b2134f2e09f085f4d4d2dbb1494604fc0dbd819234e3390aaf  - actions DB length:  90000  - latest record from:  2023-02-09 14:44:11 10 days ago\n",
      "iterations:  90 Lines skipped:  90000 records collected:  1000  - latest recordID:  borrowAsset   0x3092d76c46045fdcf57272151e55e1b105bd4b7d4063c71cd786bf1ce5df9205  - actions DB length:  91000  - latest record from:  2023-02-09 14:41:47 10 days ago\n",
      "iterations:  91 Lines skipped:  91000 records collected:  1000  - latest recordID:  borrowAsset   0xa20176fd6cb8470bb538af582d7d97e27bbf75135d8ac2f0342c67e7a4b25bc8+1  - actions DB length:  92000  - latest record from:  2023-02-09 13:41:11 10 days ago\n",
      "iterations:  92 Lines skipped:  92000 records collected:  1000  - latest recordID:  addCollateral   0xa20176fd6cb8470bb538af582d7d97e27bbf75135d8ac2f0342c67e7a4b25bc8  - actions DB length:  93000  - latest record from:  2023-02-09 13:41:11 10 days ago\n",
      "iterations:  93 Lines skipped:  93000 records collected:  1000  - latest recordID:  borrowAsset   0x2dc9bc4f7c7ac1708768d1f6f6e6a41b8fb4964fd89410ef265d79d104d66384+1  - actions DB length:  94000  - latest record from:  2023-02-09 12:12:59 10 days ago\n",
      "iterations:  94 Lines skipped:  94000 records collected:  1000  - latest recordID:  addCollateral   0x2dc9bc4f7c7ac1708768d1f6f6e6a41b8fb4964fd89410ef265d79d104d66384  - actions DB length:  95000  - latest record from:  2023-02-09 12:12:59 10 days ago\n",
      "iterations:  95 Lines skipped:  95000 records collected:  1000  - latest recordID:  borrowAsset   0x5dea5a1baef298676a0c47666ca76db0d00637a96750e0d04f97f4f11e555127  - actions DB length:  96000  - latest record from:  2023-02-09 11:55:47 10 days ago\n",
      "iterations:  96 Lines skipped:  96000 records collected:  1000  - latest recordID:  borrowAsset   0x2c4738e7f57d0ef25cef1541393689e07f7f01b8774ac93e4925eb72eb813047+1  - actions DB length:  97000  - latest record from:  2023-02-09 11:31:47 10 days ago\n",
      "iterations:  97 Lines skipped:  97000 records collected:  1000  - latest recordID:  addCollateral   0x2c4738e7f57d0ef25cef1541393689e07f7f01b8774ac93e4925eb72eb813047  - actions DB length:  98000  - latest record from:  2023-02-09 11:31:47 10 days ago\n",
      "iterations:  98 Lines skipped:  98000 records collected:  1000  - latest recordID:  borrowAsset   0x5ab8113bf249f443569eb7a2bf142308a907e50b70ddd36e4e8e7042877c6eff+1  - actions DB length:  99000  - latest record from:  2023-02-09 10:48:59 10 days ago\n",
      "iterations:  99 Lines skipped:  99000 records collected:  1000  - latest recordID:  addCollateral   0x5ab8113bf249f443569eb7a2bf142308a907e50b70ddd36e4e8e7042877c6eff  - actions DB length:  100000  - latest record from:  2023-02-09 10:48:59 10 days ago\n",
      "iterations:  100 Lines skipped:  100000 records collected:  1000  - latest recordID:  borrowAsset   0x45dbb93901bca44a7d83c1ba9aec12bc1450a48f70b65b310782e7b9c69e5857+1  - actions DB length:  101000  - latest record from:  2023-02-09 07:25:47 10 days ago\n",
      "iterations:  101 Lines skipped:  101000 records collected:  1000  - latest recordID:  addCollateral   0x45dbb93901bca44a7d83c1ba9aec12bc1450a48f70b65b310782e7b9c69e5857  - actions DB length:  102000  - latest record from:  2023-02-09 07:25:47 10 days ago\n",
      "iterations:  102 Lines skipped:  102000 records collected:  1000  - latest recordID:  borrowAsset   0xd643ca592784c258342d02d2e22b4480e6b806a75d77fdbc7790b33eb4702268+1  - actions DB length:  103000  - latest record from:  2023-02-09 04:55:11 10 days ago\n",
      "iterations:  103 Lines skipped:  103000 records collected:  1000  - latest recordID:  addCollateral   0xd643ca592784c258342d02d2e22b4480e6b806a75d77fdbc7790b33eb4702268  - actions DB length:  104000  - latest record from:  2023-02-09 04:55:11 10 days ago\n",
      "iterations:  104 Lines skipped:  104000 records collected:  1000  - latest recordID:  removeCollateral   0x6d8ce1e40ed662ba3327b182f9d9ffae9443fb13bfbb3e03dd5908727d60e7f8  - actions DB length:  105000  - latest record from:  2023-02-09 04:10:11 11 days ago\n",
      "iterations:  105 Lines skipped:  105000 records collected:  1000  - latest recordID:  removeCollateral   0x57883c70bcdb43a1aa8e169295aeac57f30c288c03e6b96a9e2827e551261b9f  - actions DB length:  106000  - latest record from:  2023-02-08 22:44:59 11 days ago\n",
      "iterations:  106 Lines skipped:  106000 records collected:  1000  - latest recordID:  removeCollateral   0xf1391d046913eca25021c8eb8974d370089e1cdc74f77bd8898f56c7330d5039  - actions DB length:  107000  - latest record from:  2023-02-08 22:40:35 11 days ago\n",
      "iterations:  107 Lines skipped:  107000 records collected:  1000  - latest recordID:  repayAsset   0x7f9a9b4079f340cc010ddcf1ccbac3db2e1ea4e29adb9fec370000858744d38c  - actions DB length:  108000  - latest record from:  2023-02-08 22:39:47 11 days ago\n",
      "iterations:  108 Lines skipped:  108000 records collected:  1000  - latest recordID:  borrowAsset   0x4017bc338022ebff43c95d17cd8ae339d3663b31aa7bc715be25e2a2e873d75c+1  - actions DB length:  109000  - latest record from:  2023-02-08 19:39:47 11 days ago\n",
      "iterations:  109 Lines skipped:  109000 records collected:  1000  - latest recordID:  addCollateral   0x4017bc338022ebff43c95d17cd8ae339d3663b31aa7bc715be25e2a2e873d75c  - actions DB length:  110000  - latest record from:  2023-02-08 19:39:47 11 days ago\n",
      "iterations:  110 Lines skipped:  110000 records collected:  1000  - latest recordID:  removeCollateral   0xb2dc4e73b817320ffcf34c86dc9d411786e37f8af2ad739fe9eba048b40c0126  - actions DB length:  111000  - latest record from:  2023-02-08 16:01:59 11 days ago\n",
      "iterations:  111 Lines skipped:  111000 records collected:  1000  - latest recordID:  repayAsset   0xbc537609adb35fdd165f22a83da392b898080e7e2b7046c595d42bb37e971e77  - actions DB length:  112000  - latest record from:  2023-02-08 16:00:35 11 days ago\n",
      "iterations:  112 Lines skipped:  112000 records collected:  1000  - latest recordID:  borrowAsset   0x7df62271c4a8279ff7bf52964c87454584b629575af66e377b9b53694f5b0112+1  - actions DB length:  113000  - latest record from:  2023-02-08 13:00:59 11 days ago\n",
      "iterations:  113 Lines skipped:  113000 records collected:  1000  - latest recordID:  addCollateral   0x7df62271c4a8279ff7bf52964c87454584b629575af66e377b9b53694f5b0112  - actions DB length:  114000  - latest record from:  2023-02-08 13:00:59 11 days ago\n",
      "iterations:  114 Lines skipped:  114000 records collected:  1000  - latest recordID:  borrowAsset   0x24436c0d5c6419ffac45c32d4115128f4075a9ace8720bf12dc8048de6086a42+1  - actions DB length:  115000  - latest record from:  2023-02-08 12:07:47 11 days ago\n",
      "iterations:  115 Lines skipped:  115000 records collected:  1000  - latest recordID:  addCollateral   0x24436c0d5c6419ffac45c32d4115128f4075a9ace8720bf12dc8048de6086a42  - actions DB length:  116000  - latest record from:  2023-02-08 12:07:47 11 days ago\n",
      "iterations:  116 Lines skipped:  116000 records collected:  1000  - latest recordID:  borrowAsset   0x5520cee4dfed2595a6f9d0de5f3b8f26b874112fa11efa5347785b23ceca27ab  - actions DB length:  117000  - latest record from:  2023-02-08 12:04:23 11 days ago\n",
      "iterations:  117 Lines skipped:  117000 records collected:  1000  - latest recordID:  borrowAsset   0x4e156dda6a27c39160c859b3b5327334d50c02b8d09fa3fa4c08164344f17217+1  - actions DB length:  118000  - latest record from:  2023-02-08 11:58:59 11 days ago\n",
      "iterations:  118 Lines skipped:  118000 records collected:  1000  - latest recordID:  addCollateral   0x4e156dda6a27c39160c859b3b5327334d50c02b8d09fa3fa4c08164344f17217  - actions DB length:  119000  - latest record from:  2023-02-08 11:58:59 11 days ago\n",
      "iterations:  119 Lines skipped:  119000 records collected:  1000  - latest recordID:  borrowAsset   0x4b3964dc8e347cb40ffbac555be28c2261df0f076aa61d4972a9fb5942151d2f  - actions DB length:  120000  - latest record from:  2023-02-08 11:56:23 11 days ago\n",
      "iterations:  120 Lines skipped:  120000 records collected:  1000  - latest recordID:  borrowAsset   0xfd08d4987b9ba88e59c23667c6c177ffeaab6f7d1af18194b1fa540212efd1b8+1  - actions DB length:  121000  - latest record from:  2023-02-08 08:38:11 11 days ago\n",
      "iterations:  121 Lines skipped:  121000 records collected:  1000  - latest recordID:  addCollateral   0xfd08d4987b9ba88e59c23667c6c177ffeaab6f7d1af18194b1fa540212efd1b8  - actions DB length:  122000  - latest record from:  2023-02-08 08:38:11 11 days ago\n",
      "iterations:  122 Lines skipped:  122000 records collected:  1000  - latest recordID:  repayAsset   0x87953dce0f55cdd157c52fb9ce2ede8c34012f0c2c2922e3f7e2d784bafc7f9b  - actions DB length:  123000  - latest record from:  2023-02-07 18:50:11 12 days ago\n",
      "iterations:  123 Lines skipped:  123000 records collected:  1000  - latest recordID:  removeCollateral   0xf7b38e66cb9f10e080eece1db80bd31c70298121a6df5fcb6436976b3f02b5ed  - actions DB length:  124000  - latest record from:  2023-02-07 17:43:23 12 days ago\n",
      "iterations:  124 Lines skipped:  124000 records collected:  1000  - latest recordID:  addCollateral   0x0509d1c3f87fb34f957cf8f474166a4960baf6b7f3209794fb850d826ab2b5c3  - actions DB length:  125000  - latest record from:  2023-02-07 14:24:59 12 days ago\n",
      "iterations:  125 Lines skipped:  125000 records collected:  1000  - latest recordID:  borrowAsset   0x16f81815f26c71a21323e3cf68772f0f2250263a2307559bda56ed0c697da404  - actions DB length:  126000  - latest record from:  2023-02-07 14:22:59 12 days ago\n",
      "iterations:  126 Lines skipped:  126000 records collected:  1000  - latest recordID:  borrowAsset   0x6d2b4b3ab5d7d7b20dc8abdb7ab009303a9f2614f03093afbc00ff83b256b55b+1  - actions DB length:  127000  - latest record from:  2023-02-07 14:22:11 12 days ago\n",
      "iterations:  127 Lines skipped:  127000 records collected:  1000  - latest recordID:  addCollateral   0x6d2b4b3ab5d7d7b20dc8abdb7ab009303a9f2614f03093afbc00ff83b256b55b  - actions DB length:  128000  - latest record from:  2023-02-07 14:22:11 12 days ago\n",
      "iterations:  128 Lines skipped:  128000 records collected:  1000  - latest recordID:  borrowAsset   0x5b9cb6e3e76280f768a0a171db73925c98489b3f25193e28eae3bb0bffbc0547+1  - actions DB length:  129000  - latest record from:  2023-02-07 10:35:23 12 days ago\n",
      "iterations:  129 Lines skipped:  129000 records collected:  1000  - latest recordID:  addCollateral   0x5b9cb6e3e76280f768a0a171db73925c98489b3f25193e28eae3bb0bffbc0547  - actions DB length:  130000  - latest record from:  2023-02-07 10:35:23 12 days ago\n",
      "iterations:  130 Lines skipped:  130000 records collected:  1000  - latest recordID:  borrowAsset   0x9be2488f1c1bd4e912249b7977d2112c7c778f8f4eddde715d4f335cef8a1ed2+1  - actions DB length:  131000  - latest record from:  2023-02-07 06:01:11 12 days ago\n",
      "iterations:  131 Lines skipped:  131000 records collected:  1000  - latest recordID:  addCollateral   0x9be2488f1c1bd4e912249b7977d2112c7c778f8f4eddde715d4f335cef8a1ed2  - actions DB length:  132000  - latest record from:  2023-02-07 06:01:11 12 days ago\n",
      "iterations:  132 Lines skipped:  132000 records collected:  1000  - latest recordID:  borrowAsset   0xbefa2e59d3e8d0c431dfac8ce9aca2e00fb0a17e66a56512be1b47b740d95089  - actions DB length:  133000  - latest record from:  2023-02-07 05:58:47 12 days ago\n",
      "iterations:  133 Lines skipped:  133000 records collected:  1000  - latest recordID:  repayAsset   0x780b2ae8e35f8c6155032b8211eb8e1fbdb0011af9147f5b05d5886cfd120ac5  - actions DB length:  134000  - latest record from:  2023-02-06 21:37:23 13 days ago\n",
      "iterations:  134 Lines skipped:  134000 records collected:  1000  - latest recordID:  borrowAsset   0x834ce05c7b0e411a74bac4beaead4639905451289a4762e6639336546f6f57aa  - actions DB length:  135000  - latest record from:  2023-02-06 19:18:11 13 days ago\n",
      "iterations:  135 Lines skipped:  135000 records collected:  1000  - latest recordID:  borrowAsset   0xd824db46f2929d7f851c883c6d8a16309ed1c6a4467b6199dc28d0bdc3e109f4+1  - actions DB length:  136000  - latest record from:  2023-02-06 19:17:23 13 days ago\n",
      "iterations:  136 Lines skipped:  136000 records collected:  1000  - latest recordID:  addCollateral   0xd824db46f2929d7f851c883c6d8a16309ed1c6a4467b6199dc28d0bdc3e109f4  - actions DB length:  137000  - latest record from:  2023-02-06 19:17:23 13 days ago\n",
      "iterations:  137 Lines skipped:  137000 records collected:  1000  - latest recordID:  removeAsset   0x364fc3214b25629d0d134c2a62aac9aaac6436dc219bbfc58c57798bc55871dd  - actions DB length:  138000  - latest record from:  2023-02-06 15:01:11 13 days ago\n",
      "iterations:  138 Lines skipped:  138000 records collected:  1000  - latest recordID:  borrowAsset   0x326e0444e2ccf71f1285954fdbbcc855c29485f92ea0a6d490a515a40dff7aec+1  - actions DB length:  139000  - latest record from:  2023-02-06 10:45:11 13 days ago\n",
      "iterations:  139 Lines skipped:  139000 records collected:  1000  - latest recordID:  addCollateral   0x326e0444e2ccf71f1285954fdbbcc855c29485f92ea0a6d490a515a40dff7aec  - actions DB length:  140000  - latest record from:  2023-02-06 10:45:11 13 days ago\n",
      "iterations:  140 Lines skipped:  140000 records collected:  1000  - latest recordID:  borrowAsset   0x6b99b9e2f74062143534c02a79920d1c33f6d56fcd051943e76778982bd2cdd9+1  - actions DB length:  141000  - latest record from:  2023-02-06 09:02:23 13 days ago\n",
      "iterations:  141 Lines skipped:  141000 records collected:  1000  - latest recordID:  addCollateral   0x6b99b9e2f74062143534c02a79920d1c33f6d56fcd051943e76778982bd2cdd9  - actions DB length:  142000  - latest record from:  2023-02-06 09:02:23 13 days ago\n",
      "iterations:  142 Lines skipped:  142000 records collected:  1000  - latest recordID:  removeCollateral   0x0b18b1c7c3dafc9ef9f513f540f1de376325ceec3962a5e8de18978a72efbebf  - actions DB length:  143000  - latest record from:  2023-02-06 08:52:11 13 days ago\n",
      "iterations:  143 Lines skipped:  143000 records collected:  1000  - latest recordID:  borrowAsset   0x996d854115a22865e3a5ac1a4ee49b33ce889ea4b8e6c67d764cf64804d315d3+1  - actions DB length:  144000  - latest record from:  2023-02-06 03:42:11 14 days ago\n",
      "iterations:  144 Lines skipped:  144000 records collected:  1000  - latest recordID:  addCollateral   0x996d854115a22865e3a5ac1a4ee49b33ce889ea4b8e6c67d764cf64804d315d3  - actions DB length:  145000  - latest record from:  2023-02-06 03:42:11 14 days ago\n",
      "iterations:  145 Lines skipped:  145000 records collected:  1000  - latest recordID:  removeCollateral   0x552a52cd82bbebd0c5c0a9927eb3038c02786eef571b471364e4bc58a8777051  - actions DB length:  146000  - latest record from:  2023-02-06 03:38:11 14 days ago\n",
      "iterations:  146 Lines skipped:  146000 records collected:  1000  - latest recordID:  addAsset   0xcbda7b3075b591cb56f138137c3a0473f29c824ed257f65f51fa421717b8431b  - actions DB length:  147000  - latest record from:  2023-02-05 21:13:59 14 days ago\n",
      "iterations:  147 Lines skipped:  147000 records collected:  1000  - latest recordID:  removeCollateral   0x60c347a83d10615197b96f4d23f6760e8947668d8ea33377c3f6d700b0999bc8  - actions DB length:  148000  - latest record from:  2023-02-05 16:27:35 14 days ago\n",
      "iterations:  148 Lines skipped:  148000 records collected:  1000  - latest recordID:  repayAsset   0xea0b3054fc21bd86b06f4f015561d14f12fa49c1e1127bf5b614a843de9b7c64  - actions DB length:  149000  - latest record from:  2023-02-05 16:25:23 14 days ago\n",
      "iterations:  149 Lines skipped:  149000 records collected:  1000  - latest recordID:  removeCollateral   0xc0e0cbfdf272c9176ad6fc9d5b25cdf33bfaafba6c8c22ebe91250778aec9e8b  - actions DB length:  150000  - latest record from:  2023-02-05 14:09:23 14 days ago\n",
      "iterations:  150 Lines skipped:  150000 records collected:  1000  - latest recordID:  repayAsset   0xbbc80a25645a9e2dc1d704832a11c0d442d7022d59a4d6959718d04bf3e7d0cc  - actions DB length:  151000  - latest record from:  2023-02-05 14:04:11 14 days ago\n",
      "iterations:  151 Lines skipped:  151000 records collected:  1000  - latest recordID:  borrowAsset   0xa979b2ca17af70bdbe5f6804cbfbdd885d26175a6ab19ae94c4b909aa3446e81  - actions DB length:  152000  - latest record from:  2023-02-05 11:39:11 14 days ago\n",
      "iterations:  152 Lines skipped:  152000 records collected:  1000  - latest recordID:  addCollateral   0xf79086c46e8db29afdfa2f26bc6f6e4f4ea9a58cdce3a7227379e7bfa00d2c92  - actions DB length:  153000  - latest record from:  2023-02-05 11:35:47 14 days ago\n",
      "iterations:  153 Lines skipped:  153000 records collected:  1000  - latest recordID:  borrowAsset   0x20a5beee4b3159a97bec055f86cb38f6418a693c87cff1ce8832610b2113ab71+1  - actions DB length:  154000  - latest record from:  2023-02-05 09:38:11 14 days ago\n",
      "iterations:  154 Lines skipped:  154000 records collected:  1000  - latest recordID:  addCollateral   0x20a5beee4b3159a97bec055f86cb38f6418a693c87cff1ce8832610b2113ab71  - actions DB length:  155000  - latest record from:  2023-02-05 09:38:11 14 days ago\n",
      "iterations:  155 Lines skipped:  155000 records collected:  1000  - latest recordID:  removeAsset   0x203a5a3c0c301fcd1a1439ef77d214f0ed7fc0b4796cf656671874f695449d70  - actions DB length:  156000  - latest record from:  2023-02-05 09:19:11 14 days ago\n",
      "iterations:  156 Lines skipped:  156000 records collected:  1000  - latest recordID:  removeAsset   0xc9ad8e2eab317298ee30b2bdb483effb0e40293e8ced5e2c82d93e4b98afe755  - actions DB length:  157000  - latest record from:  2023-02-05 01:32:11 15 days ago\n",
      "iterations:  157 Lines skipped:  157000 records collected:  1000  - latest recordID:  removeAsset   0x77d537ee18009ccc59d95c2704aa35615ea7501716a436ffbbad7687a145600a  - actions DB length:  158000  - latest record from:  2023-02-05 00:14:59 15 days ago\n",
      "iterations:  158 Lines skipped:  158000 records collected:  1000  - latest recordID:  addAsset   0x34def1c3f26d7857d5a1777b3065112f0802c95ee52bf46d1cba579861a3c649  - actions DB length:  159000  - latest record from:  2023-02-03 11:11:35 16 days ago\n",
      "iterations:  159 Lines skipped:  159000 records collected:  1000  - latest recordID:  removeAsset   0xc8471a07381cc2fbab59ee374586cea332bf39132a7f22b54fc50d6db2e59d30  - actions DB length:  160000  - latest record from:  2023-02-03 10:50:23 16 days ago\n",
      "iterations:  160 Lines skipped:  160000 records collected:  1000  - latest recordID:  addAsset   0xdea09eb1f1c443979719b5c2123fb80050c787851768fdfe0265ac690d589041  - actions DB length:  161000  - latest record from:  2023-02-03 08:56:59 16 days ago\n",
      "iterations:  161 Lines skipped:  161000 records collected:  1000  - latest recordID:  borrowAsset   0xab89c1a653789aac01381cdf75975ab768411978fe1d3ad38171a29cd2fffc3a  - actions DB length:  162000  - latest record from:  2023-02-03 07:31:23 16 days ago\n",
      "iterations:  162 Lines skipped:  162000 records collected:  1000  - latest recordID:  borrowAsset   0x2b4448fd953c5accbab7d852020be209da0f5eb8307119d96a6a90db2ee6e8d7+1  - actions DB length:  163000  - latest record from:  2023-02-02 15:47:35 17 days ago\n",
      "iterations:  163 Lines skipped:  163000 records collected:  1000  - latest recordID:  addCollateral   0x2b4448fd953c5accbab7d852020be209da0f5eb8307119d96a6a90db2ee6e8d7  - actions DB length:  164000  - latest record from:  2023-02-02 15:47:35 17 days ago\n",
      "iterations:  164 Lines skipped:  164000 records collected:  1000  - latest recordID:  borrowAsset   0xd4b76291ca09549fa743fa83438a482f74730e480b8c4c061a10d7d7cee2f473  - actions DB length:  165000  - latest record from:  2023-02-02 15:01:11 17 days ago\n",
      "iterations:  165 Lines skipped:  165000 records collected:  1000  - latest recordID:  addCollateral   0x561d220422d20801fc65fefe683669eaf3e5fba6e4a8b35648e2109d79d8172b  - actions DB length:  166000  - latest record from:  2023-02-02 14:59:59 17 days ago\n",
      "iterations:  166 Lines skipped:  166000 records collected:  1000  - latest recordID:  borrowAsset   0x37f5137e3d9f012fd557e769aafc97bb1aa9d6519dc6a4f1ef36689c4c22f227  - actions DB length:  167000  - latest record from:  2023-02-02 14:54:47 17 days ago\n",
      "iterations:  167 Lines skipped:  167000 records collected:  1000  - latest recordID:  addCollateral   0xf121ac2f8ca25a303edb67091899460e6454f3f0a0afa66c31c730206d59587f  - actions DB length:  168000  - latest record from:  2023-02-02 14:53:59 17 days ago\n",
      "iterations:  168 Lines skipped:  168000 records collected:  1000  - latest recordID:  borrowAsset   0xc3dc02ee3cadd2ffb49e08af9305d2d8d8cd03ff3425816e6f28ccb75ca98475+1  - actions DB length:  169000  - latest record from:  2023-02-02 08:22:47 17 days ago\n",
      "iterations:  169 Lines skipped:  169000 records collected:  1000  - latest recordID:  addCollateral   0xc3dc02ee3cadd2ffb49e08af9305d2d8d8cd03ff3425816e6f28ccb75ca98475  - actions DB length:  170000  - latest record from:  2023-02-02 08:22:47 17 days ago\n",
      "iterations:  170 Lines skipped:  170000 records collected:  1000  - latest recordID:  borrowAsset   0x507874609d7eff32999ea66304d4d137ae8f1854fce52653d113ac80b4099778+1  - actions DB length:  171000  - latest record from:  2023-02-02 08:21:47 17 days ago\n",
      "iterations:  171 Lines skipped:  171000 records collected:  1000  - latest recordID:  addCollateral   0x507874609d7eff32999ea66304d4d137ae8f1854fce52653d113ac80b4099778  - actions DB length:  172000  - latest record from:  2023-02-02 08:21:47 17 days ago\n",
      "iterations:  172 Lines skipped:  172000 records collected:  1000  - latest recordID:  borrowAsset   0x333db65350964ed518ca0542b69b7cac675bc43f888727e6247e9c79e58c133c+1  - actions DB length:  173000  - latest record from:  2023-02-02 07:42:47 17 days ago\n",
      "iterations:  173 Lines skipped:  173000 records collected:  1000  - latest recordID:  addCollateral   0x333db65350964ed518ca0542b69b7cac675bc43f888727e6247e9c79e58c133c  - actions DB length:  174000  - latest record from:  2023-02-02 07:42:47 17 days ago\n",
      "iterations:  174 Lines skipped:  174000 records collected:  1000  - latest recordID:  borrowAsset   0x66a8ab00fe08a5204dbc4870d92d82cb4e5973525c58f76185cada22155c6865+1  - actions DB length:  175000  - latest record from:  2023-02-01 22:54:11 18 days ago\n",
      "iterations:  175 Lines skipped:  175000 records collected:  1000  - latest recordID:  addCollateral   0x66a8ab00fe08a5204dbc4870d92d82cb4e5973525c58f76185cada22155c6865  - actions DB length:  176000  - latest record from:  2023-02-01 22:54:11 18 days ago\n",
      "iterations:  176 Lines skipped:  176000 records collected:  1000  - latest recordID:  removeCollateral   0xbb5b4f513dcc2988c382a6a4a89906d01fe51bda47a2ffcc760a05762e2e4e9d  - actions DB length:  177000  - latest record from:  2023-02-01 21:34:23 18 days ago\n",
      "iterations:  177 Lines skipped:  177000 records collected:  1000  - latest recordID:  repayAsset   0xbc551659bec3d5aa222e74772d7af57e22adbb0265b7107e3cadbd7d39adcb93  - actions DB length:  178000  - latest record from:  2023-02-01 21:31:59 18 days ago\n",
      "iterations:  178 Lines skipped:  178000 records collected:  1000  - latest recordID:  borrowAsset   0xf99a05c329600918085e1b16c083ce5ae78ebffbe92897c92e121445cf2dd393  - actions DB length:  179000  - latest record from:  2023-02-01 18:34:59 18 days ago\n",
      "iterations:  179 Lines skipped:  179000 records collected:  1000  - latest recordID:  borrowAsset   0x03f55917c68857379d4805da693c7e4b5166b52b5b3adf2154d7206a5243dcf9  - actions DB length:  180000  - latest record from:  2023-02-01 16:54:47 18 days ago\n",
      "iterations:  180 Lines skipped:  180000 records collected:  1000  - latest recordID:  borrowAsset   0xc38d788823d01d7c34369e15962737ac808d80ef0cae930b28b40a38017cecc7  - actions DB length:  181000  - latest record from:  2023-02-01 13:01:35 18 days ago\n",
      "iterations:  181 Lines skipped:  181000 records collected:  1000  - latest recordID:  borrowAsset   0x26f7fd2ab436b9370a1b272345625be420f6895b1f58a933388b062e908b7375+1  - actions DB length:  182000  - latest record from:  2023-02-01 11:15:59 18 days ago\n",
      "iterations:  182 Lines skipped:  182000 records collected:  1000  - latest recordID:  addCollateral   0x26f7fd2ab436b9370a1b272345625be420f6895b1f58a933388b062e908b7375  - actions DB length:  183000  - latest record from:  2023-02-01 11:15:59 18 days ago\n",
      "iterations:  183 Lines skipped:  183000 records collected:  1000  - latest recordID:  removeAsset   0x2eabecd26a862fbfde0548df11eb2a3d6e2e07db38102415c55cae2df4c8a97a  - actions DB length:  184000  - latest record from:  2023-02-01 04:18:47 18 days ago\n",
      "iterations:  184 Lines skipped:  184000 records collected:  1000  - latest recordID:  removeAsset   0x64cd3f39e4424f168067d4ec7e4d6cb3a33b16a45affac42819a0f75aeabfdf4  - actions DB length:  185000  - latest record from:  2023-01-31 22:15:59 19 days ago\n",
      "iterations:  185 Lines skipped:  185000 records collected:  1000  - latest recordID:  borrowAsset   0x5b54915efb1fc5ec53fd70cb5dfe5cd1f0b63e4e4f246643ecc63dbd42d911cc+1  - actions DB length:  186000  - latest record from:  2023-01-31 16:48:59 19 days ago\n",
      "iterations:  186 Lines skipped:  186000 records collected:  1000  - latest recordID:  addCollateral   0x5b54915efb1fc5ec53fd70cb5dfe5cd1f0b63e4e4f246643ecc63dbd42d911cc  - actions DB length:  187000  - latest record from:  2023-01-31 16:48:59 19 days ago\n",
      "iterations:  187 Lines skipped:  187000 records collected:  1000  - latest recordID:  borrowAsset   0xb96734f96cd7d10ef3e099c366e019e04d4e04dd0e5825fef1ebe284fbdb1255  - actions DB length:  188000  - latest record from:  2023-01-31 16:46:47 19 days ago\n",
      "iterations:  188 Lines skipped:  188000 records collected:  1000  - latest recordID:  removeCollateral   0x8b38fcf78a096afd1c13f8367a8c29a9ee6de56b227933dac5a0b6a43c156639  - actions DB length:  189000  - latest record from:  2023-01-31 15:17:47 19 days ago\n",
      "iterations:  189 Lines skipped:  189000 records collected:  1000  - latest recordID:  borrowAsset   0x3f9dd85fe8726e91a22fcf2608395bbfe31457aac66693980c4961f32754d8c5  - actions DB length:  190000  - latest record from:  2023-01-31 11:19:11 19 days ago\n",
      "iterations:  190 Lines skipped:  190000 records collected:  1000  - latest recordID:  removeCollateral   0x3620ee62c513ce22c389c669837b6892edec06c212a5564faf6d6b716fb2e196  - actions DB length:  191000  - latest record from:  2023-01-31 11:03:23 19 days ago\n",
      "iterations:  191 Lines skipped:  191000 records collected:  1000  - latest recordID:  repayAsset   0x39d2e0dda120f10e067a19746b003e04ffd5738e2b8f8e0eaa5b86220a9ee7f0  - actions DB length:  192000  - latest record from:  2023-01-31 11:01:35 19 days ago\n",
      "iterations:  192 Lines skipped:  192000 records collected:  1000  - latest recordID:  removeCollateral   0x1ac69cd5cfc7a573065ce8303713aa391cafdcfa79f4456237f56db03f289605  - actions DB length:  193000  - latest record from:  2023-01-31 10:36:59 19 days ago\n",
      "iterations:  193 Lines skipped:  193000 records collected:  1000  - latest recordID:  repayAsset   0x2fa96a80ff4bff9c280c580010faaa9259d137ae459788780cc6f5f33ad25e24  - actions DB length:  194000  - latest record from:  2023-01-31 10:36:11 19 days ago\n",
      "iterations:  194 Lines skipped:  194000 records collected:  1000  - latest recordID:  removeAsset   0x24205218451b7ed0efb6de43a9c2aa0983fefcf7592ff2b4134e65ccffdaaa69  - actions DB length:  195000  - latest record from:  2023-01-31 10:30:47 19 days ago\n",
      "iterations:  195 Lines skipped:  195000 records collected:  1000  - latest recordID:  removeCollateral   0x4651d18a4d016e014a90f9db37b37d22979af9687dee18d99490d7fb61f0cee8  - actions DB length:  196000  - latest record from:  2023-01-31 06:39:47 19 days ago\n",
      "iterations:  196 Lines skipped:  196000 records collected:  1000  - latest recordID:  repayAsset   0xc3d1f2a03fdf879f70fea95fb65fa33512d6b2039963fd3892508f364cdd818b  - actions DB length:  197000  - latest record from:  2023-01-31 06:38:59 19 days ago\n",
      "iterations:  197 Lines skipped:  197000 records collected:  1000  - latest recordID:  borrowAsset   0xdde3beeb021c06b8f00659281dc2b2f150f6c38a3918f271591d84d50d664c85  - actions DB length:  198000  - latest record from:  2023-01-31 05:54:11 19 days ago\n",
      "iterations:  198 Lines skipped:  198000 records collected:  1000  - latest recordID:  removeCollateral   0x6d63493438806283fae73326820511d858a911e16e8d0456c425fb05e29e50bb  - actions DB length:  199000  - latest record from:  2023-01-31 03:24:47 20 days ago\n",
      "iterations:  199 Lines skipped:  199000 records collected:  1000  - latest recordID:  repayAsset   0x7ff20ac7dbf4eeabb6b51ea6b0b7ab3fa048bef1f6cd77b670ca2ddb2de42d7a  - actions DB length:  200000  - latest record from:  2023-01-31 03:24:11 20 days ago\n",
      "iterations:  200 Lines skipped:  200000 records collected:  1000  - latest recordID:  removeCollateral   0x38069e05261fc9ae203c5d2b6dca4658c7bb8dd856f1af87ed0d40df985eb24b  - actions DB length:  201000  - latest record from:  2023-01-31 00:26:11 20 days ago\n",
      "iterations:  201 Lines skipped:  201000 records collected:  1000  - latest recordID:  repayAsset   0x67e1ccc44736eb0c79b8d95c2cd635c189194ace49109b99b7ebdabf55acfdbd  - actions DB length:  202000  - latest record from:  2023-01-31 00:25:23 20 days ago\n",
      "iterations:  202 Lines skipped:  202000 records collected:  1000  - latest recordID:  removeCollateral   0xcdd8e49256df990f24e8811a4fd4999bc34356bc42ac29fb9bcc7782baa1cc2e  - actions DB length:  203000  - latest record from:  2023-01-30 17:35:59 20 days ago\n",
      "iterations:  203 Lines skipped:  203000 records collected:  1000  - latest recordID:  repayAsset   0xa0e6a9c8d172ea5a865df0d06a654953109d278876588d7c266d2f10ddb3ce4e  - actions DB length:  204000  - latest record from:  2023-01-30 17:27:47 20 days ago\n",
      "iterations:  204 Lines skipped:  204000 records collected:  1000  - latest recordID:  addAsset   0xa98494dbf8f20b5d0baf934b8e02f2068fb1436b6b57e4f7ca6c1005582afba8  - actions DB length:  205000  - latest record from:  2023-01-30 15:08:59 20 days ago\n",
      "iterations:  205 Lines skipped:  205000 records collected:  1000  - latest recordID:  addAsset   0x86e0d0e313fd87fb890da24c1eaeae7e83f8ea8791ef26451016a375bdaa97fb  - actions DB length:  206000  - latest record from:  2023-01-30 14:56:35 20 days ago\n",
      "iterations:  206 Lines skipped:  206000 records collected:  1000  - latest recordID:  borrowAsset   0xb762c343ba7caaf725fc219afb1b2b88652a50347c0a45ad8293c912aad4f360+1  - actions DB length:  207000  - latest record from:  2023-01-30 13:58:47 20 days ago\n",
      "iterations:  207 Lines skipped:  207000 records collected:  1000  - latest recordID:  addCollateral   0xb762c343ba7caaf725fc219afb1b2b88652a50347c0a45ad8293c912aad4f360  - actions DB length:  208000  - latest record from:  2023-01-30 13:58:47 20 days ago\n",
      "iterations:  208 Lines skipped:  208000 records collected:  1000  - latest recordID:  borrowAsset   0xcb488c0f31012d6ba649789562bbd7ba9ac0a4244aecae8f9a42cb511710fc84+1  - actions DB length:  209000  - latest record from:  2023-01-30 13:05:59 20 days ago\n",
      "iterations:  209 Lines skipped:  209000 records collected:  1000  - latest recordID:  addCollateral   0xcb488c0f31012d6ba649789562bbd7ba9ac0a4244aecae8f9a42cb511710fc84  - actions DB length:  210000  - latest record from:  2023-01-30 13:05:59 20 days ago\n",
      "iterations:  210 Lines skipped:  210000 records collected:  1000  - latest recordID:  addAsset   0x81c60c0301fed169a5eeee7739100fc83bf3d8e744500c9c9e37be1d31544729  - actions DB length:  211000  - latest record from:  2023-01-30 12:14:47 20 days ago\n",
      "iterations:  211 Lines skipped:  211000 records collected:  1000  - latest recordID:  repayAsset   0xd02d1e2223a9bb8288f8afd6e91a9fcd444e06db0f30a4f545a0c12fdefaf788  - actions DB length:  212000  - latest record from:  2023-01-30 11:18:59 20 days ago\n",
      "iterations:  212 Lines skipped:  212000 records collected:  1000  - latest recordID:  borrowAsset   0xb019c269f340d0182a2c38b01c25baa2bdb86c26ff32d10eea50d85de88e050b+1  - actions DB length:  213000  - latest record from:  2023-01-30 11:15:47 20 days ago\n",
      "iterations:  213 Lines skipped:  213000 records collected:  1000  - latest recordID:  addCollateral   0xb019c269f340d0182a2c38b01c25baa2bdb86c26ff32d10eea50d85de88e050b  - actions DB length:  214000  - latest record from:  2023-01-30 11:15:47 20 days ago\n",
      "iterations:  214 Lines skipped:  214000 records collected:  1000  - latest recordID:  removeCollateral   0x5c3636b95d45d40c1602ce895781517c7bda636e57fd8f67bc71b357c1d7a26b  - actions DB length:  215000  - latest record from:  2023-01-30 11:13:11 20 days ago\n",
      "iterations:  215 Lines skipped:  215000 records collected:  1000  - latest recordID:  removeAsset   0x6f00c50394c743c376fb4196f686e6f1a244991e01273ce80d85f53fd604209e  - actions DB length:  216000  - latest record from:  2023-01-30 10:21:59 20 days ago\n",
      "iterations:  216 Lines skipped:  216000 records collected:  1000  - latest recordID:  addAsset   0xce4366f2b230132cc3eca24b357f611a935a05f9c71db4f0f82c6751c9d024ef  - actions DB length:  217000  - latest record from:  2023-01-30 10:19:23 20 days ago\n",
      "iterations:  217 Lines skipped:  217000 records collected:  1000  - latest recordID:  borrowAsset   0xa0889721b0bfc7a8f345594323cf31bd0699312e2a16ed79febbaaa7bc6738b3+1  - actions DB length:  218000  - latest record from:  2023-01-30 10:09:59 20 days ago\n",
      "iterations:  218 Lines skipped:  218000 records collected:  1000  - latest recordID:  addCollateral   0xa0889721b0bfc7a8f345594323cf31bd0699312e2a16ed79febbaaa7bc6738b3  - actions DB length:  219000  - latest record from:  2023-01-30 10:09:59 20 days ago\n",
      "iterations:  219 Lines skipped:  219000 records collected:  1000  - latest recordID:  addAsset   0xfd6a50689b490e598386670f601d5323e1559ec0a1f040d6b7e1bfa9bc9d0a35  - actions DB length:  220000  - latest record from:  2023-01-30 10:04:23 20 days ago\n",
      "iterations:  220 Lines skipped:  220000 records collected:  1000  - latest recordID:  borrowAsset   0xcad74f96f5d001948501bcaaa1fde0e1b29d69974690dd7f5601a3be7bb6208f+1  - actions DB length:  221000  - latest record from:  2023-01-30 09:42:47 20 days ago\n",
      "iterations:  221 Lines skipped:  221000 records collected:  1000  - latest recordID:  addCollateral   0xcad74f96f5d001948501bcaaa1fde0e1b29d69974690dd7f5601a3be7bb6208f  - actions DB length:  222000  - latest record from:  2023-01-30 09:42:47 20 days ago\n",
      "iterations:  222 Lines skipped:  222000 records collected:  1000  - latest recordID:  borrowAsset   0x117b987a167e6bbf925887931623acb0d5111ee60ab90b760b0a7e442b37d22a+1  - actions DB length:  223000  - latest record from:  2023-01-30 09:37:23 20 days ago\n",
      "iterations:  223 Lines skipped:  223000 records collected:  1000  - latest recordID:  addCollateral   0x117b987a167e6bbf925887931623acb0d5111ee60ab90b760b0a7e442b37d22a  - actions DB length:  224000  - latest record from:  2023-01-30 09:37:23 20 days ago\n",
      "iterations:  224 Lines skipped:  224000 records collected:  1000  - latest recordID:  addAsset   0x984fcfc404bcbd7bd4a250b569285176fc6c41588bd2c185d62444afbdccecba  - actions DB length:  225000  - latest record from:  2023-01-30 08:15:23 20 days ago\n",
      "iterations:  225 Lines skipped:  225000 records collected:  1000  - latest recordID:  borrowAsset   0x9009bdb40b144cefea3025da53f1719fcc88b45789b8b26ac6ee6bf8fddc2b58  - actions DB length:  226000  - latest record from:  2023-01-30 06:19:35 20 days ago\n",
      "iterations:  226 Lines skipped:  226000 records collected:  1000  - latest recordID:  addAsset   0xa6498530b23f7c167a0458b584d903fc3674a8eafb263087348aa5d5313d2510  - actions DB length:  227000  - latest record from:  2023-01-30 05:54:11 20 days ago\n",
      "iterations:  227 Lines skipped:  227000 records collected:  1000  - latest recordID:  borrowAsset   0x00c9203154ead117956a5674fc6442d532e1f568956acf4a842e5f4544453edd+1  - actions DB length:  228000  - latest record from:  2023-01-30 03:11:47 21 days ago\n",
      "iterations:  228 Lines skipped:  228000 records collected:  1000  - latest recordID:  addCollateral   0x00c9203154ead117956a5674fc6442d532e1f568956acf4a842e5f4544453edd  - actions DB length:  229000  - latest record from:  2023-01-30 03:11:47 21 days ago\n",
      "iterations:  229 Lines skipped:  229000 records collected:  1000  - latest recordID:  removeCollateral   0xda11a6b0d87a14503fb837c873e3b03787fa11b1cee43b87c44a5a4eb788588a  - actions DB length:  230000  - latest record from:  2023-01-29 20:12:11 21 days ago\n",
      "iterations:  230 Lines skipped:  230000 records collected:  1000  - latest recordID:  repayAsset   0xa485b88b2785e32d1c0fc44f2b729fe68796f64e5c4e77f470bd3c81fb638ccb  - actions DB length:  231000  - latest record from:  2023-01-29 20:10:59 21 days ago\n",
      "iterations:  231 Lines skipped:  231000 records collected:  1000  - latest recordID:  repayAsset   0x7a2b9ce4d27f0d55aba0b23b2a6f7e2d990a7a95b86f2e1e2461eeeeb8aefccb  - actions DB length:  232000  - latest record from:  2023-01-29 20:09:59 21 days ago\n",
      "iterations:  232 Lines skipped:  232000 records collected:  1000  - latest recordID:  removeCollateral   0x8eaec0043e12ac03d5156000a030a4cf009e8f20403a6616fd7a50054ba5f173  - actions DB length:  233000  - latest record from:  2023-01-29 20:06:35 21 days ago\n",
      "iterations:  233 Lines skipped:  233000 records collected:  1000  - latest recordID:  repayAsset   0xc6c5ba5f24860cf7ad01d89a16379879644e15adb766b8a9085b6039fc98e0c1  - actions DB length:  234000  - latest record from:  2023-01-29 20:05:59 21 days ago\n",
      "iterations:  234 Lines skipped:  234000 records collected:  1000  - latest recordID:  removeCollateral   0x89951bd394ce27428ddfc3d0aeb7ce8eed85f27ecb6f00e52784bf6fd584621a  - actions DB length:  235000  - latest record from:  2023-01-29 20:00:11 21 days ago\n",
      "iterations:  235 Lines skipped:  235000 records collected:  1000  - latest recordID:  addAsset   0xfb6960860fccf3868bb4a146fdd455e78b895e48cb897e7e81d6cc6b51097374  - actions DB length:  236000  - latest record from:  2023-01-29 17:31:59 21 days ago\n",
      "iterations:  236 Lines skipped:  236000 records collected:  1000  - latest recordID:  borrowAsset   0x4e64144863feb7aeef178c857da2a3eb9c5344441e76a1e2f54ee2e54de0292b+1  - actions DB length:  237000  - latest record from:  2023-01-29 17:11:11 21 days ago\n",
      "iterations:  237 Lines skipped:  237000 records collected:  1000  - latest recordID:  addCollateral   0x4e64144863feb7aeef178c857da2a3eb9c5344441e76a1e2f54ee2e54de0292b  - actions DB length:  238000  - latest record from:  2023-01-29 17:11:11 21 days ago\n",
      "iterations:  238 Lines skipped:  238000 records collected:  1000  - latest recordID:  borrowAsset   0x8050f675a5a2230c4e276780727fd28ac50ff5aeeae1b8b27f650f74f74d15de  - actions DB length:  239000  - latest record from:  2023-01-29 17:09:47 21 days ago\n",
      "iterations:  239 Lines skipped:  239000 records collected:  1000  - latest recordID:  borrowAsset   0x9ded14039cfbe71d257bf940e6446cb6e4b84ce3c5e03c3d7e744f357b3e3a22+1  - actions DB length:  240000  - latest record from:  2023-01-29 12:51:59 21 days ago\n",
      "iterations:  240 Lines skipped:  240000 records collected:  1000  - latest recordID:  addCollateral   0x9ded14039cfbe71d257bf940e6446cb6e4b84ce3c5e03c3d7e744f357b3e3a22  - actions DB length:  241000  - latest record from:  2023-01-29 12:51:59 21 days ago\n",
      "iterations:  241 Lines skipped:  241000 records collected:  1000  - latest recordID:  removeAsset   0x300497dedab365bc5e89859aa3658407e968c15fc2644a3b82f82ca2bfb66791  - actions DB length:  242000  - latest record from:  2023-01-29 12:36:47 21 days ago\n",
      "iterations:  242 Lines skipped:  242000 records collected:  1000  - latest recordID:  repayAsset   0x3ec25a2edac08032910923a0e9684cdcf44bb27c9edd2b468eee29f5234cc036  - actions DB length:  243000  - latest record from:  2023-01-29 10:38:23 21 days ago\n",
      "iterations:  243 Lines skipped:  243000 records collected:  1000  - latest recordID:  removeAsset   0x138b846ce4e027dfe0a5229019f93c903a0d9fb2f3bd191c5b2e0c609e0a2731  - actions DB length:  244000  - latest record from:  2023-01-29 09:40:59 21 days ago\n",
      "iterations:  244 Lines skipped:  244000 records collected:  1000  - latest recordID:  borrowAsset   0xf26b0b5d8213192588a1e263b85ebc0c19ef815ccf4176c12d42b4db196b25fb  - actions DB length:  245000  - latest record from:  2023-01-29 09:16:35 21 days ago\n",
      "iterations:  245 Lines skipped:  245000 records collected:  1000  - latest recordID:  borrowAsset   0x367cbd3d6a90a55ee10003edfb8614643f75d0f1aa81480b674c0f56b1aa7611+1  - actions DB length:  246000  - latest record from:  2023-01-29 09:15:59 21 days ago\n",
      "iterations:  246 Lines skipped:  246000 records collected:  1000  - latest recordID:  addCollateral   0x367cbd3d6a90a55ee10003edfb8614643f75d0f1aa81480b674c0f56b1aa7611  - actions DB length:  247000  - latest record from:  2023-01-29 09:15:59 21 days ago\n",
      "iterations:  247 Lines skipped:  247000 records collected:  1000  - latest recordID:  borrowAsset   0x0b1ef544270323931d6c529967aa8af9b7050a201f4110378e4a0a8c3f7a9f15  - actions DB length:  248000  - latest record from:  2023-01-29 09:14:47 21 days ago\n",
      "iterations:  248 Lines skipped:  248000 records collected:  1000  - latest recordID:  removeAsset   0xd455ccfeeac88c33d369faf855885455b0d87f7c5d00bee4acc7d91bbd85f29e  - actions DB length:  249000  - latest record from:  2023-01-29 06:53:59 21 days ago\n",
      "iterations:  249 Lines skipped:  249000 records collected:  1000  - latest recordID:  borrowAsset   0x23d31ea5f3a1fba025c398eeb08de147b5bf09b0b36fd87cb1d7f524a7b09499+1  - actions DB length:  250000  - latest record from:  2023-01-28 13:46:59 22 days ago\n",
      "iterations:  250 Lines skipped:  250000 records collected:  1000  - latest recordID:  addCollateral   0x23d31ea5f3a1fba025c398eeb08de147b5bf09b0b36fd87cb1d7f524a7b09499  - actions DB length:  251000  - latest record from:  2023-01-28 13:46:59 22 days ago\n",
      "iterations:  251 Lines skipped:  251000 records collected:  1000  - latest recordID:  removeCollateral   0xf872e2deb9544fed4e23733debe362d88cb44026ab9adf434d05bdc3d33988ba  - actions DB length:  252000  - latest record from:  2023-01-28 12:56:23 22 days ago\n",
      "iterations:  252 Lines skipped:  252000 records collected:  1000  - latest recordID:  addAsset   0x95550f6d6f6c17fca583242bcbdd54389648e13a414b76d3936b423776bc588a  - actions DB length:  253000  - latest record from:  2023-01-28 12:29:23 22 days ago\n",
      "iterations:  253 Lines skipped:  253000 records collected:  1000  - latest recordID:  borrowAsset   0xad25ebe4b1becb395eb0f1e1c85ca94f4d3efdee4874408d5a4d55f87c29257f+1  - actions DB length:  254000  - latest record from:  2023-01-27 09:40:11 23 days ago\n",
      "iterations:  254 Lines skipped:  254000 records collected:  1000  - latest recordID:  addCollateral   0xad25ebe4b1becb395eb0f1e1c85ca94f4d3efdee4874408d5a4d55f87c29257f  - actions DB length:  255000  - latest record from:  2023-01-27 09:40:11 23 days ago\n",
      "iterations:  255 Lines skipped:  255000 records collected:  1000  - latest recordID:  borrowAsset   0xd2640e90d1a46aa392b42d6ecaf52c2650284f8e71cdfa60c5198d87f07afb79+1  - actions DB length:  256000  - latest record from:  2023-01-27 06:33:59 23 days ago\n",
      "iterations:  256 Lines skipped:  256000 records collected:  1000  - latest recordID:  addCollateral   0xd2640e90d1a46aa392b42d6ecaf52c2650284f8e71cdfa60c5198d87f07afb79  - actions DB length:  257000  - latest record from:  2023-01-27 06:33:59 23 days ago\n",
      "iterations:  257 Lines skipped:  257000 records collected:  1000  - latest recordID:  removeAsset   0x73fc1dafef2f8ea53fa1ab442a8ef07510a0368130ad2b9d955a65629749a410  - actions DB length:  258000  - latest record from:  2023-01-27 04:31:35 23 days ago\n",
      "iterations:  258 Lines skipped:  258000 records collected:  1000  - latest recordID:  borrowAsset   0x38c758afd10bd55fc310e374f7f52237e839a9bab0b3a74ef17a3cccd76b2741+1  - actions DB length:  259000  - latest record from:  2023-01-26 17:57:11 24 days ago\n",
      "iterations:  259 Lines skipped:  259000 records collected:  1000  - latest recordID:  addCollateral   0x38c758afd10bd55fc310e374f7f52237e839a9bab0b3a74ef17a3cccd76b2741  - actions DB length:  260000  - latest record from:  2023-01-26 17:57:11 24 days ago\n",
      "iterations:  260 Lines skipped:  260000 records collected:  1000  - latest recordID:  removeCollateral   0xdc2c385e00d5997affffb49e10327009aa5bf9a3cd8e4b2aa64ca2201172c329  - actions DB length:  261000  - latest record from:  2023-01-26 16:57:23 24 days ago\n",
      "iterations:  261 Lines skipped:  261000 records collected:  1000  - latest recordID:  borrowAsset   0x460d33fa9bd03fc3dcf892d3bdb74ca8774cc20d4bbb63cfc4d7577b44b98c7c  - actions DB length:  262000  - latest record from:  2023-01-26 14:18:47 24 days ago\n",
      "iterations:  262 Lines skipped:  262000 records collected:  1000  - latest recordID:  removeCollateral   0x33de61df37e83e86f20ca6c1b245c753e415d1be7441c8d8c64710e422b24f7a  - actions DB length:  263000  - latest record from:  2023-01-26 12:44:11 24 days ago\n",
      "iterations:  263 Lines skipped:  263000 records collected:  1000  - latest recordID:  repayAsset   0xa12fb236c45bf339bdf36cbcb13c7ae44e7ca97ac486143643635eabb4876907  - actions DB length:  264000  - latest record from:  2023-01-26 12:42:47 24 days ago\n",
      "iterations:  264 Lines skipped:  264000 records collected:  1000  - latest recordID:  borrowAsset   0x6bdac83d4e1480ede4153fc63186a108078c8dd8de6a35e6b29ba25f2acf347d  - actions DB length:  265000  - latest record from:  2023-01-26 12:36:59 24 days ago\n",
      "iterations:  265 Lines skipped:  265000 records collected:  1000  - latest recordID:  borrowAsset   0x32ebb0fd3e85620656962354025d1fe63b5599c5afa9f7d505beaa92d192b902  - actions DB length:  266000  - latest record from:  2023-01-26 06:58:35 24 days ago\n",
      "iterations:  266 Lines skipped:  266000 records collected:  1000  - latest recordID:  addAsset   0x21d541d24e806094005c8424c4cd99ded740b06197f59ba911d8b98dc32f1105  - actions DB length:  267000  - latest record from:  2023-01-26 06:38:47 24 days ago\n",
      "iterations:  267 Lines skipped:  267000 records collected:  1000  - latest recordID:  borrowAsset   0x1607d81d51333d223190e0346001d4cb119c58bd6f8cbca495ff799e9f3c47b5  - actions DB length:  268000  - latest record from:  2023-01-26 06:06:59 24 days ago\n",
      "iterations:  268 Lines skipped:  268000 records collected:  1000  - latest recordID:  removeCollateral   0x7ad5ad423cc17771937c7d98ff5dcfb833226ec43251e627176881d8cbebed44  - actions DB length:  269000  - latest record from:  2023-01-26 06:00:59 24 days ago\n",
      "iterations:  269 Lines skipped:  269000 records collected:  1000  - latest recordID:  removeCollateral   0x6fdfa651f461787a7d66bf8d5ceec574f190b2fd2cb8d6f046b275be24adb56e  - actions DB length:  270000  - latest record from:  2023-01-26 05:48:47 24 days ago\n",
      "iterations:  270 Lines skipped:  270000 records collected:  1000  - latest recordID:  borrowAsset   0x8fbd9ed9f23e817a98a71ff4c37e9cfe6e1a682e50983d98f4addbe5b41196e0+1  - actions DB length:  271000  - latest record from:  2023-01-26 03:51:11 25 days ago\n",
      "iterations:  271 Lines skipped:  271000 records collected:  1000  - latest recordID:  addCollateral   0x8fbd9ed9f23e817a98a71ff4c37e9cfe6e1a682e50983d98f4addbe5b41196e0  - actions DB length:  272000  - latest record from:  2023-01-26 03:51:11 25 days ago\n",
      "iterations:  272 Lines skipped:  272000 records collected:  1000  - latest recordID:  borrowAsset   0xee376200e715c6c5f759c281cf94079f96ec50f667d0f51a9f61eb542c718491  - actions DB length:  273000  - latest record from:  2023-01-26 02:39:23 25 days ago\n",
      "iterations:  273 Lines skipped:  273000 records collected:  1000  - latest recordID:  addCollateral   0xb29a0dfff24aaef06861b69d20a41d8df80554bae829d3e16dd7143acf66b24d  - actions DB length:  274000  - latest record from:  2023-01-26 02:36:23 25 days ago\n",
      "iterations:  274 Lines skipped:  274000 records collected:  1000  - latest recordID:  addCollateral   0x9a0ce98b3daefb436073ccd8e3750d70a4013f44a7110277c07f58234317cc4a  - actions DB length:  275000  - latest record from:  2023-01-25 15:41:59 25 days ago\n",
      "iterations:  275 Lines skipped:  275000 records collected:  1000  - latest recordID:  borrowAsset   0x06b1f874b3b0444a7c7b48524d8a4537021fdd1592b2ab54c914f0441b78a284  - actions DB length:  276000  - latest record from:  2023-01-25 15:35:23 25 days ago\n",
      "iterations:  276 Lines skipped:  276000 records collected:  1000  - latest recordID:  borrowAsset   0xb984c468dfe971a60156c1d3cd4f58881e918b64ef18a717892617c1c77f8f00  - actions DB length:  277000  - latest record from:  2023-01-25 12:39:47 25 days ago\n",
      "iterations:  277 Lines skipped:  277000 records collected:  1000  - latest recordID:  borrowAsset   0x369edade729ed5bd71f3dd52a25b3506a41e1deeb1687a7e5e54a5eb2a3d8618  - actions DB length:  278000  - latest record from:  2023-01-25 12:36:35 25 days ago\n",
      "iterations:  278 Lines skipped:  278000 records collected:  1000  - latest recordID:  addAsset   0x0abd7c47061632a186ecea8bec4231bc340c01971bcdf10148c99889affd331a  - actions DB length:  279000  - latest record from:  2023-01-25 07:52:59 25 days ago\n",
      "iterations:  279 Lines skipped:  279000 records collected:  1000  - latest recordID:  removeAsset   0x681c3b71291aabed9d25ab9882ca0279f65d530b20884e9809224dd3b3b38a3a  - actions DB length:  280000  - latest record from:  2023-01-25 00:10:35 26 days ago\n",
      "iterations:  280 Lines skipped:  280000 records collected:  1000  - latest recordID:  borrowAsset   0x8a270186763feef09a1a07a2b84e3d09b985abef451b00bac49349caa15cac70+1  - actions DB length:  281000  - latest record from:  2023-01-24 19:37:35 26 days ago\n",
      "iterations:  281 Lines skipped:  281000 records collected:  1000  - latest recordID:  addCollateral   0x8a270186763feef09a1a07a2b84e3d09b985abef451b00bac49349caa15cac70  - actions DB length:  282000  - latest record from:  2023-01-24 19:37:35 26 days ago\n",
      "iterations:  282 Lines skipped:  282000 records collected:  1000  - latest recordID:  borrowAsset   0x9eb930c388325704d1d580f4c11802712a543e34f90a772c59342bc1571db577+1  - actions DB length:  283000  - latest record from:  2023-01-24 18:06:11 26 days ago\n",
      "iterations:  283 Lines skipped:  283000 records collected:  1000  - latest recordID:  addCollateral   0x9eb930c388325704d1d580f4c11802712a543e34f90a772c59342bc1571db577  - actions DB length:  284000  - latest record from:  2023-01-24 18:06:11 26 days ago\n",
      "iterations:  284 Lines skipped:  284000 records collected:  1000  - latest recordID:  borrowAsset   0xc94553ec769713acc8a94bc2c77839381e444a53d07706ec285c6c1afd2735ea+1  - actions DB length:  285000  - latest record from:  2023-01-24 17:47:35 26 days ago\n",
      "iterations:  285 Lines skipped:  285000 records collected:  1000  - latest recordID:  addCollateral   0xc94553ec769713acc8a94bc2c77839381e444a53d07706ec285c6c1afd2735ea  - actions DB length:  286000  - latest record from:  2023-01-24 17:47:35 26 days ago\n",
      "iterations:  286 Lines skipped:  286000 records collected:  1000  - latest recordID:  addAsset   0xb010bd34956101ae6d1c62818885499c46396a88f689132a8800ea15f176db0d  - actions DB length:  287000  - latest record from:  2023-01-24 13:46:47 26 days ago\n",
      "iterations:  287 Lines skipped:  287000 records collected:  1000  - latest recordID:  borrowAsset   0xc6ebc75658d1958b2c61ccbc7c7a82eaead8a95de74242dcbce185fa60820fda+1  - actions DB length:  288000  - latest record from:  2023-01-23 16:03:59 27 days ago\n",
      "iterations:  288 Lines skipped:  288000 records collected:  1000  - latest recordID:  addCollateral   0xc6ebc75658d1958b2c61ccbc7c7a82eaead8a95de74242dcbce185fa60820fda  - actions DB length:  289000  - latest record from:  2023-01-23 16:03:59 27 days ago\n",
      "iterations:  289 Lines skipped:  289000 records collected:  1000  - latest recordID:  removeCollateral   0xb03a2856d37f5eea58e5a69ca2a26a683a18c31a9129c09f16a543342afb2081  - actions DB length:  290000  - latest record from:  2023-01-23 15:43:47 27 days ago\n",
      "iterations:  290 Lines skipped:  290000 records collected:  1000  - latest recordID:  borrowAsset   0x1ad635e17337c663732f656586d178120258bee4f116e3561a88d21a6652d2ba+1  - actions DB length:  291000  - latest record from:  2023-01-23 13:50:35 27 days ago\n",
      "iterations:  291 Lines skipped:  291000 records collected:  1000  - latest recordID:  addCollateral   0x1ad635e17337c663732f656586d178120258bee4f116e3561a88d21a6652d2ba  - actions DB length:  292000  - latest record from:  2023-01-23 13:50:35 27 days ago\n",
      "iterations:  292 Lines skipped:  292000 records collected:  1000  - latest recordID:  removeCollateral   0xbe00b9055dd99e5184284bdcb5a881dfed688471882e14fde56be6a2981b81e7  - actions DB length:  293000  - latest record from:  2023-01-23 13:27:11 27 days ago\n",
      "iterations:  293 Lines skipped:  293000 records collected:  1000  - latest recordID:  borrowAsset   0xb6f709749a171f8aa5cb2e4a9c2cc7a2e6b0090fb056219b697d65e007b7628c  - actions DB length:  294000  - latest record from:  2023-01-23 07:28:59 27 days ago\n",
      "iterations:  294 Lines skipped:  294000 records collected:  1000  - latest recordID:  addCollateral   0x3a1095973c1009ccc805da8e1b9c8a97514e545c0c2b14b16cfec4597e2e2c03  - actions DB length:  295000  - latest record from:  2023-01-23 07:05:23 27 days ago\n",
      "iterations:  295 Lines skipped:  295000 records collected:  1000  - latest recordID:  removeCollateral   0x63d3ea521fd69a86fd286175f94623ed06bd8e07177238484bb7eb0bd15e244c  - actions DB length:  296000  - latest record from:  2023-01-23 01:30:11 28 days ago\n",
      "iterations:  296 Lines skipped:  296000 records collected:  1000  - latest recordID:  repayAsset   0x4ef0b001904ebddd48a9e91fb794e8ccc8f3b0de2073b7fbf19f11b2694fcd68  - actions DB length:  297000  - latest record from:  2023-01-23 01:29:23 28 days ago\n",
      "iterations:  297 Lines skipped:  297000 records collected:  1000  - latest recordID:  removeCollateral   0x0c0c39257e85d91800c8b470a0f257949cb9e61c4e6ea3bb28703c1d6588d5db  - actions DB length:  298000  - latest record from:  2023-01-22 22:29:35 28 days ago\n",
      "iterations:  298 Lines skipped:  298000 records collected:  1000  - latest recordID:  repayAsset   0x76fdce57728e9d26a6439858f5f97b72d8dc18a882a02df3f6f3d1f578fd2a4d  - actions DB length:  299000  - latest record from:  2023-01-22 22:27:59 28 days ago\n",
      "iterations:  299 Lines skipped:  299000 records collected:  1000  - latest recordID:  repayAsset   0x9f9ba2939a4c6ffc3d1c0d6652260426f188f3ee03b31d66402f0a51d5ef3533  - actions DB length:  300000  - latest record from:  2023-01-22 22:26:47 28 days ago\n",
      "iterations:  300 Lines skipped:  300000 records collected:  1000  - latest recordID:  borrowAsset   0xd5bc93f88cff048b09c458e13192a234306368aa8a0b7236ee90d42a853c4017  - actions DB length:  301000  - latest record from:  2023-01-22 11:04:59 28 days ago\n",
      "iterations:  301 Lines skipped:  301000 records collected:  1000  - latest recordID:  addCollateral   0xb160341648a752965d24c32f7696a3e6b33c07f31c838f372933df9bba9cf5e0  - actions DB length:  302000  - latest record from:  2023-01-22 02:44:35 29 days ago\n",
      "iterations:  302 Lines skipped:  302000 records collected:  1000  - latest recordID:  borrowAsset   0xf6cc58234aa05881fe3a0aa5cea059535dc5993af8e078776465dd78a402d18b  - actions DB length:  303000  - latest record from:  2023-01-22 02:41:47 29 days ago\n",
      "iterations:  303 Lines skipped:  303000 records collected:  1000  - latest recordID:  addCollateral   0xafd0637b931041ae219c3873b71b71572cbf8f1885a46d93171fe916d90b6b3c  - actions DB length:  304000  - latest record from:  2023-01-22 02:40:11 29 days ago\n",
      "iterations:  304 Lines skipped:  304000 records collected:  1000  - latest recordID:  borrowAsset   0xff674f10275b0bfcee60bd69c9f8010e610f84cb03f54a1d20a9a038416bcc08  - actions DB length:  305000  - latest record from:  2023-01-22 02:33:35 29 days ago\n",
      "iterations:  305 Lines skipped:  305000 records collected:  1000  - latest recordID:  removeCollateral   0x6392701438de8d556e14ab394f4b371834ec1917d7032f626781f0d2fd26f7bc  - actions DB length:  306000  - latest record from:  2023-01-21 14:19:35 29 days ago\n",
      "iterations:  306 Lines skipped:  306000 records collected:  1000  - latest recordID:  addCollateral   0xebfa828bb0607a35d36bbe169ca050f2979389f3f32a05bfe26b9934ef907900  - actions DB length:  307000  - latest record from:  2023-01-21 13:18:11 29 days ago\n",
      "iterations:  307 Lines skipped:  307000 records collected:  1000  - latest recordID:  removeAsset   0x29c86fe1f682b3f721c5343a3809a62e6e3b256e4e4421c95932a321e89a3802  - actions DB length:  308000  - latest record from:  2023-01-21 11:15:59 29 days ago\n",
      "iterations:  308 Lines skipped:  308000 records collected:  1000  - latest recordID:  borrowAsset   0x77a5c92f2068e1c54264885579540a0cdf73c8afb5ca671ff9311fbb1e37fc5a  - actions DB length:  309000  - latest record from:  2023-01-21 10:19:23 29 days ago\n",
      "iterations:  309 Lines skipped:  309000 records collected:  1000  - latest recordID:  borrowAsset   0xbaffcedf02b0fc9788ce3953a4e66cf3898200a0328667f564e2574296d8aeaa  - actions DB length:  310000  - latest record from:  2023-01-21 05:08:47 29 days ago\n",
      "iterations:  310 Lines skipped:  310000 records collected:  1000  - latest recordID:  removeCollateral   0xe7edc1ecd1320c549f4c7453155da43bcf3a4f2268241f019df9df87dee617a9  - actions DB length:  311000  - latest record from:  2023-01-21 02:45:35 30 days ago\n",
      "iterations:  311 Lines skipped:  311000 records collected:  1000  - latest recordID:  repayAsset   0xf90fea66de466328d613712a7d8daa814c2290492cbc5c93b36ab716b5945943  - actions DB length:  312000  - latest record from:  2023-01-21 02:42:47 30 days ago\n",
      "iterations:  312 Lines skipped:  312000 records collected:  1000  - latest recordID:  borrowAsset   0xfcf6f8fa9df9ec782e44058a361be102714f0aa7fe5eb24bc44711408eb6fcc4+1  - actions DB length:  313000  - latest record from:  2023-01-20 22:52:11 30 days ago\n",
      "iterations:  313 Lines skipped:  313000 records collected:  1000  - latest recordID:  addCollateral   0xfcf6f8fa9df9ec782e44058a361be102714f0aa7fe5eb24bc44711408eb6fcc4  - actions DB length:  314000  - latest record from:  2023-01-20 22:52:11 30 days ago\n",
      "iterations:  314 Lines skipped:  314000 records collected:  1000  - latest recordID:  addAsset   0x16a6f47e49ede8b2dda4b02cc899f29565324da0a0688921440aaf2b35ce73e3+1  - actions DB length:  315000  - latest record from:  2023-01-20 18:41:35 30 days ago\n",
      "iterations:  315 Lines skipped:  315000 records collected:  1000  - latest recordID:  removeAsset   0x16a6f47e49ede8b2dda4b02cc899f29565324da0a0688921440aaf2b35ce73e3  - actions DB length:  316000  - latest record from:  2023-01-20 18:41:35 30 days ago\n",
      "iterations:  316 Lines skipped:  316000 records collected:  1000  - latest recordID:  addAsset   0xfeb54394d817e03ccd318a836eb104027541f9e950772a227f4b7911c4b23e30+1  - actions DB length:  317000  - latest record from:  2023-01-20 18:40:23 30 days ago\n",
      "iterations:  317 Lines skipped:  317000 records collected:  1000  - latest recordID:  removeAsset   0xfeb54394d817e03ccd318a836eb104027541f9e950772a227f4b7911c4b23e30  - actions DB length:  318000  - latest record from:  2023-01-20 18:40:23 30 days ago\n",
      "iterations:  318 Lines skipped:  318000 records collected:  1000  - latest recordID:  borrowAsset   0xcf61dda8b1c814853c758001601b489bf7275c89a543bf51f4e0ea398c50d838  - actions DB length:  319000  - latest record from:  2023-01-20 17:13:23 30 days ago\n",
      "iterations:  319 Lines skipped:  319000 records collected:  1000  - latest recordID:  repayAsset   0xa7f581354071e5d4065bbe0c81eaa0650f1dd66cedffd048106933fd94383cf3  - actions DB length:  320000  - latest record from:  2023-01-20 17:04:59 30 days ago\n",
      "iterations:  320 Lines skipped:  320000 records collected:  1000  - latest recordID:  borrowAsset   0x12814e23d06d14925d564c84e3b10cb0eba032907bb4c94c903719e4cd0f8172  - actions DB length:  321000  - latest record from:  2023-01-20 15:42:35 30 days ago\n",
      "iterations:  321 Lines skipped:  321000 records collected:  1000  - latest recordID:  removeAsset   0x1b2d5fb492314e28758706dab22db744634c862f4e395fbec7e15ade2f9d3ffc  - actions DB length:  322000  - latest record from:  2023-01-20 06:25:23 30 days ago\n",
      "iterations:  322 Lines skipped:  322000 records collected:  1000  - latest recordID:  repayAsset   0xbae58b11bf18476ba9ee45bb6888bf026af5414b9c4ab0871b53ae04085e3958  - actions DB length:  323000  - latest record from:  2023-01-19 23:35:35 31 days ago\n",
      "iterations:  323 Lines skipped:  323000 records collected:  1000  - latest recordID:  repayAsset   0x56658b51462c13ccafc5968f8f4764a2ec62eeb76abf3fb425eaaaff0c2cc9a3  - actions DB length:  324000  - latest record from:  2023-01-19 20:14:35 31 days ago\n",
      "iterations:  324 Lines skipped:  324000 records collected:  1000  - latest recordID:  borrowAsset   0x8bef55b3495f6ebde0fb7bf110ef9dacd6c148687ebf7cfd5bf7af358bf432cd+1  - actions DB length:  325000  - latest record from:  2023-01-19 10:24:23 31 days ago\n",
      "iterations:  325 Lines skipped:  325000 records collected:  1000  - latest recordID:  addCollateral   0x8bef55b3495f6ebde0fb7bf110ef9dacd6c148687ebf7cfd5bf7af358bf432cd  - actions DB length:  326000  - latest record from:  2023-01-19 10:24:23 31 days ago\n",
      "iterations:  326 Lines skipped:  326000 records collected:  1000  - latest recordID:  removeAsset   0x15c1834d11c5b004f11d6224547e5d63ab4ae8f09e1318b3e3db723f1841f041  - actions DB length:  327000  - latest record from:  2023-01-19 03:26:47 32 days ago\n",
      "iterations:  327 Lines skipped:  327000 records collected:  1000  - latest recordID:  addAsset   0xb9ba221c036591d51f1dc4463576ed6cccadbceb130ae63c786d20147d2ec136  - actions DB length:  328000  - latest record from:  2023-01-18 19:21:47 32 days ago\n",
      "iterations:  328 Lines skipped:  328000 records collected:  1000  - latest recordID:  borrowAsset   0xb8b71e06c5af60c05f45e456c385f10e1a435fa53512ae0c4fe1f5ed9bb9abfc+1  - actions DB length:  329000  - latest record from:  2023-01-18 14:30:59 32 days ago\n",
      "iterations:  329 Lines skipped:  329000 records collected:  1000  - latest recordID:  addCollateral   0xb8b71e06c5af60c05f45e456c385f10e1a435fa53512ae0c4fe1f5ed9bb9abfc  - actions DB length:  330000  - latest record from:  2023-01-18 14:30:59 32 days ago\n",
      "iterations:  330 Lines skipped:  330000 records collected:  1000  - latest recordID:  borrowAsset   0x9c29ada5aa3e38fe871b1ce8521cda91fe9fe263623bf94b18d1134ec46c19f1  - actions DB length:  331000  - latest record from:  2023-01-18 12:24:11 32 days ago\n",
      "iterations:  331 Lines skipped:  331000 records collected:  1000  - latest recordID:  borrowAsset   0xbe905db775ba4f975d9904ef380d329a098499e62b4f868022a16eaa1f7c579f+1  - actions DB length:  332000  - latest record from:  2023-01-18 10:25:47 32 days ago\n",
      "iterations:  332 Lines skipped:  332000 records collected:  1000  - latest recordID:  addCollateral   0xbe905db775ba4f975d9904ef380d329a098499e62b4f868022a16eaa1f7c579f  - actions DB length:  333000  - latest record from:  2023-01-18 10:25:47 32 days ago\n",
      "iterations:  333 Lines skipped:  333000 records collected:  1000  - latest recordID:  borrowAsset   0x177e04577b8e91124fb854181bbeedcefc660331a79424b30fc3db76b26e1f45  - actions DB length:  334000  - latest record from:  2023-01-18 10:12:35 32 days ago\n",
      "iterations:  334 Lines skipped:  334000 records collected:  1000  - latest recordID:  borrowAsset   0xf64b0aac80c97e30e560d040b237eec4b2272db02739bb157aca938dd9436fe6+1  - actions DB length:  335000  - latest record from:  2023-01-18 09:02:59 32 days ago\n",
      "iterations:  335 Lines skipped:  335000 records collected:  1000  - latest recordID:  addCollateral   0xf64b0aac80c97e30e560d040b237eec4b2272db02739bb157aca938dd9436fe6  - actions DB length:  336000  - latest record from:  2023-01-18 09:02:59 32 days ago\n",
      "iterations:  336 Lines skipped:  336000 records collected:  1000  - latest recordID:  removeCollateral   0x147ad8ff181623a8569f07f84ac4538d3f85aa74761b0353b5313ba1edbbf7d9  - actions DB length:  337000  - latest record from:  2023-01-18 09:00:11 32 days ago\n",
      "iterations:  337 Lines skipped:  337000 records collected:  1000  - latest recordID:  borrowAsset   0x5deab7fd4212373a76d85426b658612b5c97523100e43fb074bfe86ef3d114b8+1  - actions DB length:  338000  - latest record from:  2023-01-18 08:52:35 32 days ago\n",
      "iterations:  338 Lines skipped:  338000 records collected:  1000  - latest recordID:  addCollateral   0x5deab7fd4212373a76d85426b658612b5c97523100e43fb074bfe86ef3d114b8  - actions DB length:  339000  - latest record from:  2023-01-18 08:52:35 32 days ago\n",
      "iterations:  339 Lines skipped:  339000 records collected:  1000  - latest recordID:  removeCollateral   0xf455df944c8999921f3e31cd40e2ccb6f62f36210e990333303f39feefbf96b6  - actions DB length:  340000  - latest record from:  2023-01-18 08:17:47 32 days ago\n",
      "iterations:  340 Lines skipped:  340000 records collected:  1000  - latest recordID:  borrowAsset   0x40b4c7123b3dfa9a0a09ed60776eaf4c288442424a9f384dfafe14c8de464f47  - actions DB length:  341000  - latest record from:  2023-01-18 06:29:59 32 days ago\n",
      "iterations:  341 Lines skipped:  341000 records collected:  1000  - latest recordID:  borrowAsset   0xe840b1a83017535bd711d3f8311924c9568a0cb21abb7f2fafe54f321594cb9f+1  - actions DB length:  342000  - latest record from:  2023-01-17 18:22:11 33 days ago\n",
      "iterations:  342 Lines skipped:  342000 records collected:  1000  - latest recordID:  addCollateral   0xe840b1a83017535bd711d3f8311924c9568a0cb21abb7f2fafe54f321594cb9f  - actions DB length:  343000  - latest record from:  2023-01-17 18:22:11 33 days ago\n",
      "iterations:  343 Lines skipped:  343000 records collected:  1000  - latest recordID:  borrowAsset   0x6b7edfe0a07d8e657d79c56472a8cd294bd0e0ef44a7455bce157e8dc9004bd4  - actions DB length:  344000  - latest record from:  2023-01-17 18:18:35 33 days ago\n",
      "iterations:  344 Lines skipped:  344000 records collected:  1000  - latest recordID:  removeCollateral   0x460f9aee08e09f7e7245f43c1e3c8068079c6b9d435cc4ea43b945018d1ecea1  - actions DB length:  345000  - latest record from:  2023-01-17 10:59:47 33 days ago\n",
      "iterations:  345 Lines skipped:  345000 records collected:  1000  - latest recordID:  repayAsset   0x062fd7448a63b11811c4ca6ccefec9d8362624119ee2df983015309eae243292  - actions DB length:  346000  - latest record from:  2023-01-17 10:47:11 33 days ago\n",
      "iterations:  346 Lines skipped:  346000 records collected:  1000  - latest recordID:  addAsset   0xd2a8e22bc8ba3338ce7698d34cb9266ac171a07c5a1195e0b8a30fe248f14404  - actions DB length:  347000  - latest record from:  2023-01-17 09:57:59 33 days ago\n",
      "iterations:  347 Lines skipped:  347000 records collected:  1000  - latest recordID:  borrowAsset   0xc7a3898a122851678d184b57c22f151fb4d8d4b100f5e421dc968146bb95130a  - actions DB length:  348000  - latest record from:  2023-01-17 09:37:59 33 days ago\n",
      "iterations:  348 Lines skipped:  348000 records collected:  1000  - latest recordID:  borrowAsset   0xdbedab458bf1d2b0c761f2da175d97ed3b9499b3cb872f70b6f14eb6fd592d5f+1  - actions DB length:  349000  - latest record from:  2023-01-17 08:57:11 33 days ago\n",
      "iterations:  349 Lines skipped:  349000 records collected:  1000  - latest recordID:  addCollateral   0xdbedab458bf1d2b0c761f2da175d97ed3b9499b3cb872f70b6f14eb6fd592d5f  - actions DB length:  350000  - latest record from:  2023-01-17 08:57:11 33 days ago\n",
      "iterations:  350 Lines skipped:  350000 records collected:  1000  - latest recordID:  borrowAsset   0x9ff8aa22b74ac28ed29a3bd002ad7956406568cd5b27723a19c321631196ca95  - actions DB length:  351000  - latest record from:  2023-01-17 08:30:35 33 days ago\n",
      "iterations:  351 Lines skipped:  351000 records collected:  1000  - latest recordID:  borrowAsset   0x5c353b317c683c82d31bc4c362071e6928c33c9474d6d3a7068e835158e0f951+1  - actions DB length:  352000  - latest record from:  2023-01-17 08:29:59 33 days ago\n",
      "iterations:  352 Lines skipped:  352000 records collected:  1000  - latest recordID:  addCollateral   0x5c353b317c683c82d31bc4c362071e6928c33c9474d6d3a7068e835158e0f951  - actions DB length:  353000  - latest record from:  2023-01-17 08:29:59 33 days ago\n",
      "iterations:  353 Lines skipped:  353000 records collected:  1000  - latest recordID:  borrowAsset   0x52edeb1d2b4db7613f32f03d2f9c80dc3003ba28cb89799a382037b75a5fe3d8  - actions DB length:  354000  - latest record from:  2023-01-17 06:45:23 33 days ago\n",
      "iterations:  354 Lines skipped:  354000 records collected:  1000  - latest recordID:  removeCollateral   0xf94bf957660189cbf8d7b8254bccdeff35e6721ed9665c1ae08b7f209e7b2d9e  - actions DB length:  355000  - latest record from:  2023-01-17 06:17:59 33 days ago\n",
      "iterations:  355 Lines skipped:  355000 records collected:  1000  - latest recordID:  repayAsset   0xff64404ae5f010cafe4dc225866f4a143887d8a4913f87028990f031a7874ae9  - actions DB length:  356000  - latest record from:  2023-01-17 06:14:35 33 days ago\n",
      "iterations:  356 Lines skipped:  356000 records collected:  1000  - latest recordID:  borrowAsset   0xf5e6f03a957b20bcddb16b37b72e4f535932b8c50517defbf4defc6a9d0e68de+1  - actions DB length:  357000  - latest record from:  2023-01-17 05:56:23 33 days ago\n",
      "iterations:  357 Lines skipped:  357000 records collected:  1000  - latest recordID:  addCollateral   0xf5e6f03a957b20bcddb16b37b72e4f535932b8c50517defbf4defc6a9d0e68de  - actions DB length:  358000  - latest record from:  2023-01-17 05:56:23 33 days ago\n",
      "iterations:  358 Lines skipped:  358000 records collected:  1000  - latest recordID:  addAsset   0x8c8fea0f0c30f2e208f878eaef67e93d678606fcb149c5643c984508c43666db  - actions DB length:  359000  - latest record from:  2023-01-17 05:43:11 33 days ago\n",
      "iterations:  359 Lines skipped:  359000 records collected:  1000  - latest recordID:  borrowAsset   0x2e0270b9a66c3418c22627e1c7de4e9e901517e297d4571cbe591bd00703cd4c  - actions DB length:  360000  - latest record from:  2023-01-17 05:25:11 33 days ago\n",
      "iterations:  360 Lines skipped:  360000 records collected:  1000  - latest recordID:  addAsset   0x12b8bc58f62a5627fc6171f4bae24d127172a5610f310b5110d923ff49436a07  - actions DB length:  361000  - latest record from:  2023-01-16 20:44:11 34 days ago\n",
      "iterations:  361 Lines skipped:  361000 records collected:  1000  - latest recordID:  borrowAsset   0xeb8dea4c2dcc1f9a4bf14020ecd813d5f9e3123fb0419eefaa9929c1809d0e29  - actions DB length:  362000  - latest record from:  2023-01-16 18:55:23 34 days ago\n",
      "iterations:  362 Lines skipped:  362000 records collected:  1000  - latest recordID:  borrowAsset   0xbc0973c9735faee148da1ce4e23af88146f32ce35071cc6dad1b1a2d79c380f5  - actions DB length:  363000  - latest record from:  2023-01-16 13:17:47 34 days ago\n",
      "iterations:  363 Lines skipped:  363000 records collected:  1000  - latest recordID:  borrowAsset   0xd14c45bcd7f7a533e9fa2a63ef767997212348e43d413790214895072d71712f  - actions DB length:  364000  - latest record from:  2023-01-16 12:01:23 34 days ago\n",
      "iterations:  364 Lines skipped:  364000 records collected:  1000  - latest recordID:  addAsset   0x00961e045ad314f9475941e06590b19cc6360f9c34cd431a342356366989ee7f  - actions DB length:  365000  - latest record from:  2023-01-16 04:43:11 34 days ago\n",
      "iterations:  365 Lines skipped:  365000 records collected:  1000  - latest recordID:  addAsset   0x1c24c59cc163dbb3d3bfb1cf7a0e6ae73e18bad8fcc42485ebe0f9da5ba240f1  - actions DB length:  366000  - latest record from:  2023-01-15 22:33:11 35 days ago\n",
      "iterations:  366 Lines skipped:  366000 records collected:  1000  - latest recordID:  removeAsset   0x561000bc54afd449b08b7ffb510fedd703f93b2c7183b20fe84ef8a266e7c3e1  - actions DB length:  367000  - latest record from:  2023-01-15 17:49:59 35 days ago\n",
      "iterations:  367 Lines skipped:  367000 records collected:  1000  - latest recordID:  borrowAsset   0x83bcb813eb93d595d6b61c2dd4d8b2104fd2c844b5bc2d85dbafaf99946d5290  - actions DB length:  368000  - latest record from:  2023-01-15 17:19:23 35 days ago\n",
      "iterations:  368 Lines skipped:  368000 records collected:  1000  - latest recordID:  addAsset   0x5bdd4426fdf44ac05696e94981a792cd7ad4f4f1d629e9493ee70c3d786a4638  - actions DB length:  369000  - latest record from:  2023-01-15 16:54:35 35 days ago\n",
      "iterations:  369 Lines skipped:  369000 records collected:  1000  - latest recordID:  addAsset   0xdefbe93580f28c4eed1e7c210dbe0d9a6f5a53b8400a9c2db0001f9e2d88f76f  - actions DB length:  370000  - latest record from:  2023-01-15 16:45:59 35 days ago\n",
      "iterations:  370 Lines skipped:  370000 records collected:  1000  - latest recordID:  addAsset   0x4a034be1ece9e09ba3d64839202ddef1a6a82ff02cdc66591d7498138684215e  - actions DB length:  371000  - latest record from:  2023-01-15 16:42:23 35 days ago\n",
      "iterations:  371 Lines skipped:  371000 records collected:  1000  - latest recordID:  borrowAsset   0x7b3474db5b4b172607d32acf5e55b571b3781335c90276cc31cfe8eb596dc7a7+1  - actions DB length:  372000  - latest record from:  2023-01-15 07:39:35 35 days ago\n",
      "iterations:  372 Lines skipped:  372000 records collected:  1000  - latest recordID:  addCollateral   0x7b3474db5b4b172607d32acf5e55b571b3781335c90276cc31cfe8eb596dc7a7  - actions DB length:  373000  - latest record from:  2023-01-15 07:39:35 35 days ago\n",
      "iterations:  373 Lines skipped:  373000 records collected:  1000  - latest recordID:  addAsset   0x41f37664fef4746b7e5d579037274ed87ae87650b41f3e691e72151792c961b8  - actions DB length:  374000  - latest record from:  2023-01-15 05:38:23 35 days ago\n",
      "iterations:  374 Lines skipped:  374000 records collected:  1000  - latest recordID:  borrowAsset   0xede5fbfc1804d165821247fae886c6c2a8736f3052eb6ff861490e67eccb63dc+1  - actions DB length:  375000  - latest record from:  2023-01-15 05:16:23 35 days ago\n",
      "iterations:  375 Lines skipped:  375000 records collected:  1000  - latest recordID:  addCollateral   0xede5fbfc1804d165821247fae886c6c2a8736f3052eb6ff861490e67eccb63dc  - actions DB length:  376000  - latest record from:  2023-01-15 05:16:23 35 days ago\n",
      "iterations:  376 Lines skipped:  376000 records collected:  1000  - latest recordID:  borrowAsset   0xd213964a240a91c8b6f14a499e11e4fae61bb2ba9f6fb658e20f2b8b3d225bdd  - actions DB length:  377000  - latest record from:  2023-01-15 05:12:35 35 days ago\n",
      "iterations:  377 Lines skipped:  377000 records collected:  1000  - latest recordID:  addAsset   0xd4a5c1f8215e5a585446c1ca1cdb962af00e1f2bac3ca7df06560e80d7099969  - actions DB length:  378000  - latest record from:  2023-01-14 22:37:59 36 days ago\n",
      "iterations:  378 Lines skipped:  378000 records collected:  1000  - latest recordID:  addAsset   0x35d48451c285884485e41841bc43023844d859bb4d75a127168abae3d1e9f3a5  - actions DB length:  379000  - latest record from:  2023-01-14 21:49:47 36 days ago\n",
      "iterations:  379 Lines skipped:  379000 records collected:  1000  - latest recordID:  borrowAsset   0xa76006719842d138ac2035f7eb8eb406192bbc1c3f048e27cb7680708587177c+1  - actions DB length:  380000  - latest record from:  2023-01-14 18:27:23 36 days ago\n",
      "iterations:  380 Lines skipped:  380000 records collected:  1000  - latest recordID:  addCollateral   0xa76006719842d138ac2035f7eb8eb406192bbc1c3f048e27cb7680708587177c  - actions DB length:  381000  - latest record from:  2023-01-14 18:27:23 36 days ago\n",
      "iterations:  381 Lines skipped:  381000 records collected:  1000  - latest recordID:  borrowAsset   0x1a2e3b330fb4870effb0dda22c440dd6bf9448d5ae9af7fd69b58a3fb636dea9  - actions DB length:  382000  - latest record from:  2023-01-14 18:19:11 36 days ago\n",
      "iterations:  382 Lines skipped:  382000 records collected:  1000  - latest recordID:  addAsset   0x01b07b7f6863ff9e1ceed72d70b3fc030a7ad7aac1cc0613e111cbf5a4c9e16a  - actions DB length:  383000  - latest record from:  2023-01-14 10:32:47 36 days ago\n",
      "iterations:  383 Lines skipped:  383000 records collected:  1000  - latest recordID:  repayAsset   0xfa63338732c74507f8839f8673048a70564f7eeabaa69c5b5f13c6d6bf6303de  - actions DB length:  384000  - latest record from:  2023-01-14 05:04:47 36 days ago\n",
      "iterations:  384 Lines skipped:  384000 records collected:  1000  - latest recordID:  repayAsset   0xf79730c4f44f676b24f163414ead22ac5a6feb6beb980d0ad217b0b964186cd7  - actions DB length:  385000  - latest record from:  2023-01-14 05:01:11 36 days ago\n",
      "iterations:  385 Lines skipped:  385000 records collected:  1000  - latest recordID:  addAsset   0xc8f1ea628eca352412df8b3f16617b30c40f342007a3c63655207dcb5c6c1061  - actions DB length:  386000  - latest record from:  2023-01-14 03:41:59 37 days ago\n",
      "iterations:  386 Lines skipped:  386000 records collected:  1000  - latest recordID:  removeAsset   0x2bf7b6779d36f8465d5d9d3b851e86830528e02a0b5d9d4c72d51f03c802f788  - actions DB length:  387000  - latest record from:  2023-01-14 03:12:59 37 days ago\n",
      "iterations:  387 Lines skipped:  387000 records collected:  1000  - latest recordID:  removeCollateral   0x823204d420c08720ee1bc3c56494f97d5f2f09b49455ad5eaf00f59950ac4786  - actions DB length:  388000  - latest record from:  2023-01-13 18:44:59 37 days ago\n",
      "iterations:  388 Lines skipped:  388000 records collected:  1000  - latest recordID:  repayAsset   0x7e8d694e8b27de65c306c477f4e2eeb6dcbd0d765c43ded5c63eea149cdc4b27  - actions DB length:  389000  - latest record from:  2023-01-13 18:42:47 37 days ago\n",
      "iterations:  389 Lines skipped:  389000 records collected:  1000  - latest recordID:  removeCollateral   0x2540482229b7d37030f7792bafe9be1d5be0a2487e56df492d5073f2c86c5a47  - actions DB length:  390000  - latest record from:  2023-01-13 18:39:47 37 days ago\n",
      "iterations:  390 Lines skipped:  390000 records collected:  1000  - latest recordID:  removeCollateral   0xe6d47e03c9c822f5bc5c84021c892857da04cb69766f3823eb094aa2a939e434  - actions DB length:  391000  - latest record from:  2023-01-13 18:24:11 37 days ago\n",
      "iterations:  391 Lines skipped:  391000 records collected:  1000  - latest recordID:  borrowAsset   0x4af8d770b2ac766ffd7b0620e70f37f04c4047f6a3aae2a0b0c1c6d9ddee4b21  - actions DB length:  392000  - latest record from:  2023-01-13 17:14:23 37 days ago\n",
      "iterations:  392 Lines skipped:  392000 records collected:  1000  - latest recordID:  repayAsset   0x3ca2c4e00ea1ecf02215a2e3e6a68cde1e77ac7405892d031abacc205d4ed687  - actions DB length:  393000  - latest record from:  2023-01-13 16:57:59 37 days ago\n",
      "iterations:  393 Lines skipped:  393000 records collected:  1000  - latest recordID:  removeCollateral   0xaf7b46e77ff4f1b9b2dcec7addef0c77decda67e69eceac9f5f844188151f1f4  - actions DB length:  394000  - latest record from:  2023-01-13 14:27:35 37 days ago\n",
      "iterations:  394 Lines skipped:  394000 records collected:  1000  - latest recordID:  repayAsset   0xbc2b19884bf689493cd56b786b36cee4859014e51ffccbad2fb52a6010acc86d  - actions DB length:  395000  - latest record from:  2023-01-13 14:25:47 37 days ago\n",
      "iterations:  395 Lines skipped:  395000 records collected:  1000  - latest recordID:  borrowAsset   0x68a79acb8d9079b5ff612ff61549ce17e7ddb9123d2a5f1691d0431a05b4dafb+1  - actions DB length:  396000  - latest record from:  2023-01-13 07:16:11 37 days ago\n",
      "iterations:  396 Lines skipped:  396000 records collected:  1000  - latest recordID:  addCollateral   0x68a79acb8d9079b5ff612ff61549ce17e7ddb9123d2a5f1691d0431a05b4dafb  - actions DB length:  397000  - latest record from:  2023-01-13 07:16:11 37 days ago\n",
      "iterations:  397 Lines skipped:  397000 records collected:  1000  - latest recordID:  borrowAsset   0x1a7b29d41cd34d86cd795b4247d20e6a880c40ae70aaed26b47a7f55e03e23d5  - actions DB length:  398000  - latest record from:  2023-01-13 07:11:47 37 days ago\n",
      "iterations:  398 Lines skipped:  398000 records collected:  1000  - latest recordID:  borrowAsset   0xe757a5d4cc93e610e91506c8215f465e894f3c1c2594219e3e97a38dc482d0ec  - actions DB length:  399000  - latest record from:  2023-01-13 03:51:23 38 days ago\n",
      "iterations:  399 Lines skipped:  399000 records collected:  1000  - latest recordID:  removeAsset   0x5b3a0a3f42dba464620f6a8b2e6d09e18e099da202f5280d41d854a74ddfb926  - actions DB length:  400000  - latest record from:  2023-01-12 13:59:47 38 days ago\n",
      "iterations:  400 Lines skipped:  400000 records collected:  1000  - latest recordID:  addCollateral   0x0a2a05a1b073a1dcbce900f1c49e64fc29ce35dc8dfdd75ea0820c981d53fbba  - actions DB length:  401000  - latest record from:  2023-01-12 05:06:47 38 days ago\n",
      "iterations:  401 Lines skipped:  401000 records collected:  1000  - latest recordID:  removeCollateral   0x53bafd9b89740e23b8c6d603849a6f6e5cd11f36e0e6d56af99e19f4e254ed39  - actions DB length:  402000  - latest record from:  2023-01-12 04:59:35 38 days ago\n",
      "iterations:  402 Lines skipped:  402000 records collected:  1000  - latest recordID:  repayAsset   0x81d778d4301c73a4ec949b91e4badeec867c344c2777f25e7e76d861d0fa461c  - actions DB length:  403000  - latest record from:  2023-01-12 04:58:23 38 days ago\n",
      "iterations:  403 Lines skipped:  403000 records collected:  1000  - latest recordID:  repayAsset   0xf8f13055ad994c19a486d915a5b4d255063d356bb3b58b1f74fe32534ea673d9  - actions DB length:  404000  - latest record from:  2023-01-12 04:57:23 38 days ago\n",
      "iterations:  404 Lines skipped:  404000 records collected:  1000  - latest recordID:  borrowAsset   0x3bbbd2a1046ee68bda724337f47c6e552f15e01e22483b6be8fdd24ebc917000+1  - actions DB length:  405000  - latest record from:  2023-01-11 17:47:35 39 days ago\n",
      "iterations:  405 Lines skipped:  405000 records collected:  1000  - latest recordID:  addCollateral   0x3bbbd2a1046ee68bda724337f47c6e552f15e01e22483b6be8fdd24ebc917000  - actions DB length:  406000  - latest record from:  2023-01-11 17:47:35 39 days ago\n",
      "iterations:  406 Lines skipped:  406000 records collected:  1000  - latest recordID:  borrowAsset   0xe5b9f10576301dec6a887f1523117588e41be6fd6a048e54317474ef115e36b0  - actions DB length:  407000  - latest record from:  2023-01-11 17:42:47 39 days ago\n",
      "iterations:  407 Lines skipped:  407000 records collected:  1000  - latest recordID:  removeCollateral   0xc26d1cfbded58dd66e82b541452cf27ef1899591d7a9f535255d718d4e2b9d5a  - actions DB length:  408000  - latest record from:  2023-01-11 16:43:47 39 days ago\n",
      "iterations:  408 Lines skipped:  408000 records collected:  1000  - latest recordID:  borrowAsset   0xb556436843408b3b90d66ef24be1dad4e93be4f84b65c814753ba8331681bcbc+1  - actions DB length:  409000  - latest record from:  2023-01-11 16:09:35 39 days ago\n",
      "iterations:  409 Lines skipped:  409000 records collected:  1000  - latest recordID:  addCollateral   0xb556436843408b3b90d66ef24be1dad4e93be4f84b65c814753ba8331681bcbc  - actions DB length:  410000  - latest record from:  2023-01-11 16:09:35 39 days ago\n",
      "iterations:  410 Lines skipped:  410000 records collected:  1000  - latest recordID:  borrowAsset   0xa570950082942b24fd1dd6a6b72c463e297d3bb766224037417bb9d149bbb7b2  - actions DB length:  411000  - latest record from:  2023-01-11 16:04:23 39 days ago\n",
      "iterations:  411 Lines skipped:  411000 records collected:  1000  - latest recordID:  repayAsset   0xbaa4f9d5e93b3ad897a3b62f5e79598e7df8436ba5f6d3e624e32428417b92f7  - actions DB length:  412000  - latest record from:  2023-01-11 15:49:11 39 days ago\n",
      "iterations:  412 Lines skipped:  412000 records collected:  1000  - latest recordID:  borrowAsset   0x63fce6869c22d16241e5204088f05b97bcce1f79aa52863cb3077b866e007436+1  - actions DB length:  413000  - latest record from:  2023-01-11 15:19:23 39 days ago\n",
      "iterations:  413 Lines skipped:  413000 records collected:  1000  - latest recordID:  addCollateral   0x63fce6869c22d16241e5204088f05b97bcce1f79aa52863cb3077b866e007436  - actions DB length:  414000  - latest record from:  2023-01-11 15:19:23 39 days ago\n",
      "iterations:  414 Lines skipped:  414000 records collected:  1000  - latest recordID:  borrowAsset   0x1fbc50ee601d5781fc9d877d48c5e4a81ca2b4ddbbace4d3af016b56b6c6f3b0  - actions DB length:  415000  - latest record from:  2023-01-11 15:15:11 39 days ago\n",
      "iterations:  415 Lines skipped:  415000 records collected:  1000  - latest recordID:  addAsset   0xcc2b330c7f92b7a9a5746bc5f87d914eb07dd22b3431a240f5d4ac84c91f0834  - actions DB length:  416000  - latest record from:  2023-01-11 13:26:11 39 days ago\n",
      "iterations:  416 Lines skipped:  416000 records collected:  1000  - latest recordID:  addAsset   0x68801213fb67e480e15ecab109073dab45051e064d80c03c7457364bc68cd2f2  - actions DB length:  417000  - latest record from:  2023-01-11 12:15:11 39 days ago\n",
      "iterations:  417 Lines skipped:  417000 records collected:  1000  - latest recordID:  borrowAsset   0x06806270acee99df1ef398d1c7e82340e1451c9bb50fc595ca6fe3bf582f1545+1  - actions DB length:  418000  - latest record from:  2023-01-11 11:03:23 39 days ago\n",
      "iterations:  418 Lines skipped:  418000 records collected:  1000  - latest recordID:  addCollateral   0x06806270acee99df1ef398d1c7e82340e1451c9bb50fc595ca6fe3bf582f1545  - actions DB length:  419000  - latest record from:  2023-01-11 11:03:23 39 days ago\n",
      "iterations:  419 Lines skipped:  419000 records collected:  1000  - latest recordID:  borrowAsset   0x3bcc4cbf4c0eab3c7c434727d6262e8270bdb95f5605afb663598cb69f3e9df8+1  - actions DB length:  420000  - latest record from:  2023-01-11 09:02:59 39 days ago\n",
      "iterations:  420 Lines skipped:  420000 records collected:  1000  - latest recordID:  addCollateral   0x3bcc4cbf4c0eab3c7c434727d6262e8270bdb95f5605afb663598cb69f3e9df8  - actions DB length:  421000  - latest record from:  2023-01-11 09:02:59 39 days ago\n",
      "iterations:  421 Lines skipped:  421000 records collected:  1000  - latest recordID:  borrowAsset   0x18727900202f40d7652ee5d7f0e87559c2aa889f68e4173e8af971ba6fe58c79  - actions DB length:  422000  - latest record from:  2023-01-11 09:00:11 39 days ago\n",
      "iterations:  422 Lines skipped:  422000 records collected:  1000  - latest recordID:  borrowAsset   0x1f3ccf4cbb1c559d80431a543aee4c8ddab8a474164db9018be7ad931afda41e+1  - actions DB length:  423000  - latest record from:  2023-01-11 08:50:11 39 days ago\n",
      "iterations:  423 Lines skipped:  423000 records collected:  1000  - latest recordID:  addCollateral   0x1f3ccf4cbb1c559d80431a543aee4c8ddab8a474164db9018be7ad931afda41e  - actions DB length:  424000  - latest record from:  2023-01-11 08:50:11 39 days ago\n",
      "iterations:  424 Lines skipped:  424000 records collected:  1000  - latest recordID:  borrowAsset   0xc529182a887a577db64badc92b57d5fecbef6d881ed6f9a23c10123ff01eb794+1  - actions DB length:  425000  - latest record from:  2023-01-11 08:45:35 39 days ago\n",
      "iterations:  425 Lines skipped:  425000 records collected:  1000  - latest recordID:  addCollateral   0xc529182a887a577db64badc92b57d5fecbef6d881ed6f9a23c10123ff01eb794  - actions DB length:  426000  - latest record from:  2023-01-11 08:45:35 39 days ago\n",
      "iterations:  426 Lines skipped:  426000 records collected:  1000  - latest recordID:  borrowAsset   0x03f1760d6ea18ff77d7404d4cde8f803e5dfe7156bf81aa40633438fc75bf2de+1  - actions DB length:  427000  - latest record from:  2023-01-11 08:42:11 39 days ago\n",
      "iterations:  427 Lines skipped:  427000 records collected:  1000  - latest recordID:  addCollateral   0x03f1760d6ea18ff77d7404d4cde8f803e5dfe7156bf81aa40633438fc75bf2de  - actions DB length:  428000  - latest record from:  2023-01-11 08:42:11 39 days ago\n",
      "iterations:  428 Lines skipped:  428000 records collected:  1000  - latest recordID:  borrowAsset   0xea44044af1061d77deb9a2e6fcee73d8a04d5351b1c5c7290e6264e862379402+1  - actions DB length:  429000  - latest record from:  2023-01-11 08:29:11 39 days ago\n",
      "iterations:  429 Lines skipped:  429000 records collected:  1000  - latest recordID:  addCollateral   0xea44044af1061d77deb9a2e6fcee73d8a04d5351b1c5c7290e6264e862379402  - actions DB length:  430000  - latest record from:  2023-01-11 08:29:11 39 days ago\n",
      "iterations:  430 Lines skipped:  430000 records collected:  1000  - latest recordID:  borrowAsset   0x2c595332ade79d1c52e7cde8b1ab3505407f1c6e8125705f2f786aa597d70a79+1  - actions DB length:  431000  - latest record from:  2023-01-11 08:18:35 39 days ago\n",
      "iterations:  431 Lines skipped:  431000 records collected:  1000  - latest recordID:  addCollateral   0x2c595332ade79d1c52e7cde8b1ab3505407f1c6e8125705f2f786aa597d70a79  - actions DB length:  432000  - latest record from:  2023-01-11 08:18:35 39 days ago\n",
      "iterations:  432 Lines skipped:  432000 records collected:  1000  - latest recordID:  borrowAsset   0x9b829cf41599e36f2874c1cb34a9461c75b04c11c3e7025c47495bfc361467f9  - actions DB length:  433000  - latest record from:  2023-01-11 08:04:59 39 days ago\n",
      "iterations:  433 Lines skipped:  433000 records collected:  1000  - latest recordID:  repayAsset   0x698b74854ae1a7ffc74296479b69147c0c37523f78f5ed98c5fbab13e98f5614  - actions DB length:  434000  - latest record from:  2023-01-11 04:51:47 39 days ago\n",
      "iterations:  434 Lines skipped:  434000 records collected:  1000  - latest recordID:  repayAsset   0x1aed7d2b9933007618654ea96fc0afaf7e3c189fb2c9287bef37f1562870599f  - actions DB length:  435000  - latest record from:  2023-01-10 20:25:23 40 days ago\n",
      "iterations:  435 Lines skipped:  435000 records collected:  1000  - latest recordID:  borrowAsset   0xaaf548c6f478c7824a79855f43417f8ec997e45b4194ef9f7a08bff713b5a329  - actions DB length:  436000  - latest record from:  2023-01-10 19:49:11 40 days ago\n",
      "iterations:  436 Lines skipped:  436000 records collected:  1000  - latest recordID:  repayAsset   0xe2690dac6449b50cd52a08e513917c9b57393c9d6217e99fa1972421c00efce9  - actions DB length:  437000  - latest record from:  2023-01-10 05:44:47 40 days ago\n",
      "iterations:  437 Lines skipped:  437000 records collected:  1000  - latest recordID:  repayAsset   0xbd040537b5acd14537a9566bacb6e09b3497a4712c6ffa066577d16fb82b0df3  - actions DB length:  438000  - latest record from:  2023-01-09 08:25:47 41 days ago\n",
      "iterations:  438 Lines skipped:  438000 records collected:  1000  - latest recordID:  removeAsset   0xbc6a8dfd8231cd01dfd472edcad4e534d2a5ba700fc67a26e29e06dd875fdfba  - actions DB length:  439000  - latest record from:  2023-01-09 07:15:35 41 days ago\n",
      "iterations:  439 Lines skipped:  439000 records collected:  1000  - latest recordID:  borrowAsset   0x00f47a10ca8e9ddebc8f6a6068f1ce3a92b26da9fb0c2dc2e864cd5745d01bf4  - actions DB length:  440000  - latest record from:  2023-01-09 07:10:47 41 days ago\n",
      "iterations:  440 Lines skipped:  440000 records collected:  1000  - latest recordID:  removeAsset   0xfc90df0d373de0ab7718f61984462fb503609c7aa36f017137986e540e1671b0  - actions DB length:  441000  - latest record from:  2023-01-08 21:24:47 42 days ago\n",
      "iterations:  441 Lines skipped:  441000 records collected:  1000  - latest recordID:  borrowAsset   0x7335e94e394cecccf6e7564b6f6c6a153f67b715fac2fe23420043db5e01b3a3+1  - actions DB length:  442000  - latest record from:  2023-01-08 18:43:23 42 days ago\n",
      "iterations:  442 Lines skipped:  442000 records collected:  1000  - latest recordID:  addCollateral   0x7335e94e394cecccf6e7564b6f6c6a153f67b715fac2fe23420043db5e01b3a3  - actions DB length:  443000  - latest record from:  2023-01-08 18:43:23 42 days ago\n",
      "iterations:  443 Lines skipped:  443000 records collected:  1000  - latest recordID:  borrowAsset   0xad663fb0b26d0ed66a30858c29994a1865e1eeab44e20c8b122bb138fc6175a5+1  - actions DB length:  444000  - latest record from:  2023-01-08 18:17:11 42 days ago\n",
      "iterations:  444 Lines skipped:  444000 records collected:  1000  - latest recordID:  addCollateral   0xad663fb0b26d0ed66a30858c29994a1865e1eeab44e20c8b122bb138fc6175a5  - actions DB length:  445000  - latest record from:  2023-01-08 18:17:11 42 days ago\n",
      "iterations:  445 Lines skipped:  445000 records collected:  1000  - latest recordID:  borrowAsset   0x112aa7130d51af6398997f3367f171ee873b53254f49c313469b27b893a60eb1+1  - actions DB length:  446000  - latest record from:  2023-01-08 18:13:35 42 days ago\n",
      "iterations:  446 Lines skipped:  446000 records collected:  1000  - latest recordID:  addCollateral   0x112aa7130d51af6398997f3367f171ee873b53254f49c313469b27b893a60eb1  - actions DB length:  447000  - latest record from:  2023-01-08 18:13:35 42 days ago\n",
      "iterations:  447 Lines skipped:  447000 records collected:  1000  - latest recordID:  borrowAsset   0x46e1b4c475ab54b95556c49aea86c91b2bb20e034ab62f29f8104856720a9db3+1  - actions DB length:  448000  - latest record from:  2023-01-08 18:10:23 42 days ago\n",
      "iterations:  448 Lines skipped:  448000 records collected:  1000  - latest recordID:  addCollateral   0x46e1b4c475ab54b95556c49aea86c91b2bb20e034ab62f29f8104856720a9db3  - actions DB length:  449000  - latest record from:  2023-01-08 18:10:23 42 days ago\n",
      "iterations:  449 Lines skipped:  449000 records collected:  1000  - latest recordID:  removeAsset   0xe48d37260880fb7fe7493b84af0cfa05d33c8c3e7a71c15b4ab0d65621799b65  - actions DB length:  450000  - latest record from:  2023-01-08 17:24:23 42 days ago\n",
      "iterations:  450 Lines skipped:  450000 records collected:  1000  - latest recordID:  borrowAsset   0x10a0981509a50cea879aa69213685127613fd378ab4e21200c9aff69a6a54cde+1  - actions DB length:  451000  - latest record from:  2023-01-08 17:14:47 42 days ago\n",
      "iterations:  451 Lines skipped:  451000 records collected:  1000  - latest recordID:  addCollateral   0x10a0981509a50cea879aa69213685127613fd378ab4e21200c9aff69a6a54cde  - actions DB length:  452000  - latest record from:  2023-01-08 17:14:47 42 days ago\n",
      "iterations:  452 Lines skipped:  452000 records collected:  1000  - latest recordID:  borrowAsset   0xf5f33626970eeb6831f72a4452c46d49e396a516041bc3601d7cba3b4c7f2002  - actions DB length:  453000  - latest record from:  2023-01-08 17:09:47 42 days ago\n",
      "iterations:  453 Lines skipped:  453000 records collected:  1000  - latest recordID:  addAsset   0xd731643f0ff1a778aa9a71ed4e02885707f6614a1c31e6f07492c6a29488786c  - actions DB length:  454000  - latest record from:  2023-01-08 14:20:11 42 days ago\n",
      "iterations:  454 Lines skipped:  454000 records collected:  1000  - latest recordID:  addAsset   0xd3e0734264e9d3b926518486ca0d796b96c0415b0e1efbe67576df1080bc5dee  - actions DB length:  455000  - latest record from:  2023-01-08 14:14:35 42 days ago\n",
      "iterations:  455 Lines skipped:  455000 records collected:  1000  - latest recordID:  borrowAsset   0x9e2a34623e3ae58220877d0e95b651103a11a2a9f19440e4ff9f8e7724eb1812  - actions DB length:  456000  - latest record from:  2023-01-08 13:56:35 42 days ago\n",
      "iterations:  456 Lines skipped:  456000 records collected:  1000  - latest recordID:  removeAsset   0x3ce9d96ddb970226ad3347b0c44f6d6e5e83c8e7561f8061321e74be0770940f  - actions DB length:  457000  - latest record from:  2023-01-08 13:46:35 42 days ago\n",
      "iterations:  457 Lines skipped:  457000 records collected:  1000  - latest recordID:  repayAsset   0x13dbf25c0a53645cf0cf707d7aeecb149490b474567af246f2ba94d1ae4fc6f2  - actions DB length:  458000  - latest record from:  2023-01-08 11:59:35 42 days ago\n",
      "iterations:  458 Lines skipped:  458000 records collected:  1000  - latest recordID:  borrowAsset   0x6d2c76886d534204920ab2d1f3fe06765d874a1e7ef2fd04638fb9fc0c0d5e5c+1  - actions DB length:  459000  - latest record from:  2023-01-08 09:20:11 42 days ago\n",
      "iterations:  459 Lines skipped:  459000 records collected:  1000  - latest recordID:  addCollateral   0x6d2c76886d534204920ab2d1f3fe06765d874a1e7ef2fd04638fb9fc0c0d5e5c  - actions DB length:  460000  - latest record from:  2023-01-08 09:20:11 42 days ago\n",
      "iterations:  460 Lines skipped:  460000 records collected:  1000  - latest recordID:  borrowAsset   0x134a6fddfb5aff2cfa3545e86cf083bcd57b0142fb01ce75b7bfff78aff30c20  - actions DB length:  461000  - latest record from:  2023-01-07 17:18:11 43 days ago\n",
      "iterations:  461 Lines skipped:  461000 records collected:  1000  - latest recordID:  addCollateral   0x495b98a0dcb94ce91b44d7d86d454d6ae617ce427d355d1ecef24e4d322cbb6e  - actions DB length:  462000  - latest record from:  2023-01-07 17:16:11 43 days ago\n",
      "iterations:  462 Lines skipped:  462000 records collected:  1000  - latest recordID:  borrowAsset   0x382338f0e469c80756ba6f382506dc1e9aafab3f29093aa32228006e2c10796c  - actions DB length:  463000  - latest record from:  2023-01-07 16:34:47 43 days ago\n",
      "iterations:  463 Lines skipped:  463000 records collected:  1000  - latest recordID:  borrowAsset   0x0aa4074a73402ce256c0d7dcb715c87b97c5ba644d09e32a5b7c732cb9fd64b9  - actions DB length:  464000  - latest record from:  2023-01-07 14:07:23 43 days ago\n",
      "iterations:  464 Lines skipped:  464000 records collected:  1000  - latest recordID:  borrowAsset   0xac99c8c630a1443cbfb950b4dd628a2c33be38bbf41b1958f9a0bb75c4c20471  - actions DB length:  465000  - latest record from:  2023-01-06 20:20:47 44 days ago\n",
      "iterations:  465 Lines skipped:  465000 records collected:  1000  - latest recordID:  addCollateral   0x7ba250e56ad7a192df442f5196030627fb9296c66c3b3c70cd14215e2ccf0d22  - actions DB length:  466000  - latest record from:  2023-01-06 20:19:11 44 days ago\n",
      "iterations:  466 Lines skipped:  466000 records collected:  1000  - latest recordID:  removeCollateral   0xad7b18d6fcfc00d0209c9729744424e7045873654ed81572d8a0679076bff16c  - actions DB length:  467000  - latest record from:  2023-01-06 11:16:59 44 days ago\n",
      "iterations:  467 Lines skipped:  467000 records collected:  1000  - latest recordID:  repayAsset   0xba8c00ec1d3bd8e1a5031ebcd00f1966d099dc17de8434069cc3e9709f1bd8b3  - actions DB length:  468000  - latest record from:  2023-01-06 11:14:47 44 days ago\n",
      "iterations:  468 Lines skipped:  468000 records collected:  1000  - latest recordID:  repayAsset   0xc340504a0db784dc3e64806e8a4d8de66d4b2aa1c28c471f03d3fe926ccc1672  - actions DB length:  469000  - latest record from:  2023-01-06 11:12:35 44 days ago\n",
      "iterations:  469 Lines skipped:  469000 records collected:  1000  - latest recordID:  borrowAsset   0x728e4e2c821118e6140a01115db8ccb3f4281405f16c644bf18ead8c444b8b1d+1  - actions DB length:  470000  - latest record from:  2023-01-06 07:31:47 44 days ago\n",
      "iterations:  470 Lines skipped:  470000 records collected:  1000  - latest recordID:  addCollateral   0x728e4e2c821118e6140a01115db8ccb3f4281405f16c644bf18ead8c444b8b1d  - actions DB length:  471000  - latest record from:  2023-01-06 07:31:47 44 days ago\n",
      "iterations:  471 Lines skipped:  471000 records collected:  1000  - latest recordID:  borrowAsset   0xf24e981647ca8c7d3bde1fd3f5a3224935c19ca906f024f0e70d368ee377920a  - actions DB length:  472000  - latest record from:  2023-01-06 07:28:23 44 days ago\n",
      "iterations:  472 Lines skipped:  472000 records collected:  1000  - latest recordID:  removeCollateral   0xb9e6940a9d51abc72a9375587f94126d3c0fd037d99736320e9de8ea34b769ee  - actions DB length:  473000  - latest record from:  2023-01-06 06:32:47 44 days ago\n",
      "iterations:  473 Lines skipped:  473000 records collected:  1000  - latest recordID:  repayAsset   0xb65426a8c1d06558804a27a2e0c1a65f81f0b68475cca007e3102f7a9685de82  - actions DB length:  474000  - latest record from:  2023-01-06 06:31:35 44 days ago\n",
      "iterations:  474 Lines skipped:  474000 records collected:  1000  - latest recordID:  borrowAsset   0xc68e5262eb7b74946a0768c7605d40fa89725490bef67dd527fc93c5baaa4051+1  - actions DB length:  475000  - latest record from:  2023-01-06 05:29:59 44 days ago\n",
      "iterations:  475 Lines skipped:  475000 records collected:  1000  - latest recordID:  addCollateral   0xc68e5262eb7b74946a0768c7605d40fa89725490bef67dd527fc93c5baaa4051  - actions DB length:  476000  - latest record from:  2023-01-06 05:29:59 44 days ago\n",
      "iterations:  476 Lines skipped:  476000 records collected:  1000  - latest recordID:  borrowAsset   0x4fce330b491b01da0725c385981fc95b647f545c1059ec954db47973b0a4d0ad  - actions DB length:  477000  - latest record from:  2023-01-06 05:27:35 44 days ago\n",
      "iterations:  477 Lines skipped:  477000 records collected:  1000  - latest recordID:  repayAsset   0xcd67d8e322952de56d2057f78d3afccfe2067fb5667df75129fa965dffa70a8c  - actions DB length:  478000  - latest record from:  2023-01-06 04:13:47 45 days ago\n",
      "iterations:  478 Lines skipped:  478000 records collected:  1000  - latest recordID:  removeCollateral   0x3abd995ffec73bac95921d3279aa129988df86ddfbe6ce2031f10fa89e6bda74  - actions DB length:  479000  - latest record from:  2023-01-06 04:10:23 45 days ago\n",
      "iterations:  479 Lines skipped:  479000 records collected:  1000  - latest recordID:  borrowAsset   0xa9b96f0a30f7c95d2328da28a3c7551b3fcbdca4a79f22212211a3b5d59d273f+1  - actions DB length:  480000  - latest record from:  2023-01-05 10:21:23 45 days ago\n",
      "iterations:  480 Lines skipped:  480000 records collected:  1000  - latest recordID:  addCollateral   0xa9b96f0a30f7c95d2328da28a3c7551b3fcbdca4a79f22212211a3b5d59d273f  - actions DB length:  481000  - latest record from:  2023-01-05 10:21:23 45 days ago\n",
      "iterations:  481 Lines skipped:  481000 records collected:  1000  - latest recordID:  borrowAsset   0x2b7733fed0df21cb210f01004ebb717721c0a621bd2ec827d3c8b3822425be1a+1  - actions DB length:  482000  - latest record from:  2023-01-05 03:17:11 46 days ago\n",
      "iterations:  482 Lines skipped:  482000 records collected:  1000  - latest recordID:  addCollateral   0x2b7733fed0df21cb210f01004ebb717721c0a621bd2ec827d3c8b3822425be1a  - actions DB length:  483000  - latest record from:  2023-01-05 03:17:11 46 days ago\n",
      "iterations:  483 Lines skipped:  483000 records collected:  1000  - latest recordID:  borrowAsset   0x31b3f583706c4702da2c7fa492fde86f05efd8e1eabc89eb0ca82c72c22ae235+1  - actions DB length:  484000  - latest record from:  2023-01-04 10:54:35 46 days ago\n",
      "iterations:  484 Lines skipped:  484000 records collected:  1000  - latest recordID:  addCollateral   0x31b3f583706c4702da2c7fa492fde86f05efd8e1eabc89eb0ca82c72c22ae235  - actions DB length:  485000  - latest record from:  2023-01-04 10:54:35 46 days ago\n",
      "iterations:  485 Lines skipped:  485000 records collected:  1000  - latest recordID:  borrowAsset   0x12da456da63a0aeeb512e91e360904073b6602ac8bbcb0ba31254babee36c672+1  - actions DB length:  486000  - latest record from:  2023-01-04 10:16:23 46 days ago\n",
      "iterations:  486 Lines skipped:  486000 records collected:  1000  - latest recordID:  addCollateral   0x12da456da63a0aeeb512e91e360904073b6602ac8bbcb0ba31254babee36c672  - actions DB length:  487000  - latest record from:  2023-01-04 10:16:23 46 days ago\n",
      "iterations:  487 Lines skipped:  487000 records collected:  1000  - latest recordID:  repayAsset   0xab85205e283529cdd4872b10e34bc9114fc323b4ff056dbadf3b9627e5be6bb7  - actions DB length:  488000  - latest record from:  2023-01-04 10:01:11 46 days ago\n",
      "iterations:  488 Lines skipped:  488000 records collected:  1000  - latest recordID:  borrowAsset   0x63cf9d10b4f61a4f6e3825ccf2e0acfbdcb9e9e08df15448302142ae4d02cf7e  - actions DB length:  489000  - latest record from:  2023-01-04 09:58:59 46 days ago\n",
      "iterations:  489 Lines skipped:  489000 records collected:  1000  - latest recordID:  removeAsset   0xb5c24e2d20088b47ecc50be2e61634596a5fd349f1a0648e026bdf7ce2bc41ee  - actions DB length:  490000  - latest record from:  2023-01-04 07:58:47 46 days ago\n",
      "iterations:  490 Lines skipped:  490000 records collected:  1000  - latest recordID:  removeAsset   0xaaddf12a01198a9bc300982984b6e4221956b074daae261a83a305a2539d9b08  - actions DB length:  491000  - latest record from:  2023-01-04 07:48:23 46 days ago\n",
      "iterations:  491 Lines skipped:  491000 records collected:  1000  - latest recordID:  removeCollateral   0x8236ba0d241c9b6831df3b41fd4dd4e18257eef9c23bdf3047fa8f0286cbef75  - actions DB length:  492000  - latest record from:  2023-01-03 17:56:35 47 days ago\n",
      "iterations:  492 Lines skipped:  492000 records collected:  1000  - latest recordID:  repayAsset   0xe5f52fb3db7446bbc40ec3c60b004edbddab1490919cb8551a56cd0d80a04c16  - actions DB length:  493000  - latest record from:  2023-01-03 17:54:11 47 days ago\n",
      "iterations:  493 Lines skipped:  493000 records collected:  1000  - latest recordID:  borrowAsset   0xeaefb301bba191a19f3f7fb22b7e8e5eaef8a01da7e5f2b5386aece10a71ec87  - actions DB length:  494000  - latest record from:  2023-01-03 16:03:11 47 days ago\n",
      "iterations:  494 Lines skipped:  494000 records collected:  1000  - latest recordID:  removeAsset   0x8284074d5c0b7d17bf16932930aa3abaa15ffb8bd9f34fb01c76eaad2c447691  - actions DB length:  495000  - latest record from:  2023-01-03 10:15:59 47 days ago\n",
      "iterations:  495 Lines skipped:  495000 records collected:  1000  - latest recordID:  removeCollateral   0x0fbbe236f0f2a7934f3238078d0b43c9bdecca6a947bea40ddfef8da8ad9d885  - actions DB length:  496000  - latest record from:  2023-01-03 04:43:47 47 days ago\n",
      "iterations:  496 Lines skipped:  496000 records collected:  1000  - latest recordID:  repayAsset   0x7ec5f7e6ef8e6be3697878cd0b7db2ded8fc26016b8b39dfaaae3b6704093231  - actions DB length:  497000  - latest record from:  2023-01-03 04:43:11 47 days ago\n",
      "iterations:  497 Lines skipped:  497000 records collected:  1000  - latest recordID:  removeCollateral   0x1496a89c475b9b34a2b51956c56d2ae9840150b59bdc13e375ca7a3938154c62  - actions DB length:  498000  - latest record from:  2023-01-03 04:41:11 47 days ago\n",
      "iterations:  498 Lines skipped:  498000 records collected:  1000  - latest recordID:  repayAsset   0x4f1f9ad495145c1798f2316ee1ca12bc0292b28f584299acf8b458d8375e7fd8  - actions DB length:  499000  - latest record from:  2023-01-03 04:40:35 47 days ago\n",
      "iterations:  499 Lines skipped:  499000 records collected:  1000  - latest recordID:  removeAsset   0xd98439feea51e7db3d2bb18ef9ecee846790a1b1593d6ca3a697f9186c195b95  - actions DB length:  500000  - latest record from:  2023-01-02 23:06:47 48 days ago\n",
      "iterations:  500 Lines skipped:  500000 records collected:  1000  - latest recordID:  removeAsset   0x180acf96d26f1f6afeeb65ff72361b24950051e6f0ea35be0a1f310a0bd5525c  - actions DB length:  501000  - latest record from:  2023-01-02 15:47:59 48 days ago\n",
      "iterations:  501 Lines skipped:  501000 records collected:  1000  - latest recordID:  borrowAsset   0x363d92fbaabb44ac6a64bf4b3eb4efb3d15bc5bbf8e12b284e785618164a3816  - actions DB length:  502000  - latest record from:  2023-01-02 15:05:47 48 days ago\n",
      "iterations:  502 Lines skipped:  502000 records collected:  1000  - latest recordID:  borrowAsset   0xf90384d5a4e125725583707a5304ff750b92b426bd114a95ccde7eea1688326c+1  - actions DB length:  503000  - latest record from:  2023-01-02 14:23:11 48 days ago\n",
      "iterations:  503 Lines skipped:  503000 records collected:  1000  - latest recordID:  addCollateral   0xf90384d5a4e125725583707a5304ff750b92b426bd114a95ccde7eea1688326c  - actions DB length:  504000  - latest record from:  2023-01-02 14:23:11 48 days ago\n",
      "iterations:  504 Lines skipped:  504000 records collected:  1000  - latest recordID:  borrowAsset   0x0491aa8b92702e0523b29461df381d4614c14b6f75bf8097de326e384e2cbea0  - actions DB length:  505000  - latest record from:  2023-01-02 14:20:23 48 days ago\n",
      "iterations:  505 Lines skipped:  505000 records collected:  1000  - latest recordID:  removeAsset   0x5219e21ca2feecf9b366d8047916c0b5e3f5548ef5d2a4ba73f7c0fce443687f  - actions DB length:  506000  - latest record from:  2023-01-02 14:17:11 48 days ago\n",
      "iterations:  506 Lines skipped:  506000 records collected:  1000  - latest recordID:  addAsset   0x618c1b10c424e6f00cf6d134c9fdac459eb9c94173f9137003410ca34231c716  - actions DB length:  507000  - latest record from:  2023-01-02 12:26:47 48 days ago\n",
      "iterations:  507 Lines skipped:  507000 records collected:  1000  - latest recordID:  borrowAsset   0x50df922a3295ec05c0f4004bd59c72506172473c8f828dc6fa0582d68bb656c9+1  - actions DB length:  508000  - latest record from:  2023-01-02 11:28:47 48 days ago\n",
      "iterations:  508 Lines skipped:  508000 records collected:  1000  - latest recordID:  addCollateral   0x50df922a3295ec05c0f4004bd59c72506172473c8f828dc6fa0582d68bb656c9  - actions DB length:  509000  - latest record from:  2023-01-02 11:28:47 48 days ago\n",
      "iterations:  509 Lines skipped:  509000 records collected:  1000  - latest recordID:  addAsset   0x27f9cc86d1f61f9598a091f2caa54b86abcfe74a43c87be87a1f89979dc00291  - actions DB length:  510000  - latest record from:  2023-01-02 01:56:23 49 days ago\n",
      "iterations:  510 Lines skipped:  510000 records collected:  1000  - latest recordID:  removeAsset   0x2ca618d64e7ba4016fdfde4b4f85db6167e2983cb7d80585ae69e4255b698c5a  - actions DB length:  511000  - latest record from:  2023-01-01 07:21:59 49 days ago\n",
      "iterations:  511 Lines skipped:  511000 records collected:  1000  - latest recordID:  removeAsset   0xaec57fde64471876742ebf77ab5f7d80fb17bc7ab7549c2fb4623f2741a8713b  - actions DB length:  512000  - latest record from:  2023-01-01 04:16:47 50 days ago\n",
      "iterations:  512 Lines skipped:  512000 records collected:  1000  - latest recordID:  removeAsset   0x018977f33babe5db0ee99cd9a7135a22e7f93108646fd192ce238183099567e3  - actions DB length:  513000  - latest record from:  2023-01-01 03:05:11 50 days ago\n",
      "iterations:  513 Lines skipped:  513000 records collected:  1000  - latest recordID:  borrowAsset   0x6fe2b2af310dfee16b6f2aef82d0ac4df4b54042fb7cf01f63732f5b99f52d1f+1  - actions DB length:  514000  - latest record from:  2022-12-31 17:26:35 50 days ago\n",
      "iterations:  514 Lines skipped:  514000 records collected:  1000  - latest recordID:  addCollateral   0x6fe2b2af310dfee16b6f2aef82d0ac4df4b54042fb7cf01f63732f5b99f52d1f  - actions DB length:  515000  - latest record from:  2022-12-31 17:26:35 50 days ago\n",
      "iterations:  515 Lines skipped:  515000 records collected:  1000  - latest recordID:  borrowAsset   0xa2b15c24e5ba958fb6453cc04e79b871dada7f2ea7d7e33d1a37d3bdd26a3794  - actions DB length:  516000  - latest record from:  2022-12-31 17:21:35 50 days ago\n",
      "iterations:  516 Lines skipped:  516000 records collected:  1000  - latest recordID:  removeCollateral   0xf3fea8b4ca84b5579566f5c0e117c0afbd5b9bf6a2c353ea3da1b122c7bb269a  - actions DB length:  517000  - latest record from:  2022-12-31 17:12:59 50 days ago\n",
      "iterations:  517 Lines skipped:  517000 records collected:  1000  - latest recordID:  repayAsset   0xd30c15913812359ce90b7b4e215ebd1ea6e7f7b0979382c671a4a5d7bfe72810  - actions DB length:  518000  - latest record from:  2022-12-31 17:12:23 50 days ago\n",
      "iterations:  518 Lines skipped:  518000 records collected:  1000  - latest recordID:  removeCollateral   0x35b574bbc91cef4132f3309f975588708828266f332cfc360b50a27091cf1ed8  - actions DB length:  519000  - latest record from:  2022-12-31 17:08:11 50 days ago\n",
      "iterations:  519 Lines skipped:  519000 records collected:  1000  - latest recordID:  repayAsset   0x8db7b09c8ce58cdec09aec48d2d36741974f178b23d65ae66490b3edbf84d6c8  - actions DB length:  520000  - latest record from:  2022-12-31 17:06:11 50 days ago\n",
      "iterations:  520 Lines skipped:  520000 records collected:  1000  - latest recordID:  removeCollateral   0xf7c150d1950f9e66b70a8bc68ec4af4c6b1bccc1820357503850c774cb709b67  - actions DB length:  521000  - latest record from:  2022-12-31 17:02:11 50 days ago\n",
      "iterations:  521 Lines skipped:  521000 records collected:  1000  - latest recordID:  repayAsset   0x07dc1ff2408bf671fe3452abe9c3221a2eba49789aa2a5ceefb6718b15238892  - actions DB length:  522000  - latest record from:  2022-12-31 17:00:35 50 days ago\n",
      "iterations:  522 Lines skipped:  522000 records collected:  1000  - latest recordID:  removeCollateral   0x9f998e86dee4557ea0f49af71abaa9c54c5ac2150ecd8c8c8b56c020273e9f05  - actions DB length:  523000  - latest record from:  2022-12-31 16:54:35 50 days ago\n",
      "iterations:  523 Lines skipped:  523000 records collected:  1000  - latest recordID:  repayAsset   0xdbc4ab343d6fb5e1129794d627aeb7639ec52992350567ee9205e48404cf47fe  - actions DB length:  524000  - latest record from:  2022-12-31 16:53:59 50 days ago\n",
      "iterations:  524 Lines skipped:  524000 records collected:  1000  - latest recordID:  repayAsset   0x8060f32be111ff1503918d9f30982d18658aa38ea1afbac5a6d9892c2ab32153  - actions DB length:  525000  - latest record from:  2022-12-31 16:53:11 50 days ago\n",
      "iterations:  525 Lines skipped:  525000 records collected:  1000  - latest recordID:  removeCollateral   0x3e36c04eb4f339a55c5a7f9113a959761a6a3d6f07035c34dff4c3013db76096  - actions DB length:  526000  - latest record from:  2022-12-31 16:41:11 50 days ago\n",
      "iterations:  526 Lines skipped:  526000 records collected:  1000  - latest recordID:  borrowAsset   0x4a4bd7eb9f651028b3e4f3e6781509c59769a262e2a950d4a836bdbba4f249d2  - actions DB length:  527000  - latest record from:  2022-12-31 13:50:23 50 days ago\n",
      "iterations:  527 Lines skipped:  527000 records collected:  1000  - latest recordID:  borrowAsset   0x3830b14e66dc08efc27148c0ee0100278a44db82bd7663db141e3c96d99d0188  - actions DB length:  528000  - latest record from:  2022-12-31 13:48:47 50 days ago\n",
      "iterations:  528 Lines skipped:  528000 records collected:  1000  - latest recordID:  addAsset   0xdcae6442b08994156cb2689cf4aceb070506682670628f5cd27ffc2da66ec0ad  - actions DB length:  529000  - latest record from:  2022-12-31 11:25:11 50 days ago\n",
      "iterations:  529 Lines skipped:  529000 records collected:  1000  - latest recordID:  removeCollateral   0xbb960d72b1c0d5d7b5bce714c47cc5c145d367e03e39ce2d76c6c58f113391fc  - actions DB length:  530000  - latest record from:  2022-12-31 05:21:47 50 days ago\n",
      "iterations:  530 Lines skipped:  530000 records collected:  1000  - latest recordID:  addAsset   0x26a4f89f9f4d8ae352abaca55828080160c9c53055a39f1ba143b3b155f5fbee  - actions DB length:  531000  - latest record from:  2022-12-31 05:19:59 50 days ago\n",
      "iterations:  531 Lines skipped:  531000 records collected:  1000  - latest recordID:  borrowAsset   0xe20845b3fa88645c439a73ae7d4743ecbcd445e791337a08523a2f9fb35a6002  - actions DB length:  532000  - latest record from:  2022-12-31 04:02:59 51 days ago\n",
      "iterations:  532 Lines skipped:  532000 records collected:  1000  - latest recordID:  repayAsset   0x8518d6b41a73a7692d135270a2fae04667ecf687dcb69af1a6509a6a01e50665  - actions DB length:  533000  - latest record from:  2022-12-30 08:53:23 51 days ago\n",
      "iterations:  533 Lines skipped:  533000 records collected:  1000  - latest recordID:  removeCollateral   0x6fc4370e2f234b35626754537748289384ac897bfb2d6fb8f4c96934088268a2  - actions DB length:  534000  - latest record from:  2022-12-30 08:53:11 51 days ago\n",
      "iterations:  534 Lines skipped:  534000 records collected:  1000  - latest recordID:  addCollateral   0x8c88d4fd282565113d131c7e77662c3e66ddbd597d224b9fef8968d0d7403899  - actions DB length:  535000  - latest record from:  2022-12-30 08:35:59 51 days ago\n",
      "iterations:  535 Lines skipped:  535000 records collected:  1000  - latest recordID:  removeAsset   0xaf4db7e20be440b63a35e86798253024a4cfa38ed0d535c5b6c559b655d2cbdd  - actions DB length:  536000  - latest record from:  2022-12-30 08:34:23 51 days ago\n",
      "iterations:  536 Lines skipped:  536000 records collected:  1000  - latest recordID:  addAsset   0xba0e7b601318ada0ca7d6c9e7a37bcf7d355e6b746e5d2913f608585f3b6e69c  - actions DB length:  537000  - latest record from:  2022-12-30 05:48:23 51 days ago\n",
      "iterations:  537 Lines skipped:  537000 records collected:  1000  - latest recordID:  removeAsset   0xf681d15565f681fdda2b04184b19ab08fac1df15230fb9824966b94c4b0082ca  - actions DB length:  538000  - latest record from:  2022-12-30 02:17:11 52 days ago\n",
      "iterations:  538 Lines skipped:  538000 records collected:  1000  - latest recordID:  removeAsset   0xf9dbea5dd1521b5c268ae7bc171847efc937e0a7392c29c476e121abf3bf9e50  - actions DB length:  539000  - latest record from:  2022-12-30 02:16:35 52 days ago\n",
      "iterations:  539 Lines skipped:  539000 records collected:  1000  - latest recordID:  removeAsset   0x83334f4056d8cfbb52dc40a13247cdc81e700a81287fdd2d84cc66a02c4d5bb6  - actions DB length:  540000  - latest record from:  2022-12-30 00:59:23 52 days ago\n",
      "iterations:  540 Lines skipped:  540000 records collected:  1000  - latest recordID:  removeCollateral   0xfa615484ac68011f31677957c621f9fd15538bb1ff4ec0dbba117a41be420eaf  - actions DB length:  541000  - latest record from:  2022-12-29 22:59:23 52 days ago\n",
      "iterations:  541 Lines skipped:  541000 records collected:  1000  - latest recordID:  repayAsset   0x9a8ec3b90f9fbbc234c637c534aeb1ab41509819b824b96910e46e91e593fdbc  - actions DB length:  542000  - latest record from:  2022-12-29 22:57:23 52 days ago\n",
      "iterations:  542 Lines skipped:  542000 records collected:  1000  - latest recordID:  removeAsset   0xcedd692e0ba2855372cbbe688a80372185cdaa99b521a6156474c72ea3a55c7c  - actions DB length:  543000  - latest record from:  2022-12-29 22:26:59 52 days ago\n",
      "iterations:  543 Lines skipped:  543000 records collected:  1000  - latest recordID:  borrowAsset   0x1ae051d2093abba1c6252364596cde4fdbdab93707dbfa42752337e92f718d14+1  - actions DB length:  544000  - latest record from:  2022-12-29 22:22:23 52 days ago\n",
      "iterations:  544 Lines skipped:  544000 records collected:  1000  - latest recordID:  addCollateral   0x1ae051d2093abba1c6252364596cde4fdbdab93707dbfa42752337e92f718d14  - actions DB length:  545000  - latest record from:  2022-12-29 22:22:23 52 days ago\n",
      "iterations:  545 Lines skipped:  545000 records collected:  1000  - latest recordID:  removeAsset   0x9dd2077ee55b7cc04d0f29a45c7a28a79fdc3b2335473b8bb02f3572994d7d4b  - actions DB length:  546000  - latest record from:  2022-12-29 22:15:59 52 days ago\n",
      "iterations:  546 Lines skipped:  546000 records collected:  1000  - latest recordID:  repayAsset   0xb60fa65779c4d9d3f4271398e2b92864577c0c2c098cd103ac75baa18ddb12b9  - actions DB length:  547000  - latest record from:  2022-12-29 18:15:35 52 days ago\n",
      "iterations:  547 Lines skipped:  547000 records collected:  1000  - latest recordID:  repayAsset   0xf2c7023f8de0fe94a3a0d758a46ae37531adae2df402c86b95d57a9fe8f411d2  - actions DB length:  548000  - latest record from:  2022-12-29 17:57:35 52 days ago\n",
      "iterations:  548 Lines skipped:  548000 records collected:  1000  - latest recordID:  removeCollateral   0x3819024bd32b57d4bdfd71a3617c56ac6c145dfb02948522b6d7df2648a71015  - actions DB length:  549000  - latest record from:  2022-12-29 17:44:35 52 days ago\n",
      "iterations:  549 Lines skipped:  549000 records collected:  1000  - latest recordID:  repayAsset   0x30eec36a995567a9ca9a2e9973df11d676417cb8c3f04c1ea1c18132b5d6329f  - actions DB length:  550000  - latest record from:  2022-12-29 17:40:47 52 days ago\n",
      "iterations:  550 Lines skipped:  550000 records collected:  1000  - latest recordID:  removeCollateral   0x516a6a6be9bfd262e6ccccb2aa4835113ee1e00a3f27dd44d942ad0b78375728  - actions DB length:  551000  - latest record from:  2022-12-29 17:26:47 52 days ago\n",
      "iterations:  551 Lines skipped:  551000 records collected:  1000  - latest recordID:  repayAsset   0xe18f6fe4ba24384ff69de9490c47c5f0eeaae846686bf52f3b873db561317181  - actions DB length:  552000  - latest record from:  2022-12-29 17:26:11 52 days ago\n",
      "iterations:  552 Lines skipped:  552000 records collected:  1000  - latest recordID:  removeCollateral   0x5f066efbe580cbd408e4a95fd45464a39b2229994950b01c6d1bb261c1bb1daf  - actions DB length:  553000  - latest record from:  2022-12-29 17:06:59 52 days ago\n",
      "iterations:  553 Lines skipped:  553000 records collected:  1000  - latest recordID:  addAsset   0x17260f8988bc4b3c09af903fe97a2936b057a635ebbae8c129d314b466b72bcc  - actions DB length:  554000  - latest record from:  2022-12-29 17:01:23 52 days ago\n",
      "iterations:  554 Lines skipped:  554000 records collected:  1000  - latest recordID:  borrowAsset   0x0edabc0905821baa5a53ed0e16332855fbe79f1c808a278a686d11a8bbddb3c5  - actions DB length:  555000  - latest record from:  2022-12-29 16:07:23 52 days ago\n",
      "iterations:  555 Lines skipped:  555000 records collected:  1000  - latest recordID:  addCollateral   0x05d847c6aa02d9c21f41738de7be71780b37c7b0e33b8b938f5bd586e6f8842e  - actions DB length:  556000  - latest record from:  2022-12-29 16:03:35 52 days ago\n",
      "iterations:  556 Lines skipped:  556000 records collected:  1000  - latest recordID:  addCollateral   0xcd7d5c95207f85146fbf7d814e156c68c8bb18a7e8f3a8d058cde9c2c2923654  - actions DB length:  557000  - latest record from:  2022-12-29 13:26:11 52 days ago\n",
      "iterations:  557 Lines skipped:  557000 records collected:  1000  - latest recordID:  borrowAsset   0x5192e16e5e88ae980a29c4fe27a5244e61e5625e2fb27186ee3da7f6b92a2cc7+1  - actions DB length:  558000  - latest record from:  2022-12-28 16:44:35 53 days ago\n",
      "iterations:  558 Lines skipped:  558000 records collected:  1000  - latest recordID:  addCollateral   0x5192e16e5e88ae980a29c4fe27a5244e61e5625e2fb27186ee3da7f6b92a2cc7  - actions DB length:  559000  - latest record from:  2022-12-28 16:44:35 53 days ago\n",
      "iterations:  559 Lines skipped:  559000 records collected:  1000  - latest recordID:  removeAsset   0x1b8a2e24aca32cda8147e5013c18f8b3308950703e27c719454df834a07f40a2  - actions DB length:  560000  - latest record from:  2022-12-28 13:42:11 53 days ago\n",
      "iterations:  560 Lines skipped:  560000 records collected:  1000  - latest recordID:  removeAsset   0x70c26afabb427d10120d55a73f9015d0a89e5f0eb4d40386b95d836fc62cf4ba  - actions DB length:  561000  - latest record from:  2022-12-28 13:14:11 53 days ago\n",
      "iterations:  561 Lines skipped:  561000 records collected:  1000  - latest recordID:  addAsset   0xb430a69cdb6e631f230371bfe93c3fce5cfe38aaf1f4ab2f5bfc5fa724b80d98  - actions DB length:  562000  - latest record from:  2022-12-28 08:32:59 53 days ago\n",
      "iterations:  562 Lines skipped:  562000 records collected:  1000  - latest recordID:  addCollateral   0x8a4fb77ba9686ec3060be4efacff7be34bc9e6d66bc6a943d528238545768be5  - actions DB length:  563000  - latest record from:  2022-12-28 08:18:35 53 days ago\n",
      "iterations:  563 Lines skipped:  563000 records collected:  1000  - latest recordID:  borrowAsset   0x3e4e379630ff397b0e9b92e02010deeff8dd0f7f110afad9524b84e83f019198  - actions DB length:  564000  - latest record from:  2022-12-28 07:06:35 53 days ago\n",
      "iterations:  564 Lines skipped:  564000 records collected:  1000  - latest recordID:  removeCollateral   0x3ecc506665bbf0e1b73d1211fc37794f8d83c34d39dce3e5d9cf77c41e40456a  - actions DB length:  565000  - latest record from:  2022-12-28 05:00:47 53 days ago\n",
      "iterations:  565 Lines skipped:  565000 records collected:  1000  - latest recordID:  repayAsset   0x1b9fde13068888f5696defc201ef745e61732ad3a87522dacb71baf43615ecb4  - actions DB length:  566000  - latest record from:  2022-12-28 05:00:11 53 days ago\n",
      "iterations:  566 Lines skipped:  566000 records collected:  1000  - latest recordID:  removeCollateral   0xd267055b17b418ee76dc1c10d5374f6c63cea53af2535f4f231be63ecfbbffd1  - actions DB length:  567000  - latest record from:  2022-12-28 04:55:47 53 days ago\n",
      "iterations:  567 Lines skipped:  567000 records collected:  1000  - latest recordID:  repayAsset   0xe61c17a9e2decf7a9b5058ef74977732d9374b44542cfefd31a99c614759d528  - actions DB length:  568000  - latest record from:  2022-12-28 04:54:23 53 days ago\n",
      "iterations:  568 Lines skipped:  568000 records collected:  1000  - latest recordID:  removeCollateral   0x93ed8c5cea79f8b6f720927f13cabd72ad813b47c4f1e2c0e8d75448913c5671  - actions DB length:  569000  - latest record from:  2022-12-28 04:42:59 53 days ago\n",
      "iterations:  569 Lines skipped:  569000 records collected:  1000  - latest recordID:  addAsset   0x0e6362bcc68e50fac079cfda65ed2c430cac6eee7ec1478f8859857cda43b966  - actions DB length:  570000  - latest record from:  2022-12-28 04:40:47 53 days ago\n",
      "iterations:  570 Lines skipped:  570000 records collected:  1000  - latest recordID:  addAsset   0x53d89aafd2f1b2fa24b06a5568417aba811340612c79747e917334c2acb7fb11  - actions DB length:  571000  - latest record from:  2022-12-28 03:23:59 54 days ago\n",
      "iterations:  571 Lines skipped:  571000 records collected:  1000  - latest recordID:  addAsset   0xc110830f53fb68f344dbc8f95a4c28511934d213e476417c98454ae7ac618681  - actions DB length:  572000  - latest record from:  2022-12-28 02:09:59 54 days ago\n",
      "iterations:  572 Lines skipped:  572000 records collected:  1000  - latest recordID:  addAsset   0xefa5e3afdf7c663fbb3c9be77555fdf8f6ba0b4438106f0459168b41cc9fcce7  - actions DB length:  573000  - latest record from:  2022-12-28 01:46:23 54 days ago\n",
      "iterations:  573 Lines skipped:  573000 records collected:  1000  - latest recordID:  addAsset   0x48f0f88289446ceb26fc6b74304d254ae6e8e9806caf66e262523e9f9d346424  - actions DB length:  574000  - latest record from:  2022-12-28 00:46:11 54 days ago\n",
      "iterations:  574 Lines skipped:  574000 records collected:  1000  - latest recordID:  addAsset   0x19af2d7615b48e537a64449e0d17f4cbc15973ac08a9c068f6f878cfedff334d  - actions DB length:  575000  - latest record from:  2022-12-28 00:44:35 54 days ago\n",
      "iterations:  575 Lines skipped:  575000 records collected:  1000  - latest recordID:  addAsset   0xa157f5c0ece82a9a96e3e1ba0eb626f4597b935ba4528aef34a0e5727e4725e3  - actions DB length:  576000  - latest record from:  2022-12-27 22:41:47 54 days ago\n",
      "iterations:  576 Lines skipped:  576000 records collected:  1000  - latest recordID:  borrowAsset   0x95ed0727a1e51bd46de1de35e2f12d794626d06ed8b8030d8e88f86fe6cafb7d  - actions DB length:  577000  - latest record from:  2022-12-27 22:40:47 54 days ago\n",
      "iterations:  577 Lines skipped:  577000 records collected:  1000  - latest recordID:  addCollateral   0x7182fe4d52017bb71b80986e98f6961638970aae03b7b0d129dd34b50bd208a6  - actions DB length:  578000  - latest record from:  2022-12-27 22:38:35 54 days ago\n",
      "iterations:  578 Lines skipped:  578000 records collected:  1000  - latest recordID:  removeCollateral   0xc622990dc7e6b190562320ff921b0d3b2cfae8c558155ebd4b3a788295a339ad  - actions DB length:  579000  - latest record from:  2022-12-27 20:47:47 54 days ago\n",
      "iterations:  579 Lines skipped:  579000 records collected:  1000  - latest recordID:  addCollateral   0xdd7703c4098b5c3674c218048b8364ee86363ab823233957298cb7e4376e9aff  - actions DB length:  580000  - latest record from:  2022-12-27 20:46:35 54 days ago\n",
      "iterations:  580 Lines skipped:  580000 records collected:  1000  - latest recordID:  addAsset   0xf67b2a24489afb34d80fb275f3b1fd36f3aa21a82ee67e896c45672ebc931b99  - actions DB length:  581000  - latest record from:  2022-12-27 20:08:11 54 days ago\n",
      "iterations:  581 Lines skipped:  581000 records collected:  1000  - latest recordID:  borrowAsset   0x52dc280d8132da95d3e18a7e8f3560c7ec52634c6003833f71318d71bb241769+1  - actions DB length:  582000  - latest record from:  2022-12-27 19:16:47 54 days ago\n",
      "iterations:  582 Lines skipped:  582000 records collected:  1000  - latest recordID:  addCollateral   0x52dc280d8132da95d3e18a7e8f3560c7ec52634c6003833f71318d71bb241769  - actions DB length:  583000  - latest record from:  2022-12-27 19:16:47 54 days ago\n",
      "iterations:  583 Lines skipped:  583000 records collected:  1000  - latest recordID:  removeCollateral   0xbc95cd208ca3f97d5bcaee41e1655a46d9155c0354744d45ae584fa70d0d5e91  - actions DB length:  584000  - latest record from:  2022-12-27 18:58:35 54 days ago\n",
      "iterations:  584 Lines skipped:  584000 records collected:  1000  - latest recordID:  borrowAsset   0x659b62bb1e28dd407da88b7c7678c25b608f38f8d0050d07780427f55a8c2a78+1  - actions DB length:  585000  - latest record from:  2022-12-27 18:04:23 54 days ago\n",
      "iterations:  585 Lines skipped:  585000 records collected:  1000  - latest recordID:  addCollateral   0x659b62bb1e28dd407da88b7c7678c25b608f38f8d0050d07780427f55a8c2a78  - actions DB length:  586000  - latest record from:  2022-12-27 18:04:23 54 days ago\n",
      "iterations:  586 Lines skipped:  586000 records collected:  1000  - latest recordID:  removeCollateral   0x5f1453889d856a3d8e8356652729ed878da873a03194142344c3e45b265f7c36  - actions DB length:  587000  - latest record from:  2022-12-27 16:48:23 54 days ago\n",
      "iterations:  587 Lines skipped:  587000 records collected:  1000  - latest recordID:  repayAsset   0x136903086fcfebc828ca18c4f07bf1bea25cf9d9bbae39529298d0f14e3313f6  - actions DB length:  588000  - latest record from:  2022-12-27 16:46:23 54 days ago\n",
      "iterations:  588 Lines skipped:  588000 records collected:  1000  - latest recordID:  repayAsset   0xee9d1641a85c5dccca90b16fffc1b14fd2f09801f4958b398d5eeb079b94ac24  - actions DB length:  589000  - latest record from:  2022-12-27 16:42:35 54 days ago\n",
      "iterations:  589 Lines skipped:  589000 records collected:  1000  - latest recordID:  addAsset   0x84510c1feb546c4c03fd28c9241d6a80aaa7c8b45b4f0df955a21fc63469f4f4  - actions DB length:  590000  - latest record from:  2022-12-27 14:19:59 54 days ago\n",
      "iterations:  590 Lines skipped:  590000 records collected:  1000  - latest recordID:  addAsset   0x72ed06dbfb87f97e7562b208eaeae898206d8fa6c35007eaae70f5e5a8638085  - actions DB length:  591000  - latest record from:  2022-12-27 12:51:59 54 days ago\n",
      "iterations:  591 Lines skipped:  591000 records collected:  1000  - latest recordID:  borrowAsset   0x275c239ca9f1bbb07a5ff06d8ea106868dcefc2b2fd9cb063ca30377773a84cc+1  - actions DB length:  592000  - latest record from:  2022-12-27 11:27:59 54 days ago\n",
      "iterations:  592 Lines skipped:  592000 records collected:  1000  - latest recordID:  addCollateral   0x275c239ca9f1bbb07a5ff06d8ea106868dcefc2b2fd9cb063ca30377773a84cc  - actions DB length:  593000  - latest record from:  2022-12-27 11:27:59 54 days ago\n",
      "iterations:  593 Lines skipped:  593000 records collected:  1000  - latest recordID:  removeCollateral   0x655d0a516a1d5a2e97abe6558602049568d1223d1a4c5c033fc4231de6852e1d  - actions DB length:  594000  - latest record from:  2022-12-27 10:53:59 54 days ago\n",
      "iterations:  594 Lines skipped:  594000 records collected:  1000  - latest recordID:  borrowAsset   0x105a9206970f2cb517f4b3c61239f5e4d5bae0d888aec2e0d124523e69d5eaaf+1  - actions DB length:  595000  - latest record from:  2022-12-27 10:12:35 54 days ago\n",
      "iterations:  595 Lines skipped:  595000 records collected:  1000  - latest recordID:  addCollateral   0x105a9206970f2cb517f4b3c61239f5e4d5bae0d888aec2e0d124523e69d5eaaf  - actions DB length:  596000  - latest record from:  2022-12-27 10:12:35 54 days ago\n",
      "iterations:  596 Lines skipped:  596000 records collected:  1000  - latest recordID:  addAsset   0x0a167d0ec05e2853c87f66a6a9279e20f931f6a459e87aa7192716f08d71498a  - actions DB length:  597000  - latest record from:  2022-12-27 10:05:47 54 days ago\n",
      "iterations:  597 Lines skipped:  597000 records collected:  1000  - latest recordID:  addAsset   0x175ce13c455bf41af3e441219ed3b2c6c5aa1b19fe415dc4bce6c2a7f89a7dc1  - actions DB length:  598000  - latest record from:  2022-12-27 10:04:47 54 days ago\n",
      "iterations:  598 Lines skipped:  598000 records collected:  1000  - latest recordID:  addAsset   0x0a253bd4d8a33bd07f20d07409eb59511b908b473ec90cba4ac2a14f51690f7a  - actions DB length:  599000  - latest record from:  2022-12-27 09:55:35 54 days ago\n",
      "iterations:  599 Lines skipped:  599000 records collected:  1000  - latest recordID:  addAsset   0xfa7dc924e52e24da06d3b0c0384a94cd834ceb329d2ffc2334a1be2adfaddd5f  - actions DB length:  600000  - latest record from:  2022-12-27 08:24:23 54 days ago\n",
      "iterations:  600 Lines skipped:  600000 records collected:  1000  - latest recordID:  repayAsset   0x01d928e0202c5e302701c652f9d2a2dc697810cf0fb6eeb6f339b3ce0d02f8fa  - actions DB length:  601000  - latest record from:  2022-12-27 08:19:47 54 days ago\n",
      "iterations:  601 Lines skipped:  601000 records collected:  1000  - latest recordID:  borrowAsset   0x8a24484f953ab5e53c4bb71251063c3204af3a2569630f63a230717959b2347b+1  - actions DB length:  602000  - latest record from:  2022-12-27 08:19:23 54 days ago\n",
      "iterations:  602 Lines skipped:  602000 records collected:  1000  - latest recordID:  addCollateral   0x8a24484f953ab5e53c4bb71251063c3204af3a2569630f63a230717959b2347b  - actions DB length:  603000  - latest record from:  2022-12-27 08:19:23 54 days ago\n",
      "iterations:  603 Lines skipped:  603000 records collected:  1000  - latest recordID:  removeAsset   0xa5150fac5d9be266d6d74502f9b769bedf457bc5c6b4eb812720ec90f14d9cc2  - actions DB length:  604000  - latest record from:  2022-12-27 07:57:11 54 days ago\n",
      "iterations:  604 Lines skipped:  604000 records collected:  1000  - latest recordID:  addAsset   0xedcf831cfef120d3559ec7000865cb4d2758c533d6a75c6bb34f2d280a349db8  - actions DB length:  605000  - latest record from:  2022-12-27 07:50:23 54 days ago\n",
      "iterations:  605 Lines skipped:  605000 records collected:  1000  - latest recordID:  addCollateral   0x8443923cc95fbfd11f681feb7e4baad7828eff3d8b03a85ccd4a0909923b78bf  - actions DB length:  606000  - latest record from:  2022-12-27 06:58:35 54 days ago\n",
      "iterations:  606 Lines skipped:  606000 records collected:  1000  - latest recordID:  removeCollateral   0x8d7ab6c715fd4d107ef2c42091f4a36923e2f48b48e3aad60013e5e1c57ce2c7  - actions DB length:  607000  - latest record from:  2022-12-27 04:58:47 54 days ago\n",
      "iterations:  607 Lines skipped:  607000 records collected:  1000  - latest recordID:  borrowAsset   0x187782f481ae96862f028f724191157ab74d95127ad66f56cf5f98e7938907e2+1  - actions DB length:  608000  - latest record from:  2022-12-27 04:17:23 55 days ago\n",
      "iterations:  608 Lines skipped:  608000 records collected:  1000  - latest recordID:  addCollateral   0x187782f481ae96862f028f724191157ab74d95127ad66f56cf5f98e7938907e2  - actions DB length:  609000  - latest record from:  2022-12-27 04:17:23 55 days ago\n",
      "iterations:  609 Lines skipped:  609000 records collected:  1000  - latest recordID:  borrowAsset   0x73bf805a6b9f53eae73291864623cf1964165ea8e1913d6957e9a704c63fd344  - actions DB length:  610000  - latest record from:  2022-12-27 04:12:11 55 days ago\n",
      "iterations:  610 Lines skipped:  610000 records collected:  1000  - latest recordID:  borrowAsset   0x08443de0d5df665fc2653749945a6045e20f6dde2099a33362e66f82c9b4c7cc+1  - actions DB length:  611000  - latest record from:  2022-12-27 04:11:47 55 days ago\n",
      "iterations:  611 Lines skipped:  611000 records collected:  1000  - latest recordID:  addCollateral   0x08443de0d5df665fc2653749945a6045e20f6dde2099a33362e66f82c9b4c7cc  - actions DB length:  612000  - latest record from:  2022-12-27 04:11:47 55 days ago\n",
      "iterations:  612 Lines skipped:  612000 records collected:  1000  - latest recordID:  removeCollateral   0xff3077667ca7a034c831da0e539c810f75edbef2232ad5eca74f6f3ebde3a736  - actions DB length:  613000  - latest record from:  2022-12-27 04:04:35 55 days ago\n",
      "iterations:  613 Lines skipped:  613000 records collected:  1000  - latest recordID:  addAsset   0xfb520d84ddd30198a154122cd57d3bca9f7ec83910f404691b370136d2d7faed  - actions DB length:  614000  - latest record from:  2022-12-27 02:37:47 55 days ago\n",
      "iterations:  614 Lines skipped:  614000 records collected:  1000  - latest recordID:  addAsset   0xcb8d95ebad9228e77c633af068d128e347a5b9013078348cf211901a89858bdb  - actions DB length:  615000  - latest record from:  2022-12-26 23:01:59 55 days ago\n",
      "iterations:  615 Lines skipped:  615000 records collected:  1000  - latest recordID:  borrowAsset   0xbfc6b0a2b41eb17e1d2087a807a87418325880ca519f3474af63a123362df218+1  - actions DB length:  616000  - latest record from:  2022-12-26 17:41:35 55 days ago\n",
      "iterations:  616 Lines skipped:  616000 records collected:  1000  - latest recordID:  addCollateral   0xbfc6b0a2b41eb17e1d2087a807a87418325880ca519f3474af63a123362df218  - actions DB length:  617000  - latest record from:  2022-12-26 17:41:35 55 days ago\n",
      "iterations:  617 Lines skipped:  617000 records collected:  1000  - latest recordID:  borrowAsset   0x985b769e788f2ae6f7d6b5641686563e9acecd54c7e7a0021d460223c573c060  - actions DB length:  618000  - latest record from:  2022-12-26 17:37:35 55 days ago\n",
      "iterations:  618 Lines skipped:  618000 records collected:  1000  - latest recordID:  borrowAsset   0xa07268cd9d0803a45f16b96318f10174dae3d3f47eb43ba18bab5fc0623c001e+1  - actions DB length:  619000  - latest record from:  2022-12-26 17:31:23 55 days ago\n",
      "iterations:  619 Lines skipped:  619000 records collected:  1000  - latest recordID:  addCollateral   0xa07268cd9d0803a45f16b96318f10174dae3d3f47eb43ba18bab5fc0623c001e  - actions DB length:  620000  - latest record from:  2022-12-26 17:31:23 55 days ago\n",
      "iterations:  620 Lines skipped:  620000 records collected:  1000  - latest recordID:  borrowAsset   0xa99c286fe116c09e7ac50c2eb929bee9a371b3d117090808e00bbeaeaf615944  - actions DB length:  621000  - latest record from:  2022-12-26 17:19:35 55 days ago\n",
      "iterations:  621 Lines skipped:  621000 records collected:  1000  - latest recordID:  addAsset   0x4137fddb67a6dd308ba9bc99f41f4c5757b6e324b807950f2383a0d87bc0600d  - actions DB length:  622000  - latest record from:  2022-12-26 12:45:11 55 days ago\n",
      "iterations:  622 Lines skipped:  622000 records collected:  1000  - latest recordID:  addAsset   0x685c2f1a1589b9275fc2f8c807bc9f733f298fd61b67dda668350469941c2f95  - actions DB length:  623000  - latest record from:  2022-12-26 12:15:35 55 days ago\n",
      "iterations:  623 Lines skipped:  623000 records collected:  1000  - latest recordID:  addAsset   0xb96b4a9410e3bc2a185b2efd9998811ca12b88a8a8851c32869f4ec69b78e877  - actions DB length:  624000  - latest record from:  2022-12-26 10:07:35 55 days ago\n",
      "iterations:  624 Lines skipped:  624000 records collected:  1000  - latest recordID:  addAsset   0x084a6393811b8011ddac155e3de52b35cdbf09fc5981869cf6908e127adee702  - actions DB length:  625000  - latest record from:  2022-12-26 09:42:11 55 days ago\n",
      "iterations:  625 Lines skipped:  625000 records collected:  1000  - latest recordID:  removeAsset   0x048f37edd8b4fb12693aa009c2f1aedd34e42e491631b15e0916ed65544188c7  - actions DB length:  626000  - latest record from:  2022-12-26 09:38:59 55 days ago\n",
      "iterations:  626 Lines skipped:  626000 records collected:  1000  - latest recordID:  removeAsset   0x135a33cedc744d0723bf3aa4282eafa511420b14eb375dc4d1d8389e80538c64  - actions DB length:  627000  - latest record from:  2022-12-26 09:37:59 55 days ago\n",
      "iterations:  627 Lines skipped:  627000 records collected:  1000  - latest recordID:  addAsset   0x92c21b563a2fce7e895de7c8015490bfc5313ad653a43703ee1287a66d7de69c  - actions DB length:  628000  - latest record from:  2022-12-26 09:37:11 55 days ago\n",
      "iterations:  628 Lines skipped:  628000 records collected:  1000  - latest recordID:  addAsset   0xf7219851381a8a1f470acafd087d1687d5d8c8d8f865a8c5ddc2323ee0a83533  - actions DB length:  629000  - latest record from:  2022-12-26 09:36:11 55 days ago\n",
      "iterations:  629 Lines skipped:  629000 records collected:  1000  - latest recordID:  addAsset   0xc4a36398aee2adfbc95f4a77f23bf20e9d7509843205d31801478da86196d728  - actions DB length:  630000  - latest record from:  2022-12-26 09:34:11 55 days ago\n",
      "iterations:  630 Lines skipped:  630000 records collected:  1000  - latest recordID:  borrowAsset   0x28b8a41b34ecf237492053115dced869db737b2046d86abca3430f6c78c91b30+1  - actions DB length:  631000  - latest record from:  2022-12-26 09:15:59 55 days ago\n",
      "iterations:  631 Lines skipped:  631000 records collected:  1000  - latest recordID:  addCollateral   0x28b8a41b34ecf237492053115dced869db737b2046d86abca3430f6c78c91b30  - actions DB length:  632000  - latest record from:  2022-12-26 09:15:59 55 days ago\n",
      "iterations:  632 Lines skipped:  632000 records collected:  1000  - latest recordID:  repayAsset   0x8bed47ba0f4d62f1dd768f46c18375405c8191b6d1393884cfed48fa87c8d451  - actions DB length:  633000  - latest record from:  2022-12-26 08:29:35 55 days ago\n",
      "iterations:  633 Lines skipped:  633000 records collected:  1000  - latest recordID:  borrowAsset   0x51f69a8c082c04d97f4958052248debd797a0627ada1ccdac16f8cfaa02726a5+1  - actions DB length:  634000  - latest record from:  2022-12-26 04:45:11 55 days ago\n",
      "iterations:  634 Lines skipped:  634000 records collected:  1000  - latest recordID:  addCollateral   0x51f69a8c082c04d97f4958052248debd797a0627ada1ccdac16f8cfaa02726a5  - actions DB length:  635000  - latest record from:  2022-12-26 04:45:11 55 days ago\n",
      "iterations:  635 Lines skipped:  635000 records collected:  1000  - latest recordID:  borrowAsset   0xf5e230c42166dac905d32b786935b4941a3c6036cc317a223ed2e8e21dec54cb  - actions DB length:  636000  - latest record from:  2022-12-26 04:38:35 55 days ago\n",
      "iterations:  636 Lines skipped:  636000 records collected:  1000  - latest recordID:  borrowAsset   0x804ac047aaba0baffda41acb1499297d6a041ccc079e9fae96fd417a0add2014+1  - actions DB length:  637000  - latest record from:  2022-12-25 17:22:23 56 days ago\n",
      "iterations:  637 Lines skipped:  637000 records collected:  1000  - latest recordID:  addCollateral   0x804ac047aaba0baffda41acb1499297d6a041ccc079e9fae96fd417a0add2014  - actions DB length:  638000  - latest record from:  2022-12-25 17:22:23 56 days ago\n",
      "iterations:  638 Lines skipped:  638000 records collected:  1000  - latest recordID:  repayAsset   0x0ae60744756b6a3e430b12ee0a4d687291f9d610701938a4e4d4a77281ab7828  - actions DB length:  639000  - latest record from:  2022-12-25 17:21:35 56 days ago\n",
      "iterations:  639 Lines skipped:  639000 records collected:  1000  - latest recordID:  removeCollateral   0x44d7d8c34016d6435e2779b450788fc7b2fed10492e472f702d2b2069f171c8c  - actions DB length:  640000  - latest record from:  2022-12-25 16:54:47 56 days ago\n",
      "iterations:  640 Lines skipped:  640000 records collected:  1000  - latest recordID:  removeAsset   0xb6776543766c7a8d5aba07fde05da05e9bc1b52d0cf78a3868ef6e5e3949ab10  - actions DB length:  641000  - latest record from:  2022-12-25 16:16:11 56 days ago\n",
      "iterations:  641 Lines skipped:  641000 records collected:  1000  - latest recordID:  borrowAsset   0x6a04767803e381b58b20e3a67e94e93fc7ac0d224ff36342456ac4ffd9947475+1  - actions DB length:  642000  - latest record from:  2022-12-25 13:19:47 56 days ago\n",
      "iterations:  642 Lines skipped:  642000 records collected:  1000  - latest recordID:  addCollateral   0x6a04767803e381b58b20e3a67e94e93fc7ac0d224ff36342456ac4ffd9947475  - actions DB length:  643000  - latest record from:  2022-12-25 13:19:47 56 days ago\n",
      "iterations:  643 Lines skipped:  643000 records collected:  1000  - latest recordID:  removeCollateral   0x2844f4b62954ecb4aa1328dc1b43d216ec7c704db8527f9cc2b55ac05ba00370  - actions DB length:  644000  - latest record from:  2022-12-25 13:13:59 56 days ago\n",
      "iterations:  644 Lines skipped:  644000 records collected:  1000  - latest recordID:  borrowAsset   0xa737f781096a21f2f5dcb6dcb022c0aadb1160fdfa9b0b9124c8006bb5b874c6+1  - actions DB length:  645000  - latest record from:  2022-12-25 11:35:23 56 days ago\n",
      "iterations:  645 Lines skipped:  645000 records collected:  1000  - latest recordID:  addCollateral   0xa737f781096a21f2f5dcb6dcb022c0aadb1160fdfa9b0b9124c8006bb5b874c6  - actions DB length:  646000  - latest record from:  2022-12-25 11:35:23 56 days ago\n",
      "iterations:  646 Lines skipped:  646000 records collected:  1000  - latest recordID:  removeCollateral   0x0ca78abd544606aac8c4d31d641020414ac03fd59b7971374b8829ecd57d6e44  - actions DB length:  647000  - latest record from:  2022-12-25 11:16:35 56 days ago\n",
      "iterations:  647 Lines skipped:  647000 records collected:  1000  - latest recordID:  borrowAsset   0x9282a230af2927381718bb77a109dc22e05a79487cad779528b32d2a6bf2c296+1  - actions DB length:  648000  - latest record from:  2022-12-25 09:06:47 56 days ago\n",
      "iterations:  648 Lines skipped:  648000 records collected:  1000  - latest recordID:  addCollateral   0x9282a230af2927381718bb77a109dc22e05a79487cad779528b32d2a6bf2c296  - actions DB length:  649000  - latest record from:  2022-12-25 09:06:47 56 days ago\n",
      "iterations:  649 Lines skipped:  649000 records collected:  1000  - latest recordID:  borrowAsset   0xf56f494836f8ed5a0d135c33af6c3316582c39ab5c1a5647d1d67a62e7d5c29a  - actions DB length:  650000  - latest record from:  2022-12-25 09:03:35 56 days ago\n",
      "iterations:  650 Lines skipped:  650000 records collected:  1000  - latest recordID:  borrowAsset   0xecb1467e31dad230095ea252f8227a016755b87c2d0129ab76835d7186e8e9e1+1  - actions DB length:  651000  - latest record from:  2022-12-25 08:32:47 56 days ago\n",
      "iterations:  651 Lines skipped:  651000 records collected:  1000  - latest recordID:  addCollateral   0xecb1467e31dad230095ea252f8227a016755b87c2d0129ab76835d7186e8e9e1  - actions DB length:  652000  - latest record from:  2022-12-25 08:32:47 56 days ago\n",
      "iterations:  652 Lines skipped:  652000 records collected:  1000  - latest recordID:  borrowAsset   0xb93d168a6f0a458daaa449266c66fb2a72f5eb825f07dbcf6025d05298f22615  - actions DB length:  653000  - latest record from:  2022-12-25 08:30:47 56 days ago\n",
      "iterations:  653 Lines skipped:  653000 records collected:  1000  - latest recordID:  borrowAsset   0x1bd70fe04efb899100272ec6ea6f4978d6878e84519b17498a724a28c6a17bf6+1  - actions DB length:  654000  - latest record from:  2022-12-25 06:50:11 56 days ago\n",
      "iterations:  654 Lines skipped:  654000 records collected:  1000  - latest recordID:  addCollateral   0x1bd70fe04efb899100272ec6ea6f4978d6878e84519b17498a724a28c6a17bf6  - actions DB length:  655000  - latest record from:  2022-12-25 06:50:11 56 days ago\n",
      "iterations:  655 Lines skipped:  655000 records collected:  1000  - latest recordID:  borrowAsset   0x334c27c9ec0a7c69b18a2162d83cab9a32a4fdd23e8e91a8e5041fb8099505be+1  - actions DB length:  656000  - latest record from:  2022-12-25 05:42:59 56 days ago\n",
      "iterations:  656 Lines skipped:  656000 records collected:  1000  - latest recordID:  addCollateral   0x334c27c9ec0a7c69b18a2162d83cab9a32a4fdd23e8e91a8e5041fb8099505be  - actions DB length:  657000  - latest record from:  2022-12-25 05:42:59 56 days ago\n",
      "iterations:  657 Lines skipped:  657000 records collected:  1000  - latest recordID:  removeCollateral   0x85427437f9fbee2444d488fb54d869c27d2b618c1aea057b1980810ffdc12c96  - actions DB length:  658000  - latest record from:  2022-12-25 05:41:23 56 days ago\n",
      "iterations:  658 Lines skipped:  658000 records collected:  1000  - latest recordID:  repayAsset   0xb97ed59eddba475042a0271aadc3ab9e3c37e997718b42baa849d3ade07d0b21  - actions DB length:  659000  - latest record from:  2022-12-25 05:40:23 56 days ago\n",
      "iterations:  659 Lines skipped:  659000 records collected:  1000  - latest recordID:  repayAsset   0x039037cc4a3ce48b303613b207d5e0f77ff990081531ccbd95a593c62f886f59  - actions DB length:  660000  - latest record from:  2022-12-25 05:36:59 56 days ago\n",
      "iterations:  660 Lines skipped:  660000 records collected:  1000  - latest recordID:  borrowAsset   0x3692181e2da65ada1cacd20e194707a063b83b079933ebc9ff2944773557bfea+1  - actions DB length:  661000  - latest record from:  2022-12-25 05:34:47 56 days ago\n",
      "iterations:  661 Lines skipped:  661000 records collected:  1000  - latest recordID:  addCollateral   0x3692181e2da65ada1cacd20e194707a063b83b079933ebc9ff2944773557bfea  - actions DB length:  662000  - latest record from:  2022-12-25 05:34:47 56 days ago\n",
      "iterations:  662 Lines skipped:  662000 records collected:  1000  - latest recordID:  removeCollateral   0x5c2e39049701db76b48a6fc94775ddd16385dd42979383950688682ef4861a47  - actions DB length:  663000  - latest record from:  2022-12-25 05:21:23 56 days ago\n",
      "iterations:  663 Lines skipped:  663000 records collected:  1000  - latest recordID:  repayAsset   0x0047a00bd3b9821e52582d6daa98cd0f8aa993330b9b9b41e48ac2b618511de4  - actions DB length:  664000  - latest record from:  2022-12-25 05:20:59 56 days ago\n",
      "iterations:  664 Lines skipped:  664000 records collected:  1000  - latest recordID:  borrowAsset   0xd08091a3b2a72a2c2e4d621643bea1941a92c6033ae2d5b93bacad6918cf0f97+1  - actions DB length:  665000  - latest record from:  2022-12-25 05:19:23 56 days ago\n",
      "iterations:  665 Lines skipped:  665000 records collected:  1000  - latest recordID:  addCollateral   0xd08091a3b2a72a2c2e4d621643bea1941a92c6033ae2d5b93bacad6918cf0f97  - actions DB length:  666000  - latest record from:  2022-12-25 05:19:23 56 days ago\n",
      "iterations:  666 Lines skipped:  666000 records collected:  1000  - latest recordID:  removeCollateral   0xc3395ab75850187700772443d2b469f4d751d8d062495499dd9f5e194968d666  - actions DB length:  667000  - latest record from:  2022-12-25 05:17:59 56 days ago\n",
      "iterations:  667 Lines skipped:  667000 records collected:  1000  - latest recordID:  repayAsset   0xf61b4f6bd8337a3388dafb9d552987e656921e3d8666806e14975376d5663a3f  - actions DB length:  668000  - latest record from:  2022-12-25 05:17:47 56 days ago\n",
      "iterations:  668 Lines skipped:  668000 records collected:  1000  - latest recordID:  borrowAsset   0xbe78562d7235ddebd510f2f39f581365910ef94788aad4bf251a25718f96fc2b+1  - actions DB length:  669000  - latest record from:  2022-12-25 05:16:23 56 days ago\n",
      "iterations:  669 Lines skipped:  669000 records collected:  1000  - latest recordID:  addCollateral   0xbe78562d7235ddebd510f2f39f581365910ef94788aad4bf251a25718f96fc2b  - actions DB length:  670000  - latest record from:  2022-12-25 05:16:23 56 days ago\n",
      "iterations:  670 Lines skipped:  670000 records collected:  1000  - latest recordID:  removeCollateral   0x9c1d5db8fce57d3459d7b64ae90f56394f9775b5229580cc7f4a5c84d87b287c  - actions DB length:  671000  - latest record from:  2022-12-25 05:15:23 56 days ago\n",
      "iterations:  671 Lines skipped:  671000 records collected:  1000  - latest recordID:  repayAsset   0x821462fe46d7e8a1a905614455e26c4616718aa0fa23e69a1d4dce4d6eb71256  - actions DB length:  672000  - latest record from:  2022-12-25 05:15:11 56 days ago\n",
      "iterations:  672 Lines skipped:  672000 records collected:  1000  - latest recordID:  borrowAsset   0xdf24bddda228d1f5e0f90210f53390c69af280526b196ee3f2a55c501021240d+1  - actions DB length:  673000  - latest record from:  2022-12-25 05:13:47 56 days ago\n",
      "iterations:  673 Lines skipped:  673000 records collected:  1000  - latest recordID:  addCollateral   0xdf24bddda228d1f5e0f90210f53390c69af280526b196ee3f2a55c501021240d  - actions DB length:  674000  - latest record from:  2022-12-25 05:13:47 56 days ago\n",
      "iterations:  674 Lines skipped:  674000 records collected:  1000  - latest recordID:  removeCollateral   0x44861d99d8046fd9fad3120e69f487ba1201cc63e1ae1eade81377ce315a60e3  - actions DB length:  675000  - latest record from:  2022-12-25 05:12:47 56 days ago\n",
      "iterations:  675 Lines skipped:  675000 records collected:  1000  - latest recordID:  repayAsset   0xb12049bdf6fac04b4d98d7e9ac2cb091ca47c08cdad82796ac5babe6a8375e60  - actions DB length:  676000  - latest record from:  2022-12-25 05:12:35 56 days ago\n",
      "iterations:  676 Lines skipped:  676000 records collected:  1000  - latest recordID:  borrowAsset   0xbc1488dd58ccfe287f1702491563ff0b4b59cde84ade16a1c706b9b51538146c+1  - actions DB length:  677000  - latest record from:  2022-12-25 05:11:11 56 days ago\n",
      "iterations:  677 Lines skipped:  677000 records collected:  1000  - latest recordID:  addCollateral   0xbc1488dd58ccfe287f1702491563ff0b4b59cde84ade16a1c706b9b51538146c  - actions DB length:  678000  - latest record from:  2022-12-25 05:11:11 56 days ago\n",
      "iterations:  678 Lines skipped:  678000 records collected:  1000  - latest recordID:  removeCollateral   0xf4fedec17c5213fa65b09b3ed6f0495881db94f84a5e128ffcd7899834124d98  - actions DB length:  679000  - latest record from:  2022-12-25 05:09:35 56 days ago\n",
      "iterations:  679 Lines skipped:  679000 records collected:  1000  - latest recordID:  repayAsset   0x188a1f48fc6a93465fad09870449996f8f6e7a566907e1e858a3deb374ebcc38  - actions DB length:  680000  - latest record from:  2022-12-25 05:09:23 56 days ago\n",
      "iterations:  680 Lines skipped:  680000 records collected:  1000  - latest recordID:  borrowAsset   0x6befb5fdf6fa386d422303976860796ed9941e6ad67f380e00816502601b94af+1  - actions DB length:  681000  - latest record from:  2022-12-25 05:08:11 56 days ago\n",
      "iterations:  681 Lines skipped:  681000 records collected:  1000  - latest recordID:  addCollateral   0x6befb5fdf6fa386d422303976860796ed9941e6ad67f380e00816502601b94af  - actions DB length:  682000  - latest record from:  2022-12-25 05:08:11 56 days ago\n",
      "iterations:  682 Lines skipped:  682000 records collected:  1000  - latest recordID:  removeCollateral   0x2e04f0168bd3cb696c4f3bf5c7278c59d58f1fc0d7813a2698f2dad31650e041  - actions DB length:  683000  - latest record from:  2022-12-25 05:06:47 56 days ago\n",
      "iterations:  683 Lines skipped:  683000 records collected:  1000  - latest recordID:  repayAsset   0xcfd141d8dd3a3c7ba2390220dae6675e023b12abeba7ff44d2a07a32a1f7771e  - actions DB length:  684000  - latest record from:  2022-12-25 05:05:59 56 days ago\n",
      "iterations:  684 Lines skipped:  684000 records collected:  1000  - latest recordID:  borrowAsset   0x55ddc7798dfcc907498c2b034dc8a591b38880673bd9ed5e9f5ea04fe5b0e4dd+1  - actions DB length:  685000  - latest record from:  2022-12-25 05:01:35 56 days ago\n",
      "iterations:  685 Lines skipped:  685000 records collected:  1000  - latest recordID:  addCollateral   0x55ddc7798dfcc907498c2b034dc8a591b38880673bd9ed5e9f5ea04fe5b0e4dd  - actions DB length:  686000  - latest record from:  2022-12-25 05:01:35 56 days ago\n",
      "iterations:  686 Lines skipped:  686000 records collected:  1000  - latest recordID:  removeCollateral   0xf80db10a0200d0f9cb4b9380a53caaf41fceb6cfcfc3b216dc4260f19678e32f  - actions DB length:  687000  - latest record from:  2022-12-25 04:59:23 56 days ago\n",
      "iterations:  687 Lines skipped:  687000 records collected:  1000  - latest recordID:  borrowAsset   0x4820c8c169af6cec6be78fb6e84116c3d1d21de61cc1046c14f09ea8a982b1be+1  - actions DB length:  688000  - latest record from:  2022-12-24 16:17:35 57 days ago\n",
      "iterations:  688 Lines skipped:  688000 records collected:  1000  - latest recordID:  addCollateral   0x4820c8c169af6cec6be78fb6e84116c3d1d21de61cc1046c14f09ea8a982b1be  - actions DB length:  689000  - latest record from:  2022-12-24 16:17:35 57 days ago\n",
      "iterations:  689 Lines skipped:  689000 records collected:  1000  - latest recordID:  borrowAsset   0xf550a93618cc842ec80c6901b605b01d213dc6416edc239e8d348f8aff7c13dc  - actions DB length:  690000  - latest record from:  2022-12-24 16:15:11 57 days ago\n",
      "iterations:  690 Lines skipped:  690000 records collected:  1000  - latest recordID:  borrowAsset   0x417c98d5ef3eff6955c457ca62e0ce0eaf611061bf3834f924513c9751c882b8+1  - actions DB length:  691000  - latest record from:  2022-12-24 11:56:59 57 days ago\n",
      "iterations:  691 Lines skipped:  691000 records collected:  1000  - latest recordID:  addCollateral   0x417c98d5ef3eff6955c457ca62e0ce0eaf611061bf3834f924513c9751c882b8  - actions DB length:  692000  - latest record from:  2022-12-24 11:56:59 57 days ago\n",
      "iterations:  692 Lines skipped:  692000 records collected:  1000  - latest recordID:  borrowAsset   0x0dbe4fb452ed3c872db4642e7a3fa7d3867ff5bf0d27b502fb5f03f499a9fafd  - actions DB length:  693000  - latest record from:  2022-12-24 11:54:11 57 days ago\n",
      "iterations:  693 Lines skipped:  693000 records collected:  1000  - latest recordID:  removeAsset   0xcdc7dee09b3d8d1ab6c22724dcc678e0e456e4a9b425a9566083bed95858a4e1  - actions DB length:  694000  - latest record from:  2022-12-24 11:38:11 57 days ago\n",
      "iterations:  694 Lines skipped:  694000 records collected:  1000  - latest recordID:  borrowAsset   0x33a8ccc481eb4aa04ae022500c3b85dfc479e9c4339cbdf75a43f6813909d1a0+1  - actions DB length:  695000  - latest record from:  2022-12-24 11:24:47 57 days ago\n",
      "iterations:  695 Lines skipped:  695000 records collected:  1000  - latest recordID:  addCollateral   0x33a8ccc481eb4aa04ae022500c3b85dfc479e9c4339cbdf75a43f6813909d1a0  - actions DB length:  696000  - latest record from:  2022-12-24 11:24:47 57 days ago\n",
      "iterations:  696 Lines skipped:  696000 records collected:  1000  - latest recordID:  borrowAsset   0x0c423ac80cb0546a5719e041a8a23315892199572c42a6be3726d776c8e09118  - actions DB length:  697000  - latest record from:  2022-12-24 11:16:47 57 days ago\n",
      "iterations:  697 Lines skipped:  697000 records collected:  1000  - latest recordID:  borrowAsset   0xb1c466d089a814a6acea3b8a178294209446ac88d505205e93e6d5de8a81d07d+1  - actions DB length:  698000  - latest record from:  2022-12-24 10:54:35 57 days ago\n",
      "iterations:  698 Lines skipped:  698000 records collected:  1000  - latest recordID:  addCollateral   0xb1c466d089a814a6acea3b8a178294209446ac88d505205e93e6d5de8a81d07d  - actions DB length:  699000  - latest record from:  2022-12-24 10:54:35 57 days ago\n",
      "iterations:  699 Lines skipped:  699000 records collected:  1000  - latest recordID:  borrowAsset   0x4f5be22865aa1ec8139baef4966db502388f1c4c04d8d6261c63846cdab12026  - actions DB length:  700000  - latest record from:  2022-12-24 10:51:23 57 days ago\n",
      "iterations:  700 Lines skipped:  700000 records collected:  1000  - latest recordID:  borrowAsset   0x1b893c6e95c5c9797fe871501aa98a8219edbfd20ce7900b41a7299bb0d1912a+1  - actions DB length:  701000  - latest record from:  2022-12-24 10:43:23 57 days ago\n",
      "iterations:  701 Lines skipped:  701000 records collected:  1000  - latest recordID:  addCollateral   0x1b893c6e95c5c9797fe871501aa98a8219edbfd20ce7900b41a7299bb0d1912a  - actions DB length:  702000  - latest record from:  2022-12-24 10:43:23 57 days ago\n",
      "iterations:  702 Lines skipped:  702000 records collected:  1000  - latest recordID:  borrowAsset   0xbd5463dacd46ea0c6cda3782e9f8d2b9bfe3bea0344acc5d508e265e92bc5122  - actions DB length:  703000  - latest record from:  2022-12-24 10:38:47 57 days ago\n",
      "iterations:  703 Lines skipped:  703000 records collected:  1000  - latest recordID:  borrowAsset   0x645caf51c3c9d856647651381acc659de405d7f1f70c43dbc074bb9d148848b5+1  - actions DB length:  704000  - latest record from:  2022-12-24 07:19:59 57 days ago\n",
      "iterations:  704 Lines skipped:  704000 records collected:  1000  - latest recordID:  addCollateral   0x645caf51c3c9d856647651381acc659de405d7f1f70c43dbc074bb9d148848b5  - actions DB length:  705000  - latest record from:  2022-12-24 07:19:59 57 days ago\n",
      "iterations:  705 Lines skipped:  705000 records collected:  1000  - latest recordID:  borrowAsset   0x4525aca47af9e21a762141d1f95796ede6864b90251de769e1804d5c236e92e7  - actions DB length:  706000  - latest record from:  2022-12-24 07:14:47 57 days ago\n",
      "iterations:  706 Lines skipped:  706000 records collected:  1000  - latest recordID:  borrowAsset   0xf1a9a4a6683c0822feacb810e9744e146721c52b6ef345e5135f3b648716c4fe+1  - actions DB length:  707000  - latest record from:  2022-12-24 06:16:35 57 days ago\n",
      "iterations:  707 Lines skipped:  707000 records collected:  1000  - latest recordID:  addCollateral   0xf1a9a4a6683c0822feacb810e9744e146721c52b6ef345e5135f3b648716c4fe  - actions DB length:  708000  - latest record from:  2022-12-24 06:16:35 57 days ago\n",
      "iterations:  708 Lines skipped:  708000 records collected:  1000  - latest recordID:  removeCollateral   0x9d24ad4e19bfe9d26dee709986cf63e8b088d75cebe055ac74abce615795646e  - actions DB length:  709000  - latest record from:  2022-12-24 06:15:11 57 days ago\n",
      "iterations:  709 Lines skipped:  709000 records collected:  1000  - latest recordID:  borrowAsset   0x229da6e64369478e687939be0d7955084726aebf1fda121283f6693f66d99199+1  - actions DB length:  710000  - latest record from:  2022-12-24 05:42:47 57 days ago\n",
      "iterations:  710 Lines skipped:  710000 records collected:  1000  - latest recordID:  addCollateral   0x229da6e64369478e687939be0d7955084726aebf1fda121283f6693f66d99199  - actions DB length:  711000  - latest record from:  2022-12-24 05:42:47 57 days ago\n",
      "iterations:  711 Lines skipped:  711000 records collected:  1000  - latest recordID:  addCollateral   0x0cfad24e5dbe817c1828689b6de4e037587db5134c2466767cdd2492f253c83e  - actions DB length:  712000  - latest record from:  2022-12-23 19:38:11 58 days ago\n",
      "iterations:  712 Lines skipped:  712000 records collected:  1000  - latest recordID:  removeCollateral   0x29b9f03d4d22890007236dac2b25227329be9a05a7d1e0e3969de3a9f59cd7af  - actions DB length:  713000  - latest record from:  2022-12-23 19:06:47 58 days ago\n",
      "iterations:  713 Lines skipped:  713000 records collected:  1000  - latest recordID:  repayAsset   0x881c017a8454fbe0440b7e169e688bb785518478a3eca81c13e5c0f99c383ffd  - actions DB length:  714000  - latest record from:  2022-12-23 19:05:11 58 days ago\n",
      "iterations:  714 Lines skipped:  714000 records collected:  1000  - latest recordID:  repayAsset   0x891a502f373364ea3c90588e1b7c3ce37c1a1b22294f2ea1eb64de5d690871ca  - actions DB length:  715000  - latest record from:  2022-12-23 19:04:35 58 days ago\n",
      "iterations:  715 Lines skipped:  715000 records collected:  1000  - latest recordID:  borrowAsset   0xc62b213a2a9fb87aad2e614b1a6cf40e98e857fd6d52b54b7182be402d55ce91+1  - actions DB length:  716000  - latest record from:  2022-12-23 13:38:35 58 days ago\n",
      "iterations:  716 Lines skipped:  716000 records collected:  1000  - latest recordID:  addCollateral   0xc62b213a2a9fb87aad2e614b1a6cf40e98e857fd6d52b54b7182be402d55ce91  - actions DB length:  717000  - latest record from:  2022-12-23 13:38:35 58 days ago\n",
      "iterations:  717 Lines skipped:  717000 records collected:  1000  - latest recordID:  borrowAsset   0x33423cb94398e6c31dc3a7b183e0dec8a623ed45df861962ac3c3b7b79ee6c93+1  - actions DB length:  718000  - latest record from:  2022-12-23 09:15:59 58 days ago\n",
      "iterations:  718 Lines skipped:  718000 records collected:  1000  - latest recordID:  addCollateral   0x33423cb94398e6c31dc3a7b183e0dec8a623ed45df861962ac3c3b7b79ee6c93  - actions DB length:  719000  - latest record from:  2022-12-23 09:15:59 58 days ago\n",
      "iterations:  719 Lines skipped:  719000 records collected:  1000  - latest recordID:  borrowAsset   0xc610afe20c3a0d7271b9642e13c98cdcdf55e81573e24f876a6bc7d696f7a2d1  - actions DB length:  720000  - latest record from:  2022-12-23 08:44:23 58 days ago\n",
      "iterations:  720 Lines skipped:  720000 records collected:  1000  - latest recordID:  borrowAsset   0x7dc150e2e6cc56f960a1916aef2c4c47161a06be4be7cda20594d36a01610dfe+1  - actions DB length:  721000  - latest record from:  2022-12-23 05:58:35 58 days ago\n",
      "iterations:  721 Lines skipped:  721000 records collected:  1000  - latest recordID:  addCollateral   0x7dc150e2e6cc56f960a1916aef2c4c47161a06be4be7cda20594d36a01610dfe  - actions DB length:  722000  - latest record from:  2022-12-23 05:58:35 58 days ago\n",
      "iterations:  722 Lines skipped:  722000 records collected:  1000  - latest recordID:  borrowAsset   0xd3ded35506f155099fa9ff7f464cd294e0d38a9abf2153549af0499645a9cfc1+1  - actions DB length:  723000  - latest record from:  2022-12-23 05:55:23 58 days ago\n",
      "iterations:  723 Lines skipped:  723000 records collected:  1000  - latest recordID:  addCollateral   0xd3ded35506f155099fa9ff7f464cd294e0d38a9abf2153549af0499645a9cfc1  - actions DB length:  724000  - latest record from:  2022-12-23 05:55:23 58 days ago\n",
      "iterations:  724 Lines skipped:  724000 records collected:  1000  - latest recordID:  borrowAsset   0x71ef2460d9e0f4589a6f5698bcfdddd4255a49640fc6a8a25e0a9fd6aaac4989+1  - actions DB length:  725000  - latest record from:  2022-12-23 05:49:59 58 days ago\n",
      "iterations:  725 Lines skipped:  725000 records collected:  1000  - latest recordID:  addCollateral   0x71ef2460d9e0f4589a6f5698bcfdddd4255a49640fc6a8a25e0a9fd6aaac4989  - actions DB length:  726000  - latest record from:  2022-12-23 05:49:59 58 days ago\n",
      "iterations:  726 Lines skipped:  726000 records collected:  1000  - latest recordID:  removeAsset   0xf8be8b0615f24f5681eaf0a00224551b1a74f3101fc9a26e5a83cdc66a417742  - actions DB length:  727000  - latest record from:  2022-12-23 03:55:59 59 days ago\n",
      "iterations:  727 Lines skipped:  727000 records collected:  1000  - latest recordID:  removeCollateral   0xd09722d5b8f89819a33589a550517340d934029fd3749945b7c3a620ca804107  - actions DB length:  728000  - latest record from:  2022-12-22 18:05:59 59 days ago\n",
      "iterations:  728 Lines skipped:  728000 records collected:  1000  - latest recordID:  repayAsset   0x8e2ebe7fa439caedf3b7a7201ac0d93047a2d132e164886fce9671998eb586d0  - actions DB length:  729000  - latest record from:  2022-12-22 18:05:35 59 days ago\n",
      "iterations:  729 Lines skipped:  729000 records collected:  1000  - latest recordID:  borrowAsset   0x210e59199ab6d0a9ba097a1bcd25b7ce9feb7bdffdec7258bff158249cef7ee7+1  - actions DB length:  730000  - latest record from:  2022-12-22 13:21:59 59 days ago\n",
      "iterations:  730 Lines skipped:  730000 records collected:  1000  - latest recordID:  addCollateral   0x210e59199ab6d0a9ba097a1bcd25b7ce9feb7bdffdec7258bff158249cef7ee7  - actions DB length:  731000  - latest record from:  2022-12-22 13:21:59 59 days ago\n",
      "iterations:  731 Lines skipped:  731000 records collected:  1000  - latest recordID:  removeCollateral   0xdf8690a26512fedc09b9981320443d5c6b3edd30ceb2c69aca0bedc925f423e9  - actions DB length:  732000  - latest record from:  2022-12-22 12:33:35 59 days ago\n",
      "iterations:  732 Lines skipped:  732000 records collected:  1000  - latest recordID:  repayAsset   0x98f9d817444c5ee599f017f971d419ddb2e8858387cb6b8c664b5b0d764bfd71  - actions DB length:  733000  - latest record from:  2022-12-22 12:31:35 59 days ago\n",
      "iterations:  733 Lines skipped:  733000 records collected:  1000  - latest recordID:  removeCollateral   0x55bba34b7456d79d83f3cd01357171e8ec7a8575aac7eb75ad02ba9d1b2bba09  - actions DB length:  734000  - latest record from:  2022-12-22 12:31:11 59 days ago\n",
      "iterations:  734 Lines skipped:  734000 records collected:  1000  - latest recordID:  borrowAsset   0x8a3a3817d13e5b2e3371b92520592c2684b53cd833c370bc6462802bcaf974b4+1  - actions DB length:  735000  - latest record from:  2022-12-22 06:41:23 59 days ago\n",
      "iterations:  735 Lines skipped:  735000 records collected:  1000  - latest recordID:  addCollateral   0x8a3a3817d13e5b2e3371b92520592c2684b53cd833c370bc6462802bcaf974b4  - actions DB length:  736000  - latest record from:  2022-12-22 06:41:23 59 days ago\n",
      "iterations:  736 Lines skipped:  736000 records collected:  1000  - latest recordID:  borrowAsset   0x2847267d57422d4e7832824b0ccabb035508d7ced5b3ae89f217f2b5f2bc19f5  - actions DB length:  737000  - latest record from:  2022-12-22 06:36:47 59 days ago\n",
      "iterations:  737 Lines skipped:  737000 records collected:  1000  - latest recordID:  removeCollateral   0xa0ddfaed4b7e4193b51fbf2d1bab0f6021c75a6ce1a318820a35f63e71f3f12f  - actions DB length:  738000  - latest record from:  2022-12-22 05:46:59 59 days ago\n",
      "iterations:  738 Lines skipped:  738000 records collected:  1000  - latest recordID:  repayAsset   0x6e4be50b76136c453825b5d8accfe33506e074fbce712f77d4cca00780714ad4  - actions DB length:  739000  - latest record from:  2022-12-22 05:44:35 59 days ago\n",
      "iterations:  739 Lines skipped:  739000 records collected:  1000  - latest recordID:  removeCollateral   0xd640caa170e292a5e5642714d47c4d9690f1fb532801d1e0ec608e599a1dd265  - actions DB length:  740000  - latest record from:  2022-12-22 05:40:35 59 days ago\n",
      "iterations:  740 Lines skipped:  740000 records collected:  1000  - latest recordID:  removeCollateral   0xbbf62520aded902fe945565c331d0d0186637d1708e8ced63b50cfbbe17483c0  - actions DB length:  741000  - latest record from:  2022-12-22 05:37:59 59 days ago\n",
      "iterations:  741 Lines skipped:  741000 records collected:  1000  - latest recordID:  borrowAsset   0x088018c453627e2b1030fae489578185e468e4bbc19cebcca827f28dd15bc4d7+1  - actions DB length:  742000  - latest record from:  2022-12-22 05:37:47 59 days ago\n",
      "iterations:  742 Lines skipped:  742000 records collected:  1000  - latest recordID:  addCollateral   0x088018c453627e2b1030fae489578185e468e4bbc19cebcca827f28dd15bc4d7  - actions DB length:  743000  - latest record from:  2022-12-22 05:37:47 59 days ago\n",
      "iterations:  743 Lines skipped:  743000 records collected:  1000  - latest recordID:  removeCollateral   0xa0ee2c4fca4715125c21f7b0c44e727f83318992803c99314d6bd3993af4a5d1  - actions DB length:  744000  - latest record from:  2022-12-22 05:37:11 59 days ago\n",
      "iterations:  744 Lines skipped:  744000 records collected:  1000  - latest recordID:  borrowAsset   0x022f93ffc3a1ab9a7739bfbb5b3a5ae844d87fc2faeb240261cd2eaa105d1db6+1  - actions DB length:  745000  - latest record from:  2022-12-21 12:23:23 60 days ago\n",
      "iterations:  745 Lines skipped:  745000 records collected:  1000  - latest recordID:  addCollateral   0x022f93ffc3a1ab9a7739bfbb5b3a5ae844d87fc2faeb240261cd2eaa105d1db6  - actions DB length:  746000  - latest record from:  2022-12-21 12:23:23 60 days ago\n",
      "iterations:  746 Lines skipped:  746000 records collected:  1000  - latest recordID:  removeCollateral   0x6ebf6edd82cb1cef1467578a75de80efc503825034228d5ef9ff355c909c0792  - actions DB length:  747000  - latest record from:  2022-12-21 11:54:59 60 days ago\n",
      "iterations:  747 Lines skipped:  747000 records collected:  1000  - latest recordID:  removeCollateral   0x59d6ec61478b1d3db1cbf7d2e36f7a59a9ab419e0bd802aa71ffc44c45b51796  - actions DB length:  748000  - latest record from:  2022-12-21 09:47:47 60 days ago\n",
      "iterations:  748 Lines skipped:  748000 records collected:  1000  - latest recordID:  repayAsset   0x19b570affa60030b1a03571e7531a0cf97cad468035bbdb874a5afca42d2d969  - actions DB length:  749000  - latest record from:  2022-12-21 09:47:11 60 days ago\n",
      "iterations:  749 Lines skipped:  749000 records collected:  1000  - latest recordID:  addAsset   0x872b88adec2b92ebc518b126e5bd836b64d6b55775882cb1182da8c753fc972e  - actions DB length:  750000  - latest record from:  2022-12-21 07:40:11 60 days ago\n",
      "iterations:  750 Lines skipped:  750000 records collected:  1000  - latest recordID:  removeAsset   0x4d1eb79f635f13804a691233973d028f54789ed3b92d52d12eb1faf016b382b6  - actions DB length:  751000  - latest record from:  2022-12-21 07:23:47 60 days ago\n",
      "iterations:  751 Lines skipped:  751000 records collected:  1000  - latest recordID:  borrowAsset   0x00ba644961f9d2f0a9d8d8d0c6855c8a92dda3aacf24206a9e848259aac625a0+1  - actions DB length:  752000  - latest record from:  2022-12-21 06:53:47 60 days ago\n",
      "iterations:  752 Lines skipped:  752000 records collected:  1000  - latest recordID:  addCollateral   0x00ba644961f9d2f0a9d8d8d0c6855c8a92dda3aacf24206a9e848259aac625a0  - actions DB length:  753000  - latest record from:  2022-12-21 06:53:47 60 days ago\n",
      "iterations:  753 Lines skipped:  753000 records collected:  1000  - latest recordID:  borrowAsset   0x9bdec9f19da6f0590b4f95963a98a4f051516081cfe42d25615a74fb01c8ada2  - actions DB length:  754000  - latest record from:  2022-12-21 06:50:47 60 days ago\n",
      "iterations:  754 Lines skipped:  754000 records collected:  1000  - latest recordID:  removeCollateral   0x7060039897bd7b553401d3a98d76b101b548562825f6f52c38b34831389e7bed  - actions DB length:  755000  - latest record from:  2022-12-21 06:26:47 60 days ago\n",
      "iterations:  755 Lines skipped:  755000 records collected:  1000  - latest recordID:  borrowAsset   0x477314a76034d5a0ab01f2a0d44d0a0abb1965879c1c1de01fb823029eeb9756+1  - actions DB length:  756000  - latest record from:  2022-12-21 04:28:23 60 days ago\n",
      "iterations:  756 Lines skipped:  756000 records collected:  1000  - latest recordID:  addCollateral   0x477314a76034d5a0ab01f2a0d44d0a0abb1965879c1c1de01fb823029eeb9756  - actions DB length:  757000  - latest record from:  2022-12-21 04:28:23 60 days ago\n",
      "iterations:  757 Lines skipped:  757000 records collected:  1000  - latest recordID:  borrowAsset   0x90815f3fde58d0fb4c794dbb4b1d2967f7417dbfe3d08d0bb476af372b7685c5  - actions DB length:  758000  - latest record from:  2022-12-21 04:19:35 61 days ago\n",
      "iterations:  758 Lines skipped:  758000 records collected:  1000  - latest recordID:  removeCollateral   0xb4453e19c0fd998a9d0a09e119ee09dba38828b503acb8abe869200d4541313c  - actions DB length:  759000  - latest record from:  2022-12-20 19:01:47 61 days ago\n",
      "iterations:  759 Lines skipped:  759000 records collected:  1000  - latest recordID:  addAsset   0x6c36e094288e785d16dd34e18599c1fe0bf14dabbcf5e100560cca95e2e2e930  - actions DB length:  760000  - latest record from:  2022-12-20 09:31:35 61 days ago\n",
      "iterations:  760 Lines skipped:  760000 records collected:  1000  - latest recordID:  borrowAsset   0x985ac603948ba0fd13fa89cba09617ab92ab18e2a28d7602e61cbc7d02df98b0+1  - actions DB length:  761000  - latest record from:  2022-12-20 07:36:47 61 days ago\n",
      "iterations:  761 Lines skipped:  761000 records collected:  1000  - latest recordID:  addCollateral   0x985ac603948ba0fd13fa89cba09617ab92ab18e2a28d7602e61cbc7d02df98b0  - actions DB length:  762000  - latest record from:  2022-12-20 07:36:47 61 days ago\n",
      "iterations:  762 Lines skipped:  762000 records collected:  1000  - latest recordID:  borrowAsset   0xb98c071756afe2e033792343a3164647c78c4937e3577313e0fc0da2a8917ad8  - actions DB length:  763000  - latest record from:  2022-12-20 07:29:59 61 days ago\n",
      "iterations:  763 Lines skipped:  763000 records collected:  1000  - latest recordID:  borrowAsset   0x13ae37976acd07ef864a7ee5baba9baf3dd8c2a0891c5d6c7d7304b7f8032b01  - actions DB length:  764000  - latest record from:  2022-12-20 07:11:59 61 days ago\n",
      "iterations:  764 Lines skipped:  764000 records collected:  1000  - latest recordID:  addAsset   0xf7bc3eddeb32124d951a63247d7c369658675b5334550d15164359cdb37cfac7  - actions DB length:  765000  - latest record from:  2022-12-20 03:11:35 62 days ago\n",
      "iterations:  765 Lines skipped:  765000 records collected:  1000  - latest recordID:  removeAsset   0xc2a146c3fda0fb44c2dd594e91e349e2a51591724deef31337e1a3b42ea72827  - actions DB length:  766000  - latest record from:  2022-12-20 03:01:47 62 days ago\n",
      "iterations:  766 Lines skipped:  766000 records collected:  1000  - latest recordID:  removeCollateral   0xa316e3c45e0cb766166fa105eddc943c56313997c787fc5660f25bc3b764394c  - actions DB length:  767000  - latest record from:  2022-12-19 14:42:47 62 days ago\n",
      "iterations:  767 Lines skipped:  767000 records collected:  1000  - latest recordID:  repayAsset   0x8e3c6b4ca1eef34019205fc3cbaacf577af4cacb181fe6514465eb4692fa65be  - actions DB length:  768000  - latest record from:  2022-12-19 14:41:35 62 days ago\n",
      "iterations:  768 Lines skipped:  768000 records collected:  1000  - latest recordID:  borrowAsset   0x4d37ffb2451e20fe4f23233b8e59df0a9424bd3e30d591f9a40d4a596b72d05b+1  - actions DB length:  769000  - latest record from:  2022-12-19 12:47:35 62 days ago\n",
      "iterations:  769 Lines skipped:  769000 records collected:  1000  - latest recordID:  addCollateral   0x4d37ffb2451e20fe4f23233b8e59df0a9424bd3e30d591f9a40d4a596b72d05b  - actions DB length:  770000  - latest record from:  2022-12-19 12:47:35 62 days ago\n",
      "iterations:  770 Lines skipped:  770000 records collected:  1000  - latest recordID:  borrowAsset   0x8df372bf596f3afcd7cbb9c70d6b2f9d80b7fe19ada4d656301aa6511d38312b  - actions DB length:  771000  - latest record from:  2022-12-19 12:42:11 62 days ago\n",
      "iterations:  771 Lines skipped:  771000 records collected:  1000  - latest recordID:  borrowAsset   0xa052a026e004dac6b948d3c73b43b811a708b2a924ef121edfb054ec18ca2559+1  - actions DB length:  772000  - latest record from:  2022-12-19 10:02:47 62 days ago\n",
      "iterations:  772 Lines skipped:  772000 records collected:  1000  - latest recordID:  addCollateral   0xa052a026e004dac6b948d3c73b43b811a708b2a924ef121edfb054ec18ca2559  - actions DB length:  773000  - latest record from:  2022-12-19 10:02:47 62 days ago\n",
      "iterations:  773 Lines skipped:  773000 records collected:  1000  - latest recordID:  borrowAsset   0x630e7c8237e0d35baaacfc27ea7cebe2eb58cf5f3daac1d481a68335c6d54abf+1  - actions DB length:  774000  - latest record from:  2022-12-19 10:01:11 62 days ago\n",
      "iterations:  774 Lines skipped:  774000 records collected:  1000  - latest recordID:  addCollateral   0x630e7c8237e0d35baaacfc27ea7cebe2eb58cf5f3daac1d481a68335c6d54abf  - actions DB length:  775000  - latest record from:  2022-12-19 10:01:11 62 days ago\n",
      "iterations:  775 Lines skipped:  775000 records collected:  1000  - latest recordID:  removeAsset   0xfe24927ef3c3ae8fc465c276d331f188afd674703ea99f51ab1c67de54bf9c41  - actions DB length:  776000  - latest record from:  2022-12-19 05:53:47 62 days ago\n",
      "iterations:  776 Lines skipped:  776000 records collected:  1000  - latest recordID:  repayAsset   0xcbf27a8a84779256040d7aa5fdea2f7f7b0b18dc1138850b459c4af2a19583c1  - actions DB length:  777000  - latest record from:  2022-12-18 17:31:47 63 days ago\n",
      "iterations:  777 Lines skipped:  777000 records collected:  1000  - latest recordID:  removeCollateral   0xc59509e59b3f5ef71ce26140986856829c1fc5eceb818f1b8e4fe26952716161  - actions DB length:  778000  - latest record from:  2022-12-18 17:24:35 63 days ago\n",
      "iterations:  778 Lines skipped:  778000 records collected:  1000  - latest recordID:  borrowAsset   0xac1dd5e165780d9de891970da9155baef8ba3bd53b05ab367d6768ad7e15506d+1  - actions DB length:  779000  - latest record from:  2022-12-18 16:40:59 63 days ago\n",
      "iterations:  779 Lines skipped:  779000 records collected:  1000  - latest recordID:  addCollateral   0xac1dd5e165780d9de891970da9155baef8ba3bd53b05ab367d6768ad7e15506d  - actions DB length:  780000  - latest record from:  2022-12-18 16:40:59 63 days ago\n",
      "iterations:  780 Lines skipped:  780000 records collected:  1000  - latest recordID:  borrowAsset   0xf84b82c3e33bbdde4e3858ff54265c175f4b2e81e34b14594f0e336a4c5d0251  - actions DB length:  781000  - latest record from:  2022-12-18 16:35:11 63 days ago\n",
      "iterations:  781 Lines skipped:  781000 records collected:  1000  - latest recordID:  borrowAsset   0x435c724feefb06c11e0c6166057452856d25685b4b97693deed37594db62e0af+1  - actions DB length:  782000  - latest record from:  2022-12-18 15:43:35 63 days ago\n",
      "iterations:  782 Lines skipped:  782000 records collected:  1000  - latest recordID:  addCollateral   0x435c724feefb06c11e0c6166057452856d25685b4b97693deed37594db62e0af  - actions DB length:  783000  - latest record from:  2022-12-18 15:43:35 63 days ago\n",
      "iterations:  783 Lines skipped:  783000 records collected:  1000  - latest recordID:  borrowAsset   0xf8f2f63c0f4899d991a9fe2e56ec29fbf99e2a5205295fc6ca9543df605b8461  - actions DB length:  784000  - latest record from:  2022-12-18 15:40:23 63 days ago\n",
      "iterations:  784 Lines skipped:  784000 records collected:  1000  - latest recordID:  removeCollateral   0x7c7b8e5bdd473d2339b4582b7306398a16e23f780b40bb8019cb17d99113fc65  - actions DB length:  785000  - latest record from:  2022-12-18 12:49:47 63 days ago\n",
      "iterations:  785 Lines skipped:  785000 records collected:  1000  - latest recordID:  repayAsset   0xbb379eaca745e1c23de54c2e8825461a41c8a6e639bf17224499f3c723cf178a  - actions DB length:  786000  - latest record from:  2022-12-18 12:45:59 63 days ago\n",
      "iterations:  786 Lines skipped:  786000 records collected:  1000  - latest recordID:  addCollateral   0x72bfd626688a5bf402e44de495f6c20c9deab78e05b6b410b633c3a380c027b9  - actions DB length:  787000  - latest record from:  2022-12-18 12:39:35 63 days ago\n",
      "iterations:  787 Lines skipped:  787000 records collected:  1000  - latest recordID:  borrowAsset   0xc32743b8795920bd4ae22d7d010c8e39f995f9255c843d2839a3bd8e51bdb629  - actions DB length:  788000  - latest record from:  2022-12-18 12:34:23 63 days ago\n",
      "iterations:  788 Lines skipped:  788000 records collected:  1000  - latest recordID:  removeCollateral   0x2f157334c55208c4b9a1dc4a122d29e33613a9a737304e14a51399e87c3aec3b  - actions DB length:  789000  - latest record from:  2022-12-18 09:25:47 63 days ago\n",
      "iterations:  789 Lines skipped:  789000 records collected:  1000  - latest recordID:  repayAsset   0xba312df2913e35602944ef7a9bc35390c34852658d155c31f7fda3f8c5962bdd  - actions DB length:  790000  - latest record from:  2022-12-18 09:22:35 63 days ago\n",
      "iterations:  790 Lines skipped:  790000 records collected:  1000  - latest recordID:  removeAsset   0x161c0ede7250bc12f675c4b65fbeda48fa68e75ef9dc7156a82aa408848da04f  - actions DB length:  791000  - latest record from:  2022-12-18 09:19:23 63 days ago\n",
      "iterations:  791 Lines skipped:  791000 records collected:  1000  - latest recordID:  addAsset   0x2aa04f1816c9b9c462acc5d2c42030d73fbb397dff1f1823d01dbd7f6a750dae  - actions DB length:  792000  - latest record from:  2022-12-18 07:52:23 63 days ago\n",
      "iterations:  792 Lines skipped:  792000 records collected:  1000  - latest recordID:  borrowAsset   0xc8087afe3b449835b235da90386ebedc6999c1c55dfbf8d60c301aeefdd8e475+1  - actions DB length:  793000  - latest record from:  2022-12-18 06:24:59 63 days ago\n",
      "iterations:  793 Lines skipped:  793000 records collected:  1000  - latest recordID:  addCollateral   0xc8087afe3b449835b235da90386ebedc6999c1c55dfbf8d60c301aeefdd8e475  - actions DB length:  794000  - latest record from:  2022-12-18 06:24:59 63 days ago\n",
      "iterations:  794 Lines skipped:  794000 records collected:  1000  - latest recordID:  borrowAsset   0xa39455a0ca8fffa88528dbb75dbcf91ba0fe3ce903495b7d44e9e47aefcadae2  - actions DB length:  795000  - latest record from:  2022-12-18 06:20:23 63 days ago\n",
      "iterations:  795 Lines skipped:  795000 records collected:  1000  - latest recordID:  borrowAsset   0xe74e9e8a6fa716a785bcd1545a538097d96208699aa8ea415b9030afe5d044c1+1  - actions DB length:  796000  - latest record from:  2022-12-18 05:04:47 63 days ago\n",
      "iterations:  796 Lines skipped:  796000 records collected:  1000  - latest recordID:  addCollateral   0xe74e9e8a6fa716a785bcd1545a538097d96208699aa8ea415b9030afe5d044c1  - actions DB length:  797000  - latest record from:  2022-12-18 05:04:47 63 days ago\n",
      "iterations:  797 Lines skipped:  797000 records collected:  1000  - latest recordID:  removeCollateral   0x4226bdefe593463461fc3a503ad61f674272bcdb38c8418bff739021585182fb  - actions DB length:  798000  - latest record from:  2022-12-18 05:04:23 63 days ago\n",
      "iterations:  798 Lines skipped:  798000 records collected:  1000  - latest recordID:  addAsset   0x0ce753df176a30bec36edc8fdeffa87912b414f0fb6fe062ccddf4dd187d0443  - actions DB length:  799000  - latest record from:  2022-12-17 13:52:59 64 days ago\n",
      "iterations:  799 Lines skipped:  799000 records collected:  1000  - latest recordID:  removeAsset   0x0e5d9d6b720dd1315aa83d272aa835af98fcca87494799f5eb64f2e84131103c  - actions DB length:  800000  - latest record from:  2022-12-17 13:49:47 64 days ago\n",
      "iterations:  800 Lines skipped:  800000 records collected:  1000  - latest recordID:  removeAsset   0x5f28cb89bb3f8294ec4dce6662752be8284d87c24938c215c9bc31e94bcd621a  - actions DB length:  801000  - latest record from:  2022-12-17 13:20:35 64 days ago\n",
      "iterations:  801 Lines skipped:  801000 records collected:  1000  - latest recordID:  addAsset   0xdd9622ff22e0d9e23931891f27c34ebcc0be6c24f266b3910d0b664c772cbea2  - actions DB length:  802000  - latest record from:  2022-12-17 13:18:23 64 days ago\n",
      "iterations:  802 Lines skipped:  802000 records collected:  1000  - latest recordID:  borrowAsset   0x08cef0dcfa82fb386ec9948dadfaa9dba0da206c6523d51b413136ddaa52e58f  - actions DB length:  803000  - latest record from:  2022-12-17 10:37:59 64 days ago\n",
      "iterations:  803 Lines skipped:  803000 records collected:  1000  - latest recordID:  addCollateral   0x2c0b67c5bac1a60d50eb090a8b6508241600a01960ffceafbb752f03867ba5ca  - actions DB length:  804000  - latest record from:  2022-12-17 10:36:11 64 days ago\n",
      "iterations:  804 Lines skipped:  804000 records collected:  1000  - latest recordID:  borrowAsset   0x89f288af5dbb01b2606695b10043efcca7250ffa4f2786d17112676b702c5727+1  - actions DB length:  805000  - latest record from:  2022-12-17 05:50:23 64 days ago\n",
      "iterations:  805 Lines skipped:  805000 records collected:  1000  - latest recordID:  addCollateral   0x89f288af5dbb01b2606695b10043efcca7250ffa4f2786d17112676b702c5727  - actions DB length:  806000  - latest record from:  2022-12-17 05:50:23 64 days ago\n",
      "iterations:  806 Lines skipped:  806000 records collected:  1000  - latest recordID:  borrowAsset   0x52a22509d8397aec4b08a262c8e50ce0e9e810cc198129f4c2ef1164b3bd4d4d  - actions DB length:  807000  - latest record from:  2022-12-17 05:43:11 64 days ago\n",
      "iterations:  807 Lines skipped:  807000 records collected:  1000  - latest recordID:  repayAsset   0xc712301062afa9c2202249d403abb1db43aa0ca445f7be11246e54dd7df5a5f3  - actions DB length:  808000  - latest record from:  2022-12-17 04:45:47 64 days ago\n",
      "iterations:  808 Lines skipped:  808000 records collected:  1000  - latest recordID:  removeCollateral   0xca92cec6cfb9ea2c2687f2f2ebe9b9e172708db2e8ad748e0571f109868e1711  - actions DB length:  809000  - latest record from:  2022-12-17 04:28:23 64 days ago\n",
      "iterations:  809 Lines skipped:  809000 records collected:  1000  - latest recordID:  borrowAsset   0x6426c8eaa10b310af812579129a15f523e5728b3b3b60be33ab2ac46e72e3945+1  - actions DB length:  810000  - latest record from:  2022-12-17 01:43:23 65 days ago\n",
      "iterations:  810 Lines skipped:  810000 records collected:  1000  - latest recordID:  addCollateral   0x6426c8eaa10b310af812579129a15f523e5728b3b3b60be33ab2ac46e72e3945  - actions DB length:  811000  - latest record from:  2022-12-17 01:43:23 65 days ago\n",
      "iterations:  811 Lines skipped:  811000 records collected:  1000  - latest recordID:  addAsset   0x4bed4e8271882049c77f53ef20a1ff6ec1887e6e5956fb496021aae9e564e400  - actions DB length:  812000  - latest record from:  2022-12-16 18:55:47 65 days ago\n",
      "iterations:  812 Lines skipped:  812000 records collected:  1000  - latest recordID:  addAsset   0x414c22af0573fb6aaac27b6d278e9d8e473d7fd11adcdbe99962f6b2fdbb2f31  - actions DB length:  813000  - latest record from:  2022-12-16 13:13:47 65 days ago\n",
      "iterations:  813 Lines skipped:  813000 records collected:  1000  - latest recordID:  borrowAsset   0xfe699cd2ba2b23392813283cf1d50c43db9ed094dedc3003f84a9bc8012fc5c0+1  - actions DB length:  814000  - latest record from:  2022-12-16 12:45:59 65 days ago\n",
      "iterations:  814 Lines skipped:  814000 records collected:  1000  - latest recordID:  addCollateral   0xfe699cd2ba2b23392813283cf1d50c43db9ed094dedc3003f84a9bc8012fc5c0  - actions DB length:  815000  - latest record from:  2022-12-16 12:45:59 65 days ago\n",
      "iterations:  815 Lines skipped:  815000 records collected:  1000  - latest recordID:  borrowAsset   0x70031de3f701a9ac2d57f53fc400f51a6918cc09a037be8a563129923742a22b  - actions DB length:  816000  - latest record from:  2022-12-16 12:38:47 65 days ago\n",
      "iterations:  816 Lines skipped:  816000 records collected:  1000  - latest recordID:  repayAsset   0x223c28311f1a5960acfac61084388304287c997a6a5ce8afe439dd1f3f0bc3ad  - actions DB length:  817000  - latest record from:  2022-12-16 12:29:59 65 days ago\n",
      "iterations:  817 Lines skipped:  817000 records collected:  1000  - latest recordID:  removeCollateral   0x0174fee4792718bba39e21032495709b16a0a69d326dcffd90b6254b5d80cc99  - actions DB length:  818000  - latest record from:  2022-12-16 12:11:47 65 days ago\n",
      "iterations:  818 Lines skipped:  818000 records collected:  1000  - latest recordID:  borrowAsset   0x746ec0ab5c5b7dd3e0ae34cdfe5f4a0c668bfed1aec83ab71b7b3e5206e0315b+1  - actions DB length:  819000  - latest record from:  2022-12-16 11:56:59 65 days ago\n",
      "iterations:  819 Lines skipped:  819000 records collected:  1000  - latest recordID:  addCollateral   0x746ec0ab5c5b7dd3e0ae34cdfe5f4a0c668bfed1aec83ab71b7b3e5206e0315b  - actions DB length:  820000  - latest record from:  2022-12-16 11:56:59 65 days ago\n",
      "iterations:  820 Lines skipped:  820000 records collected:  1000  - latest recordID:  removeCollateral   0x9e2127611c544f0a039cf02e3215b1a9386122eabfc37a51c374493689417d2c  - actions DB length:  821000  - latest record from:  2022-12-16 11:55:23 65 days ago\n",
      "iterations:  821 Lines skipped:  821000 records collected:  1000  - latest recordID:  borrowAsset   0x3b19215815f770647d3dc58f46b288c52521fb9c5dba4968963efec1f57eff4a+1  - actions DB length:  822000  - latest record from:  2022-12-16 11:49:59 65 days ago\n",
      "iterations:  822 Lines skipped:  822000 records collected:  1000  - latest recordID:  addCollateral   0x3b19215815f770647d3dc58f46b288c52521fb9c5dba4968963efec1f57eff4a  - actions DB length:  823000  - latest record from:  2022-12-16 11:49:59 65 days ago\n",
      "iterations:  823 Lines skipped:  823000 records collected:  1000  - latest recordID:  borrowAsset   0x34b32f25104dc3ff1f73b424f4dd47b9ae520aa7ea6fa2342e905056363a8096+1  - actions DB length:  824000  - latest record from:  2022-12-16 11:38:23 65 days ago\n",
      "iterations:  824 Lines skipped:  824000 records collected:  1000  - latest recordID:  addCollateral   0x34b32f25104dc3ff1f73b424f4dd47b9ae520aa7ea6fa2342e905056363a8096  - actions DB length:  825000  - latest record from:  2022-12-16 11:38:23 65 days ago\n",
      "iterations:  825 Lines skipped:  825000 records collected:  1000  - latest recordID:  removeCollateral   0xbd38fb78f3d80b35eea7e709f7d05540a5e7dffb71144a11897307f8aaa27b89  - actions DB length:  826000  - latest record from:  2022-12-16 11:15:23 65 days ago\n",
      "iterations:  826 Lines skipped:  826000 records collected:  1000  - latest recordID:  borrowAsset   0xb756d3f20a4933253711c29af3733719925dcb4dad26ae3c408c8b26b60a336e+1  - actions DB length:  827000  - latest record from:  2022-12-16 11:03:47 65 days ago\n",
      "iterations:  827 Lines skipped:  827000 records collected:  1000  - latest recordID:  addCollateral   0xb756d3f20a4933253711c29af3733719925dcb4dad26ae3c408c8b26b60a336e  - actions DB length:  828000  - latest record from:  2022-12-16 11:03:47 65 days ago\n",
      "iterations:  828 Lines skipped:  828000 records collected:  1000  - latest recordID:  borrowAsset   0x117ff749d2618d289a02a226ddc6cbd25ea816f3fa074c644b3e99366cc17916+1  - actions DB length:  829000  - latest record from:  2022-12-16 09:56:23 65 days ago\n",
      "iterations:  829 Lines skipped:  829000 records collected:  1000  - latest recordID:  addCollateral   0x117ff749d2618d289a02a226ddc6cbd25ea816f3fa074c644b3e99366cc17916  - actions DB length:  830000  - latest record from:  2022-12-16 09:56:23 65 days ago\n",
      "iterations:  830 Lines skipped:  830000 records collected:  1000  - latest recordID:  borrowAsset   0x91ce97ab7feb2244dbbcc49a2bc94e8859c767eba7eb6dfc20f9ef039a715523  - actions DB length:  831000  - latest record from:  2022-12-16 09:53:35 65 days ago\n",
      "iterations:  831 Lines skipped:  831000 records collected:  1000  - latest recordID:  borrowAsset   0xbbaf3bbd990a4c2ca590bd50e4639fdef25fb0737d45e6cc5deb60d42b3b48cd+1  - actions DB length:  832000  - latest record from:  2022-12-16 09:53:11 65 days ago\n",
      "iterations:  832 Lines skipped:  832000 records collected:  1000  - latest recordID:  addCollateral   0xbbaf3bbd990a4c2ca590bd50e4639fdef25fb0737d45e6cc5deb60d42b3b48cd  - actions DB length:  833000  - latest record from:  2022-12-16 09:53:11 65 days ago\n",
      "iterations:  833 Lines skipped:  833000 records collected:  1000  - latest recordID:  borrowAsset   0x0622d462adf7b5db61999e4818580e948de56acee446a8fc57d62fc05510c4ed  - actions DB length:  834000  - latest record from:  2022-12-16 09:43:47 65 days ago\n",
      "iterations:  834 Lines skipped:  834000 records collected:  1000  - latest recordID:  borrowAsset   0x18bf6b141139c661c49a0be6c4463faf68ca115d7d38015efe1ddc61ecd6e7d5+1  - actions DB length:  835000  - latest record from:  2022-12-16 09:42:35 65 days ago\n",
      "iterations:  835 Lines skipped:  835000 records collected:  1000  - latest recordID:  addCollateral   0x18bf6b141139c661c49a0be6c4463faf68ca115d7d38015efe1ddc61ecd6e7d5  - actions DB length:  836000  - latest record from:  2022-12-16 09:42:35 65 days ago\n",
      "iterations:  836 Lines skipped:  836000 records collected:  1000  - latest recordID:  borrowAsset   0xb4770816c1e56db18f935570159021cb8f444677c79a3538f447935f78b65adb+1  - actions DB length:  837000  - latest record from:  2022-12-16 09:23:35 65 days ago\n",
      "iterations:  837 Lines skipped:  837000 records collected:  1000  - latest recordID:  addCollateral   0xb4770816c1e56db18f935570159021cb8f444677c79a3538f447935f78b65adb  - actions DB length:  838000  - latest record from:  2022-12-16 09:23:35 65 days ago\n",
      "iterations:  838 Lines skipped:  838000 records collected:  1000  - latest recordID:  borrowAsset   0xc4adfdffa24223615bad0b7da1c4f8b8b63c2be47998866cf1087b005334fb42+1  - actions DB length:  839000  - latest record from:  2022-12-16 09:08:59 65 days ago\n",
      "iterations:  839 Lines skipped:  839000 records collected:  1000  - latest recordID:  addCollateral   0xc4adfdffa24223615bad0b7da1c4f8b8b63c2be47998866cf1087b005334fb42  - actions DB length:  840000  - latest record from:  2022-12-16 09:08:59 65 days ago\n",
      "iterations:  840 Lines skipped:  840000 records collected:  1000  - latest recordID:  borrowAsset   0xf29e56a02fbb58fe2d31faffcbbbf1d2914ef4aee267daa1e9621229c3c352dc+1  - actions DB length:  841000  - latest record from:  2022-12-16 08:53:59 65 days ago\n",
      "iterations:  841 Lines skipped:  841000 records collected:  1000  - latest recordID:  addCollateral   0xf29e56a02fbb58fe2d31faffcbbbf1d2914ef4aee267daa1e9621229c3c352dc  - actions DB length:  842000  - latest record from:  2022-12-16 08:53:59 65 days ago\n",
      "iterations:  842 Lines skipped:  842000 records collected:  1000  - latest recordID:  removeCollateral   0x9fc79141c68c74624c40d7f265b03469bb351087f040d35939cf149058b69ee9  - actions DB length:  843000  - latest record from:  2022-12-16 06:24:47 65 days ago\n",
      "iterations:  843 Lines skipped:  843000 records collected:  1000  - latest recordID:  repayAsset   0x96a70a956a2de76d370e6a76676b9e4b1daf1d9dde2b0498aeeea99dde985d1c  - actions DB length:  844000  - latest record from:  2022-12-16 06:24:11 65 days ago\n",
      "iterations:  844 Lines skipped:  844000 records collected:  1000  - latest recordID:  repayAsset   0x8db3d76414ec6c4efaca8d59393c85c4d9f3f461743f70b29cd312b351c97c22  - actions DB length:  845000  - latest record from:  2022-12-16 06:23:35 65 days ago\n",
      "iterations:  845 Lines skipped:  845000 records collected:  1000  - latest recordID:  removeCollateral   0x9e6df83511869f0411adcc023319d247bd07fa56b287469c663c15af35710a4c  - actions DB length:  846000  - latest record from:  2022-12-16 06:19:59 65 days ago\n",
      "iterations:  846 Lines skipped:  846000 records collected:  1000  - latest recordID:  removeCollateral   0x233d2aed6a3cbd9716037a8fdabc5d11169ee0b46a2c16e3dabd47c3c49a52e8  - actions DB length:  847000  - latest record from:  2022-12-16 00:06:59 66 days ago\n",
      "iterations:  847 Lines skipped:  847000 records collected:  1000  - latest recordID:  removeCollateral   0xbd194e2a12127aa42d659d90601aec52e7483338d15d83e0da7bf3920cb3e6fd  - actions DB length:  848000  - latest record from:  2022-12-15 21:46:47 66 days ago\n",
      "iterations:  848 Lines skipped:  848000 records collected:  1000  - latest recordID:  removeCollateral   0x54c22f8eacb8cbf0e645bd5e13109cd49dd3a863ec9667f75650853b1cfec564  - actions DB length:  849000  - latest record from:  2022-12-15 18:23:59 66 days ago\n",
      "iterations:  849 Lines skipped:  849000 records collected:  1000  - latest recordID:  repayAsset   0x643663421422a657784a4170ee8099da5e788c7a5eb19eab83d3c67183b8dad5  - actions DB length:  850000  - latest record from:  2022-12-15 18:22:35 66 days ago\n",
      "iterations:  850 Lines skipped:  850000 records collected:  1000  - latest recordID:  borrowAsset   0x8982f5d960b7f69c52d9a5b39fa5ce2c16b734ccd8907a888f63af4951c64375+1  - actions DB length:  851000  - latest record from:  2022-12-15 14:03:47 66 days ago\n",
      "iterations:  851 Lines skipped:  851000 records collected:  1000  - latest recordID:  addCollateral   0x8982f5d960b7f69c52d9a5b39fa5ce2c16b734ccd8907a888f63af4951c64375  - actions DB length:  852000  - latest record from:  2022-12-15 14:03:47 66 days ago\n",
      "iterations:  852 Lines skipped:  852000 records collected:  1000  - latest recordID:  borrowAsset   0x0d2211ab696b80c95abfc4a9674049cc5ca962a655120fbda6ef625d92333fd1  - actions DB length:  853000  - latest record from:  2022-12-15 08:28:35 66 days ago\n",
      "iterations:  853 Lines skipped:  853000 records collected:  1000  - latest recordID:  borrowAsset   0x3d20d5e253293007f211016188313c552d53c8ca72f0c5daa089800a1abe3112+1  - actions DB length:  854000  - latest record from:  2022-12-15 00:33:47 67 days ago\n",
      "iterations:  854 Lines skipped:  854000 records collected:  1000  - latest recordID:  addCollateral   0x3d20d5e253293007f211016188313c552d53c8ca72f0c5daa089800a1abe3112  - actions DB length:  855000  - latest record from:  2022-12-15 00:33:47 67 days ago\n",
      "iterations:  855 Lines skipped:  855000 records collected:  1000  - latest recordID:  borrowAsset   0x0bea3fc3c00822365fbbf6e378be893b95120d8b7526ac922a6ad04c64c2ad42+1  - actions DB length:  856000  - latest record from:  2022-12-14 16:15:23 67 days ago\n",
      "iterations:  856 Lines skipped:  856000 records collected:  1000  - latest recordID:  addCollateral   0x0bea3fc3c00822365fbbf6e378be893b95120d8b7526ac922a6ad04c64c2ad42  - actions DB length:  857000  - latest record from:  2022-12-14 16:15:23 67 days ago\n",
      "iterations:  857 Lines skipped:  857000 records collected:  1000  - latest recordID:  repayAsset   0xd1f848b6a928e9b5d89324bf95d193fc00c77b38b6dd3729accf0647af972d2f  - actions DB length:  858000  - latest record from:  2022-12-14 15:16:59 67 days ago\n",
      "iterations:  858 Lines skipped:  858000 records collected:  1000  - latest recordID:  addCollateral   0x6cc843dc0b0b81ded1d62ce4c59897cecee8309a83e051e345928a448867e2af  - actions DB length:  859000  - latest record from:  2022-12-14 15:08:35 67 days ago\n",
      "iterations:  859 Lines skipped:  859000 records collected:  1000  - latest recordID:  borrowAsset   0xa983a16f6c1d80c3213e10db6ecaa110d5b2165694d51fe2d6df4222e38c261c  - actions DB length:  860000  - latest record from:  2022-12-14 14:59:35 67 days ago\n",
      "iterations:  860 Lines skipped:  860000 records collected:  1000  - latest recordID:  borrowAsset   0xa1adc9066c5b6ab4c3065cce6c7a4098192f39f97aebbd4a7133a0a586adcf1c  - actions DB length:  861000  - latest record from:  2022-12-14 14:53:35 67 days ago\n",
      "iterations:  861 Lines skipped:  861000 records collected:  1000  - latest recordID:  removeCollateral   0x67a3de6a34d0e5edaa93c1c07d5537441a64cbbfe9ba073a7937d439c1b3ecc5  - actions DB length:  862000  - latest record from:  2022-12-14 14:51:47 67 days ago\n",
      "iterations:  862 Lines skipped:  862000 records collected:  1000  - latest recordID:  addCollateral   0x23f49e3721317a4e60a900788bad4625b37c3fb8fd8c4330cbdffb01d3f3fc67  - actions DB length:  863000  - latest record from:  2022-12-14 14:36:23 67 days ago\n",
      "iterations:  863 Lines skipped:  863000 records collected:  1000  - latest recordID:  borrowAsset   0xaa47f11f14df79a8b9718e62143ef7dbefe21889ba1e3aa1ce35644b97d12f84+1  - actions DB length:  864000  - latest record from:  2022-12-14 07:54:11 67 days ago\n",
      "iterations:  864 Lines skipped:  864000 records collected:  1000  - latest recordID:  addCollateral   0xaa47f11f14df79a8b9718e62143ef7dbefe21889ba1e3aa1ce35644b97d12f84  - actions DB length:  865000  - latest record from:  2022-12-14 07:54:11 67 days ago\n",
      "iterations:  865 Lines skipped:  865000 records collected:  1000  - latest recordID:  borrowAsset   0x140dbdea0ac8786c4ecd99345367d5c1a9f5fda59292c1a78ded1281157c1bb2+1  - actions DB length:  866000  - latest record from:  2022-12-14 06:37:23 67 days ago\n",
      "iterations:  866 Lines skipped:  866000 records collected:  1000  - latest recordID:  addCollateral   0x140dbdea0ac8786c4ecd99345367d5c1a9f5fda59292c1a78ded1281157c1bb2  - actions DB length:  867000  - latest record from:  2022-12-14 06:37:23 67 days ago\n",
      "iterations:  867 Lines skipped:  867000 records collected:  1000  - latest recordID:  borrowAsset   0x888b9656f955829aaaf8701084acc235f0aff1f6c05d4f65b73e8e1098ce6f1c+1  - actions DB length:  868000  - latest record from:  2022-12-14 06:26:23 67 days ago\n",
      "iterations:  868 Lines skipped:  868000 records collected:  1000  - latest recordID:  addCollateral   0x888b9656f955829aaaf8701084acc235f0aff1f6c05d4f65b73e8e1098ce6f1c  - actions DB length:  869000  - latest record from:  2022-12-14 06:26:23 67 days ago\n",
      "iterations:  869 Lines skipped:  869000 records collected:  1000  - latest recordID:  removeCollateral   0x40233aa52e3941f9dafd424b7383928b429692cfed2f99cf587c18e13c9d8c38  - actions DB length:  870000  - latest record from:  2022-12-13 23:35:23 68 days ago\n",
      "iterations:  870 Lines skipped:  870000 records collected:  1000  - latest recordID:  removeCollateral   0x5aac72617384d627c5ac5461ff8afc4ba97f1fb0b6651abc4f2ddb5f5e882445  - actions DB length:  871000  - latest record from:  2022-12-13 18:07:11 68 days ago\n",
      "iterations:  871 Lines skipped:  871000 records collected:  1000  - latest recordID:  repayAsset   0xfa1a66a9fb6427312c2d047359c8fae1e94cde69af3e4abc571a9342a137d5ec  - actions DB length:  872000  - latest record from:  2022-12-13 18:06:35 68 days ago\n",
      "iterations:  872 Lines skipped:  872000 records collected:  1000  - latest recordID:  borrowAsset   0xad0ce9a287203cf80a9b5845f363bed71080c8d42a4128d31db1f1ff5fe0f6f7+1  - actions DB length:  873000  - latest record from:  2022-12-13 10:42:35 68 days ago\n",
      "iterations:  873 Lines skipped:  873000 records collected:  1000  - latest recordID:  addCollateral   0xad0ce9a287203cf80a9b5845f363bed71080c8d42a4128d31db1f1ff5fe0f6f7  - actions DB length:  874000  - latest record from:  2022-12-13 10:42:35 68 days ago\n",
      "iterations:  874 Lines skipped:  874000 records collected:  1000  - latest recordID:  borrowAsset   0x932eb934ac3dffd88373be003a29bfb2a6c058a23526cb3a32f5a6bfc412f18f+1  - actions DB length:  875000  - latest record from:  2022-12-13 07:06:23 68 days ago\n",
      "iterations:  875 Lines skipped:  875000 records collected:  1000  - latest recordID:  addCollateral   0x932eb934ac3dffd88373be003a29bfb2a6c058a23526cb3a32f5a6bfc412f18f  - actions DB length:  876000  - latest record from:  2022-12-13 07:06:23 68 days ago\n",
      "iterations:  876 Lines skipped:  876000 records collected:  1000  - latest recordID:  borrowAsset   0xeab5c258109dad23c2bac870caad513ecd7a9276236bd9dbdcf6749127919fa6  - actions DB length:  877000  - latest record from:  2022-12-13 06:14:11 68 days ago\n",
      "iterations:  877 Lines skipped:  877000 records collected:  1000  - latest recordID:  removeCollateral   0xcc1133fa8da5405518eaf9d4a7c8cd2dd97575305b04a82a22ebd9f4211f2be1  - actions DB length:  878000  - latest record from:  2022-12-13 01:47:47 69 days ago\n",
      "iterations:  878 Lines skipped:  878000 records collected:  1000  - latest recordID:  addCollateral   0x1f57677857a3e7cb39818c0c42d8d4912c5ef0f485b36ad71968cbc6c92041c9  - actions DB length:  879000  - latest record from:  2022-12-12 20:59:47 69 days ago\n",
      "iterations:  879 Lines skipped:  879000 records collected:  1000  - latest recordID:  borrowAsset   0x56a091abfc08a39e9b81a36c7211c25ba828925a6b821b0e58edcd5b940f1b39  - actions DB length:  880000  - latest record from:  2022-12-12 20:52:35 69 days ago\n",
      "iterations:  880 Lines skipped:  880000 records collected:  1000  - latest recordID:  borrowAsset   0xd6149f4c4aaf18d2b4942821f971610f1af6441435c69fe9e17ed9b36e5632c7  - actions DB length:  881000  - latest record from:  2022-12-12 20:51:35 69 days ago\n",
      "iterations:  881 Lines skipped:  881000 records collected:  1000  - latest recordID:  addCollateral   0xef4e5a2ddd4d5d4ae3a58d7bbdf4c3a520351365d1d0623907816133ebd70ba2  - actions DB length:  882000  - latest record from:  2022-12-12 16:44:35 69 days ago\n",
      "iterations:  882 Lines skipped:  882000 records collected:  1000  - latest recordID:  removeCollateral   0x5e22b0c04442549a8eb375abe32141dc9d9f342fde0e5415b2b192277e263e03  - actions DB length:  883000  - latest record from:  2022-12-12 12:24:59 69 days ago\n",
      "iterations:  883 Lines skipped:  883000 records collected:  1000  - latest recordID:  borrowAsset   0x83bd6a271c49046017bca05317ee9988b69e36603743c2079929328ad96886a9+1  - actions DB length:  884000  - latest record from:  2022-12-12 08:53:11 69 days ago\n",
      "iterations:  884 Lines skipped:  884000 records collected:  1000  - latest recordID:  addCollateral   0x83bd6a271c49046017bca05317ee9988b69e36603743c2079929328ad96886a9  - actions DB length:  885000  - latest record from:  2022-12-12 08:53:11 69 days ago\n",
      "iterations:  885 Lines skipped:  885000 records collected:  1000  - latest recordID:  removeCollateral   0xcbf224d52ecaf6c6871c684073cc9617167cbf91aa295fb51fa2854a6ef18275  - actions DB length:  886000  - latest record from:  2022-12-12 07:43:59 69 days ago\n",
      "iterations:  886 Lines skipped:  886000 records collected:  1000  - latest recordID:  repayAsset   0x0cc3fe176af61185679f7cfabe474caf5bab2d5de733281339d7bcbcac485c48  - actions DB length:  887000  - latest record from:  2022-12-12 07:43:35 69 days ago\n",
      "iterations:  887 Lines skipped:  887000 records collected:  1000  - latest recordID:  borrowAsset   0xc206d18cb4410eddd4ed586acf85ff263263989032eec8232d49f10ae8a40a7d+1  - actions DB length:  888000  - latest record from:  2022-12-12 07:25:47 69 days ago\n",
      "iterations:  888 Lines skipped:  888000 records collected:  1000  - latest recordID:  addCollateral   0xc206d18cb4410eddd4ed586acf85ff263263989032eec8232d49f10ae8a40a7d  - actions DB length:  889000  - latest record from:  2022-12-12 07:25:47 69 days ago\n",
      "iterations:  889 Lines skipped:  889000 records collected:  1000  - latest recordID:  removeCollateral   0x56a4718d4e2e2d1fa0b48a604272090a695b9d4d130035091e4cb49cb1a0572d  - actions DB length:  890000  - latest record from:  2022-12-12 07:16:23 69 days ago\n",
      "iterations:  890 Lines skipped:  890000 records collected:  1000  - latest recordID:  repayAsset   0xcd2330f7518b599ec4b6c1b4833443b074d4b3cbfc690c7464b2b4294d86ecb3  - actions DB length:  891000  - latest record from:  2022-12-12 07:15:35 69 days ago\n",
      "iterations:  891 Lines skipped:  891000 records collected:  1000  - latest recordID:  borrowAsset   0x398dc1eaee3afad6a69ae2ea2f5a29a77dbc0760f08b60225f2f9ba50c5459d2+1  - actions DB length:  892000  - latest record from:  2022-12-12 07:13:11 69 days ago\n",
      "iterations:  892 Lines skipped:  892000 records collected:  1000  - latest recordID:  addCollateral   0x398dc1eaee3afad6a69ae2ea2f5a29a77dbc0760f08b60225f2f9ba50c5459d2  - actions DB length:  893000  - latest record from:  2022-12-12 07:13:11 69 days ago\n",
      "iterations:  893 Lines skipped:  893000 records collected:  1000  - latest recordID:  borrowAsset   0xb4df3933564592db1b828c7b3110416ac803c3f84c1503f46e434c72e9469a03  - actions DB length:  894000  - latest record from:  2022-12-12 07:11:35 69 days ago\n",
      "iterations:  894 Lines skipped:  894000 records collected:  1000  - latest recordID:  addCollateral   0x5742c80573765f8a662bc997d1bffac793a06f21fe2020b7ea96e4287488be38  - actions DB length:  895000  - latest record from:  2022-12-12 05:57:11 69 days ago\n",
      "iterations:  895 Lines skipped:  895000 records collected:  1000  - latest recordID:  removeCollateral   0xd13478d2b27f5dc986ba9153b591a744ba499a13db55721bb378d85f6acdb835  - actions DB length:  896000  - latest record from:  2022-12-11 22:24:59 70 days ago\n",
      "iterations:  896 Lines skipped:  896000 records collected:  1000  - latest recordID:  repayAsset   0xcccf26dd313b2424d058a1787026475247d69dfa835a1389f8cc3ed9404fbdd9  - actions DB length:  897000  - latest record from:  2022-12-11 19:53:35 70 days ago\n",
      "iterations:  897 Lines skipped:  897000 records collected:  1000  - latest recordID:  borrowAsset   0x885c936024e7d626dbf3ad9db914745fc56cc8a4f433b8d6491e5feffed14dd8  - actions DB length:  898000  - latest record from:  2022-12-11 17:56:59 70 days ago\n",
      "iterations:  898 Lines skipped:  898000 records collected:  1000  - latest recordID:  borrowAsset   0x7a3535c7eaac8f6310cdf67d835ea7a79f46f6a307efbb428e441c19d232a0d6+1  - actions DB length:  899000  - latest record from:  2022-12-11 08:26:47 70 days ago\n",
      "iterations:  899 Lines skipped:  899000 records collected:  1000  - latest recordID:  addCollateral   0x7a3535c7eaac8f6310cdf67d835ea7a79f46f6a307efbb428e441c19d232a0d6  - actions DB length:  900000  - latest record from:  2022-12-11 08:26:47 70 days ago\n",
      "iterations:  900 Lines skipped:  900000 records collected:  1000  - latest recordID:  repayAsset   0xa55cee6523cac84ac4a79733a03ff8abfb7df9a4f6913a5de9d19276b2a3dff0  - actions DB length:  901000  - latest record from:  2022-12-11 07:48:23 70 days ago\n",
      "iterations:  901 Lines skipped:  901000 records collected:  1000  - latest recordID:  repayAsset   0x661de64255c31a32014a748c5241b4c2bb5663b903e039e3db3ac9f0223f0780  - actions DB length:  902000  - latest record from:  2022-12-10 14:11:47 71 days ago\n",
      "iterations:  902 Lines skipped:  902000 records collected:  1000  - latest recordID:  borrowAsset   0xc87d038ac80106685893dd608844e845df4760c54b76807889477a0504c36ea9+1  - actions DB length:  903000  - latest record from:  2022-12-10 12:20:35 71 days ago\n",
      "iterations:  903 Lines skipped:  903000 records collected:  1000  - latest recordID:  addCollateral   0xc87d038ac80106685893dd608844e845df4760c54b76807889477a0504c36ea9  - actions DB length:  904000  - latest record from:  2022-12-10 12:20:35 71 days ago\n",
      "iterations:  904 Lines skipped:  904000 records collected:  1000  - latest recordID:  borrowAsset   0x615c24e2bf6a9a6831726f28d0502f0e40f7fd024bad577e54f49be33c769941+1  - actions DB length:  905000  - latest record from:  2022-12-10 02:08:35 72 days ago\n",
      "iterations:  905 Lines skipped:  905000 records collected:  1000  - latest recordID:  addCollateral   0x615c24e2bf6a9a6831726f28d0502f0e40f7fd024bad577e54f49be33c769941  - actions DB length:  906000  - latest record from:  2022-12-10 02:08:35 72 days ago\n",
      "iterations:  906 Lines skipped:  906000 records collected:  1000  - latest recordID:  borrowAsset   0xc67af2f3b6472f2f8154c7229817d9df24f1f5558f8e193811852de118597e84+1  - actions DB length:  907000  - latest record from:  2022-12-10 00:05:47 72 days ago\n",
      "iterations:  907 Lines skipped:  907000 records collected:  1000  - latest recordID:  addCollateral   0xc67af2f3b6472f2f8154c7229817d9df24f1f5558f8e193811852de118597e84  - actions DB length:  908000  - latest record from:  2022-12-10 00:05:47 72 days ago\n",
      "iterations:  908 Lines skipped:  908000 records collected:  1000  - latest recordID:  borrowAsset   0xd0ed07353da62acfe3df9e6b1237850f1636619e25a140372efb90047f78395f+1  - actions DB length:  909000  - latest record from:  2022-12-09 13:19:59 72 days ago\n",
      "iterations:  909 Lines skipped:  909000 records collected:  1000  - latest recordID:  addCollateral   0xd0ed07353da62acfe3df9e6b1237850f1636619e25a140372efb90047f78395f  - actions DB length:  910000  - latest record from:  2022-12-09 13:19:59 72 days ago\n",
      "iterations:  910 Lines skipped:  910000 records collected:  1000  - latest recordID:  borrowAsset   0x4c34e5ac337c4ce5ad2dcf777712141249489b48eb8670c93e4d243553dbae72+1  - actions DB length:  911000  - latest record from:  2022-12-09 12:45:59 72 days ago\n",
      "iterations:  911 Lines skipped:  911000 records collected:  1000  - latest recordID:  addCollateral   0x4c34e5ac337c4ce5ad2dcf777712141249489b48eb8670c93e4d243553dbae72  - actions DB length:  912000  - latest record from:  2022-12-09 12:45:59 72 days ago\n",
      "iterations:  912 Lines skipped:  912000 records collected:  1000  - latest recordID:  borrowAsset   0xba48b347d69808a8c5b41761dc78d625880ee66299d7f5d4655d7d6e9a39a547  - actions DB length:  913000  - latest record from:  2022-12-09 12:34:11 72 days ago\n",
      "iterations:  913 Lines skipped:  913000 records collected:  1000  - latest recordID:  removeCollateral   0x54b7d565437ff2b3cebfd001878c195ea11be4916d68a22a33c2af0bd4ac461d  - actions DB length:  914000  - latest record from:  2022-12-09 11:32:35 72 days ago\n",
      "iterations:  914 Lines skipped:  914000 records collected:  1000  - latest recordID:  repayAsset   0x937214123a58c14448969e87e66cda52573b56fbe9d8b7d71c284f542afa1288  - actions DB length:  915000  - latest record from:  2022-12-09 11:31:59 72 days ago\n",
      "iterations:  915 Lines skipped:  915000 records collected:  1000  - latest recordID:  addCollateral   0xd07f169a47bb8b1a383884ddfd084cbc98e5ea9afdce5bfc8beb5b662a3ff007  - actions DB length:  916000  - latest record from:  2022-12-09 11:06:47 72 days ago\n",
      "iterations:  916 Lines skipped:  916000 records collected:  1000  - latest recordID:  removeCollateral   0x017e56348c877e164084780ac34f23e2bc38a5dd8c0f0c08df039279ab88870a  - actions DB length:  917000  - latest record from:  2022-12-09 11:02:11 72 days ago\n",
      "iterations:  917 Lines skipped:  917000 records collected:  1000  - latest recordID:  borrowAsset   0x754f2f8a5db615290def58afe5405b82097135d26a1f9b7ffc856d0081ea2ac7+1  - actions DB length:  918000  - latest record from:  2022-12-09 10:31:11 72 days ago\n",
      "iterations:  918 Lines skipped:  918000 records collected:  1000  - latest recordID:  addCollateral   0x754f2f8a5db615290def58afe5405b82097135d26a1f9b7ffc856d0081ea2ac7  - actions DB length:  919000  - latest record from:  2022-12-09 10:31:11 72 days ago\n",
      "iterations:  919 Lines skipped:  919000 records collected:  1000  - latest recordID:  borrowAsset   0x5513016fbe3985b59ef2c32d1d260923ea9d79a4d5d01d59fa108cb08200b018+1  - actions DB length:  920000  - latest record from:  2022-12-09 09:44:35 72 days ago\n",
      "iterations:  920 Lines skipped:  920000 records collected:  1000  - latest recordID:  addCollateral   0x5513016fbe3985b59ef2c32d1d260923ea9d79a4d5d01d59fa108cb08200b018  - actions DB length:  921000  - latest record from:  2022-12-09 09:44:35 72 days ago\n",
      "iterations:  921 Lines skipped:  921000 records collected:  1000  - latest recordID:  borrowAsset   0x0791494b7f8f924f0fd640e5f89253fc5684affc21bcf5735e951cb1b7b53504+1  - actions DB length:  922000  - latest record from:  2022-12-09 07:27:47 72 days ago\n",
      "iterations:  922 Lines skipped:  922000 records collected:  1000  - latest recordID:  addCollateral   0x0791494b7f8f924f0fd640e5f89253fc5684affc21bcf5735e951cb1b7b53504  - actions DB length:  923000  - latest record from:  2022-12-09 07:27:47 72 days ago\n",
      "iterations:  923 Lines skipped:  923000 records collected:  1000  - latest recordID:  borrowAsset   0x1d0c7b440c77fdd0e37de2a16658cad74e6bbe0958f5404838814e8686229e1b+1  - actions DB length:  924000  - latest record from:  2022-12-09 07:19:23 72 days ago\n",
      "iterations:  924 Lines skipped:  924000 records collected:  1000  - latest recordID:  addCollateral   0x1d0c7b440c77fdd0e37de2a16658cad74e6bbe0958f5404838814e8686229e1b  - actions DB length:  925000  - latest record from:  2022-12-09 07:19:23 72 days ago\n",
      "iterations:  925 Lines skipped:  925000 records collected:  1000  - latest recordID:  removeCollateral   0xf3b2fdcc9960af26553b365a549ca901bebdf6c40bfa5b96b7c57430f7246000  - actions DB length:  926000  - latest record from:  2022-12-08 13:37:11 73 days ago\n",
      "iterations:  926 Lines skipped:  926000 records collected:  1000  - latest recordID:  repayAsset   0x0b8cb4c74e3cc59ac61fe443b15f137007857547e1f35cc3666967322d369cd5  - actions DB length:  927000  - latest record from:  2022-12-08 13:36:35 73 days ago\n",
      "iterations:  927 Lines skipped:  927000 records collected:  1000  - latest recordID:  removeCollateral   0x9760a3e439343870456974b35a58b687c6e9e024a155bfee1166143e57e07c7d  - actions DB length:  928000  - latest record from:  2022-12-08 10:54:59 73 days ago\n",
      "iterations:  928 Lines skipped:  928000 records collected:  1000  - latest recordID:  repayAsset   0xcea3111ce3d6a691b896bbc6c8692c8f1fef9370a59178ac189a365fe99fe95f  - actions DB length:  929000  - latest record from:  2022-12-08 10:53:59 73 days ago\n",
      "iterations:  929 Lines skipped:  929000 records collected:  1000  - latest recordID:  borrowAsset   0x7d2b33644544a0b77cf77b1daa3156c4f3051925ab8c65237b37c8aa59b85511+1  - actions DB length:  930000  - latest record from:  2022-12-08 10:31:23 73 days ago\n",
      "iterations:  930 Lines skipped:  930000 records collected:  1000  - latest recordID:  addCollateral   0x7d2b33644544a0b77cf77b1daa3156c4f3051925ab8c65237b37c8aa59b85511  - actions DB length:  931000  - latest record from:  2022-12-08 10:31:23 73 days ago\n",
      "iterations:  931 Lines skipped:  931000 records collected:  1000  - latest recordID:  removeCollateral   0xd6db9fea449575172a8fbd80acb1d647d20d99efa9f2953738763c04a565394f  - actions DB length:  932000  - latest record from:  2022-12-08 10:21:23 73 days ago\n",
      "iterations:  932 Lines skipped:  932000 records collected:  1000  - latest recordID:  removeCollateral   0x9b149ead9a75193bd8d91bfc16fdb945322b4cb97923673f58415e5932e14556  - actions DB length:  933000  - latest record from:  2022-12-08 10:10:59 73 days ago\n",
      "iterations:  933 Lines skipped:  933000 records collected:  1000  - latest recordID:  repayAsset   0xe56144061c66654e75cad59a7deca3d483522f87d47131c7e7b7f3a5eda92e82  - actions DB length:  934000  - latest record from:  2022-12-08 10:09:11 73 days ago\n",
      "iterations:  934 Lines skipped:  934000 records collected:  1000  - latest recordID:  removeCollateral   0x2cbe8398c7d8ce800af3b30bd9b6078a215534d9906778b31f060d25d5c3e390  - actions DB length:  935000  - latest record from:  2022-12-08 10:02:47 73 days ago\n",
      "iterations:  935 Lines skipped:  935000 records collected:  1000  - latest recordID:  borrowAsset   0x99699218b0cf96a9e5c537e15c98e0116685d2ba878be7568a968863999699e8+1  - actions DB length:  936000  - latest record from:  2022-12-08 09:58:59 73 days ago\n",
      "iterations:  936 Lines skipped:  936000 records collected:  1000  - latest recordID:  addCollateral   0x99699218b0cf96a9e5c537e15c98e0116685d2ba878be7568a968863999699e8  - actions DB length:  937000  - latest record from:  2022-12-08 09:58:59 73 days ago\n",
      "iterations:  937 Lines skipped:  937000 records collected:  1000  - latest recordID:  borrowAsset   0x1b39b56c9a3d8bbb518f7ac73c0aac009b67312b4fe3da6fc6cdf5cd6a9c2f37+1  - actions DB length:  938000  - latest record from:  2022-12-08 06:33:47 73 days ago\n",
      "iterations:  938 Lines skipped:  938000 records collected:  1000  - latest recordID:  addCollateral   0x1b39b56c9a3d8bbb518f7ac73c0aac009b67312b4fe3da6fc6cdf5cd6a9c2f37  - actions DB length:  939000  - latest record from:  2022-12-08 06:33:47 73 days ago\n",
      "iterations:  939 Lines skipped:  939000 records collected:  1000  - latest recordID:  borrowAsset   0xa5136e8a86812aedd388308ffd70256a564a328c92f96f0f3b1c85967e8b6df7+1  - actions DB length:  940000  - latest record from:  2022-12-08 06:15:47 73 days ago\n",
      "iterations:  940 Lines skipped:  940000 records collected:  1000  - latest recordID:  addCollateral   0xa5136e8a86812aedd388308ffd70256a564a328c92f96f0f3b1c85967e8b6df7  - actions DB length:  941000  - latest record from:  2022-12-08 06:15:47 73 days ago\n",
      "iterations:  941 Lines skipped:  941000 records collected:  1000  - latest recordID:  borrowAsset   0x92ba805ae6dcefd92db921f07ee3db6185b5f3f0bc2cd2b57054b654396dd673  - actions DB length:  942000  - latest record from:  2022-12-08 06:11:11 73 days ago\n",
      "iterations:  942 Lines skipped:  942000 records collected:  1000  - latest recordID:  removeCollateral   0x46ec583d8ee56016161a34e8d5db4d085cb6e67236c1c3799bc10a5648b3a101  - actions DB length:  943000  - latest record from:  2022-12-08 02:38:35 74 days ago\n",
      "iterations:  943 Lines skipped:  943000 records collected:  1000  - latest recordID:  repayAsset   0xf45b2f89cb6e2f43f1218b884cb6b846b1a829837c3c8b08245bcad4bcf4b948  - actions DB length:  944000  - latest record from:  2022-12-08 02:37:35 74 days ago\n",
      "iterations:  944 Lines skipped:  944000 records collected:  1000  - latest recordID:  borrowAsset   0x0f35ecd09bb0f9477b097fdadf2cbac1d925817d7a818c37bfdbf5904a4db857  - actions DB length:  945000  - latest record from:  2022-12-07 18:54:11 74 days ago\n",
      "iterations:  945 Lines skipped:  945000 records collected:  1000  - latest recordID:  addCollateral   0x30e43fe7a2fbce1fe1c4c37be48af6ef8d30b86985907a5e692a5e6e0cf191a8  - actions DB length:  946000  - latest record from:  2022-12-07 18:50:11 74 days ago\n",
      "iterations:  946 Lines skipped:  946000 records collected:  1000  - latest recordID:  borrowAsset   0x87c9dbc2eaf7f477fe4a5f0f2b8cafe406325a57d8f1ce08fd25b6369d009b13  - actions DB length:  947000  - latest record from:  2022-12-07 18:00:59 74 days ago\n",
      "iterations:  947 Lines skipped:  947000 records collected:  1000  - latest recordID:  addCollateral   0xae482dc84dd081295133127b9e3af0edbf2323fb1325cd472072dc35c4519afd  - actions DB length:  948000  - latest record from:  2022-12-07 17:54:23 74 days ago\n",
      "iterations:  948 Lines skipped:  948000 records collected:  1000  - latest recordID:  borrowAsset   0x2df886edcc7a6ef24e2e17a64996e39946a26dbfa544872fc3423ef8d1dfd1f5  - actions DB length:  949000  - latest record from:  2022-12-07 17:47:59 74 days ago\n",
      "iterations:  949 Lines skipped:  949000 records collected:  1000  - latest recordID:  addCollateral   0x8371c9b639f5893a61770ea27ef6b57c0cc0a700c9d70a188c473f9e2123c27a  - actions DB length:  950000  - latest record from:  2022-12-07 17:46:23 74 days ago\n",
      "iterations:  950 Lines skipped:  950000 records collected:  1000  - latest recordID:  borrowAsset   0x4511ef54523bff47f7f8428916f6495f03ca1dafdf4d7019bd9d25653e86e201+1  - actions DB length:  951000  - latest record from:  2022-12-07 14:36:59 74 days ago\n",
      "iterations:  951 Lines skipped:  951000 records collected:  1000  - latest recordID:  addCollateral   0x4511ef54523bff47f7f8428916f6495f03ca1dafdf4d7019bd9d25653e86e201  - actions DB length:  952000  - latest record from:  2022-12-07 14:36:59 74 days ago\n",
      "iterations:  952 Lines skipped:  952000 records collected:  1000  - latest recordID:  borrowAsset   0x79de27a6307bd2008d4cc8be0e9b561f8686043db2e5db78b5a71e24b8342438+1  - actions DB length:  953000  - latest record from:  2022-12-07 14:34:35 74 days ago\n",
      "iterations:  953 Lines skipped:  953000 records collected:  1000  - latest recordID:  addCollateral   0x79de27a6307bd2008d4cc8be0e9b561f8686043db2e5db78b5a71e24b8342438  - actions DB length:  954000  - latest record from:  2022-12-07 14:34:35 74 days ago\n",
      "iterations:  954 Lines skipped:  954000 records collected:  1000  - latest recordID:  borrowAsset   0x9031076ddcfb9ebb96f546f6586fc259d438e532d0303c1c0eaf1a7a813d467a+1  - actions DB length:  955000  - latest record from:  2022-12-07 14:27:11 74 days ago\n",
      "iterations:  955 Lines skipped:  955000 records collected:  1000  - latest recordID:  addCollateral   0x9031076ddcfb9ebb96f546f6586fc259d438e532d0303c1c0eaf1a7a813d467a  - actions DB length:  956000  - latest record from:  2022-12-07 14:27:11 74 days ago\n",
      "iterations:  956 Lines skipped:  956000 records collected:  1000  - latest recordID:  borrowAsset   0x9a0743998add187e01821c304b5c28648d8b3084031830835db99744868e057c+1  - actions DB length:  957000  - latest record from:  2022-12-07 14:21:35 74 days ago\n",
      "iterations:  957 Lines skipped:  957000 records collected:  1000  - latest recordID:  addCollateral   0x9a0743998add187e01821c304b5c28648d8b3084031830835db99744868e057c  - actions DB length:  958000  - latest record from:  2022-12-07 14:21:35 74 days ago\n",
      "iterations:  958 Lines skipped:  958000 records collected:  1000  - latest recordID:  borrowAsset   0x106bff8e3f06a4941ba7f859df132889ba59b18c7f9cfc395dbbe1b94e0cef63  - actions DB length:  959000  - latest record from:  2022-12-06 22:47:11 75 days ago\n",
      "iterations:  959 Lines skipped:  959000 records collected:  1000  - latest recordID:  borrowAsset   0x7696018a9aab22aa02c30754f3d27f578812ab934579b288814f984747e5f784+1  - actions DB length:  960000  - latest record from:  2022-12-06 22:45:23 75 days ago\n",
      "iterations:  960 Lines skipped:  960000 records collected:  1000  - latest recordID:  addCollateral   0x7696018a9aab22aa02c30754f3d27f578812ab934579b288814f984747e5f784  - actions DB length:  961000  - latest record from:  2022-12-06 22:45:23 75 days ago\n",
      "iterations:  961 Lines skipped:  961000 records collected:  1000  - latest recordID:  borrowAsset   0x97fd100a759d87607e935cbc22155f864a841c95c5b935607c09d7ba5cd04c42  - actions DB length:  962000  - latest record from:  2022-12-06 21:42:47 75 days ago\n",
      "iterations:  962 Lines skipped:  962000 records collected:  1000  - latest recordID:  removeCollateral   0x7b9a2342be17c168ae7ca8f2cc58809922eeb3dd23672ce5712dc096e299a6c7  - actions DB length:  963000  - latest record from:  2022-12-06 21:34:11 75 days ago\n",
      "iterations:  963 Lines skipped:  963000 records collected:  1000  - latest recordID:  repayAsset   0x4f2bde5cdbed59a5ab52109d4f6a2cc50bca497c584765f8a69120973912733b  - actions DB length:  964000  - latest record from:  2022-12-06 21:30:59 75 days ago\n",
      "iterations:  964 Lines skipped:  964000 records collected:  1000  - latest recordID:  borrowAsset   0xf191a0a04cea48a674c9cd0c3b26b83c7889636b927239b76b583db557c05ee4+1  - actions DB length:  965000  - latest record from:  2022-12-06 21:29:47 75 days ago\n",
      "iterations:  965 Lines skipped:  965000 records collected:  1000  - latest recordID:  addCollateral   0xf191a0a04cea48a674c9cd0c3b26b83c7889636b927239b76b583db557c05ee4  - actions DB length:  966000  - latest record from:  2022-12-06 21:29:47 75 days ago\n",
      "iterations:  966 Lines skipped:  966000 records collected:  1000  - latest recordID:  addCollateral   0x8102a97882da8f4b221f4ec2be8ef099930ad648f7c9651f5e13309038f965f6  - actions DB length:  967000  - latest record from:  2022-12-06 17:40:23 75 days ago\n",
      "iterations:  967 Lines skipped:  967000 records collected:  1000  - latest recordID:  borrowAsset   0xb462bea1ca7e0b269e4900d0d3e2cc869cbf4aa06be44f756bb54e00e1f241f4  - actions DB length:  968000  - latest record from:  2022-12-06 17:37:59 75 days ago\n",
      "iterations:  968 Lines skipped:  968000 records collected:  1000  - latest recordID:  addCollateral   0xec357b76da331649dd056bfbef662d93eb3856433a849594dc755c41704448c9  - actions DB length:  969000  - latest record from:  2022-12-06 17:28:59 75 days ago\n",
      "iterations:  969 Lines skipped:  969000 records collected:  1000  - latest recordID:  borrowAsset   0xd0d0cf1740f89fe58d4164c58fbeddc5fde066057e0f247d3045b735e803e9df+1  - actions DB length:  970000  - latest record from:  2022-12-06 17:24:35 75 days ago\n",
      "iterations:  970 Lines skipped:  970000 records collected:  1000  - latest recordID:  addCollateral   0xd0d0cf1740f89fe58d4164c58fbeddc5fde066057e0f247d3045b735e803e9df  - actions DB length:  971000  - latest record from:  2022-12-06 17:24:35 75 days ago\n",
      "iterations:  971 Lines skipped:  971000 records collected:  1000  - latest recordID:  repayAsset   0xe5a1acd97a02bfdaf83247268d3f4cf8fb1927f6f4e1f36cea055f0589ff9ec6  - actions DB length:  972000  - latest record from:  2022-12-06 09:12:47 75 days ago\n",
      "iterations:  972 Lines skipped:  972000 records collected:  1000  - latest recordID:  borrowAsset   0x5360d2e6fab79c326b036fae2a5ad980a54810a4b22616c763607f834a4d5b06+1  - actions DB length:  973000  - latest record from:  2022-12-05 19:32:47 76 days ago\n",
      "iterations:  973 Lines skipped:  973000 records collected:  1000  - latest recordID:  addCollateral   0x5360d2e6fab79c326b036fae2a5ad980a54810a4b22616c763607f834a4d5b06  - actions DB length:  974000  - latest record from:  2022-12-05 19:32:47 76 days ago\n",
      "iterations:  974 Lines skipped:  974000 records collected:  1000  - latest recordID:  borrowAsset   0x2fd45750b9ea404a840d30b08e79d81da7340825bb8f96829b4b710fcb68a20e  - actions DB length:  975000  - latest record from:  2022-12-05 19:31:23 76 days ago\n",
      "iterations:  975 Lines skipped:  975000 records collected:  1000  - latest recordID:  borrowAsset   0xd6b895e00ec5fce28d3a79f21b402938d3324fe17584bb125fa6b367a981a0cb  - actions DB length:  976000  - latest record from:  2022-12-05 11:18:11 76 days ago\n",
      "iterations:  976 Lines skipped:  976000 records collected:  1000  - latest recordID:  borrowAsset   0x7909adedb4e6d3d60d18a31952d33ffbf9371aaa5199a53c76c88b42135d3fc6  - actions DB length:  977000  - latest record from:  2022-12-05 07:58:35 76 days ago\n",
      "iterations:  977 Lines skipped:  977000 records collected:  1000  - latest recordID:  addCollateral   0x638b3404601f75389eca0e1c497f50bc18047ff28ac70c06475e89f8e4c7980e  - actions DB length:  978000  - latest record from:  2022-12-05 07:57:35 76 days ago\n",
      "iterations:  978 Lines skipped:  978000 records collected:  1000  - latest recordID:  borrowAsset   0x6614db0b6d44535707f1f5edf572ec422dca720f35b7409164296f434e723bfb+1  - actions DB length:  979000  - latest record from:  2022-12-05 07:38:11 76 days ago\n",
      "iterations:  979 Lines skipped:  979000 records collected:  1000  - latest recordID:  addCollateral   0x6614db0b6d44535707f1f5edf572ec422dca720f35b7409164296f434e723bfb  - actions DB length:  980000  - latest record from:  2022-12-05 07:38:11 76 days ago\n",
      "iterations:  980 Lines skipped:  980000 records collected:  1000  - latest recordID:  borrowAsset   0x50e746b664a65b0b12187f0ed3d66e88cacdd37ae3a782e573f613f80cfad36d+1  - actions DB length:  981000  - latest record from:  2022-12-05 07:34:23 76 days ago\n",
      "iterations:  981 Lines skipped:  981000 records collected:  1000  - latest recordID:  addCollateral   0x50e746b664a65b0b12187f0ed3d66e88cacdd37ae3a782e573f613f80cfad36d  - actions DB length:  982000  - latest record from:  2022-12-05 07:34:23 76 days ago\n",
      "iterations:  982 Lines skipped:  982000 records collected:  1000  - latest recordID:  addCollateral   0x97a177d8ca264061b42a3c64764872a289fd0e33d07a1692e3c49e56417d6e41  - actions DB length:  983000  - latest record from:  2022-12-05 00:42:59 77 days ago\n",
      "iterations:  983 Lines skipped:  983000 records collected:  1000  - latest recordID:  removeCollateral   0x39b1698e37c5ced6068114b3aed1fe9682d4ff44f06dd95613509727aa170329  - actions DB length:  984000  - latest record from:  2022-12-05 00:23:11 77 days ago\n",
      "iterations:  984 Lines skipped:  984000 records collected:  1000  - latest recordID:  repayAsset   0xa4bdb151c3de11687d288b59954f13f7945bf2aefc7ffd1719551affbd50fafa  - actions DB length:  985000  - latest record from:  2022-12-05 00:21:23 77 days ago\n",
      "iterations:  985 Lines skipped:  985000 records collected:  1000  - latest recordID:  removeCollateral   0x3c833904105990e492a2002f893f98fd1b17974d40d1291032d7d3be37b8a36c  - actions DB length:  986000  - latest record from:  2022-12-05 00:18:47 77 days ago\n",
      "iterations:  986 Lines skipped:  986000 records collected:  1000  - latest recordID:  repayAsset   0x7d7fb41fb2cf6ac3bcf81542b11587b7d2eebd3b5895cc715b01461381e02a8e  - actions DB length:  987000  - latest record from:  2022-12-05 00:17:23 77 days ago\n",
      "iterations:  987 Lines skipped:  987000 records collected:  1000  - latest recordID:  removeCollateral   0x4da6fbc531bc7fcb75cf4f10ab004a02e2c637044b1847b2a4a03521f48f68cf  - actions DB length:  988000  - latest record from:  2022-12-05 00:14:11 77 days ago\n",
      "iterations:  988 Lines skipped:  988000 records collected:  1000  - latest recordID:  repayAsset   0x6de18f92647eef6f20abc7f3c78e84d7cd90ed88a1dc2ca327656e9ec7cbb6f1  - actions DB length:  989000  - latest record from:  2022-12-05 00:13:35 77 days ago\n",
      "iterations:  989 Lines skipped:  989000 records collected:  1000  - latest recordID:  removeCollateral   0xf5c94dd51d76fd99011a94057092898994c7a53affb004f39c6ddcda99561647  - actions DB length:  990000  - latest record from:  2022-12-05 00:09:35 77 days ago\n",
      "iterations:  990 Lines skipped:  990000 records collected:  1000  - latest recordID:  borrowAsset   0x8f0a6499139b78990c4491905e5a5d7351c2d00ee4f39bb8cb39ed4967ce2a09  - actions DB length:  991000  - latest record from:  2022-12-04 23:56:35 77 days ago\n",
      "iterations:  991 Lines skipped:  991000 records collected:  1000  - latest recordID:  addCollateral   0x448f3d9b3d423a3250f6a01e7e243a55b0adb89c0119e22aeaca1ad63891d75a  - actions DB length:  992000  - latest record from:  2022-12-04 23:55:35 77 days ago\n",
      "iterations:  992 Lines skipped:  992000 records collected:  1000  - latest recordID:  borrowAsset   0x4c208b6d02c32cd683a82fd4eafe63fb05e848528e70974f7bbc900ac4ce6b35  - actions DB length:  993000  - latest record from:  2022-12-04 19:12:59 77 days ago\n",
      "iterations:  993 Lines skipped:  993000 records collected:  1000  - latest recordID:  borrowAsset   0x3ee4a9ec901ef2eca3503aaa33817f3c9a97a5726a4dcace7cf5be932c492112  - actions DB length:  994000  - latest record from:  2022-12-04 19:11:47 77 days ago\n",
      "iterations:  994 Lines skipped:  994000 records collected:  1000  - latest recordID:  addCollateral   0xd0de210e6724178599f45fda0bd06d7fcac6e8d587f02801a6d4ccbb54f60421  - actions DB length:  995000  - latest record from:  2022-12-04 19:10:35 77 days ago\n",
      "iterations:  995 Lines skipped:  995000 records collected:  1000  - latest recordID:  borrowAsset   0x39003c14500ed2c34fdc8b74fd67ce93b94f41c9780890aa06d64b7c526a4290+1  - actions DB length:  996000  - latest record from:  2022-12-04 17:59:11 77 days ago\n",
      "iterations:  996 Lines skipped:  996000 records collected:  1000  - latest recordID:  addCollateral   0x39003c14500ed2c34fdc8b74fd67ce93b94f41c9780890aa06d64b7c526a4290  - actions DB length:  997000  - latest record from:  2022-12-04 17:59:11 77 days ago\n",
      "iterations:  997 Lines skipped:  997000 records collected:  1000  - latest recordID:  borrowAsset   0xab8d4475df0a60afeac7d97c4c028a9cefc4e2bec8480685f4389580d1983ca5+1  - actions DB length:  998000  - latest record from:  2022-12-04 15:12:59 77 days ago\n",
      "iterations:  998 Lines skipped:  998000 records collected:  1000  - latest recordID:  addCollateral   0xab8d4475df0a60afeac7d97c4c028a9cefc4e2bec8480685f4389580d1983ca5  - actions DB length:  999000  - latest record from:  2022-12-04 15:12:59 77 days ago\n",
      "iterations:  999 Lines skipped:  999000 records collected:  1000  - latest recordID:  borrowAsset   0xa19cf5d52d53f86e77251855b198a77d0231a9828853c5c917252bd309c63647  - actions DB length:  1000000  - latest record from:  2022-12-04 15:11:23 77 days ago\n",
      "iterations:  1000 Lines skipped:  1000000 records collected:  1000  - latest recordID:  borrowAsset   0x374e4347a5abad8ebf70cbb9fde86005a3bfbeaeee444981120505b2e49f050d  - actions DB length:  1001000  - latest record from:  2023-02-19 19:57:11 0 days ago\n",
      "iterations:  1001 Lines skipped:  1001000 records collected:  1000  - latest recordID:  borrowAsset   0x4c7cd0a0fe188a8049ac8c28269d52106804986dfb9956dd84e7206633b56fd4+1  - actions DB length:  1002000  - latest record from:  2023-02-19 17:26:35 0 days ago\n",
      "iterations:  1002 Lines skipped:  1002000 records collected:  1000  - latest recordID:  addCollateral   0x4c7cd0a0fe188a8049ac8c28269d52106804986dfb9956dd84e7206633b56fd4  - actions DB length:  1003000  - latest record from:  2023-02-19 17:26:35 0 days ago\n",
      "iterations:  1003 Lines skipped:  1003000 records collected:  1000  - latest recordID:  borrowAsset   0xbea1383c97aff27bcf1cbe8f19ba3938e16a0f04b45fed6f9ad8f4a70acc7def+1  - actions DB length:  1004000  - latest record from:  2023-02-19 12:16:23 0 days ago\n",
      "iterations:  1004 Lines skipped:  1004000 records collected:  1000  - latest recordID:  addCollateral   0xbea1383c97aff27bcf1cbe8f19ba3938e16a0f04b45fed6f9ad8f4a70acc7def  - actions DB length:  1005000  - latest record from:  2023-02-19 12:16:23 0 days ago\n",
      "iterations:  1005 Lines skipped:  1005000 records collected:  1000  - latest recordID:  borrowAsset   0x15f93b52199fd785e5e2423777b99e80b93b5ac0ea6f8bdd041d08ad1e925da4  - actions DB length:  1006000  - latest record from:  2023-02-19 08:12:23 0 days ago\n",
      "iterations:  1006 Lines skipped:  1006000 records collected:  1000  - latest recordID:  borrowAsset   0x634c74994952e29a5c2a5cc59251aece8937130cdd40d9e26768e337541be328  - actions DB length:  1007000  - latest record from:  2023-02-19 06:25:11 0 days ago\n",
      "iterations:  1007 Lines skipped:  1007000 records collected:  1000  - latest recordID:  borrowAsset   0x0ae9fafdbef4514be9b8310a7ee390fdd6151f6cba75505d102dce3f5b086ce8  - actions DB length:  1008000  - latest record from:  2023-02-19 05:40:35 0 days ago\n",
      "iterations:  1008 Lines skipped:  1008000 records collected:  1000  - latest recordID:  borrowAsset   0x124321323deb9a40fb2b53dd0db56d0f6fee470a4d946bc67a500da94771e7b0  - actions DB length:  1009000  - latest record from:  2023-02-18 20:40:47 1 days ago\n",
      "iterations:  1009 Lines skipped:  1009000 records collected:  1000  - latest recordID:  removeAsset   0x35cf7d8156372112e5c94859a3c164cecd5acb2e717dc961cf3245ffd62c9bcb  - actions DB length:  1010000  - latest record from:  2023-02-18 16:41:47 1 days ago\n",
      "iterations:  1010 Lines skipped:  1010000 records collected:  1000  - latest recordID:  borrowAsset   0x949c6939bd5519c5d3a3ec190a66a8523940ea62125504bcb8543d431a603026+1  - actions DB length:  1011000  - latest record from:  2023-02-18 14:49:59 1 days ago\n",
      "iterations:  1011 Lines skipped:  1011000 records collected:  1000  - latest recordID:  addCollateral   0x949c6939bd5519c5d3a3ec190a66a8523940ea62125504bcb8543d431a603026  - actions DB length:  1012000  - latest record from:  2023-02-18 14:49:59 1 days ago\n",
      "iterations:  1012 Lines skipped:  1012000 records collected:  1000  - latest recordID:  addAsset   0x430294fc7c74f812cf91b43a162abcc456dfbb12fe8cd72d3261bc8dc74ced03  - actions DB length:  1013000  - latest record from:  2023-02-18 11:20:35 1 days ago\n",
      "iterations:  1013 Lines skipped:  1013000 records collected:  1000  - latest recordID:  removeAsset   0x3c2e7c29d3beabb113328bc307bd8887b480eac465fbe886c18b4171e94e9bef  - actions DB length:  1014000  - latest record from:  2023-02-18 07:23:35 1 days ago\n",
      "iterations:  1014 Lines skipped:  1014000 records collected:  1000  - latest recordID:  borrowAsset   0x2df96f85334a360e1323b3e2d4dcc3f907f2102309e112ea9d52132074eb4a38  - actions DB length:  1015000  - latest record from:  2023-02-18 04:23:59 2 days ago\n",
      "iterations:  1015 Lines skipped:  1015000 records collected:  1000  - latest recordID:  borrowAsset   0xb0b826b645c33f328cbfe6f9ebbf055371a547e87217f1a4facdd0eceb7ac6ae  - actions DB length:  1016000  - latest record from:  2023-02-18 01:04:23 2 days ago\n",
      "iterations:  1016 Lines skipped:  1016000 records collected:  1000  - latest recordID:  addCollateral   0xcc053235b8a6b731c51dbc5abb406021d9b96116e438ae76e8e828b2b7fbade5  - actions DB length:  1017000  - latest record from:  2023-02-18 01:03:23 2 days ago\n",
      "iterations:  1017 Lines skipped:  1017000 records collected:  1000  - latest recordID:  borrowAsset   0x978b51e8acef9d0cc2f70b79794e800c23ed7b0915f268a5ae5d11f84fa71b11  - actions DB length:  1018000  - latest record from:  2023-02-17 15:41:35 2 days ago\n",
      "iterations:  1018 Lines skipped:  1018000 records collected:  1000  - latest recordID:  borrowAsset   0xbd3dc2580148098c33de64ab5d8b9c53c2a62aedfadb389f6e4da0c8619033d3+1  - actions DB length:  1019000  - latest record from:  2023-02-17 12:54:11 2 days ago\n",
      "iterations:  1019 Lines skipped:  1019000 records collected:  1000  - latest recordID:  addCollateral   0xbd3dc2580148098c33de64ab5d8b9c53c2a62aedfadb389f6e4da0c8619033d3  - actions DB length:  1020000  - latest record from:  2023-02-17 12:54:11 2 days ago\n",
      "iterations:  1020 Lines skipped:  1020000 records collected:  1000  - latest recordID:  removeAsset   0xab2afc62785cd5e9e2dd310cd1b84ca742f33cc6a979cf43b1a5f3601e5b96c0  - actions DB length:  1021000  - latest record from:  2023-02-17 04:10:59 3 days ago\n",
      "iterations:  1021 Lines skipped:  1021000 records collected:  1000  - latest recordID:  borrowAsset   0x8ee4b2c2631549768e73d5b47b7755715c06063dba9dfd8be35f5b2ab81cf4c6  - actions DB length:  1022000  - latest record from:  2023-02-17 03:44:59 3 days ago\n",
      "iterations:  1022 Lines skipped:  1022000 records collected:  1000  - latest recordID:  borrowAsset   0x41c98727ed46b57cee2bdc6d552d733cbe9a43a02fef9f5252f1f0e95bac5dd0  - actions DB length:  1023000  - latest record from:  2023-02-16 16:48:47 3 days ago\n",
      "iterations:  1023 Lines skipped:  1023000 records collected:  1000  - latest recordID:  repayAsset   0xc84158cfb0de12eb6da22f0e9f373de223e81cbb2901507cf3a5375e461699d5  - actions DB length:  1024000  - latest record from:  2023-02-16 15:49:11 3 days ago\n",
      "iterations:  1024 Lines skipped:  1024000 records collected:  1000  - latest recordID:  borrowAsset   0x0dcc234aa537f7245de13296bd9f19b031cb0d60d942609ef7507d8a175ace9c+1  - actions DB length:  1025000  - latest record from:  2023-02-16 15:28:23 3 days ago\n",
      "iterations:  1025 Lines skipped:  1025000 records collected:  1000  - latest recordID:  addCollateral   0x0dcc234aa537f7245de13296bd9f19b031cb0d60d942609ef7507d8a175ace9c  - actions DB length:  1026000  - latest record from:  2023-02-16 15:28:23 3 days ago\n",
      "iterations:  1026 Lines skipped:  1026000 records collected:  1000  - latest recordID:  removeCollateral   0xa43b5cafe8fa36b170da2572f2d81f10005edec53721837caec383393861bf36  - actions DB length:  1027000  - latest record from:  2023-02-16 15:16:11 3 days ago\n",
      "iterations:  1027 Lines skipped:  1027000 records collected:  1000  - latest recordID:  repayAsset   0xcfc1e4017009147238d042380cebf72824c49cf03523246e181a6bc5e940da23  - actions DB length:  1028000  - latest record from:  2023-02-16 13:46:59 3 days ago\n",
      "iterations:  1028 Lines skipped:  1028000 records collected:  1000  - latest recordID:  removeCollateral   0x26cce8d6cb5173fd5d3feac628ecbba1c1de437b7bdb3ab48b82f8090c92aaee  - actions DB length:  1029000  - latest record from:  2023-02-16 13:29:23 3 days ago\n",
      "iterations:  1029 Lines skipped:  1029000 records collected:  1000  - latest recordID:  borrowAsset   0x795f1995f3ae71df4538b386f0eafd55e3da0c016f1efe2830a0a57c526a79f0+1  - actions DB length:  1030000  - latest record from:  2023-02-16 13:18:59 3 days ago\n",
      "iterations:  1030 Lines skipped:  1030000 records collected:  1000  - latest recordID:  addCollateral   0x795f1995f3ae71df4538b386f0eafd55e3da0c016f1efe2830a0a57c526a79f0  - actions DB length:  1031000  - latest record from:  2023-02-16 13:18:59 3 days ago\n",
      "iterations:  1031 Lines skipped:  1031000 records collected:  1000  - latest recordID:  borrowAsset   0x6acb337f512c4350156321ddc7f55883445c3a9dcb68808b2af4446033d7bc0b  - actions DB length:  1032000  - latest record from:  2023-02-16 08:00:47 3 days ago\n",
      "iterations:  1032 Lines skipped:  1032000 records collected:  1000  - latest recordID:  addAsset   0x2c4f7526cbbd8e9b77c2bbe0f8d8b4115d9d294693fb21d41c1bfc9eb8050db9  - actions DB length:  1033000  - latest record from:  2023-02-16 02:39:35 4 days ago\n",
      "iterations:  1033 Lines skipped:  1033000 records collected:  1000  - latest recordID:  borrowAsset   0xc140539b65714620d05950bda8e5199da73b3c331a6449c7c87e85fead308410  - actions DB length:  1034000  - latest record from:  2023-02-15 16:30:35 4 days ago\n",
      "iterations:  1034 Lines skipped:  1034000 records collected:  1000  - latest recordID:  repayAsset   0x74bf51475fa3f20f517da02d7fc395208fbec29169102fced0ef56e3485c33e0  - actions DB length:  1035000  - latest record from:  2023-02-15 14:43:35 4 days ago\n",
      "iterations:  1035 Lines skipped:  1035000 records collected:  1000  - latest recordID:  borrowAsset   0xa267cba21533795e1badd0de59cf721cfc4fbc780a846839a57b2c32bd220bc8  - actions DB length:  1036000  - latest record from:  2023-02-15 13:54:23 4 days ago\n",
      "iterations:  1036 Lines skipped:  1036000 records collected:  1000  - latest recordID:  borrowAsset   0xf0abbeb0520833ee6b88c3b993a6a16e65cab6fd44031f4c0b1f2de4b65834f4  - actions DB length:  1037000  - latest record from:  2023-02-15 12:59:47 4 days ago\n",
      "iterations:  1037 Lines skipped:  1037000 records collected:  1000  - latest recordID:  addAsset   0xd66563d2e3a2603326bfc72b6ef556a7e33a949e0ad20a7da164da43f6f7cb2d  - actions DB length:  1038000  - latest record from:  2023-02-15 12:33:59 4 days ago\n"
     ]
    },
    {
     "ename": "KeyboardInterrupt",
     "evalue": "",
     "output_type": "error",
     "traceback": [
      "\u001B[1;31m---------------------------------------------------------------------------\u001B[0m",
      "\u001B[1;31mKeyboardInterrupt\u001B[0m                         Traceback (most recent call last)",
      "Input \u001B[1;32mIn [871]\u001B[0m, in \u001B[0;36m<cell line: 11>\u001B[1;34m()\u001B[0m\n\u001B[0;32m     42\u001B[0m actions\u001B[38;5;241m.\u001B[39msort_values(by\u001B[38;5;241m=\u001B[39m[\u001B[38;5;124m'\u001B[39m\u001B[38;5;124mactions_timestamp\u001B[39m\u001B[38;5;124m'\u001B[39m])\n\u001B[0;32m     44\u001B[0m actionsDb\u001B[38;5;241m=\u001B[39mpd\u001B[38;5;241m.\u001B[39mconcat([actionsDb, actions])\n\u001B[1;32m---> 45\u001B[0m recordTimestamp1 \u001B[38;5;241m=\u001B[39m \u001B[43mactionsDb\u001B[49m\u001B[38;5;241;43m.\u001B[39;49m\u001B[43miat\u001B[49m[actionTicker,\u001B[38;5;241m3\u001B[39m]\n\u001B[0;32m     46\u001B[0m recordTimestamp \u001B[38;5;241m=\u001B[39m dt\u001B[38;5;241m.\u001B[39mdatetime\u001B[38;5;241m.\u001B[39mfromtimestamp( recordTimestamp1 )\n\u001B[0;32m     47\u001B[0m now \u001B[38;5;241m=\u001B[39m (\u001B[38;5;28mint\u001B[39m(dt\u001B[38;5;241m.\u001B[39mdatetime\u001B[38;5;241m.\u001B[39mutcnow()\u001B[38;5;241m.\u001B[39mtimestamp()))\n",
      "File \u001B[1;32m~\\PycharmProjects\\pythonProject\\venv\\lib\\site-packages\\pandas\\core\\indexing.py:622\u001B[0m, in \u001B[0;36mIndexingMixin.iat\u001B[1;34m(self)\u001B[0m\n\u001B[0;32m    576\u001B[0m \u001B[38;5;129m@property\u001B[39m\n\u001B[0;32m    577\u001B[0m \u001B[38;5;28;01mdef\u001B[39;00m \u001B[38;5;21miat\u001B[39m(\u001B[38;5;28mself\u001B[39m) \u001B[38;5;241m-\u001B[39m\u001B[38;5;241m>\u001B[39m _iAtIndexer:\n\u001B[0;32m    578\u001B[0m     \u001B[38;5;124;03m\"\"\"\u001B[39;00m\n\u001B[0;32m    579\u001B[0m \u001B[38;5;124;03m    Access a single value for a row/column pair by integer position.\u001B[39;00m\n\u001B[0;32m    580\u001B[0m \n\u001B[1;32m   (...)\u001B[0m\n\u001B[0;32m    620\u001B[0m \u001B[38;5;124;03m    2\u001B[39;00m\n\u001B[0;32m    621\u001B[0m \u001B[38;5;124;03m    \"\"\"\u001B[39;00m\n\u001B[1;32m--> 622\u001B[0m     \u001B[38;5;28;01mreturn\u001B[39;00m \u001B[43m_iAtIndexer\u001B[49m\u001B[43m(\u001B[49m\u001B[38;5;124;43m\"\u001B[39;49m\u001B[38;5;124;43miat\u001B[39;49m\u001B[38;5;124;43m\"\u001B[39;49m\u001B[43m,\u001B[49m\u001B[43m \u001B[49m\u001B[38;5;28;43mself\u001B[39;49m\u001B[43m)\u001B[49m\n",
      "\u001B[1;31mKeyboardInterrupt\u001B[0m: "
     ]
    }
   ],
   "source": [
    "actionListLength=0\n",
    "actionTicker = 0\n",
    "fraxUsersDb = pd.DataFrame()\n",
    "actionsDb = pd.DataFrame()\n",
    "actionListLength = 1000\n",
    "datediff = 0\n",
    "now=0\n",
    "daysAgo=0\n",
    "daysLimit = 45\n",
    "exit = False\n",
    "while exit==False:\n",
    "    #listLength=0\n",
    "    skipValue = (actionTicker)*(1000)\n",
    "    actionsQuery = frax.Query.actions(\n",
    "         orderBy='timestamp'\n",
    "        ,orderDirection='desc'\n",
    "        ,first=1000\n",
    "        ,skipValue = skipValue\n",
    "        #,where = [frax.Query.actions.token.id == '0x66bf36dba79d4606039f04b32946a260bcd3ff52']\n",
    "        ,where={ 'pair': '0x66bf36dba79d4606039f04b32946a260bcd3ff52'\n",
    "                 ,'timestamp_gte': maxBorrowFraxTimestamp\n",
    "                 }\n",
    "        #,where = {'positions.pairid':'0x66bf36dba79d4606039f04b32946a260bcd3ff52'}\n",
    "    #{'users_positions_pair_id':'0x66bf36dba79d4606039f04b32946a260bcd3ff52'}\n",
    "\n",
    "    )\n",
    "    actions= sg.query_df([\n",
    "        actionsQuery.id\n",
    "        ,actionsQuery.type\n",
    "        ,actionsQuery.amount\n",
    "        ,actionsQuery.timestamp\n",
    "        ,actionsQuery.block\n",
    "        ,actionsQuery.token.name\n",
    "        ,actionsQuery.root.address\n",
    "        ,actionsQuery.pair.asset.symbol\n",
    "        ,actionsQuery.pair.asset.decimals\n",
    "        ,actionsQuery.pair.collateral.symbol\n",
    "        ,actionsQuery.pair.collateral.decimals\n",
    "        ]\n",
    "    )\n",
    "\n",
    "    actions.sort_values(by=['actions_timestamp'])\n",
    "\n",
    "    actionsDb=pd.concat([actionsDb, actions])\n",
    "    recordTimestamp1 = actionsDb.iat[actionTicker,3]\n",
    "    recordTimestamp = dt.datetime.fromtimestamp( recordTimestamp1 )\n",
    "    now = (int(dt.datetime.utcnow().timestamp()))\n",
    "    datediff=abs(int(now) - recordTimestamp1)\n",
    "    daysAgo = int(datediff/86400)\n",
    "    actionsDbLength = len(actionsDb)\n",
    "    actionListLength = len(actions)\n",
    "    recordID = actionsDb.iat[actionTicker,0]\n",
    "    action = actionsDb.iat[actionTicker,1]\n",
    "    print(\"iterations: \", actionTicker, \"Lines skipped: \",skipValue, \"records collected: \", actionListLength, \" - latest recordID: \",action, \" \", recordID , \" - actions DB length: \", actionsDbLength, \" - latest record from: \", recordTimestamp, daysAgo,\"days ago\")\n",
    "    #print(\"iterations: \", actionTicker, \"records collected: \", actionListLength, \" - userdb length: \", actionsDbLength)\n",
    "    if daysAgo>daysLimit: exit =True\n",
    "    if actionListLength<1000: exit =True\n",
    "    actionTicker = actionTicker+1\n",
    "actionsDb['DateTime']=(pd.to_datetime(actionsDb['actions_timestamp'],unit='s'))\n",
    "print(\"Done. Total Records collected: \", actionsDbLength)"
   ],
   "metadata": {
    "collapsed": false
   }
  },
  {
   "cell_type": "code",
   "execution_count": null,
   "outputs": [],
   "source": [
    "actionsDb['transactionReadableAmount'] = actionsDb['actions_amount']/(10**(actionsDb['actions_pair_asset_decimals']))\n",
    "actionsDb['transactionReadableAmount']=actionsDb['transactionReadableAmount'].astype('float')\n",
    "actionsDb['dateTime'] =(pd.to_datetime(actionsDb['actions_timestamp'],unit='s'))\n",
    "actionsDb.head(2000)"
   ],
   "metadata": {
    "collapsed": false
   }
  },
  {
   "cell_type": "code",
   "execution_count": null,
   "outputs": [],
   "source": [
    "fraxActionsDb= pd.DataFrame()\n",
    "fraxActionsDb =pd.concat([actionsDb, oldFraxActions])\n",
    "fraxActionsDb.head(1000)"
   ],
   "metadata": {
    "collapsed": false
   }
  },
  {
   "cell_type": "code",
   "execution_count": null,
   "outputs": [],
   "source": [
    "fraxActionsDbTimedLength = len(fraxActionsDbTimed)\n",
    "path =file+'/frax_borrows.csv'\n",
    "fraxActionsDbTimed.to_csv(path, index = False)\n",
    "\n",
    "path =file+'/frax_borrows_piped.csv'\n",
    "fraxActionsDbTimed.to_csv(path, index = False, sep='|')\n",
    "\n",
    "print(path, 'file saved,', fraxActionsDbTimedLength,' records at', (dt.datetime.now()) )\n"
   ],
   "metadata": {
    "collapsed": false
   }
  },
  {
   "cell_type": "code",
   "execution_count": 786,
   "outputs": [],
   "source": [
    "#we might as well create all the DBs here and save ourselves time and grief\n",
    "fraxBorrowsDbTimed = db.query(\"Select distinct * from actionsDb where actions_type = 'borrowAsset' and actions_pair_collateral_symbol= 'gOHM' and right(actions_id,2)<>'+1' \").df()\n",
    "\n",
    "\n",
    "fraxDepositsDbTimed =fraxBorrows = db.query(\"Select distinct * from actionsDb where actions_type = 'addCollateral' and actions_pair_collateral_symbol= 'gOHM' and right(actions_id,2)<>'+1' \").df()\n",
    "\n",
    "\n",
    "fraxWithdrawsDbTimed = db.query(\"Select distinct * from actionsDb where actions_type = 'removeCollateral' and actions_pair_collateral_symbol= 'gOHM' and right(actions_id,2)<>'+1' \").df()"
   ],
   "metadata": {
    "collapsed": false
   }
  },
  {
   "cell_type": "code",
   "execution_count": 787,
   "outputs": [
    {
     "data": {
      "text/plain": "                                          actions_id actions_type  \\\n0  0x15f93b52199fd785e5e2423777b99e80b93b5ac0ea6f...  borrowAsset   \n\n          actions_amount  actions_timestamp  actions_block actions_token_name  \\\n0  400000000000000000000         1676823143       16663746               Frax   \n\n                         actions_root_address actions_pair_asset_symbol  \\\n0  0x4731223a7b5ac0c425f1f35d0bdf6d340a93a181                      FRAX   \n\n   actions_pair_asset_decimals actions_pair_collateral_symbol  \\\n0                           18                           gOHM   \n\n   actions_pair_collateral_decimals  transactionReadableAmount  \\\n0                                18                      400.0   \n\n             dateTime  \n0 2023-02-19 16:12:23  ",
      "text/html": "<div>\n<style scoped>\n    .dataframe tbody tr th:only-of-type {\n        vertical-align: middle;\n    }\n\n    .dataframe tbody tr th {\n        vertical-align: top;\n    }\n\n    .dataframe thead th {\n        text-align: right;\n    }\n</style>\n<table border=\"1\" class=\"dataframe\">\n  <thead>\n    <tr style=\"text-align: right;\">\n      <th></th>\n      <th>actions_id</th>\n      <th>actions_type</th>\n      <th>actions_amount</th>\n      <th>actions_timestamp</th>\n      <th>actions_block</th>\n      <th>actions_token_name</th>\n      <th>actions_root_address</th>\n      <th>actions_pair_asset_symbol</th>\n      <th>actions_pair_asset_decimals</th>\n      <th>actions_pair_collateral_symbol</th>\n      <th>actions_pair_collateral_decimals</th>\n      <th>transactionReadableAmount</th>\n      <th>dateTime</th>\n    </tr>\n  </thead>\n  <tbody>\n    <tr>\n      <th>0</th>\n      <td>0x15f93b52199fd785e5e2423777b99e80b93b5ac0ea6f...</td>\n      <td>borrowAsset</td>\n      <td>400000000000000000000</td>\n      <td>1676823143</td>\n      <td>16663746</td>\n      <td>Frax</td>\n      <td>0x4731223a7b5ac0c425f1f35d0bdf6d340a93a181</td>\n      <td>FRAX</td>\n      <td>18</td>\n      <td>gOHM</td>\n      <td>18</td>\n      <td>400.0</td>\n      <td>2023-02-19 16:12:23</td>\n    </tr>\n  </tbody>\n</table>\n</div>"
     },
     "execution_count": 787,
     "metadata": {},
     "output_type": "execute_result"
    }
   ],
   "source": [
    "fraxBorrowsDbTimed.head(1000)"
   ],
   "metadata": {
    "collapsed": false
   }
  },
  {
   "cell_type": "code",
   "execution_count": 788,
   "outputs": [
    {
     "data": {
      "text/plain": "                                          actions_id   actions_type  \\\n0  0x4c7cd0a0fe188a8049ac8c28269d52106804986dfb99...  addCollateral   \n1  0xbea1383c97aff27bcf1cbe8f19ba3938e16a0f04b45f...  addCollateral   \n\n         actions_amount  actions_timestamp  actions_block actions_token_name  \\\n0   6480000000000000000         1676856395       16666484     Governance OHM   \n1  20000000000000000000         1676837783       16664949     Governance OHM   \n\n                         actions_root_address actions_pair_asset_symbol  \\\n0  0xc0e0de939f26e71683452467942aff455ca153e3                      FRAX   \n1  0x343ee80f82440a498e48ae186e066809750a055b                      FRAX   \n\n   actions_pair_asset_decimals actions_pair_collateral_symbol  \\\n0                           18                           gOHM   \n1                           18                           gOHM   \n\n   actions_pair_collateral_decimals  transactionReadableAmount  \\\n0                                18                       6.48   \n1                                18                      20.00   \n\n             dateTime  \n0 2023-02-20 01:26:35  \n1 2023-02-19 20:16:23  ",
      "text/html": "<div>\n<style scoped>\n    .dataframe tbody tr th:only-of-type {\n        vertical-align: middle;\n    }\n\n    .dataframe tbody tr th {\n        vertical-align: top;\n    }\n\n    .dataframe thead th {\n        text-align: right;\n    }\n</style>\n<table border=\"1\" class=\"dataframe\">\n  <thead>\n    <tr style=\"text-align: right;\">\n      <th></th>\n      <th>actions_id</th>\n      <th>actions_type</th>\n      <th>actions_amount</th>\n      <th>actions_timestamp</th>\n      <th>actions_block</th>\n      <th>actions_token_name</th>\n      <th>actions_root_address</th>\n      <th>actions_pair_asset_symbol</th>\n      <th>actions_pair_asset_decimals</th>\n      <th>actions_pair_collateral_symbol</th>\n      <th>actions_pair_collateral_decimals</th>\n      <th>transactionReadableAmount</th>\n      <th>dateTime</th>\n    </tr>\n  </thead>\n  <tbody>\n    <tr>\n      <th>0</th>\n      <td>0x4c7cd0a0fe188a8049ac8c28269d52106804986dfb99...</td>\n      <td>addCollateral</td>\n      <td>6480000000000000000</td>\n      <td>1676856395</td>\n      <td>16666484</td>\n      <td>Governance OHM</td>\n      <td>0xc0e0de939f26e71683452467942aff455ca153e3</td>\n      <td>FRAX</td>\n      <td>18</td>\n      <td>gOHM</td>\n      <td>18</td>\n      <td>6.48</td>\n      <td>2023-02-20 01:26:35</td>\n    </tr>\n    <tr>\n      <th>1</th>\n      <td>0xbea1383c97aff27bcf1cbe8f19ba3938e16a0f04b45f...</td>\n      <td>addCollateral</td>\n      <td>20000000000000000000</td>\n      <td>1676837783</td>\n      <td>16664949</td>\n      <td>Governance OHM</td>\n      <td>0x343ee80f82440a498e48ae186e066809750a055b</td>\n      <td>FRAX</td>\n      <td>18</td>\n      <td>gOHM</td>\n      <td>18</td>\n      <td>20.00</td>\n      <td>2023-02-19 20:16:23</td>\n    </tr>\n  </tbody>\n</table>\n</div>"
     },
     "execution_count": 788,
     "metadata": {},
     "output_type": "execute_result"
    }
   ],
   "source": [
    "fraxDepositsDbTimed.head(1000)"
   ],
   "metadata": {
    "collapsed": false
   }
  },
  {
   "cell_type": "code",
   "execution_count": 789,
   "outputs": [
    {
     "data": {
      "text/plain": "Empty DataFrame\nColumns: [actions_id, actions_type, actions_amount, actions_timestamp, actions_block, actions_token_name, actions_root_address, actions_pair_asset_symbol, actions_pair_asset_decimals, actions_pair_collateral_symbol, actions_pair_collateral_decimals, transactionReadableAmount, dateTime]\nIndex: []",
      "text/html": "<div>\n<style scoped>\n    .dataframe tbody tr th:only-of-type {\n        vertical-align: middle;\n    }\n\n    .dataframe tbody tr th {\n        vertical-align: top;\n    }\n\n    .dataframe thead th {\n        text-align: right;\n    }\n</style>\n<table border=\"1\" class=\"dataframe\">\n  <thead>\n    <tr style=\"text-align: right;\">\n      <th></th>\n      <th>actions_id</th>\n      <th>actions_type</th>\n      <th>actions_amount</th>\n      <th>actions_timestamp</th>\n      <th>actions_block</th>\n      <th>actions_token_name</th>\n      <th>actions_root_address</th>\n      <th>actions_pair_asset_symbol</th>\n      <th>actions_pair_asset_decimals</th>\n      <th>actions_pair_collateral_symbol</th>\n      <th>actions_pair_collateral_decimals</th>\n      <th>transactionReadableAmount</th>\n      <th>dateTime</th>\n    </tr>\n  </thead>\n  <tbody>\n  </tbody>\n</table>\n</div>"
     },
     "execution_count": 789,
     "metadata": {},
     "output_type": "execute_result"
    }
   ],
   "source": [
    "fraxWithdrawsDbTimed.head(10)"
   ],
   "metadata": {
    "collapsed": false
   }
  },
  {
   "cell_type": "code",
   "execution_count": 790,
   "outputs": [
    {
     "data": {
      "text/plain": "                                           actions_id actions_type  \\\n0   0x08cef0dcfa82fb386ec9948dadfaa9dba0da206c6523...  borrowAsset   \n1   0x52a22509d8397aec4b08a262c8e50ce0e9e810cc1981...  borrowAsset   \n2   0x70031de3f701a9ac2d57f53fc400f51a6918cc09a037...  borrowAsset   \n3   0x91ce97ab7feb2244dbbcc49a2bc94e8859c767eba7eb...  borrowAsset   \n4   0x0622d462adf7b5db61999e4818580e948de56acee446...  borrowAsset   \n..                                                ...          ...   \n95  0x2e0270b9a66c3418c22627e1c7de4e9e901517e297d4...  borrowAsset   \n96  0xeb8dea4c2dcc1f9a4bf14020ecd813d5f9e3123fb041...  borrowAsset   \n97  0xbc0973c9735faee148da1ce4e23af88146f32ce35071...  borrowAsset   \n98  0xd14c45bcd7f7a533e9fa2a63ef767997212348e43d41...  borrowAsset   \n99  0x83bcb813eb93d595d6b61c2dd4d8b2104fd2c844b5bc...  borrowAsset   \n\n             actions_amount  actions_timestamp  actions_block  \\\n0   60000000000000000000000         1671302279       16206258   \n1   10000000000000000000000         1671284591       16204790   \n2   12400000000000000000000         1671223127       16199693   \n3   15000000000000000000000         1671213215       16198877   \n4   20000000000000000000000         1671212627       16198828   \n..                      ...                ...            ...   \n95   5000000000000000000000         1673961911       16426804   \n96  13000000000000000000000         1673924123       16423661   \n97  20000000000000000000000         1673903867       16421986   \n98   5000000000000000000000         1673899283       16421607   \n99   1000000000000000000000         1673831963       16416028   \n\n   actions_token_name                        actions_root_address  \\\n0                Frax  0x68492881985afd26b04dcc4963ca5128ccd3dd9d   \n1                Frax  0x0561a78021d8966ddd20c28c6c4318d8675ee1f0   \n2                Frax  0x0561a78021d8966ddd20c28c6c4318d8675ee1f0   \n3                Frax  0x0561a78021d8966ddd20c28c6c4318d8675ee1f0   \n4                Frax  0x0561a78021d8966ddd20c28c6c4318d8675ee1f0   \n..                ...                                         ...   \n95               Frax  0xc0e0de939f26e71683452467942aff455ca153e3   \n96               Frax  0x6487d336bdec94d4714a4d217b15aa5c7b9dfa99   \n97               Frax  0x783f3cad39b6528e192722527429bbbdaad01648   \n98               Frax  0xc0e0de939f26e71683452467942aff455ca153e3   \n99               Frax  0x25fdda95197f804316f5ba8dbb66ac173ee19981   \n\n   actions_pair_asset_symbol  actions_pair_asset_decimals  \\\n0                       FRAX                           18   \n1                       FRAX                           18   \n2                       FRAX                           18   \n3                       FRAX                           18   \n4                       FRAX                           18   \n..                       ...                          ...   \n95                      FRAX                           18   \n96                      FRAX                           18   \n97                      FRAX                           18   \n98                      FRAX                           18   \n99                      FRAX                           18   \n\n   actions_pair_collateral_symbol  actions_pair_collateral_decimals  \\\n0                            gOHM                                18   \n1                            gOHM                                18   \n2                            gOHM                                18   \n3                            gOHM                                18   \n4                            gOHM                                18   \n..                            ...                               ...   \n95                           gOHM                                18   \n96                           gOHM                                18   \n97                           gOHM                                18   \n98                           gOHM                                18   \n99                           gOHM                                18   \n\n    transactionReadableAmount             dateTime  \n0                     60000.0  2022-12-17 18:37:59  \n1                     10000.0  2022-12-17 13:43:11  \n2                     12400.0  2022-12-16 20:38:47  \n3                     15000.0  2022-12-16 17:53:35  \n4                     20000.0  2022-12-16 17:43:47  \n..                        ...                  ...  \n95                     5000.0  2023-01-17 13:25:11  \n96                    13000.0  2023-01-17 02:55:23  \n97                    20000.0  2023-01-16 21:17:47  \n98                     5000.0  2023-01-16 20:01:23  \n99                     1000.0  2023-01-16 01:19:23  \n\n[100 rows x 13 columns]",
      "text/html": "<div>\n<style scoped>\n    .dataframe tbody tr th:only-of-type {\n        vertical-align: middle;\n    }\n\n    .dataframe tbody tr th {\n        vertical-align: top;\n    }\n\n    .dataframe thead th {\n        text-align: right;\n    }\n</style>\n<table border=\"1\" class=\"dataframe\">\n  <thead>\n    <tr style=\"text-align: right;\">\n      <th></th>\n      <th>actions_id</th>\n      <th>actions_type</th>\n      <th>actions_amount</th>\n      <th>actions_timestamp</th>\n      <th>actions_block</th>\n      <th>actions_token_name</th>\n      <th>actions_root_address</th>\n      <th>actions_pair_asset_symbol</th>\n      <th>actions_pair_asset_decimals</th>\n      <th>actions_pair_collateral_symbol</th>\n      <th>actions_pair_collateral_decimals</th>\n      <th>transactionReadableAmount</th>\n      <th>dateTime</th>\n    </tr>\n  </thead>\n  <tbody>\n    <tr>\n      <th>0</th>\n      <td>0x08cef0dcfa82fb386ec9948dadfaa9dba0da206c6523...</td>\n      <td>borrowAsset</td>\n      <td>60000000000000000000000</td>\n      <td>1671302279</td>\n      <td>16206258</td>\n      <td>Frax</td>\n      <td>0x68492881985afd26b04dcc4963ca5128ccd3dd9d</td>\n      <td>FRAX</td>\n      <td>18</td>\n      <td>gOHM</td>\n      <td>18</td>\n      <td>60000.0</td>\n      <td>2022-12-17 18:37:59</td>\n    </tr>\n    <tr>\n      <th>1</th>\n      <td>0x52a22509d8397aec4b08a262c8e50ce0e9e810cc1981...</td>\n      <td>borrowAsset</td>\n      <td>10000000000000000000000</td>\n      <td>1671284591</td>\n      <td>16204790</td>\n      <td>Frax</td>\n      <td>0x0561a78021d8966ddd20c28c6c4318d8675ee1f0</td>\n      <td>FRAX</td>\n      <td>18</td>\n      <td>gOHM</td>\n      <td>18</td>\n      <td>10000.0</td>\n      <td>2022-12-17 13:43:11</td>\n    </tr>\n    <tr>\n      <th>2</th>\n      <td>0x70031de3f701a9ac2d57f53fc400f51a6918cc09a037...</td>\n      <td>borrowAsset</td>\n      <td>12400000000000000000000</td>\n      <td>1671223127</td>\n      <td>16199693</td>\n      <td>Frax</td>\n      <td>0x0561a78021d8966ddd20c28c6c4318d8675ee1f0</td>\n      <td>FRAX</td>\n      <td>18</td>\n      <td>gOHM</td>\n      <td>18</td>\n      <td>12400.0</td>\n      <td>2022-12-16 20:38:47</td>\n    </tr>\n    <tr>\n      <th>3</th>\n      <td>0x91ce97ab7feb2244dbbcc49a2bc94e8859c767eba7eb...</td>\n      <td>borrowAsset</td>\n      <td>15000000000000000000000</td>\n      <td>1671213215</td>\n      <td>16198877</td>\n      <td>Frax</td>\n      <td>0x0561a78021d8966ddd20c28c6c4318d8675ee1f0</td>\n      <td>FRAX</td>\n      <td>18</td>\n      <td>gOHM</td>\n      <td>18</td>\n      <td>15000.0</td>\n      <td>2022-12-16 17:53:35</td>\n    </tr>\n    <tr>\n      <th>4</th>\n      <td>0x0622d462adf7b5db61999e4818580e948de56acee446...</td>\n      <td>borrowAsset</td>\n      <td>20000000000000000000000</td>\n      <td>1671212627</td>\n      <td>16198828</td>\n      <td>Frax</td>\n      <td>0x0561a78021d8966ddd20c28c6c4318d8675ee1f0</td>\n      <td>FRAX</td>\n      <td>18</td>\n      <td>gOHM</td>\n      <td>18</td>\n      <td>20000.0</td>\n      <td>2022-12-16 17:43:47</td>\n    </tr>\n    <tr>\n      <th>...</th>\n      <td>...</td>\n      <td>...</td>\n      <td>...</td>\n      <td>...</td>\n      <td>...</td>\n      <td>...</td>\n      <td>...</td>\n      <td>...</td>\n      <td>...</td>\n      <td>...</td>\n      <td>...</td>\n      <td>...</td>\n      <td>...</td>\n    </tr>\n    <tr>\n      <th>95</th>\n      <td>0x2e0270b9a66c3418c22627e1c7de4e9e901517e297d4...</td>\n      <td>borrowAsset</td>\n      <td>5000000000000000000000</td>\n      <td>1673961911</td>\n      <td>16426804</td>\n      <td>Frax</td>\n      <td>0xc0e0de939f26e71683452467942aff455ca153e3</td>\n      <td>FRAX</td>\n      <td>18</td>\n      <td>gOHM</td>\n      <td>18</td>\n      <td>5000.0</td>\n      <td>2023-01-17 13:25:11</td>\n    </tr>\n    <tr>\n      <th>96</th>\n      <td>0xeb8dea4c2dcc1f9a4bf14020ecd813d5f9e3123fb041...</td>\n      <td>borrowAsset</td>\n      <td>13000000000000000000000</td>\n      <td>1673924123</td>\n      <td>16423661</td>\n      <td>Frax</td>\n      <td>0x6487d336bdec94d4714a4d217b15aa5c7b9dfa99</td>\n      <td>FRAX</td>\n      <td>18</td>\n      <td>gOHM</td>\n      <td>18</td>\n      <td>13000.0</td>\n      <td>2023-01-17 02:55:23</td>\n    </tr>\n    <tr>\n      <th>97</th>\n      <td>0xbc0973c9735faee148da1ce4e23af88146f32ce35071...</td>\n      <td>borrowAsset</td>\n      <td>20000000000000000000000</td>\n      <td>1673903867</td>\n      <td>16421986</td>\n      <td>Frax</td>\n      <td>0x783f3cad39b6528e192722527429bbbdaad01648</td>\n      <td>FRAX</td>\n      <td>18</td>\n      <td>gOHM</td>\n      <td>18</td>\n      <td>20000.0</td>\n      <td>2023-01-16 21:17:47</td>\n    </tr>\n    <tr>\n      <th>98</th>\n      <td>0xd14c45bcd7f7a533e9fa2a63ef767997212348e43d41...</td>\n      <td>borrowAsset</td>\n      <td>5000000000000000000000</td>\n      <td>1673899283</td>\n      <td>16421607</td>\n      <td>Frax</td>\n      <td>0xc0e0de939f26e71683452467942aff455ca153e3</td>\n      <td>FRAX</td>\n      <td>18</td>\n      <td>gOHM</td>\n      <td>18</td>\n      <td>5000.0</td>\n      <td>2023-01-16 20:01:23</td>\n    </tr>\n    <tr>\n      <th>99</th>\n      <td>0x83bcb813eb93d595d6b61c2dd4d8b2104fd2c844b5bc...</td>\n      <td>borrowAsset</td>\n      <td>1000000000000000000000</td>\n      <td>1673831963</td>\n      <td>16416028</td>\n      <td>Frax</td>\n      <td>0x25fdda95197f804316f5ba8dbb66ac173ee19981</td>\n      <td>FRAX</td>\n      <td>18</td>\n      <td>gOHM</td>\n      <td>18</td>\n      <td>1000.0</td>\n      <td>2023-01-16 01:19:23</td>\n    </tr>\n  </tbody>\n</table>\n<p>100 rows × 13 columns</p>\n</div>"
     },
     "execution_count": 790,
     "metadata": {},
     "output_type": "execute_result"
    }
   ],
   "source": [
    "fraxActionsDbTimed = pd.concat([oldFraxBorrows,fraxBorrowsDbTimed]).drop_duplicates().reset_index(drop=True)\n",
    "fraxActionsDbTimed.sort_values(['actions_id','actions_type','actions_amount','actions_timestamp','actions_block','actions_token_name','actions_root_address','dateTime'])\n",
    "fraxActionsDbTimed.drop_duplicates(keep='first' )\n",
    "fraxActionsDbTimed.head(100)"
   ],
   "metadata": {
    "collapsed": false
   }
  },
  {
   "cell_type": "code",
   "execution_count": 791,
   "outputs": [
    {
     "name": "stdout",
     "output_type": "stream",
     "text": [
      "D:\\Dropbox\\Documents\\Edgecaser LLC\\Projects\\Olympus\\Econohmetrics\\gohmAsStablecoinCollateral/data/frax_borrows_piped.csv file saved, 162  records at 2023-02-19 18:43:04.849564\n"
     ]
    }
   ],
   "source": [
    "fraxActionsDbTimedLength = len(fraxActionsDbTimed)\n",
    "path =file+'/frax_borrows.csv'\n",
    "fraxActionsDbTimed.to_csv(path, index = False)\n",
    "\n",
    "path =file+'/frax_borrows_piped.csv'\n",
    "fraxActionsDbTimed.to_csv(path, index = False, sep='|')\n",
    "\n",
    "print(path, 'file saved,', fraxActionsDbTimedLength,' records at', (dt.datetime.now()) )"
   ],
   "metadata": {
    "collapsed": false
   }
  },
  {
   "cell_type": "markdown",
   "source": [
    "Collateral check"
   ],
   "metadata": {
    "collapsed": false
   }
  },
  {
   "cell_type": "code",
   "execution_count": 792,
   "outputs": [
    {
     "name": "stdout",
     "output_type": "stream",
     "text": [
      "There has been a total of 26.48 gOHM deposited cumulatively as collateral  to date\n"
     ]
    }
   ],
   "source": [
    "totalgOHMDepositedFrax = sum(fraxDepositsDbTimed['transactionReadableAmount'])\n",
    "print('There has been a total of',round(totalgOHMDepositedFrax,2),  'gOHM deposited cumulatively as collateral  to date')"
   ],
   "metadata": {
    "collapsed": false
   }
  },
  {
   "cell_type": "code",
   "execution_count": 793,
   "outputs": [
    {
     "name": "stdout",
     "output_type": "stream",
     "text": [
      "There has been a total of 0 gOHM withdrawn cumulatively as collateral  to date\n"
     ]
    }
   ],
   "source": [
    "totalgOHMWithdrawnFrax = sum(fraxWithdrawsDbTimed['transactionReadableAmount'])\n",
    "print('There has been a total of',round(totalgOHMWithdrawnFrax,2),  'gOHM withdrawn cumulatively as collateral  to date')"
   ],
   "metadata": {
    "collapsed": false
   }
  },
  {
   "cell_type": "code",
   "execution_count": 794,
   "outputs": [
    {
     "name": "stdout",
     "output_type": "stream",
     "text": [
      "26.48  -  0 = 26.48 currently deposited as collateral in Silo\n"
     ]
    }
   ],
   "source": [
    "collateralBalance = totalgOHMDepositedFrax-totalgOHMWithdrawnFrax\n",
    "print(totalgOHMDepositedFrax, ' - ',totalgOHMWithdrawnFrax,'=', collateralBalance, 'currently deposited as collateral in Silo' )"
   ],
   "metadata": {
    "collapsed": false
   }
  },
  {
   "cell_type": "markdown",
   "source": [
    "**********************************************************\n",
    "MERGE DIFFERENT DBs"
   ],
   "metadata": {
    "collapsed": false
   }
  },
  {
   "cell_type": "code",
   "execution_count": 795,
   "outputs": [
    {
     "data": {
      "text/plain": "                                          actions_id  actions_timestamp  \\\n0  0x4c7cd0a0fe188a8049ac8c28269d52106804986dfb99...         1676856395   \n1  0xbea1383c97aff27bcf1cbe8f19ba3938e16a0f04b45f...         1676837783   \n\n             dateTime                                deposit_from  \\\n0 2023-02-20 01:26:35  0xc0e0de939f26e71683452467942aff455ca153e3   \n1 2023-02-19 20:16:23  0x343ee80f82440a498e48ae186e066809750a055b   \n\n  asset_symbol  ReadableAmount protocol             action  \n0         gOHM            6.48     Frax  depositCollateral  \n1         gOHM           20.00     Frax  depositCollateral  ",
      "text/html": "<div>\n<style scoped>\n    .dataframe tbody tr th:only-of-type {\n        vertical-align: middle;\n    }\n\n    .dataframe tbody tr th {\n        vertical-align: top;\n    }\n\n    .dataframe thead th {\n        text-align: right;\n    }\n</style>\n<table border=\"1\" class=\"dataframe\">\n  <thead>\n    <tr style=\"text-align: right;\">\n      <th></th>\n      <th>actions_id</th>\n      <th>actions_timestamp</th>\n      <th>dateTime</th>\n      <th>deposit_from</th>\n      <th>asset_symbol</th>\n      <th>ReadableAmount</th>\n      <th>protocol</th>\n      <th>action</th>\n    </tr>\n  </thead>\n  <tbody>\n    <tr>\n      <th>0</th>\n      <td>0x4c7cd0a0fe188a8049ac8c28269d52106804986dfb99...</td>\n      <td>1676856395</td>\n      <td>2023-02-20 01:26:35</td>\n      <td>0xc0e0de939f26e71683452467942aff455ca153e3</td>\n      <td>gOHM</td>\n      <td>6.48</td>\n      <td>Frax</td>\n      <td>depositCollateral</td>\n    </tr>\n    <tr>\n      <th>1</th>\n      <td>0xbea1383c97aff27bcf1cbe8f19ba3938e16a0f04b45f...</td>\n      <td>1676837783</td>\n      <td>2023-02-19 20:16:23</td>\n      <td>0x343ee80f82440a498e48ae186e066809750a055b</td>\n      <td>gOHM</td>\n      <td>20.00</td>\n      <td>Frax</td>\n      <td>depositCollateral</td>\n    </tr>\n  </tbody>\n</table>\n</div>"
     },
     "execution_count": 795,
     "metadata": {},
     "output_type": "execute_result"
    }
   ],
   "source": [
    "#COLLATERALDEPOSITS\n",
    "fraxDepositsDbPreMerge = db.query(\n",
    "    \"select distinct\"\n",
    "    \" actions_id \"\n",
    "    \", actions_timestamp \"\n",
    "    \", dateTime \"\n",
    "    \", actions_root_address deposit_from \"\n",
    "    \", actions_pair_collateral_symbol asset_symbol\"\n",
    "    \", transactionReadableAmount ReadableAmount \"\n",
    "    \"from fraxDepositsDbTimed \"\n",
    ").df()\n",
    "fraxDepositsDbPreMerge['protocol'] = 'Frax'\n",
    "fraxDepositsDbPreMerge['action'] = 'depositCollateral'\n",
    "fraxDepositsDbPreMerge.head(10)\n",
    "\n"
   ],
   "metadata": {
    "collapsed": false
   }
  },
  {
   "cell_type": "code",
   "execution_count": 797,
   "outputs": [
    {
     "data": {
      "text/plain": "     event                                      deposits_hash  \\\n0  deposit  0xecd6140bbb896413a25d34ca87f5503b56c444f1e582...   \n\n   deposits_blockNumber  deposits_timestamp  \\\n0              16651409          1676673263   \n\n                          deposits_account_id  \\\n0  0xd33e76d21d32c21811593ae54e38f68df0cfe8ed   \n\n                           deposits_market_id deposits_asset_name  \\\n0  0xc413dd03555f3eb29d834b482d386b2999dc2eb0      Governance OHM   \n\n  deposits_asset_symbol  depositsReadableAmount  deposits_asset_lastPriceUSD  \\\n0                  gOHM               48.922199                  2809.009098   \n\n   deposits_amountUSD            dateTime    calDate  \n0       138354.126796 2023-02-17 22:34:23 2023-02-17  ",
      "text/html": "<div>\n<style scoped>\n    .dataframe tbody tr th:only-of-type {\n        vertical-align: middle;\n    }\n\n    .dataframe tbody tr th {\n        vertical-align: top;\n    }\n\n    .dataframe thead th {\n        text-align: right;\n    }\n</style>\n<table border=\"1\" class=\"dataframe\">\n  <thead>\n    <tr style=\"text-align: right;\">\n      <th></th>\n      <th>event</th>\n      <th>deposits_hash</th>\n      <th>deposits_blockNumber</th>\n      <th>deposits_timestamp</th>\n      <th>deposits_account_id</th>\n      <th>deposits_market_id</th>\n      <th>deposits_asset_name</th>\n      <th>deposits_asset_symbol</th>\n      <th>depositsReadableAmount</th>\n      <th>deposits_asset_lastPriceUSD</th>\n      <th>deposits_amountUSD</th>\n      <th>dateTime</th>\n      <th>calDate</th>\n    </tr>\n  </thead>\n  <tbody>\n    <tr>\n      <th>0</th>\n      <td>deposit</td>\n      <td>0xecd6140bbb896413a25d34ca87f5503b56c444f1e582...</td>\n      <td>16651409</td>\n      <td>1676673263</td>\n      <td>0xd33e76d21d32c21811593ae54e38f68df0cfe8ed</td>\n      <td>0xc413dd03555f3eb29d834b482d386b2999dc2eb0</td>\n      <td>Governance OHM</td>\n      <td>gOHM</td>\n      <td>48.922199</td>\n      <td>2809.009098</td>\n      <td>138354.126796</td>\n      <td>2023-02-17 22:34:23</td>\n      <td>2023-02-17</td>\n    </tr>\n  </tbody>\n</table>\n</div>"
     },
     "execution_count": 797,
     "metadata": {},
     "output_type": "execute_result"
    }
   ],
   "source": [
    "siloDepositEventsDbTimedClean.head(1)"
   ],
   "metadata": {
    "collapsed": false
   }
  },
  {
   "cell_type": "code",
   "execution_count": 798,
   "outputs": [
    {
     "data": {
      "text/plain": "                                          actions_id  actions_timestamp  \\\n0  0xecd6140bbb896413a25d34ca87f5503b56c444f1e582...         1676673263   \n\n             dateTime                                deposit_from  \\\n0 2023-02-17 22:34:23  0xd33e76d21d32c21811593ae54e38f68df0cfe8ed   \n\n  asset_symbol  ReadableAmount protocol             action  \n0         gOHM       48.922199     silo  depositCollateral  ",
      "text/html": "<div>\n<style scoped>\n    .dataframe tbody tr th:only-of-type {\n        vertical-align: middle;\n    }\n\n    .dataframe tbody tr th {\n        vertical-align: top;\n    }\n\n    .dataframe thead th {\n        text-align: right;\n    }\n</style>\n<table border=\"1\" class=\"dataframe\">\n  <thead>\n    <tr style=\"text-align: right;\">\n      <th></th>\n      <th>actions_id</th>\n      <th>actions_timestamp</th>\n      <th>dateTime</th>\n      <th>deposit_from</th>\n      <th>asset_symbol</th>\n      <th>ReadableAmount</th>\n      <th>protocol</th>\n      <th>action</th>\n    </tr>\n  </thead>\n  <tbody>\n    <tr>\n      <th>0</th>\n      <td>0xecd6140bbb896413a25d34ca87f5503b56c444f1e582...</td>\n      <td>1676673263</td>\n      <td>2023-02-17 22:34:23</td>\n      <td>0xd33e76d21d32c21811593ae54e38f68df0cfe8ed</td>\n      <td>gOHM</td>\n      <td>48.922199</td>\n      <td>silo</td>\n      <td>depositCollateral</td>\n    </tr>\n  </tbody>\n</table>\n</div>"
     },
     "execution_count": 798,
     "metadata": {},
     "output_type": "execute_result"
    }
   ],
   "source": [
    "siloDepositsDbPreMerge = db.query(\n",
    "    \"select distinct\"\n",
    "    \" deposits_hash actions_id \"\n",
    "    \", deposits_timestamp actions_timestamp \"\n",
    "    \", dateTime \"\n",
    "    \", deposits_account_id deposit_from \"\n",
    "    \", deposits_asset_symbol asset_symbol \"\n",
    "    \", depositsReadableAmount ReadableAmount \"\n",
    "    \"from siloDepositEventsDbTimedClean \"\n",
    ").df()\n",
    "siloDepositsDbPreMerge['protocol'] = 'silo'\n",
    "siloDepositsDbPreMerge['action'] = 'depositCollateral'\n",
    "siloDepositsDbPreMerge.head(10)\n"
   ],
   "metadata": {
    "collapsed": false
   }
  },
  {
   "cell_type": "markdown",
   "source": [
    "DONT FORGET VESTA WHEN IT GETS FIXED"
   ],
   "metadata": {
    "collapsed": false
   }
  },
  {
   "cell_type": "code",
   "execution_count": 799,
   "outputs": [
    {
     "data": {
      "text/plain": "                                          actions_id  actions_timestamp  \\\n0  0xecd6140bbb896413a25d34ca87f5503b56c444f1e582...         1676673263   \n0  0x4c7cd0a0fe188a8049ac8c28269d52106804986dfb99...         1676856395   \n1  0xbea1383c97aff27bcf1cbe8f19ba3938e16a0f04b45f...         1676837783   \n\n             dateTime                                deposit_from  \\\n0 2023-02-17 22:34:23  0xd33e76d21d32c21811593ae54e38f68df0cfe8ed   \n0 2023-02-20 01:26:35  0xc0e0de939f26e71683452467942aff455ca153e3   \n1 2023-02-19 20:16:23  0x343ee80f82440a498e48ae186e066809750a055b   \n\n  asset_symbol  ReadableAmount protocol             action  \n0         gOHM       48.922199     silo  depositCollateral  \n0         gOHM        6.480000     Frax  depositCollateral  \n1         gOHM       20.000000     Frax  depositCollateral  ",
      "text/html": "<div>\n<style scoped>\n    .dataframe tbody tr th:only-of-type {\n        vertical-align: middle;\n    }\n\n    .dataframe tbody tr th {\n        vertical-align: top;\n    }\n\n    .dataframe thead th {\n        text-align: right;\n    }\n</style>\n<table border=\"1\" class=\"dataframe\">\n  <thead>\n    <tr style=\"text-align: right;\">\n      <th></th>\n      <th>actions_id</th>\n      <th>actions_timestamp</th>\n      <th>dateTime</th>\n      <th>deposit_from</th>\n      <th>asset_symbol</th>\n      <th>ReadableAmount</th>\n      <th>protocol</th>\n      <th>action</th>\n    </tr>\n  </thead>\n  <tbody>\n    <tr>\n      <th>0</th>\n      <td>0xecd6140bbb896413a25d34ca87f5503b56c444f1e582...</td>\n      <td>1676673263</td>\n      <td>2023-02-17 22:34:23</td>\n      <td>0xd33e76d21d32c21811593ae54e38f68df0cfe8ed</td>\n      <td>gOHM</td>\n      <td>48.922199</td>\n      <td>silo</td>\n      <td>depositCollateral</td>\n    </tr>\n    <tr>\n      <th>0</th>\n      <td>0x4c7cd0a0fe188a8049ac8c28269d52106804986dfb99...</td>\n      <td>1676856395</td>\n      <td>2023-02-20 01:26:35</td>\n      <td>0xc0e0de939f26e71683452467942aff455ca153e3</td>\n      <td>gOHM</td>\n      <td>6.480000</td>\n      <td>Frax</td>\n      <td>depositCollateral</td>\n    </tr>\n    <tr>\n      <th>1</th>\n      <td>0xbea1383c97aff27bcf1cbe8f19ba3938e16a0f04b45f...</td>\n      <td>1676837783</td>\n      <td>2023-02-19 20:16:23</td>\n      <td>0x343ee80f82440a498e48ae186e066809750a055b</td>\n      <td>gOHM</td>\n      <td>20.000000</td>\n      <td>Frax</td>\n      <td>depositCollateral</td>\n    </tr>\n  </tbody>\n</table>\n</div>"
     },
     "execution_count": 799,
     "metadata": {},
     "output_type": "execute_result"
    }
   ],
   "source": [
    "gOHMCollateralDeposits = pd.concat([siloDepositsDbPreMerge,fraxDepositsDbPreMerge])\n",
    "gOHMCollateralDeposits.head(10)"
   ],
   "metadata": {
    "collapsed": false
   }
  },
  {
   "cell_type": "code",
   "execution_count": 800,
   "outputs": [
    {
     "name": "stdout",
     "output_type": "stream",
     "text": [
      "D:\\Dropbox\\Documents\\Edgecaser LLC\\Projects\\Olympus\\Econohmetrics\\gohmAsStablecoinCollateral/data/gOHMCollateralDeposits_piped.csv file saved, 3  records at 2023-02-19 18:44:41.139067\n"
     ]
    }
   ],
   "source": [
    "gOHMCollateralDepositsLength = len(gOHMCollateralDeposits)\n",
    "path =file+'/gOHMCollateralDeposits.csv'\n",
    "gOHMCollateralDeposits.to_csv(path, index = False)\n",
    "\n",
    "path =file+'/gOHMCollateralDeposits_piped.csv'\n",
    "gOHMCollateralDeposits.to_csv(path, index = False, sep='|')\n",
    "\n",
    "print(path, 'file saved,', gOHMCollateralDepositsLength,' records at', (dt.datetime.now()) )"
   ],
   "metadata": {
    "collapsed": false
   }
  },
  {
   "cell_type": "code",
   "execution_count": null,
   "outputs": [],
   "source": [
    "#ALL WITHDRAW EVENTS"
   ],
   "metadata": {
    "collapsed": false
   }
  },
  {
   "cell_type": "code",
   "execution_count": 801,
   "outputs": [
    {
     "data": {
      "text/plain": "Empty DataFrame\nColumns: [actions_id, actions_timestamp, dateTime, deposit_from, asset_symbol, ReadableAmount, protocol, action]\nIndex: []",
      "text/html": "<div>\n<style scoped>\n    .dataframe tbody tr th:only-of-type {\n        vertical-align: middle;\n    }\n\n    .dataframe tbody tr th {\n        vertical-align: top;\n    }\n\n    .dataframe thead th {\n        text-align: right;\n    }\n</style>\n<table border=\"1\" class=\"dataframe\">\n  <thead>\n    <tr style=\"text-align: right;\">\n      <th></th>\n      <th>actions_id</th>\n      <th>actions_timestamp</th>\n      <th>dateTime</th>\n      <th>deposit_from</th>\n      <th>asset_symbol</th>\n      <th>ReadableAmount</th>\n      <th>protocol</th>\n      <th>action</th>\n    </tr>\n  </thead>\n  <tbody>\n  </tbody>\n</table>\n</div>"
     },
     "execution_count": 801,
     "metadata": {},
     "output_type": "execute_result"
    }
   ],
   "source": [
    "fraxWithdrawsDbPreMerge = db.query(\n",
    "    \"select distinct\"\n",
    "    \" actions_id \"\n",
    "    \", actions_timestamp \"\n",
    "    \", dateTime \"\n",
    "    \", actions_root_address deposit_from \"\n",
    "    \", actions_pair_collateral_symbol asset_symbol \"\n",
    "    \", transactionReadableAmount ReadableAmount \"\n",
    "    \"from fraxWithdrawsDbTimed \"\n",
    ").df()\n",
    "fraxWithdrawsDbPreMerge['protocol'] = 'Frax'\n",
    "fraxWithdrawsDbPreMerge['action'] = 'withdrawCollateral'\n",
    "fraxWithdrawsDbPreMerge.head(10)"
   ],
   "metadata": {
    "collapsed": false
   }
  },
  {
   "cell_type": "code",
   "execution_count": 803,
   "outputs": [
    {
     "data": {
      "text/plain": "                                          actions_id  actions_timestamp  \\\n0  0xf4707edc29622f90030af624d1918ff5ae613cef90d8...         1676474867   \n\n             dateTime                                deposit_from  \\\n0 2023-02-15 15:27:47  0x0493bcca897a2248ae3cd4c66aea90dbfc7e13c6   \n\n  asset_symbol  ReadableAmount protocol              action  \n0         gOHM       25.000039     silo  withdrawCollateral  ",
      "text/html": "<div>\n<style scoped>\n    .dataframe tbody tr th:only-of-type {\n        vertical-align: middle;\n    }\n\n    .dataframe tbody tr th {\n        vertical-align: top;\n    }\n\n    .dataframe thead th {\n        text-align: right;\n    }\n</style>\n<table border=\"1\" class=\"dataframe\">\n  <thead>\n    <tr style=\"text-align: right;\">\n      <th></th>\n      <th>actions_id</th>\n      <th>actions_timestamp</th>\n      <th>dateTime</th>\n      <th>deposit_from</th>\n      <th>asset_symbol</th>\n      <th>ReadableAmount</th>\n      <th>protocol</th>\n      <th>action</th>\n    </tr>\n  </thead>\n  <tbody>\n    <tr>\n      <th>0</th>\n      <td>0xf4707edc29622f90030af624d1918ff5ae613cef90d8...</td>\n      <td>1676474867</td>\n      <td>2023-02-15 15:27:47</td>\n      <td>0x0493bcca897a2248ae3cd4c66aea90dbfc7e13c6</td>\n      <td>gOHM</td>\n      <td>25.000039</td>\n      <td>silo</td>\n      <td>withdrawCollateral</td>\n    </tr>\n  </tbody>\n</table>\n</div>"
     },
     "execution_count": 803,
     "metadata": {},
     "output_type": "execute_result"
    }
   ],
   "source": [
    "siloWithdrawsDbPreMerge = db.query(\n",
    "    \"select distinct\"\n",
    "    \" transaction_hash actions_id \"\n",
    "    \", transaction_timestamp actions_timestamp \"\n",
    "    \", dateTime \"\n",
    "    \", transaction_account_id deposit_from \"\n",
    "    \", transaction_asset_symbol asset_symbol \"\n",
    "    \", transactionReadableAmount ReadableAmount \"\n",
    "    \"from siloWithdrawEventsDbTimedClean \"\n",
    ").df()\n",
    "siloWithdrawsDbPreMerge['protocol'] = 'silo'\n",
    "siloWithdrawsDbPreMerge['action'] = 'withdrawCollateral'\n",
    "siloWithdrawsDbPreMerge.head(10)\n"
   ],
   "metadata": {
    "collapsed": false
   }
  },
  {
   "cell_type": "markdown",
   "source": [
    "DONT FORGET VESTA"
   ],
   "metadata": {
    "collapsed": false
   }
  },
  {
   "cell_type": "code",
   "execution_count": 804,
   "outputs": [
    {
     "data": {
      "text/plain": "                                          actions_id  actions_timestamp  \\\n0  0xf4707edc29622f90030af624d1918ff5ae613cef90d8...         1676474867   \n\n             dateTime                                deposit_from  \\\n0 2023-02-15 15:27:47  0x0493bcca897a2248ae3cd4c66aea90dbfc7e13c6   \n\n  asset_symbol  ReadableAmount protocol              action  \n0         gOHM       25.000039     silo  withdrawCollateral  ",
      "text/html": "<div>\n<style scoped>\n    .dataframe tbody tr th:only-of-type {\n        vertical-align: middle;\n    }\n\n    .dataframe tbody tr th {\n        vertical-align: top;\n    }\n\n    .dataframe thead th {\n        text-align: right;\n    }\n</style>\n<table border=\"1\" class=\"dataframe\">\n  <thead>\n    <tr style=\"text-align: right;\">\n      <th></th>\n      <th>actions_id</th>\n      <th>actions_timestamp</th>\n      <th>dateTime</th>\n      <th>deposit_from</th>\n      <th>asset_symbol</th>\n      <th>ReadableAmount</th>\n      <th>protocol</th>\n      <th>action</th>\n    </tr>\n  </thead>\n  <tbody>\n    <tr>\n      <th>0</th>\n      <td>0xf4707edc29622f90030af624d1918ff5ae613cef90d8...</td>\n      <td>1676474867</td>\n      <td>2023-02-15 15:27:47</td>\n      <td>0x0493bcca897a2248ae3cd4c66aea90dbfc7e13c6</td>\n      <td>gOHM</td>\n      <td>25.000039</td>\n      <td>silo</td>\n      <td>withdrawCollateral</td>\n    </tr>\n  </tbody>\n</table>\n</div>"
     },
     "execution_count": 804,
     "metadata": {},
     "output_type": "execute_result"
    }
   ],
   "source": [
    "gOHMCollateralWithdrawals = pd.concat([siloWithdrawsDbPreMerge,fraxWithdrawsDbPreMerge])\n",
    "gOHMCollateralWithdrawals.head(10)"
   ],
   "metadata": {
    "collapsed": false
   }
  },
  {
   "cell_type": "code",
   "execution_count": 805,
   "outputs": [
    {
     "name": "stdout",
     "output_type": "stream",
     "text": [
      "D:\\Dropbox\\Documents\\Edgecaser LLC\\Projects\\Olympus\\Econohmetrics\\gohmAsStablecoinCollateral/data/gOHMCollateralWithdrawals_piped.csv file saved, 1  records at 2023-02-19 18:45:56.563588\n"
     ]
    }
   ],
   "source": [
    "gOHMCollateralWithdrawalsLength = len(gOHMCollateralWithdrawals)\n",
    "path =file+'/gOHMCollateralDeposits.csv'\n",
    "gOHMCollateralWithdrawals.to_csv(path, index = False)\n",
    "\n",
    "path =file+'/gOHMCollateralWithdrawals_piped.csv'\n",
    "gOHMCollateralWithdrawals.to_csv(path, index = False, sep='|')\n",
    "\n",
    "print(path, 'file saved,', gOHMCollateralWithdrawalsLength,' records at', (dt.datetime.now()) )"
   ],
   "metadata": {
    "collapsed": false
   }
  },
  {
   "cell_type": "code",
   "execution_count": 806,
   "outputs": [],
   "source": [
    "#BORROWS"
   ],
   "metadata": {
    "collapsed": false
   }
  },
  {
   "cell_type": "code",
   "execution_count": 807,
   "outputs": [
    {
     "data": {
      "text/plain": "                                          actions_id  actions_timestamp  \\\n0  0x15f93b52199fd785e5e2423777b99e80b93b5ac0ea6f...         1676823143   \n\n             dateTime                                deposit_from  \\\n0 2023-02-19 16:12:23  0x4731223a7b5ac0c425f1f35d0bdf6d340a93a181   \n\n  asset_symbol  ReadableAmount protocol            action  \n0         FRAX           400.0     Frax  borrowStablecoin  ",
      "text/html": "<div>\n<style scoped>\n    .dataframe tbody tr th:only-of-type {\n        vertical-align: middle;\n    }\n\n    .dataframe tbody tr th {\n        vertical-align: top;\n    }\n\n    .dataframe thead th {\n        text-align: right;\n    }\n</style>\n<table border=\"1\" class=\"dataframe\">\n  <thead>\n    <tr style=\"text-align: right;\">\n      <th></th>\n      <th>actions_id</th>\n      <th>actions_timestamp</th>\n      <th>dateTime</th>\n      <th>deposit_from</th>\n      <th>asset_symbol</th>\n      <th>ReadableAmount</th>\n      <th>protocol</th>\n      <th>action</th>\n    </tr>\n  </thead>\n  <tbody>\n    <tr>\n      <th>0</th>\n      <td>0x15f93b52199fd785e5e2423777b99e80b93b5ac0ea6f...</td>\n      <td>1676823143</td>\n      <td>2023-02-19 16:12:23</td>\n      <td>0x4731223a7b5ac0c425f1f35d0bdf6d340a93a181</td>\n      <td>FRAX</td>\n      <td>400.0</td>\n      <td>Frax</td>\n      <td>borrowStablecoin</td>\n    </tr>\n  </tbody>\n</table>\n</div>"
     },
     "execution_count": 807,
     "metadata": {},
     "output_type": "execute_result"
    }
   ],
   "source": [
    "fraxBorrowsDbPreMerge = db.query(\n",
    "    \"select distinct\"\n",
    "    \" actions_id \"\n",
    "    \", actions_timestamp \"\n",
    "    \", dateTime \"\n",
    "    \", actions_root_address deposit_from \"\n",
    "    \", 'FRAX' asset_symbol \"\n",
    "    \", transactionReadableAmount ReadableAmount \"\n",
    "    \"from fraxBorrowsDbTimed \"\n",
    ").df()\n",
    "fraxBorrowsDbPreMerge['protocol'] = 'Frax'\n",
    "fraxBorrowsDbPreMerge['action'] = 'borrowStablecoin'\n",
    "fraxBorrowsDbPreMerge.head(10)"
   ],
   "metadata": {
    "collapsed": false
   }
  },
  {
   "cell_type": "code",
   "execution_count": 808,
   "outputs": [
    {
     "data": {
      "text/plain": "                                          actions_id  actions_timestamp  \\\n0  0x66fe10ed6dcb8b83bdb5b0c46cd321060734b9063bd5...         1676673563   \n\n             dateTime                                deposit_from  \\\n0 2023-02-17 22:39:23  0xd33e76d21d32c21811593ae54e38f68df0cfe8ed   \n\n  asset_symbol  ReadableAmount protocol            action  \n0          XAI         60500.0     silo  borrowStablecoin  ",
      "text/html": "<div>\n<style scoped>\n    .dataframe tbody tr th:only-of-type {\n        vertical-align: middle;\n    }\n\n    .dataframe tbody tr th {\n        vertical-align: top;\n    }\n\n    .dataframe thead th {\n        text-align: right;\n    }\n</style>\n<table border=\"1\" class=\"dataframe\">\n  <thead>\n    <tr style=\"text-align: right;\">\n      <th></th>\n      <th>actions_id</th>\n      <th>actions_timestamp</th>\n      <th>dateTime</th>\n      <th>deposit_from</th>\n      <th>asset_symbol</th>\n      <th>ReadableAmount</th>\n      <th>protocol</th>\n      <th>action</th>\n    </tr>\n  </thead>\n  <tbody>\n    <tr>\n      <th>0</th>\n      <td>0x66fe10ed6dcb8b83bdb5b0c46cd321060734b9063bd5...</td>\n      <td>1676673563</td>\n      <td>2023-02-17 22:39:23</td>\n      <td>0xd33e76d21d32c21811593ae54e38f68df0cfe8ed</td>\n      <td>XAI</td>\n      <td>60500.0</td>\n      <td>silo</td>\n      <td>borrowStablecoin</td>\n    </tr>\n  </tbody>\n</table>\n</div>"
     },
     "execution_count": 808,
     "metadata": {},
     "output_type": "execute_result"
    }
   ],
   "source": [
    "siloBorrowsDbPreMerge = db.query(\n",
    "    \"select distinct\"\n",
    "    \" transaction_hash actions_id \"\n",
    "    \", transaction_timestamp actions_timestamp \"\n",
    "    \", dateTime \"\n",
    "    \", transaction_account_id deposit_from \"\n",
    "    \", 'XAI' asset_symbol \"\n",
    "    \", transactionReadableAmount ReadableAmount \"\n",
    "    \"from siloBorrowEventsDbTimedClean \"\n",
    ").df()\n",
    "siloBorrowsDbPreMerge['protocol'] = 'silo'\n",
    "siloBorrowsDbPreMerge['action'] = 'borrowStablecoin'\n",
    "siloBorrowsDbPreMerge.head(10)"
   ],
   "metadata": {
    "collapsed": false
   }
  },
  {
   "cell_type": "markdown",
   "source": [
    "DONT FORGET VESTA"
   ],
   "metadata": {
    "collapsed": false
   }
  },
  {
   "cell_type": "code",
   "execution_count": 809,
   "outputs": [
    {
     "data": {
      "text/plain": "                                          actions_id  actions_timestamp  \\\n0  0x66fe10ed6dcb8b83bdb5b0c46cd321060734b9063bd5...         1676673563   \n0  0x15f93b52199fd785e5e2423777b99e80b93b5ac0ea6f...         1676823143   \n\n             dateTime                                deposit_from  \\\n0 2023-02-17 22:39:23  0xd33e76d21d32c21811593ae54e38f68df0cfe8ed   \n0 2023-02-19 16:12:23  0x4731223a7b5ac0c425f1f35d0bdf6d340a93a181   \n\n  asset_symbol  ReadableAmount protocol            action  \n0          XAI         60500.0     silo  borrowStablecoin  \n0         FRAX           400.0     Frax  borrowStablecoin  ",
      "text/html": "<div>\n<style scoped>\n    .dataframe tbody tr th:only-of-type {\n        vertical-align: middle;\n    }\n\n    .dataframe tbody tr th {\n        vertical-align: top;\n    }\n\n    .dataframe thead th {\n        text-align: right;\n    }\n</style>\n<table border=\"1\" class=\"dataframe\">\n  <thead>\n    <tr style=\"text-align: right;\">\n      <th></th>\n      <th>actions_id</th>\n      <th>actions_timestamp</th>\n      <th>dateTime</th>\n      <th>deposit_from</th>\n      <th>asset_symbol</th>\n      <th>ReadableAmount</th>\n      <th>protocol</th>\n      <th>action</th>\n    </tr>\n  </thead>\n  <tbody>\n    <tr>\n      <th>0</th>\n      <td>0x66fe10ed6dcb8b83bdb5b0c46cd321060734b9063bd5...</td>\n      <td>1676673563</td>\n      <td>2023-02-17 22:39:23</td>\n      <td>0xd33e76d21d32c21811593ae54e38f68df0cfe8ed</td>\n      <td>XAI</td>\n      <td>60500.0</td>\n      <td>silo</td>\n      <td>borrowStablecoin</td>\n    </tr>\n    <tr>\n      <th>0</th>\n      <td>0x15f93b52199fd785e5e2423777b99e80b93b5ac0ea6f...</td>\n      <td>1676823143</td>\n      <td>2023-02-19 16:12:23</td>\n      <td>0x4731223a7b5ac0c425f1f35d0bdf6d340a93a181</td>\n      <td>FRAX</td>\n      <td>400.0</td>\n      <td>Frax</td>\n      <td>borrowStablecoin</td>\n    </tr>\n  </tbody>\n</table>\n</div>"
     },
     "execution_count": 809,
     "metadata": {},
     "output_type": "execute_result"
    }
   ],
   "source": [
    "stablecoinsBorrowedWithGOHMCollateral = pd.concat([siloBorrowsDbPreMerge,fraxBorrowsDbPreMerge])\n",
    "stablecoinsBorrowedWithGOHMCollateral.head(10)"
   ],
   "metadata": {
    "collapsed": false
   }
  },
  {
   "cell_type": "code",
   "execution_count": 810,
   "outputs": [
    {
     "name": "stdout",
     "output_type": "stream",
     "text": [
      "D:\\Dropbox\\Documents\\Edgecaser LLC\\Projects\\Olympus\\Econohmetrics\\gohmAsStablecoinCollateral/data/stablecoinsBorrowedWithGOHMCollateralDeposits_piped.csv file saved, 275  records at 2023-02-19 18:46:04.954749\n"
     ]
    }
   ],
   "source": [
    "stablecoinsBorrowedWithGOHMCollateralDepositsLength = len(stablecoinsBorrowedWithGOHMCollateralDeposits)\n",
    "path =file+'/stablecoinsBorrowedWithGOHMCollateralDeposits.csv'\n",
    "stablecoinsBorrowedWithGOHMCollateralDeposits.to_csv(path, index = False)\n",
    "\n",
    "path =file+'/stablecoinsBorrowedWithGOHMCollateralDeposits_piped.csv'\n",
    "stablecoinsBorrowedWithGOHMCollateralDeposits.to_csv(path, index = False, sep='|')\n",
    "print(path, 'file saved,', fraxBorrowsWithGOHMCollateralLength,' records at', (dt.datetime.now()) )"
   ],
   "metadata": {
    "collapsed": false
   }
  },
  {
   "cell_type": "markdown",
   "source": [
    "**********************************************************\n",
    "MERGE EVERYTHING\n"
   ],
   "metadata": {
    "collapsed": false
   }
  },
  {
   "cell_type": "markdown",
   "source": [],
   "metadata": {
    "collapsed": false
   }
  },
  {
   "cell_type": "code",
   "execution_count": 811,
   "outputs": [
    {
     "data": {
      "text/plain": "                                          actions_id  actions_timestamp  \\\n0  0x66fe10ed6dcb8b83bdb5b0c46cd321060734b9063bd5...         1676673563   \n\n                                 deposit_from asset_symbol  \\\n0  0xd33e76d21d32c21811593ae54e38f68df0cfe8ed          XAI   \n\n   depositReadableAmount protocol            action  \n0                60500.0     silo  borrowStablecoin  ",
      "text/html": "<div>\n<style scoped>\n    .dataframe tbody tr th:only-of-type {\n        vertical-align: middle;\n    }\n\n    .dataframe tbody tr th {\n        vertical-align: top;\n    }\n\n    .dataframe thead th {\n        text-align: right;\n    }\n</style>\n<table border=\"1\" class=\"dataframe\">\n  <thead>\n    <tr style=\"text-align: right;\">\n      <th></th>\n      <th>actions_id</th>\n      <th>actions_timestamp</th>\n      <th>deposit_from</th>\n      <th>asset_symbol</th>\n      <th>depositReadableAmount</th>\n      <th>protocol</th>\n      <th>action</th>\n    </tr>\n  </thead>\n  <tbody>\n    <tr>\n      <th>0</th>\n      <td>0x66fe10ed6dcb8b83bdb5b0c46cd321060734b9063bd5...</td>\n      <td>1676673563</td>\n      <td>0xd33e76d21d32c21811593ae54e38f68df0cfe8ed</td>\n      <td>XAI</td>\n      <td>60500.0</td>\n      <td>silo</td>\n      <td>borrowStablecoin</td>\n    </tr>\n  </tbody>\n</table>\n</div>"
     },
     "execution_count": 811,
     "metadata": {},
     "output_type": "execute_result"
    }
   ],
   "source": [
    "stablecoinsBorrowedWithGOHMCollateralDeposits.head(1)"
   ],
   "metadata": {
    "collapsed": false
   }
  },
  {
   "cell_type": "code",
   "execution_count": 811,
   "outputs": [],
   "source": [],
   "metadata": {
    "collapsed": false
   }
  },
  {
   "cell_type": "code",
   "execution_count": 812,
   "outputs": [
    {
     "data": {
      "text/plain": "                                          actions_id  actions_timestamp  \\\n0  0xecd6140bbb896413a25d34ca87f5503b56c444f1e582...         1676673263   \n0  0x4c7cd0a0fe188a8049ac8c28269d52106804986dfb99...         1676856395   \n1  0xbea1383c97aff27bcf1cbe8f19ba3938e16a0f04b45f...         1676837783   \n0  0xf4707edc29622f90030af624d1918ff5ae613cef90d8...         1676474867   \n0  0x66fe10ed6dcb8b83bdb5b0c46cd321060734b9063bd5...         1676673563   \n0  0x15f93b52199fd785e5e2423777b99e80b93b5ac0ea6f...         1676823143   \n\n             dateTime                                deposit_from  \\\n0 2023-02-17 22:34:23  0xd33e76d21d32c21811593ae54e38f68df0cfe8ed   \n0 2023-02-20 01:26:35  0xc0e0de939f26e71683452467942aff455ca153e3   \n1 2023-02-19 20:16:23  0x343ee80f82440a498e48ae186e066809750a055b   \n0 2023-02-15 15:27:47  0x0493bcca897a2248ae3cd4c66aea90dbfc7e13c6   \n0 2023-02-17 22:39:23  0xd33e76d21d32c21811593ae54e38f68df0cfe8ed   \n0 2023-02-19 16:12:23  0x4731223a7b5ac0c425f1f35d0bdf6d340a93a181   \n\n  asset_symbol  ReadableAmount protocol              action  \n0         gOHM       48.922199     silo   depositCollateral  \n0         gOHM        6.480000     Frax   depositCollateral  \n1         gOHM       20.000000     Frax   depositCollateral  \n0         gOHM       25.000039     silo  withdrawCollateral  \n0          XAI    60500.000000     silo    borrowStablecoin  \n0         FRAX      400.000000     Frax    borrowStablecoin  ",
      "text/html": "<div>\n<style scoped>\n    .dataframe tbody tr th:only-of-type {\n        vertical-align: middle;\n    }\n\n    .dataframe tbody tr th {\n        vertical-align: top;\n    }\n\n    .dataframe thead th {\n        text-align: right;\n    }\n</style>\n<table border=\"1\" class=\"dataframe\">\n  <thead>\n    <tr style=\"text-align: right;\">\n      <th></th>\n      <th>actions_id</th>\n      <th>actions_timestamp</th>\n      <th>dateTime</th>\n      <th>deposit_from</th>\n      <th>asset_symbol</th>\n      <th>ReadableAmount</th>\n      <th>protocol</th>\n      <th>action</th>\n    </tr>\n  </thead>\n  <tbody>\n    <tr>\n      <th>0</th>\n      <td>0xecd6140bbb896413a25d34ca87f5503b56c444f1e582...</td>\n      <td>1676673263</td>\n      <td>2023-02-17 22:34:23</td>\n      <td>0xd33e76d21d32c21811593ae54e38f68df0cfe8ed</td>\n      <td>gOHM</td>\n      <td>48.922199</td>\n      <td>silo</td>\n      <td>depositCollateral</td>\n    </tr>\n    <tr>\n      <th>0</th>\n      <td>0x4c7cd0a0fe188a8049ac8c28269d52106804986dfb99...</td>\n      <td>1676856395</td>\n      <td>2023-02-20 01:26:35</td>\n      <td>0xc0e0de939f26e71683452467942aff455ca153e3</td>\n      <td>gOHM</td>\n      <td>6.480000</td>\n      <td>Frax</td>\n      <td>depositCollateral</td>\n    </tr>\n    <tr>\n      <th>1</th>\n      <td>0xbea1383c97aff27bcf1cbe8f19ba3938e16a0f04b45f...</td>\n      <td>1676837783</td>\n      <td>2023-02-19 20:16:23</td>\n      <td>0x343ee80f82440a498e48ae186e066809750a055b</td>\n      <td>gOHM</td>\n      <td>20.000000</td>\n      <td>Frax</td>\n      <td>depositCollateral</td>\n    </tr>\n    <tr>\n      <th>0</th>\n      <td>0xf4707edc29622f90030af624d1918ff5ae613cef90d8...</td>\n      <td>1676474867</td>\n      <td>2023-02-15 15:27:47</td>\n      <td>0x0493bcca897a2248ae3cd4c66aea90dbfc7e13c6</td>\n      <td>gOHM</td>\n      <td>25.000039</td>\n      <td>silo</td>\n      <td>withdrawCollateral</td>\n    </tr>\n    <tr>\n      <th>0</th>\n      <td>0x66fe10ed6dcb8b83bdb5b0c46cd321060734b9063bd5...</td>\n      <td>1676673563</td>\n      <td>2023-02-17 22:39:23</td>\n      <td>0xd33e76d21d32c21811593ae54e38f68df0cfe8ed</td>\n      <td>XAI</td>\n      <td>60500.000000</td>\n      <td>silo</td>\n      <td>borrowStablecoin</td>\n    </tr>\n    <tr>\n      <th>0</th>\n      <td>0x15f93b52199fd785e5e2423777b99e80b93b5ac0ea6f...</td>\n      <td>1676823143</td>\n      <td>2023-02-19 16:12:23</td>\n      <td>0x4731223a7b5ac0c425f1f35d0bdf6d340a93a181</td>\n      <td>FRAX</td>\n      <td>400.000000</td>\n      <td>Frax</td>\n      <td>borrowStablecoin</td>\n    </tr>\n  </tbody>\n</table>\n</div>"
     },
     "execution_count": 812,
     "metadata": {},
     "output_type": "execute_result"
    }
   ],
   "source": [
    "stablecoinsBorrowedWithGOHMCollateralEvents = pd.DataFrame()\n",
    "stablecoinsBorrowedWithGOHMCollateralEvents = pd.concat([gOHMCollateralDeposits,gOHMCollateralWithdrawals,stablecoinsBorrowedWithGOHMCollateral])\n",
    "stablecoinsBorrowedWithGOHMCollateralEvents.head(1000)"
   ],
   "metadata": {
    "collapsed": false
   }
  },
  {
   "cell_type": "code",
   "execution_count": 813,
   "outputs": [
    {
     "name": "stdout",
     "output_type": "stream",
     "text": [
      "D:\\Dropbox\\Documents\\Edgecaser LLC\\Projects\\Olympus\\Econohmetrics\\gohmAsStablecoinCollateral/data/stablecoinsBorrowedWithGOHMCollateralEvents_piped.csv file saved, 6  records at 2023-02-19 18:46:16.821414\n"
     ]
    }
   ],
   "source": [
    "stablecoinsBorrowedWithGOHMCollateralEventsLength = len(stablecoinsBorrowedWithGOHMCollateralEvents)\n",
    "path =file+'/stablecoinsBorrowedWithGOHMCollateralEvents.csv'\n",
    "stablecoinsBorrowedWithGOHMCollateralEvents.to_csv(path, index = False)\n",
    "\n",
    "path =file+'/stablecoinsBorrowedWithGOHMCollateralEvents_piped.csv'\n",
    "stablecoinsBorrowedWithGOHMCollateralEvents.to_csv(path, index = False, sep='|')\n",
    "print(path, 'file saved,', stablecoinsBorrowedWithGOHMCollateralEventsLength,' records at', (dt.datetime.now()) )"
   ],
   "metadata": {
    "collapsed": false
   }
  },
  {
   "cell_type": "code",
   "execution_count": null,
   "outputs": [],
   "source": [],
   "metadata": {
    "collapsed": false
   }
  },
  {
   "cell_type": "markdown",
   "source": [
    "FRAX DAILY SNAPS"
   ],
   "metadata": {
    "collapsed": false
   }
  },
  {
   "cell_type": "code",
   "execution_count": null,
   "outputs": [],
   "source": [],
   "metadata": {
    "collapsed": false
   }
  },
  {
   "cell_type": "code",
   "execution_count": 883,
   "outputs": [
    {
     "name": "stdout",
     "output_type": "stream",
     "text": [
      "iterations:  0 Lines skipped:  0 records collected:  84  - latest recordID:  gOHM   0x66bf36dba79d4606039f04b32946a260bcd3ff52-Recent  - pairSnapshots DB length:  84  - latest record from:  1969-12-31 16:00:00 19408 days ago\n",
      "Done. Total Records collected:  84\n"
     ]
    }
   ],
   "source": [
    "pairSnapshotsListLength=0\n",
    "pairSnapshotsTicker = 0\n",
    "Snapshots = pd.DataFrame()\n",
    "pairSnapshotsDb = pd.DataFrame()\n",
    "pairSnapshotsListLength = 1000\n",
    "datediff = 0\n",
    "now=0\n",
    "daysAgo=0\n",
    "daysLimit = 45\n",
    "exit= False\n",
    "while exit==False:\n",
    "    #listLength=0\n",
    "    skipValue = (pairSnapshotsTicker)*(1000)\n",
    "    pairsQuery = frax.Query.pairPerDays(\n",
    "         orderBy='id'\n",
    "        ,orderDirection='desc'\n",
    "        ,first=1000\n",
    "        ,skipValue = skipValue\n",
    "        #,where = [frax.Query.pairs.token.id == '0x66bf36dba79d4606039f04b32946a260bcd3ff52']\n",
    "        ,where={ 'pair': '0x66bf36dba79d4606039f04b32946a260bcd3ff52' }\n",
    "        #,where = {'positions.pairid':'0x66bf36dba79d4606039f04b32946a260bcd3ff52'}\n",
    "    #{'users_positions_pair_id':'0x66bf36dba79d4606039f04b32946a260bcd3ff52'}\n",
    "\n",
    "    )\n",
    "    Snapshots= sg.query_df([\n",
    "    pairsQuery.id\n",
    "    ,pairsQuery.pair.collateral.symbol\n",
    "    ,pairsQuery.pair.collateral.decimals\n",
    "    ,pairsQuery.pair.asset.symbol\n",
    "    ,pairsQuery.pair.asset.decimals\n",
    "    ,pairsQuery.feeToProtocolRate\n",
    "    ,pairsQuery.exchangeRate\n",
    "    ,pairsQuery.totalAssetAmount\n",
    "    ,pairsQuery.totalAssetShare\n",
    "    ,pairsQuery.totalCollateral\n",
    "    ,pairsQuery.totalBorrowAmount\n",
    "    ,pairsQuery.totalBorrowShare\n",
    "    ,pairsQuery.interestPerSecond\n",
    "    ,pairsQuery.utilization\n",
    "    ,pairsQuery.totalFeesAmount\n",
    "    ,pairsQuery.totalFeesShare\n",
    "    ,pairsQuery.lastAccrued\n",
    "    ,pairsQuery.block\n",
    "    ,pairsQuery.timestamp\n",
    "    ,pairsQuery.totalAssetValue\n",
    "    ,pairsQuery.totalCollateralValue\n",
    "    ,pairsQuery.totalBorrowValue\n",
    "    ,pairsQuery.pair\n",
    "    ]\n",
    "    )\n",
    "\n",
    "    Snapshots.sort_values(by=['pairPerDays_timestamp'])\n",
    "\n",
    "    pairSnapshotsDb=pd.concat([pairSnapshotsDb, Snapshots])\n",
    "    recordTimestamp1 = pairSnapshotsDb.iat[pairSnapshotsTicker,14]\n",
    "    recordTimestamp = dt.datetime.fromtimestamp( recordTimestamp1 )\n",
    "    now = (int(dt.datetime.utcnow().timestamp()))\n",
    "    datediff=abs(int(now) - recordTimestamp1)\n",
    "    daysAgo = int(datediff/86400)\n",
    "    pairSnapshotsDbLength = len(pairSnapshotsDb)\n",
    "    pairSnapshotsListLength = len(Snapshots)\n",
    "    recordID = pairSnapshotsDb.iat[pairSnapshotsTicker,0]\n",
    "    Snapshot = pairSnapshotsDb.iat[pairSnapshotsTicker,1]\n",
    "    print(\"iterations: \", pairSnapshotsTicker, \"Lines skipped: \",skipValue, \"records collected: \", pairSnapshotsListLength, \" - latest recordID: \",Snapshot, \" \", recordID , \" - pairSnapshots DB length: \", pairSnapshotsDbLength, \" - latest record from: \", recordTimestamp, daysAgo,\"days ago\")\n",
    "    #print(\"iterations: \", pairSnapshotsTicker, \"records collected: \", pairSnapshotsListLength, \" - userdb length: \", pairSnapshotsDbLength)\n",
    "    if daysAgo>daysLimit: exit =True\n",
    "    if pairSnapshotsListLength<1000: exit =True\n",
    "    pairSnapshotsTicker = pairSnapshotsTicker+1\n",
    "\n",
    "print(\"Done. Total Records collected: \", pairSnapshotsDbLength)"
   ],
   "metadata": {
    "collapsed": false
   }
  },
  {
   "cell_type": "code",
   "execution_count": 884,
   "outputs": [
    {
     "data": {
      "text/plain": "                                      pairPerDays_id  \\\n0  0x66bf36dba79d4606039f04b32946a260bcd3ff52-Recent   \n1   0x66bf36dba79d4606039f04b32946a260bcd3ff52-19408   \n2   0x66bf36dba79d4606039f04b32946a260bcd3ff52-19407   \n3   0x66bf36dba79d4606039f04b32946a260bcd3ff52-19406   \n4   0x66bf36dba79d4606039f04b32946a260bcd3ff52-19405   \n5   0x66bf36dba79d4606039f04b32946a260bcd3ff52-19404   \n6   0x66bf36dba79d4606039f04b32946a260bcd3ff52-19403   \n7   0x66bf36dba79d4606039f04b32946a260bcd3ff52-19402   \n8   0x66bf36dba79d4606039f04b32946a260bcd3ff52-19401   \n9   0x66bf36dba79d4606039f04b32946a260bcd3ff52-19400   \n\n  pairPerDays_pair_collateral_symbol  pairPerDays_pair_collateral_decimals  \\\n0                               gOHM                                    18   \n1                               gOHM                                    18   \n2                               gOHM                                    18   \n3                               gOHM                                    18   \n4                               gOHM                                    18   \n5                               gOHM                                    18   \n6                               gOHM                                    18   \n7                               gOHM                                    18   \n8                               gOHM                                    18   \n9                               gOHM                                    18   \n\n  pairPerDays_pair_asset_symbol  pairPerDays_pair_asset_decimals  \\\n0                          FRAX                               18   \n1                          FRAX                               18   \n2                          FRAX                               18   \n3                          FRAX                               18   \n4                          FRAX                               18   \n5                          FRAX                               18   \n6                          FRAX                               18   \n7                          FRAX                               18   \n8                          FRAX                               18   \n9                          FRAX                               18   \n\n   pairPerDays_feeToProtocolRate  pairPerDays_exchangeRate  \\\n0                              0           352708931626223   \n1                              0           352708931626223   \n2                              0           354538364355376   \n3                              0           353906299486322   \n4                              0           350112376599804   \n5                              0           363785846961333   \n6                              0           346065938064754   \n7                              0           355065538289602   \n8                              0           361722603166047   \n9                              0           378555412205106   \n\n  pairPerDays_totalAssetAmount pairPerDays_totalAssetShare  \\\n0    5035608515813821703875422   4966638858282894118426824   \n1    5035608515813821703875422   4966638858282894118426824   \n2    5035386265636883114384206   4966638858282894118426824   \n3    5034722075873021602597750   4967011772748759733227735   \n4    4698486647811909309719977   4636381316961784483066425   \n5    4737561509933966578859758   4675953474727265989294250   \n6    4696443773732938768853377   4636381316961784483066425   \n7    4675315360621293243183076   4616545966840300870160156   \n8    5214478754084957077245512   5149945278165210104338772   \n9    5213593301053638152367912   5149945278165210104338772   \n\n  pairPerDays_totalCollateral  ...  \\\n0      3049199062322648903525  ...   \n1      3049199062322648903525  ...   \n2      3035712082883572555858  ...   \n3      3015712082883572555858  ...   \n4      2938561823965620072232  ...   \n5      2926144943608541855178  ...   \n6      2926505753609477928993  ...   \n7      2962449892162877274570  ...   \n8      2920785897200163201938  ...   \n9      2924565205619252920997  ...   \n\n               pairPerDays_pair_collateral_id  \\\n0  0x0ab87046fbb341d058f17cbc4c1133f25a20a52f   \n1  0x0ab87046fbb341d058f17cbc4c1133f25a20a52f   \n2  0x0ab87046fbb341d058f17cbc4c1133f25a20a52f   \n3  0x0ab87046fbb341d058f17cbc4c1133f25a20a52f   \n4  0x0ab87046fbb341d058f17cbc4c1133f25a20a52f   \n5  0x0ab87046fbb341d058f17cbc4c1133f25a20a52f   \n6  0x0ab87046fbb341d058f17cbc4c1133f25a20a52f   \n7  0x0ab87046fbb341d058f17cbc4c1133f25a20a52f   \n8  0x0ab87046fbb341d058f17cbc4c1133f25a20a52f   \n9  0x0ab87046fbb341d058f17cbc4c1133f25a20a52f   \n\n    pairPerDays_pair_oracleMultiplyAddress_id  \\\n0  0x0000000000000000000000000000000000000000   \n1  0x0000000000000000000000000000000000000000   \n2  0x0000000000000000000000000000000000000000   \n3  0x0000000000000000000000000000000000000000   \n4  0x0000000000000000000000000000000000000000   \n5  0x0000000000000000000000000000000000000000   \n6  0x0000000000000000000000000000000000000000   \n7  0x0000000000000000000000000000000000000000   \n8  0x0000000000000000000000000000000000000000   \n9  0x0000000000000000000000000000000000000000   \n\n      pairPerDays_pair_oracleDivideAddress_id  \\\n0  0xe893297a9d4310976424fd0b25f53ac2b6464fe3   \n1  0xe893297a9d4310976424fd0b25f53ac2b6464fe3   \n2  0xe893297a9d4310976424fd0b25f53ac2b6464fe3   \n3  0xe893297a9d4310976424fd0b25f53ac2b6464fe3   \n4  0xe893297a9d4310976424fd0b25f53ac2b6464fe3   \n5  0xe893297a9d4310976424fd0b25f53ac2b6464fe3   \n6  0xe893297a9d4310976424fd0b25f53ac2b6464fe3   \n7  0xe893297a9d4310976424fd0b25f53ac2b6464fe3   \n8  0xe893297a9d4310976424fd0b25f53ac2b6464fe3   \n9  0xe893297a9d4310976424fd0b25f53ac2b6464fe3   \n\n             pairPerDays_pair_rateContract_id  pairPerDays_pair_maxLTV  \\\n0  0x18500cb1f2fe7a40ebda393383a0b8548a31f261                    75000   \n1  0x18500cb1f2fe7a40ebda393383a0b8548a31f261                    75000   \n2  0x18500cb1f2fe7a40ebda393383a0b8548a31f261                    75000   \n3  0x18500cb1f2fe7a40ebda393383a0b8548a31f261                    75000   \n4  0x18500cb1f2fe7a40ebda393383a0b8548a31f261                    75000   \n5  0x18500cb1f2fe7a40ebda393383a0b8548a31f261                    75000   \n6  0x18500cb1f2fe7a40ebda393383a0b8548a31f261                    75000   \n7  0x18500cb1f2fe7a40ebda393383a0b8548a31f261                    75000   \n8  0x18500cb1f2fe7a40ebda393383a0b8548a31f261                    75000   \n9  0x18500cb1f2fe7a40ebda393383a0b8548a31f261                    75000   \n\n   pairPerDays_pair_liquidationFee  pairPerDays_pair_maturity  \\\n0                            10000                          0   \n1                            10000                          0   \n2                            10000                          0   \n3                            10000                          0   \n4                            10000                          0   \n5                            10000                          0   \n6                            10000                          0   \n7                            10000                          0   \n8                            10000                          0   \n9                            10000                          0   \n\n   pairPerDays_pair_pauseStatus  pairPerDays_pair_lenderWhitelistActive  \\\n0                         False                                   False   \n1                         False                                   False   \n2                         False                                   False   \n3                         False                                   False   \n4                         False                                   False   \n5                         False                                   False   \n6                         False                                   False   \n7                         False                                   False   \n8                         False                                   False   \n9                         False                                   False   \n\n  pairPerDays_pair_borrowerWhitelistActive  \n0                                    False  \n1                                    False  \n2                                    False  \n3                                    False  \n4                                    False  \n5                                    False  \n6                                    False  \n7                                    False  \n8                                    False  \n9                                    False  \n\n[10 rows x 37 columns]",
      "text/html": "<div>\n<style scoped>\n    .dataframe tbody tr th:only-of-type {\n        vertical-align: middle;\n    }\n\n    .dataframe tbody tr th {\n        vertical-align: top;\n    }\n\n    .dataframe thead th {\n        text-align: right;\n    }\n</style>\n<table border=\"1\" class=\"dataframe\">\n  <thead>\n    <tr style=\"text-align: right;\">\n      <th></th>\n      <th>pairPerDays_id</th>\n      <th>pairPerDays_pair_collateral_symbol</th>\n      <th>pairPerDays_pair_collateral_decimals</th>\n      <th>pairPerDays_pair_asset_symbol</th>\n      <th>pairPerDays_pair_asset_decimals</th>\n      <th>pairPerDays_feeToProtocolRate</th>\n      <th>pairPerDays_exchangeRate</th>\n      <th>pairPerDays_totalAssetAmount</th>\n      <th>pairPerDays_totalAssetShare</th>\n      <th>pairPerDays_totalCollateral</th>\n      <th>...</th>\n      <th>pairPerDays_pair_collateral_id</th>\n      <th>pairPerDays_pair_oracleMultiplyAddress_id</th>\n      <th>pairPerDays_pair_oracleDivideAddress_id</th>\n      <th>pairPerDays_pair_rateContract_id</th>\n      <th>pairPerDays_pair_maxLTV</th>\n      <th>pairPerDays_pair_liquidationFee</th>\n      <th>pairPerDays_pair_maturity</th>\n      <th>pairPerDays_pair_pauseStatus</th>\n      <th>pairPerDays_pair_lenderWhitelistActive</th>\n      <th>pairPerDays_pair_borrowerWhitelistActive</th>\n    </tr>\n  </thead>\n  <tbody>\n    <tr>\n      <th>0</th>\n      <td>0x66bf36dba79d4606039f04b32946a260bcd3ff52-Recent</td>\n      <td>gOHM</td>\n      <td>18</td>\n      <td>FRAX</td>\n      <td>18</td>\n      <td>0</td>\n      <td>352708931626223</td>\n      <td>5035608515813821703875422</td>\n      <td>4966638858282894118426824</td>\n      <td>3049199062322648903525</td>\n      <td>...</td>\n      <td>0x0ab87046fbb341d058f17cbc4c1133f25a20a52f</td>\n      <td>0x0000000000000000000000000000000000000000</td>\n      <td>0xe893297a9d4310976424fd0b25f53ac2b6464fe3</td>\n      <td>0x18500cb1f2fe7a40ebda393383a0b8548a31f261</td>\n      <td>75000</td>\n      <td>10000</td>\n      <td>0</td>\n      <td>False</td>\n      <td>False</td>\n      <td>False</td>\n    </tr>\n    <tr>\n      <th>1</th>\n      <td>0x66bf36dba79d4606039f04b32946a260bcd3ff52-19408</td>\n      <td>gOHM</td>\n      <td>18</td>\n      <td>FRAX</td>\n      <td>18</td>\n      <td>0</td>\n      <td>352708931626223</td>\n      <td>5035608515813821703875422</td>\n      <td>4966638858282894118426824</td>\n      <td>3049199062322648903525</td>\n      <td>...</td>\n      <td>0x0ab87046fbb341d058f17cbc4c1133f25a20a52f</td>\n      <td>0x0000000000000000000000000000000000000000</td>\n      <td>0xe893297a9d4310976424fd0b25f53ac2b6464fe3</td>\n      <td>0x18500cb1f2fe7a40ebda393383a0b8548a31f261</td>\n      <td>75000</td>\n      <td>10000</td>\n      <td>0</td>\n      <td>False</td>\n      <td>False</td>\n      <td>False</td>\n    </tr>\n    <tr>\n      <th>2</th>\n      <td>0x66bf36dba79d4606039f04b32946a260bcd3ff52-19407</td>\n      <td>gOHM</td>\n      <td>18</td>\n      <td>FRAX</td>\n      <td>18</td>\n      <td>0</td>\n      <td>354538364355376</td>\n      <td>5035386265636883114384206</td>\n      <td>4966638858282894118426824</td>\n      <td>3035712082883572555858</td>\n      <td>...</td>\n      <td>0x0ab87046fbb341d058f17cbc4c1133f25a20a52f</td>\n      <td>0x0000000000000000000000000000000000000000</td>\n      <td>0xe893297a9d4310976424fd0b25f53ac2b6464fe3</td>\n      <td>0x18500cb1f2fe7a40ebda393383a0b8548a31f261</td>\n      <td>75000</td>\n      <td>10000</td>\n      <td>0</td>\n      <td>False</td>\n      <td>False</td>\n      <td>False</td>\n    </tr>\n    <tr>\n      <th>3</th>\n      <td>0x66bf36dba79d4606039f04b32946a260bcd3ff52-19406</td>\n      <td>gOHM</td>\n      <td>18</td>\n      <td>FRAX</td>\n      <td>18</td>\n      <td>0</td>\n      <td>353906299486322</td>\n      <td>5034722075873021602597750</td>\n      <td>4967011772748759733227735</td>\n      <td>3015712082883572555858</td>\n      <td>...</td>\n      <td>0x0ab87046fbb341d058f17cbc4c1133f25a20a52f</td>\n      <td>0x0000000000000000000000000000000000000000</td>\n      <td>0xe893297a9d4310976424fd0b25f53ac2b6464fe3</td>\n      <td>0x18500cb1f2fe7a40ebda393383a0b8548a31f261</td>\n      <td>75000</td>\n      <td>10000</td>\n      <td>0</td>\n      <td>False</td>\n      <td>False</td>\n      <td>False</td>\n    </tr>\n    <tr>\n      <th>4</th>\n      <td>0x66bf36dba79d4606039f04b32946a260bcd3ff52-19405</td>\n      <td>gOHM</td>\n      <td>18</td>\n      <td>FRAX</td>\n      <td>18</td>\n      <td>0</td>\n      <td>350112376599804</td>\n      <td>4698486647811909309719977</td>\n      <td>4636381316961784483066425</td>\n      <td>2938561823965620072232</td>\n      <td>...</td>\n      <td>0x0ab87046fbb341d058f17cbc4c1133f25a20a52f</td>\n      <td>0x0000000000000000000000000000000000000000</td>\n      <td>0xe893297a9d4310976424fd0b25f53ac2b6464fe3</td>\n      <td>0x18500cb1f2fe7a40ebda393383a0b8548a31f261</td>\n      <td>75000</td>\n      <td>10000</td>\n      <td>0</td>\n      <td>False</td>\n      <td>False</td>\n      <td>False</td>\n    </tr>\n    <tr>\n      <th>5</th>\n      <td>0x66bf36dba79d4606039f04b32946a260bcd3ff52-19404</td>\n      <td>gOHM</td>\n      <td>18</td>\n      <td>FRAX</td>\n      <td>18</td>\n      <td>0</td>\n      <td>363785846961333</td>\n      <td>4737561509933966578859758</td>\n      <td>4675953474727265989294250</td>\n      <td>2926144943608541855178</td>\n      <td>...</td>\n      <td>0x0ab87046fbb341d058f17cbc4c1133f25a20a52f</td>\n      <td>0x0000000000000000000000000000000000000000</td>\n      <td>0xe893297a9d4310976424fd0b25f53ac2b6464fe3</td>\n      <td>0x18500cb1f2fe7a40ebda393383a0b8548a31f261</td>\n      <td>75000</td>\n      <td>10000</td>\n      <td>0</td>\n      <td>False</td>\n      <td>False</td>\n      <td>False</td>\n    </tr>\n    <tr>\n      <th>6</th>\n      <td>0x66bf36dba79d4606039f04b32946a260bcd3ff52-19403</td>\n      <td>gOHM</td>\n      <td>18</td>\n      <td>FRAX</td>\n      <td>18</td>\n      <td>0</td>\n      <td>346065938064754</td>\n      <td>4696443773732938768853377</td>\n      <td>4636381316961784483066425</td>\n      <td>2926505753609477928993</td>\n      <td>...</td>\n      <td>0x0ab87046fbb341d058f17cbc4c1133f25a20a52f</td>\n      <td>0x0000000000000000000000000000000000000000</td>\n      <td>0xe893297a9d4310976424fd0b25f53ac2b6464fe3</td>\n      <td>0x18500cb1f2fe7a40ebda393383a0b8548a31f261</td>\n      <td>75000</td>\n      <td>10000</td>\n      <td>0</td>\n      <td>False</td>\n      <td>False</td>\n      <td>False</td>\n    </tr>\n    <tr>\n      <th>7</th>\n      <td>0x66bf36dba79d4606039f04b32946a260bcd3ff52-19402</td>\n      <td>gOHM</td>\n      <td>18</td>\n      <td>FRAX</td>\n      <td>18</td>\n      <td>0</td>\n      <td>355065538289602</td>\n      <td>4675315360621293243183076</td>\n      <td>4616545966840300870160156</td>\n      <td>2962449892162877274570</td>\n      <td>...</td>\n      <td>0x0ab87046fbb341d058f17cbc4c1133f25a20a52f</td>\n      <td>0x0000000000000000000000000000000000000000</td>\n      <td>0xe893297a9d4310976424fd0b25f53ac2b6464fe3</td>\n      <td>0x18500cb1f2fe7a40ebda393383a0b8548a31f261</td>\n      <td>75000</td>\n      <td>10000</td>\n      <td>0</td>\n      <td>False</td>\n      <td>False</td>\n      <td>False</td>\n    </tr>\n    <tr>\n      <th>8</th>\n      <td>0x66bf36dba79d4606039f04b32946a260bcd3ff52-19401</td>\n      <td>gOHM</td>\n      <td>18</td>\n      <td>FRAX</td>\n      <td>18</td>\n      <td>0</td>\n      <td>361722603166047</td>\n      <td>5214478754084957077245512</td>\n      <td>5149945278165210104338772</td>\n      <td>2920785897200163201938</td>\n      <td>...</td>\n      <td>0x0ab87046fbb341d058f17cbc4c1133f25a20a52f</td>\n      <td>0x0000000000000000000000000000000000000000</td>\n      <td>0xe893297a9d4310976424fd0b25f53ac2b6464fe3</td>\n      <td>0x18500cb1f2fe7a40ebda393383a0b8548a31f261</td>\n      <td>75000</td>\n      <td>10000</td>\n      <td>0</td>\n      <td>False</td>\n      <td>False</td>\n      <td>False</td>\n    </tr>\n    <tr>\n      <th>9</th>\n      <td>0x66bf36dba79d4606039f04b32946a260bcd3ff52-19400</td>\n      <td>gOHM</td>\n      <td>18</td>\n      <td>FRAX</td>\n      <td>18</td>\n      <td>0</td>\n      <td>378555412205106</td>\n      <td>5213593301053638152367912</td>\n      <td>5149945278165210104338772</td>\n      <td>2924565205619252920997</td>\n      <td>...</td>\n      <td>0x0ab87046fbb341d058f17cbc4c1133f25a20a52f</td>\n      <td>0x0000000000000000000000000000000000000000</td>\n      <td>0xe893297a9d4310976424fd0b25f53ac2b6464fe3</td>\n      <td>0x18500cb1f2fe7a40ebda393383a0b8548a31f261</td>\n      <td>75000</td>\n      <td>10000</td>\n      <td>0</td>\n      <td>False</td>\n      <td>False</td>\n      <td>False</td>\n    </tr>\n  </tbody>\n</table>\n<p>10 rows × 37 columns</p>\n</div>"
     },
     "execution_count": 884,
     "metadata": {},
     "output_type": "execute_result"
    }
   ],
   "source": [
    "pairSnapshotsDb.head(10)"
   ],
   "metadata": {
    "collapsed": false
   }
  },
  {
   "cell_type": "code",
   "execution_count": 887,
   "outputs": [
    {
     "data": {
      "text/plain": "                                       pairPerDays_id  \\\n0   0x66bf36dba79d4606039f04b32946a260bcd3ff52-Recent   \n1    0x66bf36dba79d4606039f04b32946a260bcd3ff52-19408   \n2    0x66bf36dba79d4606039f04b32946a260bcd3ff52-19407   \n3    0x66bf36dba79d4606039f04b32946a260bcd3ff52-19406   \n4    0x66bf36dba79d4606039f04b32946a260bcd3ff52-19405   \n..                                                ...   \n79   0x66bf36dba79d4606039f04b32946a260bcd3ff52-19330   \n80   0x66bf36dba79d4606039f04b32946a260bcd3ff52-19329   \n81   0x66bf36dba79d4606039f04b32946a260bcd3ff52-19328   \n82   0x66bf36dba79d4606039f04b32946a260bcd3ff52-19327   \n83   0x66bf36dba79d4606039f04b32946a260bcd3ff52-19326   \n\n   pairPerDays_pair_collateral_symbol  pairPerDays_pair_collateral_decimals  \\\n0                                gOHM                                    18   \n1                                gOHM                                    18   \n2                                gOHM                                    18   \n3                                gOHM                                    18   \n4                                gOHM                                    18   \n..                                ...                                   ...   \n79                               gOHM                                    18   \n80                               gOHM                                    18   \n81                               gOHM                                    18   \n82                               gOHM                                    18   \n83                               gOHM                                    18   \n\n   pairPerDays_pair_asset_symbol  pairPerDays_pair_asset_decimals  \\\n0                           FRAX                               18   \n1                           FRAX                               18   \n2                           FRAX                               18   \n3                           FRAX                               18   \n4                           FRAX                               18   \n..                           ...                              ...   \n79                          FRAX                               18   \n80                          FRAX                               18   \n81                          FRAX                               18   \n82                          FRAX                               18   \n83                          FRAX                               18   \n\n    pairPerDays_feeToProtocolRate  pairPerDays_exchangeRate  \\\n0                               0           352708931626223   \n1                               0           352708931626223   \n2                               0           354538364355376   \n3                               0           353906299486322   \n4                               0           350112376599804   \n..                            ...                       ...   \n79                              0           416982985435782   \n80                              0           435238970363534   \n81                              0           424429606966213   \n82                              0           455232217741157   \n83                              0           444954878564299   \n\n   pairPerDays_totalAssetAmount pairPerDays_totalAssetShare  \\\n0     5035608515813821703875422   4966638858282894118426824   \n1     5035608515813821703875422   4966638858282894118426824   \n2     5035386265636883114384206   4966638858282894118426824   \n3     5034722075873021602597750   4967011772748759733227735   \n4     4698486647811909309719977   4636381316961784483066425   \n..                          ...                         ...   \n79    3000265799749067769553552   2999681610314728238726349   \n80    3000407417762830870845360   2999931610314728238726349   \n81    3000316417810236657492429   2999931610314728238726349   \n82    1000250018374254924219488   1000177511746822029696096   \n83                            0                           0   \n\n   pairPerDays_totalCollateral  ...  \\\n0       3049199062322648903525  ...   \n1       3049199062322648903525  ...   \n2       3035712082883572555858  ...   \n3       3015712082883572555858  ...   \n4       2938561823965620072232  ...   \n..                         ...  ...   \n79      1702267776392927486576  ...   \n80      1460557767872656691963  ...   \n81      1298896246642712535146  ...   \n82          116544304370705257  ...   \n83                           0  ...   \n\n              pairPerDays_pair_rateContract_id pairPerDays_pair_maxLTV  \\\n0   0x18500cb1f2fe7a40ebda393383a0b8548a31f261                   75000   \n1   0x18500cb1f2fe7a40ebda393383a0b8548a31f261                   75000   \n2   0x18500cb1f2fe7a40ebda393383a0b8548a31f261                   75000   \n3   0x18500cb1f2fe7a40ebda393383a0b8548a31f261                   75000   \n4   0x18500cb1f2fe7a40ebda393383a0b8548a31f261                   75000   \n..                                         ...                     ...   \n79  0x18500cb1f2fe7a40ebda393383a0b8548a31f261                   75000   \n80  0x18500cb1f2fe7a40ebda393383a0b8548a31f261                   75000   \n81  0x18500cb1f2fe7a40ebda393383a0b8548a31f261                   75000   \n82  0x18500cb1f2fe7a40ebda393383a0b8548a31f261                   75000   \n83  0x18500cb1f2fe7a40ebda393383a0b8548a31f261                   75000   \n\n    pairPerDays_pair_liquidationFee  pairPerDays_pair_maturity  \\\n0                             10000                          0   \n1                             10000                          0   \n2                             10000                          0   \n3                             10000                          0   \n4                             10000                          0   \n..                              ...                        ...   \n79                            10000                          0   \n80                            10000                          0   \n81                            10000                          0   \n82                            10000                          0   \n83                            10000                          0   \n\n    pairPerDays_pair_pauseStatus  pairPerDays_pair_lenderWhitelistActive  \\\n0                          False                                   False   \n1                          False                                   False   \n2                          False                                   False   \n3                          False                                   False   \n4                          False                                   False   \n..                           ...                                     ...   \n79                         False                                   False   \n80                         False                                   False   \n81                         False                                   False   \n82                         False                                   False   \n83                         False                                   False   \n\n    pairPerDays_pair_borrowerWhitelistActive  \\\n0                                      False   \n1                                      False   \n2                                      False   \n3                                      False   \n4                                      False   \n..                                       ...   \n79                                     False   \n80                                     False   \n81                                     False   \n82                                     False   \n83                                     False   \n\n    pairPerDays_totalCollateralReadable  pairPerDays_totalAssetAmountReadable  \\\n0                           3049.199062                          5.035609e+06   \n1                           3049.199062                          5.035609e+06   \n2                           3035.712083                          5.035386e+06   \n3                           3015.712083                          5.034722e+06   \n4                           2938.561824                          4.698487e+06   \n..                                  ...                                   ...   \n79                          1702.267776                          3.000266e+06   \n80                          1460.557768                          3.000407e+06   \n81                          1298.896247                          3.000316e+06   \n82                             0.116544                          1.000250e+06   \n83                             0.000000                          0.000000e+00   \n\n              dateTime  \n0  2023-02-20 04:18:47  \n1  2023-02-20 04:18:47  \n2  2023-02-19 20:16:23  \n3  2023-02-18 22:49:59  \n4  2023-02-17 23:41:35  \n..                 ...  \n79 2022-12-04 23:12:59  \n80 2022-12-03 23:30:59  \n81 2022-12-02 23:55:59  \n82 2022-12-01 21:30:47  \n83 2022-11-30 18:49:35  \n\n[84 rows x 40 columns]",
      "text/html": "<div>\n<style scoped>\n    .dataframe tbody tr th:only-of-type {\n        vertical-align: middle;\n    }\n\n    .dataframe tbody tr th {\n        vertical-align: top;\n    }\n\n    .dataframe thead th {\n        text-align: right;\n    }\n</style>\n<table border=\"1\" class=\"dataframe\">\n  <thead>\n    <tr style=\"text-align: right;\">\n      <th></th>\n      <th>pairPerDays_id</th>\n      <th>pairPerDays_pair_collateral_symbol</th>\n      <th>pairPerDays_pair_collateral_decimals</th>\n      <th>pairPerDays_pair_asset_symbol</th>\n      <th>pairPerDays_pair_asset_decimals</th>\n      <th>pairPerDays_feeToProtocolRate</th>\n      <th>pairPerDays_exchangeRate</th>\n      <th>pairPerDays_totalAssetAmount</th>\n      <th>pairPerDays_totalAssetShare</th>\n      <th>pairPerDays_totalCollateral</th>\n      <th>...</th>\n      <th>pairPerDays_pair_rateContract_id</th>\n      <th>pairPerDays_pair_maxLTV</th>\n      <th>pairPerDays_pair_liquidationFee</th>\n      <th>pairPerDays_pair_maturity</th>\n      <th>pairPerDays_pair_pauseStatus</th>\n      <th>pairPerDays_pair_lenderWhitelistActive</th>\n      <th>pairPerDays_pair_borrowerWhitelistActive</th>\n      <th>pairPerDays_totalCollateralReadable</th>\n      <th>pairPerDays_totalAssetAmountReadable</th>\n      <th>dateTime</th>\n    </tr>\n  </thead>\n  <tbody>\n    <tr>\n      <th>0</th>\n      <td>0x66bf36dba79d4606039f04b32946a260bcd3ff52-Recent</td>\n      <td>gOHM</td>\n      <td>18</td>\n      <td>FRAX</td>\n      <td>18</td>\n      <td>0</td>\n      <td>352708931626223</td>\n      <td>5035608515813821703875422</td>\n      <td>4966638858282894118426824</td>\n      <td>3049199062322648903525</td>\n      <td>...</td>\n      <td>0x18500cb1f2fe7a40ebda393383a0b8548a31f261</td>\n      <td>75000</td>\n      <td>10000</td>\n      <td>0</td>\n      <td>False</td>\n      <td>False</td>\n      <td>False</td>\n      <td>3049.199062</td>\n      <td>5.035609e+06</td>\n      <td>2023-02-20 04:18:47</td>\n    </tr>\n    <tr>\n      <th>1</th>\n      <td>0x66bf36dba79d4606039f04b32946a260bcd3ff52-19408</td>\n      <td>gOHM</td>\n      <td>18</td>\n      <td>FRAX</td>\n      <td>18</td>\n      <td>0</td>\n      <td>352708931626223</td>\n      <td>5035608515813821703875422</td>\n      <td>4966638858282894118426824</td>\n      <td>3049199062322648903525</td>\n      <td>...</td>\n      <td>0x18500cb1f2fe7a40ebda393383a0b8548a31f261</td>\n      <td>75000</td>\n      <td>10000</td>\n      <td>0</td>\n      <td>False</td>\n      <td>False</td>\n      <td>False</td>\n      <td>3049.199062</td>\n      <td>5.035609e+06</td>\n      <td>2023-02-20 04:18:47</td>\n    </tr>\n    <tr>\n      <th>2</th>\n      <td>0x66bf36dba79d4606039f04b32946a260bcd3ff52-19407</td>\n      <td>gOHM</td>\n      <td>18</td>\n      <td>FRAX</td>\n      <td>18</td>\n      <td>0</td>\n      <td>354538364355376</td>\n      <td>5035386265636883114384206</td>\n      <td>4966638858282894118426824</td>\n      <td>3035712082883572555858</td>\n      <td>...</td>\n      <td>0x18500cb1f2fe7a40ebda393383a0b8548a31f261</td>\n      <td>75000</td>\n      <td>10000</td>\n      <td>0</td>\n      <td>False</td>\n      <td>False</td>\n      <td>False</td>\n      <td>3035.712083</td>\n      <td>5.035386e+06</td>\n      <td>2023-02-19 20:16:23</td>\n    </tr>\n    <tr>\n      <th>3</th>\n      <td>0x66bf36dba79d4606039f04b32946a260bcd3ff52-19406</td>\n      <td>gOHM</td>\n      <td>18</td>\n      <td>FRAX</td>\n      <td>18</td>\n      <td>0</td>\n      <td>353906299486322</td>\n      <td>5034722075873021602597750</td>\n      <td>4967011772748759733227735</td>\n      <td>3015712082883572555858</td>\n      <td>...</td>\n      <td>0x18500cb1f2fe7a40ebda393383a0b8548a31f261</td>\n      <td>75000</td>\n      <td>10000</td>\n      <td>0</td>\n      <td>False</td>\n      <td>False</td>\n      <td>False</td>\n      <td>3015.712083</td>\n      <td>5.034722e+06</td>\n      <td>2023-02-18 22:49:59</td>\n    </tr>\n    <tr>\n      <th>4</th>\n      <td>0x66bf36dba79d4606039f04b32946a260bcd3ff52-19405</td>\n      <td>gOHM</td>\n      <td>18</td>\n      <td>FRAX</td>\n      <td>18</td>\n      <td>0</td>\n      <td>350112376599804</td>\n      <td>4698486647811909309719977</td>\n      <td>4636381316961784483066425</td>\n      <td>2938561823965620072232</td>\n      <td>...</td>\n      <td>0x18500cb1f2fe7a40ebda393383a0b8548a31f261</td>\n      <td>75000</td>\n      <td>10000</td>\n      <td>0</td>\n      <td>False</td>\n      <td>False</td>\n      <td>False</td>\n      <td>2938.561824</td>\n      <td>4.698487e+06</td>\n      <td>2023-02-17 23:41:35</td>\n    </tr>\n    <tr>\n      <th>...</th>\n      <td>...</td>\n      <td>...</td>\n      <td>...</td>\n      <td>...</td>\n      <td>...</td>\n      <td>...</td>\n      <td>...</td>\n      <td>...</td>\n      <td>...</td>\n      <td>...</td>\n      <td>...</td>\n      <td>...</td>\n      <td>...</td>\n      <td>...</td>\n      <td>...</td>\n      <td>...</td>\n      <td>...</td>\n      <td>...</td>\n      <td>...</td>\n      <td>...</td>\n      <td>...</td>\n    </tr>\n    <tr>\n      <th>79</th>\n      <td>0x66bf36dba79d4606039f04b32946a260bcd3ff52-19330</td>\n      <td>gOHM</td>\n      <td>18</td>\n      <td>FRAX</td>\n      <td>18</td>\n      <td>0</td>\n      <td>416982985435782</td>\n      <td>3000265799749067769553552</td>\n      <td>2999681610314728238726349</td>\n      <td>1702267776392927486576</td>\n      <td>...</td>\n      <td>0x18500cb1f2fe7a40ebda393383a0b8548a31f261</td>\n      <td>75000</td>\n      <td>10000</td>\n      <td>0</td>\n      <td>False</td>\n      <td>False</td>\n      <td>False</td>\n      <td>1702.267776</td>\n      <td>3.000266e+06</td>\n      <td>2022-12-04 23:12:59</td>\n    </tr>\n    <tr>\n      <th>80</th>\n      <td>0x66bf36dba79d4606039f04b32946a260bcd3ff52-19329</td>\n      <td>gOHM</td>\n      <td>18</td>\n      <td>FRAX</td>\n      <td>18</td>\n      <td>0</td>\n      <td>435238970363534</td>\n      <td>3000407417762830870845360</td>\n      <td>2999931610314728238726349</td>\n      <td>1460557767872656691963</td>\n      <td>...</td>\n      <td>0x18500cb1f2fe7a40ebda393383a0b8548a31f261</td>\n      <td>75000</td>\n      <td>10000</td>\n      <td>0</td>\n      <td>False</td>\n      <td>False</td>\n      <td>False</td>\n      <td>1460.557768</td>\n      <td>3.000407e+06</td>\n      <td>2022-12-03 23:30:59</td>\n    </tr>\n    <tr>\n      <th>81</th>\n      <td>0x66bf36dba79d4606039f04b32946a260bcd3ff52-19328</td>\n      <td>gOHM</td>\n      <td>18</td>\n      <td>FRAX</td>\n      <td>18</td>\n      <td>0</td>\n      <td>424429606966213</td>\n      <td>3000316417810236657492429</td>\n      <td>2999931610314728238726349</td>\n      <td>1298896246642712535146</td>\n      <td>...</td>\n      <td>0x18500cb1f2fe7a40ebda393383a0b8548a31f261</td>\n      <td>75000</td>\n      <td>10000</td>\n      <td>0</td>\n      <td>False</td>\n      <td>False</td>\n      <td>False</td>\n      <td>1298.896247</td>\n      <td>3.000316e+06</td>\n      <td>2022-12-02 23:55:59</td>\n    </tr>\n    <tr>\n      <th>82</th>\n      <td>0x66bf36dba79d4606039f04b32946a260bcd3ff52-19327</td>\n      <td>gOHM</td>\n      <td>18</td>\n      <td>FRAX</td>\n      <td>18</td>\n      <td>0</td>\n      <td>455232217741157</td>\n      <td>1000250018374254924219488</td>\n      <td>1000177511746822029696096</td>\n      <td>116544304370705257</td>\n      <td>...</td>\n      <td>0x18500cb1f2fe7a40ebda393383a0b8548a31f261</td>\n      <td>75000</td>\n      <td>10000</td>\n      <td>0</td>\n      <td>False</td>\n      <td>False</td>\n      <td>False</td>\n      <td>0.116544</td>\n      <td>1.000250e+06</td>\n      <td>2022-12-01 21:30:47</td>\n    </tr>\n    <tr>\n      <th>83</th>\n      <td>0x66bf36dba79d4606039f04b32946a260bcd3ff52-19326</td>\n      <td>gOHM</td>\n      <td>18</td>\n      <td>FRAX</td>\n      <td>18</td>\n      <td>0</td>\n      <td>444954878564299</td>\n      <td>0</td>\n      <td>0</td>\n      <td>0</td>\n      <td>...</td>\n      <td>0x18500cb1f2fe7a40ebda393383a0b8548a31f261</td>\n      <td>75000</td>\n      <td>10000</td>\n      <td>0</td>\n      <td>False</td>\n      <td>False</td>\n      <td>False</td>\n      <td>0.000000</td>\n      <td>0.000000e+00</td>\n      <td>2022-11-30 18:49:35</td>\n    </tr>\n  </tbody>\n</table>\n<p>84 rows × 40 columns</p>\n</div>"
     },
     "execution_count": 887,
     "metadata": {},
     "output_type": "execute_result"
    }
   ],
   "source": [
    "pairSnapshotsDb['pairPerDays_totalCollateralReadable'] = pairSnapshotsDb['pairPerDays_totalCollateral']/(10**(pairSnapshotsDb['pairPerDays_pair_collateral_decimals']))\n",
    "pairSnapshotsDb['pairPerDays_totalCollateralReadable']=pairSnapshotsDb['pairPerDays_totalCollateralReadable'].astype('float')\n",
    "\n",
    "pairSnapshotsDb['pairPerDays_totalAssetAmountReadable'] = pairSnapshotsDb['pairPerDays_totalAssetAmount']/(10**(pairSnapshotsDb['pairPerDays_pair_asset_decimals']))\n",
    "pairSnapshotsDb['pairPerDays_totalAssetAmountReadable']=pairSnapshotsDb['pairPerDays_totalAssetAmountReadable'].astype('float')\n",
    "\n",
    "\n",
    "pairSnapshotsDb['dateTime'] =(pd.to_datetime(pairSnapshotsDb['pairPerDays_timestamp'],unit='s'))\n",
    "\n",
    "pairSnapshotsDb.drop_duplicates(keep =\"first\",inplace = True)\n",
    "\n",
    "\n",
    "pairSnapshotsDb.head(2000)"
   ],
   "metadata": {
    "collapsed": false
   }
  },
  {
   "cell_type": "code",
   "execution_count": 888,
   "outputs": [
    {
     "name": "stdout",
     "output_type": "stream",
     "text": [
      "D:\\Dropbox\\Documents\\Edgecaser LLC\\Projects\\Olympus\\Econohmetrics\\gohmAsStablecoinCollateral/data/fraxPairSnapshotsLength_piped.csv file saved, 84  records at 2023-02-19 21:09:43.990581\n"
     ]
    }
   ],
   "source": [
    "fraxPairSnapshotsLength = len(pairSnapshotsDb)\n",
    "path =file+'/fraxPairSnapshotsLength.csv'\n",
    "pairSnapshotsDb.to_csv(path, index = False)\n",
    "\n",
    "path =file+'/fraxPairSnapshotsLength_piped.csv'\n",
    "pairSnapshotsDb.to_csv(path, index = False, sep='|')\n",
    "print(path, 'file saved,', fraxPairSnapshotsLength,' records at', (dt.datetime.now()) )"
   ],
   "metadata": {
    "collapsed": false
   }
  }
 ],
 "metadata": {
  "kernelspec": {
   "display_name": "Python 3",
   "language": "python",
   "name": "python3"
  },
  "language_info": {
   "codemirror_mode": {
    "name": "ipython",
    "version": 2
   },
   "file_extension": ".py",
   "mimetype": "text/x-python",
   "name": "python",
   "nbconvert_exporter": "python",
   "pygments_lexer": "ipython2",
   "version": "2.7.6"
  }
 },
 "nbformat": 4,
 "nbformat_minor": 0
}
