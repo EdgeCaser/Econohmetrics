{
 "cells": [
  {
   "cell_type": "code",
   "execution_count": 1,
   "metadata": {
    "collapsed": true,
    "pycharm": {
     "name": "#%%\n"
    }
   },
   "outputs": [],
   "source": [
    "from datetime import datetime\n",
    "from datetime import date\n",
    "from subgrounds.subgraph import SyntheticField, FieldPath\n",
    "from subgrounds.subgrounds import Subgrounds\n",
    "import pandas as pd"
   ]
  },
  {
   "cell_type": "code",
   "execution_count": 11,
   "outputs": [],
   "source": [
    "sg = Subgrounds()\n",
    "balancer = sg.load_api('https://api.thegraph.com/subgraphs/name/balancer-labs/balancer')"
   ],
   "metadata": {
    "collapsed": false,
    "pycharm": {
     "name": "#%%\n"
    }
   }
  },
  {
   "cell_type": "code",
   "execution_count": 94,
   "outputs": [
    {
     "data": {
      "text/plain": "Empty DataFrame\nColumns: []\nIndex: []",
      "text/html": "<div>\n<style scoped>\n    .dataframe tbody tr th:only-of-type {\n        vertical-align: middle;\n    }\n\n    .dataframe tbody tr th {\n        vertical-align: top;\n    }\n\n    .dataframe thead th {\n        text-align: right;\n    }\n</style>\n<table border=\"1\" class=\"dataframe\">\n  <thead>\n    <tr style=\"text-align: right;\">\n      <th></th>\n    </tr>\n  </thead>\n  <tbody>\n  </tbody>\n</table>\n</div>"
     },
     "execution_count": 94,
     "metadata": {},
     "output_type": "execute_result"
    }
   ],
   "source": [
    "pools = balancer.Query.pools(\n",
    "  orderBy='id',\n",
    "  orderDirection='desc',\n",
    "  first=1000,\n",
    "  where=[\n",
    "    balancer.Query.pools.id == '0x76FCf0e8C7Ff37A47a799FA2cd4c13cDe0D981C9' ##'0x002ad19fb25c6206d6d19e524f363ea846afe4a5' works.,\n",
    "    #balancer.Query.pools\n",
    "    #balancer.Query.pools.tokensList_contains: \"0xe343245DE92181bc06ba5Cd1152C705A2C5F3E2F\"\n",
    "    #balancer.Query.pools.tokensList == '0xC02aaA39b223FE8D0A0e5C4F27eAD9083C756Cc2'\n",
    "  ]\n",
    ")\n",
    "\n",
    "pool_data = sg.query_df([\n",
    "    pools.id\n",
    "    ,pools.name\n",
    "    ,pools.controller\n",
    "    ,pools.finalized\n",
    "    ,pools.publicSwap\n",
    "    ,pools.crp\n",
    "    ,pools.crpController\n",
    "    ,pools.createTime\n",
    "    ,pools.symbol\n",
    "    ,pools.swapFee\n",
    "    ,pools.totalWeight\n",
    "    ,pools.tokensList\n",
    "    ,pools.cap\n",
    "    ,pools.totalSwapVolume\n",
    "    ,pools.totalSwapFee\n",
    "    ,pools.liquidity\n",
    "    #,pools.tokens.balance\n",
    "])\n",
    "\n",
    "pool_data.head(10)\n"
   ],
   "metadata": {
    "collapsed": false,
    "pycharm": {
     "name": "#%%\n"
    }
   }
  },
  {
   "cell_type": "code",
   "execution_count": 82,
   "outputs": [
    {
     "ename": "SyntaxError",
     "evalue": "'{' was never closed (2982459165.py, line 1)",
     "output_type": "error",
     "traceback": [
      "\u001B[1;36m  Cell \u001B[1;32mIn[82], line 1\u001B[1;36m\u001B[0m\n\u001B[1;33m    {\u001B[0m\n\u001B[1;37m    ^\u001B[0m\n\u001B[1;31mSyntaxError\u001B[0m\u001B[1;31m:\u001B[0m '{' was never closed\n"
     ]
    }
   ],
   "source": [
    "      {\n",
    "        \"id\": \"0x002ad19fb25c6206d6d19e524f363ea846afe4a5\",\n",
    "        \"controller\": \"0x972983a8537dde6e7832835d5bbfe0b43e69b9f4\",\n",
    "        \"publicSwap\": false,\n",
    "        \"finalized\": false"
   ],
   "metadata": {
    "collapsed": false,
    "pycharm": {
     "name": "#%%\n"
    }
   }
  },
  {
   "cell_type": "code",
   "execution_count": null,
   "outputs": [],
   "source": [],
   "metadata": {
    "collapsed": false,
    "pycharm": {
     "name": "#%%\n"
    }
   }
  }
 ],
 "metadata": {
  "kernelspec": {
   "display_name": "Python 3",
   "language": "python",
   "name": "python3"
  },
  "language_info": {
   "codemirror_mode": {
    "name": "ipython",
    "version": 2
   },
   "file_extension": ".py",
   "mimetype": "text/x-python",
   "name": "python",
   "nbconvert_exporter": "python",
   "pygments_lexer": "ipython2",
   "version": "2.7.6"
  }
 },
 "nbformat": 4,
 "nbformat_minor": 0
}