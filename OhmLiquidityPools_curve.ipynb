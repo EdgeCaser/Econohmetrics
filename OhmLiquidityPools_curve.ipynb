{
 "cells": [
  {
   "cell_type": "code",
   "execution_count": 1,
   "metadata": {
    "collapsed": true,
    "pycharm": {
     "name": "#%%\n"
    }
   },
   "outputs": [],
   "source": [
    "from datetime import datetime\n",
    "from datetime import date\n",
    "from subgrounds.subgraph import SyntheticField, FieldPath\n",
    "from subgrounds.subgrounds import Subgrounds\n",
    "import pandas as pd\n",
    "import duckdb as db"
   ]
  },
  {
   "cell_type": "code",
   "execution_count": 4,
   "outputs": [],
   "source": [
    "sg = Subgrounds()\n",
    "curve = sg.load_api('https://api.thegraph.com/subgraphs/name/blocklytics/curve')\n",
    "#https://thegraph.com/hosted-service/subgraph/sushiswap/sushiswap"
   ],
   "metadata": {
    "collapsed": false,
    "pycharm": {
     "name": "#%%\n"
    }
   }
  },
  {
   "cell_type": "code",
   "execution_count": 15,
   "outputs": [
    {
     "data": {
      "text/plain": "                               liquidityPositions_id  \\\n0  0x45f783cce6b7ff23b2ab2d70e416cdb7d6055f51-0x0...   \n1  0x45f783cce6b7ff23b2ab2d70e416cdb7d6055f51-0x0...   \n2  0x45f783cce6b7ff23b2ab2d70e416cdb7d6055f51-0x0...   \n3  0x45f783cce6b7ff23b2ab2d70e416cdb7d6055f51-0x0...   \n4  0x45f783cce6b7ff23b2ab2d70e416cdb7d6055f51-0x0...   \n5  0x45f783cce6b7ff23b2ab2d70e416cdb7d6055f51-0x0...   \n6  0x45f783cce6b7ff23b2ab2d70e416cdb7d6055f51-0x0...   \n7  0x45f783cce6b7ff23b2ab2d70e416cdb7d6055f51-0x0...   \n8  0x45f783cce6b7ff23b2ab2d70e416cdb7d6055f51-0x0...   \n9  0x45f783cce6b7ff23b2ab2d70e416cdb7d6055f51-0x0...   \n\n                   liquidityPositions_user_id  \\\n0  0x0000000000000000000000000000000000000001   \n1  0x000000000000000000000000000000000000dead   \n2  0x000000000000006f6502b7f2bbac8c30a3f67e9a   \n3  0x0000000000000eb4ec62758aae93400b3e5f7f18   \n4  0x00000000000017c75025d397b91d284bbe8fc7f2   \n5  0x00000000000043dc09b2d31827cb23f414e1fa3d   \n6  0x0000000000007f150bd6f54c40a34d7c3d5e9f56   \n7  0x00000000000080c886232e9b7ebbfb942b5987aa   \n8  0x0000000000009480cded7b47d438e73edf0f67e5   \n9  0x000000000000deab340f067535869a0e5226e58a   \n\n         liquidityPositions_liquidityToken_id  \\\n0  0xdf5e0e81dff6faf3a7e52ba697820c5e32d806a8   \n1  0xdf5e0e81dff6faf3a7e52ba697820c5e32d806a8   \n2  0xdf5e0e81dff6faf3a7e52ba697820c5e32d806a8   \n3  0xdf5e0e81dff6faf3a7e52ba697820c5e32d806a8   \n4  0xdf5e0e81dff6faf3a7e52ba697820c5e32d806a8   \n5  0xdf5e0e81dff6faf3a7e52ba697820c5e32d806a8   \n6  0xdf5e0e81dff6faf3a7e52ba697820c5e32d806a8   \n7  0xdf5e0e81dff6faf3a7e52ba697820c5e32d806a8   \n8  0xdf5e0e81dff6faf3a7e52ba697820c5e32d806a8   \n9  0xdf5e0e81dff6faf3a7e52ba697820c5e32d806a8   \n\n  liquidityPositions_liquidityToken_name  \\\n0        Curve.fi yDAI/yUSDC/yUSDT/yTUSD   \n1        Curve.fi yDAI/yUSDC/yUSDT/yTUSD   \n2        Curve.fi yDAI/yUSDC/yUSDT/yTUSD   \n3        Curve.fi yDAI/yUSDC/yUSDT/yTUSD   \n4        Curve.fi yDAI/yUSDC/yUSDT/yTUSD   \n5        Curve.fi yDAI/yUSDC/yUSDT/yTUSD   \n6        Curve.fi yDAI/yUSDC/yUSDT/yTUSD   \n7        Curve.fi yDAI/yUSDC/yUSDT/yTUSD   \n8        Curve.fi yDAI/yUSDC/yUSDT/yTUSD   \n9        Curve.fi yDAI/yUSDC/yUSDT/yTUSD   \n\n  liquidityPositions_liquidityToken_symbol  \\\n0                   yDAI+yUSDC+yUSDT+yTUSD   \n1                   yDAI+yUSDC+yUSDT+yTUSD   \n2                   yDAI+yUSDC+yUSDT+yTUSD   \n3                   yDAI+yUSDC+yUSDT+yTUSD   \n4                   yDAI+yUSDC+yUSDT+yTUSD   \n5                   yDAI+yUSDC+yUSDT+yTUSD   \n6                   yDAI+yUSDC+yUSDT+yTUSD   \n7                   yDAI+yUSDC+yUSDT+yTUSD   \n8                   yDAI+yUSDC+yUSDT+yTUSD   \n9                   yDAI+yUSDC+yUSDT+yTUSD   \n\n   liquidityPositions_liquidityToken_decimals  \n0                                          18  \n1                                          18  \n2                                          18  \n3                                          18  \n4                                          18  \n5                                          18  \n6                                          18  \n7                                          18  \n8                                          18  \n9                                          18  ",
      "text/html": "<div>\n<style scoped>\n    .dataframe tbody tr th:only-of-type {\n        vertical-align: middle;\n    }\n\n    .dataframe tbody tr th {\n        vertical-align: top;\n    }\n\n    .dataframe thead th {\n        text-align: right;\n    }\n</style>\n<table border=\"1\" class=\"dataframe\">\n  <thead>\n    <tr style=\"text-align: right;\">\n      <th></th>\n      <th>liquidityPositions_id</th>\n      <th>liquidityPositions_user_id</th>\n      <th>liquidityPositions_liquidityToken_id</th>\n      <th>liquidityPositions_liquidityToken_name</th>\n      <th>liquidityPositions_liquidityToken_symbol</th>\n      <th>liquidityPositions_liquidityToken_decimals</th>\n    </tr>\n  </thead>\n  <tbody>\n    <tr>\n      <th>0</th>\n      <td>0x45f783cce6b7ff23b2ab2d70e416cdb7d6055f51-0x0...</td>\n      <td>0x0000000000000000000000000000000000000001</td>\n      <td>0xdf5e0e81dff6faf3a7e52ba697820c5e32d806a8</td>\n      <td>Curve.fi yDAI/yUSDC/yUSDT/yTUSD</td>\n      <td>yDAI+yUSDC+yUSDT+yTUSD</td>\n      <td>18</td>\n    </tr>\n    <tr>\n      <th>1</th>\n      <td>0x45f783cce6b7ff23b2ab2d70e416cdb7d6055f51-0x0...</td>\n      <td>0x000000000000000000000000000000000000dead</td>\n      <td>0xdf5e0e81dff6faf3a7e52ba697820c5e32d806a8</td>\n      <td>Curve.fi yDAI/yUSDC/yUSDT/yTUSD</td>\n      <td>yDAI+yUSDC+yUSDT+yTUSD</td>\n      <td>18</td>\n    </tr>\n    <tr>\n      <th>2</th>\n      <td>0x45f783cce6b7ff23b2ab2d70e416cdb7d6055f51-0x0...</td>\n      <td>0x000000000000006f6502b7f2bbac8c30a3f67e9a</td>\n      <td>0xdf5e0e81dff6faf3a7e52ba697820c5e32d806a8</td>\n      <td>Curve.fi yDAI/yUSDC/yUSDT/yTUSD</td>\n      <td>yDAI+yUSDC+yUSDT+yTUSD</td>\n      <td>18</td>\n    </tr>\n    <tr>\n      <th>3</th>\n      <td>0x45f783cce6b7ff23b2ab2d70e416cdb7d6055f51-0x0...</td>\n      <td>0x0000000000000eb4ec62758aae93400b3e5f7f18</td>\n      <td>0xdf5e0e81dff6faf3a7e52ba697820c5e32d806a8</td>\n      <td>Curve.fi yDAI/yUSDC/yUSDT/yTUSD</td>\n      <td>yDAI+yUSDC+yUSDT+yTUSD</td>\n      <td>18</td>\n    </tr>\n    <tr>\n      <th>4</th>\n      <td>0x45f783cce6b7ff23b2ab2d70e416cdb7d6055f51-0x0...</td>\n      <td>0x00000000000017c75025d397b91d284bbe8fc7f2</td>\n      <td>0xdf5e0e81dff6faf3a7e52ba697820c5e32d806a8</td>\n      <td>Curve.fi yDAI/yUSDC/yUSDT/yTUSD</td>\n      <td>yDAI+yUSDC+yUSDT+yTUSD</td>\n      <td>18</td>\n    </tr>\n    <tr>\n      <th>5</th>\n      <td>0x45f783cce6b7ff23b2ab2d70e416cdb7d6055f51-0x0...</td>\n      <td>0x00000000000043dc09b2d31827cb23f414e1fa3d</td>\n      <td>0xdf5e0e81dff6faf3a7e52ba697820c5e32d806a8</td>\n      <td>Curve.fi yDAI/yUSDC/yUSDT/yTUSD</td>\n      <td>yDAI+yUSDC+yUSDT+yTUSD</td>\n      <td>18</td>\n    </tr>\n    <tr>\n      <th>6</th>\n      <td>0x45f783cce6b7ff23b2ab2d70e416cdb7d6055f51-0x0...</td>\n      <td>0x0000000000007f150bd6f54c40a34d7c3d5e9f56</td>\n      <td>0xdf5e0e81dff6faf3a7e52ba697820c5e32d806a8</td>\n      <td>Curve.fi yDAI/yUSDC/yUSDT/yTUSD</td>\n      <td>yDAI+yUSDC+yUSDT+yTUSD</td>\n      <td>18</td>\n    </tr>\n    <tr>\n      <th>7</th>\n      <td>0x45f783cce6b7ff23b2ab2d70e416cdb7d6055f51-0x0...</td>\n      <td>0x00000000000080c886232e9b7ebbfb942b5987aa</td>\n      <td>0xdf5e0e81dff6faf3a7e52ba697820c5e32d806a8</td>\n      <td>Curve.fi yDAI/yUSDC/yUSDT/yTUSD</td>\n      <td>yDAI+yUSDC+yUSDT+yTUSD</td>\n      <td>18</td>\n    </tr>\n    <tr>\n      <th>8</th>\n      <td>0x45f783cce6b7ff23b2ab2d70e416cdb7d6055f51-0x0...</td>\n      <td>0x0000000000009480cded7b47d438e73edf0f67e5</td>\n      <td>0xdf5e0e81dff6faf3a7e52ba697820c5e32d806a8</td>\n      <td>Curve.fi yDAI/yUSDC/yUSDT/yTUSD</td>\n      <td>yDAI+yUSDC+yUSDT+yTUSD</td>\n      <td>18</td>\n    </tr>\n    <tr>\n      <th>9</th>\n      <td>0x45f783cce6b7ff23b2ab2d70e416cdb7d6055f51-0x0...</td>\n      <td>0x000000000000deab340f067535869a0e5226e58a</td>\n      <td>0xdf5e0e81dff6faf3a7e52ba697820c5e32d806a8</td>\n      <td>Curve.fi yDAI/yUSDC/yUSDT/yTUSD</td>\n      <td>yDAI+yUSDC+yUSDT+yTUSD</td>\n      <td>18</td>\n    </tr>\n  </tbody>\n</table>\n</div>"
     },
     "execution_count": 15,
     "metadata": {},
     "output_type": "execute_result"
    }
   ],
   "source": [
    "data = curve.Query.liquidityPositions(\n",
    "  orderBy='id'\n",
    "  ,orderDirection='asc'\n",
    "  ,first=10\n",
    "  #,where=[\n",
    "   #0 curve.Query.liquidityPositions.id == '0x64aa3364F17a4D01c6f1751Fd97C2BD3D7e7f1D5' ##'0x64aa3364F17a4D01c6f1751Fd97C2BD3D7e7f1D5' works.,\n",
    "    #balancer.Query.pools\n",
    "    #balancer.Query.pools.tokensList_contains: \"0xe343245DE92181bc06ba5Cd1152C705A2C5F3E2F\"\n",
    "    #balancer.Query.pools.tokensList == '0xC02aaA39b223FE8D0A0e5C4F27eAD9083C756Cc2'\n",
    "  #]\n",
    ")\n",
    "\n",
    "data_data = sg.query_df([\n",
    "    data.id\n",
    "    ,data.user\n",
    "    ,data.liquidityToken\n",
    "])\n",
    "\n",
    "data_data.head(10)\n",
    "\n"
   ],
   "metadata": {
    "collapsed": false,
    "pycharm": {
     "name": "#%%\n"
    }
   }
  },
  {
   "cell_type": "code",
   "execution_count": 75,
   "outputs": [
    {
     "data": {
      "text/plain": "                         exchangeTokenBalances_id  \\\n0  0x45f783cce6b7ff23b2ab2d70e416cdb7d6055f51-0x0   \n1  0x45f783cce6b7ff23b2ab2d70e416cdb7d6055f51-0x1   \n2  0x45f783cce6b7ff23b2ab2d70e416cdb7d6055f51-0x2   \n3  0x45f783cce6b7ff23b2ab2d70e416cdb7d6055f51-0x3   \n4  0x4ca9b3063ec5866a4b82e437059d2c43d1be596f-0x0   \n5  0x4ca9b3063ec5866a4b82e437059d2c43d1be596f-0x1   \n6  0x79a8c46dea5ada233abaffd40f3a0a2b1e5a4f27-0x0   \n7  0x79a8c46dea5ada233abaffd40f3a0a2b1e5a4f27-0x1   \n8  0x79a8c46dea5ada233abaffd40f3a0a2b1e5a4f27-0x2   \n9  0x79a8c46dea5ada233abaffd40f3a0a2b1e5a4f27-0x3   \n\n               exchangeTokenBalances_token_id  \\\n0  0x16de59092dae5ccf4a1e6439d611fd0653f0bd01   \n1  0xd6ad7a6750a7593e092a9b218d66c0a814a3436e   \n2  0x83f798e925bcd4017eb265844fddabb448f1707d   \n3  0x73a052500105205d34daf004eab301916da8190f   \n4  0x0316eb71485b0ab14103307bf65a021042c6d380   \n5  0x2260fac5e5542a773aa44fbcfedf7c193bc2c599   \n6  0xc2cb1040220768554cf699b0d863a3cd4324ce32   \n7  0x26ea744e5b887e5205727f55dfbe8685e3b21951   \n8  0xe6354ed5bc4b393a5aad09f21c46e101e692d447   \n9  0x04bc0ab673d88ae9dbc9da2380cb6b79c4bca9ae   \n\n  exchangeTokenBalances_token_name exchangeTokenBalances_token_symbol  \\\n0                        iearn DAI                               yDAI   \n1                       iearn USDC                              yUSDC   \n2                       iearn USDT                              yUSDT   \n3                       iearn TUSD                              yTUSD   \n4                        Huobi BTC                               HBTC   \n5                      Wrapped BTC                               WBTC   \n6                        iearn DAI                               yDAI   \n7                       iearn USDC                              yUSDC   \n8                       iearn USDT                              yUSDT   \n9                       iearn BUSD                              yBUSD   \n\n   exchangeTokenBalances_token_decimals  \\\n0                                    18   \n1                                     6   \n2                                     6   \n3                                    18   \n4                                    18   \n5                                     8   \n6                                    18   \n7                                     6   \n8                                     6   \n9                                    18   \n\n     exchangeTokenBalances_underlyingToken_id  \\\n0  0x6b175474e89094c44da98b954eedeac495271d0f   \n1  0xa0b86991c6218b36c1d19d4a2e9eb0ce3606eb48   \n2  0xdac17f958d2ee523a2206206994597c13d831ec7   \n3  0x0000000000085d4780b73119b644ae5ecd22b376   \n4  0x0316eb71485b0ab14103307bf65a021042c6d380   \n5  0x2260fac5e5542a773aa44fbcfedf7c193bc2c599   \n6  0x6b175474e89094c44da98b954eedeac495271d0f   \n7  0xa0b86991c6218b36c1d19d4a2e9eb0ce3606eb48   \n8  0xdac17f958d2ee523a2206206994597c13d831ec7   \n9  0x4fabb145d64652a948d72533023f6e7a623c7c53   \n\n  exchangeTokenBalances_underlyingToken_name  \\\n0                             Dai Stablecoin   \n1                                     USD//C   \n2                                 Tether USD   \n3                                    TrueUSD   \n4                                  Huobi BTC   \n5                                Wrapped BTC   \n6                             Dai Stablecoin   \n7                                     USD//C   \n8                                 Tether USD   \n9                                Binance USD   \n\n  exchangeTokenBalances_underlyingToken_symbol  \\\n0                                          DAI   \n1                                         USDC   \n2                                         USDT   \n3                                         TUSD   \n4                                         HBTC   \n5                                         WBTC   \n6                                          DAI   \n7                                         USDC   \n8                                         USDT   \n9                                         BUSD   \n\n   exchangeTokenBalances_underlyingToken_decimals  \n0                                              18  \n1                                               6  \n2                                               6  \n3                                              18  \n4                                              18  \n5                                               8  \n6                                              18  \n7                                               6  \n8                                               6  \n9                                              18  ",
      "text/html": "<div>\n<style scoped>\n    .dataframe tbody tr th:only-of-type {\n        vertical-align: middle;\n    }\n\n    .dataframe tbody tr th {\n        vertical-align: top;\n    }\n\n    .dataframe thead th {\n        text-align: right;\n    }\n</style>\n<table border=\"1\" class=\"dataframe\">\n  <thead>\n    <tr style=\"text-align: right;\">\n      <th></th>\n      <th>exchangeTokenBalances_id</th>\n      <th>exchangeTokenBalances_token_id</th>\n      <th>exchangeTokenBalances_token_name</th>\n      <th>exchangeTokenBalances_token_symbol</th>\n      <th>exchangeTokenBalances_token_decimals</th>\n      <th>exchangeTokenBalances_underlyingToken_id</th>\n      <th>exchangeTokenBalances_underlyingToken_name</th>\n      <th>exchangeTokenBalances_underlyingToken_symbol</th>\n      <th>exchangeTokenBalances_underlyingToken_decimals</th>\n    </tr>\n  </thead>\n  <tbody>\n    <tr>\n      <th>0</th>\n      <td>0x45f783cce6b7ff23b2ab2d70e416cdb7d6055f51-0x0</td>\n      <td>0x16de59092dae5ccf4a1e6439d611fd0653f0bd01</td>\n      <td>iearn DAI</td>\n      <td>yDAI</td>\n      <td>18</td>\n      <td>0x6b175474e89094c44da98b954eedeac495271d0f</td>\n      <td>Dai Stablecoin</td>\n      <td>DAI</td>\n      <td>18</td>\n    </tr>\n    <tr>\n      <th>1</th>\n      <td>0x45f783cce6b7ff23b2ab2d70e416cdb7d6055f51-0x1</td>\n      <td>0xd6ad7a6750a7593e092a9b218d66c0a814a3436e</td>\n      <td>iearn USDC</td>\n      <td>yUSDC</td>\n      <td>6</td>\n      <td>0xa0b86991c6218b36c1d19d4a2e9eb0ce3606eb48</td>\n      <td>USD//C</td>\n      <td>USDC</td>\n      <td>6</td>\n    </tr>\n    <tr>\n      <th>2</th>\n      <td>0x45f783cce6b7ff23b2ab2d70e416cdb7d6055f51-0x2</td>\n      <td>0x83f798e925bcd4017eb265844fddabb448f1707d</td>\n      <td>iearn USDT</td>\n      <td>yUSDT</td>\n      <td>6</td>\n      <td>0xdac17f958d2ee523a2206206994597c13d831ec7</td>\n      <td>Tether USD</td>\n      <td>USDT</td>\n      <td>6</td>\n    </tr>\n    <tr>\n      <th>3</th>\n      <td>0x45f783cce6b7ff23b2ab2d70e416cdb7d6055f51-0x3</td>\n      <td>0x73a052500105205d34daf004eab301916da8190f</td>\n      <td>iearn TUSD</td>\n      <td>yTUSD</td>\n      <td>18</td>\n      <td>0x0000000000085d4780b73119b644ae5ecd22b376</td>\n      <td>TrueUSD</td>\n      <td>TUSD</td>\n      <td>18</td>\n    </tr>\n    <tr>\n      <th>4</th>\n      <td>0x4ca9b3063ec5866a4b82e437059d2c43d1be596f-0x0</td>\n      <td>0x0316eb71485b0ab14103307bf65a021042c6d380</td>\n      <td>Huobi BTC</td>\n      <td>HBTC</td>\n      <td>18</td>\n      <td>0x0316eb71485b0ab14103307bf65a021042c6d380</td>\n      <td>Huobi BTC</td>\n      <td>HBTC</td>\n      <td>18</td>\n    </tr>\n    <tr>\n      <th>5</th>\n      <td>0x4ca9b3063ec5866a4b82e437059d2c43d1be596f-0x1</td>\n      <td>0x2260fac5e5542a773aa44fbcfedf7c193bc2c599</td>\n      <td>Wrapped BTC</td>\n      <td>WBTC</td>\n      <td>8</td>\n      <td>0x2260fac5e5542a773aa44fbcfedf7c193bc2c599</td>\n      <td>Wrapped BTC</td>\n      <td>WBTC</td>\n      <td>8</td>\n    </tr>\n    <tr>\n      <th>6</th>\n      <td>0x79a8c46dea5ada233abaffd40f3a0a2b1e5a4f27-0x0</td>\n      <td>0xc2cb1040220768554cf699b0d863a3cd4324ce32</td>\n      <td>iearn DAI</td>\n      <td>yDAI</td>\n      <td>18</td>\n      <td>0x6b175474e89094c44da98b954eedeac495271d0f</td>\n      <td>Dai Stablecoin</td>\n      <td>DAI</td>\n      <td>18</td>\n    </tr>\n    <tr>\n      <th>7</th>\n      <td>0x79a8c46dea5ada233abaffd40f3a0a2b1e5a4f27-0x1</td>\n      <td>0x26ea744e5b887e5205727f55dfbe8685e3b21951</td>\n      <td>iearn USDC</td>\n      <td>yUSDC</td>\n      <td>6</td>\n      <td>0xa0b86991c6218b36c1d19d4a2e9eb0ce3606eb48</td>\n      <td>USD//C</td>\n      <td>USDC</td>\n      <td>6</td>\n    </tr>\n    <tr>\n      <th>8</th>\n      <td>0x79a8c46dea5ada233abaffd40f3a0a2b1e5a4f27-0x2</td>\n      <td>0xe6354ed5bc4b393a5aad09f21c46e101e692d447</td>\n      <td>iearn USDT</td>\n      <td>yUSDT</td>\n      <td>6</td>\n      <td>0xdac17f958d2ee523a2206206994597c13d831ec7</td>\n      <td>Tether USD</td>\n      <td>USDT</td>\n      <td>6</td>\n    </tr>\n    <tr>\n      <th>9</th>\n      <td>0x79a8c46dea5ada233abaffd40f3a0a2b1e5a4f27-0x3</td>\n      <td>0x04bc0ab673d88ae9dbc9da2380cb6b79c4bca9ae</td>\n      <td>iearn BUSD</td>\n      <td>yBUSD</td>\n      <td>18</td>\n      <td>0x4fabb145d64652a948d72533023f6e7a623c7c53</td>\n      <td>Binance USD</td>\n      <td>BUSD</td>\n      <td>18</td>\n    </tr>\n  </tbody>\n</table>\n</div>"
     },
     "execution_count": 75,
     "metadata": {},
     "output_type": "execute_result"
    }
   ],
   "source": [
    "data = curve.Query.exchangeTokenBalances(\n",
    "  orderBy='id'\n",
    "  ,orderDirection='asc'\n",
    "  ,first=10\n",
    "  ,where=[\n",
    "    curve.Query.exchangeTokenBalances.underlyingToken.id != '0x6b175474e89094c44da98b954eedeac495271d0f' ##this works\n",
    "    #,curve.Query.exchangeTokenBalances.token.decimals == '18' ##this works\n",
    "    #,curve.Query.exchangeTokenBalances.underlyingToken.underlyingTokenSymbol != 'iearn DAI' ##this works\n",
    "    #,curve.Query.exchange.id == '0x0000004344abcb2643843225b031a4bdb2c6b6a69ba041c1db71b23b2d163350-0x3e' ##this works\n",
    "    #balancer.Query.pools\n",
    "    #balancer.Query.pools.tokensList_contains: \"0xe343245DE92181bc06ba5Cd1152C705A2C5F3E2F\"\n",
    "    #balancer.Query.pools.tokensList == '0xC02aaA39b223FE8D0A0e5C4F27eAD9083C756Cc2'\n",
    "  ]\n",
    ")\n",
    "\n",
    "data_data = sg.query_df([\n",
    "    data.id\n",
    "    ,data.token\n",
    "    ,data.underlyingToken\n",
    "    #,data.exchange.liquidityToken.id\n",
    "    #,data.exchange.liquidityToken.name\n",
    "    #,data.transferType\n",
    "\n",
    "])\n",
    "\n",
    "data_data.head(10)"
   ],
   "metadata": {
    "collapsed": false,
    "pycharm": {
     "name": "#%%\n"
    }
   }
  },
  {
   "cell_type": "code",
   "execution_count": null,
   "outputs": [],
   "source": [],
   "metadata": {
    "collapsed": false,
    "pycharm": {
     "name": "#%%\n"
    }
   }
  }
 ],
 "metadata": {
  "kernelspec": {
   "display_name": "Python 3",
   "language": "python",
   "name": "python3"
  },
  "language_info": {
   "codemirror_mode": {
    "name": "ipython",
    "version": 2
   },
   "file_extension": ".py",
   "mimetype": "text/x-python",
   "name": "python",
   "nbconvert_exporter": "python",
   "pygments_lexer": "ipython2",
   "version": "2.7.6"
  }
 },
 "nbformat": 4,
 "nbformat_minor": 0
}