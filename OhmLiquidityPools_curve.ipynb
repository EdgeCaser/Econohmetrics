{
 "cells": [
  {
   "cell_type": "code",
   "execution_count": 2,
   "metadata": {
    "collapsed": true,
    "pycharm": {
     "name": "#%%\n"
    }
   },
   "outputs": [],
   "source": [
    "from datetime import datetime\n",
    "from datetime import date\n",
    "from subgrounds.subgraph import SyntheticField, FieldPath\n",
    "from subgrounds.subgrounds import Subgrounds\n",
    "import pandas as pd\n",
    "import duckdb as db"
   ]
  },
  {
   "cell_type": "code",
   "execution_count": 3,
   "outputs": [],
   "source": [
    "sg = Subgrounds()\n",
    "curve = sg.load_api('https://api.thegraph.com/subgraphs/name/blocklytics/curve')\n",
    "#https://thegraph.com/hosted-service/subgraph/blocklytics/curve"
   ],
   "metadata": {
    "collapsed": false,
    "pycharm": {
     "name": "#%%\n"
    }
   }
  },
  {
   "cell_type": "code",
   "execution_count": 4,
   "outputs": [
    {
     "data": {
      "text/plain": "                               liquidityPositions_id  \\\n0  0xa5407eae9ba41422680e2e00537571bcc53efbfd-0xf...   \n1  0xa5407eae9ba41422680e2e00537571bcc53efbfd-0xf...   \n2  0xa5407eae9ba41422680e2e00537571bcc53efbfd-0xf...   \n3  0xa5407eae9ba41422680e2e00537571bcc53efbfd-0xf...   \n4  0xa5407eae9ba41422680e2e00537571bcc53efbfd-0xf...   \n5  0xa5407eae9ba41422680e2e00537571bcc53efbfd-0xf...   \n6  0xa5407eae9ba41422680e2e00537571bcc53efbfd-0xf...   \n7  0xa5407eae9ba41422680e2e00537571bcc53efbfd-0xf...   \n8  0xa5407eae9ba41422680e2e00537571bcc53efbfd-0xf...   \n9  0xa5407eae9ba41422680e2e00537571bcc53efbfd-0xf...   \n\n                   liquidityPositions_user_id  \\\n0  0xfffd181efce6c38291bf2fcafbbb0d75d5ebc77e   \n1  0xfff9182d3b128d28b2abd4cae102a9e031b3e1f6   \n2  0xffedcdac8ba51be3101607fab1b44462c3015fb0   \n3  0xffe872cbc36f64a58ca3fbea5d8906568f2b2a9d   \n4  0xffe4092445676bd97ee4a6dbaeaf5e2a563da113   \n5  0xffe3d857dd2404549501ef1438b5ee1603c6b9a1   \n6  0xffd949f19d6ab09aba4c2a00200439ca673e0808   \n7  0xffd70ed81bd9eefe8d0ef4cbbfafb40c234ff957   \n8  0xffd4dae0d7d8ddb6f408dca0a47763ae3a57f4ce   \n9  0xffd3f6ca1e4baba0993c88bbda9403c8a92d326b   \n\n         liquidityPositions_liquidityToken_id  \\\n0  0xc25a3a3b969415c80451098fa907ec722572917f   \n1  0xc25a3a3b969415c80451098fa907ec722572917f   \n2  0xc25a3a3b969415c80451098fa907ec722572917f   \n3  0xc25a3a3b969415c80451098fa907ec722572917f   \n4  0xc25a3a3b969415c80451098fa907ec722572917f   \n5  0xc25a3a3b969415c80451098fa907ec722572917f   \n6  0xc25a3a3b969415c80451098fa907ec722572917f   \n7  0xc25a3a3b969415c80451098fa907ec722572917f   \n8  0xc25a3a3b969415c80451098fa907ec722572917f   \n9  0xc25a3a3b969415c80451098fa907ec722572917f   \n\n  liquidityPositions_liquidityToken_name  \\\n0            Curve.fi DAI/USDC/USDT/sUSD   \n1            Curve.fi DAI/USDC/USDT/sUSD   \n2            Curve.fi DAI/USDC/USDT/sUSD   \n3            Curve.fi DAI/USDC/USDT/sUSD   \n4            Curve.fi DAI/USDC/USDT/sUSD   \n5            Curve.fi DAI/USDC/USDT/sUSD   \n6            Curve.fi DAI/USDC/USDT/sUSD   \n7            Curve.fi DAI/USDC/USDT/sUSD   \n8            Curve.fi DAI/USDC/USDT/sUSD   \n9            Curve.fi DAI/USDC/USDT/sUSD   \n\n  liquidityPositions_liquidityToken_symbol  \\\n0                         crvPlain3andSUSD   \n1                         crvPlain3andSUSD   \n2                         crvPlain3andSUSD   \n3                         crvPlain3andSUSD   \n4                         crvPlain3andSUSD   \n5                         crvPlain3andSUSD   \n6                         crvPlain3andSUSD   \n7                         crvPlain3andSUSD   \n8                         crvPlain3andSUSD   \n9                         crvPlain3andSUSD   \n\n   liquidityPositions_liquidityToken_decimals  \n0                                          18  \n1                                          18  \n2                                          18  \n3                                          18  \n4                                          18  \n5                                          18  \n6                                          18  \n7                                          18  \n8                                          18  \n9                                          18  ",
      "text/html": "<div>\n<style scoped>\n    .dataframe tbody tr th:only-of-type {\n        vertical-align: middle;\n    }\n\n    .dataframe tbody tr th {\n        vertical-align: top;\n    }\n\n    .dataframe thead th {\n        text-align: right;\n    }\n</style>\n<table border=\"1\" class=\"dataframe\">\n  <thead>\n    <tr style=\"text-align: right;\">\n      <th></th>\n      <th>liquidityPositions_id</th>\n      <th>liquidityPositions_user_id</th>\n      <th>liquidityPositions_liquidityToken_id</th>\n      <th>liquidityPositions_liquidityToken_name</th>\n      <th>liquidityPositions_liquidityToken_symbol</th>\n      <th>liquidityPositions_liquidityToken_decimals</th>\n    </tr>\n  </thead>\n  <tbody>\n    <tr>\n      <th>0</th>\n      <td>0xa5407eae9ba41422680e2e00537571bcc53efbfd-0xf...</td>\n      <td>0xfffd181efce6c38291bf2fcafbbb0d75d5ebc77e</td>\n      <td>0xc25a3a3b969415c80451098fa907ec722572917f</td>\n      <td>Curve.fi DAI/USDC/USDT/sUSD</td>\n      <td>crvPlain3andSUSD</td>\n      <td>18</td>\n    </tr>\n    <tr>\n      <th>1</th>\n      <td>0xa5407eae9ba41422680e2e00537571bcc53efbfd-0xf...</td>\n      <td>0xfff9182d3b128d28b2abd4cae102a9e031b3e1f6</td>\n      <td>0xc25a3a3b969415c80451098fa907ec722572917f</td>\n      <td>Curve.fi DAI/USDC/USDT/sUSD</td>\n      <td>crvPlain3andSUSD</td>\n      <td>18</td>\n    </tr>\n    <tr>\n      <th>2</th>\n      <td>0xa5407eae9ba41422680e2e00537571bcc53efbfd-0xf...</td>\n      <td>0xffedcdac8ba51be3101607fab1b44462c3015fb0</td>\n      <td>0xc25a3a3b969415c80451098fa907ec722572917f</td>\n      <td>Curve.fi DAI/USDC/USDT/sUSD</td>\n      <td>crvPlain3andSUSD</td>\n      <td>18</td>\n    </tr>\n    <tr>\n      <th>3</th>\n      <td>0xa5407eae9ba41422680e2e00537571bcc53efbfd-0xf...</td>\n      <td>0xffe872cbc36f64a58ca3fbea5d8906568f2b2a9d</td>\n      <td>0xc25a3a3b969415c80451098fa907ec722572917f</td>\n      <td>Curve.fi DAI/USDC/USDT/sUSD</td>\n      <td>crvPlain3andSUSD</td>\n      <td>18</td>\n    </tr>\n    <tr>\n      <th>4</th>\n      <td>0xa5407eae9ba41422680e2e00537571bcc53efbfd-0xf...</td>\n      <td>0xffe4092445676bd97ee4a6dbaeaf5e2a563da113</td>\n      <td>0xc25a3a3b969415c80451098fa907ec722572917f</td>\n      <td>Curve.fi DAI/USDC/USDT/sUSD</td>\n      <td>crvPlain3andSUSD</td>\n      <td>18</td>\n    </tr>\n    <tr>\n      <th>5</th>\n      <td>0xa5407eae9ba41422680e2e00537571bcc53efbfd-0xf...</td>\n      <td>0xffe3d857dd2404549501ef1438b5ee1603c6b9a1</td>\n      <td>0xc25a3a3b969415c80451098fa907ec722572917f</td>\n      <td>Curve.fi DAI/USDC/USDT/sUSD</td>\n      <td>crvPlain3andSUSD</td>\n      <td>18</td>\n    </tr>\n    <tr>\n      <th>6</th>\n      <td>0xa5407eae9ba41422680e2e00537571bcc53efbfd-0xf...</td>\n      <td>0xffd949f19d6ab09aba4c2a00200439ca673e0808</td>\n      <td>0xc25a3a3b969415c80451098fa907ec722572917f</td>\n      <td>Curve.fi DAI/USDC/USDT/sUSD</td>\n      <td>crvPlain3andSUSD</td>\n      <td>18</td>\n    </tr>\n    <tr>\n      <th>7</th>\n      <td>0xa5407eae9ba41422680e2e00537571bcc53efbfd-0xf...</td>\n      <td>0xffd70ed81bd9eefe8d0ef4cbbfafb40c234ff957</td>\n      <td>0xc25a3a3b969415c80451098fa907ec722572917f</td>\n      <td>Curve.fi DAI/USDC/USDT/sUSD</td>\n      <td>crvPlain3andSUSD</td>\n      <td>18</td>\n    </tr>\n    <tr>\n      <th>8</th>\n      <td>0xa5407eae9ba41422680e2e00537571bcc53efbfd-0xf...</td>\n      <td>0xffd4dae0d7d8ddb6f408dca0a47763ae3a57f4ce</td>\n      <td>0xc25a3a3b969415c80451098fa907ec722572917f</td>\n      <td>Curve.fi DAI/USDC/USDT/sUSD</td>\n      <td>crvPlain3andSUSD</td>\n      <td>18</td>\n    </tr>\n    <tr>\n      <th>9</th>\n      <td>0xa5407eae9ba41422680e2e00537571bcc53efbfd-0xf...</td>\n      <td>0xffd3f6ca1e4baba0993c88bbda9403c8a92d326b</td>\n      <td>0xc25a3a3b969415c80451098fa907ec722572917f</td>\n      <td>Curve.fi DAI/USDC/USDT/sUSD</td>\n      <td>crvPlain3andSUSD</td>\n      <td>18</td>\n    </tr>\n  </tbody>\n</table>\n</div>"
     },
     "execution_count": 4,
     "metadata": {},
     "output_type": "execute_result"
    }
   ],
   "source": [
    "data = curve.Query.liquidityPositions(\n",
    "  orderBy='id'\n",
    "  ,orderDirection='desc'\n",
    "  ,first=10\n",
    "  #,where=[\n",
    "   #0 curve.Query.liquidityPositions.id == '0x64aa3364F17a4D01c6f1751Fd97C2BD3D7e7f1D5' ##'0x64aa3364F17a4D01c6f1751Fd97C2BD3D7e7f1D5' works.,\n",
    "    #balancer.Query.pools\n",
    "    #balancer.Query.pools.tokensList_contains: \"0xe343245DE92181bc06ba5Cd1152C705A2C5F3E2F\"\n",
    "    #balancer.Query.pools.tokensList == '0xC02aaA39b223FE8D0A0e5C4F27eAD9083C756Cc2'\n",
    "  #]\n",
    ")\n",
    "\n",
    "data_data = sg.query_df([\n",
    "    data.id\n",
    "    ,data.user\n",
    "    ,data.liquidityToken\n",
    "])\n",
    "\n",
    "data_data.head(10)\n",
    "\n"
   ],
   "metadata": {
    "collapsed": false,
    "pycharm": {
     "name": "#%%\n"
    }
   }
  },
  {
   "cell_type": "code",
   "execution_count": 6,
   "outputs": [
    {
     "data": {
      "text/plain": "                         exchangeTokenBalances_id  \\\n0  0x45f783cce6b7ff23b2ab2d70e416cdb7d6055f51-0x0   \n1  0x45f783cce6b7ff23b2ab2d70e416cdb7d6055f51-0x1   \n2  0x45f783cce6b7ff23b2ab2d70e416cdb7d6055f51-0x2   \n3  0x45f783cce6b7ff23b2ab2d70e416cdb7d6055f51-0x3   \n4  0x4ca9b3063ec5866a4b82e437059d2c43d1be596f-0x0   \n5  0x4ca9b3063ec5866a4b82e437059d2c43d1be596f-0x1   \n6  0x79a8c46dea5ada233abaffd40f3a0a2b1e5a4f27-0x0   \n7  0x79a8c46dea5ada233abaffd40f3a0a2b1e5a4f27-0x1   \n8  0x79a8c46dea5ada233abaffd40f3a0a2b1e5a4f27-0x2   \n9  0x79a8c46dea5ada233abaffd40f3a0a2b1e5a4f27-0x3   \n\n  exchangeTokenBalances_underlyingToken_symbol  \\\n0                                          DAI   \n1                                         USDC   \n2                                         USDT   \n3                                         TUSD   \n4                                         HBTC   \n5                                         WBTC   \n6                                          DAI   \n7                                         USDC   \n8                                         USDT   \n9                                         BUSD   \n\n               exchangeTokenBalances_token_id  \\\n0  0x16de59092dae5ccf4a1e6439d611fd0653f0bd01   \n1  0xd6ad7a6750a7593e092a9b218d66c0a814a3436e   \n2  0x83f798e925bcd4017eb265844fddabb448f1707d   \n3  0x73a052500105205d34daf004eab301916da8190f   \n4  0x0316eb71485b0ab14103307bf65a021042c6d380   \n5  0x2260fac5e5542a773aa44fbcfedf7c193bc2c599   \n6  0xc2cb1040220768554cf699b0d863a3cd4324ce32   \n7  0x26ea744e5b887e5205727f55dfbe8685e3b21951   \n8  0xe6354ed5bc4b393a5aad09f21c46e101e692d447   \n9  0x04bc0ab673d88ae9dbc9da2380cb6b79c4bca9ae   \n\n  exchangeTokenBalances_token_name exchangeTokenBalances_token_symbol  \\\n0                        iearn DAI                               yDAI   \n1                       iearn USDC                              yUSDC   \n2                       iearn USDT                              yUSDT   \n3                       iearn TUSD                              yTUSD   \n4                        Huobi BTC                               HBTC   \n5                      Wrapped BTC                               WBTC   \n6                        iearn DAI                               yDAI   \n7                       iearn USDC                              yUSDC   \n8                       iearn USDT                              yUSDT   \n9                       iearn BUSD                              yBUSD   \n\n   exchangeTokenBalances_token_decimals  \\\n0                                    18   \n1                                     6   \n2                                     6   \n3                                    18   \n4                                    18   \n5                                     8   \n6                                    18   \n7                                     6   \n8                                     6   \n9                                    18   \n\n     exchangeTokenBalances_underlyingToken_id  \\\n0  0x6b175474e89094c44da98b954eedeac495271d0f   \n1  0xa0b86991c6218b36c1d19d4a2e9eb0ce3606eb48   \n2  0xdac17f958d2ee523a2206206994597c13d831ec7   \n3  0x0000000000085d4780b73119b644ae5ecd22b376   \n4  0x0316eb71485b0ab14103307bf65a021042c6d380   \n5  0x2260fac5e5542a773aa44fbcfedf7c193bc2c599   \n6  0x6b175474e89094c44da98b954eedeac495271d0f   \n7  0xa0b86991c6218b36c1d19d4a2e9eb0ce3606eb48   \n8  0xdac17f958d2ee523a2206206994597c13d831ec7   \n9  0x4fabb145d64652a948d72533023f6e7a623c7c53   \n\n  exchangeTokenBalances_underlyingToken_name  \\\n0                             Dai Stablecoin   \n1                                     USD//C   \n2                                 Tether USD   \n3                                    TrueUSD   \n4                                  Huobi BTC   \n5                                Wrapped BTC   \n6                             Dai Stablecoin   \n7                                     USD//C   \n8                                 Tether USD   \n9                                Binance USD   \n\n   exchangeTokenBalances_underlyingToken_decimals  \n0                                              18  \n1                                               6  \n2                                               6  \n3                                              18  \n4                                              18  \n5                                               8  \n6                                              18  \n7                                               6  \n8                                               6  \n9                                              18  ",
      "text/html": "<div>\n<style scoped>\n    .dataframe tbody tr th:only-of-type {\n        vertical-align: middle;\n    }\n\n    .dataframe tbody tr th {\n        vertical-align: top;\n    }\n\n    .dataframe thead th {\n        text-align: right;\n    }\n</style>\n<table border=\"1\" class=\"dataframe\">\n  <thead>\n    <tr style=\"text-align: right;\">\n      <th></th>\n      <th>exchangeTokenBalances_id</th>\n      <th>exchangeTokenBalances_underlyingToken_symbol</th>\n      <th>exchangeTokenBalances_token_id</th>\n      <th>exchangeTokenBalances_token_name</th>\n      <th>exchangeTokenBalances_token_symbol</th>\n      <th>exchangeTokenBalances_token_decimals</th>\n      <th>exchangeTokenBalances_underlyingToken_id</th>\n      <th>exchangeTokenBalances_underlyingToken_name</th>\n      <th>exchangeTokenBalances_underlyingToken_decimals</th>\n    </tr>\n  </thead>\n  <tbody>\n    <tr>\n      <th>0</th>\n      <td>0x45f783cce6b7ff23b2ab2d70e416cdb7d6055f51-0x0</td>\n      <td>DAI</td>\n      <td>0x16de59092dae5ccf4a1e6439d611fd0653f0bd01</td>\n      <td>iearn DAI</td>\n      <td>yDAI</td>\n      <td>18</td>\n      <td>0x6b175474e89094c44da98b954eedeac495271d0f</td>\n      <td>Dai Stablecoin</td>\n      <td>18</td>\n    </tr>\n    <tr>\n      <th>1</th>\n      <td>0x45f783cce6b7ff23b2ab2d70e416cdb7d6055f51-0x1</td>\n      <td>USDC</td>\n      <td>0xd6ad7a6750a7593e092a9b218d66c0a814a3436e</td>\n      <td>iearn USDC</td>\n      <td>yUSDC</td>\n      <td>6</td>\n      <td>0xa0b86991c6218b36c1d19d4a2e9eb0ce3606eb48</td>\n      <td>USD//C</td>\n      <td>6</td>\n    </tr>\n    <tr>\n      <th>2</th>\n      <td>0x45f783cce6b7ff23b2ab2d70e416cdb7d6055f51-0x2</td>\n      <td>USDT</td>\n      <td>0x83f798e925bcd4017eb265844fddabb448f1707d</td>\n      <td>iearn USDT</td>\n      <td>yUSDT</td>\n      <td>6</td>\n      <td>0xdac17f958d2ee523a2206206994597c13d831ec7</td>\n      <td>Tether USD</td>\n      <td>6</td>\n    </tr>\n    <tr>\n      <th>3</th>\n      <td>0x45f783cce6b7ff23b2ab2d70e416cdb7d6055f51-0x3</td>\n      <td>TUSD</td>\n      <td>0x73a052500105205d34daf004eab301916da8190f</td>\n      <td>iearn TUSD</td>\n      <td>yTUSD</td>\n      <td>18</td>\n      <td>0x0000000000085d4780b73119b644ae5ecd22b376</td>\n      <td>TrueUSD</td>\n      <td>18</td>\n    </tr>\n    <tr>\n      <th>4</th>\n      <td>0x4ca9b3063ec5866a4b82e437059d2c43d1be596f-0x0</td>\n      <td>HBTC</td>\n      <td>0x0316eb71485b0ab14103307bf65a021042c6d380</td>\n      <td>Huobi BTC</td>\n      <td>HBTC</td>\n      <td>18</td>\n      <td>0x0316eb71485b0ab14103307bf65a021042c6d380</td>\n      <td>Huobi BTC</td>\n      <td>18</td>\n    </tr>\n    <tr>\n      <th>5</th>\n      <td>0x4ca9b3063ec5866a4b82e437059d2c43d1be596f-0x1</td>\n      <td>WBTC</td>\n      <td>0x2260fac5e5542a773aa44fbcfedf7c193bc2c599</td>\n      <td>Wrapped BTC</td>\n      <td>WBTC</td>\n      <td>8</td>\n      <td>0x2260fac5e5542a773aa44fbcfedf7c193bc2c599</td>\n      <td>Wrapped BTC</td>\n      <td>8</td>\n    </tr>\n    <tr>\n      <th>6</th>\n      <td>0x79a8c46dea5ada233abaffd40f3a0a2b1e5a4f27-0x0</td>\n      <td>DAI</td>\n      <td>0xc2cb1040220768554cf699b0d863a3cd4324ce32</td>\n      <td>iearn DAI</td>\n      <td>yDAI</td>\n      <td>18</td>\n      <td>0x6b175474e89094c44da98b954eedeac495271d0f</td>\n      <td>Dai Stablecoin</td>\n      <td>18</td>\n    </tr>\n    <tr>\n      <th>7</th>\n      <td>0x79a8c46dea5ada233abaffd40f3a0a2b1e5a4f27-0x1</td>\n      <td>USDC</td>\n      <td>0x26ea744e5b887e5205727f55dfbe8685e3b21951</td>\n      <td>iearn USDC</td>\n      <td>yUSDC</td>\n      <td>6</td>\n      <td>0xa0b86991c6218b36c1d19d4a2e9eb0ce3606eb48</td>\n      <td>USD//C</td>\n      <td>6</td>\n    </tr>\n    <tr>\n      <th>8</th>\n      <td>0x79a8c46dea5ada233abaffd40f3a0a2b1e5a4f27-0x2</td>\n      <td>USDT</td>\n      <td>0xe6354ed5bc4b393a5aad09f21c46e101e692d447</td>\n      <td>iearn USDT</td>\n      <td>yUSDT</td>\n      <td>6</td>\n      <td>0xdac17f958d2ee523a2206206994597c13d831ec7</td>\n      <td>Tether USD</td>\n      <td>6</td>\n    </tr>\n    <tr>\n      <th>9</th>\n      <td>0x79a8c46dea5ada233abaffd40f3a0a2b1e5a4f27-0x3</td>\n      <td>BUSD</td>\n      <td>0x04bc0ab673d88ae9dbc9da2380cb6b79c4bca9ae</td>\n      <td>iearn BUSD</td>\n      <td>yBUSD</td>\n      <td>18</td>\n      <td>0x4fabb145d64652a948d72533023f6e7a623c7c53</td>\n      <td>Binance USD</td>\n      <td>18</td>\n    </tr>\n  </tbody>\n</table>\n</div>"
     },
     "execution_count": 6,
     "metadata": {},
     "output_type": "execute_result"
    }
   ],
   "source": [
    "data = curve.Query.exchangeTokenBalances(\n",
    "  orderBy='id'\n",
    "  ,orderDirection='asc'\n",
    "  ,first=10\n",
    "  ,where=[\n",
    "    curve.Query.exchangeTokenBalances.underlyingToken.id != '0x6b175474e89094c44da98b954eedeac495271d0f' ##this works\n",
    "    #,curve.Query.exchangeTokenBalances.token.decimals == '18' ##this works\n",
    "    #,curve.Query.exchangeTokenBalances.underlyingToken.name != 'iearn DAI' ##this works\n",
    "    #,curve.Query.exchange.id == '0x0000004344abcb2643843225b031a4bdb2c6b6a69ba041c1db71b23b2d163350-0x3e' ##this works\n",
    "    #balancer.Query.pools\n",
    "    #balancer.Query.pools.tokensList_contains: \"0xe343245DE92181bc06ba5Cd1152C705A2C5F3E2F\"\n",
    "    #balancer.Query.pools.tokensList == '0xC02aaA39b223FE8D0A0e5C4F27eAD9083C756Cc2'\n",
    "  ]\n",
    ")\n",
    "\n",
    "data_data = sg.query_df([\n",
    "    data.id\n",
    "    ,data.underlyingToken.symbol\n",
    "    ,data.token\n",
    "    ,data.underlyingToken\n",
    "    #,data.exchange.liquidityToken.id\n",
    "    #,data.exchange.liquidityToken.name\n",
    "    #,data.transferType\n",
    "\n",
    "])\n",
    "\n",
    "data_data.head(10)"
   ],
   "metadata": {
    "collapsed": false,
    "pycharm": {
     "name": "#%%\n"
    }
   }
  },
  {
   "cell_type": "code",
   "execution_count": 23,
   "outputs": [
    {
     "data": {
      "text/plain": "                         exchangeTokenBalances_id  \\\n0  0x45f783cce6b7ff23b2ab2d70e416cdb7d6055f51-0x0   \n1  0x79a8c46dea5ada233abaffd40f3a0a2b1e5a4f27-0x0   \n\n  exchangeTokenBalances_underlyingToken_symbol  \\\n0                                          DAI   \n1                                          DAI   \n\n               exchangeTokenBalances_token_id  \\\n0  0x16de59092dae5ccf4a1e6439d611fd0653f0bd01   \n1  0xc2cb1040220768554cf699b0d863a3cd4324ce32   \n\n  exchangeTokenBalances_token_name exchangeTokenBalances_token_symbol  \\\n0                        iearn DAI                               yDAI   \n1                        iearn DAI                               yDAI   \n\n   exchangeTokenBalances_token_decimals  \\\n0                                    18   \n1                                    18   \n\n     exchangeTokenBalances_underlyingToken_id  \\\n0  0x6b175474e89094c44da98b954eedeac495271d0f   \n1  0x6b175474e89094c44da98b954eedeac495271d0f   \n\n  exchangeTokenBalances_underlyingToken_name  \\\n0                             Dai Stablecoin   \n1                             Dai Stablecoin   \n\n   exchangeTokenBalances_underlyingToken_decimals  \n0                                              18  \n1                                              18  ",
      "text/html": "<div>\n<style scoped>\n    .dataframe tbody tr th:only-of-type {\n        vertical-align: middle;\n    }\n\n    .dataframe tbody tr th {\n        vertical-align: top;\n    }\n\n    .dataframe thead th {\n        text-align: right;\n    }\n</style>\n<table border=\"1\" class=\"dataframe\">\n  <thead>\n    <tr style=\"text-align: right;\">\n      <th></th>\n      <th>exchangeTokenBalances_id</th>\n      <th>exchangeTokenBalances_underlyingToken_symbol</th>\n      <th>exchangeTokenBalances_token_id</th>\n      <th>exchangeTokenBalances_token_name</th>\n      <th>exchangeTokenBalances_token_symbol</th>\n      <th>exchangeTokenBalances_token_decimals</th>\n      <th>exchangeTokenBalances_underlyingToken_id</th>\n      <th>exchangeTokenBalances_underlyingToken_name</th>\n      <th>exchangeTokenBalances_underlyingToken_decimals</th>\n    </tr>\n  </thead>\n  <tbody>\n    <tr>\n      <th>0</th>\n      <td>0x45f783cce6b7ff23b2ab2d70e416cdb7d6055f51-0x0</td>\n      <td>DAI</td>\n      <td>0x16de59092dae5ccf4a1e6439d611fd0653f0bd01</td>\n      <td>iearn DAI</td>\n      <td>yDAI</td>\n      <td>18</td>\n      <td>0x6b175474e89094c44da98b954eedeac495271d0f</td>\n      <td>Dai Stablecoin</td>\n      <td>18</td>\n    </tr>\n    <tr>\n      <th>1</th>\n      <td>0x79a8c46dea5ada233abaffd40f3a0a2b1e5a4f27-0x0</td>\n      <td>DAI</td>\n      <td>0xc2cb1040220768554cf699b0d863a3cd4324ce32</td>\n      <td>iearn DAI</td>\n      <td>yDAI</td>\n      <td>18</td>\n      <td>0x6b175474e89094c44da98b954eedeac495271d0f</td>\n      <td>Dai Stablecoin</td>\n      <td>18</td>\n    </tr>\n  </tbody>\n</table>\n</div>"
     },
     "execution_count": 23,
     "metadata": {},
     "output_type": "execute_result"
    }
   ],
   "source": [
    "\n",
    "datadb = db.query(\"Select \"\n",
    "                  \"* \"\n",
    "                  \"from data_data\"\n",
    "                  \" \"\n",
    "                  \"where  lower(exchangeTokenBalances_underlyingToken_symbol) == lower(('DAI')) \"\n",
    "                  \"\").df()\n",
    "\n",
    "datadb.head(10)"
   ],
   "metadata": {
    "collapsed": false,
    "pycharm": {
     "name": "#%%\n"
    }
   }
  },
  {
   "cell_type": "code",
   "execution_count": 30,
   "outputs": [
    {
     "data": {
      "text/plain": "                                    tokens_id  \\\n0  0x0000000000085d4780b73119b644ae5ecd22b376   \n1  0x0316eb71485b0ab14103307bf65a021042c6d380   \n2  0x04bc0ab673d88ae9dbc9da2380cb6b79c4bca9ae   \n3  0x075b1bb99792c9e1041ba13afef80c91a1e70fb3   \n4  0x16de59092dae5ccf4a1e6439d611fd0653f0bd01   \n5  0x2260fac5e5542a773aa44fbcfedf7c193bc2c599   \n6  0x26ea744e5b887e5205727f55dfbe8685e3b21951   \n7  0x39aa39c021dfbae8fac545936693ac917d5e7563   \n8  0x3b3ac5386837dc563660fb6a0937dfaa5924333b   \n9  0x49849c98ae39fff122806c06791fa73784fb3675   \n\n                       tokens_name           tokens_symbol  tokens_decimals  \n0                          TrueUSD                    TUSD               18  \n1                        Huobi BTC                    HBTC               18  \n2                       iearn BUSD                   yBUSD               18  \n3        Curve.fi renBTC/wBTC/sBTC             crvRenWSBTC               18  \n4                        iearn DAI                    yDAI               18  \n5                      Wrapped BTC                    WBTC                8  \n6                       iearn USDC                   yUSDC                6  \n7                Compound USD Coin                   cUSDC                8  \n8  Curve.fi yDAI/yUSDC/yUSDT/yBUSD  yDAI+yUSDC+yUSDT+yBUSD               18  \n9             Curve.fi renBTC/wBTC              crvRenWBTC               18  ",
      "text/html": "<div>\n<style scoped>\n    .dataframe tbody tr th:only-of-type {\n        vertical-align: middle;\n    }\n\n    .dataframe tbody tr th {\n        vertical-align: top;\n    }\n\n    .dataframe thead th {\n        text-align: right;\n    }\n</style>\n<table border=\"1\" class=\"dataframe\">\n  <thead>\n    <tr style=\"text-align: right;\">\n      <th></th>\n      <th>tokens_id</th>\n      <th>tokens_name</th>\n      <th>tokens_symbol</th>\n      <th>tokens_decimals</th>\n    </tr>\n  </thead>\n  <tbody>\n    <tr>\n      <th>0</th>\n      <td>0x0000000000085d4780b73119b644ae5ecd22b376</td>\n      <td>TrueUSD</td>\n      <td>TUSD</td>\n      <td>18</td>\n    </tr>\n    <tr>\n      <th>1</th>\n      <td>0x0316eb71485b0ab14103307bf65a021042c6d380</td>\n      <td>Huobi BTC</td>\n      <td>HBTC</td>\n      <td>18</td>\n    </tr>\n    <tr>\n      <th>2</th>\n      <td>0x04bc0ab673d88ae9dbc9da2380cb6b79c4bca9ae</td>\n      <td>iearn BUSD</td>\n      <td>yBUSD</td>\n      <td>18</td>\n    </tr>\n    <tr>\n      <th>3</th>\n      <td>0x075b1bb99792c9e1041ba13afef80c91a1e70fb3</td>\n      <td>Curve.fi renBTC/wBTC/sBTC</td>\n      <td>crvRenWSBTC</td>\n      <td>18</td>\n    </tr>\n    <tr>\n      <th>4</th>\n      <td>0x16de59092dae5ccf4a1e6439d611fd0653f0bd01</td>\n      <td>iearn DAI</td>\n      <td>yDAI</td>\n      <td>18</td>\n    </tr>\n    <tr>\n      <th>5</th>\n      <td>0x2260fac5e5542a773aa44fbcfedf7c193bc2c599</td>\n      <td>Wrapped BTC</td>\n      <td>WBTC</td>\n      <td>8</td>\n    </tr>\n    <tr>\n      <th>6</th>\n      <td>0x26ea744e5b887e5205727f55dfbe8685e3b21951</td>\n      <td>iearn USDC</td>\n      <td>yUSDC</td>\n      <td>6</td>\n    </tr>\n    <tr>\n      <th>7</th>\n      <td>0x39aa39c021dfbae8fac545936693ac917d5e7563</td>\n      <td>Compound USD Coin</td>\n      <td>cUSDC</td>\n      <td>8</td>\n    </tr>\n    <tr>\n      <th>8</th>\n      <td>0x3b3ac5386837dc563660fb6a0937dfaa5924333b</td>\n      <td>Curve.fi yDAI/yUSDC/yUSDT/yBUSD</td>\n      <td>yDAI+yUSDC+yUSDT+yBUSD</td>\n      <td>18</td>\n    </tr>\n    <tr>\n      <th>9</th>\n      <td>0x49849c98ae39fff122806c06791fa73784fb3675</td>\n      <td>Curve.fi renBTC/wBTC</td>\n      <td>crvRenWBTC</td>\n      <td>18</td>\n    </tr>\n  </tbody>\n</table>\n</div>"
     },
     "execution_count": 30,
     "metadata": {},
     "output_type": "execute_result"
    }
   ],
   "source": [
    "data = curve.Query.tokens(\n",
    "  orderBy='id'\n",
    "  ,orderDirection='asc'\n",
    "  ,first=10\n",
    "  #,where=[\n",
    "    #curve.Query.exchangeTokenBalances.underlyingToken.id != '0x6b175474e89094c44da98b954eedeac495271d0f' ##this works\n",
    "    #,curve.Query.exchangeTokenBalances.token.decimals == '18' ##this works\n",
    "    #,curve.Query.exchangeTokenBalances.underlyingToken.name != 'iearn DAI' ##this works\n",
    "    #,curve.Query.exchange.id == '0x0000004344abcb2643843225b031a4bdb2c6b6a69ba041c1db71b23b2d163350-0x3e' ##this works\n",
    "    #balancer.Query.pools\n",
    "    #balancer.Query.pools.tokensList_contains: \"0xe343245DE92181bc06ba5Cd1152C705A2C5F3E2F\"\n",
    "    #balancer.Query.pools.tokensList == '0xC02aaA39b223FE8D0A0e5C4F27eAD9083C756Cc2'\n",
    "  #]\n",
    ")\n",
    "\n",
    "data_data = sg.query_df([\n",
    "    data.id\n",
    "    ,data.name\n",
    "    ,data.symbol\n",
    "    ,data.decimals\n",
    "])\n",
    "\n",
    "datadb = db.query(\"Select \"\n",
    "                  \"* \"\n",
    "                  \"from data_data\"\n",
    "                  \" \"\n",
    "                  #\"where  lower(tokens_symbol) == lower(('SOHM')) \"\n",
    "                  \"\").df()\n",
    "\n",
    "datadb.head(10)"
   ],
   "metadata": {
    "collapsed": false,
    "pycharm": {
     "name": "#%%\n"
    }
   }
  },
  {
   "cell_type": "code",
   "execution_count": null,
   "outputs": [],
   "source": [],
   "metadata": {
    "collapsed": false,
    "pycharm": {
     "name": "#%%\n"
    }
   }
  }
 ],
 "metadata": {
  "kernelspec": {
   "display_name": "Python 3",
   "language": "python",
   "name": "python3"
  },
  "language_info": {
   "codemirror_mode": {
    "name": "ipython",
    "version": 2
   },
   "file_extension": ".py",
   "mimetype": "text/x-python",
   "name": "python",
   "nbconvert_exporter": "python",
   "pygments_lexer": "ipython2",
   "version": "2.7.6"
  }
 },
 "nbformat": 4,
 "nbformat_minor": 0
}
