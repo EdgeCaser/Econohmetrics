{
 "cells": [
  {
   "cell_type": "code",
   "execution_count": 2,
   "metadata": {
    "collapsed": true
   },
   "outputs": [],
   "source": [
    "from datetime import datetime\n",
    "import datetime as dt\n",
    "import time\n",
    "from subgrounds.subgraph import SyntheticField, FieldPath\n",
    "from subgrounds.subgrounds import Subgrounds\n",
    "import pandas as pd\n",
    "import duckdb as db\n",
    "import IPython as ip\n",
    "import  os as os"
   ]
  },
  {
   "cell_type": "code",
   "execution_count": 3,
   "outputs": [],
   "source": [
    "sg = Subgrounds()\n",
    "apiKey = input('API Key, please')"
   ],
   "metadata": {
    "collapsed": false
   }
  },
  {
   "cell_type": "code",
   "execution_count": 4,
   "outputs": [],
   "source": [
    "#for when we save the files\n",
    "file = input('Selet a folder to save output') ##enter your file path here - the file is in the repo \"summary_stats.csv\"."
   ],
   "metadata": {
    "collapsed": false
   }
  },
  {
   "cell_type": "markdown",
   "source": [
    "*******************************************************************\n",
    "*******************************************************************\n",
    "LET'S LOOK AT SILO BORROWS FIRST"
   ],
   "metadata": {
    "collapsed": false
   }
  },
  {
   "cell_type": "code",
   "execution_count": 5,
   "outputs": [],
   "source": [
    "#SILO subgraph: https://gateway.thegraph.com/api/[api-key]/subgraphs/id/6rcT2GzBXGoi3ZMus92LHajM2b9qWGj7Z3dDhPxoUogB\n",
    "silo = sg.load_api('https://gateway.thegraph.com/api/'+apiKey+'/subgraphs/id/6rcT2GzBXGoi3ZMus92LHajM2b9qWGj7Z3dDhPxoUogB')"
   ],
   "metadata": {
    "collapsed": false
   }
  },
  {
   "cell_type": "markdown",
   "source": [
    "##this captures the list of people who borrowed XAI against gOHM\n",
    "borrows = silo.Query.borrows(\n",
    "    orderBy='timestamp',\n",
    "    orderDirection='desc',\n",
    "    first=1000,\n",
    "    #skip = skipValue,\n",
    "    where={ 'market': '0xc413dd03555f3eb29d834b482d386b2999dc2eb0' }\n",
    "\n",
    ")\n",
    "\n",
    "borrowsDb = sg.query_df([\n",
    "    borrows.id\n",
    "    ,borrows.hash\n",
    "    ,borrows.logIndex\n",
    "    ,borrows.blockNumber\n",
    "    ,borrows.timestamp\n",
    "    ,borrows.account\n",
    "    ,borrows.market\n",
    "    ,borrows.market.rates\n",
    "    ,borrows.asset\n",
    "    ,borrows.amount\n",
    "    ,borrows.amountUSD \n",
    "])\n",
    "borrowsDb.head(100)"
   ],
   "metadata": {
    "collapsed": false
   }
  },
  {
   "cell_type": "markdown",
   "source": [
    "#this, in turn, pulls repayment events\n",
    "repays = silo.Query.repays(\n",
    "    orderBy='timestamp',\n",
    "    orderDirection='desc',\n",
    "    first=1000,\n",
    "    #skip = skipValue,\n",
    "    where={ 'market': '0xc413dd03555f3eb29d834b482d386b2999dc2eb0' }\n",
    "\n",
    ")\n",
    "\n",
    "repaysDb = sg.query_df([\n",
    "    repays.id\n",
    "    ,repays.hash\n",
    "    ,repays.logIndex\n",
    "    ,repays.blockNumber\n",
    "    ,repays.timestamp\n",
    "    ,repays.account\n",
    "    ,repays.market\n",
    "    ,repays.market.rates\n",
    "    ,repays.asset\n",
    "    ,repays.amount\n",
    "    ,repays.amountUSD\n",
    "    ,repays.position\n",
    "])\n",
    "repaysDb.head(100)"
   ],
   "metadata": {
    "collapsed": false
   }
  },
  {
   "cell_type": "code",
   "execution_count": 181,
   "outputs": [
    {
     "data": {
      "text/plain": "                                       transaction_id  \\\n0   0x16f2ff52f7a9e9057848569ea37c3e59eb558af0e044...   \n1   0x16f2ff52f7a9e9057848569ea37c3e59eb558af0e044...   \n2   0x16f2ff52f7a9e9057848569ea37c3e59eb558af0e044...   \n3   0x16f2ff52f7a9e9057848569ea37c3e59eb558af0e044...   \n4   0x16f2ff52f7a9e9057848569ea37c3e59eb558af0e044...   \n..                                                ...   \n95  0x97811f7e7b7d202797093d44047ed986054be3dd6120...   \n96  0x2c0d9ab92c0eef11fa3394b4a89a62c7ee27bd5b64a1...   \n97  0x2c0d9ab92c0eef11fa3394b4a89a62c7ee27bd5b64a1...   \n98  0x2c0d9ab92c0eef11fa3394b4a89a62c7ee27bd5b64a1...   \n99  0x2c0d9ab92c0eef11fa3394b4a89a62c7ee27bd5b64a1...   \n\n                                     transaction_hash  \\\n0   0x16f2ff52f7a9e9057848569ea37c3e59eb558af0e044...   \n1   0x16f2ff52f7a9e9057848569ea37c3e59eb558af0e044...   \n2   0x16f2ff52f7a9e9057848569ea37c3e59eb558af0e044...   \n3   0x16f2ff52f7a9e9057848569ea37c3e59eb558af0e044...   \n4   0x16f2ff52f7a9e9057848569ea37c3e59eb558af0e044...   \n..                                                ...   \n95  0x97811f7e7b7d202797093d44047ed986054be3dd6120...   \n96  0x2c0d9ab92c0eef11fa3394b4a89a62c7ee27bd5b64a1...   \n97  0x2c0d9ab92c0eef11fa3394b4a89a62c7ee27bd5b64a1...   \n98  0x2c0d9ab92c0eef11fa3394b4a89a62c7ee27bd5b64a1...   \n99  0x2c0d9ab92c0eef11fa3394b4a89a62c7ee27bd5b64a1...   \n\n    transaction_blockNumber  transaction_timestamp  \\\n0                  16589389             1675923839   \n1                  16589389             1675923839   \n2                  16589389             1675923839   \n3                  16589389             1675923839   \n4                  16589389             1675923839   \n..                      ...                    ...   \n95                 16623063             1676330255   \n96                 16588637             1675914791   \n97                 16588637             1675914791   \n98                 16588637             1675914791   \n99                 16588637             1675914791   \n\n                        transaction_account_id  \\\n0   0xb0399dac8f4d4100b49b2a7b3873481114229d18   \n1   0xb0399dac8f4d4100b49b2a7b3873481114229d18   \n2   0xb0399dac8f4d4100b49b2a7b3873481114229d18   \n3   0xb0399dac8f4d4100b49b2a7b3873481114229d18   \n4   0xb0399dac8f4d4100b49b2a7b3873481114229d18   \n..                                         ...   \n95  0xc0b1f200aa9546ce074397bed7438bb2ec033877   \n96  0x804157889ac56a4e50278610c67960c1605a3264   \n97  0x804157889ac56a4e50278610c67960c1605a3264   \n98  0x804157889ac56a4e50278610c67960c1605a3264   \n99  0x804157889ac56a4e50278610c67960c1605a3264   \n\n                         transaction_market_id  \\\n0   0xc413dd03555f3eb29d834b482d386b2999dc2eb0   \n1   0xc413dd03555f3eb29d834b482d386b2999dc2eb0   \n2   0xc413dd03555f3eb29d834b482d386b2999dc2eb0   \n3   0xc413dd03555f3eb29d834b482d386b2999dc2eb0   \n4   0xc413dd03555f3eb29d834b482d386b2999dc2eb0   \n..                                         ...   \n95  0xc413dd03555f3eb29d834b482d386b2999dc2eb0   \n96  0xc413dd03555f3eb29d834b482d386b2999dc2eb0   \n97  0xc413dd03555f3eb29d834b482d386b2999dc2eb0   \n98  0xc413dd03555f3eb29d834b482d386b2999dc2eb0   \n99  0xc413dd03555f3eb29d834b482d386b2999dc2eb0   \n\n                transaction_market_protocol_id  transaction_market_rates_rate  \\\n0   0xd998c35b7900b344bbbe6555cc11576942cf309d                       0.000000   \n1   0xd998c35b7900b344bbbe6555cc11576942cf309d                       2.278084   \n2   0xd998c35b7900b344bbbe6555cc11576942cf309d                       2.347562   \n3   0xd998c35b7900b344bbbe6555cc11576942cf309d                       0.000000   \n4   0xd998c35b7900b344bbbe6555cc11576942cf309d                       0.631786   \n..                                         ...                            ...   \n95  0xd998c35b7900b344bbbe6555cc11576942cf309d                       1.102212   \n96  0xd998c35b7900b344bbbe6555cc11576942cf309d                       2.278084   \n97  0xd998c35b7900b344bbbe6555cc11576942cf309d                       2.347562   \n98  0xd998c35b7900b344bbbe6555cc11576942cf309d                       0.000000   \n99  0xd998c35b7900b344bbbe6555cc11576942cf309d                       0.631786   \n\n    transaction_market_rates_duration transaction_market_rates_side  \\\n0                                 NaN                      BORROWER   \n1                                 NaN                      BORROWER   \n2                                 NaN                      BORROWER   \n3                                 NaN                        LENDER   \n4                                 NaN                        LENDER   \n..                                ...                           ...   \n95                                NaN                        LENDER   \n96                                NaN                      BORROWER   \n97                                NaN                      BORROWER   \n98                                NaN                        LENDER   \n99                                NaN                        LENDER   \n\n   transaction_market_rates_type           transaction_market_rates_token_id  \\\n0                       VARIABLE  0x0ab87046fbb341d058f17cbc4c1133f25a20a52f   \n1                       VARIABLE  0xc02aaa39b223fe8d0a0e5c4f27ead9083c756cc2   \n2                       VARIABLE  0xd7c9f0e536dc865ae858b0c0453fe76d13c3beac   \n3                       VARIABLE  0x0ab87046fbb341d058f17cbc4c1133f25a20a52f   \n4                       VARIABLE  0xc02aaa39b223fe8d0a0e5c4f27ead9083c756cc2   \n..                           ...                                         ...   \n95                      VARIABLE  0xd7c9f0e536dc865ae858b0c0453fe76d13c3beac   \n96                      VARIABLE  0xc02aaa39b223fe8d0a0e5c4f27ead9083c756cc2   \n97                      VARIABLE  0xd7c9f0e536dc865ae858b0c0453fe76d13c3beac   \n98                      VARIABLE  0x0ab87046fbb341d058f17cbc4c1133f25a20a52f   \n99                      VARIABLE  0xc02aaa39b223fe8d0a0e5c4f27ead9083c756cc2   \n\n   transaction_asset_name transaction_asset_symbol  \\\n0          XAI Stablecoin                      XAI   \n1          XAI Stablecoin                      XAI   \n2          XAI Stablecoin                      XAI   \n3          XAI Stablecoin                      XAI   \n4          XAI Stablecoin                      XAI   \n..                    ...                      ...   \n95         XAI Stablecoin                      XAI   \n96         XAI Stablecoin                      XAI   \n97         XAI Stablecoin                      XAI   \n98         XAI Stablecoin                      XAI   \n99         XAI Stablecoin                      XAI   \n\n    transaction_asset_decimals  transaction_asset_lastPriceUSD  \\\n0                           18                        0.998196   \n1                           18                        0.998196   \n2                           18                        0.998196   \n3                           18                        0.998196   \n4                           18                        0.998196   \n..                         ...                             ...   \n95                          18                        0.998196   \n96                          18                        0.998196   \n97                          18                        0.998196   \n98                          18                        0.998196   \n99                          18                        0.998196   \n\n          transaction_amount  transaction_amountUSD   event  \\\n0   186000000000000000000000          185996.147731  borrow   \n1   186000000000000000000000          185996.147731  borrow   \n2   186000000000000000000000          185996.147731  borrow   \n3   186000000000000000000000          185996.147731  borrow   \n4   186000000000000000000000          185996.147731  borrow   \n..                       ...                    ...     ...   \n95    2457516074488804244751            2446.717700  borrow   \n96    1000000000000000000000            1005.010529  borrow   \n97    1000000000000000000000            1005.010529  borrow   \n98    1000000000000000000000            1005.010529  borrow   \n99    1000000000000000000000            1005.010529  borrow   \n\n               dateTime  \n0   2023-02-09 06:23:59  \n1   2023-02-09 06:23:59  \n2   2023-02-09 06:23:59  \n3   2023-02-09 06:23:59  \n4   2023-02-09 06:23:59  \n..                  ...  \n95  2023-02-13 23:17:35  \n96  2023-02-09 03:53:11  \n97  2023-02-09 03:53:11  \n98  2023-02-09 03:53:11  \n99  2023-02-09 03:53:11  \n\n[100 rows x 20 columns]",
      "text/html": "<div>\n<style scoped>\n    .dataframe tbody tr th:only-of-type {\n        vertical-align: middle;\n    }\n\n    .dataframe tbody tr th {\n        vertical-align: top;\n    }\n\n    .dataframe thead th {\n        text-align: right;\n    }\n</style>\n<table border=\"1\" class=\"dataframe\">\n  <thead>\n    <tr style=\"text-align: right;\">\n      <th></th>\n      <th>transaction_id</th>\n      <th>transaction_hash</th>\n      <th>transaction_blockNumber</th>\n      <th>transaction_timestamp</th>\n      <th>transaction_account_id</th>\n      <th>transaction_market_id</th>\n      <th>transaction_market_protocol_id</th>\n      <th>transaction_market_rates_rate</th>\n      <th>transaction_market_rates_duration</th>\n      <th>transaction_market_rates_side</th>\n      <th>transaction_market_rates_type</th>\n      <th>transaction_market_rates_token_id</th>\n      <th>transaction_asset_name</th>\n      <th>transaction_asset_symbol</th>\n      <th>transaction_asset_decimals</th>\n      <th>transaction_asset_lastPriceUSD</th>\n      <th>transaction_amount</th>\n      <th>transaction_amountUSD</th>\n      <th>event</th>\n      <th>dateTime</th>\n    </tr>\n  </thead>\n  <tbody>\n    <tr>\n      <th>0</th>\n      <td>0x16f2ff52f7a9e9057848569ea37c3e59eb558af0e044...</td>\n      <td>0x16f2ff52f7a9e9057848569ea37c3e59eb558af0e044...</td>\n      <td>16589389</td>\n      <td>1675923839</td>\n      <td>0xb0399dac8f4d4100b49b2a7b3873481114229d18</td>\n      <td>0xc413dd03555f3eb29d834b482d386b2999dc2eb0</td>\n      <td>0xd998c35b7900b344bbbe6555cc11576942cf309d</td>\n      <td>0.000000</td>\n      <td>NaN</td>\n      <td>BORROWER</td>\n      <td>VARIABLE</td>\n      <td>0x0ab87046fbb341d058f17cbc4c1133f25a20a52f</td>\n      <td>XAI Stablecoin</td>\n      <td>XAI</td>\n      <td>18</td>\n      <td>0.998196</td>\n      <td>186000000000000000000000</td>\n      <td>185996.147731</td>\n      <td>borrow</td>\n      <td>2023-02-09 06:23:59</td>\n    </tr>\n    <tr>\n      <th>1</th>\n      <td>0x16f2ff52f7a9e9057848569ea37c3e59eb558af0e044...</td>\n      <td>0x16f2ff52f7a9e9057848569ea37c3e59eb558af0e044...</td>\n      <td>16589389</td>\n      <td>1675923839</td>\n      <td>0xb0399dac8f4d4100b49b2a7b3873481114229d18</td>\n      <td>0xc413dd03555f3eb29d834b482d386b2999dc2eb0</td>\n      <td>0xd998c35b7900b344bbbe6555cc11576942cf309d</td>\n      <td>2.278084</td>\n      <td>NaN</td>\n      <td>BORROWER</td>\n      <td>VARIABLE</td>\n      <td>0xc02aaa39b223fe8d0a0e5c4f27ead9083c756cc2</td>\n      <td>XAI Stablecoin</td>\n      <td>XAI</td>\n      <td>18</td>\n      <td>0.998196</td>\n      <td>186000000000000000000000</td>\n      <td>185996.147731</td>\n      <td>borrow</td>\n      <td>2023-02-09 06:23:59</td>\n    </tr>\n    <tr>\n      <th>2</th>\n      <td>0x16f2ff52f7a9e9057848569ea37c3e59eb558af0e044...</td>\n      <td>0x16f2ff52f7a9e9057848569ea37c3e59eb558af0e044...</td>\n      <td>16589389</td>\n      <td>1675923839</td>\n      <td>0xb0399dac8f4d4100b49b2a7b3873481114229d18</td>\n      <td>0xc413dd03555f3eb29d834b482d386b2999dc2eb0</td>\n      <td>0xd998c35b7900b344bbbe6555cc11576942cf309d</td>\n      <td>2.347562</td>\n      <td>NaN</td>\n      <td>BORROWER</td>\n      <td>VARIABLE</td>\n      <td>0xd7c9f0e536dc865ae858b0c0453fe76d13c3beac</td>\n      <td>XAI Stablecoin</td>\n      <td>XAI</td>\n      <td>18</td>\n      <td>0.998196</td>\n      <td>186000000000000000000000</td>\n      <td>185996.147731</td>\n      <td>borrow</td>\n      <td>2023-02-09 06:23:59</td>\n    </tr>\n    <tr>\n      <th>3</th>\n      <td>0x16f2ff52f7a9e9057848569ea37c3e59eb558af0e044...</td>\n      <td>0x16f2ff52f7a9e9057848569ea37c3e59eb558af0e044...</td>\n      <td>16589389</td>\n      <td>1675923839</td>\n      <td>0xb0399dac8f4d4100b49b2a7b3873481114229d18</td>\n      <td>0xc413dd03555f3eb29d834b482d386b2999dc2eb0</td>\n      <td>0xd998c35b7900b344bbbe6555cc11576942cf309d</td>\n      <td>0.000000</td>\n      <td>NaN</td>\n      <td>LENDER</td>\n      <td>VARIABLE</td>\n      <td>0x0ab87046fbb341d058f17cbc4c1133f25a20a52f</td>\n      <td>XAI Stablecoin</td>\n      <td>XAI</td>\n      <td>18</td>\n      <td>0.998196</td>\n      <td>186000000000000000000000</td>\n      <td>185996.147731</td>\n      <td>borrow</td>\n      <td>2023-02-09 06:23:59</td>\n    </tr>\n    <tr>\n      <th>4</th>\n      <td>0x16f2ff52f7a9e9057848569ea37c3e59eb558af0e044...</td>\n      <td>0x16f2ff52f7a9e9057848569ea37c3e59eb558af0e044...</td>\n      <td>16589389</td>\n      <td>1675923839</td>\n      <td>0xb0399dac8f4d4100b49b2a7b3873481114229d18</td>\n      <td>0xc413dd03555f3eb29d834b482d386b2999dc2eb0</td>\n      <td>0xd998c35b7900b344bbbe6555cc11576942cf309d</td>\n      <td>0.631786</td>\n      <td>NaN</td>\n      <td>LENDER</td>\n      <td>VARIABLE</td>\n      <td>0xc02aaa39b223fe8d0a0e5c4f27ead9083c756cc2</td>\n      <td>XAI Stablecoin</td>\n      <td>XAI</td>\n      <td>18</td>\n      <td>0.998196</td>\n      <td>186000000000000000000000</td>\n      <td>185996.147731</td>\n      <td>borrow</td>\n      <td>2023-02-09 06:23:59</td>\n    </tr>\n    <tr>\n      <th>...</th>\n      <td>...</td>\n      <td>...</td>\n      <td>...</td>\n      <td>...</td>\n      <td>...</td>\n      <td>...</td>\n      <td>...</td>\n      <td>...</td>\n      <td>...</td>\n      <td>...</td>\n      <td>...</td>\n      <td>...</td>\n      <td>...</td>\n      <td>...</td>\n      <td>...</td>\n      <td>...</td>\n      <td>...</td>\n      <td>...</td>\n      <td>...</td>\n      <td>...</td>\n    </tr>\n    <tr>\n      <th>95</th>\n      <td>0x97811f7e7b7d202797093d44047ed986054be3dd6120...</td>\n      <td>0x97811f7e7b7d202797093d44047ed986054be3dd6120...</td>\n      <td>16623063</td>\n      <td>1676330255</td>\n      <td>0xc0b1f200aa9546ce074397bed7438bb2ec033877</td>\n      <td>0xc413dd03555f3eb29d834b482d386b2999dc2eb0</td>\n      <td>0xd998c35b7900b344bbbe6555cc11576942cf309d</td>\n      <td>1.102212</td>\n      <td>NaN</td>\n      <td>LENDER</td>\n      <td>VARIABLE</td>\n      <td>0xd7c9f0e536dc865ae858b0c0453fe76d13c3beac</td>\n      <td>XAI Stablecoin</td>\n      <td>XAI</td>\n      <td>18</td>\n      <td>0.998196</td>\n      <td>2457516074488804244751</td>\n      <td>2446.717700</td>\n      <td>borrow</td>\n      <td>2023-02-13 23:17:35</td>\n    </tr>\n    <tr>\n      <th>96</th>\n      <td>0x2c0d9ab92c0eef11fa3394b4a89a62c7ee27bd5b64a1...</td>\n      <td>0x2c0d9ab92c0eef11fa3394b4a89a62c7ee27bd5b64a1...</td>\n      <td>16588637</td>\n      <td>1675914791</td>\n      <td>0x804157889ac56a4e50278610c67960c1605a3264</td>\n      <td>0xc413dd03555f3eb29d834b482d386b2999dc2eb0</td>\n      <td>0xd998c35b7900b344bbbe6555cc11576942cf309d</td>\n      <td>2.278084</td>\n      <td>NaN</td>\n      <td>BORROWER</td>\n      <td>VARIABLE</td>\n      <td>0xc02aaa39b223fe8d0a0e5c4f27ead9083c756cc2</td>\n      <td>XAI Stablecoin</td>\n      <td>XAI</td>\n      <td>18</td>\n      <td>0.998196</td>\n      <td>1000000000000000000000</td>\n      <td>1005.010529</td>\n      <td>borrow</td>\n      <td>2023-02-09 03:53:11</td>\n    </tr>\n    <tr>\n      <th>97</th>\n      <td>0x2c0d9ab92c0eef11fa3394b4a89a62c7ee27bd5b64a1...</td>\n      <td>0x2c0d9ab92c0eef11fa3394b4a89a62c7ee27bd5b64a1...</td>\n      <td>16588637</td>\n      <td>1675914791</td>\n      <td>0x804157889ac56a4e50278610c67960c1605a3264</td>\n      <td>0xc413dd03555f3eb29d834b482d386b2999dc2eb0</td>\n      <td>0xd998c35b7900b344bbbe6555cc11576942cf309d</td>\n      <td>2.347562</td>\n      <td>NaN</td>\n      <td>BORROWER</td>\n      <td>VARIABLE</td>\n      <td>0xd7c9f0e536dc865ae858b0c0453fe76d13c3beac</td>\n      <td>XAI Stablecoin</td>\n      <td>XAI</td>\n      <td>18</td>\n      <td>0.998196</td>\n      <td>1000000000000000000000</td>\n      <td>1005.010529</td>\n      <td>borrow</td>\n      <td>2023-02-09 03:53:11</td>\n    </tr>\n    <tr>\n      <th>98</th>\n      <td>0x2c0d9ab92c0eef11fa3394b4a89a62c7ee27bd5b64a1...</td>\n      <td>0x2c0d9ab92c0eef11fa3394b4a89a62c7ee27bd5b64a1...</td>\n      <td>16588637</td>\n      <td>1675914791</td>\n      <td>0x804157889ac56a4e50278610c67960c1605a3264</td>\n      <td>0xc413dd03555f3eb29d834b482d386b2999dc2eb0</td>\n      <td>0xd998c35b7900b344bbbe6555cc11576942cf309d</td>\n      <td>0.000000</td>\n      <td>NaN</td>\n      <td>LENDER</td>\n      <td>VARIABLE</td>\n      <td>0x0ab87046fbb341d058f17cbc4c1133f25a20a52f</td>\n      <td>XAI Stablecoin</td>\n      <td>XAI</td>\n      <td>18</td>\n      <td>0.998196</td>\n      <td>1000000000000000000000</td>\n      <td>1005.010529</td>\n      <td>borrow</td>\n      <td>2023-02-09 03:53:11</td>\n    </tr>\n    <tr>\n      <th>99</th>\n      <td>0x2c0d9ab92c0eef11fa3394b4a89a62c7ee27bd5b64a1...</td>\n      <td>0x2c0d9ab92c0eef11fa3394b4a89a62c7ee27bd5b64a1...</td>\n      <td>16588637</td>\n      <td>1675914791</td>\n      <td>0x804157889ac56a4e50278610c67960c1605a3264</td>\n      <td>0xc413dd03555f3eb29d834b482d386b2999dc2eb0</td>\n      <td>0xd998c35b7900b344bbbe6555cc11576942cf309d</td>\n      <td>0.631786</td>\n      <td>NaN</td>\n      <td>LENDER</td>\n      <td>VARIABLE</td>\n      <td>0xc02aaa39b223fe8d0a0e5c4f27ead9083c756cc2</td>\n      <td>XAI Stablecoin</td>\n      <td>XAI</td>\n      <td>18</td>\n      <td>0.998196</td>\n      <td>1000000000000000000000</td>\n      <td>1005.010529</td>\n      <td>borrow</td>\n      <td>2023-02-09 03:53:11</td>\n    </tr>\n  </tbody>\n</table>\n<p>100 rows × 20 columns</p>\n</div>"
     },
     "execution_count": 181,
     "metadata": {},
     "output_type": "execute_result"
    }
   ],
   "source": [
    "oldBorrowsDb = pd.DataFrame()\n",
    "siloFileName = file+'/siloFinance_borrows.csv'\n",
    "try:\n",
    "    oldBorrowsDb = pd.read_csv (siloFileName)\n",
    "except:\n",
    "    oldBorrowsDb = pd.DataFrame()\n",
    "oldBorrowsDb.head(100)"
   ],
   "metadata": {
    "collapsed": false
   }
  },
  {
   "cell_type": "code",
   "execution_count": 182,
   "outputs": [
    {
     "data": {
      "text/plain": "1676383650"
     },
     "execution_count": 182,
     "metadata": {},
     "output_type": "execute_result"
    }
   ],
   "source": [
    "maxSiloBorrowTimestamp = 0\n",
    "try:\n",
    "    maxSiloBorrowTimestamp = (max(0,oldBorrowsDb['transaction_timestamp'].max()))-5\n",
    "except:\n",
    "        maxSiloBorrowTimestamp = 0\n",
    "maxSiloBorrowTimestamp = int(maxSiloBorrowTimestamp)\n",
    "maxSiloBorrowTimestamp"
   ],
   "metadata": {
    "collapsed": false
   }
  },
  {
   "cell_type": "code",
   "execution_count": 184,
   "outputs": [
    {
     "name": "stdout",
     "output_type": "stream",
     "text": [
      "iterations:  0 Lines skipped:  0 records collected:  6  - latest recordID:  0xd5dc7147192591c7d19856d12e9278928932a5921653c46b467c1c979ff85aad   0xd5dc7147192591c7d19856d12e9278928932a5921653c46b467c1c979ff85aad-110  - borrows DB length:  6  - latest record from:  2023-02-14 06:07:35 0 days ago\n",
      "Done. Total Records collected:  6\n"
     ]
    }
   ],
   "source": [
    "##this captures the ENTIRE list of people who borrowed XAI against gOHM\n",
    "borrowTicker = 0\n",
    "borrowslist = pd.DataFrame()\n",
    "borrowsDb = pd.DataFrame()\n",
    "borrowListLength = 1000\n",
    "datediff = 0\n",
    "now=0\n",
    "daysAgo=0\n",
    "daysLimit = 45\n",
    "exit = False\n",
    "while exit==False:\n",
    "    skipValue = (borrowTicker)*(1000)\n",
    "    borrows = silo.Query.borrows(\n",
    "        orderBy='timestamp',\n",
    "        orderDirection='desc',\n",
    "        first=1000,\n",
    "        skip = skipValue,\n",
    "        where={ 'market': '0xc413dd03555f3eb29d834b482d386b2999dc2eb0'\n",
    "                ,'timestamp_gte': maxSiloBorrowTimestamp\n",
    "                } #gOHM market\n",
    "\n",
    "    )\n",
    "\n",
    "    borrowslist = sg.query_df([\n",
    "        borrows.id\n",
    "        ,borrows.hash\n",
    "        ,borrows.blockNumber\n",
    "        ,borrows.timestamp\n",
    "        ,borrows.account.id\n",
    "        ,borrows.market.id\n",
    "        ,borrows.market.protocol.id\n",
    "        ,borrows.market.rates.rate\n",
    "        ,borrows.market.rates.duration\n",
    "        ,borrows.market.rates.side\n",
    "        ,borrows.market.rates.type\n",
    "        ,borrows.market.rates.token.id\n",
    "        ,borrows.asset.name\n",
    "        ,borrows.asset.symbol\n",
    "        ,borrows.asset.decimals\n",
    "        ,borrows.asset.lastPriceUSD\n",
    "        ,borrows.amount\n",
    "        ,borrows.amountUSD\n",
    "    ])\n",
    "\n",
    "    #borrowslist.sort_values(by=['borrows_timestamp'])\n",
    "\n",
    "    borrowsDb=pd.concat([borrowsDb, borrowslist])\n",
    "    recordTimestamp1 = borrowsDb.iat[borrowTicker,3]\n",
    "    recordTimestamp = dt.datetime.fromtimestamp( recordTimestamp1 )\n",
    "    now = (int(dt.datetime.utcnow().timestamp()))\n",
    "    datediff=abs(int(now) - recordTimestamp1)\n",
    "    daysAgo = int(datediff/86400)\n",
    "    borrowsDbLength = len(borrowsDb)\n",
    "    borrowListLength = len(borrowslist)\n",
    "    recordID = borrowsDb.iat[borrowTicker,0]\n",
    "    borrow = borrowsDb.iat[borrowTicker,1]\n",
    "    print(\"iterations: \", borrowTicker, \"Lines skipped: \",skipValue, \"records collected: \", borrowListLength, \" - latest recordID: \",borrow, \" \", recordID , \" - borrows DB length: \", borrowsDbLength, \" - latest record from: \", recordTimestamp, daysAgo,\"days ago\")\n",
    "    #print(\"iterations: \", borrowTicker, \"records collected: \", borrowListLength, \" - userdb length: \", borrowsDbLength)\n",
    "    borrowTicker = borrowTicker+1\n",
    "\n",
    "    if daysAgo>daysLimit: exit =True\n",
    "    if borrowListLength<1000: exit =True\n",
    "\n",
    "borrowsDb.columns = borrowsDb.columns.str.replace(\"borrows\", \"transaction\")\n",
    "borrowsDb['event']='borrow'\n",
    "borrowsDb.drop_duplicates\n",
    "print(\"Done. Total Records collected: \", borrowsDbLength)"
   ],
   "metadata": {
    "collapsed": false
   }
  },
  {
   "cell_type": "code",
   "execution_count": 185,
   "outputs": [
    {
     "data": {
      "text/plain": "                                      transaction_id  \\\n0  0xd5dc7147192591c7d19856d12e9278928932a5921653...   \n1  0xd5dc7147192591c7d19856d12e9278928932a5921653...   \n2  0xd5dc7147192591c7d19856d12e9278928932a5921653...   \n3  0xd5dc7147192591c7d19856d12e9278928932a5921653...   \n4  0xd5dc7147192591c7d19856d12e9278928932a5921653...   \n5  0xd5dc7147192591c7d19856d12e9278928932a5921653...   \n\n                                    transaction_hash  transaction_blockNumber  \\\n0  0xd5dc7147192591c7d19856d12e9278928932a5921653...                 16627480   \n1  0xd5dc7147192591c7d19856d12e9278928932a5921653...                 16627480   \n2  0xd5dc7147192591c7d19856d12e9278928932a5921653...                 16627480   \n3  0xd5dc7147192591c7d19856d12e9278928932a5921653...                 16627480   \n4  0xd5dc7147192591c7d19856d12e9278928932a5921653...                 16627480   \n5  0xd5dc7147192591c7d19856d12e9278928932a5921653...                 16627480   \n\n   transaction_timestamp                      transaction_account_id  \\\n0             1676383655  0xc0b1f200aa9546ce074397bed7438bb2ec033877   \n1             1676383655  0xc0b1f200aa9546ce074397bed7438bb2ec033877   \n2             1676383655  0xc0b1f200aa9546ce074397bed7438bb2ec033877   \n3             1676383655  0xc0b1f200aa9546ce074397bed7438bb2ec033877   \n4             1676383655  0xc0b1f200aa9546ce074397bed7438bb2ec033877   \n5             1676383655  0xc0b1f200aa9546ce074397bed7438bb2ec033877   \n\n                        transaction_market_id  \\\n0  0xc413dd03555f3eb29d834b482d386b2999dc2eb0   \n1  0xc413dd03555f3eb29d834b482d386b2999dc2eb0   \n2  0xc413dd03555f3eb29d834b482d386b2999dc2eb0   \n3  0xc413dd03555f3eb29d834b482d386b2999dc2eb0   \n4  0xc413dd03555f3eb29d834b482d386b2999dc2eb0   \n5  0xc413dd03555f3eb29d834b482d386b2999dc2eb0   \n\n               transaction_market_protocol_id  transaction_market_rates_rate  \\\n0  0xd998c35b7900b344bbbe6555cc11576942cf309d                       0.000000   \n1  0xd998c35b7900b344bbbe6555cc11576942cf309d                       2.278084   \n2  0xd998c35b7900b344bbbe6555cc11576942cf309d                       2.347562   \n3  0xd998c35b7900b344bbbe6555cc11576942cf309d                       0.000000   \n4  0xd998c35b7900b344bbbe6555cc11576942cf309d                       0.631787   \n5  0xd998c35b7900b344bbbe6555cc11576942cf309d                       1.102212   \n\n  transaction_market_rates_duration transaction_market_rates_side  \\\n0                              None                      BORROWER   \n1                              None                      BORROWER   \n2                              None                      BORROWER   \n3                              None                        LENDER   \n4                              None                        LENDER   \n5                              None                        LENDER   \n\n  transaction_market_rates_type           transaction_market_rates_token_id  \\\n0                      VARIABLE  0x0ab87046fbb341d058f17cbc4c1133f25a20a52f   \n1                      VARIABLE  0xc02aaa39b223fe8d0a0e5c4f27ead9083c756cc2   \n2                      VARIABLE  0xd7c9f0e536dc865ae858b0c0453fe76d13c3beac   \n3                      VARIABLE  0x0ab87046fbb341d058f17cbc4c1133f25a20a52f   \n4                      VARIABLE  0xc02aaa39b223fe8d0a0e5c4f27ead9083c756cc2   \n5                      VARIABLE  0xd7c9f0e536dc865ae858b0c0453fe76d13c3beac   \n\n  transaction_asset_name transaction_asset_symbol  transaction_asset_decimals  \\\n0         XAI Stablecoin                      XAI                          18   \n1         XAI Stablecoin                      XAI                          18   \n2         XAI Stablecoin                      XAI                          18   \n3         XAI Stablecoin                      XAI                          18   \n4         XAI Stablecoin                      XAI                          18   \n5         XAI Stablecoin                      XAI                          18   \n\n   transaction_asset_lastPriceUSD      transaction_amount  \\\n0                        0.993048  1000000000000000000000   \n1                        0.993048  1000000000000000000000   \n2                        0.993048  1000000000000000000000   \n3                        0.993048  1000000000000000000000   \n4                        0.993048  1000000000000000000000   \n5                        0.993048  1000000000000000000000   \n\n   transaction_amountUSD   event  \n0             992.079025  borrow  \n1             992.079025  borrow  \n2             992.079025  borrow  \n3             992.079025  borrow  \n4             992.079025  borrow  \n5             992.079025  borrow  ",
      "text/html": "<div>\n<style scoped>\n    .dataframe tbody tr th:only-of-type {\n        vertical-align: middle;\n    }\n\n    .dataframe tbody tr th {\n        vertical-align: top;\n    }\n\n    .dataframe thead th {\n        text-align: right;\n    }\n</style>\n<table border=\"1\" class=\"dataframe\">\n  <thead>\n    <tr style=\"text-align: right;\">\n      <th></th>\n      <th>transaction_id</th>\n      <th>transaction_hash</th>\n      <th>transaction_blockNumber</th>\n      <th>transaction_timestamp</th>\n      <th>transaction_account_id</th>\n      <th>transaction_market_id</th>\n      <th>transaction_market_protocol_id</th>\n      <th>transaction_market_rates_rate</th>\n      <th>transaction_market_rates_duration</th>\n      <th>transaction_market_rates_side</th>\n      <th>transaction_market_rates_type</th>\n      <th>transaction_market_rates_token_id</th>\n      <th>transaction_asset_name</th>\n      <th>transaction_asset_symbol</th>\n      <th>transaction_asset_decimals</th>\n      <th>transaction_asset_lastPriceUSD</th>\n      <th>transaction_amount</th>\n      <th>transaction_amountUSD</th>\n      <th>event</th>\n    </tr>\n  </thead>\n  <tbody>\n    <tr>\n      <th>0</th>\n      <td>0xd5dc7147192591c7d19856d12e9278928932a5921653...</td>\n      <td>0xd5dc7147192591c7d19856d12e9278928932a5921653...</td>\n      <td>16627480</td>\n      <td>1676383655</td>\n      <td>0xc0b1f200aa9546ce074397bed7438bb2ec033877</td>\n      <td>0xc413dd03555f3eb29d834b482d386b2999dc2eb0</td>\n      <td>0xd998c35b7900b344bbbe6555cc11576942cf309d</td>\n      <td>0.000000</td>\n      <td>None</td>\n      <td>BORROWER</td>\n      <td>VARIABLE</td>\n      <td>0x0ab87046fbb341d058f17cbc4c1133f25a20a52f</td>\n      <td>XAI Stablecoin</td>\n      <td>XAI</td>\n      <td>18</td>\n      <td>0.993048</td>\n      <td>1000000000000000000000</td>\n      <td>992.079025</td>\n      <td>borrow</td>\n    </tr>\n    <tr>\n      <th>1</th>\n      <td>0xd5dc7147192591c7d19856d12e9278928932a5921653...</td>\n      <td>0xd5dc7147192591c7d19856d12e9278928932a5921653...</td>\n      <td>16627480</td>\n      <td>1676383655</td>\n      <td>0xc0b1f200aa9546ce074397bed7438bb2ec033877</td>\n      <td>0xc413dd03555f3eb29d834b482d386b2999dc2eb0</td>\n      <td>0xd998c35b7900b344bbbe6555cc11576942cf309d</td>\n      <td>2.278084</td>\n      <td>None</td>\n      <td>BORROWER</td>\n      <td>VARIABLE</td>\n      <td>0xc02aaa39b223fe8d0a0e5c4f27ead9083c756cc2</td>\n      <td>XAI Stablecoin</td>\n      <td>XAI</td>\n      <td>18</td>\n      <td>0.993048</td>\n      <td>1000000000000000000000</td>\n      <td>992.079025</td>\n      <td>borrow</td>\n    </tr>\n    <tr>\n      <th>2</th>\n      <td>0xd5dc7147192591c7d19856d12e9278928932a5921653...</td>\n      <td>0xd5dc7147192591c7d19856d12e9278928932a5921653...</td>\n      <td>16627480</td>\n      <td>1676383655</td>\n      <td>0xc0b1f200aa9546ce074397bed7438bb2ec033877</td>\n      <td>0xc413dd03555f3eb29d834b482d386b2999dc2eb0</td>\n      <td>0xd998c35b7900b344bbbe6555cc11576942cf309d</td>\n      <td>2.347562</td>\n      <td>None</td>\n      <td>BORROWER</td>\n      <td>VARIABLE</td>\n      <td>0xd7c9f0e536dc865ae858b0c0453fe76d13c3beac</td>\n      <td>XAI Stablecoin</td>\n      <td>XAI</td>\n      <td>18</td>\n      <td>0.993048</td>\n      <td>1000000000000000000000</td>\n      <td>992.079025</td>\n      <td>borrow</td>\n    </tr>\n    <tr>\n      <th>3</th>\n      <td>0xd5dc7147192591c7d19856d12e9278928932a5921653...</td>\n      <td>0xd5dc7147192591c7d19856d12e9278928932a5921653...</td>\n      <td>16627480</td>\n      <td>1676383655</td>\n      <td>0xc0b1f200aa9546ce074397bed7438bb2ec033877</td>\n      <td>0xc413dd03555f3eb29d834b482d386b2999dc2eb0</td>\n      <td>0xd998c35b7900b344bbbe6555cc11576942cf309d</td>\n      <td>0.000000</td>\n      <td>None</td>\n      <td>LENDER</td>\n      <td>VARIABLE</td>\n      <td>0x0ab87046fbb341d058f17cbc4c1133f25a20a52f</td>\n      <td>XAI Stablecoin</td>\n      <td>XAI</td>\n      <td>18</td>\n      <td>0.993048</td>\n      <td>1000000000000000000000</td>\n      <td>992.079025</td>\n      <td>borrow</td>\n    </tr>\n    <tr>\n      <th>4</th>\n      <td>0xd5dc7147192591c7d19856d12e9278928932a5921653...</td>\n      <td>0xd5dc7147192591c7d19856d12e9278928932a5921653...</td>\n      <td>16627480</td>\n      <td>1676383655</td>\n      <td>0xc0b1f200aa9546ce074397bed7438bb2ec033877</td>\n      <td>0xc413dd03555f3eb29d834b482d386b2999dc2eb0</td>\n      <td>0xd998c35b7900b344bbbe6555cc11576942cf309d</td>\n      <td>0.631787</td>\n      <td>None</td>\n      <td>LENDER</td>\n      <td>VARIABLE</td>\n      <td>0xc02aaa39b223fe8d0a0e5c4f27ead9083c756cc2</td>\n      <td>XAI Stablecoin</td>\n      <td>XAI</td>\n      <td>18</td>\n      <td>0.993048</td>\n      <td>1000000000000000000000</td>\n      <td>992.079025</td>\n      <td>borrow</td>\n    </tr>\n    <tr>\n      <th>5</th>\n      <td>0xd5dc7147192591c7d19856d12e9278928932a5921653...</td>\n      <td>0xd5dc7147192591c7d19856d12e9278928932a5921653...</td>\n      <td>16627480</td>\n      <td>1676383655</td>\n      <td>0xc0b1f200aa9546ce074397bed7438bb2ec033877</td>\n      <td>0xc413dd03555f3eb29d834b482d386b2999dc2eb0</td>\n      <td>0xd998c35b7900b344bbbe6555cc11576942cf309d</td>\n      <td>1.102212</td>\n      <td>None</td>\n      <td>LENDER</td>\n      <td>VARIABLE</td>\n      <td>0xd7c9f0e536dc865ae858b0c0453fe76d13c3beac</td>\n      <td>XAI Stablecoin</td>\n      <td>XAI</td>\n      <td>18</td>\n      <td>0.993048</td>\n      <td>1000000000000000000000</td>\n      <td>992.079025</td>\n      <td>borrow</td>\n    </tr>\n  </tbody>\n</table>\n</div>"
     },
     "execution_count": 185,
     "metadata": {},
     "output_type": "execute_result"
    }
   ],
   "source": [
    "borrowsDb.head(100)"
   ],
   "metadata": {
    "collapsed": false
   }
  },
  {
   "cell_type": "code",
   "execution_count": 186,
   "outputs": [
    {
     "data": {
      "text/plain": "                                      transaction_id  \\\n0  0xd5dc7147192591c7d19856d12e9278928932a5921653...   \n1  0xd5dc7147192591c7d19856d12e9278928932a5921653...   \n2  0xd5dc7147192591c7d19856d12e9278928932a5921653...   \n3  0xd5dc7147192591c7d19856d12e9278928932a5921653...   \n4  0xd5dc7147192591c7d19856d12e9278928932a5921653...   \n5  0xd5dc7147192591c7d19856d12e9278928932a5921653...   \n\n                                    transaction_hash  transaction_blockNumber  \\\n0  0xd5dc7147192591c7d19856d12e9278928932a5921653...                 16627480   \n1  0xd5dc7147192591c7d19856d12e9278928932a5921653...                 16627480   \n2  0xd5dc7147192591c7d19856d12e9278928932a5921653...                 16627480   \n3  0xd5dc7147192591c7d19856d12e9278928932a5921653...                 16627480   \n4  0xd5dc7147192591c7d19856d12e9278928932a5921653...                 16627480   \n5  0xd5dc7147192591c7d19856d12e9278928932a5921653...                 16627480   \n\n   transaction_timestamp                      transaction_account_id  \\\n0             1676383655  0xc0b1f200aa9546ce074397bed7438bb2ec033877   \n1             1676383655  0xc0b1f200aa9546ce074397bed7438bb2ec033877   \n2             1676383655  0xc0b1f200aa9546ce074397bed7438bb2ec033877   \n3             1676383655  0xc0b1f200aa9546ce074397bed7438bb2ec033877   \n4             1676383655  0xc0b1f200aa9546ce074397bed7438bb2ec033877   \n5             1676383655  0xc0b1f200aa9546ce074397bed7438bb2ec033877   \n\n                        transaction_market_id  \\\n0  0xc413dd03555f3eb29d834b482d386b2999dc2eb0   \n1  0xc413dd03555f3eb29d834b482d386b2999dc2eb0   \n2  0xc413dd03555f3eb29d834b482d386b2999dc2eb0   \n3  0xc413dd03555f3eb29d834b482d386b2999dc2eb0   \n4  0xc413dd03555f3eb29d834b482d386b2999dc2eb0   \n5  0xc413dd03555f3eb29d834b482d386b2999dc2eb0   \n\n               transaction_market_protocol_id  transaction_market_rates_rate  \\\n0  0xd998c35b7900b344bbbe6555cc11576942cf309d                       0.000000   \n1  0xd998c35b7900b344bbbe6555cc11576942cf309d                       2.278084   \n2  0xd998c35b7900b344bbbe6555cc11576942cf309d                       2.347562   \n3  0xd998c35b7900b344bbbe6555cc11576942cf309d                       0.000000   \n4  0xd998c35b7900b344bbbe6555cc11576942cf309d                       0.631787   \n5  0xd998c35b7900b344bbbe6555cc11576942cf309d                       1.102212   \n\n  transaction_market_rates_duration transaction_market_rates_side  \\\n0                               NaN                      BORROWER   \n1                               NaN                      BORROWER   \n2                               NaN                      BORROWER   \n3                               NaN                        LENDER   \n4                               NaN                        LENDER   \n5                               NaN                        LENDER   \n\n  transaction_market_rates_type           transaction_market_rates_token_id  \\\n0                      VARIABLE  0x0ab87046fbb341d058f17cbc4c1133f25a20a52f   \n1                      VARIABLE  0xc02aaa39b223fe8d0a0e5c4f27ead9083c756cc2   \n2                      VARIABLE  0xd7c9f0e536dc865ae858b0c0453fe76d13c3beac   \n3                      VARIABLE  0x0ab87046fbb341d058f17cbc4c1133f25a20a52f   \n4                      VARIABLE  0xc02aaa39b223fe8d0a0e5c4f27ead9083c756cc2   \n5                      VARIABLE  0xd7c9f0e536dc865ae858b0c0453fe76d13c3beac   \n\n  transaction_asset_name transaction_asset_symbol  transaction_asset_decimals  \\\n0         XAI Stablecoin                      XAI                          18   \n1         XAI Stablecoin                      XAI                          18   \n2         XAI Stablecoin                      XAI                          18   \n3         XAI Stablecoin                      XAI                          18   \n4         XAI Stablecoin                      XAI                          18   \n5         XAI Stablecoin                      XAI                          18   \n\n   transaction_asset_lastPriceUSD      transaction_amount  \\\n0                        0.993048  1000000000000000000000   \n1                        0.993048  1000000000000000000000   \n2                        0.993048  1000000000000000000000   \n3                        0.993048  1000000000000000000000   \n4                        0.993048  1000000000000000000000   \n5                        0.993048  1000000000000000000000   \n\n   transaction_amountUSD   event            dateTime  \n0             992.079025  borrow 2023-02-14 14:07:35  \n1             992.079025  borrow 2023-02-14 14:07:35  \n2             992.079025  borrow 2023-02-14 14:07:35  \n3             992.079025  borrow 2023-02-14 14:07:35  \n4             992.079025  borrow 2023-02-14 14:07:35  \n5             992.079025  borrow 2023-02-14 14:07:35  ",
      "text/html": "<div>\n<style scoped>\n    .dataframe tbody tr th:only-of-type {\n        vertical-align: middle;\n    }\n\n    .dataframe tbody tr th {\n        vertical-align: top;\n    }\n\n    .dataframe thead th {\n        text-align: right;\n    }\n</style>\n<table border=\"1\" class=\"dataframe\">\n  <thead>\n    <tr style=\"text-align: right;\">\n      <th></th>\n      <th>transaction_id</th>\n      <th>transaction_hash</th>\n      <th>transaction_blockNumber</th>\n      <th>transaction_timestamp</th>\n      <th>transaction_account_id</th>\n      <th>transaction_market_id</th>\n      <th>transaction_market_protocol_id</th>\n      <th>transaction_market_rates_rate</th>\n      <th>transaction_market_rates_duration</th>\n      <th>transaction_market_rates_side</th>\n      <th>transaction_market_rates_type</th>\n      <th>transaction_market_rates_token_id</th>\n      <th>transaction_asset_name</th>\n      <th>transaction_asset_symbol</th>\n      <th>transaction_asset_decimals</th>\n      <th>transaction_asset_lastPriceUSD</th>\n      <th>transaction_amount</th>\n      <th>transaction_amountUSD</th>\n      <th>event</th>\n      <th>dateTime</th>\n    </tr>\n  </thead>\n  <tbody>\n    <tr>\n      <th>0</th>\n      <td>0xd5dc7147192591c7d19856d12e9278928932a5921653...</td>\n      <td>0xd5dc7147192591c7d19856d12e9278928932a5921653...</td>\n      <td>16627480</td>\n      <td>1676383655</td>\n      <td>0xc0b1f200aa9546ce074397bed7438bb2ec033877</td>\n      <td>0xc413dd03555f3eb29d834b482d386b2999dc2eb0</td>\n      <td>0xd998c35b7900b344bbbe6555cc11576942cf309d</td>\n      <td>0.000000</td>\n      <td>NaN</td>\n      <td>BORROWER</td>\n      <td>VARIABLE</td>\n      <td>0x0ab87046fbb341d058f17cbc4c1133f25a20a52f</td>\n      <td>XAI Stablecoin</td>\n      <td>XAI</td>\n      <td>18</td>\n      <td>0.993048</td>\n      <td>1000000000000000000000</td>\n      <td>992.079025</td>\n      <td>borrow</td>\n      <td>2023-02-14 14:07:35</td>\n    </tr>\n    <tr>\n      <th>1</th>\n      <td>0xd5dc7147192591c7d19856d12e9278928932a5921653...</td>\n      <td>0xd5dc7147192591c7d19856d12e9278928932a5921653...</td>\n      <td>16627480</td>\n      <td>1676383655</td>\n      <td>0xc0b1f200aa9546ce074397bed7438bb2ec033877</td>\n      <td>0xc413dd03555f3eb29d834b482d386b2999dc2eb0</td>\n      <td>0xd998c35b7900b344bbbe6555cc11576942cf309d</td>\n      <td>2.278084</td>\n      <td>NaN</td>\n      <td>BORROWER</td>\n      <td>VARIABLE</td>\n      <td>0xc02aaa39b223fe8d0a0e5c4f27ead9083c756cc2</td>\n      <td>XAI Stablecoin</td>\n      <td>XAI</td>\n      <td>18</td>\n      <td>0.993048</td>\n      <td>1000000000000000000000</td>\n      <td>992.079025</td>\n      <td>borrow</td>\n      <td>2023-02-14 14:07:35</td>\n    </tr>\n    <tr>\n      <th>2</th>\n      <td>0xd5dc7147192591c7d19856d12e9278928932a5921653...</td>\n      <td>0xd5dc7147192591c7d19856d12e9278928932a5921653...</td>\n      <td>16627480</td>\n      <td>1676383655</td>\n      <td>0xc0b1f200aa9546ce074397bed7438bb2ec033877</td>\n      <td>0xc413dd03555f3eb29d834b482d386b2999dc2eb0</td>\n      <td>0xd998c35b7900b344bbbe6555cc11576942cf309d</td>\n      <td>2.347562</td>\n      <td>NaN</td>\n      <td>BORROWER</td>\n      <td>VARIABLE</td>\n      <td>0xd7c9f0e536dc865ae858b0c0453fe76d13c3beac</td>\n      <td>XAI Stablecoin</td>\n      <td>XAI</td>\n      <td>18</td>\n      <td>0.993048</td>\n      <td>1000000000000000000000</td>\n      <td>992.079025</td>\n      <td>borrow</td>\n      <td>2023-02-14 14:07:35</td>\n    </tr>\n    <tr>\n      <th>3</th>\n      <td>0xd5dc7147192591c7d19856d12e9278928932a5921653...</td>\n      <td>0xd5dc7147192591c7d19856d12e9278928932a5921653...</td>\n      <td>16627480</td>\n      <td>1676383655</td>\n      <td>0xc0b1f200aa9546ce074397bed7438bb2ec033877</td>\n      <td>0xc413dd03555f3eb29d834b482d386b2999dc2eb0</td>\n      <td>0xd998c35b7900b344bbbe6555cc11576942cf309d</td>\n      <td>0.000000</td>\n      <td>NaN</td>\n      <td>LENDER</td>\n      <td>VARIABLE</td>\n      <td>0x0ab87046fbb341d058f17cbc4c1133f25a20a52f</td>\n      <td>XAI Stablecoin</td>\n      <td>XAI</td>\n      <td>18</td>\n      <td>0.993048</td>\n      <td>1000000000000000000000</td>\n      <td>992.079025</td>\n      <td>borrow</td>\n      <td>2023-02-14 14:07:35</td>\n    </tr>\n    <tr>\n      <th>4</th>\n      <td>0xd5dc7147192591c7d19856d12e9278928932a5921653...</td>\n      <td>0xd5dc7147192591c7d19856d12e9278928932a5921653...</td>\n      <td>16627480</td>\n      <td>1676383655</td>\n      <td>0xc0b1f200aa9546ce074397bed7438bb2ec033877</td>\n      <td>0xc413dd03555f3eb29d834b482d386b2999dc2eb0</td>\n      <td>0xd998c35b7900b344bbbe6555cc11576942cf309d</td>\n      <td>0.631787</td>\n      <td>NaN</td>\n      <td>LENDER</td>\n      <td>VARIABLE</td>\n      <td>0xc02aaa39b223fe8d0a0e5c4f27ead9083c756cc2</td>\n      <td>XAI Stablecoin</td>\n      <td>XAI</td>\n      <td>18</td>\n      <td>0.993048</td>\n      <td>1000000000000000000000</td>\n      <td>992.079025</td>\n      <td>borrow</td>\n      <td>2023-02-14 14:07:35</td>\n    </tr>\n    <tr>\n      <th>5</th>\n      <td>0xd5dc7147192591c7d19856d12e9278928932a5921653...</td>\n      <td>0xd5dc7147192591c7d19856d12e9278928932a5921653...</td>\n      <td>16627480</td>\n      <td>1676383655</td>\n      <td>0xc0b1f200aa9546ce074397bed7438bb2ec033877</td>\n      <td>0xc413dd03555f3eb29d834b482d386b2999dc2eb0</td>\n      <td>0xd998c35b7900b344bbbe6555cc11576942cf309d</td>\n      <td>1.102212</td>\n      <td>NaN</td>\n      <td>LENDER</td>\n      <td>VARIABLE</td>\n      <td>0xd7c9f0e536dc865ae858b0c0453fe76d13c3beac</td>\n      <td>XAI Stablecoin</td>\n      <td>XAI</td>\n      <td>18</td>\n      <td>0.993048</td>\n      <td>1000000000000000000000</td>\n      <td>992.079025</td>\n      <td>borrow</td>\n      <td>2023-02-14 14:07:35</td>\n    </tr>\n  </tbody>\n</table>\n</div>"
     },
     "execution_count": 186,
     "metadata": {},
     "output_type": "execute_result"
    }
   ],
   "source": [
    "#I swear I will figure out synthetic fields, but until then...\n",
    "borrowsDbTimed = db.query(\"select \"\n",
    "               \"    * \"\n",
    "                    \" ,to_timestamp(transaction_timestamp::int) dateTime \"\n",
    "               \"From borrowsDb \"\n",
    "                      \"order by transaction_amountUSD desc\"\n",
    "               #\"where lower(liquidityPools_name) like lower('%olympus%') \"\n",
    "                #    \"or lower(pairs_token1_symbol) like lower('%OHM%')  \"\n",
    "               #\" limit 100 \"\n",
    "               ).df()\n",
    "borrowsDbTimed.head(100)"
   ],
   "metadata": {
    "collapsed": false
   }
  },
  {
   "cell_type": "code",
   "execution_count": 187,
   "outputs": [
    {
     "data": {
      "text/plain": "                                       transaction_id  \\\n0   0x16f2ff52f7a9e9057848569ea37c3e59eb558af0e044...   \n1   0x16f2ff52f7a9e9057848569ea37c3e59eb558af0e044...   \n2   0x16f2ff52f7a9e9057848569ea37c3e59eb558af0e044...   \n3   0x16f2ff52f7a9e9057848569ea37c3e59eb558af0e044...   \n4   0x16f2ff52f7a9e9057848569ea37c3e59eb558af0e044...   \n..                                                ...   \n95  0x97811f7e7b7d202797093d44047ed986054be3dd6120...   \n96  0x2c0d9ab92c0eef11fa3394b4a89a62c7ee27bd5b64a1...   \n97  0x2c0d9ab92c0eef11fa3394b4a89a62c7ee27bd5b64a1...   \n98  0x2c0d9ab92c0eef11fa3394b4a89a62c7ee27bd5b64a1...   \n99  0x2c0d9ab92c0eef11fa3394b4a89a62c7ee27bd5b64a1...   \n\n                                     transaction_hash  \\\n0   0x16f2ff52f7a9e9057848569ea37c3e59eb558af0e044...   \n1   0x16f2ff52f7a9e9057848569ea37c3e59eb558af0e044...   \n2   0x16f2ff52f7a9e9057848569ea37c3e59eb558af0e044...   \n3   0x16f2ff52f7a9e9057848569ea37c3e59eb558af0e044...   \n4   0x16f2ff52f7a9e9057848569ea37c3e59eb558af0e044...   \n..                                                ...   \n95  0x97811f7e7b7d202797093d44047ed986054be3dd6120...   \n96  0x2c0d9ab92c0eef11fa3394b4a89a62c7ee27bd5b64a1...   \n97  0x2c0d9ab92c0eef11fa3394b4a89a62c7ee27bd5b64a1...   \n98  0x2c0d9ab92c0eef11fa3394b4a89a62c7ee27bd5b64a1...   \n99  0x2c0d9ab92c0eef11fa3394b4a89a62c7ee27bd5b64a1...   \n\n    transaction_blockNumber  transaction_timestamp  \\\n0                  16589389             1675923839   \n1                  16589389             1675923839   \n2                  16589389             1675923839   \n3                  16589389             1675923839   \n4                  16589389             1675923839   \n..                      ...                    ...   \n95                 16623063             1676330255   \n96                 16588637             1675914791   \n97                 16588637             1675914791   \n98                 16588637             1675914791   \n99                 16588637             1675914791   \n\n                        transaction_account_id  \\\n0   0xb0399dac8f4d4100b49b2a7b3873481114229d18   \n1   0xb0399dac8f4d4100b49b2a7b3873481114229d18   \n2   0xb0399dac8f4d4100b49b2a7b3873481114229d18   \n3   0xb0399dac8f4d4100b49b2a7b3873481114229d18   \n4   0xb0399dac8f4d4100b49b2a7b3873481114229d18   \n..                                         ...   \n95  0xc0b1f200aa9546ce074397bed7438bb2ec033877   \n96  0x804157889ac56a4e50278610c67960c1605a3264   \n97  0x804157889ac56a4e50278610c67960c1605a3264   \n98  0x804157889ac56a4e50278610c67960c1605a3264   \n99  0x804157889ac56a4e50278610c67960c1605a3264   \n\n                         transaction_market_id  \\\n0   0xc413dd03555f3eb29d834b482d386b2999dc2eb0   \n1   0xc413dd03555f3eb29d834b482d386b2999dc2eb0   \n2   0xc413dd03555f3eb29d834b482d386b2999dc2eb0   \n3   0xc413dd03555f3eb29d834b482d386b2999dc2eb0   \n4   0xc413dd03555f3eb29d834b482d386b2999dc2eb0   \n..                                         ...   \n95  0xc413dd03555f3eb29d834b482d386b2999dc2eb0   \n96  0xc413dd03555f3eb29d834b482d386b2999dc2eb0   \n97  0xc413dd03555f3eb29d834b482d386b2999dc2eb0   \n98  0xc413dd03555f3eb29d834b482d386b2999dc2eb0   \n99  0xc413dd03555f3eb29d834b482d386b2999dc2eb0   \n\n                transaction_market_protocol_id  transaction_market_rates_rate  \\\n0   0xd998c35b7900b344bbbe6555cc11576942cf309d                       0.000000   \n1   0xd998c35b7900b344bbbe6555cc11576942cf309d                       2.278084   \n2   0xd998c35b7900b344bbbe6555cc11576942cf309d                       2.347562   \n3   0xd998c35b7900b344bbbe6555cc11576942cf309d                       0.000000   \n4   0xd998c35b7900b344bbbe6555cc11576942cf309d                       0.631786   \n..                                         ...                            ...   \n95  0xd998c35b7900b344bbbe6555cc11576942cf309d                       1.102212   \n96  0xd998c35b7900b344bbbe6555cc11576942cf309d                       2.278084   \n97  0xd998c35b7900b344bbbe6555cc11576942cf309d                       2.347562   \n98  0xd998c35b7900b344bbbe6555cc11576942cf309d                       0.000000   \n99  0xd998c35b7900b344bbbe6555cc11576942cf309d                       0.631786   \n\n   transaction_market_rates_duration transaction_market_rates_side  \\\n0                                NaN                      BORROWER   \n1                                NaN                      BORROWER   \n2                                NaN                      BORROWER   \n3                                NaN                        LENDER   \n4                                NaN                        LENDER   \n..                               ...                           ...   \n95                               NaN                        LENDER   \n96                               NaN                      BORROWER   \n97                               NaN                      BORROWER   \n98                               NaN                        LENDER   \n99                               NaN                        LENDER   \n\n   transaction_market_rates_type           transaction_market_rates_token_id  \\\n0                       VARIABLE  0x0ab87046fbb341d058f17cbc4c1133f25a20a52f   \n1                       VARIABLE  0xc02aaa39b223fe8d0a0e5c4f27ead9083c756cc2   \n2                       VARIABLE  0xd7c9f0e536dc865ae858b0c0453fe76d13c3beac   \n3                       VARIABLE  0x0ab87046fbb341d058f17cbc4c1133f25a20a52f   \n4                       VARIABLE  0xc02aaa39b223fe8d0a0e5c4f27ead9083c756cc2   \n..                           ...                                         ...   \n95                      VARIABLE  0xd7c9f0e536dc865ae858b0c0453fe76d13c3beac   \n96                      VARIABLE  0xc02aaa39b223fe8d0a0e5c4f27ead9083c756cc2   \n97                      VARIABLE  0xd7c9f0e536dc865ae858b0c0453fe76d13c3beac   \n98                      VARIABLE  0x0ab87046fbb341d058f17cbc4c1133f25a20a52f   \n99                      VARIABLE  0xc02aaa39b223fe8d0a0e5c4f27ead9083c756cc2   \n\n   transaction_asset_name transaction_asset_symbol  \\\n0          XAI Stablecoin                      XAI   \n1          XAI Stablecoin                      XAI   \n2          XAI Stablecoin                      XAI   \n3          XAI Stablecoin                      XAI   \n4          XAI Stablecoin                      XAI   \n..                    ...                      ...   \n95         XAI Stablecoin                      XAI   \n96         XAI Stablecoin                      XAI   \n97         XAI Stablecoin                      XAI   \n98         XAI Stablecoin                      XAI   \n99         XAI Stablecoin                      XAI   \n\n    transaction_asset_decimals  transaction_asset_lastPriceUSD  \\\n0                           18                        0.998196   \n1                           18                        0.998196   \n2                           18                        0.998196   \n3                           18                        0.998196   \n4                           18                        0.998196   \n..                         ...                             ...   \n95                          18                        0.998196   \n96                          18                        0.998196   \n97                          18                        0.998196   \n98                          18                        0.998196   \n99                          18                        0.998196   \n\n          transaction_amount  transaction_amountUSD   event  \\\n0   186000000000000000000000          185996.147731  borrow   \n1   186000000000000000000000          185996.147731  borrow   \n2   186000000000000000000000          185996.147731  borrow   \n3   186000000000000000000000          185996.147731  borrow   \n4   186000000000000000000000          185996.147731  borrow   \n..                       ...                    ...     ...   \n95    2457516074488804244751            2446.717700  borrow   \n96    1000000000000000000000            1005.010529  borrow   \n97    1000000000000000000000            1005.010529  borrow   \n98    1000000000000000000000            1005.010529  borrow   \n99    1000000000000000000000            1005.010529  borrow   \n\n               dateTime  \n0   2023-02-09 06:23:59  \n1   2023-02-09 06:23:59  \n2   2023-02-09 06:23:59  \n3   2023-02-09 06:23:59  \n4   2023-02-09 06:23:59  \n..                  ...  \n95  2023-02-13 23:17:35  \n96  2023-02-09 03:53:11  \n97  2023-02-09 03:53:11  \n98  2023-02-09 03:53:11  \n99  2023-02-09 03:53:11  \n\n[100 rows x 20 columns]",
      "text/html": "<div>\n<style scoped>\n    .dataframe tbody tr th:only-of-type {\n        vertical-align: middle;\n    }\n\n    .dataframe tbody tr th {\n        vertical-align: top;\n    }\n\n    .dataframe thead th {\n        text-align: right;\n    }\n</style>\n<table border=\"1\" class=\"dataframe\">\n  <thead>\n    <tr style=\"text-align: right;\">\n      <th></th>\n      <th>transaction_id</th>\n      <th>transaction_hash</th>\n      <th>transaction_blockNumber</th>\n      <th>transaction_timestamp</th>\n      <th>transaction_account_id</th>\n      <th>transaction_market_id</th>\n      <th>transaction_market_protocol_id</th>\n      <th>transaction_market_rates_rate</th>\n      <th>transaction_market_rates_duration</th>\n      <th>transaction_market_rates_side</th>\n      <th>transaction_market_rates_type</th>\n      <th>transaction_market_rates_token_id</th>\n      <th>transaction_asset_name</th>\n      <th>transaction_asset_symbol</th>\n      <th>transaction_asset_decimals</th>\n      <th>transaction_asset_lastPriceUSD</th>\n      <th>transaction_amount</th>\n      <th>transaction_amountUSD</th>\n      <th>event</th>\n      <th>dateTime</th>\n    </tr>\n  </thead>\n  <tbody>\n    <tr>\n      <th>0</th>\n      <td>0x16f2ff52f7a9e9057848569ea37c3e59eb558af0e044...</td>\n      <td>0x16f2ff52f7a9e9057848569ea37c3e59eb558af0e044...</td>\n      <td>16589389</td>\n      <td>1675923839</td>\n      <td>0xb0399dac8f4d4100b49b2a7b3873481114229d18</td>\n      <td>0xc413dd03555f3eb29d834b482d386b2999dc2eb0</td>\n      <td>0xd998c35b7900b344bbbe6555cc11576942cf309d</td>\n      <td>0.000000</td>\n      <td>NaN</td>\n      <td>BORROWER</td>\n      <td>VARIABLE</td>\n      <td>0x0ab87046fbb341d058f17cbc4c1133f25a20a52f</td>\n      <td>XAI Stablecoin</td>\n      <td>XAI</td>\n      <td>18</td>\n      <td>0.998196</td>\n      <td>186000000000000000000000</td>\n      <td>185996.147731</td>\n      <td>borrow</td>\n      <td>2023-02-09 06:23:59</td>\n    </tr>\n    <tr>\n      <th>1</th>\n      <td>0x16f2ff52f7a9e9057848569ea37c3e59eb558af0e044...</td>\n      <td>0x16f2ff52f7a9e9057848569ea37c3e59eb558af0e044...</td>\n      <td>16589389</td>\n      <td>1675923839</td>\n      <td>0xb0399dac8f4d4100b49b2a7b3873481114229d18</td>\n      <td>0xc413dd03555f3eb29d834b482d386b2999dc2eb0</td>\n      <td>0xd998c35b7900b344bbbe6555cc11576942cf309d</td>\n      <td>2.278084</td>\n      <td>NaN</td>\n      <td>BORROWER</td>\n      <td>VARIABLE</td>\n      <td>0xc02aaa39b223fe8d0a0e5c4f27ead9083c756cc2</td>\n      <td>XAI Stablecoin</td>\n      <td>XAI</td>\n      <td>18</td>\n      <td>0.998196</td>\n      <td>186000000000000000000000</td>\n      <td>185996.147731</td>\n      <td>borrow</td>\n      <td>2023-02-09 06:23:59</td>\n    </tr>\n    <tr>\n      <th>2</th>\n      <td>0x16f2ff52f7a9e9057848569ea37c3e59eb558af0e044...</td>\n      <td>0x16f2ff52f7a9e9057848569ea37c3e59eb558af0e044...</td>\n      <td>16589389</td>\n      <td>1675923839</td>\n      <td>0xb0399dac8f4d4100b49b2a7b3873481114229d18</td>\n      <td>0xc413dd03555f3eb29d834b482d386b2999dc2eb0</td>\n      <td>0xd998c35b7900b344bbbe6555cc11576942cf309d</td>\n      <td>2.347562</td>\n      <td>NaN</td>\n      <td>BORROWER</td>\n      <td>VARIABLE</td>\n      <td>0xd7c9f0e536dc865ae858b0c0453fe76d13c3beac</td>\n      <td>XAI Stablecoin</td>\n      <td>XAI</td>\n      <td>18</td>\n      <td>0.998196</td>\n      <td>186000000000000000000000</td>\n      <td>185996.147731</td>\n      <td>borrow</td>\n      <td>2023-02-09 06:23:59</td>\n    </tr>\n    <tr>\n      <th>3</th>\n      <td>0x16f2ff52f7a9e9057848569ea37c3e59eb558af0e044...</td>\n      <td>0x16f2ff52f7a9e9057848569ea37c3e59eb558af0e044...</td>\n      <td>16589389</td>\n      <td>1675923839</td>\n      <td>0xb0399dac8f4d4100b49b2a7b3873481114229d18</td>\n      <td>0xc413dd03555f3eb29d834b482d386b2999dc2eb0</td>\n      <td>0xd998c35b7900b344bbbe6555cc11576942cf309d</td>\n      <td>0.000000</td>\n      <td>NaN</td>\n      <td>LENDER</td>\n      <td>VARIABLE</td>\n      <td>0x0ab87046fbb341d058f17cbc4c1133f25a20a52f</td>\n      <td>XAI Stablecoin</td>\n      <td>XAI</td>\n      <td>18</td>\n      <td>0.998196</td>\n      <td>186000000000000000000000</td>\n      <td>185996.147731</td>\n      <td>borrow</td>\n      <td>2023-02-09 06:23:59</td>\n    </tr>\n    <tr>\n      <th>4</th>\n      <td>0x16f2ff52f7a9e9057848569ea37c3e59eb558af0e044...</td>\n      <td>0x16f2ff52f7a9e9057848569ea37c3e59eb558af0e044...</td>\n      <td>16589389</td>\n      <td>1675923839</td>\n      <td>0xb0399dac8f4d4100b49b2a7b3873481114229d18</td>\n      <td>0xc413dd03555f3eb29d834b482d386b2999dc2eb0</td>\n      <td>0xd998c35b7900b344bbbe6555cc11576942cf309d</td>\n      <td>0.631786</td>\n      <td>NaN</td>\n      <td>LENDER</td>\n      <td>VARIABLE</td>\n      <td>0xc02aaa39b223fe8d0a0e5c4f27ead9083c756cc2</td>\n      <td>XAI Stablecoin</td>\n      <td>XAI</td>\n      <td>18</td>\n      <td>0.998196</td>\n      <td>186000000000000000000000</td>\n      <td>185996.147731</td>\n      <td>borrow</td>\n      <td>2023-02-09 06:23:59</td>\n    </tr>\n    <tr>\n      <th>...</th>\n      <td>...</td>\n      <td>...</td>\n      <td>...</td>\n      <td>...</td>\n      <td>...</td>\n      <td>...</td>\n      <td>...</td>\n      <td>...</td>\n      <td>...</td>\n      <td>...</td>\n      <td>...</td>\n      <td>...</td>\n      <td>...</td>\n      <td>...</td>\n      <td>...</td>\n      <td>...</td>\n      <td>...</td>\n      <td>...</td>\n      <td>...</td>\n      <td>...</td>\n    </tr>\n    <tr>\n      <th>95</th>\n      <td>0x97811f7e7b7d202797093d44047ed986054be3dd6120...</td>\n      <td>0x97811f7e7b7d202797093d44047ed986054be3dd6120...</td>\n      <td>16623063</td>\n      <td>1676330255</td>\n      <td>0xc0b1f200aa9546ce074397bed7438bb2ec033877</td>\n      <td>0xc413dd03555f3eb29d834b482d386b2999dc2eb0</td>\n      <td>0xd998c35b7900b344bbbe6555cc11576942cf309d</td>\n      <td>1.102212</td>\n      <td>NaN</td>\n      <td>LENDER</td>\n      <td>VARIABLE</td>\n      <td>0xd7c9f0e536dc865ae858b0c0453fe76d13c3beac</td>\n      <td>XAI Stablecoin</td>\n      <td>XAI</td>\n      <td>18</td>\n      <td>0.998196</td>\n      <td>2457516074488804244751</td>\n      <td>2446.717700</td>\n      <td>borrow</td>\n      <td>2023-02-13 23:17:35</td>\n    </tr>\n    <tr>\n      <th>96</th>\n      <td>0x2c0d9ab92c0eef11fa3394b4a89a62c7ee27bd5b64a1...</td>\n      <td>0x2c0d9ab92c0eef11fa3394b4a89a62c7ee27bd5b64a1...</td>\n      <td>16588637</td>\n      <td>1675914791</td>\n      <td>0x804157889ac56a4e50278610c67960c1605a3264</td>\n      <td>0xc413dd03555f3eb29d834b482d386b2999dc2eb0</td>\n      <td>0xd998c35b7900b344bbbe6555cc11576942cf309d</td>\n      <td>2.278084</td>\n      <td>NaN</td>\n      <td>BORROWER</td>\n      <td>VARIABLE</td>\n      <td>0xc02aaa39b223fe8d0a0e5c4f27ead9083c756cc2</td>\n      <td>XAI Stablecoin</td>\n      <td>XAI</td>\n      <td>18</td>\n      <td>0.998196</td>\n      <td>1000000000000000000000</td>\n      <td>1005.010529</td>\n      <td>borrow</td>\n      <td>2023-02-09 03:53:11</td>\n    </tr>\n    <tr>\n      <th>97</th>\n      <td>0x2c0d9ab92c0eef11fa3394b4a89a62c7ee27bd5b64a1...</td>\n      <td>0x2c0d9ab92c0eef11fa3394b4a89a62c7ee27bd5b64a1...</td>\n      <td>16588637</td>\n      <td>1675914791</td>\n      <td>0x804157889ac56a4e50278610c67960c1605a3264</td>\n      <td>0xc413dd03555f3eb29d834b482d386b2999dc2eb0</td>\n      <td>0xd998c35b7900b344bbbe6555cc11576942cf309d</td>\n      <td>2.347562</td>\n      <td>NaN</td>\n      <td>BORROWER</td>\n      <td>VARIABLE</td>\n      <td>0xd7c9f0e536dc865ae858b0c0453fe76d13c3beac</td>\n      <td>XAI Stablecoin</td>\n      <td>XAI</td>\n      <td>18</td>\n      <td>0.998196</td>\n      <td>1000000000000000000000</td>\n      <td>1005.010529</td>\n      <td>borrow</td>\n      <td>2023-02-09 03:53:11</td>\n    </tr>\n    <tr>\n      <th>98</th>\n      <td>0x2c0d9ab92c0eef11fa3394b4a89a62c7ee27bd5b64a1...</td>\n      <td>0x2c0d9ab92c0eef11fa3394b4a89a62c7ee27bd5b64a1...</td>\n      <td>16588637</td>\n      <td>1675914791</td>\n      <td>0x804157889ac56a4e50278610c67960c1605a3264</td>\n      <td>0xc413dd03555f3eb29d834b482d386b2999dc2eb0</td>\n      <td>0xd998c35b7900b344bbbe6555cc11576942cf309d</td>\n      <td>0.000000</td>\n      <td>NaN</td>\n      <td>LENDER</td>\n      <td>VARIABLE</td>\n      <td>0x0ab87046fbb341d058f17cbc4c1133f25a20a52f</td>\n      <td>XAI Stablecoin</td>\n      <td>XAI</td>\n      <td>18</td>\n      <td>0.998196</td>\n      <td>1000000000000000000000</td>\n      <td>1005.010529</td>\n      <td>borrow</td>\n      <td>2023-02-09 03:53:11</td>\n    </tr>\n    <tr>\n      <th>99</th>\n      <td>0x2c0d9ab92c0eef11fa3394b4a89a62c7ee27bd5b64a1...</td>\n      <td>0x2c0d9ab92c0eef11fa3394b4a89a62c7ee27bd5b64a1...</td>\n      <td>16588637</td>\n      <td>1675914791</td>\n      <td>0x804157889ac56a4e50278610c67960c1605a3264</td>\n      <td>0xc413dd03555f3eb29d834b482d386b2999dc2eb0</td>\n      <td>0xd998c35b7900b344bbbe6555cc11576942cf309d</td>\n      <td>0.631786</td>\n      <td>NaN</td>\n      <td>LENDER</td>\n      <td>VARIABLE</td>\n      <td>0xc02aaa39b223fe8d0a0e5c4f27ead9083c756cc2</td>\n      <td>XAI Stablecoin</td>\n      <td>XAI</td>\n      <td>18</td>\n      <td>0.998196</td>\n      <td>1000000000000000000000</td>\n      <td>1005.010529</td>\n      <td>borrow</td>\n      <td>2023-02-09 03:53:11</td>\n    </tr>\n  </tbody>\n</table>\n<p>100 rows × 20 columns</p>\n</div>"
     },
     "execution_count": 187,
     "metadata": {},
     "output_type": "execute_result"
    }
   ],
   "source": [
    "borrowsDbTimed = pd.concat([oldBorrowsDb,borrowsDbTimed]).drop_duplicates().reset_index(drop=True)\n",
    "borrowsDbTimed.drop_duplicates()\n",
    "borrowsDbTimed = db.query(\"select \"\n",
    "               \"    * \"\n",
    "               \"From borrowsDbTimed \"\n",
    "                         \"group by 1,2,3,4,5,6,7,8,9,10,11,12,13,14,15,16,17,18,19,20 \"\n",
    "                      \"order by transaction_amountUSD desc \"\n",
    "               #\"where lower(liquidityPools_name) like lower('%olympus%') \"\n",
    "                #    \"or lower(pairs_token1_symbol) like lower('%OHM%')  \"\n",
    "               #\" limit 100 \"\n",
    "               ).df()\n",
    "\n",
    "borrowsDbTimed.head(100)"
   ],
   "metadata": {
    "collapsed": false
   }
  },
  {
   "cell_type": "code",
   "execution_count": 201,
   "outputs": [
    {
     "name": "stdout",
     "output_type": "stream",
     "text": [
      "D:\\Dropbox\\Documents\\Edgecaser LLC\\Projects\\Olympus\\Econohmetrics\\Lending\\results/siloFinance_borrows_piped.csv file saved, 144  records\n"
     ]
    }
   ],
   "source": [
    "path =file+'/siloFinance_borrows.csv'\n",
    "borrowsDbTimed.to_csv(path, index = False)\n",
    "\n",
    "path =file+'/siloFinance_borrows_piped.csv'\n",
    "borrowsDbTimed.to_csv(path, index = False, sep='|')\n",
    "print(path, 'file saved,', len(borrowsDbTimed),' records')"
   ],
   "metadata": {
    "collapsed": false
   }
  },
  {
   "cell_type": "markdown",
   "source": [
    "********************************************************************************************\n",
    "********************************************************************************************\n",
    "Silo Repays"
   ],
   "metadata": {
    "collapsed": false
   }
  },
  {
   "cell_type": "code",
   "execution_count": 202,
   "outputs": [
    {
     "data": {
      "text/plain": "                                       transaction_id  \\\n0   0xfb97f8e2544f2063f69249a0ba2138b8272c34596661...   \n1   0xfb97f8e2544f2063f69249a0ba2138b8272c34596661...   \n2   0xfb97f8e2544f2063f69249a0ba2138b8272c34596661...   \n3   0xfb97f8e2544f2063f69249a0ba2138b8272c34596661...   \n4   0xfb97f8e2544f2063f69249a0ba2138b8272c34596661...   \n5   0xfb97f8e2544f2063f69249a0ba2138b8272c34596661...   \n6   0xcbfc584edeb424b312011c7884bce8c77facd5b4bad8...   \n7   0xcbfc584edeb424b312011c7884bce8c77facd5b4bad8...   \n8   0xcbfc584edeb424b312011c7884bce8c77facd5b4bad8...   \n9   0xcbfc584edeb424b312011c7884bce8c77facd5b4bad8...   \n10  0xcbfc584edeb424b312011c7884bce8c77facd5b4bad8...   \n11  0xcbfc584edeb424b312011c7884bce8c77facd5b4bad8...   \n12  0x0c0283dc0e75f17b5e9eb79b05bea3cae12d32204aad...   \n13  0x0c0283dc0e75f17b5e9eb79b05bea3cae12d32204aad...   \n14  0x0c0283dc0e75f17b5e9eb79b05bea3cae12d32204aad...   \n15  0x0c0283dc0e75f17b5e9eb79b05bea3cae12d32204aad...   \n16  0x0c0283dc0e75f17b5e9eb79b05bea3cae12d32204aad...   \n17  0x0c0283dc0e75f17b5e9eb79b05bea3cae12d32204aad...   \n18  0x748852c58dd4b57d3f6ed80bc81f74b439efcb94968b...   \n19  0x748852c58dd4b57d3f6ed80bc81f74b439efcb94968b...   \n20  0x748852c58dd4b57d3f6ed80bc81f74b439efcb94968b...   \n21  0x748852c58dd4b57d3f6ed80bc81f74b439efcb94968b...   \n22  0x748852c58dd4b57d3f6ed80bc81f74b439efcb94968b...   \n23  0x748852c58dd4b57d3f6ed80bc81f74b439efcb94968b...   \n\n                                     transaction_hash  \\\n0   0xfb97f8e2544f2063f69249a0ba2138b8272c34596661...   \n1   0xfb97f8e2544f2063f69249a0ba2138b8272c34596661...   \n2   0xfb97f8e2544f2063f69249a0ba2138b8272c34596661...   \n3   0xfb97f8e2544f2063f69249a0ba2138b8272c34596661...   \n4   0xfb97f8e2544f2063f69249a0ba2138b8272c34596661...   \n5   0xfb97f8e2544f2063f69249a0ba2138b8272c34596661...   \n6   0xcbfc584edeb424b312011c7884bce8c77facd5b4bad8...   \n7   0xcbfc584edeb424b312011c7884bce8c77facd5b4bad8...   \n8   0xcbfc584edeb424b312011c7884bce8c77facd5b4bad8...   \n9   0xcbfc584edeb424b312011c7884bce8c77facd5b4bad8...   \n10  0xcbfc584edeb424b312011c7884bce8c77facd5b4bad8...   \n11  0xcbfc584edeb424b312011c7884bce8c77facd5b4bad8...   \n12  0x0c0283dc0e75f17b5e9eb79b05bea3cae12d32204aad...   \n13  0x0c0283dc0e75f17b5e9eb79b05bea3cae12d32204aad...   \n14  0x0c0283dc0e75f17b5e9eb79b05bea3cae12d32204aad...   \n15  0x0c0283dc0e75f17b5e9eb79b05bea3cae12d32204aad...   \n16  0x0c0283dc0e75f17b5e9eb79b05bea3cae12d32204aad...   \n17  0x0c0283dc0e75f17b5e9eb79b05bea3cae12d32204aad...   \n18  0x748852c58dd4b57d3f6ed80bc81f74b439efcb94968b...   \n19  0x748852c58dd4b57d3f6ed80bc81f74b439efcb94968b...   \n20  0x748852c58dd4b57d3f6ed80bc81f74b439efcb94968b...   \n21  0x748852c58dd4b57d3f6ed80bc81f74b439efcb94968b...   \n22  0x748852c58dd4b57d3f6ed80bc81f74b439efcb94968b...   \n23  0x748852c58dd4b57d3f6ed80bc81f74b439efcb94968b...   \n\n    transaction_blockNumber  transaction_timestamp  \\\n0                  16628154             1676391755   \n1                  16628154             1676391755   \n2                  16628154             1676391755   \n3                  16628154             1676391755   \n4                  16628154             1676391755   \n5                  16628154             1676391755   \n6                  16626928             1676376983   \n7                  16626928             1676376983   \n8                  16626928             1676376983   \n9                  16626928             1676376983   \n10                 16626928             1676376983   \n11                 16626928             1676376983   \n12                 16049560             1669410227   \n13                 16049560             1669410227   \n14                 16049560             1669410227   \n15                 16049560             1669410227   \n16                 16049560             1669410227   \n17                 16049560             1669410227   \n18                 16036129             1669248167   \n19                 16036129             1669248167   \n20                 16036129             1669248167   \n21                 16036129             1669248167   \n22                 16036129             1669248167   \n23                 16036129             1669248167   \n\n                        transaction_account_id  \\\n0   0xb0399dac8f4d4100b49b2a7b3873481114229d18   \n1   0xb0399dac8f4d4100b49b2a7b3873481114229d18   \n2   0xb0399dac8f4d4100b49b2a7b3873481114229d18   \n3   0xb0399dac8f4d4100b49b2a7b3873481114229d18   \n4   0xb0399dac8f4d4100b49b2a7b3873481114229d18   \n5   0xb0399dac8f4d4100b49b2a7b3873481114229d18   \n6   0x46535cbc3fa574c32ea392d4f89c518290597072   \n7   0x46535cbc3fa574c32ea392d4f89c518290597072   \n8   0x46535cbc3fa574c32ea392d4f89c518290597072   \n9   0x46535cbc3fa574c32ea392d4f89c518290597072   \n10  0x46535cbc3fa574c32ea392d4f89c518290597072   \n11  0x46535cbc3fa574c32ea392d4f89c518290597072   \n12  0x7776421dd146dfd6ea947cbf29b69c519807d259   \n13  0x7776421dd146dfd6ea947cbf29b69c519807d259   \n14  0x7776421dd146dfd6ea947cbf29b69c519807d259   \n15  0x7776421dd146dfd6ea947cbf29b69c519807d259   \n16  0x7776421dd146dfd6ea947cbf29b69c519807d259   \n17  0x7776421dd146dfd6ea947cbf29b69c519807d259   \n18  0xd3064611b24eba7a6dbcbc26c1b35dfee1170880   \n19  0xd3064611b24eba7a6dbcbc26c1b35dfee1170880   \n20  0xd3064611b24eba7a6dbcbc26c1b35dfee1170880   \n21  0xd3064611b24eba7a6dbcbc26c1b35dfee1170880   \n22  0xd3064611b24eba7a6dbcbc26c1b35dfee1170880   \n23  0xd3064611b24eba7a6dbcbc26c1b35dfee1170880   \n\n                         transaction_market_id  \\\n0   0xc413dd03555f3eb29d834b482d386b2999dc2eb0   \n1   0xc413dd03555f3eb29d834b482d386b2999dc2eb0   \n2   0xc413dd03555f3eb29d834b482d386b2999dc2eb0   \n3   0xc413dd03555f3eb29d834b482d386b2999dc2eb0   \n4   0xc413dd03555f3eb29d834b482d386b2999dc2eb0   \n5   0xc413dd03555f3eb29d834b482d386b2999dc2eb0   \n6   0xc413dd03555f3eb29d834b482d386b2999dc2eb0   \n7   0xc413dd03555f3eb29d834b482d386b2999dc2eb0   \n8   0xc413dd03555f3eb29d834b482d386b2999dc2eb0   \n9   0xc413dd03555f3eb29d834b482d386b2999dc2eb0   \n10  0xc413dd03555f3eb29d834b482d386b2999dc2eb0   \n11  0xc413dd03555f3eb29d834b482d386b2999dc2eb0   \n12  0xc413dd03555f3eb29d834b482d386b2999dc2eb0   \n13  0xc413dd03555f3eb29d834b482d386b2999dc2eb0   \n14  0xc413dd03555f3eb29d834b482d386b2999dc2eb0   \n15  0xc413dd03555f3eb29d834b482d386b2999dc2eb0   \n16  0xc413dd03555f3eb29d834b482d386b2999dc2eb0   \n17  0xc413dd03555f3eb29d834b482d386b2999dc2eb0   \n18  0xc413dd03555f3eb29d834b482d386b2999dc2eb0   \n19  0xc413dd03555f3eb29d834b482d386b2999dc2eb0   \n20  0xc413dd03555f3eb29d834b482d386b2999dc2eb0   \n21  0xc413dd03555f3eb29d834b482d386b2999dc2eb0   \n22  0xc413dd03555f3eb29d834b482d386b2999dc2eb0   \n23  0xc413dd03555f3eb29d834b482d386b2999dc2eb0   \n\n                transaction_market_protocol_id  transaction_market_rates_rate  \\\n0   0xd998c35b7900b344bbbe6555cc11576942cf309d                       0.000000   \n1   0xd998c35b7900b344bbbe6555cc11576942cf309d                       2.278084   \n2   0xd998c35b7900b344bbbe6555cc11576942cf309d                       2.347562   \n3   0xd998c35b7900b344bbbe6555cc11576942cf309d                       0.000000   \n4   0xd998c35b7900b344bbbe6555cc11576942cf309d                       0.631786   \n5   0xd998c35b7900b344bbbe6555cc11576942cf309d                       1.102211   \n6   0xd998c35b7900b344bbbe6555cc11576942cf309d                       0.000000   \n7   0xd998c35b7900b344bbbe6555cc11576942cf309d                       2.278084   \n8   0xd998c35b7900b344bbbe6555cc11576942cf309d                       2.347562   \n9   0xd998c35b7900b344bbbe6555cc11576942cf309d                       0.000000   \n10  0xd998c35b7900b344bbbe6555cc11576942cf309d                       0.631786   \n11  0xd998c35b7900b344bbbe6555cc11576942cf309d                       1.102211   \n12  0xd998c35b7900b344bbbe6555cc11576942cf309d                       0.000000   \n13  0xd998c35b7900b344bbbe6555cc11576942cf309d                       2.278084   \n14  0xd998c35b7900b344bbbe6555cc11576942cf309d                       2.347562   \n15  0xd998c35b7900b344bbbe6555cc11576942cf309d                       0.000000   \n16  0xd998c35b7900b344bbbe6555cc11576942cf309d                       0.631786   \n17  0xd998c35b7900b344bbbe6555cc11576942cf309d                       1.102211   \n18  0xd998c35b7900b344bbbe6555cc11576942cf309d                       0.000000   \n19  0xd998c35b7900b344bbbe6555cc11576942cf309d                       2.278084   \n20  0xd998c35b7900b344bbbe6555cc11576942cf309d                       2.347562   \n21  0xd998c35b7900b344bbbe6555cc11576942cf309d                       0.000000   \n22  0xd998c35b7900b344bbbe6555cc11576942cf309d                       0.631786   \n23  0xd998c35b7900b344bbbe6555cc11576942cf309d                       1.102211   \n\n    transaction_market_rates_duration transaction_market_rates_side  ...  \\\n0                                 NaN                      BORROWER  ...   \n1                                 NaN                      BORROWER  ...   \n2                                 NaN                      BORROWER  ...   \n3                                 NaN                        LENDER  ...   \n4                                 NaN                        LENDER  ...   \n5                                 NaN                        LENDER  ...   \n6                                 NaN                      BORROWER  ...   \n7                                 NaN                      BORROWER  ...   \n8                                 NaN                      BORROWER  ...   \n9                                 NaN                        LENDER  ...   \n10                                NaN                        LENDER  ...   \n11                                NaN                        LENDER  ...   \n12                                NaN                      BORROWER  ...   \n13                                NaN                      BORROWER  ...   \n14                                NaN                      BORROWER  ...   \n15                                NaN                        LENDER  ...   \n16                                NaN                        LENDER  ...   \n17                                NaN                        LENDER  ...   \n18                                NaN                      BORROWER  ...   \n19                                NaN                      BORROWER  ...   \n20                                NaN                      BORROWER  ...   \n21                                NaN                        LENDER  ...   \n22                                NaN                        LENDER  ...   \n23                                NaN                        LENDER  ...   \n\n             transaction_market_rates_token_id transaction_asset_name  \\\n0   0x0ab87046fbb341d058f17cbc4c1133f25a20a52f         XAI Stablecoin   \n1   0xc02aaa39b223fe8d0a0e5c4f27ead9083c756cc2         XAI Stablecoin   \n2   0xd7c9f0e536dc865ae858b0c0453fe76d13c3beac         XAI Stablecoin   \n3   0x0ab87046fbb341d058f17cbc4c1133f25a20a52f         XAI Stablecoin   \n4   0xc02aaa39b223fe8d0a0e5c4f27ead9083c756cc2         XAI Stablecoin   \n5   0xd7c9f0e536dc865ae858b0c0453fe76d13c3beac         XAI Stablecoin   \n6   0x0ab87046fbb341d058f17cbc4c1133f25a20a52f         Governance OHM   \n7   0xc02aaa39b223fe8d0a0e5c4f27ead9083c756cc2         Governance OHM   \n8   0xd7c9f0e536dc865ae858b0c0453fe76d13c3beac         Governance OHM   \n9   0x0ab87046fbb341d058f17cbc4c1133f25a20a52f         Governance OHM   \n10  0xc02aaa39b223fe8d0a0e5c4f27ead9083c756cc2         Governance OHM   \n11  0xd7c9f0e536dc865ae858b0c0453fe76d13c3beac         Governance OHM   \n12  0x0ab87046fbb341d058f17cbc4c1133f25a20a52f         Governance OHM   \n13  0xc02aaa39b223fe8d0a0e5c4f27ead9083c756cc2         Governance OHM   \n14  0xd7c9f0e536dc865ae858b0c0453fe76d13c3beac         Governance OHM   \n15  0x0ab87046fbb341d058f17cbc4c1133f25a20a52f         Governance OHM   \n16  0xc02aaa39b223fe8d0a0e5c4f27ead9083c756cc2         Governance OHM   \n17  0xd7c9f0e536dc865ae858b0c0453fe76d13c3beac         Governance OHM   \n18  0x0ab87046fbb341d058f17cbc4c1133f25a20a52f         XAI Stablecoin   \n19  0xc02aaa39b223fe8d0a0e5c4f27ead9083c756cc2         XAI Stablecoin   \n20  0xd7c9f0e536dc865ae858b0c0453fe76d13c3beac         XAI Stablecoin   \n21  0x0ab87046fbb341d058f17cbc4c1133f25a20a52f         XAI Stablecoin   \n22  0xc02aaa39b223fe8d0a0e5c4f27ead9083c756cc2         XAI Stablecoin   \n23  0xd7c9f0e536dc865ae858b0c0453fe76d13c3beac         XAI Stablecoin   \n\n   transaction_asset_symbol transaction_asset_decimals  \\\n0                       XAI                         18   \n1                       XAI                         18   \n2                       XAI                         18   \n3                       XAI                         18   \n4                       XAI                         18   \n5                       XAI                         18   \n6                      gOHM                         18   \n7                      gOHM                         18   \n8                      gOHM                         18   \n9                      gOHM                         18   \n10                     gOHM                         18   \n11                     gOHM                         18   \n12                     gOHM                         18   \n13                     gOHM                         18   \n14                     gOHM                         18   \n15                     gOHM                         18   \n16                     gOHM                         18   \n17                     gOHM                         18   \n18                      XAI                         18   \n19                      XAI                         18   \n20                      XAI                         18   \n21                      XAI                         18   \n22                      XAI                         18   \n23                      XAI                         18   \n\n    transaction_asset_lastPriceUSD        transaction_amount  \\\n0                         0.999467  100000000000000000000000   \n1                         0.999467  100000000000000000000000   \n2                         0.999467  100000000000000000000000   \n3                         0.999467  100000000000000000000000   \n4                         0.999467  100000000000000000000000   \n5                         0.999467  100000000000000000000000   \n6                      2805.313242      26400333491938938022   \n7                      2805.313242      26400333491938938022   \n8                      2805.313242      26400333491938938022   \n9                      2805.313242      26400333491938938022   \n10                     2805.313242      26400333491938938022   \n11                     2805.313242      26400333491938938022   \n12                     2805.313242        211113566088300260   \n13                     2805.313242        211113566088300260   \n14                     2805.313242        211113566088300260   \n15                     2805.313242        211113566088300260   \n16                     2805.313242        211113566088300260   \n17                     2805.313242        211113566088300260   \n18                        0.999467     262009180608605163324   \n19                        0.999467     262009180608605163324   \n20                        0.999467     262009180608605163324   \n21                        0.999467     262009180608605163324   \n22                        0.999467     262009180608605163324   \n23                        0.999467     262009180608605163324   \n\n   transaction_amountUSD  event             dateTime           dateTime_2  \n0          100169.938162  repay  2023-02-14 16:22:35  2023-02-14 16:22:35  \n1          100169.938162  repay  2023-02-14 16:22:35  2023-02-14 16:22:35  \n2          100169.938162  repay  2023-02-14 16:22:35  2023-02-14 16:22:35  \n3          100169.938162  repay  2023-02-14 16:22:35  2023-02-14 16:22:35  \n4          100169.938162  repay  2023-02-14 16:22:35  2023-02-14 16:22:35  \n5          100169.938162  repay  2023-02-14 16:22:35  2023-02-14 16:22:35  \n6           71784.459721  repay  2023-02-14 12:16:23  2023-02-14 12:16:23  \n7           71784.459721  repay  2023-02-14 12:16:23  2023-02-14 12:16:23  \n8           71784.459721  repay  2023-02-14 12:16:23  2023-02-14 12:16:23  \n9           71784.459721  repay  2023-02-14 12:16:23  2023-02-14 12:16:23  \n10          71784.459721  repay  2023-02-14 12:16:23  2023-02-14 12:16:23  \n11          71784.459721  repay  2023-02-14 12:16:23  2023-02-14 12:16:23  \n12            466.683913  repay  2022-11-25 21:03:47  2022-11-25 21:03:47  \n13            466.683913  repay  2022-11-25 21:03:47  2022-11-25 21:03:47  \n14            466.683913  repay  2022-11-25 21:03:47  2022-11-25 21:03:47  \n15            466.683913  repay  2022-11-25 21:03:47  2022-11-25 21:03:47  \n16            466.683913  repay  2022-11-25 21:03:47  2022-11-25 21:03:47  \n17            466.683913  repay  2022-11-25 21:03:47  2022-11-25 21:03:47  \n18            262.209786  repay  2022-11-24 00:02:47  2022-11-24 00:02:47  \n19            262.209786  repay  2022-11-24 00:02:47  2022-11-24 00:02:47  \n20            262.209786  repay  2022-11-24 00:02:47  2022-11-24 00:02:47  \n21            262.209786  repay  2022-11-24 00:02:47  2022-11-24 00:02:47  \n22            262.209786  repay  2022-11-24 00:02:47  2022-11-24 00:02:47  \n23            262.209786  repay  2022-11-24 00:02:47  2022-11-24 00:02:47  \n\n[24 rows x 21 columns]",
      "text/html": "<div>\n<style scoped>\n    .dataframe tbody tr th:only-of-type {\n        vertical-align: middle;\n    }\n\n    .dataframe tbody tr th {\n        vertical-align: top;\n    }\n\n    .dataframe thead th {\n        text-align: right;\n    }\n</style>\n<table border=\"1\" class=\"dataframe\">\n  <thead>\n    <tr style=\"text-align: right;\">\n      <th></th>\n      <th>transaction_id</th>\n      <th>transaction_hash</th>\n      <th>transaction_blockNumber</th>\n      <th>transaction_timestamp</th>\n      <th>transaction_account_id</th>\n      <th>transaction_market_id</th>\n      <th>transaction_market_protocol_id</th>\n      <th>transaction_market_rates_rate</th>\n      <th>transaction_market_rates_duration</th>\n      <th>transaction_market_rates_side</th>\n      <th>...</th>\n      <th>transaction_market_rates_token_id</th>\n      <th>transaction_asset_name</th>\n      <th>transaction_asset_symbol</th>\n      <th>transaction_asset_decimals</th>\n      <th>transaction_asset_lastPriceUSD</th>\n      <th>transaction_amount</th>\n      <th>transaction_amountUSD</th>\n      <th>event</th>\n      <th>dateTime</th>\n      <th>dateTime_2</th>\n    </tr>\n  </thead>\n  <tbody>\n    <tr>\n      <th>0</th>\n      <td>0xfb97f8e2544f2063f69249a0ba2138b8272c34596661...</td>\n      <td>0xfb97f8e2544f2063f69249a0ba2138b8272c34596661...</td>\n      <td>16628154</td>\n      <td>1676391755</td>\n      <td>0xb0399dac8f4d4100b49b2a7b3873481114229d18</td>\n      <td>0xc413dd03555f3eb29d834b482d386b2999dc2eb0</td>\n      <td>0xd998c35b7900b344bbbe6555cc11576942cf309d</td>\n      <td>0.000000</td>\n      <td>NaN</td>\n      <td>BORROWER</td>\n      <td>...</td>\n      <td>0x0ab87046fbb341d058f17cbc4c1133f25a20a52f</td>\n      <td>XAI Stablecoin</td>\n      <td>XAI</td>\n      <td>18</td>\n      <td>0.999467</td>\n      <td>100000000000000000000000</td>\n      <td>100169.938162</td>\n      <td>repay</td>\n      <td>2023-02-14 16:22:35</td>\n      <td>2023-02-14 16:22:35</td>\n    </tr>\n    <tr>\n      <th>1</th>\n      <td>0xfb97f8e2544f2063f69249a0ba2138b8272c34596661...</td>\n      <td>0xfb97f8e2544f2063f69249a0ba2138b8272c34596661...</td>\n      <td>16628154</td>\n      <td>1676391755</td>\n      <td>0xb0399dac8f4d4100b49b2a7b3873481114229d18</td>\n      <td>0xc413dd03555f3eb29d834b482d386b2999dc2eb0</td>\n      <td>0xd998c35b7900b344bbbe6555cc11576942cf309d</td>\n      <td>2.278084</td>\n      <td>NaN</td>\n      <td>BORROWER</td>\n      <td>...</td>\n      <td>0xc02aaa39b223fe8d0a0e5c4f27ead9083c756cc2</td>\n      <td>XAI Stablecoin</td>\n      <td>XAI</td>\n      <td>18</td>\n      <td>0.999467</td>\n      <td>100000000000000000000000</td>\n      <td>100169.938162</td>\n      <td>repay</td>\n      <td>2023-02-14 16:22:35</td>\n      <td>2023-02-14 16:22:35</td>\n    </tr>\n    <tr>\n      <th>2</th>\n      <td>0xfb97f8e2544f2063f69249a0ba2138b8272c34596661...</td>\n      <td>0xfb97f8e2544f2063f69249a0ba2138b8272c34596661...</td>\n      <td>16628154</td>\n      <td>1676391755</td>\n      <td>0xb0399dac8f4d4100b49b2a7b3873481114229d18</td>\n      <td>0xc413dd03555f3eb29d834b482d386b2999dc2eb0</td>\n      <td>0xd998c35b7900b344bbbe6555cc11576942cf309d</td>\n      <td>2.347562</td>\n      <td>NaN</td>\n      <td>BORROWER</td>\n      <td>...</td>\n      <td>0xd7c9f0e536dc865ae858b0c0453fe76d13c3beac</td>\n      <td>XAI Stablecoin</td>\n      <td>XAI</td>\n      <td>18</td>\n      <td>0.999467</td>\n      <td>100000000000000000000000</td>\n      <td>100169.938162</td>\n      <td>repay</td>\n      <td>2023-02-14 16:22:35</td>\n      <td>2023-02-14 16:22:35</td>\n    </tr>\n    <tr>\n      <th>3</th>\n      <td>0xfb97f8e2544f2063f69249a0ba2138b8272c34596661...</td>\n      <td>0xfb97f8e2544f2063f69249a0ba2138b8272c34596661...</td>\n      <td>16628154</td>\n      <td>1676391755</td>\n      <td>0xb0399dac8f4d4100b49b2a7b3873481114229d18</td>\n      <td>0xc413dd03555f3eb29d834b482d386b2999dc2eb0</td>\n      <td>0xd998c35b7900b344bbbe6555cc11576942cf309d</td>\n      <td>0.000000</td>\n      <td>NaN</td>\n      <td>LENDER</td>\n      <td>...</td>\n      <td>0x0ab87046fbb341d058f17cbc4c1133f25a20a52f</td>\n      <td>XAI Stablecoin</td>\n      <td>XAI</td>\n      <td>18</td>\n      <td>0.999467</td>\n      <td>100000000000000000000000</td>\n      <td>100169.938162</td>\n      <td>repay</td>\n      <td>2023-02-14 16:22:35</td>\n      <td>2023-02-14 16:22:35</td>\n    </tr>\n    <tr>\n      <th>4</th>\n      <td>0xfb97f8e2544f2063f69249a0ba2138b8272c34596661...</td>\n      <td>0xfb97f8e2544f2063f69249a0ba2138b8272c34596661...</td>\n      <td>16628154</td>\n      <td>1676391755</td>\n      <td>0xb0399dac8f4d4100b49b2a7b3873481114229d18</td>\n      <td>0xc413dd03555f3eb29d834b482d386b2999dc2eb0</td>\n      <td>0xd998c35b7900b344bbbe6555cc11576942cf309d</td>\n      <td>0.631786</td>\n      <td>NaN</td>\n      <td>LENDER</td>\n      <td>...</td>\n      <td>0xc02aaa39b223fe8d0a0e5c4f27ead9083c756cc2</td>\n      <td>XAI Stablecoin</td>\n      <td>XAI</td>\n      <td>18</td>\n      <td>0.999467</td>\n      <td>100000000000000000000000</td>\n      <td>100169.938162</td>\n      <td>repay</td>\n      <td>2023-02-14 16:22:35</td>\n      <td>2023-02-14 16:22:35</td>\n    </tr>\n    <tr>\n      <th>5</th>\n      <td>0xfb97f8e2544f2063f69249a0ba2138b8272c34596661...</td>\n      <td>0xfb97f8e2544f2063f69249a0ba2138b8272c34596661...</td>\n      <td>16628154</td>\n      <td>1676391755</td>\n      <td>0xb0399dac8f4d4100b49b2a7b3873481114229d18</td>\n      <td>0xc413dd03555f3eb29d834b482d386b2999dc2eb0</td>\n      <td>0xd998c35b7900b344bbbe6555cc11576942cf309d</td>\n      <td>1.102211</td>\n      <td>NaN</td>\n      <td>LENDER</td>\n      <td>...</td>\n      <td>0xd7c9f0e536dc865ae858b0c0453fe76d13c3beac</td>\n      <td>XAI Stablecoin</td>\n      <td>XAI</td>\n      <td>18</td>\n      <td>0.999467</td>\n      <td>100000000000000000000000</td>\n      <td>100169.938162</td>\n      <td>repay</td>\n      <td>2023-02-14 16:22:35</td>\n      <td>2023-02-14 16:22:35</td>\n    </tr>\n    <tr>\n      <th>6</th>\n      <td>0xcbfc584edeb424b312011c7884bce8c77facd5b4bad8...</td>\n      <td>0xcbfc584edeb424b312011c7884bce8c77facd5b4bad8...</td>\n      <td>16626928</td>\n      <td>1676376983</td>\n      <td>0x46535cbc3fa574c32ea392d4f89c518290597072</td>\n      <td>0xc413dd03555f3eb29d834b482d386b2999dc2eb0</td>\n      <td>0xd998c35b7900b344bbbe6555cc11576942cf309d</td>\n      <td>0.000000</td>\n      <td>NaN</td>\n      <td>BORROWER</td>\n      <td>...</td>\n      <td>0x0ab87046fbb341d058f17cbc4c1133f25a20a52f</td>\n      <td>Governance OHM</td>\n      <td>gOHM</td>\n      <td>18</td>\n      <td>2805.313242</td>\n      <td>26400333491938938022</td>\n      <td>71784.459721</td>\n      <td>repay</td>\n      <td>2023-02-14 12:16:23</td>\n      <td>2023-02-14 12:16:23</td>\n    </tr>\n    <tr>\n      <th>7</th>\n      <td>0xcbfc584edeb424b312011c7884bce8c77facd5b4bad8...</td>\n      <td>0xcbfc584edeb424b312011c7884bce8c77facd5b4bad8...</td>\n      <td>16626928</td>\n      <td>1676376983</td>\n      <td>0x46535cbc3fa574c32ea392d4f89c518290597072</td>\n      <td>0xc413dd03555f3eb29d834b482d386b2999dc2eb0</td>\n      <td>0xd998c35b7900b344bbbe6555cc11576942cf309d</td>\n      <td>2.278084</td>\n      <td>NaN</td>\n      <td>BORROWER</td>\n      <td>...</td>\n      <td>0xc02aaa39b223fe8d0a0e5c4f27ead9083c756cc2</td>\n      <td>Governance OHM</td>\n      <td>gOHM</td>\n      <td>18</td>\n      <td>2805.313242</td>\n      <td>26400333491938938022</td>\n      <td>71784.459721</td>\n      <td>repay</td>\n      <td>2023-02-14 12:16:23</td>\n      <td>2023-02-14 12:16:23</td>\n    </tr>\n    <tr>\n      <th>8</th>\n      <td>0xcbfc584edeb424b312011c7884bce8c77facd5b4bad8...</td>\n      <td>0xcbfc584edeb424b312011c7884bce8c77facd5b4bad8...</td>\n      <td>16626928</td>\n      <td>1676376983</td>\n      <td>0x46535cbc3fa574c32ea392d4f89c518290597072</td>\n      <td>0xc413dd03555f3eb29d834b482d386b2999dc2eb0</td>\n      <td>0xd998c35b7900b344bbbe6555cc11576942cf309d</td>\n      <td>2.347562</td>\n      <td>NaN</td>\n      <td>BORROWER</td>\n      <td>...</td>\n      <td>0xd7c9f0e536dc865ae858b0c0453fe76d13c3beac</td>\n      <td>Governance OHM</td>\n      <td>gOHM</td>\n      <td>18</td>\n      <td>2805.313242</td>\n      <td>26400333491938938022</td>\n      <td>71784.459721</td>\n      <td>repay</td>\n      <td>2023-02-14 12:16:23</td>\n      <td>2023-02-14 12:16:23</td>\n    </tr>\n    <tr>\n      <th>9</th>\n      <td>0xcbfc584edeb424b312011c7884bce8c77facd5b4bad8...</td>\n      <td>0xcbfc584edeb424b312011c7884bce8c77facd5b4bad8...</td>\n      <td>16626928</td>\n      <td>1676376983</td>\n      <td>0x46535cbc3fa574c32ea392d4f89c518290597072</td>\n      <td>0xc413dd03555f3eb29d834b482d386b2999dc2eb0</td>\n      <td>0xd998c35b7900b344bbbe6555cc11576942cf309d</td>\n      <td>0.000000</td>\n      <td>NaN</td>\n      <td>LENDER</td>\n      <td>...</td>\n      <td>0x0ab87046fbb341d058f17cbc4c1133f25a20a52f</td>\n      <td>Governance OHM</td>\n      <td>gOHM</td>\n      <td>18</td>\n      <td>2805.313242</td>\n      <td>26400333491938938022</td>\n      <td>71784.459721</td>\n      <td>repay</td>\n      <td>2023-02-14 12:16:23</td>\n      <td>2023-02-14 12:16:23</td>\n    </tr>\n    <tr>\n      <th>10</th>\n      <td>0xcbfc584edeb424b312011c7884bce8c77facd5b4bad8...</td>\n      <td>0xcbfc584edeb424b312011c7884bce8c77facd5b4bad8...</td>\n      <td>16626928</td>\n      <td>1676376983</td>\n      <td>0x46535cbc3fa574c32ea392d4f89c518290597072</td>\n      <td>0xc413dd03555f3eb29d834b482d386b2999dc2eb0</td>\n      <td>0xd998c35b7900b344bbbe6555cc11576942cf309d</td>\n      <td>0.631786</td>\n      <td>NaN</td>\n      <td>LENDER</td>\n      <td>...</td>\n      <td>0xc02aaa39b223fe8d0a0e5c4f27ead9083c756cc2</td>\n      <td>Governance OHM</td>\n      <td>gOHM</td>\n      <td>18</td>\n      <td>2805.313242</td>\n      <td>26400333491938938022</td>\n      <td>71784.459721</td>\n      <td>repay</td>\n      <td>2023-02-14 12:16:23</td>\n      <td>2023-02-14 12:16:23</td>\n    </tr>\n    <tr>\n      <th>11</th>\n      <td>0xcbfc584edeb424b312011c7884bce8c77facd5b4bad8...</td>\n      <td>0xcbfc584edeb424b312011c7884bce8c77facd5b4bad8...</td>\n      <td>16626928</td>\n      <td>1676376983</td>\n      <td>0x46535cbc3fa574c32ea392d4f89c518290597072</td>\n      <td>0xc413dd03555f3eb29d834b482d386b2999dc2eb0</td>\n      <td>0xd998c35b7900b344bbbe6555cc11576942cf309d</td>\n      <td>1.102211</td>\n      <td>NaN</td>\n      <td>LENDER</td>\n      <td>...</td>\n      <td>0xd7c9f0e536dc865ae858b0c0453fe76d13c3beac</td>\n      <td>Governance OHM</td>\n      <td>gOHM</td>\n      <td>18</td>\n      <td>2805.313242</td>\n      <td>26400333491938938022</td>\n      <td>71784.459721</td>\n      <td>repay</td>\n      <td>2023-02-14 12:16:23</td>\n      <td>2023-02-14 12:16:23</td>\n    </tr>\n    <tr>\n      <th>12</th>\n      <td>0x0c0283dc0e75f17b5e9eb79b05bea3cae12d32204aad...</td>\n      <td>0x0c0283dc0e75f17b5e9eb79b05bea3cae12d32204aad...</td>\n      <td>16049560</td>\n      <td>1669410227</td>\n      <td>0x7776421dd146dfd6ea947cbf29b69c519807d259</td>\n      <td>0xc413dd03555f3eb29d834b482d386b2999dc2eb0</td>\n      <td>0xd998c35b7900b344bbbe6555cc11576942cf309d</td>\n      <td>0.000000</td>\n      <td>NaN</td>\n      <td>BORROWER</td>\n      <td>...</td>\n      <td>0x0ab87046fbb341d058f17cbc4c1133f25a20a52f</td>\n      <td>Governance OHM</td>\n      <td>gOHM</td>\n      <td>18</td>\n      <td>2805.313242</td>\n      <td>211113566088300260</td>\n      <td>466.683913</td>\n      <td>repay</td>\n      <td>2022-11-25 21:03:47</td>\n      <td>2022-11-25 21:03:47</td>\n    </tr>\n    <tr>\n      <th>13</th>\n      <td>0x0c0283dc0e75f17b5e9eb79b05bea3cae12d32204aad...</td>\n      <td>0x0c0283dc0e75f17b5e9eb79b05bea3cae12d32204aad...</td>\n      <td>16049560</td>\n      <td>1669410227</td>\n      <td>0x7776421dd146dfd6ea947cbf29b69c519807d259</td>\n      <td>0xc413dd03555f3eb29d834b482d386b2999dc2eb0</td>\n      <td>0xd998c35b7900b344bbbe6555cc11576942cf309d</td>\n      <td>2.278084</td>\n      <td>NaN</td>\n      <td>BORROWER</td>\n      <td>...</td>\n      <td>0xc02aaa39b223fe8d0a0e5c4f27ead9083c756cc2</td>\n      <td>Governance OHM</td>\n      <td>gOHM</td>\n      <td>18</td>\n      <td>2805.313242</td>\n      <td>211113566088300260</td>\n      <td>466.683913</td>\n      <td>repay</td>\n      <td>2022-11-25 21:03:47</td>\n      <td>2022-11-25 21:03:47</td>\n    </tr>\n    <tr>\n      <th>14</th>\n      <td>0x0c0283dc0e75f17b5e9eb79b05bea3cae12d32204aad...</td>\n      <td>0x0c0283dc0e75f17b5e9eb79b05bea3cae12d32204aad...</td>\n      <td>16049560</td>\n      <td>1669410227</td>\n      <td>0x7776421dd146dfd6ea947cbf29b69c519807d259</td>\n      <td>0xc413dd03555f3eb29d834b482d386b2999dc2eb0</td>\n      <td>0xd998c35b7900b344bbbe6555cc11576942cf309d</td>\n      <td>2.347562</td>\n      <td>NaN</td>\n      <td>BORROWER</td>\n      <td>...</td>\n      <td>0xd7c9f0e536dc865ae858b0c0453fe76d13c3beac</td>\n      <td>Governance OHM</td>\n      <td>gOHM</td>\n      <td>18</td>\n      <td>2805.313242</td>\n      <td>211113566088300260</td>\n      <td>466.683913</td>\n      <td>repay</td>\n      <td>2022-11-25 21:03:47</td>\n      <td>2022-11-25 21:03:47</td>\n    </tr>\n    <tr>\n      <th>15</th>\n      <td>0x0c0283dc0e75f17b5e9eb79b05bea3cae12d32204aad...</td>\n      <td>0x0c0283dc0e75f17b5e9eb79b05bea3cae12d32204aad...</td>\n      <td>16049560</td>\n      <td>1669410227</td>\n      <td>0x7776421dd146dfd6ea947cbf29b69c519807d259</td>\n      <td>0xc413dd03555f3eb29d834b482d386b2999dc2eb0</td>\n      <td>0xd998c35b7900b344bbbe6555cc11576942cf309d</td>\n      <td>0.000000</td>\n      <td>NaN</td>\n      <td>LENDER</td>\n      <td>...</td>\n      <td>0x0ab87046fbb341d058f17cbc4c1133f25a20a52f</td>\n      <td>Governance OHM</td>\n      <td>gOHM</td>\n      <td>18</td>\n      <td>2805.313242</td>\n      <td>211113566088300260</td>\n      <td>466.683913</td>\n      <td>repay</td>\n      <td>2022-11-25 21:03:47</td>\n      <td>2022-11-25 21:03:47</td>\n    </tr>\n    <tr>\n      <th>16</th>\n      <td>0x0c0283dc0e75f17b5e9eb79b05bea3cae12d32204aad...</td>\n      <td>0x0c0283dc0e75f17b5e9eb79b05bea3cae12d32204aad...</td>\n      <td>16049560</td>\n      <td>1669410227</td>\n      <td>0x7776421dd146dfd6ea947cbf29b69c519807d259</td>\n      <td>0xc413dd03555f3eb29d834b482d386b2999dc2eb0</td>\n      <td>0xd998c35b7900b344bbbe6555cc11576942cf309d</td>\n      <td>0.631786</td>\n      <td>NaN</td>\n      <td>LENDER</td>\n      <td>...</td>\n      <td>0xc02aaa39b223fe8d0a0e5c4f27ead9083c756cc2</td>\n      <td>Governance OHM</td>\n      <td>gOHM</td>\n      <td>18</td>\n      <td>2805.313242</td>\n      <td>211113566088300260</td>\n      <td>466.683913</td>\n      <td>repay</td>\n      <td>2022-11-25 21:03:47</td>\n      <td>2022-11-25 21:03:47</td>\n    </tr>\n    <tr>\n      <th>17</th>\n      <td>0x0c0283dc0e75f17b5e9eb79b05bea3cae12d32204aad...</td>\n      <td>0x0c0283dc0e75f17b5e9eb79b05bea3cae12d32204aad...</td>\n      <td>16049560</td>\n      <td>1669410227</td>\n      <td>0x7776421dd146dfd6ea947cbf29b69c519807d259</td>\n      <td>0xc413dd03555f3eb29d834b482d386b2999dc2eb0</td>\n      <td>0xd998c35b7900b344bbbe6555cc11576942cf309d</td>\n      <td>1.102211</td>\n      <td>NaN</td>\n      <td>LENDER</td>\n      <td>...</td>\n      <td>0xd7c9f0e536dc865ae858b0c0453fe76d13c3beac</td>\n      <td>Governance OHM</td>\n      <td>gOHM</td>\n      <td>18</td>\n      <td>2805.313242</td>\n      <td>211113566088300260</td>\n      <td>466.683913</td>\n      <td>repay</td>\n      <td>2022-11-25 21:03:47</td>\n      <td>2022-11-25 21:03:47</td>\n    </tr>\n    <tr>\n      <th>18</th>\n      <td>0x748852c58dd4b57d3f6ed80bc81f74b439efcb94968b...</td>\n      <td>0x748852c58dd4b57d3f6ed80bc81f74b439efcb94968b...</td>\n      <td>16036129</td>\n      <td>1669248167</td>\n      <td>0xd3064611b24eba7a6dbcbc26c1b35dfee1170880</td>\n      <td>0xc413dd03555f3eb29d834b482d386b2999dc2eb0</td>\n      <td>0xd998c35b7900b344bbbe6555cc11576942cf309d</td>\n      <td>0.000000</td>\n      <td>NaN</td>\n      <td>BORROWER</td>\n      <td>...</td>\n      <td>0x0ab87046fbb341d058f17cbc4c1133f25a20a52f</td>\n      <td>XAI Stablecoin</td>\n      <td>XAI</td>\n      <td>18</td>\n      <td>0.999467</td>\n      <td>262009180608605163324</td>\n      <td>262.209786</td>\n      <td>repay</td>\n      <td>2022-11-24 00:02:47</td>\n      <td>2022-11-24 00:02:47</td>\n    </tr>\n    <tr>\n      <th>19</th>\n      <td>0x748852c58dd4b57d3f6ed80bc81f74b439efcb94968b...</td>\n      <td>0x748852c58dd4b57d3f6ed80bc81f74b439efcb94968b...</td>\n      <td>16036129</td>\n      <td>1669248167</td>\n      <td>0xd3064611b24eba7a6dbcbc26c1b35dfee1170880</td>\n      <td>0xc413dd03555f3eb29d834b482d386b2999dc2eb0</td>\n      <td>0xd998c35b7900b344bbbe6555cc11576942cf309d</td>\n      <td>2.278084</td>\n      <td>NaN</td>\n      <td>BORROWER</td>\n      <td>...</td>\n      <td>0xc02aaa39b223fe8d0a0e5c4f27ead9083c756cc2</td>\n      <td>XAI Stablecoin</td>\n      <td>XAI</td>\n      <td>18</td>\n      <td>0.999467</td>\n      <td>262009180608605163324</td>\n      <td>262.209786</td>\n      <td>repay</td>\n      <td>2022-11-24 00:02:47</td>\n      <td>2022-11-24 00:02:47</td>\n    </tr>\n    <tr>\n      <th>20</th>\n      <td>0x748852c58dd4b57d3f6ed80bc81f74b439efcb94968b...</td>\n      <td>0x748852c58dd4b57d3f6ed80bc81f74b439efcb94968b...</td>\n      <td>16036129</td>\n      <td>1669248167</td>\n      <td>0xd3064611b24eba7a6dbcbc26c1b35dfee1170880</td>\n      <td>0xc413dd03555f3eb29d834b482d386b2999dc2eb0</td>\n      <td>0xd998c35b7900b344bbbe6555cc11576942cf309d</td>\n      <td>2.347562</td>\n      <td>NaN</td>\n      <td>BORROWER</td>\n      <td>...</td>\n      <td>0xd7c9f0e536dc865ae858b0c0453fe76d13c3beac</td>\n      <td>XAI Stablecoin</td>\n      <td>XAI</td>\n      <td>18</td>\n      <td>0.999467</td>\n      <td>262009180608605163324</td>\n      <td>262.209786</td>\n      <td>repay</td>\n      <td>2022-11-24 00:02:47</td>\n      <td>2022-11-24 00:02:47</td>\n    </tr>\n    <tr>\n      <th>21</th>\n      <td>0x748852c58dd4b57d3f6ed80bc81f74b439efcb94968b...</td>\n      <td>0x748852c58dd4b57d3f6ed80bc81f74b439efcb94968b...</td>\n      <td>16036129</td>\n      <td>1669248167</td>\n      <td>0xd3064611b24eba7a6dbcbc26c1b35dfee1170880</td>\n      <td>0xc413dd03555f3eb29d834b482d386b2999dc2eb0</td>\n      <td>0xd998c35b7900b344bbbe6555cc11576942cf309d</td>\n      <td>0.000000</td>\n      <td>NaN</td>\n      <td>LENDER</td>\n      <td>...</td>\n      <td>0x0ab87046fbb341d058f17cbc4c1133f25a20a52f</td>\n      <td>XAI Stablecoin</td>\n      <td>XAI</td>\n      <td>18</td>\n      <td>0.999467</td>\n      <td>262009180608605163324</td>\n      <td>262.209786</td>\n      <td>repay</td>\n      <td>2022-11-24 00:02:47</td>\n      <td>2022-11-24 00:02:47</td>\n    </tr>\n    <tr>\n      <th>22</th>\n      <td>0x748852c58dd4b57d3f6ed80bc81f74b439efcb94968b...</td>\n      <td>0x748852c58dd4b57d3f6ed80bc81f74b439efcb94968b...</td>\n      <td>16036129</td>\n      <td>1669248167</td>\n      <td>0xd3064611b24eba7a6dbcbc26c1b35dfee1170880</td>\n      <td>0xc413dd03555f3eb29d834b482d386b2999dc2eb0</td>\n      <td>0xd998c35b7900b344bbbe6555cc11576942cf309d</td>\n      <td>0.631786</td>\n      <td>NaN</td>\n      <td>LENDER</td>\n      <td>...</td>\n      <td>0xc02aaa39b223fe8d0a0e5c4f27ead9083c756cc2</td>\n      <td>XAI Stablecoin</td>\n      <td>XAI</td>\n      <td>18</td>\n      <td>0.999467</td>\n      <td>262009180608605163324</td>\n      <td>262.209786</td>\n      <td>repay</td>\n      <td>2022-11-24 00:02:47</td>\n      <td>2022-11-24 00:02:47</td>\n    </tr>\n    <tr>\n      <th>23</th>\n      <td>0x748852c58dd4b57d3f6ed80bc81f74b439efcb94968b...</td>\n      <td>0x748852c58dd4b57d3f6ed80bc81f74b439efcb94968b...</td>\n      <td>16036129</td>\n      <td>1669248167</td>\n      <td>0xd3064611b24eba7a6dbcbc26c1b35dfee1170880</td>\n      <td>0xc413dd03555f3eb29d834b482d386b2999dc2eb0</td>\n      <td>0xd998c35b7900b344bbbe6555cc11576942cf309d</td>\n      <td>1.102211</td>\n      <td>NaN</td>\n      <td>LENDER</td>\n      <td>...</td>\n      <td>0xd7c9f0e536dc865ae858b0c0453fe76d13c3beac</td>\n      <td>XAI Stablecoin</td>\n      <td>XAI</td>\n      <td>18</td>\n      <td>0.999467</td>\n      <td>262009180608605163324</td>\n      <td>262.209786</td>\n      <td>repay</td>\n      <td>2022-11-24 00:02:47</td>\n      <td>2022-11-24 00:02:47</td>\n    </tr>\n  </tbody>\n</table>\n<p>24 rows × 21 columns</p>\n</div>"
     },
     "execution_count": 202,
     "metadata": {},
     "output_type": "execute_result"
    }
   ],
   "source": [
    "oldRepaysDb = pd.DataFrame()\n",
    "siloFileName = file+'/siloFinance_repays.csv'\n",
    "try:\n",
    "    oldRepaysDb = pd.read_csv (siloFileName)\n",
    "except:\n",
    "    oldRepaysDb = pd.DataFrame()\n",
    "oldRepaysDb.head(100)"
   ],
   "metadata": {
    "collapsed": false
   }
  },
  {
   "cell_type": "code",
   "execution_count": 203,
   "outputs": [
    {
     "data": {
      "text/plain": "1676391750"
     },
     "execution_count": 203,
     "metadata": {},
     "output_type": "execute_result"
    }
   ],
   "source": [
    "maxRepaySiloTimestamp = 0\n",
    "try:\n",
    "    maxRepaySiloTimestamp = (max(1,oldRepaysDb['transaction_timestamp'].max()))-5\n",
    "except:\n",
    "        maxRepaySiloTimestamp = 0\n",
    "maxRepaySiloTimestamp = int(maxRepaySiloTimestamp)\n",
    "maxRepaySiloTimestamp"
   ],
   "metadata": {
    "collapsed": false
   }
  },
  {
   "cell_type": "code",
   "execution_count": 206,
   "outputs": [
    {
     "name": "stdout",
     "output_type": "stream",
     "text": [
      "iterations:  0 Lines skipped:  0 records collected:  6  - latest recordID:  0xfb97f8e2544f2063f69249a0ba2138b8272c3459666153b9ce269399f5622f7e   0xfb97f8e2544f2063f69249a0ba2138b8272c3459666153b9ce269399f5622f7e-185  - repays DB length:  6  - latest record from:  2023-02-14 08:22:35 0 days ago\n",
      "Done. Total Records collected:  6\n"
     ]
    }
   ],
   "source": [
    "##this tracks the ENTIRE list of events for repaying the XAI repayed against gOHM\n",
    "repayTicker = 0\n",
    "repayslist = pd.DataFrame()\n",
    "repaysDb = pd.DataFrame()\n",
    "repayListLength = 1000\n",
    "datediff = 0\n",
    "now=0\n",
    "daysAgo=0\n",
    "daysLimit = 45\n",
    "exit = False\n",
    "while exit==False:\n",
    "    skipValue = (repayTicker)*(1000)\n",
    "    repays = silo.Query.repays(\n",
    "        orderBy='timestamp',\n",
    "        orderDirection='desc',\n",
    "        first=1000,\n",
    "        skip = skipValue,\n",
    "        where={ 'market': '0xc413dd03555f3eb29d834b482d386b2999dc2eb0'  #gOHM market\n",
    "                ,'timestamp_gte': maxRepaySiloTimestamp\n",
    "                } #gOHM market\n",
    "\n",
    "    )\n",
    "\n",
    "    repayslist = sg.query_df([\n",
    "        repays.id\n",
    "        ,repays.hash\n",
    "        ,repays.blockNumber\n",
    "        ,repays.timestamp\n",
    "        ,repays.account.id\n",
    "        ,repays.market.id\n",
    "        ,repays.market.protocol.id\n",
    "        ,repays.market.rates.rate\n",
    "        ,repays.market.rates.duration\n",
    "        ,repays.market.rates.side\n",
    "        ,repays.market.rates.type\n",
    "        ,repays.market.rates.token.id\n",
    "        ,repays.asset.name\n",
    "        ,repays.asset.symbol\n",
    "        ,repays.asset.decimals\n",
    "        ,repays.asset.lastPriceUSD\n",
    "        ,repays.amount\n",
    "        ,repays.amountUSD\n",
    "    ])\n",
    "\n",
    "    #repayslist.sort_values(by=['repays_timestamp'])\n",
    "\n",
    "    repaysDb=pd.concat([repaysDb, repayslist])\n",
    "    recordTimestamp1 = repaysDb.iat[repayTicker,3]\n",
    "    recordTimestamp = dt.datetime.fromtimestamp( recordTimestamp1 )\n",
    "    now = (int(dt.datetime.utcnow().timestamp()))\n",
    "    datediff=abs(int(now) - recordTimestamp1)\n",
    "    daysAgo = int(datediff/86400)\n",
    "    repaysDbLength = len(repaysDb)\n",
    "    repayListLength = len(repayslist)\n",
    "    recordID = repaysDb.iat[repayTicker,0]\n",
    "    repay = repaysDb.iat[repayTicker,1]\n",
    "    print(\"iterations: \", repayTicker, \"Lines skipped: \",skipValue, \"records collected: \", repayListLength, \" - latest recordID: \",repay, \" \", recordID , \" - repays DB length: \", repaysDbLength, \" - latest record from: \", recordTimestamp, daysAgo,\"days ago\")\n",
    "    #print(\"iterations: \", repayTicker, \"records collected: \", repayListLength, \" - userdb length: \", repaysDbLength)\n",
    "    repayTicker = repayTicker+1\n",
    "\n",
    "    if daysAgo>daysLimit: exit =True\n",
    "    if repayListLength<1000: exit =True\n",
    "\n",
    "repaysDb.columns = repaysDb.columns.str.replace(\"repays\", \"transaction\")\n",
    "repaysDb['event']='repay'\n",
    "repaysDb.drop_duplicates()\n",
    "print(\"Done. Total Records collected: \", repaysDbLength)"
   ],
   "metadata": {
    "collapsed": false
   }
  },
  {
   "cell_type": "code",
   "execution_count": 207,
   "outputs": [
    {
     "data": {
      "text/plain": "                                      transaction_id  \\\n0  0xfb97f8e2544f2063f69249a0ba2138b8272c34596661...   \n1  0xfb97f8e2544f2063f69249a0ba2138b8272c34596661...   \n2  0xfb97f8e2544f2063f69249a0ba2138b8272c34596661...   \n3  0xfb97f8e2544f2063f69249a0ba2138b8272c34596661...   \n4  0xfb97f8e2544f2063f69249a0ba2138b8272c34596661...   \n5  0xfb97f8e2544f2063f69249a0ba2138b8272c34596661...   \n\n                                    transaction_hash  transaction_blockNumber  \\\n0  0xfb97f8e2544f2063f69249a0ba2138b8272c34596661...                 16628154   \n1  0xfb97f8e2544f2063f69249a0ba2138b8272c34596661...                 16628154   \n2  0xfb97f8e2544f2063f69249a0ba2138b8272c34596661...                 16628154   \n3  0xfb97f8e2544f2063f69249a0ba2138b8272c34596661...                 16628154   \n4  0xfb97f8e2544f2063f69249a0ba2138b8272c34596661...                 16628154   \n5  0xfb97f8e2544f2063f69249a0ba2138b8272c34596661...                 16628154   \n\n   transaction_timestamp                      transaction_account_id  \\\n0             1676391755  0xb0399dac8f4d4100b49b2a7b3873481114229d18   \n1             1676391755  0xb0399dac8f4d4100b49b2a7b3873481114229d18   \n2             1676391755  0xb0399dac8f4d4100b49b2a7b3873481114229d18   \n3             1676391755  0xb0399dac8f4d4100b49b2a7b3873481114229d18   \n4             1676391755  0xb0399dac8f4d4100b49b2a7b3873481114229d18   \n5             1676391755  0xb0399dac8f4d4100b49b2a7b3873481114229d18   \n\n                        transaction_market_id  \\\n0  0xc413dd03555f3eb29d834b482d386b2999dc2eb0   \n1  0xc413dd03555f3eb29d834b482d386b2999dc2eb0   \n2  0xc413dd03555f3eb29d834b482d386b2999dc2eb0   \n3  0xc413dd03555f3eb29d834b482d386b2999dc2eb0   \n4  0xc413dd03555f3eb29d834b482d386b2999dc2eb0   \n5  0xc413dd03555f3eb29d834b482d386b2999dc2eb0   \n\n               transaction_market_protocol_id  transaction_market_rates_rate  \\\n0  0xd998c35b7900b344bbbe6555cc11576942cf309d                       0.000000   \n1  0xd998c35b7900b344bbbe6555cc11576942cf309d                       2.278084   \n2  0xd998c35b7900b344bbbe6555cc11576942cf309d                       2.347562   \n3  0xd998c35b7900b344bbbe6555cc11576942cf309d                       0.000000   \n4  0xd998c35b7900b344bbbe6555cc11576942cf309d                       0.631787   \n5  0xd998c35b7900b344bbbe6555cc11576942cf309d                       1.102212   \n\n  transaction_market_rates_duration transaction_market_rates_side  \\\n0                               NaN                      BORROWER   \n1                               NaN                      BORROWER   \n2                               NaN                      BORROWER   \n3                               NaN                        LENDER   \n4                               NaN                        LENDER   \n5                               NaN                        LENDER   \n\n  transaction_market_rates_type           transaction_market_rates_token_id  \\\n0                      VARIABLE  0x0ab87046fbb341d058f17cbc4c1133f25a20a52f   \n1                      VARIABLE  0xc02aaa39b223fe8d0a0e5c4f27ead9083c756cc2   \n2                      VARIABLE  0xd7c9f0e536dc865ae858b0c0453fe76d13c3beac   \n3                      VARIABLE  0x0ab87046fbb341d058f17cbc4c1133f25a20a52f   \n4                      VARIABLE  0xc02aaa39b223fe8d0a0e5c4f27ead9083c756cc2   \n5                      VARIABLE  0xd7c9f0e536dc865ae858b0c0453fe76d13c3beac   \n\n  transaction_asset_name transaction_asset_symbol  transaction_asset_decimals  \\\n0         XAI Stablecoin                      XAI                          18   \n1         XAI Stablecoin                      XAI                          18   \n2         XAI Stablecoin                      XAI                          18   \n3         XAI Stablecoin                      XAI                          18   \n4         XAI Stablecoin                      XAI                          18   \n5         XAI Stablecoin                      XAI                          18   \n\n   transaction_asset_lastPriceUSD        transaction_amount  \\\n0                        0.993048  100000000000000000000000   \n1                        0.993048  100000000000000000000000   \n2                        0.993048  100000000000000000000000   \n3                        0.993048  100000000000000000000000   \n4                        0.993048  100000000000000000000000   \n5                        0.993048  100000000000000000000000   \n\n   transaction_amountUSD  event            dateTime  \n0          100169.938162  repay 2023-02-14 16:22:35  \n1          100169.938162  repay 2023-02-14 16:22:35  \n2          100169.938162  repay 2023-02-14 16:22:35  \n3          100169.938162  repay 2023-02-14 16:22:35  \n4          100169.938162  repay 2023-02-14 16:22:35  \n5          100169.938162  repay 2023-02-14 16:22:35  ",
      "text/html": "<div>\n<style scoped>\n    .dataframe tbody tr th:only-of-type {\n        vertical-align: middle;\n    }\n\n    .dataframe tbody tr th {\n        vertical-align: top;\n    }\n\n    .dataframe thead th {\n        text-align: right;\n    }\n</style>\n<table border=\"1\" class=\"dataframe\">\n  <thead>\n    <tr style=\"text-align: right;\">\n      <th></th>\n      <th>transaction_id</th>\n      <th>transaction_hash</th>\n      <th>transaction_blockNumber</th>\n      <th>transaction_timestamp</th>\n      <th>transaction_account_id</th>\n      <th>transaction_market_id</th>\n      <th>transaction_market_protocol_id</th>\n      <th>transaction_market_rates_rate</th>\n      <th>transaction_market_rates_duration</th>\n      <th>transaction_market_rates_side</th>\n      <th>transaction_market_rates_type</th>\n      <th>transaction_market_rates_token_id</th>\n      <th>transaction_asset_name</th>\n      <th>transaction_asset_symbol</th>\n      <th>transaction_asset_decimals</th>\n      <th>transaction_asset_lastPriceUSD</th>\n      <th>transaction_amount</th>\n      <th>transaction_amountUSD</th>\n      <th>event</th>\n      <th>dateTime</th>\n    </tr>\n  </thead>\n  <tbody>\n    <tr>\n      <th>0</th>\n      <td>0xfb97f8e2544f2063f69249a0ba2138b8272c34596661...</td>\n      <td>0xfb97f8e2544f2063f69249a0ba2138b8272c34596661...</td>\n      <td>16628154</td>\n      <td>1676391755</td>\n      <td>0xb0399dac8f4d4100b49b2a7b3873481114229d18</td>\n      <td>0xc413dd03555f3eb29d834b482d386b2999dc2eb0</td>\n      <td>0xd998c35b7900b344bbbe6555cc11576942cf309d</td>\n      <td>0.000000</td>\n      <td>NaN</td>\n      <td>BORROWER</td>\n      <td>VARIABLE</td>\n      <td>0x0ab87046fbb341d058f17cbc4c1133f25a20a52f</td>\n      <td>XAI Stablecoin</td>\n      <td>XAI</td>\n      <td>18</td>\n      <td>0.993048</td>\n      <td>100000000000000000000000</td>\n      <td>100169.938162</td>\n      <td>repay</td>\n      <td>2023-02-14 16:22:35</td>\n    </tr>\n    <tr>\n      <th>1</th>\n      <td>0xfb97f8e2544f2063f69249a0ba2138b8272c34596661...</td>\n      <td>0xfb97f8e2544f2063f69249a0ba2138b8272c34596661...</td>\n      <td>16628154</td>\n      <td>1676391755</td>\n      <td>0xb0399dac8f4d4100b49b2a7b3873481114229d18</td>\n      <td>0xc413dd03555f3eb29d834b482d386b2999dc2eb0</td>\n      <td>0xd998c35b7900b344bbbe6555cc11576942cf309d</td>\n      <td>2.278084</td>\n      <td>NaN</td>\n      <td>BORROWER</td>\n      <td>VARIABLE</td>\n      <td>0xc02aaa39b223fe8d0a0e5c4f27ead9083c756cc2</td>\n      <td>XAI Stablecoin</td>\n      <td>XAI</td>\n      <td>18</td>\n      <td>0.993048</td>\n      <td>100000000000000000000000</td>\n      <td>100169.938162</td>\n      <td>repay</td>\n      <td>2023-02-14 16:22:35</td>\n    </tr>\n    <tr>\n      <th>2</th>\n      <td>0xfb97f8e2544f2063f69249a0ba2138b8272c34596661...</td>\n      <td>0xfb97f8e2544f2063f69249a0ba2138b8272c34596661...</td>\n      <td>16628154</td>\n      <td>1676391755</td>\n      <td>0xb0399dac8f4d4100b49b2a7b3873481114229d18</td>\n      <td>0xc413dd03555f3eb29d834b482d386b2999dc2eb0</td>\n      <td>0xd998c35b7900b344bbbe6555cc11576942cf309d</td>\n      <td>2.347562</td>\n      <td>NaN</td>\n      <td>BORROWER</td>\n      <td>VARIABLE</td>\n      <td>0xd7c9f0e536dc865ae858b0c0453fe76d13c3beac</td>\n      <td>XAI Stablecoin</td>\n      <td>XAI</td>\n      <td>18</td>\n      <td>0.993048</td>\n      <td>100000000000000000000000</td>\n      <td>100169.938162</td>\n      <td>repay</td>\n      <td>2023-02-14 16:22:35</td>\n    </tr>\n    <tr>\n      <th>3</th>\n      <td>0xfb97f8e2544f2063f69249a0ba2138b8272c34596661...</td>\n      <td>0xfb97f8e2544f2063f69249a0ba2138b8272c34596661...</td>\n      <td>16628154</td>\n      <td>1676391755</td>\n      <td>0xb0399dac8f4d4100b49b2a7b3873481114229d18</td>\n      <td>0xc413dd03555f3eb29d834b482d386b2999dc2eb0</td>\n      <td>0xd998c35b7900b344bbbe6555cc11576942cf309d</td>\n      <td>0.000000</td>\n      <td>NaN</td>\n      <td>LENDER</td>\n      <td>VARIABLE</td>\n      <td>0x0ab87046fbb341d058f17cbc4c1133f25a20a52f</td>\n      <td>XAI Stablecoin</td>\n      <td>XAI</td>\n      <td>18</td>\n      <td>0.993048</td>\n      <td>100000000000000000000000</td>\n      <td>100169.938162</td>\n      <td>repay</td>\n      <td>2023-02-14 16:22:35</td>\n    </tr>\n    <tr>\n      <th>4</th>\n      <td>0xfb97f8e2544f2063f69249a0ba2138b8272c34596661...</td>\n      <td>0xfb97f8e2544f2063f69249a0ba2138b8272c34596661...</td>\n      <td>16628154</td>\n      <td>1676391755</td>\n      <td>0xb0399dac8f4d4100b49b2a7b3873481114229d18</td>\n      <td>0xc413dd03555f3eb29d834b482d386b2999dc2eb0</td>\n      <td>0xd998c35b7900b344bbbe6555cc11576942cf309d</td>\n      <td>0.631787</td>\n      <td>NaN</td>\n      <td>LENDER</td>\n      <td>VARIABLE</td>\n      <td>0xc02aaa39b223fe8d0a0e5c4f27ead9083c756cc2</td>\n      <td>XAI Stablecoin</td>\n      <td>XAI</td>\n      <td>18</td>\n      <td>0.993048</td>\n      <td>100000000000000000000000</td>\n      <td>100169.938162</td>\n      <td>repay</td>\n      <td>2023-02-14 16:22:35</td>\n    </tr>\n    <tr>\n      <th>5</th>\n      <td>0xfb97f8e2544f2063f69249a0ba2138b8272c34596661...</td>\n      <td>0xfb97f8e2544f2063f69249a0ba2138b8272c34596661...</td>\n      <td>16628154</td>\n      <td>1676391755</td>\n      <td>0xb0399dac8f4d4100b49b2a7b3873481114229d18</td>\n      <td>0xc413dd03555f3eb29d834b482d386b2999dc2eb0</td>\n      <td>0xd998c35b7900b344bbbe6555cc11576942cf309d</td>\n      <td>1.102212</td>\n      <td>NaN</td>\n      <td>LENDER</td>\n      <td>VARIABLE</td>\n      <td>0xd7c9f0e536dc865ae858b0c0453fe76d13c3beac</td>\n      <td>XAI Stablecoin</td>\n      <td>XAI</td>\n      <td>18</td>\n      <td>0.993048</td>\n      <td>100000000000000000000000</td>\n      <td>100169.938162</td>\n      <td>repay</td>\n      <td>2023-02-14 16:22:35</td>\n    </tr>\n  </tbody>\n</table>\n</div>"
     },
     "execution_count": 207,
     "metadata": {},
     "output_type": "execute_result"
    }
   ],
   "source": [
    "#I swear I will figure out synthetic fields, but until then...\n",
    "repaysDbDbTimed = db.query(\"select \"\n",
    "               \"    * \"\n",
    "                    \" ,to_timestamp(transaction_timestamp::int) dateTime \"\n",
    "               \"From repaysDb \"\n",
    "                      \"order by transaction_amountUSD desc\"\n",
    "               #\"where lower(liquidityPools_name) like lower('%olympus%') \"\n",
    "                #    \"or lower(pairs_token1_symbol) like lower('%OHM%')  \"\n",
    "               #\" limit 100 \"\n",
    "               ).df()\n",
    "repaysDbDbTimed.head(100)"
   ],
   "metadata": {
    "collapsed": false
   }
  },
  {
   "cell_type": "markdown",
   "source": [
    "Why the heck do I see several interest rates for the same txn?"
   ],
   "metadata": {
    "collapsed": false
   }
  },
  {
   "cell_type": "code",
   "execution_count": 208,
   "outputs": [
    {
     "data": {
      "text/plain": "                                      transaction_id  \\\n0  0xfb97f8e2544f2063f69249a0ba2138b8272c34596661...   \n1  0xfb97f8e2544f2063f69249a0ba2138b8272c34596661...   \n2  0xfb97f8e2544f2063f69249a0ba2138b8272c34596661...   \n3  0xfb97f8e2544f2063f69249a0ba2138b8272c34596661...   \n4  0xfb97f8e2544f2063f69249a0ba2138b8272c34596661...   \n5  0xfb97f8e2544f2063f69249a0ba2138b8272c34596661...   \n\n                                    transaction_hash  transaction_blockNumber  \\\n0  0xfb97f8e2544f2063f69249a0ba2138b8272c34596661...                 16628154   \n1  0xfb97f8e2544f2063f69249a0ba2138b8272c34596661...                 16628154   \n2  0xfb97f8e2544f2063f69249a0ba2138b8272c34596661...                 16628154   \n3  0xfb97f8e2544f2063f69249a0ba2138b8272c34596661...                 16628154   \n4  0xfb97f8e2544f2063f69249a0ba2138b8272c34596661...                 16628154   \n5  0xfb97f8e2544f2063f69249a0ba2138b8272c34596661...                 16628154   \n\n   transaction_timestamp                      transaction_account_id  \\\n0             1676391755  0xb0399dac8f4d4100b49b2a7b3873481114229d18   \n1             1676391755  0xb0399dac8f4d4100b49b2a7b3873481114229d18   \n2             1676391755  0xb0399dac8f4d4100b49b2a7b3873481114229d18   \n3             1676391755  0xb0399dac8f4d4100b49b2a7b3873481114229d18   \n4             1676391755  0xb0399dac8f4d4100b49b2a7b3873481114229d18   \n5             1676391755  0xb0399dac8f4d4100b49b2a7b3873481114229d18   \n\n                        transaction_market_id  \\\n0  0xc413dd03555f3eb29d834b482d386b2999dc2eb0   \n1  0xc413dd03555f3eb29d834b482d386b2999dc2eb0   \n2  0xc413dd03555f3eb29d834b482d386b2999dc2eb0   \n3  0xc413dd03555f3eb29d834b482d386b2999dc2eb0   \n4  0xc413dd03555f3eb29d834b482d386b2999dc2eb0   \n5  0xc413dd03555f3eb29d834b482d386b2999dc2eb0   \n\n               transaction_market_protocol_id  transaction_market_rates_rate  \\\n0  0xd998c35b7900b344bbbe6555cc11576942cf309d                       0.000000   \n1  0xd998c35b7900b344bbbe6555cc11576942cf309d                       2.278084   \n2  0xd998c35b7900b344bbbe6555cc11576942cf309d                       2.347562   \n3  0xd998c35b7900b344bbbe6555cc11576942cf309d                       0.000000   \n4  0xd998c35b7900b344bbbe6555cc11576942cf309d                       0.631787   \n5  0xd998c35b7900b344bbbe6555cc11576942cf309d                       1.102212   \n\n  transaction_market_rates_duration transaction_market_rates_side  ...  \\\n0                               NaN                      BORROWER  ...   \n1                               NaN                      BORROWER  ...   \n2                               NaN                      BORROWER  ...   \n3                               NaN                        LENDER  ...   \n4                               NaN                        LENDER  ...   \n5                               NaN                        LENDER  ...   \n\n            transaction_market_rates_token_id transaction_asset_name  \\\n0  0x0ab87046fbb341d058f17cbc4c1133f25a20a52f         XAI Stablecoin   \n1  0xc02aaa39b223fe8d0a0e5c4f27ead9083c756cc2         XAI Stablecoin   \n2  0xd7c9f0e536dc865ae858b0c0453fe76d13c3beac         XAI Stablecoin   \n3  0x0ab87046fbb341d058f17cbc4c1133f25a20a52f         XAI Stablecoin   \n4  0xc02aaa39b223fe8d0a0e5c4f27ead9083c756cc2         XAI Stablecoin   \n5  0xd7c9f0e536dc865ae858b0c0453fe76d13c3beac         XAI Stablecoin   \n\n  transaction_asset_symbol transaction_asset_decimals  \\\n0                      XAI                         18   \n1                      XAI                         18   \n2                      XAI                         18   \n3                      XAI                         18   \n4                      XAI                         18   \n5                      XAI                         18   \n\n   transaction_asset_lastPriceUSD        transaction_amount  \\\n0                        0.993048  100000000000000000000000   \n1                        0.993048  100000000000000000000000   \n2                        0.993048  100000000000000000000000   \n3                        0.993048  100000000000000000000000   \n4                        0.993048  100000000000000000000000   \n5                        0.993048  100000000000000000000000   \n\n  transaction_amountUSD  event            dateTime          dateTime_2  \n0         100169.938162  repay 2023-02-14 16:22:35 2023-02-14 16:22:35  \n1         100169.938162  repay 2023-02-14 16:22:35 2023-02-14 16:22:35  \n2         100169.938162  repay 2023-02-14 16:22:35 2023-02-14 16:22:35  \n3         100169.938162  repay 2023-02-14 16:22:35 2023-02-14 16:22:35  \n4         100169.938162  repay 2023-02-14 16:22:35 2023-02-14 16:22:35  \n5         100169.938162  repay 2023-02-14 16:22:35 2023-02-14 16:22:35  \n\n[6 rows x 21 columns]",
      "text/html": "<div>\n<style scoped>\n    .dataframe tbody tr th:only-of-type {\n        vertical-align: middle;\n    }\n\n    .dataframe tbody tr th {\n        vertical-align: top;\n    }\n\n    .dataframe thead th {\n        text-align: right;\n    }\n</style>\n<table border=\"1\" class=\"dataframe\">\n  <thead>\n    <tr style=\"text-align: right;\">\n      <th></th>\n      <th>transaction_id</th>\n      <th>transaction_hash</th>\n      <th>transaction_blockNumber</th>\n      <th>transaction_timestamp</th>\n      <th>transaction_account_id</th>\n      <th>transaction_market_id</th>\n      <th>transaction_market_protocol_id</th>\n      <th>transaction_market_rates_rate</th>\n      <th>transaction_market_rates_duration</th>\n      <th>transaction_market_rates_side</th>\n      <th>...</th>\n      <th>transaction_market_rates_token_id</th>\n      <th>transaction_asset_name</th>\n      <th>transaction_asset_symbol</th>\n      <th>transaction_asset_decimals</th>\n      <th>transaction_asset_lastPriceUSD</th>\n      <th>transaction_amount</th>\n      <th>transaction_amountUSD</th>\n      <th>event</th>\n      <th>dateTime</th>\n      <th>dateTime_2</th>\n    </tr>\n  </thead>\n  <tbody>\n    <tr>\n      <th>0</th>\n      <td>0xfb97f8e2544f2063f69249a0ba2138b8272c34596661...</td>\n      <td>0xfb97f8e2544f2063f69249a0ba2138b8272c34596661...</td>\n      <td>16628154</td>\n      <td>1676391755</td>\n      <td>0xb0399dac8f4d4100b49b2a7b3873481114229d18</td>\n      <td>0xc413dd03555f3eb29d834b482d386b2999dc2eb0</td>\n      <td>0xd998c35b7900b344bbbe6555cc11576942cf309d</td>\n      <td>0.000000</td>\n      <td>NaN</td>\n      <td>BORROWER</td>\n      <td>...</td>\n      <td>0x0ab87046fbb341d058f17cbc4c1133f25a20a52f</td>\n      <td>XAI Stablecoin</td>\n      <td>XAI</td>\n      <td>18</td>\n      <td>0.993048</td>\n      <td>100000000000000000000000</td>\n      <td>100169.938162</td>\n      <td>repay</td>\n      <td>2023-02-14 16:22:35</td>\n      <td>2023-02-14 16:22:35</td>\n    </tr>\n    <tr>\n      <th>1</th>\n      <td>0xfb97f8e2544f2063f69249a0ba2138b8272c34596661...</td>\n      <td>0xfb97f8e2544f2063f69249a0ba2138b8272c34596661...</td>\n      <td>16628154</td>\n      <td>1676391755</td>\n      <td>0xb0399dac8f4d4100b49b2a7b3873481114229d18</td>\n      <td>0xc413dd03555f3eb29d834b482d386b2999dc2eb0</td>\n      <td>0xd998c35b7900b344bbbe6555cc11576942cf309d</td>\n      <td>2.278084</td>\n      <td>NaN</td>\n      <td>BORROWER</td>\n      <td>...</td>\n      <td>0xc02aaa39b223fe8d0a0e5c4f27ead9083c756cc2</td>\n      <td>XAI Stablecoin</td>\n      <td>XAI</td>\n      <td>18</td>\n      <td>0.993048</td>\n      <td>100000000000000000000000</td>\n      <td>100169.938162</td>\n      <td>repay</td>\n      <td>2023-02-14 16:22:35</td>\n      <td>2023-02-14 16:22:35</td>\n    </tr>\n    <tr>\n      <th>2</th>\n      <td>0xfb97f8e2544f2063f69249a0ba2138b8272c34596661...</td>\n      <td>0xfb97f8e2544f2063f69249a0ba2138b8272c34596661...</td>\n      <td>16628154</td>\n      <td>1676391755</td>\n      <td>0xb0399dac8f4d4100b49b2a7b3873481114229d18</td>\n      <td>0xc413dd03555f3eb29d834b482d386b2999dc2eb0</td>\n      <td>0xd998c35b7900b344bbbe6555cc11576942cf309d</td>\n      <td>2.347562</td>\n      <td>NaN</td>\n      <td>BORROWER</td>\n      <td>...</td>\n      <td>0xd7c9f0e536dc865ae858b0c0453fe76d13c3beac</td>\n      <td>XAI Stablecoin</td>\n      <td>XAI</td>\n      <td>18</td>\n      <td>0.993048</td>\n      <td>100000000000000000000000</td>\n      <td>100169.938162</td>\n      <td>repay</td>\n      <td>2023-02-14 16:22:35</td>\n      <td>2023-02-14 16:22:35</td>\n    </tr>\n    <tr>\n      <th>3</th>\n      <td>0xfb97f8e2544f2063f69249a0ba2138b8272c34596661...</td>\n      <td>0xfb97f8e2544f2063f69249a0ba2138b8272c34596661...</td>\n      <td>16628154</td>\n      <td>1676391755</td>\n      <td>0xb0399dac8f4d4100b49b2a7b3873481114229d18</td>\n      <td>0xc413dd03555f3eb29d834b482d386b2999dc2eb0</td>\n      <td>0xd998c35b7900b344bbbe6555cc11576942cf309d</td>\n      <td>0.000000</td>\n      <td>NaN</td>\n      <td>LENDER</td>\n      <td>...</td>\n      <td>0x0ab87046fbb341d058f17cbc4c1133f25a20a52f</td>\n      <td>XAI Stablecoin</td>\n      <td>XAI</td>\n      <td>18</td>\n      <td>0.993048</td>\n      <td>100000000000000000000000</td>\n      <td>100169.938162</td>\n      <td>repay</td>\n      <td>2023-02-14 16:22:35</td>\n      <td>2023-02-14 16:22:35</td>\n    </tr>\n    <tr>\n      <th>4</th>\n      <td>0xfb97f8e2544f2063f69249a0ba2138b8272c34596661...</td>\n      <td>0xfb97f8e2544f2063f69249a0ba2138b8272c34596661...</td>\n      <td>16628154</td>\n      <td>1676391755</td>\n      <td>0xb0399dac8f4d4100b49b2a7b3873481114229d18</td>\n      <td>0xc413dd03555f3eb29d834b482d386b2999dc2eb0</td>\n      <td>0xd998c35b7900b344bbbe6555cc11576942cf309d</td>\n      <td>0.631787</td>\n      <td>NaN</td>\n      <td>LENDER</td>\n      <td>...</td>\n      <td>0xc02aaa39b223fe8d0a0e5c4f27ead9083c756cc2</td>\n      <td>XAI Stablecoin</td>\n      <td>XAI</td>\n      <td>18</td>\n      <td>0.993048</td>\n      <td>100000000000000000000000</td>\n      <td>100169.938162</td>\n      <td>repay</td>\n      <td>2023-02-14 16:22:35</td>\n      <td>2023-02-14 16:22:35</td>\n    </tr>\n    <tr>\n      <th>5</th>\n      <td>0xfb97f8e2544f2063f69249a0ba2138b8272c34596661...</td>\n      <td>0xfb97f8e2544f2063f69249a0ba2138b8272c34596661...</td>\n      <td>16628154</td>\n      <td>1676391755</td>\n      <td>0xb0399dac8f4d4100b49b2a7b3873481114229d18</td>\n      <td>0xc413dd03555f3eb29d834b482d386b2999dc2eb0</td>\n      <td>0xd998c35b7900b344bbbe6555cc11576942cf309d</td>\n      <td>1.102212</td>\n      <td>NaN</td>\n      <td>LENDER</td>\n      <td>...</td>\n      <td>0xd7c9f0e536dc865ae858b0c0453fe76d13c3beac</td>\n      <td>XAI Stablecoin</td>\n      <td>XAI</td>\n      <td>18</td>\n      <td>0.993048</td>\n      <td>100000000000000000000000</td>\n      <td>100169.938162</td>\n      <td>repay</td>\n      <td>2023-02-14 16:22:35</td>\n      <td>2023-02-14 16:22:35</td>\n    </tr>\n  </tbody>\n</table>\n<p>6 rows × 21 columns</p>\n</div>"
     },
     "execution_count": 208,
     "metadata": {},
     "output_type": "execute_result"
    }
   ],
   "source": [
    "repaysDbTimed = pd.concat([oldRepaysDb,repaysDbDbTimed]).drop_duplicates().reset_index(drop=True)\n",
    "repaysDbTimed.sort_values(['transaction_id','transaction_market_rates_rate'])\n",
    "repaysDbTimed.drop_duplicates(keep='first' )\n",
    "\n",
    "repaysDbTimed = db.query(\"select \"\n",
    "               \"    * \"\n",
    "               \"From repaysDbDbTimed \"\n",
    "                         \"group by 1,2,3,4,5,6,7,8,9,10,11,12,13,14,15,16,17,18,19,20 \"\n",
    "                      \"order by transaction_amountUSD desc \"\n",
    "               #\"where lower(liquidityPools_name) like lower('%olympus%') \"\n",
    "                #    \"or lower(pairs_token1_symbol) like lower('%OHM%')  \"\n",
    "               #\" limit 100 \"\n",
    "               ).df()\n",
    "\n",
    "\n",
    "repaysDbTimed.head(100)"
   ],
   "metadata": {
    "collapsed": false
   }
  },
  {
   "cell_type": "code",
   "execution_count": 210,
   "outputs": [
    {
     "name": "stdout",
     "output_type": "stream",
     "text": [
      "D:\\Dropbox\\Documents\\Edgecaser LLC\\Projects\\Olympus\\Econohmetrics\\Lending\\results/siloFinance_repays_piped.csv file saved, 6  records\n"
     ]
    }
   ],
   "source": [
    "path =file+'/siloFinance_repays.csv'\n",
    "repaysDbTimed.to_csv(path, index = False)\n",
    "\n",
    "path =file+'/siloFinance_repays_piped.csv'\n",
    "repaysDbTimed.to_csv(path, index = False, sep='|')\n",
    "print(path, 'file saved,', len(repaysDbTimed),' records')"
   ],
   "metadata": {
    "collapsed": false
   }
  },
  {
   "cell_type": "markdown",
   "source": [
    "********************************************************************************************\n",
    "********************************************************************************************\n",
    "SILO DEPOSITS"
   ],
   "metadata": {
    "collapsed": false
   }
  },
  {
   "cell_type": "code",
   "execution_count": 215,
   "outputs": [
    {
     "data": {
      "text/plain": "                                      transaction_id  \\\n0  0x852e34f51e79d0b0695baaeffaccdd8c8406ba55e2c4...   \n1  0x852e34f51e79d0b0695baaeffaccdd8c8406ba55e2c4...   \n2  0x852e34f51e79d0b0695baaeffaccdd8c8406ba55e2c4...   \n3  0x852e34f51e79d0b0695baaeffaccdd8c8406ba55e2c4...   \n4  0x852e34f51e79d0b0695baaeffaccdd8c8406ba55e2c4...   \n5  0x852e34f51e79d0b0695baaeffaccdd8c8406ba55e2c4...   \n6  0x204aee0831212791916d6ed3a2c24b5ac2a474743713...   \n7  0x204aee0831212791916d6ed3a2c24b5ac2a474743713...   \n8  0x204aee0831212791916d6ed3a2c24b5ac2a474743713...   \n9  0x204aee0831212791916d6ed3a2c24b5ac2a474743713...   \n\n                                    transaction_hash  transaction_blockNumber  \\\n0  0x852e34f51e79d0b0695baaeffaccdd8c8406ba55e2c4...                 16570091   \n1  0x852e34f51e79d0b0695baaeffaccdd8c8406ba55e2c4...                 16570091   \n2  0x852e34f51e79d0b0695baaeffaccdd8c8406ba55e2c4...                 16570091   \n3  0x852e34f51e79d0b0695baaeffaccdd8c8406ba55e2c4...                 16570091   \n4  0x852e34f51e79d0b0695baaeffaccdd8c8406ba55e2c4...                 16570091   \n5  0x852e34f51e79d0b0695baaeffaccdd8c8406ba55e2c4...                 16570091   \n6  0x204aee0831212791916d6ed3a2c24b5ac2a474743713...                 16589368   \n7  0x204aee0831212791916d6ed3a2c24b5ac2a474743713...                 16589368   \n8  0x204aee0831212791916d6ed3a2c24b5ac2a474743713...                 16589368   \n9  0x204aee0831212791916d6ed3a2c24b5ac2a474743713...                 16589368   \n\n   transaction_timestamp                      transaction_account_id  \\\n0             1675690667  0xb98bc3e3b9ea8d86f6ee321737fa23710737f1af   \n1             1675690667  0xb98bc3e3b9ea8d86f6ee321737fa23710737f1af   \n2             1675690667  0xb98bc3e3b9ea8d86f6ee321737fa23710737f1af   \n3             1675690667  0xb98bc3e3b9ea8d86f6ee321737fa23710737f1af   \n4             1675690667  0xb98bc3e3b9ea8d86f6ee321737fa23710737f1af   \n5             1675690667  0xb98bc3e3b9ea8d86f6ee321737fa23710737f1af   \n6             1675923587  0xb0399dac8f4d4100b49b2a7b3873481114229d18   \n7             1675923587  0xb0399dac8f4d4100b49b2a7b3873481114229d18   \n8             1675923587  0xb0399dac8f4d4100b49b2a7b3873481114229d18   \n9             1675923587  0xb0399dac8f4d4100b49b2a7b3873481114229d18   \n\n                        transaction_market_id  \\\n0  0xc413dd03555f3eb29d834b482d386b2999dc2eb0   \n1  0xc413dd03555f3eb29d834b482d386b2999dc2eb0   \n2  0xc413dd03555f3eb29d834b482d386b2999dc2eb0   \n3  0xc413dd03555f3eb29d834b482d386b2999dc2eb0   \n4  0xc413dd03555f3eb29d834b482d386b2999dc2eb0   \n5  0xc413dd03555f3eb29d834b482d386b2999dc2eb0   \n6  0xc413dd03555f3eb29d834b482d386b2999dc2eb0   \n7  0xc413dd03555f3eb29d834b482d386b2999dc2eb0   \n8  0xc413dd03555f3eb29d834b482d386b2999dc2eb0   \n9  0xc413dd03555f3eb29d834b482d386b2999dc2eb0   \n\n               transaction_market_protocol_id  transaction_market_rates_rate  \\\n0  0xd998c35b7900b344bbbe6555cc11576942cf309d                       0.000000   \n1  0xd998c35b7900b344bbbe6555cc11576942cf309d                       2.278084   \n2  0xd998c35b7900b344bbbe6555cc11576942cf309d                       2.347562   \n3  0xd998c35b7900b344bbbe6555cc11576942cf309d                       0.000000   \n4  0xd998c35b7900b344bbbe6555cc11576942cf309d                       0.631787   \n5  0xd998c35b7900b344bbbe6555cc11576942cf309d                       1.102212   \n6  0xd998c35b7900b344bbbe6555cc11576942cf309d                       0.000000   \n7  0xd998c35b7900b344bbbe6555cc11576942cf309d                       2.278084   \n8  0xd998c35b7900b344bbbe6555cc11576942cf309d                       2.347562   \n9  0xd998c35b7900b344bbbe6555cc11576942cf309d                       0.000000   \n\n   transaction_market_rates_duration transaction_market_rates_side  \\\n0                                NaN                      BORROWER   \n1                                NaN                      BORROWER   \n2                                NaN                      BORROWER   \n3                                NaN                        LENDER   \n4                                NaN                        LENDER   \n5                                NaN                        LENDER   \n6                                NaN                      BORROWER   \n7                                NaN                      BORROWER   \n8                                NaN                      BORROWER   \n9                                NaN                        LENDER   \n\n  transaction_market_rates_type           transaction_market_rates_token_id  \\\n0                      VARIABLE  0x0ab87046fbb341d058f17cbc4c1133f25a20a52f   \n1                      VARIABLE  0xc02aaa39b223fe8d0a0e5c4f27ead9083c756cc2   \n2                      VARIABLE  0xd7c9f0e536dc865ae858b0c0453fe76d13c3beac   \n3                      VARIABLE  0x0ab87046fbb341d058f17cbc4c1133f25a20a52f   \n4                      VARIABLE  0xc02aaa39b223fe8d0a0e5c4f27ead9083c756cc2   \n5                      VARIABLE  0xd7c9f0e536dc865ae858b0c0453fe76d13c3beac   \n6                      VARIABLE  0x0ab87046fbb341d058f17cbc4c1133f25a20a52f   \n7                      VARIABLE  0xc02aaa39b223fe8d0a0e5c4f27ead9083c756cc2   \n8                      VARIABLE  0xd7c9f0e536dc865ae858b0c0453fe76d13c3beac   \n9                      VARIABLE  0x0ab87046fbb341d058f17cbc4c1133f25a20a52f   \n\n  transaction_asset_name transaction_asset_symbol  transaction_asset_decimals  \\\n0         XAI Stablecoin                      XAI                          18   \n1         XAI Stablecoin                      XAI                          18   \n2         XAI Stablecoin                      XAI                          18   \n3         XAI Stablecoin                      XAI                          18   \n4         XAI Stablecoin                      XAI                          18   \n5         XAI Stablecoin                      XAI                          18   \n6         Governance OHM                     gOHM                          18   \n7         Governance OHM                     gOHM                          18   \n8         Governance OHM                     gOHM                          18   \n9         Governance OHM                     gOHM                          18   \n\n   transaction_asset_lastPriceUSD        transaction_amount  \\\n0                        0.998196  400000000000000000000000   \n1                        0.998196  400000000000000000000000   \n2                        0.998196  400000000000000000000000   \n3                        0.998196  400000000000000000000000   \n4                        0.998196  400000000000000000000000   \n5                        0.998196  400000000000000000000000   \n6                     2805.495035     119000000000000000000   \n7                     2805.495035     119000000000000000000   \n8                     2805.495035     119000000000000000000   \n9                     2805.495035     119000000000000000000   \n\n   transaction_amountUSD    event             dateTime  \n0          398901.450853  deposit  2023-02-06 13:37:47  \n1          398901.450853  deposit  2023-02-06 13:37:47  \n2          398901.450853  deposit  2023-02-06 13:37:47  \n3          398901.450853  deposit  2023-02-06 13:37:47  \n4          398901.450853  deposit  2023-02-06 13:37:47  \n5          398901.450853  deposit  2023-02-06 13:37:47  \n6          315110.337935  deposit  2023-02-09 06:19:47  \n7          315110.337935  deposit  2023-02-09 06:19:47  \n8          315110.337935  deposit  2023-02-09 06:19:47  \n9          315110.337935  deposit  2023-02-09 06:19:47  ",
      "text/html": "<div>\n<style scoped>\n    .dataframe tbody tr th:only-of-type {\n        vertical-align: middle;\n    }\n\n    .dataframe tbody tr th {\n        vertical-align: top;\n    }\n\n    .dataframe thead th {\n        text-align: right;\n    }\n</style>\n<table border=\"1\" class=\"dataframe\">\n  <thead>\n    <tr style=\"text-align: right;\">\n      <th></th>\n      <th>transaction_id</th>\n      <th>transaction_hash</th>\n      <th>transaction_blockNumber</th>\n      <th>transaction_timestamp</th>\n      <th>transaction_account_id</th>\n      <th>transaction_market_id</th>\n      <th>transaction_market_protocol_id</th>\n      <th>transaction_market_rates_rate</th>\n      <th>transaction_market_rates_duration</th>\n      <th>transaction_market_rates_side</th>\n      <th>transaction_market_rates_type</th>\n      <th>transaction_market_rates_token_id</th>\n      <th>transaction_asset_name</th>\n      <th>transaction_asset_symbol</th>\n      <th>transaction_asset_decimals</th>\n      <th>transaction_asset_lastPriceUSD</th>\n      <th>transaction_amount</th>\n      <th>transaction_amountUSD</th>\n      <th>event</th>\n      <th>dateTime</th>\n    </tr>\n  </thead>\n  <tbody>\n    <tr>\n      <th>0</th>\n      <td>0x852e34f51e79d0b0695baaeffaccdd8c8406ba55e2c4...</td>\n      <td>0x852e34f51e79d0b0695baaeffaccdd8c8406ba55e2c4...</td>\n      <td>16570091</td>\n      <td>1675690667</td>\n      <td>0xb98bc3e3b9ea8d86f6ee321737fa23710737f1af</td>\n      <td>0xc413dd03555f3eb29d834b482d386b2999dc2eb0</td>\n      <td>0xd998c35b7900b344bbbe6555cc11576942cf309d</td>\n      <td>0.000000</td>\n      <td>NaN</td>\n      <td>BORROWER</td>\n      <td>VARIABLE</td>\n      <td>0x0ab87046fbb341d058f17cbc4c1133f25a20a52f</td>\n      <td>XAI Stablecoin</td>\n      <td>XAI</td>\n      <td>18</td>\n      <td>0.998196</td>\n      <td>400000000000000000000000</td>\n      <td>398901.450853</td>\n      <td>deposit</td>\n      <td>2023-02-06 13:37:47</td>\n    </tr>\n    <tr>\n      <th>1</th>\n      <td>0x852e34f51e79d0b0695baaeffaccdd8c8406ba55e2c4...</td>\n      <td>0x852e34f51e79d0b0695baaeffaccdd8c8406ba55e2c4...</td>\n      <td>16570091</td>\n      <td>1675690667</td>\n      <td>0xb98bc3e3b9ea8d86f6ee321737fa23710737f1af</td>\n      <td>0xc413dd03555f3eb29d834b482d386b2999dc2eb0</td>\n      <td>0xd998c35b7900b344bbbe6555cc11576942cf309d</td>\n      <td>2.278084</td>\n      <td>NaN</td>\n      <td>BORROWER</td>\n      <td>VARIABLE</td>\n      <td>0xc02aaa39b223fe8d0a0e5c4f27ead9083c756cc2</td>\n      <td>XAI Stablecoin</td>\n      <td>XAI</td>\n      <td>18</td>\n      <td>0.998196</td>\n      <td>400000000000000000000000</td>\n      <td>398901.450853</td>\n      <td>deposit</td>\n      <td>2023-02-06 13:37:47</td>\n    </tr>\n    <tr>\n      <th>2</th>\n      <td>0x852e34f51e79d0b0695baaeffaccdd8c8406ba55e2c4...</td>\n      <td>0x852e34f51e79d0b0695baaeffaccdd8c8406ba55e2c4...</td>\n      <td>16570091</td>\n      <td>1675690667</td>\n      <td>0xb98bc3e3b9ea8d86f6ee321737fa23710737f1af</td>\n      <td>0xc413dd03555f3eb29d834b482d386b2999dc2eb0</td>\n      <td>0xd998c35b7900b344bbbe6555cc11576942cf309d</td>\n      <td>2.347562</td>\n      <td>NaN</td>\n      <td>BORROWER</td>\n      <td>VARIABLE</td>\n      <td>0xd7c9f0e536dc865ae858b0c0453fe76d13c3beac</td>\n      <td>XAI Stablecoin</td>\n      <td>XAI</td>\n      <td>18</td>\n      <td>0.998196</td>\n      <td>400000000000000000000000</td>\n      <td>398901.450853</td>\n      <td>deposit</td>\n      <td>2023-02-06 13:37:47</td>\n    </tr>\n    <tr>\n      <th>3</th>\n      <td>0x852e34f51e79d0b0695baaeffaccdd8c8406ba55e2c4...</td>\n      <td>0x852e34f51e79d0b0695baaeffaccdd8c8406ba55e2c4...</td>\n      <td>16570091</td>\n      <td>1675690667</td>\n      <td>0xb98bc3e3b9ea8d86f6ee321737fa23710737f1af</td>\n      <td>0xc413dd03555f3eb29d834b482d386b2999dc2eb0</td>\n      <td>0xd998c35b7900b344bbbe6555cc11576942cf309d</td>\n      <td>0.000000</td>\n      <td>NaN</td>\n      <td>LENDER</td>\n      <td>VARIABLE</td>\n      <td>0x0ab87046fbb341d058f17cbc4c1133f25a20a52f</td>\n      <td>XAI Stablecoin</td>\n      <td>XAI</td>\n      <td>18</td>\n      <td>0.998196</td>\n      <td>400000000000000000000000</td>\n      <td>398901.450853</td>\n      <td>deposit</td>\n      <td>2023-02-06 13:37:47</td>\n    </tr>\n    <tr>\n      <th>4</th>\n      <td>0x852e34f51e79d0b0695baaeffaccdd8c8406ba55e2c4...</td>\n      <td>0x852e34f51e79d0b0695baaeffaccdd8c8406ba55e2c4...</td>\n      <td>16570091</td>\n      <td>1675690667</td>\n      <td>0xb98bc3e3b9ea8d86f6ee321737fa23710737f1af</td>\n      <td>0xc413dd03555f3eb29d834b482d386b2999dc2eb0</td>\n      <td>0xd998c35b7900b344bbbe6555cc11576942cf309d</td>\n      <td>0.631787</td>\n      <td>NaN</td>\n      <td>LENDER</td>\n      <td>VARIABLE</td>\n      <td>0xc02aaa39b223fe8d0a0e5c4f27ead9083c756cc2</td>\n      <td>XAI Stablecoin</td>\n      <td>XAI</td>\n      <td>18</td>\n      <td>0.998196</td>\n      <td>400000000000000000000000</td>\n      <td>398901.450853</td>\n      <td>deposit</td>\n      <td>2023-02-06 13:37:47</td>\n    </tr>\n    <tr>\n      <th>5</th>\n      <td>0x852e34f51e79d0b0695baaeffaccdd8c8406ba55e2c4...</td>\n      <td>0x852e34f51e79d0b0695baaeffaccdd8c8406ba55e2c4...</td>\n      <td>16570091</td>\n      <td>1675690667</td>\n      <td>0xb98bc3e3b9ea8d86f6ee321737fa23710737f1af</td>\n      <td>0xc413dd03555f3eb29d834b482d386b2999dc2eb0</td>\n      <td>0xd998c35b7900b344bbbe6555cc11576942cf309d</td>\n      <td>1.102212</td>\n      <td>NaN</td>\n      <td>LENDER</td>\n      <td>VARIABLE</td>\n      <td>0xd7c9f0e536dc865ae858b0c0453fe76d13c3beac</td>\n      <td>XAI Stablecoin</td>\n      <td>XAI</td>\n      <td>18</td>\n      <td>0.998196</td>\n      <td>400000000000000000000000</td>\n      <td>398901.450853</td>\n      <td>deposit</td>\n      <td>2023-02-06 13:37:47</td>\n    </tr>\n    <tr>\n      <th>6</th>\n      <td>0x204aee0831212791916d6ed3a2c24b5ac2a474743713...</td>\n      <td>0x204aee0831212791916d6ed3a2c24b5ac2a474743713...</td>\n      <td>16589368</td>\n      <td>1675923587</td>\n      <td>0xb0399dac8f4d4100b49b2a7b3873481114229d18</td>\n      <td>0xc413dd03555f3eb29d834b482d386b2999dc2eb0</td>\n      <td>0xd998c35b7900b344bbbe6555cc11576942cf309d</td>\n      <td>0.000000</td>\n      <td>NaN</td>\n      <td>BORROWER</td>\n      <td>VARIABLE</td>\n      <td>0x0ab87046fbb341d058f17cbc4c1133f25a20a52f</td>\n      <td>Governance OHM</td>\n      <td>gOHM</td>\n      <td>18</td>\n      <td>2805.495035</td>\n      <td>119000000000000000000</td>\n      <td>315110.337935</td>\n      <td>deposit</td>\n      <td>2023-02-09 06:19:47</td>\n    </tr>\n    <tr>\n      <th>7</th>\n      <td>0x204aee0831212791916d6ed3a2c24b5ac2a474743713...</td>\n      <td>0x204aee0831212791916d6ed3a2c24b5ac2a474743713...</td>\n      <td>16589368</td>\n      <td>1675923587</td>\n      <td>0xb0399dac8f4d4100b49b2a7b3873481114229d18</td>\n      <td>0xc413dd03555f3eb29d834b482d386b2999dc2eb0</td>\n      <td>0xd998c35b7900b344bbbe6555cc11576942cf309d</td>\n      <td>2.278084</td>\n      <td>NaN</td>\n      <td>BORROWER</td>\n      <td>VARIABLE</td>\n      <td>0xc02aaa39b223fe8d0a0e5c4f27ead9083c756cc2</td>\n      <td>Governance OHM</td>\n      <td>gOHM</td>\n      <td>18</td>\n      <td>2805.495035</td>\n      <td>119000000000000000000</td>\n      <td>315110.337935</td>\n      <td>deposit</td>\n      <td>2023-02-09 06:19:47</td>\n    </tr>\n    <tr>\n      <th>8</th>\n      <td>0x204aee0831212791916d6ed3a2c24b5ac2a474743713...</td>\n      <td>0x204aee0831212791916d6ed3a2c24b5ac2a474743713...</td>\n      <td>16589368</td>\n      <td>1675923587</td>\n      <td>0xb0399dac8f4d4100b49b2a7b3873481114229d18</td>\n      <td>0xc413dd03555f3eb29d834b482d386b2999dc2eb0</td>\n      <td>0xd998c35b7900b344bbbe6555cc11576942cf309d</td>\n      <td>2.347562</td>\n      <td>NaN</td>\n      <td>BORROWER</td>\n      <td>VARIABLE</td>\n      <td>0xd7c9f0e536dc865ae858b0c0453fe76d13c3beac</td>\n      <td>Governance OHM</td>\n      <td>gOHM</td>\n      <td>18</td>\n      <td>2805.495035</td>\n      <td>119000000000000000000</td>\n      <td>315110.337935</td>\n      <td>deposit</td>\n      <td>2023-02-09 06:19:47</td>\n    </tr>\n    <tr>\n      <th>9</th>\n      <td>0x204aee0831212791916d6ed3a2c24b5ac2a474743713...</td>\n      <td>0x204aee0831212791916d6ed3a2c24b5ac2a474743713...</td>\n      <td>16589368</td>\n      <td>1675923587</td>\n      <td>0xb0399dac8f4d4100b49b2a7b3873481114229d18</td>\n      <td>0xc413dd03555f3eb29d834b482d386b2999dc2eb0</td>\n      <td>0xd998c35b7900b344bbbe6555cc11576942cf309d</td>\n      <td>0.000000</td>\n      <td>NaN</td>\n      <td>LENDER</td>\n      <td>VARIABLE</td>\n      <td>0x0ab87046fbb341d058f17cbc4c1133f25a20a52f</td>\n      <td>Governance OHM</td>\n      <td>gOHM</td>\n      <td>18</td>\n      <td>2805.495035</td>\n      <td>119000000000000000000</td>\n      <td>315110.337935</td>\n      <td>deposit</td>\n      <td>2023-02-09 06:19:47</td>\n    </tr>\n  </tbody>\n</table>\n</div>"
     },
     "execution_count": 215,
     "metadata": {},
     "output_type": "execute_result"
    }
   ],
   "source": [
    "oldDepositsDb = pd.DataFrame()\n",
    "siloFileName = file+'/siloFinance_deposits.csv'\n",
    "try:\n",
    "    oldDepositsDb = pd.read_csv (siloFileName)\n",
    "except:\n",
    "    oldDepositsDb = pd.DataFrame()\n",
    "oldDepositsDb.head(10)"
   ],
   "metadata": {
    "collapsed": false
   }
  },
  {
   "cell_type": "code",
   "execution_count": 216,
   "outputs": [
    {
     "data": {
      "text/plain": "1676391138"
     },
     "execution_count": 216,
     "metadata": {},
     "output_type": "execute_result"
    }
   ],
   "source": [
    "maxSiloDepositTimestamp = 0\n",
    "try:\n",
    "    maxSiloDepositTimestamp = (max(0,oldDepositsDb['transaction_timestamp'].max()))-5\n",
    "except:\n",
    "        maxSiloDepositTimestamp = 0\n",
    "maxSiloDepositTimestamp = int(maxSiloDepositTimestamp)\n",
    "maxSiloDepositTimestamp"
   ],
   "metadata": {
    "collapsed": false
   }
  },
  {
   "cell_type": "code",
   "execution_count": 217,
   "outputs": [
    {
     "name": "stdout",
     "output_type": "stream",
     "text": [
      "iterations:  0 Lines skipped:  0 records collected:  6  - latest recordID:  0x721856559a766dd92144abd150363faf348af567988bc6a4079c2134f2c3a1da   0x721856559a766dd92144abd150363faf348af567988bc6a4079c2134f2c3a1da-136  - deposits DB length:  6  - latest record from:  2023-02-14 08:12:23 0 days ago\n",
      "Done. Total Records collected:  6\n"
     ]
    }
   ],
   "source": [
    "#this tracks the ENTIRE list of events for depositing gOHM for lending\n",
    "depositTicker = 0\n",
    "depositslist = pd.DataFrame()\n",
    "depositsDb = pd.DataFrame()\n",
    "depositListLength = 1000\n",
    "datediff = 0\n",
    "now=0\n",
    "daysAgo=0\n",
    "daysLimit = 45\n",
    "exit = False\n",
    "while exit==False:\n",
    "    skipValue = (depositTicker)*(1000)\n",
    "    deposits = silo.Query.deposits(\n",
    "        orderBy='timestamp',\n",
    "        orderDirection='desc',\n",
    "        first=1000,\n",
    "        skip = skipValue,\n",
    "        where={ 'market': '0xc413dd03555f3eb29d834b482d386b2999dc2eb0' #gOHM market\n",
    "                ,'timestamp_gte': maxSiloDepositTimestamp\n",
    "                }\n",
    "\n",
    "\n",
    "    )\n",
    "\n",
    "    depositslist = sg.query_df([\n",
    "        deposits.id\n",
    "        ,deposits.hash\n",
    "        ,deposits.blockNumber\n",
    "        ,deposits.timestamp\n",
    "        ,deposits.account.id\n",
    "        ,deposits.market.id\n",
    "        ,deposits.market.protocol.id\n",
    "        ,deposits.market.rates.rate\n",
    "        ,deposits.market.rates.duration\n",
    "        ,deposits.market.rates.side\n",
    "        ,deposits.market.rates.type\n",
    "        ,deposits.market.rates.token.id\n",
    "        ,deposits.asset.name\n",
    "        ,deposits.asset.symbol\n",
    "        ,deposits.asset.decimals\n",
    "        ,deposits.asset.lastPriceUSD\n",
    "        ,deposits.amount\n",
    "        ,deposits.amountUSD\n",
    "    ])\n",
    "\n",
    "    #depositslist.sort_values(by=['deposits_timestamp'])\n",
    "\n",
    "    depositsDb=pd.concat([depositsDb, depositslist])\n",
    "    recordTimestamp1 = depositsDb.iat[depositTicker,3]\n",
    "    recordTimestamp = dt.datetime.fromtimestamp( recordTimestamp1 )\n",
    "    now = (int(dt.datetime.utcnow().timestamp()))\n",
    "    datediff=abs(int(now) - recordTimestamp1)\n",
    "    daysAgo = int(datediff/86400)\n",
    "    depositsDbLength = len(depositsDb)\n",
    "    depositListLength = len(depositslist)\n",
    "    recordID = depositsDb.iat[depositTicker,0]\n",
    "    deposit = depositsDb.iat[depositTicker,1]\n",
    "    print(\"iterations: \", depositTicker, \"Lines skipped: \",skipValue, \"records collected: \", depositListLength, \" - latest recordID: \",deposit, \" \", recordID , \" - deposits DB length: \", depositsDbLength, \" - latest record from: \", recordTimestamp, daysAgo,\"days ago\")\n",
    "    #print(\"iterations: \", depositTicker, \"records collected: \", depositListLength, \" - userdb length: \", depositsDbLength)\n",
    "    depositTicker = depositTicker+1\n",
    "    if daysAgo>daysLimit: exit =True\n",
    "    if depositListLength<1000: exit =True\n",
    "\n",
    "#depositsDb.sort_values(by=['deposits_timestamp'])\n",
    "\n",
    "depositsDb.columns = depositsDb.columns.str.replace(\"deposits\", \"transaction\")\n",
    "depositsDb['event']='deposit'\n",
    "depositsDb.drop_duplicates\n",
    "print(\"Done. Total Records collected: \", depositsDbLength)"
   ],
   "metadata": {
    "collapsed": false
   }
  },
  {
   "cell_type": "code",
   "execution_count": 218,
   "outputs": [
    {
     "data": {
      "text/plain": "                                      transaction_id  \\\n0  0x721856559a766dd92144abd150363faf348af567988b...   \n1  0x721856559a766dd92144abd150363faf348af567988b...   \n2  0x721856559a766dd92144abd150363faf348af567988b...   \n3  0x721856559a766dd92144abd150363faf348af567988b...   \n4  0x721856559a766dd92144abd150363faf348af567988b...   \n5  0x721856559a766dd92144abd150363faf348af567988b...   \n\n                                    transaction_hash  transaction_blockNumber  \\\n0  0x721856559a766dd92144abd150363faf348af567988b...                 16628103   \n1  0x721856559a766dd92144abd150363faf348af567988b...                 16628103   \n2  0x721856559a766dd92144abd150363faf348af567988b...                 16628103   \n3  0x721856559a766dd92144abd150363faf348af567988b...                 16628103   \n4  0x721856559a766dd92144abd150363faf348af567988b...                 16628103   \n5  0x721856559a766dd92144abd150363faf348af567988b...                 16628103   \n\n   transaction_timestamp                      transaction_account_id  \\\n0             1676391143  0xc04f84a02cc65f14f4e8c982a7a467ee88c5311e   \n1             1676391143  0xc04f84a02cc65f14f4e8c982a7a467ee88c5311e   \n2             1676391143  0xc04f84a02cc65f14f4e8c982a7a467ee88c5311e   \n3             1676391143  0xc04f84a02cc65f14f4e8c982a7a467ee88c5311e   \n4             1676391143  0xc04f84a02cc65f14f4e8c982a7a467ee88c5311e   \n5             1676391143  0xc04f84a02cc65f14f4e8c982a7a467ee88c5311e   \n\n                        transaction_market_id  \\\n0  0xc413dd03555f3eb29d834b482d386b2999dc2eb0   \n1  0xc413dd03555f3eb29d834b482d386b2999dc2eb0   \n2  0xc413dd03555f3eb29d834b482d386b2999dc2eb0   \n3  0xc413dd03555f3eb29d834b482d386b2999dc2eb0   \n4  0xc413dd03555f3eb29d834b482d386b2999dc2eb0   \n5  0xc413dd03555f3eb29d834b482d386b2999dc2eb0   \n\n               transaction_market_protocol_id  transaction_market_rates_rate  \\\n0  0xd998c35b7900b344bbbe6555cc11576942cf309d                       0.000000   \n1  0xd998c35b7900b344bbbe6555cc11576942cf309d                       2.278084   \n2  0xd998c35b7900b344bbbe6555cc11576942cf309d                       2.347562   \n3  0xd998c35b7900b344bbbe6555cc11576942cf309d                       0.000000   \n4  0xd998c35b7900b344bbbe6555cc11576942cf309d                       0.631787   \n5  0xd998c35b7900b344bbbe6555cc11576942cf309d                       1.102212   \n\n  transaction_market_rates_duration transaction_market_rates_side  \\\n0                               NaN                      BORROWER   \n1                               NaN                      BORROWER   \n2                               NaN                      BORROWER   \n3                               NaN                        LENDER   \n4                               NaN                        LENDER   \n5                               NaN                        LENDER   \n\n  transaction_market_rates_type           transaction_market_rates_token_id  \\\n0                      VARIABLE  0x0ab87046fbb341d058f17cbc4c1133f25a20a52f   \n1                      VARIABLE  0xc02aaa39b223fe8d0a0e5c4f27ead9083c756cc2   \n2                      VARIABLE  0xd7c9f0e536dc865ae858b0c0453fe76d13c3beac   \n3                      VARIABLE  0x0ab87046fbb341d058f17cbc4c1133f25a20a52f   \n4                      VARIABLE  0xc02aaa39b223fe8d0a0e5c4f27ead9083c756cc2   \n5                      VARIABLE  0xd7c9f0e536dc865ae858b0c0453fe76d13c3beac   \n\n  transaction_asset_name transaction_asset_symbol  transaction_asset_decimals  \\\n0          Wrapped Ether                     WETH                          18   \n1          Wrapped Ether                     WETH                          18   \n2          Wrapped Ether                     WETH                          18   \n3          Wrapped Ether                     WETH                          18   \n4          Wrapped Ether                     WETH                          18   \n5          Wrapped Ether                     WETH                          18   \n\n   transaction_asset_lastPriceUSD   transaction_amount  transaction_amountUSD  \\\n0                     1550.378241  5000000000000000000            7751.891206   \n1                     1550.378241  5000000000000000000            7751.891206   \n2                     1550.378241  5000000000000000000            7751.891206   \n3                     1550.378241  5000000000000000000            7751.891206   \n4                     1550.378241  5000000000000000000            7751.891206   \n5                     1550.378241  5000000000000000000            7751.891206   \n\n     event            dateTime  \n0  deposit 2023-02-14 16:12:23  \n1  deposit 2023-02-14 16:12:23  \n2  deposit 2023-02-14 16:12:23  \n3  deposit 2023-02-14 16:12:23  \n4  deposit 2023-02-14 16:12:23  \n5  deposit 2023-02-14 16:12:23  ",
      "text/html": "<div>\n<style scoped>\n    .dataframe tbody tr th:only-of-type {\n        vertical-align: middle;\n    }\n\n    .dataframe tbody tr th {\n        vertical-align: top;\n    }\n\n    .dataframe thead th {\n        text-align: right;\n    }\n</style>\n<table border=\"1\" class=\"dataframe\">\n  <thead>\n    <tr style=\"text-align: right;\">\n      <th></th>\n      <th>transaction_id</th>\n      <th>transaction_hash</th>\n      <th>transaction_blockNumber</th>\n      <th>transaction_timestamp</th>\n      <th>transaction_account_id</th>\n      <th>transaction_market_id</th>\n      <th>transaction_market_protocol_id</th>\n      <th>transaction_market_rates_rate</th>\n      <th>transaction_market_rates_duration</th>\n      <th>transaction_market_rates_side</th>\n      <th>transaction_market_rates_type</th>\n      <th>transaction_market_rates_token_id</th>\n      <th>transaction_asset_name</th>\n      <th>transaction_asset_symbol</th>\n      <th>transaction_asset_decimals</th>\n      <th>transaction_asset_lastPriceUSD</th>\n      <th>transaction_amount</th>\n      <th>transaction_amountUSD</th>\n      <th>event</th>\n      <th>dateTime</th>\n    </tr>\n  </thead>\n  <tbody>\n    <tr>\n      <th>0</th>\n      <td>0x721856559a766dd92144abd150363faf348af567988b...</td>\n      <td>0x721856559a766dd92144abd150363faf348af567988b...</td>\n      <td>16628103</td>\n      <td>1676391143</td>\n      <td>0xc04f84a02cc65f14f4e8c982a7a467ee88c5311e</td>\n      <td>0xc413dd03555f3eb29d834b482d386b2999dc2eb0</td>\n      <td>0xd998c35b7900b344bbbe6555cc11576942cf309d</td>\n      <td>0.000000</td>\n      <td>NaN</td>\n      <td>BORROWER</td>\n      <td>VARIABLE</td>\n      <td>0x0ab87046fbb341d058f17cbc4c1133f25a20a52f</td>\n      <td>Wrapped Ether</td>\n      <td>WETH</td>\n      <td>18</td>\n      <td>1550.378241</td>\n      <td>5000000000000000000</td>\n      <td>7751.891206</td>\n      <td>deposit</td>\n      <td>2023-02-14 16:12:23</td>\n    </tr>\n    <tr>\n      <th>1</th>\n      <td>0x721856559a766dd92144abd150363faf348af567988b...</td>\n      <td>0x721856559a766dd92144abd150363faf348af567988b...</td>\n      <td>16628103</td>\n      <td>1676391143</td>\n      <td>0xc04f84a02cc65f14f4e8c982a7a467ee88c5311e</td>\n      <td>0xc413dd03555f3eb29d834b482d386b2999dc2eb0</td>\n      <td>0xd998c35b7900b344bbbe6555cc11576942cf309d</td>\n      <td>2.278084</td>\n      <td>NaN</td>\n      <td>BORROWER</td>\n      <td>VARIABLE</td>\n      <td>0xc02aaa39b223fe8d0a0e5c4f27ead9083c756cc2</td>\n      <td>Wrapped Ether</td>\n      <td>WETH</td>\n      <td>18</td>\n      <td>1550.378241</td>\n      <td>5000000000000000000</td>\n      <td>7751.891206</td>\n      <td>deposit</td>\n      <td>2023-02-14 16:12:23</td>\n    </tr>\n    <tr>\n      <th>2</th>\n      <td>0x721856559a766dd92144abd150363faf348af567988b...</td>\n      <td>0x721856559a766dd92144abd150363faf348af567988b...</td>\n      <td>16628103</td>\n      <td>1676391143</td>\n      <td>0xc04f84a02cc65f14f4e8c982a7a467ee88c5311e</td>\n      <td>0xc413dd03555f3eb29d834b482d386b2999dc2eb0</td>\n      <td>0xd998c35b7900b344bbbe6555cc11576942cf309d</td>\n      <td>2.347562</td>\n      <td>NaN</td>\n      <td>BORROWER</td>\n      <td>VARIABLE</td>\n      <td>0xd7c9f0e536dc865ae858b0c0453fe76d13c3beac</td>\n      <td>Wrapped Ether</td>\n      <td>WETH</td>\n      <td>18</td>\n      <td>1550.378241</td>\n      <td>5000000000000000000</td>\n      <td>7751.891206</td>\n      <td>deposit</td>\n      <td>2023-02-14 16:12:23</td>\n    </tr>\n    <tr>\n      <th>3</th>\n      <td>0x721856559a766dd92144abd150363faf348af567988b...</td>\n      <td>0x721856559a766dd92144abd150363faf348af567988b...</td>\n      <td>16628103</td>\n      <td>1676391143</td>\n      <td>0xc04f84a02cc65f14f4e8c982a7a467ee88c5311e</td>\n      <td>0xc413dd03555f3eb29d834b482d386b2999dc2eb0</td>\n      <td>0xd998c35b7900b344bbbe6555cc11576942cf309d</td>\n      <td>0.000000</td>\n      <td>NaN</td>\n      <td>LENDER</td>\n      <td>VARIABLE</td>\n      <td>0x0ab87046fbb341d058f17cbc4c1133f25a20a52f</td>\n      <td>Wrapped Ether</td>\n      <td>WETH</td>\n      <td>18</td>\n      <td>1550.378241</td>\n      <td>5000000000000000000</td>\n      <td>7751.891206</td>\n      <td>deposit</td>\n      <td>2023-02-14 16:12:23</td>\n    </tr>\n    <tr>\n      <th>4</th>\n      <td>0x721856559a766dd92144abd150363faf348af567988b...</td>\n      <td>0x721856559a766dd92144abd150363faf348af567988b...</td>\n      <td>16628103</td>\n      <td>1676391143</td>\n      <td>0xc04f84a02cc65f14f4e8c982a7a467ee88c5311e</td>\n      <td>0xc413dd03555f3eb29d834b482d386b2999dc2eb0</td>\n      <td>0xd998c35b7900b344bbbe6555cc11576942cf309d</td>\n      <td>0.631787</td>\n      <td>NaN</td>\n      <td>LENDER</td>\n      <td>VARIABLE</td>\n      <td>0xc02aaa39b223fe8d0a0e5c4f27ead9083c756cc2</td>\n      <td>Wrapped Ether</td>\n      <td>WETH</td>\n      <td>18</td>\n      <td>1550.378241</td>\n      <td>5000000000000000000</td>\n      <td>7751.891206</td>\n      <td>deposit</td>\n      <td>2023-02-14 16:12:23</td>\n    </tr>\n    <tr>\n      <th>5</th>\n      <td>0x721856559a766dd92144abd150363faf348af567988b...</td>\n      <td>0x721856559a766dd92144abd150363faf348af567988b...</td>\n      <td>16628103</td>\n      <td>1676391143</td>\n      <td>0xc04f84a02cc65f14f4e8c982a7a467ee88c5311e</td>\n      <td>0xc413dd03555f3eb29d834b482d386b2999dc2eb0</td>\n      <td>0xd998c35b7900b344bbbe6555cc11576942cf309d</td>\n      <td>1.102212</td>\n      <td>NaN</td>\n      <td>LENDER</td>\n      <td>VARIABLE</td>\n      <td>0xd7c9f0e536dc865ae858b0c0453fe76d13c3beac</td>\n      <td>Wrapped Ether</td>\n      <td>WETH</td>\n      <td>18</td>\n      <td>1550.378241</td>\n      <td>5000000000000000000</td>\n      <td>7751.891206</td>\n      <td>deposit</td>\n      <td>2023-02-14 16:12:23</td>\n    </tr>\n  </tbody>\n</table>\n</div>"
     },
     "execution_count": 218,
     "metadata": {},
     "output_type": "execute_result"
    }
   ],
   "source": [
    "#I swear I will figure out synthetic fields, but until then...\n",
    "depositsDbTimed = db.query(\"select \"\n",
    "               \"    * \"\n",
    "                    \" ,to_timestamp(transaction_timestamp::int) dateTime \"\n",
    "               \"From depositsDb \"\n",
    "               #\"where lower(liquidityPools_name) like lower('%olympus%') \"\n",
    "                #    \"or lower(pairs_token1_symbol) like lower('%OHM%')  \"\n",
    "               #\" limit 100 \"\n",
    "               ).df()\n",
    "depositsDbTimed.head(100)"
   ],
   "metadata": {
    "collapsed": false
   }
  },
  {
   "cell_type": "markdown",
   "source": [
    "Note the multiple interest rates."
   ],
   "metadata": {
    "collapsed": false
   }
  },
  {
   "cell_type": "code",
   "execution_count": 219,
   "outputs": [
    {
     "data": {
      "text/plain": "                                       transaction_id  \\\n0   0x852e34f51e79d0b0695baaeffaccdd8c8406ba55e2c4...   \n1   0x852e34f51e79d0b0695baaeffaccdd8c8406ba55e2c4...   \n2   0x852e34f51e79d0b0695baaeffaccdd8c8406ba55e2c4...   \n3   0x852e34f51e79d0b0695baaeffaccdd8c8406ba55e2c4...   \n4   0x852e34f51e79d0b0695baaeffaccdd8c8406ba55e2c4...   \n..                                                ...   \n95  0xb1a1646acf062ec3c3d9884adf46bef38f00728ca2fa...   \n96  0x52365addba1ce6381c7ab6220b9a6eed6e26efa1b813...   \n97  0x52365addba1ce6381c7ab6220b9a6eed6e26efa1b813...   \n98  0x52365addba1ce6381c7ab6220b9a6eed6e26efa1b813...   \n99  0x52365addba1ce6381c7ab6220b9a6eed6e26efa1b813...   \n\n                                     transaction_hash  \\\n0   0x852e34f51e79d0b0695baaeffaccdd8c8406ba55e2c4...   \n1   0x852e34f51e79d0b0695baaeffaccdd8c8406ba55e2c4...   \n2   0x852e34f51e79d0b0695baaeffaccdd8c8406ba55e2c4...   \n3   0x852e34f51e79d0b0695baaeffaccdd8c8406ba55e2c4...   \n4   0x852e34f51e79d0b0695baaeffaccdd8c8406ba55e2c4...   \n..                                                ...   \n95  0xb1a1646acf062ec3c3d9884adf46bef38f00728ca2fa...   \n96  0x52365addba1ce6381c7ab6220b9a6eed6e26efa1b813...   \n97  0x52365addba1ce6381c7ab6220b9a6eed6e26efa1b813...   \n98  0x52365addba1ce6381c7ab6220b9a6eed6e26efa1b813...   \n99  0x52365addba1ce6381c7ab6220b9a6eed6e26efa1b813...   \n\n    transaction_blockNumber  transaction_timestamp  \\\n0                  16570091             1675690667   \n1                  16570091             1675690667   \n2                  16570091             1675690667   \n3                  16570091             1675690667   \n4                  16570091             1675690667   \n..                      ...                    ...   \n95                 16580081             1675811315   \n96                 16533352             1675247075   \n97                 16533352             1675247075   \n98                 16533352             1675247075   \n99                 16533352             1675247075   \n\n                        transaction_account_id  \\\n0   0xb98bc3e3b9ea8d86f6ee321737fa23710737f1af   \n1   0xb98bc3e3b9ea8d86f6ee321737fa23710737f1af   \n2   0xb98bc3e3b9ea8d86f6ee321737fa23710737f1af   \n3   0xb98bc3e3b9ea8d86f6ee321737fa23710737f1af   \n4   0xb98bc3e3b9ea8d86f6ee321737fa23710737f1af   \n..                                         ...   \n95  0xb86cd2efc1f461beee8deec2c3f053ccb2781ef9   \n96  0x339fd7c17ce670e7821f2f2ee94ddd49771483da   \n97  0x339fd7c17ce670e7821f2f2ee94ddd49771483da   \n98  0x339fd7c17ce670e7821f2f2ee94ddd49771483da   \n99  0x339fd7c17ce670e7821f2f2ee94ddd49771483da   \n\n                         transaction_market_id  \\\n0   0xc413dd03555f3eb29d834b482d386b2999dc2eb0   \n1   0xc413dd03555f3eb29d834b482d386b2999dc2eb0   \n2   0xc413dd03555f3eb29d834b482d386b2999dc2eb0   \n3   0xc413dd03555f3eb29d834b482d386b2999dc2eb0   \n4   0xc413dd03555f3eb29d834b482d386b2999dc2eb0   \n..                                         ...   \n95  0xc413dd03555f3eb29d834b482d386b2999dc2eb0   \n96  0xc413dd03555f3eb29d834b482d386b2999dc2eb0   \n97  0xc413dd03555f3eb29d834b482d386b2999dc2eb0   \n98  0xc413dd03555f3eb29d834b482d386b2999dc2eb0   \n99  0xc413dd03555f3eb29d834b482d386b2999dc2eb0   \n\n                transaction_market_protocol_id  transaction_market_rates_rate  \\\n0   0xd998c35b7900b344bbbe6555cc11576942cf309d                       0.000000   \n1   0xd998c35b7900b344bbbe6555cc11576942cf309d                       2.278084   \n2   0xd998c35b7900b344bbbe6555cc11576942cf309d                       2.347562   \n3   0xd998c35b7900b344bbbe6555cc11576942cf309d                       0.000000   \n4   0xd998c35b7900b344bbbe6555cc11576942cf309d                       0.631787   \n..                                         ...                            ...   \n95  0xd998c35b7900b344bbbe6555cc11576942cf309d                       0.631787   \n96  0xd998c35b7900b344bbbe6555cc11576942cf309d                       0.000000   \n97  0xd998c35b7900b344bbbe6555cc11576942cf309d                       2.278084   \n98  0xd998c35b7900b344bbbe6555cc11576942cf309d                       2.347562   \n99  0xd998c35b7900b344bbbe6555cc11576942cf309d                       0.000000   \n\n   transaction_market_rates_duration transaction_market_rates_side  \\\n0                                NaN                      BORROWER   \n1                                NaN                      BORROWER   \n2                                NaN                      BORROWER   \n3                                NaN                        LENDER   \n4                                NaN                        LENDER   \n..                               ...                           ...   \n95                               NaN                        LENDER   \n96                               NaN                      BORROWER   \n97                               NaN                      BORROWER   \n98                               NaN                      BORROWER   \n99                               NaN                        LENDER   \n\n   transaction_market_rates_type           transaction_market_rates_token_id  \\\n0                       VARIABLE  0x0ab87046fbb341d058f17cbc4c1133f25a20a52f   \n1                       VARIABLE  0xc02aaa39b223fe8d0a0e5c4f27ead9083c756cc2   \n2                       VARIABLE  0xd7c9f0e536dc865ae858b0c0453fe76d13c3beac   \n3                       VARIABLE  0x0ab87046fbb341d058f17cbc4c1133f25a20a52f   \n4                       VARIABLE  0xc02aaa39b223fe8d0a0e5c4f27ead9083c756cc2   \n..                           ...                                         ...   \n95                      VARIABLE  0xc02aaa39b223fe8d0a0e5c4f27ead9083c756cc2   \n96                      VARIABLE  0x0ab87046fbb341d058f17cbc4c1133f25a20a52f   \n97                      VARIABLE  0xc02aaa39b223fe8d0a0e5c4f27ead9083c756cc2   \n98                      VARIABLE  0xd7c9f0e536dc865ae858b0c0453fe76d13c3beac   \n99                      VARIABLE  0x0ab87046fbb341d058f17cbc4c1133f25a20a52f   \n\n   transaction_asset_name transaction_asset_symbol  \\\n0          XAI Stablecoin                      XAI   \n1          XAI Stablecoin                      XAI   \n2          XAI Stablecoin                      XAI   \n3          XAI Stablecoin                      XAI   \n4          XAI Stablecoin                      XAI   \n..                    ...                      ...   \n95         Governance OHM                     gOHM   \n96         Governance OHM                     gOHM   \n97         Governance OHM                     gOHM   \n98         Governance OHM                     gOHM   \n99         Governance OHM                     gOHM   \n\n    transaction_asset_decimals  transaction_asset_lastPriceUSD  \\\n0                           18                        0.998196   \n1                           18                        0.998196   \n2                           18                        0.998196   \n3                           18                        0.998196   \n4                           18                        0.998196   \n..                         ...                             ...   \n95                          18                     2805.495035   \n96                          18                     2805.495035   \n97                          18                     2805.495035   \n98                          18                     2805.495035   \n99                          18                     2805.495035   \n\n          transaction_amount  transaction_amountUSD    event  \\\n0   400000000000000000000000          398901.450853  deposit   \n1   400000000000000000000000          398901.450853  deposit   \n2   400000000000000000000000          398901.450853  deposit   \n3   400000000000000000000000          398901.450853  deposit   \n4   400000000000000000000000          398901.450853  deposit   \n..                       ...                    ...      ...   \n95       4332178860677520639           11511.647778  deposit   \n96       4000000000000000000           10545.308750  deposit   \n97       4000000000000000000           10545.308750  deposit   \n98       4000000000000000000           10545.308750  deposit   \n99       4000000000000000000           10545.308750  deposit   \n\n               dateTime  \n0   2023-02-06 13:37:47  \n1   2023-02-06 13:37:47  \n2   2023-02-06 13:37:47  \n3   2023-02-06 13:37:47  \n4   2023-02-06 13:37:47  \n..                  ...  \n95  2023-02-07 23:08:35  \n96  2023-02-01 10:24:35  \n97  2023-02-01 10:24:35  \n98  2023-02-01 10:24:35  \n99  2023-02-01 10:24:35  \n\n[100 rows x 20 columns]",
      "text/html": "<div>\n<style scoped>\n    .dataframe tbody tr th:only-of-type {\n        vertical-align: middle;\n    }\n\n    .dataframe tbody tr th {\n        vertical-align: top;\n    }\n\n    .dataframe thead th {\n        text-align: right;\n    }\n</style>\n<table border=\"1\" class=\"dataframe\">\n  <thead>\n    <tr style=\"text-align: right;\">\n      <th></th>\n      <th>transaction_id</th>\n      <th>transaction_hash</th>\n      <th>transaction_blockNumber</th>\n      <th>transaction_timestamp</th>\n      <th>transaction_account_id</th>\n      <th>transaction_market_id</th>\n      <th>transaction_market_protocol_id</th>\n      <th>transaction_market_rates_rate</th>\n      <th>transaction_market_rates_duration</th>\n      <th>transaction_market_rates_side</th>\n      <th>transaction_market_rates_type</th>\n      <th>transaction_market_rates_token_id</th>\n      <th>transaction_asset_name</th>\n      <th>transaction_asset_symbol</th>\n      <th>transaction_asset_decimals</th>\n      <th>transaction_asset_lastPriceUSD</th>\n      <th>transaction_amount</th>\n      <th>transaction_amountUSD</th>\n      <th>event</th>\n      <th>dateTime</th>\n    </tr>\n  </thead>\n  <tbody>\n    <tr>\n      <th>0</th>\n      <td>0x852e34f51e79d0b0695baaeffaccdd8c8406ba55e2c4...</td>\n      <td>0x852e34f51e79d0b0695baaeffaccdd8c8406ba55e2c4...</td>\n      <td>16570091</td>\n      <td>1675690667</td>\n      <td>0xb98bc3e3b9ea8d86f6ee321737fa23710737f1af</td>\n      <td>0xc413dd03555f3eb29d834b482d386b2999dc2eb0</td>\n      <td>0xd998c35b7900b344bbbe6555cc11576942cf309d</td>\n      <td>0.000000</td>\n      <td>NaN</td>\n      <td>BORROWER</td>\n      <td>VARIABLE</td>\n      <td>0x0ab87046fbb341d058f17cbc4c1133f25a20a52f</td>\n      <td>XAI Stablecoin</td>\n      <td>XAI</td>\n      <td>18</td>\n      <td>0.998196</td>\n      <td>400000000000000000000000</td>\n      <td>398901.450853</td>\n      <td>deposit</td>\n      <td>2023-02-06 13:37:47</td>\n    </tr>\n    <tr>\n      <th>1</th>\n      <td>0x852e34f51e79d0b0695baaeffaccdd8c8406ba55e2c4...</td>\n      <td>0x852e34f51e79d0b0695baaeffaccdd8c8406ba55e2c4...</td>\n      <td>16570091</td>\n      <td>1675690667</td>\n      <td>0xb98bc3e3b9ea8d86f6ee321737fa23710737f1af</td>\n      <td>0xc413dd03555f3eb29d834b482d386b2999dc2eb0</td>\n      <td>0xd998c35b7900b344bbbe6555cc11576942cf309d</td>\n      <td>2.278084</td>\n      <td>NaN</td>\n      <td>BORROWER</td>\n      <td>VARIABLE</td>\n      <td>0xc02aaa39b223fe8d0a0e5c4f27ead9083c756cc2</td>\n      <td>XAI Stablecoin</td>\n      <td>XAI</td>\n      <td>18</td>\n      <td>0.998196</td>\n      <td>400000000000000000000000</td>\n      <td>398901.450853</td>\n      <td>deposit</td>\n      <td>2023-02-06 13:37:47</td>\n    </tr>\n    <tr>\n      <th>2</th>\n      <td>0x852e34f51e79d0b0695baaeffaccdd8c8406ba55e2c4...</td>\n      <td>0x852e34f51e79d0b0695baaeffaccdd8c8406ba55e2c4...</td>\n      <td>16570091</td>\n      <td>1675690667</td>\n      <td>0xb98bc3e3b9ea8d86f6ee321737fa23710737f1af</td>\n      <td>0xc413dd03555f3eb29d834b482d386b2999dc2eb0</td>\n      <td>0xd998c35b7900b344bbbe6555cc11576942cf309d</td>\n      <td>2.347562</td>\n      <td>NaN</td>\n      <td>BORROWER</td>\n      <td>VARIABLE</td>\n      <td>0xd7c9f0e536dc865ae858b0c0453fe76d13c3beac</td>\n      <td>XAI Stablecoin</td>\n      <td>XAI</td>\n      <td>18</td>\n      <td>0.998196</td>\n      <td>400000000000000000000000</td>\n      <td>398901.450853</td>\n      <td>deposit</td>\n      <td>2023-02-06 13:37:47</td>\n    </tr>\n    <tr>\n      <th>3</th>\n      <td>0x852e34f51e79d0b0695baaeffaccdd8c8406ba55e2c4...</td>\n      <td>0x852e34f51e79d0b0695baaeffaccdd8c8406ba55e2c4...</td>\n      <td>16570091</td>\n      <td>1675690667</td>\n      <td>0xb98bc3e3b9ea8d86f6ee321737fa23710737f1af</td>\n      <td>0xc413dd03555f3eb29d834b482d386b2999dc2eb0</td>\n      <td>0xd998c35b7900b344bbbe6555cc11576942cf309d</td>\n      <td>0.000000</td>\n      <td>NaN</td>\n      <td>LENDER</td>\n      <td>VARIABLE</td>\n      <td>0x0ab87046fbb341d058f17cbc4c1133f25a20a52f</td>\n      <td>XAI Stablecoin</td>\n      <td>XAI</td>\n      <td>18</td>\n      <td>0.998196</td>\n      <td>400000000000000000000000</td>\n      <td>398901.450853</td>\n      <td>deposit</td>\n      <td>2023-02-06 13:37:47</td>\n    </tr>\n    <tr>\n      <th>4</th>\n      <td>0x852e34f51e79d0b0695baaeffaccdd8c8406ba55e2c4...</td>\n      <td>0x852e34f51e79d0b0695baaeffaccdd8c8406ba55e2c4...</td>\n      <td>16570091</td>\n      <td>1675690667</td>\n      <td>0xb98bc3e3b9ea8d86f6ee321737fa23710737f1af</td>\n      <td>0xc413dd03555f3eb29d834b482d386b2999dc2eb0</td>\n      <td>0xd998c35b7900b344bbbe6555cc11576942cf309d</td>\n      <td>0.631787</td>\n      <td>NaN</td>\n      <td>LENDER</td>\n      <td>VARIABLE</td>\n      <td>0xc02aaa39b223fe8d0a0e5c4f27ead9083c756cc2</td>\n      <td>XAI Stablecoin</td>\n      <td>XAI</td>\n      <td>18</td>\n      <td>0.998196</td>\n      <td>400000000000000000000000</td>\n      <td>398901.450853</td>\n      <td>deposit</td>\n      <td>2023-02-06 13:37:47</td>\n    </tr>\n    <tr>\n      <th>...</th>\n      <td>...</td>\n      <td>...</td>\n      <td>...</td>\n      <td>...</td>\n      <td>...</td>\n      <td>...</td>\n      <td>...</td>\n      <td>...</td>\n      <td>...</td>\n      <td>...</td>\n      <td>...</td>\n      <td>...</td>\n      <td>...</td>\n      <td>...</td>\n      <td>...</td>\n      <td>...</td>\n      <td>...</td>\n      <td>...</td>\n      <td>...</td>\n      <td>...</td>\n    </tr>\n    <tr>\n      <th>95</th>\n      <td>0xb1a1646acf062ec3c3d9884adf46bef38f00728ca2fa...</td>\n      <td>0xb1a1646acf062ec3c3d9884adf46bef38f00728ca2fa...</td>\n      <td>16580081</td>\n      <td>1675811315</td>\n      <td>0xb86cd2efc1f461beee8deec2c3f053ccb2781ef9</td>\n      <td>0xc413dd03555f3eb29d834b482d386b2999dc2eb0</td>\n      <td>0xd998c35b7900b344bbbe6555cc11576942cf309d</td>\n      <td>0.631787</td>\n      <td>NaN</td>\n      <td>LENDER</td>\n      <td>VARIABLE</td>\n      <td>0xc02aaa39b223fe8d0a0e5c4f27ead9083c756cc2</td>\n      <td>Governance OHM</td>\n      <td>gOHM</td>\n      <td>18</td>\n      <td>2805.495035</td>\n      <td>4332178860677520639</td>\n      <td>11511.647778</td>\n      <td>deposit</td>\n      <td>2023-02-07 23:08:35</td>\n    </tr>\n    <tr>\n      <th>96</th>\n      <td>0x52365addba1ce6381c7ab6220b9a6eed6e26efa1b813...</td>\n      <td>0x52365addba1ce6381c7ab6220b9a6eed6e26efa1b813...</td>\n      <td>16533352</td>\n      <td>1675247075</td>\n      <td>0x339fd7c17ce670e7821f2f2ee94ddd49771483da</td>\n      <td>0xc413dd03555f3eb29d834b482d386b2999dc2eb0</td>\n      <td>0xd998c35b7900b344bbbe6555cc11576942cf309d</td>\n      <td>0.000000</td>\n      <td>NaN</td>\n      <td>BORROWER</td>\n      <td>VARIABLE</td>\n      <td>0x0ab87046fbb341d058f17cbc4c1133f25a20a52f</td>\n      <td>Governance OHM</td>\n      <td>gOHM</td>\n      <td>18</td>\n      <td>2805.495035</td>\n      <td>4000000000000000000</td>\n      <td>10545.308750</td>\n      <td>deposit</td>\n      <td>2023-02-01 10:24:35</td>\n    </tr>\n    <tr>\n      <th>97</th>\n      <td>0x52365addba1ce6381c7ab6220b9a6eed6e26efa1b813...</td>\n      <td>0x52365addba1ce6381c7ab6220b9a6eed6e26efa1b813...</td>\n      <td>16533352</td>\n      <td>1675247075</td>\n      <td>0x339fd7c17ce670e7821f2f2ee94ddd49771483da</td>\n      <td>0xc413dd03555f3eb29d834b482d386b2999dc2eb0</td>\n      <td>0xd998c35b7900b344bbbe6555cc11576942cf309d</td>\n      <td>2.278084</td>\n      <td>NaN</td>\n      <td>BORROWER</td>\n      <td>VARIABLE</td>\n      <td>0xc02aaa39b223fe8d0a0e5c4f27ead9083c756cc2</td>\n      <td>Governance OHM</td>\n      <td>gOHM</td>\n      <td>18</td>\n      <td>2805.495035</td>\n      <td>4000000000000000000</td>\n      <td>10545.308750</td>\n      <td>deposit</td>\n      <td>2023-02-01 10:24:35</td>\n    </tr>\n    <tr>\n      <th>98</th>\n      <td>0x52365addba1ce6381c7ab6220b9a6eed6e26efa1b813...</td>\n      <td>0x52365addba1ce6381c7ab6220b9a6eed6e26efa1b813...</td>\n      <td>16533352</td>\n      <td>1675247075</td>\n      <td>0x339fd7c17ce670e7821f2f2ee94ddd49771483da</td>\n      <td>0xc413dd03555f3eb29d834b482d386b2999dc2eb0</td>\n      <td>0xd998c35b7900b344bbbe6555cc11576942cf309d</td>\n      <td>2.347562</td>\n      <td>NaN</td>\n      <td>BORROWER</td>\n      <td>VARIABLE</td>\n      <td>0xd7c9f0e536dc865ae858b0c0453fe76d13c3beac</td>\n      <td>Governance OHM</td>\n      <td>gOHM</td>\n      <td>18</td>\n      <td>2805.495035</td>\n      <td>4000000000000000000</td>\n      <td>10545.308750</td>\n      <td>deposit</td>\n      <td>2023-02-01 10:24:35</td>\n    </tr>\n    <tr>\n      <th>99</th>\n      <td>0x52365addba1ce6381c7ab6220b9a6eed6e26efa1b813...</td>\n      <td>0x52365addba1ce6381c7ab6220b9a6eed6e26efa1b813...</td>\n      <td>16533352</td>\n      <td>1675247075</td>\n      <td>0x339fd7c17ce670e7821f2f2ee94ddd49771483da</td>\n      <td>0xc413dd03555f3eb29d834b482d386b2999dc2eb0</td>\n      <td>0xd998c35b7900b344bbbe6555cc11576942cf309d</td>\n      <td>0.000000</td>\n      <td>NaN</td>\n      <td>LENDER</td>\n      <td>VARIABLE</td>\n      <td>0x0ab87046fbb341d058f17cbc4c1133f25a20a52f</td>\n      <td>Governance OHM</td>\n      <td>gOHM</td>\n      <td>18</td>\n      <td>2805.495035</td>\n      <td>4000000000000000000</td>\n      <td>10545.308750</td>\n      <td>deposit</td>\n      <td>2023-02-01 10:24:35</td>\n    </tr>\n  </tbody>\n</table>\n<p>100 rows × 20 columns</p>\n</div>"
     },
     "execution_count": 219,
     "metadata": {},
     "output_type": "execute_result"
    }
   ],
   "source": [
    "depositsDbTimed = pd.concat([oldDepositsDb,depositsDbTimed]).drop_duplicates().reset_index(drop=True)\n",
    "depositsDbTimed.sort_values(['transaction_id','transaction_market_rates_rate'])\n",
    "depositsDbTimed.drop_duplicates(keep='first' )\n",
    "\n",
    "depositsDbTimed = db.query(\"select \"\n",
    "               \"    * \"\n",
    "               \"From depositsDbTimed \"\n",
    "                         \"group by 1,2,3,4,5,6,7,8,9,10,11,12,13,14,15,16,17,18,19,20 \"\n",
    "                      \"order by transaction_amountUSD desc \"\n",
    "               #\"where lower(liquidityPools_name) like lower('%olympus%') \"\n",
    "                #    \"or lower(pairs_token1_symbol) like lower('%OHM%')  \"\n",
    "               #\" limit 100 \"\n",
    "               ).df()\n",
    "\n",
    "\n",
    "depositsDbTimed.head(100)"
   ],
   "metadata": {
    "collapsed": false
   }
  },
  {
   "cell_type": "code",
   "execution_count": 221,
   "outputs": [
    {
     "name": "stdout",
     "output_type": "stream",
     "text": [
      "D:\\Dropbox\\Documents\\Edgecaser LLC\\Projects\\Olympus\\Econohmetrics\\Lending\\results/siloFinance_deposits_piped.csv file saved, 144  records\n"
     ]
    }
   ],
   "source": [
    "path =file+'/siloFinance_deposits.csv'\n",
    "depositsDbTimed.to_csv(path, index = False)\n",
    "\n",
    "path =file+'/siloFinance_deposits_piped.csv'\n",
    "depositsDbTimed.to_csv(path, index = False, sep='|')\n",
    "\n",
    "print(path, 'file saved,', len(borrowsDbTimed),' records')"
   ],
   "metadata": {
    "collapsed": false
   }
  },
  {
   "cell_type": "code",
   "execution_count": 222,
   "outputs": [
    {
     "name": "stdout",
     "output_type": "stream",
     "text": [
      "depoosit rows  286 , borrow rows  144 , repay rows  6 . Expected rows:  436\n"
     ]
    }
   ],
   "source": [
    "print(\"depoosit rows \",len(depositsDbTimed) ,\", borrow rows \", len(borrowsDbTimed),\", repay rows \", len(repaysDbTimed), \". Expected rows: \",(len(depositsDbTimed)+len(borrowsDbTimed))+len(repaysDbDbTimed) )"
   ],
   "metadata": {
    "collapsed": false
   }
  },
  {
   "cell_type": "code",
   "execution_count": 179,
   "outputs": [
    {
     "data": {
      "text/plain": "                                      transaction_id  \\\n0  0x852e34f51e79d0b0695baaeffaccdd8c8406ba55e2c4...   \n1  0x852e34f51e79d0b0695baaeffaccdd8c8406ba55e2c4...   \n2  0x852e34f51e79d0b0695baaeffaccdd8c8406ba55e2c4...   \n3  0x852e34f51e79d0b0695baaeffaccdd8c8406ba55e2c4...   \n4  0x852e34f51e79d0b0695baaeffaccdd8c8406ba55e2c4...   \n5  0x852e34f51e79d0b0695baaeffaccdd8c8406ba55e2c4...   \n6  0x204aee0831212791916d6ed3a2c24b5ac2a474743713...   \n7  0x204aee0831212791916d6ed3a2c24b5ac2a474743713...   \n8  0x204aee0831212791916d6ed3a2c24b5ac2a474743713...   \n9  0x204aee0831212791916d6ed3a2c24b5ac2a474743713...   \n\n                                    transaction_hash  transaction_blockNumber  \\\n0  0x852e34f51e79d0b0695baaeffaccdd8c8406ba55e2c4...                 16570091   \n1  0x852e34f51e79d0b0695baaeffaccdd8c8406ba55e2c4...                 16570091   \n2  0x852e34f51e79d0b0695baaeffaccdd8c8406ba55e2c4...                 16570091   \n3  0x852e34f51e79d0b0695baaeffaccdd8c8406ba55e2c4...                 16570091   \n4  0x852e34f51e79d0b0695baaeffaccdd8c8406ba55e2c4...                 16570091   \n5  0x852e34f51e79d0b0695baaeffaccdd8c8406ba55e2c4...                 16570091   \n6  0x204aee0831212791916d6ed3a2c24b5ac2a474743713...                 16589368   \n7  0x204aee0831212791916d6ed3a2c24b5ac2a474743713...                 16589368   \n8  0x204aee0831212791916d6ed3a2c24b5ac2a474743713...                 16589368   \n9  0x204aee0831212791916d6ed3a2c24b5ac2a474743713...                 16589368   \n\n   transaction_timestamp                      transaction_account_id  \\\n0             1675690667  0xb98bc3e3b9ea8d86f6ee321737fa23710737f1af   \n1             1675690667  0xb98bc3e3b9ea8d86f6ee321737fa23710737f1af   \n2             1675690667  0xb98bc3e3b9ea8d86f6ee321737fa23710737f1af   \n3             1675690667  0xb98bc3e3b9ea8d86f6ee321737fa23710737f1af   \n4             1675690667  0xb98bc3e3b9ea8d86f6ee321737fa23710737f1af   \n5             1675690667  0xb98bc3e3b9ea8d86f6ee321737fa23710737f1af   \n6             1675923587  0xb0399dac8f4d4100b49b2a7b3873481114229d18   \n7             1675923587  0xb0399dac8f4d4100b49b2a7b3873481114229d18   \n8             1675923587  0xb0399dac8f4d4100b49b2a7b3873481114229d18   \n9             1675923587  0xb0399dac8f4d4100b49b2a7b3873481114229d18   \n\n                        transaction_market_id  \\\n0  0xc413dd03555f3eb29d834b482d386b2999dc2eb0   \n1  0xc413dd03555f3eb29d834b482d386b2999dc2eb0   \n2  0xc413dd03555f3eb29d834b482d386b2999dc2eb0   \n3  0xc413dd03555f3eb29d834b482d386b2999dc2eb0   \n4  0xc413dd03555f3eb29d834b482d386b2999dc2eb0   \n5  0xc413dd03555f3eb29d834b482d386b2999dc2eb0   \n6  0xc413dd03555f3eb29d834b482d386b2999dc2eb0   \n7  0xc413dd03555f3eb29d834b482d386b2999dc2eb0   \n8  0xc413dd03555f3eb29d834b482d386b2999dc2eb0   \n9  0xc413dd03555f3eb29d834b482d386b2999dc2eb0   \n\n               transaction_market_protocol_id  transaction_market_rates_rate  \\\n0  0xd998c35b7900b344bbbe6555cc11576942cf309d                       0.000000   \n1  0xd998c35b7900b344bbbe6555cc11576942cf309d                       2.278084   \n2  0xd998c35b7900b344bbbe6555cc11576942cf309d                       2.347562   \n3  0xd998c35b7900b344bbbe6555cc11576942cf309d                       0.000000   \n4  0xd998c35b7900b344bbbe6555cc11576942cf309d                       0.631787   \n5  0xd998c35b7900b344bbbe6555cc11576942cf309d                       1.102212   \n6  0xd998c35b7900b344bbbe6555cc11576942cf309d                       0.000000   \n7  0xd998c35b7900b344bbbe6555cc11576942cf309d                       2.278084   \n8  0xd998c35b7900b344bbbe6555cc11576942cf309d                       2.347562   \n9  0xd998c35b7900b344bbbe6555cc11576942cf309d                       0.000000   \n\n  transaction_market_rates_duration transaction_market_rates_side  ...  \\\n0                               NaN                      BORROWER  ...   \n1                               NaN                      BORROWER  ...   \n2                               NaN                      BORROWER  ...   \n3                               NaN                        LENDER  ...   \n4                               NaN                        LENDER  ...   \n5                               NaN                        LENDER  ...   \n6                               NaN                      BORROWER  ...   \n7                               NaN                      BORROWER  ...   \n8                               NaN                      BORROWER  ...   \n9                               NaN                        LENDER  ...   \n\n            transaction_market_rates_token_id transaction_asset_name  \\\n0  0x0ab87046fbb341d058f17cbc4c1133f25a20a52f         XAI Stablecoin   \n1  0xc02aaa39b223fe8d0a0e5c4f27ead9083c756cc2         XAI Stablecoin   \n2  0xd7c9f0e536dc865ae858b0c0453fe76d13c3beac         XAI Stablecoin   \n3  0x0ab87046fbb341d058f17cbc4c1133f25a20a52f         XAI Stablecoin   \n4  0xc02aaa39b223fe8d0a0e5c4f27ead9083c756cc2         XAI Stablecoin   \n5  0xd7c9f0e536dc865ae858b0c0453fe76d13c3beac         XAI Stablecoin   \n6  0x0ab87046fbb341d058f17cbc4c1133f25a20a52f         Governance OHM   \n7  0xc02aaa39b223fe8d0a0e5c4f27ead9083c756cc2         Governance OHM   \n8  0xd7c9f0e536dc865ae858b0c0453fe76d13c3beac         Governance OHM   \n9  0x0ab87046fbb341d058f17cbc4c1133f25a20a52f         Governance OHM   \n\n  transaction_asset_symbol transaction_asset_decimals  \\\n0                      XAI                         18   \n1                      XAI                         18   \n2                      XAI                         18   \n3                      XAI                         18   \n4                      XAI                         18   \n5                      XAI                         18   \n6                     gOHM                         18   \n7                     gOHM                         18   \n8                     gOHM                         18   \n9                     gOHM                         18   \n\n   transaction_asset_lastPriceUSD        transaction_amount  \\\n0                        0.998196  400000000000000000000000   \n1                        0.998196  400000000000000000000000   \n2                        0.998196  400000000000000000000000   \n3                        0.998196  400000000000000000000000   \n4                        0.998196  400000000000000000000000   \n5                        0.998196  400000000000000000000000   \n6                     2805.495035     119000000000000000000   \n7                     2805.495035     119000000000000000000   \n8                     2805.495035     119000000000000000000   \n9                     2805.495035     119000000000000000000   \n\n  transaction_amountUSD    event             dateTime dateTime_2  \n0         398901.450853  deposit  2023-02-06 13:37:47        NaT  \n1         398901.450853  deposit  2023-02-06 13:37:47        NaT  \n2         398901.450853  deposit  2023-02-06 13:37:47        NaT  \n3         398901.450853  deposit  2023-02-06 13:37:47        NaT  \n4         398901.450853  deposit  2023-02-06 13:37:47        NaT  \n5         398901.450853  deposit  2023-02-06 13:37:47        NaT  \n6         315110.337935  deposit  2023-02-09 06:19:47        NaT  \n7         315110.337935  deposit  2023-02-09 06:19:47        NaT  \n8         315110.337935  deposit  2023-02-09 06:19:47        NaT  \n9         315110.337935  deposit  2023-02-09 06:19:47        NaT  \n\n[10 rows x 21 columns]",
      "text/html": "<div>\n<style scoped>\n    .dataframe tbody tr th:only-of-type {\n        vertical-align: middle;\n    }\n\n    .dataframe tbody tr th {\n        vertical-align: top;\n    }\n\n    .dataframe thead th {\n        text-align: right;\n    }\n</style>\n<table border=\"1\" class=\"dataframe\">\n  <thead>\n    <tr style=\"text-align: right;\">\n      <th></th>\n      <th>transaction_id</th>\n      <th>transaction_hash</th>\n      <th>transaction_blockNumber</th>\n      <th>transaction_timestamp</th>\n      <th>transaction_account_id</th>\n      <th>transaction_market_id</th>\n      <th>transaction_market_protocol_id</th>\n      <th>transaction_market_rates_rate</th>\n      <th>transaction_market_rates_duration</th>\n      <th>transaction_market_rates_side</th>\n      <th>...</th>\n      <th>transaction_market_rates_token_id</th>\n      <th>transaction_asset_name</th>\n      <th>transaction_asset_symbol</th>\n      <th>transaction_asset_decimals</th>\n      <th>transaction_asset_lastPriceUSD</th>\n      <th>transaction_amount</th>\n      <th>transaction_amountUSD</th>\n      <th>event</th>\n      <th>dateTime</th>\n      <th>dateTime_2</th>\n    </tr>\n  </thead>\n  <tbody>\n    <tr>\n      <th>0</th>\n      <td>0x852e34f51e79d0b0695baaeffaccdd8c8406ba55e2c4...</td>\n      <td>0x852e34f51e79d0b0695baaeffaccdd8c8406ba55e2c4...</td>\n      <td>16570091</td>\n      <td>1675690667</td>\n      <td>0xb98bc3e3b9ea8d86f6ee321737fa23710737f1af</td>\n      <td>0xc413dd03555f3eb29d834b482d386b2999dc2eb0</td>\n      <td>0xd998c35b7900b344bbbe6555cc11576942cf309d</td>\n      <td>0.000000</td>\n      <td>NaN</td>\n      <td>BORROWER</td>\n      <td>...</td>\n      <td>0x0ab87046fbb341d058f17cbc4c1133f25a20a52f</td>\n      <td>XAI Stablecoin</td>\n      <td>XAI</td>\n      <td>18</td>\n      <td>0.998196</td>\n      <td>400000000000000000000000</td>\n      <td>398901.450853</td>\n      <td>deposit</td>\n      <td>2023-02-06 13:37:47</td>\n      <td>NaT</td>\n    </tr>\n    <tr>\n      <th>1</th>\n      <td>0x852e34f51e79d0b0695baaeffaccdd8c8406ba55e2c4...</td>\n      <td>0x852e34f51e79d0b0695baaeffaccdd8c8406ba55e2c4...</td>\n      <td>16570091</td>\n      <td>1675690667</td>\n      <td>0xb98bc3e3b9ea8d86f6ee321737fa23710737f1af</td>\n      <td>0xc413dd03555f3eb29d834b482d386b2999dc2eb0</td>\n      <td>0xd998c35b7900b344bbbe6555cc11576942cf309d</td>\n      <td>2.278084</td>\n      <td>NaN</td>\n      <td>BORROWER</td>\n      <td>...</td>\n      <td>0xc02aaa39b223fe8d0a0e5c4f27ead9083c756cc2</td>\n      <td>XAI Stablecoin</td>\n      <td>XAI</td>\n      <td>18</td>\n      <td>0.998196</td>\n      <td>400000000000000000000000</td>\n      <td>398901.450853</td>\n      <td>deposit</td>\n      <td>2023-02-06 13:37:47</td>\n      <td>NaT</td>\n    </tr>\n    <tr>\n      <th>2</th>\n      <td>0x852e34f51e79d0b0695baaeffaccdd8c8406ba55e2c4...</td>\n      <td>0x852e34f51e79d0b0695baaeffaccdd8c8406ba55e2c4...</td>\n      <td>16570091</td>\n      <td>1675690667</td>\n      <td>0xb98bc3e3b9ea8d86f6ee321737fa23710737f1af</td>\n      <td>0xc413dd03555f3eb29d834b482d386b2999dc2eb0</td>\n      <td>0xd998c35b7900b344bbbe6555cc11576942cf309d</td>\n      <td>2.347562</td>\n      <td>NaN</td>\n      <td>BORROWER</td>\n      <td>...</td>\n      <td>0xd7c9f0e536dc865ae858b0c0453fe76d13c3beac</td>\n      <td>XAI Stablecoin</td>\n      <td>XAI</td>\n      <td>18</td>\n      <td>0.998196</td>\n      <td>400000000000000000000000</td>\n      <td>398901.450853</td>\n      <td>deposit</td>\n      <td>2023-02-06 13:37:47</td>\n      <td>NaT</td>\n    </tr>\n    <tr>\n      <th>3</th>\n      <td>0x852e34f51e79d0b0695baaeffaccdd8c8406ba55e2c4...</td>\n      <td>0x852e34f51e79d0b0695baaeffaccdd8c8406ba55e2c4...</td>\n      <td>16570091</td>\n      <td>1675690667</td>\n      <td>0xb98bc3e3b9ea8d86f6ee321737fa23710737f1af</td>\n      <td>0xc413dd03555f3eb29d834b482d386b2999dc2eb0</td>\n      <td>0xd998c35b7900b344bbbe6555cc11576942cf309d</td>\n      <td>0.000000</td>\n      <td>NaN</td>\n      <td>LENDER</td>\n      <td>...</td>\n      <td>0x0ab87046fbb341d058f17cbc4c1133f25a20a52f</td>\n      <td>XAI Stablecoin</td>\n      <td>XAI</td>\n      <td>18</td>\n      <td>0.998196</td>\n      <td>400000000000000000000000</td>\n      <td>398901.450853</td>\n      <td>deposit</td>\n      <td>2023-02-06 13:37:47</td>\n      <td>NaT</td>\n    </tr>\n    <tr>\n      <th>4</th>\n      <td>0x852e34f51e79d0b0695baaeffaccdd8c8406ba55e2c4...</td>\n      <td>0x852e34f51e79d0b0695baaeffaccdd8c8406ba55e2c4...</td>\n      <td>16570091</td>\n      <td>1675690667</td>\n      <td>0xb98bc3e3b9ea8d86f6ee321737fa23710737f1af</td>\n      <td>0xc413dd03555f3eb29d834b482d386b2999dc2eb0</td>\n      <td>0xd998c35b7900b344bbbe6555cc11576942cf309d</td>\n      <td>0.631787</td>\n      <td>NaN</td>\n      <td>LENDER</td>\n      <td>...</td>\n      <td>0xc02aaa39b223fe8d0a0e5c4f27ead9083c756cc2</td>\n      <td>XAI Stablecoin</td>\n      <td>XAI</td>\n      <td>18</td>\n      <td>0.998196</td>\n      <td>400000000000000000000000</td>\n      <td>398901.450853</td>\n      <td>deposit</td>\n      <td>2023-02-06 13:37:47</td>\n      <td>NaT</td>\n    </tr>\n    <tr>\n      <th>5</th>\n      <td>0x852e34f51e79d0b0695baaeffaccdd8c8406ba55e2c4...</td>\n      <td>0x852e34f51e79d0b0695baaeffaccdd8c8406ba55e2c4...</td>\n      <td>16570091</td>\n      <td>1675690667</td>\n      <td>0xb98bc3e3b9ea8d86f6ee321737fa23710737f1af</td>\n      <td>0xc413dd03555f3eb29d834b482d386b2999dc2eb0</td>\n      <td>0xd998c35b7900b344bbbe6555cc11576942cf309d</td>\n      <td>1.102212</td>\n      <td>NaN</td>\n      <td>LENDER</td>\n      <td>...</td>\n      <td>0xd7c9f0e536dc865ae858b0c0453fe76d13c3beac</td>\n      <td>XAI Stablecoin</td>\n      <td>XAI</td>\n      <td>18</td>\n      <td>0.998196</td>\n      <td>400000000000000000000000</td>\n      <td>398901.450853</td>\n      <td>deposit</td>\n      <td>2023-02-06 13:37:47</td>\n      <td>NaT</td>\n    </tr>\n    <tr>\n      <th>6</th>\n      <td>0x204aee0831212791916d6ed3a2c24b5ac2a474743713...</td>\n      <td>0x204aee0831212791916d6ed3a2c24b5ac2a474743713...</td>\n      <td>16589368</td>\n      <td>1675923587</td>\n      <td>0xb0399dac8f4d4100b49b2a7b3873481114229d18</td>\n      <td>0xc413dd03555f3eb29d834b482d386b2999dc2eb0</td>\n      <td>0xd998c35b7900b344bbbe6555cc11576942cf309d</td>\n      <td>0.000000</td>\n      <td>NaN</td>\n      <td>BORROWER</td>\n      <td>...</td>\n      <td>0x0ab87046fbb341d058f17cbc4c1133f25a20a52f</td>\n      <td>Governance OHM</td>\n      <td>gOHM</td>\n      <td>18</td>\n      <td>2805.495035</td>\n      <td>119000000000000000000</td>\n      <td>315110.337935</td>\n      <td>deposit</td>\n      <td>2023-02-09 06:19:47</td>\n      <td>NaT</td>\n    </tr>\n    <tr>\n      <th>7</th>\n      <td>0x204aee0831212791916d6ed3a2c24b5ac2a474743713...</td>\n      <td>0x204aee0831212791916d6ed3a2c24b5ac2a474743713...</td>\n      <td>16589368</td>\n      <td>1675923587</td>\n      <td>0xb0399dac8f4d4100b49b2a7b3873481114229d18</td>\n      <td>0xc413dd03555f3eb29d834b482d386b2999dc2eb0</td>\n      <td>0xd998c35b7900b344bbbe6555cc11576942cf309d</td>\n      <td>2.278084</td>\n      <td>NaN</td>\n      <td>BORROWER</td>\n      <td>...</td>\n      <td>0xc02aaa39b223fe8d0a0e5c4f27ead9083c756cc2</td>\n      <td>Governance OHM</td>\n      <td>gOHM</td>\n      <td>18</td>\n      <td>2805.495035</td>\n      <td>119000000000000000000</td>\n      <td>315110.337935</td>\n      <td>deposit</td>\n      <td>2023-02-09 06:19:47</td>\n      <td>NaT</td>\n    </tr>\n    <tr>\n      <th>8</th>\n      <td>0x204aee0831212791916d6ed3a2c24b5ac2a474743713...</td>\n      <td>0x204aee0831212791916d6ed3a2c24b5ac2a474743713...</td>\n      <td>16589368</td>\n      <td>1675923587</td>\n      <td>0xb0399dac8f4d4100b49b2a7b3873481114229d18</td>\n      <td>0xc413dd03555f3eb29d834b482d386b2999dc2eb0</td>\n      <td>0xd998c35b7900b344bbbe6555cc11576942cf309d</td>\n      <td>2.347562</td>\n      <td>NaN</td>\n      <td>BORROWER</td>\n      <td>...</td>\n      <td>0xd7c9f0e536dc865ae858b0c0453fe76d13c3beac</td>\n      <td>Governance OHM</td>\n      <td>gOHM</td>\n      <td>18</td>\n      <td>2805.495035</td>\n      <td>119000000000000000000</td>\n      <td>315110.337935</td>\n      <td>deposit</td>\n      <td>2023-02-09 06:19:47</td>\n      <td>NaT</td>\n    </tr>\n    <tr>\n      <th>9</th>\n      <td>0x204aee0831212791916d6ed3a2c24b5ac2a474743713...</td>\n      <td>0x204aee0831212791916d6ed3a2c24b5ac2a474743713...</td>\n      <td>16589368</td>\n      <td>1675923587</td>\n      <td>0xb0399dac8f4d4100b49b2a7b3873481114229d18</td>\n      <td>0xc413dd03555f3eb29d834b482d386b2999dc2eb0</td>\n      <td>0xd998c35b7900b344bbbe6555cc11576942cf309d</td>\n      <td>0.000000</td>\n      <td>NaN</td>\n      <td>LENDER</td>\n      <td>...</td>\n      <td>0x0ab87046fbb341d058f17cbc4c1133f25a20a52f</td>\n      <td>Governance OHM</td>\n      <td>gOHM</td>\n      <td>18</td>\n      <td>2805.495035</td>\n      <td>119000000000000000000</td>\n      <td>315110.337935</td>\n      <td>deposit</td>\n      <td>2023-02-09 06:19:47</td>\n      <td>NaT</td>\n    </tr>\n  </tbody>\n</table>\n<p>10 rows × 21 columns</p>\n</div>"
     },
     "execution_count": 179,
     "metadata": {},
     "output_type": "execute_result"
    }
   ],
   "source": [
    "siloEventsDb = pd.DataFrame()\n",
    "siloEventsDbTimed=pd.concat([depositsDbTimed, borrowsDbTimed,repaysDbTimed])\n",
    "siloEventsDbTimed.drop_duplicates\n",
    "siloEventsDbTimed.head(10)"
   ],
   "metadata": {
    "collapsed": false
   }
  },
  {
   "cell_type": "code",
   "execution_count": 180,
   "outputs": [
    {
     "name": "stdout",
     "output_type": "stream",
     "text": [
      "file saved\n"
     ]
    }
   ],
   "source": [
    "path =file+'/siloFinance_events.csv'\n",
    "siloEventsDbTimed.to_csv(path, index = False)\n",
    "\n",
    "path =file+'/siloFinance_events.csv'\n",
    "siloEventsDbTimed.to_csv(path, index = False, sep='|')\n",
    "print('file saved')"
   ],
   "metadata": {
    "collapsed": false
   }
  },
  {
   "cell_type": "code",
   "execution_count": null,
   "outputs": [],
   "source": [
    "********************************************************************************************\n",
    "********************************************************************************************\n",
    "SILO INTEREST RATES"
   ],
   "metadata": {
    "collapsed": false
   }
  },
  {
   "cell_type": "code",
   "execution_count": 91,
   "outputs": [
    {
     "name": "stdout",
     "output_type": "stream",
     "text": [
      "iterations:  0 Lines skipped:  0 records collected:  6\n",
      "Done. Total Records collected:  6\n"
     ]
    }
   ],
   "source": [
    "#let's pull interest rate data\n",
    "interestRateTicker = 0\n",
    "interestRateslist = pd.DataFrame()\n",
    "interestRatesDb = pd.DataFrame()\n",
    "interestRateListLength = 1000\n",
    "datediff = 0\n",
    "now=0\n",
    "daysAgo=0\n",
    "daysLimit = 45\n",
    "exit = False\n",
    "while exit==False:\n",
    "    skipValue = (interestRateTicker)*(1000)\n",
    "    interestRates = silo.Query.interestRates(\n",
    "        orderBy='id',\n",
    "        orderDirection='desc',\n",
    "        first=1000,\n",
    "        skip = skipValue,\n",
    "        where={ 'market': '0xc413dd03555f3eb29d834b482d386b2999dc2eb0' } #gOHM market\n",
    "\n",
    "    )\n",
    "\n",
    "    interestRateslist = sg.query_df([\n",
    "        interestRates.id\n",
    "        ,interestRates.rate #5.21% should be stored as 5.21\n",
    "        ,interestRates.duration #in days\n",
    "        ,interestRates.maturityBlock #Maturity of the loan in block height. Only applies to fixed term lending (e.g. Notional)\n",
    "        ,interestRates.side #The party the interest is paid to / received from\n",
    "        ,interestRates.type #The type of interest rate (e.g. stable, fixed, variable, etc)\n",
    "        ,interestRates.market\n",
    "        ,interestRates.marketAsset\n",
    "        ,interestRates.token\n",
    "    ])\n",
    "\n",
    "    #interestRateslist.sort_values(by=['interestRates_timestamp'])\n",
    "\n",
    "    interestRatesDb=pd.concat([interestRateslist, interestRatesDb])\n",
    "    interestRatesDbLength = len(interestRatesDb)\n",
    "    interestRateListLength = len(interestRateslist)\n",
    "    print(\"iterations: \", interestRateTicker, \"Lines skipped: \",skipValue, \"records collected: \", interestRateListLength)\n",
    "    #print(\"iterations: \", interestRateTicker, \"records collected: \", interestRateListLength, \" - userdb length: \", interestRatesDbLength)\n",
    "    interestRateTicker = interestRateTicker+1\n",
    "    if interestRateListLength<1000: exit =True\n",
    "\n",
    "print(\"Done. Total Records collected: \", interestRatesDbLength)\n",
    "\n",
    "\n"
   ],
   "metadata": {
    "collapsed": false
   }
  },
  {
   "cell_type": "code",
   "execution_count": 92,
   "outputs": [
    {
     "data": {
      "text/plain": "                                    interestRates_id  interestRates_rate  \\\n0  LENDER-VARIABLE-0xc413dd03555f3eb29d834b482d38...            1.102211   \n1  LENDER-VARIABLE-0xc413dd03555f3eb29d834b482d38...            0.631786   \n2  LENDER-VARIABLE-0xc413dd03555f3eb29d834b482d38...            0.000000   \n3  BORROWER-VARIABLE-0xc413dd03555f3eb29d834b482d...            2.347562   \n4  BORROWER-VARIABLE-0xc413dd03555f3eb29d834b482d...            2.278084   \n5  BORROWER-VARIABLE-0xc413dd03555f3eb29d834b482d...            0.000000   \n\n  interestRates_duration interestRates_maturityBlock interestRates_side  \\\n0                   None                        None             LENDER   \n1                   None                        None             LENDER   \n2                   None                        None             LENDER   \n3                   None                        None           BORROWER   \n4                   None                        None           BORROWER   \n5                   None                        None           BORROWER   \n\n  interestRates_type                     interestRates_market_id  \\\n0           VARIABLE  0xc413dd03555f3eb29d834b482d386b2999dc2eb0   \n1           VARIABLE  0xc413dd03555f3eb29d834b482d386b2999dc2eb0   \n2           VARIABLE  0xc413dd03555f3eb29d834b482d386b2999dc2eb0   \n3           VARIABLE  0xc413dd03555f3eb29d834b482d386b2999dc2eb0   \n4           VARIABLE  0xc413dd03555f3eb29d834b482d386b2999dc2eb0   \n5           VARIABLE  0xc413dd03555f3eb29d834b482d386b2999dc2eb0   \n\n             interestRates_market_protocol_id interestRates_market_name  \\\n0  0xd998c35b7900b344bbbe6555cc11576942cf309d                      gOHM   \n1  0xd998c35b7900b344bbbe6555cc11576942cf309d                      gOHM   \n2  0xd998c35b7900b344bbbe6555cc11576942cf309d                      gOHM   \n3  0xd998c35b7900b344bbbe6555cc11576942cf309d                      gOHM   \n4  0xd998c35b7900b344bbbe6555cc11576942cf309d                      gOHM   \n5  0xd998c35b7900b344bbbe6555cc11576942cf309d                      gOHM   \n\n   interestRates_market_isActive  ...  interestRates_token_symbol  \\\n0                           True  ...                         XAI   \n1                           True  ...                        WETH   \n2                           True  ...                        gOHM   \n3                           True  ...                         XAI   \n4                           True  ...                        WETH   \n5                           True  ...                        gOHM   \n\n   interestRates_token_decimals  interestRates_token_type  \\\n0                            18                     Asset   \n1                            18                     Asset   \n2                            18                     Asset   \n3                            18                     Asset   \n4                            18                     Asset   \n5                            18                     Asset   \n\n   interestRates_token_lastPriceUSD interestRates_token_lastPriceBlockNumber  \\\n0                          0.999467                                 16629090   \n1                       1550.378241                                 16629090   \n2                       2805.313242                                 16629090   \n3                          0.999467                                 16629090   \n4                       1550.378241                                 16629090   \n5                       2805.313242                                 16629090   \n\n   interestRates_token_market_id  interestRates_token_asset_id  \\\n0                           None                          None   \n1                           None                          None   \n2                           None                          None   \n3                           None                          None   \n4                           None                          None   \n5                           None                          None   \n\n   interestRates_token_derivativeConversion  interestRates_token_totalSupply  \\\n0                                       1.0                                0   \n1                                       1.0                                0   \n2                                       1.0                                0   \n3                                       1.0                                0   \n4                                       1.0                                0   \n5                                       1.0                                0   \n\n                 interestRates_token_activeOracle_id  \n0  0xe37b8c83138caf12e57632d19c06eb561d47e423-0xd...  \n1                                               None  \n2  0xba53d3a08fb8dd4309881b4e8a3bc386ea0ddb1f-0x0...  \n3  0xe37b8c83138caf12e57632d19c06eb561d47e423-0xd...  \n4                                               None  \n5  0xba53d3a08fb8dd4309881b4e8a3bc386ea0ddb1f-0x0...  \n\n[6 rows x 62 columns]",
      "text/html": "<div>\n<style scoped>\n    .dataframe tbody tr th:only-of-type {\n        vertical-align: middle;\n    }\n\n    .dataframe tbody tr th {\n        vertical-align: top;\n    }\n\n    .dataframe thead th {\n        text-align: right;\n    }\n</style>\n<table border=\"1\" class=\"dataframe\">\n  <thead>\n    <tr style=\"text-align: right;\">\n      <th></th>\n      <th>interestRates_id</th>\n      <th>interestRates_rate</th>\n      <th>interestRates_duration</th>\n      <th>interestRates_maturityBlock</th>\n      <th>interestRates_side</th>\n      <th>interestRates_type</th>\n      <th>interestRates_market_id</th>\n      <th>interestRates_market_protocol_id</th>\n      <th>interestRates_market_name</th>\n      <th>interestRates_market_isActive</th>\n      <th>...</th>\n      <th>interestRates_token_symbol</th>\n      <th>interestRates_token_decimals</th>\n      <th>interestRates_token_type</th>\n      <th>interestRates_token_lastPriceUSD</th>\n      <th>interestRates_token_lastPriceBlockNumber</th>\n      <th>interestRates_token_market_id</th>\n      <th>interestRates_token_asset_id</th>\n      <th>interestRates_token_derivativeConversion</th>\n      <th>interestRates_token_totalSupply</th>\n      <th>interestRates_token_activeOracle_id</th>\n    </tr>\n  </thead>\n  <tbody>\n    <tr>\n      <th>0</th>\n      <td>LENDER-VARIABLE-0xc413dd03555f3eb29d834b482d38...</td>\n      <td>1.102211</td>\n      <td>None</td>\n      <td>None</td>\n      <td>LENDER</td>\n      <td>VARIABLE</td>\n      <td>0xc413dd03555f3eb29d834b482d386b2999dc2eb0</td>\n      <td>0xd998c35b7900b344bbbe6555cc11576942cf309d</td>\n      <td>gOHM</td>\n      <td>True</td>\n      <td>...</td>\n      <td>XAI</td>\n      <td>18</td>\n      <td>Asset</td>\n      <td>0.999467</td>\n      <td>16629090</td>\n      <td>None</td>\n      <td>None</td>\n      <td>1.0</td>\n      <td>0</td>\n      <td>0xe37b8c83138caf12e57632d19c06eb561d47e423-0xd...</td>\n    </tr>\n    <tr>\n      <th>1</th>\n      <td>LENDER-VARIABLE-0xc413dd03555f3eb29d834b482d38...</td>\n      <td>0.631786</td>\n      <td>None</td>\n      <td>None</td>\n      <td>LENDER</td>\n      <td>VARIABLE</td>\n      <td>0xc413dd03555f3eb29d834b482d386b2999dc2eb0</td>\n      <td>0xd998c35b7900b344bbbe6555cc11576942cf309d</td>\n      <td>gOHM</td>\n      <td>True</td>\n      <td>...</td>\n      <td>WETH</td>\n      <td>18</td>\n      <td>Asset</td>\n      <td>1550.378241</td>\n      <td>16629090</td>\n      <td>None</td>\n      <td>None</td>\n      <td>1.0</td>\n      <td>0</td>\n      <td>None</td>\n    </tr>\n    <tr>\n      <th>2</th>\n      <td>LENDER-VARIABLE-0xc413dd03555f3eb29d834b482d38...</td>\n      <td>0.000000</td>\n      <td>None</td>\n      <td>None</td>\n      <td>LENDER</td>\n      <td>VARIABLE</td>\n      <td>0xc413dd03555f3eb29d834b482d386b2999dc2eb0</td>\n      <td>0xd998c35b7900b344bbbe6555cc11576942cf309d</td>\n      <td>gOHM</td>\n      <td>True</td>\n      <td>...</td>\n      <td>gOHM</td>\n      <td>18</td>\n      <td>Asset</td>\n      <td>2805.313242</td>\n      <td>16629090</td>\n      <td>None</td>\n      <td>None</td>\n      <td>1.0</td>\n      <td>0</td>\n      <td>0xba53d3a08fb8dd4309881b4e8a3bc386ea0ddb1f-0x0...</td>\n    </tr>\n    <tr>\n      <th>3</th>\n      <td>BORROWER-VARIABLE-0xc413dd03555f3eb29d834b482d...</td>\n      <td>2.347562</td>\n      <td>None</td>\n      <td>None</td>\n      <td>BORROWER</td>\n      <td>VARIABLE</td>\n      <td>0xc413dd03555f3eb29d834b482d386b2999dc2eb0</td>\n      <td>0xd998c35b7900b344bbbe6555cc11576942cf309d</td>\n      <td>gOHM</td>\n      <td>True</td>\n      <td>...</td>\n      <td>XAI</td>\n      <td>18</td>\n      <td>Asset</td>\n      <td>0.999467</td>\n      <td>16629090</td>\n      <td>None</td>\n      <td>None</td>\n      <td>1.0</td>\n      <td>0</td>\n      <td>0xe37b8c83138caf12e57632d19c06eb561d47e423-0xd...</td>\n    </tr>\n    <tr>\n      <th>4</th>\n      <td>BORROWER-VARIABLE-0xc413dd03555f3eb29d834b482d...</td>\n      <td>2.278084</td>\n      <td>None</td>\n      <td>None</td>\n      <td>BORROWER</td>\n      <td>VARIABLE</td>\n      <td>0xc413dd03555f3eb29d834b482d386b2999dc2eb0</td>\n      <td>0xd998c35b7900b344bbbe6555cc11576942cf309d</td>\n      <td>gOHM</td>\n      <td>True</td>\n      <td>...</td>\n      <td>WETH</td>\n      <td>18</td>\n      <td>Asset</td>\n      <td>1550.378241</td>\n      <td>16629090</td>\n      <td>None</td>\n      <td>None</td>\n      <td>1.0</td>\n      <td>0</td>\n      <td>None</td>\n    </tr>\n    <tr>\n      <th>5</th>\n      <td>BORROWER-VARIABLE-0xc413dd03555f3eb29d834b482d...</td>\n      <td>0.000000</td>\n      <td>None</td>\n      <td>None</td>\n      <td>BORROWER</td>\n      <td>VARIABLE</td>\n      <td>0xc413dd03555f3eb29d834b482d386b2999dc2eb0</td>\n      <td>0xd998c35b7900b344bbbe6555cc11576942cf309d</td>\n      <td>gOHM</td>\n      <td>True</td>\n      <td>...</td>\n      <td>gOHM</td>\n      <td>18</td>\n      <td>Asset</td>\n      <td>2805.313242</td>\n      <td>16629090</td>\n      <td>None</td>\n      <td>None</td>\n      <td>1.0</td>\n      <td>0</td>\n      <td>0xba53d3a08fb8dd4309881b4e8a3bc386ea0ddb1f-0x0...</td>\n    </tr>\n  </tbody>\n</table>\n<p>6 rows × 62 columns</p>\n</div>"
     },
     "execution_count": 92,
     "metadata": {},
     "output_type": "execute_result"
    }
   ],
   "source": [
    "interestRatesDb.head(10)"
   ],
   "metadata": {
    "collapsed": false
   }
  },
  {
   "cell_type": "code",
   "execution_count": 93,
   "outputs": [
    {
     "name": "stdout",
     "output_type": "stream",
     "text": [
      "file saved\n"
     ]
    }
   ],
   "source": [
    "interestRatesDbLength = len(interestRatesDb)\n",
    "path =file+'/siloFinance_interestRates.csv'\n",
    "interestRatesDb.to_csv(path, index = False)\n",
    "\n",
    "path =file+'/siloFinance_interestRates_piped.csv'\n",
    "interestRatesDb.to_csv(path, index = False, sep='|')\n",
    "print('file saved')"
   ],
   "metadata": {
    "collapsed": false
   }
  },
  {
   "cell_type": "code",
   "execution_count": 93,
   "outputs": [],
   "source": [],
   "metadata": {
    "collapsed": false
   }
  },
  {
   "cell_type": "markdown",
   "source": [
    "********************************************************************\n",
    "********************************************************************\n",
    "\n",
    "\n",
    "LET'S LOOK AT VESTA WHILE WE'RE ON A RUN\n",
    "\n",
    "Annoying: the schema for repay events is completely different from borrow and deposit. Can't union them into a single table without crunching it first. Argh.\n",
    "\n",
    "Interest Rate data is weird, too. But I may not need it?"
   ],
   "metadata": {
    "collapsed": false
   }
  },
  {
   "cell_type": "code",
   "execution_count": 94,
   "outputs": [],
   "source": [
    "#https://api.thegraph.com/subgraphs/name/corerouter/vesta-finance\n",
    "vesta = sg.load_api('https://api.thegraph.com/subgraphs/name/corerouter/vesta-finance')"
   ],
   "metadata": {
    "collapsed": false
   }
  },
  {
   "cell_type": "code",
   "execution_count": 145,
   "outputs": [
    {
     "name": "stdout",
     "output_type": "stream",
     "text": [
      "iterations:  0 Lines skipped:  0 records collected:  1000  - latest recordID:  0xf52f858917e2e47e905f9d3882ee0a59984316b6d54c6fff109ba4c8aae39d62   borrow-0xf52f858917e2e47e905f9d3882ee0a59984316b6d54c6fff109ba4c8aae39d62-4  - vestaBorrows DB length:  1000  - latest record from:  1969-12-31 16:00:00.788990 19403 days ago\n",
      "Done. Total Records collected:  1000\n"
     ]
    }
   ],
   "source": [
    "##this captures the list of people who vestaBorrowed XAI against gOHM\n",
    "vestaBorrowTicker = 0\n",
    "vestaBorrowslist = pd.DataFrame()\n",
    "vestaBorrowsDb = pd.DataFrame()\n",
    "vestaBorrowListLength = 1000\n",
    "datediff = 0\n",
    "now=0\n",
    "daysAgo=0\n",
    "daysLimit = 45\n",
    "exit = False\n",
    "while exit==False:\n",
    "    skipValue = (vestaBorrowTicker)*(1000)\n",
    "    vestaBorrows = vesta.Query.borrows(\n",
    "        orderBy='timestamp',\n",
    "        orderDirection='desc',\n",
    "        first=1000,\n",
    "        skip = skipValue,\n",
    "        where={ 'market': '0x8d9ba570d6cb60c7e3e0f31343efe75ab8e65fb1' } #gOHM market\n",
    "\n",
    "    )\n",
    "\n",
    "    vestaBorrowslist = sg.query_df([\n",
    "        vestaBorrows.id\n",
    "        ,vestaBorrows.hash\n",
    "        ,vestaBorrows.amount\n",
    "        ,vestaBorrows.amountUSD\n",
    "        ,vestaBorrows.timestamp\n",
    "        ,vestaBorrows.account.id\n",
    "        ,vestaBorrows.market.id\n",
    "        ,vestaBorrows.market.name\n",
    "        ,vestaBorrows.market.rates.rate\n",
    "        ,vestaBorrows.asset\n",
    "    ])\n",
    "\n",
    "    #vestaBorrowslist.sort_values(by=['vestaBorrows_timestamp'])\n",
    "\n",
    "    vestaBorrowsDb=pd.concat([vestaBorrowsDb, vestaBorrowslist])\n",
    "    recordTimestamp1 = vestaBorrowsDb.iat[vestaBorrowTicker,3]\n",
    "    recordTimestamp = dt.datetime.fromtimestamp( recordTimestamp1 )\n",
    "    now = (int(dt.datetime.utcnow().timestamp()))\n",
    "    datediff=abs(int(now) - recordTimestamp1)\n",
    "    daysAgo = int(datediff/86400)\n",
    "    vestaBorrowsDbLength = len(vestaBorrowsDb)\n",
    "    vestaBorrowListLength = len(vestaBorrowslist)\n",
    "    recordID = vestaBorrowsDb.iat[vestaBorrowTicker,0]\n",
    "    vestaBorrow = vestaBorrowsDb.iat[vestaBorrowTicker,1]\n",
    "    print(\"iterations: \", vestaBorrowTicker, \"Lines skipped: \",skipValue, \"records collected: \", vestaBorrowListLength, \" - latest recordID: \",vestaBorrow, \" \", recordID , \" - vestaBorrows DB length: \", vestaBorrowsDbLength, \" - latest record from: \", recordTimestamp, daysAgo,\"days ago\")\n",
    "    #print(\"iterations: \", vestaBorrowTicker, \"records collected: \", vestaBorrowListLength, \" - userdb length: \", vestaBorrowsDbLength)\n",
    "    vestaBorrowTicker = vestaBorrowTicker+1\n",
    "\n",
    "    if daysAgo>daysLimit: exit =True\n",
    "    if vestaBorrowListLength<1000: exit =True\n",
    "\n",
    "#vestaBorrowsDbTimed.columns = vestaBorrowsDbTimed.columns.str.replace(\"borrows\", \"transaction\")\n",
    "vestaBorrowsDb['event']='borrow'\n",
    "print(\"Done. Total Records collected: \", vestaBorrowsDbLength)"
   ],
   "metadata": {
    "collapsed": false
   }
  },
  {
   "cell_type": "code",
   "execution_count": 146,
   "outputs": [
    {
     "data": {
      "text/plain": "                                            borrows_id  \\\n0    borrow-0xe78e7cf33f3c3dcf9d167c79992bd499f5e26...   \n1    borrow-0x93e6a1fc4275b1e3229824808cfbd67b1a95b...   \n2    borrow-0x9651ee75040616476d15e135efd447ea2b61f...   \n3    borrow-0x6d78d97f945a157ac5bddb6e4fc1f082a9026...   \n4    borrow-0x7ebbec623197b45efee3ee5cea51c5570ced5...   \n..                                                 ...   \n995  borrow-0x7f1216d1a3e06baa5a4d28155a395fe1f4dcb...   \n996  borrow-0x0392d993bd0380d71a1c7b8b8d00d710d0738...   \n997  borrow-0xa5ecc4b8c40dd5e7fceb1966c5f7c5fb0414d...   \n998  borrow-0x6e08e8ad6bb3d2ec343e41c1e6069d5e313dc...   \n999  borrow-0x7a095d993000fa8474bffca668b176401deba...   \n\n                                          borrows_hash  \\\n0    0xe78e7cf33f3c3dcf9d167c79992bd499f5e261aa781a...   \n1    0x93e6a1fc4275b1e3229824808cfbd67b1a95b70da5fc...   \n2    0x9651ee75040616476d15e135efd447ea2b61f1c4a1a4...   \n3    0x6d78d97f945a157ac5bddb6e4fc1f082a9026a1d4877...   \n4    0x7ebbec623197b45efee3ee5cea51c5570ced507e35b7...   \n..                                                 ...   \n995  0x7f1216d1a3e06baa5a4d28155a395fe1f4dcb7d8f8dc...   \n996  0x0392d993bd0380d71a1c7b8b8d00d710d0738453c69f...   \n997  0xa5ecc4b8c40dd5e7fceb1966c5f7c5fb0414d6d6efe7...   \n998  0x6e08e8ad6bb3d2ec343e41c1e6069d5e313dc0c01247...   \n999  0x7a095d993000fa8474bffca668b176401debae30d6e9...   \n\n               borrows_amount  borrows_amountUSD  borrows_timestamp  \\\n0    576298224974605960408026      576298.224975         1659911497   \n1    516405000007276459170000      516405.000007         1661574660   \n2    508522687608107465832660      508522.687608         1661405272   \n3    407615492208601338652456      407615.492209         1669999334   \n4    398065447708496993829189      398065.447708         1670001231   \n..                        ...                ...                ...   \n995         21594193732725003           0.021594         1669062159   \n996         21382683381559883           0.021383         1665365900   \n997          6902250461145459           0.006902         1665437277   \n998          6179314471221283           0.006179         1667577001   \n999          1396084727959398           0.001396         1658583777   \n\n                             borrows_account_id  \\\n0    0xa80191fca50be00f8952c69232c93d57eeacaf6f   \n1    0x15bae977db3b62ceb5a67921fae589fd80624e8d   \n2    0xea17e11fa9d3d772eee6f34a03f0ef44db395720   \n3    0x0561a78021d8966ddd20c28c6c4318d8675ee1f0   \n4    0x0561a78021d8966ddd20c28c6c4318d8675ee1f0   \n..                                          ...   \n995  0x0561a78021d8966ddd20c28c6c4318d8675ee1f0   \n996  0xe2a4de267cdd4ff5ed9ba13552f5c624b12db9b2   \n997  0x9dd897df19ffc27d6685e98accc394f88a73e475   \n998  0xe2a4de267cdd4ff5ed9ba13552f5c624b12db9b2   \n999  0x3b74d817a7a224948748d9444fabeca4aa4f24fb   \n\n                              borrows_market_id borrows_market_name  \\\n0    0x8d9ba570d6cb60c7e3e0f31343efe75ab8e65fb1      Governance OHM   \n1    0x8d9ba570d6cb60c7e3e0f31343efe75ab8e65fb1      Governance OHM   \n2    0x8d9ba570d6cb60c7e3e0f31343efe75ab8e65fb1      Governance OHM   \n3    0x8d9ba570d6cb60c7e3e0f31343efe75ab8e65fb1      Governance OHM   \n4    0x8d9ba570d6cb60c7e3e0f31343efe75ab8e65fb1      Governance OHM   \n..                                          ...                 ...   \n995  0x8d9ba570d6cb60c7e3e0f31343efe75ab8e65fb1      Governance OHM   \n996  0x8d9ba570d6cb60c7e3e0f31343efe75ab8e65fb1      Governance OHM   \n997  0x8d9ba570d6cb60c7e3e0f31343efe75ab8e65fb1      Governance OHM   \n998  0x8d9ba570d6cb60c7e3e0f31343efe75ab8e65fb1      Governance OHM   \n999  0x8d9ba570d6cb60c7e3e0f31343efe75ab8e65fb1      Governance OHM   \n\n     borrows_market_rates_rate                            borrows_asset_id  \\\n0                          0.0  0x64343594ab9b56e99087bfa6f2335db24c2d1f17   \n1                          0.0  0x64343594ab9b56e99087bfa6f2335db24c2d1f17   \n2                          0.0  0x64343594ab9b56e99087bfa6f2335db24c2d1f17   \n3                          0.0  0x64343594ab9b56e99087bfa6f2335db24c2d1f17   \n4                          0.0  0x64343594ab9b56e99087bfa6f2335db24c2d1f17   \n..                         ...                                         ...   \n995                        0.0  0x64343594ab9b56e99087bfa6f2335db24c2d1f17   \n996                        0.0  0x64343594ab9b56e99087bfa6f2335db24c2d1f17   \n997                        0.0  0x64343594ab9b56e99087bfa6f2335db24c2d1f17   \n998                        0.0  0x64343594ab9b56e99087bfa6f2335db24c2d1f17   \n999                        0.0  0x64343594ab9b56e99087bfa6f2335db24c2d1f17   \n\n    borrows_asset_name borrows_asset_symbol  borrows_asset_decimals  \\\n0         Vesta Stable                  VST                      18   \n1         Vesta Stable                  VST                      18   \n2         Vesta Stable                  VST                      18   \n3         Vesta Stable                  VST                      18   \n4         Vesta Stable                  VST                      18   \n..                 ...                  ...                     ...   \n995       Vesta Stable                  VST                      18   \n996       Vesta Stable                  VST                      18   \n997       Vesta Stable                  VST                      18   \n998       Vesta Stable                  VST                      18   \n999       Vesta Stable                  VST                      18   \n\n     borrows_asset_lastPriceUSD  borrows_asset_lastPriceBlockNumber   event  \\\n0                           1.0                            60907939  borrow   \n1                           1.0                            60907939  borrow   \n2                           1.0                            60907939  borrow   \n3                           1.0                            60907939  borrow   \n4                           1.0                            60907939  borrow   \n..                          ...                                 ...     ...   \n995                         1.0                            60907939  borrow   \n996                         1.0                            60907939  borrow   \n997                         1.0                            60907939  borrow   \n998                         1.0                            60907939  borrow   \n999                         1.0                            60907939  borrow   \n\n               dateTime  \n0   2022-08-07 22:31:37  \n1   2022-08-27 04:31:00  \n2   2022-08-25 05:27:52  \n3   2022-12-02 16:42:14  \n4   2022-12-02 17:13:51  \n..                  ...  \n995 2022-11-21 20:22:39  \n996 2022-10-10 01:38:20  \n997 2022-10-10 21:27:57  \n998 2022-11-04 15:50:01  \n999 2022-07-23 13:42:57  \n\n[1000 rows x 17 columns]",
      "text/html": "<div>\n<style scoped>\n    .dataframe tbody tr th:only-of-type {\n        vertical-align: middle;\n    }\n\n    .dataframe tbody tr th {\n        vertical-align: top;\n    }\n\n    .dataframe thead th {\n        text-align: right;\n    }\n</style>\n<table border=\"1\" class=\"dataframe\">\n  <thead>\n    <tr style=\"text-align: right;\">\n      <th></th>\n      <th>borrows_id</th>\n      <th>borrows_hash</th>\n      <th>borrows_amount</th>\n      <th>borrows_amountUSD</th>\n      <th>borrows_timestamp</th>\n      <th>borrows_account_id</th>\n      <th>borrows_market_id</th>\n      <th>borrows_market_name</th>\n      <th>borrows_market_rates_rate</th>\n      <th>borrows_asset_id</th>\n      <th>borrows_asset_name</th>\n      <th>borrows_asset_symbol</th>\n      <th>borrows_asset_decimals</th>\n      <th>borrows_asset_lastPriceUSD</th>\n      <th>borrows_asset_lastPriceBlockNumber</th>\n      <th>event</th>\n      <th>dateTime</th>\n    </tr>\n  </thead>\n  <tbody>\n    <tr>\n      <th>0</th>\n      <td>borrow-0xe78e7cf33f3c3dcf9d167c79992bd499f5e26...</td>\n      <td>0xe78e7cf33f3c3dcf9d167c79992bd499f5e261aa781a...</td>\n      <td>576298224974605960408026</td>\n      <td>576298.224975</td>\n      <td>1659911497</td>\n      <td>0xa80191fca50be00f8952c69232c93d57eeacaf6f</td>\n      <td>0x8d9ba570d6cb60c7e3e0f31343efe75ab8e65fb1</td>\n      <td>Governance OHM</td>\n      <td>0.0</td>\n      <td>0x64343594ab9b56e99087bfa6f2335db24c2d1f17</td>\n      <td>Vesta Stable</td>\n      <td>VST</td>\n      <td>18</td>\n      <td>1.0</td>\n      <td>60907939</td>\n      <td>borrow</td>\n      <td>2022-08-07 22:31:37</td>\n    </tr>\n    <tr>\n      <th>1</th>\n      <td>borrow-0x93e6a1fc4275b1e3229824808cfbd67b1a95b...</td>\n      <td>0x93e6a1fc4275b1e3229824808cfbd67b1a95b70da5fc...</td>\n      <td>516405000007276459170000</td>\n      <td>516405.000007</td>\n      <td>1661574660</td>\n      <td>0x15bae977db3b62ceb5a67921fae589fd80624e8d</td>\n      <td>0x8d9ba570d6cb60c7e3e0f31343efe75ab8e65fb1</td>\n      <td>Governance OHM</td>\n      <td>0.0</td>\n      <td>0x64343594ab9b56e99087bfa6f2335db24c2d1f17</td>\n      <td>Vesta Stable</td>\n      <td>VST</td>\n      <td>18</td>\n      <td>1.0</td>\n      <td>60907939</td>\n      <td>borrow</td>\n      <td>2022-08-27 04:31:00</td>\n    </tr>\n    <tr>\n      <th>2</th>\n      <td>borrow-0x9651ee75040616476d15e135efd447ea2b61f...</td>\n      <td>0x9651ee75040616476d15e135efd447ea2b61f1c4a1a4...</td>\n      <td>508522687608107465832660</td>\n      <td>508522.687608</td>\n      <td>1661405272</td>\n      <td>0xea17e11fa9d3d772eee6f34a03f0ef44db395720</td>\n      <td>0x8d9ba570d6cb60c7e3e0f31343efe75ab8e65fb1</td>\n      <td>Governance OHM</td>\n      <td>0.0</td>\n      <td>0x64343594ab9b56e99087bfa6f2335db24c2d1f17</td>\n      <td>Vesta Stable</td>\n      <td>VST</td>\n      <td>18</td>\n      <td>1.0</td>\n      <td>60907939</td>\n      <td>borrow</td>\n      <td>2022-08-25 05:27:52</td>\n    </tr>\n    <tr>\n      <th>3</th>\n      <td>borrow-0x6d78d97f945a157ac5bddb6e4fc1f082a9026...</td>\n      <td>0x6d78d97f945a157ac5bddb6e4fc1f082a9026a1d4877...</td>\n      <td>407615492208601338652456</td>\n      <td>407615.492209</td>\n      <td>1669999334</td>\n      <td>0x0561a78021d8966ddd20c28c6c4318d8675ee1f0</td>\n      <td>0x8d9ba570d6cb60c7e3e0f31343efe75ab8e65fb1</td>\n      <td>Governance OHM</td>\n      <td>0.0</td>\n      <td>0x64343594ab9b56e99087bfa6f2335db24c2d1f17</td>\n      <td>Vesta Stable</td>\n      <td>VST</td>\n      <td>18</td>\n      <td>1.0</td>\n      <td>60907939</td>\n      <td>borrow</td>\n      <td>2022-12-02 16:42:14</td>\n    </tr>\n    <tr>\n      <th>4</th>\n      <td>borrow-0x7ebbec623197b45efee3ee5cea51c5570ced5...</td>\n      <td>0x7ebbec623197b45efee3ee5cea51c5570ced507e35b7...</td>\n      <td>398065447708496993829189</td>\n      <td>398065.447708</td>\n      <td>1670001231</td>\n      <td>0x0561a78021d8966ddd20c28c6c4318d8675ee1f0</td>\n      <td>0x8d9ba570d6cb60c7e3e0f31343efe75ab8e65fb1</td>\n      <td>Governance OHM</td>\n      <td>0.0</td>\n      <td>0x64343594ab9b56e99087bfa6f2335db24c2d1f17</td>\n      <td>Vesta Stable</td>\n      <td>VST</td>\n      <td>18</td>\n      <td>1.0</td>\n      <td>60907939</td>\n      <td>borrow</td>\n      <td>2022-12-02 17:13:51</td>\n    </tr>\n    <tr>\n      <th>...</th>\n      <td>...</td>\n      <td>...</td>\n      <td>...</td>\n      <td>...</td>\n      <td>...</td>\n      <td>...</td>\n      <td>...</td>\n      <td>...</td>\n      <td>...</td>\n      <td>...</td>\n      <td>...</td>\n      <td>...</td>\n      <td>...</td>\n      <td>...</td>\n      <td>...</td>\n      <td>...</td>\n      <td>...</td>\n    </tr>\n    <tr>\n      <th>995</th>\n      <td>borrow-0x7f1216d1a3e06baa5a4d28155a395fe1f4dcb...</td>\n      <td>0x7f1216d1a3e06baa5a4d28155a395fe1f4dcb7d8f8dc...</td>\n      <td>21594193732725003</td>\n      <td>0.021594</td>\n      <td>1669062159</td>\n      <td>0x0561a78021d8966ddd20c28c6c4318d8675ee1f0</td>\n      <td>0x8d9ba570d6cb60c7e3e0f31343efe75ab8e65fb1</td>\n      <td>Governance OHM</td>\n      <td>0.0</td>\n      <td>0x64343594ab9b56e99087bfa6f2335db24c2d1f17</td>\n      <td>Vesta Stable</td>\n      <td>VST</td>\n      <td>18</td>\n      <td>1.0</td>\n      <td>60907939</td>\n      <td>borrow</td>\n      <td>2022-11-21 20:22:39</td>\n    </tr>\n    <tr>\n      <th>996</th>\n      <td>borrow-0x0392d993bd0380d71a1c7b8b8d00d710d0738...</td>\n      <td>0x0392d993bd0380d71a1c7b8b8d00d710d0738453c69f...</td>\n      <td>21382683381559883</td>\n      <td>0.021383</td>\n      <td>1665365900</td>\n      <td>0xe2a4de267cdd4ff5ed9ba13552f5c624b12db9b2</td>\n      <td>0x8d9ba570d6cb60c7e3e0f31343efe75ab8e65fb1</td>\n      <td>Governance OHM</td>\n      <td>0.0</td>\n      <td>0x64343594ab9b56e99087bfa6f2335db24c2d1f17</td>\n      <td>Vesta Stable</td>\n      <td>VST</td>\n      <td>18</td>\n      <td>1.0</td>\n      <td>60907939</td>\n      <td>borrow</td>\n      <td>2022-10-10 01:38:20</td>\n    </tr>\n    <tr>\n      <th>997</th>\n      <td>borrow-0xa5ecc4b8c40dd5e7fceb1966c5f7c5fb0414d...</td>\n      <td>0xa5ecc4b8c40dd5e7fceb1966c5f7c5fb0414d6d6efe7...</td>\n      <td>6902250461145459</td>\n      <td>0.006902</td>\n      <td>1665437277</td>\n      <td>0x9dd897df19ffc27d6685e98accc394f88a73e475</td>\n      <td>0x8d9ba570d6cb60c7e3e0f31343efe75ab8e65fb1</td>\n      <td>Governance OHM</td>\n      <td>0.0</td>\n      <td>0x64343594ab9b56e99087bfa6f2335db24c2d1f17</td>\n      <td>Vesta Stable</td>\n      <td>VST</td>\n      <td>18</td>\n      <td>1.0</td>\n      <td>60907939</td>\n      <td>borrow</td>\n      <td>2022-10-10 21:27:57</td>\n    </tr>\n    <tr>\n      <th>998</th>\n      <td>borrow-0x6e08e8ad6bb3d2ec343e41c1e6069d5e313dc...</td>\n      <td>0x6e08e8ad6bb3d2ec343e41c1e6069d5e313dc0c01247...</td>\n      <td>6179314471221283</td>\n      <td>0.006179</td>\n      <td>1667577001</td>\n      <td>0xe2a4de267cdd4ff5ed9ba13552f5c624b12db9b2</td>\n      <td>0x8d9ba570d6cb60c7e3e0f31343efe75ab8e65fb1</td>\n      <td>Governance OHM</td>\n      <td>0.0</td>\n      <td>0x64343594ab9b56e99087bfa6f2335db24c2d1f17</td>\n      <td>Vesta Stable</td>\n      <td>VST</td>\n      <td>18</td>\n      <td>1.0</td>\n      <td>60907939</td>\n      <td>borrow</td>\n      <td>2022-11-04 15:50:01</td>\n    </tr>\n    <tr>\n      <th>999</th>\n      <td>borrow-0x7a095d993000fa8474bffca668b176401deba...</td>\n      <td>0x7a095d993000fa8474bffca668b176401debae30d6e9...</td>\n      <td>1396084727959398</td>\n      <td>0.001396</td>\n      <td>1658583777</td>\n      <td>0x3b74d817a7a224948748d9444fabeca4aa4f24fb</td>\n      <td>0x8d9ba570d6cb60c7e3e0f31343efe75ab8e65fb1</td>\n      <td>Governance OHM</td>\n      <td>0.0</td>\n      <td>0x64343594ab9b56e99087bfa6f2335db24c2d1f17</td>\n      <td>Vesta Stable</td>\n      <td>VST</td>\n      <td>18</td>\n      <td>1.0</td>\n      <td>60907939</td>\n      <td>borrow</td>\n      <td>2022-07-23 13:42:57</td>\n    </tr>\n  </tbody>\n</table>\n<p>1000 rows × 17 columns</p>\n</div>"
     },
     "execution_count": 146,
     "metadata": {},
     "output_type": "execute_result"
    }
   ],
   "source": [
    "vestaBorrowsDbTimed = db.query(\"select \"\n",
    "               \"    * \"\n",
    "                    \" ,to_timestamp(borrows_timestamp::int) dateTime \"\n",
    "               \"From vestaBorrowsDb \"\n",
    "                               \" order by borrows_amountUSD desc\"\n",
    "               #\"where lower(liquidityPools_name) like lower('%olympus%') \"\n",
    "                #    \"or lower(pairs_token1_symbol) like lower('%OHM%')  \"\n",
    "               #\" limit 100 \"\n",
    "               ).df()\n",
    "\n",
    "vestaBorrowsDbTimed.head(1000)"
   ],
   "metadata": {
    "collapsed": false
   }
  },
  {
   "cell_type": "code",
   "execution_count": 147,
   "outputs": [
    {
     "name": "stdout",
     "output_type": "stream",
     "text": [
      "file saved\n"
     ]
    }
   ],
   "source": [
    "path =file+'/vesta_borrow_events.csv'\n",
    "vestaBorrowsDbTimed.to_csv(path, index = False)\n",
    "\n",
    "path =file+'/vesta_borrow_events_piped.csv'\n",
    "vestaBorrowsDbTimed.to_csv(path, index = False, sep='|')\n",
    "print('file saved')"
   ],
   "metadata": {
    "collapsed": false
   }
  },
  {
   "cell_type": "code",
   "execution_count": 142,
   "outputs": [
    {
     "name": "stdout",
     "output_type": "stream",
     "text": [
      "iterations:  0 Lines skipped:  0 records collected:  1000  - latest recordID:  0xf52f858917e2e47e905f9d3882ee0a59984316b6d54c6fff109ba4c8aae39d62   deposit-0xf52f858917e2e47e905f9d3882ee0a59984316b6d54c6fff109ba4c8aae39d62-4  - vestaDeposits DB length:  1000  - latest record from:  2023-02-14 08:14:15 0 days ago\n",
      "iterations:  1 Lines skipped:  1000 records collected:  338  - latest recordID:  0x8102272a3bd5f0e2e3946fbff84f666fbec16b044b5b580bf0722c3f247dc6bf   deposit-0x8102272a3bd5f0e2e3946fbff84f666fbec16b044b5b580bf0722c3f247dc6bf-45  - vestaDeposits DB length:  1338  - latest record from:  2023-02-14 04:33:51 0 days ago\n",
      "Done. Total Records collected:  1338\n"
     ]
    }
   ],
   "source": [
    "#this tracks the events for vestaDepositing gOHM for lending \n",
    "vestaDepositTicker = 0\n",
    "vestaDepositslist = pd.DataFrame()\n",
    "vestaDepositsDb = pd.DataFrame()\n",
    "vestaDepositListLength = 1000\n",
    "datediff = 0\n",
    "now=0\n",
    "daysAgo=0\n",
    "daysLimit = 45\n",
    "exit = False\n",
    "while exit==False:\n",
    "    skipValue = (vestaDepositTicker)*(1000)\n",
    "    vestaDeposits = vesta.Query.deposits(\n",
    "        orderBy='timestamp',\n",
    "        orderDirection='desc',\n",
    "        first=1000,\n",
    "        skip = skipValue,\n",
    "        where={ 'market': '0x8d9ba570d6cb60c7e3e0f31343efe75ab8e65fb1' } #gOHM market\n",
    "\n",
    "    )\n",
    "\n",
    "    vestaDepositslist = sg.query_df([\n",
    "        vestaDeposits.id\n",
    "        ,vestaDeposits.hash\n",
    "        ,vestaDeposits.amount\n",
    "        ,vestaDeposits.amountUSD\n",
    "        ,vestaDeposits.logIndex\n",
    "        ,vestaDeposits.blockNumber\n",
    "        ,vestaDeposits.timestamp\n",
    "        ,vestaDeposits.account\n",
    "        ,vestaDeposits.market\n",
    "        ,vestaDeposits.market.rates\n",
    "        ,vestaDeposits.asset\n",
    "        ,vestaDeposits.position\n",
    "    ])\n",
    "\n",
    "    #vestaDepositslist.sort_values(by=['vestaDeposits_timestamp'])\n",
    "\n",
    "    vestaDepositsDb=pd.concat([vestaDepositsDb, vestaDepositslist])\n",
    "    recordTimestamp1 = vestaDepositsDb.iat[vestaDepositTicker,6]\n",
    "    recordTimestamp = dt.datetime.fromtimestamp( recordTimestamp1 )\n",
    "    now = (int(dt.datetime.utcnow().timestamp()))\n",
    "    datediff=abs(int(now) - recordTimestamp1)\n",
    "    daysAgo = int(datediff/86400)\n",
    "    vestaDepositsDbLength = len(vestaDepositsDb)\n",
    "    vestaDepositListLength = len(vestaDepositslist)\n",
    "    recordID = vestaDepositsDb.iat[vestaDepositTicker,0]\n",
    "    vestaDeposit = vestaDepositsDb.iat[vestaDepositTicker,1]\n",
    "    print(\"iterations: \", vestaDepositTicker, \"Lines skipped: \",skipValue, \"records collected: \", vestaDepositListLength, \" - latest recordID: \",vestaDeposit, \" \", recordID , \" - vestaDeposits DB length: \", vestaDepositsDbLength, \" - latest record from: \", recordTimestamp, daysAgo,\"days ago\")\n",
    "    #print(\"iterations: \", vestaDepositTicker, \"records collected: \", vestaDepositListLength, \" - userdb length: \", vestaDepositsDbLength)\n",
    "    vestaDepositTicker = vestaDepositTicker+1\n",
    "    if daysAgo>daysLimit: exit =True\n",
    "    if vestaDepositListLength<1000: exit =True\n",
    "\n",
    "#vestaDepositsDb.sort_values(by=['vestaDeposits_timestamp'])\n",
    "\n",
    "vestaDepositsDb.columns = vestaDepositsDb.columns.str.replace(\"deposits\", \"transaction\")\n",
    "vestaDepositsDb['event']='deposit'\n",
    "print(\"Done. Total Records collected: \", vestaDepositsDbLength)\n",
    "\n",
    "\n"
   ],
   "metadata": {
    "collapsed": false
   }
  },
  {
   "cell_type": "code",
   "execution_count": 143,
   "outputs": [
    {
     "data": {
      "text/plain": "                                      transaction_id  \\\n0  deposit-0xf52f858917e2e47e905f9d3882ee0a599843...   \n1  deposit-0x8102272a3bd5f0e2e3946fbff84f666fbec1...   \n2  deposit-0xebfdf5464a23bb3c12a019bbbaca75ceac4e...   \n3  deposit-0xa8530b80a3aae63661e62d05f9c83afc5e62...   \n4  deposit-0x0712c2c572f53f272b382289d178c5801205...   \n5  deposit-0xa70b833620fa9e60985ec9d9aa6b9c6af9f5...   \n6  deposit-0x5d3025a16815324cf1afca689903a14d2621...   \n7  deposit-0xabfb1cba9108afe5c2dde3f21f5b4de92fae...   \n8  deposit-0xdb674a81e3a0fd547a3a2ace9befd38a3b86...   \n9  deposit-0xe1f1f1cfd372bbe64a06346c1dde1102e155...   \n\n                                    transaction_hash     transaction_amount  \\\n0  0xf52f858917e2e47e905f9d3882ee0a59984316b6d54c...      38153000000000020   \n1  0x8102272a3bd5f0e2e3946fbff84f666fbec16b044b5b...    7180897000000000000   \n2  0xebfdf5464a23bb3c12a019bbbaca75ceac4ea73a6cee...     200000000000000000   \n3  0xa8530b80a3aae63661e62d05f9c83afc5e62634b5f4c...    1820578000000000000   \n4  0x0712c2c572f53f272b382289d178c5801205eb0b7c99...    5071806000000000000   \n5  0xa70b833620fa9e60985ec9d9aa6b9c6af9f5e2fb6ee6...  419221347099961371843   \n6  0x5d3025a16815324cf1afca689903a14d2621c19c9572...     395431000000000000   \n7  0xabfb1cba9108afe5c2dde3f21f5b4de92fae79791af2...    3797584000000000515   \n8  0xdb674a81e3a0fd547a3a2ace9befd38a3b867df74fc0...  139919099999999990809   \n9  0xe1f1f1cfd372bbe64a06346c1dde1102e155be4ec282...   11063985999999999876   \n\n   transaction_amountUSD  transaction_logIndex  transaction_blockNumber  \\\n0           1.057083e+02                     4                 60901615   \n1           1.973046e+04                    45                 60849806   \n2           5.341504e+02                    45                 60572308   \n3           4.844077e+03                    45                 60064234   \n4           1.349474e+04                    45                 59984711   \n5           1.120561e+06                    38                 59495981   \n6           1.062038e+03                    37                 59294798   \n7           1.007686e+04                     4                 58531581   \n8           3.691123e+05                    30                 58285118   \n9           2.933105e+04                    34                 58200953   \n\n   transaction_timestamp                      transaction_account_id  \\\n0             1676391255  0x29e46015ccfe13cfe8dc96d75760a6290df311ee   \n1             1676378031  0xc1bbfbc99b57da20e5504e9960e81277d63faeea   \n2             1676296623  0xb9e291b68e584be657477289389b3a6deed3e34c   \n3             1676142977  0xa13f3599ff620500f360dc6185ad30f625ebfc38   \n4             1676119566  0x67fa1561c5f5631de08e38d4484e0df67872f626   \n5             1675974783  0x15bae977db3b62ceb5a67921fae589fd80624e8d   \n6             1675915490  0x7723c45fb37092ee65202db7a2fe562c5fe0ab48   \n7             1675694548  0x1d883459bbc71042a9072f106427c4993de44794   \n8             1675618839  0x0fd84d7cb911728737556684050782b298f70f0f   \n9             1675595730  0x2682efcc31de7a06ed3bf8b0be156ff88e1663a1   \n\n   transaction_account_positionCount  transaction_account_openPositionCount  \\\n0                                  2                                      2   \n1                                  2                                      2   \n2                                  2                                      2   \n3                                  2                                      2   \n4                                  2                                      2   \n5                                  3                                      2   \n6                                  9                                      4   \n7                                  2                                      2   \n8                                  7                                      2   \n9                                  7                                      2   \n\n   ...  transaction_position_timestampClosed  transaction_position_side  \\\n0  ...                                   NaN                     LENDER   \n1  ...                                   NaN                     LENDER   \n2  ...                                   NaN                     LENDER   \n3  ...                                   NaN                     LENDER   \n4  ...                                   NaN                     LENDER   \n5  ...                                   NaN                     LENDER   \n6  ...                                   NaN                     LENDER   \n7  ...                                   NaN                     LENDER   \n8  ...                                   NaN                     LENDER   \n9  ...                                   NaN                     LENDER   \n\n   transaction_position_isCollateral  transaction_position_balance  \\\n0                               True            238519000000000020   \n1                               True           7180897000000000000   \n2                               True            200000000000000000   \n3                               True           1820578000000000000   \n4                               True           5071806000000000000   \n5                               True         419221347099961371843   \n6                               True            395431000000000000   \n7                               True          18790084000000000515   \n8                               True         139919099999999990809   \n9                               True          99538985999999994122   \n\n   transaction_position_depositCount  transaction_position_withdrawCount  \\\n0                                  2                                   0   \n1                                  1                                   0   \n2                                  1                                   0   \n3                                  1                                   0   \n4                                  1                                   0   \n5                                  1                                   0   \n6                                  1                                   0   \n7                                  2                                   0   \n8                                  1                                   0   \n9                                  2                                   0   \n\n   transaction_position_borrowCount transaction_position_repayCount  \\\n0                                 0                               0   \n1                                 0                               0   \n2                                 0                               0   \n3                                 0                               0   \n4                                 0                               0   \n5                                 0                               0   \n6                                 0                               0   \n7                                 0                               0   \n8                                 0                               0   \n9                                 0                               0   \n\n  transaction_position_liquidationCount    event  \n0                                     0  deposit  \n1                                     0  deposit  \n2                                     0  deposit  \n3                                     0  deposit  \n4                                     0  deposit  \n5                                     0  deposit  \n6                                     0  deposit  \n7                                     0  deposit  \n8                                     0  deposit  \n9                                     0  deposit  \n\n[10 rows x 79 columns]",
      "text/html": "<div>\n<style scoped>\n    .dataframe tbody tr th:only-of-type {\n        vertical-align: middle;\n    }\n\n    .dataframe tbody tr th {\n        vertical-align: top;\n    }\n\n    .dataframe thead th {\n        text-align: right;\n    }\n</style>\n<table border=\"1\" class=\"dataframe\">\n  <thead>\n    <tr style=\"text-align: right;\">\n      <th></th>\n      <th>transaction_id</th>\n      <th>transaction_hash</th>\n      <th>transaction_amount</th>\n      <th>transaction_amountUSD</th>\n      <th>transaction_logIndex</th>\n      <th>transaction_blockNumber</th>\n      <th>transaction_timestamp</th>\n      <th>transaction_account_id</th>\n      <th>transaction_account_positionCount</th>\n      <th>transaction_account_openPositionCount</th>\n      <th>...</th>\n      <th>transaction_position_timestampClosed</th>\n      <th>transaction_position_side</th>\n      <th>transaction_position_isCollateral</th>\n      <th>transaction_position_balance</th>\n      <th>transaction_position_depositCount</th>\n      <th>transaction_position_withdrawCount</th>\n      <th>transaction_position_borrowCount</th>\n      <th>transaction_position_repayCount</th>\n      <th>transaction_position_liquidationCount</th>\n      <th>event</th>\n    </tr>\n  </thead>\n  <tbody>\n    <tr>\n      <th>0</th>\n      <td>deposit-0xf52f858917e2e47e905f9d3882ee0a599843...</td>\n      <td>0xf52f858917e2e47e905f9d3882ee0a59984316b6d54c...</td>\n      <td>38153000000000020</td>\n      <td>1.057083e+02</td>\n      <td>4</td>\n      <td>60901615</td>\n      <td>1676391255</td>\n      <td>0x29e46015ccfe13cfe8dc96d75760a6290df311ee</td>\n      <td>2</td>\n      <td>2</td>\n      <td>...</td>\n      <td>NaN</td>\n      <td>LENDER</td>\n      <td>True</td>\n      <td>238519000000000020</td>\n      <td>2</td>\n      <td>0</td>\n      <td>0</td>\n      <td>0</td>\n      <td>0</td>\n      <td>deposit</td>\n    </tr>\n    <tr>\n      <th>1</th>\n      <td>deposit-0x8102272a3bd5f0e2e3946fbff84f666fbec1...</td>\n      <td>0x8102272a3bd5f0e2e3946fbff84f666fbec16b044b5b...</td>\n      <td>7180897000000000000</td>\n      <td>1.973046e+04</td>\n      <td>45</td>\n      <td>60849806</td>\n      <td>1676378031</td>\n      <td>0xc1bbfbc99b57da20e5504e9960e81277d63faeea</td>\n      <td>2</td>\n      <td>2</td>\n      <td>...</td>\n      <td>NaN</td>\n      <td>LENDER</td>\n      <td>True</td>\n      <td>7180897000000000000</td>\n      <td>1</td>\n      <td>0</td>\n      <td>0</td>\n      <td>0</td>\n      <td>0</td>\n      <td>deposit</td>\n    </tr>\n    <tr>\n      <th>2</th>\n      <td>deposit-0xebfdf5464a23bb3c12a019bbbaca75ceac4e...</td>\n      <td>0xebfdf5464a23bb3c12a019bbbaca75ceac4ea73a6cee...</td>\n      <td>200000000000000000</td>\n      <td>5.341504e+02</td>\n      <td>45</td>\n      <td>60572308</td>\n      <td>1676296623</td>\n      <td>0xb9e291b68e584be657477289389b3a6deed3e34c</td>\n      <td>2</td>\n      <td>2</td>\n      <td>...</td>\n      <td>NaN</td>\n      <td>LENDER</td>\n      <td>True</td>\n      <td>200000000000000000</td>\n      <td>1</td>\n      <td>0</td>\n      <td>0</td>\n      <td>0</td>\n      <td>0</td>\n      <td>deposit</td>\n    </tr>\n    <tr>\n      <th>3</th>\n      <td>deposit-0xa8530b80a3aae63661e62d05f9c83afc5e62...</td>\n      <td>0xa8530b80a3aae63661e62d05f9c83afc5e62634b5f4c...</td>\n      <td>1820578000000000000</td>\n      <td>4.844077e+03</td>\n      <td>45</td>\n      <td>60064234</td>\n      <td>1676142977</td>\n      <td>0xa13f3599ff620500f360dc6185ad30f625ebfc38</td>\n      <td>2</td>\n      <td>2</td>\n      <td>...</td>\n      <td>NaN</td>\n      <td>LENDER</td>\n      <td>True</td>\n      <td>1820578000000000000</td>\n      <td>1</td>\n      <td>0</td>\n      <td>0</td>\n      <td>0</td>\n      <td>0</td>\n      <td>deposit</td>\n    </tr>\n    <tr>\n      <th>4</th>\n      <td>deposit-0x0712c2c572f53f272b382289d178c5801205...</td>\n      <td>0x0712c2c572f53f272b382289d178c5801205eb0b7c99...</td>\n      <td>5071806000000000000</td>\n      <td>1.349474e+04</td>\n      <td>45</td>\n      <td>59984711</td>\n      <td>1676119566</td>\n      <td>0x67fa1561c5f5631de08e38d4484e0df67872f626</td>\n      <td>2</td>\n      <td>2</td>\n      <td>...</td>\n      <td>NaN</td>\n      <td>LENDER</td>\n      <td>True</td>\n      <td>5071806000000000000</td>\n      <td>1</td>\n      <td>0</td>\n      <td>0</td>\n      <td>0</td>\n      <td>0</td>\n      <td>deposit</td>\n    </tr>\n    <tr>\n      <th>5</th>\n      <td>deposit-0xa70b833620fa9e60985ec9d9aa6b9c6af9f5...</td>\n      <td>0xa70b833620fa9e60985ec9d9aa6b9c6af9f5e2fb6ee6...</td>\n      <td>419221347099961371843</td>\n      <td>1.120561e+06</td>\n      <td>38</td>\n      <td>59495981</td>\n      <td>1675974783</td>\n      <td>0x15bae977db3b62ceb5a67921fae589fd80624e8d</td>\n      <td>3</td>\n      <td>2</td>\n      <td>...</td>\n      <td>NaN</td>\n      <td>LENDER</td>\n      <td>True</td>\n      <td>419221347099961371843</td>\n      <td>1</td>\n      <td>0</td>\n      <td>0</td>\n      <td>0</td>\n      <td>0</td>\n      <td>deposit</td>\n    </tr>\n    <tr>\n      <th>6</th>\n      <td>deposit-0x5d3025a16815324cf1afca689903a14d2621...</td>\n      <td>0x5d3025a16815324cf1afca689903a14d2621c19c9572...</td>\n      <td>395431000000000000</td>\n      <td>1.062038e+03</td>\n      <td>37</td>\n      <td>59294798</td>\n      <td>1675915490</td>\n      <td>0x7723c45fb37092ee65202db7a2fe562c5fe0ab48</td>\n      <td>9</td>\n      <td>4</td>\n      <td>...</td>\n      <td>NaN</td>\n      <td>LENDER</td>\n      <td>True</td>\n      <td>395431000000000000</td>\n      <td>1</td>\n      <td>0</td>\n      <td>0</td>\n      <td>0</td>\n      <td>0</td>\n      <td>deposit</td>\n    </tr>\n    <tr>\n      <th>7</th>\n      <td>deposit-0xabfb1cba9108afe5c2dde3f21f5b4de92fae...</td>\n      <td>0xabfb1cba9108afe5c2dde3f21f5b4de92fae79791af2...</td>\n      <td>3797584000000000515</td>\n      <td>1.007686e+04</td>\n      <td>4</td>\n      <td>58531581</td>\n      <td>1675694548</td>\n      <td>0x1d883459bbc71042a9072f106427c4993de44794</td>\n      <td>2</td>\n      <td>2</td>\n      <td>...</td>\n      <td>NaN</td>\n      <td>LENDER</td>\n      <td>True</td>\n      <td>18790084000000000515</td>\n      <td>2</td>\n      <td>0</td>\n      <td>0</td>\n      <td>0</td>\n      <td>0</td>\n      <td>deposit</td>\n    </tr>\n    <tr>\n      <th>8</th>\n      <td>deposit-0xdb674a81e3a0fd547a3a2ace9befd38a3b86...</td>\n      <td>0xdb674a81e3a0fd547a3a2ace9befd38a3b867df74fc0...</td>\n      <td>139919099999999990809</td>\n      <td>3.691123e+05</td>\n      <td>30</td>\n      <td>58285118</td>\n      <td>1675618839</td>\n      <td>0x0fd84d7cb911728737556684050782b298f70f0f</td>\n      <td>7</td>\n      <td>2</td>\n      <td>...</td>\n      <td>NaN</td>\n      <td>LENDER</td>\n      <td>True</td>\n      <td>139919099999999990809</td>\n      <td>1</td>\n      <td>0</td>\n      <td>0</td>\n      <td>0</td>\n      <td>0</td>\n      <td>deposit</td>\n    </tr>\n    <tr>\n      <th>9</th>\n      <td>deposit-0xe1f1f1cfd372bbe64a06346c1dde1102e155...</td>\n      <td>0xe1f1f1cfd372bbe64a06346c1dde1102e155be4ec282...</td>\n      <td>11063985999999999876</td>\n      <td>2.933105e+04</td>\n      <td>34</td>\n      <td>58200953</td>\n      <td>1675595730</td>\n      <td>0x2682efcc31de7a06ed3bf8b0be156ff88e1663a1</td>\n      <td>7</td>\n      <td>2</td>\n      <td>...</td>\n      <td>NaN</td>\n      <td>LENDER</td>\n      <td>True</td>\n      <td>99538985999999994122</td>\n      <td>2</td>\n      <td>0</td>\n      <td>0</td>\n      <td>0</td>\n      <td>0</td>\n      <td>deposit</td>\n    </tr>\n  </tbody>\n</table>\n<p>10 rows × 79 columns</p>\n</div>"
     },
     "execution_count": 143,
     "metadata": {},
     "output_type": "execute_result"
    }
   ],
   "source": [
    "vestaDepositsDb.head(10)"
   ],
   "metadata": {
    "collapsed": false
   }
  },
  {
   "cell_type": "code",
   "execution_count": 144,
   "outputs": [
    {
     "data": {
      "text/plain": "                                       transaction_id  \\\n0   deposit-0xf52f858917e2e47e905f9d3882ee0a599843...   \n1   deposit-0x8102272a3bd5f0e2e3946fbff84f666fbec1...   \n2   deposit-0xebfdf5464a23bb3c12a019bbbaca75ceac4e...   \n3   deposit-0xa8530b80a3aae63661e62d05f9c83afc5e62...   \n4   deposit-0x0712c2c572f53f272b382289d178c5801205...   \n..                                                ...   \n95  deposit-0x150a0c96c8f14947d538ca1300dda4264ae0...   \n96  deposit-0x793373a4daf17d7a609c8da47a5e3d86dbd6...   \n97  deposit-0xb14c5718d943cde03055540a1a3b77c63272...   \n98  deposit-0x4de9095f197be41e69b8af94de1c417edb35...   \n99  deposit-0xa2658ef3d7462248ddf736dfc67f0546c991...   \n\n                                     transaction_hash     transaction_amount  \\\n0   0xf52f858917e2e47e905f9d3882ee0a59984316b6d54c...      38153000000000020   \n1   0x8102272a3bd5f0e2e3946fbff84f666fbec16b044b5b...    7180897000000000000   \n2   0xebfdf5464a23bb3c12a019bbbaca75ceac4ea73a6cee...     200000000000000000   \n3   0xa8530b80a3aae63661e62d05f9c83afc5e62634b5f4c...    1820578000000000000   \n4   0x0712c2c572f53f272b382289d178c5801205eb0b7c99...    5071806000000000000   \n..                                                ...                    ...   \n95  0x150a0c96c8f14947d538ca1300dda4264ae012fde300...     395431000000000000   \n96  0x793373a4daf17d7a609c8da47a5e3d86dbd6a69b287b...  308301768999999971438   \n97  0xb14c5718d943cde03055540a1a3b77c632724f920632...  305387765999999991745   \n98  0x4de9095f197be41e69b8af94de1c417edb352c56ee2f...    1125000000000000000   \n99  0xa2658ef3d7462248ddf736dfc67f0546c9913841a632...    2036068000000000211   \n\n    transaction_amountUSD  transaction_logIndex  transaction_blockNumber  \\\n0              105.708278                     4                 60901615   \n1            19730.457645                    45                 60849806   \n2              534.150395                    45                 60572308   \n3             4844.076792                    45                 60064234   \n4            13494.735046                    45                 59984711   \n..                    ...                   ...                      ...   \n95             932.540205                    42                 44395996   \n96          727064.380085                     4                 44370420   \n97          716424.672560                     4                 44353401   \n98            2722.780126                    42                 43981545   \n99            4927.791543                     4                 43909436   \n\n    transaction_timestamp                      transaction_account_id  \\\n0              1676391255  0x29e46015ccfe13cfe8dc96d75760a6290df311ee   \n1              1676378031  0xc1bbfbc99b57da20e5504e9960e81277d63faeea   \n2              1676296623  0xb9e291b68e584be657477289389b3a6deed3e34c   \n3              1676142977  0xa13f3599ff620500f360dc6185ad30f625ebfc38   \n4              1676119566  0x67fa1561c5f5631de08e38d4484e0df67872f626   \n..                    ...                                         ...   \n95             1670431765  0x7723c45fb37092ee65202db7a2fe562c5fe0ab48   \n96             1670424527  0x0561a78021d8966ddd20c28c6c4318d8675ee1f0   \n97             1670419659  0x0561a78021d8966ddd20c28c6c4318d8675ee1f0   \n98             1670300772  0xc04f25ef37e2a960afa400e623c386625c7802e3   \n99             1670274054  0x0561a78021d8966ddd20c28c6c4318d8675ee1f0   \n\n    transaction_account_positionCount  transaction_account_openPositionCount  \\\n0                                   2                                      2   \n1                                   2                                      2   \n2                                   2                                      2   \n3                                   2                                      2   \n4                                   2                                      2   \n..                                ...                                    ...   \n95                                  9                                      4   \n96                                152                                      0   \n97                                152                                      0   \n98                                  2                                      2   \n99                                152                                      0   \n\n    ...  transaction_position_side  transaction_position_isCollateral  \\\n0   ...                     LENDER                               True   \n1   ...                     LENDER                               True   \n2   ...                     LENDER                               True   \n3   ...                     LENDER                               True   \n4   ...                     LENDER                               True   \n..  ...                        ...                                ...   \n95  ...                     LENDER                              False   \n96  ...                     LENDER                              False   \n97  ...                     LENDER                              False   \n98  ...                     LENDER                               True   \n99  ...                     LENDER                              False   \n\n    transaction_position_balance  transaction_position_depositCount  \\\n0             238519000000000020                                  2   \n1            7180897000000000000                                  1   \n2             200000000000000000                                  1   \n3            1820578000000000000                                  1   \n4            5071806000000000000                                  1   \n..                           ...                                ...   \n95                             0                                  1   \n96                             0                                  1   \n97                             0                                  1   \n98           1125000000000000000                                  1   \n99                             0                                  2   \n\n    transaction_position_withdrawCount  transaction_position_borrowCount  \\\n0                                    0                                 0   \n1                                    0                                 0   \n2                                    0                                 0   \n3                                    0                                 0   \n4                                    0                                 0   \n..                                 ...                               ...   \n95                                   1                                 0   \n96                                   2                                 0   \n97                                   1                                 0   \n98                                   0                                 0   \n99                                   2                                 0   \n\n    transaction_position_repayCount transaction_position_liquidationCount  \\\n0                                 0                                     0   \n1                                 0                                     0   \n2                                 0                                     0   \n3                                 0                                     0   \n4                                 0                                     0   \n..                              ...                                   ...   \n95                                0                                     0   \n96                                0                                     0   \n97                                0                                     0   \n98                                0                                     0   \n99                                0                                     0   \n\n      event            dateTime  \n0   deposit 2023-02-14 16:14:15  \n1   deposit 2023-02-14 12:33:51  \n2   deposit 2023-02-13 13:57:03  \n3   deposit 2023-02-11 19:16:17  \n4   deposit 2023-02-11 12:46:06  \n..      ...                 ...  \n95  deposit 2022-12-07 16:49:25  \n96  deposit 2022-12-07 14:48:47  \n97  deposit 2022-12-07 13:27:39  \n98  deposit 2022-12-06 04:26:12  \n99  deposit 2022-12-05 21:00:54  \n\n[100 rows x 80 columns]",
      "text/html": "<div>\n<style scoped>\n    .dataframe tbody tr th:only-of-type {\n        vertical-align: middle;\n    }\n\n    .dataframe tbody tr th {\n        vertical-align: top;\n    }\n\n    .dataframe thead th {\n        text-align: right;\n    }\n</style>\n<table border=\"1\" class=\"dataframe\">\n  <thead>\n    <tr style=\"text-align: right;\">\n      <th></th>\n      <th>transaction_id</th>\n      <th>transaction_hash</th>\n      <th>transaction_amount</th>\n      <th>transaction_amountUSD</th>\n      <th>transaction_logIndex</th>\n      <th>transaction_blockNumber</th>\n      <th>transaction_timestamp</th>\n      <th>transaction_account_id</th>\n      <th>transaction_account_positionCount</th>\n      <th>transaction_account_openPositionCount</th>\n      <th>...</th>\n      <th>transaction_position_side</th>\n      <th>transaction_position_isCollateral</th>\n      <th>transaction_position_balance</th>\n      <th>transaction_position_depositCount</th>\n      <th>transaction_position_withdrawCount</th>\n      <th>transaction_position_borrowCount</th>\n      <th>transaction_position_repayCount</th>\n      <th>transaction_position_liquidationCount</th>\n      <th>event</th>\n      <th>dateTime</th>\n    </tr>\n  </thead>\n  <tbody>\n    <tr>\n      <th>0</th>\n      <td>deposit-0xf52f858917e2e47e905f9d3882ee0a599843...</td>\n      <td>0xf52f858917e2e47e905f9d3882ee0a59984316b6d54c...</td>\n      <td>38153000000000020</td>\n      <td>105.708278</td>\n      <td>4</td>\n      <td>60901615</td>\n      <td>1676391255</td>\n      <td>0x29e46015ccfe13cfe8dc96d75760a6290df311ee</td>\n      <td>2</td>\n      <td>2</td>\n      <td>...</td>\n      <td>LENDER</td>\n      <td>True</td>\n      <td>238519000000000020</td>\n      <td>2</td>\n      <td>0</td>\n      <td>0</td>\n      <td>0</td>\n      <td>0</td>\n      <td>deposit</td>\n      <td>2023-02-14 16:14:15</td>\n    </tr>\n    <tr>\n      <th>1</th>\n      <td>deposit-0x8102272a3bd5f0e2e3946fbff84f666fbec1...</td>\n      <td>0x8102272a3bd5f0e2e3946fbff84f666fbec16b044b5b...</td>\n      <td>7180897000000000000</td>\n      <td>19730.457645</td>\n      <td>45</td>\n      <td>60849806</td>\n      <td>1676378031</td>\n      <td>0xc1bbfbc99b57da20e5504e9960e81277d63faeea</td>\n      <td>2</td>\n      <td>2</td>\n      <td>...</td>\n      <td>LENDER</td>\n      <td>True</td>\n      <td>7180897000000000000</td>\n      <td>1</td>\n      <td>0</td>\n      <td>0</td>\n      <td>0</td>\n      <td>0</td>\n      <td>deposit</td>\n      <td>2023-02-14 12:33:51</td>\n    </tr>\n    <tr>\n      <th>2</th>\n      <td>deposit-0xebfdf5464a23bb3c12a019bbbaca75ceac4e...</td>\n      <td>0xebfdf5464a23bb3c12a019bbbaca75ceac4ea73a6cee...</td>\n      <td>200000000000000000</td>\n      <td>534.150395</td>\n      <td>45</td>\n      <td>60572308</td>\n      <td>1676296623</td>\n      <td>0xb9e291b68e584be657477289389b3a6deed3e34c</td>\n      <td>2</td>\n      <td>2</td>\n      <td>...</td>\n      <td>LENDER</td>\n      <td>True</td>\n      <td>200000000000000000</td>\n      <td>1</td>\n      <td>0</td>\n      <td>0</td>\n      <td>0</td>\n      <td>0</td>\n      <td>deposit</td>\n      <td>2023-02-13 13:57:03</td>\n    </tr>\n    <tr>\n      <th>3</th>\n      <td>deposit-0xa8530b80a3aae63661e62d05f9c83afc5e62...</td>\n      <td>0xa8530b80a3aae63661e62d05f9c83afc5e62634b5f4c...</td>\n      <td>1820578000000000000</td>\n      <td>4844.076792</td>\n      <td>45</td>\n      <td>60064234</td>\n      <td>1676142977</td>\n      <td>0xa13f3599ff620500f360dc6185ad30f625ebfc38</td>\n      <td>2</td>\n      <td>2</td>\n      <td>...</td>\n      <td>LENDER</td>\n      <td>True</td>\n      <td>1820578000000000000</td>\n      <td>1</td>\n      <td>0</td>\n      <td>0</td>\n      <td>0</td>\n      <td>0</td>\n      <td>deposit</td>\n      <td>2023-02-11 19:16:17</td>\n    </tr>\n    <tr>\n      <th>4</th>\n      <td>deposit-0x0712c2c572f53f272b382289d178c5801205...</td>\n      <td>0x0712c2c572f53f272b382289d178c5801205eb0b7c99...</td>\n      <td>5071806000000000000</td>\n      <td>13494.735046</td>\n      <td>45</td>\n      <td>59984711</td>\n      <td>1676119566</td>\n      <td>0x67fa1561c5f5631de08e38d4484e0df67872f626</td>\n      <td>2</td>\n      <td>2</td>\n      <td>...</td>\n      <td>LENDER</td>\n      <td>True</td>\n      <td>5071806000000000000</td>\n      <td>1</td>\n      <td>0</td>\n      <td>0</td>\n      <td>0</td>\n      <td>0</td>\n      <td>deposit</td>\n      <td>2023-02-11 12:46:06</td>\n    </tr>\n    <tr>\n      <th>...</th>\n      <td>...</td>\n      <td>...</td>\n      <td>...</td>\n      <td>...</td>\n      <td>...</td>\n      <td>...</td>\n      <td>...</td>\n      <td>...</td>\n      <td>...</td>\n      <td>...</td>\n      <td>...</td>\n      <td>...</td>\n      <td>...</td>\n      <td>...</td>\n      <td>...</td>\n      <td>...</td>\n      <td>...</td>\n      <td>...</td>\n      <td>...</td>\n      <td>...</td>\n      <td>...</td>\n    </tr>\n    <tr>\n      <th>95</th>\n      <td>deposit-0x150a0c96c8f14947d538ca1300dda4264ae0...</td>\n      <td>0x150a0c96c8f14947d538ca1300dda4264ae012fde300...</td>\n      <td>395431000000000000</td>\n      <td>932.540205</td>\n      <td>42</td>\n      <td>44395996</td>\n      <td>1670431765</td>\n      <td>0x7723c45fb37092ee65202db7a2fe562c5fe0ab48</td>\n      <td>9</td>\n      <td>4</td>\n      <td>...</td>\n      <td>LENDER</td>\n      <td>False</td>\n      <td>0</td>\n      <td>1</td>\n      <td>1</td>\n      <td>0</td>\n      <td>0</td>\n      <td>0</td>\n      <td>deposit</td>\n      <td>2022-12-07 16:49:25</td>\n    </tr>\n    <tr>\n      <th>96</th>\n      <td>deposit-0x793373a4daf17d7a609c8da47a5e3d86dbd6...</td>\n      <td>0x793373a4daf17d7a609c8da47a5e3d86dbd6a69b287b...</td>\n      <td>308301768999999971438</td>\n      <td>727064.380085</td>\n      <td>4</td>\n      <td>44370420</td>\n      <td>1670424527</td>\n      <td>0x0561a78021d8966ddd20c28c6c4318d8675ee1f0</td>\n      <td>152</td>\n      <td>0</td>\n      <td>...</td>\n      <td>LENDER</td>\n      <td>False</td>\n      <td>0</td>\n      <td>1</td>\n      <td>2</td>\n      <td>0</td>\n      <td>0</td>\n      <td>0</td>\n      <td>deposit</td>\n      <td>2022-12-07 14:48:47</td>\n    </tr>\n    <tr>\n      <th>97</th>\n      <td>deposit-0xb14c5718d943cde03055540a1a3b77c63272...</td>\n      <td>0xb14c5718d943cde03055540a1a3b77c632724f920632...</td>\n      <td>305387765999999991745</td>\n      <td>716424.672560</td>\n      <td>4</td>\n      <td>44353401</td>\n      <td>1670419659</td>\n      <td>0x0561a78021d8966ddd20c28c6c4318d8675ee1f0</td>\n      <td>152</td>\n      <td>0</td>\n      <td>...</td>\n      <td>LENDER</td>\n      <td>False</td>\n      <td>0</td>\n      <td>1</td>\n      <td>1</td>\n      <td>0</td>\n      <td>0</td>\n      <td>0</td>\n      <td>deposit</td>\n      <td>2022-12-07 13:27:39</td>\n    </tr>\n    <tr>\n      <th>98</th>\n      <td>deposit-0x4de9095f197be41e69b8af94de1c417edb35...</td>\n      <td>0x4de9095f197be41e69b8af94de1c417edb352c56ee2f...</td>\n      <td>1125000000000000000</td>\n      <td>2722.780126</td>\n      <td>42</td>\n      <td>43981545</td>\n      <td>1670300772</td>\n      <td>0xc04f25ef37e2a960afa400e623c386625c7802e3</td>\n      <td>2</td>\n      <td>2</td>\n      <td>...</td>\n      <td>LENDER</td>\n      <td>True</td>\n      <td>1125000000000000000</td>\n      <td>1</td>\n      <td>0</td>\n      <td>0</td>\n      <td>0</td>\n      <td>0</td>\n      <td>deposit</td>\n      <td>2022-12-06 04:26:12</td>\n    </tr>\n    <tr>\n      <th>99</th>\n      <td>deposit-0xa2658ef3d7462248ddf736dfc67f0546c991...</td>\n      <td>0xa2658ef3d7462248ddf736dfc67f0546c9913841a632...</td>\n      <td>2036068000000000211</td>\n      <td>4927.791543</td>\n      <td>4</td>\n      <td>43909436</td>\n      <td>1670274054</td>\n      <td>0x0561a78021d8966ddd20c28c6c4318d8675ee1f0</td>\n      <td>152</td>\n      <td>0</td>\n      <td>...</td>\n      <td>LENDER</td>\n      <td>False</td>\n      <td>0</td>\n      <td>2</td>\n      <td>2</td>\n      <td>0</td>\n      <td>0</td>\n      <td>0</td>\n      <td>deposit</td>\n      <td>2022-12-05 21:00:54</td>\n    </tr>\n  </tbody>\n</table>\n<p>100 rows × 80 columns</p>\n</div>"
     },
     "execution_count": 144,
     "metadata": {},
     "output_type": "execute_result"
    }
   ],
   "source": [
    "vestaDepositsDbTimed = db.query(\"select \"\n",
    "               \"    * \"\n",
    "                    \" ,to_timestamp(transaction_timestamp::int) dateTime \"\n",
    "               \"From vestaDepositsDb \"\n",
    "               #\"where lower(liquidityPools_name) like lower('%olympus%') \"\n",
    "                #    \"or lower(pairs_token1_symbol) like lower('%OHM%')  \"\n",
    "               #\" limit 100 \"\n",
    "               ).df()\n",
    "\n",
    "vestaDepositsDbTimed.head(100)"
   ],
   "metadata": {
    "collapsed": false
   }
  },
  {
   "cell_type": "code",
   "execution_count": 104,
   "outputs": [
    {
     "name": "stdout",
     "output_type": "stream",
     "text": [
      "file saved\n"
     ]
    }
   ],
   "source": [
    "vestaDepositsDbTimedLength = len(vestaDepositsDbTimed)\n",
    "path =file+'/vesta_deposit_events.csv'\n",
    "vestaDepositsDbTimed.to_csv(path, index = False)\n",
    "\n",
    "path =file+'/vesta_deposit_events_piped.csv'\n",
    "vestaDepositsDbTimed.to_csv(path, index = False, sep='|')\n",
    "print('file saved')"
   ],
   "metadata": {
    "collapsed": false
   }
  },
  {
   "cell_type": "code",
   "execution_count": 105,
   "outputs": [
    {
     "name": "stdout",
     "output_type": "stream",
     "text": [
      "iterations:  0 Lines skipped:  0 records collected:  1000  - latest recordID:  0xac8ecdaf59200e43e6e6233bcd31728b0db4bc5435932aef9921cf35ba9fc003   repay-0xac8ecdaf59200e43e6e6233bcd31728b0db4bc5435932aef9921cf35ba9fc003-26  - vestaRepays DB length:  1000  - latest record from:  2023-02-12 22:51:18 1 days ago\n",
      "iterations:  1 Lines skipped:  1000 records collected:  993  - latest recordID:  0x9633a7166f3744cde872b630378d9eaeec5f0da82d7384673c164c12250486c0   repay-0x9633a7166f3744cde872b630378d9eaeec5f0da82d7384673c164c12250486c0-26  - vestaRepays DB length:  1993  - latest record from:  2023-02-12 22:44:00 1 days ago\n",
      "Done. Total Records collected:  1993\n"
     ]
    }
   ],
   "source": [
    "##this tracks the ENTIRE list of events for vestaRepaying the VST vestaRepayed against gOHM\n",
    "vestaRepayTicker = 0\n",
    "vestaRepayslist = pd.DataFrame()\n",
    "vestaRepaysDb = pd.DataFrame()\n",
    "vestaRepayListLength = 1000\n",
    "datediff = 0\n",
    "now=0\n",
    "daysAgo=0\n",
    "daysLimit = 45\n",
    "exit = False\n",
    "while exit==False:\n",
    "    skipValue = (vestaRepayTicker)*(1000)\n",
    "    vestaRepays = vesta.Query.repays(\n",
    "        orderBy='timestamp',\n",
    "        orderDirection='desc',\n",
    "        first=1000,\n",
    "        skip = skipValue,\n",
    "        where={ 'market': '0x8d9ba570d6cb60c7e3e0f31343efe75ab8e65fb1' } #gOHM market\n",
    "\n",
    "    )\n",
    "\n",
    "    vestaRepayslist = sg.query_df([\n",
    "        vestaRepays.id\n",
    "        ,vestaRepays.hash\n",
    "        ,vestaRepays.logIndex\n",
    "        ,vestaRepays.blockNumber\n",
    "        ,vestaRepays.timestamp\n",
    "        ,vestaRepays.account\n",
    "        ,vestaRepays.market\n",
    "        ,vestaRepays.market.rates\n",
    "        ,vestaRepays.asset\n",
    "        ,vestaRepays.amount\n",
    "        ,vestaRepays.amountUSD\n",
    "        ,vestaRepays.position\n",
    "    ])\n",
    "\n",
    "    #vestaRepayslist.sort_values(by=['vestaRepays_timestamp'])\n",
    "\n",
    "    vestaRepaysDb=pd.concat([vestaRepaysDb, vestaRepayslist])\n",
    "    recordTimestamp1 = vestaRepaysDb.iat[vestaRepayTicker,4]\n",
    "    recordTimestamp = dt.datetime.fromtimestamp( recordTimestamp1 )\n",
    "    now = (int(dt.datetime.utcnow().timestamp()))\n",
    "    datediff=abs(int(now) - recordTimestamp1)\n",
    "    daysAgo = int(datediff/86400)\n",
    "    vestaRepaysDbLength = len(vestaRepaysDb)\n",
    "    vestaRepayListLength = len(vestaRepayslist)\n",
    "    recordID = vestaRepaysDb.iat[vestaRepayTicker,0]\n",
    "    vestaRepay = vestaRepaysDb.iat[vestaRepayTicker,1]\n",
    "    print(\"iterations: \", vestaRepayTicker, \"Lines skipped: \",skipValue, \"records collected: \", vestaRepayListLength, \" - latest recordID: \",vestaRepay, \" \", recordID , \" - vestaRepays DB length: \", vestaRepaysDbLength, \" - latest record from: \", recordTimestamp, daysAgo,\"days ago\")\n",
    "    #print(\"iterations: \", vestaRepayTicker, \"records collected: \", vestaRepayListLength, \" - userdb length: \", vestaRepaysDbLength)\n",
    "    vestaRepayTicker = vestaRepayTicker+1\n",
    "\n",
    "    if daysAgo>daysLimit: exit =True\n",
    "    if vestaRepayListLength<1000: exit =True\n",
    "\n",
    "vestaRepaysDb.columns = vestaRepaysDb.columns.str.replace(\"repays\", \"transaction\")\n",
    "vestaRepaysDb['event']='Repay'\n",
    "print(\"Done. Total Records collected: \", vestaRepaysDbLength)"
   ],
   "metadata": {
    "collapsed": false
   }
  },
  {
   "cell_type": "code",
   "execution_count": 107,
   "outputs": [
    {
     "data": {
      "text/plain": "                                      transaction_id  \\\n0  repay-0xac8ecdaf59200e43e6e6233bcd31728b0db4bc...   \n1  repay-0x9633a7166f3744cde872b630378d9eaeec5f0d...   \n2  repay-0x851007fa5a8371105a73452ccbd7a0a4eb976e...   \n3  repay-0xa243d87a35b20328eac5637a6db98058707cd0...   \n4  repay-0xdee0c294dd70fb50547428f7e6d6ea6b135cb8...   \n5  repay-0xd6e3c80447789b02b1b9282c1624d5885a19f4...   \n6  repay-0xae8658b03d6aee809d73702ece0d60ced1b6be...   \n7  repay-0xa02ca5cb2651d3bd78de426c9c010eea013be5...   \n8  repay-0x44899a838a0d9eaf2f48a95594a3b1041bcbdf...   \n9  repay-0x91f5c48839b978c11fbbe3f9502c5538060257...   \n\n                                    transaction_hash  transaction_logIndex  \\\n0  0xac8ecdaf59200e43e6e6233bcd31728b0db4bc543593...                    26   \n1  0x9633a7166f3744cde872b630378d9eaeec5f0da82d73...                    26   \n2  0x851007fa5a8371105a73452ccbd7a0a4eb976e7d2c12...                    32   \n3  0xa243d87a35b20328eac5637a6db98058707cd0161df6...                    61   \n4  0xdee0c294dd70fb50547428f7e6d6ea6b135cb8a4d75a...                    33   \n5  0xd6e3c80447789b02b1b9282c1624d5885a19f40712bd...                    25   \n6  0xae8658b03d6aee809d73702ece0d60ced1b6be240b82...                    58   \n7  0xa02ca5cb2651d3bd78de426c9c010eea013be53c8843...                    23   \n8  0x44899a838a0d9eaf2f48a95594a3b1041bcbdfabe482...                    29   \n9  0x91f5c48839b978c11fbbe3f9502c55380602570911ec...                    29   \n\n   transaction_blockNumber  transaction_timestamp  \\\n0                 60476974             1676271078   \n1                 60475459             1676270640   \n2                 59865436             1676083788   \n3                 59508912             1675978810   \n4                 59130546             1675866794   \n5                 59010222             1675835228   \n6                 58773043             1675767985   \n7                 58627462             1675722780   \n8                 58627282             1675722712   \n9                 58336925             1675634888   \n\n                       transaction_account_id  \\\n0  0x6c01ec9622e50799d62ca076f2e2aa34dc840d5b   \n1  0x5c9d09716404556646b0b4567cb4621c18581f94   \n2  0xc9e166f2737e004e93800dcef0d608b014df07f6   \n3  0xf5d0318692f822680b733955828a25507f031c95   \n4  0x515755b2c5a209976cf0de869c30f45ac7495a60   \n5  0x7ee54ab0f204bb3a83df90fdd824d8b4abe93222   \n6  0x09fc8cd1d422e77cef172ef85cda1953915a8b74   \n7  0xfa4dfbe7b012b1d92fdd5544f30518bb58bd41ce   \n8  0xfa4dfbe7b012b1d92fdd5544f30518bb58bd41ce   \n9  0xe2a4de267cdd4ff5ed9ba13552f5c624b12db9b2   \n\n   transaction_account_positionCount  transaction_account_openPositionCount  \\\n0                                  4                                      0   \n1                                  5                                      0   \n2                                 25                                      4   \n3                                  2                                      0   \n4                                  6                                      0   \n5                                  3                                      0   \n6                                  2                                      0   \n7                                  2                                      0   \n8                                  2                                      0   \n9                                 20                                      6   \n\n   transaction_account_closedPositionCount  transaction_account_depositCount  \\\n0                                        4                                 1   \n1                                        5                                 1   \n2                                       21                                16   \n3                                        2                                 1   \n4                                        6                                12   \n5                                        3                                 1   \n6                                        2                                 1   \n7                                        2                                 1   \n8                                        2                                 1   \n9                                       14                                65   \n\n   ...  transaction_position_timestampClosed  transaction_position_side  \\\n0  ...                          1.676271e+09                   BORROWER   \n1  ...                          1.676271e+09                   BORROWER   \n2  ...                                   NaN                   BORROWER   \n3  ...                          1.675979e+09                   BORROWER   \n4  ...                          1.675867e+09                   BORROWER   \n5  ...                          1.675835e+09                   BORROWER   \n6  ...                          1.675768e+09                   BORROWER   \n7  ...                          1.675723e+09                   BORROWER   \n8  ...                          1.675723e+09                   BORROWER   \n9  ...                                   NaN                   BORROWER   \n\n   transaction_position_isCollateral  transaction_position_balance  \\\n0                               None                             0   \n1                               None                             0   \n2                               None        3765250283408587788786   \n3                               None                             0   \n4                               None                             0   \n5                               None                             0   \n6                               None                             0   \n7                               None                             0   \n8                               None                             0   \n9                               None       78903329999999999121255   \n\n   transaction_position_depositCount transaction_position_withdrawCount  \\\n0                                  0                                  0   \n1                                  0                                  0   \n2                                  0                                  0   \n3                                  0                                  0   \n4                                  0                                  0   \n5                                  0                                  0   \n6                                  0                                  0   \n7                                  0                                  0   \n8                                  0                                  0   \n9                                  0                                  0   \n\n  transaction_position_borrowCount transaction_position_repayCount  \\\n0                                2                               2   \n1                                2                               3   \n2                               32                              21   \n3                                1                               1   \n4                                1                               1   \n5                                1                               3   \n6                                1                               1   \n7                                1                               2   \n8                                1                               2   \n9                                6                               1   \n\n   transaction_position_liquidationCount  event  \n0                                      0  Repay  \n1                                      0  Repay  \n2                                      0  Repay  \n3                                      0  Repay  \n4                                      0  Repay  \n5                                      0  Repay  \n6                                      0  Repay  \n7                                      0  Repay  \n8                                      0  Repay  \n9                                      0  Repay  \n\n[10 rows x 79 columns]",
      "text/html": "<div>\n<style scoped>\n    .dataframe tbody tr th:only-of-type {\n        vertical-align: middle;\n    }\n\n    .dataframe tbody tr th {\n        vertical-align: top;\n    }\n\n    .dataframe thead th {\n        text-align: right;\n    }\n</style>\n<table border=\"1\" class=\"dataframe\">\n  <thead>\n    <tr style=\"text-align: right;\">\n      <th></th>\n      <th>transaction_id</th>\n      <th>transaction_hash</th>\n      <th>transaction_logIndex</th>\n      <th>transaction_blockNumber</th>\n      <th>transaction_timestamp</th>\n      <th>transaction_account_id</th>\n      <th>transaction_account_positionCount</th>\n      <th>transaction_account_openPositionCount</th>\n      <th>transaction_account_closedPositionCount</th>\n      <th>transaction_account_depositCount</th>\n      <th>...</th>\n      <th>transaction_position_timestampClosed</th>\n      <th>transaction_position_side</th>\n      <th>transaction_position_isCollateral</th>\n      <th>transaction_position_balance</th>\n      <th>transaction_position_depositCount</th>\n      <th>transaction_position_withdrawCount</th>\n      <th>transaction_position_borrowCount</th>\n      <th>transaction_position_repayCount</th>\n      <th>transaction_position_liquidationCount</th>\n      <th>event</th>\n    </tr>\n  </thead>\n  <tbody>\n    <tr>\n      <th>0</th>\n      <td>repay-0xac8ecdaf59200e43e6e6233bcd31728b0db4bc...</td>\n      <td>0xac8ecdaf59200e43e6e6233bcd31728b0db4bc543593...</td>\n      <td>26</td>\n      <td>60476974</td>\n      <td>1676271078</td>\n      <td>0x6c01ec9622e50799d62ca076f2e2aa34dc840d5b</td>\n      <td>4</td>\n      <td>0</td>\n      <td>4</td>\n      <td>1</td>\n      <td>...</td>\n      <td>1.676271e+09</td>\n      <td>BORROWER</td>\n      <td>None</td>\n      <td>0</td>\n      <td>0</td>\n      <td>0</td>\n      <td>2</td>\n      <td>2</td>\n      <td>0</td>\n      <td>Repay</td>\n    </tr>\n    <tr>\n      <th>1</th>\n      <td>repay-0x9633a7166f3744cde872b630378d9eaeec5f0d...</td>\n      <td>0x9633a7166f3744cde872b630378d9eaeec5f0da82d73...</td>\n      <td>26</td>\n      <td>60475459</td>\n      <td>1676270640</td>\n      <td>0x5c9d09716404556646b0b4567cb4621c18581f94</td>\n      <td>5</td>\n      <td>0</td>\n      <td>5</td>\n      <td>1</td>\n      <td>...</td>\n      <td>1.676271e+09</td>\n      <td>BORROWER</td>\n      <td>None</td>\n      <td>0</td>\n      <td>0</td>\n      <td>0</td>\n      <td>2</td>\n      <td>3</td>\n      <td>0</td>\n      <td>Repay</td>\n    </tr>\n    <tr>\n      <th>2</th>\n      <td>repay-0x851007fa5a8371105a73452ccbd7a0a4eb976e...</td>\n      <td>0x851007fa5a8371105a73452ccbd7a0a4eb976e7d2c12...</td>\n      <td>32</td>\n      <td>59865436</td>\n      <td>1676083788</td>\n      <td>0xc9e166f2737e004e93800dcef0d608b014df07f6</td>\n      <td>25</td>\n      <td>4</td>\n      <td>21</td>\n      <td>16</td>\n      <td>...</td>\n      <td>NaN</td>\n      <td>BORROWER</td>\n      <td>None</td>\n      <td>3765250283408587788786</td>\n      <td>0</td>\n      <td>0</td>\n      <td>32</td>\n      <td>21</td>\n      <td>0</td>\n      <td>Repay</td>\n    </tr>\n    <tr>\n      <th>3</th>\n      <td>repay-0xa243d87a35b20328eac5637a6db98058707cd0...</td>\n      <td>0xa243d87a35b20328eac5637a6db98058707cd0161df6...</td>\n      <td>61</td>\n      <td>59508912</td>\n      <td>1675978810</td>\n      <td>0xf5d0318692f822680b733955828a25507f031c95</td>\n      <td>2</td>\n      <td>0</td>\n      <td>2</td>\n      <td>1</td>\n      <td>...</td>\n      <td>1.675979e+09</td>\n      <td>BORROWER</td>\n      <td>None</td>\n      <td>0</td>\n      <td>0</td>\n      <td>0</td>\n      <td>1</td>\n      <td>1</td>\n      <td>0</td>\n      <td>Repay</td>\n    </tr>\n    <tr>\n      <th>4</th>\n      <td>repay-0xdee0c294dd70fb50547428f7e6d6ea6b135cb8...</td>\n      <td>0xdee0c294dd70fb50547428f7e6d6ea6b135cb8a4d75a...</td>\n      <td>33</td>\n      <td>59130546</td>\n      <td>1675866794</td>\n      <td>0x515755b2c5a209976cf0de869c30f45ac7495a60</td>\n      <td>6</td>\n      <td>0</td>\n      <td>6</td>\n      <td>12</td>\n      <td>...</td>\n      <td>1.675867e+09</td>\n      <td>BORROWER</td>\n      <td>None</td>\n      <td>0</td>\n      <td>0</td>\n      <td>0</td>\n      <td>1</td>\n      <td>1</td>\n      <td>0</td>\n      <td>Repay</td>\n    </tr>\n    <tr>\n      <th>5</th>\n      <td>repay-0xd6e3c80447789b02b1b9282c1624d5885a19f4...</td>\n      <td>0xd6e3c80447789b02b1b9282c1624d5885a19f40712bd...</td>\n      <td>25</td>\n      <td>59010222</td>\n      <td>1675835228</td>\n      <td>0x7ee54ab0f204bb3a83df90fdd824d8b4abe93222</td>\n      <td>3</td>\n      <td>0</td>\n      <td>3</td>\n      <td>1</td>\n      <td>...</td>\n      <td>1.675835e+09</td>\n      <td>BORROWER</td>\n      <td>None</td>\n      <td>0</td>\n      <td>0</td>\n      <td>0</td>\n      <td>1</td>\n      <td>3</td>\n      <td>0</td>\n      <td>Repay</td>\n    </tr>\n    <tr>\n      <th>6</th>\n      <td>repay-0xae8658b03d6aee809d73702ece0d60ced1b6be...</td>\n      <td>0xae8658b03d6aee809d73702ece0d60ced1b6be240b82...</td>\n      <td>58</td>\n      <td>58773043</td>\n      <td>1675767985</td>\n      <td>0x09fc8cd1d422e77cef172ef85cda1953915a8b74</td>\n      <td>2</td>\n      <td>0</td>\n      <td>2</td>\n      <td>1</td>\n      <td>...</td>\n      <td>1.675768e+09</td>\n      <td>BORROWER</td>\n      <td>None</td>\n      <td>0</td>\n      <td>0</td>\n      <td>0</td>\n      <td>1</td>\n      <td>1</td>\n      <td>0</td>\n      <td>Repay</td>\n    </tr>\n    <tr>\n      <th>7</th>\n      <td>repay-0xa02ca5cb2651d3bd78de426c9c010eea013be5...</td>\n      <td>0xa02ca5cb2651d3bd78de426c9c010eea013be53c8843...</td>\n      <td>23</td>\n      <td>58627462</td>\n      <td>1675722780</td>\n      <td>0xfa4dfbe7b012b1d92fdd5544f30518bb58bd41ce</td>\n      <td>2</td>\n      <td>0</td>\n      <td>2</td>\n      <td>1</td>\n      <td>...</td>\n      <td>1.675723e+09</td>\n      <td>BORROWER</td>\n      <td>None</td>\n      <td>0</td>\n      <td>0</td>\n      <td>0</td>\n      <td>1</td>\n      <td>2</td>\n      <td>0</td>\n      <td>Repay</td>\n    </tr>\n    <tr>\n      <th>8</th>\n      <td>repay-0x44899a838a0d9eaf2f48a95594a3b1041bcbdf...</td>\n      <td>0x44899a838a0d9eaf2f48a95594a3b1041bcbdfabe482...</td>\n      <td>29</td>\n      <td>58627282</td>\n      <td>1675722712</td>\n      <td>0xfa4dfbe7b012b1d92fdd5544f30518bb58bd41ce</td>\n      <td>2</td>\n      <td>0</td>\n      <td>2</td>\n      <td>1</td>\n      <td>...</td>\n      <td>1.675723e+09</td>\n      <td>BORROWER</td>\n      <td>None</td>\n      <td>0</td>\n      <td>0</td>\n      <td>0</td>\n      <td>1</td>\n      <td>2</td>\n      <td>0</td>\n      <td>Repay</td>\n    </tr>\n    <tr>\n      <th>9</th>\n      <td>repay-0x91f5c48839b978c11fbbe3f9502c5538060257...</td>\n      <td>0x91f5c48839b978c11fbbe3f9502c55380602570911ec...</td>\n      <td>29</td>\n      <td>58336925</td>\n      <td>1675634888</td>\n      <td>0xe2a4de267cdd4ff5ed9ba13552f5c624b12db9b2</td>\n      <td>20</td>\n      <td>6</td>\n      <td>14</td>\n      <td>65</td>\n      <td>...</td>\n      <td>NaN</td>\n      <td>BORROWER</td>\n      <td>None</td>\n      <td>78903329999999999121255</td>\n      <td>0</td>\n      <td>0</td>\n      <td>6</td>\n      <td>1</td>\n      <td>0</td>\n      <td>Repay</td>\n    </tr>\n  </tbody>\n</table>\n<p>10 rows × 79 columns</p>\n</div>"
     },
     "execution_count": 107,
     "metadata": {},
     "output_type": "execute_result"
    }
   ],
   "source": [
    "vestaRepaysDb.head(10)"
   ],
   "metadata": {
    "collapsed": false
   }
  },
  {
   "cell_type": "code",
   "execution_count": 108,
   "outputs": [
    {
     "data": {
      "text/plain": "                                       transaction_id  \\\n0   repay-0xac8ecdaf59200e43e6e6233bcd31728b0db4bc...   \n1   repay-0x9633a7166f3744cde872b630378d9eaeec5f0d...   \n2   repay-0x851007fa5a8371105a73452ccbd7a0a4eb976e...   \n3   repay-0xa243d87a35b20328eac5637a6db98058707cd0...   \n4   repay-0xdee0c294dd70fb50547428f7e6d6ea6b135cb8...   \n..                                                ...   \n95  repay-0x31f50dafe996af986b9ebcccec517622766428...   \n96  repay-0x068e815a00681a2095350881ca55e8e70ad9a3...   \n97  repay-0x5aa8ad449d2938339d79f5b073fbc0404e8053...   \n98  repay-0x7957344400905e02ec95bedf686708c27e28f6...   \n99  repay-0xb65bfe868838ee1b65d3313891da3118264e98...   \n\n                                     transaction_hash  transaction_logIndex  \\\n0   0xac8ecdaf59200e43e6e6233bcd31728b0db4bc543593...                    26   \n1   0x9633a7166f3744cde872b630378d9eaeec5f0da82d73...                    26   \n2   0x851007fa5a8371105a73452ccbd7a0a4eb976e7d2c12...                    32   \n3   0xa243d87a35b20328eac5637a6db98058707cd0161df6...                    61   \n4   0xdee0c294dd70fb50547428f7e6d6ea6b135cb8a4d75a...                    33   \n..                                                ...                   ...   \n95  0x31f50dafe996af986b9ebcccec517622766428ddb0f1...                    29   \n96  0x068e815a00681a2095350881ca55e8e70ad9a310069e...                    23   \n97  0x5aa8ad449d2938339d79f5b073fbc0404e8053054f12...                     4   \n98  0x7957344400905e02ec95bedf686708c27e28f6a0dbc8...                    31   \n99  0xb65bfe868838ee1b65d3313891da3118264e98a64277...                    29   \n\n    transaction_blockNumber  transaction_timestamp  \\\n0                  60476974             1676271078   \n1                  60475459             1676270640   \n2                  59865436             1676083788   \n3                  59508912             1675978810   \n4                  59130546             1675866794   \n..                      ...                    ...   \n95                 46691414             1671211991   \n96                 46687990             1671210828   \n97                 46687580             1671210684   \n98                 46686900             1671210471   \n99                 46686617             1671210388   \n\n                        transaction_account_id  \\\n0   0x6c01ec9622e50799d62ca076f2e2aa34dc840d5b   \n1   0x5c9d09716404556646b0b4567cb4621c18581f94   \n2   0xc9e166f2737e004e93800dcef0d608b014df07f6   \n3   0xf5d0318692f822680b733955828a25507f031c95   \n4   0x515755b2c5a209976cf0de869c30f45ac7495a60   \n..                                         ...   \n95  0x0561a78021d8966ddd20c28c6c4318d8675ee1f0   \n96  0x0561a78021d8966ddd20c28c6c4318d8675ee1f0   \n97  0x0561a78021d8966ddd20c28c6c4318d8675ee1f0   \n98  0x0561a78021d8966ddd20c28c6c4318d8675ee1f0   \n99  0x0561a78021d8966ddd20c28c6c4318d8675ee1f0   \n\n    transaction_account_positionCount  transaction_account_openPositionCount  \\\n0                                   4                                      0   \n1                                   5                                      0   \n2                                  25                                      4   \n3                                   2                                      0   \n4                                   6                                      0   \n..                                ...                                    ...   \n95                                152                                      0   \n96                                152                                      0   \n97                                152                                      0   \n98                                152                                      0   \n99                                152                                      0   \n\n    transaction_account_closedPositionCount  transaction_account_depositCount  \\\n0                                         4                                 1   \n1                                         5                                 1   \n2                                        21                                16   \n3                                         2                                 1   \n4                                         6                                12   \n..                                      ...                               ...   \n95                                      152                               132   \n96                                      152                               132   \n97                                      152                               132   \n98                                      152                               132   \n99                                      152                               132   \n\n    ...  transaction_position_side  transaction_position_isCollateral  \\\n0   ...                   BORROWER                                NaN   \n1   ...                   BORROWER                                NaN   \n2   ...                   BORROWER                                NaN   \n3   ...                   BORROWER                                NaN   \n4   ...                   BORROWER                                NaN   \n..  ...                        ...                                ...   \n95  ...                   BORROWER                                NaN   \n96  ...                   BORROWER                                NaN   \n97  ...                   BORROWER                                NaN   \n98  ...                   BORROWER                                NaN   \n99  ...                   BORROWER                                NaN   \n\n    transaction_position_balance  transaction_position_depositCount  \\\n0                              0                                  0   \n1                              0                                  0   \n2         3765250283408587788786                                  0   \n3                              0                                  0   \n4                              0                                  0   \n..                           ...                                ...   \n95                             0                                  0   \n96                             0                                  0   \n97                             0                                  0   \n98                             0                                  0   \n99                             0                                  0   \n\n    transaction_position_withdrawCount transaction_position_borrowCount  \\\n0                                    0                                2   \n1                                    0                                2   \n2                                    0                               32   \n3                                    0                                1   \n4                                    0                                1   \n..                                 ...                              ...   \n95                                   0                                1   \n96                                   0                                1   \n97                                   0                                1   \n98                                   0                                1   \n99                                   0                                1   \n\n   transaction_position_repayCount transaction_position_liquidationCount  \\\n0                                2                                     0   \n1                                3                                     0   \n2                               21                                     0   \n3                                1                                     0   \n4                                1                                     0   \n..                             ...                                   ...   \n95                               2                                     0   \n96                               1                                     0   \n97                               3                                     0   \n98                               3                                     0   \n99                               3                                     0   \n\n    event            dateTime  \n0   Repay 2023-02-13 06:51:18  \n1   Repay 2023-02-13 06:44:00  \n2   Repay 2023-02-11 02:49:48  \n3   Repay 2023-02-09 21:40:10  \n4   Repay 2023-02-08 14:33:14  \n..    ...                 ...  \n95  Repay 2022-12-16 17:33:11  \n96  Repay 2022-12-16 17:13:48  \n97  Repay 2022-12-16 17:11:24  \n98  Repay 2022-12-16 17:07:51  \n99  Repay 2022-12-16 17:06:28  \n\n[100 rows x 80 columns]",
      "text/html": "<div>\n<style scoped>\n    .dataframe tbody tr th:only-of-type {\n        vertical-align: middle;\n    }\n\n    .dataframe tbody tr th {\n        vertical-align: top;\n    }\n\n    .dataframe thead th {\n        text-align: right;\n    }\n</style>\n<table border=\"1\" class=\"dataframe\">\n  <thead>\n    <tr style=\"text-align: right;\">\n      <th></th>\n      <th>transaction_id</th>\n      <th>transaction_hash</th>\n      <th>transaction_logIndex</th>\n      <th>transaction_blockNumber</th>\n      <th>transaction_timestamp</th>\n      <th>transaction_account_id</th>\n      <th>transaction_account_positionCount</th>\n      <th>transaction_account_openPositionCount</th>\n      <th>transaction_account_closedPositionCount</th>\n      <th>transaction_account_depositCount</th>\n      <th>...</th>\n      <th>transaction_position_side</th>\n      <th>transaction_position_isCollateral</th>\n      <th>transaction_position_balance</th>\n      <th>transaction_position_depositCount</th>\n      <th>transaction_position_withdrawCount</th>\n      <th>transaction_position_borrowCount</th>\n      <th>transaction_position_repayCount</th>\n      <th>transaction_position_liquidationCount</th>\n      <th>event</th>\n      <th>dateTime</th>\n    </tr>\n  </thead>\n  <tbody>\n    <tr>\n      <th>0</th>\n      <td>repay-0xac8ecdaf59200e43e6e6233bcd31728b0db4bc...</td>\n      <td>0xac8ecdaf59200e43e6e6233bcd31728b0db4bc543593...</td>\n      <td>26</td>\n      <td>60476974</td>\n      <td>1676271078</td>\n      <td>0x6c01ec9622e50799d62ca076f2e2aa34dc840d5b</td>\n      <td>4</td>\n      <td>0</td>\n      <td>4</td>\n      <td>1</td>\n      <td>...</td>\n      <td>BORROWER</td>\n      <td>NaN</td>\n      <td>0</td>\n      <td>0</td>\n      <td>0</td>\n      <td>2</td>\n      <td>2</td>\n      <td>0</td>\n      <td>Repay</td>\n      <td>2023-02-13 06:51:18</td>\n    </tr>\n    <tr>\n      <th>1</th>\n      <td>repay-0x9633a7166f3744cde872b630378d9eaeec5f0d...</td>\n      <td>0x9633a7166f3744cde872b630378d9eaeec5f0da82d73...</td>\n      <td>26</td>\n      <td>60475459</td>\n      <td>1676270640</td>\n      <td>0x5c9d09716404556646b0b4567cb4621c18581f94</td>\n      <td>5</td>\n      <td>0</td>\n      <td>5</td>\n      <td>1</td>\n      <td>...</td>\n      <td>BORROWER</td>\n      <td>NaN</td>\n      <td>0</td>\n      <td>0</td>\n      <td>0</td>\n      <td>2</td>\n      <td>3</td>\n      <td>0</td>\n      <td>Repay</td>\n      <td>2023-02-13 06:44:00</td>\n    </tr>\n    <tr>\n      <th>2</th>\n      <td>repay-0x851007fa5a8371105a73452ccbd7a0a4eb976e...</td>\n      <td>0x851007fa5a8371105a73452ccbd7a0a4eb976e7d2c12...</td>\n      <td>32</td>\n      <td>59865436</td>\n      <td>1676083788</td>\n      <td>0xc9e166f2737e004e93800dcef0d608b014df07f6</td>\n      <td>25</td>\n      <td>4</td>\n      <td>21</td>\n      <td>16</td>\n      <td>...</td>\n      <td>BORROWER</td>\n      <td>NaN</td>\n      <td>3765250283408587788786</td>\n      <td>0</td>\n      <td>0</td>\n      <td>32</td>\n      <td>21</td>\n      <td>0</td>\n      <td>Repay</td>\n      <td>2023-02-11 02:49:48</td>\n    </tr>\n    <tr>\n      <th>3</th>\n      <td>repay-0xa243d87a35b20328eac5637a6db98058707cd0...</td>\n      <td>0xa243d87a35b20328eac5637a6db98058707cd0161df6...</td>\n      <td>61</td>\n      <td>59508912</td>\n      <td>1675978810</td>\n      <td>0xf5d0318692f822680b733955828a25507f031c95</td>\n      <td>2</td>\n      <td>0</td>\n      <td>2</td>\n      <td>1</td>\n      <td>...</td>\n      <td>BORROWER</td>\n      <td>NaN</td>\n      <td>0</td>\n      <td>0</td>\n      <td>0</td>\n      <td>1</td>\n      <td>1</td>\n      <td>0</td>\n      <td>Repay</td>\n      <td>2023-02-09 21:40:10</td>\n    </tr>\n    <tr>\n      <th>4</th>\n      <td>repay-0xdee0c294dd70fb50547428f7e6d6ea6b135cb8...</td>\n      <td>0xdee0c294dd70fb50547428f7e6d6ea6b135cb8a4d75a...</td>\n      <td>33</td>\n      <td>59130546</td>\n      <td>1675866794</td>\n      <td>0x515755b2c5a209976cf0de869c30f45ac7495a60</td>\n      <td>6</td>\n      <td>0</td>\n      <td>6</td>\n      <td>12</td>\n      <td>...</td>\n      <td>BORROWER</td>\n      <td>NaN</td>\n      <td>0</td>\n      <td>0</td>\n      <td>0</td>\n      <td>1</td>\n      <td>1</td>\n      <td>0</td>\n      <td>Repay</td>\n      <td>2023-02-08 14:33:14</td>\n    </tr>\n    <tr>\n      <th>...</th>\n      <td>...</td>\n      <td>...</td>\n      <td>...</td>\n      <td>...</td>\n      <td>...</td>\n      <td>...</td>\n      <td>...</td>\n      <td>...</td>\n      <td>...</td>\n      <td>...</td>\n      <td>...</td>\n      <td>...</td>\n      <td>...</td>\n      <td>...</td>\n      <td>...</td>\n      <td>...</td>\n      <td>...</td>\n      <td>...</td>\n      <td>...</td>\n      <td>...</td>\n      <td>...</td>\n    </tr>\n    <tr>\n      <th>95</th>\n      <td>repay-0x31f50dafe996af986b9ebcccec517622766428...</td>\n      <td>0x31f50dafe996af986b9ebcccec517622766428ddb0f1...</td>\n      <td>29</td>\n      <td>46691414</td>\n      <td>1671211991</td>\n      <td>0x0561a78021d8966ddd20c28c6c4318d8675ee1f0</td>\n      <td>152</td>\n      <td>0</td>\n      <td>152</td>\n      <td>132</td>\n      <td>...</td>\n      <td>BORROWER</td>\n      <td>NaN</td>\n      <td>0</td>\n      <td>0</td>\n      <td>0</td>\n      <td>1</td>\n      <td>2</td>\n      <td>0</td>\n      <td>Repay</td>\n      <td>2022-12-16 17:33:11</td>\n    </tr>\n    <tr>\n      <th>96</th>\n      <td>repay-0x068e815a00681a2095350881ca55e8e70ad9a3...</td>\n      <td>0x068e815a00681a2095350881ca55e8e70ad9a310069e...</td>\n      <td>23</td>\n      <td>46687990</td>\n      <td>1671210828</td>\n      <td>0x0561a78021d8966ddd20c28c6c4318d8675ee1f0</td>\n      <td>152</td>\n      <td>0</td>\n      <td>152</td>\n      <td>132</td>\n      <td>...</td>\n      <td>BORROWER</td>\n      <td>NaN</td>\n      <td>0</td>\n      <td>0</td>\n      <td>0</td>\n      <td>1</td>\n      <td>1</td>\n      <td>0</td>\n      <td>Repay</td>\n      <td>2022-12-16 17:13:48</td>\n    </tr>\n    <tr>\n      <th>97</th>\n      <td>repay-0x5aa8ad449d2938339d79f5b073fbc0404e8053...</td>\n      <td>0x5aa8ad449d2938339d79f5b073fbc0404e8053054f12...</td>\n      <td>4</td>\n      <td>46687580</td>\n      <td>1671210684</td>\n      <td>0x0561a78021d8966ddd20c28c6c4318d8675ee1f0</td>\n      <td>152</td>\n      <td>0</td>\n      <td>152</td>\n      <td>132</td>\n      <td>...</td>\n      <td>BORROWER</td>\n      <td>NaN</td>\n      <td>0</td>\n      <td>0</td>\n      <td>0</td>\n      <td>1</td>\n      <td>3</td>\n      <td>0</td>\n      <td>Repay</td>\n      <td>2022-12-16 17:11:24</td>\n    </tr>\n    <tr>\n      <th>98</th>\n      <td>repay-0x7957344400905e02ec95bedf686708c27e28f6...</td>\n      <td>0x7957344400905e02ec95bedf686708c27e28f6a0dbc8...</td>\n      <td>31</td>\n      <td>46686900</td>\n      <td>1671210471</td>\n      <td>0x0561a78021d8966ddd20c28c6c4318d8675ee1f0</td>\n      <td>152</td>\n      <td>0</td>\n      <td>152</td>\n      <td>132</td>\n      <td>...</td>\n      <td>BORROWER</td>\n      <td>NaN</td>\n      <td>0</td>\n      <td>0</td>\n      <td>0</td>\n      <td>1</td>\n      <td>3</td>\n      <td>0</td>\n      <td>Repay</td>\n      <td>2022-12-16 17:07:51</td>\n    </tr>\n    <tr>\n      <th>99</th>\n      <td>repay-0xb65bfe868838ee1b65d3313891da3118264e98...</td>\n      <td>0xb65bfe868838ee1b65d3313891da3118264e98a64277...</td>\n      <td>29</td>\n      <td>46686617</td>\n      <td>1671210388</td>\n      <td>0x0561a78021d8966ddd20c28c6c4318d8675ee1f0</td>\n      <td>152</td>\n      <td>0</td>\n      <td>152</td>\n      <td>132</td>\n      <td>...</td>\n      <td>BORROWER</td>\n      <td>NaN</td>\n      <td>0</td>\n      <td>0</td>\n      <td>0</td>\n      <td>1</td>\n      <td>3</td>\n      <td>0</td>\n      <td>Repay</td>\n      <td>2022-12-16 17:06:28</td>\n    </tr>\n  </tbody>\n</table>\n<p>100 rows × 80 columns</p>\n</div>"
     },
     "execution_count": 108,
     "metadata": {},
     "output_type": "execute_result"
    }
   ],
   "source": [
    "vestaRepaysDbTimed = db.query(\"select \"\n",
    "               \"    * \"\n",
    "                    \" ,to_timestamp(transaction_timestamp::int) dateTime \"\n",
    "               \"From vestaRepaysDb \"\n",
    "               #\"where lower(liquidityPools_name) like lower('%olympus%') \"\n",
    "                #    \"or lower(pairs_token1_symbol) like lower('%OHM%')  \"\n",
    "               #\" limit 100 \"\n",
    "               ).df()\n",
    "\n",
    "vestaRepaysDbTimed.head(100)"
   ],
   "metadata": {
    "collapsed": false
   }
  },
  {
   "cell_type": "code",
   "execution_count": 109,
   "outputs": [
    {
     "name": "stdout",
     "output_type": "stream",
     "text": [
      "file saved\n"
     ]
    }
   ],
   "source": [
    "vestaRepaysDbTimedLength=len(vestaRepaysDbTimed)\n",
    "path =file+'/vesta_repay_events.csv'\n",
    "vestaRepaysDbTimed.to_csv(path, index = False)\n",
    "\n",
    "path =file+'/vesta_repay_events_piped.csv'\n",
    "vestaRepaysDbTimed.to_csv(path, index = False, sep='|')\n",
    "print('file saved')"
   ],
   "metadata": {
    "collapsed": false
   }
  },
  {
   "cell_type": "code",
   "execution_count": 110,
   "outputs": [
    {
     "data": {
      "text/plain": "                                      transaction_id  \\\n0  deposit-0xf52f858917e2e47e905f9d3882ee0a599843...   \n1  deposit-0x8102272a3bd5f0e2e3946fbff84f666fbec1...   \n2  deposit-0xebfdf5464a23bb3c12a019bbbaca75ceac4e...   \n3  deposit-0xa8530b80a3aae63661e62d05f9c83afc5e62...   \n4  deposit-0x0712c2c572f53f272b382289d178c5801205...   \n5  deposit-0xa70b833620fa9e60985ec9d9aa6b9c6af9f5...   \n6  deposit-0x5d3025a16815324cf1afca689903a14d2621...   \n7  deposit-0xabfb1cba9108afe5c2dde3f21f5b4de92fae...   \n8  deposit-0xdb674a81e3a0fd547a3a2ace9befd38a3b86...   \n9  deposit-0xe1f1f1cfd372bbe64a06346c1dde1102e155...   \n\n                                    transaction_hash  transaction_logIndex  \\\n0  0xf52f858917e2e47e905f9d3882ee0a59984316b6d54c...                   4.0   \n1  0x8102272a3bd5f0e2e3946fbff84f666fbec16b044b5b...                  45.0   \n2  0xebfdf5464a23bb3c12a019bbbaca75ceac4ea73a6cee...                  45.0   \n3  0xa8530b80a3aae63661e62d05f9c83afc5e62634b5f4c...                  45.0   \n4  0x0712c2c572f53f272b382289d178c5801205eb0b7c99...                  45.0   \n5  0xa70b833620fa9e60985ec9d9aa6b9c6af9f5e2fb6ee6...                  38.0   \n6  0x5d3025a16815324cf1afca689903a14d2621c19c9572...                  37.0   \n7  0xabfb1cba9108afe5c2dde3f21f5b4de92fae79791af2...                   4.0   \n8  0xdb674a81e3a0fd547a3a2ace9befd38a3b867df74fc0...                  30.0   \n9  0xe1f1f1cfd372bbe64a06346c1dde1102e155be4ec282...                  34.0   \n\n   transaction_blockNumber  transaction_timestamp  \\\n0               60901615.0           1.676391e+09   \n1               60849806.0           1.676378e+09   \n2               60572308.0           1.676297e+09   \n3               60064234.0           1.676143e+09   \n4               59984711.0           1.676120e+09   \n5               59495981.0           1.675975e+09   \n6               59294798.0           1.675915e+09   \n7               58531581.0           1.675695e+09   \n8               58285118.0           1.675619e+09   \n9               58200953.0           1.675596e+09   \n\n                       transaction_account_id  \\\n0  0x29e46015ccfe13cfe8dc96d75760a6290df311ee   \n1  0xc1bbfbc99b57da20e5504e9960e81277d63faeea   \n2  0xb9e291b68e584be657477289389b3a6deed3e34c   \n3  0xa13f3599ff620500f360dc6185ad30f625ebfc38   \n4  0x67fa1561c5f5631de08e38d4484e0df67872f626   \n5  0x15bae977db3b62ceb5a67921fae589fd80624e8d   \n6  0x7723c45fb37092ee65202db7a2fe562c5fe0ab48   \n7  0x1d883459bbc71042a9072f106427c4993de44794   \n8  0x0fd84d7cb911728737556684050782b298f70f0f   \n9  0x2682efcc31de7a06ed3bf8b0be156ff88e1663a1   \n\n   transaction_account_positionCount  transaction_account_openPositionCount  \\\n0                                2.0                                    2.0   \n1                                2.0                                    2.0   \n2                                2.0                                    2.0   \n3                                2.0                                    2.0   \n4                                2.0                                    2.0   \n5                                3.0                                    2.0   \n6                                9.0                                    4.0   \n7                                2.0                                    2.0   \n8                                7.0                                    2.0   \n9                                7.0                                    2.0   \n\n   transaction_account_closedPositionCount  transaction_account_depositCount  \\\n0                                      0.0                               2.0   \n1                                      0.0                               1.0   \n2                                      0.0                               1.0   \n3                                      0.0                               1.0   \n4                                      0.0                               1.0   \n5                                      1.0                               4.0   \n6                                      5.0                               6.0   \n7                                      0.0                               2.0   \n8                                      5.0                               5.0   \n9                                      5.0                               5.0   \n\n   ...  borrows_market_name  borrows_market_rates_rate  borrows_asset_id  \\\n0  ...                  NaN                        NaN               NaN   \n1  ...                  NaN                        NaN               NaN   \n2  ...                  NaN                        NaN               NaN   \n3  ...                  NaN                        NaN               NaN   \n4  ...                  NaN                        NaN               NaN   \n5  ...                  NaN                        NaN               NaN   \n6  ...                  NaN                        NaN               NaN   \n7  ...                  NaN                        NaN               NaN   \n8  ...                  NaN                        NaN               NaN   \n9  ...                  NaN                        NaN               NaN   \n\n   borrows_asset_name  borrows_asset_symbol borrows_asset_decimals  \\\n0                 NaN                   NaN                    NaN   \n1                 NaN                   NaN                    NaN   \n2                 NaN                   NaN                    NaN   \n3                 NaN                   NaN                    NaN   \n4                 NaN                   NaN                    NaN   \n5                 NaN                   NaN                    NaN   \n6                 NaN                   NaN                    NaN   \n7                 NaN                   NaN                    NaN   \n8                 NaN                   NaN                    NaN   \n9                 NaN                   NaN                    NaN   \n\n  borrows_asset_lastPriceUSD borrows_asset_lastPriceBlockNumber  \\\n0                        NaN                                NaN   \n1                        NaN                                NaN   \n2                        NaN                                NaN   \n3                        NaN                                NaN   \n4                        NaN                                NaN   \n5                        NaN                                NaN   \n6                        NaN                                NaN   \n7                        NaN                                NaN   \n8                        NaN                                NaN   \n9                        NaN                                NaN   \n\n  borrows_amount borrows_amountUSD  \n0            NaN               NaN  \n1            NaN               NaN  \n2            NaN               NaN  \n3            NaN               NaN  \n4            NaN               NaN  \n5            NaN               NaN  \n6            NaN               NaN  \n7            NaN               NaN  \n8            NaN               NaN  \n9            NaN               NaN  \n\n[10 rows x 96 columns]",
      "text/html": "<div>\n<style scoped>\n    .dataframe tbody tr th:only-of-type {\n        vertical-align: middle;\n    }\n\n    .dataframe tbody tr th {\n        vertical-align: top;\n    }\n\n    .dataframe thead th {\n        text-align: right;\n    }\n</style>\n<table border=\"1\" class=\"dataframe\">\n  <thead>\n    <tr style=\"text-align: right;\">\n      <th></th>\n      <th>transaction_id</th>\n      <th>transaction_hash</th>\n      <th>transaction_logIndex</th>\n      <th>transaction_blockNumber</th>\n      <th>transaction_timestamp</th>\n      <th>transaction_account_id</th>\n      <th>transaction_account_positionCount</th>\n      <th>transaction_account_openPositionCount</th>\n      <th>transaction_account_closedPositionCount</th>\n      <th>transaction_account_depositCount</th>\n      <th>...</th>\n      <th>borrows_market_name</th>\n      <th>borrows_market_rates_rate</th>\n      <th>borrows_asset_id</th>\n      <th>borrows_asset_name</th>\n      <th>borrows_asset_symbol</th>\n      <th>borrows_asset_decimals</th>\n      <th>borrows_asset_lastPriceUSD</th>\n      <th>borrows_asset_lastPriceBlockNumber</th>\n      <th>borrows_amount</th>\n      <th>borrows_amountUSD</th>\n    </tr>\n  </thead>\n  <tbody>\n    <tr>\n      <th>0</th>\n      <td>deposit-0xf52f858917e2e47e905f9d3882ee0a599843...</td>\n      <td>0xf52f858917e2e47e905f9d3882ee0a59984316b6d54c...</td>\n      <td>4.0</td>\n      <td>60901615.0</td>\n      <td>1.676391e+09</td>\n      <td>0x29e46015ccfe13cfe8dc96d75760a6290df311ee</td>\n      <td>2.0</td>\n      <td>2.0</td>\n      <td>0.0</td>\n      <td>2.0</td>\n      <td>...</td>\n      <td>NaN</td>\n      <td>NaN</td>\n      <td>NaN</td>\n      <td>NaN</td>\n      <td>NaN</td>\n      <td>NaN</td>\n      <td>NaN</td>\n      <td>NaN</td>\n      <td>NaN</td>\n      <td>NaN</td>\n    </tr>\n    <tr>\n      <th>1</th>\n      <td>deposit-0x8102272a3bd5f0e2e3946fbff84f666fbec1...</td>\n      <td>0x8102272a3bd5f0e2e3946fbff84f666fbec16b044b5b...</td>\n      <td>45.0</td>\n      <td>60849806.0</td>\n      <td>1.676378e+09</td>\n      <td>0xc1bbfbc99b57da20e5504e9960e81277d63faeea</td>\n      <td>2.0</td>\n      <td>2.0</td>\n      <td>0.0</td>\n      <td>1.0</td>\n      <td>...</td>\n      <td>NaN</td>\n      <td>NaN</td>\n      <td>NaN</td>\n      <td>NaN</td>\n      <td>NaN</td>\n      <td>NaN</td>\n      <td>NaN</td>\n      <td>NaN</td>\n      <td>NaN</td>\n      <td>NaN</td>\n    </tr>\n    <tr>\n      <th>2</th>\n      <td>deposit-0xebfdf5464a23bb3c12a019bbbaca75ceac4e...</td>\n      <td>0xebfdf5464a23bb3c12a019bbbaca75ceac4ea73a6cee...</td>\n      <td>45.0</td>\n      <td>60572308.0</td>\n      <td>1.676297e+09</td>\n      <td>0xb9e291b68e584be657477289389b3a6deed3e34c</td>\n      <td>2.0</td>\n      <td>2.0</td>\n      <td>0.0</td>\n      <td>1.0</td>\n      <td>...</td>\n      <td>NaN</td>\n      <td>NaN</td>\n      <td>NaN</td>\n      <td>NaN</td>\n      <td>NaN</td>\n      <td>NaN</td>\n      <td>NaN</td>\n      <td>NaN</td>\n      <td>NaN</td>\n      <td>NaN</td>\n    </tr>\n    <tr>\n      <th>3</th>\n      <td>deposit-0xa8530b80a3aae63661e62d05f9c83afc5e62...</td>\n      <td>0xa8530b80a3aae63661e62d05f9c83afc5e62634b5f4c...</td>\n      <td>45.0</td>\n      <td>60064234.0</td>\n      <td>1.676143e+09</td>\n      <td>0xa13f3599ff620500f360dc6185ad30f625ebfc38</td>\n      <td>2.0</td>\n      <td>2.0</td>\n      <td>0.0</td>\n      <td>1.0</td>\n      <td>...</td>\n      <td>NaN</td>\n      <td>NaN</td>\n      <td>NaN</td>\n      <td>NaN</td>\n      <td>NaN</td>\n      <td>NaN</td>\n      <td>NaN</td>\n      <td>NaN</td>\n      <td>NaN</td>\n      <td>NaN</td>\n    </tr>\n    <tr>\n      <th>4</th>\n      <td>deposit-0x0712c2c572f53f272b382289d178c5801205...</td>\n      <td>0x0712c2c572f53f272b382289d178c5801205eb0b7c99...</td>\n      <td>45.0</td>\n      <td>59984711.0</td>\n      <td>1.676120e+09</td>\n      <td>0x67fa1561c5f5631de08e38d4484e0df67872f626</td>\n      <td>2.0</td>\n      <td>2.0</td>\n      <td>0.0</td>\n      <td>1.0</td>\n      <td>...</td>\n      <td>NaN</td>\n      <td>NaN</td>\n      <td>NaN</td>\n      <td>NaN</td>\n      <td>NaN</td>\n      <td>NaN</td>\n      <td>NaN</td>\n      <td>NaN</td>\n      <td>NaN</td>\n      <td>NaN</td>\n    </tr>\n    <tr>\n      <th>5</th>\n      <td>deposit-0xa70b833620fa9e60985ec9d9aa6b9c6af9f5...</td>\n      <td>0xa70b833620fa9e60985ec9d9aa6b9c6af9f5e2fb6ee6...</td>\n      <td>38.0</td>\n      <td>59495981.0</td>\n      <td>1.675975e+09</td>\n      <td>0x15bae977db3b62ceb5a67921fae589fd80624e8d</td>\n      <td>3.0</td>\n      <td>2.0</td>\n      <td>1.0</td>\n      <td>4.0</td>\n      <td>...</td>\n      <td>NaN</td>\n      <td>NaN</td>\n      <td>NaN</td>\n      <td>NaN</td>\n      <td>NaN</td>\n      <td>NaN</td>\n      <td>NaN</td>\n      <td>NaN</td>\n      <td>NaN</td>\n      <td>NaN</td>\n    </tr>\n    <tr>\n      <th>6</th>\n      <td>deposit-0x5d3025a16815324cf1afca689903a14d2621...</td>\n      <td>0x5d3025a16815324cf1afca689903a14d2621c19c9572...</td>\n      <td>37.0</td>\n      <td>59294798.0</td>\n      <td>1.675915e+09</td>\n      <td>0x7723c45fb37092ee65202db7a2fe562c5fe0ab48</td>\n      <td>9.0</td>\n      <td>4.0</td>\n      <td>5.0</td>\n      <td>6.0</td>\n      <td>...</td>\n      <td>NaN</td>\n      <td>NaN</td>\n      <td>NaN</td>\n      <td>NaN</td>\n      <td>NaN</td>\n      <td>NaN</td>\n      <td>NaN</td>\n      <td>NaN</td>\n      <td>NaN</td>\n      <td>NaN</td>\n    </tr>\n    <tr>\n      <th>7</th>\n      <td>deposit-0xabfb1cba9108afe5c2dde3f21f5b4de92fae...</td>\n      <td>0xabfb1cba9108afe5c2dde3f21f5b4de92fae79791af2...</td>\n      <td>4.0</td>\n      <td>58531581.0</td>\n      <td>1.675695e+09</td>\n      <td>0x1d883459bbc71042a9072f106427c4993de44794</td>\n      <td>2.0</td>\n      <td>2.0</td>\n      <td>0.0</td>\n      <td>2.0</td>\n      <td>...</td>\n      <td>NaN</td>\n      <td>NaN</td>\n      <td>NaN</td>\n      <td>NaN</td>\n      <td>NaN</td>\n      <td>NaN</td>\n      <td>NaN</td>\n      <td>NaN</td>\n      <td>NaN</td>\n      <td>NaN</td>\n    </tr>\n    <tr>\n      <th>8</th>\n      <td>deposit-0xdb674a81e3a0fd547a3a2ace9befd38a3b86...</td>\n      <td>0xdb674a81e3a0fd547a3a2ace9befd38a3b867df74fc0...</td>\n      <td>30.0</td>\n      <td>58285118.0</td>\n      <td>1.675619e+09</td>\n      <td>0x0fd84d7cb911728737556684050782b298f70f0f</td>\n      <td>7.0</td>\n      <td>2.0</td>\n      <td>5.0</td>\n      <td>5.0</td>\n      <td>...</td>\n      <td>NaN</td>\n      <td>NaN</td>\n      <td>NaN</td>\n      <td>NaN</td>\n      <td>NaN</td>\n      <td>NaN</td>\n      <td>NaN</td>\n      <td>NaN</td>\n      <td>NaN</td>\n      <td>NaN</td>\n    </tr>\n    <tr>\n      <th>9</th>\n      <td>deposit-0xe1f1f1cfd372bbe64a06346c1dde1102e155...</td>\n      <td>0xe1f1f1cfd372bbe64a06346c1dde1102e155be4ec282...</td>\n      <td>34.0</td>\n      <td>58200953.0</td>\n      <td>1.675596e+09</td>\n      <td>0x2682efcc31de7a06ed3bf8b0be156ff88e1663a1</td>\n      <td>7.0</td>\n      <td>2.0</td>\n      <td>5.0</td>\n      <td>5.0</td>\n      <td>...</td>\n      <td>NaN</td>\n      <td>NaN</td>\n      <td>NaN</td>\n      <td>NaN</td>\n      <td>NaN</td>\n      <td>NaN</td>\n      <td>NaN</td>\n      <td>NaN</td>\n      <td>NaN</td>\n      <td>NaN</td>\n    </tr>\n  </tbody>\n</table>\n<p>10 rows × 96 columns</p>\n</div>"
     },
     "execution_count": 110,
     "metadata": {},
     "output_type": "execute_result"
    }
   ],
   "source": [
    "vestaBorrowDepositEventsDb = pd.DataFrame()\n",
    "vestaBorrowDepositEventsDb=pd.concat([vestaDepositsDbTimed, vestaBorrowsDbTimed])#,vestaRepaysDbTimed])\n",
    "vestaBorrowDepositEventsDbLength=len(vestaBorrowDepositEventsDb)\n",
    "vestaBorrowDepositEventsDb.head(10)"
   ],
   "metadata": {
    "collapsed": false
   }
  },
  {
   "cell_type": "code",
   "execution_count": 111,
   "outputs": [
    {
     "name": "stdout",
     "output_type": "stream",
     "text": [
      "file saved\n"
     ]
    }
   ],
   "source": [
    "vestaBorrowDepositEventsDbLength = len(vestaBorrowDepositEventsDb)\n",
    "path =file+'/vesta_BorrowDeposit_Events.csv'\n",
    "vestaBorrowDepositEventsDb.to_csv(path, index = False)\n",
    "\n",
    "path =file+'/vesta_BorrowDeposit_Events_piped.csv'\n",
    "vestaBorrowDepositEventsDb.to_csv(path, index = False, sep='|')\n",
    "print('file saved')"
   ],
   "metadata": {
    "collapsed": false
   }
  },
  {
   "cell_type": "markdown",
   "source": [
    "************************************************************\n",
    "FINE.... FRAX TOO\n",
    "\n",
    "This subgraph is completely different, so we're going to  have to crunch in order to merge all these tables into coherent reports"
   ],
   "metadata": {
    "collapsed": false
   }
  },
  {
   "cell_type": "code",
   "execution_count": 44,
   "outputs": [],
   "source": [
    "frax = sg.load_api('https://gateway.thegraph.com/api/'+apiKey+'/subgraphs/id/GELTrjPJYEzxyp6Y2CtEaYpGHcJNrJA6i5Ci4KfJSEsf')"
   ],
   "metadata": {
    "collapsed": false
   }
  },
  {
   "cell_type": "code",
   "execution_count": 45,
   "outputs": [
    {
     "name": "stdout",
     "output_type": "stream",
     "text": [
      "iterations:  0 Lines skipped:  0 records collected:  1000  - latest recordID:  addAsset   0x3da9de5c721a6eabf8576551f3d8d1adc4da3f801a68cca02cef546bbac64795  - actions DB length:  1000  - latest record from:  2023-02-14 07:02:11 0 days ago\n",
      "iterations:  1 Lines skipped:  1000 records collected:  1000  - latest recordID:  borrowAsset   0x1dfd3172c36e389c77cfd3e1d4e0ae425056986b69775010e3e42465a9921f6b+1  - actions DB length:  2000  - latest record from:  2023-02-14 06:02:47 0 days ago\n",
      "iterations:  2 Lines skipped:  2000 records collected:  1000  - latest recordID:  addCollateral   0x1dfd3172c36e389c77cfd3e1d4e0ae425056986b69775010e3e42465a9921f6b  - actions DB length:  3000  - latest record from:  2023-02-14 06:02:47 0 days ago\n",
      "iterations:  3 Lines skipped:  3000 records collected:  1000  - latest recordID:  borrowAsset   0xca8f2b28fbb36eb227d137fdfab17dfb2e104d372fda63faf11d4f3cab971331+1  - actions DB length:  4000  - latest record from:  2023-02-14 05:57:11 0 days ago\n",
      "iterations:  4 Lines skipped:  4000 records collected:  1000  - latest recordID:  addCollateral   0xca8f2b28fbb36eb227d137fdfab17dfb2e104d372fda63faf11d4f3cab971331  - actions DB length:  5000  - latest record from:  2023-02-14 05:57:11 0 days ago\n",
      "iterations:  5 Lines skipped:  5000 records collected:  1000  - latest recordID:  removeAsset   0xa0c66c33d6a7a399184bc00e1631cf37569b4e11f2d3629233e726eadd21dfa6  - actions DB length:  6000  - latest record from:  2023-02-14 05:35:11 0 days ago\n",
      "iterations:  6 Lines skipped:  6000 records collected:  1000  - latest recordID:  removeAsset   0xa839343605a44ebbc9acc53d7fc4fb382524aaad915fccf37d7acb47381fcddb  - actions DB length:  7000  - latest record from:  2023-02-14 04:35:11 0 days ago\n",
      "iterations:  7 Lines skipped:  7000 records collected:  1000  - latest recordID:  borrowAsset   0x023999891639c1c93db864ce955525a0804c6f5216d81d75d341c81be072987a  - actions DB length:  8000  - latest record from:  2023-02-13 13:52:23 1 days ago\n",
      "iterations:  8 Lines skipped:  8000 records collected:  1000  - latest recordID:  borrowAsset   0xd27c863004571db8166a41942a3e565e1cb4ed6392a1233723f6ba6cfb681d91  - actions DB length:  9000  - latest record from:  2023-02-13 10:52:11 1 days ago\n",
      "iterations:  9 Lines skipped:  9000 records collected:  1000  - latest recordID:  addCollateral   0x93bfdc153c70c47dc88df5b2c7a28fa129c178d3c2691612c7d08ac1e0c70467  - actions DB length:  10000  - latest record from:  2023-02-13 10:33:35 1 days ago\n",
      "iterations:  10 Lines skipped:  10000 records collected:  1000  - latest recordID:  borrowAsset   0xf6aae4916b2c041fc5f24c61ac3ee16ea860b2c7f9f271eafeb59f588eb0d0ab  - actions DB length:  11000  - latest record from:  2023-02-13 08:42:35 1 days ago\n",
      "iterations:  11 Lines skipped:  11000 records collected:  1000  - latest recordID:  borrowAsset   0x186f6c99d4fe58a91ba6b8c57bfdde7e40b3bc9137a19971b4ee875662b7ca8a  - actions DB length:  12000  - latest record from:  2023-02-13 06:27:35 1 days ago\n",
      "iterations:  12 Lines skipped:  12000 records collected:  1000  - latest recordID:  removeCollateral   0xcf9fdd868da296feca4c40710bd7601676265a61f3bdac3d7942888e0c56ffe3  - actions DB length:  13000  - latest record from:  2023-02-13 04:49:23 1 days ago\n",
      "iterations:  13 Lines skipped:  13000 records collected:  1000  - latest recordID:  repayAsset   0x1ec1f1d781c20ba212b8c86e9141634dfa5ab919c9b4a15bf53eeea45c669dfe  - actions DB length:  14000  - latest record from:  2023-02-13 04:48:11 1 days ago\n",
      "iterations:  14 Lines skipped:  14000 records collected:  1000  - latest recordID:  removeCollateral   0xa78cd3b8692a61e7e2b1781c7e7bc2e46878b4e81597d9789dc82f9bb4a64b4c  - actions DB length:  15000  - latest record from:  2023-02-13 04:41:59 1 days ago\n",
      "iterations:  15 Lines skipped:  15000 records collected:  1000  - latest recordID:  repayAsset   0x395e8e7df1cfc36cf1c5c5e745ac1fcb7d166a1b66b361f559344fbdbabf8f19  - actions DB length:  16000  - latest record from:  2023-02-13 04:41:35 1 days ago\n",
      "iterations:  16 Lines skipped:  16000 records collected:  1000  - latest recordID:  removeCollateral   0x03d12a970c30f0e7353660d5c58b307c6e5be4a87e4009a60aa455f3a4a0f18e  - actions DB length:  17000  - latest record from:  2023-02-13 04:26:59 1 days ago\n",
      "iterations:  17 Lines skipped:  17000 records collected:  1000  - latest recordID:  borrowAsset   0xa42ad3c60359e04fc73813bdabdfe157f94e370f26a21fb99077e6189e4bfd31+1  - actions DB length:  18000  - latest record from:  2023-02-12 13:56:35 2 days ago\n",
      "iterations:  18 Lines skipped:  18000 records collected:  1000  - latest recordID:  addCollateral   0xa42ad3c60359e04fc73813bdabdfe157f94e370f26a21fb99077e6189e4bfd31  - actions DB length:  19000  - latest record from:  2023-02-12 13:56:35 2 days ago\n",
      "iterations:  19 Lines skipped:  19000 records collected:  1000  - latest recordID:  borrowAsset   0x2f85c1a1f6bf251ca376cb2eab3fb95af43dde6c0380602d348ac6a0d1822183+1  - actions DB length:  20000  - latest record from:  2023-02-12 13:47:11 2 days ago\n",
      "iterations:  20 Lines skipped:  20000 records collected:  1000  - latest recordID:  addCollateral   0x2f85c1a1f6bf251ca376cb2eab3fb95af43dde6c0380602d348ac6a0d1822183  - actions DB length:  21000  - latest record from:  2023-02-12 13:47:11 2 days ago\n",
      "iterations:  21 Lines skipped:  21000 records collected:  1000  - latest recordID:  addAsset   0xcf2e9b35e0a5c582432b78db0ac293e539f10ba35c2b7c79951e2e80f8bf8bf2+1  - actions DB length:  22000  - latest record from:  2023-02-12 00:38:23 2 days ago\n",
      "iterations:  22 Lines skipped:  22000 records collected:  1000  - latest recordID:  borrowAsset   0xee34f32e20b41579ddf7e587f24830caee2f849ff3e7b802f877a9c48c1dee57  - actions DB length:  23000  - latest record from:  2023-02-11 22:02:35 2 days ago\n",
      "iterations:  23 Lines skipped:  23000 records collected:  1000  - latest recordID:  borrowAsset   0xdbbb4f259191ec17e46adf94b08b05144a9cb953ffd48d74a3550299466078f1+1  - actions DB length:  24000  - latest record from:  2023-02-11 21:43:47 2 days ago\n",
      "iterations:  24 Lines skipped:  24000 records collected:  1000  - latest recordID:  addCollateral   0xdbbb4f259191ec17e46adf94b08b05144a9cb953ffd48d74a3550299466078f1  - actions DB length:  25000  - latest record from:  2023-02-11 21:43:47 2 days ago\n",
      "iterations:  25 Lines skipped:  25000 records collected:  1000  - latest recordID:  borrowAsset   0x06a7261f4c8dcf2898b2041e79f8ee5f3f59a3fc7b4b3834b54cba6f458726f6  - actions DB length:  26000  - latest record from:  2023-02-11 05:14:23 3 days ago\n",
      "iterations:  26 Lines skipped:  26000 records collected:  1000  - latest recordID:  borrowAsset   0x40aae84af13261a43d09f402c7cfb666080135218ece4b4093af6f023b935348  - actions DB length:  27000  - latest record from:  2023-02-11 05:02:23 3 days ago\n",
      "iterations:  27 Lines skipped:  27000 records collected:  1000  - latest recordID:  borrowAsset   0x9b073aff89c20648bc17f6f3e923e28693612cd406924ba5bb342e81f8dea5e2  - actions DB length:  28000  - latest record from:  2023-02-11 05:01:23 3 days ago\n",
      "iterations:  28 Lines skipped:  28000 records collected:  1000  - latest recordID:  borrowAsset   0xe051c1a92ebd849d7ab28f651634a0e7bdc63ead0980d4d07b5bd807729688ed  - actions DB length:  29000  - latest record from:  2023-02-11 04:58:59 3 days ago\n",
      "iterations:  29 Lines skipped:  29000 records collected:  1000  - latest recordID:  addAsset   0xe7e07a65628df0ff4613cc1e0069326791509927a0501beafed7e01eb9e6415f  - actions DB length:  30000  - latest record from:  2023-02-11 02:03:23 3 days ago\n",
      "iterations:  30 Lines skipped:  30000 records collected:  1000  - latest recordID:  removeAsset   0xbaca6dc31a27148743df9e8d763c9b6ccafd49ba7bc625469a076e492366c074  - actions DB length:  31000  - latest record from:  2023-02-11 01:54:35 3 days ago\n",
      "iterations:  31 Lines skipped:  31000 records collected:  1000  - latest recordID:  borrowAsset   0xdc90c7de02b82c42e50713526a4e2c566b94e1af9b4bcb749e8404713b13fa8e  - actions DB length:  32000  - latest record from:  2023-02-10 23:49:23 3 days ago\n",
      "iterations:  32 Lines skipped:  32000 records collected:  1000  - latest recordID:  addCollateral   0xdca8987ad53c0a328708f6601d8755ac8b876831a0625661fbda7e52eb965947  - actions DB length:  33000  - latest record from:  2023-02-10 23:29:47 3 days ago\n",
      "iterations:  33 Lines skipped:  33000 records collected:  1000  - latest recordID:  borrowAsset   0x22a13c9d326c85833f65f6569bc7dfef93768d893270d9c4de775efdfebb2454  - actions DB length:  34000  - latest record from:  2023-02-10 22:28:11 3 days ago\n",
      "iterations:  34 Lines skipped:  34000 records collected:  1000  - latest recordID:  repayAsset   0x61b85113554f41e41beb5a81ae45336168b6eedaf7c597a8cbf838e53e656750  - actions DB length:  35000  - latest record from:  2023-02-10 17:43:47 4 days ago\n",
      "iterations:  35 Lines skipped:  35000 records collected:  1000  - latest recordID:  removeCollateral   0x12a8cb34e5cb26d0ee0b0cc211aabb0b03f636409dbd8e967dfed28e6eea90ba  - actions DB length:  36000  - latest record from:  2023-02-10 14:42:47 4 days ago\n",
      "iterations:  36 Lines skipped:  36000 records collected:  1000  - latest recordID:  repayAsset   0xc7c1739911ae71f7726d1d32214edb8161a341f7fcd7dc6d466681da295491ec  - actions DB length:  37000  - latest record from:  2023-02-10 14:41:35 4 days ago\n",
      "iterations:  37 Lines skipped:  37000 records collected:  1000  - latest recordID:  repayAsset   0x40e939c94b527bd4eb9f8f102cfe3c179b61f0da6bb7bb6a5ee815af6d2eaa11  - actions DB length:  38000  - latest record from:  2023-02-10 09:15:35 4 days ago\n",
      "iterations:  38 Lines skipped:  38000 records collected:  1000  - latest recordID:  borrowAsset   0x6dc275d27f2cbca7232c6fa9019ea1c84a3983636a7c102b0759efc8f5662b44  - actions DB length:  39000  - latest record from:  2023-02-10 09:14:11 4 days ago\n",
      "iterations:  39 Lines skipped:  39000 records collected:  1000  - latest recordID:  repayAsset   0x83e2ea08ec4f8a38735c7ad01954ce62ae9f79b84e7d8aadec3c4296ae5cc3bf  - actions DB length:  40000  - latest record from:  2023-02-10 08:51:11 4 days ago\n",
      "iterations:  40 Lines skipped:  40000 records collected:  1000  - latest recordID:  removeCollateral   0x004795cddb57f7037626cc0ca26e84c7507dde798b5a88696faec6b2f4ba4cf4  - actions DB length:  41000  - latest record from:  2023-02-10 08:47:23 4 days ago\n",
      "iterations:  41 Lines skipped:  41000 records collected:  1000  - latest recordID:  removeCollateral   0x17df17ec4b65d028374f6407d7998a40e2a4fdca7cbeb09bd9e8d4844efa6107  - actions DB length:  42000  - latest record from:  2023-02-10 05:46:59 4 days ago\n",
      "iterations:  42 Lines skipped:  42000 records collected:  1000  - latest recordID:  borrowAsset   0xd76a5cb0e7219544a326f05a05bc08f8e79de4947c20d926adf59efa1c0d396b  - actions DB length:  43000  - latest record from:  2023-02-10 05:28:11 4 days ago\n",
      "iterations:  43 Lines skipped:  43000 records collected:  1000  - latest recordID:  repayAsset   0x5dee647c2e8ebfad8bac45dd1ca3eab67b4841ef169283d0e759391177ad006b  - actions DB length:  44000  - latest record from:  2023-02-10 04:42:35 4 days ago\n",
      "iterations:  44 Lines skipped:  44000 records collected:  1000  - latest recordID:  borrowAsset   0xd35638a578d8f0b2134f2e09f085f4d4d2dbb1494604fc0dbd819234e3390aaf+1  - actions DB length:  45000  - latest record from:  2023-02-09 14:44:11 5 days ago\n",
      "iterations:  45 Lines skipped:  45000 records collected:  1000  - latest recordID:  addCollateral   0xd35638a578d8f0b2134f2e09f085f4d4d2dbb1494604fc0dbd819234e3390aaf  - actions DB length:  46000  - latest record from:  2023-02-09 14:44:11 5 days ago\n",
      "iterations:  46 Lines skipped:  46000 records collected:  1000  - latest recordID:  borrowAsset   0x3092d76c46045fdcf57272151e55e1b105bd4b7d4063c71cd786bf1ce5df9205  - actions DB length:  47000  - latest record from:  2023-02-09 14:41:47 5 days ago\n",
      "iterations:  47 Lines skipped:  47000 records collected:  1000  - latest recordID:  borrowAsset   0xa20176fd6cb8470bb538af582d7d97e27bbf75135d8ac2f0342c67e7a4b25bc8+1  - actions DB length:  48000  - latest record from:  2023-02-09 13:41:11 5 days ago\n",
      "iterations:  48 Lines skipped:  48000 records collected:  1000  - latest recordID:  addCollateral   0xa20176fd6cb8470bb538af582d7d97e27bbf75135d8ac2f0342c67e7a4b25bc8  - actions DB length:  49000  - latest record from:  2023-02-09 13:41:11 5 days ago\n",
      "iterations:  49 Lines skipped:  49000 records collected:  1000  - latest recordID:  borrowAsset   0x2dc9bc4f7c7ac1708768d1f6f6e6a41b8fb4964fd89410ef265d79d104d66384+1  - actions DB length:  50000  - latest record from:  2023-02-09 12:12:59 5 days ago\n",
      "iterations:  50 Lines skipped:  50000 records collected:  1000  - latest recordID:  addCollateral   0x2dc9bc4f7c7ac1708768d1f6f6e6a41b8fb4964fd89410ef265d79d104d66384  - actions DB length:  51000  - latest record from:  2023-02-09 12:12:59 5 days ago\n",
      "iterations:  51 Lines skipped:  51000 records collected:  1000  - latest recordID:  borrowAsset   0x5dea5a1baef298676a0c47666ca76db0d00637a96750e0d04f97f4f11e555127  - actions DB length:  52000  - latest record from:  2023-02-09 11:55:47 5 days ago\n",
      "iterations:  52 Lines skipped:  52000 records collected:  1000  - latest recordID:  borrowAsset   0x2c4738e7f57d0ef25cef1541393689e07f7f01b8774ac93e4925eb72eb813047+1  - actions DB length:  53000  - latest record from:  2023-02-09 11:31:47 5 days ago\n",
      "iterations:  53 Lines skipped:  53000 records collected:  1000  - latest recordID:  addCollateral   0x2c4738e7f57d0ef25cef1541393689e07f7f01b8774ac93e4925eb72eb813047  - actions DB length:  54000  - latest record from:  2023-02-09 11:31:47 5 days ago\n",
      "iterations:  54 Lines skipped:  54000 records collected:  1000  - latest recordID:  borrowAsset   0x5ab8113bf249f443569eb7a2bf142308a907e50b70ddd36e4e8e7042877c6eff+1  - actions DB length:  55000  - latest record from:  2023-02-09 10:48:59 5 days ago\n",
      "iterations:  55 Lines skipped:  55000 records collected:  1000  - latest recordID:  addCollateral   0x5ab8113bf249f443569eb7a2bf142308a907e50b70ddd36e4e8e7042877c6eff  - actions DB length:  56000  - latest record from:  2023-02-09 10:48:59 5 days ago\n",
      "iterations:  56 Lines skipped:  56000 records collected:  1000  - latest recordID:  borrowAsset   0x45dbb93901bca44a7d83c1ba9aec12bc1450a48f70b65b310782e7b9c69e5857+1  - actions DB length:  57000  - latest record from:  2023-02-09 07:25:47 5 days ago\n",
      "iterations:  57 Lines skipped:  57000 records collected:  1000  - latest recordID:  addCollateral   0x45dbb93901bca44a7d83c1ba9aec12bc1450a48f70b65b310782e7b9c69e5857  - actions DB length:  58000  - latest record from:  2023-02-09 07:25:47 5 days ago\n",
      "iterations:  58 Lines skipped:  58000 records collected:  1000  - latest recordID:  borrowAsset   0xd643ca592784c258342d02d2e22b4480e6b806a75d77fdbc7790b33eb4702268+1  - actions DB length:  59000  - latest record from:  2023-02-09 04:55:11 5 days ago\n",
      "iterations:  59 Lines skipped:  59000 records collected:  1000  - latest recordID:  addCollateral   0xd643ca592784c258342d02d2e22b4480e6b806a75d77fdbc7790b33eb4702268  - actions DB length:  60000  - latest record from:  2023-02-09 04:55:11 5 days ago\n",
      "iterations:  60 Lines skipped:  60000 records collected:  1000  - latest recordID:  removeCollateral   0x6d8ce1e40ed662ba3327b182f9d9ffae9443fb13bfbb3e03dd5908727d60e7f8  - actions DB length:  61000  - latest record from:  2023-02-09 04:10:11 5 days ago\n",
      "iterations:  61 Lines skipped:  61000 records collected:  1000  - latest recordID:  removeCollateral   0x57883c70bcdb43a1aa8e169295aeac57f30c288c03e6b96a9e2827e551261b9f  - actions DB length:  62000  - latest record from:  2023-02-08 22:44:59 5 days ago\n",
      "iterations:  62 Lines skipped:  62000 records collected:  1000  - latest recordID:  removeCollateral   0xf1391d046913eca25021c8eb8974d370089e1cdc74f77bd8898f56c7330d5039  - actions DB length:  63000  - latest record from:  2023-02-08 22:40:35 5 days ago\n",
      "iterations:  63 Lines skipped:  63000 records collected:  1000  - latest recordID:  repayAsset   0x7f9a9b4079f340cc010ddcf1ccbac3db2e1ea4e29adb9fec370000858744d38c  - actions DB length:  64000  - latest record from:  2023-02-08 22:39:47 5 days ago\n",
      "iterations:  64 Lines skipped:  64000 records collected:  1000  - latest recordID:  borrowAsset   0x4017bc338022ebff43c95d17cd8ae339d3663b31aa7bc715be25e2a2e873d75c+1  - actions DB length:  65000  - latest record from:  2023-02-08 19:39:47 5 days ago\n",
      "iterations:  65 Lines skipped:  65000 records collected:  1000  - latest recordID:  addCollateral   0x4017bc338022ebff43c95d17cd8ae339d3663b31aa7bc715be25e2a2e873d75c  - actions DB length:  66000  - latest record from:  2023-02-08 19:39:47 5 days ago\n",
      "iterations:  66 Lines skipped:  66000 records collected:  1000  - latest recordID:  removeCollateral   0xb2dc4e73b817320ffcf34c86dc9d411786e37f8af2ad739fe9eba048b40c0126  - actions DB length:  67000  - latest record from:  2023-02-08 16:01:59 6 days ago\n",
      "iterations:  67 Lines skipped:  67000 records collected:  1000  - latest recordID:  repayAsset   0xbc537609adb35fdd165f22a83da392b898080e7e2b7046c595d42bb37e971e77  - actions DB length:  68000  - latest record from:  2023-02-08 16:00:35 6 days ago\n",
      "iterations:  68 Lines skipped:  68000 records collected:  1000  - latest recordID:  borrowAsset   0x7df62271c4a8279ff7bf52964c87454584b629575af66e377b9b53694f5b0112+1  - actions DB length:  69000  - latest record from:  2023-02-08 13:00:59 6 days ago\n",
      "iterations:  69 Lines skipped:  69000 records collected:  1000  - latest recordID:  addCollateral   0x7df62271c4a8279ff7bf52964c87454584b629575af66e377b9b53694f5b0112  - actions DB length:  70000  - latest record from:  2023-02-08 13:00:59 6 days ago\n",
      "iterations:  70 Lines skipped:  70000 records collected:  1000  - latest recordID:  borrowAsset   0x24436c0d5c6419ffac45c32d4115128f4075a9ace8720bf12dc8048de6086a42+1  - actions DB length:  71000  - latest record from:  2023-02-08 12:07:47 6 days ago\n",
      "iterations:  71 Lines skipped:  71000 records collected:  1000  - latest recordID:  addCollateral   0x24436c0d5c6419ffac45c32d4115128f4075a9ace8720bf12dc8048de6086a42  - actions DB length:  72000  - latest record from:  2023-02-08 12:07:47 6 days ago\n",
      "iterations:  72 Lines skipped:  72000 records collected:  1000  - latest recordID:  borrowAsset   0x5520cee4dfed2595a6f9d0de5f3b8f26b874112fa11efa5347785b23ceca27ab  - actions DB length:  73000  - latest record from:  2023-02-08 12:04:23 6 days ago\n",
      "iterations:  73 Lines skipped:  73000 records collected:  1000  - latest recordID:  borrowAsset   0x4e156dda6a27c39160c859b3b5327334d50c02b8d09fa3fa4c08164344f17217+1  - actions DB length:  74000  - latest record from:  2023-02-08 11:58:59 6 days ago\n",
      "iterations:  74 Lines skipped:  74000 records collected:  1000  - latest recordID:  addCollateral   0x4e156dda6a27c39160c859b3b5327334d50c02b8d09fa3fa4c08164344f17217  - actions DB length:  75000  - latest record from:  2023-02-08 11:58:59 6 days ago\n",
      "iterations:  75 Lines skipped:  75000 records collected:  1000  - latest recordID:  borrowAsset   0x4b3964dc8e347cb40ffbac555be28c2261df0f076aa61d4972a9fb5942151d2f  - actions DB length:  76000  - latest record from:  2023-02-08 11:56:23 6 days ago\n",
      "iterations:  76 Lines skipped:  76000 records collected:  1000  - latest recordID:  borrowAsset   0xfd08d4987b9ba88e59c23667c6c177ffeaab6f7d1af18194b1fa540212efd1b8+1  - actions DB length:  77000  - latest record from:  2023-02-08 08:38:11 6 days ago\n",
      "iterations:  77 Lines skipped:  77000 records collected:  1000  - latest recordID:  addCollateral   0xfd08d4987b9ba88e59c23667c6c177ffeaab6f7d1af18194b1fa540212efd1b8  - actions DB length:  78000  - latest record from:  2023-02-08 08:38:11 6 days ago\n",
      "iterations:  78 Lines skipped:  78000 records collected:  1000  - latest recordID:  repayAsset   0x87953dce0f55cdd157c52fb9ce2ede8c34012f0c2c2922e3f7e2d784bafc7f9b  - actions DB length:  79000  - latest record from:  2023-02-07 18:50:11 6 days ago\n",
      "iterations:  79 Lines skipped:  79000 records collected:  1000  - latest recordID:  removeCollateral   0xf7b38e66cb9f10e080eece1db80bd31c70298121a6df5fcb6436976b3f02b5ed  - actions DB length:  80000  - latest record from:  2023-02-07 17:43:23 7 days ago\n",
      "iterations:  80 Lines skipped:  80000 records collected:  1000  - latest recordID:  addCollateral   0x0509d1c3f87fb34f957cf8f474166a4960baf6b7f3209794fb850d826ab2b5c3  - actions DB length:  81000  - latest record from:  2023-02-07 14:24:59 7 days ago\n",
      "iterations:  81 Lines skipped:  81000 records collected:  1000  - latest recordID:  borrowAsset   0x16f81815f26c71a21323e3cf68772f0f2250263a2307559bda56ed0c697da404  - actions DB length:  82000  - latest record from:  2023-02-07 14:22:59 7 days ago\n",
      "iterations:  82 Lines skipped:  82000 records collected:  1000  - latest recordID:  borrowAsset   0x6d2b4b3ab5d7d7b20dc8abdb7ab009303a9f2614f03093afbc00ff83b256b55b+1  - actions DB length:  83000  - latest record from:  2023-02-07 14:22:11 7 days ago\n",
      "iterations:  83 Lines skipped:  83000 records collected:  1000  - latest recordID:  addCollateral   0x6d2b4b3ab5d7d7b20dc8abdb7ab009303a9f2614f03093afbc00ff83b256b55b  - actions DB length:  84000  - latest record from:  2023-02-07 14:22:11 7 days ago\n",
      "iterations:  84 Lines skipped:  84000 records collected:  1000  - latest recordID:  borrowAsset   0x5b9cb6e3e76280f768a0a171db73925c98489b3f25193e28eae3bb0bffbc0547+1  - actions DB length:  85000  - latest record from:  2023-02-07 10:35:23 7 days ago\n",
      "iterations:  85 Lines skipped:  85000 records collected:  1000  - latest recordID:  addCollateral   0x5b9cb6e3e76280f768a0a171db73925c98489b3f25193e28eae3bb0bffbc0547  - actions DB length:  86000  - latest record from:  2023-02-07 10:35:23 7 days ago\n",
      "iterations:  86 Lines skipped:  86000 records collected:  1000  - latest recordID:  borrowAsset   0x9be2488f1c1bd4e912249b7977d2112c7c778f8f4eddde715d4f335cef8a1ed2+1  - actions DB length:  87000  - latest record from:  2023-02-07 06:01:11 7 days ago\n",
      "iterations:  87 Lines skipped:  87000 records collected:  1000  - latest recordID:  addCollateral   0x9be2488f1c1bd4e912249b7977d2112c7c778f8f4eddde715d4f335cef8a1ed2  - actions DB length:  88000  - latest record from:  2023-02-07 06:01:11 7 days ago\n",
      "iterations:  88 Lines skipped:  88000 records collected:  1000  - latest recordID:  borrowAsset   0xbefa2e59d3e8d0c431dfac8ce9aca2e00fb0a17e66a56512be1b47b740d95089  - actions DB length:  89000  - latest record from:  2023-02-07 05:58:47 7 days ago\n",
      "iterations:  89 Lines skipped:  89000 records collected:  1000  - latest recordID:  repayAsset   0x780b2ae8e35f8c6155032b8211eb8e1fbdb0011af9147f5b05d5886cfd120ac5  - actions DB length:  90000  - latest record from:  2023-02-06 21:37:23 7 days ago\n",
      "iterations:  90 Lines skipped:  90000 records collected:  1000  - latest recordID:  borrowAsset   0x834ce05c7b0e411a74bac4beaead4639905451289a4762e6639336546f6f57aa  - actions DB length:  91000  - latest record from:  2023-02-06 19:18:11 7 days ago\n",
      "iterations:  91 Lines skipped:  91000 records collected:  1000  - latest recordID:  borrowAsset   0xd824db46f2929d7f851c883c6d8a16309ed1c6a4467b6199dc28d0bdc3e109f4+1  - actions DB length:  92000  - latest record from:  2023-02-06 19:17:23 7 days ago\n",
      "iterations:  92 Lines skipped:  92000 records collected:  1000  - latest recordID:  addCollateral   0xd824db46f2929d7f851c883c6d8a16309ed1c6a4467b6199dc28d0bdc3e109f4  - actions DB length:  93000  - latest record from:  2023-02-06 19:17:23 7 days ago\n",
      "iterations:  93 Lines skipped:  93000 records collected:  1000  - latest recordID:  removeAsset   0x364fc3214b25629d0d134c2a62aac9aaac6436dc219bbfc58c57798bc55871dd  - actions DB length:  94000  - latest record from:  2023-02-06 15:01:11 8 days ago\n",
      "iterations:  94 Lines skipped:  94000 records collected:  1000  - latest recordID:  borrowAsset   0x326e0444e2ccf71f1285954fdbbcc855c29485f92ea0a6d490a515a40dff7aec+1  - actions DB length:  95000  - latest record from:  2023-02-06 10:45:11 8 days ago\n",
      "iterations:  95 Lines skipped:  95000 records collected:  1000  - latest recordID:  addCollateral   0x326e0444e2ccf71f1285954fdbbcc855c29485f92ea0a6d490a515a40dff7aec  - actions DB length:  96000  - latest record from:  2023-02-06 10:45:11 8 days ago\n",
      "iterations:  96 Lines skipped:  96000 records collected:  1000  - latest recordID:  borrowAsset   0x6b99b9e2f74062143534c02a79920d1c33f6d56fcd051943e76778982bd2cdd9+1  - actions DB length:  97000  - latest record from:  2023-02-06 09:02:23 8 days ago\n",
      "iterations:  97 Lines skipped:  97000 records collected:  1000  - latest recordID:  addCollateral   0x6b99b9e2f74062143534c02a79920d1c33f6d56fcd051943e76778982bd2cdd9  - actions DB length:  98000  - latest record from:  2023-02-06 09:02:23 8 days ago\n",
      "iterations:  98 Lines skipped:  98000 records collected:  1000  - latest recordID:  removeCollateral   0x0b18b1c7c3dafc9ef9f513f540f1de376325ceec3962a5e8de18978a72efbebf  - actions DB length:  99000  - latest record from:  2023-02-06 08:52:11 8 days ago\n",
      "iterations:  99 Lines skipped:  99000 records collected:  1000  - latest recordID:  borrowAsset   0x996d854115a22865e3a5ac1a4ee49b33ce889ea4b8e6c67d764cf64804d315d3+1  - actions DB length:  100000  - latest record from:  2023-02-06 03:42:11 8 days ago\n",
      "iterations:  100 Lines skipped:  100000 records collected:  1000  - latest recordID:  addCollateral   0x996d854115a22865e3a5ac1a4ee49b33ce889ea4b8e6c67d764cf64804d315d3  - actions DB length:  101000  - latest record from:  2023-02-06 03:42:11 8 days ago\n",
      "iterations:  101 Lines skipped:  101000 records collected:  1000  - latest recordID:  removeCollateral   0x552a52cd82bbebd0c5c0a9927eb3038c02786eef571b471364e4bc58a8777051  - actions DB length:  102000  - latest record from:  2023-02-06 03:38:11 8 days ago\n",
      "iterations:  102 Lines skipped:  102000 records collected:  1000  - latest recordID:  addAsset   0xcbda7b3075b591cb56f138137c3a0473f29c824ed257f65f51fa421717b8431b  - actions DB length:  103000  - latest record from:  2023-02-05 21:13:59 8 days ago\n",
      "iterations:  103 Lines skipped:  103000 records collected:  1000  - latest recordID:  removeCollateral   0x60c347a83d10615197b96f4d23f6760e8947668d8ea33377c3f6d700b0999bc8  - actions DB length:  104000  - latest record from:  2023-02-05 16:27:35 9 days ago\n",
      "iterations:  104 Lines skipped:  104000 records collected:  1000  - latest recordID:  repayAsset   0xea0b3054fc21bd86b06f4f015561d14f12fa49c1e1127bf5b614a843de9b7c64  - actions DB length:  105000  - latest record from:  2023-02-05 16:25:23 9 days ago\n",
      "iterations:  105 Lines skipped:  105000 records collected:  1000  - latest recordID:  removeCollateral   0xc0e0cbfdf272c9176ad6fc9d5b25cdf33bfaafba6c8c22ebe91250778aec9e8b  - actions DB length:  106000  - latest record from:  2023-02-05 14:09:23 9 days ago\n",
      "iterations:  106 Lines skipped:  106000 records collected:  1000  - latest recordID:  repayAsset   0xbbc80a25645a9e2dc1d704832a11c0d442d7022d59a4d6959718d04bf3e7d0cc  - actions DB length:  107000  - latest record from:  2023-02-05 14:04:11 9 days ago\n",
      "iterations:  107 Lines skipped:  107000 records collected:  1000  - latest recordID:  borrowAsset   0xa979b2ca17af70bdbe5f6804cbfbdd885d26175a6ab19ae94c4b909aa3446e81  - actions DB length:  108000  - latest record from:  2023-02-05 11:39:11 9 days ago\n",
      "iterations:  108 Lines skipped:  108000 records collected:  1000  - latest recordID:  addCollateral   0xf79086c46e8db29afdfa2f26bc6f6e4f4ea9a58cdce3a7227379e7bfa00d2c92  - actions DB length:  109000  - latest record from:  2023-02-05 11:35:47 9 days ago\n",
      "iterations:  109 Lines skipped:  109000 records collected:  1000  - latest recordID:  borrowAsset   0x20a5beee4b3159a97bec055f86cb38f6418a693c87cff1ce8832610b2113ab71+1  - actions DB length:  110000  - latest record from:  2023-02-05 09:38:11 9 days ago\n",
      "iterations:  110 Lines skipped:  110000 records collected:  1000  - latest recordID:  addCollateral   0x20a5beee4b3159a97bec055f86cb38f6418a693c87cff1ce8832610b2113ab71  - actions DB length:  111000  - latest record from:  2023-02-05 09:38:11 9 days ago\n",
      "iterations:  111 Lines skipped:  111000 records collected:  1000  - latest recordID:  removeAsset   0x203a5a3c0c301fcd1a1439ef77d214f0ed7fc0b4796cf656671874f695449d70  - actions DB length:  112000  - latest record from:  2023-02-05 09:19:11 9 days ago\n",
      "iterations:  112 Lines skipped:  112000 records collected:  1000  - latest recordID:  removeAsset   0xc9ad8e2eab317298ee30b2bdb483effb0e40293e8ced5e2c82d93e4b98afe755  - actions DB length:  113000  - latest record from:  2023-02-05 01:32:11 9 days ago\n",
      "iterations:  113 Lines skipped:  113000 records collected:  1000  - latest recordID:  removeAsset   0x77d537ee18009ccc59d95c2704aa35615ea7501716a436ffbbad7687a145600a  - actions DB length:  114000  - latest record from:  2023-02-05 00:14:59 9 days ago\n",
      "iterations:  114 Lines skipped:  114000 records collected:  1000  - latest recordID:  addAsset   0x34def1c3f26d7857d5a1777b3065112f0802c95ee52bf46d1cba579861a3c649  - actions DB length:  115000  - latest record from:  2023-02-03 11:11:35 11 days ago\n",
      "iterations:  115 Lines skipped:  115000 records collected:  1000  - latest recordID:  removeAsset   0xc8471a07381cc2fbab59ee374586cea332bf39132a7f22b54fc50d6db2e59d30  - actions DB length:  116000  - latest record from:  2023-02-03 10:50:23 11 days ago\n",
      "iterations:  116 Lines skipped:  116000 records collected:  1000  - latest recordID:  addAsset   0xdea09eb1f1c443979719b5c2123fb80050c787851768fdfe0265ac690d589041  - actions DB length:  117000  - latest record from:  2023-02-03 08:56:59 11 days ago\n",
      "iterations:  117 Lines skipped:  117000 records collected:  1000  - latest recordID:  borrowAsset   0xab89c1a653789aac01381cdf75975ab768411978fe1d3ad38171a29cd2fffc3a  - actions DB length:  118000  - latest record from:  2023-02-03 07:31:23 11 days ago\n",
      "iterations:  118 Lines skipped:  118000 records collected:  1000  - latest recordID:  borrowAsset   0x2b4448fd953c5accbab7d852020be209da0f5eb8307119d96a6a90db2ee6e8d7+1  - actions DB length:  119000  - latest record from:  2023-02-02 15:47:35 12 days ago\n",
      "iterations:  119 Lines skipped:  119000 records collected:  1000  - latest recordID:  addCollateral   0x2b4448fd953c5accbab7d852020be209da0f5eb8307119d96a6a90db2ee6e8d7  - actions DB length:  120000  - latest record from:  2023-02-02 15:47:35 12 days ago\n",
      "iterations:  120 Lines skipped:  120000 records collected:  1000  - latest recordID:  borrowAsset   0xd4b76291ca09549fa743fa83438a482f74730e480b8c4c061a10d7d7cee2f473  - actions DB length:  121000  - latest record from:  2023-02-02 15:01:11 12 days ago\n",
      "iterations:  121 Lines skipped:  121000 records collected:  1000  - latest recordID:  addCollateral   0x561d220422d20801fc65fefe683669eaf3e5fba6e4a8b35648e2109d79d8172b  - actions DB length:  122000  - latest record from:  2023-02-02 14:59:59 12 days ago\n",
      "iterations:  122 Lines skipped:  122000 records collected:  1000  - latest recordID:  borrowAsset   0x37f5137e3d9f012fd557e769aafc97bb1aa9d6519dc6a4f1ef36689c4c22f227  - actions DB length:  123000  - latest record from:  2023-02-02 14:54:47 12 days ago\n",
      "iterations:  123 Lines skipped:  123000 records collected:  1000  - latest recordID:  addCollateral   0xf121ac2f8ca25a303edb67091899460e6454f3f0a0afa66c31c730206d59587f  - actions DB length:  124000  - latest record from:  2023-02-02 14:53:59 12 days ago\n",
      "iterations:  124 Lines skipped:  124000 records collected:  1000  - latest recordID:  borrowAsset   0xc3dc02ee3cadd2ffb49e08af9305d2d8d8cd03ff3425816e6f28ccb75ca98475+1  - actions DB length:  125000  - latest record from:  2023-02-02 08:22:47 12 days ago\n",
      "iterations:  125 Lines skipped:  125000 records collected:  1000  - latest recordID:  addCollateral   0xc3dc02ee3cadd2ffb49e08af9305d2d8d8cd03ff3425816e6f28ccb75ca98475  - actions DB length:  126000  - latest record from:  2023-02-02 08:22:47 12 days ago\n",
      "iterations:  126 Lines skipped:  126000 records collected:  1000  - latest recordID:  borrowAsset   0x507874609d7eff32999ea66304d4d137ae8f1854fce52653d113ac80b4099778+1  - actions DB length:  127000  - latest record from:  2023-02-02 08:21:47 12 days ago\n",
      "iterations:  127 Lines skipped:  127000 records collected:  1000  - latest recordID:  addCollateral   0x507874609d7eff32999ea66304d4d137ae8f1854fce52653d113ac80b4099778  - actions DB length:  128000  - latest record from:  2023-02-02 08:21:47 12 days ago\n",
      "iterations:  128 Lines skipped:  128000 records collected:  1000  - latest recordID:  borrowAsset   0x333db65350964ed518ca0542b69b7cac675bc43f888727e6247e9c79e58c133c+1  - actions DB length:  129000  - latest record from:  2023-02-02 07:42:47 12 days ago\n",
      "iterations:  129 Lines skipped:  129000 records collected:  1000  - latest recordID:  addCollateral   0x333db65350964ed518ca0542b69b7cac675bc43f888727e6247e9c79e58c133c  - actions DB length:  130000  - latest record from:  2023-02-02 07:42:47 12 days ago\n",
      "iterations:  130 Lines skipped:  130000 records collected:  1000  - latest recordID:  borrowAsset   0x66a8ab00fe08a5204dbc4870d92d82cb4e5973525c58f76185cada22155c6865+1  - actions DB length:  131000  - latest record from:  2023-02-01 22:54:11 12 days ago\n",
      "iterations:  131 Lines skipped:  131000 records collected:  1000  - latest recordID:  addCollateral   0x66a8ab00fe08a5204dbc4870d92d82cb4e5973525c58f76185cada22155c6865  - actions DB length:  132000  - latest record from:  2023-02-01 22:54:11 12 days ago\n",
      "iterations:  132 Lines skipped:  132000 records collected:  1000  - latest recordID:  removeCollateral   0xbb5b4f513dcc2988c382a6a4a89906d01fe51bda47a2ffcc760a05762e2e4e9d  - actions DB length:  133000  - latest record from:  2023-02-01 21:34:23 12 days ago\n",
      "iterations:  133 Lines skipped:  133000 records collected:  1000  - latest recordID:  repayAsset   0xbc551659bec3d5aa222e74772d7af57e22adbb0265b7107e3cadbd7d39adcb93  - actions DB length:  134000  - latest record from:  2023-02-01 21:31:59 12 days ago\n",
      "iterations:  134 Lines skipped:  134000 records collected:  1000  - latest recordID:  borrowAsset   0xf99a05c329600918085e1b16c083ce5ae78ebffbe92897c92e121445cf2dd393  - actions DB length:  135000  - latest record from:  2023-02-01 18:34:59 12 days ago\n",
      "iterations:  135 Lines skipped:  135000 records collected:  1000  - latest recordID:  borrowAsset   0x03f55917c68857379d4805da693c7e4b5166b52b5b3adf2154d7206a5243dcf9  - actions DB length:  136000  - latest record from:  2023-02-01 16:54:47 13 days ago\n",
      "iterations:  136 Lines skipped:  136000 records collected:  1000  - latest recordID:  borrowAsset   0xc38d788823d01d7c34369e15962737ac808d80ef0cae930b28b40a38017cecc7  - actions DB length:  137000  - latest record from:  2023-02-01 13:01:35 13 days ago\n",
      "iterations:  137 Lines skipped:  137000 records collected:  1000  - latest recordID:  borrowAsset   0x26f7fd2ab436b9370a1b272345625be420f6895b1f58a933388b062e908b7375+1  - actions DB length:  138000  - latest record from:  2023-02-01 11:15:59 13 days ago\n",
      "iterations:  138 Lines skipped:  138000 records collected:  1000  - latest recordID:  addCollateral   0x26f7fd2ab436b9370a1b272345625be420f6895b1f58a933388b062e908b7375  - actions DB length:  139000  - latest record from:  2023-02-01 11:15:59 13 days ago\n",
      "iterations:  139 Lines skipped:  139000 records collected:  1000  - latest recordID:  removeAsset   0x2eabecd26a862fbfde0548df11eb2a3d6e2e07db38102415c55cae2df4c8a97a  - actions DB length:  140000  - latest record from:  2023-02-01 04:18:47 13 days ago\n",
      "iterations:  140 Lines skipped:  140000 records collected:  1000  - latest recordID:  removeAsset   0x64cd3f39e4424f168067d4ec7e4d6cb3a33b16a45affac42819a0f75aeabfdf4  - actions DB length:  141000  - latest record from:  2023-01-31 22:15:59 13 days ago\n",
      "iterations:  141 Lines skipped:  141000 records collected:  1000  - latest recordID:  borrowAsset   0x5b54915efb1fc5ec53fd70cb5dfe5cd1f0b63e4e4f246643ecc63dbd42d911cc+1  - actions DB length:  142000  - latest record from:  2023-01-31 16:48:59 14 days ago\n",
      "iterations:  142 Lines skipped:  142000 records collected:  1000  - latest recordID:  addCollateral   0x5b54915efb1fc5ec53fd70cb5dfe5cd1f0b63e4e4f246643ecc63dbd42d911cc  - actions DB length:  143000  - latest record from:  2023-01-31 16:48:59 14 days ago\n",
      "iterations:  143 Lines skipped:  143000 records collected:  1000  - latest recordID:  borrowAsset   0xb96734f96cd7d10ef3e099c366e019e04d4e04dd0e5825fef1ebe284fbdb1255  - actions DB length:  144000  - latest record from:  2023-01-31 16:46:47 14 days ago\n",
      "iterations:  144 Lines skipped:  144000 records collected:  1000  - latest recordID:  removeCollateral   0x8b38fcf78a096afd1c13f8367a8c29a9ee6de56b227933dac5a0b6a43c156639  - actions DB length:  145000  - latest record from:  2023-01-31 15:17:47 14 days ago\n",
      "iterations:  145 Lines skipped:  145000 records collected:  1000  - latest recordID:  borrowAsset   0x3f9dd85fe8726e91a22fcf2608395bbfe31457aac66693980c4961f32754d8c5  - actions DB length:  146000  - latest record from:  2023-01-31 11:19:11 14 days ago\n",
      "iterations:  146 Lines skipped:  146000 records collected:  1000  - latest recordID:  removeCollateral   0x3620ee62c513ce22c389c669837b6892edec06c212a5564faf6d6b716fb2e196  - actions DB length:  147000  - latest record from:  2023-01-31 11:03:23 14 days ago\n",
      "iterations:  147 Lines skipped:  147000 records collected:  1000  - latest recordID:  repayAsset   0x39d2e0dda120f10e067a19746b003e04ffd5738e2b8f8e0eaa5b86220a9ee7f0  - actions DB length:  148000  - latest record from:  2023-01-31 11:01:35 14 days ago\n",
      "iterations:  148 Lines skipped:  148000 records collected:  1000  - latest recordID:  removeCollateral   0x1ac69cd5cfc7a573065ce8303713aa391cafdcfa79f4456237f56db03f289605  - actions DB length:  149000  - latest record from:  2023-01-31 10:36:59 14 days ago\n",
      "iterations:  149 Lines skipped:  149000 records collected:  1000  - latest recordID:  repayAsset   0x2fa96a80ff4bff9c280c580010faaa9259d137ae459788780cc6f5f33ad25e24  - actions DB length:  150000  - latest record from:  2023-01-31 10:36:11 14 days ago\n",
      "iterations:  150 Lines skipped:  150000 records collected:  1000  - latest recordID:  removeAsset   0x24205218451b7ed0efb6de43a9c2aa0983fefcf7592ff2b4134e65ccffdaaa69  - actions DB length:  151000  - latest record from:  2023-01-31 10:30:47 14 days ago\n",
      "iterations:  151 Lines skipped:  151000 records collected:  1000  - latest recordID:  removeCollateral   0x4651d18a4d016e014a90f9db37b37d22979af9687dee18d99490d7fb61f0cee8  - actions DB length:  152000  - latest record from:  2023-01-31 06:39:47 14 days ago\n",
      "iterations:  152 Lines skipped:  152000 records collected:  1000  - latest recordID:  repayAsset   0xc3d1f2a03fdf879f70fea95fb65fa33512d6b2039963fd3892508f364cdd818b  - actions DB length:  153000  - latest record from:  2023-01-31 06:38:59 14 days ago\n",
      "iterations:  153 Lines skipped:  153000 records collected:  1000  - latest recordID:  borrowAsset   0xdde3beeb021c06b8f00659281dc2b2f150f6c38a3918f271591d84d50d664c85  - actions DB length:  154000  - latest record from:  2023-01-31 05:54:11 14 days ago\n",
      "iterations:  154 Lines skipped:  154000 records collected:  1000  - latest recordID:  removeCollateral   0x6d63493438806283fae73326820511d858a911e16e8d0456c425fb05e29e50bb  - actions DB length:  155000  - latest record from:  2023-01-31 03:24:47 14 days ago\n",
      "iterations:  155 Lines skipped:  155000 records collected:  1000  - latest recordID:  repayAsset   0x7ff20ac7dbf4eeabb6b51ea6b0b7ab3fa048bef1f6cd77b670ca2ddb2de42d7a  - actions DB length:  156000  - latest record from:  2023-01-31 03:24:11 14 days ago\n",
      "iterations:  156 Lines skipped:  156000 records collected:  1000  - latest recordID:  removeCollateral   0x38069e05261fc9ae203c5d2b6dca4658c7bb8dd856f1af87ed0d40df985eb24b  - actions DB length:  157000  - latest record from:  2023-01-31 00:26:11 14 days ago\n",
      "iterations:  157 Lines skipped:  157000 records collected:  1000  - latest recordID:  repayAsset   0x67e1ccc44736eb0c79b8d95c2cd635c189194ace49109b99b7ebdabf55acfdbd  - actions DB length:  158000  - latest record from:  2023-01-31 00:25:23 14 days ago\n",
      "iterations:  158 Lines skipped:  158000 records collected:  1000  - latest recordID:  removeCollateral   0xcdd8e49256df990f24e8811a4fd4999bc34356bc42ac29fb9bcc7782baa1cc2e  - actions DB length:  159000  - latest record from:  2023-01-30 17:35:59 15 days ago\n",
      "iterations:  159 Lines skipped:  159000 records collected:  1000  - latest recordID:  repayAsset   0xa0e6a9c8d172ea5a865df0d06a654953109d278876588d7c266d2f10ddb3ce4e  - actions DB length:  160000  - latest record from:  2023-01-30 17:27:47 15 days ago\n",
      "iterations:  160 Lines skipped:  160000 records collected:  1000  - latest recordID:  addAsset   0xa98494dbf8f20b5d0baf934b8e02f2068fb1436b6b57e4f7ca6c1005582afba8  - actions DB length:  161000  - latest record from:  2023-01-30 15:08:59 15 days ago\n",
      "iterations:  161 Lines skipped:  161000 records collected:  1000  - latest recordID:  addAsset   0x86e0d0e313fd87fb890da24c1eaeae7e83f8ea8791ef26451016a375bdaa97fb  - actions DB length:  162000  - latest record from:  2023-01-30 14:56:35 15 days ago\n",
      "iterations:  162 Lines skipped:  162000 records collected:  1000  - latest recordID:  borrowAsset   0xb762c343ba7caaf725fc219afb1b2b88652a50347c0a45ad8293c912aad4f360+1  - actions DB length:  163000  - latest record from:  2023-01-30 13:58:47 15 days ago\n",
      "iterations:  163 Lines skipped:  163000 records collected:  1000  - latest recordID:  addCollateral   0xb762c343ba7caaf725fc219afb1b2b88652a50347c0a45ad8293c912aad4f360  - actions DB length:  164000  - latest record from:  2023-01-30 13:58:47 15 days ago\n",
      "iterations:  164 Lines skipped:  164000 records collected:  1000  - latest recordID:  borrowAsset   0xcb488c0f31012d6ba649789562bbd7ba9ac0a4244aecae8f9a42cb511710fc84+1  - actions DB length:  165000  - latest record from:  2023-01-30 13:05:59 15 days ago\n",
      "iterations:  165 Lines skipped:  165000 records collected:  1000  - latest recordID:  addCollateral   0xcb488c0f31012d6ba649789562bbd7ba9ac0a4244aecae8f9a42cb511710fc84  - actions DB length:  166000  - latest record from:  2023-01-30 13:05:59 15 days ago\n",
      "iterations:  166 Lines skipped:  166000 records collected:  1000  - latest recordID:  addAsset   0x81c60c0301fed169a5eeee7739100fc83bf3d8e744500c9c9e37be1d31544729  - actions DB length:  167000  - latest record from:  2023-01-30 12:14:47 15 days ago\n",
      "iterations:  167 Lines skipped:  167000 records collected:  1000  - latest recordID:  repayAsset   0xd02d1e2223a9bb8288f8afd6e91a9fcd444e06db0f30a4f545a0c12fdefaf788  - actions DB length:  168000  - latest record from:  2023-01-30 11:18:59 15 days ago\n",
      "iterations:  168 Lines skipped:  168000 records collected:  1000  - latest recordID:  borrowAsset   0xb019c269f340d0182a2c38b01c25baa2bdb86c26ff32d10eea50d85de88e050b+1  - actions DB length:  169000  - latest record from:  2023-01-30 11:15:47 15 days ago\n",
      "iterations:  169 Lines skipped:  169000 records collected:  1000  - latest recordID:  addCollateral   0xb019c269f340d0182a2c38b01c25baa2bdb86c26ff32d10eea50d85de88e050b  - actions DB length:  170000  - latest record from:  2023-01-30 11:15:47 15 days ago\n",
      "iterations:  170 Lines skipped:  170000 records collected:  1000  - latest recordID:  removeCollateral   0x5c3636b95d45d40c1602ce895781517c7bda636e57fd8f67bc71b357c1d7a26b  - actions DB length:  171000  - latest record from:  2023-01-30 11:13:11 15 days ago\n",
      "iterations:  171 Lines skipped:  171000 records collected:  1000  - latest recordID:  removeAsset   0x6f00c50394c743c376fb4196f686e6f1a244991e01273ce80d85f53fd604209e  - actions DB length:  172000  - latest record from:  2023-01-30 10:21:59 15 days ago\n",
      "iterations:  172 Lines skipped:  172000 records collected:  1000  - latest recordID:  addAsset   0xce4366f2b230132cc3eca24b357f611a935a05f9c71db4f0f82c6751c9d024ef  - actions DB length:  173000  - latest record from:  2023-01-30 10:19:23 15 days ago\n",
      "iterations:  173 Lines skipped:  173000 records collected:  1000  - latest recordID:  borrowAsset   0xa0889721b0bfc7a8f345594323cf31bd0699312e2a16ed79febbaaa7bc6738b3+1  - actions DB length:  174000  - latest record from:  2023-01-30 10:09:59 15 days ago\n",
      "iterations:  174 Lines skipped:  174000 records collected:  1000  - latest recordID:  addCollateral   0xa0889721b0bfc7a8f345594323cf31bd0699312e2a16ed79febbaaa7bc6738b3  - actions DB length:  175000  - latest record from:  2023-01-30 10:09:59 15 days ago\n",
      "iterations:  175 Lines skipped:  175000 records collected:  1000  - latest recordID:  addAsset   0xfd6a50689b490e598386670f601d5323e1559ec0a1f040d6b7e1bfa9bc9d0a35  - actions DB length:  176000  - latest record from:  2023-01-30 10:04:23 15 days ago\n",
      "iterations:  176 Lines skipped:  176000 records collected:  1000  - latest recordID:  borrowAsset   0xcad74f96f5d001948501bcaaa1fde0e1b29d69974690dd7f5601a3be7bb6208f+1  - actions DB length:  177000  - latest record from:  2023-01-30 09:42:47 15 days ago\n",
      "iterations:  177 Lines skipped:  177000 records collected:  1000  - latest recordID:  addCollateral   0xcad74f96f5d001948501bcaaa1fde0e1b29d69974690dd7f5601a3be7bb6208f  - actions DB length:  178000  - latest record from:  2023-01-30 09:42:47 15 days ago\n",
      "iterations:  178 Lines skipped:  178000 records collected:  1000  - latest recordID:  borrowAsset   0x117b987a167e6bbf925887931623acb0d5111ee60ab90b760b0a7e442b37d22a+1  - actions DB length:  179000  - latest record from:  2023-01-30 09:37:23 15 days ago\n",
      "iterations:  179 Lines skipped:  179000 records collected:  1000  - latest recordID:  addCollateral   0x117b987a167e6bbf925887931623acb0d5111ee60ab90b760b0a7e442b37d22a  - actions DB length:  180000  - latest record from:  2023-01-30 09:37:23 15 days ago\n",
      "iterations:  180 Lines skipped:  180000 records collected:  1000  - latest recordID:  addAsset   0x984fcfc404bcbd7bd4a250b569285176fc6c41588bd2c185d62444afbdccecba  - actions DB length:  181000  - latest record from:  2023-01-30 08:15:23 15 days ago\n",
      "iterations:  181 Lines skipped:  181000 records collected:  1000  - latest recordID:  borrowAsset   0x9009bdb40b144cefea3025da53f1719fcc88b45789b8b26ac6ee6bf8fddc2b58  - actions DB length:  182000  - latest record from:  2023-01-30 06:19:35 15 days ago\n",
      "iterations:  182 Lines skipped:  182000 records collected:  1000  - latest recordID:  addAsset   0xa6498530b23f7c167a0458b584d903fc3674a8eafb263087348aa5d5313d2510  - actions DB length:  183000  - latest record from:  2023-01-30 05:54:11 15 days ago\n",
      "iterations:  183 Lines skipped:  183000 records collected:  1000  - latest recordID:  borrowAsset   0x00c9203154ead117956a5674fc6442d532e1f568956acf4a842e5f4544453edd+1  - actions DB length:  184000  - latest record from:  2023-01-30 03:11:47 15 days ago\n",
      "iterations:  184 Lines skipped:  184000 records collected:  1000  - latest recordID:  addCollateral   0x00c9203154ead117956a5674fc6442d532e1f568956acf4a842e5f4544453edd  - actions DB length:  185000  - latest record from:  2023-01-30 03:11:47 15 days ago\n",
      "iterations:  185 Lines skipped:  185000 records collected:  1000  - latest recordID:  removeCollateral   0xda11a6b0d87a14503fb837c873e3b03787fa11b1cee43b87c44a5a4eb788588a  - actions DB length:  186000  - latest record from:  2023-01-29 20:12:11 15 days ago\n",
      "iterations:  186 Lines skipped:  186000 records collected:  1000  - latest recordID:  repayAsset   0xa485b88b2785e32d1c0fc44f2b729fe68796f64e5c4e77f470bd3c81fb638ccb  - actions DB length:  187000  - latest record from:  2023-01-29 20:10:59 15 days ago\n",
      "iterations:  187 Lines skipped:  187000 records collected:  1000  - latest recordID:  repayAsset   0x7a2b9ce4d27f0d55aba0b23b2a6f7e2d990a7a95b86f2e1e2461eeeeb8aefccb  - actions DB length:  188000  - latest record from:  2023-01-29 20:09:59 15 days ago\n",
      "iterations:  188 Lines skipped:  188000 records collected:  1000  - latest recordID:  removeCollateral   0x8eaec0043e12ac03d5156000a030a4cf009e8f20403a6616fd7a50054ba5f173  - actions DB length:  189000  - latest record from:  2023-01-29 20:06:35 15 days ago\n",
      "iterations:  189 Lines skipped:  189000 records collected:  1000  - latest recordID:  repayAsset   0xc6c5ba5f24860cf7ad01d89a16379879644e15adb766b8a9085b6039fc98e0c1  - actions DB length:  190000  - latest record from:  2023-01-29 20:05:59 15 days ago\n",
      "iterations:  190 Lines skipped:  190000 records collected:  1000  - latest recordID:  removeCollateral   0x89951bd394ce27428ddfc3d0aeb7ce8eed85f27ecb6f00e52784bf6fd584621a  - actions DB length:  191000  - latest record from:  2023-01-29 20:00:11 15 days ago\n",
      "iterations:  191 Lines skipped:  191000 records collected:  1000  - latest recordID:  addAsset   0xfb6960860fccf3868bb4a146fdd455e78b895e48cb897e7e81d6cc6b51097374  - actions DB length:  192000  - latest record from:  2023-01-29 17:31:59 16 days ago\n",
      "iterations:  192 Lines skipped:  192000 records collected:  1000  - latest recordID:  borrowAsset   0x4e64144863feb7aeef178c857da2a3eb9c5344441e76a1e2f54ee2e54de0292b+1  - actions DB length:  193000  - latest record from:  2023-01-29 17:11:11 16 days ago\n",
      "iterations:  193 Lines skipped:  193000 records collected:  1000  - latest recordID:  addCollateral   0x4e64144863feb7aeef178c857da2a3eb9c5344441e76a1e2f54ee2e54de0292b  - actions DB length:  194000  - latest record from:  2023-01-29 17:11:11 16 days ago\n",
      "iterations:  194 Lines skipped:  194000 records collected:  1000  - latest recordID:  borrowAsset   0x8050f675a5a2230c4e276780727fd28ac50ff5aeeae1b8b27f650f74f74d15de  - actions DB length:  195000  - latest record from:  2023-01-29 17:09:47 16 days ago\n",
      "iterations:  195 Lines skipped:  195000 records collected:  1000  - latest recordID:  borrowAsset   0x9ded14039cfbe71d257bf940e6446cb6e4b84ce3c5e03c3d7e744f357b3e3a22+1  - actions DB length:  196000  - latest record from:  2023-01-29 12:51:59 16 days ago\n",
      "iterations:  196 Lines skipped:  196000 records collected:  1000  - latest recordID:  addCollateral   0x9ded14039cfbe71d257bf940e6446cb6e4b84ce3c5e03c3d7e744f357b3e3a22  - actions DB length:  197000  - latest record from:  2023-01-29 12:51:59 16 days ago\n",
      "iterations:  197 Lines skipped:  197000 records collected:  1000  - latest recordID:  removeAsset   0x300497dedab365bc5e89859aa3658407e968c15fc2644a3b82f82ca2bfb66791  - actions DB length:  198000  - latest record from:  2023-01-29 12:36:47 16 days ago\n",
      "iterations:  198 Lines skipped:  198000 records collected:  1000  - latest recordID:  repayAsset   0x3ec25a2edac08032910923a0e9684cdcf44bb27c9edd2b468eee29f5234cc036  - actions DB length:  199000  - latest record from:  2023-01-29 10:38:23 16 days ago\n",
      "iterations:  199 Lines skipped:  199000 records collected:  1000  - latest recordID:  removeAsset   0x138b846ce4e027dfe0a5229019f93c903a0d9fb2f3bd191c5b2e0c609e0a2731  - actions DB length:  200000  - latest record from:  2023-01-29 09:40:59 16 days ago\n",
      "iterations:  200 Lines skipped:  200000 records collected:  1000  - latest recordID:  borrowAsset   0xf26b0b5d8213192588a1e263b85ebc0c19ef815ccf4176c12d42b4db196b25fb  - actions DB length:  201000  - latest record from:  2023-01-29 09:16:35 16 days ago\n",
      "iterations:  201 Lines skipped:  201000 records collected:  1000  - latest recordID:  borrowAsset   0x367cbd3d6a90a55ee10003edfb8614643f75d0f1aa81480b674c0f56b1aa7611+1  - actions DB length:  202000  - latest record from:  2023-01-29 09:15:59 16 days ago\n",
      "iterations:  202 Lines skipped:  202000 records collected:  1000  - latest recordID:  addCollateral   0x367cbd3d6a90a55ee10003edfb8614643f75d0f1aa81480b674c0f56b1aa7611  - actions DB length:  203000  - latest record from:  2023-01-29 09:15:59 16 days ago\n",
      "iterations:  203 Lines skipped:  203000 records collected:  1000  - latest recordID:  borrowAsset   0x0b1ef544270323931d6c529967aa8af9b7050a201f4110378e4a0a8c3f7a9f15  - actions DB length:  204000  - latest record from:  2023-01-29 09:14:47 16 days ago\n",
      "iterations:  204 Lines skipped:  204000 records collected:  1000  - latest recordID:  removeAsset   0xd455ccfeeac88c33d369faf855885455b0d87f7c5d00bee4acc7d91bbd85f29e  - actions DB length:  205000  - latest record from:  2023-01-29 06:53:59 16 days ago\n",
      "iterations:  205 Lines skipped:  205000 records collected:  1000  - latest recordID:  borrowAsset   0x23d31ea5f3a1fba025c398eeb08de147b5bf09b0b36fd87cb1d7f524a7b09499+1  - actions DB length:  206000  - latest record from:  2023-01-28 13:46:59 17 days ago\n",
      "iterations:  206 Lines skipped:  206000 records collected:  1000  - latest recordID:  addCollateral   0x23d31ea5f3a1fba025c398eeb08de147b5bf09b0b36fd87cb1d7f524a7b09499  - actions DB length:  207000  - latest record from:  2023-01-28 13:46:59 17 days ago\n",
      "iterations:  207 Lines skipped:  207000 records collected:  1000  - latest recordID:  removeCollateral   0xf872e2deb9544fed4e23733debe362d88cb44026ab9adf434d05bdc3d33988ba  - actions DB length:  208000  - latest record from:  2023-01-28 12:56:23 17 days ago\n",
      "iterations:  208 Lines skipped:  208000 records collected:  1000  - latest recordID:  addAsset   0x95550f6d6f6c17fca583242bcbdd54389648e13a414b76d3936b423776bc588a  - actions DB length:  209000  - latest record from:  2023-01-28 12:29:23 17 days ago\n",
      "iterations:  209 Lines skipped:  209000 records collected:  1000  - latest recordID:  borrowAsset   0xad25ebe4b1becb395eb0f1e1c85ca94f4d3efdee4874408d5a4d55f87c29257f+1  - actions DB length:  210000  - latest record from:  2023-01-27 09:40:11 18 days ago\n",
      "iterations:  210 Lines skipped:  210000 records collected:  1000  - latest recordID:  addCollateral   0xad25ebe4b1becb395eb0f1e1c85ca94f4d3efdee4874408d5a4d55f87c29257f  - actions DB length:  211000  - latest record from:  2023-01-27 09:40:11 18 days ago\n",
      "iterations:  211 Lines skipped:  211000 records collected:  1000  - latest recordID:  borrowAsset   0xd2640e90d1a46aa392b42d6ecaf52c2650284f8e71cdfa60c5198d87f07afb79+1  - actions DB length:  212000  - latest record from:  2023-01-27 06:33:59 18 days ago\n",
      "iterations:  212 Lines skipped:  212000 records collected:  1000  - latest recordID:  addCollateral   0xd2640e90d1a46aa392b42d6ecaf52c2650284f8e71cdfa60c5198d87f07afb79  - actions DB length:  213000  - latest record from:  2023-01-27 06:33:59 18 days ago\n",
      "iterations:  213 Lines skipped:  213000 records collected:  1000  - latest recordID:  removeAsset   0x73fc1dafef2f8ea53fa1ab442a8ef07510a0368130ad2b9d955a65629749a410  - actions DB length:  214000  - latest record from:  2023-01-27 04:31:35 18 days ago\n",
      "iterations:  214 Lines skipped:  214000 records collected:  1000  - latest recordID:  borrowAsset   0x38c758afd10bd55fc310e374f7f52237e839a9bab0b3a74ef17a3cccd76b2741+1  - actions DB length:  215000  - latest record from:  2023-01-26 17:57:11 18 days ago\n",
      "iterations:  215 Lines skipped:  215000 records collected:  1000  - latest recordID:  addCollateral   0x38c758afd10bd55fc310e374f7f52237e839a9bab0b3a74ef17a3cccd76b2741  - actions DB length:  216000  - latest record from:  2023-01-26 17:57:11 18 days ago\n",
      "iterations:  216 Lines skipped:  216000 records collected:  1000  - latest recordID:  removeCollateral   0xdc2c385e00d5997affffb49e10327009aa5bf9a3cd8e4b2aa64ca2201172c329  - actions DB length:  217000  - latest record from:  2023-01-26 16:57:23 19 days ago\n",
      "iterations:  217 Lines skipped:  217000 records collected:  1000  - latest recordID:  borrowAsset   0x460d33fa9bd03fc3dcf892d3bdb74ca8774cc20d4bbb63cfc4d7577b44b98c7c  - actions DB length:  218000  - latest record from:  2023-01-26 14:18:47 19 days ago\n",
      "iterations:  218 Lines skipped:  218000 records collected:  1000  - latest recordID:  removeCollateral   0x33de61df37e83e86f20ca6c1b245c753e415d1be7441c8d8c64710e422b24f7a  - actions DB length:  219000  - latest record from:  2023-01-26 12:44:11 19 days ago\n",
      "iterations:  219 Lines skipped:  219000 records collected:  1000  - latest recordID:  repayAsset   0xa12fb236c45bf339bdf36cbcb13c7ae44e7ca97ac486143643635eabb4876907  - actions DB length:  220000  - latest record from:  2023-01-26 12:42:47 19 days ago\n",
      "iterations:  220 Lines skipped:  220000 records collected:  1000  - latest recordID:  borrowAsset   0x6bdac83d4e1480ede4153fc63186a108078c8dd8de6a35e6b29ba25f2acf347d  - actions DB length:  221000  - latest record from:  2023-01-26 12:36:59 19 days ago\n",
      "iterations:  221 Lines skipped:  221000 records collected:  1000  - latest recordID:  borrowAsset   0x32ebb0fd3e85620656962354025d1fe63b5599c5afa9f7d505beaa92d192b902  - actions DB length:  222000  - latest record from:  2023-01-26 06:58:35 19 days ago\n",
      "iterations:  222 Lines skipped:  222000 records collected:  1000  - latest recordID:  addAsset   0x21d541d24e806094005c8424c4cd99ded740b06197f59ba911d8b98dc32f1105  - actions DB length:  223000  - latest record from:  2023-01-26 06:38:47 19 days ago\n",
      "iterations:  223 Lines skipped:  223000 records collected:  1000  - latest recordID:  borrowAsset   0x1607d81d51333d223190e0346001d4cb119c58bd6f8cbca495ff799e9f3c47b5  - actions DB length:  224000  - latest record from:  2023-01-26 06:06:59 19 days ago\n",
      "iterations:  224 Lines skipped:  224000 records collected:  1000  - latest recordID:  removeCollateral   0x7ad5ad423cc17771937c7d98ff5dcfb833226ec43251e627176881d8cbebed44  - actions DB length:  225000  - latest record from:  2023-01-26 06:00:59 19 days ago\n",
      "iterations:  225 Lines skipped:  225000 records collected:  1000  - latest recordID:  removeCollateral   0x6fdfa651f461787a7d66bf8d5ceec574f190b2fd2cb8d6f046b275be24adb56e  - actions DB length:  226000  - latest record from:  2023-01-26 05:48:47 19 days ago\n",
      "iterations:  226 Lines skipped:  226000 records collected:  1000  - latest recordID:  borrowAsset   0x8fbd9ed9f23e817a98a71ff4c37e9cfe6e1a682e50983d98f4addbe5b41196e0+1  - actions DB length:  227000  - latest record from:  2023-01-26 03:51:11 19 days ago\n",
      "iterations:  227 Lines skipped:  227000 records collected:  1000  - latest recordID:  addCollateral   0x8fbd9ed9f23e817a98a71ff4c37e9cfe6e1a682e50983d98f4addbe5b41196e0  - actions DB length:  228000  - latest record from:  2023-01-26 03:51:11 19 days ago\n",
      "iterations:  228 Lines skipped:  228000 records collected:  1000  - latest recordID:  borrowAsset   0xee376200e715c6c5f759c281cf94079f96ec50f667d0f51a9f61eb542c718491  - actions DB length:  229000  - latest record from:  2023-01-26 02:39:23 19 days ago\n",
      "iterations:  229 Lines skipped:  229000 records collected:  1000  - latest recordID:  addCollateral   0xb29a0dfff24aaef06861b69d20a41d8df80554bae829d3e16dd7143acf66b24d  - actions DB length:  230000  - latest record from:  2023-01-26 02:36:23 19 days ago\n",
      "iterations:  230 Lines skipped:  230000 records collected:  1000  - latest recordID:  addCollateral   0x9a0ce98b3daefb436073ccd8e3750d70a4013f44a7110277c07f58234317cc4a  - actions DB length:  231000  - latest record from:  2023-01-25 15:41:59 20 days ago\n",
      "iterations:  231 Lines skipped:  231000 records collected:  1000  - latest recordID:  borrowAsset   0x06b1f874b3b0444a7c7b48524d8a4537021fdd1592b2ab54c914f0441b78a284  - actions DB length:  232000  - latest record from:  2023-01-25 15:35:23 20 days ago\n",
      "iterations:  232 Lines skipped:  232000 records collected:  1000  - latest recordID:  borrowAsset   0xb984c468dfe971a60156c1d3cd4f58881e918b64ef18a717892617c1c77f8f00  - actions DB length:  233000  - latest record from:  2023-01-25 12:39:47 20 days ago\n",
      "iterations:  233 Lines skipped:  233000 records collected:  1000  - latest recordID:  borrowAsset   0x369edade729ed5bd71f3dd52a25b3506a41e1deeb1687a7e5e54a5eb2a3d8618  - actions DB length:  234000  - latest record from:  2023-01-25 12:36:35 20 days ago\n",
      "iterations:  234 Lines skipped:  234000 records collected:  1000  - latest recordID:  addAsset   0x0abd7c47061632a186ecea8bec4231bc340c01971bcdf10148c99889affd331a  - actions DB length:  235000  - latest record from:  2023-01-25 07:52:59 20 days ago\n",
      "iterations:  235 Lines skipped:  235000 records collected:  1000  - latest recordID:  removeAsset   0x681c3b71291aabed9d25ab9882ca0279f65d530b20884e9809224dd3b3b38a3a  - actions DB length:  236000  - latest record from:  2023-01-25 00:10:35 20 days ago\n",
      "iterations:  236 Lines skipped:  236000 records collected:  1000  - latest recordID:  borrowAsset   0x8a270186763feef09a1a07a2b84e3d09b985abef451b00bac49349caa15cac70+1  - actions DB length:  237000  - latest record from:  2023-01-24 19:37:35 20 days ago\n",
      "iterations:  237 Lines skipped:  237000 records collected:  1000  - latest recordID:  addCollateral   0x8a270186763feef09a1a07a2b84e3d09b985abef451b00bac49349caa15cac70  - actions DB length:  238000  - latest record from:  2023-01-24 19:37:35 20 days ago\n",
      "iterations:  238 Lines skipped:  238000 records collected:  1000  - latest recordID:  borrowAsset   0x9eb930c388325704d1d580f4c11802712a543e34f90a772c59342bc1571db577+1  - actions DB length:  239000  - latest record from:  2023-01-24 18:06:11 20 days ago\n",
      "iterations:  239 Lines skipped:  239000 records collected:  1000  - latest recordID:  addCollateral   0x9eb930c388325704d1d580f4c11802712a543e34f90a772c59342bc1571db577  - actions DB length:  240000  - latest record from:  2023-01-24 18:06:11 20 days ago\n",
      "iterations:  240 Lines skipped:  240000 records collected:  1000  - latest recordID:  borrowAsset   0xc94553ec769713acc8a94bc2c77839381e444a53d07706ec285c6c1afd2735ea+1  - actions DB length:  241000  - latest record from:  2023-01-24 17:47:35 21 days ago\n",
      "iterations:  241 Lines skipped:  241000 records collected:  1000  - latest recordID:  addCollateral   0xc94553ec769713acc8a94bc2c77839381e444a53d07706ec285c6c1afd2735ea  - actions DB length:  242000  - latest record from:  2023-01-24 17:47:35 21 days ago\n",
      "iterations:  242 Lines skipped:  242000 records collected:  1000  - latest recordID:  addAsset   0xb010bd34956101ae6d1c62818885499c46396a88f689132a8800ea15f176db0d  - actions DB length:  243000  - latest record from:  2023-01-24 13:46:47 21 days ago\n",
      "iterations:  243 Lines skipped:  243000 records collected:  1000  - latest recordID:  borrowAsset   0xc6ebc75658d1958b2c61ccbc7c7a82eaead8a95de74242dcbce185fa60820fda+1  - actions DB length:  244000  - latest record from:  2023-01-23 16:03:59 22 days ago\n",
      "iterations:  244 Lines skipped:  244000 records collected:  1000  - latest recordID:  addCollateral   0xc6ebc75658d1958b2c61ccbc7c7a82eaead8a95de74242dcbce185fa60820fda  - actions DB length:  245000  - latest record from:  2023-01-23 16:03:59 22 days ago\n",
      "iterations:  245 Lines skipped:  245000 records collected:  1000  - latest recordID:  removeCollateral   0xb03a2856d37f5eea58e5a69ca2a26a683a18c31a9129c09f16a543342afb2081  - actions DB length:  246000  - latest record from:  2023-01-23 15:43:47 22 days ago\n",
      "iterations:  246 Lines skipped:  246000 records collected:  1000  - latest recordID:  borrowAsset   0x1ad635e17337c663732f656586d178120258bee4f116e3561a88d21a6652d2ba+1  - actions DB length:  247000  - latest record from:  2023-01-23 13:50:35 22 days ago\n",
      "iterations:  247 Lines skipped:  247000 records collected:  1000  - latest recordID:  addCollateral   0x1ad635e17337c663732f656586d178120258bee4f116e3561a88d21a6652d2ba  - actions DB length:  248000  - latest record from:  2023-01-23 13:50:35 22 days ago\n",
      "iterations:  248 Lines skipped:  248000 records collected:  1000  - latest recordID:  removeCollateral   0xbe00b9055dd99e5184284bdcb5a881dfed688471882e14fde56be6a2981b81e7  - actions DB length:  249000  - latest record from:  2023-01-23 13:27:11 22 days ago\n",
      "iterations:  249 Lines skipped:  249000 records collected:  1000  - latest recordID:  borrowAsset   0xb6f709749a171f8aa5cb2e4a9c2cc7a2e6b0090fb056219b697d65e007b7628c  - actions DB length:  250000  - latest record from:  2023-01-23 07:28:59 22 days ago\n",
      "iterations:  250 Lines skipped:  250000 records collected:  1000  - latest recordID:  addCollateral   0x3a1095973c1009ccc805da8e1b9c8a97514e545c0c2b14b16cfec4597e2e2c03  - actions DB length:  251000  - latest record from:  2023-01-23 07:05:23 22 days ago\n",
      "iterations:  251 Lines skipped:  251000 records collected:  1000  - latest recordID:  removeCollateral   0x63d3ea521fd69a86fd286175f94623ed06bd8e07177238484bb7eb0bd15e244c  - actions DB length:  252000  - latest record from:  2023-01-23 01:30:11 22 days ago\n",
      "iterations:  252 Lines skipped:  252000 records collected:  1000  - latest recordID:  repayAsset   0x4ef0b001904ebddd48a9e91fb794e8ccc8f3b0de2073b7fbf19f11b2694fcd68  - actions DB length:  253000  - latest record from:  2023-01-23 01:29:23 22 days ago\n",
      "iterations:  253 Lines skipped:  253000 records collected:  1000  - latest recordID:  removeCollateral   0x0c0c39257e85d91800c8b470a0f257949cb9e61c4e6ea3bb28703c1d6588d5db  - actions DB length:  254000  - latest record from:  2023-01-22 22:29:35 22 days ago\n",
      "iterations:  254 Lines skipped:  254000 records collected:  1000  - latest recordID:  repayAsset   0x76fdce57728e9d26a6439858f5f97b72d8dc18a882a02df3f6f3d1f578fd2a4d  - actions DB length:  255000  - latest record from:  2023-01-22 22:27:59 22 days ago\n",
      "iterations:  255 Lines skipped:  255000 records collected:  1000  - latest recordID:  repayAsset   0x9f9ba2939a4c6ffc3d1c0d6652260426f188f3ee03b31d66402f0a51d5ef3533  - actions DB length:  256000  - latest record from:  2023-01-22 22:26:47 22 days ago\n",
      "iterations:  256 Lines skipped:  256000 records collected:  1000  - latest recordID:  borrowAsset   0xd5bc93f88cff048b09c458e13192a234306368aa8a0b7236ee90d42a853c4017  - actions DB length:  257000  - latest record from:  2023-01-22 11:04:59 23 days ago\n",
      "iterations:  257 Lines skipped:  257000 records collected:  1000  - latest recordID:  addCollateral   0xb160341648a752965d24c32f7696a3e6b33c07f31c838f372933df9bba9cf5e0  - actions DB length:  258000  - latest record from:  2023-01-22 02:44:35 23 days ago\n",
      "iterations:  258 Lines skipped:  258000 records collected:  1000  - latest recordID:  borrowAsset   0xf6cc58234aa05881fe3a0aa5cea059535dc5993af8e078776465dd78a402d18b  - actions DB length:  259000  - latest record from:  2023-01-22 02:41:47 23 days ago\n",
      "iterations:  259 Lines skipped:  259000 records collected:  1000  - latest recordID:  addCollateral   0xafd0637b931041ae219c3873b71b71572cbf8f1885a46d93171fe916d90b6b3c  - actions DB length:  260000  - latest record from:  2023-01-22 02:40:11 23 days ago\n",
      "iterations:  260 Lines skipped:  260000 records collected:  1000  - latest recordID:  borrowAsset   0xff674f10275b0bfcee60bd69c9f8010e610f84cb03f54a1d20a9a038416bcc08  - actions DB length:  261000  - latest record from:  2023-01-22 02:33:35 23 days ago\n",
      "iterations:  261 Lines skipped:  261000 records collected:  1000  - latest recordID:  removeCollateral   0x6392701438de8d556e14ab394f4b371834ec1917d7032f626781f0d2fd26f7bc  - actions DB length:  262000  - latest record from:  2023-01-21 14:19:35 24 days ago\n",
      "iterations:  262 Lines skipped:  262000 records collected:  1000  - latest recordID:  addCollateral   0xebfa828bb0607a35d36bbe169ca050f2979389f3f32a05bfe26b9934ef907900  - actions DB length:  263000  - latest record from:  2023-01-21 13:18:11 24 days ago\n",
      "iterations:  263 Lines skipped:  263000 records collected:  1000  - latest recordID:  removeAsset   0x29c86fe1f682b3f721c5343a3809a62e6e3b256e4e4421c95932a321e89a3802  - actions DB length:  264000  - latest record from:  2023-01-21 11:15:59 24 days ago\n",
      "iterations:  264 Lines skipped:  264000 records collected:  1000  - latest recordID:  borrowAsset   0x77a5c92f2068e1c54264885579540a0cdf73c8afb5ca671ff9311fbb1e37fc5a  - actions DB length:  265000  - latest record from:  2023-01-21 10:19:23 24 days ago\n",
      "iterations:  265 Lines skipped:  265000 records collected:  1000  - latest recordID:  borrowAsset   0xbaffcedf02b0fc9788ce3953a4e66cf3898200a0328667f564e2574296d8aeaa  - actions DB length:  266000  - latest record from:  2023-01-21 05:08:47 24 days ago\n",
      "iterations:  266 Lines skipped:  266000 records collected:  1000  - latest recordID:  removeCollateral   0xe7edc1ecd1320c549f4c7453155da43bcf3a4f2268241f019df9df87dee617a9  - actions DB length:  267000  - latest record from:  2023-01-21 02:45:35 24 days ago\n",
      "iterations:  267 Lines skipped:  267000 records collected:  1000  - latest recordID:  repayAsset   0xf90fea66de466328d613712a7d8daa814c2290492cbc5c93b36ab716b5945943  - actions DB length:  268000  - latest record from:  2023-01-21 02:42:47 24 days ago\n",
      "iterations:  268 Lines skipped:  268000 records collected:  1000  - latest recordID:  borrowAsset   0xfcf6f8fa9df9ec782e44058a361be102714f0aa7fe5eb24bc44711408eb6fcc4+1  - actions DB length:  269000  - latest record from:  2023-01-20 22:52:11 24 days ago\n",
      "iterations:  269 Lines skipped:  269000 records collected:  1000  - latest recordID:  addCollateral   0xfcf6f8fa9df9ec782e44058a361be102714f0aa7fe5eb24bc44711408eb6fcc4  - actions DB length:  270000  - latest record from:  2023-01-20 22:52:11 24 days ago\n",
      "iterations:  270 Lines skipped:  270000 records collected:  1000  - latest recordID:  addAsset   0x16a6f47e49ede8b2dda4b02cc899f29565324da0a0688921440aaf2b35ce73e3+1  - actions DB length:  271000  - latest record from:  2023-01-20 18:41:35 24 days ago\n",
      "iterations:  271 Lines skipped:  271000 records collected:  1000  - latest recordID:  removeAsset   0x16a6f47e49ede8b2dda4b02cc899f29565324da0a0688921440aaf2b35ce73e3  - actions DB length:  272000  - latest record from:  2023-01-20 18:41:35 24 days ago\n",
      "iterations:  272 Lines skipped:  272000 records collected:  1000  - latest recordID:  addAsset   0xfeb54394d817e03ccd318a836eb104027541f9e950772a227f4b7911c4b23e30+1  - actions DB length:  273000  - latest record from:  2023-01-20 18:40:23 24 days ago\n",
      "iterations:  273 Lines skipped:  273000 records collected:  1000  - latest recordID:  removeAsset   0xfeb54394d817e03ccd318a836eb104027541f9e950772a227f4b7911c4b23e30  - actions DB length:  274000  - latest record from:  2023-01-20 18:40:23 24 days ago\n",
      "iterations:  274 Lines skipped:  274000 records collected:  1000  - latest recordID:  borrowAsset   0xcf61dda8b1c814853c758001601b489bf7275c89a543bf51f4e0ea398c50d838  - actions DB length:  275000  - latest record from:  2023-01-20 17:13:23 25 days ago\n",
      "iterations:  275 Lines skipped:  275000 records collected:  1000  - latest recordID:  repayAsset   0xa7f581354071e5d4065bbe0c81eaa0650f1dd66cedffd048106933fd94383cf3  - actions DB length:  276000  - latest record from:  2023-01-20 17:04:59 25 days ago\n",
      "iterations:  276 Lines skipped:  276000 records collected:  1000  - latest recordID:  borrowAsset   0x12814e23d06d14925d564c84e3b10cb0eba032907bb4c94c903719e4cd0f8172  - actions DB length:  277000  - latest record from:  2023-01-20 15:42:35 25 days ago\n",
      "iterations:  277 Lines skipped:  277000 records collected:  1000  - latest recordID:  removeAsset   0x1b2d5fb492314e28758706dab22db744634c862f4e395fbec7e15ade2f9d3ffc  - actions DB length:  278000  - latest record from:  2023-01-20 06:25:23 25 days ago\n",
      "iterations:  278 Lines skipped:  278000 records collected:  1000  - latest recordID:  repayAsset   0xbae58b11bf18476ba9ee45bb6888bf026af5414b9c4ab0871b53ae04085e3958  - actions DB length:  279000  - latest record from:  2023-01-19 23:35:35 25 days ago\n",
      "iterations:  279 Lines skipped:  279000 records collected:  1000  - latest recordID:  repayAsset   0x56658b51462c13ccafc5968f8f4764a2ec62eeb76abf3fb425eaaaff0c2cc9a3  - actions DB length:  280000  - latest record from:  2023-01-19 20:14:35 25 days ago\n",
      "iterations:  280 Lines skipped:  280000 records collected:  1000  - latest recordID:  borrowAsset   0x8bef55b3495f6ebde0fb7bf110ef9dacd6c148687ebf7cfd5bf7af358bf432cd+1  - actions DB length:  281000  - latest record from:  2023-01-19 10:24:23 26 days ago\n",
      "iterations:  281 Lines skipped:  281000 records collected:  1000  - latest recordID:  addCollateral   0x8bef55b3495f6ebde0fb7bf110ef9dacd6c148687ebf7cfd5bf7af358bf432cd  - actions DB length:  282000  - latest record from:  2023-01-19 10:24:23 26 days ago\n",
      "iterations:  282 Lines skipped:  282000 records collected:  1000  - latest recordID:  removeAsset   0x15c1834d11c5b004f11d6224547e5d63ab4ae8f09e1318b3e3db723f1841f041  - actions DB length:  283000  - latest record from:  2023-01-19 03:26:47 26 days ago\n",
      "iterations:  283 Lines skipped:  283000 records collected:  1000  - latest recordID:  addAsset   0xb9ba221c036591d51f1dc4463576ed6cccadbceb130ae63c786d20147d2ec136  - actions DB length:  284000  - latest record from:  2023-01-18 19:21:47 26 days ago\n",
      "iterations:  284 Lines skipped:  284000 records collected:  1000  - latest recordID:  borrowAsset   0xb8b71e06c5af60c05f45e456c385f10e1a435fa53512ae0c4fe1f5ed9bb9abfc+1  - actions DB length:  285000  - latest record from:  2023-01-18 14:30:59 27 days ago\n",
      "iterations:  285 Lines skipped:  285000 records collected:  1000  - latest recordID:  addCollateral   0xb8b71e06c5af60c05f45e456c385f10e1a435fa53512ae0c4fe1f5ed9bb9abfc  - actions DB length:  286000  - latest record from:  2023-01-18 14:30:59 27 days ago\n",
      "iterations:  286 Lines skipped:  286000 records collected:  1000  - latest recordID:  borrowAsset   0x9c29ada5aa3e38fe871b1ce8521cda91fe9fe263623bf94b18d1134ec46c19f1  - actions DB length:  287000  - latest record from:  2023-01-18 12:24:11 27 days ago\n",
      "iterations:  287 Lines skipped:  287000 records collected:  1000  - latest recordID:  borrowAsset   0xbe905db775ba4f975d9904ef380d329a098499e62b4f868022a16eaa1f7c579f+1  - actions DB length:  288000  - latest record from:  2023-01-18 10:25:47 27 days ago\n",
      "iterations:  288 Lines skipped:  288000 records collected:  1000  - latest recordID:  addCollateral   0xbe905db775ba4f975d9904ef380d329a098499e62b4f868022a16eaa1f7c579f  - actions DB length:  289000  - latest record from:  2023-01-18 10:25:47 27 days ago\n",
      "iterations:  289 Lines skipped:  289000 records collected:  1000  - latest recordID:  borrowAsset   0x177e04577b8e91124fb854181bbeedcefc660331a79424b30fc3db76b26e1f45  - actions DB length:  290000  - latest record from:  2023-01-18 10:12:35 27 days ago\n",
      "iterations:  290 Lines skipped:  290000 records collected:  1000  - latest recordID:  borrowAsset   0xf64b0aac80c97e30e560d040b237eec4b2272db02739bb157aca938dd9436fe6+1  - actions DB length:  291000  - latest record from:  2023-01-18 09:02:59 27 days ago\n",
      "iterations:  291 Lines skipped:  291000 records collected:  1000  - latest recordID:  addCollateral   0xf64b0aac80c97e30e560d040b237eec4b2272db02739bb157aca938dd9436fe6  - actions DB length:  292000  - latest record from:  2023-01-18 09:02:59 27 days ago\n",
      "iterations:  292 Lines skipped:  292000 records collected:  1000  - latest recordID:  removeCollateral   0x147ad8ff181623a8569f07f84ac4538d3f85aa74761b0353b5313ba1edbbf7d9  - actions DB length:  293000  - latest record from:  2023-01-18 09:00:11 27 days ago\n",
      "iterations:  293 Lines skipped:  293000 records collected:  1000  - latest recordID:  borrowAsset   0x5deab7fd4212373a76d85426b658612b5c97523100e43fb074bfe86ef3d114b8+1  - actions DB length:  294000  - latest record from:  2023-01-18 08:52:35 27 days ago\n",
      "iterations:  294 Lines skipped:  294000 records collected:  1000  - latest recordID:  addCollateral   0x5deab7fd4212373a76d85426b658612b5c97523100e43fb074bfe86ef3d114b8  - actions DB length:  295000  - latest record from:  2023-01-18 08:52:35 27 days ago\n",
      "iterations:  295 Lines skipped:  295000 records collected:  1000  - latest recordID:  removeCollateral   0xf455df944c8999921f3e31cd40e2ccb6f62f36210e990333303f39feefbf96b6  - actions DB length:  296000  - latest record from:  2023-01-18 08:17:47 27 days ago\n",
      "iterations:  296 Lines skipped:  296000 records collected:  1000  - latest recordID:  borrowAsset   0x40b4c7123b3dfa9a0a09ed60776eaf4c288442424a9f384dfafe14c8de464f47  - actions DB length:  297000  - latest record from:  2023-01-18 06:29:59 27 days ago\n",
      "iterations:  297 Lines skipped:  297000 records collected:  1000  - latest recordID:  borrowAsset   0xe840b1a83017535bd711d3f8311924c9568a0cb21abb7f2fafe54f321594cb9f+1  - actions DB length:  298000  - latest record from:  2023-01-17 18:22:11 27 days ago\n",
      "iterations:  298 Lines skipped:  298000 records collected:  1000  - latest recordID:  addCollateral   0xe840b1a83017535bd711d3f8311924c9568a0cb21abb7f2fafe54f321594cb9f  - actions DB length:  299000  - latest record from:  2023-01-17 18:22:11 27 days ago\n",
      "iterations:  299 Lines skipped:  299000 records collected:  1000  - latest recordID:  borrowAsset   0x6b7edfe0a07d8e657d79c56472a8cd294bd0e0ef44a7455bce157e8dc9004bd4  - actions DB length:  300000  - latest record from:  2023-01-17 18:18:35 27 days ago\n",
      "iterations:  300 Lines skipped:  300000 records collected:  1000  - latest recordID:  removeCollateral   0x460f9aee08e09f7e7245f43c1e3c8068079c6b9d435cc4ea43b945018d1ecea1  - actions DB length:  301000  - latest record from:  2023-01-17 10:59:47 28 days ago\n",
      "iterations:  301 Lines skipped:  301000 records collected:  1000  - latest recordID:  repayAsset   0x062fd7448a63b11811c4ca6ccefec9d8362624119ee2df983015309eae243292  - actions DB length:  302000  - latest record from:  2023-01-17 10:47:11 28 days ago\n",
      "iterations:  302 Lines skipped:  302000 records collected:  1000  - latest recordID:  addAsset   0xd2a8e22bc8ba3338ce7698d34cb9266ac171a07c5a1195e0b8a30fe248f14404  - actions DB length:  303000  - latest record from:  2023-01-17 09:57:59 28 days ago\n",
      "iterations:  303 Lines skipped:  303000 records collected:  1000  - latest recordID:  borrowAsset   0xc7a3898a122851678d184b57c22f151fb4d8d4b100f5e421dc968146bb95130a  - actions DB length:  304000  - latest record from:  2023-01-17 09:37:59 28 days ago\n",
      "iterations:  304 Lines skipped:  304000 records collected:  1000  - latest recordID:  borrowAsset   0xdbedab458bf1d2b0c761f2da175d97ed3b9499b3cb872f70b6f14eb6fd592d5f+1  - actions DB length:  305000  - latest record from:  2023-01-17 08:57:11 28 days ago\n",
      "iterations:  305 Lines skipped:  305000 records collected:  1000  - latest recordID:  addCollateral   0xdbedab458bf1d2b0c761f2da175d97ed3b9499b3cb872f70b6f14eb6fd592d5f  - actions DB length:  306000  - latest record from:  2023-01-17 08:57:11 28 days ago\n",
      "iterations:  306 Lines skipped:  306000 records collected:  1000  - latest recordID:  borrowAsset   0x9ff8aa22b74ac28ed29a3bd002ad7956406568cd5b27723a19c321631196ca95  - actions DB length:  307000  - latest record from:  2023-01-17 08:30:35 28 days ago\n",
      "iterations:  307 Lines skipped:  307000 records collected:  1000  - latest recordID:  borrowAsset   0x5c353b317c683c82d31bc4c362071e6928c33c9474d6d3a7068e835158e0f951+1  - actions DB length:  308000  - latest record from:  2023-01-17 08:29:59 28 days ago\n",
      "iterations:  308 Lines skipped:  308000 records collected:  1000  - latest recordID:  addCollateral   0x5c353b317c683c82d31bc4c362071e6928c33c9474d6d3a7068e835158e0f951  - actions DB length:  309000  - latest record from:  2023-01-17 08:29:59 28 days ago\n",
      "iterations:  309 Lines skipped:  309000 records collected:  1000  - latest recordID:  borrowAsset   0x52edeb1d2b4db7613f32f03d2f9c80dc3003ba28cb89799a382037b75a5fe3d8  - actions DB length:  310000  - latest record from:  2023-01-17 06:45:23 28 days ago\n",
      "iterations:  310 Lines skipped:  310000 records collected:  1000  - latest recordID:  removeCollateral   0xf94bf957660189cbf8d7b8254bccdeff35e6721ed9665c1ae08b7f209e7b2d9e  - actions DB length:  311000  - latest record from:  2023-01-17 06:17:59 28 days ago\n",
      "iterations:  311 Lines skipped:  311000 records collected:  1000  - latest recordID:  repayAsset   0xff64404ae5f010cafe4dc225866f4a143887d8a4913f87028990f031a7874ae9  - actions DB length:  312000  - latest record from:  2023-01-17 06:14:35 28 days ago\n",
      "iterations:  312 Lines skipped:  312000 records collected:  1000  - latest recordID:  borrowAsset   0xf5e6f03a957b20bcddb16b37b72e4f535932b8c50517defbf4defc6a9d0e68de+1  - actions DB length:  313000  - latest record from:  2023-01-17 05:56:23 28 days ago\n",
      "iterations:  313 Lines skipped:  313000 records collected:  1000  - latest recordID:  addCollateral   0xf5e6f03a957b20bcddb16b37b72e4f535932b8c50517defbf4defc6a9d0e68de  - actions DB length:  314000  - latest record from:  2023-01-17 05:56:23 28 days ago\n",
      "iterations:  314 Lines skipped:  314000 records collected:  1000  - latest recordID:  addAsset   0x8c8fea0f0c30f2e208f878eaef67e93d678606fcb149c5643c984508c43666db  - actions DB length:  315000  - latest record from:  2023-01-17 05:43:11 28 days ago\n",
      "iterations:  315 Lines skipped:  315000 records collected:  1000  - latest recordID:  borrowAsset   0x2e0270b9a66c3418c22627e1c7de4e9e901517e297d4571cbe591bd00703cd4c  - actions DB length:  316000  - latest record from:  2023-01-17 05:25:11 28 days ago\n",
      "iterations:  316 Lines skipped:  316000 records collected:  1000  - latest recordID:  addAsset   0x12b8bc58f62a5627fc6171f4bae24d127172a5610f310b5110d923ff49436a07  - actions DB length:  317000  - latest record from:  2023-01-16 20:44:11 28 days ago\n",
      "iterations:  317 Lines skipped:  317000 records collected:  1000  - latest recordID:  borrowAsset   0xeb8dea4c2dcc1f9a4bf14020ecd813d5f9e3123fb0419eefaa9929c1809d0e29  - actions DB length:  318000  - latest record from:  2023-01-16 18:55:23 28 days ago\n",
      "iterations:  318 Lines skipped:  318000 records collected:  1000  - latest recordID:  borrowAsset   0xbc0973c9735faee148da1ce4e23af88146f32ce35071cc6dad1b1a2d79c380f5  - actions DB length:  319000  - latest record from:  2023-01-16 13:17:47 29 days ago\n",
      "iterations:  319 Lines skipped:  319000 records collected:  1000  - latest recordID:  borrowAsset   0xd14c45bcd7f7a533e9fa2a63ef767997212348e43d413790214895072d71712f  - actions DB length:  320000  - latest record from:  2023-01-16 12:01:23 29 days ago\n",
      "iterations:  320 Lines skipped:  320000 records collected:  1000  - latest recordID:  addAsset   0x00961e045ad314f9475941e06590b19cc6360f9c34cd431a342356366989ee7f  - actions DB length:  321000  - latest record from:  2023-01-16 04:43:11 29 days ago\n",
      "iterations:  321 Lines skipped:  321000 records collected:  1000  - latest recordID:  addAsset   0x1c24c59cc163dbb3d3bfb1cf7a0e6ae73e18bad8fcc42485ebe0f9da5ba240f1  - actions DB length:  322000  - latest record from:  2023-01-15 22:33:11 29 days ago\n",
      "iterations:  322 Lines skipped:  322000 records collected:  1000  - latest recordID:  removeAsset   0x561000bc54afd449b08b7ffb510fedd703f93b2c7183b20fe84ef8a266e7c3e1  - actions DB length:  323000  - latest record from:  2023-01-15 17:49:59 30 days ago\n",
      "iterations:  323 Lines skipped:  323000 records collected:  1000  - latest recordID:  borrowAsset   0x83bcb813eb93d595d6b61c2dd4d8b2104fd2c844b5bc2d85dbafaf99946d5290  - actions DB length:  324000  - latest record from:  2023-01-15 17:19:23 30 days ago\n",
      "iterations:  324 Lines skipped:  324000 records collected:  1000  - latest recordID:  addAsset   0x5bdd4426fdf44ac05696e94981a792cd7ad4f4f1d629e9493ee70c3d786a4638  - actions DB length:  325000  - latest record from:  2023-01-15 16:54:35 30 days ago\n",
      "iterations:  325 Lines skipped:  325000 records collected:  1000  - latest recordID:  addAsset   0xdefbe93580f28c4eed1e7c210dbe0d9a6f5a53b8400a9c2db0001f9e2d88f76f  - actions DB length:  326000  - latest record from:  2023-01-15 16:45:59 30 days ago\n",
      "iterations:  326 Lines skipped:  326000 records collected:  1000  - latest recordID:  addAsset   0x4a034be1ece9e09ba3d64839202ddef1a6a82ff02cdc66591d7498138684215e  - actions DB length:  327000  - latest record from:  2023-01-15 16:42:23 30 days ago\n",
      "iterations:  327 Lines skipped:  327000 records collected:  1000  - latest recordID:  borrowAsset   0x7b3474db5b4b172607d32acf5e55b571b3781335c90276cc31cfe8eb596dc7a7+1  - actions DB length:  328000  - latest record from:  2023-01-15 07:39:35 30 days ago\n",
      "iterations:  328 Lines skipped:  328000 records collected:  1000  - latest recordID:  addCollateral   0x7b3474db5b4b172607d32acf5e55b571b3781335c90276cc31cfe8eb596dc7a7  - actions DB length:  329000  - latest record from:  2023-01-15 07:39:35 30 days ago\n",
      "iterations:  329 Lines skipped:  329000 records collected:  1000  - latest recordID:  addAsset   0x41f37664fef4746b7e5d579037274ed87ae87650b41f3e691e72151792c961b8  - actions DB length:  330000  - latest record from:  2023-01-15 05:38:23 30 days ago\n",
      "iterations:  330 Lines skipped:  330000 records collected:  1000  - latest recordID:  borrowAsset   0xede5fbfc1804d165821247fae886c6c2a8736f3052eb6ff861490e67eccb63dc+1  - actions DB length:  331000  - latest record from:  2023-01-15 05:16:23 30 days ago\n",
      "iterations:  331 Lines skipped:  331000 records collected:  1000  - latest recordID:  addCollateral   0xede5fbfc1804d165821247fae886c6c2a8736f3052eb6ff861490e67eccb63dc  - actions DB length:  332000  - latest record from:  2023-01-15 05:16:23 30 days ago\n",
      "iterations:  332 Lines skipped:  332000 records collected:  1000  - latest recordID:  borrowAsset   0xd213964a240a91c8b6f14a499e11e4fae61bb2ba9f6fb658e20f2b8b3d225bdd  - actions DB length:  333000  - latest record from:  2023-01-15 05:12:35 30 days ago\n",
      "iterations:  333 Lines skipped:  333000 records collected:  1000  - latest recordID:  addAsset   0xd4a5c1f8215e5a585446c1ca1cdb962af00e1f2bac3ca7df06560e80d7099969  - actions DB length:  334000  - latest record from:  2023-01-14 22:37:59 30 days ago\n",
      "iterations:  334 Lines skipped:  334000 records collected:  1000  - latest recordID:  addAsset   0x35d48451c285884485e41841bc43023844d859bb4d75a127168abae3d1e9f3a5  - actions DB length:  335000  - latest record from:  2023-01-14 21:49:47 30 days ago\n",
      "iterations:  335 Lines skipped:  335000 records collected:  1000  - latest recordID:  borrowAsset   0xa76006719842d138ac2035f7eb8eb406192bbc1c3f048e27cb7680708587177c+1  - actions DB length:  336000  - latest record from:  2023-01-14 18:27:23 30 days ago\n",
      "iterations:  336 Lines skipped:  336000 records collected:  1000  - latest recordID:  addCollateral   0xa76006719842d138ac2035f7eb8eb406192bbc1c3f048e27cb7680708587177c  - actions DB length:  337000  - latest record from:  2023-01-14 18:27:23 30 days ago\n",
      "iterations:  337 Lines skipped:  337000 records collected:  1000  - latest recordID:  borrowAsset   0x1a2e3b330fb4870effb0dda22c440dd6bf9448d5ae9af7fd69b58a3fb636dea9  - actions DB length:  338000  - latest record from:  2023-01-14 18:19:11 30 days ago\n",
      "iterations:  338 Lines skipped:  338000 records collected:  1000  - latest recordID:  addAsset   0x01b07b7f6863ff9e1ceed72d70b3fc030a7ad7aac1cc0613e111cbf5a4c9e16a  - actions DB length:  339000  - latest record from:  2023-01-14 10:32:47 31 days ago\n",
      "iterations:  339 Lines skipped:  339000 records collected:  1000  - latest recordID:  repayAsset   0xfa63338732c74507f8839f8673048a70564f7eeabaa69c5b5f13c6d6bf6303de  - actions DB length:  340000  - latest record from:  2023-01-14 05:04:47 31 days ago\n",
      "iterations:  340 Lines skipped:  340000 records collected:  1000  - latest recordID:  repayAsset   0xf79730c4f44f676b24f163414ead22ac5a6feb6beb980d0ad217b0b964186cd7  - actions DB length:  341000  - latest record from:  2023-01-14 05:01:11 31 days ago\n",
      "iterations:  341 Lines skipped:  341000 records collected:  1000  - latest recordID:  addAsset   0xc8f1ea628eca352412df8b3f16617b30c40f342007a3c63655207dcb5c6c1061  - actions DB length:  342000  - latest record from:  2023-01-14 03:41:59 31 days ago\n",
      "iterations:  342 Lines skipped:  342000 records collected:  1000  - latest recordID:  removeAsset   0x2bf7b6779d36f8465d5d9d3b851e86830528e02a0b5d9d4c72d51f03c802f788  - actions DB length:  343000  - latest record from:  2023-01-14 03:12:59 31 days ago\n",
      "iterations:  343 Lines skipped:  343000 records collected:  1000  - latest recordID:  removeCollateral   0x823204d420c08720ee1bc3c56494f97d5f2f09b49455ad5eaf00f59950ac4786  - actions DB length:  344000  - latest record from:  2023-01-13 18:44:59 31 days ago\n",
      "iterations:  344 Lines skipped:  344000 records collected:  1000  - latest recordID:  repayAsset   0x7e8d694e8b27de65c306c477f4e2eeb6dcbd0d765c43ded5c63eea149cdc4b27  - actions DB length:  345000  - latest record from:  2023-01-13 18:42:47 31 days ago\n",
      "iterations:  345 Lines skipped:  345000 records collected:  1000  - latest recordID:  removeCollateral   0x2540482229b7d37030f7792bafe9be1d5be0a2487e56df492d5073f2c86c5a47  - actions DB length:  346000  - latest record from:  2023-01-13 18:39:47 31 days ago\n",
      "iterations:  346 Lines skipped:  346000 records collected:  1000  - latest recordID:  removeCollateral   0xe6d47e03c9c822f5bc5c84021c892857da04cb69766f3823eb094aa2a939e434  - actions DB length:  347000  - latest record from:  2023-01-13 18:24:11 31 days ago\n",
      "iterations:  347 Lines skipped:  347000 records collected:  1000  - latest recordID:  borrowAsset   0x4af8d770b2ac766ffd7b0620e70f37f04c4047f6a3aae2a0b0c1c6d9ddee4b21  - actions DB length:  348000  - latest record from:  2023-01-13 17:14:23 32 days ago\n",
      "iterations:  348 Lines skipped:  348000 records collected:  1000  - latest recordID:  repayAsset   0x3ca2c4e00ea1ecf02215a2e3e6a68cde1e77ac7405892d031abacc205d4ed687  - actions DB length:  349000  - latest record from:  2023-01-13 16:57:59 32 days ago\n",
      "iterations:  349 Lines skipped:  349000 records collected:  1000  - latest recordID:  removeCollateral   0xaf7b46e77ff4f1b9b2dcec7addef0c77decda67e69eceac9f5f844188151f1f4  - actions DB length:  350000  - latest record from:  2023-01-13 14:27:35 32 days ago\n",
      "iterations:  350 Lines skipped:  350000 records collected:  1000  - latest recordID:  repayAsset   0xbc2b19884bf689493cd56b786b36cee4859014e51ffccbad2fb52a6010acc86d  - actions DB length:  351000  - latest record from:  2023-01-13 14:25:47 32 days ago\n",
      "iterations:  351 Lines skipped:  351000 records collected:  1000  - latest recordID:  borrowAsset   0x68a79acb8d9079b5ff612ff61549ce17e7ddb9123d2a5f1691d0431a05b4dafb+1  - actions DB length:  352000  - latest record from:  2023-01-13 07:16:11 32 days ago\n",
      "iterations:  352 Lines skipped:  352000 records collected:  1000  - latest recordID:  addCollateral   0x68a79acb8d9079b5ff612ff61549ce17e7ddb9123d2a5f1691d0431a05b4dafb  - actions DB length:  353000  - latest record from:  2023-01-13 07:16:11 32 days ago\n",
      "iterations:  353 Lines skipped:  353000 records collected:  1000  - latest recordID:  borrowAsset   0x1a7b29d41cd34d86cd795b4247d20e6a880c40ae70aaed26b47a7f55e03e23d5  - actions DB length:  354000  - latest record from:  2023-01-13 07:11:47 32 days ago\n",
      "iterations:  354 Lines skipped:  354000 records collected:  1000  - latest recordID:  borrowAsset   0xe757a5d4cc93e610e91506c8215f465e894f3c1c2594219e3e97a38dc482d0ec  - actions DB length:  355000  - latest record from:  2023-01-13 03:51:23 32 days ago\n",
      "iterations:  355 Lines skipped:  355000 records collected:  1000  - latest recordID:  removeAsset   0x5b3a0a3f42dba464620f6a8b2e6d09e18e099da202f5280d41d854a74ddfb926  - actions DB length:  356000  - latest record from:  2023-01-12 13:59:47 33 days ago\n",
      "iterations:  356 Lines skipped:  356000 records collected:  1000  - latest recordID:  addCollateral   0x0a2a05a1b073a1dcbce900f1c49e64fc29ce35dc8dfdd75ea0820c981d53fbba  - actions DB length:  357000  - latest record from:  2023-01-12 05:06:47 33 days ago\n",
      "iterations:  357 Lines skipped:  357000 records collected:  1000  - latest recordID:  removeCollateral   0x53bafd9b89740e23b8c6d603849a6f6e5cd11f36e0e6d56af99e19f4e254ed39  - actions DB length:  358000  - latest record from:  2023-01-12 04:59:35 33 days ago\n",
      "iterations:  358 Lines skipped:  358000 records collected:  1000  - latest recordID:  repayAsset   0x81d778d4301c73a4ec949b91e4badeec867c344c2777f25e7e76d861d0fa461c  - actions DB length:  359000  - latest record from:  2023-01-12 04:58:23 33 days ago\n",
      "iterations:  359 Lines skipped:  359000 records collected:  1000  - latest recordID:  repayAsset   0xf8f13055ad994c19a486d915a5b4d255063d356bb3b58b1f74fe32534ea673d9  - actions DB length:  360000  - latest record from:  2023-01-12 04:57:23 33 days ago\n",
      "iterations:  360 Lines skipped:  360000 records collected:  1000  - latest recordID:  borrowAsset   0x3bbbd2a1046ee68bda724337f47c6e552f15e01e22483b6be8fdd24ebc917000+1  - actions DB length:  361000  - latest record from:  2023-01-11 17:47:35 34 days ago\n",
      "iterations:  361 Lines skipped:  361000 records collected:  1000  - latest recordID:  addCollateral   0x3bbbd2a1046ee68bda724337f47c6e552f15e01e22483b6be8fdd24ebc917000  - actions DB length:  362000  - latest record from:  2023-01-11 17:47:35 34 days ago\n",
      "iterations:  362 Lines skipped:  362000 records collected:  1000  - latest recordID:  borrowAsset   0xe5b9f10576301dec6a887f1523117588e41be6fd6a048e54317474ef115e36b0  - actions DB length:  363000  - latest record from:  2023-01-11 17:42:47 34 days ago\n",
      "iterations:  363 Lines skipped:  363000 records collected:  1000  - latest recordID:  removeCollateral   0xc26d1cfbded58dd66e82b541452cf27ef1899591d7a9f535255d718d4e2b9d5a  - actions DB length:  364000  - latest record from:  2023-01-11 16:43:47 34 days ago\n",
      "iterations:  364 Lines skipped:  364000 records collected:  1000  - latest recordID:  borrowAsset   0xb556436843408b3b90d66ef24be1dad4e93be4f84b65c814753ba8331681bcbc+1  - actions DB length:  365000  - latest record from:  2023-01-11 16:09:35 34 days ago\n",
      "iterations:  365 Lines skipped:  365000 records collected:  1000  - latest recordID:  addCollateral   0xb556436843408b3b90d66ef24be1dad4e93be4f84b65c814753ba8331681bcbc  - actions DB length:  366000  - latest record from:  2023-01-11 16:09:35 34 days ago\n",
      "iterations:  366 Lines skipped:  366000 records collected:  1000  - latest recordID:  borrowAsset   0xa570950082942b24fd1dd6a6b72c463e297d3bb766224037417bb9d149bbb7b2  - actions DB length:  367000  - latest record from:  2023-01-11 16:04:23 34 days ago\n",
      "iterations:  367 Lines skipped:  367000 records collected:  1000  - latest recordID:  repayAsset   0xbaa4f9d5e93b3ad897a3b62f5e79598e7df8436ba5f6d3e624e32428417b92f7  - actions DB length:  368000  - latest record from:  2023-01-11 15:49:11 34 days ago\n",
      "iterations:  368 Lines skipped:  368000 records collected:  1000  - latest recordID:  borrowAsset   0x63fce6869c22d16241e5204088f05b97bcce1f79aa52863cb3077b866e007436+1  - actions DB length:  369000  - latest record from:  2023-01-11 15:19:23 34 days ago\n",
      "iterations:  369 Lines skipped:  369000 records collected:  1000  - latest recordID:  addCollateral   0x63fce6869c22d16241e5204088f05b97bcce1f79aa52863cb3077b866e007436  - actions DB length:  370000  - latest record from:  2023-01-11 15:19:23 34 days ago\n",
      "iterations:  370 Lines skipped:  370000 records collected:  1000  - latest recordID:  borrowAsset   0x1fbc50ee601d5781fc9d877d48c5e4a81ca2b4ddbbace4d3af016b56b6c6f3b0  - actions DB length:  371000  - latest record from:  2023-01-11 15:15:11 34 days ago\n",
      "iterations:  371 Lines skipped:  371000 records collected:  1000  - latest recordID:  addAsset   0xcc2b330c7f92b7a9a5746bc5f87d914eb07dd22b3431a240f5d4ac84c91f0834  - actions DB length:  372000  - latest record from:  2023-01-11 13:26:11 34 days ago\n",
      "iterations:  372 Lines skipped:  372000 records collected:  1000  - latest recordID:  addAsset   0x68801213fb67e480e15ecab109073dab45051e064d80c03c7457364bc68cd2f2  - actions DB length:  373000  - latest record from:  2023-01-11 12:15:11 34 days ago\n",
      "iterations:  373 Lines skipped:  373000 records collected:  1000  - latest recordID:  borrowAsset   0x06806270acee99df1ef398d1c7e82340e1451c9bb50fc595ca6fe3bf582f1545+1  - actions DB length:  374000  - latest record from:  2023-01-11 11:03:23 34 days ago\n",
      "iterations:  374 Lines skipped:  374000 records collected:  1000  - latest recordID:  addCollateral   0x06806270acee99df1ef398d1c7e82340e1451c9bb50fc595ca6fe3bf582f1545  - actions DB length:  375000  - latest record from:  2023-01-11 11:03:23 34 days ago\n",
      "iterations:  375 Lines skipped:  375000 records collected:  1000  - latest recordID:  borrowAsset   0x3bcc4cbf4c0eab3c7c434727d6262e8270bdb95f5605afb663598cb69f3e9df8+1  - actions DB length:  376000  - latest record from:  2023-01-11 09:02:59 34 days ago\n",
      "iterations:  376 Lines skipped:  376000 records collected:  1000  - latest recordID:  addCollateral   0x3bcc4cbf4c0eab3c7c434727d6262e8270bdb95f5605afb663598cb69f3e9df8  - actions DB length:  377000  - latest record from:  2023-01-11 09:02:59 34 days ago\n",
      "iterations:  377 Lines skipped:  377000 records collected:  1000  - latest recordID:  borrowAsset   0x18727900202f40d7652ee5d7f0e87559c2aa889f68e4173e8af971ba6fe58c79  - actions DB length:  378000  - latest record from:  2023-01-11 09:00:11 34 days ago\n",
      "iterations:  378 Lines skipped:  378000 records collected:  1000  - latest recordID:  borrowAsset   0x1f3ccf4cbb1c559d80431a543aee4c8ddab8a474164db9018be7ad931afda41e+1  - actions DB length:  379000  - latest record from:  2023-01-11 08:50:11 34 days ago\n",
      "iterations:  379 Lines skipped:  379000 records collected:  1000  - latest recordID:  addCollateral   0x1f3ccf4cbb1c559d80431a543aee4c8ddab8a474164db9018be7ad931afda41e  - actions DB length:  380000  - latest record from:  2023-01-11 08:50:11 34 days ago\n",
      "iterations:  380 Lines skipped:  380000 records collected:  1000  - latest recordID:  borrowAsset   0xc529182a887a577db64badc92b57d5fecbef6d881ed6f9a23c10123ff01eb794+1  - actions DB length:  381000  - latest record from:  2023-01-11 08:45:35 34 days ago\n",
      "iterations:  381 Lines skipped:  381000 records collected:  1000  - latest recordID:  addCollateral   0xc529182a887a577db64badc92b57d5fecbef6d881ed6f9a23c10123ff01eb794  - actions DB length:  382000  - latest record from:  2023-01-11 08:45:35 34 days ago\n",
      "iterations:  382 Lines skipped:  382000 records collected:  1000  - latest recordID:  borrowAsset   0x03f1760d6ea18ff77d7404d4cde8f803e5dfe7156bf81aa40633438fc75bf2de+1  - actions DB length:  383000  - latest record from:  2023-01-11 08:42:11 34 days ago\n",
      "iterations:  383 Lines skipped:  383000 records collected:  1000  - latest recordID:  addCollateral   0x03f1760d6ea18ff77d7404d4cde8f803e5dfe7156bf81aa40633438fc75bf2de  - actions DB length:  384000  - latest record from:  2023-01-11 08:42:11 34 days ago\n",
      "iterations:  384 Lines skipped:  384000 records collected:  1000  - latest recordID:  borrowAsset   0xea44044af1061d77deb9a2e6fcee73d8a04d5351b1c5c7290e6264e862379402+1  - actions DB length:  385000  - latest record from:  2023-01-11 08:29:11 34 days ago\n",
      "iterations:  385 Lines skipped:  385000 records collected:  1000  - latest recordID:  addCollateral   0xea44044af1061d77deb9a2e6fcee73d8a04d5351b1c5c7290e6264e862379402  - actions DB length:  386000  - latest record from:  2023-01-11 08:29:11 34 days ago\n",
      "iterations:  386 Lines skipped:  386000 records collected:  1000  - latest recordID:  borrowAsset   0x2c595332ade79d1c52e7cde8b1ab3505407f1c6e8125705f2f786aa597d70a79+1  - actions DB length:  387000  - latest record from:  2023-01-11 08:18:35 34 days ago\n",
      "iterations:  387 Lines skipped:  387000 records collected:  1000  - latest recordID:  addCollateral   0x2c595332ade79d1c52e7cde8b1ab3505407f1c6e8125705f2f786aa597d70a79  - actions DB length:  388000  - latest record from:  2023-01-11 08:18:35 34 days ago\n",
      "iterations:  388 Lines skipped:  388000 records collected:  1000  - latest recordID:  borrowAsset   0x9b829cf41599e36f2874c1cb34a9461c75b04c11c3e7025c47495bfc361467f9  - actions DB length:  389000  - latest record from:  2023-01-11 08:04:59 34 days ago\n",
      "iterations:  389 Lines skipped:  389000 records collected:  1000  - latest recordID:  repayAsset   0x698b74854ae1a7ffc74296479b69147c0c37523f78f5ed98c5fbab13e98f5614  - actions DB length:  390000  - latest record from:  2023-01-11 04:51:47 34 days ago\n",
      "iterations:  390 Lines skipped:  390000 records collected:  1000  - latest recordID:  repayAsset   0x1aed7d2b9933007618654ea96fc0afaf7e3c189fb2c9287bef37f1562870599f  - actions DB length:  391000  - latest record from:  2023-01-10 20:25:23 34 days ago\n",
      "iterations:  391 Lines skipped:  391000 records collected:  1000  - latest recordID:  borrowAsset   0xaaf548c6f478c7824a79855f43417f8ec997e45b4194ef9f7a08bff713b5a329  - actions DB length:  392000  - latest record from:  2023-01-10 19:49:11 34 days ago\n",
      "iterations:  392 Lines skipped:  392000 records collected:  1000  - latest recordID:  repayAsset   0xe2690dac6449b50cd52a08e513917c9b57393c9d6217e99fa1972421c00efce9  - actions DB length:  393000  - latest record from:  2023-01-10 05:44:47 35 days ago\n",
      "iterations:  393 Lines skipped:  393000 records collected:  1000  - latest recordID:  repayAsset   0xbd040537b5acd14537a9566bacb6e09b3497a4712c6ffa066577d16fb82b0df3  - actions DB length:  394000  - latest record from:  2023-01-09 08:25:47 36 days ago\n",
      "iterations:  394 Lines skipped:  394000 records collected:  1000  - latest recordID:  removeAsset   0xbc6a8dfd8231cd01dfd472edcad4e534d2a5ba700fc67a26e29e06dd875fdfba  - actions DB length:  395000  - latest record from:  2023-01-09 07:15:35 36 days ago\n",
      "iterations:  395 Lines skipped:  395000 records collected:  1000  - latest recordID:  borrowAsset   0x00f47a10ca8e9ddebc8f6a6068f1ce3a92b26da9fb0c2dc2e864cd5745d01bf4  - actions DB length:  396000  - latest record from:  2023-01-09 07:10:47 36 days ago\n",
      "iterations:  396 Lines skipped:  396000 records collected:  1000  - latest recordID:  removeAsset   0xfc90df0d373de0ab7718f61984462fb503609c7aa36f017137986e540e1671b0  - actions DB length:  397000  - latest record from:  2023-01-08 21:24:47 36 days ago\n",
      "iterations:  397 Lines skipped:  397000 records collected:  1000  - latest recordID:  borrowAsset   0x7335e94e394cecccf6e7564b6f6c6a153f67b715fac2fe23420043db5e01b3a3+1  - actions DB length:  398000  - latest record from:  2023-01-08 18:43:23 36 days ago\n",
      "iterations:  398 Lines skipped:  398000 records collected:  1000  - latest recordID:  addCollateral   0x7335e94e394cecccf6e7564b6f6c6a153f67b715fac2fe23420043db5e01b3a3  - actions DB length:  399000  - latest record from:  2023-01-08 18:43:23 36 days ago\n",
      "iterations:  399 Lines skipped:  399000 records collected:  1000  - latest recordID:  borrowAsset   0xad663fb0b26d0ed66a30858c29994a1865e1eeab44e20c8b122bb138fc6175a5+1  - actions DB length:  400000  - latest record from:  2023-01-08 18:17:11 36 days ago\n",
      "iterations:  400 Lines skipped:  400000 records collected:  1000  - latest recordID:  addCollateral   0xad663fb0b26d0ed66a30858c29994a1865e1eeab44e20c8b122bb138fc6175a5  - actions DB length:  401000  - latest record from:  2023-01-08 18:17:11 36 days ago\n",
      "iterations:  401 Lines skipped:  401000 records collected:  1000  - latest recordID:  borrowAsset   0x112aa7130d51af6398997f3367f171ee873b53254f49c313469b27b893a60eb1+1  - actions DB length:  402000  - latest record from:  2023-01-08 18:13:35 36 days ago\n",
      "iterations:  402 Lines skipped:  402000 records collected:  1000  - latest recordID:  addCollateral   0x112aa7130d51af6398997f3367f171ee873b53254f49c313469b27b893a60eb1  - actions DB length:  403000  - latest record from:  2023-01-08 18:13:35 36 days ago\n",
      "iterations:  403 Lines skipped:  403000 records collected:  1000  - latest recordID:  borrowAsset   0x46e1b4c475ab54b95556c49aea86c91b2bb20e034ab62f29f8104856720a9db3+1  - actions DB length:  404000  - latest record from:  2023-01-08 18:10:23 36 days ago\n",
      "iterations:  404 Lines skipped:  404000 records collected:  1000  - latest recordID:  addCollateral   0x46e1b4c475ab54b95556c49aea86c91b2bb20e034ab62f29f8104856720a9db3  - actions DB length:  405000  - latest record from:  2023-01-08 18:10:23 36 days ago\n",
      "iterations:  405 Lines skipped:  405000 records collected:  1000  - latest recordID:  removeAsset   0xe48d37260880fb7fe7493b84af0cfa05d33c8c3e7a71c15b4ab0d65621799b65  - actions DB length:  406000  - latest record from:  2023-01-08 17:24:23 37 days ago\n",
      "iterations:  406 Lines skipped:  406000 records collected:  1000  - latest recordID:  borrowAsset   0x10a0981509a50cea879aa69213685127613fd378ab4e21200c9aff69a6a54cde+1  - actions DB length:  407000  - latest record from:  2023-01-08 17:14:47 37 days ago\n",
      "iterations:  407 Lines skipped:  407000 records collected:  1000  - latest recordID:  addCollateral   0x10a0981509a50cea879aa69213685127613fd378ab4e21200c9aff69a6a54cde  - actions DB length:  408000  - latest record from:  2023-01-08 17:14:47 37 days ago\n",
      "iterations:  408 Lines skipped:  408000 records collected:  1000  - latest recordID:  borrowAsset   0xf5f33626970eeb6831f72a4452c46d49e396a516041bc3601d7cba3b4c7f2002  - actions DB length:  409000  - latest record from:  2023-01-08 17:09:47 37 days ago\n",
      "iterations:  409 Lines skipped:  409000 records collected:  1000  - latest recordID:  addAsset   0xd731643f0ff1a778aa9a71ed4e02885707f6614a1c31e6f07492c6a29488786c  - actions DB length:  410000  - latest record from:  2023-01-08 14:20:11 37 days ago\n",
      "iterations:  410 Lines skipped:  410000 records collected:  1000  - latest recordID:  addAsset   0xd3e0734264e9d3b926518486ca0d796b96c0415b0e1efbe67576df1080bc5dee  - actions DB length:  411000  - latest record from:  2023-01-08 14:14:35 37 days ago\n",
      "iterations:  411 Lines skipped:  411000 records collected:  1000  - latest recordID:  borrowAsset   0x9e2a34623e3ae58220877d0e95b651103a11a2a9f19440e4ff9f8e7724eb1812  - actions DB length:  412000  - latest record from:  2023-01-08 13:56:35 37 days ago\n",
      "iterations:  412 Lines skipped:  412000 records collected:  1000  - latest recordID:  removeAsset   0x3ce9d96ddb970226ad3347b0c44f6d6e5e83c8e7561f8061321e74be0770940f  - actions DB length:  413000  - latest record from:  2023-01-08 13:46:35 37 days ago\n",
      "iterations:  413 Lines skipped:  413000 records collected:  1000  - latest recordID:  repayAsset   0x13dbf25c0a53645cf0cf707d7aeecb149490b474567af246f2ba94d1ae4fc6f2  - actions DB length:  414000  - latest record from:  2023-01-08 11:59:35 37 days ago\n",
      "iterations:  414 Lines skipped:  414000 records collected:  1000  - latest recordID:  borrowAsset   0x6d2c76886d534204920ab2d1f3fe06765d874a1e7ef2fd04638fb9fc0c0d5e5c+1  - actions DB length:  415000  - latest record from:  2023-01-08 09:20:11 37 days ago\n",
      "iterations:  415 Lines skipped:  415000 records collected:  1000  - latest recordID:  addCollateral   0x6d2c76886d534204920ab2d1f3fe06765d874a1e7ef2fd04638fb9fc0c0d5e5c  - actions DB length:  416000  - latest record from:  2023-01-08 09:20:11 37 days ago\n",
      "iterations:  416 Lines skipped:  416000 records collected:  1000  - latest recordID:  borrowAsset   0x134a6fddfb5aff2cfa3545e86cf083bcd57b0142fb01ce75b7bfff78aff30c20  - actions DB length:  417000  - latest record from:  2023-01-07 17:18:11 38 days ago\n",
      "iterations:  417 Lines skipped:  417000 records collected:  1000  - latest recordID:  addCollateral   0x495b98a0dcb94ce91b44d7d86d454d6ae617ce427d355d1ecef24e4d322cbb6e  - actions DB length:  418000  - latest record from:  2023-01-07 17:16:11 38 days ago\n",
      "iterations:  418 Lines skipped:  418000 records collected:  1000  - latest recordID:  borrowAsset   0x382338f0e469c80756ba6f382506dc1e9aafab3f29093aa32228006e2c10796c  - actions DB length:  419000  - latest record from:  2023-01-07 16:34:47 38 days ago\n",
      "iterations:  419 Lines skipped:  419000 records collected:  1000  - latest recordID:  borrowAsset   0x0aa4074a73402ce256c0d7dcb715c87b97c5ba644d09e32a5b7c732cb9fd64b9  - actions DB length:  420000  - latest record from:  2023-01-07 14:07:23 38 days ago\n",
      "iterations:  420 Lines skipped:  420000 records collected:  1000  - latest recordID:  borrowAsset   0xac99c8c630a1443cbfb950b4dd628a2c33be38bbf41b1958f9a0bb75c4c20471  - actions DB length:  421000  - latest record from:  2023-01-06 20:20:47 38 days ago\n",
      "iterations:  421 Lines skipped:  421000 records collected:  1000  - latest recordID:  addCollateral   0x7ba250e56ad7a192df442f5196030627fb9296c66c3b3c70cd14215e2ccf0d22  - actions DB length:  422000  - latest record from:  2023-01-06 20:19:11 38 days ago\n",
      "iterations:  422 Lines skipped:  422000 records collected:  1000  - latest recordID:  removeCollateral   0xad7b18d6fcfc00d0209c9729744424e7045873654ed81572d8a0679076bff16c  - actions DB length:  423000  - latest record from:  2023-01-06 11:16:59 39 days ago\n",
      "iterations:  423 Lines skipped:  423000 records collected:  1000  - latest recordID:  repayAsset   0xba8c00ec1d3bd8e1a5031ebcd00f1966d099dc17de8434069cc3e9709f1bd8b3  - actions DB length:  424000  - latest record from:  2023-01-06 11:14:47 39 days ago\n",
      "iterations:  424 Lines skipped:  424000 records collected:  1000  - latest recordID:  repayAsset   0xc340504a0db784dc3e64806e8a4d8de66d4b2aa1c28c471f03d3fe926ccc1672  - actions DB length:  425000  - latest record from:  2023-01-06 11:12:35 39 days ago\n",
      "iterations:  425 Lines skipped:  425000 records collected:  1000  - latest recordID:  borrowAsset   0x728e4e2c821118e6140a01115db8ccb3f4281405f16c644bf18ead8c444b8b1d+1  - actions DB length:  426000  - latest record from:  2023-01-06 07:31:47 39 days ago\n",
      "iterations:  426 Lines skipped:  426000 records collected:  1000  - latest recordID:  addCollateral   0x728e4e2c821118e6140a01115db8ccb3f4281405f16c644bf18ead8c444b8b1d  - actions DB length:  427000  - latest record from:  2023-01-06 07:31:47 39 days ago\n",
      "iterations:  427 Lines skipped:  427000 records collected:  1000  - latest recordID:  borrowAsset   0xf24e981647ca8c7d3bde1fd3f5a3224935c19ca906f024f0e70d368ee377920a  - actions DB length:  428000  - latest record from:  2023-01-06 07:28:23 39 days ago\n",
      "iterations:  428 Lines skipped:  428000 records collected:  1000  - latest recordID:  removeCollateral   0xb9e6940a9d51abc72a9375587f94126d3c0fd037d99736320e9de8ea34b769ee  - actions DB length:  429000  - latest record from:  2023-01-06 06:32:47 39 days ago\n",
      "iterations:  429 Lines skipped:  429000 records collected:  1000  - latest recordID:  repayAsset   0xb65426a8c1d06558804a27a2e0c1a65f81f0b68475cca007e3102f7a9685de82  - actions DB length:  430000  - latest record from:  2023-01-06 06:31:35 39 days ago\n",
      "iterations:  430 Lines skipped:  430000 records collected:  1000  - latest recordID:  borrowAsset   0xc68e5262eb7b74946a0768c7605d40fa89725490bef67dd527fc93c5baaa4051+1  - actions DB length:  431000  - latest record from:  2023-01-06 05:29:59 39 days ago\n",
      "iterations:  431 Lines skipped:  431000 records collected:  1000  - latest recordID:  addCollateral   0xc68e5262eb7b74946a0768c7605d40fa89725490bef67dd527fc93c5baaa4051  - actions DB length:  432000  - latest record from:  2023-01-06 05:29:59 39 days ago\n",
      "iterations:  432 Lines skipped:  432000 records collected:  1000  - latest recordID:  borrowAsset   0x4fce330b491b01da0725c385981fc95b647f545c1059ec954db47973b0a4d0ad  - actions DB length:  433000  - latest record from:  2023-01-06 05:27:35 39 days ago\n",
      "iterations:  433 Lines skipped:  433000 records collected:  1000  - latest recordID:  repayAsset   0xcd67d8e322952de56d2057f78d3afccfe2067fb5667df75129fa965dffa70a8c  - actions DB length:  434000  - latest record from:  2023-01-06 04:13:47 39 days ago\n",
      "iterations:  434 Lines skipped:  434000 records collected:  1000  - latest recordID:  removeCollateral   0x3abd995ffec73bac95921d3279aa129988df86ddfbe6ce2031f10fa89e6bda74  - actions DB length:  435000  - latest record from:  2023-01-06 04:10:23 39 days ago\n",
      "iterations:  435 Lines skipped:  435000 records collected:  1000  - latest recordID:  borrowAsset   0xa9b96f0a30f7c95d2328da28a3c7551b3fcbdca4a79f22212211a3b5d59d273f+1  - actions DB length:  436000  - latest record from:  2023-01-05 10:21:23 40 days ago\n",
      "iterations:  436 Lines skipped:  436000 records collected:  1000  - latest recordID:  addCollateral   0xa9b96f0a30f7c95d2328da28a3c7551b3fcbdca4a79f22212211a3b5d59d273f  - actions DB length:  437000  - latest record from:  2023-01-05 10:21:23 40 days ago\n",
      "iterations:  437 Lines skipped:  437000 records collected:  1000  - latest recordID:  borrowAsset   0x2b7733fed0df21cb210f01004ebb717721c0a621bd2ec827d3c8b3822425be1a+1  - actions DB length:  438000  - latest record from:  2023-01-05 03:17:11 40 days ago\n",
      "iterations:  438 Lines skipped:  438000 records collected:  1000  - latest recordID:  addCollateral   0x2b7733fed0df21cb210f01004ebb717721c0a621bd2ec827d3c8b3822425be1a  - actions DB length:  439000  - latest record from:  2023-01-05 03:17:11 40 days ago\n",
      "iterations:  439 Lines skipped:  439000 records collected:  1000  - latest recordID:  borrowAsset   0x31b3f583706c4702da2c7fa492fde86f05efd8e1eabc89eb0ca82c72c22ae235+1  - actions DB length:  440000  - latest record from:  2023-01-04 10:54:35 41 days ago\n",
      "iterations:  440 Lines skipped:  440000 records collected:  1000  - latest recordID:  addCollateral   0x31b3f583706c4702da2c7fa492fde86f05efd8e1eabc89eb0ca82c72c22ae235  - actions DB length:  441000  - latest record from:  2023-01-04 10:54:35 41 days ago\n",
      "iterations:  441 Lines skipped:  441000 records collected:  1000  - latest recordID:  borrowAsset   0x12da456da63a0aeeb512e91e360904073b6602ac8bbcb0ba31254babee36c672+1  - actions DB length:  442000  - latest record from:  2023-01-04 10:16:23 41 days ago\n",
      "iterations:  442 Lines skipped:  442000 records collected:  1000  - latest recordID:  addCollateral   0x12da456da63a0aeeb512e91e360904073b6602ac8bbcb0ba31254babee36c672  - actions DB length:  443000  - latest record from:  2023-01-04 10:16:23 41 days ago\n",
      "iterations:  443 Lines skipped:  443000 records collected:  1000  - latest recordID:  repayAsset   0xab85205e283529cdd4872b10e34bc9114fc323b4ff056dbadf3b9627e5be6bb7  - actions DB length:  444000  - latest record from:  2023-01-04 10:01:11 41 days ago\n",
      "iterations:  444 Lines skipped:  444000 records collected:  1000  - latest recordID:  borrowAsset   0x63cf9d10b4f61a4f6e3825ccf2e0acfbdcb9e9e08df15448302142ae4d02cf7e  - actions DB length:  445000  - latest record from:  2023-01-04 09:58:59 41 days ago\n",
      "iterations:  445 Lines skipped:  445000 records collected:  1000  - latest recordID:  removeAsset   0xb5c24e2d20088b47ecc50be2e61634596a5fd349f1a0648e026bdf7ce2bc41ee  - actions DB length:  446000  - latest record from:  2023-01-04 07:58:47 41 days ago\n",
      "iterations:  446 Lines skipped:  446000 records collected:  1000  - latest recordID:  removeAsset   0xaaddf12a01198a9bc300982984b6e4221956b074daae261a83a305a2539d9b08  - actions DB length:  447000  - latest record from:  2023-01-04 07:48:23 41 days ago\n",
      "iterations:  447 Lines skipped:  447000 records collected:  1000  - latest recordID:  removeCollateral   0x8236ba0d241c9b6831df3b41fd4dd4e18257eef9c23bdf3047fa8f0286cbef75  - actions DB length:  448000  - latest record from:  2023-01-03 17:56:35 41 days ago\n",
      "iterations:  448 Lines skipped:  448000 records collected:  1000  - latest recordID:  repayAsset   0xe5f52fb3db7446bbc40ec3c60b004edbddab1490919cb8551a56cd0d80a04c16  - actions DB length:  449000  - latest record from:  2023-01-03 17:54:11 41 days ago\n",
      "iterations:  449 Lines skipped:  449000 records collected:  1000  - latest recordID:  borrowAsset   0xeaefb301bba191a19f3f7fb22b7e8e5eaef8a01da7e5f2b5386aece10a71ec87  - actions DB length:  450000  - latest record from:  2023-01-03 16:03:11 42 days ago\n",
      "iterations:  450 Lines skipped:  450000 records collected:  1000  - latest recordID:  removeAsset   0x8284074d5c0b7d17bf16932930aa3abaa15ffb8bd9f34fb01c76eaad2c447691  - actions DB length:  451000  - latest record from:  2023-01-03 10:15:59 42 days ago\n",
      "iterations:  451 Lines skipped:  451000 records collected:  1000  - latest recordID:  removeCollateral   0x0fbbe236f0f2a7934f3238078d0b43c9bdecca6a947bea40ddfef8da8ad9d885  - actions DB length:  452000  - latest record from:  2023-01-03 04:43:47 42 days ago\n",
      "iterations:  452 Lines skipped:  452000 records collected:  1000  - latest recordID:  repayAsset   0x7ec5f7e6ef8e6be3697878cd0b7db2ded8fc26016b8b39dfaaae3b6704093231  - actions DB length:  453000  - latest record from:  2023-01-03 04:43:11 42 days ago\n",
      "iterations:  453 Lines skipped:  453000 records collected:  1000  - latest recordID:  removeCollateral   0x1496a89c475b9b34a2b51956c56d2ae9840150b59bdc13e375ca7a3938154c62  - actions DB length:  454000  - latest record from:  2023-01-03 04:41:11 42 days ago\n",
      "iterations:  454 Lines skipped:  454000 records collected:  1000  - latest recordID:  repayAsset   0x4f1f9ad495145c1798f2316ee1ca12bc0292b28f584299acf8b458d8375e7fd8  - actions DB length:  455000  - latest record from:  2023-01-03 04:40:35 42 days ago\n",
      "iterations:  455 Lines skipped:  455000 records collected:  1000  - latest recordID:  removeAsset   0xd98439feea51e7db3d2bb18ef9ecee846790a1b1593d6ca3a697f9186c195b95  - actions DB length:  456000  - latest record from:  2023-01-02 23:06:47 42 days ago\n",
      "iterations:  456 Lines skipped:  456000 records collected:  1000  - latest recordID:  removeAsset   0x180acf96d26f1f6afeeb65ff72361b24950051e6f0ea35be0a1f310a0bd5525c  - actions DB length:  457000  - latest record from:  2023-01-02 15:47:59 43 days ago\n",
      "iterations:  457 Lines skipped:  457000 records collected:  1000  - latest recordID:  borrowAsset   0x363d92fbaabb44ac6a64bf4b3eb4efb3d15bc5bbf8e12b284e785618164a3816  - actions DB length:  458000  - latest record from:  2023-01-02 15:05:47 43 days ago\n",
      "iterations:  458 Lines skipped:  458000 records collected:  1000  - latest recordID:  borrowAsset   0xf90384d5a4e125725583707a5304ff750b92b426bd114a95ccde7eea1688326c+1  - actions DB length:  459000  - latest record from:  2023-01-02 14:23:11 43 days ago\n",
      "iterations:  459 Lines skipped:  459000 records collected:  1000  - latest recordID:  addCollateral   0xf90384d5a4e125725583707a5304ff750b92b426bd114a95ccde7eea1688326c  - actions DB length:  460000  - latest record from:  2023-01-02 14:23:11 43 days ago\n",
      "iterations:  460 Lines skipped:  460000 records collected:  1000  - latest recordID:  borrowAsset   0x0491aa8b92702e0523b29461df381d4614c14b6f75bf8097de326e384e2cbea0  - actions DB length:  461000  - latest record from:  2023-01-02 14:20:23 43 days ago\n",
      "iterations:  461 Lines skipped:  461000 records collected:  1000  - latest recordID:  removeAsset   0x5219e21ca2feecf9b366d8047916c0b5e3f5548ef5d2a4ba73f7c0fce443687f  - actions DB length:  462000  - latest record from:  2023-01-02 14:17:11 43 days ago\n",
      "iterations:  462 Lines skipped:  462000 records collected:  1000  - latest recordID:  addAsset   0x618c1b10c424e6f00cf6d134c9fdac459eb9c94173f9137003410ca34231c716  - actions DB length:  463000  - latest record from:  2023-01-02 12:26:47 43 days ago\n",
      "iterations:  463 Lines skipped:  463000 records collected:  1000  - latest recordID:  borrowAsset   0x50df922a3295ec05c0f4004bd59c72506172473c8f828dc6fa0582d68bb656c9+1  - actions DB length:  464000  - latest record from:  2023-01-02 11:28:47 43 days ago\n",
      "iterations:  464 Lines skipped:  464000 records collected:  1000  - latest recordID:  addCollateral   0x50df922a3295ec05c0f4004bd59c72506172473c8f828dc6fa0582d68bb656c9  - actions DB length:  465000  - latest record from:  2023-01-02 11:28:47 43 days ago\n",
      "iterations:  465 Lines skipped:  465000 records collected:  1000  - latest recordID:  addAsset   0x27f9cc86d1f61f9598a091f2caa54b86abcfe74a43c87be87a1f89979dc00291  - actions DB length:  466000  - latest record from:  2023-01-02 01:56:23 43 days ago\n",
      "iterations:  466 Lines skipped:  466000 records collected:  1000  - latest recordID:  removeAsset   0x2ca618d64e7ba4016fdfde4b4f85db6167e2983cb7d80585ae69e4255b698c5a  - actions DB length:  467000  - latest record from:  2023-01-01 07:21:59 44 days ago\n",
      "iterations:  467 Lines skipped:  467000 records collected:  1000  - latest recordID:  removeAsset   0xaec57fde64471876742ebf77ab5f7d80fb17bc7ab7549c2fb4623f2741a8713b  - actions DB length:  468000  - latest record from:  2023-01-01 04:16:47 44 days ago\n",
      "iterations:  468 Lines skipped:  468000 records collected:  1000  - latest recordID:  removeAsset   0x018977f33babe5db0ee99cd9a7135a22e7f93108646fd192ce238183099567e3  - actions DB length:  469000  - latest record from:  2023-01-01 03:05:11 44 days ago\n",
      "iterations:  469 Lines skipped:  469000 records collected:  1000  - latest recordID:  borrowAsset   0x6fe2b2af310dfee16b6f2aef82d0ac4df4b54042fb7cf01f63732f5b99f52d1f+1  - actions DB length:  470000  - latest record from:  2022-12-31 17:26:35 45 days ago\n",
      "iterations:  470 Lines skipped:  470000 records collected:  1000  - latest recordID:  addCollateral   0x6fe2b2af310dfee16b6f2aef82d0ac4df4b54042fb7cf01f63732f5b99f52d1f  - actions DB length:  471000  - latest record from:  2022-12-31 17:26:35 45 days ago\n",
      "iterations:  471 Lines skipped:  471000 records collected:  1000  - latest recordID:  borrowAsset   0xa2b15c24e5ba958fb6453cc04e79b871dada7f2ea7d7e33d1a37d3bdd26a3794  - actions DB length:  472000  - latest record from:  2022-12-31 17:21:35 45 days ago\n",
      "iterations:  472 Lines skipped:  472000 records collected:  1000  - latest recordID:  removeCollateral   0xf3fea8b4ca84b5579566f5c0e117c0afbd5b9bf6a2c353ea3da1b122c7bb269a  - actions DB length:  473000  - latest record from:  2022-12-31 17:12:59 45 days ago\n",
      "iterations:  473 Lines skipped:  473000 records collected:  1000  - latest recordID:  repayAsset   0xd30c15913812359ce90b7b4e215ebd1ea6e7f7b0979382c671a4a5d7bfe72810  - actions DB length:  474000  - latest record from:  2022-12-31 17:12:23 45 days ago\n",
      "iterations:  474 Lines skipped:  474000 records collected:  1000  - latest recordID:  removeCollateral   0x35b574bbc91cef4132f3309f975588708828266f332cfc360b50a27091cf1ed8  - actions DB length:  475000  - latest record from:  2022-12-31 17:08:11 45 days ago\n",
      "iterations:  475 Lines skipped:  475000 records collected:  1000  - latest recordID:  repayAsset   0x8db7b09c8ce58cdec09aec48d2d36741974f178b23d65ae66490b3edbf84d6c8  - actions DB length:  476000  - latest record from:  2022-12-31 17:06:11 45 days ago\n",
      "iterations:  476 Lines skipped:  476000 records collected:  1000  - latest recordID:  removeCollateral   0xf7c150d1950f9e66b70a8bc68ec4af4c6b1bccc1820357503850c774cb709b67  - actions DB length:  477000  - latest record from:  2022-12-31 17:02:11 45 days ago\n",
      "iterations:  477 Lines skipped:  477000 records collected:  1000  - latest recordID:  repayAsset   0x07dc1ff2408bf671fe3452abe9c3221a2eba49789aa2a5ceefb6718b15238892  - actions DB length:  478000  - latest record from:  2022-12-31 17:00:35 45 days ago\n",
      "iterations:  478 Lines skipped:  478000 records collected:  1000  - latest recordID:  removeCollateral   0x9f998e86dee4557ea0f49af71abaa9c54c5ac2150ecd8c8c8b56c020273e9f05  - actions DB length:  479000  - latest record from:  2022-12-31 16:54:35 45 days ago\n",
      "iterations:  479 Lines skipped:  479000 records collected:  1000  - latest recordID:  repayAsset   0xdbc4ab343d6fb5e1129794d627aeb7639ec52992350567ee9205e48404cf47fe  - actions DB length:  480000  - latest record from:  2022-12-31 16:53:59 45 days ago\n",
      "iterations:  480 Lines skipped:  480000 records collected:  1000  - latest recordID:  repayAsset   0x8060f32be111ff1503918d9f30982d18658aa38ea1afbac5a6d9892c2ab32153  - actions DB length:  481000  - latest record from:  2022-12-31 16:53:11 45 days ago\n",
      "iterations:  481 Lines skipped:  481000 records collected:  1000  - latest recordID:  removeCollateral   0x3e36c04eb4f339a55c5a7f9113a959761a6a3d6f07035c34dff4c3013db76096  - actions DB length:  482000  - latest record from:  2022-12-31 16:41:11 45 days ago\n",
      "iterations:  482 Lines skipped:  482000 records collected:  1000  - latest recordID:  borrowAsset   0x4a4bd7eb9f651028b3e4f3e6781509c59769a262e2a950d4a836bdbba4f249d2  - actions DB length:  483000  - latest record from:  2022-12-31 13:50:23 45 days ago\n",
      "iterations:  483 Lines skipped:  483000 records collected:  1000  - latest recordID:  borrowAsset   0x3830b14e66dc08efc27148c0ee0100278a44db82bd7663db141e3c96d99d0188  - actions DB length:  484000  - latest record from:  2022-12-31 13:48:47 45 days ago\n",
      "iterations:  484 Lines skipped:  484000 records collected:  1000  - latest recordID:  addAsset   0xdcae6442b08994156cb2689cf4aceb070506682670628f5cd27ffc2da66ec0ad  - actions DB length:  485000  - latest record from:  2022-12-31 11:25:11 45 days ago\n",
      "iterations:  485 Lines skipped:  485000 records collected:  1000  - latest recordID:  removeCollateral   0xbb960d72b1c0d5d7b5bce714c47cc5c145d367e03e39ce2d76c6c58f113391fc  - actions DB length:  486000  - latest record from:  2022-12-31 05:21:47 45 days ago\n",
      "iterations:  486 Lines skipped:  486000 records collected:  1000  - latest recordID:  addAsset   0x26a4f89f9f4d8ae352abaca55828080160c9c53055a39f1ba143b3b155f5fbee  - actions DB length:  487000  - latest record from:  2022-12-31 05:19:59 45 days ago\n",
      "iterations:  487 Lines skipped:  487000 records collected:  1000  - latest recordID:  borrowAsset   0xe20845b3fa88645c439a73ae7d4743ecbcd445e791337a08523a2f9fb35a6002  - actions DB length:  488000  - latest record from:  2022-12-31 04:02:59 45 days ago\n",
      "iterations:  488 Lines skipped:  488000 records collected:  1000  - latest recordID:  repayAsset   0x8518d6b41a73a7692d135270a2fae04667ecf687dcb69af1a6509a6a01e50665  - actions DB length:  489000  - latest record from:  2022-12-30 08:53:23 46 days ago\n",
      "Done. Total Records collected:  489000\n"
     ]
    }
   ],
   "source": [
    "actionListLength=0\n",
    "actionTicker = 0\n",
    "fraxUsersDb = pd.DataFrame()\n",
    "actionsDb = pd.DataFrame()\n",
    "actionListLength = 1000\n",
    "datediff = 0\n",
    "now=0\n",
    "daysAgo=0\n",
    "daysLimit = 45\n",
    "exit = False\n",
    "while exit==False:\n",
    "    #listLength=0\n",
    "    skipValue = (actionTicker)*(1000)\n",
    "    actionsQuery = frax.Query.actions(\n",
    "         orderBy='timestamp'\n",
    "        ,orderDirection='desc'\n",
    "        ,first=1000\n",
    "        ,skipValue = skipValue\n",
    "        #,where = [frax.Query.actions.token.id == '0x66bf36dba79d4606039f04b32946a260bcd3ff52']\n",
    "        ,where={ 'pair': '0x66bf36dba79d4606039f04b32946a260bcd3ff52' }\n",
    "        #,where = {'positions.pairid':'0x66bf36dba79d4606039f04b32946a260bcd3ff52'}\n",
    "    #{'users_positions_pair_id':'0x66bf36dba79d4606039f04b32946a260bcd3ff52'}\n",
    "\n",
    "    )\n",
    "    actions= sg.query_df([\n",
    "        actionsQuery.id\n",
    "        ,actionsQuery.type\n",
    "        ,actionsQuery.amount\n",
    "        ,actionsQuery.timestamp\n",
    "        ,actionsQuery.block\n",
    "        ,actionsQuery.token.name\n",
    "        ,actionsQuery.root.address\n",
    "        ]\n",
    "    )\n",
    "\n",
    "    actions.sort_values(by=['actions_timestamp'])\n",
    "\n",
    "    actionsDb=pd.concat([actionsDb, actions])\n",
    "    recordTimestamp1 = actionsDb.iat[actionTicker,3]\n",
    "    recordTimestamp = dt.datetime.fromtimestamp( recordTimestamp1 )\n",
    "    now = (int(dt.datetime.utcnow().timestamp()))\n",
    "    datediff=abs(int(now) - recordTimestamp1)\n",
    "    daysAgo = int(datediff/86400)\n",
    "    actionsDbLength = len(actionsDb)\n",
    "    actionListLength = len(actions)\n",
    "    recordID = actionsDb.iat[actionTicker,0]\n",
    "    action = actionsDb.iat[actionTicker,1]\n",
    "    print(\"iterations: \", actionTicker, \"Lines skipped: \",skipValue, \"records collected: \", actionListLength, \" - latest recordID: \",action, \" \", recordID , \" - actions DB length: \", actionsDbLength, \" - latest record from: \", recordTimestamp, daysAgo,\"days ago\")\n",
    "    #print(\"iterations: \", actionTicker, \"records collected: \", actionListLength, \" - userdb length: \", actionsDbLength)\n",
    "    if daysAgo>daysLimit: exit =True\n",
    "    if actionsDbLength<1000: exit =True\n",
    "    actionTicker = actionTicker+1\n",
    "print(\"Done. Total Records collected: \", actionsDbLength)"
   ],
   "metadata": {
    "collapsed": false
   }
  },
  {
   "cell_type": "code",
   "execution_count": 56,
   "outputs": [
    {
     "data": {
      "text/plain": "                                          actions_id   actions_type  \\\n0  0x3da9de5c721a6eabf8576551f3d8d1adc4da3f801a68...       addAsset   \n1  0x1dfd3172c36e389c77cfd3e1d4e0ae425056986b6977...    borrowAsset   \n2  0x1dfd3172c36e389c77cfd3e1d4e0ae425056986b6977...  addCollateral   \n3  0xca8f2b28fbb36eb227d137fdfab17dfb2e104d372fda...    borrowAsset   \n4  0xca8f2b28fbb36eb227d137fdfab17dfb2e104d372fda...  addCollateral   \n5  0xa0c66c33d6a7a399184bc00e1631cf37569b4e11f2d3...    removeAsset   \n6  0xa839343605a44ebbc9acc53d7fc4fb382524aaad915f...    removeAsset   \n7  0x023999891639c1c93db864ce955525a0804c6f5216d8...    borrowAsset   \n8  0xd27c863004571db8166a41942a3e565e1cb4ed6392a1...    borrowAsset   \n9  0x93bfdc153c70c47dc88df5b2c7a28fa129c178d3c269...  addCollateral   \n\n             actions_amount  actions_timestamp  actions_block  \\\n0  100000000000000000000000         1676386931       16627753   \n1   35000000000000000000000         1676383367       16627456   \n2      21214111587817855012         1676383367       16627456   \n3   35000000000000000000000         1676383031       16627428   \n4      20449883374896217620         1676383031       16627428   \n5   40108811202678701302162         1676381711       16627318   \n6  600021855824092811716711         1676378111       16627021   \n7   14000000000000000000000         1676325143       16622639   \n8   20000000000000000000000         1676314331       16621741   \n9        261775476655574434         1676313215       16621648   \n\n  actions_token_name                        actions_root_address  \\\n0               Frax  0xb1bd5762faf7d6f86f965a3ff324bd81bb746d00   \n1               Frax  0x6c01ec9622e50799d62ca076f2e2aa34dc840d5b   \n2     Governance OHM  0x6c01ec9622e50799d62ca076f2e2aa34dc840d5b   \n3               Frax  0x5c9d09716404556646b0b4567cb4621c18581f94   \n4     Governance OHM  0x5c9d09716404556646b0b4567cb4621c18581f94   \n5               Frax  0xff5dba627ccd55c61c55db9ec6490051f3fbce13   \n6               Frax  0xb1bd5762faf7d6f86f965a3ff324bd81bb746d00   \n7               Frax  0x1effd55a8646f7dc67c7578c20ce575cefeb1120   \n8               Frax  0xc0e0de939f26e71683452467942aff455ca153e3   \n9     Governance OHM  0x440c8ab91ba7c8763b3d9b3357dc1c0d13a148aa   \n\n             dateTime      amountUsd  \n0 2023-02-14 15:02:11  100000.000000  \n1 2023-02-14 14:02:47   35000.000000  \n2 2023-02-14 14:02:47      21.214112  \n3 2023-02-14 13:57:11   35000.000000  \n4 2023-02-14 13:57:11      20.449883  \n5 2023-02-14 13:35:11   40108.811203  \n6 2023-02-14 12:35:11  600021.855824  \n7 2023-02-13 21:52:23   14000.000000  \n8 2023-02-13 18:52:11   20000.000000  \n9 2023-02-13 18:33:35       0.261775  ",
      "text/html": "<div>\n<style scoped>\n    .dataframe tbody tr th:only-of-type {\n        vertical-align: middle;\n    }\n\n    .dataframe tbody tr th {\n        vertical-align: top;\n    }\n\n    .dataframe thead th {\n        text-align: right;\n    }\n</style>\n<table border=\"1\" class=\"dataframe\">\n  <thead>\n    <tr style=\"text-align: right;\">\n      <th></th>\n      <th>actions_id</th>\n      <th>actions_type</th>\n      <th>actions_amount</th>\n      <th>actions_timestamp</th>\n      <th>actions_block</th>\n      <th>actions_token_name</th>\n      <th>actions_root_address</th>\n      <th>dateTime</th>\n      <th>amountUsd</th>\n    </tr>\n  </thead>\n  <tbody>\n    <tr>\n      <th>0</th>\n      <td>0x3da9de5c721a6eabf8576551f3d8d1adc4da3f801a68...</td>\n      <td>addAsset</td>\n      <td>100000000000000000000000</td>\n      <td>1676386931</td>\n      <td>16627753</td>\n      <td>Frax</td>\n      <td>0xb1bd5762faf7d6f86f965a3ff324bd81bb746d00</td>\n      <td>2023-02-14 15:02:11</td>\n      <td>100000.000000</td>\n    </tr>\n    <tr>\n      <th>1</th>\n      <td>0x1dfd3172c36e389c77cfd3e1d4e0ae425056986b6977...</td>\n      <td>borrowAsset</td>\n      <td>35000000000000000000000</td>\n      <td>1676383367</td>\n      <td>16627456</td>\n      <td>Frax</td>\n      <td>0x6c01ec9622e50799d62ca076f2e2aa34dc840d5b</td>\n      <td>2023-02-14 14:02:47</td>\n      <td>35000.000000</td>\n    </tr>\n    <tr>\n      <th>2</th>\n      <td>0x1dfd3172c36e389c77cfd3e1d4e0ae425056986b6977...</td>\n      <td>addCollateral</td>\n      <td>21214111587817855012</td>\n      <td>1676383367</td>\n      <td>16627456</td>\n      <td>Governance OHM</td>\n      <td>0x6c01ec9622e50799d62ca076f2e2aa34dc840d5b</td>\n      <td>2023-02-14 14:02:47</td>\n      <td>21.214112</td>\n    </tr>\n    <tr>\n      <th>3</th>\n      <td>0xca8f2b28fbb36eb227d137fdfab17dfb2e104d372fda...</td>\n      <td>borrowAsset</td>\n      <td>35000000000000000000000</td>\n      <td>1676383031</td>\n      <td>16627428</td>\n      <td>Frax</td>\n      <td>0x5c9d09716404556646b0b4567cb4621c18581f94</td>\n      <td>2023-02-14 13:57:11</td>\n      <td>35000.000000</td>\n    </tr>\n    <tr>\n      <th>4</th>\n      <td>0xca8f2b28fbb36eb227d137fdfab17dfb2e104d372fda...</td>\n      <td>addCollateral</td>\n      <td>20449883374896217620</td>\n      <td>1676383031</td>\n      <td>16627428</td>\n      <td>Governance OHM</td>\n      <td>0x5c9d09716404556646b0b4567cb4621c18581f94</td>\n      <td>2023-02-14 13:57:11</td>\n      <td>20.449883</td>\n    </tr>\n    <tr>\n      <th>5</th>\n      <td>0xa0c66c33d6a7a399184bc00e1631cf37569b4e11f2d3...</td>\n      <td>removeAsset</td>\n      <td>40108811202678701302162</td>\n      <td>1676381711</td>\n      <td>16627318</td>\n      <td>Frax</td>\n      <td>0xff5dba627ccd55c61c55db9ec6490051f3fbce13</td>\n      <td>2023-02-14 13:35:11</td>\n      <td>40108.811203</td>\n    </tr>\n    <tr>\n      <th>6</th>\n      <td>0xa839343605a44ebbc9acc53d7fc4fb382524aaad915f...</td>\n      <td>removeAsset</td>\n      <td>600021855824092811716711</td>\n      <td>1676378111</td>\n      <td>16627021</td>\n      <td>Frax</td>\n      <td>0xb1bd5762faf7d6f86f965a3ff324bd81bb746d00</td>\n      <td>2023-02-14 12:35:11</td>\n      <td>600021.855824</td>\n    </tr>\n    <tr>\n      <th>7</th>\n      <td>0x023999891639c1c93db864ce955525a0804c6f5216d8...</td>\n      <td>borrowAsset</td>\n      <td>14000000000000000000000</td>\n      <td>1676325143</td>\n      <td>16622639</td>\n      <td>Frax</td>\n      <td>0x1effd55a8646f7dc67c7578c20ce575cefeb1120</td>\n      <td>2023-02-13 21:52:23</td>\n      <td>14000.000000</td>\n    </tr>\n    <tr>\n      <th>8</th>\n      <td>0xd27c863004571db8166a41942a3e565e1cb4ed6392a1...</td>\n      <td>borrowAsset</td>\n      <td>20000000000000000000000</td>\n      <td>1676314331</td>\n      <td>16621741</td>\n      <td>Frax</td>\n      <td>0xc0e0de939f26e71683452467942aff455ca153e3</td>\n      <td>2023-02-13 18:52:11</td>\n      <td>20000.000000</td>\n    </tr>\n    <tr>\n      <th>9</th>\n      <td>0x93bfdc153c70c47dc88df5b2c7a28fa129c178d3c269...</td>\n      <td>addCollateral</td>\n      <td>261775476655574434</td>\n      <td>1676313215</td>\n      <td>16621648</td>\n      <td>Governance OHM</td>\n      <td>0x440c8ab91ba7c8763b3d9b3357dc1c0d13a148aa</td>\n      <td>2023-02-13 18:33:35</td>\n      <td>0.261775</td>\n    </tr>\n  </tbody>\n</table>\n</div>"
     },
     "execution_count": 56,
     "metadata": {},
     "output_type": "execute_result"
    }
   ],
   "source": [
    "    fraxActionsDbTimed = db.query(\"select \"\n",
    "                   \"    * \"\n",
    "                        \" ,to_timestamp(actions_timestamp) dateTime \"\n",
    "                    \",(actions_amount::hugeint*1e-18) amountUsd \"\n",
    "                   \"From actionsDb \"\n",
    "                   #\"where lower(liquidityPools_name) like lower('%olympus%') \"\n",
    "                    #    \"or lower(pairs_token1_symbol) like lower('%OHM%')  \"\n",
    "                   #\" limit 100 \"\n",
    "                   ).df()\n",
    "fraxActionsDbTimed.head(10)"
   ],
   "metadata": {
    "collapsed": false
   }
  },
  {
   "cell_type": "code",
   "execution_count": 57,
   "outputs": [
    {
     "name": "stdout",
     "output_type": "stream",
     "text": [
      "file saved\n"
     ]
    }
   ],
   "source": [
    "fraxActionsDbTimedLength = len(fraxActionsDbTimed)\n",
    "path =file+'/frax_actions.csv'\n",
    "fraxActionsDbTimed.to_csv(path, index = False)\n",
    "\n",
    "path =file+'/frax_actions__piped.csv'\n",
    "fraxActionsDbTimed.to_csv(path, index = False, sep='|')\n",
    "print('file saved')"
   ],
   "metadata": {
    "collapsed": false
   }
  },
  {
   "cell_type": "code",
   "execution_count": 64,
   "outputs": [
    {
     "data": {
      "text/plain": "                         actions_root_address            dateTime  \\\n0  0x03da5c3b75503a1dda58e2bd23d4726b5ee8dd26 2022-12-28 02:04:23   \n1  0xb4fb31e7b1471a8e52dd1e962a281a732ead59c1 2022-12-08 17:58:59   \n2  0xbf23c4820def2ed7cab808bec348f7072035a289 2022-12-16 19:03:47   \n3  0xee95e4cf086fc80df7ae0f39dfc9ea53a3eaadcb 2023-01-18 14:29:59   \n4  0x2a363fccde360dea7b0df06ed5416f925ed62ef7 2022-12-23 21:38:35   \n5  0xb0399dac8f4d4100b49b2a7b3873481114229d18 2023-01-30 18:09:59   \n6  0x1effd55a8646f7dc67c7578c20ce575cefeb1120 2023-01-23 15:28:59   \n7  0x85b44a83bca937e844bdc290284ef6b11bc015ba 2022-12-04 16:30:11   \n8  0xb4fb31e7b1471a8e52dd1e962a281a732ead59c1 2022-12-09 18:31:11   \n9  0xb4fb31e7b1471a8e52dd1e962a281a732ead59c1 2022-12-07 22:36:59   \n\n       amountUsd actions_token_name  \n0  560968.505801               Frax  \n1  400000.000000               Frax  \n2  376035.401417               Frax  \n3  350000.000000               Frax  \n4  350000.000000               Frax  \n5  305000.000000               Frax  \n6  300000.000000               Frax  \n7  214099.334643               Frax  \n8  200000.000000               Frax  \n9  200000.000000               Frax  ",
      "text/html": "<div>\n<style scoped>\n    .dataframe tbody tr th:only-of-type {\n        vertical-align: middle;\n    }\n\n    .dataframe tbody tr th {\n        vertical-align: top;\n    }\n\n    .dataframe thead th {\n        text-align: right;\n    }\n</style>\n<table border=\"1\" class=\"dataframe\">\n  <thead>\n    <tr style=\"text-align: right;\">\n      <th></th>\n      <th>actions_root_address</th>\n      <th>dateTime</th>\n      <th>amountUsd</th>\n      <th>actions_token_name</th>\n    </tr>\n  </thead>\n  <tbody>\n    <tr>\n      <th>0</th>\n      <td>0x03da5c3b75503a1dda58e2bd23d4726b5ee8dd26</td>\n      <td>2022-12-28 02:04:23</td>\n      <td>560968.505801</td>\n      <td>Frax</td>\n    </tr>\n    <tr>\n      <th>1</th>\n      <td>0xb4fb31e7b1471a8e52dd1e962a281a732ead59c1</td>\n      <td>2022-12-08 17:58:59</td>\n      <td>400000.000000</td>\n      <td>Frax</td>\n    </tr>\n    <tr>\n      <th>2</th>\n      <td>0xbf23c4820def2ed7cab808bec348f7072035a289</td>\n      <td>2022-12-16 19:03:47</td>\n      <td>376035.401417</td>\n      <td>Frax</td>\n    </tr>\n    <tr>\n      <th>3</th>\n      <td>0xee95e4cf086fc80df7ae0f39dfc9ea53a3eaadcb</td>\n      <td>2023-01-18 14:29:59</td>\n      <td>350000.000000</td>\n      <td>Frax</td>\n    </tr>\n    <tr>\n      <th>4</th>\n      <td>0x2a363fccde360dea7b0df06ed5416f925ed62ef7</td>\n      <td>2022-12-23 21:38:35</td>\n      <td>350000.000000</td>\n      <td>Frax</td>\n    </tr>\n    <tr>\n      <th>5</th>\n      <td>0xb0399dac8f4d4100b49b2a7b3873481114229d18</td>\n      <td>2023-01-30 18:09:59</td>\n      <td>305000.000000</td>\n      <td>Frax</td>\n    </tr>\n    <tr>\n      <th>6</th>\n      <td>0x1effd55a8646f7dc67c7578c20ce575cefeb1120</td>\n      <td>2023-01-23 15:28:59</td>\n      <td>300000.000000</td>\n      <td>Frax</td>\n    </tr>\n    <tr>\n      <th>7</th>\n      <td>0x85b44a83bca937e844bdc290284ef6b11bc015ba</td>\n      <td>2022-12-04 16:30:11</td>\n      <td>214099.334643</td>\n      <td>Frax</td>\n    </tr>\n    <tr>\n      <th>8</th>\n      <td>0xb4fb31e7b1471a8e52dd1e962a281a732ead59c1</td>\n      <td>2022-12-09 18:31:11</td>\n      <td>200000.000000</td>\n      <td>Frax</td>\n    </tr>\n    <tr>\n      <th>9</th>\n      <td>0xb4fb31e7b1471a8e52dd1e962a281a732ead59c1</td>\n      <td>2022-12-07 22:36:59</td>\n      <td>200000.000000</td>\n      <td>Frax</td>\n    </tr>\n  </tbody>\n</table>\n</div>"
     },
     "execution_count": 64,
     "metadata": {},
     "output_type": "execute_result"
    }
   ],
   "source": [
    "fraxBorrowsDb = db.query(\"select distinct\"\n",
    "                   \"    actions_root_address \"\n",
    "                         \", dateTime \"\n",
    "                         \", amountUSD \"\n",
    "                         \", actions_token_name \"\n",
    "                       \"From fraxActionsDbTimed \"\n",
    "                       \"where actions_type= 'borrowAsset'\"\n",
    "                         \"order by 3 desc \"\n",
    "                   ).df()\n",
    "fraxBorrowsDb.head(10)"
   ],
   "metadata": {
    "collapsed": false
   }
  },
  {
   "cell_type": "markdown",
   "source": [
    "**********************************************************\n",
    "LET'S PLAY AND CRUNCH DATA - BORROWS\n"
   ],
   "metadata": {
    "collapsed": false
   }
  },
  {
   "cell_type": "code",
   "execution_count": 65,
   "outputs": [
    {
     "name": "stdout",
     "output_type": "stream",
     "text": [
      "file saved\n"
     ]
    }
   ],
   "source": [
    "fraxBorrowsDb.drop_duplicates\n",
    "\n",
    "fraxBorrowsDbLength = len(fraxBorrowsDb)\n",
    "path =file+'/frax_borrows.csv'\n",
    "fraxBorrowsDb.to_csv(path, index = False)\n",
    "\n",
    "path =file+'/frax_borrows_piped.csv'\n",
    "fraxBorrowsDb.to_csv(path, index = False, sep='|')\n",
    "print('file saved')"
   ],
   "metadata": {
    "collapsed": false
   }
  },
  {
   "cell_type": "code",
   "execution_count": 66,
   "outputs": [
    {
     "data": {
      "text/plain": "       calDay  amountUsdBorrowed  borrowers protocol\n0  2022-12-03       52108.786050          4     Frax\n1  2022-12-04      345329.334643          7     Frax\n2  2022-12-05      508933.348518          5     Frax\n3  2022-12-06        5000.000000          1     Frax\n4  2022-12-07      206250.000000          3     Frax\n..        ...                ...        ...      ...\n66 2023-02-10       25000.000000          1     Frax\n67 2023-02-11       47500.000000          2     Frax\n68 2023-02-12       26000.000000          2     Frax\n69 2023-02-13       54000.000000          2     Frax\n70 2023-02-14       70000.000000          2     Frax\n\n[71 rows x 4 columns]",
      "text/html": "<div>\n<style scoped>\n    .dataframe tbody tr th:only-of-type {\n        vertical-align: middle;\n    }\n\n    .dataframe tbody tr th {\n        vertical-align: top;\n    }\n\n    .dataframe thead th {\n        text-align: right;\n    }\n</style>\n<table border=\"1\" class=\"dataframe\">\n  <thead>\n    <tr style=\"text-align: right;\">\n      <th></th>\n      <th>calDay</th>\n      <th>amountUsdBorrowed</th>\n      <th>borrowers</th>\n      <th>protocol</th>\n    </tr>\n  </thead>\n  <tbody>\n    <tr>\n      <th>0</th>\n      <td>2022-12-03</td>\n      <td>52108.786050</td>\n      <td>4</td>\n      <td>Frax</td>\n    </tr>\n    <tr>\n      <th>1</th>\n      <td>2022-12-04</td>\n      <td>345329.334643</td>\n      <td>7</td>\n      <td>Frax</td>\n    </tr>\n    <tr>\n      <th>2</th>\n      <td>2022-12-05</td>\n      <td>508933.348518</td>\n      <td>5</td>\n      <td>Frax</td>\n    </tr>\n    <tr>\n      <th>3</th>\n      <td>2022-12-06</td>\n      <td>5000.000000</td>\n      <td>1</td>\n      <td>Frax</td>\n    </tr>\n    <tr>\n      <th>4</th>\n      <td>2022-12-07</td>\n      <td>206250.000000</td>\n      <td>3</td>\n      <td>Frax</td>\n    </tr>\n    <tr>\n      <th>...</th>\n      <td>...</td>\n      <td>...</td>\n      <td>...</td>\n      <td>...</td>\n    </tr>\n    <tr>\n      <th>66</th>\n      <td>2023-02-10</td>\n      <td>25000.000000</td>\n      <td>1</td>\n      <td>Frax</td>\n    </tr>\n    <tr>\n      <th>67</th>\n      <td>2023-02-11</td>\n      <td>47500.000000</td>\n      <td>2</td>\n      <td>Frax</td>\n    </tr>\n    <tr>\n      <th>68</th>\n      <td>2023-02-12</td>\n      <td>26000.000000</td>\n      <td>2</td>\n      <td>Frax</td>\n    </tr>\n    <tr>\n      <th>69</th>\n      <td>2023-02-13</td>\n      <td>54000.000000</td>\n      <td>2</td>\n      <td>Frax</td>\n    </tr>\n    <tr>\n      <th>70</th>\n      <td>2023-02-14</td>\n      <td>70000.000000</td>\n      <td>2</td>\n      <td>Frax</td>\n    </tr>\n  </tbody>\n</table>\n<p>71 rows × 4 columns</p>\n</div>"
     },
     "execution_count": 66,
     "metadata": {},
     "output_type": "execute_result"
    }
   ],
   "source": [
    "fraxBorrowedUSDDaily = db.query(\n",
    "                        \"select \"\n",
    "                            \"date_trunc('day',dateTime) calDay \"\n",
    "                            \",sum(amountUsd) amountUsdBorrowed \"\n",
    "                        \"   ,count(distinct actions_root_address) borrowers \"\n",
    "                       \"From fraxBorrowsDb \"\n",
    "                        \"Group by 1 \"\n",
    "                        \"order by 1\"\n",
    "                   ).df()\n",
    "fraxBorrowedUSDDaily['protocol'] = 'Frax'\n",
    "fraxBorrowedUSDDaily.head(100)"
   ],
   "metadata": {
    "collapsed": false
   }
  },
  {
   "cell_type": "markdown",
   "source": [
    "fraxCollateralDb = db.query(\"select \"\n",
    "                   \"    * \"\n",
    "                       \"From fraxActionsDbTimed \"\n",
    "                       \"where actions_type= 'addCollateral' \"\n",
    "                   ).df()\n",
    "\n",
    "fraxCollateralDb.head(10)"
   ],
   "metadata": {
    "collapsed": false
   }
  },
  {
   "cell_type": "code",
   "execution_count": 121,
   "outputs": [],
   "source": [
    "siloBorrowedUSD = db.query(\n",
    "                        \"select distinct \"\n",
    "                            \"date_trunc('day',dateTime) calDay \"\n",
    "                            \",transaction_amountUSD::hugeint transaction_amountUSD \"\n",
    "                        \"   ,transaction_account_id \"\n",
    "                       \"From borrowsDbTimed \"\n",
    "                   ).df()"
   ],
   "metadata": {
    "collapsed": false
   }
  },
  {
   "cell_type": "code",
   "execution_count": 122,
   "outputs": [
    {
     "data": {
      "text/plain": "       calDay  amountUsdBorrowed  borrowers protocol\n0  2023-02-09           187001.0          2     Silo\n1  2023-02-13            77443.0          2     Silo\n2  2023-02-07            87736.0          5     Silo\n3  2022-12-12            15941.0          2     Silo\n4  2023-01-28            10041.0          1     Silo\n5  2022-12-13             8041.0          1     Silo\n6  2023-02-01             5001.0          1     Silo\n7  2023-02-14             7841.0          3     Silo\n8  2022-12-17              498.0          1     Silo\n9  2022-11-23              661.0          2     Silo\n10 2023-02-08              397.0          1     Silo",
      "text/html": "<div>\n<style scoped>\n    .dataframe tbody tr th:only-of-type {\n        vertical-align: middle;\n    }\n\n    .dataframe tbody tr th {\n        vertical-align: top;\n    }\n\n    .dataframe thead th {\n        text-align: right;\n    }\n</style>\n<table border=\"1\" class=\"dataframe\">\n  <thead>\n    <tr style=\"text-align: right;\">\n      <th></th>\n      <th>calDay</th>\n      <th>amountUsdBorrowed</th>\n      <th>borrowers</th>\n      <th>protocol</th>\n    </tr>\n  </thead>\n  <tbody>\n    <tr>\n      <th>0</th>\n      <td>2023-02-09</td>\n      <td>187001.0</td>\n      <td>2</td>\n      <td>Silo</td>\n    </tr>\n    <tr>\n      <th>1</th>\n      <td>2023-02-13</td>\n      <td>77443.0</td>\n      <td>2</td>\n      <td>Silo</td>\n    </tr>\n    <tr>\n      <th>2</th>\n      <td>2023-02-07</td>\n      <td>87736.0</td>\n      <td>5</td>\n      <td>Silo</td>\n    </tr>\n    <tr>\n      <th>3</th>\n      <td>2022-12-12</td>\n      <td>15941.0</td>\n      <td>2</td>\n      <td>Silo</td>\n    </tr>\n    <tr>\n      <th>4</th>\n      <td>2023-01-28</td>\n      <td>10041.0</td>\n      <td>1</td>\n      <td>Silo</td>\n    </tr>\n    <tr>\n      <th>5</th>\n      <td>2022-12-13</td>\n      <td>8041.0</td>\n      <td>1</td>\n      <td>Silo</td>\n    </tr>\n    <tr>\n      <th>6</th>\n      <td>2023-02-01</td>\n      <td>5001.0</td>\n      <td>1</td>\n      <td>Silo</td>\n    </tr>\n    <tr>\n      <th>7</th>\n      <td>2023-02-14</td>\n      <td>7841.0</td>\n      <td>3</td>\n      <td>Silo</td>\n    </tr>\n    <tr>\n      <th>8</th>\n      <td>2022-12-17</td>\n      <td>498.0</td>\n      <td>1</td>\n      <td>Silo</td>\n    </tr>\n    <tr>\n      <th>9</th>\n      <td>2022-11-23</td>\n      <td>661.0</td>\n      <td>2</td>\n      <td>Silo</td>\n    </tr>\n    <tr>\n      <th>10</th>\n      <td>2023-02-08</td>\n      <td>397.0</td>\n      <td>1</td>\n      <td>Silo</td>\n    </tr>\n  </tbody>\n</table>\n</div>"
     },
     "execution_count": 122,
     "metadata": {},
     "output_type": "execute_result"
    }
   ],
   "source": [
    "siloBorrowedUSDDaily = db.query(\n",
    "                        \"select \"\n",
    "                            \"calDay \"\n",
    "                            \",sum(transaction_amountUSD::hugeint) amountUsdBorrowed \"\n",
    "                        \"   ,count(distinct transaction_account_id) borrowers \"\n",
    "                       \"From siloBorrowedUSD \"\n",
    "                        \"Group by 1 \"\n",
    "                   ).df()\n",
    "siloBorrowedUSDDaily['protocol'] = 'Silo'\n",
    "siloBorrowedUSDDaily.head(100)"
   ],
   "metadata": {
    "collapsed": false
   }
  },
  {
   "cell_type": "code",
   "execution_count": 130,
   "outputs": [],
   "source": [
    "vestaBorrowedUSD = db.query(\n",
    "                        \"select distinct \"\n",
    "                            \"date_trunc('day',dateTime) calDay \"\n",
    "                            \",borrows_amountUSD::hugeint transaction_amountUSD \"\n",
    "                        \"   ,borrows_account_id transaction_account_id \"\n",
    "                       \"From vestaBorrowsDbTimed \"\n",
    "                   ).df()"
   ],
   "metadata": {
    "collapsed": false
   }
  },
  {
   "cell_type": "code",
   "execution_count": 141,
   "outputs": [
    {
     "data": {
      "text/plain": "       calDay  transaction_amountUSD  \\\n0  2022-08-07               576298.0   \n1  2022-08-27               516405.0   \n2  2022-08-25               508523.0   \n3  2022-02-09               450714.0   \n4  2022-12-02               407615.0   \n..        ...                    ...   \n95 2022-04-15                87105.0   \n96 2022-12-16                86381.0   \n97 2022-06-18                81030.0   \n98 2022-02-28                81030.0   \n99 2022-03-25                80532.0   \n\n                        transaction_account_id  \n0   0xa80191fca50be00f8952c69232c93d57eeacaf6f  \n1   0x15bae977db3b62ceb5a67921fae589fd80624e8d  \n2   0xea17e11fa9d3d772eee6f34a03f0ef44db395720  \n3   0xa80191fca50be00f8952c69232c93d57eeacaf6f  \n4   0x0561a78021d8966ddd20c28c6c4318d8675ee1f0  \n..                                         ...  \n95  0x343ee80f82440a498e48ae186e066809750a055b  \n96  0x0561a78021d8966ddd20c28c6c4318d8675ee1f0  \n97  0xc01d5c4c8f1deb6b5ed5ee63cd6e37f581baabae  \n98  0x1cb4831b6df1d9cb07279b93a0e101db9b2295d0  \n99  0x4c180462a051ab67d8237ede2c987590df2fbbe6  \n\n[100 rows x 3 columns]",
      "text/html": "<div>\n<style scoped>\n    .dataframe tbody tr th:only-of-type {\n        vertical-align: middle;\n    }\n\n    .dataframe tbody tr th {\n        vertical-align: top;\n    }\n\n    .dataframe thead th {\n        text-align: right;\n    }\n</style>\n<table border=\"1\" class=\"dataframe\">\n  <thead>\n    <tr style=\"text-align: right;\">\n      <th></th>\n      <th>calDay</th>\n      <th>transaction_amountUSD</th>\n      <th>transaction_account_id</th>\n    </tr>\n  </thead>\n  <tbody>\n    <tr>\n      <th>0</th>\n      <td>2022-08-07</td>\n      <td>576298.0</td>\n      <td>0xa80191fca50be00f8952c69232c93d57eeacaf6f</td>\n    </tr>\n    <tr>\n      <th>1</th>\n      <td>2022-08-27</td>\n      <td>516405.0</td>\n      <td>0x15bae977db3b62ceb5a67921fae589fd80624e8d</td>\n    </tr>\n    <tr>\n      <th>2</th>\n      <td>2022-08-25</td>\n      <td>508523.0</td>\n      <td>0xea17e11fa9d3d772eee6f34a03f0ef44db395720</td>\n    </tr>\n    <tr>\n      <th>3</th>\n      <td>2022-02-09</td>\n      <td>450714.0</td>\n      <td>0xa80191fca50be00f8952c69232c93d57eeacaf6f</td>\n    </tr>\n    <tr>\n      <th>4</th>\n      <td>2022-12-02</td>\n      <td>407615.0</td>\n      <td>0x0561a78021d8966ddd20c28c6c4318d8675ee1f0</td>\n    </tr>\n    <tr>\n      <th>...</th>\n      <td>...</td>\n      <td>...</td>\n      <td>...</td>\n    </tr>\n    <tr>\n      <th>95</th>\n      <td>2022-04-15</td>\n      <td>87105.0</td>\n      <td>0x343ee80f82440a498e48ae186e066809750a055b</td>\n    </tr>\n    <tr>\n      <th>96</th>\n      <td>2022-12-16</td>\n      <td>86381.0</td>\n      <td>0x0561a78021d8966ddd20c28c6c4318d8675ee1f0</td>\n    </tr>\n    <tr>\n      <th>97</th>\n      <td>2022-06-18</td>\n      <td>81030.0</td>\n      <td>0xc01d5c4c8f1deb6b5ed5ee63cd6e37f581baabae</td>\n    </tr>\n    <tr>\n      <th>98</th>\n      <td>2022-02-28</td>\n      <td>81030.0</td>\n      <td>0x1cb4831b6df1d9cb07279b93a0e101db9b2295d0</td>\n    </tr>\n    <tr>\n      <th>99</th>\n      <td>2022-03-25</td>\n      <td>80532.0</td>\n      <td>0x4c180462a051ab67d8237ede2c987590df2fbbe6</td>\n    </tr>\n  </tbody>\n</table>\n<p>100 rows × 3 columns</p>\n</div>"
     },
     "execution_count": 141,
     "metadata": {},
     "output_type": "execute_result"
    }
   ],
   "source": [
    "vestaBorrowedUSD.sort_values (by=['transaction_amountUSD'])\n",
    "vestaBorrowedUSD.head(100)"
   ],
   "metadata": {
    "collapsed": false
   }
  },
  {
   "cell_type": "code",
   "execution_count": 133,
   "outputs": [
    {
     "data": {
      "text/plain": "       calDay  amountUsdBorrowed  borrowers protocol\n0  2022-08-07           585266.0          2    Vesta\n1  2022-08-27           519065.0          5    Vesta\n2  2022-08-25           577639.0          6    Vesta\n3  2022-02-09          2718322.0        104    Vesta\n4  2022-12-02          3733062.0          8    Vesta\n..        ...                ...        ...      ...\n95 2022-02-12            91680.0         11    Vesta\n96 2023-02-08            25881.0          1    Vesta\n97 2022-08-20            35569.0          2    Vesta\n98 2022-04-27            46223.0          3    Vesta\n99 2022-07-30            83459.0          8    Vesta\n\n[100 rows x 4 columns]",
      "text/html": "<div>\n<style scoped>\n    .dataframe tbody tr th:only-of-type {\n        vertical-align: middle;\n    }\n\n    .dataframe tbody tr th {\n        vertical-align: top;\n    }\n\n    .dataframe thead th {\n        text-align: right;\n    }\n</style>\n<table border=\"1\" class=\"dataframe\">\n  <thead>\n    <tr style=\"text-align: right;\">\n      <th></th>\n      <th>calDay</th>\n      <th>amountUsdBorrowed</th>\n      <th>borrowers</th>\n      <th>protocol</th>\n    </tr>\n  </thead>\n  <tbody>\n    <tr>\n      <th>0</th>\n      <td>2022-08-07</td>\n      <td>585266.0</td>\n      <td>2</td>\n      <td>Vesta</td>\n    </tr>\n    <tr>\n      <th>1</th>\n      <td>2022-08-27</td>\n      <td>519065.0</td>\n      <td>5</td>\n      <td>Vesta</td>\n    </tr>\n    <tr>\n      <th>2</th>\n      <td>2022-08-25</td>\n      <td>577639.0</td>\n      <td>6</td>\n      <td>Vesta</td>\n    </tr>\n    <tr>\n      <th>3</th>\n      <td>2022-02-09</td>\n      <td>2718322.0</td>\n      <td>104</td>\n      <td>Vesta</td>\n    </tr>\n    <tr>\n      <th>4</th>\n      <td>2022-12-02</td>\n      <td>3733062.0</td>\n      <td>8</td>\n      <td>Vesta</td>\n    </tr>\n    <tr>\n      <th>...</th>\n      <td>...</td>\n      <td>...</td>\n      <td>...</td>\n      <td>...</td>\n    </tr>\n    <tr>\n      <th>95</th>\n      <td>2022-02-12</td>\n      <td>91680.0</td>\n      <td>11</td>\n      <td>Vesta</td>\n    </tr>\n    <tr>\n      <th>96</th>\n      <td>2023-02-08</td>\n      <td>25881.0</td>\n      <td>1</td>\n      <td>Vesta</td>\n    </tr>\n    <tr>\n      <th>97</th>\n      <td>2022-08-20</td>\n      <td>35569.0</td>\n      <td>2</td>\n      <td>Vesta</td>\n    </tr>\n    <tr>\n      <th>98</th>\n      <td>2022-04-27</td>\n      <td>46223.0</td>\n      <td>3</td>\n      <td>Vesta</td>\n    </tr>\n    <tr>\n      <th>99</th>\n      <td>2022-07-30</td>\n      <td>83459.0</td>\n      <td>8</td>\n      <td>Vesta</td>\n    </tr>\n  </tbody>\n</table>\n<p>100 rows × 4 columns</p>\n</div>"
     },
     "execution_count": 133,
     "metadata": {},
     "output_type": "execute_result"
    }
   ],
   "source": [
    "vestaBorrowedUSDDaily = db.query(\n",
    "                        \"select \"\n",
    "                            \"calDay \"\n",
    "                            \",sum(transaction_amountUSD) amountUsdBorrowed \"\n",
    "                        \"   ,count(distinct transaction_account_id) borrowers \"\n",
    "                       \"From vestaBorrowedUSD \"\n",
    "                        \"Group by 1 \"\n",
    "                   ).df()\n",
    "vestaBorrowedUSDDaily['protocol'] = 'Vesta'\n",
    "vestaBorrowedUSDDaily.head(100)"
   ],
   "metadata": {
    "collapsed": false
   }
  },
  {
   "cell_type": "code",
   "execution_count": 134,
   "outputs": [
    {
     "data": {
      "text/plain": "       calDay  amountUsdBorrowed  borrowers protocol\n0  2022-08-07           585266.0          2    Vesta\n1  2022-08-27           519065.0          5    Vesta\n2  2022-08-25           577639.0          6    Vesta\n3  2022-02-09          2718322.0        104    Vesta\n4  2022-12-02          3733062.0          8    Vesta\n..        ...                ...        ...      ...\n66 2023-02-10            25000.0          1     Frax\n67 2023-02-11            47500.0          2     Frax\n68 2023-02-12            26000.0          2     Frax\n69 2023-02-13            54000.0          2     Frax\n70 2023-02-14            70000.0          2     Frax\n\n[394 rows x 4 columns]",
      "text/html": "<div>\n<style scoped>\n    .dataframe tbody tr th:only-of-type {\n        vertical-align: middle;\n    }\n\n    .dataframe tbody tr th {\n        vertical-align: top;\n    }\n\n    .dataframe thead th {\n        text-align: right;\n    }\n</style>\n<table border=\"1\" class=\"dataframe\">\n  <thead>\n    <tr style=\"text-align: right;\">\n      <th></th>\n      <th>calDay</th>\n      <th>amountUsdBorrowed</th>\n      <th>borrowers</th>\n      <th>protocol</th>\n    </tr>\n  </thead>\n  <tbody>\n    <tr>\n      <th>0</th>\n      <td>2022-08-07</td>\n      <td>585266.0</td>\n      <td>2</td>\n      <td>Vesta</td>\n    </tr>\n    <tr>\n      <th>1</th>\n      <td>2022-08-27</td>\n      <td>519065.0</td>\n      <td>5</td>\n      <td>Vesta</td>\n    </tr>\n    <tr>\n      <th>2</th>\n      <td>2022-08-25</td>\n      <td>577639.0</td>\n      <td>6</td>\n      <td>Vesta</td>\n    </tr>\n    <tr>\n      <th>3</th>\n      <td>2022-02-09</td>\n      <td>2718322.0</td>\n      <td>104</td>\n      <td>Vesta</td>\n    </tr>\n    <tr>\n      <th>4</th>\n      <td>2022-12-02</td>\n      <td>3733062.0</td>\n      <td>8</td>\n      <td>Vesta</td>\n    </tr>\n    <tr>\n      <th>...</th>\n      <td>...</td>\n      <td>...</td>\n      <td>...</td>\n      <td>...</td>\n    </tr>\n    <tr>\n      <th>66</th>\n      <td>2023-02-10</td>\n      <td>25000.0</td>\n      <td>1</td>\n      <td>Frax</td>\n    </tr>\n    <tr>\n      <th>67</th>\n      <td>2023-02-11</td>\n      <td>47500.0</td>\n      <td>2</td>\n      <td>Frax</td>\n    </tr>\n    <tr>\n      <th>68</th>\n      <td>2023-02-12</td>\n      <td>26000.0</td>\n      <td>2</td>\n      <td>Frax</td>\n    </tr>\n    <tr>\n      <th>69</th>\n      <td>2023-02-13</td>\n      <td>54000.0</td>\n      <td>2</td>\n      <td>Frax</td>\n    </tr>\n    <tr>\n      <th>70</th>\n      <td>2023-02-14</td>\n      <td>70000.0</td>\n      <td>2</td>\n      <td>Frax</td>\n    </tr>\n  </tbody>\n</table>\n<p>394 rows × 4 columns</p>\n</div>"
     },
     "execution_count": 134,
     "metadata": {},
     "output_type": "execute_result"
    }
   ],
   "source": [
    "#Don't judge if I use pandas for some things and SQL for others. I'm a noob :P\n",
    "dailyUsdBorrowdDb =  pd.concat([vestaBorrowedUSDDaily, siloBorrowedUSDDaily,fraxBorrowedUSDDaily])\n",
    "dailyUsdBorrowdDb.head(400)"
   ],
   "metadata": {
    "collapsed": false
   }
  },
  {
   "cell_type": "code",
   "execution_count": 135,
   "outputs": [
    {
     "name": "stdout",
     "output_type": "stream",
     "text": [
      "file saved\n"
     ]
    }
   ],
   "source": [
    "dailyUsdBorrowdDbLength = len(dailyUsdBorrowdDb)\n",
    "path =file+'/dailyUsdBorrowed.csv'\n",
    "dailyUsdBorrowdDb.to_csv(path, index = False)\n",
    "\n",
    "path =file+'/dailyUsdBorrowed_piped.csv'\n",
    "dailyUsdBorrowdDb.to_csv(path, index = False, sep='|')\n",
    "print('file saved')"
   ],
   "metadata": {
    "collapsed": false
   }
  },
  {
   "cell_type": "code",
   "execution_count": 55,
   "outputs": [
    {
     "data": {
      "text/plain": "394"
     },
     "execution_count": 55,
     "metadata": {},
     "output_type": "execute_result"
    }
   ],
   "source": [
    "dailyUsdBorrowdDbLength"
   ],
   "metadata": {
    "collapsed": false
   }
  },
  {
   "cell_type": "markdown",
   "source": [
    "*******************************8\n",
    "REPAYS!"
   ],
   "metadata": {
    "collapsed": false
   }
  },
  {
   "cell_type": "code",
   "execution_count": 51,
   "outputs": [
    {
     "data": {
      "text/plain": "                                          actions_id actions_type  \\\n0  0x1ec1f1d781c20ba212b8c86e9141634dfa5ab919c9b4...   repayAsset   \n1  0x395e8e7df1cfc36cf1c5c5e745ac1fcb7d166a1b66b3...   repayAsset   \n2  0x61b85113554f41e41beb5a81ae45336168b6eedaf7c5...   repayAsset   \n3  0xc7c1739911ae71f7726d1d32214edb8161a341f7fcd7...   repayAsset   \n4  0x40e939c94b527bd4eb9f8f102cfe3c179b61f0da6bb7...   repayAsset   \n5  0x83e2ea08ec4f8a38735c7ad01954ce62ae9f79b84e7d...   repayAsset   \n6  0x5dee647c2e8ebfad8bac45dd1ca3eab67b4841ef1692...   repayAsset   \n7  0x7f9a9b4079f340cc010ddcf1ccbac3db2e1ea4e29adb...   repayAsset   \n8  0xbc537609adb35fdd165f22a83da392b898080e7e2b70...   repayAsset   \n9  0x87953dce0f55cdd157c52fb9ce2ede8c34012f0c2c29...   repayAsset   \n\n            actions_amount  actions_timestamp  actions_block  \\\n0   3452642443104311600788         1676292491       16619937   \n1   2482001407422899262526         1676292095       16619904   \n2   1300000127635337104324         1676079827       16602316   \n3    812894298298405441439         1676068895       16601407   \n4  20000000657920034222343         1676049335       16599784   \n5  66251004408366659013068         1676047871       16599664   \n6  79833054078273887555863         1676032955       16598429   \n7  79999010767531137119399         1675924787       16589468   \n8  79999005383702015426508         1675900835       16587479   \n9  25222001668846023315909         1675824611       16581186   \n\n  actions_token_name                        actions_root_address  \\\n0               Frax  0xc0b1f200aa9546ce074397bed7438bb2ec033877   \n1               Frax  0xc0b1f200aa9546ce074397bed7438bb2ec033877   \n2               Frax  0xf10918fc1725a65960db2b906b4868a0fdbb6870   \n3               Frax  0x46535cbc3fa574c32ea392d4f89c518290597072   \n4               Frax  0xc0e0de939f26e71683452467942aff455ca153e3   \n5               Frax  0xc0e0de939f26e71683452467942aff455ca153e3   \n6               Frax  0x46535cbc3fa574c32ea392d4f89c518290597072   \n7               Frax  0x46535cbc3fa574c32ea392d4f89c518290597072   \n8               Frax  0x46535cbc3fa574c32ea392d4f89c518290597072   \n9               Frax  0xc0e0de939f26e71683452467942aff455ca153e3   \n\n             dateTime     amountUsd  amountUsdRepayed  \n0 2023-02-13 12:48:11   3452.642443       3452.642443  \n1 2023-02-13 12:41:35   2482.001407       2482.001407  \n2 2023-02-11 01:43:47   1300.000128       1300.000128  \n3 2023-02-10 22:41:35    812.894298        812.894298  \n4 2023-02-10 17:15:35  20000.000658      20000.000658  \n5 2023-02-10 16:51:11  66251.004408      66251.004408  \n6 2023-02-10 12:42:35  79833.054078      79833.054078  \n7 2023-02-09 06:39:47  79999.010768      79999.010768  \n8 2023-02-09 00:00:35  79999.005384      79999.005384  \n9 2023-02-08 02:50:11  25222.001669      25222.001669  ",
      "text/html": "<div>\n<style scoped>\n    .dataframe tbody tr th:only-of-type {\n        vertical-align: middle;\n    }\n\n    .dataframe tbody tr th {\n        vertical-align: top;\n    }\n\n    .dataframe thead th {\n        text-align: right;\n    }\n</style>\n<table border=\"1\" class=\"dataframe\">\n  <thead>\n    <tr style=\"text-align: right;\">\n      <th></th>\n      <th>actions_id</th>\n      <th>actions_type</th>\n      <th>actions_amount</th>\n      <th>actions_timestamp</th>\n      <th>actions_block</th>\n      <th>actions_token_name</th>\n      <th>actions_root_address</th>\n      <th>dateTime</th>\n      <th>amountUsd</th>\n      <th>amountUsdRepayed</th>\n    </tr>\n  </thead>\n  <tbody>\n    <tr>\n      <th>0</th>\n      <td>0x1ec1f1d781c20ba212b8c86e9141634dfa5ab919c9b4...</td>\n      <td>repayAsset</td>\n      <td>3452642443104311600788</td>\n      <td>1676292491</td>\n      <td>16619937</td>\n      <td>Frax</td>\n      <td>0xc0b1f200aa9546ce074397bed7438bb2ec033877</td>\n      <td>2023-02-13 12:48:11</td>\n      <td>3452.642443</td>\n      <td>3452.642443</td>\n    </tr>\n    <tr>\n      <th>1</th>\n      <td>0x395e8e7df1cfc36cf1c5c5e745ac1fcb7d166a1b66b3...</td>\n      <td>repayAsset</td>\n      <td>2482001407422899262526</td>\n      <td>1676292095</td>\n      <td>16619904</td>\n      <td>Frax</td>\n      <td>0xc0b1f200aa9546ce074397bed7438bb2ec033877</td>\n      <td>2023-02-13 12:41:35</td>\n      <td>2482.001407</td>\n      <td>2482.001407</td>\n    </tr>\n    <tr>\n      <th>2</th>\n      <td>0x61b85113554f41e41beb5a81ae45336168b6eedaf7c5...</td>\n      <td>repayAsset</td>\n      <td>1300000127635337104324</td>\n      <td>1676079827</td>\n      <td>16602316</td>\n      <td>Frax</td>\n      <td>0xf10918fc1725a65960db2b906b4868a0fdbb6870</td>\n      <td>2023-02-11 01:43:47</td>\n      <td>1300.000128</td>\n      <td>1300.000128</td>\n    </tr>\n    <tr>\n      <th>3</th>\n      <td>0xc7c1739911ae71f7726d1d32214edb8161a341f7fcd7...</td>\n      <td>repayAsset</td>\n      <td>812894298298405441439</td>\n      <td>1676068895</td>\n      <td>16601407</td>\n      <td>Frax</td>\n      <td>0x46535cbc3fa574c32ea392d4f89c518290597072</td>\n      <td>2023-02-10 22:41:35</td>\n      <td>812.894298</td>\n      <td>812.894298</td>\n    </tr>\n    <tr>\n      <th>4</th>\n      <td>0x40e939c94b527bd4eb9f8f102cfe3c179b61f0da6bb7...</td>\n      <td>repayAsset</td>\n      <td>20000000657920034222343</td>\n      <td>1676049335</td>\n      <td>16599784</td>\n      <td>Frax</td>\n      <td>0xc0e0de939f26e71683452467942aff455ca153e3</td>\n      <td>2023-02-10 17:15:35</td>\n      <td>20000.000658</td>\n      <td>20000.000658</td>\n    </tr>\n    <tr>\n      <th>5</th>\n      <td>0x83e2ea08ec4f8a38735c7ad01954ce62ae9f79b84e7d...</td>\n      <td>repayAsset</td>\n      <td>66251004408366659013068</td>\n      <td>1676047871</td>\n      <td>16599664</td>\n      <td>Frax</td>\n      <td>0xc0e0de939f26e71683452467942aff455ca153e3</td>\n      <td>2023-02-10 16:51:11</td>\n      <td>66251.004408</td>\n      <td>66251.004408</td>\n    </tr>\n    <tr>\n      <th>6</th>\n      <td>0x5dee647c2e8ebfad8bac45dd1ca3eab67b4841ef1692...</td>\n      <td>repayAsset</td>\n      <td>79833054078273887555863</td>\n      <td>1676032955</td>\n      <td>16598429</td>\n      <td>Frax</td>\n      <td>0x46535cbc3fa574c32ea392d4f89c518290597072</td>\n      <td>2023-02-10 12:42:35</td>\n      <td>79833.054078</td>\n      <td>79833.054078</td>\n    </tr>\n    <tr>\n      <th>7</th>\n      <td>0x7f9a9b4079f340cc010ddcf1ccbac3db2e1ea4e29adb...</td>\n      <td>repayAsset</td>\n      <td>79999010767531137119399</td>\n      <td>1675924787</td>\n      <td>16589468</td>\n      <td>Frax</td>\n      <td>0x46535cbc3fa574c32ea392d4f89c518290597072</td>\n      <td>2023-02-09 06:39:47</td>\n      <td>79999.010768</td>\n      <td>79999.010768</td>\n    </tr>\n    <tr>\n      <th>8</th>\n      <td>0xbc537609adb35fdd165f22a83da392b898080e7e2b70...</td>\n      <td>repayAsset</td>\n      <td>79999005383702015426508</td>\n      <td>1675900835</td>\n      <td>16587479</td>\n      <td>Frax</td>\n      <td>0x46535cbc3fa574c32ea392d4f89c518290597072</td>\n      <td>2023-02-09 00:00:35</td>\n      <td>79999.005384</td>\n      <td>79999.005384</td>\n    </tr>\n    <tr>\n      <th>9</th>\n      <td>0x87953dce0f55cdd157c52fb9ce2ede8c34012f0c2c29...</td>\n      <td>repayAsset</td>\n      <td>25222001668846023315909</td>\n      <td>1675824611</td>\n      <td>16581186</td>\n      <td>Frax</td>\n      <td>0xc0e0de939f26e71683452467942aff455ca153e3</td>\n      <td>2023-02-08 02:50:11</td>\n      <td>25222.001669</td>\n      <td>25222.001669</td>\n    </tr>\n  </tbody>\n</table>\n</div>"
     },
     "execution_count": 51,
     "metadata": {},
     "output_type": "execute_result"
    }
   ],
   "source": [
    "fraxRepaysDb = db.query(\"select \"\n",
    "                   \"    * \"\n",
    "                    \",(actions_amount::hugeint*1e-18) amountUsdRepayed \"\n",
    "                       \"From fraxActionsDbTimed \"\n",
    "                       \"where actions_type= 'repayAsset' \"\n",
    "                   ).df()\n",
    "fraxRepaysDb.head(10)"
   ],
   "metadata": {
    "collapsed": false
   }
  },
  {
   "cell_type": "code",
   "execution_count": 52,
   "outputs": [
    {
     "ename": "RuntimeError",
     "evalue": "Binder Error: Referenced column \"actions_root_id\" not found in FROM clause!\nCandidate bindings: \"fraxRepaysDb.actions_id\"",
     "output_type": "error",
     "traceback": [
      "\u001B[1;31m---------------------------------------------------------------------------\u001B[0m",
      "\u001B[1;31mRuntimeError\u001B[0m                              Traceback (most recent call last)",
      "Input \u001B[1;32mIn [52]\u001B[0m, in \u001B[0;36m<cell line: 1>\u001B[1;34m()\u001B[0m\n\u001B[1;32m----> 1\u001B[0m fraxRepaiddUsdDaily \u001B[38;5;241m=\u001B[39m \u001B[43mdb\u001B[49m\u001B[38;5;241;43m.\u001B[39;49m\u001B[43mquery\u001B[49m\u001B[43m(\u001B[49m\n\u001B[0;32m      2\u001B[0m \u001B[43m                        \u001B[49m\u001B[38;5;124;43m\"\u001B[39;49m\u001B[38;5;124;43mselect \u001B[39;49m\u001B[38;5;124;43m\"\u001B[39;49m\n\u001B[0;32m      3\u001B[0m \u001B[43m                            \u001B[49m\u001B[38;5;124;43m\"\u001B[39;49m\u001B[38;5;124;43mdate_trunc(\u001B[39;49m\u001B[38;5;124;43m'\u001B[39;49m\u001B[38;5;124;43mday\u001B[39;49m\u001B[38;5;124;43m'\u001B[39;49m\u001B[38;5;124;43m,dateTime) calDay \u001B[39;49m\u001B[38;5;124;43m\"\u001B[39;49m\n\u001B[0;32m      4\u001B[0m \u001B[43m                            \u001B[49m\u001B[38;5;124;43m\"\u001B[39;49m\u001B[38;5;124;43m,sum(amountUsdRepayed) amountUsdRepaid \u001B[39;49m\u001B[38;5;124;43m\"\u001B[39;49m\n\u001B[0;32m      5\u001B[0m \u001B[43m                        \u001B[49m\u001B[38;5;124;43m\"\u001B[39;49m\u001B[38;5;124;43m   ,count(distinct actions_root_id) repayers \u001B[39;49m\u001B[38;5;124;43m\"\u001B[39;49m\n\u001B[0;32m      6\u001B[0m \u001B[43m                       \u001B[49m\u001B[38;5;124;43m\"\u001B[39;49m\u001B[38;5;124;43mFrom fraxRepaysDb \u001B[39;49m\u001B[38;5;124;43m\"\u001B[39;49m\n\u001B[0;32m      7\u001B[0m \u001B[43m                        \u001B[49m\u001B[38;5;124;43m\"\u001B[39;49m\u001B[38;5;124;43mGroup by 1 \u001B[39;49m\u001B[38;5;124;43m\"\u001B[39;49m\n\u001B[0;32m      8\u001B[0m \u001B[43m                        \u001B[49m\u001B[38;5;124;43m\"\u001B[39;49m\u001B[38;5;124;43morder by 1\u001B[39;49m\u001B[38;5;124;43m\"\u001B[39;49m\n\u001B[0;32m      9\u001B[0m \u001B[43m                   \u001B[49m\u001B[43m)\u001B[49m\u001B[38;5;241m.\u001B[39mdf()\n\u001B[0;32m     10\u001B[0m fraxRepaiddUsdDaily[\u001B[38;5;124m'\u001B[39m\u001B[38;5;124mprotocol\u001B[39m\u001B[38;5;124m'\u001B[39m] \u001B[38;5;241m=\u001B[39m \u001B[38;5;124m'\u001B[39m\u001B[38;5;124mFrax\u001B[39m\u001B[38;5;124m'\u001B[39m\n\u001B[0;32m     11\u001B[0m fraxRepaiddUsdDaily\u001B[38;5;241m.\u001B[39mhead(\u001B[38;5;241m10\u001B[39m)\n",
      "\u001B[1;31mRuntimeError\u001B[0m: Binder Error: Referenced column \"actions_root_id\" not found in FROM clause!\nCandidate bindings: \"fraxRepaysDb.actions_id\""
     ]
    }
   ],
   "source": [
    "fraxRepaiddUsdDaily = db.query(\n",
    "                        \"select \"\n",
    "                            \"date_trunc('day',dateTime) calDay \"\n",
    "                            \",sum(amountUsdRepayed) amountUsdRepaid \"\n",
    "                        \"   ,count(distinct actions_root_id) repayers \"\n",
    "                       \"From fraxRepaysDb \"\n",
    "                        \"Group by 1 \"\n",
    "                        \"order by 1\"\n",
    "                   ).df()\n",
    "fraxRepaiddUsdDaily['protocol'] = 'Frax'\n",
    "fraxRepaiddUsdDaily.head(10)"
   ],
   "metadata": {
    "collapsed": false
   }
  },
  {
   "cell_type": "code",
   "execution_count": 54,
   "outputs": [
    {
     "data": {
      "text/plain": "      calDay  amountUsdRepaid  repayers protocol\n0 2023-02-13           2341.0         2    Vesta\n1 2023-02-11            150.0         1    Vesta\n2 2023-02-09           2286.0         1    Vesta\n3 2023-02-08          31182.0         2    Vesta\n4 2023-02-07          13173.0         1    Vesta\n5 2023-02-06           1000.0         1    Vesta\n6 2023-02-05         124831.0         2    Vesta\n7 2023-02-02          10768.0         3    Vesta\n8 2023-02-01          20270.0         2    Vesta\n9 2023-01-31           1586.0         1    Vesta",
      "text/html": "<div>\n<style scoped>\n    .dataframe tbody tr th:only-of-type {\n        vertical-align: middle;\n    }\n\n    .dataframe tbody tr th {\n        vertical-align: top;\n    }\n\n    .dataframe thead th {\n        text-align: right;\n    }\n</style>\n<table border=\"1\" class=\"dataframe\">\n  <thead>\n    <tr style=\"text-align: right;\">\n      <th></th>\n      <th>calDay</th>\n      <th>amountUsdRepaid</th>\n      <th>repayers</th>\n      <th>protocol</th>\n    </tr>\n  </thead>\n  <tbody>\n    <tr>\n      <th>0</th>\n      <td>2023-02-13</td>\n      <td>2341.0</td>\n      <td>2</td>\n      <td>Vesta</td>\n    </tr>\n    <tr>\n      <th>1</th>\n      <td>2023-02-11</td>\n      <td>150.0</td>\n      <td>1</td>\n      <td>Vesta</td>\n    </tr>\n    <tr>\n      <th>2</th>\n      <td>2023-02-09</td>\n      <td>2286.0</td>\n      <td>1</td>\n      <td>Vesta</td>\n    </tr>\n    <tr>\n      <th>3</th>\n      <td>2023-02-08</td>\n      <td>31182.0</td>\n      <td>2</td>\n      <td>Vesta</td>\n    </tr>\n    <tr>\n      <th>4</th>\n      <td>2023-02-07</td>\n      <td>13173.0</td>\n      <td>1</td>\n      <td>Vesta</td>\n    </tr>\n    <tr>\n      <th>5</th>\n      <td>2023-02-06</td>\n      <td>1000.0</td>\n      <td>1</td>\n      <td>Vesta</td>\n    </tr>\n    <tr>\n      <th>6</th>\n      <td>2023-02-05</td>\n      <td>124831.0</td>\n      <td>2</td>\n      <td>Vesta</td>\n    </tr>\n    <tr>\n      <th>7</th>\n      <td>2023-02-02</td>\n      <td>10768.0</td>\n      <td>3</td>\n      <td>Vesta</td>\n    </tr>\n    <tr>\n      <th>8</th>\n      <td>2023-02-01</td>\n      <td>20270.0</td>\n      <td>2</td>\n      <td>Vesta</td>\n    </tr>\n    <tr>\n      <th>9</th>\n      <td>2023-01-31</td>\n      <td>1586.0</td>\n      <td>1</td>\n      <td>Vesta</td>\n    </tr>\n  </tbody>\n</table>\n</div>"
     },
     "execution_count": 54,
     "metadata": {},
     "output_type": "execute_result"
    }
   ],
   "source": [
    "vestaUsdRepaidDaily = db.query(\n",
    "                        \"select \"\n",
    "                            \"date_trunc('day',dateTime) calDay \"\n",
    "                            \",sum(transaction_amountUSD::hugeint) amountUsdRepaid \"\n",
    "                        \"   ,count(distinct transaction_account_id) repayers \"\n",
    "                       \"From  vestaRepaysDbTimed \"\n",
    "                        \"Group by 1 \"\n",
    "                   ).df()\n",
    "vestaUsdRepaidDaily['protocol'] = 'Vesta'\n",
    "vestaUsdRepaidDaily.head(10)"
   ],
   "metadata": {
    "collapsed": false
   }
  },
  {
   "cell_type": "code",
   "execution_count": null,
   "outputs": [],
   "source": [
    "SiloUsdRepaidDaily = db.query(\n",
    "                        \"select \"\n",
    "                            \"date_trunc('day',to_timestamp(transaction_timestamp::int)) calDay \"\n",
    "                            \",sum(transaction_amountUSD::hugeint) amountUsdRepaid \"\n",
    "                        \"   ,count(distinct transaction_account_id) repayers \"\n",
    "                       \"From  repaysDb \"\n",
    "                        \"Group by 1 \"\n",
    "                   ).df()\n",
    "SiloUsdRepaidDaily['protocol'] = 'Silo'\n",
    "SiloUsdRepaidDaily.head(10)"
   ],
   "metadata": {
    "collapsed": false
   }
  },
  {
   "cell_type": "markdown",
   "source": [
    "*****************************\n",
    "DAILY SNAPSHOTS - FRAX FIRST"
   ],
   "metadata": {
    "collapsed": false
   }
  },
  {
   "cell_type": "code",
   "execution_count": 55,
   "outputs": [
    {
     "name": "stdout",
     "output_type": "stream",
     "text": [
      "iterations:  0 Lines skipped:  0 records collected:  77  - latest recordID:  0   0x66bf36dba79d4606039f04b32946a260bcd3ff52-Recent  - pairSnapshots DB length:  77  - latest record from:  2023-02-13 13:52:23 0 days ago\n",
      "Done. Total Records collected:  77\n"
     ]
    }
   ],
   "source": [
    "pairSnapshotsListLength=0\n",
    "pairSnapshotsTicker = 0\n",
    "Snapshots = pd.DataFrame()\n",
    "pairSnapshotsDb = pd.DataFrame()\n",
    "pairSnapshotsListLength = 1000\n",
    "datediff = 0\n",
    "now=0\n",
    "daysAgo=0\n",
    "daysLimit = 45\n",
    "exit= False\n",
    "while exit==False:\n",
    "    #listLength=0\n",
    "    skipValue = (pairSnapshotsTicker)*(1000)\n",
    "    pairsQuery = frax.Query.pairPerDays(\n",
    "         orderBy='id'\n",
    "        ,orderDirection='desc'\n",
    "        ,first=1000\n",
    "        ,skipValue = skipValue\n",
    "        #,where = [frax.Query.pairs.token.id == '0x66bf36dba79d4606039f04b32946a260bcd3ff52']\n",
    "        ,where={ 'pair': '0x66bf36dba79d4606039f04b32946a260bcd3ff52' }\n",
    "        #,where = {'positions.pairid':'0x66bf36dba79d4606039f04b32946a260bcd3ff52'}\n",
    "    #{'users_positions_pair_id':'0x66bf36dba79d4606039f04b32946a260bcd3ff52'}\n",
    "\n",
    "    )\n",
    "    Snapshots= sg.query_df([\n",
    "    pairsQuery.id\n",
    "    ,pairsQuery.feeToProtocolRate\n",
    "    ,pairsQuery.exchangeRate\n",
    "    ,pairsQuery.totalAssetAmount\n",
    "    ,pairsQuery.totalAssetShare\n",
    "    ,pairsQuery.totalCollateral\n",
    "    ,pairsQuery.totalBorrowAmount\n",
    "    ,pairsQuery.totalBorrowShare\n",
    "    ,pairsQuery.interestPerSecond\n",
    "    ,pairsQuery.utilization\n",
    "    ,pairsQuery.totalFeesAmount\n",
    "    ,pairsQuery.totalFeesShare\n",
    "    ,pairsQuery.lastAccrued\n",
    "    ,pairsQuery.block\n",
    "    ,pairsQuery.timestamp\n",
    "    ,pairsQuery.totalAssetValue\n",
    "    ,pairsQuery.totalCollateralValue\n",
    "    ,pairsQuery.totalBorrowValue\n",
    "    ,pairsQuery.pair\n",
    "    ]\n",
    "    )\n",
    "\n",
    "    Snapshots.sort_values(by=['pairPerDays_timestamp'])\n",
    "\n",
    "    pairSnapshotsDb=pd.concat([pairSnapshotsDb, Snapshots])\n",
    "    recordTimestamp1 = pairSnapshotsDb.iat[pairSnapshotsTicker,14]\n",
    "    recordTimestamp = dt.datetime.fromtimestamp( recordTimestamp1 )\n",
    "    now = (int(dt.datetime.utcnow().timestamp()))\n",
    "    datediff=abs(int(now) - recordTimestamp1)\n",
    "    daysAgo = int(datediff/86400)\n",
    "    pairSnapshotsDbLength = len(pairSnapshotsDb)\n",
    "    pairSnapshotsListLength = len(Snapshots)\n",
    "    recordID = pairSnapshotsDb.iat[pairSnapshotsTicker,0]\n",
    "    Snapshot = pairSnapshotsDb.iat[pairSnapshotsTicker,1]\n",
    "    print(\"iterations: \", pairSnapshotsTicker, \"Lines skipped: \",skipValue, \"records collected: \", pairSnapshotsListLength, \" - latest recordID: \",Snapshot, \" \", recordID , \" - pairSnapshots DB length: \", pairSnapshotsDbLength, \" - latest record from: \", recordTimestamp, daysAgo,\"days ago\")\n",
    "    #print(\"iterations: \", pairSnapshotsTicker, \"records collected: \", pairSnapshotsListLength, \" - userdb length: \", pairSnapshotsDbLength)\n",
    "    if daysAgo>daysLimit: exit =True\n",
    "    if pairSnapshotsListLength<1000: exit =True\n",
    "    pairSnapshotsTicker = pairSnapshotsTicker+1\n",
    "\n",
    "print(\"Done. Total Records collected: \", pairSnapshotsDbLength)"
   ],
   "metadata": {
    "collapsed": false
   }
  },
  {
   "cell_type": "code",
   "execution_count": 56,
   "outputs": [
    {
     "data": {
      "text/plain": "                                       pairPerDays_id  \\\n0   0x66bf36dba79d4606039f04b32946a260bcd3ff52-Recent   \n1    0x66bf36dba79d4606039f04b32946a260bcd3ff52-19401   \n2    0x66bf36dba79d4606039f04b32946a260bcd3ff52-19400   \n3    0x66bf36dba79d4606039f04b32946a260bcd3ff52-19399   \n4    0x66bf36dba79d4606039f04b32946a260bcd3ff52-19398   \n..                                                ...   \n72   0x66bf36dba79d4606039f04b32946a260bcd3ff52-19330   \n73   0x66bf36dba79d4606039f04b32946a260bcd3ff52-19329   \n74   0x66bf36dba79d4606039f04b32946a260bcd3ff52-19328   \n75   0x66bf36dba79d4606039f04b32946a260bcd3ff52-19327   \n76   0x66bf36dba79d4606039f04b32946a260bcd3ff52-19326   \n\n    pairPerDays_feeToProtocolRate  pairPerDays_exchangeRate  \\\n0                               0           361722603166047   \n1                               0           361722603166047   \n2                               0           378555412205106   \n3                               0           371588713173683   \n4                               0           377188472125277   \n..                            ...                       ...   \n72                              0           416982985435782   \n73                              0           435238970363534   \n74                              0           424429606966213   \n75                              0           455232217741157   \n76                              0           444954878564299   \n\n   pairPerDays_totalAssetAmount pairPerDays_totalAssetShare  \\\n0     5214478754084957077245512   5149945278165210104338772   \n1     5214478754084957077245512   5149945278165210104338772   \n2     5213593301053638152367912   5149945278165210104338772   \n3     4912412879013939854607085   4853295245502887806145054   \n4     4911010288245155556695770   4852807448574856557058528   \n..                          ...                         ...   \n72    3000265799749067769553552   2999681610314728238726349   \n73    3000407417762830870845360   2999931610314728238726349   \n74    3000316417810236657492429   2999931610314728238726349   \n75    1000250018374254924219488   1000177511746822029696096   \n76                            0                           0   \n\n   pairPerDays_totalCollateral pairPerDays_totalBorrowAmount  \\\n0       2920785897200163201938     3934338506416718401226357   \n1       2920785897200163201938     3934338506416718401226357   \n2       2924565205619252920997     3885387697235926687212071   \n3       2895557877358142227171     3858491275196228389451244   \n4       2891463499070405044980     3811382372367803420789784   \n..                         ...                           ...   \n72      1702267776392927486576     1642246141129997801778847   \n73      1460557767872656691963     1358687420629498588455174   \n74      1298896246642712535146     1287538705363615135157340   \n75          116544304370705257         182127642074859743828   \n76                           0                             0   \n\n   pairPerDays_totalBorrowShare  pairPerDays_interestPerSecond  \\\n0     3873285829567710248046516                     2655789209   \n1     3873285829567710248046516                     2655789209   \n2     3825964183186942371065627                     2625172870   \n3     3800357568493770528965925                     2758282929   \n4     3754848101846442098818921                     2727331303   \n..                          ...                            ...   \n72    1641699764139360487483239                      887806114   \n73    1358333271081056393600317                      797470641   \n74    1287292159028786848067817                      819794982   \n75        182109267819935524340                      158550393   \n76                            0                              0   \n\n    pairPerDays_utilization  ...   pairPerDays_pair_oracleMultiplyAddress_id  \\\n0                     75450  ...  0x0000000000000000000000000000000000000000   \n1                     75450  ...  0x0000000000000000000000000000000000000000   \n2                     74524  ...  0x0000000000000000000000000000000000000000   \n3                     78545  ...  0x0000000000000000000000000000000000000000   \n4                     77608  ...  0x0000000000000000000000000000000000000000   \n..                      ...  ...                                         ...   \n72                    54736  ...  0x0000000000000000000000000000000000000000   \n73                    45283  ...  0x0000000000000000000000000000000000000000   \n74                    42913  ...  0x0000000000000000000000000000000000000000   \n75                       18  ...  0x0000000000000000000000000000000000000000   \n76                        0  ...  0x0000000000000000000000000000000000000000   \n\n       pairPerDays_pair_oracleDivideAddress_id  \\\n0   0xe893297a9d4310976424fd0b25f53ac2b6464fe3   \n1   0xe893297a9d4310976424fd0b25f53ac2b6464fe3   \n2   0xe893297a9d4310976424fd0b25f53ac2b6464fe3   \n3   0xe893297a9d4310976424fd0b25f53ac2b6464fe3   \n4   0xe893297a9d4310976424fd0b25f53ac2b6464fe3   \n..                                         ...   \n72  0xe893297a9d4310976424fd0b25f53ac2b6464fe3   \n73  0xe893297a9d4310976424fd0b25f53ac2b6464fe3   \n74  0xe893297a9d4310976424fd0b25f53ac2b6464fe3   \n75  0xe893297a9d4310976424fd0b25f53ac2b6464fe3   \n76  0xe893297a9d4310976424fd0b25f53ac2b6464fe3   \n\n              pairPerDays_pair_rateContract_id  pairPerDays_pair_maxLTV  \\\n0   0x18500cb1f2fe7a40ebda393383a0b8548a31f261                    75000   \n1   0x18500cb1f2fe7a40ebda393383a0b8548a31f261                    75000   \n2   0x18500cb1f2fe7a40ebda393383a0b8548a31f261                    75000   \n3   0x18500cb1f2fe7a40ebda393383a0b8548a31f261                    75000   \n4   0x18500cb1f2fe7a40ebda393383a0b8548a31f261                    75000   \n..                                         ...                      ...   \n72  0x18500cb1f2fe7a40ebda393383a0b8548a31f261                    75000   \n73  0x18500cb1f2fe7a40ebda393383a0b8548a31f261                    75000   \n74  0x18500cb1f2fe7a40ebda393383a0b8548a31f261                    75000   \n75  0x18500cb1f2fe7a40ebda393383a0b8548a31f261                    75000   \n76  0x18500cb1f2fe7a40ebda393383a0b8548a31f261                    75000   \n\n    pairPerDays_pair_liquidationFee pairPerDays_pair_maturity  \\\n0                             10000                         0   \n1                             10000                         0   \n2                             10000                         0   \n3                             10000                         0   \n4                             10000                         0   \n..                              ...                       ...   \n72                            10000                         0   \n73                            10000                         0   \n74                            10000                         0   \n75                            10000                         0   \n76                            10000                         0   \n\n   pairPerDays_pair_pauseStatus pairPerDays_pair_lenderWhitelistActive  \\\n0                         False                                  False   \n1                         False                                  False   \n2                         False                                  False   \n3                         False                                  False   \n4                         False                                  False   \n..                          ...                                    ...   \n72                        False                                  False   \n73                        False                                  False   \n74                        False                                  False   \n75                        False                                  False   \n76                        False                                  False   \n\n   pairPerDays_pair_borrowerWhitelistActive            dateTime  \n0                                     False 2023-02-13 21:52:23  \n1                                     False 2023-02-13 21:52:23  \n2                                     False 2023-02-12 21:56:35  \n3                                     False 2023-02-11 13:14:23  \n4                                     False 2023-02-10 22:42:47  \n..                                      ...                 ...  \n72                                    False 2022-12-04 23:12:59  \n73                                    False 2022-12-03 23:30:59  \n74                                    False 2022-12-02 23:55:59  \n75                                    False 2022-12-01 21:30:47  \n76                                    False 2022-11-30 18:49:35  \n\n[77 rows x 34 columns]",
      "text/html": "<div>\n<style scoped>\n    .dataframe tbody tr th:only-of-type {\n        vertical-align: middle;\n    }\n\n    .dataframe tbody tr th {\n        vertical-align: top;\n    }\n\n    .dataframe thead th {\n        text-align: right;\n    }\n</style>\n<table border=\"1\" class=\"dataframe\">\n  <thead>\n    <tr style=\"text-align: right;\">\n      <th></th>\n      <th>pairPerDays_id</th>\n      <th>pairPerDays_feeToProtocolRate</th>\n      <th>pairPerDays_exchangeRate</th>\n      <th>pairPerDays_totalAssetAmount</th>\n      <th>pairPerDays_totalAssetShare</th>\n      <th>pairPerDays_totalCollateral</th>\n      <th>pairPerDays_totalBorrowAmount</th>\n      <th>pairPerDays_totalBorrowShare</th>\n      <th>pairPerDays_interestPerSecond</th>\n      <th>pairPerDays_utilization</th>\n      <th>...</th>\n      <th>pairPerDays_pair_oracleMultiplyAddress_id</th>\n      <th>pairPerDays_pair_oracleDivideAddress_id</th>\n      <th>pairPerDays_pair_rateContract_id</th>\n      <th>pairPerDays_pair_maxLTV</th>\n      <th>pairPerDays_pair_liquidationFee</th>\n      <th>pairPerDays_pair_maturity</th>\n      <th>pairPerDays_pair_pauseStatus</th>\n      <th>pairPerDays_pair_lenderWhitelistActive</th>\n      <th>pairPerDays_pair_borrowerWhitelistActive</th>\n      <th>dateTime</th>\n    </tr>\n  </thead>\n  <tbody>\n    <tr>\n      <th>0</th>\n      <td>0x66bf36dba79d4606039f04b32946a260bcd3ff52-Recent</td>\n      <td>0</td>\n      <td>361722603166047</td>\n      <td>5214478754084957077245512</td>\n      <td>5149945278165210104338772</td>\n      <td>2920785897200163201938</td>\n      <td>3934338506416718401226357</td>\n      <td>3873285829567710248046516</td>\n      <td>2655789209</td>\n      <td>75450</td>\n      <td>...</td>\n      <td>0x0000000000000000000000000000000000000000</td>\n      <td>0xe893297a9d4310976424fd0b25f53ac2b6464fe3</td>\n      <td>0x18500cb1f2fe7a40ebda393383a0b8548a31f261</td>\n      <td>75000</td>\n      <td>10000</td>\n      <td>0</td>\n      <td>False</td>\n      <td>False</td>\n      <td>False</td>\n      <td>2023-02-13 21:52:23</td>\n    </tr>\n    <tr>\n      <th>1</th>\n      <td>0x66bf36dba79d4606039f04b32946a260bcd3ff52-19401</td>\n      <td>0</td>\n      <td>361722603166047</td>\n      <td>5214478754084957077245512</td>\n      <td>5149945278165210104338772</td>\n      <td>2920785897200163201938</td>\n      <td>3934338506416718401226357</td>\n      <td>3873285829567710248046516</td>\n      <td>2655789209</td>\n      <td>75450</td>\n      <td>...</td>\n      <td>0x0000000000000000000000000000000000000000</td>\n      <td>0xe893297a9d4310976424fd0b25f53ac2b6464fe3</td>\n      <td>0x18500cb1f2fe7a40ebda393383a0b8548a31f261</td>\n      <td>75000</td>\n      <td>10000</td>\n      <td>0</td>\n      <td>False</td>\n      <td>False</td>\n      <td>False</td>\n      <td>2023-02-13 21:52:23</td>\n    </tr>\n    <tr>\n      <th>2</th>\n      <td>0x66bf36dba79d4606039f04b32946a260bcd3ff52-19400</td>\n      <td>0</td>\n      <td>378555412205106</td>\n      <td>5213593301053638152367912</td>\n      <td>5149945278165210104338772</td>\n      <td>2924565205619252920997</td>\n      <td>3885387697235926687212071</td>\n      <td>3825964183186942371065627</td>\n      <td>2625172870</td>\n      <td>74524</td>\n      <td>...</td>\n      <td>0x0000000000000000000000000000000000000000</td>\n      <td>0xe893297a9d4310976424fd0b25f53ac2b6464fe3</td>\n      <td>0x18500cb1f2fe7a40ebda393383a0b8548a31f261</td>\n      <td>75000</td>\n      <td>10000</td>\n      <td>0</td>\n      <td>False</td>\n      <td>False</td>\n      <td>False</td>\n      <td>2023-02-12 21:56:35</td>\n    </tr>\n    <tr>\n      <th>3</th>\n      <td>0x66bf36dba79d4606039f04b32946a260bcd3ff52-19399</td>\n      <td>0</td>\n      <td>371588713173683</td>\n      <td>4912412879013939854607085</td>\n      <td>4853295245502887806145054</td>\n      <td>2895557877358142227171</td>\n      <td>3858491275196228389451244</td>\n      <td>3800357568493770528965925</td>\n      <td>2758282929</td>\n      <td>78545</td>\n      <td>...</td>\n      <td>0x0000000000000000000000000000000000000000</td>\n      <td>0xe893297a9d4310976424fd0b25f53ac2b6464fe3</td>\n      <td>0x18500cb1f2fe7a40ebda393383a0b8548a31f261</td>\n      <td>75000</td>\n      <td>10000</td>\n      <td>0</td>\n      <td>False</td>\n      <td>False</td>\n      <td>False</td>\n      <td>2023-02-11 13:14:23</td>\n    </tr>\n    <tr>\n      <th>4</th>\n      <td>0x66bf36dba79d4606039f04b32946a260bcd3ff52-19398</td>\n      <td>0</td>\n      <td>377188472125277</td>\n      <td>4911010288245155556695770</td>\n      <td>4852807448574856557058528</td>\n      <td>2891463499070405044980</td>\n      <td>3811382372367803420789784</td>\n      <td>3754848101846442098818921</td>\n      <td>2727331303</td>\n      <td>77608</td>\n      <td>...</td>\n      <td>0x0000000000000000000000000000000000000000</td>\n      <td>0xe893297a9d4310976424fd0b25f53ac2b6464fe3</td>\n      <td>0x18500cb1f2fe7a40ebda393383a0b8548a31f261</td>\n      <td>75000</td>\n      <td>10000</td>\n      <td>0</td>\n      <td>False</td>\n      <td>False</td>\n      <td>False</td>\n      <td>2023-02-10 22:42:47</td>\n    </tr>\n    <tr>\n      <th>...</th>\n      <td>...</td>\n      <td>...</td>\n      <td>...</td>\n      <td>...</td>\n      <td>...</td>\n      <td>...</td>\n      <td>...</td>\n      <td>...</td>\n      <td>...</td>\n      <td>...</td>\n      <td>...</td>\n      <td>...</td>\n      <td>...</td>\n      <td>...</td>\n      <td>...</td>\n      <td>...</td>\n      <td>...</td>\n      <td>...</td>\n      <td>...</td>\n      <td>...</td>\n      <td>...</td>\n    </tr>\n    <tr>\n      <th>72</th>\n      <td>0x66bf36dba79d4606039f04b32946a260bcd3ff52-19330</td>\n      <td>0</td>\n      <td>416982985435782</td>\n      <td>3000265799749067769553552</td>\n      <td>2999681610314728238726349</td>\n      <td>1702267776392927486576</td>\n      <td>1642246141129997801778847</td>\n      <td>1641699764139360487483239</td>\n      <td>887806114</td>\n      <td>54736</td>\n      <td>...</td>\n      <td>0x0000000000000000000000000000000000000000</td>\n      <td>0xe893297a9d4310976424fd0b25f53ac2b6464fe3</td>\n      <td>0x18500cb1f2fe7a40ebda393383a0b8548a31f261</td>\n      <td>75000</td>\n      <td>10000</td>\n      <td>0</td>\n      <td>False</td>\n      <td>False</td>\n      <td>False</td>\n      <td>2022-12-04 23:12:59</td>\n    </tr>\n    <tr>\n      <th>73</th>\n      <td>0x66bf36dba79d4606039f04b32946a260bcd3ff52-19329</td>\n      <td>0</td>\n      <td>435238970363534</td>\n      <td>3000407417762830870845360</td>\n      <td>2999931610314728238726349</td>\n      <td>1460557767872656691963</td>\n      <td>1358687420629498588455174</td>\n      <td>1358333271081056393600317</td>\n      <td>797470641</td>\n      <td>45283</td>\n      <td>...</td>\n      <td>0x0000000000000000000000000000000000000000</td>\n      <td>0xe893297a9d4310976424fd0b25f53ac2b6464fe3</td>\n      <td>0x18500cb1f2fe7a40ebda393383a0b8548a31f261</td>\n      <td>75000</td>\n      <td>10000</td>\n      <td>0</td>\n      <td>False</td>\n      <td>False</td>\n      <td>False</td>\n      <td>2022-12-03 23:30:59</td>\n    </tr>\n    <tr>\n      <th>74</th>\n      <td>0x66bf36dba79d4606039f04b32946a260bcd3ff52-19328</td>\n      <td>0</td>\n      <td>424429606966213</td>\n      <td>3000316417810236657492429</td>\n      <td>2999931610314728238726349</td>\n      <td>1298896246642712535146</td>\n      <td>1287538705363615135157340</td>\n      <td>1287292159028786848067817</td>\n      <td>819794982</td>\n      <td>42913</td>\n      <td>...</td>\n      <td>0x0000000000000000000000000000000000000000</td>\n      <td>0xe893297a9d4310976424fd0b25f53ac2b6464fe3</td>\n      <td>0x18500cb1f2fe7a40ebda393383a0b8548a31f261</td>\n      <td>75000</td>\n      <td>10000</td>\n      <td>0</td>\n      <td>False</td>\n      <td>False</td>\n      <td>False</td>\n      <td>2022-12-02 23:55:59</td>\n    </tr>\n    <tr>\n      <th>75</th>\n      <td>0x66bf36dba79d4606039f04b32946a260bcd3ff52-19327</td>\n      <td>0</td>\n      <td>455232217741157</td>\n      <td>1000250018374254924219488</td>\n      <td>1000177511746822029696096</td>\n      <td>116544304370705257</td>\n      <td>182127642074859743828</td>\n      <td>182109267819935524340</td>\n      <td>158550393</td>\n      <td>18</td>\n      <td>...</td>\n      <td>0x0000000000000000000000000000000000000000</td>\n      <td>0xe893297a9d4310976424fd0b25f53ac2b6464fe3</td>\n      <td>0x18500cb1f2fe7a40ebda393383a0b8548a31f261</td>\n      <td>75000</td>\n      <td>10000</td>\n      <td>0</td>\n      <td>False</td>\n      <td>False</td>\n      <td>False</td>\n      <td>2022-12-01 21:30:47</td>\n    </tr>\n    <tr>\n      <th>76</th>\n      <td>0x66bf36dba79d4606039f04b32946a260bcd3ff52-19326</td>\n      <td>0</td>\n      <td>444954878564299</td>\n      <td>0</td>\n      <td>0</td>\n      <td>0</td>\n      <td>0</td>\n      <td>0</td>\n      <td>0</td>\n      <td>0</td>\n      <td>...</td>\n      <td>0x0000000000000000000000000000000000000000</td>\n      <td>0xe893297a9d4310976424fd0b25f53ac2b6464fe3</td>\n      <td>0x18500cb1f2fe7a40ebda393383a0b8548a31f261</td>\n      <td>75000</td>\n      <td>10000</td>\n      <td>0</td>\n      <td>False</td>\n      <td>False</td>\n      <td>False</td>\n      <td>2022-11-30 18:49:35</td>\n    </tr>\n  </tbody>\n</table>\n<p>77 rows × 34 columns</p>\n</div>"
     },
     "execution_count": 56,
     "metadata": {},
     "output_type": "execute_result"
    }
   ],
   "source": [
    "fraxPairSnapshotsDbTimed= db.query(\"select \"\n",
    "                   \"    * \"\n",
    "                        \" ,to_timestamp(pairPerDays_timestamp) dateTime \"\n",
    "                   \"From pairSnapshotsDb \"\n",
    "                   #\"where lower(liquidityPools_name) like lower('%olympus%') \"\n",
    "                    #    \"or lower(pairs_token1_symbol) like lower('%OHM%')  \"\n",
    "                   #\" limit 100 \"\n",
    "                   ).df()\n",
    "fraxPairSnapshotsDbTimed.head(1000)"
   ],
   "metadata": {
    "collapsed": false
   }
  },
  {
   "cell_type": "markdown",
   "source": [
    "*************************************************************************\n",
    "SILO - ah turns out we haven't launched yet as of 02/11"
   ],
   "metadata": {
    "collapsed": false
   }
  },
  {
   "cell_type": "code",
   "execution_count": null,
   "outputs": [],
   "source": [
    "siloInterestDailySnapshotTicker = 0\n",
    "siloInterestDailySnapshotslist = pd.DataFrame()\n",
    "siloInterestDailySnapshotsDb = pd.DataFrame()\n",
    "siloInterestDailySnapshotListLength = 1000\n",
    "datediff = 0\n",
    "now=0\n",
    "daysAgo=0\n",
    "daysLimit = 45\n",
    "exit = False\n",
    "while exit==False:\n",
    "    skipValue = (siloInterestDailySnapshotTicker)*(1000)\n",
    "    siloInterestDailySnapshots = silo.Query.interestRateDailies(\n",
    "        orderBy='timestamp',\n",
    "        orderDirection='desc',\n",
    "        first=1000,\n",
    "        skip= skipValue,\n",
    "        #where={ 'market': '0xc413dd03555f3eb29d834b482d386b2999dc2eb0' } #gOHM market\n",
    "        #where = {'day': 19400, 'timestamp':1676160000}\n",
    "        where = {'interestRate_in': ['LENDER-VARIABLE-0xf5ffabab8f9a6f4f6de1f0dd6e0820f68657d7db-0xd7c9f0e536dc865ae858b0c0453fe76d13c3beac','LENDER-VARIABLE-0xf5ffabab8f9a6f4f6de1f0dd6e0820f68657d7db-0xc02aaa39b223fe8d0a0e5c4f27ead9083c756cc2','LENDER-VARIABLE-0xf5ffabab8f9a6f4f6de1f0dd6e0820f68657d7db-0x64aa3364f17a4d01c6f1751fd97c2bd3d7e7f1d5','LENDER-VARIABLE-0xc413dd03555f3eb29d834b482d386b2999dc2eb0-0xd7c9f0e536dc865ae858b0c0453fe76d13c3beac','LENDER-VARIABLE-0xc413dd03555f3eb29d834b482d386b2999dc2eb0-0xc02aaa39b223fe8d0a0e5c4f27ead9083c756cc2','LENDER-VARIABLE-0xc413dd03555f3eb29d834b482d386b2999dc2eb0-0x0ab87046fbb341d058f17cbc4c1133f25a20a52f','BORROWER-VARIABLE-0xf5ffabab8f9a6f4f6de1f0dd6e0820f68657d7db-0xd7c9f0e536dc865ae858b0c0453fe76d13c3beac','BORROWER-VARIABLE-0xf5ffabab8f9a6f4f6de1f0dd6e0820f68657d7db-0xc02aaa39b223fe8d0a0e5c4f27ead9083c756cc2','BORROWER-VARIABLE-0xf5ffabab8f9a6f4f6de1f0dd6e0820f68657d7db-0x64aa3364f17a4d01c6f1751fd97c2bd3d7e7f1d5','BORROWER-VARIABLE-0xc413dd03555f3eb29d834b482d386b2999dc2eb0-0xd7c9f0e536dc865ae858b0c0453fe76d13c3beac','BORROWER-VARIABLE-0xc413dd03555f3eb29d834b482d386b2999dc2eb0-0xc02aaa39b223fe8d0a0e5c4f27ead9083c756cc2']}\n",
    "    )\n",
    "\n",
    "    siloInterestDailySnapshotslist = sg.query_df([\n",
    "        siloInterestDailySnapshots.interestRate.market.name\n",
    "        ,siloInterestDailySnapshots.id\n",
    "        ,siloInterestDailySnapshots.day\n",
    "        ,siloInterestDailySnapshots.timestamp\n",
    "        ,siloInterestDailySnapshots.rateLast #The most recent rate recorded or last for the day\n",
    "        ,siloInterestDailySnapshots.rateHigh #Highest the rate was for the day\n",
    "        ,siloInterestDailySnapshots.rateLow\n",
    "        ,siloInterestDailySnapshots.rateAvg  #Interest rate in percentage APY. E.g. 5.21% should be stored as 5.21\n",
    "        ,siloInterestDailySnapshots.interestRate.side\n",
    "        ,siloInterestDailySnapshots.interestRate.type\n",
    "    ])\n",
    "\n",
    "    #siloInterestDailySnapshotslist.sort_values(by=['siloInterestDailySnapshots_timestamp'])\n",
    "\n",
    "    siloInterestDailySnapshotsDb=pd.concat([siloInterestDailySnapshotsDb, siloInterestDailySnapshotslist])\n",
    "    recordTimestamp1 = siloInterestDailySnapshotsDb.iat[siloInterestDailySnapshotTicker,3]\n",
    "    recordTimestamp = dt.datetime.fromtimestamp( recordTimestamp1 )\n",
    "    now = (int(dt.datetime.utcnow().timestamp()))\n",
    "    datediff=abs(int(now) - recordTimestamp1)\n",
    "    daysAgo = int(datediff/86400)\n",
    "    siloInterestDailySnapshotsDbLength = len(siloInterestDailySnapshotsDb)\n",
    "    siloInterestDailySnapshotListLength = len(siloInterestDailySnapshotslist)\n",
    "    recordID = siloInterestDailySnapshotsDb.iat[siloInterestDailySnapshotTicker,0]\n",
    "    siloInterestDailySnapshot = siloInterestDailySnapshotsDb.iat[siloInterestDailySnapshotTicker,1]\n",
    "    print(\"iterations: \", siloInterestDailySnapshotTicker, \"Lines skipped: \",skipValue, \"records collected: \", siloInterestDailySnapshotListLength, \" - latest recordID: \",siloInterestDailySnapshot, \" \", recordID , \" - siloInterestDailySnapshots DB length: \", siloInterestDailySnapshotsDbLength, \" - latest record from: \", recordTimestamp, daysAgo,\"days ago\")\n",
    "    #print(\"iterations: \", siloInterestDailySnapshotTicker, \"records collected: \", siloInterestDailySnapshotListLength, \" - userdb length: \", siloInterestDailySnapshotsDbLength)\n",
    "    siloInterestDailySnapshotTicker = siloInterestDailySnapshotTicker+1\n",
    "\n",
    "    if daysAgo>daysLimit: exit =True\n",
    "    if siloInterestDailySnapshotListLength<1000: exit =True\n",
    "print(\"Done. Total Records collected: \", siloInterestDailySnapshotsDbLength)"
   ],
   "metadata": {
    "collapsed": false
   }
  },
  {
   "cell_type": "code",
   "execution_count": null,
   "outputs": [],
   "source": [
    "print(len(siloInterestDailySnapshotsDb))\n",
    "siloInterestDailySnapshotsDb.drop_duplicates\n",
    "print(len(siloInterestDailySnapshotsDb))"
   ],
   "metadata": {
    "collapsed": false
   }
  },
  {
   "cell_type": "code",
   "execution_count": null,
   "outputs": [],
   "source": [
    "siloInterestDailySnapshotsDbTimed= db.query(\"select \"\n",
    "                   \"    * \"\n",
    "                        \" ,to_timestamp(interestRateDailies_timestamp) dateTime \"\n",
    "                   \"From siloInterestDailySnapshotsDb \"\n",
    "                   #\"where lower(liquidityPools_name) like lower('%olympus%') \"\n",
    "                    #    \"or lower(pairs_token1_symbol) like lower('%OHM%')  \"\n",
    "                   #\" limit 100 \"\n",
    "                   ).df()\n",
    "siloInterestDailySnapshotsDbTimed.head(1000)"
   ],
   "metadata": {
    "collapsed": false
   }
  },
  {
   "cell_type": "code",
   "execution_count": null,
   "outputs": [],
   "source": [
    "siloInterestDailySnapshotsDbTimedLength = len(siloInterestDailySnapshotsDbTimed)\n",
    "path =file+'/siloInterestDailySnapshotsDbTimedLength_'+str(dt.datetime.today().strftime(\"%b-%d-%Y\"))+\"_\"+str(siloInterestDailySnapshotsDbTimedLength)+'_records.csv'\n",
    "siloInterestDailySnapshotsDbTimed.to_csv(path, index = False)\n",
    "\n",
    "path =file+'/siloInterestDailySnapshotsDbTimedLength_'+str(dt.datetime.today().strftime(\"%b-%d-%Y\"))+\"_\"+str(siloInterestDailySnapshotsDbTimedLength)+'_records_piped.csv'\n",
    "siloInterestDailySnapshotsDbTimed.to_csv(path, index = False, sep='|')\n",
    "print('file saved')"
   ],
   "metadata": {
    "collapsed": false
   }
  },
  {
   "cell_type": "code",
   "execution_count": null,
   "outputs": [],
   "source": [
    "siloDailySnapshot = silo.Query.marketDailySnapshots(\n",
    "    orderBy='timestamp',\n",
    "    orderDirection='desc',\n",
    "    first=10,\n",
    "    #skip = skipValue,\n",
    "    where={              'market':'0xc413dd03555f3eb29d834b482d386b2999dc2eb0'            } #gOHM market\n",
    "    #where={              'market':'0xfccc27aabd0ab7a0b2ad2b7760037b1eab61616b'            } #DAI for testing\n",
    "    #0x0ab87046fbb341d058f17cbc4c1133f25a20a52f\n",
    ")\n",
    "\n",
    "siloDailySnapshotslist = sg.query_df([\n",
    "    siloDailySnapshot.protocol.name\n",
    "    ,siloDailySnapshot.protocol.type\n",
    "    ,siloDailySnapshot.protocol.cumulativeUniqueUsers\n",
    "    ,siloDailySnapshot.protocol.cumulativeUniqueDepositors\n",
    "    ,siloDailySnapshot.protocol.cumulativeUniqueBorrowers\n",
    "    ,siloDailySnapshot.protocol.cumulativeUniqueLiquidators\n",
    "    ,siloDailySnapshot.protocol.cumulativeUniqueLiquidatees\n",
    "    ,siloDailySnapshot.protocol.totalValueLockedUSD\n",
    "    ,siloDailySnapshot.protocol.protocolControlledValueUSD\n",
    "    ,siloDailySnapshot.protocol.cumulativeSupplySideRevenueUSD\n",
    "    ,siloDailySnapshot.protocol.cumulativeProtocolSideRevenueUSD\n",
    "    ,siloDailySnapshot.protocol.cumulativeTotalRevenueUSD\n",
    "    ,siloDailySnapshot.protocol.totalDepositBalanceUSD\n",
    "    ,siloDailySnapshot.protocol.cumulativeDepositUSD\n",
    "    ,siloDailySnapshot.protocol.cumulativeWithdrawUSD\n",
    "    ,siloDailySnapshot.protocol.totalBorrowBalanceUSD\n",
    "    ,siloDailySnapshot.protocol.totalBorrowBalanceUSD\n",
    "    ,siloDailySnapshot.protocol.cumulativeLiquidateUSD\n",
    "    ,siloDailySnapshot.protocol.creditSupply\n",
    "    ,siloDailySnapshot.protocol.creditUtilized\n",
    "    ,siloDailySnapshot.market.id\n",
    "    ,siloDailySnapshot.market.name\n",
    "    ,siloDailySnapshot.market.totalValueLockedUSD\n",
    "    #,siloDailySnapshot.market.totalControlledValueUSD\n",
    "    ,siloDailySnapshot.market.cumulativeSupplySideRevenueUSD\n",
    "    ,siloDailySnapshot.market.cumulativeTotalRevenueUSD\n",
    "    ,siloDailySnapshot.market.cumulativeSupplySideRevenueUSD\n",
    "    ,siloDailySnapshot.market.cumulativeProtocolSideRevenueUSD\n",
    "    ,siloDailySnapshot.market.totalDepositBalanceUSD\n",
    "    ,siloDailySnapshot.market.cumulativeDepositUSD\n",
    "    ,siloDailySnapshot.market.totalBorrowBalanceUSD\n",
    "    ,siloDailySnapshot.market.cumulativeBorrowUSD\n",
    "    ,siloDailySnapshot.market.cumulativeLiquidateUSD\n",
    "    ,siloDailySnapshot.market.creditSupply\n",
    "    ,siloDailySnapshot.market.creditUtilized\n",
    "    ,siloDailySnapshot.timestamp\n",
    "])\n",
    "\n",
    "siloDailySnapshotslistTimed= db.query(\"select \"\n",
    "                   \"    * \"\n",
    "                        \" ,to_timestamp(marketDailySnapshots_timestamp) dateTime \"\n",
    "                   \"From siloDailySnapshotslist \"\n",
    "                   #\"where lower(liquidityPools_name) like lower('%olympus%') \"\n",
    "                    #    \"or lower(pairs_token1_symbol) like lower('%OHM%')  \"\n",
    "                   #\" limit 100 \"\n",
    "                   ).df()\n",
    "siloDailySnapshotslistTimed.drop_duplicates\n",
    "siloDailySnapshotslistTimed.head(1000)"
   ],
   "metadata": {
    "collapsed": false
   }
  },
  {
   "cell_type": "code",
   "execution_count": null,
   "outputs": [],
   "source": [
    "siloDailySnapshot = silo.Query.marketDailySnapshots(\n",
    "    orderBy='timestamp',\n",
    "    orderDirection='desc',\n",
    "    #first=1000,\n",
    "    #skip = skipValue,\n",
    "    where={ 'id': '0xc413dd03555f3eb29d834b482d386b2999dc2eb0-19398'\n",
    "            ,'protocol':'0xd998c35b7900b344bbbe6555cc11576942cf309d'\n",
    "            #,'market':'gOHM'\n",
    "            } #gOHM market\n",
    "    #0x0ab87046fbb341d058f17cbc4c1133f25a20a52f\n",
    ")\n",
    "\n",
    "siloDailySnapshotslist = sg.query_df([\n",
    "    siloDailySnapshot.id\n",
    "    ,siloDailySnapshot.protocol\n",
    "    ,siloDailySnapshot.market\n",
    "    ,siloDailySnapshot.timestamp\n",
    "])\n",
    "siloDailySnapshotslist.head(10)"
   ],
   "metadata": {
    "collapsed": false
   }
  },
  {
   "cell_type": "markdown",
   "source": [
    "*****************************************************\n",
    "THIS... IS.... VESTAAAAAAAAAAA!!\n",
    "(kick)"
   ],
   "metadata": {
    "collapsed": false
   }
  },
  {
   "cell_type": "code",
   "execution_count": null,
   "outputs": [],
   "source": [
    "##this captures the ENTIRE list of people who vestaDailySnapshoted XAI against gOHM\n",
    "vestaDailySnapshotTicker = 0\n",
    "vestaDailySnapshotslist = pd.DataFrame()\n",
    "vestaDailySnapshotsDb = pd.DataFrame()\n",
    "vestaDailySnapshotListLength = 1000\n",
    "datediff = 0\n",
    "now=0\n",
    "daysAgo=0\n",
    "daysLimit = 45\n",
    "exit = False\n",
    "while exit==False:\n",
    "    skipValue = (vestaDailySnapshotTicker)*(1000)\n",
    "    vestaDailySnapshots = vesta.Query.MarketDailySnapshot(\n",
    "        orderBy='timestamp',\n",
    "        orderDirection='desc',\n",
    "        first=1000,\n",
    "        skip = skipValue,\n",
    "        where={ 'market': '0x8d9ba570d6cb60c7e3e0f31343efe75ab8e65fb1' } #gOHM market\n",
    "\n",
    "    )\n",
    "\n",
    "    vestaDailySnapshotslist = sg.query_df([\n",
    "        vestaDailySnapshots.id\n",
    "        ,vestaDailySnapshots.market\n",
    "        ,vestaDailySnapshots.rates\n",
    "    ])\n",
    "\n",
    "    #vestaDailySnapshotslist.sort_values(by=['vestaDailySnapshots_timestamp'])\n",
    "\n",
    "    vestaDailySnapshotsDb=pd.concat([vestaDailySnapshotsDb, vestaDailySnapshotslist])\n",
    "    recordTimestamp1 = vestaDailySnapshotsDb.iat[vestaDailySnapshotTicker,2]\n",
    "    recordTimestamp = dt.datetime.fromtimestamp( recordTimestamp1 )\n",
    "    now = (int(dt.datetime.utcnow().timestamp()))\n",
    "    datediff=abs(int(now) - recordTimestamp1)\n",
    "    daysAgo = int(datediff/86400)\n",
    "    vestaDailySnapshotsDbLength = len(vestaDailySnapshotsDb)\n",
    "    vestaDailySnapshotListLength = len(vestaDailySnapshotslist)\n",
    "    recordID = vestaDailySnapshotsDb.iat[vestaDailySnapshotTicker,0]\n",
    "    vestaDailySnapshot = vestaDailySnapshotsDb.iat[vestaDailySnapshotTicker,1]\n",
    "    print(\"iterations: \", vestaDailySnapshotTicker, \"Lines skipped: \",skipValue, \"records collected: \", vestaDailySnapshotListLength, \" - latest recordID: \",vestaDailySnapshot, \" \", recordID , \" - vestaDailySnapshots DB length: \", vestaDailySnapshotsDbLength, \" - latest record from: \", recordTimestamp, daysAgo,\"days ago\")\n",
    "    #print(\"iterations: \", vestaDailySnapshotTicker, \"records collected: \", vestaDailySnapshotListLength, \" - userdb length: \", vestaDailySnapshotsDbLength)\n",
    "    vestaDailySnapshotTicker = vestaDailySnapshotTicker+1\n",
    "\n",
    "    if daysAgo>daysLimit: exit =True\n",
    "    if vestaDailySnapshotListLength<1000: exit =True\n",
    "\n",
    "\n",
    "vestaDailySnapshotsDb.columns = vestaDailySnapshotsDb.columns.str.replace(\"vestaDailySnapshots\", \"transaction\")\n",
    "vestaDailySnapshotsDb['event']='vestaDailySnapshot'\n",
    "print(\"Done. Total Records collected: \", vestaDailySnapshotsDbLength)"
   ],
   "metadata": {
    "collapsed": false
   }
  },
  {
   "cell_type": "code",
   "execution_count": null,
   "outputs": [],
   "source": [
    "vestaDailySnapshots = vesta.Query.marketDailySnapshots(\n",
    "    orderBy='timestamp',\n",
    "    orderDirection='desc',\n",
    "    first=1000,\n",
    "    #where={ 'market': '0x8d9ba570d6cb60c7e3e0f31343efe75ab8e65fb1' } #gOHM market\n",
    "    #WHERE = {'interestRateDailies.interestRate.market.name': 'XAI'}\n",
    "    #where = {'marketDailySnapshots.market.name': 'Olympus Governance Token'}\n",
    ")\n",
    "\n",
    "vestaDailySnapshotslist = sg.query_df([\n",
    "    vestaDailySnapshots.id\n",
    "    ,vestaDailySnapshots.timestamp\n",
    "    ,vestaDailySnapshots.market\n",
    "    ,vestaDailySnapshots.rates\n",
    "    ,vestaDailySnapshots.totalValueLockedUSD\n",
    "    ,vestaDailySnapshots.dailyBorrowUSD\n",
    "    ,vestaDailySnapshots.dailyDepositUSD\n",
    "    ,vestaDailySnapshots.dailyBorrowUSD\n",
    "    ,vestaDailySnapshots.dailyProtocolSideRevenueUSD\n",
    "    ,vestaDailySnapshots.cumulativeProtocolSideRevenueUSD\n",
    "\n",
    "\n",
    "\n",
    "\n",
    "],\n",
    "#pagination_strategy=ShallowStrategy\n",
    ")\n",
    "vestaDailySnapshotslist.head(1000)"
   ],
   "metadata": {
    "collapsed": false
   }
  },
  {
   "cell_type": "code",
   "execution_count": null,
   "outputs": [],
   "source": [],
   "metadata": {
    "collapsed": false
   }
  },
  {
   "cell_type": "code",
   "execution_count": null,
   "outputs": [],
   "source": [
    "##Loan LEngth\n",
    "fraxLoanLengthDB = db.query(\"select distinct \"\n",
    "                        \"    A.actions_root_id \"\n",
    "                            \",sum(A.actions_amountUSD) totalBorrowed \"\n",
    "                            \",sum(B.actions_amountUSD) totalRepaid \"\n",
    "                            \" ,sum(A.actions_amountUSD) - sum(B.actions_amountUSD) balance \"\n",
    "                        #\" ,date_diff('day',date_trunc('day',A.dateTime), date_trunc('day',B.dateTime)) datediff \"\n",
    "                   \"From fraxBorrowsDb A \"\n",
    "                            \"Join fraxRepaysDb B on A.actions_root_id = B.actions_root_id\"\n",
    "                   #\"where lower(liquidityPools_name) like lower('%olympus%') \"\n",
    "                    #    \"or lower(pairs_token1_symbol) like lower('%OHM%')  \"\n",
    "                   \" group by 1 \"\n",
    "                   \" limit 100 \"\n",
    "                   ).df()\n",
    "\n",
    "\n",
    "fraxLoanLengthDB.head(10)\n"
   ],
   "metadata": {
    "collapsed": false
   }
  },
  {
   "cell_type": "code",
   "execution_count": null,
   "outputs": [],
   "source": [
    "vestaDailySnapshot = vesta.Query.marketDailySnapshots(\n",
    "    orderBy='timestamp',\n",
    "    orderDirection='desc',\n",
    "    first=10,\n",
    "    #skip = skipValue,\n",
    "    where={              'market':'0xc413dd03555f3eb29d834b482d386b2999dc2eb0'            } #gOHM market\n",
    "    #where={              'market':'0xfccc27aabd0ab7a0b2ad2b7760037b1eab61616b'            } #DAI for testing\n",
    "    #0x0ab87046fbb341d058f17cbc4c1133f25a20a52f\n",
    ")\n",
    "\n",
    "vestaDailySnapshotslist = sg.query_df([\n",
    "    vestaDailySnapshot.protocol.name\n",
    "    ,vestaDailySnapshot.protocol.type\n",
    "    ,vestaDailySnapshot.protocol.cumulativeUniqueUsers\n",
    "    ,vestaDailySnapshot.protocol.cumulativeUniqueDepositors\n",
    "    ,vestaDailySnapshot.protocol.cumulativeUniqueBorrowers\n",
    "    ,vestaDailySnapshot.protocol.cumulativeUniqueLiquidators\n",
    "    ,vestaDailySnapshot.protocol.cumulativeUniqueLiquidatees\n",
    "    ,vestaDailySnapshot.protocol.totalValueLockedUSD\n",
    "    ,vestaDailySnapshot.protocol.protocolControlledValueUSD\n",
    "    ,vestaDailySnapshot.protocol.cumulativeSupplySideRevenueUSD\n",
    "    ,vestaDailySnapshot.protocol.cumulativeProtocolSideRevenueUSD\n",
    "    ,vestaDailySnapshot.protocol.cumulativeTotalRevenueUSD\n",
    "    ,vestaDailySnapshot.protocol.totalDepositBalanceUSD\n",
    "    ,vestaDailySnapshot.protocol.cumulativeDepositUSD\n",
    "    ,vestaDailySnapshot.protocol.cumulativeWithdrawUSD\n",
    "    ,vestaDailySnapshot.protocol.totalBorrowBalanceUSD\n",
    "    ,vestaDailySnapshot.protocol.totalBorrowBalanceUSD\n",
    "    ,vestaDailySnapshot.protocol.cumulativeLiquidateUSD\n",
    "    ,vestaDailySnapshot.protocol.creditSupply\n",
    "    ,vestaDailySnapshot.protocol.creditUtilized\n",
    "    ,vestaDailySnapshot.market.id\n",
    "    ,vestaDailySnapshot.market.name\n",
    "    ,vestaDailySnapshot.market.totalValueLockedUSD\n",
    "    #,vestaDailySnapshot.market.totalControlledValueUSD\n",
    "    ,vestaDailySnapshot.market.cumulativeSupplySideRevenueUSD\n",
    "    ,vestaDailySnapshot.market.cumulativeTotalRevenueUSD\n",
    "    ,vestaDailySnapshot.market.cumulativeSupplySideRevenueUSD\n",
    "    ,vestaDailySnapshot.market.cumulativeProtocolSideRevenueUSD\n",
    "    ,vestaDailySnapshot.market.totalDepositBalanceUSD\n",
    "    ,vestaDailySnapshot.market.cumulativeDepositUSD\n",
    "    ,vestaDailySnapshot.market.totalBorrowBalanceUSD\n",
    "    ,vestaDailySnapshot.market.cumulativeBorrowUSD\n",
    "    ,vestaDailySnapshot.market.cumulativeLiquidateUSD\n",
    "    ,vestaDailySnapshot.market.creditSupply\n",
    "    ,vestaDailySnapshot.market.creditUtilized\n",
    "    ,vestaDailySnapshot.timestamp\n",
    "])\n",
    "\n",
    "vestaDailySnapshotslistTimed= db.query(\"select \"\n",
    "                   \"    * \"\n",
    "                        \" ,to_timestamp(marketDailySnapshots_timestamp) dateTime \"\n",
    "                   \"From vestaDailySnapshotslist \"\n",
    "                   #\"where lower(liquidityPools_name) like lower('%olympus%') \"\n",
    "                    #    \"or lower(pairs_token1_symbol) like lower('%OHM%')  \"\n",
    "                   #\" limit 100 \"\n",
    "                   ).df()\n",
    "vestaDailySnapshotslistTimed.drop_duplicates\n",
    "vestaDailySnapshotslistTimed.head(1000)"
   ],
   "metadata": {
    "collapsed": false
   }
  },
  {
   "cell_type": "code",
   "execution_count": null,
   "outputs": [],
   "source": [
    "#list of borrowers\n",
    "\n",
    "borrowerList=db.query(\n",
    "    \"select distinct actions_root_id as wallet_address,'frax' as protocol from fraxBorrowsDb \"\n",
    "    \"UNION ALL \"\n",
    "    \"select distinct borrows_account_id as wallet_address , 'vesta' as protocol  from vestaBorrowsDbTimed \"\n",
    "    \"UNION ALL \"\n",
    "    \"select distinct transaction_account_id as wallet_address, 'silo' as protocol from borrowsDbTimed \"\n",
    ").df()\n",
    "\n",
    "borrowerList.head(1000)\n"
   ],
   "metadata": {
    "collapsed": false
   }
  },
  {
   "cell_type": "code",
   "execution_count": null,
   "outputs": [],
   "source": [
    "borrowerListLength = len(borrowerList)\n",
    "path =file+'/borrower_list_'+str(dt.datetime.today().strftime(\"%b-%d-%Y\"))+\"_\"+str(borrowerListLength)+'_records.csv'\n",
    "borrowerList.to_csv(path, index = False)"
   ],
   "metadata": {
    "collapsed": false
   }
  }
 ],
 "metadata": {
  "kernelspec": {
   "display_name": "Python 3",
   "language": "python",
   "name": "python3"
  },
  "language_info": {
   "codemirror_mode": {
    "name": "ipython",
    "version": 2
   },
   "file_extension": ".py",
   "mimetype": "text/x-python",
   "name": "python",
   "nbconvert_exporter": "python",
   "pygments_lexer": "ipython2",
   "version": "2.7.6"
  }
 },
 "nbformat": 4,
 "nbformat_minor": 0
}
