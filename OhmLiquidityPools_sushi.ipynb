{
 "cells": [
  {
   "cell_type": "code",
   "execution_count": 193,
   "metadata": {
    "collapsed": true,
    "pycharm": {
     "name": "#%%\n"
    }
   },
   "outputs": [],
   "source": [
    "from datetime import datetime\n",
    "from datetime import date\n",
    "from subgrounds.subgraph import SyntheticField, FieldPath\n",
    "from subgrounds.subgrounds import Subgrounds\n",
    "import pandas as pd\n",
    "import duckdb as db\n",
    "import  os as os"
   ]
  },
  {
   "cell_type": "markdown",
   "source": [
    "SUshiswap: https://thegraph.com/explorer/subgraphs/7h1x51fyT5KigAhXd8sdE3kzzxQDJxxz1y66LTFiC3mS?view=Playground\n",
    "Curve: https://thegraph.com/explorer/subgraphs/GAGwGKc4ArNKKq9eFTcwgd1UGymvqhTier9Npqo1YvZB?view=Playground\n",
    "Balancer: https://thegraph.com/explorer/subgraphs/GAGwGKc4ArNKKq9eFTcwgd1UGymvqhTier9Npqo1YvZB?view=Overview\n",
    "Uniswap: https://thegraph.com/explorer/subgraphs/ELUcwgpm14LKPLrBRuVvPvNKHQ9HvwmtKgKSH6123cr7?view=Playground"
   ],
   "metadata": {
    "collapsed": false,
    "pycharm": {
     "name": "#%% md\n"
    }
   }
  },
  {
   "cell_type": "code",
   "execution_count": 189,
   "outputs": [],
   "source": [
    "global file\n",
    "file = input('Selet a folder to save output') ##enter your file path here - the file is in the repo \"summary_stats.csv\".\n",
    "raw_file = file"
   ],
   "metadata": {
    "collapsed": false,
    "pycharm": {
     "name": "#%%\n"
    }
   }
  },
  {
   "cell_type": "markdown",
   "source": [
    "Sushiswap Contracts:\n",
    "    '0xfffae4a0f4ac251f4705717cd24cadccc9f33e06'  for Sushiswap OHM/WETH LP\n",
    "    '0x055475920a8c93CfFb64d039A8205F7AcC7722d3' for SushiSwap OHM/DAI LP not found in the same subgraph as above. Why?\n"
   ],
   "metadata": {
    "collapsed": false,
    "pycharm": {
     "name": "#%% md\n"
    }
   }
  },
  {
   "cell_type": "code",
   "execution_count": 288,
   "outputs": [
    {
     "ename": "InvalidInputException",
     "evalue": "Invalid Input Error: Need a DataFrame with at least one column",
     "output_type": "error",
     "traceback": [
      "\u001B[1;31m---------------------------------------------------------------------------\u001B[0m",
      "\u001B[1;31mInvalidInputException\u001B[0m                     Traceback (most recent call last)",
      "Cell \u001B[1;32mIn[288], line 39\u001B[0m\n\u001B[0;32m     10\u001B[0m \u001B[38;5;66;03m#0x04F2694C8fcee23e8Fd0dfEA1d4f5Bb8c352111F\u001B[39;00m\n\u001B[0;32m     12\u001B[0m pool_data6 \u001B[38;5;241m=\u001B[39m sg\u001B[38;5;241m.\u001B[39mquery_df([\n\u001B[0;32m     13\u001B[0m     pools6\u001B[38;5;241m.\u001B[39mid\n\u001B[0;32m     14\u001B[0m     ,pools6\u001B[38;5;241m.\u001B[39mtimestamp\n\u001B[1;32m   (...)\u001B[0m\n\u001B[0;32m     36\u001B[0m     ,pools6\u001B[38;5;241m.\u001B[39mpool\u001B[38;5;241m.\u001B[39moutputToken\n\u001B[0;32m     37\u001B[0m ])\n\u001B[1;32m---> 39\u001B[0m pool_datadb6 \u001B[38;5;241m=\u001B[39m \u001B[43mdb\u001B[49m\u001B[38;5;241;43m.\u001B[39;49m\u001B[43mquery\u001B[49m\u001B[43m(\u001B[49m\u001B[38;5;124;43m\"\u001B[39;49m\u001B[38;5;124;43mselect \u001B[39;49m\u001B[38;5;124;43m\"\u001B[39;49m\n\u001B[0;32m     40\u001B[0m \u001B[43m                   \u001B[49m\u001B[38;5;124;43m\"\u001B[39;49m\u001B[38;5;124;43m    * \u001B[39;49m\u001B[38;5;124;43m\"\u001B[39;49m\n\u001B[0;32m     41\u001B[0m \u001B[43m                        \u001B[49m\u001B[38;5;124;43m\"\u001B[39;49m\u001B[38;5;124;43m ,to_timestamp(liquidityPoolDailySnapshots_timestamp) \u001B[39;49m\u001B[38;5;124;43m\"\u001B[39;49m\n\u001B[0;32m     42\u001B[0m \u001B[43m                   \u001B[49m\u001B[38;5;124;43m\"\u001B[39;49m\u001B[38;5;124;43mFrom pool_data6 \u001B[39;49m\u001B[38;5;124;43m\"\u001B[39;49m\n\u001B[0;32m     43\u001B[0m \u001B[43m                       \u001B[49m\u001B[38;5;124;43m\"\u001B[39;49m\u001B[38;5;124;43m\"\u001B[39;49m\n\u001B[0;32m     44\u001B[0m \u001B[43m                   \u001B[49m\u001B[38;5;66;43;03m#\"where lower(liquidityPools_name) like lower('%olympus%') \"\u001B[39;49;00m\n\u001B[0;32m     45\u001B[0m \u001B[43m                    \u001B[49m\u001B[38;5;66;43;03m#    \"or lower(pairs_token1_symbol) like lower('%OHM%')  \"\u001B[39;49;00m\n\u001B[0;32m     46\u001B[0m \u001B[43m                   \u001B[49m\u001B[38;5;66;43;03m#\" limit 100 \"\u001B[39;49;00m\n\u001B[0;32m     47\u001B[0m \u001B[43m                   \u001B[49m\u001B[43m)\u001B[49m\u001B[38;5;241m.\u001B[39mdf()\n\u001B[0;32m     49\u001B[0m pool_datadb6\u001B[38;5;241m.\u001B[39mhead(\u001B[38;5;241m1000\u001B[39m)\n",
      "\u001B[1;31mInvalidInputException\u001B[0m: Invalid Input Error: Need a DataFrame with at least one column"
     ]
    }
   ],
   "source": [
    "sushi6 = sg.load_api('https://gateway.thegraph.com/api/b0299a6e1895566f98d87e0711fa24ca/subgraphs/id/7h1x51fyT5KigAhXd8sdE3kzzxQDJxxz1y66LTFiC3mS')\n",
    "\n",
    "pools6 = sushi6.Query.liquidityPoolDailySnapshots(\n",
    "  orderBy='id',\n",
    "  orderDirection='desc',\n",
    "    #skip =999,\n",
    "  first=1000,\n",
    "    where={ 'pool': '0xfffae4a0f4ac251f4705717cd24cadccc9f33e06' } #'0xfffae4a0f4ac251f4705717cd24cadccc9f33e06'  for Olympus/Wrapped Ether LP\n",
    ")\n",
    "#0x04F2694C8fcee23e8Fd0dfEA1d4f5Bb8c352111F\n",
    "\n",
    "pool_data6 = sg.query_df([\n",
    "    pools6.id\n",
    "    ,pools6.timestamp\n",
    "    ,pools6.blockNumber\n",
    "    ,pools6.totalValueLockedUSD\n",
    "    ,pools6.cumulativeSupplySideRevenueUSD\n",
    "    ,pools6.dailySupplySideRevenueUSD\n",
    "    ,pools6.cumulativeProtocolSideRevenueUSD\n",
    "    ,pools6.dailyProtocolSideRevenueUSD\n",
    "    ,pools6.cumulativeTotalRevenueUSD\n",
    "    ,pools6.dailyTotalRevenueUSD\n",
    "    ,pools6.dailyVolumeUSD\n",
    "    #,pools6.dailyVolumeByTokenAmount\n",
    "    #,pools6.dailyVolumeByTokenUSD\n",
    "    ,pools6.cumulativeVolumeUSD\n",
    "    #,pools6.inputTokenBalances\n",
    "    #,pools6.inputTokenWeights\n",
    "    ,pools6.outputTokenSupply\n",
    "    ,pools6.outputTokenPriceUSD\n",
    "    ,pools6.stakedOutputTokenAmount\n",
    "    ,pools6.rewardTokenEmissionsAmount\n",
    "    #,pools6.rewardTokenEmissionsUSD\n",
    "    ,pools6.pool.name\n",
    "    ,pools6.pool.symbol\n",
    "    ,pools6.pool.outputToken\n",
    "])\n",
    "\n",
    "pool_datadb6 = db.query(\"select \"\n",
    "                   \"    * \"\n",
    "                        \" ,to_timestamp(liquidityPoolDailySnapshots_timestamp) \"\n",
    "                   \"From pool_data6 \"\n",
    "                       \"\"\n",
    "                   #\"where lower(liquidityPools_name) like lower('%olympus%') \"\n",
    "                    #    \"or lower(pairs_token1_symbol) like lower('%OHM%')  \"\n",
    "                   #\" limit 100 \"\n",
    "                   ).df()\n",
    "\n",
    "pool_datadb6.head(1000)"
   ],
   "metadata": {
    "collapsed": false,
    "pycharm": {
     "name": "#%%\n"
    }
   }
  },
  {
   "cell_type": "code",
   "execution_count": 244,
   "outputs": [
    {
     "data": {
      "text/plain": "                     liquidityPoolDailySnapshots_id  \\\n0  0xfffae4a0f4ac251f4705717cd24cadccc9f33e06-19372   \n1  0xfffae4a0f4ac251f4705717cd24cadccc9f33e06-19371   \n2  0xfffae4a0f4ac251f4705717cd24cadccc9f33e06-19370   \n3  0xfffae4a0f4ac251f4705717cd24cadccc9f33e06-19369   \n4  0xfffae4a0f4ac251f4705717cd24cadccc9f33e06-19368   \n5  0xfffae4a0f4ac251f4705717cd24cadccc9f33e06-19366   \n6  0xfffae4a0f4ac251f4705717cd24cadccc9f33e06-19365   \n7  0xfffae4a0f4ac251f4705717cd24cadccc9f33e06-19363   \n8  0xfffae4a0f4ac251f4705717cd24cadccc9f33e06-19361   \n9  0xfffae4a0f4ac251f4705717cd24cadccc9f33e06-19359   \n\n   liquidityPoolDailySnapshots_timestamp  \\\n0                             1673769755   \n1                             1673658815   \n2                             1673612291   \n3                             1673567999   \n4                             1673442515   \n5                             1673289755   \n6                             1673186843   \n7                             1672972151   \n8                             1672858907   \n9                             1672669019   \n\n   liquidityPoolDailySnapshots_blockNumber  \\\n0                                 16410884   \n1                                 16401684   \n2                                 16397821   \n3                                 16394155   \n4                                 16383769   \n5                                 16371108   \n6                                 16362562   \n7                                 16344765   \n8                                 16335383   \n9                                 16319629   \n\n   liquidityPoolDailySnapshots_totalValueLockedUSD  \\\n0                                     17909.038005   \n1                                     18036.339968   \n2                                     16982.987605   \n3                                     17033.482951   \n4                                     16666.049129   \n5                                     17080.312017   \n6                                     16488.806914   \n7                                     16425.055838   \n8                                     16490.371522   \n9                                     16270.813921   \n\n   liquidityPoolDailySnapshots_cumulativeSupplySideRevenueUSD  \\\n0                                       3.908943e+06            \n1                                       3.908943e+06            \n2                                       3.908942e+06            \n3                                       3.908942e+06            \n4                                       3.908941e+06            \n5                                       3.908941e+06            \n6                                       3.908940e+06            \n7                                       3.908940e+06            \n8                                       3.908940e+06            \n9                                       3.908940e+06            \n\n   liquidityPoolDailySnapshots_dailySupplySideRevenueUSD  \\\n0                                           0.020739       \n1                                           0.716018       \n2                                           0.679267       \n3                                           0.222477       \n4                                           0.667659       \n5                                           0.256877       \n6                                           0.080054       \n7                                           0.031204       \n8                                           0.367901       \n9                                           0.231866       \n\n   liquidityPoolDailySnapshots_cumulativeProtocolSideRevenueUSD  \\\n0                                      781788.583877              \n1                                      781788.579729              \n2                                      781788.436525              \n3                                      781788.300672              \n4                                      781788.256176              \n5                                      781788.122645              \n6                                      781788.071269              \n7                                      781788.055258              \n8                                      781788.049018              \n9                                      781787.975437              \n\n   liquidityPoolDailySnapshots_dailyProtocolSideRevenueUSD  \\\n0                                           0.004148         \n1                                           0.143204         \n2                                           0.135853         \n3                                           0.044495         \n4                                           0.133532         \n5                                           0.051375         \n6                                           0.016011         \n7                                           0.006241         \n8                                           0.073580         \n9                                           0.046373         \n\n   liquidityPoolDailySnapshots_cumulativeTotalRevenueUSD  \\\n0                                       4.690732e+06       \n1                                       4.690731e+06       \n2                                       4.690731e+06       \n3                                       4.690730e+06       \n4                                       4.690730e+06       \n5                                       4.690729e+06       \n6                                       4.690728e+06       \n7                                       4.690728e+06       \n8                                       4.690728e+06       \n9                                       4.690728e+06       \n\n   liquidityPoolDailySnapshots_dailyTotalRevenueUSD  ...  \\\n0                                          0.024886  ...   \n1                                          0.859222  ...   \n2                                          0.815120  ...   \n3                                          0.266973  ...   \n4                                          0.801191  ...   \n5                                          0.308253  ...   \n6                                          0.096064  ...   \n7                                          0.037445  ...   \n8                                          0.441481  ...   \n9                                          0.278240  ...   \n\n   liquidityPoolDailySnapshots_rewardTokenEmissionsAmount  \\\n0                                                0.0        \n1                                                0.0        \n2                                                0.0        \n3                                                0.0        \n4                                                0.0        \n5                                                0.0        \n6                                                0.0        \n7                                                0.0        \n8                                                0.0        \n9                                                0.0        \n\n   liquidityPoolDailySnapshots_pool_name  \\\n0        SushiSwap Olympus/Wrapped Ether   \n1        SushiSwap Olympus/Wrapped Ether   \n2        SushiSwap Olympus/Wrapped Ether   \n3        SushiSwap Olympus/Wrapped Ether   \n4        SushiSwap Olympus/Wrapped Ether   \n5        SushiSwap Olympus/Wrapped Ether   \n6        SushiSwap Olympus/Wrapped Ether   \n7        SushiSwap Olympus/Wrapped Ether   \n8        SushiSwap Olympus/Wrapped Ether   \n9        SushiSwap Olympus/Wrapped Ether   \n\n   liquidityPoolDailySnapshots_pool_symbol  \\\n0                    Olympus/Wrapped Ether   \n1                    Olympus/Wrapped Ether   \n2                    Olympus/Wrapped Ether   \n3                    Olympus/Wrapped Ether   \n4                    Olympus/Wrapped Ether   \n5                    Olympus/Wrapped Ether   \n6                    Olympus/Wrapped Ether   \n7                    Olympus/Wrapped Ether   \n8                    Olympus/Wrapped Ether   \n9                    Olympus/Wrapped Ether   \n\n   liquidityPoolDailySnapshots_pool_outputToken_id  \\\n0       0xfffae4a0f4ac251f4705717cd24cadccc9f33e06   \n1       0xfffae4a0f4ac251f4705717cd24cadccc9f33e06   \n2       0xfffae4a0f4ac251f4705717cd24cadccc9f33e06   \n3       0xfffae4a0f4ac251f4705717cd24cadccc9f33e06   \n4       0xfffae4a0f4ac251f4705717cd24cadccc9f33e06   \n5       0xfffae4a0f4ac251f4705717cd24cadccc9f33e06   \n6       0xfffae4a0f4ac251f4705717cd24cadccc9f33e06   \n7       0xfffae4a0f4ac251f4705717cd24cadccc9f33e06   \n8       0xfffae4a0f4ac251f4705717cd24cadccc9f33e06   \n9       0xfffae4a0f4ac251f4705717cd24cadccc9f33e06   \n\n   liquidityPoolDailySnapshots_pool_outputToken_name  \\\n0                           Olympus/Wrapped Ether LP   \n1                           Olympus/Wrapped Ether LP   \n2                           Olympus/Wrapped Ether LP   \n3                           Olympus/Wrapped Ether LP   \n4                           Olympus/Wrapped Ether LP   \n5                           Olympus/Wrapped Ether LP   \n6                           Olympus/Wrapped Ether LP   \n7                           Olympus/Wrapped Ether LP   \n8                           Olympus/Wrapped Ether LP   \n9                           Olympus/Wrapped Ether LP   \n\n   liquidityPoolDailySnapshots_pool_outputToken_symbol  \\\n0                              Olympus/Wrapped Ether     \n1                              Olympus/Wrapped Ether     \n2                              Olympus/Wrapped Ether     \n3                              Olympus/Wrapped Ether     \n4                              Olympus/Wrapped Ether     \n5                              Olympus/Wrapped Ether     \n6                              Olympus/Wrapped Ether     \n7                              Olympus/Wrapped Ether     \n8                              Olympus/Wrapped Ether     \n9                              Olympus/Wrapped Ether     \n\n  liquidityPoolDailySnapshots_pool_outputToken_decimals  \\\n0                                                 18      \n1                                                 18      \n2                                                 18      \n3                                                 18      \n4                                                 18      \n5                                                 18      \n6                                                 18      \n7                                                 18      \n8                                                 18      \n9                                                 18      \n\n  liquidityPoolDailySnapshots_pool_outputToken_lastPriceUSD  \\\n0                                                0.0          \n1                                                0.0          \n2                                                0.0          \n3                                                0.0          \n4                                                0.0          \n5                                                0.0          \n6                                                0.0          \n7                                                0.0          \n8                                                0.0          \n9                                                0.0          \n\n  liquidityPoolDailySnapshots_pool_outputToken_lastPriceBlockNumber  \\\n0                                                  0                  \n1                                                  0                  \n2                                                  0                  \n3                                                  0                  \n4                                                  0                  \n5                                                  0                  \n6                                                  0                  \n7                                                  0                  \n8                                                  0                  \n9                                                  0                  \n\n  to_timestamp(\"liquidityPoolDailySnapshots_timestamp\")  \n0                                2023-01-15 08:02:35     \n1                                2023-01-14 01:13:35     \n2                                2023-01-13 12:18:11     \n3                                2023-01-12 23:59:59     \n4                                2023-01-11 13:08:35     \n5                                2023-01-09 18:42:35     \n6                                2023-01-08 14:07:23     \n7                                2023-01-06 02:29:11     \n8                                2023-01-04 19:01:47     \n9                                2023-01-02 14:16:59     \n\n[10 rows x 25 columns]",
      "text/html": "<div>\n<style scoped>\n    .dataframe tbody tr th:only-of-type {\n        vertical-align: middle;\n    }\n\n    .dataframe tbody tr th {\n        vertical-align: top;\n    }\n\n    .dataframe thead th {\n        text-align: right;\n    }\n</style>\n<table border=\"1\" class=\"dataframe\">\n  <thead>\n    <tr style=\"text-align: right;\">\n      <th></th>\n      <th>liquidityPoolDailySnapshots_id</th>\n      <th>liquidityPoolDailySnapshots_timestamp</th>\n      <th>liquidityPoolDailySnapshots_blockNumber</th>\n      <th>liquidityPoolDailySnapshots_totalValueLockedUSD</th>\n      <th>liquidityPoolDailySnapshots_cumulativeSupplySideRevenueUSD</th>\n      <th>liquidityPoolDailySnapshots_dailySupplySideRevenueUSD</th>\n      <th>liquidityPoolDailySnapshots_cumulativeProtocolSideRevenueUSD</th>\n      <th>liquidityPoolDailySnapshots_dailyProtocolSideRevenueUSD</th>\n      <th>liquidityPoolDailySnapshots_cumulativeTotalRevenueUSD</th>\n      <th>liquidityPoolDailySnapshots_dailyTotalRevenueUSD</th>\n      <th>...</th>\n      <th>liquidityPoolDailySnapshots_rewardTokenEmissionsAmount</th>\n      <th>liquidityPoolDailySnapshots_pool_name</th>\n      <th>liquidityPoolDailySnapshots_pool_symbol</th>\n      <th>liquidityPoolDailySnapshots_pool_outputToken_id</th>\n      <th>liquidityPoolDailySnapshots_pool_outputToken_name</th>\n      <th>liquidityPoolDailySnapshots_pool_outputToken_symbol</th>\n      <th>liquidityPoolDailySnapshots_pool_outputToken_decimals</th>\n      <th>liquidityPoolDailySnapshots_pool_outputToken_lastPriceUSD</th>\n      <th>liquidityPoolDailySnapshots_pool_outputToken_lastPriceBlockNumber</th>\n      <th>to_timestamp(\"liquidityPoolDailySnapshots_timestamp\")</th>\n    </tr>\n  </thead>\n  <tbody>\n    <tr>\n      <th>0</th>\n      <td>0xfffae4a0f4ac251f4705717cd24cadccc9f33e06-19372</td>\n      <td>1673769755</td>\n      <td>16410884</td>\n      <td>17909.038005</td>\n      <td>3.908943e+06</td>\n      <td>0.020739</td>\n      <td>781788.583877</td>\n      <td>0.004148</td>\n      <td>4.690732e+06</td>\n      <td>0.024886</td>\n      <td>...</td>\n      <td>0.0</td>\n      <td>SushiSwap Olympus/Wrapped Ether</td>\n      <td>Olympus/Wrapped Ether</td>\n      <td>0xfffae4a0f4ac251f4705717cd24cadccc9f33e06</td>\n      <td>Olympus/Wrapped Ether LP</td>\n      <td>Olympus/Wrapped Ether</td>\n      <td>18</td>\n      <td>0.0</td>\n      <td>0</td>\n      <td>2023-01-15 08:02:35</td>\n    </tr>\n    <tr>\n      <th>1</th>\n      <td>0xfffae4a0f4ac251f4705717cd24cadccc9f33e06-19371</td>\n      <td>1673658815</td>\n      <td>16401684</td>\n      <td>18036.339968</td>\n      <td>3.908943e+06</td>\n      <td>0.716018</td>\n      <td>781788.579729</td>\n      <td>0.143204</td>\n      <td>4.690731e+06</td>\n      <td>0.859222</td>\n      <td>...</td>\n      <td>0.0</td>\n      <td>SushiSwap Olympus/Wrapped Ether</td>\n      <td>Olympus/Wrapped Ether</td>\n      <td>0xfffae4a0f4ac251f4705717cd24cadccc9f33e06</td>\n      <td>Olympus/Wrapped Ether LP</td>\n      <td>Olympus/Wrapped Ether</td>\n      <td>18</td>\n      <td>0.0</td>\n      <td>0</td>\n      <td>2023-01-14 01:13:35</td>\n    </tr>\n    <tr>\n      <th>2</th>\n      <td>0xfffae4a0f4ac251f4705717cd24cadccc9f33e06-19370</td>\n      <td>1673612291</td>\n      <td>16397821</td>\n      <td>16982.987605</td>\n      <td>3.908942e+06</td>\n      <td>0.679267</td>\n      <td>781788.436525</td>\n      <td>0.135853</td>\n      <td>4.690731e+06</td>\n      <td>0.815120</td>\n      <td>...</td>\n      <td>0.0</td>\n      <td>SushiSwap Olympus/Wrapped Ether</td>\n      <td>Olympus/Wrapped Ether</td>\n      <td>0xfffae4a0f4ac251f4705717cd24cadccc9f33e06</td>\n      <td>Olympus/Wrapped Ether LP</td>\n      <td>Olympus/Wrapped Ether</td>\n      <td>18</td>\n      <td>0.0</td>\n      <td>0</td>\n      <td>2023-01-13 12:18:11</td>\n    </tr>\n    <tr>\n      <th>3</th>\n      <td>0xfffae4a0f4ac251f4705717cd24cadccc9f33e06-19369</td>\n      <td>1673567999</td>\n      <td>16394155</td>\n      <td>17033.482951</td>\n      <td>3.908942e+06</td>\n      <td>0.222477</td>\n      <td>781788.300672</td>\n      <td>0.044495</td>\n      <td>4.690730e+06</td>\n      <td>0.266973</td>\n      <td>...</td>\n      <td>0.0</td>\n      <td>SushiSwap Olympus/Wrapped Ether</td>\n      <td>Olympus/Wrapped Ether</td>\n      <td>0xfffae4a0f4ac251f4705717cd24cadccc9f33e06</td>\n      <td>Olympus/Wrapped Ether LP</td>\n      <td>Olympus/Wrapped Ether</td>\n      <td>18</td>\n      <td>0.0</td>\n      <td>0</td>\n      <td>2023-01-12 23:59:59</td>\n    </tr>\n    <tr>\n      <th>4</th>\n      <td>0xfffae4a0f4ac251f4705717cd24cadccc9f33e06-19368</td>\n      <td>1673442515</td>\n      <td>16383769</td>\n      <td>16666.049129</td>\n      <td>3.908941e+06</td>\n      <td>0.667659</td>\n      <td>781788.256176</td>\n      <td>0.133532</td>\n      <td>4.690730e+06</td>\n      <td>0.801191</td>\n      <td>...</td>\n      <td>0.0</td>\n      <td>SushiSwap Olympus/Wrapped Ether</td>\n      <td>Olympus/Wrapped Ether</td>\n      <td>0xfffae4a0f4ac251f4705717cd24cadccc9f33e06</td>\n      <td>Olympus/Wrapped Ether LP</td>\n      <td>Olympus/Wrapped Ether</td>\n      <td>18</td>\n      <td>0.0</td>\n      <td>0</td>\n      <td>2023-01-11 13:08:35</td>\n    </tr>\n    <tr>\n      <th>5</th>\n      <td>0xfffae4a0f4ac251f4705717cd24cadccc9f33e06-19366</td>\n      <td>1673289755</td>\n      <td>16371108</td>\n      <td>17080.312017</td>\n      <td>3.908941e+06</td>\n      <td>0.256877</td>\n      <td>781788.122645</td>\n      <td>0.051375</td>\n      <td>4.690729e+06</td>\n      <td>0.308253</td>\n      <td>...</td>\n      <td>0.0</td>\n      <td>SushiSwap Olympus/Wrapped Ether</td>\n      <td>Olympus/Wrapped Ether</td>\n      <td>0xfffae4a0f4ac251f4705717cd24cadccc9f33e06</td>\n      <td>Olympus/Wrapped Ether LP</td>\n      <td>Olympus/Wrapped Ether</td>\n      <td>18</td>\n      <td>0.0</td>\n      <td>0</td>\n      <td>2023-01-09 18:42:35</td>\n    </tr>\n    <tr>\n      <th>6</th>\n      <td>0xfffae4a0f4ac251f4705717cd24cadccc9f33e06-19365</td>\n      <td>1673186843</td>\n      <td>16362562</td>\n      <td>16488.806914</td>\n      <td>3.908940e+06</td>\n      <td>0.080054</td>\n      <td>781788.071269</td>\n      <td>0.016011</td>\n      <td>4.690728e+06</td>\n      <td>0.096064</td>\n      <td>...</td>\n      <td>0.0</td>\n      <td>SushiSwap Olympus/Wrapped Ether</td>\n      <td>Olympus/Wrapped Ether</td>\n      <td>0xfffae4a0f4ac251f4705717cd24cadccc9f33e06</td>\n      <td>Olympus/Wrapped Ether LP</td>\n      <td>Olympus/Wrapped Ether</td>\n      <td>18</td>\n      <td>0.0</td>\n      <td>0</td>\n      <td>2023-01-08 14:07:23</td>\n    </tr>\n    <tr>\n      <th>7</th>\n      <td>0xfffae4a0f4ac251f4705717cd24cadccc9f33e06-19363</td>\n      <td>1672972151</td>\n      <td>16344765</td>\n      <td>16425.055838</td>\n      <td>3.908940e+06</td>\n      <td>0.031204</td>\n      <td>781788.055258</td>\n      <td>0.006241</td>\n      <td>4.690728e+06</td>\n      <td>0.037445</td>\n      <td>...</td>\n      <td>0.0</td>\n      <td>SushiSwap Olympus/Wrapped Ether</td>\n      <td>Olympus/Wrapped Ether</td>\n      <td>0xfffae4a0f4ac251f4705717cd24cadccc9f33e06</td>\n      <td>Olympus/Wrapped Ether LP</td>\n      <td>Olympus/Wrapped Ether</td>\n      <td>18</td>\n      <td>0.0</td>\n      <td>0</td>\n      <td>2023-01-06 02:29:11</td>\n    </tr>\n    <tr>\n      <th>8</th>\n      <td>0xfffae4a0f4ac251f4705717cd24cadccc9f33e06-19361</td>\n      <td>1672858907</td>\n      <td>16335383</td>\n      <td>16490.371522</td>\n      <td>3.908940e+06</td>\n      <td>0.367901</td>\n      <td>781788.049018</td>\n      <td>0.073580</td>\n      <td>4.690728e+06</td>\n      <td>0.441481</td>\n      <td>...</td>\n      <td>0.0</td>\n      <td>SushiSwap Olympus/Wrapped Ether</td>\n      <td>Olympus/Wrapped Ether</td>\n      <td>0xfffae4a0f4ac251f4705717cd24cadccc9f33e06</td>\n      <td>Olympus/Wrapped Ether LP</td>\n      <td>Olympus/Wrapped Ether</td>\n      <td>18</td>\n      <td>0.0</td>\n      <td>0</td>\n      <td>2023-01-04 19:01:47</td>\n    </tr>\n    <tr>\n      <th>9</th>\n      <td>0xfffae4a0f4ac251f4705717cd24cadccc9f33e06-19359</td>\n      <td>1672669019</td>\n      <td>16319629</td>\n      <td>16270.813921</td>\n      <td>3.908940e+06</td>\n      <td>0.231866</td>\n      <td>781787.975437</td>\n      <td>0.046373</td>\n      <td>4.690728e+06</td>\n      <td>0.278240</td>\n      <td>...</td>\n      <td>0.0</td>\n      <td>SushiSwap Olympus/Wrapped Ether</td>\n      <td>Olympus/Wrapped Ether</td>\n      <td>0xfffae4a0f4ac251f4705717cd24cadccc9f33e06</td>\n      <td>Olympus/Wrapped Ether LP</td>\n      <td>Olympus/Wrapped Ether</td>\n      <td>18</td>\n      <td>0.0</td>\n      <td>0</td>\n      <td>2023-01-02 14:16:59</td>\n    </tr>\n  </tbody>\n</table>\n<p>10 rows × 25 columns</p>\n</div>"
     },
     "execution_count": 244,
     "metadata": {},
     "output_type": "execute_result"
    }
   ],
   "source": [],
   "metadata": {
    "collapsed": false,
    "pycharm": {
     "name": "#%%\n"
    }
   }
  },
  {
   "cell_type": "code",
   "execution_count": 114,
   "outputs": [
    {
     "name": "stdout",
     "output_type": "stream",
     "text": [
      "1000\n"
     ]
    }
   ],
   "source": [
    "print(len(pool_datadb6))"
   ],
   "metadata": {
    "collapsed": false,
    "pycharm": {
     "name": "#%%\n"
    }
   }
  },
  {
   "cell_type": "code",
   "execution_count": 267,
   "outputs": [
    {
     "name": "stdout",
     "output_type": "stream",
     "text": [
      "ticker:  2  - records collected:  1000  - token:  2023-01-13 12:18:11  - pool list length:  2000  - record from:  1673612291\n",
      "ticker:  3  - records collected:  1000  - token:  2023-01-12 23:59:59  - pool list length:  3000  - record from:  1673567999\n",
      "ticker:  4  - records collected:  1000  - token:  2023-01-11 13:08:35  - pool list length:  4000  - record from:  1673442515\n",
      "ticker:  5  - records collected:  1000  - token:  2023-01-09 18:42:35  - pool list length:  5000  - record from:  1673289755\n",
      "ticker:  6  - records collected:  1000  - token:  2023-01-08 14:07:23  - pool list length:  6000  - record from:  1673186843\n",
      "ticker:  7  - records collected:  1000  - token:  2023-01-06 02:29:11  - pool list length:  7000  - record from:  1672972151\n",
      "ticker:  8  - records collected:  1000  - token:  2023-01-04 19:01:47  - pool list length:  8000  - record from:  1672858907\n",
      "ticker:  9  - records collected:  1000  - token:  2023-01-02 14:16:59  - pool list length:  9000  - record from:  1672669019\n",
      "ticker:  10  - records collected:  1000  - token:  2023-01-01 22:23:47  - pool list length:  10000  - record from:  1672611827\n",
      "ticker:  11  - records collected:  1000  - token:  2022-12-31 06:50:47  - pool list length:  11000  - record from:  1672469447\n",
      "ticker:  12  - records collected:  1000  - token:  2022-12-30 20:01:23  - pool list length:  12000  - record from:  1672430483\n",
      "ticker:  13  - records collected:  1000  - token:  2022-12-29 02:17:11  - pool list length:  13000  - record from:  1672280231\n",
      "ticker:  14  - records collected:  1000  - token:  2022-12-28 23:12:59  - pool list length:  14000  - record from:  1672269179\n",
      "ticker:  15  - records collected:  1000  - token:  2022-12-27 05:41:11  - pool list length:  15000  - record from:  1672119671\n",
      "ticker:  16  - records collected:  1000  - token:  2022-12-26 19:44:47  - pool list length:  16000  - record from:  1672083887\n",
      "ticker:  17  - records collected:  1000  - token:  2022-12-25 04:14:23  - pool list length:  17000  - record from:  1671941663\n",
      "ticker:  18  - records collected:  1000  - token:  2022-12-24 17:55:59  - pool list length:  18000  - record from:  1671904559\n",
      "ticker:  19  - records collected:  1000  - token:  2022-12-23 09:22:35  - pool list length:  19000  - record from:  1671787355\n",
      "ticker:  20  - records collected:  1000  - token:  2022-12-22 11:27:35  - pool list length:  20000  - record from:  1671708455\n",
      "ticker:  21  - records collected:  1000  - token:  2022-12-21 18:57:35  - pool list length:  21000  - record from:  1671649055\n",
      "ticker:  22  - records collected:  1000  - token:  2022-12-20 13:34:11  - pool list length:  22000  - record from:  1671543251\n",
      "ticker:  23  - records collected:  1000  - token:  2022-12-19 23:03:11  - pool list length:  23000  - record from:  1671490991\n",
      "ticker:  24  - records collected:  1000  - token:  2022-12-18 16:12:47  - pool list length:  24000  - record from:  1671379967\n",
      "ticker:  25  - records collected:  1000  - token:  2022-12-17 16:47:11  - pool list length:  25000  - record from:  1671295631\n",
      "ticker:  26  - records collected:  1000  - token:  2022-12-16 22:29:35  - pool list length:  26000  - record from:  1671229775\n",
      "ticker:  27  - records collected:  1000  - token:  2022-12-15 05:26:59  - pool list length:  27000  - record from:  1671082019\n",
      "ticker:  28  - records collected:  1000  - token:  2022-12-14 18:20:59  - pool list length:  28000  - record from:  1671042059\n",
      "ticker:  29  - records collected:  1000  - token:  2022-12-12 13:47:11  - pool list length:  29000  - record from:  1670852831\n",
      "ticker:  30  - records collected:  1000  - token:  2022-12-11 19:32:35  - pool list length:  30000  - record from:  1670787155\n",
      "ticker:  31  - records collected:  1000  - token:  2022-12-10 13:24:59  - pool list length:  31000  - record from:  1670678699\n",
      "ticker:  32  - records collected:  1000  - token:  2022-12-08 22:45:23  - pool list length:  32000  - record from:  1670539523\n",
      "ticker:  33  - records collected:  1000  - token:  2022-12-07 23:17:23  - pool list length:  33000  - record from:  1670455043\n",
      "ticker:  34  - records collected:  1000  - token:  2022-12-06 09:32:47  - pool list length:  34000  - record from:  1670319167\n",
      "ticker:  35  - records collected:  1000  - token:  2022-12-05 19:54:35  - pool list length:  35000  - record from:  1670270075\n",
      "ticker:  36  - records collected:  1000  - token:  2022-12-03 22:48:11  - pool list length:  36000  - record from:  1670107691\n",
      "ticker:  37  - records collected:  1000  - token:  2022-12-02 19:42:23  - pool list length:  37000  - record from:  1670010143\n",
      "ticker:  38  - records collected:  1000  - token:  2022-12-01 23:00:23  - pool list length:  38000  - record from:  1669935623\n",
      "ticker:  39  - records collected:  1000  - token:  2022-11-30 22:42:47  - pool list length:  39000  - record from:  1669848167\n",
      "ticker:  40  - records collected:  1000  - token:  2022-11-29 15:09:47  - pool list length:  40000  - record from:  1669734587\n",
      "ticker:  41  - records collected:  1000  - token:  2022-11-28 16:33:35  - pool list length:  41000  - record from:  1669653215\n",
      "ticker:  42  - records collected:  1000  - token:  2022-11-27 07:22:59  - pool list length:  42000  - record from:  1669533779\n",
      "ticker:  43  - records collected:  1000  - token:  2022-11-26 16:35:35  - pool list length:  43000  - record from:  1669480535\n",
      "ticker:  44  - records collected:  1000  - token:  2022-11-25 03:04:23  - pool list length:  44000  - record from:  1669345463\n",
      "ticker:  45  - records collected:  1000  - token:  2022-11-24 14:54:11  - pool list length:  45000  - record from:  1669301651\n",
      "ticker:  46  - records collected:  1000  - token:  2022-11-23 21:30:47  - pool list length:  46000  - record from:  1669239047\n",
      "ticker:  47  - records collected:  1000  - token:  2022-11-22 19:43:59  - pool list length:  47000  - record from:  1669146239\n",
      "ticker:  48  - records collected:  1000  - token:  2022-11-21 20:30:11  - pool list length:  48000  - record from:  1669062611\n",
      "ticker:  49  - records collected:  1000  - token:  2022-11-20 23:51:59  - pool list length:  49000  - record from:  1668988319\n",
      "ticker:  50  - records collected:  1000  - token:  2022-11-19 23:38:11  - pool list length:  50000  - record from:  1668901091\n",
      "ticker:  51  - records collected:  1000  - token:  2022-11-18 17:58:59  - pool list length:  51000  - record from:  1668794339\n",
      "ticker:  52  - records collected:  1000  - token:  2022-11-17 19:17:47  - pool list length:  52000  - record from:  1668712667\n",
      "ticker:  53  - records collected:  1000  - token:  2022-11-16 22:52:35  - pool list length:  53000  - record from:  1668639155\n",
      "ticker:  54  - records collected:  1000  - token:  2022-11-15 22:37:59  - pool list length:  54000  - record from:  1668551879\n",
      "ticker:  55  - records collected:  1000  - token:  2022-11-14 16:14:11  - pool list length:  55000  - record from:  1668442451\n",
      "ticker:  56  - records collected:  1000  - token:  2022-11-13 21:14:35  - pool list length:  56000  - record from:  1668374075\n",
      "ticker:  57  - records collected:  1000  - token:  2022-11-12 15:29:35  - pool list length:  57000  - record from:  1668266975\n",
      "ticker:  58  - records collected:  1000  - token:  2022-11-11 19:24:59  - pool list length:  58000  - record from:  1668194699\n",
      "ticker:  59  - records collected:  1000  - token:  2022-11-10 22:20:35  - pool list length:  59000  - record from:  1668118835\n",
      "ticker:  60  - records collected:  1000  - token:  2022-11-09 13:10:35  - pool list length:  60000  - record from:  1667999435\n",
      "ticker:  61  - records collected:  1000  - token:  2022-11-08 22:57:47  - pool list length:  61000  - record from:  1667948267\n",
      "ticker:  62  - records collected:  1000  - token:  2022-11-07 01:00:23  - pool list length:  62000  - record from:  1667782823\n",
      "ticker:  63  - records collected:  1000  - token:  2022-11-06 07:02:11  - pool list length:  63000  - record from:  1667718131\n",
      "ticker:  64  - records collected:  1000  - token:  2022-11-05 22:45:47  - pool list length:  64000  - record from:  1667688347\n",
      "ticker:  65  - records collected:  1000  - token:  2022-11-04 23:05:47  - pool list length:  65000  - record from:  1667603147\n",
      "ticker:  66  - records collected:  1000  - token:  2022-11-03 14:12:11  - pool list length:  66000  - record from:  1667484731\n",
      "ticker:  67  - records collected:  1000  - token:  2022-11-01 15:46:35  - pool list length:  67000  - record from:  1667317595\n",
      "ticker:  68  - records collected:  1000  - token:  2022-10-31 20:12:47  - pool list length:  68000  - record from:  1667247167\n",
      "ticker:  69  - records collected:  1000  - token:  2022-10-30 21:41:59  - pool list length:  69000  - record from:  1667166119\n",
      "ticker:  70  - records collected:  1000  - token:  2022-10-29 18:48:35  - pool list length:  70000  - record from:  1667069315\n",
      "ticker:  71  - records collected:  1000  - token:  2022-10-28 22:22:59  - pool list length:  71000  - record from:  1666995779\n",
      "ticker:  72  - records collected:  1000  - token:  2022-10-27 22:53:35  - pool list length:  72000  - record from:  1666911215\n",
      "ticker:  73  - records collected:  1000  - token:  2022-10-26 21:52:47  - pool list length:  73000  - record from:  1666821167\n",
      "ticker:  74  - records collected:  1000  - token:  2022-10-25 19:42:59  - pool list length:  74000  - record from:  1666726979\n",
      "ticker:  75  - records collected:  1000  - token:  2022-10-24 22:06:59  - pool list length:  75000  - record from:  1666649219\n",
      "ticker:  76  - records collected:  1000  - token:  2022-10-23 22:48:11  - pool list length:  76000  - record from:  1666565291\n",
      "ticker:  77  - records collected:  1000  - token:  2022-10-22 00:44:11  - pool list length:  77000  - record from:  1666399451\n",
      "ticker:  78  - records collected:  1000  - token:  2022-10-20 22:00:11  - pool list length:  78000  - record from:  1666303211\n",
      "ticker:  79  - records collected:  1000  - token:  2022-10-19 11:58:59  - pool list length:  79000  - record from:  1666180739\n",
      "ticker:  80  - records collected:  1000  - token:  2022-10-18 20:03:23  - pool list length:  80000  - record from:  1666123403\n",
      "ticker:  81  - records collected:  1000  - token:  2022-10-17 10:01:47  - pool list length:  81000  - record from:  1666000907\n",
      "ticker:  82  - records collected:  1000  - token:  2022-10-16 20:20:35  - pool list length:  82000  - record from:  1665951635\n",
      "ticker:  83  - records collected:  1000  - token:  2022-10-15 23:32:59  - pool list length:  83000  - record from:  1665876779\n",
      "ticker:  84  - records collected:  1000  - token:  2022-10-13 18:36:35  - pool list length:  84000  - record from:  1665686195\n",
      "ticker:  85  - records collected:  1000  - token:  2022-10-12 10:46:59  - pool list length:  85000  - record from:  1665571619\n",
      "ticker:  86  - records collected:  1000  - token:  2022-10-11 06:23:35  - pool list length:  86000  - record from:  1665469415\n",
      "ticker:  87  - records collected:  1000  - token:  2022-10-10 23:25:47  - pool list length:  87000  - record from:  1665444347\n",
      "ticker:  88  - records collected:  1000  - token:  2022-10-09 23:22:35  - pool list length:  88000  - record from:  1665357755\n",
      "ticker:  89  - records collected:  1000  - token:  2022-10-08 17:08:35  - pool list length:  89000  - record from:  1665248915\n",
      "ticker:  90  - records collected:  1000  - token:  2022-10-07 11:28:47  - pool list length:  90000  - record from:  1665142127\n",
      "ticker:  91  - records collected:  1000  - token:  2022-10-06 23:33:35  - pool list length:  91000  - record from:  1665099215\n",
      "ticker:  92  - records collected:  1000  - token:  2022-10-05 23:36:59  - pool list length:  92000  - record from:  1665013019\n",
      "ticker:  93  - records collected:  1000  - token:  2022-10-04 19:55:47  - pool list length:  93000  - record from:  1664913347\n",
      "ticker:  94  - records collected:  1000  - token:  2022-10-03 21:08:23  - pool list length:  94000  - record from:  1664831303\n",
      "ticker:  95  - records collected:  1000  - token:  2022-10-02 20:50:35  - pool list length:  95000  - record from:  1664743835\n",
      "ticker:  96  - records collected:  1000  - token:  2022-10-01 22:30:47  - pool list length:  96000  - record from:  1664663447\n",
      "ticker:  97  - records collected:  1000  - token:  2022-09-30 19:39:47  - pool list length:  97000  - record from:  1664566787\n",
      "ticker:  98  - records collected:  1000  - token:  2022-09-29 21:52:59  - pool list length:  98000  - record from:  1664488379\n",
      "ticker:  99  - records collected:  1000  - token:  2022-09-28 04:18:11  - pool list length:  99000  - record from:  1664338691\n",
      "ticker:  100  - records collected:  1000  - token:  2022-09-27 19:41:35  - pool list length:  100000  - record from:  1664307695\n",
      "ticker:  101  - records collected:  1000  - token:  2022-09-26 08:40:59  - pool list length:  101000  - record from:  1664181659\n",
      "ticker:  102  - records collected:  1000  - token:  2022-09-25 19:21:59  - pool list length:  102000  - record from:  1664133719\n",
      "ticker:  103  - records collected:  1000  - token:  2022-09-24 23:47:11  - pool list length:  103000  - record from:  1664063231\n",
      "ticker:  104  - records collected:  1000  - token:  2022-09-23 19:14:11  - pool list length:  104000  - record from:  1663960451\n",
      "ticker:  105  - records collected:  1000  - token:  2022-09-22 20:34:11  - pool list length:  105000  - record from:  1663878851\n",
      "ticker:  106  - records collected:  1000  - token:  2022-09-21 21:49:23  - pool list length:  106000  - record from:  1663796963\n",
      "ticker:  107  - records collected:  1000  - token:  2022-09-20 22:35:23  - pool list length:  107000  - record from:  1663713323\n",
      "ticker:  108  - records collected:  1000  - token:  2022-09-19 20:09:59  - pool list length:  108000  - record from:  1663618199\n",
      "ticker:  109  - records collected:  1000  - token:  2022-09-18 21:16:11  - pool list length:  109000  - record from:  1663535771\n",
      "ticker:  110  - records collected:  1000  - token:  2022-09-17 17:13:35  - pool list length:  110000  - record from:  1663434815\n",
      "ticker:  111  - records collected:  1000  - token:  2022-09-16 18:26:35  - pool list length:  111000  - record from:  1663352795\n",
      "ticker:  112  - records collected:  1000  - token:  2022-09-15 22:41:23  - pool list length:  112000  - record from:  1663281683\n",
      "ticker:  113  - records collected:  1000  - token:  2022-09-14 10:52:06  - pool list length:  113000  - record from:  1663152726\n",
      "ticker:  114  - records collected:  1000  - token:  2022-09-13 14:56:10  - pool list length:  114000  - record from:  1663080970\n",
      "ticker:  115  - records collected:  1000  - token:  2022-09-12 23:01:22  - pool list length:  115000  - record from:  1663023682\n",
      "ticker:  116  - records collected:  1000  - token:  2022-09-10 23:33:49  - pool list length:  116000  - record from:  1662852829\n",
      "ticker:  117  - records collected:  1000  - token:  2022-09-09 12:48:12  - pool list length:  117000  - record from:  1662727692\n",
      "ticker:  118  - records collected:  1000  - token:  2022-09-08 21:09:36  - pool list length:  118000  - record from:  1662671376\n",
      "ticker:  119  - records collected:  1000  - token:  2022-09-07 19:04:00  - pool list length:  119000  - record from:  1662577440\n",
      "ticker:  120  - records collected:  1000  - token:  2022-09-06 18:36:02  - pool list length:  120000  - record from:  1662489362\n",
      "ticker:  121  - records collected:  1000  - token:  2022-09-05 23:06:18  - pool list length:  121000  - record from:  1662419178\n",
      "ticker:  122  - records collected:  1000  - token:  2022-09-04 21:24:35  - pool list length:  122000  - record from:  1662326675\n",
      "ticker:  123  - records collected:  1000  - token:  2022-09-03 09:41:09  - pool list length:  123000  - record from:  1662198069\n",
      "ticker:  124  - records collected:  1000  - token:  2022-09-02 14:25:37  - pool list length:  124000  - record from:  1662128737\n",
      "ticker:  125  - records collected:  1000  - token:  2022-09-01 20:54:14  - pool list length:  125000  - record from:  1662065654\n",
      "ticker:  126  - records collected:  1000  - token:  2022-08-31 17:16:09  - pool list length:  126000  - record from:  1661966169\n",
      "ticker:  127  - records collected:  1000  - token:  2022-08-30 16:37:19  - pool list length:  127000  - record from:  1661877439\n",
      "ticker:  128  - records collected:  1000  - token:  2022-08-29 21:57:45  - pool list length:  128000  - record from:  1661810265\n",
      "ticker:  129  - records collected:  1000  - token:  2022-08-28 18:54:45  - pool list length:  129000  - record from:  1661712885\n",
      "ticker:  130  - records collected:  1000  - token:  2022-08-27 18:01:32  - pool list length:  130000  - record from:  1661623292\n",
      "ticker:  131  - records collected:  1000  - token:  2022-08-26 16:48:00  - pool list length:  131000  - record from:  1661532480\n",
      "ticker:  132  - records collected:  1000  - token:  2022-08-25 08:46:57  - pool list length:  132000  - record from:  1661417217\n",
      "ticker:  133  - records collected:  1000  - token:  2022-08-24 21:12:44  - pool list length:  133000  - record from:  1661375564\n",
      "ticker:  134  - records collected:  1000  - token:  2022-08-23 23:22:45  - pool list length:  134000  - record from:  1661296965\n",
      "ticker:  135  - records collected:  1000  - token:  2022-08-22 08:41:54  - pool list length:  135000  - record from:  1661157714\n",
      "ticker:  136  - records collected:  1000  - token:  2022-08-21 23:18:37  - pool list length:  136000  - record from:  1661123917\n",
      "ticker:  137  - records collected:  1000  - token:  2022-08-20 20:32:52  - pool list length:  137000  - record from:  1661027572\n",
      "ticker:  138  - records collected:  1000  - token:  2022-08-19 22:43:21  - pool list length:  138000  - record from:  1660949001\n",
      "ticker:  139  - records collected:  1000  - token:  2022-08-18 18:34:50  - pool list length:  139000  - record from:  1660847690\n",
      "ticker:  140  - records collected:  1000  - token:  2022-08-17 22:01:35  - pool list length:  140000  - record from:  1660773695\n",
      "ticker:  141  - records collected:  1000  - token:  2022-08-16 14:35:47  - pool list length:  141000  - record from:  1660660547\n",
      "ticker:  142  - records collected:  1000  - token:  2022-08-15 20:16:26  - pool list length:  142000  - record from:  1660594586\n",
      "ticker:  143  - records collected:  1000  - token:  2022-08-14 17:46:47  - pool list length:  143000  - record from:  1660499207\n",
      "ticker:  144  - records collected:  1000  - token:  2022-08-13 22:22:49  - pool list length:  144000  - record from:  1660429369\n",
      "ticker:  145  - records collected:  1000  - token:  2022-08-12 22:59:01  - pool list length:  145000  - record from:  1660345141\n",
      "ticker:  146  - records collected:  1000  - token:  2022-08-11 23:47:41  - pool list length:  146000  - record from:  1660261661\n",
      "ticker:  147  - records collected:  1000  - token:  2022-08-10 13:01:38  - pool list length:  147000  - record from:  1660136498\n",
      "ticker:  148  - records collected:  1000  - token:  2022-08-09 23:50:44  - pool list length:  148000  - record from:  1660089044\n",
      "ticker:  149  - records collected:  1000  - token:  2022-08-08 09:12:16  - pool list length:  149000  - record from:  1659949936\n",
      "ticker:  150  - records collected:  1000  - token:  2022-08-07 22:58:36  - pool list length:  150000  - record from:  1659913116\n",
      "ticker:  151  - records collected:  1000  - token:  2022-08-06 20:27:39  - pool list length:  151000  - record from:  1659817659\n",
      "ticker:  152  - records collected:  1000  - token:  2022-08-05 22:09:07  - pool list length:  152000  - record from:  1659737347\n",
      "ticker:  153  - records collected:  1000  - token:  2022-08-03 16:26:49  - pool list length:  153000  - record from:  1659544009\n",
      "ticker:  154  - records collected:  1000  - token:  2022-08-02 21:08:58  - pool list length:  154000  - record from:  1659474538\n",
      "ticker:  155  - records collected:  1000  - token:  2022-08-01 05:05:35  - pool list length:  155000  - record from:  1659330335\n",
      "ticker:  156  - records collected:  1000  - token:  2022-07-31 22:32:56  - pool list length:  156000  - record from:  1659306776\n",
      "ticker:  157  - records collected:  1000  - token:  2022-07-30 21:10:37  - pool list length:  157000  - record from:  1659215437\n",
      "ticker:  158  - records collected:  1000  - token:  2022-07-29 23:32:59  - pool list length:  158000  - record from:  1659137579\n",
      "ticker:  159  - records collected:  1000  - token:  2022-07-28 22:23:10  - pool list length:  159000  - record from:  1659046990\n",
      "ticker:  160  - records collected:  1000  - token:  2022-07-27 22:19:37  - pool list length:  160000  - record from:  1658960377\n",
      "ticker:  161  - records collected:  1000  - token:  2022-07-26 23:23:31  - pool list length:  161000  - record from:  1658877811\n",
      "ticker:  162  - records collected:  1000  - token:  2022-07-25 23:34:49  - pool list length:  162000  - record from:  1658792089\n",
      "ticker:  163  - records collected:  1000  - token:  2022-07-24 16:34:15  - pool list length:  163000  - record from:  1658680455\n",
      "ticker:  164  - records collected:  1000  - token:  2022-07-23 22:58:40  - pool list length:  164000  - record from:  1658617120\n",
      "ticker:  165  - records collected:  1000  - token:  2022-07-22 18:45:53  - pool list length:  165000  - record from:  1658515553\n",
      "ticker:  166  - records collected:  1000  - token:  2022-07-21 20:20:40  - pool list length:  166000  - record from:  1658434840\n",
      "ticker:  167  - records collected:  1000  - token:  2022-07-20 23:17:05  - pool list length:  167000  - record from:  1658359025\n",
      "ticker:  168  - records collected:  1000  - token:  2022-07-19 16:33:13  - pool list length:  168000  - record from:  1658248393\n",
      "ticker:  169  - records collected:  1000  - token:  2022-07-18 23:58:42  - pool list length:  169000  - record from:  1658188722\n",
      "ticker:  170  - records collected:  1000  - token:  2022-07-17 13:12:05  - pool list length:  170000  - record from:  1658063525\n",
      "ticker:  171  - records collected:  1000  - token:  2022-07-16 23:29:58  - pool list length:  171000  - record from:  1658014198\n",
      "ticker:  172  - records collected:  1000  - token:  2022-07-15 21:20:01  - pool list length:  172000  - record from:  1657920001\n",
      "ticker:  173  - records collected:  1000  - token:  2022-07-14 18:27:25  - pool list length:  173000  - record from:  1657823245\n",
      "ticker:  174  - records collected:  1000  - token:  2022-07-13 23:44:15  - pool list length:  174000  - record from:  1657755855\n",
      "ticker:  175  - records collected:  1000  - token:  2022-07-12 18:22:51  - pool list length:  175000  - record from:  1657650171\n",
      "ticker:  176  - records collected:  1000  - token:  2022-07-11 23:58:50  - pool list length:  176000  - record from:  1657583930\n",
      "ticker:  177  - records collected:  1000  - token:  2022-07-10 15:35:54  - pool list length:  177000  - record from:  1657467354\n",
      "ticker:  178  - records collected:  1000  - token:  2022-07-09 18:54:23  - pool list length:  178000  - record from:  1657392863\n",
      "ticker:  179  - records collected:  1000  - token:  2022-07-08 20:39:05  - pool list length:  179000  - record from:  1657312745\n",
      "ticker:  180  - records collected:  1000  - token:  2022-07-07 21:05:10  - pool list length:  180000  - record from:  1657227910\n",
      "ticker:  181  - records collected:  1000  - token:  2022-07-06 16:47:22  - pool list length:  181000  - record from:  1657126042\n",
      "ticker:  182  - records collected:  1000  - token:  2022-07-05 22:40:05  - pool list length:  182000  - record from:  1657060805\n",
      "ticker:  183  - records collected:  1000  - token:  2022-07-04 21:27:08  - pool list length:  183000  - record from:  1656970028\n",
      "ticker:  184  - records collected:  1000  - token:  2022-07-03 20:32:07  - pool list length:  184000  - record from:  1656880327\n",
      "ticker:  185  - records collected:  1000  - token:  2022-07-02 23:01:58  - pool list length:  185000  - record from:  1656802918\n",
      "ticker:  186  - records collected:  1000  - token:  2022-07-01 04:07:35  - pool list length:  186000  - record from:  1656648455\n",
      "ticker:  187  - records collected:  1000  - token:  2022-06-30 22:10:05  - pool list length:  187000  - record from:  1656627005\n",
      "ticker:  188  - records collected:  1000  - token:  2022-06-29 23:35:21  - pool list length:  188000  - record from:  1656545721\n",
      "ticker:  189  - records collected:  1000  - token:  2022-06-28 18:32:13  - pool list length:  189000  - record from:  1656441133\n",
      "ticker:  190  - records collected:  1000  - token:  2022-06-27 20:57:54  - pool list length:  190000  - record from:  1656363474\n",
      "ticker:  191  - records collected:  1000  - token:  2022-06-26 15:16:45  - pool list length:  191000  - record from:  1656256605\n",
      "ticker:  192  - records collected:  1000  - token:  2022-06-25 20:30:16  - pool list length:  192000  - record from:  1656189016\n",
      "ticker:  193  - records collected:  1000  - token:  2022-06-24 23:22:52  - pool list length:  193000  - record from:  1656112972\n",
      "ticker:  194  - records collected:  1000  - token:  2022-06-23 23:57:35  - pool list length:  194000  - record from:  1656028655\n",
      "ticker:  195  - records collected:  1000  - token:  2022-06-22 23:40:22  - pool list length:  195000  - record from:  1655941222\n",
      "ticker:  196  - records collected:  1000  - token:  2022-06-21 23:40:59  - pool list length:  196000  - record from:  1655854859\n",
      "ticker:  197  - records collected:  1000  - token:  2022-06-20 18:52:21  - pool list length:  197000  - record from:  1655751141\n",
      "ticker:  198  - records collected:  1000  - token:  2022-06-19 19:19:54  - pool list length:  198000  - record from:  1655666394\n",
      "ticker:  199  - records collected:  1000  - token:  2022-06-18 23:49:40  - pool list length:  199000  - record from:  1655596180\n",
      "ticker:  200  - records collected:  1000  - token:  2022-06-17 23:42:38  - pool list length:  200000  - record from:  1655509358\n",
      "ticker:  201  - records collected:  1000  - token:  2022-06-16 23:44:10  - pool list length:  201000  - record from:  1655423050\n",
      "ticker:  202  - records collected:  1000  - token:  2022-06-15 23:12:53  - pool list length:  202000  - record from:  1655334773\n",
      "ticker:  203  - records collected:  1000  - token:  2022-06-14 23:42:11  - pool list length:  203000  - record from:  1655250131\n",
      "ticker:  204  - records collected:  1000  - token:  2022-06-13 22:20:11  - pool list length:  204000  - record from:  1655158811\n",
      "ticker:  205  - records collected:  1000  - token:  2022-06-12 23:22:29  - pool list length:  205000  - record from:  1655076149\n",
      "ticker:  206  - records collected:  1000  - token:  2022-06-11 23:44:02  - pool list length:  206000  - record from:  1654991042\n",
      "ticker:  207  - records collected:  1000  - token:  2022-06-10 18:19:50  - pool list length:  207000  - record from:  1654885190\n",
      "ticker:  208  - records collected:  1000  - token:  2022-06-09 14:16:54  - pool list length:  208000  - record from:  1654784214\n",
      "ticker:  209  - records collected:  1000  - token:  2022-06-08 06:31:07  - pool list length:  209000  - record from:  1654669867\n",
      "ticker:  210  - records collected:  1000  - token:  2022-06-07 20:13:41  - pool list length:  210000  - record from:  1654632821\n",
      "ticker:  211  - records collected:  1000  - token:  2022-06-06 20:23:54  - pool list length:  211000  - record from:  1654547034\n",
      "ticker:  212  - records collected:  1000  - token:  2022-06-05 11:21:10  - pool list length:  212000  - record from:  1654428070\n",
      "ticker:  213  - records collected:  1000  - token:  2022-06-04 22:24:08  - pool list length:  213000  - record from:  1654381448\n",
      "ticker:  214  - records collected:  1000  - token:  2022-06-03 16:54:26  - pool list length:  214000  - record from:  1654275266\n",
      "ticker:  215  - records collected:  1000  - token:  2022-06-02 18:43:59  - pool list length:  215000  - record from:  1654195439\n",
      "ticker:  216  - records collected:  1000  - token:  2022-06-01 22:21:43  - pool list length:  216000  - record from:  1654122103\n",
      "ticker:  217  - records collected:  1000  - token:  2022-05-31 20:38:01  - pool list length:  217000  - record from:  1654029481\n",
      "ticker:  218  - records collected:  1000  - token:  2022-05-30 20:09:43  - pool list length:  218000  - record from:  1653941383\n",
      "ticker:  219  - records collected:  1000  - token:  2022-05-29 23:43:39  - pool list length:  219000  - record from:  1653867819\n",
      "ticker:  220  - records collected:  1000  - token:  2022-05-28 23:41:47  - pool list length:  220000  - record from:  1653781307\n",
      "ticker:  221  - records collected:  1000  - token:  2022-05-27 22:21:45  - pool list length:  221000  - record from:  1653690105\n",
      "ticker:  222  - records collected:  1000  - token:  2022-05-26 22:14:02  - pool list length:  222000  - record from:  1653603242\n",
      "ticker:  223  - records collected:  1000  - token:  2022-05-25 21:45:15  - pool list length:  223000  - record from:  1653515115\n",
      "ticker:  224  - records collected:  1000  - token:  2022-05-24 23:16:32  - pool list length:  224000  - record from:  1653434192\n",
      "ticker:  225  - records collected:  1000  - token:  2022-05-23 21:23:45  - pool list length:  225000  - record from:  1653341025\n",
      "ticker:  226  - records collected:  1000  - token:  2022-05-22 18:24:14  - pool list length:  226000  - record from:  1653243854\n",
      "ticker:  227  - records collected:  1000  - token:  2022-05-21 23:38:27  - pool list length:  227000  - record from:  1653176307\n",
      "ticker:  228  - records collected:  1000  - token:  2022-05-20 20:45:55  - pool list length:  228000  - record from:  1653079555\n",
      "ticker:  229  - records collected:  1000  - token:  2022-05-19 22:40:24  - pool list length:  229000  - record from:  1653000024\n",
      "ticker:  230  - records collected:  1000  - token:  2022-05-18 21:40:00  - pool list length:  230000  - record from:  1652910000\n",
      "ticker:  231  - records collected:  1000  - token:  2022-05-17 22:57:15  - pool list length:  231000  - record from:  1652828235\n",
      "ticker:  232  - records collected:  1000  - token:  2022-05-16 19:12:22  - pool list length:  232000  - record from:  1652728342\n",
      "ticker:  233  - records collected:  1000  - token:  2022-05-15 22:20:41  - pool list length:  233000  - record from:  1652653241\n",
      "ticker:  234  - records collected:  1000  - token:  2022-05-14 22:23:46  - pool list length:  234000  - record from:  1652567026\n",
      "ticker:  235  - records collected:  1000  - token:  2022-05-13 23:14:59  - pool list length:  235000  - record from:  1652483699\n",
      "ticker:  236  - records collected:  1000  - token:  2022-05-12 22:23:15  - pool list length:  236000  - record from:  1652394195\n",
      "ticker:  237  - records collected:  1000  - token:  2022-05-11 23:15:12  - pool list length:  237000  - record from:  1652310912\n",
      "ticker:  238  - records collected:  1000  - token:  2022-05-10 23:26:52  - pool list length:  238000  - record from:  1652225212\n",
      "ticker:  239  - records collected:  1000  - token:  2022-05-09 10:41:11  - pool list length:  239000  - record from:  1652092871\n",
      "ticker:  240  - records collected:  1000  - token:  2022-05-08 23:29:03  - pool list length:  240000  - record from:  1652052543\n",
      "ticker:  241  - records collected:  1000  - token:  2022-05-07 23:48:32  - pool list length:  241000  - record from:  1651967312\n",
      "ticker:  242  - records collected:  1000  - token:  2022-05-06 23:26:58  - pool list length:  242000  - record from:  1651879618\n",
      "ticker:  243  - records collected:  1000  - token:  2022-05-05 22:16:10  - pool list length:  243000  - record from:  1651788970\n",
      "ticker:  244  - records collected:  1000  - token:  2022-05-04 21:51:26  - pool list length:  244000  - record from:  1651701086\n",
      "ticker:  245  - records collected:  1000  - token:  2022-05-03 23:50:44  - pool list length:  245000  - record from:  1651621844\n",
      "ticker:  246  - records collected:  1000  - token:  2022-05-02 10:03:03  - pool list length:  246000  - record from:  1651485783\n",
      "ticker:  247  - records collected:  1000  - token:  2022-05-01 18:42:27  - pool list length:  247000  - record from:  1651430547\n",
      "ticker:  248  - records collected:  1000  - token:  2022-04-30 22:51:20  - pool list length:  248000  - record from:  1651359080\n",
      "ticker:  249  - records collected:  1000  - token:  2022-04-29 21:20:33  - pool list length:  249000  - record from:  1651267233\n",
      "ticker:  250  - records collected:  1000  - token:  2022-04-28 14:03:12  - pool list length:  250000  - record from:  1651154592\n",
      "ticker:  251  - records collected:  1000  - token:  2022-04-27 22:55:03  - pool list length:  251000  - record from:  1651100103\n",
      "ticker:  252  - records collected:  1000  - token:  2022-04-26 19:33:33  - pool list length:  252000  - record from:  1651001613\n",
      "ticker:  253  - records collected:  1000  - token:  2022-04-25 23:09:29  - pool list length:  253000  - record from:  1650928169\n",
      "ticker:  254  - records collected:  1000  - token:  2022-04-24 20:27:38  - pool list length:  254000  - record from:  1650832058\n",
      "ticker:  255  - records collected:  1000  - token:  2022-04-23 21:29:38  - pool list length:  255000  - record from:  1650749378\n",
      "ticker:  256  - records collected:  1000  - token:  2022-04-22 23:45:35  - pool list length:  256000  - record from:  1650671135\n",
      "ticker:  257  - records collected:  1000  - token:  2022-04-21 18:22:48  - pool list length:  257000  - record from:  1650565368\n",
      "ticker:  258  - records collected:  1000  - token:  2022-04-20 23:53:32  - pool list length:  258000  - record from:  1650498812\n",
      "ticker:  259  - records collected:  1000  - token:  2022-04-19 19:38:18  - pool list length:  259000  - record from:  1650397098\n",
      "ticker:  260  - records collected:  1000  - token:  2022-04-18 23:29:13  - pool list length:  260000  - record from:  1650324553\n",
      "ticker:  261  - records collected:  1000  - token:  2022-04-17 23:26:47  - pool list length:  261000  - record from:  1650238007\n",
      "ticker:  262  - records collected:  1000  - token:  2022-04-16 23:01:52  - pool list length:  262000  - record from:  1650150112\n",
      "ticker:  263  - records collected:  1000  - token:  2022-04-15 22:01:28  - pool list length:  263000  - record from:  1650060088\n",
      "ticker:  264  - records collected:  1000  - token:  2022-04-14 23:35:46  - pool list length:  264000  - record from:  1649979346\n",
      "ticker:  265  - records collected:  1000  - token:  2022-04-13 15:11:23  - pool list length:  265000  - record from:  1649862683\n",
      "ticker:  266  - records collected:  1000  - token:  2022-04-12 22:20:02  - pool list length:  266000  - record from:  1649802002\n",
      "ticker:  267  - records collected:  1000  - token:  2022-04-11 21:43:55  - pool list length:  267000  - record from:  1649713435\n",
      "ticker:  268  - records collected:  1000  - token:  2022-04-10 22:44:23  - pool list length:  268000  - record from:  1649630663\n",
      "ticker:  269  - records collected:  1000  - token:  2022-04-09 23:37:23  - pool list length:  269000  - record from:  1649547443\n",
      "ticker:  270  - records collected:  1000  - token:  2022-04-08 23:50:56  - pool list length:  270000  - record from:  1649461856\n",
      "ticker:  271  - records collected:  1000  - token:  2022-04-07 21:53:24  - pool list length:  271000  - record from:  1649368404\n",
      "ticker:  272  - records collected:  1000  - token:  2022-04-06 21:50:00  - pool list length:  272000  - record from:  1649281800\n",
      "ticker:  273  - records collected:  1000  - token:  2022-04-05 19:46:36  - pool list length:  273000  - record from:  1649187996\n",
      "ticker:  274  - records collected:  1000  - token:  2022-04-04 21:36:37  - pool list length:  274000  - record from:  1649108197\n",
      "ticker:  275  - records collected:  1000  - token:  2022-04-03 23:22:09  - pool list length:  275000  - record from:  1649028129\n",
      "ticker:  276  - records collected:  1000  - token:  2022-04-02 18:34:46  - pool list length:  276000  - record from:  1648924486\n",
      "ticker:  277  - records collected:  1000  - token:  2022-04-01 19:56:24  - pool list length:  277000  - record from:  1648842984\n",
      "ticker:  278  - records collected:  1000  - token:  2022-03-31 20:53:12  - pool list length:  278000  - record from:  1648759992\n",
      "ticker:  279  - records collected:  1000  - token:  2022-03-30 23:57:40  - pool list length:  279000  - record from:  1648684660\n",
      "ticker:  280  - records collected:  1000  - token:  2022-03-29 20:44:04  - pool list length:  280000  - record from:  1648586644\n",
      "ticker:  281  - records collected:  1000  - token:  2022-03-28 22:54:58  - pool list length:  281000  - record from:  1648508098\n",
      "ticker:  282  - records collected:  1000  - token:  2022-03-27 23:54:05  - pool list length:  282000  - record from:  1648425245\n",
      "ticker:  283  - records collected:  1000  - token:  2022-03-26 23:21:02  - pool list length:  283000  - record from:  1648336862\n",
      "ticker:  284  - records collected:  1000  - token:  2022-03-25 23:43:36  - pool list length:  284000  - record from:  1648251816\n",
      "ticker:  285  - records collected:  1000  - token:  2022-03-24 23:53:56  - pool list length:  285000  - record from:  1648166036\n",
      "ticker:  286  - records collected:  1000  - token:  2022-03-23 23:46:24  - pool list length:  286000  - record from:  1648079184\n",
      "ticker:  287  - records collected:  1000  - token:  2022-03-22 22:46:17  - pool list length:  287000  - record from:  1647989177\n",
      "ticker:  288  - records collected:  1000  - token:  2022-03-21 22:37:28  - pool list length:  288000  - record from:  1647902248\n",
      "ticker:  289  - records collected:  1000  - token:  2022-03-20 20:41:05  - pool list length:  289000  - record from:  1647808865\n",
      "ticker:  290  - records collected:  1000  - token:  2022-03-19 21:48:42  - pool list length:  290000  - record from:  1647726522\n",
      "ticker:  291  - records collected:  1000  - token:  2022-03-18 23:18:00  - pool list length:  291000  - record from:  1647645480\n",
      "ticker:  292  - records collected:  1000  - token:  2022-03-17 23:25:32  - pool list length:  292000  - record from:  1647559532\n",
      "ticker:  293  - records collected:  1000  - token:  2022-03-16 23:35:21  - pool list length:  293000  - record from:  1647473721\n",
      "ticker:  294  - records collected:  1000  - token:  2022-03-15 22:04:17  - pool list length:  294000  - record from:  1647381857\n",
      "ticker:  295  - records collected:  1000  - token:  2022-03-14 23:02:31  - pool list length:  295000  - record from:  1647298951\n",
      "ticker:  296  - records collected:  1000  - token:  2022-03-13 22:32:42  - pool list length:  296000  - record from:  1647210762\n",
      "ticker:  297  - records collected:  1000  - token:  2022-03-12 22:08:13  - pool list length:  297000  - record from:  1647122893\n",
      "ticker:  298  - records collected:  1000  - token:  2022-03-11 22:41:04  - pool list length:  298000  - record from:  1647038464\n",
      "ticker:  299  - records collected:  1000  - token:  2022-03-10 23:57:44  - pool list length:  299000  - record from:  1646956664\n",
      "ticker:  300  - records collected:  1000  - token:  2022-03-09 21:58:22  - pool list length:  300000  - record from:  1646863102\n",
      "ticker:  301  - records collected:  1000  - token:  2022-03-08 23:29:48  - pool list length:  301000  - record from:  1646782188\n",
      "ticker:  302  - records collected:  1000  - token:  2022-03-07 23:51:03  - pool list length:  302000  - record from:  1646697063\n",
      "ticker:  303  - records collected:  1000  - token:  2022-03-06 21:00:58  - pool list length:  303000  - record from:  1646600458\n",
      "ticker:  304  - records collected:  1000  - token:  2022-03-05 23:44:52  - pool list length:  304000  - record from:  1646523892\n",
      "ticker:  305  - records collected:  1000  - token:  2022-03-04 23:45:46  - pool list length:  305000  - record from:  1646437546\n",
      "ticker:  306  - records collected:  1000  - token:  2022-03-03 23:15:44  - pool list length:  306000  - record from:  1646349344\n",
      "ticker:  307  - records collected:  1000  - token:  2022-03-02 23:58:10  - pool list length:  307000  - record from:  1646265490\n",
      "ticker:  308  - records collected:  1000  - token:  2022-03-01 21:50:28  - pool list length:  308000  - record from:  1646171428\n",
      "ticker:  309  - records collected:  1000  - token:  2022-02-28 22:13:18  - pool list length:  309000  - record from:  1646086398\n",
      "ticker:  310  - records collected:  1000  - token:  2022-02-27 23:00:20  - pool list length:  310000  - record from:  1646002820\n",
      "ticker:  311  - records collected:  1000  - token:  2022-02-26 23:43:39  - pool list length:  311000  - record from:  1645919019\n",
      "ticker:  312  - records collected:  1000  - token:  2022-02-25 23:50:28  - pool list length:  312000  - record from:  1645833028\n",
      "ticker:  313  - records collected:  1000  - token:  2022-02-24 23:37:10  - pool list length:  313000  - record from:  1645745830\n",
      "ticker:  314  - records collected:  1000  - token:  2022-02-23 22:43:22  - pool list length:  314000  - record from:  1645656202\n",
      "ticker:  315  - records collected:  1000  - token:  2022-02-22 22:49:06  - pool list length:  315000  - record from:  1645570146\n",
      "ticker:  316  - records collected:  1000  - token:  2022-02-21 21:39:02  - pool list length:  316000  - record from:  1645479542\n",
      "ticker:  317  - records collected:  1000  - token:  2022-02-20 23:29:45  - pool list length:  317000  - record from:  1645399785\n",
      "ticker:  318  - records collected:  1000  - token:  2022-02-19 23:23:51  - pool list length:  318000  - record from:  1645313031\n",
      "ticker:  319  - records collected:  1000  - token:  2022-02-18 20:43:24  - pool list length:  319000  - record from:  1645217004\n",
      "ticker:  320  - records collected:  1000  - token:  2022-02-17 23:11:28  - pool list length:  320000  - record from:  1645139488\n",
      "ticker:  321  - records collected:  1000  - token:  2022-02-16 21:44:57  - pool list length:  321000  - record from:  1645047897\n",
      "ticker:  322  - records collected:  1000  - token:  2022-02-15 23:31:29  - pool list length:  322000  - record from:  1644967889\n",
      "ticker:  323  - records collected:  1000  - token:  2022-02-14 23:55:22  - pool list length:  323000  - record from:  1644882922\n",
      "ticker:  324  - records collected:  1000  - token:  2022-02-13 23:24:04  - pool list length:  324000  - record from:  1644794644\n",
      "ticker:  325  - records collected:  1000  - token:  2022-02-12 23:06:32  - pool list length:  325000  - record from:  1644707192\n",
      "ticker:  326  - records collected:  1000  - token:  2022-02-11 22:55:54  - pool list length:  326000  - record from:  1644620154\n",
      "ticker:  327  - records collected:  1000  - token:  2022-02-10 23:40:08  - pool list length:  327000  - record from:  1644536408\n",
      "ticker:  328  - records collected:  1000  - token:  2022-02-09 23:45:04  - pool list length:  328000  - record from:  1644450304\n",
      "ticker:  329  - records collected:  1000  - token:  2022-02-08 22:53:54  - pool list length:  329000  - record from:  1644360834\n",
      "ticker:  330  - records collected:  1000  - token:  2022-02-07 23:38:28  - pool list length:  330000  - record from:  1644277108\n",
      "ticker:  331  - records collected:  1000  - token:  2022-02-06 22:36:10  - pool list length:  331000  - record from:  1644186970\n",
      "ticker:  332  - records collected:  1000  - token:  2022-02-05 23:40:54  - pool list length:  332000  - record from:  1644104454\n",
      "ticker:  333  - records collected:  1000  - token:  2022-02-04 21:59:30  - pool list length:  333000  - record from:  1644011970\n",
      "ticker:  334  - records collected:  1000  - token:  2022-02-03 23:21:38  - pool list length:  334000  - record from:  1643930498\n",
      "ticker:  335  - records collected:  1000  - token:  2022-02-02 21:39:07  - pool list length:  335000  - record from:  1643837947\n",
      "ticker:  336  - records collected:  1000  - token:  2022-02-01 23:40:29  - pool list length:  336000  - record from:  1643758829\n",
      "ticker:  337  - records collected:  1000  - token:  2022-01-31 23:51:17  - pool list length:  337000  - record from:  1643673077\n",
      "ticker:  338  - records collected:  1000  - token:  2022-01-30 23:32:58  - pool list length:  338000  - record from:  1643585578\n",
      "ticker:  339  - records collected:  1000  - token:  2022-01-29 20:07:38  - pool list length:  339000  - record from:  1643486858\n",
      "ticker:  340  - records collected:  1000  - token:  2022-01-28 23:34:09  - pool list length:  340000  - record from:  1643412849\n",
      "ticker:  341  - records collected:  1000  - token:  2022-01-27 23:35:17  - pool list length:  341000  - record from:  1643326517\n",
      "ticker:  342  - records collected:  1000  - token:  2022-01-26 22:13:19  - pool list length:  342000  - record from:  1643235199\n",
      "ticker:  343  - records collected:  1000  - token:  2022-01-25 23:17:43  - pool list length:  343000  - record from:  1643152663\n",
      "ticker:  344  - records collected:  1000  - token:  2022-01-24 23:47:29  - pool list length:  344000  - record from:  1643068049\n",
      "ticker:  345  - records collected:  1000  - token:  2022-01-23 23:56:24  - pool list length:  345000  - record from:  1642982184\n",
      "ticker:  346  - records collected:  522  - token:  2022-01-22 23:43:00  - pool list length:  345522  - record from:  1642894980\n"
     ]
    },
    {
     "ename": "InvalidInputException",
     "evalue": "Invalid Input Error: Need a DataFrame with at least one column",
     "output_type": "error",
     "traceback": [
      "\u001B[1;31m---------------------------------------------------------------------------\u001B[0m",
      "\u001B[1;31mInvalidInputException\u001B[0m                     Traceback (most recent call last)",
      "Cell \u001B[1;32mIn[267], line 51\u001B[0m\n\u001B[0;32m     14\u001B[0m pools7 \u001B[38;5;241m=\u001B[39m sushi7\u001B[38;5;241m.\u001B[39mQuery\u001B[38;5;241m.\u001B[39mliquidityPoolDailySnapshots(\n\u001B[0;32m     15\u001B[0m     orderBy\u001B[38;5;241m=\u001B[39m\u001B[38;5;124m'\u001B[39m\u001B[38;5;124mid\u001B[39m\u001B[38;5;124m'\u001B[39m,\n\u001B[0;32m     16\u001B[0m     orderDirection\u001B[38;5;241m=\u001B[39m\u001B[38;5;124m'\u001B[39m\u001B[38;5;124mdesc\u001B[39m\u001B[38;5;124m'\u001B[39m,\n\u001B[1;32m   (...)\u001B[0m\n\u001B[0;32m     21\u001B[0m   ]\n\u001B[0;32m     22\u001B[0m )\n\u001B[0;32m     24\u001B[0m pool_data7 \u001B[38;5;241m=\u001B[39m sg\u001B[38;5;241m.\u001B[39mquery_df([\n\u001B[0;32m     25\u001B[0m     pools7\u001B[38;5;241m.\u001B[39mid\n\u001B[0;32m     26\u001B[0m     ,pools7\u001B[38;5;241m.\u001B[39mtimestamp\n\u001B[1;32m   (...)\u001B[0m\n\u001B[0;32m     48\u001B[0m     ,pools7\u001B[38;5;241m.\u001B[39mpool\u001B[38;5;241m.\u001B[39moutputToken\n\u001B[0;32m     49\u001B[0m ])\n\u001B[1;32m---> 51\u001B[0m pool_datadb7 \u001B[38;5;241m=\u001B[39m \u001B[43mdb\u001B[49m\u001B[38;5;241;43m.\u001B[39;49m\u001B[43mquery\u001B[49m\u001B[43m(\u001B[49m\u001B[38;5;124;43m\"\u001B[39;49m\u001B[38;5;124;43mselect \u001B[39;49m\u001B[38;5;124;43m\"\u001B[39;49m\n\u001B[0;32m     52\u001B[0m \u001B[43m               \u001B[49m\u001B[38;5;124;43m\"\u001B[39;49m\u001B[38;5;124;43m    * \u001B[39;49m\u001B[38;5;124;43m\"\u001B[39;49m\n\u001B[0;32m     53\u001B[0m \u001B[43m                    \u001B[49m\u001B[38;5;124;43m\"\u001B[39;49m\u001B[38;5;124;43m ,to_timestamp(liquidityPoolDailySnapshots_timestamp) dateTime \u001B[39;49m\u001B[38;5;124;43m\"\u001B[39;49m\n\u001B[0;32m     54\u001B[0m \u001B[43m               \u001B[49m\u001B[38;5;124;43m\"\u001B[39;49m\u001B[38;5;124;43mFrom pool_data7 \u001B[39;49m\u001B[38;5;124;43m\"\u001B[39;49m\n\u001B[0;32m     55\u001B[0m \u001B[43m               \u001B[49m\u001B[38;5;66;43;03m#\"where lower(liquidityPools_name) like lower('%olympus%') \"\u001B[39;49;00m\n\u001B[0;32m     56\u001B[0m \u001B[43m                \u001B[49m\u001B[38;5;66;43;03m#    \"or lower(pairs_token1_symbol) like lower('%OHM%')  \"\u001B[39;49;00m\n\u001B[0;32m     57\u001B[0m \u001B[43m               \u001B[49m\u001B[38;5;66;43;03m#\" limit 100 \"\u001B[39;49;00m\n\u001B[0;32m     58\u001B[0m \u001B[43m               \u001B[49m\u001B[43m)\u001B[49m\u001B[38;5;241m.\u001B[39mdf()\n\u001B[0;32m     60\u001B[0m pool_list\u001B[38;5;241m=\u001B[39mpd\u001B[38;5;241m.\u001B[39mconcat([pool_list, pool_datadb7])\n\u001B[0;32m     61\u001B[0m ticker \u001B[38;5;241m=\u001B[39m ticker\u001B[38;5;241m+\u001B[39m\u001B[38;5;241m1\u001B[39m\n",
      "\u001B[1;31mInvalidInputException\u001B[0m: Invalid Input Error: Need a DataFrame with at least one column"
     ]
    }
   ],
   "source": [
    "sushi7 = sg.load_api('https://gateway.thegraph.com/api/b0299a6e1895566f98d87e0711fa24ca/subgraphs/id/7h1x51fyT5KigAhXd8sdE3kzzxQDJxxz1y66LTFiC3mS')\n",
    "listLength=1000\n",
    "ticker = 1\n",
    "trigger=0\n",
    "pool_list = pd.DataFrame()\n",
    "pool_list=pd.concat([pool_list, pool_datadb6])\n",
    "\n",
    "\n",
    "#0x04F2694C8fcee23e8Fd0dfEA1d4f5Bb8c352111F\n",
    "while trigger==0:\n",
    "    while ticker < 500:\n",
    "        listLength=0\n",
    "        skipValue = (ticker-1)*(1000)\n",
    "        pools7 = sushi7.Query.liquidityPoolDailySnapshots(\n",
    "            orderBy='id',\n",
    "            orderDirection='desc',\n",
    "            skip =(skipValue),\n",
    "            first=1000,\n",
    "            where=[\n",
    "              sushi7.Query.liquidityPoolDailySnapshots.timestamp > 1604302679\n",
    "          ]\n",
    "        )\n",
    "\n",
    "        pool_data7 = sg.query_df([\n",
    "            pools7.id\n",
    "            ,pools7.timestamp\n",
    "            ,pools7.blockNumber\n",
    "            ,pools7.totalValueLockedUSD\n",
    "            ,pools7.cumulativeSupplySideRevenueUSD\n",
    "            ,pools7.dailySupplySideRevenueUSD\n",
    "            ,pools7.cumulativeProtocolSideRevenueUSD\n",
    "            ,pools7.dailyProtocolSideRevenueUSD\n",
    "            ,pools7.cumulativeTotalRevenueUSD\n",
    "            ,pools7.dailyTotalRevenueUSD\n",
    "            ,pools7.dailyVolumeUSD\n",
    "            #,pools6.dailyVolumeByTokenAmount\n",
    "            #,pools6.dailyVolumeByTokenUSD\n",
    "            ,pools7.cumulativeVolumeUSD\n",
    "            #,pools6.inputTokenBalances\n",
    "            #,pools6.inputTokenWeights\n",
    "            ,pools7.outputTokenSupply\n",
    "            ,pools7.outputTokenPriceUSD\n",
    "            ,pools7.stakedOutputTokenAmount\n",
    "            ,pools7.rewardTokenEmissionsAmount\n",
    "            #,pools6.rewardTokenEmissionsUSD\n",
    "            ,pools7.pool.name\n",
    "            ,pools7.pool.symbol\n",
    "            ,pools7.pool.outputToken\n",
    "        ])\n",
    "\n",
    "        pool_datadb7 = db.query(\"select \"\n",
    "                       \"    * \"\n",
    "                            \" ,to_timestamp(liquidityPoolDailySnapshots_timestamp) dateTime \"\n",
    "                       \"From pool_data7 \"\n",
    "                       #\"where lower(liquidityPools_name) like lower('%olympus%') \"\n",
    "                        #    \"or lower(pairs_token1_symbol) like lower('%OHM%')  \"\n",
    "                       #\" limit 100 \"\n",
    "                       ).df()\n",
    "\n",
    "        pool_list=pd.concat([pool_list, pool_datadb7])\n",
    "        ticker = ticker+1\n",
    "        pool_list_length = len(pool_list)\n",
    "        listLength = len(pool_datadb7)\n",
    "        recordTimestamp = pool_list.iat[ticker,1]\n",
    "        value1 = pool_list.iat[ticker,24]\n",
    "        #pool_datadb7 = pd.DataFrame(None)\n",
    "\n",
    "        print(\"ticker: \", ticker,\" - records collected: \", listLength, \" - token: \",value1 , \" - pool list length: \", pool_list_length, \" - record from: \", recordTimestamp)\n",
    "        if listLength<1000:\n",
    "            trigger=1\n",
    "\n",
    "print('done')"
   ],
   "metadata": {
    "collapsed": false,
    "pycharm": {
     "name": "#%%\n"
    }
   }
  },
  {
   "cell_type": "code",
   "execution_count": 266,
   "outputs": [],
   "source": [
    "path =file+'/sushi_pools '+str(date.today().strftime(\"%b-%d-%Y-%H-%m \"))+str(pool_list_length)+'records.csv'\n",
    "pool_datadb7.to_csv(path, index = False)"
   ],
   "metadata": {
    "collapsed": false,
    "pycharm": {
     "name": "#%%\n"
    }
   }
  },
  {
   "cell_type": "code",
   "execution_count": 265,
   "outputs": [
    {
     "name": "stdout",
     "output_type": "stream",
     "text": [
      "346\n"
     ]
    }
   ],
   "source": [
    "print(ticker)"
   ],
   "metadata": {
    "collapsed": false,
    "pycharm": {
     "name": "#%%\n"
    }
   }
  },
  {
   "cell_type": "code",
   "execution_count": 272,
   "outputs": [
    {
     "ename": "SyntaxError",
     "evalue": "closing parenthesis ']' does not match opening parenthesis '(' on line 1 (3209318014.py, line 10)",
     "output_type": "error",
     "traceback": [
      "\u001B[1;36m  Cell \u001B[1;32mIn[272], line 10\u001B[1;36m\u001B[0m\n\u001B[1;33m    ]\u001B[0m\n\u001B[1;37m    ^\u001B[0m\n\u001B[1;31mSyntaxError\u001B[0m\u001B[1;31m:\u001B[0m closing parenthesis ']' does not match opening parenthesis '(' on line 1\n"
     ]
    }
   ],
   "source": [
    "pools7 = sushi7.Query.liquidityPoolDailySnapshots(\n",
    "  orderBy='id',\n",
    "  orderDirection='desc',\n",
    "    skip =(1000)*(3-1),\n",
    "  first=1000,\n",
    "  #where=[\n",
    "      sushi7.Query.liquidityPoolDailySnapshots.pool.id == \"0x055475920a8c93CfFb64d039A8205F7AcC7722d3\"\n",
    "   #sushi3.Query.tokenPairs.pair.token0.symbol.contains_nocase 'olympus'\n",
    "    #sushi3.Query.tokenPairs.id == '0xff20817765cb7f73d4bde2e66e067e58d11095c2:1'\n",
    "  ]\n",
    ")\n",
    "\n",
    "pool_data7 = sg.query_df([\n",
    "    pools7.id\n",
    "    ,pools7.timestamp\n",
    "    ,pools7.blockNumber\n",
    "    ,pools7.totalValueLockedUSD\n",
    "    ,pools7.cumulativeSupplySideRevenueUSD\n",
    "    ,pools7.dailySupplySideRevenueUSD\n",
    "    ,pools7.cumulativeProtocolSideRevenueUSD\n",
    "    ,pools7.dailyProtocolSideRevenueUSD\n",
    "    ,pools7.cumulativeTotalRevenueUSD\n",
    "    ,pools7.dailyTotalRevenueUSD\n",
    "    ,pools7.dailyVolumeUSD\n",
    "    ,pools7.cumulativeVolumeUSD\n",
    "    ,pools7.outputTokenSupply\n",
    "    ,pools7.outputTokenPriceUSD\n",
    "    ,pools7.stakedOutputTokenAmount\n",
    "    ,pools7.rewardTokenEmissionsAmount\n",
    "    ,pools7.pool.name\n",
    "    ,pools7.pool.symbol\n",
    "    ,pools7.pool.outputToken\n",
    "])"
   ],
   "metadata": {
    "collapsed": false,
    "pycharm": {
     "name": "#%%\n"
    }
   }
  },
  {
   "cell_type": "code",
   "execution_count": 248,
   "outputs": [
    {
     "ename": "InvalidInputException",
     "evalue": "Invalid Input Error: Need a DataFrame with at least one column",
     "output_type": "error",
     "traceback": [
      "\u001B[1;31m---------------------------------------------------------------------------\u001B[0m",
      "\u001B[1;31mInvalidInputException\u001B[0m                     Traceback (most recent call last)",
      "Cell \u001B[1;32mIn[248], line 1\u001B[0m\n\u001B[1;32m----> 1\u001B[0m pool_datadb7 \u001B[38;5;241m=\u001B[39m \u001B[43mdb\u001B[49m\u001B[38;5;241;43m.\u001B[39;49m\u001B[43mquery\u001B[49m\u001B[43m(\u001B[49m\u001B[38;5;124;43m\"\u001B[39;49m\u001B[38;5;124;43mselect \u001B[39;49m\u001B[38;5;124;43m\"\u001B[39;49m\n\u001B[0;32m      2\u001B[0m \u001B[43m               \u001B[49m\u001B[38;5;124;43m\"\u001B[39;49m\u001B[38;5;124;43m    * \u001B[39;49m\u001B[38;5;124;43m\"\u001B[39;49m\n\u001B[0;32m      3\u001B[0m \u001B[43m                    \u001B[49m\u001B[38;5;124;43m\"\u001B[39;49m\u001B[38;5;124;43m ,to_timestamp(liquidityPoolDailySnapshots_timestamp) dateTime \u001B[39;49m\u001B[38;5;124;43m\"\u001B[39;49m\n\u001B[0;32m      4\u001B[0m \u001B[43m               \u001B[49m\u001B[38;5;124;43m\"\u001B[39;49m\u001B[38;5;124;43mFrom pool_data7 \u001B[39;49m\u001B[38;5;124;43m\"\u001B[39;49m\n\u001B[0;32m      5\u001B[0m \u001B[43m               \u001B[49m\u001B[38;5;66;43;03m#\"where lower(liquidityPools_name) like lower('%olympus%') \"\u001B[39;49;00m\n\u001B[0;32m      6\u001B[0m \u001B[43m                \u001B[49m\u001B[38;5;66;43;03m#    \"or lower(pairs_token1_symbol) like lower('%OHM%')  \"\u001B[39;49;00m\n\u001B[0;32m      7\u001B[0m \u001B[43m               \u001B[49m\u001B[38;5;66;43;03m#\" limit 100 \"\u001B[39;49;00m\n\u001B[0;32m      8\u001B[0m \u001B[43m               \u001B[49m\u001B[43m)\u001B[49m\u001B[38;5;241m.\u001B[39mdf()\n",
      "\u001B[1;31mInvalidInputException\u001B[0m: Invalid Input Error: Need a DataFrame with at least one column"
     ]
    }
   ],
   "source": [
    "    pool_datadb7 = db.query(\"select \"\n",
    "                   \"    * \"\n",
    "                        \" ,to_timestamp(liquidityPoolDailySnapshots_timestamp) dateTime \"\n",
    "                   \"From pool_data7 \"\n",
    "                   #\"where lower(liquidityPools_name) like lower('%olympus%') \"\n",
    "                    #    \"or lower(pairs_token1_symbol) like lower('%OHM%')  \"\n",
    "                   #\" limit 100 \"\n",
    "                   ).df()"
   ],
   "metadata": {
    "collapsed": false,
    "pycharm": {
     "name": "#%%\n"
    }
   }
  },
  {
   "cell_type": "code",
   "execution_count": 270,
   "outputs": [],
   "source": [
    "sushi8 = sg.load_api('https://gateway.thegraph.com/api/b0299a6e1895566f98d87e0711fa24ca/subgraphs/id/Ei5typKWPepPSgqkaKf3p5bPhgJesnu1RuRpyt69Pcrx')"
   ],
   "metadata": {
    "collapsed": false,
    "pycharm": {
     "name": "#%%\n"
    }
   }
  },
  {
   "cell_type": "code",
   "execution_count": 295,
   "outputs": [
    {
     "data": {
      "text/plain": "                     liquidityPoolDailySnapshots_id  \\\n0  0xfeadd389a5c427952d8fdb8057d6c8ba1156cc56-19331   \n1  0xfeadd389a5c427952d8fdb8057d6c8ba1156cc56-19330   \n2  0xfeadd389a5c427952d8fdb8057d6c8ba1156cc56-19329   \n3  0xfeadd389a5c427952d8fdb8057d6c8ba1156cc56-19328   \n4  0xfeadd389a5c427952d8fdb8057d6c8ba1156cc56-19327   \n5  0xfeadd389a5c427952d8fdb8057d6c8ba1156cc56-19326   \n6  0xfeadd389a5c427952d8fdb8057d6c8ba1156cc56-19325   \n7  0xfeadd389a5c427952d8fdb8057d6c8ba1156cc56-19324   \n8  0xfeadd389a5c427952d8fdb8057d6c8ba1156cc56-19323   \n9  0xfeadd389a5c427952d8fdb8057d6c8ba1156cc56-19322   \n\n   liquidityPoolDailySnapshots_timestamp  \\\n0                             1670250287   \n1                             1670137979   \n2                             1670106755   \n3                             1670023559   \n4                             1669922351   \n5                             1669850543   \n6                             1669743371   \n7                             1669678559   \n8                             1669584311   \n9                             1669491479   \n\n   liquidityPoolDailySnapshots_blockNumber  \\\n0                                 16119184   \n1                                 16109879   \n2                                 16107290   \n3                                 16100394   \n4                                 16091997   \n5                                 16086047   \n6                                 16077177   \n7                                 16071811   \n8                                 16063988   \n9                                 16056295   \n\n   liquidityPoolDailySnapshots_totalValueLockedUSD  \\\n0                                    728871.903903   \n1                                    711721.352376   \n2                                    711705.554119   \n3                                    714999.545722   \n4                                    717456.558517   \n5                                    711982.947166   \n6                                    691922.821460   \n7                                    599834.581009   \n8                                    696195.409533   \n9                                    699016.328360   \n\n   liquidityPoolDailySnapshots_cumulativeSupplySideRevenueUSD  \\\n0                                       79609.678888            \n1                                       79603.149673            \n2                                       79603.055149            \n3                                       79602.895095            \n4                                       79601.003146            \n5                                       79597.875376            \n6                                       79595.332558            \n7                                       79593.557201            \n8                                       79590.379649            \n9                                       79587.542486            \n\n   liquidityPoolDailySnapshots_dailySupplySideRevenueUSD  \\\n0                                           6.529214       \n1                                           0.094524       \n2                                           0.160054       \n3                                           1.891949       \n4                                           3.127769       \n5                                           2.542819       \n6                                           1.775357       \n7                                           3.177552       \n8                                           2.837163       \n9                                          10.399889       \n\n   liquidityPoolDailySnapshots_cumulativeProtocolSideRevenueUSD  \\\n0                                       26989.777627              \n1                                       26983.248413              \n2                                       26983.153889              \n3                                       26982.993834              \n4                                       26981.101885              \n5                                       26977.974116              \n6                                       26975.431297              \n7                                       26973.655941              \n8                                       26970.478388              \n9                                       26967.641226              \n\n   liquidityPoolDailySnapshots_dailyProtocolSideRevenueUSD  \\\n0                                           6.529214         \n1                                           0.094524         \n2                                           0.160054         \n3                                           1.891949         \n4                                           3.127769         \n5                                           2.542819         \n6                                           1.775357         \n7                                           3.177552         \n8                                           2.837163         \n9                                          10.399889         \n\n   liquidityPoolDailySnapshots_cumulativeTotalRevenueUSD  \\\n0                                      106599.456515       \n1                                      106586.398086       \n2                                      106586.209037       \n3                                      106585.888929       \n4                                      106582.105031       \n5                                      106575.849493       \n6                                      106570.763855       \n7                                      106567.213142       \n8                                      106560.858037       \n9                                      106555.183711       \n\n   liquidityPoolDailySnapshots_dailyTotalRevenueUSD  ...  \\\n0                                         13.058429  ...   \n1                                          0.189049  ...   \n2                                          0.320108  ...   \n3                                          3.783898  ...   \n4                                          6.255538  ...   \n5                                          5.085638  ...   \n6                                          3.550713  ...   \n7                                          6.355105  ...   \n8                                          5.674326  ...   \n9                                         20.799778  ...   \n\n   liquidityPoolDailySnapshots_rewardTokenEmissionsAmount  \\\n0                                       8.405483e+16        \n1                                       8.405483e+16        \n2                                       8.405483e+16        \n3                                       8.405483e+16        \n4                                       8.405483e+16        \n5                                       8.405483e+16        \n6                                       8.405483e+16        \n7                                       8.405483e+16        \n8                                       8.405483e+16        \n9                                       8.405483e+16        \n\n   liquidityPoolDailySnapshots_pool_name  \\\n0               Balancer BTC Stable Pool   \n1               Balancer BTC Stable Pool   \n2               Balancer BTC Stable Pool   \n3               Balancer BTC Stable Pool   \n4               Balancer BTC Stable Pool   \n5               Balancer BTC Stable Pool   \n6               Balancer BTC Stable Pool   \n7               Balancer BTC Stable Pool   \n8               Balancer BTC Stable Pool   \n9               Balancer BTC Stable Pool   \n\n   liquidityPoolDailySnapshots_pool_symbol  \\\n0                              staBAL3-BTC   \n1                              staBAL3-BTC   \n2                              staBAL3-BTC   \n3                              staBAL3-BTC   \n4                              staBAL3-BTC   \n5                              staBAL3-BTC   \n6                              staBAL3-BTC   \n7                              staBAL3-BTC   \n8                              staBAL3-BTC   \n9                              staBAL3-BTC   \n\n   liquidityPoolDailySnapshots_pool_outputToken_id  \\\n0       0xfeadd389a5c427952d8fdb8057d6c8ba1156cc56   \n1       0xfeadd389a5c427952d8fdb8057d6c8ba1156cc56   \n2       0xfeadd389a5c427952d8fdb8057d6c8ba1156cc56   \n3       0xfeadd389a5c427952d8fdb8057d6c8ba1156cc56   \n4       0xfeadd389a5c427952d8fdb8057d6c8ba1156cc56   \n5       0xfeadd389a5c427952d8fdb8057d6c8ba1156cc56   \n6       0xfeadd389a5c427952d8fdb8057d6c8ba1156cc56   \n7       0xfeadd389a5c427952d8fdb8057d6c8ba1156cc56   \n8       0xfeadd389a5c427952d8fdb8057d6c8ba1156cc56   \n9       0xfeadd389a5c427952d8fdb8057d6c8ba1156cc56   \n\n   liquidityPoolDailySnapshots_pool_outputToken_name  \\\n0                           Balancer BTC Stable Pool   \n1                           Balancer BTC Stable Pool   \n2                           Balancer BTC Stable Pool   \n3                           Balancer BTC Stable Pool   \n4                           Balancer BTC Stable Pool   \n5                           Balancer BTC Stable Pool   \n6                           Balancer BTC Stable Pool   \n7                           Balancer BTC Stable Pool   \n8                           Balancer BTC Stable Pool   \n9                           Balancer BTC Stable Pool   \n\n   liquidityPoolDailySnapshots_pool_outputToken_symbol  \\\n0                                        staBAL3-BTC     \n1                                        staBAL3-BTC     \n2                                        staBAL3-BTC     \n3                                        staBAL3-BTC     \n4                                        staBAL3-BTC     \n5                                        staBAL3-BTC     \n6                                        staBAL3-BTC     \n7                                        staBAL3-BTC     \n8                                        staBAL3-BTC     \n9                                        staBAL3-BTC     \n\n  liquidityPoolDailySnapshots_pool_outputToken_decimals  \\\n0                                                 18      \n1                                                 18      \n2                                                 18      \n3                                                 18      \n4                                                 18      \n5                                                 18      \n6                                                 18      \n7                                                 18      \n8                                                 18      \n9                                                 18      \n\n  liquidityPoolDailySnapshots_pool_outputToken_lastPriceUSD  \\\n0                                       17413.475544          \n1                                       17413.475544          \n2                                       17413.475544          \n3                                       17413.475544          \n4                                       17413.475544          \n5                                       17413.475544          \n6                                       17413.475544          \n7                                       17413.475544          \n8                                       17413.475544          \n9                                       17413.475544          \n\n  liquidityPoolDailySnapshots_pool_outputToken_lastPriceBlockNumber  \\\n0                                           16117099                  \n1                                           16117099                  \n2                                           16117099                  \n3                                           16117099                  \n4                                           16117099                  \n5                                           16117099                  \n6                                           16117099                  \n7                                           16117099                  \n8                                           16117099                  \n9                                           16117099                  \n\n             dateTime  \n0 2022-12-05 14:24:47  \n1 2022-12-04 07:12:59  \n2 2022-12-03 22:32:35  \n3 2022-12-02 23:25:59  \n4 2022-12-01 19:19:11  \n5 2022-11-30 23:22:23  \n6 2022-11-29 17:36:11  \n7 2022-11-28 23:35:59  \n8 2022-11-27 21:25:11  \n9 2022-11-26 19:37:59  \n\n[10 rows x 25 columns]",
      "text/html": "<div>\n<style scoped>\n    .dataframe tbody tr th:only-of-type {\n        vertical-align: middle;\n    }\n\n    .dataframe tbody tr th {\n        vertical-align: top;\n    }\n\n    .dataframe thead th {\n        text-align: right;\n    }\n</style>\n<table border=\"1\" class=\"dataframe\">\n  <thead>\n    <tr style=\"text-align: right;\">\n      <th></th>\n      <th>liquidityPoolDailySnapshots_id</th>\n      <th>liquidityPoolDailySnapshots_timestamp</th>\n      <th>liquidityPoolDailySnapshots_blockNumber</th>\n      <th>liquidityPoolDailySnapshots_totalValueLockedUSD</th>\n      <th>liquidityPoolDailySnapshots_cumulativeSupplySideRevenueUSD</th>\n      <th>liquidityPoolDailySnapshots_dailySupplySideRevenueUSD</th>\n      <th>liquidityPoolDailySnapshots_cumulativeProtocolSideRevenueUSD</th>\n      <th>liquidityPoolDailySnapshots_dailyProtocolSideRevenueUSD</th>\n      <th>liquidityPoolDailySnapshots_cumulativeTotalRevenueUSD</th>\n      <th>liquidityPoolDailySnapshots_dailyTotalRevenueUSD</th>\n      <th>...</th>\n      <th>liquidityPoolDailySnapshots_rewardTokenEmissionsAmount</th>\n      <th>liquidityPoolDailySnapshots_pool_name</th>\n      <th>liquidityPoolDailySnapshots_pool_symbol</th>\n      <th>liquidityPoolDailySnapshots_pool_outputToken_id</th>\n      <th>liquidityPoolDailySnapshots_pool_outputToken_name</th>\n      <th>liquidityPoolDailySnapshots_pool_outputToken_symbol</th>\n      <th>liquidityPoolDailySnapshots_pool_outputToken_decimals</th>\n      <th>liquidityPoolDailySnapshots_pool_outputToken_lastPriceUSD</th>\n      <th>liquidityPoolDailySnapshots_pool_outputToken_lastPriceBlockNumber</th>\n      <th>dateTime</th>\n    </tr>\n  </thead>\n  <tbody>\n    <tr>\n      <th>0</th>\n      <td>0xfeadd389a5c427952d8fdb8057d6c8ba1156cc56-19331</td>\n      <td>1670250287</td>\n      <td>16119184</td>\n      <td>728871.903903</td>\n      <td>79609.678888</td>\n      <td>6.529214</td>\n      <td>26989.777627</td>\n      <td>6.529214</td>\n      <td>106599.456515</td>\n      <td>13.058429</td>\n      <td>...</td>\n      <td>8.405483e+16</td>\n      <td>Balancer BTC Stable Pool</td>\n      <td>staBAL3-BTC</td>\n      <td>0xfeadd389a5c427952d8fdb8057d6c8ba1156cc56</td>\n      <td>Balancer BTC Stable Pool</td>\n      <td>staBAL3-BTC</td>\n      <td>18</td>\n      <td>17413.475544</td>\n      <td>16117099</td>\n      <td>2022-12-05 14:24:47</td>\n    </tr>\n    <tr>\n      <th>1</th>\n      <td>0xfeadd389a5c427952d8fdb8057d6c8ba1156cc56-19330</td>\n      <td>1670137979</td>\n      <td>16109879</td>\n      <td>711721.352376</td>\n      <td>79603.149673</td>\n      <td>0.094524</td>\n      <td>26983.248413</td>\n      <td>0.094524</td>\n      <td>106586.398086</td>\n      <td>0.189049</td>\n      <td>...</td>\n      <td>8.405483e+16</td>\n      <td>Balancer BTC Stable Pool</td>\n      <td>staBAL3-BTC</td>\n      <td>0xfeadd389a5c427952d8fdb8057d6c8ba1156cc56</td>\n      <td>Balancer BTC Stable Pool</td>\n      <td>staBAL3-BTC</td>\n      <td>18</td>\n      <td>17413.475544</td>\n      <td>16117099</td>\n      <td>2022-12-04 07:12:59</td>\n    </tr>\n    <tr>\n      <th>2</th>\n      <td>0xfeadd389a5c427952d8fdb8057d6c8ba1156cc56-19329</td>\n      <td>1670106755</td>\n      <td>16107290</td>\n      <td>711705.554119</td>\n      <td>79603.055149</td>\n      <td>0.160054</td>\n      <td>26983.153889</td>\n      <td>0.160054</td>\n      <td>106586.209037</td>\n      <td>0.320108</td>\n      <td>...</td>\n      <td>8.405483e+16</td>\n      <td>Balancer BTC Stable Pool</td>\n      <td>staBAL3-BTC</td>\n      <td>0xfeadd389a5c427952d8fdb8057d6c8ba1156cc56</td>\n      <td>Balancer BTC Stable Pool</td>\n      <td>staBAL3-BTC</td>\n      <td>18</td>\n      <td>17413.475544</td>\n      <td>16117099</td>\n      <td>2022-12-03 22:32:35</td>\n    </tr>\n    <tr>\n      <th>3</th>\n      <td>0xfeadd389a5c427952d8fdb8057d6c8ba1156cc56-19328</td>\n      <td>1670023559</td>\n      <td>16100394</td>\n      <td>714999.545722</td>\n      <td>79602.895095</td>\n      <td>1.891949</td>\n      <td>26982.993834</td>\n      <td>1.891949</td>\n      <td>106585.888929</td>\n      <td>3.783898</td>\n      <td>...</td>\n      <td>8.405483e+16</td>\n      <td>Balancer BTC Stable Pool</td>\n      <td>staBAL3-BTC</td>\n      <td>0xfeadd389a5c427952d8fdb8057d6c8ba1156cc56</td>\n      <td>Balancer BTC Stable Pool</td>\n      <td>staBAL3-BTC</td>\n      <td>18</td>\n      <td>17413.475544</td>\n      <td>16117099</td>\n      <td>2022-12-02 23:25:59</td>\n    </tr>\n    <tr>\n      <th>4</th>\n      <td>0xfeadd389a5c427952d8fdb8057d6c8ba1156cc56-19327</td>\n      <td>1669922351</td>\n      <td>16091997</td>\n      <td>717456.558517</td>\n      <td>79601.003146</td>\n      <td>3.127769</td>\n      <td>26981.101885</td>\n      <td>3.127769</td>\n      <td>106582.105031</td>\n      <td>6.255538</td>\n      <td>...</td>\n      <td>8.405483e+16</td>\n      <td>Balancer BTC Stable Pool</td>\n      <td>staBAL3-BTC</td>\n      <td>0xfeadd389a5c427952d8fdb8057d6c8ba1156cc56</td>\n      <td>Balancer BTC Stable Pool</td>\n      <td>staBAL3-BTC</td>\n      <td>18</td>\n      <td>17413.475544</td>\n      <td>16117099</td>\n      <td>2022-12-01 19:19:11</td>\n    </tr>\n    <tr>\n      <th>5</th>\n      <td>0xfeadd389a5c427952d8fdb8057d6c8ba1156cc56-19326</td>\n      <td>1669850543</td>\n      <td>16086047</td>\n      <td>711982.947166</td>\n      <td>79597.875376</td>\n      <td>2.542819</td>\n      <td>26977.974116</td>\n      <td>2.542819</td>\n      <td>106575.849493</td>\n      <td>5.085638</td>\n      <td>...</td>\n      <td>8.405483e+16</td>\n      <td>Balancer BTC Stable Pool</td>\n      <td>staBAL3-BTC</td>\n      <td>0xfeadd389a5c427952d8fdb8057d6c8ba1156cc56</td>\n      <td>Balancer BTC Stable Pool</td>\n      <td>staBAL3-BTC</td>\n      <td>18</td>\n      <td>17413.475544</td>\n      <td>16117099</td>\n      <td>2022-11-30 23:22:23</td>\n    </tr>\n    <tr>\n      <th>6</th>\n      <td>0xfeadd389a5c427952d8fdb8057d6c8ba1156cc56-19325</td>\n      <td>1669743371</td>\n      <td>16077177</td>\n      <td>691922.821460</td>\n      <td>79595.332558</td>\n      <td>1.775357</td>\n      <td>26975.431297</td>\n      <td>1.775357</td>\n      <td>106570.763855</td>\n      <td>3.550713</td>\n      <td>...</td>\n      <td>8.405483e+16</td>\n      <td>Balancer BTC Stable Pool</td>\n      <td>staBAL3-BTC</td>\n      <td>0xfeadd389a5c427952d8fdb8057d6c8ba1156cc56</td>\n      <td>Balancer BTC Stable Pool</td>\n      <td>staBAL3-BTC</td>\n      <td>18</td>\n      <td>17413.475544</td>\n      <td>16117099</td>\n      <td>2022-11-29 17:36:11</td>\n    </tr>\n    <tr>\n      <th>7</th>\n      <td>0xfeadd389a5c427952d8fdb8057d6c8ba1156cc56-19324</td>\n      <td>1669678559</td>\n      <td>16071811</td>\n      <td>599834.581009</td>\n      <td>79593.557201</td>\n      <td>3.177552</td>\n      <td>26973.655941</td>\n      <td>3.177552</td>\n      <td>106567.213142</td>\n      <td>6.355105</td>\n      <td>...</td>\n      <td>8.405483e+16</td>\n      <td>Balancer BTC Stable Pool</td>\n      <td>staBAL3-BTC</td>\n      <td>0xfeadd389a5c427952d8fdb8057d6c8ba1156cc56</td>\n      <td>Balancer BTC Stable Pool</td>\n      <td>staBAL3-BTC</td>\n      <td>18</td>\n      <td>17413.475544</td>\n      <td>16117099</td>\n      <td>2022-11-28 23:35:59</td>\n    </tr>\n    <tr>\n      <th>8</th>\n      <td>0xfeadd389a5c427952d8fdb8057d6c8ba1156cc56-19323</td>\n      <td>1669584311</td>\n      <td>16063988</td>\n      <td>696195.409533</td>\n      <td>79590.379649</td>\n      <td>2.837163</td>\n      <td>26970.478388</td>\n      <td>2.837163</td>\n      <td>106560.858037</td>\n      <td>5.674326</td>\n      <td>...</td>\n      <td>8.405483e+16</td>\n      <td>Balancer BTC Stable Pool</td>\n      <td>staBAL3-BTC</td>\n      <td>0xfeadd389a5c427952d8fdb8057d6c8ba1156cc56</td>\n      <td>Balancer BTC Stable Pool</td>\n      <td>staBAL3-BTC</td>\n      <td>18</td>\n      <td>17413.475544</td>\n      <td>16117099</td>\n      <td>2022-11-27 21:25:11</td>\n    </tr>\n    <tr>\n      <th>9</th>\n      <td>0xfeadd389a5c427952d8fdb8057d6c8ba1156cc56-19322</td>\n      <td>1669491479</td>\n      <td>16056295</td>\n      <td>699016.328360</td>\n      <td>79587.542486</td>\n      <td>10.399889</td>\n      <td>26967.641226</td>\n      <td>10.399889</td>\n      <td>106555.183711</td>\n      <td>20.799778</td>\n      <td>...</td>\n      <td>8.405483e+16</td>\n      <td>Balancer BTC Stable Pool</td>\n      <td>staBAL3-BTC</td>\n      <td>0xfeadd389a5c427952d8fdb8057d6c8ba1156cc56</td>\n      <td>Balancer BTC Stable Pool</td>\n      <td>staBAL3-BTC</td>\n      <td>18</td>\n      <td>17413.475544</td>\n      <td>16117099</td>\n      <td>2022-11-26 19:37:59</td>\n    </tr>\n  </tbody>\n</table>\n<p>10 rows × 25 columns</p>\n</div>"
     },
     "execution_count": 295,
     "metadata": {},
     "output_type": "execute_result"
    }
   ],
   "source": [
    "#BALANCER SUBGRAPH\n",
    "\n",
    "sushi8 = sg.load_api('https://gateway.thegraph.com/api/b0299a6e1895566f98d87e0711fa24ca/subgraphs/id/Ei5typKWPepPSgqkaKf3p5bPhgJesnu1RuRpyt69Pcrx')\n",
    "\n",
    "pools8 = sushi8.Query.liquidityPoolDailySnapshots(\n",
    "            orderBy='id',\n",
    "            orderDirection='desc',\n",
    "            #skip =(skipValue),\n",
    "            first=1000,\n",
    "            #where={ 'pool': '0xd1ec5e215e8148d76f4460e4097fd3d5ae0a3558' } #'0xfffae4a0f4ac251f4705717cd24cadccc9f33e06'  for Olympus/Wrapped Ether LP\n",
    "        )\n",
    "pool_data8 = sg.query_df([\n",
    "    pools8.id\n",
    "    ,pools8.timestamp\n",
    "    ,pools8.blockNumber\n",
    "    ,pools8.totalValueLockedUSD\n",
    "    ,pools8.cumulativeSupplySideRevenueUSD\n",
    "    ,pools8.dailySupplySideRevenueUSD\n",
    "    ,pools8.cumulativeProtocolSideRevenueUSD\n",
    "    ,pools8.dailyProtocolSideRevenueUSD\n",
    "    ,pools8.cumulativeTotalRevenueUSD\n",
    "    ,pools8.dailyTotalRevenueUSD\n",
    "    ,pools8.dailyVolumeUSD\n",
    "    ,pools8.cumulativeVolumeUSD\n",
    "    ,pools8.outputTokenSupply\n",
    "    ,pools8.outputTokenPriceUSD\n",
    "    ,pools8.stakedOutputTokenAmount\n",
    "    ,pools8.rewardTokenEmissionsAmount\n",
    "    ,pools8.pool.name\n",
    "    ,pools8.pool.symbol\n",
    "    ,pools8.pool.outputToken\n",
    "])\n",
    "\n",
    "pool_datadb8 = db.query(\"select \"\n",
    "               \"    * \"\n",
    "                    \" ,to_timestamp(liquidityPoolDailySnapshots_timestamp) dateTime \"\n",
    "               \"From pool_data8 \"\n",
    "               #\"where lower(liquidityPools_name) like lower('%olympus%') \"\n",
    "                #    \"or lower(pairs_token1_symbol) like lower('%OHM%')  \"\n",
    "               #\" limit 100 \"\n",
    "               ).df()\n",
    "\n",
    "pool_datadb8.head(10)"
   ],
   "metadata": {
    "collapsed": false,
    "pycharm": {
     "name": "#%%\n"
    }
   }
  },
  {
   "cell_type": "code",
   "execution_count": 276,
   "outputs": [
    {
     "data": {
      "text/plain": "                     liquidityPoolDailySnapshots_id  \\\n0  0xfe4a08f22fe65759ba91db2e2cada09b4415b0d7-19302   \n1  0xfe4a08f22fe65759ba91db2e2cada09b4415b0d7-19295   \n2  0xfe4a08f22fe65759ba91db2e2cada09b4415b0d7-19264   \n3  0xfe4a08f22fe65759ba91db2e2cada09b4415b0d7-19257   \n4  0xfe4a08f22fe65759ba91db2e2cada09b4415b0d7-19255   \n5  0xfe4a08f22fe65759ba91db2e2cada09b4415b0d7-19254   \n6  0xfe4a08f22fe65759ba91db2e2cada09b4415b0d7-19247   \n7  0xfe4a08f22fe65759ba91db2e2cada09b4415b0d7-19234   \n8  0xfe4a08f22fe65759ba91db2e2cada09b4415b0d7-19227   \n9  0xfe4a08f22fe65759ba91db2e2cada09b4415b0d7-19225   \n\n   liquidityPoolDailySnapshots_timestamp  \\\n0                             1667696951   \n1                             1667120999   \n2                             1664453651   \n3                             1663840499   \n4                             1663635875   \n5                             1663566995   \n6                             1662966330   \n7                             1661847114   \n8                             1661299016   \n9                             1661111145   \n\n   liquidityPoolDailySnapshots_blockNumber  \\\n0                                 15907598   \n1                                 15859889   \n2                                 15638932   \n3                                 15588120   \n4                                 15571302   \n5                                 15565622   \n6                                 15519564   \n7                                 15439264   \n8                                 15399640   \n9                                 15385887   \n\n   liquidityPoolDailySnapshots_totalValueLockedUSD  \\\n0                                              0.0   \n1                                              0.0   \n2                                              0.0   \n3                                              0.0   \n4                                              0.0   \n5                                              0.0   \n6                                              0.0   \n7                                              0.0   \n8                                              0.0   \n9                                              0.0   \n\n   liquidityPoolDailySnapshots_cumulativeSupplySideRevenueUSD  \\\n0                                        3008.896961            \n1                                        3008.896961            \n2                                        3008.715176            \n3                                        3008.715176            \n4                                        3008.398159            \n5                                        2988.082631            \n6                                        2987.719167            \n7                                        2987.460007            \n8                                        2986.080837            \n9                                        2985.728135            \n\n   liquidityPoolDailySnapshots_dailySupplySideRevenueUSD  \\\n0                                           0.000000       \n1                                           0.181785       \n2                                           0.000000       \n3                                           0.317017       \n4                                          20.315527       \n5                                           0.363465       \n6                                           0.259160       \n7                                           1.379170       \n8                                           0.352702       \n9                                           0.286859       \n\n   liquidityPoolDailySnapshots_cumulativeProtocolSideRevenueUSD  \\\n0                                        3008.896961              \n1                                        3008.896961              \n2                                        3008.715176              \n3                                        3008.715176              \n4                                        3008.398159              \n5                                        2988.082631              \n6                                        2987.719167              \n7                                        2987.460007              \n8                                        2986.080837              \n9                                        2985.728135              \n\n   liquidityPoolDailySnapshots_dailyProtocolSideRevenueUSD  \\\n0                                           0.000000         \n1                                           0.181785         \n2                                           0.000000         \n3                                           0.317017         \n4                                          20.315527         \n5                                           0.363465         \n6                                           0.259160         \n7                                           1.379170         \n8                                           0.352702         \n9                                           0.286859         \n\n   liquidityPoolDailySnapshots_cumulativeTotalRevenueUSD  \\\n0                                        6017.793921       \n1                                        6017.793921       \n2                                        6017.430352       \n3                                        6017.430352       \n4                                        6016.796318       \n5                                        5976.165263       \n6                                        5975.438334       \n7                                        5974.920014       \n8                                        5972.161674       \n9                                        5971.456270       \n\n   liquidityPoolDailySnapshots_dailyTotalRevenueUSD  ...  \\\n0                                          0.000000  ...   \n1                                          0.363569  ...   \n2                                          0.000000  ...   \n3                                          0.634035  ...   \n4                                         40.631055  ...   \n5                                          0.726929  ...   \n6                                          0.518319  ...   \n7                                          2.758340  ...   \n8                                          0.705404  ...   \n9                                          0.573717  ...   \n\n   liquidityPoolDailySnapshots_rewardTokenEmissionsAmount  \\\n0                                                0.0        \n1                                                0.0        \n2                                                0.0        \n3                                                0.0        \n4                                                0.0        \n5                                                0.0        \n6                                                0.0        \n7                                                0.0        \n8                                                0.0        \n9                                                0.0        \n\n   liquidityPoolDailySnapshots_pool_name  \\\n0  Curve.fi Factory Crypto Pool: LFT/ETH   \n1  Curve.fi Factory Crypto Pool: LFT/ETH   \n2  Curve.fi Factory Crypto Pool: LFT/ETH   \n3  Curve.fi Factory Crypto Pool: LFT/ETH   \n4  Curve.fi Factory Crypto Pool: LFT/ETH   \n5  Curve.fi Factory Crypto Pool: LFT/ETH   \n6  Curve.fi Factory Crypto Pool: LFT/ETH   \n7  Curve.fi Factory Crypto Pool: LFT/ETH   \n8  Curve.fi Factory Crypto Pool: LFT/ETH   \n9  Curve.fi Factory Crypto Pool: LFT/ETH   \n\n   liquidityPoolDailySnapshots_pool_symbol  \\\n0                                 LFTETH-f   \n1                                 LFTETH-f   \n2                                 LFTETH-f   \n3                                 LFTETH-f   \n4                                 LFTETH-f   \n5                                 LFTETH-f   \n6                                 LFTETH-f   \n7                                 LFTETH-f   \n8                                 LFTETH-f   \n9                                 LFTETH-f   \n\n   liquidityPoolDailySnapshots_pool_outputToken_id  \\\n0       0x401322b9fddba8c0a8d40fbcece1d1752c12316b   \n1       0x401322b9fddba8c0a8d40fbcece1d1752c12316b   \n2       0x401322b9fddba8c0a8d40fbcece1d1752c12316b   \n3       0x401322b9fddba8c0a8d40fbcece1d1752c12316b   \n4       0x401322b9fddba8c0a8d40fbcece1d1752c12316b   \n5       0x401322b9fddba8c0a8d40fbcece1d1752c12316b   \n6       0x401322b9fddba8c0a8d40fbcece1d1752c12316b   \n7       0x401322b9fddba8c0a8d40fbcece1d1752c12316b   \n8       0x401322b9fddba8c0a8d40fbcece1d1752c12316b   \n9       0x401322b9fddba8c0a8d40fbcece1d1752c12316b   \n\n   liquidityPoolDailySnapshots_pool_outputToken_name  \\\n0              Curve.fi Factory Crypto Pool: LFT/ETH   \n1              Curve.fi Factory Crypto Pool: LFT/ETH   \n2              Curve.fi Factory Crypto Pool: LFT/ETH   \n3              Curve.fi Factory Crypto Pool: LFT/ETH   \n4              Curve.fi Factory Crypto Pool: LFT/ETH   \n5              Curve.fi Factory Crypto Pool: LFT/ETH   \n6              Curve.fi Factory Crypto Pool: LFT/ETH   \n7              Curve.fi Factory Crypto Pool: LFT/ETH   \n8              Curve.fi Factory Crypto Pool: LFT/ETH   \n9              Curve.fi Factory Crypto Pool: LFT/ETH   \n\n   liquidityPoolDailySnapshots_pool_outputToken_symbol  \\\n0                                           LFTETH-f     \n1                                           LFTETH-f     \n2                                           LFTETH-f     \n3                                           LFTETH-f     \n4                                           LFTETH-f     \n5                                           LFTETH-f     \n6                                           LFTETH-f     \n7                                           LFTETH-f     \n8                                           LFTETH-f     \n9                                           LFTETH-f     \n\n  liquidityPoolDailySnapshots_pool_outputToken_decimals  \\\n0                                                 18      \n1                                                 18      \n2                                                 18      \n3                                                 18      \n4                                                 18      \n5                                                 18      \n6                                                 18      \n7                                                 18      \n8                                                 18      \n9                                                 18      \n\n  liquidityPoolDailySnapshots_pool_outputToken_lastPriceUSD  \\\n0                                                0.0          \n1                                                0.0          \n2                                                0.0          \n3                                                0.0          \n4                                                0.0          \n5                                                0.0          \n6                                                0.0          \n7                                                0.0          \n8                                                0.0          \n9                                                0.0          \n\n  liquidityPoolDailySnapshots_pool_outputToken_lastPriceBlockNumber  \\\n0                                           15907598                  \n1                                           15907598                  \n2                                           15907598                  \n3                                           15907598                  \n4                                           15907598                  \n5                                           15907598                  \n6                                           15907598                  \n7                                           15907598                  \n8                                           15907598                  \n9                                           15907598                  \n\n             dateTime  \n0 2022-11-06 01:09:11  \n1 2022-10-30 09:09:59  \n2 2022-09-29 12:14:11  \n3 2022-09-22 09:54:59  \n4 2022-09-20 01:04:35  \n5 2022-09-19 05:56:35  \n6 2022-09-12 07:05:30  \n7 2022-08-30 08:11:54  \n8 2022-08-23 23:56:56  \n9 2022-08-21 19:45:45  \n\n[10 rows x 25 columns]",
      "text/html": "<div>\n<style scoped>\n    .dataframe tbody tr th:only-of-type {\n        vertical-align: middle;\n    }\n\n    .dataframe tbody tr th {\n        vertical-align: top;\n    }\n\n    .dataframe thead th {\n        text-align: right;\n    }\n</style>\n<table border=\"1\" class=\"dataframe\">\n  <thead>\n    <tr style=\"text-align: right;\">\n      <th></th>\n      <th>liquidityPoolDailySnapshots_id</th>\n      <th>liquidityPoolDailySnapshots_timestamp</th>\n      <th>liquidityPoolDailySnapshots_blockNumber</th>\n      <th>liquidityPoolDailySnapshots_totalValueLockedUSD</th>\n      <th>liquidityPoolDailySnapshots_cumulativeSupplySideRevenueUSD</th>\n      <th>liquidityPoolDailySnapshots_dailySupplySideRevenueUSD</th>\n      <th>liquidityPoolDailySnapshots_cumulativeProtocolSideRevenueUSD</th>\n      <th>liquidityPoolDailySnapshots_dailyProtocolSideRevenueUSD</th>\n      <th>liquidityPoolDailySnapshots_cumulativeTotalRevenueUSD</th>\n      <th>liquidityPoolDailySnapshots_dailyTotalRevenueUSD</th>\n      <th>...</th>\n      <th>liquidityPoolDailySnapshots_rewardTokenEmissionsAmount</th>\n      <th>liquidityPoolDailySnapshots_pool_name</th>\n      <th>liquidityPoolDailySnapshots_pool_symbol</th>\n      <th>liquidityPoolDailySnapshots_pool_outputToken_id</th>\n      <th>liquidityPoolDailySnapshots_pool_outputToken_name</th>\n      <th>liquidityPoolDailySnapshots_pool_outputToken_symbol</th>\n      <th>liquidityPoolDailySnapshots_pool_outputToken_decimals</th>\n      <th>liquidityPoolDailySnapshots_pool_outputToken_lastPriceUSD</th>\n      <th>liquidityPoolDailySnapshots_pool_outputToken_lastPriceBlockNumber</th>\n      <th>dateTime</th>\n    </tr>\n  </thead>\n  <tbody>\n    <tr>\n      <th>0</th>\n      <td>0xfe4a08f22fe65759ba91db2e2cada09b4415b0d7-19302</td>\n      <td>1667696951</td>\n      <td>15907598</td>\n      <td>0.0</td>\n      <td>3008.896961</td>\n      <td>0.000000</td>\n      <td>3008.896961</td>\n      <td>0.000000</td>\n      <td>6017.793921</td>\n      <td>0.000000</td>\n      <td>...</td>\n      <td>0.0</td>\n      <td>Curve.fi Factory Crypto Pool: LFT/ETH</td>\n      <td>LFTETH-f</td>\n      <td>0x401322b9fddba8c0a8d40fbcece1d1752c12316b</td>\n      <td>Curve.fi Factory Crypto Pool: LFT/ETH</td>\n      <td>LFTETH-f</td>\n      <td>18</td>\n      <td>0.0</td>\n      <td>15907598</td>\n      <td>2022-11-06 01:09:11</td>\n    </tr>\n    <tr>\n      <th>1</th>\n      <td>0xfe4a08f22fe65759ba91db2e2cada09b4415b0d7-19295</td>\n      <td>1667120999</td>\n      <td>15859889</td>\n      <td>0.0</td>\n      <td>3008.896961</td>\n      <td>0.181785</td>\n      <td>3008.896961</td>\n      <td>0.181785</td>\n      <td>6017.793921</td>\n      <td>0.363569</td>\n      <td>...</td>\n      <td>0.0</td>\n      <td>Curve.fi Factory Crypto Pool: LFT/ETH</td>\n      <td>LFTETH-f</td>\n      <td>0x401322b9fddba8c0a8d40fbcece1d1752c12316b</td>\n      <td>Curve.fi Factory Crypto Pool: LFT/ETH</td>\n      <td>LFTETH-f</td>\n      <td>18</td>\n      <td>0.0</td>\n      <td>15907598</td>\n      <td>2022-10-30 09:09:59</td>\n    </tr>\n    <tr>\n      <th>2</th>\n      <td>0xfe4a08f22fe65759ba91db2e2cada09b4415b0d7-19264</td>\n      <td>1664453651</td>\n      <td>15638932</td>\n      <td>0.0</td>\n      <td>3008.715176</td>\n      <td>0.000000</td>\n      <td>3008.715176</td>\n      <td>0.000000</td>\n      <td>6017.430352</td>\n      <td>0.000000</td>\n      <td>...</td>\n      <td>0.0</td>\n      <td>Curve.fi Factory Crypto Pool: LFT/ETH</td>\n      <td>LFTETH-f</td>\n      <td>0x401322b9fddba8c0a8d40fbcece1d1752c12316b</td>\n      <td>Curve.fi Factory Crypto Pool: LFT/ETH</td>\n      <td>LFTETH-f</td>\n      <td>18</td>\n      <td>0.0</td>\n      <td>15907598</td>\n      <td>2022-09-29 12:14:11</td>\n    </tr>\n    <tr>\n      <th>3</th>\n      <td>0xfe4a08f22fe65759ba91db2e2cada09b4415b0d7-19257</td>\n      <td>1663840499</td>\n      <td>15588120</td>\n      <td>0.0</td>\n      <td>3008.715176</td>\n      <td>0.317017</td>\n      <td>3008.715176</td>\n      <td>0.317017</td>\n      <td>6017.430352</td>\n      <td>0.634035</td>\n      <td>...</td>\n      <td>0.0</td>\n      <td>Curve.fi Factory Crypto Pool: LFT/ETH</td>\n      <td>LFTETH-f</td>\n      <td>0x401322b9fddba8c0a8d40fbcece1d1752c12316b</td>\n      <td>Curve.fi Factory Crypto Pool: LFT/ETH</td>\n      <td>LFTETH-f</td>\n      <td>18</td>\n      <td>0.0</td>\n      <td>15907598</td>\n      <td>2022-09-22 09:54:59</td>\n    </tr>\n    <tr>\n      <th>4</th>\n      <td>0xfe4a08f22fe65759ba91db2e2cada09b4415b0d7-19255</td>\n      <td>1663635875</td>\n      <td>15571302</td>\n      <td>0.0</td>\n      <td>3008.398159</td>\n      <td>20.315527</td>\n      <td>3008.398159</td>\n      <td>20.315527</td>\n      <td>6016.796318</td>\n      <td>40.631055</td>\n      <td>...</td>\n      <td>0.0</td>\n      <td>Curve.fi Factory Crypto Pool: LFT/ETH</td>\n      <td>LFTETH-f</td>\n      <td>0x401322b9fddba8c0a8d40fbcece1d1752c12316b</td>\n      <td>Curve.fi Factory Crypto Pool: LFT/ETH</td>\n      <td>LFTETH-f</td>\n      <td>18</td>\n      <td>0.0</td>\n      <td>15907598</td>\n      <td>2022-09-20 01:04:35</td>\n    </tr>\n    <tr>\n      <th>5</th>\n      <td>0xfe4a08f22fe65759ba91db2e2cada09b4415b0d7-19254</td>\n      <td>1663566995</td>\n      <td>15565622</td>\n      <td>0.0</td>\n      <td>2988.082631</td>\n      <td>0.363465</td>\n      <td>2988.082631</td>\n      <td>0.363465</td>\n      <td>5976.165263</td>\n      <td>0.726929</td>\n      <td>...</td>\n      <td>0.0</td>\n      <td>Curve.fi Factory Crypto Pool: LFT/ETH</td>\n      <td>LFTETH-f</td>\n      <td>0x401322b9fddba8c0a8d40fbcece1d1752c12316b</td>\n      <td>Curve.fi Factory Crypto Pool: LFT/ETH</td>\n      <td>LFTETH-f</td>\n      <td>18</td>\n      <td>0.0</td>\n      <td>15907598</td>\n      <td>2022-09-19 05:56:35</td>\n    </tr>\n    <tr>\n      <th>6</th>\n      <td>0xfe4a08f22fe65759ba91db2e2cada09b4415b0d7-19247</td>\n      <td>1662966330</td>\n      <td>15519564</td>\n      <td>0.0</td>\n      <td>2987.719167</td>\n      <td>0.259160</td>\n      <td>2987.719167</td>\n      <td>0.259160</td>\n      <td>5975.438334</td>\n      <td>0.518319</td>\n      <td>...</td>\n      <td>0.0</td>\n      <td>Curve.fi Factory Crypto Pool: LFT/ETH</td>\n      <td>LFTETH-f</td>\n      <td>0x401322b9fddba8c0a8d40fbcece1d1752c12316b</td>\n      <td>Curve.fi Factory Crypto Pool: LFT/ETH</td>\n      <td>LFTETH-f</td>\n      <td>18</td>\n      <td>0.0</td>\n      <td>15907598</td>\n      <td>2022-09-12 07:05:30</td>\n    </tr>\n    <tr>\n      <th>7</th>\n      <td>0xfe4a08f22fe65759ba91db2e2cada09b4415b0d7-19234</td>\n      <td>1661847114</td>\n      <td>15439264</td>\n      <td>0.0</td>\n      <td>2987.460007</td>\n      <td>1.379170</td>\n      <td>2987.460007</td>\n      <td>1.379170</td>\n      <td>5974.920014</td>\n      <td>2.758340</td>\n      <td>...</td>\n      <td>0.0</td>\n      <td>Curve.fi Factory Crypto Pool: LFT/ETH</td>\n      <td>LFTETH-f</td>\n      <td>0x401322b9fddba8c0a8d40fbcece1d1752c12316b</td>\n      <td>Curve.fi Factory Crypto Pool: LFT/ETH</td>\n      <td>LFTETH-f</td>\n      <td>18</td>\n      <td>0.0</td>\n      <td>15907598</td>\n      <td>2022-08-30 08:11:54</td>\n    </tr>\n    <tr>\n      <th>8</th>\n      <td>0xfe4a08f22fe65759ba91db2e2cada09b4415b0d7-19227</td>\n      <td>1661299016</td>\n      <td>15399640</td>\n      <td>0.0</td>\n      <td>2986.080837</td>\n      <td>0.352702</td>\n      <td>2986.080837</td>\n      <td>0.352702</td>\n      <td>5972.161674</td>\n      <td>0.705404</td>\n      <td>...</td>\n      <td>0.0</td>\n      <td>Curve.fi Factory Crypto Pool: LFT/ETH</td>\n      <td>LFTETH-f</td>\n      <td>0x401322b9fddba8c0a8d40fbcece1d1752c12316b</td>\n      <td>Curve.fi Factory Crypto Pool: LFT/ETH</td>\n      <td>LFTETH-f</td>\n      <td>18</td>\n      <td>0.0</td>\n      <td>15907598</td>\n      <td>2022-08-23 23:56:56</td>\n    </tr>\n    <tr>\n      <th>9</th>\n      <td>0xfe4a08f22fe65759ba91db2e2cada09b4415b0d7-19225</td>\n      <td>1661111145</td>\n      <td>15385887</td>\n      <td>0.0</td>\n      <td>2985.728135</td>\n      <td>0.286859</td>\n      <td>2985.728135</td>\n      <td>0.286859</td>\n      <td>5971.456270</td>\n      <td>0.573717</td>\n      <td>...</td>\n      <td>0.0</td>\n      <td>Curve.fi Factory Crypto Pool: LFT/ETH</td>\n      <td>LFTETH-f</td>\n      <td>0x401322b9fddba8c0a8d40fbcece1d1752c12316b</td>\n      <td>Curve.fi Factory Crypto Pool: LFT/ETH</td>\n      <td>LFTETH-f</td>\n      <td>18</td>\n      <td>0.0</td>\n      <td>15907598</td>\n      <td>2022-08-21 19:45:45</td>\n    </tr>\n  </tbody>\n</table>\n<p>10 rows × 25 columns</p>\n</div>"
     },
     "execution_count": 276,
     "metadata": {},
     "output_type": "execute_result"
    }
   ],
   "source": [
    "#CURVE SUBGRAPH\n",
    "sushi9 = sg.load_api('https://gateway.thegraph.com/api/b0299a6e1895566f98d87e0711fa24ca/subgraphs/id/GAGwGKc4ArNKKq9eFTcwgd1UGymvqhTier9Npqo1YvZB')\n",
    "\n",
    "pools9 = sushi9.Query.liquidityPoolDailySnapshots(\n",
    "            orderBy='id',\n",
    "            orderDirection='desc',\n",
    "            #skip =(skipValue),\n",
    "            first=1000,\n",
    "            where=[\n",
    "              sushi7.Query.liquidityPoolDailySnapshots.timestamp > 1604302679\n",
    "          ]\n",
    "        )\n",
    "pool_data9 = sg.query_df([\n",
    "    pools9.id\n",
    "    ,pools9.timestamp\n",
    "    ,pools9.blockNumber\n",
    "    ,pools9.totalValueLockedUSD\n",
    "    ,pools9.cumulativeSupplySideRevenueUSD\n",
    "    ,pools9.dailySupplySideRevenueUSD\n",
    "    ,pools9.cumulativeProtocolSideRevenueUSD\n",
    "    ,pools9.dailyProtocolSideRevenueUSD\n",
    "    ,pools9.cumulativeTotalRevenueUSD\n",
    "    ,pools9.dailyTotalRevenueUSD\n",
    "    ,pools9.dailyVolumeUSD\n",
    "    ,pools9.cumulativeVolumeUSD\n",
    "    ,pools9.outputTokenSupply\n",
    "    ,pools9.outputTokenPriceUSD\n",
    "    ,pools9.stakedOutputTokenAmount\n",
    "    ,pools9.rewardTokenEmissionsAmount\n",
    "    ,pools9.pool.name\n",
    "    ,pools9.pool.symbol\n",
    "    ,pools9.pool.outputToken\n",
    "])\n",
    "\n",
    "pool_datadb9 = db.query(\"select \"\n",
    "               \"    * \"\n",
    "                    \" ,to_timestamp(liquidityPoolDailySnapshots_timestamp) dateTime \"\n",
    "               \"From pool_data9 \"\n",
    "               #\"where lower(liquidityPools_name) like lower('%olympus%') \"\n",
    "                #    \"or lower(pairs_token1_symbol) like lower('%OHM%')  \"\n",
    "               #\" limit 100 \"\n",
    "               ).df()\n",
    "\n",
    "pool_datadb9.head(10)"
   ],
   "metadata": {
    "collapsed": false,
    "pycharm": {
     "name": "#%%\n"
    }
   }
  },
  {
   "cell_type": "code",
   "execution_count": 279,
   "outputs": [
    {
     "data": {
      "text/plain": "                     liquidityPoolDailySnapshots_id  \\\n0  0xffef4d319572cc667587f92aa9b61bec0f1a979c-19253   \n1  0xffef4d319572cc667587f92aa9b61bec0f1a979c-19230   \n2  0xffef4d319572cc667587f92aa9b61bec0f1a979c-19229   \n3  0xffe6008fcf63732ec8f666a91bf32e9be4eb7d56-19357   \n4  0xffe6008fcf63732ec8f666a91bf32e9be4eb7d56-19354   \n5  0xffe6008fcf63732ec8f666a91bf32e9be4eb7d56-19351   \n6  0xffe6008fcf63732ec8f666a91bf32e9be4eb7d56-19343   \n7  0xffe6008fcf63732ec8f666a91bf32e9be4eb7d56-19334   \n8  0xffe6008fcf63732ec8f666a91bf32e9be4eb7d56-19333   \n9  0xffe6008fcf63732ec8f666a91bf32e9be4eb7d56-19332   \n\n   liquidityPoolDailySnapshots_timestamp  \\\n0                             1663484123   \n1                             1661490018   \n2                             1661459936   \n3                             1672451243   \n4                             1672202651   \n5                             1671986651   \n6                             1671258731   \n7                             1670489015   \n8                             1670392619   \n9                             1670318339   \n\n   liquidityPoolDailySnapshots_blockNumber  \\\n0                                 15558783   \n1                                 15413408   \n2                                 15411212   \n3                                 16301560   \n4                                 16280941   \n5                                 16263032   \n6                                 16202644   \n7                                 16138875   \n8                                 16130920   \n9                                 16124809   \n\n   liquidityPoolDailySnapshots_totalValueLockedUSD  \\\n0                                         0.086901   \n1                                         1.731670   \n2                                        81.059476   \n3                                     29738.270227   \n4                                     29728.245823   \n5                                     30146.873192   \n6                                     29684.854892   \n7                                     31095.901110   \n8                                     31825.215721   \n9                                     31760.634450   \n\n   liquidityPoolDailySnapshots_cumulativeSupplySideRevenueUSD  \\\n0                                         156.197097            \n1                                         156.182984            \n2                                         155.982773            \n3                                        2343.008063            \n4                                        2343.008063            \n5                                        2343.008063            \n6                                        2343.008063            \n7                                        2343.008063            \n8                                        2343.008063            \n9                                        2343.008063            \n\n   liquidityPoolDailySnapshots_dailySupplySideRevenueUSD  \\\n0                                           0.014114       \n1                                           0.200210       \n2                                         155.982773       \n3                                           0.000000       \n4                                           0.000000       \n5                                           0.000000       \n6                                           0.000000       \n7                                           0.000000       \n8                                           0.000000       \n9                                           0.000000       \n\n   liquidityPoolDailySnapshots_cumulativeProtocolSideRevenueUSD  \\\n0                                                0.0              \n1                                                0.0              \n2                                                0.0              \n3                                                0.0              \n4                                                0.0              \n5                                                0.0              \n6                                                0.0              \n7                                                0.0              \n8                                                0.0              \n9                                                0.0              \n\n   liquidityPoolDailySnapshots_dailyProtocolSideRevenueUSD  \\\n0                                                0.0         \n1                                                0.0         \n2                                                0.0         \n3                                                0.0         \n4                                                0.0         \n5                                                0.0         \n6                                                0.0         \n7                                                0.0         \n8                                                0.0         \n9                                                0.0         \n\n   liquidityPoolDailySnapshots_cumulativeTotalRevenueUSD  \\\n0                                         156.197097       \n1                                         156.182984       \n2                                         155.982773       \n3                                        2343.008063       \n4                                        2343.008063       \n5                                        2343.008063       \n6                                        2343.008063       \n7                                        2343.008063       \n8                                        2343.008063       \n9                                        2343.008063       \n\n   liquidityPoolDailySnapshots_dailyTotalRevenueUSD  ...  \\\n0                                          0.014114  ...   \n1                                          0.200210  ...   \n2                                        155.982773  ...   \n3                                          0.000000  ...   \n4                                          0.000000  ...   \n5                                          0.000000  ...   \n6                                          0.000000  ...   \n7                                          0.000000  ...   \n8                                          0.000000  ...   \n9                                          0.000000  ...   \n\n   liquidityPoolDailySnapshots_rewardTokenEmissionsAmount  \\\n0                                                NaN        \n1                                                NaN        \n2                                                NaN        \n3                                                NaN        \n4                                                NaN        \n5                                                NaN        \n6                                                NaN        \n7                                                NaN        \n8                                                NaN        \n9                                                NaN        \n\n      liquidityPoolDailySnapshots_pool_name  \\\n0     Uniswap V3 This Life/Wrapped Ether 1%   \n1     Uniswap V3 This Life/Wrapped Ether 1%   \n2     Uniswap V3 This Life/Wrapped Ether 1%   \n3  Uniswap V3 Ethersocks/Wrapped Ether 0.3%   \n4  Uniswap V3 Ethersocks/Wrapped Ether 0.3%   \n5  Uniswap V3 Ethersocks/Wrapped Ether 0.3%   \n6  Uniswap V3 Ethersocks/Wrapped Ether 0.3%   \n7  Uniswap V3 Ethersocks/Wrapped Ether 0.3%   \n8  Uniswap V3 Ethersocks/Wrapped Ether 0.3%   \n9  Uniswap V3 Ethersocks/Wrapped Ether 0.3%   \n\n   liquidityPoolDailySnapshots_pool_symbol  \\\n0                  This Life/Wrapped Ether   \n1                  This Life/Wrapped Ether   \n2                  This Life/Wrapped Ether   \n3                 Ethersocks/Wrapped Ether   \n4                 Ethersocks/Wrapped Ether   \n5                 Ethersocks/Wrapped Ether   \n6                 Ethersocks/Wrapped Ether   \n7                 Ethersocks/Wrapped Ether   \n8                 Ethersocks/Wrapped Ether   \n9                 Ethersocks/Wrapped Ether   \n\n   liquidityPoolDailySnapshots_pool_outputToken_id  \\\n0                                              NaN   \n1                                              NaN   \n2                                              NaN   \n3                                              NaN   \n4                                              NaN   \n5                                              NaN   \n6                                              NaN   \n7                                              NaN   \n8                                              NaN   \n9                                              NaN   \n\n   liquidityPoolDailySnapshots_pool_outputToken_name  \\\n0                                                NaN   \n1                                                NaN   \n2                                                NaN   \n3                                                NaN   \n4                                                NaN   \n5                                                NaN   \n6                                                NaN   \n7                                                NaN   \n8                                                NaN   \n9                                                NaN   \n\n   liquidityPoolDailySnapshots_pool_outputToken_symbol  \\\n0                                                NaN     \n1                                                NaN     \n2                                                NaN     \n3                                                NaN     \n4                                                NaN     \n5                                                NaN     \n6                                                NaN     \n7                                                NaN     \n8                                                NaN     \n9                                                NaN     \n\n  liquidityPoolDailySnapshots_pool_outputToken_decimals  \\\n0                                                NaN      \n1                                                NaN      \n2                                                NaN      \n3                                                NaN      \n4                                                NaN      \n5                                                NaN      \n6                                                NaN      \n7                                                NaN      \n8                                                NaN      \n9                                                NaN      \n\n  liquidityPoolDailySnapshots_pool_outputToken_lastPriceUSD  \\\n0                                                NaN          \n1                                                NaN          \n2                                                NaN          \n3                                                NaN          \n4                                                NaN          \n5                                                NaN          \n6                                                NaN          \n7                                                NaN          \n8                                                NaN          \n9                                                NaN          \n\n   liquidityPoolDailySnapshots_pool_outputToken_lastPriceBlockNumber  \\\n0                                                NaN                   \n1                                                NaN                   \n2                                                NaN                   \n3                                                NaN                   \n4                                                NaN                   \n5                                                NaN                   \n6                                                NaN                   \n7                                                NaN                   \n8                                                NaN                   \n9                                                NaN                   \n\n             dateTime  \n0 2022-09-18 06:55:23  \n1 2022-08-26 05:00:18  \n2 2022-08-25 20:38:56  \n3 2022-12-31 01:47:23  \n4 2022-12-28 04:44:11  \n5 2022-12-25 16:44:11  \n6 2022-12-17 06:32:11  \n7 2022-12-08 08:43:35  \n8 2022-12-07 05:56:59  \n9 2022-12-06 09:18:59  \n\n[10 rows x 25 columns]",
      "text/html": "<div>\n<style scoped>\n    .dataframe tbody tr th:only-of-type {\n        vertical-align: middle;\n    }\n\n    .dataframe tbody tr th {\n        vertical-align: top;\n    }\n\n    .dataframe thead th {\n        text-align: right;\n    }\n</style>\n<table border=\"1\" class=\"dataframe\">\n  <thead>\n    <tr style=\"text-align: right;\">\n      <th></th>\n      <th>liquidityPoolDailySnapshots_id</th>\n      <th>liquidityPoolDailySnapshots_timestamp</th>\n      <th>liquidityPoolDailySnapshots_blockNumber</th>\n      <th>liquidityPoolDailySnapshots_totalValueLockedUSD</th>\n      <th>liquidityPoolDailySnapshots_cumulativeSupplySideRevenueUSD</th>\n      <th>liquidityPoolDailySnapshots_dailySupplySideRevenueUSD</th>\n      <th>liquidityPoolDailySnapshots_cumulativeProtocolSideRevenueUSD</th>\n      <th>liquidityPoolDailySnapshots_dailyProtocolSideRevenueUSD</th>\n      <th>liquidityPoolDailySnapshots_cumulativeTotalRevenueUSD</th>\n      <th>liquidityPoolDailySnapshots_dailyTotalRevenueUSD</th>\n      <th>...</th>\n      <th>liquidityPoolDailySnapshots_rewardTokenEmissionsAmount</th>\n      <th>liquidityPoolDailySnapshots_pool_name</th>\n      <th>liquidityPoolDailySnapshots_pool_symbol</th>\n      <th>liquidityPoolDailySnapshots_pool_outputToken_id</th>\n      <th>liquidityPoolDailySnapshots_pool_outputToken_name</th>\n      <th>liquidityPoolDailySnapshots_pool_outputToken_symbol</th>\n      <th>liquidityPoolDailySnapshots_pool_outputToken_decimals</th>\n      <th>liquidityPoolDailySnapshots_pool_outputToken_lastPriceUSD</th>\n      <th>liquidityPoolDailySnapshots_pool_outputToken_lastPriceBlockNumber</th>\n      <th>dateTime</th>\n    </tr>\n  </thead>\n  <tbody>\n    <tr>\n      <th>0</th>\n      <td>0xffef4d319572cc667587f92aa9b61bec0f1a979c-19253</td>\n      <td>1663484123</td>\n      <td>15558783</td>\n      <td>0.086901</td>\n      <td>156.197097</td>\n      <td>0.014114</td>\n      <td>0.0</td>\n      <td>0.0</td>\n      <td>156.197097</td>\n      <td>0.014114</td>\n      <td>...</td>\n      <td>NaN</td>\n      <td>Uniswap V3 This Life/Wrapped Ether 1%</td>\n      <td>This Life/Wrapped Ether</td>\n      <td>NaN</td>\n      <td>NaN</td>\n      <td>NaN</td>\n      <td>NaN</td>\n      <td>NaN</td>\n      <td>NaN</td>\n      <td>2022-09-18 06:55:23</td>\n    </tr>\n    <tr>\n      <th>1</th>\n      <td>0xffef4d319572cc667587f92aa9b61bec0f1a979c-19230</td>\n      <td>1661490018</td>\n      <td>15413408</td>\n      <td>1.731670</td>\n      <td>156.182984</td>\n      <td>0.200210</td>\n      <td>0.0</td>\n      <td>0.0</td>\n      <td>156.182984</td>\n      <td>0.200210</td>\n      <td>...</td>\n      <td>NaN</td>\n      <td>Uniswap V3 This Life/Wrapped Ether 1%</td>\n      <td>This Life/Wrapped Ether</td>\n      <td>NaN</td>\n      <td>NaN</td>\n      <td>NaN</td>\n      <td>NaN</td>\n      <td>NaN</td>\n      <td>NaN</td>\n      <td>2022-08-26 05:00:18</td>\n    </tr>\n    <tr>\n      <th>2</th>\n      <td>0xffef4d319572cc667587f92aa9b61bec0f1a979c-19229</td>\n      <td>1661459936</td>\n      <td>15411212</td>\n      <td>81.059476</td>\n      <td>155.982773</td>\n      <td>155.982773</td>\n      <td>0.0</td>\n      <td>0.0</td>\n      <td>155.982773</td>\n      <td>155.982773</td>\n      <td>...</td>\n      <td>NaN</td>\n      <td>Uniswap V3 This Life/Wrapped Ether 1%</td>\n      <td>This Life/Wrapped Ether</td>\n      <td>NaN</td>\n      <td>NaN</td>\n      <td>NaN</td>\n      <td>NaN</td>\n      <td>NaN</td>\n      <td>NaN</td>\n      <td>2022-08-25 20:38:56</td>\n    </tr>\n    <tr>\n      <th>3</th>\n      <td>0xffe6008fcf63732ec8f666a91bf32e9be4eb7d56-19357</td>\n      <td>1672451243</td>\n      <td>16301560</td>\n      <td>29738.270227</td>\n      <td>2343.008063</td>\n      <td>0.000000</td>\n      <td>0.0</td>\n      <td>0.0</td>\n      <td>2343.008063</td>\n      <td>0.000000</td>\n      <td>...</td>\n      <td>NaN</td>\n      <td>Uniswap V3 Ethersocks/Wrapped Ether 0.3%</td>\n      <td>Ethersocks/Wrapped Ether</td>\n      <td>NaN</td>\n      <td>NaN</td>\n      <td>NaN</td>\n      <td>NaN</td>\n      <td>NaN</td>\n      <td>NaN</td>\n      <td>2022-12-31 01:47:23</td>\n    </tr>\n    <tr>\n      <th>4</th>\n      <td>0xffe6008fcf63732ec8f666a91bf32e9be4eb7d56-19354</td>\n      <td>1672202651</td>\n      <td>16280941</td>\n      <td>29728.245823</td>\n      <td>2343.008063</td>\n      <td>0.000000</td>\n      <td>0.0</td>\n      <td>0.0</td>\n      <td>2343.008063</td>\n      <td>0.000000</td>\n      <td>...</td>\n      <td>NaN</td>\n      <td>Uniswap V3 Ethersocks/Wrapped Ether 0.3%</td>\n      <td>Ethersocks/Wrapped Ether</td>\n      <td>NaN</td>\n      <td>NaN</td>\n      <td>NaN</td>\n      <td>NaN</td>\n      <td>NaN</td>\n      <td>NaN</td>\n      <td>2022-12-28 04:44:11</td>\n    </tr>\n    <tr>\n      <th>5</th>\n      <td>0xffe6008fcf63732ec8f666a91bf32e9be4eb7d56-19351</td>\n      <td>1671986651</td>\n      <td>16263032</td>\n      <td>30146.873192</td>\n      <td>2343.008063</td>\n      <td>0.000000</td>\n      <td>0.0</td>\n      <td>0.0</td>\n      <td>2343.008063</td>\n      <td>0.000000</td>\n      <td>...</td>\n      <td>NaN</td>\n      <td>Uniswap V3 Ethersocks/Wrapped Ether 0.3%</td>\n      <td>Ethersocks/Wrapped Ether</td>\n      <td>NaN</td>\n      <td>NaN</td>\n      <td>NaN</td>\n      <td>NaN</td>\n      <td>NaN</td>\n      <td>NaN</td>\n      <td>2022-12-25 16:44:11</td>\n    </tr>\n    <tr>\n      <th>6</th>\n      <td>0xffe6008fcf63732ec8f666a91bf32e9be4eb7d56-19343</td>\n      <td>1671258731</td>\n      <td>16202644</td>\n      <td>29684.854892</td>\n      <td>2343.008063</td>\n      <td>0.000000</td>\n      <td>0.0</td>\n      <td>0.0</td>\n      <td>2343.008063</td>\n      <td>0.000000</td>\n      <td>...</td>\n      <td>NaN</td>\n      <td>Uniswap V3 Ethersocks/Wrapped Ether 0.3%</td>\n      <td>Ethersocks/Wrapped Ether</td>\n      <td>NaN</td>\n      <td>NaN</td>\n      <td>NaN</td>\n      <td>NaN</td>\n      <td>NaN</td>\n      <td>NaN</td>\n      <td>2022-12-17 06:32:11</td>\n    </tr>\n    <tr>\n      <th>7</th>\n      <td>0xffe6008fcf63732ec8f666a91bf32e9be4eb7d56-19334</td>\n      <td>1670489015</td>\n      <td>16138875</td>\n      <td>31095.901110</td>\n      <td>2343.008063</td>\n      <td>0.000000</td>\n      <td>0.0</td>\n      <td>0.0</td>\n      <td>2343.008063</td>\n      <td>0.000000</td>\n      <td>...</td>\n      <td>NaN</td>\n      <td>Uniswap V3 Ethersocks/Wrapped Ether 0.3%</td>\n      <td>Ethersocks/Wrapped Ether</td>\n      <td>NaN</td>\n      <td>NaN</td>\n      <td>NaN</td>\n      <td>NaN</td>\n      <td>NaN</td>\n      <td>NaN</td>\n      <td>2022-12-08 08:43:35</td>\n    </tr>\n    <tr>\n      <th>8</th>\n      <td>0xffe6008fcf63732ec8f666a91bf32e9be4eb7d56-19333</td>\n      <td>1670392619</td>\n      <td>16130920</td>\n      <td>31825.215721</td>\n      <td>2343.008063</td>\n      <td>0.000000</td>\n      <td>0.0</td>\n      <td>0.0</td>\n      <td>2343.008063</td>\n      <td>0.000000</td>\n      <td>...</td>\n      <td>NaN</td>\n      <td>Uniswap V3 Ethersocks/Wrapped Ether 0.3%</td>\n      <td>Ethersocks/Wrapped Ether</td>\n      <td>NaN</td>\n      <td>NaN</td>\n      <td>NaN</td>\n      <td>NaN</td>\n      <td>NaN</td>\n      <td>NaN</td>\n      <td>2022-12-07 05:56:59</td>\n    </tr>\n    <tr>\n      <th>9</th>\n      <td>0xffe6008fcf63732ec8f666a91bf32e9be4eb7d56-19332</td>\n      <td>1670318339</td>\n      <td>16124809</td>\n      <td>31760.634450</td>\n      <td>2343.008063</td>\n      <td>0.000000</td>\n      <td>0.0</td>\n      <td>0.0</td>\n      <td>2343.008063</td>\n      <td>0.000000</td>\n      <td>...</td>\n      <td>NaN</td>\n      <td>Uniswap V3 Ethersocks/Wrapped Ether 0.3%</td>\n      <td>Ethersocks/Wrapped Ether</td>\n      <td>NaN</td>\n      <td>NaN</td>\n      <td>NaN</td>\n      <td>NaN</td>\n      <td>NaN</td>\n      <td>NaN</td>\n      <td>2022-12-06 09:18:59</td>\n    </tr>\n  </tbody>\n</table>\n<p>10 rows × 25 columns</p>\n</div>"
     },
     "execution_count": 279,
     "metadata": {},
     "output_type": "execute_result"
    }
   ],
   "source": [
    "#UNISWAP SUBGRAPH\n",
    "sushi10 = sg.load_api('https://gateway.thegraph.com/api/b0299a6e1895566f98d87e0711fa24ca/subgraphs/id/ELUcwgpm14LKPLrBRuVvPvNKHQ9HvwmtKgKSH6123cr7')\n",
    "\n",
    "pools10 = sushi10.Query.liquidityPoolDailySnapshots(\n",
    "            orderBy='id',\n",
    "            orderDirection='desc',\n",
    "            #skip =(skipValue),\n",
    "            first=1000,\n",
    "            #where={ 'poolId': '0xc45d42f801105e861e86658648e3678ad7aa70f900010000000000000000011e' }\n",
    "        )\n",
    "\n",
    "pool_data10 = sg.query_df([\n",
    "    pools10.id\n",
    "    ,pools10.timestamp\n",
    "    ,pools10.blockNumber\n",
    "    ,pools10.totalValueLockedUSD\n",
    "    ,pools10.cumulativeSupplySideRevenueUSD\n",
    "    ,pools10.dailySupplySideRevenueUSD\n",
    "    ,pools10.cumulativeProtocolSideRevenueUSD\n",
    "    ,pools10.dailyProtocolSideRevenueUSD\n",
    "    ,pools10.cumulativeTotalRevenueUSD\n",
    "    ,pools10.dailyTotalRevenueUSD\n",
    "    ,pools10.dailyVolumeUSD\n",
    "    ,pools10.cumulativeVolumeUSD\n",
    "    ,pools10.outputTokenSupply\n",
    "    ,pools10.outputTokenPriceUSD\n",
    "    ,pools10.stakedOutputTokenAmount\n",
    "    ,pools10.rewardTokenEmissionsAmount\n",
    "    ,pools10.pool.name\n",
    "    ,pools10.pool.symbol\n",
    "    ,pools10.pool.outputToken\n",
    "])\n",
    "\n",
    "pool_datadb10 = db.query(\"select \"\n",
    "               \"    * \"\n",
    "                    \" ,to_timestamp(liquidityPoolDailySnapshots_timestamp) dateTime \"\n",
    "               \"From pool_data10 \"\n",
    "               #\"where lower(liquidityPools_name) like lower('%olympus%') \"\n",
    "                #    \"or lower(pairs_token1_symbol) like lower('%OHM%')  \"\n",
    "               #\" limit 100 \"\n",
    "               ).df()\n",
    "\n",
    "pool_datadb10.head(10)"
   ],
   "metadata": {
    "collapsed": false,
    "pycharm": {
     "name": "#%%\n"
    }
   }
  },
  {
   "cell_type": "code",
   "execution_count": null,
   "outputs": [],
   "source": [],
   "metadata": {
    "collapsed": false,
    "pycharm": {
     "name": "#%%\n"
    }
   }
  }
 ],
 "metadata": {
  "kernelspec": {
   "display_name": "Python 3",
   "language": "python",
   "name": "python3"
  },
  "language_info": {
   "codemirror_mode": {
    "name": "ipython",
    "version": 2
   },
   "file_extension": ".py",
   "mimetype": "text/x-python",
   "name": "python",
   "nbconvert_exporter": "python",
   "pygments_lexer": "ipython2",
   "version": "2.7.6"
  }
 },
 "nbformat": 4,
 "nbformat_minor": 0
}