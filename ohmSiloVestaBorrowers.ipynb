{
 "cells": [
  {
   "cell_type": "code",
   "execution_count": 2,
   "metadata": {
    "collapsed": true
   },
   "outputs": [],
   "source": [
    "from datetime import datetime\n",
    "import datetime as dt\n",
    "import time\n",
    "from subgrounds.subgraph import SyntheticField, FieldPath\n",
    "from subgrounds.subgrounds import Subgrounds\n",
    "import pandas as pd\n",
    "import duckdb as db\n",
    "import IPython as ip\n",
    "import  os as os"
   ]
  },
  {
   "cell_type": "code",
   "execution_count": 3,
   "outputs": [],
   "source": [
    "sg = Subgrounds()\n",
    "apiKey = input('API Key, please')"
   ],
   "metadata": {
    "collapsed": false
   }
  },
  {
   "cell_type": "code",
   "execution_count": 4,
   "outputs": [],
   "source": [
    "#for when we save the files\n",
    "file = input('Selet a folder to save output') ##enter your file path here - the file is in the repo \"summary_stats.csv\"."
   ],
   "metadata": {
    "collapsed": false
   }
  },
  {
   "cell_type": "markdown",
   "source": [
    "*******************************************************************\n",
    "*******************************************************************\n",
    "LET'S LOOK AT SILO FIRST"
   ],
   "metadata": {
    "collapsed": false
   }
  },
  {
   "cell_type": "code",
   "execution_count": 5,
   "outputs": [],
   "source": [
    "#SILO subgraph: https://gateway.thegraph.com/api/[api-key]/subgraphs/id/6rcT2GzBXGoi3ZMus92LHajM2b9qWGj7Z3dDhPxoUogB\n",
    "silo = sg.load_api('https://gateway.thegraph.com/api/'+apiKey+'/subgraphs/id/6rcT2GzBXGoi3ZMus92LHajM2b9qWGj7Z3dDhPxoUogB')"
   ],
   "metadata": {
    "collapsed": false
   }
  },
  {
   "cell_type": "markdown",
   "source": [
    "##this captures the list of people who borrowed XAI against gOHM\n",
    "borrows = silo.Query.borrows(\n",
    "    orderBy='timestamp',\n",
    "    orderDirection='desc',\n",
    "    first=1000,\n",
    "    #skip = skipValue,\n",
    "    where={ 'market': '0xc413dd03555f3eb29d834b482d386b2999dc2eb0' }\n",
    "\n",
    ")\n",
    "\n",
    "borrowsDb = sg.query_df([\n",
    "    borrows.id\n",
    "    ,borrows.hash\n",
    "    ,borrows.logIndex\n",
    "    ,borrows.blockNumber\n",
    "    ,borrows.timestamp\n",
    "    ,borrows.account\n",
    "    ,borrows.market\n",
    "    ,borrows.market.rates\n",
    "    ,borrows.asset\n",
    "    ,borrows.amount\n",
    "    ,borrows.amountUSD \n",
    "])\n",
    "borrowsDb.head(100)"
   ],
   "metadata": {
    "collapsed": false
   }
  },
  {
   "cell_type": "markdown",
   "source": [
    "#this, in turn, pulls repayment events\n",
    "repays = silo.Query.repays(\n",
    "    orderBy='timestamp',\n",
    "    orderDirection='desc',\n",
    "    first=1000,\n",
    "    #skip = skipValue,\n",
    "    where={ 'market': '0xc413dd03555f3eb29d834b482d386b2999dc2eb0' }\n",
    "\n",
    ")\n",
    "\n",
    "repaysDb = sg.query_df([\n",
    "    repays.id\n",
    "    ,repays.hash\n",
    "    ,repays.logIndex\n",
    "    ,repays.blockNumber\n",
    "    ,repays.timestamp\n",
    "    ,repays.account\n",
    "    ,repays.market\n",
    "    ,repays.market.rates\n",
    "    ,repays.asset\n",
    "    ,repays.amount\n",
    "    ,repays.amountUSD\n",
    "    ,repays.position\n",
    "])\n",
    "repaysDb.head(100)"
   ],
   "metadata": {
    "collapsed": false
   }
  },
  {
   "cell_type": "code",
   "execution_count": 6,
   "outputs": [
    {
     "name": "stdout",
     "output_type": "stream",
     "text": [
      "iterations:  0 Lines skipped:  0 records collected:  96  - latest recordID:  0x16f2ff52f7a9e9057848569ea37c3e59eb558af0e0445d6b6e8045f8daf92657   0x16f2ff52f7a9e9057848569ea37c3e59eb558af0e0445d6b6e8045f8daf92657-105  - borrows DB length:  96  - latest record from:  2023-02-08 22:23:59 1 days ago\n",
      "Done. Total Records collected:  96\n"
     ]
    }
   ],
   "source": [
    "##this captures the ENTIRE list of people who borrowed XAI against gOHM\n",
    "borrowTicker = 0\n",
    "borrowslist = pd.DataFrame()\n",
    "borrowsDb = pd.DataFrame()\n",
    "borrowListLength = 1000\n",
    "datediff = 0\n",
    "now=0\n",
    "daysAgo=0\n",
    "daysLimit = 45\n",
    "exit = False\n",
    "while exit==False:\n",
    "    skipValue = (borrowTicker)*(1000)\n",
    "    borrows = silo.Query.borrows(\n",
    "        orderBy='timestamp',\n",
    "        orderDirection='desc',\n",
    "        first=1000,\n",
    "        skip = skipValue,\n",
    "        where={ 'market': '0xc413dd03555f3eb29d834b482d386b2999dc2eb0' } #gOHM market\n",
    "\n",
    "    )\n",
    "\n",
    "    borrowslist = sg.query_df([\n",
    "        borrows.id\n",
    "        ,borrows.hash\n",
    "        ,borrows.logIndex\n",
    "        ,borrows.blockNumber\n",
    "        ,borrows.timestamp\n",
    "        ,borrows.account\n",
    "        ,borrows.market\n",
    "        ,borrows.market.rates\n",
    "        ,borrows.asset\n",
    "        ,borrows.amount\n",
    "        ,borrows.amountUSD\n",
    "        ,borrows.position\n",
    "    ])\n",
    "\n",
    "    #borrowslist.sort_values(by=['borrows_timestamp'])\n",
    "\n",
    "    borrowsDb=pd.concat([borrowsDb, borrowslist])\n",
    "    recordTimestamp1 = borrowsDb.iat[borrowTicker,4]\n",
    "    recordTimestamp = dt.datetime.fromtimestamp( recordTimestamp1 )\n",
    "    now = (int(dt.datetime.utcnow().timestamp()))\n",
    "    datediff=abs(int(now) - recordTimestamp1)\n",
    "    daysAgo = int(datediff/86400)\n",
    "    borrowsDbLength = len(borrowsDb)\n",
    "    borrowListLength = len(borrowslist)\n",
    "    recordID = borrowsDb.iat[borrowTicker,0]\n",
    "    borrow = borrowsDb.iat[borrowTicker,1]\n",
    "    print(\"iterations: \", borrowTicker, \"Lines skipped: \",skipValue, \"records collected: \", borrowListLength, \" - latest recordID: \",borrow, \" \", recordID , \" - borrows DB length: \", borrowsDbLength, \" - latest record from: \", recordTimestamp, daysAgo,\"days ago\")\n",
    "    #print(\"iterations: \", borrowTicker, \"records collected: \", borrowListLength, \" - userdb length: \", borrowsDbLength)\n",
    "    borrowTicker = borrowTicker+1\n",
    "\n",
    "    if daysAgo>daysLimit: exit =True\n",
    "    if borrowListLength<1000: exit =True\n",
    "\n",
    "borrowsDb.columns = borrowsDb.columns.str.replace(\"borrows\", \"transaction\")\n",
    "borrowsDb['event']='borrow'\n",
    "print(\"Done. Total Records collected: \", borrowsDbLength)"
   ],
   "metadata": {
    "collapsed": false
   }
  },
  {
   "cell_type": "code",
   "execution_count": 75,
   "outputs": [
    {
     "data": {
      "text/plain": "                                       transaction_id  \\\n0   0x16f2ff52f7a9e9057848569ea37c3e59eb558af0e044...   \n1   0x16f2ff52f7a9e9057848569ea37c3e59eb558af0e044...   \n2   0x16f2ff52f7a9e9057848569ea37c3e59eb558af0e044...   \n3   0x16f2ff52f7a9e9057848569ea37c3e59eb558af0e044...   \n4   0x16f2ff52f7a9e9057848569ea37c3e59eb558af0e044...   \n..                                                ...   \n91  0x83addaa30259315b10869fa8653a468eb1cc82a43f57...   \n92  0x83addaa30259315b10869fa8653a468eb1cc82a43f57...   \n93  0x83addaa30259315b10869fa8653a468eb1cc82a43f57...   \n94  0x83addaa30259315b10869fa8653a468eb1cc82a43f57...   \n95  0x83addaa30259315b10869fa8653a468eb1cc82a43f57...   \n\n                                     transaction_hash  transaction_logIndex  \\\n0   0x16f2ff52f7a9e9057848569ea37c3e59eb558af0e044...                   105   \n1   0x16f2ff52f7a9e9057848569ea37c3e59eb558af0e044...                   105   \n2   0x16f2ff52f7a9e9057848569ea37c3e59eb558af0e044...                   105   \n3   0x16f2ff52f7a9e9057848569ea37c3e59eb558af0e044...                   105   \n4   0x16f2ff52f7a9e9057848569ea37c3e59eb558af0e044...                   105   \n..                                                ...                   ...   \n91  0x83addaa30259315b10869fa8653a468eb1cc82a43f57...                   117   \n92  0x83addaa30259315b10869fa8653a468eb1cc82a43f57...                   117   \n93  0x83addaa30259315b10869fa8653a468eb1cc82a43f57...                   117   \n94  0x83addaa30259315b10869fa8653a468eb1cc82a43f57...                   117   \n95  0x83addaa30259315b10869fa8653a468eb1cc82a43f57...                   117   \n\n    transaction_blockNumber  transaction_timestamp  \\\n0                  16589389             1675923839   \n1                  16589389             1675923839   \n2                  16589389             1675923839   \n3                  16589389             1675923839   \n4                  16589389             1675923839   \n..                      ...                    ...   \n91                 16034628             1669229867   \n92                 16034628             1669229867   \n93                 16034628             1669229867   \n94                 16034628             1669229867   \n95                 16034628             1669229867   \n\n                        transaction_account_id  \\\n0   0xb0399dac8f4d4100b49b2a7b3873481114229d18   \n1   0xb0399dac8f4d4100b49b2a7b3873481114229d18   \n2   0xb0399dac8f4d4100b49b2a7b3873481114229d18   \n3   0xb0399dac8f4d4100b49b2a7b3873481114229d18   \n4   0xb0399dac8f4d4100b49b2a7b3873481114229d18   \n..                                         ...   \n91  0x7776421dd146dfd6ea947cbf29b69c519807d259   \n92  0x7776421dd146dfd6ea947cbf29b69c519807d259   \n93  0x7776421dd146dfd6ea947cbf29b69c519807d259   \n94  0x7776421dd146dfd6ea947cbf29b69c519807d259   \n95  0x7776421dd146dfd6ea947cbf29b69c519807d259   \n\n    transaction_account_positionCount  transaction_account_openPositionCount  \\\n0                                   2                                      2   \n1                                   2                                      2   \n2                                   2                                      2   \n3                                   2                                      2   \n4                                   2                                      2   \n..                                ...                                    ...   \n91                                 26                                      2   \n92                                 26                                      2   \n93                                 26                                      2   \n94                                 26                                      2   \n95                                 26                                      2   \n\n    transaction_account_closedPositionCount  transaction_account_depositCount  \\\n0                                         0                                 2   \n1                                         0                                 2   \n2                                         0                                 2   \n3                                         0                                 2   \n4                                         0                                 2   \n..                                      ...                               ...   \n91                                       24                                18   \n92                                       24                                18   \n93                                       24                                18   \n94                                       24                                18   \n95                                       24                                18   \n\n    ...  transaction_position_side  transaction_position_isCollateral  \\\n0   ...                   BORROWER                               True   \n1   ...                   BORROWER                               True   \n2   ...                   BORROWER                               True   \n3   ...                   BORROWER                               True   \n4   ...                   BORROWER                               True   \n..  ...                        ...                                ...   \n91  ...                   BORROWER                               True   \n92  ...                   BORROWER                               True   \n93  ...                   BORROWER                               True   \n94  ...                   BORROWER                               True   \n95  ...                   BORROWER                               True   \n\n    transaction_position_balance  transaction_position_depositCount  \\\n0       186000000000000000000000                                  0   \n1       186000000000000000000000                                  0   \n2       186000000000000000000000                                  0   \n3       186000000000000000000000                                  0   \n4       186000000000000000000000                                  0   \n..                           ...                                ...   \n91                             0                                  0   \n92                             0                                  0   \n93                             0                                  0   \n94                             0                                  0   \n95                             0                                  0   \n\n    transaction_position_withdrawCount transaction_position_borrowCount  \\\n0                                    0                                1   \n1                                    0                                1   \n2                                    0                                1   \n3                                    0                                1   \n4                                    0                                1   \n..                                 ...                              ...   \n91                                   0                                1   \n92                                   0                                1   \n93                                   0                                1   \n94                                   0                                1   \n95                                   0                                1   \n\n   transaction_position_repayCount transaction_position_liquidationCount  \\\n0                                0                                     0   \n1                                0                                     0   \n2                                0                                     0   \n3                                0                                     0   \n4                                0                                     0   \n..                             ...                                   ...   \n91                               1                                     0   \n92                               1                                     0   \n93                               1                                     0   \n94                               1                                     0   \n95                               1                                     0   \n\n     event            dateTime  \n0   borrow 2023-02-09 06:23:59  \n1   borrow 2023-02-09 06:23:59  \n2   borrow 2023-02-09 06:23:59  \n3   borrow 2023-02-09 06:23:59  \n4   borrow 2023-02-09 06:23:59  \n..     ...                 ...  \n91  borrow 2022-11-23 18:57:47  \n92  borrow 2022-11-23 18:57:47  \n93  borrow 2022-11-23 18:57:47  \n94  borrow 2022-11-23 18:57:47  \n95  borrow 2022-11-23 18:57:47  \n\n[96 rows x 96 columns]",
      "text/html": "<div>\n<style scoped>\n    .dataframe tbody tr th:only-of-type {\n        vertical-align: middle;\n    }\n\n    .dataframe tbody tr th {\n        vertical-align: top;\n    }\n\n    .dataframe thead th {\n        text-align: right;\n    }\n</style>\n<table border=\"1\" class=\"dataframe\">\n  <thead>\n    <tr style=\"text-align: right;\">\n      <th></th>\n      <th>transaction_id</th>\n      <th>transaction_hash</th>\n      <th>transaction_logIndex</th>\n      <th>transaction_blockNumber</th>\n      <th>transaction_timestamp</th>\n      <th>transaction_account_id</th>\n      <th>transaction_account_positionCount</th>\n      <th>transaction_account_openPositionCount</th>\n      <th>transaction_account_closedPositionCount</th>\n      <th>transaction_account_depositCount</th>\n      <th>...</th>\n      <th>transaction_position_side</th>\n      <th>transaction_position_isCollateral</th>\n      <th>transaction_position_balance</th>\n      <th>transaction_position_depositCount</th>\n      <th>transaction_position_withdrawCount</th>\n      <th>transaction_position_borrowCount</th>\n      <th>transaction_position_repayCount</th>\n      <th>transaction_position_liquidationCount</th>\n      <th>event</th>\n      <th>dateTime</th>\n    </tr>\n  </thead>\n  <tbody>\n    <tr>\n      <th>0</th>\n      <td>0x16f2ff52f7a9e9057848569ea37c3e59eb558af0e044...</td>\n      <td>0x16f2ff52f7a9e9057848569ea37c3e59eb558af0e044...</td>\n      <td>105</td>\n      <td>16589389</td>\n      <td>1675923839</td>\n      <td>0xb0399dac8f4d4100b49b2a7b3873481114229d18</td>\n      <td>2</td>\n      <td>2</td>\n      <td>0</td>\n      <td>2</td>\n      <td>...</td>\n      <td>BORROWER</td>\n      <td>True</td>\n      <td>186000000000000000000000</td>\n      <td>0</td>\n      <td>0</td>\n      <td>1</td>\n      <td>0</td>\n      <td>0</td>\n      <td>borrow</td>\n      <td>2023-02-09 06:23:59</td>\n    </tr>\n    <tr>\n      <th>1</th>\n      <td>0x16f2ff52f7a9e9057848569ea37c3e59eb558af0e044...</td>\n      <td>0x16f2ff52f7a9e9057848569ea37c3e59eb558af0e044...</td>\n      <td>105</td>\n      <td>16589389</td>\n      <td>1675923839</td>\n      <td>0xb0399dac8f4d4100b49b2a7b3873481114229d18</td>\n      <td>2</td>\n      <td>2</td>\n      <td>0</td>\n      <td>2</td>\n      <td>...</td>\n      <td>BORROWER</td>\n      <td>True</td>\n      <td>186000000000000000000000</td>\n      <td>0</td>\n      <td>0</td>\n      <td>1</td>\n      <td>0</td>\n      <td>0</td>\n      <td>borrow</td>\n      <td>2023-02-09 06:23:59</td>\n    </tr>\n    <tr>\n      <th>2</th>\n      <td>0x16f2ff52f7a9e9057848569ea37c3e59eb558af0e044...</td>\n      <td>0x16f2ff52f7a9e9057848569ea37c3e59eb558af0e044...</td>\n      <td>105</td>\n      <td>16589389</td>\n      <td>1675923839</td>\n      <td>0xb0399dac8f4d4100b49b2a7b3873481114229d18</td>\n      <td>2</td>\n      <td>2</td>\n      <td>0</td>\n      <td>2</td>\n      <td>...</td>\n      <td>BORROWER</td>\n      <td>True</td>\n      <td>186000000000000000000000</td>\n      <td>0</td>\n      <td>0</td>\n      <td>1</td>\n      <td>0</td>\n      <td>0</td>\n      <td>borrow</td>\n      <td>2023-02-09 06:23:59</td>\n    </tr>\n    <tr>\n      <th>3</th>\n      <td>0x16f2ff52f7a9e9057848569ea37c3e59eb558af0e044...</td>\n      <td>0x16f2ff52f7a9e9057848569ea37c3e59eb558af0e044...</td>\n      <td>105</td>\n      <td>16589389</td>\n      <td>1675923839</td>\n      <td>0xb0399dac8f4d4100b49b2a7b3873481114229d18</td>\n      <td>2</td>\n      <td>2</td>\n      <td>0</td>\n      <td>2</td>\n      <td>...</td>\n      <td>BORROWER</td>\n      <td>True</td>\n      <td>186000000000000000000000</td>\n      <td>0</td>\n      <td>0</td>\n      <td>1</td>\n      <td>0</td>\n      <td>0</td>\n      <td>borrow</td>\n      <td>2023-02-09 06:23:59</td>\n    </tr>\n    <tr>\n      <th>4</th>\n      <td>0x16f2ff52f7a9e9057848569ea37c3e59eb558af0e044...</td>\n      <td>0x16f2ff52f7a9e9057848569ea37c3e59eb558af0e044...</td>\n      <td>105</td>\n      <td>16589389</td>\n      <td>1675923839</td>\n      <td>0xb0399dac8f4d4100b49b2a7b3873481114229d18</td>\n      <td>2</td>\n      <td>2</td>\n      <td>0</td>\n      <td>2</td>\n      <td>...</td>\n      <td>BORROWER</td>\n      <td>True</td>\n      <td>186000000000000000000000</td>\n      <td>0</td>\n      <td>0</td>\n      <td>1</td>\n      <td>0</td>\n      <td>0</td>\n      <td>borrow</td>\n      <td>2023-02-09 06:23:59</td>\n    </tr>\n    <tr>\n      <th>...</th>\n      <td>...</td>\n      <td>...</td>\n      <td>...</td>\n      <td>...</td>\n      <td>...</td>\n      <td>...</td>\n      <td>...</td>\n      <td>...</td>\n      <td>...</td>\n      <td>...</td>\n      <td>...</td>\n      <td>...</td>\n      <td>...</td>\n      <td>...</td>\n      <td>...</td>\n      <td>...</td>\n      <td>...</td>\n      <td>...</td>\n      <td>...</td>\n      <td>...</td>\n      <td>...</td>\n    </tr>\n    <tr>\n      <th>91</th>\n      <td>0x83addaa30259315b10869fa8653a468eb1cc82a43f57...</td>\n      <td>0x83addaa30259315b10869fa8653a468eb1cc82a43f57...</td>\n      <td>117</td>\n      <td>16034628</td>\n      <td>1669229867</td>\n      <td>0x7776421dd146dfd6ea947cbf29b69c519807d259</td>\n      <td>26</td>\n      <td>2</td>\n      <td>24</td>\n      <td>18</td>\n      <td>...</td>\n      <td>BORROWER</td>\n      <td>True</td>\n      <td>0</td>\n      <td>0</td>\n      <td>0</td>\n      <td>1</td>\n      <td>1</td>\n      <td>0</td>\n      <td>borrow</td>\n      <td>2022-11-23 18:57:47</td>\n    </tr>\n    <tr>\n      <th>92</th>\n      <td>0x83addaa30259315b10869fa8653a468eb1cc82a43f57...</td>\n      <td>0x83addaa30259315b10869fa8653a468eb1cc82a43f57...</td>\n      <td>117</td>\n      <td>16034628</td>\n      <td>1669229867</td>\n      <td>0x7776421dd146dfd6ea947cbf29b69c519807d259</td>\n      <td>26</td>\n      <td>2</td>\n      <td>24</td>\n      <td>18</td>\n      <td>...</td>\n      <td>BORROWER</td>\n      <td>True</td>\n      <td>0</td>\n      <td>0</td>\n      <td>0</td>\n      <td>1</td>\n      <td>1</td>\n      <td>0</td>\n      <td>borrow</td>\n      <td>2022-11-23 18:57:47</td>\n    </tr>\n    <tr>\n      <th>93</th>\n      <td>0x83addaa30259315b10869fa8653a468eb1cc82a43f57...</td>\n      <td>0x83addaa30259315b10869fa8653a468eb1cc82a43f57...</td>\n      <td>117</td>\n      <td>16034628</td>\n      <td>1669229867</td>\n      <td>0x7776421dd146dfd6ea947cbf29b69c519807d259</td>\n      <td>26</td>\n      <td>2</td>\n      <td>24</td>\n      <td>18</td>\n      <td>...</td>\n      <td>BORROWER</td>\n      <td>True</td>\n      <td>0</td>\n      <td>0</td>\n      <td>0</td>\n      <td>1</td>\n      <td>1</td>\n      <td>0</td>\n      <td>borrow</td>\n      <td>2022-11-23 18:57:47</td>\n    </tr>\n    <tr>\n      <th>94</th>\n      <td>0x83addaa30259315b10869fa8653a468eb1cc82a43f57...</td>\n      <td>0x83addaa30259315b10869fa8653a468eb1cc82a43f57...</td>\n      <td>117</td>\n      <td>16034628</td>\n      <td>1669229867</td>\n      <td>0x7776421dd146dfd6ea947cbf29b69c519807d259</td>\n      <td>26</td>\n      <td>2</td>\n      <td>24</td>\n      <td>18</td>\n      <td>...</td>\n      <td>BORROWER</td>\n      <td>True</td>\n      <td>0</td>\n      <td>0</td>\n      <td>0</td>\n      <td>1</td>\n      <td>1</td>\n      <td>0</td>\n      <td>borrow</td>\n      <td>2022-11-23 18:57:47</td>\n    </tr>\n    <tr>\n      <th>95</th>\n      <td>0x83addaa30259315b10869fa8653a468eb1cc82a43f57...</td>\n      <td>0x83addaa30259315b10869fa8653a468eb1cc82a43f57...</td>\n      <td>117</td>\n      <td>16034628</td>\n      <td>1669229867</td>\n      <td>0x7776421dd146dfd6ea947cbf29b69c519807d259</td>\n      <td>26</td>\n      <td>2</td>\n      <td>24</td>\n      <td>18</td>\n      <td>...</td>\n      <td>BORROWER</td>\n      <td>True</td>\n      <td>0</td>\n      <td>0</td>\n      <td>0</td>\n      <td>1</td>\n      <td>1</td>\n      <td>0</td>\n      <td>borrow</td>\n      <td>2022-11-23 18:57:47</td>\n    </tr>\n  </tbody>\n</table>\n<p>96 rows × 96 columns</p>\n</div>"
     },
     "execution_count": 75,
     "metadata": {},
     "output_type": "execute_result"
    }
   ],
   "source": [
    "#I swear I will figure out synthetic fields, but until then...\n",
    "borrowsDbTimed = db.query(\"select \"\n",
    "               \"    * \"\n",
    "                    \" ,to_timestamp(transaction_timestamp::int) dateTime \"\n",
    "               \"From borrowsDb \"\n",
    "               #\"where lower(liquidityPools_name) like lower('%olympus%') \"\n",
    "                #    \"or lower(pairs_token1_symbol) like lower('%OHM%')  \"\n",
    "               #\" limit 100 \"\n",
    "               ).df()\n",
    "borrowsDbTimed.head(100)"
   ],
   "metadata": {
    "collapsed": false
   }
  },
  {
   "cell_type": "code",
   "execution_count": 76,
   "outputs": [
    {
     "name": "stdout",
     "output_type": "stream",
     "text": [
      "file saved\n"
     ]
    }
   ],
   "source": [
    "path =file+'/siloFinance_borrows_'+str(dt.datetime.today().strftime(\"%b-%d-%Y\"))+\"_\"+str(len(depositsDbTimed))+'_records.csv'\n",
    "borrowsDbTimed.to_csv(path, index = False)\n",
    "\n",
    "path =file+'/siloFinance_borrows_'+str(dt.datetime.today().strftime(\"%b-%d-%Y\"))+\"_\"+str(len(depositsDbTimed))+'_records_piped.csv'\n",
    "borrowsDbTimed.to_csv(path, index = False, sep='|')\n",
    "print('file saved')"
   ],
   "metadata": {
    "collapsed": false
   }
  },
  {
   "cell_type": "code",
   "execution_count": 8,
   "outputs": [
    {
     "name": "stdout",
     "output_type": "stream",
     "text": [
      "iterations:  0 Lines skipped:  0 records collected:  12  - latest recordID:  0x0c0283dc0e75f17b5e9eb79b05bea3cae12d32204aad01a68715d0385e8b26cd   0x0c0283dc0e75f17b5e9eb79b05bea3cae12d32204aad01a68715d0385e8b26cd-242  - repays DB length:  12  - latest record from:  2022-11-25 13:03:47 77 days ago\n",
      "Done. Total Records collected:  12\n"
     ]
    }
   ],
   "source": [
    "##this tracks the ENTIRE list of events for repaying the XAI repayed against gOHM\n",
    "repayTicker = 0\n",
    "repayslist = pd.DataFrame()\n",
    "repaysDb = pd.DataFrame()\n",
    "repayListLength = 1000\n",
    "datediff = 0\n",
    "now=0\n",
    "daysAgo=0\n",
    "daysLimit = 45\n",
    "exit = False\n",
    "while exit==False:\n",
    "    skipValue = (repayTicker)*(1000)\n",
    "    repays = silo.Query.repays(\n",
    "        orderBy='timestamp',\n",
    "        orderDirection='desc',\n",
    "        first=1000,\n",
    "        skip = skipValue,\n",
    "        where={ 'market': '0xc413dd03555f3eb29d834b482d386b2999dc2eb0' } #gOHM market\n",
    "\n",
    "    )\n",
    "\n",
    "    repayslist = sg.query_df([\n",
    "        repays.id\n",
    "        ,repays.hash\n",
    "        ,repays.logIndex\n",
    "        ,repays.blockNumber\n",
    "        ,repays.timestamp\n",
    "        ,repays.account\n",
    "        ,repays.market\n",
    "        ,repays.market.rates\n",
    "        ,repays.asset\n",
    "        ,repays.amount\n",
    "        ,repays.amountUSD\n",
    "        ,repays.position\n",
    "    ])\n",
    "\n",
    "    #repayslist.sort_values(by=['repays_timestamp'])\n",
    "\n",
    "    repaysDb=pd.concat([repaysDb, repayslist])\n",
    "    recordTimestamp1 = repaysDb.iat[repayTicker,4]\n",
    "    recordTimestamp = dt.datetime.fromtimestamp( recordTimestamp1 )\n",
    "    now = (int(dt.datetime.utcnow().timestamp()))\n",
    "    datediff=abs(int(now) - recordTimestamp1)\n",
    "    daysAgo = int(datediff/86400)\n",
    "    repaysDbLength = len(repaysDb)\n",
    "    repayListLength = len(repayslist)\n",
    "    recordID = repaysDb.iat[repayTicker,0]\n",
    "    repay = repaysDb.iat[repayTicker,1]\n",
    "    print(\"iterations: \", repayTicker, \"Lines skipped: \",skipValue, \"records collected: \", repayListLength, \" - latest recordID: \",repay, \" \", recordID , \" - repays DB length: \", repaysDbLength, \" - latest record from: \", recordTimestamp, daysAgo,\"days ago\")\n",
    "    #print(\"iterations: \", repayTicker, \"records collected: \", repayListLength, \" - userdb length: \", repaysDbLength)\n",
    "    repayTicker = repayTicker+1\n",
    "\n",
    "    if daysAgo>daysLimit: exit =True\n",
    "    if repayListLength<1000: exit =True\n",
    "\n",
    "repaysDb.columns = repaysDb.columns.str.replace(\"repays\", \"transaction\")\n",
    "repaysDb['event']='repay'\n",
    "print(\"Done. Total Records collected: \", repaysDbLength)"
   ],
   "metadata": {
    "collapsed": false
   }
  },
  {
   "cell_type": "code",
   "execution_count": 9,
   "outputs": [
    {
     "data": {
      "text/plain": "                                      transaction_id  \\\n0  0x0c0283dc0e75f17b5e9eb79b05bea3cae12d32204aad...   \n1  0x0c0283dc0e75f17b5e9eb79b05bea3cae12d32204aad...   \n2  0x0c0283dc0e75f17b5e9eb79b05bea3cae12d32204aad...   \n3  0x0c0283dc0e75f17b5e9eb79b05bea3cae12d32204aad...   \n4  0x0c0283dc0e75f17b5e9eb79b05bea3cae12d32204aad...   \n5  0x0c0283dc0e75f17b5e9eb79b05bea3cae12d32204aad...   \n6  0x748852c58dd4b57d3f6ed80bc81f74b439efcb94968b...   \n7  0x748852c58dd4b57d3f6ed80bc81f74b439efcb94968b...   \n8  0x748852c58dd4b57d3f6ed80bc81f74b439efcb94968b...   \n9  0x748852c58dd4b57d3f6ed80bc81f74b439efcb94968b...   \n\n                                    transaction_hash  transaction_logIndex  \\\n0  0x0c0283dc0e75f17b5e9eb79b05bea3cae12d32204aad...                   242   \n1  0x0c0283dc0e75f17b5e9eb79b05bea3cae12d32204aad...                   242   \n2  0x0c0283dc0e75f17b5e9eb79b05bea3cae12d32204aad...                   242   \n3  0x0c0283dc0e75f17b5e9eb79b05bea3cae12d32204aad...                   242   \n4  0x0c0283dc0e75f17b5e9eb79b05bea3cae12d32204aad...                   242   \n5  0x0c0283dc0e75f17b5e9eb79b05bea3cae12d32204aad...                   242   \n6  0x748852c58dd4b57d3f6ed80bc81f74b439efcb94968b...                   200   \n7  0x748852c58dd4b57d3f6ed80bc81f74b439efcb94968b...                   200   \n8  0x748852c58dd4b57d3f6ed80bc81f74b439efcb94968b...                   200   \n9  0x748852c58dd4b57d3f6ed80bc81f74b439efcb94968b...                   200   \n\n   transaction_blockNumber  transaction_timestamp  \\\n0                 16049560             1669410227   \n1                 16049560             1669410227   \n2                 16049560             1669410227   \n3                 16049560             1669410227   \n4                 16049560             1669410227   \n5                 16049560             1669410227   \n6                 16036129             1669248167   \n7                 16036129             1669248167   \n8                 16036129             1669248167   \n9                 16036129             1669248167   \n\n                       transaction_account_id  \\\n0  0x7776421dd146dfd6ea947cbf29b69c519807d259   \n1  0x7776421dd146dfd6ea947cbf29b69c519807d259   \n2  0x7776421dd146dfd6ea947cbf29b69c519807d259   \n3  0x7776421dd146dfd6ea947cbf29b69c519807d259   \n4  0x7776421dd146dfd6ea947cbf29b69c519807d259   \n5  0x7776421dd146dfd6ea947cbf29b69c519807d259   \n6  0xd3064611b24eba7a6dbcbc26c1b35dfee1170880   \n7  0xd3064611b24eba7a6dbcbc26c1b35dfee1170880   \n8  0xd3064611b24eba7a6dbcbc26c1b35dfee1170880   \n9  0xd3064611b24eba7a6dbcbc26c1b35dfee1170880   \n\n   transaction_account_positionCount  transaction_account_openPositionCount  \\\n0                                 26                                      2   \n1                                 26                                      2   \n2                                 26                                      2   \n3                                 26                                      2   \n4                                 26                                      2   \n5                                 26                                      2   \n6                                  2                                      0   \n7                                  2                                      0   \n8                                  2                                      0   \n9                                  2                                      0   \n\n   transaction_account_closedPositionCount  transaction_account_depositCount  \\\n0                                       24                                18   \n1                                       24                                18   \n2                                       24                                18   \n3                                       24                                18   \n4                                       24                                18   \n5                                       24                                18   \n6                                        2                                 2   \n7                                        2                                 2   \n8                                        2                                 2   \n9                                        2                                 2   \n\n   ...  transaction_position_timestampClosed  transaction_position_side  \\\n0  ...                            1669410227                   BORROWER   \n1  ...                            1669410227                   BORROWER   \n2  ...                            1669410227                   BORROWER   \n3  ...                            1669410227                   BORROWER   \n4  ...                            1669410227                   BORROWER   \n5  ...                            1669410227                   BORROWER   \n6  ...                            1669248167                   BORROWER   \n7  ...                            1669248167                   BORROWER   \n8  ...                            1669248167                   BORROWER   \n9  ...                            1669248167                   BORROWER   \n\n   transaction_position_isCollateral  transaction_position_balance  \\\n0                               True                             0   \n1                               True                             0   \n2                               True                             0   \n3                               True                             0   \n4                               True                             0   \n5                               True                             0   \n6                               True                             0   \n7                               True                             0   \n8                               True                             0   \n9                               True                             0   \n\n   transaction_position_depositCount transaction_position_withdrawCount  \\\n0                                  0                                  0   \n1                                  0                                  0   \n2                                  0                                  0   \n3                                  0                                  0   \n4                                  0                                  0   \n5                                  0                                  0   \n6                                  0                                  0   \n7                                  0                                  0   \n8                                  0                                  0   \n9                                  0                                  0   \n\n  transaction_position_borrowCount transaction_position_repayCount  \\\n0                                1                               1   \n1                                1                               1   \n2                                1                               1   \n3                                1                               1   \n4                                1                               1   \n5                                1                               1   \n6                                1                               1   \n7                                1                               1   \n8                                1                               1   \n9                                1                               1   \n\n   transaction_position_liquidationCount  event  \n0                                      0  repay  \n1                                      0  repay  \n2                                      0  repay  \n3                                      0  repay  \n4                                      0  repay  \n5                                      0  repay  \n6                                      0  repay  \n7                                      0  repay  \n8                                      0  repay  \n9                                      0  repay  \n\n[10 rows x 95 columns]",
      "text/html": "<div>\n<style scoped>\n    .dataframe tbody tr th:only-of-type {\n        vertical-align: middle;\n    }\n\n    .dataframe tbody tr th {\n        vertical-align: top;\n    }\n\n    .dataframe thead th {\n        text-align: right;\n    }\n</style>\n<table border=\"1\" class=\"dataframe\">\n  <thead>\n    <tr style=\"text-align: right;\">\n      <th></th>\n      <th>transaction_id</th>\n      <th>transaction_hash</th>\n      <th>transaction_logIndex</th>\n      <th>transaction_blockNumber</th>\n      <th>transaction_timestamp</th>\n      <th>transaction_account_id</th>\n      <th>transaction_account_positionCount</th>\n      <th>transaction_account_openPositionCount</th>\n      <th>transaction_account_closedPositionCount</th>\n      <th>transaction_account_depositCount</th>\n      <th>...</th>\n      <th>transaction_position_timestampClosed</th>\n      <th>transaction_position_side</th>\n      <th>transaction_position_isCollateral</th>\n      <th>transaction_position_balance</th>\n      <th>transaction_position_depositCount</th>\n      <th>transaction_position_withdrawCount</th>\n      <th>transaction_position_borrowCount</th>\n      <th>transaction_position_repayCount</th>\n      <th>transaction_position_liquidationCount</th>\n      <th>event</th>\n    </tr>\n  </thead>\n  <tbody>\n    <tr>\n      <th>0</th>\n      <td>0x0c0283dc0e75f17b5e9eb79b05bea3cae12d32204aad...</td>\n      <td>0x0c0283dc0e75f17b5e9eb79b05bea3cae12d32204aad...</td>\n      <td>242</td>\n      <td>16049560</td>\n      <td>1669410227</td>\n      <td>0x7776421dd146dfd6ea947cbf29b69c519807d259</td>\n      <td>26</td>\n      <td>2</td>\n      <td>24</td>\n      <td>18</td>\n      <td>...</td>\n      <td>1669410227</td>\n      <td>BORROWER</td>\n      <td>True</td>\n      <td>0</td>\n      <td>0</td>\n      <td>0</td>\n      <td>1</td>\n      <td>1</td>\n      <td>0</td>\n      <td>repay</td>\n    </tr>\n    <tr>\n      <th>1</th>\n      <td>0x0c0283dc0e75f17b5e9eb79b05bea3cae12d32204aad...</td>\n      <td>0x0c0283dc0e75f17b5e9eb79b05bea3cae12d32204aad...</td>\n      <td>242</td>\n      <td>16049560</td>\n      <td>1669410227</td>\n      <td>0x7776421dd146dfd6ea947cbf29b69c519807d259</td>\n      <td>26</td>\n      <td>2</td>\n      <td>24</td>\n      <td>18</td>\n      <td>...</td>\n      <td>1669410227</td>\n      <td>BORROWER</td>\n      <td>True</td>\n      <td>0</td>\n      <td>0</td>\n      <td>0</td>\n      <td>1</td>\n      <td>1</td>\n      <td>0</td>\n      <td>repay</td>\n    </tr>\n    <tr>\n      <th>2</th>\n      <td>0x0c0283dc0e75f17b5e9eb79b05bea3cae12d32204aad...</td>\n      <td>0x0c0283dc0e75f17b5e9eb79b05bea3cae12d32204aad...</td>\n      <td>242</td>\n      <td>16049560</td>\n      <td>1669410227</td>\n      <td>0x7776421dd146dfd6ea947cbf29b69c519807d259</td>\n      <td>26</td>\n      <td>2</td>\n      <td>24</td>\n      <td>18</td>\n      <td>...</td>\n      <td>1669410227</td>\n      <td>BORROWER</td>\n      <td>True</td>\n      <td>0</td>\n      <td>0</td>\n      <td>0</td>\n      <td>1</td>\n      <td>1</td>\n      <td>0</td>\n      <td>repay</td>\n    </tr>\n    <tr>\n      <th>3</th>\n      <td>0x0c0283dc0e75f17b5e9eb79b05bea3cae12d32204aad...</td>\n      <td>0x0c0283dc0e75f17b5e9eb79b05bea3cae12d32204aad...</td>\n      <td>242</td>\n      <td>16049560</td>\n      <td>1669410227</td>\n      <td>0x7776421dd146dfd6ea947cbf29b69c519807d259</td>\n      <td>26</td>\n      <td>2</td>\n      <td>24</td>\n      <td>18</td>\n      <td>...</td>\n      <td>1669410227</td>\n      <td>BORROWER</td>\n      <td>True</td>\n      <td>0</td>\n      <td>0</td>\n      <td>0</td>\n      <td>1</td>\n      <td>1</td>\n      <td>0</td>\n      <td>repay</td>\n    </tr>\n    <tr>\n      <th>4</th>\n      <td>0x0c0283dc0e75f17b5e9eb79b05bea3cae12d32204aad...</td>\n      <td>0x0c0283dc0e75f17b5e9eb79b05bea3cae12d32204aad...</td>\n      <td>242</td>\n      <td>16049560</td>\n      <td>1669410227</td>\n      <td>0x7776421dd146dfd6ea947cbf29b69c519807d259</td>\n      <td>26</td>\n      <td>2</td>\n      <td>24</td>\n      <td>18</td>\n      <td>...</td>\n      <td>1669410227</td>\n      <td>BORROWER</td>\n      <td>True</td>\n      <td>0</td>\n      <td>0</td>\n      <td>0</td>\n      <td>1</td>\n      <td>1</td>\n      <td>0</td>\n      <td>repay</td>\n    </tr>\n    <tr>\n      <th>5</th>\n      <td>0x0c0283dc0e75f17b5e9eb79b05bea3cae12d32204aad...</td>\n      <td>0x0c0283dc0e75f17b5e9eb79b05bea3cae12d32204aad...</td>\n      <td>242</td>\n      <td>16049560</td>\n      <td>1669410227</td>\n      <td>0x7776421dd146dfd6ea947cbf29b69c519807d259</td>\n      <td>26</td>\n      <td>2</td>\n      <td>24</td>\n      <td>18</td>\n      <td>...</td>\n      <td>1669410227</td>\n      <td>BORROWER</td>\n      <td>True</td>\n      <td>0</td>\n      <td>0</td>\n      <td>0</td>\n      <td>1</td>\n      <td>1</td>\n      <td>0</td>\n      <td>repay</td>\n    </tr>\n    <tr>\n      <th>6</th>\n      <td>0x748852c58dd4b57d3f6ed80bc81f74b439efcb94968b...</td>\n      <td>0x748852c58dd4b57d3f6ed80bc81f74b439efcb94968b...</td>\n      <td>200</td>\n      <td>16036129</td>\n      <td>1669248167</td>\n      <td>0xd3064611b24eba7a6dbcbc26c1b35dfee1170880</td>\n      <td>2</td>\n      <td>0</td>\n      <td>2</td>\n      <td>2</td>\n      <td>...</td>\n      <td>1669248167</td>\n      <td>BORROWER</td>\n      <td>True</td>\n      <td>0</td>\n      <td>0</td>\n      <td>0</td>\n      <td>1</td>\n      <td>1</td>\n      <td>0</td>\n      <td>repay</td>\n    </tr>\n    <tr>\n      <th>7</th>\n      <td>0x748852c58dd4b57d3f6ed80bc81f74b439efcb94968b...</td>\n      <td>0x748852c58dd4b57d3f6ed80bc81f74b439efcb94968b...</td>\n      <td>200</td>\n      <td>16036129</td>\n      <td>1669248167</td>\n      <td>0xd3064611b24eba7a6dbcbc26c1b35dfee1170880</td>\n      <td>2</td>\n      <td>0</td>\n      <td>2</td>\n      <td>2</td>\n      <td>...</td>\n      <td>1669248167</td>\n      <td>BORROWER</td>\n      <td>True</td>\n      <td>0</td>\n      <td>0</td>\n      <td>0</td>\n      <td>1</td>\n      <td>1</td>\n      <td>0</td>\n      <td>repay</td>\n    </tr>\n    <tr>\n      <th>8</th>\n      <td>0x748852c58dd4b57d3f6ed80bc81f74b439efcb94968b...</td>\n      <td>0x748852c58dd4b57d3f6ed80bc81f74b439efcb94968b...</td>\n      <td>200</td>\n      <td>16036129</td>\n      <td>1669248167</td>\n      <td>0xd3064611b24eba7a6dbcbc26c1b35dfee1170880</td>\n      <td>2</td>\n      <td>0</td>\n      <td>2</td>\n      <td>2</td>\n      <td>...</td>\n      <td>1669248167</td>\n      <td>BORROWER</td>\n      <td>True</td>\n      <td>0</td>\n      <td>0</td>\n      <td>0</td>\n      <td>1</td>\n      <td>1</td>\n      <td>0</td>\n      <td>repay</td>\n    </tr>\n    <tr>\n      <th>9</th>\n      <td>0x748852c58dd4b57d3f6ed80bc81f74b439efcb94968b...</td>\n      <td>0x748852c58dd4b57d3f6ed80bc81f74b439efcb94968b...</td>\n      <td>200</td>\n      <td>16036129</td>\n      <td>1669248167</td>\n      <td>0xd3064611b24eba7a6dbcbc26c1b35dfee1170880</td>\n      <td>2</td>\n      <td>0</td>\n      <td>2</td>\n      <td>2</td>\n      <td>...</td>\n      <td>1669248167</td>\n      <td>BORROWER</td>\n      <td>True</td>\n      <td>0</td>\n      <td>0</td>\n      <td>0</td>\n      <td>1</td>\n      <td>1</td>\n      <td>0</td>\n      <td>repay</td>\n    </tr>\n  </tbody>\n</table>\n<p>10 rows × 95 columns</p>\n</div>"
     },
     "execution_count": 9,
     "metadata": {},
     "output_type": "execute_result"
    }
   ],
   "source": [
    "repaysDb.head(10)"
   ],
   "metadata": {
    "collapsed": false
   }
  },
  {
   "cell_type": "code",
   "execution_count": 10,
   "outputs": [
    {
     "name": "stdout",
     "output_type": "stream",
     "text": [
      "iterations:  0 Lines skipped:  0 records collected:  222  - latest recordID:  0x7c0686952bdf22de3c8ce87e732690a4365c23f25939b0c34ffb9a2735dace81   0x7c0686952bdf22de3c8ce87e732690a4365c23f25939b0c34ffb9a2735dace81-204  - deposits DB length:  222  - latest record from:  2023-02-09 09:48:11 1 days ago\n",
      "Done. Total Records collected:  222\n"
     ]
    }
   ],
   "source": [
    "#this tracks the ENTIRE list of events for depositing gOHM for lending\n",
    "depositTicker = 0\n",
    "depositslist = pd.DataFrame()\n",
    "depositsDb = pd.DataFrame()\n",
    "depositListLength = 1000\n",
    "datediff = 0\n",
    "now=0\n",
    "daysAgo=0\n",
    "daysLimit = 45\n",
    "exit = False\n",
    "while exit==False:\n",
    "    skipValue = (depositTicker)*(1000)\n",
    "    deposits = silo.Query.deposits(\n",
    "        orderBy='timestamp',\n",
    "        orderDirection='desc',\n",
    "        first=1000,\n",
    "        skip = skipValue,\n",
    "        where={ 'market': '0xc413dd03555f3eb29d834b482d386b2999dc2eb0' } #gOHM market\n",
    "\n",
    "    )\n",
    "\n",
    "    depositslist = sg.query_df([\n",
    "        deposits.id\n",
    "        ,deposits.hash\n",
    "        ,deposits.logIndex\n",
    "        ,deposits.blockNumber\n",
    "        ,deposits.timestamp\n",
    "        ,deposits.account\n",
    "        ,deposits.market\n",
    "        ,deposits.market.rates\n",
    "        ,deposits.asset\n",
    "        ,deposits.amount\n",
    "        ,deposits.amountUSD\n",
    "        ,deposits.position\n",
    "    ])\n",
    "\n",
    "    #depositslist.sort_values(by=['deposits_timestamp'])\n",
    "\n",
    "    depositsDb=pd.concat([depositsDb, depositslist])\n",
    "    recordTimestamp1 = depositsDb.iat[depositTicker,4]\n",
    "    recordTimestamp = dt.datetime.fromtimestamp( recordTimestamp1 )\n",
    "    now = (int(dt.datetime.utcnow().timestamp()))\n",
    "    datediff=abs(int(now) - recordTimestamp1)\n",
    "    daysAgo = int(datediff/86400)\n",
    "    depositsDbLength = len(depositsDb)\n",
    "    depositListLength = len(depositslist)\n",
    "    recordID = depositsDb.iat[depositTicker,0]\n",
    "    deposit = depositsDb.iat[depositTicker,1]\n",
    "    print(\"iterations: \", depositTicker, \"Lines skipped: \",skipValue, \"records collected: \", depositListLength, \" - latest recordID: \",deposit, \" \", recordID , \" - deposits DB length: \", depositsDbLength, \" - latest record from: \", recordTimestamp, daysAgo,\"days ago\")\n",
    "    #print(\"iterations: \", depositTicker, \"records collected: \", depositListLength, \" - userdb length: \", depositsDbLength)\n",
    "    depositTicker = depositTicker+1\n",
    "    if daysAgo>daysLimit: exit =True\n",
    "    if depositListLength<1000: exit =True\n",
    "\n",
    "#depositsDb.sort_values(by=['deposits_timestamp'])\n",
    "\n",
    "depositsDb.columns = depositsDb.columns.str.replace(\"deposits\", \"transaction\")\n",
    "depositsDb['event']='deposit'\n",
    "print(\"Done. Total Records collected: \", depositsDbLength)\n",
    "\n",
    "\n"
   ],
   "metadata": {
    "collapsed": false
   }
  },
  {
   "cell_type": "code",
   "execution_count": 73,
   "outputs": [
    {
     "data": {
      "text/plain": "                                       transaction_id  \\\n0   0x7c0686952bdf22de3c8ce87e732690a4365c23f25939...   \n1   0x7c0686952bdf22de3c8ce87e732690a4365c23f25939...   \n2   0x7c0686952bdf22de3c8ce87e732690a4365c23f25939...   \n3   0x7c0686952bdf22de3c8ce87e732690a4365c23f25939...   \n4   0x7c0686952bdf22de3c8ce87e732690a4365c23f25939...   \n..                                                ...   \n95  0x7811e7757339551966af37751af4b56c16a3e141d682...   \n96  0xc094064b1815d07ca696c614f45dffbb054d2e5d5954...   \n97  0xc094064b1815d07ca696c614f45dffbb054d2e5d5954...   \n98  0xc094064b1815d07ca696c614f45dffbb054d2e5d5954...   \n99  0xc094064b1815d07ca696c614f45dffbb054d2e5d5954...   \n\n                                     transaction_hash  transaction_logIndex  \\\n0   0x7c0686952bdf22de3c8ce87e732690a4365c23f25939...                   204   \n1   0x7c0686952bdf22de3c8ce87e732690a4365c23f25939...                   204   \n2   0x7c0686952bdf22de3c8ce87e732690a4365c23f25939...                   204   \n3   0x7c0686952bdf22de3c8ce87e732690a4365c23f25939...                   204   \n4   0x7c0686952bdf22de3c8ce87e732690a4365c23f25939...                   204   \n..                                                ...                   ...   \n95  0x7811e7757339551966af37751af4b56c16a3e141d682...                   149   \n96  0xc094064b1815d07ca696c614f45dffbb054d2e5d5954...                   194   \n97  0xc094064b1815d07ca696c614f45dffbb054d2e5d5954...                   194   \n98  0xc094064b1815d07ca696c614f45dffbb054d2e5d5954...                   194   \n99  0xc094064b1815d07ca696c614f45dffbb054d2e5d5954...                   194   \n\n    transaction_blockNumber  transaction_timestamp  \\\n0                  16592784             1675964891   \n1                  16592784             1675964891   \n2                  16592784             1675964891   \n3                  16592784             1675964891   \n4                  16592784             1675964891   \n..                      ...                    ...   \n95                 16366137             1673229911   \n96                 16235576             1671655835   \n97                 16235576             1671655835   \n98                 16235576             1671655835   \n99                 16235576             1671655835   \n\n                        transaction_account_id  \\\n0   0xc04f84a02cc65f14f4e8c982a7a467ee88c5311e   \n1   0xc04f84a02cc65f14f4e8c982a7a467ee88c5311e   \n2   0xc04f84a02cc65f14f4e8c982a7a467ee88c5311e   \n3   0xc04f84a02cc65f14f4e8c982a7a467ee88c5311e   \n4   0xc04f84a02cc65f14f4e8c982a7a467ee88c5311e   \n..                                         ...   \n95  0x25fdda95197f804316f5ba8dbb66ac173ee19981   \n96  0xdedcf5806c4968c6397eee97e68047bda339d0c1   \n97  0xdedcf5806c4968c6397eee97e68047bda339d0c1   \n98  0xdedcf5806c4968c6397eee97e68047bda339d0c1   \n99  0xdedcf5806c4968c6397eee97e68047bda339d0c1   \n\n    transaction_account_positionCount  transaction_account_openPositionCount  \\\n0                                  27                                      9   \n1                                  27                                      9   \n2                                  27                                      9   \n3                                  27                                      9   \n4                                  27                                      9   \n..                                ...                                    ...   \n95                                  1                                      0   \n96                                 14                                     12   \n97                                 14                                     12   \n98                                 14                                     12   \n99                                 14                                     12   \n\n    transaction_account_closedPositionCount  transaction_account_depositCount  \\\n0                                        18                                35   \n1                                        18                                35   \n2                                        18                                35   \n3                                        18                                35   \n4                                        18                                35   \n..                                      ...                               ...   \n95                                        1                                 1   \n96                                        2                                19   \n97                                        2                                19   \n98                                        2                                19   \n99                                        2                                19   \n\n    ...  transaction_position_side  transaction_position_isCollateral  \\\n0   ...                     LENDER                               True   \n1   ...                     LENDER                               True   \n2   ...                     LENDER                               True   \n3   ...                     LENDER                               True   \n4   ...                     LENDER                               True   \n..  ...                        ...                                ...   \n95  ...                     LENDER                               True   \n96  ...                     LENDER                               True   \n97  ...                     LENDER                               True   \n98  ...                     LENDER                               True   \n99  ...                     LENDER                               True   \n\n    transaction_position_balance  transaction_position_depositCount  \\\n0        80385198564684193341455                                  1   \n1        80385198564684193341455                                  1   \n2        80385198564684193341455                                  1   \n3        80385198564684193341455                                  1   \n4        80385198564684193341455                                  1   \n..                           ...                                ...   \n95                             0                                  1   \n96             20000000000000000                                  1   \n97             20000000000000000                                  1   \n98             20000000000000000                                  1   \n99             20000000000000000                                  1   \n\n    transaction_position_withdrawCount transaction_position_borrowCount  \\\n0                                    0                                0   \n1                                    0                                0   \n2                                    0                                0   \n3                                    0                                0   \n4                                    0                                0   \n..                                 ...                              ...   \n95                                   1                                0   \n96                                   0                                0   \n97                                   0                                0   \n98                                   0                                0   \n99                                   0                                0   \n\n   transaction_position_repayCount transaction_position_liquidationCount  \\\n0                                0                                     0   \n1                                0                                     0   \n2                                0                                     0   \n3                                0                                     0   \n4                                0                                     0   \n..                             ...                                   ...   \n95                               0                                     0   \n96                               0                                     0   \n97                               0                                     0   \n98                               0                                     0   \n99                               0                                     0   \n\n      event            dateTime  \n0   deposit 2023-02-09 17:48:11  \n1   deposit 2023-02-09 17:48:11  \n2   deposit 2023-02-09 17:48:11  \n3   deposit 2023-02-09 17:48:11  \n4   deposit 2023-02-09 17:48:11  \n..      ...                 ...  \n95  deposit 2023-01-09 02:05:11  \n96  deposit 2022-12-21 20:50:35  \n97  deposit 2022-12-21 20:50:35  \n98  deposit 2022-12-21 20:50:35  \n99  deposit 2022-12-21 20:50:35  \n\n[100 rows x 96 columns]",
      "text/html": "<div>\n<style scoped>\n    .dataframe tbody tr th:only-of-type {\n        vertical-align: middle;\n    }\n\n    .dataframe tbody tr th {\n        vertical-align: top;\n    }\n\n    .dataframe thead th {\n        text-align: right;\n    }\n</style>\n<table border=\"1\" class=\"dataframe\">\n  <thead>\n    <tr style=\"text-align: right;\">\n      <th></th>\n      <th>transaction_id</th>\n      <th>transaction_hash</th>\n      <th>transaction_logIndex</th>\n      <th>transaction_blockNumber</th>\n      <th>transaction_timestamp</th>\n      <th>transaction_account_id</th>\n      <th>transaction_account_positionCount</th>\n      <th>transaction_account_openPositionCount</th>\n      <th>transaction_account_closedPositionCount</th>\n      <th>transaction_account_depositCount</th>\n      <th>...</th>\n      <th>transaction_position_side</th>\n      <th>transaction_position_isCollateral</th>\n      <th>transaction_position_balance</th>\n      <th>transaction_position_depositCount</th>\n      <th>transaction_position_withdrawCount</th>\n      <th>transaction_position_borrowCount</th>\n      <th>transaction_position_repayCount</th>\n      <th>transaction_position_liquidationCount</th>\n      <th>event</th>\n      <th>dateTime</th>\n    </tr>\n  </thead>\n  <tbody>\n    <tr>\n      <th>0</th>\n      <td>0x7c0686952bdf22de3c8ce87e732690a4365c23f25939...</td>\n      <td>0x7c0686952bdf22de3c8ce87e732690a4365c23f25939...</td>\n      <td>204</td>\n      <td>16592784</td>\n      <td>1675964891</td>\n      <td>0xc04f84a02cc65f14f4e8c982a7a467ee88c5311e</td>\n      <td>27</td>\n      <td>9</td>\n      <td>18</td>\n      <td>35</td>\n      <td>...</td>\n      <td>LENDER</td>\n      <td>True</td>\n      <td>80385198564684193341455</td>\n      <td>1</td>\n      <td>0</td>\n      <td>0</td>\n      <td>0</td>\n      <td>0</td>\n      <td>deposit</td>\n      <td>2023-02-09 17:48:11</td>\n    </tr>\n    <tr>\n      <th>1</th>\n      <td>0x7c0686952bdf22de3c8ce87e732690a4365c23f25939...</td>\n      <td>0x7c0686952bdf22de3c8ce87e732690a4365c23f25939...</td>\n      <td>204</td>\n      <td>16592784</td>\n      <td>1675964891</td>\n      <td>0xc04f84a02cc65f14f4e8c982a7a467ee88c5311e</td>\n      <td>27</td>\n      <td>9</td>\n      <td>18</td>\n      <td>35</td>\n      <td>...</td>\n      <td>LENDER</td>\n      <td>True</td>\n      <td>80385198564684193341455</td>\n      <td>1</td>\n      <td>0</td>\n      <td>0</td>\n      <td>0</td>\n      <td>0</td>\n      <td>deposit</td>\n      <td>2023-02-09 17:48:11</td>\n    </tr>\n    <tr>\n      <th>2</th>\n      <td>0x7c0686952bdf22de3c8ce87e732690a4365c23f25939...</td>\n      <td>0x7c0686952bdf22de3c8ce87e732690a4365c23f25939...</td>\n      <td>204</td>\n      <td>16592784</td>\n      <td>1675964891</td>\n      <td>0xc04f84a02cc65f14f4e8c982a7a467ee88c5311e</td>\n      <td>27</td>\n      <td>9</td>\n      <td>18</td>\n      <td>35</td>\n      <td>...</td>\n      <td>LENDER</td>\n      <td>True</td>\n      <td>80385198564684193341455</td>\n      <td>1</td>\n      <td>0</td>\n      <td>0</td>\n      <td>0</td>\n      <td>0</td>\n      <td>deposit</td>\n      <td>2023-02-09 17:48:11</td>\n    </tr>\n    <tr>\n      <th>3</th>\n      <td>0x7c0686952bdf22de3c8ce87e732690a4365c23f25939...</td>\n      <td>0x7c0686952bdf22de3c8ce87e732690a4365c23f25939...</td>\n      <td>204</td>\n      <td>16592784</td>\n      <td>1675964891</td>\n      <td>0xc04f84a02cc65f14f4e8c982a7a467ee88c5311e</td>\n      <td>27</td>\n      <td>9</td>\n      <td>18</td>\n      <td>35</td>\n      <td>...</td>\n      <td>LENDER</td>\n      <td>True</td>\n      <td>80385198564684193341455</td>\n      <td>1</td>\n      <td>0</td>\n      <td>0</td>\n      <td>0</td>\n      <td>0</td>\n      <td>deposit</td>\n      <td>2023-02-09 17:48:11</td>\n    </tr>\n    <tr>\n      <th>4</th>\n      <td>0x7c0686952bdf22de3c8ce87e732690a4365c23f25939...</td>\n      <td>0x7c0686952bdf22de3c8ce87e732690a4365c23f25939...</td>\n      <td>204</td>\n      <td>16592784</td>\n      <td>1675964891</td>\n      <td>0xc04f84a02cc65f14f4e8c982a7a467ee88c5311e</td>\n      <td>27</td>\n      <td>9</td>\n      <td>18</td>\n      <td>35</td>\n      <td>...</td>\n      <td>LENDER</td>\n      <td>True</td>\n      <td>80385198564684193341455</td>\n      <td>1</td>\n      <td>0</td>\n      <td>0</td>\n      <td>0</td>\n      <td>0</td>\n      <td>deposit</td>\n      <td>2023-02-09 17:48:11</td>\n    </tr>\n    <tr>\n      <th>...</th>\n      <td>...</td>\n      <td>...</td>\n      <td>...</td>\n      <td>...</td>\n      <td>...</td>\n      <td>...</td>\n      <td>...</td>\n      <td>...</td>\n      <td>...</td>\n      <td>...</td>\n      <td>...</td>\n      <td>...</td>\n      <td>...</td>\n      <td>...</td>\n      <td>...</td>\n      <td>...</td>\n      <td>...</td>\n      <td>...</td>\n      <td>...</td>\n      <td>...</td>\n      <td>...</td>\n    </tr>\n    <tr>\n      <th>95</th>\n      <td>0x7811e7757339551966af37751af4b56c16a3e141d682...</td>\n      <td>0x7811e7757339551966af37751af4b56c16a3e141d682...</td>\n      <td>149</td>\n      <td>16366137</td>\n      <td>1673229911</td>\n      <td>0x25fdda95197f804316f5ba8dbb66ac173ee19981</td>\n      <td>1</td>\n      <td>0</td>\n      <td>1</td>\n      <td>1</td>\n      <td>...</td>\n      <td>LENDER</td>\n      <td>True</td>\n      <td>0</td>\n      <td>1</td>\n      <td>1</td>\n      <td>0</td>\n      <td>0</td>\n      <td>0</td>\n      <td>deposit</td>\n      <td>2023-01-09 02:05:11</td>\n    </tr>\n    <tr>\n      <th>96</th>\n      <td>0xc094064b1815d07ca696c614f45dffbb054d2e5d5954...</td>\n      <td>0xc094064b1815d07ca696c614f45dffbb054d2e5d5954...</td>\n      <td>194</td>\n      <td>16235576</td>\n      <td>1671655835</td>\n      <td>0xdedcf5806c4968c6397eee97e68047bda339d0c1</td>\n      <td>14</td>\n      <td>12</td>\n      <td>2</td>\n      <td>19</td>\n      <td>...</td>\n      <td>LENDER</td>\n      <td>True</td>\n      <td>20000000000000000</td>\n      <td>1</td>\n      <td>0</td>\n      <td>0</td>\n      <td>0</td>\n      <td>0</td>\n      <td>deposit</td>\n      <td>2022-12-21 20:50:35</td>\n    </tr>\n    <tr>\n      <th>97</th>\n      <td>0xc094064b1815d07ca696c614f45dffbb054d2e5d5954...</td>\n      <td>0xc094064b1815d07ca696c614f45dffbb054d2e5d5954...</td>\n      <td>194</td>\n      <td>16235576</td>\n      <td>1671655835</td>\n      <td>0xdedcf5806c4968c6397eee97e68047bda339d0c1</td>\n      <td>14</td>\n      <td>12</td>\n      <td>2</td>\n      <td>19</td>\n      <td>...</td>\n      <td>LENDER</td>\n      <td>True</td>\n      <td>20000000000000000</td>\n      <td>1</td>\n      <td>0</td>\n      <td>0</td>\n      <td>0</td>\n      <td>0</td>\n      <td>deposit</td>\n      <td>2022-12-21 20:50:35</td>\n    </tr>\n    <tr>\n      <th>98</th>\n      <td>0xc094064b1815d07ca696c614f45dffbb054d2e5d5954...</td>\n      <td>0xc094064b1815d07ca696c614f45dffbb054d2e5d5954...</td>\n      <td>194</td>\n      <td>16235576</td>\n      <td>1671655835</td>\n      <td>0xdedcf5806c4968c6397eee97e68047bda339d0c1</td>\n      <td>14</td>\n      <td>12</td>\n      <td>2</td>\n      <td>19</td>\n      <td>...</td>\n      <td>LENDER</td>\n      <td>True</td>\n      <td>20000000000000000</td>\n      <td>1</td>\n      <td>0</td>\n      <td>0</td>\n      <td>0</td>\n      <td>0</td>\n      <td>deposit</td>\n      <td>2022-12-21 20:50:35</td>\n    </tr>\n    <tr>\n      <th>99</th>\n      <td>0xc094064b1815d07ca696c614f45dffbb054d2e5d5954...</td>\n      <td>0xc094064b1815d07ca696c614f45dffbb054d2e5d5954...</td>\n      <td>194</td>\n      <td>16235576</td>\n      <td>1671655835</td>\n      <td>0xdedcf5806c4968c6397eee97e68047bda339d0c1</td>\n      <td>14</td>\n      <td>12</td>\n      <td>2</td>\n      <td>19</td>\n      <td>...</td>\n      <td>LENDER</td>\n      <td>True</td>\n      <td>20000000000000000</td>\n      <td>1</td>\n      <td>0</td>\n      <td>0</td>\n      <td>0</td>\n      <td>0</td>\n      <td>deposit</td>\n      <td>2022-12-21 20:50:35</td>\n    </tr>\n  </tbody>\n</table>\n<p>100 rows × 96 columns</p>\n</div>"
     },
     "execution_count": 73,
     "metadata": {},
     "output_type": "execute_result"
    }
   ],
   "source": [
    "#I swear I will figure out synthetic fields, but until then...\n",
    "depositsDbTimed = db.query(\"select \"\n",
    "               \"    * \"\n",
    "                    \" ,to_timestamp(transaction_timestamp::int) dateTime \"\n",
    "               \"From depositsDb \"\n",
    "               #\"where lower(liquidityPools_name) like lower('%olympus%') \"\n",
    "                #    \"or lower(pairs_token1_symbol) like lower('%OHM%')  \"\n",
    "               #\" limit 100 \"\n",
    "               ).df()\n",
    "depositsDbTimed.head(100)"
   ],
   "metadata": {
    "collapsed": false
   }
  },
  {
   "cell_type": "code",
   "execution_count": 74,
   "outputs": [
    {
     "name": "stdout",
     "output_type": "stream",
     "text": [
      "file saved\n"
     ]
    }
   ],
   "source": [
    "path =file+'/siloFinance_deposits_'+str(dt.datetime.today().strftime(\"%b-%d-%Y\"))+\"_\"+str(len(depositsDbTimed))+'_records.csv'\n",
    "depositsDbTimed.to_csv(path, index = False)\n",
    "\n",
    "path =file+'/siloFinance_deposits_'+str(dt.datetime.today().strftime(\"%b-%d-%Y\"))+\"_\"+str(len(depositsDbTimed))+'_records_piped.csv'\n",
    "depositsDbTimed.to_csv(path, index = False, sep='|')\n",
    "print('file saved')"
   ],
   "metadata": {
    "collapsed": false
   }
  },
  {
   "cell_type": "code",
   "execution_count": 71,
   "outputs": [
    {
     "name": "stdout",
     "output_type": "stream",
     "text": [
      "depoosit rows  222 , borrow rows  96 , repay rows  12 . Expected rows:  330\n"
     ]
    }
   ],
   "source": [
    "print(\"depoosit rows \",len(depositsDb) ,\", borrow rows \", len(borrowsDb),\", repay rows \", len(repaysDb), \". Expected rows: \",(len(depositsDb)+len(borrowsDb))+len(repaysDb) )"
   ],
   "metadata": {
    "collapsed": false
   }
  },
  {
   "cell_type": "code",
   "execution_count": 65,
   "outputs": [
    {
     "data": {
      "text/plain": "                                      transaction_id  \\\n0  0x7c0686952bdf22de3c8ce87e732690a4365c23f25939...   \n1  0x7c0686952bdf22de3c8ce87e732690a4365c23f25939...   \n2  0x7c0686952bdf22de3c8ce87e732690a4365c23f25939...   \n3  0x7c0686952bdf22de3c8ce87e732690a4365c23f25939...   \n4  0x7c0686952bdf22de3c8ce87e732690a4365c23f25939...   \n5  0x7c0686952bdf22de3c8ce87e732690a4365c23f25939...   \n6  0x669ce641c8adcf855d5ea4fedda6b52fc63795fd0dd6...   \n7  0x669ce641c8adcf855d5ea4fedda6b52fc63795fd0dd6...   \n8  0x669ce641c8adcf855d5ea4fedda6b52fc63795fd0dd6...   \n9  0x669ce641c8adcf855d5ea4fedda6b52fc63795fd0dd6...   \n\n                                    transaction_hash  transaction_logIndex  \\\n0  0x7c0686952bdf22de3c8ce87e732690a4365c23f25939...                   204   \n1  0x7c0686952bdf22de3c8ce87e732690a4365c23f25939...                   204   \n2  0x7c0686952bdf22de3c8ce87e732690a4365c23f25939...                   204   \n3  0x7c0686952bdf22de3c8ce87e732690a4365c23f25939...                   204   \n4  0x7c0686952bdf22de3c8ce87e732690a4365c23f25939...                   204   \n5  0x7c0686952bdf22de3c8ce87e732690a4365c23f25939...                   204   \n6  0x669ce641c8adcf855d5ea4fedda6b52fc63795fd0dd6...                   369   \n7  0x669ce641c8adcf855d5ea4fedda6b52fc63795fd0dd6...                   369   \n8  0x669ce641c8adcf855d5ea4fedda6b52fc63795fd0dd6...                   369   \n9  0x669ce641c8adcf855d5ea4fedda6b52fc63795fd0dd6...                   369   \n\n   transaction_blockNumber  transaction_timestamp  \\\n0                 16592784             1675964891   \n1                 16592784             1675964891   \n2                 16592784             1675964891   \n3                 16592784             1675964891   \n4                 16592784             1675964891   \n5                 16592784             1675964891   \n6                 16590634             1675938899   \n7                 16590634             1675938899   \n8                 16590634             1675938899   \n9                 16590634             1675938899   \n\n                       transaction_account_id  \\\n0  0xc04f84a02cc65f14f4e8c982a7a467ee88c5311e   \n1  0xc04f84a02cc65f14f4e8c982a7a467ee88c5311e   \n2  0xc04f84a02cc65f14f4e8c982a7a467ee88c5311e   \n3  0xc04f84a02cc65f14f4e8c982a7a467ee88c5311e   \n4  0xc04f84a02cc65f14f4e8c982a7a467ee88c5311e   \n5  0xc04f84a02cc65f14f4e8c982a7a467ee88c5311e   \n6  0x51bc3dd10a9ee4946f961038cf5d50057e49eb77   \n7  0x51bc3dd10a9ee4946f961038cf5d50057e49eb77   \n8  0x51bc3dd10a9ee4946f961038cf5d50057e49eb77   \n9  0x51bc3dd10a9ee4946f961038cf5d50057e49eb77   \n\n   transaction_account_positionCount  transaction_account_openPositionCount  \\\n0                                 27                                      9   \n1                                 27                                      9   \n2                                 27                                      9   \n3                                 27                                      9   \n4                                 27                                      9   \n5                                 27                                      9   \n6                                  1                                      1   \n7                                  1                                      1   \n8                                  1                                      1   \n9                                  1                                      1   \n\n   transaction_account_closedPositionCount  transaction_account_depositCount  \\\n0                                       18                                35   \n1                                       18                                35   \n2                                       18                                35   \n3                                       18                                35   \n4                                       18                                35   \n5                                       18                                35   \n6                                        0                                 1   \n7                                        0                                 1   \n8                                        0                                 1   \n9                                        0                                 1   \n\n   ...  transaction_position_timestampClosed  transaction_position_side  \\\n0  ...                                   NaN                     LENDER   \n1  ...                                   NaN                     LENDER   \n2  ...                                   NaN                     LENDER   \n3  ...                                   NaN                     LENDER   \n4  ...                                   NaN                     LENDER   \n5  ...                                   NaN                     LENDER   \n6  ...                                   NaN                     LENDER   \n7  ...                                   NaN                     LENDER   \n8  ...                                   NaN                     LENDER   \n9  ...                                   NaN                     LENDER   \n\n   transaction_position_isCollateral  transaction_position_balance  \\\n0                               True       80385198564684193341455   \n1                               True       80385198564684193341455   \n2                               True       80385198564684193341455   \n3                               True       80385198564684193341455   \n4                               True       80385198564684193341455   \n5                               True       80385198564684193341455   \n6                               True           9990000000000000000   \n7                               True           9990000000000000000   \n8                               True           9990000000000000000   \n9                               True           9990000000000000000   \n\n   transaction_position_depositCount transaction_position_withdrawCount  \\\n0                                  1                                  0   \n1                                  1                                  0   \n2                                  1                                  0   \n3                                  1                                  0   \n4                                  1                                  0   \n5                                  1                                  0   \n6                                  1                                  0   \n7                                  1                                  0   \n8                                  1                                  0   \n9                                  1                                  0   \n\n  transaction_position_borrowCount transaction_position_repayCount  \\\n0                                0                               0   \n1                                0                               0   \n2                                0                               0   \n3                                0                               0   \n4                                0                               0   \n5                                0                               0   \n6                                0                               0   \n7                                0                               0   \n8                                0                               0   \n9                                0                               0   \n\n   transaction_position_liquidationCount    event  \n0                                      0  deposit  \n1                                      0  deposit  \n2                                      0  deposit  \n3                                      0  deposit  \n4                                      0  deposit  \n5                                      0  deposit  \n6                                      0  deposit  \n7                                      0  deposit  \n8                                      0  deposit  \n9                                      0  deposit  \n\n[10 rows x 95 columns]",
      "text/html": "<div>\n<style scoped>\n    .dataframe tbody tr th:only-of-type {\n        vertical-align: middle;\n    }\n\n    .dataframe tbody tr th {\n        vertical-align: top;\n    }\n\n    .dataframe thead th {\n        text-align: right;\n    }\n</style>\n<table border=\"1\" class=\"dataframe\">\n  <thead>\n    <tr style=\"text-align: right;\">\n      <th></th>\n      <th>transaction_id</th>\n      <th>transaction_hash</th>\n      <th>transaction_logIndex</th>\n      <th>transaction_blockNumber</th>\n      <th>transaction_timestamp</th>\n      <th>transaction_account_id</th>\n      <th>transaction_account_positionCount</th>\n      <th>transaction_account_openPositionCount</th>\n      <th>transaction_account_closedPositionCount</th>\n      <th>transaction_account_depositCount</th>\n      <th>...</th>\n      <th>transaction_position_timestampClosed</th>\n      <th>transaction_position_side</th>\n      <th>transaction_position_isCollateral</th>\n      <th>transaction_position_balance</th>\n      <th>transaction_position_depositCount</th>\n      <th>transaction_position_withdrawCount</th>\n      <th>transaction_position_borrowCount</th>\n      <th>transaction_position_repayCount</th>\n      <th>transaction_position_liquidationCount</th>\n      <th>event</th>\n    </tr>\n  </thead>\n  <tbody>\n    <tr>\n      <th>0</th>\n      <td>0x7c0686952bdf22de3c8ce87e732690a4365c23f25939...</td>\n      <td>0x7c0686952bdf22de3c8ce87e732690a4365c23f25939...</td>\n      <td>204</td>\n      <td>16592784</td>\n      <td>1675964891</td>\n      <td>0xc04f84a02cc65f14f4e8c982a7a467ee88c5311e</td>\n      <td>27</td>\n      <td>9</td>\n      <td>18</td>\n      <td>35</td>\n      <td>...</td>\n      <td>NaN</td>\n      <td>LENDER</td>\n      <td>True</td>\n      <td>80385198564684193341455</td>\n      <td>1</td>\n      <td>0</td>\n      <td>0</td>\n      <td>0</td>\n      <td>0</td>\n      <td>deposit</td>\n    </tr>\n    <tr>\n      <th>1</th>\n      <td>0x7c0686952bdf22de3c8ce87e732690a4365c23f25939...</td>\n      <td>0x7c0686952bdf22de3c8ce87e732690a4365c23f25939...</td>\n      <td>204</td>\n      <td>16592784</td>\n      <td>1675964891</td>\n      <td>0xc04f84a02cc65f14f4e8c982a7a467ee88c5311e</td>\n      <td>27</td>\n      <td>9</td>\n      <td>18</td>\n      <td>35</td>\n      <td>...</td>\n      <td>NaN</td>\n      <td>LENDER</td>\n      <td>True</td>\n      <td>80385198564684193341455</td>\n      <td>1</td>\n      <td>0</td>\n      <td>0</td>\n      <td>0</td>\n      <td>0</td>\n      <td>deposit</td>\n    </tr>\n    <tr>\n      <th>2</th>\n      <td>0x7c0686952bdf22de3c8ce87e732690a4365c23f25939...</td>\n      <td>0x7c0686952bdf22de3c8ce87e732690a4365c23f25939...</td>\n      <td>204</td>\n      <td>16592784</td>\n      <td>1675964891</td>\n      <td>0xc04f84a02cc65f14f4e8c982a7a467ee88c5311e</td>\n      <td>27</td>\n      <td>9</td>\n      <td>18</td>\n      <td>35</td>\n      <td>...</td>\n      <td>NaN</td>\n      <td>LENDER</td>\n      <td>True</td>\n      <td>80385198564684193341455</td>\n      <td>1</td>\n      <td>0</td>\n      <td>0</td>\n      <td>0</td>\n      <td>0</td>\n      <td>deposit</td>\n    </tr>\n    <tr>\n      <th>3</th>\n      <td>0x7c0686952bdf22de3c8ce87e732690a4365c23f25939...</td>\n      <td>0x7c0686952bdf22de3c8ce87e732690a4365c23f25939...</td>\n      <td>204</td>\n      <td>16592784</td>\n      <td>1675964891</td>\n      <td>0xc04f84a02cc65f14f4e8c982a7a467ee88c5311e</td>\n      <td>27</td>\n      <td>9</td>\n      <td>18</td>\n      <td>35</td>\n      <td>...</td>\n      <td>NaN</td>\n      <td>LENDER</td>\n      <td>True</td>\n      <td>80385198564684193341455</td>\n      <td>1</td>\n      <td>0</td>\n      <td>0</td>\n      <td>0</td>\n      <td>0</td>\n      <td>deposit</td>\n    </tr>\n    <tr>\n      <th>4</th>\n      <td>0x7c0686952bdf22de3c8ce87e732690a4365c23f25939...</td>\n      <td>0x7c0686952bdf22de3c8ce87e732690a4365c23f25939...</td>\n      <td>204</td>\n      <td>16592784</td>\n      <td>1675964891</td>\n      <td>0xc04f84a02cc65f14f4e8c982a7a467ee88c5311e</td>\n      <td>27</td>\n      <td>9</td>\n      <td>18</td>\n      <td>35</td>\n      <td>...</td>\n      <td>NaN</td>\n      <td>LENDER</td>\n      <td>True</td>\n      <td>80385198564684193341455</td>\n      <td>1</td>\n      <td>0</td>\n      <td>0</td>\n      <td>0</td>\n      <td>0</td>\n      <td>deposit</td>\n    </tr>\n    <tr>\n      <th>5</th>\n      <td>0x7c0686952bdf22de3c8ce87e732690a4365c23f25939...</td>\n      <td>0x7c0686952bdf22de3c8ce87e732690a4365c23f25939...</td>\n      <td>204</td>\n      <td>16592784</td>\n      <td>1675964891</td>\n      <td>0xc04f84a02cc65f14f4e8c982a7a467ee88c5311e</td>\n      <td>27</td>\n      <td>9</td>\n      <td>18</td>\n      <td>35</td>\n      <td>...</td>\n      <td>NaN</td>\n      <td>LENDER</td>\n      <td>True</td>\n      <td>80385198564684193341455</td>\n      <td>1</td>\n      <td>0</td>\n      <td>0</td>\n      <td>0</td>\n      <td>0</td>\n      <td>deposit</td>\n    </tr>\n    <tr>\n      <th>6</th>\n      <td>0x669ce641c8adcf855d5ea4fedda6b52fc63795fd0dd6...</td>\n      <td>0x669ce641c8adcf855d5ea4fedda6b52fc63795fd0dd6...</td>\n      <td>369</td>\n      <td>16590634</td>\n      <td>1675938899</td>\n      <td>0x51bc3dd10a9ee4946f961038cf5d50057e49eb77</td>\n      <td>1</td>\n      <td>1</td>\n      <td>0</td>\n      <td>1</td>\n      <td>...</td>\n      <td>NaN</td>\n      <td>LENDER</td>\n      <td>True</td>\n      <td>9990000000000000000</td>\n      <td>1</td>\n      <td>0</td>\n      <td>0</td>\n      <td>0</td>\n      <td>0</td>\n      <td>deposit</td>\n    </tr>\n    <tr>\n      <th>7</th>\n      <td>0x669ce641c8adcf855d5ea4fedda6b52fc63795fd0dd6...</td>\n      <td>0x669ce641c8adcf855d5ea4fedda6b52fc63795fd0dd6...</td>\n      <td>369</td>\n      <td>16590634</td>\n      <td>1675938899</td>\n      <td>0x51bc3dd10a9ee4946f961038cf5d50057e49eb77</td>\n      <td>1</td>\n      <td>1</td>\n      <td>0</td>\n      <td>1</td>\n      <td>...</td>\n      <td>NaN</td>\n      <td>LENDER</td>\n      <td>True</td>\n      <td>9990000000000000000</td>\n      <td>1</td>\n      <td>0</td>\n      <td>0</td>\n      <td>0</td>\n      <td>0</td>\n      <td>deposit</td>\n    </tr>\n    <tr>\n      <th>8</th>\n      <td>0x669ce641c8adcf855d5ea4fedda6b52fc63795fd0dd6...</td>\n      <td>0x669ce641c8adcf855d5ea4fedda6b52fc63795fd0dd6...</td>\n      <td>369</td>\n      <td>16590634</td>\n      <td>1675938899</td>\n      <td>0x51bc3dd10a9ee4946f961038cf5d50057e49eb77</td>\n      <td>1</td>\n      <td>1</td>\n      <td>0</td>\n      <td>1</td>\n      <td>...</td>\n      <td>NaN</td>\n      <td>LENDER</td>\n      <td>True</td>\n      <td>9990000000000000000</td>\n      <td>1</td>\n      <td>0</td>\n      <td>0</td>\n      <td>0</td>\n      <td>0</td>\n      <td>deposit</td>\n    </tr>\n    <tr>\n      <th>9</th>\n      <td>0x669ce641c8adcf855d5ea4fedda6b52fc63795fd0dd6...</td>\n      <td>0x669ce641c8adcf855d5ea4fedda6b52fc63795fd0dd6...</td>\n      <td>369</td>\n      <td>16590634</td>\n      <td>1675938899</td>\n      <td>0x51bc3dd10a9ee4946f961038cf5d50057e49eb77</td>\n      <td>1</td>\n      <td>1</td>\n      <td>0</td>\n      <td>1</td>\n      <td>...</td>\n      <td>NaN</td>\n      <td>LENDER</td>\n      <td>True</td>\n      <td>9990000000000000000</td>\n      <td>1</td>\n      <td>0</td>\n      <td>0</td>\n      <td>0</td>\n      <td>0</td>\n      <td>deposit</td>\n    </tr>\n  </tbody>\n</table>\n<p>10 rows × 95 columns</p>\n</div>"
     },
     "execution_count": 65,
     "metadata": {},
     "output_type": "execute_result"
    }
   ],
   "source": [
    "siloEventsDb = pd.DataFrame()\n",
    "siloEventsDb=pd.concat([depositsDb, borrowsDb,repaysDb])\n",
    "siloEventsDb.head(10)"
   ],
   "metadata": {
    "collapsed": false
   }
  },
  {
   "cell_type": "code",
   "execution_count": 69,
   "outputs": [
    {
     "data": {
      "text/plain": "330"
     },
     "execution_count": 69,
     "metadata": {},
     "output_type": "execute_result"
    }
   ],
   "source": [
    "len(siloEventsDb)"
   ],
   "metadata": {
    "collapsed": false
   }
  },
  {
   "cell_type": "code",
   "execution_count": 66,
   "outputs": [
    {
     "data": {
      "text/plain": "                                       transaction_id  \\\n0   0x7c0686952bdf22de3c8ce87e732690a4365c23f25939...   \n1   0x7c0686952bdf22de3c8ce87e732690a4365c23f25939...   \n2   0x7c0686952bdf22de3c8ce87e732690a4365c23f25939...   \n3   0x7c0686952bdf22de3c8ce87e732690a4365c23f25939...   \n4   0x7c0686952bdf22de3c8ce87e732690a4365c23f25939...   \n..                                                ...   \n95  0x7811e7757339551966af37751af4b56c16a3e141d682...   \n96  0xc094064b1815d07ca696c614f45dffbb054d2e5d5954...   \n97  0xc094064b1815d07ca696c614f45dffbb054d2e5d5954...   \n98  0xc094064b1815d07ca696c614f45dffbb054d2e5d5954...   \n99  0xc094064b1815d07ca696c614f45dffbb054d2e5d5954...   \n\n                                     transaction_hash  transaction_logIndex  \\\n0   0x7c0686952bdf22de3c8ce87e732690a4365c23f25939...                   204   \n1   0x7c0686952bdf22de3c8ce87e732690a4365c23f25939...                   204   \n2   0x7c0686952bdf22de3c8ce87e732690a4365c23f25939...                   204   \n3   0x7c0686952bdf22de3c8ce87e732690a4365c23f25939...                   204   \n4   0x7c0686952bdf22de3c8ce87e732690a4365c23f25939...                   204   \n..                                                ...                   ...   \n95  0x7811e7757339551966af37751af4b56c16a3e141d682...                   149   \n96  0xc094064b1815d07ca696c614f45dffbb054d2e5d5954...                   194   \n97  0xc094064b1815d07ca696c614f45dffbb054d2e5d5954...                   194   \n98  0xc094064b1815d07ca696c614f45dffbb054d2e5d5954...                   194   \n99  0xc094064b1815d07ca696c614f45dffbb054d2e5d5954...                   194   \n\n    transaction_blockNumber  transaction_timestamp  \\\n0                  16592784             1675964891   \n1                  16592784             1675964891   \n2                  16592784             1675964891   \n3                  16592784             1675964891   \n4                  16592784             1675964891   \n..                      ...                    ...   \n95                 16366137             1673229911   \n96                 16235576             1671655835   \n97                 16235576             1671655835   \n98                 16235576             1671655835   \n99                 16235576             1671655835   \n\n                        transaction_account_id  \\\n0   0xc04f84a02cc65f14f4e8c982a7a467ee88c5311e   \n1   0xc04f84a02cc65f14f4e8c982a7a467ee88c5311e   \n2   0xc04f84a02cc65f14f4e8c982a7a467ee88c5311e   \n3   0xc04f84a02cc65f14f4e8c982a7a467ee88c5311e   \n4   0xc04f84a02cc65f14f4e8c982a7a467ee88c5311e   \n..                                         ...   \n95  0x25fdda95197f804316f5ba8dbb66ac173ee19981   \n96  0xdedcf5806c4968c6397eee97e68047bda339d0c1   \n97  0xdedcf5806c4968c6397eee97e68047bda339d0c1   \n98  0xdedcf5806c4968c6397eee97e68047bda339d0c1   \n99  0xdedcf5806c4968c6397eee97e68047bda339d0c1   \n\n    transaction_account_positionCount  transaction_account_openPositionCount  \\\n0                                  27                                      9   \n1                                  27                                      9   \n2                                  27                                      9   \n3                                  27                                      9   \n4                                  27                                      9   \n..                                ...                                    ...   \n95                                  1                                      0   \n96                                 14                                     12   \n97                                 14                                     12   \n98                                 14                                     12   \n99                                 14                                     12   \n\n    transaction_account_closedPositionCount  transaction_account_depositCount  \\\n0                                        18                                35   \n1                                        18                                35   \n2                                        18                                35   \n3                                        18                                35   \n4                                        18                                35   \n..                                      ...                               ...   \n95                                        1                                 1   \n96                                        2                                19   \n97                                        2                                19   \n98                                        2                                19   \n99                                        2                                19   \n\n    ...  transaction_position_side  transaction_position_isCollateral  \\\n0   ...                     LENDER                               True   \n1   ...                     LENDER                               True   \n2   ...                     LENDER                               True   \n3   ...                     LENDER                               True   \n4   ...                     LENDER                               True   \n..  ...                        ...                                ...   \n95  ...                     LENDER                               True   \n96  ...                     LENDER                               True   \n97  ...                     LENDER                               True   \n98  ...                     LENDER                               True   \n99  ...                     LENDER                               True   \n\n    transaction_position_balance  transaction_position_depositCount  \\\n0        80385198564684193341455                                  1   \n1        80385198564684193341455                                  1   \n2        80385198564684193341455                                  1   \n3        80385198564684193341455                                  1   \n4        80385198564684193341455                                  1   \n..                           ...                                ...   \n95                             0                                  1   \n96             20000000000000000                                  1   \n97             20000000000000000                                  1   \n98             20000000000000000                                  1   \n99             20000000000000000                                  1   \n\n    transaction_position_withdrawCount transaction_position_borrowCount  \\\n0                                    0                                0   \n1                                    0                                0   \n2                                    0                                0   \n3                                    0                                0   \n4                                    0                                0   \n..                                 ...                              ...   \n95                                   1                                0   \n96                                   0                                0   \n97                                   0                                0   \n98                                   0                                0   \n99                                   0                                0   \n\n   transaction_position_repayCount transaction_position_liquidationCount  \\\n0                                0                                     0   \n1                                0                                     0   \n2                                0                                     0   \n3                                0                                     0   \n4                                0                                     0   \n..                             ...                                   ...   \n95                               0                                     0   \n96                               0                                     0   \n97                               0                                     0   \n98                               0                                     0   \n99                               0                                     0   \n\n      event            dateTime  \n0   deposit 2023-02-09 17:48:11  \n1   deposit 2023-02-09 17:48:11  \n2   deposit 2023-02-09 17:48:11  \n3   deposit 2023-02-09 17:48:11  \n4   deposit 2023-02-09 17:48:11  \n..      ...                 ...  \n95  deposit 2023-01-09 02:05:11  \n96  deposit 2022-12-21 20:50:35  \n97  deposit 2022-12-21 20:50:35  \n98  deposit 2022-12-21 20:50:35  \n99  deposit 2022-12-21 20:50:35  \n\n[100 rows x 96 columns]",
      "text/html": "<div>\n<style scoped>\n    .dataframe tbody tr th:only-of-type {\n        vertical-align: middle;\n    }\n\n    .dataframe tbody tr th {\n        vertical-align: top;\n    }\n\n    .dataframe thead th {\n        text-align: right;\n    }\n</style>\n<table border=\"1\" class=\"dataframe\">\n  <thead>\n    <tr style=\"text-align: right;\">\n      <th></th>\n      <th>transaction_id</th>\n      <th>transaction_hash</th>\n      <th>transaction_logIndex</th>\n      <th>transaction_blockNumber</th>\n      <th>transaction_timestamp</th>\n      <th>transaction_account_id</th>\n      <th>transaction_account_positionCount</th>\n      <th>transaction_account_openPositionCount</th>\n      <th>transaction_account_closedPositionCount</th>\n      <th>transaction_account_depositCount</th>\n      <th>...</th>\n      <th>transaction_position_side</th>\n      <th>transaction_position_isCollateral</th>\n      <th>transaction_position_balance</th>\n      <th>transaction_position_depositCount</th>\n      <th>transaction_position_withdrawCount</th>\n      <th>transaction_position_borrowCount</th>\n      <th>transaction_position_repayCount</th>\n      <th>transaction_position_liquidationCount</th>\n      <th>event</th>\n      <th>dateTime</th>\n    </tr>\n  </thead>\n  <tbody>\n    <tr>\n      <th>0</th>\n      <td>0x7c0686952bdf22de3c8ce87e732690a4365c23f25939...</td>\n      <td>0x7c0686952bdf22de3c8ce87e732690a4365c23f25939...</td>\n      <td>204</td>\n      <td>16592784</td>\n      <td>1675964891</td>\n      <td>0xc04f84a02cc65f14f4e8c982a7a467ee88c5311e</td>\n      <td>27</td>\n      <td>9</td>\n      <td>18</td>\n      <td>35</td>\n      <td>...</td>\n      <td>LENDER</td>\n      <td>True</td>\n      <td>80385198564684193341455</td>\n      <td>1</td>\n      <td>0</td>\n      <td>0</td>\n      <td>0</td>\n      <td>0</td>\n      <td>deposit</td>\n      <td>2023-02-09 17:48:11</td>\n    </tr>\n    <tr>\n      <th>1</th>\n      <td>0x7c0686952bdf22de3c8ce87e732690a4365c23f25939...</td>\n      <td>0x7c0686952bdf22de3c8ce87e732690a4365c23f25939...</td>\n      <td>204</td>\n      <td>16592784</td>\n      <td>1675964891</td>\n      <td>0xc04f84a02cc65f14f4e8c982a7a467ee88c5311e</td>\n      <td>27</td>\n      <td>9</td>\n      <td>18</td>\n      <td>35</td>\n      <td>...</td>\n      <td>LENDER</td>\n      <td>True</td>\n      <td>80385198564684193341455</td>\n      <td>1</td>\n      <td>0</td>\n      <td>0</td>\n      <td>0</td>\n      <td>0</td>\n      <td>deposit</td>\n      <td>2023-02-09 17:48:11</td>\n    </tr>\n    <tr>\n      <th>2</th>\n      <td>0x7c0686952bdf22de3c8ce87e732690a4365c23f25939...</td>\n      <td>0x7c0686952bdf22de3c8ce87e732690a4365c23f25939...</td>\n      <td>204</td>\n      <td>16592784</td>\n      <td>1675964891</td>\n      <td>0xc04f84a02cc65f14f4e8c982a7a467ee88c5311e</td>\n      <td>27</td>\n      <td>9</td>\n      <td>18</td>\n      <td>35</td>\n      <td>...</td>\n      <td>LENDER</td>\n      <td>True</td>\n      <td>80385198564684193341455</td>\n      <td>1</td>\n      <td>0</td>\n      <td>0</td>\n      <td>0</td>\n      <td>0</td>\n      <td>deposit</td>\n      <td>2023-02-09 17:48:11</td>\n    </tr>\n    <tr>\n      <th>3</th>\n      <td>0x7c0686952bdf22de3c8ce87e732690a4365c23f25939...</td>\n      <td>0x7c0686952bdf22de3c8ce87e732690a4365c23f25939...</td>\n      <td>204</td>\n      <td>16592784</td>\n      <td>1675964891</td>\n      <td>0xc04f84a02cc65f14f4e8c982a7a467ee88c5311e</td>\n      <td>27</td>\n      <td>9</td>\n      <td>18</td>\n      <td>35</td>\n      <td>...</td>\n      <td>LENDER</td>\n      <td>True</td>\n      <td>80385198564684193341455</td>\n      <td>1</td>\n      <td>0</td>\n      <td>0</td>\n      <td>0</td>\n      <td>0</td>\n      <td>deposit</td>\n      <td>2023-02-09 17:48:11</td>\n    </tr>\n    <tr>\n      <th>4</th>\n      <td>0x7c0686952bdf22de3c8ce87e732690a4365c23f25939...</td>\n      <td>0x7c0686952bdf22de3c8ce87e732690a4365c23f25939...</td>\n      <td>204</td>\n      <td>16592784</td>\n      <td>1675964891</td>\n      <td>0xc04f84a02cc65f14f4e8c982a7a467ee88c5311e</td>\n      <td>27</td>\n      <td>9</td>\n      <td>18</td>\n      <td>35</td>\n      <td>...</td>\n      <td>LENDER</td>\n      <td>True</td>\n      <td>80385198564684193341455</td>\n      <td>1</td>\n      <td>0</td>\n      <td>0</td>\n      <td>0</td>\n      <td>0</td>\n      <td>deposit</td>\n      <td>2023-02-09 17:48:11</td>\n    </tr>\n    <tr>\n      <th>...</th>\n      <td>...</td>\n      <td>...</td>\n      <td>...</td>\n      <td>...</td>\n      <td>...</td>\n      <td>...</td>\n      <td>...</td>\n      <td>...</td>\n      <td>...</td>\n      <td>...</td>\n      <td>...</td>\n      <td>...</td>\n      <td>...</td>\n      <td>...</td>\n      <td>...</td>\n      <td>...</td>\n      <td>...</td>\n      <td>...</td>\n      <td>...</td>\n      <td>...</td>\n      <td>...</td>\n    </tr>\n    <tr>\n      <th>95</th>\n      <td>0x7811e7757339551966af37751af4b56c16a3e141d682...</td>\n      <td>0x7811e7757339551966af37751af4b56c16a3e141d682...</td>\n      <td>149</td>\n      <td>16366137</td>\n      <td>1673229911</td>\n      <td>0x25fdda95197f804316f5ba8dbb66ac173ee19981</td>\n      <td>1</td>\n      <td>0</td>\n      <td>1</td>\n      <td>1</td>\n      <td>...</td>\n      <td>LENDER</td>\n      <td>True</td>\n      <td>0</td>\n      <td>1</td>\n      <td>1</td>\n      <td>0</td>\n      <td>0</td>\n      <td>0</td>\n      <td>deposit</td>\n      <td>2023-01-09 02:05:11</td>\n    </tr>\n    <tr>\n      <th>96</th>\n      <td>0xc094064b1815d07ca696c614f45dffbb054d2e5d5954...</td>\n      <td>0xc094064b1815d07ca696c614f45dffbb054d2e5d5954...</td>\n      <td>194</td>\n      <td>16235576</td>\n      <td>1671655835</td>\n      <td>0xdedcf5806c4968c6397eee97e68047bda339d0c1</td>\n      <td>14</td>\n      <td>12</td>\n      <td>2</td>\n      <td>19</td>\n      <td>...</td>\n      <td>LENDER</td>\n      <td>True</td>\n      <td>20000000000000000</td>\n      <td>1</td>\n      <td>0</td>\n      <td>0</td>\n      <td>0</td>\n      <td>0</td>\n      <td>deposit</td>\n      <td>2022-12-21 20:50:35</td>\n    </tr>\n    <tr>\n      <th>97</th>\n      <td>0xc094064b1815d07ca696c614f45dffbb054d2e5d5954...</td>\n      <td>0xc094064b1815d07ca696c614f45dffbb054d2e5d5954...</td>\n      <td>194</td>\n      <td>16235576</td>\n      <td>1671655835</td>\n      <td>0xdedcf5806c4968c6397eee97e68047bda339d0c1</td>\n      <td>14</td>\n      <td>12</td>\n      <td>2</td>\n      <td>19</td>\n      <td>...</td>\n      <td>LENDER</td>\n      <td>True</td>\n      <td>20000000000000000</td>\n      <td>1</td>\n      <td>0</td>\n      <td>0</td>\n      <td>0</td>\n      <td>0</td>\n      <td>deposit</td>\n      <td>2022-12-21 20:50:35</td>\n    </tr>\n    <tr>\n      <th>98</th>\n      <td>0xc094064b1815d07ca696c614f45dffbb054d2e5d5954...</td>\n      <td>0xc094064b1815d07ca696c614f45dffbb054d2e5d5954...</td>\n      <td>194</td>\n      <td>16235576</td>\n      <td>1671655835</td>\n      <td>0xdedcf5806c4968c6397eee97e68047bda339d0c1</td>\n      <td>14</td>\n      <td>12</td>\n      <td>2</td>\n      <td>19</td>\n      <td>...</td>\n      <td>LENDER</td>\n      <td>True</td>\n      <td>20000000000000000</td>\n      <td>1</td>\n      <td>0</td>\n      <td>0</td>\n      <td>0</td>\n      <td>0</td>\n      <td>deposit</td>\n      <td>2022-12-21 20:50:35</td>\n    </tr>\n    <tr>\n      <th>99</th>\n      <td>0xc094064b1815d07ca696c614f45dffbb054d2e5d5954...</td>\n      <td>0xc094064b1815d07ca696c614f45dffbb054d2e5d5954...</td>\n      <td>194</td>\n      <td>16235576</td>\n      <td>1671655835</td>\n      <td>0xdedcf5806c4968c6397eee97e68047bda339d0c1</td>\n      <td>14</td>\n      <td>12</td>\n      <td>2</td>\n      <td>19</td>\n      <td>...</td>\n      <td>LENDER</td>\n      <td>True</td>\n      <td>20000000000000000</td>\n      <td>1</td>\n      <td>0</td>\n      <td>0</td>\n      <td>0</td>\n      <td>0</td>\n      <td>deposit</td>\n      <td>2022-12-21 20:50:35</td>\n    </tr>\n  </tbody>\n</table>\n<p>100 rows × 96 columns</p>\n</div>"
     },
     "execution_count": 66,
     "metadata": {},
     "output_type": "execute_result"
    }
   ],
   "source": [
    "#I swear I will figure out synthetic fields, but until then...\n",
    "siloEventsDbTimed = db.query(\"select \"\n",
    "               \"    * \"\n",
    "                    \" ,to_timestamp(transaction_timestamp::int) dateTime \"\n",
    "               \"From siloEventsDb \"\n",
    "               #\"where lower(liquidityPools_name) like lower('%olympus%') \"\n",
    "                #    \"or lower(pairs_token1_symbol) like lower('%OHM%')  \"\n",
    "               #\" limit 100 \"\n",
    "               ).df()\n",
    "siloEventsDbTimed.head(100)"
   ],
   "metadata": {
    "collapsed": false
   }
  },
  {
   "cell_type": "code",
   "execution_count": 67,
   "outputs": [
    {
     "data": {
      "text/plain": "330"
     },
     "execution_count": 67,
     "metadata": {},
     "output_type": "execute_result"
    }
   ],
   "source": [
    "siloEventsDblength = len(siloEventsDbTimed)\n",
    "siloEventsDblength"
   ],
   "metadata": {
    "collapsed": false
   }
  },
  {
   "cell_type": "code",
   "execution_count": 68,
   "outputs": [
    {
     "name": "stdout",
     "output_type": "stream",
     "text": [
      "file saved\n"
     ]
    }
   ],
   "source": [
    "path =file+'/siloFinance_events_'+str(dt.datetime.today().strftime(\"%b-%d-%Y\"))+\"_\"+str(siloEventsDblength)+'_records.csv'\n",
    "siloEventsDbTimed.to_csv(path, index = False)\n",
    "\n",
    "path =file+'/siloFinance_events_'+str(dt.datetime.today().strftime(\"%b-%d-%Y\"))+\"_\"+str(siloEventsDblength)+'_records_piped.csv'\n",
    "siloEventsDbTimed.to_csv(path, index = False, sep='|')\n",
    "print('file saved')"
   ],
   "metadata": {
    "collapsed": false
   }
  },
  {
   "cell_type": "code",
   "execution_count": 16,
   "outputs": [
    {
     "name": "stdout",
     "output_type": "stream",
     "text": [
      "iterations:  0 Lines skipped:  0 records collected:  6\n",
      "Done. Total Records collected:  6\n"
     ]
    }
   ],
   "source": [
    "#let's pull interest rate data\n",
    "interestRateTicker = 0\n",
    "interestRateslist = pd.DataFrame()\n",
    "interestRatesDb = pd.DataFrame()\n",
    "interestRateListLength = 1000\n",
    "datediff = 0\n",
    "now=0\n",
    "daysAgo=0\n",
    "daysLimit = 45\n",
    "exit = False\n",
    "while exit==False:\n",
    "    skipValue = (interestRateTicker)*(1000)\n",
    "    interestRates = silo.Query.interestRates(\n",
    "        orderBy='id',\n",
    "        orderDirection='desc',\n",
    "        first=1000,\n",
    "        skip = skipValue,\n",
    "        where={ 'market': '0xc413dd03555f3eb29d834b482d386b2999dc2eb0' } #gOHM market\n",
    "\n",
    "    )\n",
    "\n",
    "    interestRateslist = sg.query_df([\n",
    "        interestRates.id\n",
    "        ,interestRates.rate #5.21% should be stored as 5.21\n",
    "        ,interestRates.duration #in days\n",
    "        ,interestRates.maturityBlock #Maturity of the loan in block height. Only applies to fixed term lending (e.g. Notional)\n",
    "        ,interestRates.side #The party the interest is paid to / received from\n",
    "        ,interestRates.type #The type of interest rate (e.g. stable, fixed, variable, etc)\n",
    "        ,interestRates.market\n",
    "        ,interestRates.marketAsset\n",
    "        ,interestRates.token\n",
    "    ])\n",
    "\n",
    "    #interestRateslist.sort_values(by=['interestRates_timestamp'])\n",
    "\n",
    "    interestRatesDb=pd.concat([interestRateslist, interestRatesDb])\n",
    "    interestRatesDbLength = len(interestRatesDb)\n",
    "    interestRateListLength = len(interestRateslist)\n",
    "    print(\"iterations: \", interestRateTicker, \"Lines skipped: \",skipValue, \"records collected: \", interestRateListLength)\n",
    "    #print(\"iterations: \", interestRateTicker, \"records collected: \", interestRateListLength, \" - userdb length: \", interestRatesDbLength)\n",
    "    interestRateTicker = interestRateTicker+1\n",
    "    if interestRateListLength<1000: exit =True\n",
    "\n",
    "print(\"Done. Total Records collected: \", interestRatesDbLength)\n",
    "\n",
    "\n"
   ],
   "metadata": {
    "collapsed": false
   }
  },
  {
   "cell_type": "code",
   "execution_count": 17,
   "outputs": [
    {
     "data": {
      "text/plain": "                                    interestRates_id  interestRates_rate  \\\n0  LENDER-VARIABLE-0xc413dd03555f3eb29d834b482d38...            2.148783   \n1  LENDER-VARIABLE-0xc413dd03555f3eb29d834b482d38...            0.000000   \n2  LENDER-VARIABLE-0xc413dd03555f3eb29d834b482d38...            0.000000   \n3  BORROWER-VARIABLE-0xc413dd03555f3eb29d834b482d...            3.277791   \n4  BORROWER-VARIABLE-0xc413dd03555f3eb29d834b482d...            0.000000   \n5  BORROWER-VARIABLE-0xc413dd03555f3eb29d834b482d...            0.000000   \n\n  interestRates_duration interestRates_maturityBlock interestRates_side  \\\n0                   None                        None             LENDER   \n1                   None                        None             LENDER   \n2                   None                        None             LENDER   \n3                   None                        None           BORROWER   \n4                   None                        None           BORROWER   \n5                   None                        None           BORROWER   \n\n  interestRates_type                     interestRates_market_id  \\\n0           VARIABLE  0xc413dd03555f3eb29d834b482d386b2999dc2eb0   \n1           VARIABLE  0xc413dd03555f3eb29d834b482d386b2999dc2eb0   \n2           VARIABLE  0xc413dd03555f3eb29d834b482d386b2999dc2eb0   \n3           VARIABLE  0xc413dd03555f3eb29d834b482d386b2999dc2eb0   \n4           VARIABLE  0xc413dd03555f3eb29d834b482d386b2999dc2eb0   \n5           VARIABLE  0xc413dd03555f3eb29d834b482d386b2999dc2eb0   \n\n             interestRates_market_protocol_id interestRates_market_name  \\\n0  0xd998c35b7900b344bbbe6555cc11576942cf309d                      gOHM   \n1  0xd998c35b7900b344bbbe6555cc11576942cf309d                      gOHM   \n2  0xd998c35b7900b344bbbe6555cc11576942cf309d                      gOHM   \n3  0xd998c35b7900b344bbbe6555cc11576942cf309d                      gOHM   \n4  0xd998c35b7900b344bbbe6555cc11576942cf309d                      gOHM   \n5  0xd998c35b7900b344bbbe6555cc11576942cf309d                      gOHM   \n\n   interestRates_market_isActive  ...  interestRates_token_symbol  \\\n0                           True  ...                         XAI   \n1                           True  ...                        WETH   \n2                           True  ...                        gOHM   \n3                           True  ...                         XAI   \n4                           True  ...                        WETH   \n5                           True  ...                        gOHM   \n\n   interestRates_token_decimals  interestRates_token_type  \\\n0                            18                     Asset   \n1                            18                     Asset   \n2                            18                     Asset   \n3                            18                     Asset   \n4                            18                     Asset   \n5                            18                     Asset   \n\n   interestRates_token_lastPriceUSD interestRates_token_lastPriceBlockNumber  \\\n0                          1.001703                                 16599370   \n1                       1518.261480                                 16599370   \n2                       2607.695130                                 16599370   \n3                          1.001703                                 16599370   \n4                       1518.261480                                 16599370   \n5                       2607.695130                                 16599370   \n\n   interestRates_token_market_id  interestRates_token_asset_id  \\\n0                           None                          None   \n1                           None                          None   \n2                           None                          None   \n3                           None                          None   \n4                           None                          None   \n5                           None                          None   \n\n   interestRates_token_derivativeConversion  interestRates_token_totalSupply  \\\n0                                       1.0                                0   \n1                                       1.0                                0   \n2                                       1.0                                0   \n3                                       1.0                                0   \n4                                       1.0                                0   \n5                                       1.0                                0   \n\n                 interestRates_token_activeOracle_id  \n0  0xe37b8c83138caf12e57632d19c06eb561d47e423-0xd...  \n1                                               None  \n2  0xba53d3a08fb8dd4309881b4e8a3bc386ea0ddb1f-0x0...  \n3  0xe37b8c83138caf12e57632d19c06eb561d47e423-0xd...  \n4                                               None  \n5  0xba53d3a08fb8dd4309881b4e8a3bc386ea0ddb1f-0x0...  \n\n[6 rows x 62 columns]",
      "text/html": "<div>\n<style scoped>\n    .dataframe tbody tr th:only-of-type {\n        vertical-align: middle;\n    }\n\n    .dataframe tbody tr th {\n        vertical-align: top;\n    }\n\n    .dataframe thead th {\n        text-align: right;\n    }\n</style>\n<table border=\"1\" class=\"dataframe\">\n  <thead>\n    <tr style=\"text-align: right;\">\n      <th></th>\n      <th>interestRates_id</th>\n      <th>interestRates_rate</th>\n      <th>interestRates_duration</th>\n      <th>interestRates_maturityBlock</th>\n      <th>interestRates_side</th>\n      <th>interestRates_type</th>\n      <th>interestRates_market_id</th>\n      <th>interestRates_market_protocol_id</th>\n      <th>interestRates_market_name</th>\n      <th>interestRates_market_isActive</th>\n      <th>...</th>\n      <th>interestRates_token_symbol</th>\n      <th>interestRates_token_decimals</th>\n      <th>interestRates_token_type</th>\n      <th>interestRates_token_lastPriceUSD</th>\n      <th>interestRates_token_lastPriceBlockNumber</th>\n      <th>interestRates_token_market_id</th>\n      <th>interestRates_token_asset_id</th>\n      <th>interestRates_token_derivativeConversion</th>\n      <th>interestRates_token_totalSupply</th>\n      <th>interestRates_token_activeOracle_id</th>\n    </tr>\n  </thead>\n  <tbody>\n    <tr>\n      <th>0</th>\n      <td>LENDER-VARIABLE-0xc413dd03555f3eb29d834b482d38...</td>\n      <td>2.148783</td>\n      <td>None</td>\n      <td>None</td>\n      <td>LENDER</td>\n      <td>VARIABLE</td>\n      <td>0xc413dd03555f3eb29d834b482d386b2999dc2eb0</td>\n      <td>0xd998c35b7900b344bbbe6555cc11576942cf309d</td>\n      <td>gOHM</td>\n      <td>True</td>\n      <td>...</td>\n      <td>XAI</td>\n      <td>18</td>\n      <td>Asset</td>\n      <td>1.001703</td>\n      <td>16599370</td>\n      <td>None</td>\n      <td>None</td>\n      <td>1.0</td>\n      <td>0</td>\n      <td>0xe37b8c83138caf12e57632d19c06eb561d47e423-0xd...</td>\n    </tr>\n    <tr>\n      <th>1</th>\n      <td>LENDER-VARIABLE-0xc413dd03555f3eb29d834b482d38...</td>\n      <td>0.000000</td>\n      <td>None</td>\n      <td>None</td>\n      <td>LENDER</td>\n      <td>VARIABLE</td>\n      <td>0xc413dd03555f3eb29d834b482d386b2999dc2eb0</td>\n      <td>0xd998c35b7900b344bbbe6555cc11576942cf309d</td>\n      <td>gOHM</td>\n      <td>True</td>\n      <td>...</td>\n      <td>WETH</td>\n      <td>18</td>\n      <td>Asset</td>\n      <td>1518.261480</td>\n      <td>16599370</td>\n      <td>None</td>\n      <td>None</td>\n      <td>1.0</td>\n      <td>0</td>\n      <td>None</td>\n    </tr>\n    <tr>\n      <th>2</th>\n      <td>LENDER-VARIABLE-0xc413dd03555f3eb29d834b482d38...</td>\n      <td>0.000000</td>\n      <td>None</td>\n      <td>None</td>\n      <td>LENDER</td>\n      <td>VARIABLE</td>\n      <td>0xc413dd03555f3eb29d834b482d386b2999dc2eb0</td>\n      <td>0xd998c35b7900b344bbbe6555cc11576942cf309d</td>\n      <td>gOHM</td>\n      <td>True</td>\n      <td>...</td>\n      <td>gOHM</td>\n      <td>18</td>\n      <td>Asset</td>\n      <td>2607.695130</td>\n      <td>16599370</td>\n      <td>None</td>\n      <td>None</td>\n      <td>1.0</td>\n      <td>0</td>\n      <td>0xba53d3a08fb8dd4309881b4e8a3bc386ea0ddb1f-0x0...</td>\n    </tr>\n    <tr>\n      <th>3</th>\n      <td>BORROWER-VARIABLE-0xc413dd03555f3eb29d834b482d...</td>\n      <td>3.277791</td>\n      <td>None</td>\n      <td>None</td>\n      <td>BORROWER</td>\n      <td>VARIABLE</td>\n      <td>0xc413dd03555f3eb29d834b482d386b2999dc2eb0</td>\n      <td>0xd998c35b7900b344bbbe6555cc11576942cf309d</td>\n      <td>gOHM</td>\n      <td>True</td>\n      <td>...</td>\n      <td>XAI</td>\n      <td>18</td>\n      <td>Asset</td>\n      <td>1.001703</td>\n      <td>16599370</td>\n      <td>None</td>\n      <td>None</td>\n      <td>1.0</td>\n      <td>0</td>\n      <td>0xe37b8c83138caf12e57632d19c06eb561d47e423-0xd...</td>\n    </tr>\n    <tr>\n      <th>4</th>\n      <td>BORROWER-VARIABLE-0xc413dd03555f3eb29d834b482d...</td>\n      <td>0.000000</td>\n      <td>None</td>\n      <td>None</td>\n      <td>BORROWER</td>\n      <td>VARIABLE</td>\n      <td>0xc413dd03555f3eb29d834b482d386b2999dc2eb0</td>\n      <td>0xd998c35b7900b344bbbe6555cc11576942cf309d</td>\n      <td>gOHM</td>\n      <td>True</td>\n      <td>...</td>\n      <td>WETH</td>\n      <td>18</td>\n      <td>Asset</td>\n      <td>1518.261480</td>\n      <td>16599370</td>\n      <td>None</td>\n      <td>None</td>\n      <td>1.0</td>\n      <td>0</td>\n      <td>None</td>\n    </tr>\n    <tr>\n      <th>5</th>\n      <td>BORROWER-VARIABLE-0xc413dd03555f3eb29d834b482d...</td>\n      <td>0.000000</td>\n      <td>None</td>\n      <td>None</td>\n      <td>BORROWER</td>\n      <td>VARIABLE</td>\n      <td>0xc413dd03555f3eb29d834b482d386b2999dc2eb0</td>\n      <td>0xd998c35b7900b344bbbe6555cc11576942cf309d</td>\n      <td>gOHM</td>\n      <td>True</td>\n      <td>...</td>\n      <td>gOHM</td>\n      <td>18</td>\n      <td>Asset</td>\n      <td>2607.695130</td>\n      <td>16599370</td>\n      <td>None</td>\n      <td>None</td>\n      <td>1.0</td>\n      <td>0</td>\n      <td>0xba53d3a08fb8dd4309881b4e8a3bc386ea0ddb1f-0x0...</td>\n    </tr>\n  </tbody>\n</table>\n<p>6 rows × 62 columns</p>\n</div>"
     },
     "execution_count": 17,
     "metadata": {},
     "output_type": "execute_result"
    }
   ],
   "source": [
    "interestRatesDb.head(10)"
   ],
   "metadata": {
    "collapsed": false
   }
  },
  {
   "cell_type": "code",
   "execution_count": 18,
   "outputs": [
    {
     "name": "stdout",
     "output_type": "stream",
     "text": [
      "file saved\n"
     ]
    }
   ],
   "source": [
    "interestRatesDbLength = len(interestRatesDb)\n",
    "path =file+'/siloFinance_interestRates_'+str(dt.datetime.today().strftime(\"%b-%d-%Y\"))+\"_\"+str(interestRatesDbLength)+'_records.csv'\n",
    "interestRatesDb.to_csv(path, index = False)\n",
    "\n",
    "path =file+'/siloFinance_interestRates_'+str(dt.datetime.today().strftime(\"%b-%d-%Y\"))+\"_\"+str(interestRatesDbLength)+'_records_piped.csv'\n",
    "interestRatesDb.to_csv(path, index = False, sep='|')\n",
    "print('file saved')"
   ],
   "metadata": {
    "collapsed": false
   }
  },
  {
   "cell_type": "code",
   "execution_count": null,
   "outputs": [],
   "source": [],
   "metadata": {
    "collapsed": false
   }
  },
  {
   "cell_type": "markdown",
   "source": [
    "********************************************************************\n",
    "********************************************************************\n",
    "\n",
    "\n",
    "LET'S LOOK AT VESTA WHILE WE'RE ON A RUN\n",
    "\n",
    "Annoying: the schema for repay events is completely different from borrow and deposit. Can't union them into a single table without crunching it first. Argh.\n",
    "\n",
    "Interest Rate data is weird, too. But I may not need it?"
   ],
   "metadata": {
    "collapsed": false
   }
  },
  {
   "cell_type": "code",
   "execution_count": 43,
   "outputs": [],
   "source": [
    "#https://api.thegraph.com/subgraphs/name/corerouter/vesta-finance\n",
    "vesta = sg.load_api('https://api.thegraph.com/subgraphs/name/corerouter/vesta-finance')"
   ],
   "metadata": {
    "collapsed": false
   }
  },
  {
   "cell_type": "code",
   "execution_count": 44,
   "outputs": [
    {
     "name": "stdout",
     "output_type": "stream",
     "text": [
      "iterations:  0 Lines skipped:  0 records collected:  1000  - latest recordID:  0xa70b833620fa9e60985ec9d9aa6b9c6af9f5e2fb6ee6429aaa36ded8ce3ce15d   borrow-0xa70b833620fa9e60985ec9d9aa6b9c6af9f5e2fb6ee6429aaa36ded8ce3ce15d-38  - vestaBorrows DB length:  1000  - latest record from:  2023-02-09 12:33:03 1 days ago\n",
      "iterations:  1 Lines skipped:  1000 records collected:  397  - latest recordID:  0x5d3025a16815324cf1afca689903a14d2621c19c95729e618fa373df3b736eee   borrow-0x5d3025a16815324cf1afca689903a14d2621c19c95729e618fa373df3b736eee-37  - vestaBorrows DB length:  1397  - latest record from:  2023-02-08 20:04:50 1 days ago\n",
      "Done. Total Records collected:  1397\n"
     ]
    }
   ],
   "source": [
    "##this captures the list of people who vestaBorrowed XAI against gOHM\n",
    "vestaBorrowTicker = 0\n",
    "vestaBorrowslist = pd.DataFrame()\n",
    "vestaBorrowsDb = pd.DataFrame()\n",
    "vestaBorrowListLength = 1000\n",
    "datediff = 0\n",
    "now=0\n",
    "daysAgo=0\n",
    "daysLimit = 45\n",
    "exit = False\n",
    "while exit==False:\n",
    "    skipValue = (vestaBorrowTicker)*(1000)\n",
    "    vestaBorrows = vesta.Query.borrows(\n",
    "        orderBy='timestamp',\n",
    "        orderDirection='desc',\n",
    "        first=1000,\n",
    "        skip = skipValue,\n",
    "        where={ 'market': '0x8d9ba570d6cb60c7e3e0f31343efe75ab8e65fb1' } #gOHM market\n",
    "\n",
    "    )\n",
    "\n",
    "    vestaBorrowslist = sg.query_df([\n",
    "        vestaBorrows.id\n",
    "        ,vestaBorrows.hash\n",
    "        ,vestaBorrows.logIndex\n",
    "        ,vestaBorrows.blockNumber\n",
    "        ,vestaBorrows.timestamp\n",
    "        ,vestaBorrows.account\n",
    "        ,vestaBorrows.market\n",
    "        ,vestaBorrows.market.rates\n",
    "        ,vestaBorrows.asset\n",
    "        ,vestaBorrows.amount\n",
    "        ,vestaBorrows.amountUSD\n",
    "        ,vestaBorrows.position\n",
    "    ])\n",
    "\n",
    "    #vestaBorrowslist.sort_values(by=['vestaBorrows_timestamp'])\n",
    "\n",
    "    vestaBorrowsDb=pd.concat([vestaBorrowsDb, vestaBorrowslist])\n",
    "    recordTimestamp1 = vestaBorrowsDb.iat[vestaBorrowTicker,4]\n",
    "    recordTimestamp = dt.datetime.fromtimestamp( recordTimestamp1 )\n",
    "    now = (int(dt.datetime.utcnow().timestamp()))\n",
    "    datediff=abs(int(now) - recordTimestamp1)\n",
    "    daysAgo = int(datediff/86400)\n",
    "    vestaBorrowsDbLength = len(vestaBorrowsDb)\n",
    "    vestaBorrowListLength = len(vestaBorrowslist)\n",
    "    recordID = vestaBorrowsDb.iat[vestaBorrowTicker,0]\n",
    "    vestaBorrow = vestaBorrowsDb.iat[vestaBorrowTicker,1]\n",
    "    print(\"iterations: \", vestaBorrowTicker, \"Lines skipped: \",skipValue, \"records collected: \", vestaBorrowListLength, \" - latest recordID: \",vestaBorrow, \" \", recordID , \" - vestaBorrows DB length: \", vestaBorrowsDbLength, \" - latest record from: \", recordTimestamp, daysAgo,\"days ago\")\n",
    "    #print(\"iterations: \", vestaBorrowTicker, \"records collected: \", vestaBorrowListLength, \" - userdb length: \", vestaBorrowsDbLength)\n",
    "    vestaBorrowTicker = vestaBorrowTicker+1\n",
    "\n",
    "    if daysAgo>daysLimit: exit =True\n",
    "    if vestaBorrowListLength<1000: exit =True\n",
    "\n",
    "#vestaBorrowsDbTimed.columns = vestaBorrowsDbTimed.columns.str.replace(\"borrows\", \"transaction\")\n",
    "vestaBorrowsDb['event']='borrow'\n",
    "print(\"Done. Total Records collected: \", vestaBorrowsDbLength)"
   ],
   "metadata": {
    "collapsed": false
   }
  },
  {
   "cell_type": "code",
   "execution_count": 45,
   "outputs": [
    {
     "data": {
      "text/plain": "                                           borrows_id  \\\n0   borrow-0xa70b833620fa9e60985ec9d9aa6b9c6af9f5e...   \n1   borrow-0x5d3025a16815324cf1afca689903a14d2621c...   \n2   borrow-0x9285593b5e82d62c3211c6ea2b1ae37878091...   \n3   borrow-0x6150d3df67aa2f3cb0c5041d516a4e0f3cffc...   \n4   borrow-0x66b8e892882e3f5d0a6bd0aa81ba9d5cec32e...   \n..                                                ...   \n95  borrow-0x39e62f0bf2b26fb415c18eed751f3c6148f27...   \n96  borrow-0x965180bee5e4d28e5299cc0c996778fa816f3...   \n97  borrow-0xcd8fdb79f9c0f0ebda33b2ceb25fbc541a246...   \n98  borrow-0xb99ce9341425e4d0c4b48669847eebbe6a4f1...   \n99  borrow-0x32458a655e073ed371247621bf9273c497aee...   \n\n                                         borrows_hash  borrows_logIndex  \\\n0   0xa70b833620fa9e60985ec9d9aa6b9c6af9f5e2fb6ee6...                38   \n1   0x5d3025a16815324cf1afca689903a14d2621c19c9572...                37   \n2   0x9285593b5e82d62c3211c6ea2b1ae378780919897063...                 4   \n3   0x6150d3df67aa2f3cb0c5041d516a4e0f3cffccfe70d4...                36   \n4   0x66b8e892882e3f5d0a6bd0aa81ba9d5cec32ec4cd786...                26   \n..                                                ...               ...   \n95  0x39e62f0bf2b26fb415c18eed751f3c6148f271f70ca5...                23   \n96  0x965180bee5e4d28e5299cc0c996778fa816f3b9646ec...                34   \n97  0xcd8fdb79f9c0f0ebda33b2ceb25fbc541a24624636e3...                34   \n98  0xb99ce9341425e4d0c4b48669847eebbe6a4f1cbfad75...                34   \n99  0x32458a655e073ed371247621bf9273c497aeee146b3f...                42   \n\n    borrows_blockNumber  borrows_timestamp  \\\n0              59495981         1675974783   \n1              59294798         1675915490   \n2              59127942         1675866088   \n3              58934904         1675812656   \n4              58785787         1675771382   \n..                  ...                ...   \n95             47668312         1671580995   \n96             47474556         1671516834   \n97             47370369         1671471134   \n98             47344538         1671462599   \n99             47250455         1671430488   \n\n                            borrows_account_id  borrows_account_positionCount  \\\n0   0x15bae977db3b62ceb5a67921fae589fd80624e8d                              3   \n1   0x7723c45fb37092ee65202db7a2fe562c5fe0ab48                              9   \n2   0x515755b2c5a209976cf0de869c30f45ac7495a60                              6   \n3   0x394b67c6bc05abb14c73a57706dcd5cb85231c4e                              2   \n4   0xe2a4de267cdd4ff5ed9ba13552f5c624b12db9b2                             20   \n..                                         ...                            ...   \n95  0xe2a4de267cdd4ff5ed9ba13552f5c624b12db9b2                             20   \n96  0x2682efcc31de7a06ed3bf8b0be156ff88e1663a1                              7   \n97  0x53430bde5e57ed878406a20ca101b0853f173acf                              4   \n98  0xf352e5320291298be60d00a015b27d3960f879fa                              5   \n99  0xee95e4cf086fc80df7ae0f39dfc9ea53a3eaadcb                              6   \n\n    borrows_account_openPositionCount  borrows_account_closedPositionCount  \\\n0                                   2                                    1   \n1                                   4                                    5   \n2                                   0                                    6   \n3                                   2                                    0   \n4                                   6                                   14   \n..                                ...                                  ...   \n95                                  6                                   14   \n96                                  2                                    5   \n97                                  2                                    2   \n98                                  1                                    4   \n99                                  1                                    5   \n\n    borrows_account_depositCount  ...  borrows_position_side  \\\n0                              4  ...               BORROWER   \n1                              5  ...               BORROWER   \n2                             12  ...               BORROWER   \n3                              1  ...               BORROWER   \n4                             65  ...               BORROWER   \n..                           ...  ...                    ...   \n95                            65  ...               BORROWER   \n96                             5  ...               BORROWER   \n97                             2  ...               BORROWER   \n98                             4  ...               BORROWER   \n99                             4  ...               BORROWER   \n\n    borrows_position_isCollateral  borrows_position_balance  \\\n0                             NaN  550000374479268793127538   \n1                             NaN     600000064003338503382   \n2                             NaN                         0   \n3                             NaN    1669620110651309523172   \n4                             NaN   78903329999999999121255   \n..                            ...                       ...   \n95                            NaN   78903329999999999121255   \n96                            NaN  105000101450474620590108   \n97                            NaN    3614750313057953658431   \n98                            NaN                         0   \n99                            NaN  150000008681378740630472   \n\n    borrows_position_depositCount  borrows_position_withdrawCount  \\\n0                               0                               0   \n1                               0                               0   \n2                               0                               0   \n3                               0                               0   \n4                               0                               0   \n..                            ...                             ...   \n95                              0                               0   \n96                              0                               0   \n97                              0                               0   \n98                              0                               0   \n99                              0                               0   \n\n   borrows_position_borrowCount borrows_position_repayCount  \\\n0                             4                         150   \n1                             3                           0   \n2                             1                           1   \n3                             3                           1   \n4                             6                           1   \n..                          ...                         ...   \n95                            6                           1   \n96                           11                           0   \n97                            4                           2   \n98                            1                           1   \n99                            2                           0   \n\n   borrows_position_liquidationCount   event            dateTime  \n0                                  0  borrow 2023-02-09 20:33:03  \n1                                  0  borrow 2023-02-09 04:04:50  \n2                                  0  borrow 2023-02-08 14:21:28  \n3                                  0  borrow 2023-02-07 23:30:56  \n4                                  0  borrow 2023-02-07 12:03:02  \n..                               ...     ...                 ...  \n95                                 0  borrow 2022-12-21 00:03:15  \n96                                 0  borrow 2022-12-20 06:13:54  \n97                                 0  borrow 2022-12-19 17:32:14  \n98                                 0  borrow 2022-12-19 15:09:59  \n99                                 0  borrow 2022-12-19 06:14:48  \n\n[100 rows x 80 columns]",
      "text/html": "<div>\n<style scoped>\n    .dataframe tbody tr th:only-of-type {\n        vertical-align: middle;\n    }\n\n    .dataframe tbody tr th {\n        vertical-align: top;\n    }\n\n    .dataframe thead th {\n        text-align: right;\n    }\n</style>\n<table border=\"1\" class=\"dataframe\">\n  <thead>\n    <tr style=\"text-align: right;\">\n      <th></th>\n      <th>borrows_id</th>\n      <th>borrows_hash</th>\n      <th>borrows_logIndex</th>\n      <th>borrows_blockNumber</th>\n      <th>borrows_timestamp</th>\n      <th>borrows_account_id</th>\n      <th>borrows_account_positionCount</th>\n      <th>borrows_account_openPositionCount</th>\n      <th>borrows_account_closedPositionCount</th>\n      <th>borrows_account_depositCount</th>\n      <th>...</th>\n      <th>borrows_position_side</th>\n      <th>borrows_position_isCollateral</th>\n      <th>borrows_position_balance</th>\n      <th>borrows_position_depositCount</th>\n      <th>borrows_position_withdrawCount</th>\n      <th>borrows_position_borrowCount</th>\n      <th>borrows_position_repayCount</th>\n      <th>borrows_position_liquidationCount</th>\n      <th>event</th>\n      <th>dateTime</th>\n    </tr>\n  </thead>\n  <tbody>\n    <tr>\n      <th>0</th>\n      <td>borrow-0xa70b833620fa9e60985ec9d9aa6b9c6af9f5e...</td>\n      <td>0xa70b833620fa9e60985ec9d9aa6b9c6af9f5e2fb6ee6...</td>\n      <td>38</td>\n      <td>59495981</td>\n      <td>1675974783</td>\n      <td>0x15bae977db3b62ceb5a67921fae589fd80624e8d</td>\n      <td>3</td>\n      <td>2</td>\n      <td>1</td>\n      <td>4</td>\n      <td>...</td>\n      <td>BORROWER</td>\n      <td>NaN</td>\n      <td>550000374479268793127538</td>\n      <td>0</td>\n      <td>0</td>\n      <td>4</td>\n      <td>150</td>\n      <td>0</td>\n      <td>borrow</td>\n      <td>2023-02-09 20:33:03</td>\n    </tr>\n    <tr>\n      <th>1</th>\n      <td>borrow-0x5d3025a16815324cf1afca689903a14d2621c...</td>\n      <td>0x5d3025a16815324cf1afca689903a14d2621c19c9572...</td>\n      <td>37</td>\n      <td>59294798</td>\n      <td>1675915490</td>\n      <td>0x7723c45fb37092ee65202db7a2fe562c5fe0ab48</td>\n      <td>9</td>\n      <td>4</td>\n      <td>5</td>\n      <td>5</td>\n      <td>...</td>\n      <td>BORROWER</td>\n      <td>NaN</td>\n      <td>600000064003338503382</td>\n      <td>0</td>\n      <td>0</td>\n      <td>3</td>\n      <td>0</td>\n      <td>0</td>\n      <td>borrow</td>\n      <td>2023-02-09 04:04:50</td>\n    </tr>\n    <tr>\n      <th>2</th>\n      <td>borrow-0x9285593b5e82d62c3211c6ea2b1ae37878091...</td>\n      <td>0x9285593b5e82d62c3211c6ea2b1ae378780919897063...</td>\n      <td>4</td>\n      <td>59127942</td>\n      <td>1675866088</td>\n      <td>0x515755b2c5a209976cf0de869c30f45ac7495a60</td>\n      <td>6</td>\n      <td>0</td>\n      <td>6</td>\n      <td>12</td>\n      <td>...</td>\n      <td>BORROWER</td>\n      <td>NaN</td>\n      <td>0</td>\n      <td>0</td>\n      <td>0</td>\n      <td>1</td>\n      <td>1</td>\n      <td>0</td>\n      <td>borrow</td>\n      <td>2023-02-08 14:21:28</td>\n    </tr>\n    <tr>\n      <th>3</th>\n      <td>borrow-0x6150d3df67aa2f3cb0c5041d516a4e0f3cffc...</td>\n      <td>0x6150d3df67aa2f3cb0c5041d516a4e0f3cffccfe70d4...</td>\n      <td>36</td>\n      <td>58934904</td>\n      <td>1675812656</td>\n      <td>0x394b67c6bc05abb14c73a57706dcd5cb85231c4e</td>\n      <td>2</td>\n      <td>2</td>\n      <td>0</td>\n      <td>1</td>\n      <td>...</td>\n      <td>BORROWER</td>\n      <td>NaN</td>\n      <td>1669620110651309523172</td>\n      <td>0</td>\n      <td>0</td>\n      <td>3</td>\n      <td>1</td>\n      <td>0</td>\n      <td>borrow</td>\n      <td>2023-02-07 23:30:56</td>\n    </tr>\n    <tr>\n      <th>4</th>\n      <td>borrow-0x66b8e892882e3f5d0a6bd0aa81ba9d5cec32e...</td>\n      <td>0x66b8e892882e3f5d0a6bd0aa81ba9d5cec32ec4cd786...</td>\n      <td>26</td>\n      <td>58785787</td>\n      <td>1675771382</td>\n      <td>0xe2a4de267cdd4ff5ed9ba13552f5c624b12db9b2</td>\n      <td>20</td>\n      <td>6</td>\n      <td>14</td>\n      <td>65</td>\n      <td>...</td>\n      <td>BORROWER</td>\n      <td>NaN</td>\n      <td>78903329999999999121255</td>\n      <td>0</td>\n      <td>0</td>\n      <td>6</td>\n      <td>1</td>\n      <td>0</td>\n      <td>borrow</td>\n      <td>2023-02-07 12:03:02</td>\n    </tr>\n    <tr>\n      <th>...</th>\n      <td>...</td>\n      <td>...</td>\n      <td>...</td>\n      <td>...</td>\n      <td>...</td>\n      <td>...</td>\n      <td>...</td>\n      <td>...</td>\n      <td>...</td>\n      <td>...</td>\n      <td>...</td>\n      <td>...</td>\n      <td>...</td>\n      <td>...</td>\n      <td>...</td>\n      <td>...</td>\n      <td>...</td>\n      <td>...</td>\n      <td>...</td>\n      <td>...</td>\n      <td>...</td>\n    </tr>\n    <tr>\n      <th>95</th>\n      <td>borrow-0x39e62f0bf2b26fb415c18eed751f3c6148f27...</td>\n      <td>0x39e62f0bf2b26fb415c18eed751f3c6148f271f70ca5...</td>\n      <td>23</td>\n      <td>47668312</td>\n      <td>1671580995</td>\n      <td>0xe2a4de267cdd4ff5ed9ba13552f5c624b12db9b2</td>\n      <td>20</td>\n      <td>6</td>\n      <td>14</td>\n      <td>65</td>\n      <td>...</td>\n      <td>BORROWER</td>\n      <td>NaN</td>\n      <td>78903329999999999121255</td>\n      <td>0</td>\n      <td>0</td>\n      <td>6</td>\n      <td>1</td>\n      <td>0</td>\n      <td>borrow</td>\n      <td>2022-12-21 00:03:15</td>\n    </tr>\n    <tr>\n      <th>96</th>\n      <td>borrow-0x965180bee5e4d28e5299cc0c996778fa816f3...</td>\n      <td>0x965180bee5e4d28e5299cc0c996778fa816f3b9646ec...</td>\n      <td>34</td>\n      <td>47474556</td>\n      <td>1671516834</td>\n      <td>0x2682efcc31de7a06ed3bf8b0be156ff88e1663a1</td>\n      <td>7</td>\n      <td>2</td>\n      <td>5</td>\n      <td>5</td>\n      <td>...</td>\n      <td>BORROWER</td>\n      <td>NaN</td>\n      <td>105000101450474620590108</td>\n      <td>0</td>\n      <td>0</td>\n      <td>11</td>\n      <td>0</td>\n      <td>0</td>\n      <td>borrow</td>\n      <td>2022-12-20 06:13:54</td>\n    </tr>\n    <tr>\n      <th>97</th>\n      <td>borrow-0xcd8fdb79f9c0f0ebda33b2ceb25fbc541a246...</td>\n      <td>0xcd8fdb79f9c0f0ebda33b2ceb25fbc541a24624636e3...</td>\n      <td>34</td>\n      <td>47370369</td>\n      <td>1671471134</td>\n      <td>0x53430bde5e57ed878406a20ca101b0853f173acf</td>\n      <td>4</td>\n      <td>2</td>\n      <td>2</td>\n      <td>2</td>\n      <td>...</td>\n      <td>BORROWER</td>\n      <td>NaN</td>\n      <td>3614750313057953658431</td>\n      <td>0</td>\n      <td>0</td>\n      <td>4</td>\n      <td>2</td>\n      <td>0</td>\n      <td>borrow</td>\n      <td>2022-12-19 17:32:14</td>\n    </tr>\n    <tr>\n      <th>98</th>\n      <td>borrow-0xb99ce9341425e4d0c4b48669847eebbe6a4f1...</td>\n      <td>0xb99ce9341425e4d0c4b48669847eebbe6a4f1cbfad75...</td>\n      <td>34</td>\n      <td>47344538</td>\n      <td>1671462599</td>\n      <td>0xf352e5320291298be60d00a015b27d3960f879fa</td>\n      <td>5</td>\n      <td>1</td>\n      <td>4</td>\n      <td>4</td>\n      <td>...</td>\n      <td>BORROWER</td>\n      <td>NaN</td>\n      <td>0</td>\n      <td>0</td>\n      <td>0</td>\n      <td>1</td>\n      <td>1</td>\n      <td>0</td>\n      <td>borrow</td>\n      <td>2022-12-19 15:09:59</td>\n    </tr>\n    <tr>\n      <th>99</th>\n      <td>borrow-0x32458a655e073ed371247621bf9273c497aee...</td>\n      <td>0x32458a655e073ed371247621bf9273c497aeee146b3f...</td>\n      <td>42</td>\n      <td>47250455</td>\n      <td>1671430488</td>\n      <td>0xee95e4cf086fc80df7ae0f39dfc9ea53a3eaadcb</td>\n      <td>6</td>\n      <td>1</td>\n      <td>5</td>\n      <td>4</td>\n      <td>...</td>\n      <td>BORROWER</td>\n      <td>NaN</td>\n      <td>150000008681378740630472</td>\n      <td>0</td>\n      <td>0</td>\n      <td>2</td>\n      <td>0</td>\n      <td>0</td>\n      <td>borrow</td>\n      <td>2022-12-19 06:14:48</td>\n    </tr>\n  </tbody>\n</table>\n<p>100 rows × 80 columns</p>\n</div>"
     },
     "execution_count": 45,
     "metadata": {},
     "output_type": "execute_result"
    }
   ],
   "source": [
    "vestaBorrowsDbTimed = db.query(\"select \"\n",
    "               \"    * \"\n",
    "                    \" ,to_timestamp(borrows_timestamp::int) dateTime \"\n",
    "               \"From vestaBorrowsDb \"\n",
    "               #\"where lower(liquidityPools_name) like lower('%olympus%') \"\n",
    "                #    \"or lower(pairs_token1_symbol) like lower('%OHM%')  \"\n",
    "               #\" limit 100 \"\n",
    "               ).df()\n",
    "\n",
    "vestaBorrowsDbTimed.head(100)"
   ],
   "metadata": {
    "collapsed": false
   }
  },
  {
   "cell_type": "code",
   "execution_count": 46,
   "outputs": [
    {
     "name": "stdout",
     "output_type": "stream",
     "text": [
      "file saved\n"
     ]
    }
   ],
   "source": [
    "vestaBorrowsDbTimedLength = len(vestaBorrowsDbTimed)\n",
    "path =file+'/vesta_borrow_events_'+str(dt.datetime.today().strftime(\"%b-%d-%Y\"))+\"_\"+str(vestaBorrowsDbTimedLength)+'_records.csv'\n",
    "vestaBorrowsDbTimed.to_csv(path, index = False)\n",
    "\n",
    "path =file+'/vesta_borrow_events_'+str(dt.datetime.today().strftime(\"%b-%d-%Y\"))+\"_\"+str(vestaBorrowsDbTimedLength)+'_records_piped.csv'\n",
    "vestaBorrowsDbTimed.to_csv(path, index = False, sep='|')\n",
    "print('file saved')"
   ],
   "metadata": {
    "collapsed": false
   }
  },
  {
   "cell_type": "code",
   "execution_count": 47,
   "outputs": [
    {
     "name": "stdout",
     "output_type": "stream",
     "text": [
      "iterations:  0 Lines skipped:  0 records collected:  1000  - latest recordID:  0xa70b833620fa9e60985ec9d9aa6b9c6af9f5e2fb6ee6429aaa36ded8ce3ce15d   deposit-0xa70b833620fa9e60985ec9d9aa6b9c6af9f5e2fb6ee6429aaa36ded8ce3ce15d-38  - vestaDeposits DB length:  1000  - latest record from:  2023-02-09 12:33:03 1 days ago\n",
      "iterations:  1 Lines skipped:  1000 records collected:  333  - latest recordID:  0x5d3025a16815324cf1afca689903a14d2621c19c95729e618fa373df3b736eee   deposit-0x5d3025a16815324cf1afca689903a14d2621c19c95729e618fa373df3b736eee-37  - vestaDeposits DB length:  1333  - latest record from:  2023-02-08 20:04:50 1 days ago\n",
      "Done. Total Records collected:  1333\n"
     ]
    }
   ],
   "source": [
    "#this tracks the events for vestaDepositing gOHM for lending \n",
    "vestaDepositTicker = 0\n",
    "vestaDepositslist = pd.DataFrame()\n",
    "vestaDepositsDb = pd.DataFrame()\n",
    "vestaDepositListLength = 1000\n",
    "datediff = 0\n",
    "now=0\n",
    "daysAgo=0\n",
    "daysLimit = 45\n",
    "exit = False\n",
    "while exit==False:\n",
    "    skipValue = (vestaDepositTicker)*(1000)\n",
    "    vestaDeposits = vesta.Query.deposits(\n",
    "        orderBy='timestamp',\n",
    "        orderDirection='desc',\n",
    "        first=1000,\n",
    "        skip = skipValue,\n",
    "        where={ 'market': '0x8d9ba570d6cb60c7e3e0f31343efe75ab8e65fb1' } #gOHM market\n",
    "\n",
    "    )\n",
    "\n",
    "    vestaDepositslist = sg.query_df([\n",
    "        vestaDeposits.id\n",
    "        ,vestaDeposits.hash\n",
    "        ,vestaDeposits.logIndex\n",
    "        ,vestaDeposits.blockNumber\n",
    "        ,vestaDeposits.timestamp\n",
    "        ,vestaDeposits.account\n",
    "        ,vestaDeposits.market\n",
    "        ,vestaDeposits.market.rates\n",
    "        ,vestaDeposits.asset\n",
    "        ,vestaDeposits.amount\n",
    "        ,vestaDeposits.amountUSD\n",
    "        ,vestaDeposits.position\n",
    "    ])\n",
    "\n",
    "    #vestaDepositslist.sort_values(by=['vestaDeposits_timestamp'])\n",
    "\n",
    "    vestaDepositsDb=pd.concat([vestaDepositsDb, vestaDepositslist])\n",
    "    recordTimestamp1 = vestaDepositsDb.iat[vestaDepositTicker,4]\n",
    "    recordTimestamp = dt.datetime.fromtimestamp( recordTimestamp1 )\n",
    "    now = (int(dt.datetime.utcnow().timestamp()))\n",
    "    datediff=abs(int(now) - recordTimestamp1)\n",
    "    daysAgo = int(datediff/86400)\n",
    "    vestaDepositsDbLength = len(vestaDepositsDb)\n",
    "    vestaDepositListLength = len(vestaDepositslist)\n",
    "    recordID = vestaDepositsDb.iat[vestaDepositTicker,0]\n",
    "    vestaDeposit = vestaDepositsDb.iat[vestaDepositTicker,1]\n",
    "    print(\"iterations: \", vestaDepositTicker, \"Lines skipped: \",skipValue, \"records collected: \", vestaDepositListLength, \" - latest recordID: \",vestaDeposit, \" \", recordID , \" - vestaDeposits DB length: \", vestaDepositsDbLength, \" - latest record from: \", recordTimestamp, daysAgo,\"days ago\")\n",
    "    #print(\"iterations: \", vestaDepositTicker, \"records collected: \", vestaDepositListLength, \" - userdb length: \", vestaDepositsDbLength)\n",
    "    vestaDepositTicker = vestaDepositTicker+1\n",
    "    if daysAgo>daysLimit: exit =True\n",
    "    if vestaDepositListLength<1000: exit =True\n",
    "\n",
    "#vestaDepositsDb.sort_values(by=['vestaDeposits_timestamp'])\n",
    "\n",
    "vestaDepositsDb.columns = vestaDepositsDb.columns.str.replace(\"deposits\", \"transaction\")\n",
    "vestaDepositsDb['event']='deposit'\n",
    "print(\"Done. Total Records collected: \", vestaDepositsDbLength)\n",
    "\n",
    "\n"
   ],
   "metadata": {
    "collapsed": false
   }
  },
  {
   "cell_type": "code",
   "execution_count": 48,
   "outputs": [
    {
     "data": {
      "text/plain": "                                      transaction_id  \\\n0  deposit-0xa70b833620fa9e60985ec9d9aa6b9c6af9f5...   \n1  deposit-0x5d3025a16815324cf1afca689903a14d2621...   \n2  deposit-0xabfb1cba9108afe5c2dde3f21f5b4de92fae...   \n3  deposit-0xdb674a81e3a0fd547a3a2ace9befd38a3b86...   \n4  deposit-0xe1f1f1cfd372bbe64a06346c1dde1102e155...   \n5  deposit-0x81d0e5f18de8d3995c911b0b022d2b051866...   \n6  deposit-0x16bfcc7fe7939a6c9935e5062c8067a57acd...   \n7  deposit-0x61a65a717a84989f1315c17975c28846056a...   \n8  deposit-0xd076494b2508137add66e1bc117f7e6a2e7d...   \n9  deposit-0x553d1f6e555d93416a509488fd698a2651bb...   \n\n                                    transaction_hash  transaction_logIndex  \\\n0  0xa70b833620fa9e60985ec9d9aa6b9c6af9f5e2fb6ee6...                    38   \n1  0x5d3025a16815324cf1afca689903a14d2621c19c9572...                    37   \n2  0xabfb1cba9108afe5c2dde3f21f5b4de92fae79791af2...                     4   \n3  0xdb674a81e3a0fd547a3a2ace9befd38a3b867df74fc0...                    30   \n4  0xe1f1f1cfd372bbe64a06346c1dde1102e155be4ec282...                    34   \n5  0x81d0e5f18de8d3995c911b0b022d2b05186668fe6c0b...                    23   \n6  0x16bfcc7fe7939a6c9935e5062c8067a57acd4b32abb1...                    42   \n7  0x61a65a717a84989f1315c17975c28846056a95bb61c2...                    42   \n8  0xd076494b2508137add66e1bc117f7e6a2e7da260823b...                    34   \n9  0x553d1f6e555d93416a509488fd698a2651bb5c39caa9...                    42   \n\n   transaction_blockNumber  transaction_timestamp  \\\n0                 59495981             1675974783   \n1                 59294798             1675915490   \n2                 58531581             1675694548   \n3                 58285118             1675618839   \n4                 58200953             1675595730   \n5                 58147623             1675579717   \n6                 58118599             1675569579   \n7                 58014267             1675533398   \n8                 57572941             1675390845   \n9                 57537289             1675375788   \n\n                       transaction_account_id  \\\n0  0x15bae977db3b62ceb5a67921fae589fd80624e8d   \n1  0x7723c45fb37092ee65202db7a2fe562c5fe0ab48   \n2  0x1d883459bbc71042a9072f106427c4993de44794   \n3  0x0fd84d7cb911728737556684050782b298f70f0f   \n4  0x2682efcc31de7a06ed3bf8b0be156ff88e1663a1   \n5  0x53430bde5e57ed878406a20ca101b0853f173acf   \n6  0xc6f84e7142eeaf930c62584f45ba7106bc3e2d68   \n7  0xf5d0318692f822680b733955828a25507f031c95   \n8  0xa80191fca50be00f8952c69232c93d57eeacaf6f   \n9  0xfa4dfbe7b012b1d92fdd5544f30518bb58bd41ce   \n\n   transaction_account_positionCount  transaction_account_openPositionCount  \\\n0                                  3                                      2   \n1                                  9                                      4   \n2                                  2                                      2   \n3                                  7                                      2   \n4                                  7                                      2   \n5                                  4                                      2   \n6                                  2                                      2   \n7                                  2                                      0   \n8                                  4                                      2   \n9                                  2                                      0   \n\n   transaction_account_closedPositionCount  transaction_account_depositCount  \\\n0                                        1                                 4   \n1                                        5                                 5   \n2                                        0                                 2   \n3                                        5                                 5   \n4                                        5                                 5   \n5                                        2                                 2   \n6                                        0                                 1   \n7                                        2                                 1   \n8                                        2                                 9   \n9                                        2                                 1   \n\n   ...  transaction_position_timestampClosed  transaction_position_side  \\\n0  ...                                   NaN                     LENDER   \n1  ...                                   NaN                     LENDER   \n2  ...                                   NaN                     LENDER   \n3  ...                                   NaN                     LENDER   \n4  ...                                   NaN                     LENDER   \n5  ...                                   NaN                     LENDER   \n6  ...                                   NaN                     LENDER   \n7  ...                          1.675979e+09                     LENDER   \n8  ...                                   NaN                     LENDER   \n9  ...                          1.675723e+09                     LENDER   \n\n   transaction_position_isCollateral  transaction_position_balance  \\\n0                               True         419221347099961371843   \n1                               True            395431000000000000   \n2                               True          18790084000000000515   \n3                               True         139919099999999990809   \n4                               True          99538985999999994122   \n5                               True           2648200000000000000   \n6                               True            314789000000000000   \n7                              False                             0   \n8                               True         837236991407343407276   \n9                              False                             0   \n\n   transaction_position_depositCount transaction_position_withdrawCount  \\\n0                                  1                                  0   \n1                                  1                                  0   \n2                                  2                                  0   \n3                                  1                                  0   \n4                                  2                                  0   \n5                                  1                                  0   \n6                                  1                                  0   \n7                                  1                                  1   \n8                                  1                                  0   \n9                                  1                                  1   \n\n  transaction_position_borrowCount transaction_position_repayCount  \\\n0                                0                               0   \n1                                0                               0   \n2                                0                               0   \n3                                0                               0   \n4                                0                               0   \n5                                0                               0   \n6                                0                               0   \n7                                0                               0   \n8                                0                               0   \n9                                0                               0   \n\n   transaction_position_liquidationCount    event  \n0                                      0  deposit  \n1                                      0  deposit  \n2                                      0  deposit  \n3                                      0  deposit  \n4                                      0  deposit  \n5                                      0  deposit  \n6                                      0  deposit  \n7                                      0  deposit  \n8                                      0  deposit  \n9                                      0  deposit  \n\n[10 rows x 79 columns]",
      "text/html": "<div>\n<style scoped>\n    .dataframe tbody tr th:only-of-type {\n        vertical-align: middle;\n    }\n\n    .dataframe tbody tr th {\n        vertical-align: top;\n    }\n\n    .dataframe thead th {\n        text-align: right;\n    }\n</style>\n<table border=\"1\" class=\"dataframe\">\n  <thead>\n    <tr style=\"text-align: right;\">\n      <th></th>\n      <th>transaction_id</th>\n      <th>transaction_hash</th>\n      <th>transaction_logIndex</th>\n      <th>transaction_blockNumber</th>\n      <th>transaction_timestamp</th>\n      <th>transaction_account_id</th>\n      <th>transaction_account_positionCount</th>\n      <th>transaction_account_openPositionCount</th>\n      <th>transaction_account_closedPositionCount</th>\n      <th>transaction_account_depositCount</th>\n      <th>...</th>\n      <th>transaction_position_timestampClosed</th>\n      <th>transaction_position_side</th>\n      <th>transaction_position_isCollateral</th>\n      <th>transaction_position_balance</th>\n      <th>transaction_position_depositCount</th>\n      <th>transaction_position_withdrawCount</th>\n      <th>transaction_position_borrowCount</th>\n      <th>transaction_position_repayCount</th>\n      <th>transaction_position_liquidationCount</th>\n      <th>event</th>\n    </tr>\n  </thead>\n  <tbody>\n    <tr>\n      <th>0</th>\n      <td>deposit-0xa70b833620fa9e60985ec9d9aa6b9c6af9f5...</td>\n      <td>0xa70b833620fa9e60985ec9d9aa6b9c6af9f5e2fb6ee6...</td>\n      <td>38</td>\n      <td>59495981</td>\n      <td>1675974783</td>\n      <td>0x15bae977db3b62ceb5a67921fae589fd80624e8d</td>\n      <td>3</td>\n      <td>2</td>\n      <td>1</td>\n      <td>4</td>\n      <td>...</td>\n      <td>NaN</td>\n      <td>LENDER</td>\n      <td>True</td>\n      <td>419221347099961371843</td>\n      <td>1</td>\n      <td>0</td>\n      <td>0</td>\n      <td>0</td>\n      <td>0</td>\n      <td>deposit</td>\n    </tr>\n    <tr>\n      <th>1</th>\n      <td>deposit-0x5d3025a16815324cf1afca689903a14d2621...</td>\n      <td>0x5d3025a16815324cf1afca689903a14d2621c19c9572...</td>\n      <td>37</td>\n      <td>59294798</td>\n      <td>1675915490</td>\n      <td>0x7723c45fb37092ee65202db7a2fe562c5fe0ab48</td>\n      <td>9</td>\n      <td>4</td>\n      <td>5</td>\n      <td>5</td>\n      <td>...</td>\n      <td>NaN</td>\n      <td>LENDER</td>\n      <td>True</td>\n      <td>395431000000000000</td>\n      <td>1</td>\n      <td>0</td>\n      <td>0</td>\n      <td>0</td>\n      <td>0</td>\n      <td>deposit</td>\n    </tr>\n    <tr>\n      <th>2</th>\n      <td>deposit-0xabfb1cba9108afe5c2dde3f21f5b4de92fae...</td>\n      <td>0xabfb1cba9108afe5c2dde3f21f5b4de92fae79791af2...</td>\n      <td>4</td>\n      <td>58531581</td>\n      <td>1675694548</td>\n      <td>0x1d883459bbc71042a9072f106427c4993de44794</td>\n      <td>2</td>\n      <td>2</td>\n      <td>0</td>\n      <td>2</td>\n      <td>...</td>\n      <td>NaN</td>\n      <td>LENDER</td>\n      <td>True</td>\n      <td>18790084000000000515</td>\n      <td>2</td>\n      <td>0</td>\n      <td>0</td>\n      <td>0</td>\n      <td>0</td>\n      <td>deposit</td>\n    </tr>\n    <tr>\n      <th>3</th>\n      <td>deposit-0xdb674a81e3a0fd547a3a2ace9befd38a3b86...</td>\n      <td>0xdb674a81e3a0fd547a3a2ace9befd38a3b867df74fc0...</td>\n      <td>30</td>\n      <td>58285118</td>\n      <td>1675618839</td>\n      <td>0x0fd84d7cb911728737556684050782b298f70f0f</td>\n      <td>7</td>\n      <td>2</td>\n      <td>5</td>\n      <td>5</td>\n      <td>...</td>\n      <td>NaN</td>\n      <td>LENDER</td>\n      <td>True</td>\n      <td>139919099999999990809</td>\n      <td>1</td>\n      <td>0</td>\n      <td>0</td>\n      <td>0</td>\n      <td>0</td>\n      <td>deposit</td>\n    </tr>\n    <tr>\n      <th>4</th>\n      <td>deposit-0xe1f1f1cfd372bbe64a06346c1dde1102e155...</td>\n      <td>0xe1f1f1cfd372bbe64a06346c1dde1102e155be4ec282...</td>\n      <td>34</td>\n      <td>58200953</td>\n      <td>1675595730</td>\n      <td>0x2682efcc31de7a06ed3bf8b0be156ff88e1663a1</td>\n      <td>7</td>\n      <td>2</td>\n      <td>5</td>\n      <td>5</td>\n      <td>...</td>\n      <td>NaN</td>\n      <td>LENDER</td>\n      <td>True</td>\n      <td>99538985999999994122</td>\n      <td>2</td>\n      <td>0</td>\n      <td>0</td>\n      <td>0</td>\n      <td>0</td>\n      <td>deposit</td>\n    </tr>\n    <tr>\n      <th>5</th>\n      <td>deposit-0x81d0e5f18de8d3995c911b0b022d2b051866...</td>\n      <td>0x81d0e5f18de8d3995c911b0b022d2b05186668fe6c0b...</td>\n      <td>23</td>\n      <td>58147623</td>\n      <td>1675579717</td>\n      <td>0x53430bde5e57ed878406a20ca101b0853f173acf</td>\n      <td>4</td>\n      <td>2</td>\n      <td>2</td>\n      <td>2</td>\n      <td>...</td>\n      <td>NaN</td>\n      <td>LENDER</td>\n      <td>True</td>\n      <td>2648200000000000000</td>\n      <td>1</td>\n      <td>0</td>\n      <td>0</td>\n      <td>0</td>\n      <td>0</td>\n      <td>deposit</td>\n    </tr>\n    <tr>\n      <th>6</th>\n      <td>deposit-0x16bfcc7fe7939a6c9935e5062c8067a57acd...</td>\n      <td>0x16bfcc7fe7939a6c9935e5062c8067a57acd4b32abb1...</td>\n      <td>42</td>\n      <td>58118599</td>\n      <td>1675569579</td>\n      <td>0xc6f84e7142eeaf930c62584f45ba7106bc3e2d68</td>\n      <td>2</td>\n      <td>2</td>\n      <td>0</td>\n      <td>1</td>\n      <td>...</td>\n      <td>NaN</td>\n      <td>LENDER</td>\n      <td>True</td>\n      <td>314789000000000000</td>\n      <td>1</td>\n      <td>0</td>\n      <td>0</td>\n      <td>0</td>\n      <td>0</td>\n      <td>deposit</td>\n    </tr>\n    <tr>\n      <th>7</th>\n      <td>deposit-0x61a65a717a84989f1315c17975c28846056a...</td>\n      <td>0x61a65a717a84989f1315c17975c28846056a95bb61c2...</td>\n      <td>42</td>\n      <td>58014267</td>\n      <td>1675533398</td>\n      <td>0xf5d0318692f822680b733955828a25507f031c95</td>\n      <td>2</td>\n      <td>0</td>\n      <td>2</td>\n      <td>1</td>\n      <td>...</td>\n      <td>1.675979e+09</td>\n      <td>LENDER</td>\n      <td>False</td>\n      <td>0</td>\n      <td>1</td>\n      <td>1</td>\n      <td>0</td>\n      <td>0</td>\n      <td>0</td>\n      <td>deposit</td>\n    </tr>\n    <tr>\n      <th>8</th>\n      <td>deposit-0xd076494b2508137add66e1bc117f7e6a2e7d...</td>\n      <td>0xd076494b2508137add66e1bc117f7e6a2e7da260823b...</td>\n      <td>34</td>\n      <td>57572941</td>\n      <td>1675390845</td>\n      <td>0xa80191fca50be00f8952c69232c93d57eeacaf6f</td>\n      <td>4</td>\n      <td>2</td>\n      <td>2</td>\n      <td>9</td>\n      <td>...</td>\n      <td>NaN</td>\n      <td>LENDER</td>\n      <td>True</td>\n      <td>837236991407343407276</td>\n      <td>1</td>\n      <td>0</td>\n      <td>0</td>\n      <td>0</td>\n      <td>0</td>\n      <td>deposit</td>\n    </tr>\n    <tr>\n      <th>9</th>\n      <td>deposit-0x553d1f6e555d93416a509488fd698a2651bb...</td>\n      <td>0x553d1f6e555d93416a509488fd698a2651bb5c39caa9...</td>\n      <td>42</td>\n      <td>57537289</td>\n      <td>1675375788</td>\n      <td>0xfa4dfbe7b012b1d92fdd5544f30518bb58bd41ce</td>\n      <td>2</td>\n      <td>0</td>\n      <td>2</td>\n      <td>1</td>\n      <td>...</td>\n      <td>1.675723e+09</td>\n      <td>LENDER</td>\n      <td>False</td>\n      <td>0</td>\n      <td>1</td>\n      <td>1</td>\n      <td>0</td>\n      <td>0</td>\n      <td>0</td>\n      <td>deposit</td>\n    </tr>\n  </tbody>\n</table>\n<p>10 rows × 79 columns</p>\n</div>"
     },
     "execution_count": 48,
     "metadata": {},
     "output_type": "execute_result"
    }
   ],
   "source": [
    "vestaDepositsDb.head(10)"
   ],
   "metadata": {
    "collapsed": false
   }
  },
  {
   "cell_type": "code",
   "execution_count": 49,
   "outputs": [
    {
     "data": {
      "text/plain": "                                       transaction_id  \\\n0   deposit-0xa70b833620fa9e60985ec9d9aa6b9c6af9f5...   \n1   deposit-0x5d3025a16815324cf1afca689903a14d2621...   \n2   deposit-0xabfb1cba9108afe5c2dde3f21f5b4de92fae...   \n3   deposit-0xdb674a81e3a0fd547a3a2ace9befd38a3b86...   \n4   deposit-0xe1f1f1cfd372bbe64a06346c1dde1102e155...   \n..                                                ...   \n95  deposit-0x92fb45376ce2474a9812168f9be4d401a44c...   \n96  deposit-0xf4eb0268999a30bf9a33fc801dfbe2dc65c2...   \n97  deposit-0xd0d6884309c0aae435c50d7884795893b57e...   \n98  deposit-0x2fca7637117ca01aed11a872a21628aa6ab5...   \n99  deposit-0x498ce8ff915020159eef0a9becc8b9f2b577...   \n\n                                     transaction_hash  transaction_logIndex  \\\n0   0xa70b833620fa9e60985ec9d9aa6b9c6af9f5e2fb6ee6...                    38   \n1   0x5d3025a16815324cf1afca689903a14d2621c19c9572...                    37   \n2   0xabfb1cba9108afe5c2dde3f21f5b4de92fae79791af2...                     4   \n3   0xdb674a81e3a0fd547a3a2ace9befd38a3b867df74fc0...                    30   \n4   0xe1f1f1cfd372bbe64a06346c1dde1102e155be4ec282...                    34   \n..                                                ...                   ...   \n95  0x92fb45376ce2474a9812168f9be4d401a44cb0bd62d9...                    23   \n96  0xf4eb0268999a30bf9a33fc801dfbe2dc65c2e18ef07f...                     4   \n97  0xd0d6884309c0aae435c50d7884795893b57e45b10d49...                     4   \n98  0x2fca7637117ca01aed11a872a21628aa6ab5d13e327a...                     4   \n99  0x498ce8ff915020159eef0a9becc8b9f2b57711df58b0...                     4   \n\n    transaction_blockNumber  transaction_timestamp  \\\n0                  59495981             1675974783   \n1                  59294798             1675915490   \n2                  58531581             1675694548   \n3                  58285118             1675618839   \n4                  58200953             1675595730   \n..                      ...                    ...   \n95                 43909041             1670273939   \n96                 43845816             1670255076   \n97                 43810557             1670245899   \n98                 43667038             1670195903   \n99                 43660140             1670192451   \n\n                        transaction_account_id  \\\n0   0x15bae977db3b62ceb5a67921fae589fd80624e8d   \n1   0x7723c45fb37092ee65202db7a2fe562c5fe0ab48   \n2   0x1d883459bbc71042a9072f106427c4993de44794   \n3   0x0fd84d7cb911728737556684050782b298f70f0f   \n4   0x2682efcc31de7a06ed3bf8b0be156ff88e1663a1   \n..                                         ...   \n95  0x0561a78021d8966ddd20c28c6c4318d8675ee1f0   \n96  0x0561a78021d8966ddd20c28c6c4318d8675ee1f0   \n97  0x0561a78021d8966ddd20c28c6c4318d8675ee1f0   \n98  0x0561a78021d8966ddd20c28c6c4318d8675ee1f0   \n99  0x0561a78021d8966ddd20c28c6c4318d8675ee1f0   \n\n    transaction_account_positionCount  transaction_account_openPositionCount  \\\n0                                   3                                      2   \n1                                   9                                      4   \n2                                   2                                      2   \n3                                   7                                      2   \n4                                   7                                      2   \n..                                ...                                    ...   \n95                                152                                      0   \n96                                152                                      0   \n97                                152                                      0   \n98                                152                                      0   \n99                                152                                      0   \n\n    transaction_account_closedPositionCount  transaction_account_depositCount  \\\n0                                         1                                 4   \n1                                         5                                 5   \n2                                         0                                 2   \n3                                         5                                 5   \n4                                         5                                 5   \n..                                      ...                               ...   \n95                                      152                               132   \n96                                      152                               132   \n97                                      152                               132   \n98                                      152                               132   \n99                                      152                               132   \n\n    ...  transaction_position_side  transaction_position_isCollateral  \\\n0   ...                     LENDER                               True   \n1   ...                     LENDER                               True   \n2   ...                     LENDER                               True   \n3   ...                     LENDER                               True   \n4   ...                     LENDER                               True   \n..  ...                        ...                                ...   \n95  ...                     LENDER                              False   \n96  ...                     LENDER                              False   \n97  ...                     LENDER                              False   \n98  ...                     LENDER                              False   \n99  ...                     LENDER                              False   \n\n    transaction_position_balance  transaction_position_depositCount  \\\n0          419221347099961371843                                  1   \n1             395431000000000000                                  1   \n2           18790084000000000515                                  2   \n3          139919099999999990809                                  1   \n4           99538985999999994122                                  2   \n..                           ...                                ...   \n95                             0                                  2   \n96                             0                                  1   \n97                             0                                  1   \n98                             0                                  1   \n99                             0                                  1   \n\n    transaction_position_withdrawCount transaction_position_borrowCount  \\\n0                                    0                                0   \n1                                    0                                0   \n2                                    0                                0   \n3                                    0                                0   \n4                                    0                                0   \n..                                 ...                              ...   \n95                                   2                                0   \n96                                   1                                0   \n97                                   2                                0   \n98                                   1                                0   \n99                                   1                                0   \n\n   transaction_position_repayCount transaction_position_liquidationCount  \\\n0                                0                                     0   \n1                                0                                     0   \n2                                0                                     0   \n3                                0                                     0   \n4                                0                                     0   \n..                             ...                                   ...   \n95                               0                                     0   \n96                               0                                     0   \n97                               0                                     0   \n98                               0                                     0   \n99                               0                                     0   \n\n      event            dateTime  \n0   deposit 2023-02-09 20:33:03  \n1   deposit 2023-02-09 04:04:50  \n2   deposit 2023-02-06 14:42:28  \n3   deposit 2023-02-05 17:40:39  \n4   deposit 2023-02-05 11:15:30  \n..      ...                 ...  \n95  deposit 2022-12-05 20:58:59  \n96  deposit 2022-12-05 15:44:36  \n97  deposit 2022-12-05 13:11:39  \n98  deposit 2022-12-04 23:18:23  \n99  deposit 2022-12-04 22:20:51  \n\n[100 rows x 80 columns]",
      "text/html": "<div>\n<style scoped>\n    .dataframe tbody tr th:only-of-type {\n        vertical-align: middle;\n    }\n\n    .dataframe tbody tr th {\n        vertical-align: top;\n    }\n\n    .dataframe thead th {\n        text-align: right;\n    }\n</style>\n<table border=\"1\" class=\"dataframe\">\n  <thead>\n    <tr style=\"text-align: right;\">\n      <th></th>\n      <th>transaction_id</th>\n      <th>transaction_hash</th>\n      <th>transaction_logIndex</th>\n      <th>transaction_blockNumber</th>\n      <th>transaction_timestamp</th>\n      <th>transaction_account_id</th>\n      <th>transaction_account_positionCount</th>\n      <th>transaction_account_openPositionCount</th>\n      <th>transaction_account_closedPositionCount</th>\n      <th>transaction_account_depositCount</th>\n      <th>...</th>\n      <th>transaction_position_side</th>\n      <th>transaction_position_isCollateral</th>\n      <th>transaction_position_balance</th>\n      <th>transaction_position_depositCount</th>\n      <th>transaction_position_withdrawCount</th>\n      <th>transaction_position_borrowCount</th>\n      <th>transaction_position_repayCount</th>\n      <th>transaction_position_liquidationCount</th>\n      <th>event</th>\n      <th>dateTime</th>\n    </tr>\n  </thead>\n  <tbody>\n    <tr>\n      <th>0</th>\n      <td>deposit-0xa70b833620fa9e60985ec9d9aa6b9c6af9f5...</td>\n      <td>0xa70b833620fa9e60985ec9d9aa6b9c6af9f5e2fb6ee6...</td>\n      <td>38</td>\n      <td>59495981</td>\n      <td>1675974783</td>\n      <td>0x15bae977db3b62ceb5a67921fae589fd80624e8d</td>\n      <td>3</td>\n      <td>2</td>\n      <td>1</td>\n      <td>4</td>\n      <td>...</td>\n      <td>LENDER</td>\n      <td>True</td>\n      <td>419221347099961371843</td>\n      <td>1</td>\n      <td>0</td>\n      <td>0</td>\n      <td>0</td>\n      <td>0</td>\n      <td>deposit</td>\n      <td>2023-02-09 20:33:03</td>\n    </tr>\n    <tr>\n      <th>1</th>\n      <td>deposit-0x5d3025a16815324cf1afca689903a14d2621...</td>\n      <td>0x5d3025a16815324cf1afca689903a14d2621c19c9572...</td>\n      <td>37</td>\n      <td>59294798</td>\n      <td>1675915490</td>\n      <td>0x7723c45fb37092ee65202db7a2fe562c5fe0ab48</td>\n      <td>9</td>\n      <td>4</td>\n      <td>5</td>\n      <td>5</td>\n      <td>...</td>\n      <td>LENDER</td>\n      <td>True</td>\n      <td>395431000000000000</td>\n      <td>1</td>\n      <td>0</td>\n      <td>0</td>\n      <td>0</td>\n      <td>0</td>\n      <td>deposit</td>\n      <td>2023-02-09 04:04:50</td>\n    </tr>\n    <tr>\n      <th>2</th>\n      <td>deposit-0xabfb1cba9108afe5c2dde3f21f5b4de92fae...</td>\n      <td>0xabfb1cba9108afe5c2dde3f21f5b4de92fae79791af2...</td>\n      <td>4</td>\n      <td>58531581</td>\n      <td>1675694548</td>\n      <td>0x1d883459bbc71042a9072f106427c4993de44794</td>\n      <td>2</td>\n      <td>2</td>\n      <td>0</td>\n      <td>2</td>\n      <td>...</td>\n      <td>LENDER</td>\n      <td>True</td>\n      <td>18790084000000000515</td>\n      <td>2</td>\n      <td>0</td>\n      <td>0</td>\n      <td>0</td>\n      <td>0</td>\n      <td>deposit</td>\n      <td>2023-02-06 14:42:28</td>\n    </tr>\n    <tr>\n      <th>3</th>\n      <td>deposit-0xdb674a81e3a0fd547a3a2ace9befd38a3b86...</td>\n      <td>0xdb674a81e3a0fd547a3a2ace9befd38a3b867df74fc0...</td>\n      <td>30</td>\n      <td>58285118</td>\n      <td>1675618839</td>\n      <td>0x0fd84d7cb911728737556684050782b298f70f0f</td>\n      <td>7</td>\n      <td>2</td>\n      <td>5</td>\n      <td>5</td>\n      <td>...</td>\n      <td>LENDER</td>\n      <td>True</td>\n      <td>139919099999999990809</td>\n      <td>1</td>\n      <td>0</td>\n      <td>0</td>\n      <td>0</td>\n      <td>0</td>\n      <td>deposit</td>\n      <td>2023-02-05 17:40:39</td>\n    </tr>\n    <tr>\n      <th>4</th>\n      <td>deposit-0xe1f1f1cfd372bbe64a06346c1dde1102e155...</td>\n      <td>0xe1f1f1cfd372bbe64a06346c1dde1102e155be4ec282...</td>\n      <td>34</td>\n      <td>58200953</td>\n      <td>1675595730</td>\n      <td>0x2682efcc31de7a06ed3bf8b0be156ff88e1663a1</td>\n      <td>7</td>\n      <td>2</td>\n      <td>5</td>\n      <td>5</td>\n      <td>...</td>\n      <td>LENDER</td>\n      <td>True</td>\n      <td>99538985999999994122</td>\n      <td>2</td>\n      <td>0</td>\n      <td>0</td>\n      <td>0</td>\n      <td>0</td>\n      <td>deposit</td>\n      <td>2023-02-05 11:15:30</td>\n    </tr>\n    <tr>\n      <th>...</th>\n      <td>...</td>\n      <td>...</td>\n      <td>...</td>\n      <td>...</td>\n      <td>...</td>\n      <td>...</td>\n      <td>...</td>\n      <td>...</td>\n      <td>...</td>\n      <td>...</td>\n      <td>...</td>\n      <td>...</td>\n      <td>...</td>\n      <td>...</td>\n      <td>...</td>\n      <td>...</td>\n      <td>...</td>\n      <td>...</td>\n      <td>...</td>\n      <td>...</td>\n      <td>...</td>\n    </tr>\n    <tr>\n      <th>95</th>\n      <td>deposit-0x92fb45376ce2474a9812168f9be4d401a44c...</td>\n      <td>0x92fb45376ce2474a9812168f9be4d401a44cb0bd62d9...</td>\n      <td>23</td>\n      <td>43909041</td>\n      <td>1670273939</td>\n      <td>0x0561a78021d8966ddd20c28c6c4318d8675ee1f0</td>\n      <td>152</td>\n      <td>0</td>\n      <td>152</td>\n      <td>132</td>\n      <td>...</td>\n      <td>LENDER</td>\n      <td>False</td>\n      <td>0</td>\n      <td>2</td>\n      <td>2</td>\n      <td>0</td>\n      <td>0</td>\n      <td>0</td>\n      <td>deposit</td>\n      <td>2022-12-05 20:58:59</td>\n    </tr>\n    <tr>\n      <th>96</th>\n      <td>deposit-0xf4eb0268999a30bf9a33fc801dfbe2dc65c2...</td>\n      <td>0xf4eb0268999a30bf9a33fc801dfbe2dc65c2e18ef07f...</td>\n      <td>4</td>\n      <td>43845816</td>\n      <td>1670255076</td>\n      <td>0x0561a78021d8966ddd20c28c6c4318d8675ee1f0</td>\n      <td>152</td>\n      <td>0</td>\n      <td>152</td>\n      <td>132</td>\n      <td>...</td>\n      <td>LENDER</td>\n      <td>False</td>\n      <td>0</td>\n      <td>1</td>\n      <td>1</td>\n      <td>0</td>\n      <td>0</td>\n      <td>0</td>\n      <td>deposit</td>\n      <td>2022-12-05 15:44:36</td>\n    </tr>\n    <tr>\n      <th>97</th>\n      <td>deposit-0xd0d6884309c0aae435c50d7884795893b57e...</td>\n      <td>0xd0d6884309c0aae435c50d7884795893b57e45b10d49...</td>\n      <td>4</td>\n      <td>43810557</td>\n      <td>1670245899</td>\n      <td>0x0561a78021d8966ddd20c28c6c4318d8675ee1f0</td>\n      <td>152</td>\n      <td>0</td>\n      <td>152</td>\n      <td>132</td>\n      <td>...</td>\n      <td>LENDER</td>\n      <td>False</td>\n      <td>0</td>\n      <td>1</td>\n      <td>2</td>\n      <td>0</td>\n      <td>0</td>\n      <td>0</td>\n      <td>deposit</td>\n      <td>2022-12-05 13:11:39</td>\n    </tr>\n    <tr>\n      <th>98</th>\n      <td>deposit-0x2fca7637117ca01aed11a872a21628aa6ab5...</td>\n      <td>0x2fca7637117ca01aed11a872a21628aa6ab5d13e327a...</td>\n      <td>4</td>\n      <td>43667038</td>\n      <td>1670195903</td>\n      <td>0x0561a78021d8966ddd20c28c6c4318d8675ee1f0</td>\n      <td>152</td>\n      <td>0</td>\n      <td>152</td>\n      <td>132</td>\n      <td>...</td>\n      <td>LENDER</td>\n      <td>False</td>\n      <td>0</td>\n      <td>1</td>\n      <td>1</td>\n      <td>0</td>\n      <td>0</td>\n      <td>0</td>\n      <td>deposit</td>\n      <td>2022-12-04 23:18:23</td>\n    </tr>\n    <tr>\n      <th>99</th>\n      <td>deposit-0x498ce8ff915020159eef0a9becc8b9f2b577...</td>\n      <td>0x498ce8ff915020159eef0a9becc8b9f2b57711df58b0...</td>\n      <td>4</td>\n      <td>43660140</td>\n      <td>1670192451</td>\n      <td>0x0561a78021d8966ddd20c28c6c4318d8675ee1f0</td>\n      <td>152</td>\n      <td>0</td>\n      <td>152</td>\n      <td>132</td>\n      <td>...</td>\n      <td>LENDER</td>\n      <td>False</td>\n      <td>0</td>\n      <td>1</td>\n      <td>1</td>\n      <td>0</td>\n      <td>0</td>\n      <td>0</td>\n      <td>deposit</td>\n      <td>2022-12-04 22:20:51</td>\n    </tr>\n  </tbody>\n</table>\n<p>100 rows × 80 columns</p>\n</div>"
     },
     "execution_count": 49,
     "metadata": {},
     "output_type": "execute_result"
    }
   ],
   "source": [
    "vestaDepositsDbTimed = db.query(\"select \"\n",
    "               \"    * \"\n",
    "                    \" ,to_timestamp(transaction_timestamp::int) dateTime \"\n",
    "               \"From vestaDepositsDb \"\n",
    "               #\"where lower(liquidityPools_name) like lower('%olympus%') \"\n",
    "                #    \"or lower(pairs_token1_symbol) like lower('%OHM%')  \"\n",
    "               #\" limit 100 \"\n",
    "               ).df()\n",
    "\n",
    "vestaDepositsDbTimed.head(100)"
   ],
   "metadata": {
    "collapsed": false
   }
  },
  {
   "cell_type": "code",
   "execution_count": 51,
   "outputs": [
    {
     "name": "stdout",
     "output_type": "stream",
     "text": [
      "file saved\n"
     ]
    }
   ],
   "source": [
    "vestaDepositsDbTimedLength = len(vestaDepositsDbTimed)\n",
    "path =file+'/vesta_deposit_events_'+str(dt.datetime.today().strftime(\"%b-%d-%Y\"))+\"_\"+str(vestaDepositsDbTimedLength)+'_records.csv'\n",
    "vestaDepositsDbTimed.to_csv(path, index = False)\n",
    "\n",
    "path =file+'/vesta_deposit_events_'+str(dt.datetime.today().strftime(\"%b-%d-%Y\"))+\"_\"+str(vestaDepositsDbTimedLength)+'_records_piped.csv'\n",
    "vestaDepositsDbTimed.to_csv(path, index = False, sep='|')\n",
    "print('file saved')"
   ],
   "metadata": {
    "collapsed": false
   }
  },
  {
   "cell_type": "code",
   "execution_count": 52,
   "outputs": [
    {
     "name": "stdout",
     "output_type": "stream",
     "text": [
      "iterations:  0 Lines skipped:  0 records collected:  12  - latest recordID:  0x0c0283dc0e75f17b5e9eb79b05bea3cae12d32204aad01a68715d0385e8b26cd   0x0c0283dc0e75f17b5e9eb79b05bea3cae12d32204aad01a68715d0385e8b26cd-242  - vestaRepays DB length:  12  - latest record from:  2022-11-25 13:03:47 77 days ago\n",
      "Done. Total Records collected:  12\n"
     ]
    }
   ],
   "source": [
    "##this tracks the ENTIRE list of events for vestaRepaying the VST vestaRepayed against gOHM\n",
    "vestaRepayTicker = 0\n",
    "vestaRepayslist = pd.DataFrame()\n",
    "vestaRepaysDb = pd.DataFrame()\n",
    "vestaRepayListLength = 1000\n",
    "datediff = 0\n",
    "now=0\n",
    "daysAgo=0\n",
    "daysLimit = 45\n",
    "exit = False\n",
    "while exit==False:\n",
    "    skipValue = (vestaRepayTicker)*(1000)\n",
    "    vestaRepays = silo.Query.repays(\n",
    "        orderBy='timestamp',\n",
    "        orderDirection='desc',\n",
    "        first=1000,\n",
    "        skip = skipValue,\n",
    "        where={ 'market': '0xc413dd03555f3eb29d834b482d386b2999dc2eb0' } #gOHM market\n",
    "\n",
    "    )\n",
    "\n",
    "    vestaRepayslist = sg.query_df([\n",
    "        vestaRepays.id\n",
    "        ,vestaRepays.hash\n",
    "        ,vestaRepays.logIndex\n",
    "        ,vestaRepays.blockNumber\n",
    "        ,vestaRepays.timestamp\n",
    "        ,vestaRepays.account\n",
    "        ,vestaRepays.market\n",
    "        ,vestaRepays.market.rates\n",
    "        ,vestaRepays.asset\n",
    "        ,vestaRepays.amount\n",
    "        ,vestaRepays.amountUSD\n",
    "        ,vestaRepays.position\n",
    "    ])\n",
    "\n",
    "    #vestaRepayslist.sort_values(by=['vestaRepays_timestamp'])\n",
    "\n",
    "    vestaRepaysDb=pd.concat([vestaRepaysDb, vestaRepayslist])\n",
    "    recordTimestamp1 = vestaRepaysDb.iat[vestaRepayTicker,4]\n",
    "    recordTimestamp = dt.datetime.fromtimestamp( recordTimestamp1 )\n",
    "    now = (int(dt.datetime.utcnow().timestamp()))\n",
    "    datediff=abs(int(now) - recordTimestamp1)\n",
    "    daysAgo = int(datediff/86400)\n",
    "    vestaRepaysDbLength = len(vestaRepaysDb)\n",
    "    vestaRepayListLength = len(vestaRepayslist)\n",
    "    recordID = vestaRepaysDb.iat[vestaRepayTicker,0]\n",
    "    vestaRepay = vestaRepaysDb.iat[vestaRepayTicker,1]\n",
    "    print(\"iterations: \", vestaRepayTicker, \"Lines skipped: \",skipValue, \"records collected: \", vestaRepayListLength, \" - latest recordID: \",vestaRepay, \" \", recordID , \" - vestaRepays DB length: \", vestaRepaysDbLength, \" - latest record from: \", recordTimestamp, daysAgo,\"days ago\")\n",
    "    #print(\"iterations: \", vestaRepayTicker, \"records collected: \", vestaRepayListLength, \" - userdb length: \", vestaRepaysDbLength)\n",
    "    vestaRepayTicker = vestaRepayTicker+1\n",
    "\n",
    "    if daysAgo>daysLimit: exit =True\n",
    "    if vestaRepayListLength<1000: exit =True\n",
    "\n",
    "vestaRepaysDb.columns = vestaRepaysDb.columns.str.replace(\"repays\", \"transaction\")\n",
    "vestaRepaysDb['event']='Repay'\n",
    "print(\"Done. Total Records collected: \", vestaRepaysDbLength)"
   ],
   "metadata": {
    "collapsed": false
   }
  },
  {
   "cell_type": "code",
   "execution_count": 53,
   "outputs": [
    {
     "data": {
      "text/plain": "                                      transaction_id  \\\n0  0x0c0283dc0e75f17b5e9eb79b05bea3cae12d32204aad...   \n1  0x0c0283dc0e75f17b5e9eb79b05bea3cae12d32204aad...   \n2  0x0c0283dc0e75f17b5e9eb79b05bea3cae12d32204aad...   \n3  0x0c0283dc0e75f17b5e9eb79b05bea3cae12d32204aad...   \n4  0x0c0283dc0e75f17b5e9eb79b05bea3cae12d32204aad...   \n5  0x0c0283dc0e75f17b5e9eb79b05bea3cae12d32204aad...   \n6  0x748852c58dd4b57d3f6ed80bc81f74b439efcb94968b...   \n7  0x748852c58dd4b57d3f6ed80bc81f74b439efcb94968b...   \n8  0x748852c58dd4b57d3f6ed80bc81f74b439efcb94968b...   \n9  0x748852c58dd4b57d3f6ed80bc81f74b439efcb94968b...   \n\n                                    transaction_hash  transaction_logIndex  \\\n0  0x0c0283dc0e75f17b5e9eb79b05bea3cae12d32204aad...                   242   \n1  0x0c0283dc0e75f17b5e9eb79b05bea3cae12d32204aad...                   242   \n2  0x0c0283dc0e75f17b5e9eb79b05bea3cae12d32204aad...                   242   \n3  0x0c0283dc0e75f17b5e9eb79b05bea3cae12d32204aad...                   242   \n4  0x0c0283dc0e75f17b5e9eb79b05bea3cae12d32204aad...                   242   \n5  0x0c0283dc0e75f17b5e9eb79b05bea3cae12d32204aad...                   242   \n6  0x748852c58dd4b57d3f6ed80bc81f74b439efcb94968b...                   200   \n7  0x748852c58dd4b57d3f6ed80bc81f74b439efcb94968b...                   200   \n8  0x748852c58dd4b57d3f6ed80bc81f74b439efcb94968b...                   200   \n9  0x748852c58dd4b57d3f6ed80bc81f74b439efcb94968b...                   200   \n\n   transaction_blockNumber  transaction_timestamp  \\\n0                 16049560             1669410227   \n1                 16049560             1669410227   \n2                 16049560             1669410227   \n3                 16049560             1669410227   \n4                 16049560             1669410227   \n5                 16049560             1669410227   \n6                 16036129             1669248167   \n7                 16036129             1669248167   \n8                 16036129             1669248167   \n9                 16036129             1669248167   \n\n                       transaction_account_id  \\\n0  0x7776421dd146dfd6ea947cbf29b69c519807d259   \n1  0x7776421dd146dfd6ea947cbf29b69c519807d259   \n2  0x7776421dd146dfd6ea947cbf29b69c519807d259   \n3  0x7776421dd146dfd6ea947cbf29b69c519807d259   \n4  0x7776421dd146dfd6ea947cbf29b69c519807d259   \n5  0x7776421dd146dfd6ea947cbf29b69c519807d259   \n6  0xd3064611b24eba7a6dbcbc26c1b35dfee1170880   \n7  0xd3064611b24eba7a6dbcbc26c1b35dfee1170880   \n8  0xd3064611b24eba7a6dbcbc26c1b35dfee1170880   \n9  0xd3064611b24eba7a6dbcbc26c1b35dfee1170880   \n\n   transaction_account_positionCount  transaction_account_openPositionCount  \\\n0                                 26                                      2   \n1                                 26                                      2   \n2                                 26                                      2   \n3                                 26                                      2   \n4                                 26                                      2   \n5                                 26                                      2   \n6                                  2                                      0   \n7                                  2                                      0   \n8                                  2                                      0   \n9                                  2                                      0   \n\n   transaction_account_closedPositionCount  transaction_account_depositCount  \\\n0                                       24                                18   \n1                                       24                                18   \n2                                       24                                18   \n3                                       24                                18   \n4                                       24                                18   \n5                                       24                                18   \n6                                        2                                 2   \n7                                        2                                 2   \n8                                        2                                 2   \n9                                        2                                 2   \n\n   ...  transaction_position_timestampClosed  transaction_position_side  \\\n0  ...                            1669410227                   BORROWER   \n1  ...                            1669410227                   BORROWER   \n2  ...                            1669410227                   BORROWER   \n3  ...                            1669410227                   BORROWER   \n4  ...                            1669410227                   BORROWER   \n5  ...                            1669410227                   BORROWER   \n6  ...                            1669248167                   BORROWER   \n7  ...                            1669248167                   BORROWER   \n8  ...                            1669248167                   BORROWER   \n9  ...                            1669248167                   BORROWER   \n\n   transaction_position_isCollateral  transaction_position_balance  \\\n0                               True                             0   \n1                               True                             0   \n2                               True                             0   \n3                               True                             0   \n4                               True                             0   \n5                               True                             0   \n6                               True                             0   \n7                               True                             0   \n8                               True                             0   \n9                               True                             0   \n\n   transaction_position_depositCount transaction_position_withdrawCount  \\\n0                                  0                                  0   \n1                                  0                                  0   \n2                                  0                                  0   \n3                                  0                                  0   \n4                                  0                                  0   \n5                                  0                                  0   \n6                                  0                                  0   \n7                                  0                                  0   \n8                                  0                                  0   \n9                                  0                                  0   \n\n  transaction_position_borrowCount transaction_position_repayCount  \\\n0                                1                               1   \n1                                1                               1   \n2                                1                               1   \n3                                1                               1   \n4                                1                               1   \n5                                1                               1   \n6                                1                               1   \n7                                1                               1   \n8                                1                               1   \n9                                1                               1   \n\n   transaction_position_liquidationCount  event  \n0                                      0  Repay  \n1                                      0  Repay  \n2                                      0  Repay  \n3                                      0  Repay  \n4                                      0  Repay  \n5                                      0  Repay  \n6                                      0  Repay  \n7                                      0  Repay  \n8                                      0  Repay  \n9                                      0  Repay  \n\n[10 rows x 95 columns]",
      "text/html": "<div>\n<style scoped>\n    .dataframe tbody tr th:only-of-type {\n        vertical-align: middle;\n    }\n\n    .dataframe tbody tr th {\n        vertical-align: top;\n    }\n\n    .dataframe thead th {\n        text-align: right;\n    }\n</style>\n<table border=\"1\" class=\"dataframe\">\n  <thead>\n    <tr style=\"text-align: right;\">\n      <th></th>\n      <th>transaction_id</th>\n      <th>transaction_hash</th>\n      <th>transaction_logIndex</th>\n      <th>transaction_blockNumber</th>\n      <th>transaction_timestamp</th>\n      <th>transaction_account_id</th>\n      <th>transaction_account_positionCount</th>\n      <th>transaction_account_openPositionCount</th>\n      <th>transaction_account_closedPositionCount</th>\n      <th>transaction_account_depositCount</th>\n      <th>...</th>\n      <th>transaction_position_timestampClosed</th>\n      <th>transaction_position_side</th>\n      <th>transaction_position_isCollateral</th>\n      <th>transaction_position_balance</th>\n      <th>transaction_position_depositCount</th>\n      <th>transaction_position_withdrawCount</th>\n      <th>transaction_position_borrowCount</th>\n      <th>transaction_position_repayCount</th>\n      <th>transaction_position_liquidationCount</th>\n      <th>event</th>\n    </tr>\n  </thead>\n  <tbody>\n    <tr>\n      <th>0</th>\n      <td>0x0c0283dc0e75f17b5e9eb79b05bea3cae12d32204aad...</td>\n      <td>0x0c0283dc0e75f17b5e9eb79b05bea3cae12d32204aad...</td>\n      <td>242</td>\n      <td>16049560</td>\n      <td>1669410227</td>\n      <td>0x7776421dd146dfd6ea947cbf29b69c519807d259</td>\n      <td>26</td>\n      <td>2</td>\n      <td>24</td>\n      <td>18</td>\n      <td>...</td>\n      <td>1669410227</td>\n      <td>BORROWER</td>\n      <td>True</td>\n      <td>0</td>\n      <td>0</td>\n      <td>0</td>\n      <td>1</td>\n      <td>1</td>\n      <td>0</td>\n      <td>Repay</td>\n    </tr>\n    <tr>\n      <th>1</th>\n      <td>0x0c0283dc0e75f17b5e9eb79b05bea3cae12d32204aad...</td>\n      <td>0x0c0283dc0e75f17b5e9eb79b05bea3cae12d32204aad...</td>\n      <td>242</td>\n      <td>16049560</td>\n      <td>1669410227</td>\n      <td>0x7776421dd146dfd6ea947cbf29b69c519807d259</td>\n      <td>26</td>\n      <td>2</td>\n      <td>24</td>\n      <td>18</td>\n      <td>...</td>\n      <td>1669410227</td>\n      <td>BORROWER</td>\n      <td>True</td>\n      <td>0</td>\n      <td>0</td>\n      <td>0</td>\n      <td>1</td>\n      <td>1</td>\n      <td>0</td>\n      <td>Repay</td>\n    </tr>\n    <tr>\n      <th>2</th>\n      <td>0x0c0283dc0e75f17b5e9eb79b05bea3cae12d32204aad...</td>\n      <td>0x0c0283dc0e75f17b5e9eb79b05bea3cae12d32204aad...</td>\n      <td>242</td>\n      <td>16049560</td>\n      <td>1669410227</td>\n      <td>0x7776421dd146dfd6ea947cbf29b69c519807d259</td>\n      <td>26</td>\n      <td>2</td>\n      <td>24</td>\n      <td>18</td>\n      <td>...</td>\n      <td>1669410227</td>\n      <td>BORROWER</td>\n      <td>True</td>\n      <td>0</td>\n      <td>0</td>\n      <td>0</td>\n      <td>1</td>\n      <td>1</td>\n      <td>0</td>\n      <td>Repay</td>\n    </tr>\n    <tr>\n      <th>3</th>\n      <td>0x0c0283dc0e75f17b5e9eb79b05bea3cae12d32204aad...</td>\n      <td>0x0c0283dc0e75f17b5e9eb79b05bea3cae12d32204aad...</td>\n      <td>242</td>\n      <td>16049560</td>\n      <td>1669410227</td>\n      <td>0x7776421dd146dfd6ea947cbf29b69c519807d259</td>\n      <td>26</td>\n      <td>2</td>\n      <td>24</td>\n      <td>18</td>\n      <td>...</td>\n      <td>1669410227</td>\n      <td>BORROWER</td>\n      <td>True</td>\n      <td>0</td>\n      <td>0</td>\n      <td>0</td>\n      <td>1</td>\n      <td>1</td>\n      <td>0</td>\n      <td>Repay</td>\n    </tr>\n    <tr>\n      <th>4</th>\n      <td>0x0c0283dc0e75f17b5e9eb79b05bea3cae12d32204aad...</td>\n      <td>0x0c0283dc0e75f17b5e9eb79b05bea3cae12d32204aad...</td>\n      <td>242</td>\n      <td>16049560</td>\n      <td>1669410227</td>\n      <td>0x7776421dd146dfd6ea947cbf29b69c519807d259</td>\n      <td>26</td>\n      <td>2</td>\n      <td>24</td>\n      <td>18</td>\n      <td>...</td>\n      <td>1669410227</td>\n      <td>BORROWER</td>\n      <td>True</td>\n      <td>0</td>\n      <td>0</td>\n      <td>0</td>\n      <td>1</td>\n      <td>1</td>\n      <td>0</td>\n      <td>Repay</td>\n    </tr>\n    <tr>\n      <th>5</th>\n      <td>0x0c0283dc0e75f17b5e9eb79b05bea3cae12d32204aad...</td>\n      <td>0x0c0283dc0e75f17b5e9eb79b05bea3cae12d32204aad...</td>\n      <td>242</td>\n      <td>16049560</td>\n      <td>1669410227</td>\n      <td>0x7776421dd146dfd6ea947cbf29b69c519807d259</td>\n      <td>26</td>\n      <td>2</td>\n      <td>24</td>\n      <td>18</td>\n      <td>...</td>\n      <td>1669410227</td>\n      <td>BORROWER</td>\n      <td>True</td>\n      <td>0</td>\n      <td>0</td>\n      <td>0</td>\n      <td>1</td>\n      <td>1</td>\n      <td>0</td>\n      <td>Repay</td>\n    </tr>\n    <tr>\n      <th>6</th>\n      <td>0x748852c58dd4b57d3f6ed80bc81f74b439efcb94968b...</td>\n      <td>0x748852c58dd4b57d3f6ed80bc81f74b439efcb94968b...</td>\n      <td>200</td>\n      <td>16036129</td>\n      <td>1669248167</td>\n      <td>0xd3064611b24eba7a6dbcbc26c1b35dfee1170880</td>\n      <td>2</td>\n      <td>0</td>\n      <td>2</td>\n      <td>2</td>\n      <td>...</td>\n      <td>1669248167</td>\n      <td>BORROWER</td>\n      <td>True</td>\n      <td>0</td>\n      <td>0</td>\n      <td>0</td>\n      <td>1</td>\n      <td>1</td>\n      <td>0</td>\n      <td>Repay</td>\n    </tr>\n    <tr>\n      <th>7</th>\n      <td>0x748852c58dd4b57d3f6ed80bc81f74b439efcb94968b...</td>\n      <td>0x748852c58dd4b57d3f6ed80bc81f74b439efcb94968b...</td>\n      <td>200</td>\n      <td>16036129</td>\n      <td>1669248167</td>\n      <td>0xd3064611b24eba7a6dbcbc26c1b35dfee1170880</td>\n      <td>2</td>\n      <td>0</td>\n      <td>2</td>\n      <td>2</td>\n      <td>...</td>\n      <td>1669248167</td>\n      <td>BORROWER</td>\n      <td>True</td>\n      <td>0</td>\n      <td>0</td>\n      <td>0</td>\n      <td>1</td>\n      <td>1</td>\n      <td>0</td>\n      <td>Repay</td>\n    </tr>\n    <tr>\n      <th>8</th>\n      <td>0x748852c58dd4b57d3f6ed80bc81f74b439efcb94968b...</td>\n      <td>0x748852c58dd4b57d3f6ed80bc81f74b439efcb94968b...</td>\n      <td>200</td>\n      <td>16036129</td>\n      <td>1669248167</td>\n      <td>0xd3064611b24eba7a6dbcbc26c1b35dfee1170880</td>\n      <td>2</td>\n      <td>0</td>\n      <td>2</td>\n      <td>2</td>\n      <td>...</td>\n      <td>1669248167</td>\n      <td>BORROWER</td>\n      <td>True</td>\n      <td>0</td>\n      <td>0</td>\n      <td>0</td>\n      <td>1</td>\n      <td>1</td>\n      <td>0</td>\n      <td>Repay</td>\n    </tr>\n    <tr>\n      <th>9</th>\n      <td>0x748852c58dd4b57d3f6ed80bc81f74b439efcb94968b...</td>\n      <td>0x748852c58dd4b57d3f6ed80bc81f74b439efcb94968b...</td>\n      <td>200</td>\n      <td>16036129</td>\n      <td>1669248167</td>\n      <td>0xd3064611b24eba7a6dbcbc26c1b35dfee1170880</td>\n      <td>2</td>\n      <td>0</td>\n      <td>2</td>\n      <td>2</td>\n      <td>...</td>\n      <td>1669248167</td>\n      <td>BORROWER</td>\n      <td>True</td>\n      <td>0</td>\n      <td>0</td>\n      <td>0</td>\n      <td>1</td>\n      <td>1</td>\n      <td>0</td>\n      <td>Repay</td>\n    </tr>\n  </tbody>\n</table>\n<p>10 rows × 95 columns</p>\n</div>"
     },
     "execution_count": 53,
     "metadata": {},
     "output_type": "execute_result"
    }
   ],
   "source": [
    "vestaRepaysDb.head(10)"
   ],
   "metadata": {
    "collapsed": false
   }
  },
  {
   "cell_type": "code",
   "execution_count": 54,
   "outputs": [
    {
     "data": {
      "text/plain": "                                       transaction_id  \\\n0   0x0c0283dc0e75f17b5e9eb79b05bea3cae12d32204aad...   \n1   0x0c0283dc0e75f17b5e9eb79b05bea3cae12d32204aad...   \n2   0x0c0283dc0e75f17b5e9eb79b05bea3cae12d32204aad...   \n3   0x0c0283dc0e75f17b5e9eb79b05bea3cae12d32204aad...   \n4   0x0c0283dc0e75f17b5e9eb79b05bea3cae12d32204aad...   \n5   0x0c0283dc0e75f17b5e9eb79b05bea3cae12d32204aad...   \n6   0x748852c58dd4b57d3f6ed80bc81f74b439efcb94968b...   \n7   0x748852c58dd4b57d3f6ed80bc81f74b439efcb94968b...   \n8   0x748852c58dd4b57d3f6ed80bc81f74b439efcb94968b...   \n9   0x748852c58dd4b57d3f6ed80bc81f74b439efcb94968b...   \n10  0x748852c58dd4b57d3f6ed80bc81f74b439efcb94968b...   \n11  0x748852c58dd4b57d3f6ed80bc81f74b439efcb94968b...   \n\n                                     transaction_hash  transaction_logIndex  \\\n0   0x0c0283dc0e75f17b5e9eb79b05bea3cae12d32204aad...                   242   \n1   0x0c0283dc0e75f17b5e9eb79b05bea3cae12d32204aad...                   242   \n2   0x0c0283dc0e75f17b5e9eb79b05bea3cae12d32204aad...                   242   \n3   0x0c0283dc0e75f17b5e9eb79b05bea3cae12d32204aad...                   242   \n4   0x0c0283dc0e75f17b5e9eb79b05bea3cae12d32204aad...                   242   \n5   0x0c0283dc0e75f17b5e9eb79b05bea3cae12d32204aad...                   242   \n6   0x748852c58dd4b57d3f6ed80bc81f74b439efcb94968b...                   200   \n7   0x748852c58dd4b57d3f6ed80bc81f74b439efcb94968b...                   200   \n8   0x748852c58dd4b57d3f6ed80bc81f74b439efcb94968b...                   200   \n9   0x748852c58dd4b57d3f6ed80bc81f74b439efcb94968b...                   200   \n10  0x748852c58dd4b57d3f6ed80bc81f74b439efcb94968b...                   200   \n11  0x748852c58dd4b57d3f6ed80bc81f74b439efcb94968b...                   200   \n\n    transaction_blockNumber  transaction_timestamp  \\\n0                  16049560             1669410227   \n1                  16049560             1669410227   \n2                  16049560             1669410227   \n3                  16049560             1669410227   \n4                  16049560             1669410227   \n5                  16049560             1669410227   \n6                  16036129             1669248167   \n7                  16036129             1669248167   \n8                  16036129             1669248167   \n9                  16036129             1669248167   \n10                 16036129             1669248167   \n11                 16036129             1669248167   \n\n                        transaction_account_id  \\\n0   0x7776421dd146dfd6ea947cbf29b69c519807d259   \n1   0x7776421dd146dfd6ea947cbf29b69c519807d259   \n2   0x7776421dd146dfd6ea947cbf29b69c519807d259   \n3   0x7776421dd146dfd6ea947cbf29b69c519807d259   \n4   0x7776421dd146dfd6ea947cbf29b69c519807d259   \n5   0x7776421dd146dfd6ea947cbf29b69c519807d259   \n6   0xd3064611b24eba7a6dbcbc26c1b35dfee1170880   \n7   0xd3064611b24eba7a6dbcbc26c1b35dfee1170880   \n8   0xd3064611b24eba7a6dbcbc26c1b35dfee1170880   \n9   0xd3064611b24eba7a6dbcbc26c1b35dfee1170880   \n10  0xd3064611b24eba7a6dbcbc26c1b35dfee1170880   \n11  0xd3064611b24eba7a6dbcbc26c1b35dfee1170880   \n\n    transaction_account_positionCount  transaction_account_openPositionCount  \\\n0                                  26                                      2   \n1                                  26                                      2   \n2                                  26                                      2   \n3                                  26                                      2   \n4                                  26                                      2   \n5                                  26                                      2   \n6                                   2                                      0   \n7                                   2                                      0   \n8                                   2                                      0   \n9                                   2                                      0   \n10                                  2                                      0   \n11                                  2                                      0   \n\n    transaction_account_closedPositionCount  transaction_account_depositCount  \\\n0                                        24                                18   \n1                                        24                                18   \n2                                        24                                18   \n3                                        24                                18   \n4                                        24                                18   \n5                                        24                                18   \n6                                         2                                 2   \n7                                         2                                 2   \n8                                         2                                 2   \n9                                         2                                 2   \n10                                        2                                 2   \n11                                        2                                 2   \n\n    ...  transaction_position_side  transaction_position_isCollateral  \\\n0   ...                   BORROWER                               True   \n1   ...                   BORROWER                               True   \n2   ...                   BORROWER                               True   \n3   ...                   BORROWER                               True   \n4   ...                   BORROWER                               True   \n5   ...                   BORROWER                               True   \n6   ...                   BORROWER                               True   \n7   ...                   BORROWER                               True   \n8   ...                   BORROWER                               True   \n9   ...                   BORROWER                               True   \n10  ...                   BORROWER                               True   \n11  ...                   BORROWER                               True   \n\n    transaction_position_balance  transaction_position_depositCount  \\\n0                              0                                  0   \n1                              0                                  0   \n2                              0                                  0   \n3                              0                                  0   \n4                              0                                  0   \n5                              0                                  0   \n6                              0                                  0   \n7                              0                                  0   \n8                              0                                  0   \n9                              0                                  0   \n10                             0                                  0   \n11                             0                                  0   \n\n    transaction_position_withdrawCount transaction_position_borrowCount  \\\n0                                    0                                1   \n1                                    0                                1   \n2                                    0                                1   \n3                                    0                                1   \n4                                    0                                1   \n5                                    0                                1   \n6                                    0                                1   \n7                                    0                                1   \n8                                    0                                1   \n9                                    0                                1   \n10                                   0                                1   \n11                                   0                                1   \n\n   transaction_position_repayCount transaction_position_liquidationCount  \\\n0                                1                                     0   \n1                                1                                     0   \n2                                1                                     0   \n3                                1                                     0   \n4                                1                                     0   \n5                                1                                     0   \n6                                1                                     0   \n7                                1                                     0   \n8                                1                                     0   \n9                                1                                     0   \n10                               1                                     0   \n11                               1                                     0   \n\n    event            dateTime  \n0   Repay 2022-11-25 21:03:47  \n1   Repay 2022-11-25 21:03:47  \n2   Repay 2022-11-25 21:03:47  \n3   Repay 2022-11-25 21:03:47  \n4   Repay 2022-11-25 21:03:47  \n5   Repay 2022-11-25 21:03:47  \n6   Repay 2022-11-24 00:02:47  \n7   Repay 2022-11-24 00:02:47  \n8   Repay 2022-11-24 00:02:47  \n9   Repay 2022-11-24 00:02:47  \n10  Repay 2022-11-24 00:02:47  \n11  Repay 2022-11-24 00:02:47  \n\n[12 rows x 96 columns]",
      "text/html": "<div>\n<style scoped>\n    .dataframe tbody tr th:only-of-type {\n        vertical-align: middle;\n    }\n\n    .dataframe tbody tr th {\n        vertical-align: top;\n    }\n\n    .dataframe thead th {\n        text-align: right;\n    }\n</style>\n<table border=\"1\" class=\"dataframe\">\n  <thead>\n    <tr style=\"text-align: right;\">\n      <th></th>\n      <th>transaction_id</th>\n      <th>transaction_hash</th>\n      <th>transaction_logIndex</th>\n      <th>transaction_blockNumber</th>\n      <th>transaction_timestamp</th>\n      <th>transaction_account_id</th>\n      <th>transaction_account_positionCount</th>\n      <th>transaction_account_openPositionCount</th>\n      <th>transaction_account_closedPositionCount</th>\n      <th>transaction_account_depositCount</th>\n      <th>...</th>\n      <th>transaction_position_side</th>\n      <th>transaction_position_isCollateral</th>\n      <th>transaction_position_balance</th>\n      <th>transaction_position_depositCount</th>\n      <th>transaction_position_withdrawCount</th>\n      <th>transaction_position_borrowCount</th>\n      <th>transaction_position_repayCount</th>\n      <th>transaction_position_liquidationCount</th>\n      <th>event</th>\n      <th>dateTime</th>\n    </tr>\n  </thead>\n  <tbody>\n    <tr>\n      <th>0</th>\n      <td>0x0c0283dc0e75f17b5e9eb79b05bea3cae12d32204aad...</td>\n      <td>0x0c0283dc0e75f17b5e9eb79b05bea3cae12d32204aad...</td>\n      <td>242</td>\n      <td>16049560</td>\n      <td>1669410227</td>\n      <td>0x7776421dd146dfd6ea947cbf29b69c519807d259</td>\n      <td>26</td>\n      <td>2</td>\n      <td>24</td>\n      <td>18</td>\n      <td>...</td>\n      <td>BORROWER</td>\n      <td>True</td>\n      <td>0</td>\n      <td>0</td>\n      <td>0</td>\n      <td>1</td>\n      <td>1</td>\n      <td>0</td>\n      <td>Repay</td>\n      <td>2022-11-25 21:03:47</td>\n    </tr>\n    <tr>\n      <th>1</th>\n      <td>0x0c0283dc0e75f17b5e9eb79b05bea3cae12d32204aad...</td>\n      <td>0x0c0283dc0e75f17b5e9eb79b05bea3cae12d32204aad...</td>\n      <td>242</td>\n      <td>16049560</td>\n      <td>1669410227</td>\n      <td>0x7776421dd146dfd6ea947cbf29b69c519807d259</td>\n      <td>26</td>\n      <td>2</td>\n      <td>24</td>\n      <td>18</td>\n      <td>...</td>\n      <td>BORROWER</td>\n      <td>True</td>\n      <td>0</td>\n      <td>0</td>\n      <td>0</td>\n      <td>1</td>\n      <td>1</td>\n      <td>0</td>\n      <td>Repay</td>\n      <td>2022-11-25 21:03:47</td>\n    </tr>\n    <tr>\n      <th>2</th>\n      <td>0x0c0283dc0e75f17b5e9eb79b05bea3cae12d32204aad...</td>\n      <td>0x0c0283dc0e75f17b5e9eb79b05bea3cae12d32204aad...</td>\n      <td>242</td>\n      <td>16049560</td>\n      <td>1669410227</td>\n      <td>0x7776421dd146dfd6ea947cbf29b69c519807d259</td>\n      <td>26</td>\n      <td>2</td>\n      <td>24</td>\n      <td>18</td>\n      <td>...</td>\n      <td>BORROWER</td>\n      <td>True</td>\n      <td>0</td>\n      <td>0</td>\n      <td>0</td>\n      <td>1</td>\n      <td>1</td>\n      <td>0</td>\n      <td>Repay</td>\n      <td>2022-11-25 21:03:47</td>\n    </tr>\n    <tr>\n      <th>3</th>\n      <td>0x0c0283dc0e75f17b5e9eb79b05bea3cae12d32204aad...</td>\n      <td>0x0c0283dc0e75f17b5e9eb79b05bea3cae12d32204aad...</td>\n      <td>242</td>\n      <td>16049560</td>\n      <td>1669410227</td>\n      <td>0x7776421dd146dfd6ea947cbf29b69c519807d259</td>\n      <td>26</td>\n      <td>2</td>\n      <td>24</td>\n      <td>18</td>\n      <td>...</td>\n      <td>BORROWER</td>\n      <td>True</td>\n      <td>0</td>\n      <td>0</td>\n      <td>0</td>\n      <td>1</td>\n      <td>1</td>\n      <td>0</td>\n      <td>Repay</td>\n      <td>2022-11-25 21:03:47</td>\n    </tr>\n    <tr>\n      <th>4</th>\n      <td>0x0c0283dc0e75f17b5e9eb79b05bea3cae12d32204aad...</td>\n      <td>0x0c0283dc0e75f17b5e9eb79b05bea3cae12d32204aad...</td>\n      <td>242</td>\n      <td>16049560</td>\n      <td>1669410227</td>\n      <td>0x7776421dd146dfd6ea947cbf29b69c519807d259</td>\n      <td>26</td>\n      <td>2</td>\n      <td>24</td>\n      <td>18</td>\n      <td>...</td>\n      <td>BORROWER</td>\n      <td>True</td>\n      <td>0</td>\n      <td>0</td>\n      <td>0</td>\n      <td>1</td>\n      <td>1</td>\n      <td>0</td>\n      <td>Repay</td>\n      <td>2022-11-25 21:03:47</td>\n    </tr>\n    <tr>\n      <th>5</th>\n      <td>0x0c0283dc0e75f17b5e9eb79b05bea3cae12d32204aad...</td>\n      <td>0x0c0283dc0e75f17b5e9eb79b05bea3cae12d32204aad...</td>\n      <td>242</td>\n      <td>16049560</td>\n      <td>1669410227</td>\n      <td>0x7776421dd146dfd6ea947cbf29b69c519807d259</td>\n      <td>26</td>\n      <td>2</td>\n      <td>24</td>\n      <td>18</td>\n      <td>...</td>\n      <td>BORROWER</td>\n      <td>True</td>\n      <td>0</td>\n      <td>0</td>\n      <td>0</td>\n      <td>1</td>\n      <td>1</td>\n      <td>0</td>\n      <td>Repay</td>\n      <td>2022-11-25 21:03:47</td>\n    </tr>\n    <tr>\n      <th>6</th>\n      <td>0x748852c58dd4b57d3f6ed80bc81f74b439efcb94968b...</td>\n      <td>0x748852c58dd4b57d3f6ed80bc81f74b439efcb94968b...</td>\n      <td>200</td>\n      <td>16036129</td>\n      <td>1669248167</td>\n      <td>0xd3064611b24eba7a6dbcbc26c1b35dfee1170880</td>\n      <td>2</td>\n      <td>0</td>\n      <td>2</td>\n      <td>2</td>\n      <td>...</td>\n      <td>BORROWER</td>\n      <td>True</td>\n      <td>0</td>\n      <td>0</td>\n      <td>0</td>\n      <td>1</td>\n      <td>1</td>\n      <td>0</td>\n      <td>Repay</td>\n      <td>2022-11-24 00:02:47</td>\n    </tr>\n    <tr>\n      <th>7</th>\n      <td>0x748852c58dd4b57d3f6ed80bc81f74b439efcb94968b...</td>\n      <td>0x748852c58dd4b57d3f6ed80bc81f74b439efcb94968b...</td>\n      <td>200</td>\n      <td>16036129</td>\n      <td>1669248167</td>\n      <td>0xd3064611b24eba7a6dbcbc26c1b35dfee1170880</td>\n      <td>2</td>\n      <td>0</td>\n      <td>2</td>\n      <td>2</td>\n      <td>...</td>\n      <td>BORROWER</td>\n      <td>True</td>\n      <td>0</td>\n      <td>0</td>\n      <td>0</td>\n      <td>1</td>\n      <td>1</td>\n      <td>0</td>\n      <td>Repay</td>\n      <td>2022-11-24 00:02:47</td>\n    </tr>\n    <tr>\n      <th>8</th>\n      <td>0x748852c58dd4b57d3f6ed80bc81f74b439efcb94968b...</td>\n      <td>0x748852c58dd4b57d3f6ed80bc81f74b439efcb94968b...</td>\n      <td>200</td>\n      <td>16036129</td>\n      <td>1669248167</td>\n      <td>0xd3064611b24eba7a6dbcbc26c1b35dfee1170880</td>\n      <td>2</td>\n      <td>0</td>\n      <td>2</td>\n      <td>2</td>\n      <td>...</td>\n      <td>BORROWER</td>\n      <td>True</td>\n      <td>0</td>\n      <td>0</td>\n      <td>0</td>\n      <td>1</td>\n      <td>1</td>\n      <td>0</td>\n      <td>Repay</td>\n      <td>2022-11-24 00:02:47</td>\n    </tr>\n    <tr>\n      <th>9</th>\n      <td>0x748852c58dd4b57d3f6ed80bc81f74b439efcb94968b...</td>\n      <td>0x748852c58dd4b57d3f6ed80bc81f74b439efcb94968b...</td>\n      <td>200</td>\n      <td>16036129</td>\n      <td>1669248167</td>\n      <td>0xd3064611b24eba7a6dbcbc26c1b35dfee1170880</td>\n      <td>2</td>\n      <td>0</td>\n      <td>2</td>\n      <td>2</td>\n      <td>...</td>\n      <td>BORROWER</td>\n      <td>True</td>\n      <td>0</td>\n      <td>0</td>\n      <td>0</td>\n      <td>1</td>\n      <td>1</td>\n      <td>0</td>\n      <td>Repay</td>\n      <td>2022-11-24 00:02:47</td>\n    </tr>\n    <tr>\n      <th>10</th>\n      <td>0x748852c58dd4b57d3f6ed80bc81f74b439efcb94968b...</td>\n      <td>0x748852c58dd4b57d3f6ed80bc81f74b439efcb94968b...</td>\n      <td>200</td>\n      <td>16036129</td>\n      <td>1669248167</td>\n      <td>0xd3064611b24eba7a6dbcbc26c1b35dfee1170880</td>\n      <td>2</td>\n      <td>0</td>\n      <td>2</td>\n      <td>2</td>\n      <td>...</td>\n      <td>BORROWER</td>\n      <td>True</td>\n      <td>0</td>\n      <td>0</td>\n      <td>0</td>\n      <td>1</td>\n      <td>1</td>\n      <td>0</td>\n      <td>Repay</td>\n      <td>2022-11-24 00:02:47</td>\n    </tr>\n    <tr>\n      <th>11</th>\n      <td>0x748852c58dd4b57d3f6ed80bc81f74b439efcb94968b...</td>\n      <td>0x748852c58dd4b57d3f6ed80bc81f74b439efcb94968b...</td>\n      <td>200</td>\n      <td>16036129</td>\n      <td>1669248167</td>\n      <td>0xd3064611b24eba7a6dbcbc26c1b35dfee1170880</td>\n      <td>2</td>\n      <td>0</td>\n      <td>2</td>\n      <td>2</td>\n      <td>...</td>\n      <td>BORROWER</td>\n      <td>True</td>\n      <td>0</td>\n      <td>0</td>\n      <td>0</td>\n      <td>1</td>\n      <td>1</td>\n      <td>0</td>\n      <td>Repay</td>\n      <td>2022-11-24 00:02:47</td>\n    </tr>\n  </tbody>\n</table>\n<p>12 rows × 96 columns</p>\n</div>"
     },
     "execution_count": 54,
     "metadata": {},
     "output_type": "execute_result"
    }
   ],
   "source": [
    "vestaRepaysDbTimed = db.query(\"select \"\n",
    "               \"    * \"\n",
    "                    \" ,to_timestamp(transaction_timestamp::int) dateTime \"\n",
    "               \"From vestaRepaysDb \"\n",
    "               #\"where lower(liquidityPools_name) like lower('%olympus%') \"\n",
    "                #    \"or lower(pairs_token1_symbol) like lower('%OHM%')  \"\n",
    "               #\" limit 100 \"\n",
    "               ).df()\n",
    "\n",
    "vestaRepaysDbTimed.head(100)"
   ],
   "metadata": {
    "collapsed": false
   }
  },
  {
   "cell_type": "code",
   "execution_count": 55,
   "outputs": [
    {
     "name": "stdout",
     "output_type": "stream",
     "text": [
      "file saved\n"
     ]
    }
   ],
   "source": [
    "vestaRepaysDbTimedLength=len(vestaRepaysDbTimed)\n",
    "path =file+'/vesta_repay_events_'+str(dt.datetime.today().strftime(\"%b-%d-%Y\"))+\"_\"+str(vestaRepaysDbTimedLength)+'_records.csv'\n",
    "vestaRepaysDbTimed.to_csv(path, index = False)\n",
    "\n",
    "path =file+'/vesta_repay_events_'+str(dt.datetime.today().strftime(\"%b-%d-%Y\"))+\"_\"+str(vestaRepaysDbTimedLength)+'_records_piped.csv'\n",
    "vestaRepaysDbTimed.to_csv(path, index = False, sep='|')\n",
    "print('file saved')"
   ],
   "metadata": {
    "collapsed": false
   }
  },
  {
   "cell_type": "code",
   "execution_count": 56,
   "outputs": [
    {
     "data": {
      "text/plain": "                                      transaction_id  \\\n0  deposit-0xa70b833620fa9e60985ec9d9aa6b9c6af9f5...   \n1  deposit-0x5d3025a16815324cf1afca689903a14d2621...   \n2  deposit-0xabfb1cba9108afe5c2dde3f21f5b4de92fae...   \n3  deposit-0xdb674a81e3a0fd547a3a2ace9befd38a3b86...   \n4  deposit-0xe1f1f1cfd372bbe64a06346c1dde1102e155...   \n5  deposit-0x81d0e5f18de8d3995c911b0b022d2b051866...   \n6  deposit-0x16bfcc7fe7939a6c9935e5062c8067a57acd...   \n7  deposit-0x61a65a717a84989f1315c17975c28846056a...   \n8  deposit-0xd076494b2508137add66e1bc117f7e6a2e7d...   \n9  deposit-0x553d1f6e555d93416a509488fd698a2651bb...   \n\n                                    transaction_hash  transaction_logIndex  \\\n0  0xa70b833620fa9e60985ec9d9aa6b9c6af9f5e2fb6ee6...                  38.0   \n1  0x5d3025a16815324cf1afca689903a14d2621c19c9572...                  37.0   \n2  0xabfb1cba9108afe5c2dde3f21f5b4de92fae79791af2...                   4.0   \n3  0xdb674a81e3a0fd547a3a2ace9befd38a3b867df74fc0...                  30.0   \n4  0xe1f1f1cfd372bbe64a06346c1dde1102e155be4ec282...                  34.0   \n5  0x81d0e5f18de8d3995c911b0b022d2b05186668fe6c0b...                  23.0   \n6  0x16bfcc7fe7939a6c9935e5062c8067a57acd4b32abb1...                  42.0   \n7  0x61a65a717a84989f1315c17975c28846056a95bb61c2...                  42.0   \n8  0xd076494b2508137add66e1bc117f7e6a2e7da260823b...                  34.0   \n9  0x553d1f6e555d93416a509488fd698a2651bb5c39caa9...                  42.0   \n\n   transaction_blockNumber  transaction_timestamp  \\\n0               59495981.0           1.675975e+09   \n1               59294798.0           1.675915e+09   \n2               58531581.0           1.675695e+09   \n3               58285118.0           1.675619e+09   \n4               58200953.0           1.675596e+09   \n5               58147623.0           1.675580e+09   \n6               58118599.0           1.675570e+09   \n7               58014267.0           1.675533e+09   \n8               57572941.0           1.675391e+09   \n9               57537289.0           1.675376e+09   \n\n                       transaction_account_id  \\\n0  0x15bae977db3b62ceb5a67921fae589fd80624e8d   \n1  0x7723c45fb37092ee65202db7a2fe562c5fe0ab48   \n2  0x1d883459bbc71042a9072f106427c4993de44794   \n3  0x0fd84d7cb911728737556684050782b298f70f0f   \n4  0x2682efcc31de7a06ed3bf8b0be156ff88e1663a1   \n5  0x53430bde5e57ed878406a20ca101b0853f173acf   \n6  0xc6f84e7142eeaf930c62584f45ba7106bc3e2d68   \n7  0xf5d0318692f822680b733955828a25507f031c95   \n8  0xa80191fca50be00f8952c69232c93d57eeacaf6f   \n9  0xfa4dfbe7b012b1d92fdd5544f30518bb58bd41ce   \n\n   transaction_account_positionCount  transaction_account_openPositionCount  \\\n0                                3.0                                    2.0   \n1                                9.0                                    4.0   \n2                                2.0                                    2.0   \n3                                7.0                                    2.0   \n4                                7.0                                    2.0   \n5                                4.0                                    2.0   \n6                                2.0                                    2.0   \n7                                2.0                                    0.0   \n8                                4.0                                    2.0   \n9                                2.0                                    0.0   \n\n   transaction_account_closedPositionCount  transaction_account_depositCount  \\\n0                                      1.0                               4.0   \n1                                      5.0                               5.0   \n2                                      0.0                               2.0   \n3                                      5.0                               5.0   \n4                                      5.0                               5.0   \n5                                      2.0                               2.0   \n6                                      0.0                               1.0   \n7                                      2.0                               1.0   \n8                                      2.0                               9.0   \n9                                      2.0                               1.0   \n\n   ...  borrows_position_blockNumberClosed  borrows_position_timestampClosed  \\\n0  ...                                 NaN                               NaN   \n1  ...                                 NaN                               NaN   \n2  ...                                 NaN                               NaN   \n3  ...                                 NaN                               NaN   \n4  ...                                 NaN                               NaN   \n5  ...                                 NaN                               NaN   \n6  ...                                 NaN                               NaN   \n7  ...                                 NaN                               NaN   \n8  ...                                 NaN                               NaN   \n9  ...                                 NaN                               NaN   \n\n   borrows_position_side  borrows_position_isCollateral  \\\n0                    NaN                            NaN   \n1                    NaN                            NaN   \n2                    NaN                            NaN   \n3                    NaN                            NaN   \n4                    NaN                            NaN   \n5                    NaN                            NaN   \n6                    NaN                            NaN   \n7                    NaN                            NaN   \n8                    NaN                            NaN   \n9                    NaN                            NaN   \n\n   borrows_position_balance borrows_position_depositCount  \\\n0                       NaN                           NaN   \n1                       NaN                           NaN   \n2                       NaN                           NaN   \n3                       NaN                           NaN   \n4                       NaN                           NaN   \n5                       NaN                           NaN   \n6                       NaN                           NaN   \n7                       NaN                           NaN   \n8                       NaN                           NaN   \n9                       NaN                           NaN   \n\n  borrows_position_withdrawCount borrows_position_borrowCount  \\\n0                            NaN                          NaN   \n1                            NaN                          NaN   \n2                            NaN                          NaN   \n3                            NaN                          NaN   \n4                            NaN                          NaN   \n5                            NaN                          NaN   \n6                            NaN                          NaN   \n7                            NaN                          NaN   \n8                            NaN                          NaN   \n9                            NaN                          NaN   \n\n  borrows_position_repayCount borrows_position_liquidationCount  \n0                         NaN                               NaN  \n1                         NaN                               NaN  \n2                         NaN                               NaN  \n3                         NaN                               NaN  \n4                         NaN                               NaN  \n5                         NaN                               NaN  \n6                         NaN                               NaN  \n7                         NaN                               NaN  \n8                         NaN                               NaN  \n9                         NaN                               NaN  \n\n[10 rows x 158 columns]",
      "text/html": "<div>\n<style scoped>\n    .dataframe tbody tr th:only-of-type {\n        vertical-align: middle;\n    }\n\n    .dataframe tbody tr th {\n        vertical-align: top;\n    }\n\n    .dataframe thead th {\n        text-align: right;\n    }\n</style>\n<table border=\"1\" class=\"dataframe\">\n  <thead>\n    <tr style=\"text-align: right;\">\n      <th></th>\n      <th>transaction_id</th>\n      <th>transaction_hash</th>\n      <th>transaction_logIndex</th>\n      <th>transaction_blockNumber</th>\n      <th>transaction_timestamp</th>\n      <th>transaction_account_id</th>\n      <th>transaction_account_positionCount</th>\n      <th>transaction_account_openPositionCount</th>\n      <th>transaction_account_closedPositionCount</th>\n      <th>transaction_account_depositCount</th>\n      <th>...</th>\n      <th>borrows_position_blockNumberClosed</th>\n      <th>borrows_position_timestampClosed</th>\n      <th>borrows_position_side</th>\n      <th>borrows_position_isCollateral</th>\n      <th>borrows_position_balance</th>\n      <th>borrows_position_depositCount</th>\n      <th>borrows_position_withdrawCount</th>\n      <th>borrows_position_borrowCount</th>\n      <th>borrows_position_repayCount</th>\n      <th>borrows_position_liquidationCount</th>\n    </tr>\n  </thead>\n  <tbody>\n    <tr>\n      <th>0</th>\n      <td>deposit-0xa70b833620fa9e60985ec9d9aa6b9c6af9f5...</td>\n      <td>0xa70b833620fa9e60985ec9d9aa6b9c6af9f5e2fb6ee6...</td>\n      <td>38.0</td>\n      <td>59495981.0</td>\n      <td>1.675975e+09</td>\n      <td>0x15bae977db3b62ceb5a67921fae589fd80624e8d</td>\n      <td>3.0</td>\n      <td>2.0</td>\n      <td>1.0</td>\n      <td>4.0</td>\n      <td>...</td>\n      <td>NaN</td>\n      <td>NaN</td>\n      <td>NaN</td>\n      <td>NaN</td>\n      <td>NaN</td>\n      <td>NaN</td>\n      <td>NaN</td>\n      <td>NaN</td>\n      <td>NaN</td>\n      <td>NaN</td>\n    </tr>\n    <tr>\n      <th>1</th>\n      <td>deposit-0x5d3025a16815324cf1afca689903a14d2621...</td>\n      <td>0x5d3025a16815324cf1afca689903a14d2621c19c9572...</td>\n      <td>37.0</td>\n      <td>59294798.0</td>\n      <td>1.675915e+09</td>\n      <td>0x7723c45fb37092ee65202db7a2fe562c5fe0ab48</td>\n      <td>9.0</td>\n      <td>4.0</td>\n      <td>5.0</td>\n      <td>5.0</td>\n      <td>...</td>\n      <td>NaN</td>\n      <td>NaN</td>\n      <td>NaN</td>\n      <td>NaN</td>\n      <td>NaN</td>\n      <td>NaN</td>\n      <td>NaN</td>\n      <td>NaN</td>\n      <td>NaN</td>\n      <td>NaN</td>\n    </tr>\n    <tr>\n      <th>2</th>\n      <td>deposit-0xabfb1cba9108afe5c2dde3f21f5b4de92fae...</td>\n      <td>0xabfb1cba9108afe5c2dde3f21f5b4de92fae79791af2...</td>\n      <td>4.0</td>\n      <td>58531581.0</td>\n      <td>1.675695e+09</td>\n      <td>0x1d883459bbc71042a9072f106427c4993de44794</td>\n      <td>2.0</td>\n      <td>2.0</td>\n      <td>0.0</td>\n      <td>2.0</td>\n      <td>...</td>\n      <td>NaN</td>\n      <td>NaN</td>\n      <td>NaN</td>\n      <td>NaN</td>\n      <td>NaN</td>\n      <td>NaN</td>\n      <td>NaN</td>\n      <td>NaN</td>\n      <td>NaN</td>\n      <td>NaN</td>\n    </tr>\n    <tr>\n      <th>3</th>\n      <td>deposit-0xdb674a81e3a0fd547a3a2ace9befd38a3b86...</td>\n      <td>0xdb674a81e3a0fd547a3a2ace9befd38a3b867df74fc0...</td>\n      <td>30.0</td>\n      <td>58285118.0</td>\n      <td>1.675619e+09</td>\n      <td>0x0fd84d7cb911728737556684050782b298f70f0f</td>\n      <td>7.0</td>\n      <td>2.0</td>\n      <td>5.0</td>\n      <td>5.0</td>\n      <td>...</td>\n      <td>NaN</td>\n      <td>NaN</td>\n      <td>NaN</td>\n      <td>NaN</td>\n      <td>NaN</td>\n      <td>NaN</td>\n      <td>NaN</td>\n      <td>NaN</td>\n      <td>NaN</td>\n      <td>NaN</td>\n    </tr>\n    <tr>\n      <th>4</th>\n      <td>deposit-0xe1f1f1cfd372bbe64a06346c1dde1102e155...</td>\n      <td>0xe1f1f1cfd372bbe64a06346c1dde1102e155be4ec282...</td>\n      <td>34.0</td>\n      <td>58200953.0</td>\n      <td>1.675596e+09</td>\n      <td>0x2682efcc31de7a06ed3bf8b0be156ff88e1663a1</td>\n      <td>7.0</td>\n      <td>2.0</td>\n      <td>5.0</td>\n      <td>5.0</td>\n      <td>...</td>\n      <td>NaN</td>\n      <td>NaN</td>\n      <td>NaN</td>\n      <td>NaN</td>\n      <td>NaN</td>\n      <td>NaN</td>\n      <td>NaN</td>\n      <td>NaN</td>\n      <td>NaN</td>\n      <td>NaN</td>\n    </tr>\n    <tr>\n      <th>5</th>\n      <td>deposit-0x81d0e5f18de8d3995c911b0b022d2b051866...</td>\n      <td>0x81d0e5f18de8d3995c911b0b022d2b05186668fe6c0b...</td>\n      <td>23.0</td>\n      <td>58147623.0</td>\n      <td>1.675580e+09</td>\n      <td>0x53430bde5e57ed878406a20ca101b0853f173acf</td>\n      <td>4.0</td>\n      <td>2.0</td>\n      <td>2.0</td>\n      <td>2.0</td>\n      <td>...</td>\n      <td>NaN</td>\n      <td>NaN</td>\n      <td>NaN</td>\n      <td>NaN</td>\n      <td>NaN</td>\n      <td>NaN</td>\n      <td>NaN</td>\n      <td>NaN</td>\n      <td>NaN</td>\n      <td>NaN</td>\n    </tr>\n    <tr>\n      <th>6</th>\n      <td>deposit-0x16bfcc7fe7939a6c9935e5062c8067a57acd...</td>\n      <td>0x16bfcc7fe7939a6c9935e5062c8067a57acd4b32abb1...</td>\n      <td>42.0</td>\n      <td>58118599.0</td>\n      <td>1.675570e+09</td>\n      <td>0xc6f84e7142eeaf930c62584f45ba7106bc3e2d68</td>\n      <td>2.0</td>\n      <td>2.0</td>\n      <td>0.0</td>\n      <td>1.0</td>\n      <td>...</td>\n      <td>NaN</td>\n      <td>NaN</td>\n      <td>NaN</td>\n      <td>NaN</td>\n      <td>NaN</td>\n      <td>NaN</td>\n      <td>NaN</td>\n      <td>NaN</td>\n      <td>NaN</td>\n      <td>NaN</td>\n    </tr>\n    <tr>\n      <th>7</th>\n      <td>deposit-0x61a65a717a84989f1315c17975c28846056a...</td>\n      <td>0x61a65a717a84989f1315c17975c28846056a95bb61c2...</td>\n      <td>42.0</td>\n      <td>58014267.0</td>\n      <td>1.675533e+09</td>\n      <td>0xf5d0318692f822680b733955828a25507f031c95</td>\n      <td>2.0</td>\n      <td>0.0</td>\n      <td>2.0</td>\n      <td>1.0</td>\n      <td>...</td>\n      <td>NaN</td>\n      <td>NaN</td>\n      <td>NaN</td>\n      <td>NaN</td>\n      <td>NaN</td>\n      <td>NaN</td>\n      <td>NaN</td>\n      <td>NaN</td>\n      <td>NaN</td>\n      <td>NaN</td>\n    </tr>\n    <tr>\n      <th>8</th>\n      <td>deposit-0xd076494b2508137add66e1bc117f7e6a2e7d...</td>\n      <td>0xd076494b2508137add66e1bc117f7e6a2e7da260823b...</td>\n      <td>34.0</td>\n      <td>57572941.0</td>\n      <td>1.675391e+09</td>\n      <td>0xa80191fca50be00f8952c69232c93d57eeacaf6f</td>\n      <td>4.0</td>\n      <td>2.0</td>\n      <td>2.0</td>\n      <td>9.0</td>\n      <td>...</td>\n      <td>NaN</td>\n      <td>NaN</td>\n      <td>NaN</td>\n      <td>NaN</td>\n      <td>NaN</td>\n      <td>NaN</td>\n      <td>NaN</td>\n      <td>NaN</td>\n      <td>NaN</td>\n      <td>NaN</td>\n    </tr>\n    <tr>\n      <th>9</th>\n      <td>deposit-0x553d1f6e555d93416a509488fd698a2651bb...</td>\n      <td>0x553d1f6e555d93416a509488fd698a2651bb5c39caa9...</td>\n      <td>42.0</td>\n      <td>57537289.0</td>\n      <td>1.675376e+09</td>\n      <td>0xfa4dfbe7b012b1d92fdd5544f30518bb58bd41ce</td>\n      <td>2.0</td>\n      <td>0.0</td>\n      <td>2.0</td>\n      <td>1.0</td>\n      <td>...</td>\n      <td>NaN</td>\n      <td>NaN</td>\n      <td>NaN</td>\n      <td>NaN</td>\n      <td>NaN</td>\n      <td>NaN</td>\n      <td>NaN</td>\n      <td>NaN</td>\n      <td>NaN</td>\n      <td>NaN</td>\n    </tr>\n  </tbody>\n</table>\n<p>10 rows × 158 columns</p>\n</div>"
     },
     "execution_count": 56,
     "metadata": {},
     "output_type": "execute_result"
    }
   ],
   "source": [
    "vestaBorrowDepositEventsDb = pd.DataFrame()\n",
    "vestaBorrowDepositEventsDb=pd.concat([vestaDepositsDbTimed, vestaBorrowsDbTimed])#,vestaRepaysDbTimed])\n",
    "vestaBorrowDepositEventsDbLength=len(vestaBorrowDepositEventsDb)\n",
    "vestaBorrowDepositEventsDb.head(10)"
   ],
   "metadata": {
    "collapsed": false
   }
  },
  {
   "cell_type": "code",
   "execution_count": 63,
   "outputs": [
    {
     "name": "stdout",
     "output_type": "stream",
     "text": [
      "file saved\n"
     ]
    }
   ],
   "source": [
    "vestaBorrowDepositEventsDbLength = len(vestaBorrowDepositEventsDb)\n",
    "path =file+'/vesta_BorrowDeposit_Events_'+str(dt.datetime.today().strftime(\"%b-%d-%Y\"))+\"_\"+str(vestaBorrowDepositEventsDbLength)+'_records.csv'\n",
    "vestaBorrowDepositEventsDb.to_csv(path, index = False)\n",
    "\n",
    "path =file+'/vesta_BorrowDeposit_Events_'+str(dt.datetime.today().strftime(\"%b-%d-%Y\"))+\"_\"+str(vestaBorrowDepositEventsDbLength)+'_records_piped.csv'\n",
    "vestaBorrowDepositEventsDb.to_csv(path, index = False, sep='|')\n",
    "print('file saved')"
   ],
   "metadata": {
    "collapsed": false
   }
  },
  {
   "cell_type": "code",
   "execution_count": 60,
   "outputs": [
    {
     "name": "stdout",
     "output_type": "stream",
     "text": [
      "iterations:  0 Lines skipped:  0 records collected:  1000\n",
      "iterations:  1 Lines skipped:  1000 records collected:  575\n",
      "Done. Total Records collected:  1575\n"
     ]
    }
   ],
   "source": [
    "#let's pull interest rate data\n",
    "interestRateTicker = 0\n",
    "interestRateslist = pd.DataFrame()\n",
    "interestRatesDb = pd.DataFrame()\n",
    "interestRateListLength = 1000\n",
    "datediff = 0\n",
    "now=0\n",
    "daysAgo=0\n",
    "daysLimit = 45\n",
    "exit = False\n",
    "while exit==False:\n",
    "    skipValue = (interestRateTicker)*(1000)\n",
    "    interestRates = vesta.Query.interestRates(\n",
    "        orderBy='id',\n",
    "        orderDirection='desc',\n",
    "        first=1000,\n",
    "        skip = skipValue,\n",
    "        #where={ 'market': '0xc413dd03555f3eb29d834b482d386b2999dc2eb0' } #gOHM market\n",
    "\n",
    "    )\n",
    "\n",
    "    interestRateslist = sg.query_df([\n",
    "        interestRates.id\n",
    "        ,interestRates.rate #5.21% should be stored as 5.21\n",
    "        ,interestRates.duration #in days\n",
    "        ,interestRates.maturityBlock #Maturity of the loan in block height. Only applies to fixed term lending (e.g. Notional)\n",
    "        ,interestRates.side #The party the interest is paid to / received from\n",
    "        ,interestRates.type #The type of interest rate (e.g. stable, fixed, variable, etc)\n",
    "    ])\n",
    "\n",
    "    #interestRateslist.sort_values(by=['interestRates_timestamp'])\n",
    "\n",
    "    interestRatesDb=pd.concat([interestRateslist, interestRatesDb])\n",
    "    interestRatesDbLength = len(interestRatesDb)\n",
    "    interestRateListLength = len(interestRateslist)\n",
    "    print(\"iterations: \", interestRateTicker, \"Lines skipped: \",skipValue, \"records collected: \", interestRateListLength)\n",
    "    #print(\"iterations: \", interestRateTicker, \"records collected: \", interestRateListLength, \" - userdb length: \", interestRatesDbLength)\n",
    "    interestRateTicker = interestRateTicker+1\n",
    "    if interestRateListLength<1000: exit =True\n",
    "\n",
    "print(\"Done. Total Records collected: \", interestRatesDbLength)\n",
    "\n",
    "\n"
   ],
   "metadata": {
    "collapsed": false
   }
  },
  {
   "cell_type": "code",
   "execution_count": 61,
   "outputs": [
    {
     "data": {
      "text/plain": "                                    interestRates_id  interestRates_rate  \\\n0  BORROWER-STABLE-0x6c2c06790b3e3e3c38e12ee22f81...                 0.0   \n1  BORROWER-STABLE-0x6c2c06790b3e3e3c38e12ee22f81...                 0.0   \n2  BORROWER-STABLE-0x6c2c06790b3e3e3c38e12ee22f81...                 0.0   \n3  BORROWER-STABLE-0x6c2c06790b3e3e3c38e12ee22f81...                 0.0   \n4  BORROWER-STABLE-0x6c2c06790b3e3e3c38e12ee22f81...                 0.0   \n\n  interestRates_duration interestRates_maturityBlock interestRates_side  \\\n0                   None                        None           BORROWER   \n1                   None                        None           BORROWER   \n2                   None                        None           BORROWER   \n3                   None                        None           BORROWER   \n4                   None                        None           BORROWER   \n\n  interestRates_type  \n0             STABLE  \n1             STABLE  \n2             STABLE  \n3             STABLE  \n4             STABLE  ",
      "text/html": "<div>\n<style scoped>\n    .dataframe tbody tr th:only-of-type {\n        vertical-align: middle;\n    }\n\n    .dataframe tbody tr th {\n        vertical-align: top;\n    }\n\n    .dataframe thead th {\n        text-align: right;\n    }\n</style>\n<table border=\"1\" class=\"dataframe\">\n  <thead>\n    <tr style=\"text-align: right;\">\n      <th></th>\n      <th>interestRates_id</th>\n      <th>interestRates_rate</th>\n      <th>interestRates_duration</th>\n      <th>interestRates_maturityBlock</th>\n      <th>interestRates_side</th>\n      <th>interestRates_type</th>\n    </tr>\n  </thead>\n  <tbody>\n    <tr>\n      <th>0</th>\n      <td>BORROWER-STABLE-0x6c2c06790b3e3e3c38e12ee22f81...</td>\n      <td>0.0</td>\n      <td>None</td>\n      <td>None</td>\n      <td>BORROWER</td>\n      <td>STABLE</td>\n    </tr>\n    <tr>\n      <th>1</th>\n      <td>BORROWER-STABLE-0x6c2c06790b3e3e3c38e12ee22f81...</td>\n      <td>0.0</td>\n      <td>None</td>\n      <td>None</td>\n      <td>BORROWER</td>\n      <td>STABLE</td>\n    </tr>\n    <tr>\n      <th>2</th>\n      <td>BORROWER-STABLE-0x6c2c06790b3e3e3c38e12ee22f81...</td>\n      <td>0.0</td>\n      <td>None</td>\n      <td>None</td>\n      <td>BORROWER</td>\n      <td>STABLE</td>\n    </tr>\n    <tr>\n      <th>3</th>\n      <td>BORROWER-STABLE-0x6c2c06790b3e3e3c38e12ee22f81...</td>\n      <td>0.0</td>\n      <td>None</td>\n      <td>None</td>\n      <td>BORROWER</td>\n      <td>STABLE</td>\n    </tr>\n    <tr>\n      <th>4</th>\n      <td>BORROWER-STABLE-0x6c2c06790b3e3e3c38e12ee22f81...</td>\n      <td>0.0</td>\n      <td>None</td>\n      <td>None</td>\n      <td>BORROWER</td>\n      <td>STABLE</td>\n    </tr>\n  </tbody>\n</table>\n</div>"
     },
     "execution_count": 61,
     "metadata": {},
     "output_type": "execute_result"
    }
   ],
   "source": [
    "interestRatesDb.head(5)"
   ],
   "metadata": {
    "collapsed": false
   }
  },
  {
   "cell_type": "code",
   "execution_count": 64,
   "outputs": [
    {
     "name": "stdout",
     "output_type": "stream",
     "text": [
      "file saved\n"
     ]
    }
   ],
   "source": [
    "interestRatesDbLength = len(interestRatesDb)\n",
    "path =file+'/vesta_interest_rates_'+str(dt.datetime.today().strftime(\"%b-%d-%Y\"))+\"_\"+str(interestRatesDbLength)+'_records.csv'\n",
    "interestRatesDb.to_csv(path, index = False)\n",
    "\n",
    "path =file+'/vesta_interest_rates_'+str(dt.datetime.today().strftime(\"%b-%d-%Y\"))+\"_\"+str(interestRatesDbLength)+'_records_piped.csv'\n",
    "interestRatesDb.to_csv(path, index = False, sep='|')\n",
    "print('file saved')"
   ],
   "metadata": {
    "collapsed": false
   }
  },
  {
   "cell_type": "markdown",
   "source": [
    "##this WILL Capture the list of people who lended gOHM for others to borrow\n",
    "lendTicker = 0\n",
    "lendslist = pd.DataFrame()\n",
    "lendsDb = pd.DataFrame()\n",
    "lendListLength = 1000\n",
    "datediff = 0\n",
    "now=0\n",
    "daysAgo=0\n",
    "daysLimit = 45\n",
    "exit = False\n",
    "while exit==False:\n",
    "    skipValue = (lendTicker)*(1000)\n",
    "    lends = silo.Query.lends(\n",
    "        orderBy='timestamp',\n",
    "        orderDirection='desc',\n",
    "        first=1000,\n",
    "        skip = skipValue,\n",
    "        where={ 'market': '0xc413dd03555f3eb29d834b482d386b2999dc2eb0' } #gOHM market\n",
    "\n",
    "    )\n",
    "\n",
    "    lendslist = sg.query_df([\n",
    "        lends.id\n",
    "        ,lends.hash\n",
    "        ,lends.logIndex\n",
    "        ,lends.blockNumber\n",
    "        ,lends.timestamp\n",
    "        ,lends.account\n",
    "        ,lends.market\n",
    "        ,lends.asset\n",
    "        ,lends.amount\n",
    "        ,lends.amountUSD\n",
    "    ])\n",
    "\n",
    "    #lendslist.sort_values(by=['lends_timestamp'])\n",
    "\n",
    "    lendsDb=pd.concat([lendsDb, lendslist])\n",
    "    recordTimestamp1 = lendsDb.iat[lendTicker,4]\n",
    "    recordTimestamp = dt.datetime.fromtimestamp( recordTimestamp1 )\n",
    "    now = (int(dt.datetime.utcnow().timestamp()))\n",
    "    datediff=abs(int(now) - recordTimestamp1)\n",
    "    daysAgo = int(datediff/86400)\n",
    "    lendsDbLength = len(lendsDb)\n",
    "    lendListLength = len(lendslist)\n",
    "    recordID = lendsDb.iat[lendTicker,0]\n",
    "    lend = lendsDb.iat[lendTicker,1]\n",
    "    print(\"iterations: \", lendTicker, \"Lines skipped: \",skipValue, \"records collected: \", lendListLength, \" - latest recordID: \",lend, \" \", recordID , \" - lends DB length: \", lendsDbLength, \" - latest record from: \", recordTimestamp, daysAgo,\"days ago\")\n",
    "    #print(\"iterations: \", lendTicker, \"records collected: \", lendListLength, \" - userdb length: \", lendsDbLength)\n",
    "    lendTicker = lendTicker+1\n",
    "    if daysAgo>daysLimit: exit =True\n",
    "    if lendListLength<1000 exit =True\n",
    "\n",
    "#lendsDb.sort_values(by=['lends_timestamp'])\n",
    "print(\"Done. Total Records collected: \", lendsDbLength)"
   ],
   "metadata": {
    "collapsed": false
   }
  },
  {
   "cell_type": "markdown",
   "source": [
    "************************************************************\n",
    "FINE.... FRAX TOO\n",
    "\n",
    "This subgraph is completely different, so we're going to  have to crunch in order to merge all these tables into coherent reports"
   ],
   "metadata": {
    "collapsed": false
   }
  },
  {
   "cell_type": "code",
   "execution_count": 77,
   "outputs": [],
   "source": [
    "frax = sg.load_api('https://gateway.thegraph.com/api/'+apiKey+'/subgraphs/id/GELTrjPJYEzxyp6Y2CtEaYpGHcJNrJA6i5Ci4KfJSEsf')"
   ],
   "metadata": {
    "collapsed": false
   }
  },
  {
   "cell_type": "code",
   "execution_count": 80,
   "outputs": [
    {
     "name": "stdout",
     "output_type": "stream",
     "text": [
      "iterations:  0 Lines skipped:  0 records collected:  1000  - latest recordID:  removeCollateral   0x12a8cb34e5cb26d0ee0b0cc211aabb0b03f636409dbd8e967dfed28e6eea90ba  - actions DB length:  1000  - latest record from:  2023-02-10 14:42:47 0 days ago\n",
      "iterations:  1 Lines skipped:  1000 records collected:  1000  - latest recordID:  repayAsset   0xc7c1739911ae71f7726d1d32214edb8161a341f7fcd7dc6d466681da295491ec  - actions DB length:  2000  - latest record from:  2023-02-10 14:41:35 0 days ago\n",
      "iterations:  2 Lines skipped:  2000 records collected:  1000  - latest recordID:  repayAsset   0x40e939c94b527bd4eb9f8f102cfe3c179b61f0da6bb7bb6a5ee815af6d2eaa11  - actions DB length:  3000  - latest record from:  2023-02-10 09:15:35 0 days ago\n",
      "iterations:  3 Lines skipped:  3000 records collected:  1000  - latest recordID:  borrowAsset   0x6dc275d27f2cbca7232c6fa9019ea1c84a3983636a7c102b0759efc8f5662b44  - actions DB length:  4000  - latest record from:  2023-02-10 09:14:11 0 days ago\n",
      "iterations:  4 Lines skipped:  4000 records collected:  1000  - latest recordID:  repayAsset   0x83e2ea08ec4f8a38735c7ad01954ce62ae9f79b84e7d8aadec3c4296ae5cc3bf  - actions DB length:  5000  - latest record from:  2023-02-10 08:51:11 0 days ago\n",
      "iterations:  5 Lines skipped:  5000 records collected:  1000  - latest recordID:  removeCollateral   0x004795cddb57f7037626cc0ca26e84c7507dde798b5a88696faec6b2f4ba4cf4  - actions DB length:  6000  - latest record from:  2023-02-10 08:47:23 0 days ago\n",
      "iterations:  6 Lines skipped:  6000 records collected:  1000  - latest recordID:  removeCollateral   0x17df17ec4b65d028374f6407d7998a40e2a4fdca7cbeb09bd9e8d4844efa6107  - actions DB length:  7000  - latest record from:  2023-02-10 05:46:59 0 days ago\n",
      "iterations:  7 Lines skipped:  7000 records collected:  1000  - latest recordID:  borrowAsset   0xd76a5cb0e7219544a326f05a05bc08f8e79de4947c20d926adf59efa1c0d396b  - actions DB length:  8000  - latest record from:  2023-02-10 05:28:11 0 days ago\n",
      "iterations:  8 Lines skipped:  8000 records collected:  1000  - latest recordID:  repayAsset   0x5dee647c2e8ebfad8bac45dd1ca3eab67b4841ef169283d0e759391177ad006b  - actions DB length:  9000  - latest record from:  2023-02-10 04:42:35 0 days ago\n",
      "iterations:  9 Lines skipped:  9000 records collected:  1000  - latest recordID:  borrowAsset   0xd35638a578d8f0b2134f2e09f085f4d4d2dbb1494604fc0dbd819234e3390aaf+1  - actions DB length:  10000  - latest record from:  2023-02-09 14:44:11 1 days ago\n",
      "iterations:  10 Lines skipped:  10000 records collected:  1000  - latest recordID:  addCollateral   0xd35638a578d8f0b2134f2e09f085f4d4d2dbb1494604fc0dbd819234e3390aaf  - actions DB length:  11000  - latest record from:  2023-02-09 14:44:11 1 days ago\n",
      "iterations:  11 Lines skipped:  11000 records collected:  1000  - latest recordID:  borrowAsset   0x3092d76c46045fdcf57272151e55e1b105bd4b7d4063c71cd786bf1ce5df9205  - actions DB length:  12000  - latest record from:  2023-02-09 14:41:47 1 days ago\n",
      "iterations:  12 Lines skipped:  12000 records collected:  1000  - latest recordID:  borrowAsset   0xa20176fd6cb8470bb538af582d7d97e27bbf75135d8ac2f0342c67e7a4b25bc8+1  - actions DB length:  13000  - latest record from:  2023-02-09 13:41:11 1 days ago\n",
      "iterations:  13 Lines skipped:  13000 records collected:  1000  - latest recordID:  addCollateral   0xa20176fd6cb8470bb538af582d7d97e27bbf75135d8ac2f0342c67e7a4b25bc8  - actions DB length:  14000  - latest record from:  2023-02-09 13:41:11 1 days ago\n",
      "iterations:  14 Lines skipped:  14000 records collected:  1000  - latest recordID:  borrowAsset   0x2dc9bc4f7c7ac1708768d1f6f6e6a41b8fb4964fd89410ef265d79d104d66384+1  - actions DB length:  15000  - latest record from:  2023-02-09 12:12:59 1 days ago\n",
      "iterations:  15 Lines skipped:  15000 records collected:  1000  - latest recordID:  addCollateral   0x2dc9bc4f7c7ac1708768d1f6f6e6a41b8fb4964fd89410ef265d79d104d66384  - actions DB length:  16000  - latest record from:  2023-02-09 12:12:59 1 days ago\n",
      "iterations:  16 Lines skipped:  16000 records collected:  1000  - latest recordID:  borrowAsset   0x5dea5a1baef298676a0c47666ca76db0d00637a96750e0d04f97f4f11e555127  - actions DB length:  17000  - latest record from:  2023-02-09 11:55:47 1 days ago\n",
      "iterations:  17 Lines skipped:  17000 records collected:  1000  - latest recordID:  borrowAsset   0x2c4738e7f57d0ef25cef1541393689e07f7f01b8774ac93e4925eb72eb813047+1  - actions DB length:  18000  - latest record from:  2023-02-09 11:31:47 1 days ago\n",
      "iterations:  18 Lines skipped:  18000 records collected:  1000  - latest recordID:  addCollateral   0x2c4738e7f57d0ef25cef1541393689e07f7f01b8774ac93e4925eb72eb813047  - actions DB length:  19000  - latest record from:  2023-02-09 11:31:47 1 days ago\n",
      "iterations:  19 Lines skipped:  19000 records collected:  1000  - latest recordID:  borrowAsset   0x5ab8113bf249f443569eb7a2bf142308a907e50b70ddd36e4e8e7042877c6eff+1  - actions DB length:  20000  - latest record from:  2023-02-09 10:48:59 1 days ago\n",
      "iterations:  20 Lines skipped:  20000 records collected:  1000  - latest recordID:  addCollateral   0x5ab8113bf249f443569eb7a2bf142308a907e50b70ddd36e4e8e7042877c6eff  - actions DB length:  21000  - latest record from:  2023-02-09 10:48:59 1 days ago\n",
      "iterations:  21 Lines skipped:  21000 records collected:  1000  - latest recordID:  borrowAsset   0x45dbb93901bca44a7d83c1ba9aec12bc1450a48f70b65b310782e7b9c69e5857+1  - actions DB length:  22000  - latest record from:  2023-02-09 07:25:47 1 days ago\n",
      "iterations:  22 Lines skipped:  22000 records collected:  1000  - latest recordID:  addCollateral   0x45dbb93901bca44a7d83c1ba9aec12bc1450a48f70b65b310782e7b9c69e5857  - actions DB length:  23000  - latest record from:  2023-02-09 07:25:47 1 days ago\n",
      "iterations:  23 Lines skipped:  23000 records collected:  1000  - latest recordID:  borrowAsset   0xd643ca592784c258342d02d2e22b4480e6b806a75d77fdbc7790b33eb4702268+1  - actions DB length:  24000  - latest record from:  2023-02-09 04:55:11 1 days ago\n",
      "iterations:  24 Lines skipped:  24000 records collected:  1000  - latest recordID:  addCollateral   0xd643ca592784c258342d02d2e22b4480e6b806a75d77fdbc7790b33eb4702268  - actions DB length:  25000  - latest record from:  2023-02-09 04:55:11 1 days ago\n",
      "iterations:  25 Lines skipped:  25000 records collected:  1000  - latest recordID:  removeCollateral   0x6d8ce1e40ed662ba3327b182f9d9ffae9443fb13bfbb3e03dd5908727d60e7f8  - actions DB length:  26000  - latest record from:  2023-02-09 04:10:11 1 days ago\n",
      "iterations:  26 Lines skipped:  26000 records collected:  1000  - latest recordID:  removeCollateral   0x57883c70bcdb43a1aa8e169295aeac57f30c288c03e6b96a9e2827e551261b9f  - actions DB length:  27000  - latest record from:  2023-02-08 22:44:59 2 days ago\n",
      "iterations:  27 Lines skipped:  27000 records collected:  1000  - latest recordID:  removeCollateral   0xf1391d046913eca25021c8eb8974d370089e1cdc74f77bd8898f56c7330d5039  - actions DB length:  28000  - latest record from:  2023-02-08 22:40:35 2 days ago\n",
      "iterations:  28 Lines skipped:  28000 records collected:  1000  - latest recordID:  repayAsset   0x7f9a9b4079f340cc010ddcf1ccbac3db2e1ea4e29adb9fec370000858744d38c  - actions DB length:  29000  - latest record from:  2023-02-08 22:39:47 2 days ago\n",
      "iterations:  29 Lines skipped:  29000 records collected:  1000  - latest recordID:  borrowAsset   0x4017bc338022ebff43c95d17cd8ae339d3663b31aa7bc715be25e2a2e873d75c+1  - actions DB length:  30000  - latest record from:  2023-02-08 19:39:47 2 days ago\n",
      "iterations:  30 Lines skipped:  30000 records collected:  1000  - latest recordID:  addCollateral   0x4017bc338022ebff43c95d17cd8ae339d3663b31aa7bc715be25e2a2e873d75c  - actions DB length:  31000  - latest record from:  2023-02-08 19:39:47 2 days ago\n",
      "iterations:  31 Lines skipped:  31000 records collected:  1000  - latest recordID:  removeCollateral   0xb2dc4e73b817320ffcf34c86dc9d411786e37f8af2ad739fe9eba048b40c0126  - actions DB length:  32000  - latest record from:  2023-02-08 16:01:59 2 days ago\n",
      "iterations:  32 Lines skipped:  32000 records collected:  1000  - latest recordID:  repayAsset   0xbc537609adb35fdd165f22a83da392b898080e7e2b7046c595d42bb37e971e77  - actions DB length:  33000  - latest record from:  2023-02-08 16:00:35 2 days ago\n",
      "iterations:  33 Lines skipped:  33000 records collected:  1000  - latest recordID:  borrowAsset   0x7df62271c4a8279ff7bf52964c87454584b629575af66e377b9b53694f5b0112+1  - actions DB length:  34000  - latest record from:  2023-02-08 13:00:59 2 days ago\n",
      "iterations:  34 Lines skipped:  34000 records collected:  1000  - latest recordID:  addCollateral   0x7df62271c4a8279ff7bf52964c87454584b629575af66e377b9b53694f5b0112  - actions DB length:  35000  - latest record from:  2023-02-08 13:00:59 2 days ago\n",
      "iterations:  35 Lines skipped:  35000 records collected:  1000  - latest recordID:  borrowAsset   0x24436c0d5c6419ffac45c32d4115128f4075a9ace8720bf12dc8048de6086a42+1  - actions DB length:  36000  - latest record from:  2023-02-08 12:07:47 2 days ago\n",
      "iterations:  36 Lines skipped:  36000 records collected:  1000  - latest recordID:  addCollateral   0x24436c0d5c6419ffac45c32d4115128f4075a9ace8720bf12dc8048de6086a42  - actions DB length:  37000  - latest record from:  2023-02-08 12:07:47 2 days ago\n",
      "iterations:  37 Lines skipped:  37000 records collected:  1000  - latest recordID:  borrowAsset   0x5520cee4dfed2595a6f9d0de5f3b8f26b874112fa11efa5347785b23ceca27ab  - actions DB length:  38000  - latest record from:  2023-02-08 12:04:23 2 days ago\n",
      "iterations:  38 Lines skipped:  38000 records collected:  1000  - latest recordID:  borrowAsset   0x4e156dda6a27c39160c859b3b5327334d50c02b8d09fa3fa4c08164344f17217+1  - actions DB length:  39000  - latest record from:  2023-02-08 11:58:59 2 days ago\n",
      "iterations:  39 Lines skipped:  39000 records collected:  1000  - latest recordID:  addCollateral   0x4e156dda6a27c39160c859b3b5327334d50c02b8d09fa3fa4c08164344f17217  - actions DB length:  40000  - latest record from:  2023-02-08 11:58:59 2 days ago\n",
      "iterations:  40 Lines skipped:  40000 records collected:  1000  - latest recordID:  borrowAsset   0x4b3964dc8e347cb40ffbac555be28c2261df0f076aa61d4972a9fb5942151d2f  - actions DB length:  41000  - latest record from:  2023-02-08 11:56:23 2 days ago\n",
      "iterations:  41 Lines skipped:  41000 records collected:  1000  - latest recordID:  borrowAsset   0xfd08d4987b9ba88e59c23667c6c177ffeaab6f7d1af18194b1fa540212efd1b8+1  - actions DB length:  42000  - latest record from:  2023-02-08 08:38:11 2 days ago\n",
      "iterations:  42 Lines skipped:  42000 records collected:  1000  - latest recordID:  addCollateral   0xfd08d4987b9ba88e59c23667c6c177ffeaab6f7d1af18194b1fa540212efd1b8  - actions DB length:  43000  - latest record from:  2023-02-08 08:38:11 2 days ago\n",
      "iterations:  43 Lines skipped:  43000 records collected:  1000  - latest recordID:  repayAsset   0x87953dce0f55cdd157c52fb9ce2ede8c34012f0c2c2922e3f7e2d784bafc7f9b  - actions DB length:  44000  - latest record from:  2023-02-07 18:50:11 3 days ago\n",
      "iterations:  44 Lines skipped:  44000 records collected:  1000  - latest recordID:  removeCollateral   0xf7b38e66cb9f10e080eece1db80bd31c70298121a6df5fcb6436976b3f02b5ed  - actions DB length:  45000  - latest record from:  2023-02-07 17:43:23 3 days ago\n",
      "iterations:  45 Lines skipped:  45000 records collected:  1000  - latest recordID:  addCollateral   0x0509d1c3f87fb34f957cf8f474166a4960baf6b7f3209794fb850d826ab2b5c3  - actions DB length:  46000  - latest record from:  2023-02-07 14:24:59 3 days ago\n",
      "iterations:  46 Lines skipped:  46000 records collected:  1000  - latest recordID:  borrowAsset   0x16f81815f26c71a21323e3cf68772f0f2250263a2307559bda56ed0c697da404  - actions DB length:  47000  - latest record from:  2023-02-07 14:22:59 3 days ago\n",
      "iterations:  47 Lines skipped:  47000 records collected:  1000  - latest recordID:  borrowAsset   0x6d2b4b3ab5d7d7b20dc8abdb7ab009303a9f2614f03093afbc00ff83b256b55b+1  - actions DB length:  48000  - latest record from:  2023-02-07 14:22:11 3 days ago\n",
      "iterations:  48 Lines skipped:  48000 records collected:  1000  - latest recordID:  addCollateral   0x6d2b4b3ab5d7d7b20dc8abdb7ab009303a9f2614f03093afbc00ff83b256b55b  - actions DB length:  49000  - latest record from:  2023-02-07 14:22:11 3 days ago\n",
      "iterations:  49 Lines skipped:  49000 records collected:  1000  - latest recordID:  borrowAsset   0x5b9cb6e3e76280f768a0a171db73925c98489b3f25193e28eae3bb0bffbc0547+1  - actions DB length:  50000  - latest record from:  2023-02-07 10:35:23 3 days ago\n",
      "iterations:  50 Lines skipped:  50000 records collected:  1000  - latest recordID:  addCollateral   0x5b9cb6e3e76280f768a0a171db73925c98489b3f25193e28eae3bb0bffbc0547  - actions DB length:  51000  - latest record from:  2023-02-07 10:35:23 3 days ago\n",
      "iterations:  51 Lines skipped:  51000 records collected:  1000  - latest recordID:  borrowAsset   0x9be2488f1c1bd4e912249b7977d2112c7c778f8f4eddde715d4f335cef8a1ed2+1  - actions DB length:  52000  - latest record from:  2023-02-07 06:01:11 3 days ago\n",
      "iterations:  52 Lines skipped:  52000 records collected:  1000  - latest recordID:  addCollateral   0x9be2488f1c1bd4e912249b7977d2112c7c778f8f4eddde715d4f335cef8a1ed2  - actions DB length:  53000  - latest record from:  2023-02-07 06:01:11 3 days ago\n",
      "iterations:  53 Lines skipped:  53000 records collected:  1000  - latest recordID:  borrowAsset   0xbefa2e59d3e8d0c431dfac8ce9aca2e00fb0a17e66a56512be1b47b740d95089  - actions DB length:  54000  - latest record from:  2023-02-07 05:58:47 3 days ago\n",
      "iterations:  54 Lines skipped:  54000 records collected:  1000  - latest recordID:  repayAsset   0x780b2ae8e35f8c6155032b8211eb8e1fbdb0011af9147f5b05d5886cfd120ac5  - actions DB length:  55000  - latest record from:  2023-02-06 21:37:23 4 days ago\n",
      "iterations:  55 Lines skipped:  55000 records collected:  1000  - latest recordID:  borrowAsset   0x834ce05c7b0e411a74bac4beaead4639905451289a4762e6639336546f6f57aa  - actions DB length:  56000  - latest record from:  2023-02-06 19:18:11 4 days ago\n",
      "iterations:  56 Lines skipped:  56000 records collected:  1000  - latest recordID:  borrowAsset   0xd824db46f2929d7f851c883c6d8a16309ed1c6a4467b6199dc28d0bdc3e109f4+1  - actions DB length:  57000  - latest record from:  2023-02-06 19:17:23 4 days ago\n",
      "iterations:  57 Lines skipped:  57000 records collected:  1000  - latest recordID:  addCollateral   0xd824db46f2929d7f851c883c6d8a16309ed1c6a4467b6199dc28d0bdc3e109f4  - actions DB length:  58000  - latest record from:  2023-02-06 19:17:23 4 days ago\n",
      "iterations:  58 Lines skipped:  58000 records collected:  1000  - latest recordID:  removeAsset   0x364fc3214b25629d0d134c2a62aac9aaac6436dc219bbfc58c57798bc55871dd  - actions DB length:  59000  - latest record from:  2023-02-06 15:01:11 4 days ago\n",
      "iterations:  59 Lines skipped:  59000 records collected:  1000  - latest recordID:  borrowAsset   0x326e0444e2ccf71f1285954fdbbcc855c29485f92ea0a6d490a515a40dff7aec+1  - actions DB length:  60000  - latest record from:  2023-02-06 10:45:11 4 days ago\n",
      "iterations:  60 Lines skipped:  60000 records collected:  1000  - latest recordID:  addCollateral   0x326e0444e2ccf71f1285954fdbbcc855c29485f92ea0a6d490a515a40dff7aec  - actions DB length:  61000  - latest record from:  2023-02-06 10:45:11 4 days ago\n",
      "iterations:  61 Lines skipped:  61000 records collected:  1000  - latest recordID:  borrowAsset   0x6b99b9e2f74062143534c02a79920d1c33f6d56fcd051943e76778982bd2cdd9+1  - actions DB length:  62000  - latest record from:  2023-02-06 09:02:23 4 days ago\n",
      "iterations:  62 Lines skipped:  62000 records collected:  1000  - latest recordID:  addCollateral   0x6b99b9e2f74062143534c02a79920d1c33f6d56fcd051943e76778982bd2cdd9  - actions DB length:  63000  - latest record from:  2023-02-06 09:02:23 4 days ago\n",
      "iterations:  63 Lines skipped:  63000 records collected:  1000  - latest recordID:  removeCollateral   0x0b18b1c7c3dafc9ef9f513f540f1de376325ceec3962a5e8de18978a72efbebf  - actions DB length:  64000  - latest record from:  2023-02-06 08:52:11 4 days ago\n",
      "iterations:  64 Lines skipped:  64000 records collected:  1000  - latest recordID:  borrowAsset   0x996d854115a22865e3a5ac1a4ee49b33ce889ea4b8e6c67d764cf64804d315d3+1  - actions DB length:  65000  - latest record from:  2023-02-06 03:42:11 4 days ago\n",
      "iterations:  65 Lines skipped:  65000 records collected:  1000  - latest recordID:  addCollateral   0x996d854115a22865e3a5ac1a4ee49b33ce889ea4b8e6c67d764cf64804d315d3  - actions DB length:  66000  - latest record from:  2023-02-06 03:42:11 4 days ago\n",
      "iterations:  66 Lines skipped:  66000 records collected:  1000  - latest recordID:  removeCollateral   0x552a52cd82bbebd0c5c0a9927eb3038c02786eef571b471364e4bc58a8777051  - actions DB length:  67000  - latest record from:  2023-02-06 03:38:11 4 days ago\n",
      "iterations:  67 Lines skipped:  67000 records collected:  1000  - latest recordID:  addAsset   0xcbda7b3075b591cb56f138137c3a0473f29c824ed257f65f51fa421717b8431b  - actions DB length:  68000  - latest record from:  2023-02-05 21:13:59 5 days ago\n",
      "iterations:  68 Lines skipped:  68000 records collected:  1000  - latest recordID:  removeCollateral   0x60c347a83d10615197b96f4d23f6760e8947668d8ea33377c3f6d700b0999bc8  - actions DB length:  69000  - latest record from:  2023-02-05 16:27:35 5 days ago\n",
      "iterations:  69 Lines skipped:  69000 records collected:  1000  - latest recordID:  repayAsset   0xea0b3054fc21bd86b06f4f015561d14f12fa49c1e1127bf5b614a843de9b7c64  - actions DB length:  70000  - latest record from:  2023-02-05 16:25:23 5 days ago\n",
      "iterations:  70 Lines skipped:  70000 records collected:  1000  - latest recordID:  removeCollateral   0xc0e0cbfdf272c9176ad6fc9d5b25cdf33bfaafba6c8c22ebe91250778aec9e8b  - actions DB length:  71000  - latest record from:  2023-02-05 14:09:23 5 days ago\n",
      "iterations:  71 Lines skipped:  71000 records collected:  1000  - latest recordID:  repayAsset   0xbbc80a25645a9e2dc1d704832a11c0d442d7022d59a4d6959718d04bf3e7d0cc  - actions DB length:  72000  - latest record from:  2023-02-05 14:04:11 5 days ago\n",
      "iterations:  72 Lines skipped:  72000 records collected:  1000  - latest recordID:  borrowAsset   0xa979b2ca17af70bdbe5f6804cbfbdd885d26175a6ab19ae94c4b909aa3446e81  - actions DB length:  73000  - latest record from:  2023-02-05 11:39:11 5 days ago\n",
      "iterations:  73 Lines skipped:  73000 records collected:  1000  - latest recordID:  addCollateral   0xf79086c46e8db29afdfa2f26bc6f6e4f4ea9a58cdce3a7227379e7bfa00d2c92  - actions DB length:  74000  - latest record from:  2023-02-05 11:35:47 5 days ago\n",
      "iterations:  74 Lines skipped:  74000 records collected:  1000  - latest recordID:  borrowAsset   0x20a5beee4b3159a97bec055f86cb38f6418a693c87cff1ce8832610b2113ab71+1  - actions DB length:  75000  - latest record from:  2023-02-05 09:38:11 5 days ago\n",
      "iterations:  75 Lines skipped:  75000 records collected:  1000  - latest recordID:  addCollateral   0x20a5beee4b3159a97bec055f86cb38f6418a693c87cff1ce8832610b2113ab71  - actions DB length:  76000  - latest record from:  2023-02-05 09:38:11 5 days ago\n",
      "iterations:  76 Lines skipped:  76000 records collected:  1000  - latest recordID:  removeAsset   0x203a5a3c0c301fcd1a1439ef77d214f0ed7fc0b4796cf656671874f695449d70  - actions DB length:  77000  - latest record from:  2023-02-05 09:19:11 5 days ago\n",
      "iterations:  77 Lines skipped:  77000 records collected:  1000  - latest recordID:  removeAsset   0xc9ad8e2eab317298ee30b2bdb483effb0e40293e8ced5e2c82d93e4b98afe755  - actions DB length:  78000  - latest record from:  2023-02-05 01:32:11 5 days ago\n",
      "iterations:  78 Lines skipped:  78000 records collected:  1000  - latest recordID:  removeAsset   0x77d537ee18009ccc59d95c2704aa35615ea7501716a436ffbbad7687a145600a  - actions DB length:  79000  - latest record from:  2023-02-05 00:14:59 6 days ago\n",
      "iterations:  79 Lines skipped:  79000 records collected:  1000  - latest recordID:  addAsset   0x34def1c3f26d7857d5a1777b3065112f0802c95ee52bf46d1cba579861a3c649  - actions DB length:  80000  - latest record from:  2023-02-03 11:11:35 7 days ago\n",
      "iterations:  80 Lines skipped:  80000 records collected:  1000  - latest recordID:  removeAsset   0xc8471a07381cc2fbab59ee374586cea332bf39132a7f22b54fc50d6db2e59d30  - actions DB length:  81000  - latest record from:  2023-02-03 10:50:23 7 days ago\n",
      "iterations:  81 Lines skipped:  81000 records collected:  1000  - latest recordID:  addAsset   0xdea09eb1f1c443979719b5c2123fb80050c787851768fdfe0265ac690d589041  - actions DB length:  82000  - latest record from:  2023-02-03 08:56:59 7 days ago\n",
      "iterations:  82 Lines skipped:  82000 records collected:  1000  - latest recordID:  borrowAsset   0xab89c1a653789aac01381cdf75975ab768411978fe1d3ad38171a29cd2fffc3a  - actions DB length:  83000  - latest record from:  2023-02-03 07:31:23 7 days ago\n",
      "iterations:  83 Lines skipped:  83000 records collected:  1000  - latest recordID:  borrowAsset   0x2b4448fd953c5accbab7d852020be209da0f5eb8307119d96a6a90db2ee6e8d7+1  - actions DB length:  84000  - latest record from:  2023-02-02 15:47:35 8 days ago\n",
      "iterations:  84 Lines skipped:  84000 records collected:  1000  - latest recordID:  addCollateral   0x2b4448fd953c5accbab7d852020be209da0f5eb8307119d96a6a90db2ee6e8d7  - actions DB length:  85000  - latest record from:  2023-02-02 15:47:35 8 days ago\n",
      "iterations:  85 Lines skipped:  85000 records collected:  1000  - latest recordID:  borrowAsset   0xd4b76291ca09549fa743fa83438a482f74730e480b8c4c061a10d7d7cee2f473  - actions DB length:  86000  - latest record from:  2023-02-02 15:01:11 8 days ago\n",
      "iterations:  86 Lines skipped:  86000 records collected:  1000  - latest recordID:  addCollateral   0x561d220422d20801fc65fefe683669eaf3e5fba6e4a8b35648e2109d79d8172b  - actions DB length:  87000  - latest record from:  2023-02-02 14:59:59 8 days ago\n",
      "iterations:  87 Lines skipped:  87000 records collected:  1000  - latest recordID:  borrowAsset   0x37f5137e3d9f012fd557e769aafc97bb1aa9d6519dc6a4f1ef36689c4c22f227  - actions DB length:  88000  - latest record from:  2023-02-02 14:54:47 8 days ago\n",
      "iterations:  88 Lines skipped:  88000 records collected:  1000  - latest recordID:  addCollateral   0xf121ac2f8ca25a303edb67091899460e6454f3f0a0afa66c31c730206d59587f  - actions DB length:  89000  - latest record from:  2023-02-02 14:53:59 8 days ago\n",
      "iterations:  89 Lines skipped:  89000 records collected:  1000  - latest recordID:  borrowAsset   0xc3dc02ee3cadd2ffb49e08af9305d2d8d8cd03ff3425816e6f28ccb75ca98475+1  - actions DB length:  90000  - latest record from:  2023-02-02 08:22:47 8 days ago\n",
      "iterations:  90 Lines skipped:  90000 records collected:  1000  - latest recordID:  addCollateral   0xc3dc02ee3cadd2ffb49e08af9305d2d8d8cd03ff3425816e6f28ccb75ca98475  - actions DB length:  91000  - latest record from:  2023-02-02 08:22:47 8 days ago\n",
      "iterations:  91 Lines skipped:  91000 records collected:  1000  - latest recordID:  borrowAsset   0x507874609d7eff32999ea66304d4d137ae8f1854fce52653d113ac80b4099778+1  - actions DB length:  92000  - latest record from:  2023-02-02 08:21:47 8 days ago\n",
      "iterations:  92 Lines skipped:  92000 records collected:  1000  - latest recordID:  addCollateral   0x507874609d7eff32999ea66304d4d137ae8f1854fce52653d113ac80b4099778  - actions DB length:  93000  - latest record from:  2023-02-02 08:21:47 8 days ago\n",
      "iterations:  93 Lines skipped:  93000 records collected:  1000  - latest recordID:  borrowAsset   0x333db65350964ed518ca0542b69b7cac675bc43f888727e6247e9c79e58c133c+1  - actions DB length:  94000  - latest record from:  2023-02-02 07:42:47 8 days ago\n",
      "iterations:  94 Lines skipped:  94000 records collected:  1000  - latest recordID:  addCollateral   0x333db65350964ed518ca0542b69b7cac675bc43f888727e6247e9c79e58c133c  - actions DB length:  95000  - latest record from:  2023-02-02 07:42:47 8 days ago\n",
      "iterations:  95 Lines skipped:  95000 records collected:  1000  - latest recordID:  borrowAsset   0x66a8ab00fe08a5204dbc4870d92d82cb4e5973525c58f76185cada22155c6865+1  - actions DB length:  96000  - latest record from:  2023-02-01 22:54:11 9 days ago\n",
      "iterations:  96 Lines skipped:  96000 records collected:  1000  - latest recordID:  addCollateral   0x66a8ab00fe08a5204dbc4870d92d82cb4e5973525c58f76185cada22155c6865  - actions DB length:  97000  - latest record from:  2023-02-01 22:54:11 9 days ago\n",
      "iterations:  97 Lines skipped:  97000 records collected:  1000  - latest recordID:  removeCollateral   0xbb5b4f513dcc2988c382a6a4a89906d01fe51bda47a2ffcc760a05762e2e4e9d  - actions DB length:  98000  - latest record from:  2023-02-01 21:34:23 9 days ago\n",
      "iterations:  98 Lines skipped:  98000 records collected:  1000  - latest recordID:  repayAsset   0xbc551659bec3d5aa222e74772d7af57e22adbb0265b7107e3cadbd7d39adcb93  - actions DB length:  99000  - latest record from:  2023-02-01 21:31:59 9 days ago\n",
      "iterations:  99 Lines skipped:  99000 records collected:  1000  - latest recordID:  borrowAsset   0xf99a05c329600918085e1b16c083ce5ae78ebffbe92897c92e121445cf2dd393  - actions DB length:  100000  - latest record from:  2023-02-01 18:34:59 9 days ago\n",
      "iterations:  100 Lines skipped:  100000 records collected:  1000  - latest recordID:  borrowAsset   0x03f55917c68857379d4805da693c7e4b5166b52b5b3adf2154d7206a5243dcf9  - actions DB length:  101000  - latest record from:  2023-02-01 16:54:47 9 days ago\n",
      "iterations:  101 Lines skipped:  101000 records collected:  1000  - latest recordID:  borrowAsset   0xc38d788823d01d7c34369e15962737ac808d80ef0cae930b28b40a38017cecc7  - actions DB length:  102000  - latest record from:  2023-02-01 13:01:35 9 days ago\n",
      "iterations:  102 Lines skipped:  102000 records collected:  1000  - latest recordID:  borrowAsset   0x26f7fd2ab436b9370a1b272345625be420f6895b1f58a933388b062e908b7375+1  - actions DB length:  103000  - latest record from:  2023-02-01 11:15:59 9 days ago\n",
      "iterations:  103 Lines skipped:  103000 records collected:  1000  - latest recordID:  addCollateral   0x26f7fd2ab436b9370a1b272345625be420f6895b1f58a933388b062e908b7375  - actions DB length:  104000  - latest record from:  2023-02-01 11:15:59 9 days ago\n",
      "iterations:  104 Lines skipped:  104000 records collected:  1000  - latest recordID:  removeAsset   0x2eabecd26a862fbfde0548df11eb2a3d6e2e07db38102415c55cae2df4c8a97a  - actions DB length:  105000  - latest record from:  2023-02-01 04:18:47 9 days ago\n",
      "iterations:  105 Lines skipped:  105000 records collected:  1000  - latest recordID:  removeAsset   0x64cd3f39e4424f168067d4ec7e4d6cb3a33b16a45affac42819a0f75aeabfdf4  - actions DB length:  106000  - latest record from:  2023-01-31 22:15:59 10 days ago\n",
      "iterations:  106 Lines skipped:  106000 records collected:  1000  - latest recordID:  borrowAsset   0x5b54915efb1fc5ec53fd70cb5dfe5cd1f0b63e4e4f246643ecc63dbd42d911cc+1  - actions DB length:  107000  - latest record from:  2023-01-31 16:48:59 10 days ago\n",
      "iterations:  107 Lines skipped:  107000 records collected:  1000  - latest recordID:  addCollateral   0x5b54915efb1fc5ec53fd70cb5dfe5cd1f0b63e4e4f246643ecc63dbd42d911cc  - actions DB length:  108000  - latest record from:  2023-01-31 16:48:59 10 days ago\n",
      "iterations:  108 Lines skipped:  108000 records collected:  1000  - latest recordID:  borrowAsset   0xb96734f96cd7d10ef3e099c366e019e04d4e04dd0e5825fef1ebe284fbdb1255  - actions DB length:  109000  - latest record from:  2023-01-31 16:46:47 10 days ago\n",
      "iterations:  109 Lines skipped:  109000 records collected:  1000  - latest recordID:  removeCollateral   0x8b38fcf78a096afd1c13f8367a8c29a9ee6de56b227933dac5a0b6a43c156639  - actions DB length:  110000  - latest record from:  2023-01-31 15:17:47 10 days ago\n",
      "iterations:  110 Lines skipped:  110000 records collected:  1000  - latest recordID:  borrowAsset   0x3f9dd85fe8726e91a22fcf2608395bbfe31457aac66693980c4961f32754d8c5  - actions DB length:  111000  - latest record from:  2023-01-31 11:19:11 10 days ago\n",
      "iterations:  111 Lines skipped:  111000 records collected:  1000  - latest recordID:  removeCollateral   0x3620ee62c513ce22c389c669837b6892edec06c212a5564faf6d6b716fb2e196  - actions DB length:  112000  - latest record from:  2023-01-31 11:03:23 10 days ago\n",
      "iterations:  112 Lines skipped:  112000 records collected:  1000  - latest recordID:  repayAsset   0x39d2e0dda120f10e067a19746b003e04ffd5738e2b8f8e0eaa5b86220a9ee7f0  - actions DB length:  113000  - latest record from:  2023-01-31 11:01:35 10 days ago\n",
      "iterations:  113 Lines skipped:  113000 records collected:  1000  - latest recordID:  removeCollateral   0x1ac69cd5cfc7a573065ce8303713aa391cafdcfa79f4456237f56db03f289605  - actions DB length:  114000  - latest record from:  2023-01-31 10:36:59 10 days ago\n",
      "iterations:  114 Lines skipped:  114000 records collected:  1000  - latest recordID:  repayAsset   0x2fa96a80ff4bff9c280c580010faaa9259d137ae459788780cc6f5f33ad25e24  - actions DB length:  115000  - latest record from:  2023-01-31 10:36:11 10 days ago\n",
      "iterations:  115 Lines skipped:  115000 records collected:  1000  - latest recordID:  removeAsset   0x24205218451b7ed0efb6de43a9c2aa0983fefcf7592ff2b4134e65ccffdaaa69  - actions DB length:  116000  - latest record from:  2023-01-31 10:30:47 10 days ago\n",
      "iterations:  116 Lines skipped:  116000 records collected:  1000  - latest recordID:  removeCollateral   0x4651d18a4d016e014a90f9db37b37d22979af9687dee18d99490d7fb61f0cee8  - actions DB length:  117000  - latest record from:  2023-01-31 06:39:47 10 days ago\n",
      "iterations:  117 Lines skipped:  117000 records collected:  1000  - latest recordID:  repayAsset   0xc3d1f2a03fdf879f70fea95fb65fa33512d6b2039963fd3892508f364cdd818b  - actions DB length:  118000  - latest record from:  2023-01-31 06:38:59 10 days ago\n",
      "iterations:  118 Lines skipped:  118000 records collected:  1000  - latest recordID:  borrowAsset   0xdde3beeb021c06b8f00659281dc2b2f150f6c38a3918f271591d84d50d664c85  - actions DB length:  119000  - latest record from:  2023-01-31 05:54:11 10 days ago\n",
      "iterations:  119 Lines skipped:  119000 records collected:  1000  - latest recordID:  removeCollateral   0x6d63493438806283fae73326820511d858a911e16e8d0456c425fb05e29e50bb  - actions DB length:  120000  - latest record from:  2023-01-31 03:24:47 10 days ago\n",
      "iterations:  120 Lines skipped:  120000 records collected:  1000  - latest recordID:  repayAsset   0x7ff20ac7dbf4eeabb6b51ea6b0b7ab3fa048bef1f6cd77b670ca2ddb2de42d7a  - actions DB length:  121000  - latest record from:  2023-01-31 03:24:11 10 days ago\n",
      "iterations:  121 Lines skipped:  121000 records collected:  1000  - latest recordID:  removeCollateral   0x38069e05261fc9ae203c5d2b6dca4658c7bb8dd856f1af87ed0d40df985eb24b  - actions DB length:  122000  - latest record from:  2023-01-31 00:26:11 10 days ago\n",
      "iterations:  122 Lines skipped:  122000 records collected:  1000  - latest recordID:  repayAsset   0x67e1ccc44736eb0c79b8d95c2cd635c189194ace49109b99b7ebdabf55acfdbd  - actions DB length:  123000  - latest record from:  2023-01-31 00:25:23 10 days ago\n",
      "iterations:  123 Lines skipped:  123000 records collected:  1000  - latest recordID:  removeCollateral   0xcdd8e49256df990f24e8811a4fd4999bc34356bc42ac29fb9bcc7782baa1cc2e  - actions DB length:  124000  - latest record from:  2023-01-30 17:35:59 11 days ago\n",
      "iterations:  124 Lines skipped:  124000 records collected:  1000  - latest recordID:  repayAsset   0xa0e6a9c8d172ea5a865df0d06a654953109d278876588d7c266d2f10ddb3ce4e  - actions DB length:  125000  - latest record from:  2023-01-30 17:27:47 11 days ago\n",
      "iterations:  125 Lines skipped:  125000 records collected:  1000  - latest recordID:  addAsset   0xa98494dbf8f20b5d0baf934b8e02f2068fb1436b6b57e4f7ca6c1005582afba8  - actions DB length:  126000  - latest record from:  2023-01-30 15:08:59 11 days ago\n",
      "iterations:  126 Lines skipped:  126000 records collected:  1000  - latest recordID:  addAsset   0x86e0d0e313fd87fb890da24c1eaeae7e83f8ea8791ef26451016a375bdaa97fb  - actions DB length:  127000  - latest record from:  2023-01-30 14:56:35 11 days ago\n",
      "iterations:  127 Lines skipped:  127000 records collected:  1000  - latest recordID:  borrowAsset   0xb762c343ba7caaf725fc219afb1b2b88652a50347c0a45ad8293c912aad4f360+1  - actions DB length:  128000  - latest record from:  2023-01-30 13:58:47 11 days ago\n",
      "iterations:  128 Lines skipped:  128000 records collected:  1000  - latest recordID:  addCollateral   0xb762c343ba7caaf725fc219afb1b2b88652a50347c0a45ad8293c912aad4f360  - actions DB length:  129000  - latest record from:  2023-01-30 13:58:47 11 days ago\n",
      "iterations:  129 Lines skipped:  129000 records collected:  1000  - latest recordID:  borrowAsset   0xcb488c0f31012d6ba649789562bbd7ba9ac0a4244aecae8f9a42cb511710fc84+1  - actions DB length:  130000  - latest record from:  2023-01-30 13:05:59 11 days ago\n",
      "iterations:  130 Lines skipped:  130000 records collected:  1000  - latest recordID:  addCollateral   0xcb488c0f31012d6ba649789562bbd7ba9ac0a4244aecae8f9a42cb511710fc84  - actions DB length:  131000  - latest record from:  2023-01-30 13:05:59 11 days ago\n",
      "iterations:  131 Lines skipped:  131000 records collected:  1000  - latest recordID:  addAsset   0x81c60c0301fed169a5eeee7739100fc83bf3d8e744500c9c9e37be1d31544729  - actions DB length:  132000  - latest record from:  2023-01-30 12:14:47 11 days ago\n",
      "iterations:  132 Lines skipped:  132000 records collected:  1000  - latest recordID:  repayAsset   0xd02d1e2223a9bb8288f8afd6e91a9fcd444e06db0f30a4f545a0c12fdefaf788  - actions DB length:  133000  - latest record from:  2023-01-30 11:18:59 11 days ago\n",
      "iterations:  133 Lines skipped:  133000 records collected:  1000  - latest recordID:  borrowAsset   0xb019c269f340d0182a2c38b01c25baa2bdb86c26ff32d10eea50d85de88e050b+1  - actions DB length:  134000  - latest record from:  2023-01-30 11:15:47 11 days ago\n",
      "iterations:  134 Lines skipped:  134000 records collected:  1000  - latest recordID:  addCollateral   0xb019c269f340d0182a2c38b01c25baa2bdb86c26ff32d10eea50d85de88e050b  - actions DB length:  135000  - latest record from:  2023-01-30 11:15:47 11 days ago\n",
      "iterations:  135 Lines skipped:  135000 records collected:  1000  - latest recordID:  removeCollateral   0x5c3636b95d45d40c1602ce895781517c7bda636e57fd8f67bc71b357c1d7a26b  - actions DB length:  136000  - latest record from:  2023-01-30 11:13:11 11 days ago\n",
      "iterations:  136 Lines skipped:  136000 records collected:  1000  - latest recordID:  removeAsset   0x6f00c50394c743c376fb4196f686e6f1a244991e01273ce80d85f53fd604209e  - actions DB length:  137000  - latest record from:  2023-01-30 10:21:59 11 days ago\n",
      "iterations:  137 Lines skipped:  137000 records collected:  1000  - latest recordID:  addAsset   0xce4366f2b230132cc3eca24b357f611a935a05f9c71db4f0f82c6751c9d024ef  - actions DB length:  138000  - latest record from:  2023-01-30 10:19:23 11 days ago\n",
      "iterations:  138 Lines skipped:  138000 records collected:  1000  - latest recordID:  borrowAsset   0xa0889721b0bfc7a8f345594323cf31bd0699312e2a16ed79febbaaa7bc6738b3+1  - actions DB length:  139000  - latest record from:  2023-01-30 10:09:59 11 days ago\n",
      "iterations:  139 Lines skipped:  139000 records collected:  1000  - latest recordID:  addCollateral   0xa0889721b0bfc7a8f345594323cf31bd0699312e2a16ed79febbaaa7bc6738b3  - actions DB length:  140000  - latest record from:  2023-01-30 10:09:59 11 days ago\n",
      "iterations:  140 Lines skipped:  140000 records collected:  1000  - latest recordID:  addAsset   0xfd6a50689b490e598386670f601d5323e1559ec0a1f040d6b7e1bfa9bc9d0a35  - actions DB length:  141000  - latest record from:  2023-01-30 10:04:23 11 days ago\n",
      "iterations:  141 Lines skipped:  141000 records collected:  1000  - latest recordID:  borrowAsset   0xcad74f96f5d001948501bcaaa1fde0e1b29d69974690dd7f5601a3be7bb6208f+1  - actions DB length:  142000  - latest record from:  2023-01-30 09:42:47 11 days ago\n",
      "iterations:  142 Lines skipped:  142000 records collected:  1000  - latest recordID:  addCollateral   0xcad74f96f5d001948501bcaaa1fde0e1b29d69974690dd7f5601a3be7bb6208f  - actions DB length:  143000  - latest record from:  2023-01-30 09:42:47 11 days ago\n",
      "iterations:  143 Lines skipped:  143000 records collected:  1000  - latest recordID:  borrowAsset   0x117b987a167e6bbf925887931623acb0d5111ee60ab90b760b0a7e442b37d22a+1  - actions DB length:  144000  - latest record from:  2023-01-30 09:37:23 11 days ago\n",
      "iterations:  144 Lines skipped:  144000 records collected:  1000  - latest recordID:  addCollateral   0x117b987a167e6bbf925887931623acb0d5111ee60ab90b760b0a7e442b37d22a  - actions DB length:  145000  - latest record from:  2023-01-30 09:37:23 11 days ago\n",
      "iterations:  145 Lines skipped:  145000 records collected:  1000  - latest recordID:  addAsset   0x984fcfc404bcbd7bd4a250b569285176fc6c41588bd2c185d62444afbdccecba  - actions DB length:  146000  - latest record from:  2023-01-30 08:15:23 11 days ago\n",
      "iterations:  146 Lines skipped:  146000 records collected:  1000  - latest recordID:  borrowAsset   0x9009bdb40b144cefea3025da53f1719fcc88b45789b8b26ac6ee6bf8fddc2b58  - actions DB length:  147000  - latest record from:  2023-01-30 06:19:35 11 days ago\n",
      "iterations:  147 Lines skipped:  147000 records collected:  1000  - latest recordID:  addAsset   0xa6498530b23f7c167a0458b584d903fc3674a8eafb263087348aa5d5313d2510  - actions DB length:  148000  - latest record from:  2023-01-30 05:54:11 11 days ago\n",
      "iterations:  148 Lines skipped:  148000 records collected:  1000  - latest recordID:  borrowAsset   0x00c9203154ead117956a5674fc6442d532e1f568956acf4a842e5f4544453edd+1  - actions DB length:  149000  - latest record from:  2023-01-30 03:11:47 11 days ago\n",
      "iterations:  149 Lines skipped:  149000 records collected:  1000  - latest recordID:  addCollateral   0x00c9203154ead117956a5674fc6442d532e1f568956acf4a842e5f4544453edd  - actions DB length:  150000  - latest record from:  2023-01-30 03:11:47 11 days ago\n",
      "iterations:  150 Lines skipped:  150000 records collected:  1000  - latest recordID:  removeCollateral   0xda11a6b0d87a14503fb837c873e3b03787fa11b1cee43b87c44a5a4eb788588a  - actions DB length:  151000  - latest record from:  2023-01-29 20:12:11 12 days ago\n",
      "iterations:  151 Lines skipped:  151000 records collected:  1000  - latest recordID:  repayAsset   0xa485b88b2785e32d1c0fc44f2b729fe68796f64e5c4e77f470bd3c81fb638ccb  - actions DB length:  152000  - latest record from:  2023-01-29 20:10:59 12 days ago\n",
      "iterations:  152 Lines skipped:  152000 records collected:  1000  - latest recordID:  repayAsset   0x7a2b9ce4d27f0d55aba0b23b2a6f7e2d990a7a95b86f2e1e2461eeeeb8aefccb  - actions DB length:  153000  - latest record from:  2023-01-29 20:09:59 12 days ago\n",
      "iterations:  153 Lines skipped:  153000 records collected:  1000  - latest recordID:  removeCollateral   0x8eaec0043e12ac03d5156000a030a4cf009e8f20403a6616fd7a50054ba5f173  - actions DB length:  154000  - latest record from:  2023-01-29 20:06:35 12 days ago\n",
      "iterations:  154 Lines skipped:  154000 records collected:  1000  - latest recordID:  repayAsset   0xc6c5ba5f24860cf7ad01d89a16379879644e15adb766b8a9085b6039fc98e0c1  - actions DB length:  155000  - latest record from:  2023-01-29 20:05:59 12 days ago\n",
      "iterations:  155 Lines skipped:  155000 records collected:  1000  - latest recordID:  removeCollateral   0x89951bd394ce27428ddfc3d0aeb7ce8eed85f27ecb6f00e52784bf6fd584621a  - actions DB length:  156000  - latest record from:  2023-01-29 20:00:11 12 days ago\n",
      "iterations:  156 Lines skipped:  156000 records collected:  1000  - latest recordID:  addAsset   0xfb6960860fccf3868bb4a146fdd455e78b895e48cb897e7e81d6cc6b51097374  - actions DB length:  157000  - latest record from:  2023-01-29 17:31:59 12 days ago\n",
      "iterations:  157 Lines skipped:  157000 records collected:  1000  - latest recordID:  borrowAsset   0x4e64144863feb7aeef178c857da2a3eb9c5344441e76a1e2f54ee2e54de0292b+1  - actions DB length:  158000  - latest record from:  2023-01-29 17:11:11 12 days ago\n",
      "iterations:  158 Lines skipped:  158000 records collected:  1000  - latest recordID:  addCollateral   0x4e64144863feb7aeef178c857da2a3eb9c5344441e76a1e2f54ee2e54de0292b  - actions DB length:  159000  - latest record from:  2023-01-29 17:11:11 12 days ago\n",
      "iterations:  159 Lines skipped:  159000 records collected:  1000  - latest recordID:  borrowAsset   0x8050f675a5a2230c4e276780727fd28ac50ff5aeeae1b8b27f650f74f74d15de  - actions DB length:  160000  - latest record from:  2023-01-29 17:09:47 12 days ago\n",
      "iterations:  160 Lines skipped:  160000 records collected:  1000  - latest recordID:  borrowAsset   0x9ded14039cfbe71d257bf940e6446cb6e4b84ce3c5e03c3d7e744f357b3e3a22+1  - actions DB length:  161000  - latest record from:  2023-01-29 12:51:59 12 days ago\n",
      "iterations:  161 Lines skipped:  161000 records collected:  1000  - latest recordID:  addCollateral   0x9ded14039cfbe71d257bf940e6446cb6e4b84ce3c5e03c3d7e744f357b3e3a22  - actions DB length:  162000  - latest record from:  2023-01-29 12:51:59 12 days ago\n",
      "iterations:  162 Lines skipped:  162000 records collected:  1000  - latest recordID:  removeAsset   0x300497dedab365bc5e89859aa3658407e968c15fc2644a3b82f82ca2bfb66791  - actions DB length:  163000  - latest record from:  2023-01-29 12:36:47 12 days ago\n",
      "iterations:  163 Lines skipped:  163000 records collected:  1000  - latest recordID:  repayAsset   0x3ec25a2edac08032910923a0e9684cdcf44bb27c9edd2b468eee29f5234cc036  - actions DB length:  164000  - latest record from:  2023-01-29 10:38:23 12 days ago\n",
      "iterations:  164 Lines skipped:  164000 records collected:  1000  - latest recordID:  removeAsset   0x138b846ce4e027dfe0a5229019f93c903a0d9fb2f3bd191c5b2e0c609e0a2731  - actions DB length:  165000  - latest record from:  2023-01-29 09:40:59 12 days ago\n",
      "iterations:  165 Lines skipped:  165000 records collected:  1000  - latest recordID:  borrowAsset   0xf26b0b5d8213192588a1e263b85ebc0c19ef815ccf4176c12d42b4db196b25fb  - actions DB length:  166000  - latest record from:  2023-01-29 09:16:35 12 days ago\n",
      "iterations:  166 Lines skipped:  166000 records collected:  1000  - latest recordID:  borrowAsset   0x367cbd3d6a90a55ee10003edfb8614643f75d0f1aa81480b674c0f56b1aa7611+1  - actions DB length:  167000  - latest record from:  2023-01-29 09:15:59 12 days ago\n",
      "iterations:  167 Lines skipped:  167000 records collected:  1000  - latest recordID:  addCollateral   0x367cbd3d6a90a55ee10003edfb8614643f75d0f1aa81480b674c0f56b1aa7611  - actions DB length:  168000  - latest record from:  2023-01-29 09:15:59 12 days ago\n",
      "iterations:  168 Lines skipped:  168000 records collected:  1000  - latest recordID:  borrowAsset   0x0b1ef544270323931d6c529967aa8af9b7050a201f4110378e4a0a8c3f7a9f15  - actions DB length:  169000  - latest record from:  2023-01-29 09:14:47 12 days ago\n",
      "iterations:  169 Lines skipped:  169000 records collected:  1000  - latest recordID:  removeAsset   0xd455ccfeeac88c33d369faf855885455b0d87f7c5d00bee4acc7d91bbd85f29e  - actions DB length:  170000  - latest record from:  2023-01-29 06:53:59 12 days ago\n",
      "iterations:  170 Lines skipped:  170000 records collected:  1000  - latest recordID:  borrowAsset   0x23d31ea5f3a1fba025c398eeb08de147b5bf09b0b36fd87cb1d7f524a7b09499+1  - actions DB length:  171000  - latest record from:  2023-01-28 13:46:59 13 days ago\n",
      "iterations:  171 Lines skipped:  171000 records collected:  1000  - latest recordID:  addCollateral   0x23d31ea5f3a1fba025c398eeb08de147b5bf09b0b36fd87cb1d7f524a7b09499  - actions DB length:  172000  - latest record from:  2023-01-28 13:46:59 13 days ago\n",
      "iterations:  172 Lines skipped:  172000 records collected:  1000  - latest recordID:  removeCollateral   0xf872e2deb9544fed4e23733debe362d88cb44026ab9adf434d05bdc3d33988ba  - actions DB length:  173000  - latest record from:  2023-01-28 12:56:23 13 days ago\n",
      "iterations:  173 Lines skipped:  173000 records collected:  1000  - latest recordID:  addAsset   0x95550f6d6f6c17fca583242bcbdd54389648e13a414b76d3936b423776bc588a  - actions DB length:  174000  - latest record from:  2023-01-28 12:29:23 13 days ago\n",
      "iterations:  174 Lines skipped:  174000 records collected:  1000  - latest recordID:  borrowAsset   0xad25ebe4b1becb395eb0f1e1c85ca94f4d3efdee4874408d5a4d55f87c29257f+1  - actions DB length:  175000  - latest record from:  2023-01-27 09:40:11 14 days ago\n",
      "iterations:  175 Lines skipped:  175000 records collected:  1000  - latest recordID:  addCollateral   0xad25ebe4b1becb395eb0f1e1c85ca94f4d3efdee4874408d5a4d55f87c29257f  - actions DB length:  176000  - latest record from:  2023-01-27 09:40:11 14 days ago\n",
      "iterations:  176 Lines skipped:  176000 records collected:  1000  - latest recordID:  borrowAsset   0xd2640e90d1a46aa392b42d6ecaf52c2650284f8e71cdfa60c5198d87f07afb79+1  - actions DB length:  177000  - latest record from:  2023-01-27 06:33:59 14 days ago\n",
      "iterations:  177 Lines skipped:  177000 records collected:  1000  - latest recordID:  addCollateral   0xd2640e90d1a46aa392b42d6ecaf52c2650284f8e71cdfa60c5198d87f07afb79  - actions DB length:  178000  - latest record from:  2023-01-27 06:33:59 14 days ago\n",
      "iterations:  178 Lines skipped:  178000 records collected:  1000  - latest recordID:  removeAsset   0x73fc1dafef2f8ea53fa1ab442a8ef07510a0368130ad2b9d955a65629749a410  - actions DB length:  179000  - latest record from:  2023-01-27 04:31:35 14 days ago\n",
      "iterations:  179 Lines skipped:  179000 records collected:  1000  - latest recordID:  borrowAsset   0x38c758afd10bd55fc310e374f7f52237e839a9bab0b3a74ef17a3cccd76b2741+1  - actions DB length:  180000  - latest record from:  2023-01-26 17:57:11 15 days ago\n",
      "iterations:  180 Lines skipped:  180000 records collected:  1000  - latest recordID:  addCollateral   0x38c758afd10bd55fc310e374f7f52237e839a9bab0b3a74ef17a3cccd76b2741  - actions DB length:  181000  - latest record from:  2023-01-26 17:57:11 15 days ago\n",
      "iterations:  181 Lines skipped:  181000 records collected:  1000  - latest recordID:  removeCollateral   0xdc2c385e00d5997affffb49e10327009aa5bf9a3cd8e4b2aa64ca2201172c329  - actions DB length:  182000  - latest record from:  2023-01-26 16:57:23 15 days ago\n",
      "iterations:  182 Lines skipped:  182000 records collected:  1000  - latest recordID:  borrowAsset   0x460d33fa9bd03fc3dcf892d3bdb74ca8774cc20d4bbb63cfc4d7577b44b98c7c  - actions DB length:  183000  - latest record from:  2023-01-26 14:18:47 15 days ago\n",
      "iterations:  183 Lines skipped:  183000 records collected:  1000  - latest recordID:  removeCollateral   0x33de61df37e83e86f20ca6c1b245c753e415d1be7441c8d8c64710e422b24f7a  - actions DB length:  184000  - latest record from:  2023-01-26 12:44:11 15 days ago\n",
      "iterations:  184 Lines skipped:  184000 records collected:  1000  - latest recordID:  repayAsset   0xa12fb236c45bf339bdf36cbcb13c7ae44e7ca97ac486143643635eabb4876907  - actions DB length:  185000  - latest record from:  2023-01-26 12:42:47 15 days ago\n",
      "iterations:  185 Lines skipped:  185000 records collected:  1000  - latest recordID:  borrowAsset   0x6bdac83d4e1480ede4153fc63186a108078c8dd8de6a35e6b29ba25f2acf347d  - actions DB length:  186000  - latest record from:  2023-01-26 12:36:59 15 days ago\n",
      "iterations:  186 Lines skipped:  186000 records collected:  1000  - latest recordID:  borrowAsset   0x32ebb0fd3e85620656962354025d1fe63b5599c5afa9f7d505beaa92d192b902  - actions DB length:  187000  - latest record from:  2023-01-26 06:58:35 15 days ago\n",
      "iterations:  187 Lines skipped:  187000 records collected:  1000  - latest recordID:  addAsset   0x21d541d24e806094005c8424c4cd99ded740b06197f59ba911d8b98dc32f1105  - actions DB length:  188000  - latest record from:  2023-01-26 06:38:47 15 days ago\n",
      "iterations:  188 Lines skipped:  188000 records collected:  1000  - latest recordID:  borrowAsset   0x1607d81d51333d223190e0346001d4cb119c58bd6f8cbca495ff799e9f3c47b5  - actions DB length:  189000  - latest record from:  2023-01-26 06:06:59 15 days ago\n",
      "iterations:  189 Lines skipped:  189000 records collected:  1000  - latest recordID:  removeCollateral   0x7ad5ad423cc17771937c7d98ff5dcfb833226ec43251e627176881d8cbebed44  - actions DB length:  190000  - latest record from:  2023-01-26 06:00:59 15 days ago\n",
      "iterations:  190 Lines skipped:  190000 records collected:  1000  - latest recordID:  removeCollateral   0x6fdfa651f461787a7d66bf8d5ceec574f190b2fd2cb8d6f046b275be24adb56e  - actions DB length:  191000  - latest record from:  2023-01-26 05:48:47 15 days ago\n",
      "iterations:  191 Lines skipped:  191000 records collected:  1000  - latest recordID:  borrowAsset   0x8fbd9ed9f23e817a98a71ff4c37e9cfe6e1a682e50983d98f4addbe5b41196e0+1  - actions DB length:  192000  - latest record from:  2023-01-26 03:51:11 15 days ago\n",
      "iterations:  192 Lines skipped:  192000 records collected:  1000  - latest recordID:  addCollateral   0x8fbd9ed9f23e817a98a71ff4c37e9cfe6e1a682e50983d98f4addbe5b41196e0  - actions DB length:  193000  - latest record from:  2023-01-26 03:51:11 15 days ago\n",
      "iterations:  193 Lines skipped:  193000 records collected:  1000  - latest recordID:  borrowAsset   0xee376200e715c6c5f759c281cf94079f96ec50f667d0f51a9f61eb542c718491  - actions DB length:  194000  - latest record from:  2023-01-26 02:39:23 15 days ago\n",
      "iterations:  194 Lines skipped:  194000 records collected:  1000  - latest recordID:  addCollateral   0xb29a0dfff24aaef06861b69d20a41d8df80554bae829d3e16dd7143acf66b24d  - actions DB length:  195000  - latest record from:  2023-01-26 02:36:23 15 days ago\n",
      "iterations:  195 Lines skipped:  195000 records collected:  1000  - latest recordID:  addCollateral   0x9a0ce98b3daefb436073ccd8e3750d70a4013f44a7110277c07f58234317cc4a  - actions DB length:  196000  - latest record from:  2023-01-25 15:41:59 16 days ago\n",
      "iterations:  196 Lines skipped:  196000 records collected:  1000  - latest recordID:  borrowAsset   0x06b1f874b3b0444a7c7b48524d8a4537021fdd1592b2ab54c914f0441b78a284  - actions DB length:  197000  - latest record from:  2023-01-25 15:35:23 16 days ago\n",
      "iterations:  197 Lines skipped:  197000 records collected:  1000  - latest recordID:  borrowAsset   0xb984c468dfe971a60156c1d3cd4f58881e918b64ef18a717892617c1c77f8f00  - actions DB length:  198000  - latest record from:  2023-01-25 12:39:47 16 days ago\n",
      "iterations:  198 Lines skipped:  198000 records collected:  1000  - latest recordID:  borrowAsset   0x369edade729ed5bd71f3dd52a25b3506a41e1deeb1687a7e5e54a5eb2a3d8618  - actions DB length:  199000  - latest record from:  2023-01-25 12:36:35 16 days ago\n",
      "iterations:  199 Lines skipped:  199000 records collected:  1000  - latest recordID:  addAsset   0x0abd7c47061632a186ecea8bec4231bc340c01971bcdf10148c99889affd331a  - actions DB length:  200000  - latest record from:  2023-01-25 07:52:59 16 days ago\n",
      "iterations:  200 Lines skipped:  200000 records collected:  1000  - latest recordID:  removeAsset   0x681c3b71291aabed9d25ab9882ca0279f65d530b20884e9809224dd3b3b38a3a  - actions DB length:  201000  - latest record from:  2023-01-25 00:10:35 17 days ago\n",
      "iterations:  201 Lines skipped:  201000 records collected:  1000  - latest recordID:  borrowAsset   0x8a270186763feef09a1a07a2b84e3d09b985abef451b00bac49349caa15cac70+1  - actions DB length:  202000  - latest record from:  2023-01-24 19:37:35 17 days ago\n",
      "iterations:  202 Lines skipped:  202000 records collected:  1000  - latest recordID:  addCollateral   0x8a270186763feef09a1a07a2b84e3d09b985abef451b00bac49349caa15cac70  - actions DB length:  203000  - latest record from:  2023-01-24 19:37:35 17 days ago\n",
      "iterations:  203 Lines skipped:  203000 records collected:  1000  - latest recordID:  borrowAsset   0x9eb930c388325704d1d580f4c11802712a543e34f90a772c59342bc1571db577+1  - actions DB length:  204000  - latest record from:  2023-01-24 18:06:11 17 days ago\n",
      "iterations:  204 Lines skipped:  204000 records collected:  1000  - latest recordID:  addCollateral   0x9eb930c388325704d1d580f4c11802712a543e34f90a772c59342bc1571db577  - actions DB length:  205000  - latest record from:  2023-01-24 18:06:11 17 days ago\n",
      "iterations:  205 Lines skipped:  205000 records collected:  1000  - latest recordID:  borrowAsset   0xc94553ec769713acc8a94bc2c77839381e444a53d07706ec285c6c1afd2735ea+1  - actions DB length:  206000  - latest record from:  2023-01-24 17:47:35 17 days ago\n",
      "iterations:  206 Lines skipped:  206000 records collected:  1000  - latest recordID:  addCollateral   0xc94553ec769713acc8a94bc2c77839381e444a53d07706ec285c6c1afd2735ea  - actions DB length:  207000  - latest record from:  2023-01-24 17:47:35 17 days ago\n",
      "iterations:  207 Lines skipped:  207000 records collected:  1000  - latest recordID:  addAsset   0xb010bd34956101ae6d1c62818885499c46396a88f689132a8800ea15f176db0d  - actions DB length:  208000  - latest record from:  2023-01-24 13:46:47 17 days ago\n",
      "iterations:  208 Lines skipped:  208000 records collected:  1000  - latest recordID:  borrowAsset   0xc6ebc75658d1958b2c61ccbc7c7a82eaead8a95de74242dcbce185fa60820fda+1  - actions DB length:  209000  - latest record from:  2023-01-23 16:03:59 18 days ago\n",
      "iterations:  209 Lines skipped:  209000 records collected:  1000  - latest recordID:  addCollateral   0xc6ebc75658d1958b2c61ccbc7c7a82eaead8a95de74242dcbce185fa60820fda  - actions DB length:  210000  - latest record from:  2023-01-23 16:03:59 18 days ago\n",
      "iterations:  210 Lines skipped:  210000 records collected:  1000  - latest recordID:  removeCollateral   0xb03a2856d37f5eea58e5a69ca2a26a683a18c31a9129c09f16a543342afb2081  - actions DB length:  211000  - latest record from:  2023-01-23 15:43:47 18 days ago\n",
      "iterations:  211 Lines skipped:  211000 records collected:  1000  - latest recordID:  borrowAsset   0x1ad635e17337c663732f656586d178120258bee4f116e3561a88d21a6652d2ba+1  - actions DB length:  212000  - latest record from:  2023-01-23 13:50:35 18 days ago\n",
      "iterations:  212 Lines skipped:  212000 records collected:  1000  - latest recordID:  addCollateral   0x1ad635e17337c663732f656586d178120258bee4f116e3561a88d21a6652d2ba  - actions DB length:  213000  - latest record from:  2023-01-23 13:50:35 18 days ago\n",
      "iterations:  213 Lines skipped:  213000 records collected:  1000  - latest recordID:  removeCollateral   0xbe00b9055dd99e5184284bdcb5a881dfed688471882e14fde56be6a2981b81e7  - actions DB length:  214000  - latest record from:  2023-01-23 13:27:11 18 days ago\n",
      "iterations:  214 Lines skipped:  214000 records collected:  1000  - latest recordID:  borrowAsset   0xb6f709749a171f8aa5cb2e4a9c2cc7a2e6b0090fb056219b697d65e007b7628c  - actions DB length:  215000  - latest record from:  2023-01-23 07:28:59 18 days ago\n",
      "iterations:  215 Lines skipped:  215000 records collected:  1000  - latest recordID:  addCollateral   0x3a1095973c1009ccc805da8e1b9c8a97514e545c0c2b14b16cfec4597e2e2c03  - actions DB length:  216000  - latest record from:  2023-01-23 07:05:23 18 days ago\n",
      "iterations:  216 Lines skipped:  216000 records collected:  1000  - latest recordID:  removeCollateral   0x63d3ea521fd69a86fd286175f94623ed06bd8e07177238484bb7eb0bd15e244c  - actions DB length:  217000  - latest record from:  2023-01-23 01:30:11 18 days ago\n",
      "iterations:  217 Lines skipped:  217000 records collected:  1000  - latest recordID:  repayAsset   0x4ef0b001904ebddd48a9e91fb794e8ccc8f3b0de2073b7fbf19f11b2694fcd68  - actions DB length:  218000  - latest record from:  2023-01-23 01:29:23 18 days ago\n",
      "iterations:  218 Lines skipped:  218000 records collected:  1000  - latest recordID:  removeCollateral   0x0c0c39257e85d91800c8b470a0f257949cb9e61c4e6ea3bb28703c1d6588d5db  - actions DB length:  219000  - latest record from:  2023-01-22 22:29:35 19 days ago\n",
      "iterations:  219 Lines skipped:  219000 records collected:  1000  - latest recordID:  repayAsset   0x76fdce57728e9d26a6439858f5f97b72d8dc18a882a02df3f6f3d1f578fd2a4d  - actions DB length:  220000  - latest record from:  2023-01-22 22:27:59 19 days ago\n",
      "iterations:  220 Lines skipped:  220000 records collected:  1000  - latest recordID:  repayAsset   0x9f9ba2939a4c6ffc3d1c0d6652260426f188f3ee03b31d66402f0a51d5ef3533  - actions DB length:  221000  - latest record from:  2023-01-22 22:26:47 19 days ago\n",
      "iterations:  221 Lines skipped:  221000 records collected:  1000  - latest recordID:  borrowAsset   0xd5bc93f88cff048b09c458e13192a234306368aa8a0b7236ee90d42a853c4017  - actions DB length:  222000  - latest record from:  2023-01-22 11:04:59 19 days ago\n",
      "iterations:  222 Lines skipped:  222000 records collected:  1000  - latest recordID:  addCollateral   0xb160341648a752965d24c32f7696a3e6b33c07f31c838f372933df9bba9cf5e0  - actions DB length:  223000  - latest record from:  2023-01-22 02:44:35 19 days ago\n",
      "iterations:  223 Lines skipped:  223000 records collected:  1000  - latest recordID:  borrowAsset   0xf6cc58234aa05881fe3a0aa5cea059535dc5993af8e078776465dd78a402d18b  - actions DB length:  224000  - latest record from:  2023-01-22 02:41:47 19 days ago\n",
      "iterations:  224 Lines skipped:  224000 records collected:  1000  - latest recordID:  addCollateral   0xafd0637b931041ae219c3873b71b71572cbf8f1885a46d93171fe916d90b6b3c  - actions DB length:  225000  - latest record from:  2023-01-22 02:40:11 19 days ago\n",
      "iterations:  225 Lines skipped:  225000 records collected:  1000  - latest recordID:  borrowAsset   0xff674f10275b0bfcee60bd69c9f8010e610f84cb03f54a1d20a9a038416bcc08  - actions DB length:  226000  - latest record from:  2023-01-22 02:33:35 19 days ago\n",
      "iterations:  226 Lines skipped:  226000 records collected:  1000  - latest recordID:  removeCollateral   0x6392701438de8d556e14ab394f4b371834ec1917d7032f626781f0d2fd26f7bc  - actions DB length:  227000  - latest record from:  2023-01-21 14:19:35 20 days ago\n",
      "iterations:  227 Lines skipped:  227000 records collected:  1000  - latest recordID:  addCollateral   0xebfa828bb0607a35d36bbe169ca050f2979389f3f32a05bfe26b9934ef907900  - actions DB length:  228000  - latest record from:  2023-01-21 13:18:11 20 days ago\n",
      "iterations:  228 Lines skipped:  228000 records collected:  1000  - latest recordID:  removeAsset   0x29c86fe1f682b3f721c5343a3809a62e6e3b256e4e4421c95932a321e89a3802  - actions DB length:  229000  - latest record from:  2023-01-21 11:15:59 20 days ago\n",
      "iterations:  229 Lines skipped:  229000 records collected:  1000  - latest recordID:  borrowAsset   0x77a5c92f2068e1c54264885579540a0cdf73c8afb5ca671ff9311fbb1e37fc5a  - actions DB length:  230000  - latest record from:  2023-01-21 10:19:23 20 days ago\n",
      "iterations:  230 Lines skipped:  230000 records collected:  1000  - latest recordID:  borrowAsset   0xbaffcedf02b0fc9788ce3953a4e66cf3898200a0328667f564e2574296d8aeaa  - actions DB length:  231000  - latest record from:  2023-01-21 05:08:47 20 days ago\n",
      "iterations:  231 Lines skipped:  231000 records collected:  1000  - latest recordID:  removeCollateral   0xe7edc1ecd1320c549f4c7453155da43bcf3a4f2268241f019df9df87dee617a9  - actions DB length:  232000  - latest record from:  2023-01-21 02:45:35 20 days ago\n",
      "iterations:  232 Lines skipped:  232000 records collected:  1000  - latest recordID:  repayAsset   0xf90fea66de466328d613712a7d8daa814c2290492cbc5c93b36ab716b5945943  - actions DB length:  233000  - latest record from:  2023-01-21 02:42:47 20 days ago\n",
      "iterations:  233 Lines skipped:  233000 records collected:  1000  - latest recordID:  borrowAsset   0xfcf6f8fa9df9ec782e44058a361be102714f0aa7fe5eb24bc44711408eb6fcc4+1  - actions DB length:  234000  - latest record from:  2023-01-20 22:52:11 21 days ago\n",
      "iterations:  234 Lines skipped:  234000 records collected:  1000  - latest recordID:  addCollateral   0xfcf6f8fa9df9ec782e44058a361be102714f0aa7fe5eb24bc44711408eb6fcc4  - actions DB length:  235000  - latest record from:  2023-01-20 22:52:11 21 days ago\n",
      "iterations:  235 Lines skipped:  235000 records collected:  1000  - latest recordID:  addAsset   0x16a6f47e49ede8b2dda4b02cc899f29565324da0a0688921440aaf2b35ce73e3+1  - actions DB length:  236000  - latest record from:  2023-01-20 18:41:35 21 days ago\n",
      "iterations:  236 Lines skipped:  236000 records collected:  1000  - latest recordID:  removeAsset   0x16a6f47e49ede8b2dda4b02cc899f29565324da0a0688921440aaf2b35ce73e3  - actions DB length:  237000  - latest record from:  2023-01-20 18:41:35 21 days ago\n",
      "iterations:  237 Lines skipped:  237000 records collected:  1000  - latest recordID:  addAsset   0xfeb54394d817e03ccd318a836eb104027541f9e950772a227f4b7911c4b23e30+1  - actions DB length:  238000  - latest record from:  2023-01-20 18:40:23 21 days ago\n",
      "iterations:  238 Lines skipped:  238000 records collected:  1000  - latest recordID:  removeAsset   0xfeb54394d817e03ccd318a836eb104027541f9e950772a227f4b7911c4b23e30  - actions DB length:  239000  - latest record from:  2023-01-20 18:40:23 21 days ago\n",
      "iterations:  239 Lines skipped:  239000 records collected:  1000  - latest recordID:  borrowAsset   0xcf61dda8b1c814853c758001601b489bf7275c89a543bf51f4e0ea398c50d838  - actions DB length:  240000  - latest record from:  2023-01-20 17:13:23 21 days ago\n",
      "iterations:  240 Lines skipped:  240000 records collected:  1000  - latest recordID:  repayAsset   0xa7f581354071e5d4065bbe0c81eaa0650f1dd66cedffd048106933fd94383cf3  - actions DB length:  241000  - latest record from:  2023-01-20 17:04:59 21 days ago\n",
      "iterations:  241 Lines skipped:  241000 records collected:  1000  - latest recordID:  borrowAsset   0x12814e23d06d14925d564c84e3b10cb0eba032907bb4c94c903719e4cd0f8172  - actions DB length:  242000  - latest record from:  2023-01-20 15:42:35 21 days ago\n",
      "iterations:  242 Lines skipped:  242000 records collected:  1000  - latest recordID:  removeAsset   0x1b2d5fb492314e28758706dab22db744634c862f4e395fbec7e15ade2f9d3ffc  - actions DB length:  243000  - latest record from:  2023-01-20 06:25:23 21 days ago\n",
      "iterations:  243 Lines skipped:  243000 records collected:  1000  - latest recordID:  repayAsset   0xbae58b11bf18476ba9ee45bb6888bf026af5414b9c4ab0871b53ae04085e3958  - actions DB length:  244000  - latest record from:  2023-01-19 23:35:35 22 days ago\n",
      "iterations:  244 Lines skipped:  244000 records collected:  1000  - latest recordID:  repayAsset   0x56658b51462c13ccafc5968f8f4764a2ec62eeb76abf3fb425eaaaff0c2cc9a3  - actions DB length:  245000  - latest record from:  2023-01-19 20:14:35 22 days ago\n",
      "iterations:  245 Lines skipped:  245000 records collected:  1000  - latest recordID:  borrowAsset   0x8bef55b3495f6ebde0fb7bf110ef9dacd6c148687ebf7cfd5bf7af358bf432cd+1  - actions DB length:  246000  - latest record from:  2023-01-19 10:24:23 22 days ago\n",
      "iterations:  246 Lines skipped:  246000 records collected:  1000  - latest recordID:  addCollateral   0x8bef55b3495f6ebde0fb7bf110ef9dacd6c148687ebf7cfd5bf7af358bf432cd  - actions DB length:  247000  - latest record from:  2023-01-19 10:24:23 22 days ago\n",
      "iterations:  247 Lines skipped:  247000 records collected:  1000  - latest recordID:  removeAsset   0x15c1834d11c5b004f11d6224547e5d63ab4ae8f09e1318b3e3db723f1841f041  - actions DB length:  248000  - latest record from:  2023-01-19 03:26:47 22 days ago\n",
      "iterations:  248 Lines skipped:  248000 records collected:  1000  - latest recordID:  addAsset   0xb9ba221c036591d51f1dc4463576ed6cccadbceb130ae63c786d20147d2ec136  - actions DB length:  249000  - latest record from:  2023-01-18 19:21:47 23 days ago\n",
      "iterations:  249 Lines skipped:  249000 records collected:  1000  - latest recordID:  borrowAsset   0xb8b71e06c5af60c05f45e456c385f10e1a435fa53512ae0c4fe1f5ed9bb9abfc+1  - actions DB length:  250000  - latest record from:  2023-01-18 14:30:59 23 days ago\n",
      "iterations:  250 Lines skipped:  250000 records collected:  1000  - latest recordID:  addCollateral   0xb8b71e06c5af60c05f45e456c385f10e1a435fa53512ae0c4fe1f5ed9bb9abfc  - actions DB length:  251000  - latest record from:  2023-01-18 14:30:59 23 days ago\n",
      "iterations:  251 Lines skipped:  251000 records collected:  1000  - latest recordID:  borrowAsset   0x9c29ada5aa3e38fe871b1ce8521cda91fe9fe263623bf94b18d1134ec46c19f1  - actions DB length:  252000  - latest record from:  2023-01-18 12:24:11 23 days ago\n",
      "iterations:  252 Lines skipped:  252000 records collected:  1000  - latest recordID:  borrowAsset   0xbe905db775ba4f975d9904ef380d329a098499e62b4f868022a16eaa1f7c579f+1  - actions DB length:  253000  - latest record from:  2023-01-18 10:25:47 23 days ago\n",
      "iterations:  253 Lines skipped:  253000 records collected:  1000  - latest recordID:  addCollateral   0xbe905db775ba4f975d9904ef380d329a098499e62b4f868022a16eaa1f7c579f  - actions DB length:  254000  - latest record from:  2023-01-18 10:25:47 23 days ago\n",
      "iterations:  254 Lines skipped:  254000 records collected:  1000  - latest recordID:  borrowAsset   0x177e04577b8e91124fb854181bbeedcefc660331a79424b30fc3db76b26e1f45  - actions DB length:  255000  - latest record from:  2023-01-18 10:12:35 23 days ago\n",
      "iterations:  255 Lines skipped:  255000 records collected:  1000  - latest recordID:  borrowAsset   0xf64b0aac80c97e30e560d040b237eec4b2272db02739bb157aca938dd9436fe6+1  - actions DB length:  256000  - latest record from:  2023-01-18 09:02:59 23 days ago\n",
      "iterations:  256 Lines skipped:  256000 records collected:  1000  - latest recordID:  addCollateral   0xf64b0aac80c97e30e560d040b237eec4b2272db02739bb157aca938dd9436fe6  - actions DB length:  257000  - latest record from:  2023-01-18 09:02:59 23 days ago\n",
      "iterations:  257 Lines skipped:  257000 records collected:  1000  - latest recordID:  removeCollateral   0x147ad8ff181623a8569f07f84ac4538d3f85aa74761b0353b5313ba1edbbf7d9  - actions DB length:  258000  - latest record from:  2023-01-18 09:00:11 23 days ago\n",
      "iterations:  258 Lines skipped:  258000 records collected:  1000  - latest recordID:  borrowAsset   0x5deab7fd4212373a76d85426b658612b5c97523100e43fb074bfe86ef3d114b8+1  - actions DB length:  259000  - latest record from:  2023-01-18 08:52:35 23 days ago\n",
      "iterations:  259 Lines skipped:  259000 records collected:  1000  - latest recordID:  addCollateral   0x5deab7fd4212373a76d85426b658612b5c97523100e43fb074bfe86ef3d114b8  - actions DB length:  260000  - latest record from:  2023-01-18 08:52:35 23 days ago\n",
      "iterations:  260 Lines skipped:  260000 records collected:  1000  - latest recordID:  removeCollateral   0xf455df944c8999921f3e31cd40e2ccb6f62f36210e990333303f39feefbf96b6  - actions DB length:  261000  - latest record from:  2023-01-18 08:17:47 23 days ago\n",
      "iterations:  261 Lines skipped:  261000 records collected:  1000  - latest recordID:  borrowAsset   0x40b4c7123b3dfa9a0a09ed60776eaf4c288442424a9f384dfafe14c8de464f47  - actions DB length:  262000  - latest record from:  2023-01-18 06:29:59 23 days ago\n",
      "iterations:  262 Lines skipped:  262000 records collected:  1000  - latest recordID:  borrowAsset   0xe840b1a83017535bd711d3f8311924c9568a0cb21abb7f2fafe54f321594cb9f+1  - actions DB length:  263000  - latest record from:  2023-01-17 18:22:11 24 days ago\n",
      "iterations:  263 Lines skipped:  263000 records collected:  1000  - latest recordID:  addCollateral   0xe840b1a83017535bd711d3f8311924c9568a0cb21abb7f2fafe54f321594cb9f  - actions DB length:  264000  - latest record from:  2023-01-17 18:22:11 24 days ago\n",
      "iterations:  264 Lines skipped:  264000 records collected:  1000  - latest recordID:  borrowAsset   0x6b7edfe0a07d8e657d79c56472a8cd294bd0e0ef44a7455bce157e8dc9004bd4  - actions DB length:  265000  - latest record from:  2023-01-17 18:18:35 24 days ago\n",
      "iterations:  265 Lines skipped:  265000 records collected:  1000  - latest recordID:  removeCollateral   0x460f9aee08e09f7e7245f43c1e3c8068079c6b9d435cc4ea43b945018d1ecea1  - actions DB length:  266000  - latest record from:  2023-01-17 10:59:47 24 days ago\n",
      "iterations:  266 Lines skipped:  266000 records collected:  1000  - latest recordID:  repayAsset   0x062fd7448a63b11811c4ca6ccefec9d8362624119ee2df983015309eae243292  - actions DB length:  267000  - latest record from:  2023-01-17 10:47:11 24 days ago\n",
      "iterations:  267 Lines skipped:  267000 records collected:  1000  - latest recordID:  addAsset   0xd2a8e22bc8ba3338ce7698d34cb9266ac171a07c5a1195e0b8a30fe248f14404  - actions DB length:  268000  - latest record from:  2023-01-17 09:57:59 24 days ago\n",
      "iterations:  268 Lines skipped:  268000 records collected:  1000  - latest recordID:  borrowAsset   0xc7a3898a122851678d184b57c22f151fb4d8d4b100f5e421dc968146bb95130a  - actions DB length:  269000  - latest record from:  2023-01-17 09:37:59 24 days ago\n",
      "iterations:  269 Lines skipped:  269000 records collected:  1000  - latest recordID:  borrowAsset   0xdbedab458bf1d2b0c761f2da175d97ed3b9499b3cb872f70b6f14eb6fd592d5f+1  - actions DB length:  270000  - latest record from:  2023-01-17 08:57:11 24 days ago\n",
      "iterations:  270 Lines skipped:  270000 records collected:  1000  - latest recordID:  addCollateral   0xdbedab458bf1d2b0c761f2da175d97ed3b9499b3cb872f70b6f14eb6fd592d5f  - actions DB length:  271000  - latest record from:  2023-01-17 08:57:11 24 days ago\n",
      "iterations:  271 Lines skipped:  271000 records collected:  1000  - latest recordID:  borrowAsset   0x9ff8aa22b74ac28ed29a3bd002ad7956406568cd5b27723a19c321631196ca95  - actions DB length:  272000  - latest record from:  2023-01-17 08:30:35 24 days ago\n",
      "iterations:  272 Lines skipped:  272000 records collected:  1000  - latest recordID:  borrowAsset   0x5c353b317c683c82d31bc4c362071e6928c33c9474d6d3a7068e835158e0f951+1  - actions DB length:  273000  - latest record from:  2023-01-17 08:29:59 24 days ago\n",
      "iterations:  273 Lines skipped:  273000 records collected:  1000  - latest recordID:  addCollateral   0x5c353b317c683c82d31bc4c362071e6928c33c9474d6d3a7068e835158e0f951  - actions DB length:  274000  - latest record from:  2023-01-17 08:29:59 24 days ago\n",
      "iterations:  274 Lines skipped:  274000 records collected:  1000  - latest recordID:  borrowAsset   0x52edeb1d2b4db7613f32f03d2f9c80dc3003ba28cb89799a382037b75a5fe3d8  - actions DB length:  275000  - latest record from:  2023-01-17 06:45:23 24 days ago\n",
      "iterations:  275 Lines skipped:  275000 records collected:  1000  - latest recordID:  removeCollateral   0xf94bf957660189cbf8d7b8254bccdeff35e6721ed9665c1ae08b7f209e7b2d9e  - actions DB length:  276000  - latest record from:  2023-01-17 06:17:59 24 days ago\n",
      "iterations:  276 Lines skipped:  276000 records collected:  1000  - latest recordID:  repayAsset   0xff64404ae5f010cafe4dc225866f4a143887d8a4913f87028990f031a7874ae9  - actions DB length:  277000  - latest record from:  2023-01-17 06:14:35 24 days ago\n",
      "iterations:  277 Lines skipped:  277000 records collected:  1000  - latest recordID:  borrowAsset   0xf5e6f03a957b20bcddb16b37b72e4f535932b8c50517defbf4defc6a9d0e68de+1  - actions DB length:  278000  - latest record from:  2023-01-17 05:56:23 24 days ago\n",
      "iterations:  278 Lines skipped:  278000 records collected:  1000  - latest recordID:  addCollateral   0xf5e6f03a957b20bcddb16b37b72e4f535932b8c50517defbf4defc6a9d0e68de  - actions DB length:  279000  - latest record from:  2023-01-17 05:56:23 24 days ago\n",
      "iterations:  279 Lines skipped:  279000 records collected:  1000  - latest recordID:  addAsset   0x8c8fea0f0c30f2e208f878eaef67e93d678606fcb149c5643c984508c43666db  - actions DB length:  280000  - latest record from:  2023-01-17 05:43:11 24 days ago\n",
      "iterations:  280 Lines skipped:  280000 records collected:  1000  - latest recordID:  borrowAsset   0x2e0270b9a66c3418c22627e1c7de4e9e901517e297d4571cbe591bd00703cd4c  - actions DB length:  281000  - latest record from:  2023-01-17 05:25:11 24 days ago\n",
      "iterations:  281 Lines skipped:  281000 records collected:  1000  - latest recordID:  addAsset   0x12b8bc58f62a5627fc6171f4bae24d127172a5610f310b5110d923ff49436a07  - actions DB length:  282000  - latest record from:  2023-01-16 20:44:11 25 days ago\n",
      "iterations:  282 Lines skipped:  282000 records collected:  1000  - latest recordID:  borrowAsset   0xeb8dea4c2dcc1f9a4bf14020ecd813d5f9e3123fb0419eefaa9929c1809d0e29  - actions DB length:  283000  - latest record from:  2023-01-16 18:55:23 25 days ago\n",
      "iterations:  283 Lines skipped:  283000 records collected:  1000  - latest recordID:  borrowAsset   0xbc0973c9735faee148da1ce4e23af88146f32ce35071cc6dad1b1a2d79c380f5  - actions DB length:  284000  - latest record from:  2023-01-16 13:17:47 25 days ago\n",
      "iterations:  284 Lines skipped:  284000 records collected:  1000  - latest recordID:  borrowAsset   0xd14c45bcd7f7a533e9fa2a63ef767997212348e43d413790214895072d71712f  - actions DB length:  285000  - latest record from:  2023-01-16 12:01:23 25 days ago\n",
      "iterations:  285 Lines skipped:  285000 records collected:  1000  - latest recordID:  addAsset   0x00961e045ad314f9475941e06590b19cc6360f9c34cd431a342356366989ee7f  - actions DB length:  286000  - latest record from:  2023-01-16 04:43:11 25 days ago\n",
      "iterations:  286 Lines skipped:  286000 records collected:  1000  - latest recordID:  addAsset   0x1c24c59cc163dbb3d3bfb1cf7a0e6ae73e18bad8fcc42485ebe0f9da5ba240f1  - actions DB length:  287000  - latest record from:  2023-01-15 22:33:11 26 days ago\n",
      "iterations:  287 Lines skipped:  287000 records collected:  1000  - latest recordID:  removeAsset   0x561000bc54afd449b08b7ffb510fedd703f93b2c7183b20fe84ef8a266e7c3e1  - actions DB length:  288000  - latest record from:  2023-01-15 17:49:59 26 days ago\n",
      "iterations:  288 Lines skipped:  288000 records collected:  1000  - latest recordID:  borrowAsset   0x83bcb813eb93d595d6b61c2dd4d8b2104fd2c844b5bc2d85dbafaf99946d5290  - actions DB length:  289000  - latest record from:  2023-01-15 17:19:23 26 days ago\n",
      "iterations:  289 Lines skipped:  289000 records collected:  1000  - latest recordID:  addAsset   0x5bdd4426fdf44ac05696e94981a792cd7ad4f4f1d629e9493ee70c3d786a4638  - actions DB length:  290000  - latest record from:  2023-01-15 16:54:35 26 days ago\n",
      "iterations:  290 Lines skipped:  290000 records collected:  1000  - latest recordID:  addAsset   0xdefbe93580f28c4eed1e7c210dbe0d9a6f5a53b8400a9c2db0001f9e2d88f76f  - actions DB length:  291000  - latest record from:  2023-01-15 16:45:59 26 days ago\n",
      "iterations:  291 Lines skipped:  291000 records collected:  1000  - latest recordID:  addAsset   0x4a034be1ece9e09ba3d64839202ddef1a6a82ff02cdc66591d7498138684215e  - actions DB length:  292000  - latest record from:  2023-01-15 16:42:23 26 days ago\n",
      "iterations:  292 Lines skipped:  292000 records collected:  1000  - latest recordID:  borrowAsset   0x7b3474db5b4b172607d32acf5e55b571b3781335c90276cc31cfe8eb596dc7a7+1  - actions DB length:  293000  - latest record from:  2023-01-15 07:39:35 26 days ago\n",
      "iterations:  293 Lines skipped:  293000 records collected:  1000  - latest recordID:  addCollateral   0x7b3474db5b4b172607d32acf5e55b571b3781335c90276cc31cfe8eb596dc7a7  - actions DB length:  294000  - latest record from:  2023-01-15 07:39:35 26 days ago\n",
      "iterations:  294 Lines skipped:  294000 records collected:  1000  - latest recordID:  addAsset   0x41f37664fef4746b7e5d579037274ed87ae87650b41f3e691e72151792c961b8  - actions DB length:  295000  - latest record from:  2023-01-15 05:38:23 26 days ago\n",
      "iterations:  295 Lines skipped:  295000 records collected:  1000  - latest recordID:  borrowAsset   0xede5fbfc1804d165821247fae886c6c2a8736f3052eb6ff861490e67eccb63dc+1  - actions DB length:  296000  - latest record from:  2023-01-15 05:16:23 26 days ago\n",
      "iterations:  296 Lines skipped:  296000 records collected:  1000  - latest recordID:  addCollateral   0xede5fbfc1804d165821247fae886c6c2a8736f3052eb6ff861490e67eccb63dc  - actions DB length:  297000  - latest record from:  2023-01-15 05:16:23 26 days ago\n",
      "iterations:  297 Lines skipped:  297000 records collected:  1000  - latest recordID:  borrowAsset   0xd213964a240a91c8b6f14a499e11e4fae61bb2ba9f6fb658e20f2b8b3d225bdd  - actions DB length:  298000  - latest record from:  2023-01-15 05:12:35 26 days ago\n",
      "iterations:  298 Lines skipped:  298000 records collected:  1000  - latest recordID:  addAsset   0xd4a5c1f8215e5a585446c1ca1cdb962af00e1f2bac3ca7df06560e80d7099969  - actions DB length:  299000  - latest record from:  2023-01-14 22:37:59 27 days ago\n",
      "iterations:  299 Lines skipped:  299000 records collected:  1000  - latest recordID:  addAsset   0x35d48451c285884485e41841bc43023844d859bb4d75a127168abae3d1e9f3a5  - actions DB length:  300000  - latest record from:  2023-01-14 21:49:47 27 days ago\n",
      "iterations:  300 Lines skipped:  300000 records collected:  1000  - latest recordID:  borrowAsset   0xa76006719842d138ac2035f7eb8eb406192bbc1c3f048e27cb7680708587177c+1  - actions DB length:  301000  - latest record from:  2023-01-14 18:27:23 27 days ago\n",
      "iterations:  301 Lines skipped:  301000 records collected:  1000  - latest recordID:  addCollateral   0xa76006719842d138ac2035f7eb8eb406192bbc1c3f048e27cb7680708587177c  - actions DB length:  302000  - latest record from:  2023-01-14 18:27:23 27 days ago\n",
      "iterations:  302 Lines skipped:  302000 records collected:  1000  - latest recordID:  borrowAsset   0x1a2e3b330fb4870effb0dda22c440dd6bf9448d5ae9af7fd69b58a3fb636dea9  - actions DB length:  303000  - latest record from:  2023-01-14 18:19:11 27 days ago\n",
      "iterations:  303 Lines skipped:  303000 records collected:  1000  - latest recordID:  addAsset   0x01b07b7f6863ff9e1ceed72d70b3fc030a7ad7aac1cc0613e111cbf5a4c9e16a  - actions DB length:  304000  - latest record from:  2023-01-14 10:32:47 27 days ago\n",
      "iterations:  304 Lines skipped:  304000 records collected:  1000  - latest recordID:  repayAsset   0xfa63338732c74507f8839f8673048a70564f7eeabaa69c5b5f13c6d6bf6303de  - actions DB length:  305000  - latest record from:  2023-01-14 05:04:47 27 days ago\n",
      "iterations:  305 Lines skipped:  305000 records collected:  1000  - latest recordID:  repayAsset   0xf79730c4f44f676b24f163414ead22ac5a6feb6beb980d0ad217b0b964186cd7  - actions DB length:  306000  - latest record from:  2023-01-14 05:01:11 27 days ago\n",
      "iterations:  306 Lines skipped:  306000 records collected:  1000  - latest recordID:  addAsset   0xc8f1ea628eca352412df8b3f16617b30c40f342007a3c63655207dcb5c6c1061  - actions DB length:  307000  - latest record from:  2023-01-14 03:41:59 27 days ago\n",
      "iterations:  307 Lines skipped:  307000 records collected:  1000  - latest recordID:  removeAsset   0x2bf7b6779d36f8465d5d9d3b851e86830528e02a0b5d9d4c72d51f03c802f788  - actions DB length:  308000  - latest record from:  2023-01-14 03:12:59 27 days ago\n",
      "iterations:  308 Lines skipped:  308000 records collected:  1000  - latest recordID:  removeCollateral   0x823204d420c08720ee1bc3c56494f97d5f2f09b49455ad5eaf00f59950ac4786  - actions DB length:  309000  - latest record from:  2023-01-13 18:44:59 28 days ago\n",
      "iterations:  309 Lines skipped:  309000 records collected:  1000  - latest recordID:  repayAsset   0x7e8d694e8b27de65c306c477f4e2eeb6dcbd0d765c43ded5c63eea149cdc4b27  - actions DB length:  310000  - latest record from:  2023-01-13 18:42:47 28 days ago\n",
      "iterations:  310 Lines skipped:  310000 records collected:  1000  - latest recordID:  removeCollateral   0x2540482229b7d37030f7792bafe9be1d5be0a2487e56df492d5073f2c86c5a47  - actions DB length:  311000  - latest record from:  2023-01-13 18:39:47 28 days ago\n",
      "iterations:  311 Lines skipped:  311000 records collected:  1000  - latest recordID:  removeCollateral   0xe6d47e03c9c822f5bc5c84021c892857da04cb69766f3823eb094aa2a939e434  - actions DB length:  312000  - latest record from:  2023-01-13 18:24:11 28 days ago\n",
      "iterations:  312 Lines skipped:  312000 records collected:  1000  - latest recordID:  borrowAsset   0x4af8d770b2ac766ffd7b0620e70f37f04c4047f6a3aae2a0b0c1c6d9ddee4b21  - actions DB length:  313000  - latest record from:  2023-01-13 17:14:23 28 days ago\n",
      "iterations:  313 Lines skipped:  313000 records collected:  1000  - latest recordID:  repayAsset   0x3ca2c4e00ea1ecf02215a2e3e6a68cde1e77ac7405892d031abacc205d4ed687  - actions DB length:  314000  - latest record from:  2023-01-13 16:57:59 28 days ago\n",
      "iterations:  314 Lines skipped:  314000 records collected:  1000  - latest recordID:  removeCollateral   0xaf7b46e77ff4f1b9b2dcec7addef0c77decda67e69eceac9f5f844188151f1f4  - actions DB length:  315000  - latest record from:  2023-01-13 14:27:35 28 days ago\n",
      "iterations:  315 Lines skipped:  315000 records collected:  1000  - latest recordID:  repayAsset   0xbc2b19884bf689493cd56b786b36cee4859014e51ffccbad2fb52a6010acc86d  - actions DB length:  316000  - latest record from:  2023-01-13 14:25:47 28 days ago\n",
      "iterations:  316 Lines skipped:  316000 records collected:  1000  - latest recordID:  borrowAsset   0x68a79acb8d9079b5ff612ff61549ce17e7ddb9123d2a5f1691d0431a05b4dafb+1  - actions DB length:  317000  - latest record from:  2023-01-13 07:16:11 28 days ago\n",
      "iterations:  317 Lines skipped:  317000 records collected:  1000  - latest recordID:  addCollateral   0x68a79acb8d9079b5ff612ff61549ce17e7ddb9123d2a5f1691d0431a05b4dafb  - actions DB length:  318000  - latest record from:  2023-01-13 07:16:11 28 days ago\n",
      "iterations:  318 Lines skipped:  318000 records collected:  1000  - latest recordID:  borrowAsset   0x1a7b29d41cd34d86cd795b4247d20e6a880c40ae70aaed26b47a7f55e03e23d5  - actions DB length:  319000  - latest record from:  2023-01-13 07:11:47 28 days ago\n",
      "iterations:  319 Lines skipped:  319000 records collected:  1000  - latest recordID:  borrowAsset   0xe757a5d4cc93e610e91506c8215f465e894f3c1c2594219e3e97a38dc482d0ec  - actions DB length:  320000  - latest record from:  2023-01-13 03:51:23 28 days ago\n",
      "iterations:  320 Lines skipped:  320000 records collected:  1000  - latest recordID:  removeAsset   0x5b3a0a3f42dba464620f6a8b2e6d09e18e099da202f5280d41d854a74ddfb926  - actions DB length:  321000  - latest record from:  2023-01-12 13:59:47 29 days ago\n",
      "iterations:  321 Lines skipped:  321000 records collected:  1000  - latest recordID:  addCollateral   0x0a2a05a1b073a1dcbce900f1c49e64fc29ce35dc8dfdd75ea0820c981d53fbba  - actions DB length:  322000  - latest record from:  2023-01-12 05:06:47 29 days ago\n",
      "iterations:  322 Lines skipped:  322000 records collected:  1000  - latest recordID:  removeCollateral   0x53bafd9b89740e23b8c6d603849a6f6e5cd11f36e0e6d56af99e19f4e254ed39  - actions DB length:  323000  - latest record from:  2023-01-12 04:59:35 29 days ago\n",
      "iterations:  323 Lines skipped:  323000 records collected:  1000  - latest recordID:  repayAsset   0x81d778d4301c73a4ec949b91e4badeec867c344c2777f25e7e76d861d0fa461c  - actions DB length:  324000  - latest record from:  2023-01-12 04:58:23 29 days ago\n",
      "iterations:  324 Lines skipped:  324000 records collected:  1000  - latest recordID:  repayAsset   0xf8f13055ad994c19a486d915a5b4d255063d356bb3b58b1f74fe32534ea673d9  - actions DB length:  325000  - latest record from:  2023-01-12 04:57:23 29 days ago\n",
      "iterations:  325 Lines skipped:  325000 records collected:  1000  - latest recordID:  borrowAsset   0x3bbbd2a1046ee68bda724337f47c6e552f15e01e22483b6be8fdd24ebc917000+1  - actions DB length:  326000  - latest record from:  2023-01-11 17:47:35 30 days ago\n",
      "iterations:  326 Lines skipped:  326000 records collected:  1000  - latest recordID:  addCollateral   0x3bbbd2a1046ee68bda724337f47c6e552f15e01e22483b6be8fdd24ebc917000  - actions DB length:  327000  - latest record from:  2023-01-11 17:47:35 30 days ago\n",
      "iterations:  327 Lines skipped:  327000 records collected:  1000  - latest recordID:  borrowAsset   0xe5b9f10576301dec6a887f1523117588e41be6fd6a048e54317474ef115e36b0  - actions DB length:  328000  - latest record from:  2023-01-11 17:42:47 30 days ago\n",
      "iterations:  328 Lines skipped:  328000 records collected:  1000  - latest recordID:  removeCollateral   0xc26d1cfbded58dd66e82b541452cf27ef1899591d7a9f535255d718d4e2b9d5a  - actions DB length:  329000  - latest record from:  2023-01-11 16:43:47 30 days ago\n",
      "iterations:  329 Lines skipped:  329000 records collected:  1000  - latest recordID:  borrowAsset   0xb556436843408b3b90d66ef24be1dad4e93be4f84b65c814753ba8331681bcbc+1  - actions DB length:  330000  - latest record from:  2023-01-11 16:09:35 30 days ago\n",
      "iterations:  330 Lines skipped:  330000 records collected:  1000  - latest recordID:  addCollateral   0xb556436843408b3b90d66ef24be1dad4e93be4f84b65c814753ba8331681bcbc  - actions DB length:  331000  - latest record from:  2023-01-11 16:09:35 30 days ago\n",
      "iterations:  331 Lines skipped:  331000 records collected:  1000  - latest recordID:  borrowAsset   0xa570950082942b24fd1dd6a6b72c463e297d3bb766224037417bb9d149bbb7b2  - actions DB length:  332000  - latest record from:  2023-01-11 16:04:23 30 days ago\n",
      "iterations:  332 Lines skipped:  332000 records collected:  1000  - latest recordID:  repayAsset   0xbaa4f9d5e93b3ad897a3b62f5e79598e7df8436ba5f6d3e624e32428417b92f7  - actions DB length:  333000  - latest record from:  2023-01-11 15:49:11 30 days ago\n",
      "iterations:  333 Lines skipped:  333000 records collected:  1000  - latest recordID:  borrowAsset   0x63fce6869c22d16241e5204088f05b97bcce1f79aa52863cb3077b866e007436+1  - actions DB length:  334000  - latest record from:  2023-01-11 15:19:23 30 days ago\n",
      "iterations:  334 Lines skipped:  334000 records collected:  1000  - latest recordID:  addCollateral   0x63fce6869c22d16241e5204088f05b97bcce1f79aa52863cb3077b866e007436  - actions DB length:  335000  - latest record from:  2023-01-11 15:19:23 30 days ago\n",
      "iterations:  335 Lines skipped:  335000 records collected:  1000  - latest recordID:  borrowAsset   0x1fbc50ee601d5781fc9d877d48c5e4a81ca2b4ddbbace4d3af016b56b6c6f3b0  - actions DB length:  336000  - latest record from:  2023-01-11 15:15:11 30 days ago\n",
      "iterations:  336 Lines skipped:  336000 records collected:  1000  - latest recordID:  addAsset   0xcc2b330c7f92b7a9a5746bc5f87d914eb07dd22b3431a240f5d4ac84c91f0834  - actions DB length:  337000  - latest record from:  2023-01-11 13:26:11 30 days ago\n",
      "iterations:  337 Lines skipped:  337000 records collected:  1000  - latest recordID:  addAsset   0x68801213fb67e480e15ecab109073dab45051e064d80c03c7457364bc68cd2f2  - actions DB length:  338000  - latest record from:  2023-01-11 12:15:11 30 days ago\n",
      "iterations:  338 Lines skipped:  338000 records collected:  1000  - latest recordID:  borrowAsset   0x06806270acee99df1ef398d1c7e82340e1451c9bb50fc595ca6fe3bf582f1545+1  - actions DB length:  339000  - latest record from:  2023-01-11 11:03:23 30 days ago\n",
      "iterations:  339 Lines skipped:  339000 records collected:  1000  - latest recordID:  addCollateral   0x06806270acee99df1ef398d1c7e82340e1451c9bb50fc595ca6fe3bf582f1545  - actions DB length:  340000  - latest record from:  2023-01-11 11:03:23 30 days ago\n",
      "iterations:  340 Lines skipped:  340000 records collected:  1000  - latest recordID:  borrowAsset   0x3bcc4cbf4c0eab3c7c434727d6262e8270bdb95f5605afb663598cb69f3e9df8+1  - actions DB length:  341000  - latest record from:  2023-01-11 09:02:59 30 days ago\n",
      "iterations:  341 Lines skipped:  341000 records collected:  1000  - latest recordID:  addCollateral   0x3bcc4cbf4c0eab3c7c434727d6262e8270bdb95f5605afb663598cb69f3e9df8  - actions DB length:  342000  - latest record from:  2023-01-11 09:02:59 30 days ago\n",
      "iterations:  342 Lines skipped:  342000 records collected:  1000  - latest recordID:  borrowAsset   0x18727900202f40d7652ee5d7f0e87559c2aa889f68e4173e8af971ba6fe58c79  - actions DB length:  343000  - latest record from:  2023-01-11 09:00:11 30 days ago\n",
      "iterations:  343 Lines skipped:  343000 records collected:  1000  - latest recordID:  borrowAsset   0x1f3ccf4cbb1c559d80431a543aee4c8ddab8a474164db9018be7ad931afda41e+1  - actions DB length:  344000  - latest record from:  2023-01-11 08:50:11 30 days ago\n",
      "iterations:  344 Lines skipped:  344000 records collected:  1000  - latest recordID:  addCollateral   0x1f3ccf4cbb1c559d80431a543aee4c8ddab8a474164db9018be7ad931afda41e  - actions DB length:  345000  - latest record from:  2023-01-11 08:50:11 30 days ago\n",
      "iterations:  345 Lines skipped:  345000 records collected:  1000  - latest recordID:  borrowAsset   0xc529182a887a577db64badc92b57d5fecbef6d881ed6f9a23c10123ff01eb794+1  - actions DB length:  346000  - latest record from:  2023-01-11 08:45:35 30 days ago\n",
      "iterations:  346 Lines skipped:  346000 records collected:  1000  - latest recordID:  addCollateral   0xc529182a887a577db64badc92b57d5fecbef6d881ed6f9a23c10123ff01eb794  - actions DB length:  347000  - latest record from:  2023-01-11 08:45:35 30 days ago\n",
      "iterations:  347 Lines skipped:  347000 records collected:  1000  - latest recordID:  borrowAsset   0x03f1760d6ea18ff77d7404d4cde8f803e5dfe7156bf81aa40633438fc75bf2de+1  - actions DB length:  348000  - latest record from:  2023-01-11 08:42:11 30 days ago\n",
      "iterations:  348 Lines skipped:  348000 records collected:  1000  - latest recordID:  addCollateral   0x03f1760d6ea18ff77d7404d4cde8f803e5dfe7156bf81aa40633438fc75bf2de  - actions DB length:  349000  - latest record from:  2023-01-11 08:42:11 30 days ago\n",
      "iterations:  349 Lines skipped:  349000 records collected:  1000  - latest recordID:  borrowAsset   0xea44044af1061d77deb9a2e6fcee73d8a04d5351b1c5c7290e6264e862379402+1  - actions DB length:  350000  - latest record from:  2023-01-11 08:29:11 30 days ago\n",
      "iterations:  350 Lines skipped:  350000 records collected:  1000  - latest recordID:  addCollateral   0xea44044af1061d77deb9a2e6fcee73d8a04d5351b1c5c7290e6264e862379402  - actions DB length:  351000  - latest record from:  2023-01-11 08:29:11 30 days ago\n",
      "iterations:  351 Lines skipped:  351000 records collected:  1000  - latest recordID:  borrowAsset   0x2c595332ade79d1c52e7cde8b1ab3505407f1c6e8125705f2f786aa597d70a79+1  - actions DB length:  352000  - latest record from:  2023-01-11 08:18:35 30 days ago\n",
      "iterations:  352 Lines skipped:  352000 records collected:  1000  - latest recordID:  addCollateral   0x2c595332ade79d1c52e7cde8b1ab3505407f1c6e8125705f2f786aa597d70a79  - actions DB length:  353000  - latest record from:  2023-01-11 08:18:35 30 days ago\n",
      "iterations:  353 Lines skipped:  353000 records collected:  1000  - latest recordID:  borrowAsset   0x9b829cf41599e36f2874c1cb34a9461c75b04c11c3e7025c47495bfc361467f9  - actions DB length:  354000  - latest record from:  2023-01-11 08:04:59 30 days ago\n",
      "iterations:  354 Lines skipped:  354000 records collected:  1000  - latest recordID:  repayAsset   0x698b74854ae1a7ffc74296479b69147c0c37523f78f5ed98c5fbab13e98f5614  - actions DB length:  355000  - latest record from:  2023-01-11 04:51:47 30 days ago\n",
      "iterations:  355 Lines skipped:  355000 records collected:  1000  - latest recordID:  repayAsset   0x1aed7d2b9933007618654ea96fc0afaf7e3c189fb2c9287bef37f1562870599f  - actions DB length:  356000  - latest record from:  2023-01-10 20:25:23 31 days ago\n",
      "iterations:  356 Lines skipped:  356000 records collected:  1000  - latest recordID:  borrowAsset   0xaaf548c6f478c7824a79855f43417f8ec997e45b4194ef9f7a08bff713b5a329  - actions DB length:  357000  - latest record from:  2023-01-10 19:49:11 31 days ago\n",
      "iterations:  357 Lines skipped:  357000 records collected:  1000  - latest recordID:  repayAsset   0xe2690dac6449b50cd52a08e513917c9b57393c9d6217e99fa1972421c00efce9  - actions DB length:  358000  - latest record from:  2023-01-10 05:44:47 31 days ago\n",
      "iterations:  358 Lines skipped:  358000 records collected:  1000  - latest recordID:  repayAsset   0xbd040537b5acd14537a9566bacb6e09b3497a4712c6ffa066577d16fb82b0df3  - actions DB length:  359000  - latest record from:  2023-01-09 08:25:47 32 days ago\n",
      "iterations:  359 Lines skipped:  359000 records collected:  1000  - latest recordID:  removeAsset   0xbc6a8dfd8231cd01dfd472edcad4e534d2a5ba700fc67a26e29e06dd875fdfba  - actions DB length:  360000  - latest record from:  2023-01-09 07:15:35 32 days ago\n",
      "iterations:  360 Lines skipped:  360000 records collected:  1000  - latest recordID:  borrowAsset   0x00f47a10ca8e9ddebc8f6a6068f1ce3a92b26da9fb0c2dc2e864cd5745d01bf4  - actions DB length:  361000  - latest record from:  2023-01-09 07:10:47 32 days ago\n",
      "iterations:  361 Lines skipped:  361000 records collected:  1000  - latest recordID:  removeAsset   0xfc90df0d373de0ab7718f61984462fb503609c7aa36f017137986e540e1671b0  - actions DB length:  362000  - latest record from:  2023-01-08 21:24:47 33 days ago\n",
      "iterations:  362 Lines skipped:  362000 records collected:  1000  - latest recordID:  borrowAsset   0x7335e94e394cecccf6e7564b6f6c6a153f67b715fac2fe23420043db5e01b3a3+1  - actions DB length:  363000  - latest record from:  2023-01-08 18:43:23 33 days ago\n",
      "iterations:  363 Lines skipped:  363000 records collected:  1000  - latest recordID:  addCollateral   0x7335e94e394cecccf6e7564b6f6c6a153f67b715fac2fe23420043db5e01b3a3  - actions DB length:  364000  - latest record from:  2023-01-08 18:43:23 33 days ago\n",
      "iterations:  364 Lines skipped:  364000 records collected:  1000  - latest recordID:  borrowAsset   0xad663fb0b26d0ed66a30858c29994a1865e1eeab44e20c8b122bb138fc6175a5+1  - actions DB length:  365000  - latest record from:  2023-01-08 18:17:11 33 days ago\n",
      "iterations:  365 Lines skipped:  365000 records collected:  1000  - latest recordID:  addCollateral   0xad663fb0b26d0ed66a30858c29994a1865e1eeab44e20c8b122bb138fc6175a5  - actions DB length:  366000  - latest record from:  2023-01-08 18:17:11 33 days ago\n",
      "iterations:  366 Lines skipped:  366000 records collected:  1000  - latest recordID:  borrowAsset   0x112aa7130d51af6398997f3367f171ee873b53254f49c313469b27b893a60eb1+1  - actions DB length:  367000  - latest record from:  2023-01-08 18:13:35 33 days ago\n",
      "iterations:  367 Lines skipped:  367000 records collected:  1000  - latest recordID:  addCollateral   0x112aa7130d51af6398997f3367f171ee873b53254f49c313469b27b893a60eb1  - actions DB length:  368000  - latest record from:  2023-01-08 18:13:35 33 days ago\n",
      "iterations:  368 Lines skipped:  368000 records collected:  1000  - latest recordID:  borrowAsset   0x46e1b4c475ab54b95556c49aea86c91b2bb20e034ab62f29f8104856720a9db3+1  - actions DB length:  369000  - latest record from:  2023-01-08 18:10:23 33 days ago\n",
      "iterations:  369 Lines skipped:  369000 records collected:  1000  - latest recordID:  addCollateral   0x46e1b4c475ab54b95556c49aea86c91b2bb20e034ab62f29f8104856720a9db3  - actions DB length:  370000  - latest record from:  2023-01-08 18:10:23 33 days ago\n",
      "iterations:  370 Lines skipped:  370000 records collected:  1000  - latest recordID:  removeAsset   0xe48d37260880fb7fe7493b84af0cfa05d33c8c3e7a71c15b4ab0d65621799b65  - actions DB length:  371000  - latest record from:  2023-01-08 17:24:23 33 days ago\n",
      "iterations:  371 Lines skipped:  371000 records collected:  1000  - latest recordID:  borrowAsset   0x10a0981509a50cea879aa69213685127613fd378ab4e21200c9aff69a6a54cde+1  - actions DB length:  372000  - latest record from:  2023-01-08 17:14:47 33 days ago\n",
      "iterations:  372 Lines skipped:  372000 records collected:  1000  - latest recordID:  addCollateral   0x10a0981509a50cea879aa69213685127613fd378ab4e21200c9aff69a6a54cde  - actions DB length:  373000  - latest record from:  2023-01-08 17:14:47 33 days ago\n",
      "iterations:  373 Lines skipped:  373000 records collected:  1000  - latest recordID:  borrowAsset   0xf5f33626970eeb6831f72a4452c46d49e396a516041bc3601d7cba3b4c7f2002  - actions DB length:  374000  - latest record from:  2023-01-08 17:09:47 33 days ago\n",
      "iterations:  374 Lines skipped:  374000 records collected:  1000  - latest recordID:  addAsset   0xd731643f0ff1a778aa9a71ed4e02885707f6614a1c31e6f07492c6a29488786c  - actions DB length:  375000  - latest record from:  2023-01-08 14:20:11 33 days ago\n",
      "iterations:  375 Lines skipped:  375000 records collected:  1000  - latest recordID:  addAsset   0xd3e0734264e9d3b926518486ca0d796b96c0415b0e1efbe67576df1080bc5dee  - actions DB length:  376000  - latest record from:  2023-01-08 14:14:35 33 days ago\n",
      "iterations:  376 Lines skipped:  376000 records collected:  1000  - latest recordID:  borrowAsset   0x9e2a34623e3ae58220877d0e95b651103a11a2a9f19440e4ff9f8e7724eb1812  - actions DB length:  377000  - latest record from:  2023-01-08 13:56:35 33 days ago\n",
      "iterations:  377 Lines skipped:  377000 records collected:  1000  - latest recordID:  removeAsset   0x3ce9d96ddb970226ad3347b0c44f6d6e5e83c8e7561f8061321e74be0770940f  - actions DB length:  378000  - latest record from:  2023-01-08 13:46:35 33 days ago\n",
      "iterations:  378 Lines skipped:  378000 records collected:  1000  - latest recordID:  repayAsset   0x13dbf25c0a53645cf0cf707d7aeecb149490b474567af246f2ba94d1ae4fc6f2  - actions DB length:  379000  - latest record from:  2023-01-08 11:59:35 33 days ago\n",
      "iterations:  379 Lines skipped:  379000 records collected:  1000  - latest recordID:  borrowAsset   0x6d2c76886d534204920ab2d1f3fe06765d874a1e7ef2fd04638fb9fc0c0d5e5c+1  - actions DB length:  380000  - latest record from:  2023-01-08 09:20:11 33 days ago\n",
      "iterations:  380 Lines skipped:  380000 records collected:  1000  - latest recordID:  addCollateral   0x6d2c76886d534204920ab2d1f3fe06765d874a1e7ef2fd04638fb9fc0c0d5e5c  - actions DB length:  381000  - latest record from:  2023-01-08 09:20:11 33 days ago\n",
      "iterations:  381 Lines skipped:  381000 records collected:  1000  - latest recordID:  borrowAsset   0x134a6fddfb5aff2cfa3545e86cf083bcd57b0142fb01ce75b7bfff78aff30c20  - actions DB length:  382000  - latest record from:  2023-01-07 17:18:11 34 days ago\n",
      "iterations:  382 Lines skipped:  382000 records collected:  1000  - latest recordID:  addCollateral   0x495b98a0dcb94ce91b44d7d86d454d6ae617ce427d355d1ecef24e4d322cbb6e  - actions DB length:  383000  - latest record from:  2023-01-07 17:16:11 34 days ago\n",
      "iterations:  383 Lines skipped:  383000 records collected:  1000  - latest recordID:  borrowAsset   0x382338f0e469c80756ba6f382506dc1e9aafab3f29093aa32228006e2c10796c  - actions DB length:  384000  - latest record from:  2023-01-07 16:34:47 34 days ago\n",
      "iterations:  384 Lines skipped:  384000 records collected:  1000  - latest recordID:  borrowAsset   0x0aa4074a73402ce256c0d7dcb715c87b97c5ba644d09e32a5b7c732cb9fd64b9  - actions DB length:  385000  - latest record from:  2023-01-07 14:07:23 34 days ago\n",
      "iterations:  385 Lines skipped:  385000 records collected:  1000  - latest recordID:  borrowAsset   0xac99c8c630a1443cbfb950b4dd628a2c33be38bbf41b1958f9a0bb75c4c20471  - actions DB length:  386000  - latest record from:  2023-01-06 20:20:47 35 days ago\n",
      "iterations:  386 Lines skipped:  386000 records collected:  1000  - latest recordID:  addCollateral   0x7ba250e56ad7a192df442f5196030627fb9296c66c3b3c70cd14215e2ccf0d22  - actions DB length:  387000  - latest record from:  2023-01-06 20:19:11 35 days ago\n",
      "iterations:  387 Lines skipped:  387000 records collected:  1000  - latest recordID:  removeCollateral   0xad7b18d6fcfc00d0209c9729744424e7045873654ed81572d8a0679076bff16c  - actions DB length:  388000  - latest record from:  2023-01-06 11:16:59 35 days ago\n",
      "iterations:  388 Lines skipped:  388000 records collected:  1000  - latest recordID:  repayAsset   0xba8c00ec1d3bd8e1a5031ebcd00f1966d099dc17de8434069cc3e9709f1bd8b3  - actions DB length:  389000  - latest record from:  2023-01-06 11:14:47 35 days ago\n",
      "iterations:  389 Lines skipped:  389000 records collected:  1000  - latest recordID:  repayAsset   0xc340504a0db784dc3e64806e8a4d8de66d4b2aa1c28c471f03d3fe926ccc1672  - actions DB length:  390000  - latest record from:  2023-01-06 11:12:35 35 days ago\n",
      "iterations:  390 Lines skipped:  390000 records collected:  1000  - latest recordID:  borrowAsset   0x728e4e2c821118e6140a01115db8ccb3f4281405f16c644bf18ead8c444b8b1d+1  - actions DB length:  391000  - latest record from:  2023-01-06 07:31:47 35 days ago\n",
      "iterations:  391 Lines skipped:  391000 records collected:  1000  - latest recordID:  addCollateral   0x728e4e2c821118e6140a01115db8ccb3f4281405f16c644bf18ead8c444b8b1d  - actions DB length:  392000  - latest record from:  2023-01-06 07:31:47 35 days ago\n",
      "iterations:  392 Lines skipped:  392000 records collected:  1000  - latest recordID:  borrowAsset   0xf24e981647ca8c7d3bde1fd3f5a3224935c19ca906f024f0e70d368ee377920a  - actions DB length:  393000  - latest record from:  2023-01-06 07:28:23 35 days ago\n",
      "iterations:  393 Lines skipped:  393000 records collected:  1000  - latest recordID:  removeCollateral   0xb9e6940a9d51abc72a9375587f94126d3c0fd037d99736320e9de8ea34b769ee  - actions DB length:  394000  - latest record from:  2023-01-06 06:32:47 35 days ago\n",
      "iterations:  394 Lines skipped:  394000 records collected:  1000  - latest recordID:  repayAsset   0xb65426a8c1d06558804a27a2e0c1a65f81f0b68475cca007e3102f7a9685de82  - actions DB length:  395000  - latest record from:  2023-01-06 06:31:35 35 days ago\n",
      "iterations:  395 Lines skipped:  395000 records collected:  1000  - latest recordID:  borrowAsset   0xc68e5262eb7b74946a0768c7605d40fa89725490bef67dd527fc93c5baaa4051+1  - actions DB length:  396000  - latest record from:  2023-01-06 05:29:59 35 days ago\n",
      "iterations:  396 Lines skipped:  396000 records collected:  1000  - latest recordID:  addCollateral   0xc68e5262eb7b74946a0768c7605d40fa89725490bef67dd527fc93c5baaa4051  - actions DB length:  397000  - latest record from:  2023-01-06 05:29:59 35 days ago\n",
      "iterations:  397 Lines skipped:  397000 records collected:  1000  - latest recordID:  borrowAsset   0x4fce330b491b01da0725c385981fc95b647f545c1059ec954db47973b0a4d0ad  - actions DB length:  398000  - latest record from:  2023-01-06 05:27:35 35 days ago\n",
      "iterations:  398 Lines skipped:  398000 records collected:  1000  - latest recordID:  repayAsset   0xcd67d8e322952de56d2057f78d3afccfe2067fb5667df75129fa965dffa70a8c  - actions DB length:  399000  - latest record from:  2023-01-06 04:13:47 35 days ago\n",
      "iterations:  399 Lines skipped:  399000 records collected:  1000  - latest recordID:  removeCollateral   0x3abd995ffec73bac95921d3279aa129988df86ddfbe6ce2031f10fa89e6bda74  - actions DB length:  400000  - latest record from:  2023-01-06 04:10:23 35 days ago\n",
      "iterations:  400 Lines skipped:  400000 records collected:  1000  - latest recordID:  borrowAsset   0xa9b96f0a30f7c95d2328da28a3c7551b3fcbdca4a79f22212211a3b5d59d273f+1  - actions DB length:  401000  - latest record from:  2023-01-05 10:21:23 36 days ago\n",
      "iterations:  401 Lines skipped:  401000 records collected:  1000  - latest recordID:  addCollateral   0xa9b96f0a30f7c95d2328da28a3c7551b3fcbdca4a79f22212211a3b5d59d273f  - actions DB length:  402000  - latest record from:  2023-01-05 10:21:23 36 days ago\n",
      "iterations:  402 Lines skipped:  402000 records collected:  1000  - latest recordID:  borrowAsset   0x2b7733fed0df21cb210f01004ebb717721c0a621bd2ec827d3c8b3822425be1a+1  - actions DB length:  403000  - latest record from:  2023-01-05 03:17:11 36 days ago\n",
      "iterations:  403 Lines skipped:  403000 records collected:  1000  - latest recordID:  addCollateral   0x2b7733fed0df21cb210f01004ebb717721c0a621bd2ec827d3c8b3822425be1a  - actions DB length:  404000  - latest record from:  2023-01-05 03:17:11 36 days ago\n",
      "iterations:  404 Lines skipped:  404000 records collected:  1000  - latest recordID:  borrowAsset   0x31b3f583706c4702da2c7fa492fde86f05efd8e1eabc89eb0ca82c72c22ae235+1  - actions DB length:  405000  - latest record from:  2023-01-04 10:54:35 37 days ago\n",
      "iterations:  405 Lines skipped:  405000 records collected:  1000  - latest recordID:  addCollateral   0x31b3f583706c4702da2c7fa492fde86f05efd8e1eabc89eb0ca82c72c22ae235  - actions DB length:  406000  - latest record from:  2023-01-04 10:54:35 37 days ago\n",
      "iterations:  406 Lines skipped:  406000 records collected:  1000  - latest recordID:  borrowAsset   0x12da456da63a0aeeb512e91e360904073b6602ac8bbcb0ba31254babee36c672+1  - actions DB length:  407000  - latest record from:  2023-01-04 10:16:23 37 days ago\n",
      "iterations:  407 Lines skipped:  407000 records collected:  1000  - latest recordID:  addCollateral   0x12da456da63a0aeeb512e91e360904073b6602ac8bbcb0ba31254babee36c672  - actions DB length:  408000  - latest record from:  2023-01-04 10:16:23 37 days ago\n",
      "iterations:  408 Lines skipped:  408000 records collected:  1000  - latest recordID:  repayAsset   0xab85205e283529cdd4872b10e34bc9114fc323b4ff056dbadf3b9627e5be6bb7  - actions DB length:  409000  - latest record from:  2023-01-04 10:01:11 37 days ago\n",
      "iterations:  409 Lines skipped:  409000 records collected:  1000  - latest recordID:  borrowAsset   0x63cf9d10b4f61a4f6e3825ccf2e0acfbdcb9e9e08df15448302142ae4d02cf7e  - actions DB length:  410000  - latest record from:  2023-01-04 09:58:59 37 days ago\n",
      "iterations:  410 Lines skipped:  410000 records collected:  1000  - latest recordID:  removeAsset   0xb5c24e2d20088b47ecc50be2e61634596a5fd349f1a0648e026bdf7ce2bc41ee  - actions DB length:  411000  - latest record from:  2023-01-04 07:58:47 37 days ago\n",
      "iterations:  411 Lines skipped:  411000 records collected:  1000  - latest recordID:  removeAsset   0xaaddf12a01198a9bc300982984b6e4221956b074daae261a83a305a2539d9b08  - actions DB length:  412000  - latest record from:  2023-01-04 07:48:23 37 days ago\n",
      "iterations:  412 Lines skipped:  412000 records collected:  1000  - latest recordID:  removeCollateral   0x8236ba0d241c9b6831df3b41fd4dd4e18257eef9c23bdf3047fa8f0286cbef75  - actions DB length:  413000  - latest record from:  2023-01-03 17:56:35 38 days ago\n",
      "iterations:  413 Lines skipped:  413000 records collected:  1000  - latest recordID:  repayAsset   0xe5f52fb3db7446bbc40ec3c60b004edbddab1490919cb8551a56cd0d80a04c16  - actions DB length:  414000  - latest record from:  2023-01-03 17:54:11 38 days ago\n",
      "iterations:  414 Lines skipped:  414000 records collected:  1000  - latest recordID:  borrowAsset   0xeaefb301bba191a19f3f7fb22b7e8e5eaef8a01da7e5f2b5386aece10a71ec87  - actions DB length:  415000  - latest record from:  2023-01-03 16:03:11 38 days ago\n",
      "iterations:  415 Lines skipped:  415000 records collected:  1000  - latest recordID:  removeAsset   0x8284074d5c0b7d17bf16932930aa3abaa15ffb8bd9f34fb01c76eaad2c447691  - actions DB length:  416000  - latest record from:  2023-01-03 10:15:59 38 days ago\n",
      "iterations:  416 Lines skipped:  416000 records collected:  1000  - latest recordID:  removeCollateral   0x0fbbe236f0f2a7934f3238078d0b43c9bdecca6a947bea40ddfef8da8ad9d885  - actions DB length:  417000  - latest record from:  2023-01-03 04:43:47 38 days ago\n",
      "iterations:  417 Lines skipped:  417000 records collected:  1000  - latest recordID:  repayAsset   0x7ec5f7e6ef8e6be3697878cd0b7db2ded8fc26016b8b39dfaaae3b6704093231  - actions DB length:  418000  - latest record from:  2023-01-03 04:43:11 38 days ago\n",
      "iterations:  418 Lines skipped:  418000 records collected:  1000  - latest recordID:  removeCollateral   0x1496a89c475b9b34a2b51956c56d2ae9840150b59bdc13e375ca7a3938154c62  - actions DB length:  419000  - latest record from:  2023-01-03 04:41:11 38 days ago\n",
      "iterations:  419 Lines skipped:  419000 records collected:  1000  - latest recordID:  repayAsset   0x4f1f9ad495145c1798f2316ee1ca12bc0292b28f584299acf8b458d8375e7fd8  - actions DB length:  420000  - latest record from:  2023-01-03 04:40:35 38 days ago\n",
      "iterations:  420 Lines skipped:  420000 records collected:  1000  - latest recordID:  removeAsset   0xd98439feea51e7db3d2bb18ef9ecee846790a1b1593d6ca3a697f9186c195b95  - actions DB length:  421000  - latest record from:  2023-01-02 23:06:47 39 days ago\n",
      "iterations:  421 Lines skipped:  421000 records collected:  1000  - latest recordID:  removeAsset   0x180acf96d26f1f6afeeb65ff72361b24950051e6f0ea35be0a1f310a0bd5525c  - actions DB length:  422000  - latest record from:  2023-01-02 15:47:59 39 days ago\n",
      "iterations:  422 Lines skipped:  422000 records collected:  1000  - latest recordID:  borrowAsset   0x363d92fbaabb44ac6a64bf4b3eb4efb3d15bc5bbf8e12b284e785618164a3816  - actions DB length:  423000  - latest record from:  2023-01-02 15:05:47 39 days ago\n",
      "iterations:  423 Lines skipped:  423000 records collected:  1000  - latest recordID:  borrowAsset   0xf90384d5a4e125725583707a5304ff750b92b426bd114a95ccde7eea1688326c+1  - actions DB length:  424000  - latest record from:  2023-01-02 14:23:11 39 days ago\n",
      "iterations:  424 Lines skipped:  424000 records collected:  1000  - latest recordID:  addCollateral   0xf90384d5a4e125725583707a5304ff750b92b426bd114a95ccde7eea1688326c  - actions DB length:  425000  - latest record from:  2023-01-02 14:23:11 39 days ago\n",
      "iterations:  425 Lines skipped:  425000 records collected:  1000  - latest recordID:  borrowAsset   0x0491aa8b92702e0523b29461df381d4614c14b6f75bf8097de326e384e2cbea0  - actions DB length:  426000  - latest record from:  2023-01-02 14:20:23 39 days ago\n",
      "iterations:  426 Lines skipped:  426000 records collected:  1000  - latest recordID:  removeAsset   0x5219e21ca2feecf9b366d8047916c0b5e3f5548ef5d2a4ba73f7c0fce443687f  - actions DB length:  427000  - latest record from:  2023-01-02 14:17:11 39 days ago\n",
      "iterations:  427 Lines skipped:  427000 records collected:  1000  - latest recordID:  addAsset   0x618c1b10c424e6f00cf6d134c9fdac459eb9c94173f9137003410ca34231c716  - actions DB length:  428000  - latest record from:  2023-01-02 12:26:47 39 days ago\n",
      "iterations:  428 Lines skipped:  428000 records collected:  1000  - latest recordID:  borrowAsset   0x50df922a3295ec05c0f4004bd59c72506172473c8f828dc6fa0582d68bb656c9+1  - actions DB length:  429000  - latest record from:  2023-01-02 11:28:47 39 days ago\n",
      "iterations:  429 Lines skipped:  429000 records collected:  1000  - latest recordID:  addCollateral   0x50df922a3295ec05c0f4004bd59c72506172473c8f828dc6fa0582d68bb656c9  - actions DB length:  430000  - latest record from:  2023-01-02 11:28:47 39 days ago\n",
      "iterations:  430 Lines skipped:  430000 records collected:  1000  - latest recordID:  addAsset   0x27f9cc86d1f61f9598a091f2caa54b86abcfe74a43c87be87a1f89979dc00291  - actions DB length:  431000  - latest record from:  2023-01-02 01:56:23 39 days ago\n",
      "iterations:  431 Lines skipped:  431000 records collected:  1000  - latest recordID:  removeAsset   0x2ca618d64e7ba4016fdfde4b4f85db6167e2983cb7d80585ae69e4255b698c5a  - actions DB length:  432000  - latest record from:  2023-01-01 07:21:59 40 days ago\n",
      "iterations:  432 Lines skipped:  432000 records collected:  1000  - latest recordID:  removeAsset   0xaec57fde64471876742ebf77ab5f7d80fb17bc7ab7549c2fb4623f2741a8713b  - actions DB length:  433000  - latest record from:  2023-01-01 04:16:47 40 days ago\n",
      "iterations:  433 Lines skipped:  433000 records collected:  1000  - latest recordID:  removeAsset   0x018977f33babe5db0ee99cd9a7135a22e7f93108646fd192ce238183099567e3  - actions DB length:  434000  - latest record from:  2023-01-01 03:05:11 40 days ago\n",
      "iterations:  434 Lines skipped:  434000 records collected:  1000  - latest recordID:  borrowAsset   0x6fe2b2af310dfee16b6f2aef82d0ac4df4b54042fb7cf01f63732f5b99f52d1f+1  - actions DB length:  435000  - latest record from:  2022-12-31 17:26:35 41 days ago\n",
      "iterations:  435 Lines skipped:  435000 records collected:  1000  - latest recordID:  addCollateral   0x6fe2b2af310dfee16b6f2aef82d0ac4df4b54042fb7cf01f63732f5b99f52d1f  - actions DB length:  436000  - latest record from:  2022-12-31 17:26:35 41 days ago\n",
      "iterations:  436 Lines skipped:  436000 records collected:  1000  - latest recordID:  borrowAsset   0xa2b15c24e5ba958fb6453cc04e79b871dada7f2ea7d7e33d1a37d3bdd26a3794  - actions DB length:  437000  - latest record from:  2022-12-31 17:21:35 41 days ago\n",
      "iterations:  437 Lines skipped:  437000 records collected:  1000  - latest recordID:  removeCollateral   0xf3fea8b4ca84b5579566f5c0e117c0afbd5b9bf6a2c353ea3da1b122c7bb269a  - actions DB length:  438000  - latest record from:  2022-12-31 17:12:59 41 days ago\n",
      "iterations:  438 Lines skipped:  438000 records collected:  1000  - latest recordID:  repayAsset   0xd30c15913812359ce90b7b4e215ebd1ea6e7f7b0979382c671a4a5d7bfe72810  - actions DB length:  439000  - latest record from:  2022-12-31 17:12:23 41 days ago\n",
      "iterations:  439 Lines skipped:  439000 records collected:  1000  - latest recordID:  removeCollateral   0x35b574bbc91cef4132f3309f975588708828266f332cfc360b50a27091cf1ed8  - actions DB length:  440000  - latest record from:  2022-12-31 17:08:11 41 days ago\n",
      "iterations:  440 Lines skipped:  440000 records collected:  1000  - latest recordID:  repayAsset   0x8db7b09c8ce58cdec09aec48d2d36741974f178b23d65ae66490b3edbf84d6c8  - actions DB length:  441000  - latest record from:  2022-12-31 17:06:11 41 days ago\n",
      "iterations:  441 Lines skipped:  441000 records collected:  1000  - latest recordID:  removeCollateral   0xf7c150d1950f9e66b70a8bc68ec4af4c6b1bccc1820357503850c774cb709b67  - actions DB length:  442000  - latest record from:  2022-12-31 17:02:11 41 days ago\n",
      "iterations:  442 Lines skipped:  442000 records collected:  1000  - latest recordID:  repayAsset   0x07dc1ff2408bf671fe3452abe9c3221a2eba49789aa2a5ceefb6718b15238892  - actions DB length:  443000  - latest record from:  2022-12-31 17:00:35 41 days ago\n",
      "iterations:  443 Lines skipped:  443000 records collected:  1000  - latest recordID:  removeCollateral   0x9f998e86dee4557ea0f49af71abaa9c54c5ac2150ecd8c8c8b56c020273e9f05  - actions DB length:  444000  - latest record from:  2022-12-31 16:54:35 41 days ago\n",
      "iterations:  444 Lines skipped:  444000 records collected:  1000  - latest recordID:  repayAsset   0xdbc4ab343d6fb5e1129794d627aeb7639ec52992350567ee9205e48404cf47fe  - actions DB length:  445000  - latest record from:  2022-12-31 16:53:59 41 days ago\n",
      "iterations:  445 Lines skipped:  445000 records collected:  1000  - latest recordID:  repayAsset   0x8060f32be111ff1503918d9f30982d18658aa38ea1afbac5a6d9892c2ab32153  - actions DB length:  446000  - latest record from:  2022-12-31 16:53:11 41 days ago\n",
      "iterations:  446 Lines skipped:  446000 records collected:  1000  - latest recordID:  removeCollateral   0x3e36c04eb4f339a55c5a7f9113a959761a6a3d6f07035c34dff4c3013db76096  - actions DB length:  447000  - latest record from:  2022-12-31 16:41:11 41 days ago\n",
      "iterations:  447 Lines skipped:  447000 records collected:  1000  - latest recordID:  borrowAsset   0x4a4bd7eb9f651028b3e4f3e6781509c59769a262e2a950d4a836bdbba4f249d2  - actions DB length:  448000  - latest record from:  2022-12-31 13:50:23 41 days ago\n",
      "iterations:  448 Lines skipped:  448000 records collected:  1000  - latest recordID:  borrowAsset   0x3830b14e66dc08efc27148c0ee0100278a44db82bd7663db141e3c96d99d0188  - actions DB length:  449000  - latest record from:  2022-12-31 13:48:47 41 days ago\n",
      "iterations:  449 Lines skipped:  449000 records collected:  1000  - latest recordID:  addAsset   0xdcae6442b08994156cb2689cf4aceb070506682670628f5cd27ffc2da66ec0ad  - actions DB length:  450000  - latest record from:  2022-12-31 11:25:11 41 days ago\n",
      "iterations:  450 Lines skipped:  450000 records collected:  1000  - latest recordID:  removeCollateral   0xbb960d72b1c0d5d7b5bce714c47cc5c145d367e03e39ce2d76c6c58f113391fc  - actions DB length:  451000  - latest record from:  2022-12-31 05:21:47 41 days ago\n",
      "iterations:  451 Lines skipped:  451000 records collected:  1000  - latest recordID:  addAsset   0x26a4f89f9f4d8ae352abaca55828080160c9c53055a39f1ba143b3b155f5fbee  - actions DB length:  452000  - latest record from:  2022-12-31 05:19:59 41 days ago\n",
      "iterations:  452 Lines skipped:  452000 records collected:  1000  - latest recordID:  borrowAsset   0xe20845b3fa88645c439a73ae7d4743ecbcd445e791337a08523a2f9fb35a6002  - actions DB length:  453000  - latest record from:  2022-12-31 04:02:59 41 days ago\n",
      "iterations:  453 Lines skipped:  453000 records collected:  1000  - latest recordID:  repayAsset   0x8518d6b41a73a7692d135270a2fae04667ecf687dcb69af1a6509a6a01e50665  - actions DB length:  454000  - latest record from:  2022-12-30 08:53:23 42 days ago\n",
      "iterations:  454 Lines skipped:  454000 records collected:  1000  - latest recordID:  removeCollateral   0x6fc4370e2f234b35626754537748289384ac897bfb2d6fb8f4c96934088268a2  - actions DB length:  455000  - latest record from:  2022-12-30 08:53:11 42 days ago\n",
      "iterations:  455 Lines skipped:  455000 records collected:  1000  - latest recordID:  addCollateral   0x8c88d4fd282565113d131c7e77662c3e66ddbd597d224b9fef8968d0d7403899  - actions DB length:  456000  - latest record from:  2022-12-30 08:35:59 42 days ago\n",
      "iterations:  456 Lines skipped:  456000 records collected:  1000  - latest recordID:  removeAsset   0xaf4db7e20be440b63a35e86798253024a4cfa38ed0d535c5b6c559b655d2cbdd  - actions DB length:  457000  - latest record from:  2022-12-30 08:34:23 42 days ago\n",
      "iterations:  457 Lines skipped:  457000 records collected:  1000  - latest recordID:  addAsset   0xba0e7b601318ada0ca7d6c9e7a37bcf7d355e6b746e5d2913f608585f3b6e69c  - actions DB length:  458000  - latest record from:  2022-12-30 05:48:23 42 days ago\n",
      "iterations:  458 Lines skipped:  458000 records collected:  1000  - latest recordID:  removeAsset   0xf681d15565f681fdda2b04184b19ab08fac1df15230fb9824966b94c4b0082ca  - actions DB length:  459000  - latest record from:  2022-12-30 02:17:11 42 days ago\n",
      "iterations:  459 Lines skipped:  459000 records collected:  1000  - latest recordID:  removeAsset   0xf9dbea5dd1521b5c268ae7bc171847efc937e0a7392c29c476e121abf3bf9e50  - actions DB length:  460000  - latest record from:  2022-12-30 02:16:35 42 days ago\n",
      "iterations:  460 Lines skipped:  460000 records collected:  1000  - latest recordID:  removeAsset   0x83334f4056d8cfbb52dc40a13247cdc81e700a81287fdd2d84cc66a02c4d5bb6  - actions DB length:  461000  - latest record from:  2022-12-30 00:59:23 42 days ago\n",
      "iterations:  461 Lines skipped:  461000 records collected:  1000  - latest recordID:  removeCollateral   0xfa615484ac68011f31677957c621f9fd15538bb1ff4ec0dbba117a41be420eaf  - actions DB length:  462000  - latest record from:  2022-12-29 22:59:23 43 days ago\n",
      "iterations:  462 Lines skipped:  462000 records collected:  1000  - latest recordID:  repayAsset   0x9a8ec3b90f9fbbc234c637c534aeb1ab41509819b824b96910e46e91e593fdbc  - actions DB length:  463000  - latest record from:  2022-12-29 22:57:23 43 days ago\n",
      "iterations:  463 Lines skipped:  463000 records collected:  1000  - latest recordID:  removeAsset   0xcedd692e0ba2855372cbbe688a80372185cdaa99b521a6156474c72ea3a55c7c  - actions DB length:  464000  - latest record from:  2022-12-29 22:26:59 43 days ago\n",
      "iterations:  464 Lines skipped:  464000 records collected:  1000  - latest recordID:  borrowAsset   0x1ae051d2093abba1c6252364596cde4fdbdab93707dbfa42752337e92f718d14+1  - actions DB length:  465000  - latest record from:  2022-12-29 22:22:23 43 days ago\n",
      "iterations:  465 Lines skipped:  465000 records collected:  1000  - latest recordID:  addCollateral   0x1ae051d2093abba1c6252364596cde4fdbdab93707dbfa42752337e92f718d14  - actions DB length:  466000  - latest record from:  2022-12-29 22:22:23 43 days ago\n",
      "iterations:  466 Lines skipped:  466000 records collected:  1000  - latest recordID:  removeAsset   0x9dd2077ee55b7cc04d0f29a45c7a28a79fdc3b2335473b8bb02f3572994d7d4b  - actions DB length:  467000  - latest record from:  2022-12-29 22:15:59 43 days ago\n",
      "iterations:  467 Lines skipped:  467000 records collected:  1000  - latest recordID:  repayAsset   0xb60fa65779c4d9d3f4271398e2b92864577c0c2c098cd103ac75baa18ddb12b9  - actions DB length:  468000  - latest record from:  2022-12-29 18:15:35 43 days ago\n",
      "iterations:  468 Lines skipped:  468000 records collected:  1000  - latest recordID:  repayAsset   0xf2c7023f8de0fe94a3a0d758a46ae37531adae2df402c86b95d57a9fe8f411d2  - actions DB length:  469000  - latest record from:  2022-12-29 17:57:35 43 days ago\n",
      "iterations:  469 Lines skipped:  469000 records collected:  1000  - latest recordID:  removeCollateral   0x3819024bd32b57d4bdfd71a3617c56ac6c145dfb02948522b6d7df2648a71015  - actions DB length:  470000  - latest record from:  2022-12-29 17:44:35 43 days ago\n",
      "iterations:  470 Lines skipped:  470000 records collected:  1000  - latest recordID:  repayAsset   0x30eec36a995567a9ca9a2e9973df11d676417cb8c3f04c1ea1c18132b5d6329f  - actions DB length:  471000  - latest record from:  2022-12-29 17:40:47 43 days ago\n",
      "iterations:  471 Lines skipped:  471000 records collected:  1000  - latest recordID:  removeCollateral   0x516a6a6be9bfd262e6ccccb2aa4835113ee1e00a3f27dd44d942ad0b78375728  - actions DB length:  472000  - latest record from:  2022-12-29 17:26:47 43 days ago\n",
      "iterations:  472 Lines skipped:  472000 records collected:  1000  - latest recordID:  repayAsset   0xe18f6fe4ba24384ff69de9490c47c5f0eeaae846686bf52f3b873db561317181  - actions DB length:  473000  - latest record from:  2022-12-29 17:26:11 43 days ago\n",
      "iterations:  473 Lines skipped:  473000 records collected:  1000  - latest recordID:  removeCollateral   0x5f066efbe580cbd408e4a95fd45464a39b2229994950b01c6d1bb261c1bb1daf  - actions DB length:  474000  - latest record from:  2022-12-29 17:06:59 43 days ago\n",
      "iterations:  474 Lines skipped:  474000 records collected:  1000  - latest recordID:  addAsset   0x17260f8988bc4b3c09af903fe97a2936b057a635ebbae8c129d314b466b72bcc  - actions DB length:  475000  - latest record from:  2022-12-29 17:01:23 43 days ago\n",
      "iterations:  475 Lines skipped:  475000 records collected:  1000  - latest recordID:  borrowAsset   0x0edabc0905821baa5a53ed0e16332855fbe79f1c808a278a686d11a8bbddb3c5  - actions DB length:  476000  - latest record from:  2022-12-29 16:07:23 43 days ago\n",
      "iterations:  476 Lines skipped:  476000 records collected:  1000  - latest recordID:  addCollateral   0x05d847c6aa02d9c21f41738de7be71780b37c7b0e33b8b938f5bd586e6f8842e  - actions DB length:  477000  - latest record from:  2022-12-29 16:03:35 43 days ago\n",
      "iterations:  477 Lines skipped:  477000 records collected:  1000  - latest recordID:  addCollateral   0xcd7d5c95207f85146fbf7d814e156c68c8bb18a7e8f3a8d058cde9c2c2923654  - actions DB length:  478000  - latest record from:  2022-12-29 13:26:11 43 days ago\n",
      "iterations:  478 Lines skipped:  478000 records collected:  1000  - latest recordID:  borrowAsset   0x5192e16e5e88ae980a29c4fe27a5244e61e5625e2fb27186ee3da7f6b92a2cc7+1  - actions DB length:  479000  - latest record from:  2022-12-28 16:44:35 44 days ago\n",
      "iterations:  479 Lines skipped:  479000 records collected:  1000  - latest recordID:  addCollateral   0x5192e16e5e88ae980a29c4fe27a5244e61e5625e2fb27186ee3da7f6b92a2cc7  - actions DB length:  480000  - latest record from:  2022-12-28 16:44:35 44 days ago\n",
      "iterations:  480 Lines skipped:  480000 records collected:  1000  - latest recordID:  removeAsset   0x1b8a2e24aca32cda8147e5013c18f8b3308950703e27c719454df834a07f40a2  - actions DB length:  481000  - latest record from:  2022-12-28 13:42:11 44 days ago\n",
      "iterations:  481 Lines skipped:  481000 records collected:  1000  - latest recordID:  removeAsset   0x70c26afabb427d10120d55a73f9015d0a89e5f0eb4d40386b95d836fc62cf4ba  - actions DB length:  482000  - latest record from:  2022-12-28 13:14:11 44 days ago\n",
      "iterations:  482 Lines skipped:  482000 records collected:  1000  - latest recordID:  addAsset   0xb430a69cdb6e631f230371bfe93c3fce5cfe38aaf1f4ab2f5bfc5fa724b80d98  - actions DB length:  483000  - latest record from:  2022-12-28 08:32:59 44 days ago\n",
      "iterations:  483 Lines skipped:  483000 records collected:  1000  - latest recordID:  addCollateral   0x8a4fb77ba9686ec3060be4efacff7be34bc9e6d66bc6a943d528238545768be5  - actions DB length:  484000  - latest record from:  2022-12-28 08:18:35 44 days ago\n",
      "iterations:  484 Lines skipped:  484000 records collected:  1000  - latest recordID:  borrowAsset   0x3e4e379630ff397b0e9b92e02010deeff8dd0f7f110afad9524b84e83f019198  - actions DB length:  485000  - latest record from:  2022-12-28 07:06:35 44 days ago\n",
      "iterations:  485 Lines skipped:  485000 records collected:  1000  - latest recordID:  removeCollateral   0x3ecc506665bbf0e1b73d1211fc37794f8d83c34d39dce3e5d9cf77c41e40456a  - actions DB length:  486000  - latest record from:  2022-12-28 05:00:47 44 days ago\n",
      "iterations:  486 Lines skipped:  486000 records collected:  1000  - latest recordID:  repayAsset   0x1b9fde13068888f5696defc201ef745e61732ad3a87522dacb71baf43615ecb4  - actions DB length:  487000  - latest record from:  2022-12-28 05:00:11 44 days ago\n",
      "iterations:  487 Lines skipped:  487000 records collected:  1000  - latest recordID:  removeCollateral   0xd267055b17b418ee76dc1c10d5374f6c63cea53af2535f4f231be63ecfbbffd1  - actions DB length:  488000  - latest record from:  2022-12-28 04:55:47 44 days ago\n",
      "iterations:  488 Lines skipped:  488000 records collected:  1000  - latest recordID:  repayAsset   0xe61c17a9e2decf7a9b5058ef74977732d9374b44542cfefd31a99c614759d528  - actions DB length:  489000  - latest record from:  2022-12-28 04:54:23 44 days ago\n",
      "iterations:  489 Lines skipped:  489000 records collected:  1000  - latest recordID:  removeCollateral   0x93ed8c5cea79f8b6f720927f13cabd72ad813b47c4f1e2c0e8d75448913c5671  - actions DB length:  490000  - latest record from:  2022-12-28 04:42:59 44 days ago\n",
      "iterations:  490 Lines skipped:  490000 records collected:  1000  - latest recordID:  addAsset   0x0e6362bcc68e50fac079cfda65ed2c430cac6eee7ec1478f8859857cda43b966  - actions DB length:  491000  - latest record from:  2022-12-28 04:40:47 44 days ago\n",
      "iterations:  491 Lines skipped:  491000 records collected:  1000  - latest recordID:  addAsset   0x53d89aafd2f1b2fa24b06a5568417aba811340612c79747e917334c2acb7fb11  - actions DB length:  492000  - latest record from:  2022-12-28 03:23:59 44 days ago\n",
      "iterations:  492 Lines skipped:  492000 records collected:  1000  - latest recordID:  addAsset   0xc110830f53fb68f344dbc8f95a4c28511934d213e476417c98454ae7ac618681  - actions DB length:  493000  - latest record from:  2022-12-28 02:09:59 44 days ago\n",
      "iterations:  493 Lines skipped:  493000 records collected:  1000  - latest recordID:  addAsset   0xefa5e3afdf7c663fbb3c9be77555fdf8f6ba0b4438106f0459168b41cc9fcce7  - actions DB length:  494000  - latest record from:  2022-12-28 01:46:23 44 days ago\n",
      "iterations:  494 Lines skipped:  494000 records collected:  1000  - latest recordID:  addAsset   0x48f0f88289446ceb26fc6b74304d254ae6e8e9806caf66e262523e9f9d346424  - actions DB length:  495000  - latest record from:  2022-12-28 00:46:11 44 days ago\n",
      "iterations:  495 Lines skipped:  495000 records collected:  1000  - latest recordID:  addAsset   0x19af2d7615b48e537a64449e0d17f4cbc15973ac08a9c068f6f878cfedff334d  - actions DB length:  496000  - latest record from:  2022-12-28 00:44:35 44 days ago\n",
      "iterations:  496 Lines skipped:  496000 records collected:  1000  - latest recordID:  addAsset   0xa157f5c0ece82a9a96e3e1ba0eb626f4597b935ba4528aef34a0e5727e4725e3  - actions DB length:  497000  - latest record from:  2022-12-27 22:41:47 45 days ago\n",
      "iterations:  497 Lines skipped:  497000 records collected:  1000  - latest recordID:  borrowAsset   0x95ed0727a1e51bd46de1de35e2f12d794626d06ed8b8030d8e88f86fe6cafb7d  - actions DB length:  498000  - latest record from:  2022-12-27 22:40:47 45 days ago\n",
      "iterations:  498 Lines skipped:  498000 records collected:  1000  - latest recordID:  addCollateral   0x7182fe4d52017bb71b80986e98f6961638970aae03b7b0d129dd34b50bd208a6  - actions DB length:  499000  - latest record from:  2022-12-27 22:38:35 45 days ago\n",
      "iterations:  499 Lines skipped:  499000 records collected:  1000  - latest recordID:  removeCollateral   0xc622990dc7e6b190562320ff921b0d3b2cfae8c558155ebd4b3a788295a339ad  - actions DB length:  500000  - latest record from:  2022-12-27 20:47:47 45 days ago\n",
      "iterations:  500 Lines skipped:  500000 records collected:  1000  - latest recordID:  addCollateral   0xdd7703c4098b5c3674c218048b8364ee86363ab823233957298cb7e4376e9aff  - actions DB length:  501000  - latest record from:  2022-12-27 20:46:35 45 days ago\n",
      "iterations:  501 Lines skipped:  501000 records collected:  1000  - latest recordID:  addAsset   0xf67b2a24489afb34d80fb275f3b1fd36f3aa21a82ee67e896c45672ebc931b99  - actions DB length:  502000  - latest record from:  2022-12-27 20:08:11 45 days ago\n",
      "iterations:  502 Lines skipped:  502000 records collected:  1000  - latest recordID:  borrowAsset   0x52dc280d8132da95d3e18a7e8f3560c7ec52634c6003833f71318d71bb241769+1  - actions DB length:  503000  - latest record from:  2022-12-27 19:16:47 45 days ago\n",
      "iterations:  503 Lines skipped:  503000 records collected:  1000  - latest recordID:  addCollateral   0x52dc280d8132da95d3e18a7e8f3560c7ec52634c6003833f71318d71bb241769  - actions DB length:  504000  - latest record from:  2022-12-27 19:16:47 45 days ago\n",
      "iterations:  504 Lines skipped:  504000 records collected:  1000  - latest recordID:  removeCollateral   0xbc95cd208ca3f97d5bcaee41e1655a46d9155c0354744d45ae584fa70d0d5e91  - actions DB length:  505000  - latest record from:  2022-12-27 18:58:35 45 days ago\n",
      "iterations:  505 Lines skipped:  505000 records collected:  1000  - latest recordID:  borrowAsset   0x659b62bb1e28dd407da88b7c7678c25b608f38f8d0050d07780427f55a8c2a78+1  - actions DB length:  506000  - latest record from:  2022-12-27 18:04:23 45 days ago\n",
      "iterations:  506 Lines skipped:  506000 records collected:  1000  - latest recordID:  addCollateral   0x659b62bb1e28dd407da88b7c7678c25b608f38f8d0050d07780427f55a8c2a78  - actions DB length:  507000  - latest record from:  2022-12-27 18:04:23 45 days ago\n",
      "iterations:  507 Lines skipped:  507000 records collected:  1000  - latest recordID:  removeCollateral   0x5f1453889d856a3d8e8356652729ed878da873a03194142344c3e45b265f7c36  - actions DB length:  508000  - latest record from:  2022-12-27 16:48:23 45 days ago\n",
      "iterations:  508 Lines skipped:  508000 records collected:  1000  - latest recordID:  repayAsset   0x136903086fcfebc828ca18c4f07bf1bea25cf9d9bbae39529298d0f14e3313f6  - actions DB length:  509000  - latest record from:  2022-12-27 16:46:23 45 days ago\n",
      "iterations:  509 Lines skipped:  509000 records collected:  1000  - latest recordID:  repayAsset   0xee9d1641a85c5dccca90b16fffc1b14fd2f09801f4958b398d5eeb079b94ac24  - actions DB length:  510000  - latest record from:  2022-12-27 16:42:35 45 days ago\n",
      "iterations:  510 Lines skipped:  510000 records collected:  1000  - latest recordID:  addAsset   0x84510c1feb546c4c03fd28c9241d6a80aaa7c8b45b4f0df955a21fc63469f4f4  - actions DB length:  511000  - latest record from:  2022-12-27 14:19:59 45 days ago\n",
      "iterations:  511 Lines skipped:  511000 records collected:  1000  - latest recordID:  addAsset   0x72ed06dbfb87f97e7562b208eaeae898206d8fa6c35007eaae70f5e5a8638085  - actions DB length:  512000  - latest record from:  2022-12-27 12:51:59 45 days ago\n",
      "iterations:  512 Lines skipped:  512000 records collected:  1000  - latest recordID:  borrowAsset   0x275c239ca9f1bbb07a5ff06d8ea106868dcefc2b2fd9cb063ca30377773a84cc+1  - actions DB length:  513000  - latest record from:  2022-12-27 11:27:59 45 days ago\n",
      "iterations:  513 Lines skipped:  513000 records collected:  1000  - latest recordID:  addCollateral   0x275c239ca9f1bbb07a5ff06d8ea106868dcefc2b2fd9cb063ca30377773a84cc  - actions DB length:  514000  - latest record from:  2022-12-27 11:27:59 45 days ago\n",
      "iterations:  514 Lines skipped:  514000 records collected:  1000  - latest recordID:  removeCollateral   0x655d0a516a1d5a2e97abe6558602049568d1223d1a4c5c033fc4231de6852e1d  - actions DB length:  515000  - latest record from:  2022-12-27 10:53:59 45 days ago\n",
      "iterations:  515 Lines skipped:  515000 records collected:  1000  - latest recordID:  borrowAsset   0x105a9206970f2cb517f4b3c61239f5e4d5bae0d888aec2e0d124523e69d5eaaf+1  - actions DB length:  516000  - latest record from:  2022-12-27 10:12:35 45 days ago\n",
      "iterations:  516 Lines skipped:  516000 records collected:  1000  - latest recordID:  addCollateral   0x105a9206970f2cb517f4b3c61239f5e4d5bae0d888aec2e0d124523e69d5eaaf  - actions DB length:  517000  - latest record from:  2022-12-27 10:12:35 45 days ago\n",
      "iterations:  517 Lines skipped:  517000 records collected:  1000  - latest recordID:  addAsset   0x0a167d0ec05e2853c87f66a6a9279e20f931f6a459e87aa7192716f08d71498a  - actions DB length:  518000  - latest record from:  2022-12-27 10:05:47 45 days ago\n",
      "iterations:  518 Lines skipped:  518000 records collected:  1000  - latest recordID:  addAsset   0x175ce13c455bf41af3e441219ed3b2c6c5aa1b19fe415dc4bce6c2a7f89a7dc1  - actions DB length:  519000  - latest record from:  2022-12-27 10:04:47 45 days ago\n",
      "iterations:  519 Lines skipped:  519000 records collected:  1000  - latest recordID:  addAsset   0x0a253bd4d8a33bd07f20d07409eb59511b908b473ec90cba4ac2a14f51690f7a  - actions DB length:  520000  - latest record from:  2022-12-27 09:55:35 45 days ago\n",
      "iterations:  520 Lines skipped:  520000 records collected:  1000  - latest recordID:  addAsset   0xfa7dc924e52e24da06d3b0c0384a94cd834ceb329d2ffc2334a1be2adfaddd5f  - actions DB length:  521000  - latest record from:  2022-12-27 08:24:23 45 days ago\n",
      "iterations:  521 Lines skipped:  521000 records collected:  1000  - latest recordID:  repayAsset   0x01d928e0202c5e302701c652f9d2a2dc697810cf0fb6eeb6f339b3ce0d02f8fa  - actions DB length:  522000  - latest record from:  2022-12-27 08:19:47 45 days ago\n",
      "iterations:  522 Lines skipped:  522000 records collected:  1000  - latest recordID:  borrowAsset   0x8a24484f953ab5e53c4bb71251063c3204af3a2569630f63a230717959b2347b+1  - actions DB length:  523000  - latest record from:  2022-12-27 08:19:23 45 days ago\n",
      "iterations:  523 Lines skipped:  523000 records collected:  1000  - latest recordID:  addCollateral   0x8a24484f953ab5e53c4bb71251063c3204af3a2569630f63a230717959b2347b  - actions DB length:  524000  - latest record from:  2022-12-27 08:19:23 45 days ago\n",
      "iterations:  524 Lines skipped:  524000 records collected:  1000  - latest recordID:  removeAsset   0xa5150fac5d9be266d6d74502f9b769bedf457bc5c6b4eb812720ec90f14d9cc2  - actions DB length:  525000  - latest record from:  2022-12-27 07:57:11 45 days ago\n",
      "iterations:  525 Lines skipped:  525000 records collected:  1000  - latest recordID:  addAsset   0xedcf831cfef120d3559ec7000865cb4d2758c533d6a75c6bb34f2d280a349db8  - actions DB length:  526000  - latest record from:  2022-12-27 07:50:23 45 days ago\n",
      "iterations:  526 Lines skipped:  526000 records collected:  1000  - latest recordID:  addCollateral   0x8443923cc95fbfd11f681feb7e4baad7828eff3d8b03a85ccd4a0909923b78bf  - actions DB length:  527000  - latest record from:  2022-12-27 06:58:35 45 days ago\n",
      "iterations:  527 Lines skipped:  527000 records collected:  1000  - latest recordID:  removeCollateral   0x8d7ab6c715fd4d107ef2c42091f4a36923e2f48b48e3aad60013e5e1c57ce2c7  - actions DB length:  528000  - latest record from:  2022-12-27 04:58:47 45 days ago\n",
      "iterations:  528 Lines skipped:  528000 records collected:  1000  - latest recordID:  borrowAsset   0x187782f481ae96862f028f724191157ab74d95127ad66f56cf5f98e7938907e2+1  - actions DB length:  529000  - latest record from:  2022-12-27 04:17:23 45 days ago\n",
      "iterations:  529 Lines skipped:  529000 records collected:  1000  - latest recordID:  addCollateral   0x187782f481ae96862f028f724191157ab74d95127ad66f56cf5f98e7938907e2  - actions DB length:  530000  - latest record from:  2022-12-27 04:17:23 45 days ago\n",
      "iterations:  530 Lines skipped:  530000 records collected:  1000  - latest recordID:  borrowAsset   0x73bf805a6b9f53eae73291864623cf1964165ea8e1913d6957e9a704c63fd344  - actions DB length:  531000  - latest record from:  2022-12-27 04:12:11 45 days ago\n",
      "iterations:  531 Lines skipped:  531000 records collected:  1000  - latest recordID:  borrowAsset   0x08443de0d5df665fc2653749945a6045e20f6dde2099a33362e66f82c9b4c7cc+1  - actions DB length:  532000  - latest record from:  2022-12-27 04:11:47 45 days ago\n",
      "iterations:  532 Lines skipped:  532000 records collected:  1000  - latest recordID:  addCollateral   0x08443de0d5df665fc2653749945a6045e20f6dde2099a33362e66f82c9b4c7cc  - actions DB length:  533000  - latest record from:  2022-12-27 04:11:47 45 days ago\n",
      "iterations:  533 Lines skipped:  533000 records collected:  1000  - latest recordID:  removeCollateral   0xff3077667ca7a034c831da0e539c810f75edbef2232ad5eca74f6f3ebde3a736  - actions DB length:  534000  - latest record from:  2022-12-27 04:04:35 45 days ago\n",
      "iterations:  534 Lines skipped:  534000 records collected:  1000  - latest recordID:  addAsset   0xfb520d84ddd30198a154122cd57d3bca9f7ec83910f404691b370136d2d7faed  - actions DB length:  535000  - latest record from:  2022-12-27 02:37:47 45 days ago\n",
      "iterations:  535 Lines skipped:  535000 records collected:  1000  - latest recordID:  addAsset   0xcb8d95ebad9228e77c633af068d128e347a5b9013078348cf211901a89858bdb  - actions DB length:  536000  - latest record from:  2022-12-26 23:01:59 46 days ago\n",
      "Done. Total Records collected:  536000\n"
     ]
    }
   ],
   "source": [
    "actionListLength=0\n",
    "actionTicker = 0\n",
    "fraxUsersDb = pd.DataFrame()\n",
    "actionsDb = pd.DataFrame()\n",
    "actionListLength = 1000\n",
    "datediff = 0\n",
    "now=0\n",
    "daysAgo=0\n",
    "daysLimit = 45\n",
    "exit = False\n",
    "while exit==False:\n",
    "    #listLength=0\n",
    "    skipValue = (actionTicker)*(1000)\n",
    "    actionsQuery = frax.Query.actions(\n",
    "         orderBy='timestamp'\n",
    "        ,orderDirection='desc'\n",
    "        ,first=1000\n",
    "        ,skipValue = skipValue\n",
    "        #,where = [frax.Query.actions.token.id == '0x66bf36dba79d4606039f04b32946a260bcd3ff52']\n",
    "        ,where={ 'pair': '0x66bf36dba79d4606039f04b32946a260bcd3ff52' }\n",
    "        #,where = {'positions.pairid':'0x66bf36dba79d4606039f04b32946a260bcd3ff52'}\n",
    "    #{'users_positions_pair_id':'0x66bf36dba79d4606039f04b32946a260bcd3ff52'}\n",
    "\n",
    "    )\n",
    "    actions= sg.query_df([\n",
    "        actionsQuery.id\n",
    "        ,actionsQuery.type\n",
    "        ,actionsQuery.amount\n",
    "        ,actionsQuery.share\n",
    "        ,actionsQuery.timestamp\n",
    "        ,actionsQuery.block\n",
    "        ,actionsQuery.token\n",
    "        ,actionsQuery.root\n",
    "        ]\n",
    "    )\n",
    "\n",
    "    actions.sort_values(by=['actions_timestamp'])\n",
    "\n",
    "    actionsDb=pd.concat([actionsDb, actions])\n",
    "    recordTimestamp1 = actionsDb.iat[actionTicker,4]\n",
    "    recordTimestamp = dt.datetime.fromtimestamp( recordTimestamp1 )\n",
    "    now = (int(dt.datetime.utcnow().timestamp()))\n",
    "    datediff=abs(int(now) - recordTimestamp1)\n",
    "    daysAgo = int(datediff/86400)\n",
    "    actionsDbLength = len(actionsDb)\n",
    "    actionListLength = len(actions)\n",
    "    recordID = actionsDb.iat[actionTicker,0]\n",
    "    action = actionsDb.iat[actionTicker,1]\n",
    "    print(\"iterations: \", actionTicker, \"Lines skipped: \",skipValue, \"records collected: \", actionListLength, \" - latest recordID: \",action, \" \", recordID , \" - actions DB length: \", actionsDbLength, \" - latest record from: \", recordTimestamp, daysAgo,\"days ago\")\n",
    "    #print(\"iterations: \", actionTicker, \"records collected: \", actionListLength, \" - userdb length: \", actionsDbLength)\n",
    "    if daysAgo>daysLimit: exit =True\n",
    "    if actionsDbLength<1000: exit =True\n",
    "    actionTicker = actionTicker+1\n",
    "print(\"Done. Total Records collected: \", actionsDbLength)"
   ],
   "metadata": {
    "collapsed": false
   }
  },
  {
   "cell_type": "code",
   "execution_count": 81,
   "outputs": [
    {
     "data": {
      "text/plain": "                                          actions_id      actions_type  \\\n0  0x12a8cb34e5cb26d0ee0b0cc211aabb0b03f636409dbd...  removeCollateral   \n1  0xc7c1739911ae71f7726d1d32214edb8161a341f7fcd7...        repayAsset   \n2  0x40e939c94b527bd4eb9f8f102cfe3c179b61f0da6bb7...        repayAsset   \n3  0x6dc275d27f2cbca7232c6fa9019ea1c84a3983636a7c...       borrowAsset   \n4  0x83e2ea08ec4f8a38735c7ad01954ce62ae9f79b84e7d...        repayAsset   \n5  0x004795cddb57f7037626cc0ca26e84c7507dde798b5a...  removeCollateral   \n6  0x17df17ec4b65d028374f6407d7998a40e2a4fdca7cbe...  removeCollateral   \n7  0xd76a5cb0e7219544a326f05a05bc08f8e79de4947c20...       borrowAsset   \n8  0x5dee647c2e8ebfad8bac45dd1ca3eab67b4841ef1692...        repayAsset   \n9  0xd35638a578d8f0b2134f2e09f085f4d4d2dbb1494604...       borrowAsset   \n\n            actions_amount            actions_share  actions_timestamp  \\\n0       445035512619347899       445035512619347899         1676068967   \n1    812894298298405441439    800846327151698460210         1676068895   \n2  20000000657920034222343  19704630378141280889789         1676049335   \n3  20000000000000000000000  19704634267363376346529         1676049251   \n4  66251004408366659013068  65272836300898059491310         1676047871   \n5     25000000000000000000     25000000000000000000         1676047643   \n6     57510000000000000000     57510000000000000000         1676036819   \n7   5000000000000000000000   4926343463088828036445         1676035691   \n8  79833054078273887555863  78657604746806972530468         1676032955   \n9    700000000000000000000    689791247606373985584         1675982651   \n\n   actions_block                            actions_token_id  \\\n0       16601413  0x0ab87046fbb341d058f17cbc4c1133f25a20a52f   \n1       16601407  0x853d955acef822db058eb8505911ed77f175b99e   \n2       16599784  0x853d955acef822db058eb8505911ed77f175b99e   \n3       16599777  0x853d955acef822db058eb8505911ed77f175b99e   \n4       16599664  0x853d955acef822db058eb8505911ed77f175b99e   \n5       16599645  0x0ab87046fbb341d058f17cbc4c1133f25a20a52f   \n6       16598748  0x0ab87046fbb341d058f17cbc4c1133f25a20a52f   \n7       16598656  0x853d955acef822db058eb8505911ed77f175b99e   \n8       16598429  0x853d955acef822db058eb8505911ed77f175b99e   \n9       16594253  0x853d955acef822db058eb8505911ed77f175b99e   \n\n                        actions_token_address  actions_token_decimals  \\\n0  0x0ab87046fbb341d058f17cbc4c1133f25a20a52f                      18   \n1  0x853d955acef822db058eb8505911ed77f175b99e                      18   \n2  0x853d955acef822db058eb8505911ed77f175b99e                      18   \n3  0x853d955acef822db058eb8505911ed77f175b99e                      18   \n4  0x853d955acef822db058eb8505911ed77f175b99e                      18   \n5  0x0ab87046fbb341d058f17cbc4c1133f25a20a52f                      18   \n6  0x0ab87046fbb341d058f17cbc4c1133f25a20a52f                      18   \n7  0x853d955acef822db058eb8505911ed77f175b99e                      18   \n8  0x853d955acef822db058eb8505911ed77f175b99e                      18   \n9  0x853d955acef822db058eb8505911ed77f175b99e                      18   \n\n  actions_token_name actions_token_symbol     actions_token_totalSupply  \\\n0     Governance OHM                 gOHM       71757394079134961624973   \n1               Frax                 FRAX  1491128187367401878671217133   \n2               Frax                 FRAX  1491128187367401878671217133   \n3               Frax                 FRAX  1491128187367401878671217133   \n4               Frax                 FRAX  1491128187367401878671217133   \n5     Governance OHM                 gOHM       71757394079134961624973   \n6     Governance OHM                 gOHM       71757394079134961624973   \n7               Frax                 FRAX  1491128187367401878671217133   \n8               Frax                 FRAX  1491128187367401878671217133   \n9               Frax                 FRAX  1491128187367401878671217133   \n\n   actions_token_pairAssetCount  actions_token_pairCollateralCount  \\\n0                             0                                  1   \n1                            12                                  0   \n2                            12                                  0   \n3                            12                                  0   \n4                            12                                  0   \n5                             0                                  1   \n6                             0                                  1   \n7                            12                                  0   \n8                            12                                  0   \n9                            12                                  0   \n\n                              actions_root_id  \\\n0  0x46535cbc3fa574c32ea392d4f89c518290597072   \n1  0x46535cbc3fa574c32ea392d4f89c518290597072   \n2  0xc0e0de939f26e71683452467942aff455ca153e3   \n3  0xc0e0de939f26e71683452467942aff455ca153e3   \n4  0xc0e0de939f26e71683452467942aff455ca153e3   \n5  0xc0e0de939f26e71683452467942aff455ca153e3   \n6  0x46535cbc3fa574c32ea392d4f89c518290597072   \n7  0xc0e0de939f26e71683452467942aff455ca153e3   \n8  0x46535cbc3fa574c32ea392d4f89c518290597072   \n9  0x4731223a7b5ac0c425f1f35d0bdf6d340a93a181   \n\n                         actions_root_address            dateTime  \n0  0x46535cbc3fa574c32ea392d4f89c518290597072 2023-02-10 22:42:47  \n1  0x46535cbc3fa574c32ea392d4f89c518290597072 2023-02-10 22:41:35  \n2  0xc0e0de939f26e71683452467942aff455ca153e3 2023-02-10 17:15:35  \n3  0xc0e0de939f26e71683452467942aff455ca153e3 2023-02-10 17:14:11  \n4  0xc0e0de939f26e71683452467942aff455ca153e3 2023-02-10 16:51:11  \n5  0xc0e0de939f26e71683452467942aff455ca153e3 2023-02-10 16:47:23  \n6  0x46535cbc3fa574c32ea392d4f89c518290597072 2023-02-10 13:46:59  \n7  0xc0e0de939f26e71683452467942aff455ca153e3 2023-02-10 13:28:11  \n8  0x46535cbc3fa574c32ea392d4f89c518290597072 2023-02-10 12:42:35  \n9  0x4731223a7b5ac0c425f1f35d0bdf6d340a93a181 2023-02-09 22:44:11  ",
      "text/html": "<div>\n<style scoped>\n    .dataframe tbody tr th:only-of-type {\n        vertical-align: middle;\n    }\n\n    .dataframe tbody tr th {\n        vertical-align: top;\n    }\n\n    .dataframe thead th {\n        text-align: right;\n    }\n</style>\n<table border=\"1\" class=\"dataframe\">\n  <thead>\n    <tr style=\"text-align: right;\">\n      <th></th>\n      <th>actions_id</th>\n      <th>actions_type</th>\n      <th>actions_amount</th>\n      <th>actions_share</th>\n      <th>actions_timestamp</th>\n      <th>actions_block</th>\n      <th>actions_token_id</th>\n      <th>actions_token_address</th>\n      <th>actions_token_decimals</th>\n      <th>actions_token_name</th>\n      <th>actions_token_symbol</th>\n      <th>actions_token_totalSupply</th>\n      <th>actions_token_pairAssetCount</th>\n      <th>actions_token_pairCollateralCount</th>\n      <th>actions_root_id</th>\n      <th>actions_root_address</th>\n      <th>dateTime</th>\n    </tr>\n  </thead>\n  <tbody>\n    <tr>\n      <th>0</th>\n      <td>0x12a8cb34e5cb26d0ee0b0cc211aabb0b03f636409dbd...</td>\n      <td>removeCollateral</td>\n      <td>445035512619347899</td>\n      <td>445035512619347899</td>\n      <td>1676068967</td>\n      <td>16601413</td>\n      <td>0x0ab87046fbb341d058f17cbc4c1133f25a20a52f</td>\n      <td>0x0ab87046fbb341d058f17cbc4c1133f25a20a52f</td>\n      <td>18</td>\n      <td>Governance OHM</td>\n      <td>gOHM</td>\n      <td>71757394079134961624973</td>\n      <td>0</td>\n      <td>1</td>\n      <td>0x46535cbc3fa574c32ea392d4f89c518290597072</td>\n      <td>0x46535cbc3fa574c32ea392d4f89c518290597072</td>\n      <td>2023-02-10 22:42:47</td>\n    </tr>\n    <tr>\n      <th>1</th>\n      <td>0xc7c1739911ae71f7726d1d32214edb8161a341f7fcd7...</td>\n      <td>repayAsset</td>\n      <td>812894298298405441439</td>\n      <td>800846327151698460210</td>\n      <td>1676068895</td>\n      <td>16601407</td>\n      <td>0x853d955acef822db058eb8505911ed77f175b99e</td>\n      <td>0x853d955acef822db058eb8505911ed77f175b99e</td>\n      <td>18</td>\n      <td>Frax</td>\n      <td>FRAX</td>\n      <td>1491128187367401878671217133</td>\n      <td>12</td>\n      <td>0</td>\n      <td>0x46535cbc3fa574c32ea392d4f89c518290597072</td>\n      <td>0x46535cbc3fa574c32ea392d4f89c518290597072</td>\n      <td>2023-02-10 22:41:35</td>\n    </tr>\n    <tr>\n      <th>2</th>\n      <td>0x40e939c94b527bd4eb9f8f102cfe3c179b61f0da6bb7...</td>\n      <td>repayAsset</td>\n      <td>20000000657920034222343</td>\n      <td>19704630378141280889789</td>\n      <td>1676049335</td>\n      <td>16599784</td>\n      <td>0x853d955acef822db058eb8505911ed77f175b99e</td>\n      <td>0x853d955acef822db058eb8505911ed77f175b99e</td>\n      <td>18</td>\n      <td>Frax</td>\n      <td>FRAX</td>\n      <td>1491128187367401878671217133</td>\n      <td>12</td>\n      <td>0</td>\n      <td>0xc0e0de939f26e71683452467942aff455ca153e3</td>\n      <td>0xc0e0de939f26e71683452467942aff455ca153e3</td>\n      <td>2023-02-10 17:15:35</td>\n    </tr>\n    <tr>\n      <th>3</th>\n      <td>0x6dc275d27f2cbca7232c6fa9019ea1c84a3983636a7c...</td>\n      <td>borrowAsset</td>\n      <td>20000000000000000000000</td>\n      <td>19704634267363376346529</td>\n      <td>1676049251</td>\n      <td>16599777</td>\n      <td>0x853d955acef822db058eb8505911ed77f175b99e</td>\n      <td>0x853d955acef822db058eb8505911ed77f175b99e</td>\n      <td>18</td>\n      <td>Frax</td>\n      <td>FRAX</td>\n      <td>1491128187367401878671217133</td>\n      <td>12</td>\n      <td>0</td>\n      <td>0xc0e0de939f26e71683452467942aff455ca153e3</td>\n      <td>0xc0e0de939f26e71683452467942aff455ca153e3</td>\n      <td>2023-02-10 17:14:11</td>\n    </tr>\n    <tr>\n      <th>4</th>\n      <td>0x83e2ea08ec4f8a38735c7ad01954ce62ae9f79b84e7d...</td>\n      <td>repayAsset</td>\n      <td>66251004408366659013068</td>\n      <td>65272836300898059491310</td>\n      <td>1676047871</td>\n      <td>16599664</td>\n      <td>0x853d955acef822db058eb8505911ed77f175b99e</td>\n      <td>0x853d955acef822db058eb8505911ed77f175b99e</td>\n      <td>18</td>\n      <td>Frax</td>\n      <td>FRAX</td>\n      <td>1491128187367401878671217133</td>\n      <td>12</td>\n      <td>0</td>\n      <td>0xc0e0de939f26e71683452467942aff455ca153e3</td>\n      <td>0xc0e0de939f26e71683452467942aff455ca153e3</td>\n      <td>2023-02-10 16:51:11</td>\n    </tr>\n    <tr>\n      <th>5</th>\n      <td>0x004795cddb57f7037626cc0ca26e84c7507dde798b5a...</td>\n      <td>removeCollateral</td>\n      <td>25000000000000000000</td>\n      <td>25000000000000000000</td>\n      <td>1676047643</td>\n      <td>16599645</td>\n      <td>0x0ab87046fbb341d058f17cbc4c1133f25a20a52f</td>\n      <td>0x0ab87046fbb341d058f17cbc4c1133f25a20a52f</td>\n      <td>18</td>\n      <td>Governance OHM</td>\n      <td>gOHM</td>\n      <td>71757394079134961624973</td>\n      <td>0</td>\n      <td>1</td>\n      <td>0xc0e0de939f26e71683452467942aff455ca153e3</td>\n      <td>0xc0e0de939f26e71683452467942aff455ca153e3</td>\n      <td>2023-02-10 16:47:23</td>\n    </tr>\n    <tr>\n      <th>6</th>\n      <td>0x17df17ec4b65d028374f6407d7998a40e2a4fdca7cbe...</td>\n      <td>removeCollateral</td>\n      <td>57510000000000000000</td>\n      <td>57510000000000000000</td>\n      <td>1676036819</td>\n      <td>16598748</td>\n      <td>0x0ab87046fbb341d058f17cbc4c1133f25a20a52f</td>\n      <td>0x0ab87046fbb341d058f17cbc4c1133f25a20a52f</td>\n      <td>18</td>\n      <td>Governance OHM</td>\n      <td>gOHM</td>\n      <td>71757394079134961624973</td>\n      <td>0</td>\n      <td>1</td>\n      <td>0x46535cbc3fa574c32ea392d4f89c518290597072</td>\n      <td>0x46535cbc3fa574c32ea392d4f89c518290597072</td>\n      <td>2023-02-10 13:46:59</td>\n    </tr>\n    <tr>\n      <th>7</th>\n      <td>0xd76a5cb0e7219544a326f05a05bc08f8e79de4947c20...</td>\n      <td>borrowAsset</td>\n      <td>5000000000000000000000</td>\n      <td>4926343463088828036445</td>\n      <td>1676035691</td>\n      <td>16598656</td>\n      <td>0x853d955acef822db058eb8505911ed77f175b99e</td>\n      <td>0x853d955acef822db058eb8505911ed77f175b99e</td>\n      <td>18</td>\n      <td>Frax</td>\n      <td>FRAX</td>\n      <td>1491128187367401878671217133</td>\n      <td>12</td>\n      <td>0</td>\n      <td>0xc0e0de939f26e71683452467942aff455ca153e3</td>\n      <td>0xc0e0de939f26e71683452467942aff455ca153e3</td>\n      <td>2023-02-10 13:28:11</td>\n    </tr>\n    <tr>\n      <th>8</th>\n      <td>0x5dee647c2e8ebfad8bac45dd1ca3eab67b4841ef1692...</td>\n      <td>repayAsset</td>\n      <td>79833054078273887555863</td>\n      <td>78657604746806972530468</td>\n      <td>1676032955</td>\n      <td>16598429</td>\n      <td>0x853d955acef822db058eb8505911ed77f175b99e</td>\n      <td>0x853d955acef822db058eb8505911ed77f175b99e</td>\n      <td>18</td>\n      <td>Frax</td>\n      <td>FRAX</td>\n      <td>1491128187367401878671217133</td>\n      <td>12</td>\n      <td>0</td>\n      <td>0x46535cbc3fa574c32ea392d4f89c518290597072</td>\n      <td>0x46535cbc3fa574c32ea392d4f89c518290597072</td>\n      <td>2023-02-10 12:42:35</td>\n    </tr>\n    <tr>\n      <th>9</th>\n      <td>0xd35638a578d8f0b2134f2e09f085f4d4d2dbb1494604...</td>\n      <td>borrowAsset</td>\n      <td>700000000000000000000</td>\n      <td>689791247606373985584</td>\n      <td>1675982651</td>\n      <td>16594253</td>\n      <td>0x853d955acef822db058eb8505911ed77f175b99e</td>\n      <td>0x853d955acef822db058eb8505911ed77f175b99e</td>\n      <td>18</td>\n      <td>Frax</td>\n      <td>FRAX</td>\n      <td>1491128187367401878671217133</td>\n      <td>12</td>\n      <td>0</td>\n      <td>0x4731223a7b5ac0c425f1f35d0bdf6d340a93a181</td>\n      <td>0x4731223a7b5ac0c425f1f35d0bdf6d340a93a181</td>\n      <td>2023-02-09 22:44:11</td>\n    </tr>\n  </tbody>\n</table>\n</div>"
     },
     "execution_count": 81,
     "metadata": {},
     "output_type": "execute_result"
    }
   ],
   "source": [
    "    actionsDbTimed = db.query(\"select \"\n",
    "                   \"    * \"\n",
    "                        \" ,to_timestamp(actions_timestamp) dateTime \"\n",
    "                   \"From actionsDb \"\n",
    "                   #\"where lower(liquidityPools_name) like lower('%olympus%') \"\n",
    "                    #    \"or lower(pairs_token1_symbol) like lower('%OHM%')  \"\n",
    "                   #\" limit 100 \"\n",
    "                   ).df()\n",
    "actionsDbTimed.head(10)"
   ],
   "metadata": {
    "collapsed": false
   }
  },
  {
   "cell_type": "code",
   "execution_count": 142,
   "outputs": [
    {
     "data": {
      "text/plain": "                                          actions_id actions_type  \\\n0  0x6dc275d27f2cbca7232c6fa9019ea1c84a3983636a7c...  borrowAsset   \n1  0xd76a5cb0e7219544a326f05a05bc08f8e79de4947c20...  borrowAsset   \n2  0xd35638a578d8f0b2134f2e09f085f4d4d2dbb1494604...  borrowAsset   \n3  0x3092d76c46045fdcf57272151e55e1b105bd4b7d4063...  borrowAsset   \n4  0xa20176fd6cb8470bb538af582d7d97e27bbf75135d8a...  borrowAsset   \n5  0x2dc9bc4f7c7ac1708768d1f6f6e6a41b8fb4964fd894...  borrowAsset   \n6  0x5dea5a1baef298676a0c47666ca76db0d00637a96750...  borrowAsset   \n7  0x2c4738e7f57d0ef25cef1541393689e07f7f01b8774a...  borrowAsset   \n8  0x5ab8113bf249f443569eb7a2bf142308a907e50b70dd...  borrowAsset   \n9  0x45dbb93901bca44a7d83c1ba9aec12bc1450a48f70b6...  borrowAsset   \n\n            actions_amount            actions_share  actions_timestamp  \\\n0  20000000000000000000000  19704634267363376346529         1676049251   \n1   5000000000000000000000   4926343463088828036445         1676035691   \n2    700000000000000000000    689791247606373985584         1675982651   \n3  20000000000000000000000  19708329370160094823575         1675982507   \n4  80000000000000000000000  78834122617366199037126         1675978871   \n5                        0                        0         1675973579   \n6   5000000000000000000000   4927218506327435525781         1675972547   \n7                        0                        0         1675971107   \n8   1300000000000000000000   1281090939795739197163         1675968539   \n9                        0                        0         1675956347   \n\n   actions_block                            actions_token_id  \\\n0       16599777  0x853d955acef822db058eb8505911ed77f175b99e   \n1       16598656  0x853d955acef822db058eb8505911ed77f175b99e   \n2       16594253  0x853d955acef822db058eb8505911ed77f175b99e   \n3       16594241  0x853d955acef822db058eb8505911ed77f175b99e   \n4       16593940  0x853d955acef822db058eb8505911ed77f175b99e   \n5       16593503  0x853d955acef822db058eb8505911ed77f175b99e   \n6       16593417  0x853d955acef822db058eb8505911ed77f175b99e   \n7       16593299  0x853d955acef822db058eb8505911ed77f175b99e   \n8       16593086  0x853d955acef822db058eb8505911ed77f175b99e   \n9       16592077  0x853d955acef822db058eb8505911ed77f175b99e   \n\n                        actions_token_address  actions_token_decimals  \\\n0  0x853d955acef822db058eb8505911ed77f175b99e                      18   \n1  0x853d955acef822db058eb8505911ed77f175b99e                      18   \n2  0x853d955acef822db058eb8505911ed77f175b99e                      18   \n3  0x853d955acef822db058eb8505911ed77f175b99e                      18   \n4  0x853d955acef822db058eb8505911ed77f175b99e                      18   \n5  0x853d955acef822db058eb8505911ed77f175b99e                      18   \n6  0x853d955acef822db058eb8505911ed77f175b99e                      18   \n7  0x853d955acef822db058eb8505911ed77f175b99e                      18   \n8  0x853d955acef822db058eb8505911ed77f175b99e                      18   \n9  0x853d955acef822db058eb8505911ed77f175b99e                      18   \n\n  actions_token_name actions_token_symbol     actions_token_totalSupply  \\\n0               Frax                 FRAX  1491128187367401878671217133   \n1               Frax                 FRAX  1491128187367401878671217133   \n2               Frax                 FRAX  1491128187367401878671217133   \n3               Frax                 FRAX  1491128187367401878671217133   \n4               Frax                 FRAX  1491128187367401878671217133   \n5               Frax                 FRAX  1491128187367401878671217133   \n6               Frax                 FRAX  1491128187367401878671217133   \n7               Frax                 FRAX  1491128187367401878671217133   \n8               Frax                 FRAX  1491128187367401878671217133   \n9               Frax                 FRAX  1491128187367401878671217133   \n\n   actions_token_pairAssetCount  actions_token_pairCollateralCount  \\\n0                            12                                  0   \n1                            12                                  0   \n2                            12                                  0   \n3                            12                                  0   \n4                            12                                  0   \n5                            12                                  0   \n6                            12                                  0   \n7                            12                                  0   \n8                            12                                  0   \n9                            12                                  0   \n\n                              actions_root_id  \\\n0  0xc0e0de939f26e71683452467942aff455ca153e3   \n1  0xc0e0de939f26e71683452467942aff455ca153e3   \n2  0x4731223a7b5ac0c425f1f35d0bdf6d340a93a181   \n3  0x783f3cad39b6528e192722527429bbbdaad01648   \n4  0x46535cbc3fa574c32ea392d4f89c518290597072   \n5  0xc0e0de939f26e71683452467942aff455ca153e3   \n6  0xc0e0de939f26e71683452467942aff455ca153e3   \n7  0xc0e0de939f26e71683452467942aff455ca153e3   \n8  0x440c8ab91ba7c8763b3d9b3357dc1c0d13a148aa   \n9  0xc0e0de939f26e71683452467942aff455ca153e3   \n\n                         actions_root_address            dateTime  \\\n0  0xc0e0de939f26e71683452467942aff455ca153e3 2023-02-10 17:14:11   \n1  0xc0e0de939f26e71683452467942aff455ca153e3 2023-02-10 13:28:11   \n2  0x4731223a7b5ac0c425f1f35d0bdf6d340a93a181 2023-02-09 22:44:11   \n3  0x783f3cad39b6528e192722527429bbbdaad01648 2023-02-09 22:41:47   \n4  0x46535cbc3fa574c32ea392d4f89c518290597072 2023-02-09 21:41:11   \n5  0xc0e0de939f26e71683452467942aff455ca153e3 2023-02-09 20:12:59   \n6  0xc0e0de939f26e71683452467942aff455ca153e3 2023-02-09 19:55:47   \n7  0xc0e0de939f26e71683452467942aff455ca153e3 2023-02-09 19:31:47   \n8  0x440c8ab91ba7c8763b3d9b3357dc1c0d13a148aa 2023-02-09 18:48:59   \n9  0xc0e0de939f26e71683452467942aff455ca153e3 2023-02-09 15:25:47   \n\n   amountUsdBorrowed  \n0            20000.0  \n1             5000.0  \n2              700.0  \n3            20000.0  \n4            80000.0  \n5                0.0  \n6             5000.0  \n7                0.0  \n8             1300.0  \n9                0.0  ",
      "text/html": "<div>\n<style scoped>\n    .dataframe tbody tr th:only-of-type {\n        vertical-align: middle;\n    }\n\n    .dataframe tbody tr th {\n        vertical-align: top;\n    }\n\n    .dataframe thead th {\n        text-align: right;\n    }\n</style>\n<table border=\"1\" class=\"dataframe\">\n  <thead>\n    <tr style=\"text-align: right;\">\n      <th></th>\n      <th>actions_id</th>\n      <th>actions_type</th>\n      <th>actions_amount</th>\n      <th>actions_share</th>\n      <th>actions_timestamp</th>\n      <th>actions_block</th>\n      <th>actions_token_id</th>\n      <th>actions_token_address</th>\n      <th>actions_token_decimals</th>\n      <th>actions_token_name</th>\n      <th>actions_token_symbol</th>\n      <th>actions_token_totalSupply</th>\n      <th>actions_token_pairAssetCount</th>\n      <th>actions_token_pairCollateralCount</th>\n      <th>actions_root_id</th>\n      <th>actions_root_address</th>\n      <th>dateTime</th>\n      <th>amountUsdBorrowed</th>\n    </tr>\n  </thead>\n  <tbody>\n    <tr>\n      <th>0</th>\n      <td>0x6dc275d27f2cbca7232c6fa9019ea1c84a3983636a7c...</td>\n      <td>borrowAsset</td>\n      <td>20000000000000000000000</td>\n      <td>19704634267363376346529</td>\n      <td>1676049251</td>\n      <td>16599777</td>\n      <td>0x853d955acef822db058eb8505911ed77f175b99e</td>\n      <td>0x853d955acef822db058eb8505911ed77f175b99e</td>\n      <td>18</td>\n      <td>Frax</td>\n      <td>FRAX</td>\n      <td>1491128187367401878671217133</td>\n      <td>12</td>\n      <td>0</td>\n      <td>0xc0e0de939f26e71683452467942aff455ca153e3</td>\n      <td>0xc0e0de939f26e71683452467942aff455ca153e3</td>\n      <td>2023-02-10 17:14:11</td>\n      <td>20000.0</td>\n    </tr>\n    <tr>\n      <th>1</th>\n      <td>0xd76a5cb0e7219544a326f05a05bc08f8e79de4947c20...</td>\n      <td>borrowAsset</td>\n      <td>5000000000000000000000</td>\n      <td>4926343463088828036445</td>\n      <td>1676035691</td>\n      <td>16598656</td>\n      <td>0x853d955acef822db058eb8505911ed77f175b99e</td>\n      <td>0x853d955acef822db058eb8505911ed77f175b99e</td>\n      <td>18</td>\n      <td>Frax</td>\n      <td>FRAX</td>\n      <td>1491128187367401878671217133</td>\n      <td>12</td>\n      <td>0</td>\n      <td>0xc0e0de939f26e71683452467942aff455ca153e3</td>\n      <td>0xc0e0de939f26e71683452467942aff455ca153e3</td>\n      <td>2023-02-10 13:28:11</td>\n      <td>5000.0</td>\n    </tr>\n    <tr>\n      <th>2</th>\n      <td>0xd35638a578d8f0b2134f2e09f085f4d4d2dbb1494604...</td>\n      <td>borrowAsset</td>\n      <td>700000000000000000000</td>\n      <td>689791247606373985584</td>\n      <td>1675982651</td>\n      <td>16594253</td>\n      <td>0x853d955acef822db058eb8505911ed77f175b99e</td>\n      <td>0x853d955acef822db058eb8505911ed77f175b99e</td>\n      <td>18</td>\n      <td>Frax</td>\n      <td>FRAX</td>\n      <td>1491128187367401878671217133</td>\n      <td>12</td>\n      <td>0</td>\n      <td>0x4731223a7b5ac0c425f1f35d0bdf6d340a93a181</td>\n      <td>0x4731223a7b5ac0c425f1f35d0bdf6d340a93a181</td>\n      <td>2023-02-09 22:44:11</td>\n      <td>700.0</td>\n    </tr>\n    <tr>\n      <th>3</th>\n      <td>0x3092d76c46045fdcf57272151e55e1b105bd4b7d4063...</td>\n      <td>borrowAsset</td>\n      <td>20000000000000000000000</td>\n      <td>19708329370160094823575</td>\n      <td>1675982507</td>\n      <td>16594241</td>\n      <td>0x853d955acef822db058eb8505911ed77f175b99e</td>\n      <td>0x853d955acef822db058eb8505911ed77f175b99e</td>\n      <td>18</td>\n      <td>Frax</td>\n      <td>FRAX</td>\n      <td>1491128187367401878671217133</td>\n      <td>12</td>\n      <td>0</td>\n      <td>0x783f3cad39b6528e192722527429bbbdaad01648</td>\n      <td>0x783f3cad39b6528e192722527429bbbdaad01648</td>\n      <td>2023-02-09 22:41:47</td>\n      <td>20000.0</td>\n    </tr>\n    <tr>\n      <th>4</th>\n      <td>0xa20176fd6cb8470bb538af582d7d97e27bbf75135d8a...</td>\n      <td>borrowAsset</td>\n      <td>80000000000000000000000</td>\n      <td>78834122617366199037126</td>\n      <td>1675978871</td>\n      <td>16593940</td>\n      <td>0x853d955acef822db058eb8505911ed77f175b99e</td>\n      <td>0x853d955acef822db058eb8505911ed77f175b99e</td>\n      <td>18</td>\n      <td>Frax</td>\n      <td>FRAX</td>\n      <td>1491128187367401878671217133</td>\n      <td>12</td>\n      <td>0</td>\n      <td>0x46535cbc3fa574c32ea392d4f89c518290597072</td>\n      <td>0x46535cbc3fa574c32ea392d4f89c518290597072</td>\n      <td>2023-02-09 21:41:11</td>\n      <td>80000.0</td>\n    </tr>\n    <tr>\n      <th>5</th>\n      <td>0x2dc9bc4f7c7ac1708768d1f6f6e6a41b8fb4964fd894...</td>\n      <td>borrowAsset</td>\n      <td>0</td>\n      <td>0</td>\n      <td>1675973579</td>\n      <td>16593503</td>\n      <td>0x853d955acef822db058eb8505911ed77f175b99e</td>\n      <td>0x853d955acef822db058eb8505911ed77f175b99e</td>\n      <td>18</td>\n      <td>Frax</td>\n      <td>FRAX</td>\n      <td>1491128187367401878671217133</td>\n      <td>12</td>\n      <td>0</td>\n      <td>0xc0e0de939f26e71683452467942aff455ca153e3</td>\n      <td>0xc0e0de939f26e71683452467942aff455ca153e3</td>\n      <td>2023-02-09 20:12:59</td>\n      <td>0.0</td>\n    </tr>\n    <tr>\n      <th>6</th>\n      <td>0x5dea5a1baef298676a0c47666ca76db0d00637a96750...</td>\n      <td>borrowAsset</td>\n      <td>5000000000000000000000</td>\n      <td>4927218506327435525781</td>\n      <td>1675972547</td>\n      <td>16593417</td>\n      <td>0x853d955acef822db058eb8505911ed77f175b99e</td>\n      <td>0x853d955acef822db058eb8505911ed77f175b99e</td>\n      <td>18</td>\n      <td>Frax</td>\n      <td>FRAX</td>\n      <td>1491128187367401878671217133</td>\n      <td>12</td>\n      <td>0</td>\n      <td>0xc0e0de939f26e71683452467942aff455ca153e3</td>\n      <td>0xc0e0de939f26e71683452467942aff455ca153e3</td>\n      <td>2023-02-09 19:55:47</td>\n      <td>5000.0</td>\n    </tr>\n    <tr>\n      <th>7</th>\n      <td>0x2c4738e7f57d0ef25cef1541393689e07f7f01b8774a...</td>\n      <td>borrowAsset</td>\n      <td>0</td>\n      <td>0</td>\n      <td>1675971107</td>\n      <td>16593299</td>\n      <td>0x853d955acef822db058eb8505911ed77f175b99e</td>\n      <td>0x853d955acef822db058eb8505911ed77f175b99e</td>\n      <td>18</td>\n      <td>Frax</td>\n      <td>FRAX</td>\n      <td>1491128187367401878671217133</td>\n      <td>12</td>\n      <td>0</td>\n      <td>0xc0e0de939f26e71683452467942aff455ca153e3</td>\n      <td>0xc0e0de939f26e71683452467942aff455ca153e3</td>\n      <td>2023-02-09 19:31:47</td>\n      <td>0.0</td>\n    </tr>\n    <tr>\n      <th>8</th>\n      <td>0x5ab8113bf249f443569eb7a2bf142308a907e50b70dd...</td>\n      <td>borrowAsset</td>\n      <td>1300000000000000000000</td>\n      <td>1281090939795739197163</td>\n      <td>1675968539</td>\n      <td>16593086</td>\n      <td>0x853d955acef822db058eb8505911ed77f175b99e</td>\n      <td>0x853d955acef822db058eb8505911ed77f175b99e</td>\n      <td>18</td>\n      <td>Frax</td>\n      <td>FRAX</td>\n      <td>1491128187367401878671217133</td>\n      <td>12</td>\n      <td>0</td>\n      <td>0x440c8ab91ba7c8763b3d9b3357dc1c0d13a148aa</td>\n      <td>0x440c8ab91ba7c8763b3d9b3357dc1c0d13a148aa</td>\n      <td>2023-02-09 18:48:59</td>\n      <td>1300.0</td>\n    </tr>\n    <tr>\n      <th>9</th>\n      <td>0x45dbb93901bca44a7d83c1ba9aec12bc1450a48f70b6...</td>\n      <td>borrowAsset</td>\n      <td>0</td>\n      <td>0</td>\n      <td>1675956347</td>\n      <td>16592077</td>\n      <td>0x853d955acef822db058eb8505911ed77f175b99e</td>\n      <td>0x853d955acef822db058eb8505911ed77f175b99e</td>\n      <td>18</td>\n      <td>Frax</td>\n      <td>FRAX</td>\n      <td>1491128187367401878671217133</td>\n      <td>12</td>\n      <td>0</td>\n      <td>0xc0e0de939f26e71683452467942aff455ca153e3</td>\n      <td>0xc0e0de939f26e71683452467942aff455ca153e3</td>\n      <td>2023-02-09 15:25:47</td>\n      <td>0.0</td>\n    </tr>\n  </tbody>\n</table>\n</div>"
     },
     "execution_count": 142,
     "metadata": {},
     "output_type": "execute_result"
    }
   ],
   "source": [
    "fraxBorrowsDb = db.query(\"select \"\n",
    "                   \"    * \"\n",
    "                    \",(actions_amount::hugeint*1e-18) amountUsdBorrowed \"\n",
    "                       \"From actionsDbTimed \"\n",
    "                       \"where actions_type= 'borrowAsset' \"\n",
    "                   ).df()\n",
    "fraxBorrowsDb.head(10)"
   ],
   "metadata": {
    "collapsed": false
   }
  },
  {
   "cell_type": "markdown",
   "source": [
    "**********************************************************\n",
    "LET'S PLAY AND CRUNCH DATA"
   ],
   "metadata": {
    "collapsed": false
   }
  },
  {
   "cell_type": "code",
   "execution_count": 143,
   "outputs": [
    {
     "data": {
      "text/plain": "      calDay  amountUsdBorrowed protocol\n0 2022-12-02       8.559384e+07     Frax\n1 2022-12-03       6.483927e+07     Frax\n2 2022-12-04       1.850965e+08     Frax\n3 2022-12-05       2.727883e+08     Frax\n4 2022-12-06       2.680000e+06     Frax\n5 2022-12-07       1.105500e+08     Frax\n6 2022-12-08       2.850056e+08     Frax\n7 2022-12-09       1.545020e+08     Frax\n8 2022-12-10       8.576000e+07     Frax\n9 2022-12-11       4.288000e+06     Frax",
      "text/html": "<div>\n<style scoped>\n    .dataframe tbody tr th:only-of-type {\n        vertical-align: middle;\n    }\n\n    .dataframe tbody tr th {\n        vertical-align: top;\n    }\n\n    .dataframe thead th {\n        text-align: right;\n    }\n</style>\n<table border=\"1\" class=\"dataframe\">\n  <thead>\n    <tr style=\"text-align: right;\">\n      <th></th>\n      <th>calDay</th>\n      <th>amountUsdBorrowed</th>\n      <th>protocol</th>\n    </tr>\n  </thead>\n  <tbody>\n    <tr>\n      <th>0</th>\n      <td>2022-12-02</td>\n      <td>8.559384e+07</td>\n      <td>Frax</td>\n    </tr>\n    <tr>\n      <th>1</th>\n      <td>2022-12-03</td>\n      <td>6.483927e+07</td>\n      <td>Frax</td>\n    </tr>\n    <tr>\n      <th>2</th>\n      <td>2022-12-04</td>\n      <td>1.850965e+08</td>\n      <td>Frax</td>\n    </tr>\n    <tr>\n      <th>3</th>\n      <td>2022-12-05</td>\n      <td>2.727883e+08</td>\n      <td>Frax</td>\n    </tr>\n    <tr>\n      <th>4</th>\n      <td>2022-12-06</td>\n      <td>2.680000e+06</td>\n      <td>Frax</td>\n    </tr>\n    <tr>\n      <th>5</th>\n      <td>2022-12-07</td>\n      <td>1.105500e+08</td>\n      <td>Frax</td>\n    </tr>\n    <tr>\n      <th>6</th>\n      <td>2022-12-08</td>\n      <td>2.850056e+08</td>\n      <td>Frax</td>\n    </tr>\n    <tr>\n      <th>7</th>\n      <td>2022-12-09</td>\n      <td>1.545020e+08</td>\n      <td>Frax</td>\n    </tr>\n    <tr>\n      <th>8</th>\n      <td>2022-12-10</td>\n      <td>8.576000e+07</td>\n      <td>Frax</td>\n    </tr>\n    <tr>\n      <th>9</th>\n      <td>2022-12-11</td>\n      <td>4.288000e+06</td>\n      <td>Frax</td>\n    </tr>\n  </tbody>\n</table>\n</div>"
     },
     "execution_count": 143,
     "metadata": {},
     "output_type": "execute_result"
    }
   ],
   "source": [
    "fraxBorrowedUSDDaily = db.query(\n",
    "                        \"select \"\n",
    "                            \"date_trunc('day',dateTime) calDay \"\n",
    "                            \",sum(amountUsdBorrowed) amountUsdBorrowed \"\n",
    "                       \"From fraxBorrowsDb \"\n",
    "                       \"where actions_type= 'borrowAsset' \"\n",
    "                        \"Group by 1 \"\n",
    "                        \"order by 1\"\n",
    "                   ).df()\n",
    "fraxBorrowedUSDDaily['protocol'] = 'Frax'\n",
    "fraxBorrowedUSDDaily.head(10)"
   ],
   "metadata": {
    "collapsed": false
   }
  },
  {
   "cell_type": "code",
   "execution_count": 144,
   "outputs": [
    {
     "data": {
      "text/plain": "      calDay  amountUsdBorrowed protocol\n0 2023-02-09          1122006.0     Silo\n1 2023-02-08             2382.0     Silo\n2 2023-02-07           526416.0     Silo\n3 2023-02-01            30006.0     Silo\n4 2023-01-28            60246.0     Silo\n5 2022-12-17             2988.0     Silo\n6 2022-12-13            48246.0     Silo\n7 2022-12-12            95646.0     Silo\n8 2022-11-23             3966.0     Silo",
      "text/html": "<div>\n<style scoped>\n    .dataframe tbody tr th:only-of-type {\n        vertical-align: middle;\n    }\n\n    .dataframe tbody tr th {\n        vertical-align: top;\n    }\n\n    .dataframe thead th {\n        text-align: right;\n    }\n</style>\n<table border=\"1\" class=\"dataframe\">\n  <thead>\n    <tr style=\"text-align: right;\">\n      <th></th>\n      <th>calDay</th>\n      <th>amountUsdBorrowed</th>\n      <th>protocol</th>\n    </tr>\n  </thead>\n  <tbody>\n    <tr>\n      <th>0</th>\n      <td>2023-02-09</td>\n      <td>1122006.0</td>\n      <td>Silo</td>\n    </tr>\n    <tr>\n      <th>1</th>\n      <td>2023-02-08</td>\n      <td>2382.0</td>\n      <td>Silo</td>\n    </tr>\n    <tr>\n      <th>2</th>\n      <td>2023-02-07</td>\n      <td>526416.0</td>\n      <td>Silo</td>\n    </tr>\n    <tr>\n      <th>3</th>\n      <td>2023-02-01</td>\n      <td>30006.0</td>\n      <td>Silo</td>\n    </tr>\n    <tr>\n      <th>4</th>\n      <td>2023-01-28</td>\n      <td>60246.0</td>\n      <td>Silo</td>\n    </tr>\n    <tr>\n      <th>5</th>\n      <td>2022-12-17</td>\n      <td>2988.0</td>\n      <td>Silo</td>\n    </tr>\n    <tr>\n      <th>6</th>\n      <td>2022-12-13</td>\n      <td>48246.0</td>\n      <td>Silo</td>\n    </tr>\n    <tr>\n      <th>7</th>\n      <td>2022-12-12</td>\n      <td>95646.0</td>\n      <td>Silo</td>\n    </tr>\n    <tr>\n      <th>8</th>\n      <td>2022-11-23</td>\n      <td>3966.0</td>\n      <td>Silo</td>\n    </tr>\n  </tbody>\n</table>\n</div>"
     },
     "execution_count": 144,
     "metadata": {},
     "output_type": "execute_result"
    }
   ],
   "source": [
    "siloBorrowedUSDDaily = db.query(\n",
    "                        \"select \"\n",
    "                            \"date_trunc('day',dateTime) calDay \"\n",
    "                            \",sum(transaction_amountUSD::hugeint) amountUsdBorrowed \"\n",
    "                       \"From borrowsDbTimed \"\n",
    "                        \"Group by 1 \"\n",
    "                   ).df()\n",
    "siloBorrowedUSDDaily['protocol'] = 'Silo'\n",
    "siloBorrowedUSDDaily.head(10)"
   ],
   "metadata": {
    "collapsed": false
   }
  },
  {
   "cell_type": "code",
   "execution_count": 145,
   "outputs": [
    {
     "data": {
      "text/plain": "      calDay  amountUsdBorrowed protocol\n0 2023-02-09            50100.0    Vesta\n1 2023-02-08            25881.0    Vesta\n2 2023-02-07           126480.0    Vesta\n3 2023-02-06            14572.0    Vesta\n4 2023-02-05             7583.0    Vesta\n5 2023-02-04             2286.0    Vesta\n6 2023-02-03            54463.0    Vesta\n7 2023-02-02             6223.0    Vesta\n8 2023-02-01             8165.0    Vesta\n9 2023-01-31            32060.0    Vesta",
      "text/html": "<div>\n<style scoped>\n    .dataframe tbody tr th:only-of-type {\n        vertical-align: middle;\n    }\n\n    .dataframe tbody tr th {\n        vertical-align: top;\n    }\n\n    .dataframe thead th {\n        text-align: right;\n    }\n</style>\n<table border=\"1\" class=\"dataframe\">\n  <thead>\n    <tr style=\"text-align: right;\">\n      <th></th>\n      <th>calDay</th>\n      <th>amountUsdBorrowed</th>\n      <th>protocol</th>\n    </tr>\n  </thead>\n  <tbody>\n    <tr>\n      <th>0</th>\n      <td>2023-02-09</td>\n      <td>50100.0</td>\n      <td>Vesta</td>\n    </tr>\n    <tr>\n      <th>1</th>\n      <td>2023-02-08</td>\n      <td>25881.0</td>\n      <td>Vesta</td>\n    </tr>\n    <tr>\n      <th>2</th>\n      <td>2023-02-07</td>\n      <td>126480.0</td>\n      <td>Vesta</td>\n    </tr>\n    <tr>\n      <th>3</th>\n      <td>2023-02-06</td>\n      <td>14572.0</td>\n      <td>Vesta</td>\n    </tr>\n    <tr>\n      <th>4</th>\n      <td>2023-02-05</td>\n      <td>7583.0</td>\n      <td>Vesta</td>\n    </tr>\n    <tr>\n      <th>5</th>\n      <td>2023-02-04</td>\n      <td>2286.0</td>\n      <td>Vesta</td>\n    </tr>\n    <tr>\n      <th>6</th>\n      <td>2023-02-03</td>\n      <td>54463.0</td>\n      <td>Vesta</td>\n    </tr>\n    <tr>\n      <th>7</th>\n      <td>2023-02-02</td>\n      <td>6223.0</td>\n      <td>Vesta</td>\n    </tr>\n    <tr>\n      <th>8</th>\n      <td>2023-02-01</td>\n      <td>8165.0</td>\n      <td>Vesta</td>\n    </tr>\n    <tr>\n      <th>9</th>\n      <td>2023-01-31</td>\n      <td>32060.0</td>\n      <td>Vesta</td>\n    </tr>\n  </tbody>\n</table>\n</div>"
     },
     "execution_count": 145,
     "metadata": {},
     "output_type": "execute_result"
    }
   ],
   "source": [
    "vestaBorrowedUSDDaily = db.query(\n",
    "                        \"select \"\n",
    "                            \"date_trunc('day',dateTime) calDay \"\n",
    "                            \",sum(borrows_amountUSD::hugeint) amountUsdBorrowed \"\n",
    "                       \"From vestaBorrowsDbTimed \"\n",
    "                        \"Group by 1 \"\n",
    "                   ).df()\n",
    "vestaBorrowedUSDDaily['protocol'] = 'Vesta'\n",
    "vestaBorrowedUSDDaily.head(10)"
   ],
   "metadata": {
    "collapsed": false
   }
  },
  {
   "cell_type": "code",
   "execution_count": 146,
   "outputs": [
    {
     "data": {
      "text/plain": "       calDay  amountUsdBorrowed protocol\n0  2023-02-09            50100.0    Vesta\n1  2023-02-08            25881.0    Vesta\n2  2023-02-07           126480.0    Vesta\n3  2023-02-06            14572.0    Vesta\n4  2023-02-05             7583.0    Vesta\n..        ...                ...      ...\n63 2023-02-06                0.0     Frax\n64 2023-02-07         21734800.0     Frax\n65 2023-02-08         50920000.0     Frax\n66 2023-02-09        100553600.0     Frax\n67 2023-02-10         13400000.0     Frax\n\n[384 rows x 3 columns]",
      "text/html": "<div>\n<style scoped>\n    .dataframe tbody tr th:only-of-type {\n        vertical-align: middle;\n    }\n\n    .dataframe tbody tr th {\n        vertical-align: top;\n    }\n\n    .dataframe thead th {\n        text-align: right;\n    }\n</style>\n<table border=\"1\" class=\"dataframe\">\n  <thead>\n    <tr style=\"text-align: right;\">\n      <th></th>\n      <th>calDay</th>\n      <th>amountUsdBorrowed</th>\n      <th>protocol</th>\n    </tr>\n  </thead>\n  <tbody>\n    <tr>\n      <th>0</th>\n      <td>2023-02-09</td>\n      <td>50100.0</td>\n      <td>Vesta</td>\n    </tr>\n    <tr>\n      <th>1</th>\n      <td>2023-02-08</td>\n      <td>25881.0</td>\n      <td>Vesta</td>\n    </tr>\n    <tr>\n      <th>2</th>\n      <td>2023-02-07</td>\n      <td>126480.0</td>\n      <td>Vesta</td>\n    </tr>\n    <tr>\n      <th>3</th>\n      <td>2023-02-06</td>\n      <td>14572.0</td>\n      <td>Vesta</td>\n    </tr>\n    <tr>\n      <th>4</th>\n      <td>2023-02-05</td>\n      <td>7583.0</td>\n      <td>Vesta</td>\n    </tr>\n    <tr>\n      <th>...</th>\n      <td>...</td>\n      <td>...</td>\n      <td>...</td>\n    </tr>\n    <tr>\n      <th>63</th>\n      <td>2023-02-06</td>\n      <td>0.0</td>\n      <td>Frax</td>\n    </tr>\n    <tr>\n      <th>64</th>\n      <td>2023-02-07</td>\n      <td>21734800.0</td>\n      <td>Frax</td>\n    </tr>\n    <tr>\n      <th>65</th>\n      <td>2023-02-08</td>\n      <td>50920000.0</td>\n      <td>Frax</td>\n    </tr>\n    <tr>\n      <th>66</th>\n      <td>2023-02-09</td>\n      <td>100553600.0</td>\n      <td>Frax</td>\n    </tr>\n    <tr>\n      <th>67</th>\n      <td>2023-02-10</td>\n      <td>13400000.0</td>\n      <td>Frax</td>\n    </tr>\n  </tbody>\n</table>\n<p>384 rows × 3 columns</p>\n</div>"
     },
     "execution_count": 146,
     "metadata": {},
     "output_type": "execute_result"
    }
   ],
   "source": [
    "#Don't judge if I use pandas for some things and SQL for others. I'm a noob :P\n",
    "dailyUsdBorrowdDb =  pd.concat([vestaBorrowedUSDDaily, siloBorrowedUSDDaily,fraxBorrowedUSDDaily])\n",
    "dailyUsdBorrowdDb.head(400)"
   ],
   "metadata": {
    "collapsed": false
   }
  },
  {
   "cell_type": "code",
   "execution_count": 148,
   "outputs": [
    {
     "name": "stdout",
     "output_type": "stream",
     "text": [
      "file saved\n"
     ]
    }
   ],
   "source": [
    "dailyUsdBorrowdDbLength = len(dailyUsdBorrowdDb)\n",
    "path =file+'/dailyUsdBorrowed_'+str(dt.datetime.today().strftime(\"%b-%d-%Y\"))+\"_\"+str(dailyUsdBorrowdDbLength)+'_records.csv'\n",
    "dailyUsdBorrowdDb.to_csv(path, index = False)\n",
    "\n",
    "path =file+'/dailyUsdBorrowed_'+str(dt.datetime.today().strftime(\"%b-%d-%Y\"))+\"_\"+str(dailyUsdBorrowdDbLength)+'_records_piped.csv'\n",
    "dailyUsdBorrowdDb.to_csv(path, index = False, sep='|')\n",
    "print('file saved')"
   ],
   "metadata": {
    "collapsed": false
   }
  },
  {
   "cell_type": "code",
   "execution_count": 140,
   "outputs": [
    {
     "data": {
      "text/plain": "384"
     },
     "execution_count": 140,
     "metadata": {},
     "output_type": "execute_result"
    }
   ],
   "source": [
    "dailyUsdBorrowdDbLength"
   ],
   "metadata": {
    "collapsed": false
   }
  },
  {
   "cell_type": "code",
   "execution_count": null,
   "outputs": [],
   "source": [],
   "metadata": {
    "collapsed": false
   }
  }
 ],
 "metadata": {
  "kernelspec": {
   "display_name": "Python 3",
   "language": "python",
   "name": "python3"
  },
  "language_info": {
   "codemirror_mode": {
    "name": "ipython",
    "version": 2
   },
   "file_extension": ".py",
   "mimetype": "text/x-python",
   "name": "python",
   "nbconvert_exporter": "python",
   "pygments_lexer": "ipython2",
   "version": "2.7.6"
  }
 },
 "nbformat": 4,
 "nbformat_minor": 0
}
