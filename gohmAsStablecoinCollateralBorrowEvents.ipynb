{
 "cells": [
  {
   "cell_type": "code",
   "execution_count": 2,
   "metadata": {
    "collapsed": true
   },
   "outputs": [],
   "source": [
    "from datetime import datetime\n",
    "import datetime as dt\n",
    "import time\n",
    "from subgrounds.subgraph import SyntheticField, FieldPath\n",
    "from subgrounds.subgrounds import Subgrounds\n",
    "import pandas as pd\n",
    "import duckdb as db\n",
    "import seaborn as sns\n",
    "import matplotlib.pyplot as plt\n",
    "import IPython as ip\n",
    "import  os as os"
   ]
  },
  {
   "cell_type": "code",
   "execution_count": 11,
   "outputs": [],
   "source": [
    "daysLimit = int(input('How many days back in history?'))"
   ],
   "metadata": {
    "collapsed": false
   }
  },
  {
   "cell_type": "code",
   "execution_count": 4,
   "outputs": [],
   "source": [
    "sg = Subgrounds()\n",
    "apiKey = input('API Key, please')"
   ],
   "metadata": {
    "collapsed": false
   }
  },
  {
   "cell_type": "code",
   "execution_count": 5,
   "outputs": [],
   "source": [
    "#for when we save the files\n",
    "file = input('Selet a folder to save output') ##enter your file path here - the file is in the repo \"summary_stats.csv\".\n",
    "file = file+'/data'\n",
    "if not os.path.exists(file):\n",
    "    os.makedirs(file)"
   ],
   "metadata": {
    "collapsed": false
   }
  },
  {
   "cell_type": "markdown",
   "source": [
    "*******************************************************************\n",
    "*******************************************************************\n",
    "LET'S LOOK AT SILO BORROWS FIRST"
   ],
   "metadata": {
    "collapsed": false
   }
  },
  {
   "cell_type": "code",
   "execution_count": 6,
   "outputs": [],
   "source": [
    "#SILO subgraph: https://gateway.thegraph.com/api/[api-key]/subgraphs/id/6rcT2GzBXGoi3ZMus92LHajM2b9qWGj7Z3dDhPxoUogB\n",
    "silo = sg.load_api('https://gateway.thegraph.com/api/'+apiKey+'/subgraphs/id/6rcT2GzBXGoi3ZMus92LHajM2b9qWGj7Z3dDhPxoUogB')"
   ],
   "metadata": {
    "collapsed": false
   }
  },
  {
   "cell_type": "markdown",
   "source": [
    "##this captures the list of people who borrowed XAI against gOHM\n",
    "borrows = silo.Query.borrows(\n",
    "    orderBy='timestamp',\n",
    "    orderDirection='desc',\n",
    "    first=1000,\n",
    "    #skip = skipValue,\n",
    "    where={ 'market': '0xc413dd03555f3eb29d834b482d386b2999dc2eb0' }\n",
    "\n",
    ")\n",
    "\n",
    "borrowsDb = sg.query_df([\n",
    "    borrows.id\n",
    "    ,borrows.hash\n",
    "    ,borrows.logIndex\n",
    "    ,borrows.blockNumber\n",
    "    ,borrows.timestamp\n",
    "    ,borrows.account\n",
    "    ,borrows.market\n",
    "    ,borrows.market.rates\n",
    "    ,borrows.asset\n",
    "    ,borrows.amount\n",
    "    ,borrows.amountUSD \n",
    "])\n",
    "borrowsDb.head(100)"
   ],
   "metadata": {
    "collapsed": false
   }
  },
  {
   "cell_type": "markdown",
   "source": [
    "#this, in turn, pulls repayment events\n",
    "repays = silo.Query.repays(\n",
    "    orderBy='timestamp',\n",
    "    orderDirection='desc',\n",
    "    first=1000,\n",
    "    #skip = skipValue,\n",
    "    where={ 'market': '0xc413dd03555f3eb29d834b482d386b2999dc2eb0' }\n",
    "\n",
    ")\n",
    "\n",
    "repaysDb = sg.query_df([\n",
    "    repays.id\n",
    "    ,repays.hash\n",
    "    ,repays.logIndex\n",
    "    ,repays.blockNumber\n",
    "    ,repays.timestamp\n",
    "    ,repays.account\n",
    "    ,repays.market\n",
    "    ,repays.market.rates\n",
    "    ,repays.asset\n",
    "    ,repays.amount\n",
    "    ,repays.amountUSD\n",
    "    ,repays.position\n",
    "])\n",
    "repaysDb.head(100)"
   ],
   "metadata": {
    "collapsed": false
   }
  },
  {
   "cell_type": "code",
   "execution_count": 12,
   "outputs": [
    {
     "data": {
      "text/plain": "Empty DataFrame\nColumns: []\nIndex: []",
      "text/html": "<div>\n<style scoped>\n    .dataframe tbody tr th:only-of-type {\n        vertical-align: middle;\n    }\n\n    .dataframe tbody tr th {\n        vertical-align: top;\n    }\n\n    .dataframe thead th {\n        text-align: right;\n    }\n</style>\n<table border=\"1\" class=\"dataframe\">\n  <thead>\n    <tr style=\"text-align: right;\">\n      <th></th>\n    </tr>\n  </thead>\n  <tbody>\n  </tbody>\n</table>\n</div>"
     },
     "execution_count": 12,
     "metadata": {},
     "output_type": "execute_result"
    }
   ],
   "source": [
    "oldSiloBorrowsDb = pd.DataFrame()\n",
    "siloFileName = file+'/siloFinanceGohmBorrows.csv'\n",
    "try:\n",
    "    oldSiloBorrowsDb = pd.read_csv (siloFileName)\n",
    "except:\n",
    "    oldSiloBorrowsDb = pd.DataFrame()\n",
    "oldSiloBorrowsDb.head(100)"
   ],
   "metadata": {
    "collapsed": false
   }
  },
  {
   "cell_type": "code",
   "execution_count": 13,
   "outputs": [
    {
     "data": {
      "text/plain": "0"
     },
     "execution_count": 13,
     "metadata": {},
     "output_type": "execute_result"
    }
   ],
   "source": [
    "maxSiloBorrowTimestamp = 0\n",
    "try:\n",
    "    maxSiloBorrowTimestamp = (max(0,oldSiloBorrowsDb['transaction_timestamp'].max()))-5\n",
    "except:\n",
    "        maxSiloBorrowTimestamp = 0\n",
    "maxSiloBorrowTimestamp = int(maxSiloBorrowTimestamp)\n",
    "maxSiloBorrowTimestamp"
   ],
   "metadata": {
    "collapsed": false
   }
  },
  {
   "cell_type": "code",
   "execution_count": 14,
   "outputs": [],
   "source": [
    "# 0xc413dd03555f3eb29d834b482d386b2999dc2eb0"
   ],
   "metadata": {
    "collapsed": false
   }
  },
  {
   "cell_type": "code",
   "execution_count": 15,
   "outputs": [
    {
     "name": "stdout",
     "output_type": "stream",
     "text": [
      "iterations:  0 Lines skipped:  0 records collected:  162  - latest recordID:  0x84778306b3f662f7d98e431591f302d924d143c3c0b281d067cb506565b9f960   0x84778306b3f662f7d98e431591f302d924d143c3c0b281d067cb506565b9f960-364  - borrows DB length:  162  - latest record from:  2023-02-21 09:50:23 0 days ago\n",
      "Done. Total Records collected:  162\n"
     ]
    }
   ],
   "source": [
    "##this captures the ENTIRE list of people who borrowed stablecoins against gOHM\n",
    "borrowTicker = 0\n",
    "borrowslist = pd.DataFrame()\n",
    "siloBorrowsDb = pd.DataFrame()\n",
    "borrowListLength = 1000\n",
    "datediff = 0\n",
    "now=0\n",
    "daysAgo=0\n",
    "exit = False\n",
    "while exit==False:\n",
    "    skipValue = (borrowTicker)*(1000)\n",
    "    borrows = silo.Query.borrows(\n",
    "        orderBy='timestamp',\n",
    "        orderDirection='desc',\n",
    "        first=1000,\n",
    "        skip = skipValue,\n",
    "        where={ 'market': '0xc413dd03555f3eb29d834b482d386b2999dc2eb0'\n",
    "                ,'timestamp_gte': maxSiloBorrowTimestamp\n",
    "                } #gOHM market\n",
    "    )\n",
    "\n",
    "    borrowslist = sg.query_df([\n",
    "        borrows.id\n",
    "        ,borrows.hash\n",
    "        ,borrows.blockNumber\n",
    "        ,borrows.timestamp\n",
    "        ,borrows.account.id\n",
    "        ,borrows.market.id\n",
    "        ,borrows.market.protocol.id\n",
    "        ,borrows.market.rates.rate\n",
    "        ,borrows.market.rates.duration\n",
    "        ,borrows.market.rates.side\n",
    "        ,borrows.market.rates.type\n",
    "        ,borrows.market.rates.token.id\n",
    "        ,borrows.asset.name\n",
    "        ,borrows.asset.symbol\n",
    "        ,borrows.asset.decimals\n",
    "        ,borrows.asset.lastPriceUSD\n",
    "        ,borrows.amount\n",
    "        ,borrows.amountUSD\n",
    "    ])\n",
    "\n",
    "    siloBorrowsDb=pd.concat([siloBorrowsDb, borrowslist])\n",
    "    recordTimestamp1 = siloBorrowsDb.iat[borrowTicker,3]\n",
    "    recordTimestamp = dt.datetime.fromtimestamp( recordTimestamp1 )\n",
    "    now = (int(dt.datetime.utcnow().timestamp()))\n",
    "    datediff=abs(int(now) - recordTimestamp1)\n",
    "    daysAgo = int(datediff/86400)\n",
    "    siloBorrowsDbLength = len(siloBorrowsDb)\n",
    "    borrowListLength = len(borrowslist)\n",
    "    recordID = siloBorrowsDb.iat[borrowTicker,0]\n",
    "    borrow = siloBorrowsDb.iat[borrowTicker,1]\n",
    "    print(\"iterations: \", borrowTicker, \"Lines skipped: \",skipValue, \"records collected: \", borrowListLength, \" - latest recordID: \",borrow, \" \", recordID , \" - borrows DB length: \", siloBorrowsDbLength, \" - latest record from: \", recordTimestamp, daysAgo,\"days ago\")\n",
    "    #print(\"iterations: \", borrowTicker, \"records collected: \", borrowListLength, \" - userdb length: \", borrowsDbLength)\n",
    "    borrowTicker = borrowTicker+1\n",
    "\n",
    "    if daysAgo>daysLimit: exit =True\n",
    "    if borrowListLength<1000: exit =True\n",
    "\n",
    "siloBorrowsDb.columns = siloBorrowsDb.columns.str.replace(\"borrows\", \"transaction\")\n",
    "siloBorrowsDb['event']='borrow'\n",
    "siloBorrowsDb.drop_duplicates\n",
    "print(\"Done. Total Records collected: \", siloBorrowsDbLength)"
   ],
   "metadata": {
    "collapsed": false
   }
  },
  {
   "cell_type": "code",
   "execution_count": 16,
   "outputs": [
    {
     "data": {
      "text/plain": "      event                                   transaction_hash  \\\n0    borrow  0x84778306b3f662f7d98e431591f302d924d143c3c0b2...   \n6    borrow  0x66fe10ed6dcb8b83bdb5b0c46cd321060734b9063bd5...   \n12   borrow  0xd9329978828295f4f091eaa77a6d8c388c5616bbe92c...   \n18   borrow  0x3b0f26e10c63a71c916e8a68bd1889d9bab38aeb62d7...   \n24   borrow  0xfa292276fc71f90e29ca90a7b8a2be9a4094f459fb99...   \n30   borrow  0xd5dc7147192591c7d19856d12e9278928932a5921653...   \n36   borrow  0x39c11cb01e34d9f8ca55a8820482eaf8a217033cdb6f...   \n42   borrow  0xf1d5b9c7f23bd9935061e4d08734cbfba9b9a53bacd5...   \n48   borrow  0x97811f7e7b7d202797093d44047ed986054be3dd6120...   \n54   borrow  0x3dba2dd3c913b399164efd71db73121c9c94c0096139...   \n60   borrow  0xbcfc05398a874e98a80e823ffb016c119b06c7b07a7c...   \n66   borrow  0x16f2ff52f7a9e9057848569ea37c3e59eb558af0e044...   \n72   borrow  0x2c0d9ab92c0eef11fa3394b4a89a62c7ee27bd5b64a1...   \n78   borrow  0x9acb7bcb3e826a231f0cb2e55f4d2ea70d7ff8cbe18a...   \n84   borrow  0x045f19530c6f8c0b6eca525f3921e207938e841b3670...   \n90   borrow  0x072c04ee8776ea91e8c1003bad2d401e3ac90d0ab2fc...   \n96   borrow  0x38ce8e39e188c85ba03a340cdde95c2e1d56b54161e6...   \n102  borrow  0x4fa0cb2fdde04b90f07602351b260aa5202562c7b701...   \n108  borrow  0xb38cef69963653bc8f3e04720bd0d3f3df6e6e9ede13...   \n114  borrow  0x30c76353a03ffe6931799da8b7439b1fcb02c3952f54...   \n120  borrow  0xe034b0dedaea9ad1f849d5420228106937d816b89b3a...   \n126  borrow  0xc629960194d24bb2e3aaf7a91b2cf4f547703cd7ed68...   \n132  borrow  0xbfc6df3a770233f4e0fbd6fe0cf8f6fa02f1432c570f...   \n138  borrow  0x2485acd5a3853dc50921a27ea5bf8227871425cca3e4...   \n144  borrow  0x17fedebf20b120a55b895f96e2b466f2bbdcceb2b542...   \n150  borrow  0x1aac54ba339ee99c2b3c69cbde905f3ddc7832ffd946...   \n156  borrow  0x83addaa30259315b10869fa8653a468eb1cc82a43f57...   \n\n     transaction_blockNumber  transaction_timestamp  \\\n0                   16678471             1677001823   \n6                   16651434             1676673563   \n12                  16644592             1676590307   \n18                  16641746             1676556011   \n24                  16634870             1676472911   \n30                  16627480             1676383655   \n36                  16626801             1676375459   \n42                  16626396             1676370563   \n48                  16623063             1676330255   \n54                  16622907             1676328371   \n60                  16619977             1676292983   \n66                  16589389             1675923839   \n72                  16588637             1675914791   \n78                  16585909             1675881839   \n84                  16580114             1675811711   \n90                  16579820             1675808183   \n96                  16579819             1675808171   \n102                 16574830             1675747799   \n108                 16573202             1675728155   \n114                 16533360             1675247171   \n120                 16505284             1674908519   \n126                 16204982             1671286919   \n132                 16173505             1670906999   \n138                 16171818             1670886647   \n144                 16171351             1670881019   \n150                 16036018             1669246811   \n156                 16034628             1669229867   \n\n                         transaction_account_id  \\\n0    0x9b8b04b6f82cd5e1dae58ca3614d445f93defc5c   \n6    0xd33e76d21d32c21811593ae54e38f68df0cfe8ed   \n12   0x96035b45bc0d22f0ed11283a91145fb001c48370   \n18   0xee95e4cf086fc80df7ae0f39dfc9ea53a3eaadcb   \n24   0x16ff8ad104fa6195260a6d4a3f311c5f120df77d   \n30   0xc0b1f200aa9546ce074397bed7438bb2ec033877   \n36   0x16ff8ad104fa6195260a6d4a3f311c5f120df77d   \n42   0x339fd7c17ce670e7821f2f2ee94ddd49771483da   \n48   0xc0b1f200aa9546ce074397bed7438bb2ec033877   \n54   0x46535cbc3fa574c32ea392d4f89c518290597072   \n60   0xc0b1f200aa9546ce074397bed7438bb2ec033877   \n66   0xb0399dac8f4d4100b49b2a7b3873481114229d18   \n72   0x804157889ac56a4e50278610c67960c1605a3264   \n78   0xfe9d1bd54e344dc8c4bd93e7935e39af452e5d41   \n84   0xb86cd2efc1f461beee8deec2c3f053ccb2781ef9   \n90   0x0493bcca897a2248ae3cd4c66aea90dbfc7e13c6   \n96   0x96035b45bc0d22f0ed11283a91145fb001c48370   \n102  0x6487d336bdec94d4714a4d217b15aa5c7b9dfa99   \n108  0x36125234dd6c7d0a01dcadc67e79e061d405098e   \n114  0x339fd7c17ce670e7821f2f2ee94ddd49771483da   \n120  0x42daeb9ca091e3933c8ee93c029701b926b1f336   \n126  0x44504ba8d43b30e882503948654e247b928bcc7f   \n132  0x339fd7c17ce670e7821f2f2ee94ddd49771483da   \n138  0x1ba67f30e25fc43863b50047d7fd4bd63b9c59ec   \n144  0x3985caf03eef8f885edb1f8358143bdf08d8d48b   \n150  0xd3064611b24eba7a6dbcbc26c1b35dfee1170880   \n156  0x7776421dd146dfd6ea947cbf29b69c519807d259   \n\n                          transaction_market_id transaction_asset_name  \\\n0    0xc413dd03555f3eb29d834b482d386b2999dc2eb0         XAI Stablecoin   \n6    0xc413dd03555f3eb29d834b482d386b2999dc2eb0         XAI Stablecoin   \n12   0xc413dd03555f3eb29d834b482d386b2999dc2eb0          Wrapped Ether   \n18   0xc413dd03555f3eb29d834b482d386b2999dc2eb0         XAI Stablecoin   \n24   0xc413dd03555f3eb29d834b482d386b2999dc2eb0         XAI Stablecoin   \n30   0xc413dd03555f3eb29d834b482d386b2999dc2eb0         XAI Stablecoin   \n36   0xc413dd03555f3eb29d834b482d386b2999dc2eb0          Wrapped Ether   \n42   0xc413dd03555f3eb29d834b482d386b2999dc2eb0         XAI Stablecoin   \n48   0xc413dd03555f3eb29d834b482d386b2999dc2eb0         XAI Stablecoin   \n54   0xc413dd03555f3eb29d834b482d386b2999dc2eb0         Governance OHM   \n60   0xc413dd03555f3eb29d834b482d386b2999dc2eb0         XAI Stablecoin   \n66   0xc413dd03555f3eb29d834b482d386b2999dc2eb0         XAI Stablecoin   \n72   0xc413dd03555f3eb29d834b482d386b2999dc2eb0         XAI Stablecoin   \n78   0xc413dd03555f3eb29d834b482d386b2999dc2eb0         XAI Stablecoin   \n84   0xc413dd03555f3eb29d834b482d386b2999dc2eb0         XAI Stablecoin   \n90   0xc413dd03555f3eb29d834b482d386b2999dc2eb0         XAI Stablecoin   \n96   0xc413dd03555f3eb29d834b482d386b2999dc2eb0         XAI Stablecoin   \n102  0xc413dd03555f3eb29d834b482d386b2999dc2eb0         XAI Stablecoin   \n108  0xc413dd03555f3eb29d834b482d386b2999dc2eb0         XAI Stablecoin   \n114  0xc413dd03555f3eb29d834b482d386b2999dc2eb0         XAI Stablecoin   \n120  0xc413dd03555f3eb29d834b482d386b2999dc2eb0         XAI Stablecoin   \n126  0xc413dd03555f3eb29d834b482d386b2999dc2eb0         XAI Stablecoin   \n132  0xc413dd03555f3eb29d834b482d386b2999dc2eb0         XAI Stablecoin   \n138  0xc413dd03555f3eb29d834b482d386b2999dc2eb0         XAI Stablecoin   \n144  0xc413dd03555f3eb29d834b482d386b2999dc2eb0         XAI Stablecoin   \n150  0xc413dd03555f3eb29d834b482d386b2999dc2eb0         XAI Stablecoin   \n156  0xc413dd03555f3eb29d834b482d386b2999dc2eb0         Governance OHM   \n\n    transaction_asset_symbol  transactionReadableAmount  \\\n0                        XAI                6540.000000   \n6                        XAI               60500.000000   \n12                      WETH                   0.600000   \n18                       XAI              100000.000000   \n24                       XAI                3000.000000   \n30                       XAI                1000.000000   \n36                      WETH                   1.920000   \n42                       XAI                4000.000000   \n48                       XAI                2457.516074   \n54                      gOHM                  26.400000   \n60                       XAI                3090.000000   \n66                       XAI              186000.000000   \n72                       XAI                1000.000000   \n78                       XAI                 398.385626   \n84                       XAI                7000.000000   \n90                       XAI               30000.000000   \n96                       XAI               20000.000000   \n102                      XAI                6030.000000   \n108                      XAI               25000.000000   \n114                      XAI                5000.000000   \n120                      XAI               10000.000000   \n126                      XAI                 500.000000   \n132                      XAI                8000.000000   \n138                      XAI               11900.000000   \n144                      XAI                4000.000000   \n150                      XAI                 262.000000   \n156                     gOHM                   0.182000   \n\n     transaction_asset_lastPriceUSD  transaction_amountUSD  \\\n0                          1.002384            6588.024198   \n6                          1.002384           59947.550425   \n12                      1675.554141             995.052978   \n18                         1.002384          100012.487283   \n24                         1.002384            3023.153053   \n30                         1.002384             992.079025   \n36                      1675.554141            2885.217480   \n42                         1.002384            3963.627622   \n48                         1.002384            2446.717700   \n54                      2756.217547           71910.521424   \n60                         1.002384            3085.406589   \n66                         1.002384          185996.147731   \n72                         1.002384            1005.010529   \n78                         1.002384             397.352793   \n84                         1.002384            6976.053341   \n90                         1.002384           29884.417447   \n96                         1.002384           19922.944964   \n102                        1.002384            6015.596587   \n108                        1.002384           24937.155253   \n114                        1.002384            5001.341848   \n120                        1.002384           10040.961438   \n126                        1.002384             498.489611   \n132                        1.002384            8040.631376   \n138                        1.002384           11928.568949   \n144                        1.002384            4012.000608   \n150                        1.002384             262.176433   \n156                     2756.217547             399.040935   \n\n               dateTime    calDate  \n0   2023-02-21 17:50:23 2023-02-21  \n6   2023-02-17 22:39:23 2023-02-17  \n12  2023-02-16 23:31:47 2023-02-16  \n18  2023-02-16 14:00:11 2023-02-16  \n24  2023-02-15 14:55:11 2023-02-15  \n30  2023-02-14 14:07:35 2023-02-14  \n36  2023-02-14 11:50:59 2023-02-14  \n42  2023-02-14 10:29:23 2023-02-14  \n48  2023-02-13 23:17:35 2023-02-13  \n54  2023-02-13 22:46:11 2023-02-13  \n60  2023-02-13 12:56:23 2023-02-13  \n66  2023-02-09 06:23:59 2023-02-09  \n72  2023-02-09 03:53:11 2023-02-09  \n78  2023-02-08 18:43:59 2023-02-08  \n84  2023-02-07 23:15:11 2023-02-07  \n90  2023-02-07 22:16:23 2023-02-07  \n96  2023-02-07 22:16:11 2023-02-07  \n102 2023-02-07 05:29:59 2023-02-07  \n108 2023-02-07 00:02:35 2023-02-07  \n114 2023-02-01 10:26:11 2023-02-01  \n120 2023-01-28 12:21:59 2023-01-28  \n126 2022-12-17 14:21:59 2022-12-17  \n132 2022-12-13 04:49:59 2022-12-13  \n138 2022-12-12 23:10:47 2022-12-12  \n144 2022-12-12 21:36:59 2022-12-12  \n150 2022-11-23 23:40:11 2022-11-23  \n156 2022-11-23 18:57:47 2022-11-23  ",
      "text/html": "<div>\n<style scoped>\n    .dataframe tbody tr th:only-of-type {\n        vertical-align: middle;\n    }\n\n    .dataframe tbody tr th {\n        vertical-align: top;\n    }\n\n    .dataframe thead th {\n        text-align: right;\n    }\n</style>\n<table border=\"1\" class=\"dataframe\">\n  <thead>\n    <tr style=\"text-align: right;\">\n      <th></th>\n      <th>event</th>\n      <th>transaction_hash</th>\n      <th>transaction_blockNumber</th>\n      <th>transaction_timestamp</th>\n      <th>transaction_account_id</th>\n      <th>transaction_market_id</th>\n      <th>transaction_asset_name</th>\n      <th>transaction_asset_symbol</th>\n      <th>transactionReadableAmount</th>\n      <th>transaction_asset_lastPriceUSD</th>\n      <th>transaction_amountUSD</th>\n      <th>dateTime</th>\n      <th>calDate</th>\n    </tr>\n  </thead>\n  <tbody>\n    <tr>\n      <th>0</th>\n      <td>borrow</td>\n      <td>0x84778306b3f662f7d98e431591f302d924d143c3c0b2...</td>\n      <td>16678471</td>\n      <td>1677001823</td>\n      <td>0x9b8b04b6f82cd5e1dae58ca3614d445f93defc5c</td>\n      <td>0xc413dd03555f3eb29d834b482d386b2999dc2eb0</td>\n      <td>XAI Stablecoin</td>\n      <td>XAI</td>\n      <td>6540.000000</td>\n      <td>1.002384</td>\n      <td>6588.024198</td>\n      <td>2023-02-21 17:50:23</td>\n      <td>2023-02-21</td>\n    </tr>\n    <tr>\n      <th>6</th>\n      <td>borrow</td>\n      <td>0x66fe10ed6dcb8b83bdb5b0c46cd321060734b9063bd5...</td>\n      <td>16651434</td>\n      <td>1676673563</td>\n      <td>0xd33e76d21d32c21811593ae54e38f68df0cfe8ed</td>\n      <td>0xc413dd03555f3eb29d834b482d386b2999dc2eb0</td>\n      <td>XAI Stablecoin</td>\n      <td>XAI</td>\n      <td>60500.000000</td>\n      <td>1.002384</td>\n      <td>59947.550425</td>\n      <td>2023-02-17 22:39:23</td>\n      <td>2023-02-17</td>\n    </tr>\n    <tr>\n      <th>12</th>\n      <td>borrow</td>\n      <td>0xd9329978828295f4f091eaa77a6d8c388c5616bbe92c...</td>\n      <td>16644592</td>\n      <td>1676590307</td>\n      <td>0x96035b45bc0d22f0ed11283a91145fb001c48370</td>\n      <td>0xc413dd03555f3eb29d834b482d386b2999dc2eb0</td>\n      <td>Wrapped Ether</td>\n      <td>WETH</td>\n      <td>0.600000</td>\n      <td>1675.554141</td>\n      <td>995.052978</td>\n      <td>2023-02-16 23:31:47</td>\n      <td>2023-02-16</td>\n    </tr>\n    <tr>\n      <th>18</th>\n      <td>borrow</td>\n      <td>0x3b0f26e10c63a71c916e8a68bd1889d9bab38aeb62d7...</td>\n      <td>16641746</td>\n      <td>1676556011</td>\n      <td>0xee95e4cf086fc80df7ae0f39dfc9ea53a3eaadcb</td>\n      <td>0xc413dd03555f3eb29d834b482d386b2999dc2eb0</td>\n      <td>XAI Stablecoin</td>\n      <td>XAI</td>\n      <td>100000.000000</td>\n      <td>1.002384</td>\n      <td>100012.487283</td>\n      <td>2023-02-16 14:00:11</td>\n      <td>2023-02-16</td>\n    </tr>\n    <tr>\n      <th>24</th>\n      <td>borrow</td>\n      <td>0xfa292276fc71f90e29ca90a7b8a2be9a4094f459fb99...</td>\n      <td>16634870</td>\n      <td>1676472911</td>\n      <td>0x16ff8ad104fa6195260a6d4a3f311c5f120df77d</td>\n      <td>0xc413dd03555f3eb29d834b482d386b2999dc2eb0</td>\n      <td>XAI Stablecoin</td>\n      <td>XAI</td>\n      <td>3000.000000</td>\n      <td>1.002384</td>\n      <td>3023.153053</td>\n      <td>2023-02-15 14:55:11</td>\n      <td>2023-02-15</td>\n    </tr>\n    <tr>\n      <th>30</th>\n      <td>borrow</td>\n      <td>0xd5dc7147192591c7d19856d12e9278928932a5921653...</td>\n      <td>16627480</td>\n      <td>1676383655</td>\n      <td>0xc0b1f200aa9546ce074397bed7438bb2ec033877</td>\n      <td>0xc413dd03555f3eb29d834b482d386b2999dc2eb0</td>\n      <td>XAI Stablecoin</td>\n      <td>XAI</td>\n      <td>1000.000000</td>\n      <td>1.002384</td>\n      <td>992.079025</td>\n      <td>2023-02-14 14:07:35</td>\n      <td>2023-02-14</td>\n    </tr>\n    <tr>\n      <th>36</th>\n      <td>borrow</td>\n      <td>0x39c11cb01e34d9f8ca55a8820482eaf8a217033cdb6f...</td>\n      <td>16626801</td>\n      <td>1676375459</td>\n      <td>0x16ff8ad104fa6195260a6d4a3f311c5f120df77d</td>\n      <td>0xc413dd03555f3eb29d834b482d386b2999dc2eb0</td>\n      <td>Wrapped Ether</td>\n      <td>WETH</td>\n      <td>1.920000</td>\n      <td>1675.554141</td>\n      <td>2885.217480</td>\n      <td>2023-02-14 11:50:59</td>\n      <td>2023-02-14</td>\n    </tr>\n    <tr>\n      <th>42</th>\n      <td>borrow</td>\n      <td>0xf1d5b9c7f23bd9935061e4d08734cbfba9b9a53bacd5...</td>\n      <td>16626396</td>\n      <td>1676370563</td>\n      <td>0x339fd7c17ce670e7821f2f2ee94ddd49771483da</td>\n      <td>0xc413dd03555f3eb29d834b482d386b2999dc2eb0</td>\n      <td>XAI Stablecoin</td>\n      <td>XAI</td>\n      <td>4000.000000</td>\n      <td>1.002384</td>\n      <td>3963.627622</td>\n      <td>2023-02-14 10:29:23</td>\n      <td>2023-02-14</td>\n    </tr>\n    <tr>\n      <th>48</th>\n      <td>borrow</td>\n      <td>0x97811f7e7b7d202797093d44047ed986054be3dd6120...</td>\n      <td>16623063</td>\n      <td>1676330255</td>\n      <td>0xc0b1f200aa9546ce074397bed7438bb2ec033877</td>\n      <td>0xc413dd03555f3eb29d834b482d386b2999dc2eb0</td>\n      <td>XAI Stablecoin</td>\n      <td>XAI</td>\n      <td>2457.516074</td>\n      <td>1.002384</td>\n      <td>2446.717700</td>\n      <td>2023-02-13 23:17:35</td>\n      <td>2023-02-13</td>\n    </tr>\n    <tr>\n      <th>54</th>\n      <td>borrow</td>\n      <td>0x3dba2dd3c913b399164efd71db73121c9c94c0096139...</td>\n      <td>16622907</td>\n      <td>1676328371</td>\n      <td>0x46535cbc3fa574c32ea392d4f89c518290597072</td>\n      <td>0xc413dd03555f3eb29d834b482d386b2999dc2eb0</td>\n      <td>Governance OHM</td>\n      <td>gOHM</td>\n      <td>26.400000</td>\n      <td>2756.217547</td>\n      <td>71910.521424</td>\n      <td>2023-02-13 22:46:11</td>\n      <td>2023-02-13</td>\n    </tr>\n    <tr>\n      <th>60</th>\n      <td>borrow</td>\n      <td>0xbcfc05398a874e98a80e823ffb016c119b06c7b07a7c...</td>\n      <td>16619977</td>\n      <td>1676292983</td>\n      <td>0xc0b1f200aa9546ce074397bed7438bb2ec033877</td>\n      <td>0xc413dd03555f3eb29d834b482d386b2999dc2eb0</td>\n      <td>XAI Stablecoin</td>\n      <td>XAI</td>\n      <td>3090.000000</td>\n      <td>1.002384</td>\n      <td>3085.406589</td>\n      <td>2023-02-13 12:56:23</td>\n      <td>2023-02-13</td>\n    </tr>\n    <tr>\n      <th>66</th>\n      <td>borrow</td>\n      <td>0x16f2ff52f7a9e9057848569ea37c3e59eb558af0e044...</td>\n      <td>16589389</td>\n      <td>1675923839</td>\n      <td>0xb0399dac8f4d4100b49b2a7b3873481114229d18</td>\n      <td>0xc413dd03555f3eb29d834b482d386b2999dc2eb0</td>\n      <td>XAI Stablecoin</td>\n      <td>XAI</td>\n      <td>186000.000000</td>\n      <td>1.002384</td>\n      <td>185996.147731</td>\n      <td>2023-02-09 06:23:59</td>\n      <td>2023-02-09</td>\n    </tr>\n    <tr>\n      <th>72</th>\n      <td>borrow</td>\n      <td>0x2c0d9ab92c0eef11fa3394b4a89a62c7ee27bd5b64a1...</td>\n      <td>16588637</td>\n      <td>1675914791</td>\n      <td>0x804157889ac56a4e50278610c67960c1605a3264</td>\n      <td>0xc413dd03555f3eb29d834b482d386b2999dc2eb0</td>\n      <td>XAI Stablecoin</td>\n      <td>XAI</td>\n      <td>1000.000000</td>\n      <td>1.002384</td>\n      <td>1005.010529</td>\n      <td>2023-02-09 03:53:11</td>\n      <td>2023-02-09</td>\n    </tr>\n    <tr>\n      <th>78</th>\n      <td>borrow</td>\n      <td>0x9acb7bcb3e826a231f0cb2e55f4d2ea70d7ff8cbe18a...</td>\n      <td>16585909</td>\n      <td>1675881839</td>\n      <td>0xfe9d1bd54e344dc8c4bd93e7935e39af452e5d41</td>\n      <td>0xc413dd03555f3eb29d834b482d386b2999dc2eb0</td>\n      <td>XAI Stablecoin</td>\n      <td>XAI</td>\n      <td>398.385626</td>\n      <td>1.002384</td>\n      <td>397.352793</td>\n      <td>2023-02-08 18:43:59</td>\n      <td>2023-02-08</td>\n    </tr>\n    <tr>\n      <th>84</th>\n      <td>borrow</td>\n      <td>0x045f19530c6f8c0b6eca525f3921e207938e841b3670...</td>\n      <td>16580114</td>\n      <td>1675811711</td>\n      <td>0xb86cd2efc1f461beee8deec2c3f053ccb2781ef9</td>\n      <td>0xc413dd03555f3eb29d834b482d386b2999dc2eb0</td>\n      <td>XAI Stablecoin</td>\n      <td>XAI</td>\n      <td>7000.000000</td>\n      <td>1.002384</td>\n      <td>6976.053341</td>\n      <td>2023-02-07 23:15:11</td>\n      <td>2023-02-07</td>\n    </tr>\n    <tr>\n      <th>90</th>\n      <td>borrow</td>\n      <td>0x072c04ee8776ea91e8c1003bad2d401e3ac90d0ab2fc...</td>\n      <td>16579820</td>\n      <td>1675808183</td>\n      <td>0x0493bcca897a2248ae3cd4c66aea90dbfc7e13c6</td>\n      <td>0xc413dd03555f3eb29d834b482d386b2999dc2eb0</td>\n      <td>XAI Stablecoin</td>\n      <td>XAI</td>\n      <td>30000.000000</td>\n      <td>1.002384</td>\n      <td>29884.417447</td>\n      <td>2023-02-07 22:16:23</td>\n      <td>2023-02-07</td>\n    </tr>\n    <tr>\n      <th>96</th>\n      <td>borrow</td>\n      <td>0x38ce8e39e188c85ba03a340cdde95c2e1d56b54161e6...</td>\n      <td>16579819</td>\n      <td>1675808171</td>\n      <td>0x96035b45bc0d22f0ed11283a91145fb001c48370</td>\n      <td>0xc413dd03555f3eb29d834b482d386b2999dc2eb0</td>\n      <td>XAI Stablecoin</td>\n      <td>XAI</td>\n      <td>20000.000000</td>\n      <td>1.002384</td>\n      <td>19922.944964</td>\n      <td>2023-02-07 22:16:11</td>\n      <td>2023-02-07</td>\n    </tr>\n    <tr>\n      <th>102</th>\n      <td>borrow</td>\n      <td>0x4fa0cb2fdde04b90f07602351b260aa5202562c7b701...</td>\n      <td>16574830</td>\n      <td>1675747799</td>\n      <td>0x6487d336bdec94d4714a4d217b15aa5c7b9dfa99</td>\n      <td>0xc413dd03555f3eb29d834b482d386b2999dc2eb0</td>\n      <td>XAI Stablecoin</td>\n      <td>XAI</td>\n      <td>6030.000000</td>\n      <td>1.002384</td>\n      <td>6015.596587</td>\n      <td>2023-02-07 05:29:59</td>\n      <td>2023-02-07</td>\n    </tr>\n    <tr>\n      <th>108</th>\n      <td>borrow</td>\n      <td>0xb38cef69963653bc8f3e04720bd0d3f3df6e6e9ede13...</td>\n      <td>16573202</td>\n      <td>1675728155</td>\n      <td>0x36125234dd6c7d0a01dcadc67e79e061d405098e</td>\n      <td>0xc413dd03555f3eb29d834b482d386b2999dc2eb0</td>\n      <td>XAI Stablecoin</td>\n      <td>XAI</td>\n      <td>25000.000000</td>\n      <td>1.002384</td>\n      <td>24937.155253</td>\n      <td>2023-02-07 00:02:35</td>\n      <td>2023-02-07</td>\n    </tr>\n    <tr>\n      <th>114</th>\n      <td>borrow</td>\n      <td>0x30c76353a03ffe6931799da8b7439b1fcb02c3952f54...</td>\n      <td>16533360</td>\n      <td>1675247171</td>\n      <td>0x339fd7c17ce670e7821f2f2ee94ddd49771483da</td>\n      <td>0xc413dd03555f3eb29d834b482d386b2999dc2eb0</td>\n      <td>XAI Stablecoin</td>\n      <td>XAI</td>\n      <td>5000.000000</td>\n      <td>1.002384</td>\n      <td>5001.341848</td>\n      <td>2023-02-01 10:26:11</td>\n      <td>2023-02-01</td>\n    </tr>\n    <tr>\n      <th>120</th>\n      <td>borrow</td>\n      <td>0xe034b0dedaea9ad1f849d5420228106937d816b89b3a...</td>\n      <td>16505284</td>\n      <td>1674908519</td>\n      <td>0x42daeb9ca091e3933c8ee93c029701b926b1f336</td>\n      <td>0xc413dd03555f3eb29d834b482d386b2999dc2eb0</td>\n      <td>XAI Stablecoin</td>\n      <td>XAI</td>\n      <td>10000.000000</td>\n      <td>1.002384</td>\n      <td>10040.961438</td>\n      <td>2023-01-28 12:21:59</td>\n      <td>2023-01-28</td>\n    </tr>\n    <tr>\n      <th>126</th>\n      <td>borrow</td>\n      <td>0xc629960194d24bb2e3aaf7a91b2cf4f547703cd7ed68...</td>\n      <td>16204982</td>\n      <td>1671286919</td>\n      <td>0x44504ba8d43b30e882503948654e247b928bcc7f</td>\n      <td>0xc413dd03555f3eb29d834b482d386b2999dc2eb0</td>\n      <td>XAI Stablecoin</td>\n      <td>XAI</td>\n      <td>500.000000</td>\n      <td>1.002384</td>\n      <td>498.489611</td>\n      <td>2022-12-17 14:21:59</td>\n      <td>2022-12-17</td>\n    </tr>\n    <tr>\n      <th>132</th>\n      <td>borrow</td>\n      <td>0xbfc6df3a770233f4e0fbd6fe0cf8f6fa02f1432c570f...</td>\n      <td>16173505</td>\n      <td>1670906999</td>\n      <td>0x339fd7c17ce670e7821f2f2ee94ddd49771483da</td>\n      <td>0xc413dd03555f3eb29d834b482d386b2999dc2eb0</td>\n      <td>XAI Stablecoin</td>\n      <td>XAI</td>\n      <td>8000.000000</td>\n      <td>1.002384</td>\n      <td>8040.631376</td>\n      <td>2022-12-13 04:49:59</td>\n      <td>2022-12-13</td>\n    </tr>\n    <tr>\n      <th>138</th>\n      <td>borrow</td>\n      <td>0x2485acd5a3853dc50921a27ea5bf8227871425cca3e4...</td>\n      <td>16171818</td>\n      <td>1670886647</td>\n      <td>0x1ba67f30e25fc43863b50047d7fd4bd63b9c59ec</td>\n      <td>0xc413dd03555f3eb29d834b482d386b2999dc2eb0</td>\n      <td>XAI Stablecoin</td>\n      <td>XAI</td>\n      <td>11900.000000</td>\n      <td>1.002384</td>\n      <td>11928.568949</td>\n      <td>2022-12-12 23:10:47</td>\n      <td>2022-12-12</td>\n    </tr>\n    <tr>\n      <th>144</th>\n      <td>borrow</td>\n      <td>0x17fedebf20b120a55b895f96e2b466f2bbdcceb2b542...</td>\n      <td>16171351</td>\n      <td>1670881019</td>\n      <td>0x3985caf03eef8f885edb1f8358143bdf08d8d48b</td>\n      <td>0xc413dd03555f3eb29d834b482d386b2999dc2eb0</td>\n      <td>XAI Stablecoin</td>\n      <td>XAI</td>\n      <td>4000.000000</td>\n      <td>1.002384</td>\n      <td>4012.000608</td>\n      <td>2022-12-12 21:36:59</td>\n      <td>2022-12-12</td>\n    </tr>\n    <tr>\n      <th>150</th>\n      <td>borrow</td>\n      <td>0x1aac54ba339ee99c2b3c69cbde905f3ddc7832ffd946...</td>\n      <td>16036018</td>\n      <td>1669246811</td>\n      <td>0xd3064611b24eba7a6dbcbc26c1b35dfee1170880</td>\n      <td>0xc413dd03555f3eb29d834b482d386b2999dc2eb0</td>\n      <td>XAI Stablecoin</td>\n      <td>XAI</td>\n      <td>262.000000</td>\n      <td>1.002384</td>\n      <td>262.176433</td>\n      <td>2022-11-23 23:40:11</td>\n      <td>2022-11-23</td>\n    </tr>\n    <tr>\n      <th>156</th>\n      <td>borrow</td>\n      <td>0x83addaa30259315b10869fa8653a468eb1cc82a43f57...</td>\n      <td>16034628</td>\n      <td>1669229867</td>\n      <td>0x7776421dd146dfd6ea947cbf29b69c519807d259</td>\n      <td>0xc413dd03555f3eb29d834b482d386b2999dc2eb0</td>\n      <td>Governance OHM</td>\n      <td>gOHM</td>\n      <td>0.182000</td>\n      <td>2756.217547</td>\n      <td>399.040935</td>\n      <td>2022-11-23 18:57:47</td>\n      <td>2022-11-23</td>\n    </tr>\n  </tbody>\n</table>\n</div>"
     },
     "execution_count": 16,
     "metadata": {},
     "output_type": "execute_result"
    }
   ],
   "source": [
    "siloBorrowsDb['transactionReadableAmount'] = siloBorrowsDb['transaction_amount']/(10**(siloBorrowsDb['transaction_asset_decimals']))\n",
    "siloBorrowsDb['transactionReadableAmount']=siloBorrowsDb['transactionReadableAmount'].astype('float')\n",
    "siloBorrowsDb['dateTime'] =(pd.to_datetime(siloBorrowsDb['transaction_timestamp'],unit='s'))\n",
    "\n",
    "siloBorrowEventsDbTimedClean = siloBorrowsDb[['event','transaction_hash','transaction_blockNumber','transaction_timestamp','transaction_account_id','transaction_market_id','transaction_asset_name','transaction_asset_symbol', 'transactionReadableAmount','transaction_asset_lastPriceUSD','transaction_amountUSD','dateTime']].copy()\n",
    "siloBorrowEventsDbTimedClean.sort_values(by=['event','transaction_hash','transaction_blockNumber','transaction_timestamp','transaction_account_id','transaction_market_id','transaction_asset_name','transaction_asset_symbol', 'transactionReadableAmount','transaction_asset_lastPriceUSD','transaction_amountUSD','dateTime'])\n",
    "\n",
    "siloBorrowEventsDbTimedClean.drop_duplicates(subset=['transaction_hash'],keep='first', inplace=True)\n",
    "siloBorrowEventsDbTimedClean['calDate'] = siloBorrowEventsDbTimedClean['dateTime'].dt.normalize()\n",
    "siloBorrowEventsDbTimedClean.head(100)"
   ],
   "metadata": {
    "collapsed": false
   }
  },
  {
   "cell_type": "code",
   "execution_count": 17,
   "outputs": [
    {
     "name": "stdout",
     "output_type": "stream",
     "text": [
      "/Users/ianbrillembourg/Dropbox/Documents/Edgecaser LLC/Projects/Olympus/Econohmetrics/gohmAsStablecoinCollateral/data/siloFinanceGohmBorrows_piped.csv file saved, 27  records\n"
     ]
    }
   ],
   "source": [
    "path =file+'/siloFinanceGohmBorrows.csv'\n",
    "siloBorrowEventsDbTimedClean.to_csv(path, index = False)\n",
    "\n",
    "path =file+'/siloFinanceGohmBorrows_piped.csv'\n",
    "siloBorrowEventsDbTimedClean.to_csv(path, index = False, sep='|')\n",
    "print(path, 'file saved,', len(siloBorrowEventsDbTimedClean),' records')"
   ],
   "metadata": {
    "collapsed": false
   }
  },
  {
   "cell_type": "code",
   "execution_count": 18,
   "outputs": [
    {
     "name": "stdout",
     "output_type": "stream",
     "text": [
      "A total of $ 571167.73 has been borrowed in different stablecoins over time over at Silo\n"
     ]
    }
   ],
   "source": [
    "totalBorrowedUSDSilo = sum(siloBorrowEventsDbTimedClean['transaction_amountUSD'])\n",
    "print('A total of $',round(totalBorrowedUSDSilo,2),  'has been borrowed in different stablecoins over time over at Silo')"
   ],
   "metadata": {
    "collapsed": false
   }
  },
  {
   "cell_type": "code",
   "execution_count": 19,
   "outputs": [
    {
     "data": {
      "text/plain": "                                    transaction_hash  transaction_timestamp  \\\n0  0x3dba2dd3c913b399164efd71db73121c9c94c0096139...             1676328371   \n1  0x83addaa30259315b10869fa8653a468eb1cc82a43f57...             1669229867   \n\n             dateTime                      transaction_account_id  \\\n0 2023-02-13 22:46:11  0x46535cbc3fa574c32ea392d4f89c518290597072   \n1 2022-11-23 18:57:47  0x7776421dd146dfd6ea947cbf29b69c519807d259   \n\n  transaction_asset_symbol  transactionReadableAmount  transaction_amountUSD  \n0                     gOHM                     26.400           71910.521424  \n1                     gOHM                      0.182             399.040935  ",
      "text/html": "<div>\n<style scoped>\n    .dataframe tbody tr th:only-of-type {\n        vertical-align: middle;\n    }\n\n    .dataframe tbody tr th {\n        vertical-align: top;\n    }\n\n    .dataframe thead th {\n        text-align: right;\n    }\n</style>\n<table border=\"1\" class=\"dataframe\">\n  <thead>\n    <tr style=\"text-align: right;\">\n      <th></th>\n      <th>transaction_hash</th>\n      <th>transaction_timestamp</th>\n      <th>dateTime</th>\n      <th>transaction_account_id</th>\n      <th>transaction_asset_symbol</th>\n      <th>transactionReadableAmount</th>\n      <th>transaction_amountUSD</th>\n    </tr>\n  </thead>\n  <tbody>\n    <tr>\n      <th>0</th>\n      <td>0x3dba2dd3c913b399164efd71db73121c9c94c0096139...</td>\n      <td>1676328371</td>\n      <td>2023-02-13 22:46:11</td>\n      <td>0x46535cbc3fa574c32ea392d4f89c518290597072</td>\n      <td>gOHM</td>\n      <td>26.400</td>\n      <td>71910.521424</td>\n    </tr>\n    <tr>\n      <th>1</th>\n      <td>0x83addaa30259315b10869fa8653a468eb1cc82a43f57...</td>\n      <td>1669229867</td>\n      <td>2022-11-23 18:57:47</td>\n      <td>0x7776421dd146dfd6ea947cbf29b69c519807d259</td>\n      <td>gOHM</td>\n      <td>0.182</td>\n      <td>399.040935</td>\n    </tr>\n  </tbody>\n</table>\n</div>"
     },
     "execution_count": 19,
     "metadata": {},
     "output_type": "execute_result"
    }
   ],
   "source": [
    "gOHMBorrowedSilo = db.query(\"Select distinct \"\n",
    "                           \"transaction_hash \"\n",
    "                           \",transaction_timestamp \"\n",
    "                           \", dateTime \"\n",
    "                           \",transaction_account_id \"\n",
    "                           \", transaction_asset_symbol \"\n",
    "                           \", transactionReadableAmount \"\n",
    "                           \", transaction_amountUSD \"\n",
    "                           \"from siloBorrowsDb where lower(transaction_asset_symbol) = 'gohm'\").df()\n",
    "\n",
    "gOHMBorrowedSilo.head(10)"
   ],
   "metadata": {
    "collapsed": false
   }
  },
  {
   "cell_type": "code",
   "execution_count": 21,
   "outputs": [
    {
     "name": "stdout",
     "output_type": "stream",
     "text": [
      "A total of  26.58 OHM has been borrowed in different stablecoins over time in Silo, roughly USD$ 72309.56235872359\n"
     ]
    }
   ],
   "source": [
    "totalSiloBorrowedgOHM = sum(gOHMBorrowedSilo['transactionReadableAmount'])\n",
    "totalSiloBorrowedgOHMinUSD = sum(gOHMBorrowedSilo['transaction_amountUSD'])\n",
    "print('A total of ',round(totalSiloBorrowedgOHM,2),  'OHM has been borrowed in different stablecoins over time in Silo, roughly USD$',totalSiloBorrowedgOHMinUSD)"
   ],
   "metadata": {
    "collapsed": false
   }
  },
  {
   "cell_type": "code",
   "execution_count": 23,
   "outputs": [
    {
     "name": "stdout",
     "output_type": "stream",
     "text": [
      "/Users/ianbrillembourg/Dropbox/Documents/Edgecaser LLC/Projects/Olympus/Econohmetrics/gohmAsStablecoinCollateral/data/ohmBorrowedSilo_piped.csv file saved, 2  records\n"
     ]
    }
   ],
   "source": [
    "path =file+'/ohmBorrowedSilo.csv'\n",
    "gOHMBorrowedSilo.to_csv(path, index = False)\n",
    "\n",
    "path =file+'/ohmBorrowedSilo_piped.csv'\n",
    "gOHMBorrowedSilo.to_csv(path, index = False, sep='|')\n",
    "print(path, 'file saved,', len(gOHMBorrowedSilo),' records')"
   ],
   "metadata": {
    "collapsed": false
   }
  },
  {
   "cell_type": "markdown",
   "source": [
    "********************************************************************\n",
    "********************************************************************\n",
    "SILO COLLATERAL DEPOSITS"
   ],
   "metadata": {
    "collapsed": false
   }
  },
  {
   "cell_type": "code",
   "execution_count": 26,
   "outputs": [
    {
     "data": {
      "text/plain": "Empty DataFrame\nColumns: []\nIndex: []",
      "text/html": "<div>\n<style scoped>\n    .dataframe tbody tr th:only-of-type {\n        vertical-align: middle;\n    }\n\n    .dataframe tbody tr th {\n        vertical-align: top;\n    }\n\n    .dataframe thead th {\n        text-align: right;\n    }\n</style>\n<table border=\"1\" class=\"dataframe\">\n  <thead>\n    <tr style=\"text-align: right;\">\n      <th></th>\n    </tr>\n  </thead>\n  <tbody>\n  </tbody>\n</table>\n</div>"
     },
     "execution_count": 26,
     "metadata": {},
     "output_type": "execute_result"
    }
   ],
   "source": [
    "oldSiloDepositsDb = pd.DataFrame()\n",
    "siloFileName = file+'/siloFinanceGohmDeposits.csv'\n",
    "try:\n",
    "    oldSiloDepositsDb = pd.read_csv (siloFileName)\n",
    "except:\n",
    "    oldSiloDepositsDb = pd.DataFrame()\n",
    "oldSiloDepositsDb.head(100)"
   ],
   "metadata": {
    "collapsed": false
   }
  },
  {
   "cell_type": "code",
   "execution_count": 27,
   "outputs": [
    {
     "data": {
      "text/plain": "0"
     },
     "execution_count": 27,
     "metadata": {},
     "output_type": "execute_result"
    }
   ],
   "source": [
    "maxSiloDepositsTimestamp = 0\n",
    "try:\n",
    "    maxSiloDepositsTimestamp = (max(0,oldSiloDepositsDb['transaction_timestamp'].max()))-1\n",
    "except:\n",
    "        maxSiloDepositsTimestamp = 0\n",
    "maxSiloDepositsTimestamp = int(maxSiloDepositsTimestamp)\n",
    "maxSiloDepositsTimestamp"
   ],
   "metadata": {
    "collapsed": false
   }
  },
  {
   "cell_type": "code",
   "execution_count": 62,
   "outputs": [
    {
     "name": "stdout",
     "output_type": "stream",
     "text": [
      "iterations:  0 Lines skipped:  0 records collected:  300  - latest recordID:  0xcc1705094b3dd746ed1769d610d22bf12b7aec36e8a45e1fc54156118d4bbdf0   0xcc1705094b3dd746ed1769d610d22bf12b7aec36e8a45e1fc54156118d4bbdf0-105  - deposits DB length:  300  - latest record from:  2023-02-21 09:49:35 0 days ago\n",
      "Done. Total Records collected:  300\n"
     ]
    }
   ],
   "source": [
    "##this captures the ENTIRE list of people who deposited OHM\n",
    "depositTicker = 0\n",
    "depositslist = pd.DataFrame()\n",
    "siloDepositsDb = pd.DataFrame()\n",
    "depositListLength = 1000\n",
    "datediff = 0\n",
    "now=0\n",
    "daysAgo=0\n",
    "#daysLimit = 45\n",
    "exit = False\n",
    "while exit==False:\n",
    "    skipValue = (depositTicker)*(1000)\n",
    "    deposits = silo.Query.deposits(\n",
    "        orderBy='timestamp',\n",
    "        orderDirection='desc',\n",
    "        first=1000,\n",
    "        skip = skipValue,\n",
    "        where={ 'market': '0xc413dd03555f3eb29d834b482d386b2999dc2eb0'\n",
    "                ,'timestamp_gte': maxSiloDepositsTimestamp\n",
    "                } #gOHM market\n",
    "    )\n",
    "\n",
    "    depositslist = sg.query_df([\n",
    "        deposits.id\n",
    "        ,deposits.hash\n",
    "        ,deposits.blockNumber\n",
    "        ,deposits.timestamp\n",
    "        ,deposits.account.id\n",
    "        ,deposits.market.id\n",
    "        ,deposits.market.protocol.id\n",
    "        ,deposits.market.rates.rate\n",
    "        ,deposits.market.rates.duration\n",
    "        ,deposits.market.rates.side\n",
    "        ,deposits.market.rates.type\n",
    "        ,deposits.market.rates.token.id\n",
    "        ,deposits.asset.name\n",
    "        ,deposits.asset.symbol\n",
    "        ,deposits.asset.decimals\n",
    "        ,deposits.asset.lastPriceUSD\n",
    "        ,deposits.amount\n",
    "        ,deposits.amountUSD\n",
    "    ])\n",
    "\n",
    "    siloDepositsDb=pd.concat([siloDepositsDb, depositslist])\n",
    "    recordTimestamp1 = siloDepositsDb.iat[depositTicker,3]\n",
    "    recordTimestamp = dt.datetime.fromtimestamp( recordTimestamp1 )\n",
    "    now = (int(dt.datetime.utcnow().timestamp()))\n",
    "    datediff=abs(int(now) - recordTimestamp1)\n",
    "    daysAgo = int(datediff/86400)\n",
    "    siloDepositsDbLength = len(siloDepositsDb)\n",
    "    siloDepositListLength = len(depositslist)\n",
    "    recordID = siloDepositsDb.iat[depositTicker,0]\n",
    "    deposit = siloDepositsDb.iat[depositTicker,1]\n",
    "    print(\"iterations: \", depositTicker, \"Lines skipped: \",skipValue, \"records collected: \", siloDepositListLength, \" - latest recordID: \",deposit, \" \", recordID , \" - deposits DB length: \", siloDepositsDbLength, \" - latest record from: \", recordTimestamp, daysAgo,\"days ago\")\n",
    "    #print(\"iterations: \", depositTicker, \"records collected: \", depositListLength, \" - userdb length: \", depositsDbLength)\n",
    "    depositTicker = depositTicker+1\n",
    "\n",
    "    if daysAgo>daysLimit: exit =True\n",
    "    if siloDepositsDbLength<1000: exit =True\n",
    "\n",
    "siloDepositsDb.columns = siloDepositsDb.columns.str.replace(\"deposits\", \"transaction\")\n",
    "siloDepositsDb['event']='deposit'\n",
    "siloDepositsDb.drop_duplicates\n",
    "print(\"Done. Total Records collected: \", siloDepositsDbLength)"
   ],
   "metadata": {
    "collapsed": false
   }
  },
  {
   "cell_type": "code",
   "execution_count": 63,
   "outputs": [
    {
     "data": {
      "text/plain": "                                      transaction_id  \\\n0  0xcc1705094b3dd746ed1769d610d22bf12b7aec36e8a4...   \n1  0xcc1705094b3dd746ed1769d610d22bf12b7aec36e8a4...   \n2  0xcc1705094b3dd746ed1769d610d22bf12b7aec36e8a4...   \n3  0xcc1705094b3dd746ed1769d610d22bf12b7aec36e8a4...   \n4  0xcc1705094b3dd746ed1769d610d22bf12b7aec36e8a4...   \n5  0xcc1705094b3dd746ed1769d610d22bf12b7aec36e8a4...   \n6  0xecd6140bbb896413a25d34ca87f5503b56c444f1e582...   \n7  0xecd6140bbb896413a25d34ca87f5503b56c444f1e582...   \n8  0xecd6140bbb896413a25d34ca87f5503b56c444f1e582...   \n9  0xecd6140bbb896413a25d34ca87f5503b56c444f1e582...   \n\n                                    transaction_hash  transaction_blockNumber  \\\n0  0xcc1705094b3dd746ed1769d610d22bf12b7aec36e8a4...                 16678469   \n1  0xcc1705094b3dd746ed1769d610d22bf12b7aec36e8a4...                 16678469   \n2  0xcc1705094b3dd746ed1769d610d22bf12b7aec36e8a4...                 16678469   \n3  0xcc1705094b3dd746ed1769d610d22bf12b7aec36e8a4...                 16678469   \n4  0xcc1705094b3dd746ed1769d610d22bf12b7aec36e8a4...                 16678469   \n5  0xcc1705094b3dd746ed1769d610d22bf12b7aec36e8a4...                 16678469   \n6  0xecd6140bbb896413a25d34ca87f5503b56c444f1e582...                 16651409   \n7  0xecd6140bbb896413a25d34ca87f5503b56c444f1e582...                 16651409   \n8  0xecd6140bbb896413a25d34ca87f5503b56c444f1e582...                 16651409   \n9  0xecd6140bbb896413a25d34ca87f5503b56c444f1e582...                 16651409   \n\n   transaction_timestamp                      transaction_account_id  \\\n0             1677001775  0x9b8b04b6f82cd5e1dae58ca3614d445f93defc5c   \n1             1677001775  0x9b8b04b6f82cd5e1dae58ca3614d445f93defc5c   \n2             1677001775  0x9b8b04b6f82cd5e1dae58ca3614d445f93defc5c   \n3             1677001775  0x9b8b04b6f82cd5e1dae58ca3614d445f93defc5c   \n4             1677001775  0x9b8b04b6f82cd5e1dae58ca3614d445f93defc5c   \n5             1677001775  0x9b8b04b6f82cd5e1dae58ca3614d445f93defc5c   \n6             1676673263  0xd33e76d21d32c21811593ae54e38f68df0cfe8ed   \n7             1676673263  0xd33e76d21d32c21811593ae54e38f68df0cfe8ed   \n8             1676673263  0xd33e76d21d32c21811593ae54e38f68df0cfe8ed   \n9             1676673263  0xd33e76d21d32c21811593ae54e38f68df0cfe8ed   \n\n                        transaction_market_id  \\\n0  0xc413dd03555f3eb29d834b482d386b2999dc2eb0   \n1  0xc413dd03555f3eb29d834b482d386b2999dc2eb0   \n2  0xc413dd03555f3eb29d834b482d386b2999dc2eb0   \n3  0xc413dd03555f3eb29d834b482d386b2999dc2eb0   \n4  0xc413dd03555f3eb29d834b482d386b2999dc2eb0   \n5  0xc413dd03555f3eb29d834b482d386b2999dc2eb0   \n6  0xc413dd03555f3eb29d834b482d386b2999dc2eb0   \n7  0xc413dd03555f3eb29d834b482d386b2999dc2eb0   \n8  0xc413dd03555f3eb29d834b482d386b2999dc2eb0   \n9  0xc413dd03555f3eb29d834b482d386b2999dc2eb0   \n\n               transaction_market_protocol_id  transaction_market_rates_rate  \\\n0  0xd998c35b7900b344bbbe6555cc11576942cf309d                       0.000000   \n1  0xd998c35b7900b344bbbe6555cc11576942cf309d                       0.983536   \n2  0xd998c35b7900b344bbbe6555cc11576942cf309d                       3.173277   \n3  0xd998c35b7900b344bbbe6555cc11576942cf309d                       0.000000   \n4  0xd998c35b7900b344bbbe6555cc11576942cf309d                       0.117765   \n5  0xd998c35b7900b344bbbe6555cc11576942cf309d                       2.013938   \n6  0xd998c35b7900b344bbbe6555cc11576942cf309d                       0.000000   \n7  0xd998c35b7900b344bbbe6555cc11576942cf309d                       0.983536   \n8  0xd998c35b7900b344bbbe6555cc11576942cf309d                       3.173277   \n9  0xd998c35b7900b344bbbe6555cc11576942cf309d                       0.000000   \n\n  transaction_market_rates_duration transaction_market_rates_side  \\\n0                              None                      BORROWER   \n1                              None                      BORROWER   \n2                              None                      BORROWER   \n3                              None                        LENDER   \n4                              None                        LENDER   \n5                              None                        LENDER   \n6                              None                      BORROWER   \n7                              None                      BORROWER   \n8                              None                      BORROWER   \n9                              None                        LENDER   \n\n  transaction_market_rates_type           transaction_market_rates_token_id  \\\n0                      VARIABLE  0x0ab87046fbb341d058f17cbc4c1133f25a20a52f   \n1                      VARIABLE  0xc02aaa39b223fe8d0a0e5c4f27ead9083c756cc2   \n2                      VARIABLE  0xd7c9f0e536dc865ae858b0c0453fe76d13c3beac   \n3                      VARIABLE  0x0ab87046fbb341d058f17cbc4c1133f25a20a52f   \n4                      VARIABLE  0xc02aaa39b223fe8d0a0e5c4f27ead9083c756cc2   \n5                      VARIABLE  0xd7c9f0e536dc865ae858b0c0453fe76d13c3beac   \n6                      VARIABLE  0x0ab87046fbb341d058f17cbc4c1133f25a20a52f   \n7                      VARIABLE  0xc02aaa39b223fe8d0a0e5c4f27ead9083c756cc2   \n8                      VARIABLE  0xd7c9f0e536dc865ae858b0c0453fe76d13c3beac   \n9                      VARIABLE  0x0ab87046fbb341d058f17cbc4c1133f25a20a52f   \n\n  transaction_asset_name transaction_asset_symbol  transaction_asset_decimals  \\\n0         Governance OHM                     gOHM                          18   \n1         Governance OHM                     gOHM                          18   \n2         Governance OHM                     gOHM                          18   \n3         Governance OHM                     gOHM                          18   \n4         Governance OHM                     gOHM                          18   \n5         Governance OHM                     gOHM                          18   \n6         Governance OHM                     gOHM                          18   \n7         Governance OHM                     gOHM                          18   \n8         Governance OHM                     gOHM                          18   \n9         Governance OHM                     gOHM                          18   \n\n   transaction_asset_lastPriceUSD    transaction_amount  \\\n0                     2756.217547   5621350750196149283   \n1                     2756.217547   5621350750196149283   \n2                     2756.217547   5621350750196149283   \n3                     2756.217547   5621350750196149283   \n4                     2756.217547   5621350750196149283   \n5                     2756.217547   5621350750196149283   \n6                     2756.217547  48922199130466954750   \n7                     2756.217547  48922199130466954750   \n8                     2756.217547  48922199130466954750   \n9                     2756.217547  48922199130466954750   \n\n   transaction_amountUSD    event  \n0           15493.665575  deposit  \n1           15493.665575  deposit  \n2           15493.665575  deposit  \n3           15493.665575  deposit  \n4           15493.665575  deposit  \n5           15493.665575  deposit  \n6          138354.126796  deposit  \n7          138354.126796  deposit  \n8          138354.126796  deposit  \n9          138354.126796  deposit  ",
      "text/html": "<div>\n<style scoped>\n    .dataframe tbody tr th:only-of-type {\n        vertical-align: middle;\n    }\n\n    .dataframe tbody tr th {\n        vertical-align: top;\n    }\n\n    .dataframe thead th {\n        text-align: right;\n    }\n</style>\n<table border=\"1\" class=\"dataframe\">\n  <thead>\n    <tr style=\"text-align: right;\">\n      <th></th>\n      <th>transaction_id</th>\n      <th>transaction_hash</th>\n      <th>transaction_blockNumber</th>\n      <th>transaction_timestamp</th>\n      <th>transaction_account_id</th>\n      <th>transaction_market_id</th>\n      <th>transaction_market_protocol_id</th>\n      <th>transaction_market_rates_rate</th>\n      <th>transaction_market_rates_duration</th>\n      <th>transaction_market_rates_side</th>\n      <th>transaction_market_rates_type</th>\n      <th>transaction_market_rates_token_id</th>\n      <th>transaction_asset_name</th>\n      <th>transaction_asset_symbol</th>\n      <th>transaction_asset_decimals</th>\n      <th>transaction_asset_lastPriceUSD</th>\n      <th>transaction_amount</th>\n      <th>transaction_amountUSD</th>\n      <th>event</th>\n    </tr>\n  </thead>\n  <tbody>\n    <tr>\n      <th>0</th>\n      <td>0xcc1705094b3dd746ed1769d610d22bf12b7aec36e8a4...</td>\n      <td>0xcc1705094b3dd746ed1769d610d22bf12b7aec36e8a4...</td>\n      <td>16678469</td>\n      <td>1677001775</td>\n      <td>0x9b8b04b6f82cd5e1dae58ca3614d445f93defc5c</td>\n      <td>0xc413dd03555f3eb29d834b482d386b2999dc2eb0</td>\n      <td>0xd998c35b7900b344bbbe6555cc11576942cf309d</td>\n      <td>0.000000</td>\n      <td>None</td>\n      <td>BORROWER</td>\n      <td>VARIABLE</td>\n      <td>0x0ab87046fbb341d058f17cbc4c1133f25a20a52f</td>\n      <td>Governance OHM</td>\n      <td>gOHM</td>\n      <td>18</td>\n      <td>2756.217547</td>\n      <td>5621350750196149283</td>\n      <td>15493.665575</td>\n      <td>deposit</td>\n    </tr>\n    <tr>\n      <th>1</th>\n      <td>0xcc1705094b3dd746ed1769d610d22bf12b7aec36e8a4...</td>\n      <td>0xcc1705094b3dd746ed1769d610d22bf12b7aec36e8a4...</td>\n      <td>16678469</td>\n      <td>1677001775</td>\n      <td>0x9b8b04b6f82cd5e1dae58ca3614d445f93defc5c</td>\n      <td>0xc413dd03555f3eb29d834b482d386b2999dc2eb0</td>\n      <td>0xd998c35b7900b344bbbe6555cc11576942cf309d</td>\n      <td>0.983536</td>\n      <td>None</td>\n      <td>BORROWER</td>\n      <td>VARIABLE</td>\n      <td>0xc02aaa39b223fe8d0a0e5c4f27ead9083c756cc2</td>\n      <td>Governance OHM</td>\n      <td>gOHM</td>\n      <td>18</td>\n      <td>2756.217547</td>\n      <td>5621350750196149283</td>\n      <td>15493.665575</td>\n      <td>deposit</td>\n    </tr>\n    <tr>\n      <th>2</th>\n      <td>0xcc1705094b3dd746ed1769d610d22bf12b7aec36e8a4...</td>\n      <td>0xcc1705094b3dd746ed1769d610d22bf12b7aec36e8a4...</td>\n      <td>16678469</td>\n      <td>1677001775</td>\n      <td>0x9b8b04b6f82cd5e1dae58ca3614d445f93defc5c</td>\n      <td>0xc413dd03555f3eb29d834b482d386b2999dc2eb0</td>\n      <td>0xd998c35b7900b344bbbe6555cc11576942cf309d</td>\n      <td>3.173277</td>\n      <td>None</td>\n      <td>BORROWER</td>\n      <td>VARIABLE</td>\n      <td>0xd7c9f0e536dc865ae858b0c0453fe76d13c3beac</td>\n      <td>Governance OHM</td>\n      <td>gOHM</td>\n      <td>18</td>\n      <td>2756.217547</td>\n      <td>5621350750196149283</td>\n      <td>15493.665575</td>\n      <td>deposit</td>\n    </tr>\n    <tr>\n      <th>3</th>\n      <td>0xcc1705094b3dd746ed1769d610d22bf12b7aec36e8a4...</td>\n      <td>0xcc1705094b3dd746ed1769d610d22bf12b7aec36e8a4...</td>\n      <td>16678469</td>\n      <td>1677001775</td>\n      <td>0x9b8b04b6f82cd5e1dae58ca3614d445f93defc5c</td>\n      <td>0xc413dd03555f3eb29d834b482d386b2999dc2eb0</td>\n      <td>0xd998c35b7900b344bbbe6555cc11576942cf309d</td>\n      <td>0.000000</td>\n      <td>None</td>\n      <td>LENDER</td>\n      <td>VARIABLE</td>\n      <td>0x0ab87046fbb341d058f17cbc4c1133f25a20a52f</td>\n      <td>Governance OHM</td>\n      <td>gOHM</td>\n      <td>18</td>\n      <td>2756.217547</td>\n      <td>5621350750196149283</td>\n      <td>15493.665575</td>\n      <td>deposit</td>\n    </tr>\n    <tr>\n      <th>4</th>\n      <td>0xcc1705094b3dd746ed1769d610d22bf12b7aec36e8a4...</td>\n      <td>0xcc1705094b3dd746ed1769d610d22bf12b7aec36e8a4...</td>\n      <td>16678469</td>\n      <td>1677001775</td>\n      <td>0x9b8b04b6f82cd5e1dae58ca3614d445f93defc5c</td>\n      <td>0xc413dd03555f3eb29d834b482d386b2999dc2eb0</td>\n      <td>0xd998c35b7900b344bbbe6555cc11576942cf309d</td>\n      <td>0.117765</td>\n      <td>None</td>\n      <td>LENDER</td>\n      <td>VARIABLE</td>\n      <td>0xc02aaa39b223fe8d0a0e5c4f27ead9083c756cc2</td>\n      <td>Governance OHM</td>\n      <td>gOHM</td>\n      <td>18</td>\n      <td>2756.217547</td>\n      <td>5621350750196149283</td>\n      <td>15493.665575</td>\n      <td>deposit</td>\n    </tr>\n    <tr>\n      <th>5</th>\n      <td>0xcc1705094b3dd746ed1769d610d22bf12b7aec36e8a4...</td>\n      <td>0xcc1705094b3dd746ed1769d610d22bf12b7aec36e8a4...</td>\n      <td>16678469</td>\n      <td>1677001775</td>\n      <td>0x9b8b04b6f82cd5e1dae58ca3614d445f93defc5c</td>\n      <td>0xc413dd03555f3eb29d834b482d386b2999dc2eb0</td>\n      <td>0xd998c35b7900b344bbbe6555cc11576942cf309d</td>\n      <td>2.013938</td>\n      <td>None</td>\n      <td>LENDER</td>\n      <td>VARIABLE</td>\n      <td>0xd7c9f0e536dc865ae858b0c0453fe76d13c3beac</td>\n      <td>Governance OHM</td>\n      <td>gOHM</td>\n      <td>18</td>\n      <td>2756.217547</td>\n      <td>5621350750196149283</td>\n      <td>15493.665575</td>\n      <td>deposit</td>\n    </tr>\n    <tr>\n      <th>6</th>\n      <td>0xecd6140bbb896413a25d34ca87f5503b56c444f1e582...</td>\n      <td>0xecd6140bbb896413a25d34ca87f5503b56c444f1e582...</td>\n      <td>16651409</td>\n      <td>1676673263</td>\n      <td>0xd33e76d21d32c21811593ae54e38f68df0cfe8ed</td>\n      <td>0xc413dd03555f3eb29d834b482d386b2999dc2eb0</td>\n      <td>0xd998c35b7900b344bbbe6555cc11576942cf309d</td>\n      <td>0.000000</td>\n      <td>None</td>\n      <td>BORROWER</td>\n      <td>VARIABLE</td>\n      <td>0x0ab87046fbb341d058f17cbc4c1133f25a20a52f</td>\n      <td>Governance OHM</td>\n      <td>gOHM</td>\n      <td>18</td>\n      <td>2756.217547</td>\n      <td>48922199130466954750</td>\n      <td>138354.126796</td>\n      <td>deposit</td>\n    </tr>\n    <tr>\n      <th>7</th>\n      <td>0xecd6140bbb896413a25d34ca87f5503b56c444f1e582...</td>\n      <td>0xecd6140bbb896413a25d34ca87f5503b56c444f1e582...</td>\n      <td>16651409</td>\n      <td>1676673263</td>\n      <td>0xd33e76d21d32c21811593ae54e38f68df0cfe8ed</td>\n      <td>0xc413dd03555f3eb29d834b482d386b2999dc2eb0</td>\n      <td>0xd998c35b7900b344bbbe6555cc11576942cf309d</td>\n      <td>0.983536</td>\n      <td>None</td>\n      <td>BORROWER</td>\n      <td>VARIABLE</td>\n      <td>0xc02aaa39b223fe8d0a0e5c4f27ead9083c756cc2</td>\n      <td>Governance OHM</td>\n      <td>gOHM</td>\n      <td>18</td>\n      <td>2756.217547</td>\n      <td>48922199130466954750</td>\n      <td>138354.126796</td>\n      <td>deposit</td>\n    </tr>\n    <tr>\n      <th>8</th>\n      <td>0xecd6140bbb896413a25d34ca87f5503b56c444f1e582...</td>\n      <td>0xecd6140bbb896413a25d34ca87f5503b56c444f1e582...</td>\n      <td>16651409</td>\n      <td>1676673263</td>\n      <td>0xd33e76d21d32c21811593ae54e38f68df0cfe8ed</td>\n      <td>0xc413dd03555f3eb29d834b482d386b2999dc2eb0</td>\n      <td>0xd998c35b7900b344bbbe6555cc11576942cf309d</td>\n      <td>3.173277</td>\n      <td>None</td>\n      <td>BORROWER</td>\n      <td>VARIABLE</td>\n      <td>0xd7c9f0e536dc865ae858b0c0453fe76d13c3beac</td>\n      <td>Governance OHM</td>\n      <td>gOHM</td>\n      <td>18</td>\n      <td>2756.217547</td>\n      <td>48922199130466954750</td>\n      <td>138354.126796</td>\n      <td>deposit</td>\n    </tr>\n    <tr>\n      <th>9</th>\n      <td>0xecd6140bbb896413a25d34ca87f5503b56c444f1e582...</td>\n      <td>0xecd6140bbb896413a25d34ca87f5503b56c444f1e582...</td>\n      <td>16651409</td>\n      <td>1676673263</td>\n      <td>0xd33e76d21d32c21811593ae54e38f68df0cfe8ed</td>\n      <td>0xc413dd03555f3eb29d834b482d386b2999dc2eb0</td>\n      <td>0xd998c35b7900b344bbbe6555cc11576942cf309d</td>\n      <td>0.000000</td>\n      <td>None</td>\n      <td>LENDER</td>\n      <td>VARIABLE</td>\n      <td>0x0ab87046fbb341d058f17cbc4c1133f25a20a52f</td>\n      <td>Governance OHM</td>\n      <td>gOHM</td>\n      <td>18</td>\n      <td>2756.217547</td>\n      <td>48922199130466954750</td>\n      <td>138354.126796</td>\n      <td>deposit</td>\n    </tr>\n  </tbody>\n</table>\n</div>"
     },
     "execution_count": 63,
     "metadata": {},
     "output_type": "execute_result"
    }
   ],
   "source": [
    "siloDepositsDb.head(10)"
   ],
   "metadata": {
    "collapsed": false
   }
  },
  {
   "cell_type": "code",
   "execution_count": 64,
   "outputs": [
    {
     "data": {
      "text/plain": "       event                                   transaction_hash  \\\n0    deposit  0xcc1705094b3dd746ed1769d610d22bf12b7aec36e8a4...   \n6    deposit  0xecd6140bbb896413a25d34ca87f5503b56c444f1e582...   \n12   deposit  0x54cd3f5374780bceaffae0661e2688eeca47df22b8aa...   \n36   deposit  0xe5163797f0922e4bded89126a213296a8c3d270a39e2...   \n42   deposit  0xcc5e09e1e5c403b6925fa25f0410388de72ef1b45f30...   \n48   deposit  0xf5439a3f94551476ec68db02d6f577a2856d01f45691...   \n54   deposit  0x3069fa3e9834fd75b4eaae5d1ef1a7910b112ed68e5f...   \n66   deposit  0x17d879ec97730987652b5bcb00aaf6115b7dd232aaef...   \n72   deposit  0xff978d5e58c65cbc9d73fbf58f44166724c2db0f0706...   \n84   deposit  0x669ce641c8adcf855d5ea4fedda6b52fc63795fd0dd6...   \n90   deposit  0x204aee0831212791916d6ed3a2c24b5ac2a474743713...   \n96   deposit  0x6921d4de2e5fd797205f66357da959b3e4922760d131...   \n102  deposit  0x0efd7820596c58c44eb2a8cd9f825fa98fd0d7a3d1d3...   \n108  deposit  0x80f329fe4643c04ee8f7bc201533d5bd5387ac564fe8...   \n114  deposit  0x890da67cbb9ec7e781f0a8feb115ff7a590de57e00ce...   \n120  deposit  0xb1a1646acf062ec3c3d9884adf46bef38f00728ca2fa...   \n126  deposit  0x35d5e6734b990e7e7e6493344db464f86e9fe2318e7b...   \n132  deposit  0x1d2652b56d4d7ae72e952e68a3e0018bdbebdca8dd59...   \n138  deposit  0x4d72e2a5ca35d7b76faecafddc8dce2368081f6c6a52...   \n144  deposit  0x2051da675e864d363e7159d1e0084e45535e785b5ae6...   \n156  deposit  0x52365addba1ce6381c7ab6220b9a6eed6e26efa1b813...   \n162  deposit  0x976fb2b1e49590c04707140f0a1bce4465fda42dfe9c...   \n168  deposit  0x7811e7757339551966af37751af4b56c16a3e141d682...   \n174  deposit  0xc094064b1815d07ca696c614f45dffbb054d2e5d5954...   \n180  deposit  0xe32fe96626d39b1369922f9b678bdeff75eb6aeac561...   \n186  deposit  0x2f2117e1cc385bc67b93a53beb27c7b34865628bd35b...   \n198  deposit  0x7c831909c84d8b801b25a2a939ec2a6d08e7155fac91...   \n210  deposit  0x8966de52cc08fd866ff4e826c3ed12e04cb608e9dd94...   \n222  deposit  0x6336bd34049973ffbb71cafed76314b5175e35f2968b...   \n234  deposit  0x671eeedcc2230a697d59627ca9b009802111fd5c2c0b...   \n246  deposit  0x6c4f8bc5f49d55b317c6a9ed6d523a662df0c9b330a7...   \n270  deposit  0x53d9eed3930a371dbd133a9260a3ad8d5e7d3c4e446a...   \n276  deposit  0x816d41605087393280db2cf4083d1126a9b62542f79c...   \n294  deposit  0xd764e02abd36815b90d310332ff2a1e99842b8c4f6b5...   \n\n     transaction_blockNumber  transaction_timestamp  \\\n0                   16678469             1677001775   \n6                   16651409             1676673263   \n12                  16641740             1676555939   \n36                  16627499             1676383883   \n42                  16627469             1676383523   \n48                  16623070             1676330339   \n54                  16623049             1676330087   \n66                  16619969             1676292887   \n72                  16601490             1676069891   \n84                  16590634             1675938899   \n90                  16589368             1675923587   \n96                  16589333             1675923167   \n102                 16588623             1675914623   \n108                 16586156             1675884863   \n114                 16585903             1675881767   \n120                 16580081             1675811315   \n126                 16579812             1675808087   \n132                 16579684             1675806539   \n138                 16574706             1675746299   \n144                 16573196             1675728083   \n156                 16533352             1675247075   \n162                 16505276             1674908423   \n168                 16366137             1673229911   \n174                 16235576             1671655835   \n180                 16204963             1671286691   \n186                 16190043             1671106691   \n198                 16176119             1670938607   \n210                 16173486             1670906771   \n222                 16171813             1670886587   \n234                 16171336             1670880839   \n246                 16170980             1670876567   \n270                 16036013             1669246751   \n276                 16036005             1669246655   \n294                 16034616             1669229711   \n\n                         transaction_account_id  \\\n0    0x9b8b04b6f82cd5e1dae58ca3614d445f93defc5c   \n6    0xd33e76d21d32c21811593ae54e38f68df0cfe8ed   \n12   0xee95e4cf086fc80df7ae0f39dfc9ea53a3eaadcb   \n36   0xc0b1f200aa9546ce074397bed7438bb2ec033877   \n42   0xc0b1f200aa9546ce074397bed7438bb2ec033877   \n48   0xc0b1f200aa9546ce074397bed7438bb2ec033877   \n54   0xc0b1f200aa9546ce074397bed7438bb2ec033877   \n66   0xc0b1f200aa9546ce074397bed7438bb2ec033877   \n72   0xa7daeb7fc210f934508c8c7ce833a2cdd6630fb3   \n84   0x51bc3dd10a9ee4946f961038cf5d50057e49eb77   \n90   0xb0399dac8f4d4100b49b2a7b3873481114229d18   \n96   0xb0399dac8f4d4100b49b2a7b3873481114229d18   \n102  0x804157889ac56a4e50278610c67960c1605a3264   \n108  0x16ff8ad104fa6195260a6d4a3f311c5f120df77d   \n114  0xfe9d1bd54e344dc8c4bd93e7935e39af452e5d41   \n120  0xb86cd2efc1f461beee8deec2c3f053ccb2781ef9   \n126  0x0493bcca897a2248ae3cd4c66aea90dbfc7e13c6   \n132  0x96035b45bc0d22f0ed11283a91145fb001c48370   \n138  0x6487d336bdec94d4714a4d217b15aa5c7b9dfa99   \n144  0x36125234dd6c7d0a01dcadc67e79e061d405098e   \n156  0x339fd7c17ce670e7821f2f2ee94ddd49771483da   \n162  0x42daeb9ca091e3933c8ee93c029701b926b1f336   \n168  0x25fdda95197f804316f5ba8dbb66ac173ee19981   \n174  0xdedcf5806c4968c6397eee97e68047bda339d0c1   \n180  0x44504ba8d43b30e882503948654e247b928bcc7f   \n186  0x96035b45bc0d22f0ed11283a91145fb001c48370   \n198  0x791d1ec51d931186c1d4b80e753b7155dd98f741   \n210  0x339fd7c17ce670e7821f2f2ee94ddd49771483da   \n222  0x1ba67f30e25fc43863b50047d7fd4bd63b9c59ec   \n234  0x3985caf03eef8f885edb1f8358143bdf08d8d48b   \n246  0xee1520f94f304e8d551cbf310fe214212e3ca34a   \n270  0xd3064611b24eba7a6dbcbc26c1b35dfee1170880   \n276  0xd3064611b24eba7a6dbcbc26c1b35dfee1170880   \n294  0x62a4a8f9f5f3aae9ee9cee780285a0d501c12d09   \n\n                          transaction_market_id transaction_asset_name  \\\n0    0xc413dd03555f3eb29d834b482d386b2999dc2eb0         Governance OHM   \n6    0xc413dd03555f3eb29d834b482d386b2999dc2eb0         Governance OHM   \n12   0xc413dd03555f3eb29d834b482d386b2999dc2eb0         Governance OHM   \n36   0xc413dd03555f3eb29d834b482d386b2999dc2eb0         Governance OHM   \n42   0xc413dd03555f3eb29d834b482d386b2999dc2eb0         Governance OHM   \n48   0xc413dd03555f3eb29d834b482d386b2999dc2eb0         Governance OHM   \n54   0xc413dd03555f3eb29d834b482d386b2999dc2eb0         Governance OHM   \n66   0xc413dd03555f3eb29d834b482d386b2999dc2eb0         Governance OHM   \n72   0xc413dd03555f3eb29d834b482d386b2999dc2eb0         Governance OHM   \n84   0xc413dd03555f3eb29d834b482d386b2999dc2eb0         Governance OHM   \n90   0xc413dd03555f3eb29d834b482d386b2999dc2eb0         Governance OHM   \n96   0xc413dd03555f3eb29d834b482d386b2999dc2eb0         Governance OHM   \n102  0xc413dd03555f3eb29d834b482d386b2999dc2eb0         Governance OHM   \n108  0xc413dd03555f3eb29d834b482d386b2999dc2eb0         Governance OHM   \n114  0xc413dd03555f3eb29d834b482d386b2999dc2eb0         Governance OHM   \n120  0xc413dd03555f3eb29d834b482d386b2999dc2eb0         Governance OHM   \n126  0xc413dd03555f3eb29d834b482d386b2999dc2eb0         Governance OHM   \n132  0xc413dd03555f3eb29d834b482d386b2999dc2eb0         Governance OHM   \n138  0xc413dd03555f3eb29d834b482d386b2999dc2eb0         Governance OHM   \n144  0xc413dd03555f3eb29d834b482d386b2999dc2eb0         Governance OHM   \n156  0xc413dd03555f3eb29d834b482d386b2999dc2eb0         Governance OHM   \n162  0xc413dd03555f3eb29d834b482d386b2999dc2eb0         Governance OHM   \n168  0xc413dd03555f3eb29d834b482d386b2999dc2eb0         Governance OHM   \n174  0xc413dd03555f3eb29d834b482d386b2999dc2eb0         Governance OHM   \n180  0xc413dd03555f3eb29d834b482d386b2999dc2eb0         Governance OHM   \n186  0xc413dd03555f3eb29d834b482d386b2999dc2eb0         Governance OHM   \n198  0xc413dd03555f3eb29d834b482d386b2999dc2eb0         Governance OHM   \n210  0xc413dd03555f3eb29d834b482d386b2999dc2eb0         Governance OHM   \n222  0xc413dd03555f3eb29d834b482d386b2999dc2eb0         Governance OHM   \n234  0xc413dd03555f3eb29d834b482d386b2999dc2eb0         Governance OHM   \n246  0xc413dd03555f3eb29d834b482d386b2999dc2eb0         Governance OHM   \n270  0xc413dd03555f3eb29d834b482d386b2999dc2eb0         Governance OHM   \n276  0xc413dd03555f3eb29d834b482d386b2999dc2eb0         Governance OHM   \n294  0xc413dd03555f3eb29d834b482d386b2999dc2eb0         Governance OHM   \n\n    transaction_asset_symbol  transactionReadableAmount  \\\n0                       gOHM                   5.621351   \n6                       gOHM                  48.922199   \n12                      gOHM                  50.749992   \n36                      gOHM                   0.180346   \n42                      gOHM                   0.663108   \n48                      gOHM                   0.892669   \n54                      gOHM                   1.087799   \n66                      gOHM                   1.812154   \n72                      gOHM                   0.137814   \n84                      gOHM                   9.990000   \n90                      gOHM                 119.000000   \n96                      gOHM                   1.000000   \n102                     gOHM                   0.642960   \n108                     gOHM                   2.500000   \n114                     gOHM                   0.212373   \n120                     gOHM                   4.332179   \n126                     gOHM                  25.000000   \n132                     gOHM                  12.000668   \n138                     gOHM                   6.076244   \n144                     gOHM                  14.004861   \n156                     gOHM                   4.000000   \n162                     gOHM                   5.886017   \n168                     gOHM                   2.252766   \n174                     gOHM                   0.020000   \n180                     gOHM                   0.500000   \n186                     gOHM                  13.520668   \n198                     gOHM                   0.020000   \n210                     gOHM                   8.000000   \n222                     gOHM                   8.000000   \n234                     gOHM                   2.726128   \n246                     gOHM                  20.000000   \n270                     gOHM                   0.025140   \n276                     gOHM                   0.143100   \n294                     gOHM                   0.182000   \n\n     transaction_asset_lastPriceUSD  transaction_amountUSD  \\\n0                       2756.217547           15493.665575   \n6                       2756.217547          138354.126796   \n12                      2756.217547          145833.530065   \n36                      2756.217547             490.375269   \n42                      2756.217547            1803.040025   \n48                      2756.217547            2431.527276   \n54                      2756.217547            2963.036715   \n66                      2756.217547            4846.273689   \n72                      2756.217547             363.447391   \n84                      2756.217547           26839.810526   \n90                      2756.217547          315110.337935   \n96                      2756.217547            2647.986033   \n102                     2756.217547            1702.439777   \n108                     2756.217547            6698.944104   \n114                     2756.217547             569.069520   \n120                     2756.217547           11511.647778   \n126                     2756.217547           66431.050909   \n132                     2756.217547           31888.680212   \n138                     2756.217547           16073.922152   \n144                     2756.217547           36670.028837   \n156                     2756.217547           10545.308750   \n162                     2756.217547           15207.964344   \n168                     2756.217547            5812.081890   \n174                     2756.217547              49.949341   \n180                     2756.217547            1242.431255   \n186                     2756.217547           33635.737994   \n198                     2756.217547              51.410624   \n210                     2756.217547           20081.385730   \n222                     2756.217547           20080.083584   \n234                     2756.217547            6842.610869   \n246                     2756.217547           49117.375038   \n270                     2756.217547              56.029673   \n276                     2756.217547             318.832191   \n294                     2756.217547             398.921247   \n\n               dateTime    calDate  \n0   2023-02-21 17:49:35 2023-02-21  \n6   2023-02-17 22:34:23 2023-02-17  \n12  2023-02-16 13:58:59 2023-02-16  \n36  2023-02-14 14:11:23 2023-02-14  \n42  2023-02-14 14:05:23 2023-02-14  \n48  2023-02-13 23:18:59 2023-02-13  \n54  2023-02-13 23:14:47 2023-02-13  \n66  2023-02-13 12:54:47 2023-02-13  \n72  2023-02-10 22:58:11 2023-02-10  \n84  2023-02-09 10:34:59 2023-02-09  \n90  2023-02-09 06:19:47 2023-02-09  \n96  2023-02-09 06:12:47 2023-02-09  \n102 2023-02-09 03:50:23 2023-02-09  \n108 2023-02-08 19:34:23 2023-02-08  \n114 2023-02-08 18:42:47 2023-02-08  \n120 2023-02-07 23:08:35 2023-02-07  \n126 2023-02-07 22:14:47 2023-02-07  \n132 2023-02-07 21:48:59 2023-02-07  \n138 2023-02-07 05:04:59 2023-02-07  \n144 2023-02-07 00:01:23 2023-02-07  \n156 2023-02-01 10:24:35 2023-02-01  \n162 2023-01-28 12:20:23 2023-01-28  \n168 2023-01-09 02:05:11 2023-01-09  \n174 2022-12-21 20:50:35 2022-12-21  \n180 2022-12-17 14:18:11 2022-12-17  \n186 2022-12-15 12:18:11 2022-12-15  \n198 2022-12-13 13:36:47 2022-12-13  \n210 2022-12-13 04:46:11 2022-12-13  \n222 2022-12-12 23:09:47 2022-12-12  \n234 2022-12-12 21:33:59 2022-12-12  \n246 2022-12-12 20:22:47 2022-12-12  \n270 2022-11-23 23:39:11 2022-11-23  \n276 2022-11-23 23:37:35 2022-11-23  \n294 2022-11-23 18:55:11 2022-11-23  ",
      "text/html": "<div>\n<style scoped>\n    .dataframe tbody tr th:only-of-type {\n        vertical-align: middle;\n    }\n\n    .dataframe tbody tr th {\n        vertical-align: top;\n    }\n\n    .dataframe thead th {\n        text-align: right;\n    }\n</style>\n<table border=\"1\" class=\"dataframe\">\n  <thead>\n    <tr style=\"text-align: right;\">\n      <th></th>\n      <th>event</th>\n      <th>transaction_hash</th>\n      <th>transaction_blockNumber</th>\n      <th>transaction_timestamp</th>\n      <th>transaction_account_id</th>\n      <th>transaction_market_id</th>\n      <th>transaction_asset_name</th>\n      <th>transaction_asset_symbol</th>\n      <th>transactionReadableAmount</th>\n      <th>transaction_asset_lastPriceUSD</th>\n      <th>transaction_amountUSD</th>\n      <th>dateTime</th>\n      <th>calDate</th>\n    </tr>\n  </thead>\n  <tbody>\n    <tr>\n      <th>0</th>\n      <td>deposit</td>\n      <td>0xcc1705094b3dd746ed1769d610d22bf12b7aec36e8a4...</td>\n      <td>16678469</td>\n      <td>1677001775</td>\n      <td>0x9b8b04b6f82cd5e1dae58ca3614d445f93defc5c</td>\n      <td>0xc413dd03555f3eb29d834b482d386b2999dc2eb0</td>\n      <td>Governance OHM</td>\n      <td>gOHM</td>\n      <td>5.621351</td>\n      <td>2756.217547</td>\n      <td>15493.665575</td>\n      <td>2023-02-21 17:49:35</td>\n      <td>2023-02-21</td>\n    </tr>\n    <tr>\n      <th>6</th>\n      <td>deposit</td>\n      <td>0xecd6140bbb896413a25d34ca87f5503b56c444f1e582...</td>\n      <td>16651409</td>\n      <td>1676673263</td>\n      <td>0xd33e76d21d32c21811593ae54e38f68df0cfe8ed</td>\n      <td>0xc413dd03555f3eb29d834b482d386b2999dc2eb0</td>\n      <td>Governance OHM</td>\n      <td>gOHM</td>\n      <td>48.922199</td>\n      <td>2756.217547</td>\n      <td>138354.126796</td>\n      <td>2023-02-17 22:34:23</td>\n      <td>2023-02-17</td>\n    </tr>\n    <tr>\n      <th>12</th>\n      <td>deposit</td>\n      <td>0x54cd3f5374780bceaffae0661e2688eeca47df22b8aa...</td>\n      <td>16641740</td>\n      <td>1676555939</td>\n      <td>0xee95e4cf086fc80df7ae0f39dfc9ea53a3eaadcb</td>\n      <td>0xc413dd03555f3eb29d834b482d386b2999dc2eb0</td>\n      <td>Governance OHM</td>\n      <td>gOHM</td>\n      <td>50.749992</td>\n      <td>2756.217547</td>\n      <td>145833.530065</td>\n      <td>2023-02-16 13:58:59</td>\n      <td>2023-02-16</td>\n    </tr>\n    <tr>\n      <th>36</th>\n      <td>deposit</td>\n      <td>0xe5163797f0922e4bded89126a213296a8c3d270a39e2...</td>\n      <td>16627499</td>\n      <td>1676383883</td>\n      <td>0xc0b1f200aa9546ce074397bed7438bb2ec033877</td>\n      <td>0xc413dd03555f3eb29d834b482d386b2999dc2eb0</td>\n      <td>Governance OHM</td>\n      <td>gOHM</td>\n      <td>0.180346</td>\n      <td>2756.217547</td>\n      <td>490.375269</td>\n      <td>2023-02-14 14:11:23</td>\n      <td>2023-02-14</td>\n    </tr>\n    <tr>\n      <th>42</th>\n      <td>deposit</td>\n      <td>0xcc5e09e1e5c403b6925fa25f0410388de72ef1b45f30...</td>\n      <td>16627469</td>\n      <td>1676383523</td>\n      <td>0xc0b1f200aa9546ce074397bed7438bb2ec033877</td>\n      <td>0xc413dd03555f3eb29d834b482d386b2999dc2eb0</td>\n      <td>Governance OHM</td>\n      <td>gOHM</td>\n      <td>0.663108</td>\n      <td>2756.217547</td>\n      <td>1803.040025</td>\n      <td>2023-02-14 14:05:23</td>\n      <td>2023-02-14</td>\n    </tr>\n    <tr>\n      <th>48</th>\n      <td>deposit</td>\n      <td>0xf5439a3f94551476ec68db02d6f577a2856d01f45691...</td>\n      <td>16623070</td>\n      <td>1676330339</td>\n      <td>0xc0b1f200aa9546ce074397bed7438bb2ec033877</td>\n      <td>0xc413dd03555f3eb29d834b482d386b2999dc2eb0</td>\n      <td>Governance OHM</td>\n      <td>gOHM</td>\n      <td>0.892669</td>\n      <td>2756.217547</td>\n      <td>2431.527276</td>\n      <td>2023-02-13 23:18:59</td>\n      <td>2023-02-13</td>\n    </tr>\n    <tr>\n      <th>54</th>\n      <td>deposit</td>\n      <td>0x3069fa3e9834fd75b4eaae5d1ef1a7910b112ed68e5f...</td>\n      <td>16623049</td>\n      <td>1676330087</td>\n      <td>0xc0b1f200aa9546ce074397bed7438bb2ec033877</td>\n      <td>0xc413dd03555f3eb29d834b482d386b2999dc2eb0</td>\n      <td>Governance OHM</td>\n      <td>gOHM</td>\n      <td>1.087799</td>\n      <td>2756.217547</td>\n      <td>2963.036715</td>\n      <td>2023-02-13 23:14:47</td>\n      <td>2023-02-13</td>\n    </tr>\n    <tr>\n      <th>66</th>\n      <td>deposit</td>\n      <td>0x17d879ec97730987652b5bcb00aaf6115b7dd232aaef...</td>\n      <td>16619969</td>\n      <td>1676292887</td>\n      <td>0xc0b1f200aa9546ce074397bed7438bb2ec033877</td>\n      <td>0xc413dd03555f3eb29d834b482d386b2999dc2eb0</td>\n      <td>Governance OHM</td>\n      <td>gOHM</td>\n      <td>1.812154</td>\n      <td>2756.217547</td>\n      <td>4846.273689</td>\n      <td>2023-02-13 12:54:47</td>\n      <td>2023-02-13</td>\n    </tr>\n    <tr>\n      <th>72</th>\n      <td>deposit</td>\n      <td>0xff978d5e58c65cbc9d73fbf58f44166724c2db0f0706...</td>\n      <td>16601490</td>\n      <td>1676069891</td>\n      <td>0xa7daeb7fc210f934508c8c7ce833a2cdd6630fb3</td>\n      <td>0xc413dd03555f3eb29d834b482d386b2999dc2eb0</td>\n      <td>Governance OHM</td>\n      <td>gOHM</td>\n      <td>0.137814</td>\n      <td>2756.217547</td>\n      <td>363.447391</td>\n      <td>2023-02-10 22:58:11</td>\n      <td>2023-02-10</td>\n    </tr>\n    <tr>\n      <th>84</th>\n      <td>deposit</td>\n      <td>0x669ce641c8adcf855d5ea4fedda6b52fc63795fd0dd6...</td>\n      <td>16590634</td>\n      <td>1675938899</td>\n      <td>0x51bc3dd10a9ee4946f961038cf5d50057e49eb77</td>\n      <td>0xc413dd03555f3eb29d834b482d386b2999dc2eb0</td>\n      <td>Governance OHM</td>\n      <td>gOHM</td>\n      <td>9.990000</td>\n      <td>2756.217547</td>\n      <td>26839.810526</td>\n      <td>2023-02-09 10:34:59</td>\n      <td>2023-02-09</td>\n    </tr>\n    <tr>\n      <th>90</th>\n      <td>deposit</td>\n      <td>0x204aee0831212791916d6ed3a2c24b5ac2a474743713...</td>\n      <td>16589368</td>\n      <td>1675923587</td>\n      <td>0xb0399dac8f4d4100b49b2a7b3873481114229d18</td>\n      <td>0xc413dd03555f3eb29d834b482d386b2999dc2eb0</td>\n      <td>Governance OHM</td>\n      <td>gOHM</td>\n      <td>119.000000</td>\n      <td>2756.217547</td>\n      <td>315110.337935</td>\n      <td>2023-02-09 06:19:47</td>\n      <td>2023-02-09</td>\n    </tr>\n    <tr>\n      <th>96</th>\n      <td>deposit</td>\n      <td>0x6921d4de2e5fd797205f66357da959b3e4922760d131...</td>\n      <td>16589333</td>\n      <td>1675923167</td>\n      <td>0xb0399dac8f4d4100b49b2a7b3873481114229d18</td>\n      <td>0xc413dd03555f3eb29d834b482d386b2999dc2eb0</td>\n      <td>Governance OHM</td>\n      <td>gOHM</td>\n      <td>1.000000</td>\n      <td>2756.217547</td>\n      <td>2647.986033</td>\n      <td>2023-02-09 06:12:47</td>\n      <td>2023-02-09</td>\n    </tr>\n    <tr>\n      <th>102</th>\n      <td>deposit</td>\n      <td>0x0efd7820596c58c44eb2a8cd9f825fa98fd0d7a3d1d3...</td>\n      <td>16588623</td>\n      <td>1675914623</td>\n      <td>0x804157889ac56a4e50278610c67960c1605a3264</td>\n      <td>0xc413dd03555f3eb29d834b482d386b2999dc2eb0</td>\n      <td>Governance OHM</td>\n      <td>gOHM</td>\n      <td>0.642960</td>\n      <td>2756.217547</td>\n      <td>1702.439777</td>\n      <td>2023-02-09 03:50:23</td>\n      <td>2023-02-09</td>\n    </tr>\n    <tr>\n      <th>108</th>\n      <td>deposit</td>\n      <td>0x80f329fe4643c04ee8f7bc201533d5bd5387ac564fe8...</td>\n      <td>16586156</td>\n      <td>1675884863</td>\n      <td>0x16ff8ad104fa6195260a6d4a3f311c5f120df77d</td>\n      <td>0xc413dd03555f3eb29d834b482d386b2999dc2eb0</td>\n      <td>Governance OHM</td>\n      <td>gOHM</td>\n      <td>2.500000</td>\n      <td>2756.217547</td>\n      <td>6698.944104</td>\n      <td>2023-02-08 19:34:23</td>\n      <td>2023-02-08</td>\n    </tr>\n    <tr>\n      <th>114</th>\n      <td>deposit</td>\n      <td>0x890da67cbb9ec7e781f0a8feb115ff7a590de57e00ce...</td>\n      <td>16585903</td>\n      <td>1675881767</td>\n      <td>0xfe9d1bd54e344dc8c4bd93e7935e39af452e5d41</td>\n      <td>0xc413dd03555f3eb29d834b482d386b2999dc2eb0</td>\n      <td>Governance OHM</td>\n      <td>gOHM</td>\n      <td>0.212373</td>\n      <td>2756.217547</td>\n      <td>569.069520</td>\n      <td>2023-02-08 18:42:47</td>\n      <td>2023-02-08</td>\n    </tr>\n    <tr>\n      <th>120</th>\n      <td>deposit</td>\n      <td>0xb1a1646acf062ec3c3d9884adf46bef38f00728ca2fa...</td>\n      <td>16580081</td>\n      <td>1675811315</td>\n      <td>0xb86cd2efc1f461beee8deec2c3f053ccb2781ef9</td>\n      <td>0xc413dd03555f3eb29d834b482d386b2999dc2eb0</td>\n      <td>Governance OHM</td>\n      <td>gOHM</td>\n      <td>4.332179</td>\n      <td>2756.217547</td>\n      <td>11511.647778</td>\n      <td>2023-02-07 23:08:35</td>\n      <td>2023-02-07</td>\n    </tr>\n    <tr>\n      <th>126</th>\n      <td>deposit</td>\n      <td>0x35d5e6734b990e7e7e6493344db464f86e9fe2318e7b...</td>\n      <td>16579812</td>\n      <td>1675808087</td>\n      <td>0x0493bcca897a2248ae3cd4c66aea90dbfc7e13c6</td>\n      <td>0xc413dd03555f3eb29d834b482d386b2999dc2eb0</td>\n      <td>Governance OHM</td>\n      <td>gOHM</td>\n      <td>25.000000</td>\n      <td>2756.217547</td>\n      <td>66431.050909</td>\n      <td>2023-02-07 22:14:47</td>\n      <td>2023-02-07</td>\n    </tr>\n    <tr>\n      <th>132</th>\n      <td>deposit</td>\n      <td>0x1d2652b56d4d7ae72e952e68a3e0018bdbebdca8dd59...</td>\n      <td>16579684</td>\n      <td>1675806539</td>\n      <td>0x96035b45bc0d22f0ed11283a91145fb001c48370</td>\n      <td>0xc413dd03555f3eb29d834b482d386b2999dc2eb0</td>\n      <td>Governance OHM</td>\n      <td>gOHM</td>\n      <td>12.000668</td>\n      <td>2756.217547</td>\n      <td>31888.680212</td>\n      <td>2023-02-07 21:48:59</td>\n      <td>2023-02-07</td>\n    </tr>\n    <tr>\n      <th>138</th>\n      <td>deposit</td>\n      <td>0x4d72e2a5ca35d7b76faecafddc8dce2368081f6c6a52...</td>\n      <td>16574706</td>\n      <td>1675746299</td>\n      <td>0x6487d336bdec94d4714a4d217b15aa5c7b9dfa99</td>\n      <td>0xc413dd03555f3eb29d834b482d386b2999dc2eb0</td>\n      <td>Governance OHM</td>\n      <td>gOHM</td>\n      <td>6.076244</td>\n      <td>2756.217547</td>\n      <td>16073.922152</td>\n      <td>2023-02-07 05:04:59</td>\n      <td>2023-02-07</td>\n    </tr>\n    <tr>\n      <th>144</th>\n      <td>deposit</td>\n      <td>0x2051da675e864d363e7159d1e0084e45535e785b5ae6...</td>\n      <td>16573196</td>\n      <td>1675728083</td>\n      <td>0x36125234dd6c7d0a01dcadc67e79e061d405098e</td>\n      <td>0xc413dd03555f3eb29d834b482d386b2999dc2eb0</td>\n      <td>Governance OHM</td>\n      <td>gOHM</td>\n      <td>14.004861</td>\n      <td>2756.217547</td>\n      <td>36670.028837</td>\n      <td>2023-02-07 00:01:23</td>\n      <td>2023-02-07</td>\n    </tr>\n    <tr>\n      <th>156</th>\n      <td>deposit</td>\n      <td>0x52365addba1ce6381c7ab6220b9a6eed6e26efa1b813...</td>\n      <td>16533352</td>\n      <td>1675247075</td>\n      <td>0x339fd7c17ce670e7821f2f2ee94ddd49771483da</td>\n      <td>0xc413dd03555f3eb29d834b482d386b2999dc2eb0</td>\n      <td>Governance OHM</td>\n      <td>gOHM</td>\n      <td>4.000000</td>\n      <td>2756.217547</td>\n      <td>10545.308750</td>\n      <td>2023-02-01 10:24:35</td>\n      <td>2023-02-01</td>\n    </tr>\n    <tr>\n      <th>162</th>\n      <td>deposit</td>\n      <td>0x976fb2b1e49590c04707140f0a1bce4465fda42dfe9c...</td>\n      <td>16505276</td>\n      <td>1674908423</td>\n      <td>0x42daeb9ca091e3933c8ee93c029701b926b1f336</td>\n      <td>0xc413dd03555f3eb29d834b482d386b2999dc2eb0</td>\n      <td>Governance OHM</td>\n      <td>gOHM</td>\n      <td>5.886017</td>\n      <td>2756.217547</td>\n      <td>15207.964344</td>\n      <td>2023-01-28 12:20:23</td>\n      <td>2023-01-28</td>\n    </tr>\n    <tr>\n      <th>168</th>\n      <td>deposit</td>\n      <td>0x7811e7757339551966af37751af4b56c16a3e141d682...</td>\n      <td>16366137</td>\n      <td>1673229911</td>\n      <td>0x25fdda95197f804316f5ba8dbb66ac173ee19981</td>\n      <td>0xc413dd03555f3eb29d834b482d386b2999dc2eb0</td>\n      <td>Governance OHM</td>\n      <td>gOHM</td>\n      <td>2.252766</td>\n      <td>2756.217547</td>\n      <td>5812.081890</td>\n      <td>2023-01-09 02:05:11</td>\n      <td>2023-01-09</td>\n    </tr>\n    <tr>\n      <th>174</th>\n      <td>deposit</td>\n      <td>0xc094064b1815d07ca696c614f45dffbb054d2e5d5954...</td>\n      <td>16235576</td>\n      <td>1671655835</td>\n      <td>0xdedcf5806c4968c6397eee97e68047bda339d0c1</td>\n      <td>0xc413dd03555f3eb29d834b482d386b2999dc2eb0</td>\n      <td>Governance OHM</td>\n      <td>gOHM</td>\n      <td>0.020000</td>\n      <td>2756.217547</td>\n      <td>49.949341</td>\n      <td>2022-12-21 20:50:35</td>\n      <td>2022-12-21</td>\n    </tr>\n    <tr>\n      <th>180</th>\n      <td>deposit</td>\n      <td>0xe32fe96626d39b1369922f9b678bdeff75eb6aeac561...</td>\n      <td>16204963</td>\n      <td>1671286691</td>\n      <td>0x44504ba8d43b30e882503948654e247b928bcc7f</td>\n      <td>0xc413dd03555f3eb29d834b482d386b2999dc2eb0</td>\n      <td>Governance OHM</td>\n      <td>gOHM</td>\n      <td>0.500000</td>\n      <td>2756.217547</td>\n      <td>1242.431255</td>\n      <td>2022-12-17 14:18:11</td>\n      <td>2022-12-17</td>\n    </tr>\n    <tr>\n      <th>186</th>\n      <td>deposit</td>\n      <td>0x2f2117e1cc385bc67b93a53beb27c7b34865628bd35b...</td>\n      <td>16190043</td>\n      <td>1671106691</td>\n      <td>0x96035b45bc0d22f0ed11283a91145fb001c48370</td>\n      <td>0xc413dd03555f3eb29d834b482d386b2999dc2eb0</td>\n      <td>Governance OHM</td>\n      <td>gOHM</td>\n      <td>13.520668</td>\n      <td>2756.217547</td>\n      <td>33635.737994</td>\n      <td>2022-12-15 12:18:11</td>\n      <td>2022-12-15</td>\n    </tr>\n    <tr>\n      <th>198</th>\n      <td>deposit</td>\n      <td>0x7c831909c84d8b801b25a2a939ec2a6d08e7155fac91...</td>\n      <td>16176119</td>\n      <td>1670938607</td>\n      <td>0x791d1ec51d931186c1d4b80e753b7155dd98f741</td>\n      <td>0xc413dd03555f3eb29d834b482d386b2999dc2eb0</td>\n      <td>Governance OHM</td>\n      <td>gOHM</td>\n      <td>0.020000</td>\n      <td>2756.217547</td>\n      <td>51.410624</td>\n      <td>2022-12-13 13:36:47</td>\n      <td>2022-12-13</td>\n    </tr>\n    <tr>\n      <th>210</th>\n      <td>deposit</td>\n      <td>0x8966de52cc08fd866ff4e826c3ed12e04cb608e9dd94...</td>\n      <td>16173486</td>\n      <td>1670906771</td>\n      <td>0x339fd7c17ce670e7821f2f2ee94ddd49771483da</td>\n      <td>0xc413dd03555f3eb29d834b482d386b2999dc2eb0</td>\n      <td>Governance OHM</td>\n      <td>gOHM</td>\n      <td>8.000000</td>\n      <td>2756.217547</td>\n      <td>20081.385730</td>\n      <td>2022-12-13 04:46:11</td>\n      <td>2022-12-13</td>\n    </tr>\n    <tr>\n      <th>222</th>\n      <td>deposit</td>\n      <td>0x6336bd34049973ffbb71cafed76314b5175e35f2968b...</td>\n      <td>16171813</td>\n      <td>1670886587</td>\n      <td>0x1ba67f30e25fc43863b50047d7fd4bd63b9c59ec</td>\n      <td>0xc413dd03555f3eb29d834b482d386b2999dc2eb0</td>\n      <td>Governance OHM</td>\n      <td>gOHM</td>\n      <td>8.000000</td>\n      <td>2756.217547</td>\n      <td>20080.083584</td>\n      <td>2022-12-12 23:09:47</td>\n      <td>2022-12-12</td>\n    </tr>\n    <tr>\n      <th>234</th>\n      <td>deposit</td>\n      <td>0x671eeedcc2230a697d59627ca9b009802111fd5c2c0b...</td>\n      <td>16171336</td>\n      <td>1670880839</td>\n      <td>0x3985caf03eef8f885edb1f8358143bdf08d8d48b</td>\n      <td>0xc413dd03555f3eb29d834b482d386b2999dc2eb0</td>\n      <td>Governance OHM</td>\n      <td>gOHM</td>\n      <td>2.726128</td>\n      <td>2756.217547</td>\n      <td>6842.610869</td>\n      <td>2022-12-12 21:33:59</td>\n      <td>2022-12-12</td>\n    </tr>\n    <tr>\n      <th>246</th>\n      <td>deposit</td>\n      <td>0x6c4f8bc5f49d55b317c6a9ed6d523a662df0c9b330a7...</td>\n      <td>16170980</td>\n      <td>1670876567</td>\n      <td>0xee1520f94f304e8d551cbf310fe214212e3ca34a</td>\n      <td>0xc413dd03555f3eb29d834b482d386b2999dc2eb0</td>\n      <td>Governance OHM</td>\n      <td>gOHM</td>\n      <td>20.000000</td>\n      <td>2756.217547</td>\n      <td>49117.375038</td>\n      <td>2022-12-12 20:22:47</td>\n      <td>2022-12-12</td>\n    </tr>\n    <tr>\n      <th>270</th>\n      <td>deposit</td>\n      <td>0x53d9eed3930a371dbd133a9260a3ad8d5e7d3c4e446a...</td>\n      <td>16036013</td>\n      <td>1669246751</td>\n      <td>0xd3064611b24eba7a6dbcbc26c1b35dfee1170880</td>\n      <td>0xc413dd03555f3eb29d834b482d386b2999dc2eb0</td>\n      <td>Governance OHM</td>\n      <td>gOHM</td>\n      <td>0.025140</td>\n      <td>2756.217547</td>\n      <td>56.029673</td>\n      <td>2022-11-23 23:39:11</td>\n      <td>2022-11-23</td>\n    </tr>\n    <tr>\n      <th>276</th>\n      <td>deposit</td>\n      <td>0x816d41605087393280db2cf4083d1126a9b62542f79c...</td>\n      <td>16036005</td>\n      <td>1669246655</td>\n      <td>0xd3064611b24eba7a6dbcbc26c1b35dfee1170880</td>\n      <td>0xc413dd03555f3eb29d834b482d386b2999dc2eb0</td>\n      <td>Governance OHM</td>\n      <td>gOHM</td>\n      <td>0.143100</td>\n      <td>2756.217547</td>\n      <td>318.832191</td>\n      <td>2022-11-23 23:37:35</td>\n      <td>2022-11-23</td>\n    </tr>\n    <tr>\n      <th>294</th>\n      <td>deposit</td>\n      <td>0xd764e02abd36815b90d310332ff2a1e99842b8c4f6b5...</td>\n      <td>16034616</td>\n      <td>1669229711</td>\n      <td>0x62a4a8f9f5f3aae9ee9cee780285a0d501c12d09</td>\n      <td>0xc413dd03555f3eb29d834b482d386b2999dc2eb0</td>\n      <td>Governance OHM</td>\n      <td>gOHM</td>\n      <td>0.182000</td>\n      <td>2756.217547</td>\n      <td>398.921247</td>\n      <td>2022-11-23 18:55:11</td>\n      <td>2022-11-23</td>\n    </tr>\n  </tbody>\n</table>\n</div>"
     },
     "execution_count": 64,
     "metadata": {},
     "output_type": "execute_result"
    }
   ],
   "source": [
    "siloDepositsDb['event'] ='deposit'\n",
    "siloDepositsDb['transactionReadableAmount'] = siloDepositsDb['transaction_amount']/(10**(siloDepositsDb['transaction_asset_decimals']))\n",
    "siloDepositsDb['transactionReadableAmount']=siloDepositsDb['transactionReadableAmount'].astype('float')\n",
    "siloDepositsDb['dateTime'] =(pd.to_datetime(siloDepositsDb['transaction_timestamp'],unit='s'))\n",
    "\n",
    "\n",
    "#we only want deposits in GOHM from those that borrowed, so drop anyone that is not on that side\n",
    "siloDepositsDb.drop(siloDepositsDb.loc[siloDepositsDb['transaction_market_rates_side']!='BORROWER'].index, inplace=True)\n",
    "siloDepositsDb.drop(siloDepositsDb.loc[siloDepositsDb['transaction_asset_symbol']!='gOHM'].index, inplace=True)\n",
    "\n",
    "\n",
    "siloDepositEventsDbTimedClean = siloDepositsDb[['event','transaction_hash','transaction_blockNumber','transaction_timestamp','transaction_account_id','transaction_market_id','transaction_asset_name','transaction_asset_symbol', 'transactionReadableAmount','transaction_asset_lastPriceUSD','transaction_amountUSD','dateTime']].copy()\n",
    "siloDepositEventsDbTimedClean.sort_values(by=['event','transaction_hash','transaction_blockNumber','transaction_timestamp','transaction_account_id','transaction_market_id','transaction_asset_name','transaction_asset_symbol', 'transactionReadableAmount','transaction_asset_lastPriceUSD','transaction_amountUSD','dateTime'])\n",
    "siloDepositEventsDbTimedClean.drop_duplicates(subset=['transaction_hash'],keep='first', inplace=True)\n",
    "siloDepositEventsDbTimedClean['calDate'] = siloDepositEventsDbTimedClean['dateTime'].dt.normalize()\n",
    "siloDepositEventsDbTimedClean.head(1000)"
   ],
   "metadata": {
    "collapsed": false
   }
  },
  {
   "cell_type": "code",
   "execution_count": 65,
   "outputs": [
    {
     "name": "stdout",
     "output_type": "stream",
     "text": [
      "/Users/ianbrillembourg/Dropbox/Documents/Edgecaser LLC/Projects/Olympus/Econohmetrics/gohmAsStablecoinCollateral/data/siloFinanceGohmDeposits_piped.csv file saved, 34  records\n"
     ]
    }
   ],
   "source": [
    "path =file+'/siloFinanceGohmDeposits.csv'\n",
    "siloDepositEventsDbTimedClean.to_csv(path, index = False)\n",
    "\n",
    "path =file+'/siloFinanceGohmDeposits_piped.csv'\n",
    "siloDepositEventsDbTimedClean.to_csv(path, index = False, sep='|')\n",
    "print(path, 'file saved,', len(siloDepositEventsDbTimedClean),' records')"
   ],
   "metadata": {
    "collapsed": false
   }
  },
  {
   "cell_type": "code",
   "execution_count": 66,
   "outputs": [
    {
     "name": "stdout",
     "output_type": "stream",
     "text": [
      "There has been a total of 370.1 gOHM deposited cumulatively as collateral  to date, about USD$ 992163.0631162454\n"
     ]
    }
   ],
   "source": [
    "totalDeposited = sum(siloDepositEventsDbTimedClean['transactionReadableAmount'])\n",
    "totalUSDDeposited = sum(siloDepositEventsDbTimedClean['transaction_amountUSD'])\n",
    "print('There has been a total of',round(totalDeposited,2),  'gOHM deposited cumulatively as collateral  to date, about USD$',totalUSDDeposited)"
   ],
   "metadata": {
    "collapsed": false
   }
  },
  {
   "cell_type": "markdown",
   "source": [
    "********************************************************************\n",
    "********************************************************************\n",
    "Now we need withdrawals to counter the deposits and see current state"
   ],
   "metadata": {
    "collapsed": false
   }
  },
  {
   "cell_type": "code",
   "execution_count": 67,
   "outputs": [
    {
     "data": {
      "text/plain": "Empty DataFrame\nColumns: []\nIndex: []",
      "text/html": "<div>\n<style scoped>\n    .dataframe tbody tr th:only-of-type {\n        vertical-align: middle;\n    }\n\n    .dataframe tbody tr th {\n        vertical-align: top;\n    }\n\n    .dataframe thead th {\n        text-align: right;\n    }\n</style>\n<table border=\"1\" class=\"dataframe\">\n  <thead>\n    <tr style=\"text-align: right;\">\n      <th></th>\n    </tr>\n  </thead>\n  <tbody>\n  </tbody>\n</table>\n</div>"
     },
     "execution_count": 67,
     "metadata": {},
     "output_type": "execute_result"
    }
   ],
   "source": [
    "oldSiloWithdrawsDb = pd.DataFrame()\n",
    "siloFileName = file+'/siloFinanceGohmWithdraws.csv'\n",
    "try:\n",
    "    oldSiloWithdrawsDb = pd.read_csv (siloFileName)\n",
    "except:\n",
    "    oldSiloWithdrawsDb = pd.DataFrame()\n",
    "oldSiloWithdrawsDb.head(100)"
   ],
   "metadata": {
    "collapsed": false
   }
  },
  {
   "cell_type": "code",
   "execution_count": 68,
   "outputs": [
    {
     "data": {
      "text/plain": "0"
     },
     "execution_count": 68,
     "metadata": {},
     "output_type": "execute_result"
    }
   ],
   "source": [
    "maxSiloWithdrawsTimestamp = 0\n",
    "try:\n",
    "    maxSiloWithdrawsTimestamp = (max(0,oldSiloWithdrawsDb['transaction_timestamp'].max()))-1\n",
    "except:\n",
    "        maxSiloWithdrawsTimestamp = 0\n",
    "maxSiloWithdrawsTimestamp = int(maxSiloWithdrawsTimestamp)\n",
    "maxSiloWithdrawsTimestamp"
   ],
   "metadata": {
    "collapsed": false
   }
  },
  {
   "cell_type": "code",
   "execution_count": 69,
   "outputs": [
    {
     "name": "stdout",
     "output_type": "stream",
     "text": [
      "iterations:  0 Lines skipped:  0 records collected:  150  - latest recordID:  0xf1f322af9b05e4b58c43531e4148c664ffb16e6509afa500999a11009adc3175   0xf1f322af9b05e4b58c43531e4148c664ffb16e6509afa500999a11009adc3175-163  - withdraws DB length:  150  - latest record from:  2023-02-20 17:49:35 1 days ago\n",
      "Done. Total Records collected:  150\n"
     ]
    }
   ],
   "source": [
    "##this captures the ENTIRE list of people who withdrawed OHM\n",
    "withdrawTicker = 0\n",
    "withdrawslist = pd.DataFrame()\n",
    "siloWithdrawsDb = pd.DataFrame()\n",
    "withdrawListLength = 1000\n",
    "datediff = 0\n",
    "now=0\n",
    "daysAgo=0\n",
    "#daysLimit = 45\n",
    "exit = False\n",
    "while exit==False:\n",
    "    skipValue = (withdrawTicker)*(1000)\n",
    "    withdraws = silo.Query.withdraws(\n",
    "        orderBy='timestamp',\n",
    "        orderDirection='desc',\n",
    "        first=1000,\n",
    "        skip = skipValue,\n",
    "        where={ 'market': '0xc413dd03555f3eb29d834b482d386b2999dc2eb0'\n",
    "                ,'timestamp_gte': maxSiloWithdrawsTimestamp\n",
    "                } #gOHM market\n",
    "    )\n",
    "\n",
    "    withdrawslist = sg.query_df([\n",
    "        withdraws.id\n",
    "        ,withdraws.hash\n",
    "        ,withdraws.blockNumber\n",
    "        ,withdraws.timestamp\n",
    "        ,withdraws.account.id\n",
    "        ,withdraws.market.id\n",
    "        ,withdraws.market.protocol.id\n",
    "        ,withdraws.market.rates.rate\n",
    "        ,withdraws.market.rates.duration\n",
    "        ,withdraws.market.rates.side\n",
    "        ,withdraws.market.rates.type\n",
    "        ,withdraws.market.rates.token.id\n",
    "        ,withdraws.asset.name\n",
    "        ,withdraws.asset.symbol\n",
    "        ,withdraws.asset.decimals\n",
    "        ,withdraws.asset.lastPriceUSD\n",
    "        ,withdraws.amount\n",
    "        ,withdraws.amountUSD\n",
    "    ])\n",
    "\n",
    "    siloWithdrawsDb=pd.concat([siloWithdrawsDb, withdrawslist])\n",
    "    recordTimestamp1 = siloWithdrawsDb.iat[withdrawTicker,3]\n",
    "    recordTimestamp = dt.datetime.fromtimestamp( recordTimestamp1 )\n",
    "    now = (int(dt.datetime.utcnow().timestamp()))\n",
    "    datediff=abs(int(now) - recordTimestamp1)\n",
    "    daysAgo = int(datediff/86400)\n",
    "    silowithdrawsDbLength = len(siloWithdrawsDb)\n",
    "    silowithdrawListLength = len(withdrawslist)\n",
    "    recordID = siloWithdrawsDb.iat[withdrawTicker,0]\n",
    "    withdraw = siloWithdrawsDb.iat[withdrawTicker,1]\n",
    "    print(\"iterations: \", withdrawTicker, \"Lines skipped: \",skipValue, \"records collected: \", silowithdrawListLength, \" - latest recordID: \",withdraw, \" \", recordID , \" - withdraws DB length: \", silowithdrawsDbLength, \" - latest record from: \", recordTimestamp, daysAgo,\"days ago\")\n",
    "    #print(\"iterations: \", withdrawTicker, \"records collected: \", withdrawListLength, \" - userdb length: \", withdrawsDbLength)\n",
    "    withdrawTicker = withdrawTicker+1\n",
    "\n",
    "    if daysAgo>daysLimit: exit =True\n",
    "    if silowithdrawListLength<1000: exit =True\n",
    "\n",
    "siloWithdrawsDb.columns = siloWithdrawsDb.columns.str.replace(\"withdraws\", \"transaction\")\n",
    "siloWithdrawsDb['event']='withdraw'\n",
    "siloWithdrawsDb.drop_duplicates\n",
    "print(\"Done. Total Records collected: \", silowithdrawsDbLength)"
   ],
   "metadata": {
    "collapsed": false
   }
  },
  {
   "cell_type": "code",
   "execution_count": 70,
   "outputs": [
    {
     "data": {
      "text/plain": "                                        transaction_id  \\\n12   0xf4707edc29622f90030af624d1918ff5ae613cef90d8...   \n13   0xf4707edc29622f90030af624d1918ff5ae613cef90d8...   \n14   0xf4707edc29622f90030af624d1918ff5ae613cef90d8...   \n18   0x85b689883076aa92af0a2356f8e4084610578bb48590...   \n19   0x85b689883076aa92af0a2356f8e4084610578bb48590...   \n20   0x85b689883076aa92af0a2356f8e4084610578bb48590...   \n24   0xd931b79cfc34df088f325e8adde9122af7ad64a0ba30...   \n25   0xd931b79cfc34df088f325e8adde9122af7ad64a0ba30...   \n26   0xd931b79cfc34df088f325e8adde9122af7ad64a0ba30...   \n36   0xd4f7aeb47e1e07903a3e9298762bc164764fffb2f973...   \n37   0xd4f7aeb47e1e07903a3e9298762bc164764fffb2f973...   \n38   0xd4f7aeb47e1e07903a3e9298762bc164764fffb2f973...   \n48   0xc7193a2aa216c65fe82652e85b4adc20a60b274bd070...   \n49   0xc7193a2aa216c65fe82652e85b4adc20a60b274bd070...   \n50   0xc7193a2aa216c65fe82652e85b4adc20a60b274bd070...   \n54   0xed87a5e09b9abe135be66d51493eca516d78aaf1d4d5...   \n55   0xed87a5e09b9abe135be66d51493eca516d78aaf1d4d5...   \n56   0xed87a5e09b9abe135be66d51493eca516d78aaf1d4d5...   \n66   0xcfa1e8a102e407470f7cc479576cceab5f872c1a1377...   \n67   0xcfa1e8a102e407470f7cc479576cceab5f872c1a1377...   \n68   0xcfa1e8a102e407470f7cc479576cceab5f872c1a1377...   \n90   0xb8682e4d0d5fe1297f21ff66347debdfc75c3956612d...   \n91   0xb8682e4d0d5fe1297f21ff66347debdfc75c3956612d...   \n92   0xb8682e4d0d5fe1297f21ff66347debdfc75c3956612d...   \n102  0xcc9db9a7563b473c4b8e4ca0f4f7fb90ca709b022469...   \n103  0xcc9db9a7563b473c4b8e4ca0f4f7fb90ca709b022469...   \n104  0xcc9db9a7563b473c4b8e4ca0f4f7fb90ca709b022469...   \n108  0x7c24d04318da39f08c7ba4f8d413a487133ce1b1f117...   \n109  0x7c24d04318da39f08c7ba4f8d413a487133ce1b1f117...   \n110  0x7c24d04318da39f08c7ba4f8d413a487133ce1b1f117...   \n120  0x3cf3a5658c3ef1a247ec241370a3abfeb673251eafec...   \n121  0x3cf3a5658c3ef1a247ec241370a3abfeb673251eafec...   \n122  0x3cf3a5658c3ef1a247ec241370a3abfeb673251eafec...   \n144  0xbb87996c54ed5859d905c96b7b43212cdbc74b1c99aa...   \n145  0xbb87996c54ed5859d905c96b7b43212cdbc74b1c99aa...   \n146  0xbb87996c54ed5859d905c96b7b43212cdbc74b1c99aa...   \n\n                                      transaction_hash  \\\n12   0xf4707edc29622f90030af624d1918ff5ae613cef90d8...   \n13   0xf4707edc29622f90030af624d1918ff5ae613cef90d8...   \n14   0xf4707edc29622f90030af624d1918ff5ae613cef90d8...   \n18   0x85b689883076aa92af0a2356f8e4084610578bb48590...   \n19   0x85b689883076aa92af0a2356f8e4084610578bb48590...   \n20   0x85b689883076aa92af0a2356f8e4084610578bb48590...   \n24   0xd931b79cfc34df088f325e8adde9122af7ad64a0ba30...   \n25   0xd931b79cfc34df088f325e8adde9122af7ad64a0ba30...   \n26   0xd931b79cfc34df088f325e8adde9122af7ad64a0ba30...   \n36   0xd4f7aeb47e1e07903a3e9298762bc164764fffb2f973...   \n37   0xd4f7aeb47e1e07903a3e9298762bc164764fffb2f973...   \n38   0xd4f7aeb47e1e07903a3e9298762bc164764fffb2f973...   \n48   0xc7193a2aa216c65fe82652e85b4adc20a60b274bd070...   \n49   0xc7193a2aa216c65fe82652e85b4adc20a60b274bd070...   \n50   0xc7193a2aa216c65fe82652e85b4adc20a60b274bd070...   \n54   0xed87a5e09b9abe135be66d51493eca516d78aaf1d4d5...   \n55   0xed87a5e09b9abe135be66d51493eca516d78aaf1d4d5...   \n56   0xed87a5e09b9abe135be66d51493eca516d78aaf1d4d5...   \n66   0xcfa1e8a102e407470f7cc479576cceab5f872c1a1377...   \n67   0xcfa1e8a102e407470f7cc479576cceab5f872c1a1377...   \n68   0xcfa1e8a102e407470f7cc479576cceab5f872c1a1377...   \n90   0xb8682e4d0d5fe1297f21ff66347debdfc75c3956612d...   \n91   0xb8682e4d0d5fe1297f21ff66347debdfc75c3956612d...   \n92   0xb8682e4d0d5fe1297f21ff66347debdfc75c3956612d...   \n102  0xcc9db9a7563b473c4b8e4ca0f4f7fb90ca709b022469...   \n103  0xcc9db9a7563b473c4b8e4ca0f4f7fb90ca709b022469...   \n104  0xcc9db9a7563b473c4b8e4ca0f4f7fb90ca709b022469...   \n108  0x7c24d04318da39f08c7ba4f8d413a487133ce1b1f117...   \n109  0x7c24d04318da39f08c7ba4f8d413a487133ce1b1f117...   \n110  0x7c24d04318da39f08c7ba4f8d413a487133ce1b1f117...   \n120  0x3cf3a5658c3ef1a247ec241370a3abfeb673251eafec...   \n121  0x3cf3a5658c3ef1a247ec241370a3abfeb673251eafec...   \n122  0x3cf3a5658c3ef1a247ec241370a3abfeb673251eafec...   \n144  0xbb87996c54ed5859d905c96b7b43212cdbc74b1c99aa...   \n145  0xbb87996c54ed5859d905c96b7b43212cdbc74b1c99aa...   \n146  0xbb87996c54ed5859d905c96b7b43212cdbc74b1c99aa...   \n\n     transaction_blockNumber  transaction_timestamp  \\\n12                  16635032             1676474867   \n13                  16635032             1676474867   \n14                  16635032             1676474867   \n18                  16634844             1676472599   \n19                  16634844             1676472599   \n20                  16634844             1676472599   \n24                  16628161             1676391839   \n25                  16628161             1676391839   \n26                  16628161             1676391839   \n36                  16627341             1676381987   \n37                  16627341             1676381987   \n38                  16627341             1676381987   \n48                  16601676             1676072123   \n49                  16601676             1676072123   \n50                  16601676             1676072123   \n54                  16589407             1675924055   \n55                  16589407             1675924055   \n56                  16589407             1675924055   \n66                  16574012             1675737947   \n67                  16574012             1675737947   \n68                  16574012             1675737947   \n90                  16483146             1674641375   \n91                  16483146             1674641375   \n92                  16483146             1674641375   \n102                 16366146             1673230019   \n103                 16366146             1673230019   \n104                 16366146             1673230019   \n108                 16242703             1671741731   \n109                 16242703             1671741731   \n110                 16242703             1671741731   \n120                 16176122             1670938643   \n121                 16176122             1670938643   \n122                 16176122             1670938643   \n144                 16036062             1669247351   \n145                 16036062             1669247351   \n146                 16036062             1669247351   \n\n                         transaction_account_id  \\\n12   0x0493bcca897a2248ae3cd4c66aea90dbfc7e13c6   \n13   0x0493bcca897a2248ae3cd4c66aea90dbfc7e13c6   \n14   0x0493bcca897a2248ae3cd4c66aea90dbfc7e13c6   \n18   0xb0399dac8f4d4100b49b2a7b3873481114229d18   \n19   0xb0399dac8f4d4100b49b2a7b3873481114229d18   \n20   0xb0399dac8f4d4100b49b2a7b3873481114229d18   \n24   0xb0399dac8f4d4100b49b2a7b3873481114229d18   \n25   0xb0399dac8f4d4100b49b2a7b3873481114229d18   \n26   0xb0399dac8f4d4100b49b2a7b3873481114229d18   \n36   0xc0b1f200aa9546ce074397bed7438bb2ec033877   \n37   0xc0b1f200aa9546ce074397bed7438bb2ec033877   \n38   0xc0b1f200aa9546ce074397bed7438bb2ec033877   \n48   0xa7daeb7fc210f934508c8c7ce833a2cdd6630fb3   \n49   0xa7daeb7fc210f934508c8c7ce833a2cdd6630fb3   \n50   0xa7daeb7fc210f934508c8c7ce833a2cdd6630fb3   \n54   0xb0399dac8f4d4100b49b2a7b3873481114229d18   \n55   0xb0399dac8f4d4100b49b2a7b3873481114229d18   \n56   0xb0399dac8f4d4100b49b2a7b3873481114229d18   \n66   0xd3064611b24eba7a6dbcbc26c1b35dfee1170880   \n67   0xd3064611b24eba7a6dbcbc26c1b35dfee1170880   \n68   0xd3064611b24eba7a6dbcbc26c1b35dfee1170880   \n90   0xee1520f94f304e8d551cbf310fe214212e3ca34a   \n91   0xee1520f94f304e8d551cbf310fe214212e3ca34a   \n92   0xee1520f94f304e8d551cbf310fe214212e3ca34a   \n102  0x25fdda95197f804316f5ba8dbb66ac173ee19981   \n103  0x25fdda95197f804316f5ba8dbb66ac173ee19981   \n104  0x25fdda95197f804316f5ba8dbb66ac173ee19981   \n108  0x96035b45bc0d22f0ed11283a91145fb001c48370   \n109  0x96035b45bc0d22f0ed11283a91145fb001c48370   \n110  0x96035b45bc0d22f0ed11283a91145fb001c48370   \n120  0x791d1ec51d931186c1d4b80e753b7155dd98f741   \n121  0x791d1ec51d931186c1d4b80e753b7155dd98f741   \n122  0x791d1ec51d931186c1d4b80e753b7155dd98f741   \n144  0x62a4a8f9f5f3aae9ee9cee780285a0d501c12d09   \n145  0x62a4a8f9f5f3aae9ee9cee780285a0d501c12d09   \n146  0x62a4a8f9f5f3aae9ee9cee780285a0d501c12d09   \n\n                          transaction_market_id  \\\n12   0xc413dd03555f3eb29d834b482d386b2999dc2eb0   \n13   0xc413dd03555f3eb29d834b482d386b2999dc2eb0   \n14   0xc413dd03555f3eb29d834b482d386b2999dc2eb0   \n18   0xc413dd03555f3eb29d834b482d386b2999dc2eb0   \n19   0xc413dd03555f3eb29d834b482d386b2999dc2eb0   \n20   0xc413dd03555f3eb29d834b482d386b2999dc2eb0   \n24   0xc413dd03555f3eb29d834b482d386b2999dc2eb0   \n25   0xc413dd03555f3eb29d834b482d386b2999dc2eb0   \n26   0xc413dd03555f3eb29d834b482d386b2999dc2eb0   \n36   0xc413dd03555f3eb29d834b482d386b2999dc2eb0   \n37   0xc413dd03555f3eb29d834b482d386b2999dc2eb0   \n38   0xc413dd03555f3eb29d834b482d386b2999dc2eb0   \n48   0xc413dd03555f3eb29d834b482d386b2999dc2eb0   \n49   0xc413dd03555f3eb29d834b482d386b2999dc2eb0   \n50   0xc413dd03555f3eb29d834b482d386b2999dc2eb0   \n54   0xc413dd03555f3eb29d834b482d386b2999dc2eb0   \n55   0xc413dd03555f3eb29d834b482d386b2999dc2eb0   \n56   0xc413dd03555f3eb29d834b482d386b2999dc2eb0   \n66   0xc413dd03555f3eb29d834b482d386b2999dc2eb0   \n67   0xc413dd03555f3eb29d834b482d386b2999dc2eb0   \n68   0xc413dd03555f3eb29d834b482d386b2999dc2eb0   \n90   0xc413dd03555f3eb29d834b482d386b2999dc2eb0   \n91   0xc413dd03555f3eb29d834b482d386b2999dc2eb0   \n92   0xc413dd03555f3eb29d834b482d386b2999dc2eb0   \n102  0xc413dd03555f3eb29d834b482d386b2999dc2eb0   \n103  0xc413dd03555f3eb29d834b482d386b2999dc2eb0   \n104  0xc413dd03555f3eb29d834b482d386b2999dc2eb0   \n108  0xc413dd03555f3eb29d834b482d386b2999dc2eb0   \n109  0xc413dd03555f3eb29d834b482d386b2999dc2eb0   \n110  0xc413dd03555f3eb29d834b482d386b2999dc2eb0   \n120  0xc413dd03555f3eb29d834b482d386b2999dc2eb0   \n121  0xc413dd03555f3eb29d834b482d386b2999dc2eb0   \n122  0xc413dd03555f3eb29d834b482d386b2999dc2eb0   \n144  0xc413dd03555f3eb29d834b482d386b2999dc2eb0   \n145  0xc413dd03555f3eb29d834b482d386b2999dc2eb0   \n146  0xc413dd03555f3eb29d834b482d386b2999dc2eb0   \n\n                 transaction_market_protocol_id  \\\n12   0xd998c35b7900b344bbbe6555cc11576942cf309d   \n13   0xd998c35b7900b344bbbe6555cc11576942cf309d   \n14   0xd998c35b7900b344bbbe6555cc11576942cf309d   \n18   0xd998c35b7900b344bbbe6555cc11576942cf309d   \n19   0xd998c35b7900b344bbbe6555cc11576942cf309d   \n20   0xd998c35b7900b344bbbe6555cc11576942cf309d   \n24   0xd998c35b7900b344bbbe6555cc11576942cf309d   \n25   0xd998c35b7900b344bbbe6555cc11576942cf309d   \n26   0xd998c35b7900b344bbbe6555cc11576942cf309d   \n36   0xd998c35b7900b344bbbe6555cc11576942cf309d   \n37   0xd998c35b7900b344bbbe6555cc11576942cf309d   \n38   0xd998c35b7900b344bbbe6555cc11576942cf309d   \n48   0xd998c35b7900b344bbbe6555cc11576942cf309d   \n49   0xd998c35b7900b344bbbe6555cc11576942cf309d   \n50   0xd998c35b7900b344bbbe6555cc11576942cf309d   \n54   0xd998c35b7900b344bbbe6555cc11576942cf309d   \n55   0xd998c35b7900b344bbbe6555cc11576942cf309d   \n56   0xd998c35b7900b344bbbe6555cc11576942cf309d   \n66   0xd998c35b7900b344bbbe6555cc11576942cf309d   \n67   0xd998c35b7900b344bbbe6555cc11576942cf309d   \n68   0xd998c35b7900b344bbbe6555cc11576942cf309d   \n90   0xd998c35b7900b344bbbe6555cc11576942cf309d   \n91   0xd998c35b7900b344bbbe6555cc11576942cf309d   \n92   0xd998c35b7900b344bbbe6555cc11576942cf309d   \n102  0xd998c35b7900b344bbbe6555cc11576942cf309d   \n103  0xd998c35b7900b344bbbe6555cc11576942cf309d   \n104  0xd998c35b7900b344bbbe6555cc11576942cf309d   \n108  0xd998c35b7900b344bbbe6555cc11576942cf309d   \n109  0xd998c35b7900b344bbbe6555cc11576942cf309d   \n110  0xd998c35b7900b344bbbe6555cc11576942cf309d   \n120  0xd998c35b7900b344bbbe6555cc11576942cf309d   \n121  0xd998c35b7900b344bbbe6555cc11576942cf309d   \n122  0xd998c35b7900b344bbbe6555cc11576942cf309d   \n144  0xd998c35b7900b344bbbe6555cc11576942cf309d   \n145  0xd998c35b7900b344bbbe6555cc11576942cf309d   \n146  0xd998c35b7900b344bbbe6555cc11576942cf309d   \n\n     transaction_market_rates_rate transaction_market_rates_duration  \\\n12                        0.000000                              None   \n13                        0.983536                              None   \n14                        3.173277                              None   \n18                        0.000000                              None   \n19                        0.983536                              None   \n20                        3.173277                              None   \n24                        0.000000                              None   \n25                        0.983536                              None   \n26                        3.173277                              None   \n36                        0.000000                              None   \n37                        0.983536                              None   \n38                        3.173277                              None   \n48                        0.000000                              None   \n49                        0.983536                              None   \n50                        3.173277                              None   \n54                        0.000000                              None   \n55                        0.983536                              None   \n56                        3.173277                              None   \n66                        0.000000                              None   \n67                        0.983536                              None   \n68                        3.173277                              None   \n90                        0.000000                              None   \n91                        0.983536                              None   \n92                        3.173277                              None   \n102                       0.000000                              None   \n103                       0.983536                              None   \n104                       3.173277                              None   \n108                       0.000000                              None   \n109                       0.983536                              None   \n110                       3.173277                              None   \n120                       0.000000                              None   \n121                       0.983536                              None   \n122                       3.173277                              None   \n144                       0.000000                              None   \n145                       0.983536                              None   \n146                       3.173277                              None   \n\n    transaction_market_rates_side  ...  \\\n12                       BORROWER  ...   \n13                       BORROWER  ...   \n14                       BORROWER  ...   \n18                       BORROWER  ...   \n19                       BORROWER  ...   \n20                       BORROWER  ...   \n24                       BORROWER  ...   \n25                       BORROWER  ...   \n26                       BORROWER  ...   \n36                       BORROWER  ...   \n37                       BORROWER  ...   \n38                       BORROWER  ...   \n48                       BORROWER  ...   \n49                       BORROWER  ...   \n50                       BORROWER  ...   \n54                       BORROWER  ...   \n55                       BORROWER  ...   \n56                       BORROWER  ...   \n66                       BORROWER  ...   \n67                       BORROWER  ...   \n68                       BORROWER  ...   \n90                       BORROWER  ...   \n91                       BORROWER  ...   \n92                       BORROWER  ...   \n102                      BORROWER  ...   \n103                      BORROWER  ...   \n104                      BORROWER  ...   \n108                      BORROWER  ...   \n109                      BORROWER  ...   \n110                      BORROWER  ...   \n120                      BORROWER  ...   \n121                      BORROWER  ...   \n122                      BORROWER  ...   \n144                      BORROWER  ...   \n145                      BORROWER  ...   \n146                      BORROWER  ...   \n\n              transaction_market_rates_token_id transaction_asset_name  \\\n12   0x0ab87046fbb341d058f17cbc4c1133f25a20a52f         Governance OHM   \n13   0xc02aaa39b223fe8d0a0e5c4f27ead9083c756cc2         Governance OHM   \n14   0xd7c9f0e536dc865ae858b0c0453fe76d13c3beac         Governance OHM   \n18   0x0ab87046fbb341d058f17cbc4c1133f25a20a52f         Governance OHM   \n19   0xc02aaa39b223fe8d0a0e5c4f27ead9083c756cc2         Governance OHM   \n20   0xd7c9f0e536dc865ae858b0c0453fe76d13c3beac         Governance OHM   \n24   0x0ab87046fbb341d058f17cbc4c1133f25a20a52f         Governance OHM   \n25   0xc02aaa39b223fe8d0a0e5c4f27ead9083c756cc2         Governance OHM   \n26   0xd7c9f0e536dc865ae858b0c0453fe76d13c3beac         Governance OHM   \n36   0x0ab87046fbb341d058f17cbc4c1133f25a20a52f         Governance OHM   \n37   0xc02aaa39b223fe8d0a0e5c4f27ead9083c756cc2         Governance OHM   \n38   0xd7c9f0e536dc865ae858b0c0453fe76d13c3beac         Governance OHM   \n48   0x0ab87046fbb341d058f17cbc4c1133f25a20a52f         Governance OHM   \n49   0xc02aaa39b223fe8d0a0e5c4f27ead9083c756cc2         Governance OHM   \n50   0xd7c9f0e536dc865ae858b0c0453fe76d13c3beac         Governance OHM   \n54   0x0ab87046fbb341d058f17cbc4c1133f25a20a52f         Governance OHM   \n55   0xc02aaa39b223fe8d0a0e5c4f27ead9083c756cc2         Governance OHM   \n56   0xd7c9f0e536dc865ae858b0c0453fe76d13c3beac         Governance OHM   \n66   0x0ab87046fbb341d058f17cbc4c1133f25a20a52f         Governance OHM   \n67   0xc02aaa39b223fe8d0a0e5c4f27ead9083c756cc2         Governance OHM   \n68   0xd7c9f0e536dc865ae858b0c0453fe76d13c3beac         Governance OHM   \n90   0x0ab87046fbb341d058f17cbc4c1133f25a20a52f         Governance OHM   \n91   0xc02aaa39b223fe8d0a0e5c4f27ead9083c756cc2         Governance OHM   \n92   0xd7c9f0e536dc865ae858b0c0453fe76d13c3beac         Governance OHM   \n102  0x0ab87046fbb341d058f17cbc4c1133f25a20a52f         Governance OHM   \n103  0xc02aaa39b223fe8d0a0e5c4f27ead9083c756cc2         Governance OHM   \n104  0xd7c9f0e536dc865ae858b0c0453fe76d13c3beac         Governance OHM   \n108  0x0ab87046fbb341d058f17cbc4c1133f25a20a52f         Governance OHM   \n109  0xc02aaa39b223fe8d0a0e5c4f27ead9083c756cc2         Governance OHM   \n110  0xd7c9f0e536dc865ae858b0c0453fe76d13c3beac         Governance OHM   \n120  0x0ab87046fbb341d058f17cbc4c1133f25a20a52f         Governance OHM   \n121  0xc02aaa39b223fe8d0a0e5c4f27ead9083c756cc2         Governance OHM   \n122  0xd7c9f0e536dc865ae858b0c0453fe76d13c3beac         Governance OHM   \n144  0x0ab87046fbb341d058f17cbc4c1133f25a20a52f         Governance OHM   \n145  0xc02aaa39b223fe8d0a0e5c4f27ead9083c756cc2         Governance OHM   \n146  0xd7c9f0e536dc865ae858b0c0453fe76d13c3beac         Governance OHM   \n\n    transaction_asset_symbol transaction_asset_decimals  \\\n12                      gOHM                         18   \n13                      gOHM                         18   \n14                      gOHM                         18   \n18                      gOHM                         18   \n19                      gOHM                         18   \n20                      gOHM                         18   \n24                      gOHM                         18   \n25                      gOHM                         18   \n26                      gOHM                         18   \n36                      gOHM                         18   \n37                      gOHM                         18   \n38                      gOHM                         18   \n48                      gOHM                         18   \n49                      gOHM                         18   \n50                      gOHM                         18   \n54                      gOHM                         18   \n55                      gOHM                         18   \n56                      gOHM                         18   \n66                      gOHM                         18   \n67                      gOHM                         18   \n68                      gOHM                         18   \n90                      gOHM                         18   \n91                      gOHM                         18   \n92                      gOHM                         18   \n102                     gOHM                         18   \n103                     gOHM                         18   \n104                     gOHM                         18   \n108                     gOHM                         18   \n109                     gOHM                         18   \n110                     gOHM                         18   \n120                     gOHM                         18   \n121                     gOHM                         18   \n122                     gOHM                         18   \n144                     gOHM                         18   \n145                     gOHM                         18   \n146                     gOHM                         18   \n\n     transaction_asset_lastPriceUSD    transaction_amount  \\\n12                      2756.217547  25000038820033231117   \n13                      2756.217547  25000038820033231117   \n14                      2756.217547  25000038820033231117   \n18                      2756.217547  64393035133917233507   \n19                      2756.217547  64393035133917233507   \n20                      2756.217547  64393035133917233507   \n24                      2756.217547  36000000000000000000   \n25                      2756.217547  36000000000000000000   \n26                      2756.217547  36000000000000000000   \n36                      2756.217547    883213095048159520   \n37                      2756.217547    883213095048159520   \n38                      2756.217547    883213095048159520   \n48                      2756.217547    137813892759214192   \n49                      2756.217547    137813892759214192   \n50                      2756.217547    137813892759214192   \n54                      2756.217547  19607120756279102839   \n55                      2756.217547  19607120756279102839   \n56                      2756.217547  19607120756279102839   \n66                      2756.217547    194798194604593843   \n67                      2756.217547    194798194604593843   \n68                      2756.217547    194798194604593843   \n90                      2756.217547  20000000000000000001   \n91                      2756.217547  20000000000000000001   \n92                      2756.217547  20000000000000000001   \n102                     2756.217547   2252766031913818688   \n103                     2756.217547   2252766031913818688   \n104                     2756.217547   2252766031913818688   \n108                     2756.217547  13520668277842151665   \n109                     2756.217547  13520668277842151665   \n110                     2756.217547  13520668277842151665   \n120                     2756.217547     19999999999999999   \n121                     2756.217547     19999999999999999   \n122                     2756.217547     19999999999999999   \n144                     2756.217547    168240000000000000   \n145                     2756.217547    168240000000000000   \n146                     2756.217547    168240000000000000   \n\n    transaction_amountUSD     event transactionReadableAmount  \\\n12           71148.084004  withdraw                 25.000039   \n13           71148.084004  withdraw                 25.000039   \n14           71148.084004  withdraw                 25.000039   \n18          183257.358356  withdraw                 64.393035   \n19          183257.358356  withdraw                 64.393035   \n20          183257.358356  withdraw                 64.393035   \n24          100991.276713  withdraw                 36.000000   \n25          100991.276713  withdraw                 36.000000   \n26          100991.276713  withdraw                 36.000000   \n36            2401.521741  withdraw                  0.883213   \n37            2401.521741  withdraw                  0.883213   \n38            2401.521741  withdraw                  0.883213   \n48             363.447391  withdraw                  0.137814   \n49             363.447391  withdraw                  0.137814   \n50             363.447391  withdraw                  0.137814   \n54           51919.381911  withdraw                 19.607121   \n55           51919.381911  withdraw                 19.607121   \n56           51919.381911  withdraw                 19.607121   \n66             510.055435  withdraw                  0.194798   \n67             510.055435  withdraw                  0.194798   \n68             510.055435  withdraw                  0.194798   \n90           51345.559733  withdraw                 20.000000   \n91           51345.559733  withdraw                 20.000000   \n92           51345.559733  withdraw                 20.000000   \n102           5812.081890  withdraw                  2.252766   \n103           5812.081890  withdraw                  2.252766   \n104           5812.081890  withdraw                  2.252766   \n108          34629.263098  withdraw                 13.520668   \n109          34629.263098  withdraw                 13.520668   \n110          34629.263098  withdraw                 13.520668   \n120             51.410624  withdraw                  0.020000   \n121             51.410624  withdraw                  0.020000   \n122             51.410624  withdraw                  0.020000   \n144            375.708151  withdraw                  0.168240   \n145            375.708151  withdraw                  0.168240   \n146            375.708151  withdraw                  0.168240   \n\n               dateTime  \n12  2023-02-15 15:27:47  \n13  2023-02-15 15:27:47  \n14  2023-02-15 15:27:47  \n18  2023-02-15 14:49:59  \n19  2023-02-15 14:49:59  \n20  2023-02-15 14:49:59  \n24  2023-02-14 16:23:59  \n25  2023-02-14 16:23:59  \n26  2023-02-14 16:23:59  \n36  2023-02-14 13:39:47  \n37  2023-02-14 13:39:47  \n38  2023-02-14 13:39:47  \n48  2023-02-10 23:35:23  \n49  2023-02-10 23:35:23  \n50  2023-02-10 23:35:23  \n54  2023-02-09 06:27:35  \n55  2023-02-09 06:27:35  \n56  2023-02-09 06:27:35  \n66  2023-02-07 02:45:47  \n67  2023-02-07 02:45:47  \n68  2023-02-07 02:45:47  \n90  2023-01-25 10:09:35  \n91  2023-01-25 10:09:35  \n92  2023-01-25 10:09:35  \n102 2023-01-09 02:06:59  \n103 2023-01-09 02:06:59  \n104 2023-01-09 02:06:59  \n108 2022-12-22 20:42:11  \n109 2022-12-22 20:42:11  \n110 2022-12-22 20:42:11  \n120 2022-12-13 13:37:23  \n121 2022-12-13 13:37:23  \n122 2022-12-13 13:37:23  \n144 2022-11-23 23:49:11  \n145 2022-11-23 23:49:11  \n146 2022-11-23 23:49:11  \n\n[36 rows x 21 columns]",
      "text/html": "<div>\n<style scoped>\n    .dataframe tbody tr th:only-of-type {\n        vertical-align: middle;\n    }\n\n    .dataframe tbody tr th {\n        vertical-align: top;\n    }\n\n    .dataframe thead th {\n        text-align: right;\n    }\n</style>\n<table border=\"1\" class=\"dataframe\">\n  <thead>\n    <tr style=\"text-align: right;\">\n      <th></th>\n      <th>transaction_id</th>\n      <th>transaction_hash</th>\n      <th>transaction_blockNumber</th>\n      <th>transaction_timestamp</th>\n      <th>transaction_account_id</th>\n      <th>transaction_market_id</th>\n      <th>transaction_market_protocol_id</th>\n      <th>transaction_market_rates_rate</th>\n      <th>transaction_market_rates_duration</th>\n      <th>transaction_market_rates_side</th>\n      <th>...</th>\n      <th>transaction_market_rates_token_id</th>\n      <th>transaction_asset_name</th>\n      <th>transaction_asset_symbol</th>\n      <th>transaction_asset_decimals</th>\n      <th>transaction_asset_lastPriceUSD</th>\n      <th>transaction_amount</th>\n      <th>transaction_amountUSD</th>\n      <th>event</th>\n      <th>transactionReadableAmount</th>\n      <th>dateTime</th>\n    </tr>\n  </thead>\n  <tbody>\n    <tr>\n      <th>12</th>\n      <td>0xf4707edc29622f90030af624d1918ff5ae613cef90d8...</td>\n      <td>0xf4707edc29622f90030af624d1918ff5ae613cef90d8...</td>\n      <td>16635032</td>\n      <td>1676474867</td>\n      <td>0x0493bcca897a2248ae3cd4c66aea90dbfc7e13c6</td>\n      <td>0xc413dd03555f3eb29d834b482d386b2999dc2eb0</td>\n      <td>0xd998c35b7900b344bbbe6555cc11576942cf309d</td>\n      <td>0.000000</td>\n      <td>None</td>\n      <td>BORROWER</td>\n      <td>...</td>\n      <td>0x0ab87046fbb341d058f17cbc4c1133f25a20a52f</td>\n      <td>Governance OHM</td>\n      <td>gOHM</td>\n      <td>18</td>\n      <td>2756.217547</td>\n      <td>25000038820033231117</td>\n      <td>71148.084004</td>\n      <td>withdraw</td>\n      <td>25.000039</td>\n      <td>2023-02-15 15:27:47</td>\n    </tr>\n    <tr>\n      <th>13</th>\n      <td>0xf4707edc29622f90030af624d1918ff5ae613cef90d8...</td>\n      <td>0xf4707edc29622f90030af624d1918ff5ae613cef90d8...</td>\n      <td>16635032</td>\n      <td>1676474867</td>\n      <td>0x0493bcca897a2248ae3cd4c66aea90dbfc7e13c6</td>\n      <td>0xc413dd03555f3eb29d834b482d386b2999dc2eb0</td>\n      <td>0xd998c35b7900b344bbbe6555cc11576942cf309d</td>\n      <td>0.983536</td>\n      <td>None</td>\n      <td>BORROWER</td>\n      <td>...</td>\n      <td>0xc02aaa39b223fe8d0a0e5c4f27ead9083c756cc2</td>\n      <td>Governance OHM</td>\n      <td>gOHM</td>\n      <td>18</td>\n      <td>2756.217547</td>\n      <td>25000038820033231117</td>\n      <td>71148.084004</td>\n      <td>withdraw</td>\n      <td>25.000039</td>\n      <td>2023-02-15 15:27:47</td>\n    </tr>\n    <tr>\n      <th>14</th>\n      <td>0xf4707edc29622f90030af624d1918ff5ae613cef90d8...</td>\n      <td>0xf4707edc29622f90030af624d1918ff5ae613cef90d8...</td>\n      <td>16635032</td>\n      <td>1676474867</td>\n      <td>0x0493bcca897a2248ae3cd4c66aea90dbfc7e13c6</td>\n      <td>0xc413dd03555f3eb29d834b482d386b2999dc2eb0</td>\n      <td>0xd998c35b7900b344bbbe6555cc11576942cf309d</td>\n      <td>3.173277</td>\n      <td>None</td>\n      <td>BORROWER</td>\n      <td>...</td>\n      <td>0xd7c9f0e536dc865ae858b0c0453fe76d13c3beac</td>\n      <td>Governance OHM</td>\n      <td>gOHM</td>\n      <td>18</td>\n      <td>2756.217547</td>\n      <td>25000038820033231117</td>\n      <td>71148.084004</td>\n      <td>withdraw</td>\n      <td>25.000039</td>\n      <td>2023-02-15 15:27:47</td>\n    </tr>\n    <tr>\n      <th>18</th>\n      <td>0x85b689883076aa92af0a2356f8e4084610578bb48590...</td>\n      <td>0x85b689883076aa92af0a2356f8e4084610578bb48590...</td>\n      <td>16634844</td>\n      <td>1676472599</td>\n      <td>0xb0399dac8f4d4100b49b2a7b3873481114229d18</td>\n      <td>0xc413dd03555f3eb29d834b482d386b2999dc2eb0</td>\n      <td>0xd998c35b7900b344bbbe6555cc11576942cf309d</td>\n      <td>0.000000</td>\n      <td>None</td>\n      <td>BORROWER</td>\n      <td>...</td>\n      <td>0x0ab87046fbb341d058f17cbc4c1133f25a20a52f</td>\n      <td>Governance OHM</td>\n      <td>gOHM</td>\n      <td>18</td>\n      <td>2756.217547</td>\n      <td>64393035133917233507</td>\n      <td>183257.358356</td>\n      <td>withdraw</td>\n      <td>64.393035</td>\n      <td>2023-02-15 14:49:59</td>\n    </tr>\n    <tr>\n      <th>19</th>\n      <td>0x85b689883076aa92af0a2356f8e4084610578bb48590...</td>\n      <td>0x85b689883076aa92af0a2356f8e4084610578bb48590...</td>\n      <td>16634844</td>\n      <td>1676472599</td>\n      <td>0xb0399dac8f4d4100b49b2a7b3873481114229d18</td>\n      <td>0xc413dd03555f3eb29d834b482d386b2999dc2eb0</td>\n      <td>0xd998c35b7900b344bbbe6555cc11576942cf309d</td>\n      <td>0.983536</td>\n      <td>None</td>\n      <td>BORROWER</td>\n      <td>...</td>\n      <td>0xc02aaa39b223fe8d0a0e5c4f27ead9083c756cc2</td>\n      <td>Governance OHM</td>\n      <td>gOHM</td>\n      <td>18</td>\n      <td>2756.217547</td>\n      <td>64393035133917233507</td>\n      <td>183257.358356</td>\n      <td>withdraw</td>\n      <td>64.393035</td>\n      <td>2023-02-15 14:49:59</td>\n    </tr>\n    <tr>\n      <th>20</th>\n      <td>0x85b689883076aa92af0a2356f8e4084610578bb48590...</td>\n      <td>0x85b689883076aa92af0a2356f8e4084610578bb48590...</td>\n      <td>16634844</td>\n      <td>1676472599</td>\n      <td>0xb0399dac8f4d4100b49b2a7b3873481114229d18</td>\n      <td>0xc413dd03555f3eb29d834b482d386b2999dc2eb0</td>\n      <td>0xd998c35b7900b344bbbe6555cc11576942cf309d</td>\n      <td>3.173277</td>\n      <td>None</td>\n      <td>BORROWER</td>\n      <td>...</td>\n      <td>0xd7c9f0e536dc865ae858b0c0453fe76d13c3beac</td>\n      <td>Governance OHM</td>\n      <td>gOHM</td>\n      <td>18</td>\n      <td>2756.217547</td>\n      <td>64393035133917233507</td>\n      <td>183257.358356</td>\n      <td>withdraw</td>\n      <td>64.393035</td>\n      <td>2023-02-15 14:49:59</td>\n    </tr>\n    <tr>\n      <th>24</th>\n      <td>0xd931b79cfc34df088f325e8adde9122af7ad64a0ba30...</td>\n      <td>0xd931b79cfc34df088f325e8adde9122af7ad64a0ba30...</td>\n      <td>16628161</td>\n      <td>1676391839</td>\n      <td>0xb0399dac8f4d4100b49b2a7b3873481114229d18</td>\n      <td>0xc413dd03555f3eb29d834b482d386b2999dc2eb0</td>\n      <td>0xd998c35b7900b344bbbe6555cc11576942cf309d</td>\n      <td>0.000000</td>\n      <td>None</td>\n      <td>BORROWER</td>\n      <td>...</td>\n      <td>0x0ab87046fbb341d058f17cbc4c1133f25a20a52f</td>\n      <td>Governance OHM</td>\n      <td>gOHM</td>\n      <td>18</td>\n      <td>2756.217547</td>\n      <td>36000000000000000000</td>\n      <td>100991.276713</td>\n      <td>withdraw</td>\n      <td>36.000000</td>\n      <td>2023-02-14 16:23:59</td>\n    </tr>\n    <tr>\n      <th>25</th>\n      <td>0xd931b79cfc34df088f325e8adde9122af7ad64a0ba30...</td>\n      <td>0xd931b79cfc34df088f325e8adde9122af7ad64a0ba30...</td>\n      <td>16628161</td>\n      <td>1676391839</td>\n      <td>0xb0399dac8f4d4100b49b2a7b3873481114229d18</td>\n      <td>0xc413dd03555f3eb29d834b482d386b2999dc2eb0</td>\n      <td>0xd998c35b7900b344bbbe6555cc11576942cf309d</td>\n      <td>0.983536</td>\n      <td>None</td>\n      <td>BORROWER</td>\n      <td>...</td>\n      <td>0xc02aaa39b223fe8d0a0e5c4f27ead9083c756cc2</td>\n      <td>Governance OHM</td>\n      <td>gOHM</td>\n      <td>18</td>\n      <td>2756.217547</td>\n      <td>36000000000000000000</td>\n      <td>100991.276713</td>\n      <td>withdraw</td>\n      <td>36.000000</td>\n      <td>2023-02-14 16:23:59</td>\n    </tr>\n    <tr>\n      <th>26</th>\n      <td>0xd931b79cfc34df088f325e8adde9122af7ad64a0ba30...</td>\n      <td>0xd931b79cfc34df088f325e8adde9122af7ad64a0ba30...</td>\n      <td>16628161</td>\n      <td>1676391839</td>\n      <td>0xb0399dac8f4d4100b49b2a7b3873481114229d18</td>\n      <td>0xc413dd03555f3eb29d834b482d386b2999dc2eb0</td>\n      <td>0xd998c35b7900b344bbbe6555cc11576942cf309d</td>\n      <td>3.173277</td>\n      <td>None</td>\n      <td>BORROWER</td>\n      <td>...</td>\n      <td>0xd7c9f0e536dc865ae858b0c0453fe76d13c3beac</td>\n      <td>Governance OHM</td>\n      <td>gOHM</td>\n      <td>18</td>\n      <td>2756.217547</td>\n      <td>36000000000000000000</td>\n      <td>100991.276713</td>\n      <td>withdraw</td>\n      <td>36.000000</td>\n      <td>2023-02-14 16:23:59</td>\n    </tr>\n    <tr>\n      <th>36</th>\n      <td>0xd4f7aeb47e1e07903a3e9298762bc164764fffb2f973...</td>\n      <td>0xd4f7aeb47e1e07903a3e9298762bc164764fffb2f973...</td>\n      <td>16627341</td>\n      <td>1676381987</td>\n      <td>0xc0b1f200aa9546ce074397bed7438bb2ec033877</td>\n      <td>0xc413dd03555f3eb29d834b482d386b2999dc2eb0</td>\n      <td>0xd998c35b7900b344bbbe6555cc11576942cf309d</td>\n      <td>0.000000</td>\n      <td>None</td>\n      <td>BORROWER</td>\n      <td>...</td>\n      <td>0x0ab87046fbb341d058f17cbc4c1133f25a20a52f</td>\n      <td>Governance OHM</td>\n      <td>gOHM</td>\n      <td>18</td>\n      <td>2756.217547</td>\n      <td>883213095048159520</td>\n      <td>2401.521741</td>\n      <td>withdraw</td>\n      <td>0.883213</td>\n      <td>2023-02-14 13:39:47</td>\n    </tr>\n    <tr>\n      <th>37</th>\n      <td>0xd4f7aeb47e1e07903a3e9298762bc164764fffb2f973...</td>\n      <td>0xd4f7aeb47e1e07903a3e9298762bc164764fffb2f973...</td>\n      <td>16627341</td>\n      <td>1676381987</td>\n      <td>0xc0b1f200aa9546ce074397bed7438bb2ec033877</td>\n      <td>0xc413dd03555f3eb29d834b482d386b2999dc2eb0</td>\n      <td>0xd998c35b7900b344bbbe6555cc11576942cf309d</td>\n      <td>0.983536</td>\n      <td>None</td>\n      <td>BORROWER</td>\n      <td>...</td>\n      <td>0xc02aaa39b223fe8d0a0e5c4f27ead9083c756cc2</td>\n      <td>Governance OHM</td>\n      <td>gOHM</td>\n      <td>18</td>\n      <td>2756.217547</td>\n      <td>883213095048159520</td>\n      <td>2401.521741</td>\n      <td>withdraw</td>\n      <td>0.883213</td>\n      <td>2023-02-14 13:39:47</td>\n    </tr>\n    <tr>\n      <th>38</th>\n      <td>0xd4f7aeb47e1e07903a3e9298762bc164764fffb2f973...</td>\n      <td>0xd4f7aeb47e1e07903a3e9298762bc164764fffb2f973...</td>\n      <td>16627341</td>\n      <td>1676381987</td>\n      <td>0xc0b1f200aa9546ce074397bed7438bb2ec033877</td>\n      <td>0xc413dd03555f3eb29d834b482d386b2999dc2eb0</td>\n      <td>0xd998c35b7900b344bbbe6555cc11576942cf309d</td>\n      <td>3.173277</td>\n      <td>None</td>\n      <td>BORROWER</td>\n      <td>...</td>\n      <td>0xd7c9f0e536dc865ae858b0c0453fe76d13c3beac</td>\n      <td>Governance OHM</td>\n      <td>gOHM</td>\n      <td>18</td>\n      <td>2756.217547</td>\n      <td>883213095048159520</td>\n      <td>2401.521741</td>\n      <td>withdraw</td>\n      <td>0.883213</td>\n      <td>2023-02-14 13:39:47</td>\n    </tr>\n    <tr>\n      <th>48</th>\n      <td>0xc7193a2aa216c65fe82652e85b4adc20a60b274bd070...</td>\n      <td>0xc7193a2aa216c65fe82652e85b4adc20a60b274bd070...</td>\n      <td>16601676</td>\n      <td>1676072123</td>\n      <td>0xa7daeb7fc210f934508c8c7ce833a2cdd6630fb3</td>\n      <td>0xc413dd03555f3eb29d834b482d386b2999dc2eb0</td>\n      <td>0xd998c35b7900b344bbbe6555cc11576942cf309d</td>\n      <td>0.000000</td>\n      <td>None</td>\n      <td>BORROWER</td>\n      <td>...</td>\n      <td>0x0ab87046fbb341d058f17cbc4c1133f25a20a52f</td>\n      <td>Governance OHM</td>\n      <td>gOHM</td>\n      <td>18</td>\n      <td>2756.217547</td>\n      <td>137813892759214192</td>\n      <td>363.447391</td>\n      <td>withdraw</td>\n      <td>0.137814</td>\n      <td>2023-02-10 23:35:23</td>\n    </tr>\n    <tr>\n      <th>49</th>\n      <td>0xc7193a2aa216c65fe82652e85b4adc20a60b274bd070...</td>\n      <td>0xc7193a2aa216c65fe82652e85b4adc20a60b274bd070...</td>\n      <td>16601676</td>\n      <td>1676072123</td>\n      <td>0xa7daeb7fc210f934508c8c7ce833a2cdd6630fb3</td>\n      <td>0xc413dd03555f3eb29d834b482d386b2999dc2eb0</td>\n      <td>0xd998c35b7900b344bbbe6555cc11576942cf309d</td>\n      <td>0.983536</td>\n      <td>None</td>\n      <td>BORROWER</td>\n      <td>...</td>\n      <td>0xc02aaa39b223fe8d0a0e5c4f27ead9083c756cc2</td>\n      <td>Governance OHM</td>\n      <td>gOHM</td>\n      <td>18</td>\n      <td>2756.217547</td>\n      <td>137813892759214192</td>\n      <td>363.447391</td>\n      <td>withdraw</td>\n      <td>0.137814</td>\n      <td>2023-02-10 23:35:23</td>\n    </tr>\n    <tr>\n      <th>50</th>\n      <td>0xc7193a2aa216c65fe82652e85b4adc20a60b274bd070...</td>\n      <td>0xc7193a2aa216c65fe82652e85b4adc20a60b274bd070...</td>\n      <td>16601676</td>\n      <td>1676072123</td>\n      <td>0xa7daeb7fc210f934508c8c7ce833a2cdd6630fb3</td>\n      <td>0xc413dd03555f3eb29d834b482d386b2999dc2eb0</td>\n      <td>0xd998c35b7900b344bbbe6555cc11576942cf309d</td>\n      <td>3.173277</td>\n      <td>None</td>\n      <td>BORROWER</td>\n      <td>...</td>\n      <td>0xd7c9f0e536dc865ae858b0c0453fe76d13c3beac</td>\n      <td>Governance OHM</td>\n      <td>gOHM</td>\n      <td>18</td>\n      <td>2756.217547</td>\n      <td>137813892759214192</td>\n      <td>363.447391</td>\n      <td>withdraw</td>\n      <td>0.137814</td>\n      <td>2023-02-10 23:35:23</td>\n    </tr>\n    <tr>\n      <th>54</th>\n      <td>0xed87a5e09b9abe135be66d51493eca516d78aaf1d4d5...</td>\n      <td>0xed87a5e09b9abe135be66d51493eca516d78aaf1d4d5...</td>\n      <td>16589407</td>\n      <td>1675924055</td>\n      <td>0xb0399dac8f4d4100b49b2a7b3873481114229d18</td>\n      <td>0xc413dd03555f3eb29d834b482d386b2999dc2eb0</td>\n      <td>0xd998c35b7900b344bbbe6555cc11576942cf309d</td>\n      <td>0.000000</td>\n      <td>None</td>\n      <td>BORROWER</td>\n      <td>...</td>\n      <td>0x0ab87046fbb341d058f17cbc4c1133f25a20a52f</td>\n      <td>Governance OHM</td>\n      <td>gOHM</td>\n      <td>18</td>\n      <td>2756.217547</td>\n      <td>19607120756279102839</td>\n      <td>51919.381911</td>\n      <td>withdraw</td>\n      <td>19.607121</td>\n      <td>2023-02-09 06:27:35</td>\n    </tr>\n    <tr>\n      <th>55</th>\n      <td>0xed87a5e09b9abe135be66d51493eca516d78aaf1d4d5...</td>\n      <td>0xed87a5e09b9abe135be66d51493eca516d78aaf1d4d5...</td>\n      <td>16589407</td>\n      <td>1675924055</td>\n      <td>0xb0399dac8f4d4100b49b2a7b3873481114229d18</td>\n      <td>0xc413dd03555f3eb29d834b482d386b2999dc2eb0</td>\n      <td>0xd998c35b7900b344bbbe6555cc11576942cf309d</td>\n      <td>0.983536</td>\n      <td>None</td>\n      <td>BORROWER</td>\n      <td>...</td>\n      <td>0xc02aaa39b223fe8d0a0e5c4f27ead9083c756cc2</td>\n      <td>Governance OHM</td>\n      <td>gOHM</td>\n      <td>18</td>\n      <td>2756.217547</td>\n      <td>19607120756279102839</td>\n      <td>51919.381911</td>\n      <td>withdraw</td>\n      <td>19.607121</td>\n      <td>2023-02-09 06:27:35</td>\n    </tr>\n    <tr>\n      <th>56</th>\n      <td>0xed87a5e09b9abe135be66d51493eca516d78aaf1d4d5...</td>\n      <td>0xed87a5e09b9abe135be66d51493eca516d78aaf1d4d5...</td>\n      <td>16589407</td>\n      <td>1675924055</td>\n      <td>0xb0399dac8f4d4100b49b2a7b3873481114229d18</td>\n      <td>0xc413dd03555f3eb29d834b482d386b2999dc2eb0</td>\n      <td>0xd998c35b7900b344bbbe6555cc11576942cf309d</td>\n      <td>3.173277</td>\n      <td>None</td>\n      <td>BORROWER</td>\n      <td>...</td>\n      <td>0xd7c9f0e536dc865ae858b0c0453fe76d13c3beac</td>\n      <td>Governance OHM</td>\n      <td>gOHM</td>\n      <td>18</td>\n      <td>2756.217547</td>\n      <td>19607120756279102839</td>\n      <td>51919.381911</td>\n      <td>withdraw</td>\n      <td>19.607121</td>\n      <td>2023-02-09 06:27:35</td>\n    </tr>\n    <tr>\n      <th>66</th>\n      <td>0xcfa1e8a102e407470f7cc479576cceab5f872c1a1377...</td>\n      <td>0xcfa1e8a102e407470f7cc479576cceab5f872c1a1377...</td>\n      <td>16574012</td>\n      <td>1675737947</td>\n      <td>0xd3064611b24eba7a6dbcbc26c1b35dfee1170880</td>\n      <td>0xc413dd03555f3eb29d834b482d386b2999dc2eb0</td>\n      <td>0xd998c35b7900b344bbbe6555cc11576942cf309d</td>\n      <td>0.000000</td>\n      <td>None</td>\n      <td>BORROWER</td>\n      <td>...</td>\n      <td>0x0ab87046fbb341d058f17cbc4c1133f25a20a52f</td>\n      <td>Governance OHM</td>\n      <td>gOHM</td>\n      <td>18</td>\n      <td>2756.217547</td>\n      <td>194798194604593843</td>\n      <td>510.055435</td>\n      <td>withdraw</td>\n      <td>0.194798</td>\n      <td>2023-02-07 02:45:47</td>\n    </tr>\n    <tr>\n      <th>67</th>\n      <td>0xcfa1e8a102e407470f7cc479576cceab5f872c1a1377...</td>\n      <td>0xcfa1e8a102e407470f7cc479576cceab5f872c1a1377...</td>\n      <td>16574012</td>\n      <td>1675737947</td>\n      <td>0xd3064611b24eba7a6dbcbc26c1b35dfee1170880</td>\n      <td>0xc413dd03555f3eb29d834b482d386b2999dc2eb0</td>\n      <td>0xd998c35b7900b344bbbe6555cc11576942cf309d</td>\n      <td>0.983536</td>\n      <td>None</td>\n      <td>BORROWER</td>\n      <td>...</td>\n      <td>0xc02aaa39b223fe8d0a0e5c4f27ead9083c756cc2</td>\n      <td>Governance OHM</td>\n      <td>gOHM</td>\n      <td>18</td>\n      <td>2756.217547</td>\n      <td>194798194604593843</td>\n      <td>510.055435</td>\n      <td>withdraw</td>\n      <td>0.194798</td>\n      <td>2023-02-07 02:45:47</td>\n    </tr>\n    <tr>\n      <th>68</th>\n      <td>0xcfa1e8a102e407470f7cc479576cceab5f872c1a1377...</td>\n      <td>0xcfa1e8a102e407470f7cc479576cceab5f872c1a1377...</td>\n      <td>16574012</td>\n      <td>1675737947</td>\n      <td>0xd3064611b24eba7a6dbcbc26c1b35dfee1170880</td>\n      <td>0xc413dd03555f3eb29d834b482d386b2999dc2eb0</td>\n      <td>0xd998c35b7900b344bbbe6555cc11576942cf309d</td>\n      <td>3.173277</td>\n      <td>None</td>\n      <td>BORROWER</td>\n      <td>...</td>\n      <td>0xd7c9f0e536dc865ae858b0c0453fe76d13c3beac</td>\n      <td>Governance OHM</td>\n      <td>gOHM</td>\n      <td>18</td>\n      <td>2756.217547</td>\n      <td>194798194604593843</td>\n      <td>510.055435</td>\n      <td>withdraw</td>\n      <td>0.194798</td>\n      <td>2023-02-07 02:45:47</td>\n    </tr>\n    <tr>\n      <th>90</th>\n      <td>0xb8682e4d0d5fe1297f21ff66347debdfc75c3956612d...</td>\n      <td>0xb8682e4d0d5fe1297f21ff66347debdfc75c3956612d...</td>\n      <td>16483146</td>\n      <td>1674641375</td>\n      <td>0xee1520f94f304e8d551cbf310fe214212e3ca34a</td>\n      <td>0xc413dd03555f3eb29d834b482d386b2999dc2eb0</td>\n      <td>0xd998c35b7900b344bbbe6555cc11576942cf309d</td>\n      <td>0.000000</td>\n      <td>None</td>\n      <td>BORROWER</td>\n      <td>...</td>\n      <td>0x0ab87046fbb341d058f17cbc4c1133f25a20a52f</td>\n      <td>Governance OHM</td>\n      <td>gOHM</td>\n      <td>18</td>\n      <td>2756.217547</td>\n      <td>20000000000000000001</td>\n      <td>51345.559733</td>\n      <td>withdraw</td>\n      <td>20.000000</td>\n      <td>2023-01-25 10:09:35</td>\n    </tr>\n    <tr>\n      <th>91</th>\n      <td>0xb8682e4d0d5fe1297f21ff66347debdfc75c3956612d...</td>\n      <td>0xb8682e4d0d5fe1297f21ff66347debdfc75c3956612d...</td>\n      <td>16483146</td>\n      <td>1674641375</td>\n      <td>0xee1520f94f304e8d551cbf310fe214212e3ca34a</td>\n      <td>0xc413dd03555f3eb29d834b482d386b2999dc2eb0</td>\n      <td>0xd998c35b7900b344bbbe6555cc11576942cf309d</td>\n      <td>0.983536</td>\n      <td>None</td>\n      <td>BORROWER</td>\n      <td>...</td>\n      <td>0xc02aaa39b223fe8d0a0e5c4f27ead9083c756cc2</td>\n      <td>Governance OHM</td>\n      <td>gOHM</td>\n      <td>18</td>\n      <td>2756.217547</td>\n      <td>20000000000000000001</td>\n      <td>51345.559733</td>\n      <td>withdraw</td>\n      <td>20.000000</td>\n      <td>2023-01-25 10:09:35</td>\n    </tr>\n    <tr>\n      <th>92</th>\n      <td>0xb8682e4d0d5fe1297f21ff66347debdfc75c3956612d...</td>\n      <td>0xb8682e4d0d5fe1297f21ff66347debdfc75c3956612d...</td>\n      <td>16483146</td>\n      <td>1674641375</td>\n      <td>0xee1520f94f304e8d551cbf310fe214212e3ca34a</td>\n      <td>0xc413dd03555f3eb29d834b482d386b2999dc2eb0</td>\n      <td>0xd998c35b7900b344bbbe6555cc11576942cf309d</td>\n      <td>3.173277</td>\n      <td>None</td>\n      <td>BORROWER</td>\n      <td>...</td>\n      <td>0xd7c9f0e536dc865ae858b0c0453fe76d13c3beac</td>\n      <td>Governance OHM</td>\n      <td>gOHM</td>\n      <td>18</td>\n      <td>2756.217547</td>\n      <td>20000000000000000001</td>\n      <td>51345.559733</td>\n      <td>withdraw</td>\n      <td>20.000000</td>\n      <td>2023-01-25 10:09:35</td>\n    </tr>\n    <tr>\n      <th>102</th>\n      <td>0xcc9db9a7563b473c4b8e4ca0f4f7fb90ca709b022469...</td>\n      <td>0xcc9db9a7563b473c4b8e4ca0f4f7fb90ca709b022469...</td>\n      <td>16366146</td>\n      <td>1673230019</td>\n      <td>0x25fdda95197f804316f5ba8dbb66ac173ee19981</td>\n      <td>0xc413dd03555f3eb29d834b482d386b2999dc2eb0</td>\n      <td>0xd998c35b7900b344bbbe6555cc11576942cf309d</td>\n      <td>0.000000</td>\n      <td>None</td>\n      <td>BORROWER</td>\n      <td>...</td>\n      <td>0x0ab87046fbb341d058f17cbc4c1133f25a20a52f</td>\n      <td>Governance OHM</td>\n      <td>gOHM</td>\n      <td>18</td>\n      <td>2756.217547</td>\n      <td>2252766031913818688</td>\n      <td>5812.081890</td>\n      <td>withdraw</td>\n      <td>2.252766</td>\n      <td>2023-01-09 02:06:59</td>\n    </tr>\n    <tr>\n      <th>103</th>\n      <td>0xcc9db9a7563b473c4b8e4ca0f4f7fb90ca709b022469...</td>\n      <td>0xcc9db9a7563b473c4b8e4ca0f4f7fb90ca709b022469...</td>\n      <td>16366146</td>\n      <td>1673230019</td>\n      <td>0x25fdda95197f804316f5ba8dbb66ac173ee19981</td>\n      <td>0xc413dd03555f3eb29d834b482d386b2999dc2eb0</td>\n      <td>0xd998c35b7900b344bbbe6555cc11576942cf309d</td>\n      <td>0.983536</td>\n      <td>None</td>\n      <td>BORROWER</td>\n      <td>...</td>\n      <td>0xc02aaa39b223fe8d0a0e5c4f27ead9083c756cc2</td>\n      <td>Governance OHM</td>\n      <td>gOHM</td>\n      <td>18</td>\n      <td>2756.217547</td>\n      <td>2252766031913818688</td>\n      <td>5812.081890</td>\n      <td>withdraw</td>\n      <td>2.252766</td>\n      <td>2023-01-09 02:06:59</td>\n    </tr>\n    <tr>\n      <th>104</th>\n      <td>0xcc9db9a7563b473c4b8e4ca0f4f7fb90ca709b022469...</td>\n      <td>0xcc9db9a7563b473c4b8e4ca0f4f7fb90ca709b022469...</td>\n      <td>16366146</td>\n      <td>1673230019</td>\n      <td>0x25fdda95197f804316f5ba8dbb66ac173ee19981</td>\n      <td>0xc413dd03555f3eb29d834b482d386b2999dc2eb0</td>\n      <td>0xd998c35b7900b344bbbe6555cc11576942cf309d</td>\n      <td>3.173277</td>\n      <td>None</td>\n      <td>BORROWER</td>\n      <td>...</td>\n      <td>0xd7c9f0e536dc865ae858b0c0453fe76d13c3beac</td>\n      <td>Governance OHM</td>\n      <td>gOHM</td>\n      <td>18</td>\n      <td>2756.217547</td>\n      <td>2252766031913818688</td>\n      <td>5812.081890</td>\n      <td>withdraw</td>\n      <td>2.252766</td>\n      <td>2023-01-09 02:06:59</td>\n    </tr>\n    <tr>\n      <th>108</th>\n      <td>0x7c24d04318da39f08c7ba4f8d413a487133ce1b1f117...</td>\n      <td>0x7c24d04318da39f08c7ba4f8d413a487133ce1b1f117...</td>\n      <td>16242703</td>\n      <td>1671741731</td>\n      <td>0x96035b45bc0d22f0ed11283a91145fb001c48370</td>\n      <td>0xc413dd03555f3eb29d834b482d386b2999dc2eb0</td>\n      <td>0xd998c35b7900b344bbbe6555cc11576942cf309d</td>\n      <td>0.000000</td>\n      <td>None</td>\n      <td>BORROWER</td>\n      <td>...</td>\n      <td>0x0ab87046fbb341d058f17cbc4c1133f25a20a52f</td>\n      <td>Governance OHM</td>\n      <td>gOHM</td>\n      <td>18</td>\n      <td>2756.217547</td>\n      <td>13520668277842151665</td>\n      <td>34629.263098</td>\n      <td>withdraw</td>\n      <td>13.520668</td>\n      <td>2022-12-22 20:42:11</td>\n    </tr>\n    <tr>\n      <th>109</th>\n      <td>0x7c24d04318da39f08c7ba4f8d413a487133ce1b1f117...</td>\n      <td>0x7c24d04318da39f08c7ba4f8d413a487133ce1b1f117...</td>\n      <td>16242703</td>\n      <td>1671741731</td>\n      <td>0x96035b45bc0d22f0ed11283a91145fb001c48370</td>\n      <td>0xc413dd03555f3eb29d834b482d386b2999dc2eb0</td>\n      <td>0xd998c35b7900b344bbbe6555cc11576942cf309d</td>\n      <td>0.983536</td>\n      <td>None</td>\n      <td>BORROWER</td>\n      <td>...</td>\n      <td>0xc02aaa39b223fe8d0a0e5c4f27ead9083c756cc2</td>\n      <td>Governance OHM</td>\n      <td>gOHM</td>\n      <td>18</td>\n      <td>2756.217547</td>\n      <td>13520668277842151665</td>\n      <td>34629.263098</td>\n      <td>withdraw</td>\n      <td>13.520668</td>\n      <td>2022-12-22 20:42:11</td>\n    </tr>\n    <tr>\n      <th>110</th>\n      <td>0x7c24d04318da39f08c7ba4f8d413a487133ce1b1f117...</td>\n      <td>0x7c24d04318da39f08c7ba4f8d413a487133ce1b1f117...</td>\n      <td>16242703</td>\n      <td>1671741731</td>\n      <td>0x96035b45bc0d22f0ed11283a91145fb001c48370</td>\n      <td>0xc413dd03555f3eb29d834b482d386b2999dc2eb0</td>\n      <td>0xd998c35b7900b344bbbe6555cc11576942cf309d</td>\n      <td>3.173277</td>\n      <td>None</td>\n      <td>BORROWER</td>\n      <td>...</td>\n      <td>0xd7c9f0e536dc865ae858b0c0453fe76d13c3beac</td>\n      <td>Governance OHM</td>\n      <td>gOHM</td>\n      <td>18</td>\n      <td>2756.217547</td>\n      <td>13520668277842151665</td>\n      <td>34629.263098</td>\n      <td>withdraw</td>\n      <td>13.520668</td>\n      <td>2022-12-22 20:42:11</td>\n    </tr>\n    <tr>\n      <th>120</th>\n      <td>0x3cf3a5658c3ef1a247ec241370a3abfeb673251eafec...</td>\n      <td>0x3cf3a5658c3ef1a247ec241370a3abfeb673251eafec...</td>\n      <td>16176122</td>\n      <td>1670938643</td>\n      <td>0x791d1ec51d931186c1d4b80e753b7155dd98f741</td>\n      <td>0xc413dd03555f3eb29d834b482d386b2999dc2eb0</td>\n      <td>0xd998c35b7900b344bbbe6555cc11576942cf309d</td>\n      <td>0.000000</td>\n      <td>None</td>\n      <td>BORROWER</td>\n      <td>...</td>\n      <td>0x0ab87046fbb341d058f17cbc4c1133f25a20a52f</td>\n      <td>Governance OHM</td>\n      <td>gOHM</td>\n      <td>18</td>\n      <td>2756.217547</td>\n      <td>19999999999999999</td>\n      <td>51.410624</td>\n      <td>withdraw</td>\n      <td>0.020000</td>\n      <td>2022-12-13 13:37:23</td>\n    </tr>\n    <tr>\n      <th>121</th>\n      <td>0x3cf3a5658c3ef1a247ec241370a3abfeb673251eafec...</td>\n      <td>0x3cf3a5658c3ef1a247ec241370a3abfeb673251eafec...</td>\n      <td>16176122</td>\n      <td>1670938643</td>\n      <td>0x791d1ec51d931186c1d4b80e753b7155dd98f741</td>\n      <td>0xc413dd03555f3eb29d834b482d386b2999dc2eb0</td>\n      <td>0xd998c35b7900b344bbbe6555cc11576942cf309d</td>\n      <td>0.983536</td>\n      <td>None</td>\n      <td>BORROWER</td>\n      <td>...</td>\n      <td>0xc02aaa39b223fe8d0a0e5c4f27ead9083c756cc2</td>\n      <td>Governance OHM</td>\n      <td>gOHM</td>\n      <td>18</td>\n      <td>2756.217547</td>\n      <td>19999999999999999</td>\n      <td>51.410624</td>\n      <td>withdraw</td>\n      <td>0.020000</td>\n      <td>2022-12-13 13:37:23</td>\n    </tr>\n    <tr>\n      <th>122</th>\n      <td>0x3cf3a5658c3ef1a247ec241370a3abfeb673251eafec...</td>\n      <td>0x3cf3a5658c3ef1a247ec241370a3abfeb673251eafec...</td>\n      <td>16176122</td>\n      <td>1670938643</td>\n      <td>0x791d1ec51d931186c1d4b80e753b7155dd98f741</td>\n      <td>0xc413dd03555f3eb29d834b482d386b2999dc2eb0</td>\n      <td>0xd998c35b7900b344bbbe6555cc11576942cf309d</td>\n      <td>3.173277</td>\n      <td>None</td>\n      <td>BORROWER</td>\n      <td>...</td>\n      <td>0xd7c9f0e536dc865ae858b0c0453fe76d13c3beac</td>\n      <td>Governance OHM</td>\n      <td>gOHM</td>\n      <td>18</td>\n      <td>2756.217547</td>\n      <td>19999999999999999</td>\n      <td>51.410624</td>\n      <td>withdraw</td>\n      <td>0.020000</td>\n      <td>2022-12-13 13:37:23</td>\n    </tr>\n    <tr>\n      <th>144</th>\n      <td>0xbb87996c54ed5859d905c96b7b43212cdbc74b1c99aa...</td>\n      <td>0xbb87996c54ed5859d905c96b7b43212cdbc74b1c99aa...</td>\n      <td>16036062</td>\n      <td>1669247351</td>\n      <td>0x62a4a8f9f5f3aae9ee9cee780285a0d501c12d09</td>\n      <td>0xc413dd03555f3eb29d834b482d386b2999dc2eb0</td>\n      <td>0xd998c35b7900b344bbbe6555cc11576942cf309d</td>\n      <td>0.000000</td>\n      <td>None</td>\n      <td>BORROWER</td>\n      <td>...</td>\n      <td>0x0ab87046fbb341d058f17cbc4c1133f25a20a52f</td>\n      <td>Governance OHM</td>\n      <td>gOHM</td>\n      <td>18</td>\n      <td>2756.217547</td>\n      <td>168240000000000000</td>\n      <td>375.708151</td>\n      <td>withdraw</td>\n      <td>0.168240</td>\n      <td>2022-11-23 23:49:11</td>\n    </tr>\n    <tr>\n      <th>145</th>\n      <td>0xbb87996c54ed5859d905c96b7b43212cdbc74b1c99aa...</td>\n      <td>0xbb87996c54ed5859d905c96b7b43212cdbc74b1c99aa...</td>\n      <td>16036062</td>\n      <td>1669247351</td>\n      <td>0x62a4a8f9f5f3aae9ee9cee780285a0d501c12d09</td>\n      <td>0xc413dd03555f3eb29d834b482d386b2999dc2eb0</td>\n      <td>0xd998c35b7900b344bbbe6555cc11576942cf309d</td>\n      <td>0.983536</td>\n      <td>None</td>\n      <td>BORROWER</td>\n      <td>...</td>\n      <td>0xc02aaa39b223fe8d0a0e5c4f27ead9083c756cc2</td>\n      <td>Governance OHM</td>\n      <td>gOHM</td>\n      <td>18</td>\n      <td>2756.217547</td>\n      <td>168240000000000000</td>\n      <td>375.708151</td>\n      <td>withdraw</td>\n      <td>0.168240</td>\n      <td>2022-11-23 23:49:11</td>\n    </tr>\n    <tr>\n      <th>146</th>\n      <td>0xbb87996c54ed5859d905c96b7b43212cdbc74b1c99aa...</td>\n      <td>0xbb87996c54ed5859d905c96b7b43212cdbc74b1c99aa...</td>\n      <td>16036062</td>\n      <td>1669247351</td>\n      <td>0x62a4a8f9f5f3aae9ee9cee780285a0d501c12d09</td>\n      <td>0xc413dd03555f3eb29d834b482d386b2999dc2eb0</td>\n      <td>0xd998c35b7900b344bbbe6555cc11576942cf309d</td>\n      <td>3.173277</td>\n      <td>None</td>\n      <td>BORROWER</td>\n      <td>...</td>\n      <td>0xd7c9f0e536dc865ae858b0c0453fe76d13c3beac</td>\n      <td>Governance OHM</td>\n      <td>gOHM</td>\n      <td>18</td>\n      <td>2756.217547</td>\n      <td>168240000000000000</td>\n      <td>375.708151</td>\n      <td>withdraw</td>\n      <td>0.168240</td>\n      <td>2022-11-23 23:49:11</td>\n    </tr>\n  </tbody>\n</table>\n<p>36 rows × 21 columns</p>\n</div>"
     },
     "execution_count": 70,
     "metadata": {},
     "output_type": "execute_result"
    }
   ],
   "source": [
    "siloWithdrawEventsDbTimedClean = pd.DataFrame()\n",
    "siloWithdrawsDb['transactionReadableAmount'] = siloWithdrawsDb['transaction_amount']/(10**(siloWithdrawsDb['transaction_asset_decimals']))\n",
    "siloWithdrawsDb['transactionReadableAmount']=siloWithdrawsDb['transactionReadableAmount'].astype('float')\n",
    "siloWithdrawsDb['dateTime'] =(pd.to_datetime(siloWithdrawsDb['transaction_timestamp'],unit='s'))\n",
    "\n",
    "#we only want withdrawals in GOHM from those that borrowed, so drop anyone that is not on that side\n",
    "siloWithdrawsDb.drop(siloWithdrawsDb.loc[siloWithdrawsDb['transaction_market_rates_side']!='BORROWER'].index, inplace=True)\n",
    "siloWithdrawsDb.drop(siloWithdrawsDb.loc[siloWithdrawsDb['transaction_asset_symbol']!='gOHM'].index, inplace=True)\n",
    "\n",
    "siloWithdrawEventsDbTimedClean = siloWithdrawsDb[['event','transaction_hash','transaction_blockNumber','transaction_timestamp','transaction_account_id','transaction_market_id','transaction_asset_name','transaction_asset_symbol', 'transactionReadableAmount','transaction_asset_lastPriceUSD','transaction_amountUSD','dateTime']].copy()\n",
    "siloWithdrawEventsDbTimedClean.sort_values(by=['event','transaction_hash','transaction_blockNumber','transaction_timestamp','transaction_account_id','transaction_market_id','transaction_asset_name','transaction_asset_symbol', 'transactionReadableAmount','transaction_asset_lastPriceUSD','transaction_amountUSD','dateTime'])\n",
    "siloWithdrawEventsDbTimedClean.drop_duplicates(subset=['transaction_hash'],keep='first', inplace=True)\n",
    "siloWithdrawEventsDbTimedClean['calDate'] = siloWithdrawEventsDbTimedClean['dateTime'].dt.normalize()\n",
    "siloWithdrawsDb.head(100)"
   ],
   "metadata": {
    "collapsed": false
   }
  },
  {
   "cell_type": "code",
   "execution_count": 71,
   "outputs": [
    {
     "name": "stdout",
     "output_type": "stream",
     "text": [
      "/Users/ianbrillembourg/Dropbox/Documents/Edgecaser LLC/Projects/Olympus/Econohmetrics/gohmAsStablecoinCollateral/data/siloFinanceGohmWithdraws_piped.csv file saved, 12  records\n"
     ]
    }
   ],
   "source": [
    "path =file+'/siloFinanceGohmWithdraws.csv'\n",
    "siloWithdrawEventsDbTimedClean.to_csv(path, index = False)\n",
    "\n",
    "path =file+'/siloFinanceGohmWithdraws_piped.csv'\n",
    "siloWithdrawEventsDbTimedClean.to_csv(path, index = False, sep='|')\n",
    "print(path, 'file saved,', len(siloWithdrawEventsDbTimedClean),' records')"
   ],
   "metadata": {
    "collapsed": false
   }
  },
  {
   "cell_type": "code",
   "execution_count": 72,
   "outputs": [
    {
     "name": "stdout",
     "output_type": "stream",
     "text": [
      "There has been a total of 182.18 OHM withdrawn cumulatively as collateral  to date\n",
      "That is a value of USD$ 502805.15\n"
     ]
    }
   ],
   "source": [
    "totalWithdrawed = sum(siloWithdrawEventsDbTimedClean['transactionReadableAmount'])\n",
    "print('There has been a total of',round(totalWithdrawed,2),  'OHM withdrawn cumulatively as collateral  to date')\n",
    "totalWithdrawedUSD =sum(siloWithdrawEventsDbTimedClean['transaction_amountUSD'])\n",
    "print('That is a value of USD$',round(totalWithdrawedUSD,2))"
   ],
   "metadata": {
    "collapsed": false
   }
  },
  {
   "cell_type": "code",
   "execution_count": 73,
   "outputs": [
    {
     "name": "stdout",
     "output_type": "stream",
     "text": [
      "370.10253752745757  -  182.17769420239753 = 187.92484332506004 currently deposited as collateral in Silo\n"
     ]
    }
   ],
   "source": [
    "siloCollateralBalance = totalDeposited -(totalWithdrawed)\n",
    "print(totalDeposited, ' - ',totalWithdrawed,'=', siloCollateralBalance, 'currently deposited as collateral in Silo' )"
   ],
   "metadata": {
    "collapsed": false
   }
  },
  {
   "cell_type": "code",
   "execution_count": 73,
   "outputs": [],
   "source": [],
   "metadata": {
    "collapsed": false
   }
  },
  {
   "cell_type": "markdown",
   "source": [
    "********************************************************************\n",
    "********************************************************************\n",
    "VESTA BORROWS - Their API is poo RN"
   ],
   "metadata": {
    "collapsed": false
   }
  },
  {
   "cell_type": "code",
   "execution_count": 74,
   "outputs": [],
   "source": [
    "#https://api.thegraph.com/subgraphs/name/corerouter/vesta-finance\n",
    "vesta = sg.load_api('https://api.thegraph.com/subgraphs/name/shinitakunai/vestafinance-v1_2')"
   ],
   "metadata": {
    "collapsed": false
   }
  },
  {
   "cell_type": "code",
   "execution_count": 75,
   "outputs": [
    {
     "data": {
      "text/plain": "    troveChanges_id                        troveChanges_transaction_id  \\\n0            207939  0x7ff58296a29365afb72fd531d3ab3f893250da5af9c0...   \n1            207855  0x26622d7881d1e12cfa47c0572870b43f5210c31c3bfc...   \n2            207753  0x0c398e38095275bae5c59a56645fb91799f9c656226c...   \n3            207736  0x7c52f11b87402232bb8080a1d07dfcad762fb9f286fb...   \n4            207597  0xa80709a7c7427369c21176d843db524c89fcddebb590...   \n..              ...                                                ...   \n95           194161  0x3bb8d98479b1be2e4a6a894b5b7d478a1fa7e19931e6...   \n96           189406  0x31d911f11cfd60971ba876c1e475a603b3abfa02df94...   \n97           189163  0xf6626640eca3e64db8656d01a2f3e40ab53317d21313...   \n98           184438  0x89b6ceb5723ea6958f0cf65e4d697999a2fe0236026f...   \n99           184231  0xfbe0647202dc36327ae5cade16917a72c7df874fa99a...   \n\n    troveChanges_transaction_blockNumber  troveChanges_debtChange  \\\n0                               63127102               300.000000   \n1                               62955356                 2.994226   \n2                               62733398             53231.980487   \n3                               62701434              2000.000000   \n4                               62485311              1387.031010   \n..                                   ...                      ...   \n95                              52529856                77.999923   \n96                              52370275             20419.210409   \n97                              52363075              1000.999760   \n98                              52076406               456.410463   \n99                              51924666               923.036538   \n\n    troveChanges_transaction_timestamp  \\\n0                           1676990846   \n1                           1676947803   \n2                           1676890169   \n3                           1676882228   \n4                           1676824747   \n..                                 ...   \n95                          1673521814   \n96                          1673462858   \n97                          1673460519   \n98                          1673357696   \n99                          1673299254   \n\n                   troveChanges_trove_owner_id  \\\n0   0xf8a2c6db32b73f762d0f6abc136a20b3f4ccd004   \n1   0x6487d336bdec94d4714a4d217b15aa5c7b9dfa99   \n2   0xa80191fca50be00f8952c69232c93d57eeacaf6f   \n3   0x08c6f0898bf40a9899595304039247b1deeaaf9c   \n4   0xece24f3e222ec85738ecee770bdff74b8f6d7245   \n..                                         ...   \n95  0x9abcd812bffc1ef2e81a2dde75b5ed8809289d9d   \n96  0xf3821b8b4dbe47f4499c88538b5732ddb26c6c0e   \n97  0x6487d336bdec94d4714a4d217b15aa5c7b9dfa99   \n98  0x128e040082f03bbd414d966f8e6e851cc430c643   \n99  0xf7b18e107eb36797f4ce36de756630b9c30969ad   \n\n                   troveChanges_trove_asset_id troveChanges_trove_asset_name  \\\n0   0x8d9ba570d6cb60c7e3e0f31343efe75ab8e65fb1                          gOHM   \n1   0x8d9ba570d6cb60c7e3e0f31343efe75ab8e65fb1                          gOHM   \n2   0x8d9ba570d6cb60c7e3e0f31343efe75ab8e65fb1                          gOHM   \n3   0x8d9ba570d6cb60c7e3e0f31343efe75ab8e65fb1                          gOHM   \n4   0x8d9ba570d6cb60c7e3e0f31343efe75ab8e65fb1                          gOHM   \n..                                         ...                           ...   \n95  0x8d9ba570d6cb60c7e3e0f31343efe75ab8e65fb1                          gOHM   \n96  0x8d9ba570d6cb60c7e3e0f31343efe75ab8e65fb1                          gOHM   \n97  0x8d9ba570d6cb60c7e3e0f31343efe75ab8e65fb1                          gOHM   \n98  0x8d9ba570d6cb60c7e3e0f31343efe75ab8e65fb1                          gOHM   \n99  0x8d9ba570d6cb60c7e3e0f31343efe75ab8e65fb1                          gOHM   \n\n     event             dateTime  \n0   borrow  2023-02-21 14:47:26  \n1   borrow  2023-02-21 02:50:03  \n2   borrow  2023-02-20 10:49:29  \n3   borrow  2023-02-20 08:37:08  \n4   borrow  2023-02-19 16:39:07  \n..     ...                  ...  \n95  borrow  2023-01-12 11:10:14  \n96  borrow  2023-01-11 18:47:38  \n97  borrow  2023-01-11 18:08:39  \n98  borrow  2023-01-10 13:34:56  \n99  borrow  2023-01-09 21:20:54  \n\n[100 rows x 10 columns]",
      "text/html": "<div>\n<style scoped>\n    .dataframe tbody tr th:only-of-type {\n        vertical-align: middle;\n    }\n\n    .dataframe tbody tr th {\n        vertical-align: top;\n    }\n\n    .dataframe thead th {\n        text-align: right;\n    }\n</style>\n<table border=\"1\" class=\"dataframe\">\n  <thead>\n    <tr style=\"text-align: right;\">\n      <th></th>\n      <th>troveChanges_id</th>\n      <th>troveChanges_transaction_id</th>\n      <th>troveChanges_transaction_blockNumber</th>\n      <th>troveChanges_debtChange</th>\n      <th>troveChanges_transaction_timestamp</th>\n      <th>troveChanges_trove_owner_id</th>\n      <th>troveChanges_trove_asset_id</th>\n      <th>troveChanges_trove_asset_name</th>\n      <th>event</th>\n      <th>dateTime</th>\n    </tr>\n  </thead>\n  <tbody>\n    <tr>\n      <th>0</th>\n      <td>207939</td>\n      <td>0x7ff58296a29365afb72fd531d3ab3f893250da5af9c0...</td>\n      <td>63127102</td>\n      <td>300.000000</td>\n      <td>1676990846</td>\n      <td>0xf8a2c6db32b73f762d0f6abc136a20b3f4ccd004</td>\n      <td>0x8d9ba570d6cb60c7e3e0f31343efe75ab8e65fb1</td>\n      <td>gOHM</td>\n      <td>borrow</td>\n      <td>2023-02-21 14:47:26</td>\n    </tr>\n    <tr>\n      <th>1</th>\n      <td>207855</td>\n      <td>0x26622d7881d1e12cfa47c0572870b43f5210c31c3bfc...</td>\n      <td>62955356</td>\n      <td>2.994226</td>\n      <td>1676947803</td>\n      <td>0x6487d336bdec94d4714a4d217b15aa5c7b9dfa99</td>\n      <td>0x8d9ba570d6cb60c7e3e0f31343efe75ab8e65fb1</td>\n      <td>gOHM</td>\n      <td>borrow</td>\n      <td>2023-02-21 02:50:03</td>\n    </tr>\n    <tr>\n      <th>2</th>\n      <td>207753</td>\n      <td>0x0c398e38095275bae5c59a56645fb91799f9c656226c...</td>\n      <td>62733398</td>\n      <td>53231.980487</td>\n      <td>1676890169</td>\n      <td>0xa80191fca50be00f8952c69232c93d57eeacaf6f</td>\n      <td>0x8d9ba570d6cb60c7e3e0f31343efe75ab8e65fb1</td>\n      <td>gOHM</td>\n      <td>borrow</td>\n      <td>2023-02-20 10:49:29</td>\n    </tr>\n    <tr>\n      <th>3</th>\n      <td>207736</td>\n      <td>0x7c52f11b87402232bb8080a1d07dfcad762fb9f286fb...</td>\n      <td>62701434</td>\n      <td>2000.000000</td>\n      <td>1676882228</td>\n      <td>0x08c6f0898bf40a9899595304039247b1deeaaf9c</td>\n      <td>0x8d9ba570d6cb60c7e3e0f31343efe75ab8e65fb1</td>\n      <td>gOHM</td>\n      <td>borrow</td>\n      <td>2023-02-20 08:37:08</td>\n    </tr>\n    <tr>\n      <th>4</th>\n      <td>207597</td>\n      <td>0xa80709a7c7427369c21176d843db524c89fcddebb590...</td>\n      <td>62485311</td>\n      <td>1387.031010</td>\n      <td>1676824747</td>\n      <td>0xece24f3e222ec85738ecee770bdff74b8f6d7245</td>\n      <td>0x8d9ba570d6cb60c7e3e0f31343efe75ab8e65fb1</td>\n      <td>gOHM</td>\n      <td>borrow</td>\n      <td>2023-02-19 16:39:07</td>\n    </tr>\n    <tr>\n      <th>...</th>\n      <td>...</td>\n      <td>...</td>\n      <td>...</td>\n      <td>...</td>\n      <td>...</td>\n      <td>...</td>\n      <td>...</td>\n      <td>...</td>\n      <td>...</td>\n      <td>...</td>\n    </tr>\n    <tr>\n      <th>95</th>\n      <td>194161</td>\n      <td>0x3bb8d98479b1be2e4a6a894b5b7d478a1fa7e19931e6...</td>\n      <td>52529856</td>\n      <td>77.999923</td>\n      <td>1673521814</td>\n      <td>0x9abcd812bffc1ef2e81a2dde75b5ed8809289d9d</td>\n      <td>0x8d9ba570d6cb60c7e3e0f31343efe75ab8e65fb1</td>\n      <td>gOHM</td>\n      <td>borrow</td>\n      <td>2023-01-12 11:10:14</td>\n    </tr>\n    <tr>\n      <th>96</th>\n      <td>189406</td>\n      <td>0x31d911f11cfd60971ba876c1e475a603b3abfa02df94...</td>\n      <td>52370275</td>\n      <td>20419.210409</td>\n      <td>1673462858</td>\n      <td>0xf3821b8b4dbe47f4499c88538b5732ddb26c6c0e</td>\n      <td>0x8d9ba570d6cb60c7e3e0f31343efe75ab8e65fb1</td>\n      <td>gOHM</td>\n      <td>borrow</td>\n      <td>2023-01-11 18:47:38</td>\n    </tr>\n    <tr>\n      <th>97</th>\n      <td>189163</td>\n      <td>0xf6626640eca3e64db8656d01a2f3e40ab53317d21313...</td>\n      <td>52363075</td>\n      <td>1000.999760</td>\n      <td>1673460519</td>\n      <td>0x6487d336bdec94d4714a4d217b15aa5c7b9dfa99</td>\n      <td>0x8d9ba570d6cb60c7e3e0f31343efe75ab8e65fb1</td>\n      <td>gOHM</td>\n      <td>borrow</td>\n      <td>2023-01-11 18:08:39</td>\n    </tr>\n    <tr>\n      <th>98</th>\n      <td>184438</td>\n      <td>0x89b6ceb5723ea6958f0cf65e4d697999a2fe0236026f...</td>\n      <td>52076406</td>\n      <td>456.410463</td>\n      <td>1673357696</td>\n      <td>0x128e040082f03bbd414d966f8e6e851cc430c643</td>\n      <td>0x8d9ba570d6cb60c7e3e0f31343efe75ab8e65fb1</td>\n      <td>gOHM</td>\n      <td>borrow</td>\n      <td>2023-01-10 13:34:56</td>\n    </tr>\n    <tr>\n      <th>99</th>\n      <td>184231</td>\n      <td>0xfbe0647202dc36327ae5cade16917a72c7df874fa99a...</td>\n      <td>51924666</td>\n      <td>923.036538</td>\n      <td>1673299254</td>\n      <td>0xf7b18e107eb36797f4ce36de756630b9c30969ad</td>\n      <td>0x8d9ba570d6cb60c7e3e0f31343efe75ab8e65fb1</td>\n      <td>gOHM</td>\n      <td>borrow</td>\n      <td>2023-01-09 21:20:54</td>\n    </tr>\n  </tbody>\n</table>\n<p>100 rows × 10 columns</p>\n</div>"
     },
     "execution_count": 75,
     "metadata": {},
     "output_type": "execute_result"
    }
   ],
   "source": [
    "oldVestaBorrowsDb = pd.DataFrame()\n",
    "siloFileName = file+'/vesta_borrow_events.csv'\n",
    "try:\n",
    "    oldVestaBorrowsDb = pd.read_csv (siloFileName)\n",
    "except:\n",
    "    oldVestaBorrowsDb = pd.DataFrame()\n",
    "oldVestaBorrowsDb.head(100)"
   ],
   "metadata": {
    "collapsed": false
   }
  },
  {
   "cell_type": "code",
   "execution_count": 76,
   "outputs": [
    {
     "data": {
      "text/plain": "  troveChanges_id                        troveChanges_transaction_id  \\\n0           99981  0xf935941fd9f2518fa2a5f5f8d29dfa38c92fccb25b75...   \n1           99820  0x467b6aa4a3f3d45e9316a143c45bf91c83ed1f662a4b...   \n2            9972  0xfd781bb00f9e6d9599ce7aebda95979bfb902d3d73d2...   \n3           99669  0xe104d6896bf784009bd9aa410f077f9c0a25154ab628...   \n4            9962  0x2fde74916c909648c83e2725fecdc902181371a58c1f...   \n5            9961  0x1ebcd76a95f023492880bf7f7fbf3183e2197dd266a2...   \n6           99531  0xc4558983947cedeace28d691cf9a70d871256ccd9021...   \n7            9924  0x6a478fd975875045387ad810583e8270a25530599a6d...   \n8           99043  0x24f693681f80f12946d463995c424c41f37a01dbd227...   \n9            9896  0xdf29dc3054d53c0c8681ba1e5a9ab72d0dafbcf77de4...   \n\n   troveChanges_transaction_blockNumber  troveChanges_debtChange  \\\n0                              34713629                -0.100000   \n1                              34701032                -0.010000   \n2                              11845437             -2848.848834   \n3                              34691865                -0.100000   \n4                              11842359              -700.000000   \n5                              11841593              -156.000000   \n6                              34681251                -0.020000   \n7                              11835231             -4000.003949   \n8                              34647273            -31300.004280   \n9                              11831764              -222.000000   \n\n   troveChanges_transaction_timestamp  \\\n0                          1667397544   \n1                          1667393421   \n2                          1652313237   \n3                          1667390188   \n4                          1652309981   \n5                          1652309386   \n6                          1667386332   \n7                          1652304099   \n8                          1667374762   \n9                          1652301736   \n\n                  troveChanges_trove_owner_id  \\\n0  0x0561a78021d8966ddd20c28c6c4318d8675ee1f0   \n1  0x0561a78021d8966ddd20c28c6c4318d8675ee1f0   \n2  0x0c20e9958e4eb2d9c112d1469e17ab6c830cde09   \n3  0x0561a78021d8966ddd20c28c6c4318d8675ee1f0   \n4  0xe9f6711b7c92581856e0419399bc4fb9c36ec7e3   \n5  0x20fd6151bb6c78c6b5c89859bd5076dd852cc461   \n6  0x0561a78021d8966ddd20c28c6c4318d8675ee1f0   \n7  0x6688b44ff874e246c441397d60fc169d4972a1ab   \n8  0x0561a78021d8966ddd20c28c6c4318d8675ee1f0   \n9  0x7ff15d6cf1a7bf0efa7435543cf086835fc80d53   \n\n                  troveChanges_trove_asset_id troveChanges_trove_asset_name  \n0  0x8d9ba570d6cb60c7e3e0f31343efe75ab8e65fb1                          gOHM  \n1  0x8d9ba570d6cb60c7e3e0f31343efe75ab8e65fb1                          gOHM  \n2  0x8d9ba570d6cb60c7e3e0f31343efe75ab8e65fb1                          gOHM  \n3  0x8d9ba570d6cb60c7e3e0f31343efe75ab8e65fb1                          gOHM  \n4  0x8d9ba570d6cb60c7e3e0f31343efe75ab8e65fb1                          gOHM  \n5  0x8d9ba570d6cb60c7e3e0f31343efe75ab8e65fb1                          gOHM  \n6  0x8d9ba570d6cb60c7e3e0f31343efe75ab8e65fb1                          gOHM  \n7  0x8d9ba570d6cb60c7e3e0f31343efe75ab8e65fb1                          gOHM  \n8  0x8d9ba570d6cb60c7e3e0f31343efe75ab8e65fb1                          gOHM  \n9  0x8d9ba570d6cb60c7e3e0f31343efe75ab8e65fb1                          gOHM  ",
      "text/html": "<div>\n<style scoped>\n    .dataframe tbody tr th:only-of-type {\n        vertical-align: middle;\n    }\n\n    .dataframe tbody tr th {\n        vertical-align: top;\n    }\n\n    .dataframe thead th {\n        text-align: right;\n    }\n</style>\n<table border=\"1\" class=\"dataframe\">\n  <thead>\n    <tr style=\"text-align: right;\">\n      <th></th>\n      <th>troveChanges_id</th>\n      <th>troveChanges_transaction_id</th>\n      <th>troveChanges_transaction_blockNumber</th>\n      <th>troveChanges_debtChange</th>\n      <th>troveChanges_transaction_timestamp</th>\n      <th>troveChanges_trove_owner_id</th>\n      <th>troveChanges_trove_asset_id</th>\n      <th>troveChanges_trove_asset_name</th>\n    </tr>\n  </thead>\n  <tbody>\n    <tr>\n      <th>0</th>\n      <td>99981</td>\n      <td>0xf935941fd9f2518fa2a5f5f8d29dfa38c92fccb25b75...</td>\n      <td>34713629</td>\n      <td>-0.100000</td>\n      <td>1667397544</td>\n      <td>0x0561a78021d8966ddd20c28c6c4318d8675ee1f0</td>\n      <td>0x8d9ba570d6cb60c7e3e0f31343efe75ab8e65fb1</td>\n      <td>gOHM</td>\n    </tr>\n    <tr>\n      <th>1</th>\n      <td>99820</td>\n      <td>0x467b6aa4a3f3d45e9316a143c45bf91c83ed1f662a4b...</td>\n      <td>34701032</td>\n      <td>-0.010000</td>\n      <td>1667393421</td>\n      <td>0x0561a78021d8966ddd20c28c6c4318d8675ee1f0</td>\n      <td>0x8d9ba570d6cb60c7e3e0f31343efe75ab8e65fb1</td>\n      <td>gOHM</td>\n    </tr>\n    <tr>\n      <th>2</th>\n      <td>9972</td>\n      <td>0xfd781bb00f9e6d9599ce7aebda95979bfb902d3d73d2...</td>\n      <td>11845437</td>\n      <td>-2848.848834</td>\n      <td>1652313237</td>\n      <td>0x0c20e9958e4eb2d9c112d1469e17ab6c830cde09</td>\n      <td>0x8d9ba570d6cb60c7e3e0f31343efe75ab8e65fb1</td>\n      <td>gOHM</td>\n    </tr>\n    <tr>\n      <th>3</th>\n      <td>99669</td>\n      <td>0xe104d6896bf784009bd9aa410f077f9c0a25154ab628...</td>\n      <td>34691865</td>\n      <td>-0.100000</td>\n      <td>1667390188</td>\n      <td>0x0561a78021d8966ddd20c28c6c4318d8675ee1f0</td>\n      <td>0x8d9ba570d6cb60c7e3e0f31343efe75ab8e65fb1</td>\n      <td>gOHM</td>\n    </tr>\n    <tr>\n      <th>4</th>\n      <td>9962</td>\n      <td>0x2fde74916c909648c83e2725fecdc902181371a58c1f...</td>\n      <td>11842359</td>\n      <td>-700.000000</td>\n      <td>1652309981</td>\n      <td>0xe9f6711b7c92581856e0419399bc4fb9c36ec7e3</td>\n      <td>0x8d9ba570d6cb60c7e3e0f31343efe75ab8e65fb1</td>\n      <td>gOHM</td>\n    </tr>\n    <tr>\n      <th>5</th>\n      <td>9961</td>\n      <td>0x1ebcd76a95f023492880bf7f7fbf3183e2197dd266a2...</td>\n      <td>11841593</td>\n      <td>-156.000000</td>\n      <td>1652309386</td>\n      <td>0x20fd6151bb6c78c6b5c89859bd5076dd852cc461</td>\n      <td>0x8d9ba570d6cb60c7e3e0f31343efe75ab8e65fb1</td>\n      <td>gOHM</td>\n    </tr>\n    <tr>\n      <th>6</th>\n      <td>99531</td>\n      <td>0xc4558983947cedeace28d691cf9a70d871256ccd9021...</td>\n      <td>34681251</td>\n      <td>-0.020000</td>\n      <td>1667386332</td>\n      <td>0x0561a78021d8966ddd20c28c6c4318d8675ee1f0</td>\n      <td>0x8d9ba570d6cb60c7e3e0f31343efe75ab8e65fb1</td>\n      <td>gOHM</td>\n    </tr>\n    <tr>\n      <th>7</th>\n      <td>9924</td>\n      <td>0x6a478fd975875045387ad810583e8270a25530599a6d...</td>\n      <td>11835231</td>\n      <td>-4000.003949</td>\n      <td>1652304099</td>\n      <td>0x6688b44ff874e246c441397d60fc169d4972a1ab</td>\n      <td>0x8d9ba570d6cb60c7e3e0f31343efe75ab8e65fb1</td>\n      <td>gOHM</td>\n    </tr>\n    <tr>\n      <th>8</th>\n      <td>99043</td>\n      <td>0x24f693681f80f12946d463995c424c41f37a01dbd227...</td>\n      <td>34647273</td>\n      <td>-31300.004280</td>\n      <td>1667374762</td>\n      <td>0x0561a78021d8966ddd20c28c6c4318d8675ee1f0</td>\n      <td>0x8d9ba570d6cb60c7e3e0f31343efe75ab8e65fb1</td>\n      <td>gOHM</td>\n    </tr>\n    <tr>\n      <th>9</th>\n      <td>9896</td>\n      <td>0xdf29dc3054d53c0c8681ba1e5a9ab72d0dafbcf77de4...</td>\n      <td>11831764</td>\n      <td>-222.000000</td>\n      <td>1652301736</td>\n      <td>0x7ff15d6cf1a7bf0efa7435543cf086835fc80d53</td>\n      <td>0x8d9ba570d6cb60c7e3e0f31343efe75ab8e65fb1</td>\n      <td>gOHM</td>\n    </tr>\n  </tbody>\n</table>\n</div>"
     },
     "execution_count": 76,
     "metadata": {},
     "output_type": "execute_result"
    }
   ],
   "source": [
    "maxVestaBorrowTimestamp = 0\n",
    "try:\n",
    "    maxVestaTroveChangeId = (max(0,oldVestaBorrowsDb['troveChanges_id'].max()))\n",
    "    maxVestaTroveChangeId = int(maxVestaTroveChangeId)\n",
    "    vestaBorrows = vesta.Query.troveChanges(\n",
    "        orderBy='id',\n",
    "        orderDirection='desc',\n",
    "        first=1000,\n",
    "        skip = skipValue,\n",
    "        where= { 'asset': '0x8d9ba570d6cb60c7e3e0f31343efe75ab8e65fb1'  #gOHM market\n",
    "                ,'debtChange_lt':0\n",
    "                ,'id_gte': maxVestaTroveChangeId\n",
    "         }\n",
    "        )\n",
    "    vestaBorrowslist = sg.query_df([\n",
    "            vestaBorrows.id\n",
    "            ,vestaBorrows.transaction.id\n",
    "            ,vestaBorrows.transaction.blockNumber\n",
    "            ,vestaBorrows.debtChange\n",
    "            ,vestaBorrows.transaction.timestamp\n",
    "            ,vestaBorrows.trove.owner.id\n",
    "            ,vestaBorrows.trove.asset.id\n",
    "            ,vestaBorrows.trove.asset.name\n",
    "        ])\n",
    "except:\n",
    "    maxVestaTroveChangeId = 0\n",
    "    vestaBorrows = vesta.Query.troveChanges(\n",
    "        orderBy='id',\n",
    "        orderDirection='desc',\n",
    "        first=1000,\n",
    "        skip = skipValue,\n",
    "        where= { 'asset': '0x8d9ba570d6cb60c7e3e0f31343efe75ab8e65fb1'  #gOHM market\n",
    "                ,'debtChange_lt':0\n",
    "               #,'id_gte': maxVestaTroveChangeId\n",
    "         }\n",
    "    )\n",
    "    vestaBorrowslist = sg.query_df([\n",
    "            vestaBorrows.id\n",
    "            ,vestaBorrows.transaction.id\n",
    "            ,vestaBorrows.transaction.blockNumber\n",
    "            ,vestaBorrows.debtChange\n",
    "            ,vestaBorrows.transaction.timestamp\n",
    "            ,vestaBorrows.trove.owner.id\n",
    "            ,vestaBorrows.trove.asset.id\n",
    "            ,vestaBorrows.trove.asset.name\n",
    "        ])\n",
    "\n",
    "vestaBorrowslist.head(10)"
   ],
   "metadata": {
    "collapsed": false
   }
  },
  {
   "cell_type": "markdown",
   "source": [
    "vestaBorrows = vesta.Query.troveChanges(\n",
    "        orderBy='id',\n",
    "        orderDirection='desc',\n",
    "        first=1000,\n",
    "        skip = skipValue,\n",
    "        where= { 'asset': '0x8d9ba570d6cb60c7e3e0f31343efe75ab8e65fb1'  #gOHM market\n",
    "                ,'debtChange_lt':0\n",
    "                ,'id_gte': maxVestaTroveChangeId\n",
    "         }\n",
    "    )\n",
    "vestaBorrowslist = sg.query_df([\n",
    "        vestaBorrows.id\n",
    "        ,vestaBorrows.transaction.id\n",
    "        ,vestaBorrows.transaction.blockNumber\n",
    "        ,vestaBorrows.debtChange\n",
    "        ,vestaBorrows.transaction.timestamp\n",
    "        ,vestaBorrows.trove.owner.id\n",
    "        ,vestaBorrows.trove.asset.id\n",
    "        ,vestaBorrows.trove.asset.name\n",
    "    ])\n",
    "\n",
    "vestaBorrowslist.head(10)"
   ],
   "metadata": {
    "collapsed": false
   }
  },
  {
   "cell_type": "code",
   "execution_count": 77,
   "outputs": [
    {
     "name": "stdout",
     "output_type": "stream",
     "text": [
      "iterations:  0 Lines skipped:  0 records collected:  1000  - latest recordID:  0x21da8f0687a20a391e7e08c8af41efd288af11da388165d1fe8423ff8468ed59   9966  - vestaBorrows DB length:  1000  - latest record from:  2022-05-11 16:41:54 286 days ago\n",
      "Done. Total Records collected:  1000\n"
     ]
    }
   ],
   "source": [
    "##this captures the list of people who vestaBorrowed XAI against gOHM\n",
    "vestaBorrowTicker = 0\n",
    "vestaBorrowslist = pd.DataFrame()\n",
    "vestaBorrowsDb = pd.DataFrame()\n",
    "vestaBorrowListLength = 1000\n",
    "datediff = 0\n",
    "now=0\n",
    "daysAgo=0\n",
    "#daysLimit = 45\n",
    "exit = False\n",
    "while exit==False:\n",
    "    skipValue = (vestaBorrowTicker)*(1000)\n",
    "    try:\n",
    "        maxVestaTroveChangeId = (max(0,oldVestaBorrowsDb['troveChanges_id'].max()))\n",
    "        maxVestaTroveChangeId = int(maxVestaTroveChangeId)\n",
    "        vestaBorrows = vesta.Query.troveChanges(\n",
    "            orderBy='id',\n",
    "            orderDirection='desc',\n",
    "            first=1000,\n",
    "            skip = skipValue,\n",
    "            where= { 'asset': '0x8d9ba570d6cb60c7e3e0f31343efe75ab8e65fb1'  #gOHM market\n",
    "                    ,'debtChange_gt':0\n",
    "                    ,'id_gte': maxVestaTroveChangeId\n",
    "             }\n",
    "            )\n",
    "        vestaBorrowslist = sg.query_df([\n",
    "                vestaBorrows.id\n",
    "                ,vestaBorrows.transaction.id\n",
    "                ,vestaBorrows.transaction.blockNumber\n",
    "                ,vestaBorrows.debtChange\n",
    "                ,vestaBorrows.transaction.timestamp\n",
    "                ,vestaBorrows.trove.owner.id\n",
    "                ,vestaBorrows.trove.asset.id\n",
    "                ,vestaBorrows.trove.asset.name\n",
    "            ])\n",
    "    except:\n",
    "        maxVestaTroveChangeId = 0\n",
    "        vestaBorrows = vesta.Query.troveChanges(\n",
    "            orderBy='id',\n",
    "            orderDirection='desc',\n",
    "            first=1000,\n",
    "            skip = skipValue,\n",
    "            where= { 'asset': '0x8d9ba570d6cb60c7e3e0f31343efe75ab8e65fb1'  #gOHM market\n",
    "                    ,'debtChange_gt':0\n",
    "                   #,'id_gte': maxVestaTroveChangeId\n",
    "             }\n",
    "        )\n",
    "        vestaBorrowslist = sg.query_df([\n",
    "                vestaBorrows.id\n",
    "                ,vestaBorrows.transaction.id\n",
    "                ,vestaBorrows.transaction.blockNumber\n",
    "                ,vestaBorrows.debtChange\n",
    "                ,vestaBorrows.transaction.timestamp\n",
    "                ,vestaBorrows.trove.owner.id\n",
    "                ,vestaBorrows.trove.asset.id\n",
    "                ,vestaBorrows.trove.asset.name\n",
    "            ])\n",
    "\n",
    "    #vestaBorrowslist.sort_values(by=['vestaBorrows_timestamp'])\n",
    "\n",
    "    vestaBorrowsDb=pd.concat([vestaBorrowsDb, vestaBorrowslist])\n",
    "    recordTimestamp1 = vestaBorrowsDb.iat[vestaBorrowTicker,4]\n",
    "    recordTimestamp = dt.datetime.fromtimestamp( recordTimestamp1 )\n",
    "    now = (int(dt.datetime.utcnow().timestamp()))\n",
    "    datediff=abs(int(now) - recordTimestamp1)\n",
    "    daysAgo = int(datediff/86400)\n",
    "    vestaBorrowsDbLength = len(vestaBorrowsDb)\n",
    "    vestaBorrowListLength = len(vestaBorrowslist)\n",
    "    recordID = vestaBorrowsDb.iat[vestaBorrowTicker,0]\n",
    "    vestaBorrow = vestaBorrowsDb.iat[vestaBorrowTicker,1]\n",
    "    print(\"iterations: \", vestaBorrowTicker, \"Lines skipped: \",skipValue, \"records collected: \", vestaBorrowListLength, \" - latest recordID: \",vestaBorrow, \" \", recordID , \" - vestaBorrows DB length: \", vestaBorrowsDbLength, \" - latest record from: \", recordTimestamp, daysAgo,\"days ago\")\n",
    "    #print(\"iterations: \", vestaBorrowTicker, \"records collected: \", vestaBorrowListLength, \" - userdb length: \", vestaBorrowsDbLength)\n",
    "    vestaBorrowTicker = vestaBorrowTicker+1\n",
    "\n",
    "    if daysAgo>daysLimit: exit =True\n",
    "    if vestaBorrowListLength<1000: exit =True\n",
    "\n",
    "#vestaBorrowsDbTimed.columns = vestaBorrowsDbTimed.columns.str.replace(\"borrows\", \"transaction\")\n",
    "vestaBorrowsDb['event']='borrow'\n",
    "print(\"Done. Total Records collected: \", vestaBorrowsDbLength)"
   ],
   "metadata": {
    "collapsed": false
   }
  },
  {
   "cell_type": "code",
   "execution_count": 78,
   "outputs": [
    {
     "data": {
      "text/plain": "    troveChanges_id                        troveChanges_transaction_id  \\\n0            207939  0x7ff58296a29365afb72fd531d3ab3f893250da5af9c0...   \n1            207855  0x26622d7881d1e12cfa47c0572870b43f5210c31c3bfc...   \n2            207753  0x0c398e38095275bae5c59a56645fb91799f9c656226c...   \n3            207736  0x7c52f11b87402232bb8080a1d07dfcad762fb9f286fb...   \n4            207597  0xa80709a7c7427369c21176d843db524c89fcddebb590...   \n..              ...                                                ...   \n995             321  0xe7a2f919a8b75cdfda3826f235fb6fb09d7fe3a285d2...   \n996             313  0x8a69f94169d23f37811def09cee4008e7305b538a748...   \n997             312  0x3cf08c9c4d3cf6c6a5bfd9bc707237a199ac0eb0559c...   \n998             305  0x54c221378376ddc4b488cf03648bbc0a83ad6f51ca9f...   \n999             297  0xef6497bfc0bb74db4ccfd2165157e93854b542df605f...   \n\n     troveChanges_transaction_blockNumber  troveChanges_debtChange  \\\n0                                63127102               300.000000   \n1                                62955356                 2.994226   \n2                                62733398             53231.980487   \n3                                62701434              2000.000000   \n4                                62485311              1387.031010   \n..                                    ...                      ...   \n995                               5697588              2231.175000   \n996                               5697498             12180.000000   \n997                               5697463               333.750000   \n998                               5697391              1567.755688   \n999                               5697216               384.375000   \n\n     troveChanges_transaction_timestamp  \\\n0                            1676990846   \n1                            1676947803   \n2                            1676890169   \n3                            1676882228   \n4                            1676824747   \n..                                  ...   \n995                          1644385430   \n996                          1644385318   \n997                          1644385225   \n998                          1644385147   \n999                          1644384997   \n\n                    troveChanges_trove_owner_id  \\\n0    0xf8a2c6db32b73f762d0f6abc136a20b3f4ccd004   \n1    0x6487d336bdec94d4714a4d217b15aa5c7b9dfa99   \n2    0xa80191fca50be00f8952c69232c93d57eeacaf6f   \n3    0x08c6f0898bf40a9899595304039247b1deeaaf9c   \n4    0xece24f3e222ec85738ecee770bdff74b8f6d7245   \n..                                          ...   \n995  0x1cb4831b6df1d9cb07279b93a0e101db9b2295d0   \n996  0xf5b4635f3858a2bc80a17bd4450e05a35ad99a72   \n997  0x87209dc4b76b14b67bc5e5e5c0737e7d002a219c   \n998  0x56c6e3385acc23826ef764066fa5a5f422c78e14   \n999  0xb1551981c6d68c28f572a986d4f8bf05252756c3   \n\n                    troveChanges_trove_asset_id troveChanges_trove_asset_name  \\\n0    0x8d9ba570d6cb60c7e3e0f31343efe75ab8e65fb1                          gOHM   \n1    0x8d9ba570d6cb60c7e3e0f31343efe75ab8e65fb1                          gOHM   \n2    0x8d9ba570d6cb60c7e3e0f31343efe75ab8e65fb1                          gOHM   \n3    0x8d9ba570d6cb60c7e3e0f31343efe75ab8e65fb1                          gOHM   \n4    0x8d9ba570d6cb60c7e3e0f31343efe75ab8e65fb1                          gOHM   \n..                                          ...                           ...   \n995  0x8d9ba570d6cb60c7e3e0f31343efe75ab8e65fb1                          gOHM   \n996  0x8d9ba570d6cb60c7e3e0f31343efe75ab8e65fb1                          gOHM   \n997  0x8d9ba570d6cb60c7e3e0f31343efe75ab8e65fb1                          gOHM   \n998  0x8d9ba570d6cb60c7e3e0f31343efe75ab8e65fb1                          gOHM   \n999  0x8d9ba570d6cb60c7e3e0f31343efe75ab8e65fb1                          gOHM   \n\n      event            dateTime  \n0    borrow 2023-02-21 14:47:26  \n1    borrow 2023-02-21 02:50:03  \n2    borrow 2023-02-20 10:49:29  \n3    borrow 2023-02-20 08:37:08  \n4    borrow 2023-02-19 16:39:07  \n..      ...                 ...  \n995  borrow 2022-02-09 05:43:50  \n996  borrow 2022-02-09 05:41:58  \n997  borrow 2022-02-09 05:40:25  \n998  borrow 2022-02-09 05:39:07  \n999  borrow 2022-02-09 05:36:37  \n\n[1000 rows x 10 columns]",
      "text/html": "<div>\n<style scoped>\n    .dataframe tbody tr th:only-of-type {\n        vertical-align: middle;\n    }\n\n    .dataframe tbody tr th {\n        vertical-align: top;\n    }\n\n    .dataframe thead th {\n        text-align: right;\n    }\n</style>\n<table border=\"1\" class=\"dataframe\">\n  <thead>\n    <tr style=\"text-align: right;\">\n      <th></th>\n      <th>troveChanges_id</th>\n      <th>troveChanges_transaction_id</th>\n      <th>troveChanges_transaction_blockNumber</th>\n      <th>troveChanges_debtChange</th>\n      <th>troveChanges_transaction_timestamp</th>\n      <th>troveChanges_trove_owner_id</th>\n      <th>troveChanges_trove_asset_id</th>\n      <th>troveChanges_trove_asset_name</th>\n      <th>event</th>\n      <th>dateTime</th>\n    </tr>\n  </thead>\n  <tbody>\n    <tr>\n      <th>0</th>\n      <td>207939</td>\n      <td>0x7ff58296a29365afb72fd531d3ab3f893250da5af9c0...</td>\n      <td>63127102</td>\n      <td>300.000000</td>\n      <td>1676990846</td>\n      <td>0xf8a2c6db32b73f762d0f6abc136a20b3f4ccd004</td>\n      <td>0x8d9ba570d6cb60c7e3e0f31343efe75ab8e65fb1</td>\n      <td>gOHM</td>\n      <td>borrow</td>\n      <td>2023-02-21 14:47:26</td>\n    </tr>\n    <tr>\n      <th>1</th>\n      <td>207855</td>\n      <td>0x26622d7881d1e12cfa47c0572870b43f5210c31c3bfc...</td>\n      <td>62955356</td>\n      <td>2.994226</td>\n      <td>1676947803</td>\n      <td>0x6487d336bdec94d4714a4d217b15aa5c7b9dfa99</td>\n      <td>0x8d9ba570d6cb60c7e3e0f31343efe75ab8e65fb1</td>\n      <td>gOHM</td>\n      <td>borrow</td>\n      <td>2023-02-21 02:50:03</td>\n    </tr>\n    <tr>\n      <th>2</th>\n      <td>207753</td>\n      <td>0x0c398e38095275bae5c59a56645fb91799f9c656226c...</td>\n      <td>62733398</td>\n      <td>53231.980487</td>\n      <td>1676890169</td>\n      <td>0xa80191fca50be00f8952c69232c93d57eeacaf6f</td>\n      <td>0x8d9ba570d6cb60c7e3e0f31343efe75ab8e65fb1</td>\n      <td>gOHM</td>\n      <td>borrow</td>\n      <td>2023-02-20 10:49:29</td>\n    </tr>\n    <tr>\n      <th>3</th>\n      <td>207736</td>\n      <td>0x7c52f11b87402232bb8080a1d07dfcad762fb9f286fb...</td>\n      <td>62701434</td>\n      <td>2000.000000</td>\n      <td>1676882228</td>\n      <td>0x08c6f0898bf40a9899595304039247b1deeaaf9c</td>\n      <td>0x8d9ba570d6cb60c7e3e0f31343efe75ab8e65fb1</td>\n      <td>gOHM</td>\n      <td>borrow</td>\n      <td>2023-02-20 08:37:08</td>\n    </tr>\n    <tr>\n      <th>4</th>\n      <td>207597</td>\n      <td>0xa80709a7c7427369c21176d843db524c89fcddebb590...</td>\n      <td>62485311</td>\n      <td>1387.031010</td>\n      <td>1676824747</td>\n      <td>0xece24f3e222ec85738ecee770bdff74b8f6d7245</td>\n      <td>0x8d9ba570d6cb60c7e3e0f31343efe75ab8e65fb1</td>\n      <td>gOHM</td>\n      <td>borrow</td>\n      <td>2023-02-19 16:39:07</td>\n    </tr>\n    <tr>\n      <th>...</th>\n      <td>...</td>\n      <td>...</td>\n      <td>...</td>\n      <td>...</td>\n      <td>...</td>\n      <td>...</td>\n      <td>...</td>\n      <td>...</td>\n      <td>...</td>\n      <td>...</td>\n    </tr>\n    <tr>\n      <th>995</th>\n      <td>321</td>\n      <td>0xe7a2f919a8b75cdfda3826f235fb6fb09d7fe3a285d2...</td>\n      <td>5697588</td>\n      <td>2231.175000</td>\n      <td>1644385430</td>\n      <td>0x1cb4831b6df1d9cb07279b93a0e101db9b2295d0</td>\n      <td>0x8d9ba570d6cb60c7e3e0f31343efe75ab8e65fb1</td>\n      <td>gOHM</td>\n      <td>borrow</td>\n      <td>2022-02-09 05:43:50</td>\n    </tr>\n    <tr>\n      <th>996</th>\n      <td>313</td>\n      <td>0x8a69f94169d23f37811def09cee4008e7305b538a748...</td>\n      <td>5697498</td>\n      <td>12180.000000</td>\n      <td>1644385318</td>\n      <td>0xf5b4635f3858a2bc80a17bd4450e05a35ad99a72</td>\n      <td>0x8d9ba570d6cb60c7e3e0f31343efe75ab8e65fb1</td>\n      <td>gOHM</td>\n      <td>borrow</td>\n      <td>2022-02-09 05:41:58</td>\n    </tr>\n    <tr>\n      <th>997</th>\n      <td>312</td>\n      <td>0x3cf08c9c4d3cf6c6a5bfd9bc707237a199ac0eb0559c...</td>\n      <td>5697463</td>\n      <td>333.750000</td>\n      <td>1644385225</td>\n      <td>0x87209dc4b76b14b67bc5e5e5c0737e7d002a219c</td>\n      <td>0x8d9ba570d6cb60c7e3e0f31343efe75ab8e65fb1</td>\n      <td>gOHM</td>\n      <td>borrow</td>\n      <td>2022-02-09 05:40:25</td>\n    </tr>\n    <tr>\n      <th>998</th>\n      <td>305</td>\n      <td>0x54c221378376ddc4b488cf03648bbc0a83ad6f51ca9f...</td>\n      <td>5697391</td>\n      <td>1567.755688</td>\n      <td>1644385147</td>\n      <td>0x56c6e3385acc23826ef764066fa5a5f422c78e14</td>\n      <td>0x8d9ba570d6cb60c7e3e0f31343efe75ab8e65fb1</td>\n      <td>gOHM</td>\n      <td>borrow</td>\n      <td>2022-02-09 05:39:07</td>\n    </tr>\n    <tr>\n      <th>999</th>\n      <td>297</td>\n      <td>0xef6497bfc0bb74db4ccfd2165157e93854b542df605f...</td>\n      <td>5697216</td>\n      <td>384.375000</td>\n      <td>1644384997</td>\n      <td>0xb1551981c6d68c28f572a986d4f8bf05252756c3</td>\n      <td>0x8d9ba570d6cb60c7e3e0f31343efe75ab8e65fb1</td>\n      <td>gOHM</td>\n      <td>borrow</td>\n      <td>2022-02-09 05:36:37</td>\n    </tr>\n  </tbody>\n</table>\n<p>1000 rows × 10 columns</p>\n</div>"
     },
     "execution_count": 78,
     "metadata": {},
     "output_type": "execute_result"
    }
   ],
   "source": [
    "vestaBorrowsDbTimed = db.query(\"select \"\n",
    "               \"    * \"\n",
    "                    \" ,to_timestamp(troveChanges_transaction_timestamp::int) dateTime \"\n",
    "               \"From vestaBorrowsDb \"\n",
    "                               \"order by troveChanges_transaction_timestamp desc\"\n",
    "               ).df()\n",
    "\n",
    "vestaBorrowsDbTimed.head(1000)"
   ],
   "metadata": {
    "collapsed": false
   }
  },
  {
   "cell_type": "code",
   "execution_count": 79,
   "outputs": [
    {
     "data": {
      "text/plain": "   troveChanges_id                        troveChanges_transaction_id  \\\n0           207939  0x7ff58296a29365afb72fd531d3ab3f893250da5af9c0...   \n1           207855  0x26622d7881d1e12cfa47c0572870b43f5210c31c3bfc...   \n2           207753  0x0c398e38095275bae5c59a56645fb91799f9c656226c...   \n3           207736  0x7c52f11b87402232bb8080a1d07dfcad762fb9f286fb...   \n4           207597  0xa80709a7c7427369c21176d843db524c89fcddebb590...   \n..             ...                                                ...   \n95          189406  0x31d911f11cfd60971ba876c1e475a603b3abfa02df94...   \n96          189163  0xf6626640eca3e64db8656d01a2f3e40ab53317d21313...   \n97          184438  0x89b6ceb5723ea6958f0cf65e4d697999a2fe0236026f...   \n98          184231  0xfbe0647202dc36327ae5cade16917a72c7df874fa99a...   \n99          183918  0xb40ec88f498783b65bb78e493d76861adec3357d98f8...   \n\n    troveChanges_transaction_blockNumber  troveChanges_debtChange  \\\n0                               63127102               300.000000   \n1                               62955356                 2.994226   \n2                               62733398             53231.980487   \n3                               62701434              2000.000000   \n4                               62485311              1387.031010   \n..                                   ...                      ...   \n95                              52370275             20419.210409   \n96                              52363075              1000.999760   \n97                              52076406               456.410463   \n98                              51924666               923.036538   \n99                              51701138               300.000000   \n\n    troveChanges_transaction_timestamp  \\\n0                           1676990846   \n1                           1676947803   \n2                           1676890169   \n3                           1676882228   \n4                           1676824747   \n..                                 ...   \n95                          1673462858   \n96                          1673460519   \n97                          1673357696   \n98                          1673299254   \n99                          1673213690   \n\n                   troveChanges_trove_owner_id  \\\n0   0xf8a2c6db32b73f762d0f6abc136a20b3f4ccd004   \n1   0x6487d336bdec94d4714a4d217b15aa5c7b9dfa99   \n2   0xa80191fca50be00f8952c69232c93d57eeacaf6f   \n3   0x08c6f0898bf40a9899595304039247b1deeaaf9c   \n4   0xece24f3e222ec85738ecee770bdff74b8f6d7245   \n..                                         ...   \n95  0xf3821b8b4dbe47f4499c88538b5732ddb26c6c0e   \n96  0x6487d336bdec94d4714a4d217b15aa5c7b9dfa99   \n97  0x128e040082f03bbd414d966f8e6e851cc430c643   \n98  0xf7b18e107eb36797f4ce36de756630b9c30969ad   \n99  0x75528bf6ed683b0ea4823a26d60c4711d6e2f3ec   \n\n                   troveChanges_trove_asset_id troveChanges_trove_asset_name  \\\n0   0x8d9ba570d6cb60c7e3e0f31343efe75ab8e65fb1                          gOHM   \n1   0x8d9ba570d6cb60c7e3e0f31343efe75ab8e65fb1                          gOHM   \n2   0x8d9ba570d6cb60c7e3e0f31343efe75ab8e65fb1                          gOHM   \n3   0x8d9ba570d6cb60c7e3e0f31343efe75ab8e65fb1                          gOHM   \n4   0x8d9ba570d6cb60c7e3e0f31343efe75ab8e65fb1                          gOHM   \n..                                         ...                           ...   \n95  0x8d9ba570d6cb60c7e3e0f31343efe75ab8e65fb1                          gOHM   \n96  0x8d9ba570d6cb60c7e3e0f31343efe75ab8e65fb1                          gOHM   \n97  0x8d9ba570d6cb60c7e3e0f31343efe75ab8e65fb1                          gOHM   \n98  0x8d9ba570d6cb60c7e3e0f31343efe75ab8e65fb1                          gOHM   \n99  0x8d9ba570d6cb60c7e3e0f31343efe75ab8e65fb1                          gOHM   \n\n     event             dateTime  \n0   borrow  2023-02-21 14:47:26  \n1   borrow  2023-02-21 02:50:03  \n2   borrow  2023-02-20 10:49:29  \n3   borrow  2023-02-20 08:37:08  \n4   borrow  2023-02-19 16:39:07  \n..     ...                  ...  \n95  borrow  2023-01-11 18:47:38  \n96  borrow  2023-01-11 18:08:39  \n97  borrow  2023-01-10 13:34:56  \n98  borrow  2023-01-09 21:20:54  \n99  borrow  2023-01-08 21:34:50  \n\n[100 rows x 10 columns]",
      "text/html": "<div>\n<style scoped>\n    .dataframe tbody tr th:only-of-type {\n        vertical-align: middle;\n    }\n\n    .dataframe tbody tr th {\n        vertical-align: top;\n    }\n\n    .dataframe thead th {\n        text-align: right;\n    }\n</style>\n<table border=\"1\" class=\"dataframe\">\n  <thead>\n    <tr style=\"text-align: right;\">\n      <th></th>\n      <th>troveChanges_id</th>\n      <th>troveChanges_transaction_id</th>\n      <th>troveChanges_transaction_blockNumber</th>\n      <th>troveChanges_debtChange</th>\n      <th>troveChanges_transaction_timestamp</th>\n      <th>troveChanges_trove_owner_id</th>\n      <th>troveChanges_trove_asset_id</th>\n      <th>troveChanges_trove_asset_name</th>\n      <th>event</th>\n      <th>dateTime</th>\n    </tr>\n  </thead>\n  <tbody>\n    <tr>\n      <th>0</th>\n      <td>207939</td>\n      <td>0x7ff58296a29365afb72fd531d3ab3f893250da5af9c0...</td>\n      <td>63127102</td>\n      <td>300.000000</td>\n      <td>1676990846</td>\n      <td>0xf8a2c6db32b73f762d0f6abc136a20b3f4ccd004</td>\n      <td>0x8d9ba570d6cb60c7e3e0f31343efe75ab8e65fb1</td>\n      <td>gOHM</td>\n      <td>borrow</td>\n      <td>2023-02-21 14:47:26</td>\n    </tr>\n    <tr>\n      <th>1</th>\n      <td>207855</td>\n      <td>0x26622d7881d1e12cfa47c0572870b43f5210c31c3bfc...</td>\n      <td>62955356</td>\n      <td>2.994226</td>\n      <td>1676947803</td>\n      <td>0x6487d336bdec94d4714a4d217b15aa5c7b9dfa99</td>\n      <td>0x8d9ba570d6cb60c7e3e0f31343efe75ab8e65fb1</td>\n      <td>gOHM</td>\n      <td>borrow</td>\n      <td>2023-02-21 02:50:03</td>\n    </tr>\n    <tr>\n      <th>2</th>\n      <td>207753</td>\n      <td>0x0c398e38095275bae5c59a56645fb91799f9c656226c...</td>\n      <td>62733398</td>\n      <td>53231.980487</td>\n      <td>1676890169</td>\n      <td>0xa80191fca50be00f8952c69232c93d57eeacaf6f</td>\n      <td>0x8d9ba570d6cb60c7e3e0f31343efe75ab8e65fb1</td>\n      <td>gOHM</td>\n      <td>borrow</td>\n      <td>2023-02-20 10:49:29</td>\n    </tr>\n    <tr>\n      <th>3</th>\n      <td>207736</td>\n      <td>0x7c52f11b87402232bb8080a1d07dfcad762fb9f286fb...</td>\n      <td>62701434</td>\n      <td>2000.000000</td>\n      <td>1676882228</td>\n      <td>0x08c6f0898bf40a9899595304039247b1deeaaf9c</td>\n      <td>0x8d9ba570d6cb60c7e3e0f31343efe75ab8e65fb1</td>\n      <td>gOHM</td>\n      <td>borrow</td>\n      <td>2023-02-20 08:37:08</td>\n    </tr>\n    <tr>\n      <th>4</th>\n      <td>207597</td>\n      <td>0xa80709a7c7427369c21176d843db524c89fcddebb590...</td>\n      <td>62485311</td>\n      <td>1387.031010</td>\n      <td>1676824747</td>\n      <td>0xece24f3e222ec85738ecee770bdff74b8f6d7245</td>\n      <td>0x8d9ba570d6cb60c7e3e0f31343efe75ab8e65fb1</td>\n      <td>gOHM</td>\n      <td>borrow</td>\n      <td>2023-02-19 16:39:07</td>\n    </tr>\n    <tr>\n      <th>...</th>\n      <td>...</td>\n      <td>...</td>\n      <td>...</td>\n      <td>...</td>\n      <td>...</td>\n      <td>...</td>\n      <td>...</td>\n      <td>...</td>\n      <td>...</td>\n      <td>...</td>\n    </tr>\n    <tr>\n      <th>95</th>\n      <td>189406</td>\n      <td>0x31d911f11cfd60971ba876c1e475a603b3abfa02df94...</td>\n      <td>52370275</td>\n      <td>20419.210409</td>\n      <td>1673462858</td>\n      <td>0xf3821b8b4dbe47f4499c88538b5732ddb26c6c0e</td>\n      <td>0x8d9ba570d6cb60c7e3e0f31343efe75ab8e65fb1</td>\n      <td>gOHM</td>\n      <td>borrow</td>\n      <td>2023-01-11 18:47:38</td>\n    </tr>\n    <tr>\n      <th>96</th>\n      <td>189163</td>\n      <td>0xf6626640eca3e64db8656d01a2f3e40ab53317d21313...</td>\n      <td>52363075</td>\n      <td>1000.999760</td>\n      <td>1673460519</td>\n      <td>0x6487d336bdec94d4714a4d217b15aa5c7b9dfa99</td>\n      <td>0x8d9ba570d6cb60c7e3e0f31343efe75ab8e65fb1</td>\n      <td>gOHM</td>\n      <td>borrow</td>\n      <td>2023-01-11 18:08:39</td>\n    </tr>\n    <tr>\n      <th>97</th>\n      <td>184438</td>\n      <td>0x89b6ceb5723ea6958f0cf65e4d697999a2fe0236026f...</td>\n      <td>52076406</td>\n      <td>456.410463</td>\n      <td>1673357696</td>\n      <td>0x128e040082f03bbd414d966f8e6e851cc430c643</td>\n      <td>0x8d9ba570d6cb60c7e3e0f31343efe75ab8e65fb1</td>\n      <td>gOHM</td>\n      <td>borrow</td>\n      <td>2023-01-10 13:34:56</td>\n    </tr>\n    <tr>\n      <th>98</th>\n      <td>184231</td>\n      <td>0xfbe0647202dc36327ae5cade16917a72c7df874fa99a...</td>\n      <td>51924666</td>\n      <td>923.036538</td>\n      <td>1673299254</td>\n      <td>0xf7b18e107eb36797f4ce36de756630b9c30969ad</td>\n      <td>0x8d9ba570d6cb60c7e3e0f31343efe75ab8e65fb1</td>\n      <td>gOHM</td>\n      <td>borrow</td>\n      <td>2023-01-09 21:20:54</td>\n    </tr>\n    <tr>\n      <th>99</th>\n      <td>183918</td>\n      <td>0xb40ec88f498783b65bb78e493d76861adec3357d98f8...</td>\n      <td>51701138</td>\n      <td>300.000000</td>\n      <td>1673213690</td>\n      <td>0x75528bf6ed683b0ea4823a26d60c4711d6e2f3ec</td>\n      <td>0x8d9ba570d6cb60c7e3e0f31343efe75ab8e65fb1</td>\n      <td>gOHM</td>\n      <td>borrow</td>\n      <td>2023-01-08 21:34:50</td>\n    </tr>\n  </tbody>\n</table>\n<p>100 rows × 10 columns</p>\n</div>"
     },
     "execution_count": 79,
     "metadata": {},
     "output_type": "execute_result"
    }
   ],
   "source": [
    "vestaBorrowsDbTimed = pd.concat([oldVestaBorrowsDb,vestaBorrowsDbTimed]).drop_duplicates().reset_index(drop=True)\n",
    "vestaBorrowsDbTimed.drop_duplicates()\n",
    "vestaBorrowsDbTimed = db.query(\"select \"\n",
    "               \"    * \"\n",
    "               \"From vestaBorrowsDbTimed \"\n",
    "                         \"group by 1,2,3,4,5,6,7,8,9,10 \"\n",
    "                     # \"order by borrows_amountUSD desc \"\n",
    "               #\"where lower(liquidityPools_name) like lower('%olympus%') \"\n",
    "                #    \"or lower(pairs_token1_symbol) like lower('%OHM%')  \"\n",
    "               #\" limit 100 \"\n",
    "               ).df()\n",
    "\n",
    "vestaBorrowsDbTimed.head(100)"
   ],
   "metadata": {
    "collapsed": false
   }
  },
  {
   "cell_type": "code",
   "execution_count": 80,
   "outputs": [
    {
     "name": "stdout",
     "output_type": "stream",
     "text": [
      "/Users/ianbrillembourg/Dropbox/Documents/Edgecaser LLC/Projects/Olympus/Econohmetrics/gohmAsStablecoinCollateral/data/vesta_borrow_events_piped.csv file saved, 1137  records\n"
     ]
    }
   ],
   "source": [
    "path =file+'/vesta_borrow_events.csv'\n",
    "vestaBorrowsDbTimed.to_csv(path, index = False)\n",
    "\n",
    "path =file+'/vesta_borrow_events_piped.csv'\n",
    "vestaBorrowsDbTimed.to_csv(path, index = False, sep='|')\n",
    "print(path, 'file saved,', len(vestaBorrowsDbTimed),' records')"
   ],
   "metadata": {
    "collapsed": false
   }
  },
  {
   "cell_type": "markdown",
   "source": [
    "************************************************************\n",
    "FINE.... FRAX TOO\n",
    "\n",
    "This subgraph is completely different, so we're going to  have to crunch in order to merge all these tables into coherent reports"
   ],
   "metadata": {
    "collapsed": false
   }
  },
  {
   "cell_type": "code",
   "execution_count": 95,
   "outputs": [],
   "source": [
    "frax = sg.load_api('https://gateway.thegraph.com/api/'+apiKey+'/subgraphs/id/GELTrjPJYEzxyp6Y2CtEaYpGHcJNrJA6i5Ci4KfJSEsf')\n",
    "#frax = sg.load_api('https://api.thegraph.com/subgraphs/name/frax-finance-data/fraxlend-subgraph---mainnet')"
   ],
   "metadata": {
    "collapsed": false
   }
  },
  {
   "cell_type": "code",
   "execution_count": 96,
   "outputs": [
    {
     "data": {
      "text/plain": "Empty DataFrame\nColumns: []\nIndex: []",
      "text/html": "<div>\n<style scoped>\n    .dataframe tbody tr th:only-of-type {\n        vertical-align: middle;\n    }\n\n    .dataframe tbody tr th {\n        vertical-align: top;\n    }\n\n    .dataframe thead th {\n        text-align: right;\n    }\n</style>\n<table border=\"1\" class=\"dataframe\">\n  <thead>\n    <tr style=\"text-align: right;\">\n      <th></th>\n    </tr>\n  </thead>\n  <tbody>\n  </tbody>\n</table>\n</div>"
     },
     "execution_count": 96,
     "metadata": {},
     "output_type": "execute_result"
    }
   ],
   "source": [
    "oldFraxActions = pd.DataFrame()\n",
    "fraxFileName = file+'/frax_actions.csv'\n",
    "try:\n",
    "    oldFraxActions = pd.read_csv (fraxFileName)\n",
    "except:\n",
    "    oldFraxActions = pd.DataFrame()\n",
    "oldFraxActions.head(1000)"
   ],
   "metadata": {
    "collapsed": false
   }
  },
  {
   "cell_type": "code",
   "execution_count": 97,
   "outputs": [
    {
     "data": {
      "text/plain": "Empty DataFrame\nColumns: []\nIndex: []",
      "text/html": "<div>\n<style scoped>\n    .dataframe tbody tr th:only-of-type {\n        vertical-align: middle;\n    }\n\n    .dataframe tbody tr th {\n        vertical-align: top;\n    }\n\n    .dataframe thead th {\n        text-align: right;\n    }\n</style>\n<table border=\"1\" class=\"dataframe\">\n  <thead>\n    <tr style=\"text-align: right;\">\n      <th></th>\n    </tr>\n  </thead>\n  <tbody>\n  </tbody>\n</table>\n</div>"
     },
     "execution_count": 97,
     "metadata": {},
     "output_type": "execute_result"
    }
   ],
   "source": [
    "oldFraxActions = pd.DataFrame()\n",
    "fraxFileName = file+'/frax_borrows.csv'\n",
    "try:\n",
    "    oldFraxActions = pd.read_csv (fraxFileName)\n",
    "except:\n",
    "    oldFraxActions = pd.DataFrame()\n",
    "oldFraxActions.head(1000)"
   ],
   "metadata": {
    "collapsed": false
   }
  },
  {
   "cell_type": "code",
   "execution_count": 98,
   "outputs": [
    {
     "data": {
      "text/plain": "Empty DataFrame\nColumns: []\nIndex: []",
      "text/html": "<div>\n<style scoped>\n    .dataframe tbody tr th:only-of-type {\n        vertical-align: middle;\n    }\n\n    .dataframe tbody tr th {\n        vertical-align: top;\n    }\n\n    .dataframe thead th {\n        text-align: right;\n    }\n</style>\n<table border=\"1\" class=\"dataframe\">\n  <thead>\n    <tr style=\"text-align: right;\">\n      <th></th>\n    </tr>\n  </thead>\n  <tbody>\n  </tbody>\n</table>\n</div>"
     },
     "execution_count": 98,
     "metadata": {},
     "output_type": "execute_result"
    }
   ],
   "source": [
    "oldFraxDeposits = pd.DataFrame()\n",
    "fraxFileName = file+'/frax_deposits.csv'\n",
    "try:\n",
    "    oldFraxActions = pd.read_csv (fraxFileName)\n",
    "except:\n",
    "    oldFraxActions = pd.DataFrame()\n",
    "oldFraxActions.head(1000)"
   ],
   "metadata": {
    "collapsed": false
   }
  },
  {
   "cell_type": "code",
   "execution_count": 99,
   "outputs": [
    {
     "data": {
      "text/plain": "Empty DataFrame\nColumns: []\nIndex: []",
      "text/html": "<div>\n<style scoped>\n    .dataframe tbody tr th:only-of-type {\n        vertical-align: middle;\n    }\n\n    .dataframe tbody tr th {\n        vertical-align: top;\n    }\n\n    .dataframe thead th {\n        text-align: right;\n    }\n</style>\n<table border=\"1\" class=\"dataframe\">\n  <thead>\n    <tr style=\"text-align: right;\">\n      <th></th>\n    </tr>\n  </thead>\n  <tbody>\n  </tbody>\n</table>\n</div>"
     },
     "execution_count": 99,
     "metadata": {},
     "output_type": "execute_result"
    }
   ],
   "source": [
    "oldFraxWithdraws = pd.DataFrame()\n",
    "fraxFileName = file+'/frax_deposits.csv'\n",
    "try:\n",
    "    oldFraxActions = pd.read_csv (fraxFileName)\n",
    "except:\n",
    "    oldFraxActions = pd.DataFrame()\n",
    "oldFraxWithdraws.head(1000)"
   ],
   "metadata": {
    "collapsed": false
   }
  },
  {
   "cell_type": "code",
   "execution_count": 100,
   "outputs": [
    {
     "data": {
      "text/plain": "0"
     },
     "execution_count": 100,
     "metadata": {},
     "output_type": "execute_result"
    }
   ],
   "source": [
    "maxActionFraxTimestamp = 0\n",
    "try:\n",
    "    maxActionFraxTimestamp = (max(1,oldFraxActions['actions_timestamp'].max()))-1\n",
    "except:\n",
    "        maxActionFraxTimestamp = 0\n",
    "maxActionFraxTimestamp = int(maxActionFraxTimestamp)\n",
    "maxActionFraxTimestamp"
   ],
   "metadata": {
    "collapsed": false
   }
  },
  {
   "cell_type": "code",
   "execution_count": 101,
   "outputs": [
    {
     "data": {
      "text/plain": "                                          actions_id   actions_type  \\\n0  0x4437b802baa713bfa7f02667996787221356f632b1e9...    borrowAsset   \n1  0x4437b802baa713bfa7f02667996787221356f632b1e9...  addCollateral   \n\n           actions_amount  actions_timestamp  actions_block  \\\n0  2000000000000000000000         1677000779       16678387   \n1     9933187141283871315         1677000779       16678387   \n\n  actions_token_name                        actions_root_address  \\\n0               Frax  0xf2ba9e4872f03a72a94f8c32e87fc0f2981e19a8   \n1     Governance OHM  0xf2ba9e4872f03a72a94f8c32e87fc0f2981e19a8   \n\n  actions_pair_asset_symbol  actions_pair_asset_decimals  \\\n0                      FRAX                           18   \n1                      FRAX                           18   \n\n  actions_pair_collateral_symbol  actions_pair_collateral_decimals  \\\n0                           gOHM                                18   \n1                           gOHM                                18   \n\n             dateTime  \n0 2023-02-21 17:32:59  \n1 2023-02-21 17:32:59  ",
      "text/html": "<div>\n<style scoped>\n    .dataframe tbody tr th:only-of-type {\n        vertical-align: middle;\n    }\n\n    .dataframe tbody tr th {\n        vertical-align: top;\n    }\n\n    .dataframe thead th {\n        text-align: right;\n    }\n</style>\n<table border=\"1\" class=\"dataframe\">\n  <thead>\n    <tr style=\"text-align: right;\">\n      <th></th>\n      <th>actions_id</th>\n      <th>actions_type</th>\n      <th>actions_amount</th>\n      <th>actions_timestamp</th>\n      <th>actions_block</th>\n      <th>actions_token_name</th>\n      <th>actions_root_address</th>\n      <th>actions_pair_asset_symbol</th>\n      <th>actions_pair_asset_decimals</th>\n      <th>actions_pair_collateral_symbol</th>\n      <th>actions_pair_collateral_decimals</th>\n      <th>dateTime</th>\n    </tr>\n  </thead>\n  <tbody>\n    <tr>\n      <th>0</th>\n      <td>0x4437b802baa713bfa7f02667996787221356f632b1e9...</td>\n      <td>borrowAsset</td>\n      <td>2000000000000000000000</td>\n      <td>1677000779</td>\n      <td>16678387</td>\n      <td>Frax</td>\n      <td>0xf2ba9e4872f03a72a94f8c32e87fc0f2981e19a8</td>\n      <td>FRAX</td>\n      <td>18</td>\n      <td>gOHM</td>\n      <td>18</td>\n      <td>2023-02-21 17:32:59</td>\n    </tr>\n    <tr>\n      <th>1</th>\n      <td>0x4437b802baa713bfa7f02667996787221356f632b1e9...</td>\n      <td>addCollateral</td>\n      <td>9933187141283871315</td>\n      <td>1677000779</td>\n      <td>16678387</td>\n      <td>Governance OHM</td>\n      <td>0xf2ba9e4872f03a72a94f8c32e87fc0f2981e19a8</td>\n      <td>FRAX</td>\n      <td>18</td>\n      <td>gOHM</td>\n      <td>18</td>\n      <td>2023-02-21 17:32:59</td>\n    </tr>\n  </tbody>\n</table>\n</div>"
     },
     "execution_count": 101,
     "metadata": {},
     "output_type": "execute_result"
    }
   ],
   "source": [
    "actionsQuery = frax.Query.actions(\n",
    "     orderBy='timestamp'\n",
    "    ,orderDirection='desc'\n",
    "    ,first=1000\n",
    "    #,where = [frax.Query.actions.token.id == '0x66bf36dba79d4606039f04b32946a260bcd3ff52']\n",
    "    ,where={ 'pair': '0x66bf36dba79d4606039f04b32946a260bcd3ff52'\n",
    "             ,'timestamp_gte': maxBorrowFraxTimestamp\n",
    "             }\n",
    "    #,where = {'positions.pairid':'0x66bf36dba79d4606039f04b32946a260bcd3ff52'}\n",
    "#{'users_positions_pair_id':'0x66bf36dba79d4606039f04b32946a260bcd3ff52'}\n",
    "\n",
    ")\n",
    "actions= sg.query_df([\n",
    "    actionsQuery.id\n",
    "    ,actionsQuery.type\n",
    "    ,actionsQuery.amount\n",
    "    ,actionsQuery.timestamp\n",
    "    ,actionsQuery.block\n",
    "    ,actionsQuery.token.name\n",
    "    ,actionsQuery.root.address\n",
    "    ,actionsQuery.pair.asset.symbol\n",
    "    ,actionsQuery.pair.asset.decimals\n",
    "    ,actionsQuery.pair.collateral.symbol\n",
    "    ,actionsQuery.pair.collateral.decimals\n",
    "    ]\n",
    ")\n",
    "actions['dateTime'] =(pd.to_datetime(actions['actions_timestamp'],unit='s'))\n",
    "actions.head(100)"
   ],
   "metadata": {
    "collapsed": false
   }
  },
  {
   "cell_type": "code",
   "execution_count": 102,
   "outputs": [
    {
     "name": "stdout",
     "output_type": "stream",
     "text": [
      "iterations:  0 Lines skipped:  0 records collected:  2  - latest recordID:  borrowAsset   0x4437b802baa713bfa7f02667996787221356f632b1e96879f14c493c69b98fed+1  - actions DB length:  2  - latest record from:  2023-02-21 09:32:59 0 days ago\n",
      "Done. Total Records collected:  2\n"
     ]
    }
   ],
   "source": [
    "actionListLength=0\n",
    "actionTicker = 0\n",
    "fraxUsersDb = pd.DataFrame()\n",
    "actionsDb = pd.DataFrame()\n",
    "actionListLength = 1000\n",
    "datediff = 0\n",
    "now=0\n",
    "daysAgo=0\n",
    "#daysLimit = 45\n",
    "exit = False\n",
    "while exit==False:\n",
    "    #listLength=0\n",
    "    skipValue = (actionTicker)*(1000)\n",
    "    actionsQuery = frax.Query.actions(\n",
    "         orderBy='timestamp'\n",
    "        ,orderDirection='desc'\n",
    "        ,first=1000\n",
    "        ,skipValue = skipValue\n",
    "        #,where = [frax.Query.actions.token.id == '0x66bf36dba79d4606039f04b32946a260bcd3ff52']\n",
    "        ,where={ 'pair': '0x66bf36dba79d4606039f04b32946a260bcd3ff52'\n",
    "                 ,'timestamp_gte': maxBorrowFraxTimestamp\n",
    "                 }\n",
    "        #,where = {'positions.pairid':'0x66bf36dba79d4606039f04b32946a260bcd3ff52'}\n",
    "    #{'users_positions_pair_id':'0x66bf36dba79d4606039f04b32946a260bcd3ff52'}\n",
    "\n",
    "    )\n",
    "    actions= sg.query_df([\n",
    "        actionsQuery.id\n",
    "        ,actionsQuery.type\n",
    "        ,actionsQuery.amount\n",
    "        ,actionsQuery.timestamp\n",
    "        ,actionsQuery.block\n",
    "        ,actionsQuery.token.name\n",
    "        ,actionsQuery.root.address\n",
    "        ,actionsQuery.pair.asset.symbol\n",
    "        ,actionsQuery.pair.asset.decimals\n",
    "        ,actionsQuery.pair.collateral.symbol\n",
    "        ,actionsQuery.pair.collateral.decimals\n",
    "        ]\n",
    "    )\n",
    "\n",
    "    actions.sort_values(by=['actions_timestamp'])\n",
    "\n",
    "    actionsDb=pd.concat([actionsDb, actions])\n",
    "    recordTimestamp1 = actionsDb.iat[actionTicker,3]\n",
    "    recordTimestamp = dt.datetime.fromtimestamp( recordTimestamp1 )\n",
    "    now = (int(dt.datetime.utcnow().timestamp()))\n",
    "    datediff=abs(int(now) - recordTimestamp1)\n",
    "    daysAgo = int(datediff/86400)\n",
    "    actionsDbLength = len(actionsDb)\n",
    "    actionListLength = len(actions)\n",
    "    recordID = actionsDb.iat[actionTicker,0]\n",
    "    action = actionsDb.iat[actionTicker,1]\n",
    "    print(\"iterations: \", actionTicker, \"Lines skipped: \",skipValue, \"records collected: \", actionListLength, \" - latest recordID: \",action, \" \", recordID , \" - actions DB length: \", actionsDbLength, \" - latest record from: \", recordTimestamp, daysAgo,\"days ago\")\n",
    "    #print(\"iterations: \", actionTicker, \"records collected: \", actionListLength, \" - userdb length: \", actionsDbLength)\n",
    "    if daysAgo>daysLimit: exit =True\n",
    "    if actionListLength<1000: exit =True\n",
    "    actionTicker = actionTicker+1\n",
    "actionsDb['DateTime']=(pd.to_datetime(actionsDb['actions_timestamp'],unit='s'))\n",
    "print(\"Done. Total Records collected: \", actionsDbLength)"
   ],
   "metadata": {
    "collapsed": false
   }
  },
  {
   "cell_type": "code",
   "execution_count": 103,
   "outputs": [
    {
     "data": {
      "text/plain": "                                          actions_id   actions_type  \\\n0  0x4437b802baa713bfa7f02667996787221356f632b1e9...    borrowAsset   \n1  0x4437b802baa713bfa7f02667996787221356f632b1e9...  addCollateral   \n\n           actions_amount  actions_timestamp  actions_block  \\\n0  2000000000000000000000         1677000779       16678387   \n1     9933187141283871315         1677000779       16678387   \n\n  actions_token_name                        actions_root_address  \\\n0               Frax  0xf2ba9e4872f03a72a94f8c32e87fc0f2981e19a8   \n1     Governance OHM  0xf2ba9e4872f03a72a94f8c32e87fc0f2981e19a8   \n\n  actions_pair_asset_symbol  actions_pair_asset_decimals  \\\n0                      FRAX                           18   \n1                      FRAX                           18   \n\n  actions_pair_collateral_symbol  actions_pair_collateral_decimals  \\\n0                           gOHM                                18   \n1                           gOHM                                18   \n\n             DateTime  transactionReadableAmount  \n0 2023-02-21 17:32:59                2000.000000  \n1 2023-02-21 17:32:59                   9.933187  ",
      "text/html": "<div>\n<style scoped>\n    .dataframe tbody tr th:only-of-type {\n        vertical-align: middle;\n    }\n\n    .dataframe tbody tr th {\n        vertical-align: top;\n    }\n\n    .dataframe thead th {\n        text-align: right;\n    }\n</style>\n<table border=\"1\" class=\"dataframe\">\n  <thead>\n    <tr style=\"text-align: right;\">\n      <th></th>\n      <th>actions_id</th>\n      <th>actions_type</th>\n      <th>actions_amount</th>\n      <th>actions_timestamp</th>\n      <th>actions_block</th>\n      <th>actions_token_name</th>\n      <th>actions_root_address</th>\n      <th>actions_pair_asset_symbol</th>\n      <th>actions_pair_asset_decimals</th>\n      <th>actions_pair_collateral_symbol</th>\n      <th>actions_pair_collateral_decimals</th>\n      <th>DateTime</th>\n      <th>transactionReadableAmount</th>\n    </tr>\n  </thead>\n  <tbody>\n    <tr>\n      <th>0</th>\n      <td>0x4437b802baa713bfa7f02667996787221356f632b1e9...</td>\n      <td>borrowAsset</td>\n      <td>2000000000000000000000</td>\n      <td>1677000779</td>\n      <td>16678387</td>\n      <td>Frax</td>\n      <td>0xf2ba9e4872f03a72a94f8c32e87fc0f2981e19a8</td>\n      <td>FRAX</td>\n      <td>18</td>\n      <td>gOHM</td>\n      <td>18</td>\n      <td>2023-02-21 17:32:59</td>\n      <td>2000.000000</td>\n    </tr>\n    <tr>\n      <th>1</th>\n      <td>0x4437b802baa713bfa7f02667996787221356f632b1e9...</td>\n      <td>addCollateral</td>\n      <td>9933187141283871315</td>\n      <td>1677000779</td>\n      <td>16678387</td>\n      <td>Governance OHM</td>\n      <td>0xf2ba9e4872f03a72a94f8c32e87fc0f2981e19a8</td>\n      <td>FRAX</td>\n      <td>18</td>\n      <td>gOHM</td>\n      <td>18</td>\n      <td>2023-02-21 17:32:59</td>\n      <td>9.933187</td>\n    </tr>\n  </tbody>\n</table>\n</div>"
     },
     "execution_count": 103,
     "metadata": {},
     "output_type": "execute_result"
    }
   ],
   "source": [
    "actionsDb['transactionReadableAmount'] = actionsDb['actions_amount']/(10**(actionsDb['actions_pair_asset_decimals']))\n",
    "actionsDb['transactionReadableAmount']=actionsDb['transactionReadableAmount'].astype('float')\n",
    "actionsDb.head(2000)"
   ],
   "metadata": {
    "collapsed": false
   }
  },
  {
   "cell_type": "code",
   "execution_count": 104,
   "outputs": [
    {
     "data": {
      "text/plain": "                                          actions_id   actions_type  \\\n0  0x4437b802baa713bfa7f02667996787221356f632b1e9...    borrowAsset   \n1  0x4437b802baa713bfa7f02667996787221356f632b1e9...  addCollateral   \n\n           actions_amount  actions_timestamp  actions_block  \\\n0  2000000000000000000000         1677000779       16678387   \n1     9933187141283871315         1677000779       16678387   \n\n  actions_token_name                        actions_root_address  \\\n0               Frax  0xf2ba9e4872f03a72a94f8c32e87fc0f2981e19a8   \n1     Governance OHM  0xf2ba9e4872f03a72a94f8c32e87fc0f2981e19a8   \n\n  actions_pair_asset_symbol  actions_pair_asset_decimals  \\\n0                      FRAX                           18   \n1                      FRAX                           18   \n\n  actions_pair_collateral_symbol  actions_pair_collateral_decimals  \\\n0                           gOHM                                18   \n1                           gOHM                                18   \n\n             DateTime  transactionReadableAmount  \n0 2023-02-21 17:32:59                2000.000000  \n1 2023-02-21 17:32:59                   9.933187  ",
      "text/html": "<div>\n<style scoped>\n    .dataframe tbody tr th:only-of-type {\n        vertical-align: middle;\n    }\n\n    .dataframe tbody tr th {\n        vertical-align: top;\n    }\n\n    .dataframe thead th {\n        text-align: right;\n    }\n</style>\n<table border=\"1\" class=\"dataframe\">\n  <thead>\n    <tr style=\"text-align: right;\">\n      <th></th>\n      <th>actions_id</th>\n      <th>actions_type</th>\n      <th>actions_amount</th>\n      <th>actions_timestamp</th>\n      <th>actions_block</th>\n      <th>actions_token_name</th>\n      <th>actions_root_address</th>\n      <th>actions_pair_asset_symbol</th>\n      <th>actions_pair_asset_decimals</th>\n      <th>actions_pair_collateral_symbol</th>\n      <th>actions_pair_collateral_decimals</th>\n      <th>DateTime</th>\n      <th>transactionReadableAmount</th>\n    </tr>\n  </thead>\n  <tbody>\n    <tr>\n      <th>0</th>\n      <td>0x4437b802baa713bfa7f02667996787221356f632b1e9...</td>\n      <td>borrowAsset</td>\n      <td>2000000000000000000000</td>\n      <td>1677000779</td>\n      <td>16678387</td>\n      <td>Frax</td>\n      <td>0xf2ba9e4872f03a72a94f8c32e87fc0f2981e19a8</td>\n      <td>FRAX</td>\n      <td>18</td>\n      <td>gOHM</td>\n      <td>18</td>\n      <td>2023-02-21 17:32:59</td>\n      <td>2000.000000</td>\n    </tr>\n    <tr>\n      <th>1</th>\n      <td>0x4437b802baa713bfa7f02667996787221356f632b1e9...</td>\n      <td>addCollateral</td>\n      <td>9933187141283871315</td>\n      <td>1677000779</td>\n      <td>16678387</td>\n      <td>Governance OHM</td>\n      <td>0xf2ba9e4872f03a72a94f8c32e87fc0f2981e19a8</td>\n      <td>FRAX</td>\n      <td>18</td>\n      <td>gOHM</td>\n      <td>18</td>\n      <td>2023-02-21 17:32:59</td>\n      <td>9.933187</td>\n    </tr>\n  </tbody>\n</table>\n</div>"
     },
     "execution_count": 104,
     "metadata": {},
     "output_type": "execute_result"
    }
   ],
   "source": [
    "fraxActionsDb= pd.DataFrame()\n",
    "fraxActionsDbTimed =pd.concat([actionsDb, oldFraxActions])\n",
    "fraxActionsDbTimed.head(1000)"
   ],
   "metadata": {
    "collapsed": false
   }
  },
  {
   "cell_type": "code",
   "execution_count": 105,
   "outputs": [
    {
     "name": "stdout",
     "output_type": "stream",
     "text": [
      "/Users/ianbrillembourg/Dropbox/Documents/Edgecaser LLC/Projects/Olympus/Econohmetrics/gohmAsStablecoinCollateral/data/frax_borrows_piped.csv file saved, 2  records at 2023-02-21 11:38:27.439032\n"
     ]
    }
   ],
   "source": [
    "fraxActionsDbTimedLength = len(fraxActionsDbTimed)\n",
    "path =file+'/frax_borrows.csv'\n",
    "fraxActionsDbTimed.to_csv(path, index = False)\n",
    "\n",
    "path =file+'/frax_borrows_piped.csv'\n",
    "fraxActionsDbTimed.to_csv(path, index = False, sep='|')\n",
    "\n",
    "print(path, 'file saved,', fraxActionsDbTimedLength,' records at', (dt.datetime.now()) )\n"
   ],
   "metadata": {
    "collapsed": false
   }
  },
  {
   "cell_type": "code",
   "execution_count": 106,
   "outputs": [
    {
     "data": {
      "text/plain": "                                          actions_id   actions_type  \\\n0  0x4437b802baa713bfa7f02667996787221356f632b1e9...    borrowAsset   \n1  0x4437b802baa713bfa7f02667996787221356f632b1e9...  addCollateral   \n\n           actions_amount  actions_timestamp  actions_block  \\\n0  2000000000000000000000         1677000779       16678387   \n1     9933187141283871315         1677000779       16678387   \n\n  actions_token_name                        actions_root_address  \\\n0               Frax  0xf2ba9e4872f03a72a94f8c32e87fc0f2981e19a8   \n1     Governance OHM  0xf2ba9e4872f03a72a94f8c32e87fc0f2981e19a8   \n\n  actions_pair_asset_symbol  actions_pair_asset_decimals  \\\n0                      FRAX                           18   \n1                      FRAX                           18   \n\n  actions_pair_collateral_symbol  actions_pair_collateral_decimals  \\\n0                           gOHM                                18   \n1                           gOHM                                18   \n\n             DateTime  transactionReadableAmount  \n0 2023-02-21 17:32:59                2000.000000  \n1 2023-02-21 17:32:59                   9.933187  ",
      "text/html": "<div>\n<style scoped>\n    .dataframe tbody tr th:only-of-type {\n        vertical-align: middle;\n    }\n\n    .dataframe tbody tr th {\n        vertical-align: top;\n    }\n\n    .dataframe thead th {\n        text-align: right;\n    }\n</style>\n<table border=\"1\" class=\"dataframe\">\n  <thead>\n    <tr style=\"text-align: right;\">\n      <th></th>\n      <th>actions_id</th>\n      <th>actions_type</th>\n      <th>actions_amount</th>\n      <th>actions_timestamp</th>\n      <th>actions_block</th>\n      <th>actions_token_name</th>\n      <th>actions_root_address</th>\n      <th>actions_pair_asset_symbol</th>\n      <th>actions_pair_asset_decimals</th>\n      <th>actions_pair_collateral_symbol</th>\n      <th>actions_pair_collateral_decimals</th>\n      <th>DateTime</th>\n      <th>transactionReadableAmount</th>\n    </tr>\n  </thead>\n  <tbody>\n    <tr>\n      <th>0</th>\n      <td>0x4437b802baa713bfa7f02667996787221356f632b1e9...</td>\n      <td>borrowAsset</td>\n      <td>2000000000000000000000</td>\n      <td>1677000779</td>\n      <td>16678387</td>\n      <td>Frax</td>\n      <td>0xf2ba9e4872f03a72a94f8c32e87fc0f2981e19a8</td>\n      <td>FRAX</td>\n      <td>18</td>\n      <td>gOHM</td>\n      <td>18</td>\n      <td>2023-02-21 17:32:59</td>\n      <td>2000.000000</td>\n    </tr>\n    <tr>\n      <th>1</th>\n      <td>0x4437b802baa713bfa7f02667996787221356f632b1e9...</td>\n      <td>addCollateral</td>\n      <td>9933187141283871315</td>\n      <td>1677000779</td>\n      <td>16678387</td>\n      <td>Governance OHM</td>\n      <td>0xf2ba9e4872f03a72a94f8c32e87fc0f2981e19a8</td>\n      <td>FRAX</td>\n      <td>18</td>\n      <td>gOHM</td>\n      <td>18</td>\n      <td>2023-02-21 17:32:59</td>\n      <td>9.933187</td>\n    </tr>\n  </tbody>\n</table>\n</div>"
     },
     "execution_count": 106,
     "metadata": {},
     "output_type": "execute_result"
    }
   ],
   "source": [
    "fraxActionsDbTimed.head(10)"
   ],
   "metadata": {
    "collapsed": false
   }
  },
  {
   "cell_type": "code",
   "execution_count": 107,
   "outputs": [],
   "source": [
    "#we might as well create all the DBs here and save ourselves time and grief\n",
    "fraxBorrowsDbTimed = pd.DataFrame()\n",
    "fraxBorrowsDbTimed = db.query(\"Select distinct * from fraxActionsDbTimed where actions_type = 'borrowAsset' and actions_pair_collateral_symbol= 'gOHM' and right(actions_id,2)<>'+1' \").df()\n",
    "\n",
    "fraxDepositsDbTimed = pd.DataFrame()\n",
    "fraxDepositsDbTimed =fraxBorrows = db.query(\"Select distinct * from fraxActionsDbTimed where actions_type = 'addCollateral' and actions_pair_collateral_symbol= 'gOHM' and right(actions_id,2)<>'+1' \").df()\n",
    "\n",
    "fraxWithdrawsDbTimed = pd.DataFrame()\n",
    "fraxWithdrawsDbTimed = db.query(\"Select distinct * from fraxActionsDbTimed where actions_type = 'removeCollateral' and actions_pair_collateral_symbol= 'gOHM' and right(actions_id,2)<>'+1' \").df()"
   ],
   "metadata": {
    "collapsed": false
   }
  },
  {
   "cell_type": "code",
   "execution_count": 108,
   "outputs": [
    {
     "data": {
      "text/plain": "Empty DataFrame\nColumns: [actions_id, actions_type, actions_amount, actions_timestamp, actions_block, actions_token_name, actions_root_address, actions_pair_asset_symbol, actions_pair_asset_decimals, actions_pair_collateral_symbol, actions_pair_collateral_decimals, DateTime, transactionReadableAmount]\nIndex: []",
      "text/html": "<div>\n<style scoped>\n    .dataframe tbody tr th:only-of-type {\n        vertical-align: middle;\n    }\n\n    .dataframe tbody tr th {\n        vertical-align: top;\n    }\n\n    .dataframe thead th {\n        text-align: right;\n    }\n</style>\n<table border=\"1\" class=\"dataframe\">\n  <thead>\n    <tr style=\"text-align: right;\">\n      <th></th>\n      <th>actions_id</th>\n      <th>actions_type</th>\n      <th>actions_amount</th>\n      <th>actions_timestamp</th>\n      <th>actions_block</th>\n      <th>actions_token_name</th>\n      <th>actions_root_address</th>\n      <th>actions_pair_asset_symbol</th>\n      <th>actions_pair_asset_decimals</th>\n      <th>actions_pair_collateral_symbol</th>\n      <th>actions_pair_collateral_decimals</th>\n      <th>DateTime</th>\n      <th>transactionReadableAmount</th>\n    </tr>\n  </thead>\n  <tbody>\n  </tbody>\n</table>\n</div>"
     },
     "execution_count": 108,
     "metadata": {},
     "output_type": "execute_result"
    }
   ],
   "source": [
    "fraxBorrowsDbTimed.head(1000)"
   ],
   "metadata": {
    "collapsed": false
   }
  },
  {
   "cell_type": "code",
   "execution_count": 109,
   "outputs": [
    {
     "data": {
      "text/plain": "                                          actions_id   actions_type  \\\n0  0x4437b802baa713bfa7f02667996787221356f632b1e9...  addCollateral   \n\n   actions_amount  actions_timestamp  actions_block actions_token_name  \\\n0    9.933187e+18         1677000779       16678387     Governance OHM   \n\n                         actions_root_address actions_pair_asset_symbol  \\\n0  0xf2ba9e4872f03a72a94f8c32e87fc0f2981e19a8                      FRAX   \n\n   actions_pair_asset_decimals actions_pair_collateral_symbol  \\\n0                           18                           gOHM   \n\n   actions_pair_collateral_decimals            DateTime  \\\n0                                18 2023-02-21 17:32:59   \n\n   transactionReadableAmount  \n0                   9.933187  ",
      "text/html": "<div>\n<style scoped>\n    .dataframe tbody tr th:only-of-type {\n        vertical-align: middle;\n    }\n\n    .dataframe tbody tr th {\n        vertical-align: top;\n    }\n\n    .dataframe thead th {\n        text-align: right;\n    }\n</style>\n<table border=\"1\" class=\"dataframe\">\n  <thead>\n    <tr style=\"text-align: right;\">\n      <th></th>\n      <th>actions_id</th>\n      <th>actions_type</th>\n      <th>actions_amount</th>\n      <th>actions_timestamp</th>\n      <th>actions_block</th>\n      <th>actions_token_name</th>\n      <th>actions_root_address</th>\n      <th>actions_pair_asset_symbol</th>\n      <th>actions_pair_asset_decimals</th>\n      <th>actions_pair_collateral_symbol</th>\n      <th>actions_pair_collateral_decimals</th>\n      <th>DateTime</th>\n      <th>transactionReadableAmount</th>\n    </tr>\n  </thead>\n  <tbody>\n    <tr>\n      <th>0</th>\n      <td>0x4437b802baa713bfa7f02667996787221356f632b1e9...</td>\n      <td>addCollateral</td>\n      <td>9.933187e+18</td>\n      <td>1677000779</td>\n      <td>16678387</td>\n      <td>Governance OHM</td>\n      <td>0xf2ba9e4872f03a72a94f8c32e87fc0f2981e19a8</td>\n      <td>FRAX</td>\n      <td>18</td>\n      <td>gOHM</td>\n      <td>18</td>\n      <td>2023-02-21 17:32:59</td>\n      <td>9.933187</td>\n    </tr>\n  </tbody>\n</table>\n</div>"
     },
     "execution_count": 109,
     "metadata": {},
     "output_type": "execute_result"
    }
   ],
   "source": [
    "fraxDepositsDbTimed.head(1000)"
   ],
   "metadata": {
    "collapsed": false
   }
  },
  {
   "cell_type": "code",
   "execution_count": 110,
   "outputs": [
    {
     "data": {
      "text/plain": "Empty DataFrame\nColumns: [actions_id, actions_type, actions_amount, actions_timestamp, actions_block, actions_token_name, actions_root_address, actions_pair_asset_symbol, actions_pair_asset_decimals, actions_pair_collateral_symbol, actions_pair_collateral_decimals, DateTime, transactionReadableAmount]\nIndex: []",
      "text/html": "<div>\n<style scoped>\n    .dataframe tbody tr th:only-of-type {\n        vertical-align: middle;\n    }\n\n    .dataframe tbody tr th {\n        vertical-align: top;\n    }\n\n    .dataframe thead th {\n        text-align: right;\n    }\n</style>\n<table border=\"1\" class=\"dataframe\">\n  <thead>\n    <tr style=\"text-align: right;\">\n      <th></th>\n      <th>actions_id</th>\n      <th>actions_type</th>\n      <th>actions_amount</th>\n      <th>actions_timestamp</th>\n      <th>actions_block</th>\n      <th>actions_token_name</th>\n      <th>actions_root_address</th>\n      <th>actions_pair_asset_symbol</th>\n      <th>actions_pair_asset_decimals</th>\n      <th>actions_pair_collateral_symbol</th>\n      <th>actions_pair_collateral_decimals</th>\n      <th>DateTime</th>\n      <th>transactionReadableAmount</th>\n    </tr>\n  </thead>\n  <tbody>\n  </tbody>\n</table>\n</div>"
     },
     "execution_count": 110,
     "metadata": {},
     "output_type": "execute_result"
    }
   ],
   "source": [
    "fraxWithdrawsDbTimed.head(10)"
   ],
   "metadata": {
    "collapsed": false
   }
  },
  {
   "cell_type": "code",
   "execution_count": 111,
   "outputs": [
    {
     "data": {
      "text/plain": "                                          actions_id   actions_type  \\\n0  0x4437b802baa713bfa7f02667996787221356f632b1e9...    borrowAsset   \n1  0x4437b802baa713bfa7f02667996787221356f632b1e9...  addCollateral   \n\n           actions_amount  actions_timestamp  actions_block  \\\n0  2000000000000000000000         1677000779       16678387   \n1     9933187141283871315         1677000779       16678387   \n\n  actions_token_name                        actions_root_address  \\\n0               Frax  0xf2ba9e4872f03a72a94f8c32e87fc0f2981e19a8   \n1     Governance OHM  0xf2ba9e4872f03a72a94f8c32e87fc0f2981e19a8   \n\n  actions_pair_asset_symbol  actions_pair_asset_decimals  \\\n0                      FRAX                           18   \n1                      FRAX                           18   \n\n  actions_pair_collateral_symbol  actions_pair_collateral_decimals  \\\n0                           gOHM                                18   \n1                           gOHM                                18   \n\n             DateTime  transactionReadableAmount  \n0 2023-02-21 17:32:59                2000.000000  \n1 2023-02-21 17:32:59                   9.933187  ",
      "text/html": "<div>\n<style scoped>\n    .dataframe tbody tr th:only-of-type {\n        vertical-align: middle;\n    }\n\n    .dataframe tbody tr th {\n        vertical-align: top;\n    }\n\n    .dataframe thead th {\n        text-align: right;\n    }\n</style>\n<table border=\"1\" class=\"dataframe\">\n  <thead>\n    <tr style=\"text-align: right;\">\n      <th></th>\n      <th>actions_id</th>\n      <th>actions_type</th>\n      <th>actions_amount</th>\n      <th>actions_timestamp</th>\n      <th>actions_block</th>\n      <th>actions_token_name</th>\n      <th>actions_root_address</th>\n      <th>actions_pair_asset_symbol</th>\n      <th>actions_pair_asset_decimals</th>\n      <th>actions_pair_collateral_symbol</th>\n      <th>actions_pair_collateral_decimals</th>\n      <th>DateTime</th>\n      <th>transactionReadableAmount</th>\n    </tr>\n  </thead>\n  <tbody>\n    <tr>\n      <th>0</th>\n      <td>0x4437b802baa713bfa7f02667996787221356f632b1e9...</td>\n      <td>borrowAsset</td>\n      <td>2000000000000000000000</td>\n      <td>1677000779</td>\n      <td>16678387</td>\n      <td>Frax</td>\n      <td>0xf2ba9e4872f03a72a94f8c32e87fc0f2981e19a8</td>\n      <td>FRAX</td>\n      <td>18</td>\n      <td>gOHM</td>\n      <td>18</td>\n      <td>2023-02-21 17:32:59</td>\n      <td>2000.000000</td>\n    </tr>\n    <tr>\n      <th>1</th>\n      <td>0x4437b802baa713bfa7f02667996787221356f632b1e9...</td>\n      <td>addCollateral</td>\n      <td>9933187141283871315</td>\n      <td>1677000779</td>\n      <td>16678387</td>\n      <td>Governance OHM</td>\n      <td>0xf2ba9e4872f03a72a94f8c32e87fc0f2981e19a8</td>\n      <td>FRAX</td>\n      <td>18</td>\n      <td>gOHM</td>\n      <td>18</td>\n      <td>2023-02-21 17:32:59</td>\n      <td>9.933187</td>\n    </tr>\n  </tbody>\n</table>\n</div>"
     },
     "execution_count": 111,
     "metadata": {},
     "output_type": "execute_result"
    }
   ],
   "source": [
    "#fraxActionsDbTimed = pd.concat([oldFraxBorrows,fraxBorrowsDbTimed]).drop_duplicates().reset_index(drop=True)\n",
    "fraxActionsDbTimed.sort_values(['actions_id','actions_type','actions_amount','actions_timestamp','actions_block','actions_token_name','actions_root_address','DateTime'])\n",
    "fraxActionsDbTimed.drop_duplicates(keep='first' )\n",
    "fraxActionsDbTimed.head(100)"
   ],
   "metadata": {
    "collapsed": false
   }
  },
  {
   "cell_type": "code",
   "execution_count": 112,
   "outputs": [
    {
     "name": "stdout",
     "output_type": "stream",
     "text": [
      "/Users/ianbrillembourg/Dropbox/Documents/Edgecaser LLC/Projects/Olympus/Econohmetrics/gohmAsStablecoinCollateral/data/frax_actions_piped.csv file saved, 2  records at 2023-02-21 11:38:27.546916\n"
     ]
    }
   ],
   "source": [
    "fraxActionsDbTimedLength = len(fraxActionsDbTimed)\n",
    "path =file+'/frax_actions.csv'\n",
    "fraxActionsDbTimed.to_csv(path, index = False)\n",
    "\n",
    "path =file+'/frax_actions_piped.csv'\n",
    "fraxActionsDbTimed.to_csv(path, index = False, sep='|')\n",
    "\n",
    "print(path, 'file saved,', fraxActionsDbTimedLength,' records at', (dt.datetime.now()) )"
   ],
   "metadata": {
    "collapsed": false
   }
  },
  {
   "cell_type": "code",
   "execution_count": 113,
   "outputs": [
    {
     "name": "stdout",
     "output_type": "stream",
     "text": [
      "/Users/ianbrillembourg/Dropbox/Documents/Edgecaser LLC/Projects/Olympus/Econohmetrics/gohmAsStablecoinCollateral/data/frax_borrows_piped.csv file saved, 2  records at 2023-02-21 11:38:27.554153\n"
     ]
    }
   ],
   "source": [
    "fraxBorrowsDbTimedLength = len(fraxBorrowsDbTimed)\n",
    "path =file+'/frax_borrows.csv'\n",
    "fraxBorrowsDbTimed.to_csv(path, index = False)\n",
    "\n",
    "path =file+'/frax_borrows_piped.csv'\n",
    "fraxBorrowsDbTimed.to_csv(path, index = False, sep='|')\n",
    "\n",
    "print(path, 'file saved,', fraxActionsDbTimedLength,' records at', (dt.datetime.now()) )"
   ],
   "metadata": {
    "collapsed": false
   }
  },
  {
   "cell_type": "code",
   "execution_count": 114,
   "outputs": [
    {
     "name": "stdout",
     "output_type": "stream",
     "text": [
      "/Users/ianbrillembourg/Dropbox/Documents/Edgecaser LLC/Projects/Olympus/Econohmetrics/gohmAsStablecoinCollateral/data/frax_deposits_piped.csv file saved, 2  records at 2023-02-21 11:38:27.561529\n"
     ]
    }
   ],
   "source": [
    "fraxDepositsDbTimedLength = len(fraxBorrowsDbTimed)\n",
    "path =file+'/frax_deposits.csv'\n",
    "fraxBorrowsDbTimed.to_csv(path, index = False)\n",
    "\n",
    "path =file+'/frax_deposits_piped.csv'\n",
    "fraxBorrowsDbTimed.to_csv(path, index = False, sep='|')\n",
    "\n",
    "print(path, 'file saved,', fraxActionsDbTimedLength,' records at', (dt.datetime.now()) )"
   ],
   "metadata": {
    "collapsed": false
   }
  },
  {
   "cell_type": "code",
   "execution_count": 115,
   "outputs": [
    {
     "name": "stdout",
     "output_type": "stream",
     "text": [
      "/Users/ianbrillembourg/Dropbox/Documents/Edgecaser LLC/Projects/Olympus/Econohmetrics/gohmAsStablecoinCollateral/data/frax_borrows_piped.csv file saved, 0  records at 2023-02-21 11:38:27.568862\n"
     ]
    }
   ],
   "source": [
    "fraxWithdrawsDbTimedLength = len(fraxBorrowsDbTimed)\n",
    "path =file+'/frax_borrows.csv'\n",
    "fraxWithdrawsDbTimed.to_csv(path, index = False)\n",
    "\n",
    "path =file+'/frax_borrows_piped.csv'\n",
    "fraxWithdrawsDbTimed.to_csv(path, index = False, sep='|')\n",
    "\n",
    "print(path, 'file saved,', fraxWithdrawsDbTimedLength,' records at', (dt.datetime.now()) )"
   ],
   "metadata": {
    "collapsed": false
   }
  },
  {
   "cell_type": "markdown",
   "source": [
    "Collateral check"
   ],
   "metadata": {
    "collapsed": false
   }
  },
  {
   "cell_type": "code",
   "execution_count": 116,
   "outputs": [
    {
     "name": "stdout",
     "output_type": "stream",
     "text": [
      "There has been a total of 9.93 gOHM deposited cumulatively as collateral  to date\n"
     ]
    }
   ],
   "source": [
    "totalgOHMDepositedFrax = sum(fraxDepositsDbTimed['transactionReadableAmount'])\n",
    "print('There has been a total of',round(totalgOHMDepositedFrax,2),  'gOHM deposited cumulatively as collateral  to date')"
   ],
   "metadata": {
    "collapsed": false
   }
  },
  {
   "cell_type": "code",
   "execution_count": 117,
   "outputs": [
    {
     "name": "stdout",
     "output_type": "stream",
     "text": [
      "There has been a total of 0 gOHM withdrawn cumulatively as collateral  to date\n"
     ]
    }
   ],
   "source": [
    "totalgOHMWithdrawnFrax = sum(fraxWithdrawsDbTimed['transactionReadableAmount'])\n",
    "print('There has been a total of',round(totalgOHMWithdrawnFrax,2),  'gOHM withdrawn cumulatively as collateral  to date')"
   ],
   "metadata": {
    "collapsed": false
   }
  },
  {
   "cell_type": "code",
   "execution_count": 118,
   "outputs": [
    {
     "name": "stdout",
     "output_type": "stream",
     "text": [
      "9.933187141283872  -  0 = 9.933187141283872 currently deposited as collateral in Silo\n"
     ]
    }
   ],
   "source": [
    "collateralBalance = totalgOHMDepositedFrax-totalgOHMWithdrawnFrax\n",
    "print(totalgOHMDepositedFrax, ' - ',totalgOHMWithdrawnFrax,'=', collateralBalance, 'currently deposited as collateral in Silo' )"
   ],
   "metadata": {
    "collapsed": false
   }
  },
  {
   "cell_type": "markdown",
   "source": [
    "**********************************************************\n",
    "MERGE DIFFERENT DBs"
   ],
   "metadata": {
    "collapsed": false
   }
  },
  {
   "cell_type": "code",
   "execution_count": 119,
   "outputs": [
    {
     "data": {
      "text/plain": "                                      transaction_id  transaction_timestamp  \\\n0  0x4437b802baa713bfa7f02667996787221356f632b1e9...             1677000779   \n\n             dateTime                            transaction_from  \\\n0 2023-02-21 17:32:59  0xf2ba9e4872f03a72a94f8c32e87fc0f2981e19a8   \n\n  asset_symbol  ReadableAmount protocol             action  \n0         gOHM        9.933187     Frax  depositCollateral  ",
      "text/html": "<div>\n<style scoped>\n    .dataframe tbody tr th:only-of-type {\n        vertical-align: middle;\n    }\n\n    .dataframe tbody tr th {\n        vertical-align: top;\n    }\n\n    .dataframe thead th {\n        text-align: right;\n    }\n</style>\n<table border=\"1\" class=\"dataframe\">\n  <thead>\n    <tr style=\"text-align: right;\">\n      <th></th>\n      <th>transaction_id</th>\n      <th>transaction_timestamp</th>\n      <th>dateTime</th>\n      <th>transaction_from</th>\n      <th>asset_symbol</th>\n      <th>ReadableAmount</th>\n      <th>protocol</th>\n      <th>action</th>\n    </tr>\n  </thead>\n  <tbody>\n    <tr>\n      <th>0</th>\n      <td>0x4437b802baa713bfa7f02667996787221356f632b1e9...</td>\n      <td>1677000779</td>\n      <td>2023-02-21 17:32:59</td>\n      <td>0xf2ba9e4872f03a72a94f8c32e87fc0f2981e19a8</td>\n      <td>gOHM</td>\n      <td>9.933187</td>\n      <td>Frax</td>\n      <td>depositCollateral</td>\n    </tr>\n  </tbody>\n</table>\n</div>"
     },
     "execution_count": 119,
     "metadata": {},
     "output_type": "execute_result"
    }
   ],
   "source": [
    "#COLLATERALDEPOSITS\n",
    "fraxDepositsDbPreMerge = db.query(\n",
    "    \"select distinct\"\n",
    "    \" actions_id transaction_id\"\n",
    "    \", actions_timestamp transaction_timestamp\"\n",
    "    \", DateTime dateTime\"\n",
    "    \", actions_root_address transaction_from \"\n",
    "    \", actions_pair_collateral_symbol asset_symbol\"\n",
    "    \", transactionReadableAmount ReadableAmount \"\n",
    "    \"from fraxDepositsDbTimed \"\n",
    ").df()\n",
    "fraxDepositsDbPreMerge['protocol'] = 'Frax'\n",
    "fraxDepositsDbPreMerge['action'] = 'depositCollateral'\n",
    "fraxDepositsDbPreMerge.head(10)\n",
    "\n"
   ],
   "metadata": {
    "collapsed": false
   }
  },
  {
   "cell_type": "code",
   "execution_count": 120,
   "outputs": [
    {
     "data": {
      "text/plain": "     event                                   transaction_hash  \\\n0  deposit  0xcc1705094b3dd746ed1769d610d22bf12b7aec36e8a4...   \n\n   transaction_blockNumber  transaction_timestamp  \\\n0                 16678469             1677001775   \n\n                       transaction_account_id  \\\n0  0x9b8b04b6f82cd5e1dae58ca3614d445f93defc5c   \n\n                        transaction_market_id transaction_asset_name  \\\n0  0xc413dd03555f3eb29d834b482d386b2999dc2eb0         Governance OHM   \n\n  transaction_asset_symbol  transactionReadableAmount  \\\n0                     gOHM                   5.621351   \n\n   transaction_asset_lastPriceUSD  transaction_amountUSD            dateTime  \\\n0                     2756.217547           15493.665575 2023-02-21 17:49:35   \n\n     calDate  \n0 2023-02-21  ",
      "text/html": "<div>\n<style scoped>\n    .dataframe tbody tr th:only-of-type {\n        vertical-align: middle;\n    }\n\n    .dataframe tbody tr th {\n        vertical-align: top;\n    }\n\n    .dataframe thead th {\n        text-align: right;\n    }\n</style>\n<table border=\"1\" class=\"dataframe\">\n  <thead>\n    <tr style=\"text-align: right;\">\n      <th></th>\n      <th>event</th>\n      <th>transaction_hash</th>\n      <th>transaction_blockNumber</th>\n      <th>transaction_timestamp</th>\n      <th>transaction_account_id</th>\n      <th>transaction_market_id</th>\n      <th>transaction_asset_name</th>\n      <th>transaction_asset_symbol</th>\n      <th>transactionReadableAmount</th>\n      <th>transaction_asset_lastPriceUSD</th>\n      <th>transaction_amountUSD</th>\n      <th>dateTime</th>\n      <th>calDate</th>\n    </tr>\n  </thead>\n  <tbody>\n    <tr>\n      <th>0</th>\n      <td>deposit</td>\n      <td>0xcc1705094b3dd746ed1769d610d22bf12b7aec36e8a4...</td>\n      <td>16678469</td>\n      <td>1677001775</td>\n      <td>0x9b8b04b6f82cd5e1dae58ca3614d445f93defc5c</td>\n      <td>0xc413dd03555f3eb29d834b482d386b2999dc2eb0</td>\n      <td>Governance OHM</td>\n      <td>gOHM</td>\n      <td>5.621351</td>\n      <td>2756.217547</td>\n      <td>15493.665575</td>\n      <td>2023-02-21 17:49:35</td>\n      <td>2023-02-21</td>\n    </tr>\n  </tbody>\n</table>\n</div>"
     },
     "execution_count": 120,
     "metadata": {},
     "output_type": "execute_result"
    }
   ],
   "source": [
    "siloDepositEventsDbTimedClean.head(1)"
   ],
   "metadata": {
    "collapsed": false
   }
  },
  {
   "cell_type": "code",
   "execution_count": 121,
   "outputs": [
    {
     "data": {
      "text/plain": "                                      transaction_id  transaction_timestamp  \\\n0  0xcc1705094b3dd746ed1769d610d22bf12b7aec36e8a4...             1677001775   \n1  0xecd6140bbb896413a25d34ca87f5503b56c444f1e582...             1676673263   \n2  0x54cd3f5374780bceaffae0661e2688eeca47df22b8aa...             1676555939   \n3  0xe5163797f0922e4bded89126a213296a8c3d270a39e2...             1676383883   \n4  0xcc5e09e1e5c403b6925fa25f0410388de72ef1b45f30...             1676383523   \n5  0xf5439a3f94551476ec68db02d6f577a2856d01f45691...             1676330339   \n6  0x3069fa3e9834fd75b4eaae5d1ef1a7910b112ed68e5f...             1676330087   \n7  0x17d879ec97730987652b5bcb00aaf6115b7dd232aaef...             1676292887   \n8  0xff978d5e58c65cbc9d73fbf58f44166724c2db0f0706...             1676069891   \n9  0x669ce641c8adcf855d5ea4fedda6b52fc63795fd0dd6...             1675938899   \n\n             dateTime                            transaction_from  \\\n0 2023-02-21 17:49:35  0x9b8b04b6f82cd5e1dae58ca3614d445f93defc5c   \n1 2023-02-17 22:34:23  0xd33e76d21d32c21811593ae54e38f68df0cfe8ed   \n2 2023-02-16 13:58:59  0xee95e4cf086fc80df7ae0f39dfc9ea53a3eaadcb   \n3 2023-02-14 14:11:23  0xc0b1f200aa9546ce074397bed7438bb2ec033877   \n4 2023-02-14 14:05:23  0xc0b1f200aa9546ce074397bed7438bb2ec033877   \n5 2023-02-13 23:18:59  0xc0b1f200aa9546ce074397bed7438bb2ec033877   \n6 2023-02-13 23:14:47  0xc0b1f200aa9546ce074397bed7438bb2ec033877   \n7 2023-02-13 12:54:47  0xc0b1f200aa9546ce074397bed7438bb2ec033877   \n8 2023-02-10 22:58:11  0xa7daeb7fc210f934508c8c7ce833a2cdd6630fb3   \n9 2023-02-09 10:34:59  0x51bc3dd10a9ee4946f961038cf5d50057e49eb77   \n\n  asset_symbol  ReadableAmount protocol             action  \n0         gOHM        5.621351     silo  depositCollateral  \n1         gOHM       48.922199     silo  depositCollateral  \n2         gOHM       50.749992     silo  depositCollateral  \n3         gOHM        0.180346     silo  depositCollateral  \n4         gOHM        0.663108     silo  depositCollateral  \n5         gOHM        0.892669     silo  depositCollateral  \n6         gOHM        1.087799     silo  depositCollateral  \n7         gOHM        1.812154     silo  depositCollateral  \n8         gOHM        0.137814     silo  depositCollateral  \n9         gOHM        9.990000     silo  depositCollateral  ",
      "text/html": "<div>\n<style scoped>\n    .dataframe tbody tr th:only-of-type {\n        vertical-align: middle;\n    }\n\n    .dataframe tbody tr th {\n        vertical-align: top;\n    }\n\n    .dataframe thead th {\n        text-align: right;\n    }\n</style>\n<table border=\"1\" class=\"dataframe\">\n  <thead>\n    <tr style=\"text-align: right;\">\n      <th></th>\n      <th>transaction_id</th>\n      <th>transaction_timestamp</th>\n      <th>dateTime</th>\n      <th>transaction_from</th>\n      <th>asset_symbol</th>\n      <th>ReadableAmount</th>\n      <th>protocol</th>\n      <th>action</th>\n    </tr>\n  </thead>\n  <tbody>\n    <tr>\n      <th>0</th>\n      <td>0xcc1705094b3dd746ed1769d610d22bf12b7aec36e8a4...</td>\n      <td>1677001775</td>\n      <td>2023-02-21 17:49:35</td>\n      <td>0x9b8b04b6f82cd5e1dae58ca3614d445f93defc5c</td>\n      <td>gOHM</td>\n      <td>5.621351</td>\n      <td>silo</td>\n      <td>depositCollateral</td>\n    </tr>\n    <tr>\n      <th>1</th>\n      <td>0xecd6140bbb896413a25d34ca87f5503b56c444f1e582...</td>\n      <td>1676673263</td>\n      <td>2023-02-17 22:34:23</td>\n      <td>0xd33e76d21d32c21811593ae54e38f68df0cfe8ed</td>\n      <td>gOHM</td>\n      <td>48.922199</td>\n      <td>silo</td>\n      <td>depositCollateral</td>\n    </tr>\n    <tr>\n      <th>2</th>\n      <td>0x54cd3f5374780bceaffae0661e2688eeca47df22b8aa...</td>\n      <td>1676555939</td>\n      <td>2023-02-16 13:58:59</td>\n      <td>0xee95e4cf086fc80df7ae0f39dfc9ea53a3eaadcb</td>\n      <td>gOHM</td>\n      <td>50.749992</td>\n      <td>silo</td>\n      <td>depositCollateral</td>\n    </tr>\n    <tr>\n      <th>3</th>\n      <td>0xe5163797f0922e4bded89126a213296a8c3d270a39e2...</td>\n      <td>1676383883</td>\n      <td>2023-02-14 14:11:23</td>\n      <td>0xc0b1f200aa9546ce074397bed7438bb2ec033877</td>\n      <td>gOHM</td>\n      <td>0.180346</td>\n      <td>silo</td>\n      <td>depositCollateral</td>\n    </tr>\n    <tr>\n      <th>4</th>\n      <td>0xcc5e09e1e5c403b6925fa25f0410388de72ef1b45f30...</td>\n      <td>1676383523</td>\n      <td>2023-02-14 14:05:23</td>\n      <td>0xc0b1f200aa9546ce074397bed7438bb2ec033877</td>\n      <td>gOHM</td>\n      <td>0.663108</td>\n      <td>silo</td>\n      <td>depositCollateral</td>\n    </tr>\n    <tr>\n      <th>5</th>\n      <td>0xf5439a3f94551476ec68db02d6f577a2856d01f45691...</td>\n      <td>1676330339</td>\n      <td>2023-02-13 23:18:59</td>\n      <td>0xc0b1f200aa9546ce074397bed7438bb2ec033877</td>\n      <td>gOHM</td>\n      <td>0.892669</td>\n      <td>silo</td>\n      <td>depositCollateral</td>\n    </tr>\n    <tr>\n      <th>6</th>\n      <td>0x3069fa3e9834fd75b4eaae5d1ef1a7910b112ed68e5f...</td>\n      <td>1676330087</td>\n      <td>2023-02-13 23:14:47</td>\n      <td>0xc0b1f200aa9546ce074397bed7438bb2ec033877</td>\n      <td>gOHM</td>\n      <td>1.087799</td>\n      <td>silo</td>\n      <td>depositCollateral</td>\n    </tr>\n    <tr>\n      <th>7</th>\n      <td>0x17d879ec97730987652b5bcb00aaf6115b7dd232aaef...</td>\n      <td>1676292887</td>\n      <td>2023-02-13 12:54:47</td>\n      <td>0xc0b1f200aa9546ce074397bed7438bb2ec033877</td>\n      <td>gOHM</td>\n      <td>1.812154</td>\n      <td>silo</td>\n      <td>depositCollateral</td>\n    </tr>\n    <tr>\n      <th>8</th>\n      <td>0xff978d5e58c65cbc9d73fbf58f44166724c2db0f0706...</td>\n      <td>1676069891</td>\n      <td>2023-02-10 22:58:11</td>\n      <td>0xa7daeb7fc210f934508c8c7ce833a2cdd6630fb3</td>\n      <td>gOHM</td>\n      <td>0.137814</td>\n      <td>silo</td>\n      <td>depositCollateral</td>\n    </tr>\n    <tr>\n      <th>9</th>\n      <td>0x669ce641c8adcf855d5ea4fedda6b52fc63795fd0dd6...</td>\n      <td>1675938899</td>\n      <td>2023-02-09 10:34:59</td>\n      <td>0x51bc3dd10a9ee4946f961038cf5d50057e49eb77</td>\n      <td>gOHM</td>\n      <td>9.990000</td>\n      <td>silo</td>\n      <td>depositCollateral</td>\n    </tr>\n  </tbody>\n</table>\n</div>"
     },
     "execution_count": 121,
     "metadata": {},
     "output_type": "execute_result"
    }
   ],
   "source": [
    "siloDepositsDbPreMerge = db.query(\n",
    "    \"select distinct\"\n",
    "    \" transaction_hash transaction_id \"\n",
    "    \", transaction_timestamp transaction_timestamp \"\n",
    "    \", dateTime \"\n",
    "    \", transaction_account_id transaction_from \"\n",
    "    \", transaction_asset_symbol asset_symbol \"\n",
    "    \", transactionReadableAmount ReadableAmount \"\n",
    "    \"from siloDepositEventsDbTimedClean \"\n",
    ").df()\n",
    "siloDepositsDbPreMerge['protocol'] = 'silo'\n",
    "siloDepositsDbPreMerge['action'] = 'depositCollateral'\n",
    "siloDepositsDbPreMerge.head(10)\n"
   ],
   "metadata": {
    "collapsed": false
   }
  },
  {
   "cell_type": "markdown",
   "source": [
    "DONT FORGET VESTA WHEN IT GETS FIXED"
   ],
   "metadata": {
    "collapsed": false
   }
  },
  {
   "cell_type": "code",
   "execution_count": 122,
   "outputs": [
    {
     "data": {
      "text/plain": "                                       transaction_id  transaction_timestamp  \\\n0   0xcc1705094b3dd746ed1769d610d22bf12b7aec36e8a4...             1677001775   \n1   0xecd6140bbb896413a25d34ca87f5503b56c444f1e582...             1676673263   \n2   0x54cd3f5374780bceaffae0661e2688eeca47df22b8aa...             1676555939   \n3   0xe5163797f0922e4bded89126a213296a8c3d270a39e2...             1676383883   \n4   0xcc5e09e1e5c403b6925fa25f0410388de72ef1b45f30...             1676383523   \n5   0xf5439a3f94551476ec68db02d6f577a2856d01f45691...             1676330339   \n6   0x3069fa3e9834fd75b4eaae5d1ef1a7910b112ed68e5f...             1676330087   \n7   0x17d879ec97730987652b5bcb00aaf6115b7dd232aaef...             1676292887   \n8   0xff978d5e58c65cbc9d73fbf58f44166724c2db0f0706...             1676069891   \n9   0x669ce641c8adcf855d5ea4fedda6b52fc63795fd0dd6...             1675938899   \n10  0x204aee0831212791916d6ed3a2c24b5ac2a474743713...             1675923587   \n11  0x6921d4de2e5fd797205f66357da959b3e4922760d131...             1675923167   \n12  0x0efd7820596c58c44eb2a8cd9f825fa98fd0d7a3d1d3...             1675914623   \n13  0x80f329fe4643c04ee8f7bc201533d5bd5387ac564fe8...             1675884863   \n14  0x890da67cbb9ec7e781f0a8feb115ff7a590de57e00ce...             1675881767   \n15  0xb1a1646acf062ec3c3d9884adf46bef38f00728ca2fa...             1675811315   \n16  0x35d5e6734b990e7e7e6493344db464f86e9fe2318e7b...             1675808087   \n17  0x1d2652b56d4d7ae72e952e68a3e0018bdbebdca8dd59...             1675806539   \n18  0x4d72e2a5ca35d7b76faecafddc8dce2368081f6c6a52...             1675746299   \n19  0x2051da675e864d363e7159d1e0084e45535e785b5ae6...             1675728083   \n20  0x52365addba1ce6381c7ab6220b9a6eed6e26efa1b813...             1675247075   \n21  0x976fb2b1e49590c04707140f0a1bce4465fda42dfe9c...             1674908423   \n22  0x7811e7757339551966af37751af4b56c16a3e141d682...             1673229911   \n23  0xc094064b1815d07ca696c614f45dffbb054d2e5d5954...             1671655835   \n24  0xe32fe96626d39b1369922f9b678bdeff75eb6aeac561...             1671286691   \n25  0x2f2117e1cc385bc67b93a53beb27c7b34865628bd35b...             1671106691   \n26  0x7c831909c84d8b801b25a2a939ec2a6d08e7155fac91...             1670938607   \n27  0x8966de52cc08fd866ff4e826c3ed12e04cb608e9dd94...             1670906771   \n28  0x6336bd34049973ffbb71cafed76314b5175e35f2968b...             1670886587   \n29  0x671eeedcc2230a697d59627ca9b009802111fd5c2c0b...             1670880839   \n30  0x6c4f8bc5f49d55b317c6a9ed6d523a662df0c9b330a7...             1670876567   \n31  0x53d9eed3930a371dbd133a9260a3ad8d5e7d3c4e446a...             1669246751   \n32  0x816d41605087393280db2cf4083d1126a9b62542f79c...             1669246655   \n33  0xd764e02abd36815b90d310332ff2a1e99842b8c4f6b5...             1669229711   \n0   0x4437b802baa713bfa7f02667996787221356f632b1e9...             1677000779   \n\n              dateTime                            transaction_from  \\\n0  2023-02-21 17:49:35  0x9b8b04b6f82cd5e1dae58ca3614d445f93defc5c   \n1  2023-02-17 22:34:23  0xd33e76d21d32c21811593ae54e38f68df0cfe8ed   \n2  2023-02-16 13:58:59  0xee95e4cf086fc80df7ae0f39dfc9ea53a3eaadcb   \n3  2023-02-14 14:11:23  0xc0b1f200aa9546ce074397bed7438bb2ec033877   \n4  2023-02-14 14:05:23  0xc0b1f200aa9546ce074397bed7438bb2ec033877   \n5  2023-02-13 23:18:59  0xc0b1f200aa9546ce074397bed7438bb2ec033877   \n6  2023-02-13 23:14:47  0xc0b1f200aa9546ce074397bed7438bb2ec033877   \n7  2023-02-13 12:54:47  0xc0b1f200aa9546ce074397bed7438bb2ec033877   \n8  2023-02-10 22:58:11  0xa7daeb7fc210f934508c8c7ce833a2cdd6630fb3   \n9  2023-02-09 10:34:59  0x51bc3dd10a9ee4946f961038cf5d50057e49eb77   \n10 2023-02-09 06:19:47  0xb0399dac8f4d4100b49b2a7b3873481114229d18   \n11 2023-02-09 06:12:47  0xb0399dac8f4d4100b49b2a7b3873481114229d18   \n12 2023-02-09 03:50:23  0x804157889ac56a4e50278610c67960c1605a3264   \n13 2023-02-08 19:34:23  0x16ff8ad104fa6195260a6d4a3f311c5f120df77d   \n14 2023-02-08 18:42:47  0xfe9d1bd54e344dc8c4bd93e7935e39af452e5d41   \n15 2023-02-07 23:08:35  0xb86cd2efc1f461beee8deec2c3f053ccb2781ef9   \n16 2023-02-07 22:14:47  0x0493bcca897a2248ae3cd4c66aea90dbfc7e13c6   \n17 2023-02-07 21:48:59  0x96035b45bc0d22f0ed11283a91145fb001c48370   \n18 2023-02-07 05:04:59  0x6487d336bdec94d4714a4d217b15aa5c7b9dfa99   \n19 2023-02-07 00:01:23  0x36125234dd6c7d0a01dcadc67e79e061d405098e   \n20 2023-02-01 10:24:35  0x339fd7c17ce670e7821f2f2ee94ddd49771483da   \n21 2023-01-28 12:20:23  0x42daeb9ca091e3933c8ee93c029701b926b1f336   \n22 2023-01-09 02:05:11  0x25fdda95197f804316f5ba8dbb66ac173ee19981   \n23 2022-12-21 20:50:35  0xdedcf5806c4968c6397eee97e68047bda339d0c1   \n24 2022-12-17 14:18:11  0x44504ba8d43b30e882503948654e247b928bcc7f   \n25 2022-12-15 12:18:11  0x96035b45bc0d22f0ed11283a91145fb001c48370   \n26 2022-12-13 13:36:47  0x791d1ec51d931186c1d4b80e753b7155dd98f741   \n27 2022-12-13 04:46:11  0x339fd7c17ce670e7821f2f2ee94ddd49771483da   \n28 2022-12-12 23:09:47  0x1ba67f30e25fc43863b50047d7fd4bd63b9c59ec   \n29 2022-12-12 21:33:59  0x3985caf03eef8f885edb1f8358143bdf08d8d48b   \n30 2022-12-12 20:22:47  0xee1520f94f304e8d551cbf310fe214212e3ca34a   \n31 2022-11-23 23:39:11  0xd3064611b24eba7a6dbcbc26c1b35dfee1170880   \n32 2022-11-23 23:37:35  0xd3064611b24eba7a6dbcbc26c1b35dfee1170880   \n33 2022-11-23 18:55:11  0x62a4a8f9f5f3aae9ee9cee780285a0d501c12d09   \n0  2023-02-21 17:32:59  0xf2ba9e4872f03a72a94f8c32e87fc0f2981e19a8   \n\n   asset_symbol  ReadableAmount protocol             action  \n0          gOHM        5.621351     silo  depositCollateral  \n1          gOHM       48.922199     silo  depositCollateral  \n2          gOHM       50.749992     silo  depositCollateral  \n3          gOHM        0.180346     silo  depositCollateral  \n4          gOHM        0.663108     silo  depositCollateral  \n5          gOHM        0.892669     silo  depositCollateral  \n6          gOHM        1.087799     silo  depositCollateral  \n7          gOHM        1.812154     silo  depositCollateral  \n8          gOHM        0.137814     silo  depositCollateral  \n9          gOHM        9.990000     silo  depositCollateral  \n10         gOHM      119.000000     silo  depositCollateral  \n11         gOHM        1.000000     silo  depositCollateral  \n12         gOHM        0.642960     silo  depositCollateral  \n13         gOHM        2.500000     silo  depositCollateral  \n14         gOHM        0.212373     silo  depositCollateral  \n15         gOHM        4.332179     silo  depositCollateral  \n16         gOHM       25.000000     silo  depositCollateral  \n17         gOHM       12.000668     silo  depositCollateral  \n18         gOHM        6.076244     silo  depositCollateral  \n19         gOHM       14.004861     silo  depositCollateral  \n20         gOHM        4.000000     silo  depositCollateral  \n21         gOHM        5.886017     silo  depositCollateral  \n22         gOHM        2.252766     silo  depositCollateral  \n23         gOHM        0.020000     silo  depositCollateral  \n24         gOHM        0.500000     silo  depositCollateral  \n25         gOHM       13.520668     silo  depositCollateral  \n26         gOHM        0.020000     silo  depositCollateral  \n27         gOHM        8.000000     silo  depositCollateral  \n28         gOHM        8.000000     silo  depositCollateral  \n29         gOHM        2.726128     silo  depositCollateral  \n30         gOHM       20.000000     silo  depositCollateral  \n31         gOHM        0.025140     silo  depositCollateral  \n32         gOHM        0.143100     silo  depositCollateral  \n33         gOHM        0.182000     silo  depositCollateral  \n0          gOHM        9.933187     Frax  depositCollateral  ",
      "text/html": "<div>\n<style scoped>\n    .dataframe tbody tr th:only-of-type {\n        vertical-align: middle;\n    }\n\n    .dataframe tbody tr th {\n        vertical-align: top;\n    }\n\n    .dataframe thead th {\n        text-align: right;\n    }\n</style>\n<table border=\"1\" class=\"dataframe\">\n  <thead>\n    <tr style=\"text-align: right;\">\n      <th></th>\n      <th>transaction_id</th>\n      <th>transaction_timestamp</th>\n      <th>dateTime</th>\n      <th>transaction_from</th>\n      <th>asset_symbol</th>\n      <th>ReadableAmount</th>\n      <th>protocol</th>\n      <th>action</th>\n    </tr>\n  </thead>\n  <tbody>\n    <tr>\n      <th>0</th>\n      <td>0xcc1705094b3dd746ed1769d610d22bf12b7aec36e8a4...</td>\n      <td>1677001775</td>\n      <td>2023-02-21 17:49:35</td>\n      <td>0x9b8b04b6f82cd5e1dae58ca3614d445f93defc5c</td>\n      <td>gOHM</td>\n      <td>5.621351</td>\n      <td>silo</td>\n      <td>depositCollateral</td>\n    </tr>\n    <tr>\n      <th>1</th>\n      <td>0xecd6140bbb896413a25d34ca87f5503b56c444f1e582...</td>\n      <td>1676673263</td>\n      <td>2023-02-17 22:34:23</td>\n      <td>0xd33e76d21d32c21811593ae54e38f68df0cfe8ed</td>\n      <td>gOHM</td>\n      <td>48.922199</td>\n      <td>silo</td>\n      <td>depositCollateral</td>\n    </tr>\n    <tr>\n      <th>2</th>\n      <td>0x54cd3f5374780bceaffae0661e2688eeca47df22b8aa...</td>\n      <td>1676555939</td>\n      <td>2023-02-16 13:58:59</td>\n      <td>0xee95e4cf086fc80df7ae0f39dfc9ea53a3eaadcb</td>\n      <td>gOHM</td>\n      <td>50.749992</td>\n      <td>silo</td>\n      <td>depositCollateral</td>\n    </tr>\n    <tr>\n      <th>3</th>\n      <td>0xe5163797f0922e4bded89126a213296a8c3d270a39e2...</td>\n      <td>1676383883</td>\n      <td>2023-02-14 14:11:23</td>\n      <td>0xc0b1f200aa9546ce074397bed7438bb2ec033877</td>\n      <td>gOHM</td>\n      <td>0.180346</td>\n      <td>silo</td>\n      <td>depositCollateral</td>\n    </tr>\n    <tr>\n      <th>4</th>\n      <td>0xcc5e09e1e5c403b6925fa25f0410388de72ef1b45f30...</td>\n      <td>1676383523</td>\n      <td>2023-02-14 14:05:23</td>\n      <td>0xc0b1f200aa9546ce074397bed7438bb2ec033877</td>\n      <td>gOHM</td>\n      <td>0.663108</td>\n      <td>silo</td>\n      <td>depositCollateral</td>\n    </tr>\n    <tr>\n      <th>5</th>\n      <td>0xf5439a3f94551476ec68db02d6f577a2856d01f45691...</td>\n      <td>1676330339</td>\n      <td>2023-02-13 23:18:59</td>\n      <td>0xc0b1f200aa9546ce074397bed7438bb2ec033877</td>\n      <td>gOHM</td>\n      <td>0.892669</td>\n      <td>silo</td>\n      <td>depositCollateral</td>\n    </tr>\n    <tr>\n      <th>6</th>\n      <td>0x3069fa3e9834fd75b4eaae5d1ef1a7910b112ed68e5f...</td>\n      <td>1676330087</td>\n      <td>2023-02-13 23:14:47</td>\n      <td>0xc0b1f200aa9546ce074397bed7438bb2ec033877</td>\n      <td>gOHM</td>\n      <td>1.087799</td>\n      <td>silo</td>\n      <td>depositCollateral</td>\n    </tr>\n    <tr>\n      <th>7</th>\n      <td>0x17d879ec97730987652b5bcb00aaf6115b7dd232aaef...</td>\n      <td>1676292887</td>\n      <td>2023-02-13 12:54:47</td>\n      <td>0xc0b1f200aa9546ce074397bed7438bb2ec033877</td>\n      <td>gOHM</td>\n      <td>1.812154</td>\n      <td>silo</td>\n      <td>depositCollateral</td>\n    </tr>\n    <tr>\n      <th>8</th>\n      <td>0xff978d5e58c65cbc9d73fbf58f44166724c2db0f0706...</td>\n      <td>1676069891</td>\n      <td>2023-02-10 22:58:11</td>\n      <td>0xa7daeb7fc210f934508c8c7ce833a2cdd6630fb3</td>\n      <td>gOHM</td>\n      <td>0.137814</td>\n      <td>silo</td>\n      <td>depositCollateral</td>\n    </tr>\n    <tr>\n      <th>9</th>\n      <td>0x669ce641c8adcf855d5ea4fedda6b52fc63795fd0dd6...</td>\n      <td>1675938899</td>\n      <td>2023-02-09 10:34:59</td>\n      <td>0x51bc3dd10a9ee4946f961038cf5d50057e49eb77</td>\n      <td>gOHM</td>\n      <td>9.990000</td>\n      <td>silo</td>\n      <td>depositCollateral</td>\n    </tr>\n    <tr>\n      <th>10</th>\n      <td>0x204aee0831212791916d6ed3a2c24b5ac2a474743713...</td>\n      <td>1675923587</td>\n      <td>2023-02-09 06:19:47</td>\n      <td>0xb0399dac8f4d4100b49b2a7b3873481114229d18</td>\n      <td>gOHM</td>\n      <td>119.000000</td>\n      <td>silo</td>\n      <td>depositCollateral</td>\n    </tr>\n    <tr>\n      <th>11</th>\n      <td>0x6921d4de2e5fd797205f66357da959b3e4922760d131...</td>\n      <td>1675923167</td>\n      <td>2023-02-09 06:12:47</td>\n      <td>0xb0399dac8f4d4100b49b2a7b3873481114229d18</td>\n      <td>gOHM</td>\n      <td>1.000000</td>\n      <td>silo</td>\n      <td>depositCollateral</td>\n    </tr>\n    <tr>\n      <th>12</th>\n      <td>0x0efd7820596c58c44eb2a8cd9f825fa98fd0d7a3d1d3...</td>\n      <td>1675914623</td>\n      <td>2023-02-09 03:50:23</td>\n      <td>0x804157889ac56a4e50278610c67960c1605a3264</td>\n      <td>gOHM</td>\n      <td>0.642960</td>\n      <td>silo</td>\n      <td>depositCollateral</td>\n    </tr>\n    <tr>\n      <th>13</th>\n      <td>0x80f329fe4643c04ee8f7bc201533d5bd5387ac564fe8...</td>\n      <td>1675884863</td>\n      <td>2023-02-08 19:34:23</td>\n      <td>0x16ff8ad104fa6195260a6d4a3f311c5f120df77d</td>\n      <td>gOHM</td>\n      <td>2.500000</td>\n      <td>silo</td>\n      <td>depositCollateral</td>\n    </tr>\n    <tr>\n      <th>14</th>\n      <td>0x890da67cbb9ec7e781f0a8feb115ff7a590de57e00ce...</td>\n      <td>1675881767</td>\n      <td>2023-02-08 18:42:47</td>\n      <td>0xfe9d1bd54e344dc8c4bd93e7935e39af452e5d41</td>\n      <td>gOHM</td>\n      <td>0.212373</td>\n      <td>silo</td>\n      <td>depositCollateral</td>\n    </tr>\n    <tr>\n      <th>15</th>\n      <td>0xb1a1646acf062ec3c3d9884adf46bef38f00728ca2fa...</td>\n      <td>1675811315</td>\n      <td>2023-02-07 23:08:35</td>\n      <td>0xb86cd2efc1f461beee8deec2c3f053ccb2781ef9</td>\n      <td>gOHM</td>\n      <td>4.332179</td>\n      <td>silo</td>\n      <td>depositCollateral</td>\n    </tr>\n    <tr>\n      <th>16</th>\n      <td>0x35d5e6734b990e7e7e6493344db464f86e9fe2318e7b...</td>\n      <td>1675808087</td>\n      <td>2023-02-07 22:14:47</td>\n      <td>0x0493bcca897a2248ae3cd4c66aea90dbfc7e13c6</td>\n      <td>gOHM</td>\n      <td>25.000000</td>\n      <td>silo</td>\n      <td>depositCollateral</td>\n    </tr>\n    <tr>\n      <th>17</th>\n      <td>0x1d2652b56d4d7ae72e952e68a3e0018bdbebdca8dd59...</td>\n      <td>1675806539</td>\n      <td>2023-02-07 21:48:59</td>\n      <td>0x96035b45bc0d22f0ed11283a91145fb001c48370</td>\n      <td>gOHM</td>\n      <td>12.000668</td>\n      <td>silo</td>\n      <td>depositCollateral</td>\n    </tr>\n    <tr>\n      <th>18</th>\n      <td>0x4d72e2a5ca35d7b76faecafddc8dce2368081f6c6a52...</td>\n      <td>1675746299</td>\n      <td>2023-02-07 05:04:59</td>\n      <td>0x6487d336bdec94d4714a4d217b15aa5c7b9dfa99</td>\n      <td>gOHM</td>\n      <td>6.076244</td>\n      <td>silo</td>\n      <td>depositCollateral</td>\n    </tr>\n    <tr>\n      <th>19</th>\n      <td>0x2051da675e864d363e7159d1e0084e45535e785b5ae6...</td>\n      <td>1675728083</td>\n      <td>2023-02-07 00:01:23</td>\n      <td>0x36125234dd6c7d0a01dcadc67e79e061d405098e</td>\n      <td>gOHM</td>\n      <td>14.004861</td>\n      <td>silo</td>\n      <td>depositCollateral</td>\n    </tr>\n    <tr>\n      <th>20</th>\n      <td>0x52365addba1ce6381c7ab6220b9a6eed6e26efa1b813...</td>\n      <td>1675247075</td>\n      <td>2023-02-01 10:24:35</td>\n      <td>0x339fd7c17ce670e7821f2f2ee94ddd49771483da</td>\n      <td>gOHM</td>\n      <td>4.000000</td>\n      <td>silo</td>\n      <td>depositCollateral</td>\n    </tr>\n    <tr>\n      <th>21</th>\n      <td>0x976fb2b1e49590c04707140f0a1bce4465fda42dfe9c...</td>\n      <td>1674908423</td>\n      <td>2023-01-28 12:20:23</td>\n      <td>0x42daeb9ca091e3933c8ee93c029701b926b1f336</td>\n      <td>gOHM</td>\n      <td>5.886017</td>\n      <td>silo</td>\n      <td>depositCollateral</td>\n    </tr>\n    <tr>\n      <th>22</th>\n      <td>0x7811e7757339551966af37751af4b56c16a3e141d682...</td>\n      <td>1673229911</td>\n      <td>2023-01-09 02:05:11</td>\n      <td>0x25fdda95197f804316f5ba8dbb66ac173ee19981</td>\n      <td>gOHM</td>\n      <td>2.252766</td>\n      <td>silo</td>\n      <td>depositCollateral</td>\n    </tr>\n    <tr>\n      <th>23</th>\n      <td>0xc094064b1815d07ca696c614f45dffbb054d2e5d5954...</td>\n      <td>1671655835</td>\n      <td>2022-12-21 20:50:35</td>\n      <td>0xdedcf5806c4968c6397eee97e68047bda339d0c1</td>\n      <td>gOHM</td>\n      <td>0.020000</td>\n      <td>silo</td>\n      <td>depositCollateral</td>\n    </tr>\n    <tr>\n      <th>24</th>\n      <td>0xe32fe96626d39b1369922f9b678bdeff75eb6aeac561...</td>\n      <td>1671286691</td>\n      <td>2022-12-17 14:18:11</td>\n      <td>0x44504ba8d43b30e882503948654e247b928bcc7f</td>\n      <td>gOHM</td>\n      <td>0.500000</td>\n      <td>silo</td>\n      <td>depositCollateral</td>\n    </tr>\n    <tr>\n      <th>25</th>\n      <td>0x2f2117e1cc385bc67b93a53beb27c7b34865628bd35b...</td>\n      <td>1671106691</td>\n      <td>2022-12-15 12:18:11</td>\n      <td>0x96035b45bc0d22f0ed11283a91145fb001c48370</td>\n      <td>gOHM</td>\n      <td>13.520668</td>\n      <td>silo</td>\n      <td>depositCollateral</td>\n    </tr>\n    <tr>\n      <th>26</th>\n      <td>0x7c831909c84d8b801b25a2a939ec2a6d08e7155fac91...</td>\n      <td>1670938607</td>\n      <td>2022-12-13 13:36:47</td>\n      <td>0x791d1ec51d931186c1d4b80e753b7155dd98f741</td>\n      <td>gOHM</td>\n      <td>0.020000</td>\n      <td>silo</td>\n      <td>depositCollateral</td>\n    </tr>\n    <tr>\n      <th>27</th>\n      <td>0x8966de52cc08fd866ff4e826c3ed12e04cb608e9dd94...</td>\n      <td>1670906771</td>\n      <td>2022-12-13 04:46:11</td>\n      <td>0x339fd7c17ce670e7821f2f2ee94ddd49771483da</td>\n      <td>gOHM</td>\n      <td>8.000000</td>\n      <td>silo</td>\n      <td>depositCollateral</td>\n    </tr>\n    <tr>\n      <th>28</th>\n      <td>0x6336bd34049973ffbb71cafed76314b5175e35f2968b...</td>\n      <td>1670886587</td>\n      <td>2022-12-12 23:09:47</td>\n      <td>0x1ba67f30e25fc43863b50047d7fd4bd63b9c59ec</td>\n      <td>gOHM</td>\n      <td>8.000000</td>\n      <td>silo</td>\n      <td>depositCollateral</td>\n    </tr>\n    <tr>\n      <th>29</th>\n      <td>0x671eeedcc2230a697d59627ca9b009802111fd5c2c0b...</td>\n      <td>1670880839</td>\n      <td>2022-12-12 21:33:59</td>\n      <td>0x3985caf03eef8f885edb1f8358143bdf08d8d48b</td>\n      <td>gOHM</td>\n      <td>2.726128</td>\n      <td>silo</td>\n      <td>depositCollateral</td>\n    </tr>\n    <tr>\n      <th>30</th>\n      <td>0x6c4f8bc5f49d55b317c6a9ed6d523a662df0c9b330a7...</td>\n      <td>1670876567</td>\n      <td>2022-12-12 20:22:47</td>\n      <td>0xee1520f94f304e8d551cbf310fe214212e3ca34a</td>\n      <td>gOHM</td>\n      <td>20.000000</td>\n      <td>silo</td>\n      <td>depositCollateral</td>\n    </tr>\n    <tr>\n      <th>31</th>\n      <td>0x53d9eed3930a371dbd133a9260a3ad8d5e7d3c4e446a...</td>\n      <td>1669246751</td>\n      <td>2022-11-23 23:39:11</td>\n      <td>0xd3064611b24eba7a6dbcbc26c1b35dfee1170880</td>\n      <td>gOHM</td>\n      <td>0.025140</td>\n      <td>silo</td>\n      <td>depositCollateral</td>\n    </tr>\n    <tr>\n      <th>32</th>\n      <td>0x816d41605087393280db2cf4083d1126a9b62542f79c...</td>\n      <td>1669246655</td>\n      <td>2022-11-23 23:37:35</td>\n      <td>0xd3064611b24eba7a6dbcbc26c1b35dfee1170880</td>\n      <td>gOHM</td>\n      <td>0.143100</td>\n      <td>silo</td>\n      <td>depositCollateral</td>\n    </tr>\n    <tr>\n      <th>33</th>\n      <td>0xd764e02abd36815b90d310332ff2a1e99842b8c4f6b5...</td>\n      <td>1669229711</td>\n      <td>2022-11-23 18:55:11</td>\n      <td>0x62a4a8f9f5f3aae9ee9cee780285a0d501c12d09</td>\n      <td>gOHM</td>\n      <td>0.182000</td>\n      <td>silo</td>\n      <td>depositCollateral</td>\n    </tr>\n    <tr>\n      <th>0</th>\n      <td>0x4437b802baa713bfa7f02667996787221356f632b1e9...</td>\n      <td>1677000779</td>\n      <td>2023-02-21 17:32:59</td>\n      <td>0xf2ba9e4872f03a72a94f8c32e87fc0f2981e19a8</td>\n      <td>gOHM</td>\n      <td>9.933187</td>\n      <td>Frax</td>\n      <td>depositCollateral</td>\n    </tr>\n  </tbody>\n</table>\n</div>"
     },
     "execution_count": 122,
     "metadata": {},
     "output_type": "execute_result"
    }
   ],
   "source": [
    "gOHMCollateralDeposits = pd.concat([siloDepositsDbPreMerge,fraxDepositsDbPreMerge])\n",
    "gOHMCollateralDeposits.head(1000)"
   ],
   "metadata": {
    "collapsed": false
   }
  },
  {
   "cell_type": "code",
   "execution_count": 123,
   "outputs": [
    {
     "name": "stdout",
     "output_type": "stream",
     "text": [
      "/Users/ianbrillembourg/Dropbox/Documents/Edgecaser LLC/Projects/Olympus/Econohmetrics/gohmAsStablecoinCollateral/data/gOHMCollateralDeposits_piped.csv file saved, 35  records at 2023-02-21 11:38:27.677667\n"
     ]
    }
   ],
   "source": [
    "gOHMCollateralDepositsLength = len(gOHMCollateralDeposits)\n",
    "path =file+'/gOHMCollateralDeposits.csv'\n",
    "gOHMCollateralDeposits.to_csv(path, index = False)\n",
    "\n",
    "path =file+'/gOHMCollateralDeposits_piped.csv'\n",
    "gOHMCollateralDeposits.to_csv(path, index = False, sep='|')\n",
    "\n",
    "print(path, 'file saved,', gOHMCollateralDepositsLength,' records at', (dt.datetime.now()) )"
   ],
   "metadata": {
    "collapsed": false
   }
  },
  {
   "cell_type": "code",
   "execution_count": 124,
   "outputs": [],
   "source": [
    "#ALL WITHDRAW EVENTS"
   ],
   "metadata": {
    "collapsed": false
   }
  },
  {
   "cell_type": "code",
   "execution_count": 125,
   "outputs": [
    {
     "data": {
      "text/plain": "Empty DataFrame\nColumns: [transaction_id, transaction_timestamp, dateTime, transaction_from, asset_symbol, ReadableAmount, protocol, action]\nIndex: []",
      "text/html": "<div>\n<style scoped>\n    .dataframe tbody tr th:only-of-type {\n        vertical-align: middle;\n    }\n\n    .dataframe tbody tr th {\n        vertical-align: top;\n    }\n\n    .dataframe thead th {\n        text-align: right;\n    }\n</style>\n<table border=\"1\" class=\"dataframe\">\n  <thead>\n    <tr style=\"text-align: right;\">\n      <th></th>\n      <th>transaction_id</th>\n      <th>transaction_timestamp</th>\n      <th>dateTime</th>\n      <th>transaction_from</th>\n      <th>asset_symbol</th>\n      <th>ReadableAmount</th>\n      <th>protocol</th>\n      <th>action</th>\n    </tr>\n  </thead>\n  <tbody>\n  </tbody>\n</table>\n</div>"
     },
     "execution_count": 125,
     "metadata": {},
     "output_type": "execute_result"
    }
   ],
   "source": [
    "fraxWithdrawsDbPreMerge = db.query(\n",
    "    \"select distinct\"\n",
    "    \" actions_id transaction_id\"\n",
    "    \", actions_timestamp transaction_timestamp\"\n",
    "    \", DateTime dateTime \"\n",
    "    \", actions_root_address transaction_from \"\n",
    "    \", actions_pair_collateral_symbol asset_symbol \"\n",
    "    \", transactionReadableAmount ReadableAmount \"\n",
    "    \"from fraxWithdrawsDbTimed \"\n",
    ").df()\n",
    "fraxWithdrawsDbPreMerge['protocol'] = 'Frax'\n",
    "fraxWithdrawsDbPreMerge['action'] = 'withdrawCollateral'\n",
    "fraxWithdrawsDbPreMerge.head(1000)"
   ],
   "metadata": {
    "collapsed": false
   }
  },
  {
   "cell_type": "code",
   "execution_count": 126,
   "outputs": [
    {
     "data": {
      "text/plain": "                                       transaction_id  transaction_timestamp  \\\n0   0xf4707edc29622f90030af624d1918ff5ae613cef90d8...             1676474867   \n1   0x85b689883076aa92af0a2356f8e4084610578bb48590...             1676472599   \n2   0xd931b79cfc34df088f325e8adde9122af7ad64a0ba30...             1676391839   \n3   0xd4f7aeb47e1e07903a3e9298762bc164764fffb2f973...             1676381987   \n4   0xc7193a2aa216c65fe82652e85b4adc20a60b274bd070...             1676072123   \n5   0xed87a5e09b9abe135be66d51493eca516d78aaf1d4d5...             1675924055   \n6   0xcfa1e8a102e407470f7cc479576cceab5f872c1a1377...             1675737947   \n7   0xb8682e4d0d5fe1297f21ff66347debdfc75c3956612d...             1674641375   \n8   0xcc9db9a7563b473c4b8e4ca0f4f7fb90ca709b022469...             1673230019   \n9   0x7c24d04318da39f08c7ba4f8d413a487133ce1b1f117...             1671741731   \n10  0x3cf3a5658c3ef1a247ec241370a3abfeb673251eafec...             1670938643   \n11  0xbb87996c54ed5859d905c96b7b43212cdbc74b1c99aa...             1669247351   \n\n              dateTime                            transaction_from  \\\n0  2023-02-15 15:27:47  0x0493bcca897a2248ae3cd4c66aea90dbfc7e13c6   \n1  2023-02-15 14:49:59  0xb0399dac8f4d4100b49b2a7b3873481114229d18   \n2  2023-02-14 16:23:59  0xb0399dac8f4d4100b49b2a7b3873481114229d18   \n3  2023-02-14 13:39:47  0xc0b1f200aa9546ce074397bed7438bb2ec033877   \n4  2023-02-10 23:35:23  0xa7daeb7fc210f934508c8c7ce833a2cdd6630fb3   \n5  2023-02-09 06:27:35  0xb0399dac8f4d4100b49b2a7b3873481114229d18   \n6  2023-02-07 02:45:47  0xd3064611b24eba7a6dbcbc26c1b35dfee1170880   \n7  2023-01-25 10:09:35  0xee1520f94f304e8d551cbf310fe214212e3ca34a   \n8  2023-01-09 02:06:59  0x25fdda95197f804316f5ba8dbb66ac173ee19981   \n9  2022-12-22 20:42:11  0x96035b45bc0d22f0ed11283a91145fb001c48370   \n10 2022-12-13 13:37:23  0x791d1ec51d931186c1d4b80e753b7155dd98f741   \n11 2022-11-23 23:49:11  0x62a4a8f9f5f3aae9ee9cee780285a0d501c12d09   \n\n   asset_symbol  ReadableAmount protocol              action  \n0          gOHM       25.000039     silo  withdrawCollateral  \n1          gOHM       64.393035     silo  withdrawCollateral  \n2          gOHM       36.000000     silo  withdrawCollateral  \n3          gOHM        0.883213     silo  withdrawCollateral  \n4          gOHM        0.137814     silo  withdrawCollateral  \n5          gOHM       19.607121     silo  withdrawCollateral  \n6          gOHM        0.194798     silo  withdrawCollateral  \n7          gOHM       20.000000     silo  withdrawCollateral  \n8          gOHM        2.252766     silo  withdrawCollateral  \n9          gOHM       13.520668     silo  withdrawCollateral  \n10         gOHM        0.020000     silo  withdrawCollateral  \n11         gOHM        0.168240     silo  withdrawCollateral  ",
      "text/html": "<div>\n<style scoped>\n    .dataframe tbody tr th:only-of-type {\n        vertical-align: middle;\n    }\n\n    .dataframe tbody tr th {\n        vertical-align: top;\n    }\n\n    .dataframe thead th {\n        text-align: right;\n    }\n</style>\n<table border=\"1\" class=\"dataframe\">\n  <thead>\n    <tr style=\"text-align: right;\">\n      <th></th>\n      <th>transaction_id</th>\n      <th>transaction_timestamp</th>\n      <th>dateTime</th>\n      <th>transaction_from</th>\n      <th>asset_symbol</th>\n      <th>ReadableAmount</th>\n      <th>protocol</th>\n      <th>action</th>\n    </tr>\n  </thead>\n  <tbody>\n    <tr>\n      <th>0</th>\n      <td>0xf4707edc29622f90030af624d1918ff5ae613cef90d8...</td>\n      <td>1676474867</td>\n      <td>2023-02-15 15:27:47</td>\n      <td>0x0493bcca897a2248ae3cd4c66aea90dbfc7e13c6</td>\n      <td>gOHM</td>\n      <td>25.000039</td>\n      <td>silo</td>\n      <td>withdrawCollateral</td>\n    </tr>\n    <tr>\n      <th>1</th>\n      <td>0x85b689883076aa92af0a2356f8e4084610578bb48590...</td>\n      <td>1676472599</td>\n      <td>2023-02-15 14:49:59</td>\n      <td>0xb0399dac8f4d4100b49b2a7b3873481114229d18</td>\n      <td>gOHM</td>\n      <td>64.393035</td>\n      <td>silo</td>\n      <td>withdrawCollateral</td>\n    </tr>\n    <tr>\n      <th>2</th>\n      <td>0xd931b79cfc34df088f325e8adde9122af7ad64a0ba30...</td>\n      <td>1676391839</td>\n      <td>2023-02-14 16:23:59</td>\n      <td>0xb0399dac8f4d4100b49b2a7b3873481114229d18</td>\n      <td>gOHM</td>\n      <td>36.000000</td>\n      <td>silo</td>\n      <td>withdrawCollateral</td>\n    </tr>\n    <tr>\n      <th>3</th>\n      <td>0xd4f7aeb47e1e07903a3e9298762bc164764fffb2f973...</td>\n      <td>1676381987</td>\n      <td>2023-02-14 13:39:47</td>\n      <td>0xc0b1f200aa9546ce074397bed7438bb2ec033877</td>\n      <td>gOHM</td>\n      <td>0.883213</td>\n      <td>silo</td>\n      <td>withdrawCollateral</td>\n    </tr>\n    <tr>\n      <th>4</th>\n      <td>0xc7193a2aa216c65fe82652e85b4adc20a60b274bd070...</td>\n      <td>1676072123</td>\n      <td>2023-02-10 23:35:23</td>\n      <td>0xa7daeb7fc210f934508c8c7ce833a2cdd6630fb3</td>\n      <td>gOHM</td>\n      <td>0.137814</td>\n      <td>silo</td>\n      <td>withdrawCollateral</td>\n    </tr>\n    <tr>\n      <th>5</th>\n      <td>0xed87a5e09b9abe135be66d51493eca516d78aaf1d4d5...</td>\n      <td>1675924055</td>\n      <td>2023-02-09 06:27:35</td>\n      <td>0xb0399dac8f4d4100b49b2a7b3873481114229d18</td>\n      <td>gOHM</td>\n      <td>19.607121</td>\n      <td>silo</td>\n      <td>withdrawCollateral</td>\n    </tr>\n    <tr>\n      <th>6</th>\n      <td>0xcfa1e8a102e407470f7cc479576cceab5f872c1a1377...</td>\n      <td>1675737947</td>\n      <td>2023-02-07 02:45:47</td>\n      <td>0xd3064611b24eba7a6dbcbc26c1b35dfee1170880</td>\n      <td>gOHM</td>\n      <td>0.194798</td>\n      <td>silo</td>\n      <td>withdrawCollateral</td>\n    </tr>\n    <tr>\n      <th>7</th>\n      <td>0xb8682e4d0d5fe1297f21ff66347debdfc75c3956612d...</td>\n      <td>1674641375</td>\n      <td>2023-01-25 10:09:35</td>\n      <td>0xee1520f94f304e8d551cbf310fe214212e3ca34a</td>\n      <td>gOHM</td>\n      <td>20.000000</td>\n      <td>silo</td>\n      <td>withdrawCollateral</td>\n    </tr>\n    <tr>\n      <th>8</th>\n      <td>0xcc9db9a7563b473c4b8e4ca0f4f7fb90ca709b022469...</td>\n      <td>1673230019</td>\n      <td>2023-01-09 02:06:59</td>\n      <td>0x25fdda95197f804316f5ba8dbb66ac173ee19981</td>\n      <td>gOHM</td>\n      <td>2.252766</td>\n      <td>silo</td>\n      <td>withdrawCollateral</td>\n    </tr>\n    <tr>\n      <th>9</th>\n      <td>0x7c24d04318da39f08c7ba4f8d413a487133ce1b1f117...</td>\n      <td>1671741731</td>\n      <td>2022-12-22 20:42:11</td>\n      <td>0x96035b45bc0d22f0ed11283a91145fb001c48370</td>\n      <td>gOHM</td>\n      <td>13.520668</td>\n      <td>silo</td>\n      <td>withdrawCollateral</td>\n    </tr>\n    <tr>\n      <th>10</th>\n      <td>0x3cf3a5658c3ef1a247ec241370a3abfeb673251eafec...</td>\n      <td>1670938643</td>\n      <td>2022-12-13 13:37:23</td>\n      <td>0x791d1ec51d931186c1d4b80e753b7155dd98f741</td>\n      <td>gOHM</td>\n      <td>0.020000</td>\n      <td>silo</td>\n      <td>withdrawCollateral</td>\n    </tr>\n    <tr>\n      <th>11</th>\n      <td>0xbb87996c54ed5859d905c96b7b43212cdbc74b1c99aa...</td>\n      <td>1669247351</td>\n      <td>2022-11-23 23:49:11</td>\n      <td>0x62a4a8f9f5f3aae9ee9cee780285a0d501c12d09</td>\n      <td>gOHM</td>\n      <td>0.168240</td>\n      <td>silo</td>\n      <td>withdrawCollateral</td>\n    </tr>\n  </tbody>\n</table>\n</div>"
     },
     "execution_count": 126,
     "metadata": {},
     "output_type": "execute_result"
    }
   ],
   "source": [
    "siloWithdrawsDbPreMerge = db.query(\n",
    "    \"select distinct\"\n",
    "    \" transaction_hash transaction_id \"\n",
    "    \", transaction_timestamp transaction_timestamp \"\n",
    "    \", dateTime \"\n",
    "    \", transaction_account_id transaction_from \"\n",
    "    \", transaction_asset_symbol asset_symbol \"\n",
    "    \", transactionReadableAmount ReadableAmount \"\n",
    "    \"from siloWithdrawEventsDbTimedClean \"\n",
    ").df()\n",
    "siloWithdrawsDbPreMerge['protocol'] = 'silo'\n",
    "siloWithdrawsDbPreMerge['action'] = 'withdrawCollateral'\n",
    "siloWithdrawsDbPreMerge.head(1000)\n"
   ],
   "metadata": {
    "collapsed": false
   }
  },
  {
   "cell_type": "markdown",
   "source": [
    "DONT FORGET VESTA"
   ],
   "metadata": {
    "collapsed": false
   }
  },
  {
   "cell_type": "code",
   "execution_count": 127,
   "outputs": [
    {
     "data": {
      "text/plain": "                                       transaction_id  transaction_timestamp  \\\n0   0xf4707edc29622f90030af624d1918ff5ae613cef90d8...             1676474867   \n1   0x85b689883076aa92af0a2356f8e4084610578bb48590...             1676472599   \n2   0xd931b79cfc34df088f325e8adde9122af7ad64a0ba30...             1676391839   \n3   0xd4f7aeb47e1e07903a3e9298762bc164764fffb2f973...             1676381987   \n4   0xc7193a2aa216c65fe82652e85b4adc20a60b274bd070...             1676072123   \n5   0xed87a5e09b9abe135be66d51493eca516d78aaf1d4d5...             1675924055   \n6   0xcfa1e8a102e407470f7cc479576cceab5f872c1a1377...             1675737947   \n7   0xb8682e4d0d5fe1297f21ff66347debdfc75c3956612d...             1674641375   \n8   0xcc9db9a7563b473c4b8e4ca0f4f7fb90ca709b022469...             1673230019   \n9   0x7c24d04318da39f08c7ba4f8d413a487133ce1b1f117...             1671741731   \n10  0x3cf3a5658c3ef1a247ec241370a3abfeb673251eafec...             1670938643   \n11  0xbb87996c54ed5859d905c96b7b43212cdbc74b1c99aa...             1669247351   \n\n              dateTime                            transaction_from  \\\n0  2023-02-15 15:27:47  0x0493bcca897a2248ae3cd4c66aea90dbfc7e13c6   \n1  2023-02-15 14:49:59  0xb0399dac8f4d4100b49b2a7b3873481114229d18   \n2  2023-02-14 16:23:59  0xb0399dac8f4d4100b49b2a7b3873481114229d18   \n3  2023-02-14 13:39:47  0xc0b1f200aa9546ce074397bed7438bb2ec033877   \n4  2023-02-10 23:35:23  0xa7daeb7fc210f934508c8c7ce833a2cdd6630fb3   \n5  2023-02-09 06:27:35  0xb0399dac8f4d4100b49b2a7b3873481114229d18   \n6  2023-02-07 02:45:47  0xd3064611b24eba7a6dbcbc26c1b35dfee1170880   \n7  2023-01-25 10:09:35  0xee1520f94f304e8d551cbf310fe214212e3ca34a   \n8  2023-01-09 02:06:59  0x25fdda95197f804316f5ba8dbb66ac173ee19981   \n9  2022-12-22 20:42:11  0x96035b45bc0d22f0ed11283a91145fb001c48370   \n10 2022-12-13 13:37:23  0x791d1ec51d931186c1d4b80e753b7155dd98f741   \n11 2022-11-23 23:49:11  0x62a4a8f9f5f3aae9ee9cee780285a0d501c12d09   \n\n   asset_symbol  ReadableAmount protocol              action  \n0          gOHM       25.000039     silo  withdrawCollateral  \n1          gOHM       64.393035     silo  withdrawCollateral  \n2          gOHM       36.000000     silo  withdrawCollateral  \n3          gOHM        0.883213     silo  withdrawCollateral  \n4          gOHM        0.137814     silo  withdrawCollateral  \n5          gOHM       19.607121     silo  withdrawCollateral  \n6          gOHM        0.194798     silo  withdrawCollateral  \n7          gOHM       20.000000     silo  withdrawCollateral  \n8          gOHM        2.252766     silo  withdrawCollateral  \n9          gOHM       13.520668     silo  withdrawCollateral  \n10         gOHM        0.020000     silo  withdrawCollateral  \n11         gOHM        0.168240     silo  withdrawCollateral  ",
      "text/html": "<div>\n<style scoped>\n    .dataframe tbody tr th:only-of-type {\n        vertical-align: middle;\n    }\n\n    .dataframe tbody tr th {\n        vertical-align: top;\n    }\n\n    .dataframe thead th {\n        text-align: right;\n    }\n</style>\n<table border=\"1\" class=\"dataframe\">\n  <thead>\n    <tr style=\"text-align: right;\">\n      <th></th>\n      <th>transaction_id</th>\n      <th>transaction_timestamp</th>\n      <th>dateTime</th>\n      <th>transaction_from</th>\n      <th>asset_symbol</th>\n      <th>ReadableAmount</th>\n      <th>protocol</th>\n      <th>action</th>\n    </tr>\n  </thead>\n  <tbody>\n    <tr>\n      <th>0</th>\n      <td>0xf4707edc29622f90030af624d1918ff5ae613cef90d8...</td>\n      <td>1676474867</td>\n      <td>2023-02-15 15:27:47</td>\n      <td>0x0493bcca897a2248ae3cd4c66aea90dbfc7e13c6</td>\n      <td>gOHM</td>\n      <td>25.000039</td>\n      <td>silo</td>\n      <td>withdrawCollateral</td>\n    </tr>\n    <tr>\n      <th>1</th>\n      <td>0x85b689883076aa92af0a2356f8e4084610578bb48590...</td>\n      <td>1676472599</td>\n      <td>2023-02-15 14:49:59</td>\n      <td>0xb0399dac8f4d4100b49b2a7b3873481114229d18</td>\n      <td>gOHM</td>\n      <td>64.393035</td>\n      <td>silo</td>\n      <td>withdrawCollateral</td>\n    </tr>\n    <tr>\n      <th>2</th>\n      <td>0xd931b79cfc34df088f325e8adde9122af7ad64a0ba30...</td>\n      <td>1676391839</td>\n      <td>2023-02-14 16:23:59</td>\n      <td>0xb0399dac8f4d4100b49b2a7b3873481114229d18</td>\n      <td>gOHM</td>\n      <td>36.000000</td>\n      <td>silo</td>\n      <td>withdrawCollateral</td>\n    </tr>\n    <tr>\n      <th>3</th>\n      <td>0xd4f7aeb47e1e07903a3e9298762bc164764fffb2f973...</td>\n      <td>1676381987</td>\n      <td>2023-02-14 13:39:47</td>\n      <td>0xc0b1f200aa9546ce074397bed7438bb2ec033877</td>\n      <td>gOHM</td>\n      <td>0.883213</td>\n      <td>silo</td>\n      <td>withdrawCollateral</td>\n    </tr>\n    <tr>\n      <th>4</th>\n      <td>0xc7193a2aa216c65fe82652e85b4adc20a60b274bd070...</td>\n      <td>1676072123</td>\n      <td>2023-02-10 23:35:23</td>\n      <td>0xa7daeb7fc210f934508c8c7ce833a2cdd6630fb3</td>\n      <td>gOHM</td>\n      <td>0.137814</td>\n      <td>silo</td>\n      <td>withdrawCollateral</td>\n    </tr>\n    <tr>\n      <th>5</th>\n      <td>0xed87a5e09b9abe135be66d51493eca516d78aaf1d4d5...</td>\n      <td>1675924055</td>\n      <td>2023-02-09 06:27:35</td>\n      <td>0xb0399dac8f4d4100b49b2a7b3873481114229d18</td>\n      <td>gOHM</td>\n      <td>19.607121</td>\n      <td>silo</td>\n      <td>withdrawCollateral</td>\n    </tr>\n    <tr>\n      <th>6</th>\n      <td>0xcfa1e8a102e407470f7cc479576cceab5f872c1a1377...</td>\n      <td>1675737947</td>\n      <td>2023-02-07 02:45:47</td>\n      <td>0xd3064611b24eba7a6dbcbc26c1b35dfee1170880</td>\n      <td>gOHM</td>\n      <td>0.194798</td>\n      <td>silo</td>\n      <td>withdrawCollateral</td>\n    </tr>\n    <tr>\n      <th>7</th>\n      <td>0xb8682e4d0d5fe1297f21ff66347debdfc75c3956612d...</td>\n      <td>1674641375</td>\n      <td>2023-01-25 10:09:35</td>\n      <td>0xee1520f94f304e8d551cbf310fe214212e3ca34a</td>\n      <td>gOHM</td>\n      <td>20.000000</td>\n      <td>silo</td>\n      <td>withdrawCollateral</td>\n    </tr>\n    <tr>\n      <th>8</th>\n      <td>0xcc9db9a7563b473c4b8e4ca0f4f7fb90ca709b022469...</td>\n      <td>1673230019</td>\n      <td>2023-01-09 02:06:59</td>\n      <td>0x25fdda95197f804316f5ba8dbb66ac173ee19981</td>\n      <td>gOHM</td>\n      <td>2.252766</td>\n      <td>silo</td>\n      <td>withdrawCollateral</td>\n    </tr>\n    <tr>\n      <th>9</th>\n      <td>0x7c24d04318da39f08c7ba4f8d413a487133ce1b1f117...</td>\n      <td>1671741731</td>\n      <td>2022-12-22 20:42:11</td>\n      <td>0x96035b45bc0d22f0ed11283a91145fb001c48370</td>\n      <td>gOHM</td>\n      <td>13.520668</td>\n      <td>silo</td>\n      <td>withdrawCollateral</td>\n    </tr>\n    <tr>\n      <th>10</th>\n      <td>0x3cf3a5658c3ef1a247ec241370a3abfeb673251eafec...</td>\n      <td>1670938643</td>\n      <td>2022-12-13 13:37:23</td>\n      <td>0x791d1ec51d931186c1d4b80e753b7155dd98f741</td>\n      <td>gOHM</td>\n      <td>0.020000</td>\n      <td>silo</td>\n      <td>withdrawCollateral</td>\n    </tr>\n    <tr>\n      <th>11</th>\n      <td>0xbb87996c54ed5859d905c96b7b43212cdbc74b1c99aa...</td>\n      <td>1669247351</td>\n      <td>2022-11-23 23:49:11</td>\n      <td>0x62a4a8f9f5f3aae9ee9cee780285a0d501c12d09</td>\n      <td>gOHM</td>\n      <td>0.168240</td>\n      <td>silo</td>\n      <td>withdrawCollateral</td>\n    </tr>\n  </tbody>\n</table>\n</div>"
     },
     "execution_count": 127,
     "metadata": {},
     "output_type": "execute_result"
    }
   ],
   "source": [
    "gOHMCollateralWithdrawals = pd.concat([siloWithdrawsDbPreMerge,fraxWithdrawsDbPreMerge])\n",
    "gOHMCollateralWithdrawals.head(1000)"
   ],
   "metadata": {
    "collapsed": false
   }
  },
  {
   "cell_type": "code",
   "execution_count": 128,
   "outputs": [
    {
     "name": "stdout",
     "output_type": "stream",
     "text": [
      "/Users/ianbrillembourg/Dropbox/Documents/Edgecaser LLC/Projects/Olympus/Econohmetrics/gohmAsStablecoinCollateral/data/gOHMCollateralWithdrawals_piped.csv file saved, 12  records at 2023-02-21 11:38:27.758216\n"
     ]
    }
   ],
   "source": [
    "gOHMCollateralWithdrawalsLength = len(gOHMCollateralWithdrawals)\n",
    "path =file+'/gOHMCollateralDeposits.csv'\n",
    "gOHMCollateralWithdrawals.to_csv(path, index = False)\n",
    "\n",
    "path =file+'/gOHMCollateralWithdrawals_piped.csv'\n",
    "gOHMCollateralWithdrawals.to_csv(path, index = False, sep='|')\n",
    "\n",
    "print(path, 'file saved,', gOHMCollateralWithdrawalsLength,' records at', (dt.datetime.now()) )"
   ],
   "metadata": {
    "collapsed": false
   }
  },
  {
   "cell_type": "code",
   "execution_count": 129,
   "outputs": [],
   "source": [
    "#BORROWS"
   ],
   "metadata": {
    "collapsed": false
   }
  },
  {
   "cell_type": "code",
   "execution_count": 130,
   "outputs": [
    {
     "data": {
      "text/plain": "Empty DataFrame\nColumns: [transaction_id, transaction_timestamp, dateTime, transaction_from, asset_symbol, ReadableAmount, protocol, action]\nIndex: []",
      "text/html": "<div>\n<style scoped>\n    .dataframe tbody tr th:only-of-type {\n        vertical-align: middle;\n    }\n\n    .dataframe tbody tr th {\n        vertical-align: top;\n    }\n\n    .dataframe thead th {\n        text-align: right;\n    }\n</style>\n<table border=\"1\" class=\"dataframe\">\n  <thead>\n    <tr style=\"text-align: right;\">\n      <th></th>\n      <th>transaction_id</th>\n      <th>transaction_timestamp</th>\n      <th>dateTime</th>\n      <th>transaction_from</th>\n      <th>asset_symbol</th>\n      <th>ReadableAmount</th>\n      <th>protocol</th>\n      <th>action</th>\n    </tr>\n  </thead>\n  <tbody>\n  </tbody>\n</table>\n</div>"
     },
     "execution_count": 130,
     "metadata": {},
     "output_type": "execute_result"
    }
   ],
   "source": [
    "fraxBorrowsDbPreMerge = db.query(\n",
    "    \"select distinct\"\n",
    "    \" actions_id transaction_id\"\n",
    "    \", actions_timestamp transaction_timestamp\"\n",
    "    \", DateTime as dateTime \"\n",
    "    \", actions_root_address transaction_from \"\n",
    "    \", 'FRAX' asset_symbol \"\n",
    "    \", transactionReadableAmount ReadableAmount \"\n",
    "    \"from fraxBorrowsDbTimed \"\n",
    ").df()\n",
    "fraxBorrowsDbPreMerge['protocol'] = 'Frax'\n",
    "fraxBorrowsDbPreMerge['action'] = 'borrowStablecoin'\n",
    "fraxBorrowsDbPreMerge.head(10)"
   ],
   "metadata": {
    "collapsed": false
   }
  },
  {
   "cell_type": "code",
   "execution_count": 131,
   "outputs": [
    {
     "data": {
      "text/plain": "                                      transaction_id  transaction_timestamp  \\\n0  0x84778306b3f662f7d98e431591f302d924d143c3c0b2...             1677001823   \n1  0x66fe10ed6dcb8b83bdb5b0c46cd321060734b9063bd5...             1676673563   \n2  0xd9329978828295f4f091eaa77a6d8c388c5616bbe92c...             1676590307   \n3  0x3b0f26e10c63a71c916e8a68bd1889d9bab38aeb62d7...             1676556011   \n4  0xfa292276fc71f90e29ca90a7b8a2be9a4094f459fb99...             1676472911   \n5  0xd5dc7147192591c7d19856d12e9278928932a5921653...             1676383655   \n6  0x39c11cb01e34d9f8ca55a8820482eaf8a217033cdb6f...             1676375459   \n7  0xf1d5b9c7f23bd9935061e4d08734cbfba9b9a53bacd5...             1676370563   \n8  0x97811f7e7b7d202797093d44047ed986054be3dd6120...             1676330255   \n9  0x3dba2dd3c913b399164efd71db73121c9c94c0096139...             1676328371   \n\n             dateTime                            transaction_from  \\\n0 2023-02-21 17:50:23  0x9b8b04b6f82cd5e1dae58ca3614d445f93defc5c   \n1 2023-02-17 22:39:23  0xd33e76d21d32c21811593ae54e38f68df0cfe8ed   \n2 2023-02-16 23:31:47  0x96035b45bc0d22f0ed11283a91145fb001c48370   \n3 2023-02-16 14:00:11  0xee95e4cf086fc80df7ae0f39dfc9ea53a3eaadcb   \n4 2023-02-15 14:55:11  0x16ff8ad104fa6195260a6d4a3f311c5f120df77d   \n5 2023-02-14 14:07:35  0xc0b1f200aa9546ce074397bed7438bb2ec033877   \n6 2023-02-14 11:50:59  0x16ff8ad104fa6195260a6d4a3f311c5f120df77d   \n7 2023-02-14 10:29:23  0x339fd7c17ce670e7821f2f2ee94ddd49771483da   \n8 2023-02-13 23:17:35  0xc0b1f200aa9546ce074397bed7438bb2ec033877   \n9 2023-02-13 22:46:11  0x46535cbc3fa574c32ea392d4f89c518290597072   \n\n  asset_symbol  ReadableAmount protocol            action  \n0          XAI     6540.000000     silo  borrowStablecoin  \n1          XAI    60500.000000     silo  borrowStablecoin  \n2          XAI        0.600000     silo  borrowStablecoin  \n3          XAI   100000.000000     silo  borrowStablecoin  \n4          XAI     3000.000000     silo  borrowStablecoin  \n5          XAI     1000.000000     silo  borrowStablecoin  \n6          XAI        1.920000     silo  borrowStablecoin  \n7          XAI     4000.000000     silo  borrowStablecoin  \n8          XAI     2457.516074     silo  borrowStablecoin  \n9          XAI       26.400000     silo  borrowStablecoin  ",
      "text/html": "<div>\n<style scoped>\n    .dataframe tbody tr th:only-of-type {\n        vertical-align: middle;\n    }\n\n    .dataframe tbody tr th {\n        vertical-align: top;\n    }\n\n    .dataframe thead th {\n        text-align: right;\n    }\n</style>\n<table border=\"1\" class=\"dataframe\">\n  <thead>\n    <tr style=\"text-align: right;\">\n      <th></th>\n      <th>transaction_id</th>\n      <th>transaction_timestamp</th>\n      <th>dateTime</th>\n      <th>transaction_from</th>\n      <th>asset_symbol</th>\n      <th>ReadableAmount</th>\n      <th>protocol</th>\n      <th>action</th>\n    </tr>\n  </thead>\n  <tbody>\n    <tr>\n      <th>0</th>\n      <td>0x84778306b3f662f7d98e431591f302d924d143c3c0b2...</td>\n      <td>1677001823</td>\n      <td>2023-02-21 17:50:23</td>\n      <td>0x9b8b04b6f82cd5e1dae58ca3614d445f93defc5c</td>\n      <td>XAI</td>\n      <td>6540.000000</td>\n      <td>silo</td>\n      <td>borrowStablecoin</td>\n    </tr>\n    <tr>\n      <th>1</th>\n      <td>0x66fe10ed6dcb8b83bdb5b0c46cd321060734b9063bd5...</td>\n      <td>1676673563</td>\n      <td>2023-02-17 22:39:23</td>\n      <td>0xd33e76d21d32c21811593ae54e38f68df0cfe8ed</td>\n      <td>XAI</td>\n      <td>60500.000000</td>\n      <td>silo</td>\n      <td>borrowStablecoin</td>\n    </tr>\n    <tr>\n      <th>2</th>\n      <td>0xd9329978828295f4f091eaa77a6d8c388c5616bbe92c...</td>\n      <td>1676590307</td>\n      <td>2023-02-16 23:31:47</td>\n      <td>0x96035b45bc0d22f0ed11283a91145fb001c48370</td>\n      <td>XAI</td>\n      <td>0.600000</td>\n      <td>silo</td>\n      <td>borrowStablecoin</td>\n    </tr>\n    <tr>\n      <th>3</th>\n      <td>0x3b0f26e10c63a71c916e8a68bd1889d9bab38aeb62d7...</td>\n      <td>1676556011</td>\n      <td>2023-02-16 14:00:11</td>\n      <td>0xee95e4cf086fc80df7ae0f39dfc9ea53a3eaadcb</td>\n      <td>XAI</td>\n      <td>100000.000000</td>\n      <td>silo</td>\n      <td>borrowStablecoin</td>\n    </tr>\n    <tr>\n      <th>4</th>\n      <td>0xfa292276fc71f90e29ca90a7b8a2be9a4094f459fb99...</td>\n      <td>1676472911</td>\n      <td>2023-02-15 14:55:11</td>\n      <td>0x16ff8ad104fa6195260a6d4a3f311c5f120df77d</td>\n      <td>XAI</td>\n      <td>3000.000000</td>\n      <td>silo</td>\n      <td>borrowStablecoin</td>\n    </tr>\n    <tr>\n      <th>5</th>\n      <td>0xd5dc7147192591c7d19856d12e9278928932a5921653...</td>\n      <td>1676383655</td>\n      <td>2023-02-14 14:07:35</td>\n      <td>0xc0b1f200aa9546ce074397bed7438bb2ec033877</td>\n      <td>XAI</td>\n      <td>1000.000000</td>\n      <td>silo</td>\n      <td>borrowStablecoin</td>\n    </tr>\n    <tr>\n      <th>6</th>\n      <td>0x39c11cb01e34d9f8ca55a8820482eaf8a217033cdb6f...</td>\n      <td>1676375459</td>\n      <td>2023-02-14 11:50:59</td>\n      <td>0x16ff8ad104fa6195260a6d4a3f311c5f120df77d</td>\n      <td>XAI</td>\n      <td>1.920000</td>\n      <td>silo</td>\n      <td>borrowStablecoin</td>\n    </tr>\n    <tr>\n      <th>7</th>\n      <td>0xf1d5b9c7f23bd9935061e4d08734cbfba9b9a53bacd5...</td>\n      <td>1676370563</td>\n      <td>2023-02-14 10:29:23</td>\n      <td>0x339fd7c17ce670e7821f2f2ee94ddd49771483da</td>\n      <td>XAI</td>\n      <td>4000.000000</td>\n      <td>silo</td>\n      <td>borrowStablecoin</td>\n    </tr>\n    <tr>\n      <th>8</th>\n      <td>0x97811f7e7b7d202797093d44047ed986054be3dd6120...</td>\n      <td>1676330255</td>\n      <td>2023-02-13 23:17:35</td>\n      <td>0xc0b1f200aa9546ce074397bed7438bb2ec033877</td>\n      <td>XAI</td>\n      <td>2457.516074</td>\n      <td>silo</td>\n      <td>borrowStablecoin</td>\n    </tr>\n    <tr>\n      <th>9</th>\n      <td>0x3dba2dd3c913b399164efd71db73121c9c94c0096139...</td>\n      <td>1676328371</td>\n      <td>2023-02-13 22:46:11</td>\n      <td>0x46535cbc3fa574c32ea392d4f89c518290597072</td>\n      <td>XAI</td>\n      <td>26.400000</td>\n      <td>silo</td>\n      <td>borrowStablecoin</td>\n    </tr>\n  </tbody>\n</table>\n</div>"
     },
     "execution_count": 131,
     "metadata": {},
     "output_type": "execute_result"
    }
   ],
   "source": [
    "siloBorrowsDbPreMerge = db.query(\n",
    "    \"select distinct\"\n",
    "    \" transaction_hash transaction_id \"\n",
    "    \", transaction_timestamp transaction_timestamp \"\n",
    "    \", dateTime \"\n",
    "    \", transaction_account_id transaction_from \"\n",
    "    \", 'XAI' asset_symbol \"\n",
    "    \", transactionReadableAmount ReadableAmount \"\n",
    "    \"from siloBorrowEventsDbTimedClean \"\n",
    ").df()\n",
    "siloBorrowsDbPreMerge['protocol'] = 'silo'\n",
    "siloBorrowsDbPreMerge['action'] = 'borrowStablecoin'\n",
    "siloBorrowsDbPreMerge.head(10)"
   ],
   "metadata": {
    "collapsed": false
   }
  },
  {
   "cell_type": "markdown",
   "source": [
    "DONT FORGET VESTA"
   ],
   "metadata": {
    "collapsed": false
   }
  },
  {
   "cell_type": "code",
   "execution_count": 132,
   "outputs": [
    {
     "data": {
      "text/plain": "                                       transaction_id  transaction_timestamp  \\\n0   0x84778306b3f662f7d98e431591f302d924d143c3c0b2...             1677001823   \n1   0x66fe10ed6dcb8b83bdb5b0c46cd321060734b9063bd5...             1676673563   \n2   0xd9329978828295f4f091eaa77a6d8c388c5616bbe92c...             1676590307   \n3   0x3b0f26e10c63a71c916e8a68bd1889d9bab38aeb62d7...             1676556011   \n4   0xfa292276fc71f90e29ca90a7b8a2be9a4094f459fb99...             1676472911   \n5   0xd5dc7147192591c7d19856d12e9278928932a5921653...             1676383655   \n6   0x39c11cb01e34d9f8ca55a8820482eaf8a217033cdb6f...             1676375459   \n7   0xf1d5b9c7f23bd9935061e4d08734cbfba9b9a53bacd5...             1676370563   \n8   0x97811f7e7b7d202797093d44047ed986054be3dd6120...             1676330255   \n9   0x3dba2dd3c913b399164efd71db73121c9c94c0096139...             1676328371   \n10  0xbcfc05398a874e98a80e823ffb016c119b06c7b07a7c...             1676292983   \n11  0x16f2ff52f7a9e9057848569ea37c3e59eb558af0e044...             1675923839   \n12  0x2c0d9ab92c0eef11fa3394b4a89a62c7ee27bd5b64a1...             1675914791   \n13  0x9acb7bcb3e826a231f0cb2e55f4d2ea70d7ff8cbe18a...             1675881839   \n14  0x045f19530c6f8c0b6eca525f3921e207938e841b3670...             1675811711   \n15  0x072c04ee8776ea91e8c1003bad2d401e3ac90d0ab2fc...             1675808183   \n16  0x38ce8e39e188c85ba03a340cdde95c2e1d56b54161e6...             1675808171   \n17  0x4fa0cb2fdde04b90f07602351b260aa5202562c7b701...             1675747799   \n18  0xb38cef69963653bc8f3e04720bd0d3f3df6e6e9ede13...             1675728155   \n19  0x30c76353a03ffe6931799da8b7439b1fcb02c3952f54...             1675247171   \n20  0xe034b0dedaea9ad1f849d5420228106937d816b89b3a...             1674908519   \n21  0xc629960194d24bb2e3aaf7a91b2cf4f547703cd7ed68...             1671286919   \n22  0xbfc6df3a770233f4e0fbd6fe0cf8f6fa02f1432c570f...             1670906999   \n23  0x2485acd5a3853dc50921a27ea5bf8227871425cca3e4...             1670886647   \n24  0x17fedebf20b120a55b895f96e2b466f2bbdcceb2b542...             1670881019   \n25  0x1aac54ba339ee99c2b3c69cbde905f3ddc7832ffd946...             1669246811   \n26  0x83addaa30259315b10869fa8653a468eb1cc82a43f57...             1669229867   \n\n              dateTime                            transaction_from  \\\n0  2023-02-21 17:50:23  0x9b8b04b6f82cd5e1dae58ca3614d445f93defc5c   \n1  2023-02-17 22:39:23  0xd33e76d21d32c21811593ae54e38f68df0cfe8ed   \n2  2023-02-16 23:31:47  0x96035b45bc0d22f0ed11283a91145fb001c48370   \n3  2023-02-16 14:00:11  0xee95e4cf086fc80df7ae0f39dfc9ea53a3eaadcb   \n4  2023-02-15 14:55:11  0x16ff8ad104fa6195260a6d4a3f311c5f120df77d   \n5  2023-02-14 14:07:35  0xc0b1f200aa9546ce074397bed7438bb2ec033877   \n6  2023-02-14 11:50:59  0x16ff8ad104fa6195260a6d4a3f311c5f120df77d   \n7  2023-02-14 10:29:23  0x339fd7c17ce670e7821f2f2ee94ddd49771483da   \n8  2023-02-13 23:17:35  0xc0b1f200aa9546ce074397bed7438bb2ec033877   \n9  2023-02-13 22:46:11  0x46535cbc3fa574c32ea392d4f89c518290597072   \n10 2023-02-13 12:56:23  0xc0b1f200aa9546ce074397bed7438bb2ec033877   \n11 2023-02-09 06:23:59  0xb0399dac8f4d4100b49b2a7b3873481114229d18   \n12 2023-02-09 03:53:11  0x804157889ac56a4e50278610c67960c1605a3264   \n13 2023-02-08 18:43:59  0xfe9d1bd54e344dc8c4bd93e7935e39af452e5d41   \n14 2023-02-07 23:15:11  0xb86cd2efc1f461beee8deec2c3f053ccb2781ef9   \n15 2023-02-07 22:16:23  0x0493bcca897a2248ae3cd4c66aea90dbfc7e13c6   \n16 2023-02-07 22:16:11  0x96035b45bc0d22f0ed11283a91145fb001c48370   \n17 2023-02-07 05:29:59  0x6487d336bdec94d4714a4d217b15aa5c7b9dfa99   \n18 2023-02-07 00:02:35  0x36125234dd6c7d0a01dcadc67e79e061d405098e   \n19 2023-02-01 10:26:11  0x339fd7c17ce670e7821f2f2ee94ddd49771483da   \n20 2023-01-28 12:21:59  0x42daeb9ca091e3933c8ee93c029701b926b1f336   \n21 2022-12-17 14:21:59  0x44504ba8d43b30e882503948654e247b928bcc7f   \n22 2022-12-13 04:49:59  0x339fd7c17ce670e7821f2f2ee94ddd49771483da   \n23 2022-12-12 23:10:47  0x1ba67f30e25fc43863b50047d7fd4bd63b9c59ec   \n24 2022-12-12 21:36:59  0x3985caf03eef8f885edb1f8358143bdf08d8d48b   \n25 2022-11-23 23:40:11  0xd3064611b24eba7a6dbcbc26c1b35dfee1170880   \n26 2022-11-23 18:57:47  0x7776421dd146dfd6ea947cbf29b69c519807d259   \n\n   asset_symbol  ReadableAmount protocol            action  \n0           XAI     6540.000000     silo  borrowStablecoin  \n1           XAI    60500.000000     silo  borrowStablecoin  \n2           XAI        0.600000     silo  borrowStablecoin  \n3           XAI   100000.000000     silo  borrowStablecoin  \n4           XAI     3000.000000     silo  borrowStablecoin  \n5           XAI     1000.000000     silo  borrowStablecoin  \n6           XAI        1.920000     silo  borrowStablecoin  \n7           XAI     4000.000000     silo  borrowStablecoin  \n8           XAI     2457.516074     silo  borrowStablecoin  \n9           XAI       26.400000     silo  borrowStablecoin  \n10          XAI     3090.000000     silo  borrowStablecoin  \n11          XAI   186000.000000     silo  borrowStablecoin  \n12          XAI     1000.000000     silo  borrowStablecoin  \n13          XAI      398.385626     silo  borrowStablecoin  \n14          XAI     7000.000000     silo  borrowStablecoin  \n15          XAI    30000.000000     silo  borrowStablecoin  \n16          XAI    20000.000000     silo  borrowStablecoin  \n17          XAI     6030.000000     silo  borrowStablecoin  \n18          XAI    25000.000000     silo  borrowStablecoin  \n19          XAI     5000.000000     silo  borrowStablecoin  \n20          XAI    10000.000000     silo  borrowStablecoin  \n21          XAI      500.000000     silo  borrowStablecoin  \n22          XAI     8000.000000     silo  borrowStablecoin  \n23          XAI    11900.000000     silo  borrowStablecoin  \n24          XAI     4000.000000     silo  borrowStablecoin  \n25          XAI      262.000000     silo  borrowStablecoin  \n26          XAI        0.182000     silo  borrowStablecoin  ",
      "text/html": "<div>\n<style scoped>\n    .dataframe tbody tr th:only-of-type {\n        vertical-align: middle;\n    }\n\n    .dataframe tbody tr th {\n        vertical-align: top;\n    }\n\n    .dataframe thead th {\n        text-align: right;\n    }\n</style>\n<table border=\"1\" class=\"dataframe\">\n  <thead>\n    <tr style=\"text-align: right;\">\n      <th></th>\n      <th>transaction_id</th>\n      <th>transaction_timestamp</th>\n      <th>dateTime</th>\n      <th>transaction_from</th>\n      <th>asset_symbol</th>\n      <th>ReadableAmount</th>\n      <th>protocol</th>\n      <th>action</th>\n    </tr>\n  </thead>\n  <tbody>\n    <tr>\n      <th>0</th>\n      <td>0x84778306b3f662f7d98e431591f302d924d143c3c0b2...</td>\n      <td>1677001823</td>\n      <td>2023-02-21 17:50:23</td>\n      <td>0x9b8b04b6f82cd5e1dae58ca3614d445f93defc5c</td>\n      <td>XAI</td>\n      <td>6540.000000</td>\n      <td>silo</td>\n      <td>borrowStablecoin</td>\n    </tr>\n    <tr>\n      <th>1</th>\n      <td>0x66fe10ed6dcb8b83bdb5b0c46cd321060734b9063bd5...</td>\n      <td>1676673563</td>\n      <td>2023-02-17 22:39:23</td>\n      <td>0xd33e76d21d32c21811593ae54e38f68df0cfe8ed</td>\n      <td>XAI</td>\n      <td>60500.000000</td>\n      <td>silo</td>\n      <td>borrowStablecoin</td>\n    </tr>\n    <tr>\n      <th>2</th>\n      <td>0xd9329978828295f4f091eaa77a6d8c388c5616bbe92c...</td>\n      <td>1676590307</td>\n      <td>2023-02-16 23:31:47</td>\n      <td>0x96035b45bc0d22f0ed11283a91145fb001c48370</td>\n      <td>XAI</td>\n      <td>0.600000</td>\n      <td>silo</td>\n      <td>borrowStablecoin</td>\n    </tr>\n    <tr>\n      <th>3</th>\n      <td>0x3b0f26e10c63a71c916e8a68bd1889d9bab38aeb62d7...</td>\n      <td>1676556011</td>\n      <td>2023-02-16 14:00:11</td>\n      <td>0xee95e4cf086fc80df7ae0f39dfc9ea53a3eaadcb</td>\n      <td>XAI</td>\n      <td>100000.000000</td>\n      <td>silo</td>\n      <td>borrowStablecoin</td>\n    </tr>\n    <tr>\n      <th>4</th>\n      <td>0xfa292276fc71f90e29ca90a7b8a2be9a4094f459fb99...</td>\n      <td>1676472911</td>\n      <td>2023-02-15 14:55:11</td>\n      <td>0x16ff8ad104fa6195260a6d4a3f311c5f120df77d</td>\n      <td>XAI</td>\n      <td>3000.000000</td>\n      <td>silo</td>\n      <td>borrowStablecoin</td>\n    </tr>\n    <tr>\n      <th>5</th>\n      <td>0xd5dc7147192591c7d19856d12e9278928932a5921653...</td>\n      <td>1676383655</td>\n      <td>2023-02-14 14:07:35</td>\n      <td>0xc0b1f200aa9546ce074397bed7438bb2ec033877</td>\n      <td>XAI</td>\n      <td>1000.000000</td>\n      <td>silo</td>\n      <td>borrowStablecoin</td>\n    </tr>\n    <tr>\n      <th>6</th>\n      <td>0x39c11cb01e34d9f8ca55a8820482eaf8a217033cdb6f...</td>\n      <td>1676375459</td>\n      <td>2023-02-14 11:50:59</td>\n      <td>0x16ff8ad104fa6195260a6d4a3f311c5f120df77d</td>\n      <td>XAI</td>\n      <td>1.920000</td>\n      <td>silo</td>\n      <td>borrowStablecoin</td>\n    </tr>\n    <tr>\n      <th>7</th>\n      <td>0xf1d5b9c7f23bd9935061e4d08734cbfba9b9a53bacd5...</td>\n      <td>1676370563</td>\n      <td>2023-02-14 10:29:23</td>\n      <td>0x339fd7c17ce670e7821f2f2ee94ddd49771483da</td>\n      <td>XAI</td>\n      <td>4000.000000</td>\n      <td>silo</td>\n      <td>borrowStablecoin</td>\n    </tr>\n    <tr>\n      <th>8</th>\n      <td>0x97811f7e7b7d202797093d44047ed986054be3dd6120...</td>\n      <td>1676330255</td>\n      <td>2023-02-13 23:17:35</td>\n      <td>0xc0b1f200aa9546ce074397bed7438bb2ec033877</td>\n      <td>XAI</td>\n      <td>2457.516074</td>\n      <td>silo</td>\n      <td>borrowStablecoin</td>\n    </tr>\n    <tr>\n      <th>9</th>\n      <td>0x3dba2dd3c913b399164efd71db73121c9c94c0096139...</td>\n      <td>1676328371</td>\n      <td>2023-02-13 22:46:11</td>\n      <td>0x46535cbc3fa574c32ea392d4f89c518290597072</td>\n      <td>XAI</td>\n      <td>26.400000</td>\n      <td>silo</td>\n      <td>borrowStablecoin</td>\n    </tr>\n    <tr>\n      <th>10</th>\n      <td>0xbcfc05398a874e98a80e823ffb016c119b06c7b07a7c...</td>\n      <td>1676292983</td>\n      <td>2023-02-13 12:56:23</td>\n      <td>0xc0b1f200aa9546ce074397bed7438bb2ec033877</td>\n      <td>XAI</td>\n      <td>3090.000000</td>\n      <td>silo</td>\n      <td>borrowStablecoin</td>\n    </tr>\n    <tr>\n      <th>11</th>\n      <td>0x16f2ff52f7a9e9057848569ea37c3e59eb558af0e044...</td>\n      <td>1675923839</td>\n      <td>2023-02-09 06:23:59</td>\n      <td>0xb0399dac8f4d4100b49b2a7b3873481114229d18</td>\n      <td>XAI</td>\n      <td>186000.000000</td>\n      <td>silo</td>\n      <td>borrowStablecoin</td>\n    </tr>\n    <tr>\n      <th>12</th>\n      <td>0x2c0d9ab92c0eef11fa3394b4a89a62c7ee27bd5b64a1...</td>\n      <td>1675914791</td>\n      <td>2023-02-09 03:53:11</td>\n      <td>0x804157889ac56a4e50278610c67960c1605a3264</td>\n      <td>XAI</td>\n      <td>1000.000000</td>\n      <td>silo</td>\n      <td>borrowStablecoin</td>\n    </tr>\n    <tr>\n      <th>13</th>\n      <td>0x9acb7bcb3e826a231f0cb2e55f4d2ea70d7ff8cbe18a...</td>\n      <td>1675881839</td>\n      <td>2023-02-08 18:43:59</td>\n      <td>0xfe9d1bd54e344dc8c4bd93e7935e39af452e5d41</td>\n      <td>XAI</td>\n      <td>398.385626</td>\n      <td>silo</td>\n      <td>borrowStablecoin</td>\n    </tr>\n    <tr>\n      <th>14</th>\n      <td>0x045f19530c6f8c0b6eca525f3921e207938e841b3670...</td>\n      <td>1675811711</td>\n      <td>2023-02-07 23:15:11</td>\n      <td>0xb86cd2efc1f461beee8deec2c3f053ccb2781ef9</td>\n      <td>XAI</td>\n      <td>7000.000000</td>\n      <td>silo</td>\n      <td>borrowStablecoin</td>\n    </tr>\n    <tr>\n      <th>15</th>\n      <td>0x072c04ee8776ea91e8c1003bad2d401e3ac90d0ab2fc...</td>\n      <td>1675808183</td>\n      <td>2023-02-07 22:16:23</td>\n      <td>0x0493bcca897a2248ae3cd4c66aea90dbfc7e13c6</td>\n      <td>XAI</td>\n      <td>30000.000000</td>\n      <td>silo</td>\n      <td>borrowStablecoin</td>\n    </tr>\n    <tr>\n      <th>16</th>\n      <td>0x38ce8e39e188c85ba03a340cdde95c2e1d56b54161e6...</td>\n      <td>1675808171</td>\n      <td>2023-02-07 22:16:11</td>\n      <td>0x96035b45bc0d22f0ed11283a91145fb001c48370</td>\n      <td>XAI</td>\n      <td>20000.000000</td>\n      <td>silo</td>\n      <td>borrowStablecoin</td>\n    </tr>\n    <tr>\n      <th>17</th>\n      <td>0x4fa0cb2fdde04b90f07602351b260aa5202562c7b701...</td>\n      <td>1675747799</td>\n      <td>2023-02-07 05:29:59</td>\n      <td>0x6487d336bdec94d4714a4d217b15aa5c7b9dfa99</td>\n      <td>XAI</td>\n      <td>6030.000000</td>\n      <td>silo</td>\n      <td>borrowStablecoin</td>\n    </tr>\n    <tr>\n      <th>18</th>\n      <td>0xb38cef69963653bc8f3e04720bd0d3f3df6e6e9ede13...</td>\n      <td>1675728155</td>\n      <td>2023-02-07 00:02:35</td>\n      <td>0x36125234dd6c7d0a01dcadc67e79e061d405098e</td>\n      <td>XAI</td>\n      <td>25000.000000</td>\n      <td>silo</td>\n      <td>borrowStablecoin</td>\n    </tr>\n    <tr>\n      <th>19</th>\n      <td>0x30c76353a03ffe6931799da8b7439b1fcb02c3952f54...</td>\n      <td>1675247171</td>\n      <td>2023-02-01 10:26:11</td>\n      <td>0x339fd7c17ce670e7821f2f2ee94ddd49771483da</td>\n      <td>XAI</td>\n      <td>5000.000000</td>\n      <td>silo</td>\n      <td>borrowStablecoin</td>\n    </tr>\n    <tr>\n      <th>20</th>\n      <td>0xe034b0dedaea9ad1f849d5420228106937d816b89b3a...</td>\n      <td>1674908519</td>\n      <td>2023-01-28 12:21:59</td>\n      <td>0x42daeb9ca091e3933c8ee93c029701b926b1f336</td>\n      <td>XAI</td>\n      <td>10000.000000</td>\n      <td>silo</td>\n      <td>borrowStablecoin</td>\n    </tr>\n    <tr>\n      <th>21</th>\n      <td>0xc629960194d24bb2e3aaf7a91b2cf4f547703cd7ed68...</td>\n      <td>1671286919</td>\n      <td>2022-12-17 14:21:59</td>\n      <td>0x44504ba8d43b30e882503948654e247b928bcc7f</td>\n      <td>XAI</td>\n      <td>500.000000</td>\n      <td>silo</td>\n      <td>borrowStablecoin</td>\n    </tr>\n    <tr>\n      <th>22</th>\n      <td>0xbfc6df3a770233f4e0fbd6fe0cf8f6fa02f1432c570f...</td>\n      <td>1670906999</td>\n      <td>2022-12-13 04:49:59</td>\n      <td>0x339fd7c17ce670e7821f2f2ee94ddd49771483da</td>\n      <td>XAI</td>\n      <td>8000.000000</td>\n      <td>silo</td>\n      <td>borrowStablecoin</td>\n    </tr>\n    <tr>\n      <th>23</th>\n      <td>0x2485acd5a3853dc50921a27ea5bf8227871425cca3e4...</td>\n      <td>1670886647</td>\n      <td>2022-12-12 23:10:47</td>\n      <td>0x1ba67f30e25fc43863b50047d7fd4bd63b9c59ec</td>\n      <td>XAI</td>\n      <td>11900.000000</td>\n      <td>silo</td>\n      <td>borrowStablecoin</td>\n    </tr>\n    <tr>\n      <th>24</th>\n      <td>0x17fedebf20b120a55b895f96e2b466f2bbdcceb2b542...</td>\n      <td>1670881019</td>\n      <td>2022-12-12 21:36:59</td>\n      <td>0x3985caf03eef8f885edb1f8358143bdf08d8d48b</td>\n      <td>XAI</td>\n      <td>4000.000000</td>\n      <td>silo</td>\n      <td>borrowStablecoin</td>\n    </tr>\n    <tr>\n      <th>25</th>\n      <td>0x1aac54ba339ee99c2b3c69cbde905f3ddc7832ffd946...</td>\n      <td>1669246811</td>\n      <td>2022-11-23 23:40:11</td>\n      <td>0xd3064611b24eba7a6dbcbc26c1b35dfee1170880</td>\n      <td>XAI</td>\n      <td>262.000000</td>\n      <td>silo</td>\n      <td>borrowStablecoin</td>\n    </tr>\n    <tr>\n      <th>26</th>\n      <td>0x83addaa30259315b10869fa8653a468eb1cc82a43f57...</td>\n      <td>1669229867</td>\n      <td>2022-11-23 18:57:47</td>\n      <td>0x7776421dd146dfd6ea947cbf29b69c519807d259</td>\n      <td>XAI</td>\n      <td>0.182000</td>\n      <td>silo</td>\n      <td>borrowStablecoin</td>\n    </tr>\n  </tbody>\n</table>\n</div>"
     },
     "execution_count": 132,
     "metadata": {},
     "output_type": "execute_result"
    }
   ],
   "source": [
    "stablecoinsBorrowedWithGOHMCollateral = pd.concat([siloBorrowsDbPreMerge,fraxBorrowsDbPreMerge])\n",
    "stablecoinsBorrowedWithGOHMCollateral.head(1000)"
   ],
   "metadata": {
    "collapsed": false
   }
  },
  {
   "cell_type": "code",
   "execution_count": 136,
   "outputs": [
    {
     "name": "stdout",
     "output_type": "stream",
     "text": [
      "/Users/ianbrillembourg/Dropbox/Documents/Edgecaser LLC/Projects/Olympus/Econohmetrics/gohmAsStablecoinCollateral/data/stablecoinsBorrowedWithGOHMCollateralDeposits_piped.csv file saved, 27  records at 2023-02-21 11:40:28.157076\n"
     ]
    }
   ],
   "source": [
    "stablecoinsBorrowedWithGOHMCollateralLength = len(stablecoinsBorrowedWithGOHMCollateral)\n",
    "path =file+'/stablecoinsBorrowedWithGOHMCollateralDeposits.csv'\n",
    "stablecoinsBorrowedWithGOHMCollateral.to_csv(path, index = False)\n",
    "\n",
    "path =file+'/stablecoinsBorrowedWithGOHMCollateralDeposits_piped.csv'\n",
    "stablecoinsBorrowedWithGOHMCollateral.to_csv(path, index = False, sep='|')\n",
    "print(path, 'file saved,', stablecoinsBorrowedWithGOHMCollateralLength,' records at', (dt.datetime.now()) )"
   ],
   "metadata": {
    "collapsed": false
   }
  },
  {
   "cell_type": "markdown",
   "source": [
    "**********************************************************\n",
    "MERGE EVERYTHING\n"
   ],
   "metadata": {
    "collapsed": false
   }
  },
  {
   "cell_type": "markdown",
   "source": [],
   "metadata": {
    "collapsed": false
   }
  },
  {
   "cell_type": "code",
   "execution_count": 138,
   "outputs": [
    {
     "data": {
      "text/plain": "                                      transaction_id  transaction_timestamp  \\\n0  0x84778306b3f662f7d98e431591f302d924d143c3c0b2...             1677001823   \n\n             dateTime                            transaction_from  \\\n0 2023-02-21 17:50:23  0x9b8b04b6f82cd5e1dae58ca3614d445f93defc5c   \n\n  asset_symbol  ReadableAmount protocol            action  \n0          XAI          6540.0     silo  borrowStablecoin  ",
      "text/html": "<div>\n<style scoped>\n    .dataframe tbody tr th:only-of-type {\n        vertical-align: middle;\n    }\n\n    .dataframe tbody tr th {\n        vertical-align: top;\n    }\n\n    .dataframe thead th {\n        text-align: right;\n    }\n</style>\n<table border=\"1\" class=\"dataframe\">\n  <thead>\n    <tr style=\"text-align: right;\">\n      <th></th>\n      <th>transaction_id</th>\n      <th>transaction_timestamp</th>\n      <th>dateTime</th>\n      <th>transaction_from</th>\n      <th>asset_symbol</th>\n      <th>ReadableAmount</th>\n      <th>protocol</th>\n      <th>action</th>\n    </tr>\n  </thead>\n  <tbody>\n    <tr>\n      <th>0</th>\n      <td>0x84778306b3f662f7d98e431591f302d924d143c3c0b2...</td>\n      <td>1677001823</td>\n      <td>2023-02-21 17:50:23</td>\n      <td>0x9b8b04b6f82cd5e1dae58ca3614d445f93defc5c</td>\n      <td>XAI</td>\n      <td>6540.0</td>\n      <td>silo</td>\n      <td>borrowStablecoin</td>\n    </tr>\n  </tbody>\n</table>\n</div>"
     },
     "execution_count": 138,
     "metadata": {},
     "output_type": "execute_result"
    }
   ],
   "source": [
    "stablecoinsBorrowedWithGOHMCollateral.head(1)"
   ],
   "metadata": {
    "collapsed": false
   }
  },
  {
   "cell_type": "code",
   "execution_count": 139,
   "outputs": [
    {
     "data": {
      "text/plain": "                                       transaction_id  transaction_timestamp  \\\n0   0xcc1705094b3dd746ed1769d610d22bf12b7aec36e8a4...             1677001775   \n1   0xecd6140bbb896413a25d34ca87f5503b56c444f1e582...             1676673263   \n2   0x54cd3f5374780bceaffae0661e2688eeca47df22b8aa...             1676555939   \n3   0xe5163797f0922e4bded89126a213296a8c3d270a39e2...             1676383883   \n4   0xcc5e09e1e5c403b6925fa25f0410388de72ef1b45f30...             1676383523   \n..                                                ...                    ...   \n22  0xbfc6df3a770233f4e0fbd6fe0cf8f6fa02f1432c570f...             1670906999   \n23  0x2485acd5a3853dc50921a27ea5bf8227871425cca3e4...             1670886647   \n24  0x17fedebf20b120a55b895f96e2b466f2bbdcceb2b542...             1670881019   \n25  0x1aac54ba339ee99c2b3c69cbde905f3ddc7832ffd946...             1669246811   \n26  0x83addaa30259315b10869fa8653a468eb1cc82a43f57...             1669229867   \n\n              dateTime                            transaction_from  \\\n0  2023-02-21 17:49:35  0x9b8b04b6f82cd5e1dae58ca3614d445f93defc5c   \n1  2023-02-17 22:34:23  0xd33e76d21d32c21811593ae54e38f68df0cfe8ed   \n2  2023-02-16 13:58:59  0xee95e4cf086fc80df7ae0f39dfc9ea53a3eaadcb   \n3  2023-02-14 14:11:23  0xc0b1f200aa9546ce074397bed7438bb2ec033877   \n4  2023-02-14 14:05:23  0xc0b1f200aa9546ce074397bed7438bb2ec033877   \n..                 ...                                         ...   \n22 2022-12-13 04:49:59  0x339fd7c17ce670e7821f2f2ee94ddd49771483da   \n23 2022-12-12 23:10:47  0x1ba67f30e25fc43863b50047d7fd4bd63b9c59ec   \n24 2022-12-12 21:36:59  0x3985caf03eef8f885edb1f8358143bdf08d8d48b   \n25 2022-11-23 23:40:11  0xd3064611b24eba7a6dbcbc26c1b35dfee1170880   \n26 2022-11-23 18:57:47  0x7776421dd146dfd6ea947cbf29b69c519807d259   \n\n   asset_symbol  ReadableAmount protocol             action  \n0          gOHM        5.621351     silo  depositCollateral  \n1          gOHM       48.922199     silo  depositCollateral  \n2          gOHM       50.749992     silo  depositCollateral  \n3          gOHM        0.180346     silo  depositCollateral  \n4          gOHM        0.663108     silo  depositCollateral  \n..          ...             ...      ...                ...  \n22          XAI     8000.000000     silo   borrowStablecoin  \n23          XAI    11900.000000     silo   borrowStablecoin  \n24          XAI     4000.000000     silo   borrowStablecoin  \n25          XAI      262.000000     silo   borrowStablecoin  \n26          XAI        0.182000     silo   borrowStablecoin  \n\n[74 rows x 8 columns]",
      "text/html": "<div>\n<style scoped>\n    .dataframe tbody tr th:only-of-type {\n        vertical-align: middle;\n    }\n\n    .dataframe tbody tr th {\n        vertical-align: top;\n    }\n\n    .dataframe thead th {\n        text-align: right;\n    }\n</style>\n<table border=\"1\" class=\"dataframe\">\n  <thead>\n    <tr style=\"text-align: right;\">\n      <th></th>\n      <th>transaction_id</th>\n      <th>transaction_timestamp</th>\n      <th>dateTime</th>\n      <th>transaction_from</th>\n      <th>asset_symbol</th>\n      <th>ReadableAmount</th>\n      <th>protocol</th>\n      <th>action</th>\n    </tr>\n  </thead>\n  <tbody>\n    <tr>\n      <th>0</th>\n      <td>0xcc1705094b3dd746ed1769d610d22bf12b7aec36e8a4...</td>\n      <td>1677001775</td>\n      <td>2023-02-21 17:49:35</td>\n      <td>0x9b8b04b6f82cd5e1dae58ca3614d445f93defc5c</td>\n      <td>gOHM</td>\n      <td>5.621351</td>\n      <td>silo</td>\n      <td>depositCollateral</td>\n    </tr>\n    <tr>\n      <th>1</th>\n      <td>0xecd6140bbb896413a25d34ca87f5503b56c444f1e582...</td>\n      <td>1676673263</td>\n      <td>2023-02-17 22:34:23</td>\n      <td>0xd33e76d21d32c21811593ae54e38f68df0cfe8ed</td>\n      <td>gOHM</td>\n      <td>48.922199</td>\n      <td>silo</td>\n      <td>depositCollateral</td>\n    </tr>\n    <tr>\n      <th>2</th>\n      <td>0x54cd3f5374780bceaffae0661e2688eeca47df22b8aa...</td>\n      <td>1676555939</td>\n      <td>2023-02-16 13:58:59</td>\n      <td>0xee95e4cf086fc80df7ae0f39dfc9ea53a3eaadcb</td>\n      <td>gOHM</td>\n      <td>50.749992</td>\n      <td>silo</td>\n      <td>depositCollateral</td>\n    </tr>\n    <tr>\n      <th>3</th>\n      <td>0xe5163797f0922e4bded89126a213296a8c3d270a39e2...</td>\n      <td>1676383883</td>\n      <td>2023-02-14 14:11:23</td>\n      <td>0xc0b1f200aa9546ce074397bed7438bb2ec033877</td>\n      <td>gOHM</td>\n      <td>0.180346</td>\n      <td>silo</td>\n      <td>depositCollateral</td>\n    </tr>\n    <tr>\n      <th>4</th>\n      <td>0xcc5e09e1e5c403b6925fa25f0410388de72ef1b45f30...</td>\n      <td>1676383523</td>\n      <td>2023-02-14 14:05:23</td>\n      <td>0xc0b1f200aa9546ce074397bed7438bb2ec033877</td>\n      <td>gOHM</td>\n      <td>0.663108</td>\n      <td>silo</td>\n      <td>depositCollateral</td>\n    </tr>\n    <tr>\n      <th>...</th>\n      <td>...</td>\n      <td>...</td>\n      <td>...</td>\n      <td>...</td>\n      <td>...</td>\n      <td>...</td>\n      <td>...</td>\n      <td>...</td>\n    </tr>\n    <tr>\n      <th>22</th>\n      <td>0xbfc6df3a770233f4e0fbd6fe0cf8f6fa02f1432c570f...</td>\n      <td>1670906999</td>\n      <td>2022-12-13 04:49:59</td>\n      <td>0x339fd7c17ce670e7821f2f2ee94ddd49771483da</td>\n      <td>XAI</td>\n      <td>8000.000000</td>\n      <td>silo</td>\n      <td>borrowStablecoin</td>\n    </tr>\n    <tr>\n      <th>23</th>\n      <td>0x2485acd5a3853dc50921a27ea5bf8227871425cca3e4...</td>\n      <td>1670886647</td>\n      <td>2022-12-12 23:10:47</td>\n      <td>0x1ba67f30e25fc43863b50047d7fd4bd63b9c59ec</td>\n      <td>XAI</td>\n      <td>11900.000000</td>\n      <td>silo</td>\n      <td>borrowStablecoin</td>\n    </tr>\n    <tr>\n      <th>24</th>\n      <td>0x17fedebf20b120a55b895f96e2b466f2bbdcceb2b542...</td>\n      <td>1670881019</td>\n      <td>2022-12-12 21:36:59</td>\n      <td>0x3985caf03eef8f885edb1f8358143bdf08d8d48b</td>\n      <td>XAI</td>\n      <td>4000.000000</td>\n      <td>silo</td>\n      <td>borrowStablecoin</td>\n    </tr>\n    <tr>\n      <th>25</th>\n      <td>0x1aac54ba339ee99c2b3c69cbde905f3ddc7832ffd946...</td>\n      <td>1669246811</td>\n      <td>2022-11-23 23:40:11</td>\n      <td>0xd3064611b24eba7a6dbcbc26c1b35dfee1170880</td>\n      <td>XAI</td>\n      <td>262.000000</td>\n      <td>silo</td>\n      <td>borrowStablecoin</td>\n    </tr>\n    <tr>\n      <th>26</th>\n      <td>0x83addaa30259315b10869fa8653a468eb1cc82a43f57...</td>\n      <td>1669229867</td>\n      <td>2022-11-23 18:57:47</td>\n      <td>0x7776421dd146dfd6ea947cbf29b69c519807d259</td>\n      <td>XAI</td>\n      <td>0.182000</td>\n      <td>silo</td>\n      <td>borrowStablecoin</td>\n    </tr>\n  </tbody>\n</table>\n<p>74 rows × 8 columns</p>\n</div>"
     },
     "execution_count": 139,
     "metadata": {},
     "output_type": "execute_result"
    }
   ],
   "source": [
    "stablecoinsBorrowedWithGOHMCollateralEvents = pd.DataFrame()\n",
    "stablecoinsBorrowedWithGOHMCollateralEvents = pd.concat([gOHMCollateralDeposits,gOHMCollateralWithdrawals,stablecoinsBorrowedWithGOHMCollateral])\n",
    "stablecoinsBorrowedWithGOHMCollateralEvents.head(1000)"
   ],
   "metadata": {
    "collapsed": false
   }
  },
  {
   "cell_type": "code",
   "execution_count": 140,
   "outputs": [
    {
     "name": "stdout",
     "output_type": "stream",
     "text": [
      "/Users/ianbrillembourg/Dropbox/Documents/Edgecaser LLC/Projects/Olympus/Econohmetrics/gohmAsStablecoinCollateral/data/stablecoinsBorrowedWithGOHMCollateralEvents_piped.csv file saved, 74  records at 2023-02-21 11:40:48.108483\n"
     ]
    }
   ],
   "source": [
    "stablecoinsBorrowedWithGOHMCollateralEventsLength = len(stablecoinsBorrowedWithGOHMCollateralEvents)\n",
    "path =file+'/stablecoinsBorrowedWithGOHMCollateralEvents.csv'\n",
    "stablecoinsBorrowedWithGOHMCollateralEvents.to_csv(path, index = False)\n",
    "\n",
    "path =file+'/stablecoinsBorrowedWithGOHMCollateralEvents_piped.csv'\n",
    "stablecoinsBorrowedWithGOHMCollateralEvents.to_csv(path, index = False, sep='|')\n",
    "print(path, 'file saved,', stablecoinsBorrowedWithGOHMCollateralEventsLength,' records at', (dt.datetime.now()) )"
   ],
   "metadata": {
    "collapsed": false
   }
  },
  {
   "cell_type": "markdown",
   "source": [
    "FRAX DAILY SNAPS"
   ],
   "metadata": {
    "collapsed": false
   }
  },
  {
   "cell_type": "code",
   "execution_count": 141,
   "outputs": [
    {
     "name": "stdout",
     "output_type": "stream",
     "text": [
      "iterations:  0 Lines skipped:  0 records collected:  85  - latest recordID:  gOHM   0x66bf36dba79d4606039f04b32946a260bcd3ff52-Recent  - pairSnapshots DB length:  85  - latest record from:  1969-12-31 16:00:00 19410 days ago\n",
      "Done. Total Records collected:  85\n"
     ]
    }
   ],
   "source": [
    "pairSnapshotsListLength=0\n",
    "pairSnapshotsTicker = 0\n",
    "Snapshots = pd.DataFrame()\n",
    "pairSnapshotsDb = pd.DataFrame()\n",
    "pairSnapshotsListLength = 1000\n",
    "datediff = 0\n",
    "now=0\n",
    "daysAgo=0\n",
    "#daysLimit = 45\n",
    "exit= False\n",
    "while exit==False:\n",
    "    #listLength=0\n",
    "    skipValue = (pairSnapshotsTicker)*(1000)\n",
    "    pairsQuery = frax.Query.pairPerDays(\n",
    "         orderBy='id'\n",
    "        ,orderDirection='desc'\n",
    "        ,first=1000\n",
    "        ,skipValue = skipValue\n",
    "        #,where = [frax.Query.pairs.token.id == '0x66bf36dba79d4606039f04b32946a260bcd3ff52']\n",
    "        ,where={ 'pair': '0x66bf36dba79d4606039f04b32946a260bcd3ff52' }\n",
    "        #,where = {'positions.pairid':'0x66bf36dba79d4606039f04b32946a260bcd3ff52'}\n",
    "    #{'users_positions_pair_id':'0x66bf36dba79d4606039f04b32946a260bcd3ff52'}\n",
    "\n",
    "    )\n",
    "    Snapshots= sg.query_df([\n",
    "    pairsQuery.id\n",
    "    ,pairsQuery.pair.collateral.symbol\n",
    "    ,pairsQuery.pair.collateral.decimals\n",
    "    ,pairsQuery.pair.asset.symbol\n",
    "    ,pairsQuery.pair.asset.decimals\n",
    "    ,pairsQuery.feeToProtocolRate\n",
    "    ,pairsQuery.exchangeRate\n",
    "    ,pairsQuery.totalAssetAmount\n",
    "    ,pairsQuery.totalAssetShare\n",
    "    ,pairsQuery.totalCollateral\n",
    "    ,pairsQuery.totalBorrowAmount\n",
    "    ,pairsQuery.totalBorrowShare\n",
    "    ,pairsQuery.interestPerSecond\n",
    "    ,pairsQuery.utilization\n",
    "    ,pairsQuery.totalFeesAmount\n",
    "    ,pairsQuery.totalFeesShare\n",
    "    ,pairsQuery.lastAccrued\n",
    "    ,pairsQuery.block\n",
    "    ,pairsQuery.timestamp\n",
    "    ,pairsQuery.totalAssetValue\n",
    "    ,pairsQuery.totalCollateralValue\n",
    "    ,pairsQuery.totalBorrowValue\n",
    "    ,pairsQuery.pair\n",
    "    ]\n",
    "    )\n",
    "\n",
    "    Snapshots.sort_values(by=['pairPerDays_timestamp'])\n",
    "\n",
    "    pairSnapshotsDb=pd.concat([pairSnapshotsDb, Snapshots])\n",
    "    recordTimestamp1 = pairSnapshotsDb.iat[pairSnapshotsTicker,14]\n",
    "    recordTimestamp = dt.datetime.fromtimestamp( recordTimestamp1 )\n",
    "    now = (int(dt.datetime.utcnow().timestamp()))\n",
    "    datediff=abs(int(now) - recordTimestamp1)\n",
    "    daysAgo = int(datediff/86400)\n",
    "    pairSnapshotsDbLength = len(pairSnapshotsDb)\n",
    "    pairSnapshotsListLength = len(Snapshots)\n",
    "    recordID = pairSnapshotsDb.iat[pairSnapshotsTicker,0]\n",
    "    Snapshot = pairSnapshotsDb.iat[pairSnapshotsTicker,1]\n",
    "    print(\"iterations: \", pairSnapshotsTicker, \"Lines skipped: \",skipValue, \"records collected: \", pairSnapshotsListLength, \" - latest recordID: \",Snapshot, \" \", recordID , \" - pairSnapshots DB length: \", pairSnapshotsDbLength, \" - latest record from: \", recordTimestamp, daysAgo,\"days ago\")\n",
    "    #print(\"iterations: \", pairSnapshotsTicker, \"records collected: \", pairSnapshotsListLength, \" - userdb length: \", pairSnapshotsDbLength)\n",
    "    if daysAgo>daysLimit: exit =True\n",
    "    if pairSnapshotsListLength<1000: exit =True\n",
    "    pairSnapshotsTicker = pairSnapshotsTicker+1\n",
    "\n",
    "print(\"Done. Total Records collected: \", pairSnapshotsDbLength)"
   ],
   "metadata": {
    "collapsed": false
   }
  },
  {
   "cell_type": "code",
   "execution_count": 142,
   "outputs": [
    {
     "data": {
      "text/plain": "                                      pairPerDays_id  \\\n0  0x66bf36dba79d4606039f04b32946a260bcd3ff52-Recent   \n1   0x66bf36dba79d4606039f04b32946a260bcd3ff52-19409   \n2   0x66bf36dba79d4606039f04b32946a260bcd3ff52-19408   \n3   0x66bf36dba79d4606039f04b32946a260bcd3ff52-19407   \n4   0x66bf36dba79d4606039f04b32946a260bcd3ff52-19406   \n5   0x66bf36dba79d4606039f04b32946a260bcd3ff52-19405   \n6   0x66bf36dba79d4606039f04b32946a260bcd3ff52-19404   \n7   0x66bf36dba79d4606039f04b32946a260bcd3ff52-19403   \n8   0x66bf36dba79d4606039f04b32946a260bcd3ff52-19402   \n9   0x66bf36dba79d4606039f04b32946a260bcd3ff52-19401   \n\n  pairPerDays_pair_collateral_symbol  pairPerDays_pair_collateral_decimals  \\\n0                               gOHM                                    18   \n1                               gOHM                                    18   \n2                               gOHM                                    18   \n3                               gOHM                                    18   \n4                               gOHM                                    18   \n5                               gOHM                                    18   \n6                               gOHM                                    18   \n7                               gOHM                                    18   \n8                               gOHM                                    18   \n9                               gOHM                                    18   \n\n  pairPerDays_pair_asset_symbol  pairPerDays_pair_asset_decimals  \\\n0                          FRAX                               18   \n1                          FRAX                               18   \n2                          FRAX                               18   \n3                          FRAX                               18   \n4                          FRAX                               18   \n5                          FRAX                               18   \n6                          FRAX                               18   \n7                          FRAX                               18   \n8                          FRAX                               18   \n9                          FRAX                               18   \n\n   pairPerDays_feeToProtocolRate  pairPerDays_exchangeRate  \\\n0                              0           363684761151992   \n1                              0           363684761151992   \n2                              0           353233237482579   \n3                              0           354538364355376   \n4                              0           353906299486322   \n5                              0           350112376599804   \n6                              0           363785846961333   \n7                              0           346065938064754   \n8                              0           355065538289602   \n9                              0           361722603166047   \n\n  pairPerDays_totalAssetAmount pairPerDays_totalAssetShare  \\\n0    5037338571043218964754023   4966638858282894118426824   \n1    5037338571043218964754023   4966638858282894118426824   \n2    5036458602328813008963501   4966638858282894118426824   \n3    5035386265636883114384206   4966638858282894118426824   \n4    5034722075873021602597750   4967011772748759733227735   \n5    4698486647811909309719977   4636381316961784483066425   \n6    4737561509933966578859758   4675953474727265989294250   \n7    4696443773732938768853377   4636381316961784483066425   \n8    4675315360621293243183076   4616545966840300870160156   \n9    5214478754084957077245512   5149945278165210104338772   \n\n  pairPerDays_totalCollateral  ...  \\\n0      3070504646113236841935  ...   \n1      3070504646113236841935  ...   \n2      3052722166378828892146  ...   \n3      3035712082883572555858  ...   \n4      3015712082883572555858  ...   \n5      2938561823965620072232  ...   \n6      2926144943608541855178  ...   \n7      2926505753609477928993  ...   \n8      2962449892162877274570  ...   \n9      2920785897200163201938  ...   \n\n               pairPerDays_pair_collateral_id  \\\n0  0x0ab87046fbb341d058f17cbc4c1133f25a20a52f   \n1  0x0ab87046fbb341d058f17cbc4c1133f25a20a52f   \n2  0x0ab87046fbb341d058f17cbc4c1133f25a20a52f   \n3  0x0ab87046fbb341d058f17cbc4c1133f25a20a52f   \n4  0x0ab87046fbb341d058f17cbc4c1133f25a20a52f   \n5  0x0ab87046fbb341d058f17cbc4c1133f25a20a52f   \n6  0x0ab87046fbb341d058f17cbc4c1133f25a20a52f   \n7  0x0ab87046fbb341d058f17cbc4c1133f25a20a52f   \n8  0x0ab87046fbb341d058f17cbc4c1133f25a20a52f   \n9  0x0ab87046fbb341d058f17cbc4c1133f25a20a52f   \n\n    pairPerDays_pair_oracleMultiplyAddress_id  \\\n0  0x0000000000000000000000000000000000000000   \n1  0x0000000000000000000000000000000000000000   \n2  0x0000000000000000000000000000000000000000   \n3  0x0000000000000000000000000000000000000000   \n4  0x0000000000000000000000000000000000000000   \n5  0x0000000000000000000000000000000000000000   \n6  0x0000000000000000000000000000000000000000   \n7  0x0000000000000000000000000000000000000000   \n8  0x0000000000000000000000000000000000000000   \n9  0x0000000000000000000000000000000000000000   \n\n      pairPerDays_pair_oracleDivideAddress_id  \\\n0  0xe893297a9d4310976424fd0b25f53ac2b6464fe3   \n1  0xe893297a9d4310976424fd0b25f53ac2b6464fe3   \n2  0xe893297a9d4310976424fd0b25f53ac2b6464fe3   \n3  0xe893297a9d4310976424fd0b25f53ac2b6464fe3   \n4  0xe893297a9d4310976424fd0b25f53ac2b6464fe3   \n5  0xe893297a9d4310976424fd0b25f53ac2b6464fe3   \n6  0xe893297a9d4310976424fd0b25f53ac2b6464fe3   \n7  0xe893297a9d4310976424fd0b25f53ac2b6464fe3   \n8  0xe893297a9d4310976424fd0b25f53ac2b6464fe3   \n9  0xe893297a9d4310976424fd0b25f53ac2b6464fe3   \n\n             pairPerDays_pair_rateContract_id  pairPerDays_pair_maxLTV  \\\n0  0x18500cb1f2fe7a40ebda393383a0b8548a31f261                    75000   \n1  0x18500cb1f2fe7a40ebda393383a0b8548a31f261                    75000   \n2  0x18500cb1f2fe7a40ebda393383a0b8548a31f261                    75000   \n3  0x18500cb1f2fe7a40ebda393383a0b8548a31f261                    75000   \n4  0x18500cb1f2fe7a40ebda393383a0b8548a31f261                    75000   \n5  0x18500cb1f2fe7a40ebda393383a0b8548a31f261                    75000   \n6  0x18500cb1f2fe7a40ebda393383a0b8548a31f261                    75000   \n7  0x18500cb1f2fe7a40ebda393383a0b8548a31f261                    75000   \n8  0x18500cb1f2fe7a40ebda393383a0b8548a31f261                    75000   \n9  0x18500cb1f2fe7a40ebda393383a0b8548a31f261                    75000   \n\n   pairPerDays_pair_liquidationFee  pairPerDays_pair_maturity  \\\n0                            10000                          0   \n1                            10000                          0   \n2                            10000                          0   \n3                            10000                          0   \n4                            10000                          0   \n5                            10000                          0   \n6                            10000                          0   \n7                            10000                          0   \n8                            10000                          0   \n9                            10000                          0   \n\n   pairPerDays_pair_pauseStatus  pairPerDays_pair_lenderWhitelistActive  \\\n0                         False                                   False   \n1                         False                                   False   \n2                         False                                   False   \n3                         False                                   False   \n4                         False                                   False   \n5                         False                                   False   \n6                         False                                   False   \n7                         False                                   False   \n8                         False                                   False   \n9                         False                                   False   \n\n  pairPerDays_pair_borrowerWhitelistActive  \n0                                    False  \n1                                    False  \n2                                    False  \n3                                    False  \n4                                    False  \n5                                    False  \n6                                    False  \n7                                    False  \n8                                    False  \n9                                    False  \n\n[10 rows x 37 columns]",
      "text/html": "<div>\n<style scoped>\n    .dataframe tbody tr th:only-of-type {\n        vertical-align: middle;\n    }\n\n    .dataframe tbody tr th {\n        vertical-align: top;\n    }\n\n    .dataframe thead th {\n        text-align: right;\n    }\n</style>\n<table border=\"1\" class=\"dataframe\">\n  <thead>\n    <tr style=\"text-align: right;\">\n      <th></th>\n      <th>pairPerDays_id</th>\n      <th>pairPerDays_pair_collateral_symbol</th>\n      <th>pairPerDays_pair_collateral_decimals</th>\n      <th>pairPerDays_pair_asset_symbol</th>\n      <th>pairPerDays_pair_asset_decimals</th>\n      <th>pairPerDays_feeToProtocolRate</th>\n      <th>pairPerDays_exchangeRate</th>\n      <th>pairPerDays_totalAssetAmount</th>\n      <th>pairPerDays_totalAssetShare</th>\n      <th>pairPerDays_totalCollateral</th>\n      <th>...</th>\n      <th>pairPerDays_pair_collateral_id</th>\n      <th>pairPerDays_pair_oracleMultiplyAddress_id</th>\n      <th>pairPerDays_pair_oracleDivideAddress_id</th>\n      <th>pairPerDays_pair_rateContract_id</th>\n      <th>pairPerDays_pair_maxLTV</th>\n      <th>pairPerDays_pair_liquidationFee</th>\n      <th>pairPerDays_pair_maturity</th>\n      <th>pairPerDays_pair_pauseStatus</th>\n      <th>pairPerDays_pair_lenderWhitelistActive</th>\n      <th>pairPerDays_pair_borrowerWhitelistActive</th>\n    </tr>\n  </thead>\n  <tbody>\n    <tr>\n      <th>0</th>\n      <td>0x66bf36dba79d4606039f04b32946a260bcd3ff52-Recent</td>\n      <td>gOHM</td>\n      <td>18</td>\n      <td>FRAX</td>\n      <td>18</td>\n      <td>0</td>\n      <td>363684761151992</td>\n      <td>5037338571043218964754023</td>\n      <td>4966638858282894118426824</td>\n      <td>3070504646113236841935</td>\n      <td>...</td>\n      <td>0x0ab87046fbb341d058f17cbc4c1133f25a20a52f</td>\n      <td>0x0000000000000000000000000000000000000000</td>\n      <td>0xe893297a9d4310976424fd0b25f53ac2b6464fe3</td>\n      <td>0x18500cb1f2fe7a40ebda393383a0b8548a31f261</td>\n      <td>75000</td>\n      <td>10000</td>\n      <td>0</td>\n      <td>False</td>\n      <td>False</td>\n      <td>False</td>\n    </tr>\n    <tr>\n      <th>1</th>\n      <td>0x66bf36dba79d4606039f04b32946a260bcd3ff52-19409</td>\n      <td>gOHM</td>\n      <td>18</td>\n      <td>FRAX</td>\n      <td>18</td>\n      <td>0</td>\n      <td>363684761151992</td>\n      <td>5037338571043218964754023</td>\n      <td>4966638858282894118426824</td>\n      <td>3070504646113236841935</td>\n      <td>...</td>\n      <td>0x0ab87046fbb341d058f17cbc4c1133f25a20a52f</td>\n      <td>0x0000000000000000000000000000000000000000</td>\n      <td>0xe893297a9d4310976424fd0b25f53ac2b6464fe3</td>\n      <td>0x18500cb1f2fe7a40ebda393383a0b8548a31f261</td>\n      <td>75000</td>\n      <td>10000</td>\n      <td>0</td>\n      <td>False</td>\n      <td>False</td>\n      <td>False</td>\n    </tr>\n    <tr>\n      <th>2</th>\n      <td>0x66bf36dba79d4606039f04b32946a260bcd3ff52-19408</td>\n      <td>gOHM</td>\n      <td>18</td>\n      <td>FRAX</td>\n      <td>18</td>\n      <td>0</td>\n      <td>353233237482579</td>\n      <td>5036458602328813008963501</td>\n      <td>4966638858282894118426824</td>\n      <td>3052722166378828892146</td>\n      <td>...</td>\n      <td>0x0ab87046fbb341d058f17cbc4c1133f25a20a52f</td>\n      <td>0x0000000000000000000000000000000000000000</td>\n      <td>0xe893297a9d4310976424fd0b25f53ac2b6464fe3</td>\n      <td>0x18500cb1f2fe7a40ebda393383a0b8548a31f261</td>\n      <td>75000</td>\n      <td>10000</td>\n      <td>0</td>\n      <td>False</td>\n      <td>False</td>\n      <td>False</td>\n    </tr>\n    <tr>\n      <th>3</th>\n      <td>0x66bf36dba79d4606039f04b32946a260bcd3ff52-19407</td>\n      <td>gOHM</td>\n      <td>18</td>\n      <td>FRAX</td>\n      <td>18</td>\n      <td>0</td>\n      <td>354538364355376</td>\n      <td>5035386265636883114384206</td>\n      <td>4966638858282894118426824</td>\n      <td>3035712082883572555858</td>\n      <td>...</td>\n      <td>0x0ab87046fbb341d058f17cbc4c1133f25a20a52f</td>\n      <td>0x0000000000000000000000000000000000000000</td>\n      <td>0xe893297a9d4310976424fd0b25f53ac2b6464fe3</td>\n      <td>0x18500cb1f2fe7a40ebda393383a0b8548a31f261</td>\n      <td>75000</td>\n      <td>10000</td>\n      <td>0</td>\n      <td>False</td>\n      <td>False</td>\n      <td>False</td>\n    </tr>\n    <tr>\n      <th>4</th>\n      <td>0x66bf36dba79d4606039f04b32946a260bcd3ff52-19406</td>\n      <td>gOHM</td>\n      <td>18</td>\n      <td>FRAX</td>\n      <td>18</td>\n      <td>0</td>\n      <td>353906299486322</td>\n      <td>5034722075873021602597750</td>\n      <td>4967011772748759733227735</td>\n      <td>3015712082883572555858</td>\n      <td>...</td>\n      <td>0x0ab87046fbb341d058f17cbc4c1133f25a20a52f</td>\n      <td>0x0000000000000000000000000000000000000000</td>\n      <td>0xe893297a9d4310976424fd0b25f53ac2b6464fe3</td>\n      <td>0x18500cb1f2fe7a40ebda393383a0b8548a31f261</td>\n      <td>75000</td>\n      <td>10000</td>\n      <td>0</td>\n      <td>False</td>\n      <td>False</td>\n      <td>False</td>\n    </tr>\n    <tr>\n      <th>5</th>\n      <td>0x66bf36dba79d4606039f04b32946a260bcd3ff52-19405</td>\n      <td>gOHM</td>\n      <td>18</td>\n      <td>FRAX</td>\n      <td>18</td>\n      <td>0</td>\n      <td>350112376599804</td>\n      <td>4698486647811909309719977</td>\n      <td>4636381316961784483066425</td>\n      <td>2938561823965620072232</td>\n      <td>...</td>\n      <td>0x0ab87046fbb341d058f17cbc4c1133f25a20a52f</td>\n      <td>0x0000000000000000000000000000000000000000</td>\n      <td>0xe893297a9d4310976424fd0b25f53ac2b6464fe3</td>\n      <td>0x18500cb1f2fe7a40ebda393383a0b8548a31f261</td>\n      <td>75000</td>\n      <td>10000</td>\n      <td>0</td>\n      <td>False</td>\n      <td>False</td>\n      <td>False</td>\n    </tr>\n    <tr>\n      <th>6</th>\n      <td>0x66bf36dba79d4606039f04b32946a260bcd3ff52-19404</td>\n      <td>gOHM</td>\n      <td>18</td>\n      <td>FRAX</td>\n      <td>18</td>\n      <td>0</td>\n      <td>363785846961333</td>\n      <td>4737561509933966578859758</td>\n      <td>4675953474727265989294250</td>\n      <td>2926144943608541855178</td>\n      <td>...</td>\n      <td>0x0ab87046fbb341d058f17cbc4c1133f25a20a52f</td>\n      <td>0x0000000000000000000000000000000000000000</td>\n      <td>0xe893297a9d4310976424fd0b25f53ac2b6464fe3</td>\n      <td>0x18500cb1f2fe7a40ebda393383a0b8548a31f261</td>\n      <td>75000</td>\n      <td>10000</td>\n      <td>0</td>\n      <td>False</td>\n      <td>False</td>\n      <td>False</td>\n    </tr>\n    <tr>\n      <th>7</th>\n      <td>0x66bf36dba79d4606039f04b32946a260bcd3ff52-19403</td>\n      <td>gOHM</td>\n      <td>18</td>\n      <td>FRAX</td>\n      <td>18</td>\n      <td>0</td>\n      <td>346065938064754</td>\n      <td>4696443773732938768853377</td>\n      <td>4636381316961784483066425</td>\n      <td>2926505753609477928993</td>\n      <td>...</td>\n      <td>0x0ab87046fbb341d058f17cbc4c1133f25a20a52f</td>\n      <td>0x0000000000000000000000000000000000000000</td>\n      <td>0xe893297a9d4310976424fd0b25f53ac2b6464fe3</td>\n      <td>0x18500cb1f2fe7a40ebda393383a0b8548a31f261</td>\n      <td>75000</td>\n      <td>10000</td>\n      <td>0</td>\n      <td>False</td>\n      <td>False</td>\n      <td>False</td>\n    </tr>\n    <tr>\n      <th>8</th>\n      <td>0x66bf36dba79d4606039f04b32946a260bcd3ff52-19402</td>\n      <td>gOHM</td>\n      <td>18</td>\n      <td>FRAX</td>\n      <td>18</td>\n      <td>0</td>\n      <td>355065538289602</td>\n      <td>4675315360621293243183076</td>\n      <td>4616545966840300870160156</td>\n      <td>2962449892162877274570</td>\n      <td>...</td>\n      <td>0x0ab87046fbb341d058f17cbc4c1133f25a20a52f</td>\n      <td>0x0000000000000000000000000000000000000000</td>\n      <td>0xe893297a9d4310976424fd0b25f53ac2b6464fe3</td>\n      <td>0x18500cb1f2fe7a40ebda393383a0b8548a31f261</td>\n      <td>75000</td>\n      <td>10000</td>\n      <td>0</td>\n      <td>False</td>\n      <td>False</td>\n      <td>False</td>\n    </tr>\n    <tr>\n      <th>9</th>\n      <td>0x66bf36dba79d4606039f04b32946a260bcd3ff52-19401</td>\n      <td>gOHM</td>\n      <td>18</td>\n      <td>FRAX</td>\n      <td>18</td>\n      <td>0</td>\n      <td>361722603166047</td>\n      <td>5214478754084957077245512</td>\n      <td>5149945278165210104338772</td>\n      <td>2920785897200163201938</td>\n      <td>...</td>\n      <td>0x0ab87046fbb341d058f17cbc4c1133f25a20a52f</td>\n      <td>0x0000000000000000000000000000000000000000</td>\n      <td>0xe893297a9d4310976424fd0b25f53ac2b6464fe3</td>\n      <td>0x18500cb1f2fe7a40ebda393383a0b8548a31f261</td>\n      <td>75000</td>\n      <td>10000</td>\n      <td>0</td>\n      <td>False</td>\n      <td>False</td>\n      <td>False</td>\n    </tr>\n  </tbody>\n</table>\n<p>10 rows × 37 columns</p>\n</div>"
     },
     "execution_count": 142,
     "metadata": {},
     "output_type": "execute_result"
    }
   ],
   "source": [
    "pairSnapshotsDb.head(10)"
   ],
   "metadata": {
    "collapsed": false
   }
  },
  {
   "cell_type": "code",
   "execution_count": 143,
   "outputs": [
    {
     "data": {
      "text/plain": "                                       pairPerDays_id  \\\n0   0x66bf36dba79d4606039f04b32946a260bcd3ff52-Recent   \n1    0x66bf36dba79d4606039f04b32946a260bcd3ff52-19409   \n2    0x66bf36dba79d4606039f04b32946a260bcd3ff52-19408   \n3    0x66bf36dba79d4606039f04b32946a260bcd3ff52-19407   \n4    0x66bf36dba79d4606039f04b32946a260bcd3ff52-19406   \n..                                                ...   \n80   0x66bf36dba79d4606039f04b32946a260bcd3ff52-19330   \n81   0x66bf36dba79d4606039f04b32946a260bcd3ff52-19329   \n82   0x66bf36dba79d4606039f04b32946a260bcd3ff52-19328   \n83   0x66bf36dba79d4606039f04b32946a260bcd3ff52-19327   \n84   0x66bf36dba79d4606039f04b32946a260bcd3ff52-19326   \n\n   pairPerDays_pair_collateral_symbol  pairPerDays_pair_collateral_decimals  \\\n0                                gOHM                                    18   \n1                                gOHM                                    18   \n2                                gOHM                                    18   \n3                                gOHM                                    18   \n4                                gOHM                                    18   \n..                                ...                                   ...   \n80                               gOHM                                    18   \n81                               gOHM                                    18   \n82                               gOHM                                    18   \n83                               gOHM                                    18   \n84                               gOHM                                    18   \n\n   pairPerDays_pair_asset_symbol  pairPerDays_pair_asset_decimals  \\\n0                           FRAX                               18   \n1                           FRAX                               18   \n2                           FRAX                               18   \n3                           FRAX                               18   \n4                           FRAX                               18   \n..                           ...                              ...   \n80                          FRAX                               18   \n81                          FRAX                               18   \n82                          FRAX                               18   \n83                          FRAX                               18   \n84                          FRAX                               18   \n\n    pairPerDays_feeToProtocolRate  pairPerDays_exchangeRate  \\\n0                               0           363684761151992   \n1                               0           363684761151992   \n2                               0           353233237482579   \n3                               0           354538364355376   \n4                               0           353906299486322   \n..                            ...                       ...   \n80                              0           416982985435782   \n81                              0           435238970363534   \n82                              0           424429606966213   \n83                              0           455232217741157   \n84                              0           444954878564299   \n\n   pairPerDays_totalAssetAmount pairPerDays_totalAssetShare  \\\n0     5037338571043218964754023   4966638858282894118426824   \n1     5037338571043218964754023   4966638858282894118426824   \n2     5036458602328813008963501   4966638858282894118426824   \n3     5035386265636883114384206   4966638858282894118426824   \n4     5034722075873021602597750   4967011772748759733227735   \n..                          ...                         ...   \n80    3000265799749067769553552   2999681610314728238726349   \n81    3000407417762830870845360   2999931610314728238726349   \n82    3000316417810236657492429   2999931610314728238726349   \n83    1000250018374254924219488   1000177511746822029696096   \n84                            0                           0   \n\n   pairPerDays_totalCollateral  ... pairPerDays_pair_maxLTV  \\\n0       3070504646113236841935  ...                   75000   \n1       3070504646113236841935  ...                   75000   \n2       3052722166378828892146  ...                   75000   \n3       3035712082883572555858  ...                   75000   \n4       3015712082883572555858  ...                   75000   \n..                         ...  ...                     ...   \n80      1702267776392927486576  ...                   75000   \n81      1460557767872656691963  ...                   75000   \n82      1298896246642712535146  ...                   75000   \n83          116544304370705257  ...                   75000   \n84                           0  ...                   75000   \n\n   pairPerDays_pair_liquidationFee  pairPerDays_pair_maturity  \\\n0                            10000                          0   \n1                            10000                          0   \n2                            10000                          0   \n3                            10000                          0   \n4                            10000                          0   \n..                             ...                        ...   \n80                           10000                          0   \n81                           10000                          0   \n82                           10000                          0   \n83                           10000                          0   \n84                           10000                          0   \n\n    pairPerDays_pair_pauseStatus  pairPerDays_pair_lenderWhitelistActive  \\\n0                          False                                   False   \n1                          False                                   False   \n2                          False                                   False   \n3                          False                                   False   \n4                          False                                   False   \n..                           ...                                     ...   \n80                         False                                   False   \n81                         False                                   False   \n82                         False                                   False   \n83                         False                                   False   \n84                         False                                   False   \n\n    pairPerDays_pair_borrowerWhitelistActive  \\\n0                                      False   \n1                                      False   \n2                                      False   \n3                                      False   \n4                                      False   \n..                                       ...   \n80                                     False   \n81                                     False   \n82                                     False   \n83                                     False   \n84                                     False   \n\n    pairPerDays_totalCollateralReadable  pairPerDays_totalAssetAmountReadable  \\\n0                           3070.504646                          5.037339e+06   \n1                           3070.504646                          5.037339e+06   \n2                           3052.722166                          5.036459e+06   \n3                           3035.712083                          5.035386e+06   \n4                           3015.712083                          5.034722e+06   \n..                                  ...                                   ...   \n80                          1702.267776                          3.000266e+06   \n81                          1460.557768                          3.000407e+06   \n82                          1298.896247                          3.000316e+06   \n83                             0.116544                          1.000250e+06   \n84                             0.000000                          0.000000e+00   \n\n    pairPerDays_totalBorrowAmountReadable            dateTime  \n0                            4.234425e+06 2023-02-21 17:32:59  \n1                            4.234425e+06 2023-02-21 17:32:59  \n2                            4.212153e+06 2023-02-20 23:07:59  \n3                            4.191081e+06 2023-02-19 20:16:23  \n4                            4.129513e+06 2023-02-18 22:49:59  \n..                                    ...                 ...  \n80                           1.642246e+06 2022-12-04 23:12:59  \n81                           1.358687e+06 2022-12-03 23:30:59  \n82                           1.287539e+06 2022-12-02 23:55:59  \n83                           1.821276e+02 2022-12-01 21:30:47  \n84                           0.000000e+00 2022-11-30 18:49:35  \n\n[85 rows x 41 columns]",
      "text/html": "<div>\n<style scoped>\n    .dataframe tbody tr th:only-of-type {\n        vertical-align: middle;\n    }\n\n    .dataframe tbody tr th {\n        vertical-align: top;\n    }\n\n    .dataframe thead th {\n        text-align: right;\n    }\n</style>\n<table border=\"1\" class=\"dataframe\">\n  <thead>\n    <tr style=\"text-align: right;\">\n      <th></th>\n      <th>pairPerDays_id</th>\n      <th>pairPerDays_pair_collateral_symbol</th>\n      <th>pairPerDays_pair_collateral_decimals</th>\n      <th>pairPerDays_pair_asset_symbol</th>\n      <th>pairPerDays_pair_asset_decimals</th>\n      <th>pairPerDays_feeToProtocolRate</th>\n      <th>pairPerDays_exchangeRate</th>\n      <th>pairPerDays_totalAssetAmount</th>\n      <th>pairPerDays_totalAssetShare</th>\n      <th>pairPerDays_totalCollateral</th>\n      <th>...</th>\n      <th>pairPerDays_pair_maxLTV</th>\n      <th>pairPerDays_pair_liquidationFee</th>\n      <th>pairPerDays_pair_maturity</th>\n      <th>pairPerDays_pair_pauseStatus</th>\n      <th>pairPerDays_pair_lenderWhitelistActive</th>\n      <th>pairPerDays_pair_borrowerWhitelistActive</th>\n      <th>pairPerDays_totalCollateralReadable</th>\n      <th>pairPerDays_totalAssetAmountReadable</th>\n      <th>pairPerDays_totalBorrowAmountReadable</th>\n      <th>dateTime</th>\n    </tr>\n  </thead>\n  <tbody>\n    <tr>\n      <th>0</th>\n      <td>0x66bf36dba79d4606039f04b32946a260bcd3ff52-Recent</td>\n      <td>gOHM</td>\n      <td>18</td>\n      <td>FRAX</td>\n      <td>18</td>\n      <td>0</td>\n      <td>363684761151992</td>\n      <td>5037338571043218964754023</td>\n      <td>4966638858282894118426824</td>\n      <td>3070504646113236841935</td>\n      <td>...</td>\n      <td>75000</td>\n      <td>10000</td>\n      <td>0</td>\n      <td>False</td>\n      <td>False</td>\n      <td>False</td>\n      <td>3070.504646</td>\n      <td>5.037339e+06</td>\n      <td>4.234425e+06</td>\n      <td>2023-02-21 17:32:59</td>\n    </tr>\n    <tr>\n      <th>1</th>\n      <td>0x66bf36dba79d4606039f04b32946a260bcd3ff52-19409</td>\n      <td>gOHM</td>\n      <td>18</td>\n      <td>FRAX</td>\n      <td>18</td>\n      <td>0</td>\n      <td>363684761151992</td>\n      <td>5037338571043218964754023</td>\n      <td>4966638858282894118426824</td>\n      <td>3070504646113236841935</td>\n      <td>...</td>\n      <td>75000</td>\n      <td>10000</td>\n      <td>0</td>\n      <td>False</td>\n      <td>False</td>\n      <td>False</td>\n      <td>3070.504646</td>\n      <td>5.037339e+06</td>\n      <td>4.234425e+06</td>\n      <td>2023-02-21 17:32:59</td>\n    </tr>\n    <tr>\n      <th>2</th>\n      <td>0x66bf36dba79d4606039f04b32946a260bcd3ff52-19408</td>\n      <td>gOHM</td>\n      <td>18</td>\n      <td>FRAX</td>\n      <td>18</td>\n      <td>0</td>\n      <td>353233237482579</td>\n      <td>5036458602328813008963501</td>\n      <td>4966638858282894118426824</td>\n      <td>3052722166378828892146</td>\n      <td>...</td>\n      <td>75000</td>\n      <td>10000</td>\n      <td>0</td>\n      <td>False</td>\n      <td>False</td>\n      <td>False</td>\n      <td>3052.722166</td>\n      <td>5.036459e+06</td>\n      <td>4.212153e+06</td>\n      <td>2023-02-20 23:07:59</td>\n    </tr>\n    <tr>\n      <th>3</th>\n      <td>0x66bf36dba79d4606039f04b32946a260bcd3ff52-19407</td>\n      <td>gOHM</td>\n      <td>18</td>\n      <td>FRAX</td>\n      <td>18</td>\n      <td>0</td>\n      <td>354538364355376</td>\n      <td>5035386265636883114384206</td>\n      <td>4966638858282894118426824</td>\n      <td>3035712082883572555858</td>\n      <td>...</td>\n      <td>75000</td>\n      <td>10000</td>\n      <td>0</td>\n      <td>False</td>\n      <td>False</td>\n      <td>False</td>\n      <td>3035.712083</td>\n      <td>5.035386e+06</td>\n      <td>4.191081e+06</td>\n      <td>2023-02-19 20:16:23</td>\n    </tr>\n    <tr>\n      <th>4</th>\n      <td>0x66bf36dba79d4606039f04b32946a260bcd3ff52-19406</td>\n      <td>gOHM</td>\n      <td>18</td>\n      <td>FRAX</td>\n      <td>18</td>\n      <td>0</td>\n      <td>353906299486322</td>\n      <td>5034722075873021602597750</td>\n      <td>4967011772748759733227735</td>\n      <td>3015712082883572555858</td>\n      <td>...</td>\n      <td>75000</td>\n      <td>10000</td>\n      <td>0</td>\n      <td>False</td>\n      <td>False</td>\n      <td>False</td>\n      <td>3015.712083</td>\n      <td>5.034722e+06</td>\n      <td>4.129513e+06</td>\n      <td>2023-02-18 22:49:59</td>\n    </tr>\n    <tr>\n      <th>...</th>\n      <td>...</td>\n      <td>...</td>\n      <td>...</td>\n      <td>...</td>\n      <td>...</td>\n      <td>...</td>\n      <td>...</td>\n      <td>...</td>\n      <td>...</td>\n      <td>...</td>\n      <td>...</td>\n      <td>...</td>\n      <td>...</td>\n      <td>...</td>\n      <td>...</td>\n      <td>...</td>\n      <td>...</td>\n      <td>...</td>\n      <td>...</td>\n      <td>...</td>\n      <td>...</td>\n    </tr>\n    <tr>\n      <th>80</th>\n      <td>0x66bf36dba79d4606039f04b32946a260bcd3ff52-19330</td>\n      <td>gOHM</td>\n      <td>18</td>\n      <td>FRAX</td>\n      <td>18</td>\n      <td>0</td>\n      <td>416982985435782</td>\n      <td>3000265799749067769553552</td>\n      <td>2999681610314728238726349</td>\n      <td>1702267776392927486576</td>\n      <td>...</td>\n      <td>75000</td>\n      <td>10000</td>\n      <td>0</td>\n      <td>False</td>\n      <td>False</td>\n      <td>False</td>\n      <td>1702.267776</td>\n      <td>3.000266e+06</td>\n      <td>1.642246e+06</td>\n      <td>2022-12-04 23:12:59</td>\n    </tr>\n    <tr>\n      <th>81</th>\n      <td>0x66bf36dba79d4606039f04b32946a260bcd3ff52-19329</td>\n      <td>gOHM</td>\n      <td>18</td>\n      <td>FRAX</td>\n      <td>18</td>\n      <td>0</td>\n      <td>435238970363534</td>\n      <td>3000407417762830870845360</td>\n      <td>2999931610314728238726349</td>\n      <td>1460557767872656691963</td>\n      <td>...</td>\n      <td>75000</td>\n      <td>10000</td>\n      <td>0</td>\n      <td>False</td>\n      <td>False</td>\n      <td>False</td>\n      <td>1460.557768</td>\n      <td>3.000407e+06</td>\n      <td>1.358687e+06</td>\n      <td>2022-12-03 23:30:59</td>\n    </tr>\n    <tr>\n      <th>82</th>\n      <td>0x66bf36dba79d4606039f04b32946a260bcd3ff52-19328</td>\n      <td>gOHM</td>\n      <td>18</td>\n      <td>FRAX</td>\n      <td>18</td>\n      <td>0</td>\n      <td>424429606966213</td>\n      <td>3000316417810236657492429</td>\n      <td>2999931610314728238726349</td>\n      <td>1298896246642712535146</td>\n      <td>...</td>\n      <td>75000</td>\n      <td>10000</td>\n      <td>0</td>\n      <td>False</td>\n      <td>False</td>\n      <td>False</td>\n      <td>1298.896247</td>\n      <td>3.000316e+06</td>\n      <td>1.287539e+06</td>\n      <td>2022-12-02 23:55:59</td>\n    </tr>\n    <tr>\n      <th>83</th>\n      <td>0x66bf36dba79d4606039f04b32946a260bcd3ff52-19327</td>\n      <td>gOHM</td>\n      <td>18</td>\n      <td>FRAX</td>\n      <td>18</td>\n      <td>0</td>\n      <td>455232217741157</td>\n      <td>1000250018374254924219488</td>\n      <td>1000177511746822029696096</td>\n      <td>116544304370705257</td>\n      <td>...</td>\n      <td>75000</td>\n      <td>10000</td>\n      <td>0</td>\n      <td>False</td>\n      <td>False</td>\n      <td>False</td>\n      <td>0.116544</td>\n      <td>1.000250e+06</td>\n      <td>1.821276e+02</td>\n      <td>2022-12-01 21:30:47</td>\n    </tr>\n    <tr>\n      <th>84</th>\n      <td>0x66bf36dba79d4606039f04b32946a260bcd3ff52-19326</td>\n      <td>gOHM</td>\n      <td>18</td>\n      <td>FRAX</td>\n      <td>18</td>\n      <td>0</td>\n      <td>444954878564299</td>\n      <td>0</td>\n      <td>0</td>\n      <td>0</td>\n      <td>...</td>\n      <td>75000</td>\n      <td>10000</td>\n      <td>0</td>\n      <td>False</td>\n      <td>False</td>\n      <td>False</td>\n      <td>0.000000</td>\n      <td>0.000000e+00</td>\n      <td>0.000000e+00</td>\n      <td>2022-11-30 18:49:35</td>\n    </tr>\n  </tbody>\n</table>\n<p>85 rows × 41 columns</p>\n</div>"
     },
     "execution_count": 143,
     "metadata": {},
     "output_type": "execute_result"
    }
   ],
   "source": [
    "pairSnapshotsDb['pairPerDays_totalCollateralReadable'] = pairSnapshotsDb['pairPerDays_totalCollateral']/(10**(pairSnapshotsDb['pairPerDays_pair_collateral_decimals']))\n",
    "pairSnapshotsDb['pairPerDays_totalCollateralReadable']=pairSnapshotsDb['pairPerDays_totalCollateralReadable'].astype('float')\n",
    "\n",
    "pairSnapshotsDb['pairPerDays_totalAssetAmountReadable'] = pairSnapshotsDb['pairPerDays_totalAssetAmount']/(10**(pairSnapshotsDb['pairPerDays_pair_asset_decimals']))\n",
    "pairSnapshotsDb['pairPerDays_totalAssetAmountReadable']=pairSnapshotsDb['pairPerDays_totalAssetAmountReadable'].astype('float')\n",
    "\n",
    "pairSnapshotsDb['pairPerDays_totalBorrowAmountReadable'] = pairSnapshotsDb['pairPerDays_totalBorrowAmount']/(10**(pairSnapshotsDb['pairPerDays_pair_asset_decimals']))\n",
    "pairSnapshotsDb['pairPerDays_totalBorrowAmountReadable']=pairSnapshotsDb['pairPerDays_totalBorrowAmountReadable'].astype('float')\n",
    "\n",
    "\n",
    "pairSnapshotsDb['dateTime'] =(pd.to_datetime(pairSnapshotsDb['pairPerDays_timestamp'],unit='s'))\n",
    "\n",
    "pairSnapshotsDb.drop_duplicates(keep =\"first\",inplace = True)\n",
    "\n",
    "\n",
    "pairSnapshotsDb.head(2000)"
   ],
   "metadata": {
    "collapsed": false
   }
  },
  {
   "cell_type": "code",
   "execution_count": 144,
   "outputs": [
    {
     "name": "stdout",
     "output_type": "stream",
     "text": [
      "/Users/ianbrillembourg/Dropbox/Documents/Edgecaser LLC/Projects/Olympus/Econohmetrics/gohmAsStablecoinCollateral/data/fraxPairSnapshotsLength_piped.csv file saved, 85  records at 2023-02-21 11:40:48.822122\n"
     ]
    }
   ],
   "source": [
    "fraxPairSnapshotsLength = len(pairSnapshotsDb)\n",
    "path =file+'/fraxPairSnapshotsLength.csv'\n",
    "pairSnapshotsDb.to_csv(path, index = False)\n",
    "\n",
    "path =file+'/fraxPairSnapshotsLength_piped.csv'\n",
    "pairSnapshotsDb.to_csv(path, index = False, sep='|')\n",
    "print(path, 'file saved,', fraxPairSnapshotsLength,' records at', (dt.datetime.now()) )"
   ],
   "metadata": {
    "collapsed": false
   }
  },
  {
   "cell_type": "code",
   "execution_count": 145,
   "outputs": [
    {
     "data": {
      "text/plain": "3070.504646113237"
     },
     "execution_count": 145,
     "metadata": {},
     "output_type": "execute_result"
    }
   ],
   "source": [
    "fraxCollateral = pairSnapshotsDb.iat[pairSnapshotsTicker,37]\n",
    "fraxCollateral"
   ],
   "metadata": {
    "collapsed": false
   }
  },
  {
   "cell_type": "code",
   "execution_count": 146,
   "outputs": [
    {
     "data": {
      "text/plain": "187.92484332506004"
     },
     "execution_count": 146,
     "metadata": {},
     "output_type": "execute_result"
    }
   ],
   "source": [
    "siloCollateralBalance"
   ],
   "metadata": {
    "collapsed": false
   }
  },
  {
   "cell_type": "code",
   "execution_count": 147,
   "outputs": [
    {
     "data": {
      "text/plain": "Timestamp('2023-02-21 17:32:59')"
     },
     "execution_count": 147,
     "metadata": {},
     "output_type": "execute_result"
    }
   ],
   "source": [
    "totalBorrowedUSDFrax= pairSnapshotsDb.iat[pairSnapshotsTicker,40]\n",
    "totalBorrowedUSDFrax"
   ],
   "metadata": {
    "collapsed": false
   }
  },
  {
   "cell_type": "code",
   "execution_count": 148,
   "outputs": [
    {
     "data": {
      "text/plain": "  protocol  collateralBalance        totalBorrowed\n0     Frax        3070.504646  2023-02-21 17:32:59\n1    vesta           0.000000                    0\n2     silo         187.924843         571167.72762",
      "text/html": "<div>\n<style scoped>\n    .dataframe tbody tr th:only-of-type {\n        vertical-align: middle;\n    }\n\n    .dataframe tbody tr th {\n        vertical-align: top;\n    }\n\n    .dataframe thead th {\n        text-align: right;\n    }\n</style>\n<table border=\"1\" class=\"dataframe\">\n  <thead>\n    <tr style=\"text-align: right;\">\n      <th></th>\n      <th>protocol</th>\n      <th>collateralBalance</th>\n      <th>totalBorrowed</th>\n    </tr>\n  </thead>\n  <tbody>\n    <tr>\n      <th>0</th>\n      <td>Frax</td>\n      <td>3070.504646</td>\n      <td>2023-02-21 17:32:59</td>\n    </tr>\n    <tr>\n      <th>1</th>\n      <td>vesta</td>\n      <td>0.000000</td>\n      <td>0</td>\n    </tr>\n    <tr>\n      <th>2</th>\n      <td>silo</td>\n      <td>187.924843</td>\n      <td>571167.72762</td>\n    </tr>\n  </tbody>\n</table>\n</div>"
     },
     "execution_count": 148,
     "metadata": {},
     "output_type": "execute_result"
    }
   ],
   "source": [
    "collateralGohmLevels = pd.DataFrame({\n",
    "    'protocol':['Frax','vesta','silo'],\n",
    "    'collateralBalance':[fraxCollateral,0,siloCollateralBalance],\n",
    "    'totalBorrowed':[totalBorrowedUSDFrax,0,totalBorrowedUSDSilo]\n",
    "})\n",
    "collateralGohmLevels.head(10)"
   ],
   "metadata": {
    "collapsed": false
   }
  },
  {
   "cell_type": "code",
   "execution_count": 149,
   "outputs": [
    {
     "name": "stdout",
     "output_type": "stream",
     "text": [
      "/Users/ianbrillembourg/Dropbox/Documents/Edgecaser LLC/Projects/Olympus/Econohmetrics/gohmAsStablecoinCollateral/data/collateralGohmLevels_piped.csv file saved, 3  records at 2023-02-21 11:40:48.875686\n"
     ]
    }
   ],
   "source": [
    "collateralGohmLevelsLength = len(collateralGohmLevels)\n",
    "path =file+'/collateralGohmLevels.csv'\n",
    "collateralGohmLevels.to_csv(path, index = False)\n",
    "\n",
    "path =file+'/collateralGohmLevels_piped.csv'\n",
    "collateralGohmLevels.to_csv(path, index = False, sep='|')\n",
    "print(path, 'file saved,', collateralGohmLevelsLength,' records at', (dt.datetime.now()) )"
   ],
   "metadata": {
    "collapsed": false
   }
  },
  {
   "cell_type": "code",
   "execution_count": 150,
   "outputs": [
    {
     "data": {
      "text/plain": "571167.7276195246"
     },
     "execution_count": 150,
     "metadata": {},
     "output_type": "execute_result"
    }
   ],
   "source": [
    "totalBorrowedUSDSilo"
   ],
   "metadata": {
    "collapsed": false
   }
  },
  {
   "cell_type": "code",
   "execution_count": 150,
   "outputs": [],
   "source": [],
   "metadata": {
    "collapsed": false
   }
  }
 ],
 "metadata": {
  "kernelspec": {
   "display_name": "Python 3",
   "language": "python",
   "name": "python3"
  },
  "language_info": {
   "codemirror_mode": {
    "name": "ipython",
    "version": 2
   },
   "file_extension": ".py",
   "mimetype": "text/x-python",
   "name": "python",
   "nbconvert_exporter": "python",
   "pygments_lexer": "ipython2",
   "version": "2.7.6"
  }
 },
 "nbformat": 4,
 "nbformat_minor": 0
}
