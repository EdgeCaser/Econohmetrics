{
 "cells": [
  {
   "cell_type": "code",
   "execution_count": 118,
   "metadata": {
    "collapsed": true,
    "pycharm": {
     "name": "#%%\n"
    }
   },
   "outputs": [],
   "source": [
    "from datetime import datetime\n",
    "from datetime import date\n",
    "from subgrounds.subgraph import SyntheticField, FieldPath\n",
    "from subgrounds.subgrounds import Subgrounds\n",
    "import pandas as pd\n",
    "import duckdb as db\n",
    "import  os as os"
   ]
  },
  {
   "cell_type": "markdown",
   "source": [
    "Sushiswap: https://thegraph.com/explorer/subgraphs/7h1x51fyT5KigAhXd8sdE3kzzxQDJxxz1y66LTFiC3mS?view=Playground\n",
    "Curve: https://thegraph.com/explorer/subgraphs/GAGwGKc4ArNKKq9eFTcwgd1UGymvqhTier9Npqo1YvZB?view=Playground\n",
    "Balancer: https://thegraph.com/explorer/subgraphs/Ei5typKWPepPSgqkaKf3p5bPhgJesnu1RuRpyt69Pcrx?view=Overview\n",
    "Uniswap: https://thegraph.com/explorer/subgraphs/ELUcwgpm14LKPLrBRuVvPvNKHQ9HvwmtKgKSH6123cr7?view=Playground"
   ],
   "metadata": {
    "collapsed": false,
    "pycharm": {
     "name": "#%% md\n"
    }
   }
  },
  {
   "cell_type": "code",
   "execution_count": 135,
   "outputs": [],
   "source": [
    "sg = Subgrounds()\n",
    "apiKey = file = input('API Key, please')"
   ],
   "metadata": {
    "collapsed": false,
    "pycharm": {
     "name": "#%%\n"
    }
   }
  },
  {
   "cell_type": "code",
   "execution_count": 142,
   "outputs": [
    {
     "name": "stdout",
     "output_type": "stream",
     "text": [
      "ticker:  2  - records collected:  18  - token:  2023-01-19 00:33:59  - pool list length:  1018  - record from:  1674238127\n"
     ]
    }
   ],
   "source": [
    "##SUSHISWAP POOLS\n",
    "sushi7 = sg.load_api('https://gateway.thegraph.com/api/'+apiKey+'/subgraphs/id/7h1x51fyT5KigAhXd8sdE3kzzxQDJxxz1y66LTFiC3mS')\n",
    "listLength=1000\n",
    "trigger=0\n",
    "pool_list = pd.DataFrame()\n",
    "\n",
    "\n",
    "pools7 = sushi7.Query.liquidityPoolDailySnapshots(\n",
    "        orderBy='id',\n",
    "        orderDirection='desc',\n",
    "        first=1000,\n",
    "        where={ 'pool_in': ['0xfffae4a0f4ac251f4705717cd24cadccc9f33e06','0x055475920a8c93cffb64d039a8205f7acc7722d3'] }\n",
    "    )\n",
    "\n",
    "pool_data7 = sg.query_df([\n",
    "     pools7.id\n",
    "    ,pools7.timestamp\n",
    "    ,pools7.blockNumber\n",
    "    ,pools7.totalValueLockedUSD\n",
    "    ,pools7.cumulativeSupplySideRevenueUSD\n",
    "    ,pools7.dailySupplySideRevenueUSD\n",
    "    ,pools7.cumulativeProtocolSideRevenueUSD\n",
    "    ,pools7.dailyProtocolSideRevenueUSD\n",
    "    ,pools7.cumulativeTotalRevenueUSD\n",
    "    ,pools7.dailyTotalRevenueUSD\n",
    "    ,pools7.dailyVolumeUSD\n",
    "    ,pools7.cumulativeVolumeUSD\n",
    "    ,pools7.outputTokenSupply\n",
    "    ,pools7.outputTokenPriceUSD\n",
    "    ,pools7.stakedOutputTokenAmount\n",
    "    ,pools7.pool.name\n",
    "    ,pools7.pool.symbol\n",
    "    ,pools7.pool.outputToken\n",
    "])\n",
    "\n",
    "pool_list = db.query(\"select \"\n",
    "               \"    * \"\n",
    "                    \" ,to_timestamp(liquidityPoolDailySnapshots_timestamp) dateTime\"\n",
    "                     \",'Sushi' as dex \"\n",
    "               \"From pool_data7 \"\n",
    "               #\"where lower(liquidityPools_name) like lower('%olympus%') \"\n",
    "                #    \"or lower(pairs_token1_symbol) like lower('%OHM%')  \"\n",
    "               #\" limit 100 \"\n",
    "               ).df()\n",
    "ticker = 1\n",
    "listLength = len(pool_list)\n",
    "pool_list_length = len(pool_list)\n",
    "sushi_pool_datadb = pool_list\n",
    "\n",
    "while listLength>999:\n",
    "    #listLength=0\n",
    "    skipValue = (ticker)*(1000)\n",
    "    pools7 = sushi7.Query.liquidityPoolDailySnapshots(\n",
    "        orderBy='id',\n",
    "        orderDirection='desc',\n",
    "        skip =(skipValue),\n",
    "        first=1000,\n",
    "        where={ 'pool_in': ['0xfffae4a0f4ac251f4705717cd24cadccc9f33e06','0x055475920a8c93cffb64d039a8205f7acc7722d3'] }\n",
    "    )\n",
    "\n",
    "    pool_data7 = sg.query_df([\n",
    "         pools7.id\n",
    "        ,pools7.timestamp\n",
    "        ,pools7.blockNumber\n",
    "        ,pools7.totalValueLockedUSD\n",
    "        ,pools7.cumulativeSupplySideRevenueUSD\n",
    "        ,pools7.dailySupplySideRevenueUSD\n",
    "        ,pools7.cumulativeProtocolSideRevenueUSD\n",
    "        ,pools7.dailyProtocolSideRevenueUSD\n",
    "        ,pools7.cumulativeTotalRevenueUSD\n",
    "        ,pools7.dailyTotalRevenueUSD\n",
    "        ,pools7.dailyVolumeUSD\n",
    "        ,pools7.cumulativeVolumeUSD\n",
    "        ,pools7.outputTokenSupply\n",
    "        ,pools7.outputTokenPriceUSD\n",
    "        ,pools7.stakedOutputTokenAmount\n",
    "        ,pools7.pool.name\n",
    "        ,pools7.pool.symbol\n",
    "        ,pools7.pool.outputToken\n",
    "    ])\n",
    "\n",
    "    sushi_pool_datadb = db.query(\"select \"\n",
    "                   \"    * \"\n",
    "                        \" ,to_timestamp(liquidityPoolDailySnapshots_timestamp) dateTime\"\n",
    "                         \",'Sushi' as dex \"\n",
    "                   \"From pool_data7 \"\n",
    "                   #\"where lower(liquidityPools_name) like lower('%olympus%') \"\n",
    "                    #    \"or lower(pairs_token1_symbol) like lower('%OHM%')  \"\n",
    "                   #\" limit 100 \"\n",
    "                   ).df()\n",
    "\n",
    "    pool_list=pd.concat([pool_list, sushi_pool_datadb])\n",
    "    recordTimestamp = pool_list.iat[ticker,1]\n",
    "    ticker = ticker+1\n",
    "    pool_list_length = len(pool_list)\n",
    "    listLength = len(sushi_pool_datadb)\n",
    "    value1 = pool_list.iat[ticker,23]\n",
    "    #pool_datadb7 = pd.DataFrame(None)\n",
    "    sushi_pool_datadb = pool_list\n",
    "    print(\"ticker: \", ticker,\" - records collected: \", listLength, \" - token: \",value1 , \" - pool list length: \", pool_list_length, \" - record from: \", recordTimestamp)"
   ],
   "metadata": {
    "collapsed": false,
    "pycharm": {
     "name": "#%%\n"
    }
   }
  },
  {
   "cell_type": "code",
   "execution_count": 121,
   "outputs": [
    {
     "name": "stdout",
     "output_type": "stream",
     "text": [
      "ticker:  1  - records collected:  788  - token:  2023-01-19 00:33:59  - pool list length:  788  - record from:  1674238127\n"
     ]
    }
   ],
   "source": [
    "##BALANCER POOLS\n",
    "balancer = sg.load_api('https://gateway.thegraph.com/api/'+apiKey+'/subgraphs/id/Ei5typKWPepPSgqkaKf3p5bPhgJesnu1RuRpyt69Pcrx')\n",
    "listLength=1000\n",
    "trigger=0\n",
    "pool_list = pd.DataFrame()\n",
    "\n",
    "\n",
    "pools7 = balancer.Query.liquidityPoolDailySnapshots(\n",
    "        orderBy='id',\n",
    "        orderDirection='desc',\n",
    "        first=1000,\n",
    "        where={ 'pool_in': ['0xd1ec5e215e8148d76f4460e4097fd3d5ae0a3558','0x76fcf0e8c7ff37a47a799fa2cd4c13cde0d981c9','0x2de32a7c98c3ef6ec79e703500e8ca5b2ec819aa', '0xf5f6fb82649df7991054ef796c39da81b93364df', '0xfb46bc8fc0d06421d362a31b7230f39462efa79a', '0xc45d42f801105e861e86658648e3678ad7aa70f9'] }\n",
    "\n",
    "    )\n",
    "\n",
    "pool_data7 = sg.query_df([\n",
    "     pools7.id\n",
    "    ,pools7.timestamp\n",
    "    ,pools7.blockNumber\n",
    "    ,pools7.totalValueLockedUSD\n",
    "    ,pools7.cumulativeSupplySideRevenueUSD\n",
    "    ,pools7.dailySupplySideRevenueUSD\n",
    "    ,pools7.cumulativeProtocolSideRevenueUSD\n",
    "    ,pools7.dailyProtocolSideRevenueUSD\n",
    "    ,pools7.cumulativeTotalRevenueUSD\n",
    "    ,pools7.dailyTotalRevenueUSD\n",
    "    ,pools7.dailyVolumeUSD\n",
    "    ,pools7.cumulativeVolumeUSD\n",
    "    ,pools7.outputTokenSupply\n",
    "    ,pools7.outputTokenPriceUSD\n",
    "    ,pools7.stakedOutputTokenAmount\n",
    "    ,pools7.pool.name\n",
    "    ,pools7.pool.symbol\n",
    "    ,pools7.pool.outputToken\n",
    "])\n",
    "\n",
    "pool_list = db.query(\"select \"\n",
    "               \"    * \"\n",
    "                    \" ,to_timestamp(liquidityPoolDailySnapshots_timestamp) dateTime\"\n",
    "                     \",'Balancer' as dex \"\n",
    "               \"From pool_data7 \"\n",
    "               #\"where lower(liquidityPools_name) like lower('%olympus%') \"\n",
    "                #    \"or lower(pairs_token1_symbol) like lower('%OHM%')  \"\n",
    "               #\" limit 100 \"\n",
    "               ).df()\n",
    "ticker = 1\n",
    "balancer_pool_datadb = pool_list\n",
    "listLength = len(pool_list)\n",
    "pool_list_length = len(pool_list)\n",
    "\n",
    "while listLength>999:\n",
    "    #listLength=0\n",
    "    skipValue = (ticker)*(1000)\n",
    "    pools7 = balancer.Query.liquidityPoolDailySnapshots(\n",
    "        orderBy='id',\n",
    "        orderDirection='desc',\n",
    "        skip =(skipValue),\n",
    "        first=1000,\n",
    "        where={ 'pool_in': ['0xd1ec5e215e8148d76f4460e4097fd3d5ae0a3558','0x76fcf0e8c7ff37a47a799fa2cd4c13cde0d981c9','0x2de32a7c98c3ef6ec79e703500e8ca5b2ec819aa', '0xf5f6fb82649df7991054ef796c39da81b93364df', '0xfb46bc8fc0d06421d362a31b7230f39462efa79a', '0xc45d42f801105e861e86658648e3678ad7aa70f9'] }\n",
    "        )\n",
    "\n",
    "\n",
    "    pool_data7 = sg.query_df([\n",
    "         pools7.id\n",
    "        ,pools7.timestamp\n",
    "        ,pools7.blockNumber\n",
    "        ,pools7.totalValueLockedUSD\n",
    "        ,pools7.cumulativeSupplySideRevenueUSD\n",
    "        ,pools7.dailySupplySideRevenueUSD\n",
    "        ,pools7.cumulativeProtocolSideRevenueUSD\n",
    "        ,pools7.dailyProtocolSideRevenueUSD\n",
    "        ,pools7.cumulativeTotalRevenueUSD\n",
    "        ,pools7.dailyTotalRevenueUSD\n",
    "        ,pools7.dailyVolumeUSD\n",
    "        ,pools7.cumulativeVolumeUSD\n",
    "        ,pools7.outputTokenSupply\n",
    "        ,pools7.outputTokenPriceUSD\n",
    "        ,pools7.stakedOutputTokenAmount\n",
    "        ,pools7.pool.name\n",
    "        ,pools7.pool.symbol\n",
    "        ,pools7.pool.outputToken\n",
    "    ])\n",
    "\n",
    "    balancer_pool_datadb = db.query(\"select \"\n",
    "                   \"    * \"\n",
    "                        \" ,to_timestamp(liquidityPoolDailySnapshots_timestamp) dateTime\"\n",
    "                         \",'Balancer' as dex \"\n",
    "                   \"From pool_data7 \"\n",
    "                   #\"where lower(liquidityPools_name) like lower('%olympus%') \"\n",
    "                    #    \"or lower(pairs_token1_symbol) like lower('%OHM%')  \"\n",
    "                   #\" limit 100 \"\n",
    "                   ).df()\n",
    "\n",
    "    pool_list=pd.concat([pool_list, balancer_pool_datadb])\n",
    "    recordTimestamp = pool_list.iat[ticker,1]\n",
    "    ticker = ticker+1\n",
    "    pool_list_length = len(pool_list)\n",
    "    listLength = len(balancer_pool_datadb)\n",
    "    value1 = pool_list.iat[ticker,23]\n",
    "    balancer_pool_datadb = pool_list\n",
    "\n",
    "print(\"ticker: \", ticker,\" - records collected: \", listLength, \" - token: \",value1 , \" - pool list length: \", pool_list_length, \" - record from: \", recordTimestamp)"
   ],
   "metadata": {
    "collapsed": false,
    "pycharm": {
     "name": "#%%\n"
    }
   }
  },
  {
   "cell_type": "code",
   "execution_count": 122,
   "outputs": [
    {
     "name": "stdout",
     "output_type": "stream",
     "text": [
      "ticker:  1  - records collected:  918  - token:  2023-01-19 00:33:59  - pool list length:  918  - record from:  1674238127\n"
     ]
    }
   ],
   "source": [
    "##UNISWAP POOLS\n",
    "uniswap = sg.load_api('https://gateway.thegraph.com/api/'+apiKey+'/subgraphs/id/ELUcwgpm14LKPLrBRuVvPvNKHQ9HvwmtKgKSH6123cr7')\n",
    "listLength=1000\n",
    "trigger=0\n",
    "pool_list = pd.DataFrame()\n",
    "\n",
    "\n",
    "pools7 = uniswap.Query.liquidityPoolDailySnapshots(\n",
    "        orderBy='id',\n",
    "        orderDirection='desc',\n",
    "        first=1000,\n",
    "        where={ 'pool_in': ['0x88051b0eea095007d3bef21ab287be961f3d8598','0xc987d503a9f78f6d1d782c1fff5af4cb34437e3f','0x08f68110f1e0ca67c80a24b4bd206675610f445d','0xeac758487f4868952ac9bf5b5eb885bcf462aa67','0xcf7e21b96a7dae8e1663b5a266fd812cbe973e70','0x1ba81d6cec9eb0e2f9fff78b9379bedc04150461'] }\n",
    "\n",
    "    )\n",
    "\n",
    "pool_data7 = sg.query_df([\n",
    "     pools7.id\n",
    "    ,pools7.timestamp\n",
    "    ,pools7.blockNumber\n",
    "    ,pools7.totalValueLockedUSD\n",
    "    ,pools7.cumulativeSupplySideRevenueUSD\n",
    "    ,pools7.dailySupplySideRevenueUSD\n",
    "    ,pools7.cumulativeProtocolSideRevenueUSD\n",
    "    ,pools7.dailyProtocolSideRevenueUSD\n",
    "    ,pools7.cumulativeTotalRevenueUSD\n",
    "    ,pools7.dailyTotalRevenueUSD\n",
    "    ,pools7.dailyVolumeUSD\n",
    "    ,pools7.cumulativeVolumeUSD\n",
    "    ,pools7.outputTokenSupply\n",
    "    ,pools7.outputTokenPriceUSD\n",
    "    ,pools7.stakedOutputTokenAmount\n",
    "    ,pools7.pool.name\n",
    "    ,pools7.pool.symbol\n",
    "    ,pools7.pool.outputToken\n",
    "])\n",
    "\n",
    "pool_list = db.query(\"select \"\n",
    "               \"    * \"\n",
    "                    \" ,to_timestamp(liquidityPoolDailySnapshots_timestamp) dateTime\"\n",
    "                     \",'Uniswap' as dex \"\n",
    "               \"From pool_data7 \"\n",
    "               #\"where lower(liquidityPools_name) like lower('%olympus%') \"\n",
    "                #    \"or lower(pairs_token1_symbol) like lower('%OHM%')  \"\n",
    "               #\" limit 100 \"\n",
    "               ).df()\n",
    "ticker = 1\n",
    "\n",
    "listLength = len(pool_list)\n",
    "pool_list_length = len(pool_list)\n",
    "\n",
    "while listLength>999:\n",
    "    #listLength=0\n",
    "    skipValue = (ticker)*(1000)\n",
    "    pools7 = uniswap.Query.liquidityPoolDailySnapshots(\n",
    "        orderBy='id',\n",
    "        orderDirection='desc',\n",
    "        skip =(skipValue),\n",
    "        first=1000,\n",
    "        where={ 'pool_in': ['0x88051b0eea095007d3bef21ab287be961f3d8598','0xc987d503a9f78f6d1d782c1fff5af4cb34437e3f','0x08f68110f1e0ca67c80a24b4bd206675610f445d','0xeac758487f4868952ac9bf5b5eb885bcf462aa67','0xcf7e21b96a7dae8e1663b5a266fd812cbe973e70','0x1ba81d6cec9eb0e2f9fff78b9379bedc04150461'] }\n",
    "        )\n",
    "\n",
    "\n",
    "    pool_data7 = sg.query_df([\n",
    "         pools7.id\n",
    "        ,pools7.timestamp\n",
    "        ,pools7.blockNumber\n",
    "        ,pools7.totalValueLockedUSD\n",
    "        ,pools7.cumulativeSupplySideRevenueUSD\n",
    "        ,pools7.dailySupplySideRevenueUSD\n",
    "        ,pools7.cumulativeProtocolSideRevenueUSD\n",
    "        ,pools7.dailyProtocolSideRevenueUSD\n",
    "        ,pools7.cumulativeTotalRevenueUSD\n",
    "        ,pools7.dailyTotalRevenueUSD\n",
    "        ,pools7.dailyVolumeUSD\n",
    "        ,pools7.cumulativeVolumeUSD\n",
    "        ,pools7.outputTokenSupply\n",
    "        ,pools7.outputTokenPriceUSD\n",
    "        ,pools7.stakedOutputTokenAmount\n",
    "        ,pools7.pool.name\n",
    "        ,pools7.pool.symbol\n",
    "        ,pools7.pool.outputToken\n",
    "    ])\n",
    "\n",
    "    uniswap_pool_datadb = db.query(\"select \"\n",
    "                   \"    * \"\n",
    "                        \" ,to_timestamp(liquidityPoolDailySnapshots_timestamp) dateTime\"\n",
    "                         \",'Uniswap' as dex \"\n",
    "                   \"From pool_data7 \"\n",
    "                   #\"where lower(liquidityPools_name) like lower('%olympus%') \"\n",
    "                    #    \"or lower(pairs_token1_symbol) like lower('%OHM%')  \"\n",
    "                   #\" limit 100 \"\n",
    "                   ).df()\n",
    "\n",
    "    pool_list=pd.concat([pool_list, uniswap_pool_datadb])\n",
    "    recordTimestamp = pool_list.iat[ticker,1]\n",
    "    ticker = ticker+1\n",
    "    pool_list_length = len(pool_list)\n",
    "    listLength = len(balancer_pool_datadb)\n",
    "    value1 = pool_list.iat[ticker,23]\n",
    "    uniswap_pool_datadb = pool_list\n",
    "\n",
    "print(\"ticker: \", ticker,\" - records collected: \", listLength, \" - token: \",value1 , \" - pool list length: \", pool_list_length, \" - record from: \", recordTimestamp)"
   ],
   "metadata": {
    "collapsed": false,
    "pycharm": {
     "name": "#%%\n"
    }
   }
  },
  {
   "cell_type": "code",
   "execution_count": 123,
   "outputs": [
    {
     "name": "stdout",
     "output_type": "stream",
     "text": [
      "ticker:  1  - records collected:  296  - token:  2023-01-19 00:33:59  - pool list length:  296  - record from:  1674238127\n"
     ]
    }
   ],
   "source": [
    "##CURVE POOLS\n",
    "curve = sg.load_api('https://gateway.thegraph.com/api/'+apiKey+'/subgraphs/id/GAGwGKc4ArNKKq9eFTcwgd1UGymvqhTier9Npqo1YvZB')\n",
    "listLength=1000\n",
    "trigger=0\n",
    "pool_list = pd.DataFrame()\n",
    "\n",
    "\n",
    "pools7 = curve.Query.liquidityPoolDailySnapshots(\n",
    "        orderBy='id',\n",
    "        orderDirection='desc',\n",
    "        first=1000,\n",
    "        where={ 'pool_in': ['0xfc1e8bf3e81383ef07be24c3fd146745719de48d','0x6ec38b3228251a0c5d491faf66858e2e23d7728b'] }\n",
    "    )\n",
    "\n",
    "pool_data7 = sg.query_df([\n",
    "     pools7.id\n",
    "    ,pools7.timestamp\n",
    "    ,pools7.blockNumber\n",
    "    ,pools7.totalValueLockedUSD\n",
    "    ,pools7.cumulativeSupplySideRevenueUSD\n",
    "    ,pools7.dailySupplySideRevenueUSD\n",
    "    ,pools7.cumulativeProtocolSideRevenueUSD\n",
    "    ,pools7.dailyProtocolSideRevenueUSD\n",
    "    ,pools7.cumulativeTotalRevenueUSD\n",
    "    ,pools7.dailyTotalRevenueUSD\n",
    "    ,pools7.dailyVolumeUSD\n",
    "    ,pools7.cumulativeVolumeUSD\n",
    "    ,pools7.outputTokenSupply\n",
    "    ,pools7.outputTokenPriceUSD\n",
    "    ,pools7.stakedOutputTokenAmount\n",
    "    ,pools7.pool.name\n",
    "    ,pools7.pool.symbol\n",
    "    ,pools7.pool.outputToken\n",
    "])\n",
    "\n",
    "pool_list = db.query(\"select \"\n",
    "               \"    * \"\n",
    "                    \" ,to_timestamp(liquidityPoolDailySnapshots_timestamp) dateTime\"\n",
    "                     \",'Curve' as dex \"\n",
    "               \"From pool_data7 \"\n",
    "               #\"where lower(liquidityPools_name) like lower('%olympus%') \"\n",
    "                #    \"or lower(pairs_token1_symbol) like lower('%OHM%')  \"\n",
    "               #\" limit 100 \"\n",
    "               ).df()\n",
    "ticker = 1\n",
    "listLength = len(pool_list)\n",
    "pool_list_length = len(pool_list)\n",
    "curve_pool_datadb = pool_list\n",
    "\n",
    "while listLength>999:\n",
    "    #listLength=0\n",
    "    skipValue = (ticker)*(1000)\n",
    "    pools7 = curve.Query.liquidityPoolDailySnapshots(\n",
    "        orderBy='id',\n",
    "        orderDirection='desc',\n",
    "        skip =(skipValue),\n",
    "        first=1000,\n",
    "        where={ 'pool_in': ['0xfc1e8bf3e81383ef07be24c3fd146745719de48d','0x6ec38b3228251a0c5d491faf66858e2e23d7728b'] }\n",
    "    )\n",
    "\n",
    "    pool_data7 = sg.query_df([\n",
    "         pools7.id\n",
    "        ,pools7.timestamp\n",
    "        ,pools7.blockNumber\n",
    "        ,pools7.totalValueLockedUSD\n",
    "        ,pools7.cumulativeSupplySideRevenueUSD\n",
    "        ,pools7.dailySupplySideRevenueUSD\n",
    "        ,pools7.cumulativeProtocolSideRevenueUSD\n",
    "        ,pools7.dailyProtocolSideRevenueUSD\n",
    "        ,pools7.cumulativeTotalRevenueUSD\n",
    "        ,pools7.dailyTotalRevenueUSD\n",
    "        ,pools7.dailyVolumeUSD\n",
    "        ,pools7.cumulativeVolumeUSD\n",
    "        ,pools7.outputTokenSupply\n",
    "        ,pools7.outputTokenPriceUSD\n",
    "        ,pools7.stakedOutputTokenAmount\n",
    "        ,pools7.pool.name\n",
    "        ,pools7.pool.symbol\n",
    "        ,pools7.pool.outputToken\n",
    "    ])\n",
    "\n",
    "    curve_pool_datadb = db.query(\"select \"\n",
    "                   \"    * \"\n",
    "                        \" ,to_timestamp(liquidityPoolDailySnapshots_timestamp) dateTime\"\n",
    "                         \",'Curve' as dex \"\n",
    "                   \"From pool_data7 \"\n",
    "                   #\"where lower(liquidityPools_name) like lower('%olympus%') \"\n",
    "                    #    \"or lower(pairs_token1_symbol) like lower('%OHM%')  \"\n",
    "                   #\" limit 100 \"\n",
    "                   ).df()\n",
    "\n",
    "    pool_list=pd.concat([pool_list, curve_pool_datadb])\n",
    "    recordTimestamp = pool_list.iat[ticker,1]\n",
    "    ticker = ticker+1\n",
    "    pool_list_length = len(pool_list)\n",
    "    listLength = len(curve_pool_datadb)\n",
    "    value1 = pool_list.iat[ticker,23]\n",
    "    #pool_datadb7 = pd.DataFrame(None)\n",
    "    curve_pool_datadb = pool_list\n",
    "\n",
    "print(\"ticker: \", ticker,\" - records collected: \", listLength, \" - token: \",value1 , \" - pool list length: \", pool_list_length, \" - record from: \", recordTimestamp)"
   ],
   "metadata": {
    "collapsed": false,
    "pycharm": {
     "name": "#%%\n"
    }
   }
  },
  {
   "cell_type": "code",
   "execution_count": 124,
   "outputs": [
    {
     "data": {
      "text/plain": "                     liquidityPoolDailySnapshots_id  \\\n0  0xfffae4a0f4ac251f4705717cd24cadccc9f33e06-19378   \n1  0xfffae4a0f4ac251f4705717cd24cadccc9f33e06-19377   \n2  0xfffae4a0f4ac251f4705717cd24cadccc9f33e06-19376   \n3  0xfffae4a0f4ac251f4705717cd24cadccc9f33e06-19375   \n4  0xfffae4a0f4ac251f4705717cd24cadccc9f33e06-19374   \n\n   liquidityPoolDailySnapshots_timestamp  \\\n0                             1674261971   \n1                             1674238127   \n2                             1674088439   \n3                             1674083987   \n4                             1673938739   \n\n   liquidityPoolDailySnapshots_blockNumber  \\\n0                                 16451685   \n1                                 16449712   \n2                                 16437299   \n3                                 16436930   \n4                                 16424878   \n\n   liquidityPoolDailySnapshots_totalValueLockedUSD  \\\n0                                     18790.094259   \n1                                     18350.916941   \n2                                     17744.690456   \n3                                     17819.864304   \n4                                     18133.756430   \n\n   liquidityPoolDailySnapshots_cumulativeSupplySideRevenueUSD  \\\n0                                       3.908945e+06            \n1                                       3.908945e+06            \n2                                       3.908945e+06            \n3                                       3.908945e+06            \n4                                       3.908943e+06            \n\n   liquidityPoolDailySnapshots_dailySupplySideRevenueUSD  \\\n0                                           0.124843       \n1                                           0.376670       \n2                                           0.404097       \n3                                           1.242295       \n4                                           0.372793       \n\n   liquidityPoolDailySnapshots_cumulativeProtocolSideRevenueUSD  \\\n0                                      781789.088016              \n1                                      781789.063048              \n2                                      781788.987714              \n3                                      781788.906894              \n4                                      781788.658435              \n\n   liquidityPoolDailySnapshots_dailyProtocolSideRevenueUSD  \\\n0                                           0.024969         \n1                                           0.075334         \n2                                           0.080819         \n3                                           0.248459         \n4                                           0.074559         \n\n   liquidityPoolDailySnapshots_cumulativeTotalRevenueUSD  \\\n0                                       4.690735e+06       \n1                                       4.690734e+06       \n2                                       4.690734e+06       \n3                                       4.690733e+06       \n4                                       4.690732e+06       \n\n   liquidityPoolDailySnapshots_dailyTotalRevenueUSD  ...  \\\n0                                          0.149811  ...   \n1                                          0.452004  ...   \n2                                          0.484916  ...   \n3                                          1.490754  ...   \n4                                          0.447352  ...   \n\n   liquidityPoolDailySnapshots_pool_name  \\\n0        SushiSwap Olympus/Wrapped Ether   \n1        SushiSwap Olympus/Wrapped Ether   \n2        SushiSwap Olympus/Wrapped Ether   \n3        SushiSwap Olympus/Wrapped Ether   \n4        SushiSwap Olympus/Wrapped Ether   \n\n   liquidityPoolDailySnapshots_pool_symbol  \\\n0                    Olympus/Wrapped Ether   \n1                    Olympus/Wrapped Ether   \n2                    Olympus/Wrapped Ether   \n3                    Olympus/Wrapped Ether   \n4                    Olympus/Wrapped Ether   \n\n   liquidityPoolDailySnapshots_pool_outputToken_id  \\\n0       0xfffae4a0f4ac251f4705717cd24cadccc9f33e06   \n1       0xfffae4a0f4ac251f4705717cd24cadccc9f33e06   \n2       0xfffae4a0f4ac251f4705717cd24cadccc9f33e06   \n3       0xfffae4a0f4ac251f4705717cd24cadccc9f33e06   \n4       0xfffae4a0f4ac251f4705717cd24cadccc9f33e06   \n\n   liquidityPoolDailySnapshots_pool_outputToken_name  \\\n0                           Olympus/Wrapped Ether LP   \n1                           Olympus/Wrapped Ether LP   \n2                           Olympus/Wrapped Ether LP   \n3                           Olympus/Wrapped Ether LP   \n4                           Olympus/Wrapped Ether LP   \n\n   liquidityPoolDailySnapshots_pool_outputToken_symbol  \\\n0                              Olympus/Wrapped Ether     \n1                              Olympus/Wrapped Ether     \n2                              Olympus/Wrapped Ether     \n3                              Olympus/Wrapped Ether     \n4                              Olympus/Wrapped Ether     \n\n  liquidityPoolDailySnapshots_pool_outputToken_decimals  \\\n0                                                 18      \n1                                                 18      \n2                                                 18      \n3                                                 18      \n4                                                 18      \n\n  liquidityPoolDailySnapshots_pool_outputToken_lastPriceUSD  \\\n0                                                0.0          \n1                                                0.0          \n2                                                0.0          \n3                                                0.0          \n4                                                0.0          \n\n  liquidityPoolDailySnapshots_pool_outputToken_lastPriceBlockNumber  \\\n0                                                  0                  \n1                                                  0                  \n2                                                  0                  \n3                                                  0                  \n4                                                  0                  \n\n             dateTime    dex  \n0 2023-01-21 00:46:11  Sushi  \n1 2023-01-20 18:08:47  Sushi  \n2 2023-01-19 00:33:59  Sushi  \n3 2023-01-18 23:19:47  Sushi  \n4 2023-01-17 06:58:59  Sushi  \n\n[5 rows x 25 columns]",
      "text/html": "<div>\n<style scoped>\n    .dataframe tbody tr th:only-of-type {\n        vertical-align: middle;\n    }\n\n    .dataframe tbody tr th {\n        vertical-align: top;\n    }\n\n    .dataframe thead th {\n        text-align: right;\n    }\n</style>\n<table border=\"1\" class=\"dataframe\">\n  <thead>\n    <tr style=\"text-align: right;\">\n      <th></th>\n      <th>liquidityPoolDailySnapshots_id</th>\n      <th>liquidityPoolDailySnapshots_timestamp</th>\n      <th>liquidityPoolDailySnapshots_blockNumber</th>\n      <th>liquidityPoolDailySnapshots_totalValueLockedUSD</th>\n      <th>liquidityPoolDailySnapshots_cumulativeSupplySideRevenueUSD</th>\n      <th>liquidityPoolDailySnapshots_dailySupplySideRevenueUSD</th>\n      <th>liquidityPoolDailySnapshots_cumulativeProtocolSideRevenueUSD</th>\n      <th>liquidityPoolDailySnapshots_dailyProtocolSideRevenueUSD</th>\n      <th>liquidityPoolDailySnapshots_cumulativeTotalRevenueUSD</th>\n      <th>liquidityPoolDailySnapshots_dailyTotalRevenueUSD</th>\n      <th>...</th>\n      <th>liquidityPoolDailySnapshots_pool_name</th>\n      <th>liquidityPoolDailySnapshots_pool_symbol</th>\n      <th>liquidityPoolDailySnapshots_pool_outputToken_id</th>\n      <th>liquidityPoolDailySnapshots_pool_outputToken_name</th>\n      <th>liquidityPoolDailySnapshots_pool_outputToken_symbol</th>\n      <th>liquidityPoolDailySnapshots_pool_outputToken_decimals</th>\n      <th>liquidityPoolDailySnapshots_pool_outputToken_lastPriceUSD</th>\n      <th>liquidityPoolDailySnapshots_pool_outputToken_lastPriceBlockNumber</th>\n      <th>dateTime</th>\n      <th>dex</th>\n    </tr>\n  </thead>\n  <tbody>\n    <tr>\n      <th>0</th>\n      <td>0xfffae4a0f4ac251f4705717cd24cadccc9f33e06-19378</td>\n      <td>1674261971</td>\n      <td>16451685</td>\n      <td>18790.094259</td>\n      <td>3.908945e+06</td>\n      <td>0.124843</td>\n      <td>781789.088016</td>\n      <td>0.024969</td>\n      <td>4.690735e+06</td>\n      <td>0.149811</td>\n      <td>...</td>\n      <td>SushiSwap Olympus/Wrapped Ether</td>\n      <td>Olympus/Wrapped Ether</td>\n      <td>0xfffae4a0f4ac251f4705717cd24cadccc9f33e06</td>\n      <td>Olympus/Wrapped Ether LP</td>\n      <td>Olympus/Wrapped Ether</td>\n      <td>18</td>\n      <td>0.0</td>\n      <td>0</td>\n      <td>2023-01-21 00:46:11</td>\n      <td>Sushi</td>\n    </tr>\n    <tr>\n      <th>1</th>\n      <td>0xfffae4a0f4ac251f4705717cd24cadccc9f33e06-19377</td>\n      <td>1674238127</td>\n      <td>16449712</td>\n      <td>18350.916941</td>\n      <td>3.908945e+06</td>\n      <td>0.376670</td>\n      <td>781789.063048</td>\n      <td>0.075334</td>\n      <td>4.690734e+06</td>\n      <td>0.452004</td>\n      <td>...</td>\n      <td>SushiSwap Olympus/Wrapped Ether</td>\n      <td>Olympus/Wrapped Ether</td>\n      <td>0xfffae4a0f4ac251f4705717cd24cadccc9f33e06</td>\n      <td>Olympus/Wrapped Ether LP</td>\n      <td>Olympus/Wrapped Ether</td>\n      <td>18</td>\n      <td>0.0</td>\n      <td>0</td>\n      <td>2023-01-20 18:08:47</td>\n      <td>Sushi</td>\n    </tr>\n    <tr>\n      <th>2</th>\n      <td>0xfffae4a0f4ac251f4705717cd24cadccc9f33e06-19376</td>\n      <td>1674088439</td>\n      <td>16437299</td>\n      <td>17744.690456</td>\n      <td>3.908945e+06</td>\n      <td>0.404097</td>\n      <td>781788.987714</td>\n      <td>0.080819</td>\n      <td>4.690734e+06</td>\n      <td>0.484916</td>\n      <td>...</td>\n      <td>SushiSwap Olympus/Wrapped Ether</td>\n      <td>Olympus/Wrapped Ether</td>\n      <td>0xfffae4a0f4ac251f4705717cd24cadccc9f33e06</td>\n      <td>Olympus/Wrapped Ether LP</td>\n      <td>Olympus/Wrapped Ether</td>\n      <td>18</td>\n      <td>0.0</td>\n      <td>0</td>\n      <td>2023-01-19 00:33:59</td>\n      <td>Sushi</td>\n    </tr>\n    <tr>\n      <th>3</th>\n      <td>0xfffae4a0f4ac251f4705717cd24cadccc9f33e06-19375</td>\n      <td>1674083987</td>\n      <td>16436930</td>\n      <td>17819.864304</td>\n      <td>3.908945e+06</td>\n      <td>1.242295</td>\n      <td>781788.906894</td>\n      <td>0.248459</td>\n      <td>4.690733e+06</td>\n      <td>1.490754</td>\n      <td>...</td>\n      <td>SushiSwap Olympus/Wrapped Ether</td>\n      <td>Olympus/Wrapped Ether</td>\n      <td>0xfffae4a0f4ac251f4705717cd24cadccc9f33e06</td>\n      <td>Olympus/Wrapped Ether LP</td>\n      <td>Olympus/Wrapped Ether</td>\n      <td>18</td>\n      <td>0.0</td>\n      <td>0</td>\n      <td>2023-01-18 23:19:47</td>\n      <td>Sushi</td>\n    </tr>\n    <tr>\n      <th>4</th>\n      <td>0xfffae4a0f4ac251f4705717cd24cadccc9f33e06-19374</td>\n      <td>1673938739</td>\n      <td>16424878</td>\n      <td>18133.756430</td>\n      <td>3.908943e+06</td>\n      <td>0.372793</td>\n      <td>781788.658435</td>\n      <td>0.074559</td>\n      <td>4.690732e+06</td>\n      <td>0.447352</td>\n      <td>...</td>\n      <td>SushiSwap Olympus/Wrapped Ether</td>\n      <td>Olympus/Wrapped Ether</td>\n      <td>0xfffae4a0f4ac251f4705717cd24cadccc9f33e06</td>\n      <td>Olympus/Wrapped Ether LP</td>\n      <td>Olympus/Wrapped Ether</td>\n      <td>18</td>\n      <td>0.0</td>\n      <td>0</td>\n      <td>2023-01-17 06:58:59</td>\n      <td>Sushi</td>\n    </tr>\n  </tbody>\n</table>\n<p>5 rows × 25 columns</p>\n</div>"
     },
     "execution_count": 124,
     "metadata": {},
     "output_type": "execute_result"
    }
   ],
   "source": [
    "sushi_pool_datadb.head(5)"
   ],
   "metadata": {
    "collapsed": false,
    "pycharm": {
     "name": "#%%\n"
    }
   }
  },
  {
   "cell_type": "code",
   "execution_count": 125,
   "outputs": [
    {
     "name": "stdout",
     "output_type": "stream",
     "text": [
      "1018\n"
     ]
    }
   ],
   "source": [
    "print(len(sushi_pool_datadb))"
   ],
   "metadata": {
    "collapsed": false,
    "pycharm": {
     "name": "#%%\n"
    }
   }
  },
  {
   "cell_type": "code",
   "execution_count": 126,
   "outputs": [
    {
     "data": {
      "text/plain": "                     liquidityPoolDailySnapshots_id  \\\n0  0xfb46bc8fc0d06421d362a31b7230f39462efa79a-19378   \n1  0xfb46bc8fc0d06421d362a31b7230f39462efa79a-19372   \n2  0xfb46bc8fc0d06421d362a31b7230f39462efa79a-19371   \n3  0xfb46bc8fc0d06421d362a31b7230f39462efa79a-19369   \n4  0xfb46bc8fc0d06421d362a31b7230f39462efa79a-19368   \n\n   liquidityPoolDailySnapshots_timestamp  \\\n0                             1674305123   \n1                             1673794799   \n2                             1673686259   \n3                             1673494967   \n4                             1673480711   \n\n   liquidityPoolDailySnapshots_blockNumber  \\\n0                                 16455259   \n1                                 16412954   \n2                                 16403963   \n3                                 16388108   \n4                                 16386925   \n\n   liquidityPoolDailySnapshots_totalValueLockedUSD  \\\n0                                     18853.743039   \n1                                      3553.837470   \n2                                      3042.818559   \n3                                      2945.451220   \n4                                      2936.986173   \n\n   liquidityPoolDailySnapshots_cumulativeSupplySideRevenueUSD  \\\n0                                         112.329767            \n1                                         111.619598            \n2                                         110.480210            \n3                                         110.181773            \n4                                         110.160611            \n\n   liquidityPoolDailySnapshots_dailySupplySideRevenueUSD  \\\n0                                           0.710169       \n1                                           1.139388       \n2                                           0.298436       \n3                                           0.021163       \n4                                           0.485468       \n\n   liquidityPoolDailySnapshots_cumulativeProtocolSideRevenueUSD  \\\n0                                         112.329767              \n1                                         111.619598              \n2                                         110.480210              \n3                                         110.181773              \n4                                         110.160611              \n\n   liquidityPoolDailySnapshots_dailyProtocolSideRevenueUSD  \\\n0                                           0.710169         \n1                                           1.139388         \n2                                           0.298436         \n3                                           0.021163         \n4                                           0.485468         \n\n   liquidityPoolDailySnapshots_cumulativeTotalRevenueUSD  \\\n0                                         224.659534       \n1                                         223.239195       \n2                                         220.960419       \n3                                         220.363547       \n4                                         220.321222       \n\n   liquidityPoolDailySnapshots_dailyTotalRevenueUSD  ...  \\\n0                                          1.420339  ...   \n1                                          2.278776  ...   \n2                                          0.596872  ...   \n3                                          0.042325  ...   \n4                                          0.970937  ...   \n\n   liquidityPoolDailySnapshots_pool_name  \\\n0                            20OHM-80FDT   \n1                            20OHM-80FDT   \n2                            20OHM-80FDT   \n3                            20OHM-80FDT   \n4                            20OHM-80FDT   \n\n   liquidityPoolDailySnapshots_pool_symbol  \\\n0                              20OHM-80FDT   \n1                              20OHM-80FDT   \n2                              20OHM-80FDT   \n3                              20OHM-80FDT   \n4                              20OHM-80FDT   \n\n   liquidityPoolDailySnapshots_pool_outputToken_id  \\\n0       0xfb46bc8fc0d06421d362a31b7230f39462efa79a   \n1       0xfb46bc8fc0d06421d362a31b7230f39462efa79a   \n2       0xfb46bc8fc0d06421d362a31b7230f39462efa79a   \n3       0xfb46bc8fc0d06421d362a31b7230f39462efa79a   \n4       0xfb46bc8fc0d06421d362a31b7230f39462efa79a   \n\n   liquidityPoolDailySnapshots_pool_outputToken_name  \\\n0                                        20OHM-80FDT   \n1                                        20OHM-80FDT   \n2                                        20OHM-80FDT   \n3                                        20OHM-80FDT   \n4                                        20OHM-80FDT   \n\n   liquidityPoolDailySnapshots_pool_outputToken_symbol  \\\n0                                        20OHM-80FDT     \n1                                        20OHM-80FDT     \n2                                        20OHM-80FDT     \n3                                        20OHM-80FDT     \n4                                        20OHM-80FDT     \n\n  liquidityPoolDailySnapshots_pool_outputToken_decimals  \\\n0                                                 18      \n1                                                 18      \n2                                                 18      \n3                                                 18      \n4                                                 18      \n\n  liquidityPoolDailySnapshots_pool_outputToken_lastPriceUSD  \\\n0                                           0.015483          \n1                                           0.015483          \n2                                           0.015483          \n3                                           0.015483          \n4                                           0.015483          \n\n  liquidityPoolDailySnapshots_pool_outputToken_lastPriceBlockNumber  \\\n0                                           16455259                  \n1                                           16455259                  \n2                                           16455259                  \n3                                           16455259                  \n4                                           16455259                  \n\n             dateTime       dex  \n0 2023-01-21 12:45:23  Balancer  \n1 2023-01-15 14:59:59  Balancer  \n2 2023-01-14 08:50:59  Balancer  \n3 2023-01-12 03:42:47  Balancer  \n4 2023-01-11 23:45:11  Balancer  \n\n[5 rows x 25 columns]",
      "text/html": "<div>\n<style scoped>\n    .dataframe tbody tr th:only-of-type {\n        vertical-align: middle;\n    }\n\n    .dataframe tbody tr th {\n        vertical-align: top;\n    }\n\n    .dataframe thead th {\n        text-align: right;\n    }\n</style>\n<table border=\"1\" class=\"dataframe\">\n  <thead>\n    <tr style=\"text-align: right;\">\n      <th></th>\n      <th>liquidityPoolDailySnapshots_id</th>\n      <th>liquidityPoolDailySnapshots_timestamp</th>\n      <th>liquidityPoolDailySnapshots_blockNumber</th>\n      <th>liquidityPoolDailySnapshots_totalValueLockedUSD</th>\n      <th>liquidityPoolDailySnapshots_cumulativeSupplySideRevenueUSD</th>\n      <th>liquidityPoolDailySnapshots_dailySupplySideRevenueUSD</th>\n      <th>liquidityPoolDailySnapshots_cumulativeProtocolSideRevenueUSD</th>\n      <th>liquidityPoolDailySnapshots_dailyProtocolSideRevenueUSD</th>\n      <th>liquidityPoolDailySnapshots_cumulativeTotalRevenueUSD</th>\n      <th>liquidityPoolDailySnapshots_dailyTotalRevenueUSD</th>\n      <th>...</th>\n      <th>liquidityPoolDailySnapshots_pool_name</th>\n      <th>liquidityPoolDailySnapshots_pool_symbol</th>\n      <th>liquidityPoolDailySnapshots_pool_outputToken_id</th>\n      <th>liquidityPoolDailySnapshots_pool_outputToken_name</th>\n      <th>liquidityPoolDailySnapshots_pool_outputToken_symbol</th>\n      <th>liquidityPoolDailySnapshots_pool_outputToken_decimals</th>\n      <th>liquidityPoolDailySnapshots_pool_outputToken_lastPriceUSD</th>\n      <th>liquidityPoolDailySnapshots_pool_outputToken_lastPriceBlockNumber</th>\n      <th>dateTime</th>\n      <th>dex</th>\n    </tr>\n  </thead>\n  <tbody>\n    <tr>\n      <th>0</th>\n      <td>0xfb46bc8fc0d06421d362a31b7230f39462efa79a-19378</td>\n      <td>1674305123</td>\n      <td>16455259</td>\n      <td>18853.743039</td>\n      <td>112.329767</td>\n      <td>0.710169</td>\n      <td>112.329767</td>\n      <td>0.710169</td>\n      <td>224.659534</td>\n      <td>1.420339</td>\n      <td>...</td>\n      <td>20OHM-80FDT</td>\n      <td>20OHM-80FDT</td>\n      <td>0xfb46bc8fc0d06421d362a31b7230f39462efa79a</td>\n      <td>20OHM-80FDT</td>\n      <td>20OHM-80FDT</td>\n      <td>18</td>\n      <td>0.015483</td>\n      <td>16455259</td>\n      <td>2023-01-21 12:45:23</td>\n      <td>Balancer</td>\n    </tr>\n    <tr>\n      <th>1</th>\n      <td>0xfb46bc8fc0d06421d362a31b7230f39462efa79a-19372</td>\n      <td>1673794799</td>\n      <td>16412954</td>\n      <td>3553.837470</td>\n      <td>111.619598</td>\n      <td>1.139388</td>\n      <td>111.619598</td>\n      <td>1.139388</td>\n      <td>223.239195</td>\n      <td>2.278776</td>\n      <td>...</td>\n      <td>20OHM-80FDT</td>\n      <td>20OHM-80FDT</td>\n      <td>0xfb46bc8fc0d06421d362a31b7230f39462efa79a</td>\n      <td>20OHM-80FDT</td>\n      <td>20OHM-80FDT</td>\n      <td>18</td>\n      <td>0.015483</td>\n      <td>16455259</td>\n      <td>2023-01-15 14:59:59</td>\n      <td>Balancer</td>\n    </tr>\n    <tr>\n      <th>2</th>\n      <td>0xfb46bc8fc0d06421d362a31b7230f39462efa79a-19371</td>\n      <td>1673686259</td>\n      <td>16403963</td>\n      <td>3042.818559</td>\n      <td>110.480210</td>\n      <td>0.298436</td>\n      <td>110.480210</td>\n      <td>0.298436</td>\n      <td>220.960419</td>\n      <td>0.596872</td>\n      <td>...</td>\n      <td>20OHM-80FDT</td>\n      <td>20OHM-80FDT</td>\n      <td>0xfb46bc8fc0d06421d362a31b7230f39462efa79a</td>\n      <td>20OHM-80FDT</td>\n      <td>20OHM-80FDT</td>\n      <td>18</td>\n      <td>0.015483</td>\n      <td>16455259</td>\n      <td>2023-01-14 08:50:59</td>\n      <td>Balancer</td>\n    </tr>\n    <tr>\n      <th>3</th>\n      <td>0xfb46bc8fc0d06421d362a31b7230f39462efa79a-19369</td>\n      <td>1673494967</td>\n      <td>16388108</td>\n      <td>2945.451220</td>\n      <td>110.181773</td>\n      <td>0.021163</td>\n      <td>110.181773</td>\n      <td>0.021163</td>\n      <td>220.363547</td>\n      <td>0.042325</td>\n      <td>...</td>\n      <td>20OHM-80FDT</td>\n      <td>20OHM-80FDT</td>\n      <td>0xfb46bc8fc0d06421d362a31b7230f39462efa79a</td>\n      <td>20OHM-80FDT</td>\n      <td>20OHM-80FDT</td>\n      <td>18</td>\n      <td>0.015483</td>\n      <td>16455259</td>\n      <td>2023-01-12 03:42:47</td>\n      <td>Balancer</td>\n    </tr>\n    <tr>\n      <th>4</th>\n      <td>0xfb46bc8fc0d06421d362a31b7230f39462efa79a-19368</td>\n      <td>1673480711</td>\n      <td>16386925</td>\n      <td>2936.986173</td>\n      <td>110.160611</td>\n      <td>0.485468</td>\n      <td>110.160611</td>\n      <td>0.485468</td>\n      <td>220.321222</td>\n      <td>0.970937</td>\n      <td>...</td>\n      <td>20OHM-80FDT</td>\n      <td>20OHM-80FDT</td>\n      <td>0xfb46bc8fc0d06421d362a31b7230f39462efa79a</td>\n      <td>20OHM-80FDT</td>\n      <td>20OHM-80FDT</td>\n      <td>18</td>\n      <td>0.015483</td>\n      <td>16455259</td>\n      <td>2023-01-11 23:45:11</td>\n      <td>Balancer</td>\n    </tr>\n  </tbody>\n</table>\n<p>5 rows × 25 columns</p>\n</div>"
     },
     "execution_count": 126,
     "metadata": {},
     "output_type": "execute_result"
    }
   ],
   "source": [
    "balancer_pool_datadb.head(5)"
   ],
   "metadata": {
    "collapsed": false,
    "pycharm": {
     "name": "#%%\n"
    }
   }
  },
  {
   "cell_type": "code",
   "execution_count": 127,
   "outputs": [
    {
     "name": "stdout",
     "output_type": "stream",
     "text": [
      "788\n"
     ]
    }
   ],
   "source": [
    "print(len(balancer_pool_datadb))"
   ],
   "metadata": {
    "collapsed": false,
    "pycharm": {
     "name": "#%%\n"
    }
   }
  },
  {
   "cell_type": "code",
   "execution_count": 128,
   "outputs": [
    {
     "data": {
      "text/plain": "                     liquidityPoolDailySnapshots_id  \\\n0  0xeac758487f4868952ac9bf5b5eb885bcf462aa67-19371   \n1  0xeac758487f4868952ac9bf5b5eb885bcf462aa67-19370   \n2  0xeac758487f4868952ac9bf5b5eb885bcf462aa67-19369   \n3  0xeac758487f4868952ac9bf5b5eb885bcf462aa67-19368   \n4  0xeac758487f4868952ac9bf5b5eb885bcf462aa67-19367   \n\n   liquidityPoolDailySnapshots_timestamp  \\\n0                             1673734463   \n1                             1673632487   \n2                             1673546303   \n3                             1673480375   \n4                             1673392739   \n\n   liquidityPoolDailySnapshots_blockNumber  \\\n0                                 16407961   \n1                                 16399496   \n2                                 16392360   \n3                                 16386897   \n4                                 16379642   \n\n   liquidityPoolDailySnapshots_totalValueLockedUSD  \\\n0                                         0.000205   \n1                                    253973.900275   \n2                                    265156.334335   \n3                                    302821.506602   \n4                                    366839.805871   \n\n   liquidityPoolDailySnapshots_cumulativeSupplySideRevenueUSD  \\\n0                                                0.0            \n1                                                0.0            \n2                                                0.0            \n3                                                0.0            \n4                                                0.0            \n\n   liquidityPoolDailySnapshots_dailySupplySideRevenueUSD  \\\n0                                                0.0       \n1                                                0.0       \n2                                                0.0       \n3                                                0.0       \n4                                                0.0       \n\n   liquidityPoolDailySnapshots_cumulativeProtocolSideRevenueUSD  \\\n0                                                0.0              \n1                                                0.0              \n2                                                0.0              \n3                                                0.0              \n4                                                0.0              \n\n   liquidityPoolDailySnapshots_dailyProtocolSideRevenueUSD  \\\n0                                                0.0         \n1                                                0.0         \n2                                                0.0         \n3                                                0.0         \n4                                                0.0         \n\n   liquidityPoolDailySnapshots_cumulativeTotalRevenueUSD  \\\n0                                                0.0       \n1                                                0.0       \n2                                                0.0       \n3                                                0.0       \n4                                                0.0       \n\n   liquidityPoolDailySnapshots_dailyTotalRevenueUSD  ...  \\\n0                                               0.0  ...   \n1                                               0.0  ...   \n2                                               0.0  ...   \n3                                               0.0  ...   \n4                                               0.0  ...   \n\n   liquidityPoolDailySnapshots_pool_name  \\\n0    Uniswap V3 Governance OHM/Temple 1%   \n1    Uniswap V3 Governance OHM/Temple 1%   \n2    Uniswap V3 Governance OHM/Temple 1%   \n3    Uniswap V3 Governance OHM/Temple 1%   \n4    Uniswap V3 Governance OHM/Temple 1%   \n\n   liquidityPoolDailySnapshots_pool_symbol  \\\n0                    Governance OHM/Temple   \n1                    Governance OHM/Temple   \n2                    Governance OHM/Temple   \n3                    Governance OHM/Temple   \n4                    Governance OHM/Temple   \n\n   liquidityPoolDailySnapshots_pool_outputToken_id  \\\n0                                              NaN   \n1                                              NaN   \n2                                              NaN   \n3                                              NaN   \n4                                              NaN   \n\n   liquidityPoolDailySnapshots_pool_outputToken_name  \\\n0                                                NaN   \n1                                                NaN   \n2                                                NaN   \n3                                                NaN   \n4                                                NaN   \n\n   liquidityPoolDailySnapshots_pool_outputToken_symbol  \\\n0                                                NaN     \n1                                                NaN     \n2                                                NaN     \n3                                                NaN     \n4                                                NaN     \n\n  liquidityPoolDailySnapshots_pool_outputToken_decimals  \\\n0                                                NaN      \n1                                                NaN      \n2                                                NaN      \n3                                                NaN      \n4                                                NaN      \n\n  liquidityPoolDailySnapshots_pool_outputToken_lastPriceUSD  \\\n0                                                NaN          \n1                                                NaN          \n2                                                NaN          \n3                                                NaN          \n4                                                NaN          \n\n   liquidityPoolDailySnapshots_pool_outputToken_lastPriceBlockNumber  \\\n0                                                NaN                   \n1                                                NaN                   \n2                                                NaN                   \n3                                                NaN                   \n4                                                NaN                   \n\n             dateTime      dex  \n0 2023-01-14 22:14:23  Uniswap  \n1 2023-01-13 17:54:47  Uniswap  \n2 2023-01-12 17:58:23  Uniswap  \n3 2023-01-11 23:39:35  Uniswap  \n4 2023-01-10 23:18:59  Uniswap  \n\n[5 rows x 25 columns]",
      "text/html": "<div>\n<style scoped>\n    .dataframe tbody tr th:only-of-type {\n        vertical-align: middle;\n    }\n\n    .dataframe tbody tr th {\n        vertical-align: top;\n    }\n\n    .dataframe thead th {\n        text-align: right;\n    }\n</style>\n<table border=\"1\" class=\"dataframe\">\n  <thead>\n    <tr style=\"text-align: right;\">\n      <th></th>\n      <th>liquidityPoolDailySnapshots_id</th>\n      <th>liquidityPoolDailySnapshots_timestamp</th>\n      <th>liquidityPoolDailySnapshots_blockNumber</th>\n      <th>liquidityPoolDailySnapshots_totalValueLockedUSD</th>\n      <th>liquidityPoolDailySnapshots_cumulativeSupplySideRevenueUSD</th>\n      <th>liquidityPoolDailySnapshots_dailySupplySideRevenueUSD</th>\n      <th>liquidityPoolDailySnapshots_cumulativeProtocolSideRevenueUSD</th>\n      <th>liquidityPoolDailySnapshots_dailyProtocolSideRevenueUSD</th>\n      <th>liquidityPoolDailySnapshots_cumulativeTotalRevenueUSD</th>\n      <th>liquidityPoolDailySnapshots_dailyTotalRevenueUSD</th>\n      <th>...</th>\n      <th>liquidityPoolDailySnapshots_pool_name</th>\n      <th>liquidityPoolDailySnapshots_pool_symbol</th>\n      <th>liquidityPoolDailySnapshots_pool_outputToken_id</th>\n      <th>liquidityPoolDailySnapshots_pool_outputToken_name</th>\n      <th>liquidityPoolDailySnapshots_pool_outputToken_symbol</th>\n      <th>liquidityPoolDailySnapshots_pool_outputToken_decimals</th>\n      <th>liquidityPoolDailySnapshots_pool_outputToken_lastPriceUSD</th>\n      <th>liquidityPoolDailySnapshots_pool_outputToken_lastPriceBlockNumber</th>\n      <th>dateTime</th>\n      <th>dex</th>\n    </tr>\n  </thead>\n  <tbody>\n    <tr>\n      <th>0</th>\n      <td>0xeac758487f4868952ac9bf5b5eb885bcf462aa67-19371</td>\n      <td>1673734463</td>\n      <td>16407961</td>\n      <td>0.000205</td>\n      <td>0.0</td>\n      <td>0.0</td>\n      <td>0.0</td>\n      <td>0.0</td>\n      <td>0.0</td>\n      <td>0.0</td>\n      <td>...</td>\n      <td>Uniswap V3 Governance OHM/Temple 1%</td>\n      <td>Governance OHM/Temple</td>\n      <td>NaN</td>\n      <td>NaN</td>\n      <td>NaN</td>\n      <td>NaN</td>\n      <td>NaN</td>\n      <td>NaN</td>\n      <td>2023-01-14 22:14:23</td>\n      <td>Uniswap</td>\n    </tr>\n    <tr>\n      <th>1</th>\n      <td>0xeac758487f4868952ac9bf5b5eb885bcf462aa67-19370</td>\n      <td>1673632487</td>\n      <td>16399496</td>\n      <td>253973.900275</td>\n      <td>0.0</td>\n      <td>0.0</td>\n      <td>0.0</td>\n      <td>0.0</td>\n      <td>0.0</td>\n      <td>0.0</td>\n      <td>...</td>\n      <td>Uniswap V3 Governance OHM/Temple 1%</td>\n      <td>Governance OHM/Temple</td>\n      <td>NaN</td>\n      <td>NaN</td>\n      <td>NaN</td>\n      <td>NaN</td>\n      <td>NaN</td>\n      <td>NaN</td>\n      <td>2023-01-13 17:54:47</td>\n      <td>Uniswap</td>\n    </tr>\n    <tr>\n      <th>2</th>\n      <td>0xeac758487f4868952ac9bf5b5eb885bcf462aa67-19369</td>\n      <td>1673546303</td>\n      <td>16392360</td>\n      <td>265156.334335</td>\n      <td>0.0</td>\n      <td>0.0</td>\n      <td>0.0</td>\n      <td>0.0</td>\n      <td>0.0</td>\n      <td>0.0</td>\n      <td>...</td>\n      <td>Uniswap V3 Governance OHM/Temple 1%</td>\n      <td>Governance OHM/Temple</td>\n      <td>NaN</td>\n      <td>NaN</td>\n      <td>NaN</td>\n      <td>NaN</td>\n      <td>NaN</td>\n      <td>NaN</td>\n      <td>2023-01-12 17:58:23</td>\n      <td>Uniswap</td>\n    </tr>\n    <tr>\n      <th>3</th>\n      <td>0xeac758487f4868952ac9bf5b5eb885bcf462aa67-19368</td>\n      <td>1673480375</td>\n      <td>16386897</td>\n      <td>302821.506602</td>\n      <td>0.0</td>\n      <td>0.0</td>\n      <td>0.0</td>\n      <td>0.0</td>\n      <td>0.0</td>\n      <td>0.0</td>\n      <td>...</td>\n      <td>Uniswap V3 Governance OHM/Temple 1%</td>\n      <td>Governance OHM/Temple</td>\n      <td>NaN</td>\n      <td>NaN</td>\n      <td>NaN</td>\n      <td>NaN</td>\n      <td>NaN</td>\n      <td>NaN</td>\n      <td>2023-01-11 23:39:35</td>\n      <td>Uniswap</td>\n    </tr>\n    <tr>\n      <th>4</th>\n      <td>0xeac758487f4868952ac9bf5b5eb885bcf462aa67-19367</td>\n      <td>1673392739</td>\n      <td>16379642</td>\n      <td>366839.805871</td>\n      <td>0.0</td>\n      <td>0.0</td>\n      <td>0.0</td>\n      <td>0.0</td>\n      <td>0.0</td>\n      <td>0.0</td>\n      <td>...</td>\n      <td>Uniswap V3 Governance OHM/Temple 1%</td>\n      <td>Governance OHM/Temple</td>\n      <td>NaN</td>\n      <td>NaN</td>\n      <td>NaN</td>\n      <td>NaN</td>\n      <td>NaN</td>\n      <td>NaN</td>\n      <td>2023-01-10 23:18:59</td>\n      <td>Uniswap</td>\n    </tr>\n  </tbody>\n</table>\n<p>5 rows × 25 columns</p>\n</div>"
     },
     "execution_count": 128,
     "metadata": {},
     "output_type": "execute_result"
    }
   ],
   "source": [
    "uniswap_pool_datadb.head(5)"
   ],
   "metadata": {
    "collapsed": false,
    "pycharm": {
     "name": "#%%\n"
    }
   }
  },
  {
   "cell_type": "code",
   "execution_count": 129,
   "outputs": [
    {
     "name": "stdout",
     "output_type": "stream",
     "text": [
      "918\n"
     ]
    }
   ],
   "source": [
    "print(len(uniswap_pool_datadb))"
   ],
   "metadata": {
    "collapsed": false,
    "pycharm": {
     "name": "#%%\n"
    }
   }
  },
  {
   "cell_type": "code",
   "execution_count": 130,
   "outputs": [
    {
     "data": {
      "text/plain": "                     liquidityPoolDailySnapshots_id  \\\n0  0xfc1e8bf3e81383ef07be24c3fd146745719de48d-19377   \n1  0xfc1e8bf3e81383ef07be24c3fd146745719de48d-19374   \n2  0xfc1e8bf3e81383ef07be24c3fd146745719de48d-19370   \n3  0xfc1e8bf3e81383ef07be24c3fd146745719de48d-19366   \n4  0xfc1e8bf3e81383ef07be24c3fd146745719de48d-19353   \n5  0xfc1e8bf3e81383ef07be24c3fd146745719de48d-19350   \n6  0xfc1e8bf3e81383ef07be24c3fd146745719de48d-19348   \n7  0xfc1e8bf3e81383ef07be24c3fd146745719de48d-19346   \n8  0xfc1e8bf3e81383ef07be24c3fd146745719de48d-19344   \n9  0xfc1e8bf3e81383ef07be24c3fd146745719de48d-19339   \n\n   liquidityPoolDailySnapshots_timestamp  \\\n0                             1674245327   \n1                             1673962727   \n2                             1673605055   \n3                             1673234519   \n4                             1672151507   \n5                             1671843179   \n6                             1671742235   \n7                             1671524783   \n8                             1671403991   \n9                             1670912663   \n\n   liquidityPoolDailySnapshots_blockNumber  \\\n0                                 16450305   \n1                                 16426872   \n2                                 16397224   \n3                                 16366521   \n4                                 16276696   \n5                                 16251135   \n6                                 16242745   \n7                                 16224703   \n8                                 16214686   \n9                                 16173973   \n\n   liquidityPoolDailySnapshots_totalValueLockedUSD  \\\n0                                              0.0   \n1                                              0.0   \n2                                              0.0   \n3                                              0.0   \n4                                              0.0   \n5                                              0.0   \n6                                              0.0   \n7                                              0.0   \n8                                              0.0   \n9                                              0.0   \n\n   liquidityPoolDailySnapshots_cumulativeSupplySideRevenueUSD  \\\n0                                          84.167386            \n1                                          83.065359            \n2                                          79.721882            \n3                                          78.111601            \n4                                          75.102575            \n5                                          73.240028            \n6                                          71.276251            \n7                                          69.432833            \n8                                          68.446653            \n9                                          68.384634            \n\n   liquidityPoolDailySnapshots_dailySupplySideRevenueUSD  \\\n0                                           1.102027       \n1                                           3.343477       \n2                                           1.610282       \n3                                           3.009026       \n4                                           1.862547       \n5                                           1.963777       \n6                                           1.843418       \n7                                           0.986180       \n8                                           0.062019       \n9                                           2.156164       \n\n   liquidityPoolDailySnapshots_cumulativeProtocolSideRevenueUSD  \\\n0                                          84.167386              \n1                                          83.065359              \n2                                          79.721882              \n3                                          78.111601              \n4                                          75.102575              \n5                                          73.240028              \n6                                          71.276251              \n7                                          69.432833              \n8                                          68.446653              \n9                                          68.384634              \n\n   liquidityPoolDailySnapshots_dailyProtocolSideRevenueUSD  \\\n0                                           1.102027         \n1                                           3.343477         \n2                                           1.610282         \n3                                           3.009026         \n4                                           1.862547         \n5                                           1.963777         \n6                                           1.843418         \n7                                           0.986180         \n8                                           0.062019         \n9                                           2.156164         \n\n   liquidityPoolDailySnapshots_cumulativeTotalRevenueUSD  \\\n0                                         168.334771       \n1                                         166.130717       \n2                                         159.443764       \n3                                         156.223201       \n4                                         150.205150       \n5                                         146.480056       \n6                                         142.552502       \n7                                         138.865665       \n8                                         136.893306       \n9                                         136.769268       \n\n   liquidityPoolDailySnapshots_dailyTotalRevenueUSD  ...  \\\n0                                          2.204054  ...   \n1                                          6.686953  ...   \n2                                          3.220563  ...   \n3                                          6.018051  ...   \n4                                          3.725094  ...   \n5                                          3.927554  ...   \n6                                          3.686837  ...   \n7                                          1.972359  ...   \n8                                          0.124037  ...   \n9                                          4.312328  ...   \n\n      liquidityPoolDailySnapshots_pool_name  \\\n0  Curve.fi Factory Crypto Pool: OHM/FRAXBP   \n1  Curve.fi Factory Crypto Pool: OHM/FRAXBP   \n2  Curve.fi Factory Crypto Pool: OHM/FRAXBP   \n3  Curve.fi Factory Crypto Pool: OHM/FRAXBP   \n4  Curve.fi Factory Crypto Pool: OHM/FRAXBP   \n5  Curve.fi Factory Crypto Pool: OHM/FRAXBP   \n6  Curve.fi Factory Crypto Pool: OHM/FRAXBP   \n7  Curve.fi Factory Crypto Pool: OHM/FRAXBP   \n8  Curve.fi Factory Crypto Pool: OHM/FRAXBP   \n9  Curve.fi Factory Crypto Pool: OHM/FRAXBP   \n\n   liquidityPoolDailySnapshots_pool_symbol  \\\n0                              OHMFRAXBP-f   \n1                              OHMFRAXBP-f   \n2                              OHMFRAXBP-f   \n3                              OHMFRAXBP-f   \n4                              OHMFRAXBP-f   \n5                              OHMFRAXBP-f   \n6                              OHMFRAXBP-f   \n7                              OHMFRAXBP-f   \n8                              OHMFRAXBP-f   \n9                              OHMFRAXBP-f   \n\n   liquidityPoolDailySnapshots_pool_outputToken_id  \\\n0       0x5271045f7b73c17825a7a7aee6917ee46b0b7520   \n1       0x5271045f7b73c17825a7a7aee6917ee46b0b7520   \n2       0x5271045f7b73c17825a7a7aee6917ee46b0b7520   \n3       0x5271045f7b73c17825a7a7aee6917ee46b0b7520   \n4       0x5271045f7b73c17825a7a7aee6917ee46b0b7520   \n5       0x5271045f7b73c17825a7a7aee6917ee46b0b7520   \n6       0x5271045f7b73c17825a7a7aee6917ee46b0b7520   \n7       0x5271045f7b73c17825a7a7aee6917ee46b0b7520   \n8       0x5271045f7b73c17825a7a7aee6917ee46b0b7520   \n9       0x5271045f7b73c17825a7a7aee6917ee46b0b7520   \n\n   liquidityPoolDailySnapshots_pool_outputToken_name  \\\n0           Curve.fi Factory Crypto Pool: OHM/FRAXBP   \n1           Curve.fi Factory Crypto Pool: OHM/FRAXBP   \n2           Curve.fi Factory Crypto Pool: OHM/FRAXBP   \n3           Curve.fi Factory Crypto Pool: OHM/FRAXBP   \n4           Curve.fi Factory Crypto Pool: OHM/FRAXBP   \n5           Curve.fi Factory Crypto Pool: OHM/FRAXBP   \n6           Curve.fi Factory Crypto Pool: OHM/FRAXBP   \n7           Curve.fi Factory Crypto Pool: OHM/FRAXBP   \n8           Curve.fi Factory Crypto Pool: OHM/FRAXBP   \n9           Curve.fi Factory Crypto Pool: OHM/FRAXBP   \n\n   liquidityPoolDailySnapshots_pool_outputToken_symbol  \\\n0                                        OHMFRAXBP-f     \n1                                        OHMFRAXBP-f     \n2                                        OHMFRAXBP-f     \n3                                        OHMFRAXBP-f     \n4                                        OHMFRAXBP-f     \n5                                        OHMFRAXBP-f     \n6                                        OHMFRAXBP-f     \n7                                        OHMFRAXBP-f     \n8                                        OHMFRAXBP-f     \n9                                        OHMFRAXBP-f     \n\n  liquidityPoolDailySnapshots_pool_outputToken_decimals  \\\n0                                                 18      \n1                                                 18      \n2                                                 18      \n3                                                 18      \n4                                                 18      \n5                                                 18      \n6                                                 18      \n7                                                 18      \n8                                                 18      \n9                                                 18      \n\n  liquidityPoolDailySnapshots_pool_outputToken_lastPriceUSD  \\\n0                                                0.0          \n1                                                0.0          \n2                                                0.0          \n3                                                0.0          \n4                                                0.0          \n5                                                0.0          \n6                                                0.0          \n7                                                0.0          \n8                                                0.0          \n9                                                0.0          \n\n  liquidityPoolDailySnapshots_pool_outputToken_lastPriceBlockNumber  \\\n0                                           15944840                  \n1                                           15944840                  \n2                                           15944840                  \n3                                           15944840                  \n4                                           15944840                  \n5                                           15944840                  \n6                                           15944840                  \n7                                           15944840                  \n8                                           15944840                  \n9                                           15944840                  \n\n             dateTime    dex  \n0 2023-01-20 20:08:47  Curve  \n1 2023-01-17 13:38:47  Curve  \n2 2023-01-13 10:17:35  Curve  \n3 2023-01-09 03:21:59  Curve  \n4 2022-12-27 14:31:47  Curve  \n5 2022-12-24 00:52:59  Curve  \n6 2022-12-22 20:50:35  Curve  \n7 2022-12-20 08:26:23  Curve  \n8 2022-12-18 22:53:11  Curve  \n9 2022-12-13 06:24:23  Curve  \n\n[10 rows x 25 columns]",
      "text/html": "<div>\n<style scoped>\n    .dataframe tbody tr th:only-of-type {\n        vertical-align: middle;\n    }\n\n    .dataframe tbody tr th {\n        vertical-align: top;\n    }\n\n    .dataframe thead th {\n        text-align: right;\n    }\n</style>\n<table border=\"1\" class=\"dataframe\">\n  <thead>\n    <tr style=\"text-align: right;\">\n      <th></th>\n      <th>liquidityPoolDailySnapshots_id</th>\n      <th>liquidityPoolDailySnapshots_timestamp</th>\n      <th>liquidityPoolDailySnapshots_blockNumber</th>\n      <th>liquidityPoolDailySnapshots_totalValueLockedUSD</th>\n      <th>liquidityPoolDailySnapshots_cumulativeSupplySideRevenueUSD</th>\n      <th>liquidityPoolDailySnapshots_dailySupplySideRevenueUSD</th>\n      <th>liquidityPoolDailySnapshots_cumulativeProtocolSideRevenueUSD</th>\n      <th>liquidityPoolDailySnapshots_dailyProtocolSideRevenueUSD</th>\n      <th>liquidityPoolDailySnapshots_cumulativeTotalRevenueUSD</th>\n      <th>liquidityPoolDailySnapshots_dailyTotalRevenueUSD</th>\n      <th>...</th>\n      <th>liquidityPoolDailySnapshots_pool_name</th>\n      <th>liquidityPoolDailySnapshots_pool_symbol</th>\n      <th>liquidityPoolDailySnapshots_pool_outputToken_id</th>\n      <th>liquidityPoolDailySnapshots_pool_outputToken_name</th>\n      <th>liquidityPoolDailySnapshots_pool_outputToken_symbol</th>\n      <th>liquidityPoolDailySnapshots_pool_outputToken_decimals</th>\n      <th>liquidityPoolDailySnapshots_pool_outputToken_lastPriceUSD</th>\n      <th>liquidityPoolDailySnapshots_pool_outputToken_lastPriceBlockNumber</th>\n      <th>dateTime</th>\n      <th>dex</th>\n    </tr>\n  </thead>\n  <tbody>\n    <tr>\n      <th>0</th>\n      <td>0xfc1e8bf3e81383ef07be24c3fd146745719de48d-19377</td>\n      <td>1674245327</td>\n      <td>16450305</td>\n      <td>0.0</td>\n      <td>84.167386</td>\n      <td>1.102027</td>\n      <td>84.167386</td>\n      <td>1.102027</td>\n      <td>168.334771</td>\n      <td>2.204054</td>\n      <td>...</td>\n      <td>Curve.fi Factory Crypto Pool: OHM/FRAXBP</td>\n      <td>OHMFRAXBP-f</td>\n      <td>0x5271045f7b73c17825a7a7aee6917ee46b0b7520</td>\n      <td>Curve.fi Factory Crypto Pool: OHM/FRAXBP</td>\n      <td>OHMFRAXBP-f</td>\n      <td>18</td>\n      <td>0.0</td>\n      <td>15944840</td>\n      <td>2023-01-20 20:08:47</td>\n      <td>Curve</td>\n    </tr>\n    <tr>\n      <th>1</th>\n      <td>0xfc1e8bf3e81383ef07be24c3fd146745719de48d-19374</td>\n      <td>1673962727</td>\n      <td>16426872</td>\n      <td>0.0</td>\n      <td>83.065359</td>\n      <td>3.343477</td>\n      <td>83.065359</td>\n      <td>3.343477</td>\n      <td>166.130717</td>\n      <td>6.686953</td>\n      <td>...</td>\n      <td>Curve.fi Factory Crypto Pool: OHM/FRAXBP</td>\n      <td>OHMFRAXBP-f</td>\n      <td>0x5271045f7b73c17825a7a7aee6917ee46b0b7520</td>\n      <td>Curve.fi Factory Crypto Pool: OHM/FRAXBP</td>\n      <td>OHMFRAXBP-f</td>\n      <td>18</td>\n      <td>0.0</td>\n      <td>15944840</td>\n      <td>2023-01-17 13:38:47</td>\n      <td>Curve</td>\n    </tr>\n    <tr>\n      <th>2</th>\n      <td>0xfc1e8bf3e81383ef07be24c3fd146745719de48d-19370</td>\n      <td>1673605055</td>\n      <td>16397224</td>\n      <td>0.0</td>\n      <td>79.721882</td>\n      <td>1.610282</td>\n      <td>79.721882</td>\n      <td>1.610282</td>\n      <td>159.443764</td>\n      <td>3.220563</td>\n      <td>...</td>\n      <td>Curve.fi Factory Crypto Pool: OHM/FRAXBP</td>\n      <td>OHMFRAXBP-f</td>\n      <td>0x5271045f7b73c17825a7a7aee6917ee46b0b7520</td>\n      <td>Curve.fi Factory Crypto Pool: OHM/FRAXBP</td>\n      <td>OHMFRAXBP-f</td>\n      <td>18</td>\n      <td>0.0</td>\n      <td>15944840</td>\n      <td>2023-01-13 10:17:35</td>\n      <td>Curve</td>\n    </tr>\n    <tr>\n      <th>3</th>\n      <td>0xfc1e8bf3e81383ef07be24c3fd146745719de48d-19366</td>\n      <td>1673234519</td>\n      <td>16366521</td>\n      <td>0.0</td>\n      <td>78.111601</td>\n      <td>3.009026</td>\n      <td>78.111601</td>\n      <td>3.009026</td>\n      <td>156.223201</td>\n      <td>6.018051</td>\n      <td>...</td>\n      <td>Curve.fi Factory Crypto Pool: OHM/FRAXBP</td>\n      <td>OHMFRAXBP-f</td>\n      <td>0x5271045f7b73c17825a7a7aee6917ee46b0b7520</td>\n      <td>Curve.fi Factory Crypto Pool: OHM/FRAXBP</td>\n      <td>OHMFRAXBP-f</td>\n      <td>18</td>\n      <td>0.0</td>\n      <td>15944840</td>\n      <td>2023-01-09 03:21:59</td>\n      <td>Curve</td>\n    </tr>\n    <tr>\n      <th>4</th>\n      <td>0xfc1e8bf3e81383ef07be24c3fd146745719de48d-19353</td>\n      <td>1672151507</td>\n      <td>16276696</td>\n      <td>0.0</td>\n      <td>75.102575</td>\n      <td>1.862547</td>\n      <td>75.102575</td>\n      <td>1.862547</td>\n      <td>150.205150</td>\n      <td>3.725094</td>\n      <td>...</td>\n      <td>Curve.fi Factory Crypto Pool: OHM/FRAXBP</td>\n      <td>OHMFRAXBP-f</td>\n      <td>0x5271045f7b73c17825a7a7aee6917ee46b0b7520</td>\n      <td>Curve.fi Factory Crypto Pool: OHM/FRAXBP</td>\n      <td>OHMFRAXBP-f</td>\n      <td>18</td>\n      <td>0.0</td>\n      <td>15944840</td>\n      <td>2022-12-27 14:31:47</td>\n      <td>Curve</td>\n    </tr>\n    <tr>\n      <th>5</th>\n      <td>0xfc1e8bf3e81383ef07be24c3fd146745719de48d-19350</td>\n      <td>1671843179</td>\n      <td>16251135</td>\n      <td>0.0</td>\n      <td>73.240028</td>\n      <td>1.963777</td>\n      <td>73.240028</td>\n      <td>1.963777</td>\n      <td>146.480056</td>\n      <td>3.927554</td>\n      <td>...</td>\n      <td>Curve.fi Factory Crypto Pool: OHM/FRAXBP</td>\n      <td>OHMFRAXBP-f</td>\n      <td>0x5271045f7b73c17825a7a7aee6917ee46b0b7520</td>\n      <td>Curve.fi Factory Crypto Pool: OHM/FRAXBP</td>\n      <td>OHMFRAXBP-f</td>\n      <td>18</td>\n      <td>0.0</td>\n      <td>15944840</td>\n      <td>2022-12-24 00:52:59</td>\n      <td>Curve</td>\n    </tr>\n    <tr>\n      <th>6</th>\n      <td>0xfc1e8bf3e81383ef07be24c3fd146745719de48d-19348</td>\n      <td>1671742235</td>\n      <td>16242745</td>\n      <td>0.0</td>\n      <td>71.276251</td>\n      <td>1.843418</td>\n      <td>71.276251</td>\n      <td>1.843418</td>\n      <td>142.552502</td>\n      <td>3.686837</td>\n      <td>...</td>\n      <td>Curve.fi Factory Crypto Pool: OHM/FRAXBP</td>\n      <td>OHMFRAXBP-f</td>\n      <td>0x5271045f7b73c17825a7a7aee6917ee46b0b7520</td>\n      <td>Curve.fi Factory Crypto Pool: OHM/FRAXBP</td>\n      <td>OHMFRAXBP-f</td>\n      <td>18</td>\n      <td>0.0</td>\n      <td>15944840</td>\n      <td>2022-12-22 20:50:35</td>\n      <td>Curve</td>\n    </tr>\n    <tr>\n      <th>7</th>\n      <td>0xfc1e8bf3e81383ef07be24c3fd146745719de48d-19346</td>\n      <td>1671524783</td>\n      <td>16224703</td>\n      <td>0.0</td>\n      <td>69.432833</td>\n      <td>0.986180</td>\n      <td>69.432833</td>\n      <td>0.986180</td>\n      <td>138.865665</td>\n      <td>1.972359</td>\n      <td>...</td>\n      <td>Curve.fi Factory Crypto Pool: OHM/FRAXBP</td>\n      <td>OHMFRAXBP-f</td>\n      <td>0x5271045f7b73c17825a7a7aee6917ee46b0b7520</td>\n      <td>Curve.fi Factory Crypto Pool: OHM/FRAXBP</td>\n      <td>OHMFRAXBP-f</td>\n      <td>18</td>\n      <td>0.0</td>\n      <td>15944840</td>\n      <td>2022-12-20 08:26:23</td>\n      <td>Curve</td>\n    </tr>\n    <tr>\n      <th>8</th>\n      <td>0xfc1e8bf3e81383ef07be24c3fd146745719de48d-19344</td>\n      <td>1671403991</td>\n      <td>16214686</td>\n      <td>0.0</td>\n      <td>68.446653</td>\n      <td>0.062019</td>\n      <td>68.446653</td>\n      <td>0.062019</td>\n      <td>136.893306</td>\n      <td>0.124037</td>\n      <td>...</td>\n      <td>Curve.fi Factory Crypto Pool: OHM/FRAXBP</td>\n      <td>OHMFRAXBP-f</td>\n      <td>0x5271045f7b73c17825a7a7aee6917ee46b0b7520</td>\n      <td>Curve.fi Factory Crypto Pool: OHM/FRAXBP</td>\n      <td>OHMFRAXBP-f</td>\n      <td>18</td>\n      <td>0.0</td>\n      <td>15944840</td>\n      <td>2022-12-18 22:53:11</td>\n      <td>Curve</td>\n    </tr>\n    <tr>\n      <th>9</th>\n      <td>0xfc1e8bf3e81383ef07be24c3fd146745719de48d-19339</td>\n      <td>1670912663</td>\n      <td>16173973</td>\n      <td>0.0</td>\n      <td>68.384634</td>\n      <td>2.156164</td>\n      <td>68.384634</td>\n      <td>2.156164</td>\n      <td>136.769268</td>\n      <td>4.312328</td>\n      <td>...</td>\n      <td>Curve.fi Factory Crypto Pool: OHM/FRAXBP</td>\n      <td>OHMFRAXBP-f</td>\n      <td>0x5271045f7b73c17825a7a7aee6917ee46b0b7520</td>\n      <td>Curve.fi Factory Crypto Pool: OHM/FRAXBP</td>\n      <td>OHMFRAXBP-f</td>\n      <td>18</td>\n      <td>0.0</td>\n      <td>15944840</td>\n      <td>2022-12-13 06:24:23</td>\n      <td>Curve</td>\n    </tr>\n  </tbody>\n</table>\n<p>10 rows × 25 columns</p>\n</div>"
     },
     "execution_count": 130,
     "metadata": {},
     "output_type": "execute_result"
    }
   ],
   "source": [
    "curve_pool_datadb.head(10)"
   ],
   "metadata": {
    "collapsed": false,
    "pycharm": {
     "name": "#%%\n"
    }
   }
  },
  {
   "cell_type": "code",
   "execution_count": 131,
   "outputs": [
    {
     "data": {
      "text/plain": "                       liquidityPoolDailySnapshots_id  \\\n0    0xfffae4a0f4ac251f4705717cd24cadccc9f33e06-19378   \n1    0xfffae4a0f4ac251f4705717cd24cadccc9f33e06-19377   \n2    0xfffae4a0f4ac251f4705717cd24cadccc9f33e06-19376   \n3    0xfffae4a0f4ac251f4705717cd24cadccc9f33e06-19375   \n4    0xfffae4a0f4ac251f4705717cd24cadccc9f33e06-19374   \n..                                                ...   \n495  0xfffae4a0f4ac251f4705717cd24cadccc9f33e06-18870   \n496  0xfffae4a0f4ac251f4705717cd24cadccc9f33e06-18869   \n497  0xfffae4a0f4ac251f4705717cd24cadccc9f33e06-18868   \n498  0xfffae4a0f4ac251f4705717cd24cadccc9f33e06-18867   \n499  0xfffae4a0f4ac251f4705717cd24cadccc9f33e06-18866   \n\n     liquidityPoolDailySnapshots_timestamp  \\\n0                               1674261971   \n1                               1674238127   \n2                               1674088439   \n3                               1674083987   \n4                               1673938739   \n..                                     ...   \n495                             1630444987   \n496                             1630367769   \n497                             1630277657   \n498                             1630195189   \n499                             1630102567   \n\n     liquidityPoolDailySnapshots_blockNumber  \\\n0                                   16451685   \n1                                   16449712   \n2                                   16437299   \n3                                   16436930   \n4                                   16424878   \n..                                       ...   \n495                                 13135720   \n496                                 13129970   \n497                                 13123209   \n498                                 13117020   \n499                                 13110068   \n\n     liquidityPoolDailySnapshots_totalValueLockedUSD  \\\n0                                       18790.094259   \n1                                       18350.916941   \n2                                       17744.690456   \n3                                       17819.864304   \n4                                       18133.756430   \n..                                               ...   \n495                                     17260.930023   \n496                                     17396.104210   \n497                                     17923.479129   \n498                                     18043.290491   \n499                                     17627.815392   \n\n     liquidityPoolDailySnapshots_cumulativeSupplySideRevenueUSD  \\\n0                                         3.908945e+06            \n1                                         3.908945e+06            \n2                                         3.908945e+06            \n3                                         3.908945e+06            \n4                                         3.908943e+06            \n..                                                 ...            \n495                                       1.496557e+04            \n496                                       1.494497e+04            \n497                                       1.494034e+04            \n498                                       1.492509e+04            \n499                                       1.490833e+04            \n\n     liquidityPoolDailySnapshots_dailySupplySideRevenueUSD  \\\n0                                             0.124843       \n1                                             0.376670       \n2                                             0.404097       \n3                                             1.242295       \n4                                             0.372793       \n..                                                 ...       \n495                                          20.600304       \n496                                           4.637978       \n497                                          15.249717       \n498                                          16.753855       \n499                                          16.143329       \n\n     liquidityPoolDailySnapshots_cumulativeProtocolSideRevenueUSD  \\\n0                                        781789.088016              \n1                                        781789.063048              \n2                                        781788.987714              \n3                                        781788.906894              \n4                                        781788.658435              \n..                                                 ...              \n495                                        2993.114989              \n496                                        2988.994928              \n497                                        2988.067332              \n498                                        2985.017389              \n499                                        2981.666618              \n\n     liquidityPoolDailySnapshots_dailyProtocolSideRevenueUSD  \\\n0                                             0.024969         \n1                                             0.075334         \n2                                             0.080819         \n3                                             0.248459         \n4                                             0.074559         \n..                                                 ...         \n495                                           4.120061         \n496                                           0.927596         \n497                                           3.049943         \n498                                           3.350771         \n499                                           3.228666         \n\n     liquidityPoolDailySnapshots_cumulativeTotalRevenueUSD  \\\n0                                         4.690735e+06       \n1                                         4.690734e+06       \n2                                         4.690734e+06       \n3                                         4.690733e+06       \n4                                         4.690732e+06       \n..                                                 ...       \n495                                       1.795869e+04       \n496                                       1.793397e+04       \n497                                       1.792840e+04       \n498                                       1.791010e+04       \n499                                       1.789000e+04       \n\n     liquidityPoolDailySnapshots_dailyTotalRevenueUSD  ...  \\\n0                                            0.149811  ...   \n1                                            0.452004  ...   \n2                                            0.484916  ...   \n3                                            1.490754  ...   \n4                                            0.447352  ...   \n..                                                ...  ...   \n495                                         24.720365  ...   \n496                                          5.565573  ...   \n497                                         18.299661  ...   \n498                                         20.104626  ...   \n499                                         19.371994  ...   \n\n     liquidityPoolDailySnapshots_pool_name  \\\n0          SushiSwap Olympus/Wrapped Ether   \n1          SushiSwap Olympus/Wrapped Ether   \n2          SushiSwap Olympus/Wrapped Ether   \n3          SushiSwap Olympus/Wrapped Ether   \n4          SushiSwap Olympus/Wrapped Ether   \n..                                     ...   \n495        SushiSwap Olympus/Wrapped Ether   \n496        SushiSwap Olympus/Wrapped Ether   \n497        SushiSwap Olympus/Wrapped Ether   \n498        SushiSwap Olympus/Wrapped Ether   \n499        SushiSwap Olympus/Wrapped Ether   \n\n     liquidityPoolDailySnapshots_pool_symbol  \\\n0                      Olympus/Wrapped Ether   \n1                      Olympus/Wrapped Ether   \n2                      Olympus/Wrapped Ether   \n3                      Olympus/Wrapped Ether   \n4                      Olympus/Wrapped Ether   \n..                                       ...   \n495                    Olympus/Wrapped Ether   \n496                    Olympus/Wrapped Ether   \n497                    Olympus/Wrapped Ether   \n498                    Olympus/Wrapped Ether   \n499                    Olympus/Wrapped Ether   \n\n     liquidityPoolDailySnapshots_pool_outputToken_id  \\\n0         0xfffae4a0f4ac251f4705717cd24cadccc9f33e06   \n1         0xfffae4a0f4ac251f4705717cd24cadccc9f33e06   \n2         0xfffae4a0f4ac251f4705717cd24cadccc9f33e06   \n3         0xfffae4a0f4ac251f4705717cd24cadccc9f33e06   \n4         0xfffae4a0f4ac251f4705717cd24cadccc9f33e06   \n..                                               ...   \n495       0xfffae4a0f4ac251f4705717cd24cadccc9f33e06   \n496       0xfffae4a0f4ac251f4705717cd24cadccc9f33e06   \n497       0xfffae4a0f4ac251f4705717cd24cadccc9f33e06   \n498       0xfffae4a0f4ac251f4705717cd24cadccc9f33e06   \n499       0xfffae4a0f4ac251f4705717cd24cadccc9f33e06   \n\n     liquidityPoolDailySnapshots_pool_outputToken_name  \\\n0                             Olympus/Wrapped Ether LP   \n1                             Olympus/Wrapped Ether LP   \n2                             Olympus/Wrapped Ether LP   \n3                             Olympus/Wrapped Ether LP   \n4                             Olympus/Wrapped Ether LP   \n..                                                 ...   \n495                           Olympus/Wrapped Ether LP   \n496                           Olympus/Wrapped Ether LP   \n497                           Olympus/Wrapped Ether LP   \n498                           Olympus/Wrapped Ether LP   \n499                           Olympus/Wrapped Ether LP   \n\n     liquidityPoolDailySnapshots_pool_outputToken_symbol  \\\n0                                Olympus/Wrapped Ether     \n1                                Olympus/Wrapped Ether     \n2                                Olympus/Wrapped Ether     \n3                                Olympus/Wrapped Ether     \n4                                Olympus/Wrapped Ether     \n..                                                 ...     \n495                              Olympus/Wrapped Ether     \n496                              Olympus/Wrapped Ether     \n497                              Olympus/Wrapped Ether     \n498                              Olympus/Wrapped Ether     \n499                              Olympus/Wrapped Ether     \n\n    liquidityPoolDailySnapshots_pool_outputToken_decimals  \\\n0                                                 18.0      \n1                                                 18.0      \n2                                                 18.0      \n3                                                 18.0      \n4                                                 18.0      \n..                                                 ...      \n495                                               18.0      \n496                                               18.0      \n497                                               18.0      \n498                                               18.0      \n499                                               18.0      \n\n    liquidityPoolDailySnapshots_pool_outputToken_lastPriceUSD  \\\n0                                                  0.0          \n1                                                  0.0          \n2                                                  0.0          \n3                                                  0.0          \n4                                                  0.0          \n..                                                 ...          \n495                                                0.0          \n496                                                0.0          \n497                                                0.0          \n498                                                0.0          \n499                                                0.0          \n\n    liquidityPoolDailySnapshots_pool_outputToken_lastPriceBlockNumber  \\\n0                                                  0.0                  \n1                                                  0.0                  \n2                                                  0.0                  \n3                                                  0.0                  \n4                                                  0.0                  \n..                                                 ...                  \n495                                                0.0                  \n496                                                0.0                  \n497                                                0.0                  \n498                                                0.0                  \n499                                                0.0                  \n\n               dateTime    dex  \n0   2023-01-21 00:46:11  Sushi  \n1   2023-01-20 18:08:47  Sushi  \n2   2023-01-19 00:33:59  Sushi  \n3   2023-01-18 23:19:47  Sushi  \n4   2023-01-17 06:58:59  Sushi  \n..                  ...    ...  \n495 2021-08-31 21:23:07  Sushi  \n496 2021-08-30 23:56:09  Sushi  \n497 2021-08-29 22:54:17  Sushi  \n498 2021-08-28 23:59:49  Sushi  \n499 2021-08-27 22:16:07  Sushi  \n\n[500 rows x 25 columns]",
      "text/html": "<div>\n<style scoped>\n    .dataframe tbody tr th:only-of-type {\n        vertical-align: middle;\n    }\n\n    .dataframe tbody tr th {\n        vertical-align: top;\n    }\n\n    .dataframe thead th {\n        text-align: right;\n    }\n</style>\n<table border=\"1\" class=\"dataframe\">\n  <thead>\n    <tr style=\"text-align: right;\">\n      <th></th>\n      <th>liquidityPoolDailySnapshots_id</th>\n      <th>liquidityPoolDailySnapshots_timestamp</th>\n      <th>liquidityPoolDailySnapshots_blockNumber</th>\n      <th>liquidityPoolDailySnapshots_totalValueLockedUSD</th>\n      <th>liquidityPoolDailySnapshots_cumulativeSupplySideRevenueUSD</th>\n      <th>liquidityPoolDailySnapshots_dailySupplySideRevenueUSD</th>\n      <th>liquidityPoolDailySnapshots_cumulativeProtocolSideRevenueUSD</th>\n      <th>liquidityPoolDailySnapshots_dailyProtocolSideRevenueUSD</th>\n      <th>liquidityPoolDailySnapshots_cumulativeTotalRevenueUSD</th>\n      <th>liquidityPoolDailySnapshots_dailyTotalRevenueUSD</th>\n      <th>...</th>\n      <th>liquidityPoolDailySnapshots_pool_name</th>\n      <th>liquidityPoolDailySnapshots_pool_symbol</th>\n      <th>liquidityPoolDailySnapshots_pool_outputToken_id</th>\n      <th>liquidityPoolDailySnapshots_pool_outputToken_name</th>\n      <th>liquidityPoolDailySnapshots_pool_outputToken_symbol</th>\n      <th>liquidityPoolDailySnapshots_pool_outputToken_decimals</th>\n      <th>liquidityPoolDailySnapshots_pool_outputToken_lastPriceUSD</th>\n      <th>liquidityPoolDailySnapshots_pool_outputToken_lastPriceBlockNumber</th>\n      <th>dateTime</th>\n      <th>dex</th>\n    </tr>\n  </thead>\n  <tbody>\n    <tr>\n      <th>0</th>\n      <td>0xfffae4a0f4ac251f4705717cd24cadccc9f33e06-19378</td>\n      <td>1674261971</td>\n      <td>16451685</td>\n      <td>18790.094259</td>\n      <td>3.908945e+06</td>\n      <td>0.124843</td>\n      <td>781789.088016</td>\n      <td>0.024969</td>\n      <td>4.690735e+06</td>\n      <td>0.149811</td>\n      <td>...</td>\n      <td>SushiSwap Olympus/Wrapped Ether</td>\n      <td>Olympus/Wrapped Ether</td>\n      <td>0xfffae4a0f4ac251f4705717cd24cadccc9f33e06</td>\n      <td>Olympus/Wrapped Ether LP</td>\n      <td>Olympus/Wrapped Ether</td>\n      <td>18.0</td>\n      <td>0.0</td>\n      <td>0.0</td>\n      <td>2023-01-21 00:46:11</td>\n      <td>Sushi</td>\n    </tr>\n    <tr>\n      <th>1</th>\n      <td>0xfffae4a0f4ac251f4705717cd24cadccc9f33e06-19377</td>\n      <td>1674238127</td>\n      <td>16449712</td>\n      <td>18350.916941</td>\n      <td>3.908945e+06</td>\n      <td>0.376670</td>\n      <td>781789.063048</td>\n      <td>0.075334</td>\n      <td>4.690734e+06</td>\n      <td>0.452004</td>\n      <td>...</td>\n      <td>SushiSwap Olympus/Wrapped Ether</td>\n      <td>Olympus/Wrapped Ether</td>\n      <td>0xfffae4a0f4ac251f4705717cd24cadccc9f33e06</td>\n      <td>Olympus/Wrapped Ether LP</td>\n      <td>Olympus/Wrapped Ether</td>\n      <td>18.0</td>\n      <td>0.0</td>\n      <td>0.0</td>\n      <td>2023-01-20 18:08:47</td>\n      <td>Sushi</td>\n    </tr>\n    <tr>\n      <th>2</th>\n      <td>0xfffae4a0f4ac251f4705717cd24cadccc9f33e06-19376</td>\n      <td>1674088439</td>\n      <td>16437299</td>\n      <td>17744.690456</td>\n      <td>3.908945e+06</td>\n      <td>0.404097</td>\n      <td>781788.987714</td>\n      <td>0.080819</td>\n      <td>4.690734e+06</td>\n      <td>0.484916</td>\n      <td>...</td>\n      <td>SushiSwap Olympus/Wrapped Ether</td>\n      <td>Olympus/Wrapped Ether</td>\n      <td>0xfffae4a0f4ac251f4705717cd24cadccc9f33e06</td>\n      <td>Olympus/Wrapped Ether LP</td>\n      <td>Olympus/Wrapped Ether</td>\n      <td>18.0</td>\n      <td>0.0</td>\n      <td>0.0</td>\n      <td>2023-01-19 00:33:59</td>\n      <td>Sushi</td>\n    </tr>\n    <tr>\n      <th>3</th>\n      <td>0xfffae4a0f4ac251f4705717cd24cadccc9f33e06-19375</td>\n      <td>1674083987</td>\n      <td>16436930</td>\n      <td>17819.864304</td>\n      <td>3.908945e+06</td>\n      <td>1.242295</td>\n      <td>781788.906894</td>\n      <td>0.248459</td>\n      <td>4.690733e+06</td>\n      <td>1.490754</td>\n      <td>...</td>\n      <td>SushiSwap Olympus/Wrapped Ether</td>\n      <td>Olympus/Wrapped Ether</td>\n      <td>0xfffae4a0f4ac251f4705717cd24cadccc9f33e06</td>\n      <td>Olympus/Wrapped Ether LP</td>\n      <td>Olympus/Wrapped Ether</td>\n      <td>18.0</td>\n      <td>0.0</td>\n      <td>0.0</td>\n      <td>2023-01-18 23:19:47</td>\n      <td>Sushi</td>\n    </tr>\n    <tr>\n      <th>4</th>\n      <td>0xfffae4a0f4ac251f4705717cd24cadccc9f33e06-19374</td>\n      <td>1673938739</td>\n      <td>16424878</td>\n      <td>18133.756430</td>\n      <td>3.908943e+06</td>\n      <td>0.372793</td>\n      <td>781788.658435</td>\n      <td>0.074559</td>\n      <td>4.690732e+06</td>\n      <td>0.447352</td>\n      <td>...</td>\n      <td>SushiSwap Olympus/Wrapped Ether</td>\n      <td>Olympus/Wrapped Ether</td>\n      <td>0xfffae4a0f4ac251f4705717cd24cadccc9f33e06</td>\n      <td>Olympus/Wrapped Ether LP</td>\n      <td>Olympus/Wrapped Ether</td>\n      <td>18.0</td>\n      <td>0.0</td>\n      <td>0.0</td>\n      <td>2023-01-17 06:58:59</td>\n      <td>Sushi</td>\n    </tr>\n    <tr>\n      <th>...</th>\n      <td>...</td>\n      <td>...</td>\n      <td>...</td>\n      <td>...</td>\n      <td>...</td>\n      <td>...</td>\n      <td>...</td>\n      <td>...</td>\n      <td>...</td>\n      <td>...</td>\n      <td>...</td>\n      <td>...</td>\n      <td>...</td>\n      <td>...</td>\n      <td>...</td>\n      <td>...</td>\n      <td>...</td>\n      <td>...</td>\n      <td>...</td>\n      <td>...</td>\n      <td>...</td>\n    </tr>\n    <tr>\n      <th>495</th>\n      <td>0xfffae4a0f4ac251f4705717cd24cadccc9f33e06-18870</td>\n      <td>1630444987</td>\n      <td>13135720</td>\n      <td>17260.930023</td>\n      <td>1.496557e+04</td>\n      <td>20.600304</td>\n      <td>2993.114989</td>\n      <td>4.120061</td>\n      <td>1.795869e+04</td>\n      <td>24.720365</td>\n      <td>...</td>\n      <td>SushiSwap Olympus/Wrapped Ether</td>\n      <td>Olympus/Wrapped Ether</td>\n      <td>0xfffae4a0f4ac251f4705717cd24cadccc9f33e06</td>\n      <td>Olympus/Wrapped Ether LP</td>\n      <td>Olympus/Wrapped Ether</td>\n      <td>18.0</td>\n      <td>0.0</td>\n      <td>0.0</td>\n      <td>2021-08-31 21:23:07</td>\n      <td>Sushi</td>\n    </tr>\n    <tr>\n      <th>496</th>\n      <td>0xfffae4a0f4ac251f4705717cd24cadccc9f33e06-18869</td>\n      <td>1630367769</td>\n      <td>13129970</td>\n      <td>17396.104210</td>\n      <td>1.494497e+04</td>\n      <td>4.637978</td>\n      <td>2988.994928</td>\n      <td>0.927596</td>\n      <td>1.793397e+04</td>\n      <td>5.565573</td>\n      <td>...</td>\n      <td>SushiSwap Olympus/Wrapped Ether</td>\n      <td>Olympus/Wrapped Ether</td>\n      <td>0xfffae4a0f4ac251f4705717cd24cadccc9f33e06</td>\n      <td>Olympus/Wrapped Ether LP</td>\n      <td>Olympus/Wrapped Ether</td>\n      <td>18.0</td>\n      <td>0.0</td>\n      <td>0.0</td>\n      <td>2021-08-30 23:56:09</td>\n      <td>Sushi</td>\n    </tr>\n    <tr>\n      <th>497</th>\n      <td>0xfffae4a0f4ac251f4705717cd24cadccc9f33e06-18868</td>\n      <td>1630277657</td>\n      <td>13123209</td>\n      <td>17923.479129</td>\n      <td>1.494034e+04</td>\n      <td>15.249717</td>\n      <td>2988.067332</td>\n      <td>3.049943</td>\n      <td>1.792840e+04</td>\n      <td>18.299661</td>\n      <td>...</td>\n      <td>SushiSwap Olympus/Wrapped Ether</td>\n      <td>Olympus/Wrapped Ether</td>\n      <td>0xfffae4a0f4ac251f4705717cd24cadccc9f33e06</td>\n      <td>Olympus/Wrapped Ether LP</td>\n      <td>Olympus/Wrapped Ether</td>\n      <td>18.0</td>\n      <td>0.0</td>\n      <td>0.0</td>\n      <td>2021-08-29 22:54:17</td>\n      <td>Sushi</td>\n    </tr>\n    <tr>\n      <th>498</th>\n      <td>0xfffae4a0f4ac251f4705717cd24cadccc9f33e06-18867</td>\n      <td>1630195189</td>\n      <td>13117020</td>\n      <td>18043.290491</td>\n      <td>1.492509e+04</td>\n      <td>16.753855</td>\n      <td>2985.017389</td>\n      <td>3.350771</td>\n      <td>1.791010e+04</td>\n      <td>20.104626</td>\n      <td>...</td>\n      <td>SushiSwap Olympus/Wrapped Ether</td>\n      <td>Olympus/Wrapped Ether</td>\n      <td>0xfffae4a0f4ac251f4705717cd24cadccc9f33e06</td>\n      <td>Olympus/Wrapped Ether LP</td>\n      <td>Olympus/Wrapped Ether</td>\n      <td>18.0</td>\n      <td>0.0</td>\n      <td>0.0</td>\n      <td>2021-08-28 23:59:49</td>\n      <td>Sushi</td>\n    </tr>\n    <tr>\n      <th>499</th>\n      <td>0xfffae4a0f4ac251f4705717cd24cadccc9f33e06-18866</td>\n      <td>1630102567</td>\n      <td>13110068</td>\n      <td>17627.815392</td>\n      <td>1.490833e+04</td>\n      <td>16.143329</td>\n      <td>2981.666618</td>\n      <td>3.228666</td>\n      <td>1.789000e+04</td>\n      <td>19.371994</td>\n      <td>...</td>\n      <td>SushiSwap Olympus/Wrapped Ether</td>\n      <td>Olympus/Wrapped Ether</td>\n      <td>0xfffae4a0f4ac251f4705717cd24cadccc9f33e06</td>\n      <td>Olympus/Wrapped Ether LP</td>\n      <td>Olympus/Wrapped Ether</td>\n      <td>18.0</td>\n      <td>0.0</td>\n      <td>0.0</td>\n      <td>2021-08-27 22:16:07</td>\n      <td>Sushi</td>\n    </tr>\n  </tbody>\n</table>\n<p>500 rows × 25 columns</p>\n</div>"
     },
     "execution_count": 131,
     "metadata": {},
     "output_type": "execute_result"
    }
   ],
   "source": [
    "pool_data = pd.concat([sushi_pool_datadb,balancer_pool_datadb,uniswap_pool_datadb,curve_pool_datadb])\n",
    "pool_data.head(500)"
   ],
   "metadata": {
    "collapsed": false,
    "pycharm": {
     "name": "#%%\n"
    }
   }
  },
  {
   "cell_type": "code",
   "execution_count": 134,
   "outputs": [],
   "source": [
    "global file\n",
    "file = input('Selet a folder to save output') ##enter your file path here - the file is in the repo \"summary_stats.csv\".\n",
    "path =file+'/LPsnapshots '+str(date.today().strftime(\"%b-%d-%Y\"))+str(len(pool_data))+'records.csv'\n",
    "pool_data.to_csv(path, index = False)"
   ],
   "metadata": {
    "collapsed": false,
    "pycharm": {
     "name": "#%%\n"
    }
   }
  },
  {
   "cell_type": "code",
   "execution_count": 132,
   "outputs": [
    {
     "name": "stdout",
     "output_type": "stream",
     "text": [
      "3020\n"
     ]
    }
   ],
   "source": [
    "print(len(pool_data))"
   ],
   "metadata": {
    "collapsed": false,
    "pycharm": {
     "name": "#%%\n"
    }
   }
  },
  {
   "cell_type": "code",
   "execution_count": null,
   "outputs": [],
   "source": [],
   "metadata": {
    "collapsed": false,
    "pycharm": {
     "name": "#%%\n"
    }
   }
  }
 ],
 "metadata": {
  "kernelspec": {
   "display_name": "Python 3",
   "language": "python",
   "name": "python3"
  },
  "language_info": {
   "codemirror_mode": {
    "name": "ipython",
    "version": 2
   },
   "file_extension": ".py",
   "mimetype": "text/x-python",
   "name": "python",
   "nbconvert_exporter": "python",
   "pygments_lexer": "ipython2",
   "version": "2.7.6"
  }
 },
 "nbformat": 4,
 "nbformat_minor": 0
}