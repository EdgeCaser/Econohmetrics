{
 "cells": [
  {
   "cell_type": "code",
   "execution_count": 1,
   "metadata": {
    "collapsed": true
   },
   "outputs": [],
   "source": [
    "from datetime import datetime\n",
    "import datetime as dt\n",
    "import time\n",
    "from subgrounds.subgraph import SyntheticField, FieldPath\n",
    "from subgrounds.subgrounds import Subgrounds\n",
    "import pandas as pd\n",
    "import duckdb as db\n",
    "import seaborn as sns\n",
    "import matplotlib.pyplot as plt\n",
    "import IPython as ip\n",
    "import  os as os"
   ]
  },
  {
   "cell_type": "code",
   "execution_count": 2,
   "outputs": [],
   "source": [
    "sg = Subgrounds()\n",
    "apiKey = input('API Key, please')"
   ],
   "metadata": {
    "collapsed": false
   }
  },
  {
   "cell_type": "code",
   "execution_count": 429,
   "outputs": [],
   "source": [
    "#for when we save the files\n",
    "file = input('Selet a folder to save output') ##enter your file path here - the file is in the repo \"summary_stats.csv\".\n",
    "file = file+'/data'\n",
    "if not os.path.exists(file):\n",
    "    os.makedirs(file)"
   ],
   "metadata": {
    "collapsed": false
   }
  },
  {
   "cell_type": "markdown",
   "source": [
    "*******************************************************************\n",
    "*******************************************************************\n",
    "LET'S LOOK AT SILO BORROWS FIRST"
   ],
   "metadata": {
    "collapsed": false
   }
  },
  {
   "cell_type": "code",
   "execution_count": 901,
   "outputs": [],
   "source": [
    "#SILO subgraph: https://gateway.thegraph.com/api/[api-key]/subgraphs/id/6rcT2GzBXGoi3ZMus92LHajM2b9qWGj7Z3dDhPxoUogB\n",
    "silo = sg.load_api('https://gateway.thegraph.com/api/'+apiKey+'/subgraphs/id/6rcT2GzBXGoi3ZMus92LHajM2b9qWGj7Z3dDhPxoUogB')"
   ],
   "metadata": {
    "collapsed": false
   }
  },
  {
   "cell_type": "markdown",
   "source": [
    "##this captures the list of people who borrowed XAI against gOHM\n",
    "borrows = silo.Query.borrows(\n",
    "    orderBy='timestamp',\n",
    "    orderDirection='desc',\n",
    "    first=1000,\n",
    "    #skip = skipValue,\n",
    "    where={ 'market': '0xc413dd03555f3eb29d834b482d386b2999dc2eb0' }\n",
    "\n",
    ")\n",
    "\n",
    "borrowsDb = sg.query_df([\n",
    "    borrows.id\n",
    "    ,borrows.hash\n",
    "    ,borrows.logIndex\n",
    "    ,borrows.blockNumber\n",
    "    ,borrows.timestamp\n",
    "    ,borrows.account\n",
    "    ,borrows.market\n",
    "    ,borrows.market.rates\n",
    "    ,borrows.asset\n",
    "    ,borrows.amount\n",
    "    ,borrows.amountUSD \n",
    "])\n",
    "borrowsDb.head(100)"
   ],
   "metadata": {
    "collapsed": false
   }
  },
  {
   "cell_type": "markdown",
   "source": [
    "#this, in turn, pulls repayment events\n",
    "repays = silo.Query.repays(\n",
    "    orderBy='timestamp',\n",
    "    orderDirection='desc',\n",
    "    first=1000,\n",
    "    #skip = skipValue,\n",
    "    where={ 'market': '0xc413dd03555f3eb29d834b482d386b2999dc2eb0' }\n",
    "\n",
    ")\n",
    "\n",
    "repaysDb = sg.query_df([\n",
    "    repays.id\n",
    "    ,repays.hash\n",
    "    ,repays.logIndex\n",
    "    ,repays.blockNumber\n",
    "    ,repays.timestamp\n",
    "    ,repays.account\n",
    "    ,repays.market\n",
    "    ,repays.market.rates\n",
    "    ,repays.asset\n",
    "    ,repays.amount\n",
    "    ,repays.amountUSD\n",
    "    ,repays.position\n",
    "])\n",
    "repaysDb.head(100)"
   ],
   "metadata": {
    "collapsed": false
   }
  },
  {
   "cell_type": "code",
   "execution_count": 914,
   "outputs": [
    {
     "data": {
      "text/plain": "Empty DataFrame\nColumns: []\nIndex: []",
      "text/html": "<div>\n<style scoped>\n    .dataframe tbody tr th:only-of-type {\n        vertical-align: middle;\n    }\n\n    .dataframe tbody tr th {\n        vertical-align: top;\n    }\n\n    .dataframe thead th {\n        text-align: right;\n    }\n</style>\n<table border=\"1\" class=\"dataframe\">\n  <thead>\n    <tr style=\"text-align: right;\">\n      <th></th>\n    </tr>\n  </thead>\n  <tbody>\n  </tbody>\n</table>\n</div>"
     },
     "execution_count": 914,
     "metadata": {},
     "output_type": "execute_result"
    }
   ],
   "source": [
    "oldSiloBorrowsDb = pd.DataFrame()\n",
    "siloFileName = file+'/siloFinanceGohmBorrows.csv'\n",
    "try:\n",
    "    oldSiloBorrowsDb = pd.read_csv (siloFileName)\n",
    "except:\n",
    "    oldSiloBorrowsDb = pd.DataFrame()\n",
    "oldSiloBorrowsDb.head(100)"
   ],
   "metadata": {
    "collapsed": false
   }
  },
  {
   "cell_type": "code",
   "execution_count": 915,
   "outputs": [
    {
     "data": {
      "text/plain": "0"
     },
     "execution_count": 915,
     "metadata": {},
     "output_type": "execute_result"
    }
   ],
   "source": [
    "maxSiloBorrowTimestamp = 0\n",
    "try:\n",
    "    maxSiloBorrowTimestamp = (max(0,oldSiloBorrowsDb['transaction_timestamp'].max()))-5\n",
    "except:\n",
    "        maxSiloBorrowTimestamp = 0\n",
    "maxSiloBorrowTimestamp = int(maxSiloBorrowTimestamp)\n",
    "maxSiloBorrowTimestamp"
   ],
   "metadata": {
    "collapsed": false
   }
  },
  {
   "cell_type": "code",
   "execution_count": 916,
   "outputs": [],
   "source": [
    "# 0xc413dd03555f3eb29d834b482d386b2999dc2eb0"
   ],
   "metadata": {
    "collapsed": false
   }
  },
  {
   "cell_type": "code",
   "execution_count": 917,
   "outputs": [
    {
     "name": "stdout",
     "output_type": "stream",
     "text": [
      "iterations:  0 Lines skipped:  0 records collected:  156  - latest recordID:  0x66fe10ed6dcb8b83bdb5b0c46cd321060734b9063bd5ff4b67d962f8a7b60152   0x66fe10ed6dcb8b83bdb5b0c46cd321060734b9063bd5ff4b67d962f8a7b60152-239  - borrows DB length:  156  - latest record from:  2023-02-17 14:39:23 2 days ago\n",
      "Done. Total Records collected:  156\n"
     ]
    }
   ],
   "source": [
    "##this captures the ENTIRE list of people who borrowed stablecoins against gOHM\n",
    "borrowTicker = 0\n",
    "borrowslist = pd.DataFrame()\n",
    "siloBorrowsDb = pd.DataFrame()\n",
    "borrowListLength = 1000\n",
    "datediff = 0\n",
    "now=0\n",
    "daysAgo=0\n",
    "daysLimit = 45\n",
    "exit = False\n",
    "while exit==False:\n",
    "    skipValue = (borrowTicker)*(1000)\n",
    "    borrows = silo.Query.borrows(\n",
    "        orderBy='timestamp',\n",
    "        orderDirection='desc',\n",
    "        first=1000,\n",
    "        skip = skipValue,\n",
    "        where={ 'market': '0xc413dd03555f3eb29d834b482d386b2999dc2eb0'\n",
    "                ,'timestamp_gte': maxSiloBorrowTimestamp\n",
    "                } #gOHM market\n",
    "    )\n",
    "\n",
    "    borrowslist = sg.query_df([\n",
    "        borrows.id\n",
    "        ,borrows.hash\n",
    "        ,borrows.blockNumber\n",
    "        ,borrows.timestamp\n",
    "        ,borrows.account.id\n",
    "        ,borrows.market.id\n",
    "        ,borrows.market.protocol.id\n",
    "        ,borrows.market.rates.rate\n",
    "        ,borrows.market.rates.duration\n",
    "        ,borrows.market.rates.side\n",
    "        ,borrows.market.rates.type\n",
    "        ,borrows.market.rates.token.id\n",
    "        ,borrows.asset.name\n",
    "        ,borrows.asset.symbol\n",
    "        ,borrows.asset.decimals\n",
    "        ,borrows.asset.lastPriceUSD\n",
    "        ,borrows.amount\n",
    "        ,borrows.amountUSD\n",
    "    ])\n",
    "\n",
    "    siloBorrowsDb=pd.concat([siloBorrowsDb, borrowslist])\n",
    "    recordTimestamp1 = siloBorrowsDb.iat[borrowTicker,3]\n",
    "    recordTimestamp = dt.datetime.fromtimestamp( recordTimestamp1 )\n",
    "    now = (int(dt.datetime.utcnow().timestamp()))\n",
    "    datediff=abs(int(now) - recordTimestamp1)\n",
    "    daysAgo = int(datediff/86400)\n",
    "    siloBorrowsDbLength = len(siloBorrowsDb)\n",
    "    borrowListLength = len(borrowslist)\n",
    "    recordID = siloBorrowsDb.iat[borrowTicker,0]\n",
    "    borrow = siloBorrowsDb.iat[borrowTicker,1]\n",
    "    print(\"iterations: \", borrowTicker, \"Lines skipped: \",skipValue, \"records collected: \", borrowListLength, \" - latest recordID: \",borrow, \" \", recordID , \" - borrows DB length: \", siloBorrowsDbLength, \" - latest record from: \", recordTimestamp, daysAgo,\"days ago\")\n",
    "    #print(\"iterations: \", borrowTicker, \"records collected: \", borrowListLength, \" - userdb length: \", borrowsDbLength)\n",
    "    borrowTicker = borrowTicker+1\n",
    "\n",
    "    if daysAgo>daysLimit: exit =True\n",
    "    if borrowListLength<1000: exit =True\n",
    "\n",
    "siloBorrowsDb.columns = siloBorrowsDb.columns.str.replace(\"borrows\", \"transaction\")\n",
    "siloBorrowsDb['event']='borrow'\n",
    "siloBorrowsDb.drop_duplicates\n",
    "print(\"Done. Total Records collected: \", siloBorrowsDbLength)"
   ],
   "metadata": {
    "collapsed": false
   }
  },
  {
   "cell_type": "code",
   "execution_count": 918,
   "outputs": [
    {
     "data": {
      "text/plain": "      event                                   transaction_hash  \\\n0    borrow  0x66fe10ed6dcb8b83bdb5b0c46cd321060734b9063bd5...   \n6    borrow  0xd9329978828295f4f091eaa77a6d8c388c5616bbe92c...   \n12   borrow  0x3b0f26e10c63a71c916e8a68bd1889d9bab38aeb62d7...   \n18   borrow  0xfa292276fc71f90e29ca90a7b8a2be9a4094f459fb99...   \n24   borrow  0xd5dc7147192591c7d19856d12e9278928932a5921653...   \n30   borrow  0x39c11cb01e34d9f8ca55a8820482eaf8a217033cdb6f...   \n36   borrow  0xf1d5b9c7f23bd9935061e4d08734cbfba9b9a53bacd5...   \n42   borrow  0x97811f7e7b7d202797093d44047ed986054be3dd6120...   \n48   borrow  0x3dba2dd3c913b399164efd71db73121c9c94c0096139...   \n54   borrow  0xbcfc05398a874e98a80e823ffb016c119b06c7b07a7c...   \n60   borrow  0x16f2ff52f7a9e9057848569ea37c3e59eb558af0e044...   \n66   borrow  0x2c0d9ab92c0eef11fa3394b4a89a62c7ee27bd5b64a1...   \n72   borrow  0x9acb7bcb3e826a231f0cb2e55f4d2ea70d7ff8cbe18a...   \n78   borrow  0x045f19530c6f8c0b6eca525f3921e207938e841b3670...   \n84   borrow  0x072c04ee8776ea91e8c1003bad2d401e3ac90d0ab2fc...   \n90   borrow  0x38ce8e39e188c85ba03a340cdde95c2e1d56b54161e6...   \n96   borrow  0x4fa0cb2fdde04b90f07602351b260aa5202562c7b701...   \n102  borrow  0xb38cef69963653bc8f3e04720bd0d3f3df6e6e9ede13...   \n108  borrow  0x30c76353a03ffe6931799da8b7439b1fcb02c3952f54...   \n114  borrow  0xe034b0dedaea9ad1f849d5420228106937d816b89b3a...   \n120  borrow  0xc629960194d24bb2e3aaf7a91b2cf4f547703cd7ed68...   \n126  borrow  0xbfc6df3a770233f4e0fbd6fe0cf8f6fa02f1432c570f...   \n132  borrow  0x2485acd5a3853dc50921a27ea5bf8227871425cca3e4...   \n138  borrow  0x17fedebf20b120a55b895f96e2b466f2bbdcceb2b542...   \n144  borrow  0x1aac54ba339ee99c2b3c69cbde905f3ddc7832ffd946...   \n150  borrow  0x83addaa30259315b10869fa8653a468eb1cc82a43f57...   \n\n     transaction_blockNumber  transaction_timestamp  \\\n0                   16651434             1676673563   \n6                   16644592             1676590307   \n12                  16641746             1676556011   \n18                  16634870             1676472911   \n24                  16627480             1676383655   \n30                  16626801             1676375459   \n36                  16626396             1676370563   \n42                  16623063             1676330255   \n48                  16622907             1676328371   \n54                  16619977             1676292983   \n60                  16589389             1675923839   \n66                  16588637             1675914791   \n72                  16585909             1675881839   \n78                  16580114             1675811711   \n84                  16579820             1675808183   \n90                  16579819             1675808171   \n96                  16574830             1675747799   \n102                 16573202             1675728155   \n108                 16533360             1675247171   \n114                 16505284             1674908519   \n120                 16204982             1671286919   \n126                 16173505             1670906999   \n132                 16171818             1670886647   \n138                 16171351             1670881019   \n144                 16036018             1669246811   \n150                 16034628             1669229867   \n\n                         transaction_account_id  \\\n0    0xd33e76d21d32c21811593ae54e38f68df0cfe8ed   \n6    0x96035b45bc0d22f0ed11283a91145fb001c48370   \n12   0xee95e4cf086fc80df7ae0f39dfc9ea53a3eaadcb   \n18   0x16ff8ad104fa6195260a6d4a3f311c5f120df77d   \n24   0xc0b1f200aa9546ce074397bed7438bb2ec033877   \n30   0x16ff8ad104fa6195260a6d4a3f311c5f120df77d   \n36   0x339fd7c17ce670e7821f2f2ee94ddd49771483da   \n42   0xc0b1f200aa9546ce074397bed7438bb2ec033877   \n48   0x46535cbc3fa574c32ea392d4f89c518290597072   \n54   0xc0b1f200aa9546ce074397bed7438bb2ec033877   \n60   0xb0399dac8f4d4100b49b2a7b3873481114229d18   \n66   0x804157889ac56a4e50278610c67960c1605a3264   \n72   0xfe9d1bd54e344dc8c4bd93e7935e39af452e5d41   \n78   0xb86cd2efc1f461beee8deec2c3f053ccb2781ef9   \n84   0x0493bcca897a2248ae3cd4c66aea90dbfc7e13c6   \n90   0x96035b45bc0d22f0ed11283a91145fb001c48370   \n96   0x6487d336bdec94d4714a4d217b15aa5c7b9dfa99   \n102  0x36125234dd6c7d0a01dcadc67e79e061d405098e   \n108  0x339fd7c17ce670e7821f2f2ee94ddd49771483da   \n114  0x42daeb9ca091e3933c8ee93c029701b926b1f336   \n120  0x44504ba8d43b30e882503948654e247b928bcc7f   \n126  0x339fd7c17ce670e7821f2f2ee94ddd49771483da   \n132  0x1ba67f30e25fc43863b50047d7fd4bd63b9c59ec   \n138  0x3985caf03eef8f885edb1f8358143bdf08d8d48b   \n144  0xd3064611b24eba7a6dbcbc26c1b35dfee1170880   \n150  0x7776421dd146dfd6ea947cbf29b69c519807d259   \n\n                          transaction_market_id transaction_asset_name  \\\n0    0xc413dd03555f3eb29d834b482d386b2999dc2eb0         XAI Stablecoin   \n6    0xc413dd03555f3eb29d834b482d386b2999dc2eb0          Wrapped Ether   \n12   0xc413dd03555f3eb29d834b482d386b2999dc2eb0         XAI Stablecoin   \n18   0xc413dd03555f3eb29d834b482d386b2999dc2eb0         XAI Stablecoin   \n24   0xc413dd03555f3eb29d834b482d386b2999dc2eb0         XAI Stablecoin   \n30   0xc413dd03555f3eb29d834b482d386b2999dc2eb0          Wrapped Ether   \n36   0xc413dd03555f3eb29d834b482d386b2999dc2eb0         XAI Stablecoin   \n42   0xc413dd03555f3eb29d834b482d386b2999dc2eb0         XAI Stablecoin   \n48   0xc413dd03555f3eb29d834b482d386b2999dc2eb0         Governance OHM   \n54   0xc413dd03555f3eb29d834b482d386b2999dc2eb0         XAI Stablecoin   \n60   0xc413dd03555f3eb29d834b482d386b2999dc2eb0         XAI Stablecoin   \n66   0xc413dd03555f3eb29d834b482d386b2999dc2eb0         XAI Stablecoin   \n72   0xc413dd03555f3eb29d834b482d386b2999dc2eb0         XAI Stablecoin   \n78   0xc413dd03555f3eb29d834b482d386b2999dc2eb0         XAI Stablecoin   \n84   0xc413dd03555f3eb29d834b482d386b2999dc2eb0         XAI Stablecoin   \n90   0xc413dd03555f3eb29d834b482d386b2999dc2eb0         XAI Stablecoin   \n96   0xc413dd03555f3eb29d834b482d386b2999dc2eb0         XAI Stablecoin   \n102  0xc413dd03555f3eb29d834b482d386b2999dc2eb0         XAI Stablecoin   \n108  0xc413dd03555f3eb29d834b482d386b2999dc2eb0         XAI Stablecoin   \n114  0xc413dd03555f3eb29d834b482d386b2999dc2eb0         XAI Stablecoin   \n120  0xc413dd03555f3eb29d834b482d386b2999dc2eb0         XAI Stablecoin   \n126  0xc413dd03555f3eb29d834b482d386b2999dc2eb0         XAI Stablecoin   \n132  0xc413dd03555f3eb29d834b482d386b2999dc2eb0         XAI Stablecoin   \n138  0xc413dd03555f3eb29d834b482d386b2999dc2eb0         XAI Stablecoin   \n144  0xc413dd03555f3eb29d834b482d386b2999dc2eb0         XAI Stablecoin   \n150  0xc413dd03555f3eb29d834b482d386b2999dc2eb0         Governance OHM   \n\n    transaction_asset_symbol  transactionReadableAmount  \\\n0                        XAI               60500.000000   \n6                       WETH                   0.600000   \n12                       XAI              100000.000000   \n18                       XAI                3000.000000   \n24                       XAI                1000.000000   \n30                      WETH                   1.920000   \n36                       XAI                4000.000000   \n42                       XAI                2457.516074   \n48                      gOHM                  26.400000   \n54                       XAI                3090.000000   \n60                       XAI              186000.000000   \n66                       XAI                1000.000000   \n72                       XAI                 398.385626   \n78                       XAI                7000.000000   \n84                       XAI               30000.000000   \n90                       XAI               20000.000000   \n96                       XAI                6030.000000   \n102                      XAI               25000.000000   \n108                      XAI                5000.000000   \n114                      XAI               10000.000000   \n120                      XAI                 500.000000   \n126                      XAI                8000.000000   \n132                      XAI               11900.000000   \n138                      XAI                4000.000000   \n144                      XAI                 262.000000   \n150                     gOHM                   0.182000   \n\n     transaction_asset_lastPriceUSD  transaction_amountUSD  \\\n0                          0.992017           59947.550425   \n6                       1674.121561             995.052978   \n12                         0.992017          100012.487283   \n18                         0.992017            3023.153053   \n24                         0.992017             992.079025   \n30                      1674.121561            2885.217480   \n36                         0.992017            3963.627622   \n42                         0.992017            2446.717700   \n48                      2809.191078           71910.521424   \n54                         0.992017            3085.406589   \n60                         0.992017          185996.147731   \n66                         0.992017            1005.010529   \n72                         0.992017             397.352793   \n78                         0.992017            6976.053341   \n84                         0.992017           29884.417447   \n90                         0.992017           19922.944964   \n96                         0.992017            6015.596587   \n102                        0.992017           24937.155253   \n108                        0.992017            5001.341848   \n114                        0.992017           10040.961438   \n120                        0.992017             498.489611   \n126                        0.992017            8040.631376   \n132                        0.992017           11928.568949   \n138                        0.992017            4012.000608   \n144                        0.992017             262.176433   \n150                     2809.191078             399.040935   \n\n               dateTime    calDate  \n0   2023-02-17 22:39:23 2023-02-17  \n6   2023-02-16 23:31:47 2023-02-16  \n12  2023-02-16 14:00:11 2023-02-16  \n18  2023-02-15 14:55:11 2023-02-15  \n24  2023-02-14 14:07:35 2023-02-14  \n30  2023-02-14 11:50:59 2023-02-14  \n36  2023-02-14 10:29:23 2023-02-14  \n42  2023-02-13 23:17:35 2023-02-13  \n48  2023-02-13 22:46:11 2023-02-13  \n54  2023-02-13 12:56:23 2023-02-13  \n60  2023-02-09 06:23:59 2023-02-09  \n66  2023-02-09 03:53:11 2023-02-09  \n72  2023-02-08 18:43:59 2023-02-08  \n78  2023-02-07 23:15:11 2023-02-07  \n84  2023-02-07 22:16:23 2023-02-07  \n90  2023-02-07 22:16:11 2023-02-07  \n96  2023-02-07 05:29:59 2023-02-07  \n102 2023-02-07 00:02:35 2023-02-07  \n108 2023-02-01 10:26:11 2023-02-01  \n114 2023-01-28 12:21:59 2023-01-28  \n120 2022-12-17 14:21:59 2022-12-17  \n126 2022-12-13 04:49:59 2022-12-13  \n132 2022-12-12 23:10:47 2022-12-12  \n138 2022-12-12 21:36:59 2022-12-12  \n144 2022-11-23 23:40:11 2022-11-23  \n150 2022-11-23 18:57:47 2022-11-23  ",
      "text/html": "<div>\n<style scoped>\n    .dataframe tbody tr th:only-of-type {\n        vertical-align: middle;\n    }\n\n    .dataframe tbody tr th {\n        vertical-align: top;\n    }\n\n    .dataframe thead th {\n        text-align: right;\n    }\n</style>\n<table border=\"1\" class=\"dataframe\">\n  <thead>\n    <tr style=\"text-align: right;\">\n      <th></th>\n      <th>event</th>\n      <th>transaction_hash</th>\n      <th>transaction_blockNumber</th>\n      <th>transaction_timestamp</th>\n      <th>transaction_account_id</th>\n      <th>transaction_market_id</th>\n      <th>transaction_asset_name</th>\n      <th>transaction_asset_symbol</th>\n      <th>transactionReadableAmount</th>\n      <th>transaction_asset_lastPriceUSD</th>\n      <th>transaction_amountUSD</th>\n      <th>dateTime</th>\n      <th>calDate</th>\n    </tr>\n  </thead>\n  <tbody>\n    <tr>\n      <th>0</th>\n      <td>borrow</td>\n      <td>0x66fe10ed6dcb8b83bdb5b0c46cd321060734b9063bd5...</td>\n      <td>16651434</td>\n      <td>1676673563</td>\n      <td>0xd33e76d21d32c21811593ae54e38f68df0cfe8ed</td>\n      <td>0xc413dd03555f3eb29d834b482d386b2999dc2eb0</td>\n      <td>XAI Stablecoin</td>\n      <td>XAI</td>\n      <td>60500.000000</td>\n      <td>0.992017</td>\n      <td>59947.550425</td>\n      <td>2023-02-17 22:39:23</td>\n      <td>2023-02-17</td>\n    </tr>\n    <tr>\n      <th>6</th>\n      <td>borrow</td>\n      <td>0xd9329978828295f4f091eaa77a6d8c388c5616bbe92c...</td>\n      <td>16644592</td>\n      <td>1676590307</td>\n      <td>0x96035b45bc0d22f0ed11283a91145fb001c48370</td>\n      <td>0xc413dd03555f3eb29d834b482d386b2999dc2eb0</td>\n      <td>Wrapped Ether</td>\n      <td>WETH</td>\n      <td>0.600000</td>\n      <td>1674.121561</td>\n      <td>995.052978</td>\n      <td>2023-02-16 23:31:47</td>\n      <td>2023-02-16</td>\n    </tr>\n    <tr>\n      <th>12</th>\n      <td>borrow</td>\n      <td>0x3b0f26e10c63a71c916e8a68bd1889d9bab38aeb62d7...</td>\n      <td>16641746</td>\n      <td>1676556011</td>\n      <td>0xee95e4cf086fc80df7ae0f39dfc9ea53a3eaadcb</td>\n      <td>0xc413dd03555f3eb29d834b482d386b2999dc2eb0</td>\n      <td>XAI Stablecoin</td>\n      <td>XAI</td>\n      <td>100000.000000</td>\n      <td>0.992017</td>\n      <td>100012.487283</td>\n      <td>2023-02-16 14:00:11</td>\n      <td>2023-02-16</td>\n    </tr>\n    <tr>\n      <th>18</th>\n      <td>borrow</td>\n      <td>0xfa292276fc71f90e29ca90a7b8a2be9a4094f459fb99...</td>\n      <td>16634870</td>\n      <td>1676472911</td>\n      <td>0x16ff8ad104fa6195260a6d4a3f311c5f120df77d</td>\n      <td>0xc413dd03555f3eb29d834b482d386b2999dc2eb0</td>\n      <td>XAI Stablecoin</td>\n      <td>XAI</td>\n      <td>3000.000000</td>\n      <td>0.992017</td>\n      <td>3023.153053</td>\n      <td>2023-02-15 14:55:11</td>\n      <td>2023-02-15</td>\n    </tr>\n    <tr>\n      <th>24</th>\n      <td>borrow</td>\n      <td>0xd5dc7147192591c7d19856d12e9278928932a5921653...</td>\n      <td>16627480</td>\n      <td>1676383655</td>\n      <td>0xc0b1f200aa9546ce074397bed7438bb2ec033877</td>\n      <td>0xc413dd03555f3eb29d834b482d386b2999dc2eb0</td>\n      <td>XAI Stablecoin</td>\n      <td>XAI</td>\n      <td>1000.000000</td>\n      <td>0.992017</td>\n      <td>992.079025</td>\n      <td>2023-02-14 14:07:35</td>\n      <td>2023-02-14</td>\n    </tr>\n    <tr>\n      <th>30</th>\n      <td>borrow</td>\n      <td>0x39c11cb01e34d9f8ca55a8820482eaf8a217033cdb6f...</td>\n      <td>16626801</td>\n      <td>1676375459</td>\n      <td>0x16ff8ad104fa6195260a6d4a3f311c5f120df77d</td>\n      <td>0xc413dd03555f3eb29d834b482d386b2999dc2eb0</td>\n      <td>Wrapped Ether</td>\n      <td>WETH</td>\n      <td>1.920000</td>\n      <td>1674.121561</td>\n      <td>2885.217480</td>\n      <td>2023-02-14 11:50:59</td>\n      <td>2023-02-14</td>\n    </tr>\n    <tr>\n      <th>36</th>\n      <td>borrow</td>\n      <td>0xf1d5b9c7f23bd9935061e4d08734cbfba9b9a53bacd5...</td>\n      <td>16626396</td>\n      <td>1676370563</td>\n      <td>0x339fd7c17ce670e7821f2f2ee94ddd49771483da</td>\n      <td>0xc413dd03555f3eb29d834b482d386b2999dc2eb0</td>\n      <td>XAI Stablecoin</td>\n      <td>XAI</td>\n      <td>4000.000000</td>\n      <td>0.992017</td>\n      <td>3963.627622</td>\n      <td>2023-02-14 10:29:23</td>\n      <td>2023-02-14</td>\n    </tr>\n    <tr>\n      <th>42</th>\n      <td>borrow</td>\n      <td>0x97811f7e7b7d202797093d44047ed986054be3dd6120...</td>\n      <td>16623063</td>\n      <td>1676330255</td>\n      <td>0xc0b1f200aa9546ce074397bed7438bb2ec033877</td>\n      <td>0xc413dd03555f3eb29d834b482d386b2999dc2eb0</td>\n      <td>XAI Stablecoin</td>\n      <td>XAI</td>\n      <td>2457.516074</td>\n      <td>0.992017</td>\n      <td>2446.717700</td>\n      <td>2023-02-13 23:17:35</td>\n      <td>2023-02-13</td>\n    </tr>\n    <tr>\n      <th>48</th>\n      <td>borrow</td>\n      <td>0x3dba2dd3c913b399164efd71db73121c9c94c0096139...</td>\n      <td>16622907</td>\n      <td>1676328371</td>\n      <td>0x46535cbc3fa574c32ea392d4f89c518290597072</td>\n      <td>0xc413dd03555f3eb29d834b482d386b2999dc2eb0</td>\n      <td>Governance OHM</td>\n      <td>gOHM</td>\n      <td>26.400000</td>\n      <td>2809.191078</td>\n      <td>71910.521424</td>\n      <td>2023-02-13 22:46:11</td>\n      <td>2023-02-13</td>\n    </tr>\n    <tr>\n      <th>54</th>\n      <td>borrow</td>\n      <td>0xbcfc05398a874e98a80e823ffb016c119b06c7b07a7c...</td>\n      <td>16619977</td>\n      <td>1676292983</td>\n      <td>0xc0b1f200aa9546ce074397bed7438bb2ec033877</td>\n      <td>0xc413dd03555f3eb29d834b482d386b2999dc2eb0</td>\n      <td>XAI Stablecoin</td>\n      <td>XAI</td>\n      <td>3090.000000</td>\n      <td>0.992017</td>\n      <td>3085.406589</td>\n      <td>2023-02-13 12:56:23</td>\n      <td>2023-02-13</td>\n    </tr>\n    <tr>\n      <th>60</th>\n      <td>borrow</td>\n      <td>0x16f2ff52f7a9e9057848569ea37c3e59eb558af0e044...</td>\n      <td>16589389</td>\n      <td>1675923839</td>\n      <td>0xb0399dac8f4d4100b49b2a7b3873481114229d18</td>\n      <td>0xc413dd03555f3eb29d834b482d386b2999dc2eb0</td>\n      <td>XAI Stablecoin</td>\n      <td>XAI</td>\n      <td>186000.000000</td>\n      <td>0.992017</td>\n      <td>185996.147731</td>\n      <td>2023-02-09 06:23:59</td>\n      <td>2023-02-09</td>\n    </tr>\n    <tr>\n      <th>66</th>\n      <td>borrow</td>\n      <td>0x2c0d9ab92c0eef11fa3394b4a89a62c7ee27bd5b64a1...</td>\n      <td>16588637</td>\n      <td>1675914791</td>\n      <td>0x804157889ac56a4e50278610c67960c1605a3264</td>\n      <td>0xc413dd03555f3eb29d834b482d386b2999dc2eb0</td>\n      <td>XAI Stablecoin</td>\n      <td>XAI</td>\n      <td>1000.000000</td>\n      <td>0.992017</td>\n      <td>1005.010529</td>\n      <td>2023-02-09 03:53:11</td>\n      <td>2023-02-09</td>\n    </tr>\n    <tr>\n      <th>72</th>\n      <td>borrow</td>\n      <td>0x9acb7bcb3e826a231f0cb2e55f4d2ea70d7ff8cbe18a...</td>\n      <td>16585909</td>\n      <td>1675881839</td>\n      <td>0xfe9d1bd54e344dc8c4bd93e7935e39af452e5d41</td>\n      <td>0xc413dd03555f3eb29d834b482d386b2999dc2eb0</td>\n      <td>XAI Stablecoin</td>\n      <td>XAI</td>\n      <td>398.385626</td>\n      <td>0.992017</td>\n      <td>397.352793</td>\n      <td>2023-02-08 18:43:59</td>\n      <td>2023-02-08</td>\n    </tr>\n    <tr>\n      <th>78</th>\n      <td>borrow</td>\n      <td>0x045f19530c6f8c0b6eca525f3921e207938e841b3670...</td>\n      <td>16580114</td>\n      <td>1675811711</td>\n      <td>0xb86cd2efc1f461beee8deec2c3f053ccb2781ef9</td>\n      <td>0xc413dd03555f3eb29d834b482d386b2999dc2eb0</td>\n      <td>XAI Stablecoin</td>\n      <td>XAI</td>\n      <td>7000.000000</td>\n      <td>0.992017</td>\n      <td>6976.053341</td>\n      <td>2023-02-07 23:15:11</td>\n      <td>2023-02-07</td>\n    </tr>\n    <tr>\n      <th>84</th>\n      <td>borrow</td>\n      <td>0x072c04ee8776ea91e8c1003bad2d401e3ac90d0ab2fc...</td>\n      <td>16579820</td>\n      <td>1675808183</td>\n      <td>0x0493bcca897a2248ae3cd4c66aea90dbfc7e13c6</td>\n      <td>0xc413dd03555f3eb29d834b482d386b2999dc2eb0</td>\n      <td>XAI Stablecoin</td>\n      <td>XAI</td>\n      <td>30000.000000</td>\n      <td>0.992017</td>\n      <td>29884.417447</td>\n      <td>2023-02-07 22:16:23</td>\n      <td>2023-02-07</td>\n    </tr>\n    <tr>\n      <th>90</th>\n      <td>borrow</td>\n      <td>0x38ce8e39e188c85ba03a340cdde95c2e1d56b54161e6...</td>\n      <td>16579819</td>\n      <td>1675808171</td>\n      <td>0x96035b45bc0d22f0ed11283a91145fb001c48370</td>\n      <td>0xc413dd03555f3eb29d834b482d386b2999dc2eb0</td>\n      <td>XAI Stablecoin</td>\n      <td>XAI</td>\n      <td>20000.000000</td>\n      <td>0.992017</td>\n      <td>19922.944964</td>\n      <td>2023-02-07 22:16:11</td>\n      <td>2023-02-07</td>\n    </tr>\n    <tr>\n      <th>96</th>\n      <td>borrow</td>\n      <td>0x4fa0cb2fdde04b90f07602351b260aa5202562c7b701...</td>\n      <td>16574830</td>\n      <td>1675747799</td>\n      <td>0x6487d336bdec94d4714a4d217b15aa5c7b9dfa99</td>\n      <td>0xc413dd03555f3eb29d834b482d386b2999dc2eb0</td>\n      <td>XAI Stablecoin</td>\n      <td>XAI</td>\n      <td>6030.000000</td>\n      <td>0.992017</td>\n      <td>6015.596587</td>\n      <td>2023-02-07 05:29:59</td>\n      <td>2023-02-07</td>\n    </tr>\n    <tr>\n      <th>102</th>\n      <td>borrow</td>\n      <td>0xb38cef69963653bc8f3e04720bd0d3f3df6e6e9ede13...</td>\n      <td>16573202</td>\n      <td>1675728155</td>\n      <td>0x36125234dd6c7d0a01dcadc67e79e061d405098e</td>\n      <td>0xc413dd03555f3eb29d834b482d386b2999dc2eb0</td>\n      <td>XAI Stablecoin</td>\n      <td>XAI</td>\n      <td>25000.000000</td>\n      <td>0.992017</td>\n      <td>24937.155253</td>\n      <td>2023-02-07 00:02:35</td>\n      <td>2023-02-07</td>\n    </tr>\n    <tr>\n      <th>108</th>\n      <td>borrow</td>\n      <td>0x30c76353a03ffe6931799da8b7439b1fcb02c3952f54...</td>\n      <td>16533360</td>\n      <td>1675247171</td>\n      <td>0x339fd7c17ce670e7821f2f2ee94ddd49771483da</td>\n      <td>0xc413dd03555f3eb29d834b482d386b2999dc2eb0</td>\n      <td>XAI Stablecoin</td>\n      <td>XAI</td>\n      <td>5000.000000</td>\n      <td>0.992017</td>\n      <td>5001.341848</td>\n      <td>2023-02-01 10:26:11</td>\n      <td>2023-02-01</td>\n    </tr>\n    <tr>\n      <th>114</th>\n      <td>borrow</td>\n      <td>0xe034b0dedaea9ad1f849d5420228106937d816b89b3a...</td>\n      <td>16505284</td>\n      <td>1674908519</td>\n      <td>0x42daeb9ca091e3933c8ee93c029701b926b1f336</td>\n      <td>0xc413dd03555f3eb29d834b482d386b2999dc2eb0</td>\n      <td>XAI Stablecoin</td>\n      <td>XAI</td>\n      <td>10000.000000</td>\n      <td>0.992017</td>\n      <td>10040.961438</td>\n      <td>2023-01-28 12:21:59</td>\n      <td>2023-01-28</td>\n    </tr>\n    <tr>\n      <th>120</th>\n      <td>borrow</td>\n      <td>0xc629960194d24bb2e3aaf7a91b2cf4f547703cd7ed68...</td>\n      <td>16204982</td>\n      <td>1671286919</td>\n      <td>0x44504ba8d43b30e882503948654e247b928bcc7f</td>\n      <td>0xc413dd03555f3eb29d834b482d386b2999dc2eb0</td>\n      <td>XAI Stablecoin</td>\n      <td>XAI</td>\n      <td>500.000000</td>\n      <td>0.992017</td>\n      <td>498.489611</td>\n      <td>2022-12-17 14:21:59</td>\n      <td>2022-12-17</td>\n    </tr>\n    <tr>\n      <th>126</th>\n      <td>borrow</td>\n      <td>0xbfc6df3a770233f4e0fbd6fe0cf8f6fa02f1432c570f...</td>\n      <td>16173505</td>\n      <td>1670906999</td>\n      <td>0x339fd7c17ce670e7821f2f2ee94ddd49771483da</td>\n      <td>0xc413dd03555f3eb29d834b482d386b2999dc2eb0</td>\n      <td>XAI Stablecoin</td>\n      <td>XAI</td>\n      <td>8000.000000</td>\n      <td>0.992017</td>\n      <td>8040.631376</td>\n      <td>2022-12-13 04:49:59</td>\n      <td>2022-12-13</td>\n    </tr>\n    <tr>\n      <th>132</th>\n      <td>borrow</td>\n      <td>0x2485acd5a3853dc50921a27ea5bf8227871425cca3e4...</td>\n      <td>16171818</td>\n      <td>1670886647</td>\n      <td>0x1ba67f30e25fc43863b50047d7fd4bd63b9c59ec</td>\n      <td>0xc413dd03555f3eb29d834b482d386b2999dc2eb0</td>\n      <td>XAI Stablecoin</td>\n      <td>XAI</td>\n      <td>11900.000000</td>\n      <td>0.992017</td>\n      <td>11928.568949</td>\n      <td>2022-12-12 23:10:47</td>\n      <td>2022-12-12</td>\n    </tr>\n    <tr>\n      <th>138</th>\n      <td>borrow</td>\n      <td>0x17fedebf20b120a55b895f96e2b466f2bbdcceb2b542...</td>\n      <td>16171351</td>\n      <td>1670881019</td>\n      <td>0x3985caf03eef8f885edb1f8358143bdf08d8d48b</td>\n      <td>0xc413dd03555f3eb29d834b482d386b2999dc2eb0</td>\n      <td>XAI Stablecoin</td>\n      <td>XAI</td>\n      <td>4000.000000</td>\n      <td>0.992017</td>\n      <td>4012.000608</td>\n      <td>2022-12-12 21:36:59</td>\n      <td>2022-12-12</td>\n    </tr>\n    <tr>\n      <th>144</th>\n      <td>borrow</td>\n      <td>0x1aac54ba339ee99c2b3c69cbde905f3ddc7832ffd946...</td>\n      <td>16036018</td>\n      <td>1669246811</td>\n      <td>0xd3064611b24eba7a6dbcbc26c1b35dfee1170880</td>\n      <td>0xc413dd03555f3eb29d834b482d386b2999dc2eb0</td>\n      <td>XAI Stablecoin</td>\n      <td>XAI</td>\n      <td>262.000000</td>\n      <td>0.992017</td>\n      <td>262.176433</td>\n      <td>2022-11-23 23:40:11</td>\n      <td>2022-11-23</td>\n    </tr>\n    <tr>\n      <th>150</th>\n      <td>borrow</td>\n      <td>0x83addaa30259315b10869fa8653a468eb1cc82a43f57...</td>\n      <td>16034628</td>\n      <td>1669229867</td>\n      <td>0x7776421dd146dfd6ea947cbf29b69c519807d259</td>\n      <td>0xc413dd03555f3eb29d834b482d386b2999dc2eb0</td>\n      <td>Governance OHM</td>\n      <td>gOHM</td>\n      <td>0.182000</td>\n      <td>2809.191078</td>\n      <td>399.040935</td>\n      <td>2022-11-23 18:57:47</td>\n      <td>2022-11-23</td>\n    </tr>\n  </tbody>\n</table>\n</div>"
     },
     "execution_count": 918,
     "metadata": {},
     "output_type": "execute_result"
    }
   ],
   "source": [
    "siloBorrowsDb['transactionReadableAmount'] = siloBorrowsDb['transaction_amount']/(10**(siloBorrowsDb['transaction_asset_decimals']))\n",
    "siloBorrowsDb['transactionReadableAmount']=siloBorrowsDb['transactionReadableAmount'].astype('float')\n",
    "siloBorrowsDb['dateTime'] =(pd.to_datetime(siloBorrowsDb['transaction_timestamp'],unit='s'))\n",
    "\n",
    "siloBorrowEventsDbTimedClean = siloBorrowsDb[['event','transaction_hash','transaction_blockNumber','transaction_timestamp','transaction_account_id','transaction_market_id','transaction_asset_name','transaction_asset_symbol', 'transactionReadableAmount','transaction_asset_lastPriceUSD','transaction_amountUSD','dateTime']].copy()\n",
    "siloBorrowEventsDbTimedClean.sort_values(by=['event','transaction_hash','transaction_blockNumber','transaction_timestamp','transaction_account_id','transaction_market_id','transaction_asset_name','transaction_asset_symbol', 'transactionReadableAmount','transaction_asset_lastPriceUSD','transaction_amountUSD','dateTime'])\n",
    "\n",
    "siloBorrowEventsDbTimedClean.drop_duplicates(subset=['transaction_hash'],keep='first', inplace=True)\n",
    "siloBorrowEventsDbTimedClean['calDate'] = siloBorrowEventsDbTimedClean['dateTime'].dt.normalize()\n",
    "siloBorrowEventsDbTimedClean.head(100)"
   ],
   "metadata": {
    "collapsed": false
   }
  },
  {
   "cell_type": "code",
   "execution_count": 921,
   "outputs": [
    {
     "name": "stdout",
     "output_type": "stream",
     "text": [
      "D:\\Dropbox\\Documents\\Edgecaser LLC\\Projects\\Olympus\\Econohmetrics\\gohmAsStablecoinCollateral/data/siloFinanceGohmBorrows_piped.csv file saved, 26  records\n"
     ]
    }
   ],
   "source": [
    "path =file+'/siloFinanceGohmBorrows.csv'\n",
    "siloBorrowEventsDbTimedClean.to_csv(path, index = False)\n",
    "\n",
    "path =file+'/siloFinanceGohmBorrows_piped.csv'\n",
    "siloBorrowEventsDbTimedClean.to_csv(path, index = False, sep='|')\n",
    "print(path, 'file saved,', len(siloBorrowEventsDbTimedClean),' records')"
   ],
   "metadata": {
    "collapsed": false
   }
  },
  {
   "cell_type": "code",
   "execution_count": 1068,
   "outputs": [
    {
     "name": "stdout",
     "output_type": "stream",
     "text": [
      "A total of $ 564579.7 has been borrowed in different stablecoins over time over at Silo\n"
     ]
    }
   ],
   "source": [
    "totalBorrowedUSDSilo = sum(siloBorrowEventsDbTimedClean['transaction_amountUSD'])\n",
    "print('A total of $',round(totalBorrowedUSDSilo,2),  'has been borrowed in different stablecoins over time over at Silo')"
   ],
   "metadata": {
    "collapsed": false
   }
  },
  {
   "cell_type": "code",
   "execution_count": 928,
   "outputs": [
    {
     "data": {
      "text/plain": "                                    transaction_hash  transaction_timestamp  \\\n0  0x3dba2dd3c913b399164efd71db73121c9c94c0096139...             1676328371   \n1  0x83addaa30259315b10869fa8653a468eb1cc82a43f57...             1669229867   \n\n             dateTime                      transaction_account_id  \\\n0 2023-02-13 22:46:11  0x46535cbc3fa574c32ea392d4f89c518290597072   \n1 2022-11-23 18:57:47  0x7776421dd146dfd6ea947cbf29b69c519807d259   \n\n  transaction_asset_symbol  transactionReadableAmount  transaction_amountUSD  \n0                     gOHM                     26.400           71910.521424  \n1                     gOHM                      0.182             399.040935  ",
      "text/html": "<div>\n<style scoped>\n    .dataframe tbody tr th:only-of-type {\n        vertical-align: middle;\n    }\n\n    .dataframe tbody tr th {\n        vertical-align: top;\n    }\n\n    .dataframe thead th {\n        text-align: right;\n    }\n</style>\n<table border=\"1\" class=\"dataframe\">\n  <thead>\n    <tr style=\"text-align: right;\">\n      <th></th>\n      <th>transaction_hash</th>\n      <th>transaction_timestamp</th>\n      <th>dateTime</th>\n      <th>transaction_account_id</th>\n      <th>transaction_asset_symbol</th>\n      <th>transactionReadableAmount</th>\n      <th>transaction_amountUSD</th>\n    </tr>\n  </thead>\n  <tbody>\n    <tr>\n      <th>0</th>\n      <td>0x3dba2dd3c913b399164efd71db73121c9c94c0096139...</td>\n      <td>1676328371</td>\n      <td>2023-02-13 22:46:11</td>\n      <td>0x46535cbc3fa574c32ea392d4f89c518290597072</td>\n      <td>gOHM</td>\n      <td>26.400</td>\n      <td>71910.521424</td>\n    </tr>\n    <tr>\n      <th>1</th>\n      <td>0x83addaa30259315b10869fa8653a468eb1cc82a43f57...</td>\n      <td>1669229867</td>\n      <td>2022-11-23 18:57:47</td>\n      <td>0x7776421dd146dfd6ea947cbf29b69c519807d259</td>\n      <td>gOHM</td>\n      <td>0.182</td>\n      <td>399.040935</td>\n    </tr>\n  </tbody>\n</table>\n</div>"
     },
     "execution_count": 928,
     "metadata": {},
     "output_type": "execute_result"
    }
   ],
   "source": [
    "gOHMBorrowedSilo = db.query(\"Select distinct \"\n",
    "                           \"transaction_hash \"\n",
    "                           \",transaction_timestamp \"\n",
    "                           \", dateTime \"\n",
    "                           \",transaction_account_id \"\n",
    "                           \", transaction_asset_symbol \"\n",
    "                           \", transactionReadableAmount \"\n",
    "                           \", transaction_amountUSD \"\n",
    "                           \"from siloBorrowsDb where lower(transaction_asset_symbol) = 'gohm'\").df()\n",
    "\n",
    "gOHMBorrowedSilo.head(10)"
   ],
   "metadata": {
    "collapsed": false
   }
  },
  {
   "cell_type": "code",
   "execution_count": 1067,
   "outputs": [
    {
     "name": "stdout",
     "output_type": "stream",
     "text": [
      "A total of  26.58 OHM has been borrowed in different stablecoins over time in Silo, roughly USD$ 72309.56235872359\n"
     ]
    }
   ],
   "source": [
    "totalSiloBorrowedgOHM = sum(ohmBorrowedSilo['transactionReadableAmount'])\n",
    "totalSiloBorrowedgOHMinUSD = sum(ohmBorrowedSilo['transaction_amountUSD'])\n",
    "print('A total of ',round(totalSiloBorrowedgOHM,2),  'OHM has been borrowed in different stablecoins over time in Silo, roughly USD$',totalSiloBorrowedgOHMinUSD)"
   ],
   "metadata": {
    "collapsed": false
   }
  },
  {
   "cell_type": "code",
   "execution_count": 930,
   "outputs": [
    {
     "name": "stdout",
     "output_type": "stream",
     "text": [
      "D:\\Dropbox\\Documents\\Edgecaser LLC\\Projects\\Olympus\\Econohmetrics\\gohmAsStablecoinCollateral/data/ohmBorrowedSilo_piped.csv file saved, 2  records\n"
     ]
    }
   ],
   "source": [
    "path =file+'/ohmBorrowedSilo.csv'\n",
    "ohmBorrowedSilo.to_csv(path, index = False)\n",
    "\n",
    "path =file+'/ohmBorrowedSilo_piped.csv'\n",
    "ohmBorrowedSilo.to_csv(path, index = False, sep='|')\n",
    "print(path, 'file saved,', len(ohmBorrowedSilo),' records')"
   ],
   "metadata": {
    "collapsed": false
   }
  },
  {
   "cell_type": "markdown",
   "source": [
    "********************************************************************\n",
    "********************************************************************\n",
    "SILO COLLATERAL DEPOSITS"
   ],
   "metadata": {
    "collapsed": false
   }
  },
  {
   "cell_type": "code",
   "execution_count": 931,
   "outputs": [
    {
     "data": {
      "text/plain": "Empty DataFrame\nColumns: []\nIndex: []",
      "text/html": "<div>\n<style scoped>\n    .dataframe tbody tr th:only-of-type {\n        vertical-align: middle;\n    }\n\n    .dataframe tbody tr th {\n        vertical-align: top;\n    }\n\n    .dataframe thead th {\n        text-align: right;\n    }\n</style>\n<table border=\"1\" class=\"dataframe\">\n  <thead>\n    <tr style=\"text-align: right;\">\n      <th></th>\n    </tr>\n  </thead>\n  <tbody>\n  </tbody>\n</table>\n</div>"
     },
     "execution_count": 931,
     "metadata": {},
     "output_type": "execute_result"
    }
   ],
   "source": [
    "oldSiloDepositsDb = pd.DataFrame()\n",
    "siloFileName = file+'/siloFinanceGohmDeposits.csv'\n",
    "try:\n",
    "    oldSiloDepositsDb = pd.read_csv (siloFileName)\n",
    "except:\n",
    "    oldSiloDepositsDb = pd.DataFrame()\n",
    "oldSiloDepositsDb.head(100)"
   ],
   "metadata": {
    "collapsed": false
   }
  },
  {
   "cell_type": "code",
   "execution_count": 932,
   "outputs": [
    {
     "ename": "KeyError",
     "evalue": "'transaction_timestamp'",
     "output_type": "error",
     "traceback": [
      "\u001B[1;31m---------------------------------------------------------------------------\u001B[0m",
      "\u001B[1;31mKeyError\u001B[0m                                  Traceback (most recent call last)",
      "File \u001B[1;32m~\\PycharmProjects\\pythonProject\\venv\\lib\\site-packages\\pandas\\core\\indexes\\base.py:3621\u001B[0m, in \u001B[0;36mIndex.get_loc\u001B[1;34m(self, key, method, tolerance)\u001B[0m\n\u001B[0;32m   3620\u001B[0m \u001B[38;5;28;01mtry\u001B[39;00m:\n\u001B[1;32m-> 3621\u001B[0m     \u001B[38;5;28;01mreturn\u001B[39;00m \u001B[38;5;28;43mself\u001B[39;49m\u001B[38;5;241;43m.\u001B[39;49m\u001B[43m_engine\u001B[49m\u001B[38;5;241;43m.\u001B[39;49m\u001B[43mget_loc\u001B[49m\u001B[43m(\u001B[49m\u001B[43mcasted_key\u001B[49m\u001B[43m)\u001B[49m\n\u001B[0;32m   3622\u001B[0m \u001B[38;5;28;01mexcept\u001B[39;00m \u001B[38;5;167;01mKeyError\u001B[39;00m \u001B[38;5;28;01mas\u001B[39;00m err:\n",
      "File \u001B[1;32m~\\PycharmProjects\\pythonProject\\venv\\lib\\site-packages\\pandas\\_libs\\index.pyx:136\u001B[0m, in \u001B[0;36mpandas._libs.index.IndexEngine.get_loc\u001B[1;34m()\u001B[0m\n",
      "File \u001B[1;32m~\\PycharmProjects\\pythonProject\\venv\\lib\\site-packages\\pandas\\_libs\\index.pyx:163\u001B[0m, in \u001B[0;36mpandas._libs.index.IndexEngine.get_loc\u001B[1;34m()\u001B[0m\n",
      "File \u001B[1;32mpandas\\_libs\\hashtable_class_helper.pxi:5198\u001B[0m, in \u001B[0;36mpandas._libs.hashtable.PyObjectHashTable.get_item\u001B[1;34m()\u001B[0m\n",
      "File \u001B[1;32mpandas\\_libs\\hashtable_class_helper.pxi:5206\u001B[0m, in \u001B[0;36mpandas._libs.hashtable.PyObjectHashTable.get_item\u001B[1;34m()\u001B[0m\n",
      "\u001B[1;31mKeyError\u001B[0m: 'transaction_timestamp'",
      "\nThe above exception was the direct cause of the following exception:\n",
      "\u001B[1;31mKeyError\u001B[0m                                  Traceback (most recent call last)",
      "Input \u001B[1;32mIn [932]\u001B[0m, in \u001B[0;36m<cell line: 1>\u001B[1;34m()\u001B[0m\n\u001B[1;32m----> 1\u001B[0m \u001B[43moldSiloDepositsDb\u001B[49m\u001B[43m[\u001B[49m\u001B[38;5;124;43m'\u001B[39;49m\u001B[38;5;124;43mtransaction_timestamp\u001B[39;49m\u001B[38;5;124;43m'\u001B[39;49m\u001B[43m]\u001B[49m\u001B[38;5;241m.\u001B[39mmax()\n",
      "File \u001B[1;32m~\\PycharmProjects\\pythonProject\\venv\\lib\\site-packages\\pandas\\core\\frame.py:3505\u001B[0m, in \u001B[0;36mDataFrame.__getitem__\u001B[1;34m(self, key)\u001B[0m\n\u001B[0;32m   3503\u001B[0m \u001B[38;5;28;01mif\u001B[39;00m \u001B[38;5;28mself\u001B[39m\u001B[38;5;241m.\u001B[39mcolumns\u001B[38;5;241m.\u001B[39mnlevels \u001B[38;5;241m>\u001B[39m \u001B[38;5;241m1\u001B[39m:\n\u001B[0;32m   3504\u001B[0m     \u001B[38;5;28;01mreturn\u001B[39;00m \u001B[38;5;28mself\u001B[39m\u001B[38;5;241m.\u001B[39m_getitem_multilevel(key)\n\u001B[1;32m-> 3505\u001B[0m indexer \u001B[38;5;241m=\u001B[39m \u001B[38;5;28;43mself\u001B[39;49m\u001B[38;5;241;43m.\u001B[39;49m\u001B[43mcolumns\u001B[49m\u001B[38;5;241;43m.\u001B[39;49m\u001B[43mget_loc\u001B[49m\u001B[43m(\u001B[49m\u001B[43mkey\u001B[49m\u001B[43m)\u001B[49m\n\u001B[0;32m   3506\u001B[0m \u001B[38;5;28;01mif\u001B[39;00m is_integer(indexer):\n\u001B[0;32m   3507\u001B[0m     indexer \u001B[38;5;241m=\u001B[39m [indexer]\n",
      "File \u001B[1;32m~\\PycharmProjects\\pythonProject\\venv\\lib\\site-packages\\pandas\\core\\indexes\\base.py:3623\u001B[0m, in \u001B[0;36mIndex.get_loc\u001B[1;34m(self, key, method, tolerance)\u001B[0m\n\u001B[0;32m   3621\u001B[0m     \u001B[38;5;28;01mreturn\u001B[39;00m \u001B[38;5;28mself\u001B[39m\u001B[38;5;241m.\u001B[39m_engine\u001B[38;5;241m.\u001B[39mget_loc(casted_key)\n\u001B[0;32m   3622\u001B[0m \u001B[38;5;28;01mexcept\u001B[39;00m \u001B[38;5;167;01mKeyError\u001B[39;00m \u001B[38;5;28;01mas\u001B[39;00m err:\n\u001B[1;32m-> 3623\u001B[0m     \u001B[38;5;28;01mraise\u001B[39;00m \u001B[38;5;167;01mKeyError\u001B[39;00m(key) \u001B[38;5;28;01mfrom\u001B[39;00m \u001B[38;5;21;01merr\u001B[39;00m\n\u001B[0;32m   3624\u001B[0m \u001B[38;5;28;01mexcept\u001B[39;00m \u001B[38;5;167;01mTypeError\u001B[39;00m:\n\u001B[0;32m   3625\u001B[0m     \u001B[38;5;66;03m# If we have a listlike key, _check_indexing_error will raise\u001B[39;00m\n\u001B[0;32m   3626\u001B[0m     \u001B[38;5;66;03m#  InvalidIndexError. Otherwise we fall through and re-raise\u001B[39;00m\n\u001B[0;32m   3627\u001B[0m     \u001B[38;5;66;03m#  the TypeError.\u001B[39;00m\n\u001B[0;32m   3628\u001B[0m     \u001B[38;5;28mself\u001B[39m\u001B[38;5;241m.\u001B[39m_check_indexing_error(key)\n",
      "\u001B[1;31mKeyError\u001B[0m: 'transaction_timestamp'"
     ]
    }
   ],
   "source": [
    "oldSiloDepositsDb['transaction_timestamp'].max()"
   ],
   "metadata": {
    "collapsed": false
   }
  },
  {
   "cell_type": "code",
   "execution_count": 934,
   "outputs": [
    {
     "data": {
      "text/plain": "0"
     },
     "execution_count": 934,
     "metadata": {},
     "output_type": "execute_result"
    }
   ],
   "source": [
    "maxSiloDepositsTimestamp = 0\n",
    "try:\n",
    "    maxSiloDepositsTimestamp = (max(0,oldSiloDepositsDb['transaction_timestamp'].max()))-1\n",
    "except:\n",
    "        maxSiloDepositsTimestamp = 0\n",
    "maxSiloDepositsTimestamp = int(maxSiloDepositsTimestamp)\n",
    "maxSiloDepositsTimestamp"
   ],
   "metadata": {
    "collapsed": false
   }
  },
  {
   "cell_type": "code",
   "execution_count": 936,
   "outputs": [
    {
     "name": "stdout",
     "output_type": "stream",
     "text": [
      "iterations:  0 Lines skipped:  0 records collected:  294  - latest recordID:  0xecd6140bbb896413a25d34ca87f5503b56c444f1e582ce06f89b5eb395fa6a39   0xecd6140bbb896413a25d34ca87f5503b56c444f1e582ce06f89b5eb395fa6a39-144  - deposits DB length:  294  - latest record from:  2023-02-17 14:34:23 2 days ago\n",
      "iterations:  1 Lines skipped:  1000 records collected:  0  - latest recordID:  0xecd6140bbb896413a25d34ca87f5503b56c444f1e582ce06f89b5eb395fa6a39   0xecd6140bbb896413a25d34ca87f5503b56c444f1e582ce06f89b5eb395fa6a39-144  - deposits DB length:  294  - latest record from:  2023-02-17 14:34:23 2 days ago\n",
      "iterations:  2 Lines skipped:  2000 records collected:  0  - latest recordID:  0xecd6140bbb896413a25d34ca87f5503b56c444f1e582ce06f89b5eb395fa6a39   0xecd6140bbb896413a25d34ca87f5503b56c444f1e582ce06f89b5eb395fa6a39-144  - deposits DB length:  294  - latest record from:  2023-02-17 14:34:23 2 days ago\n",
      "iterations:  3 Lines skipped:  3000 records collected:  0  - latest recordID:  0xecd6140bbb896413a25d34ca87f5503b56c444f1e582ce06f89b5eb395fa6a39   0xecd6140bbb896413a25d34ca87f5503b56c444f1e582ce06f89b5eb395fa6a39-144  - deposits DB length:  294  - latest record from:  2023-02-17 14:34:23 2 days ago\n",
      "iterations:  4 Lines skipped:  4000 records collected:  0  - latest recordID:  0xecd6140bbb896413a25d34ca87f5503b56c444f1e582ce06f89b5eb395fa6a39   0xecd6140bbb896413a25d34ca87f5503b56c444f1e582ce06f89b5eb395fa6a39-144  - deposits DB length:  294  - latest record from:  2023-02-17 14:34:23 2 days ago\n",
      "iterations:  5 Lines skipped:  5000 records collected:  0  - latest recordID:  0xecd6140bbb896413a25d34ca87f5503b56c444f1e582ce06f89b5eb395fa6a39   0xecd6140bbb896413a25d34ca87f5503b56c444f1e582ce06f89b5eb395fa6a39-144  - deposits DB length:  294  - latest record from:  2023-02-17 14:34:23 2 days ago\n",
      "iterations:  6 Lines skipped:  6000 records collected:  0  - latest recordID:  0x54cd3f5374780bceaffae0661e2688eeca47df22b8aa7cab2e1f59c49af3eb64   0x54cd3f5374780bceaffae0661e2688eeca47df22b8aa7cab2e1f59c49af3eb64-110  - deposits DB length:  294  - latest record from:  2023-02-16 05:58:59 4 days ago\n",
      "iterations:  7 Lines skipped:  7000 records collected:  0  - latest recordID:  0x54cd3f5374780bceaffae0661e2688eeca47df22b8aa7cab2e1f59c49af3eb64   0x54cd3f5374780bceaffae0661e2688eeca47df22b8aa7cab2e1f59c49af3eb64-110  - deposits DB length:  294  - latest record from:  2023-02-16 05:58:59 4 days ago\n",
      "iterations:  8 Lines skipped:  8000 records collected:  0  - latest recordID:  0x54cd3f5374780bceaffae0661e2688eeca47df22b8aa7cab2e1f59c49af3eb64   0x54cd3f5374780bceaffae0661e2688eeca47df22b8aa7cab2e1f59c49af3eb64-110  - deposits DB length:  294  - latest record from:  2023-02-16 05:58:59 4 days ago\n",
      "iterations:  9 Lines skipped:  9000 records collected:  0  - latest recordID:  0x54cd3f5374780bceaffae0661e2688eeca47df22b8aa7cab2e1f59c49af3eb64   0x54cd3f5374780bceaffae0661e2688eeca47df22b8aa7cab2e1f59c49af3eb64-110  - deposits DB length:  294  - latest record from:  2023-02-16 05:58:59 4 days ago\n",
      "iterations:  10 Lines skipped:  10000 records collected:  0  - latest recordID:  0x54cd3f5374780bceaffae0661e2688eeca47df22b8aa7cab2e1f59c49af3eb64   0x54cd3f5374780bceaffae0661e2688eeca47df22b8aa7cab2e1f59c49af3eb64-110  - deposits DB length:  294  - latest record from:  2023-02-16 05:58:59 4 days ago\n",
      "iterations:  11 Lines skipped:  11000 records collected:  0  - latest recordID:  0x54cd3f5374780bceaffae0661e2688eeca47df22b8aa7cab2e1f59c49af3eb64   0x54cd3f5374780bceaffae0661e2688eeca47df22b8aa7cab2e1f59c49af3eb64-110  - deposits DB length:  294  - latest record from:  2023-02-16 05:58:59 4 days ago\n",
      "iterations:  12 Lines skipped:  12000 records collected:  0  - latest recordID:  0x721856559a766dd92144abd150363faf348af567988bc6a4079c2134f2c3a1da   0x721856559a766dd92144abd150363faf348af567988bc6a4079c2134f2c3a1da-136  - deposits DB length:  294  - latest record from:  2023-02-14 08:12:23 5 days ago\n",
      "iterations:  13 Lines skipped:  13000 records collected:  0  - latest recordID:  0x721856559a766dd92144abd150363faf348af567988bc6a4079c2134f2c3a1da   0x721856559a766dd92144abd150363faf348af567988bc6a4079c2134f2c3a1da-136  - deposits DB length:  294  - latest record from:  2023-02-14 08:12:23 5 days ago\n",
      "iterations:  14 Lines skipped:  14000 records collected:  0  - latest recordID:  0x721856559a766dd92144abd150363faf348af567988bc6a4079c2134f2c3a1da   0x721856559a766dd92144abd150363faf348af567988bc6a4079c2134f2c3a1da-136  - deposits DB length:  294  - latest record from:  2023-02-14 08:12:23 5 days ago\n",
      "iterations:  15 Lines skipped:  15000 records collected:  0  - latest recordID:  0x721856559a766dd92144abd150363faf348af567988bc6a4079c2134f2c3a1da   0x721856559a766dd92144abd150363faf348af567988bc6a4079c2134f2c3a1da-136  - deposits DB length:  294  - latest record from:  2023-02-14 08:12:23 5 days ago\n",
      "iterations:  16 Lines skipped:  16000 records collected:  0  - latest recordID:  0x721856559a766dd92144abd150363faf348af567988bc6a4079c2134f2c3a1da   0x721856559a766dd92144abd150363faf348af567988bc6a4079c2134f2c3a1da-136  - deposits DB length:  294  - latest record from:  2023-02-14 08:12:23 5 days ago\n",
      "iterations:  17 Lines skipped:  17000 records collected:  0  - latest recordID:  0x721856559a766dd92144abd150363faf348af567988bc6a4079c2134f2c3a1da   0x721856559a766dd92144abd150363faf348af567988bc6a4079c2134f2c3a1da-136  - deposits DB length:  294  - latest record from:  2023-02-14 08:12:23 5 days ago\n",
      "iterations:  18 Lines skipped:  18000 records collected:  0  - latest recordID:  0xa3b6cc062e68867d08f8808a14e871411d92a12ecd0f7ac842f6c91e1ea6160f   0xa3b6cc062e68867d08f8808a14e871411d92a12ecd0f7ac842f6c91e1ea6160f-263  - deposits DB length:  294  - latest record from:  2023-02-14 07:57:23 5 days ago\n",
      "iterations:  19 Lines skipped:  19000 records collected:  0  - latest recordID:  0xa3b6cc062e68867d08f8808a14e871411d92a12ecd0f7ac842f6c91e1ea6160f   0xa3b6cc062e68867d08f8808a14e871411d92a12ecd0f7ac842f6c91e1ea6160f-263  - deposits DB length:  294  - latest record from:  2023-02-14 07:57:23 5 days ago\n",
      "iterations:  20 Lines skipped:  20000 records collected:  0  - latest recordID:  0xa3b6cc062e68867d08f8808a14e871411d92a12ecd0f7ac842f6c91e1ea6160f   0xa3b6cc062e68867d08f8808a14e871411d92a12ecd0f7ac842f6c91e1ea6160f-263  - deposits DB length:  294  - latest record from:  2023-02-14 07:57:23 5 days ago\n",
      "iterations:  21 Lines skipped:  21000 records collected:  0  - latest recordID:  0xa3b6cc062e68867d08f8808a14e871411d92a12ecd0f7ac842f6c91e1ea6160f   0xa3b6cc062e68867d08f8808a14e871411d92a12ecd0f7ac842f6c91e1ea6160f-263  - deposits DB length:  294  - latest record from:  2023-02-14 07:57:23 5 days ago\n",
      "iterations:  22 Lines skipped:  22000 records collected:  0  - latest recordID:  0xa3b6cc062e68867d08f8808a14e871411d92a12ecd0f7ac842f6c91e1ea6160f   0xa3b6cc062e68867d08f8808a14e871411d92a12ecd0f7ac842f6c91e1ea6160f-263  - deposits DB length:  294  - latest record from:  2023-02-14 07:57:23 5 days ago\n",
      "iterations:  23 Lines skipped:  23000 records collected:  0  - latest recordID:  0xa3b6cc062e68867d08f8808a14e871411d92a12ecd0f7ac842f6c91e1ea6160f   0xa3b6cc062e68867d08f8808a14e871411d92a12ecd0f7ac842f6c91e1ea6160f-263  - deposits DB length:  294  - latest record from:  2023-02-14 07:57:23 5 days ago\n",
      "iterations:  24 Lines skipped:  24000 records collected:  0  - latest recordID:  0xf10b159b0c9faf44b0a5c9f95bafb761b0f5bc27acbe5a906f3f8330a5a13688   0xf10b159b0c9faf44b0a5c9f95bafb761b0f5bc27acbe5a906f3f8330a5a13688-242  - deposits DB length:  294  - latest record from:  2023-02-14 07:54:47 5 days ago\n",
      "iterations:  25 Lines skipped:  25000 records collected:  0  - latest recordID:  0xf10b159b0c9faf44b0a5c9f95bafb761b0f5bc27acbe5a906f3f8330a5a13688   0xf10b159b0c9faf44b0a5c9f95bafb761b0f5bc27acbe5a906f3f8330a5a13688-242  - deposits DB length:  294  - latest record from:  2023-02-14 07:54:47 5 days ago\n",
      "iterations:  26 Lines skipped:  26000 records collected:  0  - latest recordID:  0xf10b159b0c9faf44b0a5c9f95bafb761b0f5bc27acbe5a906f3f8330a5a13688   0xf10b159b0c9faf44b0a5c9f95bafb761b0f5bc27acbe5a906f3f8330a5a13688-242  - deposits DB length:  294  - latest record from:  2023-02-14 07:54:47 5 days ago\n",
      "iterations:  27 Lines skipped:  27000 records collected:  0  - latest recordID:  0xf10b159b0c9faf44b0a5c9f95bafb761b0f5bc27acbe5a906f3f8330a5a13688   0xf10b159b0c9faf44b0a5c9f95bafb761b0f5bc27acbe5a906f3f8330a5a13688-242  - deposits DB length:  294  - latest record from:  2023-02-14 07:54:47 5 days ago\n",
      "iterations:  28 Lines skipped:  28000 records collected:  0  - latest recordID:  0xf10b159b0c9faf44b0a5c9f95bafb761b0f5bc27acbe5a906f3f8330a5a13688   0xf10b159b0c9faf44b0a5c9f95bafb761b0f5bc27acbe5a906f3f8330a5a13688-242  - deposits DB length:  294  - latest record from:  2023-02-14 07:54:47 5 days ago\n",
      "iterations:  29 Lines skipped:  29000 records collected:  0  - latest recordID:  0xf10b159b0c9faf44b0a5c9f95bafb761b0f5bc27acbe5a906f3f8330a5a13688   0xf10b159b0c9faf44b0a5c9f95bafb761b0f5bc27acbe5a906f3f8330a5a13688-242  - deposits DB length:  294  - latest record from:  2023-02-14 07:54:47 5 days ago\n",
      "iterations:  30 Lines skipped:  30000 records collected:  0  - latest recordID:  0xe5163797f0922e4bded89126a213296a8c3d270a39e2fd0b29379195ff74e9cf   0xe5163797f0922e4bded89126a213296a8c3d270a39e2fd0b29379195ff74e9cf-254  - deposits DB length:  294  - latest record from:  2023-02-14 06:11:23 6 days ago\n",
      "iterations:  31 Lines skipped:  31000 records collected:  0  - latest recordID:  0xe5163797f0922e4bded89126a213296a8c3d270a39e2fd0b29379195ff74e9cf   0xe5163797f0922e4bded89126a213296a8c3d270a39e2fd0b29379195ff74e9cf-254  - deposits DB length:  294  - latest record from:  2023-02-14 06:11:23 6 days ago\n",
      "iterations:  32 Lines skipped:  32000 records collected:  0  - latest recordID:  0xe5163797f0922e4bded89126a213296a8c3d270a39e2fd0b29379195ff74e9cf   0xe5163797f0922e4bded89126a213296a8c3d270a39e2fd0b29379195ff74e9cf-254  - deposits DB length:  294  - latest record from:  2023-02-14 06:11:23 6 days ago\n",
      "iterations:  33 Lines skipped:  33000 records collected:  0  - latest recordID:  0xe5163797f0922e4bded89126a213296a8c3d270a39e2fd0b29379195ff74e9cf   0xe5163797f0922e4bded89126a213296a8c3d270a39e2fd0b29379195ff74e9cf-254  - deposits DB length:  294  - latest record from:  2023-02-14 06:11:23 6 days ago\n",
      "iterations:  34 Lines skipped:  34000 records collected:  0  - latest recordID:  0xe5163797f0922e4bded89126a213296a8c3d270a39e2fd0b29379195ff74e9cf   0xe5163797f0922e4bded89126a213296a8c3d270a39e2fd0b29379195ff74e9cf-254  - deposits DB length:  294  - latest record from:  2023-02-14 06:11:23 6 days ago\n",
      "iterations:  35 Lines skipped:  35000 records collected:  0  - latest recordID:  0xe5163797f0922e4bded89126a213296a8c3d270a39e2fd0b29379195ff74e9cf   0xe5163797f0922e4bded89126a213296a8c3d270a39e2fd0b29379195ff74e9cf-254  - deposits DB length:  294  - latest record from:  2023-02-14 06:11:23 6 days ago\n",
      "iterations:  36 Lines skipped:  36000 records collected:  0  - latest recordID:  0xcc5e09e1e5c403b6925fa25f0410388de72ef1b45f30f7d58af3245cfe55503d   0xcc5e09e1e5c403b6925fa25f0410388de72ef1b45f30f7d58af3245cfe55503d-90  - deposits DB length:  294  - latest record from:  2023-02-14 06:05:23 6 days ago\n",
      "iterations:  37 Lines skipped:  37000 records collected:  0  - latest recordID:  0xcc5e09e1e5c403b6925fa25f0410388de72ef1b45f30f7d58af3245cfe55503d   0xcc5e09e1e5c403b6925fa25f0410388de72ef1b45f30f7d58af3245cfe55503d-90  - deposits DB length:  294  - latest record from:  2023-02-14 06:05:23 6 days ago\n",
      "iterations:  38 Lines skipped:  38000 records collected:  0  - latest recordID:  0xcc5e09e1e5c403b6925fa25f0410388de72ef1b45f30f7d58af3245cfe55503d   0xcc5e09e1e5c403b6925fa25f0410388de72ef1b45f30f7d58af3245cfe55503d-90  - deposits DB length:  294  - latest record from:  2023-02-14 06:05:23 6 days ago\n",
      "iterations:  39 Lines skipped:  39000 records collected:  0  - latest recordID:  0xcc5e09e1e5c403b6925fa25f0410388de72ef1b45f30f7d58af3245cfe55503d   0xcc5e09e1e5c403b6925fa25f0410388de72ef1b45f30f7d58af3245cfe55503d-90  - deposits DB length:  294  - latest record from:  2023-02-14 06:05:23 6 days ago\n",
      "iterations:  40 Lines skipped:  40000 records collected:  0  - latest recordID:  0xcc5e09e1e5c403b6925fa25f0410388de72ef1b45f30f7d58af3245cfe55503d   0xcc5e09e1e5c403b6925fa25f0410388de72ef1b45f30f7d58af3245cfe55503d-90  - deposits DB length:  294  - latest record from:  2023-02-14 06:05:23 6 days ago\n",
      "iterations:  41 Lines skipped:  41000 records collected:  0  - latest recordID:  0xcc5e09e1e5c403b6925fa25f0410388de72ef1b45f30f7d58af3245cfe55503d   0xcc5e09e1e5c403b6925fa25f0410388de72ef1b45f30f7d58af3245cfe55503d-90  - deposits DB length:  294  - latest record from:  2023-02-14 06:05:23 6 days ago\n",
      "iterations:  42 Lines skipped:  42000 records collected:  0  - latest recordID:  0xf5439a3f94551476ec68db02d6f577a2856d01f45691189ad831ad8cb0f5019a   0xf5439a3f94551476ec68db02d6f577a2856d01f45691189ad831ad8cb0f5019a-246  - deposits DB length:  294  - latest record from:  2023-02-13 15:18:59 6 days ago\n",
      "iterations:  43 Lines skipped:  43000 records collected:  0  - latest recordID:  0xf5439a3f94551476ec68db02d6f577a2856d01f45691189ad831ad8cb0f5019a   0xf5439a3f94551476ec68db02d6f577a2856d01f45691189ad831ad8cb0f5019a-246  - deposits DB length:  294  - latest record from:  2023-02-13 15:18:59 6 days ago\n",
      "iterations:  44 Lines skipped:  44000 records collected:  0  - latest recordID:  0xf5439a3f94551476ec68db02d6f577a2856d01f45691189ad831ad8cb0f5019a   0xf5439a3f94551476ec68db02d6f577a2856d01f45691189ad831ad8cb0f5019a-246  - deposits DB length:  294  - latest record from:  2023-02-13 15:18:59 6 days ago\n",
      "iterations:  45 Lines skipped:  45000 records collected:  0  - latest recordID:  0xf5439a3f94551476ec68db02d6f577a2856d01f45691189ad831ad8cb0f5019a   0xf5439a3f94551476ec68db02d6f577a2856d01f45691189ad831ad8cb0f5019a-246  - deposits DB length:  294  - latest record from:  2023-02-13 15:18:59 6 days ago\n",
      "iterations:  46 Lines skipped:  46000 records collected:  0  - latest recordID:  0xf5439a3f94551476ec68db02d6f577a2856d01f45691189ad831ad8cb0f5019a   0xf5439a3f94551476ec68db02d6f577a2856d01f45691189ad831ad8cb0f5019a-246  - deposits DB length:  294  - latest record from:  2023-02-13 15:18:59 6 days ago\n",
      "iterations:  47 Lines skipped:  47000 records collected:  0  - latest recordID:  0xf5439a3f94551476ec68db02d6f577a2856d01f45691189ad831ad8cb0f5019a   0xf5439a3f94551476ec68db02d6f577a2856d01f45691189ad831ad8cb0f5019a-246  - deposits DB length:  294  - latest record from:  2023-02-13 15:18:59 6 days ago\n",
      "iterations:  48 Lines skipped:  48000 records collected:  0  - latest recordID:  0x3069fa3e9834fd75b4eaae5d1ef1a7910b112ed68e5f4c23c0125162c68154b7   0x3069fa3e9834fd75b4eaae5d1ef1a7910b112ed68e5f4c23c0125162c68154b7-89  - deposits DB length:  294  - latest record from:  2023-02-13 15:14:47 6 days ago\n",
      "iterations:  49 Lines skipped:  49000 records collected:  0  - latest recordID:  0x3069fa3e9834fd75b4eaae5d1ef1a7910b112ed68e5f4c23c0125162c68154b7   0x3069fa3e9834fd75b4eaae5d1ef1a7910b112ed68e5f4c23c0125162c68154b7-89  - deposits DB length:  294  - latest record from:  2023-02-13 15:14:47 6 days ago\n",
      "iterations:  50 Lines skipped:  50000 records collected:  0  - latest recordID:  0x3069fa3e9834fd75b4eaae5d1ef1a7910b112ed68e5f4c23c0125162c68154b7   0x3069fa3e9834fd75b4eaae5d1ef1a7910b112ed68e5f4c23c0125162c68154b7-89  - deposits DB length:  294  - latest record from:  2023-02-13 15:14:47 6 days ago\n",
      "iterations:  51 Lines skipped:  51000 records collected:  0  - latest recordID:  0x3069fa3e9834fd75b4eaae5d1ef1a7910b112ed68e5f4c23c0125162c68154b7   0x3069fa3e9834fd75b4eaae5d1ef1a7910b112ed68e5f4c23c0125162c68154b7-89  - deposits DB length:  294  - latest record from:  2023-02-13 15:14:47 6 days ago\n",
      "iterations:  52 Lines skipped:  52000 records collected:  0  - latest recordID:  0x3069fa3e9834fd75b4eaae5d1ef1a7910b112ed68e5f4c23c0125162c68154b7   0x3069fa3e9834fd75b4eaae5d1ef1a7910b112ed68e5f4c23c0125162c68154b7-89  - deposits DB length:  294  - latest record from:  2023-02-13 15:14:47 6 days ago\n",
      "iterations:  53 Lines skipped:  53000 records collected:  0  - latest recordID:  0x3069fa3e9834fd75b4eaae5d1ef1a7910b112ed68e5f4c23c0125162c68154b7   0x3069fa3e9834fd75b4eaae5d1ef1a7910b112ed68e5f4c23c0125162c68154b7-89  - deposits DB length:  294  - latest record from:  2023-02-13 15:14:47 6 days ago\n",
      "iterations:  54 Lines skipped:  54000 records collected:  0  - latest recordID:  0xf04b1658e04b636b7cfae83438ae560b6fd418f6e25fcf49c7ab433e9924a7b8   0xf04b1658e04b636b7cfae83438ae560b6fd418f6e25fcf49c7ab433e9924a7b8-162  - deposits DB length:  294  - latest record from:  2023-02-13 14:44:59 6 days ago\n",
      "iterations:  55 Lines skipped:  55000 records collected:  0  - latest recordID:  0xf04b1658e04b636b7cfae83438ae560b6fd418f6e25fcf49c7ab433e9924a7b8   0xf04b1658e04b636b7cfae83438ae560b6fd418f6e25fcf49c7ab433e9924a7b8-162  - deposits DB length:  294  - latest record from:  2023-02-13 14:44:59 6 days ago\n",
      "iterations:  56 Lines skipped:  56000 records collected:  0  - latest recordID:  0xf04b1658e04b636b7cfae83438ae560b6fd418f6e25fcf49c7ab433e9924a7b8   0xf04b1658e04b636b7cfae83438ae560b6fd418f6e25fcf49c7ab433e9924a7b8-162  - deposits DB length:  294  - latest record from:  2023-02-13 14:44:59 6 days ago\n",
      "iterations:  57 Lines skipped:  57000 records collected:  0  - latest recordID:  0xf04b1658e04b636b7cfae83438ae560b6fd418f6e25fcf49c7ab433e9924a7b8   0xf04b1658e04b636b7cfae83438ae560b6fd418f6e25fcf49c7ab433e9924a7b8-162  - deposits DB length:  294  - latest record from:  2023-02-13 14:44:59 6 days ago\n",
      "iterations:  58 Lines skipped:  58000 records collected:  0  - latest recordID:  0xf04b1658e04b636b7cfae83438ae560b6fd418f6e25fcf49c7ab433e9924a7b8   0xf04b1658e04b636b7cfae83438ae560b6fd418f6e25fcf49c7ab433e9924a7b8-162  - deposits DB length:  294  - latest record from:  2023-02-13 14:44:59 6 days ago\n",
      "iterations:  59 Lines skipped:  59000 records collected:  0  - latest recordID:  0xf04b1658e04b636b7cfae83438ae560b6fd418f6e25fcf49c7ab433e9924a7b8   0xf04b1658e04b636b7cfae83438ae560b6fd418f6e25fcf49c7ab433e9924a7b8-162  - deposits DB length:  294  - latest record from:  2023-02-13 14:44:59 6 days ago\n",
      "iterations:  60 Lines skipped:  60000 records collected:  0  - latest recordID:  0x17d879ec97730987652b5bcb00aaf6115b7dd232aaef1d3866791531178674b8   0x17d879ec97730987652b5bcb00aaf6115b7dd232aaef1d3866791531178674b8-39  - deposits DB length:  294  - latest record from:  2023-02-13 04:54:47 7 days ago\n",
      "iterations:  61 Lines skipped:  61000 records collected:  0  - latest recordID:  0x17d879ec97730987652b5bcb00aaf6115b7dd232aaef1d3866791531178674b8   0x17d879ec97730987652b5bcb00aaf6115b7dd232aaef1d3866791531178674b8-39  - deposits DB length:  294  - latest record from:  2023-02-13 04:54:47 7 days ago\n",
      "iterations:  62 Lines skipped:  62000 records collected:  0  - latest recordID:  0x17d879ec97730987652b5bcb00aaf6115b7dd232aaef1d3866791531178674b8   0x17d879ec97730987652b5bcb00aaf6115b7dd232aaef1d3866791531178674b8-39  - deposits DB length:  294  - latest record from:  2023-02-13 04:54:47 7 days ago\n",
      "iterations:  63 Lines skipped:  63000 records collected:  0  - latest recordID:  0x17d879ec97730987652b5bcb00aaf6115b7dd232aaef1d3866791531178674b8   0x17d879ec97730987652b5bcb00aaf6115b7dd232aaef1d3866791531178674b8-39  - deposits DB length:  294  - latest record from:  2023-02-13 04:54:47 7 days ago\n",
      "iterations:  64 Lines skipped:  64000 records collected:  0  - latest recordID:  0x17d879ec97730987652b5bcb00aaf6115b7dd232aaef1d3866791531178674b8   0x17d879ec97730987652b5bcb00aaf6115b7dd232aaef1d3866791531178674b8-39  - deposits DB length:  294  - latest record from:  2023-02-13 04:54:47 7 days ago\n",
      "iterations:  65 Lines skipped:  65000 records collected:  0  - latest recordID:  0x17d879ec97730987652b5bcb00aaf6115b7dd232aaef1d3866791531178674b8   0x17d879ec97730987652b5bcb00aaf6115b7dd232aaef1d3866791531178674b8-39  - deposits DB length:  294  - latest record from:  2023-02-13 04:54:47 7 days ago\n",
      "iterations:  66 Lines skipped:  66000 records collected:  0  - latest recordID:  0xff978d5e58c65cbc9d73fbf58f44166724c2db0f0706424187f40001539f1395   0xff978d5e58c65cbc9d73fbf58f44166724c2db0f0706424187f40001539f1395-262  - deposits DB length:  294  - latest record from:  2023-02-10 14:58:11 9 days ago\n",
      "iterations:  67 Lines skipped:  67000 records collected:  0  - latest recordID:  0xff978d5e58c65cbc9d73fbf58f44166724c2db0f0706424187f40001539f1395   0xff978d5e58c65cbc9d73fbf58f44166724c2db0f0706424187f40001539f1395-262  - deposits DB length:  294  - latest record from:  2023-02-10 14:58:11 9 days ago\n",
      "iterations:  68 Lines skipped:  68000 records collected:  0  - latest recordID:  0xff978d5e58c65cbc9d73fbf58f44166724c2db0f0706424187f40001539f1395   0xff978d5e58c65cbc9d73fbf58f44166724c2db0f0706424187f40001539f1395-262  - deposits DB length:  294  - latest record from:  2023-02-10 14:58:11 9 days ago\n",
      "iterations:  69 Lines skipped:  69000 records collected:  0  - latest recordID:  0xff978d5e58c65cbc9d73fbf58f44166724c2db0f0706424187f40001539f1395   0xff978d5e58c65cbc9d73fbf58f44166724c2db0f0706424187f40001539f1395-262  - deposits DB length:  294  - latest record from:  2023-02-10 14:58:11 9 days ago\n",
      "iterations:  70 Lines skipped:  70000 records collected:  0  - latest recordID:  0xff978d5e58c65cbc9d73fbf58f44166724c2db0f0706424187f40001539f1395   0xff978d5e58c65cbc9d73fbf58f44166724c2db0f0706424187f40001539f1395-262  - deposits DB length:  294  - latest record from:  2023-02-10 14:58:11 9 days ago\n",
      "iterations:  71 Lines skipped:  71000 records collected:  0  - latest recordID:  0xff978d5e58c65cbc9d73fbf58f44166724c2db0f0706424187f40001539f1395   0xff978d5e58c65cbc9d73fbf58f44166724c2db0f0706424187f40001539f1395-262  - deposits DB length:  294  - latest record from:  2023-02-10 14:58:11 9 days ago\n",
      "iterations:  72 Lines skipped:  72000 records collected:  0  - latest recordID:  0x7c0686952bdf22de3c8ce87e732690a4365c23f25939b0c34ffb9a2735dace81   0x7c0686952bdf22de3c8ce87e732690a4365c23f25939b0c34ffb9a2735dace81-204  - deposits DB length:  294  - latest record from:  2023-02-09 09:48:11 10 days ago\n",
      "iterations:  73 Lines skipped:  73000 records collected:  0  - latest recordID:  0x7c0686952bdf22de3c8ce87e732690a4365c23f25939b0c34ffb9a2735dace81   0x7c0686952bdf22de3c8ce87e732690a4365c23f25939b0c34ffb9a2735dace81-204  - deposits DB length:  294  - latest record from:  2023-02-09 09:48:11 10 days ago\n",
      "iterations:  74 Lines skipped:  74000 records collected:  0  - latest recordID:  0x7c0686952bdf22de3c8ce87e732690a4365c23f25939b0c34ffb9a2735dace81   0x7c0686952bdf22de3c8ce87e732690a4365c23f25939b0c34ffb9a2735dace81-204  - deposits DB length:  294  - latest record from:  2023-02-09 09:48:11 10 days ago\n",
      "iterations:  75 Lines skipped:  75000 records collected:  0  - latest recordID:  0x7c0686952bdf22de3c8ce87e732690a4365c23f25939b0c34ffb9a2735dace81   0x7c0686952bdf22de3c8ce87e732690a4365c23f25939b0c34ffb9a2735dace81-204  - deposits DB length:  294  - latest record from:  2023-02-09 09:48:11 10 days ago\n",
      "iterations:  76 Lines skipped:  76000 records collected:  0  - latest recordID:  0x7c0686952bdf22de3c8ce87e732690a4365c23f25939b0c34ffb9a2735dace81   0x7c0686952bdf22de3c8ce87e732690a4365c23f25939b0c34ffb9a2735dace81-204  - deposits DB length:  294  - latest record from:  2023-02-09 09:48:11 10 days ago\n",
      "iterations:  77 Lines skipped:  77000 records collected:  0  - latest recordID:  0x7c0686952bdf22de3c8ce87e732690a4365c23f25939b0c34ffb9a2735dace81   0x7c0686952bdf22de3c8ce87e732690a4365c23f25939b0c34ffb9a2735dace81-204  - deposits DB length:  294  - latest record from:  2023-02-09 09:48:11 10 days ago\n",
      "iterations:  78 Lines skipped:  78000 records collected:  0  - latest recordID:  0x669ce641c8adcf855d5ea4fedda6b52fc63795fd0dd634bc64d538c1f53896ed   0x669ce641c8adcf855d5ea4fedda6b52fc63795fd0dd634bc64d538c1f53896ed-369  - deposits DB length:  294  - latest record from:  2023-02-09 02:34:59 11 days ago\n",
      "iterations:  79 Lines skipped:  79000 records collected:  0  - latest recordID:  0x669ce641c8adcf855d5ea4fedda6b52fc63795fd0dd634bc64d538c1f53896ed   0x669ce641c8adcf855d5ea4fedda6b52fc63795fd0dd634bc64d538c1f53896ed-369  - deposits DB length:  294  - latest record from:  2023-02-09 02:34:59 11 days ago\n",
      "iterations:  80 Lines skipped:  80000 records collected:  0  - latest recordID:  0x669ce641c8adcf855d5ea4fedda6b52fc63795fd0dd634bc64d538c1f53896ed   0x669ce641c8adcf855d5ea4fedda6b52fc63795fd0dd634bc64d538c1f53896ed-369  - deposits DB length:  294  - latest record from:  2023-02-09 02:34:59 11 days ago\n",
      "iterations:  81 Lines skipped:  81000 records collected:  0  - latest recordID:  0x669ce641c8adcf855d5ea4fedda6b52fc63795fd0dd634bc64d538c1f53896ed   0x669ce641c8adcf855d5ea4fedda6b52fc63795fd0dd634bc64d538c1f53896ed-369  - deposits DB length:  294  - latest record from:  2023-02-09 02:34:59 11 days ago\n",
      "iterations:  82 Lines skipped:  82000 records collected:  0  - latest recordID:  0x669ce641c8adcf855d5ea4fedda6b52fc63795fd0dd634bc64d538c1f53896ed   0x669ce641c8adcf855d5ea4fedda6b52fc63795fd0dd634bc64d538c1f53896ed-369  - deposits DB length:  294  - latest record from:  2023-02-09 02:34:59 11 days ago\n",
      "iterations:  83 Lines skipped:  83000 records collected:  0  - latest recordID:  0x669ce641c8adcf855d5ea4fedda6b52fc63795fd0dd634bc64d538c1f53896ed   0x669ce641c8adcf855d5ea4fedda6b52fc63795fd0dd634bc64d538c1f53896ed-369  - deposits DB length:  294  - latest record from:  2023-02-09 02:34:59 11 days ago\n",
      "iterations:  84 Lines skipped:  84000 records collected:  0  - latest recordID:  0x204aee0831212791916d6ed3a2c24b5ac2a474743713f67762f60169ceb9c7e4   0x204aee0831212791916d6ed3a2c24b5ac2a474743713f67762f60169ceb9c7e4-181  - deposits DB length:  294  - latest record from:  2023-02-08 22:19:47 11 days ago\n",
      "iterations:  85 Lines skipped:  85000 records collected:  0  - latest recordID:  0x204aee0831212791916d6ed3a2c24b5ac2a474743713f67762f60169ceb9c7e4   0x204aee0831212791916d6ed3a2c24b5ac2a474743713f67762f60169ceb9c7e4-181  - deposits DB length:  294  - latest record from:  2023-02-08 22:19:47 11 days ago\n",
      "iterations:  86 Lines skipped:  86000 records collected:  0  - latest recordID:  0x204aee0831212791916d6ed3a2c24b5ac2a474743713f67762f60169ceb9c7e4   0x204aee0831212791916d6ed3a2c24b5ac2a474743713f67762f60169ceb9c7e4-181  - deposits DB length:  294  - latest record from:  2023-02-08 22:19:47 11 days ago\n",
      "iterations:  87 Lines skipped:  87000 records collected:  0  - latest recordID:  0x204aee0831212791916d6ed3a2c24b5ac2a474743713f67762f60169ceb9c7e4   0x204aee0831212791916d6ed3a2c24b5ac2a474743713f67762f60169ceb9c7e4-181  - deposits DB length:  294  - latest record from:  2023-02-08 22:19:47 11 days ago\n",
      "iterations:  88 Lines skipped:  88000 records collected:  0  - latest recordID:  0x204aee0831212791916d6ed3a2c24b5ac2a474743713f67762f60169ceb9c7e4   0x204aee0831212791916d6ed3a2c24b5ac2a474743713f67762f60169ceb9c7e4-181  - deposits DB length:  294  - latest record from:  2023-02-08 22:19:47 11 days ago\n",
      "iterations:  89 Lines skipped:  89000 records collected:  0  - latest recordID:  0x204aee0831212791916d6ed3a2c24b5ac2a474743713f67762f60169ceb9c7e4   0x204aee0831212791916d6ed3a2c24b5ac2a474743713f67762f60169ceb9c7e4-181  - deposits DB length:  294  - latest record from:  2023-02-08 22:19:47 11 days ago\n",
      "iterations:  90 Lines skipped:  90000 records collected:  0  - latest recordID:  0x6921d4de2e5fd797205f66357da959b3e4922760d1318feb672fa42b219849bf   0x6921d4de2e5fd797205f66357da959b3e4922760d1318feb672fa42b219849bf-162  - deposits DB length:  294  - latest record from:  2023-02-08 22:12:47 11 days ago\n",
      "iterations:  91 Lines skipped:  91000 records collected:  0  - latest recordID:  0x6921d4de2e5fd797205f66357da959b3e4922760d1318feb672fa42b219849bf   0x6921d4de2e5fd797205f66357da959b3e4922760d1318feb672fa42b219849bf-162  - deposits DB length:  294  - latest record from:  2023-02-08 22:12:47 11 days ago\n",
      "iterations:  92 Lines skipped:  92000 records collected:  0  - latest recordID:  0x6921d4de2e5fd797205f66357da959b3e4922760d1318feb672fa42b219849bf   0x6921d4de2e5fd797205f66357da959b3e4922760d1318feb672fa42b219849bf-162  - deposits DB length:  294  - latest record from:  2023-02-08 22:12:47 11 days ago\n",
      "iterations:  93 Lines skipped:  93000 records collected:  0  - latest recordID:  0x6921d4de2e5fd797205f66357da959b3e4922760d1318feb672fa42b219849bf   0x6921d4de2e5fd797205f66357da959b3e4922760d1318feb672fa42b219849bf-162  - deposits DB length:  294  - latest record from:  2023-02-08 22:12:47 11 days ago\n",
      "iterations:  94 Lines skipped:  94000 records collected:  0  - latest recordID:  0x6921d4de2e5fd797205f66357da959b3e4922760d1318feb672fa42b219849bf   0x6921d4de2e5fd797205f66357da959b3e4922760d1318feb672fa42b219849bf-162  - deposits DB length:  294  - latest record from:  2023-02-08 22:12:47 11 days ago\n",
      "iterations:  95 Lines skipped:  95000 records collected:  0  - latest recordID:  0x6921d4de2e5fd797205f66357da959b3e4922760d1318feb672fa42b219849bf   0x6921d4de2e5fd797205f66357da959b3e4922760d1318feb672fa42b219849bf-162  - deposits DB length:  294  - latest record from:  2023-02-08 22:12:47 11 days ago\n",
      "iterations:  96 Lines skipped:  96000 records collected:  0  - latest recordID:  0x0efd7820596c58c44eb2a8cd9f825fa98fd0d7a3d1d340e888b742a0df0fa833   0x0efd7820596c58c44eb2a8cd9f825fa98fd0d7a3d1d340e888b742a0df0fa833-278  - deposits DB length:  294  - latest record from:  2023-02-08 19:50:23 11 days ago\n",
      "iterations:  97 Lines skipped:  97000 records collected:  0  - latest recordID:  0x0efd7820596c58c44eb2a8cd9f825fa98fd0d7a3d1d340e888b742a0df0fa833   0x0efd7820596c58c44eb2a8cd9f825fa98fd0d7a3d1d340e888b742a0df0fa833-278  - deposits DB length:  294  - latest record from:  2023-02-08 19:50:23 11 days ago\n",
      "iterations:  98 Lines skipped:  98000 records collected:  0  - latest recordID:  0x0efd7820596c58c44eb2a8cd9f825fa98fd0d7a3d1d340e888b742a0df0fa833   0x0efd7820596c58c44eb2a8cd9f825fa98fd0d7a3d1d340e888b742a0df0fa833-278  - deposits DB length:  294  - latest record from:  2023-02-08 19:50:23 11 days ago\n",
      "iterations:  99 Lines skipped:  99000 records collected:  0  - latest recordID:  0x0efd7820596c58c44eb2a8cd9f825fa98fd0d7a3d1d340e888b742a0df0fa833   0x0efd7820596c58c44eb2a8cd9f825fa98fd0d7a3d1d340e888b742a0df0fa833-278  - deposits DB length:  294  - latest record from:  2023-02-08 19:50:23 11 days ago\n",
      "iterations:  100 Lines skipped:  100000 records collected:  0  - latest recordID:  0x0efd7820596c58c44eb2a8cd9f825fa98fd0d7a3d1d340e888b742a0df0fa833   0x0efd7820596c58c44eb2a8cd9f825fa98fd0d7a3d1d340e888b742a0df0fa833-278  - deposits DB length:  294  - latest record from:  2023-02-08 19:50:23 11 days ago\n",
      "iterations:  101 Lines skipped:  101000 records collected:  0  - latest recordID:  0x0efd7820596c58c44eb2a8cd9f825fa98fd0d7a3d1d340e888b742a0df0fa833   0x0efd7820596c58c44eb2a8cd9f825fa98fd0d7a3d1d340e888b742a0df0fa833-278  - deposits DB length:  294  - latest record from:  2023-02-08 19:50:23 11 days ago\n",
      "iterations:  102 Lines skipped:  102000 records collected:  0  - latest recordID:  0x80f329fe4643c04ee8f7bc201533d5bd5387ac564fe83e392a5ad522d8c96f35   0x80f329fe4643c04ee8f7bc201533d5bd5387ac564fe83e392a5ad522d8c96f35-210  - deposits DB length:  294  - latest record from:  2023-02-08 11:34:23 11 days ago\n",
      "iterations:  103 Lines skipped:  103000 records collected:  0  - latest recordID:  0x80f329fe4643c04ee8f7bc201533d5bd5387ac564fe83e392a5ad522d8c96f35   0x80f329fe4643c04ee8f7bc201533d5bd5387ac564fe83e392a5ad522d8c96f35-210  - deposits DB length:  294  - latest record from:  2023-02-08 11:34:23 11 days ago\n",
      "iterations:  104 Lines skipped:  104000 records collected:  0  - latest recordID:  0x80f329fe4643c04ee8f7bc201533d5bd5387ac564fe83e392a5ad522d8c96f35   0x80f329fe4643c04ee8f7bc201533d5bd5387ac564fe83e392a5ad522d8c96f35-210  - deposits DB length:  294  - latest record from:  2023-02-08 11:34:23 11 days ago\n",
      "iterations:  105 Lines skipped:  105000 records collected:  0  - latest recordID:  0x80f329fe4643c04ee8f7bc201533d5bd5387ac564fe83e392a5ad522d8c96f35   0x80f329fe4643c04ee8f7bc201533d5bd5387ac564fe83e392a5ad522d8c96f35-210  - deposits DB length:  294  - latest record from:  2023-02-08 11:34:23 11 days ago\n",
      "iterations:  106 Lines skipped:  106000 records collected:  0  - latest recordID:  0x80f329fe4643c04ee8f7bc201533d5bd5387ac564fe83e392a5ad522d8c96f35   0x80f329fe4643c04ee8f7bc201533d5bd5387ac564fe83e392a5ad522d8c96f35-210  - deposits DB length:  294  - latest record from:  2023-02-08 11:34:23 11 days ago\n",
      "iterations:  107 Lines skipped:  107000 records collected:  0  - latest recordID:  0x80f329fe4643c04ee8f7bc201533d5bd5387ac564fe83e392a5ad522d8c96f35   0x80f329fe4643c04ee8f7bc201533d5bd5387ac564fe83e392a5ad522d8c96f35-210  - deposits DB length:  294  - latest record from:  2023-02-08 11:34:23 11 days ago\n",
      "iterations:  108 Lines skipped:  108000 records collected:  0  - latest recordID:  0x890da67cbb9ec7e781f0a8feb115ff7a590de57e00ce6d7b682170daedd0045e   0x890da67cbb9ec7e781f0a8feb115ff7a590de57e00ce6d7b682170daedd0045e-77  - deposits DB length:  294  - latest record from:  2023-02-08 10:42:47 11 days ago\n",
      "iterations:  109 Lines skipped:  109000 records collected:  0  - latest recordID:  0x890da67cbb9ec7e781f0a8feb115ff7a590de57e00ce6d7b682170daedd0045e   0x890da67cbb9ec7e781f0a8feb115ff7a590de57e00ce6d7b682170daedd0045e-77  - deposits DB length:  294  - latest record from:  2023-02-08 10:42:47 11 days ago\n",
      "iterations:  110 Lines skipped:  110000 records collected:  0  - latest recordID:  0x890da67cbb9ec7e781f0a8feb115ff7a590de57e00ce6d7b682170daedd0045e   0x890da67cbb9ec7e781f0a8feb115ff7a590de57e00ce6d7b682170daedd0045e-77  - deposits DB length:  294  - latest record from:  2023-02-08 10:42:47 11 days ago\n",
      "iterations:  111 Lines skipped:  111000 records collected:  0  - latest recordID:  0x890da67cbb9ec7e781f0a8feb115ff7a590de57e00ce6d7b682170daedd0045e   0x890da67cbb9ec7e781f0a8feb115ff7a590de57e00ce6d7b682170daedd0045e-77  - deposits DB length:  294  - latest record from:  2023-02-08 10:42:47 11 days ago\n",
      "iterations:  112 Lines skipped:  112000 records collected:  0  - latest recordID:  0x890da67cbb9ec7e781f0a8feb115ff7a590de57e00ce6d7b682170daedd0045e   0x890da67cbb9ec7e781f0a8feb115ff7a590de57e00ce6d7b682170daedd0045e-77  - deposits DB length:  294  - latest record from:  2023-02-08 10:42:47 11 days ago\n",
      "iterations:  113 Lines skipped:  113000 records collected:  0  - latest recordID:  0x890da67cbb9ec7e781f0a8feb115ff7a590de57e00ce6d7b682170daedd0045e   0x890da67cbb9ec7e781f0a8feb115ff7a590de57e00ce6d7b682170daedd0045e-77  - deposits DB length:  294  - latest record from:  2023-02-08 10:42:47 11 days ago\n",
      "iterations:  114 Lines skipped:  114000 records collected:  0  - latest recordID:  0xb1a1646acf062ec3c3d9884adf46bef38f00728ca2faa51c31bb6b98329e0745   0xb1a1646acf062ec3c3d9884adf46bef38f00728ca2faa51c31bb6b98329e0745-229  - deposits DB length:  294  - latest record from:  2023-02-07 15:08:35 12 days ago\n",
      "iterations:  115 Lines skipped:  115000 records collected:  0  - latest recordID:  0xb1a1646acf062ec3c3d9884adf46bef38f00728ca2faa51c31bb6b98329e0745   0xb1a1646acf062ec3c3d9884adf46bef38f00728ca2faa51c31bb6b98329e0745-229  - deposits DB length:  294  - latest record from:  2023-02-07 15:08:35 12 days ago\n",
      "iterations:  116 Lines skipped:  116000 records collected:  0  - latest recordID:  0xb1a1646acf062ec3c3d9884adf46bef38f00728ca2faa51c31bb6b98329e0745   0xb1a1646acf062ec3c3d9884adf46bef38f00728ca2faa51c31bb6b98329e0745-229  - deposits DB length:  294  - latest record from:  2023-02-07 15:08:35 12 days ago\n",
      "iterations:  117 Lines skipped:  117000 records collected:  0  - latest recordID:  0xb1a1646acf062ec3c3d9884adf46bef38f00728ca2faa51c31bb6b98329e0745   0xb1a1646acf062ec3c3d9884adf46bef38f00728ca2faa51c31bb6b98329e0745-229  - deposits DB length:  294  - latest record from:  2023-02-07 15:08:35 12 days ago\n",
      "iterations:  118 Lines skipped:  118000 records collected:  0  - latest recordID:  0xb1a1646acf062ec3c3d9884adf46bef38f00728ca2faa51c31bb6b98329e0745   0xb1a1646acf062ec3c3d9884adf46bef38f00728ca2faa51c31bb6b98329e0745-229  - deposits DB length:  294  - latest record from:  2023-02-07 15:08:35 12 days ago\n",
      "iterations:  119 Lines skipped:  119000 records collected:  0  - latest recordID:  0xb1a1646acf062ec3c3d9884adf46bef38f00728ca2faa51c31bb6b98329e0745   0xb1a1646acf062ec3c3d9884adf46bef38f00728ca2faa51c31bb6b98329e0745-229  - deposits DB length:  294  - latest record from:  2023-02-07 15:08:35 12 days ago\n",
      "iterations:  120 Lines skipped:  120000 records collected:  0  - latest recordID:  0x35d5e6734b990e7e7e6493344db464f86e9fe2318e7b6400f015b580a8d50dd3   0x35d5e6734b990e7e7e6493344db464f86e9fe2318e7b6400f015b580a8d50dd3-372  - deposits DB length:  294  - latest record from:  2023-02-07 14:14:47 12 days ago\n",
      "iterations:  121 Lines skipped:  121000 records collected:  0  - latest recordID:  0x35d5e6734b990e7e7e6493344db464f86e9fe2318e7b6400f015b580a8d50dd3   0x35d5e6734b990e7e7e6493344db464f86e9fe2318e7b6400f015b580a8d50dd3-372  - deposits DB length:  294  - latest record from:  2023-02-07 14:14:47 12 days ago\n",
      "iterations:  122 Lines skipped:  122000 records collected:  0  - latest recordID:  0x35d5e6734b990e7e7e6493344db464f86e9fe2318e7b6400f015b580a8d50dd3   0x35d5e6734b990e7e7e6493344db464f86e9fe2318e7b6400f015b580a8d50dd3-372  - deposits DB length:  294  - latest record from:  2023-02-07 14:14:47 12 days ago\n",
      "iterations:  123 Lines skipped:  123000 records collected:  0  - latest recordID:  0x35d5e6734b990e7e7e6493344db464f86e9fe2318e7b6400f015b580a8d50dd3   0x35d5e6734b990e7e7e6493344db464f86e9fe2318e7b6400f015b580a8d50dd3-372  - deposits DB length:  294  - latest record from:  2023-02-07 14:14:47 12 days ago\n",
      "iterations:  124 Lines skipped:  124000 records collected:  0  - latest recordID:  0x35d5e6734b990e7e7e6493344db464f86e9fe2318e7b6400f015b580a8d50dd3   0x35d5e6734b990e7e7e6493344db464f86e9fe2318e7b6400f015b580a8d50dd3-372  - deposits DB length:  294  - latest record from:  2023-02-07 14:14:47 12 days ago\n",
      "iterations:  125 Lines skipped:  125000 records collected:  0  - latest recordID:  0x35d5e6734b990e7e7e6493344db464f86e9fe2318e7b6400f015b580a8d50dd3   0x35d5e6734b990e7e7e6493344db464f86e9fe2318e7b6400f015b580a8d50dd3-372  - deposits DB length:  294  - latest record from:  2023-02-07 14:14:47 12 days ago\n",
      "iterations:  126 Lines skipped:  126000 records collected:  0  - latest recordID:  0x1d2652b56d4d7ae72e952e68a3e0018bdbebdca8dd5970a6940ea754b021b722   0x1d2652b56d4d7ae72e952e68a3e0018bdbebdca8dd5970a6940ea754b021b722-317  - deposits DB length:  294  - latest record from:  2023-02-07 13:48:59 12 days ago\n",
      "iterations:  127 Lines skipped:  127000 records collected:  0  - latest recordID:  0x1d2652b56d4d7ae72e952e68a3e0018bdbebdca8dd5970a6940ea754b021b722   0x1d2652b56d4d7ae72e952e68a3e0018bdbebdca8dd5970a6940ea754b021b722-317  - deposits DB length:  294  - latest record from:  2023-02-07 13:48:59 12 days ago\n",
      "iterations:  128 Lines skipped:  128000 records collected:  0  - latest recordID:  0x1d2652b56d4d7ae72e952e68a3e0018bdbebdca8dd5970a6940ea754b021b722   0x1d2652b56d4d7ae72e952e68a3e0018bdbebdca8dd5970a6940ea754b021b722-317  - deposits DB length:  294  - latest record from:  2023-02-07 13:48:59 12 days ago\n",
      "iterations:  129 Lines skipped:  129000 records collected:  0  - latest recordID:  0x1d2652b56d4d7ae72e952e68a3e0018bdbebdca8dd5970a6940ea754b021b722   0x1d2652b56d4d7ae72e952e68a3e0018bdbebdca8dd5970a6940ea754b021b722-317  - deposits DB length:  294  - latest record from:  2023-02-07 13:48:59 12 days ago\n",
      "iterations:  130 Lines skipped:  130000 records collected:  0  - latest recordID:  0x1d2652b56d4d7ae72e952e68a3e0018bdbebdca8dd5970a6940ea754b021b722   0x1d2652b56d4d7ae72e952e68a3e0018bdbebdca8dd5970a6940ea754b021b722-317  - deposits DB length:  294  - latest record from:  2023-02-07 13:48:59 12 days ago\n",
      "iterations:  131 Lines skipped:  131000 records collected:  0  - latest recordID:  0x1d2652b56d4d7ae72e952e68a3e0018bdbebdca8dd5970a6940ea754b021b722   0x1d2652b56d4d7ae72e952e68a3e0018bdbebdca8dd5970a6940ea754b021b722-317  - deposits DB length:  294  - latest record from:  2023-02-07 13:48:59 12 days ago\n",
      "iterations:  132 Lines skipped:  132000 records collected:  0  - latest recordID:  0x4d72e2a5ca35d7b76faecafddc8dce2368081f6c6a52cc8f05a82b82a85fea4f   0x4d72e2a5ca35d7b76faecafddc8dce2368081f6c6a52cc8f05a82b82a85fea4f-256  - deposits DB length:  294  - latest record from:  2023-02-06 21:04:59 13 days ago\n",
      "iterations:  133 Lines skipped:  133000 records collected:  0  - latest recordID:  0x4d72e2a5ca35d7b76faecafddc8dce2368081f6c6a52cc8f05a82b82a85fea4f   0x4d72e2a5ca35d7b76faecafddc8dce2368081f6c6a52cc8f05a82b82a85fea4f-256  - deposits DB length:  294  - latest record from:  2023-02-06 21:04:59 13 days ago\n",
      "iterations:  134 Lines skipped:  134000 records collected:  0  - latest recordID:  0x4d72e2a5ca35d7b76faecafddc8dce2368081f6c6a52cc8f05a82b82a85fea4f   0x4d72e2a5ca35d7b76faecafddc8dce2368081f6c6a52cc8f05a82b82a85fea4f-256  - deposits DB length:  294  - latest record from:  2023-02-06 21:04:59 13 days ago\n",
      "iterations:  135 Lines skipped:  135000 records collected:  0  - latest recordID:  0x4d72e2a5ca35d7b76faecafddc8dce2368081f6c6a52cc8f05a82b82a85fea4f   0x4d72e2a5ca35d7b76faecafddc8dce2368081f6c6a52cc8f05a82b82a85fea4f-256  - deposits DB length:  294  - latest record from:  2023-02-06 21:04:59 13 days ago\n",
      "iterations:  136 Lines skipped:  136000 records collected:  0  - latest recordID:  0x4d72e2a5ca35d7b76faecafddc8dce2368081f6c6a52cc8f05a82b82a85fea4f   0x4d72e2a5ca35d7b76faecafddc8dce2368081f6c6a52cc8f05a82b82a85fea4f-256  - deposits DB length:  294  - latest record from:  2023-02-06 21:04:59 13 days ago\n",
      "iterations:  137 Lines skipped:  137000 records collected:  0  - latest recordID:  0x4d72e2a5ca35d7b76faecafddc8dce2368081f6c6a52cc8f05a82b82a85fea4f   0x4d72e2a5ca35d7b76faecafddc8dce2368081f6c6a52cc8f05a82b82a85fea4f-256  - deposits DB length:  294  - latest record from:  2023-02-06 21:04:59 13 days ago\n",
      "iterations:  138 Lines skipped:  138000 records collected:  0  - latest recordID:  0x2051da675e864d363e7159d1e0084e45535e785b5ae62bc817dde527e9729c17   0x2051da675e864d363e7159d1e0084e45535e785b5ae62bc817dde527e9729c17-230  - deposits DB length:  294  - latest record from:  2023-02-06 16:01:23 13 days ago\n",
      "iterations:  139 Lines skipped:  139000 records collected:  0  - latest recordID:  0x2051da675e864d363e7159d1e0084e45535e785b5ae62bc817dde527e9729c17   0x2051da675e864d363e7159d1e0084e45535e785b5ae62bc817dde527e9729c17-230  - deposits DB length:  294  - latest record from:  2023-02-06 16:01:23 13 days ago\n",
      "iterations:  140 Lines skipped:  140000 records collected:  0  - latest recordID:  0x2051da675e864d363e7159d1e0084e45535e785b5ae62bc817dde527e9729c17   0x2051da675e864d363e7159d1e0084e45535e785b5ae62bc817dde527e9729c17-230  - deposits DB length:  294  - latest record from:  2023-02-06 16:01:23 13 days ago\n",
      "iterations:  141 Lines skipped:  141000 records collected:  0  - latest recordID:  0x2051da675e864d363e7159d1e0084e45535e785b5ae62bc817dde527e9729c17   0x2051da675e864d363e7159d1e0084e45535e785b5ae62bc817dde527e9729c17-230  - deposits DB length:  294  - latest record from:  2023-02-06 16:01:23 13 days ago\n",
      "iterations:  142 Lines skipped:  142000 records collected:  0  - latest recordID:  0x2051da675e864d363e7159d1e0084e45535e785b5ae62bc817dde527e9729c17   0x2051da675e864d363e7159d1e0084e45535e785b5ae62bc817dde527e9729c17-230  - deposits DB length:  294  - latest record from:  2023-02-06 16:01:23 13 days ago\n",
      "iterations:  143 Lines skipped:  143000 records collected:  0  - latest recordID:  0x2051da675e864d363e7159d1e0084e45535e785b5ae62bc817dde527e9729c17   0x2051da675e864d363e7159d1e0084e45535e785b5ae62bc817dde527e9729c17-230  - deposits DB length:  294  - latest record from:  2023-02-06 16:01:23 13 days ago\n",
      "iterations:  144 Lines skipped:  144000 records collected:  0  - latest recordID:  0x852e34f51e79d0b0695baaeffaccdd8c8406ba55e2c48e6693490133e598165f   0x852e34f51e79d0b0695baaeffaccdd8c8406ba55e2c48e6693490133e598165f-355  - deposits DB length:  294  - latest record from:  2023-02-06 05:37:47 14 days ago\n",
      "iterations:  145 Lines skipped:  145000 records collected:  0  - latest recordID:  0x852e34f51e79d0b0695baaeffaccdd8c8406ba55e2c48e6693490133e598165f   0x852e34f51e79d0b0695baaeffaccdd8c8406ba55e2c48e6693490133e598165f-355  - deposits DB length:  294  - latest record from:  2023-02-06 05:37:47 14 days ago\n",
      "iterations:  146 Lines skipped:  146000 records collected:  0  - latest recordID:  0x852e34f51e79d0b0695baaeffaccdd8c8406ba55e2c48e6693490133e598165f   0x852e34f51e79d0b0695baaeffaccdd8c8406ba55e2c48e6693490133e598165f-355  - deposits DB length:  294  - latest record from:  2023-02-06 05:37:47 14 days ago\n",
      "iterations:  147 Lines skipped:  147000 records collected:  0  - latest recordID:  0x852e34f51e79d0b0695baaeffaccdd8c8406ba55e2c48e6693490133e598165f   0x852e34f51e79d0b0695baaeffaccdd8c8406ba55e2c48e6693490133e598165f-355  - deposits DB length:  294  - latest record from:  2023-02-06 05:37:47 14 days ago\n",
      "iterations:  148 Lines skipped:  148000 records collected:  0  - latest recordID:  0x852e34f51e79d0b0695baaeffaccdd8c8406ba55e2c48e6693490133e598165f   0x852e34f51e79d0b0695baaeffaccdd8c8406ba55e2c48e6693490133e598165f-355  - deposits DB length:  294  - latest record from:  2023-02-06 05:37:47 14 days ago\n",
      "iterations:  149 Lines skipped:  149000 records collected:  0  - latest recordID:  0x852e34f51e79d0b0695baaeffaccdd8c8406ba55e2c48e6693490133e598165f   0x852e34f51e79d0b0695baaeffaccdd8c8406ba55e2c48e6693490133e598165f-355  - deposits DB length:  294  - latest record from:  2023-02-06 05:37:47 14 days ago\n",
      "iterations:  150 Lines skipped:  150000 records collected:  0  - latest recordID:  0x52365addba1ce6381c7ab6220b9a6eed6e26efa1b8131d19c9de59d51ff33070   0x52365addba1ce6381c7ab6220b9a6eed6e26efa1b8131d19c9de59d51ff33070-338  - deposits DB length:  294  - latest record from:  2023-02-01 02:24:35 19 days ago\n",
      "iterations:  151 Lines skipped:  151000 records collected:  0  - latest recordID:  0x52365addba1ce6381c7ab6220b9a6eed6e26efa1b8131d19c9de59d51ff33070   0x52365addba1ce6381c7ab6220b9a6eed6e26efa1b8131d19c9de59d51ff33070-338  - deposits DB length:  294  - latest record from:  2023-02-01 02:24:35 19 days ago\n",
      "iterations:  152 Lines skipped:  152000 records collected:  0  - latest recordID:  0x52365addba1ce6381c7ab6220b9a6eed6e26efa1b8131d19c9de59d51ff33070   0x52365addba1ce6381c7ab6220b9a6eed6e26efa1b8131d19c9de59d51ff33070-338  - deposits DB length:  294  - latest record from:  2023-02-01 02:24:35 19 days ago\n",
      "iterations:  153 Lines skipped:  153000 records collected:  0  - latest recordID:  0x52365addba1ce6381c7ab6220b9a6eed6e26efa1b8131d19c9de59d51ff33070   0x52365addba1ce6381c7ab6220b9a6eed6e26efa1b8131d19c9de59d51ff33070-338  - deposits DB length:  294  - latest record from:  2023-02-01 02:24:35 19 days ago\n",
      "iterations:  154 Lines skipped:  154000 records collected:  0  - latest recordID:  0x52365addba1ce6381c7ab6220b9a6eed6e26efa1b8131d19c9de59d51ff33070   0x52365addba1ce6381c7ab6220b9a6eed6e26efa1b8131d19c9de59d51ff33070-338  - deposits DB length:  294  - latest record from:  2023-02-01 02:24:35 19 days ago\n",
      "iterations:  155 Lines skipped:  155000 records collected:  0  - latest recordID:  0x52365addba1ce6381c7ab6220b9a6eed6e26efa1b8131d19c9de59d51ff33070   0x52365addba1ce6381c7ab6220b9a6eed6e26efa1b8131d19c9de59d51ff33070-338  - deposits DB length:  294  - latest record from:  2023-02-01 02:24:35 19 days ago\n",
      "iterations:  156 Lines skipped:  156000 records collected:  0  - latest recordID:  0x976fb2b1e49590c04707140f0a1bce4465fda42dfe9cd909ba9a916363c1429a   0x976fb2b1e49590c04707140f0a1bce4465fda42dfe9cd909ba9a916363c1429a-283  - deposits DB length:  294  - latest record from:  2023-01-28 04:20:23 23 days ago\n",
      "iterations:  157 Lines skipped:  157000 records collected:  0  - latest recordID:  0x976fb2b1e49590c04707140f0a1bce4465fda42dfe9cd909ba9a916363c1429a   0x976fb2b1e49590c04707140f0a1bce4465fda42dfe9cd909ba9a916363c1429a-283  - deposits DB length:  294  - latest record from:  2023-01-28 04:20:23 23 days ago\n",
      "iterations:  158 Lines skipped:  158000 records collected:  0  - latest recordID:  0x976fb2b1e49590c04707140f0a1bce4465fda42dfe9cd909ba9a916363c1429a   0x976fb2b1e49590c04707140f0a1bce4465fda42dfe9cd909ba9a916363c1429a-283  - deposits DB length:  294  - latest record from:  2023-01-28 04:20:23 23 days ago\n",
      "iterations:  159 Lines skipped:  159000 records collected:  0  - latest recordID:  0x976fb2b1e49590c04707140f0a1bce4465fda42dfe9cd909ba9a916363c1429a   0x976fb2b1e49590c04707140f0a1bce4465fda42dfe9cd909ba9a916363c1429a-283  - deposits DB length:  294  - latest record from:  2023-01-28 04:20:23 23 days ago\n",
      "iterations:  160 Lines skipped:  160000 records collected:  0  - latest recordID:  0x976fb2b1e49590c04707140f0a1bce4465fda42dfe9cd909ba9a916363c1429a   0x976fb2b1e49590c04707140f0a1bce4465fda42dfe9cd909ba9a916363c1429a-283  - deposits DB length:  294  - latest record from:  2023-01-28 04:20:23 23 days ago\n",
      "iterations:  161 Lines skipped:  161000 records collected:  0  - latest recordID:  0x976fb2b1e49590c04707140f0a1bce4465fda42dfe9cd909ba9a916363c1429a   0x976fb2b1e49590c04707140f0a1bce4465fda42dfe9cd909ba9a916363c1429a-283  - deposits DB length:  294  - latest record from:  2023-01-28 04:20:23 23 days ago\n",
      "iterations:  162 Lines skipped:  162000 records collected:  0  - latest recordID:  0x7811e7757339551966af37751af4b56c16a3e141d682a401aa1dfe1aaf20183b   0x7811e7757339551966af37751af4b56c16a3e141d682a401aa1dfe1aaf20183b-149  - deposits DB length:  294  - latest record from:  2023-01-08 18:05:11 42 days ago\n",
      "iterations:  163 Lines skipped:  163000 records collected:  0  - latest recordID:  0x7811e7757339551966af37751af4b56c16a3e141d682a401aa1dfe1aaf20183b   0x7811e7757339551966af37751af4b56c16a3e141d682a401aa1dfe1aaf20183b-149  - deposits DB length:  294  - latest record from:  2023-01-08 18:05:11 42 days ago\n",
      "iterations:  164 Lines skipped:  164000 records collected:  0  - latest recordID:  0x7811e7757339551966af37751af4b56c16a3e141d682a401aa1dfe1aaf20183b   0x7811e7757339551966af37751af4b56c16a3e141d682a401aa1dfe1aaf20183b-149  - deposits DB length:  294  - latest record from:  2023-01-08 18:05:11 42 days ago\n",
      "iterations:  165 Lines skipped:  165000 records collected:  0  - latest recordID:  0x7811e7757339551966af37751af4b56c16a3e141d682a401aa1dfe1aaf20183b   0x7811e7757339551966af37751af4b56c16a3e141d682a401aa1dfe1aaf20183b-149  - deposits DB length:  294  - latest record from:  2023-01-08 18:05:11 42 days ago\n",
      "iterations:  166 Lines skipped:  166000 records collected:  0  - latest recordID:  0x7811e7757339551966af37751af4b56c16a3e141d682a401aa1dfe1aaf20183b   0x7811e7757339551966af37751af4b56c16a3e141d682a401aa1dfe1aaf20183b-149  - deposits DB length:  294  - latest record from:  2023-01-08 18:05:11 42 days ago\n",
      "iterations:  167 Lines skipped:  167000 records collected:  0  - latest recordID:  0x7811e7757339551966af37751af4b56c16a3e141d682a401aa1dfe1aaf20183b   0x7811e7757339551966af37751af4b56c16a3e141d682a401aa1dfe1aaf20183b-149  - deposits DB length:  294  - latest record from:  2023-01-08 18:05:11 42 days ago\n",
      "iterations:  168 Lines skipped:  168000 records collected:  0  - latest recordID:  0xc094064b1815d07ca696c614f45dffbb054d2e5d5954fcbdc788cdf89ff290fc   0xc094064b1815d07ca696c614f45dffbb054d2e5d5954fcbdc788cdf89ff290fc-194  - deposits DB length:  294  - latest record from:  2022-12-21 12:50:35 60 days ago\n",
      "Done. Total Records collected:  294\n"
     ]
    }
   ],
   "source": [
    "##this captures the ENTIRE list of people who deposited OHM\n",
    "depositTicker = 0\n",
    "depositslist = pd.DataFrame()\n",
    "siloDepositsDb = pd.DataFrame()\n",
    "depositListLength = 1000\n",
    "datediff = 0\n",
    "now=0\n",
    "daysAgo=0\n",
    "daysLimit = 45\n",
    "exit = False\n",
    "while exit==False:\n",
    "    skipValue = (depositTicker)*(1000)\n",
    "    deposits = silo.Query.deposits(\n",
    "        orderBy='timestamp',\n",
    "        orderDirection='desc',\n",
    "        first=1000,\n",
    "        skip = skipValue,\n",
    "        where={ 'market': '0xc413dd03555f3eb29d834b482d386b2999dc2eb0'\n",
    "                ,'timestamp_gte': maxSiloDepositsTimestamp\n",
    "                } #gOHM market\n",
    "    )\n",
    "\n",
    "    depositslist = sg.query_df([\n",
    "        deposits.id\n",
    "        ,deposits.hash\n",
    "        ,deposits.blockNumber\n",
    "        ,deposits.timestamp\n",
    "        ,deposits.account.id\n",
    "        ,deposits.market.id\n",
    "        ,deposits.market.protocol.id\n",
    "        ,deposits.market.rates.rate\n",
    "        ,deposits.market.rates.duration\n",
    "        ,deposits.market.rates.side\n",
    "        ,deposits.market.rates.type\n",
    "        ,deposits.market.rates.token.id\n",
    "        ,deposits.asset.name\n",
    "        ,deposits.asset.symbol\n",
    "        ,deposits.asset.decimals\n",
    "        ,deposits.asset.lastPriceUSD\n",
    "        ,deposits.amount\n",
    "        ,deposits.amountUSD\n",
    "    ])\n",
    "\n",
    "    siloDepositsDb=pd.concat([siloDepositsDb, depositslist])\n",
    "    recordTimestamp1 = siloDepositsDb.iat[depositTicker,3]\n",
    "    recordTimestamp = dt.datetime.fromtimestamp( recordTimestamp1 )\n",
    "    now = (int(dt.datetime.utcnow().timestamp()))\n",
    "    datediff=abs(int(now) - recordTimestamp1)\n",
    "    daysAgo = int(datediff/86400)\n",
    "    siloDepositsDbLength = len(siloDepositsDb)\n",
    "    siloDepositListLength = len(depositslist)\n",
    "    recordID = siloDepositsDb.iat[depositTicker,0]\n",
    "    deposit = siloDepositsDb.iat[depositTicker,1]\n",
    "    print(\"iterations: \", depositTicker, \"Lines skipped: \",skipValue, \"records collected: \", siloDepositListLength, \" - latest recordID: \",deposit, \" \", recordID , \" - deposits DB length: \", siloDepositsDbLength, \" - latest record from: \", recordTimestamp, daysAgo,\"days ago\")\n",
    "    #print(\"iterations: \", depositTicker, \"records collected: \", depositListLength, \" - userdb length: \", depositsDbLength)\n",
    "    depositTicker = depositTicker+1\n",
    "\n",
    "    if daysAgo>daysLimit: exit =True\n",
    "    if depositListLength<1000: exit =True\n",
    "\n",
    "siloDepositsDb.columns = siloDepositsDb.columns.str.replace(\"deposits\", \"transaction\")\n",
    "siloDepositsDb['event']='deposit'\n",
    "siloDepositsDb.drop_duplicates\n",
    "print(\"Done. Total Records collected: \", siloDepositsDbLength)"
   ],
   "metadata": {
    "collapsed": false
   }
  },
  {
   "cell_type": "code",
   "execution_count": 937,
   "outputs": [
    {
     "data": {
      "text/plain": "                                      transaction_id  \\\n0  0xecd6140bbb896413a25d34ca87f5503b56c444f1e582...   \n1  0xecd6140bbb896413a25d34ca87f5503b56c444f1e582...   \n2  0xecd6140bbb896413a25d34ca87f5503b56c444f1e582...   \n3  0xecd6140bbb896413a25d34ca87f5503b56c444f1e582...   \n4  0xecd6140bbb896413a25d34ca87f5503b56c444f1e582...   \n5  0xecd6140bbb896413a25d34ca87f5503b56c444f1e582...   \n6  0x54cd3f5374780bceaffae0661e2688eeca47df22b8aa...   \n7  0x54cd3f5374780bceaffae0661e2688eeca47df22b8aa...   \n8  0x54cd3f5374780bceaffae0661e2688eeca47df22b8aa...   \n9  0x54cd3f5374780bceaffae0661e2688eeca47df22b8aa...   \n\n                                    transaction_hash  transaction_blockNumber  \\\n0  0xecd6140bbb896413a25d34ca87f5503b56c444f1e582...                 16651409   \n1  0xecd6140bbb896413a25d34ca87f5503b56c444f1e582...                 16651409   \n2  0xecd6140bbb896413a25d34ca87f5503b56c444f1e582...                 16651409   \n3  0xecd6140bbb896413a25d34ca87f5503b56c444f1e582...                 16651409   \n4  0xecd6140bbb896413a25d34ca87f5503b56c444f1e582...                 16651409   \n5  0xecd6140bbb896413a25d34ca87f5503b56c444f1e582...                 16651409   \n6  0x54cd3f5374780bceaffae0661e2688eeca47df22b8aa...                 16641740   \n7  0x54cd3f5374780bceaffae0661e2688eeca47df22b8aa...                 16641740   \n8  0x54cd3f5374780bceaffae0661e2688eeca47df22b8aa...                 16641740   \n9  0x54cd3f5374780bceaffae0661e2688eeca47df22b8aa...                 16641740   \n\n   transaction_timestamp                      transaction_account_id  \\\n0             1676673263  0xd33e76d21d32c21811593ae54e38f68df0cfe8ed   \n1             1676673263  0xd33e76d21d32c21811593ae54e38f68df0cfe8ed   \n2             1676673263  0xd33e76d21d32c21811593ae54e38f68df0cfe8ed   \n3             1676673263  0xd33e76d21d32c21811593ae54e38f68df0cfe8ed   \n4             1676673263  0xd33e76d21d32c21811593ae54e38f68df0cfe8ed   \n5             1676673263  0xd33e76d21d32c21811593ae54e38f68df0cfe8ed   \n6             1676555939  0xee95e4cf086fc80df7ae0f39dfc9ea53a3eaadcb   \n7             1676555939  0xee95e4cf086fc80df7ae0f39dfc9ea53a3eaadcb   \n8             1676555939  0xee95e4cf086fc80df7ae0f39dfc9ea53a3eaadcb   \n9             1676555939  0xee95e4cf086fc80df7ae0f39dfc9ea53a3eaadcb   \n\n                        transaction_market_id  \\\n0  0xc413dd03555f3eb29d834b482d386b2999dc2eb0   \n1  0xc413dd03555f3eb29d834b482d386b2999dc2eb0   \n2  0xc413dd03555f3eb29d834b482d386b2999dc2eb0   \n3  0xc413dd03555f3eb29d834b482d386b2999dc2eb0   \n4  0xc413dd03555f3eb29d834b482d386b2999dc2eb0   \n5  0xc413dd03555f3eb29d834b482d386b2999dc2eb0   \n6  0xc413dd03555f3eb29d834b482d386b2999dc2eb0   \n7  0xc413dd03555f3eb29d834b482d386b2999dc2eb0   \n8  0xc413dd03555f3eb29d834b482d386b2999dc2eb0   \n9  0xc413dd03555f3eb29d834b482d386b2999dc2eb0   \n\n               transaction_market_protocol_id  transaction_market_rates_rate  \\\n0  0xd998c35b7900b344bbbe6555cc11576942cf309d                       0.000000   \n1  0xd998c35b7900b344bbbe6555cc11576942cf309d                       0.983536   \n2  0xd998c35b7900b344bbbe6555cc11576942cf309d                       2.840751   \n3  0xd998c35b7900b344bbbe6555cc11576942cf309d                       0.000000   \n4  0xd998c35b7900b344bbbe6555cc11576942cf309d                       0.117764   \n5  0xd998c35b7900b344bbbe6555cc11576942cf309d                       1.614002   \n6  0xd998c35b7900b344bbbe6555cc11576942cf309d                       0.000000   \n7  0xd998c35b7900b344bbbe6555cc11576942cf309d                       0.983536   \n8  0xd998c35b7900b344bbbe6555cc11576942cf309d                       2.840751   \n9  0xd998c35b7900b344bbbe6555cc11576942cf309d                       0.000000   \n\n  transaction_market_rates_duration transaction_market_rates_side  \\\n0                              None                      BORROWER   \n1                              None                      BORROWER   \n2                              None                      BORROWER   \n3                              None                        LENDER   \n4                              None                        LENDER   \n5                              None                        LENDER   \n6                              None                      BORROWER   \n7                              None                      BORROWER   \n8                              None                      BORROWER   \n9                              None                        LENDER   \n\n  transaction_market_rates_type           transaction_market_rates_token_id  \\\n0                      VARIABLE  0x0ab87046fbb341d058f17cbc4c1133f25a20a52f   \n1                      VARIABLE  0xc02aaa39b223fe8d0a0e5c4f27ead9083c756cc2   \n2                      VARIABLE  0xd7c9f0e536dc865ae858b0c0453fe76d13c3beac   \n3                      VARIABLE  0x0ab87046fbb341d058f17cbc4c1133f25a20a52f   \n4                      VARIABLE  0xc02aaa39b223fe8d0a0e5c4f27ead9083c756cc2   \n5                      VARIABLE  0xd7c9f0e536dc865ae858b0c0453fe76d13c3beac   \n6                      VARIABLE  0x0ab87046fbb341d058f17cbc4c1133f25a20a52f   \n7                      VARIABLE  0xc02aaa39b223fe8d0a0e5c4f27ead9083c756cc2   \n8                      VARIABLE  0xd7c9f0e536dc865ae858b0c0453fe76d13c3beac   \n9                      VARIABLE  0x0ab87046fbb341d058f17cbc4c1133f25a20a52f   \n\n  transaction_asset_name transaction_asset_symbol  transaction_asset_decimals  \\\n0         Governance OHM                     gOHM                          18   \n1         Governance OHM                     gOHM                          18   \n2         Governance OHM                     gOHM                          18   \n3         Governance OHM                     gOHM                          18   \n4         Governance OHM                     gOHM                          18   \n5         Governance OHM                     gOHM                          18   \n6         Governance OHM                     gOHM                          18   \n7         Governance OHM                     gOHM                          18   \n8         Governance OHM                     gOHM                          18   \n9         Governance OHM                     gOHM                          18   \n\n   transaction_asset_lastPriceUSD    transaction_amount  \\\n0                     2838.193286  48922199130466954750   \n1                     2838.193286  48922199130466954750   \n2                     2838.193286  48922199130466954750   \n3                     2838.193286  48922199130466954750   \n4                     2838.193286  48922199130466954750   \n5                     2838.193286  48922199130466954750   \n6                     2838.193286  50749991834761030902   \n7                     2838.193286  50749991834761030902   \n8                     2838.193286  50749991834761030902   \n9                     2838.193286  50749991834761030902   \n\n   transaction_amountUSD    event  \n0          138354.126796  deposit  \n1          138354.126796  deposit  \n2          138354.126796  deposit  \n3          138354.126796  deposit  \n4          138354.126796  deposit  \n5          138354.126796  deposit  \n6          145833.530065  deposit  \n7          145833.530065  deposit  \n8          145833.530065  deposit  \n9          145833.530065  deposit  ",
      "text/html": "<div>\n<style scoped>\n    .dataframe tbody tr th:only-of-type {\n        vertical-align: middle;\n    }\n\n    .dataframe tbody tr th {\n        vertical-align: top;\n    }\n\n    .dataframe thead th {\n        text-align: right;\n    }\n</style>\n<table border=\"1\" class=\"dataframe\">\n  <thead>\n    <tr style=\"text-align: right;\">\n      <th></th>\n      <th>transaction_id</th>\n      <th>transaction_hash</th>\n      <th>transaction_blockNumber</th>\n      <th>transaction_timestamp</th>\n      <th>transaction_account_id</th>\n      <th>transaction_market_id</th>\n      <th>transaction_market_protocol_id</th>\n      <th>transaction_market_rates_rate</th>\n      <th>transaction_market_rates_duration</th>\n      <th>transaction_market_rates_side</th>\n      <th>transaction_market_rates_type</th>\n      <th>transaction_market_rates_token_id</th>\n      <th>transaction_asset_name</th>\n      <th>transaction_asset_symbol</th>\n      <th>transaction_asset_decimals</th>\n      <th>transaction_asset_lastPriceUSD</th>\n      <th>transaction_amount</th>\n      <th>transaction_amountUSD</th>\n      <th>event</th>\n    </tr>\n  </thead>\n  <tbody>\n    <tr>\n      <th>0</th>\n      <td>0xecd6140bbb896413a25d34ca87f5503b56c444f1e582...</td>\n      <td>0xecd6140bbb896413a25d34ca87f5503b56c444f1e582...</td>\n      <td>16651409</td>\n      <td>1676673263</td>\n      <td>0xd33e76d21d32c21811593ae54e38f68df0cfe8ed</td>\n      <td>0xc413dd03555f3eb29d834b482d386b2999dc2eb0</td>\n      <td>0xd998c35b7900b344bbbe6555cc11576942cf309d</td>\n      <td>0.000000</td>\n      <td>None</td>\n      <td>BORROWER</td>\n      <td>VARIABLE</td>\n      <td>0x0ab87046fbb341d058f17cbc4c1133f25a20a52f</td>\n      <td>Governance OHM</td>\n      <td>gOHM</td>\n      <td>18</td>\n      <td>2838.193286</td>\n      <td>48922199130466954750</td>\n      <td>138354.126796</td>\n      <td>deposit</td>\n    </tr>\n    <tr>\n      <th>1</th>\n      <td>0xecd6140bbb896413a25d34ca87f5503b56c444f1e582...</td>\n      <td>0xecd6140bbb896413a25d34ca87f5503b56c444f1e582...</td>\n      <td>16651409</td>\n      <td>1676673263</td>\n      <td>0xd33e76d21d32c21811593ae54e38f68df0cfe8ed</td>\n      <td>0xc413dd03555f3eb29d834b482d386b2999dc2eb0</td>\n      <td>0xd998c35b7900b344bbbe6555cc11576942cf309d</td>\n      <td>0.983536</td>\n      <td>None</td>\n      <td>BORROWER</td>\n      <td>VARIABLE</td>\n      <td>0xc02aaa39b223fe8d0a0e5c4f27ead9083c756cc2</td>\n      <td>Governance OHM</td>\n      <td>gOHM</td>\n      <td>18</td>\n      <td>2838.193286</td>\n      <td>48922199130466954750</td>\n      <td>138354.126796</td>\n      <td>deposit</td>\n    </tr>\n    <tr>\n      <th>2</th>\n      <td>0xecd6140bbb896413a25d34ca87f5503b56c444f1e582...</td>\n      <td>0xecd6140bbb896413a25d34ca87f5503b56c444f1e582...</td>\n      <td>16651409</td>\n      <td>1676673263</td>\n      <td>0xd33e76d21d32c21811593ae54e38f68df0cfe8ed</td>\n      <td>0xc413dd03555f3eb29d834b482d386b2999dc2eb0</td>\n      <td>0xd998c35b7900b344bbbe6555cc11576942cf309d</td>\n      <td>2.840751</td>\n      <td>None</td>\n      <td>BORROWER</td>\n      <td>VARIABLE</td>\n      <td>0xd7c9f0e536dc865ae858b0c0453fe76d13c3beac</td>\n      <td>Governance OHM</td>\n      <td>gOHM</td>\n      <td>18</td>\n      <td>2838.193286</td>\n      <td>48922199130466954750</td>\n      <td>138354.126796</td>\n      <td>deposit</td>\n    </tr>\n    <tr>\n      <th>3</th>\n      <td>0xecd6140bbb896413a25d34ca87f5503b56c444f1e582...</td>\n      <td>0xecd6140bbb896413a25d34ca87f5503b56c444f1e582...</td>\n      <td>16651409</td>\n      <td>1676673263</td>\n      <td>0xd33e76d21d32c21811593ae54e38f68df0cfe8ed</td>\n      <td>0xc413dd03555f3eb29d834b482d386b2999dc2eb0</td>\n      <td>0xd998c35b7900b344bbbe6555cc11576942cf309d</td>\n      <td>0.000000</td>\n      <td>None</td>\n      <td>LENDER</td>\n      <td>VARIABLE</td>\n      <td>0x0ab87046fbb341d058f17cbc4c1133f25a20a52f</td>\n      <td>Governance OHM</td>\n      <td>gOHM</td>\n      <td>18</td>\n      <td>2838.193286</td>\n      <td>48922199130466954750</td>\n      <td>138354.126796</td>\n      <td>deposit</td>\n    </tr>\n    <tr>\n      <th>4</th>\n      <td>0xecd6140bbb896413a25d34ca87f5503b56c444f1e582...</td>\n      <td>0xecd6140bbb896413a25d34ca87f5503b56c444f1e582...</td>\n      <td>16651409</td>\n      <td>1676673263</td>\n      <td>0xd33e76d21d32c21811593ae54e38f68df0cfe8ed</td>\n      <td>0xc413dd03555f3eb29d834b482d386b2999dc2eb0</td>\n      <td>0xd998c35b7900b344bbbe6555cc11576942cf309d</td>\n      <td>0.117764</td>\n      <td>None</td>\n      <td>LENDER</td>\n      <td>VARIABLE</td>\n      <td>0xc02aaa39b223fe8d0a0e5c4f27ead9083c756cc2</td>\n      <td>Governance OHM</td>\n      <td>gOHM</td>\n      <td>18</td>\n      <td>2838.193286</td>\n      <td>48922199130466954750</td>\n      <td>138354.126796</td>\n      <td>deposit</td>\n    </tr>\n    <tr>\n      <th>5</th>\n      <td>0xecd6140bbb896413a25d34ca87f5503b56c444f1e582...</td>\n      <td>0xecd6140bbb896413a25d34ca87f5503b56c444f1e582...</td>\n      <td>16651409</td>\n      <td>1676673263</td>\n      <td>0xd33e76d21d32c21811593ae54e38f68df0cfe8ed</td>\n      <td>0xc413dd03555f3eb29d834b482d386b2999dc2eb0</td>\n      <td>0xd998c35b7900b344bbbe6555cc11576942cf309d</td>\n      <td>1.614002</td>\n      <td>None</td>\n      <td>LENDER</td>\n      <td>VARIABLE</td>\n      <td>0xd7c9f0e536dc865ae858b0c0453fe76d13c3beac</td>\n      <td>Governance OHM</td>\n      <td>gOHM</td>\n      <td>18</td>\n      <td>2838.193286</td>\n      <td>48922199130466954750</td>\n      <td>138354.126796</td>\n      <td>deposit</td>\n    </tr>\n    <tr>\n      <th>6</th>\n      <td>0x54cd3f5374780bceaffae0661e2688eeca47df22b8aa...</td>\n      <td>0x54cd3f5374780bceaffae0661e2688eeca47df22b8aa...</td>\n      <td>16641740</td>\n      <td>1676555939</td>\n      <td>0xee95e4cf086fc80df7ae0f39dfc9ea53a3eaadcb</td>\n      <td>0xc413dd03555f3eb29d834b482d386b2999dc2eb0</td>\n      <td>0xd998c35b7900b344bbbe6555cc11576942cf309d</td>\n      <td>0.000000</td>\n      <td>None</td>\n      <td>BORROWER</td>\n      <td>VARIABLE</td>\n      <td>0x0ab87046fbb341d058f17cbc4c1133f25a20a52f</td>\n      <td>Governance OHM</td>\n      <td>gOHM</td>\n      <td>18</td>\n      <td>2838.193286</td>\n      <td>50749991834761030902</td>\n      <td>145833.530065</td>\n      <td>deposit</td>\n    </tr>\n    <tr>\n      <th>7</th>\n      <td>0x54cd3f5374780bceaffae0661e2688eeca47df22b8aa...</td>\n      <td>0x54cd3f5374780bceaffae0661e2688eeca47df22b8aa...</td>\n      <td>16641740</td>\n      <td>1676555939</td>\n      <td>0xee95e4cf086fc80df7ae0f39dfc9ea53a3eaadcb</td>\n      <td>0xc413dd03555f3eb29d834b482d386b2999dc2eb0</td>\n      <td>0xd998c35b7900b344bbbe6555cc11576942cf309d</td>\n      <td>0.983536</td>\n      <td>None</td>\n      <td>BORROWER</td>\n      <td>VARIABLE</td>\n      <td>0xc02aaa39b223fe8d0a0e5c4f27ead9083c756cc2</td>\n      <td>Governance OHM</td>\n      <td>gOHM</td>\n      <td>18</td>\n      <td>2838.193286</td>\n      <td>50749991834761030902</td>\n      <td>145833.530065</td>\n      <td>deposit</td>\n    </tr>\n    <tr>\n      <th>8</th>\n      <td>0x54cd3f5374780bceaffae0661e2688eeca47df22b8aa...</td>\n      <td>0x54cd3f5374780bceaffae0661e2688eeca47df22b8aa...</td>\n      <td>16641740</td>\n      <td>1676555939</td>\n      <td>0xee95e4cf086fc80df7ae0f39dfc9ea53a3eaadcb</td>\n      <td>0xc413dd03555f3eb29d834b482d386b2999dc2eb0</td>\n      <td>0xd998c35b7900b344bbbe6555cc11576942cf309d</td>\n      <td>2.840751</td>\n      <td>None</td>\n      <td>BORROWER</td>\n      <td>VARIABLE</td>\n      <td>0xd7c9f0e536dc865ae858b0c0453fe76d13c3beac</td>\n      <td>Governance OHM</td>\n      <td>gOHM</td>\n      <td>18</td>\n      <td>2838.193286</td>\n      <td>50749991834761030902</td>\n      <td>145833.530065</td>\n      <td>deposit</td>\n    </tr>\n    <tr>\n      <th>9</th>\n      <td>0x54cd3f5374780bceaffae0661e2688eeca47df22b8aa...</td>\n      <td>0x54cd3f5374780bceaffae0661e2688eeca47df22b8aa...</td>\n      <td>16641740</td>\n      <td>1676555939</td>\n      <td>0xee95e4cf086fc80df7ae0f39dfc9ea53a3eaadcb</td>\n      <td>0xc413dd03555f3eb29d834b482d386b2999dc2eb0</td>\n      <td>0xd998c35b7900b344bbbe6555cc11576942cf309d</td>\n      <td>0.000000</td>\n      <td>None</td>\n      <td>LENDER</td>\n      <td>VARIABLE</td>\n      <td>0x0ab87046fbb341d058f17cbc4c1133f25a20a52f</td>\n      <td>Governance OHM</td>\n      <td>gOHM</td>\n      <td>18</td>\n      <td>2838.193286</td>\n      <td>50749991834761030902</td>\n      <td>145833.530065</td>\n      <td>deposit</td>\n    </tr>\n  </tbody>\n</table>\n</div>"
     },
     "execution_count": 937,
     "metadata": {},
     "output_type": "execute_result"
    }
   ],
   "source": [
    "siloDepositsDb.head(10)"
   ],
   "metadata": {
    "collapsed": false
   }
  },
  {
   "cell_type": "code",
   "execution_count": 940,
   "outputs": [
    {
     "data": {
      "text/plain": "       event                                   transaction_hash  \\\n0    deposit  0xecd6140bbb896413a25d34ca87f5503b56c444f1e582...   \n6    deposit  0x54cd3f5374780bceaffae0661e2688eeca47df22b8aa...   \n30   deposit  0xe5163797f0922e4bded89126a213296a8c3d270a39e2...   \n36   deposit  0xcc5e09e1e5c403b6925fa25f0410388de72ef1b45f30...   \n42   deposit  0xf5439a3f94551476ec68db02d6f577a2856d01f45691...   \n48   deposit  0x3069fa3e9834fd75b4eaae5d1ef1a7910b112ed68e5f...   \n60   deposit  0x17d879ec97730987652b5bcb00aaf6115b7dd232aaef...   \n66   deposit  0xff978d5e58c65cbc9d73fbf58f44166724c2db0f0706...   \n78   deposit  0x669ce641c8adcf855d5ea4fedda6b52fc63795fd0dd6...   \n84   deposit  0x204aee0831212791916d6ed3a2c24b5ac2a474743713...   \n90   deposit  0x6921d4de2e5fd797205f66357da959b3e4922760d131...   \n96   deposit  0x0efd7820596c58c44eb2a8cd9f825fa98fd0d7a3d1d3...   \n102  deposit  0x80f329fe4643c04ee8f7bc201533d5bd5387ac564fe8...   \n108  deposit  0x890da67cbb9ec7e781f0a8feb115ff7a590de57e00ce...   \n114  deposit  0xb1a1646acf062ec3c3d9884adf46bef38f00728ca2fa...   \n120  deposit  0x35d5e6734b990e7e7e6493344db464f86e9fe2318e7b...   \n126  deposit  0x1d2652b56d4d7ae72e952e68a3e0018bdbebdca8dd59...   \n132  deposit  0x4d72e2a5ca35d7b76faecafddc8dce2368081f6c6a52...   \n138  deposit  0x2051da675e864d363e7159d1e0084e45535e785b5ae6...   \n150  deposit  0x52365addba1ce6381c7ab6220b9a6eed6e26efa1b813...   \n156  deposit  0x976fb2b1e49590c04707140f0a1bce4465fda42dfe9c...   \n162  deposit  0x7811e7757339551966af37751af4b56c16a3e141d682...   \n168  deposit  0xc094064b1815d07ca696c614f45dffbb054d2e5d5954...   \n174  deposit  0xe32fe96626d39b1369922f9b678bdeff75eb6aeac561...   \n180  deposit  0x2f2117e1cc385bc67b93a53beb27c7b34865628bd35b...   \n192  deposit  0x7c831909c84d8b801b25a2a939ec2a6d08e7155fac91...   \n204  deposit  0x8966de52cc08fd866ff4e826c3ed12e04cb608e9dd94...   \n216  deposit  0x6336bd34049973ffbb71cafed76314b5175e35f2968b...   \n228  deposit  0x671eeedcc2230a697d59627ca9b009802111fd5c2c0b...   \n240  deposit  0x6c4f8bc5f49d55b317c6a9ed6d523a662df0c9b330a7...   \n264  deposit  0x53d9eed3930a371dbd133a9260a3ad8d5e7d3c4e446a...   \n270  deposit  0x816d41605087393280db2cf4083d1126a9b62542f79c...   \n288  deposit  0xd764e02abd36815b90d310332ff2a1e99842b8c4f6b5...   \n\n     transaction_blockNumber  transaction_timestamp  \\\n0                   16651409             1676673263   \n6                   16641740             1676555939   \n30                  16627499             1676383883   \n36                  16627469             1676383523   \n42                  16623070             1676330339   \n48                  16623049             1676330087   \n60                  16619969             1676292887   \n66                  16601490             1676069891   \n78                  16590634             1675938899   \n84                  16589368             1675923587   \n90                  16589333             1675923167   \n96                  16588623             1675914623   \n102                 16586156             1675884863   \n108                 16585903             1675881767   \n114                 16580081             1675811315   \n120                 16579812             1675808087   \n126                 16579684             1675806539   \n132                 16574706             1675746299   \n138                 16573196             1675728083   \n150                 16533352             1675247075   \n156                 16505276             1674908423   \n162                 16366137             1673229911   \n168                 16235576             1671655835   \n174                 16204963             1671286691   \n180                 16190043             1671106691   \n192                 16176119             1670938607   \n204                 16173486             1670906771   \n216                 16171813             1670886587   \n228                 16171336             1670880839   \n240                 16170980             1670876567   \n264                 16036013             1669246751   \n270                 16036005             1669246655   \n288                 16034616             1669229711   \n\n                         transaction_account_id  \\\n0    0xd33e76d21d32c21811593ae54e38f68df0cfe8ed   \n6    0xee95e4cf086fc80df7ae0f39dfc9ea53a3eaadcb   \n30   0xc0b1f200aa9546ce074397bed7438bb2ec033877   \n36   0xc0b1f200aa9546ce074397bed7438bb2ec033877   \n42   0xc0b1f200aa9546ce074397bed7438bb2ec033877   \n48   0xc0b1f200aa9546ce074397bed7438bb2ec033877   \n60   0xc0b1f200aa9546ce074397bed7438bb2ec033877   \n66   0xa7daeb7fc210f934508c8c7ce833a2cdd6630fb3   \n78   0x51bc3dd10a9ee4946f961038cf5d50057e49eb77   \n84   0xb0399dac8f4d4100b49b2a7b3873481114229d18   \n90   0xb0399dac8f4d4100b49b2a7b3873481114229d18   \n96   0x804157889ac56a4e50278610c67960c1605a3264   \n102  0x16ff8ad104fa6195260a6d4a3f311c5f120df77d   \n108  0xfe9d1bd54e344dc8c4bd93e7935e39af452e5d41   \n114  0xb86cd2efc1f461beee8deec2c3f053ccb2781ef9   \n120  0x0493bcca897a2248ae3cd4c66aea90dbfc7e13c6   \n126  0x96035b45bc0d22f0ed11283a91145fb001c48370   \n132  0x6487d336bdec94d4714a4d217b15aa5c7b9dfa99   \n138  0x36125234dd6c7d0a01dcadc67e79e061d405098e   \n150  0x339fd7c17ce670e7821f2f2ee94ddd49771483da   \n156  0x42daeb9ca091e3933c8ee93c029701b926b1f336   \n162  0x25fdda95197f804316f5ba8dbb66ac173ee19981   \n168  0xdedcf5806c4968c6397eee97e68047bda339d0c1   \n174  0x44504ba8d43b30e882503948654e247b928bcc7f   \n180  0x96035b45bc0d22f0ed11283a91145fb001c48370   \n192  0x791d1ec51d931186c1d4b80e753b7155dd98f741   \n204  0x339fd7c17ce670e7821f2f2ee94ddd49771483da   \n216  0x1ba67f30e25fc43863b50047d7fd4bd63b9c59ec   \n228  0x3985caf03eef8f885edb1f8358143bdf08d8d48b   \n240  0xee1520f94f304e8d551cbf310fe214212e3ca34a   \n264  0xd3064611b24eba7a6dbcbc26c1b35dfee1170880   \n270  0xd3064611b24eba7a6dbcbc26c1b35dfee1170880   \n288  0x62a4a8f9f5f3aae9ee9cee780285a0d501c12d09   \n\n                          transaction_market_id transaction_asset_name  \\\n0    0xc413dd03555f3eb29d834b482d386b2999dc2eb0         Governance OHM   \n6    0xc413dd03555f3eb29d834b482d386b2999dc2eb0         Governance OHM   \n30   0xc413dd03555f3eb29d834b482d386b2999dc2eb0         Governance OHM   \n36   0xc413dd03555f3eb29d834b482d386b2999dc2eb0         Governance OHM   \n42   0xc413dd03555f3eb29d834b482d386b2999dc2eb0         Governance OHM   \n48   0xc413dd03555f3eb29d834b482d386b2999dc2eb0         Governance OHM   \n60   0xc413dd03555f3eb29d834b482d386b2999dc2eb0         Governance OHM   \n66   0xc413dd03555f3eb29d834b482d386b2999dc2eb0         Governance OHM   \n78   0xc413dd03555f3eb29d834b482d386b2999dc2eb0         Governance OHM   \n84   0xc413dd03555f3eb29d834b482d386b2999dc2eb0         Governance OHM   \n90   0xc413dd03555f3eb29d834b482d386b2999dc2eb0         Governance OHM   \n96   0xc413dd03555f3eb29d834b482d386b2999dc2eb0         Governance OHM   \n102  0xc413dd03555f3eb29d834b482d386b2999dc2eb0         Governance OHM   \n108  0xc413dd03555f3eb29d834b482d386b2999dc2eb0         Governance OHM   \n114  0xc413dd03555f3eb29d834b482d386b2999dc2eb0         Governance OHM   \n120  0xc413dd03555f3eb29d834b482d386b2999dc2eb0         Governance OHM   \n126  0xc413dd03555f3eb29d834b482d386b2999dc2eb0         Governance OHM   \n132  0xc413dd03555f3eb29d834b482d386b2999dc2eb0         Governance OHM   \n138  0xc413dd03555f3eb29d834b482d386b2999dc2eb0         Governance OHM   \n150  0xc413dd03555f3eb29d834b482d386b2999dc2eb0         Governance OHM   \n156  0xc413dd03555f3eb29d834b482d386b2999dc2eb0         Governance OHM   \n162  0xc413dd03555f3eb29d834b482d386b2999dc2eb0         Governance OHM   \n168  0xc413dd03555f3eb29d834b482d386b2999dc2eb0         Governance OHM   \n174  0xc413dd03555f3eb29d834b482d386b2999dc2eb0         Governance OHM   \n180  0xc413dd03555f3eb29d834b482d386b2999dc2eb0         Governance OHM   \n192  0xc413dd03555f3eb29d834b482d386b2999dc2eb0         Governance OHM   \n204  0xc413dd03555f3eb29d834b482d386b2999dc2eb0         Governance OHM   \n216  0xc413dd03555f3eb29d834b482d386b2999dc2eb0         Governance OHM   \n228  0xc413dd03555f3eb29d834b482d386b2999dc2eb0         Governance OHM   \n240  0xc413dd03555f3eb29d834b482d386b2999dc2eb0         Governance OHM   \n264  0xc413dd03555f3eb29d834b482d386b2999dc2eb0         Governance OHM   \n270  0xc413dd03555f3eb29d834b482d386b2999dc2eb0         Governance OHM   \n288  0xc413dd03555f3eb29d834b482d386b2999dc2eb0         Governance OHM   \n\n    transaction_asset_symbol  transactionReadableAmount  \\\n0                       gOHM                  48.922199   \n6                       gOHM                  50.749992   \n30                      gOHM                   0.180346   \n36                      gOHM                   0.663108   \n42                      gOHM                   0.892669   \n48                      gOHM                   1.087799   \n60                      gOHM                   1.812154   \n66                      gOHM                   0.137814   \n78                      gOHM                   9.990000   \n84                      gOHM                 119.000000   \n90                      gOHM                   1.000000   \n96                      gOHM                   0.642960   \n102                     gOHM                   2.500000   \n108                     gOHM                   0.212373   \n114                     gOHM                   4.332179   \n120                     gOHM                  25.000000   \n126                     gOHM                  12.000668   \n132                     gOHM                   6.076244   \n138                     gOHM                  14.004861   \n150                     gOHM                   4.000000   \n156                     gOHM                   5.886017   \n162                     gOHM                   2.252766   \n168                     gOHM                   0.020000   \n174                     gOHM                   0.500000   \n180                     gOHM                  13.520668   \n192                     gOHM                   0.020000   \n204                     gOHM                   8.000000   \n216                     gOHM                   8.000000   \n228                     gOHM                   2.726128   \n240                     gOHM                  20.000000   \n264                     gOHM                   0.025140   \n270                     gOHM                   0.143100   \n288                     gOHM                   0.182000   \n\n     transaction_asset_lastPriceUSD  transaction_amountUSD  \\\n0                       2838.193286          138354.126796   \n6                       2838.193286          145833.530065   \n30                      2838.193286             490.375269   \n36                      2838.193286            1803.040025   \n42                      2838.193286            2431.527276   \n48                      2838.193286            2963.036715   \n60                      2838.193286            4846.273689   \n66                      2838.193286             363.447391   \n78                      2838.193286           26839.810526   \n84                      2838.193286          315110.337935   \n90                      2838.193286            2647.986033   \n96                      2838.193286            1702.439777   \n102                     2838.193286            6698.944104   \n108                     2838.193286             569.069520   \n114                     2838.193286           11511.647778   \n120                     2838.193286           66431.050909   \n126                     2838.193286           31888.680212   \n132                     2838.193286           16073.922152   \n138                     2838.193286           36670.028837   \n150                     2838.193286           10545.308750   \n156                     2838.193286           15207.964344   \n162                     2838.193286            5812.081890   \n168                     2838.193286              49.949341   \n174                     2838.193286            1242.431255   \n180                     2838.193286           33635.737994   \n192                     2838.193286              51.410624   \n204                     2838.193286           20081.385730   \n216                     2838.193286           20080.083584   \n228                     2838.193286            6842.610869   \n240                     2838.193286           49117.375038   \n264                     2838.193286              56.029673   \n270                     2838.193286             318.832191   \n288                     2838.193286             398.921247   \n\n               dateTime    calDate  \n0   2023-02-17 22:34:23 2023-02-17  \n6   2023-02-16 13:58:59 2023-02-16  \n30  2023-02-14 14:11:23 2023-02-14  \n36  2023-02-14 14:05:23 2023-02-14  \n42  2023-02-13 23:18:59 2023-02-13  \n48  2023-02-13 23:14:47 2023-02-13  \n60  2023-02-13 12:54:47 2023-02-13  \n66  2023-02-10 22:58:11 2023-02-10  \n78  2023-02-09 10:34:59 2023-02-09  \n84  2023-02-09 06:19:47 2023-02-09  \n90  2023-02-09 06:12:47 2023-02-09  \n96  2023-02-09 03:50:23 2023-02-09  \n102 2023-02-08 19:34:23 2023-02-08  \n108 2023-02-08 18:42:47 2023-02-08  \n114 2023-02-07 23:08:35 2023-02-07  \n120 2023-02-07 22:14:47 2023-02-07  \n126 2023-02-07 21:48:59 2023-02-07  \n132 2023-02-07 05:04:59 2023-02-07  \n138 2023-02-07 00:01:23 2023-02-07  \n150 2023-02-01 10:24:35 2023-02-01  \n156 2023-01-28 12:20:23 2023-01-28  \n162 2023-01-09 02:05:11 2023-01-09  \n168 2022-12-21 20:50:35 2022-12-21  \n174 2022-12-17 14:18:11 2022-12-17  \n180 2022-12-15 12:18:11 2022-12-15  \n192 2022-12-13 13:36:47 2022-12-13  \n204 2022-12-13 04:46:11 2022-12-13  \n216 2022-12-12 23:09:47 2022-12-12  \n228 2022-12-12 21:33:59 2022-12-12  \n240 2022-12-12 20:22:47 2022-12-12  \n264 2022-11-23 23:39:11 2022-11-23  \n270 2022-11-23 23:37:35 2022-11-23  \n288 2022-11-23 18:55:11 2022-11-23  ",
      "text/html": "<div>\n<style scoped>\n    .dataframe tbody tr th:only-of-type {\n        vertical-align: middle;\n    }\n\n    .dataframe tbody tr th {\n        vertical-align: top;\n    }\n\n    .dataframe thead th {\n        text-align: right;\n    }\n</style>\n<table border=\"1\" class=\"dataframe\">\n  <thead>\n    <tr style=\"text-align: right;\">\n      <th></th>\n      <th>event</th>\n      <th>transaction_hash</th>\n      <th>transaction_blockNumber</th>\n      <th>transaction_timestamp</th>\n      <th>transaction_account_id</th>\n      <th>transaction_market_id</th>\n      <th>transaction_asset_name</th>\n      <th>transaction_asset_symbol</th>\n      <th>transactionReadableAmount</th>\n      <th>transaction_asset_lastPriceUSD</th>\n      <th>transaction_amountUSD</th>\n      <th>dateTime</th>\n      <th>calDate</th>\n    </tr>\n  </thead>\n  <tbody>\n    <tr>\n      <th>0</th>\n      <td>deposit</td>\n      <td>0xecd6140bbb896413a25d34ca87f5503b56c444f1e582...</td>\n      <td>16651409</td>\n      <td>1676673263</td>\n      <td>0xd33e76d21d32c21811593ae54e38f68df0cfe8ed</td>\n      <td>0xc413dd03555f3eb29d834b482d386b2999dc2eb0</td>\n      <td>Governance OHM</td>\n      <td>gOHM</td>\n      <td>48.922199</td>\n      <td>2838.193286</td>\n      <td>138354.126796</td>\n      <td>2023-02-17 22:34:23</td>\n      <td>2023-02-17</td>\n    </tr>\n    <tr>\n      <th>6</th>\n      <td>deposit</td>\n      <td>0x54cd3f5374780bceaffae0661e2688eeca47df22b8aa...</td>\n      <td>16641740</td>\n      <td>1676555939</td>\n      <td>0xee95e4cf086fc80df7ae0f39dfc9ea53a3eaadcb</td>\n      <td>0xc413dd03555f3eb29d834b482d386b2999dc2eb0</td>\n      <td>Governance OHM</td>\n      <td>gOHM</td>\n      <td>50.749992</td>\n      <td>2838.193286</td>\n      <td>145833.530065</td>\n      <td>2023-02-16 13:58:59</td>\n      <td>2023-02-16</td>\n    </tr>\n    <tr>\n      <th>30</th>\n      <td>deposit</td>\n      <td>0xe5163797f0922e4bded89126a213296a8c3d270a39e2...</td>\n      <td>16627499</td>\n      <td>1676383883</td>\n      <td>0xc0b1f200aa9546ce074397bed7438bb2ec033877</td>\n      <td>0xc413dd03555f3eb29d834b482d386b2999dc2eb0</td>\n      <td>Governance OHM</td>\n      <td>gOHM</td>\n      <td>0.180346</td>\n      <td>2838.193286</td>\n      <td>490.375269</td>\n      <td>2023-02-14 14:11:23</td>\n      <td>2023-02-14</td>\n    </tr>\n    <tr>\n      <th>36</th>\n      <td>deposit</td>\n      <td>0xcc5e09e1e5c403b6925fa25f0410388de72ef1b45f30...</td>\n      <td>16627469</td>\n      <td>1676383523</td>\n      <td>0xc0b1f200aa9546ce074397bed7438bb2ec033877</td>\n      <td>0xc413dd03555f3eb29d834b482d386b2999dc2eb0</td>\n      <td>Governance OHM</td>\n      <td>gOHM</td>\n      <td>0.663108</td>\n      <td>2838.193286</td>\n      <td>1803.040025</td>\n      <td>2023-02-14 14:05:23</td>\n      <td>2023-02-14</td>\n    </tr>\n    <tr>\n      <th>42</th>\n      <td>deposit</td>\n      <td>0xf5439a3f94551476ec68db02d6f577a2856d01f45691...</td>\n      <td>16623070</td>\n      <td>1676330339</td>\n      <td>0xc0b1f200aa9546ce074397bed7438bb2ec033877</td>\n      <td>0xc413dd03555f3eb29d834b482d386b2999dc2eb0</td>\n      <td>Governance OHM</td>\n      <td>gOHM</td>\n      <td>0.892669</td>\n      <td>2838.193286</td>\n      <td>2431.527276</td>\n      <td>2023-02-13 23:18:59</td>\n      <td>2023-02-13</td>\n    </tr>\n    <tr>\n      <th>48</th>\n      <td>deposit</td>\n      <td>0x3069fa3e9834fd75b4eaae5d1ef1a7910b112ed68e5f...</td>\n      <td>16623049</td>\n      <td>1676330087</td>\n      <td>0xc0b1f200aa9546ce074397bed7438bb2ec033877</td>\n      <td>0xc413dd03555f3eb29d834b482d386b2999dc2eb0</td>\n      <td>Governance OHM</td>\n      <td>gOHM</td>\n      <td>1.087799</td>\n      <td>2838.193286</td>\n      <td>2963.036715</td>\n      <td>2023-02-13 23:14:47</td>\n      <td>2023-02-13</td>\n    </tr>\n    <tr>\n      <th>60</th>\n      <td>deposit</td>\n      <td>0x17d879ec97730987652b5bcb00aaf6115b7dd232aaef...</td>\n      <td>16619969</td>\n      <td>1676292887</td>\n      <td>0xc0b1f200aa9546ce074397bed7438bb2ec033877</td>\n      <td>0xc413dd03555f3eb29d834b482d386b2999dc2eb0</td>\n      <td>Governance OHM</td>\n      <td>gOHM</td>\n      <td>1.812154</td>\n      <td>2838.193286</td>\n      <td>4846.273689</td>\n      <td>2023-02-13 12:54:47</td>\n      <td>2023-02-13</td>\n    </tr>\n    <tr>\n      <th>66</th>\n      <td>deposit</td>\n      <td>0xff978d5e58c65cbc9d73fbf58f44166724c2db0f0706...</td>\n      <td>16601490</td>\n      <td>1676069891</td>\n      <td>0xa7daeb7fc210f934508c8c7ce833a2cdd6630fb3</td>\n      <td>0xc413dd03555f3eb29d834b482d386b2999dc2eb0</td>\n      <td>Governance OHM</td>\n      <td>gOHM</td>\n      <td>0.137814</td>\n      <td>2838.193286</td>\n      <td>363.447391</td>\n      <td>2023-02-10 22:58:11</td>\n      <td>2023-02-10</td>\n    </tr>\n    <tr>\n      <th>78</th>\n      <td>deposit</td>\n      <td>0x669ce641c8adcf855d5ea4fedda6b52fc63795fd0dd6...</td>\n      <td>16590634</td>\n      <td>1675938899</td>\n      <td>0x51bc3dd10a9ee4946f961038cf5d50057e49eb77</td>\n      <td>0xc413dd03555f3eb29d834b482d386b2999dc2eb0</td>\n      <td>Governance OHM</td>\n      <td>gOHM</td>\n      <td>9.990000</td>\n      <td>2838.193286</td>\n      <td>26839.810526</td>\n      <td>2023-02-09 10:34:59</td>\n      <td>2023-02-09</td>\n    </tr>\n    <tr>\n      <th>84</th>\n      <td>deposit</td>\n      <td>0x204aee0831212791916d6ed3a2c24b5ac2a474743713...</td>\n      <td>16589368</td>\n      <td>1675923587</td>\n      <td>0xb0399dac8f4d4100b49b2a7b3873481114229d18</td>\n      <td>0xc413dd03555f3eb29d834b482d386b2999dc2eb0</td>\n      <td>Governance OHM</td>\n      <td>gOHM</td>\n      <td>119.000000</td>\n      <td>2838.193286</td>\n      <td>315110.337935</td>\n      <td>2023-02-09 06:19:47</td>\n      <td>2023-02-09</td>\n    </tr>\n    <tr>\n      <th>90</th>\n      <td>deposit</td>\n      <td>0x6921d4de2e5fd797205f66357da959b3e4922760d131...</td>\n      <td>16589333</td>\n      <td>1675923167</td>\n      <td>0xb0399dac8f4d4100b49b2a7b3873481114229d18</td>\n      <td>0xc413dd03555f3eb29d834b482d386b2999dc2eb0</td>\n      <td>Governance OHM</td>\n      <td>gOHM</td>\n      <td>1.000000</td>\n      <td>2838.193286</td>\n      <td>2647.986033</td>\n      <td>2023-02-09 06:12:47</td>\n      <td>2023-02-09</td>\n    </tr>\n    <tr>\n      <th>96</th>\n      <td>deposit</td>\n      <td>0x0efd7820596c58c44eb2a8cd9f825fa98fd0d7a3d1d3...</td>\n      <td>16588623</td>\n      <td>1675914623</td>\n      <td>0x804157889ac56a4e50278610c67960c1605a3264</td>\n      <td>0xc413dd03555f3eb29d834b482d386b2999dc2eb0</td>\n      <td>Governance OHM</td>\n      <td>gOHM</td>\n      <td>0.642960</td>\n      <td>2838.193286</td>\n      <td>1702.439777</td>\n      <td>2023-02-09 03:50:23</td>\n      <td>2023-02-09</td>\n    </tr>\n    <tr>\n      <th>102</th>\n      <td>deposit</td>\n      <td>0x80f329fe4643c04ee8f7bc201533d5bd5387ac564fe8...</td>\n      <td>16586156</td>\n      <td>1675884863</td>\n      <td>0x16ff8ad104fa6195260a6d4a3f311c5f120df77d</td>\n      <td>0xc413dd03555f3eb29d834b482d386b2999dc2eb0</td>\n      <td>Governance OHM</td>\n      <td>gOHM</td>\n      <td>2.500000</td>\n      <td>2838.193286</td>\n      <td>6698.944104</td>\n      <td>2023-02-08 19:34:23</td>\n      <td>2023-02-08</td>\n    </tr>\n    <tr>\n      <th>108</th>\n      <td>deposit</td>\n      <td>0x890da67cbb9ec7e781f0a8feb115ff7a590de57e00ce...</td>\n      <td>16585903</td>\n      <td>1675881767</td>\n      <td>0xfe9d1bd54e344dc8c4bd93e7935e39af452e5d41</td>\n      <td>0xc413dd03555f3eb29d834b482d386b2999dc2eb0</td>\n      <td>Governance OHM</td>\n      <td>gOHM</td>\n      <td>0.212373</td>\n      <td>2838.193286</td>\n      <td>569.069520</td>\n      <td>2023-02-08 18:42:47</td>\n      <td>2023-02-08</td>\n    </tr>\n    <tr>\n      <th>114</th>\n      <td>deposit</td>\n      <td>0xb1a1646acf062ec3c3d9884adf46bef38f00728ca2fa...</td>\n      <td>16580081</td>\n      <td>1675811315</td>\n      <td>0xb86cd2efc1f461beee8deec2c3f053ccb2781ef9</td>\n      <td>0xc413dd03555f3eb29d834b482d386b2999dc2eb0</td>\n      <td>Governance OHM</td>\n      <td>gOHM</td>\n      <td>4.332179</td>\n      <td>2838.193286</td>\n      <td>11511.647778</td>\n      <td>2023-02-07 23:08:35</td>\n      <td>2023-02-07</td>\n    </tr>\n    <tr>\n      <th>120</th>\n      <td>deposit</td>\n      <td>0x35d5e6734b990e7e7e6493344db464f86e9fe2318e7b...</td>\n      <td>16579812</td>\n      <td>1675808087</td>\n      <td>0x0493bcca897a2248ae3cd4c66aea90dbfc7e13c6</td>\n      <td>0xc413dd03555f3eb29d834b482d386b2999dc2eb0</td>\n      <td>Governance OHM</td>\n      <td>gOHM</td>\n      <td>25.000000</td>\n      <td>2838.193286</td>\n      <td>66431.050909</td>\n      <td>2023-02-07 22:14:47</td>\n      <td>2023-02-07</td>\n    </tr>\n    <tr>\n      <th>126</th>\n      <td>deposit</td>\n      <td>0x1d2652b56d4d7ae72e952e68a3e0018bdbebdca8dd59...</td>\n      <td>16579684</td>\n      <td>1675806539</td>\n      <td>0x96035b45bc0d22f0ed11283a91145fb001c48370</td>\n      <td>0xc413dd03555f3eb29d834b482d386b2999dc2eb0</td>\n      <td>Governance OHM</td>\n      <td>gOHM</td>\n      <td>12.000668</td>\n      <td>2838.193286</td>\n      <td>31888.680212</td>\n      <td>2023-02-07 21:48:59</td>\n      <td>2023-02-07</td>\n    </tr>\n    <tr>\n      <th>132</th>\n      <td>deposit</td>\n      <td>0x4d72e2a5ca35d7b76faecafddc8dce2368081f6c6a52...</td>\n      <td>16574706</td>\n      <td>1675746299</td>\n      <td>0x6487d336bdec94d4714a4d217b15aa5c7b9dfa99</td>\n      <td>0xc413dd03555f3eb29d834b482d386b2999dc2eb0</td>\n      <td>Governance OHM</td>\n      <td>gOHM</td>\n      <td>6.076244</td>\n      <td>2838.193286</td>\n      <td>16073.922152</td>\n      <td>2023-02-07 05:04:59</td>\n      <td>2023-02-07</td>\n    </tr>\n    <tr>\n      <th>138</th>\n      <td>deposit</td>\n      <td>0x2051da675e864d363e7159d1e0084e45535e785b5ae6...</td>\n      <td>16573196</td>\n      <td>1675728083</td>\n      <td>0x36125234dd6c7d0a01dcadc67e79e061d405098e</td>\n      <td>0xc413dd03555f3eb29d834b482d386b2999dc2eb0</td>\n      <td>Governance OHM</td>\n      <td>gOHM</td>\n      <td>14.004861</td>\n      <td>2838.193286</td>\n      <td>36670.028837</td>\n      <td>2023-02-07 00:01:23</td>\n      <td>2023-02-07</td>\n    </tr>\n    <tr>\n      <th>150</th>\n      <td>deposit</td>\n      <td>0x52365addba1ce6381c7ab6220b9a6eed6e26efa1b813...</td>\n      <td>16533352</td>\n      <td>1675247075</td>\n      <td>0x339fd7c17ce670e7821f2f2ee94ddd49771483da</td>\n      <td>0xc413dd03555f3eb29d834b482d386b2999dc2eb0</td>\n      <td>Governance OHM</td>\n      <td>gOHM</td>\n      <td>4.000000</td>\n      <td>2838.193286</td>\n      <td>10545.308750</td>\n      <td>2023-02-01 10:24:35</td>\n      <td>2023-02-01</td>\n    </tr>\n    <tr>\n      <th>156</th>\n      <td>deposit</td>\n      <td>0x976fb2b1e49590c04707140f0a1bce4465fda42dfe9c...</td>\n      <td>16505276</td>\n      <td>1674908423</td>\n      <td>0x42daeb9ca091e3933c8ee93c029701b926b1f336</td>\n      <td>0xc413dd03555f3eb29d834b482d386b2999dc2eb0</td>\n      <td>Governance OHM</td>\n      <td>gOHM</td>\n      <td>5.886017</td>\n      <td>2838.193286</td>\n      <td>15207.964344</td>\n      <td>2023-01-28 12:20:23</td>\n      <td>2023-01-28</td>\n    </tr>\n    <tr>\n      <th>162</th>\n      <td>deposit</td>\n      <td>0x7811e7757339551966af37751af4b56c16a3e141d682...</td>\n      <td>16366137</td>\n      <td>1673229911</td>\n      <td>0x25fdda95197f804316f5ba8dbb66ac173ee19981</td>\n      <td>0xc413dd03555f3eb29d834b482d386b2999dc2eb0</td>\n      <td>Governance OHM</td>\n      <td>gOHM</td>\n      <td>2.252766</td>\n      <td>2838.193286</td>\n      <td>5812.081890</td>\n      <td>2023-01-09 02:05:11</td>\n      <td>2023-01-09</td>\n    </tr>\n    <tr>\n      <th>168</th>\n      <td>deposit</td>\n      <td>0xc094064b1815d07ca696c614f45dffbb054d2e5d5954...</td>\n      <td>16235576</td>\n      <td>1671655835</td>\n      <td>0xdedcf5806c4968c6397eee97e68047bda339d0c1</td>\n      <td>0xc413dd03555f3eb29d834b482d386b2999dc2eb0</td>\n      <td>Governance OHM</td>\n      <td>gOHM</td>\n      <td>0.020000</td>\n      <td>2838.193286</td>\n      <td>49.949341</td>\n      <td>2022-12-21 20:50:35</td>\n      <td>2022-12-21</td>\n    </tr>\n    <tr>\n      <th>174</th>\n      <td>deposit</td>\n      <td>0xe32fe96626d39b1369922f9b678bdeff75eb6aeac561...</td>\n      <td>16204963</td>\n      <td>1671286691</td>\n      <td>0x44504ba8d43b30e882503948654e247b928bcc7f</td>\n      <td>0xc413dd03555f3eb29d834b482d386b2999dc2eb0</td>\n      <td>Governance OHM</td>\n      <td>gOHM</td>\n      <td>0.500000</td>\n      <td>2838.193286</td>\n      <td>1242.431255</td>\n      <td>2022-12-17 14:18:11</td>\n      <td>2022-12-17</td>\n    </tr>\n    <tr>\n      <th>180</th>\n      <td>deposit</td>\n      <td>0x2f2117e1cc385bc67b93a53beb27c7b34865628bd35b...</td>\n      <td>16190043</td>\n      <td>1671106691</td>\n      <td>0x96035b45bc0d22f0ed11283a91145fb001c48370</td>\n      <td>0xc413dd03555f3eb29d834b482d386b2999dc2eb0</td>\n      <td>Governance OHM</td>\n      <td>gOHM</td>\n      <td>13.520668</td>\n      <td>2838.193286</td>\n      <td>33635.737994</td>\n      <td>2022-12-15 12:18:11</td>\n      <td>2022-12-15</td>\n    </tr>\n    <tr>\n      <th>192</th>\n      <td>deposit</td>\n      <td>0x7c831909c84d8b801b25a2a939ec2a6d08e7155fac91...</td>\n      <td>16176119</td>\n      <td>1670938607</td>\n      <td>0x791d1ec51d931186c1d4b80e753b7155dd98f741</td>\n      <td>0xc413dd03555f3eb29d834b482d386b2999dc2eb0</td>\n      <td>Governance OHM</td>\n      <td>gOHM</td>\n      <td>0.020000</td>\n      <td>2838.193286</td>\n      <td>51.410624</td>\n      <td>2022-12-13 13:36:47</td>\n      <td>2022-12-13</td>\n    </tr>\n    <tr>\n      <th>204</th>\n      <td>deposit</td>\n      <td>0x8966de52cc08fd866ff4e826c3ed12e04cb608e9dd94...</td>\n      <td>16173486</td>\n      <td>1670906771</td>\n      <td>0x339fd7c17ce670e7821f2f2ee94ddd49771483da</td>\n      <td>0xc413dd03555f3eb29d834b482d386b2999dc2eb0</td>\n      <td>Governance OHM</td>\n      <td>gOHM</td>\n      <td>8.000000</td>\n      <td>2838.193286</td>\n      <td>20081.385730</td>\n      <td>2022-12-13 04:46:11</td>\n      <td>2022-12-13</td>\n    </tr>\n    <tr>\n      <th>216</th>\n      <td>deposit</td>\n      <td>0x6336bd34049973ffbb71cafed76314b5175e35f2968b...</td>\n      <td>16171813</td>\n      <td>1670886587</td>\n      <td>0x1ba67f30e25fc43863b50047d7fd4bd63b9c59ec</td>\n      <td>0xc413dd03555f3eb29d834b482d386b2999dc2eb0</td>\n      <td>Governance OHM</td>\n      <td>gOHM</td>\n      <td>8.000000</td>\n      <td>2838.193286</td>\n      <td>20080.083584</td>\n      <td>2022-12-12 23:09:47</td>\n      <td>2022-12-12</td>\n    </tr>\n    <tr>\n      <th>228</th>\n      <td>deposit</td>\n      <td>0x671eeedcc2230a697d59627ca9b009802111fd5c2c0b...</td>\n      <td>16171336</td>\n      <td>1670880839</td>\n      <td>0x3985caf03eef8f885edb1f8358143bdf08d8d48b</td>\n      <td>0xc413dd03555f3eb29d834b482d386b2999dc2eb0</td>\n      <td>Governance OHM</td>\n      <td>gOHM</td>\n      <td>2.726128</td>\n      <td>2838.193286</td>\n      <td>6842.610869</td>\n      <td>2022-12-12 21:33:59</td>\n      <td>2022-12-12</td>\n    </tr>\n    <tr>\n      <th>240</th>\n      <td>deposit</td>\n      <td>0x6c4f8bc5f49d55b317c6a9ed6d523a662df0c9b330a7...</td>\n      <td>16170980</td>\n      <td>1670876567</td>\n      <td>0xee1520f94f304e8d551cbf310fe214212e3ca34a</td>\n      <td>0xc413dd03555f3eb29d834b482d386b2999dc2eb0</td>\n      <td>Governance OHM</td>\n      <td>gOHM</td>\n      <td>20.000000</td>\n      <td>2838.193286</td>\n      <td>49117.375038</td>\n      <td>2022-12-12 20:22:47</td>\n      <td>2022-12-12</td>\n    </tr>\n    <tr>\n      <th>264</th>\n      <td>deposit</td>\n      <td>0x53d9eed3930a371dbd133a9260a3ad8d5e7d3c4e446a...</td>\n      <td>16036013</td>\n      <td>1669246751</td>\n      <td>0xd3064611b24eba7a6dbcbc26c1b35dfee1170880</td>\n      <td>0xc413dd03555f3eb29d834b482d386b2999dc2eb0</td>\n      <td>Governance OHM</td>\n      <td>gOHM</td>\n      <td>0.025140</td>\n      <td>2838.193286</td>\n      <td>56.029673</td>\n      <td>2022-11-23 23:39:11</td>\n      <td>2022-11-23</td>\n    </tr>\n    <tr>\n      <th>270</th>\n      <td>deposit</td>\n      <td>0x816d41605087393280db2cf4083d1126a9b62542f79c...</td>\n      <td>16036005</td>\n      <td>1669246655</td>\n      <td>0xd3064611b24eba7a6dbcbc26c1b35dfee1170880</td>\n      <td>0xc413dd03555f3eb29d834b482d386b2999dc2eb0</td>\n      <td>Governance OHM</td>\n      <td>gOHM</td>\n      <td>0.143100</td>\n      <td>2838.193286</td>\n      <td>318.832191</td>\n      <td>2022-11-23 23:37:35</td>\n      <td>2022-11-23</td>\n    </tr>\n    <tr>\n      <th>288</th>\n      <td>deposit</td>\n      <td>0xd764e02abd36815b90d310332ff2a1e99842b8c4f6b5...</td>\n      <td>16034616</td>\n      <td>1669229711</td>\n      <td>0x62a4a8f9f5f3aae9ee9cee780285a0d501c12d09</td>\n      <td>0xc413dd03555f3eb29d834b482d386b2999dc2eb0</td>\n      <td>Governance OHM</td>\n      <td>gOHM</td>\n      <td>0.182000</td>\n      <td>2838.193286</td>\n      <td>398.921247</td>\n      <td>2022-11-23 18:55:11</td>\n      <td>2022-11-23</td>\n    </tr>\n  </tbody>\n</table>\n</div>"
     },
     "execution_count": 940,
     "metadata": {},
     "output_type": "execute_result"
    }
   ],
   "source": [
    "siloDepositsDb['event'] ='deposit'\n",
    "siloDepositsDb['transactionReadableAmount'] = siloDepositsDb['transaction_amount']/(10**(siloDepositsDb['transaction_asset_decimals']))\n",
    "siloDepositsDb['transactionReadableAmount']=siloDepositsDb['transactionReadableAmount'].astype('float')\n",
    "siloDepositsDb['dateTime'] =(pd.to_datetime(siloDepositsDb['transaction_timestamp'],unit='s'))\n",
    "\n",
    "\n",
    "#we only want deposits in GOHM from those that borrowed, so drop anyone that is not on that side\n",
    "siloDepositsDb.drop(siloDepositsDb.loc[siloDepositsDb['transaction_market_rates_side']!='BORROWER'].index, inplace=True)\n",
    "siloDepositsDb.drop(siloDepositsDb.loc[siloDepositsDb['transaction_asset_symbol']!='gOHM'].index, inplace=True)\n",
    "\n",
    "\n",
    "siloDepositEventsDbTimedClean = siloDepositsDb[['event','transaction_hash','transaction_blockNumber','transaction_timestamp','transaction_account_id','transaction_market_id','transaction_asset_name','transaction_asset_symbol', 'transactionReadableAmount','transaction_asset_lastPriceUSD','transaction_amountUSD','dateTime']].copy()\n",
    "siloDepositEventsDbTimedClean.sort_values(by=['event','transaction_hash','transaction_blockNumber','transaction_timestamp','transaction_account_id','transaction_market_id','transaction_asset_name','transaction_asset_symbol', 'transactionReadableAmount','transaction_asset_lastPriceUSD','transaction_amountUSD','dateTime'])\n",
    "siloDepositEventsDbTimedClean.drop_duplicates(subset=['transaction_hash'],keep='first', inplace=True)\n",
    "siloDepositEventsDbTimedClean['calDate'] = siloDepositEventsDbTimedClean['dateTime'].dt.normalize()\n",
    "siloDepositEventsDbTimedClean.head(1000)"
   ],
   "metadata": {
    "collapsed": false
   }
  },
  {
   "cell_type": "code",
   "execution_count": 941,
   "outputs": [
    {
     "name": "stdout",
     "output_type": "stream",
     "text": [
      "D:\\Dropbox\\Documents\\Edgecaser LLC\\Projects\\Olympus\\Econohmetrics\\gohmAsStablecoinCollateral/data/siloFinanceGohmDeposits_piped.csv file saved, 33  records\n"
     ]
    }
   ],
   "source": [
    "path =file+'/siloFinanceGohmDeposits.csv'\n",
    "siloDepositEventsDbTimedClean.to_csv(path, index = False)\n",
    "\n",
    "path =file+'/siloFinanceGohmDeposits_piped.csv'\n",
    "siloDepositEventsDbTimedClean.to_csv(path, index = False, sep='|')\n",
    "print(path, 'file saved,', len(siloDepositEventsDbTimedClean),' records')"
   ],
   "metadata": {
    "collapsed": false
   }
  },
  {
   "cell_type": "code",
   "execution_count": 943,
   "outputs": [
    {
     "name": "stdout",
     "output_type": "stream",
     "text": [
      "There has been a total of 364.48 gOHM deposited cumulatively as collateral  to date, about USD$ 976669.3975413579\n"
     ]
    }
   ],
   "source": [
    "totalDeposited = sum(siloDepositEventsDbTimedClean['transactionReadableAmount'])\n",
    "totalUSDDeposited = sum(siloDepositEventsDbTimedClean['transaction_amountUSD'])\n",
    "print('There has been a total of',round(totalDeposited,2),  'gOHM deposited cumulatively as collateral  to date, about USD$',totalUSDDeposited)"
   ],
   "metadata": {
    "collapsed": false
   }
  },
  {
   "cell_type": "markdown",
   "source": [
    "********************************************************************\n",
    "********************************************************************\n",
    "Now we need withdrawals to counter the deposits and see current state"
   ],
   "metadata": {
    "collapsed": false
   }
  },
  {
   "cell_type": "code",
   "execution_count": 946,
   "outputs": [
    {
     "data": {
      "text/plain": "Empty DataFrame\nColumns: []\nIndex: []",
      "text/html": "<div>\n<style scoped>\n    .dataframe tbody tr th:only-of-type {\n        vertical-align: middle;\n    }\n\n    .dataframe tbody tr th {\n        vertical-align: top;\n    }\n\n    .dataframe thead th {\n        text-align: right;\n    }\n</style>\n<table border=\"1\" class=\"dataframe\">\n  <thead>\n    <tr style=\"text-align: right;\">\n      <th></th>\n    </tr>\n  </thead>\n  <tbody>\n  </tbody>\n</table>\n</div>"
     },
     "execution_count": 946,
     "metadata": {},
     "output_type": "execute_result"
    }
   ],
   "source": [
    "oldSiloWithdrawsDb = pd.DataFrame()\n",
    "siloFileName = file+'/siloFinanceGohmWithdraws.csv'\n",
    "try:\n",
    "    oldSiloWithdrawsDb = pd.read_csv (siloFileName)\n",
    "except:\n",
    "    oldSiloWithdrawsDb = pd.DataFrame()\n",
    "oldSiloWithdrawsDb.head(100)"
   ],
   "metadata": {
    "collapsed": false
   }
  },
  {
   "cell_type": "code",
   "execution_count": 947,
   "outputs": [
    {
     "data": {
      "text/plain": "0"
     },
     "execution_count": 947,
     "metadata": {},
     "output_type": "execute_result"
    }
   ],
   "source": [
    "maxSiloWithdrawsTimestamp = 0\n",
    "try:\n",
    "    maxSiloWithdrawsTimestamp = (max(0,oldSiloWithdrawsDb['transaction_timestamp'].max()))-1\n",
    "except:\n",
    "        maxSiloWithdrawsTimestamp = 0\n",
    "maxSiloWithdrawsTimestamp = int(maxSiloWithdrawsTimestamp)\n",
    "maxSiloWithdrawsTimestamp"
   ],
   "metadata": {
    "collapsed": false
   }
  },
  {
   "cell_type": "code",
   "execution_count": 948,
   "outputs": [
    {
     "name": "stdout",
     "output_type": "stream",
     "text": [
      "iterations:  0 Lines skipped:  0 records collected:  144  - latest recordID:  0x6874260982e867567e9455254ce574aba7f95db4d6f82bc2485bd1b40a71a83e   0x6874260982e867567e9455254ce574aba7f95db4d6f82bc2485bd1b40a71a83e-347  - withdraws DB length:  144  - latest record from:  2023-02-15 14:58:59 4 days ago\n",
      "Done. Total Records collected:  144\n"
     ]
    }
   ],
   "source": [
    "##this captures the ENTIRE list of people who withdrawed OHM\n",
    "withdrawTicker = 0\n",
    "withdrawslist = pd.DataFrame()\n",
    "siloWithdrawsDb = pd.DataFrame()\n",
    "withdrawListLength = 1000\n",
    "datediff = 0\n",
    "now=0\n",
    "daysAgo=0\n",
    "daysLimit = 45\n",
    "exit = False\n",
    "while exit==False:\n",
    "    skipValue = (withdrawTicker)*(1000)\n",
    "    withdraws = silo.Query.withdraws(\n",
    "        orderBy='timestamp',\n",
    "        orderDirection='desc',\n",
    "        first=1000,\n",
    "        skip = skipValue,\n",
    "        where={ 'market': '0xc413dd03555f3eb29d834b482d386b2999dc2eb0'\n",
    "                ,'timestamp_gte': maxSiloWithdrawsTimestamp\n",
    "                } #gOHM market\n",
    "    )\n",
    "\n",
    "    withdrawslist = sg.query_df([\n",
    "        withdraws.id\n",
    "        ,withdraws.hash\n",
    "        ,withdraws.blockNumber\n",
    "        ,withdraws.timestamp\n",
    "        ,withdraws.account.id\n",
    "        ,withdraws.market.id\n",
    "        ,withdraws.market.protocol.id\n",
    "        ,withdraws.market.rates.rate\n",
    "        ,withdraws.market.rates.duration\n",
    "        ,withdraws.market.rates.side\n",
    "        ,withdraws.market.rates.type\n",
    "        ,withdraws.market.rates.token.id\n",
    "        ,withdraws.asset.name\n",
    "        ,withdraws.asset.symbol\n",
    "        ,withdraws.asset.decimals\n",
    "        ,withdraws.asset.lastPriceUSD\n",
    "        ,withdraws.amount\n",
    "        ,withdraws.amountUSD\n",
    "    ])\n",
    "\n",
    "    siloWithdrawsDb=pd.concat([siloWithdrawsDb, withdrawslist])\n",
    "    recordTimestamp1 = siloWithdrawsDb.iat[withdrawTicker,3]\n",
    "    recordTimestamp = dt.datetime.fromtimestamp( recordTimestamp1 )\n",
    "    now = (int(dt.datetime.utcnow().timestamp()))\n",
    "    datediff=abs(int(now) - recordTimestamp1)\n",
    "    daysAgo = int(datediff/86400)\n",
    "    silowithdrawsDbLength = len(siloWithdrawsDb)\n",
    "    silowithdrawListLength = len(withdrawslist)\n",
    "    recordID = siloWithdrawsDb.iat[withdrawTicker,0]\n",
    "    withdraw = siloWithdrawsDb.iat[withdrawTicker,1]\n",
    "    print(\"iterations: \", withdrawTicker, \"Lines skipped: \",skipValue, \"records collected: \", silowithdrawListLength, \" - latest recordID: \",withdraw, \" \", recordID , \" - withdraws DB length: \", silowithdrawsDbLength, \" - latest record from: \", recordTimestamp, daysAgo,\"days ago\")\n",
    "    #print(\"iterations: \", withdrawTicker, \"records collected: \", withdrawListLength, \" - userdb length: \", withdrawsDbLength)\n",
    "    withdrawTicker = withdrawTicker+1\n",
    "\n",
    "    if daysAgo>daysLimit: exit =True\n",
    "    if silowithdrawListLength<1000: exit =True\n",
    "\n",
    "siloWithdrawsDb.columns = siloWithdrawsDb.columns.str.replace(\"withdraws\", \"transaction\")\n",
    "siloWithdrawsDb['event']='withdraw'\n",
    "siloWithdrawsDb.drop_duplicates\n",
    "print(\"Done. Total Records collected: \", silowithdrawsDbLength)"
   ],
   "metadata": {
    "collapsed": false
   }
  },
  {
   "cell_type": "code",
   "execution_count": 949,
   "outputs": [
    {
     "data": {
      "text/plain": "                                        transaction_id  \\\n6    0xf4707edc29622f90030af624d1918ff5ae613cef90d8...   \n7    0xf4707edc29622f90030af624d1918ff5ae613cef90d8...   \n8    0xf4707edc29622f90030af624d1918ff5ae613cef90d8...   \n12   0x85b689883076aa92af0a2356f8e4084610578bb48590...   \n13   0x85b689883076aa92af0a2356f8e4084610578bb48590...   \n14   0x85b689883076aa92af0a2356f8e4084610578bb48590...   \n18   0xd931b79cfc34df088f325e8adde9122af7ad64a0ba30...   \n19   0xd931b79cfc34df088f325e8adde9122af7ad64a0ba30...   \n20   0xd931b79cfc34df088f325e8adde9122af7ad64a0ba30...   \n30   0xd4f7aeb47e1e07903a3e9298762bc164764fffb2f973...   \n31   0xd4f7aeb47e1e07903a3e9298762bc164764fffb2f973...   \n32   0xd4f7aeb47e1e07903a3e9298762bc164764fffb2f973...   \n42   0xc7193a2aa216c65fe82652e85b4adc20a60b274bd070...   \n43   0xc7193a2aa216c65fe82652e85b4adc20a60b274bd070...   \n44   0xc7193a2aa216c65fe82652e85b4adc20a60b274bd070...   \n48   0xed87a5e09b9abe135be66d51493eca516d78aaf1d4d5...   \n49   0xed87a5e09b9abe135be66d51493eca516d78aaf1d4d5...   \n50   0xed87a5e09b9abe135be66d51493eca516d78aaf1d4d5...   \n60   0xcfa1e8a102e407470f7cc479576cceab5f872c1a1377...   \n61   0xcfa1e8a102e407470f7cc479576cceab5f872c1a1377...   \n62   0xcfa1e8a102e407470f7cc479576cceab5f872c1a1377...   \n84   0xb8682e4d0d5fe1297f21ff66347debdfc75c3956612d...   \n85   0xb8682e4d0d5fe1297f21ff66347debdfc75c3956612d...   \n86   0xb8682e4d0d5fe1297f21ff66347debdfc75c3956612d...   \n96   0xcc9db9a7563b473c4b8e4ca0f4f7fb90ca709b022469...   \n97   0xcc9db9a7563b473c4b8e4ca0f4f7fb90ca709b022469...   \n98   0xcc9db9a7563b473c4b8e4ca0f4f7fb90ca709b022469...   \n102  0x7c24d04318da39f08c7ba4f8d413a487133ce1b1f117...   \n103  0x7c24d04318da39f08c7ba4f8d413a487133ce1b1f117...   \n104  0x7c24d04318da39f08c7ba4f8d413a487133ce1b1f117...   \n114  0x3cf3a5658c3ef1a247ec241370a3abfeb673251eafec...   \n115  0x3cf3a5658c3ef1a247ec241370a3abfeb673251eafec...   \n116  0x3cf3a5658c3ef1a247ec241370a3abfeb673251eafec...   \n138  0xbb87996c54ed5859d905c96b7b43212cdbc74b1c99aa...   \n139  0xbb87996c54ed5859d905c96b7b43212cdbc74b1c99aa...   \n140  0xbb87996c54ed5859d905c96b7b43212cdbc74b1c99aa...   \n\n                                      transaction_hash  \\\n6    0xf4707edc29622f90030af624d1918ff5ae613cef90d8...   \n7    0xf4707edc29622f90030af624d1918ff5ae613cef90d8...   \n8    0xf4707edc29622f90030af624d1918ff5ae613cef90d8...   \n12   0x85b689883076aa92af0a2356f8e4084610578bb48590...   \n13   0x85b689883076aa92af0a2356f8e4084610578bb48590...   \n14   0x85b689883076aa92af0a2356f8e4084610578bb48590...   \n18   0xd931b79cfc34df088f325e8adde9122af7ad64a0ba30...   \n19   0xd931b79cfc34df088f325e8adde9122af7ad64a0ba30...   \n20   0xd931b79cfc34df088f325e8adde9122af7ad64a0ba30...   \n30   0xd4f7aeb47e1e07903a3e9298762bc164764fffb2f973...   \n31   0xd4f7aeb47e1e07903a3e9298762bc164764fffb2f973...   \n32   0xd4f7aeb47e1e07903a3e9298762bc164764fffb2f973...   \n42   0xc7193a2aa216c65fe82652e85b4adc20a60b274bd070...   \n43   0xc7193a2aa216c65fe82652e85b4adc20a60b274bd070...   \n44   0xc7193a2aa216c65fe82652e85b4adc20a60b274bd070...   \n48   0xed87a5e09b9abe135be66d51493eca516d78aaf1d4d5...   \n49   0xed87a5e09b9abe135be66d51493eca516d78aaf1d4d5...   \n50   0xed87a5e09b9abe135be66d51493eca516d78aaf1d4d5...   \n60   0xcfa1e8a102e407470f7cc479576cceab5f872c1a1377...   \n61   0xcfa1e8a102e407470f7cc479576cceab5f872c1a1377...   \n62   0xcfa1e8a102e407470f7cc479576cceab5f872c1a1377...   \n84   0xb8682e4d0d5fe1297f21ff66347debdfc75c3956612d...   \n85   0xb8682e4d0d5fe1297f21ff66347debdfc75c3956612d...   \n86   0xb8682e4d0d5fe1297f21ff66347debdfc75c3956612d...   \n96   0xcc9db9a7563b473c4b8e4ca0f4f7fb90ca709b022469...   \n97   0xcc9db9a7563b473c4b8e4ca0f4f7fb90ca709b022469...   \n98   0xcc9db9a7563b473c4b8e4ca0f4f7fb90ca709b022469...   \n102  0x7c24d04318da39f08c7ba4f8d413a487133ce1b1f117...   \n103  0x7c24d04318da39f08c7ba4f8d413a487133ce1b1f117...   \n104  0x7c24d04318da39f08c7ba4f8d413a487133ce1b1f117...   \n114  0x3cf3a5658c3ef1a247ec241370a3abfeb673251eafec...   \n115  0x3cf3a5658c3ef1a247ec241370a3abfeb673251eafec...   \n116  0x3cf3a5658c3ef1a247ec241370a3abfeb673251eafec...   \n138  0xbb87996c54ed5859d905c96b7b43212cdbc74b1c99aa...   \n139  0xbb87996c54ed5859d905c96b7b43212cdbc74b1c99aa...   \n140  0xbb87996c54ed5859d905c96b7b43212cdbc74b1c99aa...   \n\n     transaction_blockNumber  transaction_timestamp  \\\n6                   16635032             1676474867   \n7                   16635032             1676474867   \n8                   16635032             1676474867   \n12                  16634844             1676472599   \n13                  16634844             1676472599   \n14                  16634844             1676472599   \n18                  16628161             1676391839   \n19                  16628161             1676391839   \n20                  16628161             1676391839   \n30                  16627341             1676381987   \n31                  16627341             1676381987   \n32                  16627341             1676381987   \n42                  16601676             1676072123   \n43                  16601676             1676072123   \n44                  16601676             1676072123   \n48                  16589407             1675924055   \n49                  16589407             1675924055   \n50                  16589407             1675924055   \n60                  16574012             1675737947   \n61                  16574012             1675737947   \n62                  16574012             1675737947   \n84                  16483146             1674641375   \n85                  16483146             1674641375   \n86                  16483146             1674641375   \n96                  16366146             1673230019   \n97                  16366146             1673230019   \n98                  16366146             1673230019   \n102                 16242703             1671741731   \n103                 16242703             1671741731   \n104                 16242703             1671741731   \n114                 16176122             1670938643   \n115                 16176122             1670938643   \n116                 16176122             1670938643   \n138                 16036062             1669247351   \n139                 16036062             1669247351   \n140                 16036062             1669247351   \n\n                         transaction_account_id  \\\n6    0x0493bcca897a2248ae3cd4c66aea90dbfc7e13c6   \n7    0x0493bcca897a2248ae3cd4c66aea90dbfc7e13c6   \n8    0x0493bcca897a2248ae3cd4c66aea90dbfc7e13c6   \n12   0xb0399dac8f4d4100b49b2a7b3873481114229d18   \n13   0xb0399dac8f4d4100b49b2a7b3873481114229d18   \n14   0xb0399dac8f4d4100b49b2a7b3873481114229d18   \n18   0xb0399dac8f4d4100b49b2a7b3873481114229d18   \n19   0xb0399dac8f4d4100b49b2a7b3873481114229d18   \n20   0xb0399dac8f4d4100b49b2a7b3873481114229d18   \n30   0xc0b1f200aa9546ce074397bed7438bb2ec033877   \n31   0xc0b1f200aa9546ce074397bed7438bb2ec033877   \n32   0xc0b1f200aa9546ce074397bed7438bb2ec033877   \n42   0xa7daeb7fc210f934508c8c7ce833a2cdd6630fb3   \n43   0xa7daeb7fc210f934508c8c7ce833a2cdd6630fb3   \n44   0xa7daeb7fc210f934508c8c7ce833a2cdd6630fb3   \n48   0xb0399dac8f4d4100b49b2a7b3873481114229d18   \n49   0xb0399dac8f4d4100b49b2a7b3873481114229d18   \n50   0xb0399dac8f4d4100b49b2a7b3873481114229d18   \n60   0xd3064611b24eba7a6dbcbc26c1b35dfee1170880   \n61   0xd3064611b24eba7a6dbcbc26c1b35dfee1170880   \n62   0xd3064611b24eba7a6dbcbc26c1b35dfee1170880   \n84   0xee1520f94f304e8d551cbf310fe214212e3ca34a   \n85   0xee1520f94f304e8d551cbf310fe214212e3ca34a   \n86   0xee1520f94f304e8d551cbf310fe214212e3ca34a   \n96   0x25fdda95197f804316f5ba8dbb66ac173ee19981   \n97   0x25fdda95197f804316f5ba8dbb66ac173ee19981   \n98   0x25fdda95197f804316f5ba8dbb66ac173ee19981   \n102  0x96035b45bc0d22f0ed11283a91145fb001c48370   \n103  0x96035b45bc0d22f0ed11283a91145fb001c48370   \n104  0x96035b45bc0d22f0ed11283a91145fb001c48370   \n114  0x791d1ec51d931186c1d4b80e753b7155dd98f741   \n115  0x791d1ec51d931186c1d4b80e753b7155dd98f741   \n116  0x791d1ec51d931186c1d4b80e753b7155dd98f741   \n138  0x62a4a8f9f5f3aae9ee9cee780285a0d501c12d09   \n139  0x62a4a8f9f5f3aae9ee9cee780285a0d501c12d09   \n140  0x62a4a8f9f5f3aae9ee9cee780285a0d501c12d09   \n\n                          transaction_market_id  \\\n6    0xc413dd03555f3eb29d834b482d386b2999dc2eb0   \n7    0xc413dd03555f3eb29d834b482d386b2999dc2eb0   \n8    0xc413dd03555f3eb29d834b482d386b2999dc2eb0   \n12   0xc413dd03555f3eb29d834b482d386b2999dc2eb0   \n13   0xc413dd03555f3eb29d834b482d386b2999dc2eb0   \n14   0xc413dd03555f3eb29d834b482d386b2999dc2eb0   \n18   0xc413dd03555f3eb29d834b482d386b2999dc2eb0   \n19   0xc413dd03555f3eb29d834b482d386b2999dc2eb0   \n20   0xc413dd03555f3eb29d834b482d386b2999dc2eb0   \n30   0xc413dd03555f3eb29d834b482d386b2999dc2eb0   \n31   0xc413dd03555f3eb29d834b482d386b2999dc2eb0   \n32   0xc413dd03555f3eb29d834b482d386b2999dc2eb0   \n42   0xc413dd03555f3eb29d834b482d386b2999dc2eb0   \n43   0xc413dd03555f3eb29d834b482d386b2999dc2eb0   \n44   0xc413dd03555f3eb29d834b482d386b2999dc2eb0   \n48   0xc413dd03555f3eb29d834b482d386b2999dc2eb0   \n49   0xc413dd03555f3eb29d834b482d386b2999dc2eb0   \n50   0xc413dd03555f3eb29d834b482d386b2999dc2eb0   \n60   0xc413dd03555f3eb29d834b482d386b2999dc2eb0   \n61   0xc413dd03555f3eb29d834b482d386b2999dc2eb0   \n62   0xc413dd03555f3eb29d834b482d386b2999dc2eb0   \n84   0xc413dd03555f3eb29d834b482d386b2999dc2eb0   \n85   0xc413dd03555f3eb29d834b482d386b2999dc2eb0   \n86   0xc413dd03555f3eb29d834b482d386b2999dc2eb0   \n96   0xc413dd03555f3eb29d834b482d386b2999dc2eb0   \n97   0xc413dd03555f3eb29d834b482d386b2999dc2eb0   \n98   0xc413dd03555f3eb29d834b482d386b2999dc2eb0   \n102  0xc413dd03555f3eb29d834b482d386b2999dc2eb0   \n103  0xc413dd03555f3eb29d834b482d386b2999dc2eb0   \n104  0xc413dd03555f3eb29d834b482d386b2999dc2eb0   \n114  0xc413dd03555f3eb29d834b482d386b2999dc2eb0   \n115  0xc413dd03555f3eb29d834b482d386b2999dc2eb0   \n116  0xc413dd03555f3eb29d834b482d386b2999dc2eb0   \n138  0xc413dd03555f3eb29d834b482d386b2999dc2eb0   \n139  0xc413dd03555f3eb29d834b482d386b2999dc2eb0   \n140  0xc413dd03555f3eb29d834b482d386b2999dc2eb0   \n\n                 transaction_market_protocol_id  \\\n6    0xd998c35b7900b344bbbe6555cc11576942cf309d   \n7    0xd998c35b7900b344bbbe6555cc11576942cf309d   \n8    0xd998c35b7900b344bbbe6555cc11576942cf309d   \n12   0xd998c35b7900b344bbbe6555cc11576942cf309d   \n13   0xd998c35b7900b344bbbe6555cc11576942cf309d   \n14   0xd998c35b7900b344bbbe6555cc11576942cf309d   \n18   0xd998c35b7900b344bbbe6555cc11576942cf309d   \n19   0xd998c35b7900b344bbbe6555cc11576942cf309d   \n20   0xd998c35b7900b344bbbe6555cc11576942cf309d   \n30   0xd998c35b7900b344bbbe6555cc11576942cf309d   \n31   0xd998c35b7900b344bbbe6555cc11576942cf309d   \n32   0xd998c35b7900b344bbbe6555cc11576942cf309d   \n42   0xd998c35b7900b344bbbe6555cc11576942cf309d   \n43   0xd998c35b7900b344bbbe6555cc11576942cf309d   \n44   0xd998c35b7900b344bbbe6555cc11576942cf309d   \n48   0xd998c35b7900b344bbbe6555cc11576942cf309d   \n49   0xd998c35b7900b344bbbe6555cc11576942cf309d   \n50   0xd998c35b7900b344bbbe6555cc11576942cf309d   \n60   0xd998c35b7900b344bbbe6555cc11576942cf309d   \n61   0xd998c35b7900b344bbbe6555cc11576942cf309d   \n62   0xd998c35b7900b344bbbe6555cc11576942cf309d   \n84   0xd998c35b7900b344bbbe6555cc11576942cf309d   \n85   0xd998c35b7900b344bbbe6555cc11576942cf309d   \n86   0xd998c35b7900b344bbbe6555cc11576942cf309d   \n96   0xd998c35b7900b344bbbe6555cc11576942cf309d   \n97   0xd998c35b7900b344bbbe6555cc11576942cf309d   \n98   0xd998c35b7900b344bbbe6555cc11576942cf309d   \n102  0xd998c35b7900b344bbbe6555cc11576942cf309d   \n103  0xd998c35b7900b344bbbe6555cc11576942cf309d   \n104  0xd998c35b7900b344bbbe6555cc11576942cf309d   \n114  0xd998c35b7900b344bbbe6555cc11576942cf309d   \n115  0xd998c35b7900b344bbbe6555cc11576942cf309d   \n116  0xd998c35b7900b344bbbe6555cc11576942cf309d   \n138  0xd998c35b7900b344bbbe6555cc11576942cf309d   \n139  0xd998c35b7900b344bbbe6555cc11576942cf309d   \n140  0xd998c35b7900b344bbbe6555cc11576942cf309d   \n\n     transaction_market_rates_rate transaction_market_rates_duration  \\\n6                         0.000000                              None   \n7                         0.983536                              None   \n8                         2.840751                              None   \n12                        0.000000                              None   \n13                        0.983536                              None   \n14                        2.840751                              None   \n18                        0.000000                              None   \n19                        0.983536                              None   \n20                        2.840751                              None   \n30                        0.000000                              None   \n31                        0.983536                              None   \n32                        2.840751                              None   \n42                        0.000000                              None   \n43                        0.983536                              None   \n44                        2.840751                              None   \n48                        0.000000                              None   \n49                        0.983536                              None   \n50                        2.840751                              None   \n60                        0.000000                              None   \n61                        0.983536                              None   \n62                        2.840751                              None   \n84                        0.000000                              None   \n85                        0.983536                              None   \n86                        2.840751                              None   \n96                        0.000000                              None   \n97                        0.983536                              None   \n98                        2.840751                              None   \n102                       0.000000                              None   \n103                       0.983536                              None   \n104                       2.840751                              None   \n114                       0.000000                              None   \n115                       0.983536                              None   \n116                       2.840751                              None   \n138                       0.000000                              None   \n139                       0.983536                              None   \n140                       2.840751                              None   \n\n    transaction_market_rates_side  ...  \\\n6                        BORROWER  ...   \n7                        BORROWER  ...   \n8                        BORROWER  ...   \n12                       BORROWER  ...   \n13                       BORROWER  ...   \n14                       BORROWER  ...   \n18                       BORROWER  ...   \n19                       BORROWER  ...   \n20                       BORROWER  ...   \n30                       BORROWER  ...   \n31                       BORROWER  ...   \n32                       BORROWER  ...   \n42                       BORROWER  ...   \n43                       BORROWER  ...   \n44                       BORROWER  ...   \n48                       BORROWER  ...   \n49                       BORROWER  ...   \n50                       BORROWER  ...   \n60                       BORROWER  ...   \n61                       BORROWER  ...   \n62                       BORROWER  ...   \n84                       BORROWER  ...   \n85                       BORROWER  ...   \n86                       BORROWER  ...   \n96                       BORROWER  ...   \n97                       BORROWER  ...   \n98                       BORROWER  ...   \n102                      BORROWER  ...   \n103                      BORROWER  ...   \n104                      BORROWER  ...   \n114                      BORROWER  ...   \n115                      BORROWER  ...   \n116                      BORROWER  ...   \n138                      BORROWER  ...   \n139                      BORROWER  ...   \n140                      BORROWER  ...   \n\n              transaction_market_rates_token_id transaction_asset_name  \\\n6    0x0ab87046fbb341d058f17cbc4c1133f25a20a52f         Governance OHM   \n7    0xc02aaa39b223fe8d0a0e5c4f27ead9083c756cc2         Governance OHM   \n8    0xd7c9f0e536dc865ae858b0c0453fe76d13c3beac         Governance OHM   \n12   0x0ab87046fbb341d058f17cbc4c1133f25a20a52f         Governance OHM   \n13   0xc02aaa39b223fe8d0a0e5c4f27ead9083c756cc2         Governance OHM   \n14   0xd7c9f0e536dc865ae858b0c0453fe76d13c3beac         Governance OHM   \n18   0x0ab87046fbb341d058f17cbc4c1133f25a20a52f         Governance OHM   \n19   0xc02aaa39b223fe8d0a0e5c4f27ead9083c756cc2         Governance OHM   \n20   0xd7c9f0e536dc865ae858b0c0453fe76d13c3beac         Governance OHM   \n30   0x0ab87046fbb341d058f17cbc4c1133f25a20a52f         Governance OHM   \n31   0xc02aaa39b223fe8d0a0e5c4f27ead9083c756cc2         Governance OHM   \n32   0xd7c9f0e536dc865ae858b0c0453fe76d13c3beac         Governance OHM   \n42   0x0ab87046fbb341d058f17cbc4c1133f25a20a52f         Governance OHM   \n43   0xc02aaa39b223fe8d0a0e5c4f27ead9083c756cc2         Governance OHM   \n44   0xd7c9f0e536dc865ae858b0c0453fe76d13c3beac         Governance OHM   \n48   0x0ab87046fbb341d058f17cbc4c1133f25a20a52f         Governance OHM   \n49   0xc02aaa39b223fe8d0a0e5c4f27ead9083c756cc2         Governance OHM   \n50   0xd7c9f0e536dc865ae858b0c0453fe76d13c3beac         Governance OHM   \n60   0x0ab87046fbb341d058f17cbc4c1133f25a20a52f         Governance OHM   \n61   0xc02aaa39b223fe8d0a0e5c4f27ead9083c756cc2         Governance OHM   \n62   0xd7c9f0e536dc865ae858b0c0453fe76d13c3beac         Governance OHM   \n84   0x0ab87046fbb341d058f17cbc4c1133f25a20a52f         Governance OHM   \n85   0xc02aaa39b223fe8d0a0e5c4f27ead9083c756cc2         Governance OHM   \n86   0xd7c9f0e536dc865ae858b0c0453fe76d13c3beac         Governance OHM   \n96   0x0ab87046fbb341d058f17cbc4c1133f25a20a52f         Governance OHM   \n97   0xc02aaa39b223fe8d0a0e5c4f27ead9083c756cc2         Governance OHM   \n98   0xd7c9f0e536dc865ae858b0c0453fe76d13c3beac         Governance OHM   \n102  0x0ab87046fbb341d058f17cbc4c1133f25a20a52f         Governance OHM   \n103  0xc02aaa39b223fe8d0a0e5c4f27ead9083c756cc2         Governance OHM   \n104  0xd7c9f0e536dc865ae858b0c0453fe76d13c3beac         Governance OHM   \n114  0x0ab87046fbb341d058f17cbc4c1133f25a20a52f         Governance OHM   \n115  0xc02aaa39b223fe8d0a0e5c4f27ead9083c756cc2         Governance OHM   \n116  0xd7c9f0e536dc865ae858b0c0453fe76d13c3beac         Governance OHM   \n138  0x0ab87046fbb341d058f17cbc4c1133f25a20a52f         Governance OHM   \n139  0xc02aaa39b223fe8d0a0e5c4f27ead9083c756cc2         Governance OHM   \n140  0xd7c9f0e536dc865ae858b0c0453fe76d13c3beac         Governance OHM   \n\n    transaction_asset_symbol transaction_asset_decimals  \\\n6                       gOHM                         18   \n7                       gOHM                         18   \n8                       gOHM                         18   \n12                      gOHM                         18   \n13                      gOHM                         18   \n14                      gOHM                         18   \n18                      gOHM                         18   \n19                      gOHM                         18   \n20                      gOHM                         18   \n30                      gOHM                         18   \n31                      gOHM                         18   \n32                      gOHM                         18   \n42                      gOHM                         18   \n43                      gOHM                         18   \n44                      gOHM                         18   \n48                      gOHM                         18   \n49                      gOHM                         18   \n50                      gOHM                         18   \n60                      gOHM                         18   \n61                      gOHM                         18   \n62                      gOHM                         18   \n84                      gOHM                         18   \n85                      gOHM                         18   \n86                      gOHM                         18   \n96                      gOHM                         18   \n97                      gOHM                         18   \n98                      gOHM                         18   \n102                     gOHM                         18   \n103                     gOHM                         18   \n104                     gOHM                         18   \n114                     gOHM                         18   \n115                     gOHM                         18   \n116                     gOHM                         18   \n138                     gOHM                         18   \n139                     gOHM                         18   \n140                     gOHM                         18   \n\n     transaction_asset_lastPriceUSD    transaction_amount  \\\n6                       2838.193286  25000038820033231117   \n7                       2838.193286  25000038820033231117   \n8                       2838.193286  25000038820033231117   \n12                      2838.193286  64393035133917233507   \n13                      2838.193286  64393035133917233507   \n14                      2838.193286  64393035133917233507   \n18                      2838.193286  36000000000000000000   \n19                      2838.193286  36000000000000000000   \n20                      2838.193286  36000000000000000000   \n30                      2838.193286    883213095048159520   \n31                      2838.193286    883213095048159520   \n32                      2838.193286    883213095048159520   \n42                      2838.193286    137813892759214192   \n43                      2838.193286    137813892759214192   \n44                      2838.193286    137813892759214192   \n48                      2838.193286  19607120756279102839   \n49                      2838.193286  19607120756279102839   \n50                      2838.193286  19607120756279102839   \n60                      2838.193286    194798194604593843   \n61                      2838.193286    194798194604593843   \n62                      2838.193286    194798194604593843   \n84                      2838.193286  20000000000000000001   \n85                      2838.193286  20000000000000000001   \n86                      2838.193286  20000000000000000001   \n96                      2838.193286   2252766031913818688   \n97                      2838.193286   2252766031913818688   \n98                      2838.193286   2252766031913818688   \n102                     2838.193286  13520668277842151665   \n103                     2838.193286  13520668277842151665   \n104                     2838.193286  13520668277842151665   \n114                     2838.193286     19999999999999999   \n115                     2838.193286     19999999999999999   \n116                     2838.193286     19999999999999999   \n138                     2838.193286    168240000000000000   \n139                     2838.193286    168240000000000000   \n140                     2838.193286    168240000000000000   \n\n    transaction_amountUSD     event transactionReadableAmount  \\\n6            71148.084004  withdraw                 25.000039   \n7            71148.084004  withdraw                 25.000039   \n8            71148.084004  withdraw                 25.000039   \n12          183257.358356  withdraw                 64.393035   \n13          183257.358356  withdraw                 64.393035   \n14          183257.358356  withdraw                 64.393035   \n18          100991.276713  withdraw                 36.000000   \n19          100991.276713  withdraw                 36.000000   \n20          100991.276713  withdraw                 36.000000   \n30            2401.521741  withdraw                  0.883213   \n31            2401.521741  withdraw                  0.883213   \n32            2401.521741  withdraw                  0.883213   \n42             363.447391  withdraw                  0.137814   \n43             363.447391  withdraw                  0.137814   \n44             363.447391  withdraw                  0.137814   \n48           51919.381911  withdraw                 19.607121   \n49           51919.381911  withdraw                 19.607121   \n50           51919.381911  withdraw                 19.607121   \n60             510.055435  withdraw                  0.194798   \n61             510.055435  withdraw                  0.194798   \n62             510.055435  withdraw                  0.194798   \n84           51345.559733  withdraw                 20.000000   \n85           51345.559733  withdraw                 20.000000   \n86           51345.559733  withdraw                 20.000000   \n96            5812.081890  withdraw                  2.252766   \n97            5812.081890  withdraw                  2.252766   \n98            5812.081890  withdraw                  2.252766   \n102          34629.263098  withdraw                 13.520668   \n103          34629.263098  withdraw                 13.520668   \n104          34629.263098  withdraw                 13.520668   \n114             51.410624  withdraw                  0.020000   \n115             51.410624  withdraw                  0.020000   \n116             51.410624  withdraw                  0.020000   \n138            375.708151  withdraw                  0.168240   \n139            375.708151  withdraw                  0.168240   \n140            375.708151  withdraw                  0.168240   \n\n               dateTime  \n6   2023-02-15 15:27:47  \n7   2023-02-15 15:27:47  \n8   2023-02-15 15:27:47  \n12  2023-02-15 14:49:59  \n13  2023-02-15 14:49:59  \n14  2023-02-15 14:49:59  \n18  2023-02-14 16:23:59  \n19  2023-02-14 16:23:59  \n20  2023-02-14 16:23:59  \n30  2023-02-14 13:39:47  \n31  2023-02-14 13:39:47  \n32  2023-02-14 13:39:47  \n42  2023-02-10 23:35:23  \n43  2023-02-10 23:35:23  \n44  2023-02-10 23:35:23  \n48  2023-02-09 06:27:35  \n49  2023-02-09 06:27:35  \n50  2023-02-09 06:27:35  \n60  2023-02-07 02:45:47  \n61  2023-02-07 02:45:47  \n62  2023-02-07 02:45:47  \n84  2023-01-25 10:09:35  \n85  2023-01-25 10:09:35  \n86  2023-01-25 10:09:35  \n96  2023-01-09 02:06:59  \n97  2023-01-09 02:06:59  \n98  2023-01-09 02:06:59  \n102 2022-12-22 20:42:11  \n103 2022-12-22 20:42:11  \n104 2022-12-22 20:42:11  \n114 2022-12-13 13:37:23  \n115 2022-12-13 13:37:23  \n116 2022-12-13 13:37:23  \n138 2022-11-23 23:49:11  \n139 2022-11-23 23:49:11  \n140 2022-11-23 23:49:11  \n\n[36 rows x 21 columns]",
      "text/html": "<div>\n<style scoped>\n    .dataframe tbody tr th:only-of-type {\n        vertical-align: middle;\n    }\n\n    .dataframe tbody tr th {\n        vertical-align: top;\n    }\n\n    .dataframe thead th {\n        text-align: right;\n    }\n</style>\n<table border=\"1\" class=\"dataframe\">\n  <thead>\n    <tr style=\"text-align: right;\">\n      <th></th>\n      <th>transaction_id</th>\n      <th>transaction_hash</th>\n      <th>transaction_blockNumber</th>\n      <th>transaction_timestamp</th>\n      <th>transaction_account_id</th>\n      <th>transaction_market_id</th>\n      <th>transaction_market_protocol_id</th>\n      <th>transaction_market_rates_rate</th>\n      <th>transaction_market_rates_duration</th>\n      <th>transaction_market_rates_side</th>\n      <th>...</th>\n      <th>transaction_market_rates_token_id</th>\n      <th>transaction_asset_name</th>\n      <th>transaction_asset_symbol</th>\n      <th>transaction_asset_decimals</th>\n      <th>transaction_asset_lastPriceUSD</th>\n      <th>transaction_amount</th>\n      <th>transaction_amountUSD</th>\n      <th>event</th>\n      <th>transactionReadableAmount</th>\n      <th>dateTime</th>\n    </tr>\n  </thead>\n  <tbody>\n    <tr>\n      <th>6</th>\n      <td>0xf4707edc29622f90030af624d1918ff5ae613cef90d8...</td>\n      <td>0xf4707edc29622f90030af624d1918ff5ae613cef90d8...</td>\n      <td>16635032</td>\n      <td>1676474867</td>\n      <td>0x0493bcca897a2248ae3cd4c66aea90dbfc7e13c6</td>\n      <td>0xc413dd03555f3eb29d834b482d386b2999dc2eb0</td>\n      <td>0xd998c35b7900b344bbbe6555cc11576942cf309d</td>\n      <td>0.000000</td>\n      <td>None</td>\n      <td>BORROWER</td>\n      <td>...</td>\n      <td>0x0ab87046fbb341d058f17cbc4c1133f25a20a52f</td>\n      <td>Governance OHM</td>\n      <td>gOHM</td>\n      <td>18</td>\n      <td>2838.193286</td>\n      <td>25000038820033231117</td>\n      <td>71148.084004</td>\n      <td>withdraw</td>\n      <td>25.000039</td>\n      <td>2023-02-15 15:27:47</td>\n    </tr>\n    <tr>\n      <th>7</th>\n      <td>0xf4707edc29622f90030af624d1918ff5ae613cef90d8...</td>\n      <td>0xf4707edc29622f90030af624d1918ff5ae613cef90d8...</td>\n      <td>16635032</td>\n      <td>1676474867</td>\n      <td>0x0493bcca897a2248ae3cd4c66aea90dbfc7e13c6</td>\n      <td>0xc413dd03555f3eb29d834b482d386b2999dc2eb0</td>\n      <td>0xd998c35b7900b344bbbe6555cc11576942cf309d</td>\n      <td>0.983536</td>\n      <td>None</td>\n      <td>BORROWER</td>\n      <td>...</td>\n      <td>0xc02aaa39b223fe8d0a0e5c4f27ead9083c756cc2</td>\n      <td>Governance OHM</td>\n      <td>gOHM</td>\n      <td>18</td>\n      <td>2838.193286</td>\n      <td>25000038820033231117</td>\n      <td>71148.084004</td>\n      <td>withdraw</td>\n      <td>25.000039</td>\n      <td>2023-02-15 15:27:47</td>\n    </tr>\n    <tr>\n      <th>8</th>\n      <td>0xf4707edc29622f90030af624d1918ff5ae613cef90d8...</td>\n      <td>0xf4707edc29622f90030af624d1918ff5ae613cef90d8...</td>\n      <td>16635032</td>\n      <td>1676474867</td>\n      <td>0x0493bcca897a2248ae3cd4c66aea90dbfc7e13c6</td>\n      <td>0xc413dd03555f3eb29d834b482d386b2999dc2eb0</td>\n      <td>0xd998c35b7900b344bbbe6555cc11576942cf309d</td>\n      <td>2.840751</td>\n      <td>None</td>\n      <td>BORROWER</td>\n      <td>...</td>\n      <td>0xd7c9f0e536dc865ae858b0c0453fe76d13c3beac</td>\n      <td>Governance OHM</td>\n      <td>gOHM</td>\n      <td>18</td>\n      <td>2838.193286</td>\n      <td>25000038820033231117</td>\n      <td>71148.084004</td>\n      <td>withdraw</td>\n      <td>25.000039</td>\n      <td>2023-02-15 15:27:47</td>\n    </tr>\n    <tr>\n      <th>12</th>\n      <td>0x85b689883076aa92af0a2356f8e4084610578bb48590...</td>\n      <td>0x85b689883076aa92af0a2356f8e4084610578bb48590...</td>\n      <td>16634844</td>\n      <td>1676472599</td>\n      <td>0xb0399dac8f4d4100b49b2a7b3873481114229d18</td>\n      <td>0xc413dd03555f3eb29d834b482d386b2999dc2eb0</td>\n      <td>0xd998c35b7900b344bbbe6555cc11576942cf309d</td>\n      <td>0.000000</td>\n      <td>None</td>\n      <td>BORROWER</td>\n      <td>...</td>\n      <td>0x0ab87046fbb341d058f17cbc4c1133f25a20a52f</td>\n      <td>Governance OHM</td>\n      <td>gOHM</td>\n      <td>18</td>\n      <td>2838.193286</td>\n      <td>64393035133917233507</td>\n      <td>183257.358356</td>\n      <td>withdraw</td>\n      <td>64.393035</td>\n      <td>2023-02-15 14:49:59</td>\n    </tr>\n    <tr>\n      <th>13</th>\n      <td>0x85b689883076aa92af0a2356f8e4084610578bb48590...</td>\n      <td>0x85b689883076aa92af0a2356f8e4084610578bb48590...</td>\n      <td>16634844</td>\n      <td>1676472599</td>\n      <td>0xb0399dac8f4d4100b49b2a7b3873481114229d18</td>\n      <td>0xc413dd03555f3eb29d834b482d386b2999dc2eb0</td>\n      <td>0xd998c35b7900b344bbbe6555cc11576942cf309d</td>\n      <td>0.983536</td>\n      <td>None</td>\n      <td>BORROWER</td>\n      <td>...</td>\n      <td>0xc02aaa39b223fe8d0a0e5c4f27ead9083c756cc2</td>\n      <td>Governance OHM</td>\n      <td>gOHM</td>\n      <td>18</td>\n      <td>2838.193286</td>\n      <td>64393035133917233507</td>\n      <td>183257.358356</td>\n      <td>withdraw</td>\n      <td>64.393035</td>\n      <td>2023-02-15 14:49:59</td>\n    </tr>\n    <tr>\n      <th>14</th>\n      <td>0x85b689883076aa92af0a2356f8e4084610578bb48590...</td>\n      <td>0x85b689883076aa92af0a2356f8e4084610578bb48590...</td>\n      <td>16634844</td>\n      <td>1676472599</td>\n      <td>0xb0399dac8f4d4100b49b2a7b3873481114229d18</td>\n      <td>0xc413dd03555f3eb29d834b482d386b2999dc2eb0</td>\n      <td>0xd998c35b7900b344bbbe6555cc11576942cf309d</td>\n      <td>2.840751</td>\n      <td>None</td>\n      <td>BORROWER</td>\n      <td>...</td>\n      <td>0xd7c9f0e536dc865ae858b0c0453fe76d13c3beac</td>\n      <td>Governance OHM</td>\n      <td>gOHM</td>\n      <td>18</td>\n      <td>2838.193286</td>\n      <td>64393035133917233507</td>\n      <td>183257.358356</td>\n      <td>withdraw</td>\n      <td>64.393035</td>\n      <td>2023-02-15 14:49:59</td>\n    </tr>\n    <tr>\n      <th>18</th>\n      <td>0xd931b79cfc34df088f325e8adde9122af7ad64a0ba30...</td>\n      <td>0xd931b79cfc34df088f325e8adde9122af7ad64a0ba30...</td>\n      <td>16628161</td>\n      <td>1676391839</td>\n      <td>0xb0399dac8f4d4100b49b2a7b3873481114229d18</td>\n      <td>0xc413dd03555f3eb29d834b482d386b2999dc2eb0</td>\n      <td>0xd998c35b7900b344bbbe6555cc11576942cf309d</td>\n      <td>0.000000</td>\n      <td>None</td>\n      <td>BORROWER</td>\n      <td>...</td>\n      <td>0x0ab87046fbb341d058f17cbc4c1133f25a20a52f</td>\n      <td>Governance OHM</td>\n      <td>gOHM</td>\n      <td>18</td>\n      <td>2838.193286</td>\n      <td>36000000000000000000</td>\n      <td>100991.276713</td>\n      <td>withdraw</td>\n      <td>36.000000</td>\n      <td>2023-02-14 16:23:59</td>\n    </tr>\n    <tr>\n      <th>19</th>\n      <td>0xd931b79cfc34df088f325e8adde9122af7ad64a0ba30...</td>\n      <td>0xd931b79cfc34df088f325e8adde9122af7ad64a0ba30...</td>\n      <td>16628161</td>\n      <td>1676391839</td>\n      <td>0xb0399dac8f4d4100b49b2a7b3873481114229d18</td>\n      <td>0xc413dd03555f3eb29d834b482d386b2999dc2eb0</td>\n      <td>0xd998c35b7900b344bbbe6555cc11576942cf309d</td>\n      <td>0.983536</td>\n      <td>None</td>\n      <td>BORROWER</td>\n      <td>...</td>\n      <td>0xc02aaa39b223fe8d0a0e5c4f27ead9083c756cc2</td>\n      <td>Governance OHM</td>\n      <td>gOHM</td>\n      <td>18</td>\n      <td>2838.193286</td>\n      <td>36000000000000000000</td>\n      <td>100991.276713</td>\n      <td>withdraw</td>\n      <td>36.000000</td>\n      <td>2023-02-14 16:23:59</td>\n    </tr>\n    <tr>\n      <th>20</th>\n      <td>0xd931b79cfc34df088f325e8adde9122af7ad64a0ba30...</td>\n      <td>0xd931b79cfc34df088f325e8adde9122af7ad64a0ba30...</td>\n      <td>16628161</td>\n      <td>1676391839</td>\n      <td>0xb0399dac8f4d4100b49b2a7b3873481114229d18</td>\n      <td>0xc413dd03555f3eb29d834b482d386b2999dc2eb0</td>\n      <td>0xd998c35b7900b344bbbe6555cc11576942cf309d</td>\n      <td>2.840751</td>\n      <td>None</td>\n      <td>BORROWER</td>\n      <td>...</td>\n      <td>0xd7c9f0e536dc865ae858b0c0453fe76d13c3beac</td>\n      <td>Governance OHM</td>\n      <td>gOHM</td>\n      <td>18</td>\n      <td>2838.193286</td>\n      <td>36000000000000000000</td>\n      <td>100991.276713</td>\n      <td>withdraw</td>\n      <td>36.000000</td>\n      <td>2023-02-14 16:23:59</td>\n    </tr>\n    <tr>\n      <th>30</th>\n      <td>0xd4f7aeb47e1e07903a3e9298762bc164764fffb2f973...</td>\n      <td>0xd4f7aeb47e1e07903a3e9298762bc164764fffb2f973...</td>\n      <td>16627341</td>\n      <td>1676381987</td>\n      <td>0xc0b1f200aa9546ce074397bed7438bb2ec033877</td>\n      <td>0xc413dd03555f3eb29d834b482d386b2999dc2eb0</td>\n      <td>0xd998c35b7900b344bbbe6555cc11576942cf309d</td>\n      <td>0.000000</td>\n      <td>None</td>\n      <td>BORROWER</td>\n      <td>...</td>\n      <td>0x0ab87046fbb341d058f17cbc4c1133f25a20a52f</td>\n      <td>Governance OHM</td>\n      <td>gOHM</td>\n      <td>18</td>\n      <td>2838.193286</td>\n      <td>883213095048159520</td>\n      <td>2401.521741</td>\n      <td>withdraw</td>\n      <td>0.883213</td>\n      <td>2023-02-14 13:39:47</td>\n    </tr>\n    <tr>\n      <th>31</th>\n      <td>0xd4f7aeb47e1e07903a3e9298762bc164764fffb2f973...</td>\n      <td>0xd4f7aeb47e1e07903a3e9298762bc164764fffb2f973...</td>\n      <td>16627341</td>\n      <td>1676381987</td>\n      <td>0xc0b1f200aa9546ce074397bed7438bb2ec033877</td>\n      <td>0xc413dd03555f3eb29d834b482d386b2999dc2eb0</td>\n      <td>0xd998c35b7900b344bbbe6555cc11576942cf309d</td>\n      <td>0.983536</td>\n      <td>None</td>\n      <td>BORROWER</td>\n      <td>...</td>\n      <td>0xc02aaa39b223fe8d0a0e5c4f27ead9083c756cc2</td>\n      <td>Governance OHM</td>\n      <td>gOHM</td>\n      <td>18</td>\n      <td>2838.193286</td>\n      <td>883213095048159520</td>\n      <td>2401.521741</td>\n      <td>withdraw</td>\n      <td>0.883213</td>\n      <td>2023-02-14 13:39:47</td>\n    </tr>\n    <tr>\n      <th>32</th>\n      <td>0xd4f7aeb47e1e07903a3e9298762bc164764fffb2f973...</td>\n      <td>0xd4f7aeb47e1e07903a3e9298762bc164764fffb2f973...</td>\n      <td>16627341</td>\n      <td>1676381987</td>\n      <td>0xc0b1f200aa9546ce074397bed7438bb2ec033877</td>\n      <td>0xc413dd03555f3eb29d834b482d386b2999dc2eb0</td>\n      <td>0xd998c35b7900b344bbbe6555cc11576942cf309d</td>\n      <td>2.840751</td>\n      <td>None</td>\n      <td>BORROWER</td>\n      <td>...</td>\n      <td>0xd7c9f0e536dc865ae858b0c0453fe76d13c3beac</td>\n      <td>Governance OHM</td>\n      <td>gOHM</td>\n      <td>18</td>\n      <td>2838.193286</td>\n      <td>883213095048159520</td>\n      <td>2401.521741</td>\n      <td>withdraw</td>\n      <td>0.883213</td>\n      <td>2023-02-14 13:39:47</td>\n    </tr>\n    <tr>\n      <th>42</th>\n      <td>0xc7193a2aa216c65fe82652e85b4adc20a60b274bd070...</td>\n      <td>0xc7193a2aa216c65fe82652e85b4adc20a60b274bd070...</td>\n      <td>16601676</td>\n      <td>1676072123</td>\n      <td>0xa7daeb7fc210f934508c8c7ce833a2cdd6630fb3</td>\n      <td>0xc413dd03555f3eb29d834b482d386b2999dc2eb0</td>\n      <td>0xd998c35b7900b344bbbe6555cc11576942cf309d</td>\n      <td>0.000000</td>\n      <td>None</td>\n      <td>BORROWER</td>\n      <td>...</td>\n      <td>0x0ab87046fbb341d058f17cbc4c1133f25a20a52f</td>\n      <td>Governance OHM</td>\n      <td>gOHM</td>\n      <td>18</td>\n      <td>2838.193286</td>\n      <td>137813892759214192</td>\n      <td>363.447391</td>\n      <td>withdraw</td>\n      <td>0.137814</td>\n      <td>2023-02-10 23:35:23</td>\n    </tr>\n    <tr>\n      <th>43</th>\n      <td>0xc7193a2aa216c65fe82652e85b4adc20a60b274bd070...</td>\n      <td>0xc7193a2aa216c65fe82652e85b4adc20a60b274bd070...</td>\n      <td>16601676</td>\n      <td>1676072123</td>\n      <td>0xa7daeb7fc210f934508c8c7ce833a2cdd6630fb3</td>\n      <td>0xc413dd03555f3eb29d834b482d386b2999dc2eb0</td>\n      <td>0xd998c35b7900b344bbbe6555cc11576942cf309d</td>\n      <td>0.983536</td>\n      <td>None</td>\n      <td>BORROWER</td>\n      <td>...</td>\n      <td>0xc02aaa39b223fe8d0a0e5c4f27ead9083c756cc2</td>\n      <td>Governance OHM</td>\n      <td>gOHM</td>\n      <td>18</td>\n      <td>2838.193286</td>\n      <td>137813892759214192</td>\n      <td>363.447391</td>\n      <td>withdraw</td>\n      <td>0.137814</td>\n      <td>2023-02-10 23:35:23</td>\n    </tr>\n    <tr>\n      <th>44</th>\n      <td>0xc7193a2aa216c65fe82652e85b4adc20a60b274bd070...</td>\n      <td>0xc7193a2aa216c65fe82652e85b4adc20a60b274bd070...</td>\n      <td>16601676</td>\n      <td>1676072123</td>\n      <td>0xa7daeb7fc210f934508c8c7ce833a2cdd6630fb3</td>\n      <td>0xc413dd03555f3eb29d834b482d386b2999dc2eb0</td>\n      <td>0xd998c35b7900b344bbbe6555cc11576942cf309d</td>\n      <td>2.840751</td>\n      <td>None</td>\n      <td>BORROWER</td>\n      <td>...</td>\n      <td>0xd7c9f0e536dc865ae858b0c0453fe76d13c3beac</td>\n      <td>Governance OHM</td>\n      <td>gOHM</td>\n      <td>18</td>\n      <td>2838.193286</td>\n      <td>137813892759214192</td>\n      <td>363.447391</td>\n      <td>withdraw</td>\n      <td>0.137814</td>\n      <td>2023-02-10 23:35:23</td>\n    </tr>\n    <tr>\n      <th>48</th>\n      <td>0xed87a5e09b9abe135be66d51493eca516d78aaf1d4d5...</td>\n      <td>0xed87a5e09b9abe135be66d51493eca516d78aaf1d4d5...</td>\n      <td>16589407</td>\n      <td>1675924055</td>\n      <td>0xb0399dac8f4d4100b49b2a7b3873481114229d18</td>\n      <td>0xc413dd03555f3eb29d834b482d386b2999dc2eb0</td>\n      <td>0xd998c35b7900b344bbbe6555cc11576942cf309d</td>\n      <td>0.000000</td>\n      <td>None</td>\n      <td>BORROWER</td>\n      <td>...</td>\n      <td>0x0ab87046fbb341d058f17cbc4c1133f25a20a52f</td>\n      <td>Governance OHM</td>\n      <td>gOHM</td>\n      <td>18</td>\n      <td>2838.193286</td>\n      <td>19607120756279102839</td>\n      <td>51919.381911</td>\n      <td>withdraw</td>\n      <td>19.607121</td>\n      <td>2023-02-09 06:27:35</td>\n    </tr>\n    <tr>\n      <th>49</th>\n      <td>0xed87a5e09b9abe135be66d51493eca516d78aaf1d4d5...</td>\n      <td>0xed87a5e09b9abe135be66d51493eca516d78aaf1d4d5...</td>\n      <td>16589407</td>\n      <td>1675924055</td>\n      <td>0xb0399dac8f4d4100b49b2a7b3873481114229d18</td>\n      <td>0xc413dd03555f3eb29d834b482d386b2999dc2eb0</td>\n      <td>0xd998c35b7900b344bbbe6555cc11576942cf309d</td>\n      <td>0.983536</td>\n      <td>None</td>\n      <td>BORROWER</td>\n      <td>...</td>\n      <td>0xc02aaa39b223fe8d0a0e5c4f27ead9083c756cc2</td>\n      <td>Governance OHM</td>\n      <td>gOHM</td>\n      <td>18</td>\n      <td>2838.193286</td>\n      <td>19607120756279102839</td>\n      <td>51919.381911</td>\n      <td>withdraw</td>\n      <td>19.607121</td>\n      <td>2023-02-09 06:27:35</td>\n    </tr>\n    <tr>\n      <th>50</th>\n      <td>0xed87a5e09b9abe135be66d51493eca516d78aaf1d4d5...</td>\n      <td>0xed87a5e09b9abe135be66d51493eca516d78aaf1d4d5...</td>\n      <td>16589407</td>\n      <td>1675924055</td>\n      <td>0xb0399dac8f4d4100b49b2a7b3873481114229d18</td>\n      <td>0xc413dd03555f3eb29d834b482d386b2999dc2eb0</td>\n      <td>0xd998c35b7900b344bbbe6555cc11576942cf309d</td>\n      <td>2.840751</td>\n      <td>None</td>\n      <td>BORROWER</td>\n      <td>...</td>\n      <td>0xd7c9f0e536dc865ae858b0c0453fe76d13c3beac</td>\n      <td>Governance OHM</td>\n      <td>gOHM</td>\n      <td>18</td>\n      <td>2838.193286</td>\n      <td>19607120756279102839</td>\n      <td>51919.381911</td>\n      <td>withdraw</td>\n      <td>19.607121</td>\n      <td>2023-02-09 06:27:35</td>\n    </tr>\n    <tr>\n      <th>60</th>\n      <td>0xcfa1e8a102e407470f7cc479576cceab5f872c1a1377...</td>\n      <td>0xcfa1e8a102e407470f7cc479576cceab5f872c1a1377...</td>\n      <td>16574012</td>\n      <td>1675737947</td>\n      <td>0xd3064611b24eba7a6dbcbc26c1b35dfee1170880</td>\n      <td>0xc413dd03555f3eb29d834b482d386b2999dc2eb0</td>\n      <td>0xd998c35b7900b344bbbe6555cc11576942cf309d</td>\n      <td>0.000000</td>\n      <td>None</td>\n      <td>BORROWER</td>\n      <td>...</td>\n      <td>0x0ab87046fbb341d058f17cbc4c1133f25a20a52f</td>\n      <td>Governance OHM</td>\n      <td>gOHM</td>\n      <td>18</td>\n      <td>2838.193286</td>\n      <td>194798194604593843</td>\n      <td>510.055435</td>\n      <td>withdraw</td>\n      <td>0.194798</td>\n      <td>2023-02-07 02:45:47</td>\n    </tr>\n    <tr>\n      <th>61</th>\n      <td>0xcfa1e8a102e407470f7cc479576cceab5f872c1a1377...</td>\n      <td>0xcfa1e8a102e407470f7cc479576cceab5f872c1a1377...</td>\n      <td>16574012</td>\n      <td>1675737947</td>\n      <td>0xd3064611b24eba7a6dbcbc26c1b35dfee1170880</td>\n      <td>0xc413dd03555f3eb29d834b482d386b2999dc2eb0</td>\n      <td>0xd998c35b7900b344bbbe6555cc11576942cf309d</td>\n      <td>0.983536</td>\n      <td>None</td>\n      <td>BORROWER</td>\n      <td>...</td>\n      <td>0xc02aaa39b223fe8d0a0e5c4f27ead9083c756cc2</td>\n      <td>Governance OHM</td>\n      <td>gOHM</td>\n      <td>18</td>\n      <td>2838.193286</td>\n      <td>194798194604593843</td>\n      <td>510.055435</td>\n      <td>withdraw</td>\n      <td>0.194798</td>\n      <td>2023-02-07 02:45:47</td>\n    </tr>\n    <tr>\n      <th>62</th>\n      <td>0xcfa1e8a102e407470f7cc479576cceab5f872c1a1377...</td>\n      <td>0xcfa1e8a102e407470f7cc479576cceab5f872c1a1377...</td>\n      <td>16574012</td>\n      <td>1675737947</td>\n      <td>0xd3064611b24eba7a6dbcbc26c1b35dfee1170880</td>\n      <td>0xc413dd03555f3eb29d834b482d386b2999dc2eb0</td>\n      <td>0xd998c35b7900b344bbbe6555cc11576942cf309d</td>\n      <td>2.840751</td>\n      <td>None</td>\n      <td>BORROWER</td>\n      <td>...</td>\n      <td>0xd7c9f0e536dc865ae858b0c0453fe76d13c3beac</td>\n      <td>Governance OHM</td>\n      <td>gOHM</td>\n      <td>18</td>\n      <td>2838.193286</td>\n      <td>194798194604593843</td>\n      <td>510.055435</td>\n      <td>withdraw</td>\n      <td>0.194798</td>\n      <td>2023-02-07 02:45:47</td>\n    </tr>\n    <tr>\n      <th>84</th>\n      <td>0xb8682e4d0d5fe1297f21ff66347debdfc75c3956612d...</td>\n      <td>0xb8682e4d0d5fe1297f21ff66347debdfc75c3956612d...</td>\n      <td>16483146</td>\n      <td>1674641375</td>\n      <td>0xee1520f94f304e8d551cbf310fe214212e3ca34a</td>\n      <td>0xc413dd03555f3eb29d834b482d386b2999dc2eb0</td>\n      <td>0xd998c35b7900b344bbbe6555cc11576942cf309d</td>\n      <td>0.000000</td>\n      <td>None</td>\n      <td>BORROWER</td>\n      <td>...</td>\n      <td>0x0ab87046fbb341d058f17cbc4c1133f25a20a52f</td>\n      <td>Governance OHM</td>\n      <td>gOHM</td>\n      <td>18</td>\n      <td>2838.193286</td>\n      <td>20000000000000000001</td>\n      <td>51345.559733</td>\n      <td>withdraw</td>\n      <td>20.000000</td>\n      <td>2023-01-25 10:09:35</td>\n    </tr>\n    <tr>\n      <th>85</th>\n      <td>0xb8682e4d0d5fe1297f21ff66347debdfc75c3956612d...</td>\n      <td>0xb8682e4d0d5fe1297f21ff66347debdfc75c3956612d...</td>\n      <td>16483146</td>\n      <td>1674641375</td>\n      <td>0xee1520f94f304e8d551cbf310fe214212e3ca34a</td>\n      <td>0xc413dd03555f3eb29d834b482d386b2999dc2eb0</td>\n      <td>0xd998c35b7900b344bbbe6555cc11576942cf309d</td>\n      <td>0.983536</td>\n      <td>None</td>\n      <td>BORROWER</td>\n      <td>...</td>\n      <td>0xc02aaa39b223fe8d0a0e5c4f27ead9083c756cc2</td>\n      <td>Governance OHM</td>\n      <td>gOHM</td>\n      <td>18</td>\n      <td>2838.193286</td>\n      <td>20000000000000000001</td>\n      <td>51345.559733</td>\n      <td>withdraw</td>\n      <td>20.000000</td>\n      <td>2023-01-25 10:09:35</td>\n    </tr>\n    <tr>\n      <th>86</th>\n      <td>0xb8682e4d0d5fe1297f21ff66347debdfc75c3956612d...</td>\n      <td>0xb8682e4d0d5fe1297f21ff66347debdfc75c3956612d...</td>\n      <td>16483146</td>\n      <td>1674641375</td>\n      <td>0xee1520f94f304e8d551cbf310fe214212e3ca34a</td>\n      <td>0xc413dd03555f3eb29d834b482d386b2999dc2eb0</td>\n      <td>0xd998c35b7900b344bbbe6555cc11576942cf309d</td>\n      <td>2.840751</td>\n      <td>None</td>\n      <td>BORROWER</td>\n      <td>...</td>\n      <td>0xd7c9f0e536dc865ae858b0c0453fe76d13c3beac</td>\n      <td>Governance OHM</td>\n      <td>gOHM</td>\n      <td>18</td>\n      <td>2838.193286</td>\n      <td>20000000000000000001</td>\n      <td>51345.559733</td>\n      <td>withdraw</td>\n      <td>20.000000</td>\n      <td>2023-01-25 10:09:35</td>\n    </tr>\n    <tr>\n      <th>96</th>\n      <td>0xcc9db9a7563b473c4b8e4ca0f4f7fb90ca709b022469...</td>\n      <td>0xcc9db9a7563b473c4b8e4ca0f4f7fb90ca709b022469...</td>\n      <td>16366146</td>\n      <td>1673230019</td>\n      <td>0x25fdda95197f804316f5ba8dbb66ac173ee19981</td>\n      <td>0xc413dd03555f3eb29d834b482d386b2999dc2eb0</td>\n      <td>0xd998c35b7900b344bbbe6555cc11576942cf309d</td>\n      <td>0.000000</td>\n      <td>None</td>\n      <td>BORROWER</td>\n      <td>...</td>\n      <td>0x0ab87046fbb341d058f17cbc4c1133f25a20a52f</td>\n      <td>Governance OHM</td>\n      <td>gOHM</td>\n      <td>18</td>\n      <td>2838.193286</td>\n      <td>2252766031913818688</td>\n      <td>5812.081890</td>\n      <td>withdraw</td>\n      <td>2.252766</td>\n      <td>2023-01-09 02:06:59</td>\n    </tr>\n    <tr>\n      <th>97</th>\n      <td>0xcc9db9a7563b473c4b8e4ca0f4f7fb90ca709b022469...</td>\n      <td>0xcc9db9a7563b473c4b8e4ca0f4f7fb90ca709b022469...</td>\n      <td>16366146</td>\n      <td>1673230019</td>\n      <td>0x25fdda95197f804316f5ba8dbb66ac173ee19981</td>\n      <td>0xc413dd03555f3eb29d834b482d386b2999dc2eb0</td>\n      <td>0xd998c35b7900b344bbbe6555cc11576942cf309d</td>\n      <td>0.983536</td>\n      <td>None</td>\n      <td>BORROWER</td>\n      <td>...</td>\n      <td>0xc02aaa39b223fe8d0a0e5c4f27ead9083c756cc2</td>\n      <td>Governance OHM</td>\n      <td>gOHM</td>\n      <td>18</td>\n      <td>2838.193286</td>\n      <td>2252766031913818688</td>\n      <td>5812.081890</td>\n      <td>withdraw</td>\n      <td>2.252766</td>\n      <td>2023-01-09 02:06:59</td>\n    </tr>\n    <tr>\n      <th>98</th>\n      <td>0xcc9db9a7563b473c4b8e4ca0f4f7fb90ca709b022469...</td>\n      <td>0xcc9db9a7563b473c4b8e4ca0f4f7fb90ca709b022469...</td>\n      <td>16366146</td>\n      <td>1673230019</td>\n      <td>0x25fdda95197f804316f5ba8dbb66ac173ee19981</td>\n      <td>0xc413dd03555f3eb29d834b482d386b2999dc2eb0</td>\n      <td>0xd998c35b7900b344bbbe6555cc11576942cf309d</td>\n      <td>2.840751</td>\n      <td>None</td>\n      <td>BORROWER</td>\n      <td>...</td>\n      <td>0xd7c9f0e536dc865ae858b0c0453fe76d13c3beac</td>\n      <td>Governance OHM</td>\n      <td>gOHM</td>\n      <td>18</td>\n      <td>2838.193286</td>\n      <td>2252766031913818688</td>\n      <td>5812.081890</td>\n      <td>withdraw</td>\n      <td>2.252766</td>\n      <td>2023-01-09 02:06:59</td>\n    </tr>\n    <tr>\n      <th>102</th>\n      <td>0x7c24d04318da39f08c7ba4f8d413a487133ce1b1f117...</td>\n      <td>0x7c24d04318da39f08c7ba4f8d413a487133ce1b1f117...</td>\n      <td>16242703</td>\n      <td>1671741731</td>\n      <td>0x96035b45bc0d22f0ed11283a91145fb001c48370</td>\n      <td>0xc413dd03555f3eb29d834b482d386b2999dc2eb0</td>\n      <td>0xd998c35b7900b344bbbe6555cc11576942cf309d</td>\n      <td>0.000000</td>\n      <td>None</td>\n      <td>BORROWER</td>\n      <td>...</td>\n      <td>0x0ab87046fbb341d058f17cbc4c1133f25a20a52f</td>\n      <td>Governance OHM</td>\n      <td>gOHM</td>\n      <td>18</td>\n      <td>2838.193286</td>\n      <td>13520668277842151665</td>\n      <td>34629.263098</td>\n      <td>withdraw</td>\n      <td>13.520668</td>\n      <td>2022-12-22 20:42:11</td>\n    </tr>\n    <tr>\n      <th>103</th>\n      <td>0x7c24d04318da39f08c7ba4f8d413a487133ce1b1f117...</td>\n      <td>0x7c24d04318da39f08c7ba4f8d413a487133ce1b1f117...</td>\n      <td>16242703</td>\n      <td>1671741731</td>\n      <td>0x96035b45bc0d22f0ed11283a91145fb001c48370</td>\n      <td>0xc413dd03555f3eb29d834b482d386b2999dc2eb0</td>\n      <td>0xd998c35b7900b344bbbe6555cc11576942cf309d</td>\n      <td>0.983536</td>\n      <td>None</td>\n      <td>BORROWER</td>\n      <td>...</td>\n      <td>0xc02aaa39b223fe8d0a0e5c4f27ead9083c756cc2</td>\n      <td>Governance OHM</td>\n      <td>gOHM</td>\n      <td>18</td>\n      <td>2838.193286</td>\n      <td>13520668277842151665</td>\n      <td>34629.263098</td>\n      <td>withdraw</td>\n      <td>13.520668</td>\n      <td>2022-12-22 20:42:11</td>\n    </tr>\n    <tr>\n      <th>104</th>\n      <td>0x7c24d04318da39f08c7ba4f8d413a487133ce1b1f117...</td>\n      <td>0x7c24d04318da39f08c7ba4f8d413a487133ce1b1f117...</td>\n      <td>16242703</td>\n      <td>1671741731</td>\n      <td>0x96035b45bc0d22f0ed11283a91145fb001c48370</td>\n      <td>0xc413dd03555f3eb29d834b482d386b2999dc2eb0</td>\n      <td>0xd998c35b7900b344bbbe6555cc11576942cf309d</td>\n      <td>2.840751</td>\n      <td>None</td>\n      <td>BORROWER</td>\n      <td>...</td>\n      <td>0xd7c9f0e536dc865ae858b0c0453fe76d13c3beac</td>\n      <td>Governance OHM</td>\n      <td>gOHM</td>\n      <td>18</td>\n      <td>2838.193286</td>\n      <td>13520668277842151665</td>\n      <td>34629.263098</td>\n      <td>withdraw</td>\n      <td>13.520668</td>\n      <td>2022-12-22 20:42:11</td>\n    </tr>\n    <tr>\n      <th>114</th>\n      <td>0x3cf3a5658c3ef1a247ec241370a3abfeb673251eafec...</td>\n      <td>0x3cf3a5658c3ef1a247ec241370a3abfeb673251eafec...</td>\n      <td>16176122</td>\n      <td>1670938643</td>\n      <td>0x791d1ec51d931186c1d4b80e753b7155dd98f741</td>\n      <td>0xc413dd03555f3eb29d834b482d386b2999dc2eb0</td>\n      <td>0xd998c35b7900b344bbbe6555cc11576942cf309d</td>\n      <td>0.000000</td>\n      <td>None</td>\n      <td>BORROWER</td>\n      <td>...</td>\n      <td>0x0ab87046fbb341d058f17cbc4c1133f25a20a52f</td>\n      <td>Governance OHM</td>\n      <td>gOHM</td>\n      <td>18</td>\n      <td>2838.193286</td>\n      <td>19999999999999999</td>\n      <td>51.410624</td>\n      <td>withdraw</td>\n      <td>0.020000</td>\n      <td>2022-12-13 13:37:23</td>\n    </tr>\n    <tr>\n      <th>115</th>\n      <td>0x3cf3a5658c3ef1a247ec241370a3abfeb673251eafec...</td>\n      <td>0x3cf3a5658c3ef1a247ec241370a3abfeb673251eafec...</td>\n      <td>16176122</td>\n      <td>1670938643</td>\n      <td>0x791d1ec51d931186c1d4b80e753b7155dd98f741</td>\n      <td>0xc413dd03555f3eb29d834b482d386b2999dc2eb0</td>\n      <td>0xd998c35b7900b344bbbe6555cc11576942cf309d</td>\n      <td>0.983536</td>\n      <td>None</td>\n      <td>BORROWER</td>\n      <td>...</td>\n      <td>0xc02aaa39b223fe8d0a0e5c4f27ead9083c756cc2</td>\n      <td>Governance OHM</td>\n      <td>gOHM</td>\n      <td>18</td>\n      <td>2838.193286</td>\n      <td>19999999999999999</td>\n      <td>51.410624</td>\n      <td>withdraw</td>\n      <td>0.020000</td>\n      <td>2022-12-13 13:37:23</td>\n    </tr>\n    <tr>\n      <th>116</th>\n      <td>0x3cf3a5658c3ef1a247ec241370a3abfeb673251eafec...</td>\n      <td>0x3cf3a5658c3ef1a247ec241370a3abfeb673251eafec...</td>\n      <td>16176122</td>\n      <td>1670938643</td>\n      <td>0x791d1ec51d931186c1d4b80e753b7155dd98f741</td>\n      <td>0xc413dd03555f3eb29d834b482d386b2999dc2eb0</td>\n      <td>0xd998c35b7900b344bbbe6555cc11576942cf309d</td>\n      <td>2.840751</td>\n      <td>None</td>\n      <td>BORROWER</td>\n      <td>...</td>\n      <td>0xd7c9f0e536dc865ae858b0c0453fe76d13c3beac</td>\n      <td>Governance OHM</td>\n      <td>gOHM</td>\n      <td>18</td>\n      <td>2838.193286</td>\n      <td>19999999999999999</td>\n      <td>51.410624</td>\n      <td>withdraw</td>\n      <td>0.020000</td>\n      <td>2022-12-13 13:37:23</td>\n    </tr>\n    <tr>\n      <th>138</th>\n      <td>0xbb87996c54ed5859d905c96b7b43212cdbc74b1c99aa...</td>\n      <td>0xbb87996c54ed5859d905c96b7b43212cdbc74b1c99aa...</td>\n      <td>16036062</td>\n      <td>1669247351</td>\n      <td>0x62a4a8f9f5f3aae9ee9cee780285a0d501c12d09</td>\n      <td>0xc413dd03555f3eb29d834b482d386b2999dc2eb0</td>\n      <td>0xd998c35b7900b344bbbe6555cc11576942cf309d</td>\n      <td>0.000000</td>\n      <td>None</td>\n      <td>BORROWER</td>\n      <td>...</td>\n      <td>0x0ab87046fbb341d058f17cbc4c1133f25a20a52f</td>\n      <td>Governance OHM</td>\n      <td>gOHM</td>\n      <td>18</td>\n      <td>2838.193286</td>\n      <td>168240000000000000</td>\n      <td>375.708151</td>\n      <td>withdraw</td>\n      <td>0.168240</td>\n      <td>2022-11-23 23:49:11</td>\n    </tr>\n    <tr>\n      <th>139</th>\n      <td>0xbb87996c54ed5859d905c96b7b43212cdbc74b1c99aa...</td>\n      <td>0xbb87996c54ed5859d905c96b7b43212cdbc74b1c99aa...</td>\n      <td>16036062</td>\n      <td>1669247351</td>\n      <td>0x62a4a8f9f5f3aae9ee9cee780285a0d501c12d09</td>\n      <td>0xc413dd03555f3eb29d834b482d386b2999dc2eb0</td>\n      <td>0xd998c35b7900b344bbbe6555cc11576942cf309d</td>\n      <td>0.983536</td>\n      <td>None</td>\n      <td>BORROWER</td>\n      <td>...</td>\n      <td>0xc02aaa39b223fe8d0a0e5c4f27ead9083c756cc2</td>\n      <td>Governance OHM</td>\n      <td>gOHM</td>\n      <td>18</td>\n      <td>2838.193286</td>\n      <td>168240000000000000</td>\n      <td>375.708151</td>\n      <td>withdraw</td>\n      <td>0.168240</td>\n      <td>2022-11-23 23:49:11</td>\n    </tr>\n    <tr>\n      <th>140</th>\n      <td>0xbb87996c54ed5859d905c96b7b43212cdbc74b1c99aa...</td>\n      <td>0xbb87996c54ed5859d905c96b7b43212cdbc74b1c99aa...</td>\n      <td>16036062</td>\n      <td>1669247351</td>\n      <td>0x62a4a8f9f5f3aae9ee9cee780285a0d501c12d09</td>\n      <td>0xc413dd03555f3eb29d834b482d386b2999dc2eb0</td>\n      <td>0xd998c35b7900b344bbbe6555cc11576942cf309d</td>\n      <td>2.840751</td>\n      <td>None</td>\n      <td>BORROWER</td>\n      <td>...</td>\n      <td>0xd7c9f0e536dc865ae858b0c0453fe76d13c3beac</td>\n      <td>Governance OHM</td>\n      <td>gOHM</td>\n      <td>18</td>\n      <td>2838.193286</td>\n      <td>168240000000000000</td>\n      <td>375.708151</td>\n      <td>withdraw</td>\n      <td>0.168240</td>\n      <td>2022-11-23 23:49:11</td>\n    </tr>\n  </tbody>\n</table>\n<p>36 rows × 21 columns</p>\n</div>"
     },
     "execution_count": 949,
     "metadata": {},
     "output_type": "execute_result"
    }
   ],
   "source": [
    "siloWithdrawEventsDbTimedClean = pd.DataFrame()\n",
    "siloWithdrawsDb['transactionReadableAmount'] = siloWithdrawsDb['transaction_amount']/(10**(siloWithdrawsDb['transaction_asset_decimals']))\n",
    "siloWithdrawsDb['transactionReadableAmount']=siloWithdrawsDb['transactionReadableAmount'].astype('float')\n",
    "siloWithdrawsDb['dateTime'] =(pd.to_datetime(siloWithdrawsDb['transaction_timestamp'],unit='s'))\n",
    "\n",
    "#we only want withdrawals in GOHM from those that borrowed, so drop anyone that is not on that side\n",
    "siloWithdrawsDb.drop(siloWithdrawsDb.loc[siloWithdrawsDb['transaction_market_rates_side']!='BORROWER'].index, inplace=True)\n",
    "siloWithdrawsDb.drop(siloWithdrawsDb.loc[siloWithdrawsDb['transaction_asset_symbol']!='gOHM'].index, inplace=True)\n",
    "\n",
    "siloWithdrawEventsDbTimedClean = siloWithdrawsDb[['event','transaction_hash','transaction_blockNumber','transaction_timestamp','transaction_account_id','transaction_market_id','transaction_asset_name','transaction_asset_symbol', 'transactionReadableAmount','transaction_asset_lastPriceUSD','transaction_amountUSD','dateTime']].copy()\n",
    "siloWithdrawEventsDbTimedClean.sort_values(by=['event','transaction_hash','transaction_blockNumber','transaction_timestamp','transaction_account_id','transaction_market_id','transaction_asset_name','transaction_asset_symbol', 'transactionReadableAmount','transaction_asset_lastPriceUSD','transaction_amountUSD','dateTime'])\n",
    "siloWithdrawEventsDbTimedClean.drop_duplicates(subset=['transaction_hash'],keep='first', inplace=True)\n",
    "siloWithdrawEventsDbTimedClean['calDate'] = siloWithdrawEventsDbTimedClean['dateTime'].dt.normalize()\n",
    "siloWithdrawsDb.head(100)"
   ],
   "metadata": {
    "collapsed": false
   }
  },
  {
   "cell_type": "code",
   "execution_count": 950,
   "outputs": [
    {
     "name": "stdout",
     "output_type": "stream",
     "text": [
      "D:\\Dropbox\\Documents\\Edgecaser LLC\\Projects\\Olympus\\Econohmetrics\\gohmAsStablecoinCollateral/data/siloFinanceGohmWithdraws_piped.csv file saved, 12  records\n"
     ]
    }
   ],
   "source": [
    "path =file+'/siloFinanceGohmWithdraws.csv'\n",
    "siloWithdrawEventsDbTimedClean.to_csv(path, index = False)\n",
    "\n",
    "path =file+'/siloFinanceGohmWithdraws_piped.csv'\n",
    "siloWithdrawEventsDbTimedClean.to_csv(path, index = False, sep='|')\n",
    "print(path, 'file saved,', len(siloWithdrawEventsDbTimedClean),' records')"
   ],
   "metadata": {
    "collapsed": false
   }
  },
  {
   "cell_type": "code",
   "execution_count": 951,
   "outputs": [
    {
     "name": "stdout",
     "output_type": "stream",
     "text": [
      "There has been a total of 182.18 OHM withdrawn cumulatively as collateral  to date\n",
      "That is a value of USD$ 502805.15\n"
     ]
    }
   ],
   "source": [
    "totalWithdrawed = sum(siloWithdrawEventsDbTimedClean['transactionReadableAmount'])\n",
    "print('There has been a total of',round(totalWithdrawed,2),  'OHM withdrawn cumulatively as collateral  to date')\n",
    "totalWithdrawedUSD =sum(siloWithdrawEventsDbTimedClean['transaction_amountUSD'])\n",
    "print('That is a value of USD$',round(totalWithdrawedUSD,2))"
   ],
   "metadata": {
    "collapsed": false
   }
  },
  {
   "cell_type": "code",
   "execution_count": 952,
   "outputs": [
    {
     "name": "stdout",
     "output_type": "stream",
     "text": [
      "364.4811867772614  -  182.17769420239753 = 182.3034925748639 currently deposited as collateral in Silo\n"
     ]
    }
   ],
   "source": [
    "siloCollateralBalance = totalDeposited -(totalWithdrawed)\n",
    "print(totalDeposited, ' - ',totalWithdrawed,'=', siloCollateralBalance, 'currently deposited as collateral in Silo' )"
   ],
   "metadata": {
    "collapsed": false
   }
  },
  {
   "cell_type": "code",
   "execution_count": 952,
   "outputs": [],
   "source": [],
   "metadata": {
    "collapsed": false
   }
  },
  {
   "cell_type": "markdown",
   "source": [
    "********************************************************************\n",
    "********************************************************************\n",
    "VESTA BORROWS - Their API is poo RN"
   ],
   "metadata": {
    "collapsed": false
   }
  },
  {
   "cell_type": "code",
   "execution_count": null,
   "outputs": [],
   "source": [
    "#https://api.thegraph.com/subgraphs/name/corerouter/vesta-finance\n",
    "vesta = sg.load_api('https://api.thegraph.com/subgraphs/name/shinitakunai/vestafinance-v1_2')"
   ],
   "metadata": {
    "collapsed": false
   }
  },
  {
   "cell_type": "code",
   "execution_count": null,
   "outputs": [],
   "source": [
    "oldVestaBorrowsDb = pd.DataFrame()\n",
    "siloFileName = file+'/vesta_borrow_events.csv'\n",
    "try:\n",
    "    oldVestaBorrowsDb = pd.read_csv (siloFileName)\n",
    "except:\n",
    "    oldVestaBorrowsDb = pd.DataFrame()\n",
    "oldVestaBorrowsDb.head(100)"
   ],
   "metadata": {
    "collapsed": false
   }
  },
  {
   "cell_type": "code",
   "execution_count": null,
   "outputs": [],
   "source": [
    "maxVestaBorrowTimestamp = 0\n",
    "try:\n",
    "    maxVestaTroveChangeId = (max(0,oldVestaBorrowsDb['troveChanges_id'].max()))\n",
    "    maxVestaTroveChangeId = int(maxVestaTroveChangeId)\n",
    "    vestaBorrows = vesta.Query.troveChanges(\n",
    "        orderBy='id',\n",
    "        orderDirection='desc',\n",
    "        first=1000,\n",
    "        skip = skipValue,\n",
    "        where= { 'asset': '0x8d9ba570d6cb60c7e3e0f31343efe75ab8e65fb1'  #gOHM market\n",
    "                ,'debtChange_lt':0\n",
    "                ,'id_gte': maxVestaTroveChangeId\n",
    "         }\n",
    "        )\n",
    "    vestaBorrowslist = sg.query_df([\n",
    "            vestaBorrows.id\n",
    "            ,vestaBorrows.transaction.id\n",
    "            ,vestaBorrows.transaction.blockNumber\n",
    "            ,vestaBorrows.debtChange\n",
    "            ,vestaBorrows.transaction.timestamp\n",
    "            ,vestaBorrows.trove.owner.id\n",
    "            ,vestaBorrows.trove.asset.id\n",
    "            ,vestaBorrows.trove.asset.name\n",
    "        ])\n",
    "except:\n",
    "    maxVestaTroveChangeId = 0\n",
    "    vestaBorrows = vesta.Query.troveChanges(\n",
    "        orderBy='id',\n",
    "        orderDirection='desc',\n",
    "        first=1000,\n",
    "        skip = skipValue,\n",
    "        where= { 'asset': '0x8d9ba570d6cb60c7e3e0f31343efe75ab8e65fb1'  #gOHM market\n",
    "                ,'debtChange_lt':0\n",
    "               #,'id_gte': maxVestaTroveChangeId\n",
    "         }\n",
    "    )\n",
    "    vestaBorrowslist = sg.query_df([\n",
    "            vestaBorrows.id\n",
    "            ,vestaBorrows.transaction.id\n",
    "            ,vestaBorrows.transaction.blockNumber\n",
    "            ,vestaBorrows.debtChange\n",
    "            ,vestaBorrows.transaction.timestamp\n",
    "            ,vestaBorrows.trove.owner.id\n",
    "            ,vestaBorrows.trove.asset.id\n",
    "            ,vestaBorrows.trove.asset.name\n",
    "        ])\n",
    "\n",
    "vestaBorrowslist.head(10)"
   ],
   "metadata": {
    "collapsed": false
   }
  },
  {
   "cell_type": "markdown",
   "source": [
    "vestaBorrows = vesta.Query.troveChanges(\n",
    "        orderBy='id',\n",
    "        orderDirection='desc',\n",
    "        first=1000,\n",
    "        skip = skipValue,\n",
    "        where= { 'asset': '0x8d9ba570d6cb60c7e3e0f31343efe75ab8e65fb1'  #gOHM market\n",
    "                ,'debtChange_lt':0\n",
    "                ,'id_gte': maxVestaTroveChangeId\n",
    "         }\n",
    "    )\n",
    "vestaBorrowslist = sg.query_df([\n",
    "        vestaBorrows.id\n",
    "        ,vestaBorrows.transaction.id\n",
    "        ,vestaBorrows.transaction.blockNumber\n",
    "        ,vestaBorrows.debtChange\n",
    "        ,vestaBorrows.transaction.timestamp\n",
    "        ,vestaBorrows.trove.owner.id\n",
    "        ,vestaBorrows.trove.asset.id\n",
    "        ,vestaBorrows.trove.asset.name\n",
    "    ])\n",
    "\n",
    "vestaBorrowslist.head(10)"
   ],
   "metadata": {
    "collapsed": false
   }
  },
  {
   "cell_type": "code",
   "execution_count": null,
   "outputs": [],
   "source": [
    "##this captures the list of people who vestaBorrowed XAI against gOHM\n",
    "vestaBorrowTicker = 0\n",
    "vestaBorrowslist = pd.DataFrame()\n",
    "vestaBorrowsDb = pd.DataFrame()\n",
    "vestaBorrowListLength = 1000\n",
    "datediff = 0\n",
    "now=0\n",
    "daysAgo=0\n",
    "daysLimit = 45\n",
    "exit = False\n",
    "while exit==False:\n",
    "    skipValue = (vestaBorrowTicker)*(1000)\n",
    "    try:\n",
    "        maxVestaTroveChangeId = (max(0,oldVestaBorrowsDb['troveChanges_id'].max()))\n",
    "        maxVestaTroveChangeId = int(maxVestaTroveChangeId)\n",
    "        vestaBorrows = vesta.Query.troveChanges(\n",
    "            orderBy='id',\n",
    "            orderDirection='desc',\n",
    "            first=1000,\n",
    "            skip = skipValue,\n",
    "            where= { 'asset': '0x8d9ba570d6cb60c7e3e0f31343efe75ab8e65fb1'  #gOHM market\n",
    "                    ,'debtChange_gt':0\n",
    "                    ,'id_gte': maxVestaTroveChangeId\n",
    "             }\n",
    "            )\n",
    "        vestaBorrowslist = sg.query_df([\n",
    "                vestaBorrows.id\n",
    "                ,vestaBorrows.transaction.id\n",
    "                ,vestaBorrows.transaction.blockNumber\n",
    "                ,vestaBorrows.debtChange\n",
    "                ,vestaBorrows.transaction.timestamp\n",
    "                ,vestaBorrows.trove.owner.id\n",
    "                ,vestaBorrows.trove.asset.id\n",
    "                ,vestaBorrows.trove.asset.name\n",
    "            ])\n",
    "    except:\n",
    "        maxVestaTroveChangeId = 0\n",
    "        vestaBorrows = vesta.Query.troveChanges(\n",
    "            orderBy='id',\n",
    "            orderDirection='desc',\n",
    "            first=1000,\n",
    "            skip = skipValue,\n",
    "            where= { 'asset': '0x8d9ba570d6cb60c7e3e0f31343efe75ab8e65fb1'  #gOHM market\n",
    "                    ,'debtChange_gt':0\n",
    "                   #,'id_gte': maxVestaTroveChangeId\n",
    "             }\n",
    "        )\n",
    "        vestaBorrowslist = sg.query_df([\n",
    "                vestaBorrows.id\n",
    "                ,vestaBorrows.transaction.id\n",
    "                ,vestaBorrows.transaction.blockNumber\n",
    "                ,vestaBorrows.debtChange\n",
    "                ,vestaBorrows.transaction.timestamp\n",
    "                ,vestaBorrows.trove.owner.id\n",
    "                ,vestaBorrows.trove.asset.id\n",
    "                ,vestaBorrows.trove.asset.name\n",
    "            ])\n",
    "\n",
    "    #vestaBorrowslist.sort_values(by=['vestaBorrows_timestamp'])\n",
    "\n",
    "    vestaBorrowsDb=pd.concat([vestaBorrowsDb, vestaBorrowslist])\n",
    "    recordTimestamp1 = vestaBorrowsDb.iat[vestaBorrowTicker,4]\n",
    "    recordTimestamp = dt.datetime.fromtimestamp( recordTimestamp1 )\n",
    "    now = (int(dt.datetime.utcnow().timestamp()))\n",
    "    datediff=abs(int(now) - recordTimestamp1)\n",
    "    daysAgo = int(datediff/86400)\n",
    "    vestaBorrowsDbLength = len(vestaBorrowsDb)\n",
    "    vestaBorrowListLength = len(vestaBorrowslist)\n",
    "    recordID = vestaBorrowsDb.iat[vestaBorrowTicker,0]\n",
    "    vestaBorrow = vestaBorrowsDb.iat[vestaBorrowTicker,1]\n",
    "    print(\"iterations: \", vestaBorrowTicker, \"Lines skipped: \",skipValue, \"records collected: \", vestaBorrowListLength, \" - latest recordID: \",vestaBorrow, \" \", recordID , \" - vestaBorrows DB length: \", vestaBorrowsDbLength, \" - latest record from: \", recordTimestamp, daysAgo,\"days ago\")\n",
    "    #print(\"iterations: \", vestaBorrowTicker, \"records collected: \", vestaBorrowListLength, \" - userdb length: \", vestaBorrowsDbLength)\n",
    "    vestaBorrowTicker = vestaBorrowTicker+1\n",
    "\n",
    "    if daysAgo>daysLimit: exit =True\n",
    "    if vestaBorrowListLength<1000: exit =True\n",
    "\n",
    "#vestaBorrowsDbTimed.columns = vestaBorrowsDbTimed.columns.str.replace(\"borrows\", \"transaction\")\n",
    "vestaBorrowsDb['event']='borrow'\n",
    "print(\"Done. Total Records collected: \", vestaBorrowsDbLength)"
   ],
   "metadata": {
    "collapsed": false
   }
  },
  {
   "cell_type": "code",
   "execution_count": null,
   "outputs": [],
   "source": [
    "vestaBorrowsDbTimed = db.query(\"select \"\n",
    "               \"    * \"\n",
    "                    \" ,to_timestamp(troveChanges_transaction_timestamp::int) dateTime \"\n",
    "               \"From vestaBorrowsDb \"\n",
    "                               \"order by troveChanges_transaction_timestamp desc\"\n",
    "               ).df()\n",
    "\n",
    "vestaBorrowsDbTimed.head(1000)"
   ],
   "metadata": {
    "collapsed": false
   }
  },
  {
   "cell_type": "code",
   "execution_count": null,
   "outputs": [],
   "source": [
    "vestaBorrowsDbTimed = pd.concat([oldVestaBorrowsDb,vestaBorrowsDbTimed]).drop_duplicates().reset_index(drop=True)\n",
    "vestaBorrowsDbTimed.drop_duplicates()\n",
    "vestaBorrowsDbTimed = db.query(\"select \"\n",
    "               \"    * \"\n",
    "               \"From vestaBorrowsDbTimed \"\n",
    "                         \"group by 1,2,3,4,5,6,7,8,9,10 \"\n",
    "                     # \"order by borrows_amountUSD desc \"\n",
    "               #\"where lower(liquidityPools_name) like lower('%olympus%') \"\n",
    "                #    \"or lower(pairs_token1_symbol) like lower('%OHM%')  \"\n",
    "               #\" limit 100 \"\n",
    "               ).df()\n",
    "\n",
    "vestaBorrowsDbTimed.head(100)"
   ],
   "metadata": {
    "collapsed": false
   }
  },
  {
   "cell_type": "code",
   "execution_count": null,
   "outputs": [],
   "source": [
    "path =file+'/vesta_borrow_events.csv'\n",
    "vestaBorrowsDbTimed.to_csv(path, index = False)\n",
    "\n",
    "path =file+'/vesta_borrow_events_piped.csv'\n",
    "vestaBorrowsDbTimed.to_csv(path, index = False, sep='|')\n",
    "print(path, 'file saved,', len(vestaBorrowsDbTimed),' records')"
   ],
   "metadata": {
    "collapsed": false
   }
  },
  {
   "cell_type": "markdown",
   "source": [
    "************************************************************\n",
    "FINE.... FRAX TOO\n",
    "\n",
    "This subgraph is completely different, so we're going to  have to crunch in order to merge all these tables into coherent reports"
   ],
   "metadata": {
    "collapsed": false
   }
  },
  {
   "cell_type": "code",
   "execution_count": 953,
   "outputs": [],
   "source": [
    "frax = sg.load_api('https://gateway.thegraph.com/api/'+apiKey+'/subgraphs/id/GELTrjPJYEzxyp6Y2CtEaYpGHcJNrJA6i5Ci4KfJSEsf')\n",
    "#frax = sg.load_api('https://api.thegraph.com/subgraphs/name/frax-finance-data/fraxlend-subgraph---mainnet')"
   ],
   "metadata": {
    "collapsed": false
   }
  },
  {
   "cell_type": "code",
   "execution_count": 978,
   "outputs": [
    {
     "data": {
      "text/plain": "Empty DataFrame\nColumns: []\nIndex: []",
      "text/html": "<div>\n<style scoped>\n    .dataframe tbody tr th:only-of-type {\n        vertical-align: middle;\n    }\n\n    .dataframe tbody tr th {\n        vertical-align: top;\n    }\n\n    .dataframe thead th {\n        text-align: right;\n    }\n</style>\n<table border=\"1\" class=\"dataframe\">\n  <thead>\n    <tr style=\"text-align: right;\">\n      <th></th>\n    </tr>\n  </thead>\n  <tbody>\n  </tbody>\n</table>\n</div>"
     },
     "execution_count": 978,
     "metadata": {},
     "output_type": "execute_result"
    }
   ],
   "source": [
    "oldFraxActions = pd.DataFrame()\n",
    "fraxFileName = file+'/frax_borrows.csv'\n",
    "try:\n",
    "    oldFraxActions = pd.read_csv (fraxFileName)\n",
    "except:\n",
    "    oldFraxActions = pd.DataFrame()\n",
    "oldFraxActions.head(1000)"
   ],
   "metadata": {
    "collapsed": false
   }
  },
  {
   "cell_type": "code",
   "execution_count": 979,
   "outputs": [
    {
     "data": {
      "text/plain": "0"
     },
     "execution_count": 979,
     "metadata": {},
     "output_type": "execute_result"
    }
   ],
   "source": [
    "maxBorrowFraxTimestamp = 0\n",
    "try:\n",
    "    maxBorrowFraxTimestamp = (max(1,oldFraxActions['actions_timestamp'].max()))-1\n",
    "except:\n",
    "        maxBorrowFraxTimestamp = 0\n",
    "maxBorrowFraxTimestamp = int(maxBorrowFraxTimestamp)\n",
    "maxBorrowFraxTimestamp"
   ],
   "metadata": {
    "collapsed": false
   }
  },
  {
   "cell_type": "code",
   "execution_count": 980,
   "outputs": [
    {
     "data": {
      "text/plain": "                                           actions_id   actions_type  \\\n0   0xa36fce829a2866df6030c9e52d02c538b7f1ca3ba28a...    borrowAsset   \n1   0xa36fce829a2866df6030c9e52d02c538b7f1ca3ba28a...  addCollateral   \n2   0x374e4347a5abad8ebf70cbb9fde86005a3bfbeaeee44...    borrowAsset   \n3   0x4c7cd0a0fe188a8049ac8c28269d52106804986dfb99...    borrowAsset   \n4   0x4c7cd0a0fe188a8049ac8c28269d52106804986dfb99...  addCollateral   \n..                                                ...            ...   \n95  0x2dc9bc4f7c7ac1708768d1f6f6e6a41b8fb4964fd894...    borrowAsset   \n96  0x2dc9bc4f7c7ac1708768d1f6f6e6a41b8fb4964fd894...  addCollateral   \n97  0x5dea5a1baef298676a0c47666ca76db0d00637a96750...    borrowAsset   \n98  0x2c4738e7f57d0ef25cef1541393689e07f7f01b8774a...    borrowAsset   \n99  0x2c4738e7f57d0ef25cef1541393689e07f7f01b8774a...  addCollateral   \n\n             actions_amount  actions_timestamp  actions_block  \\\n0                         0         1676866727       16667337   \n1       7006979439076347667         1676866727       16667337   \n2   10000000000000000000000         1676865431       16667229   \n3                         0         1676856395       16666484   \n4       6480000000000000000         1676856395       16666484   \n..                      ...                ...            ...   \n95                        0         1675973579       16593503   \n96      1849694947953999686         1675973579       16593503   \n97   5000000000000000000000         1675972547       16593417   \n98                        0         1675971107       16593299   \n99     10533450057609652328         1675971107       16593299   \n\n   actions_token_name                        actions_root_address  \\\n0                Frax  0xc0e0de939f26e71683452467942aff455ca153e3   \n1      Governance OHM  0xc0e0de939f26e71683452467942aff455ca153e3   \n2                Frax  0xc0e0de939f26e71683452467942aff455ca153e3   \n3                Frax  0xc0e0de939f26e71683452467942aff455ca153e3   \n4      Governance OHM  0xc0e0de939f26e71683452467942aff455ca153e3   \n..                ...                                         ...   \n95               Frax  0xc0e0de939f26e71683452467942aff455ca153e3   \n96     Governance OHM  0xc0e0de939f26e71683452467942aff455ca153e3   \n97               Frax  0xc0e0de939f26e71683452467942aff455ca153e3   \n98               Frax  0xc0e0de939f26e71683452467942aff455ca153e3   \n99     Governance OHM  0xc0e0de939f26e71683452467942aff455ca153e3   \n\n   actions_pair_asset_symbol  actions_pair_asset_decimals  \\\n0                       FRAX                           18   \n1                       FRAX                           18   \n2                       FRAX                           18   \n3                       FRAX                           18   \n4                       FRAX                           18   \n..                       ...                          ...   \n95                      FRAX                           18   \n96                      FRAX                           18   \n97                      FRAX                           18   \n98                      FRAX                           18   \n99                      FRAX                           18   \n\n   actions_pair_collateral_symbol  actions_pair_collateral_decimals  \\\n0                            gOHM                                18   \n1                            gOHM                                18   \n2                            gOHM                                18   \n3                            gOHM                                18   \n4                            gOHM                                18   \n..                            ...                               ...   \n95                           gOHM                                18   \n96                           gOHM                                18   \n97                           gOHM                                18   \n98                           gOHM                                18   \n99                           gOHM                                18   \n\n              dateTime  \n0  2023-02-20 04:18:47  \n1  2023-02-20 04:18:47  \n2  2023-02-20 03:57:11  \n3  2023-02-20 01:26:35  \n4  2023-02-20 01:26:35  \n..                 ...  \n95 2023-02-09 20:12:59  \n96 2023-02-09 20:12:59  \n97 2023-02-09 19:55:47  \n98 2023-02-09 19:31:47  \n99 2023-02-09 19:31:47  \n\n[100 rows x 12 columns]",
      "text/html": "<div>\n<style scoped>\n    .dataframe tbody tr th:only-of-type {\n        vertical-align: middle;\n    }\n\n    .dataframe tbody tr th {\n        vertical-align: top;\n    }\n\n    .dataframe thead th {\n        text-align: right;\n    }\n</style>\n<table border=\"1\" class=\"dataframe\">\n  <thead>\n    <tr style=\"text-align: right;\">\n      <th></th>\n      <th>actions_id</th>\n      <th>actions_type</th>\n      <th>actions_amount</th>\n      <th>actions_timestamp</th>\n      <th>actions_block</th>\n      <th>actions_token_name</th>\n      <th>actions_root_address</th>\n      <th>actions_pair_asset_symbol</th>\n      <th>actions_pair_asset_decimals</th>\n      <th>actions_pair_collateral_symbol</th>\n      <th>actions_pair_collateral_decimals</th>\n      <th>dateTime</th>\n    </tr>\n  </thead>\n  <tbody>\n    <tr>\n      <th>0</th>\n      <td>0xa36fce829a2866df6030c9e52d02c538b7f1ca3ba28a...</td>\n      <td>borrowAsset</td>\n      <td>0</td>\n      <td>1676866727</td>\n      <td>16667337</td>\n      <td>Frax</td>\n      <td>0xc0e0de939f26e71683452467942aff455ca153e3</td>\n      <td>FRAX</td>\n      <td>18</td>\n      <td>gOHM</td>\n      <td>18</td>\n      <td>2023-02-20 04:18:47</td>\n    </tr>\n    <tr>\n      <th>1</th>\n      <td>0xa36fce829a2866df6030c9e52d02c538b7f1ca3ba28a...</td>\n      <td>addCollateral</td>\n      <td>7006979439076347667</td>\n      <td>1676866727</td>\n      <td>16667337</td>\n      <td>Governance OHM</td>\n      <td>0xc0e0de939f26e71683452467942aff455ca153e3</td>\n      <td>FRAX</td>\n      <td>18</td>\n      <td>gOHM</td>\n      <td>18</td>\n      <td>2023-02-20 04:18:47</td>\n    </tr>\n    <tr>\n      <th>2</th>\n      <td>0x374e4347a5abad8ebf70cbb9fde86005a3bfbeaeee44...</td>\n      <td>borrowAsset</td>\n      <td>10000000000000000000000</td>\n      <td>1676865431</td>\n      <td>16667229</td>\n      <td>Frax</td>\n      <td>0xc0e0de939f26e71683452467942aff455ca153e3</td>\n      <td>FRAX</td>\n      <td>18</td>\n      <td>gOHM</td>\n      <td>18</td>\n      <td>2023-02-20 03:57:11</td>\n    </tr>\n    <tr>\n      <th>3</th>\n      <td>0x4c7cd0a0fe188a8049ac8c28269d52106804986dfb99...</td>\n      <td>borrowAsset</td>\n      <td>0</td>\n      <td>1676856395</td>\n      <td>16666484</td>\n      <td>Frax</td>\n      <td>0xc0e0de939f26e71683452467942aff455ca153e3</td>\n      <td>FRAX</td>\n      <td>18</td>\n      <td>gOHM</td>\n      <td>18</td>\n      <td>2023-02-20 01:26:35</td>\n    </tr>\n    <tr>\n      <th>4</th>\n      <td>0x4c7cd0a0fe188a8049ac8c28269d52106804986dfb99...</td>\n      <td>addCollateral</td>\n      <td>6480000000000000000</td>\n      <td>1676856395</td>\n      <td>16666484</td>\n      <td>Governance OHM</td>\n      <td>0xc0e0de939f26e71683452467942aff455ca153e3</td>\n      <td>FRAX</td>\n      <td>18</td>\n      <td>gOHM</td>\n      <td>18</td>\n      <td>2023-02-20 01:26:35</td>\n    </tr>\n    <tr>\n      <th>...</th>\n      <td>...</td>\n      <td>...</td>\n      <td>...</td>\n      <td>...</td>\n      <td>...</td>\n      <td>...</td>\n      <td>...</td>\n      <td>...</td>\n      <td>...</td>\n      <td>...</td>\n      <td>...</td>\n      <td>...</td>\n    </tr>\n    <tr>\n      <th>95</th>\n      <td>0x2dc9bc4f7c7ac1708768d1f6f6e6a41b8fb4964fd894...</td>\n      <td>borrowAsset</td>\n      <td>0</td>\n      <td>1675973579</td>\n      <td>16593503</td>\n      <td>Frax</td>\n      <td>0xc0e0de939f26e71683452467942aff455ca153e3</td>\n      <td>FRAX</td>\n      <td>18</td>\n      <td>gOHM</td>\n      <td>18</td>\n      <td>2023-02-09 20:12:59</td>\n    </tr>\n    <tr>\n      <th>96</th>\n      <td>0x2dc9bc4f7c7ac1708768d1f6f6e6a41b8fb4964fd894...</td>\n      <td>addCollateral</td>\n      <td>1849694947953999686</td>\n      <td>1675973579</td>\n      <td>16593503</td>\n      <td>Governance OHM</td>\n      <td>0xc0e0de939f26e71683452467942aff455ca153e3</td>\n      <td>FRAX</td>\n      <td>18</td>\n      <td>gOHM</td>\n      <td>18</td>\n      <td>2023-02-09 20:12:59</td>\n    </tr>\n    <tr>\n      <th>97</th>\n      <td>0x5dea5a1baef298676a0c47666ca76db0d00637a96750...</td>\n      <td>borrowAsset</td>\n      <td>5000000000000000000000</td>\n      <td>1675972547</td>\n      <td>16593417</td>\n      <td>Frax</td>\n      <td>0xc0e0de939f26e71683452467942aff455ca153e3</td>\n      <td>FRAX</td>\n      <td>18</td>\n      <td>gOHM</td>\n      <td>18</td>\n      <td>2023-02-09 19:55:47</td>\n    </tr>\n    <tr>\n      <th>98</th>\n      <td>0x2c4738e7f57d0ef25cef1541393689e07f7f01b8774a...</td>\n      <td>borrowAsset</td>\n      <td>0</td>\n      <td>1675971107</td>\n      <td>16593299</td>\n      <td>Frax</td>\n      <td>0xc0e0de939f26e71683452467942aff455ca153e3</td>\n      <td>FRAX</td>\n      <td>18</td>\n      <td>gOHM</td>\n      <td>18</td>\n      <td>2023-02-09 19:31:47</td>\n    </tr>\n    <tr>\n      <th>99</th>\n      <td>0x2c4738e7f57d0ef25cef1541393689e07f7f01b8774a...</td>\n      <td>addCollateral</td>\n      <td>10533450057609652328</td>\n      <td>1675971107</td>\n      <td>16593299</td>\n      <td>Governance OHM</td>\n      <td>0xc0e0de939f26e71683452467942aff455ca153e3</td>\n      <td>FRAX</td>\n      <td>18</td>\n      <td>gOHM</td>\n      <td>18</td>\n      <td>2023-02-09 19:31:47</td>\n    </tr>\n  </tbody>\n</table>\n<p>100 rows × 12 columns</p>\n</div>"
     },
     "execution_count": 980,
     "metadata": {},
     "output_type": "execute_result"
    }
   ],
   "source": [
    "actionsQuery = frax.Query.actions(\n",
    "     orderBy='timestamp'\n",
    "    ,orderDirection='desc'\n",
    "    ,first=1000\n",
    "    #,where = [frax.Query.actions.token.id == '0x66bf36dba79d4606039f04b32946a260bcd3ff52']\n",
    "    ,where={ 'pair': '0x66bf36dba79d4606039f04b32946a260bcd3ff52'\n",
    "             ,'timestamp_gte': maxBorrowFraxTimestamp\n",
    "             }\n",
    "    #,where = {'positions.pairid':'0x66bf36dba79d4606039f04b32946a260bcd3ff52'}\n",
    "#{'users_positions_pair_id':'0x66bf36dba79d4606039f04b32946a260bcd3ff52'}\n",
    "\n",
    ")\n",
    "actions= sg.query_df([\n",
    "    actionsQuery.id\n",
    "    ,actionsQuery.type\n",
    "    ,actionsQuery.amount\n",
    "    ,actionsQuery.timestamp\n",
    "    ,actionsQuery.block\n",
    "    ,actionsQuery.token.name\n",
    "    ,actionsQuery.root.address\n",
    "    ,actionsQuery.pair.asset.symbol\n",
    "    ,actionsQuery.pair.asset.decimals\n",
    "    ,actionsQuery.pair.collateral.symbol\n",
    "    ,actionsQuery.pair.collateral.decimals\n",
    "    ]\n",
    ")\n",
    "actions['dateTime'] =(pd.to_datetime(actions['actions_timestamp'],unit='s'))\n",
    "actions.head(100)"
   ],
   "metadata": {
    "collapsed": false
   }
  },
  {
   "cell_type": "code",
   "execution_count": 981,
   "outputs": [
    {
     "name": "stdout",
     "output_type": "stream",
     "text": [
      "iterations:  0 Lines skipped:  0 records collected:  1000  - latest recordID:  borrowAsset   0xa36fce829a2866df6030c9e52d02c538b7f1ca3ba28a39371eadbd1a7d19c5ec+1  - actions DB length:  1000  - latest record from:  2023-02-19 20:18:47 0 days ago\n",
      "iterations:  1 Lines skipped:  1000 records collected:  1000  - latest recordID:  addCollateral   0xa36fce829a2866df6030c9e52d02c538b7f1ca3ba28a39371eadbd1a7d19c5ec  - actions DB length:  2000  - latest record from:  2023-02-19 20:18:47 0 days ago\n",
      "iterations:  2 Lines skipped:  2000 records collected:  1000  - latest recordID:  borrowAsset   0x374e4347a5abad8ebf70cbb9fde86005a3bfbeaeee444981120505b2e49f050d  - actions DB length:  3000  - latest record from:  2023-02-19 19:57:11 0 days ago\n",
      "iterations:  3 Lines skipped:  3000 records collected:  1000  - latest recordID:  borrowAsset   0x4c7cd0a0fe188a8049ac8c28269d52106804986dfb9956dd84e7206633b56fd4+1  - actions DB length:  4000  - latest record from:  2023-02-19 17:26:35 0 days ago\n",
      "iterations:  4 Lines skipped:  4000 records collected:  1000  - latest recordID:  addCollateral   0x4c7cd0a0fe188a8049ac8c28269d52106804986dfb9956dd84e7206633b56fd4  - actions DB length:  5000  - latest record from:  2023-02-19 17:26:35 0 days ago\n",
      "iterations:  5 Lines skipped:  5000 records collected:  1000  - latest recordID:  borrowAsset   0xbea1383c97aff27bcf1cbe8f19ba3938e16a0f04b45fed6f9ad8f4a70acc7def+1  - actions DB length:  6000  - latest record from:  2023-02-19 12:16:23 0 days ago\n",
      "iterations:  6 Lines skipped:  6000 records collected:  1000  - latest recordID:  addCollateral   0xbea1383c97aff27bcf1cbe8f19ba3938e16a0f04b45fed6f9ad8f4a70acc7def  - actions DB length:  7000  - latest record from:  2023-02-19 12:16:23 0 days ago\n",
      "iterations:  7 Lines skipped:  7000 records collected:  1000  - latest recordID:  borrowAsset   0x15f93b52199fd785e5e2423777b99e80b93b5ac0ea6f8bdd041d08ad1e925da4  - actions DB length:  8000  - latest record from:  2023-02-19 08:12:23 0 days ago\n",
      "iterations:  8 Lines skipped:  8000 records collected:  1000  - latest recordID:  borrowAsset   0x634c74994952e29a5c2a5cc59251aece8937130cdd40d9e26768e337541be328  - actions DB length:  9000  - latest record from:  2023-02-19 06:25:11 1 days ago\n",
      "iterations:  9 Lines skipped:  9000 records collected:  1000  - latest recordID:  borrowAsset   0x0ae9fafdbef4514be9b8310a7ee390fdd6151f6cba75505d102dce3f5b086ce8  - actions DB length:  10000  - latest record from:  2023-02-19 05:40:35 1 days ago\n",
      "iterations:  10 Lines skipped:  10000 records collected:  1000  - latest recordID:  borrowAsset   0x124321323deb9a40fb2b53dd0db56d0f6fee470a4d946bc67a500da94771e7b0  - actions DB length:  11000  - latest record from:  2023-02-18 20:40:47 1 days ago\n",
      "iterations:  11 Lines skipped:  11000 records collected:  1000  - latest recordID:  removeAsset   0x35cf7d8156372112e5c94859a3c164cecd5acb2e717dc961cf3245ffd62c9bcb  - actions DB length:  12000  - latest record from:  2023-02-18 16:41:47 1 days ago\n",
      "iterations:  12 Lines skipped:  12000 records collected:  1000  - latest recordID:  borrowAsset   0x949c6939bd5519c5d3a3ec190a66a8523940ea62125504bcb8543d431a603026+1  - actions DB length:  13000  - latest record from:  2023-02-18 14:49:59 1 days ago\n",
      "iterations:  13 Lines skipped:  13000 records collected:  1000  - latest recordID:  addCollateral   0x949c6939bd5519c5d3a3ec190a66a8523940ea62125504bcb8543d431a603026  - actions DB length:  14000  - latest record from:  2023-02-18 14:49:59 1 days ago\n",
      "iterations:  14 Lines skipped:  14000 records collected:  1000  - latest recordID:  addAsset   0x430294fc7c74f812cf91b43a162abcc456dfbb12fe8cd72d3261bc8dc74ced03  - actions DB length:  15000  - latest record from:  2023-02-18 11:20:35 1 days ago\n",
      "iterations:  15 Lines skipped:  15000 records collected:  1000  - latest recordID:  removeAsset   0x3c2e7c29d3beabb113328bc307bd8887b480eac465fbe886c18b4171e94e9bef  - actions DB length:  16000  - latest record from:  2023-02-18 07:23:35 1 days ago\n",
      "iterations:  16 Lines skipped:  16000 records collected:  1000  - latest recordID:  borrowAsset   0x2df96f85334a360e1323b3e2d4dcc3f907f2102309e112ea9d52132074eb4a38  - actions DB length:  17000  - latest record from:  2023-02-18 04:23:59 2 days ago\n",
      "iterations:  17 Lines skipped:  17000 records collected:  1000  - latest recordID:  borrowAsset   0xb0b826b645c33f328cbfe6f9ebbf055371a547e87217f1a4facdd0eceb7ac6ae  - actions DB length:  18000  - latest record from:  2023-02-18 01:04:23 2 days ago\n",
      "iterations:  18 Lines skipped:  18000 records collected:  1000  - latest recordID:  addCollateral   0xcc053235b8a6b731c51dbc5abb406021d9b96116e438ae76e8e828b2b7fbade5  - actions DB length:  19000  - latest record from:  2023-02-18 01:03:23 2 days ago\n",
      "iterations:  19 Lines skipped:  19000 records collected:  1000  - latest recordID:  borrowAsset   0x978b51e8acef9d0cc2f70b79794e800c23ed7b0915f268a5ae5d11f84fa71b11  - actions DB length:  20000  - latest record from:  2023-02-17 15:41:35 2 days ago\n",
      "iterations:  20 Lines skipped:  20000 records collected:  1000  - latest recordID:  borrowAsset   0xbd3dc2580148098c33de64ab5d8b9c53c2a62aedfadb389f6e4da0c8619033d3+1  - actions DB length:  21000  - latest record from:  2023-02-17 12:54:11 2 days ago\n",
      "iterations:  21 Lines skipped:  21000 records collected:  1000  - latest recordID:  addCollateral   0xbd3dc2580148098c33de64ab5d8b9c53c2a62aedfadb389f6e4da0c8619033d3  - actions DB length:  22000  - latest record from:  2023-02-17 12:54:11 2 days ago\n",
      "iterations:  22 Lines skipped:  22000 records collected:  1000  - latest recordID:  removeAsset   0xab2afc62785cd5e9e2dd310cd1b84ca742f33cc6a979cf43b1a5f3601e5b96c0  - actions DB length:  23000  - latest record from:  2023-02-17 04:10:59 3 days ago\n",
      "iterations:  23 Lines skipped:  23000 records collected:  1000  - latest recordID:  borrowAsset   0x8ee4b2c2631549768e73d5b47b7755715c06063dba9dfd8be35f5b2ab81cf4c6  - actions DB length:  24000  - latest record from:  2023-02-17 03:44:59 3 days ago\n",
      "iterations:  24 Lines skipped:  24000 records collected:  1000  - latest recordID:  borrowAsset   0x41c98727ed46b57cee2bdc6d552d733cbe9a43a02fef9f5252f1f0e95bac5dd0  - actions DB length:  25000  - latest record from:  2023-02-16 16:48:47 3 days ago\n",
      "iterations:  25 Lines skipped:  25000 records collected:  1000  - latest recordID:  repayAsset   0xc84158cfb0de12eb6da22f0e9f373de223e81cbb2901507cf3a5375e461699d5  - actions DB length:  26000  - latest record from:  2023-02-16 15:49:11 3 days ago\n",
      "iterations:  26 Lines skipped:  26000 records collected:  1000  - latest recordID:  borrowAsset   0x0dcc234aa537f7245de13296bd9f19b031cb0d60d942609ef7507d8a175ace9c+1  - actions DB length:  27000  - latest record from:  2023-02-16 15:28:23 3 days ago\n",
      "iterations:  27 Lines skipped:  27000 records collected:  1000  - latest recordID:  addCollateral   0x0dcc234aa537f7245de13296bd9f19b031cb0d60d942609ef7507d8a175ace9c  - actions DB length:  28000  - latest record from:  2023-02-16 15:28:23 3 days ago\n",
      "iterations:  28 Lines skipped:  28000 records collected:  1000  - latest recordID:  removeCollateral   0xa43b5cafe8fa36b170da2572f2d81f10005edec53721837caec383393861bf36  - actions DB length:  29000  - latest record from:  2023-02-16 15:16:11 3 days ago\n",
      "iterations:  29 Lines skipped:  29000 records collected:  1000  - latest recordID:  repayAsset   0xcfc1e4017009147238d042380cebf72824c49cf03523246e181a6bc5e940da23  - actions DB length:  30000  - latest record from:  2023-02-16 13:46:59 3 days ago\n",
      "iterations:  30 Lines skipped:  30000 records collected:  1000  - latest recordID:  removeCollateral   0x26cce8d6cb5173fd5d3feac628ecbba1c1de437b7bdb3ab48b82f8090c92aaee  - actions DB length:  31000  - latest record from:  2023-02-16 13:29:23 3 days ago\n",
      "iterations:  31 Lines skipped:  31000 records collected:  1000  - latest recordID:  borrowAsset   0x795f1995f3ae71df4538b386f0eafd55e3da0c016f1efe2830a0a57c526a79f0+1  - actions DB length:  32000  - latest record from:  2023-02-16 13:18:59 3 days ago\n",
      "iterations:  32 Lines skipped:  32000 records collected:  1000  - latest recordID:  addCollateral   0x795f1995f3ae71df4538b386f0eafd55e3da0c016f1efe2830a0a57c526a79f0  - actions DB length:  33000  - latest record from:  2023-02-16 13:18:59 3 days ago\n",
      "iterations:  33 Lines skipped:  33000 records collected:  1000  - latest recordID:  borrowAsset   0x6acb337f512c4350156321ddc7f55883445c3a9dcb68808b2af4446033d7bc0b  - actions DB length:  34000  - latest record from:  2023-02-16 08:00:47 3 days ago\n",
      "iterations:  34 Lines skipped:  34000 records collected:  1000  - latest recordID:  addAsset   0x2c4f7526cbbd8e9b77c2bbe0f8d8b4115d9d294693fb21d41c1bfc9eb8050db9  - actions DB length:  35000  - latest record from:  2023-02-16 02:39:35 4 days ago\n",
      "iterations:  35 Lines skipped:  35000 records collected:  1000  - latest recordID:  borrowAsset   0xc140539b65714620d05950bda8e5199da73b3c331a6449c7c87e85fead308410  - actions DB length:  36000  - latest record from:  2023-02-15 16:30:35 4 days ago\n",
      "iterations:  36 Lines skipped:  36000 records collected:  1000  - latest recordID:  repayAsset   0x74bf51475fa3f20f517da02d7fc395208fbec29169102fced0ef56e3485c33e0  - actions DB length:  37000  - latest record from:  2023-02-15 14:43:35 4 days ago\n",
      "iterations:  37 Lines skipped:  37000 records collected:  1000  - latest recordID:  borrowAsset   0xa267cba21533795e1badd0de59cf721cfc4fbc780a846839a57b2c32bd220bc8  - actions DB length:  38000  - latest record from:  2023-02-15 13:54:23 4 days ago\n",
      "iterations:  38 Lines skipped:  38000 records collected:  1000  - latest recordID:  borrowAsset   0xf0abbeb0520833ee6b88c3b993a6a16e65cab6fd44031f4c0b1f2de4b65834f4  - actions DB length:  39000  - latest record from:  2023-02-15 12:59:47 4 days ago\n",
      "iterations:  39 Lines skipped:  39000 records collected:  1000  - latest recordID:  addAsset   0xd66563d2e3a2603326bfc72b6ef556a7e33a949e0ad20a7da164da43f6f7cb2d  - actions DB length:  40000  - latest record from:  2023-02-15 12:33:59 4 days ago\n",
      "iterations:  40 Lines skipped:  40000 records collected:  1000  - latest recordID:  borrowAsset   0x7856d9802271871c9b28a0e7a4c10e034816b6531033dd5eae5379d9c16ee42a  - actions DB length:  41000  - latest record from:  2023-02-15 11:48:59 4 days ago\n",
      "iterations:  41 Lines skipped:  41000 records collected:  1000  - latest recordID:  removeCollateral   0x76c5baaf9c45b3ee5ee4f5518a0f13346aaee7215d18dca5517212f5119b5e60  - actions DB length:  42000  - latest record from:  2023-02-15 06:05:11 5 days ago\n",
      "iterations:  42 Lines skipped:  42000 records collected:  1000  - latest recordID:  repayAsset   0x1ec21c9c8169b41b515a76dd8d68cb60c2a93f20daeb5351f8c23bee85165719  - actions DB length:  43000  - latest record from:  2023-02-15 06:04:23 5 days ago\n",
      "iterations:  43 Lines skipped:  43000 records collected:  1000  - latest recordID:  removeCollateral   0x0938913aaf6f6dc685c537d2cc245c9e8437f73ac7d5caec6f701eb7936e22d1  - actions DB length:  44000  - latest record from:  2023-02-15 05:53:11 5 days ago\n",
      "iterations:  44 Lines skipped:  44000 records collected:  1000  - latest recordID:  borrowAsset   0xe2db031961c0c128773892a42844683dc17c7527a3b34451ad115460294a67a7  - actions DB length:  45000  - latest record from:  2023-02-15 04:08:59 5 days ago\n",
      "iterations:  45 Lines skipped:  45000 records collected:  1000  - latest recordID:  borrowAsset   0x2e322fd549b557f43eba958c0545112256bfda35d962f6d6abd4c600ac6dbe7b  - actions DB length:  46000  - latest record from:  2023-02-14 10:05:59 5 days ago\n",
      "iterations:  46 Lines skipped:  46000 records collected:  1000  - latest recordID:  addAsset   0x3da9de5c721a6eabf8576551f3d8d1adc4da3f801a68cca02cef546bbac64795  - actions DB length:  47000  - latest record from:  2023-02-14 07:02:11 5 days ago\n",
      "iterations:  47 Lines skipped:  47000 records collected:  1000  - latest recordID:  borrowAsset   0x1dfd3172c36e389c77cfd3e1d4e0ae425056986b69775010e3e42465a9921f6b+1  - actions DB length:  48000  - latest record from:  2023-02-14 06:02:47 6 days ago\n",
      "iterations:  48 Lines skipped:  48000 records collected:  1000  - latest recordID:  addCollateral   0x1dfd3172c36e389c77cfd3e1d4e0ae425056986b69775010e3e42465a9921f6b  - actions DB length:  49000  - latest record from:  2023-02-14 06:02:47 6 days ago\n",
      "iterations:  49 Lines skipped:  49000 records collected:  1000  - latest recordID:  borrowAsset   0xca8f2b28fbb36eb227d137fdfab17dfb2e104d372fda63faf11d4f3cab971331+1  - actions DB length:  50000  - latest record from:  2023-02-14 05:57:11 6 days ago\n",
      "iterations:  50 Lines skipped:  50000 records collected:  1000  - latest recordID:  addCollateral   0xca8f2b28fbb36eb227d137fdfab17dfb2e104d372fda63faf11d4f3cab971331  - actions DB length:  51000  - latest record from:  2023-02-14 05:57:11 6 days ago\n",
      "iterations:  51 Lines skipped:  51000 records collected:  1000  - latest recordID:  removeAsset   0xa0c66c33d6a7a399184bc00e1631cf37569b4e11f2d3629233e726eadd21dfa6  - actions DB length:  52000  - latest record from:  2023-02-14 05:35:11 6 days ago\n",
      "iterations:  52 Lines skipped:  52000 records collected:  1000  - latest recordID:  removeAsset   0xa839343605a44ebbc9acc53d7fc4fb382524aaad915fccf37d7acb47381fcddb  - actions DB length:  53000  - latest record from:  2023-02-14 04:35:11 6 days ago\n",
      "iterations:  53 Lines skipped:  53000 records collected:  1000  - latest recordID:  borrowAsset   0x023999891639c1c93db864ce955525a0804c6f5216d81d75d341c81be072987a  - actions DB length:  54000  - latest record from:  2023-02-13 13:52:23 6 days ago\n",
      "iterations:  54 Lines skipped:  54000 records collected:  1000  - latest recordID:  borrowAsset   0xd27c863004571db8166a41942a3e565e1cb4ed6392a1233723f6ba6cfb681d91  - actions DB length:  55000  - latest record from:  2023-02-13 10:52:11 6 days ago\n",
      "iterations:  55 Lines skipped:  55000 records collected:  1000  - latest recordID:  addCollateral   0x93bfdc153c70c47dc88df5b2c7a28fa129c178d3c2691612c7d08ac1e0c70467  - actions DB length:  56000  - latest record from:  2023-02-13 10:33:35 6 days ago\n",
      "iterations:  56 Lines skipped:  56000 records collected:  1000  - latest recordID:  borrowAsset   0xf6aae4916b2c041fc5f24c61ac3ee16ea860b2c7f9f271eafeb59f588eb0d0ab  - actions DB length:  57000  - latest record from:  2023-02-13 08:42:35 6 days ago\n",
      "iterations:  57 Lines skipped:  57000 records collected:  1000  - latest recordID:  borrowAsset   0x186f6c99d4fe58a91ba6b8c57bfdde7e40b3bc9137a19971b4ee875662b7ca8a  - actions DB length:  58000  - latest record from:  2023-02-13 06:27:35 7 days ago\n",
      "iterations:  58 Lines skipped:  58000 records collected:  1000  - latest recordID:  removeCollateral   0xcf9fdd868da296feca4c40710bd7601676265a61f3bdac3d7942888e0c56ffe3  - actions DB length:  59000  - latest record from:  2023-02-13 04:49:23 7 days ago\n",
      "iterations:  59 Lines skipped:  59000 records collected:  1000  - latest recordID:  repayAsset   0x1ec1f1d781c20ba212b8c86e9141634dfa5ab919c9b4a15bf53eeea45c669dfe  - actions DB length:  60000  - latest record from:  2023-02-13 04:48:11 7 days ago\n",
      "iterations:  60 Lines skipped:  60000 records collected:  1000  - latest recordID:  removeCollateral   0xa78cd3b8692a61e7e2b1781c7e7bc2e46878b4e81597d9789dc82f9bb4a64b4c  - actions DB length:  61000  - latest record from:  2023-02-13 04:41:59 7 days ago\n",
      "iterations:  61 Lines skipped:  61000 records collected:  1000  - latest recordID:  repayAsset   0x395e8e7df1cfc36cf1c5c5e745ac1fcb7d166a1b66b361f559344fbdbabf8f19  - actions DB length:  62000  - latest record from:  2023-02-13 04:41:35 7 days ago\n",
      "iterations:  62 Lines skipped:  62000 records collected:  1000  - latest recordID:  removeCollateral   0x03d12a970c30f0e7353660d5c58b307c6e5be4a87e4009a60aa455f3a4a0f18e  - actions DB length:  63000  - latest record from:  2023-02-13 04:26:59 7 days ago\n",
      "iterations:  63 Lines skipped:  63000 records collected:  1000  - latest recordID:  borrowAsset   0xa42ad3c60359e04fc73813bdabdfe157f94e370f26a21fb99077e6189e4bfd31+1  - actions DB length:  64000  - latest record from:  2023-02-12 13:56:35 7 days ago\n",
      "iterations:  64 Lines skipped:  64000 records collected:  1000  - latest recordID:  addCollateral   0xa42ad3c60359e04fc73813bdabdfe157f94e370f26a21fb99077e6189e4bfd31  - actions DB length:  65000  - latest record from:  2023-02-12 13:56:35 7 days ago\n",
      "iterations:  65 Lines skipped:  65000 records collected:  1000  - latest recordID:  borrowAsset   0x2f85c1a1f6bf251ca376cb2eab3fb95af43dde6c0380602d348ac6a0d1822183+1  - actions DB length:  66000  - latest record from:  2023-02-12 13:47:11 7 days ago\n",
      "iterations:  66 Lines skipped:  66000 records collected:  1000  - latest recordID:  addCollateral   0x2f85c1a1f6bf251ca376cb2eab3fb95af43dde6c0380602d348ac6a0d1822183  - actions DB length:  67000  - latest record from:  2023-02-12 13:47:11 7 days ago\n",
      "iterations:  67 Lines skipped:  67000 records collected:  1000  - latest recordID:  addAsset   0xcf2e9b35e0a5c582432b78db0ac293e539f10ba35c2b7c79951e2e80f8bf8bf2+1  - actions DB length:  68000  - latest record from:  2023-02-12 00:38:23 8 days ago\n",
      "iterations:  68 Lines skipped:  68000 records collected:  1000  - latest recordID:  borrowAsset   0xee34f32e20b41579ddf7e587f24830caee2f849ff3e7b802f877a9c48c1dee57  - actions DB length:  69000  - latest record from:  2023-02-11 22:02:35 8 days ago\n",
      "iterations:  69 Lines skipped:  69000 records collected:  1000  - latest recordID:  borrowAsset   0xdbbb4f259191ec17e46adf94b08b05144a9cb953ffd48d74a3550299466078f1+1  - actions DB length:  70000  - latest record from:  2023-02-11 21:43:47 8 days ago\n",
      "iterations:  70 Lines skipped:  70000 records collected:  1000  - latest recordID:  addCollateral   0xdbbb4f259191ec17e46adf94b08b05144a9cb953ffd48d74a3550299466078f1  - actions DB length:  71000  - latest record from:  2023-02-11 21:43:47 8 days ago\n",
      "iterations:  71 Lines skipped:  71000 records collected:  1000  - latest recordID:  borrowAsset   0x06a7261f4c8dcf2898b2041e79f8ee5f3f59a3fc7b4b3834b54cba6f458726f6  - actions DB length:  72000  - latest record from:  2023-02-11 05:14:23 9 days ago\n",
      "iterations:  72 Lines skipped:  72000 records collected:  1000  - latest recordID:  borrowAsset   0x40aae84af13261a43d09f402c7cfb666080135218ece4b4093af6f023b935348  - actions DB length:  73000  - latest record from:  2023-02-11 05:02:23 9 days ago\n",
      "iterations:  73 Lines skipped:  73000 records collected:  1000  - latest recordID:  borrowAsset   0x9b073aff89c20648bc17f6f3e923e28693612cd406924ba5bb342e81f8dea5e2  - actions DB length:  74000  - latest record from:  2023-02-11 05:01:23 9 days ago\n",
      "iterations:  74 Lines skipped:  74000 records collected:  1000  - latest recordID:  borrowAsset   0xe051c1a92ebd849d7ab28f651634a0e7bdc63ead0980d4d07b5bd807729688ed  - actions DB length:  75000  - latest record from:  2023-02-11 04:58:59 9 days ago\n",
      "iterations:  75 Lines skipped:  75000 records collected:  1000  - latest recordID:  addAsset   0xe7e07a65628df0ff4613cc1e0069326791509927a0501beafed7e01eb9e6415f  - actions DB length:  76000  - latest record from:  2023-02-11 02:03:23 9 days ago\n",
      "iterations:  76 Lines skipped:  76000 records collected:  1000  - latest recordID:  removeAsset   0xbaca6dc31a27148743df9e8d763c9b6ccafd49ba7bc625469a076e492366c074  - actions DB length:  77000  - latest record from:  2023-02-11 01:54:35 9 days ago\n",
      "iterations:  77 Lines skipped:  77000 records collected:  1000  - latest recordID:  borrowAsset   0xdc90c7de02b82c42e50713526a4e2c566b94e1af9b4bcb749e8404713b13fa8e  - actions DB length:  78000  - latest record from:  2023-02-10 23:49:23 9 days ago\n",
      "iterations:  78 Lines skipped:  78000 records collected:  1000  - latest recordID:  addCollateral   0xdca8987ad53c0a328708f6601d8755ac8b876831a0625661fbda7e52eb965947  - actions DB length:  79000  - latest record from:  2023-02-10 23:29:47 9 days ago\n",
      "iterations:  79 Lines skipped:  79000 records collected:  1000  - latest recordID:  borrowAsset   0x22a13c9d326c85833f65f6569bc7dfef93768d893270d9c4de775efdfebb2454  - actions DB length:  80000  - latest record from:  2023-02-10 22:28:11 9 days ago\n",
      "iterations:  80 Lines skipped:  80000 records collected:  1000  - latest recordID:  repayAsset   0x61b85113554f41e41beb5a81ae45336168b6eedaf7c597a8cbf838e53e656750  - actions DB length:  81000  - latest record from:  2023-02-10 17:43:47 9 days ago\n",
      "iterations:  81 Lines skipped:  81000 records collected:  1000  - latest recordID:  removeCollateral   0x12a8cb34e5cb26d0ee0b0cc211aabb0b03f636409dbd8e967dfed28e6eea90ba  - actions DB length:  82000  - latest record from:  2023-02-10 14:42:47 9 days ago\n",
      "iterations:  82 Lines skipped:  82000 records collected:  1000  - latest recordID:  repayAsset   0xc7c1739911ae71f7726d1d32214edb8161a341f7fcd7dc6d466681da295491ec  - actions DB length:  83000  - latest record from:  2023-02-10 14:41:35 9 days ago\n",
      "iterations:  83 Lines skipped:  83000 records collected:  1000  - latest recordID:  repayAsset   0x40e939c94b527bd4eb9f8f102cfe3c179b61f0da6bb7bb6a5ee815af6d2eaa11  - actions DB length:  84000  - latest record from:  2023-02-10 09:15:35 9 days ago\n",
      "iterations:  84 Lines skipped:  84000 records collected:  1000  - latest recordID:  borrowAsset   0x6dc275d27f2cbca7232c6fa9019ea1c84a3983636a7c102b0759efc8f5662b44  - actions DB length:  85000  - latest record from:  2023-02-10 09:14:11 9 days ago\n",
      "iterations:  85 Lines skipped:  85000 records collected:  1000  - latest recordID:  repayAsset   0x83e2ea08ec4f8a38735c7ad01954ce62ae9f79b84e7d8aadec3c4296ae5cc3bf  - actions DB length:  86000  - latest record from:  2023-02-10 08:51:11 9 days ago\n",
      "iterations:  86 Lines skipped:  86000 records collected:  1000  - latest recordID:  removeCollateral   0x004795cddb57f7037626cc0ca26e84c7507dde798b5a88696faec6b2f4ba4cf4  - actions DB length:  87000  - latest record from:  2023-02-10 08:47:23 9 days ago\n",
      "iterations:  87 Lines skipped:  87000 records collected:  1000  - latest recordID:  removeCollateral   0x17df17ec4b65d028374f6407d7998a40e2a4fdca7cbeb09bd9e8d4844efa6107  - actions DB length:  88000  - latest record from:  2023-02-10 05:46:59 10 days ago\n",
      "iterations:  88 Lines skipped:  88000 records collected:  1000  - latest recordID:  borrowAsset   0xd76a5cb0e7219544a326f05a05bc08f8e79de4947c20d926adf59efa1c0d396b  - actions DB length:  89000  - latest record from:  2023-02-10 05:28:11 10 days ago\n",
      "iterations:  89 Lines skipped:  89000 records collected:  1000  - latest recordID:  repayAsset   0x5dee647c2e8ebfad8bac45dd1ca3eab67b4841ef169283d0e759391177ad006b  - actions DB length:  90000  - latest record from:  2023-02-10 04:42:35 10 days ago\n",
      "iterations:  90 Lines skipped:  90000 records collected:  1000  - latest recordID:  borrowAsset   0xd35638a578d8f0b2134f2e09f085f4d4d2dbb1494604fc0dbd819234e3390aaf+1  - actions DB length:  91000  - latest record from:  2023-02-09 14:44:11 10 days ago\n",
      "iterations:  91 Lines skipped:  91000 records collected:  1000  - latest recordID:  addCollateral   0xd35638a578d8f0b2134f2e09f085f4d4d2dbb1494604fc0dbd819234e3390aaf  - actions DB length:  92000  - latest record from:  2023-02-09 14:44:11 10 days ago\n",
      "iterations:  92 Lines skipped:  92000 records collected:  1000  - latest recordID:  borrowAsset   0x3092d76c46045fdcf57272151e55e1b105bd4b7d4063c71cd786bf1ce5df9205  - actions DB length:  93000  - latest record from:  2023-02-09 14:41:47 10 days ago\n",
      "iterations:  93 Lines skipped:  93000 records collected:  1000  - latest recordID:  borrowAsset   0xa20176fd6cb8470bb538af582d7d97e27bbf75135d8ac2f0342c67e7a4b25bc8+1  - actions DB length:  94000  - latest record from:  2023-02-09 13:41:11 10 days ago\n",
      "iterations:  94 Lines skipped:  94000 records collected:  1000  - latest recordID:  addCollateral   0xa20176fd6cb8470bb538af582d7d97e27bbf75135d8ac2f0342c67e7a4b25bc8  - actions DB length:  95000  - latest record from:  2023-02-09 13:41:11 10 days ago\n",
      "iterations:  95 Lines skipped:  95000 records collected:  1000  - latest recordID:  borrowAsset   0x2dc9bc4f7c7ac1708768d1f6f6e6a41b8fb4964fd89410ef265d79d104d66384+1  - actions DB length:  96000  - latest record from:  2023-02-09 12:12:59 10 days ago\n",
      "iterations:  96 Lines skipped:  96000 records collected:  1000  - latest recordID:  addCollateral   0x2dc9bc4f7c7ac1708768d1f6f6e6a41b8fb4964fd89410ef265d79d104d66384  - actions DB length:  97000  - latest record from:  2023-02-09 12:12:59 10 days ago\n",
      "iterations:  97 Lines skipped:  97000 records collected:  1000  - latest recordID:  borrowAsset   0x5dea5a1baef298676a0c47666ca76db0d00637a96750e0d04f97f4f11e555127  - actions DB length:  98000  - latest record from:  2023-02-09 11:55:47 10 days ago\n",
      "iterations:  98 Lines skipped:  98000 records collected:  1000  - latest recordID:  borrowAsset   0x2c4738e7f57d0ef25cef1541393689e07f7f01b8774ac93e4925eb72eb813047+1  - actions DB length:  99000  - latest record from:  2023-02-09 11:31:47 10 days ago\n",
      "iterations:  99 Lines skipped:  99000 records collected:  1000  - latest recordID:  addCollateral   0x2c4738e7f57d0ef25cef1541393689e07f7f01b8774ac93e4925eb72eb813047  - actions DB length:  100000  - latest record from:  2023-02-09 11:31:47 10 days ago\n",
      "iterations:  100 Lines skipped:  100000 records collected:  1000  - latest recordID:  borrowAsset   0x5ab8113bf249f443569eb7a2bf142308a907e50b70ddd36e4e8e7042877c6eff+1  - actions DB length:  101000  - latest record from:  2023-02-09 10:48:59 10 days ago\n",
      "iterations:  101 Lines skipped:  101000 records collected:  1000  - latest recordID:  addCollateral   0x5ab8113bf249f443569eb7a2bf142308a907e50b70ddd36e4e8e7042877c6eff  - actions DB length:  102000  - latest record from:  2023-02-09 10:48:59 10 days ago\n",
      "iterations:  102 Lines skipped:  102000 records collected:  1000  - latest recordID:  borrowAsset   0x45dbb93901bca44a7d83c1ba9aec12bc1450a48f70b65b310782e7b9c69e5857+1  - actions DB length:  103000  - latest record from:  2023-02-09 07:25:47 10 days ago\n",
      "iterations:  103 Lines skipped:  103000 records collected:  1000  - latest recordID:  addCollateral   0x45dbb93901bca44a7d83c1ba9aec12bc1450a48f70b65b310782e7b9c69e5857  - actions DB length:  104000  - latest record from:  2023-02-09 07:25:47 10 days ago\n",
      "iterations:  104 Lines skipped:  104000 records collected:  1000  - latest recordID:  borrowAsset   0xd643ca592784c258342d02d2e22b4480e6b806a75d77fdbc7790b33eb4702268+1  - actions DB length:  105000  - latest record from:  2023-02-09 04:55:11 11 days ago\n",
      "iterations:  105 Lines skipped:  105000 records collected:  1000  - latest recordID:  addCollateral   0xd643ca592784c258342d02d2e22b4480e6b806a75d77fdbc7790b33eb4702268  - actions DB length:  106000  - latest record from:  2023-02-09 04:55:11 11 days ago\n",
      "iterations:  106 Lines skipped:  106000 records collected:  1000  - latest recordID:  removeCollateral   0x6d8ce1e40ed662ba3327b182f9d9ffae9443fb13bfbb3e03dd5908727d60e7f8  - actions DB length:  107000  - latest record from:  2023-02-09 04:10:11 11 days ago\n",
      "iterations:  107 Lines skipped:  107000 records collected:  1000  - latest recordID:  removeCollateral   0x57883c70bcdb43a1aa8e169295aeac57f30c288c03e6b96a9e2827e551261b9f  - actions DB length:  108000  - latest record from:  2023-02-08 22:44:59 11 days ago\n",
      "iterations:  108 Lines skipped:  108000 records collected:  1000  - latest recordID:  removeCollateral   0xf1391d046913eca25021c8eb8974d370089e1cdc74f77bd8898f56c7330d5039  - actions DB length:  109000  - latest record from:  2023-02-08 22:40:35 11 days ago\n",
      "iterations:  109 Lines skipped:  109000 records collected:  1000  - latest recordID:  repayAsset   0x7f9a9b4079f340cc010ddcf1ccbac3db2e1ea4e29adb9fec370000858744d38c  - actions DB length:  110000  - latest record from:  2023-02-08 22:39:47 11 days ago\n",
      "iterations:  110 Lines skipped:  110000 records collected:  1000  - latest recordID:  borrowAsset   0x4017bc338022ebff43c95d17cd8ae339d3663b31aa7bc715be25e2a2e873d75c+1  - actions DB length:  111000  - latest record from:  2023-02-08 19:39:47 11 days ago\n",
      "iterations:  111 Lines skipped:  111000 records collected:  1000  - latest recordID:  addCollateral   0x4017bc338022ebff43c95d17cd8ae339d3663b31aa7bc715be25e2a2e873d75c  - actions DB length:  112000  - latest record from:  2023-02-08 19:39:47 11 days ago\n",
      "iterations:  112 Lines skipped:  112000 records collected:  1000  - latest recordID:  removeCollateral   0xb2dc4e73b817320ffcf34c86dc9d411786e37f8af2ad739fe9eba048b40c0126  - actions DB length:  113000  - latest record from:  2023-02-08 16:01:59 11 days ago\n",
      "iterations:  113 Lines skipped:  113000 records collected:  1000  - latest recordID:  repayAsset   0xbc537609adb35fdd165f22a83da392b898080e7e2b7046c595d42bb37e971e77  - actions DB length:  114000  - latest record from:  2023-02-08 16:00:35 11 days ago\n",
      "iterations:  114 Lines skipped:  114000 records collected:  1000  - latest recordID:  borrowAsset   0x7df62271c4a8279ff7bf52964c87454584b629575af66e377b9b53694f5b0112+1  - actions DB length:  115000  - latest record from:  2023-02-08 13:00:59 11 days ago\n",
      "iterations:  115 Lines skipped:  115000 records collected:  1000  - latest recordID:  addCollateral   0x7df62271c4a8279ff7bf52964c87454584b629575af66e377b9b53694f5b0112  - actions DB length:  116000  - latest record from:  2023-02-08 13:00:59 11 days ago\n",
      "iterations:  116 Lines skipped:  116000 records collected:  1000  - latest recordID:  borrowAsset   0x24436c0d5c6419ffac45c32d4115128f4075a9ace8720bf12dc8048de6086a42+1  - actions DB length:  117000  - latest record from:  2023-02-08 12:07:47 11 days ago\n",
      "iterations:  117 Lines skipped:  117000 records collected:  1000  - latest recordID:  addCollateral   0x24436c0d5c6419ffac45c32d4115128f4075a9ace8720bf12dc8048de6086a42  - actions DB length:  118000  - latest record from:  2023-02-08 12:07:47 11 days ago\n",
      "iterations:  118 Lines skipped:  118000 records collected:  1000  - latest recordID:  borrowAsset   0x5520cee4dfed2595a6f9d0de5f3b8f26b874112fa11efa5347785b23ceca27ab  - actions DB length:  119000  - latest record from:  2023-02-08 12:04:23 11 days ago\n",
      "iterations:  119 Lines skipped:  119000 records collected:  1000  - latest recordID:  borrowAsset   0x4e156dda6a27c39160c859b3b5327334d50c02b8d09fa3fa4c08164344f17217+1  - actions DB length:  120000  - latest record from:  2023-02-08 11:58:59 11 days ago\n",
      "iterations:  120 Lines skipped:  120000 records collected:  1000  - latest recordID:  addCollateral   0x4e156dda6a27c39160c859b3b5327334d50c02b8d09fa3fa4c08164344f17217  - actions DB length:  121000  - latest record from:  2023-02-08 11:58:59 11 days ago\n",
      "iterations:  121 Lines skipped:  121000 records collected:  1000  - latest recordID:  borrowAsset   0x4b3964dc8e347cb40ffbac555be28c2261df0f076aa61d4972a9fb5942151d2f  - actions DB length:  122000  - latest record from:  2023-02-08 11:56:23 11 days ago\n",
      "iterations:  122 Lines skipped:  122000 records collected:  1000  - latest recordID:  borrowAsset   0xfd08d4987b9ba88e59c23667c6c177ffeaab6f7d1af18194b1fa540212efd1b8+1  - actions DB length:  123000  - latest record from:  2023-02-08 08:38:11 11 days ago\n",
      "iterations:  123 Lines skipped:  123000 records collected:  1000  - latest recordID:  addCollateral   0xfd08d4987b9ba88e59c23667c6c177ffeaab6f7d1af18194b1fa540212efd1b8  - actions DB length:  124000  - latest record from:  2023-02-08 08:38:11 11 days ago\n",
      "iterations:  124 Lines skipped:  124000 records collected:  1000  - latest recordID:  repayAsset   0x87953dce0f55cdd157c52fb9ce2ede8c34012f0c2c2922e3f7e2d784bafc7f9b  - actions DB length:  125000  - latest record from:  2023-02-07 18:50:11 12 days ago\n",
      "iterations:  125 Lines skipped:  125000 records collected:  1000  - latest recordID:  removeCollateral   0xf7b38e66cb9f10e080eece1db80bd31c70298121a6df5fcb6436976b3f02b5ed  - actions DB length:  126000  - latest record from:  2023-02-07 17:43:23 12 days ago\n",
      "iterations:  126 Lines skipped:  126000 records collected:  1000  - latest recordID:  addCollateral   0x0509d1c3f87fb34f957cf8f474166a4960baf6b7f3209794fb850d826ab2b5c3  - actions DB length:  127000  - latest record from:  2023-02-07 14:24:59 12 days ago\n",
      "iterations:  127 Lines skipped:  127000 records collected:  1000  - latest recordID:  borrowAsset   0x16f81815f26c71a21323e3cf68772f0f2250263a2307559bda56ed0c697da404  - actions DB length:  128000  - latest record from:  2023-02-07 14:22:59 12 days ago\n",
      "iterations:  128 Lines skipped:  128000 records collected:  1000  - latest recordID:  borrowAsset   0x6d2b4b3ab5d7d7b20dc8abdb7ab009303a9f2614f03093afbc00ff83b256b55b+1  - actions DB length:  129000  - latest record from:  2023-02-07 14:22:11 12 days ago\n",
      "iterations:  129 Lines skipped:  129000 records collected:  1000  - latest recordID:  addCollateral   0x6d2b4b3ab5d7d7b20dc8abdb7ab009303a9f2614f03093afbc00ff83b256b55b  - actions DB length:  130000  - latest record from:  2023-02-07 14:22:11 12 days ago\n",
      "iterations:  130 Lines skipped:  130000 records collected:  1000  - latest recordID:  borrowAsset   0x5b9cb6e3e76280f768a0a171db73925c98489b3f25193e28eae3bb0bffbc0547+1  - actions DB length:  131000  - latest record from:  2023-02-07 10:35:23 12 days ago\n",
      "iterations:  131 Lines skipped:  131000 records collected:  1000  - latest recordID:  addCollateral   0x5b9cb6e3e76280f768a0a171db73925c98489b3f25193e28eae3bb0bffbc0547  - actions DB length:  132000  - latest record from:  2023-02-07 10:35:23 12 days ago\n",
      "iterations:  132 Lines skipped:  132000 records collected:  1000  - latest recordID:  borrowAsset   0x9be2488f1c1bd4e912249b7977d2112c7c778f8f4eddde715d4f335cef8a1ed2+1  - actions DB length:  133000  - latest record from:  2023-02-07 06:01:11 13 days ago\n",
      "iterations:  133 Lines skipped:  133000 records collected:  1000  - latest recordID:  addCollateral   0x9be2488f1c1bd4e912249b7977d2112c7c778f8f4eddde715d4f335cef8a1ed2  - actions DB length:  134000  - latest record from:  2023-02-07 06:01:11 13 days ago\n",
      "iterations:  134 Lines skipped:  134000 records collected:  1000  - latest recordID:  borrowAsset   0xbefa2e59d3e8d0c431dfac8ce9aca2e00fb0a17e66a56512be1b47b740d95089  - actions DB length:  135000  - latest record from:  2023-02-07 05:58:47 13 days ago\n",
      "iterations:  135 Lines skipped:  135000 records collected:  1000  - latest recordID:  repayAsset   0x780b2ae8e35f8c6155032b8211eb8e1fbdb0011af9147f5b05d5886cfd120ac5  - actions DB length:  136000  - latest record from:  2023-02-06 21:37:23 13 days ago\n",
      "iterations:  136 Lines skipped:  136000 records collected:  1000  - latest recordID:  borrowAsset   0x834ce05c7b0e411a74bac4beaead4639905451289a4762e6639336546f6f57aa  - actions DB length:  137000  - latest record from:  2023-02-06 19:18:11 13 days ago\n",
      "iterations:  137 Lines skipped:  137000 records collected:  1000  - latest recordID:  borrowAsset   0xd824db46f2929d7f851c883c6d8a16309ed1c6a4467b6199dc28d0bdc3e109f4+1  - actions DB length:  138000  - latest record from:  2023-02-06 19:17:23 13 days ago\n",
      "iterations:  138 Lines skipped:  138000 records collected:  1000  - latest recordID:  addCollateral   0xd824db46f2929d7f851c883c6d8a16309ed1c6a4467b6199dc28d0bdc3e109f4  - actions DB length:  139000  - latest record from:  2023-02-06 19:17:23 13 days ago\n",
      "iterations:  139 Lines skipped:  139000 records collected:  1000  - latest recordID:  removeAsset   0x364fc3214b25629d0d134c2a62aac9aaac6436dc219bbfc58c57798bc55871dd  - actions DB length:  140000  - latest record from:  2023-02-06 15:01:11 13 days ago\n",
      "iterations:  140 Lines skipped:  140000 records collected:  1000  - latest recordID:  borrowAsset   0x326e0444e2ccf71f1285954fdbbcc855c29485f92ea0a6d490a515a40dff7aec+1  - actions DB length:  141000  - latest record from:  2023-02-06 10:45:11 13 days ago\n",
      "iterations:  141 Lines skipped:  141000 records collected:  1000  - latest recordID:  addCollateral   0x326e0444e2ccf71f1285954fdbbcc855c29485f92ea0a6d490a515a40dff7aec  - actions DB length:  142000  - latest record from:  2023-02-06 10:45:11 13 days ago\n",
      "iterations:  142 Lines skipped:  142000 records collected:  1000  - latest recordID:  borrowAsset   0x6b99b9e2f74062143534c02a79920d1c33f6d56fcd051943e76778982bd2cdd9+1  - actions DB length:  143000  - latest record from:  2023-02-06 09:02:23 13 days ago\n",
      "iterations:  143 Lines skipped:  143000 records collected:  1000  - latest recordID:  addCollateral   0x6b99b9e2f74062143534c02a79920d1c33f6d56fcd051943e76778982bd2cdd9  - actions DB length:  144000  - latest record from:  2023-02-06 09:02:23 13 days ago\n",
      "iterations:  144 Lines skipped:  144000 records collected:  1000  - latest recordID:  removeCollateral   0x0b18b1c7c3dafc9ef9f513f540f1de376325ceec3962a5e8de18978a72efbebf  - actions DB length:  145000  - latest record from:  2023-02-06 08:52:11 13 days ago\n",
      "iterations:  145 Lines skipped:  145000 records collected:  1000  - latest recordID:  borrowAsset   0x996d854115a22865e3a5ac1a4ee49b33ce889ea4b8e6c67d764cf64804d315d3+1  - actions DB length:  146000  - latest record from:  2023-02-06 03:42:11 14 days ago\n",
      "iterations:  146 Lines skipped:  146000 records collected:  1000  - latest recordID:  addCollateral   0x996d854115a22865e3a5ac1a4ee49b33ce889ea4b8e6c67d764cf64804d315d3  - actions DB length:  147000  - latest record from:  2023-02-06 03:42:11 14 days ago\n",
      "iterations:  147 Lines skipped:  147000 records collected:  1000  - latest recordID:  removeCollateral   0x552a52cd82bbebd0c5c0a9927eb3038c02786eef571b471364e4bc58a8777051  - actions DB length:  148000  - latest record from:  2023-02-06 03:38:11 14 days ago\n",
      "iterations:  148 Lines skipped:  148000 records collected:  1000  - latest recordID:  addAsset   0xcbda7b3075b591cb56f138137c3a0473f29c824ed257f65f51fa421717b8431b  - actions DB length:  149000  - latest record from:  2023-02-05 21:13:59 14 days ago\n",
      "iterations:  149 Lines skipped:  149000 records collected:  1000  - latest recordID:  removeCollateral   0x60c347a83d10615197b96f4d23f6760e8947668d8ea33377c3f6d700b0999bc8  - actions DB length:  150000  - latest record from:  2023-02-05 16:27:35 14 days ago\n",
      "iterations:  150 Lines skipped:  150000 records collected:  1000  - latest recordID:  repayAsset   0xea0b3054fc21bd86b06f4f015561d14f12fa49c1e1127bf5b614a843de9b7c64  - actions DB length:  151000  - latest record from:  2023-02-05 16:25:23 14 days ago\n",
      "iterations:  151 Lines skipped:  151000 records collected:  1000  - latest recordID:  removeCollateral   0xc0e0cbfdf272c9176ad6fc9d5b25cdf33bfaafba6c8c22ebe91250778aec9e8b  - actions DB length:  152000  - latest record from:  2023-02-05 14:09:23 14 days ago\n",
      "iterations:  152 Lines skipped:  152000 records collected:  1000  - latest recordID:  repayAsset   0xbbc80a25645a9e2dc1d704832a11c0d442d7022d59a4d6959718d04bf3e7d0cc  - actions DB length:  153000  - latest record from:  2023-02-05 14:04:11 14 days ago\n",
      "iterations:  153 Lines skipped:  153000 records collected:  1000  - latest recordID:  borrowAsset   0xa979b2ca17af70bdbe5f6804cbfbdd885d26175a6ab19ae94c4b909aa3446e81  - actions DB length:  154000  - latest record from:  2023-02-05 11:39:11 14 days ago\n",
      "iterations:  154 Lines skipped:  154000 records collected:  1000  - latest recordID:  addCollateral   0xf79086c46e8db29afdfa2f26bc6f6e4f4ea9a58cdce3a7227379e7bfa00d2c92  - actions DB length:  155000  - latest record from:  2023-02-05 11:35:47 14 days ago\n",
      "iterations:  155 Lines skipped:  155000 records collected:  1000  - latest recordID:  borrowAsset   0x20a5beee4b3159a97bec055f86cb38f6418a693c87cff1ce8832610b2113ab71+1  - actions DB length:  156000  - latest record from:  2023-02-05 09:38:11 14 days ago\n",
      "iterations:  156 Lines skipped:  156000 records collected:  1000  - latest recordID:  addCollateral   0x20a5beee4b3159a97bec055f86cb38f6418a693c87cff1ce8832610b2113ab71  - actions DB length:  157000  - latest record from:  2023-02-05 09:38:11 14 days ago\n",
      "iterations:  157 Lines skipped:  157000 records collected:  1000  - latest recordID:  removeAsset   0x203a5a3c0c301fcd1a1439ef77d214f0ed7fc0b4796cf656671874f695449d70  - actions DB length:  158000  - latest record from:  2023-02-05 09:19:11 14 days ago\n",
      "iterations:  158 Lines skipped:  158000 records collected:  1000  - latest recordID:  removeAsset   0xc9ad8e2eab317298ee30b2bdb483effb0e40293e8ced5e2c82d93e4b98afe755  - actions DB length:  159000  - latest record from:  2023-02-05 01:32:11 15 days ago\n",
      "iterations:  159 Lines skipped:  159000 records collected:  1000  - latest recordID:  removeAsset   0x77d537ee18009ccc59d95c2704aa35615ea7501716a436ffbbad7687a145600a  - actions DB length:  160000  - latest record from:  2023-02-05 00:14:59 15 days ago\n",
      "iterations:  160 Lines skipped:  160000 records collected:  1000  - latest recordID:  addAsset   0x34def1c3f26d7857d5a1777b3065112f0802c95ee52bf46d1cba579861a3c649  - actions DB length:  161000  - latest record from:  2023-02-03 11:11:35 16 days ago\n",
      "iterations:  161 Lines skipped:  161000 records collected:  1000  - latest recordID:  removeAsset   0xc8471a07381cc2fbab59ee374586cea332bf39132a7f22b54fc50d6db2e59d30  - actions DB length:  162000  - latest record from:  2023-02-03 10:50:23 16 days ago\n",
      "iterations:  162 Lines skipped:  162000 records collected:  1000  - latest recordID:  addAsset   0xdea09eb1f1c443979719b5c2123fb80050c787851768fdfe0265ac690d589041  - actions DB length:  163000  - latest record from:  2023-02-03 08:56:59 16 days ago\n",
      "iterations:  163 Lines skipped:  163000 records collected:  1000  - latest recordID:  borrowAsset   0xab89c1a653789aac01381cdf75975ab768411978fe1d3ad38171a29cd2fffc3a  - actions DB length:  164000  - latest record from:  2023-02-03 07:31:23 16 days ago\n",
      "iterations:  164 Lines skipped:  164000 records collected:  1000  - latest recordID:  borrowAsset   0x2b4448fd953c5accbab7d852020be209da0f5eb8307119d96a6a90db2ee6e8d7+1  - actions DB length:  165000  - latest record from:  2023-02-02 15:47:35 17 days ago\n",
      "iterations:  165 Lines skipped:  165000 records collected:  1000  - latest recordID:  addCollateral   0x2b4448fd953c5accbab7d852020be209da0f5eb8307119d96a6a90db2ee6e8d7  - actions DB length:  166000  - latest record from:  2023-02-02 15:47:35 17 days ago\n",
      "iterations:  166 Lines skipped:  166000 records collected:  1000  - latest recordID:  borrowAsset   0xd4b76291ca09549fa743fa83438a482f74730e480b8c4c061a10d7d7cee2f473  - actions DB length:  167000  - latest record from:  2023-02-02 15:01:11 17 days ago\n",
      "iterations:  167 Lines skipped:  167000 records collected:  1000  - latest recordID:  addCollateral   0x561d220422d20801fc65fefe683669eaf3e5fba6e4a8b35648e2109d79d8172b  - actions DB length:  168000  - latest record from:  2023-02-02 14:59:59 17 days ago\n",
      "iterations:  168 Lines skipped:  168000 records collected:  1000  - latest recordID:  borrowAsset   0x37f5137e3d9f012fd557e769aafc97bb1aa9d6519dc6a4f1ef36689c4c22f227  - actions DB length:  169000  - latest record from:  2023-02-02 14:54:47 17 days ago\n",
      "iterations:  169 Lines skipped:  169000 records collected:  1000  - latest recordID:  addCollateral   0xf121ac2f8ca25a303edb67091899460e6454f3f0a0afa66c31c730206d59587f  - actions DB length:  170000  - latest record from:  2023-02-02 14:53:59 17 days ago\n",
      "iterations:  170 Lines skipped:  170000 records collected:  1000  - latest recordID:  borrowAsset   0xc3dc02ee3cadd2ffb49e08af9305d2d8d8cd03ff3425816e6f28ccb75ca98475+1  - actions DB length:  171000  - latest record from:  2023-02-02 08:22:47 17 days ago\n",
      "iterations:  171 Lines skipped:  171000 records collected:  1000  - latest recordID:  addCollateral   0xc3dc02ee3cadd2ffb49e08af9305d2d8d8cd03ff3425816e6f28ccb75ca98475  - actions DB length:  172000  - latest record from:  2023-02-02 08:22:47 17 days ago\n",
      "iterations:  172 Lines skipped:  172000 records collected:  1000  - latest recordID:  borrowAsset   0x507874609d7eff32999ea66304d4d137ae8f1854fce52653d113ac80b4099778+1  - actions DB length:  173000  - latest record from:  2023-02-02 08:21:47 17 days ago\n",
      "iterations:  173 Lines skipped:  173000 records collected:  1000  - latest recordID:  addCollateral   0x507874609d7eff32999ea66304d4d137ae8f1854fce52653d113ac80b4099778  - actions DB length:  174000  - latest record from:  2023-02-02 08:21:47 17 days ago\n",
      "iterations:  174 Lines skipped:  174000 records collected:  1000  - latest recordID:  borrowAsset   0x333db65350964ed518ca0542b69b7cac675bc43f888727e6247e9c79e58c133c+1  - actions DB length:  175000  - latest record from:  2023-02-02 07:42:47 17 days ago\n",
      "iterations:  175 Lines skipped:  175000 records collected:  1000  - latest recordID:  addCollateral   0x333db65350964ed518ca0542b69b7cac675bc43f888727e6247e9c79e58c133c  - actions DB length:  176000  - latest record from:  2023-02-02 07:42:47 17 days ago\n",
      "iterations:  176 Lines skipped:  176000 records collected:  1000  - latest recordID:  borrowAsset   0x66a8ab00fe08a5204dbc4870d92d82cb4e5973525c58f76185cada22155c6865+1  - actions DB length:  177000  - latest record from:  2023-02-01 22:54:11 18 days ago\n",
      "iterations:  177 Lines skipped:  177000 records collected:  1000  - latest recordID:  addCollateral   0x66a8ab00fe08a5204dbc4870d92d82cb4e5973525c58f76185cada22155c6865  - actions DB length:  178000  - latest record from:  2023-02-01 22:54:11 18 days ago\n",
      "iterations:  178 Lines skipped:  178000 records collected:  1000  - latest recordID:  removeCollateral   0xbb5b4f513dcc2988c382a6a4a89906d01fe51bda47a2ffcc760a05762e2e4e9d  - actions DB length:  179000  - latest record from:  2023-02-01 21:34:23 18 days ago\n",
      "iterations:  179 Lines skipped:  179000 records collected:  1000  - latest recordID:  repayAsset   0xbc551659bec3d5aa222e74772d7af57e22adbb0265b7107e3cadbd7d39adcb93  - actions DB length:  180000  - latest record from:  2023-02-01 21:31:59 18 days ago\n",
      "iterations:  180 Lines skipped:  180000 records collected:  1000  - latest recordID:  borrowAsset   0xf99a05c329600918085e1b16c083ce5ae78ebffbe92897c92e121445cf2dd393  - actions DB length:  181000  - latest record from:  2023-02-01 18:34:59 18 days ago\n",
      "iterations:  181 Lines skipped:  181000 records collected:  1000  - latest recordID:  borrowAsset   0x03f55917c68857379d4805da693c7e4b5166b52b5b3adf2154d7206a5243dcf9  - actions DB length:  182000  - latest record from:  2023-02-01 16:54:47 18 days ago\n",
      "iterations:  182 Lines skipped:  182000 records collected:  1000  - latest recordID:  borrowAsset   0xc38d788823d01d7c34369e15962737ac808d80ef0cae930b28b40a38017cecc7  - actions DB length:  183000  - latest record from:  2023-02-01 13:01:35 18 days ago\n",
      "iterations:  183 Lines skipped:  183000 records collected:  1000  - latest recordID:  borrowAsset   0x26f7fd2ab436b9370a1b272345625be420f6895b1f58a933388b062e908b7375+1  - actions DB length:  184000  - latest record from:  2023-02-01 11:15:59 18 days ago\n",
      "iterations:  184 Lines skipped:  184000 records collected:  1000  - latest recordID:  addCollateral   0x26f7fd2ab436b9370a1b272345625be420f6895b1f58a933388b062e908b7375  - actions DB length:  185000  - latest record from:  2023-02-01 11:15:59 18 days ago\n",
      "iterations:  185 Lines skipped:  185000 records collected:  1000  - latest recordID:  removeAsset   0x2eabecd26a862fbfde0548df11eb2a3d6e2e07db38102415c55cae2df4c8a97a  - actions DB length:  186000  - latest record from:  2023-02-01 04:18:47 19 days ago\n",
      "iterations:  186 Lines skipped:  186000 records collected:  1000  - latest recordID:  removeAsset   0x64cd3f39e4424f168067d4ec7e4d6cb3a33b16a45affac42819a0f75aeabfdf4  - actions DB length:  187000  - latest record from:  2023-01-31 22:15:59 19 days ago\n",
      "iterations:  187 Lines skipped:  187000 records collected:  1000  - latest recordID:  borrowAsset   0x5b54915efb1fc5ec53fd70cb5dfe5cd1f0b63e4e4f246643ecc63dbd42d911cc+1  - actions DB length:  188000  - latest record from:  2023-01-31 16:48:59 19 days ago\n",
      "iterations:  188 Lines skipped:  188000 records collected:  1000  - latest recordID:  addCollateral   0x5b54915efb1fc5ec53fd70cb5dfe5cd1f0b63e4e4f246643ecc63dbd42d911cc  - actions DB length:  189000  - latest record from:  2023-01-31 16:48:59 19 days ago\n",
      "iterations:  189 Lines skipped:  189000 records collected:  1000  - latest recordID:  borrowAsset   0xb96734f96cd7d10ef3e099c366e019e04d4e04dd0e5825fef1ebe284fbdb1255  - actions DB length:  190000  - latest record from:  2023-01-31 16:46:47 19 days ago\n",
      "iterations:  190 Lines skipped:  190000 records collected:  1000  - latest recordID:  removeCollateral   0x8b38fcf78a096afd1c13f8367a8c29a9ee6de56b227933dac5a0b6a43c156639  - actions DB length:  191000  - latest record from:  2023-01-31 15:17:47 19 days ago\n",
      "iterations:  191 Lines skipped:  191000 records collected:  1000  - latest recordID:  borrowAsset   0x3f9dd85fe8726e91a22fcf2608395bbfe31457aac66693980c4961f32754d8c5  - actions DB length:  192000  - latest record from:  2023-01-31 11:19:11 19 days ago\n",
      "iterations:  192 Lines skipped:  192000 records collected:  1000  - latest recordID:  removeCollateral   0x3620ee62c513ce22c389c669837b6892edec06c212a5564faf6d6b716fb2e196  - actions DB length:  193000  - latest record from:  2023-01-31 11:03:23 19 days ago\n",
      "iterations:  193 Lines skipped:  193000 records collected:  1000  - latest recordID:  repayAsset   0x39d2e0dda120f10e067a19746b003e04ffd5738e2b8f8e0eaa5b86220a9ee7f0  - actions DB length:  194000  - latest record from:  2023-01-31 11:01:35 19 days ago\n",
      "iterations:  194 Lines skipped:  194000 records collected:  1000  - latest recordID:  removeCollateral   0x1ac69cd5cfc7a573065ce8303713aa391cafdcfa79f4456237f56db03f289605  - actions DB length:  195000  - latest record from:  2023-01-31 10:36:59 19 days ago\n",
      "iterations:  195 Lines skipped:  195000 records collected:  1000  - latest recordID:  repayAsset   0x2fa96a80ff4bff9c280c580010faaa9259d137ae459788780cc6f5f33ad25e24  - actions DB length:  196000  - latest record from:  2023-01-31 10:36:11 19 days ago\n",
      "iterations:  196 Lines skipped:  196000 records collected:  1000  - latest recordID:  removeAsset   0x24205218451b7ed0efb6de43a9c2aa0983fefcf7592ff2b4134e65ccffdaaa69  - actions DB length:  197000  - latest record from:  2023-01-31 10:30:47 19 days ago\n",
      "iterations:  197 Lines skipped:  197000 records collected:  1000  - latest recordID:  removeCollateral   0x4651d18a4d016e014a90f9db37b37d22979af9687dee18d99490d7fb61f0cee8  - actions DB length:  198000  - latest record from:  2023-01-31 06:39:47 19 days ago\n",
      "iterations:  198 Lines skipped:  198000 records collected:  1000  - latest recordID:  repayAsset   0xc3d1f2a03fdf879f70fea95fb65fa33512d6b2039963fd3892508f364cdd818b  - actions DB length:  199000  - latest record from:  2023-01-31 06:38:59 19 days ago\n",
      "iterations:  199 Lines skipped:  199000 records collected:  1000  - latest recordID:  borrowAsset   0xdde3beeb021c06b8f00659281dc2b2f150f6c38a3918f271591d84d50d664c85  - actions DB length:  200000  - latest record from:  2023-01-31 05:54:11 20 days ago\n",
      "iterations:  200 Lines skipped:  200000 records collected:  1000  - latest recordID:  removeCollateral   0x6d63493438806283fae73326820511d858a911e16e8d0456c425fb05e29e50bb  - actions DB length:  201000  - latest record from:  2023-01-31 03:24:47 20 days ago\n",
      "iterations:  201 Lines skipped:  201000 records collected:  1000  - latest recordID:  repayAsset   0x7ff20ac7dbf4eeabb6b51ea6b0b7ab3fa048bef1f6cd77b670ca2ddb2de42d7a  - actions DB length:  202000  - latest record from:  2023-01-31 03:24:11 20 days ago\n",
      "iterations:  202 Lines skipped:  202000 records collected:  1000  - latest recordID:  removeCollateral   0x38069e05261fc9ae203c5d2b6dca4658c7bb8dd856f1af87ed0d40df985eb24b  - actions DB length:  203000  - latest record from:  2023-01-31 00:26:11 20 days ago\n",
      "iterations:  203 Lines skipped:  203000 records collected:  1000  - latest recordID:  repayAsset   0x67e1ccc44736eb0c79b8d95c2cd635c189194ace49109b99b7ebdabf55acfdbd  - actions DB length:  204000  - latest record from:  2023-01-31 00:25:23 20 days ago\n",
      "iterations:  204 Lines skipped:  204000 records collected:  1000  - latest recordID:  removeCollateral   0xcdd8e49256df990f24e8811a4fd4999bc34356bc42ac29fb9bcc7782baa1cc2e  - actions DB length:  205000  - latest record from:  2023-01-30 17:35:59 20 days ago\n",
      "iterations:  205 Lines skipped:  205000 records collected:  1000  - latest recordID:  repayAsset   0xa0e6a9c8d172ea5a865df0d06a654953109d278876588d7c266d2f10ddb3ce4e  - actions DB length:  206000  - latest record from:  2023-01-30 17:27:47 20 days ago\n",
      "iterations:  206 Lines skipped:  206000 records collected:  1000  - latest recordID:  addAsset   0xa98494dbf8f20b5d0baf934b8e02f2068fb1436b6b57e4f7ca6c1005582afba8  - actions DB length:  207000  - latest record from:  2023-01-30 15:08:59 20 days ago\n",
      "iterations:  207 Lines skipped:  207000 records collected:  1000  - latest recordID:  addAsset   0x86e0d0e313fd87fb890da24c1eaeae7e83f8ea8791ef26451016a375bdaa97fb  - actions DB length:  208000  - latest record from:  2023-01-30 14:56:35 20 days ago\n",
      "iterations:  208 Lines skipped:  208000 records collected:  1000  - latest recordID:  borrowAsset   0xb762c343ba7caaf725fc219afb1b2b88652a50347c0a45ad8293c912aad4f360+1  - actions DB length:  209000  - latest record from:  2023-01-30 13:58:47 20 days ago\n",
      "iterations:  209 Lines skipped:  209000 records collected:  1000  - latest recordID:  addCollateral   0xb762c343ba7caaf725fc219afb1b2b88652a50347c0a45ad8293c912aad4f360  - actions DB length:  210000  - latest record from:  2023-01-30 13:58:47 20 days ago\n",
      "iterations:  210 Lines skipped:  210000 records collected:  1000  - latest recordID:  borrowAsset   0xcb488c0f31012d6ba649789562bbd7ba9ac0a4244aecae8f9a42cb511710fc84+1  - actions DB length:  211000  - latest record from:  2023-01-30 13:05:59 20 days ago\n",
      "iterations:  211 Lines skipped:  211000 records collected:  1000  - latest recordID:  addCollateral   0xcb488c0f31012d6ba649789562bbd7ba9ac0a4244aecae8f9a42cb511710fc84  - actions DB length:  212000  - latest record from:  2023-01-30 13:05:59 20 days ago\n",
      "iterations:  212 Lines skipped:  212000 records collected:  1000  - latest recordID:  addAsset   0x81c60c0301fed169a5eeee7739100fc83bf3d8e744500c9c9e37be1d31544729  - actions DB length:  213000  - latest record from:  2023-01-30 12:14:47 20 days ago\n",
      "iterations:  213 Lines skipped:  213000 records collected:  1000  - latest recordID:  repayAsset   0xd02d1e2223a9bb8288f8afd6e91a9fcd444e06db0f30a4f545a0c12fdefaf788  - actions DB length:  214000  - latest record from:  2023-01-30 11:18:59 20 days ago\n",
      "iterations:  214 Lines skipped:  214000 records collected:  1000  - latest recordID:  borrowAsset   0xb019c269f340d0182a2c38b01c25baa2bdb86c26ff32d10eea50d85de88e050b+1  - actions DB length:  215000  - latest record from:  2023-01-30 11:15:47 20 days ago\n",
      "iterations:  215 Lines skipped:  215000 records collected:  1000  - latest recordID:  addCollateral   0xb019c269f340d0182a2c38b01c25baa2bdb86c26ff32d10eea50d85de88e050b  - actions DB length:  216000  - latest record from:  2023-01-30 11:15:47 20 days ago\n",
      "iterations:  216 Lines skipped:  216000 records collected:  1000  - latest recordID:  removeCollateral   0x5c3636b95d45d40c1602ce895781517c7bda636e57fd8f67bc71b357c1d7a26b  - actions DB length:  217000  - latest record from:  2023-01-30 11:13:11 20 days ago\n",
      "iterations:  217 Lines skipped:  217000 records collected:  1000  - latest recordID:  removeAsset   0x6f00c50394c743c376fb4196f686e6f1a244991e01273ce80d85f53fd604209e  - actions DB length:  218000  - latest record from:  2023-01-30 10:21:59 20 days ago\n",
      "iterations:  218 Lines skipped:  218000 records collected:  1000  - latest recordID:  addAsset   0xce4366f2b230132cc3eca24b357f611a935a05f9c71db4f0f82c6751c9d024ef  - actions DB length:  219000  - latest record from:  2023-01-30 10:19:23 20 days ago\n",
      "iterations:  219 Lines skipped:  219000 records collected:  1000  - latest recordID:  borrowAsset   0xa0889721b0bfc7a8f345594323cf31bd0699312e2a16ed79febbaaa7bc6738b3+1  - actions DB length:  220000  - latest record from:  2023-01-30 10:09:59 20 days ago\n",
      "iterations:  220 Lines skipped:  220000 records collected:  1000  - latest recordID:  addCollateral   0xa0889721b0bfc7a8f345594323cf31bd0699312e2a16ed79febbaaa7bc6738b3  - actions DB length:  221000  - latest record from:  2023-01-30 10:09:59 20 days ago\n",
      "iterations:  221 Lines skipped:  221000 records collected:  1000  - latest recordID:  addAsset   0xfd6a50689b490e598386670f601d5323e1559ec0a1f040d6b7e1bfa9bc9d0a35  - actions DB length:  222000  - latest record from:  2023-01-30 10:04:23 20 days ago\n",
      "iterations:  222 Lines skipped:  222000 records collected:  1000  - latest recordID:  borrowAsset   0xcad74f96f5d001948501bcaaa1fde0e1b29d69974690dd7f5601a3be7bb6208f+1  - actions DB length:  223000  - latest record from:  2023-01-30 09:42:47 20 days ago\n",
      "iterations:  223 Lines skipped:  223000 records collected:  1000  - latest recordID:  addCollateral   0xcad74f96f5d001948501bcaaa1fde0e1b29d69974690dd7f5601a3be7bb6208f  - actions DB length:  224000  - latest record from:  2023-01-30 09:42:47 20 days ago\n",
      "iterations:  224 Lines skipped:  224000 records collected:  1000  - latest recordID:  borrowAsset   0x117b987a167e6bbf925887931623acb0d5111ee60ab90b760b0a7e442b37d22a+1  - actions DB length:  225000  - latest record from:  2023-01-30 09:37:23 20 days ago\n",
      "iterations:  225 Lines skipped:  225000 records collected:  1000  - latest recordID:  addCollateral   0x117b987a167e6bbf925887931623acb0d5111ee60ab90b760b0a7e442b37d22a  - actions DB length:  226000  - latest record from:  2023-01-30 09:37:23 20 days ago\n",
      "iterations:  226 Lines skipped:  226000 records collected:  1000  - latest recordID:  addAsset   0x984fcfc404bcbd7bd4a250b569285176fc6c41588bd2c185d62444afbdccecba  - actions DB length:  227000  - latest record from:  2023-01-30 08:15:23 20 days ago\n",
      "iterations:  227 Lines skipped:  227000 records collected:  1000  - latest recordID:  borrowAsset   0x9009bdb40b144cefea3025da53f1719fcc88b45789b8b26ac6ee6bf8fddc2b58  - actions DB length:  228000  - latest record from:  2023-01-30 06:19:35 21 days ago\n",
      "iterations:  228 Lines skipped:  228000 records collected:  1000  - latest recordID:  addAsset   0xa6498530b23f7c167a0458b584d903fc3674a8eafb263087348aa5d5313d2510  - actions DB length:  229000  - latest record from:  2023-01-30 05:54:11 21 days ago\n",
      "iterations:  229 Lines skipped:  229000 records collected:  1000  - latest recordID:  borrowAsset   0x00c9203154ead117956a5674fc6442d532e1f568956acf4a842e5f4544453edd+1  - actions DB length:  230000  - latest record from:  2023-01-30 03:11:47 21 days ago\n",
      "iterations:  230 Lines skipped:  230000 records collected:  1000  - latest recordID:  addCollateral   0x00c9203154ead117956a5674fc6442d532e1f568956acf4a842e5f4544453edd  - actions DB length:  231000  - latest record from:  2023-01-30 03:11:47 21 days ago\n",
      "iterations:  231 Lines skipped:  231000 records collected:  1000  - latest recordID:  removeCollateral   0xda11a6b0d87a14503fb837c873e3b03787fa11b1cee43b87c44a5a4eb788588a  - actions DB length:  232000  - latest record from:  2023-01-29 20:12:11 21 days ago\n",
      "iterations:  232 Lines skipped:  232000 records collected:  1000  - latest recordID:  repayAsset   0xa485b88b2785e32d1c0fc44f2b729fe68796f64e5c4e77f470bd3c81fb638ccb  - actions DB length:  233000  - latest record from:  2023-01-29 20:10:59 21 days ago\n",
      "iterations:  233 Lines skipped:  233000 records collected:  1000  - latest recordID:  repayAsset   0x7a2b9ce4d27f0d55aba0b23b2a6f7e2d990a7a95b86f2e1e2461eeeeb8aefccb  - actions DB length:  234000  - latest record from:  2023-01-29 20:09:59 21 days ago\n",
      "iterations:  234 Lines skipped:  234000 records collected:  1000  - latest recordID:  removeCollateral   0x8eaec0043e12ac03d5156000a030a4cf009e8f20403a6616fd7a50054ba5f173  - actions DB length:  235000  - latest record from:  2023-01-29 20:06:35 21 days ago\n",
      "iterations:  235 Lines skipped:  235000 records collected:  1000  - latest recordID:  repayAsset   0xc6c5ba5f24860cf7ad01d89a16379879644e15adb766b8a9085b6039fc98e0c1  - actions DB length:  236000  - latest record from:  2023-01-29 20:05:59 21 days ago\n",
      "iterations:  236 Lines skipped:  236000 records collected:  1000  - latest recordID:  removeCollateral   0x89951bd394ce27428ddfc3d0aeb7ce8eed85f27ecb6f00e52784bf6fd584621a  - actions DB length:  237000  - latest record from:  2023-01-29 20:00:11 21 days ago\n",
      "iterations:  237 Lines skipped:  237000 records collected:  1000  - latest recordID:  addAsset   0xfb6960860fccf3868bb4a146fdd455e78b895e48cb897e7e81d6cc6b51097374  - actions DB length:  238000  - latest record from:  2023-01-29 17:31:59 21 days ago\n",
      "iterations:  238 Lines skipped:  238000 records collected:  1000  - latest recordID:  borrowAsset   0x4e64144863feb7aeef178c857da2a3eb9c5344441e76a1e2f54ee2e54de0292b+1  - actions DB length:  239000  - latest record from:  2023-01-29 17:11:11 21 days ago\n",
      "iterations:  239 Lines skipped:  239000 records collected:  1000  - latest recordID:  addCollateral   0x4e64144863feb7aeef178c857da2a3eb9c5344441e76a1e2f54ee2e54de0292b  - actions DB length:  240000  - latest record from:  2023-01-29 17:11:11 21 days ago\n",
      "iterations:  240 Lines skipped:  240000 records collected:  1000  - latest recordID:  borrowAsset   0x8050f675a5a2230c4e276780727fd28ac50ff5aeeae1b8b27f650f74f74d15de  - actions DB length:  241000  - latest record from:  2023-01-29 17:09:47 21 days ago\n",
      "iterations:  241 Lines skipped:  241000 records collected:  1000  - latest recordID:  borrowAsset   0x9ded14039cfbe71d257bf940e6446cb6e4b84ce3c5e03c3d7e744f357b3e3a22+1  - actions DB length:  242000  - latest record from:  2023-01-29 12:51:59 21 days ago\n",
      "iterations:  242 Lines skipped:  242000 records collected:  1000  - latest recordID:  addCollateral   0x9ded14039cfbe71d257bf940e6446cb6e4b84ce3c5e03c3d7e744f357b3e3a22  - actions DB length:  243000  - latest record from:  2023-01-29 12:51:59 21 days ago\n",
      "iterations:  243 Lines skipped:  243000 records collected:  1000  - latest recordID:  removeAsset   0x300497dedab365bc5e89859aa3658407e968c15fc2644a3b82f82ca2bfb66791  - actions DB length:  244000  - latest record from:  2023-01-29 12:36:47 21 days ago\n",
      "iterations:  244 Lines skipped:  244000 records collected:  1000  - latest recordID:  repayAsset   0x3ec25a2edac08032910923a0e9684cdcf44bb27c9edd2b468eee29f5234cc036  - actions DB length:  245000  - latest record from:  2023-01-29 10:38:23 21 days ago\n",
      "iterations:  245 Lines skipped:  245000 records collected:  1000  - latest recordID:  removeAsset   0x138b846ce4e027dfe0a5229019f93c903a0d9fb2f3bd191c5b2e0c609e0a2731  - actions DB length:  246000  - latest record from:  2023-01-29 09:40:59 21 days ago\n",
      "iterations:  246 Lines skipped:  246000 records collected:  1000  - latest recordID:  borrowAsset   0xf26b0b5d8213192588a1e263b85ebc0c19ef815ccf4176c12d42b4db196b25fb  - actions DB length:  247000  - latest record from:  2023-01-29 09:16:35 21 days ago\n",
      "iterations:  247 Lines skipped:  247000 records collected:  1000  - latest recordID:  borrowAsset   0x367cbd3d6a90a55ee10003edfb8614643f75d0f1aa81480b674c0f56b1aa7611+1  - actions DB length:  248000  - latest record from:  2023-01-29 09:15:59 21 days ago\n",
      "iterations:  248 Lines skipped:  248000 records collected:  1000  - latest recordID:  addCollateral   0x367cbd3d6a90a55ee10003edfb8614643f75d0f1aa81480b674c0f56b1aa7611  - actions DB length:  249000  - latest record from:  2023-01-29 09:15:59 21 days ago\n",
      "iterations:  249 Lines skipped:  249000 records collected:  1000  - latest recordID:  borrowAsset   0x0b1ef544270323931d6c529967aa8af9b7050a201f4110378e4a0a8c3f7a9f15  - actions DB length:  250000  - latest record from:  2023-01-29 09:14:47 21 days ago\n",
      "iterations:  250 Lines skipped:  250000 records collected:  1000  - latest recordID:  removeAsset   0xd455ccfeeac88c33d369faf855885455b0d87f7c5d00bee4acc7d91bbd85f29e  - actions DB length:  251000  - latest record from:  2023-01-29 06:53:59 21 days ago\n",
      "iterations:  251 Lines skipped:  251000 records collected:  1000  - latest recordID:  borrowAsset   0x23d31ea5f3a1fba025c398eeb08de147b5bf09b0b36fd87cb1d7f524a7b09499+1  - actions DB length:  252000  - latest record from:  2023-01-28 13:46:59 22 days ago\n",
      "iterations:  252 Lines skipped:  252000 records collected:  1000  - latest recordID:  addCollateral   0x23d31ea5f3a1fba025c398eeb08de147b5bf09b0b36fd87cb1d7f524a7b09499  - actions DB length:  253000  - latest record from:  2023-01-28 13:46:59 22 days ago\n",
      "iterations:  253 Lines skipped:  253000 records collected:  1000  - latest recordID:  removeCollateral   0xf872e2deb9544fed4e23733debe362d88cb44026ab9adf434d05bdc3d33988ba  - actions DB length:  254000  - latest record from:  2023-01-28 12:56:23 22 days ago\n",
      "iterations:  254 Lines skipped:  254000 records collected:  1000  - latest recordID:  addAsset   0x95550f6d6f6c17fca583242bcbdd54389648e13a414b76d3936b423776bc588a  - actions DB length:  255000  - latest record from:  2023-01-28 12:29:23 22 days ago\n",
      "iterations:  255 Lines skipped:  255000 records collected:  1000  - latest recordID:  borrowAsset   0xad25ebe4b1becb395eb0f1e1c85ca94f4d3efdee4874408d5a4d55f87c29257f+1  - actions DB length:  256000  - latest record from:  2023-01-27 09:40:11 23 days ago\n",
      "iterations:  256 Lines skipped:  256000 records collected:  1000  - latest recordID:  addCollateral   0xad25ebe4b1becb395eb0f1e1c85ca94f4d3efdee4874408d5a4d55f87c29257f  - actions DB length:  257000  - latest record from:  2023-01-27 09:40:11 23 days ago\n",
      "iterations:  257 Lines skipped:  257000 records collected:  1000  - latest recordID:  borrowAsset   0xd2640e90d1a46aa392b42d6ecaf52c2650284f8e71cdfa60c5198d87f07afb79+1  - actions DB length:  258000  - latest record from:  2023-01-27 06:33:59 23 days ago\n",
      "iterations:  258 Lines skipped:  258000 records collected:  1000  - latest recordID:  addCollateral   0xd2640e90d1a46aa392b42d6ecaf52c2650284f8e71cdfa60c5198d87f07afb79  - actions DB length:  259000  - latest record from:  2023-01-27 06:33:59 23 days ago\n",
      "iterations:  259 Lines skipped:  259000 records collected:  1000  - latest recordID:  removeAsset   0x73fc1dafef2f8ea53fa1ab442a8ef07510a0368130ad2b9d955a65629749a410  - actions DB length:  260000  - latest record from:  2023-01-27 04:31:35 24 days ago\n",
      "iterations:  260 Lines skipped:  260000 records collected:  1000  - latest recordID:  borrowAsset   0x38c758afd10bd55fc310e374f7f52237e839a9bab0b3a74ef17a3cccd76b2741+1  - actions DB length:  261000  - latest record from:  2023-01-26 17:57:11 24 days ago\n",
      "iterations:  261 Lines skipped:  261000 records collected:  1000  - latest recordID:  addCollateral   0x38c758afd10bd55fc310e374f7f52237e839a9bab0b3a74ef17a3cccd76b2741  - actions DB length:  262000  - latest record from:  2023-01-26 17:57:11 24 days ago\n",
      "iterations:  262 Lines skipped:  262000 records collected:  1000  - latest recordID:  removeCollateral   0xdc2c385e00d5997affffb49e10327009aa5bf9a3cd8e4b2aa64ca2201172c329  - actions DB length:  263000  - latest record from:  2023-01-26 16:57:23 24 days ago\n",
      "iterations:  263 Lines skipped:  263000 records collected:  1000  - latest recordID:  borrowAsset   0x460d33fa9bd03fc3dcf892d3bdb74ca8774cc20d4bbb63cfc4d7577b44b98c7c  - actions DB length:  264000  - latest record from:  2023-01-26 14:18:47 24 days ago\n",
      "iterations:  264 Lines skipped:  264000 records collected:  1000  - latest recordID:  removeCollateral   0x33de61df37e83e86f20ca6c1b245c753e415d1be7441c8d8c64710e422b24f7a  - actions DB length:  265000  - latest record from:  2023-01-26 12:44:11 24 days ago\n",
      "iterations:  265 Lines skipped:  265000 records collected:  1000  - latest recordID:  repayAsset   0xa12fb236c45bf339bdf36cbcb13c7ae44e7ca97ac486143643635eabb4876907  - actions DB length:  266000  - latest record from:  2023-01-26 12:42:47 24 days ago\n",
      "iterations:  266 Lines skipped:  266000 records collected:  1000  - latest recordID:  borrowAsset   0x6bdac83d4e1480ede4153fc63186a108078c8dd8de6a35e6b29ba25f2acf347d  - actions DB length:  267000  - latest record from:  2023-01-26 12:36:59 24 days ago\n",
      "iterations:  267 Lines skipped:  267000 records collected:  1000  - latest recordID:  borrowAsset   0x32ebb0fd3e85620656962354025d1fe63b5599c5afa9f7d505beaa92d192b902  - actions DB length:  268000  - latest record from:  2023-01-26 06:58:35 24 days ago\n",
      "iterations:  268 Lines skipped:  268000 records collected:  1000  - latest recordID:  addAsset   0x21d541d24e806094005c8424c4cd99ded740b06197f59ba911d8b98dc32f1105  - actions DB length:  269000  - latest record from:  2023-01-26 06:38:47 24 days ago\n",
      "iterations:  269 Lines skipped:  269000 records collected:  1000  - latest recordID:  borrowAsset   0x1607d81d51333d223190e0346001d4cb119c58bd6f8cbca495ff799e9f3c47b5  - actions DB length:  270000  - latest record from:  2023-01-26 06:06:59 25 days ago\n",
      "iterations:  270 Lines skipped:  270000 records collected:  1000  - latest recordID:  removeCollateral   0x7ad5ad423cc17771937c7d98ff5dcfb833226ec43251e627176881d8cbebed44  - actions DB length:  271000  - latest record from:  2023-01-26 06:00:59 25 days ago\n",
      "iterations:  271 Lines skipped:  271000 records collected:  1000  - latest recordID:  removeCollateral   0x6fdfa651f461787a7d66bf8d5ceec574f190b2fd2cb8d6f046b275be24adb56e  - actions DB length:  272000  - latest record from:  2023-01-26 05:48:47 25 days ago\n",
      "iterations:  272 Lines skipped:  272000 records collected:  1000  - latest recordID:  borrowAsset   0x8fbd9ed9f23e817a98a71ff4c37e9cfe6e1a682e50983d98f4addbe5b41196e0+1  - actions DB length:  273000  - latest record from:  2023-01-26 03:51:11 25 days ago\n",
      "iterations:  273 Lines skipped:  273000 records collected:  1000  - latest recordID:  addCollateral   0x8fbd9ed9f23e817a98a71ff4c37e9cfe6e1a682e50983d98f4addbe5b41196e0  - actions DB length:  274000  - latest record from:  2023-01-26 03:51:11 25 days ago\n",
      "iterations:  274 Lines skipped:  274000 records collected:  1000  - latest recordID:  borrowAsset   0xee376200e715c6c5f759c281cf94079f96ec50f667d0f51a9f61eb542c718491  - actions DB length:  275000  - latest record from:  2023-01-26 02:39:23 25 days ago\n",
      "iterations:  275 Lines skipped:  275000 records collected:  1000  - latest recordID:  addCollateral   0xb29a0dfff24aaef06861b69d20a41d8df80554bae829d3e16dd7143acf66b24d  - actions DB length:  276000  - latest record from:  2023-01-26 02:36:23 25 days ago\n",
      "iterations:  276 Lines skipped:  276000 records collected:  1000  - latest recordID:  addCollateral   0x9a0ce98b3daefb436073ccd8e3750d70a4013f44a7110277c07f58234317cc4a  - actions DB length:  277000  - latest record from:  2023-01-25 15:41:59 25 days ago\n",
      "iterations:  277 Lines skipped:  277000 records collected:  1000  - latest recordID:  borrowAsset   0x06b1f874b3b0444a7c7b48524d8a4537021fdd1592b2ab54c914f0441b78a284  - actions DB length:  278000  - latest record from:  2023-01-25 15:35:23 25 days ago\n",
      "iterations:  278 Lines skipped:  278000 records collected:  1000  - latest recordID:  borrowAsset   0xb984c468dfe971a60156c1d3cd4f58881e918b64ef18a717892617c1c77f8f00  - actions DB length:  279000  - latest record from:  2023-01-25 12:39:47 25 days ago\n",
      "iterations:  279 Lines skipped:  279000 records collected:  1000  - latest recordID:  borrowAsset   0x369edade729ed5bd71f3dd52a25b3506a41e1deeb1687a7e5e54a5eb2a3d8618  - actions DB length:  280000  - latest record from:  2023-01-25 12:36:35 25 days ago\n",
      "iterations:  280 Lines skipped:  280000 records collected:  1000  - latest recordID:  addAsset   0x0abd7c47061632a186ecea8bec4231bc340c01971bcdf10148c99889affd331a  - actions DB length:  281000  - latest record from:  2023-01-25 07:52:59 25 days ago\n",
      "iterations:  281 Lines skipped:  281000 records collected:  1000  - latest recordID:  removeAsset   0x681c3b71291aabed9d25ab9882ca0279f65d530b20884e9809224dd3b3b38a3a  - actions DB length:  282000  - latest record from:  2023-01-25 00:10:35 26 days ago\n",
      "iterations:  282 Lines skipped:  282000 records collected:  1000  - latest recordID:  borrowAsset   0x8a270186763feef09a1a07a2b84e3d09b985abef451b00bac49349caa15cac70+1  - actions DB length:  283000  - latest record from:  2023-01-24 19:37:35 26 days ago\n",
      "iterations:  283 Lines skipped:  283000 records collected:  1000  - latest recordID:  addCollateral   0x8a270186763feef09a1a07a2b84e3d09b985abef451b00bac49349caa15cac70  - actions DB length:  284000  - latest record from:  2023-01-24 19:37:35 26 days ago\n",
      "iterations:  284 Lines skipped:  284000 records collected:  1000  - latest recordID:  borrowAsset   0x9eb930c388325704d1d580f4c11802712a543e34f90a772c59342bc1571db577+1  - actions DB length:  285000  - latest record from:  2023-01-24 18:06:11 26 days ago\n",
      "iterations:  285 Lines skipped:  285000 records collected:  1000  - latest recordID:  addCollateral   0x9eb930c388325704d1d580f4c11802712a543e34f90a772c59342bc1571db577  - actions DB length:  286000  - latest record from:  2023-01-24 18:06:11 26 days ago\n",
      "iterations:  286 Lines skipped:  286000 records collected:  1000  - latest recordID:  borrowAsset   0xc94553ec769713acc8a94bc2c77839381e444a53d07706ec285c6c1afd2735ea+1  - actions DB length:  287000  - latest record from:  2023-01-24 17:47:35 26 days ago\n",
      "iterations:  287 Lines skipped:  287000 records collected:  1000  - latest recordID:  addCollateral   0xc94553ec769713acc8a94bc2c77839381e444a53d07706ec285c6c1afd2735ea  - actions DB length:  288000  - latest record from:  2023-01-24 17:47:35 26 days ago\n",
      "iterations:  288 Lines skipped:  288000 records collected:  1000  - latest recordID:  addAsset   0xb010bd34956101ae6d1c62818885499c46396a88f689132a8800ea15f176db0d  - actions DB length:  289000  - latest record from:  2023-01-24 13:46:47 26 days ago\n",
      "iterations:  289 Lines skipped:  289000 records collected:  1000  - latest recordID:  borrowAsset   0xc6ebc75658d1958b2c61ccbc7c7a82eaead8a95de74242dcbce185fa60820fda+1  - actions DB length:  290000  - latest record from:  2023-01-23 16:03:59 27 days ago\n",
      "iterations:  290 Lines skipped:  290000 records collected:  1000  - latest recordID:  addCollateral   0xc6ebc75658d1958b2c61ccbc7c7a82eaead8a95de74242dcbce185fa60820fda  - actions DB length:  291000  - latest record from:  2023-01-23 16:03:59 27 days ago\n",
      "iterations:  291 Lines skipped:  291000 records collected:  1000  - latest recordID:  removeCollateral   0xb03a2856d37f5eea58e5a69ca2a26a683a18c31a9129c09f16a543342afb2081  - actions DB length:  292000  - latest record from:  2023-01-23 15:43:47 27 days ago\n",
      "iterations:  292 Lines skipped:  292000 records collected:  1000  - latest recordID:  borrowAsset   0x1ad635e17337c663732f656586d178120258bee4f116e3561a88d21a6652d2ba+1  - actions DB length:  293000  - latest record from:  2023-01-23 13:50:35 27 days ago\n",
      "iterations:  293 Lines skipped:  293000 records collected:  1000  - latest recordID:  addCollateral   0x1ad635e17337c663732f656586d178120258bee4f116e3561a88d21a6652d2ba  - actions DB length:  294000  - latest record from:  2023-01-23 13:50:35 27 days ago\n",
      "iterations:  294 Lines skipped:  294000 records collected:  1000  - latest recordID:  removeCollateral   0xbe00b9055dd99e5184284bdcb5a881dfed688471882e14fde56be6a2981b81e7  - actions DB length:  295000  - latest record from:  2023-01-23 13:27:11 27 days ago\n",
      "iterations:  295 Lines skipped:  295000 records collected:  1000  - latest recordID:  borrowAsset   0xb6f709749a171f8aa5cb2e4a9c2cc7a2e6b0090fb056219b697d65e007b7628c  - actions DB length:  296000  - latest record from:  2023-01-23 07:28:59 27 days ago\n",
      "iterations:  296 Lines skipped:  296000 records collected:  1000  - latest recordID:  addCollateral   0x3a1095973c1009ccc805da8e1b9c8a97514e545c0c2b14b16cfec4597e2e2c03  - actions DB length:  297000  - latest record from:  2023-01-23 07:05:23 27 days ago\n",
      "iterations:  297 Lines skipped:  297000 records collected:  1000  - latest recordID:  removeCollateral   0x63d3ea521fd69a86fd286175f94623ed06bd8e07177238484bb7eb0bd15e244c  - actions DB length:  298000  - latest record from:  2023-01-23 01:30:11 28 days ago\n",
      "iterations:  298 Lines skipped:  298000 records collected:  1000  - latest recordID:  repayAsset   0x4ef0b001904ebddd48a9e91fb794e8ccc8f3b0de2073b7fbf19f11b2694fcd68  - actions DB length:  299000  - latest record from:  2023-01-23 01:29:23 28 days ago\n",
      "iterations:  299 Lines skipped:  299000 records collected:  1000  - latest recordID:  removeCollateral   0x0c0c39257e85d91800c8b470a0f257949cb9e61c4e6ea3bb28703c1d6588d5db  - actions DB length:  300000  - latest record from:  2023-01-22 22:29:35 28 days ago\n",
      "iterations:  300 Lines skipped:  300000 records collected:  1000  - latest recordID:  repayAsset   0x76fdce57728e9d26a6439858f5f97b72d8dc18a882a02df3f6f3d1f578fd2a4d  - actions DB length:  301000  - latest record from:  2023-01-22 22:27:59 28 days ago\n",
      "iterations:  301 Lines skipped:  301000 records collected:  1000  - latest recordID:  repayAsset   0x9f9ba2939a4c6ffc3d1c0d6652260426f188f3ee03b31d66402f0a51d5ef3533  - actions DB length:  302000  - latest record from:  2023-01-22 22:26:47 28 days ago\n",
      "iterations:  302 Lines skipped:  302000 records collected:  1000  - latest recordID:  borrowAsset   0xd5bc93f88cff048b09c458e13192a234306368aa8a0b7236ee90d42a853c4017  - actions DB length:  303000  - latest record from:  2023-01-22 11:04:59 28 days ago\n",
      "iterations:  303 Lines skipped:  303000 records collected:  1000  - latest recordID:  addCollateral   0xb160341648a752965d24c32f7696a3e6b33c07f31c838f372933df9bba9cf5e0  - actions DB length:  304000  - latest record from:  2023-01-22 02:44:35 29 days ago\n",
      "iterations:  304 Lines skipped:  304000 records collected:  1000  - latest recordID:  borrowAsset   0xf6cc58234aa05881fe3a0aa5cea059535dc5993af8e078776465dd78a402d18b  - actions DB length:  305000  - latest record from:  2023-01-22 02:41:47 29 days ago\n",
      "iterations:  305 Lines skipped:  305000 records collected:  1000  - latest recordID:  addCollateral   0xafd0637b931041ae219c3873b71b71572cbf8f1885a46d93171fe916d90b6b3c  - actions DB length:  306000  - latest record from:  2023-01-22 02:40:11 29 days ago\n",
      "iterations:  306 Lines skipped:  306000 records collected:  1000  - latest recordID:  borrowAsset   0xff674f10275b0bfcee60bd69c9f8010e610f84cb03f54a1d20a9a038416bcc08  - actions DB length:  307000  - latest record from:  2023-01-22 02:33:35 29 days ago\n",
      "iterations:  307 Lines skipped:  307000 records collected:  1000  - latest recordID:  removeCollateral   0x6392701438de8d556e14ab394f4b371834ec1917d7032f626781f0d2fd26f7bc  - actions DB length:  308000  - latest record from:  2023-01-21 14:19:35 29 days ago\n",
      "iterations:  308 Lines skipped:  308000 records collected:  1000  - latest recordID:  addCollateral   0xebfa828bb0607a35d36bbe169ca050f2979389f3f32a05bfe26b9934ef907900  - actions DB length:  309000  - latest record from:  2023-01-21 13:18:11 29 days ago\n",
      "iterations:  309 Lines skipped:  309000 records collected:  1000  - latest recordID:  removeAsset   0x29c86fe1f682b3f721c5343a3809a62e6e3b256e4e4421c95932a321e89a3802  - actions DB length:  310000  - latest record from:  2023-01-21 11:15:59 29 days ago\n",
      "iterations:  310 Lines skipped:  310000 records collected:  1000  - latest recordID:  borrowAsset   0x77a5c92f2068e1c54264885579540a0cdf73c8afb5ca671ff9311fbb1e37fc5a  - actions DB length:  311000  - latest record from:  2023-01-21 10:19:23 29 days ago\n",
      "iterations:  311 Lines skipped:  311000 records collected:  1000  - latest recordID:  borrowAsset   0xbaffcedf02b0fc9788ce3953a4e66cf3898200a0328667f564e2574296d8aeaa  - actions DB length:  312000  - latest record from:  2023-01-21 05:08:47 30 days ago\n",
      "iterations:  312 Lines skipped:  312000 records collected:  1000  - latest recordID:  removeCollateral   0xe7edc1ecd1320c549f4c7453155da43bcf3a4f2268241f019df9df87dee617a9  - actions DB length:  313000  - latest record from:  2023-01-21 02:45:35 30 days ago\n",
      "iterations:  313 Lines skipped:  313000 records collected:  1000  - latest recordID:  repayAsset   0xf90fea66de466328d613712a7d8daa814c2290492cbc5c93b36ab716b5945943  - actions DB length:  314000  - latest record from:  2023-01-21 02:42:47 30 days ago\n",
      "iterations:  314 Lines skipped:  314000 records collected:  1000  - latest recordID:  borrowAsset   0xfcf6f8fa9df9ec782e44058a361be102714f0aa7fe5eb24bc44711408eb6fcc4+1  - actions DB length:  315000  - latest record from:  2023-01-20 22:52:11 30 days ago\n",
      "iterations:  315 Lines skipped:  315000 records collected:  1000  - latest recordID:  addCollateral   0xfcf6f8fa9df9ec782e44058a361be102714f0aa7fe5eb24bc44711408eb6fcc4  - actions DB length:  316000  - latest record from:  2023-01-20 22:52:11 30 days ago\n",
      "iterations:  316 Lines skipped:  316000 records collected:  1000  - latest recordID:  addAsset   0x16a6f47e49ede8b2dda4b02cc899f29565324da0a0688921440aaf2b35ce73e3+1  - actions DB length:  317000  - latest record from:  2023-01-20 18:41:35 30 days ago\n",
      "iterations:  317 Lines skipped:  317000 records collected:  1000  - latest recordID:  removeAsset   0x16a6f47e49ede8b2dda4b02cc899f29565324da0a0688921440aaf2b35ce73e3  - actions DB length:  318000  - latest record from:  2023-01-20 18:41:35 30 days ago\n",
      "iterations:  318 Lines skipped:  318000 records collected:  1000  - latest recordID:  addAsset   0xfeb54394d817e03ccd318a836eb104027541f9e950772a227f4b7911c4b23e30+1  - actions DB length:  319000  - latest record from:  2023-01-20 18:40:23 30 days ago\n",
      "iterations:  319 Lines skipped:  319000 records collected:  1000  - latest recordID:  removeAsset   0xfeb54394d817e03ccd318a836eb104027541f9e950772a227f4b7911c4b23e30  - actions DB length:  320000  - latest record from:  2023-01-20 18:40:23 30 days ago\n",
      "iterations:  320 Lines skipped:  320000 records collected:  1000  - latest recordID:  borrowAsset   0xcf61dda8b1c814853c758001601b489bf7275c89a543bf51f4e0ea398c50d838  - actions DB length:  321000  - latest record from:  2023-01-20 17:13:23 30 days ago\n",
      "iterations:  321 Lines skipped:  321000 records collected:  1000  - latest recordID:  repayAsset   0xa7f581354071e5d4065bbe0c81eaa0650f1dd66cedffd048106933fd94383cf3  - actions DB length:  322000  - latest record from:  2023-01-20 17:04:59 30 days ago\n",
      "iterations:  322 Lines skipped:  322000 records collected:  1000  - latest recordID:  borrowAsset   0x12814e23d06d14925d564c84e3b10cb0eba032907bb4c94c903719e4cd0f8172  - actions DB length:  323000  - latest record from:  2023-01-20 15:42:35 30 days ago\n",
      "iterations:  323 Lines skipped:  323000 records collected:  1000  - latest recordID:  removeAsset   0x1b2d5fb492314e28758706dab22db744634c862f4e395fbec7e15ade2f9d3ffc  - actions DB length:  324000  - latest record from:  2023-01-20 06:25:23 31 days ago\n",
      "iterations:  324 Lines skipped:  324000 records collected:  1000  - latest recordID:  repayAsset   0xbae58b11bf18476ba9ee45bb6888bf026af5414b9c4ab0871b53ae04085e3958  - actions DB length:  325000  - latest record from:  2023-01-19 23:35:35 31 days ago\n",
      "iterations:  325 Lines skipped:  325000 records collected:  1000  - latest recordID:  repayAsset   0x56658b51462c13ccafc5968f8f4764a2ec62eeb76abf3fb425eaaaff0c2cc9a3  - actions DB length:  326000  - latest record from:  2023-01-19 20:14:35 31 days ago\n",
      "iterations:  326 Lines skipped:  326000 records collected:  1000  - latest recordID:  borrowAsset   0x8bef55b3495f6ebde0fb7bf110ef9dacd6c148687ebf7cfd5bf7af358bf432cd+1  - actions DB length:  327000  - latest record from:  2023-01-19 10:24:23 31 days ago\n",
      "iterations:  327 Lines skipped:  327000 records collected:  1000  - latest recordID:  addCollateral   0x8bef55b3495f6ebde0fb7bf110ef9dacd6c148687ebf7cfd5bf7af358bf432cd  - actions DB length:  328000  - latest record from:  2023-01-19 10:24:23 31 days ago\n",
      "iterations:  328 Lines skipped:  328000 records collected:  1000  - latest recordID:  removeAsset   0x15c1834d11c5b004f11d6224547e5d63ab4ae8f09e1318b3e3db723f1841f041  - actions DB length:  329000  - latest record from:  2023-01-19 03:26:47 32 days ago\n",
      "iterations:  329 Lines skipped:  329000 records collected:  1000  - latest recordID:  addAsset   0xb9ba221c036591d51f1dc4463576ed6cccadbceb130ae63c786d20147d2ec136  - actions DB length:  330000  - latest record from:  2023-01-18 19:21:47 32 days ago\n",
      "iterations:  330 Lines skipped:  330000 records collected:  1000  - latest recordID:  borrowAsset   0xb8b71e06c5af60c05f45e456c385f10e1a435fa53512ae0c4fe1f5ed9bb9abfc+1  - actions DB length:  331000  - latest record from:  2023-01-18 14:30:59 32 days ago\n",
      "iterations:  331 Lines skipped:  331000 records collected:  1000  - latest recordID:  addCollateral   0xb8b71e06c5af60c05f45e456c385f10e1a435fa53512ae0c4fe1f5ed9bb9abfc  - actions DB length:  332000  - latest record from:  2023-01-18 14:30:59 32 days ago\n",
      "iterations:  332 Lines skipped:  332000 records collected:  1000  - latest recordID:  borrowAsset   0x9c29ada5aa3e38fe871b1ce8521cda91fe9fe263623bf94b18d1134ec46c19f1  - actions DB length:  333000  - latest record from:  2023-01-18 12:24:11 32 days ago\n",
      "iterations:  333 Lines skipped:  333000 records collected:  1000  - latest recordID:  borrowAsset   0xbe905db775ba4f975d9904ef380d329a098499e62b4f868022a16eaa1f7c579f+1  - actions DB length:  334000  - latest record from:  2023-01-18 10:25:47 32 days ago\n",
      "iterations:  334 Lines skipped:  334000 records collected:  1000  - latest recordID:  addCollateral   0xbe905db775ba4f975d9904ef380d329a098499e62b4f868022a16eaa1f7c579f  - actions DB length:  335000  - latest record from:  2023-01-18 10:25:47 32 days ago\n",
      "iterations:  335 Lines skipped:  335000 records collected:  1000  - latest recordID:  borrowAsset   0x177e04577b8e91124fb854181bbeedcefc660331a79424b30fc3db76b26e1f45  - actions DB length:  336000  - latest record from:  2023-01-18 10:12:35 32 days ago\n",
      "iterations:  336 Lines skipped:  336000 records collected:  1000  - latest recordID:  borrowAsset   0xf64b0aac80c97e30e560d040b237eec4b2272db02739bb157aca938dd9436fe6+1  - actions DB length:  337000  - latest record from:  2023-01-18 09:02:59 32 days ago\n",
      "iterations:  337 Lines skipped:  337000 records collected:  1000  - latest recordID:  addCollateral   0xf64b0aac80c97e30e560d040b237eec4b2272db02739bb157aca938dd9436fe6  - actions DB length:  338000  - latest record from:  2023-01-18 09:02:59 32 days ago\n",
      "iterations:  338 Lines skipped:  338000 records collected:  1000  - latest recordID:  removeCollateral   0x147ad8ff181623a8569f07f84ac4538d3f85aa74761b0353b5313ba1edbbf7d9  - actions DB length:  339000  - latest record from:  2023-01-18 09:00:11 32 days ago\n",
      "iterations:  339 Lines skipped:  339000 records collected:  1000  - latest recordID:  borrowAsset   0x5deab7fd4212373a76d85426b658612b5c97523100e43fb074bfe86ef3d114b8+1  - actions DB length:  340000  - latest record from:  2023-01-18 08:52:35 32 days ago\n",
      "iterations:  340 Lines skipped:  340000 records collected:  1000  - latest recordID:  addCollateral   0x5deab7fd4212373a76d85426b658612b5c97523100e43fb074bfe86ef3d114b8  - actions DB length:  341000  - latest record from:  2023-01-18 08:52:35 32 days ago\n",
      "iterations:  341 Lines skipped:  341000 records collected:  1000  - latest recordID:  removeCollateral   0xf455df944c8999921f3e31cd40e2ccb6f62f36210e990333303f39feefbf96b6  - actions DB length:  342000  - latest record from:  2023-01-18 08:17:47 32 days ago\n",
      "iterations:  342 Lines skipped:  342000 records collected:  1000  - latest recordID:  borrowAsset   0x40b4c7123b3dfa9a0a09ed60776eaf4c288442424a9f384dfafe14c8de464f47  - actions DB length:  343000  - latest record from:  2023-01-18 06:29:59 33 days ago\n",
      "iterations:  343 Lines skipped:  343000 records collected:  1000  - latest recordID:  borrowAsset   0xe840b1a83017535bd711d3f8311924c9568a0cb21abb7f2fafe54f321594cb9f+1  - actions DB length:  344000  - latest record from:  2023-01-17 18:22:11 33 days ago\n",
      "iterations:  344 Lines skipped:  344000 records collected:  1000  - latest recordID:  addCollateral   0xe840b1a83017535bd711d3f8311924c9568a0cb21abb7f2fafe54f321594cb9f  - actions DB length:  345000  - latest record from:  2023-01-17 18:22:11 33 days ago\n",
      "iterations:  345 Lines skipped:  345000 records collected:  1000  - latest recordID:  borrowAsset   0x6b7edfe0a07d8e657d79c56472a8cd294bd0e0ef44a7455bce157e8dc9004bd4  - actions DB length:  346000  - latest record from:  2023-01-17 18:18:35 33 days ago\n",
      "iterations:  346 Lines skipped:  346000 records collected:  1000  - latest recordID:  removeCollateral   0x460f9aee08e09f7e7245f43c1e3c8068079c6b9d435cc4ea43b945018d1ecea1  - actions DB length:  347000  - latest record from:  2023-01-17 10:59:47 33 days ago\n",
      "iterations:  347 Lines skipped:  347000 records collected:  1000  - latest recordID:  repayAsset   0x062fd7448a63b11811c4ca6ccefec9d8362624119ee2df983015309eae243292  - actions DB length:  348000  - latest record from:  2023-01-17 10:47:11 33 days ago\n",
      "iterations:  348 Lines skipped:  348000 records collected:  1000  - latest recordID:  addAsset   0xd2a8e22bc8ba3338ce7698d34cb9266ac171a07c5a1195e0b8a30fe248f14404  - actions DB length:  349000  - latest record from:  2023-01-17 09:57:59 33 days ago\n",
      "iterations:  349 Lines skipped:  349000 records collected:  1000  - latest recordID:  borrowAsset   0xc7a3898a122851678d184b57c22f151fb4d8d4b100f5e421dc968146bb95130a  - actions DB length:  350000  - latest record from:  2023-01-17 09:37:59 33 days ago\n",
      "iterations:  350 Lines skipped:  350000 records collected:  1000  - latest recordID:  borrowAsset   0xdbedab458bf1d2b0c761f2da175d97ed3b9499b3cb872f70b6f14eb6fd592d5f+1  - actions DB length:  351000  - latest record from:  2023-01-17 08:57:11 33 days ago\n",
      "iterations:  351 Lines skipped:  351000 records collected:  1000  - latest recordID:  addCollateral   0xdbedab458bf1d2b0c761f2da175d97ed3b9499b3cb872f70b6f14eb6fd592d5f  - actions DB length:  352000  - latest record from:  2023-01-17 08:57:11 33 days ago\n",
      "iterations:  352 Lines skipped:  352000 records collected:  1000  - latest recordID:  borrowAsset   0x9ff8aa22b74ac28ed29a3bd002ad7956406568cd5b27723a19c321631196ca95  - actions DB length:  353000  - latest record from:  2023-01-17 08:30:35 33 days ago\n",
      "iterations:  353 Lines skipped:  353000 records collected:  1000  - latest recordID:  borrowAsset   0x5c353b317c683c82d31bc4c362071e6928c33c9474d6d3a7068e835158e0f951+1  - actions DB length:  354000  - latest record from:  2023-01-17 08:29:59 33 days ago\n",
      "iterations:  354 Lines skipped:  354000 records collected:  1000  - latest recordID:  addCollateral   0x5c353b317c683c82d31bc4c362071e6928c33c9474d6d3a7068e835158e0f951  - actions DB length:  355000  - latest record from:  2023-01-17 08:29:59 33 days ago\n",
      "iterations:  355 Lines skipped:  355000 records collected:  1000  - latest recordID:  borrowAsset   0x52edeb1d2b4db7613f32f03d2f9c80dc3003ba28cb89799a382037b75a5fe3d8  - actions DB length:  356000  - latest record from:  2023-01-17 06:45:23 33 days ago\n",
      "iterations:  356 Lines skipped:  356000 records collected:  1000  - latest recordID:  removeCollateral   0xf94bf957660189cbf8d7b8254bccdeff35e6721ed9665c1ae08b7f209e7b2d9e  - actions DB length:  357000  - latest record from:  2023-01-17 06:17:59 34 days ago\n",
      "iterations:  357 Lines skipped:  357000 records collected:  1000  - latest recordID:  repayAsset   0xff64404ae5f010cafe4dc225866f4a143887d8a4913f87028990f031a7874ae9  - actions DB length:  358000  - latest record from:  2023-01-17 06:14:35 34 days ago\n",
      "iterations:  358 Lines skipped:  358000 records collected:  1000  - latest recordID:  borrowAsset   0xf5e6f03a957b20bcddb16b37b72e4f535932b8c50517defbf4defc6a9d0e68de+1  - actions DB length:  359000  - latest record from:  2023-01-17 05:56:23 34 days ago\n",
      "iterations:  359 Lines skipped:  359000 records collected:  1000  - latest recordID:  addCollateral   0xf5e6f03a957b20bcddb16b37b72e4f535932b8c50517defbf4defc6a9d0e68de  - actions DB length:  360000  - latest record from:  2023-01-17 05:56:23 34 days ago\n",
      "iterations:  360 Lines skipped:  360000 records collected:  1000  - latest recordID:  addAsset   0x8c8fea0f0c30f2e208f878eaef67e93d678606fcb149c5643c984508c43666db  - actions DB length:  361000  - latest record from:  2023-01-17 05:43:11 34 days ago\n",
      "iterations:  361 Lines skipped:  361000 records collected:  1000  - latest recordID:  borrowAsset   0x2e0270b9a66c3418c22627e1c7de4e9e901517e297d4571cbe591bd00703cd4c  - actions DB length:  362000  - latest record from:  2023-01-17 05:25:11 34 days ago\n",
      "iterations:  362 Lines skipped:  362000 records collected:  1000  - latest recordID:  addAsset   0x12b8bc58f62a5627fc6171f4bae24d127172a5610f310b5110d923ff49436a07  - actions DB length:  363000  - latest record from:  2023-01-16 20:44:11 34 days ago\n",
      "iterations:  363 Lines skipped:  363000 records collected:  1000  - latest recordID:  borrowAsset   0xeb8dea4c2dcc1f9a4bf14020ecd813d5f9e3123fb0419eefaa9929c1809d0e29  - actions DB length:  364000  - latest record from:  2023-01-16 18:55:23 34 days ago\n",
      "iterations:  364 Lines skipped:  364000 records collected:  1000  - latest recordID:  borrowAsset   0xbc0973c9735faee148da1ce4e23af88146f32ce35071cc6dad1b1a2d79c380f5  - actions DB length:  365000  - latest record from:  2023-01-16 13:17:47 34 days ago\n",
      "iterations:  365 Lines skipped:  365000 records collected:  1000  - latest recordID:  borrowAsset   0xd14c45bcd7f7a533e9fa2a63ef767997212348e43d413790214895072d71712f  - actions DB length:  366000  - latest record from:  2023-01-16 12:01:23 34 days ago\n",
      "iterations:  366 Lines skipped:  366000 records collected:  1000  - latest recordID:  addAsset   0x00961e045ad314f9475941e06590b19cc6360f9c34cd431a342356366989ee7f  - actions DB length:  367000  - latest record from:  2023-01-16 04:43:11 35 days ago\n",
      "iterations:  367 Lines skipped:  367000 records collected:  1000  - latest recordID:  addAsset   0x1c24c59cc163dbb3d3bfb1cf7a0e6ae73e18bad8fcc42485ebe0f9da5ba240f1  - actions DB length:  368000  - latest record from:  2023-01-15 22:33:11 35 days ago\n",
      "iterations:  368 Lines skipped:  368000 records collected:  1000  - latest recordID:  removeAsset   0x561000bc54afd449b08b7ffb510fedd703f93b2c7183b20fe84ef8a266e7c3e1  - actions DB length:  369000  - latest record from:  2023-01-15 17:49:59 35 days ago\n",
      "iterations:  369 Lines skipped:  369000 records collected:  1000  - latest recordID:  borrowAsset   0x83bcb813eb93d595d6b61c2dd4d8b2104fd2c844b5bc2d85dbafaf99946d5290  - actions DB length:  370000  - latest record from:  2023-01-15 17:19:23 35 days ago\n",
      "iterations:  370 Lines skipped:  370000 records collected:  1000  - latest recordID:  addAsset   0x5bdd4426fdf44ac05696e94981a792cd7ad4f4f1d629e9493ee70c3d786a4638  - actions DB length:  371000  - latest record from:  2023-01-15 16:54:35 35 days ago\n",
      "iterations:  371 Lines skipped:  371000 records collected:  1000  - latest recordID:  addAsset   0xdefbe93580f28c4eed1e7c210dbe0d9a6f5a53b8400a9c2db0001f9e2d88f76f  - actions DB length:  372000  - latest record from:  2023-01-15 16:45:59 35 days ago\n",
      "iterations:  372 Lines skipped:  372000 records collected:  1000  - latest recordID:  addAsset   0x4a034be1ece9e09ba3d64839202ddef1a6a82ff02cdc66591d7498138684215e  - actions DB length:  373000  - latest record from:  2023-01-15 16:42:23 35 days ago\n",
      "iterations:  373 Lines skipped:  373000 records collected:  1000  - latest recordID:  borrowAsset   0x7b3474db5b4b172607d32acf5e55b571b3781335c90276cc31cfe8eb596dc7a7+1  - actions DB length:  374000  - latest record from:  2023-01-15 07:39:35 35 days ago\n",
      "iterations:  374 Lines skipped:  374000 records collected:  1000  - latest recordID:  addCollateral   0x7b3474db5b4b172607d32acf5e55b571b3781335c90276cc31cfe8eb596dc7a7  - actions DB length:  375000  - latest record from:  2023-01-15 07:39:35 35 days ago\n",
      "iterations:  375 Lines skipped:  375000 records collected:  1000  - latest recordID:  addAsset   0x41f37664fef4746b7e5d579037274ed87ae87650b41f3e691e72151792c961b8  - actions DB length:  376000  - latest record from:  2023-01-15 05:38:23 36 days ago\n",
      "iterations:  376 Lines skipped:  376000 records collected:  1000  - latest recordID:  borrowAsset   0xede5fbfc1804d165821247fae886c6c2a8736f3052eb6ff861490e67eccb63dc+1  - actions DB length:  377000  - latest record from:  2023-01-15 05:16:23 36 days ago\n",
      "iterations:  377 Lines skipped:  377000 records collected:  1000  - latest recordID:  addCollateral   0xede5fbfc1804d165821247fae886c6c2a8736f3052eb6ff861490e67eccb63dc  - actions DB length:  378000  - latest record from:  2023-01-15 05:16:23 36 days ago\n",
      "iterations:  378 Lines skipped:  378000 records collected:  1000  - latest recordID:  borrowAsset   0xd213964a240a91c8b6f14a499e11e4fae61bb2ba9f6fb658e20f2b8b3d225bdd  - actions DB length:  379000  - latest record from:  2023-01-15 05:12:35 36 days ago\n",
      "iterations:  379 Lines skipped:  379000 records collected:  1000  - latest recordID:  addAsset   0xd4a5c1f8215e5a585446c1ca1cdb962af00e1f2bac3ca7df06560e80d7099969  - actions DB length:  380000  - latest record from:  2023-01-14 22:37:59 36 days ago\n",
      "iterations:  380 Lines skipped:  380000 records collected:  1000  - latest recordID:  addAsset   0x35d48451c285884485e41841bc43023844d859bb4d75a127168abae3d1e9f3a5  - actions DB length:  381000  - latest record from:  2023-01-14 21:49:47 36 days ago\n",
      "iterations:  381 Lines skipped:  381000 records collected:  1000  - latest recordID:  borrowAsset   0xa76006719842d138ac2035f7eb8eb406192bbc1c3f048e27cb7680708587177c+1  - actions DB length:  382000  - latest record from:  2023-01-14 18:27:23 36 days ago\n",
      "iterations:  382 Lines skipped:  382000 records collected:  1000  - latest recordID:  addCollateral   0xa76006719842d138ac2035f7eb8eb406192bbc1c3f048e27cb7680708587177c  - actions DB length:  383000  - latest record from:  2023-01-14 18:27:23 36 days ago\n",
      "iterations:  383 Lines skipped:  383000 records collected:  1000  - latest recordID:  borrowAsset   0x1a2e3b330fb4870effb0dda22c440dd6bf9448d5ae9af7fd69b58a3fb636dea9  - actions DB length:  384000  - latest record from:  2023-01-14 18:19:11 36 days ago\n",
      "iterations:  384 Lines skipped:  384000 records collected:  1000  - latest recordID:  addAsset   0x01b07b7f6863ff9e1ceed72d70b3fc030a7ad7aac1cc0613e111cbf5a4c9e16a  - actions DB length:  385000  - latest record from:  2023-01-14 10:32:47 36 days ago\n",
      "iterations:  385 Lines skipped:  385000 records collected:  1000  - latest recordID:  repayAsset   0xfa63338732c74507f8839f8673048a70564f7eeabaa69c5b5f13c6d6bf6303de  - actions DB length:  386000  - latest record from:  2023-01-14 05:04:47 37 days ago\n",
      "iterations:  386 Lines skipped:  386000 records collected:  1000  - latest recordID:  repayAsset   0xf79730c4f44f676b24f163414ead22ac5a6feb6beb980d0ad217b0b964186cd7  - actions DB length:  387000  - latest record from:  2023-01-14 05:01:11 37 days ago\n",
      "iterations:  387 Lines skipped:  387000 records collected:  1000  - latest recordID:  addAsset   0xc8f1ea628eca352412df8b3f16617b30c40f342007a3c63655207dcb5c6c1061  - actions DB length:  388000  - latest record from:  2023-01-14 03:41:59 37 days ago\n",
      "iterations:  388 Lines skipped:  388000 records collected:  1000  - latest recordID:  removeAsset   0x2bf7b6779d36f8465d5d9d3b851e86830528e02a0b5d9d4c72d51f03c802f788  - actions DB length:  389000  - latest record from:  2023-01-14 03:12:59 37 days ago\n",
      "iterations:  389 Lines skipped:  389000 records collected:  1000  - latest recordID:  removeCollateral   0x823204d420c08720ee1bc3c56494f97d5f2f09b49455ad5eaf00f59950ac4786  - actions DB length:  390000  - latest record from:  2023-01-13 18:44:59 37 days ago\n",
      "iterations:  390 Lines skipped:  390000 records collected:  1000  - latest recordID:  repayAsset   0x7e8d694e8b27de65c306c477f4e2eeb6dcbd0d765c43ded5c63eea149cdc4b27  - actions DB length:  391000  - latest record from:  2023-01-13 18:42:47 37 days ago\n",
      "iterations:  391 Lines skipped:  391000 records collected:  1000  - latest recordID:  removeCollateral   0x2540482229b7d37030f7792bafe9be1d5be0a2487e56df492d5073f2c86c5a47  - actions DB length:  392000  - latest record from:  2023-01-13 18:39:47 37 days ago\n",
      "iterations:  392 Lines skipped:  392000 records collected:  1000  - latest recordID:  removeCollateral   0xe6d47e03c9c822f5bc5c84021c892857da04cb69766f3823eb094aa2a939e434  - actions DB length:  393000  - latest record from:  2023-01-13 18:24:11 37 days ago\n",
      "iterations:  393 Lines skipped:  393000 records collected:  1000  - latest recordID:  borrowAsset   0x4af8d770b2ac766ffd7b0620e70f37f04c4047f6a3aae2a0b0c1c6d9ddee4b21  - actions DB length:  394000  - latest record from:  2023-01-13 17:14:23 37 days ago\n",
      "iterations:  394 Lines skipped:  394000 records collected:  1000  - latest recordID:  repayAsset   0x3ca2c4e00ea1ecf02215a2e3e6a68cde1e77ac7405892d031abacc205d4ed687  - actions DB length:  395000  - latest record from:  2023-01-13 16:57:59 37 days ago\n",
      "iterations:  395 Lines skipped:  395000 records collected:  1000  - latest recordID:  removeCollateral   0xaf7b46e77ff4f1b9b2dcec7addef0c77decda67e69eceac9f5f844188151f1f4  - actions DB length:  396000  - latest record from:  2023-01-13 14:27:35 37 days ago\n",
      "iterations:  396 Lines skipped:  396000 records collected:  1000  - latest recordID:  repayAsset   0xbc2b19884bf689493cd56b786b36cee4859014e51ffccbad2fb52a6010acc86d  - actions DB length:  397000  - latest record from:  2023-01-13 14:25:47 37 days ago\n",
      "iterations:  397 Lines skipped:  397000 records collected:  1000  - latest recordID:  borrowAsset   0x68a79acb8d9079b5ff612ff61549ce17e7ddb9123d2a5f1691d0431a05b4dafb+1  - actions DB length:  398000  - latest record from:  2023-01-13 07:16:11 37 days ago\n",
      "iterations:  398 Lines skipped:  398000 records collected:  1000  - latest recordID:  addCollateral   0x68a79acb8d9079b5ff612ff61549ce17e7ddb9123d2a5f1691d0431a05b4dafb  - actions DB length:  399000  - latest record from:  2023-01-13 07:16:11 37 days ago\n",
      "iterations:  399 Lines skipped:  399000 records collected:  1000  - latest recordID:  borrowAsset   0x1a7b29d41cd34d86cd795b4247d20e6a880c40ae70aaed26b47a7f55e03e23d5  - actions DB length:  400000  - latest record from:  2023-01-13 07:11:47 37 days ago\n",
      "iterations:  400 Lines skipped:  400000 records collected:  1000  - latest recordID:  borrowAsset   0xe757a5d4cc93e610e91506c8215f465e894f3c1c2594219e3e97a38dc482d0ec  - actions DB length:  401000  - latest record from:  2023-01-13 03:51:23 38 days ago\n",
      "iterations:  401 Lines skipped:  401000 records collected:  1000  - latest recordID:  removeAsset   0x5b3a0a3f42dba464620f6a8b2e6d09e18e099da202f5280d41d854a74ddfb926  - actions DB length:  402000  - latest record from:  2023-01-12 13:59:47 38 days ago\n",
      "iterations:  402 Lines skipped:  402000 records collected:  1000  - latest recordID:  addCollateral   0x0a2a05a1b073a1dcbce900f1c49e64fc29ce35dc8dfdd75ea0820c981d53fbba  - actions DB length:  403000  - latest record from:  2023-01-12 05:06:47 39 days ago\n",
      "iterations:  403 Lines skipped:  403000 records collected:  1000  - latest recordID:  removeCollateral   0x53bafd9b89740e23b8c6d603849a6f6e5cd11f36e0e6d56af99e19f4e254ed39  - actions DB length:  404000  - latest record from:  2023-01-12 04:59:35 39 days ago\n",
      "iterations:  404 Lines skipped:  404000 records collected:  1000  - latest recordID:  repayAsset   0x81d778d4301c73a4ec949b91e4badeec867c344c2777f25e7e76d861d0fa461c  - actions DB length:  405000  - latest record from:  2023-01-12 04:58:23 39 days ago\n",
      "iterations:  405 Lines skipped:  405000 records collected:  1000  - latest recordID:  repayAsset   0xf8f13055ad994c19a486d915a5b4d255063d356bb3b58b1f74fe32534ea673d9  - actions DB length:  406000  - latest record from:  2023-01-12 04:57:23 39 days ago\n",
      "iterations:  406 Lines skipped:  406000 records collected:  1000  - latest recordID:  borrowAsset   0x3bbbd2a1046ee68bda724337f47c6e552f15e01e22483b6be8fdd24ebc917000+1  - actions DB length:  407000  - latest record from:  2023-01-11 17:47:35 39 days ago\n",
      "iterations:  407 Lines skipped:  407000 records collected:  1000  - latest recordID:  addCollateral   0x3bbbd2a1046ee68bda724337f47c6e552f15e01e22483b6be8fdd24ebc917000  - actions DB length:  408000  - latest record from:  2023-01-11 17:47:35 39 days ago\n",
      "iterations:  408 Lines skipped:  408000 records collected:  1000  - latest recordID:  borrowAsset   0xe5b9f10576301dec6a887f1523117588e41be6fd6a048e54317474ef115e36b0  - actions DB length:  409000  - latest record from:  2023-01-11 17:42:47 39 days ago\n",
      "iterations:  409 Lines skipped:  409000 records collected:  1000  - latest recordID:  removeCollateral   0xc26d1cfbded58dd66e82b541452cf27ef1899591d7a9f535255d718d4e2b9d5a  - actions DB length:  410000  - latest record from:  2023-01-11 16:43:47 39 days ago\n",
      "iterations:  410 Lines skipped:  410000 records collected:  1000  - latest recordID:  borrowAsset   0xb556436843408b3b90d66ef24be1dad4e93be4f84b65c814753ba8331681bcbc+1  - actions DB length:  411000  - latest record from:  2023-01-11 16:09:35 39 days ago\n",
      "iterations:  411 Lines skipped:  411000 records collected:  1000  - latest recordID:  addCollateral   0xb556436843408b3b90d66ef24be1dad4e93be4f84b65c814753ba8331681bcbc  - actions DB length:  412000  - latest record from:  2023-01-11 16:09:35 39 days ago\n",
      "iterations:  412 Lines skipped:  412000 records collected:  1000  - latest recordID:  borrowAsset   0xa570950082942b24fd1dd6a6b72c463e297d3bb766224037417bb9d149bbb7b2  - actions DB length:  413000  - latest record from:  2023-01-11 16:04:23 39 days ago\n",
      "iterations:  413 Lines skipped:  413000 records collected:  1000  - latest recordID:  repayAsset   0xbaa4f9d5e93b3ad897a3b62f5e79598e7df8436ba5f6d3e624e32428417b92f7  - actions DB length:  414000  - latest record from:  2023-01-11 15:49:11 39 days ago\n",
      "iterations:  414 Lines skipped:  414000 records collected:  1000  - latest recordID:  borrowAsset   0x63fce6869c22d16241e5204088f05b97bcce1f79aa52863cb3077b866e007436+1  - actions DB length:  415000  - latest record from:  2023-01-11 15:19:23 39 days ago\n",
      "iterations:  415 Lines skipped:  415000 records collected:  1000  - latest recordID:  addCollateral   0x63fce6869c22d16241e5204088f05b97bcce1f79aa52863cb3077b866e007436  - actions DB length:  416000  - latest record from:  2023-01-11 15:19:23 39 days ago\n",
      "iterations:  416 Lines skipped:  416000 records collected:  1000  - latest recordID:  borrowAsset   0x1fbc50ee601d5781fc9d877d48c5e4a81ca2b4ddbbace4d3af016b56b6c6f3b0  - actions DB length:  417000  - latest record from:  2023-01-11 15:15:11 39 days ago\n",
      "iterations:  417 Lines skipped:  417000 records collected:  1000  - latest recordID:  addAsset   0xcc2b330c7f92b7a9a5746bc5f87d914eb07dd22b3431a240f5d4ac84c91f0834  - actions DB length:  418000  - latest record from:  2023-01-11 13:26:11 39 days ago\n",
      "iterations:  418 Lines skipped:  418000 records collected:  1000  - latest recordID:  addAsset   0x68801213fb67e480e15ecab109073dab45051e064d80c03c7457364bc68cd2f2  - actions DB length:  419000  - latest record from:  2023-01-11 12:15:11 39 days ago\n",
      "iterations:  419 Lines skipped:  419000 records collected:  1000  - latest recordID:  borrowAsset   0x06806270acee99df1ef398d1c7e82340e1451c9bb50fc595ca6fe3bf582f1545+1  - actions DB length:  420000  - latest record from:  2023-01-11 11:03:23 39 days ago\n",
      "iterations:  420 Lines skipped:  420000 records collected:  1000  - latest recordID:  addCollateral   0x06806270acee99df1ef398d1c7e82340e1451c9bb50fc595ca6fe3bf582f1545  - actions DB length:  421000  - latest record from:  2023-01-11 11:03:23 39 days ago\n",
      "iterations:  421 Lines skipped:  421000 records collected:  1000  - latest recordID:  borrowAsset   0x3bcc4cbf4c0eab3c7c434727d6262e8270bdb95f5605afb663598cb69f3e9df8+1  - actions DB length:  422000  - latest record from:  2023-01-11 09:02:59 39 days ago\n",
      "iterations:  422 Lines skipped:  422000 records collected:  1000  - latest recordID:  addCollateral   0x3bcc4cbf4c0eab3c7c434727d6262e8270bdb95f5605afb663598cb69f3e9df8  - actions DB length:  423000  - latest record from:  2023-01-11 09:02:59 39 days ago\n",
      "iterations:  423 Lines skipped:  423000 records collected:  1000  - latest recordID:  borrowAsset   0x18727900202f40d7652ee5d7f0e87559c2aa889f68e4173e8af971ba6fe58c79  - actions DB length:  424000  - latest record from:  2023-01-11 09:00:11 39 days ago\n",
      "iterations:  424 Lines skipped:  424000 records collected:  1000  - latest recordID:  borrowAsset   0x1f3ccf4cbb1c559d80431a543aee4c8ddab8a474164db9018be7ad931afda41e+1  - actions DB length:  425000  - latest record from:  2023-01-11 08:50:11 39 days ago\n",
      "iterations:  425 Lines skipped:  425000 records collected:  1000  - latest recordID:  addCollateral   0x1f3ccf4cbb1c559d80431a543aee4c8ddab8a474164db9018be7ad931afda41e  - actions DB length:  426000  - latest record from:  2023-01-11 08:50:11 39 days ago\n",
      "iterations:  426 Lines skipped:  426000 records collected:  1000  - latest recordID:  borrowAsset   0xc529182a887a577db64badc92b57d5fecbef6d881ed6f9a23c10123ff01eb794+1  - actions DB length:  427000  - latest record from:  2023-01-11 08:45:35 39 days ago\n",
      "iterations:  427 Lines skipped:  427000 records collected:  1000  - latest recordID:  addCollateral   0xc529182a887a577db64badc92b57d5fecbef6d881ed6f9a23c10123ff01eb794  - actions DB length:  428000  - latest record from:  2023-01-11 08:45:35 39 days ago\n",
      "iterations:  428 Lines skipped:  428000 records collected:  1000  - latest recordID:  borrowAsset   0x03f1760d6ea18ff77d7404d4cde8f803e5dfe7156bf81aa40633438fc75bf2de+1  - actions DB length:  429000  - latest record from:  2023-01-11 08:42:11 39 days ago\n",
      "iterations:  429 Lines skipped:  429000 records collected:  1000  - latest recordID:  addCollateral   0x03f1760d6ea18ff77d7404d4cde8f803e5dfe7156bf81aa40633438fc75bf2de  - actions DB length:  430000  - latest record from:  2023-01-11 08:42:11 39 days ago\n",
      "iterations:  430 Lines skipped:  430000 records collected:  1000  - latest recordID:  borrowAsset   0xea44044af1061d77deb9a2e6fcee73d8a04d5351b1c5c7290e6264e862379402+1  - actions DB length:  431000  - latest record from:  2023-01-11 08:29:11 39 days ago\n",
      "iterations:  431 Lines skipped:  431000 records collected:  1000  - latest recordID:  addCollateral   0xea44044af1061d77deb9a2e6fcee73d8a04d5351b1c5c7290e6264e862379402  - actions DB length:  432000  - latest record from:  2023-01-11 08:29:11 39 days ago\n",
      "iterations:  432 Lines skipped:  432000 records collected:  1000  - latest recordID:  borrowAsset   0x2c595332ade79d1c52e7cde8b1ab3505407f1c6e8125705f2f786aa597d70a79+1  - actions DB length:  433000  - latest record from:  2023-01-11 08:18:35 39 days ago\n",
      "iterations:  433 Lines skipped:  433000 records collected:  1000  - latest recordID:  addCollateral   0x2c595332ade79d1c52e7cde8b1ab3505407f1c6e8125705f2f786aa597d70a79  - actions DB length:  434000  - latest record from:  2023-01-11 08:18:35 39 days ago\n",
      "iterations:  434 Lines skipped:  434000 records collected:  1000  - latest recordID:  borrowAsset   0x9b829cf41599e36f2874c1cb34a9461c75b04c11c3e7025c47495bfc361467f9  - actions DB length:  435000  - latest record from:  2023-01-11 08:04:59 39 days ago\n",
      "iterations:  435 Lines skipped:  435000 records collected:  1000  - latest recordID:  repayAsset   0x698b74854ae1a7ffc74296479b69147c0c37523f78f5ed98c5fbab13e98f5614  - actions DB length:  436000  - latest record from:  2023-01-11 04:51:47 40 days ago\n",
      "iterations:  436 Lines skipped:  436000 records collected:  1000  - latest recordID:  repayAsset   0x1aed7d2b9933007618654ea96fc0afaf7e3c189fb2c9287bef37f1562870599f  - actions DB length:  437000  - latest record from:  2023-01-10 20:25:23 40 days ago\n",
      "iterations:  437 Lines skipped:  437000 records collected:  1000  - latest recordID:  borrowAsset   0xaaf548c6f478c7824a79855f43417f8ec997e45b4194ef9f7a08bff713b5a329  - actions DB length:  438000  - latest record from:  2023-01-10 19:49:11 40 days ago\n",
      "iterations:  438 Lines skipped:  438000 records collected:  1000  - latest recordID:  repayAsset   0xe2690dac6449b50cd52a08e513917c9b57393c9d6217e99fa1972421c00efce9  - actions DB length:  439000  - latest record from:  2023-01-10 05:44:47 41 days ago\n",
      "iterations:  439 Lines skipped:  439000 records collected:  1000  - latest recordID:  repayAsset   0xbd040537b5acd14537a9566bacb6e09b3497a4712c6ffa066577d16fb82b0df3  - actions DB length:  440000  - latest record from:  2023-01-09 08:25:47 41 days ago\n",
      "iterations:  440 Lines skipped:  440000 records collected:  1000  - latest recordID:  removeAsset   0xbc6a8dfd8231cd01dfd472edcad4e534d2a5ba700fc67a26e29e06dd875fdfba  - actions DB length:  441000  - latest record from:  2023-01-09 07:15:35 41 days ago\n",
      "iterations:  441 Lines skipped:  441000 records collected:  1000  - latest recordID:  borrowAsset   0x00f47a10ca8e9ddebc8f6a6068f1ce3a92b26da9fb0c2dc2e864cd5745d01bf4  - actions DB length:  442000  - latest record from:  2023-01-09 07:10:47 41 days ago\n",
      "iterations:  442 Lines skipped:  442000 records collected:  1000  - latest recordID:  removeAsset   0xfc90df0d373de0ab7718f61984462fb503609c7aa36f017137986e540e1671b0  - actions DB length:  443000  - latest record from:  2023-01-08 21:24:47 42 days ago\n",
      "iterations:  443 Lines skipped:  443000 records collected:  1000  - latest recordID:  borrowAsset   0x7335e94e394cecccf6e7564b6f6c6a153f67b715fac2fe23420043db5e01b3a3+1  - actions DB length:  444000  - latest record from:  2023-01-08 18:43:23 42 days ago\n",
      "iterations:  444 Lines skipped:  444000 records collected:  1000  - latest recordID:  addCollateral   0x7335e94e394cecccf6e7564b6f6c6a153f67b715fac2fe23420043db5e01b3a3  - actions DB length:  445000  - latest record from:  2023-01-08 18:43:23 42 days ago\n",
      "iterations:  445 Lines skipped:  445000 records collected:  1000  - latest recordID:  borrowAsset   0xad663fb0b26d0ed66a30858c29994a1865e1eeab44e20c8b122bb138fc6175a5+1  - actions DB length:  446000  - latest record from:  2023-01-08 18:17:11 42 days ago\n",
      "iterations:  446 Lines skipped:  446000 records collected:  1000  - latest recordID:  addCollateral   0xad663fb0b26d0ed66a30858c29994a1865e1eeab44e20c8b122bb138fc6175a5  - actions DB length:  447000  - latest record from:  2023-01-08 18:17:11 42 days ago\n",
      "iterations:  447 Lines skipped:  447000 records collected:  1000  - latest recordID:  borrowAsset   0x112aa7130d51af6398997f3367f171ee873b53254f49c313469b27b893a60eb1+1  - actions DB length:  448000  - latest record from:  2023-01-08 18:13:35 42 days ago\n",
      "iterations:  448 Lines skipped:  448000 records collected:  1000  - latest recordID:  addCollateral   0x112aa7130d51af6398997f3367f171ee873b53254f49c313469b27b893a60eb1  - actions DB length:  449000  - latest record from:  2023-01-08 18:13:35 42 days ago\n",
      "iterations:  449 Lines skipped:  449000 records collected:  1000  - latest recordID:  borrowAsset   0x46e1b4c475ab54b95556c49aea86c91b2bb20e034ab62f29f8104856720a9db3+1  - actions DB length:  450000  - latest record from:  2023-01-08 18:10:23 42 days ago\n",
      "iterations:  450 Lines skipped:  450000 records collected:  1000  - latest recordID:  addCollateral   0x46e1b4c475ab54b95556c49aea86c91b2bb20e034ab62f29f8104856720a9db3  - actions DB length:  451000  - latest record from:  2023-01-08 18:10:23 42 days ago\n",
      "iterations:  451 Lines skipped:  451000 records collected:  1000  - latest recordID:  removeAsset   0xe48d37260880fb7fe7493b84af0cfa05d33c8c3e7a71c15b4ab0d65621799b65  - actions DB length:  452000  - latest record from:  2023-01-08 17:24:23 42 days ago\n",
      "iterations:  452 Lines skipped:  452000 records collected:  1000  - latest recordID:  borrowAsset   0x10a0981509a50cea879aa69213685127613fd378ab4e21200c9aff69a6a54cde+1  - actions DB length:  453000  - latest record from:  2023-01-08 17:14:47 42 days ago\n",
      "iterations:  453 Lines skipped:  453000 records collected:  1000  - latest recordID:  addCollateral   0x10a0981509a50cea879aa69213685127613fd378ab4e21200c9aff69a6a54cde  - actions DB length:  454000  - latest record from:  2023-01-08 17:14:47 42 days ago\n",
      "iterations:  454 Lines skipped:  454000 records collected:  1000  - latest recordID:  borrowAsset   0xf5f33626970eeb6831f72a4452c46d49e396a516041bc3601d7cba3b4c7f2002  - actions DB length:  455000  - latest record from:  2023-01-08 17:09:47 42 days ago\n",
      "iterations:  455 Lines skipped:  455000 records collected:  1000  - latest recordID:  addAsset   0xd731643f0ff1a778aa9a71ed4e02885707f6614a1c31e6f07492c6a29488786c  - actions DB length:  456000  - latest record from:  2023-01-08 14:20:11 42 days ago\n",
      "iterations:  456 Lines skipped:  456000 records collected:  1000  - latest recordID:  addAsset   0xd3e0734264e9d3b926518486ca0d796b96c0415b0e1efbe67576df1080bc5dee  - actions DB length:  457000  - latest record from:  2023-01-08 14:14:35 42 days ago\n",
      "iterations:  457 Lines skipped:  457000 records collected:  1000  - latest recordID:  borrowAsset   0x9e2a34623e3ae58220877d0e95b651103a11a2a9f19440e4ff9f8e7724eb1812  - actions DB length:  458000  - latest record from:  2023-01-08 13:56:35 42 days ago\n",
      "iterations:  458 Lines skipped:  458000 records collected:  1000  - latest recordID:  removeAsset   0x3ce9d96ddb970226ad3347b0c44f6d6e5e83c8e7561f8061321e74be0770940f  - actions DB length:  459000  - latest record from:  2023-01-08 13:46:35 42 days ago\n",
      "iterations:  459 Lines skipped:  459000 records collected:  1000  - latest recordID:  repayAsset   0x13dbf25c0a53645cf0cf707d7aeecb149490b474567af246f2ba94d1ae4fc6f2  - actions DB length:  460000  - latest record from:  2023-01-08 11:59:35 42 days ago\n",
      "iterations:  460 Lines skipped:  460000 records collected:  1000  - latest recordID:  borrowAsset   0x6d2c76886d534204920ab2d1f3fe06765d874a1e7ef2fd04638fb9fc0c0d5e5c+1  - actions DB length:  461000  - latest record from:  2023-01-08 09:20:11 42 days ago\n",
      "iterations:  461 Lines skipped:  461000 records collected:  1000  - latest recordID:  addCollateral   0x6d2c76886d534204920ab2d1f3fe06765d874a1e7ef2fd04638fb9fc0c0d5e5c  - actions DB length:  462000  - latest record from:  2023-01-08 09:20:11 42 days ago\n",
      "iterations:  462 Lines skipped:  462000 records collected:  1000  - latest recordID:  borrowAsset   0x134a6fddfb5aff2cfa3545e86cf083bcd57b0142fb01ce75b7bfff78aff30c20  - actions DB length:  463000  - latest record from:  2023-01-07 17:18:11 43 days ago\n",
      "iterations:  463 Lines skipped:  463000 records collected:  1000  - latest recordID:  addCollateral   0x495b98a0dcb94ce91b44d7d86d454d6ae617ce427d355d1ecef24e4d322cbb6e  - actions DB length:  464000  - latest record from:  2023-01-07 17:16:11 43 days ago\n",
      "iterations:  464 Lines skipped:  464000 records collected:  1000  - latest recordID:  borrowAsset   0x382338f0e469c80756ba6f382506dc1e9aafab3f29093aa32228006e2c10796c  - actions DB length:  465000  - latest record from:  2023-01-07 16:34:47 43 days ago\n",
      "iterations:  465 Lines skipped:  465000 records collected:  1000  - latest recordID:  borrowAsset   0x0aa4074a73402ce256c0d7dcb715c87b97c5ba644d09e32a5b7c732cb9fd64b9  - actions DB length:  466000  - latest record from:  2023-01-07 14:07:23 43 days ago\n",
      "iterations:  466 Lines skipped:  466000 records collected:  1000  - latest recordID:  borrowAsset   0xac99c8c630a1443cbfb950b4dd628a2c33be38bbf41b1958f9a0bb75c4c20471  - actions DB length:  467000  - latest record from:  2023-01-06 20:20:47 44 days ago\n",
      "iterations:  467 Lines skipped:  467000 records collected:  1000  - latest recordID:  addCollateral   0x7ba250e56ad7a192df442f5196030627fb9296c66c3b3c70cd14215e2ccf0d22  - actions DB length:  468000  - latest record from:  2023-01-06 20:19:11 44 days ago\n",
      "iterations:  468 Lines skipped:  468000 records collected:  1000  - latest recordID:  removeCollateral   0xad7b18d6fcfc00d0209c9729744424e7045873654ed81572d8a0679076bff16c  - actions DB length:  469000  - latest record from:  2023-01-06 11:16:59 44 days ago\n",
      "iterations:  469 Lines skipped:  469000 records collected:  1000  - latest recordID:  repayAsset   0xba8c00ec1d3bd8e1a5031ebcd00f1966d099dc17de8434069cc3e9709f1bd8b3  - actions DB length:  470000  - latest record from:  2023-01-06 11:14:47 44 days ago\n",
      "iterations:  470 Lines skipped:  470000 records collected:  1000  - latest recordID:  repayAsset   0xc340504a0db784dc3e64806e8a4d8de66d4b2aa1c28c471f03d3fe926ccc1672  - actions DB length:  471000  - latest record from:  2023-01-06 11:12:35 44 days ago\n",
      "iterations:  471 Lines skipped:  471000 records collected:  1000  - latest recordID:  borrowAsset   0x728e4e2c821118e6140a01115db8ccb3f4281405f16c644bf18ead8c444b8b1d+1  - actions DB length:  472000  - latest record from:  2023-01-06 07:31:47 44 days ago\n",
      "iterations:  472 Lines skipped:  472000 records collected:  1000  - latest recordID:  addCollateral   0x728e4e2c821118e6140a01115db8ccb3f4281405f16c644bf18ead8c444b8b1d  - actions DB length:  473000  - latest record from:  2023-01-06 07:31:47 44 days ago\n",
      "iterations:  473 Lines skipped:  473000 records collected:  1000  - latest recordID:  borrowAsset   0xf24e981647ca8c7d3bde1fd3f5a3224935c19ca906f024f0e70d368ee377920a  - actions DB length:  474000  - latest record from:  2023-01-06 07:28:23 44 days ago\n",
      "iterations:  474 Lines skipped:  474000 records collected:  1000  - latest recordID:  removeCollateral   0xb9e6940a9d51abc72a9375587f94126d3c0fd037d99736320e9de8ea34b769ee  - actions DB length:  475000  - latest record from:  2023-01-06 06:32:47 45 days ago\n",
      "iterations:  475 Lines skipped:  475000 records collected:  1000  - latest recordID:  repayAsset   0xb65426a8c1d06558804a27a2e0c1a65f81f0b68475cca007e3102f7a9685de82  - actions DB length:  476000  - latest record from:  2023-01-06 06:31:35 45 days ago\n",
      "iterations:  476 Lines skipped:  476000 records collected:  1000  - latest recordID:  borrowAsset   0xc68e5262eb7b74946a0768c7605d40fa89725490bef67dd527fc93c5baaa4051+1  - actions DB length:  477000  - latest record from:  2023-01-06 05:29:59 45 days ago\n",
      "iterations:  477 Lines skipped:  477000 records collected:  1000  - latest recordID:  addCollateral   0xc68e5262eb7b74946a0768c7605d40fa89725490bef67dd527fc93c5baaa4051  - actions DB length:  478000  - latest record from:  2023-01-06 05:29:59 45 days ago\n",
      "iterations:  478 Lines skipped:  478000 records collected:  1000  - latest recordID:  borrowAsset   0x4fce330b491b01da0725c385981fc95b647f545c1059ec954db47973b0a4d0ad  - actions DB length:  479000  - latest record from:  2023-01-06 05:27:35 45 days ago\n",
      "iterations:  479 Lines skipped:  479000 records collected:  1000  - latest recordID:  repayAsset   0xcd67d8e322952de56d2057f78d3afccfe2067fb5667df75129fa965dffa70a8c  - actions DB length:  480000  - latest record from:  2023-01-06 04:13:47 45 days ago\n",
      "iterations:  480 Lines skipped:  480000 records collected:  1000  - latest recordID:  removeCollateral   0x3abd995ffec73bac95921d3279aa129988df86ddfbe6ce2031f10fa89e6bda74  - actions DB length:  481000  - latest record from:  2023-01-06 04:10:23 45 days ago\n",
      "iterations:  481 Lines skipped:  481000 records collected:  1000  - latest recordID:  borrowAsset   0xa9b96f0a30f7c95d2328da28a3c7551b3fcbdca4a79f22212211a3b5d59d273f+1  - actions DB length:  482000  - latest record from:  2023-01-05 10:21:23 45 days ago\n",
      "iterations:  482 Lines skipped:  482000 records collected:  1000  - latest recordID:  addCollateral   0xa9b96f0a30f7c95d2328da28a3c7551b3fcbdca4a79f22212211a3b5d59d273f  - actions DB length:  483000  - latest record from:  2023-01-05 10:21:23 45 days ago\n",
      "iterations:  483 Lines skipped:  483000 records collected:  1000  - latest recordID:  borrowAsset   0x2b7733fed0df21cb210f01004ebb717721c0a621bd2ec827d3c8b3822425be1a+1  - actions DB length:  484000  - latest record from:  2023-01-05 03:17:11 46 days ago\n",
      "Done. Total Records collected:  484000\n"
     ]
    }
   ],
   "source": [
    "actionListLength=0\n",
    "actionTicker = 0\n",
    "fraxUsersDb = pd.DataFrame()\n",
    "actionsDb = pd.DataFrame()\n",
    "actionListLength = 1000\n",
    "datediff = 0\n",
    "now=0\n",
    "daysAgo=0\n",
    "daysLimit = 45\n",
    "exit = False\n",
    "while exit==False:\n",
    "    #listLength=0\n",
    "    skipValue = (actionTicker)*(1000)\n",
    "    actionsQuery = frax.Query.actions(\n",
    "         orderBy='timestamp'\n",
    "        ,orderDirection='desc'\n",
    "        ,first=1000\n",
    "        ,skipValue = skipValue\n",
    "        #,where = [frax.Query.actions.token.id == '0x66bf36dba79d4606039f04b32946a260bcd3ff52']\n",
    "        ,where={ 'pair': '0x66bf36dba79d4606039f04b32946a260bcd3ff52'\n",
    "                 ,'timestamp_gte': maxBorrowFraxTimestamp\n",
    "                 }\n",
    "        #,where = {'positions.pairid':'0x66bf36dba79d4606039f04b32946a260bcd3ff52'}\n",
    "    #{'users_positions_pair_id':'0x66bf36dba79d4606039f04b32946a260bcd3ff52'}\n",
    "\n",
    "    )\n",
    "    actions= sg.query_df([\n",
    "        actionsQuery.id\n",
    "        ,actionsQuery.type\n",
    "        ,actionsQuery.amount\n",
    "        ,actionsQuery.timestamp\n",
    "        ,actionsQuery.block\n",
    "        ,actionsQuery.token.name\n",
    "        ,actionsQuery.root.address\n",
    "        ,actionsQuery.pair.asset.symbol\n",
    "        ,actionsQuery.pair.asset.decimals\n",
    "        ,actionsQuery.pair.collateral.symbol\n",
    "        ,actionsQuery.pair.collateral.decimals\n",
    "        ]\n",
    "    )\n",
    "\n",
    "    actions.sort_values(by=['actions_timestamp'])\n",
    "\n",
    "    actionsDb=pd.concat([actionsDb, actions])\n",
    "    recordTimestamp1 = actionsDb.iat[actionTicker,3]\n",
    "    recordTimestamp = dt.datetime.fromtimestamp( recordTimestamp1 )\n",
    "    now = (int(dt.datetime.utcnow().timestamp()))\n",
    "    datediff=abs(int(now) - recordTimestamp1)\n",
    "    daysAgo = int(datediff/86400)\n",
    "    actionsDbLength = len(actionsDb)\n",
    "    actionListLength = len(actions)\n",
    "    recordID = actionsDb.iat[actionTicker,0]\n",
    "    action = actionsDb.iat[actionTicker,1]\n",
    "    print(\"iterations: \", actionTicker, \"Lines skipped: \",skipValue, \"records collected: \", actionListLength, \" - latest recordID: \",action, \" \", recordID , \" - actions DB length: \", actionsDbLength, \" - latest record from: \", recordTimestamp, daysAgo,\"days ago\")\n",
    "    #print(\"iterations: \", actionTicker, \"records collected: \", actionListLength, \" - userdb length: \", actionsDbLength)\n",
    "    if daysAgo>daysLimit: exit =True\n",
    "    if actionListLength<1000: exit =True\n",
    "    actionTicker = actionTicker+1\n",
    "actionsDb['DateTime']=(pd.to_datetime(actionsDb['actions_timestamp'],unit='s'))\n",
    "print(\"Done. Total Records collected: \", actionsDbLength)"
   ],
   "metadata": {
    "collapsed": false
   }
  },
  {
   "cell_type": "code",
   "execution_count": 982,
   "outputs": [
    {
     "data": {
      "text/plain": "                                            actions_id   actions_type  \\\n0    0xa36fce829a2866df6030c9e52d02c538b7f1ca3ba28a...    borrowAsset   \n1    0xa36fce829a2866df6030c9e52d02c538b7f1ca3ba28a...  addCollateral   \n2    0x374e4347a5abad8ebf70cbb9fde86005a3bfbeaeee44...    borrowAsset   \n3    0x4c7cd0a0fe188a8049ac8c28269d52106804986dfb99...    borrowAsset   \n4    0x4c7cd0a0fe188a8049ac8c28269d52106804986dfb99...  addCollateral   \n..                                                 ...            ...   \n995  0x3ee4a9ec901ef2eca3503aaa33817f3c9a97a5726a4d...    borrowAsset   \n996  0xd0de210e6724178599f45fda0bd06d7fcac6e8d587f0...  addCollateral   \n997  0x39003c14500ed2c34fdc8b74fd67ce93b94f41c97808...    borrowAsset   \n998  0x39003c14500ed2c34fdc8b74fd67ce93b94f41c97808...  addCollateral   \n999  0xab8d4475df0a60afeac7d97c4c028a9cefc4e2bec848...    borrowAsset   \n\n              actions_amount  actions_timestamp  actions_block  \\\n0                          0         1676866727       16667337   \n1        7006979439076347667         1676866727       16667337   \n2    10000000000000000000000         1676865431       16667229   \n3                          0         1676856395       16666484   \n4        6480000000000000000         1676856395       16666484   \n..                       ...                ...            ...   \n995   3933309226525890551441         1670209907       16115831   \n996     20008057754316253453         1670209835       16115825   \n997   2000000000000000000000         1670205551       16115472   \n998      2666844721390373735         1670205551       16115472   \n999                        0         1670195579       16114646   \n\n    actions_token_name                        actions_root_address  \\\n0                 Frax  0xc0e0de939f26e71683452467942aff455ca153e3   \n1       Governance OHM  0xc0e0de939f26e71683452467942aff455ca153e3   \n2                 Frax  0xc0e0de939f26e71683452467942aff455ca153e3   \n3                 Frax  0xc0e0de939f26e71683452467942aff455ca153e3   \n4       Governance OHM  0xc0e0de939f26e71683452467942aff455ca153e3   \n..                 ...                                         ...   \n995               Frax  0x313899a86cf680f12112758aa09daf0fc75510d6   \n996     Governance OHM  0x313899a86cf680f12112758aa09daf0fc75510d6   \n997               Frax  0x51a0a3849f1cc8822c2cbca4e0ce9ee0ba8e481d   \n998     Governance OHM  0x51a0a3849f1cc8822c2cbca4e0ce9ee0ba8e481d   \n999               Frax  0x0561a78021d8966ddd20c28c6c4318d8675ee1f0   \n\n    actions_pair_asset_symbol  actions_pair_asset_decimals  \\\n0                        FRAX                           18   \n1                        FRAX                           18   \n2                        FRAX                           18   \n3                        FRAX                           18   \n4                        FRAX                           18   \n..                        ...                          ...   \n995                      FRAX                           18   \n996                      FRAX                           18   \n997                      FRAX                           18   \n998                      FRAX                           18   \n999                      FRAX                           18   \n\n    actions_pair_collateral_symbol  actions_pair_collateral_decimals  \\\n0                             gOHM                                18   \n1                             gOHM                                18   \n2                             gOHM                                18   \n3                             gOHM                                18   \n4                             gOHM                                18   \n..                             ...                               ...   \n995                           gOHM                                18   \n996                           gOHM                                18   \n997                           gOHM                                18   \n998                           gOHM                                18   \n999                           gOHM                                18   \n\n               DateTime  transactionReadableAmount  \n0   2023-02-20 04:18:47                   0.000000  \n1   2023-02-20 04:18:47                   7.006979  \n2   2023-02-20 03:57:11               10000.000000  \n3   2023-02-20 01:26:35                   0.000000  \n4   2023-02-20 01:26:35                   6.480000  \n..                  ...                        ...  \n995 2022-12-05 03:11:47                3933.309227  \n996 2022-12-05 03:10:35                  20.008058  \n997 2022-12-05 01:59:11                2000.000000  \n998 2022-12-05 01:59:11                   2.666845  \n999 2022-12-04 23:12:59                   0.000000  \n\n[2000 rows x 13 columns]",
      "text/html": "<div>\n<style scoped>\n    .dataframe tbody tr th:only-of-type {\n        vertical-align: middle;\n    }\n\n    .dataframe tbody tr th {\n        vertical-align: top;\n    }\n\n    .dataframe thead th {\n        text-align: right;\n    }\n</style>\n<table border=\"1\" class=\"dataframe\">\n  <thead>\n    <tr style=\"text-align: right;\">\n      <th></th>\n      <th>actions_id</th>\n      <th>actions_type</th>\n      <th>actions_amount</th>\n      <th>actions_timestamp</th>\n      <th>actions_block</th>\n      <th>actions_token_name</th>\n      <th>actions_root_address</th>\n      <th>actions_pair_asset_symbol</th>\n      <th>actions_pair_asset_decimals</th>\n      <th>actions_pair_collateral_symbol</th>\n      <th>actions_pair_collateral_decimals</th>\n      <th>DateTime</th>\n      <th>transactionReadableAmount</th>\n    </tr>\n  </thead>\n  <tbody>\n    <tr>\n      <th>0</th>\n      <td>0xa36fce829a2866df6030c9e52d02c538b7f1ca3ba28a...</td>\n      <td>borrowAsset</td>\n      <td>0</td>\n      <td>1676866727</td>\n      <td>16667337</td>\n      <td>Frax</td>\n      <td>0xc0e0de939f26e71683452467942aff455ca153e3</td>\n      <td>FRAX</td>\n      <td>18</td>\n      <td>gOHM</td>\n      <td>18</td>\n      <td>2023-02-20 04:18:47</td>\n      <td>0.000000</td>\n    </tr>\n    <tr>\n      <th>1</th>\n      <td>0xa36fce829a2866df6030c9e52d02c538b7f1ca3ba28a...</td>\n      <td>addCollateral</td>\n      <td>7006979439076347667</td>\n      <td>1676866727</td>\n      <td>16667337</td>\n      <td>Governance OHM</td>\n      <td>0xc0e0de939f26e71683452467942aff455ca153e3</td>\n      <td>FRAX</td>\n      <td>18</td>\n      <td>gOHM</td>\n      <td>18</td>\n      <td>2023-02-20 04:18:47</td>\n      <td>7.006979</td>\n    </tr>\n    <tr>\n      <th>2</th>\n      <td>0x374e4347a5abad8ebf70cbb9fde86005a3bfbeaeee44...</td>\n      <td>borrowAsset</td>\n      <td>10000000000000000000000</td>\n      <td>1676865431</td>\n      <td>16667229</td>\n      <td>Frax</td>\n      <td>0xc0e0de939f26e71683452467942aff455ca153e3</td>\n      <td>FRAX</td>\n      <td>18</td>\n      <td>gOHM</td>\n      <td>18</td>\n      <td>2023-02-20 03:57:11</td>\n      <td>10000.000000</td>\n    </tr>\n    <tr>\n      <th>3</th>\n      <td>0x4c7cd0a0fe188a8049ac8c28269d52106804986dfb99...</td>\n      <td>borrowAsset</td>\n      <td>0</td>\n      <td>1676856395</td>\n      <td>16666484</td>\n      <td>Frax</td>\n      <td>0xc0e0de939f26e71683452467942aff455ca153e3</td>\n      <td>FRAX</td>\n      <td>18</td>\n      <td>gOHM</td>\n      <td>18</td>\n      <td>2023-02-20 01:26:35</td>\n      <td>0.000000</td>\n    </tr>\n    <tr>\n      <th>4</th>\n      <td>0x4c7cd0a0fe188a8049ac8c28269d52106804986dfb99...</td>\n      <td>addCollateral</td>\n      <td>6480000000000000000</td>\n      <td>1676856395</td>\n      <td>16666484</td>\n      <td>Governance OHM</td>\n      <td>0xc0e0de939f26e71683452467942aff455ca153e3</td>\n      <td>FRAX</td>\n      <td>18</td>\n      <td>gOHM</td>\n      <td>18</td>\n      <td>2023-02-20 01:26:35</td>\n      <td>6.480000</td>\n    </tr>\n    <tr>\n      <th>...</th>\n      <td>...</td>\n      <td>...</td>\n      <td>...</td>\n      <td>...</td>\n      <td>...</td>\n      <td>...</td>\n      <td>...</td>\n      <td>...</td>\n      <td>...</td>\n      <td>...</td>\n      <td>...</td>\n      <td>...</td>\n      <td>...</td>\n    </tr>\n    <tr>\n      <th>995</th>\n      <td>0x3ee4a9ec901ef2eca3503aaa33817f3c9a97a5726a4d...</td>\n      <td>borrowAsset</td>\n      <td>3933309226525890551441</td>\n      <td>1670209907</td>\n      <td>16115831</td>\n      <td>Frax</td>\n      <td>0x313899a86cf680f12112758aa09daf0fc75510d6</td>\n      <td>FRAX</td>\n      <td>18</td>\n      <td>gOHM</td>\n      <td>18</td>\n      <td>2022-12-05 03:11:47</td>\n      <td>3933.309227</td>\n    </tr>\n    <tr>\n      <th>996</th>\n      <td>0xd0de210e6724178599f45fda0bd06d7fcac6e8d587f0...</td>\n      <td>addCollateral</td>\n      <td>20008057754316253453</td>\n      <td>1670209835</td>\n      <td>16115825</td>\n      <td>Governance OHM</td>\n      <td>0x313899a86cf680f12112758aa09daf0fc75510d6</td>\n      <td>FRAX</td>\n      <td>18</td>\n      <td>gOHM</td>\n      <td>18</td>\n      <td>2022-12-05 03:10:35</td>\n      <td>20.008058</td>\n    </tr>\n    <tr>\n      <th>997</th>\n      <td>0x39003c14500ed2c34fdc8b74fd67ce93b94f41c97808...</td>\n      <td>borrowAsset</td>\n      <td>2000000000000000000000</td>\n      <td>1670205551</td>\n      <td>16115472</td>\n      <td>Frax</td>\n      <td>0x51a0a3849f1cc8822c2cbca4e0ce9ee0ba8e481d</td>\n      <td>FRAX</td>\n      <td>18</td>\n      <td>gOHM</td>\n      <td>18</td>\n      <td>2022-12-05 01:59:11</td>\n      <td>2000.000000</td>\n    </tr>\n    <tr>\n      <th>998</th>\n      <td>0x39003c14500ed2c34fdc8b74fd67ce93b94f41c97808...</td>\n      <td>addCollateral</td>\n      <td>2666844721390373735</td>\n      <td>1670205551</td>\n      <td>16115472</td>\n      <td>Governance OHM</td>\n      <td>0x51a0a3849f1cc8822c2cbca4e0ce9ee0ba8e481d</td>\n      <td>FRAX</td>\n      <td>18</td>\n      <td>gOHM</td>\n      <td>18</td>\n      <td>2022-12-05 01:59:11</td>\n      <td>2.666845</td>\n    </tr>\n    <tr>\n      <th>999</th>\n      <td>0xab8d4475df0a60afeac7d97c4c028a9cefc4e2bec848...</td>\n      <td>borrowAsset</td>\n      <td>0</td>\n      <td>1670195579</td>\n      <td>16114646</td>\n      <td>Frax</td>\n      <td>0x0561a78021d8966ddd20c28c6c4318d8675ee1f0</td>\n      <td>FRAX</td>\n      <td>18</td>\n      <td>gOHM</td>\n      <td>18</td>\n      <td>2022-12-04 23:12:59</td>\n      <td>0.000000</td>\n    </tr>\n  </tbody>\n</table>\n<p>2000 rows × 13 columns</p>\n</div>"
     },
     "execution_count": 982,
     "metadata": {},
     "output_type": "execute_result"
    }
   ],
   "source": [
    "actionsDb['transactionReadableAmount'] = actionsDb['actions_amount']/(10**(actionsDb['actions_pair_asset_decimals']))\n",
    "actionsDb['transactionReadableAmount']=actionsDb['transactionReadableAmount'].astype('float')\n",
    "actionsDb.head(2000)"
   ],
   "metadata": {
    "collapsed": false
   }
  },
  {
   "cell_type": "code",
   "execution_count": 983,
   "outputs": [
    {
     "data": {
      "text/plain": "                                            actions_id   actions_type  \\\n0    0xa36fce829a2866df6030c9e52d02c538b7f1ca3ba28a...    borrowAsset   \n1    0xa36fce829a2866df6030c9e52d02c538b7f1ca3ba28a...  addCollateral   \n2    0x374e4347a5abad8ebf70cbb9fde86005a3bfbeaeee44...    borrowAsset   \n3    0x4c7cd0a0fe188a8049ac8c28269d52106804986dfb99...    borrowAsset   \n4    0x4c7cd0a0fe188a8049ac8c28269d52106804986dfb99...  addCollateral   \n..                                                 ...            ...   \n995  0x3ee4a9ec901ef2eca3503aaa33817f3c9a97a5726a4d...    borrowAsset   \n996  0xd0de210e6724178599f45fda0bd06d7fcac6e8d587f0...  addCollateral   \n997  0x39003c14500ed2c34fdc8b74fd67ce93b94f41c97808...    borrowAsset   \n998  0x39003c14500ed2c34fdc8b74fd67ce93b94f41c97808...  addCollateral   \n999  0xab8d4475df0a60afeac7d97c4c028a9cefc4e2bec848...    borrowAsset   \n\n              actions_amount  actions_timestamp  actions_block  \\\n0                          0         1676866727       16667337   \n1        7006979439076347667         1676866727       16667337   \n2    10000000000000000000000         1676865431       16667229   \n3                          0         1676856395       16666484   \n4        6480000000000000000         1676856395       16666484   \n..                       ...                ...            ...   \n995   3933309226525890551441         1670209907       16115831   \n996     20008057754316253453         1670209835       16115825   \n997   2000000000000000000000         1670205551       16115472   \n998      2666844721390373735         1670205551       16115472   \n999                        0         1670195579       16114646   \n\n    actions_token_name                        actions_root_address  \\\n0                 Frax  0xc0e0de939f26e71683452467942aff455ca153e3   \n1       Governance OHM  0xc0e0de939f26e71683452467942aff455ca153e3   \n2                 Frax  0xc0e0de939f26e71683452467942aff455ca153e3   \n3                 Frax  0xc0e0de939f26e71683452467942aff455ca153e3   \n4       Governance OHM  0xc0e0de939f26e71683452467942aff455ca153e3   \n..                 ...                                         ...   \n995               Frax  0x313899a86cf680f12112758aa09daf0fc75510d6   \n996     Governance OHM  0x313899a86cf680f12112758aa09daf0fc75510d6   \n997               Frax  0x51a0a3849f1cc8822c2cbca4e0ce9ee0ba8e481d   \n998     Governance OHM  0x51a0a3849f1cc8822c2cbca4e0ce9ee0ba8e481d   \n999               Frax  0x0561a78021d8966ddd20c28c6c4318d8675ee1f0   \n\n    actions_pair_asset_symbol  actions_pair_asset_decimals  \\\n0                        FRAX                           18   \n1                        FRAX                           18   \n2                        FRAX                           18   \n3                        FRAX                           18   \n4                        FRAX                           18   \n..                        ...                          ...   \n995                      FRAX                           18   \n996                      FRAX                           18   \n997                      FRAX                           18   \n998                      FRAX                           18   \n999                      FRAX                           18   \n\n    actions_pair_collateral_symbol  actions_pair_collateral_decimals  \\\n0                             gOHM                                18   \n1                             gOHM                                18   \n2                             gOHM                                18   \n3                             gOHM                                18   \n4                             gOHM                                18   \n..                             ...                               ...   \n995                           gOHM                                18   \n996                           gOHM                                18   \n997                           gOHM                                18   \n998                           gOHM                                18   \n999                           gOHM                                18   \n\n               DateTime  transactionReadableAmount  \n0   2023-02-20 04:18:47                   0.000000  \n1   2023-02-20 04:18:47                   7.006979  \n2   2023-02-20 03:57:11               10000.000000  \n3   2023-02-20 01:26:35                   0.000000  \n4   2023-02-20 01:26:35                   6.480000  \n..                  ...                        ...  \n995 2022-12-05 03:11:47                3933.309227  \n996 2022-12-05 03:10:35                  20.008058  \n997 2022-12-05 01:59:11                2000.000000  \n998 2022-12-05 01:59:11                   2.666845  \n999 2022-12-04 23:12:59                   0.000000  \n\n[1000 rows x 13 columns]",
      "text/html": "<div>\n<style scoped>\n    .dataframe tbody tr th:only-of-type {\n        vertical-align: middle;\n    }\n\n    .dataframe tbody tr th {\n        vertical-align: top;\n    }\n\n    .dataframe thead th {\n        text-align: right;\n    }\n</style>\n<table border=\"1\" class=\"dataframe\">\n  <thead>\n    <tr style=\"text-align: right;\">\n      <th></th>\n      <th>actions_id</th>\n      <th>actions_type</th>\n      <th>actions_amount</th>\n      <th>actions_timestamp</th>\n      <th>actions_block</th>\n      <th>actions_token_name</th>\n      <th>actions_root_address</th>\n      <th>actions_pair_asset_symbol</th>\n      <th>actions_pair_asset_decimals</th>\n      <th>actions_pair_collateral_symbol</th>\n      <th>actions_pair_collateral_decimals</th>\n      <th>DateTime</th>\n      <th>transactionReadableAmount</th>\n    </tr>\n  </thead>\n  <tbody>\n    <tr>\n      <th>0</th>\n      <td>0xa36fce829a2866df6030c9e52d02c538b7f1ca3ba28a...</td>\n      <td>borrowAsset</td>\n      <td>0</td>\n      <td>1676866727</td>\n      <td>16667337</td>\n      <td>Frax</td>\n      <td>0xc0e0de939f26e71683452467942aff455ca153e3</td>\n      <td>FRAX</td>\n      <td>18</td>\n      <td>gOHM</td>\n      <td>18</td>\n      <td>2023-02-20 04:18:47</td>\n      <td>0.000000</td>\n    </tr>\n    <tr>\n      <th>1</th>\n      <td>0xa36fce829a2866df6030c9e52d02c538b7f1ca3ba28a...</td>\n      <td>addCollateral</td>\n      <td>7006979439076347667</td>\n      <td>1676866727</td>\n      <td>16667337</td>\n      <td>Governance OHM</td>\n      <td>0xc0e0de939f26e71683452467942aff455ca153e3</td>\n      <td>FRAX</td>\n      <td>18</td>\n      <td>gOHM</td>\n      <td>18</td>\n      <td>2023-02-20 04:18:47</td>\n      <td>7.006979</td>\n    </tr>\n    <tr>\n      <th>2</th>\n      <td>0x374e4347a5abad8ebf70cbb9fde86005a3bfbeaeee44...</td>\n      <td>borrowAsset</td>\n      <td>10000000000000000000000</td>\n      <td>1676865431</td>\n      <td>16667229</td>\n      <td>Frax</td>\n      <td>0xc0e0de939f26e71683452467942aff455ca153e3</td>\n      <td>FRAX</td>\n      <td>18</td>\n      <td>gOHM</td>\n      <td>18</td>\n      <td>2023-02-20 03:57:11</td>\n      <td>10000.000000</td>\n    </tr>\n    <tr>\n      <th>3</th>\n      <td>0x4c7cd0a0fe188a8049ac8c28269d52106804986dfb99...</td>\n      <td>borrowAsset</td>\n      <td>0</td>\n      <td>1676856395</td>\n      <td>16666484</td>\n      <td>Frax</td>\n      <td>0xc0e0de939f26e71683452467942aff455ca153e3</td>\n      <td>FRAX</td>\n      <td>18</td>\n      <td>gOHM</td>\n      <td>18</td>\n      <td>2023-02-20 01:26:35</td>\n      <td>0.000000</td>\n    </tr>\n    <tr>\n      <th>4</th>\n      <td>0x4c7cd0a0fe188a8049ac8c28269d52106804986dfb99...</td>\n      <td>addCollateral</td>\n      <td>6480000000000000000</td>\n      <td>1676856395</td>\n      <td>16666484</td>\n      <td>Governance OHM</td>\n      <td>0xc0e0de939f26e71683452467942aff455ca153e3</td>\n      <td>FRAX</td>\n      <td>18</td>\n      <td>gOHM</td>\n      <td>18</td>\n      <td>2023-02-20 01:26:35</td>\n      <td>6.480000</td>\n    </tr>\n    <tr>\n      <th>...</th>\n      <td>...</td>\n      <td>...</td>\n      <td>...</td>\n      <td>...</td>\n      <td>...</td>\n      <td>...</td>\n      <td>...</td>\n      <td>...</td>\n      <td>...</td>\n      <td>...</td>\n      <td>...</td>\n      <td>...</td>\n      <td>...</td>\n    </tr>\n    <tr>\n      <th>995</th>\n      <td>0x3ee4a9ec901ef2eca3503aaa33817f3c9a97a5726a4d...</td>\n      <td>borrowAsset</td>\n      <td>3933309226525890551441</td>\n      <td>1670209907</td>\n      <td>16115831</td>\n      <td>Frax</td>\n      <td>0x313899a86cf680f12112758aa09daf0fc75510d6</td>\n      <td>FRAX</td>\n      <td>18</td>\n      <td>gOHM</td>\n      <td>18</td>\n      <td>2022-12-05 03:11:47</td>\n      <td>3933.309227</td>\n    </tr>\n    <tr>\n      <th>996</th>\n      <td>0xd0de210e6724178599f45fda0bd06d7fcac6e8d587f0...</td>\n      <td>addCollateral</td>\n      <td>20008057754316253453</td>\n      <td>1670209835</td>\n      <td>16115825</td>\n      <td>Governance OHM</td>\n      <td>0x313899a86cf680f12112758aa09daf0fc75510d6</td>\n      <td>FRAX</td>\n      <td>18</td>\n      <td>gOHM</td>\n      <td>18</td>\n      <td>2022-12-05 03:10:35</td>\n      <td>20.008058</td>\n    </tr>\n    <tr>\n      <th>997</th>\n      <td>0x39003c14500ed2c34fdc8b74fd67ce93b94f41c97808...</td>\n      <td>borrowAsset</td>\n      <td>2000000000000000000000</td>\n      <td>1670205551</td>\n      <td>16115472</td>\n      <td>Frax</td>\n      <td>0x51a0a3849f1cc8822c2cbca4e0ce9ee0ba8e481d</td>\n      <td>FRAX</td>\n      <td>18</td>\n      <td>gOHM</td>\n      <td>18</td>\n      <td>2022-12-05 01:59:11</td>\n      <td>2000.000000</td>\n    </tr>\n    <tr>\n      <th>998</th>\n      <td>0x39003c14500ed2c34fdc8b74fd67ce93b94f41c97808...</td>\n      <td>addCollateral</td>\n      <td>2666844721390373735</td>\n      <td>1670205551</td>\n      <td>16115472</td>\n      <td>Governance OHM</td>\n      <td>0x51a0a3849f1cc8822c2cbca4e0ce9ee0ba8e481d</td>\n      <td>FRAX</td>\n      <td>18</td>\n      <td>gOHM</td>\n      <td>18</td>\n      <td>2022-12-05 01:59:11</td>\n      <td>2.666845</td>\n    </tr>\n    <tr>\n      <th>999</th>\n      <td>0xab8d4475df0a60afeac7d97c4c028a9cefc4e2bec848...</td>\n      <td>borrowAsset</td>\n      <td>0</td>\n      <td>1670195579</td>\n      <td>16114646</td>\n      <td>Frax</td>\n      <td>0x0561a78021d8966ddd20c28c6c4318d8675ee1f0</td>\n      <td>FRAX</td>\n      <td>18</td>\n      <td>gOHM</td>\n      <td>18</td>\n      <td>2022-12-04 23:12:59</td>\n      <td>0.000000</td>\n    </tr>\n  </tbody>\n</table>\n<p>1000 rows × 13 columns</p>\n</div>"
     },
     "execution_count": 983,
     "metadata": {},
     "output_type": "execute_result"
    }
   ],
   "source": [
    "fraxActionsDb= pd.DataFrame()\n",
    "fraxActionsDbTimed =pd.concat([actionsDb, oldFraxActions])\n",
    "fraxActionsDbTimed.head(1000)"
   ],
   "metadata": {
    "collapsed": false
   }
  },
  {
   "cell_type": "code",
   "execution_count": 984,
   "outputs": [
    {
     "name": "stdout",
     "output_type": "stream",
     "text": [
      "D:\\Dropbox\\Documents\\Edgecaser LLC\\Projects\\Olympus\\Econohmetrics\\gohmAsStablecoinCollateral/data/frax_borrows_piped.csv file saved, 484000  records at 2023-02-19 22:36:48.028935\n"
     ]
    }
   ],
   "source": [
    "fraxActionsDbTimedLength = len(fraxActionsDbTimed)\n",
    "path =file+'/frax_borrows.csv'\n",
    "fraxActionsDbTimed.to_csv(path, index = False)\n",
    "\n",
    "path =file+'/frax_borrows_piped.csv'\n",
    "fraxActionsDbTimed.to_csv(path, index = False, sep='|')\n",
    "\n",
    "print(path, 'file saved,', fraxActionsDbTimedLength,' records at', (dt.datetime.now()) )\n"
   ],
   "metadata": {
    "collapsed": false
   }
  },
  {
   "cell_type": "code",
   "execution_count": 985,
   "outputs": [
    {
     "data": {
      "text/plain": "                                          actions_id   actions_type  \\\n0  0xa36fce829a2866df6030c9e52d02c538b7f1ca3ba28a...    borrowAsset   \n1  0xa36fce829a2866df6030c9e52d02c538b7f1ca3ba28a...  addCollateral   \n2  0x374e4347a5abad8ebf70cbb9fde86005a3bfbeaeee44...    borrowAsset   \n3  0x4c7cd0a0fe188a8049ac8c28269d52106804986dfb99...    borrowAsset   \n4  0x4c7cd0a0fe188a8049ac8c28269d52106804986dfb99...  addCollateral   \n5  0xbea1383c97aff27bcf1cbe8f19ba3938e16a0f04b45f...    borrowAsset   \n6  0xbea1383c97aff27bcf1cbe8f19ba3938e16a0f04b45f...  addCollateral   \n7  0x15f93b52199fd785e5e2423777b99e80b93b5ac0ea6f...    borrowAsset   \n8  0x634c74994952e29a5c2a5cc59251aece8937130cdd40...    borrowAsset   \n9  0x0ae9fafdbef4514be9b8310a7ee390fdd6151f6cba75...    borrowAsset   \n\n            actions_amount  actions_timestamp  actions_block  \\\n0                        0         1676866727       16667337   \n1      7006979439076347667         1676866727       16667337   \n2  10000000000000000000000         1676865431       16667229   \n3                        0         1676856395       16666484   \n4      6480000000000000000         1676856395       16666484   \n5  40000000000000000000000         1676837783       16664949   \n6     20000000000000000000         1676837783       16664949   \n7    400000000000000000000         1676823143       16663746   \n8  10000000000000000000000         1676816711       16663213   \n9  10000000000000000000000         1676814035       16662993   \n\n  actions_token_name                        actions_root_address  \\\n0               Frax  0xc0e0de939f26e71683452467942aff455ca153e3   \n1     Governance OHM  0xc0e0de939f26e71683452467942aff455ca153e3   \n2               Frax  0xc0e0de939f26e71683452467942aff455ca153e3   \n3               Frax  0xc0e0de939f26e71683452467942aff455ca153e3   \n4     Governance OHM  0xc0e0de939f26e71683452467942aff455ca153e3   \n5               Frax  0x343ee80f82440a498e48ae186e066809750a055b   \n6     Governance OHM  0x343ee80f82440a498e48ae186e066809750a055b   \n7               Frax  0x4731223a7b5ac0c425f1f35d0bdf6d340a93a181   \n8               Frax  0xc0e0de939f26e71683452467942aff455ca153e3   \n9               Frax  0xc0e0de939f26e71683452467942aff455ca153e3   \n\n  actions_pair_asset_symbol  actions_pair_asset_decimals  \\\n0                      FRAX                           18   \n1                      FRAX                           18   \n2                      FRAX                           18   \n3                      FRAX                           18   \n4                      FRAX                           18   \n5                      FRAX                           18   \n6                      FRAX                           18   \n7                      FRAX                           18   \n8                      FRAX                           18   \n9                      FRAX                           18   \n\n  actions_pair_collateral_symbol  actions_pair_collateral_decimals  \\\n0                           gOHM                                18   \n1                           gOHM                                18   \n2                           gOHM                                18   \n3                           gOHM                                18   \n4                           gOHM                                18   \n5                           gOHM                                18   \n6                           gOHM                                18   \n7                           gOHM                                18   \n8                           gOHM                                18   \n9                           gOHM                                18   \n\n             DateTime  transactionReadableAmount  \n0 2023-02-20 04:18:47                   0.000000  \n1 2023-02-20 04:18:47                   7.006979  \n2 2023-02-20 03:57:11               10000.000000  \n3 2023-02-20 01:26:35                   0.000000  \n4 2023-02-20 01:26:35                   6.480000  \n5 2023-02-19 20:16:23               40000.000000  \n6 2023-02-19 20:16:23                  20.000000  \n7 2023-02-19 16:12:23                 400.000000  \n8 2023-02-19 14:25:11               10000.000000  \n9 2023-02-19 13:40:35               10000.000000  ",
      "text/html": "<div>\n<style scoped>\n    .dataframe tbody tr th:only-of-type {\n        vertical-align: middle;\n    }\n\n    .dataframe tbody tr th {\n        vertical-align: top;\n    }\n\n    .dataframe thead th {\n        text-align: right;\n    }\n</style>\n<table border=\"1\" class=\"dataframe\">\n  <thead>\n    <tr style=\"text-align: right;\">\n      <th></th>\n      <th>actions_id</th>\n      <th>actions_type</th>\n      <th>actions_amount</th>\n      <th>actions_timestamp</th>\n      <th>actions_block</th>\n      <th>actions_token_name</th>\n      <th>actions_root_address</th>\n      <th>actions_pair_asset_symbol</th>\n      <th>actions_pair_asset_decimals</th>\n      <th>actions_pair_collateral_symbol</th>\n      <th>actions_pair_collateral_decimals</th>\n      <th>DateTime</th>\n      <th>transactionReadableAmount</th>\n    </tr>\n  </thead>\n  <tbody>\n    <tr>\n      <th>0</th>\n      <td>0xa36fce829a2866df6030c9e52d02c538b7f1ca3ba28a...</td>\n      <td>borrowAsset</td>\n      <td>0</td>\n      <td>1676866727</td>\n      <td>16667337</td>\n      <td>Frax</td>\n      <td>0xc0e0de939f26e71683452467942aff455ca153e3</td>\n      <td>FRAX</td>\n      <td>18</td>\n      <td>gOHM</td>\n      <td>18</td>\n      <td>2023-02-20 04:18:47</td>\n      <td>0.000000</td>\n    </tr>\n    <tr>\n      <th>1</th>\n      <td>0xa36fce829a2866df6030c9e52d02c538b7f1ca3ba28a...</td>\n      <td>addCollateral</td>\n      <td>7006979439076347667</td>\n      <td>1676866727</td>\n      <td>16667337</td>\n      <td>Governance OHM</td>\n      <td>0xc0e0de939f26e71683452467942aff455ca153e3</td>\n      <td>FRAX</td>\n      <td>18</td>\n      <td>gOHM</td>\n      <td>18</td>\n      <td>2023-02-20 04:18:47</td>\n      <td>7.006979</td>\n    </tr>\n    <tr>\n      <th>2</th>\n      <td>0x374e4347a5abad8ebf70cbb9fde86005a3bfbeaeee44...</td>\n      <td>borrowAsset</td>\n      <td>10000000000000000000000</td>\n      <td>1676865431</td>\n      <td>16667229</td>\n      <td>Frax</td>\n      <td>0xc0e0de939f26e71683452467942aff455ca153e3</td>\n      <td>FRAX</td>\n      <td>18</td>\n      <td>gOHM</td>\n      <td>18</td>\n      <td>2023-02-20 03:57:11</td>\n      <td>10000.000000</td>\n    </tr>\n    <tr>\n      <th>3</th>\n      <td>0x4c7cd0a0fe188a8049ac8c28269d52106804986dfb99...</td>\n      <td>borrowAsset</td>\n      <td>0</td>\n      <td>1676856395</td>\n      <td>16666484</td>\n      <td>Frax</td>\n      <td>0xc0e0de939f26e71683452467942aff455ca153e3</td>\n      <td>FRAX</td>\n      <td>18</td>\n      <td>gOHM</td>\n      <td>18</td>\n      <td>2023-02-20 01:26:35</td>\n      <td>0.000000</td>\n    </tr>\n    <tr>\n      <th>4</th>\n      <td>0x4c7cd0a0fe188a8049ac8c28269d52106804986dfb99...</td>\n      <td>addCollateral</td>\n      <td>6480000000000000000</td>\n      <td>1676856395</td>\n      <td>16666484</td>\n      <td>Governance OHM</td>\n      <td>0xc0e0de939f26e71683452467942aff455ca153e3</td>\n      <td>FRAX</td>\n      <td>18</td>\n      <td>gOHM</td>\n      <td>18</td>\n      <td>2023-02-20 01:26:35</td>\n      <td>6.480000</td>\n    </tr>\n    <tr>\n      <th>5</th>\n      <td>0xbea1383c97aff27bcf1cbe8f19ba3938e16a0f04b45f...</td>\n      <td>borrowAsset</td>\n      <td>40000000000000000000000</td>\n      <td>1676837783</td>\n      <td>16664949</td>\n      <td>Frax</td>\n      <td>0x343ee80f82440a498e48ae186e066809750a055b</td>\n      <td>FRAX</td>\n      <td>18</td>\n      <td>gOHM</td>\n      <td>18</td>\n      <td>2023-02-19 20:16:23</td>\n      <td>40000.000000</td>\n    </tr>\n    <tr>\n      <th>6</th>\n      <td>0xbea1383c97aff27bcf1cbe8f19ba3938e16a0f04b45f...</td>\n      <td>addCollateral</td>\n      <td>20000000000000000000</td>\n      <td>1676837783</td>\n      <td>16664949</td>\n      <td>Governance OHM</td>\n      <td>0x343ee80f82440a498e48ae186e066809750a055b</td>\n      <td>FRAX</td>\n      <td>18</td>\n      <td>gOHM</td>\n      <td>18</td>\n      <td>2023-02-19 20:16:23</td>\n      <td>20.000000</td>\n    </tr>\n    <tr>\n      <th>7</th>\n      <td>0x15f93b52199fd785e5e2423777b99e80b93b5ac0ea6f...</td>\n      <td>borrowAsset</td>\n      <td>400000000000000000000</td>\n      <td>1676823143</td>\n      <td>16663746</td>\n      <td>Frax</td>\n      <td>0x4731223a7b5ac0c425f1f35d0bdf6d340a93a181</td>\n      <td>FRAX</td>\n      <td>18</td>\n      <td>gOHM</td>\n      <td>18</td>\n      <td>2023-02-19 16:12:23</td>\n      <td>400.000000</td>\n    </tr>\n    <tr>\n      <th>8</th>\n      <td>0x634c74994952e29a5c2a5cc59251aece8937130cdd40...</td>\n      <td>borrowAsset</td>\n      <td>10000000000000000000000</td>\n      <td>1676816711</td>\n      <td>16663213</td>\n      <td>Frax</td>\n      <td>0xc0e0de939f26e71683452467942aff455ca153e3</td>\n      <td>FRAX</td>\n      <td>18</td>\n      <td>gOHM</td>\n      <td>18</td>\n      <td>2023-02-19 14:25:11</td>\n      <td>10000.000000</td>\n    </tr>\n    <tr>\n      <th>9</th>\n      <td>0x0ae9fafdbef4514be9b8310a7ee390fdd6151f6cba75...</td>\n      <td>borrowAsset</td>\n      <td>10000000000000000000000</td>\n      <td>1676814035</td>\n      <td>16662993</td>\n      <td>Frax</td>\n      <td>0xc0e0de939f26e71683452467942aff455ca153e3</td>\n      <td>FRAX</td>\n      <td>18</td>\n      <td>gOHM</td>\n      <td>18</td>\n      <td>2023-02-19 13:40:35</td>\n      <td>10000.000000</td>\n    </tr>\n  </tbody>\n</table>\n</div>"
     },
     "execution_count": 985,
     "metadata": {},
     "output_type": "execute_result"
    }
   ],
   "source": [
    "fraxActionsDbTimed.head(10)"
   ],
   "metadata": {
    "collapsed": false
   }
  },
  {
   "cell_type": "code",
   "execution_count": 986,
   "outputs": [],
   "source": [
    "#we might as well create all the DBs here and save ourselves time and grief\n",
    "fraxBorrowsDbTimed = pd.DataFrame()\n",
    "fraxBorrowsDbTimed = db.query(\"Select distinct * from fraxActionsDbTimed where actions_type = 'borrowAsset' and actions_pair_collateral_symbol= 'gOHM' and right(actions_id,2)<>'+1' \").df()\n",
    "\n",
    "fraxDepositsDbTimed = pd.DataFrame()\n",
    "fraxDepositsDbTimed =fraxBorrows = db.query(\"Select distinct * from fraxActionsDbTimed where actions_type = 'addCollateral' and actions_pair_collateral_symbol= 'gOHM' and right(actions_id,2)<>'+1' \").df()\n",
    "\n",
    "fraxWithdrawsDbTimed = pd.DataFrame()\n",
    "fraxWithdrawsDbTimed = db.query(\"Select distinct * from fraxActionsDbTimed where actions_type = 'removeCollateral' and actions_pair_collateral_symbol= 'gOHM' and right(actions_id,2)<>'+1' \").df()"
   ],
   "metadata": {
    "collapsed": false
   }
  },
  {
   "cell_type": "code",
   "execution_count": 987,
   "outputs": [
    {
     "data": {
      "text/plain": "                                            actions_id actions_type  \\\n0    0x08cef0dcfa82fb386ec9948dadfaa9dba0da206c6523...  borrowAsset   \n1    0x52a22509d8397aec4b08a262c8e50ce0e9e810cc1981...  borrowAsset   \n2    0x70031de3f701a9ac2d57f53fc400f51a6918cc09a037...  borrowAsset   \n3    0x91ce97ab7feb2244dbbcc49a2bc94e8859c767eba7eb...  borrowAsset   \n4    0x0622d462adf7b5db61999e4818580e948de56acee446...  borrowAsset   \n..                                                 ...          ...   \n155  0x0edabc0905821baa5a53ed0e16332855fbe79f1c808a...  borrowAsset   \n156  0x95ed0727a1e51bd46de1de35e2f12d794626d06ed8b8...  borrowAsset   \n157  0xf5e230c42166dac905d32b786935b4941a3c6036cc31...  borrowAsset   \n158  0xf56f494836f8ed5a0d135c33af6c3316582c39ab5c1a...  borrowAsset   \n159  0xc32743b8795920bd4ae22d7d010c8e39f995f9255c84...  borrowAsset   \n\n              actions_amount  actions_timestamp  actions_block  \\\n0    60000000000000000000000         1671302279       16206258   \n1    10000000000000000000000         1671284591       16204790   \n2    12400000000000000000000         1671223127       16199693   \n3    15000000000000000000000         1671213215       16198877   \n4    20000000000000000000000         1671212627       16198828   \n..                       ...                ...            ...   \n155   2434316720914051302073         1672358843       16293894   \n156   7000000000000000000000         1672209647       16281520   \n157   5000000000000000000000         1672058315       16268978   \n158   2500000000000000000000         1671987815       16263129   \n159  50000000000000000000000         1671395663       16213997   \n\n    actions_token_name                        actions_root_address  \\\n0                 Frax  0x68492881985afd26b04dcc4963ca5128ccd3dd9d   \n1                 Frax  0x0561a78021d8966ddd20c28c6c4318d8675ee1f0   \n2                 Frax  0x0561a78021d8966ddd20c28c6c4318d8675ee1f0   \n3                 Frax  0x0561a78021d8966ddd20c28c6c4318d8675ee1f0   \n4                 Frax  0x0561a78021d8966ddd20c28c6c4318d8675ee1f0   \n..                 ...                                         ...   \n155               Frax  0x5eef7b9b64220489d3c3e8843490f07e9d9efe91   \n156               Frax  0x6487d336bdec94d4714a4d217b15aa5c7b9dfa99   \n157               Frax  0xc0e0de939f26e71683452467942aff455ca153e3   \n158               Frax  0xc0e0de939f26e71683452467942aff455ca153e3   \n159               Frax  0xffbd7b73e7b9e84e719f08082de6f3a39a12b862   \n\n    actions_pair_asset_symbol  actions_pair_asset_decimals  \\\n0                        FRAX                           18   \n1                        FRAX                           18   \n2                        FRAX                           18   \n3                        FRAX                           18   \n4                        FRAX                           18   \n..                        ...                          ...   \n155                      FRAX                           18   \n156                      FRAX                           18   \n157                      FRAX                           18   \n158                      FRAX                           18   \n159                      FRAX                           18   \n\n    actions_pair_collateral_symbol  actions_pair_collateral_decimals  \\\n0                             gOHM                                18   \n1                             gOHM                                18   \n2                             gOHM                                18   \n3                             gOHM                                18   \n4                             gOHM                                18   \n..                             ...                               ...   \n155                           gOHM                                18   \n156                           gOHM                                18   \n157                           gOHM                                18   \n158                           gOHM                                18   \n159                           gOHM                                18   \n\n               DateTime  transactionReadableAmount  \n0   2022-12-17 18:37:59               60000.000000  \n1   2022-12-17 13:43:11               10000.000000  \n2   2022-12-16 20:38:47               12400.000000  \n3   2022-12-16 17:53:35               15000.000000  \n4   2022-12-16 17:43:47               20000.000000  \n..                  ...                        ...  \n155 2022-12-30 00:07:23                2434.316721  \n156 2022-12-28 06:40:47                7000.000000  \n157 2022-12-26 12:38:35                5000.000000  \n158 2022-12-25 17:03:35                2500.000000  \n159 2022-12-18 20:34:23               50000.000000  \n\n[160 rows x 13 columns]",
      "text/html": "<div>\n<style scoped>\n    .dataframe tbody tr th:only-of-type {\n        vertical-align: middle;\n    }\n\n    .dataframe tbody tr th {\n        vertical-align: top;\n    }\n\n    .dataframe thead th {\n        text-align: right;\n    }\n</style>\n<table border=\"1\" class=\"dataframe\">\n  <thead>\n    <tr style=\"text-align: right;\">\n      <th></th>\n      <th>actions_id</th>\n      <th>actions_type</th>\n      <th>actions_amount</th>\n      <th>actions_timestamp</th>\n      <th>actions_block</th>\n      <th>actions_token_name</th>\n      <th>actions_root_address</th>\n      <th>actions_pair_asset_symbol</th>\n      <th>actions_pair_asset_decimals</th>\n      <th>actions_pair_collateral_symbol</th>\n      <th>actions_pair_collateral_decimals</th>\n      <th>DateTime</th>\n      <th>transactionReadableAmount</th>\n    </tr>\n  </thead>\n  <tbody>\n    <tr>\n      <th>0</th>\n      <td>0x08cef0dcfa82fb386ec9948dadfaa9dba0da206c6523...</td>\n      <td>borrowAsset</td>\n      <td>60000000000000000000000</td>\n      <td>1671302279</td>\n      <td>16206258</td>\n      <td>Frax</td>\n      <td>0x68492881985afd26b04dcc4963ca5128ccd3dd9d</td>\n      <td>FRAX</td>\n      <td>18</td>\n      <td>gOHM</td>\n      <td>18</td>\n      <td>2022-12-17 18:37:59</td>\n      <td>60000.000000</td>\n    </tr>\n    <tr>\n      <th>1</th>\n      <td>0x52a22509d8397aec4b08a262c8e50ce0e9e810cc1981...</td>\n      <td>borrowAsset</td>\n      <td>10000000000000000000000</td>\n      <td>1671284591</td>\n      <td>16204790</td>\n      <td>Frax</td>\n      <td>0x0561a78021d8966ddd20c28c6c4318d8675ee1f0</td>\n      <td>FRAX</td>\n      <td>18</td>\n      <td>gOHM</td>\n      <td>18</td>\n      <td>2022-12-17 13:43:11</td>\n      <td>10000.000000</td>\n    </tr>\n    <tr>\n      <th>2</th>\n      <td>0x70031de3f701a9ac2d57f53fc400f51a6918cc09a037...</td>\n      <td>borrowAsset</td>\n      <td>12400000000000000000000</td>\n      <td>1671223127</td>\n      <td>16199693</td>\n      <td>Frax</td>\n      <td>0x0561a78021d8966ddd20c28c6c4318d8675ee1f0</td>\n      <td>FRAX</td>\n      <td>18</td>\n      <td>gOHM</td>\n      <td>18</td>\n      <td>2022-12-16 20:38:47</td>\n      <td>12400.000000</td>\n    </tr>\n    <tr>\n      <th>3</th>\n      <td>0x91ce97ab7feb2244dbbcc49a2bc94e8859c767eba7eb...</td>\n      <td>borrowAsset</td>\n      <td>15000000000000000000000</td>\n      <td>1671213215</td>\n      <td>16198877</td>\n      <td>Frax</td>\n      <td>0x0561a78021d8966ddd20c28c6c4318d8675ee1f0</td>\n      <td>FRAX</td>\n      <td>18</td>\n      <td>gOHM</td>\n      <td>18</td>\n      <td>2022-12-16 17:53:35</td>\n      <td>15000.000000</td>\n    </tr>\n    <tr>\n      <th>4</th>\n      <td>0x0622d462adf7b5db61999e4818580e948de56acee446...</td>\n      <td>borrowAsset</td>\n      <td>20000000000000000000000</td>\n      <td>1671212627</td>\n      <td>16198828</td>\n      <td>Frax</td>\n      <td>0x0561a78021d8966ddd20c28c6c4318d8675ee1f0</td>\n      <td>FRAX</td>\n      <td>18</td>\n      <td>gOHM</td>\n      <td>18</td>\n      <td>2022-12-16 17:43:47</td>\n      <td>20000.000000</td>\n    </tr>\n    <tr>\n      <th>...</th>\n      <td>...</td>\n      <td>...</td>\n      <td>...</td>\n      <td>...</td>\n      <td>...</td>\n      <td>...</td>\n      <td>...</td>\n      <td>...</td>\n      <td>...</td>\n      <td>...</td>\n      <td>...</td>\n      <td>...</td>\n      <td>...</td>\n    </tr>\n    <tr>\n      <th>155</th>\n      <td>0x0edabc0905821baa5a53ed0e16332855fbe79f1c808a...</td>\n      <td>borrowAsset</td>\n      <td>2434316720914051302073</td>\n      <td>1672358843</td>\n      <td>16293894</td>\n      <td>Frax</td>\n      <td>0x5eef7b9b64220489d3c3e8843490f07e9d9efe91</td>\n      <td>FRAX</td>\n      <td>18</td>\n      <td>gOHM</td>\n      <td>18</td>\n      <td>2022-12-30 00:07:23</td>\n      <td>2434.316721</td>\n    </tr>\n    <tr>\n      <th>156</th>\n      <td>0x95ed0727a1e51bd46de1de35e2f12d794626d06ed8b8...</td>\n      <td>borrowAsset</td>\n      <td>7000000000000000000000</td>\n      <td>1672209647</td>\n      <td>16281520</td>\n      <td>Frax</td>\n      <td>0x6487d336bdec94d4714a4d217b15aa5c7b9dfa99</td>\n      <td>FRAX</td>\n      <td>18</td>\n      <td>gOHM</td>\n      <td>18</td>\n      <td>2022-12-28 06:40:47</td>\n      <td>7000.000000</td>\n    </tr>\n    <tr>\n      <th>157</th>\n      <td>0xf5e230c42166dac905d32b786935b4941a3c6036cc31...</td>\n      <td>borrowAsset</td>\n      <td>5000000000000000000000</td>\n      <td>1672058315</td>\n      <td>16268978</td>\n      <td>Frax</td>\n      <td>0xc0e0de939f26e71683452467942aff455ca153e3</td>\n      <td>FRAX</td>\n      <td>18</td>\n      <td>gOHM</td>\n      <td>18</td>\n      <td>2022-12-26 12:38:35</td>\n      <td>5000.000000</td>\n    </tr>\n    <tr>\n      <th>158</th>\n      <td>0xf56f494836f8ed5a0d135c33af6c3316582c39ab5c1a...</td>\n      <td>borrowAsset</td>\n      <td>2500000000000000000000</td>\n      <td>1671987815</td>\n      <td>16263129</td>\n      <td>Frax</td>\n      <td>0xc0e0de939f26e71683452467942aff455ca153e3</td>\n      <td>FRAX</td>\n      <td>18</td>\n      <td>gOHM</td>\n      <td>18</td>\n      <td>2022-12-25 17:03:35</td>\n      <td>2500.000000</td>\n    </tr>\n    <tr>\n      <th>159</th>\n      <td>0xc32743b8795920bd4ae22d7d010c8e39f995f9255c84...</td>\n      <td>borrowAsset</td>\n      <td>50000000000000000000000</td>\n      <td>1671395663</td>\n      <td>16213997</td>\n      <td>Frax</td>\n      <td>0xffbd7b73e7b9e84e719f08082de6f3a39a12b862</td>\n      <td>FRAX</td>\n      <td>18</td>\n      <td>gOHM</td>\n      <td>18</td>\n      <td>2022-12-18 20:34:23</td>\n      <td>50000.000000</td>\n    </tr>\n  </tbody>\n</table>\n<p>160 rows × 13 columns</p>\n</div>"
     },
     "execution_count": 987,
     "metadata": {},
     "output_type": "execute_result"
    }
   ],
   "source": [
    "fraxBorrowsDbTimed.head(1000)"
   ],
   "metadata": {
    "collapsed": false
   }
  },
  {
   "cell_type": "code",
   "execution_count": 988,
   "outputs": [
    {
     "data": {
      "text/plain": "                                            actions_id   actions_type  \\\n0    0x2c0b67c5bac1a60d50eb090a8b6508241600a01960ff...  addCollateral   \n1    0x89f288af5dbb01b2606695b10043efcca7250ffa4f27...  addCollateral   \n2    0x6426c8eaa10b310af812579129a15f523e5728b3b3b6...  addCollateral   \n3    0xfe699cd2ba2b23392813283cf1d50c43db9ed094dedc...  addCollateral   \n4    0x746ec0ab5c5b7dd3e0ae34cdfe5f4a0c668bfed1aec8...  addCollateral   \n..                                                 ...            ...   \n237  0xd08091a3b2a72a2c2e4d621643bea1941a92c6033ae2...  addCollateral   \n238  0x55ddc7798dfcc907498c2b034dc8a591b38880673bd9...  addCollateral   \n239  0xc8087afe3b449835b235da90386ebedc6999c1c55dfb...  addCollateral   \n240  0x8bef55b3495f6ebde0fb7bf110ef9dacd6c148687ebf...  addCollateral   \n241  0xbfc6b0a2b41eb17e1d2087a807a87418325880ca519f...  addCollateral   \n\n           actions_amount  actions_timestamp  actions_block  \\\n0    40000000000000000000         1671302171       16206249   \n1     4002731028708112016         1671285023       16204826   \n2     1050000000000000000         1671270203       16203596   \n3     4936656022539134425         1671223559       16199729   \n4     2000004944345133516         1671220619       16199487   \n..                    ...                ...            ...   \n237  65000000000000000000         1671974363       16262011   \n238  50000000000000000000         1671973295       16261922   \n239   3989650402168860011         1671373499       16212156   \n240   1309626013443408981         1674152663       16442620   \n241   1990385202650378284         1672105295       16272870   \n\n    actions_token_name                        actions_root_address  \\\n0       Governance OHM  0x68492881985afd26b04dcc4963ca5128ccd3dd9d   \n1       Governance OHM  0x0561a78021d8966ddd20c28c6c4318d8675ee1f0   \n2       Governance OHM  0x3ea0f98d3c7c9bdf3c15acec5a0f040ed81af494   \n3       Governance OHM  0x0561a78021d8966ddd20c28c6c4318d8675ee1f0   \n4       Governance OHM  0x0561a78021d8966ddd20c28c6c4318d8675ee1f0   \n..                 ...                                         ...   \n237     Governance OHM  0xc0e0de939f26e71683452467942aff455ca153e3   \n238     Governance OHM  0xc0e0de939f26e71683452467942aff455ca153e3   \n239     Governance OHM  0x0561a78021d8966ddd20c28c6c4318d8675ee1f0   \n240     Governance OHM  0x440c8ab91ba7c8763b3d9b3357dc1c0d13a148aa   \n241     Governance OHM  0xc0e0de939f26e71683452467942aff455ca153e3   \n\n    actions_pair_asset_symbol  actions_pair_asset_decimals  \\\n0                        FRAX                           18   \n1                        FRAX                           18   \n2                        FRAX                           18   \n3                        FRAX                           18   \n4                        FRAX                           18   \n..                        ...                          ...   \n237                      FRAX                           18   \n238                      FRAX                           18   \n239                      FRAX                           18   \n240                      FRAX                           18   \n241                      FRAX                           18   \n\n    actions_pair_collateral_symbol  actions_pair_collateral_decimals  \\\n0                             gOHM                                18   \n1                             gOHM                                18   \n2                             gOHM                                18   \n3                             gOHM                                18   \n4                             gOHM                                18   \n..                             ...                               ...   \n237                           gOHM                                18   \n238                           gOHM                                18   \n239                           gOHM                                18   \n240                           gOHM                                18   \n241                           gOHM                                18   \n\n               DateTime  transactionReadableAmount  \n0   2022-12-17 18:36:11                  40.000000  \n1   2022-12-17 13:50:23                   4.002731  \n2   2022-12-17 09:43:23                   1.050000  \n3   2022-12-16 20:45:59                   4.936656  \n4   2022-12-16 19:56:59                   2.000005  \n..                  ...                        ...  \n237 2022-12-25 13:19:23                  65.000000  \n238 2022-12-25 13:01:35                  50.000000  \n239 2022-12-18 14:24:59                   3.989650  \n240 2023-01-19 18:24:23                   1.309626  \n241 2022-12-27 01:41:35                   1.990385  \n\n[242 rows x 13 columns]",
      "text/html": "<div>\n<style scoped>\n    .dataframe tbody tr th:only-of-type {\n        vertical-align: middle;\n    }\n\n    .dataframe tbody tr th {\n        vertical-align: top;\n    }\n\n    .dataframe thead th {\n        text-align: right;\n    }\n</style>\n<table border=\"1\" class=\"dataframe\">\n  <thead>\n    <tr style=\"text-align: right;\">\n      <th></th>\n      <th>actions_id</th>\n      <th>actions_type</th>\n      <th>actions_amount</th>\n      <th>actions_timestamp</th>\n      <th>actions_block</th>\n      <th>actions_token_name</th>\n      <th>actions_root_address</th>\n      <th>actions_pair_asset_symbol</th>\n      <th>actions_pair_asset_decimals</th>\n      <th>actions_pair_collateral_symbol</th>\n      <th>actions_pair_collateral_decimals</th>\n      <th>DateTime</th>\n      <th>transactionReadableAmount</th>\n    </tr>\n  </thead>\n  <tbody>\n    <tr>\n      <th>0</th>\n      <td>0x2c0b67c5bac1a60d50eb090a8b6508241600a01960ff...</td>\n      <td>addCollateral</td>\n      <td>40000000000000000000</td>\n      <td>1671302171</td>\n      <td>16206249</td>\n      <td>Governance OHM</td>\n      <td>0x68492881985afd26b04dcc4963ca5128ccd3dd9d</td>\n      <td>FRAX</td>\n      <td>18</td>\n      <td>gOHM</td>\n      <td>18</td>\n      <td>2022-12-17 18:36:11</td>\n      <td>40.000000</td>\n    </tr>\n    <tr>\n      <th>1</th>\n      <td>0x89f288af5dbb01b2606695b10043efcca7250ffa4f27...</td>\n      <td>addCollateral</td>\n      <td>4002731028708112016</td>\n      <td>1671285023</td>\n      <td>16204826</td>\n      <td>Governance OHM</td>\n      <td>0x0561a78021d8966ddd20c28c6c4318d8675ee1f0</td>\n      <td>FRAX</td>\n      <td>18</td>\n      <td>gOHM</td>\n      <td>18</td>\n      <td>2022-12-17 13:50:23</td>\n      <td>4.002731</td>\n    </tr>\n    <tr>\n      <th>2</th>\n      <td>0x6426c8eaa10b310af812579129a15f523e5728b3b3b6...</td>\n      <td>addCollateral</td>\n      <td>1050000000000000000</td>\n      <td>1671270203</td>\n      <td>16203596</td>\n      <td>Governance OHM</td>\n      <td>0x3ea0f98d3c7c9bdf3c15acec5a0f040ed81af494</td>\n      <td>FRAX</td>\n      <td>18</td>\n      <td>gOHM</td>\n      <td>18</td>\n      <td>2022-12-17 09:43:23</td>\n      <td>1.050000</td>\n    </tr>\n    <tr>\n      <th>3</th>\n      <td>0xfe699cd2ba2b23392813283cf1d50c43db9ed094dedc...</td>\n      <td>addCollateral</td>\n      <td>4936656022539134425</td>\n      <td>1671223559</td>\n      <td>16199729</td>\n      <td>Governance OHM</td>\n      <td>0x0561a78021d8966ddd20c28c6c4318d8675ee1f0</td>\n      <td>FRAX</td>\n      <td>18</td>\n      <td>gOHM</td>\n      <td>18</td>\n      <td>2022-12-16 20:45:59</td>\n      <td>4.936656</td>\n    </tr>\n    <tr>\n      <th>4</th>\n      <td>0x746ec0ab5c5b7dd3e0ae34cdfe5f4a0c668bfed1aec8...</td>\n      <td>addCollateral</td>\n      <td>2000004944345133516</td>\n      <td>1671220619</td>\n      <td>16199487</td>\n      <td>Governance OHM</td>\n      <td>0x0561a78021d8966ddd20c28c6c4318d8675ee1f0</td>\n      <td>FRAX</td>\n      <td>18</td>\n      <td>gOHM</td>\n      <td>18</td>\n      <td>2022-12-16 19:56:59</td>\n      <td>2.000005</td>\n    </tr>\n    <tr>\n      <th>...</th>\n      <td>...</td>\n      <td>...</td>\n      <td>...</td>\n      <td>...</td>\n      <td>...</td>\n      <td>...</td>\n      <td>...</td>\n      <td>...</td>\n      <td>...</td>\n      <td>...</td>\n      <td>...</td>\n      <td>...</td>\n      <td>...</td>\n    </tr>\n    <tr>\n      <th>237</th>\n      <td>0xd08091a3b2a72a2c2e4d621643bea1941a92c6033ae2...</td>\n      <td>addCollateral</td>\n      <td>65000000000000000000</td>\n      <td>1671974363</td>\n      <td>16262011</td>\n      <td>Governance OHM</td>\n      <td>0xc0e0de939f26e71683452467942aff455ca153e3</td>\n      <td>FRAX</td>\n      <td>18</td>\n      <td>gOHM</td>\n      <td>18</td>\n      <td>2022-12-25 13:19:23</td>\n      <td>65.000000</td>\n    </tr>\n    <tr>\n      <th>238</th>\n      <td>0x55ddc7798dfcc907498c2b034dc8a591b38880673bd9...</td>\n      <td>addCollateral</td>\n      <td>50000000000000000000</td>\n      <td>1671973295</td>\n      <td>16261922</td>\n      <td>Governance OHM</td>\n      <td>0xc0e0de939f26e71683452467942aff455ca153e3</td>\n      <td>FRAX</td>\n      <td>18</td>\n      <td>gOHM</td>\n      <td>18</td>\n      <td>2022-12-25 13:01:35</td>\n      <td>50.000000</td>\n    </tr>\n    <tr>\n      <th>239</th>\n      <td>0xc8087afe3b449835b235da90386ebedc6999c1c55dfb...</td>\n      <td>addCollateral</td>\n      <td>3989650402168860011</td>\n      <td>1671373499</td>\n      <td>16212156</td>\n      <td>Governance OHM</td>\n      <td>0x0561a78021d8966ddd20c28c6c4318d8675ee1f0</td>\n      <td>FRAX</td>\n      <td>18</td>\n      <td>gOHM</td>\n      <td>18</td>\n      <td>2022-12-18 14:24:59</td>\n      <td>3.989650</td>\n    </tr>\n    <tr>\n      <th>240</th>\n      <td>0x8bef55b3495f6ebde0fb7bf110ef9dacd6c148687ebf...</td>\n      <td>addCollateral</td>\n      <td>1309626013443408981</td>\n      <td>1674152663</td>\n      <td>16442620</td>\n      <td>Governance OHM</td>\n      <td>0x440c8ab91ba7c8763b3d9b3357dc1c0d13a148aa</td>\n      <td>FRAX</td>\n      <td>18</td>\n      <td>gOHM</td>\n      <td>18</td>\n      <td>2023-01-19 18:24:23</td>\n      <td>1.309626</td>\n    </tr>\n    <tr>\n      <th>241</th>\n      <td>0xbfc6b0a2b41eb17e1d2087a807a87418325880ca519f...</td>\n      <td>addCollateral</td>\n      <td>1990385202650378284</td>\n      <td>1672105295</td>\n      <td>16272870</td>\n      <td>Governance OHM</td>\n      <td>0xc0e0de939f26e71683452467942aff455ca153e3</td>\n      <td>FRAX</td>\n      <td>18</td>\n      <td>gOHM</td>\n      <td>18</td>\n      <td>2022-12-27 01:41:35</td>\n      <td>1.990385</td>\n    </tr>\n  </tbody>\n</table>\n<p>242 rows × 13 columns</p>\n</div>"
     },
     "execution_count": 988,
     "metadata": {},
     "output_type": "execute_result"
    }
   ],
   "source": [
    "fraxDepositsDbTimed.head(1000)"
   ],
   "metadata": {
    "collapsed": false
   }
  },
  {
   "cell_type": "code",
   "execution_count": 989,
   "outputs": [
    {
     "data": {
      "text/plain": "                                          actions_id      actions_type  \\\n0  0xca92cec6cfb9ea2c2687f2f2ebe9b9e172708db2e8ad...  removeCollateral   \n1  0x0174fee4792718bba39e21032495709b16a0a69d326d...  removeCollateral   \n2  0x9e2127611c544f0a039cf02e3215b1a9386122eabfc3...  removeCollateral   \n3  0xbd38fb78f3d80b35eea7e709f7d05540a5e7dffb7114...  removeCollateral   \n4  0x9fc79141c68c74624c40d7f265b03469bb351087f040...  removeCollateral   \n5  0x9e6df83511869f0411adcc023319d247bd07fa56b287...  removeCollateral   \n6  0x233d2aed6a3cbd9716037a8fdabc5d11169ee0b46a2c...  removeCollateral   \n7  0xbd194e2a12127aa42d659d90601aec52e7483338d15d...  removeCollateral   \n8  0x54c22f8eacb8cbf0e645bd5e13109cd49dd3a863ec96...  removeCollateral   \n9  0x67a3de6a34d0e5edaa93c1c07d5537441a64cbbfe9ba...  removeCollateral   \n\n          actions_amount  actions_timestamp  actions_block actions_token_name  \\\n0   60000000000000000000         1671280103       16204416     Governance OHM   \n1    5000000000000000000         1671221507       16199560     Governance OHM   \n2    2000000000000000000         1671220523       16199480     Governance OHM   \n3   20000000000000000000         1671218123       16199284     Governance OHM   \n4   50014515489685906711         1671200687       16197839     Governance OHM   \n5   21000000000000000000         1671200399       16197815     Governance OHM   \n6   37660060241001404887         1671178019       16195957     Governance OHM   \n7    5029500000000000000         1671169607       16195260     Governance OHM   \n8   38000000000000000000         1671157439       16194251     Governance OHM   \n9  200000000000000000000         1671058307       16186038     Governance OHM   \n\n                         actions_root_address actions_pair_asset_symbol  \\\n0  0x0561a78021d8966ddd20c28c6c4318d8675ee1f0                      FRAX   \n1  0x0561a78021d8966ddd20c28c6c4318d8675ee1f0                      FRAX   \n2  0x0561a78021d8966ddd20c28c6c4318d8675ee1f0                      FRAX   \n3  0x0561a78021d8966ddd20c28c6c4318d8675ee1f0                      FRAX   \n4  0x0493bcca897a2248ae3cd4c66aea90dbfc7e13c6                      FRAX   \n5  0x0493bcca897a2248ae3cd4c66aea90dbfc7e13c6                      FRAX   \n6  0x14975679e5f87c25fa2c54958e735a79b5b93043                      FRAX   \n7  0x1f3f9c4d1de64fa4b4bc9df42b8ddd9b0354116d                      FRAX   \n8  0x68492881985afd26b04dcc4963ca5128ccd3dd9d                      FRAX   \n9  0xca5df910f3e2226324707efe7fa6d03a0f821353                      FRAX   \n\n   actions_pair_asset_decimals actions_pair_collateral_symbol  \\\n0                           18                           gOHM   \n1                           18                           gOHM   \n2                           18                           gOHM   \n3                           18                           gOHM   \n4                           18                           gOHM   \n5                           18                           gOHM   \n6                           18                           gOHM   \n7                           18                           gOHM   \n8                           18                           gOHM   \n9                           18                           gOHM   \n\n   actions_pair_collateral_decimals            DateTime  \\\n0                                18 2022-12-17 12:28:23   \n1                                18 2022-12-16 20:11:47   \n2                                18 2022-12-16 19:55:23   \n3                                18 2022-12-16 19:15:23   \n4                                18 2022-12-16 14:24:47   \n5                                18 2022-12-16 14:19:59   \n6                                18 2022-12-16 08:06:59   \n7                                18 2022-12-16 05:46:47   \n8                                18 2022-12-16 02:23:59   \n9                                18 2022-12-14 22:51:47   \n\n   transactionReadableAmount  \n0                  60.000000  \n1                   5.000000  \n2                   2.000000  \n3                  20.000000  \n4                  50.014515  \n5                  21.000000  \n6                  37.660060  \n7                   5.029500  \n8                  38.000000  \n9                 200.000000  ",
      "text/html": "<div>\n<style scoped>\n    .dataframe tbody tr th:only-of-type {\n        vertical-align: middle;\n    }\n\n    .dataframe tbody tr th {\n        vertical-align: top;\n    }\n\n    .dataframe thead th {\n        text-align: right;\n    }\n</style>\n<table border=\"1\" class=\"dataframe\">\n  <thead>\n    <tr style=\"text-align: right;\">\n      <th></th>\n      <th>actions_id</th>\n      <th>actions_type</th>\n      <th>actions_amount</th>\n      <th>actions_timestamp</th>\n      <th>actions_block</th>\n      <th>actions_token_name</th>\n      <th>actions_root_address</th>\n      <th>actions_pair_asset_symbol</th>\n      <th>actions_pair_asset_decimals</th>\n      <th>actions_pair_collateral_symbol</th>\n      <th>actions_pair_collateral_decimals</th>\n      <th>DateTime</th>\n      <th>transactionReadableAmount</th>\n    </tr>\n  </thead>\n  <tbody>\n    <tr>\n      <th>0</th>\n      <td>0xca92cec6cfb9ea2c2687f2f2ebe9b9e172708db2e8ad...</td>\n      <td>removeCollateral</td>\n      <td>60000000000000000000</td>\n      <td>1671280103</td>\n      <td>16204416</td>\n      <td>Governance OHM</td>\n      <td>0x0561a78021d8966ddd20c28c6c4318d8675ee1f0</td>\n      <td>FRAX</td>\n      <td>18</td>\n      <td>gOHM</td>\n      <td>18</td>\n      <td>2022-12-17 12:28:23</td>\n      <td>60.000000</td>\n    </tr>\n    <tr>\n      <th>1</th>\n      <td>0x0174fee4792718bba39e21032495709b16a0a69d326d...</td>\n      <td>removeCollateral</td>\n      <td>5000000000000000000</td>\n      <td>1671221507</td>\n      <td>16199560</td>\n      <td>Governance OHM</td>\n      <td>0x0561a78021d8966ddd20c28c6c4318d8675ee1f0</td>\n      <td>FRAX</td>\n      <td>18</td>\n      <td>gOHM</td>\n      <td>18</td>\n      <td>2022-12-16 20:11:47</td>\n      <td>5.000000</td>\n    </tr>\n    <tr>\n      <th>2</th>\n      <td>0x9e2127611c544f0a039cf02e3215b1a9386122eabfc3...</td>\n      <td>removeCollateral</td>\n      <td>2000000000000000000</td>\n      <td>1671220523</td>\n      <td>16199480</td>\n      <td>Governance OHM</td>\n      <td>0x0561a78021d8966ddd20c28c6c4318d8675ee1f0</td>\n      <td>FRAX</td>\n      <td>18</td>\n      <td>gOHM</td>\n      <td>18</td>\n      <td>2022-12-16 19:55:23</td>\n      <td>2.000000</td>\n    </tr>\n    <tr>\n      <th>3</th>\n      <td>0xbd38fb78f3d80b35eea7e709f7d05540a5e7dffb7114...</td>\n      <td>removeCollateral</td>\n      <td>20000000000000000000</td>\n      <td>1671218123</td>\n      <td>16199284</td>\n      <td>Governance OHM</td>\n      <td>0x0561a78021d8966ddd20c28c6c4318d8675ee1f0</td>\n      <td>FRAX</td>\n      <td>18</td>\n      <td>gOHM</td>\n      <td>18</td>\n      <td>2022-12-16 19:15:23</td>\n      <td>20.000000</td>\n    </tr>\n    <tr>\n      <th>4</th>\n      <td>0x9fc79141c68c74624c40d7f265b03469bb351087f040...</td>\n      <td>removeCollateral</td>\n      <td>50014515489685906711</td>\n      <td>1671200687</td>\n      <td>16197839</td>\n      <td>Governance OHM</td>\n      <td>0x0493bcca897a2248ae3cd4c66aea90dbfc7e13c6</td>\n      <td>FRAX</td>\n      <td>18</td>\n      <td>gOHM</td>\n      <td>18</td>\n      <td>2022-12-16 14:24:47</td>\n      <td>50.014515</td>\n    </tr>\n    <tr>\n      <th>5</th>\n      <td>0x9e6df83511869f0411adcc023319d247bd07fa56b287...</td>\n      <td>removeCollateral</td>\n      <td>21000000000000000000</td>\n      <td>1671200399</td>\n      <td>16197815</td>\n      <td>Governance OHM</td>\n      <td>0x0493bcca897a2248ae3cd4c66aea90dbfc7e13c6</td>\n      <td>FRAX</td>\n      <td>18</td>\n      <td>gOHM</td>\n      <td>18</td>\n      <td>2022-12-16 14:19:59</td>\n      <td>21.000000</td>\n    </tr>\n    <tr>\n      <th>6</th>\n      <td>0x233d2aed6a3cbd9716037a8fdabc5d11169ee0b46a2c...</td>\n      <td>removeCollateral</td>\n      <td>37660060241001404887</td>\n      <td>1671178019</td>\n      <td>16195957</td>\n      <td>Governance OHM</td>\n      <td>0x14975679e5f87c25fa2c54958e735a79b5b93043</td>\n      <td>FRAX</td>\n      <td>18</td>\n      <td>gOHM</td>\n      <td>18</td>\n      <td>2022-12-16 08:06:59</td>\n      <td>37.660060</td>\n    </tr>\n    <tr>\n      <th>7</th>\n      <td>0xbd194e2a12127aa42d659d90601aec52e7483338d15d...</td>\n      <td>removeCollateral</td>\n      <td>5029500000000000000</td>\n      <td>1671169607</td>\n      <td>16195260</td>\n      <td>Governance OHM</td>\n      <td>0x1f3f9c4d1de64fa4b4bc9df42b8ddd9b0354116d</td>\n      <td>FRAX</td>\n      <td>18</td>\n      <td>gOHM</td>\n      <td>18</td>\n      <td>2022-12-16 05:46:47</td>\n      <td>5.029500</td>\n    </tr>\n    <tr>\n      <th>8</th>\n      <td>0x54c22f8eacb8cbf0e645bd5e13109cd49dd3a863ec96...</td>\n      <td>removeCollateral</td>\n      <td>38000000000000000000</td>\n      <td>1671157439</td>\n      <td>16194251</td>\n      <td>Governance OHM</td>\n      <td>0x68492881985afd26b04dcc4963ca5128ccd3dd9d</td>\n      <td>FRAX</td>\n      <td>18</td>\n      <td>gOHM</td>\n      <td>18</td>\n      <td>2022-12-16 02:23:59</td>\n      <td>38.000000</td>\n    </tr>\n    <tr>\n      <th>9</th>\n      <td>0x67a3de6a34d0e5edaa93c1c07d5537441a64cbbfe9ba...</td>\n      <td>removeCollateral</td>\n      <td>200000000000000000000</td>\n      <td>1671058307</td>\n      <td>16186038</td>\n      <td>Governance OHM</td>\n      <td>0xca5df910f3e2226324707efe7fa6d03a0f821353</td>\n      <td>FRAX</td>\n      <td>18</td>\n      <td>gOHM</td>\n      <td>18</td>\n      <td>2022-12-14 22:51:47</td>\n      <td>200.000000</td>\n    </tr>\n  </tbody>\n</table>\n</div>"
     },
     "execution_count": 989,
     "metadata": {},
     "output_type": "execute_result"
    }
   ],
   "source": [
    "fraxWithdrawsDbTimed.head(10)"
   ],
   "metadata": {
    "collapsed": false
   }
  },
  {
   "cell_type": "code",
   "execution_count": 991,
   "outputs": [
    {
     "data": {
      "text/plain": "                                           actions_id actions_type  \\\n0   0x08cef0dcfa82fb386ec9948dadfaa9dba0da206c6523...  borrowAsset   \n1   0x52a22509d8397aec4b08a262c8e50ce0e9e810cc1981...  borrowAsset   \n2   0x70031de3f701a9ac2d57f53fc400f51a6918cc09a037...  borrowAsset   \n3   0x91ce97ab7feb2244dbbcc49a2bc94e8859c767eba7eb...  borrowAsset   \n4   0x0622d462adf7b5db61999e4818580e948de56acee446...  borrowAsset   \n..                                                ...          ...   \n95  0x177e04577b8e91124fb854181bbeedcefc660331a794...  borrowAsset   \n96  0x40b4c7123b3dfa9a0a09ed60776eaf4c288442424a9f...  borrowAsset   \n97  0x6b7edfe0a07d8e657d79c56472a8cd294bd0e0ef44a7...  borrowAsset   \n98  0xc7a3898a122851678d184b57c22f151fb4d8d4b100f5...  borrowAsset   \n99  0x52edeb1d2b4db7613f32f03d2f9c80dc3003ba28cb89...  borrowAsset   \n\n              actions_amount  actions_timestamp  actions_block  \\\n0    60000000000000000000000         1671302279       16206258   \n1    10000000000000000000000         1671284591       16204790   \n2    12400000000000000000000         1671223127       16199693   \n3    15000000000000000000000         1671213215       16198877   \n4    20000000000000000000000         1671212627       16198828   \n..                       ...                ...            ...   \n95    5000000000000000000000         1674065555       16435403   \n96  350000000000000000000000         1674052199       16434297   \n97    5000000000000000000000         1674008315       16430653   \n98    1100000000000000000000         1673977079       16428064   \n99    5000000000000000000000         1673966723       16427205   \n\n   actions_token_name                        actions_root_address  \\\n0                Frax  0x68492881985afd26b04dcc4963ca5128ccd3dd9d   \n1                Frax  0x0561a78021d8966ddd20c28c6c4318d8675ee1f0   \n2                Frax  0x0561a78021d8966ddd20c28c6c4318d8675ee1f0   \n3                Frax  0x0561a78021d8966ddd20c28c6c4318d8675ee1f0   \n4                Frax  0x0561a78021d8966ddd20c28c6c4318d8675ee1f0   \n..                ...                                         ...   \n95               Frax  0xc0e0de939f26e71683452467942aff455ca153e3   \n96               Frax  0xee95e4cf086fc80df7ae0f39dfc9ea53a3eaadcb   \n97               Frax  0xc0e0de939f26e71683452467942aff455ca153e3   \n98               Frax  0x440c8ab91ba7c8763b3d9b3357dc1c0d13a148aa   \n99               Frax  0xc0e0de939f26e71683452467942aff455ca153e3   \n\n   actions_pair_asset_symbol  actions_pair_asset_decimals  \\\n0                       FRAX                           18   \n1                       FRAX                           18   \n2                       FRAX                           18   \n3                       FRAX                           18   \n4                       FRAX                           18   \n..                       ...                          ...   \n95                      FRAX                           18   \n96                      FRAX                           18   \n97                      FRAX                           18   \n98                      FRAX                           18   \n99                      FRAX                           18   \n\n   actions_pair_collateral_symbol  actions_pair_collateral_decimals  \\\n0                            gOHM                                18   \n1                            gOHM                                18   \n2                            gOHM                                18   \n3                            gOHM                                18   \n4                            gOHM                                18   \n..                            ...                               ...   \n95                           gOHM                                18   \n96                           gOHM                                18   \n97                           gOHM                                18   \n98                           gOHM                                18   \n99                           gOHM                                18   \n\n              DateTime  transactionReadableAmount  \n0  2022-12-17 18:37:59                    60000.0  \n1  2022-12-17 13:43:11                    10000.0  \n2  2022-12-16 20:38:47                    12400.0  \n3  2022-12-16 17:53:35                    15000.0  \n4  2022-12-16 17:43:47                    20000.0  \n..                 ...                        ...  \n95 2023-01-18 18:12:35                     5000.0  \n96 2023-01-18 14:29:59                   350000.0  \n97 2023-01-18 02:18:35                     5000.0  \n98 2023-01-17 17:37:59                     1100.0  \n99 2023-01-17 14:45:23                     5000.0  \n\n[100 rows x 13 columns]",
      "text/html": "<div>\n<style scoped>\n    .dataframe tbody tr th:only-of-type {\n        vertical-align: middle;\n    }\n\n    .dataframe tbody tr th {\n        vertical-align: top;\n    }\n\n    .dataframe thead th {\n        text-align: right;\n    }\n</style>\n<table border=\"1\" class=\"dataframe\">\n  <thead>\n    <tr style=\"text-align: right;\">\n      <th></th>\n      <th>actions_id</th>\n      <th>actions_type</th>\n      <th>actions_amount</th>\n      <th>actions_timestamp</th>\n      <th>actions_block</th>\n      <th>actions_token_name</th>\n      <th>actions_root_address</th>\n      <th>actions_pair_asset_symbol</th>\n      <th>actions_pair_asset_decimals</th>\n      <th>actions_pair_collateral_symbol</th>\n      <th>actions_pair_collateral_decimals</th>\n      <th>DateTime</th>\n      <th>transactionReadableAmount</th>\n    </tr>\n  </thead>\n  <tbody>\n    <tr>\n      <th>0</th>\n      <td>0x08cef0dcfa82fb386ec9948dadfaa9dba0da206c6523...</td>\n      <td>borrowAsset</td>\n      <td>60000000000000000000000</td>\n      <td>1671302279</td>\n      <td>16206258</td>\n      <td>Frax</td>\n      <td>0x68492881985afd26b04dcc4963ca5128ccd3dd9d</td>\n      <td>FRAX</td>\n      <td>18</td>\n      <td>gOHM</td>\n      <td>18</td>\n      <td>2022-12-17 18:37:59</td>\n      <td>60000.0</td>\n    </tr>\n    <tr>\n      <th>1</th>\n      <td>0x52a22509d8397aec4b08a262c8e50ce0e9e810cc1981...</td>\n      <td>borrowAsset</td>\n      <td>10000000000000000000000</td>\n      <td>1671284591</td>\n      <td>16204790</td>\n      <td>Frax</td>\n      <td>0x0561a78021d8966ddd20c28c6c4318d8675ee1f0</td>\n      <td>FRAX</td>\n      <td>18</td>\n      <td>gOHM</td>\n      <td>18</td>\n      <td>2022-12-17 13:43:11</td>\n      <td>10000.0</td>\n    </tr>\n    <tr>\n      <th>2</th>\n      <td>0x70031de3f701a9ac2d57f53fc400f51a6918cc09a037...</td>\n      <td>borrowAsset</td>\n      <td>12400000000000000000000</td>\n      <td>1671223127</td>\n      <td>16199693</td>\n      <td>Frax</td>\n      <td>0x0561a78021d8966ddd20c28c6c4318d8675ee1f0</td>\n      <td>FRAX</td>\n      <td>18</td>\n      <td>gOHM</td>\n      <td>18</td>\n      <td>2022-12-16 20:38:47</td>\n      <td>12400.0</td>\n    </tr>\n    <tr>\n      <th>3</th>\n      <td>0x91ce97ab7feb2244dbbcc49a2bc94e8859c767eba7eb...</td>\n      <td>borrowAsset</td>\n      <td>15000000000000000000000</td>\n      <td>1671213215</td>\n      <td>16198877</td>\n      <td>Frax</td>\n      <td>0x0561a78021d8966ddd20c28c6c4318d8675ee1f0</td>\n      <td>FRAX</td>\n      <td>18</td>\n      <td>gOHM</td>\n      <td>18</td>\n      <td>2022-12-16 17:53:35</td>\n      <td>15000.0</td>\n    </tr>\n    <tr>\n      <th>4</th>\n      <td>0x0622d462adf7b5db61999e4818580e948de56acee446...</td>\n      <td>borrowAsset</td>\n      <td>20000000000000000000000</td>\n      <td>1671212627</td>\n      <td>16198828</td>\n      <td>Frax</td>\n      <td>0x0561a78021d8966ddd20c28c6c4318d8675ee1f0</td>\n      <td>FRAX</td>\n      <td>18</td>\n      <td>gOHM</td>\n      <td>18</td>\n      <td>2022-12-16 17:43:47</td>\n      <td>20000.0</td>\n    </tr>\n    <tr>\n      <th>...</th>\n      <td>...</td>\n      <td>...</td>\n      <td>...</td>\n      <td>...</td>\n      <td>...</td>\n      <td>...</td>\n      <td>...</td>\n      <td>...</td>\n      <td>...</td>\n      <td>...</td>\n      <td>...</td>\n      <td>...</td>\n      <td>...</td>\n    </tr>\n    <tr>\n      <th>95</th>\n      <td>0x177e04577b8e91124fb854181bbeedcefc660331a794...</td>\n      <td>borrowAsset</td>\n      <td>5000000000000000000000</td>\n      <td>1674065555</td>\n      <td>16435403</td>\n      <td>Frax</td>\n      <td>0xc0e0de939f26e71683452467942aff455ca153e3</td>\n      <td>FRAX</td>\n      <td>18</td>\n      <td>gOHM</td>\n      <td>18</td>\n      <td>2023-01-18 18:12:35</td>\n      <td>5000.0</td>\n    </tr>\n    <tr>\n      <th>96</th>\n      <td>0x40b4c7123b3dfa9a0a09ed60776eaf4c288442424a9f...</td>\n      <td>borrowAsset</td>\n      <td>350000000000000000000000</td>\n      <td>1674052199</td>\n      <td>16434297</td>\n      <td>Frax</td>\n      <td>0xee95e4cf086fc80df7ae0f39dfc9ea53a3eaadcb</td>\n      <td>FRAX</td>\n      <td>18</td>\n      <td>gOHM</td>\n      <td>18</td>\n      <td>2023-01-18 14:29:59</td>\n      <td>350000.0</td>\n    </tr>\n    <tr>\n      <th>97</th>\n      <td>0x6b7edfe0a07d8e657d79c56472a8cd294bd0e0ef44a7...</td>\n      <td>borrowAsset</td>\n      <td>5000000000000000000000</td>\n      <td>1674008315</td>\n      <td>16430653</td>\n      <td>Frax</td>\n      <td>0xc0e0de939f26e71683452467942aff455ca153e3</td>\n      <td>FRAX</td>\n      <td>18</td>\n      <td>gOHM</td>\n      <td>18</td>\n      <td>2023-01-18 02:18:35</td>\n      <td>5000.0</td>\n    </tr>\n    <tr>\n      <th>98</th>\n      <td>0xc7a3898a122851678d184b57c22f151fb4d8d4b100f5...</td>\n      <td>borrowAsset</td>\n      <td>1100000000000000000000</td>\n      <td>1673977079</td>\n      <td>16428064</td>\n      <td>Frax</td>\n      <td>0x440c8ab91ba7c8763b3d9b3357dc1c0d13a148aa</td>\n      <td>FRAX</td>\n      <td>18</td>\n      <td>gOHM</td>\n      <td>18</td>\n      <td>2023-01-17 17:37:59</td>\n      <td>1100.0</td>\n    </tr>\n    <tr>\n      <th>99</th>\n      <td>0x52edeb1d2b4db7613f32f03d2f9c80dc3003ba28cb89...</td>\n      <td>borrowAsset</td>\n      <td>5000000000000000000000</td>\n      <td>1673966723</td>\n      <td>16427205</td>\n      <td>Frax</td>\n      <td>0xc0e0de939f26e71683452467942aff455ca153e3</td>\n      <td>FRAX</td>\n      <td>18</td>\n      <td>gOHM</td>\n      <td>18</td>\n      <td>2023-01-17 14:45:23</td>\n      <td>5000.0</td>\n    </tr>\n  </tbody>\n</table>\n<p>100 rows × 13 columns</p>\n</div>"
     },
     "execution_count": 991,
     "metadata": {},
     "output_type": "execute_result"
    }
   ],
   "source": [
    "fraxActionsDbTimed = pd.concat([oldFraxBorrows,fraxBorrowsDbTimed]).drop_duplicates().reset_index(drop=True)\n",
    "fraxActionsDbTimed.sort_values(['actions_id','actions_type','actions_amount','actions_timestamp','actions_block','actions_token_name','actions_root_address','DateTime'])\n",
    "fraxActionsDbTimed.drop_duplicates(keep='first' )\n",
    "fraxActionsDbTimed.head(100)"
   ],
   "metadata": {
    "collapsed": false
   }
  },
  {
   "cell_type": "code",
   "execution_count": 992,
   "outputs": [
    {
     "name": "stdout",
     "output_type": "stream",
     "text": [
      "D:\\Dropbox\\Documents\\Edgecaser LLC\\Projects\\Olympus\\Econohmetrics\\gohmAsStablecoinCollateral/data/frax_borrows_piped.csv file saved, 160  records at 2023-02-19 22:37:35.574972\n"
     ]
    }
   ],
   "source": [
    "fraxActionsDbTimedLength = len(fraxActionsDbTimed)\n",
    "path =file+'/frax_borrows.csv'\n",
    "fraxActionsDbTimed.to_csv(path, index = False)\n",
    "\n",
    "path =file+'/frax_borrows_piped.csv'\n",
    "fraxActionsDbTimed.to_csv(path, index = False, sep='|')\n",
    "\n",
    "print(path, 'file saved,', fraxActionsDbTimedLength,' records at', (dt.datetime.now()) )"
   ],
   "metadata": {
    "collapsed": false
   }
  },
  {
   "cell_type": "markdown",
   "source": [
    "Collateral check"
   ],
   "metadata": {
    "collapsed": false
   }
  },
  {
   "cell_type": "code",
   "execution_count": 993,
   "outputs": [
    {
     "name": "stdout",
     "output_type": "stream",
     "text": [
      "There has been a total of 7636.92 gOHM deposited cumulatively as collateral  to date\n"
     ]
    }
   ],
   "source": [
    "totalgOHMDepositedFrax = sum(fraxDepositsDbTimed['transactionReadableAmount'])\n",
    "print('There has been a total of',round(totalgOHMDepositedFrax,2),  'gOHM deposited cumulatively as collateral  to date')"
   ],
   "metadata": {
    "collapsed": false
   }
  },
  {
   "cell_type": "code",
   "execution_count": 994,
   "outputs": [
    {
     "name": "stdout",
     "output_type": "stream",
     "text": [
      "There has been a total of 6289.99 gOHM withdrawn cumulatively as collateral  to date\n"
     ]
    }
   ],
   "source": [
    "totalgOHMWithdrawnFrax = sum(fraxWithdrawsDbTimed['transactionReadableAmount'])\n",
    "print('There has been a total of',round(totalgOHMWithdrawnFrax,2),  'gOHM withdrawn cumulatively as collateral  to date')"
   ],
   "metadata": {
    "collapsed": false
   }
  },
  {
   "cell_type": "code",
   "execution_count": 995,
   "outputs": [
    {
     "name": "stdout",
     "output_type": "stream",
     "text": [
      "7636.9197428013185  -  6289.988456871596 = 1346.9312859297224 currently deposited as collateral in Silo\n"
     ]
    }
   ],
   "source": [
    "collateralBalance = totalgOHMDepositedFrax-totalgOHMWithdrawnFrax\n",
    "print(totalgOHMDepositedFrax, ' - ',totalgOHMWithdrawnFrax,'=', collateralBalance, 'currently deposited as collateral in Silo' )"
   ],
   "metadata": {
    "collapsed": false
   }
  },
  {
   "cell_type": "markdown",
   "source": [
    "**********************************************************\n",
    "MERGE DIFFERENT DBs"
   ],
   "metadata": {
    "collapsed": false
   }
  },
  {
   "cell_type": "code",
   "execution_count": 1032,
   "outputs": [
    {
     "data": {
      "text/plain": "                                      transaction_id  transaction_timestamp  \\\n0  0x2c0b67c5bac1a60d50eb090a8b6508241600a01960ff...             1671302171   \n1  0x89f288af5dbb01b2606695b10043efcca7250ffa4f27...             1671285023   \n2  0x6426c8eaa10b310af812579129a15f523e5728b3b3b6...             1671270203   \n3  0xfe699cd2ba2b23392813283cf1d50c43db9ed094dedc...             1671223559   \n4  0x746ec0ab5c5b7dd3e0ae34cdfe5f4a0c668bfed1aec8...             1671220619   \n5  0x3b19215815f770647d3dc58f46b288c52521fb9c5dba...             1671220199   \n6  0x34b32f25104dc3ff1f73b424f4dd47b9ae520aa7ea6f...             1671219503   \n7  0xb756d3f20a4933253711c29af3733719925dcb4dad26...             1671217427   \n8  0x117ff749d2618d289a02a226ddc6cbd25ea816f3fa07...             1671213383   \n9  0xbbaf3bbd990a4c2ca590bd50e4639fdef25fb0737d45...             1671213191   \n\n             dateTime                            transaction_from  \\\n0 2022-12-17 18:36:11  0x68492881985afd26b04dcc4963ca5128ccd3dd9d   \n1 2022-12-17 13:50:23  0x0561a78021d8966ddd20c28c6c4318d8675ee1f0   \n2 2022-12-17 09:43:23  0x3ea0f98d3c7c9bdf3c15acec5a0f040ed81af494   \n3 2022-12-16 20:45:59  0x0561a78021d8966ddd20c28c6c4318d8675ee1f0   \n4 2022-12-16 19:56:59  0x0561a78021d8966ddd20c28c6c4318d8675ee1f0   \n5 2022-12-16 19:49:59  0x0493bcca897a2248ae3cd4c66aea90dbfc7e13c6   \n6 2022-12-16 19:38:23  0x0561a78021d8966ddd20c28c6c4318d8675ee1f0   \n7 2022-12-16 19:03:47  0xbf23c4820def2ed7cab808bec348f7072035a289   \n8 2022-12-16 17:56:23  0x0561a78021d8966ddd20c28c6c4318d8675ee1f0   \n9 2022-12-16 17:53:11  0x0561a78021d8966ddd20c28c6c4318d8675ee1f0   \n\n  asset_symbol  ReadableAmount protocol             action  \n0         gOHM       40.000000     Frax  depositCollateral  \n1         gOHM        4.002731     Frax  depositCollateral  \n2         gOHM        1.050000     Frax  depositCollateral  \n3         gOHM        4.936656     Frax  depositCollateral  \n4         gOHM        2.000005     Frax  depositCollateral  \n5         gOHM       50.000000     Frax  depositCollateral  \n6         gOHM       19.771750     Frax  depositCollateral  \n7         gOHM      290.000000     Frax  depositCollateral  \n8         gOHM        5.979708     Frax  depositCollateral  \n9         gOHM       27.955417     Frax  depositCollateral  ",
      "text/html": "<div>\n<style scoped>\n    .dataframe tbody tr th:only-of-type {\n        vertical-align: middle;\n    }\n\n    .dataframe tbody tr th {\n        vertical-align: top;\n    }\n\n    .dataframe thead th {\n        text-align: right;\n    }\n</style>\n<table border=\"1\" class=\"dataframe\">\n  <thead>\n    <tr style=\"text-align: right;\">\n      <th></th>\n      <th>transaction_id</th>\n      <th>transaction_timestamp</th>\n      <th>dateTime</th>\n      <th>transaction_from</th>\n      <th>asset_symbol</th>\n      <th>ReadableAmount</th>\n      <th>protocol</th>\n      <th>action</th>\n    </tr>\n  </thead>\n  <tbody>\n    <tr>\n      <th>0</th>\n      <td>0x2c0b67c5bac1a60d50eb090a8b6508241600a01960ff...</td>\n      <td>1671302171</td>\n      <td>2022-12-17 18:36:11</td>\n      <td>0x68492881985afd26b04dcc4963ca5128ccd3dd9d</td>\n      <td>gOHM</td>\n      <td>40.000000</td>\n      <td>Frax</td>\n      <td>depositCollateral</td>\n    </tr>\n    <tr>\n      <th>1</th>\n      <td>0x89f288af5dbb01b2606695b10043efcca7250ffa4f27...</td>\n      <td>1671285023</td>\n      <td>2022-12-17 13:50:23</td>\n      <td>0x0561a78021d8966ddd20c28c6c4318d8675ee1f0</td>\n      <td>gOHM</td>\n      <td>4.002731</td>\n      <td>Frax</td>\n      <td>depositCollateral</td>\n    </tr>\n    <tr>\n      <th>2</th>\n      <td>0x6426c8eaa10b310af812579129a15f523e5728b3b3b6...</td>\n      <td>1671270203</td>\n      <td>2022-12-17 09:43:23</td>\n      <td>0x3ea0f98d3c7c9bdf3c15acec5a0f040ed81af494</td>\n      <td>gOHM</td>\n      <td>1.050000</td>\n      <td>Frax</td>\n      <td>depositCollateral</td>\n    </tr>\n    <tr>\n      <th>3</th>\n      <td>0xfe699cd2ba2b23392813283cf1d50c43db9ed094dedc...</td>\n      <td>1671223559</td>\n      <td>2022-12-16 20:45:59</td>\n      <td>0x0561a78021d8966ddd20c28c6c4318d8675ee1f0</td>\n      <td>gOHM</td>\n      <td>4.936656</td>\n      <td>Frax</td>\n      <td>depositCollateral</td>\n    </tr>\n    <tr>\n      <th>4</th>\n      <td>0x746ec0ab5c5b7dd3e0ae34cdfe5f4a0c668bfed1aec8...</td>\n      <td>1671220619</td>\n      <td>2022-12-16 19:56:59</td>\n      <td>0x0561a78021d8966ddd20c28c6c4318d8675ee1f0</td>\n      <td>gOHM</td>\n      <td>2.000005</td>\n      <td>Frax</td>\n      <td>depositCollateral</td>\n    </tr>\n    <tr>\n      <th>5</th>\n      <td>0x3b19215815f770647d3dc58f46b288c52521fb9c5dba...</td>\n      <td>1671220199</td>\n      <td>2022-12-16 19:49:59</td>\n      <td>0x0493bcca897a2248ae3cd4c66aea90dbfc7e13c6</td>\n      <td>gOHM</td>\n      <td>50.000000</td>\n      <td>Frax</td>\n      <td>depositCollateral</td>\n    </tr>\n    <tr>\n      <th>6</th>\n      <td>0x34b32f25104dc3ff1f73b424f4dd47b9ae520aa7ea6f...</td>\n      <td>1671219503</td>\n      <td>2022-12-16 19:38:23</td>\n      <td>0x0561a78021d8966ddd20c28c6c4318d8675ee1f0</td>\n      <td>gOHM</td>\n      <td>19.771750</td>\n      <td>Frax</td>\n      <td>depositCollateral</td>\n    </tr>\n    <tr>\n      <th>7</th>\n      <td>0xb756d3f20a4933253711c29af3733719925dcb4dad26...</td>\n      <td>1671217427</td>\n      <td>2022-12-16 19:03:47</td>\n      <td>0xbf23c4820def2ed7cab808bec348f7072035a289</td>\n      <td>gOHM</td>\n      <td>290.000000</td>\n      <td>Frax</td>\n      <td>depositCollateral</td>\n    </tr>\n    <tr>\n      <th>8</th>\n      <td>0x117ff749d2618d289a02a226ddc6cbd25ea816f3fa07...</td>\n      <td>1671213383</td>\n      <td>2022-12-16 17:56:23</td>\n      <td>0x0561a78021d8966ddd20c28c6c4318d8675ee1f0</td>\n      <td>gOHM</td>\n      <td>5.979708</td>\n      <td>Frax</td>\n      <td>depositCollateral</td>\n    </tr>\n    <tr>\n      <th>9</th>\n      <td>0xbbaf3bbd990a4c2ca590bd50e4639fdef25fb0737d45...</td>\n      <td>1671213191</td>\n      <td>2022-12-16 17:53:11</td>\n      <td>0x0561a78021d8966ddd20c28c6c4318d8675ee1f0</td>\n      <td>gOHM</td>\n      <td>27.955417</td>\n      <td>Frax</td>\n      <td>depositCollateral</td>\n    </tr>\n  </tbody>\n</table>\n</div>"
     },
     "execution_count": 1032,
     "metadata": {},
     "output_type": "execute_result"
    }
   ],
   "source": [
    "#COLLATERALDEPOSITS\n",
    "fraxDepositsDbPreMerge = db.query(\n",
    "    \"select distinct\"\n",
    "    \" actions_id transaction_id\"\n",
    "    \", actions_timestamp transaction_timestamp\"\n",
    "    \", DateTime dateTime\"\n",
    "    \", actions_root_address transaction_from \"\n",
    "    \", actions_pair_collateral_symbol asset_symbol\"\n",
    "    \", transactionReadableAmount ReadableAmount \"\n",
    "    \"from fraxDepositsDbTimed \"\n",
    ").df()\n",
    "fraxDepositsDbPreMerge['protocol'] = 'Frax'\n",
    "fraxDepositsDbPreMerge['action'] = 'depositCollateral'\n",
    "fraxDepositsDbPreMerge.head(10)\n",
    "\n"
   ],
   "metadata": {
    "collapsed": false
   }
  },
  {
   "cell_type": "code",
   "execution_count": 1033,
   "outputs": [
    {
     "data": {
      "text/plain": "     event                                   transaction_hash  \\\n0  deposit  0xecd6140bbb896413a25d34ca87f5503b56c444f1e582...   \n\n   transaction_blockNumber  transaction_timestamp  \\\n0                 16651409             1676673263   \n\n                       transaction_account_id  \\\n0  0xd33e76d21d32c21811593ae54e38f68df0cfe8ed   \n\n                        transaction_market_id transaction_asset_name  \\\n0  0xc413dd03555f3eb29d834b482d386b2999dc2eb0         Governance OHM   \n\n  transaction_asset_symbol  transactionReadableAmount  \\\n0                     gOHM                  48.922199   \n\n   transaction_asset_lastPriceUSD  transaction_amountUSD            dateTime  \\\n0                     2838.193286          138354.126796 2023-02-17 22:34:23   \n\n     calDate  \n0 2023-02-17  ",
      "text/html": "<div>\n<style scoped>\n    .dataframe tbody tr th:only-of-type {\n        vertical-align: middle;\n    }\n\n    .dataframe tbody tr th {\n        vertical-align: top;\n    }\n\n    .dataframe thead th {\n        text-align: right;\n    }\n</style>\n<table border=\"1\" class=\"dataframe\">\n  <thead>\n    <tr style=\"text-align: right;\">\n      <th></th>\n      <th>event</th>\n      <th>transaction_hash</th>\n      <th>transaction_blockNumber</th>\n      <th>transaction_timestamp</th>\n      <th>transaction_account_id</th>\n      <th>transaction_market_id</th>\n      <th>transaction_asset_name</th>\n      <th>transaction_asset_symbol</th>\n      <th>transactionReadableAmount</th>\n      <th>transaction_asset_lastPriceUSD</th>\n      <th>transaction_amountUSD</th>\n      <th>dateTime</th>\n      <th>calDate</th>\n    </tr>\n  </thead>\n  <tbody>\n    <tr>\n      <th>0</th>\n      <td>deposit</td>\n      <td>0xecd6140bbb896413a25d34ca87f5503b56c444f1e582...</td>\n      <td>16651409</td>\n      <td>1676673263</td>\n      <td>0xd33e76d21d32c21811593ae54e38f68df0cfe8ed</td>\n      <td>0xc413dd03555f3eb29d834b482d386b2999dc2eb0</td>\n      <td>Governance OHM</td>\n      <td>gOHM</td>\n      <td>48.922199</td>\n      <td>2838.193286</td>\n      <td>138354.126796</td>\n      <td>2023-02-17 22:34:23</td>\n      <td>2023-02-17</td>\n    </tr>\n  </tbody>\n</table>\n</div>"
     },
     "execution_count": 1033,
     "metadata": {},
     "output_type": "execute_result"
    }
   ],
   "source": [
    "siloDepositEventsDbTimedClean.head(1)"
   ],
   "metadata": {
    "collapsed": false
   }
  },
  {
   "cell_type": "code",
   "execution_count": 1034,
   "outputs": [
    {
     "data": {
      "text/plain": "                                      transaction_id  transaction_timestamp  \\\n0  0xecd6140bbb896413a25d34ca87f5503b56c444f1e582...             1676673263   \n1  0x54cd3f5374780bceaffae0661e2688eeca47df22b8aa...             1676555939   \n2  0xe5163797f0922e4bded89126a213296a8c3d270a39e2...             1676383883   \n3  0xcc5e09e1e5c403b6925fa25f0410388de72ef1b45f30...             1676383523   \n4  0xf5439a3f94551476ec68db02d6f577a2856d01f45691...             1676330339   \n5  0x3069fa3e9834fd75b4eaae5d1ef1a7910b112ed68e5f...             1676330087   \n6  0x17d879ec97730987652b5bcb00aaf6115b7dd232aaef...             1676292887   \n7  0xff978d5e58c65cbc9d73fbf58f44166724c2db0f0706...             1676069891   \n8  0x669ce641c8adcf855d5ea4fedda6b52fc63795fd0dd6...             1675938899   \n9  0x204aee0831212791916d6ed3a2c24b5ac2a474743713...             1675923587   \n\n             dateTime                            transaction_from  \\\n0 2023-02-17 22:34:23  0xd33e76d21d32c21811593ae54e38f68df0cfe8ed   \n1 2023-02-16 13:58:59  0xee95e4cf086fc80df7ae0f39dfc9ea53a3eaadcb   \n2 2023-02-14 14:11:23  0xc0b1f200aa9546ce074397bed7438bb2ec033877   \n3 2023-02-14 14:05:23  0xc0b1f200aa9546ce074397bed7438bb2ec033877   \n4 2023-02-13 23:18:59  0xc0b1f200aa9546ce074397bed7438bb2ec033877   \n5 2023-02-13 23:14:47  0xc0b1f200aa9546ce074397bed7438bb2ec033877   \n6 2023-02-13 12:54:47  0xc0b1f200aa9546ce074397bed7438bb2ec033877   \n7 2023-02-10 22:58:11  0xa7daeb7fc210f934508c8c7ce833a2cdd6630fb3   \n8 2023-02-09 10:34:59  0x51bc3dd10a9ee4946f961038cf5d50057e49eb77   \n9 2023-02-09 06:19:47  0xb0399dac8f4d4100b49b2a7b3873481114229d18   \n\n  asset_symbol  ReadableAmount protocol             action  \n0         gOHM       48.922199     silo  depositCollateral  \n1         gOHM       50.749992     silo  depositCollateral  \n2         gOHM        0.180346     silo  depositCollateral  \n3         gOHM        0.663108     silo  depositCollateral  \n4         gOHM        0.892669     silo  depositCollateral  \n5         gOHM        1.087799     silo  depositCollateral  \n6         gOHM        1.812154     silo  depositCollateral  \n7         gOHM        0.137814     silo  depositCollateral  \n8         gOHM        9.990000     silo  depositCollateral  \n9         gOHM      119.000000     silo  depositCollateral  ",
      "text/html": "<div>\n<style scoped>\n    .dataframe tbody tr th:only-of-type {\n        vertical-align: middle;\n    }\n\n    .dataframe tbody tr th {\n        vertical-align: top;\n    }\n\n    .dataframe thead th {\n        text-align: right;\n    }\n</style>\n<table border=\"1\" class=\"dataframe\">\n  <thead>\n    <tr style=\"text-align: right;\">\n      <th></th>\n      <th>transaction_id</th>\n      <th>transaction_timestamp</th>\n      <th>dateTime</th>\n      <th>transaction_from</th>\n      <th>asset_symbol</th>\n      <th>ReadableAmount</th>\n      <th>protocol</th>\n      <th>action</th>\n    </tr>\n  </thead>\n  <tbody>\n    <tr>\n      <th>0</th>\n      <td>0xecd6140bbb896413a25d34ca87f5503b56c444f1e582...</td>\n      <td>1676673263</td>\n      <td>2023-02-17 22:34:23</td>\n      <td>0xd33e76d21d32c21811593ae54e38f68df0cfe8ed</td>\n      <td>gOHM</td>\n      <td>48.922199</td>\n      <td>silo</td>\n      <td>depositCollateral</td>\n    </tr>\n    <tr>\n      <th>1</th>\n      <td>0x54cd3f5374780bceaffae0661e2688eeca47df22b8aa...</td>\n      <td>1676555939</td>\n      <td>2023-02-16 13:58:59</td>\n      <td>0xee95e4cf086fc80df7ae0f39dfc9ea53a3eaadcb</td>\n      <td>gOHM</td>\n      <td>50.749992</td>\n      <td>silo</td>\n      <td>depositCollateral</td>\n    </tr>\n    <tr>\n      <th>2</th>\n      <td>0xe5163797f0922e4bded89126a213296a8c3d270a39e2...</td>\n      <td>1676383883</td>\n      <td>2023-02-14 14:11:23</td>\n      <td>0xc0b1f200aa9546ce074397bed7438bb2ec033877</td>\n      <td>gOHM</td>\n      <td>0.180346</td>\n      <td>silo</td>\n      <td>depositCollateral</td>\n    </tr>\n    <tr>\n      <th>3</th>\n      <td>0xcc5e09e1e5c403b6925fa25f0410388de72ef1b45f30...</td>\n      <td>1676383523</td>\n      <td>2023-02-14 14:05:23</td>\n      <td>0xc0b1f200aa9546ce074397bed7438bb2ec033877</td>\n      <td>gOHM</td>\n      <td>0.663108</td>\n      <td>silo</td>\n      <td>depositCollateral</td>\n    </tr>\n    <tr>\n      <th>4</th>\n      <td>0xf5439a3f94551476ec68db02d6f577a2856d01f45691...</td>\n      <td>1676330339</td>\n      <td>2023-02-13 23:18:59</td>\n      <td>0xc0b1f200aa9546ce074397bed7438bb2ec033877</td>\n      <td>gOHM</td>\n      <td>0.892669</td>\n      <td>silo</td>\n      <td>depositCollateral</td>\n    </tr>\n    <tr>\n      <th>5</th>\n      <td>0x3069fa3e9834fd75b4eaae5d1ef1a7910b112ed68e5f...</td>\n      <td>1676330087</td>\n      <td>2023-02-13 23:14:47</td>\n      <td>0xc0b1f200aa9546ce074397bed7438bb2ec033877</td>\n      <td>gOHM</td>\n      <td>1.087799</td>\n      <td>silo</td>\n      <td>depositCollateral</td>\n    </tr>\n    <tr>\n      <th>6</th>\n      <td>0x17d879ec97730987652b5bcb00aaf6115b7dd232aaef...</td>\n      <td>1676292887</td>\n      <td>2023-02-13 12:54:47</td>\n      <td>0xc0b1f200aa9546ce074397bed7438bb2ec033877</td>\n      <td>gOHM</td>\n      <td>1.812154</td>\n      <td>silo</td>\n      <td>depositCollateral</td>\n    </tr>\n    <tr>\n      <th>7</th>\n      <td>0xff978d5e58c65cbc9d73fbf58f44166724c2db0f0706...</td>\n      <td>1676069891</td>\n      <td>2023-02-10 22:58:11</td>\n      <td>0xa7daeb7fc210f934508c8c7ce833a2cdd6630fb3</td>\n      <td>gOHM</td>\n      <td>0.137814</td>\n      <td>silo</td>\n      <td>depositCollateral</td>\n    </tr>\n    <tr>\n      <th>8</th>\n      <td>0x669ce641c8adcf855d5ea4fedda6b52fc63795fd0dd6...</td>\n      <td>1675938899</td>\n      <td>2023-02-09 10:34:59</td>\n      <td>0x51bc3dd10a9ee4946f961038cf5d50057e49eb77</td>\n      <td>gOHM</td>\n      <td>9.990000</td>\n      <td>silo</td>\n      <td>depositCollateral</td>\n    </tr>\n    <tr>\n      <th>9</th>\n      <td>0x204aee0831212791916d6ed3a2c24b5ac2a474743713...</td>\n      <td>1675923587</td>\n      <td>2023-02-09 06:19:47</td>\n      <td>0xb0399dac8f4d4100b49b2a7b3873481114229d18</td>\n      <td>gOHM</td>\n      <td>119.000000</td>\n      <td>silo</td>\n      <td>depositCollateral</td>\n    </tr>\n  </tbody>\n</table>\n</div>"
     },
     "execution_count": 1034,
     "metadata": {},
     "output_type": "execute_result"
    }
   ],
   "source": [
    "siloDepositsDbPreMerge = db.query(\n",
    "    \"select distinct\"\n",
    "    \" transaction_hash transaction_id \"\n",
    "    \", transaction_timestamp transaction_timestamp \"\n",
    "    \", dateTime \"\n",
    "    \", transaction_account_id transaction_from \"\n",
    "    \", transaction_asset_symbol asset_symbol \"\n",
    "    \", transactionReadableAmount ReadableAmount \"\n",
    "    \"from siloDepositEventsDbTimedClean \"\n",
    ").df()\n",
    "siloDepositsDbPreMerge['protocol'] = 'silo'\n",
    "siloDepositsDbPreMerge['action'] = 'depositCollateral'\n",
    "siloDepositsDbPreMerge.head(10)\n"
   ],
   "metadata": {
    "collapsed": false
   }
  },
  {
   "cell_type": "markdown",
   "source": [
    "DONT FORGET VESTA WHEN IT GETS FIXED"
   ],
   "metadata": {
    "collapsed": false
   }
  },
  {
   "cell_type": "code",
   "execution_count": 1035,
   "outputs": [
    {
     "data": {
      "text/plain": "                                        transaction_id  transaction_timestamp  \\\n0    0xecd6140bbb896413a25d34ca87f5503b56c444f1e582...             1676673263   \n1    0x54cd3f5374780bceaffae0661e2688eeca47df22b8aa...             1676555939   \n2    0xe5163797f0922e4bded89126a213296a8c3d270a39e2...             1676383883   \n3    0xcc5e09e1e5c403b6925fa25f0410388de72ef1b45f30...             1676383523   \n4    0xf5439a3f94551476ec68db02d6f577a2856d01f45691...             1676330339   \n..                                                 ...                    ...   \n237  0xf79086c46e8db29afdfa2f26bc6f6e4f4ea9a58cdce3...             1675625747   \n238  0x2b4448fd953c5accbab7d852020be209da0f5eb83071...             1675381655   \n239  0x06806270acee99df1ef398d1c7e82340e1451c9bb50f...             1673463803   \n240  0x435c724feefb06c11e0c6166057452856d25685b4b97...             1671407015   \n241  0xad663fb0b26d0ed66a30858c29994a1865e1eeab44e2...             1673230631   \n\n               dateTime                            transaction_from  \\\n0   2023-02-17 22:34:23  0xd33e76d21d32c21811593ae54e38f68df0cfe8ed   \n1   2023-02-16 13:58:59  0xee95e4cf086fc80df7ae0f39dfc9ea53a3eaadcb   \n2   2023-02-14 14:11:23  0xc0b1f200aa9546ce074397bed7438bb2ec033877   \n3   2023-02-14 14:05:23  0xc0b1f200aa9546ce074397bed7438bb2ec033877   \n4   2023-02-13 23:18:59  0xc0b1f200aa9546ce074397bed7438bb2ec033877   \n..                  ...                                         ...   \n237 2023-02-05 19:35:47  0x46535cbc3fa574c32ea392d4f89c518290597072   \n238 2023-02-02 23:47:35  0xc0e0de939f26e71683452467942aff455ca153e3   \n239 2023-01-11 19:03:23  0x440c8ab91ba7c8763b3d9b3357dc1c0d13a148aa   \n240 2022-12-18 23:43:35  0x0561a78021d8966ddd20c28c6c4318d8675ee1f0   \n241 2023-01-09 02:17:11  0x25fdda95197f804316f5ba8dbb66ac173ee19981   \n\n    asset_symbol  ReadableAmount protocol             action  \n0           gOHM       48.922199     silo  depositCollateral  \n1           gOHM       50.749992     silo  depositCollateral  \n2           gOHM        0.180346     silo  depositCollateral  \n3           gOHM        0.663108     silo  depositCollateral  \n4           gOHM        0.892669     silo  depositCollateral  \n..           ...             ...      ...                ...  \n237         gOHM       28.311549     Frax  depositCollateral  \n238         gOHM        5.440000     Frax  depositCollateral  \n239         gOHM        1.111000     Frax  depositCollateral  \n240         gOHM        3.962751     Frax  depositCollateral  \n241         gOHM        0.579536     Frax  depositCollateral  \n\n[275 rows x 8 columns]",
      "text/html": "<div>\n<style scoped>\n    .dataframe tbody tr th:only-of-type {\n        vertical-align: middle;\n    }\n\n    .dataframe tbody tr th {\n        vertical-align: top;\n    }\n\n    .dataframe thead th {\n        text-align: right;\n    }\n</style>\n<table border=\"1\" class=\"dataframe\">\n  <thead>\n    <tr style=\"text-align: right;\">\n      <th></th>\n      <th>transaction_id</th>\n      <th>transaction_timestamp</th>\n      <th>dateTime</th>\n      <th>transaction_from</th>\n      <th>asset_symbol</th>\n      <th>ReadableAmount</th>\n      <th>protocol</th>\n      <th>action</th>\n    </tr>\n  </thead>\n  <tbody>\n    <tr>\n      <th>0</th>\n      <td>0xecd6140bbb896413a25d34ca87f5503b56c444f1e582...</td>\n      <td>1676673263</td>\n      <td>2023-02-17 22:34:23</td>\n      <td>0xd33e76d21d32c21811593ae54e38f68df0cfe8ed</td>\n      <td>gOHM</td>\n      <td>48.922199</td>\n      <td>silo</td>\n      <td>depositCollateral</td>\n    </tr>\n    <tr>\n      <th>1</th>\n      <td>0x54cd3f5374780bceaffae0661e2688eeca47df22b8aa...</td>\n      <td>1676555939</td>\n      <td>2023-02-16 13:58:59</td>\n      <td>0xee95e4cf086fc80df7ae0f39dfc9ea53a3eaadcb</td>\n      <td>gOHM</td>\n      <td>50.749992</td>\n      <td>silo</td>\n      <td>depositCollateral</td>\n    </tr>\n    <tr>\n      <th>2</th>\n      <td>0xe5163797f0922e4bded89126a213296a8c3d270a39e2...</td>\n      <td>1676383883</td>\n      <td>2023-02-14 14:11:23</td>\n      <td>0xc0b1f200aa9546ce074397bed7438bb2ec033877</td>\n      <td>gOHM</td>\n      <td>0.180346</td>\n      <td>silo</td>\n      <td>depositCollateral</td>\n    </tr>\n    <tr>\n      <th>3</th>\n      <td>0xcc5e09e1e5c403b6925fa25f0410388de72ef1b45f30...</td>\n      <td>1676383523</td>\n      <td>2023-02-14 14:05:23</td>\n      <td>0xc0b1f200aa9546ce074397bed7438bb2ec033877</td>\n      <td>gOHM</td>\n      <td>0.663108</td>\n      <td>silo</td>\n      <td>depositCollateral</td>\n    </tr>\n    <tr>\n      <th>4</th>\n      <td>0xf5439a3f94551476ec68db02d6f577a2856d01f45691...</td>\n      <td>1676330339</td>\n      <td>2023-02-13 23:18:59</td>\n      <td>0xc0b1f200aa9546ce074397bed7438bb2ec033877</td>\n      <td>gOHM</td>\n      <td>0.892669</td>\n      <td>silo</td>\n      <td>depositCollateral</td>\n    </tr>\n    <tr>\n      <th>...</th>\n      <td>...</td>\n      <td>...</td>\n      <td>...</td>\n      <td>...</td>\n      <td>...</td>\n      <td>...</td>\n      <td>...</td>\n      <td>...</td>\n    </tr>\n    <tr>\n      <th>237</th>\n      <td>0xf79086c46e8db29afdfa2f26bc6f6e4f4ea9a58cdce3...</td>\n      <td>1675625747</td>\n      <td>2023-02-05 19:35:47</td>\n      <td>0x46535cbc3fa574c32ea392d4f89c518290597072</td>\n      <td>gOHM</td>\n      <td>28.311549</td>\n      <td>Frax</td>\n      <td>depositCollateral</td>\n    </tr>\n    <tr>\n      <th>238</th>\n      <td>0x2b4448fd953c5accbab7d852020be209da0f5eb83071...</td>\n      <td>1675381655</td>\n      <td>2023-02-02 23:47:35</td>\n      <td>0xc0e0de939f26e71683452467942aff455ca153e3</td>\n      <td>gOHM</td>\n      <td>5.440000</td>\n      <td>Frax</td>\n      <td>depositCollateral</td>\n    </tr>\n    <tr>\n      <th>239</th>\n      <td>0x06806270acee99df1ef398d1c7e82340e1451c9bb50f...</td>\n      <td>1673463803</td>\n      <td>2023-01-11 19:03:23</td>\n      <td>0x440c8ab91ba7c8763b3d9b3357dc1c0d13a148aa</td>\n      <td>gOHM</td>\n      <td>1.111000</td>\n      <td>Frax</td>\n      <td>depositCollateral</td>\n    </tr>\n    <tr>\n      <th>240</th>\n      <td>0x435c724feefb06c11e0c6166057452856d25685b4b97...</td>\n      <td>1671407015</td>\n      <td>2022-12-18 23:43:35</td>\n      <td>0x0561a78021d8966ddd20c28c6c4318d8675ee1f0</td>\n      <td>gOHM</td>\n      <td>3.962751</td>\n      <td>Frax</td>\n      <td>depositCollateral</td>\n    </tr>\n    <tr>\n      <th>241</th>\n      <td>0xad663fb0b26d0ed66a30858c29994a1865e1eeab44e2...</td>\n      <td>1673230631</td>\n      <td>2023-01-09 02:17:11</td>\n      <td>0x25fdda95197f804316f5ba8dbb66ac173ee19981</td>\n      <td>gOHM</td>\n      <td>0.579536</td>\n      <td>Frax</td>\n      <td>depositCollateral</td>\n    </tr>\n  </tbody>\n</table>\n<p>275 rows × 8 columns</p>\n</div>"
     },
     "execution_count": 1035,
     "metadata": {},
     "output_type": "execute_result"
    }
   ],
   "source": [
    "gOHMCollateralDeposits = pd.concat([siloDepositsDbPreMerge,fraxDepositsDbPreMerge])\n",
    "gOHMCollateralDeposits.head(1000)"
   ],
   "metadata": {
    "collapsed": false
   }
  },
  {
   "cell_type": "code",
   "execution_count": 1036,
   "outputs": [
    {
     "name": "stdout",
     "output_type": "stream",
     "text": [
      "D:\\Dropbox\\Documents\\Edgecaser LLC\\Projects\\Olympus\\Econohmetrics\\gohmAsStablecoinCollateral/data/gOHMCollateralDeposits_piped.csv file saved, 275  records at 2023-02-19 22:51:27.094452\n"
     ]
    }
   ],
   "source": [
    "gOHMCollateralDepositsLength = len(gOHMCollateralDeposits)\n",
    "path =file+'/gOHMCollateralDeposits.csv'\n",
    "gOHMCollateralDeposits.to_csv(path, index = False)\n",
    "\n",
    "path =file+'/gOHMCollateralDeposits_piped.csv'\n",
    "gOHMCollateralDeposits.to_csv(path, index = False, sep='|')\n",
    "\n",
    "print(path, 'file saved,', gOHMCollateralDepositsLength,' records at', (dt.datetime.now()) )"
   ],
   "metadata": {
    "collapsed": false
   }
  },
  {
   "cell_type": "code",
   "execution_count": 1037,
   "outputs": [],
   "source": [
    "#ALL WITHDRAW EVENTS"
   ],
   "metadata": {
    "collapsed": false
   }
  },
  {
   "cell_type": "code",
   "execution_count": 1042,
   "outputs": [
    {
     "data": {
      "text/plain": "                                        transaction_id  transaction_timestamp  \\\n0    0xca92cec6cfb9ea2c2687f2f2ebe9b9e172708db2e8ad...             1671280103   \n1    0x0174fee4792718bba39e21032495709b16a0a69d326d...             1671221507   \n2    0x9e2127611c544f0a039cf02e3215b1a9386122eabfc3...             1671220523   \n3    0xbd38fb78f3d80b35eea7e709f7d05540a5e7dffb7114...             1671218123   \n4    0x9fc79141c68c74624c40d7f265b03469bb351087f040...             1671200687   \n..                                                 ...                    ...   \n132  0x147ad8ff181623a8569f07f84ac4538d3f85aa74761b...             1674061211   \n133  0xf3fea8b4ca84b5579566f5c0e117c0afbd5b9bf6a2c3...             1672535579   \n134  0x7060039897bd7b553401d3a98d76b101b548562825f6...             1671632807   \n135  0xb4453e19c0fd998a9d0a09e119ee09dba38828b503ac...             1671591707   \n136  0x33de61df37e83e86f20ca6c1b245c753e415d1be7441...             1674765851   \n\n               dateTime                            transaction_from  \\\n0   2022-12-17 12:28:23  0x0561a78021d8966ddd20c28c6c4318d8675ee1f0   \n1   2022-12-16 20:11:47  0x0561a78021d8966ddd20c28c6c4318d8675ee1f0   \n2   2022-12-16 19:55:23  0x0561a78021d8966ddd20c28c6c4318d8675ee1f0   \n3   2022-12-16 19:15:23  0x0561a78021d8966ddd20c28c6c4318d8675ee1f0   \n4   2022-12-16 14:24:47  0x0493bcca897a2248ae3cd4c66aea90dbfc7e13c6   \n..                  ...                                         ...   \n132 2023-01-18 17:00:11  0xc0e0de939f26e71683452467942aff455ca153e3   \n133 2023-01-01 01:12:59  0xffbd7b73e7b9e84e719f08082de6f3a39a12b862   \n134 2022-12-21 14:26:47  0x0493bcca897a2248ae3cd4c66aea90dbfc7e13c6   \n135 2022-12-21 03:01:47  0x6a7dbffd83c6808651223efcaf7ea88161290e2b   \n136 2023-01-26 20:44:11  0xe2495bc3e9d5b631112982541afe07f543def36d   \n\n    asset_symbol  ReadableAmount protocol              action  \n0           gOHM       60.000000     Frax  withdrawCollateral  \n1           gOHM        5.000000     Frax  withdrawCollateral  \n2           gOHM        2.000000     Frax  withdrawCollateral  \n3           gOHM       20.000000     Frax  withdrawCollateral  \n4           gOHM       50.014515     Frax  withdrawCollateral  \n..           ...             ...      ...                 ...  \n132         gOHM       25.000000     Frax  withdrawCollateral  \n133         gOHM       65.553667     Frax  withdrawCollateral  \n134         gOHM       50.000007     Frax  withdrawCollateral  \n135         gOHM        7.519936     Frax  withdrawCollateral  \n136         gOHM        0.491112     Frax  withdrawCollateral  \n\n[137 rows x 8 columns]",
      "text/html": "<div>\n<style scoped>\n    .dataframe tbody tr th:only-of-type {\n        vertical-align: middle;\n    }\n\n    .dataframe tbody tr th {\n        vertical-align: top;\n    }\n\n    .dataframe thead th {\n        text-align: right;\n    }\n</style>\n<table border=\"1\" class=\"dataframe\">\n  <thead>\n    <tr style=\"text-align: right;\">\n      <th></th>\n      <th>transaction_id</th>\n      <th>transaction_timestamp</th>\n      <th>dateTime</th>\n      <th>transaction_from</th>\n      <th>asset_symbol</th>\n      <th>ReadableAmount</th>\n      <th>protocol</th>\n      <th>action</th>\n    </tr>\n  </thead>\n  <tbody>\n    <tr>\n      <th>0</th>\n      <td>0xca92cec6cfb9ea2c2687f2f2ebe9b9e172708db2e8ad...</td>\n      <td>1671280103</td>\n      <td>2022-12-17 12:28:23</td>\n      <td>0x0561a78021d8966ddd20c28c6c4318d8675ee1f0</td>\n      <td>gOHM</td>\n      <td>60.000000</td>\n      <td>Frax</td>\n      <td>withdrawCollateral</td>\n    </tr>\n    <tr>\n      <th>1</th>\n      <td>0x0174fee4792718bba39e21032495709b16a0a69d326d...</td>\n      <td>1671221507</td>\n      <td>2022-12-16 20:11:47</td>\n      <td>0x0561a78021d8966ddd20c28c6c4318d8675ee1f0</td>\n      <td>gOHM</td>\n      <td>5.000000</td>\n      <td>Frax</td>\n      <td>withdrawCollateral</td>\n    </tr>\n    <tr>\n      <th>2</th>\n      <td>0x9e2127611c544f0a039cf02e3215b1a9386122eabfc3...</td>\n      <td>1671220523</td>\n      <td>2022-12-16 19:55:23</td>\n      <td>0x0561a78021d8966ddd20c28c6c4318d8675ee1f0</td>\n      <td>gOHM</td>\n      <td>2.000000</td>\n      <td>Frax</td>\n      <td>withdrawCollateral</td>\n    </tr>\n    <tr>\n      <th>3</th>\n      <td>0xbd38fb78f3d80b35eea7e709f7d05540a5e7dffb7114...</td>\n      <td>1671218123</td>\n      <td>2022-12-16 19:15:23</td>\n      <td>0x0561a78021d8966ddd20c28c6c4318d8675ee1f0</td>\n      <td>gOHM</td>\n      <td>20.000000</td>\n      <td>Frax</td>\n      <td>withdrawCollateral</td>\n    </tr>\n    <tr>\n      <th>4</th>\n      <td>0x9fc79141c68c74624c40d7f265b03469bb351087f040...</td>\n      <td>1671200687</td>\n      <td>2022-12-16 14:24:47</td>\n      <td>0x0493bcca897a2248ae3cd4c66aea90dbfc7e13c6</td>\n      <td>gOHM</td>\n      <td>50.014515</td>\n      <td>Frax</td>\n      <td>withdrawCollateral</td>\n    </tr>\n    <tr>\n      <th>...</th>\n      <td>...</td>\n      <td>...</td>\n      <td>...</td>\n      <td>...</td>\n      <td>...</td>\n      <td>...</td>\n      <td>...</td>\n      <td>...</td>\n    </tr>\n    <tr>\n      <th>132</th>\n      <td>0x147ad8ff181623a8569f07f84ac4538d3f85aa74761b...</td>\n      <td>1674061211</td>\n      <td>2023-01-18 17:00:11</td>\n      <td>0xc0e0de939f26e71683452467942aff455ca153e3</td>\n      <td>gOHM</td>\n      <td>25.000000</td>\n      <td>Frax</td>\n      <td>withdrawCollateral</td>\n    </tr>\n    <tr>\n      <th>133</th>\n      <td>0xf3fea8b4ca84b5579566f5c0e117c0afbd5b9bf6a2c3...</td>\n      <td>1672535579</td>\n      <td>2023-01-01 01:12:59</td>\n      <td>0xffbd7b73e7b9e84e719f08082de6f3a39a12b862</td>\n      <td>gOHM</td>\n      <td>65.553667</td>\n      <td>Frax</td>\n      <td>withdrawCollateral</td>\n    </tr>\n    <tr>\n      <th>134</th>\n      <td>0x7060039897bd7b553401d3a98d76b101b548562825f6...</td>\n      <td>1671632807</td>\n      <td>2022-12-21 14:26:47</td>\n      <td>0x0493bcca897a2248ae3cd4c66aea90dbfc7e13c6</td>\n      <td>gOHM</td>\n      <td>50.000007</td>\n      <td>Frax</td>\n      <td>withdrawCollateral</td>\n    </tr>\n    <tr>\n      <th>135</th>\n      <td>0xb4453e19c0fd998a9d0a09e119ee09dba38828b503ac...</td>\n      <td>1671591707</td>\n      <td>2022-12-21 03:01:47</td>\n      <td>0x6a7dbffd83c6808651223efcaf7ea88161290e2b</td>\n      <td>gOHM</td>\n      <td>7.519936</td>\n      <td>Frax</td>\n      <td>withdrawCollateral</td>\n    </tr>\n    <tr>\n      <th>136</th>\n      <td>0x33de61df37e83e86f20ca6c1b245c753e415d1be7441...</td>\n      <td>1674765851</td>\n      <td>2023-01-26 20:44:11</td>\n      <td>0xe2495bc3e9d5b631112982541afe07f543def36d</td>\n      <td>gOHM</td>\n      <td>0.491112</td>\n      <td>Frax</td>\n      <td>withdrawCollateral</td>\n    </tr>\n  </tbody>\n</table>\n<p>137 rows × 8 columns</p>\n</div>"
     },
     "execution_count": 1042,
     "metadata": {},
     "output_type": "execute_result"
    }
   ],
   "source": [
    "fraxWithdrawsDbPreMerge = db.query(\n",
    "    \"select distinct\"\n",
    "    \" actions_id transaction_id\"\n",
    "    \", actions_timestamp transaction_timestamp\"\n",
    "    \", DateTime dateTime \"\n",
    "    \", actions_root_address transaction_from \"\n",
    "    \", actions_pair_collateral_symbol asset_symbol \"\n",
    "    \", transactionReadableAmount ReadableAmount \"\n",
    "    \"from fraxWithdrawsDbTimed \"\n",
    ").df()\n",
    "fraxWithdrawsDbPreMerge['protocol'] = 'Frax'\n",
    "fraxWithdrawsDbPreMerge['action'] = 'withdrawCollateral'\n",
    "fraxWithdrawsDbPreMerge.head(1000)"
   ],
   "metadata": {
    "collapsed": false
   }
  },
  {
   "cell_type": "code",
   "execution_count": 1043,
   "outputs": [
    {
     "data": {
      "text/plain": "                                       transaction_id  transaction_timestamp  \\\n0   0xf4707edc29622f90030af624d1918ff5ae613cef90d8...             1676474867   \n1   0x85b689883076aa92af0a2356f8e4084610578bb48590...             1676472599   \n2   0xd931b79cfc34df088f325e8adde9122af7ad64a0ba30...             1676391839   \n3   0xd4f7aeb47e1e07903a3e9298762bc164764fffb2f973...             1676381987   \n4   0xc7193a2aa216c65fe82652e85b4adc20a60b274bd070...             1676072123   \n5   0xed87a5e09b9abe135be66d51493eca516d78aaf1d4d5...             1675924055   \n6   0xcfa1e8a102e407470f7cc479576cceab5f872c1a1377...             1675737947   \n7   0xb8682e4d0d5fe1297f21ff66347debdfc75c3956612d...             1674641375   \n8   0xcc9db9a7563b473c4b8e4ca0f4f7fb90ca709b022469...             1673230019   \n9   0x7c24d04318da39f08c7ba4f8d413a487133ce1b1f117...             1671741731   \n10  0x3cf3a5658c3ef1a247ec241370a3abfeb673251eafec...             1670938643   \n11  0xbb87996c54ed5859d905c96b7b43212cdbc74b1c99aa...             1669247351   \n\n              dateTime                            transaction_from  \\\n0  2023-02-15 15:27:47  0x0493bcca897a2248ae3cd4c66aea90dbfc7e13c6   \n1  2023-02-15 14:49:59  0xb0399dac8f4d4100b49b2a7b3873481114229d18   \n2  2023-02-14 16:23:59  0xb0399dac8f4d4100b49b2a7b3873481114229d18   \n3  2023-02-14 13:39:47  0xc0b1f200aa9546ce074397bed7438bb2ec033877   \n4  2023-02-10 23:35:23  0xa7daeb7fc210f934508c8c7ce833a2cdd6630fb3   \n5  2023-02-09 06:27:35  0xb0399dac8f4d4100b49b2a7b3873481114229d18   \n6  2023-02-07 02:45:47  0xd3064611b24eba7a6dbcbc26c1b35dfee1170880   \n7  2023-01-25 10:09:35  0xee1520f94f304e8d551cbf310fe214212e3ca34a   \n8  2023-01-09 02:06:59  0x25fdda95197f804316f5ba8dbb66ac173ee19981   \n9  2022-12-22 20:42:11  0x96035b45bc0d22f0ed11283a91145fb001c48370   \n10 2022-12-13 13:37:23  0x791d1ec51d931186c1d4b80e753b7155dd98f741   \n11 2022-11-23 23:49:11  0x62a4a8f9f5f3aae9ee9cee780285a0d501c12d09   \n\n   asset_symbol  ReadableAmount protocol              action  \n0          gOHM       25.000039     silo  withdrawCollateral  \n1          gOHM       64.393035     silo  withdrawCollateral  \n2          gOHM       36.000000     silo  withdrawCollateral  \n3          gOHM        0.883213     silo  withdrawCollateral  \n4          gOHM        0.137814     silo  withdrawCollateral  \n5          gOHM       19.607121     silo  withdrawCollateral  \n6          gOHM        0.194798     silo  withdrawCollateral  \n7          gOHM       20.000000     silo  withdrawCollateral  \n8          gOHM        2.252766     silo  withdrawCollateral  \n9          gOHM       13.520668     silo  withdrawCollateral  \n10         gOHM        0.020000     silo  withdrawCollateral  \n11         gOHM        0.168240     silo  withdrawCollateral  ",
      "text/html": "<div>\n<style scoped>\n    .dataframe tbody tr th:only-of-type {\n        vertical-align: middle;\n    }\n\n    .dataframe tbody tr th {\n        vertical-align: top;\n    }\n\n    .dataframe thead th {\n        text-align: right;\n    }\n</style>\n<table border=\"1\" class=\"dataframe\">\n  <thead>\n    <tr style=\"text-align: right;\">\n      <th></th>\n      <th>transaction_id</th>\n      <th>transaction_timestamp</th>\n      <th>dateTime</th>\n      <th>transaction_from</th>\n      <th>asset_symbol</th>\n      <th>ReadableAmount</th>\n      <th>protocol</th>\n      <th>action</th>\n    </tr>\n  </thead>\n  <tbody>\n    <tr>\n      <th>0</th>\n      <td>0xf4707edc29622f90030af624d1918ff5ae613cef90d8...</td>\n      <td>1676474867</td>\n      <td>2023-02-15 15:27:47</td>\n      <td>0x0493bcca897a2248ae3cd4c66aea90dbfc7e13c6</td>\n      <td>gOHM</td>\n      <td>25.000039</td>\n      <td>silo</td>\n      <td>withdrawCollateral</td>\n    </tr>\n    <tr>\n      <th>1</th>\n      <td>0x85b689883076aa92af0a2356f8e4084610578bb48590...</td>\n      <td>1676472599</td>\n      <td>2023-02-15 14:49:59</td>\n      <td>0xb0399dac8f4d4100b49b2a7b3873481114229d18</td>\n      <td>gOHM</td>\n      <td>64.393035</td>\n      <td>silo</td>\n      <td>withdrawCollateral</td>\n    </tr>\n    <tr>\n      <th>2</th>\n      <td>0xd931b79cfc34df088f325e8adde9122af7ad64a0ba30...</td>\n      <td>1676391839</td>\n      <td>2023-02-14 16:23:59</td>\n      <td>0xb0399dac8f4d4100b49b2a7b3873481114229d18</td>\n      <td>gOHM</td>\n      <td>36.000000</td>\n      <td>silo</td>\n      <td>withdrawCollateral</td>\n    </tr>\n    <tr>\n      <th>3</th>\n      <td>0xd4f7aeb47e1e07903a3e9298762bc164764fffb2f973...</td>\n      <td>1676381987</td>\n      <td>2023-02-14 13:39:47</td>\n      <td>0xc0b1f200aa9546ce074397bed7438bb2ec033877</td>\n      <td>gOHM</td>\n      <td>0.883213</td>\n      <td>silo</td>\n      <td>withdrawCollateral</td>\n    </tr>\n    <tr>\n      <th>4</th>\n      <td>0xc7193a2aa216c65fe82652e85b4adc20a60b274bd070...</td>\n      <td>1676072123</td>\n      <td>2023-02-10 23:35:23</td>\n      <td>0xa7daeb7fc210f934508c8c7ce833a2cdd6630fb3</td>\n      <td>gOHM</td>\n      <td>0.137814</td>\n      <td>silo</td>\n      <td>withdrawCollateral</td>\n    </tr>\n    <tr>\n      <th>5</th>\n      <td>0xed87a5e09b9abe135be66d51493eca516d78aaf1d4d5...</td>\n      <td>1675924055</td>\n      <td>2023-02-09 06:27:35</td>\n      <td>0xb0399dac8f4d4100b49b2a7b3873481114229d18</td>\n      <td>gOHM</td>\n      <td>19.607121</td>\n      <td>silo</td>\n      <td>withdrawCollateral</td>\n    </tr>\n    <tr>\n      <th>6</th>\n      <td>0xcfa1e8a102e407470f7cc479576cceab5f872c1a1377...</td>\n      <td>1675737947</td>\n      <td>2023-02-07 02:45:47</td>\n      <td>0xd3064611b24eba7a6dbcbc26c1b35dfee1170880</td>\n      <td>gOHM</td>\n      <td>0.194798</td>\n      <td>silo</td>\n      <td>withdrawCollateral</td>\n    </tr>\n    <tr>\n      <th>7</th>\n      <td>0xb8682e4d0d5fe1297f21ff66347debdfc75c3956612d...</td>\n      <td>1674641375</td>\n      <td>2023-01-25 10:09:35</td>\n      <td>0xee1520f94f304e8d551cbf310fe214212e3ca34a</td>\n      <td>gOHM</td>\n      <td>20.000000</td>\n      <td>silo</td>\n      <td>withdrawCollateral</td>\n    </tr>\n    <tr>\n      <th>8</th>\n      <td>0xcc9db9a7563b473c4b8e4ca0f4f7fb90ca709b022469...</td>\n      <td>1673230019</td>\n      <td>2023-01-09 02:06:59</td>\n      <td>0x25fdda95197f804316f5ba8dbb66ac173ee19981</td>\n      <td>gOHM</td>\n      <td>2.252766</td>\n      <td>silo</td>\n      <td>withdrawCollateral</td>\n    </tr>\n    <tr>\n      <th>9</th>\n      <td>0x7c24d04318da39f08c7ba4f8d413a487133ce1b1f117...</td>\n      <td>1671741731</td>\n      <td>2022-12-22 20:42:11</td>\n      <td>0x96035b45bc0d22f0ed11283a91145fb001c48370</td>\n      <td>gOHM</td>\n      <td>13.520668</td>\n      <td>silo</td>\n      <td>withdrawCollateral</td>\n    </tr>\n    <tr>\n      <th>10</th>\n      <td>0x3cf3a5658c3ef1a247ec241370a3abfeb673251eafec...</td>\n      <td>1670938643</td>\n      <td>2022-12-13 13:37:23</td>\n      <td>0x791d1ec51d931186c1d4b80e753b7155dd98f741</td>\n      <td>gOHM</td>\n      <td>0.020000</td>\n      <td>silo</td>\n      <td>withdrawCollateral</td>\n    </tr>\n    <tr>\n      <th>11</th>\n      <td>0xbb87996c54ed5859d905c96b7b43212cdbc74b1c99aa...</td>\n      <td>1669247351</td>\n      <td>2022-11-23 23:49:11</td>\n      <td>0x62a4a8f9f5f3aae9ee9cee780285a0d501c12d09</td>\n      <td>gOHM</td>\n      <td>0.168240</td>\n      <td>silo</td>\n      <td>withdrawCollateral</td>\n    </tr>\n  </tbody>\n</table>\n</div>"
     },
     "execution_count": 1043,
     "metadata": {},
     "output_type": "execute_result"
    }
   ],
   "source": [
    "siloWithdrawsDbPreMerge = db.query(\n",
    "    \"select distinct\"\n",
    "    \" transaction_hash transaction_id \"\n",
    "    \", transaction_timestamp transaction_timestamp \"\n",
    "    \", dateTime \"\n",
    "    \", transaction_account_id transaction_from \"\n",
    "    \", transaction_asset_symbol asset_symbol \"\n",
    "    \", transactionReadableAmount ReadableAmount \"\n",
    "    \"from siloWithdrawEventsDbTimedClean \"\n",
    ").df()\n",
    "siloWithdrawsDbPreMerge['protocol'] = 'silo'\n",
    "siloWithdrawsDbPreMerge['action'] = 'withdrawCollateral'\n",
    "siloWithdrawsDbPreMerge.head(1000)\n"
   ],
   "metadata": {
    "collapsed": false
   }
  },
  {
   "cell_type": "markdown",
   "source": [
    "DONT FORGET VESTA"
   ],
   "metadata": {
    "collapsed": false
   }
  },
  {
   "cell_type": "code",
   "execution_count": 1044,
   "outputs": [
    {
     "data": {
      "text/plain": "                                        transaction_id  transaction_timestamp  \\\n0    0xf4707edc29622f90030af624d1918ff5ae613cef90d8...             1676474867   \n1    0x85b689883076aa92af0a2356f8e4084610578bb48590...             1676472599   \n2    0xd931b79cfc34df088f325e8adde9122af7ad64a0ba30...             1676391839   \n3    0xd4f7aeb47e1e07903a3e9298762bc164764fffb2f973...             1676381987   \n4    0xc7193a2aa216c65fe82652e85b4adc20a60b274bd070...             1676072123   \n..                                                 ...                    ...   \n132  0x147ad8ff181623a8569f07f84ac4538d3f85aa74761b...             1674061211   \n133  0xf3fea8b4ca84b5579566f5c0e117c0afbd5b9bf6a2c3...             1672535579   \n134  0x7060039897bd7b553401d3a98d76b101b548562825f6...             1671632807   \n135  0xb4453e19c0fd998a9d0a09e119ee09dba38828b503ac...             1671591707   \n136  0x33de61df37e83e86f20ca6c1b245c753e415d1be7441...             1674765851   \n\n               dateTime                            transaction_from  \\\n0   2023-02-15 15:27:47  0x0493bcca897a2248ae3cd4c66aea90dbfc7e13c6   \n1   2023-02-15 14:49:59  0xb0399dac8f4d4100b49b2a7b3873481114229d18   \n2   2023-02-14 16:23:59  0xb0399dac8f4d4100b49b2a7b3873481114229d18   \n3   2023-02-14 13:39:47  0xc0b1f200aa9546ce074397bed7438bb2ec033877   \n4   2023-02-10 23:35:23  0xa7daeb7fc210f934508c8c7ce833a2cdd6630fb3   \n..                  ...                                         ...   \n132 2023-01-18 17:00:11  0xc0e0de939f26e71683452467942aff455ca153e3   \n133 2023-01-01 01:12:59  0xffbd7b73e7b9e84e719f08082de6f3a39a12b862   \n134 2022-12-21 14:26:47  0x0493bcca897a2248ae3cd4c66aea90dbfc7e13c6   \n135 2022-12-21 03:01:47  0x6a7dbffd83c6808651223efcaf7ea88161290e2b   \n136 2023-01-26 20:44:11  0xe2495bc3e9d5b631112982541afe07f543def36d   \n\n    asset_symbol  ReadableAmount protocol              action  \n0           gOHM       25.000039     silo  withdrawCollateral  \n1           gOHM       64.393035     silo  withdrawCollateral  \n2           gOHM       36.000000     silo  withdrawCollateral  \n3           gOHM        0.883213     silo  withdrawCollateral  \n4           gOHM        0.137814     silo  withdrawCollateral  \n..           ...             ...      ...                 ...  \n132         gOHM       25.000000     Frax  withdrawCollateral  \n133         gOHM       65.553667     Frax  withdrawCollateral  \n134         gOHM       50.000007     Frax  withdrawCollateral  \n135         gOHM        7.519936     Frax  withdrawCollateral  \n136         gOHM        0.491112     Frax  withdrawCollateral  \n\n[149 rows x 8 columns]",
      "text/html": "<div>\n<style scoped>\n    .dataframe tbody tr th:only-of-type {\n        vertical-align: middle;\n    }\n\n    .dataframe tbody tr th {\n        vertical-align: top;\n    }\n\n    .dataframe thead th {\n        text-align: right;\n    }\n</style>\n<table border=\"1\" class=\"dataframe\">\n  <thead>\n    <tr style=\"text-align: right;\">\n      <th></th>\n      <th>transaction_id</th>\n      <th>transaction_timestamp</th>\n      <th>dateTime</th>\n      <th>transaction_from</th>\n      <th>asset_symbol</th>\n      <th>ReadableAmount</th>\n      <th>protocol</th>\n      <th>action</th>\n    </tr>\n  </thead>\n  <tbody>\n    <tr>\n      <th>0</th>\n      <td>0xf4707edc29622f90030af624d1918ff5ae613cef90d8...</td>\n      <td>1676474867</td>\n      <td>2023-02-15 15:27:47</td>\n      <td>0x0493bcca897a2248ae3cd4c66aea90dbfc7e13c6</td>\n      <td>gOHM</td>\n      <td>25.000039</td>\n      <td>silo</td>\n      <td>withdrawCollateral</td>\n    </tr>\n    <tr>\n      <th>1</th>\n      <td>0x85b689883076aa92af0a2356f8e4084610578bb48590...</td>\n      <td>1676472599</td>\n      <td>2023-02-15 14:49:59</td>\n      <td>0xb0399dac8f4d4100b49b2a7b3873481114229d18</td>\n      <td>gOHM</td>\n      <td>64.393035</td>\n      <td>silo</td>\n      <td>withdrawCollateral</td>\n    </tr>\n    <tr>\n      <th>2</th>\n      <td>0xd931b79cfc34df088f325e8adde9122af7ad64a0ba30...</td>\n      <td>1676391839</td>\n      <td>2023-02-14 16:23:59</td>\n      <td>0xb0399dac8f4d4100b49b2a7b3873481114229d18</td>\n      <td>gOHM</td>\n      <td>36.000000</td>\n      <td>silo</td>\n      <td>withdrawCollateral</td>\n    </tr>\n    <tr>\n      <th>3</th>\n      <td>0xd4f7aeb47e1e07903a3e9298762bc164764fffb2f973...</td>\n      <td>1676381987</td>\n      <td>2023-02-14 13:39:47</td>\n      <td>0xc0b1f200aa9546ce074397bed7438bb2ec033877</td>\n      <td>gOHM</td>\n      <td>0.883213</td>\n      <td>silo</td>\n      <td>withdrawCollateral</td>\n    </tr>\n    <tr>\n      <th>4</th>\n      <td>0xc7193a2aa216c65fe82652e85b4adc20a60b274bd070...</td>\n      <td>1676072123</td>\n      <td>2023-02-10 23:35:23</td>\n      <td>0xa7daeb7fc210f934508c8c7ce833a2cdd6630fb3</td>\n      <td>gOHM</td>\n      <td>0.137814</td>\n      <td>silo</td>\n      <td>withdrawCollateral</td>\n    </tr>\n    <tr>\n      <th>...</th>\n      <td>...</td>\n      <td>...</td>\n      <td>...</td>\n      <td>...</td>\n      <td>...</td>\n      <td>...</td>\n      <td>...</td>\n      <td>...</td>\n    </tr>\n    <tr>\n      <th>132</th>\n      <td>0x147ad8ff181623a8569f07f84ac4538d3f85aa74761b...</td>\n      <td>1674061211</td>\n      <td>2023-01-18 17:00:11</td>\n      <td>0xc0e0de939f26e71683452467942aff455ca153e3</td>\n      <td>gOHM</td>\n      <td>25.000000</td>\n      <td>Frax</td>\n      <td>withdrawCollateral</td>\n    </tr>\n    <tr>\n      <th>133</th>\n      <td>0xf3fea8b4ca84b5579566f5c0e117c0afbd5b9bf6a2c3...</td>\n      <td>1672535579</td>\n      <td>2023-01-01 01:12:59</td>\n      <td>0xffbd7b73e7b9e84e719f08082de6f3a39a12b862</td>\n      <td>gOHM</td>\n      <td>65.553667</td>\n      <td>Frax</td>\n      <td>withdrawCollateral</td>\n    </tr>\n    <tr>\n      <th>134</th>\n      <td>0x7060039897bd7b553401d3a98d76b101b548562825f6...</td>\n      <td>1671632807</td>\n      <td>2022-12-21 14:26:47</td>\n      <td>0x0493bcca897a2248ae3cd4c66aea90dbfc7e13c6</td>\n      <td>gOHM</td>\n      <td>50.000007</td>\n      <td>Frax</td>\n      <td>withdrawCollateral</td>\n    </tr>\n    <tr>\n      <th>135</th>\n      <td>0xb4453e19c0fd998a9d0a09e119ee09dba38828b503ac...</td>\n      <td>1671591707</td>\n      <td>2022-12-21 03:01:47</td>\n      <td>0x6a7dbffd83c6808651223efcaf7ea88161290e2b</td>\n      <td>gOHM</td>\n      <td>7.519936</td>\n      <td>Frax</td>\n      <td>withdrawCollateral</td>\n    </tr>\n    <tr>\n      <th>136</th>\n      <td>0x33de61df37e83e86f20ca6c1b245c753e415d1be7441...</td>\n      <td>1674765851</td>\n      <td>2023-01-26 20:44:11</td>\n      <td>0xe2495bc3e9d5b631112982541afe07f543def36d</td>\n      <td>gOHM</td>\n      <td>0.491112</td>\n      <td>Frax</td>\n      <td>withdrawCollateral</td>\n    </tr>\n  </tbody>\n</table>\n<p>149 rows × 8 columns</p>\n</div>"
     },
     "execution_count": 1044,
     "metadata": {},
     "output_type": "execute_result"
    }
   ],
   "source": [
    "gOHMCollateralWithdrawals = pd.concat([siloWithdrawsDbPreMerge,fraxWithdrawsDbPreMerge])\n",
    "gOHMCollateralWithdrawals.head(1000)"
   ],
   "metadata": {
    "collapsed": false
   }
  },
  {
   "cell_type": "code",
   "execution_count": 1045,
   "outputs": [
    {
     "name": "stdout",
     "output_type": "stream",
     "text": [
      "D:\\Dropbox\\Documents\\Edgecaser LLC\\Projects\\Olympus\\Econohmetrics\\gohmAsStablecoinCollateral/data/gOHMCollateralWithdrawals_piped.csv file saved, 149  records at 2023-02-19 22:53:34.692979\n"
     ]
    }
   ],
   "source": [
    "gOHMCollateralWithdrawalsLength = len(gOHMCollateralWithdrawals)\n",
    "path =file+'/gOHMCollateralDeposits.csv'\n",
    "gOHMCollateralWithdrawals.to_csv(path, index = False)\n",
    "\n",
    "path =file+'/gOHMCollateralWithdrawals_piped.csv'\n",
    "gOHMCollateralWithdrawals.to_csv(path, index = False, sep='|')\n",
    "\n",
    "print(path, 'file saved,', gOHMCollateralWithdrawalsLength,' records at', (dt.datetime.now()) )"
   ],
   "metadata": {
    "collapsed": false
   }
  },
  {
   "cell_type": "code",
   "execution_count": 1006,
   "outputs": [],
   "source": [
    "#BORROWS"
   ],
   "metadata": {
    "collapsed": false
   }
  },
  {
   "cell_type": "code",
   "execution_count": 1051,
   "outputs": [
    {
     "data": {
      "text/plain": "                                      transaction_id  transaction_timestamp  \\\n0  0x08cef0dcfa82fb386ec9948dadfaa9dba0da206c6523...             1671302279   \n1  0x52a22509d8397aec4b08a262c8e50ce0e9e810cc1981...             1671284591   \n2  0x70031de3f701a9ac2d57f53fc400f51a6918cc09a037...             1671223127   \n3  0x91ce97ab7feb2244dbbcc49a2bc94e8859c767eba7eb...             1671213215   \n4  0x0622d462adf7b5db61999e4818580e948de56acee446...             1671212627   \n5  0x0d2211ab696b80c95abfc4a9674049cc5ca962a65512...             1671121715   \n6  0xa983a16f6c1d80c3213e10db6ecaa110d5b2165694d5...             1671058775   \n7  0xa1adc9066c5b6ab4c3065cce6c7a4098192f39f97aeb...             1671058415   \n8  0xeab5c258109dad23c2bac870caad513ecd7a9276236b...             1670940851   \n9  0x56a091abfc08a39e9b81a36c7211c25ba828925a6b82...             1670907155   \n\n             dateTime                            transaction_from  \\\n0 2022-12-17 18:37:59  0x68492881985afd26b04dcc4963ca5128ccd3dd9d   \n1 2022-12-17 13:43:11  0x0561a78021d8966ddd20c28c6c4318d8675ee1f0   \n2 2022-12-16 20:38:47  0x0561a78021d8966ddd20c28c6c4318d8675ee1f0   \n3 2022-12-16 17:53:35  0x0561a78021d8966ddd20c28c6c4318d8675ee1f0   \n4 2022-12-16 17:43:47  0x0561a78021d8966ddd20c28c6c4318d8675ee1f0   \n5 2022-12-15 16:28:35  0x233e3017447e66d91e2cd969233adc5bb0524ec1   \n6 2022-12-14 22:59:35  0xca5df910f3e2226324707efe7fa6d03a0f821353   \n7 2022-12-14 22:53:35  0xca5df910f3e2226324707efe7fa6d03a0f821353   \n8 2022-12-13 14:14:11  0x0561a78021d8966ddd20c28c6c4318d8675ee1f0   \n9 2022-12-13 04:52:35  0xffbd7b73e7b9e84e719f08082de6f3a39a12b862   \n\n  asset_symbol  ReadableAmount protocol            action  \n0         FRAX         60000.0     Frax  borrowStablecoin  \n1         FRAX         10000.0     Frax  borrowStablecoin  \n2         FRAX         12400.0     Frax  borrowStablecoin  \n3         FRAX         15000.0     Frax  borrowStablecoin  \n4         FRAX         20000.0     Frax  borrowStablecoin  \n5         FRAX          3000.0     Frax  borrowStablecoin  \n6         FRAX         67000.0     Frax  borrowStablecoin  \n7         FRAX         83000.0     Frax  borrowStablecoin  \n8         FRAX          5000.0     Frax  borrowStablecoin  \n9         FRAX         69000.0     Frax  borrowStablecoin  ",
      "text/html": "<div>\n<style scoped>\n    .dataframe tbody tr th:only-of-type {\n        vertical-align: middle;\n    }\n\n    .dataframe tbody tr th {\n        vertical-align: top;\n    }\n\n    .dataframe thead th {\n        text-align: right;\n    }\n</style>\n<table border=\"1\" class=\"dataframe\">\n  <thead>\n    <tr style=\"text-align: right;\">\n      <th></th>\n      <th>transaction_id</th>\n      <th>transaction_timestamp</th>\n      <th>dateTime</th>\n      <th>transaction_from</th>\n      <th>asset_symbol</th>\n      <th>ReadableAmount</th>\n      <th>protocol</th>\n      <th>action</th>\n    </tr>\n  </thead>\n  <tbody>\n    <tr>\n      <th>0</th>\n      <td>0x08cef0dcfa82fb386ec9948dadfaa9dba0da206c6523...</td>\n      <td>1671302279</td>\n      <td>2022-12-17 18:37:59</td>\n      <td>0x68492881985afd26b04dcc4963ca5128ccd3dd9d</td>\n      <td>FRAX</td>\n      <td>60000.0</td>\n      <td>Frax</td>\n      <td>borrowStablecoin</td>\n    </tr>\n    <tr>\n      <th>1</th>\n      <td>0x52a22509d8397aec4b08a262c8e50ce0e9e810cc1981...</td>\n      <td>1671284591</td>\n      <td>2022-12-17 13:43:11</td>\n      <td>0x0561a78021d8966ddd20c28c6c4318d8675ee1f0</td>\n      <td>FRAX</td>\n      <td>10000.0</td>\n      <td>Frax</td>\n      <td>borrowStablecoin</td>\n    </tr>\n    <tr>\n      <th>2</th>\n      <td>0x70031de3f701a9ac2d57f53fc400f51a6918cc09a037...</td>\n      <td>1671223127</td>\n      <td>2022-12-16 20:38:47</td>\n      <td>0x0561a78021d8966ddd20c28c6c4318d8675ee1f0</td>\n      <td>FRAX</td>\n      <td>12400.0</td>\n      <td>Frax</td>\n      <td>borrowStablecoin</td>\n    </tr>\n    <tr>\n      <th>3</th>\n      <td>0x91ce97ab7feb2244dbbcc49a2bc94e8859c767eba7eb...</td>\n      <td>1671213215</td>\n      <td>2022-12-16 17:53:35</td>\n      <td>0x0561a78021d8966ddd20c28c6c4318d8675ee1f0</td>\n      <td>FRAX</td>\n      <td>15000.0</td>\n      <td>Frax</td>\n      <td>borrowStablecoin</td>\n    </tr>\n    <tr>\n      <th>4</th>\n      <td>0x0622d462adf7b5db61999e4818580e948de56acee446...</td>\n      <td>1671212627</td>\n      <td>2022-12-16 17:43:47</td>\n      <td>0x0561a78021d8966ddd20c28c6c4318d8675ee1f0</td>\n      <td>FRAX</td>\n      <td>20000.0</td>\n      <td>Frax</td>\n      <td>borrowStablecoin</td>\n    </tr>\n    <tr>\n      <th>5</th>\n      <td>0x0d2211ab696b80c95abfc4a9674049cc5ca962a65512...</td>\n      <td>1671121715</td>\n      <td>2022-12-15 16:28:35</td>\n      <td>0x233e3017447e66d91e2cd969233adc5bb0524ec1</td>\n      <td>FRAX</td>\n      <td>3000.0</td>\n      <td>Frax</td>\n      <td>borrowStablecoin</td>\n    </tr>\n    <tr>\n      <th>6</th>\n      <td>0xa983a16f6c1d80c3213e10db6ecaa110d5b2165694d5...</td>\n      <td>1671058775</td>\n      <td>2022-12-14 22:59:35</td>\n      <td>0xca5df910f3e2226324707efe7fa6d03a0f821353</td>\n      <td>FRAX</td>\n      <td>67000.0</td>\n      <td>Frax</td>\n      <td>borrowStablecoin</td>\n    </tr>\n    <tr>\n      <th>7</th>\n      <td>0xa1adc9066c5b6ab4c3065cce6c7a4098192f39f97aeb...</td>\n      <td>1671058415</td>\n      <td>2022-12-14 22:53:35</td>\n      <td>0xca5df910f3e2226324707efe7fa6d03a0f821353</td>\n      <td>FRAX</td>\n      <td>83000.0</td>\n      <td>Frax</td>\n      <td>borrowStablecoin</td>\n    </tr>\n    <tr>\n      <th>8</th>\n      <td>0xeab5c258109dad23c2bac870caad513ecd7a9276236b...</td>\n      <td>1670940851</td>\n      <td>2022-12-13 14:14:11</td>\n      <td>0x0561a78021d8966ddd20c28c6c4318d8675ee1f0</td>\n      <td>FRAX</td>\n      <td>5000.0</td>\n      <td>Frax</td>\n      <td>borrowStablecoin</td>\n    </tr>\n    <tr>\n      <th>9</th>\n      <td>0x56a091abfc08a39e9b81a36c7211c25ba828925a6b82...</td>\n      <td>1670907155</td>\n      <td>2022-12-13 04:52:35</td>\n      <td>0xffbd7b73e7b9e84e719f08082de6f3a39a12b862</td>\n      <td>FRAX</td>\n      <td>69000.0</td>\n      <td>Frax</td>\n      <td>borrowStablecoin</td>\n    </tr>\n  </tbody>\n</table>\n</div>"
     },
     "execution_count": 1051,
     "metadata": {},
     "output_type": "execute_result"
    }
   ],
   "source": [
    "fraxBorrowsDbPreMerge = db.query(\n",
    "    \"select distinct\"\n",
    "    \" actions_id transaction_id\"\n",
    "    \", actions_timestamp transaction_timestamp\"\n",
    "    \", DateTime as dateTime \"\n",
    "    \", actions_root_address transaction_from \"\n",
    "    \", 'FRAX' asset_symbol \"\n",
    "    \", transactionReadableAmount ReadableAmount \"\n",
    "    \"from fraxBorrowsDbTimed \"\n",
    ").df()\n",
    "fraxBorrowsDbPreMerge['protocol'] = 'Frax'\n",
    "fraxBorrowsDbPreMerge['action'] = 'borrowStablecoin'\n",
    "fraxBorrowsDbPreMerge.head(10)"
   ],
   "metadata": {
    "collapsed": false
   }
  },
  {
   "cell_type": "code",
   "execution_count": 1052,
   "outputs": [
    {
     "data": {
      "text/plain": "                                      transaction_id  transaction_timestamp  \\\n0  0x66fe10ed6dcb8b83bdb5b0c46cd321060734b9063bd5...             1676673563   \n1  0xd9329978828295f4f091eaa77a6d8c388c5616bbe92c...             1676590307   \n2  0x3b0f26e10c63a71c916e8a68bd1889d9bab38aeb62d7...             1676556011   \n3  0xfa292276fc71f90e29ca90a7b8a2be9a4094f459fb99...             1676472911   \n4  0xd5dc7147192591c7d19856d12e9278928932a5921653...             1676383655   \n5  0x39c11cb01e34d9f8ca55a8820482eaf8a217033cdb6f...             1676375459   \n6  0xf1d5b9c7f23bd9935061e4d08734cbfba9b9a53bacd5...             1676370563   \n7  0x97811f7e7b7d202797093d44047ed986054be3dd6120...             1676330255   \n8  0x3dba2dd3c913b399164efd71db73121c9c94c0096139...             1676328371   \n9  0xbcfc05398a874e98a80e823ffb016c119b06c7b07a7c...             1676292983   \n\n             dateTime                            transaction_from  \\\n0 2023-02-17 22:39:23  0xd33e76d21d32c21811593ae54e38f68df0cfe8ed   \n1 2023-02-16 23:31:47  0x96035b45bc0d22f0ed11283a91145fb001c48370   \n2 2023-02-16 14:00:11  0xee95e4cf086fc80df7ae0f39dfc9ea53a3eaadcb   \n3 2023-02-15 14:55:11  0x16ff8ad104fa6195260a6d4a3f311c5f120df77d   \n4 2023-02-14 14:07:35  0xc0b1f200aa9546ce074397bed7438bb2ec033877   \n5 2023-02-14 11:50:59  0x16ff8ad104fa6195260a6d4a3f311c5f120df77d   \n6 2023-02-14 10:29:23  0x339fd7c17ce670e7821f2f2ee94ddd49771483da   \n7 2023-02-13 23:17:35  0xc0b1f200aa9546ce074397bed7438bb2ec033877   \n8 2023-02-13 22:46:11  0x46535cbc3fa574c32ea392d4f89c518290597072   \n9 2023-02-13 12:56:23  0xc0b1f200aa9546ce074397bed7438bb2ec033877   \n\n  asset_symbol  ReadableAmount protocol            action  \n0          XAI    60500.000000     silo  borrowStablecoin  \n1          XAI        0.600000     silo  borrowStablecoin  \n2          XAI   100000.000000     silo  borrowStablecoin  \n3          XAI     3000.000000     silo  borrowStablecoin  \n4          XAI     1000.000000     silo  borrowStablecoin  \n5          XAI        1.920000     silo  borrowStablecoin  \n6          XAI     4000.000000     silo  borrowStablecoin  \n7          XAI     2457.516074     silo  borrowStablecoin  \n8          XAI       26.400000     silo  borrowStablecoin  \n9          XAI     3090.000000     silo  borrowStablecoin  ",
      "text/html": "<div>\n<style scoped>\n    .dataframe tbody tr th:only-of-type {\n        vertical-align: middle;\n    }\n\n    .dataframe tbody tr th {\n        vertical-align: top;\n    }\n\n    .dataframe thead th {\n        text-align: right;\n    }\n</style>\n<table border=\"1\" class=\"dataframe\">\n  <thead>\n    <tr style=\"text-align: right;\">\n      <th></th>\n      <th>transaction_id</th>\n      <th>transaction_timestamp</th>\n      <th>dateTime</th>\n      <th>transaction_from</th>\n      <th>asset_symbol</th>\n      <th>ReadableAmount</th>\n      <th>protocol</th>\n      <th>action</th>\n    </tr>\n  </thead>\n  <tbody>\n    <tr>\n      <th>0</th>\n      <td>0x66fe10ed6dcb8b83bdb5b0c46cd321060734b9063bd5...</td>\n      <td>1676673563</td>\n      <td>2023-02-17 22:39:23</td>\n      <td>0xd33e76d21d32c21811593ae54e38f68df0cfe8ed</td>\n      <td>XAI</td>\n      <td>60500.000000</td>\n      <td>silo</td>\n      <td>borrowStablecoin</td>\n    </tr>\n    <tr>\n      <th>1</th>\n      <td>0xd9329978828295f4f091eaa77a6d8c388c5616bbe92c...</td>\n      <td>1676590307</td>\n      <td>2023-02-16 23:31:47</td>\n      <td>0x96035b45bc0d22f0ed11283a91145fb001c48370</td>\n      <td>XAI</td>\n      <td>0.600000</td>\n      <td>silo</td>\n      <td>borrowStablecoin</td>\n    </tr>\n    <tr>\n      <th>2</th>\n      <td>0x3b0f26e10c63a71c916e8a68bd1889d9bab38aeb62d7...</td>\n      <td>1676556011</td>\n      <td>2023-02-16 14:00:11</td>\n      <td>0xee95e4cf086fc80df7ae0f39dfc9ea53a3eaadcb</td>\n      <td>XAI</td>\n      <td>100000.000000</td>\n      <td>silo</td>\n      <td>borrowStablecoin</td>\n    </tr>\n    <tr>\n      <th>3</th>\n      <td>0xfa292276fc71f90e29ca90a7b8a2be9a4094f459fb99...</td>\n      <td>1676472911</td>\n      <td>2023-02-15 14:55:11</td>\n      <td>0x16ff8ad104fa6195260a6d4a3f311c5f120df77d</td>\n      <td>XAI</td>\n      <td>3000.000000</td>\n      <td>silo</td>\n      <td>borrowStablecoin</td>\n    </tr>\n    <tr>\n      <th>4</th>\n      <td>0xd5dc7147192591c7d19856d12e9278928932a5921653...</td>\n      <td>1676383655</td>\n      <td>2023-02-14 14:07:35</td>\n      <td>0xc0b1f200aa9546ce074397bed7438bb2ec033877</td>\n      <td>XAI</td>\n      <td>1000.000000</td>\n      <td>silo</td>\n      <td>borrowStablecoin</td>\n    </tr>\n    <tr>\n      <th>5</th>\n      <td>0x39c11cb01e34d9f8ca55a8820482eaf8a217033cdb6f...</td>\n      <td>1676375459</td>\n      <td>2023-02-14 11:50:59</td>\n      <td>0x16ff8ad104fa6195260a6d4a3f311c5f120df77d</td>\n      <td>XAI</td>\n      <td>1.920000</td>\n      <td>silo</td>\n      <td>borrowStablecoin</td>\n    </tr>\n    <tr>\n      <th>6</th>\n      <td>0xf1d5b9c7f23bd9935061e4d08734cbfba9b9a53bacd5...</td>\n      <td>1676370563</td>\n      <td>2023-02-14 10:29:23</td>\n      <td>0x339fd7c17ce670e7821f2f2ee94ddd49771483da</td>\n      <td>XAI</td>\n      <td>4000.000000</td>\n      <td>silo</td>\n      <td>borrowStablecoin</td>\n    </tr>\n    <tr>\n      <th>7</th>\n      <td>0x97811f7e7b7d202797093d44047ed986054be3dd6120...</td>\n      <td>1676330255</td>\n      <td>2023-02-13 23:17:35</td>\n      <td>0xc0b1f200aa9546ce074397bed7438bb2ec033877</td>\n      <td>XAI</td>\n      <td>2457.516074</td>\n      <td>silo</td>\n      <td>borrowStablecoin</td>\n    </tr>\n    <tr>\n      <th>8</th>\n      <td>0x3dba2dd3c913b399164efd71db73121c9c94c0096139...</td>\n      <td>1676328371</td>\n      <td>2023-02-13 22:46:11</td>\n      <td>0x46535cbc3fa574c32ea392d4f89c518290597072</td>\n      <td>XAI</td>\n      <td>26.400000</td>\n      <td>silo</td>\n      <td>borrowStablecoin</td>\n    </tr>\n    <tr>\n      <th>9</th>\n      <td>0xbcfc05398a874e98a80e823ffb016c119b06c7b07a7c...</td>\n      <td>1676292983</td>\n      <td>2023-02-13 12:56:23</td>\n      <td>0xc0b1f200aa9546ce074397bed7438bb2ec033877</td>\n      <td>XAI</td>\n      <td>3090.000000</td>\n      <td>silo</td>\n      <td>borrowStablecoin</td>\n    </tr>\n  </tbody>\n</table>\n</div>"
     },
     "execution_count": 1052,
     "metadata": {},
     "output_type": "execute_result"
    }
   ],
   "source": [
    "siloBorrowsDbPreMerge = db.query(\n",
    "    \"select distinct\"\n",
    "    \" transaction_hash transaction_id \"\n",
    "    \", transaction_timestamp transaction_timestamp \"\n",
    "    \", dateTime \"\n",
    "    \", transaction_account_id transaction_from \"\n",
    "    \", 'XAI' asset_symbol \"\n",
    "    \", transactionReadableAmount ReadableAmount \"\n",
    "    \"from siloBorrowEventsDbTimedClean \"\n",
    ").df()\n",
    "siloBorrowsDbPreMerge['protocol'] = 'silo'\n",
    "siloBorrowsDbPreMerge['action'] = 'borrowStablecoin'\n",
    "siloBorrowsDbPreMerge.head(10)"
   ],
   "metadata": {
    "collapsed": false
   }
  },
  {
   "cell_type": "markdown",
   "source": [
    "DONT FORGET VESTA"
   ],
   "metadata": {
    "collapsed": false
   }
  },
  {
   "cell_type": "code",
   "execution_count": 1053,
   "outputs": [
    {
     "data": {
      "text/plain": "                                        transaction_id  transaction_timestamp  \\\n0    0x66fe10ed6dcb8b83bdb5b0c46cd321060734b9063bd5...             1676673563   \n1    0xd9329978828295f4f091eaa77a6d8c388c5616bbe92c...             1676590307   \n2    0x3b0f26e10c63a71c916e8a68bd1889d9bab38aeb62d7...             1676556011   \n3    0xfa292276fc71f90e29ca90a7b8a2be9a4094f459fb99...             1676472911   \n4    0xd5dc7147192591c7d19856d12e9278928932a5921653...             1676383655   \n..                                                 ...                    ...   \n155  0xaaf548c6f478c7824a79855f43417f8ec997e45b4194...             1673408951   \n156  0x63cf9d10b4f61a4f6e3825ccf2e0acfbdcb9e9e08df1...             1672855139   \n157  0x4f5be22865aa1ec8139baef4966db502388f1c4c04d8...             1671907883   \n158  0x90815f3fde58d0fb4c794dbb4b1d2967f7417dbfe3d0...             1671625175   \n159  0xf5e230c42166dac905d32b786935b4941a3c6036cc31...             1672058315   \n\n               dateTime                            transaction_from  \\\n0   2023-02-17 22:39:23  0xd33e76d21d32c21811593ae54e38f68df0cfe8ed   \n1   2023-02-16 23:31:47  0x96035b45bc0d22f0ed11283a91145fb001c48370   \n2   2023-02-16 14:00:11  0xee95e4cf086fc80df7ae0f39dfc9ea53a3eaadcb   \n3   2023-02-15 14:55:11  0x16ff8ad104fa6195260a6d4a3f311c5f120df77d   \n4   2023-02-14 14:07:35  0xc0b1f200aa9546ce074397bed7438bb2ec033877   \n..                  ...                                         ...   \n155 2023-01-11 03:49:11  0x783f3cad39b6528e192722527429bbbdaad01648   \n156 2023-01-04 17:58:59  0xc0e0de939f26e71683452467942aff455ca153e3   \n157 2022-12-24 18:51:23  0x0561a78021d8966ddd20c28c6c4318d8675ee1f0   \n158 2022-12-21 12:19:35  0x0561a78021d8966ddd20c28c6c4318d8675ee1f0   \n159 2022-12-26 12:38:35  0xc0e0de939f26e71683452467942aff455ca153e3   \n\n    asset_symbol  ReadableAmount protocol            action  \n0            XAI         60500.0     silo  borrowStablecoin  \n1            XAI             0.6     silo  borrowStablecoin  \n2            XAI        100000.0     silo  borrowStablecoin  \n3            XAI          3000.0     silo  borrowStablecoin  \n4            XAI          1000.0     silo  borrowStablecoin  \n..           ...             ...      ...               ...  \n155         FRAX         10000.0     Frax  borrowStablecoin  \n156         FRAX         60000.0     Frax  borrowStablecoin  \n157         FRAX          5000.0     Frax  borrowStablecoin  \n158         FRAX          5000.0     Frax  borrowStablecoin  \n159         FRAX          5000.0     Frax  borrowStablecoin  \n\n[186 rows x 8 columns]",
      "text/html": "<div>\n<style scoped>\n    .dataframe tbody tr th:only-of-type {\n        vertical-align: middle;\n    }\n\n    .dataframe tbody tr th {\n        vertical-align: top;\n    }\n\n    .dataframe thead th {\n        text-align: right;\n    }\n</style>\n<table border=\"1\" class=\"dataframe\">\n  <thead>\n    <tr style=\"text-align: right;\">\n      <th></th>\n      <th>transaction_id</th>\n      <th>transaction_timestamp</th>\n      <th>dateTime</th>\n      <th>transaction_from</th>\n      <th>asset_symbol</th>\n      <th>ReadableAmount</th>\n      <th>protocol</th>\n      <th>action</th>\n    </tr>\n  </thead>\n  <tbody>\n    <tr>\n      <th>0</th>\n      <td>0x66fe10ed6dcb8b83bdb5b0c46cd321060734b9063bd5...</td>\n      <td>1676673563</td>\n      <td>2023-02-17 22:39:23</td>\n      <td>0xd33e76d21d32c21811593ae54e38f68df0cfe8ed</td>\n      <td>XAI</td>\n      <td>60500.0</td>\n      <td>silo</td>\n      <td>borrowStablecoin</td>\n    </tr>\n    <tr>\n      <th>1</th>\n      <td>0xd9329978828295f4f091eaa77a6d8c388c5616bbe92c...</td>\n      <td>1676590307</td>\n      <td>2023-02-16 23:31:47</td>\n      <td>0x96035b45bc0d22f0ed11283a91145fb001c48370</td>\n      <td>XAI</td>\n      <td>0.6</td>\n      <td>silo</td>\n      <td>borrowStablecoin</td>\n    </tr>\n    <tr>\n      <th>2</th>\n      <td>0x3b0f26e10c63a71c916e8a68bd1889d9bab38aeb62d7...</td>\n      <td>1676556011</td>\n      <td>2023-02-16 14:00:11</td>\n      <td>0xee95e4cf086fc80df7ae0f39dfc9ea53a3eaadcb</td>\n      <td>XAI</td>\n      <td>100000.0</td>\n      <td>silo</td>\n      <td>borrowStablecoin</td>\n    </tr>\n    <tr>\n      <th>3</th>\n      <td>0xfa292276fc71f90e29ca90a7b8a2be9a4094f459fb99...</td>\n      <td>1676472911</td>\n      <td>2023-02-15 14:55:11</td>\n      <td>0x16ff8ad104fa6195260a6d4a3f311c5f120df77d</td>\n      <td>XAI</td>\n      <td>3000.0</td>\n      <td>silo</td>\n      <td>borrowStablecoin</td>\n    </tr>\n    <tr>\n      <th>4</th>\n      <td>0xd5dc7147192591c7d19856d12e9278928932a5921653...</td>\n      <td>1676383655</td>\n      <td>2023-02-14 14:07:35</td>\n      <td>0xc0b1f200aa9546ce074397bed7438bb2ec033877</td>\n      <td>XAI</td>\n      <td>1000.0</td>\n      <td>silo</td>\n      <td>borrowStablecoin</td>\n    </tr>\n    <tr>\n      <th>...</th>\n      <td>...</td>\n      <td>...</td>\n      <td>...</td>\n      <td>...</td>\n      <td>...</td>\n      <td>...</td>\n      <td>...</td>\n      <td>...</td>\n    </tr>\n    <tr>\n      <th>155</th>\n      <td>0xaaf548c6f478c7824a79855f43417f8ec997e45b4194...</td>\n      <td>1673408951</td>\n      <td>2023-01-11 03:49:11</td>\n      <td>0x783f3cad39b6528e192722527429bbbdaad01648</td>\n      <td>FRAX</td>\n      <td>10000.0</td>\n      <td>Frax</td>\n      <td>borrowStablecoin</td>\n    </tr>\n    <tr>\n      <th>156</th>\n      <td>0x63cf9d10b4f61a4f6e3825ccf2e0acfbdcb9e9e08df1...</td>\n      <td>1672855139</td>\n      <td>2023-01-04 17:58:59</td>\n      <td>0xc0e0de939f26e71683452467942aff455ca153e3</td>\n      <td>FRAX</td>\n      <td>60000.0</td>\n      <td>Frax</td>\n      <td>borrowStablecoin</td>\n    </tr>\n    <tr>\n      <th>157</th>\n      <td>0x4f5be22865aa1ec8139baef4966db502388f1c4c04d8...</td>\n      <td>1671907883</td>\n      <td>2022-12-24 18:51:23</td>\n      <td>0x0561a78021d8966ddd20c28c6c4318d8675ee1f0</td>\n      <td>FRAX</td>\n      <td>5000.0</td>\n      <td>Frax</td>\n      <td>borrowStablecoin</td>\n    </tr>\n    <tr>\n      <th>158</th>\n      <td>0x90815f3fde58d0fb4c794dbb4b1d2967f7417dbfe3d0...</td>\n      <td>1671625175</td>\n      <td>2022-12-21 12:19:35</td>\n      <td>0x0561a78021d8966ddd20c28c6c4318d8675ee1f0</td>\n      <td>FRAX</td>\n      <td>5000.0</td>\n      <td>Frax</td>\n      <td>borrowStablecoin</td>\n    </tr>\n    <tr>\n      <th>159</th>\n      <td>0xf5e230c42166dac905d32b786935b4941a3c6036cc31...</td>\n      <td>1672058315</td>\n      <td>2022-12-26 12:38:35</td>\n      <td>0xc0e0de939f26e71683452467942aff455ca153e3</td>\n      <td>FRAX</td>\n      <td>5000.0</td>\n      <td>Frax</td>\n      <td>borrowStablecoin</td>\n    </tr>\n  </tbody>\n</table>\n<p>186 rows × 8 columns</p>\n</div>"
     },
     "execution_count": 1053,
     "metadata": {},
     "output_type": "execute_result"
    }
   ],
   "source": [
    "stablecoinsBorrowedWithGOHMCollateral = pd.concat([siloBorrowsDbPreMerge,fraxBorrowsDbPreMerge])\n",
    "stablecoinsBorrowedWithGOHMCollateral.head(1000)"
   ],
   "metadata": {
    "collapsed": false
   }
  },
  {
   "cell_type": "code",
   "execution_count": 1054,
   "outputs": [
    {
     "name": "stdout",
     "output_type": "stream",
     "text": [
      "D:\\Dropbox\\Documents\\Edgecaser LLC\\Projects\\Olympus\\Econohmetrics\\gohmAsStablecoinCollateral/data/stablecoinsBorrowedWithGOHMCollateralDeposits_piped.csv file saved, 275  records at 2023-02-19 22:55:34.208777\n"
     ]
    }
   ],
   "source": [
    "stablecoinsBorrowedWithGOHMCollateralDepositsLength = len(stablecoinsBorrowedWithGOHMCollateralDeposits)\n",
    "path =file+'/stablecoinsBorrowedWithGOHMCollateralDeposits.csv'\n",
    "stablecoinsBorrowedWithGOHMCollateralDeposits.to_csv(path, index = False)\n",
    "\n",
    "path =file+'/stablecoinsBorrowedWithGOHMCollateralDeposits_piped.csv'\n",
    "stablecoinsBorrowedWithGOHMCollateralDeposits.to_csv(path, index = False, sep='|')\n",
    "print(path, 'file saved,', fraxBorrowsWithGOHMCollateralLength,' records at', (dt.datetime.now()) )"
   ],
   "metadata": {
    "collapsed": false
   }
  },
  {
   "cell_type": "markdown",
   "source": [
    "**********************************************************\n",
    "MERGE EVERYTHING\n"
   ],
   "metadata": {
    "collapsed": false
   }
  },
  {
   "cell_type": "markdown",
   "source": [],
   "metadata": {
    "collapsed": false
   }
  },
  {
   "cell_type": "code",
   "execution_count": 1055,
   "outputs": [
    {
     "data": {
      "text/plain": "                                          actions_id  actions_timestamp  \\\n0  0x66fe10ed6dcb8b83bdb5b0c46cd321060734b9063bd5...         1676673563   \n\n                                 deposit_from asset_symbol  \\\n0  0xd33e76d21d32c21811593ae54e38f68df0cfe8ed          XAI   \n\n   depositReadableAmount protocol            action  \n0                60500.0     silo  borrowStablecoin  ",
      "text/html": "<div>\n<style scoped>\n    .dataframe tbody tr th:only-of-type {\n        vertical-align: middle;\n    }\n\n    .dataframe tbody tr th {\n        vertical-align: top;\n    }\n\n    .dataframe thead th {\n        text-align: right;\n    }\n</style>\n<table border=\"1\" class=\"dataframe\">\n  <thead>\n    <tr style=\"text-align: right;\">\n      <th></th>\n      <th>actions_id</th>\n      <th>actions_timestamp</th>\n      <th>deposit_from</th>\n      <th>asset_symbol</th>\n      <th>depositReadableAmount</th>\n      <th>protocol</th>\n      <th>action</th>\n    </tr>\n  </thead>\n  <tbody>\n    <tr>\n      <th>0</th>\n      <td>0x66fe10ed6dcb8b83bdb5b0c46cd321060734b9063bd5...</td>\n      <td>1676673563</td>\n      <td>0xd33e76d21d32c21811593ae54e38f68df0cfe8ed</td>\n      <td>XAI</td>\n      <td>60500.0</td>\n      <td>silo</td>\n      <td>borrowStablecoin</td>\n    </tr>\n  </tbody>\n</table>\n</div>"
     },
     "execution_count": 1055,
     "metadata": {},
     "output_type": "execute_result"
    }
   ],
   "source": [
    "stablecoinsBorrowedWithGOHMCollateralDeposits.head(1)"
   ],
   "metadata": {
    "collapsed": false
   }
  },
  {
   "cell_type": "code",
   "execution_count": 1056,
   "outputs": [
    {
     "data": {
      "text/plain": "                                        transaction_id  transaction_timestamp  \\\n0    0xecd6140bbb896413a25d34ca87f5503b56c444f1e582...             1676673263   \n1    0x54cd3f5374780bceaffae0661e2688eeca47df22b8aa...             1676555939   \n2    0xe5163797f0922e4bded89126a213296a8c3d270a39e2...             1676383883   \n3    0xcc5e09e1e5c403b6925fa25f0410388de72ef1b45f30...             1676383523   \n4    0xf5439a3f94551476ec68db02d6f577a2856d01f45691...             1676330339   \n..                                                 ...                    ...   \n155  0xaaf548c6f478c7824a79855f43417f8ec997e45b4194...             1673408951   \n156  0x63cf9d10b4f61a4f6e3825ccf2e0acfbdcb9e9e08df1...             1672855139   \n157  0x4f5be22865aa1ec8139baef4966db502388f1c4c04d8...             1671907883   \n158  0x90815f3fde58d0fb4c794dbb4b1d2967f7417dbfe3d0...             1671625175   \n159  0xf5e230c42166dac905d32b786935b4941a3c6036cc31...             1672058315   \n\n               dateTime                            transaction_from  \\\n0   2023-02-17 22:34:23  0xd33e76d21d32c21811593ae54e38f68df0cfe8ed   \n1   2023-02-16 13:58:59  0xee95e4cf086fc80df7ae0f39dfc9ea53a3eaadcb   \n2   2023-02-14 14:11:23  0xc0b1f200aa9546ce074397bed7438bb2ec033877   \n3   2023-02-14 14:05:23  0xc0b1f200aa9546ce074397bed7438bb2ec033877   \n4   2023-02-13 23:18:59  0xc0b1f200aa9546ce074397bed7438bb2ec033877   \n..                  ...                                         ...   \n155 2023-01-11 03:49:11  0x783f3cad39b6528e192722527429bbbdaad01648   \n156 2023-01-04 17:58:59  0xc0e0de939f26e71683452467942aff455ca153e3   \n157 2022-12-24 18:51:23  0x0561a78021d8966ddd20c28c6c4318d8675ee1f0   \n158 2022-12-21 12:19:35  0x0561a78021d8966ddd20c28c6c4318d8675ee1f0   \n159 2022-12-26 12:38:35  0xc0e0de939f26e71683452467942aff455ca153e3   \n\n    asset_symbol  ReadableAmount protocol             action  \n0           gOHM       48.922199     silo  depositCollateral  \n1           gOHM       50.749992     silo  depositCollateral  \n2           gOHM        0.180346     silo  depositCollateral  \n3           gOHM        0.663108     silo  depositCollateral  \n4           gOHM        0.892669     silo  depositCollateral  \n..           ...             ...      ...                ...  \n155         FRAX    10000.000000     Frax   borrowStablecoin  \n156         FRAX    60000.000000     Frax   borrowStablecoin  \n157         FRAX     5000.000000     Frax   borrowStablecoin  \n158         FRAX     5000.000000     Frax   borrowStablecoin  \n159         FRAX     5000.000000     Frax   borrowStablecoin  \n\n[610 rows x 8 columns]",
      "text/html": "<div>\n<style scoped>\n    .dataframe tbody tr th:only-of-type {\n        vertical-align: middle;\n    }\n\n    .dataframe tbody tr th {\n        vertical-align: top;\n    }\n\n    .dataframe thead th {\n        text-align: right;\n    }\n</style>\n<table border=\"1\" class=\"dataframe\">\n  <thead>\n    <tr style=\"text-align: right;\">\n      <th></th>\n      <th>transaction_id</th>\n      <th>transaction_timestamp</th>\n      <th>dateTime</th>\n      <th>transaction_from</th>\n      <th>asset_symbol</th>\n      <th>ReadableAmount</th>\n      <th>protocol</th>\n      <th>action</th>\n    </tr>\n  </thead>\n  <tbody>\n    <tr>\n      <th>0</th>\n      <td>0xecd6140bbb896413a25d34ca87f5503b56c444f1e582...</td>\n      <td>1676673263</td>\n      <td>2023-02-17 22:34:23</td>\n      <td>0xd33e76d21d32c21811593ae54e38f68df0cfe8ed</td>\n      <td>gOHM</td>\n      <td>48.922199</td>\n      <td>silo</td>\n      <td>depositCollateral</td>\n    </tr>\n    <tr>\n      <th>1</th>\n      <td>0x54cd3f5374780bceaffae0661e2688eeca47df22b8aa...</td>\n      <td>1676555939</td>\n      <td>2023-02-16 13:58:59</td>\n      <td>0xee95e4cf086fc80df7ae0f39dfc9ea53a3eaadcb</td>\n      <td>gOHM</td>\n      <td>50.749992</td>\n      <td>silo</td>\n      <td>depositCollateral</td>\n    </tr>\n    <tr>\n      <th>2</th>\n      <td>0xe5163797f0922e4bded89126a213296a8c3d270a39e2...</td>\n      <td>1676383883</td>\n      <td>2023-02-14 14:11:23</td>\n      <td>0xc0b1f200aa9546ce074397bed7438bb2ec033877</td>\n      <td>gOHM</td>\n      <td>0.180346</td>\n      <td>silo</td>\n      <td>depositCollateral</td>\n    </tr>\n    <tr>\n      <th>3</th>\n      <td>0xcc5e09e1e5c403b6925fa25f0410388de72ef1b45f30...</td>\n      <td>1676383523</td>\n      <td>2023-02-14 14:05:23</td>\n      <td>0xc0b1f200aa9546ce074397bed7438bb2ec033877</td>\n      <td>gOHM</td>\n      <td>0.663108</td>\n      <td>silo</td>\n      <td>depositCollateral</td>\n    </tr>\n    <tr>\n      <th>4</th>\n      <td>0xf5439a3f94551476ec68db02d6f577a2856d01f45691...</td>\n      <td>1676330339</td>\n      <td>2023-02-13 23:18:59</td>\n      <td>0xc0b1f200aa9546ce074397bed7438bb2ec033877</td>\n      <td>gOHM</td>\n      <td>0.892669</td>\n      <td>silo</td>\n      <td>depositCollateral</td>\n    </tr>\n    <tr>\n      <th>...</th>\n      <td>...</td>\n      <td>...</td>\n      <td>...</td>\n      <td>...</td>\n      <td>...</td>\n      <td>...</td>\n      <td>...</td>\n      <td>...</td>\n    </tr>\n    <tr>\n      <th>155</th>\n      <td>0xaaf548c6f478c7824a79855f43417f8ec997e45b4194...</td>\n      <td>1673408951</td>\n      <td>2023-01-11 03:49:11</td>\n      <td>0x783f3cad39b6528e192722527429bbbdaad01648</td>\n      <td>FRAX</td>\n      <td>10000.000000</td>\n      <td>Frax</td>\n      <td>borrowStablecoin</td>\n    </tr>\n    <tr>\n      <th>156</th>\n      <td>0x63cf9d10b4f61a4f6e3825ccf2e0acfbdcb9e9e08df1...</td>\n      <td>1672855139</td>\n      <td>2023-01-04 17:58:59</td>\n      <td>0xc0e0de939f26e71683452467942aff455ca153e3</td>\n      <td>FRAX</td>\n      <td>60000.000000</td>\n      <td>Frax</td>\n      <td>borrowStablecoin</td>\n    </tr>\n    <tr>\n      <th>157</th>\n      <td>0x4f5be22865aa1ec8139baef4966db502388f1c4c04d8...</td>\n      <td>1671907883</td>\n      <td>2022-12-24 18:51:23</td>\n      <td>0x0561a78021d8966ddd20c28c6c4318d8675ee1f0</td>\n      <td>FRAX</td>\n      <td>5000.000000</td>\n      <td>Frax</td>\n      <td>borrowStablecoin</td>\n    </tr>\n    <tr>\n      <th>158</th>\n      <td>0x90815f3fde58d0fb4c794dbb4b1d2967f7417dbfe3d0...</td>\n      <td>1671625175</td>\n      <td>2022-12-21 12:19:35</td>\n      <td>0x0561a78021d8966ddd20c28c6c4318d8675ee1f0</td>\n      <td>FRAX</td>\n      <td>5000.000000</td>\n      <td>Frax</td>\n      <td>borrowStablecoin</td>\n    </tr>\n    <tr>\n      <th>159</th>\n      <td>0xf5e230c42166dac905d32b786935b4941a3c6036cc31...</td>\n      <td>1672058315</td>\n      <td>2022-12-26 12:38:35</td>\n      <td>0xc0e0de939f26e71683452467942aff455ca153e3</td>\n      <td>FRAX</td>\n      <td>5000.000000</td>\n      <td>Frax</td>\n      <td>borrowStablecoin</td>\n    </tr>\n  </tbody>\n</table>\n<p>610 rows × 8 columns</p>\n</div>"
     },
     "execution_count": 1056,
     "metadata": {},
     "output_type": "execute_result"
    }
   ],
   "source": [
    "stablecoinsBorrowedWithGOHMCollateralEvents = pd.DataFrame()\n",
    "stablecoinsBorrowedWithGOHMCollateralEvents = pd.concat([gOHMCollateralDeposits,gOHMCollateralWithdrawals,stablecoinsBorrowedWithGOHMCollateral])\n",
    "stablecoinsBorrowedWithGOHMCollateralEvents.head(1000)"
   ],
   "metadata": {
    "collapsed": false
   }
  },
  {
   "cell_type": "code",
   "execution_count": 1057,
   "outputs": [
    {
     "name": "stdout",
     "output_type": "stream",
     "text": [
      "D:\\Dropbox\\Documents\\Edgecaser LLC\\Projects\\Olympus\\Econohmetrics\\gohmAsStablecoinCollateral/data/stablecoinsBorrowedWithGOHMCollateralEvents_piped.csv file saved, 610  records at 2023-02-19 22:55:41.959565\n"
     ]
    }
   ],
   "source": [
    "stablecoinsBorrowedWithGOHMCollateralEventsLength = len(stablecoinsBorrowedWithGOHMCollateralEvents)\n",
    "path =file+'/stablecoinsBorrowedWithGOHMCollateralEvents.csv'\n",
    "stablecoinsBorrowedWithGOHMCollateralEvents.to_csv(path, index = False)\n",
    "\n",
    "path =file+'/stablecoinsBorrowedWithGOHMCollateralEvents_piped.csv'\n",
    "stablecoinsBorrowedWithGOHMCollateralEvents.to_csv(path, index = False, sep='|')\n",
    "print(path, 'file saved,', stablecoinsBorrowedWithGOHMCollateralEventsLength,' records at', (dt.datetime.now()) )"
   ],
   "metadata": {
    "collapsed": false
   }
  },
  {
   "cell_type": "markdown",
   "source": [
    "FRAX DAILY SNAPS"
   ],
   "metadata": {
    "collapsed": false
   }
  },
  {
   "cell_type": "code",
   "execution_count": 1058,
   "outputs": [
    {
     "name": "stdout",
     "output_type": "stream",
     "text": [
      "iterations:  0 Lines skipped:  0 records collected:  84  - latest recordID:  gOHM   0x66bf36dba79d4606039f04b32946a260bcd3ff52-Recent  - pairSnapshots DB length:  84  - latest record from:  1969-12-31 16:00:00 19408 days ago\n",
      "Done. Total Records collected:  84\n"
     ]
    }
   ],
   "source": [
    "pairSnapshotsListLength=0\n",
    "pairSnapshotsTicker = 0\n",
    "Snapshots = pd.DataFrame()\n",
    "pairSnapshotsDb = pd.DataFrame()\n",
    "pairSnapshotsListLength = 1000\n",
    "datediff = 0\n",
    "now=0\n",
    "daysAgo=0\n",
    "daysLimit = 45\n",
    "exit= False\n",
    "while exit==False:\n",
    "    #listLength=0\n",
    "    skipValue = (pairSnapshotsTicker)*(1000)\n",
    "    pairsQuery = frax.Query.pairPerDays(\n",
    "         orderBy='id'\n",
    "        ,orderDirection='desc'\n",
    "        ,first=1000\n",
    "        ,skipValue = skipValue\n",
    "        #,where = [frax.Query.pairs.token.id == '0x66bf36dba79d4606039f04b32946a260bcd3ff52']\n",
    "        ,where={ 'pair': '0x66bf36dba79d4606039f04b32946a260bcd3ff52' }\n",
    "        #,where = {'positions.pairid':'0x66bf36dba79d4606039f04b32946a260bcd3ff52'}\n",
    "    #{'users_positions_pair_id':'0x66bf36dba79d4606039f04b32946a260bcd3ff52'}\n",
    "\n",
    "    )\n",
    "    Snapshots= sg.query_df([\n",
    "    pairsQuery.id\n",
    "    ,pairsQuery.pair.collateral.symbol\n",
    "    ,pairsQuery.pair.collateral.decimals\n",
    "    ,pairsQuery.pair.asset.symbol\n",
    "    ,pairsQuery.pair.asset.decimals\n",
    "    ,pairsQuery.feeToProtocolRate\n",
    "    ,pairsQuery.exchangeRate\n",
    "    ,pairsQuery.totalAssetAmount\n",
    "    ,pairsQuery.totalAssetShare\n",
    "    ,pairsQuery.totalCollateral\n",
    "    ,pairsQuery.totalBorrowAmount\n",
    "    ,pairsQuery.totalBorrowShare\n",
    "    ,pairsQuery.interestPerSecond\n",
    "    ,pairsQuery.utilization\n",
    "    ,pairsQuery.totalFeesAmount\n",
    "    ,pairsQuery.totalFeesShare\n",
    "    ,pairsQuery.lastAccrued\n",
    "    ,pairsQuery.block\n",
    "    ,pairsQuery.timestamp\n",
    "    ,pairsQuery.totalAssetValue\n",
    "    ,pairsQuery.totalCollateralValue\n",
    "    ,pairsQuery.totalBorrowValue\n",
    "    ,pairsQuery.pair\n",
    "    ]\n",
    "    )\n",
    "\n",
    "    Snapshots.sort_values(by=['pairPerDays_timestamp'])\n",
    "\n",
    "    pairSnapshotsDb=pd.concat([pairSnapshotsDb, Snapshots])\n",
    "    recordTimestamp1 = pairSnapshotsDb.iat[pairSnapshotsTicker,14]\n",
    "    recordTimestamp = dt.datetime.fromtimestamp( recordTimestamp1 )\n",
    "    now = (int(dt.datetime.utcnow().timestamp()))\n",
    "    datediff=abs(int(now) - recordTimestamp1)\n",
    "    daysAgo = int(datediff/86400)\n",
    "    pairSnapshotsDbLength = len(pairSnapshotsDb)\n",
    "    pairSnapshotsListLength = len(Snapshots)\n",
    "    recordID = pairSnapshotsDb.iat[pairSnapshotsTicker,0]\n",
    "    Snapshot = pairSnapshotsDb.iat[pairSnapshotsTicker,1]\n",
    "    print(\"iterations: \", pairSnapshotsTicker, \"Lines skipped: \",skipValue, \"records collected: \", pairSnapshotsListLength, \" - latest recordID: \",Snapshot, \" \", recordID , \" - pairSnapshots DB length: \", pairSnapshotsDbLength, \" - latest record from: \", recordTimestamp, daysAgo,\"days ago\")\n",
    "    #print(\"iterations: \", pairSnapshotsTicker, \"records collected: \", pairSnapshotsListLength, \" - userdb length: \", pairSnapshotsDbLength)\n",
    "    if daysAgo>daysLimit: exit =True\n",
    "    if pairSnapshotsListLength<1000: exit =True\n",
    "    pairSnapshotsTicker = pairSnapshotsTicker+1\n",
    "\n",
    "print(\"Done. Total Records collected: \", pairSnapshotsDbLength)"
   ],
   "metadata": {
    "collapsed": false
   }
  },
  {
   "cell_type": "code",
   "execution_count": 1059,
   "outputs": [
    {
     "data": {
      "text/plain": "                                      pairPerDays_id  \\\n0  0x66bf36dba79d4606039f04b32946a260bcd3ff52-Recent   \n1   0x66bf36dba79d4606039f04b32946a260bcd3ff52-19408   \n2   0x66bf36dba79d4606039f04b32946a260bcd3ff52-19407   \n3   0x66bf36dba79d4606039f04b32946a260bcd3ff52-19406   \n4   0x66bf36dba79d4606039f04b32946a260bcd3ff52-19405   \n5   0x66bf36dba79d4606039f04b32946a260bcd3ff52-19404   \n6   0x66bf36dba79d4606039f04b32946a260bcd3ff52-19403   \n7   0x66bf36dba79d4606039f04b32946a260bcd3ff52-19402   \n8   0x66bf36dba79d4606039f04b32946a260bcd3ff52-19401   \n9   0x66bf36dba79d4606039f04b32946a260bcd3ff52-19400   \n\n  pairPerDays_pair_collateral_symbol  pairPerDays_pair_collateral_decimals  \\\n0                               gOHM                                    18   \n1                               gOHM                                    18   \n2                               gOHM                                    18   \n3                               gOHM                                    18   \n4                               gOHM                                    18   \n5                               gOHM                                    18   \n6                               gOHM                                    18   \n7                               gOHM                                    18   \n8                               gOHM                                    18   \n9                               gOHM                                    18   \n\n  pairPerDays_pair_asset_symbol  pairPerDays_pair_asset_decimals  \\\n0                          FRAX                               18   \n1                          FRAX                               18   \n2                          FRAX                               18   \n3                          FRAX                               18   \n4                          FRAX                               18   \n5                          FRAX                               18   \n6                          FRAX                               18   \n7                          FRAX                               18   \n8                          FRAX                               18   \n9                          FRAX                               18   \n\n   pairPerDays_feeToProtocolRate  pairPerDays_exchangeRate  \\\n0                              0           353138047538614   \n1                              0           353138047538614   \n2                              0           354538364355376   \n3                              0           353906299486322   \n4                              0           350112376599804   \n5                              0           363785846961333   \n6                              0           346065938064754   \n7                              0           355065538289602   \n8                              0           361722603166047   \n9                              0           378555412205106   \n\n  pairPerDays_totalAssetAmount pairPerDays_totalAssetShare  \\\n0    5035697693045935634325418   4966638858282894118426824   \n1    5035697693045935634325418   4966638858282894118426824   \n2    5035386265636883114384206   4966638858282894118426824   \n3    5034722075873021602597750   4967011772748759733227735   \n4    4698486647811909309719977   4636381316961784483066425   \n5    4737561509933966578859758   4675953474727265989294250   \n6    4696443773732938768853377   4636381316961784483066425   \n7    4675315360621293243183076   4616545966840300870160156   \n8    5214478754084957077245512   5149945278165210104338772   \n9    5213593301053638152367912   5149945278165210104338772   \n\n  pairPerDays_totalCollateral  ...  \\\n0      3049199062322648903525  ...   \n1      3049199062322648903525  ...   \n2      3035712082883572555858  ...   \n3      3015712082883572555858  ...   \n4      2938561823965620072232  ...   \n5      2926144943608541855178  ...   \n6      2926505753609477928993  ...   \n7      2962449892162877274570  ...   \n8      2920785897200163201938  ...   \n9      2924565205619252920997  ...   \n\n               pairPerDays_pair_collateral_id  \\\n0  0x0ab87046fbb341d058f17cbc4c1133f25a20a52f   \n1  0x0ab87046fbb341d058f17cbc4c1133f25a20a52f   \n2  0x0ab87046fbb341d058f17cbc4c1133f25a20a52f   \n3  0x0ab87046fbb341d058f17cbc4c1133f25a20a52f   \n4  0x0ab87046fbb341d058f17cbc4c1133f25a20a52f   \n5  0x0ab87046fbb341d058f17cbc4c1133f25a20a52f   \n6  0x0ab87046fbb341d058f17cbc4c1133f25a20a52f   \n7  0x0ab87046fbb341d058f17cbc4c1133f25a20a52f   \n8  0x0ab87046fbb341d058f17cbc4c1133f25a20a52f   \n9  0x0ab87046fbb341d058f17cbc4c1133f25a20a52f   \n\n    pairPerDays_pair_oracleMultiplyAddress_id  \\\n0  0x0000000000000000000000000000000000000000   \n1  0x0000000000000000000000000000000000000000   \n2  0x0000000000000000000000000000000000000000   \n3  0x0000000000000000000000000000000000000000   \n4  0x0000000000000000000000000000000000000000   \n5  0x0000000000000000000000000000000000000000   \n6  0x0000000000000000000000000000000000000000   \n7  0x0000000000000000000000000000000000000000   \n8  0x0000000000000000000000000000000000000000   \n9  0x0000000000000000000000000000000000000000   \n\n      pairPerDays_pair_oracleDivideAddress_id  \\\n0  0xe893297a9d4310976424fd0b25f53ac2b6464fe3   \n1  0xe893297a9d4310976424fd0b25f53ac2b6464fe3   \n2  0xe893297a9d4310976424fd0b25f53ac2b6464fe3   \n3  0xe893297a9d4310976424fd0b25f53ac2b6464fe3   \n4  0xe893297a9d4310976424fd0b25f53ac2b6464fe3   \n5  0xe893297a9d4310976424fd0b25f53ac2b6464fe3   \n6  0xe893297a9d4310976424fd0b25f53ac2b6464fe3   \n7  0xe893297a9d4310976424fd0b25f53ac2b6464fe3   \n8  0xe893297a9d4310976424fd0b25f53ac2b6464fe3   \n9  0xe893297a9d4310976424fd0b25f53ac2b6464fe3   \n\n             pairPerDays_pair_rateContract_id  pairPerDays_pair_maxLTV  \\\n0  0x18500cb1f2fe7a40ebda393383a0b8548a31f261                    75000   \n1  0x18500cb1f2fe7a40ebda393383a0b8548a31f261                    75000   \n2  0x18500cb1f2fe7a40ebda393383a0b8548a31f261                    75000   \n3  0x18500cb1f2fe7a40ebda393383a0b8548a31f261                    75000   \n4  0x18500cb1f2fe7a40ebda393383a0b8548a31f261                    75000   \n5  0x18500cb1f2fe7a40ebda393383a0b8548a31f261                    75000   \n6  0x18500cb1f2fe7a40ebda393383a0b8548a31f261                    75000   \n7  0x18500cb1f2fe7a40ebda393383a0b8548a31f261                    75000   \n8  0x18500cb1f2fe7a40ebda393383a0b8548a31f261                    75000   \n9  0x18500cb1f2fe7a40ebda393383a0b8548a31f261                    75000   \n\n   pairPerDays_pair_liquidationFee  pairPerDays_pair_maturity  \\\n0                            10000                          0   \n1                            10000                          0   \n2                            10000                          0   \n3                            10000                          0   \n4                            10000                          0   \n5                            10000                          0   \n6                            10000                          0   \n7                            10000                          0   \n8                            10000                          0   \n9                            10000                          0   \n\n   pairPerDays_pair_pauseStatus  pairPerDays_pair_lenderWhitelistActive  \\\n0                         False                                   False   \n1                         False                                   False   \n2                         False                                   False   \n3                         False                                   False   \n4                         False                                   False   \n5                         False                                   False   \n6                         False                                   False   \n7                         False                                   False   \n8                         False                                   False   \n9                         False                                   False   \n\n  pairPerDays_pair_borrowerWhitelistActive  \n0                                    False  \n1                                    False  \n2                                    False  \n3                                    False  \n4                                    False  \n5                                    False  \n6                                    False  \n7                                    False  \n8                                    False  \n9                                    False  \n\n[10 rows x 37 columns]",
      "text/html": "<div>\n<style scoped>\n    .dataframe tbody tr th:only-of-type {\n        vertical-align: middle;\n    }\n\n    .dataframe tbody tr th {\n        vertical-align: top;\n    }\n\n    .dataframe thead th {\n        text-align: right;\n    }\n</style>\n<table border=\"1\" class=\"dataframe\">\n  <thead>\n    <tr style=\"text-align: right;\">\n      <th></th>\n      <th>pairPerDays_id</th>\n      <th>pairPerDays_pair_collateral_symbol</th>\n      <th>pairPerDays_pair_collateral_decimals</th>\n      <th>pairPerDays_pair_asset_symbol</th>\n      <th>pairPerDays_pair_asset_decimals</th>\n      <th>pairPerDays_feeToProtocolRate</th>\n      <th>pairPerDays_exchangeRate</th>\n      <th>pairPerDays_totalAssetAmount</th>\n      <th>pairPerDays_totalAssetShare</th>\n      <th>pairPerDays_totalCollateral</th>\n      <th>...</th>\n      <th>pairPerDays_pair_collateral_id</th>\n      <th>pairPerDays_pair_oracleMultiplyAddress_id</th>\n      <th>pairPerDays_pair_oracleDivideAddress_id</th>\n      <th>pairPerDays_pair_rateContract_id</th>\n      <th>pairPerDays_pair_maxLTV</th>\n      <th>pairPerDays_pair_liquidationFee</th>\n      <th>pairPerDays_pair_maturity</th>\n      <th>pairPerDays_pair_pauseStatus</th>\n      <th>pairPerDays_pair_lenderWhitelistActive</th>\n      <th>pairPerDays_pair_borrowerWhitelistActive</th>\n    </tr>\n  </thead>\n  <tbody>\n    <tr>\n      <th>0</th>\n      <td>0x66bf36dba79d4606039f04b32946a260bcd3ff52-Recent</td>\n      <td>gOHM</td>\n      <td>18</td>\n      <td>FRAX</td>\n      <td>18</td>\n      <td>0</td>\n      <td>353138047538614</td>\n      <td>5035697693045935634325418</td>\n      <td>4966638858282894118426824</td>\n      <td>3049199062322648903525</td>\n      <td>...</td>\n      <td>0x0ab87046fbb341d058f17cbc4c1133f25a20a52f</td>\n      <td>0x0000000000000000000000000000000000000000</td>\n      <td>0xe893297a9d4310976424fd0b25f53ac2b6464fe3</td>\n      <td>0x18500cb1f2fe7a40ebda393383a0b8548a31f261</td>\n      <td>75000</td>\n      <td>10000</td>\n      <td>0</td>\n      <td>False</td>\n      <td>False</td>\n      <td>False</td>\n    </tr>\n    <tr>\n      <th>1</th>\n      <td>0x66bf36dba79d4606039f04b32946a260bcd3ff52-19408</td>\n      <td>gOHM</td>\n      <td>18</td>\n      <td>FRAX</td>\n      <td>18</td>\n      <td>0</td>\n      <td>353138047538614</td>\n      <td>5035697693045935634325418</td>\n      <td>4966638858282894118426824</td>\n      <td>3049199062322648903525</td>\n      <td>...</td>\n      <td>0x0ab87046fbb341d058f17cbc4c1133f25a20a52f</td>\n      <td>0x0000000000000000000000000000000000000000</td>\n      <td>0xe893297a9d4310976424fd0b25f53ac2b6464fe3</td>\n      <td>0x18500cb1f2fe7a40ebda393383a0b8548a31f261</td>\n      <td>75000</td>\n      <td>10000</td>\n      <td>0</td>\n      <td>False</td>\n      <td>False</td>\n      <td>False</td>\n    </tr>\n    <tr>\n      <th>2</th>\n      <td>0x66bf36dba79d4606039f04b32946a260bcd3ff52-19407</td>\n      <td>gOHM</td>\n      <td>18</td>\n      <td>FRAX</td>\n      <td>18</td>\n      <td>0</td>\n      <td>354538364355376</td>\n      <td>5035386265636883114384206</td>\n      <td>4966638858282894118426824</td>\n      <td>3035712082883572555858</td>\n      <td>...</td>\n      <td>0x0ab87046fbb341d058f17cbc4c1133f25a20a52f</td>\n      <td>0x0000000000000000000000000000000000000000</td>\n      <td>0xe893297a9d4310976424fd0b25f53ac2b6464fe3</td>\n      <td>0x18500cb1f2fe7a40ebda393383a0b8548a31f261</td>\n      <td>75000</td>\n      <td>10000</td>\n      <td>0</td>\n      <td>False</td>\n      <td>False</td>\n      <td>False</td>\n    </tr>\n    <tr>\n      <th>3</th>\n      <td>0x66bf36dba79d4606039f04b32946a260bcd3ff52-19406</td>\n      <td>gOHM</td>\n      <td>18</td>\n      <td>FRAX</td>\n      <td>18</td>\n      <td>0</td>\n      <td>353906299486322</td>\n      <td>5034722075873021602597750</td>\n      <td>4967011772748759733227735</td>\n      <td>3015712082883572555858</td>\n      <td>...</td>\n      <td>0x0ab87046fbb341d058f17cbc4c1133f25a20a52f</td>\n      <td>0x0000000000000000000000000000000000000000</td>\n      <td>0xe893297a9d4310976424fd0b25f53ac2b6464fe3</td>\n      <td>0x18500cb1f2fe7a40ebda393383a0b8548a31f261</td>\n      <td>75000</td>\n      <td>10000</td>\n      <td>0</td>\n      <td>False</td>\n      <td>False</td>\n      <td>False</td>\n    </tr>\n    <tr>\n      <th>4</th>\n      <td>0x66bf36dba79d4606039f04b32946a260bcd3ff52-19405</td>\n      <td>gOHM</td>\n      <td>18</td>\n      <td>FRAX</td>\n      <td>18</td>\n      <td>0</td>\n      <td>350112376599804</td>\n      <td>4698486647811909309719977</td>\n      <td>4636381316961784483066425</td>\n      <td>2938561823965620072232</td>\n      <td>...</td>\n      <td>0x0ab87046fbb341d058f17cbc4c1133f25a20a52f</td>\n      <td>0x0000000000000000000000000000000000000000</td>\n      <td>0xe893297a9d4310976424fd0b25f53ac2b6464fe3</td>\n      <td>0x18500cb1f2fe7a40ebda393383a0b8548a31f261</td>\n      <td>75000</td>\n      <td>10000</td>\n      <td>0</td>\n      <td>False</td>\n      <td>False</td>\n      <td>False</td>\n    </tr>\n    <tr>\n      <th>5</th>\n      <td>0x66bf36dba79d4606039f04b32946a260bcd3ff52-19404</td>\n      <td>gOHM</td>\n      <td>18</td>\n      <td>FRAX</td>\n      <td>18</td>\n      <td>0</td>\n      <td>363785846961333</td>\n      <td>4737561509933966578859758</td>\n      <td>4675953474727265989294250</td>\n      <td>2926144943608541855178</td>\n      <td>...</td>\n      <td>0x0ab87046fbb341d058f17cbc4c1133f25a20a52f</td>\n      <td>0x0000000000000000000000000000000000000000</td>\n      <td>0xe893297a9d4310976424fd0b25f53ac2b6464fe3</td>\n      <td>0x18500cb1f2fe7a40ebda393383a0b8548a31f261</td>\n      <td>75000</td>\n      <td>10000</td>\n      <td>0</td>\n      <td>False</td>\n      <td>False</td>\n      <td>False</td>\n    </tr>\n    <tr>\n      <th>6</th>\n      <td>0x66bf36dba79d4606039f04b32946a260bcd3ff52-19403</td>\n      <td>gOHM</td>\n      <td>18</td>\n      <td>FRAX</td>\n      <td>18</td>\n      <td>0</td>\n      <td>346065938064754</td>\n      <td>4696443773732938768853377</td>\n      <td>4636381316961784483066425</td>\n      <td>2926505753609477928993</td>\n      <td>...</td>\n      <td>0x0ab87046fbb341d058f17cbc4c1133f25a20a52f</td>\n      <td>0x0000000000000000000000000000000000000000</td>\n      <td>0xe893297a9d4310976424fd0b25f53ac2b6464fe3</td>\n      <td>0x18500cb1f2fe7a40ebda393383a0b8548a31f261</td>\n      <td>75000</td>\n      <td>10000</td>\n      <td>0</td>\n      <td>False</td>\n      <td>False</td>\n      <td>False</td>\n    </tr>\n    <tr>\n      <th>7</th>\n      <td>0x66bf36dba79d4606039f04b32946a260bcd3ff52-19402</td>\n      <td>gOHM</td>\n      <td>18</td>\n      <td>FRAX</td>\n      <td>18</td>\n      <td>0</td>\n      <td>355065538289602</td>\n      <td>4675315360621293243183076</td>\n      <td>4616545966840300870160156</td>\n      <td>2962449892162877274570</td>\n      <td>...</td>\n      <td>0x0ab87046fbb341d058f17cbc4c1133f25a20a52f</td>\n      <td>0x0000000000000000000000000000000000000000</td>\n      <td>0xe893297a9d4310976424fd0b25f53ac2b6464fe3</td>\n      <td>0x18500cb1f2fe7a40ebda393383a0b8548a31f261</td>\n      <td>75000</td>\n      <td>10000</td>\n      <td>0</td>\n      <td>False</td>\n      <td>False</td>\n      <td>False</td>\n    </tr>\n    <tr>\n      <th>8</th>\n      <td>0x66bf36dba79d4606039f04b32946a260bcd3ff52-19401</td>\n      <td>gOHM</td>\n      <td>18</td>\n      <td>FRAX</td>\n      <td>18</td>\n      <td>0</td>\n      <td>361722603166047</td>\n      <td>5214478754084957077245512</td>\n      <td>5149945278165210104338772</td>\n      <td>2920785897200163201938</td>\n      <td>...</td>\n      <td>0x0ab87046fbb341d058f17cbc4c1133f25a20a52f</td>\n      <td>0x0000000000000000000000000000000000000000</td>\n      <td>0xe893297a9d4310976424fd0b25f53ac2b6464fe3</td>\n      <td>0x18500cb1f2fe7a40ebda393383a0b8548a31f261</td>\n      <td>75000</td>\n      <td>10000</td>\n      <td>0</td>\n      <td>False</td>\n      <td>False</td>\n      <td>False</td>\n    </tr>\n    <tr>\n      <th>9</th>\n      <td>0x66bf36dba79d4606039f04b32946a260bcd3ff52-19400</td>\n      <td>gOHM</td>\n      <td>18</td>\n      <td>FRAX</td>\n      <td>18</td>\n      <td>0</td>\n      <td>378555412205106</td>\n      <td>5213593301053638152367912</td>\n      <td>5149945278165210104338772</td>\n      <td>2924565205619252920997</td>\n      <td>...</td>\n      <td>0x0ab87046fbb341d058f17cbc4c1133f25a20a52f</td>\n      <td>0x0000000000000000000000000000000000000000</td>\n      <td>0xe893297a9d4310976424fd0b25f53ac2b6464fe3</td>\n      <td>0x18500cb1f2fe7a40ebda393383a0b8548a31f261</td>\n      <td>75000</td>\n      <td>10000</td>\n      <td>0</td>\n      <td>False</td>\n      <td>False</td>\n      <td>False</td>\n    </tr>\n  </tbody>\n</table>\n<p>10 rows × 37 columns</p>\n</div>"
     },
     "execution_count": 1059,
     "metadata": {},
     "output_type": "execute_result"
    }
   ],
   "source": [
    "pairSnapshotsDb.head(10)"
   ],
   "metadata": {
    "collapsed": false
   }
  },
  {
   "cell_type": "code",
   "execution_count": 1070,
   "outputs": [
    {
     "data": {
      "text/plain": "                                       pairPerDays_id  \\\n0   0x66bf36dba79d4606039f04b32946a260bcd3ff52-Recent   \n1    0x66bf36dba79d4606039f04b32946a260bcd3ff52-19408   \n2    0x66bf36dba79d4606039f04b32946a260bcd3ff52-19407   \n3    0x66bf36dba79d4606039f04b32946a260bcd3ff52-19406   \n4    0x66bf36dba79d4606039f04b32946a260bcd3ff52-19405   \n..                                                ...   \n79   0x66bf36dba79d4606039f04b32946a260bcd3ff52-19330   \n80   0x66bf36dba79d4606039f04b32946a260bcd3ff52-19329   \n81   0x66bf36dba79d4606039f04b32946a260bcd3ff52-19328   \n82   0x66bf36dba79d4606039f04b32946a260bcd3ff52-19327   \n83   0x66bf36dba79d4606039f04b32946a260bcd3ff52-19326   \n\n   pairPerDays_pair_collateral_symbol  pairPerDays_pair_collateral_decimals  \\\n0                                gOHM                                    18   \n1                                gOHM                                    18   \n2                                gOHM                                    18   \n3                                gOHM                                    18   \n4                                gOHM                                    18   \n..                                ...                                   ...   \n79                               gOHM                                    18   \n80                               gOHM                                    18   \n81                               gOHM                                    18   \n82                               gOHM                                    18   \n83                               gOHM                                    18   \n\n   pairPerDays_pair_asset_symbol  pairPerDays_pair_asset_decimals  \\\n0                           FRAX                               18   \n1                           FRAX                               18   \n2                           FRAX                               18   \n3                           FRAX                               18   \n4                           FRAX                               18   \n..                           ...                              ...   \n79                          FRAX                               18   \n80                          FRAX                               18   \n81                          FRAX                               18   \n82                          FRAX                               18   \n83                          FRAX                               18   \n\n    pairPerDays_feeToProtocolRate  pairPerDays_exchangeRate  \\\n0                               0           353138047538614   \n1                               0           353138047538614   \n2                               0           354538364355376   \n3                               0           353906299486322   \n4                               0           350112376599804   \n..                            ...                       ...   \n79                              0           416982985435782   \n80                              0           435238970363534   \n81                              0           424429606966213   \n82                              0           455232217741157   \n83                              0           444954878564299   \n\n   pairPerDays_totalAssetAmount pairPerDays_totalAssetShare  \\\n0     5035697693045935634325418   4966638858282894118426824   \n1     5035697693045935634325418   4966638858282894118426824   \n2     5035386265636883114384206   4966638858282894118426824   \n3     5034722075873021602597750   4967011772748759733227735   \n4     4698486647811909309719977   4636381316961784483066425   \n..                          ...                         ...   \n79    3000265799749067769553552   2999681610314728238726349   \n80    3000407417762830870845360   2999931610314728238726349   \n81    3000316417810236657492429   2999931610314728238726349   \n82    1000250018374254924219488   1000177511746822029696096   \n83                            0                           0   \n\n   pairPerDays_totalCollateral  ... pairPerDays_pair_maxLTV  \\\n0       3049199062322648903525  ...                   75000   \n1       3049199062322648903525  ...                   75000   \n2       3035712082883572555858  ...                   75000   \n3       3015712082883572555858  ...                   75000   \n4       2938561823965620072232  ...                   75000   \n..                         ...  ...                     ...   \n79      1702267776392927486576  ...                   75000   \n80      1460557767872656691963  ...                   75000   \n81      1298896246642712535146  ...                   75000   \n82          116544304370705257  ...                   75000   \n83                           0  ...                   75000   \n\n   pairPerDays_pair_liquidationFee  pairPerDays_pair_maturity  \\\n0                            10000                          0   \n1                            10000                          0   \n2                            10000                          0   \n3                            10000                          0   \n4                            10000                          0   \n..                             ...                        ...   \n79                           10000                          0   \n80                           10000                          0   \n81                           10000                          0   \n82                           10000                          0   \n83                           10000                          0   \n\n    pairPerDays_pair_pauseStatus  pairPerDays_pair_lenderWhitelistActive  \\\n0                          False                                   False   \n1                          False                                   False   \n2                          False                                   False   \n3                          False                                   False   \n4                          False                                   False   \n..                           ...                                     ...   \n79                         False                                   False   \n80                         False                                   False   \n81                         False                                   False   \n82                         False                                   False   \n83                         False                                   False   \n\n    pairPerDays_pair_borrowerWhitelistActive  \\\n0                                      False   \n1                                      False   \n2                                      False   \n3                                      False   \n4                                      False   \n..                                       ...   \n79                                     False   \n80                                     False   \n81                                     False   \n82                                     False   \n83                                     False   \n\n    pairPerDays_totalCollateralReadable  pairPerDays_totalAssetAmountReadable  \\\n0                           3049.199062                          5.035698e+06   \n1                           3049.199062                          5.035698e+06   \n2                           3035.712083                          5.035386e+06   \n3                           3015.712083                          5.034722e+06   \n4                           2938.561824                          4.698487e+06   \n..                                  ...                                   ...   \n79                          1702.267776                          3.000266e+06   \n80                          1460.557768                          3.000407e+06   \n81                          1298.896247                          3.000316e+06   \n82                             0.116544                          1.000250e+06   \n83                             0.000000                          0.000000e+00   \n\n              dateTime pairPerDays_totalBorrowAmountReadable  \n0  2023-02-20 04:18:47                          4.201392e+06  \n1  2023-02-20 04:18:47                          4.201392e+06  \n2  2023-02-19 20:16:23                          4.191081e+06  \n3  2023-02-18 22:49:59                          4.129513e+06  \n4  2023-02-17 23:41:35                          4.018403e+06  \n..                 ...                                   ...  \n79 2022-12-04 23:12:59                          1.642246e+06  \n80 2022-12-03 23:30:59                          1.358687e+06  \n81 2022-12-02 23:55:59                          1.287539e+06  \n82 2022-12-01 21:30:47                          1.821276e+02  \n83 2022-11-30 18:49:35                          0.000000e+00  \n\n[84 rows x 41 columns]",
      "text/html": "<div>\n<style scoped>\n    .dataframe tbody tr th:only-of-type {\n        vertical-align: middle;\n    }\n\n    .dataframe tbody tr th {\n        vertical-align: top;\n    }\n\n    .dataframe thead th {\n        text-align: right;\n    }\n</style>\n<table border=\"1\" class=\"dataframe\">\n  <thead>\n    <tr style=\"text-align: right;\">\n      <th></th>\n      <th>pairPerDays_id</th>\n      <th>pairPerDays_pair_collateral_symbol</th>\n      <th>pairPerDays_pair_collateral_decimals</th>\n      <th>pairPerDays_pair_asset_symbol</th>\n      <th>pairPerDays_pair_asset_decimals</th>\n      <th>pairPerDays_feeToProtocolRate</th>\n      <th>pairPerDays_exchangeRate</th>\n      <th>pairPerDays_totalAssetAmount</th>\n      <th>pairPerDays_totalAssetShare</th>\n      <th>pairPerDays_totalCollateral</th>\n      <th>...</th>\n      <th>pairPerDays_pair_maxLTV</th>\n      <th>pairPerDays_pair_liquidationFee</th>\n      <th>pairPerDays_pair_maturity</th>\n      <th>pairPerDays_pair_pauseStatus</th>\n      <th>pairPerDays_pair_lenderWhitelistActive</th>\n      <th>pairPerDays_pair_borrowerWhitelistActive</th>\n      <th>pairPerDays_totalCollateralReadable</th>\n      <th>pairPerDays_totalAssetAmountReadable</th>\n      <th>dateTime</th>\n      <th>pairPerDays_totalBorrowAmountReadable</th>\n    </tr>\n  </thead>\n  <tbody>\n    <tr>\n      <th>0</th>\n      <td>0x66bf36dba79d4606039f04b32946a260bcd3ff52-Recent</td>\n      <td>gOHM</td>\n      <td>18</td>\n      <td>FRAX</td>\n      <td>18</td>\n      <td>0</td>\n      <td>353138047538614</td>\n      <td>5035697693045935634325418</td>\n      <td>4966638858282894118426824</td>\n      <td>3049199062322648903525</td>\n      <td>...</td>\n      <td>75000</td>\n      <td>10000</td>\n      <td>0</td>\n      <td>False</td>\n      <td>False</td>\n      <td>False</td>\n      <td>3049.199062</td>\n      <td>5.035698e+06</td>\n      <td>2023-02-20 04:18:47</td>\n      <td>4.201392e+06</td>\n    </tr>\n    <tr>\n      <th>1</th>\n      <td>0x66bf36dba79d4606039f04b32946a260bcd3ff52-19408</td>\n      <td>gOHM</td>\n      <td>18</td>\n      <td>FRAX</td>\n      <td>18</td>\n      <td>0</td>\n      <td>353138047538614</td>\n      <td>5035697693045935634325418</td>\n      <td>4966638858282894118426824</td>\n      <td>3049199062322648903525</td>\n      <td>...</td>\n      <td>75000</td>\n      <td>10000</td>\n      <td>0</td>\n      <td>False</td>\n      <td>False</td>\n      <td>False</td>\n      <td>3049.199062</td>\n      <td>5.035698e+06</td>\n      <td>2023-02-20 04:18:47</td>\n      <td>4.201392e+06</td>\n    </tr>\n    <tr>\n      <th>2</th>\n      <td>0x66bf36dba79d4606039f04b32946a260bcd3ff52-19407</td>\n      <td>gOHM</td>\n      <td>18</td>\n      <td>FRAX</td>\n      <td>18</td>\n      <td>0</td>\n      <td>354538364355376</td>\n      <td>5035386265636883114384206</td>\n      <td>4966638858282894118426824</td>\n      <td>3035712082883572555858</td>\n      <td>...</td>\n      <td>75000</td>\n      <td>10000</td>\n      <td>0</td>\n      <td>False</td>\n      <td>False</td>\n      <td>False</td>\n      <td>3035.712083</td>\n      <td>5.035386e+06</td>\n      <td>2023-02-19 20:16:23</td>\n      <td>4.191081e+06</td>\n    </tr>\n    <tr>\n      <th>3</th>\n      <td>0x66bf36dba79d4606039f04b32946a260bcd3ff52-19406</td>\n      <td>gOHM</td>\n      <td>18</td>\n      <td>FRAX</td>\n      <td>18</td>\n      <td>0</td>\n      <td>353906299486322</td>\n      <td>5034722075873021602597750</td>\n      <td>4967011772748759733227735</td>\n      <td>3015712082883572555858</td>\n      <td>...</td>\n      <td>75000</td>\n      <td>10000</td>\n      <td>0</td>\n      <td>False</td>\n      <td>False</td>\n      <td>False</td>\n      <td>3015.712083</td>\n      <td>5.034722e+06</td>\n      <td>2023-02-18 22:49:59</td>\n      <td>4.129513e+06</td>\n    </tr>\n    <tr>\n      <th>4</th>\n      <td>0x66bf36dba79d4606039f04b32946a260bcd3ff52-19405</td>\n      <td>gOHM</td>\n      <td>18</td>\n      <td>FRAX</td>\n      <td>18</td>\n      <td>0</td>\n      <td>350112376599804</td>\n      <td>4698486647811909309719977</td>\n      <td>4636381316961784483066425</td>\n      <td>2938561823965620072232</td>\n      <td>...</td>\n      <td>75000</td>\n      <td>10000</td>\n      <td>0</td>\n      <td>False</td>\n      <td>False</td>\n      <td>False</td>\n      <td>2938.561824</td>\n      <td>4.698487e+06</td>\n      <td>2023-02-17 23:41:35</td>\n      <td>4.018403e+06</td>\n    </tr>\n    <tr>\n      <th>...</th>\n      <td>...</td>\n      <td>...</td>\n      <td>...</td>\n      <td>...</td>\n      <td>...</td>\n      <td>...</td>\n      <td>...</td>\n      <td>...</td>\n      <td>...</td>\n      <td>...</td>\n      <td>...</td>\n      <td>...</td>\n      <td>...</td>\n      <td>...</td>\n      <td>...</td>\n      <td>...</td>\n      <td>...</td>\n      <td>...</td>\n      <td>...</td>\n      <td>...</td>\n      <td>...</td>\n    </tr>\n    <tr>\n      <th>79</th>\n      <td>0x66bf36dba79d4606039f04b32946a260bcd3ff52-19330</td>\n      <td>gOHM</td>\n      <td>18</td>\n      <td>FRAX</td>\n      <td>18</td>\n      <td>0</td>\n      <td>416982985435782</td>\n      <td>3000265799749067769553552</td>\n      <td>2999681610314728238726349</td>\n      <td>1702267776392927486576</td>\n      <td>...</td>\n      <td>75000</td>\n      <td>10000</td>\n      <td>0</td>\n      <td>False</td>\n      <td>False</td>\n      <td>False</td>\n      <td>1702.267776</td>\n      <td>3.000266e+06</td>\n      <td>2022-12-04 23:12:59</td>\n      <td>1.642246e+06</td>\n    </tr>\n    <tr>\n      <th>80</th>\n      <td>0x66bf36dba79d4606039f04b32946a260bcd3ff52-19329</td>\n      <td>gOHM</td>\n      <td>18</td>\n      <td>FRAX</td>\n      <td>18</td>\n      <td>0</td>\n      <td>435238970363534</td>\n      <td>3000407417762830870845360</td>\n      <td>2999931610314728238726349</td>\n      <td>1460557767872656691963</td>\n      <td>...</td>\n      <td>75000</td>\n      <td>10000</td>\n      <td>0</td>\n      <td>False</td>\n      <td>False</td>\n      <td>False</td>\n      <td>1460.557768</td>\n      <td>3.000407e+06</td>\n      <td>2022-12-03 23:30:59</td>\n      <td>1.358687e+06</td>\n    </tr>\n    <tr>\n      <th>81</th>\n      <td>0x66bf36dba79d4606039f04b32946a260bcd3ff52-19328</td>\n      <td>gOHM</td>\n      <td>18</td>\n      <td>FRAX</td>\n      <td>18</td>\n      <td>0</td>\n      <td>424429606966213</td>\n      <td>3000316417810236657492429</td>\n      <td>2999931610314728238726349</td>\n      <td>1298896246642712535146</td>\n      <td>...</td>\n      <td>75000</td>\n      <td>10000</td>\n      <td>0</td>\n      <td>False</td>\n      <td>False</td>\n      <td>False</td>\n      <td>1298.896247</td>\n      <td>3.000316e+06</td>\n      <td>2022-12-02 23:55:59</td>\n      <td>1.287539e+06</td>\n    </tr>\n    <tr>\n      <th>82</th>\n      <td>0x66bf36dba79d4606039f04b32946a260bcd3ff52-19327</td>\n      <td>gOHM</td>\n      <td>18</td>\n      <td>FRAX</td>\n      <td>18</td>\n      <td>0</td>\n      <td>455232217741157</td>\n      <td>1000250018374254924219488</td>\n      <td>1000177511746822029696096</td>\n      <td>116544304370705257</td>\n      <td>...</td>\n      <td>75000</td>\n      <td>10000</td>\n      <td>0</td>\n      <td>False</td>\n      <td>False</td>\n      <td>False</td>\n      <td>0.116544</td>\n      <td>1.000250e+06</td>\n      <td>2022-12-01 21:30:47</td>\n      <td>1.821276e+02</td>\n    </tr>\n    <tr>\n      <th>83</th>\n      <td>0x66bf36dba79d4606039f04b32946a260bcd3ff52-19326</td>\n      <td>gOHM</td>\n      <td>18</td>\n      <td>FRAX</td>\n      <td>18</td>\n      <td>0</td>\n      <td>444954878564299</td>\n      <td>0</td>\n      <td>0</td>\n      <td>0</td>\n      <td>...</td>\n      <td>75000</td>\n      <td>10000</td>\n      <td>0</td>\n      <td>False</td>\n      <td>False</td>\n      <td>False</td>\n      <td>0.000000</td>\n      <td>0.000000e+00</td>\n      <td>2022-11-30 18:49:35</td>\n      <td>0.000000e+00</td>\n    </tr>\n  </tbody>\n</table>\n<p>84 rows × 41 columns</p>\n</div>"
     },
     "execution_count": 1070,
     "metadata": {},
     "output_type": "execute_result"
    }
   ],
   "source": [
    "pairSnapshotsDb['pairPerDays_totalCollateralReadable'] = pairSnapshotsDb['pairPerDays_totalCollateral']/(10**(pairSnapshotsDb['pairPerDays_pair_collateral_decimals']))\n",
    "pairSnapshotsDb['pairPerDays_totalCollateralReadable']=pairSnapshotsDb['pairPerDays_totalCollateralReadable'].astype('float')\n",
    "\n",
    "pairSnapshotsDb['pairPerDays_totalAssetAmountReadable'] = pairSnapshotsDb['pairPerDays_totalAssetAmount']/(10**(pairSnapshotsDb['pairPerDays_pair_asset_decimals']))\n",
    "pairSnapshotsDb['pairPerDays_totalAssetAmountReadable']=pairSnapshotsDb['pairPerDays_totalAssetAmountReadable'].astype('float')\n",
    "\n",
    "pairSnapshotsDb['pairPerDays_totalBorrowAmountReadable'] = pairSnapshotsDb['pairPerDays_totalBorrowAmount']/(10**(pairSnapshotsDb['pairPerDays_pair_asset_decimals']))\n",
    "pairSnapshotsDb['pairPerDays_totalBorrowAmountReadable']=pairSnapshotsDb['pairPerDays_totalBorrowAmountReadable'].astype('float')\n",
    "\n",
    "\n",
    "pairSnapshotsDb['dateTime'] =(pd.to_datetime(pairSnapshotsDb['pairPerDays_timestamp'],unit='s'))\n",
    "\n",
    "pairSnapshotsDb.drop_duplicates(keep =\"first\",inplace = True)\n",
    "\n",
    "\n",
    "pairSnapshotsDb.head(2000)"
   ],
   "metadata": {
    "collapsed": false
   }
  },
  {
   "cell_type": "code",
   "execution_count": 1071,
   "outputs": [
    {
     "name": "stdout",
     "output_type": "stream",
     "text": [
      "D:\\Dropbox\\Documents\\Edgecaser LLC\\Projects\\Olympus\\Econohmetrics\\gohmAsStablecoinCollateral/data/fraxPairSnapshotsLength_piped.csv file saved, 84  records at 2023-02-19 23:04:31.545266\n"
     ]
    }
   ],
   "source": [
    "fraxPairSnapshotsLength = len(pairSnapshotsDb)\n",
    "path =file+'/fraxPairSnapshotsLength.csv'\n",
    "pairSnapshotsDb.to_csv(path, index = False)\n",
    "\n",
    "path =file+'/fraxPairSnapshotsLength_piped.csv'\n",
    "pairSnapshotsDb.to_csv(path, index = False, sep='|')\n",
    "print(path, 'file saved,', fraxPairSnapshotsLength,' records at', (dt.datetime.now()) )"
   ],
   "metadata": {
    "collapsed": false
   }
  },
  {
   "cell_type": "code",
   "execution_count": 1085,
   "outputs": [
    {
     "data": {
      "text/plain": "3049.199062322649"
     },
     "execution_count": 1085,
     "metadata": {},
     "output_type": "execute_result"
    }
   ],
   "source": [
    "fraxCollateral = pairSnapshotsDb.iat[pairSnapshotsTicker,37]\n",
    "fraxCollateral"
   ],
   "metadata": {
    "collapsed": false
   }
  },
  {
   "cell_type": "code",
   "execution_count": 1084,
   "outputs": [
    {
     "data": {
      "text/plain": "182.3034925748639"
     },
     "execution_count": 1084,
     "metadata": {},
     "output_type": "execute_result"
    }
   ],
   "source": [
    "siloCollateralBalance"
   ],
   "metadata": {
    "collapsed": false
   }
  },
  {
   "cell_type": "code",
   "execution_count": 1082,
   "outputs": [
    {
     "data": {
      "text/plain": "4201392.002732461"
     },
     "execution_count": 1082,
     "metadata": {},
     "output_type": "execute_result"
    }
   ],
   "source": [
    "totalBorrowedUSDFrax= pairSnapshotsDb.iat[pairSnapshotsTicker,40]\n",
    "totalBorrowedUSDFrax"
   ],
   "metadata": {
    "collapsed": false
   }
  },
  {
   "cell_type": "code",
   "execution_count": 1089,
   "outputs": [
    {
     "data": {
      "text/plain": "  protocol  collateralBalance  totalBorrowed\n0     Frax        3049.199062   4.201392e+06\n1    vesta           0.000000   0.000000e+00\n2     silo         182.303493   5.645797e+05",
      "text/html": "<div>\n<style scoped>\n    .dataframe tbody tr th:only-of-type {\n        vertical-align: middle;\n    }\n\n    .dataframe tbody tr th {\n        vertical-align: top;\n    }\n\n    .dataframe thead th {\n        text-align: right;\n    }\n</style>\n<table border=\"1\" class=\"dataframe\">\n  <thead>\n    <tr style=\"text-align: right;\">\n      <th></th>\n      <th>protocol</th>\n      <th>collateralBalance</th>\n      <th>totalBorrowed</th>\n    </tr>\n  </thead>\n  <tbody>\n    <tr>\n      <th>0</th>\n      <td>Frax</td>\n      <td>3049.199062</td>\n      <td>4.201392e+06</td>\n    </tr>\n    <tr>\n      <th>1</th>\n      <td>vesta</td>\n      <td>0.000000</td>\n      <td>0.000000e+00</td>\n    </tr>\n    <tr>\n      <th>2</th>\n      <td>silo</td>\n      <td>182.303493</td>\n      <td>5.645797e+05</td>\n    </tr>\n  </tbody>\n</table>\n</div>"
     },
     "execution_count": 1089,
     "metadata": {},
     "output_type": "execute_result"
    }
   ],
   "source": [
    "collateralGohmLevels = pd.DataFrame({\n",
    "    'protocol':['Frax','vesta','silo'],\n",
    "    'collateralBalance':[fraxCollateral,0,siloCollateralBalance],\n",
    "    'totalBorrowed':[totalBorrowedUSDFrax,0,totalBorrowedUSDSilo]\n",
    "})\n",
    "collateralGohmLevels.head(10)"
   ],
   "metadata": {
    "collapsed": false
   }
  },
  {
   "cell_type": "code",
   "execution_count": 1090,
   "outputs": [
    {
     "name": "stdout",
     "output_type": "stream",
     "text": [
      "D:\\Dropbox\\Documents\\Edgecaser LLC\\Projects\\Olympus\\Econohmetrics\\gohmAsStablecoinCollateral/data/collateralGohmLevels_piped.csv file saved, 3  records at 2023-02-19 23:11:36.967639\n"
     ]
    }
   ],
   "source": [
    "collateralGohmLevelsLength = len(collateralGohmLevels)\n",
    "path =file+'/collateralGohmLevels.csv'\n",
    "collateralGohmLevels.to_csv(path, index = False)\n",
    "\n",
    "path =file+'/collateralGohmLevels_piped.csv'\n",
    "collateralGohmLevels.to_csv(path, index = False, sep='|')\n",
    "print(path, 'file saved,', collateralGohmLevelsLength,' records at', (dt.datetime.now()) )"
   ],
   "metadata": {
    "collapsed": false
   }
  },
  {
   "cell_type": "code",
   "execution_count": 1091,
   "outputs": [
    {
     "data": {
      "text/plain": "564579.7034215739"
     },
     "execution_count": 1091,
     "metadata": {},
     "output_type": "execute_result"
    }
   ],
   "source": [
    "totalBorrowedUSDSilo"
   ],
   "metadata": {
    "collapsed": false
   }
  },
  {
   "cell_type": "code",
   "execution_count": null,
   "outputs": [],
   "source": [],
   "metadata": {
    "collapsed": false
   }
  }
 ],
 "metadata": {
  "kernelspec": {
   "display_name": "Python 3",
   "language": "python",
   "name": "python3"
  },
  "language_info": {
   "codemirror_mode": {
    "name": "ipython",
    "version": 2
   },
   "file_extension": ".py",
   "mimetype": "text/x-python",
   "name": "python",
   "nbconvert_exporter": "python",
   "pygments_lexer": "ipython2",
   "version": "2.7.6"
  }
 },
 "nbformat": 4,
 "nbformat_minor": 0
}
