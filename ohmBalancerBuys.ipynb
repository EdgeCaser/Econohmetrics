{
 "cells": [
  {
   "cell_type": "code",
   "execution_count": 40,
   "outputs": [],
   "source": [
    "from datetime import datetime\n",
    "from datetime import date\n",
    "from subgrounds.subgraph import SyntheticField, FieldPath\n",
    "from subgrounds.subgrounds import Subgrounds\n",
    "import pandas as pd\n",
    "import duckdb as db\n",
    "import  os as os\n",
    "import seaborn as sns\n",
    "import matplotlib.pyplot as plt"
   ],
   "metadata": {
    "collapsed": false
   }
  },
  {
   "cell_type": "code",
   "execution_count": 41,
   "outputs": [],
   "source": [
    "file = input('Selet a folder to save output') ##enter your file path here - the file is in the repo \"summary_stats.csv\"."
   ],
   "metadata": {
    "collapsed": false
   }
  },
  {
   "cell_type": "code",
   "execution_count": 42,
   "outputs": [],
   "source": [
    "sg = Subgrounds()\n",
    "apiKey = input('API Key, please')\n"
   ],
   "metadata": {
    "collapsed": false
   }
  },
  {
   "cell_type": "code",
   "execution_count": 43,
   "outputs": [],
   "source": [
    "balancer = sg.load_api('https://gateway.thegraph.com/api/'+apiKey+'/subgraphs/id/Ei5typKWPepPSgqkaKf3p5bPhgJesnu1RuRpyt69Pcrx')\n"
   ],
   "metadata": {
    "collapsed": false
   }
  },
  {
   "cell_type": "markdown",
   "source": [
    "0x0595328847AF962F951a4f8F8eE9A3Bf261e4f6b OHM V2 contract"
   ],
   "metadata": {
    "collapsed": false
   }
  },
  {
   "cell_type": "code",
   "execution_count": 44,
   "outputs": [
    {
     "name": "stdout",
     "output_type": "stream",
     "text": [
      "iterations:  0 Lines skipped:  0 records collected:  1000  - buys DB length:  1000  - latest record from:  2023-02-06 21:54:23 0 days ago\n",
      "iterations:  1 Lines skipped:  1000 records collected:  2000  - buys DB length:  1000  - latest record from:  2023-01-15 17:01:59 22 days ago\n",
      "iterations:  2 Lines skipped:  2000 records collected:  3000  - buys DB length:  1000  - latest record from:  2022-12-11 20:06:23 57 days ago\n",
      "Done. Total Records collected:  3000\n"
     ]
    }
   ],
   "source": [
    "buysListLength=0\n",
    "buysTicker = 0\n",
    "OhmBuyersDb = pd.DataFrame()\n",
    "buysDb = pd.DataFrame()\n",
    "buysListLength = 1000\n",
    "\n",
    "datediff = 0\n",
    "now=0\n",
    "daysAgo=0\n",
    "daysLimit = 45\n",
    "\n",
    "while daysAgo<=daysLimit:\n",
    "    skipValue = (buysTicker)*(1000)\n",
    "    swaps = balancer.Query.swaps(\n",
    "        orderBy='timestamp',\n",
    "        orderDirection='desc',\n",
    "        first=1000,\n",
    "        skip = skipValue,\n",
    "        where={ 'tokenOut': '0x64aa3364f17a4d01c6f1751fd97c2bd3d7e7f1d5' }\n",
    "\n",
    "    )\n",
    "\n",
    "    buysDb = sg.query_df([\n",
    "        swaps.id\n",
    "        ,swaps.hash\n",
    "        ,swaps.logIndex\n",
    "        ,swaps.to\n",
    "        ,swaps.blockNumber\n",
    "        ,swaps.timestamp\n",
    "        ,swaps.tokenIn\n",
    "        ,swaps.tokenOut\n",
    "        ,swaps.amountIn\n",
    "        ,swaps.amountInUSD\n",
    "        ,swaps.amountOut\n",
    "        ,swaps.amountOutUSD\n",
    "    ])\n",
    "\n",
    "    buysDb.sort_values(by=['swaps_timestamp'])\n",
    "\n",
    "    OhmBuyersDb=pd.concat([buysDb, OhmBuyersDb])\n",
    "\n",
    "    recordTimestamp1 = buysDb.iat[buysTicker,5]\n",
    "    recordTimestamp = datetime.fromtimestamp( recordTimestamp1 )\n",
    "\n",
    "    now = (int(datetime.utcnow().timestamp()))\n",
    "\n",
    "    datediff=abs(int(now) - recordTimestamp1)\n",
    "\n",
    "    daysAgo = int(datediff/86400)\n",
    "\n",
    "    buyersDbLength = len(OhmBuyersDb)\n",
    "    buysListLength = len(buysDb)\n",
    "\n",
    "    recordID = buysDb.iat[buysTicker,0]\n",
    "    print(\"iterations: \", buysTicker, \"Lines skipped: \",skipValue, \"records collected: \", buyersDbLength, \" - buys DB length: \", buysListLength, \" - latest record from: \", recordTimestamp, daysAgo,\"days ago\")\n",
    "    buysTicker = buysTicker+1\n",
    "\n",
    "print(\"Done. Total Records collected: \", buyersDbLength)"
   ],
   "metadata": {
    "collapsed": false
   }
  },
  {
   "cell_type": "code",
   "execution_count": 45,
   "outputs": [
    {
     "data": {
      "text/plain": "                                            swaps_id  \\\n0  swap-0xc2a65708bba063b2f2f67866ef9e23e063e6a59...   \n1  swap-0xc607bc3e2d69e5c5e7e657735e33d900d704349...   \n2  swap-0xda58b7fea0d6879e8405a7cdc539283207516d3...   \n3  swap-0x664bdd80202b710390fcdec768da972263bb949...   \n4  swap-0x1afe5f2201a23a9c01598f146373f6ceeb5ebc4...   \n5  swap-0xecd2cb97ca88776f9b06aaf40a27120eb51367e...   \n6  swap-0xb5a715698330057bf057b2cd160c6711a1f962d...   \n7  swap-0x105cba540838f759127c276160c9105a228944c...   \n8  swap-0xd15dbfc3b668caf025be0ac0989cb3dbe0a01ee...   \n9  swap-0x710e03ba3d1a9a61da68a7187ef39d15c68068f...   \n\n                                          swaps_hash  swaps_logIndex  \\\n0  0xc2a65708bba063b2f2f67866ef9e23e063e6a5903fa1...               4   \n1  0xc607bc3e2d69e5c5e7e657735e33d900d704349ae0bb...               6   \n2  0xda58b7fea0d6879e8405a7cdc539283207516d3c65c0...             120   \n3  0x664bdd80202b710390fcdec768da972263bb9493f50f...             126   \n4  0x1afe5f2201a23a9c01598f146373f6ceeb5ebc426293...              23   \n5  0xecd2cb97ca88776f9b06aaf40a27120eb51367e5151e...               4   \n6  0xb5a715698330057bf057b2cd160c6711a1f962d23aef...              16   \n7  0x105cba540838f759127c276160c9105a228944c9a5c5...               5   \n8  0xd15dbfc3b668caf025be0ac0989cb3dbe0a01ee3c2ea...               0   \n9  0x710e03ba3d1a9a61da68a7187ef39d15c68068f056a0...              85   \n\n                                     swaps_to  swaps_blockNumber  \\\n0  0xc45d42f801105e861e86658648e3678ad7aa70f9           16166822   \n1  0xf5f6fb82649df7991054ef796c39da81b93364df           16166626   \n2  0xd1ec5e215e8148d76f4460e4097fd3d5ae0a3558           16166133   \n3  0x76fcf0e8c7ff37a47a799fa2cd4c13cde0d981c9           16166119   \n4  0xd1ec5e215e8148d76f4460e4097fd3d5ae0a3558           16165790   \n5  0xd1ec5e215e8148d76f4460e4097fd3d5ae0a3558           16165781   \n6  0xd1ec5e215e8148d76f4460e4097fd3d5ae0a3558           16165775   \n7  0x2de32a7c98c3ef6ec79e703500e8ca5b2ec819aa           16165769   \n8  0xf5f6fb82649df7991054ef796c39da81b93364df           16165589   \n9  0xc45d42f801105e861e86658648e3678ad7aa70f9           16165417   \n\n   swaps_timestamp                            swaps_tokenIn_id  \\\n0       1670826287  0x6b175474e89094c44da98b954eedeac495271d0f   \n1       1670823911  0x0391d2021f89dc339f60fff84546ea23e337750f   \n2       1670817983  0xc02aaa39b223fe8d0a0e5c4f27ead9083c756cc2   \n3       1670817815  0x6b175474e89094c44da98b954eedeac495271d0f   \n4       1670813855  0xc02aaa39b223fe8d0a0e5c4f27ead9083c756cc2   \n5       1670813747  0xc02aaa39b223fe8d0a0e5c4f27ead9083c756cc2   \n6       1670813675  0xc02aaa39b223fe8d0a0e5c4f27ead9083c756cc2   \n7       1670813603  0xc55126051b22ebb829d00368f4b12bde432de5da   \n8       1670811443  0x0391d2021f89dc339f60fff84546ea23e337750f   \n9       1670809355  0xc02aaa39b223fe8d0a0e5c4f27ead9083c756cc2   \n\n            swaps_tokenIn_name swaps_tokenIn_symbol  swaps_tokenIn_decimals  \\\n0               Dai Stablecoin                  DAI                      18   \n1  BarnBridge Governance Token                 BOND                      18   \n2                Wrapped Ether                 WETH                      18   \n3               Dai Stablecoin                  DAI                      18   \n4                Wrapped Ether                 WETH                      18   \n5                Wrapped Ether                 WETH                      18   \n6                Wrapped Ether                 WETH                      18   \n7                       BTRFLY               BTRFLY                      18   \n8  BarnBridge Governance Token                 BOND                      18   \n9                Wrapped Ether                 WETH                      18   \n\n   ...                           swaps_tokenOut_id  swaps_tokenOut_name  \\\n0  ...  0x64aa3364f17a4d01c6f1751fd97c2bd3d7e7f1d5              Olympus   \n1  ...  0x64aa3364f17a4d01c6f1751fd97c2bd3d7e7f1d5              Olympus   \n2  ...  0x64aa3364f17a4d01c6f1751fd97c2bd3d7e7f1d5              Olympus   \n3  ...  0x64aa3364f17a4d01c6f1751fd97c2bd3d7e7f1d5              Olympus   \n4  ...  0x64aa3364f17a4d01c6f1751fd97c2bd3d7e7f1d5              Olympus   \n5  ...  0x64aa3364f17a4d01c6f1751fd97c2bd3d7e7f1d5              Olympus   \n6  ...  0x64aa3364f17a4d01c6f1751fd97c2bd3d7e7f1d5              Olympus   \n7  ...  0x64aa3364f17a4d01c6f1751fd97c2bd3d7e7f1d5              Olympus   \n8  ...  0x64aa3364f17a4d01c6f1751fd97c2bd3d7e7f1d5              Olympus   \n9  ...  0x64aa3364f17a4d01c6f1751fd97c2bd3d7e7f1d5              Olympus   \n\n  swaps_tokenOut_symbol swaps_tokenOut_decimals swaps_tokenOut_lastPriceUSD  \\\n0                   OHM                       9                   10.139967   \n1                   OHM                       9                   10.139967   \n2                   OHM                       9                   10.139967   \n3                   OHM                       9                   10.139967   \n4                   OHM                       9                   10.139967   \n5                   OHM                       9                   10.139967   \n6                   OHM                       9                   10.139967   \n7                   OHM                       9                   10.139967   \n8                   OHM                       9                   10.139967   \n9                   OHM                       9                   10.139967   \n\n   swaps_tokenOut_lastPriceBlockNumber          swaps_amountIn  \\\n0                             16570566  7600000000000000000000   \n1                             16570566    25319693094629157180   \n2                             16570566    11588700273213665613   \n3                             16570566  6000000000000000000000   \n4                             16570566     5464259765451893924   \n5                             16570566     7384497801985259633   \n6                             16570566    11899824805506203468   \n7                             16570566    15027695242192714985   \n8                             16570566   397721888826627920276   \n9                             16570566      489647829012837101   \n\n   swaps_amountInUSD swaps_amountOut  swaps_amountOutUSD  \n0        7598.084800    817961760842         7474.896928  \n1         320.043908     10822159953           98.897692  \n2       14636.818360   1550990520894        14173.638469  \n3        5998.488000    645869534398         5902.241926  \n4        6901.496783    733348255873         6701.661235  \n5        9326.805462    993137876623         9075.733877  \n6       15029.776427   1605449068415        14671.304801  \n7           0.000000    194542360850         1777.814276  \n8        5027.251606    170686496254         1559.808817  \n9         618.437458     66086052397          603.923623  \n\n[10 rows x 22 columns]",
      "text/html": "<div>\n<style scoped>\n    .dataframe tbody tr th:only-of-type {\n        vertical-align: middle;\n    }\n\n    .dataframe tbody tr th {\n        vertical-align: top;\n    }\n\n    .dataframe thead th {\n        text-align: right;\n    }\n</style>\n<table border=\"1\" class=\"dataframe\">\n  <thead>\n    <tr style=\"text-align: right;\">\n      <th></th>\n      <th>swaps_id</th>\n      <th>swaps_hash</th>\n      <th>swaps_logIndex</th>\n      <th>swaps_to</th>\n      <th>swaps_blockNumber</th>\n      <th>swaps_timestamp</th>\n      <th>swaps_tokenIn_id</th>\n      <th>swaps_tokenIn_name</th>\n      <th>swaps_tokenIn_symbol</th>\n      <th>swaps_tokenIn_decimals</th>\n      <th>...</th>\n      <th>swaps_tokenOut_id</th>\n      <th>swaps_tokenOut_name</th>\n      <th>swaps_tokenOut_symbol</th>\n      <th>swaps_tokenOut_decimals</th>\n      <th>swaps_tokenOut_lastPriceUSD</th>\n      <th>swaps_tokenOut_lastPriceBlockNumber</th>\n      <th>swaps_amountIn</th>\n      <th>swaps_amountInUSD</th>\n      <th>swaps_amountOut</th>\n      <th>swaps_amountOutUSD</th>\n    </tr>\n  </thead>\n  <tbody>\n    <tr>\n      <th>0</th>\n      <td>swap-0xc2a65708bba063b2f2f67866ef9e23e063e6a59...</td>\n      <td>0xc2a65708bba063b2f2f67866ef9e23e063e6a5903fa1...</td>\n      <td>4</td>\n      <td>0xc45d42f801105e861e86658648e3678ad7aa70f9</td>\n      <td>16166822</td>\n      <td>1670826287</td>\n      <td>0x6b175474e89094c44da98b954eedeac495271d0f</td>\n      <td>Dai Stablecoin</td>\n      <td>DAI</td>\n      <td>18</td>\n      <td>...</td>\n      <td>0x64aa3364f17a4d01c6f1751fd97c2bd3d7e7f1d5</td>\n      <td>Olympus</td>\n      <td>OHM</td>\n      <td>9</td>\n      <td>10.139967</td>\n      <td>16570566</td>\n      <td>7600000000000000000000</td>\n      <td>7598.084800</td>\n      <td>817961760842</td>\n      <td>7474.896928</td>\n    </tr>\n    <tr>\n      <th>1</th>\n      <td>swap-0xc607bc3e2d69e5c5e7e657735e33d900d704349...</td>\n      <td>0xc607bc3e2d69e5c5e7e657735e33d900d704349ae0bb...</td>\n      <td>6</td>\n      <td>0xf5f6fb82649df7991054ef796c39da81b93364df</td>\n      <td>16166626</td>\n      <td>1670823911</td>\n      <td>0x0391d2021f89dc339f60fff84546ea23e337750f</td>\n      <td>BarnBridge Governance Token</td>\n      <td>BOND</td>\n      <td>18</td>\n      <td>...</td>\n      <td>0x64aa3364f17a4d01c6f1751fd97c2bd3d7e7f1d5</td>\n      <td>Olympus</td>\n      <td>OHM</td>\n      <td>9</td>\n      <td>10.139967</td>\n      <td>16570566</td>\n      <td>25319693094629157180</td>\n      <td>320.043908</td>\n      <td>10822159953</td>\n      <td>98.897692</td>\n    </tr>\n    <tr>\n      <th>2</th>\n      <td>swap-0xda58b7fea0d6879e8405a7cdc539283207516d3...</td>\n      <td>0xda58b7fea0d6879e8405a7cdc539283207516d3c65c0...</td>\n      <td>120</td>\n      <td>0xd1ec5e215e8148d76f4460e4097fd3d5ae0a3558</td>\n      <td>16166133</td>\n      <td>1670817983</td>\n      <td>0xc02aaa39b223fe8d0a0e5c4f27ead9083c756cc2</td>\n      <td>Wrapped Ether</td>\n      <td>WETH</td>\n      <td>18</td>\n      <td>...</td>\n      <td>0x64aa3364f17a4d01c6f1751fd97c2bd3d7e7f1d5</td>\n      <td>Olympus</td>\n      <td>OHM</td>\n      <td>9</td>\n      <td>10.139967</td>\n      <td>16570566</td>\n      <td>11588700273213665613</td>\n      <td>14636.818360</td>\n      <td>1550990520894</td>\n      <td>14173.638469</td>\n    </tr>\n    <tr>\n      <th>3</th>\n      <td>swap-0x664bdd80202b710390fcdec768da972263bb949...</td>\n      <td>0x664bdd80202b710390fcdec768da972263bb9493f50f...</td>\n      <td>126</td>\n      <td>0x76fcf0e8c7ff37a47a799fa2cd4c13cde0d981c9</td>\n      <td>16166119</td>\n      <td>1670817815</td>\n      <td>0x6b175474e89094c44da98b954eedeac495271d0f</td>\n      <td>Dai Stablecoin</td>\n      <td>DAI</td>\n      <td>18</td>\n      <td>...</td>\n      <td>0x64aa3364f17a4d01c6f1751fd97c2bd3d7e7f1d5</td>\n      <td>Olympus</td>\n      <td>OHM</td>\n      <td>9</td>\n      <td>10.139967</td>\n      <td>16570566</td>\n      <td>6000000000000000000000</td>\n      <td>5998.488000</td>\n      <td>645869534398</td>\n      <td>5902.241926</td>\n    </tr>\n    <tr>\n      <th>4</th>\n      <td>swap-0x1afe5f2201a23a9c01598f146373f6ceeb5ebc4...</td>\n      <td>0x1afe5f2201a23a9c01598f146373f6ceeb5ebc426293...</td>\n      <td>23</td>\n      <td>0xd1ec5e215e8148d76f4460e4097fd3d5ae0a3558</td>\n      <td>16165790</td>\n      <td>1670813855</td>\n      <td>0xc02aaa39b223fe8d0a0e5c4f27ead9083c756cc2</td>\n      <td>Wrapped Ether</td>\n      <td>WETH</td>\n      <td>18</td>\n      <td>...</td>\n      <td>0x64aa3364f17a4d01c6f1751fd97c2bd3d7e7f1d5</td>\n      <td>Olympus</td>\n      <td>OHM</td>\n      <td>9</td>\n      <td>10.139967</td>\n      <td>16570566</td>\n      <td>5464259765451893924</td>\n      <td>6901.496783</td>\n      <td>733348255873</td>\n      <td>6701.661235</td>\n    </tr>\n    <tr>\n      <th>5</th>\n      <td>swap-0xecd2cb97ca88776f9b06aaf40a27120eb51367e...</td>\n      <td>0xecd2cb97ca88776f9b06aaf40a27120eb51367e5151e...</td>\n      <td>4</td>\n      <td>0xd1ec5e215e8148d76f4460e4097fd3d5ae0a3558</td>\n      <td>16165781</td>\n      <td>1670813747</td>\n      <td>0xc02aaa39b223fe8d0a0e5c4f27ead9083c756cc2</td>\n      <td>Wrapped Ether</td>\n      <td>WETH</td>\n      <td>18</td>\n      <td>...</td>\n      <td>0x64aa3364f17a4d01c6f1751fd97c2bd3d7e7f1d5</td>\n      <td>Olympus</td>\n      <td>OHM</td>\n      <td>9</td>\n      <td>10.139967</td>\n      <td>16570566</td>\n      <td>7384497801985259633</td>\n      <td>9326.805462</td>\n      <td>993137876623</td>\n      <td>9075.733877</td>\n    </tr>\n    <tr>\n      <th>6</th>\n      <td>swap-0xb5a715698330057bf057b2cd160c6711a1f962d...</td>\n      <td>0xb5a715698330057bf057b2cd160c6711a1f962d23aef...</td>\n      <td>16</td>\n      <td>0xd1ec5e215e8148d76f4460e4097fd3d5ae0a3558</td>\n      <td>16165775</td>\n      <td>1670813675</td>\n      <td>0xc02aaa39b223fe8d0a0e5c4f27ead9083c756cc2</td>\n      <td>Wrapped Ether</td>\n      <td>WETH</td>\n      <td>18</td>\n      <td>...</td>\n      <td>0x64aa3364f17a4d01c6f1751fd97c2bd3d7e7f1d5</td>\n      <td>Olympus</td>\n      <td>OHM</td>\n      <td>9</td>\n      <td>10.139967</td>\n      <td>16570566</td>\n      <td>11899824805506203468</td>\n      <td>15029.776427</td>\n      <td>1605449068415</td>\n      <td>14671.304801</td>\n    </tr>\n    <tr>\n      <th>7</th>\n      <td>swap-0x105cba540838f759127c276160c9105a228944c...</td>\n      <td>0x105cba540838f759127c276160c9105a228944c9a5c5...</td>\n      <td>5</td>\n      <td>0x2de32a7c98c3ef6ec79e703500e8ca5b2ec819aa</td>\n      <td>16165769</td>\n      <td>1670813603</td>\n      <td>0xc55126051b22ebb829d00368f4b12bde432de5da</td>\n      <td>BTRFLY</td>\n      <td>BTRFLY</td>\n      <td>18</td>\n      <td>...</td>\n      <td>0x64aa3364f17a4d01c6f1751fd97c2bd3d7e7f1d5</td>\n      <td>Olympus</td>\n      <td>OHM</td>\n      <td>9</td>\n      <td>10.139967</td>\n      <td>16570566</td>\n      <td>15027695242192714985</td>\n      <td>0.000000</td>\n      <td>194542360850</td>\n      <td>1777.814276</td>\n    </tr>\n    <tr>\n      <th>8</th>\n      <td>swap-0xd15dbfc3b668caf025be0ac0989cb3dbe0a01ee...</td>\n      <td>0xd15dbfc3b668caf025be0ac0989cb3dbe0a01ee3c2ea...</td>\n      <td>0</td>\n      <td>0xf5f6fb82649df7991054ef796c39da81b93364df</td>\n      <td>16165589</td>\n      <td>1670811443</td>\n      <td>0x0391d2021f89dc339f60fff84546ea23e337750f</td>\n      <td>BarnBridge Governance Token</td>\n      <td>BOND</td>\n      <td>18</td>\n      <td>...</td>\n      <td>0x64aa3364f17a4d01c6f1751fd97c2bd3d7e7f1d5</td>\n      <td>Olympus</td>\n      <td>OHM</td>\n      <td>9</td>\n      <td>10.139967</td>\n      <td>16570566</td>\n      <td>397721888826627920276</td>\n      <td>5027.251606</td>\n      <td>170686496254</td>\n      <td>1559.808817</td>\n    </tr>\n    <tr>\n      <th>9</th>\n      <td>swap-0x710e03ba3d1a9a61da68a7187ef39d15c68068f...</td>\n      <td>0x710e03ba3d1a9a61da68a7187ef39d15c68068f056a0...</td>\n      <td>85</td>\n      <td>0xc45d42f801105e861e86658648e3678ad7aa70f9</td>\n      <td>16165417</td>\n      <td>1670809355</td>\n      <td>0xc02aaa39b223fe8d0a0e5c4f27ead9083c756cc2</td>\n      <td>Wrapped Ether</td>\n      <td>WETH</td>\n      <td>18</td>\n      <td>...</td>\n      <td>0x64aa3364f17a4d01c6f1751fd97c2bd3d7e7f1d5</td>\n      <td>Olympus</td>\n      <td>OHM</td>\n      <td>9</td>\n      <td>10.139967</td>\n      <td>16570566</td>\n      <td>489647829012837101</td>\n      <td>618.437458</td>\n      <td>66086052397</td>\n      <td>603.923623</td>\n    </tr>\n  </tbody>\n</table>\n<p>10 rows × 22 columns</p>\n</div>"
     },
     "execution_count": 45,
     "metadata": {},
     "output_type": "execute_result"
    }
   ],
   "source": [
    "OhmBuyersDb.head(10)"
   ],
   "metadata": {
    "collapsed": false
   }
  },
  {
   "cell_type": "code",
   "execution_count": 46,
   "outputs": [
    {
     "name": "stdout",
     "output_type": "stream",
     "text": [
      "iterations:  0 Lines skipped:  0 records collected:  1000  - Sells DB length:  1000  - latest record from:  2023-02-06 21:20:47 0 days ago\n",
      "iterations:  1 Lines skipped:  1000 records collected:  2000  - Sells DB length:  1000  - latest record from:  2023-01-11 14:07:11 26 days ago\n",
      "iterations:  2 Lines skipped:  2000 records collected:  3000  - Sells DB length:  1000  - latest record from:  2022-12-11 11:08:11 57 days ago\n",
      "Done. Total Records collected:  3000\n"
     ]
    }
   ],
   "source": [
    "SellsListLength=0\n",
    "SellsTicker = 0\n",
    "OhmSellersDb = pd.DataFrame()\n",
    "SellsDb = pd.DataFrame()\n",
    "SellsListLength = 1000\n",
    "\n",
    "datediff = 0\n",
    "now=0\n",
    "daysAgo=0\n",
    "daysLimit = 45\n",
    "\n",
    "while daysAgo<=daysLimit:\n",
    "    skipValue = (SellsTicker)*(1000)\n",
    "    swaps = balancer.Query.swaps(\n",
    "        orderBy='timestamp',\n",
    "        orderDirection='desc',\n",
    "        first=1000,\n",
    "        skip = skipValue,\n",
    "        where={ 'tokenIn': '0x64aa3364f17a4d01c6f1751fd97c2bd3d7e7f1d5' }\n",
    "\n",
    "    )\n",
    "\n",
    "    SellsDb = sg.query_df([\n",
    "        swaps.id\n",
    "        ,swaps.hash\n",
    "        ,swaps.logIndex\n",
    "        ,swaps.to\n",
    "        ,swaps.blockNumber\n",
    "        ,swaps.timestamp\n",
    "        ,swaps.tokenIn\n",
    "        ,swaps.tokenOut\n",
    "        ,swaps.amountIn\n",
    "        ,swaps.amountInUSD\n",
    "        ,swaps.amountOut\n",
    "        ,swaps.amountOutUSD\n",
    "    ])\n",
    "\n",
    "    SellsDb.sort_values(by=['swaps_timestamp'])\n",
    "\n",
    "    OhmSellersDb=pd.concat([SellsDb, OhmSellersDb])\n",
    "\n",
    "    recordTimestamp1 = SellsDb.iat[SellsTicker,5]\n",
    "    recordTimestamp = datetime.fromtimestamp( recordTimestamp1 )\n",
    "\n",
    "    now = (int(datetime.utcnow().timestamp()))\n",
    "\n",
    "    datediff=abs(int(now) - recordTimestamp1)\n",
    "\n",
    "    daysAgo = int(datediff/86400)\n",
    "\n",
    "    sellersDbLength = len(OhmSellersDb)\n",
    "    SellsListLength = len(SellsDb)\n",
    "\n",
    "    recordID = SellsDb.iat[SellsTicker,0]\n",
    "    print(\"iterations: \", SellsTicker, \"Lines skipped: \",skipValue, \"records collected: \", sellersDbLength, \" - Sells DB length: \", SellsListLength, \" - latest record from: \", recordTimestamp, daysAgo,\"days ago\")\n",
    "    SellsTicker = SellsTicker+1\n",
    "\n",
    "print(\"Done. Total Records collected: \", sellersDbLength)"
   ],
   "metadata": {
    "collapsed": false
   }
  },
  {
   "cell_type": "code",
   "execution_count": 47,
   "outputs": [
    {
     "data": {
      "text/plain": "                                            swaps_id  \\\n0  swap-0xbebf3cb2b9d8a7d2f3a928f0066e47d95cb9faa...   \n1  swap-0x839421bb720774f20dc5ceaa35230a080d3b82c...   \n2  swap-0x3cfc8196c0773fdebc6cd897b4b92dda704d209...   \n3  swap-0x3843804b81d7f9f02633acce4b26ab161eb7138...   \n4  swap-0xa1065ec7b2449340728e876e93ef71927b56f03...   \n5  swap-0x17e41f904168fd8ca68468c2f92d3a49a6b3d93...   \n6  swap-0x0dd00fa2ca6d36d905139895f9e87d706fd810e...   \n7  swap-0xd83b078c36ae61a70b860373e6e4a598533f490...   \n8  swap-0xd9157f38727efc3aa159d67ed845b758eeba95b...   \n9  swap-0xe79a8ba50190684617b56ac57dbec23e542f8f5...   \n\n                                          swaps_hash  swaps_logIndex  \\\n0  0xbebf3cb2b9d8a7d2f3a928f0066e47d95cb9faa39714...              13   \n1  0x839421bb720774f20dc5ceaa35230a080d3b82c1c3d1...              43   \n2  0x3cfc8196c0773fdebc6cd897b4b92dda704d20991d43...               7   \n3  0x3843804b81d7f9f02633acce4b26ab161eb7138da9d3...              97   \n4  0xa1065ec7b2449340728e876e93ef71927b56f03a5719...              37   \n5  0x17e41f904168fd8ca68468c2f92d3a49a6b3d934c35d...              82   \n6  0x0dd00fa2ca6d36d905139895f9e87d706fd810e173b5...             142   \n7  0xd83b078c36ae61a70b860373e6e4a598533f490a2f2f...               8   \n8  0xd9157f38727efc3aa159d67ed845b758eeba95b85b6a...               4   \n9  0xe79a8ba50190684617b56ac57dbec23e542f8f5644ef...               1   \n\n                                     swaps_to  swaps_blockNumber  \\\n0  0xd1ec5e215e8148d76f4460e4097fd3d5ae0a3558           16163779   \n1  0xd1ec5e215e8148d76f4460e4097fd3d5ae0a3558           16163590   \n2  0xd1ec5e215e8148d76f4460e4097fd3d5ae0a3558           16163455   \n3  0x76fcf0e8c7ff37a47a799fa2cd4c13cde0d981c9           16161899   \n4  0xc45d42f801105e861e86658648e3678ad7aa70f9           16161864   \n5  0xc45d42f801105e861e86658648e3678ad7aa70f9           16160902   \n6  0x76fcf0e8c7ff37a47a799fa2cd4c13cde0d981c9           16160446   \n7  0x76fcf0e8c7ff37a47a799fa2cd4c13cde0d981c9           16160439   \n8  0xc45d42f801105e861e86658648e3678ad7aa70f9           16160168   \n9  0xc45d42f801105e861e86658648e3678ad7aa70f9           16159563   \n\n   swaps_timestamp                            swaps_tokenIn_id  \\\n0       1670789615  0x64aa3364f17a4d01c6f1751fd97c2bd3d7e7f1d5   \n1       1670787323  0x64aa3364f17a4d01c6f1751fd97c2bd3d7e7f1d5   \n2       1670785691  0x64aa3364f17a4d01c6f1751fd97c2bd3d7e7f1d5   \n3       1670766899  0x64aa3364f17a4d01c6f1751fd97c2bd3d7e7f1d5   \n4       1670766479  0x64aa3364f17a4d01c6f1751fd97c2bd3d7e7f1d5   \n5       1670754911  0x64aa3364f17a4d01c6f1751fd97c2bd3d7e7f1d5   \n6       1670749391  0x64aa3364f17a4d01c6f1751fd97c2bd3d7e7f1d5   \n7       1670749307  0x64aa3364f17a4d01c6f1751fd97c2bd3d7e7f1d5   \n8       1670746043  0x64aa3364f17a4d01c6f1751fd97c2bd3d7e7f1d5   \n9       1670738771  0x64aa3364f17a4d01c6f1751fd97c2bd3d7e7f1d5   \n\n  swaps_tokenIn_name swaps_tokenIn_symbol  swaps_tokenIn_decimals  ...  \\\n0            Olympus                  OHM                       9  ...   \n1            Olympus                  OHM                       9  ...   \n2            Olympus                  OHM                       9  ...   \n3            Olympus                  OHM                       9  ...   \n4            Olympus                  OHM                       9  ...   \n5            Olympus                  OHM                       9  ...   \n6            Olympus                  OHM                       9  ...   \n7            Olympus                  OHM                       9  ...   \n8            Olympus                  OHM                       9  ...   \n9            Olympus                  OHM                       9  ...   \n\n                            swaps_tokenOut_id  swaps_tokenOut_name  \\\n0  0xc02aaa39b223fe8d0a0e5c4f27ead9083c756cc2        Wrapped Ether   \n1  0xc02aaa39b223fe8d0a0e5c4f27ead9083c756cc2        Wrapped Ether   \n2  0xc02aaa39b223fe8d0a0e5c4f27ead9083c756cc2        Wrapped Ether   \n3  0x6b175474e89094c44da98b954eedeac495271d0f       Dai Stablecoin   \n4  0xc02aaa39b223fe8d0a0e5c4f27ead9083c756cc2        Wrapped Ether   \n5  0xc02aaa39b223fe8d0a0e5c4f27ead9083c756cc2        Wrapped Ether   \n6  0x6b175474e89094c44da98b954eedeac495271d0f       Dai Stablecoin   \n7  0x6b175474e89094c44da98b954eedeac495271d0f       Dai Stablecoin   \n8  0xc02aaa39b223fe8d0a0e5c4f27ead9083c756cc2        Wrapped Ether   \n9  0xc02aaa39b223fe8d0a0e5c4f27ead9083c756cc2        Wrapped Ether   \n\n  swaps_tokenOut_symbol swaps_tokenOut_decimals swaps_tokenOut_lastPriceUSD  \\\n0                  WETH                      18                 1648.517700   \n1                  WETH                      18                 1648.517700   \n2                  WETH                      18                 1648.517700   \n3                   DAI                      18                    0.999763   \n4                  WETH                      18                 1648.517700   \n5                  WETH                      18                 1648.517700   \n6                   DAI                      18                    0.999763   \n7                   DAI                      18                    0.999763   \n8                  WETH                      18                 1648.517700   \n9                  WETH                      18                 1648.517700   \n\n   swaps_tokenOut_lastPriceBlockNumber  swaps_amountIn  swaps_amountInUSD  \\\n0                             16571427     76192992705         696.285321   \n1                             16571427     48125939608         439.796156   \n2                             16571427    732242052854        6691.552262   \n3                             16570178   1499493966727       13840.750671   \n4                             16571427     42908908915         396.061287   \n5                             16571427      9081832522          83.827866   \n6                             16570178     64756620208         597.721801   \n7                             16570178     65741601285         606.813453   \n8                             16571427       194227346           1.792773   \n9                             16571427   1518019279874       14011.744517   \n\n           swaps_amountOut  swaps_amountOutUSD  \n0       552076900223449469          698.297378  \n1       348761360995602132          441.132646  \n2      5311414196953247570         6718.170254  \n3  13833996877966636361157        13830.510711  \n4       311288457837761227          393.734847  \n5        65853336543460862           83.294940  \n6    597726770803438557911          597.576144  \n7    606917861629852359855          606.764918  \n8         1408359327785511            1.781371  \n9     10987956120000000000        13898.174238  \n\n[10 rows x 22 columns]",
      "text/html": "<div>\n<style scoped>\n    .dataframe tbody tr th:only-of-type {\n        vertical-align: middle;\n    }\n\n    .dataframe tbody tr th {\n        vertical-align: top;\n    }\n\n    .dataframe thead th {\n        text-align: right;\n    }\n</style>\n<table border=\"1\" class=\"dataframe\">\n  <thead>\n    <tr style=\"text-align: right;\">\n      <th></th>\n      <th>swaps_id</th>\n      <th>swaps_hash</th>\n      <th>swaps_logIndex</th>\n      <th>swaps_to</th>\n      <th>swaps_blockNumber</th>\n      <th>swaps_timestamp</th>\n      <th>swaps_tokenIn_id</th>\n      <th>swaps_tokenIn_name</th>\n      <th>swaps_tokenIn_symbol</th>\n      <th>swaps_tokenIn_decimals</th>\n      <th>...</th>\n      <th>swaps_tokenOut_id</th>\n      <th>swaps_tokenOut_name</th>\n      <th>swaps_tokenOut_symbol</th>\n      <th>swaps_tokenOut_decimals</th>\n      <th>swaps_tokenOut_lastPriceUSD</th>\n      <th>swaps_tokenOut_lastPriceBlockNumber</th>\n      <th>swaps_amountIn</th>\n      <th>swaps_amountInUSD</th>\n      <th>swaps_amountOut</th>\n      <th>swaps_amountOutUSD</th>\n    </tr>\n  </thead>\n  <tbody>\n    <tr>\n      <th>0</th>\n      <td>swap-0xbebf3cb2b9d8a7d2f3a928f0066e47d95cb9faa...</td>\n      <td>0xbebf3cb2b9d8a7d2f3a928f0066e47d95cb9faa39714...</td>\n      <td>13</td>\n      <td>0xd1ec5e215e8148d76f4460e4097fd3d5ae0a3558</td>\n      <td>16163779</td>\n      <td>1670789615</td>\n      <td>0x64aa3364f17a4d01c6f1751fd97c2bd3d7e7f1d5</td>\n      <td>Olympus</td>\n      <td>OHM</td>\n      <td>9</td>\n      <td>...</td>\n      <td>0xc02aaa39b223fe8d0a0e5c4f27ead9083c756cc2</td>\n      <td>Wrapped Ether</td>\n      <td>WETH</td>\n      <td>18</td>\n      <td>1648.517700</td>\n      <td>16571427</td>\n      <td>76192992705</td>\n      <td>696.285321</td>\n      <td>552076900223449469</td>\n      <td>698.297378</td>\n    </tr>\n    <tr>\n      <th>1</th>\n      <td>swap-0x839421bb720774f20dc5ceaa35230a080d3b82c...</td>\n      <td>0x839421bb720774f20dc5ceaa35230a080d3b82c1c3d1...</td>\n      <td>43</td>\n      <td>0xd1ec5e215e8148d76f4460e4097fd3d5ae0a3558</td>\n      <td>16163590</td>\n      <td>1670787323</td>\n      <td>0x64aa3364f17a4d01c6f1751fd97c2bd3d7e7f1d5</td>\n      <td>Olympus</td>\n      <td>OHM</td>\n      <td>9</td>\n      <td>...</td>\n      <td>0xc02aaa39b223fe8d0a0e5c4f27ead9083c756cc2</td>\n      <td>Wrapped Ether</td>\n      <td>WETH</td>\n      <td>18</td>\n      <td>1648.517700</td>\n      <td>16571427</td>\n      <td>48125939608</td>\n      <td>439.796156</td>\n      <td>348761360995602132</td>\n      <td>441.132646</td>\n    </tr>\n    <tr>\n      <th>2</th>\n      <td>swap-0x3cfc8196c0773fdebc6cd897b4b92dda704d209...</td>\n      <td>0x3cfc8196c0773fdebc6cd897b4b92dda704d20991d43...</td>\n      <td>7</td>\n      <td>0xd1ec5e215e8148d76f4460e4097fd3d5ae0a3558</td>\n      <td>16163455</td>\n      <td>1670785691</td>\n      <td>0x64aa3364f17a4d01c6f1751fd97c2bd3d7e7f1d5</td>\n      <td>Olympus</td>\n      <td>OHM</td>\n      <td>9</td>\n      <td>...</td>\n      <td>0xc02aaa39b223fe8d0a0e5c4f27ead9083c756cc2</td>\n      <td>Wrapped Ether</td>\n      <td>WETH</td>\n      <td>18</td>\n      <td>1648.517700</td>\n      <td>16571427</td>\n      <td>732242052854</td>\n      <td>6691.552262</td>\n      <td>5311414196953247570</td>\n      <td>6718.170254</td>\n    </tr>\n    <tr>\n      <th>3</th>\n      <td>swap-0x3843804b81d7f9f02633acce4b26ab161eb7138...</td>\n      <td>0x3843804b81d7f9f02633acce4b26ab161eb7138da9d3...</td>\n      <td>97</td>\n      <td>0x76fcf0e8c7ff37a47a799fa2cd4c13cde0d981c9</td>\n      <td>16161899</td>\n      <td>1670766899</td>\n      <td>0x64aa3364f17a4d01c6f1751fd97c2bd3d7e7f1d5</td>\n      <td>Olympus</td>\n      <td>OHM</td>\n      <td>9</td>\n      <td>...</td>\n      <td>0x6b175474e89094c44da98b954eedeac495271d0f</td>\n      <td>Dai Stablecoin</td>\n      <td>DAI</td>\n      <td>18</td>\n      <td>0.999763</td>\n      <td>16570178</td>\n      <td>1499493966727</td>\n      <td>13840.750671</td>\n      <td>13833996877966636361157</td>\n      <td>13830.510711</td>\n    </tr>\n    <tr>\n      <th>4</th>\n      <td>swap-0xa1065ec7b2449340728e876e93ef71927b56f03...</td>\n      <td>0xa1065ec7b2449340728e876e93ef71927b56f03a5719...</td>\n      <td>37</td>\n      <td>0xc45d42f801105e861e86658648e3678ad7aa70f9</td>\n      <td>16161864</td>\n      <td>1670766479</td>\n      <td>0x64aa3364f17a4d01c6f1751fd97c2bd3d7e7f1d5</td>\n      <td>Olympus</td>\n      <td>OHM</td>\n      <td>9</td>\n      <td>...</td>\n      <td>0xc02aaa39b223fe8d0a0e5c4f27ead9083c756cc2</td>\n      <td>Wrapped Ether</td>\n      <td>WETH</td>\n      <td>18</td>\n      <td>1648.517700</td>\n      <td>16571427</td>\n      <td>42908908915</td>\n      <td>396.061287</td>\n      <td>311288457837761227</td>\n      <td>393.734847</td>\n    </tr>\n    <tr>\n      <th>5</th>\n      <td>swap-0x17e41f904168fd8ca68468c2f92d3a49a6b3d93...</td>\n      <td>0x17e41f904168fd8ca68468c2f92d3a49a6b3d934c35d...</td>\n      <td>82</td>\n      <td>0xc45d42f801105e861e86658648e3678ad7aa70f9</td>\n      <td>16160902</td>\n      <td>1670754911</td>\n      <td>0x64aa3364f17a4d01c6f1751fd97c2bd3d7e7f1d5</td>\n      <td>Olympus</td>\n      <td>OHM</td>\n      <td>9</td>\n      <td>...</td>\n      <td>0xc02aaa39b223fe8d0a0e5c4f27ead9083c756cc2</td>\n      <td>Wrapped Ether</td>\n      <td>WETH</td>\n      <td>18</td>\n      <td>1648.517700</td>\n      <td>16571427</td>\n      <td>9081832522</td>\n      <td>83.827866</td>\n      <td>65853336543460862</td>\n      <td>83.294940</td>\n    </tr>\n    <tr>\n      <th>6</th>\n      <td>swap-0x0dd00fa2ca6d36d905139895f9e87d706fd810e...</td>\n      <td>0x0dd00fa2ca6d36d905139895f9e87d706fd810e173b5...</td>\n      <td>142</td>\n      <td>0x76fcf0e8c7ff37a47a799fa2cd4c13cde0d981c9</td>\n      <td>16160446</td>\n      <td>1670749391</td>\n      <td>0x64aa3364f17a4d01c6f1751fd97c2bd3d7e7f1d5</td>\n      <td>Olympus</td>\n      <td>OHM</td>\n      <td>9</td>\n      <td>...</td>\n      <td>0x6b175474e89094c44da98b954eedeac495271d0f</td>\n      <td>Dai Stablecoin</td>\n      <td>DAI</td>\n      <td>18</td>\n      <td>0.999763</td>\n      <td>16570178</td>\n      <td>64756620208</td>\n      <td>597.721801</td>\n      <td>597726770803438557911</td>\n      <td>597.576144</td>\n    </tr>\n    <tr>\n      <th>7</th>\n      <td>swap-0xd83b078c36ae61a70b860373e6e4a598533f490...</td>\n      <td>0xd83b078c36ae61a70b860373e6e4a598533f490a2f2f...</td>\n      <td>8</td>\n      <td>0x76fcf0e8c7ff37a47a799fa2cd4c13cde0d981c9</td>\n      <td>16160439</td>\n      <td>1670749307</td>\n      <td>0x64aa3364f17a4d01c6f1751fd97c2bd3d7e7f1d5</td>\n      <td>Olympus</td>\n      <td>OHM</td>\n      <td>9</td>\n      <td>...</td>\n      <td>0x6b175474e89094c44da98b954eedeac495271d0f</td>\n      <td>Dai Stablecoin</td>\n      <td>DAI</td>\n      <td>18</td>\n      <td>0.999763</td>\n      <td>16570178</td>\n      <td>65741601285</td>\n      <td>606.813453</td>\n      <td>606917861629852359855</td>\n      <td>606.764918</td>\n    </tr>\n    <tr>\n      <th>8</th>\n      <td>swap-0xd9157f38727efc3aa159d67ed845b758eeba95b...</td>\n      <td>0xd9157f38727efc3aa159d67ed845b758eeba95b85b6a...</td>\n      <td>4</td>\n      <td>0xc45d42f801105e861e86658648e3678ad7aa70f9</td>\n      <td>16160168</td>\n      <td>1670746043</td>\n      <td>0x64aa3364f17a4d01c6f1751fd97c2bd3d7e7f1d5</td>\n      <td>Olympus</td>\n      <td>OHM</td>\n      <td>9</td>\n      <td>...</td>\n      <td>0xc02aaa39b223fe8d0a0e5c4f27ead9083c756cc2</td>\n      <td>Wrapped Ether</td>\n      <td>WETH</td>\n      <td>18</td>\n      <td>1648.517700</td>\n      <td>16571427</td>\n      <td>194227346</td>\n      <td>1.792773</td>\n      <td>1408359327785511</td>\n      <td>1.781371</td>\n    </tr>\n    <tr>\n      <th>9</th>\n      <td>swap-0xe79a8ba50190684617b56ac57dbec23e542f8f5...</td>\n      <td>0xe79a8ba50190684617b56ac57dbec23e542f8f5644ef...</td>\n      <td>1</td>\n      <td>0xc45d42f801105e861e86658648e3678ad7aa70f9</td>\n      <td>16159563</td>\n      <td>1670738771</td>\n      <td>0x64aa3364f17a4d01c6f1751fd97c2bd3d7e7f1d5</td>\n      <td>Olympus</td>\n      <td>OHM</td>\n      <td>9</td>\n      <td>...</td>\n      <td>0xc02aaa39b223fe8d0a0e5c4f27ead9083c756cc2</td>\n      <td>Wrapped Ether</td>\n      <td>WETH</td>\n      <td>18</td>\n      <td>1648.517700</td>\n      <td>16571427</td>\n      <td>1518019279874</td>\n      <td>14011.744517</td>\n      <td>10987956120000000000</td>\n      <td>13898.174238</td>\n    </tr>\n  </tbody>\n</table>\n<p>10 rows × 22 columns</p>\n</div>"
     },
     "execution_count": 47,
     "metadata": {},
     "output_type": "execute_result"
    }
   ],
   "source": [
    "OhmSellersDb.head(10)"
   ],
   "metadata": {
    "collapsed": false
   }
  },
  {
   "cell_type": "code",
   "execution_count": 48,
   "outputs": [],
   "source": [
    "path =file+'/OHMBalancerBuys '+str(datetime.today().strftime(\"%b-%d-%Y\"))+\"_\"+str(buyersDbLength)+'records.csv'\n",
    "OhmBuyersDb.to_csv(path, index = False)\n",
    "path =file+'/OHMBalancerSells '+str(datetime.today().strftime(\"%b-%d-%Y\"))+\"_\"+str(buyersDbLength)+'records.csv'\n",
    "OhmSellersDb.to_csv(path, index = False)"
   ],
   "metadata": {
    "collapsed": false
   }
  },
  {
   "cell_type": "code",
   "execution_count": 49,
   "outputs": [],
   "source": [
    "path =file+'/OHMBalancerBuys '+str(datetime.today().strftime(\"%b-%d-%Y\"))+\"_\"+str(buyersDbLength)+'recordsPIPED.csv'\n",
    "OhmBuyersDb.to_csv(path, index = False, sep = '|')\n",
    "path =file+'/OHMBalancerSells '+str(datetime.today().strftime(\"%b-%d-%Y\"))+\"_\"+str(buyersDbLength)+'recordsPIPED.csv'\n",
    "OhmSellersDb.to_csv(path, index = False, sep = '|')"
   ],
   "metadata": {
    "collapsed": false
   }
  },
  {
   "cell_type": "code",
   "execution_count": 50,
   "outputs": [
    {
     "data": {
      "text/plain": "                                             swaps_id  \\\n0   swap-0x5c3bae6aa430071036b6cd3232dc12cc4e50f05...   \n1   swap-0xf98cfe180f19383c9e8edbc6f49a0fe077fc19e...   \n2   swap-0x4e84c4ef39c2c1637b379dfefa75b528115191b...   \n3   swap-0xf1aaf78b721cd2a035cec1a3d1aedf29fe19751...   \n4   swap-0x12cf8fd487689a974d99875f989756623c2f346...   \n..                                                ...   \n95  swap-0x259402a94f816edebfba1b939909bd8e3af9d5a...   \n96  swap-0xb0038f89fc6744a40508d5fc463a88285da69a0...   \n97  swap-0x0ec03d676130498817f41ecfce858222911506d...   \n98  swap-0x593b0d2d190f879ecffd2a820e702b62958393c...   \n99  swap-0x3c704b95ef6d1efbe72eb489a7a01779358c812...   \n\n                                           swaps_hash  swaps_logIndex  \\\n0   0x5c3bae6aa430071036b6cd3232dc12cc4e50f051890f...              72   \n1   0xf98cfe180f19383c9e8edbc6f49a0fe077fc19e748a7...               7   \n2   0x4e84c4ef39c2c1637b379dfefa75b528115191bdf2f7...              13   \n3   0xf1aaf78b721cd2a035cec1a3d1aedf29fe197513a8d5...               9   \n4   0x12cf8fd487689a974d99875f989756623c2f346ee459...             148   \n..                                                ...             ...   \n95  0x259402a94f816edebfba1b939909bd8e3af9d5a71586...              58   \n96  0xb0038f89fc6744a40508d5fc463a88285da69a03f9ae...             257   \n97  0x0ec03d676130498817f41ecfce858222911506d0be86...               0   \n98  0x593b0d2d190f879ecffd2a820e702b62958393c4f09a...              15   \n99  0x3c704b95ef6d1efbe72eb489a7a01779358c812066f3...             148   \n\n                                      swaps_to  swaps_blockNumber  \\\n0   0xd1ec5e215e8148d76f4460e4097fd3d5ae0a3558           16574950   \n1   0xd1ec5e215e8148d76f4460e4097fd3d5ae0a3558           16574784   \n2   0x2de32a7c98c3ef6ec79e703500e8ca5b2ec819aa           16574637   \n3   0xd1ec5e215e8148d76f4460e4097fd3d5ae0a3558           16574516   \n4   0x76fcf0e8c7ff37a47a799fa2cd4c13cde0d981c9           16574507   \n..                                         ...                ...   \n95  0x2de32a7c98c3ef6ec79e703500e8ca5b2ec819aa           16564295   \n96  0xd1ec5e215e8148d76f4460e4097fd3d5ae0a3558           16564189   \n97  0xd1ec5e215e8148d76f4460e4097fd3d5ae0a3558           16564187   \n98  0xd1ec5e215e8148d76f4460e4097fd3d5ae0a3558           16564162   \n99  0xd1ec5e215e8148d76f4460e4097fd3d5ae0a3558           16564130   \n\n    swaps_timestamp                            swaps_tokenIn_id  \\\n0        1675749263  0xc02aaa39b223fe8d0a0e5c4f27ead9083c756cc2   \n1        1675747247  0x64aa3364f17a4d01c6f1751fd97c2bd3d7e7f1d5   \n2        1675745471  0x64aa3364f17a4d01c6f1751fd97c2bd3d7e7f1d5   \n3        1675744007  0x64aa3364f17a4d01c6f1751fd97c2bd3d7e7f1d5   \n4        1675743899  0x6b175474e89094c44da98b954eedeac495271d0f   \n..              ...                                         ...   \n95       1675620755  0xc55126051b22ebb829d00368f4b12bde432de5da   \n96       1675619483  0xc02aaa39b223fe8d0a0e5c4f27ead9083c756cc2   \n97       1675619447  0xc02aaa39b223fe8d0a0e5c4f27ead9083c756cc2   \n98       1675619135  0xc02aaa39b223fe8d0a0e5c4f27ead9083c756cc2   \n99       1675618739  0xc02aaa39b223fe8d0a0e5c4f27ead9083c756cc2   \n\n   swaps_tokenIn_name swaps_tokenIn_symbol  swaps_tokenIn_decimals  ...  \\\n0       Wrapped Ether                 WETH                      18  ...   \n1             Olympus                  OHM                       9  ...   \n2             Olympus                  OHM                       9  ...   \n3             Olympus                  OHM                       9  ...   \n4      Dai Stablecoin                  DAI                      18  ...   \n..                ...                  ...                     ...  ...   \n95             BTRFLY               BTRFLY                      18  ...   \n96      Wrapped Ether                 WETH                      18  ...   \n97      Wrapped Ether                 WETH                      18  ...   \n98      Wrapped Ether                 WETH                      18  ...   \n99      Wrapped Ether                 WETH                      18  ...   \n\n    swaps_tokenOut_name  swaps_tokenOut_symbol swaps_tokenOut_decimals  \\\n0               Olympus                    OHM                       9   \n1         Wrapped Ether                   WETH                      18   \n2                BTRFLY                 BTRFLY                      18   \n3         Wrapped Ether                   WETH                      18   \n4               Olympus                    OHM                       9   \n..                  ...                    ...                     ...   \n95              Olympus                    OHM                       9   \n96              Olympus                    OHM                       9   \n97              Olympus                    OHM                       9   \n98              Olympus                    OHM                       9   \n99              Olympus                    OHM                       9   \n\n   swaps_tokenOut_lastPriceUSD swaps_tokenOut_lastPriceBlockNumber  \\\n0                    10.139967                            16570566   \n1                  1648.517700                            16571427   \n2                   294.099590                            16574399   \n3                  1648.517700                            16571427   \n4                    10.139967                            16570566   \n..                         ...                                 ...   \n95                   10.139967                            16570566   \n96                   10.139967                            16570566   \n97                   10.139967                            16570566   \n98                   10.139967                            16570566   \n99                   10.139967                            16570566   \n\n            swaps_amountIn  swaps_amountInUSD      swaps_amountOut  \\\n0      1929910666046156288        3181.491892         310158273495   \n1              18307551458         185.637968   113214989050443328   \n2             149013101371        1510.987930  5074285590508562789   \n3             918067224583        9309.171361  5680339895434596531   \n4   4993777183718782579152        4992.593659         493776918036   \n..                     ...                ...                  ...   \n95    33227959225252618199        9934.902026         943480033021   \n96    12312014020745837020       20674.381345        1982439019610   \n97    12298472103566723151       20651.641705        1984632386990   \n98    10041035371308302336       16860.945253        1623595778581   \n99     9792422952539135685       16443.474323        1586219555515   \n\n   swaps_amountOutUSD            dateTime  \n0         3144.994658 2023-02-07 05:54:23  \n1          186.636913 2023-02-07 05:20:47  \n2         1492.345312 2023-02-07 04:51:11  \n3         9364.140860 2023-02-07 04:26:47  \n4         5006.881654 2023-02-07 04:24:59  \n..                ...                 ...  \n95        9448.021316 2023-02-05 18:12:35  \n96       19852.170114 2023-02-05 17:51:23  \n97       19874.134524 2023-02-05 17:50:47  \n98       16258.709233 2023-02-05 17:45:35  \n99       15884.423250 2023-02-05 17:38:59  \n\n[100 rows x 23 columns]",
      "text/html": "<div>\n<style scoped>\n    .dataframe tbody tr th:only-of-type {\n        vertical-align: middle;\n    }\n\n    .dataframe tbody tr th {\n        vertical-align: top;\n    }\n\n    .dataframe thead th {\n        text-align: right;\n    }\n</style>\n<table border=\"1\" class=\"dataframe\">\n  <thead>\n    <tr style=\"text-align: right;\">\n      <th></th>\n      <th>swaps_id</th>\n      <th>swaps_hash</th>\n      <th>swaps_logIndex</th>\n      <th>swaps_to</th>\n      <th>swaps_blockNumber</th>\n      <th>swaps_timestamp</th>\n      <th>swaps_tokenIn_id</th>\n      <th>swaps_tokenIn_name</th>\n      <th>swaps_tokenIn_symbol</th>\n      <th>swaps_tokenIn_decimals</th>\n      <th>...</th>\n      <th>swaps_tokenOut_name</th>\n      <th>swaps_tokenOut_symbol</th>\n      <th>swaps_tokenOut_decimals</th>\n      <th>swaps_tokenOut_lastPriceUSD</th>\n      <th>swaps_tokenOut_lastPriceBlockNumber</th>\n      <th>swaps_amountIn</th>\n      <th>swaps_amountInUSD</th>\n      <th>swaps_amountOut</th>\n      <th>swaps_amountOutUSD</th>\n      <th>dateTime</th>\n    </tr>\n  </thead>\n  <tbody>\n    <tr>\n      <th>0</th>\n      <td>swap-0x5c3bae6aa430071036b6cd3232dc12cc4e50f05...</td>\n      <td>0x5c3bae6aa430071036b6cd3232dc12cc4e50f051890f...</td>\n      <td>72</td>\n      <td>0xd1ec5e215e8148d76f4460e4097fd3d5ae0a3558</td>\n      <td>16574950</td>\n      <td>1675749263</td>\n      <td>0xc02aaa39b223fe8d0a0e5c4f27ead9083c756cc2</td>\n      <td>Wrapped Ether</td>\n      <td>WETH</td>\n      <td>18</td>\n      <td>...</td>\n      <td>Olympus</td>\n      <td>OHM</td>\n      <td>9</td>\n      <td>10.139967</td>\n      <td>16570566</td>\n      <td>1929910666046156288</td>\n      <td>3181.491892</td>\n      <td>310158273495</td>\n      <td>3144.994658</td>\n      <td>2023-02-07 05:54:23</td>\n    </tr>\n    <tr>\n      <th>1</th>\n      <td>swap-0xf98cfe180f19383c9e8edbc6f49a0fe077fc19e...</td>\n      <td>0xf98cfe180f19383c9e8edbc6f49a0fe077fc19e748a7...</td>\n      <td>7</td>\n      <td>0xd1ec5e215e8148d76f4460e4097fd3d5ae0a3558</td>\n      <td>16574784</td>\n      <td>1675747247</td>\n      <td>0x64aa3364f17a4d01c6f1751fd97c2bd3d7e7f1d5</td>\n      <td>Olympus</td>\n      <td>OHM</td>\n      <td>9</td>\n      <td>...</td>\n      <td>Wrapped Ether</td>\n      <td>WETH</td>\n      <td>18</td>\n      <td>1648.517700</td>\n      <td>16571427</td>\n      <td>18307551458</td>\n      <td>185.637968</td>\n      <td>113214989050443328</td>\n      <td>186.636913</td>\n      <td>2023-02-07 05:20:47</td>\n    </tr>\n    <tr>\n      <th>2</th>\n      <td>swap-0x4e84c4ef39c2c1637b379dfefa75b528115191b...</td>\n      <td>0x4e84c4ef39c2c1637b379dfefa75b528115191bdf2f7...</td>\n      <td>13</td>\n      <td>0x2de32a7c98c3ef6ec79e703500e8ca5b2ec819aa</td>\n      <td>16574637</td>\n      <td>1675745471</td>\n      <td>0x64aa3364f17a4d01c6f1751fd97c2bd3d7e7f1d5</td>\n      <td>Olympus</td>\n      <td>OHM</td>\n      <td>9</td>\n      <td>...</td>\n      <td>BTRFLY</td>\n      <td>BTRFLY</td>\n      <td>18</td>\n      <td>294.099590</td>\n      <td>16574399</td>\n      <td>149013101371</td>\n      <td>1510.987930</td>\n      <td>5074285590508562789</td>\n      <td>1492.345312</td>\n      <td>2023-02-07 04:51:11</td>\n    </tr>\n    <tr>\n      <th>3</th>\n      <td>swap-0xf1aaf78b721cd2a035cec1a3d1aedf29fe19751...</td>\n      <td>0xf1aaf78b721cd2a035cec1a3d1aedf29fe197513a8d5...</td>\n      <td>9</td>\n      <td>0xd1ec5e215e8148d76f4460e4097fd3d5ae0a3558</td>\n      <td>16574516</td>\n      <td>1675744007</td>\n      <td>0x64aa3364f17a4d01c6f1751fd97c2bd3d7e7f1d5</td>\n      <td>Olympus</td>\n      <td>OHM</td>\n      <td>9</td>\n      <td>...</td>\n      <td>Wrapped Ether</td>\n      <td>WETH</td>\n      <td>18</td>\n      <td>1648.517700</td>\n      <td>16571427</td>\n      <td>918067224583</td>\n      <td>9309.171361</td>\n      <td>5680339895434596531</td>\n      <td>9364.140860</td>\n      <td>2023-02-07 04:26:47</td>\n    </tr>\n    <tr>\n      <th>4</th>\n      <td>swap-0x12cf8fd487689a974d99875f989756623c2f346...</td>\n      <td>0x12cf8fd487689a974d99875f989756623c2f346ee459...</td>\n      <td>148</td>\n      <td>0x76fcf0e8c7ff37a47a799fa2cd4c13cde0d981c9</td>\n      <td>16574507</td>\n      <td>1675743899</td>\n      <td>0x6b175474e89094c44da98b954eedeac495271d0f</td>\n      <td>Dai Stablecoin</td>\n      <td>DAI</td>\n      <td>18</td>\n      <td>...</td>\n      <td>Olympus</td>\n      <td>OHM</td>\n      <td>9</td>\n      <td>10.139967</td>\n      <td>16570566</td>\n      <td>4993777183718782579152</td>\n      <td>4992.593659</td>\n      <td>493776918036</td>\n      <td>5006.881654</td>\n      <td>2023-02-07 04:24:59</td>\n    </tr>\n    <tr>\n      <th>...</th>\n      <td>...</td>\n      <td>...</td>\n      <td>...</td>\n      <td>...</td>\n      <td>...</td>\n      <td>...</td>\n      <td>...</td>\n      <td>...</td>\n      <td>...</td>\n      <td>...</td>\n      <td>...</td>\n      <td>...</td>\n      <td>...</td>\n      <td>...</td>\n      <td>...</td>\n      <td>...</td>\n      <td>...</td>\n      <td>...</td>\n      <td>...</td>\n      <td>...</td>\n      <td>...</td>\n    </tr>\n    <tr>\n      <th>95</th>\n      <td>swap-0x259402a94f816edebfba1b939909bd8e3af9d5a...</td>\n      <td>0x259402a94f816edebfba1b939909bd8e3af9d5a71586...</td>\n      <td>58</td>\n      <td>0x2de32a7c98c3ef6ec79e703500e8ca5b2ec819aa</td>\n      <td>16564295</td>\n      <td>1675620755</td>\n      <td>0xc55126051b22ebb829d00368f4b12bde432de5da</td>\n      <td>BTRFLY</td>\n      <td>BTRFLY</td>\n      <td>18</td>\n      <td>...</td>\n      <td>Olympus</td>\n      <td>OHM</td>\n      <td>9</td>\n      <td>10.139967</td>\n      <td>16570566</td>\n      <td>33227959225252618199</td>\n      <td>9934.902026</td>\n      <td>943480033021</td>\n      <td>9448.021316</td>\n      <td>2023-02-05 18:12:35</td>\n    </tr>\n    <tr>\n      <th>96</th>\n      <td>swap-0xb0038f89fc6744a40508d5fc463a88285da69a0...</td>\n      <td>0xb0038f89fc6744a40508d5fc463a88285da69a03f9ae...</td>\n      <td>257</td>\n      <td>0xd1ec5e215e8148d76f4460e4097fd3d5ae0a3558</td>\n      <td>16564189</td>\n      <td>1675619483</td>\n      <td>0xc02aaa39b223fe8d0a0e5c4f27ead9083c756cc2</td>\n      <td>Wrapped Ether</td>\n      <td>WETH</td>\n      <td>18</td>\n      <td>...</td>\n      <td>Olympus</td>\n      <td>OHM</td>\n      <td>9</td>\n      <td>10.139967</td>\n      <td>16570566</td>\n      <td>12312014020745837020</td>\n      <td>20674.381345</td>\n      <td>1982439019610</td>\n      <td>19852.170114</td>\n      <td>2023-02-05 17:51:23</td>\n    </tr>\n    <tr>\n      <th>97</th>\n      <td>swap-0x0ec03d676130498817f41ecfce858222911506d...</td>\n      <td>0x0ec03d676130498817f41ecfce858222911506d0be86...</td>\n      <td>0</td>\n      <td>0xd1ec5e215e8148d76f4460e4097fd3d5ae0a3558</td>\n      <td>16564187</td>\n      <td>1675619447</td>\n      <td>0xc02aaa39b223fe8d0a0e5c4f27ead9083c756cc2</td>\n      <td>Wrapped Ether</td>\n      <td>WETH</td>\n      <td>18</td>\n      <td>...</td>\n      <td>Olympus</td>\n      <td>OHM</td>\n      <td>9</td>\n      <td>10.139967</td>\n      <td>16570566</td>\n      <td>12298472103566723151</td>\n      <td>20651.641705</td>\n      <td>1984632386990</td>\n      <td>19874.134524</td>\n      <td>2023-02-05 17:50:47</td>\n    </tr>\n    <tr>\n      <th>98</th>\n      <td>swap-0x593b0d2d190f879ecffd2a820e702b62958393c...</td>\n      <td>0x593b0d2d190f879ecffd2a820e702b62958393c4f09a...</td>\n      <td>15</td>\n      <td>0xd1ec5e215e8148d76f4460e4097fd3d5ae0a3558</td>\n      <td>16564162</td>\n      <td>1675619135</td>\n      <td>0xc02aaa39b223fe8d0a0e5c4f27ead9083c756cc2</td>\n      <td>Wrapped Ether</td>\n      <td>WETH</td>\n      <td>18</td>\n      <td>...</td>\n      <td>Olympus</td>\n      <td>OHM</td>\n      <td>9</td>\n      <td>10.139967</td>\n      <td>16570566</td>\n      <td>10041035371308302336</td>\n      <td>16860.945253</td>\n      <td>1623595778581</td>\n      <td>16258.709233</td>\n      <td>2023-02-05 17:45:35</td>\n    </tr>\n    <tr>\n      <th>99</th>\n      <td>swap-0x3c704b95ef6d1efbe72eb489a7a01779358c812...</td>\n      <td>0x3c704b95ef6d1efbe72eb489a7a01779358c812066f3...</td>\n      <td>148</td>\n      <td>0xd1ec5e215e8148d76f4460e4097fd3d5ae0a3558</td>\n      <td>16564130</td>\n      <td>1675618739</td>\n      <td>0xc02aaa39b223fe8d0a0e5c4f27ead9083c756cc2</td>\n      <td>Wrapped Ether</td>\n      <td>WETH</td>\n      <td>18</td>\n      <td>...</td>\n      <td>Olympus</td>\n      <td>OHM</td>\n      <td>9</td>\n      <td>10.139967</td>\n      <td>16570566</td>\n      <td>9792422952539135685</td>\n      <td>16443.474323</td>\n      <td>1586219555515</td>\n      <td>15884.423250</td>\n      <td>2023-02-05 17:38:59</td>\n    </tr>\n  </tbody>\n</table>\n<p>100 rows × 23 columns</p>\n</div>"
     },
     "execution_count": 50,
     "metadata": {},
     "output_type": "execute_result"
    }
   ],
   "source": [
    "OhmSwappersDb=pd.concat([OhmBuyersDb, OhmSellersDb])\n",
    "OhmSwappersDb.sort_values(by=['swaps_timestamp'], ascending = False)\n",
    "OhmSwappersDbTimed= db.query(\"select \"\n",
    "                   \"    * \"\n",
    "                        \" ,to_timestamp(swaps_timestamp) dateTime \"\n",
    "                   \"From OhmSwappersDb \"\n",
    "                             \"Order by swaps_timestamp desc \"\n",
    "                   # \"Where swaps_to = '0x9B53bed0D62028C0fC5D2006c076cb33e6E6CEcd' \"\n",
    "                   #\"where lower(liquidityPools_name) like lower('%olympus%') \"\n",
    "                    #    \"or lower(pairs_token1_symbol) like lower('%OHM%')  \"\n",
    "                   #\" limit 100 \"\n",
    "                   ).df()\n",
    "OhmSwappersDbTimed.head(100)"
   ],
   "metadata": {
    "collapsed": false
   }
  },
  {
   "cell_type": "code",
   "execution_count": 29,
   "outputs": [],
   "source": [
    "path =file+'/OHMBalancerSwaps '+str(datetime.today().strftime(\"%b-%d-%Y\"))+\"_\"+str(buyersDbLength)+'records.csv'\n",
    "OhmSwappersDbTimed.to_csv(path, index = False)\n",
    "path =file+'/OHMBalancerSwaps '+str(datetime.today().strftime(\"%b-%d-%Y\"))+\"_\"+str(buyersDbLength)+'recordsPIPED.csv'\n",
    "OhmSwappersDbTimed.to_csv(path, index = False, sep = '|')"
   ],
   "metadata": {
    "collapsed": false
   }
  },
  {
   "cell_type": "code",
   "execution_count": 51,
   "outputs": [
    {
     "data": {
      "text/plain": "                                              swaps_id  \\\n0    swap-0xc2a65708bba063b2f2f67866ef9e23e063e6a59...   \n1    swap-0xc607bc3e2d69e5c5e7e657735e33d900d704349...   \n2    swap-0xda58b7fea0d6879e8405a7cdc539283207516d3...   \n3    swap-0x664bdd80202b710390fcdec768da972263bb949...   \n4    swap-0x1afe5f2201a23a9c01598f146373f6ceeb5ebc4...   \n..                                                 ...   \n995  swap-0xcd8ed411a36a4fde405602a2189d607cc02c474...   \n996  swap-0x0ea4a95b56d025bd11a57bf800e383bf5339017...   \n997  swap-0x593b8a22c0048fdbb910c235a0c5979704b66d5...   \n998  swap-0x02e570213c3a3cc1c599f46b67d7d48ab2aab5b...   \n999  swap-0x78fb52a877d6b738bd9a14f9d0fa2d2be05d302...   \n\n                                            swaps_hash  swaps_logIndex  \\\n0    0xc2a65708bba063b2f2f67866ef9e23e063e6a5903fa1...               4   \n1    0xc607bc3e2d69e5c5e7e657735e33d900d704349ae0bb...               6   \n2    0xda58b7fea0d6879e8405a7cdc539283207516d3c65c0...             120   \n3    0x664bdd80202b710390fcdec768da972263bb9493f50f...             126   \n4    0x1afe5f2201a23a9c01598f146373f6ceeb5ebc426293...              23   \n..                                                 ...             ...   \n995  0xcd8ed411a36a4fde405602a2189d607cc02c47495495...               0   \n996  0x0ea4a95b56d025bd11a57bf800e383bf533901784359...               3   \n997  0x593b8a22c0048fdbb910c235a0c5979704b66d54665b...             172   \n998  0x02e570213c3a3cc1c599f46b67d7d48ab2aab5beb097...               0   \n999  0x78fb52a877d6b738bd9a14f9d0fa2d2be05d30210b61...               7   \n\n                                       swaps_to  swaps_blockNumber  \\\n0    0xc45d42f801105e861e86658648e3678ad7aa70f9           16166822   \n1    0xf5f6fb82649df7991054ef796c39da81b93364df           16166626   \n2    0xd1ec5e215e8148d76f4460e4097fd3d5ae0a3558           16166133   \n3    0x76fcf0e8c7ff37a47a799fa2cd4c13cde0d981c9           16166119   \n4    0xd1ec5e215e8148d76f4460e4097fd3d5ae0a3558           16165790   \n..                                          ...                ...   \n995  0xc45d42f801105e861e86658648e3678ad7aa70f9           16019045   \n996  0xc45d42f801105e861e86658648e3678ad7aa70f9           16019043   \n997  0xfb46bc8fc0d06421d362a31b7230f39462efa79a           16018875   \n998  0xf5f6fb82649df7991054ef796c39da81b93364df           16018794   \n999  0xf5f6fb82649df7991054ef796c39da81b93364df           16018785   \n\n     swaps_timestamp                            swaps_tokenIn_id  \\\n0         1670826287  0x6b175474e89094c44da98b954eedeac495271d0f   \n1         1670823911  0x0391d2021f89dc339f60fff84546ea23e337750f   \n2         1670817983  0xc02aaa39b223fe8d0a0e5c4f27ead9083c756cc2   \n3         1670817815  0x6b175474e89094c44da98b954eedeac495271d0f   \n4         1670813855  0xc02aaa39b223fe8d0a0e5c4f27ead9083c756cc2   \n..               ...                                         ...   \n995       1669041623  0x6b175474e89094c44da98b954eedeac495271d0f   \n996       1669041599  0x6b175474e89094c44da98b954eedeac495271d0f   \n997       1669039583  0xed1480d12be41d92f36f5f7bdd88212e381a3677   \n998       1669038611  0x0391d2021f89dc339f60fff84546ea23e337750f   \n999       1669038503  0x0391d2021f89dc339f60fff84546ea23e337750f   \n\n              swaps_tokenIn_name swaps_tokenIn_symbol  swaps_tokenIn_decimals  \\\n0                 Dai Stablecoin                  DAI                      18   \n1    BarnBridge Governance Token                 BOND                      18   \n2                  Wrapped Ether                 WETH                      18   \n3                 Dai Stablecoin                  DAI                      18   \n4                  Wrapped Ether                 WETH                      18   \n..                           ...                  ...                     ...   \n995               Dai Stablecoin                  DAI                      18   \n996               Dai Stablecoin                  DAI                      18   \n997               FIAT DAO Token                  FDT                      18   \n998  BarnBridge Governance Token                 BOND                      18   \n999  BarnBridge Governance Token                 BOND                      18   \n\n     ...                           swaps_tokenOut_id  swaps_tokenOut_name  \\\n0    ...  0x64aa3364f17a4d01c6f1751fd97c2bd3d7e7f1d5              Olympus   \n1    ...  0x64aa3364f17a4d01c6f1751fd97c2bd3d7e7f1d5              Olympus   \n2    ...  0x64aa3364f17a4d01c6f1751fd97c2bd3d7e7f1d5              Olympus   \n3    ...  0x64aa3364f17a4d01c6f1751fd97c2bd3d7e7f1d5              Olympus   \n4    ...  0x64aa3364f17a4d01c6f1751fd97c2bd3d7e7f1d5              Olympus   \n..   ...                                         ...                  ...   \n995  ...  0x64aa3364f17a4d01c6f1751fd97c2bd3d7e7f1d5              Olympus   \n996  ...  0x64aa3364f17a4d01c6f1751fd97c2bd3d7e7f1d5              Olympus   \n997  ...  0x64aa3364f17a4d01c6f1751fd97c2bd3d7e7f1d5              Olympus   \n998  ...  0x64aa3364f17a4d01c6f1751fd97c2bd3d7e7f1d5              Olympus   \n999  ...  0x64aa3364f17a4d01c6f1751fd97c2bd3d7e7f1d5              Olympus   \n\n    swaps_tokenOut_symbol swaps_tokenOut_decimals swaps_tokenOut_lastPriceUSD  \\\n0                     OHM                       9                   10.139967   \n1                     OHM                       9                   10.139967   \n2                     OHM                       9                   10.139967   \n3                     OHM                       9                   10.139967   \n4                     OHM                       9                   10.139967   \n..                    ...                     ...                         ...   \n995                   OHM                       9                   10.139967   \n996                   OHM                       9                   10.139967   \n997                   OHM                       9                   10.139967   \n998                   OHM                       9                   10.139967   \n999                   OHM                       9                   10.139967   \n\n     swaps_tokenOut_lastPriceBlockNumber           swaps_amountIn  \\\n0                               16570566   7600000000000000000000   \n1                               16570566     25319693094629157180   \n2                               16570566     11588700273213665613   \n3                               16570566   6000000000000000000000   \n4                               16570566      5464259765451893924   \n..                                   ...                      ...   \n995                             16570566   3928787955765550644379   \n996                             16570566   5843374756883352403682   \n997                             16570566  14337342047648310013062   \n998                             16570566    458933690816326032592   \n999                             16570566    451779130683496574278   \n\n     swaps_amountInUSD swaps_amountOut  swaps_amountOutUSD  \n0          7598.084800    817961760842         7474.896928  \n1           320.043908     10822159953           98.897692  \n2         14636.818360   1550990520894        14173.638469  \n3          5998.488000    645869534398         5902.241926  \n4          6901.496783    733348255873         6701.661235  \n..                 ...             ...                 ...  \n995        3930.418403    473881381856         3952.294408  \n996        5845.799757    705219430146         5881.714110  \n997           0.000000      5903685297           49.238276  \n998        5129.111310    216890576643         1808.924018  \n999        5049.150880    215479879240         1797.158433  \n\n[1000 rows x 22 columns]",
      "text/html": "<div>\n<style scoped>\n    .dataframe tbody tr th:only-of-type {\n        vertical-align: middle;\n    }\n\n    .dataframe tbody tr th {\n        vertical-align: top;\n    }\n\n    .dataframe thead th {\n        text-align: right;\n    }\n</style>\n<table border=\"1\" class=\"dataframe\">\n  <thead>\n    <tr style=\"text-align: right;\">\n      <th></th>\n      <th>swaps_id</th>\n      <th>swaps_hash</th>\n      <th>swaps_logIndex</th>\n      <th>swaps_to</th>\n      <th>swaps_blockNumber</th>\n      <th>swaps_timestamp</th>\n      <th>swaps_tokenIn_id</th>\n      <th>swaps_tokenIn_name</th>\n      <th>swaps_tokenIn_symbol</th>\n      <th>swaps_tokenIn_decimals</th>\n      <th>...</th>\n      <th>swaps_tokenOut_id</th>\n      <th>swaps_tokenOut_name</th>\n      <th>swaps_tokenOut_symbol</th>\n      <th>swaps_tokenOut_decimals</th>\n      <th>swaps_tokenOut_lastPriceUSD</th>\n      <th>swaps_tokenOut_lastPriceBlockNumber</th>\n      <th>swaps_amountIn</th>\n      <th>swaps_amountInUSD</th>\n      <th>swaps_amountOut</th>\n      <th>swaps_amountOutUSD</th>\n    </tr>\n  </thead>\n  <tbody>\n    <tr>\n      <th>0</th>\n      <td>swap-0xc2a65708bba063b2f2f67866ef9e23e063e6a59...</td>\n      <td>0xc2a65708bba063b2f2f67866ef9e23e063e6a5903fa1...</td>\n      <td>4</td>\n      <td>0xc45d42f801105e861e86658648e3678ad7aa70f9</td>\n      <td>16166822</td>\n      <td>1670826287</td>\n      <td>0x6b175474e89094c44da98b954eedeac495271d0f</td>\n      <td>Dai Stablecoin</td>\n      <td>DAI</td>\n      <td>18</td>\n      <td>...</td>\n      <td>0x64aa3364f17a4d01c6f1751fd97c2bd3d7e7f1d5</td>\n      <td>Olympus</td>\n      <td>OHM</td>\n      <td>9</td>\n      <td>10.139967</td>\n      <td>16570566</td>\n      <td>7600000000000000000000</td>\n      <td>7598.084800</td>\n      <td>817961760842</td>\n      <td>7474.896928</td>\n    </tr>\n    <tr>\n      <th>1</th>\n      <td>swap-0xc607bc3e2d69e5c5e7e657735e33d900d704349...</td>\n      <td>0xc607bc3e2d69e5c5e7e657735e33d900d704349ae0bb...</td>\n      <td>6</td>\n      <td>0xf5f6fb82649df7991054ef796c39da81b93364df</td>\n      <td>16166626</td>\n      <td>1670823911</td>\n      <td>0x0391d2021f89dc339f60fff84546ea23e337750f</td>\n      <td>BarnBridge Governance Token</td>\n      <td>BOND</td>\n      <td>18</td>\n      <td>...</td>\n      <td>0x64aa3364f17a4d01c6f1751fd97c2bd3d7e7f1d5</td>\n      <td>Olympus</td>\n      <td>OHM</td>\n      <td>9</td>\n      <td>10.139967</td>\n      <td>16570566</td>\n      <td>25319693094629157180</td>\n      <td>320.043908</td>\n      <td>10822159953</td>\n      <td>98.897692</td>\n    </tr>\n    <tr>\n      <th>2</th>\n      <td>swap-0xda58b7fea0d6879e8405a7cdc539283207516d3...</td>\n      <td>0xda58b7fea0d6879e8405a7cdc539283207516d3c65c0...</td>\n      <td>120</td>\n      <td>0xd1ec5e215e8148d76f4460e4097fd3d5ae0a3558</td>\n      <td>16166133</td>\n      <td>1670817983</td>\n      <td>0xc02aaa39b223fe8d0a0e5c4f27ead9083c756cc2</td>\n      <td>Wrapped Ether</td>\n      <td>WETH</td>\n      <td>18</td>\n      <td>...</td>\n      <td>0x64aa3364f17a4d01c6f1751fd97c2bd3d7e7f1d5</td>\n      <td>Olympus</td>\n      <td>OHM</td>\n      <td>9</td>\n      <td>10.139967</td>\n      <td>16570566</td>\n      <td>11588700273213665613</td>\n      <td>14636.818360</td>\n      <td>1550990520894</td>\n      <td>14173.638469</td>\n    </tr>\n    <tr>\n      <th>3</th>\n      <td>swap-0x664bdd80202b710390fcdec768da972263bb949...</td>\n      <td>0x664bdd80202b710390fcdec768da972263bb9493f50f...</td>\n      <td>126</td>\n      <td>0x76fcf0e8c7ff37a47a799fa2cd4c13cde0d981c9</td>\n      <td>16166119</td>\n      <td>1670817815</td>\n      <td>0x6b175474e89094c44da98b954eedeac495271d0f</td>\n      <td>Dai Stablecoin</td>\n      <td>DAI</td>\n      <td>18</td>\n      <td>...</td>\n      <td>0x64aa3364f17a4d01c6f1751fd97c2bd3d7e7f1d5</td>\n      <td>Olympus</td>\n      <td>OHM</td>\n      <td>9</td>\n      <td>10.139967</td>\n      <td>16570566</td>\n      <td>6000000000000000000000</td>\n      <td>5998.488000</td>\n      <td>645869534398</td>\n      <td>5902.241926</td>\n    </tr>\n    <tr>\n      <th>4</th>\n      <td>swap-0x1afe5f2201a23a9c01598f146373f6ceeb5ebc4...</td>\n      <td>0x1afe5f2201a23a9c01598f146373f6ceeb5ebc426293...</td>\n      <td>23</td>\n      <td>0xd1ec5e215e8148d76f4460e4097fd3d5ae0a3558</td>\n      <td>16165790</td>\n      <td>1670813855</td>\n      <td>0xc02aaa39b223fe8d0a0e5c4f27ead9083c756cc2</td>\n      <td>Wrapped Ether</td>\n      <td>WETH</td>\n      <td>18</td>\n      <td>...</td>\n      <td>0x64aa3364f17a4d01c6f1751fd97c2bd3d7e7f1d5</td>\n      <td>Olympus</td>\n      <td>OHM</td>\n      <td>9</td>\n      <td>10.139967</td>\n      <td>16570566</td>\n      <td>5464259765451893924</td>\n      <td>6901.496783</td>\n      <td>733348255873</td>\n      <td>6701.661235</td>\n    </tr>\n    <tr>\n      <th>...</th>\n      <td>...</td>\n      <td>...</td>\n      <td>...</td>\n      <td>...</td>\n      <td>...</td>\n      <td>...</td>\n      <td>...</td>\n      <td>...</td>\n      <td>...</td>\n      <td>...</td>\n      <td>...</td>\n      <td>...</td>\n      <td>...</td>\n      <td>...</td>\n      <td>...</td>\n      <td>...</td>\n      <td>...</td>\n      <td>...</td>\n      <td>...</td>\n      <td>...</td>\n      <td>...</td>\n    </tr>\n    <tr>\n      <th>995</th>\n      <td>swap-0xcd8ed411a36a4fde405602a2189d607cc02c474...</td>\n      <td>0xcd8ed411a36a4fde405602a2189d607cc02c47495495...</td>\n      <td>0</td>\n      <td>0xc45d42f801105e861e86658648e3678ad7aa70f9</td>\n      <td>16019045</td>\n      <td>1669041623</td>\n      <td>0x6b175474e89094c44da98b954eedeac495271d0f</td>\n      <td>Dai Stablecoin</td>\n      <td>DAI</td>\n      <td>18</td>\n      <td>...</td>\n      <td>0x64aa3364f17a4d01c6f1751fd97c2bd3d7e7f1d5</td>\n      <td>Olympus</td>\n      <td>OHM</td>\n      <td>9</td>\n      <td>10.139967</td>\n      <td>16570566</td>\n      <td>3928787955765550644379</td>\n      <td>3930.418403</td>\n      <td>473881381856</td>\n      <td>3952.294408</td>\n    </tr>\n    <tr>\n      <th>996</th>\n      <td>swap-0x0ea4a95b56d025bd11a57bf800e383bf5339017...</td>\n      <td>0x0ea4a95b56d025bd11a57bf800e383bf533901784359...</td>\n      <td>3</td>\n      <td>0xc45d42f801105e861e86658648e3678ad7aa70f9</td>\n      <td>16019043</td>\n      <td>1669041599</td>\n      <td>0x6b175474e89094c44da98b954eedeac495271d0f</td>\n      <td>Dai Stablecoin</td>\n      <td>DAI</td>\n      <td>18</td>\n      <td>...</td>\n      <td>0x64aa3364f17a4d01c6f1751fd97c2bd3d7e7f1d5</td>\n      <td>Olympus</td>\n      <td>OHM</td>\n      <td>9</td>\n      <td>10.139967</td>\n      <td>16570566</td>\n      <td>5843374756883352403682</td>\n      <td>5845.799757</td>\n      <td>705219430146</td>\n      <td>5881.714110</td>\n    </tr>\n    <tr>\n      <th>997</th>\n      <td>swap-0x593b8a22c0048fdbb910c235a0c5979704b66d5...</td>\n      <td>0x593b8a22c0048fdbb910c235a0c5979704b66d54665b...</td>\n      <td>172</td>\n      <td>0xfb46bc8fc0d06421d362a31b7230f39462efa79a</td>\n      <td>16018875</td>\n      <td>1669039583</td>\n      <td>0xed1480d12be41d92f36f5f7bdd88212e381a3677</td>\n      <td>FIAT DAO Token</td>\n      <td>FDT</td>\n      <td>18</td>\n      <td>...</td>\n      <td>0x64aa3364f17a4d01c6f1751fd97c2bd3d7e7f1d5</td>\n      <td>Olympus</td>\n      <td>OHM</td>\n      <td>9</td>\n      <td>10.139967</td>\n      <td>16570566</td>\n      <td>14337342047648310013062</td>\n      <td>0.000000</td>\n      <td>5903685297</td>\n      <td>49.238276</td>\n    </tr>\n    <tr>\n      <th>998</th>\n      <td>swap-0x02e570213c3a3cc1c599f46b67d7d48ab2aab5b...</td>\n      <td>0x02e570213c3a3cc1c599f46b67d7d48ab2aab5beb097...</td>\n      <td>0</td>\n      <td>0xf5f6fb82649df7991054ef796c39da81b93364df</td>\n      <td>16018794</td>\n      <td>1669038611</td>\n      <td>0x0391d2021f89dc339f60fff84546ea23e337750f</td>\n      <td>BarnBridge Governance Token</td>\n      <td>BOND</td>\n      <td>18</td>\n      <td>...</td>\n      <td>0x64aa3364f17a4d01c6f1751fd97c2bd3d7e7f1d5</td>\n      <td>Olympus</td>\n      <td>OHM</td>\n      <td>9</td>\n      <td>10.139967</td>\n      <td>16570566</td>\n      <td>458933690816326032592</td>\n      <td>5129.111310</td>\n      <td>216890576643</td>\n      <td>1808.924018</td>\n    </tr>\n    <tr>\n      <th>999</th>\n      <td>swap-0x78fb52a877d6b738bd9a14f9d0fa2d2be05d302...</td>\n      <td>0x78fb52a877d6b738bd9a14f9d0fa2d2be05d30210b61...</td>\n      <td>7</td>\n      <td>0xf5f6fb82649df7991054ef796c39da81b93364df</td>\n      <td>16018785</td>\n      <td>1669038503</td>\n      <td>0x0391d2021f89dc339f60fff84546ea23e337750f</td>\n      <td>BarnBridge Governance Token</td>\n      <td>BOND</td>\n      <td>18</td>\n      <td>...</td>\n      <td>0x64aa3364f17a4d01c6f1751fd97c2bd3d7e7f1d5</td>\n      <td>Olympus</td>\n      <td>OHM</td>\n      <td>9</td>\n      <td>10.139967</td>\n      <td>16570566</td>\n      <td>451779130683496574278</td>\n      <td>5049.150880</td>\n      <td>215479879240</td>\n      <td>1797.158433</td>\n    </tr>\n  </tbody>\n</table>\n<p>1000 rows × 22 columns</p>\n</div>"
     },
     "execution_count": 51,
     "metadata": {},
     "output_type": "execute_result"
    }
   ],
   "source": [
    "\n",
    "swaps = balancer.Query.swaps(\n",
    "    orderBy='timestamp',\n",
    "    orderDirection='desc',\n",
    "    first=1000,\n",
    "    skip = skipValue,\n",
    "    where={ 'tokenOut': '0x64aa3364f17a4d01c6f1751fd97c2bd3d7e7f1d5' }\n",
    "\n",
    ")\n",
    "\n",
    "buysDb = sg.query_df([\n",
    "    swaps.id\n",
    "    ,swaps.hash\n",
    "    ,swaps.logIndex\n",
    "    ,swaps.to\n",
    "    ,swaps.blockNumber\n",
    "    ,swaps.timestamp\n",
    "    ,swaps.tokenIn\n",
    "    ,swaps.tokenOut\n",
    "    ,swaps.amountIn\n",
    "    ,swaps.amountInUSD\n",
    "    ,swaps.amountOut\n",
    "    ,swaps.amountOutUSD\n",
    "])\n",
    "\n",
    "buysDb"
   ],
   "metadata": {
    "collapsed": false
   }
  }
 ],
 "metadata": {
  "kernelspec": {
   "display_name": "Python 3",
   "language": "python",
   "name": "python3"
  },
  "language_info": {
   "codemirror_mode": {
    "name": "ipython",
    "version": 2
   },
   "file_extension": ".py",
   "mimetype": "text/x-python",
   "name": "python",
   "nbconvert_exporter": "python",
   "pygments_lexer": "ipython2",
   "version": "2.7.6"
  }
 },
 "nbformat": 4,
 "nbformat_minor": 0
}
