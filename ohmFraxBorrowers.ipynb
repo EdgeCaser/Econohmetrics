{
 "cells": [
  {
   "cell_type": "code",
   "execution_count": 41,
   "outputs": [],
   "source": [
    "from datetime import datetime\n",
    "from datetime import date\n",
    "from subgrounds.subgraph import SyntheticField, FieldPath\n",
    "from subgrounds.subgrounds import Subgrounds\n",
    "import pandas as pd\n",
    "import duckdb as db\n",
    "import  os as os"
   ],
   "metadata": {
    "collapsed": false
   }
  },
  {
   "cell_type": "code",
   "execution_count": 26,
   "outputs": [],
   "source": [
    "global file\n",
    "file = input('Selet a folder to save output') ##enter your file path here - the file is in the repo \"summary_stats.csv\".\n"
   ],
   "metadata": {
    "collapsed": false
   }
  },
  {
   "cell_type": "code",
   "execution_count": 3,
   "outputs": [],
   "source": [
    "sg = Subgrounds()\n",
    "apiKey = file = input('API Key, please')"
   ],
   "metadata": {
    "collapsed": false
   }
  },
  {
   "cell_type": "code",
   "execution_count": 42,
   "outputs": [],
   "source": [
    "#https://api.thegraph.com/subgraphs/name/frax-finance-data/fraxlend-subgraph---mainnet\n",
    "#'https://gateway.thegraph.com/api/'+apiKey+'/subgraphs/id/GELTrjPJYEzxyp6Y2CtEaYpGHcJNrJA6i5Ci4KfJSEsf'\n",
    "\n",
    "frax = sg.load_api('https://gateway.thegraph.com/api/'+apiKey+'/subgraphs/id/GELTrjPJYEzxyp6Y2CtEaYpGHcJNrJA6i5Ci4KfJSEsf')"
   ],
   "metadata": {
    "collapsed": false
   }
  },
  {
   "cell_type": "code",
   "execution_count": 43,
   "outputs": [],
   "source": [
    "fraxPoolQuery = frax.Query.pairs(\n",
    "        orderBy='id',\n",
    "        orderDirection='desc',\n",
    "        first=1000,\n",
    "        #skip = 500,\n",
    "        where={ 'symbol': 'fFRAX(gOHM)-11' }\n",
    ")\n"
   ],
   "metadata": {
    "collapsed": false
   }
  },
  {
   "cell_type": "code",
   "execution_count": 44,
   "outputs": [
    {
     "data": {
      "text/plain": "                                   pairs_positions_id  \\\n0   0x66bf36dba79d4606039f04b32946a260bcd3ff52-0x0...   \n1   0x66bf36dba79d4606039f04b32946a260bcd3ff52-0x0...   \n2   0x66bf36dba79d4606039f04b32946a260bcd3ff52-0x0...   \n3   0x66bf36dba79d4606039f04b32946a260bcd3ff52-0x0...   \n4   0x66bf36dba79d4606039f04b32946a260bcd3ff52-0x0...   \n..                                                ...   \n95  0x66bf36dba79d4606039f04b32946a260bcd3ff52-0xd...   \n96  0x66bf36dba79d4606039f04b32946a260bcd3ff52-0xd...   \n97  0x66bf36dba79d4606039f04b32946a260bcd3ff52-0xd...   \n98  0x66bf36dba79d4606039f04b32946a260bcd3ff52-0xd...   \n99  0x66bf36dba79d4606039f04b32946a260bcd3ff52-0xe...   \n\n                       pairs_positions_pair_id  \\\n0   0x66bf36dba79d4606039f04b32946a260bcd3ff52   \n1   0x66bf36dba79d4606039f04b32946a260bcd3ff52   \n2   0x66bf36dba79d4606039f04b32946a260bcd3ff52   \n3   0x66bf36dba79d4606039f04b32946a260bcd3ff52   \n4   0x66bf36dba79d4606039f04b32946a260bcd3ff52   \n..                                         ...   \n95  0x66bf36dba79d4606039f04b32946a260bcd3ff52   \n96  0x66bf36dba79d4606039f04b32946a260bcd3ff52   \n97  0x66bf36dba79d4606039f04b32946a260bcd3ff52   \n98  0x66bf36dba79d4606039f04b32946a260bcd3ff52   \n99  0x66bf36dba79d4606039f04b32946a260bcd3ff52   \n\n                       pairs_positions_user_id  \\\n0   0x002525a77d262dd11ec63c9146a821b11564ce29   \n1   0x0056d1fd2ca3c0f3a7b6ed6cdd1f1f104b4bf9a9   \n2   0x03da5c3b75503a1dda58e2bd23d4726b5ee8dd26   \n3   0x0430c0cd447397d5411aea19933165bd96c46fe3   \n4   0x044a9c43e95aa9fd28eea25131a62b602d304f1f   \n..                                         ...   \n95  0xd6bf9d9079139dbb3a4fdb84b07efc75ea77838f   \n96  0xd6ee257dc510ff6682fa54689d87ace46c8c79cf   \n97  0xd84e11bee5d555ccd905817cb8cbbd5b6e6c4f0d   \n98  0xdb3388e770f49a604e11f1a2084b39279492a61f   \n99  0xe2495bc3e9d5b631112982541afe07f543def36d   \n\n   pairs_positions_borrowedAssetShare  \\\n0                                   0   \n1                                   0   \n2            603451010180821502480014   \n3            271503678082804556504711   \n4             39553030322272277177842   \n..                                ...   \n95                                  0   \n96                5806674184474418752   \n97                                  0   \n98                9759994325342607692   \n99                                  0   \n\n   pairs_positions_depositedCollateralAmount pairs_positions_lentAssetShare  \\\n0                                          0       323481593503624709745993   \n1                                          0         1513704698942381134947   \n2                      450000000000000000000                              0   \n3                      194490000000000000000                              0   \n4                       40000000000000000000                              0   \n..                                       ...                            ...   \n95                                         0        24940628625507646481048   \n96                          3539531962187219                              0   \n97                                         0         5326174593375284588216   \n98                         52093292543035251                              0   \n99                                         0                              0   \n\n    pairs_positions_block  pairs_positions_timestamp  \\\n0                16438134                 1674098507   \n1                16282443                 1672220783   \n2                16307544                 1672523423   \n3                16352482                 1673065247   \n4                16490447                 1674729563   \n..                    ...                        ...   \n95               16270488                 1672076531   \n96               16112012                 1670163767   \n97               16507710                 1674937763   \n98               16277233                 1672157987   \n99               16493458                 1674765851   \n\n                                      pairs_id  \\\n0   0x66bf36dba79d4606039f04b32946a260bcd3ff52   \n1   0x66bf36dba79d4606039f04b32946a260bcd3ff52   \n2   0x66bf36dba79d4606039f04b32946a260bcd3ff52   \n3   0x66bf36dba79d4606039f04b32946a260bcd3ff52   \n4   0x66bf36dba79d4606039f04b32946a260bcd3ff52   \n..                                         ...   \n95  0x66bf36dba79d4606039f04b32946a260bcd3ff52   \n96  0x66bf36dba79d4606039f04b32946a260bcd3ff52   \n97  0x66bf36dba79d4606039f04b32946a260bcd3ff52   \n98  0x66bf36dba79d4606039f04b32946a260bcd3ff52   \n99  0x66bf36dba79d4606039f04b32946a260bcd3ff52   \n\n                                           pairs_name    pairs_symbol  \\\n0   Fraxlend Interest Bearing FRAX (Governance OHM...  fFRAX(gOHM)-11   \n1   Fraxlend Interest Bearing FRAX (Governance OHM...  fFRAX(gOHM)-11   \n2   Fraxlend Interest Bearing FRAX (Governance OHM...  fFRAX(gOHM)-11   \n3   Fraxlend Interest Bearing FRAX (Governance OHM...  fFRAX(gOHM)-11   \n4   Fraxlend Interest Bearing FRAX (Governance OHM...  fFRAX(gOHM)-11   \n..                                                ...             ...   \n95  Fraxlend Interest Bearing FRAX (Governance OHM...  fFRAX(gOHM)-11   \n96  Fraxlend Interest Bearing FRAX (Governance OHM...  fFRAX(gOHM)-11   \n97  Fraxlend Interest Bearing FRAX (Governance OHM...  fFRAX(gOHM)-11   \n98  Fraxlend Interest Bearing FRAX (Governance OHM...  fFRAX(gOHM)-11   \n99  Fraxlend Interest Bearing FRAX (Governance OHM...  fFRAX(gOHM)-11   \n\n                                pairs_asset_id  \\\n0   0x853d955acef822db058eb8505911ed77f175b99e   \n1   0x853d955acef822db058eb8505911ed77f175b99e   \n2   0x853d955acef822db058eb8505911ed77f175b99e   \n3   0x853d955acef822db058eb8505911ed77f175b99e   \n4   0x853d955acef822db058eb8505911ed77f175b99e   \n..                                         ...   \n95  0x853d955acef822db058eb8505911ed77f175b99e   \n96  0x853d955acef822db058eb8505911ed77f175b99e   \n97  0x853d955acef822db058eb8505911ed77f175b99e   \n98  0x853d955acef822db058eb8505911ed77f175b99e   \n99  0x853d955acef822db058eb8505911ed77f175b99e   \n\n                           pairs_asset_address  pairs_asset_decimals  \\\n0   0x853d955acef822db058eb8505911ed77f175b99e                    18   \n1   0x853d955acef822db058eb8505911ed77f175b99e                    18   \n2   0x853d955acef822db058eb8505911ed77f175b99e                    18   \n3   0x853d955acef822db058eb8505911ed77f175b99e                    18   \n4   0x853d955acef822db058eb8505911ed77f175b99e                    18   \n..                                         ...                   ...   \n95  0x853d955acef822db058eb8505911ed77f175b99e                    18   \n96  0x853d955acef822db058eb8505911ed77f175b99e                    18   \n97  0x853d955acef822db058eb8505911ed77f175b99e                    18   \n98  0x853d955acef822db058eb8505911ed77f175b99e                    18   \n99  0x853d955acef822db058eb8505911ed77f175b99e                    18   \n\n   pairs_asset_name pairs_asset_symbol       pairs_asset_totalSupply  \\\n0              Frax               FRAX  1491128187367401878671217133   \n1              Frax               FRAX  1491128187367401878671217133   \n2              Frax               FRAX  1491128187367401878671217133   \n3              Frax               FRAX  1491128187367401878671217133   \n4              Frax               FRAX  1491128187367401878671217133   \n..              ...                ...                           ...   \n95             Frax               FRAX  1491128187367401878671217133   \n96             Frax               FRAX  1491128187367401878671217133   \n97             Frax               FRAX  1491128187367401878671217133   \n98             Frax               FRAX  1491128187367401878671217133   \n99             Frax               FRAX  1491128187367401878671217133   \n\n    pairs_asset_pairAssetCount  pairs_asset_pairCollateralCount  \n0                           12                                0  \n1                           12                                0  \n2                           12                                0  \n3                           12                                0  \n4                           12                                0  \n..                         ...                              ...  \n95                          12                                0  \n96                          12                                0  \n97                          12                                0  \n98                          12                                0  \n99                          12                                0  \n\n[100 rows x 19 columns]",
      "text/html": "<div>\n<style scoped>\n    .dataframe tbody tr th:only-of-type {\n        vertical-align: middle;\n    }\n\n    .dataframe tbody tr th {\n        vertical-align: top;\n    }\n\n    .dataframe thead th {\n        text-align: right;\n    }\n</style>\n<table border=\"1\" class=\"dataframe\">\n  <thead>\n    <tr style=\"text-align: right;\">\n      <th></th>\n      <th>pairs_positions_id</th>\n      <th>pairs_positions_pair_id</th>\n      <th>pairs_positions_user_id</th>\n      <th>pairs_positions_borrowedAssetShare</th>\n      <th>pairs_positions_depositedCollateralAmount</th>\n      <th>pairs_positions_lentAssetShare</th>\n      <th>pairs_positions_block</th>\n      <th>pairs_positions_timestamp</th>\n      <th>pairs_id</th>\n      <th>pairs_name</th>\n      <th>pairs_symbol</th>\n      <th>pairs_asset_id</th>\n      <th>pairs_asset_address</th>\n      <th>pairs_asset_decimals</th>\n      <th>pairs_asset_name</th>\n      <th>pairs_asset_symbol</th>\n      <th>pairs_asset_totalSupply</th>\n      <th>pairs_asset_pairAssetCount</th>\n      <th>pairs_asset_pairCollateralCount</th>\n    </tr>\n  </thead>\n  <tbody>\n    <tr>\n      <th>0</th>\n      <td>0x66bf36dba79d4606039f04b32946a260bcd3ff52-0x0...</td>\n      <td>0x66bf36dba79d4606039f04b32946a260bcd3ff52</td>\n      <td>0x002525a77d262dd11ec63c9146a821b11564ce29</td>\n      <td>0</td>\n      <td>0</td>\n      <td>323481593503624709745993</td>\n      <td>16438134</td>\n      <td>1674098507</td>\n      <td>0x66bf36dba79d4606039f04b32946a260bcd3ff52</td>\n      <td>Fraxlend Interest Bearing FRAX (Governance OHM...</td>\n      <td>fFRAX(gOHM)-11</td>\n      <td>0x853d955acef822db058eb8505911ed77f175b99e</td>\n      <td>0x853d955acef822db058eb8505911ed77f175b99e</td>\n      <td>18</td>\n      <td>Frax</td>\n      <td>FRAX</td>\n      <td>1491128187367401878671217133</td>\n      <td>12</td>\n      <td>0</td>\n    </tr>\n    <tr>\n      <th>1</th>\n      <td>0x66bf36dba79d4606039f04b32946a260bcd3ff52-0x0...</td>\n      <td>0x66bf36dba79d4606039f04b32946a260bcd3ff52</td>\n      <td>0x0056d1fd2ca3c0f3a7b6ed6cdd1f1f104b4bf9a9</td>\n      <td>0</td>\n      <td>0</td>\n      <td>1513704698942381134947</td>\n      <td>16282443</td>\n      <td>1672220783</td>\n      <td>0x66bf36dba79d4606039f04b32946a260bcd3ff52</td>\n      <td>Fraxlend Interest Bearing FRAX (Governance OHM...</td>\n      <td>fFRAX(gOHM)-11</td>\n      <td>0x853d955acef822db058eb8505911ed77f175b99e</td>\n      <td>0x853d955acef822db058eb8505911ed77f175b99e</td>\n      <td>18</td>\n      <td>Frax</td>\n      <td>FRAX</td>\n      <td>1491128187367401878671217133</td>\n      <td>12</td>\n      <td>0</td>\n    </tr>\n    <tr>\n      <th>2</th>\n      <td>0x66bf36dba79d4606039f04b32946a260bcd3ff52-0x0...</td>\n      <td>0x66bf36dba79d4606039f04b32946a260bcd3ff52</td>\n      <td>0x03da5c3b75503a1dda58e2bd23d4726b5ee8dd26</td>\n      <td>603451010180821502480014</td>\n      <td>450000000000000000000</td>\n      <td>0</td>\n      <td>16307544</td>\n      <td>1672523423</td>\n      <td>0x66bf36dba79d4606039f04b32946a260bcd3ff52</td>\n      <td>Fraxlend Interest Bearing FRAX (Governance OHM...</td>\n      <td>fFRAX(gOHM)-11</td>\n      <td>0x853d955acef822db058eb8505911ed77f175b99e</td>\n      <td>0x853d955acef822db058eb8505911ed77f175b99e</td>\n      <td>18</td>\n      <td>Frax</td>\n      <td>FRAX</td>\n      <td>1491128187367401878671217133</td>\n      <td>12</td>\n      <td>0</td>\n    </tr>\n    <tr>\n      <th>3</th>\n      <td>0x66bf36dba79d4606039f04b32946a260bcd3ff52-0x0...</td>\n      <td>0x66bf36dba79d4606039f04b32946a260bcd3ff52</td>\n      <td>0x0430c0cd447397d5411aea19933165bd96c46fe3</td>\n      <td>271503678082804556504711</td>\n      <td>194490000000000000000</td>\n      <td>0</td>\n      <td>16352482</td>\n      <td>1673065247</td>\n      <td>0x66bf36dba79d4606039f04b32946a260bcd3ff52</td>\n      <td>Fraxlend Interest Bearing FRAX (Governance OHM...</td>\n      <td>fFRAX(gOHM)-11</td>\n      <td>0x853d955acef822db058eb8505911ed77f175b99e</td>\n      <td>0x853d955acef822db058eb8505911ed77f175b99e</td>\n      <td>18</td>\n      <td>Frax</td>\n      <td>FRAX</td>\n      <td>1491128187367401878671217133</td>\n      <td>12</td>\n      <td>0</td>\n    </tr>\n    <tr>\n      <th>4</th>\n      <td>0x66bf36dba79d4606039f04b32946a260bcd3ff52-0x0...</td>\n      <td>0x66bf36dba79d4606039f04b32946a260bcd3ff52</td>\n      <td>0x044a9c43e95aa9fd28eea25131a62b602d304f1f</td>\n      <td>39553030322272277177842</td>\n      <td>40000000000000000000</td>\n      <td>0</td>\n      <td>16490447</td>\n      <td>1674729563</td>\n      <td>0x66bf36dba79d4606039f04b32946a260bcd3ff52</td>\n      <td>Fraxlend Interest Bearing FRAX (Governance OHM...</td>\n      <td>fFRAX(gOHM)-11</td>\n      <td>0x853d955acef822db058eb8505911ed77f175b99e</td>\n      <td>0x853d955acef822db058eb8505911ed77f175b99e</td>\n      <td>18</td>\n      <td>Frax</td>\n      <td>FRAX</td>\n      <td>1491128187367401878671217133</td>\n      <td>12</td>\n      <td>0</td>\n    </tr>\n    <tr>\n      <th>...</th>\n      <td>...</td>\n      <td>...</td>\n      <td>...</td>\n      <td>...</td>\n      <td>...</td>\n      <td>...</td>\n      <td>...</td>\n      <td>...</td>\n      <td>...</td>\n      <td>...</td>\n      <td>...</td>\n      <td>...</td>\n      <td>...</td>\n      <td>...</td>\n      <td>...</td>\n      <td>...</td>\n      <td>...</td>\n      <td>...</td>\n      <td>...</td>\n    </tr>\n    <tr>\n      <th>95</th>\n      <td>0x66bf36dba79d4606039f04b32946a260bcd3ff52-0xd...</td>\n      <td>0x66bf36dba79d4606039f04b32946a260bcd3ff52</td>\n      <td>0xd6bf9d9079139dbb3a4fdb84b07efc75ea77838f</td>\n      <td>0</td>\n      <td>0</td>\n      <td>24940628625507646481048</td>\n      <td>16270488</td>\n      <td>1672076531</td>\n      <td>0x66bf36dba79d4606039f04b32946a260bcd3ff52</td>\n      <td>Fraxlend Interest Bearing FRAX (Governance OHM...</td>\n      <td>fFRAX(gOHM)-11</td>\n      <td>0x853d955acef822db058eb8505911ed77f175b99e</td>\n      <td>0x853d955acef822db058eb8505911ed77f175b99e</td>\n      <td>18</td>\n      <td>Frax</td>\n      <td>FRAX</td>\n      <td>1491128187367401878671217133</td>\n      <td>12</td>\n      <td>0</td>\n    </tr>\n    <tr>\n      <th>96</th>\n      <td>0x66bf36dba79d4606039f04b32946a260bcd3ff52-0xd...</td>\n      <td>0x66bf36dba79d4606039f04b32946a260bcd3ff52</td>\n      <td>0xd6ee257dc510ff6682fa54689d87ace46c8c79cf</td>\n      <td>5806674184474418752</td>\n      <td>3539531962187219</td>\n      <td>0</td>\n      <td>16112012</td>\n      <td>1670163767</td>\n      <td>0x66bf36dba79d4606039f04b32946a260bcd3ff52</td>\n      <td>Fraxlend Interest Bearing FRAX (Governance OHM...</td>\n      <td>fFRAX(gOHM)-11</td>\n      <td>0x853d955acef822db058eb8505911ed77f175b99e</td>\n      <td>0x853d955acef822db058eb8505911ed77f175b99e</td>\n      <td>18</td>\n      <td>Frax</td>\n      <td>FRAX</td>\n      <td>1491128187367401878671217133</td>\n      <td>12</td>\n      <td>0</td>\n    </tr>\n    <tr>\n      <th>97</th>\n      <td>0x66bf36dba79d4606039f04b32946a260bcd3ff52-0xd...</td>\n      <td>0x66bf36dba79d4606039f04b32946a260bcd3ff52</td>\n      <td>0xd84e11bee5d555ccd905817cb8cbbd5b6e6c4f0d</td>\n      <td>0</td>\n      <td>0</td>\n      <td>5326174593375284588216</td>\n      <td>16507710</td>\n      <td>1674937763</td>\n      <td>0x66bf36dba79d4606039f04b32946a260bcd3ff52</td>\n      <td>Fraxlend Interest Bearing FRAX (Governance OHM...</td>\n      <td>fFRAX(gOHM)-11</td>\n      <td>0x853d955acef822db058eb8505911ed77f175b99e</td>\n      <td>0x853d955acef822db058eb8505911ed77f175b99e</td>\n      <td>18</td>\n      <td>Frax</td>\n      <td>FRAX</td>\n      <td>1491128187367401878671217133</td>\n      <td>12</td>\n      <td>0</td>\n    </tr>\n    <tr>\n      <th>98</th>\n      <td>0x66bf36dba79d4606039f04b32946a260bcd3ff52-0xd...</td>\n      <td>0x66bf36dba79d4606039f04b32946a260bcd3ff52</td>\n      <td>0xdb3388e770f49a604e11f1a2084b39279492a61f</td>\n      <td>9759994325342607692</td>\n      <td>52093292543035251</td>\n      <td>0</td>\n      <td>16277233</td>\n      <td>1672157987</td>\n      <td>0x66bf36dba79d4606039f04b32946a260bcd3ff52</td>\n      <td>Fraxlend Interest Bearing FRAX (Governance OHM...</td>\n      <td>fFRAX(gOHM)-11</td>\n      <td>0x853d955acef822db058eb8505911ed77f175b99e</td>\n      <td>0x853d955acef822db058eb8505911ed77f175b99e</td>\n      <td>18</td>\n      <td>Frax</td>\n      <td>FRAX</td>\n      <td>1491128187367401878671217133</td>\n      <td>12</td>\n      <td>0</td>\n    </tr>\n    <tr>\n      <th>99</th>\n      <td>0x66bf36dba79d4606039f04b32946a260bcd3ff52-0xe...</td>\n      <td>0x66bf36dba79d4606039f04b32946a260bcd3ff52</td>\n      <td>0xe2495bc3e9d5b631112982541afe07f543def36d</td>\n      <td>0</td>\n      <td>0</td>\n      <td>0</td>\n      <td>16493458</td>\n      <td>1674765851</td>\n      <td>0x66bf36dba79d4606039f04b32946a260bcd3ff52</td>\n      <td>Fraxlend Interest Bearing FRAX (Governance OHM...</td>\n      <td>fFRAX(gOHM)-11</td>\n      <td>0x853d955acef822db058eb8505911ed77f175b99e</td>\n      <td>0x853d955acef822db058eb8505911ed77f175b99e</td>\n      <td>18</td>\n      <td>Frax</td>\n      <td>FRAX</td>\n      <td>1491128187367401878671217133</td>\n      <td>12</td>\n      <td>0</td>\n    </tr>\n  </tbody>\n</table>\n<p>100 rows × 19 columns</p>\n</div>"
     },
     "execution_count": 44,
     "metadata": {},
     "output_type": "execute_result"
    }
   ],
   "source": [
    "listLength=0\n",
    "ticker = 1\n",
    "frax_borrowers_db = pd.DataFrame()\n",
    "fraxPools = sg.query_df([\n",
    "\n",
    "    fraxPoolQuery.positions\n",
    "    ,fraxPoolQuery.id\n",
    "    ,fraxPoolQuery.name\n",
    "    ,fraxPoolQuery.symbol\n",
    "    ,fraxPoolQuery.asset\n",
    "\n",
    "]\n",
    ")\n",
    "\n",
    "listLength = len(fraxPools)\n",
    "userdb_length = len(fraxPools)\n",
    "frax_borrowers_db = fraxPools\n",
    "\n",
    "\n",
    "fraxPools.head(200)"
   ],
   "metadata": {
    "collapsed": false
   }
  },
  {
   "cell_type": "code",
   "execution_count": 45,
   "outputs": [
    {
     "name": "stdout",
     "output_type": "stream",
     "text": [
      "Done. Total Records collected:  100\n"
     ]
    }
   ],
   "source": [
    "while listLength>999:\n",
    "    #listLength=0\n",
    "    skipValue = (ticker)*(1000)\n",
    "    fraxPoolQuery = frax.Query.pairs(\n",
    "            orderBy='id',\n",
    "            orderDirection='desc',\n",
    "            skip =(skipValue),\n",
    "            first=1000,\n",
    "            where={ 'symbol': 'fFRAX(gOHM)-11' }\n",
    "    )\n",
    "\n",
    "    fraxPools = sg.query_df([\n",
    "\n",
    "        fraxPoolQuery.positions\n",
    "        ,fraxPoolQuery.id\n",
    "        ,fraxPoolQuery.name\n",
    "        ,fraxPoolQuery.symbol\n",
    "        ,fraxPoolQuery.asset\n",
    "\n",
    "    ]\n",
    "    )\n",
    "\n",
    "    frax_borrowers_db=pd.concat([frax_borrowers_db, fraxPools])\n",
    "    recordTimestamp = pool_list.iat[ticker,7]\n",
    "    ticker = ticker+1\n",
    "    userdb_length = len(frax_borrowers_db)\n",
    "    listLength = len(fraxPools)\n",
    "    userid = fraxPools.iat[ticker,2]\n",
    "    print(\"records collected: \", listLength, \" - latest user: \",userid , \" - userdb length: \", userdb_length, \" - latest record from: \", recordTimestamp)\n",
    "print(\"Done. Total Records collected: \", userdb_length)"
   ],
   "metadata": {
    "collapsed": false
   }
  },
  {
   "cell_type": "code",
   "execution_count": 47,
   "outputs": [],
   "source": [
    "fraxBorrowersDbTimed= db.query(\"select \"\n",
    "                   \"    * \"\n",
    "                        \" ,to_timestamp(pairs_positions_timestamp) dateTime \"\n",
    "                   \"From frax_borrowers_db \"\n",
    "                   #\"where lower(liquidityPools_name) like lower('%olympus%') \"\n",
    "                    #    \"or lower(pairs_token1_symbol) like lower('%OHM%')  \"\n",
    "                   #\" limit 100 \"\n",
    "                   ).df()"
   ],
   "metadata": {
    "collapsed": false
   }
  },
  {
   "cell_type": "code",
   "execution_count": 48,
   "outputs": [],
   "source": [
    "path =file+'/frax_borrowers_snapshot '+str(date.today().strftime(\"%b-%d-%Y\"))+str(len(frax_borrowers_db))+'records.csv'\n",
    "fraxBorrowersDbTimed.to_csv(path, index = False)"
   ],
   "metadata": {
    "collapsed": false
   }
  },
  {
   "cell_type": "code",
   "execution_count": 50,
   "outputs": [
    {
     "data": {
      "text/plain": "                                            actions_id      actions_type  \\\n0    0xff674f10275b0bfcee60bd69c9f8010e610f84cb03f5...       borrowAsset   \n1    0xff64404ae5f010cafe4dc225866f4a143887d8a4913f...        repayAsset   \n2    0xff3077667ca7a034c831da0e539c810f75edbef2232a...  removeCollateral   \n3    0xfeb54394d817e03ccd318a836eb104027541f9e95077...          addAsset   \n4    0xfeb54394d817e03ccd318a836eb104027541f9e95077...       removeAsset   \n..                                                 ...               ...   \n989  0x00c9203154ead117956a5674fc6442d532e1f568956a...     addCollateral   \n990  0x00ba644961f9d2f0a9d8d8d0c6855c8a92dda3aacf24...       borrowAsset   \n991  0x00ba644961f9d2f0a9d8d8d0c6855c8a92dda3aacf24...     addCollateral   \n992  0x00961e045ad314f9475941e06590b19cc6360f9c34cd...          addAsset   \n993  0x0047a00bd3b9821e52582d6daa98cd0f8aa993330b9b...        repayAsset   \n\n               actions_amount             actions_share  actions_timestamp  \\\n0     20000000000000000000000   19794415273484002164364         1674383615   \n1      1000002762792429124001     990752193790726245041         1673964875   \n2        30000000000000000000      30000000000000000000         1672142675   \n3       100817448941420680601     100000000000000000000         1674268823   \n4       100817448941420680601     100000000000000000000         1674268823   \n..                        ...                       ...                ...   \n989       3662300469364326806       3662300469364326806         1675077107   \n990                         0                         0         1671634427   \n991       1990722204581212797       1990722204581212797         1671634427   \n992  321443351886845263205539  319066906693977176592553         1673872991   \n993  120000004114242238103947  119670076033405432729840         1671974459   \n\n     actions_block                            actions_token_id  \\\n0         16461769  0x853d955acef822db058eb8505911ed77f175b99e   \n1         16427051  0x853d955acef822db058eb8505911ed77f175b99e   \n2         16275966  0x0ab87046fbb341d058f17cbc4c1133f25a20a52f   \n3         16452254  0x853d955acef822db058eb8505911ed77f175b99e   \n4         16452254  0x853d955acef822db058eb8505911ed77f175b99e   \n..             ...                                         ...   \n989       16519259  0x0ab87046fbb341d058f17cbc4c1133f25a20a52f   \n990       16233798  0x853d955acef822db058eb8505911ed77f175b99e   \n991       16233798  0x0ab87046fbb341d058f17cbc4c1133f25a20a52f   \n992       16419422  0x853d955acef822db058eb8505911ed77f175b99e   \n993       16262019  0x853d955acef822db058eb8505911ed77f175b99e   \n\n                          actions_token_address  actions_token_decimals  \\\n0    0x853d955acef822db058eb8505911ed77f175b99e                      18   \n1    0x853d955acef822db058eb8505911ed77f175b99e                      18   \n2    0x0ab87046fbb341d058f17cbc4c1133f25a20a52f                      18   \n3    0x853d955acef822db058eb8505911ed77f175b99e                      18   \n4    0x853d955acef822db058eb8505911ed77f175b99e                      18   \n..                                          ...                     ...   \n989  0x0ab87046fbb341d058f17cbc4c1133f25a20a52f                      18   \n990  0x853d955acef822db058eb8505911ed77f175b99e                      18   \n991  0x0ab87046fbb341d058f17cbc4c1133f25a20a52f                      18   \n992  0x853d955acef822db058eb8505911ed77f175b99e                      18   \n993  0x853d955acef822db058eb8505911ed77f175b99e                      18   \n\n    actions_token_name actions_token_symbol     actions_token_totalSupply  \\\n0                 Frax                 FRAX  1491128187367401878671217133   \n1                 Frax                 FRAX  1491128187367401878671217133   \n2       Governance OHM                 gOHM       71757394079134961624973   \n3                 Frax                 FRAX  1491128187367401878671217133   \n4                 Frax                 FRAX  1491128187367401878671217133   \n..                 ...                  ...                           ...   \n989     Governance OHM                 gOHM       71757394079134961624973   \n990               Frax                 FRAX  1491128187367401878671217133   \n991     Governance OHM                 gOHM       71757394079134961624973   \n992               Frax                 FRAX  1491128187367401878671217133   \n993               Frax                 FRAX  1491128187367401878671217133   \n\n     actions_token_pairAssetCount  actions_token_pairCollateralCount  \\\n0                              12                                  0   \n1                              12                                  0   \n2                               0                                  1   \n3                              12                                  0   \n4                              12                                  0   \n..                            ...                                ...   \n989                             0                                  1   \n990                            12                                  0   \n991                             0                                  1   \n992                            12                                  0   \n993                            12                                  0   \n\n                                actions_root_id  \\\n0    0x233e3017447e66d91e2cd969233adc5bb0524ec1   \n1    0xb0399dac8f4d4100b49b2a7b3873481114229d18   \n2    0xc0e0de939f26e71683452467942aff455ca153e3   \n3    0xc61074912df6df64e35e1a9476ee4ef90c38f5ab   \n4    0x21be82bcd11dc6ee3cd060b23a01bb000da2a532   \n..                                          ...   \n989  0xc0e0de939f26e71683452467942aff455ca153e3   \n990  0x0561a78021d8966ddd20c28c6c4318d8675ee1f0   \n991  0x0561a78021d8966ddd20c28c6c4318d8675ee1f0   \n992  0x21be82bcd11dc6ee3cd060b23a01bb000da2a532   \n993  0x0561a78021d8966ddd20c28c6c4318d8675ee1f0   \n\n                           actions_root_address  \n0    0x233e3017447e66d91e2cd969233adc5bb0524ec1  \n1    0xb0399dac8f4d4100b49b2a7b3873481114229d18  \n2    0xc0e0de939f26e71683452467942aff455ca153e3  \n3    0xc61074912df6df64e35e1a9476ee4ef90c38f5ab  \n4    0x21be82bcd11dc6ee3cd060b23a01bb000da2a532  \n..                                          ...  \n989  0xc0e0de939f26e71683452467942aff455ca153e3  \n990  0x0561a78021d8966ddd20c28c6c4318d8675ee1f0  \n991  0x0561a78021d8966ddd20c28c6c4318d8675ee1f0  \n992  0x21be82bcd11dc6ee3cd060b23a01bb000da2a532  \n993  0x0561a78021d8966ddd20c28c6c4318d8675ee1f0  \n\n[994 rows x 16 columns]",
      "text/html": "<div>\n<style scoped>\n    .dataframe tbody tr th:only-of-type {\n        vertical-align: middle;\n    }\n\n    .dataframe tbody tr th {\n        vertical-align: top;\n    }\n\n    .dataframe thead th {\n        text-align: right;\n    }\n</style>\n<table border=\"1\" class=\"dataframe\">\n  <thead>\n    <tr style=\"text-align: right;\">\n      <th></th>\n      <th>actions_id</th>\n      <th>actions_type</th>\n      <th>actions_amount</th>\n      <th>actions_share</th>\n      <th>actions_timestamp</th>\n      <th>actions_block</th>\n      <th>actions_token_id</th>\n      <th>actions_token_address</th>\n      <th>actions_token_decimals</th>\n      <th>actions_token_name</th>\n      <th>actions_token_symbol</th>\n      <th>actions_token_totalSupply</th>\n      <th>actions_token_pairAssetCount</th>\n      <th>actions_token_pairCollateralCount</th>\n      <th>actions_root_id</th>\n      <th>actions_root_address</th>\n    </tr>\n  </thead>\n  <tbody>\n    <tr>\n      <th>0</th>\n      <td>0xff674f10275b0bfcee60bd69c9f8010e610f84cb03f5...</td>\n      <td>borrowAsset</td>\n      <td>20000000000000000000000</td>\n      <td>19794415273484002164364</td>\n      <td>1674383615</td>\n      <td>16461769</td>\n      <td>0x853d955acef822db058eb8505911ed77f175b99e</td>\n      <td>0x853d955acef822db058eb8505911ed77f175b99e</td>\n      <td>18</td>\n      <td>Frax</td>\n      <td>FRAX</td>\n      <td>1491128187367401878671217133</td>\n      <td>12</td>\n      <td>0</td>\n      <td>0x233e3017447e66d91e2cd969233adc5bb0524ec1</td>\n      <td>0x233e3017447e66d91e2cd969233adc5bb0524ec1</td>\n    </tr>\n    <tr>\n      <th>1</th>\n      <td>0xff64404ae5f010cafe4dc225866f4a143887d8a4913f...</td>\n      <td>repayAsset</td>\n      <td>1000002762792429124001</td>\n      <td>990752193790726245041</td>\n      <td>1673964875</td>\n      <td>16427051</td>\n      <td>0x853d955acef822db058eb8505911ed77f175b99e</td>\n      <td>0x853d955acef822db058eb8505911ed77f175b99e</td>\n      <td>18</td>\n      <td>Frax</td>\n      <td>FRAX</td>\n      <td>1491128187367401878671217133</td>\n      <td>12</td>\n      <td>0</td>\n      <td>0xb0399dac8f4d4100b49b2a7b3873481114229d18</td>\n      <td>0xb0399dac8f4d4100b49b2a7b3873481114229d18</td>\n    </tr>\n    <tr>\n      <th>2</th>\n      <td>0xff3077667ca7a034c831da0e539c810f75edbef2232a...</td>\n      <td>removeCollateral</td>\n      <td>30000000000000000000</td>\n      <td>30000000000000000000</td>\n      <td>1672142675</td>\n      <td>16275966</td>\n      <td>0x0ab87046fbb341d058f17cbc4c1133f25a20a52f</td>\n      <td>0x0ab87046fbb341d058f17cbc4c1133f25a20a52f</td>\n      <td>18</td>\n      <td>Governance OHM</td>\n      <td>gOHM</td>\n      <td>71757394079134961624973</td>\n      <td>0</td>\n      <td>1</td>\n      <td>0xc0e0de939f26e71683452467942aff455ca153e3</td>\n      <td>0xc0e0de939f26e71683452467942aff455ca153e3</td>\n    </tr>\n    <tr>\n      <th>3</th>\n      <td>0xfeb54394d817e03ccd318a836eb104027541f9e95077...</td>\n      <td>addAsset</td>\n      <td>100817448941420680601</td>\n      <td>100000000000000000000</td>\n      <td>1674268823</td>\n      <td>16452254</td>\n      <td>0x853d955acef822db058eb8505911ed77f175b99e</td>\n      <td>0x853d955acef822db058eb8505911ed77f175b99e</td>\n      <td>18</td>\n      <td>Frax</td>\n      <td>FRAX</td>\n      <td>1491128187367401878671217133</td>\n      <td>12</td>\n      <td>0</td>\n      <td>0xc61074912df6df64e35e1a9476ee4ef90c38f5ab</td>\n      <td>0xc61074912df6df64e35e1a9476ee4ef90c38f5ab</td>\n    </tr>\n    <tr>\n      <th>4</th>\n      <td>0xfeb54394d817e03ccd318a836eb104027541f9e95077...</td>\n      <td>removeAsset</td>\n      <td>100817448941420680601</td>\n      <td>100000000000000000000</td>\n      <td>1674268823</td>\n      <td>16452254</td>\n      <td>0x853d955acef822db058eb8505911ed77f175b99e</td>\n      <td>0x853d955acef822db058eb8505911ed77f175b99e</td>\n      <td>18</td>\n      <td>Frax</td>\n      <td>FRAX</td>\n      <td>1491128187367401878671217133</td>\n      <td>12</td>\n      <td>0</td>\n      <td>0x21be82bcd11dc6ee3cd060b23a01bb000da2a532</td>\n      <td>0x21be82bcd11dc6ee3cd060b23a01bb000da2a532</td>\n    </tr>\n    <tr>\n      <th>...</th>\n      <td>...</td>\n      <td>...</td>\n      <td>...</td>\n      <td>...</td>\n      <td>...</td>\n      <td>...</td>\n      <td>...</td>\n      <td>...</td>\n      <td>...</td>\n      <td>...</td>\n      <td>...</td>\n      <td>...</td>\n      <td>...</td>\n      <td>...</td>\n      <td>...</td>\n      <td>...</td>\n    </tr>\n    <tr>\n      <th>989</th>\n      <td>0x00c9203154ead117956a5674fc6442d532e1f568956a...</td>\n      <td>addCollateral</td>\n      <td>3662300469364326806</td>\n      <td>3662300469364326806</td>\n      <td>1675077107</td>\n      <td>16519259</td>\n      <td>0x0ab87046fbb341d058f17cbc4c1133f25a20a52f</td>\n      <td>0x0ab87046fbb341d058f17cbc4c1133f25a20a52f</td>\n      <td>18</td>\n      <td>Governance OHM</td>\n      <td>gOHM</td>\n      <td>71757394079134961624973</td>\n      <td>0</td>\n      <td>1</td>\n      <td>0xc0e0de939f26e71683452467942aff455ca153e3</td>\n      <td>0xc0e0de939f26e71683452467942aff455ca153e3</td>\n    </tr>\n    <tr>\n      <th>990</th>\n      <td>0x00ba644961f9d2f0a9d8d8d0c6855c8a92dda3aacf24...</td>\n      <td>borrowAsset</td>\n      <td>0</td>\n      <td>0</td>\n      <td>1671634427</td>\n      <td>16233798</td>\n      <td>0x853d955acef822db058eb8505911ed77f175b99e</td>\n      <td>0x853d955acef822db058eb8505911ed77f175b99e</td>\n      <td>18</td>\n      <td>Frax</td>\n      <td>FRAX</td>\n      <td>1491128187367401878671217133</td>\n      <td>12</td>\n      <td>0</td>\n      <td>0x0561a78021d8966ddd20c28c6c4318d8675ee1f0</td>\n      <td>0x0561a78021d8966ddd20c28c6c4318d8675ee1f0</td>\n    </tr>\n    <tr>\n      <th>991</th>\n      <td>0x00ba644961f9d2f0a9d8d8d0c6855c8a92dda3aacf24...</td>\n      <td>addCollateral</td>\n      <td>1990722204581212797</td>\n      <td>1990722204581212797</td>\n      <td>1671634427</td>\n      <td>16233798</td>\n      <td>0x0ab87046fbb341d058f17cbc4c1133f25a20a52f</td>\n      <td>0x0ab87046fbb341d058f17cbc4c1133f25a20a52f</td>\n      <td>18</td>\n      <td>Governance OHM</td>\n      <td>gOHM</td>\n      <td>71757394079134961624973</td>\n      <td>0</td>\n      <td>1</td>\n      <td>0x0561a78021d8966ddd20c28c6c4318d8675ee1f0</td>\n      <td>0x0561a78021d8966ddd20c28c6c4318d8675ee1f0</td>\n    </tr>\n    <tr>\n      <th>992</th>\n      <td>0x00961e045ad314f9475941e06590b19cc6360f9c34cd...</td>\n      <td>addAsset</td>\n      <td>321443351886845263205539</td>\n      <td>319066906693977176592553</td>\n      <td>1673872991</td>\n      <td>16419422</td>\n      <td>0x853d955acef822db058eb8505911ed77f175b99e</td>\n      <td>0x853d955acef822db058eb8505911ed77f175b99e</td>\n      <td>18</td>\n      <td>Frax</td>\n      <td>FRAX</td>\n      <td>1491128187367401878671217133</td>\n      <td>12</td>\n      <td>0</td>\n      <td>0x21be82bcd11dc6ee3cd060b23a01bb000da2a532</td>\n      <td>0x21be82bcd11dc6ee3cd060b23a01bb000da2a532</td>\n    </tr>\n    <tr>\n      <th>993</th>\n      <td>0x0047a00bd3b9821e52582d6daa98cd0f8aa993330b9b...</td>\n      <td>repayAsset</td>\n      <td>120000004114242238103947</td>\n      <td>119670076033405432729840</td>\n      <td>1671974459</td>\n      <td>16262019</td>\n      <td>0x853d955acef822db058eb8505911ed77f175b99e</td>\n      <td>0x853d955acef822db058eb8505911ed77f175b99e</td>\n      <td>18</td>\n      <td>Frax</td>\n      <td>FRAX</td>\n      <td>1491128187367401878671217133</td>\n      <td>12</td>\n      <td>0</td>\n      <td>0x0561a78021d8966ddd20c28c6c4318d8675ee1f0</td>\n      <td>0x0561a78021d8966ddd20c28c6c4318d8675ee1f0</td>\n    </tr>\n  </tbody>\n</table>\n<p>994 rows × 16 columns</p>\n</div>"
     },
     "execution_count": 50,
     "metadata": {},
     "output_type": "execute_result"
    }
   ],
   "source": [
    "actionListLength=0\n",
    "actionTicker = 1\n",
    "fraxUsersDb = pd.DataFrame()\n",
    "actionsQuery = frax.Query.actions(\n",
    "         orderBy='id'\n",
    "        ,orderDirection='desc'\n",
    "        ,first=1000\n",
    "        #,where = [frax.Query.actions.token.id == '0x66bf36dba79d4606039f04b32946a260bcd3ff52']\n",
    "        ,where={ 'pair': '0x66bf36dba79d4606039f04b32946a260bcd3ff52' }\n",
    "        #,where = {'positions.pairid':'0x66bf36dba79d4606039f04b32946a260bcd3ff52'}\n",
    "    #{'users_positions_pair_id':'0x66bf36dba79d4606039f04b32946a260bcd3ff52'}\n",
    "\n",
    ")\n",
    "\n",
    "users= sg.query_df([\n",
    "    actionsQuery.id\n",
    "    ,actionsQuery.type\n",
    "    ,actionsQuery.amount\n",
    "    ,actionsQuery.share\n",
    "    ,actionsQuery.timestamp\n",
    "    ,actionsQuery.block\n",
    "    ,actionsQuery.token\n",
    "    ,actionsQuery.root\n",
    "    ]\n",
    ")\n",
    "\n",
    "usersListLength = len(users)\n",
    "userDbLength = len(users)\n",
    "fraxUsersDb = users\n",
    "\n",
    "\n",
    "\n",
    "fraxUsersDb.head(1000)"
   ],
   "metadata": {
    "collapsed": false
   }
  },
  {
   "cell_type": "code",
   "execution_count": 51,
   "outputs": [
    {
     "name": "stdout",
     "output_type": "stream",
     "text": [
      "Done. Total Records collected:  994\n"
     ]
    }
   ],
   "source": [
    "while listLength>999:\n",
    "    #listLength=0\n",
    "    skipValue = (ticker)*(1000)\n",
    "    actionsQuery = frax.Query.actions(\n",
    "         orderBy='id'\n",
    "        ,orderDirection='desc'\n",
    "        ,first=1000\n",
    "        #,where = [frax.Query.actions.token.id == '0x66bf36dba79d4606039f04b32946a260bcd3ff52']\n",
    "        ,where={ 'pair': '0x66bf36dba79d4606039f04b32946a260bcd3ff52' }\n",
    "        #,where = {'positions.pairid':'0x66bf36dba79d4606039f04b32946a260bcd3ff52'}\n",
    "    #{'users_positions_pair_id':'0x66bf36dba79d4606039f04b32946a260bcd3ff52'}\n",
    "\n",
    "    )\n",
    "    users= sg.query_df([\n",
    "        actionsQuery.id\n",
    "        ,actionsQuery.type\n",
    "        ,actionsQuery.amount\n",
    "        ,actionsQuery.share\n",
    "        ,actionsQuery.timestamp\n",
    "        ,actionsQuery.block\n",
    "        ,actionsQuery.token\n",
    "        ]\n",
    "    )\n",
    "\n",
    "    fraxUsersDb=pd.concat([users, fraxUsersDb])\n",
    "    recordTimestamp = pool_list.iat[ticker,4]\n",
    "    ticker = ticker+1\n",
    "    userDbLength = len(fraxUsersDb)\n",
    "    listLength = len(users)\n",
    "    userid = fraxPools.iat[ticker,15]\n",
    "    print(\"records collected: \", listLength, \" - latest user: \",userid , \" - userdb length: \", userdb_length, \" - latest record from: \", recordTimestamp)\n",
    "print(\"Done. Total Records collected: \", userDbLength)"
   ],
   "metadata": {
    "collapsed": false
   }
  },
  {
   "cell_type": "code",
   "execution_count": 52,
   "outputs": [],
   "source": [
    "    fraxUsersDbTimed = db.query(\"select \"\n",
    "                   \"    * \"\n",
    "                        \" ,to_timestamp(actions_timestamp) dateTime \"\n",
    "                   \"From fraxUsersDb \"\n",
    "                   #\"where lower(liquidityPools_name) like lower('%olympus%') \"\n",
    "                    #    \"or lower(pairs_token1_symbol) like lower('%OHM%')  \"\n",
    "                   #\" limit 100 \"\n",
    "                   ).df()"
   ],
   "metadata": {
    "collapsed": false
   }
  },
  {
   "cell_type": "code",
   "execution_count": 53,
   "outputs": [],
   "source": [
    "path =file+'/fraxLendingActions '+str(date.today().strftime(\"%b-%d-%Y\"))+str(userDbLength)+'records.csv'\n",
    "fraxUsersDbTimed.to_csv(path, index = False)"
   ],
   "metadata": {
    "collapsed": false
   }
  },
  {
   "cell_type": "code",
   "execution_count": null,
   "outputs": [],
   "source": [],
   "metadata": {
    "collapsed": false
   }
  }
 ],
 "metadata": {
  "kernelspec": {
   "display_name": "Python 3",
   "language": "python",
   "name": "python3"
  },
  "language_info": {
   "codemirror_mode": {
    "name": "ipython",
    "version": 2
   },
   "file_extension": ".py",
   "mimetype": "text/x-python",
   "name": "python",
   "nbconvert_exporter": "python",
   "pygments_lexer": "ipython2",
   "version": "2.7.6"
  }
 },
 "nbformat": 4,
 "nbformat_minor": 0
}
