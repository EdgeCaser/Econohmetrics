{
 "cells": [
  {
   "cell_type": "code",
   "execution_count": 1,
   "metadata": {
    "collapsed": true
   },
   "outputs": [],
   "source": [
    "from datetime import datetime\n",
    "from datetime import date\n",
    "from subgrounds.subgraph import SyntheticField, FieldPath\n",
    "from subgrounds.subgrounds import Subgrounds\n",
    "import pandas as pd\n",
    "import duckdb as db\n",
    "import  os as os"
   ]
  },
  {
   "cell_type": "code",
   "execution_count": 3,
   "outputs": [],
   "source": [
    "sg = Subgrounds()\n",
    "#apiKey = file = input('API Key, please')"
   ],
   "metadata": {
    "collapsed": false
   }
  },
  {
   "cell_type": "code",
   "execution_count": 4,
   "outputs": [],
   "source": [
    "#https://api.thegraph.com/subgraphs/name/frax-finance-data/fraxlend-subgraph---mainnet\n",
    "\n",
    "\n",
    "frax = sg.load_api('https://api.thegraph.com/subgraphs/name/frax-finance-data/fraxlend-subgraph---mainnet')"
   ],
   "metadata": {
    "collapsed": false
   }
  },
  {
   "cell_type": "code",
   "execution_count": 35,
   "outputs": [],
   "source": [
    "fraxPoolQuery = frax.Query.pairs(\n",
    "        orderBy='id',\n",
    "        orderDirection='desc',\n",
    "        first=1000,\n",
    "        where={ 'symbol': 'fFRAX(gOHM)-11' }\n",
    ")\n"
   ],
   "metadata": {
    "collapsed": false
   }
  },
  {
   "cell_type": "code",
   "execution_count": 34,
   "outputs": [
    {
     "data": {
      "text/plain": "                                     pairs_id  \\\n0  0x66bf36dba79d4606039f04b32946a260bcd3ff52   \n\n                                          pairs_name    pairs_symbol  \\\n0  Fraxlend Interest Bearing FRAX (Governance OHM...  fFRAX(gOHM)-11   \n\n                               pairs_asset_id  \\\n0  0x853d955acef822db058eb8505911ed77f175b99e   \n\n                          pairs_asset_address  pairs_asset_decimals  \\\n0  0x853d955acef822db058eb8505911ed77f175b99e                    18   \n\n  pairs_asset_name pairs_asset_symbol       pairs_asset_totalSupply  \\\n0             Frax               FRAX  1491128187367401878671217133   \n\n   pairs_asset_pairAssetCount  pairs_asset_pairCollateralCount  \n0                          12                                0  ",
      "text/html": "<div>\n<style scoped>\n    .dataframe tbody tr th:only-of-type {\n        vertical-align: middle;\n    }\n\n    .dataframe tbody tr th {\n        vertical-align: top;\n    }\n\n    .dataframe thead th {\n        text-align: right;\n    }\n</style>\n<table border=\"1\" class=\"dataframe\">\n  <thead>\n    <tr style=\"text-align: right;\">\n      <th></th>\n      <th>pairs_id</th>\n      <th>pairs_name</th>\n      <th>pairs_symbol</th>\n      <th>pairs_asset_id</th>\n      <th>pairs_asset_address</th>\n      <th>pairs_asset_decimals</th>\n      <th>pairs_asset_name</th>\n      <th>pairs_asset_symbol</th>\n      <th>pairs_asset_totalSupply</th>\n      <th>pairs_asset_pairAssetCount</th>\n      <th>pairs_asset_pairCollateralCount</th>\n    </tr>\n  </thead>\n  <tbody>\n    <tr>\n      <th>0</th>\n      <td>0x66bf36dba79d4606039f04b32946a260bcd3ff52</td>\n      <td>Fraxlend Interest Bearing FRAX (Governance OHM...</td>\n      <td>fFRAX(gOHM)-11</td>\n      <td>0x853d955acef822db058eb8505911ed77f175b99e</td>\n      <td>0x853d955acef822db058eb8505911ed77f175b99e</td>\n      <td>18</td>\n      <td>Frax</td>\n      <td>FRAX</td>\n      <td>1491128187367401878671217133</td>\n      <td>12</td>\n      <td>0</td>\n    </tr>\n  </tbody>\n</table>\n</div>"
     },
     "execution_count": 34,
     "metadata": {},
     "output_type": "execute_result"
    }
   ],
   "source": [
    "fraxPools = sg.query_df([\n",
    "    fraxPoolQuery.id\n",
    "    ,fraxPoolQuery.name\n",
    "    ,fraxPoolQuery.symbol\n",
    "    ,fraxPoolQuery.asset\n",
    "]\n",
    ")\n",
    "fraxPools.head(20)"
   ],
   "metadata": {
    "collapsed": false
   }
  },
  {
   "cell_type": "code",
   "execution_count": 127,
   "outputs": [
    {
     "ename": "KeyError",
     "evalue": "'TypeMeta.ObjectMeta.field: no field named Position for interface User'",
     "output_type": "error",
     "traceback": [
      "\u001B[1;31m---------------------------------------------------------------------------\u001B[0m",
      "\u001B[1;31mAttributeError\u001B[0m                            Traceback (most recent call last)",
      "File \u001B[1;32m~\\PycharmProjects\\pythonProject\\venv\\lib\\site-packages\\subgrounds\\subgraph\\object.py:94\u001B[0m, in \u001B[0;36mObject.__getattribute__\u001B[1;34m(self, _Object__name)\u001B[0m\n\u001B[0;32m     93\u001B[0m \u001B[38;5;28;01mtry\u001B[39;00m:\n\u001B[1;32m---> 94\u001B[0m   \u001B[38;5;28;01mmatch\u001B[39;00m \u001B[38;5;28;43msuper\u001B[39;49m\u001B[43m(\u001B[49m\u001B[43m)\u001B[49m\u001B[38;5;241;43m.\u001B[39;49m\u001B[38;5;21;43m__getattribute__\u001B[39;49m\u001B[43m(\u001B[49m\u001B[43m__name\u001B[49m\u001B[43m)\u001B[49m:\n\u001B[0;32m     95\u001B[0m     \u001B[38;5;28;01mcase\u001B[39;00m FieldPath() \u001B[38;5;241m|\u001B[39m SyntheticField() \u001B[38;5;241m|\u001B[39m \u001B[38;5;28;01mNone\u001B[39;00m:\n\u001B[0;32m     96\u001B[0m       \u001B[38;5;28;01mreturn\u001B[39;00m \u001B[38;5;28mself\u001B[39m\u001B[38;5;241m.\u001B[39m_select(__name)\n\u001B[0;32m     97\u001B[0m     \u001B[38;5;28;01mcase\u001B[39;00m value:\n\u001B[0;32m     98\u001B[0m       \u001B[38;5;28;01mreturn\u001B[39;00m value\n\u001B[0;32m     99\u001B[0m \u001B[38;5;28;01mexcept\u001B[39;00m \u001B[38;5;167;01mAttributeError\u001B[39;00m:\n",
      "\u001B[1;31mAttributeError\u001B[0m: 'Object' object has no attribute 'Position'",
      "\nDuring handling of the above exception, another exception occurred:\n",
      "\u001B[1;31mStopIteration\u001B[0m                             Traceback (most recent call last)",
      "File \u001B[1;32m~\\PycharmProjects\\pythonProject\\venv\\lib\\site-packages\\subgrounds\\schema.py:214\u001B[0m, in \u001B[0;36mTypeMeta.ObjectMeta.field\u001B[1;34m(self, fname)\u001B[0m\n\u001B[0;32m    213\u001B[0m \u001B[38;5;28;01mtry\u001B[39;00m:\n\u001B[1;32m--> 214\u001B[0m   \u001B[38;5;28;01mreturn\u001B[39;00m \u001B[38;5;28;43mnext\u001B[39;49m\u001B[43m(\u001B[49m\n\u001B[0;32m    215\u001B[0m \u001B[43m    \u001B[49m\u001B[38;5;28;43mself\u001B[39;49m\u001B[38;5;241;43m.\u001B[39;49m\u001B[43mfields\u001B[49m\n\u001B[0;32m    216\u001B[0m \u001B[43m    \u001B[49m\u001B[38;5;241;43m|\u001B[39;49m\u001B[43m \u001B[49m\u001B[43mwhere\u001B[49m\u001B[43m(\u001B[49m\u001B[38;5;28;43;01mlambda\u001B[39;49;00m\u001B[43m \u001B[49m\u001B[43mfmeta\u001B[49m\u001B[43m:\u001B[49m\u001B[43m \u001B[49m\u001B[43mfmeta\u001B[49m\u001B[38;5;241;43m.\u001B[39;49m\u001B[43mname\u001B[49m\u001B[43m \u001B[49m\u001B[38;5;241;43m==\u001B[39;49m\u001B[43m \u001B[49m\u001B[43mfname\u001B[49m\u001B[43m)\u001B[49m\n\u001B[0;32m    217\u001B[0m \u001B[43m  \u001B[49m\u001B[43m)\u001B[49m\n\u001B[0;32m    218\u001B[0m \u001B[38;5;28;01mexcept\u001B[39;00m \u001B[38;5;167;01mStopIteration\u001B[39;00m:\n",
      "\u001B[1;31mStopIteration\u001B[0m: ",
      "\nDuring handling of the above exception, another exception occurred:\n",
      "\u001B[1;31mKeyError\u001B[0m                                  Traceback (most recent call last)",
      "Input \u001B[1;32mIn [127]\u001B[0m, in \u001B[0;36m<cell line: 1>\u001B[1;34m()\u001B[0m\n\u001B[0;32m      1\u001B[0m usersQuery \u001B[38;5;241m=\u001B[39m frax\u001B[38;5;241m.\u001B[39mQuery\u001B[38;5;241m.\u001B[39musers(\n\u001B[0;32m      2\u001B[0m          orderBy\u001B[38;5;241m=\u001B[39m\u001B[38;5;124m'\u001B[39m\u001B[38;5;124mid\u001B[39m\u001B[38;5;124m'\u001B[39m\n\u001B[0;32m      3\u001B[0m         ,orderDirection\u001B[38;5;241m=\u001B[39m\u001B[38;5;124m'\u001B[39m\u001B[38;5;124mdesc\u001B[39m\u001B[38;5;124m'\u001B[39m\n\u001B[0;32m      4\u001B[0m         ,first\u001B[38;5;241m=\u001B[39m\u001B[38;5;241m1000\u001B[39m\n\u001B[1;32m----> 5\u001B[0m         ,where \u001B[38;5;241m=\u001B[39m [\u001B[43mfrax\u001B[49m\u001B[38;5;241;43m.\u001B[39;49m\u001B[43mUser\u001B[49m\u001B[38;5;241;43m.\u001B[39;49m\u001B[43mPosition\u001B[49m \u001B[38;5;241m==\u001B[39m \u001B[38;5;124m'\u001B[39m\u001B[38;5;124m0x66bf36dba79d4606039f04b32946a260bcd3ff52\u001B[39m\u001B[38;5;124m'\u001B[39m]\n\u001B[0;32m      6\u001B[0m         \u001B[38;5;66;03m#,where = {'positions.pairid':'0x66bf36dba79d4606039f04b32946a260bcd3ff52'}\u001B[39;00m\n\u001B[0;32m      7\u001B[0m     \u001B[38;5;66;03m#{'users_positions_pair_id':'0x66bf36dba79d4606039f04b32946a260bcd3ff52'}\u001B[39;00m\n\u001B[0;32m      8\u001B[0m \n\u001B[0;32m      9\u001B[0m )\n\u001B[0;32m     11\u001B[0m users\u001B[38;5;241m=\u001B[39m sg\u001B[38;5;241m.\u001B[39mquery_df([\n\u001B[0;32m     12\u001B[0m     usersQuery\u001B[38;5;241m.\u001B[39mid\n\u001B[0;32m     13\u001B[0m     ,usersQuery\u001B[38;5;241m.\u001B[39maddress\n\u001B[1;32m   (...)\u001B[0m\n\u001B[0;32m     16\u001B[0m     ]\n\u001B[0;32m     17\u001B[0m )\n\u001B[0;32m     18\u001B[0m users\u001B[38;5;241m.\u001B[39mhead(\u001B[38;5;241m10\u001B[39m)\n",
      "File \u001B[1;32m~\\PycharmProjects\\pythonProject\\venv\\lib\\site-packages\\subgrounds\\subgraph\\object.py:100\u001B[0m, in \u001B[0;36mObject.__getattribute__\u001B[1;34m(self, _Object__name)\u001B[0m\n\u001B[0;32m     94\u001B[0m   \u001B[38;5;28;01mmatch\u001B[39;00m \u001B[38;5;28msuper\u001B[39m()\u001B[38;5;241m.\u001B[39m\u001B[38;5;21m__getattribute__\u001B[39m(__name):\n\u001B[0;32m     95\u001B[0m     \u001B[38;5;28;01mcase\u001B[39;00m FieldPath() \u001B[38;5;241m|\u001B[39m SyntheticField() \u001B[38;5;241m|\u001B[39m \u001B[38;5;28;01mNone\u001B[39;00m:\n\u001B[0;32m     96\u001B[0m       \u001B[38;5;28;01mreturn\u001B[39;00m \u001B[38;5;28mself\u001B[39m\u001B[38;5;241m.\u001B[39m_select(__name)\n\u001B[0;32m     97\u001B[0m     \u001B[38;5;28;01mcase\u001B[39;00m value:\n\u001B[0;32m     98\u001B[0m       \u001B[38;5;28;01mreturn\u001B[39;00m value\n\u001B[0;32m     99\u001B[0m \u001B[38;5;28;01mexcept\u001B[39;00m \u001B[38;5;167;01mAttributeError\u001B[39;00m:\n\u001B[1;32m--> 100\u001B[0m   \u001B[38;5;28;01mreturn\u001B[39;00m \u001B[38;5;28;43mself\u001B[39;49m\u001B[38;5;241;43m.\u001B[39;49m\u001B[43m_select\u001B[49m\u001B[43m(\u001B[49m\u001B[43m__name\u001B[49m\u001B[43m)\u001B[49m\n",
      "File \u001B[1;32m~\\PycharmProjects\\pythonProject\\venv\\lib\\site-packages\\subgrounds\\subgraph\\object.py:46\u001B[0m, in \u001B[0;36mObject._select\u001B[1;34m(self, name)\u001B[0m\n\u001B[0;32m     33\u001B[0m \u001B[38;5;28;01mdef\u001B[39;00m \u001B[38;5;21m_select\u001B[39m(\u001B[38;5;28mself\u001B[39m, name: \u001B[38;5;28mstr\u001B[39m) \u001B[38;5;241m-\u001B[39m\u001B[38;5;241m>\u001B[39m FieldPath:\n\u001B[0;32m     34\u001B[0m   \u001B[38;5;124;03m\"\"\" Selects the field from ``self`` with name ``name`` and returns the field\u001B[39;00m\n\u001B[0;32m     35\u001B[0m \u001B[38;5;124;03m  as a :class:`FieldPath`.\u001B[39;00m\n\u001B[0;32m     36\u001B[0m \n\u001B[1;32m   (...)\u001B[0m\n\u001B[0;32m     44\u001B[0m \u001B[38;5;124;03m    FieldPath: _description_\u001B[39;00m\n\u001B[0;32m     45\u001B[0m \u001B[38;5;124;03m  \"\"\"\u001B[39;00m\n\u001B[1;32m---> 46\u001B[0m   field \u001B[38;5;241m=\u001B[39m \u001B[38;5;28;43mself\u001B[39;49m\u001B[38;5;241;43m.\u001B[39;49m\u001B[43m_object\u001B[49m\u001B[38;5;241;43m.\u001B[39;49m\u001B[43mfield\u001B[49m\u001B[43m(\u001B[49m\u001B[43mname\u001B[49m\u001B[43m)\u001B[49m\n\u001B[0;32m     48\u001B[0m   \u001B[38;5;28;01mmatch\u001B[39;00m \u001B[38;5;28mself\u001B[39m\u001B[38;5;241m.\u001B[39m_schema\u001B[38;5;241m.\u001B[39mtype_of_typeref(field\u001B[38;5;241m.\u001B[39mtype_):\n\u001B[0;32m     49\u001B[0m     \u001B[38;5;28;01mcase\u001B[39;00m TypeMeta\u001B[38;5;241m.\u001B[39mObjectMeta() \u001B[38;5;241m|\u001B[39m TypeMeta\u001B[38;5;241m.\u001B[39mInterfaceMeta() \u001B[38;5;241m|\u001B[39m TypeMeta\u001B[38;5;241m.\u001B[39mEnumMeta() \u001B[38;5;241m|\u001B[39m TypeMeta\u001B[38;5;241m.\u001B[39mScalarMeta() \u001B[38;5;28;01mas\u001B[39;00m \u001B[38;5;28mtype\u001B[39m\u001B[38;5;28;01m_\u001B[39;00m:\n\u001B[0;32m     50\u001B[0m       \u001B[38;5;28;01mreturn\u001B[39;00m FieldPath(\u001B[38;5;28mself\u001B[39m\u001B[38;5;241m.\u001B[39m_subgraph, TypeRef\u001B[38;5;241m.\u001B[39mNamed(\u001B[38;5;28mself\u001B[39m\u001B[38;5;241m.\u001B[39m_object\u001B[38;5;241m.\u001B[39mname), field\u001B[38;5;241m.\u001B[39mtype_, [(\u001B[38;5;28;01mNone\u001B[39;00m, field)])\n\u001B[0;32m     51\u001B[0m \n\u001B[0;32m     52\u001B[0m     \u001B[38;5;28;01mcase\u001B[39;00m TypeMeta\u001B[38;5;241m.\u001B[39mT \u001B[38;5;28;01mas\u001B[39;00m \u001B[38;5;28mtype\u001B[39m\u001B[38;5;28;01m_\u001B[39;00m:\n\u001B[0;32m     53\u001B[0m       \u001B[38;5;28;01mraise\u001B[39;00m \u001B[38;5;167;01mTypeError\u001B[39;00m(\u001B[38;5;124mf\u001B[39m\u001B[38;5;124m\"\u001B[39m\u001B[38;5;124mObject: Unexpected type \u001B[39m\u001B[38;5;132;01m{\u001B[39;00mtype_\u001B[38;5;241m.\u001B[39mname\u001B[38;5;132;01m}\u001B[39;00m\u001B[38;5;124m when selection \u001B[39m\u001B[38;5;132;01m{\u001B[39;00mname\u001B[38;5;132;01m}\u001B[39;00m\u001B[38;5;124m on \u001B[39m\u001B[38;5;132;01m{\u001B[39;00m\u001B[38;5;28mself\u001B[39m\u001B[38;5;132;01m}\u001B[39;00m\u001B[38;5;124m\"\u001B[39m)\n\u001B[0;32m     55\u001B[0m   \u001B[38;5;28;01massert\u001B[39;00m \u001B[38;5;28;01mFalse\u001B[39;00m\n",
      "File \u001B[1;32m~\\PycharmProjects\\pythonProject\\venv\\lib\\site-packages\\subgrounds\\schema.py:219\u001B[0m, in \u001B[0;36mTypeMeta.ObjectMeta.field\u001B[1;34m(self, fname)\u001B[0m\n\u001B[0;32m    214\u001B[0m   \u001B[38;5;28;01mreturn\u001B[39;00m \u001B[38;5;28mnext\u001B[39m(\n\u001B[0;32m    215\u001B[0m     \u001B[38;5;28mself\u001B[39m\u001B[38;5;241m.\u001B[39mfields\n\u001B[0;32m    216\u001B[0m     \u001B[38;5;241m|\u001B[39m where(\u001B[38;5;28;01mlambda\u001B[39;00m fmeta: fmeta\u001B[38;5;241m.\u001B[39mname \u001B[38;5;241m==\u001B[39m fname)\n\u001B[0;32m    217\u001B[0m   )\n\u001B[0;32m    218\u001B[0m \u001B[38;5;28;01mexcept\u001B[39;00m \u001B[38;5;167;01mStopIteration\u001B[39;00m:\n\u001B[1;32m--> 219\u001B[0m   \u001B[38;5;28;01mraise\u001B[39;00m \u001B[38;5;167;01mKeyError\u001B[39;00m(\u001B[38;5;124mf\u001B[39m\u001B[38;5;124m'\u001B[39m\u001B[38;5;124mTypeMeta.ObjectMeta.field: no field named \u001B[39m\u001B[38;5;132;01m{\u001B[39;00mfname\u001B[38;5;132;01m}\u001B[39;00m\u001B[38;5;124m for interface \u001B[39m\u001B[38;5;132;01m{\u001B[39;00m\u001B[38;5;28mself\u001B[39m\u001B[38;5;241m.\u001B[39mname\u001B[38;5;132;01m}\u001B[39;00m\u001B[38;5;124m'\u001B[39m)\n",
      "\u001B[1;31mKeyError\u001B[0m: 'TypeMeta.ObjectMeta.field: no field named Position for interface User'"
     ]
    }
   ],
   "source": [
    "usersQuery = frax.Query.users(\n",
    "         orderBy='id'\n",
    "        ,orderDirection='desc'\n",
    "        ,first=1000\n",
    "        ,where = [frax.User.Position == '0x66bf36dba79d4606039f04b32946a260bcd3ff52']\n",
    "        #,where = {'positions.pairid':'0x66bf36dba79d4606039f04b32946a260bcd3ff52'}\n",
    "    #{'users_positions_pair_id':'0x66bf36dba79d4606039f04b32946a260bcd3ff52'}\n",
    "\n",
    ")\n",
    "\n",
    "users= sg.query_df([\n",
    "    usersQuery.id\n",
    "    ,usersQuery.address\n",
    "    #,usersQuery.positions\n",
    "    ,usersQuery.actions\n",
    "    ]\n",
    ")\n",
    "users.head(10)"
   ],
   "metadata": {
    "collapsed": false
   }
  },
  {
   "cell_type": "code",
   "execution_count": 119,
   "outputs": [
    {
     "ename": "AttributeError",
     "evalue": "'Subgraph' object has no attribute 'User_action_id'",
     "output_type": "error",
     "traceback": [
      "\u001B[1;31m---------------------------------------------------------------------------\u001B[0m",
      "\u001B[1;31mAttributeError\u001B[0m                            Traceback (most recent call last)",
      "Input \u001B[1;32mIn [119]\u001B[0m, in \u001B[0;36m<cell line: 1>\u001B[1;34m()\u001B[0m\n\u001B[0;32m      1\u001B[0m usersQuery \u001B[38;5;241m=\u001B[39m frax\u001B[38;5;241m.\u001B[39mQuery\u001B[38;5;241m.\u001B[39musers(\n\u001B[0;32m      2\u001B[0m          orderBy\u001B[38;5;241m=\u001B[39m\u001B[38;5;124m'\u001B[39m\u001B[38;5;124mid\u001B[39m\u001B[38;5;124m'\u001B[39m\n\u001B[0;32m      3\u001B[0m         ,orderDirection\u001B[38;5;241m=\u001B[39m\u001B[38;5;124m'\u001B[39m\u001B[38;5;124mdesc\u001B[39m\u001B[38;5;124m'\u001B[39m\n\u001B[0;32m      4\u001B[0m         ,first\u001B[38;5;241m=\u001B[39m\u001B[38;5;241m1000\u001B[39m\n\u001B[1;32m----> 5\u001B[0m         ,where \u001B[38;5;241m=\u001B[39m [\u001B[43mfrax\u001B[49m\u001B[38;5;241;43m.\u001B[39;49m\u001B[43mUser_action_id\u001B[49m \u001B[38;5;241m==\u001B[39m \u001B[38;5;124m'\u001B[39m\u001B[38;5;124m0x66bf36dba79d4606039f04b32946a260bcd3ff52\u001B[39m\u001B[38;5;124m'\u001B[39m]\n\u001B[0;32m      6\u001B[0m         \u001B[38;5;66;03m#,where = {'positions.pairid':'0x66bf36dba79d4606039f04b32946a260bcd3ff52'}\u001B[39;00m\n\u001B[0;32m      7\u001B[0m     \u001B[38;5;66;03m#{'users_positions_pair_id':'0x66bf36dba79d4606039f04b32946a260bcd3ff52'}\u001B[39;00m\n\u001B[0;32m      8\u001B[0m \n\u001B[0;32m      9\u001B[0m )\n\u001B[0;32m     11\u001B[0m users\u001B[38;5;241m=\u001B[39m sg\u001B[38;5;241m.\u001B[39mquery_df([\n\u001B[0;32m     12\u001B[0m     usersQuery\u001B[38;5;241m.\u001B[39mid\n\u001B[0;32m     13\u001B[0m     ,usersQuery\u001B[38;5;241m.\u001B[39maddress\n\u001B[0;32m     14\u001B[0m     ,usersQuery\u001B[38;5;241m.\u001B[39mpositions\n\u001B[0;32m     15\u001B[0m     ]\n\u001B[0;32m     16\u001B[0m )\n",
      "\u001B[1;31mAttributeError\u001B[0m: 'Subgraph' object has no attribute 'User_action_id'"
     ]
    }
   ],
   "source": [
    "usersQuery = frax.Query.users(\n",
    "         orderBy='id'\n",
    "        ,orderDirection='desc'\n",
    "        ,first=1000\n",
    "        ,where = [frax.User.Position.Pair.id == '0x66bf36dba79d4606039f04b32946a260bcd3ff52']\n",
    "        #,where = {'positions.pairid':'0x66bf36dba79d4606039f04b32946a260bcd3ff52'}\n",
    "    #{'users_positions_pair_id':'0x66bf36dba79d4606039f04b32946a260bcd3ff52'}\n",
    "\n",
    ")\n",
    "\n",
    "users= sg.query_df([\n",
    "    usersQuery.id\n",
    "    ,usersQuery.address\n",
    "    ,usersQuery.positions\n",
    "    ]\n",
    ")\n"
   ],
   "metadata": {
    "collapsed": false
   }
  },
  {
   "cell_type": "code",
   "execution_count": null,
   "outputs": [],
   "source": [],
   "metadata": {
    "collapsed": false
   }
  }
 ],
 "metadata": {
  "kernelspec": {
   "display_name": "Python 3",
   "language": "python",
   "name": "python3"
  },
  "language_info": {
   "codemirror_mode": {
    "name": "ipython",
    "version": 2
   },
   "file_extension": ".py",
   "mimetype": "text/x-python",
   "name": "python",
   "nbconvert_exporter": "python",
   "pygments_lexer": "ipython2",
   "version": "2.7.6"
  }
 },
 "nbformat": 4,
 "nbformat_minor": 0
}
