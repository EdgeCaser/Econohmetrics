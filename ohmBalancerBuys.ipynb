{
 "cells": [
  {
   "cell_type": "code",
   "execution_count": 1,
   "outputs": [],
   "source": [
    "from datetime import datetime\n",
    "from datetime import date\n",
    "from subgrounds.subgraph import SyntheticField, FieldPath\n",
    "from subgrounds.subgrounds import Subgrounds\n",
    "import pandas as pd\n",
    "import duckdb as db\n",
    "import  os as os\n",
    "import seaborn as sns\n",
    "import matplotlib.pyplot as plt"
   ],
   "metadata": {
    "collapsed": false
   }
  },
  {
   "cell_type": "code",
   "execution_count": 41,
   "outputs": [],
   "source": [
    "file = input('Selet a folder to save output') ##enter your file path here - the file is in the repo \"summary_stats.csv\"."
   ],
   "metadata": {
    "collapsed": false
   }
  },
  {
   "cell_type": "code",
   "execution_count": 2,
   "outputs": [],
   "source": [
    "sg = Subgrounds()\n",
    "apiKey = input('API Key, please')\n"
   ],
   "metadata": {
    "collapsed": false
   }
  },
  {
   "cell_type": "markdown",
   "source": [],
   "metadata": {
    "collapsed": false
   }
  },
  {
   "cell_type": "code",
   "execution_count": 4,
   "outputs": [],
   "source": [
    "balancer = sg.load_api('https://gateway.thegraph.com/api/'+apiKey+'/subgraphs/id/Ei5typKWPepPSgqkaKf3p5bPhgJesnu1RuRpyt69Pcrx')\n"
   ],
   "metadata": {
    "collapsed": false
   }
  },
  {
   "cell_type": "markdown",
   "source": [
    "0x0595328847AF962F951a4f8F8eE9A3Bf261e4f6b OHM V2 contract"
   ],
   "metadata": {
    "collapsed": false
   }
  },
  {
   "cell_type": "code",
   "execution_count": 5,
   "outputs": [
    {
     "name": "stdout",
     "output_type": "stream",
     "text": [
      "iterations:  0 Lines skipped:  0 records collected:  1000  - buys DB length:  1000  - latest record from:  2023-02-07 06:21:47 0 days ago\n",
      "iterations:  1 Lines skipped:  1000 records collected:  2000  - buys DB length:  1000  - latest record from:  2023-01-15 20:51:59 22 days ago\n",
      "iterations:  2 Lines skipped:  2000 records collected:  3000  - buys DB length:  1000  - latest record from:  2022-12-11 22:35:35 57 days ago\n",
      "Done. Total Records collected:  3000\n"
     ]
    }
   ],
   "source": [
    "buysListLength=0\n",
    "buysTicker = 0\n",
    "OhmBuyersDb = pd.DataFrame()\n",
    "buysDb = pd.DataFrame()\n",
    "buysListLength = 1000\n",
    "\n",
    "datediff = 0\n",
    "now=0\n",
    "daysAgo=0\n",
    "daysLimit = 45\n",
    "\n",
    "while daysAgo<=daysLimit:\n",
    "    skipValue = (buysTicker)*(1000)\n",
    "    swaps = balancer.Query.swaps(\n",
    "        orderBy='timestamp',\n",
    "        orderDirection='desc',\n",
    "        first=1000,\n",
    "        skip = skipValue,\n",
    "        where={ 'tokenOut': '0x64aa3364f17a4d01c6f1751fd97c2bd3d7e7f1d5' }\n",
    "\n",
    "    )\n",
    "\n",
    "    buysDb = sg.query_df([\n",
    "        swaps.id\n",
    "        ,swaps.hash\n",
    "        ,swaps.logIndex\n",
    "        ,swaps.to\n",
    "        ,swaps.blockNumber\n",
    "        ,swaps.timestamp\n",
    "        ,swaps.tokenIn\n",
    "        ,swaps.tokenOut\n",
    "        ,swaps.amountIn\n",
    "        ,swaps.amountInUSD\n",
    "        ,swaps.amountOut\n",
    "        ,swaps.amountOutUSD\n",
    "    ])\n",
    "\n",
    "    buysDb.sort_values(by=['swaps_timestamp'])\n",
    "\n",
    "    OhmBuyersDb=pd.concat([buysDb, OhmBuyersDb])\n",
    "\n",
    "    recordTimestamp1 = buysDb.iat[buysTicker,5]\n",
    "    recordTimestamp = datetime.fromtimestamp( recordTimestamp1 )\n",
    "\n",
    "    now = (int(datetime.utcnow().timestamp()))\n",
    "\n",
    "    datediff=abs(int(now) - recordTimestamp1)\n",
    "\n",
    "    daysAgo = int(datediff/86400)\n",
    "\n",
    "    buyersDbLength = len(OhmBuyersDb)\n",
    "    buysListLength = len(buysDb)\n",
    "\n",
    "    recordID = buysDb.iat[buysTicker,0]\n",
    "    print(\"iterations: \", buysTicker, \"Lines skipped: \",skipValue, \"records collected: \", buyersDbLength, \" - buys DB length: \", buysListLength, \" - latest record from: \", recordTimestamp, daysAgo,\"days ago\")\n",
    "    buysTicker = buysTicker+1\n",
    "\n",
    "print(\"Done. Total Records collected: \", buyersDbLength)"
   ],
   "metadata": {
    "collapsed": false
   }
  },
  {
   "cell_type": "code",
   "execution_count": 6,
   "outputs": [
    {
     "data": {
      "text/plain": "                                            swaps_id  \\\n0  swap-0xb7ab585864efd956e4a32fa5d50a10de9379efc...   \n1  swap-0x70b1f71b50ca281679da36fab695f3f95cbdcef...   \n2  swap-0x1a72ef13879860a24c71a15f8db990c952b84a9...   \n3  swap-0x8c33a4e28016b0c98a2332019fd61021657f28b...   \n4  swap-0xc2a65708bba063b2f2f67866ef9e23e063e6a59...   \n5  swap-0xc607bc3e2d69e5c5e7e657735e33d900d704349...   \n6  swap-0xda58b7fea0d6879e8405a7cdc539283207516d3...   \n7  swap-0x664bdd80202b710390fcdec768da972263bb949...   \n8  swap-0x1afe5f2201a23a9c01598f146373f6ceeb5ebc4...   \n9  swap-0xecd2cb97ca88776f9b06aaf40a27120eb51367e...   \n\n                                          swaps_hash  swaps_logIndex  \\\n0  0xb7ab585864efd956e4a32fa5d50a10de9379efc98151...               0   \n1  0x70b1f71b50ca281679da36fab695f3f95cbdcef01102...              11   \n2  0x1a72ef13879860a24c71a15f8db990c952b84a978818...               9   \n3  0x8c33a4e28016b0c98a2332019fd61021657f28bf50f7...              62   \n4  0xc2a65708bba063b2f2f67866ef9e23e063e6a5903fa1...               4   \n5  0xc607bc3e2d69e5c5e7e657735e33d900d704349ae0bb...               6   \n6  0xda58b7fea0d6879e8405a7cdc539283207516d3c65c0...             120   \n7  0x664bdd80202b710390fcdec768da972263bb9493f50f...             126   \n8  0x1afe5f2201a23a9c01598f146373f6ceeb5ebc426293...              23   \n9  0xecd2cb97ca88776f9b06aaf40a27120eb51367e5151e...               4   \n\n                                     swaps_to  swaps_blockNumber  \\\n0  0xc45d42f801105e861e86658648e3678ad7aa70f9           16167993   \n1  0xf5f6fb82649df7991054ef796c39da81b93364df           16167463   \n2  0x76fcf0e8c7ff37a47a799fa2cd4c13cde0d981c9           16166876   \n3  0xd1ec5e215e8148d76f4460e4097fd3d5ae0a3558           16166841   \n4  0xc45d42f801105e861e86658648e3678ad7aa70f9           16166822   \n5  0xf5f6fb82649df7991054ef796c39da81b93364df           16166626   \n6  0xd1ec5e215e8148d76f4460e4097fd3d5ae0a3558           16166133   \n7  0x76fcf0e8c7ff37a47a799fa2cd4c13cde0d981c9           16166119   \n8  0xd1ec5e215e8148d76f4460e4097fd3d5ae0a3558           16165790   \n9  0xd1ec5e215e8148d76f4460e4097fd3d5ae0a3558           16165781   \n\n   swaps_timestamp                            swaps_tokenIn_id  \\\n0       1670840447  0xc02aaa39b223fe8d0a0e5c4f27ead9083c756cc2   \n1       1670834003  0x0391d2021f89dc339f60fff84546ea23e337750f   \n2       1670826935  0x6b175474e89094c44da98b954eedeac495271d0f   \n3       1670826515  0xc02aaa39b223fe8d0a0e5c4f27ead9083c756cc2   \n4       1670826287  0x6b175474e89094c44da98b954eedeac495271d0f   \n5       1670823911  0x0391d2021f89dc339f60fff84546ea23e337750f   \n6       1670817983  0xc02aaa39b223fe8d0a0e5c4f27ead9083c756cc2   \n7       1670817815  0x6b175474e89094c44da98b954eedeac495271d0f   \n8       1670813855  0xc02aaa39b223fe8d0a0e5c4f27ead9083c756cc2   \n9       1670813747  0xc02aaa39b223fe8d0a0e5c4f27ead9083c756cc2   \n\n            swaps_tokenIn_name swaps_tokenIn_symbol  swaps_tokenIn_decimals  \\\n0                Wrapped Ether                 WETH                      18   \n1  BarnBridge Governance Token                 BOND                      18   \n2               Dai Stablecoin                  DAI                      18   \n3                Wrapped Ether                 WETH                      18   \n4               Dai Stablecoin                  DAI                      18   \n5  BarnBridge Governance Token                 BOND                      18   \n6                Wrapped Ether                 WETH                      18   \n7               Dai Stablecoin                  DAI                      18   \n8                Wrapped Ether                 WETH                      18   \n9                Wrapped Ether                 WETH                      18   \n\n   ...                           swaps_tokenOut_id  swaps_tokenOut_name  \\\n0  ...  0x64aa3364f17a4d01c6f1751fd97c2bd3d7e7f1d5              Olympus   \n1  ...  0x64aa3364f17a4d01c6f1751fd97c2bd3d7e7f1d5              Olympus   \n2  ...  0x64aa3364f17a4d01c6f1751fd97c2bd3d7e7f1d5              Olympus   \n3  ...  0x64aa3364f17a4d01c6f1751fd97c2bd3d7e7f1d5              Olympus   \n4  ...  0x64aa3364f17a4d01c6f1751fd97c2bd3d7e7f1d5              Olympus   \n5  ...  0x64aa3364f17a4d01c6f1751fd97c2bd3d7e7f1d5              Olympus   \n6  ...  0x64aa3364f17a4d01c6f1751fd97c2bd3d7e7f1d5              Olympus   \n7  ...  0x64aa3364f17a4d01c6f1751fd97c2bd3d7e7f1d5              Olympus   \n8  ...  0x64aa3364f17a4d01c6f1751fd97c2bd3d7e7f1d5              Olympus   \n9  ...  0x64aa3364f17a4d01c6f1751fd97c2bd3d7e7f1d5              Olympus   \n\n  swaps_tokenOut_symbol swaps_tokenOut_decimals swaps_tokenOut_lastPriceUSD  \\\n0                   OHM                       9                   10.139967   \n1                   OHM                       9                   10.139967   \n2                   OHM                       9                   10.139967   \n3                   OHM                       9                   10.139967   \n4                   OHM                       9                   10.139967   \n5                   OHM                       9                   10.139967   \n6                   OHM                       9                   10.139967   \n7                   OHM                       9                   10.139967   \n8                   OHM                       9                   10.139967   \n9                   OHM                       9                   10.139967   \n\n   swaps_tokenOut_lastPriceBlockNumber          swaps_amountIn  \\\n0                             16570566      144762894658108801   \n1                             16570566   345640519269061075277   \n2                             16570566  4000000000000000000000   \n3                             16570566     7053280271119298373   \n4                             16570566  7600000000000000000000   \n5                             16570566    25319693094629157180   \n6                             16570566    11588700273213665613   \n7                             16570566  6000000000000000000000   \n8                             16570566     5464259765451893924   \n9                             16570566     7384497801985259633   \n\n   swaps_amountInUSD swaps_amountOut  swaps_amountOutUSD  \n0         182.839157     19438398131          177.636693  \n1        4368.936949    147215019172         1345.316061  \n2        3998.992000    429915756342         3928.760634  \n3        8908.469434    947025159071         8654.335436  \n4        7598.084800    817961760842         7474.896928  \n5         320.043908     10822159953           98.897692  \n6       14636.818360   1550990520894        14173.638469  \n7        5998.488000    645869534398         5902.241926  \n8        6901.496783    733348255873         6701.661235  \n9        9326.805462    993137876623         9075.733877  \n\n[10 rows x 22 columns]",
      "text/html": "<div>\n<style scoped>\n    .dataframe tbody tr th:only-of-type {\n        vertical-align: middle;\n    }\n\n    .dataframe tbody tr th {\n        vertical-align: top;\n    }\n\n    .dataframe thead th {\n        text-align: right;\n    }\n</style>\n<table border=\"1\" class=\"dataframe\">\n  <thead>\n    <tr style=\"text-align: right;\">\n      <th></th>\n      <th>swaps_id</th>\n      <th>swaps_hash</th>\n      <th>swaps_logIndex</th>\n      <th>swaps_to</th>\n      <th>swaps_blockNumber</th>\n      <th>swaps_timestamp</th>\n      <th>swaps_tokenIn_id</th>\n      <th>swaps_tokenIn_name</th>\n      <th>swaps_tokenIn_symbol</th>\n      <th>swaps_tokenIn_decimals</th>\n      <th>...</th>\n      <th>swaps_tokenOut_id</th>\n      <th>swaps_tokenOut_name</th>\n      <th>swaps_tokenOut_symbol</th>\n      <th>swaps_tokenOut_decimals</th>\n      <th>swaps_tokenOut_lastPriceUSD</th>\n      <th>swaps_tokenOut_lastPriceBlockNumber</th>\n      <th>swaps_amountIn</th>\n      <th>swaps_amountInUSD</th>\n      <th>swaps_amountOut</th>\n      <th>swaps_amountOutUSD</th>\n    </tr>\n  </thead>\n  <tbody>\n    <tr>\n      <th>0</th>\n      <td>swap-0xb7ab585864efd956e4a32fa5d50a10de9379efc...</td>\n      <td>0xb7ab585864efd956e4a32fa5d50a10de9379efc98151...</td>\n      <td>0</td>\n      <td>0xc45d42f801105e861e86658648e3678ad7aa70f9</td>\n      <td>16167993</td>\n      <td>1670840447</td>\n      <td>0xc02aaa39b223fe8d0a0e5c4f27ead9083c756cc2</td>\n      <td>Wrapped Ether</td>\n      <td>WETH</td>\n      <td>18</td>\n      <td>...</td>\n      <td>0x64aa3364f17a4d01c6f1751fd97c2bd3d7e7f1d5</td>\n      <td>Olympus</td>\n      <td>OHM</td>\n      <td>9</td>\n      <td>10.139967</td>\n      <td>16570566</td>\n      <td>144762894658108801</td>\n      <td>182.839157</td>\n      <td>19438398131</td>\n      <td>177.636693</td>\n    </tr>\n    <tr>\n      <th>1</th>\n      <td>swap-0x70b1f71b50ca281679da36fab695f3f95cbdcef...</td>\n      <td>0x70b1f71b50ca281679da36fab695f3f95cbdcef01102...</td>\n      <td>11</td>\n      <td>0xf5f6fb82649df7991054ef796c39da81b93364df</td>\n      <td>16167463</td>\n      <td>1670834003</td>\n      <td>0x0391d2021f89dc339f60fff84546ea23e337750f</td>\n      <td>BarnBridge Governance Token</td>\n      <td>BOND</td>\n      <td>18</td>\n      <td>...</td>\n      <td>0x64aa3364f17a4d01c6f1751fd97c2bd3d7e7f1d5</td>\n      <td>Olympus</td>\n      <td>OHM</td>\n      <td>9</td>\n      <td>10.139967</td>\n      <td>16570566</td>\n      <td>345640519269061075277</td>\n      <td>4368.936949</td>\n      <td>147215019172</td>\n      <td>1345.316061</td>\n    </tr>\n    <tr>\n      <th>2</th>\n      <td>swap-0x1a72ef13879860a24c71a15f8db990c952b84a9...</td>\n      <td>0x1a72ef13879860a24c71a15f8db990c952b84a978818...</td>\n      <td>9</td>\n      <td>0x76fcf0e8c7ff37a47a799fa2cd4c13cde0d981c9</td>\n      <td>16166876</td>\n      <td>1670826935</td>\n      <td>0x6b175474e89094c44da98b954eedeac495271d0f</td>\n      <td>Dai Stablecoin</td>\n      <td>DAI</td>\n      <td>18</td>\n      <td>...</td>\n      <td>0x64aa3364f17a4d01c6f1751fd97c2bd3d7e7f1d5</td>\n      <td>Olympus</td>\n      <td>OHM</td>\n      <td>9</td>\n      <td>10.139967</td>\n      <td>16570566</td>\n      <td>4000000000000000000000</td>\n      <td>3998.992000</td>\n      <td>429915756342</td>\n      <td>3928.760634</td>\n    </tr>\n    <tr>\n      <th>3</th>\n      <td>swap-0x8c33a4e28016b0c98a2332019fd61021657f28b...</td>\n      <td>0x8c33a4e28016b0c98a2332019fd61021657f28bf50f7...</td>\n      <td>62</td>\n      <td>0xd1ec5e215e8148d76f4460e4097fd3d5ae0a3558</td>\n      <td>16166841</td>\n      <td>1670826515</td>\n      <td>0xc02aaa39b223fe8d0a0e5c4f27ead9083c756cc2</td>\n      <td>Wrapped Ether</td>\n      <td>WETH</td>\n      <td>18</td>\n      <td>...</td>\n      <td>0x64aa3364f17a4d01c6f1751fd97c2bd3d7e7f1d5</td>\n      <td>Olympus</td>\n      <td>OHM</td>\n      <td>9</td>\n      <td>10.139967</td>\n      <td>16570566</td>\n      <td>7053280271119298373</td>\n      <td>8908.469434</td>\n      <td>947025159071</td>\n      <td>8654.335436</td>\n    </tr>\n    <tr>\n      <th>4</th>\n      <td>swap-0xc2a65708bba063b2f2f67866ef9e23e063e6a59...</td>\n      <td>0xc2a65708bba063b2f2f67866ef9e23e063e6a5903fa1...</td>\n      <td>4</td>\n      <td>0xc45d42f801105e861e86658648e3678ad7aa70f9</td>\n      <td>16166822</td>\n      <td>1670826287</td>\n      <td>0x6b175474e89094c44da98b954eedeac495271d0f</td>\n      <td>Dai Stablecoin</td>\n      <td>DAI</td>\n      <td>18</td>\n      <td>...</td>\n      <td>0x64aa3364f17a4d01c6f1751fd97c2bd3d7e7f1d5</td>\n      <td>Olympus</td>\n      <td>OHM</td>\n      <td>9</td>\n      <td>10.139967</td>\n      <td>16570566</td>\n      <td>7600000000000000000000</td>\n      <td>7598.084800</td>\n      <td>817961760842</td>\n      <td>7474.896928</td>\n    </tr>\n    <tr>\n      <th>5</th>\n      <td>swap-0xc607bc3e2d69e5c5e7e657735e33d900d704349...</td>\n      <td>0xc607bc3e2d69e5c5e7e657735e33d900d704349ae0bb...</td>\n      <td>6</td>\n      <td>0xf5f6fb82649df7991054ef796c39da81b93364df</td>\n      <td>16166626</td>\n      <td>1670823911</td>\n      <td>0x0391d2021f89dc339f60fff84546ea23e337750f</td>\n      <td>BarnBridge Governance Token</td>\n      <td>BOND</td>\n      <td>18</td>\n      <td>...</td>\n      <td>0x64aa3364f17a4d01c6f1751fd97c2bd3d7e7f1d5</td>\n      <td>Olympus</td>\n      <td>OHM</td>\n      <td>9</td>\n      <td>10.139967</td>\n      <td>16570566</td>\n      <td>25319693094629157180</td>\n      <td>320.043908</td>\n      <td>10822159953</td>\n      <td>98.897692</td>\n    </tr>\n    <tr>\n      <th>6</th>\n      <td>swap-0xda58b7fea0d6879e8405a7cdc539283207516d3...</td>\n      <td>0xda58b7fea0d6879e8405a7cdc539283207516d3c65c0...</td>\n      <td>120</td>\n      <td>0xd1ec5e215e8148d76f4460e4097fd3d5ae0a3558</td>\n      <td>16166133</td>\n      <td>1670817983</td>\n      <td>0xc02aaa39b223fe8d0a0e5c4f27ead9083c756cc2</td>\n      <td>Wrapped Ether</td>\n      <td>WETH</td>\n      <td>18</td>\n      <td>...</td>\n      <td>0x64aa3364f17a4d01c6f1751fd97c2bd3d7e7f1d5</td>\n      <td>Olympus</td>\n      <td>OHM</td>\n      <td>9</td>\n      <td>10.139967</td>\n      <td>16570566</td>\n      <td>11588700273213665613</td>\n      <td>14636.818360</td>\n      <td>1550990520894</td>\n      <td>14173.638469</td>\n    </tr>\n    <tr>\n      <th>7</th>\n      <td>swap-0x664bdd80202b710390fcdec768da972263bb949...</td>\n      <td>0x664bdd80202b710390fcdec768da972263bb9493f50f...</td>\n      <td>126</td>\n      <td>0x76fcf0e8c7ff37a47a799fa2cd4c13cde0d981c9</td>\n      <td>16166119</td>\n      <td>1670817815</td>\n      <td>0x6b175474e89094c44da98b954eedeac495271d0f</td>\n      <td>Dai Stablecoin</td>\n      <td>DAI</td>\n      <td>18</td>\n      <td>...</td>\n      <td>0x64aa3364f17a4d01c6f1751fd97c2bd3d7e7f1d5</td>\n      <td>Olympus</td>\n      <td>OHM</td>\n      <td>9</td>\n      <td>10.139967</td>\n      <td>16570566</td>\n      <td>6000000000000000000000</td>\n      <td>5998.488000</td>\n      <td>645869534398</td>\n      <td>5902.241926</td>\n    </tr>\n    <tr>\n      <th>8</th>\n      <td>swap-0x1afe5f2201a23a9c01598f146373f6ceeb5ebc4...</td>\n      <td>0x1afe5f2201a23a9c01598f146373f6ceeb5ebc426293...</td>\n      <td>23</td>\n      <td>0xd1ec5e215e8148d76f4460e4097fd3d5ae0a3558</td>\n      <td>16165790</td>\n      <td>1670813855</td>\n      <td>0xc02aaa39b223fe8d0a0e5c4f27ead9083c756cc2</td>\n      <td>Wrapped Ether</td>\n      <td>WETH</td>\n      <td>18</td>\n      <td>...</td>\n      <td>0x64aa3364f17a4d01c6f1751fd97c2bd3d7e7f1d5</td>\n      <td>Olympus</td>\n      <td>OHM</td>\n      <td>9</td>\n      <td>10.139967</td>\n      <td>16570566</td>\n      <td>5464259765451893924</td>\n      <td>6901.496783</td>\n      <td>733348255873</td>\n      <td>6701.661235</td>\n    </tr>\n    <tr>\n      <th>9</th>\n      <td>swap-0xecd2cb97ca88776f9b06aaf40a27120eb51367e...</td>\n      <td>0xecd2cb97ca88776f9b06aaf40a27120eb51367e5151e...</td>\n      <td>4</td>\n      <td>0xd1ec5e215e8148d76f4460e4097fd3d5ae0a3558</td>\n      <td>16165781</td>\n      <td>1670813747</td>\n      <td>0xc02aaa39b223fe8d0a0e5c4f27ead9083c756cc2</td>\n      <td>Wrapped Ether</td>\n      <td>WETH</td>\n      <td>18</td>\n      <td>...</td>\n      <td>0x64aa3364f17a4d01c6f1751fd97c2bd3d7e7f1d5</td>\n      <td>Olympus</td>\n      <td>OHM</td>\n      <td>9</td>\n      <td>10.139967</td>\n      <td>16570566</td>\n      <td>7384497801985259633</td>\n      <td>9326.805462</td>\n      <td>993137876623</td>\n      <td>9075.733877</td>\n    </tr>\n  </tbody>\n</table>\n<p>10 rows × 22 columns</p>\n</div>"
     },
     "execution_count": 6,
     "metadata": {},
     "output_type": "execute_result"
    }
   ],
   "source": [
    "OhmBuyersDb.head(10)"
   ],
   "metadata": {
    "collapsed": false
   }
  },
  {
   "cell_type": "code",
   "execution_count": 7,
   "outputs": [
    {
     "name": "stdout",
     "output_type": "stream",
     "text": [
      "iterations:  0 Lines skipped:  0 records collected:  1000  - Sells DB length:  1000  - latest record from:  2023-02-07 06:29:11 0 days ago\n",
      "iterations:  1 Lines skipped:  1000 records collected:  2000  - Sells DB length:  1000  - latest record from:  2023-01-11 14:50:47 26 days ago\n",
      "iterations:  2 Lines skipped:  2000 records collected:  3000  - Sells DB length:  1000  - latest record from:  2022-12-11 14:39:35 58 days ago\n",
      "Done. Total Records collected:  3000\n"
     ]
    }
   ],
   "source": [
    "SellsListLength=0\n",
    "SellsTicker = 0\n",
    "OhmSellersDb = pd.DataFrame()\n",
    "SellsDb = pd.DataFrame()\n",
    "SellsListLength = 1000\n",
    "\n",
    "datediff = 0\n",
    "now=0\n",
    "daysAgo=0\n",
    "daysLimit = 45\n",
    "\n",
    "while daysAgo<=daysLimit:\n",
    "    skipValue = (SellsTicker)*(1000)\n",
    "    swaps = balancer.Query.swaps(\n",
    "        orderBy='timestamp',\n",
    "        orderDirection='desc',\n",
    "        first=1000,\n",
    "        skip = skipValue,\n",
    "        where={ 'tokenIn': '0x64aa3364f17a4d01c6f1751fd97c2bd3d7e7f1d5' }\n",
    "\n",
    "    )\n",
    "\n",
    "    SellsDb = sg.query_df([\n",
    "        swaps.id\n",
    "        ,swaps.hash\n",
    "        ,swaps.logIndex\n",
    "        ,swaps.to\n",
    "        ,swaps.blockNumber\n",
    "        ,swaps.timestamp\n",
    "        ,swaps.tokenIn\n",
    "        ,swaps.tokenOut\n",
    "        ,swaps.amountIn\n",
    "        ,swaps.amountInUSD\n",
    "        ,swaps.amountOut\n",
    "        ,swaps.amountOutUSD\n",
    "    ])\n",
    "\n",
    "    SellsDb.sort_values(by=['swaps_timestamp'])\n",
    "\n",
    "    OhmSellersDb=pd.concat([SellsDb, OhmSellersDb])\n",
    "\n",
    "    recordTimestamp1 = SellsDb.iat[SellsTicker,5]\n",
    "    recordTimestamp = datetime.fromtimestamp( recordTimestamp1 )\n",
    "\n",
    "    now = (int(datetime.utcnow().timestamp()))\n",
    "\n",
    "    datediff=abs(int(now) - recordTimestamp1)\n",
    "\n",
    "    daysAgo = int(datediff/86400)\n",
    "\n",
    "    sellersDbLength = len(OhmSellersDb)\n",
    "    SellsListLength = len(SellsDb)\n",
    "\n",
    "    recordID = SellsDb.iat[SellsTicker,0]\n",
    "    print(\"iterations: \", SellsTicker, \"Lines skipped: \",skipValue, \"records collected: \", sellersDbLength, \" - Sells DB length: \", SellsListLength, \" - latest record from: \", recordTimestamp, daysAgo,\"days ago\")\n",
    "    SellsTicker = SellsTicker+1\n",
    "\n",
    "print(\"Done. Total Records collected: \", sellersDbLength)"
   ],
   "metadata": {
    "collapsed": false
   }
  },
  {
   "cell_type": "code",
   "execution_count": 8,
   "outputs": [
    {
     "data": {
      "text/plain": "                                            swaps_id  \\\n0  swap-0xe763299e941d9e4d780f2ef893fa667cc43ca87...   \n1  swap-0x91b4c9bf80f0accd0736b9a60a2c00f4637da10...   \n2  swap-0x888f05dbe678e298607ecb781dd3e82da1035a4...   \n3  swap-0x7540da83379d1051e267f26b0c634db561aa3bf...   \n4  swap-0x5129e700a5120bfada3773b7a96fe911c11ae10...   \n5  swap-0x02060d23b669d3a15cd0c6def7c0a326c323c9a...   \n6  swap-0x6de772a52ae198be90d055e71e8f3a403bf5b23...   \n7  swap-0x5f2635c732023c039939f0b27aa1b391348460e...   \n8  swap-0x44f870d2e033641f479e24c1bfe84f85250945f...   \n9  swap-0xce40abe12665982120f1f9f3ec7b84c869cb04b...   \n\n                                          swaps_hash  swaps_logIndex  \\\n0  0xe763299e941d9e4d780f2ef893fa667cc43ca872f181...               4   \n1  0x91b4c9bf80f0accd0736b9a60a2c00f4637da1026295...               0   \n2  0x888f05dbe678e298607ecb781dd3e82da1035a4b055d...               9   \n3  0x7540da83379d1051e267f26b0c634db561aa3bfc3607...               7   \n4  0x5129e700a5120bfada3773b7a96fe911c11ae10edeee...               6   \n5  0x02060d23b669d3a15cd0c6def7c0a326c323c9aaa780...             147   \n6  0x6de772a52ae198be90d055e71e8f3a403bf5b23a6343...               1   \n7  0x5f2635c732023c039939f0b27aa1b391348460e704f8...               3   \n8  0x44f870d2e033641f479e24c1bfe84f85250945f720bd...               4   \n9  0xce40abe12665982120f1f9f3ec7b84c869cb04bcc7f9...             122   \n\n                                     swaps_to  swaps_blockNumber  \\\n0  0x76fcf0e8c7ff37a47a799fa2cd4c13cde0d981c9           16164703   \n1  0xc45d42f801105e861e86658648e3678ad7aa70f9           16164619   \n2  0x76fcf0e8c7ff37a47a799fa2cd4c13cde0d981c9           16164507   \n3  0xd1ec5e215e8148d76f4460e4097fd3d5ae0a3558           16164449   \n4  0xd1ec5e215e8148d76f4460e4097fd3d5ae0a3558           16164154   \n5  0xc45d42f801105e861e86658648e3678ad7aa70f9           16164126   \n6  0xc45d42f801105e861e86658648e3678ad7aa70f9           16164110   \n7  0xd1ec5e215e8148d76f4460e4097fd3d5ae0a3558           16163997   \n8  0xd1ec5e215e8148d76f4460e4097fd3d5ae0a3558           16163840   \n9  0x76fcf0e8c7ff37a47a799fa2cd4c13cde0d981c9           16163799   \n\n   swaps_timestamp                            swaps_tokenIn_id  \\\n0       1670800739  0x64aa3364f17a4d01c6f1751fd97c2bd3d7e7f1d5   \n1       1670799731  0x64aa3364f17a4d01c6f1751fd97c2bd3d7e7f1d5   \n2       1670798375  0x64aa3364f17a4d01c6f1751fd97c2bd3d7e7f1d5   \n3       1670797679  0x64aa3364f17a4d01c6f1751fd97c2bd3d7e7f1d5   \n4       1670794115  0x64aa3364f17a4d01c6f1751fd97c2bd3d7e7f1d5   \n5       1670793779  0x64aa3364f17a4d01c6f1751fd97c2bd3d7e7f1d5   \n6       1670793587  0x64aa3364f17a4d01c6f1751fd97c2bd3d7e7f1d5   \n7       1670792231  0x64aa3364f17a4d01c6f1751fd97c2bd3d7e7f1d5   \n8       1670790347  0x64aa3364f17a4d01c6f1751fd97c2bd3d7e7f1d5   \n9       1670789855  0x64aa3364f17a4d01c6f1751fd97c2bd3d7e7f1d5   \n\n  swaps_tokenIn_name swaps_tokenIn_symbol  swaps_tokenIn_decimals  ...  \\\n0            Olympus                  OHM                       9  ...   \n1            Olympus                  OHM                       9  ...   \n2            Olympus                  OHM                       9  ...   \n3            Olympus                  OHM                       9  ...   \n4            Olympus                  OHM                       9  ...   \n5            Olympus                  OHM                       9  ...   \n6            Olympus                  OHM                       9  ...   \n7            Olympus                  OHM                       9  ...   \n8            Olympus                  OHM                       9  ...   \n9            Olympus                  OHM                       9  ...   \n\n                            swaps_tokenOut_id  swaps_tokenOut_name  \\\n0  0x6b175474e89094c44da98b954eedeac495271d0f       Dai Stablecoin   \n1  0xc02aaa39b223fe8d0a0e5c4f27ead9083c756cc2        Wrapped Ether   \n2  0x6b175474e89094c44da98b954eedeac495271d0f       Dai Stablecoin   \n3  0xc02aaa39b223fe8d0a0e5c4f27ead9083c756cc2        Wrapped Ether   \n4  0xc02aaa39b223fe8d0a0e5c4f27ead9083c756cc2        Wrapped Ether   \n5  0xc02aaa39b223fe8d0a0e5c4f27ead9083c756cc2        Wrapped Ether   \n6  0xc02aaa39b223fe8d0a0e5c4f27ead9083c756cc2        Wrapped Ether   \n7  0xc02aaa39b223fe8d0a0e5c4f27ead9083c756cc2        Wrapped Ether   \n8  0xc02aaa39b223fe8d0a0e5c4f27ead9083c756cc2        Wrapped Ether   \n9  0x6b175474e89094c44da98b954eedeac495271d0f       Dai Stablecoin   \n\n  swaps_tokenOut_symbol swaps_tokenOut_decimals swaps_tokenOut_lastPriceUSD  \\\n0                   DAI                      18                    1.000094   \n1                  WETH                      18                 1648.517700   \n2                   DAI                      18                    1.000094   \n3                  WETH                      18                 1648.517700   \n4                  WETH                      18                 1648.517700   \n5                  WETH                      18                 1648.517700   \n6                  WETH                      18                 1648.517700   \n7                  WETH                      18                 1648.517700   \n8                  WETH                      18                 1648.517700   \n9                   DAI                      18                    1.000094   \n\n   swaps_tokenOut_lastPriceBlockNumber  swaps_amountIn  swaps_amountInUSD  \\\n0                             16577182    103745638324         948.073602   \n1                             16571427    685875449806        6267.833703   \n2                             16577182    595118754335        5438.458815   \n3                             16571427    275923862004        2521.514485   \n4                             16571427    398811598563        3644.517061   \n5                             16571427    967697384299        8843.247388   \n6                             16571427     45665538788         417.311923   \n7                             16571427    260869907514        2383.944780   \n8                             16571427    110129713637        1006.414111   \n9                             16577182    315950808276        2887.298452   \n\n          swaps_amountOut  swaps_amountOutUSD  \n0   956266608871150241785          956.025630  \n1     5004660112446574742         6330.170733  \n2  5490271735772570304281         5488.888187  \n3     2011339052674946517         2544.052807  \n4     2906312335207290287         3676.064482  \n5     7049581887127767254         8916.700822  \n6      332977810141233367          421.168739  \n7     1902960385437296171         2406.969478  \n8      803717924326113916         1016.586855  \n9  2920890578403294005547         2920.154514  \n\n[10 rows x 22 columns]",
      "text/html": "<div>\n<style scoped>\n    .dataframe tbody tr th:only-of-type {\n        vertical-align: middle;\n    }\n\n    .dataframe tbody tr th {\n        vertical-align: top;\n    }\n\n    .dataframe thead th {\n        text-align: right;\n    }\n</style>\n<table border=\"1\" class=\"dataframe\">\n  <thead>\n    <tr style=\"text-align: right;\">\n      <th></th>\n      <th>swaps_id</th>\n      <th>swaps_hash</th>\n      <th>swaps_logIndex</th>\n      <th>swaps_to</th>\n      <th>swaps_blockNumber</th>\n      <th>swaps_timestamp</th>\n      <th>swaps_tokenIn_id</th>\n      <th>swaps_tokenIn_name</th>\n      <th>swaps_tokenIn_symbol</th>\n      <th>swaps_tokenIn_decimals</th>\n      <th>...</th>\n      <th>swaps_tokenOut_id</th>\n      <th>swaps_tokenOut_name</th>\n      <th>swaps_tokenOut_symbol</th>\n      <th>swaps_tokenOut_decimals</th>\n      <th>swaps_tokenOut_lastPriceUSD</th>\n      <th>swaps_tokenOut_lastPriceBlockNumber</th>\n      <th>swaps_amountIn</th>\n      <th>swaps_amountInUSD</th>\n      <th>swaps_amountOut</th>\n      <th>swaps_amountOutUSD</th>\n    </tr>\n  </thead>\n  <tbody>\n    <tr>\n      <th>0</th>\n      <td>swap-0xe763299e941d9e4d780f2ef893fa667cc43ca87...</td>\n      <td>0xe763299e941d9e4d780f2ef893fa667cc43ca872f181...</td>\n      <td>4</td>\n      <td>0x76fcf0e8c7ff37a47a799fa2cd4c13cde0d981c9</td>\n      <td>16164703</td>\n      <td>1670800739</td>\n      <td>0x64aa3364f17a4d01c6f1751fd97c2bd3d7e7f1d5</td>\n      <td>Olympus</td>\n      <td>OHM</td>\n      <td>9</td>\n      <td>...</td>\n      <td>0x6b175474e89094c44da98b954eedeac495271d0f</td>\n      <td>Dai Stablecoin</td>\n      <td>DAI</td>\n      <td>18</td>\n      <td>1.000094</td>\n      <td>16577182</td>\n      <td>103745638324</td>\n      <td>948.073602</td>\n      <td>956266608871150241785</td>\n      <td>956.025630</td>\n    </tr>\n    <tr>\n      <th>1</th>\n      <td>swap-0x91b4c9bf80f0accd0736b9a60a2c00f4637da10...</td>\n      <td>0x91b4c9bf80f0accd0736b9a60a2c00f4637da1026295...</td>\n      <td>0</td>\n      <td>0xc45d42f801105e861e86658648e3678ad7aa70f9</td>\n      <td>16164619</td>\n      <td>1670799731</td>\n      <td>0x64aa3364f17a4d01c6f1751fd97c2bd3d7e7f1d5</td>\n      <td>Olympus</td>\n      <td>OHM</td>\n      <td>9</td>\n      <td>...</td>\n      <td>0xc02aaa39b223fe8d0a0e5c4f27ead9083c756cc2</td>\n      <td>Wrapped Ether</td>\n      <td>WETH</td>\n      <td>18</td>\n      <td>1648.517700</td>\n      <td>16571427</td>\n      <td>685875449806</td>\n      <td>6267.833703</td>\n      <td>5004660112446574742</td>\n      <td>6330.170733</td>\n    </tr>\n    <tr>\n      <th>2</th>\n      <td>swap-0x888f05dbe678e298607ecb781dd3e82da1035a4...</td>\n      <td>0x888f05dbe678e298607ecb781dd3e82da1035a4b055d...</td>\n      <td>9</td>\n      <td>0x76fcf0e8c7ff37a47a799fa2cd4c13cde0d981c9</td>\n      <td>16164507</td>\n      <td>1670798375</td>\n      <td>0x64aa3364f17a4d01c6f1751fd97c2bd3d7e7f1d5</td>\n      <td>Olympus</td>\n      <td>OHM</td>\n      <td>9</td>\n      <td>...</td>\n      <td>0x6b175474e89094c44da98b954eedeac495271d0f</td>\n      <td>Dai Stablecoin</td>\n      <td>DAI</td>\n      <td>18</td>\n      <td>1.000094</td>\n      <td>16577182</td>\n      <td>595118754335</td>\n      <td>5438.458815</td>\n      <td>5490271735772570304281</td>\n      <td>5488.888187</td>\n    </tr>\n    <tr>\n      <th>3</th>\n      <td>swap-0x7540da83379d1051e267f26b0c634db561aa3bf...</td>\n      <td>0x7540da83379d1051e267f26b0c634db561aa3bfc3607...</td>\n      <td>7</td>\n      <td>0xd1ec5e215e8148d76f4460e4097fd3d5ae0a3558</td>\n      <td>16164449</td>\n      <td>1670797679</td>\n      <td>0x64aa3364f17a4d01c6f1751fd97c2bd3d7e7f1d5</td>\n      <td>Olympus</td>\n      <td>OHM</td>\n      <td>9</td>\n      <td>...</td>\n      <td>0xc02aaa39b223fe8d0a0e5c4f27ead9083c756cc2</td>\n      <td>Wrapped Ether</td>\n      <td>WETH</td>\n      <td>18</td>\n      <td>1648.517700</td>\n      <td>16571427</td>\n      <td>275923862004</td>\n      <td>2521.514485</td>\n      <td>2011339052674946517</td>\n      <td>2544.052807</td>\n    </tr>\n    <tr>\n      <th>4</th>\n      <td>swap-0x5129e700a5120bfada3773b7a96fe911c11ae10...</td>\n      <td>0x5129e700a5120bfada3773b7a96fe911c11ae10edeee...</td>\n      <td>6</td>\n      <td>0xd1ec5e215e8148d76f4460e4097fd3d5ae0a3558</td>\n      <td>16164154</td>\n      <td>1670794115</td>\n      <td>0x64aa3364f17a4d01c6f1751fd97c2bd3d7e7f1d5</td>\n      <td>Olympus</td>\n      <td>OHM</td>\n      <td>9</td>\n      <td>...</td>\n      <td>0xc02aaa39b223fe8d0a0e5c4f27ead9083c756cc2</td>\n      <td>Wrapped Ether</td>\n      <td>WETH</td>\n      <td>18</td>\n      <td>1648.517700</td>\n      <td>16571427</td>\n      <td>398811598563</td>\n      <td>3644.517061</td>\n      <td>2906312335207290287</td>\n      <td>3676.064482</td>\n    </tr>\n    <tr>\n      <th>5</th>\n      <td>swap-0x02060d23b669d3a15cd0c6def7c0a326c323c9a...</td>\n      <td>0x02060d23b669d3a15cd0c6def7c0a326c323c9aaa780...</td>\n      <td>147</td>\n      <td>0xc45d42f801105e861e86658648e3678ad7aa70f9</td>\n      <td>16164126</td>\n      <td>1670793779</td>\n      <td>0x64aa3364f17a4d01c6f1751fd97c2bd3d7e7f1d5</td>\n      <td>Olympus</td>\n      <td>OHM</td>\n      <td>9</td>\n      <td>...</td>\n      <td>0xc02aaa39b223fe8d0a0e5c4f27ead9083c756cc2</td>\n      <td>Wrapped Ether</td>\n      <td>WETH</td>\n      <td>18</td>\n      <td>1648.517700</td>\n      <td>16571427</td>\n      <td>967697384299</td>\n      <td>8843.247388</td>\n      <td>7049581887127767254</td>\n      <td>8916.700822</td>\n    </tr>\n    <tr>\n      <th>6</th>\n      <td>swap-0x6de772a52ae198be90d055e71e8f3a403bf5b23...</td>\n      <td>0x6de772a52ae198be90d055e71e8f3a403bf5b23a6343...</td>\n      <td>1</td>\n      <td>0xc45d42f801105e861e86658648e3678ad7aa70f9</td>\n      <td>16164110</td>\n      <td>1670793587</td>\n      <td>0x64aa3364f17a4d01c6f1751fd97c2bd3d7e7f1d5</td>\n      <td>Olympus</td>\n      <td>OHM</td>\n      <td>9</td>\n      <td>...</td>\n      <td>0xc02aaa39b223fe8d0a0e5c4f27ead9083c756cc2</td>\n      <td>Wrapped Ether</td>\n      <td>WETH</td>\n      <td>18</td>\n      <td>1648.517700</td>\n      <td>16571427</td>\n      <td>45665538788</td>\n      <td>417.311923</td>\n      <td>332977810141233367</td>\n      <td>421.168739</td>\n    </tr>\n    <tr>\n      <th>7</th>\n      <td>swap-0x5f2635c732023c039939f0b27aa1b391348460e...</td>\n      <td>0x5f2635c732023c039939f0b27aa1b391348460e704f8...</td>\n      <td>3</td>\n      <td>0xd1ec5e215e8148d76f4460e4097fd3d5ae0a3558</td>\n      <td>16163997</td>\n      <td>1670792231</td>\n      <td>0x64aa3364f17a4d01c6f1751fd97c2bd3d7e7f1d5</td>\n      <td>Olympus</td>\n      <td>OHM</td>\n      <td>9</td>\n      <td>...</td>\n      <td>0xc02aaa39b223fe8d0a0e5c4f27ead9083c756cc2</td>\n      <td>Wrapped Ether</td>\n      <td>WETH</td>\n      <td>18</td>\n      <td>1648.517700</td>\n      <td>16571427</td>\n      <td>260869907514</td>\n      <td>2383.944780</td>\n      <td>1902960385437296171</td>\n      <td>2406.969478</td>\n    </tr>\n    <tr>\n      <th>8</th>\n      <td>swap-0x44f870d2e033641f479e24c1bfe84f85250945f...</td>\n      <td>0x44f870d2e033641f479e24c1bfe84f85250945f720bd...</td>\n      <td>4</td>\n      <td>0xd1ec5e215e8148d76f4460e4097fd3d5ae0a3558</td>\n      <td>16163840</td>\n      <td>1670790347</td>\n      <td>0x64aa3364f17a4d01c6f1751fd97c2bd3d7e7f1d5</td>\n      <td>Olympus</td>\n      <td>OHM</td>\n      <td>9</td>\n      <td>...</td>\n      <td>0xc02aaa39b223fe8d0a0e5c4f27ead9083c756cc2</td>\n      <td>Wrapped Ether</td>\n      <td>WETH</td>\n      <td>18</td>\n      <td>1648.517700</td>\n      <td>16571427</td>\n      <td>110129713637</td>\n      <td>1006.414111</td>\n      <td>803717924326113916</td>\n      <td>1016.586855</td>\n    </tr>\n    <tr>\n      <th>9</th>\n      <td>swap-0xce40abe12665982120f1f9f3ec7b84c869cb04b...</td>\n      <td>0xce40abe12665982120f1f9f3ec7b84c869cb04bcc7f9...</td>\n      <td>122</td>\n      <td>0x76fcf0e8c7ff37a47a799fa2cd4c13cde0d981c9</td>\n      <td>16163799</td>\n      <td>1670789855</td>\n      <td>0x64aa3364f17a4d01c6f1751fd97c2bd3d7e7f1d5</td>\n      <td>Olympus</td>\n      <td>OHM</td>\n      <td>9</td>\n      <td>...</td>\n      <td>0x6b175474e89094c44da98b954eedeac495271d0f</td>\n      <td>Dai Stablecoin</td>\n      <td>DAI</td>\n      <td>18</td>\n      <td>1.000094</td>\n      <td>16577182</td>\n      <td>315950808276</td>\n      <td>2887.298452</td>\n      <td>2920890578403294005547</td>\n      <td>2920.154514</td>\n    </tr>\n  </tbody>\n</table>\n<p>10 rows × 22 columns</p>\n</div>"
     },
     "execution_count": 8,
     "metadata": {},
     "output_type": "execute_result"
    }
   ],
   "source": [
    "OhmSellersDb.head(10)"
   ],
   "metadata": {
    "collapsed": false
   }
  },
  {
   "cell_type": "code",
   "execution_count": 48,
   "outputs": [],
   "source": [
    "path =file+'/OHMBalancerBuys '+str(datetime.today().strftime(\"%b-%d-%Y\"))+\"_\"+str(buyersDbLength)+'records.csv'\n",
    "OhmBuyersDb.to_csv(path, index = False)\n",
    "path =file+'/OHMBalancerSells '+str(datetime.today().strftime(\"%b-%d-%Y\"))+\"_\"+str(buyersDbLength)+'records.csv'\n",
    "OhmSellersDb.to_csv(path, index = False)"
   ],
   "metadata": {
    "collapsed": false
   }
  },
  {
   "cell_type": "code",
   "execution_count": 49,
   "outputs": [],
   "source": [
    "path =file+'/OHMBalancerBuys '+str(datetime.today().strftime(\"%b-%d-%Y\"))+\"_\"+str(buyersDbLength)+'recordsPIPED.csv'\n",
    "OhmBuyersDb.to_csv(path, index = False, sep = '|')\n",
    "path =file+'/OHMBalancerSells '+str(datetime.today().strftime(\"%b-%d-%Y\"))+\"_\"+str(buyersDbLength)+'recordsPIPED.csv'\n",
    "OhmSellersDb.to_csv(path, index = False, sep = '|')"
   ],
   "metadata": {
    "collapsed": false
   }
  },
  {
   "cell_type": "code",
   "execution_count": 9,
   "outputs": [
    {
     "data": {
      "text/plain": "                                             swaps_id  \\\n0   swap-0x72400a27f48657573c4a5f6cc89247f760107e4...   \n1   swap-0xe54ffb9cc0f858eca3175034e28c09ac1b575e5...   \n2   swap-0x5d8dcc12ff126b129df0552874441ff7ee42e8f...   \n3   swap-0xd5b87db46f1aaa8144b45db0386a5ed7d87dc4e...   \n4   swap-0x8343aed4e083b9e9b6d3e23164450b5fd5470e0...   \n..                                                ...   \n95  swap-0xa62e795576e50dfcabae3cb106fe5881ccf12c9...   \n96  swap-0x2d8eaf3cf79486a135ee20709c97b378d889930...   \n97  swap-0x4952f87a4bcdf74bdd54303c68cf4ebe3227714...   \n98  swap-0x126ad24ed2cc20ef3cdc1399d858091b6c9a0b8...   \n99  swap-0x81a8e4ddedd0a432291024643953baf0ee5bddc...   \n\n                                           swaps_hash  swaps_logIndex  \\\n0   0x72400a27f48657573c4a5f6cc89247f760107e420972...              12   \n1   0xe54ffb9cc0f858eca3175034e28c09ac1b575e56a901...               3   \n2   0x5d8dcc12ff126b129df0552874441ff7ee42e8f8e3c4...              61   \n3   0xd5b87db46f1aaa8144b45db0386a5ed7d87dc4eb6211...               6   \n4   0x8343aed4e083b9e9b6d3e23164450b5fd5470e039147...               7   \n..                                                ...             ...   \n95  0xa62e795576e50dfcabae3cb106fe5881ccf12c9f2cd0...             143   \n96  0x2d8eaf3cf79486a135ee20709c97b378d889930a6d84...             168   \n97  0x4952f87a4bcdf74bdd54303c68cf4ebe3227714927a9...             139   \n98  0x126ad24ed2cc20ef3cdc1399d858091b6c9a0b83194c...               5   \n99  0x81a8e4ddedd0a432291024643953baf0ee5bddc44b07...             109   \n\n                                      swaps_to  swaps_blockNumber  \\\n0   0xd1ec5e215e8148d76f4460e4097fd3d5ae0a3558           16577500   \n1   0xd1ec5e215e8148d76f4460e4097fd3d5ae0a3558           16577463   \n2   0xd1ec5e215e8148d76f4460e4097fd3d5ae0a3558           16577232   \n3   0xd1ec5e215e8148d76f4460e4097fd3d5ae0a3558           16576767   \n4   0x2de32a7c98c3ef6ec79e703500e8ca5b2ec819aa           16576679   \n..                                         ...                ...   \n95  0xd1ec5e215e8148d76f4460e4097fd3d5ae0a3558           16566927   \n96  0x2de32a7c98c3ef6ec79e703500e8ca5b2ec819aa           16566703   \n97  0xd1ec5e215e8148d76f4460e4097fd3d5ae0a3558           16566463   \n98  0xd1ec5e215e8148d76f4460e4097fd3d5ae0a3558           16566234   \n99  0xd1ec5e215e8148d76f4460e4097fd3d5ae0a3558           16566104   \n\n    swaps_timestamp                            swaps_tokenIn_id  \\\n0        1675780151  0x64aa3364f17a4d01c6f1751fd97c2bd3d7e7f1d5   \n1        1675779707  0xc02aaa39b223fe8d0a0e5c4f27ead9083c756cc2   \n2        1675776911  0x64aa3364f17a4d01c6f1751fd97c2bd3d7e7f1d5   \n3        1675771247  0xc02aaa39b223fe8d0a0e5c4f27ead9083c756cc2   \n4        1675770191  0x64aa3364f17a4d01c6f1751fd97c2bd3d7e7f1d5   \n..              ...                                         ...   \n95       1675652507  0xc02aaa39b223fe8d0a0e5c4f27ead9083c756cc2   \n96       1675649807  0xc55126051b22ebb829d00368f4b12bde432de5da   \n97       1675646903  0x64aa3364f17a4d01c6f1751fd97c2bd3d7e7f1d5   \n98       1675644155  0x64aa3364f17a4d01c6f1751fd97c2bd3d7e7f1d5   \n99       1675642583  0x64aa3364f17a4d01c6f1751fd97c2bd3d7e7f1d5   \n\n   swaps_tokenIn_name swaps_tokenIn_symbol  swaps_tokenIn_decimals  ...  \\\n0             Olympus                  OHM                       9  ...   \n1       Wrapped Ether                 WETH                      18  ...   \n2             Olympus                  OHM                       9  ...   \n3       Wrapped Ether                 WETH                      18  ...   \n4             Olympus                  OHM                       9  ...   \n..                ...                  ...                     ...  ...   \n95      Wrapped Ether                 WETH                      18  ...   \n96             BTRFLY               BTRFLY                      18  ...   \n97            Olympus                  OHM                       9  ...   \n98            Olympus                  OHM                       9  ...   \n99            Olympus                  OHM                       9  ...   \n\n    swaps_tokenOut_name  swaps_tokenOut_symbol swaps_tokenOut_decimals  \\\n0         Wrapped Ether                   WETH                      18   \n1               Olympus                    OHM                       9   \n2         Wrapped Ether                   WETH                      18   \n3               Olympus                    OHM                       9   \n4                BTRFLY                 BTRFLY                      18   \n..                  ...                    ...                     ...   \n95              Olympus                    OHM                       9   \n96              Olympus                    OHM                       9   \n97        Wrapped Ether                   WETH                      18   \n98        Wrapped Ether                   WETH                      18   \n99        Wrapped Ether                   WETH                      18   \n\n   swaps_tokenOut_lastPriceUSD swaps_tokenOut_lastPriceBlockNumber  \\\n0                  1648.517700                            16571427   \n1                    10.139967                            16570566   \n2                  1648.517700                            16571427   \n3                    10.139967                            16570566   \n4                   294.099590                            16574399   \n..                         ...                                 ...   \n95                   10.139967                            16570566   \n96                   10.139967                            16570566   \n97                 1648.517700                            16571427   \n98                 1648.517700                            16571427   \n99                 1648.517700                            16571427   \n\n          swaps_amountIn  swaps_amountInUSD      swaps_amountOut  \\\n0           110084735559        1116.255586   674956734574098091   \n1    3244539285203234591        5348.680440         526132355259   \n2            14820903010         150.283467    90823884368259850   \n3     887054120000000000        1462.324418         143895154345   \n4           228340929312        2315.369488  7756661985670812549   \n..                   ...                ...                  ...   \n95  12328743470630494645       20016.344037        1986162992445   \n96   1204989621948913633         360.282549          33854350064   \n97           99446919122         995.862741   612980585942950400   \n98         1261198452207       12629.657696  7779773146280844503   \n99           23067391021         230.997154   142393723354748789   \n\n   swaps_amountOutUSD            dateTime  \n0         1112.678124 2023-02-07 14:29:11  \n1         5334.964720 2023-02-07 14:21:47  \n2          149.724781 2023-02-07 13:35:11  \n3         1459.092117 2023-02-07 12:00:47  \n4         2281.231110 2023-02-07 11:43:11  \n..                ...                 ...  \n95       19889.462026 2023-02-06 03:01:47  \n96         339.017902 2023-02-06 02:16:47  \n97         995.205256 2023-02-06 01:28:23  \n98       12630.858627 2023-02-06 00:42:35  \n99         231.183475 2023-02-06 00:16:23  \n\n[100 rows x 23 columns]",
      "text/html": "<div>\n<style scoped>\n    .dataframe tbody tr th:only-of-type {\n        vertical-align: middle;\n    }\n\n    .dataframe tbody tr th {\n        vertical-align: top;\n    }\n\n    .dataframe thead th {\n        text-align: right;\n    }\n</style>\n<table border=\"1\" class=\"dataframe\">\n  <thead>\n    <tr style=\"text-align: right;\">\n      <th></th>\n      <th>swaps_id</th>\n      <th>swaps_hash</th>\n      <th>swaps_logIndex</th>\n      <th>swaps_to</th>\n      <th>swaps_blockNumber</th>\n      <th>swaps_timestamp</th>\n      <th>swaps_tokenIn_id</th>\n      <th>swaps_tokenIn_name</th>\n      <th>swaps_tokenIn_symbol</th>\n      <th>swaps_tokenIn_decimals</th>\n      <th>...</th>\n      <th>swaps_tokenOut_name</th>\n      <th>swaps_tokenOut_symbol</th>\n      <th>swaps_tokenOut_decimals</th>\n      <th>swaps_tokenOut_lastPriceUSD</th>\n      <th>swaps_tokenOut_lastPriceBlockNumber</th>\n      <th>swaps_amountIn</th>\n      <th>swaps_amountInUSD</th>\n      <th>swaps_amountOut</th>\n      <th>swaps_amountOutUSD</th>\n      <th>dateTime</th>\n    </tr>\n  </thead>\n  <tbody>\n    <tr>\n      <th>0</th>\n      <td>swap-0x72400a27f48657573c4a5f6cc89247f760107e4...</td>\n      <td>0x72400a27f48657573c4a5f6cc89247f760107e420972...</td>\n      <td>12</td>\n      <td>0xd1ec5e215e8148d76f4460e4097fd3d5ae0a3558</td>\n      <td>16577500</td>\n      <td>1675780151</td>\n      <td>0x64aa3364f17a4d01c6f1751fd97c2bd3d7e7f1d5</td>\n      <td>Olympus</td>\n      <td>OHM</td>\n      <td>9</td>\n      <td>...</td>\n      <td>Wrapped Ether</td>\n      <td>WETH</td>\n      <td>18</td>\n      <td>1648.517700</td>\n      <td>16571427</td>\n      <td>110084735559</td>\n      <td>1116.255586</td>\n      <td>674956734574098091</td>\n      <td>1112.678124</td>\n      <td>2023-02-07 14:29:11</td>\n    </tr>\n    <tr>\n      <th>1</th>\n      <td>swap-0xe54ffb9cc0f858eca3175034e28c09ac1b575e5...</td>\n      <td>0xe54ffb9cc0f858eca3175034e28c09ac1b575e56a901...</td>\n      <td>3</td>\n      <td>0xd1ec5e215e8148d76f4460e4097fd3d5ae0a3558</td>\n      <td>16577463</td>\n      <td>1675779707</td>\n      <td>0xc02aaa39b223fe8d0a0e5c4f27ead9083c756cc2</td>\n      <td>Wrapped Ether</td>\n      <td>WETH</td>\n      <td>18</td>\n      <td>...</td>\n      <td>Olympus</td>\n      <td>OHM</td>\n      <td>9</td>\n      <td>10.139967</td>\n      <td>16570566</td>\n      <td>3244539285203234591</td>\n      <td>5348.680440</td>\n      <td>526132355259</td>\n      <td>5334.964720</td>\n      <td>2023-02-07 14:21:47</td>\n    </tr>\n    <tr>\n      <th>2</th>\n      <td>swap-0x5d8dcc12ff126b129df0552874441ff7ee42e8f...</td>\n      <td>0x5d8dcc12ff126b129df0552874441ff7ee42e8f8e3c4...</td>\n      <td>61</td>\n      <td>0xd1ec5e215e8148d76f4460e4097fd3d5ae0a3558</td>\n      <td>16577232</td>\n      <td>1675776911</td>\n      <td>0x64aa3364f17a4d01c6f1751fd97c2bd3d7e7f1d5</td>\n      <td>Olympus</td>\n      <td>OHM</td>\n      <td>9</td>\n      <td>...</td>\n      <td>Wrapped Ether</td>\n      <td>WETH</td>\n      <td>18</td>\n      <td>1648.517700</td>\n      <td>16571427</td>\n      <td>14820903010</td>\n      <td>150.283467</td>\n      <td>90823884368259850</td>\n      <td>149.724781</td>\n      <td>2023-02-07 13:35:11</td>\n    </tr>\n    <tr>\n      <th>3</th>\n      <td>swap-0xd5b87db46f1aaa8144b45db0386a5ed7d87dc4e...</td>\n      <td>0xd5b87db46f1aaa8144b45db0386a5ed7d87dc4eb6211...</td>\n      <td>6</td>\n      <td>0xd1ec5e215e8148d76f4460e4097fd3d5ae0a3558</td>\n      <td>16576767</td>\n      <td>1675771247</td>\n      <td>0xc02aaa39b223fe8d0a0e5c4f27ead9083c756cc2</td>\n      <td>Wrapped Ether</td>\n      <td>WETH</td>\n      <td>18</td>\n      <td>...</td>\n      <td>Olympus</td>\n      <td>OHM</td>\n      <td>9</td>\n      <td>10.139967</td>\n      <td>16570566</td>\n      <td>887054120000000000</td>\n      <td>1462.324418</td>\n      <td>143895154345</td>\n      <td>1459.092117</td>\n      <td>2023-02-07 12:00:47</td>\n    </tr>\n    <tr>\n      <th>4</th>\n      <td>swap-0x8343aed4e083b9e9b6d3e23164450b5fd5470e0...</td>\n      <td>0x8343aed4e083b9e9b6d3e23164450b5fd5470e039147...</td>\n      <td>7</td>\n      <td>0x2de32a7c98c3ef6ec79e703500e8ca5b2ec819aa</td>\n      <td>16576679</td>\n      <td>1675770191</td>\n      <td>0x64aa3364f17a4d01c6f1751fd97c2bd3d7e7f1d5</td>\n      <td>Olympus</td>\n      <td>OHM</td>\n      <td>9</td>\n      <td>...</td>\n      <td>BTRFLY</td>\n      <td>BTRFLY</td>\n      <td>18</td>\n      <td>294.099590</td>\n      <td>16574399</td>\n      <td>228340929312</td>\n      <td>2315.369488</td>\n      <td>7756661985670812549</td>\n      <td>2281.231110</td>\n      <td>2023-02-07 11:43:11</td>\n    </tr>\n    <tr>\n      <th>...</th>\n      <td>...</td>\n      <td>...</td>\n      <td>...</td>\n      <td>...</td>\n      <td>...</td>\n      <td>...</td>\n      <td>...</td>\n      <td>...</td>\n      <td>...</td>\n      <td>...</td>\n      <td>...</td>\n      <td>...</td>\n      <td>...</td>\n      <td>...</td>\n      <td>...</td>\n      <td>...</td>\n      <td>...</td>\n      <td>...</td>\n      <td>...</td>\n      <td>...</td>\n      <td>...</td>\n    </tr>\n    <tr>\n      <th>95</th>\n      <td>swap-0xa62e795576e50dfcabae3cb106fe5881ccf12c9...</td>\n      <td>0xa62e795576e50dfcabae3cb106fe5881ccf12c9f2cd0...</td>\n      <td>143</td>\n      <td>0xd1ec5e215e8148d76f4460e4097fd3d5ae0a3558</td>\n      <td>16566927</td>\n      <td>1675652507</td>\n      <td>0xc02aaa39b223fe8d0a0e5c4f27ead9083c756cc2</td>\n      <td>Wrapped Ether</td>\n      <td>WETH</td>\n      <td>18</td>\n      <td>...</td>\n      <td>Olympus</td>\n      <td>OHM</td>\n      <td>9</td>\n      <td>10.139967</td>\n      <td>16570566</td>\n      <td>12328743470630494645</td>\n      <td>20016.344037</td>\n      <td>1986162992445</td>\n      <td>19889.462026</td>\n      <td>2023-02-06 03:01:47</td>\n    </tr>\n    <tr>\n      <th>96</th>\n      <td>swap-0x2d8eaf3cf79486a135ee20709c97b378d889930...</td>\n      <td>0x2d8eaf3cf79486a135ee20709c97b378d889930a6d84...</td>\n      <td>168</td>\n      <td>0x2de32a7c98c3ef6ec79e703500e8ca5b2ec819aa</td>\n      <td>16566703</td>\n      <td>1675649807</td>\n      <td>0xc55126051b22ebb829d00368f4b12bde432de5da</td>\n      <td>BTRFLY</td>\n      <td>BTRFLY</td>\n      <td>18</td>\n      <td>...</td>\n      <td>Olympus</td>\n      <td>OHM</td>\n      <td>9</td>\n      <td>10.139967</td>\n      <td>16570566</td>\n      <td>1204989621948913633</td>\n      <td>360.282549</td>\n      <td>33854350064</td>\n      <td>339.017902</td>\n      <td>2023-02-06 02:16:47</td>\n    </tr>\n    <tr>\n      <th>97</th>\n      <td>swap-0x4952f87a4bcdf74bdd54303c68cf4ebe3227714...</td>\n      <td>0x4952f87a4bcdf74bdd54303c68cf4ebe3227714927a9...</td>\n      <td>139</td>\n      <td>0xd1ec5e215e8148d76f4460e4097fd3d5ae0a3558</td>\n      <td>16566463</td>\n      <td>1675646903</td>\n      <td>0x64aa3364f17a4d01c6f1751fd97c2bd3d7e7f1d5</td>\n      <td>Olympus</td>\n      <td>OHM</td>\n      <td>9</td>\n      <td>...</td>\n      <td>Wrapped Ether</td>\n      <td>WETH</td>\n      <td>18</td>\n      <td>1648.517700</td>\n      <td>16571427</td>\n      <td>99446919122</td>\n      <td>995.862741</td>\n      <td>612980585942950400</td>\n      <td>995.205256</td>\n      <td>2023-02-06 01:28:23</td>\n    </tr>\n    <tr>\n      <th>98</th>\n      <td>swap-0x126ad24ed2cc20ef3cdc1399d858091b6c9a0b8...</td>\n      <td>0x126ad24ed2cc20ef3cdc1399d858091b6c9a0b83194c...</td>\n      <td>5</td>\n      <td>0xd1ec5e215e8148d76f4460e4097fd3d5ae0a3558</td>\n      <td>16566234</td>\n      <td>1675644155</td>\n      <td>0x64aa3364f17a4d01c6f1751fd97c2bd3d7e7f1d5</td>\n      <td>Olympus</td>\n      <td>OHM</td>\n      <td>9</td>\n      <td>...</td>\n      <td>Wrapped Ether</td>\n      <td>WETH</td>\n      <td>18</td>\n      <td>1648.517700</td>\n      <td>16571427</td>\n      <td>1261198452207</td>\n      <td>12629.657696</td>\n      <td>7779773146280844503</td>\n      <td>12630.858627</td>\n      <td>2023-02-06 00:42:35</td>\n    </tr>\n    <tr>\n      <th>99</th>\n      <td>swap-0x81a8e4ddedd0a432291024643953baf0ee5bddc...</td>\n      <td>0x81a8e4ddedd0a432291024643953baf0ee5bddc44b07...</td>\n      <td>109</td>\n      <td>0xd1ec5e215e8148d76f4460e4097fd3d5ae0a3558</td>\n      <td>16566104</td>\n      <td>1675642583</td>\n      <td>0x64aa3364f17a4d01c6f1751fd97c2bd3d7e7f1d5</td>\n      <td>Olympus</td>\n      <td>OHM</td>\n      <td>9</td>\n      <td>...</td>\n      <td>Wrapped Ether</td>\n      <td>WETH</td>\n      <td>18</td>\n      <td>1648.517700</td>\n      <td>16571427</td>\n      <td>23067391021</td>\n      <td>230.997154</td>\n      <td>142393723354748789</td>\n      <td>231.183475</td>\n      <td>2023-02-06 00:16:23</td>\n    </tr>\n  </tbody>\n</table>\n<p>100 rows × 23 columns</p>\n</div>"
     },
     "execution_count": 9,
     "metadata": {},
     "output_type": "execute_result"
    }
   ],
   "source": [
    "OhmSwappersDb=pd.concat([OhmBuyersDb, OhmSellersDb])\n",
    "OhmSwappersDb.sort_values(by=['swaps_timestamp'], ascending = False)\n",
    "OhmSwappersDbTimed= db.query(\"select \"\n",
    "                   \"    * \"\n",
    "                        \" ,to_timestamp(swaps_timestamp) dateTime \"\n",
    "                   \"From OhmSwappersDb \"\n",
    "                             \"Order by swaps_timestamp desc \"\n",
    "                   # \"Where swaps_to = '0x9B53bed0D62028C0fC5D2006c076cb33e6E6CEcd' \"\n",
    "                   #\"where lower(liquidityPools_name) like lower('%olympus%') \"\n",
    "                    #    \"or lower(pairs_token1_symbol) like lower('%OHM%')  \"\n",
    "                   #\" limit 100 \"\n",
    "                   ).df()\n",
    "OhmSwappersDbTimed.head(100)"
   ],
   "metadata": {
    "collapsed": false
   }
  },
  {
   "cell_type": "code",
   "execution_count": 29,
   "outputs": [],
   "source": [
    "path =file+'/OHMBalancerSwaps '+str(datetime.today().strftime(\"%b-%d-%Y\"))+\"_\"+str(buyersDbLength)+'records.csv'\n",
    "OhmSwappersDbTimed.to_csv(path, index = False)\n",
    "path =file+'/OHMBalancerSwaps '+str(datetime.today().strftime(\"%b-%d-%Y\"))+\"_\"+str(buyersDbLength)+'recordsPIPED.csv'\n",
    "OhmSwappersDbTimed.to_csv(path, index = False, sep = '|')"
   ],
   "metadata": {
    "collapsed": false
   }
  }
 ],
 "metadata": {
  "kernelspec": {
   "display_name": "Python 3",
   "language": "python",
   "name": "python3"
  },
  "language_info": {
   "codemirror_mode": {
    "name": "ipython",
    "version": 2
   },
   "file_extension": ".py",
   "mimetype": "text/x-python",
   "name": "python",
   "nbconvert_exporter": "python",
   "pygments_lexer": "ipython2",
   "version": "2.7.6"
  }
 },
 "nbformat": 4,
 "nbformat_minor": 0
}
