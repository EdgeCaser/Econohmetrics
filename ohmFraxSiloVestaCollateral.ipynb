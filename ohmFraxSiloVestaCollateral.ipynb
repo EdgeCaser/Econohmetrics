{
 "cells": [
  {
   "cell_type": "code",
   "execution_count": null,
   "metadata": {
    "collapsed": true
   },
   "outputs": [],
   "source": [
    "from datetime import datetime\n",
    "import datetime as dt\n",
    "import time\n",
    "from subgrounds.subgraph import SyntheticField, FieldPath\n",
    "from subgrounds.subgrounds import Subgrounds\n",
    "import pandas as pd\n",
    "import duckdb as db\n",
    "import seaborn as sns\n",
    "import matplotlib.pyplot as plt\n",
    "import IPython as ip\n",
    "import  os as os\n"
   ]
  },
  {
   "cell_type": "code",
   "execution_count": null,
   "outputs": [],
   "source": [
    "sg = Subgrounds()\n",
    "apiKey = input('API Key, please')"
   ],
   "metadata": {
    "collapsed": false
   }
  },
  {
   "cell_type": "code",
   "execution_count": null,
   "outputs": [],
   "source": [
    "#for when we save the files\n",
    "file = input('Selet a folder to save output') ##enter your file path here - the file is in the repo \"summary_stats.csv\"."
   ],
   "metadata": {
    "collapsed": false
   }
  },
  {
   "cell_type": "markdown",
   "source": [],
   "metadata": {
    "collapsed": false
   }
  },
  {
   "cell_type": "markdown",
   "source": [
    "*******************************************************************************************\n",
    "*******************************************************************************************\n",
    "STARTING WITH FRAX"
   ],
   "metadata": {
    "collapsed": false
   }
  },
  {
   "cell_type": "code",
   "execution_count": 261,
   "outputs": [],
   "source": [
    "#https://api.thegraph.com/subgraphs/name/frax-finance-data/fraxlend-subgraph---mainnet/\n",
    "#frax = sg.load_api('https://gateway.thegraph.com/api/'+apiKey+'/subgraphs/id/GELTrjPJYEzxyp6Y2CtEaYpGHcJNrJA6i5Ci4KfJSEsf')\n",
    "frax = sg.load_api('https://api.thegraph.com/subgraphs/name/frax-finance-data/fraxlend-subgraph---mainnet')"
   ],
   "metadata": {
    "collapsed": false
   }
  },
  {
   "cell_type": "code",
   "execution_count": 262,
   "outputs": [
    {
     "data": {
      "text/plain": "                                       pairPerDays_id  pairPerDays_timestamp  \\\n0   0x66bf36dba79d4606039f04b32946a260bcd3ff52-Recent             1676494787   \n1    0x66bf36dba79d4606039f04b32946a260bcd3ff52-19403             1676494787   \n2    0x66bf36dba79d4606039f04b32946a260bcd3ff52-19402             1676418959   \n3    0x66bf36dba79d4606039f04b32946a260bcd3ff52-19401             1676332535   \n4    0x66bf36dba79d4606039f04b32946a260bcd3ff52-19400             1676246147   \n..                                                ...                    ...   \n74   0x66bf36dba79d4606039f04b32946a260bcd3ff52-19330             1670198135   \n75   0x66bf36dba79d4606039f04b32946a260bcd3ff52-19329             1670111891   \n76   0x66bf36dba79d4606039f04b32946a260bcd3ff52-19328             1670025359   \n77   0x66bf36dba79d4606039f04b32946a260bcd3ff52-19327             1669938935   \n78   0x66bf36dba79d4606039f04b32946a260bcd3ff52-19326             1669852523   \n\n                      pairPerDays_pair_address pairPerDays_pair_symbol  \\\n0   0x66bf36dba79d4606039f04b32946a260bcd3ff52          fFRAX(gOHM)-11   \n1   0x66bf36dba79d4606039f04b32946a260bcd3ff52          fFRAX(gOHM)-11   \n2   0x66bf36dba79d4606039f04b32946a260bcd3ff52          fFRAX(gOHM)-11   \n3   0x66bf36dba79d4606039f04b32946a260bcd3ff52          fFRAX(gOHM)-11   \n4   0x66bf36dba79d4606039f04b32946a260bcd3ff52          fFRAX(gOHM)-11   \n..                                         ...                     ...   \n74  0x66bf36dba79d4606039f04b32946a260bcd3ff52          fFRAX(gOHM)-11   \n75  0x66bf36dba79d4606039f04b32946a260bcd3ff52          fFRAX(gOHM)-11   \n76  0x66bf36dba79d4606039f04b32946a260bcd3ff52          fFRAX(gOHM)-11   \n77  0x66bf36dba79d4606039f04b32946a260bcd3ff52          fFRAX(gOHM)-11   \n78  0x66bf36dba79d4606039f04b32946a260bcd3ff52          fFRAX(gOHM)-11   \n\n    pairPerDays_interestPerSecond       pairPerDays_totalBorrowValue  \\\n0                      2984304040  400116192946270617921986200000000   \n1                      2984304040  400116192946270617921986200000000   \n2                      3000793398  401030577997982608018279400000000   \n3                      2655789209  393433850641671840122635700000000   \n4                      2625172870  388538769723592668721207100000000   \n..                            ...                                ...   \n74                      887806114  164224614112999780177884700000000   \n75                      797470641  135868742062949858845517400000000   \n76                      819794982  128753870536361513515734000000000   \n77                      158550393      18212764207485974382800000000   \n78                              0                                  0   \n\n    pairPerDays_utilization              pairPerDays_pair_collateral_id  \\\n0                     85197  0x0ab87046fbb341d058f17cbc4c1133f25a20a52f   \n1                     85197  0x0ab87046fbb341d058f17cbc4c1133f25a20a52f   \n2                     85776  0x0ab87046fbb341d058f17cbc4c1133f25a20a52f   \n3                     75450  0x0ab87046fbb341d058f17cbc4c1133f25a20a52f   \n4                     74524  0x0ab87046fbb341d058f17cbc4c1133f25a20a52f   \n..                      ...                                         ...   \n74                    54736  0x0ab87046fbb341d058f17cbc4c1133f25a20a52f   \n75                    45283  0x0ab87046fbb341d058f17cbc4c1133f25a20a52f   \n76                    42913  0x0ab87046fbb341d058f17cbc4c1133f25a20a52f   \n77                       18  0x0ab87046fbb341d058f17cbc4c1133f25a20a52f   \n78                        0  0x0ab87046fbb341d058f17cbc4c1133f25a20a52f   \n\n           pairPerDays_pair_collateral_address  \\\n0   0x0ab87046fbb341d058f17cbc4c1133f25a20a52f   \n1   0x0ab87046fbb341d058f17cbc4c1133f25a20a52f   \n2   0x0ab87046fbb341d058f17cbc4c1133f25a20a52f   \n3   0x0ab87046fbb341d058f17cbc4c1133f25a20a52f   \n4   0x0ab87046fbb341d058f17cbc4c1133f25a20a52f   \n..                                         ...   \n74  0x0ab87046fbb341d058f17cbc4c1133f25a20a52f   \n75  0x0ab87046fbb341d058f17cbc4c1133f25a20a52f   \n76  0x0ab87046fbb341d058f17cbc4c1133f25a20a52f   \n77  0x0ab87046fbb341d058f17cbc4c1133f25a20a52f   \n78  0x0ab87046fbb341d058f17cbc4c1133f25a20a52f   \n\n    pairPerDays_pair_collateral_decimals pairPerDays_pair_collateral_name  \\\n0                                     18                   Governance OHM   \n1                                     18                   Governance OHM   \n2                                     18                   Governance OHM   \n3                                     18                   Governance OHM   \n4                                     18                   Governance OHM   \n..                                   ...                              ...   \n74                                    18                   Governance OHM   \n75                                    18                   Governance OHM   \n76                                    18                   Governance OHM   \n77                                    18                   Governance OHM   \n78                                    18                   Governance OHM   \n\n   pairPerDays_pair_collateral_symbol pairPerDays_pair_collateral_totalSupply  \\\n0                                gOHM                 71757394079134961624973   \n1                                gOHM                 71757394079134961624973   \n2                                gOHM                 71757394079134961624973   \n3                                gOHM                 71757394079134961624973   \n4                                gOHM                 71757394079134961624973   \n..                                ...                                     ...   \n74                               gOHM                 71757394079134961624973   \n75                               gOHM                 71757394079134961624973   \n76                               gOHM                 71757394079134961624973   \n77                               gOHM                 71757394079134961624973   \n78                               gOHM                 71757394079134961624973   \n\n    pairPerDays_pair_collateral_pairAssetCount  \\\n0                                            0   \n1                                            0   \n2                                            0   \n3                                            0   \n4                                            0   \n..                                         ...   \n74                                           0   \n75                                           0   \n76                                           0   \n77                                           0   \n78                                           0   \n\n    pairPerDays_pair_collateral_pairCollateralCount  \\\n0                                                 1   \n1                                                 1   \n2                                                 1   \n3                                                 1   \n4                                                 1   \n..                                              ...   \n74                                                1   \n75                                                1   \n76                                                1   \n77                                                1   \n78                                                1   \n\n               pairPerDays_totalCollateralValue  \\\n0   8403423075666293637915414368053297717111857   \n1   8403423075666293637915414368053297717111857   \n2   8343388959777369440672030013566457194160780   \n3   8074656854825809483692286131603213781297678   \n4   7725593430519191381171962996564285586737875   \n..                                          ...   \n74  4082343490859501384694338597284878133749520   \n75  3355760552996256498800322075345406432876996   \n76  3060333740445465616397882086195529805596420   \n77      256010668464971664736609702572019900241   \n78                                            0   \n\n          pairPerDays_totalAssetValue  \n0   469631799103375165432615200000000  \n1   469631799103375165432615200000000  \n2   467531536062129324318307600000000  \n3   521447875408495707724551200000000  \n4   521359330105363815236791200000000  \n..                                ...  \n74  300026579974906776955355200000000  \n75  300040741776283087084536000000000  \n76  300031641781023665749242900000000  \n77  100025001837425492421948800000000  \n78                                  0  \n\n[79 rows x 17 columns]",
      "text/html": "<div>\n<style scoped>\n    .dataframe tbody tr th:only-of-type {\n        vertical-align: middle;\n    }\n\n    .dataframe tbody tr th {\n        vertical-align: top;\n    }\n\n    .dataframe thead th {\n        text-align: right;\n    }\n</style>\n<table border=\"1\" class=\"dataframe\">\n  <thead>\n    <tr style=\"text-align: right;\">\n      <th></th>\n      <th>pairPerDays_id</th>\n      <th>pairPerDays_timestamp</th>\n      <th>pairPerDays_pair_address</th>\n      <th>pairPerDays_pair_symbol</th>\n      <th>pairPerDays_interestPerSecond</th>\n      <th>pairPerDays_totalBorrowValue</th>\n      <th>pairPerDays_utilization</th>\n      <th>pairPerDays_pair_collateral_id</th>\n      <th>pairPerDays_pair_collateral_address</th>\n      <th>pairPerDays_pair_collateral_decimals</th>\n      <th>pairPerDays_pair_collateral_name</th>\n      <th>pairPerDays_pair_collateral_symbol</th>\n      <th>pairPerDays_pair_collateral_totalSupply</th>\n      <th>pairPerDays_pair_collateral_pairAssetCount</th>\n      <th>pairPerDays_pair_collateral_pairCollateralCount</th>\n      <th>pairPerDays_totalCollateralValue</th>\n      <th>pairPerDays_totalAssetValue</th>\n    </tr>\n  </thead>\n  <tbody>\n    <tr>\n      <th>0</th>\n      <td>0x66bf36dba79d4606039f04b32946a260bcd3ff52-Recent</td>\n      <td>1676494787</td>\n      <td>0x66bf36dba79d4606039f04b32946a260bcd3ff52</td>\n      <td>fFRAX(gOHM)-11</td>\n      <td>2984304040</td>\n      <td>400116192946270617921986200000000</td>\n      <td>85197</td>\n      <td>0x0ab87046fbb341d058f17cbc4c1133f25a20a52f</td>\n      <td>0x0ab87046fbb341d058f17cbc4c1133f25a20a52f</td>\n      <td>18</td>\n      <td>Governance OHM</td>\n      <td>gOHM</td>\n      <td>71757394079134961624973</td>\n      <td>0</td>\n      <td>1</td>\n      <td>8403423075666293637915414368053297717111857</td>\n      <td>469631799103375165432615200000000</td>\n    </tr>\n    <tr>\n      <th>1</th>\n      <td>0x66bf36dba79d4606039f04b32946a260bcd3ff52-19403</td>\n      <td>1676494787</td>\n      <td>0x66bf36dba79d4606039f04b32946a260bcd3ff52</td>\n      <td>fFRAX(gOHM)-11</td>\n      <td>2984304040</td>\n      <td>400116192946270617921986200000000</td>\n      <td>85197</td>\n      <td>0x0ab87046fbb341d058f17cbc4c1133f25a20a52f</td>\n      <td>0x0ab87046fbb341d058f17cbc4c1133f25a20a52f</td>\n      <td>18</td>\n      <td>Governance OHM</td>\n      <td>gOHM</td>\n      <td>71757394079134961624973</td>\n      <td>0</td>\n      <td>1</td>\n      <td>8403423075666293637915414368053297717111857</td>\n      <td>469631799103375165432615200000000</td>\n    </tr>\n    <tr>\n      <th>2</th>\n      <td>0x66bf36dba79d4606039f04b32946a260bcd3ff52-19402</td>\n      <td>1676418959</td>\n      <td>0x66bf36dba79d4606039f04b32946a260bcd3ff52</td>\n      <td>fFRAX(gOHM)-11</td>\n      <td>3000793398</td>\n      <td>401030577997982608018279400000000</td>\n      <td>85776</td>\n      <td>0x0ab87046fbb341d058f17cbc4c1133f25a20a52f</td>\n      <td>0x0ab87046fbb341d058f17cbc4c1133f25a20a52f</td>\n      <td>18</td>\n      <td>Governance OHM</td>\n      <td>gOHM</td>\n      <td>71757394079134961624973</td>\n      <td>0</td>\n      <td>1</td>\n      <td>8343388959777369440672030013566457194160780</td>\n      <td>467531536062129324318307600000000</td>\n    </tr>\n    <tr>\n      <th>3</th>\n      <td>0x66bf36dba79d4606039f04b32946a260bcd3ff52-19401</td>\n      <td>1676332535</td>\n      <td>0x66bf36dba79d4606039f04b32946a260bcd3ff52</td>\n      <td>fFRAX(gOHM)-11</td>\n      <td>2655789209</td>\n      <td>393433850641671840122635700000000</td>\n      <td>75450</td>\n      <td>0x0ab87046fbb341d058f17cbc4c1133f25a20a52f</td>\n      <td>0x0ab87046fbb341d058f17cbc4c1133f25a20a52f</td>\n      <td>18</td>\n      <td>Governance OHM</td>\n      <td>gOHM</td>\n      <td>71757394079134961624973</td>\n      <td>0</td>\n      <td>1</td>\n      <td>8074656854825809483692286131603213781297678</td>\n      <td>521447875408495707724551200000000</td>\n    </tr>\n    <tr>\n      <th>4</th>\n      <td>0x66bf36dba79d4606039f04b32946a260bcd3ff52-19400</td>\n      <td>1676246147</td>\n      <td>0x66bf36dba79d4606039f04b32946a260bcd3ff52</td>\n      <td>fFRAX(gOHM)-11</td>\n      <td>2625172870</td>\n      <td>388538769723592668721207100000000</td>\n      <td>74524</td>\n      <td>0x0ab87046fbb341d058f17cbc4c1133f25a20a52f</td>\n      <td>0x0ab87046fbb341d058f17cbc4c1133f25a20a52f</td>\n      <td>18</td>\n      <td>Governance OHM</td>\n      <td>gOHM</td>\n      <td>71757394079134961624973</td>\n      <td>0</td>\n      <td>1</td>\n      <td>7725593430519191381171962996564285586737875</td>\n      <td>521359330105363815236791200000000</td>\n    </tr>\n    <tr>\n      <th>...</th>\n      <td>...</td>\n      <td>...</td>\n      <td>...</td>\n      <td>...</td>\n      <td>...</td>\n      <td>...</td>\n      <td>...</td>\n      <td>...</td>\n      <td>...</td>\n      <td>...</td>\n      <td>...</td>\n      <td>...</td>\n      <td>...</td>\n      <td>...</td>\n      <td>...</td>\n      <td>...</td>\n      <td>...</td>\n    </tr>\n    <tr>\n      <th>74</th>\n      <td>0x66bf36dba79d4606039f04b32946a260bcd3ff52-19330</td>\n      <td>1670198135</td>\n      <td>0x66bf36dba79d4606039f04b32946a260bcd3ff52</td>\n      <td>fFRAX(gOHM)-11</td>\n      <td>887806114</td>\n      <td>164224614112999780177884700000000</td>\n      <td>54736</td>\n      <td>0x0ab87046fbb341d058f17cbc4c1133f25a20a52f</td>\n      <td>0x0ab87046fbb341d058f17cbc4c1133f25a20a52f</td>\n      <td>18</td>\n      <td>Governance OHM</td>\n      <td>gOHM</td>\n      <td>71757394079134961624973</td>\n      <td>0</td>\n      <td>1</td>\n      <td>4082343490859501384694338597284878133749520</td>\n      <td>300026579974906776955355200000000</td>\n    </tr>\n    <tr>\n      <th>75</th>\n      <td>0x66bf36dba79d4606039f04b32946a260bcd3ff52-19329</td>\n      <td>1670111891</td>\n      <td>0x66bf36dba79d4606039f04b32946a260bcd3ff52</td>\n      <td>fFRAX(gOHM)-11</td>\n      <td>797470641</td>\n      <td>135868742062949858845517400000000</td>\n      <td>45283</td>\n      <td>0x0ab87046fbb341d058f17cbc4c1133f25a20a52f</td>\n      <td>0x0ab87046fbb341d058f17cbc4c1133f25a20a52f</td>\n      <td>18</td>\n      <td>Governance OHM</td>\n      <td>gOHM</td>\n      <td>71757394079134961624973</td>\n      <td>0</td>\n      <td>1</td>\n      <td>3355760552996256498800322075345406432876996</td>\n      <td>300040741776283087084536000000000</td>\n    </tr>\n    <tr>\n      <th>76</th>\n      <td>0x66bf36dba79d4606039f04b32946a260bcd3ff52-19328</td>\n      <td>1670025359</td>\n      <td>0x66bf36dba79d4606039f04b32946a260bcd3ff52</td>\n      <td>fFRAX(gOHM)-11</td>\n      <td>819794982</td>\n      <td>128753870536361513515734000000000</td>\n      <td>42913</td>\n      <td>0x0ab87046fbb341d058f17cbc4c1133f25a20a52f</td>\n      <td>0x0ab87046fbb341d058f17cbc4c1133f25a20a52f</td>\n      <td>18</td>\n      <td>Governance OHM</td>\n      <td>gOHM</td>\n      <td>71757394079134961624973</td>\n      <td>0</td>\n      <td>1</td>\n      <td>3060333740445465616397882086195529805596420</td>\n      <td>300031641781023665749242900000000</td>\n    </tr>\n    <tr>\n      <th>77</th>\n      <td>0x66bf36dba79d4606039f04b32946a260bcd3ff52-19327</td>\n      <td>1669938935</td>\n      <td>0x66bf36dba79d4606039f04b32946a260bcd3ff52</td>\n      <td>fFRAX(gOHM)-11</td>\n      <td>158550393</td>\n      <td>18212764207485974382800000000</td>\n      <td>18</td>\n      <td>0x0ab87046fbb341d058f17cbc4c1133f25a20a52f</td>\n      <td>0x0ab87046fbb341d058f17cbc4c1133f25a20a52f</td>\n      <td>18</td>\n      <td>Governance OHM</td>\n      <td>gOHM</td>\n      <td>71757394079134961624973</td>\n      <td>0</td>\n      <td>1</td>\n      <td>256010668464971664736609702572019900241</td>\n      <td>100025001837425492421948800000000</td>\n    </tr>\n    <tr>\n      <th>78</th>\n      <td>0x66bf36dba79d4606039f04b32946a260bcd3ff52-19326</td>\n      <td>1669852523</td>\n      <td>0x66bf36dba79d4606039f04b32946a260bcd3ff52</td>\n      <td>fFRAX(gOHM)-11</td>\n      <td>0</td>\n      <td>0</td>\n      <td>0</td>\n      <td>0x0ab87046fbb341d058f17cbc4c1133f25a20a52f</td>\n      <td>0x0ab87046fbb341d058f17cbc4c1133f25a20a52f</td>\n      <td>18</td>\n      <td>Governance OHM</td>\n      <td>gOHM</td>\n      <td>71757394079134961624973</td>\n      <td>0</td>\n      <td>1</td>\n      <td>0</td>\n      <td>0</td>\n    </tr>\n  </tbody>\n</table>\n<p>79 rows × 17 columns</p>\n</div>"
     },
     "execution_count": 262,
     "metadata": {},
     "output_type": "execute_result"
    }
   ],
   "source": [
    "fraxCollateralQuery = frax.Query.pairPerDays(\n",
    "     orderBy='id'\n",
    "    ,orderDirection='desc'\n",
    "    ,first=1000\n",
    "    #,skipValue = skipValue\n",
    "    #,where = [frax.Query.fraxCollateral.token.id == '0x66bf36dba79d4606039f04b32946a260bcd3ff52']\n",
    "    ,where={ 'pair': '0x66bf36dba79d4606039f04b32946a260bcd3ff52'\n",
    "             #,'timestamp_gte': maxBorrowFraxTimestamp\n",
    "             }\n",
    "\n",
    ")\n",
    "\n",
    "fraxCollateral= sg.query_df([\n",
    "    fraxCollateralQuery.id\n",
    "    ,fraxCollateralQuery.timestamp\n",
    "    ,fraxCollateralQuery.pair.address\n",
    "    ,fraxCollateralQuery.pair.symbol\n",
    "    ,fraxCollateralQuery.interestPerSecond #gotta convert that to APY\n",
    "    ,fraxCollateralQuery.totalBorrowValue #total borrowed\n",
    "    ,fraxCollateralQuery.utilization #these two give you asset available\n",
    "    ,fraxCollateralQuery.pair.siloCollateral\n",
    "    ,fraxCollateralQuery.totalCollateralValue\n",
    "    ,fraxCollateralQuery.totalAssetValue\n",
    "\n",
    "    ]\n",
    ")\n",
    "\n",
    "fraxCollateral.head(1000)"
   ],
   "metadata": {
    "collapsed": false
   }
  },
  {
   "cell_type": "code",
   "execution_count": 268,
   "outputs": [
    {
     "name": "stdout",
     "output_type": "stream",
     "text": [
      "There are 551836826645851149701865767669449099800090842 gOHM available to borrow\n"
     ]
    }
   ],
   "source": [
    "siloCollateral = sum(fraxCollateral['pairPerDays_totalCollateralValue'])\n",
    "print('There are',round(siloCollateral,2),  'gOHM available to borrow')"
   ],
   "metadata": {
    "collapsed": false
   }
  },
  {
   "cell_type": "markdown",
   "source": [
    "*******************************************************************************************\n",
    "*******************************************************************************************\n",
    "SILO"
   ],
   "metadata": {
    "collapsed": false
   }
  },
  {
   "cell_type": "code",
   "execution_count": null,
   "outputs": [],
   "source": [
    "#SILO subgraph: https://gateway.thegraph.com/api/[api-key]/subgraphs/id/6rcT2GzBXGoi3ZMus92LHajM2b9qWGj7Z3dDhPxoUogB\n",
    "silo = sg.load_api('https://gateway.thegraph.com/api/'+apiKey+'/subgraphs/id/6rcT2GzBXGoi3ZMus92LHajM2b9qWGj7Z3dDhPxoUogB')\n",
    "\n",
    "#OHM pair can be found at https://app.silo.finance/silo/0xf5ffabab8f9a6f4f6de1f0dd6e0820f68657d7db\n",
    "#GOHM pair at https://app.silo.finance/silo/0xc413dd03555f3eb29d834b482d386b2999dc2eb0 THIS THE ONE YOU WANT"
   ],
   "metadata": {
    "collapsed": false
   }
  },
  {
   "cell_type": "code",
   "execution_count": 242,
   "outputs": [
    {
     "data": {
      "text/plain": "Empty DataFrame\nColumns: []\nIndex: []",
      "text/html": "<div>\n<style scoped>\n    .dataframe tbody tr th:only-of-type {\n        vertical-align: middle;\n    }\n\n    .dataframe tbody tr th {\n        vertical-align: top;\n    }\n\n    .dataframe thead th {\n        text-align: right;\n    }\n</style>\n<table border=\"1\" class=\"dataframe\">\n  <thead>\n    <tr style=\"text-align: right;\">\n      <th></th>\n    </tr>\n  </thead>\n  <tbody>\n  </tbody>\n</table>\n</div>"
     },
     "execution_count": 242,
     "metadata": {},
     "output_type": "execute_result"
    }
   ],
   "source": [
    "oldDepositsDb = pd.DataFrame()\n",
    "siloFileName = file+'/siloFinance_deposits.csv'\n",
    "try:\n",
    "    oldDepositsDb = pd.read_csv (siloFileName)\n",
    "except:\n",
    "    oldDepositsDb = pd.DataFrame()\n",
    "oldDepositsDb.head(10)"
   ],
   "metadata": {
    "collapsed": false
   }
  },
  {
   "cell_type": "code",
   "execution_count": 243,
   "outputs": [
    {
     "data": {
      "text/plain": "0"
     },
     "execution_count": 243,
     "metadata": {},
     "output_type": "execute_result"
    }
   ],
   "source": [
    "maxSiloDepositTimestamp = 0\n",
    "try:\n",
    "    maxSiloDepositTimestamp = (max(0,oldDepositsDb['transaction_timestamp'].max()))-5\n",
    "except:\n",
    "        maxSiloDepositTimestamp = 0\n",
    "maxSiloDepositTimestamp = int(maxSiloDepositTimestamp)\n",
    "maxSiloDepositTimestamp"
   ],
   "metadata": {
    "collapsed": false
   }
  },
  {
   "cell_type": "code",
   "execution_count": 244,
   "outputs": [
    {
     "name": "stdout",
     "output_type": "stream",
     "text": [
      "iterations:  0 Lines skipped:  0 records collected:  186  - latest recordID:  0xe5163797f0922e4bded89126a213296a8c3d270a39e2fd0b29379195ff74e9cf   0xe5163797f0922e4bded89126a213296a8c3d270a39e2fd0b29379195ff74e9cf-254  - deposits DB length:  186  - latest record from:  2023-02-14 06:11:23 1 days ago\n",
      "Done. Total Records collected:  186\n"
     ]
    }
   ],
   "source": [
    "#this tracks the ENTIRE list of events for depositing gOHM for lending\n",
    "depositTicker = 0\n",
    "depositslist = pd.DataFrame()\n",
    "depositsDb = pd.DataFrame()\n",
    "depositListLength = 1000\n",
    "datediff = 0\n",
    "now=0\n",
    "daysAgo=0\n",
    "daysLimit = 45\n",
    "exit = False\n",
    "while exit==False:\n",
    "    skipValue = (depositTicker)*(1000)\n",
    "    deposits = silo.Query.deposits(\n",
    "        orderBy='timestamp',\n",
    "        orderDirection='desc',\n",
    "        first=1000,\n",
    "        skip = skipValue,\n",
    "        where=\n",
    "        { 'market': '0xc413dd03555f3eb29d834b482d386b2999dc2eb0'  #gOHM market\n",
    "                ,'timestamp_gt': maxSiloDepositTimestamp\n",
    "                ,'asset': '0x0ab87046fbb341d058f17cbc4c1133f25a20a52f'\n",
    "#            [ silo.Query.deposits.market == '0xc413dd03555f3eb29d834b482d386b2999dc2eb0'\n",
    "#             ,silo.Query.deposits.timestamp > maxSiloDepositTimestamp\n",
    "#             ,silo.Query.deposits.asset == '0x0ab87046fbb341d058f17cbc4c1133f25a20a52f']\n",
    "                }\n",
    "\n",
    "\n",
    "    )\n",
    "\n",
    "    depositslist = sg.query_df([\n",
    "        deposits.id\n",
    "        ,deposits.hash\n",
    "        ,deposits.blockNumber\n",
    "        ,deposits.timestamp\n",
    "        ,deposits.account.id\n",
    "        ,deposits.market.id\n",
    "        ,deposits.market.protocol.id\n",
    "        ,deposits.market.canUseAsCollateral\n",
    "        ,deposits.market.rates.rate\n",
    "        ,deposits.market.rates.duration\n",
    "        ,deposits.market.rates.side\n",
    "        ,deposits.market.rates.type\n",
    "        ,deposits.market.rates.token.id\n",
    "        ,deposits.asset.id\n",
    "        ,deposits.asset.name\n",
    "        ,deposits.asset.symbol\n",
    "        ,deposits.asset.decimals\n",
    "        ,deposits.asset.lastPriceUSD\n",
    "        ,deposits.amount\n",
    "        ,deposits.amountUSD\n",
    "        ,deposits.position.timestampClosed\n",
    "    ])\n",
    "\n",
    "    #depositslist.sort_values(by=['deposits_timestamp'])\n",
    "\n",
    "    depositsDb=pd.concat([depositsDb, depositslist])\n",
    "    recordTimestamp1 = depositsDb.iat[depositTicker,3]\n",
    "    recordTimestamp = dt.datetime.fromtimestamp( recordTimestamp1 )\n",
    "    now = (int(dt.datetime.utcnow().timestamp()))\n",
    "    datediff=abs(int(now) - recordTimestamp1)\n",
    "    daysAgo = int(datediff/86400)\n",
    "    depositsDbLength = len(depositsDb)\n",
    "    depositListLength = len(depositslist)\n",
    "    recordID = depositsDb.iat[depositTicker,0]\n",
    "    deposit = depositsDb.iat[depositTicker,1]\n",
    "    print(\"iterations: \", depositTicker, \"Lines skipped: \",skipValue, \"records collected: \", depositListLength, \" - latest recordID: \",deposit, \" \", recordID , \" - deposits DB length: \", depositsDbLength, \" - latest record from: \", recordTimestamp, daysAgo,\"days ago\")\n",
    "    #print(\"iterations: \", depositTicker, \"records collected: \", depositListLength, \" - userdb length: \", depositsDbLength)\n",
    "    depositTicker = depositTicker+1\n",
    "    if daysAgo>daysLimit: exit =True\n",
    "    if depositListLength<1000: exit =True\n",
    "\n",
    "#depositsDb.sort_values(by=['deposits_timestamp'])\n",
    "\n",
    "depositsDb.columns = depositsDb.columns.str.replace(\"deposits\", \"transaction\")\n",
    "depositsDb['event']='deposit'\n",
    "depositsDb.drop_duplicates\n",
    "print(\"Done. Total Records collected: \", depositsDbLength)"
   ],
   "metadata": {
    "collapsed": false
   }
  },
  {
   "cell_type": "code",
   "execution_count": 245,
   "outputs": [
    {
     "data": {
      "text/plain": "                                      transaction_id  transaction_blockNumber  \\\n0  0x204aee0831212791916d6ed3a2c24b5ac2a474743713...                 16589368   \n1  0x6921d4de2e5fd797205f66357da959b3e4922760d131...                 16589333   \n2  0x35d5e6734b990e7e7e6493344db464f86e9fe2318e7b...                 16579812   \n3  0x7811e7757339551966af37751af4b56c16a3e141d682...                 16366137   \n4  0x7c831909c84d8b801b25a2a939ec2a6d08e7155fac91...                 16176119   \n5  0x6c4f8bc5f49d55b317c6a9ed6d523a662df0c9b330a7...                 16170980   \n6  0x53d9eed3930a371dbd133a9260a3ad8d5e7d3c4e446a...                 16036013   \n7  0x816d41605087393280db2cf4083d1126a9b62542f79c...                 16036005   \n\n                       transaction_account_id  \\\n0  0xb0399dac8f4d4100b49b2a7b3873481114229d18   \n1  0xb0399dac8f4d4100b49b2a7b3873481114229d18   \n2  0x0493bcca897a2248ae3cd4c66aea90dbfc7e13c6   \n3  0x25fdda95197f804316f5ba8dbb66ac173ee19981   \n4  0x791d1ec51d931186c1d4b80e753b7155dd98f741   \n5  0xee1520f94f304e8d551cbf310fe214212e3ca34a   \n6  0xd3064611b24eba7a6dbcbc26c1b35dfee1170880   \n7  0xd3064611b24eba7a6dbcbc26c1b35dfee1170880   \n\n                        transaction_market_id  \\\n0  0xc413dd03555f3eb29d834b482d386b2999dc2eb0   \n1  0xc413dd03555f3eb29d834b482d386b2999dc2eb0   \n2  0xc413dd03555f3eb29d834b482d386b2999dc2eb0   \n3  0xc413dd03555f3eb29d834b482d386b2999dc2eb0   \n4  0xc413dd03555f3eb29d834b482d386b2999dc2eb0   \n5  0xc413dd03555f3eb29d834b482d386b2999dc2eb0   \n6  0xc413dd03555f3eb29d834b482d386b2999dc2eb0   \n7  0xc413dd03555f3eb29d834b482d386b2999dc2eb0   \n\n   transaction_market_canUseAsCollateral transaction_asset_symbol  \\\n0                                   True                     gOHM   \n1                                   True                     gOHM   \n2                                   True                     gOHM   \n3                                   True                     gOHM   \n4                                   True                     gOHM   \n5                                   True                     gOHM   \n6                                   True                     gOHM   \n7                                   True                     gOHM   \n\n   transaction_asset_decimals  transaction_asset_lastPriceUSD  \\\n0                          18                     2855.939479   \n1                          18                     2855.939479   \n2                          18                     2855.939479   \n3                          18                     2855.939479   \n4                          18                     2855.939479   \n5                          18                     2855.939479   \n6                          18                     2855.939479   \n7                          18                     2855.939479   \n\n   transaction_amount  naturalAmount  \\\n0        1.190000e+20     119.000000   \n1        1.000000e+18       1.000000   \n2        2.500000e+19      25.000000   \n3        2.252766e+18       2.252766   \n4        2.000000e+16       0.020000   \n5        2.000000e+19      20.000000   \n6        2.514000e+16       0.025140   \n7        1.431000e+17       0.143100   \n\n                                    transaction_hash            dateTime  \\\n0  0x204aee0831212791916d6ed3a2c24b5ac2a474743713... 2023-02-09 06:19:47   \n1  0x6921d4de2e5fd797205f66357da959b3e4922760d131... 2023-02-09 06:12:47   \n2  0x35d5e6734b990e7e7e6493344db464f86e9fe2318e7b... 2023-02-07 22:14:47   \n3  0x7811e7757339551966af37751af4b56c16a3e141d682... 2023-01-09 02:05:11   \n4  0x7c831909c84d8b801b25a2a939ec2a6d08e7155fac91... 2022-12-13 13:36:47   \n5  0x6c4f8bc5f49d55b317c6a9ed6d523a662df0c9b330a7... 2022-12-12 20:22:47   \n6  0x53d9eed3930a371dbd133a9260a3ad8d5e7d3c4e446a... 2022-11-23 23:39:11   \n7  0x816d41605087393280db2cf4083d1126a9b62542f79c... 2022-11-23 23:37:35   \n\n     calDate  \n0 2023-02-09  \n1 2023-02-09  \n2 2023-02-07  \n3 2023-01-09  \n4 2022-12-13  \n5 2022-12-12  \n6 2022-11-23  \n7 2022-11-23  ",
      "text/html": "<div>\n<style scoped>\n    .dataframe tbody tr th:only-of-type {\n        vertical-align: middle;\n    }\n\n    .dataframe tbody tr th {\n        vertical-align: top;\n    }\n\n    .dataframe thead th {\n        text-align: right;\n    }\n</style>\n<table border=\"1\" class=\"dataframe\">\n  <thead>\n    <tr style=\"text-align: right;\">\n      <th></th>\n      <th>transaction_id</th>\n      <th>transaction_blockNumber</th>\n      <th>transaction_account_id</th>\n      <th>transaction_market_id</th>\n      <th>transaction_market_canUseAsCollateral</th>\n      <th>transaction_asset_symbol</th>\n      <th>transaction_asset_decimals</th>\n      <th>transaction_asset_lastPriceUSD</th>\n      <th>transaction_amount</th>\n      <th>naturalAmount</th>\n      <th>transaction_hash</th>\n      <th>dateTime</th>\n      <th>calDate</th>\n    </tr>\n  </thead>\n  <tbody>\n    <tr>\n      <th>0</th>\n      <td>0x204aee0831212791916d6ed3a2c24b5ac2a474743713...</td>\n      <td>16589368</td>\n      <td>0xb0399dac8f4d4100b49b2a7b3873481114229d18</td>\n      <td>0xc413dd03555f3eb29d834b482d386b2999dc2eb0</td>\n      <td>True</td>\n      <td>gOHM</td>\n      <td>18</td>\n      <td>2855.939479</td>\n      <td>1.190000e+20</td>\n      <td>119.000000</td>\n      <td>0x204aee0831212791916d6ed3a2c24b5ac2a474743713...</td>\n      <td>2023-02-09 06:19:47</td>\n      <td>2023-02-09</td>\n    </tr>\n    <tr>\n      <th>1</th>\n      <td>0x6921d4de2e5fd797205f66357da959b3e4922760d131...</td>\n      <td>16589333</td>\n      <td>0xb0399dac8f4d4100b49b2a7b3873481114229d18</td>\n      <td>0xc413dd03555f3eb29d834b482d386b2999dc2eb0</td>\n      <td>True</td>\n      <td>gOHM</td>\n      <td>18</td>\n      <td>2855.939479</td>\n      <td>1.000000e+18</td>\n      <td>1.000000</td>\n      <td>0x6921d4de2e5fd797205f66357da959b3e4922760d131...</td>\n      <td>2023-02-09 06:12:47</td>\n      <td>2023-02-09</td>\n    </tr>\n    <tr>\n      <th>2</th>\n      <td>0x35d5e6734b990e7e7e6493344db464f86e9fe2318e7b...</td>\n      <td>16579812</td>\n      <td>0x0493bcca897a2248ae3cd4c66aea90dbfc7e13c6</td>\n      <td>0xc413dd03555f3eb29d834b482d386b2999dc2eb0</td>\n      <td>True</td>\n      <td>gOHM</td>\n      <td>18</td>\n      <td>2855.939479</td>\n      <td>2.500000e+19</td>\n      <td>25.000000</td>\n      <td>0x35d5e6734b990e7e7e6493344db464f86e9fe2318e7b...</td>\n      <td>2023-02-07 22:14:47</td>\n      <td>2023-02-07</td>\n    </tr>\n    <tr>\n      <th>3</th>\n      <td>0x7811e7757339551966af37751af4b56c16a3e141d682...</td>\n      <td>16366137</td>\n      <td>0x25fdda95197f804316f5ba8dbb66ac173ee19981</td>\n      <td>0xc413dd03555f3eb29d834b482d386b2999dc2eb0</td>\n      <td>True</td>\n      <td>gOHM</td>\n      <td>18</td>\n      <td>2855.939479</td>\n      <td>2.252766e+18</td>\n      <td>2.252766</td>\n      <td>0x7811e7757339551966af37751af4b56c16a3e141d682...</td>\n      <td>2023-01-09 02:05:11</td>\n      <td>2023-01-09</td>\n    </tr>\n    <tr>\n      <th>4</th>\n      <td>0x7c831909c84d8b801b25a2a939ec2a6d08e7155fac91...</td>\n      <td>16176119</td>\n      <td>0x791d1ec51d931186c1d4b80e753b7155dd98f741</td>\n      <td>0xc413dd03555f3eb29d834b482d386b2999dc2eb0</td>\n      <td>True</td>\n      <td>gOHM</td>\n      <td>18</td>\n      <td>2855.939479</td>\n      <td>2.000000e+16</td>\n      <td>0.020000</td>\n      <td>0x7c831909c84d8b801b25a2a939ec2a6d08e7155fac91...</td>\n      <td>2022-12-13 13:36:47</td>\n      <td>2022-12-13</td>\n    </tr>\n    <tr>\n      <th>5</th>\n      <td>0x6c4f8bc5f49d55b317c6a9ed6d523a662df0c9b330a7...</td>\n      <td>16170980</td>\n      <td>0xee1520f94f304e8d551cbf310fe214212e3ca34a</td>\n      <td>0xc413dd03555f3eb29d834b482d386b2999dc2eb0</td>\n      <td>True</td>\n      <td>gOHM</td>\n      <td>18</td>\n      <td>2855.939479</td>\n      <td>2.000000e+19</td>\n      <td>20.000000</td>\n      <td>0x6c4f8bc5f49d55b317c6a9ed6d523a662df0c9b330a7...</td>\n      <td>2022-12-12 20:22:47</td>\n      <td>2022-12-12</td>\n    </tr>\n    <tr>\n      <th>6</th>\n      <td>0x53d9eed3930a371dbd133a9260a3ad8d5e7d3c4e446a...</td>\n      <td>16036013</td>\n      <td>0xd3064611b24eba7a6dbcbc26c1b35dfee1170880</td>\n      <td>0xc413dd03555f3eb29d834b482d386b2999dc2eb0</td>\n      <td>True</td>\n      <td>gOHM</td>\n      <td>18</td>\n      <td>2855.939479</td>\n      <td>2.514000e+16</td>\n      <td>0.025140</td>\n      <td>0x53d9eed3930a371dbd133a9260a3ad8d5e7d3c4e446a...</td>\n      <td>2022-11-23 23:39:11</td>\n      <td>2022-11-23</td>\n    </tr>\n    <tr>\n      <th>7</th>\n      <td>0x816d41605087393280db2cf4083d1126a9b62542f79c...</td>\n      <td>16036005</td>\n      <td>0xd3064611b24eba7a6dbcbc26c1b35dfee1170880</td>\n      <td>0xc413dd03555f3eb29d834b482d386b2999dc2eb0</td>\n      <td>True</td>\n      <td>gOHM</td>\n      <td>18</td>\n      <td>2855.939479</td>\n      <td>1.431000e+17</td>\n      <td>0.143100</td>\n      <td>0x816d41605087393280db2cf4083d1126a9b62542f79c...</td>\n      <td>2022-11-23 23:37:35</td>\n      <td>2022-11-23</td>\n    </tr>\n  </tbody>\n</table>\n</div>"
     },
     "execution_count": 245,
     "metadata": {},
     "output_type": "execute_result"
    }
   ],
   "source": [
    "#I swear I will figure out synthetic fields, but until then...\n",
    "depositsDbTimed = db.query(\"select distinct\"\n",
    "               \"            transaction_id \"\n",
    "                           \" ,transaction_blockNumber \"\n",
    "                           \",transaction_account_id \"\n",
    "                           \",transaction_market_id \"\n",
    "                           \", transaction_market_canUseAsCollateral \"\n",
    "                           \", transaction_asset_symbol \"\n",
    "                           \",transaction_asset_decimals\"\n",
    "                           \",transaction_asset_lastPriceUSD \"\n",
    "                           \",transaction_amount \"\n",
    "                           \",transaction_amount*10^(-transaction_asset_decimals) naturalAmount\"\n",
    "                           \" ,transaction_hash \"\n",
    "                    \"        ,to_timestamp(transaction_timestamp::int) dateTime \"\n",
    "                    \"        ,date_trunc('day',to_timestamp(transaction_timestamp::int)) calDate \"\n",
    "               \"From depositsDb \"\n",
    "               \"where transaction_position_timestampClosed::bigint>0\"\n",
    "               #\" limit 100 \"\n",
    "               ).df()\n",
    "depositsDbTimed.head(1000)"
   ],
   "metadata": {
    "collapsed": false
   }
  },
  {
   "cell_type": "code",
   "execution_count": 246,
   "outputs": [
    {
     "data": {
      "text/plain": "                                      transaction_id  transaction_blockNumber  \\\n0  0x204aee0831212791916d6ed3a2c24b5ac2a474743713...                 16589368   \n1  0x6921d4de2e5fd797205f66357da959b3e4922760d131...                 16589333   \n2  0x35d5e6734b990e7e7e6493344db464f86e9fe2318e7b...                 16579812   \n3  0x7811e7757339551966af37751af4b56c16a3e141d682...                 16366137   \n4  0x7c831909c84d8b801b25a2a939ec2a6d08e7155fac91...                 16176119   \n5  0x6c4f8bc5f49d55b317c6a9ed6d523a662df0c9b330a7...                 16170980   \n6  0x53d9eed3930a371dbd133a9260a3ad8d5e7d3c4e446a...                 16036013   \n7  0x816d41605087393280db2cf4083d1126a9b62542f79c...                 16036005   \n\n                       transaction_account_id  \\\n0  0xb0399dac8f4d4100b49b2a7b3873481114229d18   \n1  0xb0399dac8f4d4100b49b2a7b3873481114229d18   \n2  0x0493bcca897a2248ae3cd4c66aea90dbfc7e13c6   \n3  0x25fdda95197f804316f5ba8dbb66ac173ee19981   \n4  0x791d1ec51d931186c1d4b80e753b7155dd98f741   \n5  0xee1520f94f304e8d551cbf310fe214212e3ca34a   \n6  0xd3064611b24eba7a6dbcbc26c1b35dfee1170880   \n7  0xd3064611b24eba7a6dbcbc26c1b35dfee1170880   \n\n                        transaction_market_id  \\\n0  0xc413dd03555f3eb29d834b482d386b2999dc2eb0   \n1  0xc413dd03555f3eb29d834b482d386b2999dc2eb0   \n2  0xc413dd03555f3eb29d834b482d386b2999dc2eb0   \n3  0xc413dd03555f3eb29d834b482d386b2999dc2eb0   \n4  0xc413dd03555f3eb29d834b482d386b2999dc2eb0   \n5  0xc413dd03555f3eb29d834b482d386b2999dc2eb0   \n6  0xc413dd03555f3eb29d834b482d386b2999dc2eb0   \n7  0xc413dd03555f3eb29d834b482d386b2999dc2eb0   \n\n   transaction_market_canUseAsCollateral transaction_asset_symbol  \\\n0                                   True                     gOHM   \n1                                   True                     gOHM   \n2                                   True                     gOHM   \n3                                   True                     gOHM   \n4                                   True                     gOHM   \n5                                   True                     gOHM   \n6                                   True                     gOHM   \n7                                   True                     gOHM   \n\n   transaction_asset_decimals  transaction_asset_lastPriceUSD  \\\n0                          18                     2855.939479   \n1                          18                     2855.939479   \n2                          18                     2855.939479   \n3                          18                     2855.939479   \n4                          18                     2855.939479   \n5                          18                     2855.939479   \n6                          18                     2855.939479   \n7                          18                     2855.939479   \n\n   transaction_amount  naturalAmount  \\\n0        1.190000e+20     119.000000   \n1        1.000000e+18       1.000000   \n2        2.500000e+19      25.000000   \n3        2.252766e+18       2.252766   \n4        2.000000e+16       0.020000   \n5        2.000000e+19      20.000000   \n6        2.514000e+16       0.025140   \n7        1.431000e+17       0.143100   \n\n                                    transaction_hash            dateTime  \\\n0  0x204aee0831212791916d6ed3a2c24b5ac2a474743713... 2023-02-09 06:19:47   \n1  0x6921d4de2e5fd797205f66357da959b3e4922760d131... 2023-02-09 06:12:47   \n2  0x35d5e6734b990e7e7e6493344db464f86e9fe2318e7b... 2023-02-07 22:14:47   \n3  0x7811e7757339551966af37751af4b56c16a3e141d682... 2023-01-09 02:05:11   \n4  0x7c831909c84d8b801b25a2a939ec2a6d08e7155fac91... 2022-12-13 13:36:47   \n5  0x6c4f8bc5f49d55b317c6a9ed6d523a662df0c9b330a7... 2022-12-12 20:22:47   \n6  0x53d9eed3930a371dbd133a9260a3ad8d5e7d3c4e446a... 2022-11-23 23:39:11   \n7  0x816d41605087393280db2cf4083d1126a9b62542f79c... 2022-11-23 23:37:35   \n\n     calDate  \n0 2023-02-09  \n1 2023-02-09  \n2 2023-02-07  \n3 2023-01-09  \n4 2022-12-13  \n5 2022-12-12  \n6 2022-11-23  \n7 2022-11-23  ",
      "text/html": "<div>\n<style scoped>\n    .dataframe tbody tr th:only-of-type {\n        vertical-align: middle;\n    }\n\n    .dataframe tbody tr th {\n        vertical-align: top;\n    }\n\n    .dataframe thead th {\n        text-align: right;\n    }\n</style>\n<table border=\"1\" class=\"dataframe\">\n  <thead>\n    <tr style=\"text-align: right;\">\n      <th></th>\n      <th>transaction_id</th>\n      <th>transaction_blockNumber</th>\n      <th>transaction_account_id</th>\n      <th>transaction_market_id</th>\n      <th>transaction_market_canUseAsCollateral</th>\n      <th>transaction_asset_symbol</th>\n      <th>transaction_asset_decimals</th>\n      <th>transaction_asset_lastPriceUSD</th>\n      <th>transaction_amount</th>\n      <th>naturalAmount</th>\n      <th>transaction_hash</th>\n      <th>dateTime</th>\n      <th>calDate</th>\n    </tr>\n  </thead>\n  <tbody>\n    <tr>\n      <th>0</th>\n      <td>0x204aee0831212791916d6ed3a2c24b5ac2a474743713...</td>\n      <td>16589368</td>\n      <td>0xb0399dac8f4d4100b49b2a7b3873481114229d18</td>\n      <td>0xc413dd03555f3eb29d834b482d386b2999dc2eb0</td>\n      <td>True</td>\n      <td>gOHM</td>\n      <td>18</td>\n      <td>2855.939479</td>\n      <td>1.190000e+20</td>\n      <td>119.000000</td>\n      <td>0x204aee0831212791916d6ed3a2c24b5ac2a474743713...</td>\n      <td>2023-02-09 06:19:47</td>\n      <td>2023-02-09</td>\n    </tr>\n    <tr>\n      <th>1</th>\n      <td>0x6921d4de2e5fd797205f66357da959b3e4922760d131...</td>\n      <td>16589333</td>\n      <td>0xb0399dac8f4d4100b49b2a7b3873481114229d18</td>\n      <td>0xc413dd03555f3eb29d834b482d386b2999dc2eb0</td>\n      <td>True</td>\n      <td>gOHM</td>\n      <td>18</td>\n      <td>2855.939479</td>\n      <td>1.000000e+18</td>\n      <td>1.000000</td>\n      <td>0x6921d4de2e5fd797205f66357da959b3e4922760d131...</td>\n      <td>2023-02-09 06:12:47</td>\n      <td>2023-02-09</td>\n    </tr>\n    <tr>\n      <th>2</th>\n      <td>0x35d5e6734b990e7e7e6493344db464f86e9fe2318e7b...</td>\n      <td>16579812</td>\n      <td>0x0493bcca897a2248ae3cd4c66aea90dbfc7e13c6</td>\n      <td>0xc413dd03555f3eb29d834b482d386b2999dc2eb0</td>\n      <td>True</td>\n      <td>gOHM</td>\n      <td>18</td>\n      <td>2855.939479</td>\n      <td>2.500000e+19</td>\n      <td>25.000000</td>\n      <td>0x35d5e6734b990e7e7e6493344db464f86e9fe2318e7b...</td>\n      <td>2023-02-07 22:14:47</td>\n      <td>2023-02-07</td>\n    </tr>\n    <tr>\n      <th>3</th>\n      <td>0x7811e7757339551966af37751af4b56c16a3e141d682...</td>\n      <td>16366137</td>\n      <td>0x25fdda95197f804316f5ba8dbb66ac173ee19981</td>\n      <td>0xc413dd03555f3eb29d834b482d386b2999dc2eb0</td>\n      <td>True</td>\n      <td>gOHM</td>\n      <td>18</td>\n      <td>2855.939479</td>\n      <td>2.252766e+18</td>\n      <td>2.252766</td>\n      <td>0x7811e7757339551966af37751af4b56c16a3e141d682...</td>\n      <td>2023-01-09 02:05:11</td>\n      <td>2023-01-09</td>\n    </tr>\n    <tr>\n      <th>4</th>\n      <td>0x7c831909c84d8b801b25a2a939ec2a6d08e7155fac91...</td>\n      <td>16176119</td>\n      <td>0x791d1ec51d931186c1d4b80e753b7155dd98f741</td>\n      <td>0xc413dd03555f3eb29d834b482d386b2999dc2eb0</td>\n      <td>True</td>\n      <td>gOHM</td>\n      <td>18</td>\n      <td>2855.939479</td>\n      <td>2.000000e+16</td>\n      <td>0.020000</td>\n      <td>0x7c831909c84d8b801b25a2a939ec2a6d08e7155fac91...</td>\n      <td>2022-12-13 13:36:47</td>\n      <td>2022-12-13</td>\n    </tr>\n    <tr>\n      <th>5</th>\n      <td>0x6c4f8bc5f49d55b317c6a9ed6d523a662df0c9b330a7...</td>\n      <td>16170980</td>\n      <td>0xee1520f94f304e8d551cbf310fe214212e3ca34a</td>\n      <td>0xc413dd03555f3eb29d834b482d386b2999dc2eb0</td>\n      <td>True</td>\n      <td>gOHM</td>\n      <td>18</td>\n      <td>2855.939479</td>\n      <td>2.000000e+19</td>\n      <td>20.000000</td>\n      <td>0x6c4f8bc5f49d55b317c6a9ed6d523a662df0c9b330a7...</td>\n      <td>2022-12-12 20:22:47</td>\n      <td>2022-12-12</td>\n    </tr>\n    <tr>\n      <th>6</th>\n      <td>0x53d9eed3930a371dbd133a9260a3ad8d5e7d3c4e446a...</td>\n      <td>16036013</td>\n      <td>0xd3064611b24eba7a6dbcbc26c1b35dfee1170880</td>\n      <td>0xc413dd03555f3eb29d834b482d386b2999dc2eb0</td>\n      <td>True</td>\n      <td>gOHM</td>\n      <td>18</td>\n      <td>2855.939479</td>\n      <td>2.514000e+16</td>\n      <td>0.025140</td>\n      <td>0x53d9eed3930a371dbd133a9260a3ad8d5e7d3c4e446a...</td>\n      <td>2022-11-23 23:39:11</td>\n      <td>2022-11-23</td>\n    </tr>\n    <tr>\n      <th>7</th>\n      <td>0x816d41605087393280db2cf4083d1126a9b62542f79c...</td>\n      <td>16036005</td>\n      <td>0xd3064611b24eba7a6dbcbc26c1b35dfee1170880</td>\n      <td>0xc413dd03555f3eb29d834b482d386b2999dc2eb0</td>\n      <td>True</td>\n      <td>gOHM</td>\n      <td>18</td>\n      <td>2855.939479</td>\n      <td>1.431000e+17</td>\n      <td>0.143100</td>\n      <td>0x816d41605087393280db2cf4083d1126a9b62542f79c...</td>\n      <td>2022-11-23 23:37:35</td>\n      <td>2022-11-23</td>\n    </tr>\n  </tbody>\n</table>\n</div>"
     },
     "execution_count": 246,
     "metadata": {},
     "output_type": "execute_result"
    }
   ],
   "source": [
    "depositsDbTimed=pd.concat([depositsDbTimed,oldDepositsDb])\n",
    "depositsDbTimed.drop_duplicates(keep='first' )\n",
    "depositsDbTimed.head(100)"
   ],
   "metadata": {
    "collapsed": false
   }
  },
  {
   "cell_type": "code",
   "execution_count": 247,
   "outputs": [
    {
     "name": "stdout",
     "output_type": "stream",
     "text": [
      "/Users/ianbrillembourg/Dropbox/Documents/Edgecaser LLC/Projects/Olympus/Econohmetrics/Lending/results/Collateral/siloFinance_deposits_piped.csv file saved, 8  records\n"
     ]
    }
   ],
   "source": [
    "path =file+'/siloFinance_deposits.csv'\n",
    "depositsDbTimed.to_csv(path, index = False)\n",
    "\n",
    "path =file+'/siloFinance_deposits_piped.csv'\n",
    "depositsDbTimed.to_csv(path, index = False, sep='|')\n",
    "\n",
    "print(path, 'file saved,', len(depositsDbTimed),' records')"
   ],
   "metadata": {
    "collapsed": false
   }
  },
  {
   "cell_type": "code",
   "execution_count": 248,
   "outputs": [
    {
     "name": "stdout",
     "output_type": "stream",
     "text": [
      "There are 167.44 gOHM available to borrow\n"
     ]
    }
   ],
   "source": [
    "collateral = sum(depositsDbTimed['naturalAmount'])\n",
    "print('There are',round(collateral,2),  'gOHM available to borrow')"
   ],
   "metadata": {
    "collapsed": false
   }
  },
  {
   "cell_type": "code",
   "execution_count": 251,
   "outputs": [
    {
     "data": {
      "text/plain": "calDate\n2022-11-23      0.168240\n2022-12-12     20.000000\n2022-12-13      0.020000\n2023-01-09      2.252766\n2023-02-07     25.000000\n2023-02-09    120.000000\nName: naturalAmount, dtype: float64"
     },
     "execution_count": 251,
     "metadata": {},
     "output_type": "execute_result"
    }
   ],
   "source": [
    "dailySiloCollateral = depositsDbTimed.groupby('calDate')['naturalAmount'].sum()\n",
    "dailySiloCollateral.head(100)"
   ],
   "metadata": {
    "collapsed": false
   }
  },
  {
   "cell_type": "code",
   "execution_count": 252,
   "outputs": [
    {
     "data": {
      "text/plain": "                                      transaction_id  transaction_blockNumber  \\\n0  0xf4707edc29622f90030af624d1918ff5ae613cef90d8...                 16635032   \n1  0x85b689883076aa92af0a2356f8e4084610578bb48590...                 16634844   \n2  0xd931b79cfc34df088f325e8adde9122af7ad64a0ba30...                 16628161   \n3  0xed87a5e09b9abe135be66d51493eca516d78aaf1d4d5...                 16589407   \n4  0xcfa1e8a102e407470f7cc479576cceab5f872c1a1377...                 16574012   \n5  0xb8682e4d0d5fe1297f21ff66347debdfc75c3956612d...                 16483146   \n6  0xcc9db9a7563b473c4b8e4ca0f4f7fb90ca709b022469...                 16366146   \n7  0x3cf3a5658c3ef1a247ec241370a3abfeb673251eafec...                 16176122   \n\n                       transaction_account_id  \\\n0  0x0493bcca897a2248ae3cd4c66aea90dbfc7e13c6   \n1  0xb0399dac8f4d4100b49b2a7b3873481114229d18   \n2  0xb0399dac8f4d4100b49b2a7b3873481114229d18   \n3  0xb0399dac8f4d4100b49b2a7b3873481114229d18   \n4  0xd3064611b24eba7a6dbcbc26c1b35dfee1170880   \n5  0xee1520f94f304e8d551cbf310fe214212e3ca34a   \n6  0x25fdda95197f804316f5ba8dbb66ac173ee19981   \n7  0x791d1ec51d931186c1d4b80e753b7155dd98f741   \n\n                        transaction_market_id  \\\n0  0xc413dd03555f3eb29d834b482d386b2999dc2eb0   \n1  0xc413dd03555f3eb29d834b482d386b2999dc2eb0   \n2  0xc413dd03555f3eb29d834b482d386b2999dc2eb0   \n3  0xc413dd03555f3eb29d834b482d386b2999dc2eb0   \n4  0xc413dd03555f3eb29d834b482d386b2999dc2eb0   \n5  0xc413dd03555f3eb29d834b482d386b2999dc2eb0   \n6  0xc413dd03555f3eb29d834b482d386b2999dc2eb0   \n7  0xc413dd03555f3eb29d834b482d386b2999dc2eb0   \n\n   transaction_market_canUseAsCollateral transaction_asset_symbol  \\\n0                                   True                     gOHM   \n1                                   True                     gOHM   \n2                                   True                     gOHM   \n3                                   True                     gOHM   \n4                                   True                     gOHM   \n5                                   True                     gOHM   \n6                                   True                     gOHM   \n7                                   True                     gOHM   \n\n   transaction_asset_decimals  transaction_asset_lastPriceUSD  \\\n0                          18                     2855.939479   \n1                          18                     2855.939479   \n2                          18                     2855.939479   \n3                          18                     2855.939479   \n4                          18                     2855.939479   \n5                          18                     2855.939479   \n6                          18                     2855.939479   \n7                          18                     2855.939479   \n\n   transaction_amount  naturalAmount  \\\n0        2.500004e+19      25.000039   \n1        6.439304e+19      64.393035   \n2        3.600000e+19      36.000000   \n3        1.960712e+19      19.607121   \n4        1.947982e+17       0.194798   \n5        2.000000e+19      20.000000   \n6        2.252766e+18       2.252766   \n7        2.000000e+16       0.020000   \n\n                                    transaction_hash             dateTime  \\\n0  0xf4707edc29622f90030af624d1918ff5ae613cef90d8...  2023-02-15 15:27:47   \n1  0x85b689883076aa92af0a2356f8e4084610578bb48590...  2023-02-15 14:49:59   \n2  0xd931b79cfc34df088f325e8adde9122af7ad64a0ba30...  2023-02-14 16:23:59   \n3  0xed87a5e09b9abe135be66d51493eca516d78aaf1d4d5...  2023-02-09 06:27:35   \n4  0xcfa1e8a102e407470f7cc479576cceab5f872c1a1377...  2023-02-07 02:45:47   \n5  0xb8682e4d0d5fe1297f21ff66347debdfc75c3956612d...  2023-01-25 10:09:35   \n6  0xcc9db9a7563b473c4b8e4ca0f4f7fb90ca709b022469...  2023-01-09 02:06:59   \n7  0x3cf3a5658c3ef1a247ec241370a3abfeb673251eafec...  2022-12-13 13:37:23   \n\n      calDate  \n0  2023-02-15  \n1  2023-02-15  \n2  2023-02-14  \n3  2023-02-09  \n4  2023-02-07  \n5  2023-01-25  \n6  2023-01-09  \n7  2022-12-13  ",
      "text/html": "<div>\n<style scoped>\n    .dataframe tbody tr th:only-of-type {\n        vertical-align: middle;\n    }\n\n    .dataframe tbody tr th {\n        vertical-align: top;\n    }\n\n    .dataframe thead th {\n        text-align: right;\n    }\n</style>\n<table border=\"1\" class=\"dataframe\">\n  <thead>\n    <tr style=\"text-align: right;\">\n      <th></th>\n      <th>transaction_id</th>\n      <th>transaction_blockNumber</th>\n      <th>transaction_account_id</th>\n      <th>transaction_market_id</th>\n      <th>transaction_market_canUseAsCollateral</th>\n      <th>transaction_asset_symbol</th>\n      <th>transaction_asset_decimals</th>\n      <th>transaction_asset_lastPriceUSD</th>\n      <th>transaction_amount</th>\n      <th>naturalAmount</th>\n      <th>transaction_hash</th>\n      <th>dateTime</th>\n      <th>calDate</th>\n    </tr>\n  </thead>\n  <tbody>\n    <tr>\n      <th>0</th>\n      <td>0xf4707edc29622f90030af624d1918ff5ae613cef90d8...</td>\n      <td>16635032</td>\n      <td>0x0493bcca897a2248ae3cd4c66aea90dbfc7e13c6</td>\n      <td>0xc413dd03555f3eb29d834b482d386b2999dc2eb0</td>\n      <td>True</td>\n      <td>gOHM</td>\n      <td>18</td>\n      <td>2855.939479</td>\n      <td>2.500004e+19</td>\n      <td>25.000039</td>\n      <td>0xf4707edc29622f90030af624d1918ff5ae613cef90d8...</td>\n      <td>2023-02-15 15:27:47</td>\n      <td>2023-02-15</td>\n    </tr>\n    <tr>\n      <th>1</th>\n      <td>0x85b689883076aa92af0a2356f8e4084610578bb48590...</td>\n      <td>16634844</td>\n      <td>0xb0399dac8f4d4100b49b2a7b3873481114229d18</td>\n      <td>0xc413dd03555f3eb29d834b482d386b2999dc2eb0</td>\n      <td>True</td>\n      <td>gOHM</td>\n      <td>18</td>\n      <td>2855.939479</td>\n      <td>6.439304e+19</td>\n      <td>64.393035</td>\n      <td>0x85b689883076aa92af0a2356f8e4084610578bb48590...</td>\n      <td>2023-02-15 14:49:59</td>\n      <td>2023-02-15</td>\n    </tr>\n    <tr>\n      <th>2</th>\n      <td>0xd931b79cfc34df088f325e8adde9122af7ad64a0ba30...</td>\n      <td>16628161</td>\n      <td>0xb0399dac8f4d4100b49b2a7b3873481114229d18</td>\n      <td>0xc413dd03555f3eb29d834b482d386b2999dc2eb0</td>\n      <td>True</td>\n      <td>gOHM</td>\n      <td>18</td>\n      <td>2855.939479</td>\n      <td>3.600000e+19</td>\n      <td>36.000000</td>\n      <td>0xd931b79cfc34df088f325e8adde9122af7ad64a0ba30...</td>\n      <td>2023-02-14 16:23:59</td>\n      <td>2023-02-14</td>\n    </tr>\n    <tr>\n      <th>3</th>\n      <td>0xed87a5e09b9abe135be66d51493eca516d78aaf1d4d5...</td>\n      <td>16589407</td>\n      <td>0xb0399dac8f4d4100b49b2a7b3873481114229d18</td>\n      <td>0xc413dd03555f3eb29d834b482d386b2999dc2eb0</td>\n      <td>True</td>\n      <td>gOHM</td>\n      <td>18</td>\n      <td>2855.939479</td>\n      <td>1.960712e+19</td>\n      <td>19.607121</td>\n      <td>0xed87a5e09b9abe135be66d51493eca516d78aaf1d4d5...</td>\n      <td>2023-02-09 06:27:35</td>\n      <td>2023-02-09</td>\n    </tr>\n    <tr>\n      <th>4</th>\n      <td>0xcfa1e8a102e407470f7cc479576cceab5f872c1a1377...</td>\n      <td>16574012</td>\n      <td>0xd3064611b24eba7a6dbcbc26c1b35dfee1170880</td>\n      <td>0xc413dd03555f3eb29d834b482d386b2999dc2eb0</td>\n      <td>True</td>\n      <td>gOHM</td>\n      <td>18</td>\n      <td>2855.939479</td>\n      <td>1.947982e+17</td>\n      <td>0.194798</td>\n      <td>0xcfa1e8a102e407470f7cc479576cceab5f872c1a1377...</td>\n      <td>2023-02-07 02:45:47</td>\n      <td>2023-02-07</td>\n    </tr>\n    <tr>\n      <th>5</th>\n      <td>0xb8682e4d0d5fe1297f21ff66347debdfc75c3956612d...</td>\n      <td>16483146</td>\n      <td>0xee1520f94f304e8d551cbf310fe214212e3ca34a</td>\n      <td>0xc413dd03555f3eb29d834b482d386b2999dc2eb0</td>\n      <td>True</td>\n      <td>gOHM</td>\n      <td>18</td>\n      <td>2855.939479</td>\n      <td>2.000000e+19</td>\n      <td>20.000000</td>\n      <td>0xb8682e4d0d5fe1297f21ff66347debdfc75c3956612d...</td>\n      <td>2023-01-25 10:09:35</td>\n      <td>2023-01-25</td>\n    </tr>\n    <tr>\n      <th>6</th>\n      <td>0xcc9db9a7563b473c4b8e4ca0f4f7fb90ca709b022469...</td>\n      <td>16366146</td>\n      <td>0x25fdda95197f804316f5ba8dbb66ac173ee19981</td>\n      <td>0xc413dd03555f3eb29d834b482d386b2999dc2eb0</td>\n      <td>True</td>\n      <td>gOHM</td>\n      <td>18</td>\n      <td>2855.939479</td>\n      <td>2.252766e+18</td>\n      <td>2.252766</td>\n      <td>0xcc9db9a7563b473c4b8e4ca0f4f7fb90ca709b022469...</td>\n      <td>2023-01-09 02:06:59</td>\n      <td>2023-01-09</td>\n    </tr>\n    <tr>\n      <th>7</th>\n      <td>0x3cf3a5658c3ef1a247ec241370a3abfeb673251eafec...</td>\n      <td>16176122</td>\n      <td>0x791d1ec51d931186c1d4b80e753b7155dd98f741</td>\n      <td>0xc413dd03555f3eb29d834b482d386b2999dc2eb0</td>\n      <td>True</td>\n      <td>gOHM</td>\n      <td>18</td>\n      <td>2855.939479</td>\n      <td>2.000000e+16</td>\n      <td>0.020000</td>\n      <td>0x3cf3a5658c3ef1a247ec241370a3abfeb673251eafec...</td>\n      <td>2022-12-13 13:37:23</td>\n      <td>2022-12-13</td>\n    </tr>\n  </tbody>\n</table>\n</div>"
     },
     "execution_count": 252,
     "metadata": {},
     "output_type": "execute_result"
    }
   ],
   "source": [
    "oldWithdrawalsDb = pd.DataFrame()\n",
    "siloFileName = file+'/siloFinance_Withdrawals.csv'\n",
    "try:\n",
    "    oldWithdrawalsDb = pd.read_csv (siloFileName)\n",
    "except:\n",
    "    oldWithdrawalsDb = pd.DataFrame()\n",
    "oldWithdrawalsDb.head(10)"
   ],
   "metadata": {
    "collapsed": false
   }
  },
  {
   "cell_type": "code",
   "execution_count": 253,
   "outputs": [
    {
     "data": {
      "text/plain": "0"
     },
     "execution_count": 253,
     "metadata": {},
     "output_type": "execute_result"
    }
   ],
   "source": [
    "maxSiloWithdrawalTimestamp = 0\n",
    "try:\n",
    "    maxSiloWithdrawalTimestamp = (max(0,oldWithdrawalsDb['transaction_timestamp'].max()))-5\n",
    "except:\n",
    "        maxSiloWithdrawalTimestamp = 0\n",
    "maxSiloWithdrawalTimestamp = int(maxSiloWithdrawalTimestamp)\n",
    "maxSiloWithdrawalTimestamp"
   ],
   "metadata": {
    "collapsed": false
   }
  },
  {
   "cell_type": "code",
   "execution_count": 254,
   "outputs": [
    {
     "name": "stdout",
     "output_type": "stream",
     "text": [
      "iterations:  0 Lines skipped:  0 records collected:  72  - latest recordID:  0xf4707edc29622f90030af624d1918ff5ae613cef90d8f6934404ede182d39aba   0xf4707edc29622f90030af624d1918ff5ae613cef90d8f6934404ede182d39aba-260  - withdrawals DB length:  72  - latest record from:  2023-02-15 07:27:47 0 days ago\n",
      "Done. Total Records collected:  72\n"
     ]
    }
   ],
   "source": [
    "#this tracks the ENTIRE list of events for withdrawaling gOHM for lending\n",
    "withdrawalTicker = 0\n",
    "withdrawalslist = pd.DataFrame()\n",
    "withdrawalsDb = pd.DataFrame()\n",
    "withdrawalListLength = 1000\n",
    "datediff = 0\n",
    "now=0\n",
    "daysAgo=0\n",
    "daysLimit = 45\n",
    "exit = False\n",
    "while exit==False:\n",
    "    skipValue = (withdrawalTicker)*(1000)\n",
    "    withdrawals = silo.Query.withdraws(\n",
    "        orderBy='timestamp',\n",
    "        orderDirection='desc',\n",
    "        first=1000,\n",
    "        skip = skipValue,\n",
    "        where=\n",
    "        { 'market': '0xc413dd03555f3eb29d834b482d386b2999dc2eb0'  #gOHM market\n",
    "                ,'timestamp_gt': maxSiloWithdrawalTimestamp\n",
    "                ,'asset': '0x0ab87046fbb341d058f17cbc4c1133f25a20a52f'\n",
    "#            [ silo.Query.withdrawals.market == '0xc413dd03555f3eb29d834b482d386b2999dc2eb0'\n",
    "#             ,silo.Query.withdrawals.timestamp > maxSilowithdrawalTimestamp\n",
    "#             ,silo.Query.withdrawals.asset == '0x0ab87046fbb341d058f17cbc4c1133f25a20a52f']\n",
    "                }\n",
    "\n",
    "\n",
    "    )\n",
    "\n",
    "    withdrawalslist = sg.query_df([\n",
    "        withdrawals.id\n",
    "        ,withdrawals.hash\n",
    "        ,withdrawals.blockNumber\n",
    "        ,withdrawals.timestamp\n",
    "        ,withdrawals.account.id\n",
    "        ,withdrawals.market.id\n",
    "        ,withdrawals.market.protocol.id\n",
    "        ,withdrawals.market.canUseAsCollateral\n",
    "        ,withdrawals.market.rates.rate\n",
    "        ,withdrawals.market.rates.duration\n",
    "        ,withdrawals.market.rates.side\n",
    "        ,withdrawals.market.rates.type\n",
    "        ,withdrawals.market.rates.token.id\n",
    "        ,withdrawals.asset.id\n",
    "        ,withdrawals.asset.name\n",
    "        ,withdrawals.asset.symbol\n",
    "        ,withdrawals.asset.decimals\n",
    "        ,withdrawals.asset.lastPriceUSD\n",
    "        ,withdrawals.amount\n",
    "        ,withdrawals.amountUSD\n",
    "        ,withdrawals.position.timestampClosed\n",
    "    ])\n",
    "\n",
    "    #withdrawalslist.sort_values(by=['withdrawals_timestamp'])\n",
    "\n",
    "    withdrawalsDb=pd.concat([withdrawalsDb, withdrawalslist])\n",
    "    recordTimestamp1 = withdrawalsDb.iat[withdrawalTicker,3]\n",
    "    recordTimestamp = dt.datetime.fromtimestamp( recordTimestamp1 )\n",
    "    now = (int(dt.datetime.utcnow().timestamp()))\n",
    "    datediff=abs(int(now) - recordTimestamp1)\n",
    "    daysAgo = int(datediff/86400)\n",
    "    withdrawalsDbLength = len(withdrawalsDb)\n",
    "    withdrawalListLength = len(withdrawalslist)\n",
    "    recordID = withdrawalsDb.iat[withdrawalTicker,0]\n",
    "    withdrawal = withdrawalsDb.iat[withdrawalTicker,1]\n",
    "    print(\"iterations: \", withdrawalTicker, \"Lines skipped: \",skipValue, \"records collected: \", withdrawalListLength, \" - latest recordID: \",withdrawal, \" \", recordID , \" - withdrawals DB length: \", withdrawalsDbLength, \" - latest record from: \", recordTimestamp, daysAgo,\"days ago\")\n",
    "    #print(\"iterations: \", withdrawalTicker, \"records collected: \", withdrawalListLength, \" - userdb length: \", withdrawalsDbLength)\n",
    "    withdrawalTicker = withdrawalTicker+1\n",
    "    if daysAgo>daysLimit: exit =True\n",
    "    if withdrawalListLength<1000: exit =True\n",
    "\n",
    "#withdrawalsDb.sort_values(by=['withdrawals_timestamp'])\n",
    "\n",
    "withdrawalsDb.columns = withdrawalsDb.columns.str.replace(\"withdraws\", \"transaction\")\n",
    "withdrawalsDb['event']='withdraw'\n",
    "withdrawalsDb.drop_duplicates\n",
    "print(\"Done. Total Records collected: \", withdrawalsDbLength)"
   ],
   "metadata": {
    "collapsed": false
   }
  },
  {
   "cell_type": "code",
   "execution_count": 255,
   "outputs": [
    {
     "data": {
      "text/plain": "                                      transaction_id  \\\n0  0xf4707edc29622f90030af624d1918ff5ae613cef90d8...   \n1  0xf4707edc29622f90030af624d1918ff5ae613cef90d8...   \n2  0xf4707edc29622f90030af624d1918ff5ae613cef90d8...   \n3  0xf4707edc29622f90030af624d1918ff5ae613cef90d8...   \n4  0xf4707edc29622f90030af624d1918ff5ae613cef90d8...   \n5  0xf4707edc29622f90030af624d1918ff5ae613cef90d8...   \n6  0x85b689883076aa92af0a2356f8e4084610578bb48590...   \n7  0x85b689883076aa92af0a2356f8e4084610578bb48590...   \n8  0x85b689883076aa92af0a2356f8e4084610578bb48590...   \n9  0x85b689883076aa92af0a2356f8e4084610578bb48590...   \n\n                                    transaction_hash  transaction_blockNumber  \\\n0  0xf4707edc29622f90030af624d1918ff5ae613cef90d8...                 16635032   \n1  0xf4707edc29622f90030af624d1918ff5ae613cef90d8...                 16635032   \n2  0xf4707edc29622f90030af624d1918ff5ae613cef90d8...                 16635032   \n3  0xf4707edc29622f90030af624d1918ff5ae613cef90d8...                 16635032   \n4  0xf4707edc29622f90030af624d1918ff5ae613cef90d8...                 16635032   \n5  0xf4707edc29622f90030af624d1918ff5ae613cef90d8...                 16635032   \n6  0x85b689883076aa92af0a2356f8e4084610578bb48590...                 16634844   \n7  0x85b689883076aa92af0a2356f8e4084610578bb48590...                 16634844   \n8  0x85b689883076aa92af0a2356f8e4084610578bb48590...                 16634844   \n9  0x85b689883076aa92af0a2356f8e4084610578bb48590...                 16634844   \n\n   transaction_timestamp                      transaction_account_id  \\\n0             1676474867  0x0493bcca897a2248ae3cd4c66aea90dbfc7e13c6   \n1             1676474867  0x0493bcca897a2248ae3cd4c66aea90dbfc7e13c6   \n2             1676474867  0x0493bcca897a2248ae3cd4c66aea90dbfc7e13c6   \n3             1676474867  0x0493bcca897a2248ae3cd4c66aea90dbfc7e13c6   \n4             1676474867  0x0493bcca897a2248ae3cd4c66aea90dbfc7e13c6   \n5             1676474867  0x0493bcca897a2248ae3cd4c66aea90dbfc7e13c6   \n6             1676472599  0xb0399dac8f4d4100b49b2a7b3873481114229d18   \n7             1676472599  0xb0399dac8f4d4100b49b2a7b3873481114229d18   \n8             1676472599  0xb0399dac8f4d4100b49b2a7b3873481114229d18   \n9             1676472599  0xb0399dac8f4d4100b49b2a7b3873481114229d18   \n\n                        transaction_market_id  \\\n0  0xc413dd03555f3eb29d834b482d386b2999dc2eb0   \n1  0xc413dd03555f3eb29d834b482d386b2999dc2eb0   \n2  0xc413dd03555f3eb29d834b482d386b2999dc2eb0   \n3  0xc413dd03555f3eb29d834b482d386b2999dc2eb0   \n4  0xc413dd03555f3eb29d834b482d386b2999dc2eb0   \n5  0xc413dd03555f3eb29d834b482d386b2999dc2eb0   \n6  0xc413dd03555f3eb29d834b482d386b2999dc2eb0   \n7  0xc413dd03555f3eb29d834b482d386b2999dc2eb0   \n8  0xc413dd03555f3eb29d834b482d386b2999dc2eb0   \n9  0xc413dd03555f3eb29d834b482d386b2999dc2eb0   \n\n               transaction_market_protocol_id  \\\n0  0xd998c35b7900b344bbbe6555cc11576942cf309d   \n1  0xd998c35b7900b344bbbe6555cc11576942cf309d   \n2  0xd998c35b7900b344bbbe6555cc11576942cf309d   \n3  0xd998c35b7900b344bbbe6555cc11576942cf309d   \n4  0xd998c35b7900b344bbbe6555cc11576942cf309d   \n5  0xd998c35b7900b344bbbe6555cc11576942cf309d   \n6  0xd998c35b7900b344bbbe6555cc11576942cf309d   \n7  0xd998c35b7900b344bbbe6555cc11576942cf309d   \n8  0xd998c35b7900b344bbbe6555cc11576942cf309d   \n9  0xd998c35b7900b344bbbe6555cc11576942cf309d   \n\n   transaction_market_canUseAsCollateral  transaction_market_rates_rate  \\\n0                                   True                       0.000000   \n1                                   True                       0.000000   \n2                                   True                       1.170737   \n3                                   True                       0.000000   \n4                                   True                       0.000000   \n5                                   True                       0.274125   \n6                                   True                       0.000000   \n7                                   True                       0.000000   \n8                                   True                       1.170737   \n9                                   True                       0.000000   \n\n  transaction_market_rates_duration  ...  \\\n0                              None  ...   \n1                              None  ...   \n2                              None  ...   \n3                              None  ...   \n4                              None  ...   \n5                              None  ...   \n6                              None  ...   \n7                              None  ...   \n8                              None  ...   \n9                              None  ...   \n\n            transaction_market_rates_token_id  \\\n0  0x0ab87046fbb341d058f17cbc4c1133f25a20a52f   \n1  0xc02aaa39b223fe8d0a0e5c4f27ead9083c756cc2   \n2  0xd7c9f0e536dc865ae858b0c0453fe76d13c3beac   \n3  0x0ab87046fbb341d058f17cbc4c1133f25a20a52f   \n4  0xc02aaa39b223fe8d0a0e5c4f27ead9083c756cc2   \n5  0xd7c9f0e536dc865ae858b0c0453fe76d13c3beac   \n6  0x0ab87046fbb341d058f17cbc4c1133f25a20a52f   \n7  0xc02aaa39b223fe8d0a0e5c4f27ead9083c756cc2   \n8  0xd7c9f0e536dc865ae858b0c0453fe76d13c3beac   \n9  0x0ab87046fbb341d058f17cbc4c1133f25a20a52f   \n\n                         transaction_asset_id transaction_asset_name  \\\n0  0x0ab87046fbb341d058f17cbc4c1133f25a20a52f         Governance OHM   \n1  0x0ab87046fbb341d058f17cbc4c1133f25a20a52f         Governance OHM   \n2  0x0ab87046fbb341d058f17cbc4c1133f25a20a52f         Governance OHM   \n3  0x0ab87046fbb341d058f17cbc4c1133f25a20a52f         Governance OHM   \n4  0x0ab87046fbb341d058f17cbc4c1133f25a20a52f         Governance OHM   \n5  0x0ab87046fbb341d058f17cbc4c1133f25a20a52f         Governance OHM   \n6  0x0ab87046fbb341d058f17cbc4c1133f25a20a52f         Governance OHM   \n7  0x0ab87046fbb341d058f17cbc4c1133f25a20a52f         Governance OHM   \n8  0x0ab87046fbb341d058f17cbc4c1133f25a20a52f         Governance OHM   \n9  0x0ab87046fbb341d058f17cbc4c1133f25a20a52f         Governance OHM   \n\n  transaction_asset_symbol transaction_asset_decimals  \\\n0                     gOHM                         18   \n1                     gOHM                         18   \n2                     gOHM                         18   \n3                     gOHM                         18   \n4                     gOHM                         18   \n5                     gOHM                         18   \n6                     gOHM                         18   \n7                     gOHM                         18   \n8                     gOHM                         18   \n9                     gOHM                         18   \n\n  transaction_asset_lastPriceUSD    transaction_amount  transaction_amountUSD  \\\n0                    2855.939479  25000038820033231117           71148.084004   \n1                    2855.939479  25000038820033231117           71148.084004   \n2                    2855.939479  25000038820033231117           71148.084004   \n3                    2855.939479  25000038820033231117           71148.084004   \n4                    2855.939479  25000038820033231117           71148.084004   \n5                    2855.939479  25000038820033231117           71148.084004   \n6                    2855.939479  64393035133917233507          183257.358356   \n7                    2855.939479  64393035133917233507          183257.358356   \n8                    2855.939479  64393035133917233507          183257.358356   \n9                    2855.939479  64393035133917233507          183257.358356   \n\n  transaction_position_timestampClosed     event  \n0                         1.676475e+09  withdraw  \n1                         1.676475e+09  withdraw  \n2                         1.676475e+09  withdraw  \n3                         1.676475e+09  withdraw  \n4                         1.676475e+09  withdraw  \n5                         1.676475e+09  withdraw  \n6                         1.676473e+09  withdraw  \n7                         1.676473e+09  withdraw  \n8                         1.676473e+09  withdraw  \n9                         1.676473e+09  withdraw  \n\n[10 rows x 22 columns]",
      "text/html": "<div>\n<style scoped>\n    .dataframe tbody tr th:only-of-type {\n        vertical-align: middle;\n    }\n\n    .dataframe tbody tr th {\n        vertical-align: top;\n    }\n\n    .dataframe thead th {\n        text-align: right;\n    }\n</style>\n<table border=\"1\" class=\"dataframe\">\n  <thead>\n    <tr style=\"text-align: right;\">\n      <th></th>\n      <th>transaction_id</th>\n      <th>transaction_hash</th>\n      <th>transaction_blockNumber</th>\n      <th>transaction_timestamp</th>\n      <th>transaction_account_id</th>\n      <th>transaction_market_id</th>\n      <th>transaction_market_protocol_id</th>\n      <th>transaction_market_canUseAsCollateral</th>\n      <th>transaction_market_rates_rate</th>\n      <th>transaction_market_rates_duration</th>\n      <th>...</th>\n      <th>transaction_market_rates_token_id</th>\n      <th>transaction_asset_id</th>\n      <th>transaction_asset_name</th>\n      <th>transaction_asset_symbol</th>\n      <th>transaction_asset_decimals</th>\n      <th>transaction_asset_lastPriceUSD</th>\n      <th>transaction_amount</th>\n      <th>transaction_amountUSD</th>\n      <th>transaction_position_timestampClosed</th>\n      <th>event</th>\n    </tr>\n  </thead>\n  <tbody>\n    <tr>\n      <th>0</th>\n      <td>0xf4707edc29622f90030af624d1918ff5ae613cef90d8...</td>\n      <td>0xf4707edc29622f90030af624d1918ff5ae613cef90d8...</td>\n      <td>16635032</td>\n      <td>1676474867</td>\n      <td>0x0493bcca897a2248ae3cd4c66aea90dbfc7e13c6</td>\n      <td>0xc413dd03555f3eb29d834b482d386b2999dc2eb0</td>\n      <td>0xd998c35b7900b344bbbe6555cc11576942cf309d</td>\n      <td>True</td>\n      <td>0.000000</td>\n      <td>None</td>\n      <td>...</td>\n      <td>0x0ab87046fbb341d058f17cbc4c1133f25a20a52f</td>\n      <td>0x0ab87046fbb341d058f17cbc4c1133f25a20a52f</td>\n      <td>Governance OHM</td>\n      <td>gOHM</td>\n      <td>18</td>\n      <td>2855.939479</td>\n      <td>25000038820033231117</td>\n      <td>71148.084004</td>\n      <td>1.676475e+09</td>\n      <td>withdraw</td>\n    </tr>\n    <tr>\n      <th>1</th>\n      <td>0xf4707edc29622f90030af624d1918ff5ae613cef90d8...</td>\n      <td>0xf4707edc29622f90030af624d1918ff5ae613cef90d8...</td>\n      <td>16635032</td>\n      <td>1676474867</td>\n      <td>0x0493bcca897a2248ae3cd4c66aea90dbfc7e13c6</td>\n      <td>0xc413dd03555f3eb29d834b482d386b2999dc2eb0</td>\n      <td>0xd998c35b7900b344bbbe6555cc11576942cf309d</td>\n      <td>True</td>\n      <td>0.000000</td>\n      <td>None</td>\n      <td>...</td>\n      <td>0xc02aaa39b223fe8d0a0e5c4f27ead9083c756cc2</td>\n      <td>0x0ab87046fbb341d058f17cbc4c1133f25a20a52f</td>\n      <td>Governance OHM</td>\n      <td>gOHM</td>\n      <td>18</td>\n      <td>2855.939479</td>\n      <td>25000038820033231117</td>\n      <td>71148.084004</td>\n      <td>1.676475e+09</td>\n      <td>withdraw</td>\n    </tr>\n    <tr>\n      <th>2</th>\n      <td>0xf4707edc29622f90030af624d1918ff5ae613cef90d8...</td>\n      <td>0xf4707edc29622f90030af624d1918ff5ae613cef90d8...</td>\n      <td>16635032</td>\n      <td>1676474867</td>\n      <td>0x0493bcca897a2248ae3cd4c66aea90dbfc7e13c6</td>\n      <td>0xc413dd03555f3eb29d834b482d386b2999dc2eb0</td>\n      <td>0xd998c35b7900b344bbbe6555cc11576942cf309d</td>\n      <td>True</td>\n      <td>1.170737</td>\n      <td>None</td>\n      <td>...</td>\n      <td>0xd7c9f0e536dc865ae858b0c0453fe76d13c3beac</td>\n      <td>0x0ab87046fbb341d058f17cbc4c1133f25a20a52f</td>\n      <td>Governance OHM</td>\n      <td>gOHM</td>\n      <td>18</td>\n      <td>2855.939479</td>\n      <td>25000038820033231117</td>\n      <td>71148.084004</td>\n      <td>1.676475e+09</td>\n      <td>withdraw</td>\n    </tr>\n    <tr>\n      <th>3</th>\n      <td>0xf4707edc29622f90030af624d1918ff5ae613cef90d8...</td>\n      <td>0xf4707edc29622f90030af624d1918ff5ae613cef90d8...</td>\n      <td>16635032</td>\n      <td>1676474867</td>\n      <td>0x0493bcca897a2248ae3cd4c66aea90dbfc7e13c6</td>\n      <td>0xc413dd03555f3eb29d834b482d386b2999dc2eb0</td>\n      <td>0xd998c35b7900b344bbbe6555cc11576942cf309d</td>\n      <td>True</td>\n      <td>0.000000</td>\n      <td>None</td>\n      <td>...</td>\n      <td>0x0ab87046fbb341d058f17cbc4c1133f25a20a52f</td>\n      <td>0x0ab87046fbb341d058f17cbc4c1133f25a20a52f</td>\n      <td>Governance OHM</td>\n      <td>gOHM</td>\n      <td>18</td>\n      <td>2855.939479</td>\n      <td>25000038820033231117</td>\n      <td>71148.084004</td>\n      <td>1.676475e+09</td>\n      <td>withdraw</td>\n    </tr>\n    <tr>\n      <th>4</th>\n      <td>0xf4707edc29622f90030af624d1918ff5ae613cef90d8...</td>\n      <td>0xf4707edc29622f90030af624d1918ff5ae613cef90d8...</td>\n      <td>16635032</td>\n      <td>1676474867</td>\n      <td>0x0493bcca897a2248ae3cd4c66aea90dbfc7e13c6</td>\n      <td>0xc413dd03555f3eb29d834b482d386b2999dc2eb0</td>\n      <td>0xd998c35b7900b344bbbe6555cc11576942cf309d</td>\n      <td>True</td>\n      <td>0.000000</td>\n      <td>None</td>\n      <td>...</td>\n      <td>0xc02aaa39b223fe8d0a0e5c4f27ead9083c756cc2</td>\n      <td>0x0ab87046fbb341d058f17cbc4c1133f25a20a52f</td>\n      <td>Governance OHM</td>\n      <td>gOHM</td>\n      <td>18</td>\n      <td>2855.939479</td>\n      <td>25000038820033231117</td>\n      <td>71148.084004</td>\n      <td>1.676475e+09</td>\n      <td>withdraw</td>\n    </tr>\n    <tr>\n      <th>5</th>\n      <td>0xf4707edc29622f90030af624d1918ff5ae613cef90d8...</td>\n      <td>0xf4707edc29622f90030af624d1918ff5ae613cef90d8...</td>\n      <td>16635032</td>\n      <td>1676474867</td>\n      <td>0x0493bcca897a2248ae3cd4c66aea90dbfc7e13c6</td>\n      <td>0xc413dd03555f3eb29d834b482d386b2999dc2eb0</td>\n      <td>0xd998c35b7900b344bbbe6555cc11576942cf309d</td>\n      <td>True</td>\n      <td>0.274125</td>\n      <td>None</td>\n      <td>...</td>\n      <td>0xd7c9f0e536dc865ae858b0c0453fe76d13c3beac</td>\n      <td>0x0ab87046fbb341d058f17cbc4c1133f25a20a52f</td>\n      <td>Governance OHM</td>\n      <td>gOHM</td>\n      <td>18</td>\n      <td>2855.939479</td>\n      <td>25000038820033231117</td>\n      <td>71148.084004</td>\n      <td>1.676475e+09</td>\n      <td>withdraw</td>\n    </tr>\n    <tr>\n      <th>6</th>\n      <td>0x85b689883076aa92af0a2356f8e4084610578bb48590...</td>\n      <td>0x85b689883076aa92af0a2356f8e4084610578bb48590...</td>\n      <td>16634844</td>\n      <td>1676472599</td>\n      <td>0xb0399dac8f4d4100b49b2a7b3873481114229d18</td>\n      <td>0xc413dd03555f3eb29d834b482d386b2999dc2eb0</td>\n      <td>0xd998c35b7900b344bbbe6555cc11576942cf309d</td>\n      <td>True</td>\n      <td>0.000000</td>\n      <td>None</td>\n      <td>...</td>\n      <td>0x0ab87046fbb341d058f17cbc4c1133f25a20a52f</td>\n      <td>0x0ab87046fbb341d058f17cbc4c1133f25a20a52f</td>\n      <td>Governance OHM</td>\n      <td>gOHM</td>\n      <td>18</td>\n      <td>2855.939479</td>\n      <td>64393035133917233507</td>\n      <td>183257.358356</td>\n      <td>1.676473e+09</td>\n      <td>withdraw</td>\n    </tr>\n    <tr>\n      <th>7</th>\n      <td>0x85b689883076aa92af0a2356f8e4084610578bb48590...</td>\n      <td>0x85b689883076aa92af0a2356f8e4084610578bb48590...</td>\n      <td>16634844</td>\n      <td>1676472599</td>\n      <td>0xb0399dac8f4d4100b49b2a7b3873481114229d18</td>\n      <td>0xc413dd03555f3eb29d834b482d386b2999dc2eb0</td>\n      <td>0xd998c35b7900b344bbbe6555cc11576942cf309d</td>\n      <td>True</td>\n      <td>0.000000</td>\n      <td>None</td>\n      <td>...</td>\n      <td>0xc02aaa39b223fe8d0a0e5c4f27ead9083c756cc2</td>\n      <td>0x0ab87046fbb341d058f17cbc4c1133f25a20a52f</td>\n      <td>Governance OHM</td>\n      <td>gOHM</td>\n      <td>18</td>\n      <td>2855.939479</td>\n      <td>64393035133917233507</td>\n      <td>183257.358356</td>\n      <td>1.676473e+09</td>\n      <td>withdraw</td>\n    </tr>\n    <tr>\n      <th>8</th>\n      <td>0x85b689883076aa92af0a2356f8e4084610578bb48590...</td>\n      <td>0x85b689883076aa92af0a2356f8e4084610578bb48590...</td>\n      <td>16634844</td>\n      <td>1676472599</td>\n      <td>0xb0399dac8f4d4100b49b2a7b3873481114229d18</td>\n      <td>0xc413dd03555f3eb29d834b482d386b2999dc2eb0</td>\n      <td>0xd998c35b7900b344bbbe6555cc11576942cf309d</td>\n      <td>True</td>\n      <td>1.170737</td>\n      <td>None</td>\n      <td>...</td>\n      <td>0xd7c9f0e536dc865ae858b0c0453fe76d13c3beac</td>\n      <td>0x0ab87046fbb341d058f17cbc4c1133f25a20a52f</td>\n      <td>Governance OHM</td>\n      <td>gOHM</td>\n      <td>18</td>\n      <td>2855.939479</td>\n      <td>64393035133917233507</td>\n      <td>183257.358356</td>\n      <td>1.676473e+09</td>\n      <td>withdraw</td>\n    </tr>\n    <tr>\n      <th>9</th>\n      <td>0x85b689883076aa92af0a2356f8e4084610578bb48590...</td>\n      <td>0x85b689883076aa92af0a2356f8e4084610578bb48590...</td>\n      <td>16634844</td>\n      <td>1676472599</td>\n      <td>0xb0399dac8f4d4100b49b2a7b3873481114229d18</td>\n      <td>0xc413dd03555f3eb29d834b482d386b2999dc2eb0</td>\n      <td>0xd998c35b7900b344bbbe6555cc11576942cf309d</td>\n      <td>True</td>\n      <td>0.000000</td>\n      <td>None</td>\n      <td>...</td>\n      <td>0x0ab87046fbb341d058f17cbc4c1133f25a20a52f</td>\n      <td>0x0ab87046fbb341d058f17cbc4c1133f25a20a52f</td>\n      <td>Governance OHM</td>\n      <td>gOHM</td>\n      <td>18</td>\n      <td>2855.939479</td>\n      <td>64393035133917233507</td>\n      <td>183257.358356</td>\n      <td>1.676473e+09</td>\n      <td>withdraw</td>\n    </tr>\n  </tbody>\n</table>\n<p>10 rows × 22 columns</p>\n</div>"
     },
     "execution_count": 255,
     "metadata": {},
     "output_type": "execute_result"
    }
   ],
   "source": [
    "withdrawalsDb.head(10)"
   ],
   "metadata": {
    "collapsed": false
   }
  },
  {
   "cell_type": "code",
   "execution_count": 256,
   "outputs": [
    {
     "data": {
      "text/plain": "                                      transaction_id  transaction_blockNumber  \\\n0  0xf4707edc29622f90030af624d1918ff5ae613cef90d8...                 16635032   \n1  0x85b689883076aa92af0a2356f8e4084610578bb48590...                 16634844   \n2  0xd931b79cfc34df088f325e8adde9122af7ad64a0ba30...                 16628161   \n3  0xed87a5e09b9abe135be66d51493eca516d78aaf1d4d5...                 16589407   \n4  0xcfa1e8a102e407470f7cc479576cceab5f872c1a1377...                 16574012   \n5  0xb8682e4d0d5fe1297f21ff66347debdfc75c3956612d...                 16483146   \n6  0xcc9db9a7563b473c4b8e4ca0f4f7fb90ca709b022469...                 16366146   \n7  0x3cf3a5658c3ef1a247ec241370a3abfeb673251eafec...                 16176122   \n\n                       transaction_account_id  \\\n0  0x0493bcca897a2248ae3cd4c66aea90dbfc7e13c6   \n1  0xb0399dac8f4d4100b49b2a7b3873481114229d18   \n2  0xb0399dac8f4d4100b49b2a7b3873481114229d18   \n3  0xb0399dac8f4d4100b49b2a7b3873481114229d18   \n4  0xd3064611b24eba7a6dbcbc26c1b35dfee1170880   \n5  0xee1520f94f304e8d551cbf310fe214212e3ca34a   \n6  0x25fdda95197f804316f5ba8dbb66ac173ee19981   \n7  0x791d1ec51d931186c1d4b80e753b7155dd98f741   \n\n                        transaction_market_id  \\\n0  0xc413dd03555f3eb29d834b482d386b2999dc2eb0   \n1  0xc413dd03555f3eb29d834b482d386b2999dc2eb0   \n2  0xc413dd03555f3eb29d834b482d386b2999dc2eb0   \n3  0xc413dd03555f3eb29d834b482d386b2999dc2eb0   \n4  0xc413dd03555f3eb29d834b482d386b2999dc2eb0   \n5  0xc413dd03555f3eb29d834b482d386b2999dc2eb0   \n6  0xc413dd03555f3eb29d834b482d386b2999dc2eb0   \n7  0xc413dd03555f3eb29d834b482d386b2999dc2eb0   \n\n   transaction_market_canUseAsCollateral transaction_asset_symbol  \\\n0                                   True                     gOHM   \n1                                   True                     gOHM   \n2                                   True                     gOHM   \n3                                   True                     gOHM   \n4                                   True                     gOHM   \n5                                   True                     gOHM   \n6                                   True                     gOHM   \n7                                   True                     gOHM   \n\n   transaction_asset_decimals  transaction_asset_lastPriceUSD  \\\n0                          18                     2855.939479   \n1                          18                     2855.939479   \n2                          18                     2855.939479   \n3                          18                     2855.939479   \n4                          18                     2855.939479   \n5                          18                     2855.939479   \n6                          18                     2855.939479   \n7                          18                     2855.939479   \n\n   transaction_amount  naturalAmount  \\\n0        2.500004e+19      25.000039   \n1        6.439304e+19      64.393035   \n2        3.600000e+19      36.000000   \n3        1.960712e+19      19.607121   \n4        1.947982e+17       0.194798   \n5        2.000000e+19      20.000000   \n6        2.252766e+18       2.252766   \n7        2.000000e+16       0.020000   \n\n                                    transaction_hash            dateTime  \\\n0  0xf4707edc29622f90030af624d1918ff5ae613cef90d8... 2023-02-15 15:27:47   \n1  0x85b689883076aa92af0a2356f8e4084610578bb48590... 2023-02-15 14:49:59   \n2  0xd931b79cfc34df088f325e8adde9122af7ad64a0ba30... 2023-02-14 16:23:59   \n3  0xed87a5e09b9abe135be66d51493eca516d78aaf1d4d5... 2023-02-09 06:27:35   \n4  0xcfa1e8a102e407470f7cc479576cceab5f872c1a1377... 2023-02-07 02:45:47   \n5  0xb8682e4d0d5fe1297f21ff66347debdfc75c3956612d... 2023-01-25 10:09:35   \n6  0xcc9db9a7563b473c4b8e4ca0f4f7fb90ca709b022469... 2023-01-09 02:06:59   \n7  0x3cf3a5658c3ef1a247ec241370a3abfeb673251eafec... 2022-12-13 13:37:23   \n\n     calDate  \n0 2023-02-15  \n1 2023-02-15  \n2 2023-02-14  \n3 2023-02-09  \n4 2023-02-07  \n5 2023-01-25  \n6 2023-01-09  \n7 2022-12-13  ",
      "text/html": "<div>\n<style scoped>\n    .dataframe tbody tr th:only-of-type {\n        vertical-align: middle;\n    }\n\n    .dataframe tbody tr th {\n        vertical-align: top;\n    }\n\n    .dataframe thead th {\n        text-align: right;\n    }\n</style>\n<table border=\"1\" class=\"dataframe\">\n  <thead>\n    <tr style=\"text-align: right;\">\n      <th></th>\n      <th>transaction_id</th>\n      <th>transaction_blockNumber</th>\n      <th>transaction_account_id</th>\n      <th>transaction_market_id</th>\n      <th>transaction_market_canUseAsCollateral</th>\n      <th>transaction_asset_symbol</th>\n      <th>transaction_asset_decimals</th>\n      <th>transaction_asset_lastPriceUSD</th>\n      <th>transaction_amount</th>\n      <th>naturalAmount</th>\n      <th>transaction_hash</th>\n      <th>dateTime</th>\n      <th>calDate</th>\n    </tr>\n  </thead>\n  <tbody>\n    <tr>\n      <th>0</th>\n      <td>0xf4707edc29622f90030af624d1918ff5ae613cef90d8...</td>\n      <td>16635032</td>\n      <td>0x0493bcca897a2248ae3cd4c66aea90dbfc7e13c6</td>\n      <td>0xc413dd03555f3eb29d834b482d386b2999dc2eb0</td>\n      <td>True</td>\n      <td>gOHM</td>\n      <td>18</td>\n      <td>2855.939479</td>\n      <td>2.500004e+19</td>\n      <td>25.000039</td>\n      <td>0xf4707edc29622f90030af624d1918ff5ae613cef90d8...</td>\n      <td>2023-02-15 15:27:47</td>\n      <td>2023-02-15</td>\n    </tr>\n    <tr>\n      <th>1</th>\n      <td>0x85b689883076aa92af0a2356f8e4084610578bb48590...</td>\n      <td>16634844</td>\n      <td>0xb0399dac8f4d4100b49b2a7b3873481114229d18</td>\n      <td>0xc413dd03555f3eb29d834b482d386b2999dc2eb0</td>\n      <td>True</td>\n      <td>gOHM</td>\n      <td>18</td>\n      <td>2855.939479</td>\n      <td>6.439304e+19</td>\n      <td>64.393035</td>\n      <td>0x85b689883076aa92af0a2356f8e4084610578bb48590...</td>\n      <td>2023-02-15 14:49:59</td>\n      <td>2023-02-15</td>\n    </tr>\n    <tr>\n      <th>2</th>\n      <td>0xd931b79cfc34df088f325e8adde9122af7ad64a0ba30...</td>\n      <td>16628161</td>\n      <td>0xb0399dac8f4d4100b49b2a7b3873481114229d18</td>\n      <td>0xc413dd03555f3eb29d834b482d386b2999dc2eb0</td>\n      <td>True</td>\n      <td>gOHM</td>\n      <td>18</td>\n      <td>2855.939479</td>\n      <td>3.600000e+19</td>\n      <td>36.000000</td>\n      <td>0xd931b79cfc34df088f325e8adde9122af7ad64a0ba30...</td>\n      <td>2023-02-14 16:23:59</td>\n      <td>2023-02-14</td>\n    </tr>\n    <tr>\n      <th>3</th>\n      <td>0xed87a5e09b9abe135be66d51493eca516d78aaf1d4d5...</td>\n      <td>16589407</td>\n      <td>0xb0399dac8f4d4100b49b2a7b3873481114229d18</td>\n      <td>0xc413dd03555f3eb29d834b482d386b2999dc2eb0</td>\n      <td>True</td>\n      <td>gOHM</td>\n      <td>18</td>\n      <td>2855.939479</td>\n      <td>1.960712e+19</td>\n      <td>19.607121</td>\n      <td>0xed87a5e09b9abe135be66d51493eca516d78aaf1d4d5...</td>\n      <td>2023-02-09 06:27:35</td>\n      <td>2023-02-09</td>\n    </tr>\n    <tr>\n      <th>4</th>\n      <td>0xcfa1e8a102e407470f7cc479576cceab5f872c1a1377...</td>\n      <td>16574012</td>\n      <td>0xd3064611b24eba7a6dbcbc26c1b35dfee1170880</td>\n      <td>0xc413dd03555f3eb29d834b482d386b2999dc2eb0</td>\n      <td>True</td>\n      <td>gOHM</td>\n      <td>18</td>\n      <td>2855.939479</td>\n      <td>1.947982e+17</td>\n      <td>0.194798</td>\n      <td>0xcfa1e8a102e407470f7cc479576cceab5f872c1a1377...</td>\n      <td>2023-02-07 02:45:47</td>\n      <td>2023-02-07</td>\n    </tr>\n    <tr>\n      <th>5</th>\n      <td>0xb8682e4d0d5fe1297f21ff66347debdfc75c3956612d...</td>\n      <td>16483146</td>\n      <td>0xee1520f94f304e8d551cbf310fe214212e3ca34a</td>\n      <td>0xc413dd03555f3eb29d834b482d386b2999dc2eb0</td>\n      <td>True</td>\n      <td>gOHM</td>\n      <td>18</td>\n      <td>2855.939479</td>\n      <td>2.000000e+19</td>\n      <td>20.000000</td>\n      <td>0xb8682e4d0d5fe1297f21ff66347debdfc75c3956612d...</td>\n      <td>2023-01-25 10:09:35</td>\n      <td>2023-01-25</td>\n    </tr>\n    <tr>\n      <th>6</th>\n      <td>0xcc9db9a7563b473c4b8e4ca0f4f7fb90ca709b022469...</td>\n      <td>16366146</td>\n      <td>0x25fdda95197f804316f5ba8dbb66ac173ee19981</td>\n      <td>0xc413dd03555f3eb29d834b482d386b2999dc2eb0</td>\n      <td>True</td>\n      <td>gOHM</td>\n      <td>18</td>\n      <td>2855.939479</td>\n      <td>2.252766e+18</td>\n      <td>2.252766</td>\n      <td>0xcc9db9a7563b473c4b8e4ca0f4f7fb90ca709b022469...</td>\n      <td>2023-01-09 02:06:59</td>\n      <td>2023-01-09</td>\n    </tr>\n    <tr>\n      <th>7</th>\n      <td>0x3cf3a5658c3ef1a247ec241370a3abfeb673251eafec...</td>\n      <td>16176122</td>\n      <td>0x791d1ec51d931186c1d4b80e753b7155dd98f741</td>\n      <td>0xc413dd03555f3eb29d834b482d386b2999dc2eb0</td>\n      <td>True</td>\n      <td>gOHM</td>\n      <td>18</td>\n      <td>2855.939479</td>\n      <td>2.000000e+16</td>\n      <td>0.020000</td>\n      <td>0x3cf3a5658c3ef1a247ec241370a3abfeb673251eafec...</td>\n      <td>2022-12-13 13:37:23</td>\n      <td>2022-12-13</td>\n    </tr>\n  </tbody>\n</table>\n</div>"
     },
     "execution_count": 256,
     "metadata": {},
     "output_type": "execute_result"
    }
   ],
   "source": [
    "#I swear I will figure out synthetic fields, but until then...\n",
    "withdrawalsDbTimed = db.query(\"select distinct\"\n",
    "               \"            transaction_id \"\n",
    "                           \" ,transaction_blockNumber \"\n",
    "                           \",transaction_account_id \"\n",
    "                           \",transaction_market_id \"\n",
    "                           \", transaction_market_canUseAsCollateral \"\n",
    "                           \", transaction_asset_symbol \"\n",
    "                           \",transaction_asset_decimals\"\n",
    "                           \",transaction_asset_lastPriceUSD \"\n",
    "                           \",transaction_amount \"\n",
    "                           \",transaction_amount*10^(-transaction_asset_decimals) naturalAmount\"\n",
    "                           \" ,transaction_hash \"\n",
    "                    \"        ,to_timestamp(transaction_timestamp::int) dateTime \"\n",
    "                    \"        ,date_trunc('day',to_timestamp(transaction_timestamp::int)) calDate \"\n",
    "               \"From withdrawalsDb \"\n",
    "               \"where transaction_position_timestampClosed::bigint>0\"\n",
    "               #\" limit 100 \"\n",
    "               ).df()\n",
    "withdrawalsDbTimed.head(1000)"
   ],
   "metadata": {
    "collapsed": false
   }
  },
  {
   "cell_type": "code",
   "execution_count": 257,
   "outputs": [
    {
     "data": {
      "text/plain": "                                      transaction_id  transaction_blockNumber  \\\n0  0xf4707edc29622f90030af624d1918ff5ae613cef90d8...                 16635032   \n1  0x85b689883076aa92af0a2356f8e4084610578bb48590...                 16634844   \n2  0xd931b79cfc34df088f325e8adde9122af7ad64a0ba30...                 16628161   \n3  0xed87a5e09b9abe135be66d51493eca516d78aaf1d4d5...                 16589407   \n4  0xcfa1e8a102e407470f7cc479576cceab5f872c1a1377...                 16574012   \n5  0xb8682e4d0d5fe1297f21ff66347debdfc75c3956612d...                 16483146   \n6  0xcc9db9a7563b473c4b8e4ca0f4f7fb90ca709b022469...                 16366146   \n7  0x3cf3a5658c3ef1a247ec241370a3abfeb673251eafec...                 16176122   \n0  0xf4707edc29622f90030af624d1918ff5ae613cef90d8...                 16635032   \n1  0x85b689883076aa92af0a2356f8e4084610578bb48590...                 16634844   \n2  0xd931b79cfc34df088f325e8adde9122af7ad64a0ba30...                 16628161   \n3  0xed87a5e09b9abe135be66d51493eca516d78aaf1d4d5...                 16589407   \n4  0xcfa1e8a102e407470f7cc479576cceab5f872c1a1377...                 16574012   \n5  0xb8682e4d0d5fe1297f21ff66347debdfc75c3956612d...                 16483146   \n6  0xcc9db9a7563b473c4b8e4ca0f4f7fb90ca709b022469...                 16366146   \n7  0x3cf3a5658c3ef1a247ec241370a3abfeb673251eafec...                 16176122   \n\n                       transaction_account_id  \\\n0  0x0493bcca897a2248ae3cd4c66aea90dbfc7e13c6   \n1  0xb0399dac8f4d4100b49b2a7b3873481114229d18   \n2  0xb0399dac8f4d4100b49b2a7b3873481114229d18   \n3  0xb0399dac8f4d4100b49b2a7b3873481114229d18   \n4  0xd3064611b24eba7a6dbcbc26c1b35dfee1170880   \n5  0xee1520f94f304e8d551cbf310fe214212e3ca34a   \n6  0x25fdda95197f804316f5ba8dbb66ac173ee19981   \n7  0x791d1ec51d931186c1d4b80e753b7155dd98f741   \n0  0x0493bcca897a2248ae3cd4c66aea90dbfc7e13c6   \n1  0xb0399dac8f4d4100b49b2a7b3873481114229d18   \n2  0xb0399dac8f4d4100b49b2a7b3873481114229d18   \n3  0xb0399dac8f4d4100b49b2a7b3873481114229d18   \n4  0xd3064611b24eba7a6dbcbc26c1b35dfee1170880   \n5  0xee1520f94f304e8d551cbf310fe214212e3ca34a   \n6  0x25fdda95197f804316f5ba8dbb66ac173ee19981   \n7  0x791d1ec51d931186c1d4b80e753b7155dd98f741   \n\n                        transaction_market_id  \\\n0  0xc413dd03555f3eb29d834b482d386b2999dc2eb0   \n1  0xc413dd03555f3eb29d834b482d386b2999dc2eb0   \n2  0xc413dd03555f3eb29d834b482d386b2999dc2eb0   \n3  0xc413dd03555f3eb29d834b482d386b2999dc2eb0   \n4  0xc413dd03555f3eb29d834b482d386b2999dc2eb0   \n5  0xc413dd03555f3eb29d834b482d386b2999dc2eb0   \n6  0xc413dd03555f3eb29d834b482d386b2999dc2eb0   \n7  0xc413dd03555f3eb29d834b482d386b2999dc2eb0   \n0  0xc413dd03555f3eb29d834b482d386b2999dc2eb0   \n1  0xc413dd03555f3eb29d834b482d386b2999dc2eb0   \n2  0xc413dd03555f3eb29d834b482d386b2999dc2eb0   \n3  0xc413dd03555f3eb29d834b482d386b2999dc2eb0   \n4  0xc413dd03555f3eb29d834b482d386b2999dc2eb0   \n5  0xc413dd03555f3eb29d834b482d386b2999dc2eb0   \n6  0xc413dd03555f3eb29d834b482d386b2999dc2eb0   \n7  0xc413dd03555f3eb29d834b482d386b2999dc2eb0   \n\n   transaction_market_canUseAsCollateral transaction_asset_symbol  \\\n0                                   True                     gOHM   \n1                                   True                     gOHM   \n2                                   True                     gOHM   \n3                                   True                     gOHM   \n4                                   True                     gOHM   \n5                                   True                     gOHM   \n6                                   True                     gOHM   \n7                                   True                     gOHM   \n0                                   True                     gOHM   \n1                                   True                     gOHM   \n2                                   True                     gOHM   \n3                                   True                     gOHM   \n4                                   True                     gOHM   \n5                                   True                     gOHM   \n6                                   True                     gOHM   \n7                                   True                     gOHM   \n\n   transaction_asset_decimals  transaction_asset_lastPriceUSD  \\\n0                          18                     2855.939479   \n1                          18                     2855.939479   \n2                          18                     2855.939479   \n3                          18                     2855.939479   \n4                          18                     2855.939479   \n5                          18                     2855.939479   \n6                          18                     2855.939479   \n7                          18                     2855.939479   \n0                          18                     2855.939479   \n1                          18                     2855.939479   \n2                          18                     2855.939479   \n3                          18                     2855.939479   \n4                          18                     2855.939479   \n5                          18                     2855.939479   \n6                          18                     2855.939479   \n7                          18                     2855.939479   \n\n   transaction_amount  naturalAmount  \\\n0        2.500004e+19      25.000039   \n1        6.439304e+19      64.393035   \n2        3.600000e+19      36.000000   \n3        1.960712e+19      19.607121   \n4        1.947982e+17       0.194798   \n5        2.000000e+19      20.000000   \n6        2.252766e+18       2.252766   \n7        2.000000e+16       0.020000   \n0        2.500004e+19      25.000039   \n1        6.439304e+19      64.393035   \n2        3.600000e+19      36.000000   \n3        1.960712e+19      19.607121   \n4        1.947982e+17       0.194798   \n5        2.000000e+19      20.000000   \n6        2.252766e+18       2.252766   \n7        2.000000e+16       0.020000   \n\n                                    transaction_hash             dateTime  \\\n0  0xf4707edc29622f90030af624d1918ff5ae613cef90d8...  2023-02-15 15:27:47   \n1  0x85b689883076aa92af0a2356f8e4084610578bb48590...  2023-02-15 14:49:59   \n2  0xd931b79cfc34df088f325e8adde9122af7ad64a0ba30...  2023-02-14 16:23:59   \n3  0xed87a5e09b9abe135be66d51493eca516d78aaf1d4d5...  2023-02-09 06:27:35   \n4  0xcfa1e8a102e407470f7cc479576cceab5f872c1a1377...  2023-02-07 02:45:47   \n5  0xb8682e4d0d5fe1297f21ff66347debdfc75c3956612d...  2023-01-25 10:09:35   \n6  0xcc9db9a7563b473c4b8e4ca0f4f7fb90ca709b022469...  2023-01-09 02:06:59   \n7  0x3cf3a5658c3ef1a247ec241370a3abfeb673251eafec...  2022-12-13 13:37:23   \n0  0xf4707edc29622f90030af624d1918ff5ae613cef90d8...  2023-02-15 15:27:47   \n1  0x85b689883076aa92af0a2356f8e4084610578bb48590...  2023-02-15 14:49:59   \n2  0xd931b79cfc34df088f325e8adde9122af7ad64a0ba30...  2023-02-14 16:23:59   \n3  0xed87a5e09b9abe135be66d51493eca516d78aaf1d4d5...  2023-02-09 06:27:35   \n4  0xcfa1e8a102e407470f7cc479576cceab5f872c1a1377...  2023-02-07 02:45:47   \n5  0xb8682e4d0d5fe1297f21ff66347debdfc75c3956612d...  2023-01-25 10:09:35   \n6  0xcc9db9a7563b473c4b8e4ca0f4f7fb90ca709b022469...  2023-01-09 02:06:59   \n7  0x3cf3a5658c3ef1a247ec241370a3abfeb673251eafec...  2022-12-13 13:37:23   \n\n               calDate  \n0  2023-02-15 00:00:00  \n1  2023-02-15 00:00:00  \n2  2023-02-14 00:00:00  \n3  2023-02-09 00:00:00  \n4  2023-02-07 00:00:00  \n5  2023-01-25 00:00:00  \n6  2023-01-09 00:00:00  \n7  2022-12-13 00:00:00  \n0           2023-02-15  \n1           2023-02-15  \n2           2023-02-14  \n3           2023-02-09  \n4           2023-02-07  \n5           2023-01-25  \n6           2023-01-09  \n7           2022-12-13  ",
      "text/html": "<div>\n<style scoped>\n    .dataframe tbody tr th:only-of-type {\n        vertical-align: middle;\n    }\n\n    .dataframe tbody tr th {\n        vertical-align: top;\n    }\n\n    .dataframe thead th {\n        text-align: right;\n    }\n</style>\n<table border=\"1\" class=\"dataframe\">\n  <thead>\n    <tr style=\"text-align: right;\">\n      <th></th>\n      <th>transaction_id</th>\n      <th>transaction_blockNumber</th>\n      <th>transaction_account_id</th>\n      <th>transaction_market_id</th>\n      <th>transaction_market_canUseAsCollateral</th>\n      <th>transaction_asset_symbol</th>\n      <th>transaction_asset_decimals</th>\n      <th>transaction_asset_lastPriceUSD</th>\n      <th>transaction_amount</th>\n      <th>naturalAmount</th>\n      <th>transaction_hash</th>\n      <th>dateTime</th>\n      <th>calDate</th>\n    </tr>\n  </thead>\n  <tbody>\n    <tr>\n      <th>0</th>\n      <td>0xf4707edc29622f90030af624d1918ff5ae613cef90d8...</td>\n      <td>16635032</td>\n      <td>0x0493bcca897a2248ae3cd4c66aea90dbfc7e13c6</td>\n      <td>0xc413dd03555f3eb29d834b482d386b2999dc2eb0</td>\n      <td>True</td>\n      <td>gOHM</td>\n      <td>18</td>\n      <td>2855.939479</td>\n      <td>2.500004e+19</td>\n      <td>25.000039</td>\n      <td>0xf4707edc29622f90030af624d1918ff5ae613cef90d8...</td>\n      <td>2023-02-15 15:27:47</td>\n      <td>2023-02-15 00:00:00</td>\n    </tr>\n    <tr>\n      <th>1</th>\n      <td>0x85b689883076aa92af0a2356f8e4084610578bb48590...</td>\n      <td>16634844</td>\n      <td>0xb0399dac8f4d4100b49b2a7b3873481114229d18</td>\n      <td>0xc413dd03555f3eb29d834b482d386b2999dc2eb0</td>\n      <td>True</td>\n      <td>gOHM</td>\n      <td>18</td>\n      <td>2855.939479</td>\n      <td>6.439304e+19</td>\n      <td>64.393035</td>\n      <td>0x85b689883076aa92af0a2356f8e4084610578bb48590...</td>\n      <td>2023-02-15 14:49:59</td>\n      <td>2023-02-15 00:00:00</td>\n    </tr>\n    <tr>\n      <th>2</th>\n      <td>0xd931b79cfc34df088f325e8adde9122af7ad64a0ba30...</td>\n      <td>16628161</td>\n      <td>0xb0399dac8f4d4100b49b2a7b3873481114229d18</td>\n      <td>0xc413dd03555f3eb29d834b482d386b2999dc2eb0</td>\n      <td>True</td>\n      <td>gOHM</td>\n      <td>18</td>\n      <td>2855.939479</td>\n      <td>3.600000e+19</td>\n      <td>36.000000</td>\n      <td>0xd931b79cfc34df088f325e8adde9122af7ad64a0ba30...</td>\n      <td>2023-02-14 16:23:59</td>\n      <td>2023-02-14 00:00:00</td>\n    </tr>\n    <tr>\n      <th>3</th>\n      <td>0xed87a5e09b9abe135be66d51493eca516d78aaf1d4d5...</td>\n      <td>16589407</td>\n      <td>0xb0399dac8f4d4100b49b2a7b3873481114229d18</td>\n      <td>0xc413dd03555f3eb29d834b482d386b2999dc2eb0</td>\n      <td>True</td>\n      <td>gOHM</td>\n      <td>18</td>\n      <td>2855.939479</td>\n      <td>1.960712e+19</td>\n      <td>19.607121</td>\n      <td>0xed87a5e09b9abe135be66d51493eca516d78aaf1d4d5...</td>\n      <td>2023-02-09 06:27:35</td>\n      <td>2023-02-09 00:00:00</td>\n    </tr>\n    <tr>\n      <th>4</th>\n      <td>0xcfa1e8a102e407470f7cc479576cceab5f872c1a1377...</td>\n      <td>16574012</td>\n      <td>0xd3064611b24eba7a6dbcbc26c1b35dfee1170880</td>\n      <td>0xc413dd03555f3eb29d834b482d386b2999dc2eb0</td>\n      <td>True</td>\n      <td>gOHM</td>\n      <td>18</td>\n      <td>2855.939479</td>\n      <td>1.947982e+17</td>\n      <td>0.194798</td>\n      <td>0xcfa1e8a102e407470f7cc479576cceab5f872c1a1377...</td>\n      <td>2023-02-07 02:45:47</td>\n      <td>2023-02-07 00:00:00</td>\n    </tr>\n    <tr>\n      <th>5</th>\n      <td>0xb8682e4d0d5fe1297f21ff66347debdfc75c3956612d...</td>\n      <td>16483146</td>\n      <td>0xee1520f94f304e8d551cbf310fe214212e3ca34a</td>\n      <td>0xc413dd03555f3eb29d834b482d386b2999dc2eb0</td>\n      <td>True</td>\n      <td>gOHM</td>\n      <td>18</td>\n      <td>2855.939479</td>\n      <td>2.000000e+19</td>\n      <td>20.000000</td>\n      <td>0xb8682e4d0d5fe1297f21ff66347debdfc75c3956612d...</td>\n      <td>2023-01-25 10:09:35</td>\n      <td>2023-01-25 00:00:00</td>\n    </tr>\n    <tr>\n      <th>6</th>\n      <td>0xcc9db9a7563b473c4b8e4ca0f4f7fb90ca709b022469...</td>\n      <td>16366146</td>\n      <td>0x25fdda95197f804316f5ba8dbb66ac173ee19981</td>\n      <td>0xc413dd03555f3eb29d834b482d386b2999dc2eb0</td>\n      <td>True</td>\n      <td>gOHM</td>\n      <td>18</td>\n      <td>2855.939479</td>\n      <td>2.252766e+18</td>\n      <td>2.252766</td>\n      <td>0xcc9db9a7563b473c4b8e4ca0f4f7fb90ca709b022469...</td>\n      <td>2023-01-09 02:06:59</td>\n      <td>2023-01-09 00:00:00</td>\n    </tr>\n    <tr>\n      <th>7</th>\n      <td>0x3cf3a5658c3ef1a247ec241370a3abfeb673251eafec...</td>\n      <td>16176122</td>\n      <td>0x791d1ec51d931186c1d4b80e753b7155dd98f741</td>\n      <td>0xc413dd03555f3eb29d834b482d386b2999dc2eb0</td>\n      <td>True</td>\n      <td>gOHM</td>\n      <td>18</td>\n      <td>2855.939479</td>\n      <td>2.000000e+16</td>\n      <td>0.020000</td>\n      <td>0x3cf3a5658c3ef1a247ec241370a3abfeb673251eafec...</td>\n      <td>2022-12-13 13:37:23</td>\n      <td>2022-12-13 00:00:00</td>\n    </tr>\n    <tr>\n      <th>0</th>\n      <td>0xf4707edc29622f90030af624d1918ff5ae613cef90d8...</td>\n      <td>16635032</td>\n      <td>0x0493bcca897a2248ae3cd4c66aea90dbfc7e13c6</td>\n      <td>0xc413dd03555f3eb29d834b482d386b2999dc2eb0</td>\n      <td>True</td>\n      <td>gOHM</td>\n      <td>18</td>\n      <td>2855.939479</td>\n      <td>2.500004e+19</td>\n      <td>25.000039</td>\n      <td>0xf4707edc29622f90030af624d1918ff5ae613cef90d8...</td>\n      <td>2023-02-15 15:27:47</td>\n      <td>2023-02-15</td>\n    </tr>\n    <tr>\n      <th>1</th>\n      <td>0x85b689883076aa92af0a2356f8e4084610578bb48590...</td>\n      <td>16634844</td>\n      <td>0xb0399dac8f4d4100b49b2a7b3873481114229d18</td>\n      <td>0xc413dd03555f3eb29d834b482d386b2999dc2eb0</td>\n      <td>True</td>\n      <td>gOHM</td>\n      <td>18</td>\n      <td>2855.939479</td>\n      <td>6.439304e+19</td>\n      <td>64.393035</td>\n      <td>0x85b689883076aa92af0a2356f8e4084610578bb48590...</td>\n      <td>2023-02-15 14:49:59</td>\n      <td>2023-02-15</td>\n    </tr>\n    <tr>\n      <th>2</th>\n      <td>0xd931b79cfc34df088f325e8adde9122af7ad64a0ba30...</td>\n      <td>16628161</td>\n      <td>0xb0399dac8f4d4100b49b2a7b3873481114229d18</td>\n      <td>0xc413dd03555f3eb29d834b482d386b2999dc2eb0</td>\n      <td>True</td>\n      <td>gOHM</td>\n      <td>18</td>\n      <td>2855.939479</td>\n      <td>3.600000e+19</td>\n      <td>36.000000</td>\n      <td>0xd931b79cfc34df088f325e8adde9122af7ad64a0ba30...</td>\n      <td>2023-02-14 16:23:59</td>\n      <td>2023-02-14</td>\n    </tr>\n    <tr>\n      <th>3</th>\n      <td>0xed87a5e09b9abe135be66d51493eca516d78aaf1d4d5...</td>\n      <td>16589407</td>\n      <td>0xb0399dac8f4d4100b49b2a7b3873481114229d18</td>\n      <td>0xc413dd03555f3eb29d834b482d386b2999dc2eb0</td>\n      <td>True</td>\n      <td>gOHM</td>\n      <td>18</td>\n      <td>2855.939479</td>\n      <td>1.960712e+19</td>\n      <td>19.607121</td>\n      <td>0xed87a5e09b9abe135be66d51493eca516d78aaf1d4d5...</td>\n      <td>2023-02-09 06:27:35</td>\n      <td>2023-02-09</td>\n    </tr>\n    <tr>\n      <th>4</th>\n      <td>0xcfa1e8a102e407470f7cc479576cceab5f872c1a1377...</td>\n      <td>16574012</td>\n      <td>0xd3064611b24eba7a6dbcbc26c1b35dfee1170880</td>\n      <td>0xc413dd03555f3eb29d834b482d386b2999dc2eb0</td>\n      <td>True</td>\n      <td>gOHM</td>\n      <td>18</td>\n      <td>2855.939479</td>\n      <td>1.947982e+17</td>\n      <td>0.194798</td>\n      <td>0xcfa1e8a102e407470f7cc479576cceab5f872c1a1377...</td>\n      <td>2023-02-07 02:45:47</td>\n      <td>2023-02-07</td>\n    </tr>\n    <tr>\n      <th>5</th>\n      <td>0xb8682e4d0d5fe1297f21ff66347debdfc75c3956612d...</td>\n      <td>16483146</td>\n      <td>0xee1520f94f304e8d551cbf310fe214212e3ca34a</td>\n      <td>0xc413dd03555f3eb29d834b482d386b2999dc2eb0</td>\n      <td>True</td>\n      <td>gOHM</td>\n      <td>18</td>\n      <td>2855.939479</td>\n      <td>2.000000e+19</td>\n      <td>20.000000</td>\n      <td>0xb8682e4d0d5fe1297f21ff66347debdfc75c3956612d...</td>\n      <td>2023-01-25 10:09:35</td>\n      <td>2023-01-25</td>\n    </tr>\n    <tr>\n      <th>6</th>\n      <td>0xcc9db9a7563b473c4b8e4ca0f4f7fb90ca709b022469...</td>\n      <td>16366146</td>\n      <td>0x25fdda95197f804316f5ba8dbb66ac173ee19981</td>\n      <td>0xc413dd03555f3eb29d834b482d386b2999dc2eb0</td>\n      <td>True</td>\n      <td>gOHM</td>\n      <td>18</td>\n      <td>2855.939479</td>\n      <td>2.252766e+18</td>\n      <td>2.252766</td>\n      <td>0xcc9db9a7563b473c4b8e4ca0f4f7fb90ca709b022469...</td>\n      <td>2023-01-09 02:06:59</td>\n      <td>2023-01-09</td>\n    </tr>\n    <tr>\n      <th>7</th>\n      <td>0x3cf3a5658c3ef1a247ec241370a3abfeb673251eafec...</td>\n      <td>16176122</td>\n      <td>0x791d1ec51d931186c1d4b80e753b7155dd98f741</td>\n      <td>0xc413dd03555f3eb29d834b482d386b2999dc2eb0</td>\n      <td>True</td>\n      <td>gOHM</td>\n      <td>18</td>\n      <td>2855.939479</td>\n      <td>2.000000e+16</td>\n      <td>0.020000</td>\n      <td>0x3cf3a5658c3ef1a247ec241370a3abfeb673251eafec...</td>\n      <td>2022-12-13 13:37:23</td>\n      <td>2022-12-13</td>\n    </tr>\n  </tbody>\n</table>\n</div>"
     },
     "execution_count": 257,
     "metadata": {},
     "output_type": "execute_result"
    }
   ],
   "source": [
    "withdrawalsDbTimed=pd.concat([withdrawalsDbTimed,oldWithdrawalsDb])\n",
    "withdrawalsDbTimed.drop_duplicates(keep='first' )\n",
    "withdrawalsDbTimed.head(100)"
   ],
   "metadata": {
    "collapsed": false
   }
  },
  {
   "cell_type": "code",
   "execution_count": 258,
   "outputs": [
    {
     "name": "stdout",
     "output_type": "stream",
     "text": [
      "/Users/ianbrillembourg/Dropbox/Documents/Edgecaser LLC/Projects/Olympus/Econohmetrics/Lending/results/Collateral/siloFinance_withdrawals_piped.csv file saved, 16  records\n"
     ]
    }
   ],
   "source": [
    "path =file+'/siloFinance_withdrawals.csv'\n",
    "withdrawalsDbTimed.to_csv(path, index = False)\n",
    "\n",
    "path =file+'/siloFinance_withdrawals_piped.csv'\n",
    "withdrawalsDbTimed.to_csv(path, index = False, sep='|')\n",
    "\n",
    "print(path, 'file saved,', len(withdrawalsDbTimed),' records')"
   ],
   "metadata": {
    "collapsed": false
   }
  },
  {
   "cell_type": "code",
   "execution_count": 259,
   "outputs": [
    {
     "data": {
      "text/plain": "calDate\n2022-12-13 00:00:00     0.020000\n2023-01-09 00:00:00     2.252766\n2023-01-25 00:00:00    20.000000\n2023-02-07 00:00:00     0.194798\n2023-02-09 00:00:00    19.607121\n2023-02-14 00:00:00    36.000000\n2023-02-15 00:00:00    89.393074\n2022-12-13              0.020000\n2023-01-09              2.252766\n2023-01-25             20.000000\n2023-02-07              0.194798\n2023-02-09             19.607121\n2023-02-14             36.000000\n2023-02-15             89.393074\nName: naturalAmount, dtype: float64"
     },
     "execution_count": 259,
     "metadata": {},
     "output_type": "execute_result"
    }
   ],
   "source": [
    "dailySiloCollateral = withdrawalsDbTimed.groupby('calDate')['naturalAmount'].sum()\n",
    "dailySiloCollateral.head(100)"
   ],
   "metadata": {
    "collapsed": false
   }
  },
  {
   "cell_type": "code",
   "execution_count": 260,
   "outputs": [
    {
     "name": "stdout",
     "output_type": "stream",
     "text": [
      "There are 334.94 gOHM available to borrow\n"
     ]
    }
   ],
   "source": [
    "collateral = sum(withdrawalsDbTimed['naturalAmount'])\n",
    "print('There are',round(collateral,2),  'gOHM available to borrow')"
   ],
   "metadata": {
    "collapsed": false
   }
  }
 ],
 "metadata": {
  "kernelspec": {
   "display_name": "Python 3",
   "language": "python",
   "name": "python3"
  },
  "language_info": {
   "codemirror_mode": {
    "name": "ipython",
    "version": 2
   },
   "file_extension": ".py",
   "mimetype": "text/x-python",
   "name": "python",
   "nbconvert_exporter": "python",
   "pygments_lexer": "ipython2",
   "version": "2.7.6"
  }
 },
 "nbformat": 4,
 "nbformat_minor": 0
}
