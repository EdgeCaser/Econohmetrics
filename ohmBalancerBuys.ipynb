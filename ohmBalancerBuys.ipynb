{
 "cells": [
  {
   "cell_type": "code",
   "execution_count": 4,
   "outputs": [],
   "source": [
    "from datetime import datetime\n",
    "from datetime import date\n",
    "from subgrounds.subgraph import SyntheticField, FieldPath\n",
    "from subgrounds.subgrounds import Subgrounds\n",
    "import pandas as pd\n",
    "import duckdb as db\n",
    "import  os as os\n",
    "import seaborn as sns\n",
    "import matplotlib.pyplot as plt"
   ],
   "metadata": {
    "collapsed": false
   }
  },
  {
   "cell_type": "code",
   "execution_count": null,
   "outputs": [],
   "source": [
    "file = input('Selet a folder to save output') ##enter your file path here - the file is in the repo \"summary_stats.csv\"."
   ],
   "metadata": {
    "collapsed": false
   }
  },
  {
   "cell_type": "code",
   "execution_count": 5,
   "outputs": [],
   "source": [
    "sg = Subgrounds()\n",
    "apiKey = input('API Key, please')\n"
   ],
   "metadata": {
    "collapsed": false
   }
  },
  {
   "cell_type": "markdown",
   "source": [
    "0x0595328847AF962F951a4f8F8eE9A3Bf261e4f6b OHM V2 contract"
   ],
   "metadata": {
    "collapsed": false
   }
  },
  {
   "cell_type": "code",
   "execution_count": 105,
   "outputs": [
    {
     "ename": "SyntaxError",
     "evalue": "invalid syntax (3669750111.py, line 17)",
     "output_type": "error",
     "traceback": [
      "\u001B[1;36m  Input \u001B[1;32mIn [105]\u001B[1;36m\u001B[0m\n\u001B[1;33m    swaps.*\u001B[0m\n\u001B[1;37m          ^\u001B[0m\n\u001B[1;31mSyntaxError\u001B[0m\u001B[1;31m:\u001B[0m invalid syntax\n"
     ]
    }
   ],
   "source": [
    "##BALANCER POOLS\n",
    "balancer = sg.load_api('https://gateway.thegraph.com/api/'+apiKey+'/subgraphs/id/Ei5typKWPepPSgqkaKf3p5bPhgJesnu1RuRpyt69Pcrx')\n",
    "listLength=1000\n",
    "trigger=0\n",
    "pool_list = pd.DataFrame()\n",
    "\n",
    "\n",
    "swaps = balancer.Query.swaps(\n",
    "        orderBy='id',\n",
    "        orderDirection='desc',\n",
    "        first=1000,\n",
    "        where={ 'tokenOut': '0x0595328847AF962F951a4f8F8eE9A3Bf261e4f6b' }\n",
    "\n",
    "    )\n",
    "\n",
    "swapsData = sg.query_df([\n",
    "    swaps.id\n",
    "    ,swaps.hash\n",
    "    ,swaps.logIndex\n",
    "    ,swaps.to\n",
    "    ,swaps.from\n",
    "    ,swaps.blockNumber\n",
    "    ,swaps.timestamp\n",
    "    ,swaps.tokenIn\n",
    "    ,swaps.tokenOut\n",
    "    ,swaps.amountIn\n",
    "    ,swaps.amountInUSD\n",
    "    ,swaps.amountOutUSD\n",
    "\n",
    "])\n",
    "swapsData.head(10)"
   ],
   "metadata": {
    "collapsed": false
   }
  },
  {
   "cell_type": "code",
   "execution_count": 92,
   "outputs": [
    {
     "data": {
      "text/plain": "                                              swaps_id  \\\n0    swap-0x000e2593fe5c3f23966e1d2b778f86b319c7352...   \n1    swap-0x00261f27ca2ccec40ed8fb39715a6f28241c1fd...   \n2    swap-0x0028bbc3f1b5ee4770893ca995cdf5791c7476c...   \n3    swap-0x003166c9d96aa41b7361eedc1a0714685b5ba23...   \n4    swap-0x004178ae9e3529d0f2d4e7342fc03ffeb686530...   \n..                                                 ...   \n995  swap-0x21f4d65ff36f57b6cf86fd978b1fbe1529c3b6f...   \n996  swap-0x21fd426c8ca5ec8fcdbeab92165f49cc1d5ee44...   \n997  swap-0x22041f31a86f101fcfcc81f631abaabbf1d2ee8...   \n998  swap-0x220a9328a5ef4f6d2681a715b215e3f9c06f074...   \n999  swap-0x220e0d5a0a8c6fa6aa0f2eec69acb6c1392d316...   \n\n                                            swaps_hash  swaps_logIndex  \\\n0    0x000e2593fe5c3f23966e1d2b778f86b319c7352f6f23...               1   \n1    0x00261f27ca2ccec40ed8fb39715a6f28241c1fd36b08...              37   \n2    0x0028bbc3f1b5ee4770893ca995cdf5791c7476c76853...               7   \n3    0x003166c9d96aa41b7361eedc1a0714685b5ba23f5d8c...              14   \n4    0x004178ae9e3529d0f2d4e7342fc03ffeb686530d5005...             168   \n..                                                 ...             ...   \n995  0x21f4d65ff36f57b6cf86fd978b1fbe1529c3b6fc6066...               2   \n996  0x21fd426c8ca5ec8fcdbeab92165f49cc1d5ee44a9e72...              13   \n997  0x22041f31a86f101fcfcc81f631abaabbf1d2ee8789d4...               8   \n998  0x220a9328a5ef4f6d2681a715b215e3f9c06f0743c7ea...             152   \n999  0x220e0d5a0a8c6fa6aa0f2eec69acb6c1392d316498c5...               1   \n\n                                       swaps_to  swaps_blockNumber  \\\n0    0xd1ec5e215e8148d76f4460e4097fd3d5ae0a3558           16141545   \n1    0xc45d42f801105e861e86658648e3678ad7aa70f9           15674575   \n2    0xf5f6fb82649df7991054ef796c39da81b93364df           15935162   \n3    0x2de32a7c98c3ef6ec79e703500e8ca5b2ec819aa           15814847   \n4    0x76fcf0e8c7ff37a47a799fa2cd4c13cde0d981c9           16486105   \n..                                          ...                ...   \n995  0xd1ec5e215e8148d76f4460e4097fd3d5ae0a3558           16360452   \n996  0x76fcf0e8c7ff37a47a799fa2cd4c13cde0d981c9           16079786   \n997  0xc45d42f801105e861e86658648e3678ad7aa70f9           15615257   \n998  0xc45d42f801105e861e86658648e3678ad7aa70f9           15920265   \n999  0x76fcf0e8c7ff37a47a799fa2cd4c13cde0d981c9           16461994   \n\n     swaps_timestamp                            swaps_tokenIn_id  \\\n0         1670521247  0xc02aaa39b223fe8d0a0e5c4f27ead9083c756cc2   \n1         1664884127  0x6b175474e89094c44da98b954eedeac495271d0f   \n2         1668029519  0x0391d2021f89dc339f60fff84546ea23e337750f   \n3         1666576871  0xc55126051b22ebb829d00368f4b12bde432de5da   \n4         1674677111  0x6b175474e89094c44da98b954eedeac495271d0f   \n..               ...                                         ...   \n995       1673161355  0xc02aaa39b223fe8d0a0e5c4f27ead9083c756cc2   \n996       1669774895  0x6b175474e89094c44da98b954eedeac495271d0f   \n997       1664167655  0xc02aaa39b223fe8d0a0e5c4f27ead9083c756cc2   \n998       1667849651  0x6b175474e89094c44da98b954eedeac495271d0f   \n999       1674386327  0x6b175474e89094c44da98b954eedeac495271d0f   \n\n              swaps_tokenIn_name swaps_tokenIn_symbol  swaps_tokenIn_decimals  \\\n0                  Wrapped Ether                 WETH                      18   \n1                 Dai Stablecoin                  DAI                      18   \n2    BarnBridge Governance Token                 BOND                      18   \n3                         BTRFLY               BTRFLY                      18   \n4                 Dai Stablecoin                  DAI                      18   \n..                           ...                  ...                     ...   \n995                Wrapped Ether                 WETH                      18   \n996               Dai Stablecoin                  DAI                      18   \n997                Wrapped Ether                 WETH                      18   \n998               Dai Stablecoin                  DAI                      18   \n999               Dai Stablecoin                  DAI                      18   \n\n     ...  swaps_tokenIn_lastPriceBlockNumber  \\\n0    ...                            16571427   \n1    ...                            16570178   \n2    ...                            16562805   \n3    ...                            16567274   \n4    ...                            16570178   \n..   ...                                 ...   \n995  ...                            16571427   \n996  ...                            16570178   \n997  ...                            16571427   \n998  ...                            16570178   \n999  ...                            16570178   \n\n                              swaps_tokenOut_id swaps_tokenOut_name  \\\n0    0x64aa3364f17a4d01c6f1751fd97c2bd3d7e7f1d5             Olympus   \n1    0x64aa3364f17a4d01c6f1751fd97c2bd3d7e7f1d5             Olympus   \n2    0x64aa3364f17a4d01c6f1751fd97c2bd3d7e7f1d5             Olympus   \n3    0x64aa3364f17a4d01c6f1751fd97c2bd3d7e7f1d5             Olympus   \n4    0x64aa3364f17a4d01c6f1751fd97c2bd3d7e7f1d5             Olympus   \n..                                          ...                 ...   \n995  0x64aa3364f17a4d01c6f1751fd97c2bd3d7e7f1d5             Olympus   \n996  0x64aa3364f17a4d01c6f1751fd97c2bd3d7e7f1d5             Olympus   \n997  0x64aa3364f17a4d01c6f1751fd97c2bd3d7e7f1d5             Olympus   \n998  0x64aa3364f17a4d01c6f1751fd97c2bd3d7e7f1d5             Olympus   \n999  0x64aa3364f17a4d01c6f1751fd97c2bd3d7e7f1d5             Olympus   \n\n    swaps_tokenOut_symbol swaps_tokenOut_decimals  \\\n0                     OHM                       9   \n1                     OHM                       9   \n2                     OHM                       9   \n3                     OHM                       9   \n4                     OHM                       9   \n..                    ...                     ...   \n995                   OHM                       9   \n996                   OHM                       9   \n997                   OHM                       9   \n998                   OHM                       9   \n999                   OHM                       9   \n\n     swaps_tokenOut_lastPriceUSD  swaps_tokenOut_lastPriceBlockNumber  \\\n0                      10.139967                             16570566   \n1                      10.139967                             16570566   \n2                      10.139967                             16570566   \n3                      10.139967                             16570566   \n4                      10.139967                             16570566   \n..                           ...                                  ...   \n995                    10.139967                             16570566   \n996                    10.139967                             16570566   \n997                    10.139967                             16570566   \n998                    10.139967                             16570566   \n999                    10.139967                             16570566   \n\n              swaps_amountIn swaps_amountInUSD  swaps_amountOutUSD  \n0        9320090094667140849      11459.385363        11656.563129  \n1     8000000000000000000000       7997.128000         8096.423678  \n2     1339992067254643668714      15619.865430         4908.255983  \n3        3886672819991811262        819.331346          805.128305  \n4    10688011466300598921216      10689.261964        10613.069420  \n..                       ...               ...                 ...  \n995     15810846109130262368      20005.665044        19878.014226  \n996   2805276725772557717339       2804.053625         2690.124473  \n997     13262830268142497492      17334.715716        17037.819660  \n998  19981165061428525203070      19981.165061        19656.567393  \n999   3109336638128292948675       3108.593507         3074.887335  \n\n[1000 rows x 21 columns]",
      "text/html": "<div>\n<style scoped>\n    .dataframe tbody tr th:only-of-type {\n        vertical-align: middle;\n    }\n\n    .dataframe tbody tr th {\n        vertical-align: top;\n    }\n\n    .dataframe thead th {\n        text-align: right;\n    }\n</style>\n<table border=\"1\" class=\"dataframe\">\n  <thead>\n    <tr style=\"text-align: right;\">\n      <th></th>\n      <th>swaps_id</th>\n      <th>swaps_hash</th>\n      <th>swaps_logIndex</th>\n      <th>swaps_to</th>\n      <th>swaps_blockNumber</th>\n      <th>swaps_timestamp</th>\n      <th>swaps_tokenIn_id</th>\n      <th>swaps_tokenIn_name</th>\n      <th>swaps_tokenIn_symbol</th>\n      <th>swaps_tokenIn_decimals</th>\n      <th>...</th>\n      <th>swaps_tokenIn_lastPriceBlockNumber</th>\n      <th>swaps_tokenOut_id</th>\n      <th>swaps_tokenOut_name</th>\n      <th>swaps_tokenOut_symbol</th>\n      <th>swaps_tokenOut_decimals</th>\n      <th>swaps_tokenOut_lastPriceUSD</th>\n      <th>swaps_tokenOut_lastPriceBlockNumber</th>\n      <th>swaps_amountIn</th>\n      <th>swaps_amountInUSD</th>\n      <th>swaps_amountOutUSD</th>\n    </tr>\n  </thead>\n  <tbody>\n    <tr>\n      <th>0</th>\n      <td>swap-0x000e2593fe5c3f23966e1d2b778f86b319c7352...</td>\n      <td>0x000e2593fe5c3f23966e1d2b778f86b319c7352f6f23...</td>\n      <td>1</td>\n      <td>0xd1ec5e215e8148d76f4460e4097fd3d5ae0a3558</td>\n      <td>16141545</td>\n      <td>1670521247</td>\n      <td>0xc02aaa39b223fe8d0a0e5c4f27ead9083c756cc2</td>\n      <td>Wrapped Ether</td>\n      <td>WETH</td>\n      <td>18</td>\n      <td>...</td>\n      <td>16571427</td>\n      <td>0x64aa3364f17a4d01c6f1751fd97c2bd3d7e7f1d5</td>\n      <td>Olympus</td>\n      <td>OHM</td>\n      <td>9</td>\n      <td>10.139967</td>\n      <td>16570566</td>\n      <td>9320090094667140849</td>\n      <td>11459.385363</td>\n      <td>11656.563129</td>\n    </tr>\n    <tr>\n      <th>1</th>\n      <td>swap-0x00261f27ca2ccec40ed8fb39715a6f28241c1fd...</td>\n      <td>0x00261f27ca2ccec40ed8fb39715a6f28241c1fd36b08...</td>\n      <td>37</td>\n      <td>0xc45d42f801105e861e86658648e3678ad7aa70f9</td>\n      <td>15674575</td>\n      <td>1664884127</td>\n      <td>0x6b175474e89094c44da98b954eedeac495271d0f</td>\n      <td>Dai Stablecoin</td>\n      <td>DAI</td>\n      <td>18</td>\n      <td>...</td>\n      <td>16570178</td>\n      <td>0x64aa3364f17a4d01c6f1751fd97c2bd3d7e7f1d5</td>\n      <td>Olympus</td>\n      <td>OHM</td>\n      <td>9</td>\n      <td>10.139967</td>\n      <td>16570566</td>\n      <td>8000000000000000000000</td>\n      <td>7997.128000</td>\n      <td>8096.423678</td>\n    </tr>\n    <tr>\n      <th>2</th>\n      <td>swap-0x0028bbc3f1b5ee4770893ca995cdf5791c7476c...</td>\n      <td>0x0028bbc3f1b5ee4770893ca995cdf5791c7476c76853...</td>\n      <td>7</td>\n      <td>0xf5f6fb82649df7991054ef796c39da81b93364df</td>\n      <td>15935162</td>\n      <td>1668029519</td>\n      <td>0x0391d2021f89dc339f60fff84546ea23e337750f</td>\n      <td>BarnBridge Governance Token</td>\n      <td>BOND</td>\n      <td>18</td>\n      <td>...</td>\n      <td>16562805</td>\n      <td>0x64aa3364f17a4d01c6f1751fd97c2bd3d7e7f1d5</td>\n      <td>Olympus</td>\n      <td>OHM</td>\n      <td>9</td>\n      <td>10.139967</td>\n      <td>16570566</td>\n      <td>1339992067254643668714</td>\n      <td>15619.865430</td>\n      <td>4908.255983</td>\n    </tr>\n    <tr>\n      <th>3</th>\n      <td>swap-0x003166c9d96aa41b7361eedc1a0714685b5ba23...</td>\n      <td>0x003166c9d96aa41b7361eedc1a0714685b5ba23f5d8c...</td>\n      <td>14</td>\n      <td>0x2de32a7c98c3ef6ec79e703500e8ca5b2ec819aa</td>\n      <td>15814847</td>\n      <td>1666576871</td>\n      <td>0xc55126051b22ebb829d00368f4b12bde432de5da</td>\n      <td>BTRFLY</td>\n      <td>BTRFLY</td>\n      <td>18</td>\n      <td>...</td>\n      <td>16567274</td>\n      <td>0x64aa3364f17a4d01c6f1751fd97c2bd3d7e7f1d5</td>\n      <td>Olympus</td>\n      <td>OHM</td>\n      <td>9</td>\n      <td>10.139967</td>\n      <td>16570566</td>\n      <td>3886672819991811262</td>\n      <td>819.331346</td>\n      <td>805.128305</td>\n    </tr>\n    <tr>\n      <th>4</th>\n      <td>swap-0x004178ae9e3529d0f2d4e7342fc03ffeb686530...</td>\n      <td>0x004178ae9e3529d0f2d4e7342fc03ffeb686530d5005...</td>\n      <td>168</td>\n      <td>0x76fcf0e8c7ff37a47a799fa2cd4c13cde0d981c9</td>\n      <td>16486105</td>\n      <td>1674677111</td>\n      <td>0x6b175474e89094c44da98b954eedeac495271d0f</td>\n      <td>Dai Stablecoin</td>\n      <td>DAI</td>\n      <td>18</td>\n      <td>...</td>\n      <td>16570178</td>\n      <td>0x64aa3364f17a4d01c6f1751fd97c2bd3d7e7f1d5</td>\n      <td>Olympus</td>\n      <td>OHM</td>\n      <td>9</td>\n      <td>10.139967</td>\n      <td>16570566</td>\n      <td>10688011466300598921216</td>\n      <td>10689.261964</td>\n      <td>10613.069420</td>\n    </tr>\n    <tr>\n      <th>...</th>\n      <td>...</td>\n      <td>...</td>\n      <td>...</td>\n      <td>...</td>\n      <td>...</td>\n      <td>...</td>\n      <td>...</td>\n      <td>...</td>\n      <td>...</td>\n      <td>...</td>\n      <td>...</td>\n      <td>...</td>\n      <td>...</td>\n      <td>...</td>\n      <td>...</td>\n      <td>...</td>\n      <td>...</td>\n      <td>...</td>\n      <td>...</td>\n      <td>...</td>\n      <td>...</td>\n    </tr>\n    <tr>\n      <th>995</th>\n      <td>swap-0x21f4d65ff36f57b6cf86fd978b1fbe1529c3b6f...</td>\n      <td>0x21f4d65ff36f57b6cf86fd978b1fbe1529c3b6fc6066...</td>\n      <td>2</td>\n      <td>0xd1ec5e215e8148d76f4460e4097fd3d5ae0a3558</td>\n      <td>16360452</td>\n      <td>1673161355</td>\n      <td>0xc02aaa39b223fe8d0a0e5c4f27ead9083c756cc2</td>\n      <td>Wrapped Ether</td>\n      <td>WETH</td>\n      <td>18</td>\n      <td>...</td>\n      <td>16571427</td>\n      <td>0x64aa3364f17a4d01c6f1751fd97c2bd3d7e7f1d5</td>\n      <td>Olympus</td>\n      <td>OHM</td>\n      <td>9</td>\n      <td>10.139967</td>\n      <td>16570566</td>\n      <td>15810846109130262368</td>\n      <td>20005.665044</td>\n      <td>19878.014226</td>\n    </tr>\n    <tr>\n      <th>996</th>\n      <td>swap-0x21fd426c8ca5ec8fcdbeab92165f49cc1d5ee44...</td>\n      <td>0x21fd426c8ca5ec8fcdbeab92165f49cc1d5ee44a9e72...</td>\n      <td>13</td>\n      <td>0x76fcf0e8c7ff37a47a799fa2cd4c13cde0d981c9</td>\n      <td>16079786</td>\n      <td>1669774895</td>\n      <td>0x6b175474e89094c44da98b954eedeac495271d0f</td>\n      <td>Dai Stablecoin</td>\n      <td>DAI</td>\n      <td>18</td>\n      <td>...</td>\n      <td>16570178</td>\n      <td>0x64aa3364f17a4d01c6f1751fd97c2bd3d7e7f1d5</td>\n      <td>Olympus</td>\n      <td>OHM</td>\n      <td>9</td>\n      <td>10.139967</td>\n      <td>16570566</td>\n      <td>2805276725772557717339</td>\n      <td>2804.053625</td>\n      <td>2690.124473</td>\n    </tr>\n    <tr>\n      <th>997</th>\n      <td>swap-0x22041f31a86f101fcfcc81f631abaabbf1d2ee8...</td>\n      <td>0x22041f31a86f101fcfcc81f631abaabbf1d2ee8789d4...</td>\n      <td>8</td>\n      <td>0xc45d42f801105e861e86658648e3678ad7aa70f9</td>\n      <td>15615257</td>\n      <td>1664167655</td>\n      <td>0xc02aaa39b223fe8d0a0e5c4f27ead9083c756cc2</td>\n      <td>Wrapped Ether</td>\n      <td>WETH</td>\n      <td>18</td>\n      <td>...</td>\n      <td>16571427</td>\n      <td>0x64aa3364f17a4d01c6f1751fd97c2bd3d7e7f1d5</td>\n      <td>Olympus</td>\n      <td>OHM</td>\n      <td>9</td>\n      <td>10.139967</td>\n      <td>16570566</td>\n      <td>13262830268142497492</td>\n      <td>17334.715716</td>\n      <td>17037.819660</td>\n    </tr>\n    <tr>\n      <th>998</th>\n      <td>swap-0x220a9328a5ef4f6d2681a715b215e3f9c06f074...</td>\n      <td>0x220a9328a5ef4f6d2681a715b215e3f9c06f0743c7ea...</td>\n      <td>152</td>\n      <td>0xc45d42f801105e861e86658648e3678ad7aa70f9</td>\n      <td>15920265</td>\n      <td>1667849651</td>\n      <td>0x6b175474e89094c44da98b954eedeac495271d0f</td>\n      <td>Dai Stablecoin</td>\n      <td>DAI</td>\n      <td>18</td>\n      <td>...</td>\n      <td>16570178</td>\n      <td>0x64aa3364f17a4d01c6f1751fd97c2bd3d7e7f1d5</td>\n      <td>Olympus</td>\n      <td>OHM</td>\n      <td>9</td>\n      <td>10.139967</td>\n      <td>16570566</td>\n      <td>19981165061428525203070</td>\n      <td>19981.165061</td>\n      <td>19656.567393</td>\n    </tr>\n    <tr>\n      <th>999</th>\n      <td>swap-0x220e0d5a0a8c6fa6aa0f2eec69acb6c1392d316...</td>\n      <td>0x220e0d5a0a8c6fa6aa0f2eec69acb6c1392d316498c5...</td>\n      <td>1</td>\n      <td>0x76fcf0e8c7ff37a47a799fa2cd4c13cde0d981c9</td>\n      <td>16461994</td>\n      <td>1674386327</td>\n      <td>0x6b175474e89094c44da98b954eedeac495271d0f</td>\n      <td>Dai Stablecoin</td>\n      <td>DAI</td>\n      <td>18</td>\n      <td>...</td>\n      <td>16570178</td>\n      <td>0x64aa3364f17a4d01c6f1751fd97c2bd3d7e7f1d5</td>\n      <td>Olympus</td>\n      <td>OHM</td>\n      <td>9</td>\n      <td>10.139967</td>\n      <td>16570566</td>\n      <td>3109336638128292948675</td>\n      <td>3108.593507</td>\n      <td>3074.887335</td>\n    </tr>\n  </tbody>\n</table>\n<p>1000 rows × 21 columns</p>\n</div>"
     },
     "execution_count": 92,
     "metadata": {},
     "output_type": "execute_result"
    }
   ],
   "source": [
    "##BALANCER POOLS\n",
    "balancer = sg.load_api('https://gateway.thegraph.com/api/'+apiKey+'/subgraphs/id/Ei5typKWPepPSgqkaKf3p5bPhgJesnu1RuRpyt69Pcrx')\n",
    "listLength=1000\n",
    "trigger=0\n",
    "pool_list = pd.DataFrame()\n",
    "\n",
    "\n",
    "buys = balancer.Query.swaps(\n",
    "    orderBy='timestamp',\n",
    "    orderDirection='desc',\n",
    "    first=10,\n",
    "    where={ 'tokenOut': '0x64aa3364f17a4d01c6f1751fd97c2bd3d7e7f1d5' }\n",
    "\n",
    ")\n",
    "\n",
    "buysDb = sg.query_df([\n",
    "    swaps.id\n",
    "    ,swaps.hash\n",
    "    ,swaps.logIndex\n",
    "    ,swaps.to\n",
    "    ,swaps.blockNumber\n",
    "    ,swaps.timestamp\n",
    "    ,swaps.tokenIn\n",
    "    ,swaps.tokenOut\n",
    "    ,swaps.amountIn\n",
    "    ,swaps.amountInUSD\n",
    "    ,swaps.amountOutUSD\n",
    "])\n",
    "\n",
    "#buysDb.sort_values(by=['swaps_timestamp'])\n",
    "buysDb.head(1000)"
   ],
   "metadata": {
    "collapsed": false
   }
  },
  {
   "cell_type": "code",
   "execution_count": 96,
   "outputs": [
    {
     "name": "stdout",
     "output_type": "stream",
     "text": [
      "iterations:  0 Lines skipped:  0 records collected:  1000  - buys DB length:  1000  - latest record from:  2023-02-06 16:18:23 0 days ago\n",
      "iterations:  1 Lines skipped:  1000 records collected:  2000  - buys DB length:  1000  - latest record from:  2023-01-15 09:32:11 22 days ago\n",
      "iterations:  2 Lines skipped:  2000 records collected:  3000  - buys DB length:  1000  - latest record from:  2022-12-11 18:55:47 57 days ago\n",
      "Done. Total Records collected:  3000\n"
     ]
    }
   ],
   "source": [
    "buysListLength=0\n",
    "buysTicker = 0\n",
    "OhmBuyersDb = pd.DataFrame()\n",
    "buysDb = pd.DataFrame()\n",
    "buysListLength = 1000\n",
    "\n",
    "datediff = 0\n",
    "now=0\n",
    "daysAgo=0\n",
    "daysLimit = 45\n",
    "\n",
    "while daysAgo<=daysLimit:\n",
    "    skipValue = (buysTicker)*(1000)\n",
    "    swaps = balancer.Query.swaps(\n",
    "        orderBy='timestamp',\n",
    "        orderDirection='desc',\n",
    "        first=1000,\n",
    "        skip = skipValue,\n",
    "        where={ 'tokenOut': '0x64aa3364f17a4d01c6f1751fd97c2bd3d7e7f1d5' }\n",
    "\n",
    "    )\n",
    "\n",
    "    buysDb = sg.query_df([\n",
    "        swaps.id\n",
    "        ,swaps.hash\n",
    "        ,swaps.logIndex\n",
    "        ,swaps.to\n",
    "        ,swaps.blockNumber\n",
    "        ,swaps.timestamp\n",
    "        ,swaps.tokenIn\n",
    "        ,swaps.tokenOut\n",
    "        ,swaps.amountIn\n",
    "        ,swaps.amountInUSD\n",
    "        ,swaps.amountOutUSD\n",
    "    ])\n",
    "\n",
    "    buysDb.sort_values(by=['swaps_timestamp'])\n",
    "\n",
    "    OhmBuyersDb=pd.concat([buysDb, OhmBuyersDb])\n",
    "\n",
    "    recordTimestamp1 = buysDb.iat[buysTicker,5]\n",
    "    recordTimestamp = datetime.fromtimestamp( recordTimestamp1 )\n",
    "\n",
    "    now = (int(datetime.utcnow().timestamp()))\n",
    "\n",
    "    datediff=abs(int(now) - recordTimestamp1)\n",
    "\n",
    "    daysAgo = int(datediff/86400)\n",
    "\n",
    "    buyersDbLength = len(OhmBuyersDb)\n",
    "    buysListLength = len(buysDb)\n",
    "\n",
    "    recordID = buysDb.iat[buysTicker,0]\n",
    "    print(\"iterations: \", buysTicker, \"Lines skipped: \",skipValue, \"records collected: \", buyersDbLength, \" - buys DB length: \", buysListLength, \" - latest record from: \", recordTimestamp, daysAgo,\"days ago\")\n",
    "    buysTicker = buysTicker+1\n",
    "\n",
    "print(\"Done. Total Records collected: \", buyersDbLength)"
   ],
   "metadata": {
    "collapsed": false
   }
  },
  {
   "cell_type": "code",
   "execution_count": 106,
   "outputs": [
    {
     "data": {
      "text/plain": "                                            swaps_id  \\\n0  swap-0x664bdd80202b710390fcdec768da972263bb949...   \n1  swap-0x1afe5f2201a23a9c01598f146373f6ceeb5ebc4...   \n2  swap-0xecd2cb97ca88776f9b06aaf40a27120eb51367e...   \n3  swap-0xb5a715698330057bf057b2cd160c6711a1f962d...   \n4  swap-0x105cba540838f759127c276160c9105a228944c...   \n5  swap-0xd15dbfc3b668caf025be0ac0989cb3dbe0a01ee...   \n6  swap-0x710e03ba3d1a9a61da68a7187ef39d15c68068f...   \n7  swap-0xe29913281fae49c81ebed3fc0e8c2e2ec798543...   \n8  swap-0x4ff63a93a9f5f9393789c7e07fbf18921c49f48...   \n9  swap-0xd60fa1832be4b554521ac6b05bb3392b29eaa6c...   \n\n                                          swaps_hash  swaps_logIndex  \\\n0  0x664bdd80202b710390fcdec768da972263bb9493f50f...             126   \n1  0x1afe5f2201a23a9c01598f146373f6ceeb5ebc426293...              23   \n2  0xecd2cb97ca88776f9b06aaf40a27120eb51367e5151e...               4   \n3  0xb5a715698330057bf057b2cd160c6711a1f962d23aef...              16   \n4  0x105cba540838f759127c276160c9105a228944c9a5c5...               5   \n5  0xd15dbfc3b668caf025be0ac0989cb3dbe0a01ee3c2ea...               0   \n6  0x710e03ba3d1a9a61da68a7187ef39d15c68068f056a0...              85   \n7  0xe29913281fae49c81ebed3fc0e8c2e2ec7985434eb3c...               1   \n8  0x4ff63a93a9f5f9393789c7e07fbf18921c49f4800ae9...              10   \n9  0xd60fa1832be4b554521ac6b05bb3392b29eaa6cbd666...               0   \n\n                                     swaps_to  swaps_blockNumber  \\\n0  0x76fcf0e8c7ff37a47a799fa2cd4c13cde0d981c9           16166119   \n1  0xd1ec5e215e8148d76f4460e4097fd3d5ae0a3558           16165790   \n2  0xd1ec5e215e8148d76f4460e4097fd3d5ae0a3558           16165781   \n3  0xd1ec5e215e8148d76f4460e4097fd3d5ae0a3558           16165775   \n4  0x2de32a7c98c3ef6ec79e703500e8ca5b2ec819aa           16165769   \n5  0xf5f6fb82649df7991054ef796c39da81b93364df           16165589   \n6  0xc45d42f801105e861e86658648e3678ad7aa70f9           16165417   \n7  0xf5f6fb82649df7991054ef796c39da81b93364df           16165398   \n8  0x76fcf0e8c7ff37a47a799fa2cd4c13cde0d981c9           16165397   \n9  0xc45d42f801105e861e86658648e3678ad7aa70f9           16165388   \n\n   swaps_timestamp                            swaps_tokenIn_id  \\\n0       1670817815  0x6b175474e89094c44da98b954eedeac495271d0f   \n1       1670813855  0xc02aaa39b223fe8d0a0e5c4f27ead9083c756cc2   \n2       1670813747  0xc02aaa39b223fe8d0a0e5c4f27ead9083c756cc2   \n3       1670813675  0xc02aaa39b223fe8d0a0e5c4f27ead9083c756cc2   \n4       1670813603  0xc55126051b22ebb829d00368f4b12bde432de5da   \n5       1670811443  0x0391d2021f89dc339f60fff84546ea23e337750f   \n6       1670809355  0xc02aaa39b223fe8d0a0e5c4f27ead9083c756cc2   \n7       1670809127  0x0391d2021f89dc339f60fff84546ea23e337750f   \n8       1670809115  0x6b175474e89094c44da98b954eedeac495271d0f   \n9       1670809007  0xc02aaa39b223fe8d0a0e5c4f27ead9083c756cc2   \n\n            swaps_tokenIn_name swaps_tokenIn_symbol  swaps_tokenIn_decimals  \\\n0               Dai Stablecoin                  DAI                      18   \n1                Wrapped Ether                 WETH                      18   \n2                Wrapped Ether                 WETH                      18   \n3                Wrapped Ether                 WETH                      18   \n4                       BTRFLY               BTRFLY                      18   \n5  BarnBridge Governance Token                 BOND                      18   \n6                Wrapped Ether                 WETH                      18   \n7  BarnBridge Governance Token                 BOND                      18   \n8               Dai Stablecoin                  DAI                      18   \n9                Wrapped Ether                 WETH                      18   \n\n   ...  swaps_tokenIn_lastPriceBlockNumber  \\\n0  ...                            16570178   \n1  ...                            16571427   \n2  ...                            16571427   \n3  ...                            16571427   \n4  ...                            16567274   \n5  ...                            16562805   \n6  ...                            16571427   \n7  ...                            16562805   \n8  ...                            16570178   \n9  ...                            16571427   \n\n                            swaps_tokenOut_id swaps_tokenOut_name  \\\n0  0x64aa3364f17a4d01c6f1751fd97c2bd3d7e7f1d5             Olympus   \n1  0x64aa3364f17a4d01c6f1751fd97c2bd3d7e7f1d5             Olympus   \n2  0x64aa3364f17a4d01c6f1751fd97c2bd3d7e7f1d5             Olympus   \n3  0x64aa3364f17a4d01c6f1751fd97c2bd3d7e7f1d5             Olympus   \n4  0x64aa3364f17a4d01c6f1751fd97c2bd3d7e7f1d5             Olympus   \n5  0x64aa3364f17a4d01c6f1751fd97c2bd3d7e7f1d5             Olympus   \n6  0x64aa3364f17a4d01c6f1751fd97c2bd3d7e7f1d5             Olympus   \n7  0x64aa3364f17a4d01c6f1751fd97c2bd3d7e7f1d5             Olympus   \n8  0x64aa3364f17a4d01c6f1751fd97c2bd3d7e7f1d5             Olympus   \n9  0x64aa3364f17a4d01c6f1751fd97c2bd3d7e7f1d5             Olympus   \n\n  swaps_tokenOut_symbol swaps_tokenOut_decimals  swaps_tokenOut_lastPriceUSD  \\\n0                   OHM                       9                    10.139967   \n1                   OHM                       9                    10.139967   \n2                   OHM                       9                    10.139967   \n3                   OHM                       9                    10.139967   \n4                   OHM                       9                    10.139967   \n5                   OHM                       9                    10.139967   \n6                   OHM                       9                    10.139967   \n7                   OHM                       9                    10.139967   \n8                   OHM                       9                    10.139967   \n9                   OHM                       9                    10.139967   \n\n   swaps_tokenOut_lastPriceBlockNumber          swaps_amountIn  \\\n0                             16570566  6000000000000000000000   \n1                             16570566     5464259765451893924   \n2                             16570566     7384497801985259633   \n3                             16570566    11899824805506203468   \n4                             16570566    15027695242192714985   \n5                             16570566   397721888826627920276   \n6                             16570566      489647829012837101   \n7                             16570566   315525641613485149557   \n8                             16570566  4400000000000000000000   \n9                             16570566    17926688063626886544   \n\n  swaps_amountInUSD  swaps_amountOutUSD  \n0       5998.488000         5902.241926  \n1       6901.496783         6701.661235  \n2       9326.805462         9075.733877  \n3      15029.776427        14671.304801  \n4          0.000000         1777.814276  \n5       5027.251606         1559.808817  \n6        618.437458          603.923623  \n7       3988.281342         1245.922434  \n8       4398.891200         4323.412990  \n9      22641.855496        22098.842011  \n\n[10 rows x 21 columns]",
      "text/html": "<div>\n<style scoped>\n    .dataframe tbody tr th:only-of-type {\n        vertical-align: middle;\n    }\n\n    .dataframe tbody tr th {\n        vertical-align: top;\n    }\n\n    .dataframe thead th {\n        text-align: right;\n    }\n</style>\n<table border=\"1\" class=\"dataframe\">\n  <thead>\n    <tr style=\"text-align: right;\">\n      <th></th>\n      <th>swaps_id</th>\n      <th>swaps_hash</th>\n      <th>swaps_logIndex</th>\n      <th>swaps_to</th>\n      <th>swaps_blockNumber</th>\n      <th>swaps_timestamp</th>\n      <th>swaps_tokenIn_id</th>\n      <th>swaps_tokenIn_name</th>\n      <th>swaps_tokenIn_symbol</th>\n      <th>swaps_tokenIn_decimals</th>\n      <th>...</th>\n      <th>swaps_tokenIn_lastPriceBlockNumber</th>\n      <th>swaps_tokenOut_id</th>\n      <th>swaps_tokenOut_name</th>\n      <th>swaps_tokenOut_symbol</th>\n      <th>swaps_tokenOut_decimals</th>\n      <th>swaps_tokenOut_lastPriceUSD</th>\n      <th>swaps_tokenOut_lastPriceBlockNumber</th>\n      <th>swaps_amountIn</th>\n      <th>swaps_amountInUSD</th>\n      <th>swaps_amountOutUSD</th>\n    </tr>\n  </thead>\n  <tbody>\n    <tr>\n      <th>0</th>\n      <td>swap-0x664bdd80202b710390fcdec768da972263bb949...</td>\n      <td>0x664bdd80202b710390fcdec768da972263bb9493f50f...</td>\n      <td>126</td>\n      <td>0x76fcf0e8c7ff37a47a799fa2cd4c13cde0d981c9</td>\n      <td>16166119</td>\n      <td>1670817815</td>\n      <td>0x6b175474e89094c44da98b954eedeac495271d0f</td>\n      <td>Dai Stablecoin</td>\n      <td>DAI</td>\n      <td>18</td>\n      <td>...</td>\n      <td>16570178</td>\n      <td>0x64aa3364f17a4d01c6f1751fd97c2bd3d7e7f1d5</td>\n      <td>Olympus</td>\n      <td>OHM</td>\n      <td>9</td>\n      <td>10.139967</td>\n      <td>16570566</td>\n      <td>6000000000000000000000</td>\n      <td>5998.488000</td>\n      <td>5902.241926</td>\n    </tr>\n    <tr>\n      <th>1</th>\n      <td>swap-0x1afe5f2201a23a9c01598f146373f6ceeb5ebc4...</td>\n      <td>0x1afe5f2201a23a9c01598f146373f6ceeb5ebc426293...</td>\n      <td>23</td>\n      <td>0xd1ec5e215e8148d76f4460e4097fd3d5ae0a3558</td>\n      <td>16165790</td>\n      <td>1670813855</td>\n      <td>0xc02aaa39b223fe8d0a0e5c4f27ead9083c756cc2</td>\n      <td>Wrapped Ether</td>\n      <td>WETH</td>\n      <td>18</td>\n      <td>...</td>\n      <td>16571427</td>\n      <td>0x64aa3364f17a4d01c6f1751fd97c2bd3d7e7f1d5</td>\n      <td>Olympus</td>\n      <td>OHM</td>\n      <td>9</td>\n      <td>10.139967</td>\n      <td>16570566</td>\n      <td>5464259765451893924</td>\n      <td>6901.496783</td>\n      <td>6701.661235</td>\n    </tr>\n    <tr>\n      <th>2</th>\n      <td>swap-0xecd2cb97ca88776f9b06aaf40a27120eb51367e...</td>\n      <td>0xecd2cb97ca88776f9b06aaf40a27120eb51367e5151e...</td>\n      <td>4</td>\n      <td>0xd1ec5e215e8148d76f4460e4097fd3d5ae0a3558</td>\n      <td>16165781</td>\n      <td>1670813747</td>\n      <td>0xc02aaa39b223fe8d0a0e5c4f27ead9083c756cc2</td>\n      <td>Wrapped Ether</td>\n      <td>WETH</td>\n      <td>18</td>\n      <td>...</td>\n      <td>16571427</td>\n      <td>0x64aa3364f17a4d01c6f1751fd97c2bd3d7e7f1d5</td>\n      <td>Olympus</td>\n      <td>OHM</td>\n      <td>9</td>\n      <td>10.139967</td>\n      <td>16570566</td>\n      <td>7384497801985259633</td>\n      <td>9326.805462</td>\n      <td>9075.733877</td>\n    </tr>\n    <tr>\n      <th>3</th>\n      <td>swap-0xb5a715698330057bf057b2cd160c6711a1f962d...</td>\n      <td>0xb5a715698330057bf057b2cd160c6711a1f962d23aef...</td>\n      <td>16</td>\n      <td>0xd1ec5e215e8148d76f4460e4097fd3d5ae0a3558</td>\n      <td>16165775</td>\n      <td>1670813675</td>\n      <td>0xc02aaa39b223fe8d0a0e5c4f27ead9083c756cc2</td>\n      <td>Wrapped Ether</td>\n      <td>WETH</td>\n      <td>18</td>\n      <td>...</td>\n      <td>16571427</td>\n      <td>0x64aa3364f17a4d01c6f1751fd97c2bd3d7e7f1d5</td>\n      <td>Olympus</td>\n      <td>OHM</td>\n      <td>9</td>\n      <td>10.139967</td>\n      <td>16570566</td>\n      <td>11899824805506203468</td>\n      <td>15029.776427</td>\n      <td>14671.304801</td>\n    </tr>\n    <tr>\n      <th>4</th>\n      <td>swap-0x105cba540838f759127c276160c9105a228944c...</td>\n      <td>0x105cba540838f759127c276160c9105a228944c9a5c5...</td>\n      <td>5</td>\n      <td>0x2de32a7c98c3ef6ec79e703500e8ca5b2ec819aa</td>\n      <td>16165769</td>\n      <td>1670813603</td>\n      <td>0xc55126051b22ebb829d00368f4b12bde432de5da</td>\n      <td>BTRFLY</td>\n      <td>BTRFLY</td>\n      <td>18</td>\n      <td>...</td>\n      <td>16567274</td>\n      <td>0x64aa3364f17a4d01c6f1751fd97c2bd3d7e7f1d5</td>\n      <td>Olympus</td>\n      <td>OHM</td>\n      <td>9</td>\n      <td>10.139967</td>\n      <td>16570566</td>\n      <td>15027695242192714985</td>\n      <td>0.000000</td>\n      <td>1777.814276</td>\n    </tr>\n    <tr>\n      <th>5</th>\n      <td>swap-0xd15dbfc3b668caf025be0ac0989cb3dbe0a01ee...</td>\n      <td>0xd15dbfc3b668caf025be0ac0989cb3dbe0a01ee3c2ea...</td>\n      <td>0</td>\n      <td>0xf5f6fb82649df7991054ef796c39da81b93364df</td>\n      <td>16165589</td>\n      <td>1670811443</td>\n      <td>0x0391d2021f89dc339f60fff84546ea23e337750f</td>\n      <td>BarnBridge Governance Token</td>\n      <td>BOND</td>\n      <td>18</td>\n      <td>...</td>\n      <td>16562805</td>\n      <td>0x64aa3364f17a4d01c6f1751fd97c2bd3d7e7f1d5</td>\n      <td>Olympus</td>\n      <td>OHM</td>\n      <td>9</td>\n      <td>10.139967</td>\n      <td>16570566</td>\n      <td>397721888826627920276</td>\n      <td>5027.251606</td>\n      <td>1559.808817</td>\n    </tr>\n    <tr>\n      <th>6</th>\n      <td>swap-0x710e03ba3d1a9a61da68a7187ef39d15c68068f...</td>\n      <td>0x710e03ba3d1a9a61da68a7187ef39d15c68068f056a0...</td>\n      <td>85</td>\n      <td>0xc45d42f801105e861e86658648e3678ad7aa70f9</td>\n      <td>16165417</td>\n      <td>1670809355</td>\n      <td>0xc02aaa39b223fe8d0a0e5c4f27ead9083c756cc2</td>\n      <td>Wrapped Ether</td>\n      <td>WETH</td>\n      <td>18</td>\n      <td>...</td>\n      <td>16571427</td>\n      <td>0x64aa3364f17a4d01c6f1751fd97c2bd3d7e7f1d5</td>\n      <td>Olympus</td>\n      <td>OHM</td>\n      <td>9</td>\n      <td>10.139967</td>\n      <td>16570566</td>\n      <td>489647829012837101</td>\n      <td>618.437458</td>\n      <td>603.923623</td>\n    </tr>\n    <tr>\n      <th>7</th>\n      <td>swap-0xe29913281fae49c81ebed3fc0e8c2e2ec798543...</td>\n      <td>0xe29913281fae49c81ebed3fc0e8c2e2ec7985434eb3c...</td>\n      <td>1</td>\n      <td>0xf5f6fb82649df7991054ef796c39da81b93364df</td>\n      <td>16165398</td>\n      <td>1670809127</td>\n      <td>0x0391d2021f89dc339f60fff84546ea23e337750f</td>\n      <td>BarnBridge Governance Token</td>\n      <td>BOND</td>\n      <td>18</td>\n      <td>...</td>\n      <td>16562805</td>\n      <td>0x64aa3364f17a4d01c6f1751fd97c2bd3d7e7f1d5</td>\n      <td>Olympus</td>\n      <td>OHM</td>\n      <td>9</td>\n      <td>10.139967</td>\n      <td>16570566</td>\n      <td>315525641613485149557</td>\n      <td>3988.281342</td>\n      <td>1245.922434</td>\n    </tr>\n    <tr>\n      <th>8</th>\n      <td>swap-0x4ff63a93a9f5f9393789c7e07fbf18921c49f48...</td>\n      <td>0x4ff63a93a9f5f9393789c7e07fbf18921c49f4800ae9...</td>\n      <td>10</td>\n      <td>0x76fcf0e8c7ff37a47a799fa2cd4c13cde0d981c9</td>\n      <td>16165397</td>\n      <td>1670809115</td>\n      <td>0x6b175474e89094c44da98b954eedeac495271d0f</td>\n      <td>Dai Stablecoin</td>\n      <td>DAI</td>\n      <td>18</td>\n      <td>...</td>\n      <td>16570178</td>\n      <td>0x64aa3364f17a4d01c6f1751fd97c2bd3d7e7f1d5</td>\n      <td>Olympus</td>\n      <td>OHM</td>\n      <td>9</td>\n      <td>10.139967</td>\n      <td>16570566</td>\n      <td>4400000000000000000000</td>\n      <td>4398.891200</td>\n      <td>4323.412990</td>\n    </tr>\n    <tr>\n      <th>9</th>\n      <td>swap-0xd60fa1832be4b554521ac6b05bb3392b29eaa6c...</td>\n      <td>0xd60fa1832be4b554521ac6b05bb3392b29eaa6cbd666...</td>\n      <td>0</td>\n      <td>0xc45d42f801105e861e86658648e3678ad7aa70f9</td>\n      <td>16165388</td>\n      <td>1670809007</td>\n      <td>0xc02aaa39b223fe8d0a0e5c4f27ead9083c756cc2</td>\n      <td>Wrapped Ether</td>\n      <td>WETH</td>\n      <td>18</td>\n      <td>...</td>\n      <td>16571427</td>\n      <td>0x64aa3364f17a4d01c6f1751fd97c2bd3d7e7f1d5</td>\n      <td>Olympus</td>\n      <td>OHM</td>\n      <td>9</td>\n      <td>10.139967</td>\n      <td>16570566</td>\n      <td>17926688063626886544</td>\n      <td>22641.855496</td>\n      <td>22098.842011</td>\n    </tr>\n  </tbody>\n</table>\n<p>10 rows × 21 columns</p>\n</div>"
     },
     "execution_count": 106,
     "metadata": {},
     "output_type": "execute_result"
    }
   ],
   "source": [
    "OhmBuyersDb.head(10)"
   ],
   "metadata": {
    "collapsed": false
   }
  },
  {
   "cell_type": "code",
   "execution_count": 98,
   "outputs": [
    {
     "name": "stdout",
     "output_type": "stream",
     "text": [
      "iterations:  0 Lines skipped:  0 records collected:  1000  - Sells DB length:  1000  - latest record from:  2023-02-06 16:19:47 0 days ago\n",
      "iterations:  1 Lines skipped:  1000 records collected:  2000  - Sells DB length:  1000  - latest record from:  2023-01-11 10:09:59 26 days ago\n",
      "iterations:  2 Lines skipped:  2000 records collected:  3000  - Sells DB length:  1000  - latest record from:  2022-12-10 21:18:47 58 days ago\n",
      "Done. Total Records collected:  3000\n"
     ]
    }
   ],
   "source": [
    "SellsListLength=0\n",
    "SellsTicker = 0\n",
    "OhmSellersDb = pd.DataFrame()\n",
    "SellsDb = pd.DataFrame()\n",
    "SellsListLength = 1000\n",
    "\n",
    "datediff = 0\n",
    "now=0\n",
    "daysAgo=0\n",
    "daysLimit = 45\n",
    "\n",
    "while daysAgo<=daysLimit:\n",
    "    skipValue = (SellsTicker)*(1000)\n",
    "    swaps = balancer.Query.swaps(\n",
    "        orderBy='timestamp',\n",
    "        orderDirection='desc',\n",
    "        first=1000,\n",
    "        skip = skipValue,\n",
    "        where={ 'tokenIn': '0x64aa3364f17a4d01c6f1751fd97c2bd3d7e7f1d5' }\n",
    "\n",
    "    )\n",
    "\n",
    "    SellsDb = sg.query_df([\n",
    "        swaps.id\n",
    "        ,swaps.hash\n",
    "        ,swaps.logIndex\n",
    "        ,swaps.to\n",
    "        ,swaps.blockNumber\n",
    "        ,swaps.timestamp\n",
    "        ,swaps.tokenIn\n",
    "        ,swaps.tokenOut\n",
    "        ,swaps.amountIn\n",
    "        ,swaps.amountInUSD\n",
    "        ,swaps.amountOutUSD\n",
    "    ])\n",
    "\n",
    "    SellsDb.sort_values(by=['swaps_timestamp'])\n",
    "\n",
    "    OhmSellersDb=pd.concat([SellsDb, OhmSellersDb])\n",
    "\n",
    "    recordTimestamp1 = SellsDb.iat[SellsTicker,5]\n",
    "    recordTimestamp = datetime.fromtimestamp( recordTimestamp1 )\n",
    "\n",
    "    now = (int(datetime.utcnow().timestamp()))\n",
    "\n",
    "    datediff=abs(int(now) - recordTimestamp1)\n",
    "\n",
    "    daysAgo = int(datediff/86400)\n",
    "\n",
    "    sellersDbLength = len(OhmSellersDb)\n",
    "    SellsListLength = len(SellsDb)\n",
    "\n",
    "    recordID = SellsDb.iat[SellsTicker,0]\n",
    "    print(\"iterations: \", SellsTicker, \"Lines skipped: \",skipValue, \"records collected: \", sellersDbLength, \" - Sells DB length: \", SellsListLength, \" - latest record from: \", recordTimestamp, daysAgo,\"days ago\")\n",
    "    SellsTicker = SellsTicker+1\n",
    "\n",
    "print(\"Done. Total Records collected: \", sellersDbLength)"
   ],
   "metadata": {
    "collapsed": false
   }
  },
  {
   "cell_type": "code",
   "execution_count": 107,
   "outputs": [
    {
     "data": {
      "text/plain": "                                            swaps_id  \\\n0  swap-0xe79a8ba50190684617b56ac57dbec23e542f8f5...   \n1  swap-0x87c7421fc5e1b0ba360575b302b2f9f6cbd6fd6...   \n2  swap-0x758c9febb5894920e077b92388c3284c1f0fe98...   \n3  swap-0x818114a1eaea875cf0d52d07a71d30d7f3ec3d7...   \n4  swap-0x69b094f4e5c9275d9fe7c02102b08957fdc874e...   \n5  swap-0x0b592730c7c41d0ff91dc8d2e68f1ac6536f8af...   \n6  swap-0x857eae42b2451cd14a46ec483e35a4e38318a29...   \n7  swap-0x177104ceea23f05cc3e27d6e54a3032da139c0d...   \n8  swap-0x1c65e2a938c34e4844d4730e1fe5ab775f18e74...   \n9  swap-0xa8cf629875f513cb41cd8faf181dbcbdae0bf0f...   \n\n                                          swaps_hash  swaps_logIndex  \\\n0  0xe79a8ba50190684617b56ac57dbec23e542f8f5644ef...               1   \n1  0x87c7421fc5e1b0ba360575b302b2f9f6cbd6fd66701c...             162   \n2  0x758c9febb5894920e077b92388c3284c1f0fe98e9d70...             108   \n3  0x818114a1eaea875cf0d52d07a71d30d7f3ec3d70d653...               2   \n4  0x69b094f4e5c9275d9fe7c02102b08957fdc874e8306a...              83   \n5  0x0b592730c7c41d0ff91dc8d2e68f1ac6536f8afe944a...               6   \n6  0x857eae42b2451cd14a46ec483e35a4e38318a292f3ab...              38   \n7  0x177104ceea23f05cc3e27d6e54a3032da139c0d128bc...              73   \n8  0x1c65e2a938c34e4844d4730e1fe5ab775f18e74553b8...              23   \n9  0xa8cf629875f513cb41cd8faf181dbcbdae0bf0f59cac...              18   \n\n                                     swaps_to  swaps_blockNumber  \\\n0  0xc45d42f801105e861e86658648e3678ad7aa70f9           16159563   \n1  0xd1ec5e215e8148d76f4460e4097fd3d5ae0a3558           16159347   \n2  0xc45d42f801105e861e86658648e3678ad7aa70f9           16159329   \n3  0xc45d42f801105e861e86658648e3678ad7aa70f9           16159325   \n4  0xd1ec5e215e8148d76f4460e4097fd3d5ae0a3558           16159263   \n5  0xd1ec5e215e8148d76f4460e4097fd3d5ae0a3558           16158963   \n6  0xd1ec5e215e8148d76f4460e4097fd3d5ae0a3558           16158563   \n7  0xd1ec5e215e8148d76f4460e4097fd3d5ae0a3558           16158558   \n8  0xd1ec5e215e8148d76f4460e4097fd3d5ae0a3558           16158505   \n9  0xd1ec5e215e8148d76f4460e4097fd3d5ae0a3558           16158498   \n\n   swaps_timestamp                            swaps_tokenIn_id  \\\n0       1670738771  0x64aa3364f17a4d01c6f1751fd97c2bd3d7e7f1d5   \n1       1670736143  0x64aa3364f17a4d01c6f1751fd97c2bd3d7e7f1d5   \n2       1670735927  0x64aa3364f17a4d01c6f1751fd97c2bd3d7e7f1d5   \n3       1670735879  0x64aa3364f17a4d01c6f1751fd97c2bd3d7e7f1d5   \n4       1670735135  0x64aa3364f17a4d01c6f1751fd97c2bd3d7e7f1d5   \n5       1670731511  0x64aa3364f17a4d01c6f1751fd97c2bd3d7e7f1d5   \n6       1670726651  0x64aa3364f17a4d01c6f1751fd97c2bd3d7e7f1d5   \n7       1670726591  0x64aa3364f17a4d01c6f1751fd97c2bd3d7e7f1d5   \n8       1670725943  0x64aa3364f17a4d01c6f1751fd97c2bd3d7e7f1d5   \n9       1670725859  0x64aa3364f17a4d01c6f1751fd97c2bd3d7e7f1d5   \n\n  swaps_tokenIn_name swaps_tokenIn_symbol  swaps_tokenIn_decimals  ...  \\\n0            Olympus                  OHM                       9  ...   \n1            Olympus                  OHM                       9  ...   \n2            Olympus                  OHM                       9  ...   \n3            Olympus                  OHM                       9  ...   \n4            Olympus                  OHM                       9  ...   \n5            Olympus                  OHM                       9  ...   \n6            Olympus                  OHM                       9  ...   \n7            Olympus                  OHM                       9  ...   \n8            Olympus                  OHM                       9  ...   \n9            Olympus                  OHM                       9  ...   \n\n   swaps_tokenIn_lastPriceBlockNumber  \\\n0                            16570566   \n1                            16570566   \n2                            16570566   \n3                            16570566   \n4                            16570566   \n5                            16570566   \n6                            16570566   \n7                            16570566   \n8                            16570566   \n9                            16570566   \n\n                            swaps_tokenOut_id swaps_tokenOut_name  \\\n0  0xc02aaa39b223fe8d0a0e5c4f27ead9083c756cc2       Wrapped Ether   \n1  0xc02aaa39b223fe8d0a0e5c4f27ead9083c756cc2       Wrapped Ether   \n2  0xc02aaa39b223fe8d0a0e5c4f27ead9083c756cc2       Wrapped Ether   \n3  0xc02aaa39b223fe8d0a0e5c4f27ead9083c756cc2       Wrapped Ether   \n4  0xc02aaa39b223fe8d0a0e5c4f27ead9083c756cc2       Wrapped Ether   \n5  0xc02aaa39b223fe8d0a0e5c4f27ead9083c756cc2       Wrapped Ether   \n6  0xc02aaa39b223fe8d0a0e5c4f27ead9083c756cc2       Wrapped Ether   \n7  0xc02aaa39b223fe8d0a0e5c4f27ead9083c756cc2       Wrapped Ether   \n8  0xc02aaa39b223fe8d0a0e5c4f27ead9083c756cc2       Wrapped Ether   \n9  0xc02aaa39b223fe8d0a0e5c4f27ead9083c756cc2       Wrapped Ether   \n\n  swaps_tokenOut_symbol swaps_tokenOut_decimals  swaps_tokenOut_lastPriceUSD  \\\n0                  WETH                      18                    1648.5177   \n1                  WETH                      18                    1648.5177   \n2                  WETH                      18                    1648.5177   \n3                  WETH                      18                    1648.5177   \n4                  WETH                      18                    1648.5177   \n5                  WETH                      18                    1648.5177   \n6                  WETH                      18                    1648.5177   \n7                  WETH                      18                    1648.5177   \n8                  WETH                      18                    1648.5177   \n9                  WETH                      18                    1648.5177   \n\n   swaps_tokenOut_lastPriceBlockNumber  swaps_amountIn  swaps_amountInUSD  \\\n0                             16571427   1518019279874       14011.744517   \n1                             16571427     12000000000         110.763372   \n2                             16571427     77564150992         715.938909   \n3                             16571427    538471463429        4970.242918   \n4                             16571427     50000000000         461.514050   \n5                             16571427    676787658883        6246.940269   \n6                             16571427      5000000000          46.151405   \n7                             16571427      6658030306          61.455491   \n8                             16571427      5000000000          46.151405   \n9                             16571427      5000000000          46.151405   \n\n   swaps_amountOutUSD  \n0        13898.174238  \n1          109.906859  \n2          711.172567  \n3         4939.941547  \n4          457.979248  \n5         6204.496271  \n6           45.875204  \n7           61.088553  \n8           45.876485  \n9           45.877034  \n\n[10 rows x 21 columns]",
      "text/html": "<div>\n<style scoped>\n    .dataframe tbody tr th:only-of-type {\n        vertical-align: middle;\n    }\n\n    .dataframe tbody tr th {\n        vertical-align: top;\n    }\n\n    .dataframe thead th {\n        text-align: right;\n    }\n</style>\n<table border=\"1\" class=\"dataframe\">\n  <thead>\n    <tr style=\"text-align: right;\">\n      <th></th>\n      <th>swaps_id</th>\n      <th>swaps_hash</th>\n      <th>swaps_logIndex</th>\n      <th>swaps_to</th>\n      <th>swaps_blockNumber</th>\n      <th>swaps_timestamp</th>\n      <th>swaps_tokenIn_id</th>\n      <th>swaps_tokenIn_name</th>\n      <th>swaps_tokenIn_symbol</th>\n      <th>swaps_tokenIn_decimals</th>\n      <th>...</th>\n      <th>swaps_tokenIn_lastPriceBlockNumber</th>\n      <th>swaps_tokenOut_id</th>\n      <th>swaps_tokenOut_name</th>\n      <th>swaps_tokenOut_symbol</th>\n      <th>swaps_tokenOut_decimals</th>\n      <th>swaps_tokenOut_lastPriceUSD</th>\n      <th>swaps_tokenOut_lastPriceBlockNumber</th>\n      <th>swaps_amountIn</th>\n      <th>swaps_amountInUSD</th>\n      <th>swaps_amountOutUSD</th>\n    </tr>\n  </thead>\n  <tbody>\n    <tr>\n      <th>0</th>\n      <td>swap-0xe79a8ba50190684617b56ac57dbec23e542f8f5...</td>\n      <td>0xe79a8ba50190684617b56ac57dbec23e542f8f5644ef...</td>\n      <td>1</td>\n      <td>0xc45d42f801105e861e86658648e3678ad7aa70f9</td>\n      <td>16159563</td>\n      <td>1670738771</td>\n      <td>0x64aa3364f17a4d01c6f1751fd97c2bd3d7e7f1d5</td>\n      <td>Olympus</td>\n      <td>OHM</td>\n      <td>9</td>\n      <td>...</td>\n      <td>16570566</td>\n      <td>0xc02aaa39b223fe8d0a0e5c4f27ead9083c756cc2</td>\n      <td>Wrapped Ether</td>\n      <td>WETH</td>\n      <td>18</td>\n      <td>1648.5177</td>\n      <td>16571427</td>\n      <td>1518019279874</td>\n      <td>14011.744517</td>\n      <td>13898.174238</td>\n    </tr>\n    <tr>\n      <th>1</th>\n      <td>swap-0x87c7421fc5e1b0ba360575b302b2f9f6cbd6fd6...</td>\n      <td>0x87c7421fc5e1b0ba360575b302b2f9f6cbd6fd66701c...</td>\n      <td>162</td>\n      <td>0xd1ec5e215e8148d76f4460e4097fd3d5ae0a3558</td>\n      <td>16159347</td>\n      <td>1670736143</td>\n      <td>0x64aa3364f17a4d01c6f1751fd97c2bd3d7e7f1d5</td>\n      <td>Olympus</td>\n      <td>OHM</td>\n      <td>9</td>\n      <td>...</td>\n      <td>16570566</td>\n      <td>0xc02aaa39b223fe8d0a0e5c4f27ead9083c756cc2</td>\n      <td>Wrapped Ether</td>\n      <td>WETH</td>\n      <td>18</td>\n      <td>1648.5177</td>\n      <td>16571427</td>\n      <td>12000000000</td>\n      <td>110.763372</td>\n      <td>109.906859</td>\n    </tr>\n    <tr>\n      <th>2</th>\n      <td>swap-0x758c9febb5894920e077b92388c3284c1f0fe98...</td>\n      <td>0x758c9febb5894920e077b92388c3284c1f0fe98e9d70...</td>\n      <td>108</td>\n      <td>0xc45d42f801105e861e86658648e3678ad7aa70f9</td>\n      <td>16159329</td>\n      <td>1670735927</td>\n      <td>0x64aa3364f17a4d01c6f1751fd97c2bd3d7e7f1d5</td>\n      <td>Olympus</td>\n      <td>OHM</td>\n      <td>9</td>\n      <td>...</td>\n      <td>16570566</td>\n      <td>0xc02aaa39b223fe8d0a0e5c4f27ead9083c756cc2</td>\n      <td>Wrapped Ether</td>\n      <td>WETH</td>\n      <td>18</td>\n      <td>1648.5177</td>\n      <td>16571427</td>\n      <td>77564150992</td>\n      <td>715.938909</td>\n      <td>711.172567</td>\n    </tr>\n    <tr>\n      <th>3</th>\n      <td>swap-0x818114a1eaea875cf0d52d07a71d30d7f3ec3d7...</td>\n      <td>0x818114a1eaea875cf0d52d07a71d30d7f3ec3d70d653...</td>\n      <td>2</td>\n      <td>0xc45d42f801105e861e86658648e3678ad7aa70f9</td>\n      <td>16159325</td>\n      <td>1670735879</td>\n      <td>0x64aa3364f17a4d01c6f1751fd97c2bd3d7e7f1d5</td>\n      <td>Olympus</td>\n      <td>OHM</td>\n      <td>9</td>\n      <td>...</td>\n      <td>16570566</td>\n      <td>0xc02aaa39b223fe8d0a0e5c4f27ead9083c756cc2</td>\n      <td>Wrapped Ether</td>\n      <td>WETH</td>\n      <td>18</td>\n      <td>1648.5177</td>\n      <td>16571427</td>\n      <td>538471463429</td>\n      <td>4970.242918</td>\n      <td>4939.941547</td>\n    </tr>\n    <tr>\n      <th>4</th>\n      <td>swap-0x69b094f4e5c9275d9fe7c02102b08957fdc874e...</td>\n      <td>0x69b094f4e5c9275d9fe7c02102b08957fdc874e8306a...</td>\n      <td>83</td>\n      <td>0xd1ec5e215e8148d76f4460e4097fd3d5ae0a3558</td>\n      <td>16159263</td>\n      <td>1670735135</td>\n      <td>0x64aa3364f17a4d01c6f1751fd97c2bd3d7e7f1d5</td>\n      <td>Olympus</td>\n      <td>OHM</td>\n      <td>9</td>\n      <td>...</td>\n      <td>16570566</td>\n      <td>0xc02aaa39b223fe8d0a0e5c4f27ead9083c756cc2</td>\n      <td>Wrapped Ether</td>\n      <td>WETH</td>\n      <td>18</td>\n      <td>1648.5177</td>\n      <td>16571427</td>\n      <td>50000000000</td>\n      <td>461.514050</td>\n      <td>457.979248</td>\n    </tr>\n    <tr>\n      <th>5</th>\n      <td>swap-0x0b592730c7c41d0ff91dc8d2e68f1ac6536f8af...</td>\n      <td>0x0b592730c7c41d0ff91dc8d2e68f1ac6536f8afe944a...</td>\n      <td>6</td>\n      <td>0xd1ec5e215e8148d76f4460e4097fd3d5ae0a3558</td>\n      <td>16158963</td>\n      <td>1670731511</td>\n      <td>0x64aa3364f17a4d01c6f1751fd97c2bd3d7e7f1d5</td>\n      <td>Olympus</td>\n      <td>OHM</td>\n      <td>9</td>\n      <td>...</td>\n      <td>16570566</td>\n      <td>0xc02aaa39b223fe8d0a0e5c4f27ead9083c756cc2</td>\n      <td>Wrapped Ether</td>\n      <td>WETH</td>\n      <td>18</td>\n      <td>1648.5177</td>\n      <td>16571427</td>\n      <td>676787658883</td>\n      <td>6246.940269</td>\n      <td>6204.496271</td>\n    </tr>\n    <tr>\n      <th>6</th>\n      <td>swap-0x857eae42b2451cd14a46ec483e35a4e38318a29...</td>\n      <td>0x857eae42b2451cd14a46ec483e35a4e38318a292f3ab...</td>\n      <td>38</td>\n      <td>0xd1ec5e215e8148d76f4460e4097fd3d5ae0a3558</td>\n      <td>16158563</td>\n      <td>1670726651</td>\n      <td>0x64aa3364f17a4d01c6f1751fd97c2bd3d7e7f1d5</td>\n      <td>Olympus</td>\n      <td>OHM</td>\n      <td>9</td>\n      <td>...</td>\n      <td>16570566</td>\n      <td>0xc02aaa39b223fe8d0a0e5c4f27ead9083c756cc2</td>\n      <td>Wrapped Ether</td>\n      <td>WETH</td>\n      <td>18</td>\n      <td>1648.5177</td>\n      <td>16571427</td>\n      <td>5000000000</td>\n      <td>46.151405</td>\n      <td>45.875204</td>\n    </tr>\n    <tr>\n      <th>7</th>\n      <td>swap-0x177104ceea23f05cc3e27d6e54a3032da139c0d...</td>\n      <td>0x177104ceea23f05cc3e27d6e54a3032da139c0d128bc...</td>\n      <td>73</td>\n      <td>0xd1ec5e215e8148d76f4460e4097fd3d5ae0a3558</td>\n      <td>16158558</td>\n      <td>1670726591</td>\n      <td>0x64aa3364f17a4d01c6f1751fd97c2bd3d7e7f1d5</td>\n      <td>Olympus</td>\n      <td>OHM</td>\n      <td>9</td>\n      <td>...</td>\n      <td>16570566</td>\n      <td>0xc02aaa39b223fe8d0a0e5c4f27ead9083c756cc2</td>\n      <td>Wrapped Ether</td>\n      <td>WETH</td>\n      <td>18</td>\n      <td>1648.5177</td>\n      <td>16571427</td>\n      <td>6658030306</td>\n      <td>61.455491</td>\n      <td>61.088553</td>\n    </tr>\n    <tr>\n      <th>8</th>\n      <td>swap-0x1c65e2a938c34e4844d4730e1fe5ab775f18e74...</td>\n      <td>0x1c65e2a938c34e4844d4730e1fe5ab775f18e74553b8...</td>\n      <td>23</td>\n      <td>0xd1ec5e215e8148d76f4460e4097fd3d5ae0a3558</td>\n      <td>16158505</td>\n      <td>1670725943</td>\n      <td>0x64aa3364f17a4d01c6f1751fd97c2bd3d7e7f1d5</td>\n      <td>Olympus</td>\n      <td>OHM</td>\n      <td>9</td>\n      <td>...</td>\n      <td>16570566</td>\n      <td>0xc02aaa39b223fe8d0a0e5c4f27ead9083c756cc2</td>\n      <td>Wrapped Ether</td>\n      <td>WETH</td>\n      <td>18</td>\n      <td>1648.5177</td>\n      <td>16571427</td>\n      <td>5000000000</td>\n      <td>46.151405</td>\n      <td>45.876485</td>\n    </tr>\n    <tr>\n      <th>9</th>\n      <td>swap-0xa8cf629875f513cb41cd8faf181dbcbdae0bf0f...</td>\n      <td>0xa8cf629875f513cb41cd8faf181dbcbdae0bf0f59cac...</td>\n      <td>18</td>\n      <td>0xd1ec5e215e8148d76f4460e4097fd3d5ae0a3558</td>\n      <td>16158498</td>\n      <td>1670725859</td>\n      <td>0x64aa3364f17a4d01c6f1751fd97c2bd3d7e7f1d5</td>\n      <td>Olympus</td>\n      <td>OHM</td>\n      <td>9</td>\n      <td>...</td>\n      <td>16570566</td>\n      <td>0xc02aaa39b223fe8d0a0e5c4f27ead9083c756cc2</td>\n      <td>Wrapped Ether</td>\n      <td>WETH</td>\n      <td>18</td>\n      <td>1648.5177</td>\n      <td>16571427</td>\n      <td>5000000000</td>\n      <td>46.151405</td>\n      <td>45.877034</td>\n    </tr>\n  </tbody>\n</table>\n<p>10 rows × 21 columns</p>\n</div>"
     },
     "execution_count": 107,
     "metadata": {},
     "output_type": "execute_result"
    }
   ],
   "source": [
    "OhmSellersDb.head(10)"
   ],
   "metadata": {
    "collapsed": false
   }
  },
  {
   "cell_type": "code",
   "execution_count": 100,
   "outputs": [],
   "source": [
    "path =file+'/OHMBalancerBuys '+str(datetime.today().strftime(\"%b-%d-%Y\"))+\"_\"+str(buyersDbLength)+'records.csv'\n",
    "OhmBuyersDb.to_csv(path, index = False)\n",
    "path =file+'/OHMBalancerSells '+str(datetime.today().strftime(\"%b-%d-%Y\"))+\"_\"+str(buyersDbLength)+'records.csv'\n",
    "OhmSellersDb.to_csv(path, index = False)"
   ],
   "metadata": {
    "collapsed": false
   }
  }
 ],
 "metadata": {
  "kernelspec": {
   "display_name": "Python 3",
   "language": "python",
   "name": "python3"
  },
  "language_info": {
   "codemirror_mode": {
    "name": "ipython",
    "version": 2
   },
   "file_extension": ".py",
   "mimetype": "text/x-python",
   "name": "python",
   "nbconvert_exporter": "python",
   "pygments_lexer": "ipython2",
   "version": "2.7.6"
  }
 },
 "nbformat": 4,
 "nbformat_minor": 0
}
