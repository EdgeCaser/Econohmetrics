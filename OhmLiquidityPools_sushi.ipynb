{
 "cells": [
  {
   "cell_type": "code",
   "execution_count": 193,
   "metadata": {
    "collapsed": true,
    "pycharm": {
     "name": "#%%\n"
    }
   },
   "outputs": [],
   "source": [
    "from datetime import datetime\n",
    "from datetime import date\n",
    "from subgrounds.subgraph import SyntheticField, FieldPath\n",
    "from subgrounds.subgrounds import Subgrounds\n",
    "import pandas as pd\n",
    "import duckdb as db\n",
    "import  os as os"
   ]
  },
  {
   "cell_type": "code",
   "execution_count": 189,
   "outputs": [],
   "source": [
    "global file\n",
    "file = input('Selet a folder to save output') ##enter your file path here - the file is in the repo \"summary_stats.csv\".\n",
    "raw_file = file"
   ],
   "metadata": {
    "collapsed": false,
    "pycharm": {
     "name": "#%%\n"
    }
   }
  },
  {
   "cell_type": "code",
   "execution_count": 5,
   "outputs": [],
   "source": [
    "sg = Subgrounds()\n",
    "sushi = sg.load_api('https://api.thegraph.com/subgraphs/name/sushiswap/sushiswap')\n",
    "#https://thegraph.com/hosted-service/subgraph/sushiswap/sushiswap\n"
   ],
   "metadata": {
    "collapsed": false,
    "pycharm": {
     "name": "#%%\n"
    }
   }
  },
  {
   "cell_type": "code",
   "execution_count": 6,
   "outputs": [
    {
     "data": {
      "text/plain": "  masterChefPools_id masterChefPools_balance  \\\n0                  0      147601980150196195   \n1                  1      284451383826727104   \n2                 10        2462772563584485   \n3                100    56978046998053351865   \n4                101    25550061305429903866   \n5                102     1000000000000000000   \n6                103             10109698524   \n7                104   108406092012184237192   \n8                105   296116472060555825865   \n9                106     6437612759376250221   \n\n                      masterChefPools_lpToken masterChefPools_accSushiPerShare  \n0  0x06da0fd433c1a5d7a4faa01111c044910a184553             11830966904284659431  \n1  0x397ff1542f962076d0bfe58ea045ffa2d347aca0             11523296463189798728  \n2  0xcb2286d9471cc185281c4f763d34a962ed212962              2354573066535891748  \n3  0x201e6a9e75df132a8598720433af35fe8d73e94d                   21177703983987  \n4  0x66ae32178640813f3c32a9929520bfe4fef5d167                   92904296028471  \n5  0x049a1df43ca577c1db44a79cf673b443beed9f89                26150222116722035  \n6  0x9a13867048e01c663ce8ce2fe0cdae69ff9f35e3        1108390607192694589764044  \n7  0x31d64f9403e82243e71c2af9d8f56c7dbe10c178                   42671594792607  \n8  0xa8aec03d5cf2824fd984ee249493d6d4d6740e61                    4889584900777  \n9  0x8cd7dadc8e11c8706763e0de7332f5ea91e04e35                    1998912143830  ",
      "text/html": "<div>\n<style scoped>\n    .dataframe tbody tr th:only-of-type {\n        vertical-align: middle;\n    }\n\n    .dataframe tbody tr th {\n        vertical-align: top;\n    }\n\n    .dataframe thead th {\n        text-align: right;\n    }\n</style>\n<table border=\"1\" class=\"dataframe\">\n  <thead>\n    <tr style=\"text-align: right;\">\n      <th></th>\n      <th>masterChefPools_id</th>\n      <th>masterChefPools_balance</th>\n      <th>masterChefPools_lpToken</th>\n      <th>masterChefPools_accSushiPerShare</th>\n    </tr>\n  </thead>\n  <tbody>\n    <tr>\n      <th>0</th>\n      <td>0</td>\n      <td>147601980150196195</td>\n      <td>0x06da0fd433c1a5d7a4faa01111c044910a184553</td>\n      <td>11830966904284659431</td>\n    </tr>\n    <tr>\n      <th>1</th>\n      <td>1</td>\n      <td>284451383826727104</td>\n      <td>0x397ff1542f962076d0bfe58ea045ffa2d347aca0</td>\n      <td>11523296463189798728</td>\n    </tr>\n    <tr>\n      <th>2</th>\n      <td>10</td>\n      <td>2462772563584485</td>\n      <td>0xcb2286d9471cc185281c4f763d34a962ed212962</td>\n      <td>2354573066535891748</td>\n    </tr>\n    <tr>\n      <th>3</th>\n      <td>100</td>\n      <td>56978046998053351865</td>\n      <td>0x201e6a9e75df132a8598720433af35fe8d73e94d</td>\n      <td>21177703983987</td>\n    </tr>\n    <tr>\n      <th>4</th>\n      <td>101</td>\n      <td>25550061305429903866</td>\n      <td>0x66ae32178640813f3c32a9929520bfe4fef5d167</td>\n      <td>92904296028471</td>\n    </tr>\n    <tr>\n      <th>5</th>\n      <td>102</td>\n      <td>1000000000000000000</td>\n      <td>0x049a1df43ca577c1db44a79cf673b443beed9f89</td>\n      <td>26150222116722035</td>\n    </tr>\n    <tr>\n      <th>6</th>\n      <td>103</td>\n      <td>10109698524</td>\n      <td>0x9a13867048e01c663ce8ce2fe0cdae69ff9f35e3</td>\n      <td>1108390607192694589764044</td>\n    </tr>\n    <tr>\n      <th>7</th>\n      <td>104</td>\n      <td>108406092012184237192</td>\n      <td>0x31d64f9403e82243e71c2af9d8f56c7dbe10c178</td>\n      <td>42671594792607</td>\n    </tr>\n    <tr>\n      <th>8</th>\n      <td>105</td>\n      <td>296116472060555825865</td>\n      <td>0xa8aec03d5cf2824fd984ee249493d6d4d6740e61</td>\n      <td>4889584900777</td>\n    </tr>\n    <tr>\n      <th>9</th>\n      <td>106</td>\n      <td>6437612759376250221</td>\n      <td>0x8cd7dadc8e11c8706763e0de7332f5ea91e04e35</td>\n      <td>1998912143830</td>\n    </tr>\n  </tbody>\n</table>\n</div>"
     },
     "execution_count": 6,
     "metadata": {},
     "output_type": "execute_result"
    }
   ],
   "source": [
    "pools = sushi.Query.masterChefPools(\n",
    "  orderBy='id',\n",
    "  orderDirection='asc',\n",
    "  first=1000,\n",
    "  #where=[\n",
    "    #sushi.Query.masterChefPools.lpToken == '0xfffAE4A0F4AC251F4705717cD24CaDcCc9f33E06' ##'0x002ad19fb25c6206d6d19e524f363ea846afe4a5' works.,\n",
    "    #balancer.Query.pools\n",
    "    #balancer.Query.pools.tokensList_contains: \"0xe343245DE92181bc06ba5Cd1152C705A2C5F3E2F\"\n",
    "    #balancer.Query.pools.tokensList == '0xC02aaA39b223FE8D0A0e5C4F27eAD9083C756Cc2'\n",
    "  #]\n",
    ")\n",
    "\n",
    "pool_data = sg.query_df([\n",
    "    pools.id\n",
    "    ,pools.balance\n",
    "    ,pools.lpToken\n",
    "    ,pools.accSushiPerShare\n",
    "])\n",
    "\n",
    "pool_data.head(10)"
   ],
   "metadata": {
    "collapsed": false,
    "pycharm": {
     "name": "#%%\n"
    }
   }
  },
  {
   "cell_type": "code",
   "execution_count": 9,
   "outputs": [
    {
     "data": {
      "text/plain": "Empty DataFrame\nColumns: [masterChefPools_id, masterChefPools_balance, masterChefPools_lpToken, masterChefPools_accSushiPerShare]\nIndex: []",
      "text/html": "<div>\n<style scoped>\n    .dataframe tbody tr th:only-of-type {\n        vertical-align: middle;\n    }\n\n    .dataframe tbody tr th {\n        vertical-align: top;\n    }\n\n    .dataframe thead th {\n        text-align: right;\n    }\n</style>\n<table border=\"1\" class=\"dataframe\">\n  <thead>\n    <tr style=\"text-align: right;\">\n      <th></th>\n      <th>masterChefPools_id</th>\n      <th>masterChefPools_balance</th>\n      <th>masterChefPools_lpToken</th>\n      <th>masterChefPools_accSushiPerShare</th>\n    </tr>\n  </thead>\n  <tbody>\n  </tbody>\n</table>\n</div>"
     },
     "execution_count": 9,
     "metadata": {},
     "output_type": "execute_result"
    }
   ],
   "source": [
    "pool_datadb = db.query(\"select \"\n",
    "                   \"    *  \"\n",
    "                   \"From pool_data \"\n",
    "                       \"\"\n",
    "                   \"where lower(masterChefPools_lpToken) = lower('0xc45D42f801105e861e86658648e3678aD7aa70f9') \"\n",
    "                   \" limit 100 \"\n",
    "                   ).df()\n",
    "\n",
    "pool_datadb.head(10)\n"
   ],
   "metadata": {
    "collapsed": false,
    "pycharm": {
     "name": "#%%\n"
    }
   }
  },
  {
   "cell_type": "code",
   "execution_count": 30,
   "outputs": [],
   "source": [
    "sushi2 = sg.load_api('https://api.thegraph.com/subgraphs/name/sushi-v2/sushiswap-ethereum')"
   ],
   "metadata": {
    "collapsed": false,
    "pycharm": {
     "name": "#%%\n"
    }
   }
  },
  {
   "cell_type": "code",
   "execution_count": 117,
   "outputs": [
    {
     "data": {
      "text/plain": "                                     tokens_id  \\\n0   0x0000000000004946c0e9f43f4dee607b0ef1fa1c   \n1   0x0000000000085d4780b73119b644ae5ecd22b376   \n2   0x0000000000095413afc295d19edeb1ad7b71c952   \n3   0x00000006e55a9364b657e3b91cd0411b4fd11ac2   \n4   0x0000a1c00009a619684135b824ba02f7fbf3a572   \n5   0x002cdebfce2f5e3fd704da0fa346ad2621353b92   \n6   0x005d1123878fc55fbd56b54c73963b234a64af3c   \n7   0x00813e3421e1367353bfe7615c7f7f133c89df74   \n8   0x0095151377296198241a25a0f36c805b03de2f12   \n9   0x00a55375002f3cda400383f479e7cd57bad029a9   \n10  0x00a9af804dc0b9658c3191ceca4d613eae9ce5e6   \n11  0x00c2999c8b2adf4abc835cc63209533973718eb1   \n12  0x00c4a73f10b05228c64e971cf81ae84426a64780   \n13  0x00c70e8b3c9d0e0adb85993382abaae2a11c5d96   \n14  0x00c83aecc790e8a4453e5dd3b0b4b3680501a7a7   \n15  0x00d0a61c5cb78f236a715fe08a6bb4a72514f460   \n16  0x00d289ff3d63909f4d42085ee5cc58a434b0636c   \n17  0x00f644cb516e53a09d02e5e2c49fc7fc0cfc37a5   \n18  0x01012022d43a3f85196a6bea96dfdb7350fdaa3c   \n19  0x010a0288af52ed61e32674d82bbc7ddbfa9a1324   \n\n                                          tokens_name  tokens_nameSuccess  \\\n0                               Chi Gastoken by 1inch                True   \n1                                             TrueUSD                True   \n2                                            Tokenlon                True   \n3                          Adidas Originals Metaverse                True   \n4                                             Alchemy                True   \n5                                          KING Token                True   \n6                                            Kiba Inu                True   \n7                                      Splintershards                True   \n8                                    The Fumetzu Koin                True   \n9                                             Conjure                True   \n10                                               STIX                True   \n11                                    New World Order                True   \n12                                      MineablePunks                True   \n13                                 SushiSwap LP Token                True   \n14                                              SKALE                True   \n15                                         R0N1 World                True   \n16  88mph Harvest 3CRV Zero Coupon Bond -- Test Se...                True   \n17                                             Candle                True   \n18                                     Happy New Year                True   \n19            OT Aave interest bearing USDC 30DEC2021                True   \n\n                  tokens_liquidity  tokens_decimals  \n0                               22                0  \n1          73313709473013160094826               18  \n2        4964038007538232866782949               18  \n3         212766417721106223547825               18  \n4           2874891251165422441941               18  \n5            333000000000000000000               18  \n6                40742717651614200               18  \n7       29791438906697550889187473               18  \n8           1079480721396079956176                8  \n9           8904847239201818245437               18  \n10             3000000000000000000               18  \n11  608334992166454304370691777342               18  \n12            21931136614660106508               18  \n13                1722559636521612               18  \n14            29792044544284187803               18  \n15            24880000000000000000               18  \n16                               0               18  \n17                      7263529355                8  \n18                               0               18  \n19                       629601546                6  ",
      "text/html": "<div>\n<style scoped>\n    .dataframe tbody tr th:only-of-type {\n        vertical-align: middle;\n    }\n\n    .dataframe tbody tr th {\n        vertical-align: top;\n    }\n\n    .dataframe thead th {\n        text-align: right;\n    }\n</style>\n<table border=\"1\" class=\"dataframe\">\n  <thead>\n    <tr style=\"text-align: right;\">\n      <th></th>\n      <th>tokens_id</th>\n      <th>tokens_name</th>\n      <th>tokens_nameSuccess</th>\n      <th>tokens_liquidity</th>\n      <th>tokens_decimals</th>\n    </tr>\n  </thead>\n  <tbody>\n    <tr>\n      <th>0</th>\n      <td>0x0000000000004946c0e9f43f4dee607b0ef1fa1c</td>\n      <td>Chi Gastoken by 1inch</td>\n      <td>True</td>\n      <td>22</td>\n      <td>0</td>\n    </tr>\n    <tr>\n      <th>1</th>\n      <td>0x0000000000085d4780b73119b644ae5ecd22b376</td>\n      <td>TrueUSD</td>\n      <td>True</td>\n      <td>73313709473013160094826</td>\n      <td>18</td>\n    </tr>\n    <tr>\n      <th>2</th>\n      <td>0x0000000000095413afc295d19edeb1ad7b71c952</td>\n      <td>Tokenlon</td>\n      <td>True</td>\n      <td>4964038007538232866782949</td>\n      <td>18</td>\n    </tr>\n    <tr>\n      <th>3</th>\n      <td>0x00000006e55a9364b657e3b91cd0411b4fd11ac2</td>\n      <td>Adidas Originals Metaverse</td>\n      <td>True</td>\n      <td>212766417721106223547825</td>\n      <td>18</td>\n    </tr>\n    <tr>\n      <th>4</th>\n      <td>0x0000a1c00009a619684135b824ba02f7fbf3a572</td>\n      <td>Alchemy</td>\n      <td>True</td>\n      <td>2874891251165422441941</td>\n      <td>18</td>\n    </tr>\n    <tr>\n      <th>5</th>\n      <td>0x002cdebfce2f5e3fd704da0fa346ad2621353b92</td>\n      <td>KING Token</td>\n      <td>True</td>\n      <td>333000000000000000000</td>\n      <td>18</td>\n    </tr>\n    <tr>\n      <th>6</th>\n      <td>0x005d1123878fc55fbd56b54c73963b234a64af3c</td>\n      <td>Kiba Inu</td>\n      <td>True</td>\n      <td>40742717651614200</td>\n      <td>18</td>\n    </tr>\n    <tr>\n      <th>7</th>\n      <td>0x00813e3421e1367353bfe7615c7f7f133c89df74</td>\n      <td>Splintershards</td>\n      <td>True</td>\n      <td>29791438906697550889187473</td>\n      <td>18</td>\n    </tr>\n    <tr>\n      <th>8</th>\n      <td>0x0095151377296198241a25a0f36c805b03de2f12</td>\n      <td>The Fumetzu Koin</td>\n      <td>True</td>\n      <td>1079480721396079956176</td>\n      <td>8</td>\n    </tr>\n    <tr>\n      <th>9</th>\n      <td>0x00a55375002f3cda400383f479e7cd57bad029a9</td>\n      <td>Conjure</td>\n      <td>True</td>\n      <td>8904847239201818245437</td>\n      <td>18</td>\n    </tr>\n    <tr>\n      <th>10</th>\n      <td>0x00a9af804dc0b9658c3191ceca4d613eae9ce5e6</td>\n      <td>STIX</td>\n      <td>True</td>\n      <td>3000000000000000000</td>\n      <td>18</td>\n    </tr>\n    <tr>\n      <th>11</th>\n      <td>0x00c2999c8b2adf4abc835cc63209533973718eb1</td>\n      <td>New World Order</td>\n      <td>True</td>\n      <td>608334992166454304370691777342</td>\n      <td>18</td>\n    </tr>\n    <tr>\n      <th>12</th>\n      <td>0x00c4a73f10b05228c64e971cf81ae84426a64780</td>\n      <td>MineablePunks</td>\n      <td>True</td>\n      <td>21931136614660106508</td>\n      <td>18</td>\n    </tr>\n    <tr>\n      <th>13</th>\n      <td>0x00c70e8b3c9d0e0adb85993382abaae2a11c5d96</td>\n      <td>SushiSwap LP Token</td>\n      <td>True</td>\n      <td>1722559636521612</td>\n      <td>18</td>\n    </tr>\n    <tr>\n      <th>14</th>\n      <td>0x00c83aecc790e8a4453e5dd3b0b4b3680501a7a7</td>\n      <td>SKALE</td>\n      <td>True</td>\n      <td>29792044544284187803</td>\n      <td>18</td>\n    </tr>\n    <tr>\n      <th>15</th>\n      <td>0x00d0a61c5cb78f236a715fe08a6bb4a72514f460</td>\n      <td>R0N1 World</td>\n      <td>True</td>\n      <td>24880000000000000000</td>\n      <td>18</td>\n    </tr>\n    <tr>\n      <th>16</th>\n      <td>0x00d289ff3d63909f4d42085ee5cc58a434b0636c</td>\n      <td>88mph Harvest 3CRV Zero Coupon Bond -- Test Se...</td>\n      <td>True</td>\n      <td>0</td>\n      <td>18</td>\n    </tr>\n    <tr>\n      <th>17</th>\n      <td>0x00f644cb516e53a09d02e5e2c49fc7fc0cfc37a5</td>\n      <td>Candle</td>\n      <td>True</td>\n      <td>7263529355</td>\n      <td>8</td>\n    </tr>\n    <tr>\n      <th>18</th>\n      <td>0x01012022d43a3f85196a6bea96dfdb7350fdaa3c</td>\n      <td>Happy New Year</td>\n      <td>True</td>\n      <td>0</td>\n      <td>18</td>\n    </tr>\n    <tr>\n      <th>19</th>\n      <td>0x010a0288af52ed61e32674d82bbc7ddbfa9a1324</td>\n      <td>OT Aave interest bearing USDC 30DEC2021</td>\n      <td>True</td>\n      <td>629601546</td>\n      <td>6</td>\n    </tr>\n  </tbody>\n</table>\n</div>"
     },
     "execution_count": 117,
     "metadata": {},
     "output_type": "execute_result"
    }
   ],
   "source": [
    "pools2 = sushi2.Query.tokens(\n",
    "  orderBy='id',\n",
    "  orderDirection='asc',\n",
    "  first=1000,\n",
    "  #where=[\n",
    "    #sushi2.Query.token.id == '0x03620c8dcdb753744447b55e6030d628ef19c0f7' ##'0x002ad19fb25c6206d6d19e524f363ea846afe4a5' works.,\n",
    "    #balancer.Query.pools\n",
    "    #balancer.Query.pools.tokensList_contains: \"0xe343245DE92181bc06ba5Cd1152C705A2C5F3E2F\"\n",
    "    #balancer.Query.pools.tokensList == '0xC02aaA39b223FE8D0A0e5C4F27eAD9083C756Cc2'\n",
    "  #]\n",
    ")\n",
    "\n",
    "pool_data2 = sg.query_df([\n",
    "    pools2.id\n",
    "    #,pools2.token\n",
    "    #,pools2.lpToken\n",
    "    ,pools2.name\n",
    "    ,pools2.nameSuccess\n",
    "    ,pools2.liquidity\n",
    "    ,pools2.decimals\n",
    "])\n",
    "\n",
    "pool_data2.head(20)"
   ],
   "metadata": {
    "collapsed": false,
    "pycharm": {
     "name": "#%%\n"
    }
   }
  },
  {
   "cell_type": "code",
   "execution_count": 11,
   "outputs": [],
   "source": [
    "sushi3 = sg.load_api('https://api.thegraph.com/subgraphs/name/sushi-v2/sushiswap-ethereum')"
   ],
   "metadata": {
    "collapsed": false,
    "pycharm": {
     "name": "#%%\n"
    }
   }
  },
  {
   "cell_type": "code",
   "execution_count": 26,
   "outputs": [
    {
     "data": {
      "text/plain": "                                    tokenPairs_id tokenPairs_pair_name  \\\n0    0xed1480d12be41d92f36f5f7bdd88212e381a3677:2             gOHM-FDT   \n1    0xed1480d12be41d92f36f5f7bdd88212e381a3677:0            wsOHM-FDT   \n2    0xe7da1d8327ae1f320bbc23ca119b02ad3f85dceb:2             OHM-BLKD   \n3    0xdec41db0c33f3f6f3cb615449c311ba22d418a8d:1             OHM-LOBI   \n4    0xdec41db0c33f3f6f3cb615449c311ba22d418a8d:0             OHM-LOBI   \n5  0xdac17f958d2ee523a2206206994597c13d831ec7:168             OHM-USDT   \n\n                    tokenPairs_pair_token0_id  \\\n0  0x0ab87046fbb341d058f17cbc4c1133f25a20a52f   \n1  0xca76543cf381ebbb277be79574059e32108e3e65   \n2  0x64aa3364f17a4d01c6f1751fd97c2bd3d7e7f1d5   \n3  0x64aa3364f17a4d01c6f1751fd97c2bd3d7e7f1d5   \n4  0x383518188c0c6d7730d91b2c03a03c837814a899   \n5  0x64aa3364f17a4d01c6f1751fd97c2bd3d7e7f1d5   \n\n              tokenPairs_pair_token0_price_id tokenPairs_pair_token0_symbol  \\\n0  0x0ab87046fbb341d058f17cbc4c1133f25a20a52f                          gOHM   \n1  0xca76543cf381ebbb277be79574059e32108e3e65                         wsOHM   \n2  0x64aa3364f17a4d01c6f1751fd97c2bd3d7e7f1d5                           OHM   \n3  0x64aa3364f17a4d01c6f1751fd97c2bd3d7e7f1d5                           OHM   \n4  0x383518188c0c6d7730d91b2c03a03c837814a899                           OHM   \n5  0x64aa3364f17a4d01c6f1751fd97c2bd3d7e7f1d5                           OHM   \n\n   tokenPairs_pair_token0_symbolSuccess tokenPairs_pair_token0_name  \\\n0                                  True              Governance OHM   \n1                                  True                Wrapped sOHM   \n2                                  True                     Olympus   \n3                                  True                     Olympus   \n4                                  True                     Olympus   \n5                                  True                     Olympus   \n\n   tokenPairs_pair_token0_nameSuccess  tokenPairs_pair_token0_decimals  \\\n0                                True                               18   \n1                                True                               18   \n2                                True                                9   \n3                                True                                9   \n4                                True                                9   \n5                                True                                9   \n\n   tokenPairs_pair_token0_decimalsSuccess  ...  \\\n0                                    True  ...   \n1                                    True  ...   \n2                                    True  ...   \n3                                    True  ...   \n4                                    True  ...   \n5                                    True  ...   \n\n   tokenPairs_pair_token1_liquidityNative  \\\n0                                 0.00000   \n1                                 0.00000   \n2                                 0.00958   \n3                                 0.00000   \n4                                 0.00000   \n5                              8975.34184   \n\n   tokenPairs_pair_token1_liquidityUSD  tokenPairs_pair_token1_volume  \\\n0                         0.000000e+00                   6.870658e+07   \n1                         0.000000e+00                   6.870658e+07   \n2                         1.513293e+01                   2.193941e+04   \n3                         0.000000e+00                   3.184955e+05   \n4                         0.000000e+00                   3.184955e+05   \n5                         1.375202e+07                   2.024475e+10   \n\n   tokenPairs_pair_token1_volumeNative  tokenPairs_pair_token1_volumeUSD  \\\n0                         3.748026e+02                      1.558025e+06   \n1                         3.748026e+02                      1.558025e+06   \n2                         1.972742e+02                      3.825318e+05   \n3                         6.495800e+04                      2.801671e+08   \n4                         6.495800e+04                      2.801671e+08   \n5                         1.120126e+07                      2.021969e+10   \n\n   tokenPairs_pair_token1_feesNative  tokenPairs_pair_token1_feesUSD  \\\n0                           1.124408                    4.674074e+03   \n1                           1.124408                    4.674074e+03   \n2                           0.591823                    1.147596e+03   \n3                         194.873992                    8.405013e+05   \n4                         194.873992                    8.405013e+05   \n5                       33603.791289                    6.065908e+07   \n\n   tokenPairs_pair_token1_txCount  tokenPairs_pair_token1_pairCount  \\\n0                            3943                                 3   \n1                            3943                                 3   \n2                             120                                 4   \n3                           10553                                 2   \n4                           10553                                 2   \n5                         1063439                               224   \n\n   tokenPairs_pair_token1_whitelistedPairCount  \n0                                            1  \n1                                            1  \n2                                            3  \n3                                            1  \n4                                            1  \n5                                           14  \n\n[6 rows x 40 columns]",
      "text/html": "<div>\n<style scoped>\n    .dataframe tbody tr th:only-of-type {\n        vertical-align: middle;\n    }\n\n    .dataframe tbody tr th {\n        vertical-align: top;\n    }\n\n    .dataframe thead th {\n        text-align: right;\n    }\n</style>\n<table border=\"1\" class=\"dataframe\">\n  <thead>\n    <tr style=\"text-align: right;\">\n      <th></th>\n      <th>tokenPairs_id</th>\n      <th>tokenPairs_pair_name</th>\n      <th>tokenPairs_pair_token0_id</th>\n      <th>tokenPairs_pair_token0_price_id</th>\n      <th>tokenPairs_pair_token0_symbol</th>\n      <th>tokenPairs_pair_token0_symbolSuccess</th>\n      <th>tokenPairs_pair_token0_name</th>\n      <th>tokenPairs_pair_token0_nameSuccess</th>\n      <th>tokenPairs_pair_token0_decimals</th>\n      <th>tokenPairs_pair_token0_decimalsSuccess</th>\n      <th>...</th>\n      <th>tokenPairs_pair_token1_liquidityNative</th>\n      <th>tokenPairs_pair_token1_liquidityUSD</th>\n      <th>tokenPairs_pair_token1_volume</th>\n      <th>tokenPairs_pair_token1_volumeNative</th>\n      <th>tokenPairs_pair_token1_volumeUSD</th>\n      <th>tokenPairs_pair_token1_feesNative</th>\n      <th>tokenPairs_pair_token1_feesUSD</th>\n      <th>tokenPairs_pair_token1_txCount</th>\n      <th>tokenPairs_pair_token1_pairCount</th>\n      <th>tokenPairs_pair_token1_whitelistedPairCount</th>\n    </tr>\n  </thead>\n  <tbody>\n    <tr>\n      <th>0</th>\n      <td>0xed1480d12be41d92f36f5f7bdd88212e381a3677:2</td>\n      <td>gOHM-FDT</td>\n      <td>0x0ab87046fbb341d058f17cbc4c1133f25a20a52f</td>\n      <td>0x0ab87046fbb341d058f17cbc4c1133f25a20a52f</td>\n      <td>gOHM</td>\n      <td>True</td>\n      <td>Governance OHM</td>\n      <td>True</td>\n      <td>18</td>\n      <td>True</td>\n      <td>...</td>\n      <td>0.00000</td>\n      <td>0.000000e+00</td>\n      <td>6.870658e+07</td>\n      <td>3.748026e+02</td>\n      <td>1.558025e+06</td>\n      <td>1.124408</td>\n      <td>4.674074e+03</td>\n      <td>3943</td>\n      <td>3</td>\n      <td>1</td>\n    </tr>\n    <tr>\n      <th>1</th>\n      <td>0xed1480d12be41d92f36f5f7bdd88212e381a3677:0</td>\n      <td>wsOHM-FDT</td>\n      <td>0xca76543cf381ebbb277be79574059e32108e3e65</td>\n      <td>0xca76543cf381ebbb277be79574059e32108e3e65</td>\n      <td>wsOHM</td>\n      <td>True</td>\n      <td>Wrapped sOHM</td>\n      <td>True</td>\n      <td>18</td>\n      <td>True</td>\n      <td>...</td>\n      <td>0.00000</td>\n      <td>0.000000e+00</td>\n      <td>6.870658e+07</td>\n      <td>3.748026e+02</td>\n      <td>1.558025e+06</td>\n      <td>1.124408</td>\n      <td>4.674074e+03</td>\n      <td>3943</td>\n      <td>3</td>\n      <td>1</td>\n    </tr>\n    <tr>\n      <th>2</th>\n      <td>0xe7da1d8327ae1f320bbc23ca119b02ad3f85dceb:2</td>\n      <td>OHM-BLKD</td>\n      <td>0x64aa3364f17a4d01c6f1751fd97c2bd3d7e7f1d5</td>\n      <td>0x64aa3364f17a4d01c6f1751fd97c2bd3d7e7f1d5</td>\n      <td>OHM</td>\n      <td>True</td>\n      <td>Olympus</td>\n      <td>True</td>\n      <td>9</td>\n      <td>True</td>\n      <td>...</td>\n      <td>0.00958</td>\n      <td>1.513293e+01</td>\n      <td>2.193941e+04</td>\n      <td>1.972742e+02</td>\n      <td>3.825318e+05</td>\n      <td>0.591823</td>\n      <td>1.147596e+03</td>\n      <td>120</td>\n      <td>4</td>\n      <td>3</td>\n    </tr>\n    <tr>\n      <th>3</th>\n      <td>0xdec41db0c33f3f6f3cb615449c311ba22d418a8d:1</td>\n      <td>OHM-LOBI</td>\n      <td>0x64aa3364f17a4d01c6f1751fd97c2bd3d7e7f1d5</td>\n      <td>0x64aa3364f17a4d01c6f1751fd97c2bd3d7e7f1d5</td>\n      <td>OHM</td>\n      <td>True</td>\n      <td>Olympus</td>\n      <td>True</td>\n      <td>9</td>\n      <td>True</td>\n      <td>...</td>\n      <td>0.00000</td>\n      <td>0.000000e+00</td>\n      <td>3.184955e+05</td>\n      <td>6.495800e+04</td>\n      <td>2.801671e+08</td>\n      <td>194.873992</td>\n      <td>8.405013e+05</td>\n      <td>10553</td>\n      <td>2</td>\n      <td>1</td>\n    </tr>\n    <tr>\n      <th>4</th>\n      <td>0xdec41db0c33f3f6f3cb615449c311ba22d418a8d:0</td>\n      <td>OHM-LOBI</td>\n      <td>0x383518188c0c6d7730d91b2c03a03c837814a899</td>\n      <td>0x383518188c0c6d7730d91b2c03a03c837814a899</td>\n      <td>OHM</td>\n      <td>True</td>\n      <td>Olympus</td>\n      <td>True</td>\n      <td>9</td>\n      <td>True</td>\n      <td>...</td>\n      <td>0.00000</td>\n      <td>0.000000e+00</td>\n      <td>3.184955e+05</td>\n      <td>6.495800e+04</td>\n      <td>2.801671e+08</td>\n      <td>194.873992</td>\n      <td>8.405013e+05</td>\n      <td>10553</td>\n      <td>2</td>\n      <td>1</td>\n    </tr>\n    <tr>\n      <th>5</th>\n      <td>0xdac17f958d2ee523a2206206994597c13d831ec7:168</td>\n      <td>OHM-USDT</td>\n      <td>0x64aa3364f17a4d01c6f1751fd97c2bd3d7e7f1d5</td>\n      <td>0x64aa3364f17a4d01c6f1751fd97c2bd3d7e7f1d5</td>\n      <td>OHM</td>\n      <td>True</td>\n      <td>Olympus</td>\n      <td>True</td>\n      <td>9</td>\n      <td>True</td>\n      <td>...</td>\n      <td>8975.34184</td>\n      <td>1.375202e+07</td>\n      <td>2.024475e+10</td>\n      <td>1.120126e+07</td>\n      <td>2.021969e+10</td>\n      <td>33603.791289</td>\n      <td>6.065908e+07</td>\n      <td>1063439</td>\n      <td>224</td>\n      <td>14</td>\n    </tr>\n  </tbody>\n</table>\n<p>6 rows × 40 columns</p>\n</div>"
     },
     "execution_count": 26,
     "metadata": {},
     "output_type": "execute_result"
    }
   ],
   "source": [
    "sushi3 = sg.load_api('https://api.thegraph.com/subgraphs/name/sushi-v2/sushiswap-ethereum')\n",
    "\n",
    "pools3 = sushi3.Query.tokenPairs(\n",
    "  orderBy='id',\n",
    "  orderDirection='desc',\n",
    "    #skip =999,\n",
    "  first=1000,\n",
    "  #where=[\n",
    "   #sushi3.Query.tokenPairs.pair.token0.symbol == 'DAI'\n",
    "    #sushi3.Query.tokenPairs.id == '0xff20817765cb7f73d4bde2e66e067e58d11095c2:1'\n",
    "  #]\n",
    ")\n",
    "#0x04F2694C8fcee23e8Fd0dfEA1d4f5Bb8c352111F\n",
    "\n",
    "pool_data3 = sg.query_df([\n",
    "    pools3.id\n",
    "    ,pools3.pair.name\n",
    "    ,pools3.pair.token0\n",
    "    ,pools3.pair.token1\n",
    "    #,pools3.name\n",
    "    #,pools3.nameSuccess\n",
    "    #,pools3.liquidity\n",
    "    #,pools3.decimals\n",
    "])\n",
    "pool_datadb3 = db.query(\"select \"\n",
    "                   \"    *  \"\n",
    "                   \"From pool_data3 \"\n",
    "                       \"\"\n",
    "                   \"where lower(tokenPairs_pair_name) like lower('%OHM%') \"\n",
    "                   \" limit 100 \"\n",
    "                   ).df()\n",
    "\n",
    "pool_datadb3.head(10)"
   ],
   "metadata": {
    "collapsed": false,
    "pycharm": {
     "name": "#%%\n"
    }
   }
  },
  {
   "cell_type": "code",
   "execution_count": 45,
   "outputs": [
    {
     "name": "stdout",
     "output_type": "stream",
     "text": [
      "1 6\n",
      "2 12\n",
      "3 15\n",
      "4 18\n",
      "5 23\n"
     ]
    },
    {
     "ename": "Exception",
     "evalue": "[{'message': 'The `skip` argument must be between 0 and 5000, but is 5001'}]",
     "output_type": "error",
     "traceback": [
      "\u001B[1;31m---------------------------------------------------------------------------\u001B[0m",
      "\u001B[1;31mKeyError\u001B[0m                                  Traceback (most recent call last)",
      "File \u001B[1;32m~\\PycharmProjects\\OhmLiquidityPools\\venv\\lib\\site-packages\\subgrounds\\client.py:165\u001B[0m, in \u001B[0;36mquery\u001B[1;34m(url, query_str, variables)\u001B[0m\n\u001B[0;32m    164\u001B[0m \u001B[38;5;28;01mtry\u001B[39;00m:\n\u001B[1;32m--> 165\u001B[0m   \u001B[38;5;28;01mreturn\u001B[39;00m \u001B[43mresp\u001B[49m\u001B[43m[\u001B[49m\u001B[38;5;124;43m'\u001B[39;49m\u001B[38;5;124;43mdata\u001B[39;49m\u001B[38;5;124;43m'\u001B[39;49m\u001B[43m]\u001B[49m\n\u001B[0;32m    166\u001B[0m \u001B[38;5;28;01mexcept\u001B[39;00m \u001B[38;5;167;01mKeyError\u001B[39;00m \u001B[38;5;28;01mas\u001B[39;00m exn:\n",
      "\u001B[1;31mKeyError\u001B[0m: 'data'",
      "\nThe above exception was the direct cause of the following exception:\n",
      "\u001B[1;31mException\u001B[0m                                 Traceback (most recent call last)",
      "Cell \u001B[1;32mIn[45], line 20\u001B[0m\n\u001B[0;32m      8\u001B[0m pools3 \u001B[38;5;241m=\u001B[39m sushi3\u001B[38;5;241m.\u001B[39mQuery\u001B[38;5;241m.\u001B[39mtokenPairs(\n\u001B[0;32m      9\u001B[0m   orderBy\u001B[38;5;241m=\u001B[39m\u001B[38;5;124m'\u001B[39m\u001B[38;5;124mid\u001B[39m\u001B[38;5;124m'\u001B[39m,\n\u001B[0;32m     10\u001B[0m   orderDirection\u001B[38;5;241m=\u001B[39m\u001B[38;5;124m'\u001B[39m\u001B[38;5;124mdesc\u001B[39m\u001B[38;5;124m'\u001B[39m,\n\u001B[1;32m   (...)\u001B[0m\n\u001B[0;32m     16\u001B[0m   \u001B[38;5;66;03m#]\u001B[39;00m\n\u001B[0;32m     17\u001B[0m )\n\u001B[0;32m     18\u001B[0m \u001B[38;5;66;03m#0x04F2694C8fcee23e8Fd0dfEA1d4f5Bb8c352111F\u001B[39;00m\n\u001B[1;32m---> 20\u001B[0m pool_data3 \u001B[38;5;241m=\u001B[39m \u001B[43msg\u001B[49m\u001B[38;5;241;43m.\u001B[39;49m\u001B[43mquery_df\u001B[49m\u001B[43m(\u001B[49m\u001B[43m[\u001B[49m\n\u001B[0;32m     21\u001B[0m \u001B[43m    \u001B[49m\u001B[43mpools3\u001B[49m\u001B[38;5;241;43m.\u001B[39;49m\u001B[43mid\u001B[49m\n\u001B[0;32m     22\u001B[0m \u001B[43m    \u001B[49m\u001B[43m,\u001B[49m\u001B[43mpools3\u001B[49m\u001B[38;5;241;43m.\u001B[39;49m\u001B[43mpair\u001B[49m\u001B[38;5;241;43m.\u001B[39;49m\u001B[43mname\u001B[49m\n\u001B[0;32m     23\u001B[0m \u001B[43m    \u001B[49m\u001B[43m,\u001B[49m\u001B[43mpools3\u001B[49m\u001B[38;5;241;43m.\u001B[39;49m\u001B[43mpair\u001B[49m\u001B[38;5;241;43m.\u001B[39;49m\u001B[43mtoken0\u001B[49m\n\u001B[0;32m     24\u001B[0m \u001B[43m    \u001B[49m\u001B[43m,\u001B[49m\u001B[43mpools3\u001B[49m\u001B[38;5;241;43m.\u001B[39;49m\u001B[43mpair\u001B[49m\u001B[38;5;241;43m.\u001B[39;49m\u001B[43mtoken1\u001B[49m\n\u001B[0;32m     25\u001B[0m \u001B[43m    \u001B[49m\u001B[38;5;66;43;03m#,pools3.name\u001B[39;49;00m\n\u001B[0;32m     26\u001B[0m \u001B[43m    \u001B[49m\u001B[38;5;66;43;03m#,pools3.nameSuccess\u001B[39;49;00m\n\u001B[0;32m     27\u001B[0m \u001B[43m    \u001B[49m\u001B[38;5;66;43;03m#,pools3.liquidity\u001B[39;49;00m\n\u001B[0;32m     28\u001B[0m \u001B[43m    \u001B[49m\u001B[38;5;66;43;03m#,pools3.decimals\u001B[39;49;00m\n\u001B[0;32m     29\u001B[0m \u001B[43m\u001B[49m\u001B[43m]\u001B[49m\u001B[43m)\u001B[49m\n\u001B[0;32m     30\u001B[0m pool_datadb3 \u001B[38;5;241m=\u001B[39m db\u001B[38;5;241m.\u001B[39mquery(\u001B[38;5;124m\"\u001B[39m\u001B[38;5;124mselect \u001B[39m\u001B[38;5;124m\"\u001B[39m\n\u001B[0;32m     31\u001B[0m                    \u001B[38;5;124m\"\u001B[39m\u001B[38;5;124m    *  \u001B[39m\u001B[38;5;124m\"\u001B[39m\n\u001B[0;32m     32\u001B[0m                    \u001B[38;5;124m\"\u001B[39m\u001B[38;5;124mFrom pool_data3 \u001B[39m\u001B[38;5;124m\"\u001B[39m\n\u001B[1;32m   (...)\u001B[0m\n\u001B[0;32m     35\u001B[0m                    \u001B[38;5;124m\"\u001B[39m\u001B[38;5;124m limit 100 \u001B[39m\u001B[38;5;124m\"\u001B[39m\n\u001B[0;32m     36\u001B[0m                    )\u001B[38;5;241m.\u001B[39mdf()\n\u001B[0;32m     38\u001B[0m token_list\u001B[38;5;241m=\u001B[39mpd\u001B[38;5;241m.\u001B[39mconcat([token_list, pool_datadb3])\n",
      "File \u001B[1;32m~\\PycharmProjects\\OhmLiquidityPools\\venv\\lib\\site-packages\\subgrounds\\subgrounds.py:380\u001B[0m, in \u001B[0;36mSubgrounds.query_df\u001B[1;34m(self, fpaths, columns, concat, pagination_strategy)\u001B[0m\n\u001B[0;32m    309\u001B[0m \u001B[38;5;250m\u001B[39m\u001B[38;5;124;03m\"\"\"Same as :func:`Subgrounds.query` but formats the response data into a\u001B[39;00m\n\u001B[0;32m    310\u001B[0m \u001B[38;5;124;03mPandas DataFrame. If the response data cannot be flattened to a single query\u001B[39;00m\n\u001B[0;32m    311\u001B[0m \u001B[38;5;124;03m(e.g.: when querying multiple list fields that return different entities),\u001B[39;00m\n\u001B[1;32m   (...)\u001B[0m\n\u001B[0;32m    372\u001B[0m \u001B[38;5;124;03m    9       1643213196  2610.686563\u001B[39;00m\n\u001B[0;32m    373\u001B[0m \u001B[38;5;124;03m\"\"\"\u001B[39;00m\n\u001B[0;32m    374\u001B[0m fpaths \u001B[38;5;241m=\u001B[39m \u001B[38;5;28mlist\u001B[39m(\n\u001B[0;32m    375\u001B[0m   [fpaths]\n\u001B[0;32m    376\u001B[0m   \u001B[38;5;241m|\u001B[39m traverse\n\u001B[0;32m    377\u001B[0m   \u001B[38;5;241m|\u001B[39m \u001B[38;5;28mmap\u001B[39m(FieldPath\u001B[38;5;241m.\u001B[39m_auto_select)\n\u001B[0;32m    378\u001B[0m   \u001B[38;5;241m|\u001B[39m traverse\n\u001B[0;32m    379\u001B[0m )\n\u001B[1;32m--> 380\u001B[0m json_data \u001B[38;5;241m=\u001B[39m \u001B[38;5;28;43mself\u001B[39;49m\u001B[38;5;241;43m.\u001B[39;49m\u001B[43mquery_json\u001B[49m\u001B[43m(\u001B[49m\u001B[43mfpaths\u001B[49m\u001B[43m,\u001B[49m\u001B[43m \u001B[49m\u001B[43mpagination_strategy\u001B[49m\u001B[38;5;241;43m=\u001B[39;49m\u001B[43mpagination_strategy\u001B[49m\u001B[43m)\u001B[49m\n\u001B[0;32m    381\u001B[0m \u001B[38;5;28;01mreturn\u001B[39;00m df_of_json(json_data, fpaths, columns, concat)\n",
      "File \u001B[1;32m~\\PycharmProjects\\OhmLiquidityPools\\venv\\lib\\site-packages\\subgrounds\\subgrounds.py:274\u001B[0m, in \u001B[0;36mSubgrounds.query_json\u001B[1;34m(self, fpaths, pagination_strategy)\u001B[0m\n\u001B[0;32m    267\u001B[0m fpaths \u001B[38;5;241m=\u001B[39m \u001B[38;5;28mlist\u001B[39m(\n\u001B[0;32m    268\u001B[0m   [fpaths]\n\u001B[0;32m    269\u001B[0m   \u001B[38;5;241m|\u001B[39m traverse\n\u001B[0;32m    270\u001B[0m   \u001B[38;5;241m|\u001B[39m \u001B[38;5;28mmap\u001B[39m(FieldPath\u001B[38;5;241m.\u001B[39m_auto_select)\n\u001B[0;32m    271\u001B[0m   \u001B[38;5;241m|\u001B[39m traverse\n\u001B[0;32m    272\u001B[0m )\n\u001B[0;32m    273\u001B[0m req \u001B[38;5;241m=\u001B[39m \u001B[38;5;28mself\u001B[39m\u001B[38;5;241m.\u001B[39mmk_request(fpaths)\n\u001B[1;32m--> 274\u001B[0m \u001B[38;5;28;01mreturn\u001B[39;00m \u001B[38;5;28;43mself\u001B[39;49m\u001B[38;5;241;43m.\u001B[39;49m\u001B[43mexecute\u001B[49m\u001B[43m(\u001B[49m\u001B[43mreq\u001B[49m\u001B[43m,\u001B[49m\u001B[43m \u001B[49m\u001B[43mpagination_strategy\u001B[49m\u001B[38;5;241;43m=\u001B[39;49m\u001B[43mpagination_strategy\u001B[49m\u001B[43m)\u001B[49m\n",
      "File \u001B[1;32m~\\PycharmProjects\\OhmLiquidityPools\\venv\\lib\\site-packages\\subgrounds\\subgrounds.py:199\u001B[0m, in \u001B[0;36mSubgrounds.execute\u001B[1;34m(self, req, pagination_strategy)\u001B[0m\n\u001B[0;32m    195\u001B[0m       \u001B[38;5;28;01mreturn\u001B[39;00m transform\u001B[38;5;241m.\u001B[39mtransform_response(req, data)\n\u001B[0;32m    197\u001B[0m   \u001B[38;5;28;01massert\u001B[39;00m \u001B[38;5;28;01mFalse\u001B[39;00m  \u001B[38;5;66;03m# Suppress mypy missing return statement warning\u001B[39;00m\n\u001B[1;32m--> 199\u001B[0m \u001B[38;5;28;01mreturn\u001B[39;00m \u001B[43mtransform_req\u001B[49m\u001B[43m(\u001B[49m\u001B[38;5;28;43mself\u001B[39;49m\u001B[38;5;241;43m.\u001B[39;49m\u001B[43mglobal_transforms\u001B[49m\u001B[43m,\u001B[49m\u001B[43m \u001B[49m\u001B[43mreq\u001B[49m\u001B[43m)\u001B[49m\n",
      "File \u001B[1;32m~\\PycharmProjects\\OhmLiquidityPools\\venv\\lib\\site-packages\\subgrounds\\subgrounds.py:191\u001B[0m, in \u001B[0;36mSubgrounds.execute.<locals>.transform_req\u001B[1;34m(transforms, req)\u001B[0m\n\u001B[0;32m    189\u001B[0m \u001B[38;5;28;01mmatch\u001B[39;00m transforms:\n\u001B[0;32m    190\u001B[0m   \u001B[38;5;28;01mcase\u001B[39;00m []:\n\u001B[1;32m--> 191\u001B[0m     \u001B[38;5;28;01mreturn\u001B[39;00m \u001B[38;5;28;43mlist\u001B[39;49m\u001B[43m(\u001B[49m\u001B[43mreq\u001B[49m\u001B[38;5;241;43m.\u001B[39;49m\u001B[43mdocuments\u001B[49m\u001B[43m \u001B[49m\u001B[38;5;241;43m|\u001B[39;49m\u001B[43m \u001B[49m\u001B[38;5;28;43mmap\u001B[39;49m\u001B[43m(\u001B[49m\u001B[38;5;28;43;01mlambda\u001B[39;49;00m\u001B[43m \u001B[49m\u001B[43mdoc\u001B[49m\u001B[43m:\u001B[49m\u001B[43m \u001B[49m\u001B[43mtransform_doc\u001B[49m\u001B[43m(\u001B[49m\u001B[38;5;28;43mself\u001B[39;49m\u001B[38;5;241;43m.\u001B[39;49m\u001B[43msubgraphs\u001B[49m\u001B[43m[\u001B[49m\u001B[43mdoc\u001B[49m\u001B[38;5;241;43m.\u001B[39;49m\u001B[43murl\u001B[49m\u001B[43m]\u001B[49m\u001B[38;5;241;43m.\u001B[39;49m\u001B[43m_transforms\u001B[49m\u001B[43m,\u001B[49m\u001B[43m \u001B[49m\u001B[43mdoc\u001B[49m\u001B[43m)\u001B[49m\u001B[43m)\u001B[49m\u001B[43m)\u001B[49m\n\u001B[0;32m    192\u001B[0m   \u001B[38;5;28;01mcase\u001B[39;00m [transform, \u001B[38;5;241m*\u001B[39mrest]:\n\u001B[0;32m    193\u001B[0m     new_req \u001B[38;5;241m=\u001B[39m transform\u001B[38;5;241m.\u001B[39mtransform_request(req)\n",
      "File \u001B[1;32m~\\PycharmProjects\\OhmLiquidityPools\\venv\\lib\\site-packages\\subgrounds\\subgrounds.py:191\u001B[0m, in \u001B[0;36mSubgrounds.execute.<locals>.transform_req.<locals>.<lambda>\u001B[1;34m(doc)\u001B[0m\n\u001B[0;32m    189\u001B[0m \u001B[38;5;28;01mmatch\u001B[39;00m transforms:\n\u001B[0;32m    190\u001B[0m   \u001B[38;5;28;01mcase\u001B[39;00m []:\n\u001B[1;32m--> 191\u001B[0m     \u001B[38;5;28;01mreturn\u001B[39;00m \u001B[38;5;28mlist\u001B[39m(req\u001B[38;5;241m.\u001B[39mdocuments \u001B[38;5;241m|\u001B[39m \u001B[38;5;28mmap\u001B[39m(\u001B[38;5;28;01mlambda\u001B[39;00m doc: \u001B[43mtransform_doc\u001B[49m\u001B[43m(\u001B[49m\u001B[38;5;28;43mself\u001B[39;49m\u001B[38;5;241;43m.\u001B[39;49m\u001B[43msubgraphs\u001B[49m\u001B[43m[\u001B[49m\u001B[43mdoc\u001B[49m\u001B[38;5;241;43m.\u001B[39;49m\u001B[43murl\u001B[49m\u001B[43m]\u001B[49m\u001B[38;5;241;43m.\u001B[39;49m\u001B[43m_transforms\u001B[49m\u001B[43m,\u001B[49m\u001B[43m \u001B[49m\u001B[43mdoc\u001B[49m\u001B[43m)\u001B[49m))\n\u001B[0;32m    192\u001B[0m   \u001B[38;5;28;01mcase\u001B[39;00m [transform, \u001B[38;5;241m*\u001B[39mrest]:\n\u001B[0;32m    193\u001B[0m     new_req \u001B[38;5;241m=\u001B[39m transform\u001B[38;5;241m.\u001B[39mtransform_request(req)\n",
      "File \u001B[1;32m~\\PycharmProjects\\OhmLiquidityPools\\venv\\lib\\site-packages\\subgrounds\\subgrounds.py:183\u001B[0m, in \u001B[0;36mSubgrounds.execute.<locals>.transform_doc\u001B[1;34m(transforms, doc)\u001B[0m\n\u001B[0;32m    181\u001B[0m   \u001B[38;5;28;01mcase\u001B[39;00m [transform, \u001B[38;5;241m*\u001B[39mrest]:\n\u001B[0;32m    182\u001B[0m     new_doc \u001B[38;5;241m=\u001B[39m transform\u001B[38;5;241m.\u001B[39mtransform_document(doc)\n\u001B[1;32m--> 183\u001B[0m     data \u001B[38;5;241m=\u001B[39m \u001B[43mtransform_doc\u001B[49m\u001B[43m(\u001B[49m\u001B[43mrest\u001B[49m\u001B[43m,\u001B[49m\u001B[43m \u001B[49m\u001B[43mnew_doc\u001B[49m\u001B[43m)\u001B[49m\n\u001B[0;32m    184\u001B[0m     \u001B[38;5;28;01mreturn\u001B[39;00m transform\u001B[38;5;241m.\u001B[39mtransform_response(doc, data)\n\u001B[0;32m    186\u001B[0m \u001B[38;5;28;01massert\u001B[39;00m \u001B[38;5;28;01mFalse\u001B[39;00m\n",
      "File \u001B[1;32m~\\PycharmProjects\\OhmLiquidityPools\\venv\\lib\\site-packages\\subgrounds\\subgrounds.py:183\u001B[0m, in \u001B[0;36mSubgrounds.execute.<locals>.transform_doc\u001B[1;34m(transforms, doc)\u001B[0m\n\u001B[0;32m    181\u001B[0m   \u001B[38;5;28;01mcase\u001B[39;00m [transform, \u001B[38;5;241m*\u001B[39mrest]:\n\u001B[0;32m    182\u001B[0m     new_doc \u001B[38;5;241m=\u001B[39m transform\u001B[38;5;241m.\u001B[39mtransform_document(doc)\n\u001B[1;32m--> 183\u001B[0m     data \u001B[38;5;241m=\u001B[39m \u001B[43mtransform_doc\u001B[49m\u001B[43m(\u001B[49m\u001B[43mrest\u001B[49m\u001B[43m,\u001B[49m\u001B[43m \u001B[49m\u001B[43mnew_doc\u001B[49m\u001B[43m)\u001B[49m\n\u001B[0;32m    184\u001B[0m     \u001B[38;5;28;01mreturn\u001B[39;00m transform\u001B[38;5;241m.\u001B[39mtransform_response(doc, data)\n\u001B[0;32m    186\u001B[0m \u001B[38;5;28;01massert\u001B[39;00m \u001B[38;5;28;01mFalse\u001B[39;00m\n",
      "File \u001B[1;32m~\\PycharmProjects\\OhmLiquidityPools\\venv\\lib\\site-packages\\subgrounds\\subgrounds.py:180\u001B[0m, in \u001B[0;36mSubgrounds.execute.<locals>.transform_doc\u001B[1;34m(transforms, doc)\u001B[0m\n\u001B[0;32m    178\u001B[0m \u001B[38;5;28;01mmatch\u001B[39;00m transforms:\n\u001B[0;32m    179\u001B[0m   \u001B[38;5;28;01mcase\u001B[39;00m []:\n\u001B[1;32m--> 180\u001B[0m     \u001B[38;5;28;01mreturn\u001B[39;00m \u001B[43mexecute_document\u001B[49m\u001B[43m(\u001B[49m\u001B[43mdoc\u001B[49m\u001B[43m)\u001B[49m\n\u001B[0;32m    181\u001B[0m   \u001B[38;5;28;01mcase\u001B[39;00m [transform, \u001B[38;5;241m*\u001B[39mrest]:\n\u001B[0;32m    182\u001B[0m     new_doc \u001B[38;5;241m=\u001B[39m transform\u001B[38;5;241m.\u001B[39mtransform_document(doc)\n",
      "File \u001B[1;32m~\\PycharmProjects\\OhmLiquidityPools\\venv\\lib\\site-packages\\subgrounds\\subgrounds.py:174\u001B[0m, in \u001B[0;36mSubgrounds.execute.<locals>.execute_document\u001B[1;34m(doc)\u001B[0m\n\u001B[0;32m    172\u001B[0m   \u001B[38;5;28;01mreturn\u001B[39;00m paginate(subgraph\u001B[38;5;241m.\u001B[39m_schema, doc, pagination_strategy\u001B[38;5;241m=\u001B[39mpagination_strategy)\n\u001B[0;32m    173\u001B[0m \u001B[38;5;28;01melse\u001B[39;00m:\n\u001B[1;32m--> 174\u001B[0m   \u001B[38;5;28;01mreturn\u001B[39;00m \u001B[43mclient\u001B[49m\u001B[38;5;241;43m.\u001B[39;49m\u001B[43mquery\u001B[49m\u001B[43m(\u001B[49m\u001B[43mdoc\u001B[49m\u001B[38;5;241;43m.\u001B[39;49m\u001B[43murl\u001B[49m\u001B[43m,\u001B[49m\u001B[43m \u001B[49m\u001B[43mdoc\u001B[49m\u001B[38;5;241;43m.\u001B[39;49m\u001B[43mgraphql\u001B[49m\u001B[43m,\u001B[49m\u001B[43m \u001B[49m\u001B[43mvariables\u001B[49m\u001B[38;5;241;43m=\u001B[39;49m\u001B[43mdoc\u001B[49m\u001B[38;5;241;43m.\u001B[39;49m\u001B[43mvariables\u001B[49m\u001B[43m)\u001B[49m\n",
      "File \u001B[1;32m~\\PycharmProjects\\OhmLiquidityPools\\venv\\lib\\site-packages\\subgrounds\\client.py:167\u001B[0m, in \u001B[0;36mquery\u001B[1;34m(url, query_str, variables)\u001B[0m\n\u001B[0;32m    165\u001B[0m   \u001B[38;5;28;01mreturn\u001B[39;00m resp[\u001B[38;5;124m'\u001B[39m\u001B[38;5;124mdata\u001B[39m\u001B[38;5;124m'\u001B[39m]\n\u001B[0;32m    166\u001B[0m \u001B[38;5;28;01mexcept\u001B[39;00m \u001B[38;5;167;01mKeyError\u001B[39;00m \u001B[38;5;28;01mas\u001B[39;00m exn:\n\u001B[1;32m--> 167\u001B[0m   \u001B[38;5;28;01mraise\u001B[39;00m \u001B[38;5;167;01mException\u001B[39;00m(resp[\u001B[38;5;124m'\u001B[39m\u001B[38;5;124merrors\u001B[39m\u001B[38;5;124m'\u001B[39m]) \u001B[38;5;28;01mfrom\u001B[39;00m \u001B[38;5;21;01mexn\u001B[39;00m\n",
      "\u001B[1;31mException\u001B[0m: [{'message': 'The `skip` argument must be between 0 and 5000, but is 5001'}]"
     ]
    }
   ],
   "source": [
    "sushi3 = sg.load_api('https://api.thegraph.com/subgraphs/name/sushi-v2/sushiswap-ethereum')\n",
    "ticker=0\n",
    "limit = 1\n",
    "token_list = pd.DataFrame()\n",
    "while ticker <= 5:\n",
    "    while limit>0:\n",
    "\n",
    "        pools3 = sushi3.Query.tokenPairs(\n",
    "          orderBy='id',\n",
    "          orderDirection='desc',\n",
    "            skip =(1000*ticker)+1,\n",
    "          first=1000,\n",
    "          #where=[\n",
    "           #sushi3.Query.tokenPairs.pair.token0.symbol == 'DAI'\n",
    "            #sushi3.Query.tokenPairs.id == '0xff20817765cb7f73d4bde2e66e067e58d11095c2:1'\n",
    "          #]\n",
    "        )\n",
    "        #0x04F2694C8fcee23e8Fd0dfEA1d4f5Bb8c352111F\n",
    "\n",
    "        pool_data3 = sg.query_df([\n",
    "            pools3.id\n",
    "            ,pools3.pair.name\n",
    "            ,pools3.pair.token0\n",
    "            ,pools3.pair.token1\n",
    "            #,pools3.name\n",
    "            #,pools3.nameSuccess\n",
    "            #,pools3.liquidity\n",
    "            #,pools3.decimals\n",
    "        ])\n",
    "        pool_datadb3 = db.query(\"select \"\n",
    "                           \"    *  \"\n",
    "                           \"From pool_data3 \"\n",
    "                               \"\"\n",
    "                           \"where lower(tokenPairs_pair_name) like lower('%OHM%') \"\n",
    "                           \" limit 100 \"\n",
    "                           ).df()\n",
    "\n",
    "        token_list=pd.concat([token_list, pool_datadb3])\n",
    "        limit = len(token_list)\n",
    "        ticker = ticker+1\n",
    "        print(ticker, limit)\n",
    "\n",
    "token_list.head(100)"
   ],
   "metadata": {
    "collapsed": false,
    "pycharm": {
     "name": "#%%\n"
    }
   }
  },
  {
   "cell_type": "code",
   "execution_count": 46,
   "outputs": [
    {
     "data": {
      "text/plain": "                                     tokenPairs_id tokenPairs_pair_name  \\\n0     0xed1480d12be41d92f36f5f7bdd88212e381a3677:2             gOHM-FDT   \n1     0xed1480d12be41d92f36f5f7bdd88212e381a3677:0            wsOHM-FDT   \n2     0xe7da1d8327ae1f320bbc23ca119b02ad3f85dceb:2             OHM-BLKD   \n3     0xdec41db0c33f3f6f3cb615449c311ba22d418a8d:1             OHM-LOBI   \n4     0xdec41db0c33f3f6f3cb615449c311ba22d418a8d:0             OHM-LOBI   \n5   0xdac17f958d2ee523a2206206994597c13d831ec7:168             OHM-USDT   \n0     0xca76543cf381ebbb277be79574059e32108e3e65:1           WETH-wsOHM   \n1     0xca76543cf381ebbb277be79574059e32108e3e65:0            wsOHM-FDT   \n2     0xca2b663391684a57fb69f4be1aa8d0dde927b685:0           OHM-DEMOHM   \n3     0xc0d4ceb216b3ba9c3701b291766fdcba977cec3a:1           OHM-BTRFLY   \n4     0xc0d4ceb216b3ba9c3701b291766fdcba977cec3a:0           OHM-BTRFLY   \n5   0xc02aaa39b223fe8d0a0e5c4f27ead9083c756cc2:617             OHM-WETH   \n0  0xc02aaa39b223fe8d0a0e5c4f27ead9083c756cc2:1603            gOHM-WETH   \n1  0xc02aaa39b223fe8d0a0e5c4f27ead9083c756cc2:1565             OHM-WETH   \n2  0xc02aaa39b223fe8d0a0e5c4f27ead9083c756cc2:1483           WETH-wsOHM   \n0  0xc02aaa39b223fe8d0a0e5c4f27ead9083c756cc2:1461            sOHM-WETH   \n1     0xba3dc9c2cf1c666cf991bfbbef77bb5f9c7f93b5:0           OHM-CATOHM   \n2     0xa48d2070472ad4d872d2f5d5893488c763424e09:0            OHM-HADES   \n0     0xa09c0e98a252965a2b6bf2994e2d2c020af0f89a:0          MIM-SHIBOHM   \n1     0x99d8a9c45b2eca8864373a26d1459e3dff1e17f3:3          MIM-SHIBOHM   \n2     0x853d955acef822db058eb8505911ed77f175b99e:7             OHM-FRAX   \n3     0x853d955acef822db058eb8505911ed77f175b99e:4             OHM-FRAX   \n4     0x72aa40952217bb1ae7b27ea567207cb10af756e8:0           OHM-OHMEOW   \n\n                    tokenPairs_pair_token0_id  \\\n0  0x0ab87046fbb341d058f17cbc4c1133f25a20a52f   \n1  0xca76543cf381ebbb277be79574059e32108e3e65   \n2  0x64aa3364f17a4d01c6f1751fd97c2bd3d7e7f1d5   \n3  0x64aa3364f17a4d01c6f1751fd97c2bd3d7e7f1d5   \n4  0x383518188c0c6d7730d91b2c03a03c837814a899   \n5  0x64aa3364f17a4d01c6f1751fd97c2bd3d7e7f1d5   \n0  0xc02aaa39b223fe8d0a0e5c4f27ead9083c756cc2   \n1  0xca76543cf381ebbb277be79574059e32108e3e65   \n2  0x383518188c0c6d7730d91b2c03a03c837814a899   \n3  0x64aa3364f17a4d01c6f1751fd97c2bd3d7e7f1d5   \n4  0x383518188c0c6d7730d91b2c03a03c837814a899   \n5  0x383518188c0c6d7730d91b2c03a03c837814a899   \n0  0x0ab87046fbb341d058f17cbc4c1133f25a20a52f   \n1  0x64aa3364f17a4d01c6f1751fd97c2bd3d7e7f1d5   \n2  0xc02aaa39b223fe8d0a0e5c4f27ead9083c756cc2   \n0  0x04f2694c8fcee23e8fd0dfea1d4f5bb8c352111f   \n1  0x383518188c0c6d7730d91b2c03a03c837814a899   \n2  0x383518188c0c6d7730d91b2c03a03c837814a899   \n0  0x99d8a9c45b2eca8864373a26d1459e3dff1e17f3   \n1  0x99d8a9c45b2eca8864373a26d1459e3dff1e17f3   \n2  0x64aa3364f17a4d01c6f1751fd97c2bd3d7e7f1d5   \n3  0x383518188c0c6d7730d91b2c03a03c837814a899   \n4  0x383518188c0c6d7730d91b2c03a03c837814a899   \n\n              tokenPairs_pair_token0_price_id tokenPairs_pair_token0_symbol  \\\n0  0x0ab87046fbb341d058f17cbc4c1133f25a20a52f                          gOHM   \n1  0xca76543cf381ebbb277be79574059e32108e3e65                         wsOHM   \n2  0x64aa3364f17a4d01c6f1751fd97c2bd3d7e7f1d5                           OHM   \n3  0x64aa3364f17a4d01c6f1751fd97c2bd3d7e7f1d5                           OHM   \n4  0x383518188c0c6d7730d91b2c03a03c837814a899                           OHM   \n5  0x64aa3364f17a4d01c6f1751fd97c2bd3d7e7f1d5                           OHM   \n0  0xc02aaa39b223fe8d0a0e5c4f27ead9083c756cc2                          WETH   \n1  0xca76543cf381ebbb277be79574059e32108e3e65                         wsOHM   \n2  0x383518188c0c6d7730d91b2c03a03c837814a899                           OHM   \n3  0x64aa3364f17a4d01c6f1751fd97c2bd3d7e7f1d5                           OHM   \n4  0x383518188c0c6d7730d91b2c03a03c837814a899                           OHM   \n5  0x383518188c0c6d7730d91b2c03a03c837814a899                           OHM   \n0  0x0ab87046fbb341d058f17cbc4c1133f25a20a52f                          gOHM   \n1  0x64aa3364f17a4d01c6f1751fd97c2bd3d7e7f1d5                           OHM   \n2  0xc02aaa39b223fe8d0a0e5c4f27ead9083c756cc2                          WETH   \n0  0x04f2694c8fcee23e8fd0dfea1d4f5bb8c352111f                          sOHM   \n1  0x383518188c0c6d7730d91b2c03a03c837814a899                           OHM   \n2  0x383518188c0c6d7730d91b2c03a03c837814a899                           OHM   \n0  0x99d8a9c45b2eca8864373a26d1459e3dff1e17f3                           MIM   \n1  0x99d8a9c45b2eca8864373a26d1459e3dff1e17f3                           MIM   \n2  0x64aa3364f17a4d01c6f1751fd97c2bd3d7e7f1d5                           OHM   \n3  0x383518188c0c6d7730d91b2c03a03c837814a899                           OHM   \n4  0x383518188c0c6d7730d91b2c03a03c837814a899                           OHM   \n\n   tokenPairs_pair_token0_symbolSuccess tokenPairs_pair_token0_name  \\\n0                                  True              Governance OHM   \n1                                  True                Wrapped sOHM   \n2                                  True                     Olympus   \n3                                  True                     Olympus   \n4                                  True                     Olympus   \n5                                  True                     Olympus   \n0                                  True               Wrapped Ether   \n1                                  True                Wrapped sOHM   \n2                                  True                     Olympus   \n3                                  True                     Olympus   \n4                                  True                     Olympus   \n5                                  True                     Olympus   \n0                                  True              Governance OHM   \n1                                  True                     Olympus   \n2                                  True               Wrapped Ether   \n0                                  True              Staked Olympus   \n1                                  True                     Olympus   \n2                                  True                     Olympus   \n0                                  True        Magic Internet Money   \n1                                  True        Magic Internet Money   \n2                                  True                     Olympus   \n3                                  True                     Olympus   \n4                                  True                     Olympus   \n\n   tokenPairs_pair_token0_nameSuccess  tokenPairs_pair_token0_decimals  \\\n0                                True                               18   \n1                                True                               18   \n2                                True                                9   \n3                                True                                9   \n4                                True                                9   \n5                                True                                9   \n0                                True                               18   \n1                                True                               18   \n2                                True                                9   \n3                                True                                9   \n4                                True                                9   \n5                                True                                9   \n0                                True                               18   \n1                                True                                9   \n2                                True                               18   \n0                                True                                9   \n1                                True                                9   \n2                                True                                9   \n0                                True                               18   \n1                                True                               18   \n2                                True                                9   \n3                                True                                9   \n4                                True                                9   \n\n   tokenPairs_pair_token0_decimalsSuccess  ...  \\\n0                                    True  ...   \n1                                    True  ...   \n2                                    True  ...   \n3                                    True  ...   \n4                                    True  ...   \n5                                    True  ...   \n0                                    True  ...   \n1                                    True  ...   \n2                                    True  ...   \n3                                    True  ...   \n4                                    True  ...   \n5                                    True  ...   \n0                                    True  ...   \n1                                    True  ...   \n2                                    True  ...   \n0                                    True  ...   \n1                                    True  ...   \n2                                    True  ...   \n0                                    True  ...   \n1                                    True  ...   \n2                                    True  ...   \n3                                    True  ...   \n4                                    True  ...   \n\n   tokenPairs_pair_token1_liquidityNative  \\\n0                                0.000000   \n1                                0.000000   \n2                                0.009580   \n3                                0.000000   \n4                                0.000000   \n5                             8981.324765   \n0                                0.000000   \n1                                0.000000   \n2                               11.720839   \n3                                0.000000   \n4                                0.000000   \n5                            96082.134666   \n0                            96082.134666   \n1                            96082.134666   \n2                                0.000000   \n0                            96082.134666   \n1                                0.000000   \n2                                0.000000   \n0                                0.000000   \n1                                0.000000   \n2                               90.463699   \n3                               90.463699   \n4                                2.099096   \n\n   tokenPairs_pair_token1_liquidityUSD  tokenPairs_pair_token1_volume  \\\n0                         0.000000e+00                   6.870658e+07   \n1                         0.000000e+00                   6.870658e+07   \n2                         1.513293e+01                   2.193941e+04   \n3                         0.000000e+00                   3.184955e+05   \n4                         0.000000e+00                   3.184955e+05   \n5                         1.375515e+07                   2.024476e+10   \n0                         0.000000e+00                   3.209304e+02   \n1                         0.000000e+00                   6.870658e+07   \n2                         5.309043e+04                   1.587675e+06   \n3                         0.000000e+00                   2.054458e+06   \n4                         0.000000e+00                   2.054458e+06   \n5                         1.471421e+08                   8.847385e+07   \n0                         1.471421e+08                   8.847385e+07   \n1                         1.471421e+08                   8.847385e+07   \n2                         0.000000e+00                   3.209304e+02   \n0                         1.471421e+08                   8.847385e+07   \n1                         0.000000e+00                   1.862186e+15   \n2                         0.000000e+00                   2.037322e+00   \n0                         0.000000e+00                   9.029721e+07   \n1                         0.000000e+00                   9.029721e+07   \n2                         1.386045e+05                   3.806928e+08   \n3                         1.386045e+05                   3.806928e+08   \n4                         2.616380e+03                   4.043618e+09   \n\n   tokenPairs_pair_token1_volumeNative  tokenPairs_pair_token1_volumeUSD  \\\n0                         3.748026e+02                      1.558025e+06   \n1                         3.748026e+02                      1.558025e+06   \n2                         1.972742e+02                      3.825318e+05   \n3                         6.495800e+04                      2.801671e+08   \n4                         6.495800e+04                      2.801671e+08   \n5                         1.120127e+07                      2.021970e+10   \n0                         3.269623e+00                      1.270462e+04   \n1                         3.748026e+02                      1.558025e+06   \n2                         1.809762e+02                      8.113064e+05   \n3                         4.945131e+00                      1.887360e+04   \n4                         4.945131e+00                      1.887360e+04   \n5                         8.828582e+07                      1.764573e+11   \n0                         8.828582e+07                      1.764573e+11   \n1                         8.828582e+07                      1.764573e+11   \n2                         3.269623e+00                      1.270462e+04   \n0                         8.828582e+07                      1.764573e+11   \n1                         2.841527e+01                      1.319341e+05   \n2                         1.548972e-01                      5.005792e+02   \n0                         4.622438e+03                      2.128359e+07   \n1                         4.622438e+03                      2.128359e+07   \n2                         1.341910e+05                      3.978602e+08   \n3                         1.341910e+05                      3.978602e+08   \n4                         7.837579e+02                      3.615481e+06   \n\n   tokenPairs_pair_token1_feesNative  tokenPairs_pair_token1_feesUSD  \\\n0                           1.124408                    4.674074e+03   \n1                           1.124408                    4.674074e+03   \n2                           0.591823                    1.147596e+03   \n3                         194.873992                    8.405013e+05   \n4                         194.873992                    8.405013e+05   \n5                       33603.798870                    6.065910e+07   \n0                           0.009809                    3.811386e+01   \n1                           1.124408                    4.674074e+03   \n2                           0.542928                    2.433919e+03   \n3                           0.014835                    5.662081e+01   \n4                           0.014835                    5.662081e+01   \n5                      264857.461361                    5.293720e+08   \n0                      264857.461361                    5.293720e+08   \n1                      264857.461361                    5.293720e+08   \n2                           0.009809                    3.811386e+01   \n0                      264857.461361                    5.293720e+08   \n1                           0.085246                    3.958022e+02   \n2                           0.000465                    1.501738e+00   \n0                          13.867315                    6.385076e+04   \n1                          13.867315                    6.385076e+04   \n2                         402.573072                    1.193581e+06   \n3                         402.573072                    1.193581e+06   \n4                           2.351274                    1.084644e+04   \n\n   tokenPairs_pair_token1_txCount  tokenPairs_pair_token1_pairCount  \\\n0                            3943                                 3   \n1                            3943                                 3   \n2                             120                                 4   \n3                           10553                                 2   \n4                           10553                                 2   \n5                         1063444                               224   \n0                            1180                                 2   \n1                            3943                                 3   \n2                             439                                 1   \n3                           41405                                 2   \n4                           41405                                 2   \n5                        10283289                              2372   \n0                        10283289                              2372   \n1                        10283289                              2372   \n2                            1180                                 2   \n0                        10283289                              2372   \n1                              32                                 1   \n2                              12                                 1   \n0                            2138                                 1   \n1                            2138                                 1   \n2                           40102                                14   \n3                           40102                                14   \n4                             837                                 1   \n\n   tokenPairs_pair_token1_whitelistedPairCount  \n0                                            1  \n1                                            1  \n2                                            3  \n3                                            1  \n4                                            1  \n5                                           14  \n0                                            1  \n1                                            1  \n2                                            1  \n3                                            1  \n4                                            1  \n5                                           33  \n0                                           33  \n1                                           33  \n2                                            1  \n0                                           33  \n1                                            1  \n2                                            1  \n0                                            1  \n1                                            1  \n2                                            6  \n3                                            6  \n4                                            1  \n\n[23 rows x 40 columns]",
      "text/html": "<div>\n<style scoped>\n    .dataframe tbody tr th:only-of-type {\n        vertical-align: middle;\n    }\n\n    .dataframe tbody tr th {\n        vertical-align: top;\n    }\n\n    .dataframe thead th {\n        text-align: right;\n    }\n</style>\n<table border=\"1\" class=\"dataframe\">\n  <thead>\n    <tr style=\"text-align: right;\">\n      <th></th>\n      <th>tokenPairs_id</th>\n      <th>tokenPairs_pair_name</th>\n      <th>tokenPairs_pair_token0_id</th>\n      <th>tokenPairs_pair_token0_price_id</th>\n      <th>tokenPairs_pair_token0_symbol</th>\n      <th>tokenPairs_pair_token0_symbolSuccess</th>\n      <th>tokenPairs_pair_token0_name</th>\n      <th>tokenPairs_pair_token0_nameSuccess</th>\n      <th>tokenPairs_pair_token0_decimals</th>\n      <th>tokenPairs_pair_token0_decimalsSuccess</th>\n      <th>...</th>\n      <th>tokenPairs_pair_token1_liquidityNative</th>\n      <th>tokenPairs_pair_token1_liquidityUSD</th>\n      <th>tokenPairs_pair_token1_volume</th>\n      <th>tokenPairs_pair_token1_volumeNative</th>\n      <th>tokenPairs_pair_token1_volumeUSD</th>\n      <th>tokenPairs_pair_token1_feesNative</th>\n      <th>tokenPairs_pair_token1_feesUSD</th>\n      <th>tokenPairs_pair_token1_txCount</th>\n      <th>tokenPairs_pair_token1_pairCount</th>\n      <th>tokenPairs_pair_token1_whitelistedPairCount</th>\n    </tr>\n  </thead>\n  <tbody>\n    <tr>\n      <th>0</th>\n      <td>0xed1480d12be41d92f36f5f7bdd88212e381a3677:2</td>\n      <td>gOHM-FDT</td>\n      <td>0x0ab87046fbb341d058f17cbc4c1133f25a20a52f</td>\n      <td>0x0ab87046fbb341d058f17cbc4c1133f25a20a52f</td>\n      <td>gOHM</td>\n      <td>True</td>\n      <td>Governance OHM</td>\n      <td>True</td>\n      <td>18</td>\n      <td>True</td>\n      <td>...</td>\n      <td>0.000000</td>\n      <td>0.000000e+00</td>\n      <td>6.870658e+07</td>\n      <td>3.748026e+02</td>\n      <td>1.558025e+06</td>\n      <td>1.124408</td>\n      <td>4.674074e+03</td>\n      <td>3943</td>\n      <td>3</td>\n      <td>1</td>\n    </tr>\n    <tr>\n      <th>1</th>\n      <td>0xed1480d12be41d92f36f5f7bdd88212e381a3677:0</td>\n      <td>wsOHM-FDT</td>\n      <td>0xca76543cf381ebbb277be79574059e32108e3e65</td>\n      <td>0xca76543cf381ebbb277be79574059e32108e3e65</td>\n      <td>wsOHM</td>\n      <td>True</td>\n      <td>Wrapped sOHM</td>\n      <td>True</td>\n      <td>18</td>\n      <td>True</td>\n      <td>...</td>\n      <td>0.000000</td>\n      <td>0.000000e+00</td>\n      <td>6.870658e+07</td>\n      <td>3.748026e+02</td>\n      <td>1.558025e+06</td>\n      <td>1.124408</td>\n      <td>4.674074e+03</td>\n      <td>3943</td>\n      <td>3</td>\n      <td>1</td>\n    </tr>\n    <tr>\n      <th>2</th>\n      <td>0xe7da1d8327ae1f320bbc23ca119b02ad3f85dceb:2</td>\n      <td>OHM-BLKD</td>\n      <td>0x64aa3364f17a4d01c6f1751fd97c2bd3d7e7f1d5</td>\n      <td>0x64aa3364f17a4d01c6f1751fd97c2bd3d7e7f1d5</td>\n      <td>OHM</td>\n      <td>True</td>\n      <td>Olympus</td>\n      <td>True</td>\n      <td>9</td>\n      <td>True</td>\n      <td>...</td>\n      <td>0.009580</td>\n      <td>1.513293e+01</td>\n      <td>2.193941e+04</td>\n      <td>1.972742e+02</td>\n      <td>3.825318e+05</td>\n      <td>0.591823</td>\n      <td>1.147596e+03</td>\n      <td>120</td>\n      <td>4</td>\n      <td>3</td>\n    </tr>\n    <tr>\n      <th>3</th>\n      <td>0xdec41db0c33f3f6f3cb615449c311ba22d418a8d:1</td>\n      <td>OHM-LOBI</td>\n      <td>0x64aa3364f17a4d01c6f1751fd97c2bd3d7e7f1d5</td>\n      <td>0x64aa3364f17a4d01c6f1751fd97c2bd3d7e7f1d5</td>\n      <td>OHM</td>\n      <td>True</td>\n      <td>Olympus</td>\n      <td>True</td>\n      <td>9</td>\n      <td>True</td>\n      <td>...</td>\n      <td>0.000000</td>\n      <td>0.000000e+00</td>\n      <td>3.184955e+05</td>\n      <td>6.495800e+04</td>\n      <td>2.801671e+08</td>\n      <td>194.873992</td>\n      <td>8.405013e+05</td>\n      <td>10553</td>\n      <td>2</td>\n      <td>1</td>\n    </tr>\n    <tr>\n      <th>4</th>\n      <td>0xdec41db0c33f3f6f3cb615449c311ba22d418a8d:0</td>\n      <td>OHM-LOBI</td>\n      <td>0x383518188c0c6d7730d91b2c03a03c837814a899</td>\n      <td>0x383518188c0c6d7730d91b2c03a03c837814a899</td>\n      <td>OHM</td>\n      <td>True</td>\n      <td>Olympus</td>\n      <td>True</td>\n      <td>9</td>\n      <td>True</td>\n      <td>...</td>\n      <td>0.000000</td>\n      <td>0.000000e+00</td>\n      <td>3.184955e+05</td>\n      <td>6.495800e+04</td>\n      <td>2.801671e+08</td>\n      <td>194.873992</td>\n      <td>8.405013e+05</td>\n      <td>10553</td>\n      <td>2</td>\n      <td>1</td>\n    </tr>\n    <tr>\n      <th>5</th>\n      <td>0xdac17f958d2ee523a2206206994597c13d831ec7:168</td>\n      <td>OHM-USDT</td>\n      <td>0x64aa3364f17a4d01c6f1751fd97c2bd3d7e7f1d5</td>\n      <td>0x64aa3364f17a4d01c6f1751fd97c2bd3d7e7f1d5</td>\n      <td>OHM</td>\n      <td>True</td>\n      <td>Olympus</td>\n      <td>True</td>\n      <td>9</td>\n      <td>True</td>\n      <td>...</td>\n      <td>8981.324765</td>\n      <td>1.375515e+07</td>\n      <td>2.024476e+10</td>\n      <td>1.120127e+07</td>\n      <td>2.021970e+10</td>\n      <td>33603.798870</td>\n      <td>6.065910e+07</td>\n      <td>1063444</td>\n      <td>224</td>\n      <td>14</td>\n    </tr>\n    <tr>\n      <th>0</th>\n      <td>0xca76543cf381ebbb277be79574059e32108e3e65:1</td>\n      <td>WETH-wsOHM</td>\n      <td>0xc02aaa39b223fe8d0a0e5c4f27ead9083c756cc2</td>\n      <td>0xc02aaa39b223fe8d0a0e5c4f27ead9083c756cc2</td>\n      <td>WETH</td>\n      <td>True</td>\n      <td>Wrapped Ether</td>\n      <td>True</td>\n      <td>18</td>\n      <td>True</td>\n      <td>...</td>\n      <td>0.000000</td>\n      <td>0.000000e+00</td>\n      <td>3.209304e+02</td>\n      <td>3.269623e+00</td>\n      <td>1.270462e+04</td>\n      <td>0.009809</td>\n      <td>3.811386e+01</td>\n      <td>1180</td>\n      <td>2</td>\n      <td>1</td>\n    </tr>\n    <tr>\n      <th>1</th>\n      <td>0xca76543cf381ebbb277be79574059e32108e3e65:0</td>\n      <td>wsOHM-FDT</td>\n      <td>0xca76543cf381ebbb277be79574059e32108e3e65</td>\n      <td>0xca76543cf381ebbb277be79574059e32108e3e65</td>\n      <td>wsOHM</td>\n      <td>True</td>\n      <td>Wrapped sOHM</td>\n      <td>True</td>\n      <td>18</td>\n      <td>True</td>\n      <td>...</td>\n      <td>0.000000</td>\n      <td>0.000000e+00</td>\n      <td>6.870658e+07</td>\n      <td>3.748026e+02</td>\n      <td>1.558025e+06</td>\n      <td>1.124408</td>\n      <td>4.674074e+03</td>\n      <td>3943</td>\n      <td>3</td>\n      <td>1</td>\n    </tr>\n    <tr>\n      <th>2</th>\n      <td>0xca2b663391684a57fb69f4be1aa8d0dde927b685:0</td>\n      <td>OHM-DEMOHM</td>\n      <td>0x383518188c0c6d7730d91b2c03a03c837814a899</td>\n      <td>0x383518188c0c6d7730d91b2c03a03c837814a899</td>\n      <td>OHM</td>\n      <td>True</td>\n      <td>Olympus</td>\n      <td>True</td>\n      <td>9</td>\n      <td>True</td>\n      <td>...</td>\n      <td>11.720839</td>\n      <td>5.309043e+04</td>\n      <td>1.587675e+06</td>\n      <td>1.809762e+02</td>\n      <td>8.113064e+05</td>\n      <td>0.542928</td>\n      <td>2.433919e+03</td>\n      <td>439</td>\n      <td>1</td>\n      <td>1</td>\n    </tr>\n    <tr>\n      <th>3</th>\n      <td>0xc0d4ceb216b3ba9c3701b291766fdcba977cec3a:1</td>\n      <td>OHM-BTRFLY</td>\n      <td>0x64aa3364f17a4d01c6f1751fd97c2bd3d7e7f1d5</td>\n      <td>0x64aa3364f17a4d01c6f1751fd97c2bd3d7e7f1d5</td>\n      <td>OHM</td>\n      <td>True</td>\n      <td>Olympus</td>\n      <td>True</td>\n      <td>9</td>\n      <td>True</td>\n      <td>...</td>\n      <td>0.000000</td>\n      <td>0.000000e+00</td>\n      <td>2.054458e+06</td>\n      <td>4.945131e+00</td>\n      <td>1.887360e+04</td>\n      <td>0.014835</td>\n      <td>5.662081e+01</td>\n      <td>41405</td>\n      <td>2</td>\n      <td>1</td>\n    </tr>\n    <tr>\n      <th>4</th>\n      <td>0xc0d4ceb216b3ba9c3701b291766fdcba977cec3a:0</td>\n      <td>OHM-BTRFLY</td>\n      <td>0x383518188c0c6d7730d91b2c03a03c837814a899</td>\n      <td>0x383518188c0c6d7730d91b2c03a03c837814a899</td>\n      <td>OHM</td>\n      <td>True</td>\n      <td>Olympus</td>\n      <td>True</td>\n      <td>9</td>\n      <td>True</td>\n      <td>...</td>\n      <td>0.000000</td>\n      <td>0.000000e+00</td>\n      <td>2.054458e+06</td>\n      <td>4.945131e+00</td>\n      <td>1.887360e+04</td>\n      <td>0.014835</td>\n      <td>5.662081e+01</td>\n      <td>41405</td>\n      <td>2</td>\n      <td>1</td>\n    </tr>\n    <tr>\n      <th>5</th>\n      <td>0xc02aaa39b223fe8d0a0e5c4f27ead9083c756cc2:617</td>\n      <td>OHM-WETH</td>\n      <td>0x383518188c0c6d7730d91b2c03a03c837814a899</td>\n      <td>0x383518188c0c6d7730d91b2c03a03c837814a899</td>\n      <td>OHM</td>\n      <td>True</td>\n      <td>Olympus</td>\n      <td>True</td>\n      <td>9</td>\n      <td>True</td>\n      <td>...</td>\n      <td>96082.134666</td>\n      <td>1.471421e+08</td>\n      <td>8.847385e+07</td>\n      <td>8.828582e+07</td>\n      <td>1.764573e+11</td>\n      <td>264857.461361</td>\n      <td>5.293720e+08</td>\n      <td>10283289</td>\n      <td>2372</td>\n      <td>33</td>\n    </tr>\n    <tr>\n      <th>0</th>\n      <td>0xc02aaa39b223fe8d0a0e5c4f27ead9083c756cc2:1603</td>\n      <td>gOHM-WETH</td>\n      <td>0x0ab87046fbb341d058f17cbc4c1133f25a20a52f</td>\n      <td>0x0ab87046fbb341d058f17cbc4c1133f25a20a52f</td>\n      <td>gOHM</td>\n      <td>True</td>\n      <td>Governance OHM</td>\n      <td>True</td>\n      <td>18</td>\n      <td>True</td>\n      <td>...</td>\n      <td>96082.134666</td>\n      <td>1.471421e+08</td>\n      <td>8.847385e+07</td>\n      <td>8.828582e+07</td>\n      <td>1.764573e+11</td>\n      <td>264857.461361</td>\n      <td>5.293720e+08</td>\n      <td>10283289</td>\n      <td>2372</td>\n      <td>33</td>\n    </tr>\n    <tr>\n      <th>1</th>\n      <td>0xc02aaa39b223fe8d0a0e5c4f27ead9083c756cc2:1565</td>\n      <td>OHM-WETH</td>\n      <td>0x64aa3364f17a4d01c6f1751fd97c2bd3d7e7f1d5</td>\n      <td>0x64aa3364f17a4d01c6f1751fd97c2bd3d7e7f1d5</td>\n      <td>OHM</td>\n      <td>True</td>\n      <td>Olympus</td>\n      <td>True</td>\n      <td>9</td>\n      <td>True</td>\n      <td>...</td>\n      <td>96082.134666</td>\n      <td>1.471421e+08</td>\n      <td>8.847385e+07</td>\n      <td>8.828582e+07</td>\n      <td>1.764573e+11</td>\n      <td>264857.461361</td>\n      <td>5.293720e+08</td>\n      <td>10283289</td>\n      <td>2372</td>\n      <td>33</td>\n    </tr>\n    <tr>\n      <th>2</th>\n      <td>0xc02aaa39b223fe8d0a0e5c4f27ead9083c756cc2:1483</td>\n      <td>WETH-wsOHM</td>\n      <td>0xc02aaa39b223fe8d0a0e5c4f27ead9083c756cc2</td>\n      <td>0xc02aaa39b223fe8d0a0e5c4f27ead9083c756cc2</td>\n      <td>WETH</td>\n      <td>True</td>\n      <td>Wrapped Ether</td>\n      <td>True</td>\n      <td>18</td>\n      <td>True</td>\n      <td>...</td>\n      <td>0.000000</td>\n      <td>0.000000e+00</td>\n      <td>3.209304e+02</td>\n      <td>3.269623e+00</td>\n      <td>1.270462e+04</td>\n      <td>0.009809</td>\n      <td>3.811386e+01</td>\n      <td>1180</td>\n      <td>2</td>\n      <td>1</td>\n    </tr>\n    <tr>\n      <th>0</th>\n      <td>0xc02aaa39b223fe8d0a0e5c4f27ead9083c756cc2:1461</td>\n      <td>sOHM-WETH</td>\n      <td>0x04f2694c8fcee23e8fd0dfea1d4f5bb8c352111f</td>\n      <td>0x04f2694c8fcee23e8fd0dfea1d4f5bb8c352111f</td>\n      <td>sOHM</td>\n      <td>True</td>\n      <td>Staked Olympus</td>\n      <td>True</td>\n      <td>9</td>\n      <td>True</td>\n      <td>...</td>\n      <td>96082.134666</td>\n      <td>1.471421e+08</td>\n      <td>8.847385e+07</td>\n      <td>8.828582e+07</td>\n      <td>1.764573e+11</td>\n      <td>264857.461361</td>\n      <td>5.293720e+08</td>\n      <td>10283289</td>\n      <td>2372</td>\n      <td>33</td>\n    </tr>\n    <tr>\n      <th>1</th>\n      <td>0xba3dc9c2cf1c666cf991bfbbef77bb5f9c7f93b5:0</td>\n      <td>OHM-CATOHM</td>\n      <td>0x383518188c0c6d7730d91b2c03a03c837814a899</td>\n      <td>0x383518188c0c6d7730d91b2c03a03c837814a899</td>\n      <td>OHM</td>\n      <td>True</td>\n      <td>Olympus</td>\n      <td>True</td>\n      <td>9</td>\n      <td>True</td>\n      <td>...</td>\n      <td>0.000000</td>\n      <td>0.000000e+00</td>\n      <td>1.862186e+15</td>\n      <td>2.841527e+01</td>\n      <td>1.319341e+05</td>\n      <td>0.085246</td>\n      <td>3.958022e+02</td>\n      <td>32</td>\n      <td>1</td>\n      <td>1</td>\n    </tr>\n    <tr>\n      <th>2</th>\n      <td>0xa48d2070472ad4d872d2f5d5893488c763424e09:0</td>\n      <td>OHM-HADES</td>\n      <td>0x383518188c0c6d7730d91b2c03a03c837814a899</td>\n      <td>0x383518188c0c6d7730d91b2c03a03c837814a899</td>\n      <td>OHM</td>\n      <td>True</td>\n      <td>Olympus</td>\n      <td>True</td>\n      <td>9</td>\n      <td>True</td>\n      <td>...</td>\n      <td>0.000000</td>\n      <td>0.000000e+00</td>\n      <td>2.037322e+00</td>\n      <td>1.548972e-01</td>\n      <td>5.005792e+02</td>\n      <td>0.000465</td>\n      <td>1.501738e+00</td>\n      <td>12</td>\n      <td>1</td>\n      <td>1</td>\n    </tr>\n    <tr>\n      <th>0</th>\n      <td>0xa09c0e98a252965a2b6bf2994e2d2c020af0f89a:0</td>\n      <td>MIM-SHIBOHM</td>\n      <td>0x99d8a9c45b2eca8864373a26d1459e3dff1e17f3</td>\n      <td>0x99d8a9c45b2eca8864373a26d1459e3dff1e17f3</td>\n      <td>MIM</td>\n      <td>True</td>\n      <td>Magic Internet Money</td>\n      <td>True</td>\n      <td>18</td>\n      <td>True</td>\n      <td>...</td>\n      <td>0.000000</td>\n      <td>0.000000e+00</td>\n      <td>9.029721e+07</td>\n      <td>4.622438e+03</td>\n      <td>2.128359e+07</td>\n      <td>13.867315</td>\n      <td>6.385076e+04</td>\n      <td>2138</td>\n      <td>1</td>\n      <td>1</td>\n    </tr>\n    <tr>\n      <th>1</th>\n      <td>0x99d8a9c45b2eca8864373a26d1459e3dff1e17f3:3</td>\n      <td>MIM-SHIBOHM</td>\n      <td>0x99d8a9c45b2eca8864373a26d1459e3dff1e17f3</td>\n      <td>0x99d8a9c45b2eca8864373a26d1459e3dff1e17f3</td>\n      <td>MIM</td>\n      <td>True</td>\n      <td>Magic Internet Money</td>\n      <td>True</td>\n      <td>18</td>\n      <td>True</td>\n      <td>...</td>\n      <td>0.000000</td>\n      <td>0.000000e+00</td>\n      <td>9.029721e+07</td>\n      <td>4.622438e+03</td>\n      <td>2.128359e+07</td>\n      <td>13.867315</td>\n      <td>6.385076e+04</td>\n      <td>2138</td>\n      <td>1</td>\n      <td>1</td>\n    </tr>\n    <tr>\n      <th>2</th>\n      <td>0x853d955acef822db058eb8505911ed77f175b99e:7</td>\n      <td>OHM-FRAX</td>\n      <td>0x64aa3364f17a4d01c6f1751fd97c2bd3d7e7f1d5</td>\n      <td>0x64aa3364f17a4d01c6f1751fd97c2bd3d7e7f1d5</td>\n      <td>OHM</td>\n      <td>True</td>\n      <td>Olympus</td>\n      <td>True</td>\n      <td>9</td>\n      <td>True</td>\n      <td>...</td>\n      <td>90.463699</td>\n      <td>1.386045e+05</td>\n      <td>3.806928e+08</td>\n      <td>1.341910e+05</td>\n      <td>3.978602e+08</td>\n      <td>402.573072</td>\n      <td>1.193581e+06</td>\n      <td>40102</td>\n      <td>14</td>\n      <td>6</td>\n    </tr>\n    <tr>\n      <th>3</th>\n      <td>0x853d955acef822db058eb8505911ed77f175b99e:4</td>\n      <td>OHM-FRAX</td>\n      <td>0x383518188c0c6d7730d91b2c03a03c837814a899</td>\n      <td>0x383518188c0c6d7730d91b2c03a03c837814a899</td>\n      <td>OHM</td>\n      <td>True</td>\n      <td>Olympus</td>\n      <td>True</td>\n      <td>9</td>\n      <td>True</td>\n      <td>...</td>\n      <td>90.463699</td>\n      <td>1.386045e+05</td>\n      <td>3.806928e+08</td>\n      <td>1.341910e+05</td>\n      <td>3.978602e+08</td>\n      <td>402.573072</td>\n      <td>1.193581e+06</td>\n      <td>40102</td>\n      <td>14</td>\n      <td>6</td>\n    </tr>\n    <tr>\n      <th>4</th>\n      <td>0x72aa40952217bb1ae7b27ea567207cb10af756e8:0</td>\n      <td>OHM-OHMEOW</td>\n      <td>0x383518188c0c6d7730d91b2c03a03c837814a899</td>\n      <td>0x383518188c0c6d7730d91b2c03a03c837814a899</td>\n      <td>OHM</td>\n      <td>True</td>\n      <td>Olympus</td>\n      <td>True</td>\n      <td>9</td>\n      <td>True</td>\n      <td>...</td>\n      <td>2.099096</td>\n      <td>2.616380e+03</td>\n      <td>4.043618e+09</td>\n      <td>7.837579e+02</td>\n      <td>3.615481e+06</td>\n      <td>2.351274</td>\n      <td>1.084644e+04</td>\n      <td>837</td>\n      <td>1</td>\n      <td>1</td>\n    </tr>\n  </tbody>\n</table>\n<p>23 rows × 40 columns</p>\n</div>"
     },
     "execution_count": 46,
     "metadata": {},
     "output_type": "execute_result"
    }
   ],
   "source": [
    "token_list.head(100)"
   ],
   "metadata": {
    "collapsed": false,
    "pycharm": {
     "name": "#%%\n"
    }
   }
  },
  {
   "cell_type": "code",
   "execution_count": 57,
   "outputs": [
    {
     "data": {
      "text/plain": "                                     pairs_id  \\\n0  0xffd9cea5bbe86b48e77d168340d4ee51b54fe079   \n1  0xffb638ef0ab9c9c44d6c5d01b01e31b391c6ee19   \n2  0xff0258b33676e83943887be4939514d221368c54   \n3  0xfe801f7b10d0d0d2ab32a175396910087ee82de0   \n4  0xfd393f99188fed09fa56e79dfea89fe354a2aa5a   \n5  0xfc9812e4c8a73e29cac9342c45e2da22353a3b9e   \n6  0xfc61b9428dedaf0af5a7fcdc565ecf1b8562845c   \n7  0xfbe0921beed84088c569a2807378c9adc1541895   \n8  0xfb6778b0410ac9b888c798b5f12cd6be05069f7b   \n9  0xfb44ca8224c58eaddc577ccefab04ce2434b40ff   \n\n                              pairs_token0_id pairs_token0_symbol  \\\n0  0x4accf43c858ac40555fe1ddf5806bcbc1612a4c3               TRINI   \n1  0x1834e58185048bce90a174f113a38d2c0cefb7a8          1ELONINDEX   \n2  0x1a5aa5a1d38ab93dce71a6f15bb99dc40420f671           ELONINDEX   \n3  0x6a023ccd1ff6f2045c3309768ead9e68f978f6e1                WETH   \n4  0xdbbc3156b917755b010f0adf932ea478c9842f2b                DNAR   \n5  0xe91d153e0b41518a2ce8dd3d7944fa863463a97d               WXDAI   \n6  0xddafbb505ad214d7b80b1f830fccc89b60fb7a83                USDC   \n7  0x9c58bacc331c9aa871afd802db6379a98e80cedb                 GNO   \n8  0x248e081e3c9e738d7c1ded5d471069dcf4fd9b15               DCASH   \n9  0x1a5aa5a1d38ab93dce71a6f15bb99dc40420f671           ELONINDEX   \n\n        pairs_token0_name  pairs_token0_decimals  \\\n0       TriniSwap on xDai                     18   \n1  Dogelon Index from BSC                     18   \n2  Dogelon Index from BSC                     18   \n3   Wrapped Ether on xDai                     18   \n4                  EDINAR                     18   \n5            Wrapped XDAI                     18   \n6          USD//C on xDai                      6   \n7    Gnosis Token on xDai                     18   \n8         DevCash on xDai                      8   \n9  Dogelon Index from BSC                     18   \n\n                              pairs_token1_id pairs_token1_symbol  \\\n0  0xd9fa47e33d4ff7a1aca489de1865ac36c042b07a                 HEX   \n1  0x8e5bbbb09ed1ebde8674cda39a0c169401db4252                WBTC   \n2  0xe91d153e0b41518a2ce8dd3d7944fa863463a97d               WXDAI   \n3  0x97734cdd21944955fc7ddefa8a75038e66b3d726                RETH   \n4  0xe91d153e0b41518a2ce8dd3d7944fa863463a97d               WXDAI   \n5  0xfcb5df42e06a39e233dc707bb3a80311efd11576                METH   \n6  0xfa57aa7beed63d03aaf85ffd1753f5f6242588fb                 MPS   \n7  0xd51e1ddd116fff9a71c1b8feeb58113afa2b4d93                AMIS   \n8  0x2995d1317dcd4f0ab89f4ae60f3f020a4f17c7ce               SUSHI   \n9  0x4ecaba5870353805a9f068101a40e0f32ed605c6                USDT   \n\n     pairs_token1_name  pairs_token1_decimals  pairs_reserve0  pairs_reserve1  \\\n0          HEX on xDai                      8        0.830942    1.718929e+00   \n1  Wrapped BTC on xDai                      8    69672.992655    1.400000e-06   \n2         Wrapped XDAI                     18    32730.740600    1.259371e-02   \n3   xDAI DAO ETH token                     18        0.000377    2.467284e-04   \n4         Wrapped XDAI                     18        0.000000    0.000000e+00   \n5       www.METH.co.in                     18        0.003347    4.350276e-02   \n6     MtPelerin Shares                      0        4.458063    1.000000e+00   \n7         AMIS on xDai                      9        0.014323    1.484247e+02   \n8   SushiToken on xDai                     18        0.000003    4.212164e-07   \n9   Tether USD on xDai                      6    35060.848201    1.176700e-02   \n\n   pairs_token0Price  pairs_token1Price  pairs_createdAtTimestamp  \\\n0       4.834066e-01       2.068652e+00                1622650020   \n1       4.976642e+10       2.009387e-11                1665596900   \n2       2.598975e+06       3.847671e-07                1665671155   \n3       1.527863e+00       6.545091e-01                1631337900   \n4       0.000000e+00       0.000000e+00                1673370570   \n5       7.693917e-02       1.299728e+01                1620643805   \n6       4.458063e+00       2.243127e-01                1641226920   \n7       9.649699e-05       1.036302e+04                1643380825   \n8       6.599933e+00       1.515167e-01                1626587190   \n9       2.979591e+06       3.356165e-07                1665671340   \n\n   pairs_createdAtBlockNumber  \n0                    16372317  \n1                    24568305  \n2                    24579558  \n3                    18032795  \n4                    25897343  \n5                    15979787  \n6                    19916392  \n7                    20345096  \n8                    17126687  \n9                    24579586  ",
      "text/html": "<div>\n<style scoped>\n    .dataframe tbody tr th:only-of-type {\n        vertical-align: middle;\n    }\n\n    .dataframe tbody tr th {\n        vertical-align: top;\n    }\n\n    .dataframe thead th {\n        text-align: right;\n    }\n</style>\n<table border=\"1\" class=\"dataframe\">\n  <thead>\n    <tr style=\"text-align: right;\">\n      <th></th>\n      <th>pairs_id</th>\n      <th>pairs_token0_id</th>\n      <th>pairs_token0_symbol</th>\n      <th>pairs_token0_name</th>\n      <th>pairs_token0_decimals</th>\n      <th>pairs_token1_id</th>\n      <th>pairs_token1_symbol</th>\n      <th>pairs_token1_name</th>\n      <th>pairs_token1_decimals</th>\n      <th>pairs_reserve0</th>\n      <th>pairs_reserve1</th>\n      <th>pairs_token0Price</th>\n      <th>pairs_token1Price</th>\n      <th>pairs_createdAtTimestamp</th>\n      <th>pairs_createdAtBlockNumber</th>\n    </tr>\n  </thead>\n  <tbody>\n    <tr>\n      <th>0</th>\n      <td>0xffd9cea5bbe86b48e77d168340d4ee51b54fe079</td>\n      <td>0x4accf43c858ac40555fe1ddf5806bcbc1612a4c3</td>\n      <td>TRINI</td>\n      <td>TriniSwap on xDai</td>\n      <td>18</td>\n      <td>0xd9fa47e33d4ff7a1aca489de1865ac36c042b07a</td>\n      <td>HEX</td>\n      <td>HEX on xDai</td>\n      <td>8</td>\n      <td>0.830942</td>\n      <td>1.718929e+00</td>\n      <td>4.834066e-01</td>\n      <td>2.068652e+00</td>\n      <td>1622650020</td>\n      <td>16372317</td>\n    </tr>\n    <tr>\n      <th>1</th>\n      <td>0xffb638ef0ab9c9c44d6c5d01b01e31b391c6ee19</td>\n      <td>0x1834e58185048bce90a174f113a38d2c0cefb7a8</td>\n      <td>1ELONINDEX</td>\n      <td>Dogelon Index from BSC</td>\n      <td>18</td>\n      <td>0x8e5bbbb09ed1ebde8674cda39a0c169401db4252</td>\n      <td>WBTC</td>\n      <td>Wrapped BTC on xDai</td>\n      <td>8</td>\n      <td>69672.992655</td>\n      <td>1.400000e-06</td>\n      <td>4.976642e+10</td>\n      <td>2.009387e-11</td>\n      <td>1665596900</td>\n      <td>24568305</td>\n    </tr>\n    <tr>\n      <th>2</th>\n      <td>0xff0258b33676e83943887be4939514d221368c54</td>\n      <td>0x1a5aa5a1d38ab93dce71a6f15bb99dc40420f671</td>\n      <td>ELONINDEX</td>\n      <td>Dogelon Index from BSC</td>\n      <td>18</td>\n      <td>0xe91d153e0b41518a2ce8dd3d7944fa863463a97d</td>\n      <td>WXDAI</td>\n      <td>Wrapped XDAI</td>\n      <td>18</td>\n      <td>32730.740600</td>\n      <td>1.259371e-02</td>\n      <td>2.598975e+06</td>\n      <td>3.847671e-07</td>\n      <td>1665671155</td>\n      <td>24579558</td>\n    </tr>\n    <tr>\n      <th>3</th>\n      <td>0xfe801f7b10d0d0d2ab32a175396910087ee82de0</td>\n      <td>0x6a023ccd1ff6f2045c3309768ead9e68f978f6e1</td>\n      <td>WETH</td>\n      <td>Wrapped Ether on xDai</td>\n      <td>18</td>\n      <td>0x97734cdd21944955fc7ddefa8a75038e66b3d726</td>\n      <td>RETH</td>\n      <td>xDAI DAO ETH token</td>\n      <td>18</td>\n      <td>0.000377</td>\n      <td>2.467284e-04</td>\n      <td>1.527863e+00</td>\n      <td>6.545091e-01</td>\n      <td>1631337900</td>\n      <td>18032795</td>\n    </tr>\n    <tr>\n      <th>4</th>\n      <td>0xfd393f99188fed09fa56e79dfea89fe354a2aa5a</td>\n      <td>0xdbbc3156b917755b010f0adf932ea478c9842f2b</td>\n      <td>DNAR</td>\n      <td>EDINAR</td>\n      <td>18</td>\n      <td>0xe91d153e0b41518a2ce8dd3d7944fa863463a97d</td>\n      <td>WXDAI</td>\n      <td>Wrapped XDAI</td>\n      <td>18</td>\n      <td>0.000000</td>\n      <td>0.000000e+00</td>\n      <td>0.000000e+00</td>\n      <td>0.000000e+00</td>\n      <td>1673370570</td>\n      <td>25897343</td>\n    </tr>\n    <tr>\n      <th>5</th>\n      <td>0xfc9812e4c8a73e29cac9342c45e2da22353a3b9e</td>\n      <td>0xe91d153e0b41518a2ce8dd3d7944fa863463a97d</td>\n      <td>WXDAI</td>\n      <td>Wrapped XDAI</td>\n      <td>18</td>\n      <td>0xfcb5df42e06a39e233dc707bb3a80311efd11576</td>\n      <td>METH</td>\n      <td>www.METH.co.in</td>\n      <td>18</td>\n      <td>0.003347</td>\n      <td>4.350276e-02</td>\n      <td>7.693917e-02</td>\n      <td>1.299728e+01</td>\n      <td>1620643805</td>\n      <td>15979787</td>\n    </tr>\n    <tr>\n      <th>6</th>\n      <td>0xfc61b9428dedaf0af5a7fcdc565ecf1b8562845c</td>\n      <td>0xddafbb505ad214d7b80b1f830fccc89b60fb7a83</td>\n      <td>USDC</td>\n      <td>USD//C on xDai</td>\n      <td>6</td>\n      <td>0xfa57aa7beed63d03aaf85ffd1753f5f6242588fb</td>\n      <td>MPS</td>\n      <td>MtPelerin Shares</td>\n      <td>0</td>\n      <td>4.458063</td>\n      <td>1.000000e+00</td>\n      <td>4.458063e+00</td>\n      <td>2.243127e-01</td>\n      <td>1641226920</td>\n      <td>19916392</td>\n    </tr>\n    <tr>\n      <th>7</th>\n      <td>0xfbe0921beed84088c569a2807378c9adc1541895</td>\n      <td>0x9c58bacc331c9aa871afd802db6379a98e80cedb</td>\n      <td>GNO</td>\n      <td>Gnosis Token on xDai</td>\n      <td>18</td>\n      <td>0xd51e1ddd116fff9a71c1b8feeb58113afa2b4d93</td>\n      <td>AMIS</td>\n      <td>AMIS on xDai</td>\n      <td>9</td>\n      <td>0.014323</td>\n      <td>1.484247e+02</td>\n      <td>9.649699e-05</td>\n      <td>1.036302e+04</td>\n      <td>1643380825</td>\n      <td>20345096</td>\n    </tr>\n    <tr>\n      <th>8</th>\n      <td>0xfb6778b0410ac9b888c798b5f12cd6be05069f7b</td>\n      <td>0x248e081e3c9e738d7c1ded5d471069dcf4fd9b15</td>\n      <td>DCASH</td>\n      <td>DevCash on xDai</td>\n      <td>8</td>\n      <td>0x2995d1317dcd4f0ab89f4ae60f3f020a4f17c7ce</td>\n      <td>SUSHI</td>\n      <td>SushiToken on xDai</td>\n      <td>18</td>\n      <td>0.000003</td>\n      <td>4.212164e-07</td>\n      <td>6.599933e+00</td>\n      <td>1.515167e-01</td>\n      <td>1626587190</td>\n      <td>17126687</td>\n    </tr>\n    <tr>\n      <th>9</th>\n      <td>0xfb44ca8224c58eaddc577ccefab04ce2434b40ff</td>\n      <td>0x1a5aa5a1d38ab93dce71a6f15bb99dc40420f671</td>\n      <td>ELONINDEX</td>\n      <td>Dogelon Index from BSC</td>\n      <td>18</td>\n      <td>0x4ecaba5870353805a9f068101a40e0f32ed605c6</td>\n      <td>USDT</td>\n      <td>Tether USD on xDai</td>\n      <td>6</td>\n      <td>35060.848201</td>\n      <td>1.176700e-02</td>\n      <td>2.979591e+06</td>\n      <td>3.356165e-07</td>\n      <td>1665671340</td>\n      <td>24579586</td>\n    </tr>\n  </tbody>\n</table>\n</div>"
     },
     "execution_count": 57,
     "metadata": {},
     "output_type": "execute_result"
    }
   ],
   "source": [
    "sushi4 = sg.load_api('https://api.thegraph.com/subgraphs/name/unchase/sushiswap-xdai')\n",
    "\n",
    "pools4 = sushi4.Query.pairs(\n",
    "  orderBy='id',\n",
    "  orderDirection='desc',\n",
    "    #skip =999,\n",
    "  #first=1000,\n",
    "  #where=[\n",
    "   #sushi3.Query.tokenPairs.pair.token0.symbol == 'DAI'\n",
    "    #sushi3.Query.tokenPairs.id == '0xff20817765cb7f73d4bde2e66e067e58d11095c2:1'\n",
    "  #]\n",
    ")\n",
    "#0x04F2694C8fcee23e8Fd0dfEA1d4f5Bb8c352111F\n",
    "\n",
    "pool_data4 = sg.query_df([\n",
    "    pools4.id\n",
    "    ,pools4.token0\n",
    "    ,pools4.token1\n",
    "    ,pools4.reserve0\n",
    "    ,pools4.reserve1\n",
    "    ,pools4.token0Price\n",
    "    ,pools4.token1Price\n",
    "    ,pools4.createdAtTimestamp\n",
    "    ,pools4.createdAtBlockNumber\n",
    "])\n",
    "pool_datadb4 = db.query(\"select \"\n",
    "                   \"    *  \"\n",
    "                   \"From pool_data4 \"\n",
    "                       \"\"\n",
    "                  # \"where lower(pairs_token0_symbol) like lower('%OHM%') \"\n",
    "                   #     \"or lower(pairs_token1_symbol) like lower('%OHM%')  \"\n",
    "                   \" limit 100 \"\n",
    "                   ).df()\n",
    "\n",
    "pool_datadb4.head(10)"
   ],
   "metadata": {
    "collapsed": false,
    "pycharm": {
     "name": "#%%\n"
    }
   }
  },
  {
   "cell_type": "code",
   "execution_count": 67,
   "outputs": [
    {
     "ename": "SyntaxError",
     "evalue": "invalid syntax. Perhaps you forgot a comma? (1602382239.py, line 9)",
     "output_type": "error",
     "traceback": [
      "\u001B[1;36m  Cell \u001B[1;32mIn[67], line 9\u001B[1;36m\u001B[0m\n\u001B[1;33m    sushi3.Query.tokenPairs.pair.token0.symbol.contains_nocase 'olympusI'\u001B[0m\n\u001B[1;37m    ^\u001B[0m\n\u001B[1;31mSyntaxError\u001B[0m\u001B[1;31m:\u001B[0m invalid syntax. Perhaps you forgot a comma?\n"
     ]
    }
   ],
   "source": [
    "sushi5 = sg.load_api('https://gateway.thegraph.com/api/b0299a6e1895566f98d87e0711fa24ca/subgraphs/id/7h1x51fyT5KigAhXd8sdE3kzzxQDJxxz1y66LTFiC3mS')\n",
    "\n",
    "pools5 = sushi5.Query.liquidityPools(\n",
    "  orderBy='id',\n",
    "  orderDirection='desc',\n",
    "    #skip =999,\n",
    "  #first=1000,\n",
    "  #where=[\n",
    "   #sushi3.Query.tokenPairs.pair.token0.symbol.contains_nocase 'olympus'\n",
    "    #sushi3.Query.tokenPairs.id == '0xff20817765cb7f73d4bde2e66e067e58d11095c2:1'\n",
    "  #]\n",
    ")\n",
    "#0x04F2694C8fcee23e8Fd0dfEA1d4f5Bb8c352111F\n",
    "\n",
    "len(pools5)"
   ],
   "metadata": {
    "collapsed": false,
    "pycharm": {
     "name": "#%%\n"
    }
   }
  },
  {
   "cell_type": "code",
   "execution_count": 65,
   "outputs": [
    {
     "data": {
      "text/plain": "                            liquidityPools_id  \\\n0  0xfffae4a0f4ac251f4705717cd24cadccc9f33e06   \n1  0xfdf12d1f85b5082877a6e070524f50f6c84faa6b   \n2  0xf9551f1dea1e2aec80a9c9dad6251e0de531551f   \n\n                 liquidityPools_name    liquidityPools_symbol  \\\n0    SushiSwap Olympus/Wrapped Ether    Olympus/Wrapped Ether   \n1  SushiSwap Olympus/LUSD Stablecoin  Olympus/LUSD Stablecoin   \n2            SushiSwap Olympus/Hades            Olympus/Hades   \n\n                   liquidityPools_protocol_id liquidityPools_protocol_name  \\\n0  0xc0aee478e3658e2610c5f7a4a2e1777ce9e4f2ac                    SushiSwap   \n1  0xc0aee478e3658e2610c5f7a4a2e1777ce9e4f2ac                    SushiSwap   \n2  0xc0aee478e3658e2610c5f7a4a2e1777ce9e4f2ac                    SushiSwap   \n\n  liquidityPools_protocol_slug liquidityPools_protocol_schemaVersion  \\\n0                    sushiswap                                 1.3.0   \n1                    sushiswap                                 1.3.0   \n2                    sushiswap                                 1.3.0   \n\n  liquidityPools_protocol_subgraphVersion  \\\n0                                   1.1.8   \n1                                   1.1.8   \n2                                   1.1.8   \n\n  liquidityPools_protocol_methodologyVersion liquidityPools_protocol_network  \\\n0                                      1.0.0                         MAINNET   \n1                                      1.0.0                         MAINNET   \n2                                      1.0.0                         MAINNET   \n\n  liquidityPools_protocol_type  liquidityPools_protocol_totalValueLockedUSD  \\\n0                     EXCHANGE                                 3.260998e+08   \n1                     EXCHANGE                                 3.260998e+08   \n2                     EXCHANGE                                 3.260998e+08   \n\n   liquidityPools_protocol_protocolControlledValueUSD  \\\n0                                                NaN    \n1                                                NaN    \n2                                                NaN    \n\n   liquidityPools_protocol_cumulativeVolumeUSD  \\\n0                                 1.893983e+11   \n1                                 1.893983e+11   \n2                                 1.893983e+11   \n\n   liquidityPools_protocol_cumulativeSupplySideRevenueUSD  \\\n0                                       4.734958e+08        \n1                                       4.734958e+08        \n2                                       4.734958e+08        \n\n   liquidityPools_protocol_cumulativeProtocolSideRevenueUSD  \\\n0                                       9.469915e+07          \n1                                       9.469915e+07          \n2                                       9.469915e+07          \n\n   liquidityPools_protocol_cumulativeTotalRevenueUSD  \\\n0                                       5.681949e+08   \n1                                       5.681949e+08   \n2                                       5.681949e+08   \n\n   liquidityPools_protocol_cumulativeUniqueUsers  \\\n0                                        1180827   \n1                                        1180827   \n2                                        1180827   \n\n   liquidityPools_protocol_totalPoolCount  \n0                                    3479  \n1                                    3479  \n2                                    3479  ",
      "text/html": "<div>\n<style scoped>\n    .dataframe tbody tr th:only-of-type {\n        vertical-align: middle;\n    }\n\n    .dataframe tbody tr th {\n        vertical-align: top;\n    }\n\n    .dataframe thead th {\n        text-align: right;\n    }\n</style>\n<table border=\"1\" class=\"dataframe\">\n  <thead>\n    <tr style=\"text-align: right;\">\n      <th></th>\n      <th>liquidityPools_id</th>\n      <th>liquidityPools_name</th>\n      <th>liquidityPools_symbol</th>\n      <th>liquidityPools_protocol_id</th>\n      <th>liquidityPools_protocol_name</th>\n      <th>liquidityPools_protocol_slug</th>\n      <th>liquidityPools_protocol_schemaVersion</th>\n      <th>liquidityPools_protocol_subgraphVersion</th>\n      <th>liquidityPools_protocol_methodologyVersion</th>\n      <th>liquidityPools_protocol_network</th>\n      <th>liquidityPools_protocol_type</th>\n      <th>liquidityPools_protocol_totalValueLockedUSD</th>\n      <th>liquidityPools_protocol_protocolControlledValueUSD</th>\n      <th>liquidityPools_protocol_cumulativeVolumeUSD</th>\n      <th>liquidityPools_protocol_cumulativeSupplySideRevenueUSD</th>\n      <th>liquidityPools_protocol_cumulativeProtocolSideRevenueUSD</th>\n      <th>liquidityPools_protocol_cumulativeTotalRevenueUSD</th>\n      <th>liquidityPools_protocol_cumulativeUniqueUsers</th>\n      <th>liquidityPools_protocol_totalPoolCount</th>\n    </tr>\n  </thead>\n  <tbody>\n    <tr>\n      <th>0</th>\n      <td>0xfffae4a0f4ac251f4705717cd24cadccc9f33e06</td>\n      <td>SushiSwap Olympus/Wrapped Ether</td>\n      <td>Olympus/Wrapped Ether</td>\n      <td>0xc0aee478e3658e2610c5f7a4a2e1777ce9e4f2ac</td>\n      <td>SushiSwap</td>\n      <td>sushiswap</td>\n      <td>1.3.0</td>\n      <td>1.1.8</td>\n      <td>1.0.0</td>\n      <td>MAINNET</td>\n      <td>EXCHANGE</td>\n      <td>3.260998e+08</td>\n      <td>NaN</td>\n      <td>1.893983e+11</td>\n      <td>4.734958e+08</td>\n      <td>9.469915e+07</td>\n      <td>5.681949e+08</td>\n      <td>1180827</td>\n      <td>3479</td>\n    </tr>\n    <tr>\n      <th>1</th>\n      <td>0xfdf12d1f85b5082877a6e070524f50f6c84faa6b</td>\n      <td>SushiSwap Olympus/LUSD Stablecoin</td>\n      <td>Olympus/LUSD Stablecoin</td>\n      <td>0xc0aee478e3658e2610c5f7a4a2e1777ce9e4f2ac</td>\n      <td>SushiSwap</td>\n      <td>sushiswap</td>\n      <td>1.3.0</td>\n      <td>1.1.8</td>\n      <td>1.0.0</td>\n      <td>MAINNET</td>\n      <td>EXCHANGE</td>\n      <td>3.260998e+08</td>\n      <td>NaN</td>\n      <td>1.893983e+11</td>\n      <td>4.734958e+08</td>\n      <td>9.469915e+07</td>\n      <td>5.681949e+08</td>\n      <td>1180827</td>\n      <td>3479</td>\n    </tr>\n    <tr>\n      <th>2</th>\n      <td>0xf9551f1dea1e2aec80a9c9dad6251e0de531551f</td>\n      <td>SushiSwap Olympus/Hades</td>\n      <td>Olympus/Hades</td>\n      <td>0xc0aee478e3658e2610c5f7a4a2e1777ce9e4f2ac</td>\n      <td>SushiSwap</td>\n      <td>sushiswap</td>\n      <td>1.3.0</td>\n      <td>1.1.8</td>\n      <td>1.0.0</td>\n      <td>MAINNET</td>\n      <td>EXCHANGE</td>\n      <td>3.260998e+08</td>\n      <td>NaN</td>\n      <td>1.893983e+11</td>\n      <td>4.734958e+08</td>\n      <td>9.469915e+07</td>\n      <td>5.681949e+08</td>\n      <td>1180827</td>\n      <td>3479</td>\n    </tr>\n  </tbody>\n</table>\n</div>"
     },
     "execution_count": 65,
     "metadata": {},
     "output_type": "execute_result"
    }
   ],
   "source": [
    "pool_data5 = sg.query_df([\n",
    "    pools5.id\n",
    "    ,pools5.name\n",
    "    ,pools5.symbol\n",
    "\n",
    "])\n",
    "pool_datadb5 = db.query(\"select \"\n",
    "                   \"    *  \"\n",
    "                   \"From pool_data5 \"\n",
    "                       \"\"\n",
    "                   \"where lower(liquidityPools_name) like lower('%olympus%') \"\n",
    "                    #    \"or lower(pairs_token1_symbol) like lower('%OHM%')  \"\n",
    "                   \" limit 100 \"\n",
    "                   ).df()\n",
    "\n",
    "pool_datadb5.head(10)"
   ],
   "metadata": {
    "collapsed": false,
    "pycharm": {
     "name": "#%%\n"
    }
   }
  },
  {
   "cell_type": "code",
   "execution_count": 243,
   "outputs": [],
   "source": [
    "sushi6 = sg.load_api('https://gateway.thegraph.com/api/b0299a6e1895566f98d87e0711fa24ca/subgraphs/id/7h1x51fyT5KigAhXd8sdE3kzzxQDJxxz1y66LTFiC3mS')\n",
    "\n",
    "pools6 = sushi6.Query.liquidityPoolDailySnapshots(\n",
    "  orderBy='id',\n",
    "  orderDirection='desc',\n",
    "    #skip =999,\n",
    "  first=1000,\n",
    "#where={ 'sushi6.Query.liquidityPoolDailySnapshots.id': '0xc45d42f801105e861e86658648e3678ad7aa70f900010000000000000000011e' }\n",
    ")\n",
    "#0x04F2694C8fcee23e8Fd0dfEA1d4f5Bb8c352111F\n",
    "\n",
    "pool_data6 = sg.query_df([\n",
    "    pools6.id\n",
    "    ,pools6.timestamp\n",
    "    ,pools6.blockNumber\n",
    "    ,pools6.totalValueLockedUSD\n",
    "    ,pools6.cumulativeSupplySideRevenueUSD\n",
    "    ,pools6.dailySupplySideRevenueUSD\n",
    "    ,pools6.cumulativeProtocolSideRevenueUSD\n",
    "    ,pools6.dailyProtocolSideRevenueUSD\n",
    "    ,pools6.cumulativeTotalRevenueUSD\n",
    "    ,pools6.dailyTotalRevenueUSD\n",
    "    ,pools6.dailyVolumeUSD\n",
    "    #,pools6.dailyVolumeByTokenAmount\n",
    "    #,pools6.dailyVolumeByTokenUSD\n",
    "    ,pools6.cumulativeVolumeUSD\n",
    "    #,pools6.inputTokenBalances\n",
    "    #,pools6.inputTokenWeights\n",
    "    ,pools6.outputTokenSupply\n",
    "    ,pools6.outputTokenPriceUSD\n",
    "    ,pools6.stakedOutputTokenAmount\n",
    "    ,pools6.rewardTokenEmissionsAmount\n",
    "    #,pools6.rewardTokenEmissionsUSD\n",
    "    ,pools6.pool.name\n",
    "    ,pools6.pool.symbol\n",
    "    ,pools6.pool.outputToken\n",
    "])\n",
    "\n"
   ],
   "metadata": {
    "collapsed": false,
    "pycharm": {
     "name": "#%%\n"
    }
   }
  },
  {
   "cell_type": "code",
   "execution_count": 244,
   "outputs": [
    {
     "data": {
      "text/plain": "                     liquidityPoolDailySnapshots_id  \\\n0  0xfffae4a0f4ac251f4705717cd24cadccc9f33e06-19372   \n1  0xfffae4a0f4ac251f4705717cd24cadccc9f33e06-19371   \n2  0xfffae4a0f4ac251f4705717cd24cadccc9f33e06-19370   \n3  0xfffae4a0f4ac251f4705717cd24cadccc9f33e06-19369   \n4  0xfffae4a0f4ac251f4705717cd24cadccc9f33e06-19368   \n5  0xfffae4a0f4ac251f4705717cd24cadccc9f33e06-19366   \n6  0xfffae4a0f4ac251f4705717cd24cadccc9f33e06-19365   \n7  0xfffae4a0f4ac251f4705717cd24cadccc9f33e06-19363   \n8  0xfffae4a0f4ac251f4705717cd24cadccc9f33e06-19361   \n9  0xfffae4a0f4ac251f4705717cd24cadccc9f33e06-19359   \n\n   liquidityPoolDailySnapshots_timestamp  \\\n0                             1673769755   \n1                             1673658815   \n2                             1673612291   \n3                             1673567999   \n4                             1673442515   \n5                             1673289755   \n6                             1673186843   \n7                             1672972151   \n8                             1672858907   \n9                             1672669019   \n\n   liquidityPoolDailySnapshots_blockNumber  \\\n0                                 16410884   \n1                                 16401684   \n2                                 16397821   \n3                                 16394155   \n4                                 16383769   \n5                                 16371108   \n6                                 16362562   \n7                                 16344765   \n8                                 16335383   \n9                                 16319629   \n\n   liquidityPoolDailySnapshots_totalValueLockedUSD  \\\n0                                     17909.038005   \n1                                     18036.339968   \n2                                     16982.987605   \n3                                     17033.482951   \n4                                     16666.049129   \n5                                     17080.312017   \n6                                     16488.806914   \n7                                     16425.055838   \n8                                     16490.371522   \n9                                     16270.813921   \n\n   liquidityPoolDailySnapshots_cumulativeSupplySideRevenueUSD  \\\n0                                       3.908943e+06            \n1                                       3.908943e+06            \n2                                       3.908942e+06            \n3                                       3.908942e+06            \n4                                       3.908941e+06            \n5                                       3.908941e+06            \n6                                       3.908940e+06            \n7                                       3.908940e+06            \n8                                       3.908940e+06            \n9                                       3.908940e+06            \n\n   liquidityPoolDailySnapshots_dailySupplySideRevenueUSD  \\\n0                                           0.020739       \n1                                           0.716018       \n2                                           0.679267       \n3                                           0.222477       \n4                                           0.667659       \n5                                           0.256877       \n6                                           0.080054       \n7                                           0.031204       \n8                                           0.367901       \n9                                           0.231866       \n\n   liquidityPoolDailySnapshots_cumulativeProtocolSideRevenueUSD  \\\n0                                      781788.583877              \n1                                      781788.579729              \n2                                      781788.436525              \n3                                      781788.300672              \n4                                      781788.256176              \n5                                      781788.122645              \n6                                      781788.071269              \n7                                      781788.055258              \n8                                      781788.049018              \n9                                      781787.975437              \n\n   liquidityPoolDailySnapshots_dailyProtocolSideRevenueUSD  \\\n0                                           0.004148         \n1                                           0.143204         \n2                                           0.135853         \n3                                           0.044495         \n4                                           0.133532         \n5                                           0.051375         \n6                                           0.016011         \n7                                           0.006241         \n8                                           0.073580         \n9                                           0.046373         \n\n   liquidityPoolDailySnapshots_cumulativeTotalRevenueUSD  \\\n0                                       4.690732e+06       \n1                                       4.690731e+06       \n2                                       4.690731e+06       \n3                                       4.690730e+06       \n4                                       4.690730e+06       \n5                                       4.690729e+06       \n6                                       4.690728e+06       \n7                                       4.690728e+06       \n8                                       4.690728e+06       \n9                                       4.690728e+06       \n\n   liquidityPoolDailySnapshots_dailyTotalRevenueUSD  ...  \\\n0                                          0.024886  ...   \n1                                          0.859222  ...   \n2                                          0.815120  ...   \n3                                          0.266973  ...   \n4                                          0.801191  ...   \n5                                          0.308253  ...   \n6                                          0.096064  ...   \n7                                          0.037445  ...   \n8                                          0.441481  ...   \n9                                          0.278240  ...   \n\n   liquidityPoolDailySnapshots_rewardTokenEmissionsAmount  \\\n0                                                0.0        \n1                                                0.0        \n2                                                0.0        \n3                                                0.0        \n4                                                0.0        \n5                                                0.0        \n6                                                0.0        \n7                                                0.0        \n8                                                0.0        \n9                                                0.0        \n\n   liquidityPoolDailySnapshots_pool_name  \\\n0        SushiSwap Olympus/Wrapped Ether   \n1        SushiSwap Olympus/Wrapped Ether   \n2        SushiSwap Olympus/Wrapped Ether   \n3        SushiSwap Olympus/Wrapped Ether   \n4        SushiSwap Olympus/Wrapped Ether   \n5        SushiSwap Olympus/Wrapped Ether   \n6        SushiSwap Olympus/Wrapped Ether   \n7        SushiSwap Olympus/Wrapped Ether   \n8        SushiSwap Olympus/Wrapped Ether   \n9        SushiSwap Olympus/Wrapped Ether   \n\n   liquidityPoolDailySnapshots_pool_symbol  \\\n0                    Olympus/Wrapped Ether   \n1                    Olympus/Wrapped Ether   \n2                    Olympus/Wrapped Ether   \n3                    Olympus/Wrapped Ether   \n4                    Olympus/Wrapped Ether   \n5                    Olympus/Wrapped Ether   \n6                    Olympus/Wrapped Ether   \n7                    Olympus/Wrapped Ether   \n8                    Olympus/Wrapped Ether   \n9                    Olympus/Wrapped Ether   \n\n   liquidityPoolDailySnapshots_pool_outputToken_id  \\\n0       0xfffae4a0f4ac251f4705717cd24cadccc9f33e06   \n1       0xfffae4a0f4ac251f4705717cd24cadccc9f33e06   \n2       0xfffae4a0f4ac251f4705717cd24cadccc9f33e06   \n3       0xfffae4a0f4ac251f4705717cd24cadccc9f33e06   \n4       0xfffae4a0f4ac251f4705717cd24cadccc9f33e06   \n5       0xfffae4a0f4ac251f4705717cd24cadccc9f33e06   \n6       0xfffae4a0f4ac251f4705717cd24cadccc9f33e06   \n7       0xfffae4a0f4ac251f4705717cd24cadccc9f33e06   \n8       0xfffae4a0f4ac251f4705717cd24cadccc9f33e06   \n9       0xfffae4a0f4ac251f4705717cd24cadccc9f33e06   \n\n   liquidityPoolDailySnapshots_pool_outputToken_name  \\\n0                           Olympus/Wrapped Ether LP   \n1                           Olympus/Wrapped Ether LP   \n2                           Olympus/Wrapped Ether LP   \n3                           Olympus/Wrapped Ether LP   \n4                           Olympus/Wrapped Ether LP   \n5                           Olympus/Wrapped Ether LP   \n6                           Olympus/Wrapped Ether LP   \n7                           Olympus/Wrapped Ether LP   \n8                           Olympus/Wrapped Ether LP   \n9                           Olympus/Wrapped Ether LP   \n\n   liquidityPoolDailySnapshots_pool_outputToken_symbol  \\\n0                              Olympus/Wrapped Ether     \n1                              Olympus/Wrapped Ether     \n2                              Olympus/Wrapped Ether     \n3                              Olympus/Wrapped Ether     \n4                              Olympus/Wrapped Ether     \n5                              Olympus/Wrapped Ether     \n6                              Olympus/Wrapped Ether     \n7                              Olympus/Wrapped Ether     \n8                              Olympus/Wrapped Ether     \n9                              Olympus/Wrapped Ether     \n\n  liquidityPoolDailySnapshots_pool_outputToken_decimals  \\\n0                                                 18      \n1                                                 18      \n2                                                 18      \n3                                                 18      \n4                                                 18      \n5                                                 18      \n6                                                 18      \n7                                                 18      \n8                                                 18      \n9                                                 18      \n\n  liquidityPoolDailySnapshots_pool_outputToken_lastPriceUSD  \\\n0                                                0.0          \n1                                                0.0          \n2                                                0.0          \n3                                                0.0          \n4                                                0.0          \n5                                                0.0          \n6                                                0.0          \n7                                                0.0          \n8                                                0.0          \n9                                                0.0          \n\n  liquidityPoolDailySnapshots_pool_outputToken_lastPriceBlockNumber  \\\n0                                                  0                  \n1                                                  0                  \n2                                                  0                  \n3                                                  0                  \n4                                                  0                  \n5                                                  0                  \n6                                                  0                  \n7                                                  0                  \n8                                                  0                  \n9                                                  0                  \n\n  to_timestamp(\"liquidityPoolDailySnapshots_timestamp\")  \n0                                2023-01-15 08:02:35     \n1                                2023-01-14 01:13:35     \n2                                2023-01-13 12:18:11     \n3                                2023-01-12 23:59:59     \n4                                2023-01-11 13:08:35     \n5                                2023-01-09 18:42:35     \n6                                2023-01-08 14:07:23     \n7                                2023-01-06 02:29:11     \n8                                2023-01-04 19:01:47     \n9                                2023-01-02 14:16:59     \n\n[10 rows x 25 columns]",
      "text/html": "<div>\n<style scoped>\n    .dataframe tbody tr th:only-of-type {\n        vertical-align: middle;\n    }\n\n    .dataframe tbody tr th {\n        vertical-align: top;\n    }\n\n    .dataframe thead th {\n        text-align: right;\n    }\n</style>\n<table border=\"1\" class=\"dataframe\">\n  <thead>\n    <tr style=\"text-align: right;\">\n      <th></th>\n      <th>liquidityPoolDailySnapshots_id</th>\n      <th>liquidityPoolDailySnapshots_timestamp</th>\n      <th>liquidityPoolDailySnapshots_blockNumber</th>\n      <th>liquidityPoolDailySnapshots_totalValueLockedUSD</th>\n      <th>liquidityPoolDailySnapshots_cumulativeSupplySideRevenueUSD</th>\n      <th>liquidityPoolDailySnapshots_dailySupplySideRevenueUSD</th>\n      <th>liquidityPoolDailySnapshots_cumulativeProtocolSideRevenueUSD</th>\n      <th>liquidityPoolDailySnapshots_dailyProtocolSideRevenueUSD</th>\n      <th>liquidityPoolDailySnapshots_cumulativeTotalRevenueUSD</th>\n      <th>liquidityPoolDailySnapshots_dailyTotalRevenueUSD</th>\n      <th>...</th>\n      <th>liquidityPoolDailySnapshots_rewardTokenEmissionsAmount</th>\n      <th>liquidityPoolDailySnapshots_pool_name</th>\n      <th>liquidityPoolDailySnapshots_pool_symbol</th>\n      <th>liquidityPoolDailySnapshots_pool_outputToken_id</th>\n      <th>liquidityPoolDailySnapshots_pool_outputToken_name</th>\n      <th>liquidityPoolDailySnapshots_pool_outputToken_symbol</th>\n      <th>liquidityPoolDailySnapshots_pool_outputToken_decimals</th>\n      <th>liquidityPoolDailySnapshots_pool_outputToken_lastPriceUSD</th>\n      <th>liquidityPoolDailySnapshots_pool_outputToken_lastPriceBlockNumber</th>\n      <th>to_timestamp(\"liquidityPoolDailySnapshots_timestamp\")</th>\n    </tr>\n  </thead>\n  <tbody>\n    <tr>\n      <th>0</th>\n      <td>0xfffae4a0f4ac251f4705717cd24cadccc9f33e06-19372</td>\n      <td>1673769755</td>\n      <td>16410884</td>\n      <td>17909.038005</td>\n      <td>3.908943e+06</td>\n      <td>0.020739</td>\n      <td>781788.583877</td>\n      <td>0.004148</td>\n      <td>4.690732e+06</td>\n      <td>0.024886</td>\n      <td>...</td>\n      <td>0.0</td>\n      <td>SushiSwap Olympus/Wrapped Ether</td>\n      <td>Olympus/Wrapped Ether</td>\n      <td>0xfffae4a0f4ac251f4705717cd24cadccc9f33e06</td>\n      <td>Olympus/Wrapped Ether LP</td>\n      <td>Olympus/Wrapped Ether</td>\n      <td>18</td>\n      <td>0.0</td>\n      <td>0</td>\n      <td>2023-01-15 08:02:35</td>\n    </tr>\n    <tr>\n      <th>1</th>\n      <td>0xfffae4a0f4ac251f4705717cd24cadccc9f33e06-19371</td>\n      <td>1673658815</td>\n      <td>16401684</td>\n      <td>18036.339968</td>\n      <td>3.908943e+06</td>\n      <td>0.716018</td>\n      <td>781788.579729</td>\n      <td>0.143204</td>\n      <td>4.690731e+06</td>\n      <td>0.859222</td>\n      <td>...</td>\n      <td>0.0</td>\n      <td>SushiSwap Olympus/Wrapped Ether</td>\n      <td>Olympus/Wrapped Ether</td>\n      <td>0xfffae4a0f4ac251f4705717cd24cadccc9f33e06</td>\n      <td>Olympus/Wrapped Ether LP</td>\n      <td>Olympus/Wrapped Ether</td>\n      <td>18</td>\n      <td>0.0</td>\n      <td>0</td>\n      <td>2023-01-14 01:13:35</td>\n    </tr>\n    <tr>\n      <th>2</th>\n      <td>0xfffae4a0f4ac251f4705717cd24cadccc9f33e06-19370</td>\n      <td>1673612291</td>\n      <td>16397821</td>\n      <td>16982.987605</td>\n      <td>3.908942e+06</td>\n      <td>0.679267</td>\n      <td>781788.436525</td>\n      <td>0.135853</td>\n      <td>4.690731e+06</td>\n      <td>0.815120</td>\n      <td>...</td>\n      <td>0.0</td>\n      <td>SushiSwap Olympus/Wrapped Ether</td>\n      <td>Olympus/Wrapped Ether</td>\n      <td>0xfffae4a0f4ac251f4705717cd24cadccc9f33e06</td>\n      <td>Olympus/Wrapped Ether LP</td>\n      <td>Olympus/Wrapped Ether</td>\n      <td>18</td>\n      <td>0.0</td>\n      <td>0</td>\n      <td>2023-01-13 12:18:11</td>\n    </tr>\n    <tr>\n      <th>3</th>\n      <td>0xfffae4a0f4ac251f4705717cd24cadccc9f33e06-19369</td>\n      <td>1673567999</td>\n      <td>16394155</td>\n      <td>17033.482951</td>\n      <td>3.908942e+06</td>\n      <td>0.222477</td>\n      <td>781788.300672</td>\n      <td>0.044495</td>\n      <td>4.690730e+06</td>\n      <td>0.266973</td>\n      <td>...</td>\n      <td>0.0</td>\n      <td>SushiSwap Olympus/Wrapped Ether</td>\n      <td>Olympus/Wrapped Ether</td>\n      <td>0xfffae4a0f4ac251f4705717cd24cadccc9f33e06</td>\n      <td>Olympus/Wrapped Ether LP</td>\n      <td>Olympus/Wrapped Ether</td>\n      <td>18</td>\n      <td>0.0</td>\n      <td>0</td>\n      <td>2023-01-12 23:59:59</td>\n    </tr>\n    <tr>\n      <th>4</th>\n      <td>0xfffae4a0f4ac251f4705717cd24cadccc9f33e06-19368</td>\n      <td>1673442515</td>\n      <td>16383769</td>\n      <td>16666.049129</td>\n      <td>3.908941e+06</td>\n      <td>0.667659</td>\n      <td>781788.256176</td>\n      <td>0.133532</td>\n      <td>4.690730e+06</td>\n      <td>0.801191</td>\n      <td>...</td>\n      <td>0.0</td>\n      <td>SushiSwap Olympus/Wrapped Ether</td>\n      <td>Olympus/Wrapped Ether</td>\n      <td>0xfffae4a0f4ac251f4705717cd24cadccc9f33e06</td>\n      <td>Olympus/Wrapped Ether LP</td>\n      <td>Olympus/Wrapped Ether</td>\n      <td>18</td>\n      <td>0.0</td>\n      <td>0</td>\n      <td>2023-01-11 13:08:35</td>\n    </tr>\n    <tr>\n      <th>5</th>\n      <td>0xfffae4a0f4ac251f4705717cd24cadccc9f33e06-19366</td>\n      <td>1673289755</td>\n      <td>16371108</td>\n      <td>17080.312017</td>\n      <td>3.908941e+06</td>\n      <td>0.256877</td>\n      <td>781788.122645</td>\n      <td>0.051375</td>\n      <td>4.690729e+06</td>\n      <td>0.308253</td>\n      <td>...</td>\n      <td>0.0</td>\n      <td>SushiSwap Olympus/Wrapped Ether</td>\n      <td>Olympus/Wrapped Ether</td>\n      <td>0xfffae4a0f4ac251f4705717cd24cadccc9f33e06</td>\n      <td>Olympus/Wrapped Ether LP</td>\n      <td>Olympus/Wrapped Ether</td>\n      <td>18</td>\n      <td>0.0</td>\n      <td>0</td>\n      <td>2023-01-09 18:42:35</td>\n    </tr>\n    <tr>\n      <th>6</th>\n      <td>0xfffae4a0f4ac251f4705717cd24cadccc9f33e06-19365</td>\n      <td>1673186843</td>\n      <td>16362562</td>\n      <td>16488.806914</td>\n      <td>3.908940e+06</td>\n      <td>0.080054</td>\n      <td>781788.071269</td>\n      <td>0.016011</td>\n      <td>4.690728e+06</td>\n      <td>0.096064</td>\n      <td>...</td>\n      <td>0.0</td>\n      <td>SushiSwap Olympus/Wrapped Ether</td>\n      <td>Olympus/Wrapped Ether</td>\n      <td>0xfffae4a0f4ac251f4705717cd24cadccc9f33e06</td>\n      <td>Olympus/Wrapped Ether LP</td>\n      <td>Olympus/Wrapped Ether</td>\n      <td>18</td>\n      <td>0.0</td>\n      <td>0</td>\n      <td>2023-01-08 14:07:23</td>\n    </tr>\n    <tr>\n      <th>7</th>\n      <td>0xfffae4a0f4ac251f4705717cd24cadccc9f33e06-19363</td>\n      <td>1672972151</td>\n      <td>16344765</td>\n      <td>16425.055838</td>\n      <td>3.908940e+06</td>\n      <td>0.031204</td>\n      <td>781788.055258</td>\n      <td>0.006241</td>\n      <td>4.690728e+06</td>\n      <td>0.037445</td>\n      <td>...</td>\n      <td>0.0</td>\n      <td>SushiSwap Olympus/Wrapped Ether</td>\n      <td>Olympus/Wrapped Ether</td>\n      <td>0xfffae4a0f4ac251f4705717cd24cadccc9f33e06</td>\n      <td>Olympus/Wrapped Ether LP</td>\n      <td>Olympus/Wrapped Ether</td>\n      <td>18</td>\n      <td>0.0</td>\n      <td>0</td>\n      <td>2023-01-06 02:29:11</td>\n    </tr>\n    <tr>\n      <th>8</th>\n      <td>0xfffae4a0f4ac251f4705717cd24cadccc9f33e06-19361</td>\n      <td>1672858907</td>\n      <td>16335383</td>\n      <td>16490.371522</td>\n      <td>3.908940e+06</td>\n      <td>0.367901</td>\n      <td>781788.049018</td>\n      <td>0.073580</td>\n      <td>4.690728e+06</td>\n      <td>0.441481</td>\n      <td>...</td>\n      <td>0.0</td>\n      <td>SushiSwap Olympus/Wrapped Ether</td>\n      <td>Olympus/Wrapped Ether</td>\n      <td>0xfffae4a0f4ac251f4705717cd24cadccc9f33e06</td>\n      <td>Olympus/Wrapped Ether LP</td>\n      <td>Olympus/Wrapped Ether</td>\n      <td>18</td>\n      <td>0.0</td>\n      <td>0</td>\n      <td>2023-01-04 19:01:47</td>\n    </tr>\n    <tr>\n      <th>9</th>\n      <td>0xfffae4a0f4ac251f4705717cd24cadccc9f33e06-19359</td>\n      <td>1672669019</td>\n      <td>16319629</td>\n      <td>16270.813921</td>\n      <td>3.908940e+06</td>\n      <td>0.231866</td>\n      <td>781787.975437</td>\n      <td>0.046373</td>\n      <td>4.690728e+06</td>\n      <td>0.278240</td>\n      <td>...</td>\n      <td>0.0</td>\n      <td>SushiSwap Olympus/Wrapped Ether</td>\n      <td>Olympus/Wrapped Ether</td>\n      <td>0xfffae4a0f4ac251f4705717cd24cadccc9f33e06</td>\n      <td>Olympus/Wrapped Ether LP</td>\n      <td>Olympus/Wrapped Ether</td>\n      <td>18</td>\n      <td>0.0</td>\n      <td>0</td>\n      <td>2023-01-02 14:16:59</td>\n    </tr>\n  </tbody>\n</table>\n<p>10 rows × 25 columns</p>\n</div>"
     },
     "execution_count": 244,
     "metadata": {},
     "output_type": "execute_result"
    }
   ],
   "source": [
    "pool_datadb6 = db.query(\"select \"\n",
    "                   \"    * \"\n",
    "                        \" ,to_timestamp(liquidityPoolDailySnapshots_timestamp) \"\n",
    "                   \"From pool_data6 \"\n",
    "                       \"\"\n",
    "                   #\"where lower(liquidityPools_name) like lower('%olympus%') \"\n",
    "                    #    \"or lower(pairs_token1_symbol) like lower('%OHM%')  \"\n",
    "                   #\" limit 100 \"\n",
    "                   ).df()\n",
    "\n",
    "pool_datadb6.head(10)"
   ],
   "metadata": {
    "collapsed": false,
    "pycharm": {
     "name": "#%%\n"
    }
   }
  },
  {
   "cell_type": "code",
   "execution_count": 114,
   "outputs": [
    {
     "name": "stdout",
     "output_type": "stream",
     "text": [
      "1000\n"
     ]
    }
   ],
   "source": [
    "print(len(pool_datadb6))"
   ],
   "metadata": {
    "collapsed": false,
    "pycharm": {
     "name": "#%%\n"
    }
   }
  },
  {
   "cell_type": "code",
   "execution_count": 267,
   "outputs": [
    {
     "name": "stdout",
     "output_type": "stream",
     "text": [
      "ticker:  2  - records collected:  1000  - token:  2023-01-13 12:18:11  - pool list length:  2000  - record from:  1673612291\n",
      "ticker:  3  - records collected:  1000  - token:  2023-01-12 23:59:59  - pool list length:  3000  - record from:  1673567999\n",
      "ticker:  4  - records collected:  1000  - token:  2023-01-11 13:08:35  - pool list length:  4000  - record from:  1673442515\n",
      "ticker:  5  - records collected:  1000  - token:  2023-01-09 18:42:35  - pool list length:  5000  - record from:  1673289755\n",
      "ticker:  6  - records collected:  1000  - token:  2023-01-08 14:07:23  - pool list length:  6000  - record from:  1673186843\n",
      "ticker:  7  - records collected:  1000  - token:  2023-01-06 02:29:11  - pool list length:  7000  - record from:  1672972151\n",
      "ticker:  8  - records collected:  1000  - token:  2023-01-04 19:01:47  - pool list length:  8000  - record from:  1672858907\n",
      "ticker:  9  - records collected:  1000  - token:  2023-01-02 14:16:59  - pool list length:  9000  - record from:  1672669019\n",
      "ticker:  10  - records collected:  1000  - token:  2023-01-01 22:23:47  - pool list length:  10000  - record from:  1672611827\n",
      "ticker:  11  - records collected:  1000  - token:  2022-12-31 06:50:47  - pool list length:  11000  - record from:  1672469447\n",
      "ticker:  12  - records collected:  1000  - token:  2022-12-30 20:01:23  - pool list length:  12000  - record from:  1672430483\n",
      "ticker:  13  - records collected:  1000  - token:  2022-12-29 02:17:11  - pool list length:  13000  - record from:  1672280231\n",
      "ticker:  14  - records collected:  1000  - token:  2022-12-28 23:12:59  - pool list length:  14000  - record from:  1672269179\n",
      "ticker:  15  - records collected:  1000  - token:  2022-12-27 05:41:11  - pool list length:  15000  - record from:  1672119671\n",
      "ticker:  16  - records collected:  1000  - token:  2022-12-26 19:44:47  - pool list length:  16000  - record from:  1672083887\n",
      "ticker:  17  - records collected:  1000  - token:  2022-12-25 04:14:23  - pool list length:  17000  - record from:  1671941663\n",
      "ticker:  18  - records collected:  1000  - token:  2022-12-24 17:55:59  - pool list length:  18000  - record from:  1671904559\n",
      "ticker:  19  - records collected:  1000  - token:  2022-12-23 09:22:35  - pool list length:  19000  - record from:  1671787355\n",
      "ticker:  20  - records collected:  1000  - token:  2022-12-22 11:27:35  - pool list length:  20000  - record from:  1671708455\n",
      "ticker:  21  - records collected:  1000  - token:  2022-12-21 18:57:35  - pool list length:  21000  - record from:  1671649055\n",
      "ticker:  22  - records collected:  1000  - token:  2022-12-20 13:34:11  - pool list length:  22000  - record from:  1671543251\n",
      "ticker:  23  - records collected:  1000  - token:  2022-12-19 23:03:11  - pool list length:  23000  - record from:  1671490991\n",
      "ticker:  24  - records collected:  1000  - token:  2022-12-18 16:12:47  - pool list length:  24000  - record from:  1671379967\n",
      "ticker:  25  - records collected:  1000  - token:  2022-12-17 16:47:11  - pool list length:  25000  - record from:  1671295631\n",
      "ticker:  26  - records collected:  1000  - token:  2022-12-16 22:29:35  - pool list length:  26000  - record from:  1671229775\n",
      "ticker:  27  - records collected:  1000  - token:  2022-12-15 05:26:59  - pool list length:  27000  - record from:  1671082019\n",
      "ticker:  28  - records collected:  1000  - token:  2022-12-14 18:20:59  - pool list length:  28000  - record from:  1671042059\n",
      "ticker:  29  - records collected:  1000  - token:  2022-12-12 13:47:11  - pool list length:  29000  - record from:  1670852831\n",
      "ticker:  30  - records collected:  1000  - token:  2022-12-11 19:32:35  - pool list length:  30000  - record from:  1670787155\n",
      "ticker:  31  - records collected:  1000  - token:  2022-12-10 13:24:59  - pool list length:  31000  - record from:  1670678699\n",
      "ticker:  32  - records collected:  1000  - token:  2022-12-08 22:45:23  - pool list length:  32000  - record from:  1670539523\n",
      "ticker:  33  - records collected:  1000  - token:  2022-12-07 23:17:23  - pool list length:  33000  - record from:  1670455043\n",
      "ticker:  34  - records collected:  1000  - token:  2022-12-06 09:32:47  - pool list length:  34000  - record from:  1670319167\n",
      "ticker:  35  - records collected:  1000  - token:  2022-12-05 19:54:35  - pool list length:  35000  - record from:  1670270075\n",
      "ticker:  36  - records collected:  1000  - token:  2022-12-03 22:48:11  - pool list length:  36000  - record from:  1670107691\n",
      "ticker:  37  - records collected:  1000  - token:  2022-12-02 19:42:23  - pool list length:  37000  - record from:  1670010143\n",
      "ticker:  38  - records collected:  1000  - token:  2022-12-01 23:00:23  - pool list length:  38000  - record from:  1669935623\n",
      "ticker:  39  - records collected:  1000  - token:  2022-11-30 22:42:47  - pool list length:  39000  - record from:  1669848167\n",
      "ticker:  40  - records collected:  1000  - token:  2022-11-29 15:09:47  - pool list length:  40000  - record from:  1669734587\n",
      "ticker:  41  - records collected:  1000  - token:  2022-11-28 16:33:35  - pool list length:  41000  - record from:  1669653215\n",
      "ticker:  42  - records collected:  1000  - token:  2022-11-27 07:22:59  - pool list length:  42000  - record from:  1669533779\n",
      "ticker:  43  - records collected:  1000  - token:  2022-11-26 16:35:35  - pool list length:  43000  - record from:  1669480535\n",
      "ticker:  44  - records collected:  1000  - token:  2022-11-25 03:04:23  - pool list length:  44000  - record from:  1669345463\n",
      "ticker:  45  - records collected:  1000  - token:  2022-11-24 14:54:11  - pool list length:  45000  - record from:  1669301651\n",
      "ticker:  46  - records collected:  1000  - token:  2022-11-23 21:30:47  - pool list length:  46000  - record from:  1669239047\n",
      "ticker:  47  - records collected:  1000  - token:  2022-11-22 19:43:59  - pool list length:  47000  - record from:  1669146239\n",
      "ticker:  48  - records collected:  1000  - token:  2022-11-21 20:30:11  - pool list length:  48000  - record from:  1669062611\n",
      "ticker:  49  - records collected:  1000  - token:  2022-11-20 23:51:59  - pool list length:  49000  - record from:  1668988319\n",
      "ticker:  50  - records collected:  1000  - token:  2022-11-19 23:38:11  - pool list length:  50000  - record from:  1668901091\n",
      "ticker:  51  - records collected:  1000  - token:  2022-11-18 17:58:59  - pool list length:  51000  - record from:  1668794339\n",
      "ticker:  52  - records collected:  1000  - token:  2022-11-17 19:17:47  - pool list length:  52000  - record from:  1668712667\n",
      "ticker:  53  - records collected:  1000  - token:  2022-11-16 22:52:35  - pool list length:  53000  - record from:  1668639155\n",
      "ticker:  54  - records collected:  1000  - token:  2022-11-15 22:37:59  - pool list length:  54000  - record from:  1668551879\n",
      "ticker:  55  - records collected:  1000  - token:  2022-11-14 16:14:11  - pool list length:  55000  - record from:  1668442451\n",
      "ticker:  56  - records collected:  1000  - token:  2022-11-13 21:14:35  - pool list length:  56000  - record from:  1668374075\n",
      "ticker:  57  - records collected:  1000  - token:  2022-11-12 15:29:35  - pool list length:  57000  - record from:  1668266975\n",
      "ticker:  58  - records collected:  1000  - token:  2022-11-11 19:24:59  - pool list length:  58000  - record from:  1668194699\n",
      "ticker:  59  - records collected:  1000  - token:  2022-11-10 22:20:35  - pool list length:  59000  - record from:  1668118835\n",
      "ticker:  60  - records collected:  1000  - token:  2022-11-09 13:10:35  - pool list length:  60000  - record from:  1667999435\n",
      "ticker:  61  - records collected:  1000  - token:  2022-11-08 22:57:47  - pool list length:  61000  - record from:  1667948267\n",
      "ticker:  62  - records collected:  1000  - token:  2022-11-07 01:00:23  - pool list length:  62000  - record from:  1667782823\n",
      "ticker:  63  - records collected:  1000  - token:  2022-11-06 07:02:11  - pool list length:  63000  - record from:  1667718131\n",
      "ticker:  64  - records collected:  1000  - token:  2022-11-05 22:45:47  - pool list length:  64000  - record from:  1667688347\n",
      "ticker:  65  - records collected:  1000  - token:  2022-11-04 23:05:47  - pool list length:  65000  - record from:  1667603147\n",
      "ticker:  66  - records collected:  1000  - token:  2022-11-03 14:12:11  - pool list length:  66000  - record from:  1667484731\n",
      "ticker:  67  - records collected:  1000  - token:  2022-11-01 15:46:35  - pool list length:  67000  - record from:  1667317595\n",
      "ticker:  68  - records collected:  1000  - token:  2022-10-31 20:12:47  - pool list length:  68000  - record from:  1667247167\n",
      "ticker:  69  - records collected:  1000  - token:  2022-10-30 21:41:59  - pool list length:  69000  - record from:  1667166119\n",
      "ticker:  70  - records collected:  1000  - token:  2022-10-29 18:48:35  - pool list length:  70000  - record from:  1667069315\n",
      "ticker:  71  - records collected:  1000  - token:  2022-10-28 22:22:59  - pool list length:  71000  - record from:  1666995779\n",
      "ticker:  72  - records collected:  1000  - token:  2022-10-27 22:53:35  - pool list length:  72000  - record from:  1666911215\n",
      "ticker:  73  - records collected:  1000  - token:  2022-10-26 21:52:47  - pool list length:  73000  - record from:  1666821167\n",
      "ticker:  74  - records collected:  1000  - token:  2022-10-25 19:42:59  - pool list length:  74000  - record from:  1666726979\n",
      "ticker:  75  - records collected:  1000  - token:  2022-10-24 22:06:59  - pool list length:  75000  - record from:  1666649219\n",
      "ticker:  76  - records collected:  1000  - token:  2022-10-23 22:48:11  - pool list length:  76000  - record from:  1666565291\n",
      "ticker:  77  - records collected:  1000  - token:  2022-10-22 00:44:11  - pool list length:  77000  - record from:  1666399451\n",
      "ticker:  78  - records collected:  1000  - token:  2022-10-20 22:00:11  - pool list length:  78000  - record from:  1666303211\n",
      "ticker:  79  - records collected:  1000  - token:  2022-10-19 11:58:59  - pool list length:  79000  - record from:  1666180739\n",
      "ticker:  80  - records collected:  1000  - token:  2022-10-18 20:03:23  - pool list length:  80000  - record from:  1666123403\n",
      "ticker:  81  - records collected:  1000  - token:  2022-10-17 10:01:47  - pool list length:  81000  - record from:  1666000907\n",
      "ticker:  82  - records collected:  1000  - token:  2022-10-16 20:20:35  - pool list length:  82000  - record from:  1665951635\n",
      "ticker:  83  - records collected:  1000  - token:  2022-10-15 23:32:59  - pool list length:  83000  - record from:  1665876779\n",
      "ticker:  84  - records collected:  1000  - token:  2022-10-13 18:36:35  - pool list length:  84000  - record from:  1665686195\n",
      "ticker:  85  - records collected:  1000  - token:  2022-10-12 10:46:59  - pool list length:  85000  - record from:  1665571619\n",
      "ticker:  86  - records collected:  1000  - token:  2022-10-11 06:23:35  - pool list length:  86000  - record from:  1665469415\n",
      "ticker:  87  - records collected:  1000  - token:  2022-10-10 23:25:47  - pool list length:  87000  - record from:  1665444347\n",
      "ticker:  88  - records collected:  1000  - token:  2022-10-09 23:22:35  - pool list length:  88000  - record from:  1665357755\n",
      "ticker:  89  - records collected:  1000  - token:  2022-10-08 17:08:35  - pool list length:  89000  - record from:  1665248915\n",
      "ticker:  90  - records collected:  1000  - token:  2022-10-07 11:28:47  - pool list length:  90000  - record from:  1665142127\n",
      "ticker:  91  - records collected:  1000  - token:  2022-10-06 23:33:35  - pool list length:  91000  - record from:  1665099215\n",
      "ticker:  92  - records collected:  1000  - token:  2022-10-05 23:36:59  - pool list length:  92000  - record from:  1665013019\n",
      "ticker:  93  - records collected:  1000  - token:  2022-10-04 19:55:47  - pool list length:  93000  - record from:  1664913347\n",
      "ticker:  94  - records collected:  1000  - token:  2022-10-03 21:08:23  - pool list length:  94000  - record from:  1664831303\n",
      "ticker:  95  - records collected:  1000  - token:  2022-10-02 20:50:35  - pool list length:  95000  - record from:  1664743835\n",
      "ticker:  96  - records collected:  1000  - token:  2022-10-01 22:30:47  - pool list length:  96000  - record from:  1664663447\n",
      "ticker:  97  - records collected:  1000  - token:  2022-09-30 19:39:47  - pool list length:  97000  - record from:  1664566787\n",
      "ticker:  98  - records collected:  1000  - token:  2022-09-29 21:52:59  - pool list length:  98000  - record from:  1664488379\n",
      "ticker:  99  - records collected:  1000  - token:  2022-09-28 04:18:11  - pool list length:  99000  - record from:  1664338691\n",
      "ticker:  100  - records collected:  1000  - token:  2022-09-27 19:41:35  - pool list length:  100000  - record from:  1664307695\n",
      "ticker:  101  - records collected:  1000  - token:  2022-09-26 08:40:59  - pool list length:  101000  - record from:  1664181659\n",
      "ticker:  102  - records collected:  1000  - token:  2022-09-25 19:21:59  - pool list length:  102000  - record from:  1664133719\n",
      "ticker:  103  - records collected:  1000  - token:  2022-09-24 23:47:11  - pool list length:  103000  - record from:  1664063231\n",
      "ticker:  104  - records collected:  1000  - token:  2022-09-23 19:14:11  - pool list length:  104000  - record from:  1663960451\n",
      "ticker:  105  - records collected:  1000  - token:  2022-09-22 20:34:11  - pool list length:  105000  - record from:  1663878851\n",
      "ticker:  106  - records collected:  1000  - token:  2022-09-21 21:49:23  - pool list length:  106000  - record from:  1663796963\n",
      "ticker:  107  - records collected:  1000  - token:  2022-09-20 22:35:23  - pool list length:  107000  - record from:  1663713323\n",
      "ticker:  108  - records collected:  1000  - token:  2022-09-19 20:09:59  - pool list length:  108000  - record from:  1663618199\n",
      "ticker:  109  - records collected:  1000  - token:  2022-09-18 21:16:11  - pool list length:  109000  - record from:  1663535771\n",
      "ticker:  110  - records collected:  1000  - token:  2022-09-17 17:13:35  - pool list length:  110000  - record from:  1663434815\n",
      "ticker:  111  - records collected:  1000  - token:  2022-09-16 18:26:35  - pool list length:  111000  - record from:  1663352795\n",
      "ticker:  112  - records collected:  1000  - token:  2022-09-15 22:41:23  - pool list length:  112000  - record from:  1663281683\n",
      "ticker:  113  - records collected:  1000  - token:  2022-09-14 10:52:06  - pool list length:  113000  - record from:  1663152726\n",
      "ticker:  114  - records collected:  1000  - token:  2022-09-13 14:56:10  - pool list length:  114000  - record from:  1663080970\n",
      "ticker:  115  - records collected:  1000  - token:  2022-09-12 23:01:22  - pool list length:  115000  - record from:  1663023682\n",
      "ticker:  116  - records collected:  1000  - token:  2022-09-10 23:33:49  - pool list length:  116000  - record from:  1662852829\n",
      "ticker:  117  - records collected:  1000  - token:  2022-09-09 12:48:12  - pool list length:  117000  - record from:  1662727692\n",
      "ticker:  118  - records collected:  1000  - token:  2022-09-08 21:09:36  - pool list length:  118000  - record from:  1662671376\n",
      "ticker:  119  - records collected:  1000  - token:  2022-09-07 19:04:00  - pool list length:  119000  - record from:  1662577440\n",
      "ticker:  120  - records collected:  1000  - token:  2022-09-06 18:36:02  - pool list length:  120000  - record from:  1662489362\n",
      "ticker:  121  - records collected:  1000  - token:  2022-09-05 23:06:18  - pool list length:  121000  - record from:  1662419178\n",
      "ticker:  122  - records collected:  1000  - token:  2022-09-04 21:24:35  - pool list length:  122000  - record from:  1662326675\n",
      "ticker:  123  - records collected:  1000  - token:  2022-09-03 09:41:09  - pool list length:  123000  - record from:  1662198069\n",
      "ticker:  124  - records collected:  1000  - token:  2022-09-02 14:25:37  - pool list length:  124000  - record from:  1662128737\n",
      "ticker:  125  - records collected:  1000  - token:  2022-09-01 20:54:14  - pool list length:  125000  - record from:  1662065654\n",
      "ticker:  126  - records collected:  1000  - token:  2022-08-31 17:16:09  - pool list length:  126000  - record from:  1661966169\n",
      "ticker:  127  - records collected:  1000  - token:  2022-08-30 16:37:19  - pool list length:  127000  - record from:  1661877439\n",
      "ticker:  128  - records collected:  1000  - token:  2022-08-29 21:57:45  - pool list length:  128000  - record from:  1661810265\n",
      "ticker:  129  - records collected:  1000  - token:  2022-08-28 18:54:45  - pool list length:  129000  - record from:  1661712885\n",
      "ticker:  130  - records collected:  1000  - token:  2022-08-27 18:01:32  - pool list length:  130000  - record from:  1661623292\n",
      "ticker:  131  - records collected:  1000  - token:  2022-08-26 16:48:00  - pool list length:  131000  - record from:  1661532480\n",
      "ticker:  132  - records collected:  1000  - token:  2022-08-25 08:46:57  - pool list length:  132000  - record from:  1661417217\n",
      "ticker:  133  - records collected:  1000  - token:  2022-08-24 21:12:44  - pool list length:  133000  - record from:  1661375564\n",
      "ticker:  134  - records collected:  1000  - token:  2022-08-23 23:22:45  - pool list length:  134000  - record from:  1661296965\n",
      "ticker:  135  - records collected:  1000  - token:  2022-08-22 08:41:54  - pool list length:  135000  - record from:  1661157714\n",
      "ticker:  136  - records collected:  1000  - token:  2022-08-21 23:18:37  - pool list length:  136000  - record from:  1661123917\n",
      "ticker:  137  - records collected:  1000  - token:  2022-08-20 20:32:52  - pool list length:  137000  - record from:  1661027572\n",
      "ticker:  138  - records collected:  1000  - token:  2022-08-19 22:43:21  - pool list length:  138000  - record from:  1660949001\n",
      "ticker:  139  - records collected:  1000  - token:  2022-08-18 18:34:50  - pool list length:  139000  - record from:  1660847690\n",
      "ticker:  140  - records collected:  1000  - token:  2022-08-17 22:01:35  - pool list length:  140000  - record from:  1660773695\n",
      "ticker:  141  - records collected:  1000  - token:  2022-08-16 14:35:47  - pool list length:  141000  - record from:  1660660547\n",
      "ticker:  142  - records collected:  1000  - token:  2022-08-15 20:16:26  - pool list length:  142000  - record from:  1660594586\n",
      "ticker:  143  - records collected:  1000  - token:  2022-08-14 17:46:47  - pool list length:  143000  - record from:  1660499207\n",
      "ticker:  144  - records collected:  1000  - token:  2022-08-13 22:22:49  - pool list length:  144000  - record from:  1660429369\n",
      "ticker:  145  - records collected:  1000  - token:  2022-08-12 22:59:01  - pool list length:  145000  - record from:  1660345141\n",
      "ticker:  146  - records collected:  1000  - token:  2022-08-11 23:47:41  - pool list length:  146000  - record from:  1660261661\n",
      "ticker:  147  - records collected:  1000  - token:  2022-08-10 13:01:38  - pool list length:  147000  - record from:  1660136498\n",
      "ticker:  148  - records collected:  1000  - token:  2022-08-09 23:50:44  - pool list length:  148000  - record from:  1660089044\n",
      "ticker:  149  - records collected:  1000  - token:  2022-08-08 09:12:16  - pool list length:  149000  - record from:  1659949936\n",
      "ticker:  150  - records collected:  1000  - token:  2022-08-07 22:58:36  - pool list length:  150000  - record from:  1659913116\n",
      "ticker:  151  - records collected:  1000  - token:  2022-08-06 20:27:39  - pool list length:  151000  - record from:  1659817659\n",
      "ticker:  152  - records collected:  1000  - token:  2022-08-05 22:09:07  - pool list length:  152000  - record from:  1659737347\n",
      "ticker:  153  - records collected:  1000  - token:  2022-08-03 16:26:49  - pool list length:  153000  - record from:  1659544009\n",
      "ticker:  154  - records collected:  1000  - token:  2022-08-02 21:08:58  - pool list length:  154000  - record from:  1659474538\n",
      "ticker:  155  - records collected:  1000  - token:  2022-08-01 05:05:35  - pool list length:  155000  - record from:  1659330335\n",
      "ticker:  156  - records collected:  1000  - token:  2022-07-31 22:32:56  - pool list length:  156000  - record from:  1659306776\n",
      "ticker:  157  - records collected:  1000  - token:  2022-07-30 21:10:37  - pool list length:  157000  - record from:  1659215437\n",
      "ticker:  158  - records collected:  1000  - token:  2022-07-29 23:32:59  - pool list length:  158000  - record from:  1659137579\n",
      "ticker:  159  - records collected:  1000  - token:  2022-07-28 22:23:10  - pool list length:  159000  - record from:  1659046990\n",
      "ticker:  160  - records collected:  1000  - token:  2022-07-27 22:19:37  - pool list length:  160000  - record from:  1658960377\n",
      "ticker:  161  - records collected:  1000  - token:  2022-07-26 23:23:31  - pool list length:  161000  - record from:  1658877811\n",
      "ticker:  162  - records collected:  1000  - token:  2022-07-25 23:34:49  - pool list length:  162000  - record from:  1658792089\n",
      "ticker:  163  - records collected:  1000  - token:  2022-07-24 16:34:15  - pool list length:  163000  - record from:  1658680455\n",
      "ticker:  164  - records collected:  1000  - token:  2022-07-23 22:58:40  - pool list length:  164000  - record from:  1658617120\n",
      "ticker:  165  - records collected:  1000  - token:  2022-07-22 18:45:53  - pool list length:  165000  - record from:  1658515553\n",
      "ticker:  166  - records collected:  1000  - token:  2022-07-21 20:20:40  - pool list length:  166000  - record from:  1658434840\n",
      "ticker:  167  - records collected:  1000  - token:  2022-07-20 23:17:05  - pool list length:  167000  - record from:  1658359025\n",
      "ticker:  168  - records collected:  1000  - token:  2022-07-19 16:33:13  - pool list length:  168000  - record from:  1658248393\n",
      "ticker:  169  - records collected:  1000  - token:  2022-07-18 23:58:42  - pool list length:  169000  - record from:  1658188722\n",
      "ticker:  170  - records collected:  1000  - token:  2022-07-17 13:12:05  - pool list length:  170000  - record from:  1658063525\n",
      "ticker:  171  - records collected:  1000  - token:  2022-07-16 23:29:58  - pool list length:  171000  - record from:  1658014198\n",
      "ticker:  172  - records collected:  1000  - token:  2022-07-15 21:20:01  - pool list length:  172000  - record from:  1657920001\n",
      "ticker:  173  - records collected:  1000  - token:  2022-07-14 18:27:25  - pool list length:  173000  - record from:  1657823245\n",
      "ticker:  174  - records collected:  1000  - token:  2022-07-13 23:44:15  - pool list length:  174000  - record from:  1657755855\n",
      "ticker:  175  - records collected:  1000  - token:  2022-07-12 18:22:51  - pool list length:  175000  - record from:  1657650171\n",
      "ticker:  176  - records collected:  1000  - token:  2022-07-11 23:58:50  - pool list length:  176000  - record from:  1657583930\n",
      "ticker:  177  - records collected:  1000  - token:  2022-07-10 15:35:54  - pool list length:  177000  - record from:  1657467354\n",
      "ticker:  178  - records collected:  1000  - token:  2022-07-09 18:54:23  - pool list length:  178000  - record from:  1657392863\n",
      "ticker:  179  - records collected:  1000  - token:  2022-07-08 20:39:05  - pool list length:  179000  - record from:  1657312745\n",
      "ticker:  180  - records collected:  1000  - token:  2022-07-07 21:05:10  - pool list length:  180000  - record from:  1657227910\n",
      "ticker:  181  - records collected:  1000  - token:  2022-07-06 16:47:22  - pool list length:  181000  - record from:  1657126042\n",
      "ticker:  182  - records collected:  1000  - token:  2022-07-05 22:40:05  - pool list length:  182000  - record from:  1657060805\n",
      "ticker:  183  - records collected:  1000  - token:  2022-07-04 21:27:08  - pool list length:  183000  - record from:  1656970028\n",
      "ticker:  184  - records collected:  1000  - token:  2022-07-03 20:32:07  - pool list length:  184000  - record from:  1656880327\n",
      "ticker:  185  - records collected:  1000  - token:  2022-07-02 23:01:58  - pool list length:  185000  - record from:  1656802918\n",
      "ticker:  186  - records collected:  1000  - token:  2022-07-01 04:07:35  - pool list length:  186000  - record from:  1656648455\n",
      "ticker:  187  - records collected:  1000  - token:  2022-06-30 22:10:05  - pool list length:  187000  - record from:  1656627005\n",
      "ticker:  188  - records collected:  1000  - token:  2022-06-29 23:35:21  - pool list length:  188000  - record from:  1656545721\n",
      "ticker:  189  - records collected:  1000  - token:  2022-06-28 18:32:13  - pool list length:  189000  - record from:  1656441133\n",
      "ticker:  190  - records collected:  1000  - token:  2022-06-27 20:57:54  - pool list length:  190000  - record from:  1656363474\n",
      "ticker:  191  - records collected:  1000  - token:  2022-06-26 15:16:45  - pool list length:  191000  - record from:  1656256605\n",
      "ticker:  192  - records collected:  1000  - token:  2022-06-25 20:30:16  - pool list length:  192000  - record from:  1656189016\n",
      "ticker:  193  - records collected:  1000  - token:  2022-06-24 23:22:52  - pool list length:  193000  - record from:  1656112972\n",
      "ticker:  194  - records collected:  1000  - token:  2022-06-23 23:57:35  - pool list length:  194000  - record from:  1656028655\n",
      "ticker:  195  - records collected:  1000  - token:  2022-06-22 23:40:22  - pool list length:  195000  - record from:  1655941222\n",
      "ticker:  196  - records collected:  1000  - token:  2022-06-21 23:40:59  - pool list length:  196000  - record from:  1655854859\n",
      "ticker:  197  - records collected:  1000  - token:  2022-06-20 18:52:21  - pool list length:  197000  - record from:  1655751141\n",
      "ticker:  198  - records collected:  1000  - token:  2022-06-19 19:19:54  - pool list length:  198000  - record from:  1655666394\n",
      "ticker:  199  - records collected:  1000  - token:  2022-06-18 23:49:40  - pool list length:  199000  - record from:  1655596180\n",
      "ticker:  200  - records collected:  1000  - token:  2022-06-17 23:42:38  - pool list length:  200000  - record from:  1655509358\n",
      "ticker:  201  - records collected:  1000  - token:  2022-06-16 23:44:10  - pool list length:  201000  - record from:  1655423050\n",
      "ticker:  202  - records collected:  1000  - token:  2022-06-15 23:12:53  - pool list length:  202000  - record from:  1655334773\n",
      "ticker:  203  - records collected:  1000  - token:  2022-06-14 23:42:11  - pool list length:  203000  - record from:  1655250131\n",
      "ticker:  204  - records collected:  1000  - token:  2022-06-13 22:20:11  - pool list length:  204000  - record from:  1655158811\n",
      "ticker:  205  - records collected:  1000  - token:  2022-06-12 23:22:29  - pool list length:  205000  - record from:  1655076149\n",
      "ticker:  206  - records collected:  1000  - token:  2022-06-11 23:44:02  - pool list length:  206000  - record from:  1654991042\n",
      "ticker:  207  - records collected:  1000  - token:  2022-06-10 18:19:50  - pool list length:  207000  - record from:  1654885190\n",
      "ticker:  208  - records collected:  1000  - token:  2022-06-09 14:16:54  - pool list length:  208000  - record from:  1654784214\n",
      "ticker:  209  - records collected:  1000  - token:  2022-06-08 06:31:07  - pool list length:  209000  - record from:  1654669867\n",
      "ticker:  210  - records collected:  1000  - token:  2022-06-07 20:13:41  - pool list length:  210000  - record from:  1654632821\n",
      "ticker:  211  - records collected:  1000  - token:  2022-06-06 20:23:54  - pool list length:  211000  - record from:  1654547034\n",
      "ticker:  212  - records collected:  1000  - token:  2022-06-05 11:21:10  - pool list length:  212000  - record from:  1654428070\n",
      "ticker:  213  - records collected:  1000  - token:  2022-06-04 22:24:08  - pool list length:  213000  - record from:  1654381448\n",
      "ticker:  214  - records collected:  1000  - token:  2022-06-03 16:54:26  - pool list length:  214000  - record from:  1654275266\n",
      "ticker:  215  - records collected:  1000  - token:  2022-06-02 18:43:59  - pool list length:  215000  - record from:  1654195439\n",
      "ticker:  216  - records collected:  1000  - token:  2022-06-01 22:21:43  - pool list length:  216000  - record from:  1654122103\n",
      "ticker:  217  - records collected:  1000  - token:  2022-05-31 20:38:01  - pool list length:  217000  - record from:  1654029481\n",
      "ticker:  218  - records collected:  1000  - token:  2022-05-30 20:09:43  - pool list length:  218000  - record from:  1653941383\n",
      "ticker:  219  - records collected:  1000  - token:  2022-05-29 23:43:39  - pool list length:  219000  - record from:  1653867819\n",
      "ticker:  220  - records collected:  1000  - token:  2022-05-28 23:41:47  - pool list length:  220000  - record from:  1653781307\n",
      "ticker:  221  - records collected:  1000  - token:  2022-05-27 22:21:45  - pool list length:  221000  - record from:  1653690105\n",
      "ticker:  222  - records collected:  1000  - token:  2022-05-26 22:14:02  - pool list length:  222000  - record from:  1653603242\n",
      "ticker:  223  - records collected:  1000  - token:  2022-05-25 21:45:15  - pool list length:  223000  - record from:  1653515115\n",
      "ticker:  224  - records collected:  1000  - token:  2022-05-24 23:16:32  - pool list length:  224000  - record from:  1653434192\n",
      "ticker:  225  - records collected:  1000  - token:  2022-05-23 21:23:45  - pool list length:  225000  - record from:  1653341025\n",
      "ticker:  226  - records collected:  1000  - token:  2022-05-22 18:24:14  - pool list length:  226000  - record from:  1653243854\n",
      "ticker:  227  - records collected:  1000  - token:  2022-05-21 23:38:27  - pool list length:  227000  - record from:  1653176307\n",
      "ticker:  228  - records collected:  1000  - token:  2022-05-20 20:45:55  - pool list length:  228000  - record from:  1653079555\n",
      "ticker:  229  - records collected:  1000  - token:  2022-05-19 22:40:24  - pool list length:  229000  - record from:  1653000024\n",
      "ticker:  230  - records collected:  1000  - token:  2022-05-18 21:40:00  - pool list length:  230000  - record from:  1652910000\n",
      "ticker:  231  - records collected:  1000  - token:  2022-05-17 22:57:15  - pool list length:  231000  - record from:  1652828235\n",
      "ticker:  232  - records collected:  1000  - token:  2022-05-16 19:12:22  - pool list length:  232000  - record from:  1652728342\n",
      "ticker:  233  - records collected:  1000  - token:  2022-05-15 22:20:41  - pool list length:  233000  - record from:  1652653241\n",
      "ticker:  234  - records collected:  1000  - token:  2022-05-14 22:23:46  - pool list length:  234000  - record from:  1652567026\n",
      "ticker:  235  - records collected:  1000  - token:  2022-05-13 23:14:59  - pool list length:  235000  - record from:  1652483699\n",
      "ticker:  236  - records collected:  1000  - token:  2022-05-12 22:23:15  - pool list length:  236000  - record from:  1652394195\n",
      "ticker:  237  - records collected:  1000  - token:  2022-05-11 23:15:12  - pool list length:  237000  - record from:  1652310912\n",
      "ticker:  238  - records collected:  1000  - token:  2022-05-10 23:26:52  - pool list length:  238000  - record from:  1652225212\n",
      "ticker:  239  - records collected:  1000  - token:  2022-05-09 10:41:11  - pool list length:  239000  - record from:  1652092871\n",
      "ticker:  240  - records collected:  1000  - token:  2022-05-08 23:29:03  - pool list length:  240000  - record from:  1652052543\n",
      "ticker:  241  - records collected:  1000  - token:  2022-05-07 23:48:32  - pool list length:  241000  - record from:  1651967312\n",
      "ticker:  242  - records collected:  1000  - token:  2022-05-06 23:26:58  - pool list length:  242000  - record from:  1651879618\n",
      "ticker:  243  - records collected:  1000  - token:  2022-05-05 22:16:10  - pool list length:  243000  - record from:  1651788970\n",
      "ticker:  244  - records collected:  1000  - token:  2022-05-04 21:51:26  - pool list length:  244000  - record from:  1651701086\n",
      "ticker:  245  - records collected:  1000  - token:  2022-05-03 23:50:44  - pool list length:  245000  - record from:  1651621844\n",
      "ticker:  246  - records collected:  1000  - token:  2022-05-02 10:03:03  - pool list length:  246000  - record from:  1651485783\n",
      "ticker:  247  - records collected:  1000  - token:  2022-05-01 18:42:27  - pool list length:  247000  - record from:  1651430547\n",
      "ticker:  248  - records collected:  1000  - token:  2022-04-30 22:51:20  - pool list length:  248000  - record from:  1651359080\n",
      "ticker:  249  - records collected:  1000  - token:  2022-04-29 21:20:33  - pool list length:  249000  - record from:  1651267233\n",
      "ticker:  250  - records collected:  1000  - token:  2022-04-28 14:03:12  - pool list length:  250000  - record from:  1651154592\n",
      "ticker:  251  - records collected:  1000  - token:  2022-04-27 22:55:03  - pool list length:  251000  - record from:  1651100103\n",
      "ticker:  252  - records collected:  1000  - token:  2022-04-26 19:33:33  - pool list length:  252000  - record from:  1651001613\n",
      "ticker:  253  - records collected:  1000  - token:  2022-04-25 23:09:29  - pool list length:  253000  - record from:  1650928169\n",
      "ticker:  254  - records collected:  1000  - token:  2022-04-24 20:27:38  - pool list length:  254000  - record from:  1650832058\n",
      "ticker:  255  - records collected:  1000  - token:  2022-04-23 21:29:38  - pool list length:  255000  - record from:  1650749378\n",
      "ticker:  256  - records collected:  1000  - token:  2022-04-22 23:45:35  - pool list length:  256000  - record from:  1650671135\n",
      "ticker:  257  - records collected:  1000  - token:  2022-04-21 18:22:48  - pool list length:  257000  - record from:  1650565368\n",
      "ticker:  258  - records collected:  1000  - token:  2022-04-20 23:53:32  - pool list length:  258000  - record from:  1650498812\n",
      "ticker:  259  - records collected:  1000  - token:  2022-04-19 19:38:18  - pool list length:  259000  - record from:  1650397098\n",
      "ticker:  260  - records collected:  1000  - token:  2022-04-18 23:29:13  - pool list length:  260000  - record from:  1650324553\n",
      "ticker:  261  - records collected:  1000  - token:  2022-04-17 23:26:47  - pool list length:  261000  - record from:  1650238007\n",
      "ticker:  262  - records collected:  1000  - token:  2022-04-16 23:01:52  - pool list length:  262000  - record from:  1650150112\n",
      "ticker:  263  - records collected:  1000  - token:  2022-04-15 22:01:28  - pool list length:  263000  - record from:  1650060088\n",
      "ticker:  264  - records collected:  1000  - token:  2022-04-14 23:35:46  - pool list length:  264000  - record from:  1649979346\n",
      "ticker:  265  - records collected:  1000  - token:  2022-04-13 15:11:23  - pool list length:  265000  - record from:  1649862683\n",
      "ticker:  266  - records collected:  1000  - token:  2022-04-12 22:20:02  - pool list length:  266000  - record from:  1649802002\n",
      "ticker:  267  - records collected:  1000  - token:  2022-04-11 21:43:55  - pool list length:  267000  - record from:  1649713435\n",
      "ticker:  268  - records collected:  1000  - token:  2022-04-10 22:44:23  - pool list length:  268000  - record from:  1649630663\n",
      "ticker:  269  - records collected:  1000  - token:  2022-04-09 23:37:23  - pool list length:  269000  - record from:  1649547443\n",
      "ticker:  270  - records collected:  1000  - token:  2022-04-08 23:50:56  - pool list length:  270000  - record from:  1649461856\n",
      "ticker:  271  - records collected:  1000  - token:  2022-04-07 21:53:24  - pool list length:  271000  - record from:  1649368404\n",
      "ticker:  272  - records collected:  1000  - token:  2022-04-06 21:50:00  - pool list length:  272000  - record from:  1649281800\n",
      "ticker:  273  - records collected:  1000  - token:  2022-04-05 19:46:36  - pool list length:  273000  - record from:  1649187996\n",
      "ticker:  274  - records collected:  1000  - token:  2022-04-04 21:36:37  - pool list length:  274000  - record from:  1649108197\n",
      "ticker:  275  - records collected:  1000  - token:  2022-04-03 23:22:09  - pool list length:  275000  - record from:  1649028129\n",
      "ticker:  276  - records collected:  1000  - token:  2022-04-02 18:34:46  - pool list length:  276000  - record from:  1648924486\n",
      "ticker:  277  - records collected:  1000  - token:  2022-04-01 19:56:24  - pool list length:  277000  - record from:  1648842984\n",
      "ticker:  278  - records collected:  1000  - token:  2022-03-31 20:53:12  - pool list length:  278000  - record from:  1648759992\n",
      "ticker:  279  - records collected:  1000  - token:  2022-03-30 23:57:40  - pool list length:  279000  - record from:  1648684660\n",
      "ticker:  280  - records collected:  1000  - token:  2022-03-29 20:44:04  - pool list length:  280000  - record from:  1648586644\n",
      "ticker:  281  - records collected:  1000  - token:  2022-03-28 22:54:58  - pool list length:  281000  - record from:  1648508098\n",
      "ticker:  282  - records collected:  1000  - token:  2022-03-27 23:54:05  - pool list length:  282000  - record from:  1648425245\n",
      "ticker:  283  - records collected:  1000  - token:  2022-03-26 23:21:02  - pool list length:  283000  - record from:  1648336862\n",
      "ticker:  284  - records collected:  1000  - token:  2022-03-25 23:43:36  - pool list length:  284000  - record from:  1648251816\n",
      "ticker:  285  - records collected:  1000  - token:  2022-03-24 23:53:56  - pool list length:  285000  - record from:  1648166036\n",
      "ticker:  286  - records collected:  1000  - token:  2022-03-23 23:46:24  - pool list length:  286000  - record from:  1648079184\n",
      "ticker:  287  - records collected:  1000  - token:  2022-03-22 22:46:17  - pool list length:  287000  - record from:  1647989177\n",
      "ticker:  288  - records collected:  1000  - token:  2022-03-21 22:37:28  - pool list length:  288000  - record from:  1647902248\n",
      "ticker:  289  - records collected:  1000  - token:  2022-03-20 20:41:05  - pool list length:  289000  - record from:  1647808865\n",
      "ticker:  290  - records collected:  1000  - token:  2022-03-19 21:48:42  - pool list length:  290000  - record from:  1647726522\n",
      "ticker:  291  - records collected:  1000  - token:  2022-03-18 23:18:00  - pool list length:  291000  - record from:  1647645480\n",
      "ticker:  292  - records collected:  1000  - token:  2022-03-17 23:25:32  - pool list length:  292000  - record from:  1647559532\n",
      "ticker:  293  - records collected:  1000  - token:  2022-03-16 23:35:21  - pool list length:  293000  - record from:  1647473721\n",
      "ticker:  294  - records collected:  1000  - token:  2022-03-15 22:04:17  - pool list length:  294000  - record from:  1647381857\n",
      "ticker:  295  - records collected:  1000  - token:  2022-03-14 23:02:31  - pool list length:  295000  - record from:  1647298951\n",
      "ticker:  296  - records collected:  1000  - token:  2022-03-13 22:32:42  - pool list length:  296000  - record from:  1647210762\n",
      "ticker:  297  - records collected:  1000  - token:  2022-03-12 22:08:13  - pool list length:  297000  - record from:  1647122893\n",
      "ticker:  298  - records collected:  1000  - token:  2022-03-11 22:41:04  - pool list length:  298000  - record from:  1647038464\n",
      "ticker:  299  - records collected:  1000  - token:  2022-03-10 23:57:44  - pool list length:  299000  - record from:  1646956664\n",
      "ticker:  300  - records collected:  1000  - token:  2022-03-09 21:58:22  - pool list length:  300000  - record from:  1646863102\n",
      "ticker:  301  - records collected:  1000  - token:  2022-03-08 23:29:48  - pool list length:  301000  - record from:  1646782188\n",
      "ticker:  302  - records collected:  1000  - token:  2022-03-07 23:51:03  - pool list length:  302000  - record from:  1646697063\n",
      "ticker:  303  - records collected:  1000  - token:  2022-03-06 21:00:58  - pool list length:  303000  - record from:  1646600458\n",
      "ticker:  304  - records collected:  1000  - token:  2022-03-05 23:44:52  - pool list length:  304000  - record from:  1646523892\n",
      "ticker:  305  - records collected:  1000  - token:  2022-03-04 23:45:46  - pool list length:  305000  - record from:  1646437546\n",
      "ticker:  306  - records collected:  1000  - token:  2022-03-03 23:15:44  - pool list length:  306000  - record from:  1646349344\n",
      "ticker:  307  - records collected:  1000  - token:  2022-03-02 23:58:10  - pool list length:  307000  - record from:  1646265490\n",
      "ticker:  308  - records collected:  1000  - token:  2022-03-01 21:50:28  - pool list length:  308000  - record from:  1646171428\n",
      "ticker:  309  - records collected:  1000  - token:  2022-02-28 22:13:18  - pool list length:  309000  - record from:  1646086398\n",
      "ticker:  310  - records collected:  1000  - token:  2022-02-27 23:00:20  - pool list length:  310000  - record from:  1646002820\n",
      "ticker:  311  - records collected:  1000  - token:  2022-02-26 23:43:39  - pool list length:  311000  - record from:  1645919019\n",
      "ticker:  312  - records collected:  1000  - token:  2022-02-25 23:50:28  - pool list length:  312000  - record from:  1645833028\n",
      "ticker:  313  - records collected:  1000  - token:  2022-02-24 23:37:10  - pool list length:  313000  - record from:  1645745830\n",
      "ticker:  314  - records collected:  1000  - token:  2022-02-23 22:43:22  - pool list length:  314000  - record from:  1645656202\n",
      "ticker:  315  - records collected:  1000  - token:  2022-02-22 22:49:06  - pool list length:  315000  - record from:  1645570146\n",
      "ticker:  316  - records collected:  1000  - token:  2022-02-21 21:39:02  - pool list length:  316000  - record from:  1645479542\n",
      "ticker:  317  - records collected:  1000  - token:  2022-02-20 23:29:45  - pool list length:  317000  - record from:  1645399785\n",
      "ticker:  318  - records collected:  1000  - token:  2022-02-19 23:23:51  - pool list length:  318000  - record from:  1645313031\n",
      "ticker:  319  - records collected:  1000  - token:  2022-02-18 20:43:24  - pool list length:  319000  - record from:  1645217004\n",
      "ticker:  320  - records collected:  1000  - token:  2022-02-17 23:11:28  - pool list length:  320000  - record from:  1645139488\n",
      "ticker:  321  - records collected:  1000  - token:  2022-02-16 21:44:57  - pool list length:  321000  - record from:  1645047897\n",
      "ticker:  322  - records collected:  1000  - token:  2022-02-15 23:31:29  - pool list length:  322000  - record from:  1644967889\n",
      "ticker:  323  - records collected:  1000  - token:  2022-02-14 23:55:22  - pool list length:  323000  - record from:  1644882922\n",
      "ticker:  324  - records collected:  1000  - token:  2022-02-13 23:24:04  - pool list length:  324000  - record from:  1644794644\n",
      "ticker:  325  - records collected:  1000  - token:  2022-02-12 23:06:32  - pool list length:  325000  - record from:  1644707192\n",
      "ticker:  326  - records collected:  1000  - token:  2022-02-11 22:55:54  - pool list length:  326000  - record from:  1644620154\n",
      "ticker:  327  - records collected:  1000  - token:  2022-02-10 23:40:08  - pool list length:  327000  - record from:  1644536408\n",
      "ticker:  328  - records collected:  1000  - token:  2022-02-09 23:45:04  - pool list length:  328000  - record from:  1644450304\n",
      "ticker:  329  - records collected:  1000  - token:  2022-02-08 22:53:54  - pool list length:  329000  - record from:  1644360834\n",
      "ticker:  330  - records collected:  1000  - token:  2022-02-07 23:38:28  - pool list length:  330000  - record from:  1644277108\n",
      "ticker:  331  - records collected:  1000  - token:  2022-02-06 22:36:10  - pool list length:  331000  - record from:  1644186970\n",
      "ticker:  332  - records collected:  1000  - token:  2022-02-05 23:40:54  - pool list length:  332000  - record from:  1644104454\n",
      "ticker:  333  - records collected:  1000  - token:  2022-02-04 21:59:30  - pool list length:  333000  - record from:  1644011970\n",
      "ticker:  334  - records collected:  1000  - token:  2022-02-03 23:21:38  - pool list length:  334000  - record from:  1643930498\n",
      "ticker:  335  - records collected:  1000  - token:  2022-02-02 21:39:07  - pool list length:  335000  - record from:  1643837947\n",
      "ticker:  336  - records collected:  1000  - token:  2022-02-01 23:40:29  - pool list length:  336000  - record from:  1643758829\n",
      "ticker:  337  - records collected:  1000  - token:  2022-01-31 23:51:17  - pool list length:  337000  - record from:  1643673077\n",
      "ticker:  338  - records collected:  1000  - token:  2022-01-30 23:32:58  - pool list length:  338000  - record from:  1643585578\n",
      "ticker:  339  - records collected:  1000  - token:  2022-01-29 20:07:38  - pool list length:  339000  - record from:  1643486858\n",
      "ticker:  340  - records collected:  1000  - token:  2022-01-28 23:34:09  - pool list length:  340000  - record from:  1643412849\n",
      "ticker:  341  - records collected:  1000  - token:  2022-01-27 23:35:17  - pool list length:  341000  - record from:  1643326517\n",
      "ticker:  342  - records collected:  1000  - token:  2022-01-26 22:13:19  - pool list length:  342000  - record from:  1643235199\n",
      "ticker:  343  - records collected:  1000  - token:  2022-01-25 23:17:43  - pool list length:  343000  - record from:  1643152663\n",
      "ticker:  344  - records collected:  1000  - token:  2022-01-24 23:47:29  - pool list length:  344000  - record from:  1643068049\n",
      "ticker:  345  - records collected:  1000  - token:  2022-01-23 23:56:24  - pool list length:  345000  - record from:  1642982184\n",
      "ticker:  346  - records collected:  522  - token:  2022-01-22 23:43:00  - pool list length:  345522  - record from:  1642894980\n"
     ]
    },
    {
     "ename": "InvalidInputException",
     "evalue": "Invalid Input Error: Need a DataFrame with at least one column",
     "output_type": "error",
     "traceback": [
      "\u001B[1;31m---------------------------------------------------------------------------\u001B[0m",
      "\u001B[1;31mInvalidInputException\u001B[0m                     Traceback (most recent call last)",
      "Cell \u001B[1;32mIn[267], line 51\u001B[0m\n\u001B[0;32m     14\u001B[0m pools7 \u001B[38;5;241m=\u001B[39m sushi7\u001B[38;5;241m.\u001B[39mQuery\u001B[38;5;241m.\u001B[39mliquidityPoolDailySnapshots(\n\u001B[0;32m     15\u001B[0m     orderBy\u001B[38;5;241m=\u001B[39m\u001B[38;5;124m'\u001B[39m\u001B[38;5;124mid\u001B[39m\u001B[38;5;124m'\u001B[39m,\n\u001B[0;32m     16\u001B[0m     orderDirection\u001B[38;5;241m=\u001B[39m\u001B[38;5;124m'\u001B[39m\u001B[38;5;124mdesc\u001B[39m\u001B[38;5;124m'\u001B[39m,\n\u001B[1;32m   (...)\u001B[0m\n\u001B[0;32m     21\u001B[0m   ]\n\u001B[0;32m     22\u001B[0m )\n\u001B[0;32m     24\u001B[0m pool_data7 \u001B[38;5;241m=\u001B[39m sg\u001B[38;5;241m.\u001B[39mquery_df([\n\u001B[0;32m     25\u001B[0m     pools7\u001B[38;5;241m.\u001B[39mid\n\u001B[0;32m     26\u001B[0m     ,pools7\u001B[38;5;241m.\u001B[39mtimestamp\n\u001B[1;32m   (...)\u001B[0m\n\u001B[0;32m     48\u001B[0m     ,pools7\u001B[38;5;241m.\u001B[39mpool\u001B[38;5;241m.\u001B[39moutputToken\n\u001B[0;32m     49\u001B[0m ])\n\u001B[1;32m---> 51\u001B[0m pool_datadb7 \u001B[38;5;241m=\u001B[39m \u001B[43mdb\u001B[49m\u001B[38;5;241;43m.\u001B[39;49m\u001B[43mquery\u001B[49m\u001B[43m(\u001B[49m\u001B[38;5;124;43m\"\u001B[39;49m\u001B[38;5;124;43mselect \u001B[39;49m\u001B[38;5;124;43m\"\u001B[39;49m\n\u001B[0;32m     52\u001B[0m \u001B[43m               \u001B[49m\u001B[38;5;124;43m\"\u001B[39;49m\u001B[38;5;124;43m    * \u001B[39;49m\u001B[38;5;124;43m\"\u001B[39;49m\n\u001B[0;32m     53\u001B[0m \u001B[43m                    \u001B[49m\u001B[38;5;124;43m\"\u001B[39;49m\u001B[38;5;124;43m ,to_timestamp(liquidityPoolDailySnapshots_timestamp) dateTime \u001B[39;49m\u001B[38;5;124;43m\"\u001B[39;49m\n\u001B[0;32m     54\u001B[0m \u001B[43m               \u001B[49m\u001B[38;5;124;43m\"\u001B[39;49m\u001B[38;5;124;43mFrom pool_data7 \u001B[39;49m\u001B[38;5;124;43m\"\u001B[39;49m\n\u001B[0;32m     55\u001B[0m \u001B[43m               \u001B[49m\u001B[38;5;66;43;03m#\"where lower(liquidityPools_name) like lower('%olympus%') \"\u001B[39;49;00m\n\u001B[0;32m     56\u001B[0m \u001B[43m                \u001B[49m\u001B[38;5;66;43;03m#    \"or lower(pairs_token1_symbol) like lower('%OHM%')  \"\u001B[39;49;00m\n\u001B[0;32m     57\u001B[0m \u001B[43m               \u001B[49m\u001B[38;5;66;43;03m#\" limit 100 \"\u001B[39;49;00m\n\u001B[0;32m     58\u001B[0m \u001B[43m               \u001B[49m\u001B[43m)\u001B[49m\u001B[38;5;241m.\u001B[39mdf()\n\u001B[0;32m     60\u001B[0m pool_list\u001B[38;5;241m=\u001B[39mpd\u001B[38;5;241m.\u001B[39mconcat([pool_list, pool_datadb7])\n\u001B[0;32m     61\u001B[0m ticker \u001B[38;5;241m=\u001B[39m ticker\u001B[38;5;241m+\u001B[39m\u001B[38;5;241m1\u001B[39m\n",
      "\u001B[1;31mInvalidInputException\u001B[0m: Invalid Input Error: Need a DataFrame with at least one column"
     ]
    }
   ],
   "source": [
    "sushi7 = sg.load_api('https://gateway.thegraph.com/api/b0299a6e1895566f98d87e0711fa24ca/subgraphs/id/7h1x51fyT5KigAhXd8sdE3kzzxQDJxxz1y66LTFiC3mS')\n",
    "listLength=1000\n",
    "ticker = 1\n",
    "trigger=0\n",
    "pool_list = pd.DataFrame()\n",
    "pool_list=pd.concat([pool_list, pool_datadb6])\n",
    "\n",
    "\n",
    "#0x04F2694C8fcee23e8Fd0dfEA1d4f5Bb8c352111F\n",
    "while trigger==0:\n",
    "    while ticker < 500:\n",
    "        listLength=0\n",
    "        skipValue = (ticker-1)*(1000)\n",
    "        pools7 = sushi7.Query.liquidityPoolDailySnapshots(\n",
    "            orderBy='id',\n",
    "            orderDirection='desc',\n",
    "            skip =(skipValue),\n",
    "            first=1000,\n",
    "            where=[\n",
    "              sushi7.Query.liquidityPoolDailySnapshots.timestamp > 1604302679\n",
    "          ]\n",
    "        )\n",
    "\n",
    "        pool_data7 = sg.query_df([\n",
    "            pools7.id\n",
    "            ,pools7.timestamp\n",
    "            ,pools7.blockNumber\n",
    "            ,pools7.totalValueLockedUSD\n",
    "            ,pools7.cumulativeSupplySideRevenueUSD\n",
    "            ,pools7.dailySupplySideRevenueUSD\n",
    "            ,pools7.cumulativeProtocolSideRevenueUSD\n",
    "            ,pools7.dailyProtocolSideRevenueUSD\n",
    "            ,pools7.cumulativeTotalRevenueUSD\n",
    "            ,pools7.dailyTotalRevenueUSD\n",
    "            ,pools7.dailyVolumeUSD\n",
    "            #,pools6.dailyVolumeByTokenAmount\n",
    "            #,pools6.dailyVolumeByTokenUSD\n",
    "            ,pools7.cumulativeVolumeUSD\n",
    "            #,pools6.inputTokenBalances\n",
    "            #,pools6.inputTokenWeights\n",
    "            ,pools7.outputTokenSupply\n",
    "            ,pools7.outputTokenPriceUSD\n",
    "            ,pools7.stakedOutputTokenAmount\n",
    "            ,pools7.rewardTokenEmissionsAmount\n",
    "            #,pools6.rewardTokenEmissionsUSD\n",
    "            ,pools7.pool.name\n",
    "            ,pools7.pool.symbol\n",
    "            ,pools7.pool.outputToken\n",
    "        ])\n",
    "\n",
    "        pool_datadb7 = db.query(\"select \"\n",
    "                       \"    * \"\n",
    "                            \" ,to_timestamp(liquidityPoolDailySnapshots_timestamp) dateTime \"\n",
    "                       \"From pool_data7 \"\n",
    "                       #\"where lower(liquidityPools_name) like lower('%olympus%') \"\n",
    "                        #    \"or lower(pairs_token1_symbol) like lower('%OHM%')  \"\n",
    "                       #\" limit 100 \"\n",
    "                       ).df()\n",
    "\n",
    "        pool_list=pd.concat([pool_list, pool_datadb7])\n",
    "        ticker = ticker+1\n",
    "        pool_list_length = len(pool_list)\n",
    "        listLength = len(pool_datadb7)\n",
    "        recordTimestamp = pool_list.iat[ticker,1]\n",
    "        value1 = pool_list.iat[ticker,24]\n",
    "        #pool_datadb7 = pd.DataFrame(None)\n",
    "\n",
    "        print(\"ticker: \", ticker,\" - records collected: \", listLength, \" - token: \",value1 , \" - pool list length: \", pool_list_length, \" - record from: \", recordTimestamp)\n",
    "        if listLength<1000:\n",
    "            trigger=1\n",
    "\n",
    "print('done')"
   ],
   "metadata": {
    "collapsed": false,
    "pycharm": {
     "name": "#%%\n"
    }
   }
  },
  {
   "cell_type": "code",
   "execution_count": 266,
   "outputs": [],
   "source": [
    "path =file+'/sushi_pools '+str(date.today().strftime(\"%b-%d-%Y-%H-%m \"))+str(pool_list_length)+'records.csv'\n",
    "pool_datadb7.to_csv(path, index = False)"
   ],
   "metadata": {
    "collapsed": false,
    "pycharm": {
     "name": "#%%\n"
    }
   }
  },
  {
   "cell_type": "code",
   "execution_count": 265,
   "outputs": [
    {
     "name": "stdout",
     "output_type": "stream",
     "text": [
      "346\n"
     ]
    }
   ],
   "source": [
    "print(ticker)"
   ],
   "metadata": {
    "collapsed": false,
    "pycharm": {
     "name": "#%%\n"
    }
   }
  },
  {
   "cell_type": "code",
   "execution_count": 272,
   "outputs": [
    {
     "ename": "SyntaxError",
     "evalue": "closing parenthesis ']' does not match opening parenthesis '(' on line 1 (3209318014.py, line 10)",
     "output_type": "error",
     "traceback": [
      "\u001B[1;36m  Cell \u001B[1;32mIn[272], line 10\u001B[1;36m\u001B[0m\n\u001B[1;33m    ]\u001B[0m\n\u001B[1;37m    ^\u001B[0m\n\u001B[1;31mSyntaxError\u001B[0m\u001B[1;31m:\u001B[0m closing parenthesis ']' does not match opening parenthesis '(' on line 1\n"
     ]
    }
   ],
   "source": [
    "pools7 = sushi7.Query.liquidityPoolDailySnapshots(\n",
    "  orderBy='id',\n",
    "  orderDirection='desc',\n",
    "    skip =(1000)*(3-1),\n",
    "  first=1000,\n",
    "  #where=[\n",
    "      sushi7.Query.liquidityPoolDailySnapshots.pool.id == \"0x055475920a8c93CfFb64d039A8205F7AcC7722d3\"\n",
    "   #sushi3.Query.tokenPairs.pair.token0.symbol.contains_nocase 'olympus'\n",
    "    #sushi3.Query.tokenPairs.id == '0xff20817765cb7f73d4bde2e66e067e58d11095c2:1'\n",
    "  ]\n",
    ")\n",
    "\n",
    "pool_data7 = sg.query_df([\n",
    "    pools7.id\n",
    "    ,pools7.timestamp\n",
    "    ,pools7.blockNumber\n",
    "    ,pools7.totalValueLockedUSD\n",
    "    ,pools7.cumulativeSupplySideRevenueUSD\n",
    "    ,pools7.dailySupplySideRevenueUSD\n",
    "    ,pools7.cumulativeProtocolSideRevenueUSD\n",
    "    ,pools7.dailyProtocolSideRevenueUSD\n",
    "    ,pools7.cumulativeTotalRevenueUSD\n",
    "    ,pools7.dailyTotalRevenueUSD\n",
    "    ,pools7.dailyVolumeUSD\n",
    "    ,pools7.cumulativeVolumeUSD\n",
    "    ,pools7.outputTokenSupply\n",
    "    ,pools7.outputTokenPriceUSD\n",
    "    ,pools7.stakedOutputTokenAmount\n",
    "    ,pools7.rewardTokenEmissionsAmount\n",
    "    ,pools7.pool.name\n",
    "    ,pools7.pool.symbol\n",
    "    ,pools7.pool.outputToken\n",
    "])"
   ],
   "metadata": {
    "collapsed": false,
    "pycharm": {
     "name": "#%%\n"
    }
   }
  },
  {
   "cell_type": "code",
   "execution_count": 248,
   "outputs": [
    {
     "ename": "InvalidInputException",
     "evalue": "Invalid Input Error: Need a DataFrame with at least one column",
     "output_type": "error",
     "traceback": [
      "\u001B[1;31m---------------------------------------------------------------------------\u001B[0m",
      "\u001B[1;31mInvalidInputException\u001B[0m                     Traceback (most recent call last)",
      "Cell \u001B[1;32mIn[248], line 1\u001B[0m\n\u001B[1;32m----> 1\u001B[0m pool_datadb7 \u001B[38;5;241m=\u001B[39m \u001B[43mdb\u001B[49m\u001B[38;5;241;43m.\u001B[39;49m\u001B[43mquery\u001B[49m\u001B[43m(\u001B[49m\u001B[38;5;124;43m\"\u001B[39;49m\u001B[38;5;124;43mselect \u001B[39;49m\u001B[38;5;124;43m\"\u001B[39;49m\n\u001B[0;32m      2\u001B[0m \u001B[43m               \u001B[49m\u001B[38;5;124;43m\"\u001B[39;49m\u001B[38;5;124;43m    * \u001B[39;49m\u001B[38;5;124;43m\"\u001B[39;49m\n\u001B[0;32m      3\u001B[0m \u001B[43m                    \u001B[49m\u001B[38;5;124;43m\"\u001B[39;49m\u001B[38;5;124;43m ,to_timestamp(liquidityPoolDailySnapshots_timestamp) dateTime \u001B[39;49m\u001B[38;5;124;43m\"\u001B[39;49m\n\u001B[0;32m      4\u001B[0m \u001B[43m               \u001B[49m\u001B[38;5;124;43m\"\u001B[39;49m\u001B[38;5;124;43mFrom pool_data7 \u001B[39;49m\u001B[38;5;124;43m\"\u001B[39;49m\n\u001B[0;32m      5\u001B[0m \u001B[43m               \u001B[49m\u001B[38;5;66;43;03m#\"where lower(liquidityPools_name) like lower('%olympus%') \"\u001B[39;49;00m\n\u001B[0;32m      6\u001B[0m \u001B[43m                \u001B[49m\u001B[38;5;66;43;03m#    \"or lower(pairs_token1_symbol) like lower('%OHM%')  \"\u001B[39;49;00m\n\u001B[0;32m      7\u001B[0m \u001B[43m               \u001B[49m\u001B[38;5;66;43;03m#\" limit 100 \"\u001B[39;49;00m\n\u001B[0;32m      8\u001B[0m \u001B[43m               \u001B[49m\u001B[43m)\u001B[49m\u001B[38;5;241m.\u001B[39mdf()\n",
      "\u001B[1;31mInvalidInputException\u001B[0m: Invalid Input Error: Need a DataFrame with at least one column"
     ]
    }
   ],
   "source": [
    "    pool_datadb7 = db.query(\"select \"\n",
    "                   \"    * \"\n",
    "                        \" ,to_timestamp(liquidityPoolDailySnapshots_timestamp) dateTime \"\n",
    "                   \"From pool_data7 \"\n",
    "                   #\"where lower(liquidityPools_name) like lower('%olympus%') \"\n",
    "                    #    \"or lower(pairs_token1_symbol) like lower('%OHM%')  \"\n",
    "                   #\" limit 100 \"\n",
    "                   ).df()"
   ],
   "metadata": {
    "collapsed": false,
    "pycharm": {
     "name": "#%%\n"
    }
   }
  },
  {
   "cell_type": "code",
   "execution_count": 270,
   "outputs": [],
   "source": [
    "sushi8 = sg.load_api('https://gateway.thegraph.com/api/b0299a6e1895566f98d87e0711fa24ca/subgraphs/id/Ei5typKWPepPSgqkaKf3p5bPhgJesnu1RuRpyt69Pcrx')"
   ],
   "metadata": {
    "collapsed": false,
    "pycharm": {
     "name": "#%%\n"
    }
   }
  },
  {
   "cell_type": "code",
   "execution_count": 275,
   "outputs": [
    {
     "data": {
      "text/plain": "                     liquidityPoolDailySnapshots_id  \\\n0  0xfeadd389a5c427952d8fdb8057d6c8ba1156cc56-19256   \n1  0xfeadd389a5c427952d8fdb8057d6c8ba1156cc56-19255   \n2  0xfeadd389a5c427952d8fdb8057d6c8ba1156cc56-19254   \n3  0xfeadd389a5c427952d8fdb8057d6c8ba1156cc56-19253   \n4  0xfeadd389a5c427952d8fdb8057d6c8ba1156cc56-19252   \n5  0xfeadd389a5c427952d8fdb8057d6c8ba1156cc56-19251   \n6  0xfeadd389a5c427952d8fdb8057d6c8ba1156cc56-19250   \n7  0xfeadd389a5c427952d8fdb8057d6c8ba1156cc56-19249   \n8  0xfeadd389a5c427952d8fdb8057d6c8ba1156cc56-19248   \n9  0xfeadd389a5c427952d8fdb8057d6c8ba1156cc56-19247   \n\n   liquidityPoolDailySnapshots_timestamp  \\\n0                             1663751063   \n1                             1663712831   \n2                             1663626479   \n3                             1663542551   \n4                             1663429295   \n5                             1663320395   \n6                             1663220739   \n7                             1663156409   \n8                             1663103547   \n9                             1662994114   \n\n   liquidityPoolDailySnapshots_blockNumber  \\\n0                                 15580758   \n1                                 15577660   \n2                                 15570523   \n3                                 15563603   \n4                                 15554259   \n5                                 15545283   \n6                                 15537144   \n7                                 15532804   \n8                                 15529126   \n9                                 15521424   \n\n   liquidityPoolDailySnapshots_totalValueLockedUSD  \\\n0                                    833056.946638   \n1                                    844257.350166   \n2                                    832619.501508   \n3                                    860686.579517   \n4                                    864048.299604   \n5                                    868668.033305   \n6                                    878363.274524   \n7                                    896234.230088   \n8                                    940172.477407   \n9                                    942996.929071   \n\n   liquidityPoolDailySnapshots_cumulativeSupplySideRevenueUSD  \\\n0                                       79099.343209            \n1                                       79092.908610            \n2                                       79089.113024            \n3                                       79073.019776            \n4                                       79062.432391            \n5                                       79052.770729            \n6                                       79049.783671            \n7                                       79044.297316            \n8                                       79040.811889            \n9                                       79032.456671            \n\n   liquidityPoolDailySnapshots_dailySupplySideRevenueUSD  \\\n0                                           6.434599       \n1                                           3.795585       \n2                                          16.093249       \n3                                          10.587384       \n4                                           9.661662       \n5                                           2.987058       \n6                                           5.486355       \n7                                           3.485427       \n8                                           8.355218       \n9                                           6.858351       \n\n   liquidityPoolDailySnapshots_cumulativeProtocolSideRevenueUSD  \\\n0                                       26479.441949              \n1                                       26473.007349              \n2                                       26469.211764              \n3                                       26453.118515              \n4                                       26442.531131              \n5                                       26432.869469              \n6                                       26429.882411              \n7                                       26424.396056              \n8                                       26420.910629              \n9                                       26412.555410              \n\n   liquidityPoolDailySnapshots_dailyProtocolSideRevenueUSD  \\\n0                                           6.434599         \n1                                           3.795585         \n2                                          16.093249         \n3                                          10.587384         \n4                                           9.661662         \n5                                           2.987058         \n6                                           5.486355         \n7                                           3.485427         \n8                                           8.355218         \n9                                           6.858351         \n\n   liquidityPoolDailySnapshots_cumulativeTotalRevenueUSD  \\\n0                                      105578.785158       \n1                                      105565.915959       \n2                                      105558.324788       \n3                                      105526.138291       \n4                                      105504.963523       \n5                                      105485.640198       \n6                                      105479.666082       \n7                                      105468.693372       \n8                                      105461.722518       \n9                                      105445.012081       \n\n   liquidityPoolDailySnapshots_dailyTotalRevenueUSD  ...  \\\n0                                         12.869199  ...   \n1                                          7.591171  ...   \n2                                         32.186498  ...   \n3                                         21.174768  ...   \n4                                         19.323324  ...   \n5                                          5.974117  ...   \n6                                         10.972709  ...   \n7                                          6.970855  ...   \n8                                         16.710437  ...   \n9                                         13.716703  ...   \n\n   liquidityPoolDailySnapshots_rewardTokenEmissionsAmount  \\\n0                                       8.405483e+16        \n1                                       8.405483e+16        \n2                                       8.405483e+16        \n3                                       8.405483e+16        \n4                                       8.405483e+16        \n5                                       8.405483e+16        \n6                                       8.405483e+16        \n7                                       8.405483e+16        \n8                                       8.405483e+16        \n9                                       8.405483e+16        \n\n   liquidityPoolDailySnapshots_pool_name  \\\n0               Balancer BTC Stable Pool   \n1               Balancer BTC Stable Pool   \n2               Balancer BTC Stable Pool   \n3               Balancer BTC Stable Pool   \n4               Balancer BTC Stable Pool   \n5               Balancer BTC Stable Pool   \n6               Balancer BTC Stable Pool   \n7               Balancer BTC Stable Pool   \n8               Balancer BTC Stable Pool   \n9               Balancer BTC Stable Pool   \n\n   liquidityPoolDailySnapshots_pool_symbol  \\\n0                              staBAL3-BTC   \n1                              staBAL3-BTC   \n2                              staBAL3-BTC   \n3                              staBAL3-BTC   \n4                              staBAL3-BTC   \n5                              staBAL3-BTC   \n6                              staBAL3-BTC   \n7                              staBAL3-BTC   \n8                              staBAL3-BTC   \n9                              staBAL3-BTC   \n\n   liquidityPoolDailySnapshots_pool_outputToken_id  \\\n0       0xfeadd389a5c427952d8fdb8057d6c8ba1156cc56   \n1       0xfeadd389a5c427952d8fdb8057d6c8ba1156cc56   \n2       0xfeadd389a5c427952d8fdb8057d6c8ba1156cc56   \n3       0xfeadd389a5c427952d8fdb8057d6c8ba1156cc56   \n4       0xfeadd389a5c427952d8fdb8057d6c8ba1156cc56   \n5       0xfeadd389a5c427952d8fdb8057d6c8ba1156cc56   \n6       0xfeadd389a5c427952d8fdb8057d6c8ba1156cc56   \n7       0xfeadd389a5c427952d8fdb8057d6c8ba1156cc56   \n8       0xfeadd389a5c427952d8fdb8057d6c8ba1156cc56   \n9       0xfeadd389a5c427952d8fdb8057d6c8ba1156cc56   \n\n   liquidityPoolDailySnapshots_pool_outputToken_name  \\\n0                           Balancer BTC Stable Pool   \n1                           Balancer BTC Stable Pool   \n2                           Balancer BTC Stable Pool   \n3                           Balancer BTC Stable Pool   \n4                           Balancer BTC Stable Pool   \n5                           Balancer BTC Stable Pool   \n6                           Balancer BTC Stable Pool   \n7                           Balancer BTC Stable Pool   \n8                           Balancer BTC Stable Pool   \n9                           Balancer BTC Stable Pool   \n\n   liquidityPoolDailySnapshots_pool_outputToken_symbol  \\\n0                                        staBAL3-BTC     \n1                                        staBAL3-BTC     \n2                                        staBAL3-BTC     \n3                                        staBAL3-BTC     \n4                                        staBAL3-BTC     \n5                                        staBAL3-BTC     \n6                                        staBAL3-BTC     \n7                                        staBAL3-BTC     \n8                                        staBAL3-BTC     \n9                                        staBAL3-BTC     \n\n  liquidityPoolDailySnapshots_pool_outputToken_decimals  \\\n0                                                 18      \n1                                                 18      \n2                                                 18      \n3                                                 18      \n4                                                 18      \n5                                                 18      \n6                                                 18      \n7                                                 18      \n8                                                 18      \n9                                                 18      \n\n  liquidityPoolDailySnapshots_pool_outputToken_lastPriceUSD  \\\n0                                                0.0          \n1                                                0.0          \n2                                                0.0          \n3                                                0.0          \n4                                                0.0          \n5                                                0.0          \n6                                                0.0          \n7                                                0.0          \n8                                                0.0          \n9                                                0.0          \n\n  liquidityPoolDailySnapshots_pool_outputToken_lastPriceBlockNumber  \\\n0                                           15579074                  \n1                                           15579074                  \n2                                           15579074                  \n3                                           15579074                  \n4                                           15579074                  \n5                                           15579074                  \n6                                           15579074                  \n7                                           15579074                  \n8                                           15579074                  \n9                                           15579074                  \n\n             dateTime  \n0 2022-09-21 09:04:23  \n1 2022-09-20 22:27:11  \n2 2022-09-19 22:27:59  \n3 2022-09-18 23:09:11  \n4 2022-09-17 15:41:35  \n5 2022-09-16 09:26:35  \n6 2022-09-15 05:45:39  \n7 2022-09-14 11:53:29  \n8 2022-09-13 21:12:27  \n9 2022-09-12 14:48:34  \n\n[10 rows x 25 columns]",
      "text/html": "<div>\n<style scoped>\n    .dataframe tbody tr th:only-of-type {\n        vertical-align: middle;\n    }\n\n    .dataframe tbody tr th {\n        vertical-align: top;\n    }\n\n    .dataframe thead th {\n        text-align: right;\n    }\n</style>\n<table border=\"1\" class=\"dataframe\">\n  <thead>\n    <tr style=\"text-align: right;\">\n      <th></th>\n      <th>liquidityPoolDailySnapshots_id</th>\n      <th>liquidityPoolDailySnapshots_timestamp</th>\n      <th>liquidityPoolDailySnapshots_blockNumber</th>\n      <th>liquidityPoolDailySnapshots_totalValueLockedUSD</th>\n      <th>liquidityPoolDailySnapshots_cumulativeSupplySideRevenueUSD</th>\n      <th>liquidityPoolDailySnapshots_dailySupplySideRevenueUSD</th>\n      <th>liquidityPoolDailySnapshots_cumulativeProtocolSideRevenueUSD</th>\n      <th>liquidityPoolDailySnapshots_dailyProtocolSideRevenueUSD</th>\n      <th>liquidityPoolDailySnapshots_cumulativeTotalRevenueUSD</th>\n      <th>liquidityPoolDailySnapshots_dailyTotalRevenueUSD</th>\n      <th>...</th>\n      <th>liquidityPoolDailySnapshots_rewardTokenEmissionsAmount</th>\n      <th>liquidityPoolDailySnapshots_pool_name</th>\n      <th>liquidityPoolDailySnapshots_pool_symbol</th>\n      <th>liquidityPoolDailySnapshots_pool_outputToken_id</th>\n      <th>liquidityPoolDailySnapshots_pool_outputToken_name</th>\n      <th>liquidityPoolDailySnapshots_pool_outputToken_symbol</th>\n      <th>liquidityPoolDailySnapshots_pool_outputToken_decimals</th>\n      <th>liquidityPoolDailySnapshots_pool_outputToken_lastPriceUSD</th>\n      <th>liquidityPoolDailySnapshots_pool_outputToken_lastPriceBlockNumber</th>\n      <th>dateTime</th>\n    </tr>\n  </thead>\n  <tbody>\n    <tr>\n      <th>0</th>\n      <td>0xfeadd389a5c427952d8fdb8057d6c8ba1156cc56-19256</td>\n      <td>1663751063</td>\n      <td>15580758</td>\n      <td>833056.946638</td>\n      <td>79099.343209</td>\n      <td>6.434599</td>\n      <td>26479.441949</td>\n      <td>6.434599</td>\n      <td>105578.785158</td>\n      <td>12.869199</td>\n      <td>...</td>\n      <td>8.405483e+16</td>\n      <td>Balancer BTC Stable Pool</td>\n      <td>staBAL3-BTC</td>\n      <td>0xfeadd389a5c427952d8fdb8057d6c8ba1156cc56</td>\n      <td>Balancer BTC Stable Pool</td>\n      <td>staBAL3-BTC</td>\n      <td>18</td>\n      <td>0.0</td>\n      <td>15579074</td>\n      <td>2022-09-21 09:04:23</td>\n    </tr>\n    <tr>\n      <th>1</th>\n      <td>0xfeadd389a5c427952d8fdb8057d6c8ba1156cc56-19255</td>\n      <td>1663712831</td>\n      <td>15577660</td>\n      <td>844257.350166</td>\n      <td>79092.908610</td>\n      <td>3.795585</td>\n      <td>26473.007349</td>\n      <td>3.795585</td>\n      <td>105565.915959</td>\n      <td>7.591171</td>\n      <td>...</td>\n      <td>8.405483e+16</td>\n      <td>Balancer BTC Stable Pool</td>\n      <td>staBAL3-BTC</td>\n      <td>0xfeadd389a5c427952d8fdb8057d6c8ba1156cc56</td>\n      <td>Balancer BTC Stable Pool</td>\n      <td>staBAL3-BTC</td>\n      <td>18</td>\n      <td>0.0</td>\n      <td>15579074</td>\n      <td>2022-09-20 22:27:11</td>\n    </tr>\n    <tr>\n      <th>2</th>\n      <td>0xfeadd389a5c427952d8fdb8057d6c8ba1156cc56-19254</td>\n      <td>1663626479</td>\n      <td>15570523</td>\n      <td>832619.501508</td>\n      <td>79089.113024</td>\n      <td>16.093249</td>\n      <td>26469.211764</td>\n      <td>16.093249</td>\n      <td>105558.324788</td>\n      <td>32.186498</td>\n      <td>...</td>\n      <td>8.405483e+16</td>\n      <td>Balancer BTC Stable Pool</td>\n      <td>staBAL3-BTC</td>\n      <td>0xfeadd389a5c427952d8fdb8057d6c8ba1156cc56</td>\n      <td>Balancer BTC Stable Pool</td>\n      <td>staBAL3-BTC</td>\n      <td>18</td>\n      <td>0.0</td>\n      <td>15579074</td>\n      <td>2022-09-19 22:27:59</td>\n    </tr>\n    <tr>\n      <th>3</th>\n      <td>0xfeadd389a5c427952d8fdb8057d6c8ba1156cc56-19253</td>\n      <td>1663542551</td>\n      <td>15563603</td>\n      <td>860686.579517</td>\n      <td>79073.019776</td>\n      <td>10.587384</td>\n      <td>26453.118515</td>\n      <td>10.587384</td>\n      <td>105526.138291</td>\n      <td>21.174768</td>\n      <td>...</td>\n      <td>8.405483e+16</td>\n      <td>Balancer BTC Stable Pool</td>\n      <td>staBAL3-BTC</td>\n      <td>0xfeadd389a5c427952d8fdb8057d6c8ba1156cc56</td>\n      <td>Balancer BTC Stable Pool</td>\n      <td>staBAL3-BTC</td>\n      <td>18</td>\n      <td>0.0</td>\n      <td>15579074</td>\n      <td>2022-09-18 23:09:11</td>\n    </tr>\n    <tr>\n      <th>4</th>\n      <td>0xfeadd389a5c427952d8fdb8057d6c8ba1156cc56-19252</td>\n      <td>1663429295</td>\n      <td>15554259</td>\n      <td>864048.299604</td>\n      <td>79062.432391</td>\n      <td>9.661662</td>\n      <td>26442.531131</td>\n      <td>9.661662</td>\n      <td>105504.963523</td>\n      <td>19.323324</td>\n      <td>...</td>\n      <td>8.405483e+16</td>\n      <td>Balancer BTC Stable Pool</td>\n      <td>staBAL3-BTC</td>\n      <td>0xfeadd389a5c427952d8fdb8057d6c8ba1156cc56</td>\n      <td>Balancer BTC Stable Pool</td>\n      <td>staBAL3-BTC</td>\n      <td>18</td>\n      <td>0.0</td>\n      <td>15579074</td>\n      <td>2022-09-17 15:41:35</td>\n    </tr>\n    <tr>\n      <th>5</th>\n      <td>0xfeadd389a5c427952d8fdb8057d6c8ba1156cc56-19251</td>\n      <td>1663320395</td>\n      <td>15545283</td>\n      <td>868668.033305</td>\n      <td>79052.770729</td>\n      <td>2.987058</td>\n      <td>26432.869469</td>\n      <td>2.987058</td>\n      <td>105485.640198</td>\n      <td>5.974117</td>\n      <td>...</td>\n      <td>8.405483e+16</td>\n      <td>Balancer BTC Stable Pool</td>\n      <td>staBAL3-BTC</td>\n      <td>0xfeadd389a5c427952d8fdb8057d6c8ba1156cc56</td>\n      <td>Balancer BTC Stable Pool</td>\n      <td>staBAL3-BTC</td>\n      <td>18</td>\n      <td>0.0</td>\n      <td>15579074</td>\n      <td>2022-09-16 09:26:35</td>\n    </tr>\n    <tr>\n      <th>6</th>\n      <td>0xfeadd389a5c427952d8fdb8057d6c8ba1156cc56-19250</td>\n      <td>1663220739</td>\n      <td>15537144</td>\n      <td>878363.274524</td>\n      <td>79049.783671</td>\n      <td>5.486355</td>\n      <td>26429.882411</td>\n      <td>5.486355</td>\n      <td>105479.666082</td>\n      <td>10.972709</td>\n      <td>...</td>\n      <td>8.405483e+16</td>\n      <td>Balancer BTC Stable Pool</td>\n      <td>staBAL3-BTC</td>\n      <td>0xfeadd389a5c427952d8fdb8057d6c8ba1156cc56</td>\n      <td>Balancer BTC Stable Pool</td>\n      <td>staBAL3-BTC</td>\n      <td>18</td>\n      <td>0.0</td>\n      <td>15579074</td>\n      <td>2022-09-15 05:45:39</td>\n    </tr>\n    <tr>\n      <th>7</th>\n      <td>0xfeadd389a5c427952d8fdb8057d6c8ba1156cc56-19249</td>\n      <td>1663156409</td>\n      <td>15532804</td>\n      <td>896234.230088</td>\n      <td>79044.297316</td>\n      <td>3.485427</td>\n      <td>26424.396056</td>\n      <td>3.485427</td>\n      <td>105468.693372</td>\n      <td>6.970855</td>\n      <td>...</td>\n      <td>8.405483e+16</td>\n      <td>Balancer BTC Stable Pool</td>\n      <td>staBAL3-BTC</td>\n      <td>0xfeadd389a5c427952d8fdb8057d6c8ba1156cc56</td>\n      <td>Balancer BTC Stable Pool</td>\n      <td>staBAL3-BTC</td>\n      <td>18</td>\n      <td>0.0</td>\n      <td>15579074</td>\n      <td>2022-09-14 11:53:29</td>\n    </tr>\n    <tr>\n      <th>8</th>\n      <td>0xfeadd389a5c427952d8fdb8057d6c8ba1156cc56-19248</td>\n      <td>1663103547</td>\n      <td>15529126</td>\n      <td>940172.477407</td>\n      <td>79040.811889</td>\n      <td>8.355218</td>\n      <td>26420.910629</td>\n      <td>8.355218</td>\n      <td>105461.722518</td>\n      <td>16.710437</td>\n      <td>...</td>\n      <td>8.405483e+16</td>\n      <td>Balancer BTC Stable Pool</td>\n      <td>staBAL3-BTC</td>\n      <td>0xfeadd389a5c427952d8fdb8057d6c8ba1156cc56</td>\n      <td>Balancer BTC Stable Pool</td>\n      <td>staBAL3-BTC</td>\n      <td>18</td>\n      <td>0.0</td>\n      <td>15579074</td>\n      <td>2022-09-13 21:12:27</td>\n    </tr>\n    <tr>\n      <th>9</th>\n      <td>0xfeadd389a5c427952d8fdb8057d6c8ba1156cc56-19247</td>\n      <td>1662994114</td>\n      <td>15521424</td>\n      <td>942996.929071</td>\n      <td>79032.456671</td>\n      <td>6.858351</td>\n      <td>26412.555410</td>\n      <td>6.858351</td>\n      <td>105445.012081</td>\n      <td>13.716703</td>\n      <td>...</td>\n      <td>8.405483e+16</td>\n      <td>Balancer BTC Stable Pool</td>\n      <td>staBAL3-BTC</td>\n      <td>0xfeadd389a5c427952d8fdb8057d6c8ba1156cc56</td>\n      <td>Balancer BTC Stable Pool</td>\n      <td>staBAL3-BTC</td>\n      <td>18</td>\n      <td>0.0</td>\n      <td>15579074</td>\n      <td>2022-09-12 14:48:34</td>\n    </tr>\n  </tbody>\n</table>\n<p>10 rows × 25 columns</p>\n</div>"
     },
     "execution_count": 275,
     "metadata": {},
     "output_type": "execute_result"
    }
   ],
   "source": [
    "#BALANCER SUBGRAPH\n",
    "\n",
    "pools8 = sushi8.Query.liquidityPoolDailySnapshots(\n",
    "            orderBy='id',\n",
    "            orderDirection='desc',\n",
    "            #skip =(skipValue),\n",
    "            first=1000,\n",
    "            where=[\n",
    "              sushi7.Query.liquidityPoolDailySnapshots.timestamp > 1604302679\n",
    "          ]\n",
    "        )\n",
    "pool_data8 = sg.query_df([\n",
    "    pools8.id\n",
    "    ,pools8.timestamp\n",
    "    ,pools8.blockNumber\n",
    "    ,pools8.totalValueLockedUSD\n",
    "    ,pools8.cumulativeSupplySideRevenueUSD\n",
    "    ,pools8.dailySupplySideRevenueUSD\n",
    "    ,pools8.cumulativeProtocolSideRevenueUSD\n",
    "    ,pools8.dailyProtocolSideRevenueUSD\n",
    "    ,pools8.cumulativeTotalRevenueUSD\n",
    "    ,pools8.dailyTotalRevenueUSD\n",
    "    ,pools8.dailyVolumeUSD\n",
    "    ,pools8.cumulativeVolumeUSD\n",
    "    ,pools8.outputTokenSupply\n",
    "    ,pools8.outputTokenPriceUSD\n",
    "    ,pools8.stakedOutputTokenAmount\n",
    "    ,pools8.rewardTokenEmissionsAmount\n",
    "    ,pools8.pool.name\n",
    "    ,pools8.pool.symbol\n",
    "    ,pools8.pool.outputToken\n",
    "])\n",
    "\n",
    "pool_datadb8 = db.query(\"select \"\n",
    "               \"    * \"\n",
    "                    \" ,to_timestamp(liquidityPoolDailySnapshots_timestamp) dateTime \"\n",
    "               \"From pool_data8 \"\n",
    "               #\"where lower(liquidityPools_name) like lower('%olympus%') \"\n",
    "                #    \"or lower(pairs_token1_symbol) like lower('%OHM%')  \"\n",
    "               #\" limit 100 \"\n",
    "               ).df()\n",
    "\n",
    "pool_datadb8.head(10)"
   ],
   "metadata": {
    "collapsed": false,
    "pycharm": {
     "name": "#%%\n"
    }
   }
  },
  {
   "cell_type": "code",
   "execution_count": 276,
   "outputs": [
    {
     "data": {
      "text/plain": "                     liquidityPoolDailySnapshots_id  \\\n0  0xfe4a08f22fe65759ba91db2e2cada09b4415b0d7-19302   \n1  0xfe4a08f22fe65759ba91db2e2cada09b4415b0d7-19295   \n2  0xfe4a08f22fe65759ba91db2e2cada09b4415b0d7-19264   \n3  0xfe4a08f22fe65759ba91db2e2cada09b4415b0d7-19257   \n4  0xfe4a08f22fe65759ba91db2e2cada09b4415b0d7-19255   \n5  0xfe4a08f22fe65759ba91db2e2cada09b4415b0d7-19254   \n6  0xfe4a08f22fe65759ba91db2e2cada09b4415b0d7-19247   \n7  0xfe4a08f22fe65759ba91db2e2cada09b4415b0d7-19234   \n8  0xfe4a08f22fe65759ba91db2e2cada09b4415b0d7-19227   \n9  0xfe4a08f22fe65759ba91db2e2cada09b4415b0d7-19225   \n\n   liquidityPoolDailySnapshots_timestamp  \\\n0                             1667696951   \n1                             1667120999   \n2                             1664453651   \n3                             1663840499   \n4                             1663635875   \n5                             1663566995   \n6                             1662966330   \n7                             1661847114   \n8                             1661299016   \n9                             1661111145   \n\n   liquidityPoolDailySnapshots_blockNumber  \\\n0                                 15907598   \n1                                 15859889   \n2                                 15638932   \n3                                 15588120   \n4                                 15571302   \n5                                 15565622   \n6                                 15519564   \n7                                 15439264   \n8                                 15399640   \n9                                 15385887   \n\n   liquidityPoolDailySnapshots_totalValueLockedUSD  \\\n0                                              0.0   \n1                                              0.0   \n2                                              0.0   \n3                                              0.0   \n4                                              0.0   \n5                                              0.0   \n6                                              0.0   \n7                                              0.0   \n8                                              0.0   \n9                                              0.0   \n\n   liquidityPoolDailySnapshots_cumulativeSupplySideRevenueUSD  \\\n0                                        3008.896961            \n1                                        3008.896961            \n2                                        3008.715176            \n3                                        3008.715176            \n4                                        3008.398159            \n5                                        2988.082631            \n6                                        2987.719167            \n7                                        2987.460007            \n8                                        2986.080837            \n9                                        2985.728135            \n\n   liquidityPoolDailySnapshots_dailySupplySideRevenueUSD  \\\n0                                           0.000000       \n1                                           0.181785       \n2                                           0.000000       \n3                                           0.317017       \n4                                          20.315527       \n5                                           0.363465       \n6                                           0.259160       \n7                                           1.379170       \n8                                           0.352702       \n9                                           0.286859       \n\n   liquidityPoolDailySnapshots_cumulativeProtocolSideRevenueUSD  \\\n0                                        3008.896961              \n1                                        3008.896961              \n2                                        3008.715176              \n3                                        3008.715176              \n4                                        3008.398159              \n5                                        2988.082631              \n6                                        2987.719167              \n7                                        2987.460007              \n8                                        2986.080837              \n9                                        2985.728135              \n\n   liquidityPoolDailySnapshots_dailyProtocolSideRevenueUSD  \\\n0                                           0.000000         \n1                                           0.181785         \n2                                           0.000000         \n3                                           0.317017         \n4                                          20.315527         \n5                                           0.363465         \n6                                           0.259160         \n7                                           1.379170         \n8                                           0.352702         \n9                                           0.286859         \n\n   liquidityPoolDailySnapshots_cumulativeTotalRevenueUSD  \\\n0                                        6017.793921       \n1                                        6017.793921       \n2                                        6017.430352       \n3                                        6017.430352       \n4                                        6016.796318       \n5                                        5976.165263       \n6                                        5975.438334       \n7                                        5974.920014       \n8                                        5972.161674       \n9                                        5971.456270       \n\n   liquidityPoolDailySnapshots_dailyTotalRevenueUSD  ...  \\\n0                                          0.000000  ...   \n1                                          0.363569  ...   \n2                                          0.000000  ...   \n3                                          0.634035  ...   \n4                                         40.631055  ...   \n5                                          0.726929  ...   \n6                                          0.518319  ...   \n7                                          2.758340  ...   \n8                                          0.705404  ...   \n9                                          0.573717  ...   \n\n   liquidityPoolDailySnapshots_rewardTokenEmissionsAmount  \\\n0                                                0.0        \n1                                                0.0        \n2                                                0.0        \n3                                                0.0        \n4                                                0.0        \n5                                                0.0        \n6                                                0.0        \n7                                                0.0        \n8                                                0.0        \n9                                                0.0        \n\n   liquidityPoolDailySnapshots_pool_name  \\\n0  Curve.fi Factory Crypto Pool: LFT/ETH   \n1  Curve.fi Factory Crypto Pool: LFT/ETH   \n2  Curve.fi Factory Crypto Pool: LFT/ETH   \n3  Curve.fi Factory Crypto Pool: LFT/ETH   \n4  Curve.fi Factory Crypto Pool: LFT/ETH   \n5  Curve.fi Factory Crypto Pool: LFT/ETH   \n6  Curve.fi Factory Crypto Pool: LFT/ETH   \n7  Curve.fi Factory Crypto Pool: LFT/ETH   \n8  Curve.fi Factory Crypto Pool: LFT/ETH   \n9  Curve.fi Factory Crypto Pool: LFT/ETH   \n\n   liquidityPoolDailySnapshots_pool_symbol  \\\n0                                 LFTETH-f   \n1                                 LFTETH-f   \n2                                 LFTETH-f   \n3                                 LFTETH-f   \n4                                 LFTETH-f   \n5                                 LFTETH-f   \n6                                 LFTETH-f   \n7                                 LFTETH-f   \n8                                 LFTETH-f   \n9                                 LFTETH-f   \n\n   liquidityPoolDailySnapshots_pool_outputToken_id  \\\n0       0x401322b9fddba8c0a8d40fbcece1d1752c12316b   \n1       0x401322b9fddba8c0a8d40fbcece1d1752c12316b   \n2       0x401322b9fddba8c0a8d40fbcece1d1752c12316b   \n3       0x401322b9fddba8c0a8d40fbcece1d1752c12316b   \n4       0x401322b9fddba8c0a8d40fbcece1d1752c12316b   \n5       0x401322b9fddba8c0a8d40fbcece1d1752c12316b   \n6       0x401322b9fddba8c0a8d40fbcece1d1752c12316b   \n7       0x401322b9fddba8c0a8d40fbcece1d1752c12316b   \n8       0x401322b9fddba8c0a8d40fbcece1d1752c12316b   \n9       0x401322b9fddba8c0a8d40fbcece1d1752c12316b   \n\n   liquidityPoolDailySnapshots_pool_outputToken_name  \\\n0              Curve.fi Factory Crypto Pool: LFT/ETH   \n1              Curve.fi Factory Crypto Pool: LFT/ETH   \n2              Curve.fi Factory Crypto Pool: LFT/ETH   \n3              Curve.fi Factory Crypto Pool: LFT/ETH   \n4              Curve.fi Factory Crypto Pool: LFT/ETH   \n5              Curve.fi Factory Crypto Pool: LFT/ETH   \n6              Curve.fi Factory Crypto Pool: LFT/ETH   \n7              Curve.fi Factory Crypto Pool: LFT/ETH   \n8              Curve.fi Factory Crypto Pool: LFT/ETH   \n9              Curve.fi Factory Crypto Pool: LFT/ETH   \n\n   liquidityPoolDailySnapshots_pool_outputToken_symbol  \\\n0                                           LFTETH-f     \n1                                           LFTETH-f     \n2                                           LFTETH-f     \n3                                           LFTETH-f     \n4                                           LFTETH-f     \n5                                           LFTETH-f     \n6                                           LFTETH-f     \n7                                           LFTETH-f     \n8                                           LFTETH-f     \n9                                           LFTETH-f     \n\n  liquidityPoolDailySnapshots_pool_outputToken_decimals  \\\n0                                                 18      \n1                                                 18      \n2                                                 18      \n3                                                 18      \n4                                                 18      \n5                                                 18      \n6                                                 18      \n7                                                 18      \n8                                                 18      \n9                                                 18      \n\n  liquidityPoolDailySnapshots_pool_outputToken_lastPriceUSD  \\\n0                                                0.0          \n1                                                0.0          \n2                                                0.0          \n3                                                0.0          \n4                                                0.0          \n5                                                0.0          \n6                                                0.0          \n7                                                0.0          \n8                                                0.0          \n9                                                0.0          \n\n  liquidityPoolDailySnapshots_pool_outputToken_lastPriceBlockNumber  \\\n0                                           15907598                  \n1                                           15907598                  \n2                                           15907598                  \n3                                           15907598                  \n4                                           15907598                  \n5                                           15907598                  \n6                                           15907598                  \n7                                           15907598                  \n8                                           15907598                  \n9                                           15907598                  \n\n             dateTime  \n0 2022-11-06 01:09:11  \n1 2022-10-30 09:09:59  \n2 2022-09-29 12:14:11  \n3 2022-09-22 09:54:59  \n4 2022-09-20 01:04:35  \n5 2022-09-19 05:56:35  \n6 2022-09-12 07:05:30  \n7 2022-08-30 08:11:54  \n8 2022-08-23 23:56:56  \n9 2022-08-21 19:45:45  \n\n[10 rows x 25 columns]",
      "text/html": "<div>\n<style scoped>\n    .dataframe tbody tr th:only-of-type {\n        vertical-align: middle;\n    }\n\n    .dataframe tbody tr th {\n        vertical-align: top;\n    }\n\n    .dataframe thead th {\n        text-align: right;\n    }\n</style>\n<table border=\"1\" class=\"dataframe\">\n  <thead>\n    <tr style=\"text-align: right;\">\n      <th></th>\n      <th>liquidityPoolDailySnapshots_id</th>\n      <th>liquidityPoolDailySnapshots_timestamp</th>\n      <th>liquidityPoolDailySnapshots_blockNumber</th>\n      <th>liquidityPoolDailySnapshots_totalValueLockedUSD</th>\n      <th>liquidityPoolDailySnapshots_cumulativeSupplySideRevenueUSD</th>\n      <th>liquidityPoolDailySnapshots_dailySupplySideRevenueUSD</th>\n      <th>liquidityPoolDailySnapshots_cumulativeProtocolSideRevenueUSD</th>\n      <th>liquidityPoolDailySnapshots_dailyProtocolSideRevenueUSD</th>\n      <th>liquidityPoolDailySnapshots_cumulativeTotalRevenueUSD</th>\n      <th>liquidityPoolDailySnapshots_dailyTotalRevenueUSD</th>\n      <th>...</th>\n      <th>liquidityPoolDailySnapshots_rewardTokenEmissionsAmount</th>\n      <th>liquidityPoolDailySnapshots_pool_name</th>\n      <th>liquidityPoolDailySnapshots_pool_symbol</th>\n      <th>liquidityPoolDailySnapshots_pool_outputToken_id</th>\n      <th>liquidityPoolDailySnapshots_pool_outputToken_name</th>\n      <th>liquidityPoolDailySnapshots_pool_outputToken_symbol</th>\n      <th>liquidityPoolDailySnapshots_pool_outputToken_decimals</th>\n      <th>liquidityPoolDailySnapshots_pool_outputToken_lastPriceUSD</th>\n      <th>liquidityPoolDailySnapshots_pool_outputToken_lastPriceBlockNumber</th>\n      <th>dateTime</th>\n    </tr>\n  </thead>\n  <tbody>\n    <tr>\n      <th>0</th>\n      <td>0xfe4a08f22fe65759ba91db2e2cada09b4415b0d7-19302</td>\n      <td>1667696951</td>\n      <td>15907598</td>\n      <td>0.0</td>\n      <td>3008.896961</td>\n      <td>0.000000</td>\n      <td>3008.896961</td>\n      <td>0.000000</td>\n      <td>6017.793921</td>\n      <td>0.000000</td>\n      <td>...</td>\n      <td>0.0</td>\n      <td>Curve.fi Factory Crypto Pool: LFT/ETH</td>\n      <td>LFTETH-f</td>\n      <td>0x401322b9fddba8c0a8d40fbcece1d1752c12316b</td>\n      <td>Curve.fi Factory Crypto Pool: LFT/ETH</td>\n      <td>LFTETH-f</td>\n      <td>18</td>\n      <td>0.0</td>\n      <td>15907598</td>\n      <td>2022-11-06 01:09:11</td>\n    </tr>\n    <tr>\n      <th>1</th>\n      <td>0xfe4a08f22fe65759ba91db2e2cada09b4415b0d7-19295</td>\n      <td>1667120999</td>\n      <td>15859889</td>\n      <td>0.0</td>\n      <td>3008.896961</td>\n      <td>0.181785</td>\n      <td>3008.896961</td>\n      <td>0.181785</td>\n      <td>6017.793921</td>\n      <td>0.363569</td>\n      <td>...</td>\n      <td>0.0</td>\n      <td>Curve.fi Factory Crypto Pool: LFT/ETH</td>\n      <td>LFTETH-f</td>\n      <td>0x401322b9fddba8c0a8d40fbcece1d1752c12316b</td>\n      <td>Curve.fi Factory Crypto Pool: LFT/ETH</td>\n      <td>LFTETH-f</td>\n      <td>18</td>\n      <td>0.0</td>\n      <td>15907598</td>\n      <td>2022-10-30 09:09:59</td>\n    </tr>\n    <tr>\n      <th>2</th>\n      <td>0xfe4a08f22fe65759ba91db2e2cada09b4415b0d7-19264</td>\n      <td>1664453651</td>\n      <td>15638932</td>\n      <td>0.0</td>\n      <td>3008.715176</td>\n      <td>0.000000</td>\n      <td>3008.715176</td>\n      <td>0.000000</td>\n      <td>6017.430352</td>\n      <td>0.000000</td>\n      <td>...</td>\n      <td>0.0</td>\n      <td>Curve.fi Factory Crypto Pool: LFT/ETH</td>\n      <td>LFTETH-f</td>\n      <td>0x401322b9fddba8c0a8d40fbcece1d1752c12316b</td>\n      <td>Curve.fi Factory Crypto Pool: LFT/ETH</td>\n      <td>LFTETH-f</td>\n      <td>18</td>\n      <td>0.0</td>\n      <td>15907598</td>\n      <td>2022-09-29 12:14:11</td>\n    </tr>\n    <tr>\n      <th>3</th>\n      <td>0xfe4a08f22fe65759ba91db2e2cada09b4415b0d7-19257</td>\n      <td>1663840499</td>\n      <td>15588120</td>\n      <td>0.0</td>\n      <td>3008.715176</td>\n      <td>0.317017</td>\n      <td>3008.715176</td>\n      <td>0.317017</td>\n      <td>6017.430352</td>\n      <td>0.634035</td>\n      <td>...</td>\n      <td>0.0</td>\n      <td>Curve.fi Factory Crypto Pool: LFT/ETH</td>\n      <td>LFTETH-f</td>\n      <td>0x401322b9fddba8c0a8d40fbcece1d1752c12316b</td>\n      <td>Curve.fi Factory Crypto Pool: LFT/ETH</td>\n      <td>LFTETH-f</td>\n      <td>18</td>\n      <td>0.0</td>\n      <td>15907598</td>\n      <td>2022-09-22 09:54:59</td>\n    </tr>\n    <tr>\n      <th>4</th>\n      <td>0xfe4a08f22fe65759ba91db2e2cada09b4415b0d7-19255</td>\n      <td>1663635875</td>\n      <td>15571302</td>\n      <td>0.0</td>\n      <td>3008.398159</td>\n      <td>20.315527</td>\n      <td>3008.398159</td>\n      <td>20.315527</td>\n      <td>6016.796318</td>\n      <td>40.631055</td>\n      <td>...</td>\n      <td>0.0</td>\n      <td>Curve.fi Factory Crypto Pool: LFT/ETH</td>\n      <td>LFTETH-f</td>\n      <td>0x401322b9fddba8c0a8d40fbcece1d1752c12316b</td>\n      <td>Curve.fi Factory Crypto Pool: LFT/ETH</td>\n      <td>LFTETH-f</td>\n      <td>18</td>\n      <td>0.0</td>\n      <td>15907598</td>\n      <td>2022-09-20 01:04:35</td>\n    </tr>\n    <tr>\n      <th>5</th>\n      <td>0xfe4a08f22fe65759ba91db2e2cada09b4415b0d7-19254</td>\n      <td>1663566995</td>\n      <td>15565622</td>\n      <td>0.0</td>\n      <td>2988.082631</td>\n      <td>0.363465</td>\n      <td>2988.082631</td>\n      <td>0.363465</td>\n      <td>5976.165263</td>\n      <td>0.726929</td>\n      <td>...</td>\n      <td>0.0</td>\n      <td>Curve.fi Factory Crypto Pool: LFT/ETH</td>\n      <td>LFTETH-f</td>\n      <td>0x401322b9fddba8c0a8d40fbcece1d1752c12316b</td>\n      <td>Curve.fi Factory Crypto Pool: LFT/ETH</td>\n      <td>LFTETH-f</td>\n      <td>18</td>\n      <td>0.0</td>\n      <td>15907598</td>\n      <td>2022-09-19 05:56:35</td>\n    </tr>\n    <tr>\n      <th>6</th>\n      <td>0xfe4a08f22fe65759ba91db2e2cada09b4415b0d7-19247</td>\n      <td>1662966330</td>\n      <td>15519564</td>\n      <td>0.0</td>\n      <td>2987.719167</td>\n      <td>0.259160</td>\n      <td>2987.719167</td>\n      <td>0.259160</td>\n      <td>5975.438334</td>\n      <td>0.518319</td>\n      <td>...</td>\n      <td>0.0</td>\n      <td>Curve.fi Factory Crypto Pool: LFT/ETH</td>\n      <td>LFTETH-f</td>\n      <td>0x401322b9fddba8c0a8d40fbcece1d1752c12316b</td>\n      <td>Curve.fi Factory Crypto Pool: LFT/ETH</td>\n      <td>LFTETH-f</td>\n      <td>18</td>\n      <td>0.0</td>\n      <td>15907598</td>\n      <td>2022-09-12 07:05:30</td>\n    </tr>\n    <tr>\n      <th>7</th>\n      <td>0xfe4a08f22fe65759ba91db2e2cada09b4415b0d7-19234</td>\n      <td>1661847114</td>\n      <td>15439264</td>\n      <td>0.0</td>\n      <td>2987.460007</td>\n      <td>1.379170</td>\n      <td>2987.460007</td>\n      <td>1.379170</td>\n      <td>5974.920014</td>\n      <td>2.758340</td>\n      <td>...</td>\n      <td>0.0</td>\n      <td>Curve.fi Factory Crypto Pool: LFT/ETH</td>\n      <td>LFTETH-f</td>\n      <td>0x401322b9fddba8c0a8d40fbcece1d1752c12316b</td>\n      <td>Curve.fi Factory Crypto Pool: LFT/ETH</td>\n      <td>LFTETH-f</td>\n      <td>18</td>\n      <td>0.0</td>\n      <td>15907598</td>\n      <td>2022-08-30 08:11:54</td>\n    </tr>\n    <tr>\n      <th>8</th>\n      <td>0xfe4a08f22fe65759ba91db2e2cada09b4415b0d7-19227</td>\n      <td>1661299016</td>\n      <td>15399640</td>\n      <td>0.0</td>\n      <td>2986.080837</td>\n      <td>0.352702</td>\n      <td>2986.080837</td>\n      <td>0.352702</td>\n      <td>5972.161674</td>\n      <td>0.705404</td>\n      <td>...</td>\n      <td>0.0</td>\n      <td>Curve.fi Factory Crypto Pool: LFT/ETH</td>\n      <td>LFTETH-f</td>\n      <td>0x401322b9fddba8c0a8d40fbcece1d1752c12316b</td>\n      <td>Curve.fi Factory Crypto Pool: LFT/ETH</td>\n      <td>LFTETH-f</td>\n      <td>18</td>\n      <td>0.0</td>\n      <td>15907598</td>\n      <td>2022-08-23 23:56:56</td>\n    </tr>\n    <tr>\n      <th>9</th>\n      <td>0xfe4a08f22fe65759ba91db2e2cada09b4415b0d7-19225</td>\n      <td>1661111145</td>\n      <td>15385887</td>\n      <td>0.0</td>\n      <td>2985.728135</td>\n      <td>0.286859</td>\n      <td>2985.728135</td>\n      <td>0.286859</td>\n      <td>5971.456270</td>\n      <td>0.573717</td>\n      <td>...</td>\n      <td>0.0</td>\n      <td>Curve.fi Factory Crypto Pool: LFT/ETH</td>\n      <td>LFTETH-f</td>\n      <td>0x401322b9fddba8c0a8d40fbcece1d1752c12316b</td>\n      <td>Curve.fi Factory Crypto Pool: LFT/ETH</td>\n      <td>LFTETH-f</td>\n      <td>18</td>\n      <td>0.0</td>\n      <td>15907598</td>\n      <td>2022-08-21 19:45:45</td>\n    </tr>\n  </tbody>\n</table>\n<p>10 rows × 25 columns</p>\n</div>"
     },
     "execution_count": 276,
     "metadata": {},
     "output_type": "execute_result"
    }
   ],
   "source": [
    "#CURVE SUBGRAPH\n",
    "sushi9 = sg.load_api('https://gateway.thegraph.com/api/b0299a6e1895566f98d87e0711fa24ca/subgraphs/id/GAGwGKc4ArNKKq9eFTcwgd1UGymvqhTier9Npqo1YvZB')\n",
    "\n",
    "pools9 = sushi9.Query.liquidityPoolDailySnapshots(\n",
    "            orderBy='id',\n",
    "            orderDirection='desc',\n",
    "            #skip =(skipValue),\n",
    "            first=1000,\n",
    "            where=[\n",
    "              sushi7.Query.liquidityPoolDailySnapshots.timestamp > 1604302679\n",
    "          ]\n",
    "        )\n",
    "pool_data9 = sg.query_df([\n",
    "    pools9.id\n",
    "    ,pools9.timestamp\n",
    "    ,pools9.blockNumber\n",
    "    ,pools9.totalValueLockedUSD\n",
    "    ,pools9.cumulativeSupplySideRevenueUSD\n",
    "    ,pools9.dailySupplySideRevenueUSD\n",
    "    ,pools9.cumulativeProtocolSideRevenueUSD\n",
    "    ,pools9.dailyProtocolSideRevenueUSD\n",
    "    ,pools9.cumulativeTotalRevenueUSD\n",
    "    ,pools9.dailyTotalRevenueUSD\n",
    "    ,pools9.dailyVolumeUSD\n",
    "    ,pools9.cumulativeVolumeUSD\n",
    "    ,pools9.outputTokenSupply\n",
    "    ,pools9.outputTokenPriceUSD\n",
    "    ,pools9.stakedOutputTokenAmount\n",
    "    ,pools9.rewardTokenEmissionsAmount\n",
    "    ,pools9.pool.name\n",
    "    ,pools9.pool.symbol\n",
    "    ,pools9.pool.outputToken\n",
    "])\n",
    "\n",
    "pool_datadb9 = db.query(\"select \"\n",
    "               \"    * \"\n",
    "                    \" ,to_timestamp(liquidityPoolDailySnapshots_timestamp) dateTime \"\n",
    "               \"From pool_data9 \"\n",
    "               #\"where lower(liquidityPools_name) like lower('%olympus%') \"\n",
    "                #    \"or lower(pairs_token1_symbol) like lower('%OHM%')  \"\n",
    "               #\" limit 100 \"\n",
    "               ).df()\n",
    "\n",
    "pool_datadb9.head(10)"
   ],
   "metadata": {
    "collapsed": false,
    "pycharm": {
     "name": "#%%\n"
    }
   }
  },
  {
   "cell_type": "code",
   "execution_count": 279,
   "outputs": [
    {
     "data": {
      "text/plain": "                     liquidityPoolDailySnapshots_id  \\\n0  0xffef4d319572cc667587f92aa9b61bec0f1a979c-19253   \n1  0xffef4d319572cc667587f92aa9b61bec0f1a979c-19230   \n2  0xffef4d319572cc667587f92aa9b61bec0f1a979c-19229   \n3  0xffe6008fcf63732ec8f666a91bf32e9be4eb7d56-19357   \n4  0xffe6008fcf63732ec8f666a91bf32e9be4eb7d56-19354   \n5  0xffe6008fcf63732ec8f666a91bf32e9be4eb7d56-19351   \n6  0xffe6008fcf63732ec8f666a91bf32e9be4eb7d56-19343   \n7  0xffe6008fcf63732ec8f666a91bf32e9be4eb7d56-19334   \n8  0xffe6008fcf63732ec8f666a91bf32e9be4eb7d56-19333   \n9  0xffe6008fcf63732ec8f666a91bf32e9be4eb7d56-19332   \n\n   liquidityPoolDailySnapshots_timestamp  \\\n0                             1663484123   \n1                             1661490018   \n2                             1661459936   \n3                             1672451243   \n4                             1672202651   \n5                             1671986651   \n6                             1671258731   \n7                             1670489015   \n8                             1670392619   \n9                             1670318339   \n\n   liquidityPoolDailySnapshots_blockNumber  \\\n0                                 15558783   \n1                                 15413408   \n2                                 15411212   \n3                                 16301560   \n4                                 16280941   \n5                                 16263032   \n6                                 16202644   \n7                                 16138875   \n8                                 16130920   \n9                                 16124809   \n\n   liquidityPoolDailySnapshots_totalValueLockedUSD  \\\n0                                         0.086901   \n1                                         1.731670   \n2                                        81.059476   \n3                                     29738.270227   \n4                                     29728.245823   \n5                                     30146.873192   \n6                                     29684.854892   \n7                                     31095.901110   \n8                                     31825.215721   \n9                                     31760.634450   \n\n   liquidityPoolDailySnapshots_cumulativeSupplySideRevenueUSD  \\\n0                                         156.197097            \n1                                         156.182984            \n2                                         155.982773            \n3                                        2343.008063            \n4                                        2343.008063            \n5                                        2343.008063            \n6                                        2343.008063            \n7                                        2343.008063            \n8                                        2343.008063            \n9                                        2343.008063            \n\n   liquidityPoolDailySnapshots_dailySupplySideRevenueUSD  \\\n0                                           0.014114       \n1                                           0.200210       \n2                                         155.982773       \n3                                           0.000000       \n4                                           0.000000       \n5                                           0.000000       \n6                                           0.000000       \n7                                           0.000000       \n8                                           0.000000       \n9                                           0.000000       \n\n   liquidityPoolDailySnapshots_cumulativeProtocolSideRevenueUSD  \\\n0                                                0.0              \n1                                                0.0              \n2                                                0.0              \n3                                                0.0              \n4                                                0.0              \n5                                                0.0              \n6                                                0.0              \n7                                                0.0              \n8                                                0.0              \n9                                                0.0              \n\n   liquidityPoolDailySnapshots_dailyProtocolSideRevenueUSD  \\\n0                                                0.0         \n1                                                0.0         \n2                                                0.0         \n3                                                0.0         \n4                                                0.0         \n5                                                0.0         \n6                                                0.0         \n7                                                0.0         \n8                                                0.0         \n9                                                0.0         \n\n   liquidityPoolDailySnapshots_cumulativeTotalRevenueUSD  \\\n0                                         156.197097       \n1                                         156.182984       \n2                                         155.982773       \n3                                        2343.008063       \n4                                        2343.008063       \n5                                        2343.008063       \n6                                        2343.008063       \n7                                        2343.008063       \n8                                        2343.008063       \n9                                        2343.008063       \n\n   liquidityPoolDailySnapshots_dailyTotalRevenueUSD  ...  \\\n0                                          0.014114  ...   \n1                                          0.200210  ...   \n2                                        155.982773  ...   \n3                                          0.000000  ...   \n4                                          0.000000  ...   \n5                                          0.000000  ...   \n6                                          0.000000  ...   \n7                                          0.000000  ...   \n8                                          0.000000  ...   \n9                                          0.000000  ...   \n\n   liquidityPoolDailySnapshots_rewardTokenEmissionsAmount  \\\n0                                                NaN        \n1                                                NaN        \n2                                                NaN        \n3                                                NaN        \n4                                                NaN        \n5                                                NaN        \n6                                                NaN        \n7                                                NaN        \n8                                                NaN        \n9                                                NaN        \n\n      liquidityPoolDailySnapshots_pool_name  \\\n0     Uniswap V3 This Life/Wrapped Ether 1%   \n1     Uniswap V3 This Life/Wrapped Ether 1%   \n2     Uniswap V3 This Life/Wrapped Ether 1%   \n3  Uniswap V3 Ethersocks/Wrapped Ether 0.3%   \n4  Uniswap V3 Ethersocks/Wrapped Ether 0.3%   \n5  Uniswap V3 Ethersocks/Wrapped Ether 0.3%   \n6  Uniswap V3 Ethersocks/Wrapped Ether 0.3%   \n7  Uniswap V3 Ethersocks/Wrapped Ether 0.3%   \n8  Uniswap V3 Ethersocks/Wrapped Ether 0.3%   \n9  Uniswap V3 Ethersocks/Wrapped Ether 0.3%   \n\n   liquidityPoolDailySnapshots_pool_symbol  \\\n0                  This Life/Wrapped Ether   \n1                  This Life/Wrapped Ether   \n2                  This Life/Wrapped Ether   \n3                 Ethersocks/Wrapped Ether   \n4                 Ethersocks/Wrapped Ether   \n5                 Ethersocks/Wrapped Ether   \n6                 Ethersocks/Wrapped Ether   \n7                 Ethersocks/Wrapped Ether   \n8                 Ethersocks/Wrapped Ether   \n9                 Ethersocks/Wrapped Ether   \n\n   liquidityPoolDailySnapshots_pool_outputToken_id  \\\n0                                              NaN   \n1                                              NaN   \n2                                              NaN   \n3                                              NaN   \n4                                              NaN   \n5                                              NaN   \n6                                              NaN   \n7                                              NaN   \n8                                              NaN   \n9                                              NaN   \n\n   liquidityPoolDailySnapshots_pool_outputToken_name  \\\n0                                                NaN   \n1                                                NaN   \n2                                                NaN   \n3                                                NaN   \n4                                                NaN   \n5                                                NaN   \n6                                                NaN   \n7                                                NaN   \n8                                                NaN   \n9                                                NaN   \n\n   liquidityPoolDailySnapshots_pool_outputToken_symbol  \\\n0                                                NaN     \n1                                                NaN     \n2                                                NaN     \n3                                                NaN     \n4                                                NaN     \n5                                                NaN     \n6                                                NaN     \n7                                                NaN     \n8                                                NaN     \n9                                                NaN     \n\n  liquidityPoolDailySnapshots_pool_outputToken_decimals  \\\n0                                                NaN      \n1                                                NaN      \n2                                                NaN      \n3                                                NaN      \n4                                                NaN      \n5                                                NaN      \n6                                                NaN      \n7                                                NaN      \n8                                                NaN      \n9                                                NaN      \n\n  liquidityPoolDailySnapshots_pool_outputToken_lastPriceUSD  \\\n0                                                NaN          \n1                                                NaN          \n2                                                NaN          \n3                                                NaN          \n4                                                NaN          \n5                                                NaN          \n6                                                NaN          \n7                                                NaN          \n8                                                NaN          \n9                                                NaN          \n\n   liquidityPoolDailySnapshots_pool_outputToken_lastPriceBlockNumber  \\\n0                                                NaN                   \n1                                                NaN                   \n2                                                NaN                   \n3                                                NaN                   \n4                                                NaN                   \n5                                                NaN                   \n6                                                NaN                   \n7                                                NaN                   \n8                                                NaN                   \n9                                                NaN                   \n\n             dateTime  \n0 2022-09-18 06:55:23  \n1 2022-08-26 05:00:18  \n2 2022-08-25 20:38:56  \n3 2022-12-31 01:47:23  \n4 2022-12-28 04:44:11  \n5 2022-12-25 16:44:11  \n6 2022-12-17 06:32:11  \n7 2022-12-08 08:43:35  \n8 2022-12-07 05:56:59  \n9 2022-12-06 09:18:59  \n\n[10 rows x 25 columns]",
      "text/html": "<div>\n<style scoped>\n    .dataframe tbody tr th:only-of-type {\n        vertical-align: middle;\n    }\n\n    .dataframe tbody tr th {\n        vertical-align: top;\n    }\n\n    .dataframe thead th {\n        text-align: right;\n    }\n</style>\n<table border=\"1\" class=\"dataframe\">\n  <thead>\n    <tr style=\"text-align: right;\">\n      <th></th>\n      <th>liquidityPoolDailySnapshots_id</th>\n      <th>liquidityPoolDailySnapshots_timestamp</th>\n      <th>liquidityPoolDailySnapshots_blockNumber</th>\n      <th>liquidityPoolDailySnapshots_totalValueLockedUSD</th>\n      <th>liquidityPoolDailySnapshots_cumulativeSupplySideRevenueUSD</th>\n      <th>liquidityPoolDailySnapshots_dailySupplySideRevenueUSD</th>\n      <th>liquidityPoolDailySnapshots_cumulativeProtocolSideRevenueUSD</th>\n      <th>liquidityPoolDailySnapshots_dailyProtocolSideRevenueUSD</th>\n      <th>liquidityPoolDailySnapshots_cumulativeTotalRevenueUSD</th>\n      <th>liquidityPoolDailySnapshots_dailyTotalRevenueUSD</th>\n      <th>...</th>\n      <th>liquidityPoolDailySnapshots_rewardTokenEmissionsAmount</th>\n      <th>liquidityPoolDailySnapshots_pool_name</th>\n      <th>liquidityPoolDailySnapshots_pool_symbol</th>\n      <th>liquidityPoolDailySnapshots_pool_outputToken_id</th>\n      <th>liquidityPoolDailySnapshots_pool_outputToken_name</th>\n      <th>liquidityPoolDailySnapshots_pool_outputToken_symbol</th>\n      <th>liquidityPoolDailySnapshots_pool_outputToken_decimals</th>\n      <th>liquidityPoolDailySnapshots_pool_outputToken_lastPriceUSD</th>\n      <th>liquidityPoolDailySnapshots_pool_outputToken_lastPriceBlockNumber</th>\n      <th>dateTime</th>\n    </tr>\n  </thead>\n  <tbody>\n    <tr>\n      <th>0</th>\n      <td>0xffef4d319572cc667587f92aa9b61bec0f1a979c-19253</td>\n      <td>1663484123</td>\n      <td>15558783</td>\n      <td>0.086901</td>\n      <td>156.197097</td>\n      <td>0.014114</td>\n      <td>0.0</td>\n      <td>0.0</td>\n      <td>156.197097</td>\n      <td>0.014114</td>\n      <td>...</td>\n      <td>NaN</td>\n      <td>Uniswap V3 This Life/Wrapped Ether 1%</td>\n      <td>This Life/Wrapped Ether</td>\n      <td>NaN</td>\n      <td>NaN</td>\n      <td>NaN</td>\n      <td>NaN</td>\n      <td>NaN</td>\n      <td>NaN</td>\n      <td>2022-09-18 06:55:23</td>\n    </tr>\n    <tr>\n      <th>1</th>\n      <td>0xffef4d319572cc667587f92aa9b61bec0f1a979c-19230</td>\n      <td>1661490018</td>\n      <td>15413408</td>\n      <td>1.731670</td>\n      <td>156.182984</td>\n      <td>0.200210</td>\n      <td>0.0</td>\n      <td>0.0</td>\n      <td>156.182984</td>\n      <td>0.200210</td>\n      <td>...</td>\n      <td>NaN</td>\n      <td>Uniswap V3 This Life/Wrapped Ether 1%</td>\n      <td>This Life/Wrapped Ether</td>\n      <td>NaN</td>\n      <td>NaN</td>\n      <td>NaN</td>\n      <td>NaN</td>\n      <td>NaN</td>\n      <td>NaN</td>\n      <td>2022-08-26 05:00:18</td>\n    </tr>\n    <tr>\n      <th>2</th>\n      <td>0xffef4d319572cc667587f92aa9b61bec0f1a979c-19229</td>\n      <td>1661459936</td>\n      <td>15411212</td>\n      <td>81.059476</td>\n      <td>155.982773</td>\n      <td>155.982773</td>\n      <td>0.0</td>\n      <td>0.0</td>\n      <td>155.982773</td>\n      <td>155.982773</td>\n      <td>...</td>\n      <td>NaN</td>\n      <td>Uniswap V3 This Life/Wrapped Ether 1%</td>\n      <td>This Life/Wrapped Ether</td>\n      <td>NaN</td>\n      <td>NaN</td>\n      <td>NaN</td>\n      <td>NaN</td>\n      <td>NaN</td>\n      <td>NaN</td>\n      <td>2022-08-25 20:38:56</td>\n    </tr>\n    <tr>\n      <th>3</th>\n      <td>0xffe6008fcf63732ec8f666a91bf32e9be4eb7d56-19357</td>\n      <td>1672451243</td>\n      <td>16301560</td>\n      <td>29738.270227</td>\n      <td>2343.008063</td>\n      <td>0.000000</td>\n      <td>0.0</td>\n      <td>0.0</td>\n      <td>2343.008063</td>\n      <td>0.000000</td>\n      <td>...</td>\n      <td>NaN</td>\n      <td>Uniswap V3 Ethersocks/Wrapped Ether 0.3%</td>\n      <td>Ethersocks/Wrapped Ether</td>\n      <td>NaN</td>\n      <td>NaN</td>\n      <td>NaN</td>\n      <td>NaN</td>\n      <td>NaN</td>\n      <td>NaN</td>\n      <td>2022-12-31 01:47:23</td>\n    </tr>\n    <tr>\n      <th>4</th>\n      <td>0xffe6008fcf63732ec8f666a91bf32e9be4eb7d56-19354</td>\n      <td>1672202651</td>\n      <td>16280941</td>\n      <td>29728.245823</td>\n      <td>2343.008063</td>\n      <td>0.000000</td>\n      <td>0.0</td>\n      <td>0.0</td>\n      <td>2343.008063</td>\n      <td>0.000000</td>\n      <td>...</td>\n      <td>NaN</td>\n      <td>Uniswap V3 Ethersocks/Wrapped Ether 0.3%</td>\n      <td>Ethersocks/Wrapped Ether</td>\n      <td>NaN</td>\n      <td>NaN</td>\n      <td>NaN</td>\n      <td>NaN</td>\n      <td>NaN</td>\n      <td>NaN</td>\n      <td>2022-12-28 04:44:11</td>\n    </tr>\n    <tr>\n      <th>5</th>\n      <td>0xffe6008fcf63732ec8f666a91bf32e9be4eb7d56-19351</td>\n      <td>1671986651</td>\n      <td>16263032</td>\n      <td>30146.873192</td>\n      <td>2343.008063</td>\n      <td>0.000000</td>\n      <td>0.0</td>\n      <td>0.0</td>\n      <td>2343.008063</td>\n      <td>0.000000</td>\n      <td>...</td>\n      <td>NaN</td>\n      <td>Uniswap V3 Ethersocks/Wrapped Ether 0.3%</td>\n      <td>Ethersocks/Wrapped Ether</td>\n      <td>NaN</td>\n      <td>NaN</td>\n      <td>NaN</td>\n      <td>NaN</td>\n      <td>NaN</td>\n      <td>NaN</td>\n      <td>2022-12-25 16:44:11</td>\n    </tr>\n    <tr>\n      <th>6</th>\n      <td>0xffe6008fcf63732ec8f666a91bf32e9be4eb7d56-19343</td>\n      <td>1671258731</td>\n      <td>16202644</td>\n      <td>29684.854892</td>\n      <td>2343.008063</td>\n      <td>0.000000</td>\n      <td>0.0</td>\n      <td>0.0</td>\n      <td>2343.008063</td>\n      <td>0.000000</td>\n      <td>...</td>\n      <td>NaN</td>\n      <td>Uniswap V3 Ethersocks/Wrapped Ether 0.3%</td>\n      <td>Ethersocks/Wrapped Ether</td>\n      <td>NaN</td>\n      <td>NaN</td>\n      <td>NaN</td>\n      <td>NaN</td>\n      <td>NaN</td>\n      <td>NaN</td>\n      <td>2022-12-17 06:32:11</td>\n    </tr>\n    <tr>\n      <th>7</th>\n      <td>0xffe6008fcf63732ec8f666a91bf32e9be4eb7d56-19334</td>\n      <td>1670489015</td>\n      <td>16138875</td>\n      <td>31095.901110</td>\n      <td>2343.008063</td>\n      <td>0.000000</td>\n      <td>0.0</td>\n      <td>0.0</td>\n      <td>2343.008063</td>\n      <td>0.000000</td>\n      <td>...</td>\n      <td>NaN</td>\n      <td>Uniswap V3 Ethersocks/Wrapped Ether 0.3%</td>\n      <td>Ethersocks/Wrapped Ether</td>\n      <td>NaN</td>\n      <td>NaN</td>\n      <td>NaN</td>\n      <td>NaN</td>\n      <td>NaN</td>\n      <td>NaN</td>\n      <td>2022-12-08 08:43:35</td>\n    </tr>\n    <tr>\n      <th>8</th>\n      <td>0xffe6008fcf63732ec8f666a91bf32e9be4eb7d56-19333</td>\n      <td>1670392619</td>\n      <td>16130920</td>\n      <td>31825.215721</td>\n      <td>2343.008063</td>\n      <td>0.000000</td>\n      <td>0.0</td>\n      <td>0.0</td>\n      <td>2343.008063</td>\n      <td>0.000000</td>\n      <td>...</td>\n      <td>NaN</td>\n      <td>Uniswap V3 Ethersocks/Wrapped Ether 0.3%</td>\n      <td>Ethersocks/Wrapped Ether</td>\n      <td>NaN</td>\n      <td>NaN</td>\n      <td>NaN</td>\n      <td>NaN</td>\n      <td>NaN</td>\n      <td>NaN</td>\n      <td>2022-12-07 05:56:59</td>\n    </tr>\n    <tr>\n      <th>9</th>\n      <td>0xffe6008fcf63732ec8f666a91bf32e9be4eb7d56-19332</td>\n      <td>1670318339</td>\n      <td>16124809</td>\n      <td>31760.634450</td>\n      <td>2343.008063</td>\n      <td>0.000000</td>\n      <td>0.0</td>\n      <td>0.0</td>\n      <td>2343.008063</td>\n      <td>0.000000</td>\n      <td>...</td>\n      <td>NaN</td>\n      <td>Uniswap V3 Ethersocks/Wrapped Ether 0.3%</td>\n      <td>Ethersocks/Wrapped Ether</td>\n      <td>NaN</td>\n      <td>NaN</td>\n      <td>NaN</td>\n      <td>NaN</td>\n      <td>NaN</td>\n      <td>NaN</td>\n      <td>2022-12-06 09:18:59</td>\n    </tr>\n  </tbody>\n</table>\n<p>10 rows × 25 columns</p>\n</div>"
     },
     "execution_count": 279,
     "metadata": {},
     "output_type": "execute_result"
    }
   ],
   "source": [
    "#UNISWAP SUBGRAPH\n",
    "sushi10 = sg.load_api('https://gateway.thegraph.com/api/b0299a6e1895566f98d87e0711fa24ca/subgraphs/id/ELUcwgpm14LKPLrBRuVvPvNKHQ9HvwmtKgKSH6123cr7')\n",
    "\n",
    "pools10 = sushi10.Query.liquidityPoolDailySnapshots(\n",
    "            orderBy='id',\n",
    "            orderDirection='desc',\n",
    "            #skip =(skipValue),\n",
    "            first=1000,\n",
    "            #where={ 'poolId': '0xc45d42f801105e861e86658648e3678ad7aa70f900010000000000000000011e' }\n",
    "        )\n",
    "\n",
    "pool_data10 = sg.query_df([\n",
    "    pools10.id\n",
    "    ,pools10.timestamp\n",
    "    ,pools10.blockNumber\n",
    "    ,pools10.totalValueLockedUSD\n",
    "    ,pools10.cumulativeSupplySideRevenueUSD\n",
    "    ,pools10.dailySupplySideRevenueUSD\n",
    "    ,pools10.cumulativeProtocolSideRevenueUSD\n",
    "    ,pools10.dailyProtocolSideRevenueUSD\n",
    "    ,pools10.cumulativeTotalRevenueUSD\n",
    "    ,pools10.dailyTotalRevenueUSD\n",
    "    ,pools10.dailyVolumeUSD\n",
    "    ,pools10.cumulativeVolumeUSD\n",
    "    ,pools10.outputTokenSupply\n",
    "    ,pools10.outputTokenPriceUSD\n",
    "    ,pools10.stakedOutputTokenAmount\n",
    "    ,pools10.rewardTokenEmissionsAmount\n",
    "    ,pools10.pool.name\n",
    "    ,pools10.pool.symbol\n",
    "    ,pools10.pool.outputToken\n",
    "])\n",
    "\n",
    "pool_datadb10 = db.query(\"select \"\n",
    "               \"    * \"\n",
    "                    \" ,to_timestamp(liquidityPoolDailySnapshots_timestamp) dateTime \"\n",
    "               \"From pool_data10 \"\n",
    "               #\"where lower(liquidityPools_name) like lower('%olympus%') \"\n",
    "                #    \"or lower(pairs_token1_symbol) like lower('%OHM%')  \"\n",
    "               #\" limit 100 \"\n",
    "               ).df()\n",
    "\n",
    "pool_datadb10.head(10)"
   ],
   "metadata": {
    "collapsed": false,
    "pycharm": {
     "name": "#%%\n"
    }
   }
  },
  {
   "cell_type": "code",
   "execution_count": null,
   "outputs": [],
   "source": [],
   "metadata": {
    "collapsed": false,
    "pycharm": {
     "name": "#%%\n"
    }
   }
  }
 ],
 "metadata": {
  "kernelspec": {
   "display_name": "Python 3",
   "language": "python",
   "name": "python3"
  },
  "language_info": {
   "codemirror_mode": {
    "name": "ipython",
    "version": 2
   },
   "file_extension": ".py",
   "mimetype": "text/x-python",
   "name": "python",
   "nbconvert_exporter": "python",
   "pygments_lexer": "ipython2",
   "version": "2.7.6"
  }
 },
 "nbformat": 4,
 "nbformat_minor": 0
}