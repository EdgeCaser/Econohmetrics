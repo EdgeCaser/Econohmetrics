{
 "cells": [
  {
   "cell_type": "code",
   "execution_count": 14,
   "metadata": {
    "collapsed": true,
    "pycharm": {
     "name": "#%%\n"
    }
   },
   "outputs": [],
   "source": [
    "from datetime import datetime\n",
    "from datetime import date\n",
    "from subgrounds.subgraph import SyntheticField, FieldPath\n",
    "from subgrounds.subgrounds import Subgrounds\n",
    "import pandas as pd\n",
    "import duckdb as db"
   ]
  },
  {
   "cell_type": "code",
   "execution_count": 9,
   "outputs": [],
   "source": [
    "sg = Subgrounds()\n",
    "balancer = sg.load_api('https://api.thegraph.com/subgraphs/name/balancer-labs/balancer')"
   ],
   "metadata": {
    "collapsed": false,
    "pycharm": {
     "name": "#%%\n"
    }
   }
  },
  {
   "cell_type": "code",
   "execution_count": 5,
   "outputs": [
    {
     "data": {
      "text/plain": "                                     pools_id pools_name  \\\n0  0x176648c0b8e98ad12bede0b99715e92aa74046a5       None   \n1  0x176648c0b8e98ad12bede0b99715e92aa74046a5       None   \n2  0x176648c0b8e98ad12bede0b99715e92aa74046a5       None   \n3  0x176648c0b8e98ad12bede0b99715e92aa74046a5       None   \n4  0x176648c0b8e98ad12bede0b99715e92aa74046a5       None   \n5  0x176648c0b8e98ad12bede0b99715e92aa74046a5       None   \n6  0x176648c0b8e98ad12bede0b99715e92aa74046a5       None   \n7  0x176648c0b8e98ad12bede0b99715e92aa74046a5       None   \n8  0x57e02e49d373dcbe8337bdbca3ba4d473eab37d5       None   \n9  0x57e02e49d373dcbe8337bdbca3ba4d473eab37d5       None   \n\n                             pools_controller  pools_finalized  \\\n0  0x55bb748fc4ead83faf3698e46b72e8ecead62196             True   \n1  0x55bb748fc4ead83faf3698e46b72e8ecead62196             True   \n2  0x55bb748fc4ead83faf3698e46b72e8ecead62196             True   \n3  0x55bb748fc4ead83faf3698e46b72e8ecead62196             True   \n4  0x55bb748fc4ead83faf3698e46b72e8ecead62196             True   \n5  0x55bb748fc4ead83faf3698e46b72e8ecead62196             True   \n6  0x55bb748fc4ead83faf3698e46b72e8ecead62196             True   \n7  0x55bb748fc4ead83faf3698e46b72e8ecead62196             True   \n8  0x2abc9525e37a9639f76395cd31399c9de1002f9e             True   \n9  0x2abc9525e37a9639f76395cd31399c9de1002f9e             True   \n\n   pools_publicSwap  pools_crp pools_crpController  pools_createTime  \\\n0              True      False                None        1669175987   \n1              True      False                None        1669175987   \n2              True      False                None        1669175987   \n3              True      False                None        1669175987   \n4              True      False                None        1669175987   \n5              True      False                None        1669175987   \n6              True      False                None        1669175987   \n7              True      False                None        1669175987   \n8              True      False                None        1660746988   \n9              True      False                None        1660746988   \n\n  pools_symbol  pools_swapFee  pools_totalWeight  \\\n0          BPT         0.0100               50.0   \n1          BPT         0.0100               50.0   \n2          BPT         0.0100               50.0   \n3          BPT         0.0100               50.0   \n4          BPT         0.0100               50.0   \n5          BPT         0.0100               50.0   \n6          BPT         0.0100               50.0   \n7          BPT         0.0100               50.0   \n8          BPT         0.0015               50.0   \n9          BPT         0.0015               50.0   \n\n                             pools_tokensList  pools_cap  \\\n0  0x7fc66500c84a76ad7e9c93437bfc5ac33e2ddae9        NaN   \n1  0x0bc529c00c6401aef6d220be8c6ea1667f6ad93e        NaN   \n2  0xd9fcd98c322942075a5c3860693e9f4f03aae07b        NaN   \n3  0xaf5191b0de278c7286d6c7cc6ab6bb8a73ba2cd6        NaN   \n4  0x7f39c581f595b53c5cb19bd0b3f8da6c935e2ca0        NaN   \n5  0xc18360217d8f7ab5e7c516566761ea12ce7f9d72        NaN   \n6  0xd084944d3c05cd115c09d072b9f44ba3e0e45921        NaN   \n7  0x25f8087ead173b73d6e8b84329989a8eea16cf73        NaN   \n8  0xba100000625a3754423978a60c9317c58a424e3d        NaN   \n9  0x7fc66500c84a76ad7e9c93437bfc5ac33e2ddae9        NaN   \n\n   pools_totalSwapVolume  pools_totalSwapFee  pools_liquidity  \n0           63623.127284          636.231273         0.000000  \n1           63623.127284          636.231273         0.000000  \n2           63623.127284          636.231273         0.000000  \n3           63623.127284          636.231273         0.000000  \n4           63623.127284          636.231273         0.000000  \n5           63623.127284          636.231273         0.000000  \n6           63623.127284          636.231273         0.000000  \n7           63623.127284          636.231273         0.000000  \n8              47.855075            0.071783       230.069915  \n9              47.855075            0.071783       230.069915  ",
      "text/html": "<div>\n<style scoped>\n    .dataframe tbody tr th:only-of-type {\n        vertical-align: middle;\n    }\n\n    .dataframe tbody tr th {\n        vertical-align: top;\n    }\n\n    .dataframe thead th {\n        text-align: right;\n    }\n</style>\n<table border=\"1\" class=\"dataframe\">\n  <thead>\n    <tr style=\"text-align: right;\">\n      <th></th>\n      <th>pools_id</th>\n      <th>pools_name</th>\n      <th>pools_controller</th>\n      <th>pools_finalized</th>\n      <th>pools_publicSwap</th>\n      <th>pools_crp</th>\n      <th>pools_crpController</th>\n      <th>pools_createTime</th>\n      <th>pools_symbol</th>\n      <th>pools_swapFee</th>\n      <th>pools_totalWeight</th>\n      <th>pools_tokensList</th>\n      <th>pools_cap</th>\n      <th>pools_totalSwapVolume</th>\n      <th>pools_totalSwapFee</th>\n      <th>pools_liquidity</th>\n    </tr>\n  </thead>\n  <tbody>\n    <tr>\n      <th>0</th>\n      <td>0x176648c0b8e98ad12bede0b99715e92aa74046a5</td>\n      <td>None</td>\n      <td>0x55bb748fc4ead83faf3698e46b72e8ecead62196</td>\n      <td>True</td>\n      <td>True</td>\n      <td>False</td>\n      <td>None</td>\n      <td>1669175987</td>\n      <td>BPT</td>\n      <td>0.0100</td>\n      <td>50.0</td>\n      <td>0x7fc66500c84a76ad7e9c93437bfc5ac33e2ddae9</td>\n      <td>NaN</td>\n      <td>63623.127284</td>\n      <td>636.231273</td>\n      <td>0.000000</td>\n    </tr>\n    <tr>\n      <th>1</th>\n      <td>0x176648c0b8e98ad12bede0b99715e92aa74046a5</td>\n      <td>None</td>\n      <td>0x55bb748fc4ead83faf3698e46b72e8ecead62196</td>\n      <td>True</td>\n      <td>True</td>\n      <td>False</td>\n      <td>None</td>\n      <td>1669175987</td>\n      <td>BPT</td>\n      <td>0.0100</td>\n      <td>50.0</td>\n      <td>0x0bc529c00c6401aef6d220be8c6ea1667f6ad93e</td>\n      <td>NaN</td>\n      <td>63623.127284</td>\n      <td>636.231273</td>\n      <td>0.000000</td>\n    </tr>\n    <tr>\n      <th>2</th>\n      <td>0x176648c0b8e98ad12bede0b99715e92aa74046a5</td>\n      <td>None</td>\n      <td>0x55bb748fc4ead83faf3698e46b72e8ecead62196</td>\n      <td>True</td>\n      <td>True</td>\n      <td>False</td>\n      <td>None</td>\n      <td>1669175987</td>\n      <td>BPT</td>\n      <td>0.0100</td>\n      <td>50.0</td>\n      <td>0xd9fcd98c322942075a5c3860693e9f4f03aae07b</td>\n      <td>NaN</td>\n      <td>63623.127284</td>\n      <td>636.231273</td>\n      <td>0.000000</td>\n    </tr>\n    <tr>\n      <th>3</th>\n      <td>0x176648c0b8e98ad12bede0b99715e92aa74046a5</td>\n      <td>None</td>\n      <td>0x55bb748fc4ead83faf3698e46b72e8ecead62196</td>\n      <td>True</td>\n      <td>True</td>\n      <td>False</td>\n      <td>None</td>\n      <td>1669175987</td>\n      <td>BPT</td>\n      <td>0.0100</td>\n      <td>50.0</td>\n      <td>0xaf5191b0de278c7286d6c7cc6ab6bb8a73ba2cd6</td>\n      <td>NaN</td>\n      <td>63623.127284</td>\n      <td>636.231273</td>\n      <td>0.000000</td>\n    </tr>\n    <tr>\n      <th>4</th>\n      <td>0x176648c0b8e98ad12bede0b99715e92aa74046a5</td>\n      <td>None</td>\n      <td>0x55bb748fc4ead83faf3698e46b72e8ecead62196</td>\n      <td>True</td>\n      <td>True</td>\n      <td>False</td>\n      <td>None</td>\n      <td>1669175987</td>\n      <td>BPT</td>\n      <td>0.0100</td>\n      <td>50.0</td>\n      <td>0x7f39c581f595b53c5cb19bd0b3f8da6c935e2ca0</td>\n      <td>NaN</td>\n      <td>63623.127284</td>\n      <td>636.231273</td>\n      <td>0.000000</td>\n    </tr>\n    <tr>\n      <th>5</th>\n      <td>0x176648c0b8e98ad12bede0b99715e92aa74046a5</td>\n      <td>None</td>\n      <td>0x55bb748fc4ead83faf3698e46b72e8ecead62196</td>\n      <td>True</td>\n      <td>True</td>\n      <td>False</td>\n      <td>None</td>\n      <td>1669175987</td>\n      <td>BPT</td>\n      <td>0.0100</td>\n      <td>50.0</td>\n      <td>0xc18360217d8f7ab5e7c516566761ea12ce7f9d72</td>\n      <td>NaN</td>\n      <td>63623.127284</td>\n      <td>636.231273</td>\n      <td>0.000000</td>\n    </tr>\n    <tr>\n      <th>6</th>\n      <td>0x176648c0b8e98ad12bede0b99715e92aa74046a5</td>\n      <td>None</td>\n      <td>0x55bb748fc4ead83faf3698e46b72e8ecead62196</td>\n      <td>True</td>\n      <td>True</td>\n      <td>False</td>\n      <td>None</td>\n      <td>1669175987</td>\n      <td>BPT</td>\n      <td>0.0100</td>\n      <td>50.0</td>\n      <td>0xd084944d3c05cd115c09d072b9f44ba3e0e45921</td>\n      <td>NaN</td>\n      <td>63623.127284</td>\n      <td>636.231273</td>\n      <td>0.000000</td>\n    </tr>\n    <tr>\n      <th>7</th>\n      <td>0x176648c0b8e98ad12bede0b99715e92aa74046a5</td>\n      <td>None</td>\n      <td>0x55bb748fc4ead83faf3698e46b72e8ecead62196</td>\n      <td>True</td>\n      <td>True</td>\n      <td>False</td>\n      <td>None</td>\n      <td>1669175987</td>\n      <td>BPT</td>\n      <td>0.0100</td>\n      <td>50.0</td>\n      <td>0x25f8087ead173b73d6e8b84329989a8eea16cf73</td>\n      <td>NaN</td>\n      <td>63623.127284</td>\n      <td>636.231273</td>\n      <td>0.000000</td>\n    </tr>\n    <tr>\n      <th>8</th>\n      <td>0x57e02e49d373dcbe8337bdbca3ba4d473eab37d5</td>\n      <td>None</td>\n      <td>0x2abc9525e37a9639f76395cd31399c9de1002f9e</td>\n      <td>True</td>\n      <td>True</td>\n      <td>False</td>\n      <td>None</td>\n      <td>1660746988</td>\n      <td>BPT</td>\n      <td>0.0015</td>\n      <td>50.0</td>\n      <td>0xba100000625a3754423978a60c9317c58a424e3d</td>\n      <td>NaN</td>\n      <td>47.855075</td>\n      <td>0.071783</td>\n      <td>230.069915</td>\n    </tr>\n    <tr>\n      <th>9</th>\n      <td>0x57e02e49d373dcbe8337bdbca3ba4d473eab37d5</td>\n      <td>None</td>\n      <td>0x2abc9525e37a9639f76395cd31399c9de1002f9e</td>\n      <td>True</td>\n      <td>True</td>\n      <td>False</td>\n      <td>None</td>\n      <td>1660746988</td>\n      <td>BPT</td>\n      <td>0.0015</td>\n      <td>50.0</td>\n      <td>0x7fc66500c84a76ad7e9c93437bfc5ac33e2ddae9</td>\n      <td>NaN</td>\n      <td>47.855075</td>\n      <td>0.071783</td>\n      <td>230.069915</td>\n    </tr>\n  </tbody>\n</table>\n</div>"
     },
     "execution_count": 5,
     "metadata": {},
     "output_type": "execute_result"
    }
   ],
   "source": [
    "pools = balancer.Query.pools(\n",
    "  orderBy='createTime',\n",
    "  orderDirection='desc',\n",
    "  first=1000,\n",
    "  #where=[\n",
    "    #balancer.Query.pools.id == '0x76FCf0e8C7Ff37A47a799FA2cd4c13cDe0D981C9' ##'0x002ad19fb25c6206d6d19e524f363ea846afe4a5' works.,\n",
    "    #balancer.Query.pools\n",
    "    #balancer.Query.pools.tokensList_contains: \"0xe343245DE92181bc06ba5Cd1152C705A2C5F3E2F\"\n",
    "    #balancer.Query.pools.tokensList == '0xC02aaA39b223FE8D0A0e5C4F27eAD9083C756Cc2'\n",
    "  #]\n",
    ")\n",
    "\n",
    "pool_data = sg.query_df([\n",
    "    pools.id\n",
    "    ,pools.name\n",
    "    ,pools.controller\n",
    "    ,pools.finalized\n",
    "    ,pools.publicSwap\n",
    "    ,pools.crp\n",
    "    ,pools.crpController\n",
    "    ,pools.createTime\n",
    "    ,pools.symbol\n",
    "    ,pools.swapFee\n",
    "    ,pools.totalWeight\n",
    "    ,pools.tokensList\n",
    "    ,pools.cap\n",
    "    ,pools.totalSwapVolume\n",
    "    ,pools.totalSwapFee\n",
    "    ,pools.liquidity\n",
    "    #,pools.tokens.balance\n",
    "])\n",
    "\n",
    "pool_data.head(10)\n"
   ],
   "metadata": {
    "collapsed": false,
    "pycharm": {
     "name": "#%%\n"
    }
   }
  },
  {
   "cell_type": "code",
   "execution_count": 12,
   "outputs": [
    {
     "name": "stdout",
     "output_type": "stream",
     "text": [
      "2786\n"
     ]
    }
   ],
   "source": [
    "\n",
    "pools = balancer.Query.pools(\n",
    "  orderBy='createTime',\n",
    "  orderDirection='desc',\n",
    "  ##first=10,\n",
    "  #where=[\n",
    "    #balancer.Query.pools.id == '0x76FCf0e8C7Ff37A47a799FA2cd4c13cDe0D981C9' ##'0x002ad19fb25c6206d6d19e524f363ea846afe4a5' works.,\n",
    "    #balancer.Query.pools\n",
    "    #balancer.Query.pools.tokensList_contains: \"0xe343245DE92181bc06ba5Cd1152C705A2C5F3E2F\"\n",
    "    #balancer.Query.pools.tokensList == '0xC02aaA39b223FE8D0A0e5C4F27eAD9083C756Cc2'\n",
    "  #]\n",
    ")\n",
    "\n",
    "pool = sg.query_df([\n",
    "    pools.id\n",
    "    ,pools.name\n",
    "    ,pools.controller\n",
    "    ,pools.finalized\n",
    "    ,pools.publicSwap\n",
    "    ,pools.crp\n",
    "    ,pools.crpController\n",
    "    ,pools.createTime\n",
    "    ,pools.symbol\n",
    "    ,pools.swapFee\n",
    "    ,pools.totalWeight\n",
    "    ,pools.tokensList\n",
    "    ,pools.cap\n",
    "    ,pools.totalSwapVolume\n",
    "    ,pools.totalSwapFee\n",
    "    ,pools.liquidity\n",
    "    #,pools.tokens.balance\n",
    "])\n",
    "\n",
    "\n"
   ],
   "metadata": {
    "collapsed": false,
    "pycharm": {
     "name": "#%%\n"
    }
   }
  },
  {
   "cell_type": "code",
   "execution_count": 16,
   "outputs": [
    {
     "ename": "AttributeError",
     "evalue": "'duckdb.DuckDBPyRelation' object has no attribute 'head'",
     "output_type": "error",
     "traceback": [
      "\u001B[1;31m---------------------------------------------------------------------------\u001B[0m",
      "\u001B[1;31mAttributeError\u001B[0m                            Traceback (most recent call last)",
      "Cell \u001B[1;32mIn[16], line 7\u001B[0m\n\u001B[0;32m      1\u001B[0m pool_db \u001B[38;5;241m=\u001B[39m db\u001B[38;5;241m.\u001B[39mquery(\u001B[38;5;124m\"\u001B[39m\u001B[38;5;124mselect \u001B[39m\u001B[38;5;124m\"\u001B[39m\n\u001B[0;32m      2\u001B[0m                    \u001B[38;5;124m\"\u001B[39m\u001B[38;5;124m    *  \u001B[39m\u001B[38;5;124m\"\u001B[39m\n\u001B[0;32m      3\u001B[0m                    \u001B[38;5;124m\"\u001B[39m\u001B[38;5;124mFrom pool \u001B[39m\u001B[38;5;124m\"\u001B[39m\n\u001B[0;32m      4\u001B[0m                    \u001B[38;5;124m\"\u001B[39m\u001B[38;5;124m limit 100 \u001B[39m\u001B[38;5;124m\"\u001B[39m\n\u001B[0;32m      5\u001B[0m                    )\n\u001B[1;32m----> 7\u001B[0m \u001B[43mpool_db\u001B[49m\u001B[38;5;241;43m.\u001B[39;49m\u001B[43mhead\u001B[49m(\u001B[38;5;241m100\u001B[39m)\n",
      "\u001B[1;31mAttributeError\u001B[0m: 'duckdb.DuckDBPyRelation' object has no attribute 'head'"
     ]
    }
   ],
   "source": [
    "\n",
    "pool_db = db.query(\"select \"\n",
    "                   \"    *  \"\n",
    "                   \"From pool \"\n",
    "                   \" limit 100 \"\n",
    "                   )\n",
    "\n",
    "pool_db.head(100)"
   ],
   "metadata": {
    "collapsed": false,
    "pycharm": {
     "name": "#%%\n"
    }
   }
  },
  {
   "cell_type": "code",
   "execution_count": null,
   "outputs": [],
   "source": [],
   "metadata": {
    "collapsed": false,
    "pycharm": {
     "name": "#%%\n"
    }
   }
  }
 ],
 "metadata": {
  "kernelspec": {
   "display_name": "Python 3",
   "language": "python",
   "name": "python3"
  },
  "language_info": {
   "codemirror_mode": {
    "name": "ipython",
    "version": 2
   },
   "file_extension": ".py",
   "mimetype": "text/x-python",
   "name": "python",
   "nbconvert_exporter": "python",
   "pygments_lexer": "ipython2",
   "version": "2.7.6"
  }
 },
 "nbformat": 4,
 "nbformat_minor": 0
}
