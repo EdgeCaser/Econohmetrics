{
 "cells": [
  {
   "cell_type": "code",
   "execution_count": 2,
   "metadata": {
    "collapsed": true
   },
   "outputs": [],
   "source": [
    "from datetime import datetime\n",
    "import datetime as dt\n",
    "import time\n",
    "from subgrounds.subgraph import SyntheticField, FieldPath\n",
    "from subgrounds.subgrounds import Subgrounds\n",
    "import pandas as pd\n",
    "import duckdb as db\n",
    "import IPython as ip\n",
    "import  os as os"
   ]
  },
  {
   "cell_type": "code",
   "execution_count": 3,
   "outputs": [],
   "source": [
    "sg = Subgrounds()\n",
    "apiKey = input('API Key, please')"
   ],
   "metadata": {
    "collapsed": false
   }
  },
  {
   "cell_type": "code",
   "execution_count": 4,
   "outputs": [],
   "source": [
    "#https://api.thegraph.com/subgraphs/name/corerouter/vesta-finance\n",
    "vesta = sg.load_api('https://api.thegraph.com/subgraphs/name/corerouter/vesta-finance')"
   ],
   "metadata": {
    "collapsed": false
   }
  },
  {
   "cell_type": "code",
   "execution_count": 5,
   "outputs": [
    {
     "name": "stdout",
     "output_type": "stream",
     "text": [
      "iterations:  0 Lines skipped:  0 records collected:  1000  - latest recordID:  0x0b6ce781cafec4a4ebbd7247a9149f944ab5ecab3091015044a0e17b7f996993   borrow-0x0b6ce781cafec4a4ebbd7247a9149f944ab5ecab3091015044a0e17b7f996993-37  - vestaBorrows DB length:  1000  - latest record from:  2023-02-13 13:25:00 0 days ago\n",
      "iterations:  1 Lines skipped:  1000 records collected:  403  - latest recordID:  0xebfdf5464a23bb3c12a019bbbaca75ceac4ea73a6cee465bf512825f85d3c8f1   borrow-0xebfdf5464a23bb3c12a019bbbaca75ceac4ea73a6cee465bf512825f85d3c8f1-45  - vestaBorrows DB length:  1403  - latest record from:  2023-02-13 05:57:03 0 days ago\n",
      "Done. Total Records collected:  1403\n"
     ]
    }
   ],
   "source": [
    "##this captures the list of people who borrowed VST against gOHM\n",
    "vestaBorrowTicker = 0\n",
    "vestaBorrowslist = pd.DataFrame()\n",
    "vestaBorrowsDb = pd.DataFrame()\n",
    "vestaBorrowListLength = 1000\n",
    "datediff = 0\n",
    "now=0\n",
    "daysAgo=0\n",
    "daysLimit = 45\n",
    "exit = False\n",
    "while exit==False:\n",
    "    skipValue = (vestaBorrowTicker)*(1000)\n",
    "    vestaBorrows = vesta.Query.borrows(\n",
    "        orderBy='timestamp',\n",
    "        orderDirection='desc',\n",
    "        first=1000,\n",
    "        skip = skipValue,\n",
    "        where={ 'market': '0x8d9ba570d6cb60c7e3e0f31343efe75ab8e65fb1' } #gOHM market\n",
    "\n",
    "    )\n",
    "\n",
    "    vestaBorrowslist = sg.query_df([\n",
    "        vestaBorrows.id\n",
    "        ,vestaBorrows.hash\n",
    "        ,vestaBorrows.logIndex\n",
    "        ,vestaBorrows.blockNumber\n",
    "        ,vestaBorrows.timestamp\n",
    "        ,vestaBorrows.account\n",
    "        ,vestaBorrows.market\n",
    "        ,vestaBorrows.market.rates\n",
    "        ,vestaBorrows.asset\n",
    "        ,vestaBorrows.amount\n",
    "        ,vestaBorrows.amountUSD\n",
    "        ,vestaBorrows.position\n",
    "    ])\n",
    "\n",
    "    #vestaBorrowslist.sort_values(by=['vestaBorrows_timestamp'])\n",
    "\n",
    "    vestaBorrowsDb=pd.concat([vestaBorrowsDb, vestaBorrowslist])\n",
    "    recordTimestamp1 = vestaBorrowsDb.iat[vestaBorrowTicker,4]\n",
    "    recordTimestamp = dt.datetime.fromtimestamp( recordTimestamp1 )\n",
    "    now = (int(dt.datetime.utcnow().timestamp()))\n",
    "    datediff=abs(int(now) - recordTimestamp1)\n",
    "    daysAgo = int(datediff/86400)\n",
    "    vestaBorrowsDbLength = len(vestaBorrowsDb)\n",
    "    vestaBorrowListLength = len(vestaBorrowslist)\n",
    "    recordID = vestaBorrowsDb.iat[vestaBorrowTicker,0]\n",
    "    vestaBorrow = vestaBorrowsDb.iat[vestaBorrowTicker,1]\n",
    "    print(\"iterations: \", vestaBorrowTicker, \"Lines skipped: \",skipValue, \"records collected: \", vestaBorrowListLength, \" - latest recordID: \",vestaBorrow, \" \", recordID , \" - vestaBorrows DB length: \", vestaBorrowsDbLength, \" - latest record from: \", recordTimestamp, daysAgo,\"days ago\")\n",
    "    #print(\"iterations: \", vestaBorrowTicker, \"records collected: \", vestaBorrowListLength, \" - userdb length: \", vestaBorrowsDbLength)\n",
    "    vestaBorrowTicker = vestaBorrowTicker+1\n",
    "\n",
    "    if daysAgo>daysLimit: exit =True\n",
    "    if vestaBorrowListLength<1000: exit =True\n",
    "\n",
    "vestaBorrowsDb.columns = vestaBorrowsDb.columns.str.replace(\"borrows\", \"transaction\")\n",
    "vestaBorrowsDb['event']='borrow'\n",
    "vestaBorrowsDb['protocol']='vesta'\n",
    "print(\"Done. Total Records collected: \", vestaBorrowsDbLength)"
   ],
   "metadata": {
    "collapsed": false
   }
  },
  {
   "cell_type": "code",
   "execution_count": 6,
   "outputs": [
    {
     "data": {
      "text/plain": "                                       transaction_id  \\\n0   borrow-0x0b6ce781cafec4a4ebbd7247a9149f944ab5e...   \n1   borrow-0xebfdf5464a23bb3c12a019bbbaca75ceac4ea...   \n2   borrow-0x1b54e1c3ef70e868dbce6ee79aded1704c308...   \n3   borrow-0xa8530b80a3aae63661e62d05f9c83afc5e626...   \n4   borrow-0x0712c2c572f53f272b382289d178c5801205e...   \n..                                                ...   \n95  borrow-0x194e2bb92ce2f2cb168458102d1cbc79ed9bb...   \n96  borrow-0x882593f140df3ff51511a47c7cb3c433e4a4c...   \n97  borrow-0xc502f9e5eb845a34d721e418dd597bb64e15a...   \n98  borrow-0xd6835e5cc616cf65b8f46c3fb685c7d436206...   \n99  borrow-0xdbceaecbce8edc0d0d07d87f907a46c50c0e3...   \n\n                                     transaction_hash  transaction_logIndex  \\\n0   0x0b6ce781cafec4a4ebbd7247a9149f944ab5ecab3091...                    37   \n1   0xebfdf5464a23bb3c12a019bbbaca75ceac4ea73a6cee...                    45   \n2   0x1b54e1c3ef70e868dbce6ee79aded1704c308e4d38f9...                    37   \n3   0xa8530b80a3aae63661e62d05f9c83afc5e62634b5f4c...                    45   \n4   0x0712c2c572f53f272b382289d178c5801205eb0b7c99...                    45   \n..                                                ...                   ...   \n95  0x194e2bb92ce2f2cb168458102d1cbc79ed9bbd7757bd...                    34   \n96  0x882593f140df3ff51511a47c7cb3c433e4a4c44a12c9...                    34   \n97  0xc502f9e5eb845a34d721e418dd597bb64e15abace157...                    29   \n98  0xd6835e5cc616cf65b8f46c3fb685c7d4362061621bc4...                    34   \n99  0xdbceaecbce8edc0d0d07d87f907a46c50c0e33884ce3...                    42   \n\n    transaction_blockNumber  transaction_timestamp  \\\n0                  60666606             1676323500   \n1                  60572308             1676296623   \n2                  60125704             1676165223   \n3                  60064234             1676142977   \n4                  59984711             1676119566   \n..                      ...                    ...   \n95                 48754692             1671973124   \n96                 48435322             1671865683   \n97                 48288379             1671802945   \n98                 48094577             1671731058   \n99                 47726191             1671602208   \n\n                        transaction_account_id  \\\n0   0xc9e166f2737e004e93800dcef0d608b014df07f6   \n1   0xb9e291b68e584be657477289389b3a6deed3e34c   \n2   0x6ae68eb2fa416fe091803fde014bbf7475468979   \n3   0xa13f3599ff620500f360dc6185ad30f625ebfc38   \n4   0x67fa1561c5f5631de08e38d4484e0df67872f626   \n..                                         ...   \n95  0xc9e166f2737e004e93800dcef0d608b014df07f6   \n96  0xded5d8c6b271a48f3b9ba20e8aa761a6baa2fac9   \n97  0x0561a78021d8966ddd20c28c6c4318d8675ee1f0   \n98  0x804157889ac56a4e50278610c67960c1605a3264   \n99  0x73831e7c600f48cebbbff957b466be8e5c087f34   \n\n    transaction_account_positionCount  transaction_account_openPositionCount  \\\n0                                  25                                      4   \n1                                   2                                      2   \n2                                   6                                      2   \n3                                   2                                      2   \n4                                   2                                      2   \n..                                ...                                    ...   \n95                                 25                                      4   \n96                                  5                                      1   \n97                                152                                      0   \n98                                 16                                      2   \n99                                  4                                      3   \n\n    transaction_account_closedPositionCount  transaction_account_depositCount  \\\n0                                        21                                16   \n1                                         0                                 1   \n2                                         4                                 4   \n3                                         0                                 1   \n4                                         0                                 1   \n..                                      ...                               ...   \n95                                       21                                16   \n96                                        4                                 4   \n97                                      152                               132   \n98                                       14                                24   \n99                                        1                                 5   \n\n    ...  transaction_position_side  transaction_position_isCollateral  \\\n0   ...                   BORROWER                               None   \n1   ...                   BORROWER                               None   \n2   ...                   BORROWER                               None   \n3   ...                   BORROWER                               None   \n4   ...                   BORROWER                               None   \n..  ...                        ...                                ...   \n95  ...                   BORROWER                               None   \n96  ...                   BORROWER                               None   \n97  ...                   BORROWER                               None   \n98  ...                   BORROWER                               None   \n99  ...                   BORROWER                               None   \n\n    transaction_position_balance  transaction_position_depositCount  \\\n0         3715000215319514977712                                  0   \n1          300000000000000000000                                  0   \n2        91776615499826319393959                                  0   \n3         1614690000000000000000                                  0   \n4         6000370000000000000000                                  0   \n..                           ...                                ...   \n95        3715000215319514977712                                  0   \n96      160000052081071608108226                                  0   \n97                             0                                  0   \n98       11558591208330249968994                                  0   \n99        6423430000000000000000                                  0   \n\n    transaction_position_withdrawCount transaction_position_borrowCount  \\\n0                                    0                               31   \n1                                    0                                1   \n2                                    0                                1   \n3                                    0                                1   \n4                                    0                                1   \n..                                 ...                              ...   \n95                                   0                               31   \n96                                   0                               12   \n97                                   0                                1   \n98                                   0                               11   \n99                                   0                                1   \n\n   transaction_position_repayCount transaction_position_liquidationCount  \\\n0                               21                                     0   \n1                                0                                     0   \n2                                0                                     0   \n3                                0                                     0   \n4                                0                                     0   \n..                             ...                                   ...   \n95                              21                                     0   \n96                               0                                     0   \n97                               2                                     0   \n98                               0                                     0   \n99                               0                                     0   \n\n     event  protocol  \n0   borrow     vesta  \n1   borrow     vesta  \n2   borrow     vesta  \n3   borrow     vesta  \n4   borrow     vesta  \n..     ...       ...  \n95  borrow     vesta  \n96  borrow     vesta  \n97  borrow     vesta  \n98  borrow     vesta  \n99  borrow     vesta  \n\n[100 rows x 80 columns]",
      "text/html": "<div>\n<style scoped>\n    .dataframe tbody tr th:only-of-type {\n        vertical-align: middle;\n    }\n\n    .dataframe tbody tr th {\n        vertical-align: top;\n    }\n\n    .dataframe thead th {\n        text-align: right;\n    }\n</style>\n<table border=\"1\" class=\"dataframe\">\n  <thead>\n    <tr style=\"text-align: right;\">\n      <th></th>\n      <th>transaction_id</th>\n      <th>transaction_hash</th>\n      <th>transaction_logIndex</th>\n      <th>transaction_blockNumber</th>\n      <th>transaction_timestamp</th>\n      <th>transaction_account_id</th>\n      <th>transaction_account_positionCount</th>\n      <th>transaction_account_openPositionCount</th>\n      <th>transaction_account_closedPositionCount</th>\n      <th>transaction_account_depositCount</th>\n      <th>...</th>\n      <th>transaction_position_side</th>\n      <th>transaction_position_isCollateral</th>\n      <th>transaction_position_balance</th>\n      <th>transaction_position_depositCount</th>\n      <th>transaction_position_withdrawCount</th>\n      <th>transaction_position_borrowCount</th>\n      <th>transaction_position_repayCount</th>\n      <th>transaction_position_liquidationCount</th>\n      <th>event</th>\n      <th>protocol</th>\n    </tr>\n  </thead>\n  <tbody>\n    <tr>\n      <th>0</th>\n      <td>borrow-0x0b6ce781cafec4a4ebbd7247a9149f944ab5e...</td>\n      <td>0x0b6ce781cafec4a4ebbd7247a9149f944ab5ecab3091...</td>\n      <td>37</td>\n      <td>60666606</td>\n      <td>1676323500</td>\n      <td>0xc9e166f2737e004e93800dcef0d608b014df07f6</td>\n      <td>25</td>\n      <td>4</td>\n      <td>21</td>\n      <td>16</td>\n      <td>...</td>\n      <td>BORROWER</td>\n      <td>None</td>\n      <td>3715000215319514977712</td>\n      <td>0</td>\n      <td>0</td>\n      <td>31</td>\n      <td>21</td>\n      <td>0</td>\n      <td>borrow</td>\n      <td>vesta</td>\n    </tr>\n    <tr>\n      <th>1</th>\n      <td>borrow-0xebfdf5464a23bb3c12a019bbbaca75ceac4ea...</td>\n      <td>0xebfdf5464a23bb3c12a019bbbaca75ceac4ea73a6cee...</td>\n      <td>45</td>\n      <td>60572308</td>\n      <td>1676296623</td>\n      <td>0xb9e291b68e584be657477289389b3a6deed3e34c</td>\n      <td>2</td>\n      <td>2</td>\n      <td>0</td>\n      <td>1</td>\n      <td>...</td>\n      <td>BORROWER</td>\n      <td>None</td>\n      <td>300000000000000000000</td>\n      <td>0</td>\n      <td>0</td>\n      <td>1</td>\n      <td>0</td>\n      <td>0</td>\n      <td>borrow</td>\n      <td>vesta</td>\n    </tr>\n    <tr>\n      <th>2</th>\n      <td>borrow-0x1b54e1c3ef70e868dbce6ee79aded1704c308...</td>\n      <td>0x1b54e1c3ef70e868dbce6ee79aded1704c308e4d38f9...</td>\n      <td>37</td>\n      <td>60125704</td>\n      <td>1676165223</td>\n      <td>0x6ae68eb2fa416fe091803fde014bbf7475468979</td>\n      <td>6</td>\n      <td>2</td>\n      <td>4</td>\n      <td>4</td>\n      <td>...</td>\n      <td>BORROWER</td>\n      <td>None</td>\n      <td>91776615499826319393959</td>\n      <td>0</td>\n      <td>0</td>\n      <td>1</td>\n      <td>0</td>\n      <td>0</td>\n      <td>borrow</td>\n      <td>vesta</td>\n    </tr>\n    <tr>\n      <th>3</th>\n      <td>borrow-0xa8530b80a3aae63661e62d05f9c83afc5e626...</td>\n      <td>0xa8530b80a3aae63661e62d05f9c83afc5e62634b5f4c...</td>\n      <td>45</td>\n      <td>60064234</td>\n      <td>1676142977</td>\n      <td>0xa13f3599ff620500f360dc6185ad30f625ebfc38</td>\n      <td>2</td>\n      <td>2</td>\n      <td>0</td>\n      <td>1</td>\n      <td>...</td>\n      <td>BORROWER</td>\n      <td>None</td>\n      <td>1614690000000000000000</td>\n      <td>0</td>\n      <td>0</td>\n      <td>1</td>\n      <td>0</td>\n      <td>0</td>\n      <td>borrow</td>\n      <td>vesta</td>\n    </tr>\n    <tr>\n      <th>4</th>\n      <td>borrow-0x0712c2c572f53f272b382289d178c5801205e...</td>\n      <td>0x0712c2c572f53f272b382289d178c5801205eb0b7c99...</td>\n      <td>45</td>\n      <td>59984711</td>\n      <td>1676119566</td>\n      <td>0x67fa1561c5f5631de08e38d4484e0df67872f626</td>\n      <td>2</td>\n      <td>2</td>\n      <td>0</td>\n      <td>1</td>\n      <td>...</td>\n      <td>BORROWER</td>\n      <td>None</td>\n      <td>6000370000000000000000</td>\n      <td>0</td>\n      <td>0</td>\n      <td>1</td>\n      <td>0</td>\n      <td>0</td>\n      <td>borrow</td>\n      <td>vesta</td>\n    </tr>\n    <tr>\n      <th>...</th>\n      <td>...</td>\n      <td>...</td>\n      <td>...</td>\n      <td>...</td>\n      <td>...</td>\n      <td>...</td>\n      <td>...</td>\n      <td>...</td>\n      <td>...</td>\n      <td>...</td>\n      <td>...</td>\n      <td>...</td>\n      <td>...</td>\n      <td>...</td>\n      <td>...</td>\n      <td>...</td>\n      <td>...</td>\n      <td>...</td>\n      <td>...</td>\n      <td>...</td>\n      <td>...</td>\n    </tr>\n    <tr>\n      <th>95</th>\n      <td>borrow-0x194e2bb92ce2f2cb168458102d1cbc79ed9bb...</td>\n      <td>0x194e2bb92ce2f2cb168458102d1cbc79ed9bbd7757bd...</td>\n      <td>34</td>\n      <td>48754692</td>\n      <td>1671973124</td>\n      <td>0xc9e166f2737e004e93800dcef0d608b014df07f6</td>\n      <td>25</td>\n      <td>4</td>\n      <td>21</td>\n      <td>16</td>\n      <td>...</td>\n      <td>BORROWER</td>\n      <td>None</td>\n      <td>3715000215319514977712</td>\n      <td>0</td>\n      <td>0</td>\n      <td>31</td>\n      <td>21</td>\n      <td>0</td>\n      <td>borrow</td>\n      <td>vesta</td>\n    </tr>\n    <tr>\n      <th>96</th>\n      <td>borrow-0x882593f140df3ff51511a47c7cb3c433e4a4c...</td>\n      <td>0x882593f140df3ff51511a47c7cb3c433e4a4c44a12c9...</td>\n      <td>34</td>\n      <td>48435322</td>\n      <td>1671865683</td>\n      <td>0xded5d8c6b271a48f3b9ba20e8aa761a6baa2fac9</td>\n      <td>5</td>\n      <td>1</td>\n      <td>4</td>\n      <td>4</td>\n      <td>...</td>\n      <td>BORROWER</td>\n      <td>None</td>\n      <td>160000052081071608108226</td>\n      <td>0</td>\n      <td>0</td>\n      <td>12</td>\n      <td>0</td>\n      <td>0</td>\n      <td>borrow</td>\n      <td>vesta</td>\n    </tr>\n    <tr>\n      <th>97</th>\n      <td>borrow-0xc502f9e5eb845a34d721e418dd597bb64e15a...</td>\n      <td>0xc502f9e5eb845a34d721e418dd597bb64e15abace157...</td>\n      <td>29</td>\n      <td>48288379</td>\n      <td>1671802945</td>\n      <td>0x0561a78021d8966ddd20c28c6c4318d8675ee1f0</td>\n      <td>152</td>\n      <td>0</td>\n      <td>152</td>\n      <td>132</td>\n      <td>...</td>\n      <td>BORROWER</td>\n      <td>None</td>\n      <td>0</td>\n      <td>0</td>\n      <td>0</td>\n      <td>1</td>\n      <td>2</td>\n      <td>0</td>\n      <td>borrow</td>\n      <td>vesta</td>\n    </tr>\n    <tr>\n      <th>98</th>\n      <td>borrow-0xd6835e5cc616cf65b8f46c3fb685c7d436206...</td>\n      <td>0xd6835e5cc616cf65b8f46c3fb685c7d4362061621bc4...</td>\n      <td>34</td>\n      <td>48094577</td>\n      <td>1671731058</td>\n      <td>0x804157889ac56a4e50278610c67960c1605a3264</td>\n      <td>16</td>\n      <td>2</td>\n      <td>14</td>\n      <td>24</td>\n      <td>...</td>\n      <td>BORROWER</td>\n      <td>None</td>\n      <td>11558591208330249968994</td>\n      <td>0</td>\n      <td>0</td>\n      <td>11</td>\n      <td>0</td>\n      <td>0</td>\n      <td>borrow</td>\n      <td>vesta</td>\n    </tr>\n    <tr>\n      <th>99</th>\n      <td>borrow-0xdbceaecbce8edc0d0d07d87f907a46c50c0e3...</td>\n      <td>0xdbceaecbce8edc0d0d07d87f907a46c50c0e33884ce3...</td>\n      <td>42</td>\n      <td>47726191</td>\n      <td>1671602208</td>\n      <td>0x73831e7c600f48cebbbff957b466be8e5c087f34</td>\n      <td>4</td>\n      <td>3</td>\n      <td>1</td>\n      <td>5</td>\n      <td>...</td>\n      <td>BORROWER</td>\n      <td>None</td>\n      <td>6423430000000000000000</td>\n      <td>0</td>\n      <td>0</td>\n      <td>1</td>\n      <td>0</td>\n      <td>0</td>\n      <td>borrow</td>\n      <td>vesta</td>\n    </tr>\n  </tbody>\n</table>\n<p>100 rows × 80 columns</p>\n</div>"
     },
     "execution_count": 6,
     "metadata": {},
     "output_type": "execute_result"
    }
   ],
   "source": [
    "vestaBorrowsDb.head(100)"
   ],
   "metadata": {
    "collapsed": false
   }
  },
  {
   "cell_type": "code",
   "execution_count": 7,
   "outputs": [
    {
     "name": "stdout",
     "output_type": "stream",
     "text": [
      "iterations:  0 Lines skipped:  0 records collected:  1000  - latest recordID:  0xac8ecdaf59200e43e6e6233bcd31728b0db4bc5435932aef9921cf35ba9fc003   repay-0xac8ecdaf59200e43e6e6233bcd31728b0db4bc5435932aef9921cf35ba9fc003-26  - vestaRepays DB length:  1000  - latest record from:  2023-02-12 22:51:18 1 days ago\n",
      "iterations:  1 Lines skipped:  1000 records collected:  993  - latest recordID:  0x9633a7166f3744cde872b630378d9eaeec5f0da82d7384673c164c12250486c0   repay-0x9633a7166f3744cde872b630378d9eaeec5f0da82d7384673c164c12250486c0-26  - vestaRepays DB length:  1993  - latest record from:  2023-02-12 22:44:00 1 days ago\n",
      "Done. Total Records collected:  1993\n"
     ]
    }
   ],
   "source": [
    "##this tracks the ENTIRE list of events for vestaRepaying the VST repaid against gOHM\n",
    "vestaRepayTicker = 0\n",
    "vestaRepayslist = pd.DataFrame()\n",
    "vestaRepaysDb = pd.DataFrame()\n",
    "vestaRepayListLength = 1000\n",
    "datediff = 0\n",
    "now=0\n",
    "daysAgo=0\n",
    "daysLimit = 45\n",
    "exit = False\n",
    "while exit==False:\n",
    "    skipValue = (vestaRepayTicker)*(1000)\n",
    "    vestaRepays = vesta.Query.repays(\n",
    "        orderBy='timestamp',\n",
    "        orderDirection='desc',\n",
    "        first=1000,\n",
    "        skip = skipValue,\n",
    "        where={ 'market': '0x8d9ba570d6cb60c7e3e0f31343efe75ab8e65fb1' } #gOHM market\n",
    "\n",
    "    )\n",
    "\n",
    "    vestaRepayslist = sg.query_df([\n",
    "        vestaRepays.id\n",
    "        ,vestaRepays.hash\n",
    "        ,vestaRepays.logIndex\n",
    "        ,vestaRepays.blockNumber\n",
    "        ,vestaRepays.timestamp\n",
    "        ,vestaRepays.account\n",
    "        ,vestaRepays.market\n",
    "        ,vestaRepays.market.rates\n",
    "        ,vestaRepays.asset\n",
    "        ,vestaRepays.amount\n",
    "        ,vestaRepays.amountUSD\n",
    "        ,vestaRepays.position\n",
    "    ])\n",
    "\n",
    "    #vestaRepayslist.sort_values(by=['vestaRepays_timestamp'])\n",
    "\n",
    "    vestaRepaysDb=pd.concat([vestaRepaysDb, vestaRepayslist])\n",
    "    recordTimestamp1 = vestaRepaysDb.iat[vestaRepayTicker,4]\n",
    "    recordTimestamp = dt.datetime.fromtimestamp( recordTimestamp1 )\n",
    "    now = (int(dt.datetime.utcnow().timestamp()))\n",
    "    datediff=abs(int(now) - recordTimestamp1)\n",
    "    daysAgo = int(datediff/86400)\n",
    "    vestaRepaysDbLength = len(vestaRepaysDb)\n",
    "    vestaRepayListLength = len(vestaRepayslist)\n",
    "    recordID = vestaRepaysDb.iat[vestaRepayTicker,0]\n",
    "    vestaRepay = vestaRepaysDb.iat[vestaRepayTicker,1]\n",
    "    print(\"iterations: \", vestaRepayTicker, \"Lines skipped: \",skipValue, \"records collected: \", vestaRepayListLength, \" - latest recordID: \",vestaRepay, \" \", recordID , \" - vestaRepays DB length: \", vestaRepaysDbLength, \" - latest record from: \", recordTimestamp, daysAgo,\"days ago\")\n",
    "    #print(\"iterations: \", vestaRepayTicker, \"records collected: \", vestaRepayListLength, \" - userdb length: \", vestaRepaysDbLength)\n",
    "    vestaRepayTicker = vestaRepayTicker+1\n",
    "\n",
    "    if daysAgo>daysLimit: exit =True\n",
    "    if vestaRepayListLength<1000: exit =True\n",
    "\n",
    "vestaRepaysDb.columns = vestaRepaysDb.columns.str.replace(\"repays\", \"transaction\")\n",
    "vestaRepaysDb['event']='Repay'\n",
    "vestaRepaysDb['protocol']='vesta'\n",
    "print(\"Done. Total Records collected: \", vestaRepaysDbLength)"
   ],
   "metadata": {
    "collapsed": false
   }
  },
  {
   "cell_type": "code",
   "execution_count": 8,
   "outputs": [
    {
     "data": {
      "text/plain": "                                      transaction_id  \\\n0  repay-0xac8ecdaf59200e43e6e6233bcd31728b0db4bc...   \n1  repay-0x9633a7166f3744cde872b630378d9eaeec5f0d...   \n2  repay-0x851007fa5a8371105a73452ccbd7a0a4eb976e...   \n3  repay-0xa243d87a35b20328eac5637a6db98058707cd0...   \n4  repay-0xdee0c294dd70fb50547428f7e6d6ea6b135cb8...   \n5  repay-0xd6e3c80447789b02b1b9282c1624d5885a19f4...   \n6  repay-0xae8658b03d6aee809d73702ece0d60ced1b6be...   \n7  repay-0xa02ca5cb2651d3bd78de426c9c010eea013be5...   \n8  repay-0x44899a838a0d9eaf2f48a95594a3b1041bcbdf...   \n9  repay-0x91f5c48839b978c11fbbe3f9502c5538060257...   \n\n                                    transaction_hash  transaction_logIndex  \\\n0  0xac8ecdaf59200e43e6e6233bcd31728b0db4bc543593...                    26   \n1  0x9633a7166f3744cde872b630378d9eaeec5f0da82d73...                    26   \n2  0x851007fa5a8371105a73452ccbd7a0a4eb976e7d2c12...                    32   \n3  0xa243d87a35b20328eac5637a6db98058707cd0161df6...                    61   \n4  0xdee0c294dd70fb50547428f7e6d6ea6b135cb8a4d75a...                    33   \n5  0xd6e3c80447789b02b1b9282c1624d5885a19f40712bd...                    25   \n6  0xae8658b03d6aee809d73702ece0d60ced1b6be240b82...                    58   \n7  0xa02ca5cb2651d3bd78de426c9c010eea013be53c8843...                    23   \n8  0x44899a838a0d9eaf2f48a95594a3b1041bcbdfabe482...                    29   \n9  0x91f5c48839b978c11fbbe3f9502c55380602570911ec...                    29   \n\n   transaction_blockNumber  transaction_timestamp  \\\n0                 60476974             1676271078   \n1                 60475459             1676270640   \n2                 59865436             1676083788   \n3                 59508912             1675978810   \n4                 59130546             1675866794   \n5                 59010222             1675835228   \n6                 58773043             1675767985   \n7                 58627462             1675722780   \n8                 58627282             1675722712   \n9                 58336925             1675634888   \n\n                       transaction_account_id  \\\n0  0x6c01ec9622e50799d62ca076f2e2aa34dc840d5b   \n1  0x5c9d09716404556646b0b4567cb4621c18581f94   \n2  0xc9e166f2737e004e93800dcef0d608b014df07f6   \n3  0xf5d0318692f822680b733955828a25507f031c95   \n4  0x515755b2c5a209976cf0de869c30f45ac7495a60   \n5  0x7ee54ab0f204bb3a83df90fdd824d8b4abe93222   \n6  0x09fc8cd1d422e77cef172ef85cda1953915a8b74   \n7  0xfa4dfbe7b012b1d92fdd5544f30518bb58bd41ce   \n8  0xfa4dfbe7b012b1d92fdd5544f30518bb58bd41ce   \n9  0xe2a4de267cdd4ff5ed9ba13552f5c624b12db9b2   \n\n   transaction_account_positionCount  transaction_account_openPositionCount  \\\n0                                  4                                      0   \n1                                  5                                      0   \n2                                 25                                      4   \n3                                  2                                      0   \n4                                  6                                      0   \n5                                  3                                      0   \n6                                  2                                      0   \n7                                  2                                      0   \n8                                  2                                      0   \n9                                 20                                      6   \n\n   transaction_account_closedPositionCount  transaction_account_depositCount  \\\n0                                        4                                 1   \n1                                        5                                 1   \n2                                       21                                16   \n3                                        2                                 1   \n4                                        6                                12   \n5                                        3                                 1   \n6                                        2                                 1   \n7                                        2                                 1   \n8                                        2                                 1   \n9                                       14                                65   \n\n   ...  transaction_position_side  transaction_position_isCollateral  \\\n0  ...                   BORROWER                               None   \n1  ...                   BORROWER                               None   \n2  ...                   BORROWER                               None   \n3  ...                   BORROWER                               None   \n4  ...                   BORROWER                               None   \n5  ...                   BORROWER                               None   \n6  ...                   BORROWER                               None   \n7  ...                   BORROWER                               None   \n8  ...                   BORROWER                               None   \n9  ...                   BORROWER                               None   \n\n   transaction_position_balance  transaction_position_depositCount  \\\n0                             0                                  0   \n1                             0                                  0   \n2        3715000215319514977712                                  0   \n3                             0                                  0   \n4                             0                                  0   \n5                             0                                  0   \n6                             0                                  0   \n7                             0                                  0   \n8                             0                                  0   \n9       78903329999999999121255                                  0   \n\n   transaction_position_withdrawCount transaction_position_borrowCount  \\\n0                                   0                                2   \n1                                   0                                2   \n2                                   0                               31   \n3                                   0                                1   \n4                                   0                                1   \n5                                   0                                1   \n6                                   0                                1   \n7                                   0                                1   \n8                                   0                                1   \n9                                   0                                6   \n\n  transaction_position_repayCount transaction_position_liquidationCount  \\\n0                               2                                     0   \n1                               3                                     0   \n2                              21                                     0   \n3                               1                                     0   \n4                               1                                     0   \n5                               3                                     0   \n6                               1                                     0   \n7                               2                                     0   \n8                               2                                     0   \n9                               1                                     0   \n\n   event  protocol  \n0  Repay     vesta  \n1  Repay     vesta  \n2  Repay     vesta  \n3  Repay     vesta  \n4  Repay     vesta  \n5  Repay     vesta  \n6  Repay     vesta  \n7  Repay     vesta  \n8  Repay     vesta  \n9  Repay     vesta  \n\n[10 rows x 80 columns]",
      "text/html": "<div>\n<style scoped>\n    .dataframe tbody tr th:only-of-type {\n        vertical-align: middle;\n    }\n\n    .dataframe tbody tr th {\n        vertical-align: top;\n    }\n\n    .dataframe thead th {\n        text-align: right;\n    }\n</style>\n<table border=\"1\" class=\"dataframe\">\n  <thead>\n    <tr style=\"text-align: right;\">\n      <th></th>\n      <th>transaction_id</th>\n      <th>transaction_hash</th>\n      <th>transaction_logIndex</th>\n      <th>transaction_blockNumber</th>\n      <th>transaction_timestamp</th>\n      <th>transaction_account_id</th>\n      <th>transaction_account_positionCount</th>\n      <th>transaction_account_openPositionCount</th>\n      <th>transaction_account_closedPositionCount</th>\n      <th>transaction_account_depositCount</th>\n      <th>...</th>\n      <th>transaction_position_side</th>\n      <th>transaction_position_isCollateral</th>\n      <th>transaction_position_balance</th>\n      <th>transaction_position_depositCount</th>\n      <th>transaction_position_withdrawCount</th>\n      <th>transaction_position_borrowCount</th>\n      <th>transaction_position_repayCount</th>\n      <th>transaction_position_liquidationCount</th>\n      <th>event</th>\n      <th>protocol</th>\n    </tr>\n  </thead>\n  <tbody>\n    <tr>\n      <th>0</th>\n      <td>repay-0xac8ecdaf59200e43e6e6233bcd31728b0db4bc...</td>\n      <td>0xac8ecdaf59200e43e6e6233bcd31728b0db4bc543593...</td>\n      <td>26</td>\n      <td>60476974</td>\n      <td>1676271078</td>\n      <td>0x6c01ec9622e50799d62ca076f2e2aa34dc840d5b</td>\n      <td>4</td>\n      <td>0</td>\n      <td>4</td>\n      <td>1</td>\n      <td>...</td>\n      <td>BORROWER</td>\n      <td>None</td>\n      <td>0</td>\n      <td>0</td>\n      <td>0</td>\n      <td>2</td>\n      <td>2</td>\n      <td>0</td>\n      <td>Repay</td>\n      <td>vesta</td>\n    </tr>\n    <tr>\n      <th>1</th>\n      <td>repay-0x9633a7166f3744cde872b630378d9eaeec5f0d...</td>\n      <td>0x9633a7166f3744cde872b630378d9eaeec5f0da82d73...</td>\n      <td>26</td>\n      <td>60475459</td>\n      <td>1676270640</td>\n      <td>0x5c9d09716404556646b0b4567cb4621c18581f94</td>\n      <td>5</td>\n      <td>0</td>\n      <td>5</td>\n      <td>1</td>\n      <td>...</td>\n      <td>BORROWER</td>\n      <td>None</td>\n      <td>0</td>\n      <td>0</td>\n      <td>0</td>\n      <td>2</td>\n      <td>3</td>\n      <td>0</td>\n      <td>Repay</td>\n      <td>vesta</td>\n    </tr>\n    <tr>\n      <th>2</th>\n      <td>repay-0x851007fa5a8371105a73452ccbd7a0a4eb976e...</td>\n      <td>0x851007fa5a8371105a73452ccbd7a0a4eb976e7d2c12...</td>\n      <td>32</td>\n      <td>59865436</td>\n      <td>1676083788</td>\n      <td>0xc9e166f2737e004e93800dcef0d608b014df07f6</td>\n      <td>25</td>\n      <td>4</td>\n      <td>21</td>\n      <td>16</td>\n      <td>...</td>\n      <td>BORROWER</td>\n      <td>None</td>\n      <td>3715000215319514977712</td>\n      <td>0</td>\n      <td>0</td>\n      <td>31</td>\n      <td>21</td>\n      <td>0</td>\n      <td>Repay</td>\n      <td>vesta</td>\n    </tr>\n    <tr>\n      <th>3</th>\n      <td>repay-0xa243d87a35b20328eac5637a6db98058707cd0...</td>\n      <td>0xa243d87a35b20328eac5637a6db98058707cd0161df6...</td>\n      <td>61</td>\n      <td>59508912</td>\n      <td>1675978810</td>\n      <td>0xf5d0318692f822680b733955828a25507f031c95</td>\n      <td>2</td>\n      <td>0</td>\n      <td>2</td>\n      <td>1</td>\n      <td>...</td>\n      <td>BORROWER</td>\n      <td>None</td>\n      <td>0</td>\n      <td>0</td>\n      <td>0</td>\n      <td>1</td>\n      <td>1</td>\n      <td>0</td>\n      <td>Repay</td>\n      <td>vesta</td>\n    </tr>\n    <tr>\n      <th>4</th>\n      <td>repay-0xdee0c294dd70fb50547428f7e6d6ea6b135cb8...</td>\n      <td>0xdee0c294dd70fb50547428f7e6d6ea6b135cb8a4d75a...</td>\n      <td>33</td>\n      <td>59130546</td>\n      <td>1675866794</td>\n      <td>0x515755b2c5a209976cf0de869c30f45ac7495a60</td>\n      <td>6</td>\n      <td>0</td>\n      <td>6</td>\n      <td>12</td>\n      <td>...</td>\n      <td>BORROWER</td>\n      <td>None</td>\n      <td>0</td>\n      <td>0</td>\n      <td>0</td>\n      <td>1</td>\n      <td>1</td>\n      <td>0</td>\n      <td>Repay</td>\n      <td>vesta</td>\n    </tr>\n    <tr>\n      <th>5</th>\n      <td>repay-0xd6e3c80447789b02b1b9282c1624d5885a19f4...</td>\n      <td>0xd6e3c80447789b02b1b9282c1624d5885a19f40712bd...</td>\n      <td>25</td>\n      <td>59010222</td>\n      <td>1675835228</td>\n      <td>0x7ee54ab0f204bb3a83df90fdd824d8b4abe93222</td>\n      <td>3</td>\n      <td>0</td>\n      <td>3</td>\n      <td>1</td>\n      <td>...</td>\n      <td>BORROWER</td>\n      <td>None</td>\n      <td>0</td>\n      <td>0</td>\n      <td>0</td>\n      <td>1</td>\n      <td>3</td>\n      <td>0</td>\n      <td>Repay</td>\n      <td>vesta</td>\n    </tr>\n    <tr>\n      <th>6</th>\n      <td>repay-0xae8658b03d6aee809d73702ece0d60ced1b6be...</td>\n      <td>0xae8658b03d6aee809d73702ece0d60ced1b6be240b82...</td>\n      <td>58</td>\n      <td>58773043</td>\n      <td>1675767985</td>\n      <td>0x09fc8cd1d422e77cef172ef85cda1953915a8b74</td>\n      <td>2</td>\n      <td>0</td>\n      <td>2</td>\n      <td>1</td>\n      <td>...</td>\n      <td>BORROWER</td>\n      <td>None</td>\n      <td>0</td>\n      <td>0</td>\n      <td>0</td>\n      <td>1</td>\n      <td>1</td>\n      <td>0</td>\n      <td>Repay</td>\n      <td>vesta</td>\n    </tr>\n    <tr>\n      <th>7</th>\n      <td>repay-0xa02ca5cb2651d3bd78de426c9c010eea013be5...</td>\n      <td>0xa02ca5cb2651d3bd78de426c9c010eea013be53c8843...</td>\n      <td>23</td>\n      <td>58627462</td>\n      <td>1675722780</td>\n      <td>0xfa4dfbe7b012b1d92fdd5544f30518bb58bd41ce</td>\n      <td>2</td>\n      <td>0</td>\n      <td>2</td>\n      <td>1</td>\n      <td>...</td>\n      <td>BORROWER</td>\n      <td>None</td>\n      <td>0</td>\n      <td>0</td>\n      <td>0</td>\n      <td>1</td>\n      <td>2</td>\n      <td>0</td>\n      <td>Repay</td>\n      <td>vesta</td>\n    </tr>\n    <tr>\n      <th>8</th>\n      <td>repay-0x44899a838a0d9eaf2f48a95594a3b1041bcbdf...</td>\n      <td>0x44899a838a0d9eaf2f48a95594a3b1041bcbdfabe482...</td>\n      <td>29</td>\n      <td>58627282</td>\n      <td>1675722712</td>\n      <td>0xfa4dfbe7b012b1d92fdd5544f30518bb58bd41ce</td>\n      <td>2</td>\n      <td>0</td>\n      <td>2</td>\n      <td>1</td>\n      <td>...</td>\n      <td>BORROWER</td>\n      <td>None</td>\n      <td>0</td>\n      <td>0</td>\n      <td>0</td>\n      <td>1</td>\n      <td>2</td>\n      <td>0</td>\n      <td>Repay</td>\n      <td>vesta</td>\n    </tr>\n    <tr>\n      <th>9</th>\n      <td>repay-0x91f5c48839b978c11fbbe3f9502c5538060257...</td>\n      <td>0x91f5c48839b978c11fbbe3f9502c55380602570911ec...</td>\n      <td>29</td>\n      <td>58336925</td>\n      <td>1675634888</td>\n      <td>0xe2a4de267cdd4ff5ed9ba13552f5c624b12db9b2</td>\n      <td>20</td>\n      <td>6</td>\n      <td>14</td>\n      <td>65</td>\n      <td>...</td>\n      <td>BORROWER</td>\n      <td>None</td>\n      <td>78903329999999999121255</td>\n      <td>0</td>\n      <td>0</td>\n      <td>6</td>\n      <td>1</td>\n      <td>0</td>\n      <td>Repay</td>\n      <td>vesta</td>\n    </tr>\n  </tbody>\n</table>\n<p>10 rows × 80 columns</p>\n</div>"
     },
     "execution_count": 8,
     "metadata": {},
     "output_type": "execute_result"
    }
   ],
   "source": [
    "vestaRepaysDb.head(10)"
   ],
   "metadata": {
    "collapsed": false
   }
  },
  {
   "cell_type": "code",
   "execution_count": 9,
   "outputs": [
    {
     "data": {
      "text/plain": "                transaction_position_account_id  totalUsdBorrowed  \\\n0    0xc9e166f2737e004e93800dcef0d608b014df07f6      4.245545e+05   \n1    0x6ae68eb2fa416fe091803fde014bbf7475468979      4.277411e+05   \n2    0x15bae977db3b62ceb5a67921fae589fd80624e8d      1.048820e+08   \n3    0x7723c45fb37092ee65202db7a2fe562c5fe0ab48      1.125132e+04   \n4    0x515755b2c5a209976cf0de869c30f45ac7495a60      1.032425e+05   \n..                                          ...               ...   \n429  0xc267422835a1d3ebd99c835de5d638487dd94124      2.515183e+03   \n430  0x1d3db45f912c74de554409c1ad0d27dbcb26b726      2.025300e+05   \n431  0x311ddf76c51051c9a32653d692f7a78fd6e48106      1.042500e+03   \n432  0x9371a03a0f8343c34218f4130640081da75c4689      5.065500e+04   \n433  0x0921d88c612ca10aaa15a706540ff88de1f0891f      1.774875e+04   \n\n     borrow_transactions  totalUsdRepaid  repay_transactions  netUsdBalance  \n0                     31   510628.251708                  21  -8.607379e+04  \n1                      4   488255.761734                   2  -6.051465e+04  \n2                      4   596731.767138                 150   1.042853e+08  \n3                      5     6376.099291                   6   4.875220e+03  \n4                      4   206364.919344                   2  -1.031225e+05  \n..                   ...             ...                 ...            ...  \n429                    2             NaN                   0            NaN  \n430                    1             NaN                   0            NaN  \n431                    1             NaN                   0            NaN  \n432                    1             NaN                   0            NaN  \n433                    1             NaN                   0            NaN  \n\n[434 rows x 6 columns]",
      "text/html": "<div>\n<style scoped>\n    .dataframe tbody tr th:only-of-type {\n        vertical-align: middle;\n    }\n\n    .dataframe tbody tr th {\n        vertical-align: top;\n    }\n\n    .dataframe thead th {\n        text-align: right;\n    }\n</style>\n<table border=\"1\" class=\"dataframe\">\n  <thead>\n    <tr style=\"text-align: right;\">\n      <th></th>\n      <th>transaction_position_account_id</th>\n      <th>totalUsdBorrowed</th>\n      <th>borrow_transactions</th>\n      <th>totalUsdRepaid</th>\n      <th>repay_transactions</th>\n      <th>netUsdBalance</th>\n    </tr>\n  </thead>\n  <tbody>\n    <tr>\n      <th>0</th>\n      <td>0xc9e166f2737e004e93800dcef0d608b014df07f6</td>\n      <td>4.245545e+05</td>\n      <td>31</td>\n      <td>510628.251708</td>\n      <td>21</td>\n      <td>-8.607379e+04</td>\n    </tr>\n    <tr>\n      <th>1</th>\n      <td>0x6ae68eb2fa416fe091803fde014bbf7475468979</td>\n      <td>4.277411e+05</td>\n      <td>4</td>\n      <td>488255.761734</td>\n      <td>2</td>\n      <td>-6.051465e+04</td>\n    </tr>\n    <tr>\n      <th>2</th>\n      <td>0x15bae977db3b62ceb5a67921fae589fd80624e8d</td>\n      <td>1.048820e+08</td>\n      <td>4</td>\n      <td>596731.767138</td>\n      <td>150</td>\n      <td>1.042853e+08</td>\n    </tr>\n    <tr>\n      <th>3</th>\n      <td>0x7723c45fb37092ee65202db7a2fe562c5fe0ab48</td>\n      <td>1.125132e+04</td>\n      <td>5</td>\n      <td>6376.099291</td>\n      <td>6</td>\n      <td>4.875220e+03</td>\n    </tr>\n    <tr>\n      <th>4</th>\n      <td>0x515755b2c5a209976cf0de869c30f45ac7495a60</td>\n      <td>1.032425e+05</td>\n      <td>4</td>\n      <td>206364.919344</td>\n      <td>2</td>\n      <td>-1.031225e+05</td>\n    </tr>\n    <tr>\n      <th>...</th>\n      <td>...</td>\n      <td>...</td>\n      <td>...</td>\n      <td>...</td>\n      <td>...</td>\n      <td>...</td>\n    </tr>\n    <tr>\n      <th>429</th>\n      <td>0xc267422835a1d3ebd99c835de5d638487dd94124</td>\n      <td>2.515183e+03</td>\n      <td>2</td>\n      <td>NaN</td>\n      <td>0</td>\n      <td>NaN</td>\n    </tr>\n    <tr>\n      <th>430</th>\n      <td>0x1d3db45f912c74de554409c1ad0d27dbcb26b726</td>\n      <td>2.025300e+05</td>\n      <td>1</td>\n      <td>NaN</td>\n      <td>0</td>\n      <td>NaN</td>\n    </tr>\n    <tr>\n      <th>431</th>\n      <td>0x311ddf76c51051c9a32653d692f7a78fd6e48106</td>\n      <td>1.042500e+03</td>\n      <td>1</td>\n      <td>NaN</td>\n      <td>0</td>\n      <td>NaN</td>\n    </tr>\n    <tr>\n      <th>432</th>\n      <td>0x9371a03a0f8343c34218f4130640081da75c4689</td>\n      <td>5.065500e+04</td>\n      <td>1</td>\n      <td>NaN</td>\n      <td>0</td>\n      <td>NaN</td>\n    </tr>\n    <tr>\n      <th>433</th>\n      <td>0x0921d88c612ca10aaa15a706540ff88de1f0891f</td>\n      <td>1.774875e+04</td>\n      <td>1</td>\n      <td>NaN</td>\n      <td>0</td>\n      <td>NaN</td>\n    </tr>\n  </tbody>\n</table>\n<p>434 rows × 6 columns</p>\n</div>"
     },
     "execution_count": 9,
     "metadata": {},
     "output_type": "execute_result"
    }
   ],
   "source": [
    "balances = db.query(\n",
    "    \"Select \"\n",
    "    \"   A.transaction_position_account_id \"\n",
    "    \"   ,sum(A.transaction_amountUSD) totalUsdBorrowed \"\n",
    "    \"   ,count(distinct A.transaction_id) borrow_transactions \"\n",
    "    \"   ,sum(B.transaction_amountUSD) totalUsdRepaid \"\n",
    "    \"   ,count(distinct B.transaction_id) repay_transactions \"\n",
    "    \"   ,sum(A.transaction_amountUSD) -sum(B.transaction_amountUSD) netUsdBalance \"\n",
    "    \"From vestaBorrowsDb A left outer join vestaRepaysDb B \"\n",
    "        \"on A.transaction_position_account_id = B.transaction_position_account_id \"\n",
    "    \"Group by 1 \"\n",
    ").df()\n",
    "balances.head(10000)"
   ],
   "metadata": {
    "collapsed": false
   }
  },
  {
   "cell_type": "code",
   "execution_count": null,
   "outputs": [],
   "source": [],
   "metadata": {
    "collapsed": false
   }
  },
  {
   "cell_type": "code",
   "execution_count": 49,
   "outputs": [
    {
     "data": {
      "text/plain": "                                        transaction_id  \\\n50   borrow-0x91004cc1169082e83039e044446da5e0c99ac...   \n380  borrow-0x82d29f62312491ce3d0f36dbdb69871897a48...   \n361  borrow-0xb57274061cd0023a1bfde66ef9752cfd409fd...   \n985  repay-0xc6d2cc92892f2f959e7541e8ae2f2abee245bf...   \n267  borrow-0x57f81166a353d23b2ee8e47b6748dfb90b628...   \n..                                                 ...   \n779  repay-0x19c8abb34c314ca6cb0ca0d995f42316e20a39...   \n778  repay-0x30e20cd22584c4635ed3e9530c613cf5874f61...   \n936  borrow-0x5d5feffbd13fadea07888a07525e1f155c26a...   \n632  repay-0x04436ebdd2a880172ba72e85a43aa57b3b9a5f...   \n178  borrow-0x6ad0a47a690f0abd5e0758b3a71703bfef78b...   \n\n                                      transaction_hash  transaction_logIndex  \\\n50   0x91004cc1169082e83039e044446da5e0c99ace028cdd...                    42   \n380  0x82d29f62312491ce3d0f36dbdb69871897a489e38240...                    18   \n361  0xb57274061cd0023a1bfde66ef9752cfd409fdd3000e9...                     9   \n985  0xc6d2cc92892f2f959e7541e8ae2f2abee245bf2ecfe3...                     4   \n267  0x57f81166a353d23b2ee8e47b6748dfb90b62870f7aff...                    18   \n..                                                 ...                   ...   \n779  0x19c8abb34c314ca6cb0ca0d995f42316e20a39eb41b6...                     4   \n778  0x30e20cd22584c4635ed3e9530c613cf5874f61c73185...                     4   \n936  0x5d5feffbd13fadea07888a07525e1f155c26a03e9805...                    18   \n632  0x04436ebdd2a880172ba72e85a43aa57b3b9a5ff5875d...                     3   \n178  0x6ad0a47a690f0abd5e0758b3a71703bfef78b5fc1ca5...                    18   \n\n     transaction_blockNumber  transaction_timestamp  \\\n50                  54024990             1674103068   \n380                  5699866             1644387457   \n361                  5703973             1644391251   \n985                  5744385             1644438194   \n267                  5760221             1644455450   \n..                       ...                    ...   \n779                 28381570             1664911292   \n778                 28382128             1664911724   \n936                 10679246             1651079531   \n632                 10679749             1651079945   \n178                  6117846             1644942212   \n\n                         transaction_account_id  \\\n50   0x002525a77d262dd11ec63c9146a821b11564ce29   \n380  0x002ee33092457900515a4249e3ec1cd2b2dc8c32   \n361  0x002ee33092457900515a4249e3ec1cd2b2dc8c32   \n985  0x002ee33092457900515a4249e3ec1cd2b2dc8c32   \n267  0x00ad3c523b715cbd6cc1771f1a1743269b220fa4   \n..                                          ...   \n779  0xfd9e6fd73a0694057b632d8d3d4925d99c374306   \n778  0xfd9e6fd73a0694057b632d8d3d4925d99c374306   \n936  0xfda1215797d29414e588b2e62fc390ee2949aaaa   \n632  0xfda1215797d29414e588b2e62fc390ee2949aaaa   \n178  0xffba44c15fe2768bc2234078dfac8c5a651a56e9   \n\n     transaction_account_positionCount  transaction_account_openPositionCount  \\\n50                                   2                                      2   \n380                                  6                                      0   \n361                                  6                                      0   \n985                                  6                                      0   \n267                                  4                                      0   \n..                                 ...                                    ...   \n779                                  2                                      2   \n778                                  2                                      2   \n936                                  2                                      0   \n632                                  2                                      0   \n178                                  2                                      0   \n\n     transaction_account_closedPositionCount  \\\n50                                         0   \n380                                        6   \n361                                        6   \n985                                        6   \n267                                        4   \n..                                       ...   \n779                                        0   \n778                                        0   \n936                                        2   \n632                                        2   \n178                                        2   \n\n     transaction_account_depositCount  ...  transaction_position_side  \\\n50                                  1  ...                   BORROWER   \n380                                 3  ...                   BORROWER   \n361                                 3  ...                   BORROWER   \n985                                 3  ...                   BORROWER   \n267                                 2  ...                   BORROWER   \n..                                ...  ...                        ...   \n779                                 2  ...                   BORROWER   \n778                                 2  ...                   BORROWER   \n936                                 1  ...                   BORROWER   \n632                                 1  ...                   BORROWER   \n178                                 1  ...                   BORROWER   \n\n     transaction_position_isCollateral  transaction_position_balance  \\\n50                                None       45000000000000000000000   \n380                               None                             0   \n361                               None                             0   \n985                               None                             0   \n267                               None                             0   \n..                                 ...                           ...   \n779                               None       41581000000000001716586   \n778                               None       41581000000000001716586   \n936                               None                             0   \n632                               None                             0   \n178                               None                             0   \n\n     transaction_position_depositCount  transaction_position_withdrawCount  \\\n50                                   0                                   0   \n380                                  0                                   0   \n361                                  0                                   0   \n985                                  0                                   0   \n267                                  0                                   0   \n..                                 ...                                 ...   \n779                                  0                                   0   \n778                                  0                                   0   \n936                                  0                                   0   \n632                                  0                                   0   \n178                                  0                                   0   \n\n    transaction_position_borrowCount transaction_position_repayCount  \\\n50                                 1                               0   \n380                                2                               1   \n361                                2                               1   \n985                                2                               1   \n267                                1                               2   \n..                               ...                             ...   \n779                                3                               4   \n778                                3                               4   \n936                                1                               1   \n632                                1                               1   \n178                                1                               0   \n\n    transaction_position_liquidationCount   event  protocol  \n50                                      0  borrow     vesta  \n380                                     0  borrow     vesta  \n361                                     0  borrow     vesta  \n985                                     0   Repay     vesta  \n267                                     0  borrow     vesta  \n..                                    ...     ...       ...  \n779                                     0   Repay     vesta  \n778                                     0   Repay     vesta  \n936                                     0  borrow     vesta  \n632                                     0   Repay     vesta  \n178                                     1  borrow     vesta  \n\n[3395 rows x 80 columns]",
      "text/html": "<div>\n<style scoped>\n    .dataframe tbody tr th:only-of-type {\n        vertical-align: middle;\n    }\n\n    .dataframe tbody tr th {\n        vertical-align: top;\n    }\n\n    .dataframe thead th {\n        text-align: right;\n    }\n</style>\n<table border=\"1\" class=\"dataframe\">\n  <thead>\n    <tr style=\"text-align: right;\">\n      <th></th>\n      <th>transaction_id</th>\n      <th>transaction_hash</th>\n      <th>transaction_logIndex</th>\n      <th>transaction_blockNumber</th>\n      <th>transaction_timestamp</th>\n      <th>transaction_account_id</th>\n      <th>transaction_account_positionCount</th>\n      <th>transaction_account_openPositionCount</th>\n      <th>transaction_account_closedPositionCount</th>\n      <th>transaction_account_depositCount</th>\n      <th>...</th>\n      <th>transaction_position_side</th>\n      <th>transaction_position_isCollateral</th>\n      <th>transaction_position_balance</th>\n      <th>transaction_position_depositCount</th>\n      <th>transaction_position_withdrawCount</th>\n      <th>transaction_position_borrowCount</th>\n      <th>transaction_position_repayCount</th>\n      <th>transaction_position_liquidationCount</th>\n      <th>event</th>\n      <th>protocol</th>\n    </tr>\n  </thead>\n  <tbody>\n    <tr>\n      <th>50</th>\n      <td>borrow-0x91004cc1169082e83039e044446da5e0c99ac...</td>\n      <td>0x91004cc1169082e83039e044446da5e0c99ace028cdd...</td>\n      <td>42</td>\n      <td>54024990</td>\n      <td>1674103068</td>\n      <td>0x002525a77d262dd11ec63c9146a821b11564ce29</td>\n      <td>2</td>\n      <td>2</td>\n      <td>0</td>\n      <td>1</td>\n      <td>...</td>\n      <td>BORROWER</td>\n      <td>None</td>\n      <td>45000000000000000000000</td>\n      <td>0</td>\n      <td>0</td>\n      <td>1</td>\n      <td>0</td>\n      <td>0</td>\n      <td>borrow</td>\n      <td>vesta</td>\n    </tr>\n    <tr>\n      <th>380</th>\n      <td>borrow-0x82d29f62312491ce3d0f36dbdb69871897a48...</td>\n      <td>0x82d29f62312491ce3d0f36dbdb69871897a489e38240...</td>\n      <td>18</td>\n      <td>5699866</td>\n      <td>1644387457</td>\n      <td>0x002ee33092457900515a4249e3ec1cd2b2dc8c32</td>\n      <td>6</td>\n      <td>0</td>\n      <td>6</td>\n      <td>3</td>\n      <td>...</td>\n      <td>BORROWER</td>\n      <td>None</td>\n      <td>0</td>\n      <td>0</td>\n      <td>0</td>\n      <td>2</td>\n      <td>1</td>\n      <td>0</td>\n      <td>borrow</td>\n      <td>vesta</td>\n    </tr>\n    <tr>\n      <th>361</th>\n      <td>borrow-0xb57274061cd0023a1bfde66ef9752cfd409fd...</td>\n      <td>0xb57274061cd0023a1bfde66ef9752cfd409fdd3000e9...</td>\n      <td>9</td>\n      <td>5703973</td>\n      <td>1644391251</td>\n      <td>0x002ee33092457900515a4249e3ec1cd2b2dc8c32</td>\n      <td>6</td>\n      <td>0</td>\n      <td>6</td>\n      <td>3</td>\n      <td>...</td>\n      <td>BORROWER</td>\n      <td>None</td>\n      <td>0</td>\n      <td>0</td>\n      <td>0</td>\n      <td>2</td>\n      <td>1</td>\n      <td>0</td>\n      <td>borrow</td>\n      <td>vesta</td>\n    </tr>\n    <tr>\n      <th>985</th>\n      <td>repay-0xc6d2cc92892f2f959e7541e8ae2f2abee245bf...</td>\n      <td>0xc6d2cc92892f2f959e7541e8ae2f2abee245bf2ecfe3...</td>\n      <td>4</td>\n      <td>5744385</td>\n      <td>1644438194</td>\n      <td>0x002ee33092457900515a4249e3ec1cd2b2dc8c32</td>\n      <td>6</td>\n      <td>0</td>\n      <td>6</td>\n      <td>3</td>\n      <td>...</td>\n      <td>BORROWER</td>\n      <td>None</td>\n      <td>0</td>\n      <td>0</td>\n      <td>0</td>\n      <td>2</td>\n      <td>1</td>\n      <td>0</td>\n      <td>Repay</td>\n      <td>vesta</td>\n    </tr>\n    <tr>\n      <th>267</th>\n      <td>borrow-0x57f81166a353d23b2ee8e47b6748dfb90b628...</td>\n      <td>0x57f81166a353d23b2ee8e47b6748dfb90b62870f7aff...</td>\n      <td>18</td>\n      <td>5760221</td>\n      <td>1644455450</td>\n      <td>0x00ad3c523b715cbd6cc1771f1a1743269b220fa4</td>\n      <td>4</td>\n      <td>0</td>\n      <td>4</td>\n      <td>2</td>\n      <td>...</td>\n      <td>BORROWER</td>\n      <td>None</td>\n      <td>0</td>\n      <td>0</td>\n      <td>0</td>\n      <td>1</td>\n      <td>2</td>\n      <td>0</td>\n      <td>borrow</td>\n      <td>vesta</td>\n    </tr>\n    <tr>\n      <th>...</th>\n      <td>...</td>\n      <td>...</td>\n      <td>...</td>\n      <td>...</td>\n      <td>...</td>\n      <td>...</td>\n      <td>...</td>\n      <td>...</td>\n      <td>...</td>\n      <td>...</td>\n      <td>...</td>\n      <td>...</td>\n      <td>...</td>\n      <td>...</td>\n      <td>...</td>\n      <td>...</td>\n      <td>...</td>\n      <td>...</td>\n      <td>...</td>\n      <td>...</td>\n      <td>...</td>\n    </tr>\n    <tr>\n      <th>779</th>\n      <td>repay-0x19c8abb34c314ca6cb0ca0d995f42316e20a39...</td>\n      <td>0x19c8abb34c314ca6cb0ca0d995f42316e20a39eb41b6...</td>\n      <td>4</td>\n      <td>28381570</td>\n      <td>1664911292</td>\n      <td>0xfd9e6fd73a0694057b632d8d3d4925d99c374306</td>\n      <td>2</td>\n      <td>2</td>\n      <td>0</td>\n      <td>2</td>\n      <td>...</td>\n      <td>BORROWER</td>\n      <td>None</td>\n      <td>41581000000000001716586</td>\n      <td>0</td>\n      <td>0</td>\n      <td>3</td>\n      <td>4</td>\n      <td>0</td>\n      <td>Repay</td>\n      <td>vesta</td>\n    </tr>\n    <tr>\n      <th>778</th>\n      <td>repay-0x30e20cd22584c4635ed3e9530c613cf5874f61...</td>\n      <td>0x30e20cd22584c4635ed3e9530c613cf5874f61c73185...</td>\n      <td>4</td>\n      <td>28382128</td>\n      <td>1664911724</td>\n      <td>0xfd9e6fd73a0694057b632d8d3d4925d99c374306</td>\n      <td>2</td>\n      <td>2</td>\n      <td>0</td>\n      <td>2</td>\n      <td>...</td>\n      <td>BORROWER</td>\n      <td>None</td>\n      <td>41581000000000001716586</td>\n      <td>0</td>\n      <td>0</td>\n      <td>3</td>\n      <td>4</td>\n      <td>0</td>\n      <td>Repay</td>\n      <td>vesta</td>\n    </tr>\n    <tr>\n      <th>936</th>\n      <td>borrow-0x5d5feffbd13fadea07888a07525e1f155c26a...</td>\n      <td>0x5d5feffbd13fadea07888a07525e1f155c26a03e9805...</td>\n      <td>18</td>\n      <td>10679246</td>\n      <td>1651079531</td>\n      <td>0xfda1215797d29414e588b2e62fc390ee2949aaaa</td>\n      <td>2</td>\n      <td>0</td>\n      <td>2</td>\n      <td>1</td>\n      <td>...</td>\n      <td>BORROWER</td>\n      <td>None</td>\n      <td>0</td>\n      <td>0</td>\n      <td>0</td>\n      <td>1</td>\n      <td>1</td>\n      <td>0</td>\n      <td>borrow</td>\n      <td>vesta</td>\n    </tr>\n    <tr>\n      <th>632</th>\n      <td>repay-0x04436ebdd2a880172ba72e85a43aa57b3b9a5f...</td>\n      <td>0x04436ebdd2a880172ba72e85a43aa57b3b9a5ff5875d...</td>\n      <td>3</td>\n      <td>10679749</td>\n      <td>1651079945</td>\n      <td>0xfda1215797d29414e588b2e62fc390ee2949aaaa</td>\n      <td>2</td>\n      <td>0</td>\n      <td>2</td>\n      <td>1</td>\n      <td>...</td>\n      <td>BORROWER</td>\n      <td>None</td>\n      <td>0</td>\n      <td>0</td>\n      <td>0</td>\n      <td>1</td>\n      <td>1</td>\n      <td>0</td>\n      <td>Repay</td>\n      <td>vesta</td>\n    </tr>\n    <tr>\n      <th>178</th>\n      <td>borrow-0x6ad0a47a690f0abd5e0758b3a71703bfef78b...</td>\n      <td>0x6ad0a47a690f0abd5e0758b3a71703bfef78b5fc1ca5...</td>\n      <td>18</td>\n      <td>6117846</td>\n      <td>1644942212</td>\n      <td>0xffba44c15fe2768bc2234078dfac8c5a651a56e9</td>\n      <td>2</td>\n      <td>0</td>\n      <td>2</td>\n      <td>1</td>\n      <td>...</td>\n      <td>BORROWER</td>\n      <td>None</td>\n      <td>0</td>\n      <td>0</td>\n      <td>0</td>\n      <td>1</td>\n      <td>0</td>\n      <td>1</td>\n      <td>borrow</td>\n      <td>vesta</td>\n    </tr>\n  </tbody>\n</table>\n<p>3395 rows × 80 columns</p>\n</div>"
     },
     "execution_count": 49,
     "metadata": {},
     "output_type": "execute_result"
    }
   ],
   "source": [
    "vestaTxnsDb = pd.concat([vestaBorrowsDb, vestaRepaysDb])\n",
    "vestaTxnsDb.sort_values(by=['transaction_position_account_id', 'transaction_timestamp'])"
   ],
   "metadata": {
    "collapsed": false
   }
  },
  {
   "cell_type": "code",
   "execution_count": 70,
   "outputs": [
    {
     "data": {
      "text/plain": "                        transaction_account_id  \\\n0   0x002525a77d262dd11ec63c9146a821b11564ce29   \n1   0x002ee33092457900515a4249e3ec1cd2b2dc8c32   \n2   0x002ee33092457900515a4249e3ec1cd2b2dc8c32   \n3   0x002ee33092457900515a4249e3ec1cd2b2dc8c32   \n4   0x0089c97abf56b6122de5d52d41eda521f188eb12   \n..                                         ...   \n95  0x0561a78021d8966ddd20c28c6c4318d8675ee1f0   \n96  0x0561a78021d8966ddd20c28c6c4318d8675ee1f0   \n97  0x0561a78021d8966ddd20c28c6c4318d8675ee1f0   \n98  0x0561a78021d8966ddd20c28c6c4318d8675ee1f0   \n99  0x0561a78021d8966ddd20c28c6c4318d8675ee1f0   \n\n                              transaction_position_id  transaction_timestamp  \\\n0   0x002525a77d262dd11ec63c9146a821b11564ce29-0x8...             1674103068   \n1   0x002ee33092457900515a4249e3ec1cd2b2dc8c32-0x8...             1644387457   \n2   0x002ee33092457900515a4249e3ec1cd2b2dc8c32-0x8...             1644391251   \n3   0x002ee33092457900515a4249e3ec1cd2b2dc8c32-0x8...             1644438194   \n4   0x552860bef1197918b7496d15e731b1b9439cf456-0x8...             1664208961   \n..                                                ...                    ...   \n95  0x0561a78021d8966ddd20c28c6c4318d8675ee1f0-0x8...             1667038797   \n96  0x0561a78021d8966ddd20c28c6c4318d8675ee1f0-0x8...             1667039744   \n97  0x0561a78021d8966ddd20c28c6c4318d8675ee1f0-0x8...             1667130790   \n98  0x0561a78021d8966ddd20c28c6c4318d8675ee1f0-0x8...             1667174058   \n99  0x0561a78021d8966ddd20c28c6c4318d8675ee1f0-0x8...             1667217837   \n\n     event  transaction_amountUSD  naturalAmount        balance  \n0   borrow           45000.000000   45000.000000   45000.000000  \n1   borrow           10155.000000   10155.000000   10155.000000  \n2   borrow            5062.500000    5062.500000   15217.500000  \n3    Repay           15217.500000  -15217.500000       0.000000  \n4    Repay               0.010000      -0.010000      -0.010000  \n..     ...                    ...            ...            ...  \n95  borrow           20270.251996   20270.251996  466106.484725  \n96   Repay            6494.008570   -6494.008570  459612.476156  \n97  borrow            6076.748754    6076.748754  465689.224910  \n98  borrow           10126.452891   10126.452891  475815.677801  \n99  borrow           10125.724039   10125.724039  485941.401840  \n\n[100 rows x 7 columns]",
      "text/html": "<div>\n<style scoped>\n    .dataframe tbody tr th:only-of-type {\n        vertical-align: middle;\n    }\n\n    .dataframe tbody tr th {\n        vertical-align: top;\n    }\n\n    .dataframe thead th {\n        text-align: right;\n    }\n</style>\n<table border=\"1\" class=\"dataframe\">\n  <thead>\n    <tr style=\"text-align: right;\">\n      <th></th>\n      <th>transaction_account_id</th>\n      <th>transaction_position_id</th>\n      <th>transaction_timestamp</th>\n      <th>event</th>\n      <th>transaction_amountUSD</th>\n      <th>naturalAmount</th>\n      <th>balance</th>\n    </tr>\n  </thead>\n  <tbody>\n    <tr>\n      <th>0</th>\n      <td>0x002525a77d262dd11ec63c9146a821b11564ce29</td>\n      <td>0x002525a77d262dd11ec63c9146a821b11564ce29-0x8...</td>\n      <td>1674103068</td>\n      <td>borrow</td>\n      <td>45000.000000</td>\n      <td>45000.000000</td>\n      <td>45000.000000</td>\n    </tr>\n    <tr>\n      <th>1</th>\n      <td>0x002ee33092457900515a4249e3ec1cd2b2dc8c32</td>\n      <td>0x002ee33092457900515a4249e3ec1cd2b2dc8c32-0x8...</td>\n      <td>1644387457</td>\n      <td>borrow</td>\n      <td>10155.000000</td>\n      <td>10155.000000</td>\n      <td>10155.000000</td>\n    </tr>\n    <tr>\n      <th>2</th>\n      <td>0x002ee33092457900515a4249e3ec1cd2b2dc8c32</td>\n      <td>0x002ee33092457900515a4249e3ec1cd2b2dc8c32-0x8...</td>\n      <td>1644391251</td>\n      <td>borrow</td>\n      <td>5062.500000</td>\n      <td>5062.500000</td>\n      <td>15217.500000</td>\n    </tr>\n    <tr>\n      <th>3</th>\n      <td>0x002ee33092457900515a4249e3ec1cd2b2dc8c32</td>\n      <td>0x002ee33092457900515a4249e3ec1cd2b2dc8c32-0x8...</td>\n      <td>1644438194</td>\n      <td>Repay</td>\n      <td>15217.500000</td>\n      <td>-15217.500000</td>\n      <td>0.000000</td>\n    </tr>\n    <tr>\n      <th>4</th>\n      <td>0x0089c97abf56b6122de5d52d41eda521f188eb12</td>\n      <td>0x552860bef1197918b7496d15e731b1b9439cf456-0x8...</td>\n      <td>1664208961</td>\n      <td>Repay</td>\n      <td>0.010000</td>\n      <td>-0.010000</td>\n      <td>-0.010000</td>\n    </tr>\n    <tr>\n      <th>...</th>\n      <td>...</td>\n      <td>...</td>\n      <td>...</td>\n      <td>...</td>\n      <td>...</td>\n      <td>...</td>\n      <td>...</td>\n    </tr>\n    <tr>\n      <th>95</th>\n      <td>0x0561a78021d8966ddd20c28c6c4318d8675ee1f0</td>\n      <td>0x0561a78021d8966ddd20c28c6c4318d8675ee1f0-0x8...</td>\n      <td>1667038797</td>\n      <td>borrow</td>\n      <td>20270.251996</td>\n      <td>20270.251996</td>\n      <td>466106.484725</td>\n    </tr>\n    <tr>\n      <th>96</th>\n      <td>0x0561a78021d8966ddd20c28c6c4318d8675ee1f0</td>\n      <td>0x0561a78021d8966ddd20c28c6c4318d8675ee1f0-0x8...</td>\n      <td>1667039744</td>\n      <td>Repay</td>\n      <td>6494.008570</td>\n      <td>-6494.008570</td>\n      <td>459612.476156</td>\n    </tr>\n    <tr>\n      <th>97</th>\n      <td>0x0561a78021d8966ddd20c28c6c4318d8675ee1f0</td>\n      <td>0x0561a78021d8966ddd20c28c6c4318d8675ee1f0-0x8...</td>\n      <td>1667130790</td>\n      <td>borrow</td>\n      <td>6076.748754</td>\n      <td>6076.748754</td>\n      <td>465689.224910</td>\n    </tr>\n    <tr>\n      <th>98</th>\n      <td>0x0561a78021d8966ddd20c28c6c4318d8675ee1f0</td>\n      <td>0x0561a78021d8966ddd20c28c6c4318d8675ee1f0-0x8...</td>\n      <td>1667174058</td>\n      <td>borrow</td>\n      <td>10126.452891</td>\n      <td>10126.452891</td>\n      <td>475815.677801</td>\n    </tr>\n    <tr>\n      <th>99</th>\n      <td>0x0561a78021d8966ddd20c28c6c4318d8675ee1f0</td>\n      <td>0x0561a78021d8966ddd20c28c6c4318d8675ee1f0-0x8...</td>\n      <td>1667217837</td>\n      <td>borrow</td>\n      <td>10125.724039</td>\n      <td>10125.724039</td>\n      <td>485941.401840</td>\n    </tr>\n  </tbody>\n</table>\n<p>100 rows × 7 columns</p>\n</div>"
     },
     "execution_count": 70,
     "metadata": {},
     "output_type": "execute_result"
    }
   ],
   "source": [
    "vestaTxnsSimpleDb = db.query(\n",
    "    \"with raw as (select \"\n",
    "        \" transaction_account_id \"\n",
    "    \", transaction_position_id\"\n",
    "    \", transaction_timestamp \"o'' \\\n",
    "                               ''\n",
    "    \", event \"\n",
    "    \", transaction_amountUsd \"\n",
    "    \",Case when event = 'borrow' then transaction_amountUsd else -transaction_amountUsd end naturalAmount \"\n",
    "    \"From vestaTxnsDb ) \"\n",
    "    \"SELECT \"\n",
    "    \"   * \"\n",
    "    \",sum(naturalAmount) over (partition by transaction_account_id order by transaction_timestamp asc) balance \"\n",
    "    \"from raw \").df()\n",
    "vestaTxnsSimpleDb.head(100)"
   ],
   "metadata": {
    "collapsed": false
   }
  }
 ],
 "metadata": {
  "kernelspec": {
   "display_name": "Python 3",
   "language": "python",
   "name": "python3"
  },
  "language_info": {
   "codemirror_mode": {
    "name": "ipython",
    "version": 2
   },
   "file_extension": ".py",
   "mimetype": "text/x-python",
   "name": "python",
   "nbconvert_exporter": "python",
   "pygments_lexer": "ipython2",
   "version": "2.7.6"
  }
 },
 "nbformat": 4,
 "nbformat_minor": 0
}
